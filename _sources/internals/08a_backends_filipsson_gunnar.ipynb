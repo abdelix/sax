{
  "cells": [
    {
      "cell_type": "code",
      "execution_count": 1,
      "id": "8afa1ba07770ef1b",
      "metadata": {
        "execution": {
          "iopub.execute_input": "2023-09-02T21:31:16.273033Z",
          "iopub.status.busy": "2023-09-02T21:31:16.272456Z",
          "iopub.status.idle": "2023-09-02T21:31:16.276450Z",
          "shell.execute_reply": "2023-09-02T21:31:16.275725Z"
        },
        "papermill": {
          "duration": 0.016156,
          "end_time": "2023-09-02T21:31:16.277978",
          "exception": false,
          "start_time": "2023-09-02T21:31:16.261822",
          "status": "completed"
        },
        "tags": [
          "remove-cell"
        ]
      },
      "outputs": [],
      "source": []
    },
    {
      "cell_type": "markdown",
      "id": "41e0d311",
      "metadata": {
        "papermill": {
          "duration": 0.008137,
          "end_time": "2023-09-02T21:31:16.293225",
          "exception": false,
          "start_time": "2023-09-02T21:31:16.285088",
          "status": "completed"
        },
        "tags": []
      },
      "source": [
        "# Backend - Filipsson Gunnar\n",
        "\n",
        "> Filipsson Gunnar Backend"
      ]
    },
    {
      "cell_type": "code",
      "execution_count": 2,
      "id": "83785390bd0d6067",
      "metadata": {
        "execution": {
          "iopub.execute_input": "2023-09-02T21:31:16.340712Z",
          "iopub.status.busy": "2023-09-02T21:31:16.340092Z",
          "iopub.status.idle": "2023-09-02T21:31:16.347444Z",
          "shell.execute_reply": "2023-09-02T21:31:16.346910Z"
        },
        "papermill": {
          "duration": 0.017057,
          "end_time": "2023-09-02T21:31:16.348917",
          "exception": false,
          "start_time": "2023-09-02T21:31:16.331860",
          "status": "completed"
        },
        "tags": [
          "remove-cell"
        ]
      },
      "outputs": [],
      "source": [
        "import os, sys; sys.stderr = open(os.devnull, \"w\")"
      ]
    },
    {
      "cell_type": "code",
      "execution_count": 3,
      "id": "a1f77cd2b7bb8e2b",
      "metadata": {
        "execution": {
          "iopub.execute_input": "2023-09-02T21:31:16.364292Z",
          "iopub.status.busy": "2023-09-02T21:31:16.363614Z",
          "iopub.status.idle": "2023-09-02T21:31:17.345695Z",
          "shell.execute_reply": "2023-09-02T21:31:17.345069Z"
        },
        "papermill": {
          "duration": 0.992482,
          "end_time": "2023-09-02T21:31:17.348285",
          "exception": false,
          "start_time": "2023-09-02T21:31:16.355803",
          "status": "completed"
        },
        "tags": [
          "hide-input"
        ]
      },
      "outputs": [],
      "source": [
        "from __future__ import annotations\n",
        "\n",
        "import warnings\n",
        "from types import SimpleNamespace\n",
        "from typing import Any, Dict\n",
        "\n",
        "try:\n",
        "    import jax\n",
        "    import jax.numpy as jnp\n",
        "    JAX_AVAILABLE = True\n",
        "except ImportError:\n",
        "    import numpy as jnp\n",
        "    def jit(func, *args, **kwargs):\n",
        "        warnings.warn(\"[NO JAX] skipping jit! Please install JAX!\")\n",
        "        return func\n",
        "    \n",
        "    jax = SimpleNamespace(jit=jit)\n",
        "    JAX_AVAILABLE = False\n",
        "    \n",
        "from sax.typing_ import SDense, SDict, SType, sdict"
      ]
    },
    {
      "cell_type": "markdown",
      "id": "d8369d2f-9109-4375-8cb4-6d7ccabbd356",
      "metadata": {
        "papermill": {
          "duration": 0.007463,
          "end_time": "2023-09-02T21:31:17.365063",
          "exception": false,
          "start_time": "2023-09-02T21:31:17.357600",
          "status": "completed"
        },
        "tags": []
      },
      "source": [
        "## Citation\n",
        "The default SAX backend is based on the following paper:\n",
        "\n",
        "> Filipsson, Gunnar. \"*A new general computer algorithm for S-matrix calculation of interconnected multiports.*\" 11th European Microwave Conference. IEEE, 1981."
      ]
    },
    {
      "cell_type": "markdown",
      "id": "08081414-cd3c-4fd7-91c5-15c54ec4d153",
      "metadata": {
        "papermill": {
          "duration": 0.006676,
          "end_time": "2023-09-02T21:31:17.378453",
          "exception": false,
          "start_time": "2023-09-02T21:31:17.371777",
          "status": "completed"
        },
        "tags": []
      },
      "source": [
        "## Circuit Analyzation"
      ]
    },
    {
      "cell_type": "markdown",
      "id": "bd0ef2b4cf307c9b",
      "metadata": {},
      "source": [
        ":::{eval-rst}\n",
        ".. autofunction:: sax.backends.filipsson_gunnar.analyze_circuit_fg\n",
        ":::\n"
      ]
    },
    {
      "cell_type": "code",
      "execution_count": 4,
      "id": "dff5a71ff2ad055b",
      "metadata": {
        "execution": {
          "iopub.execute_input": "2023-09-02T21:31:17.394303Z",
          "iopub.status.busy": "2023-09-02T21:31:17.393281Z",
          "iopub.status.idle": "2023-09-02T21:31:17.397279Z",
          "shell.execute_reply": "2023-09-02T21:31:17.396861Z"
        },
        "papermill": {
          "duration": 0.013526,
          "end_time": "2023-09-02T21:31:17.398545",
          "exception": false,
          "start_time": "2023-09-02T21:31:17.385019",
          "status": "completed"
        },
        "tags": [
          "hide-input"
        ]
      },
      "outputs": [],
      "source": [
        "\n",
        "def analyze_circuit_fg(connections: Dict[str, str], ports: Dict[str, str]) -> Any:\n",
        "    # skip analysis for now\n",
        "    return connections, ports"
      ]
    },
    {
      "cell_type": "markdown",
      "id": "feea9c4f-0528-44e0-8e87-91234c6d29cc",
      "metadata": {
        "papermill": {
          "duration": 0.006625,
          "end_time": "2023-09-02T21:31:17.411610",
          "exception": false,
          "start_time": "2023-09-02T21:31:17.404985",
          "status": "completed"
        },
        "tags": []
      },
      "source": [
        "## Circuit Evaluation"
      ]
    },
    {
      "cell_type": "markdown",
      "id": "b5eacf3b17367fa3",
      "metadata": {},
      "source": [
        ":::{eval-rst}\n",
        ".. autofunction:: sax.backends.filipsson_gunnar.evaluate_circuit_fg\n",
        ":::\n"
      ]
    },
    {
      "cell_type": "code",
      "execution_count": 5,
      "id": "007ba39f4e655d00",
      "metadata": {
        "execution": {
          "iopub.execute_input": "2023-09-02T21:31:17.426672Z",
          "iopub.status.busy": "2023-09-02T21:31:17.426055Z",
          "iopub.status.idle": "2023-09-02T21:31:17.439730Z",
          "shell.execute_reply": "2023-09-02T21:31:17.439271Z"
        },
        "papermill": {
          "duration": 0.023033,
          "end_time": "2023-09-02T21:31:17.441068",
          "exception": false,
          "start_time": "2023-09-02T21:31:17.418035",
          "status": "completed"
        },
        "tags": [
          "hide-input"
        ]
      },
      "outputs": [],
      "source": [
        "\n",
        "def evaluate_circuit_fg(\n",
        "    analyzed: Any,\n",
        "    instances: Dict[str, SType],\n",
        ") -> SDict:\n",
        "    \"\"\"evaluate a circuit for the given sdicts.\"\"\"\n",
        "    connections, ports = analyzed\n",
        "    \n",
        "    # it's actually easier working w reverse:\n",
        "    reversed_ports = {v: k for k, v in ports.items()}\n",
        "\n",
        "    block_diag = {}\n",
        "    for name, S in instances.items():\n",
        "        block_diag.update(\n",
        "            {(f\"{name},{p1}\", f\"{name},{p2}\"): v for (p1, p2), v in sdict(S).items()}\n",
        "        )\n",
        "\n",
        "    sorted_connections = sorted(connections.items(), key=_connections_sort_key)\n",
        "    all_connected_instances = {k: {k} for k in instances}\n",
        "\n",
        "    for k, l in sorted_connections:\n",
        "        name1, _ = k.split(\",\")\n",
        "        name2, _ = l.split(\",\")\n",
        "\n",
        "        connected_instances = (\n",
        "            all_connected_instances[name1] | all_connected_instances[name2]\n",
        "        )\n",
        "        for name in connected_instances:\n",
        "            all_connected_instances[name] = connected_instances\n",
        "\n",
        "        current_ports = tuple(\n",
        "            p\n",
        "            for instance in connected_instances\n",
        "            for p in set([p for p, _ in block_diag] + [p for _, p in block_diag])\n",
        "            if p.startswith(f\"{instance},\")\n",
        "        )\n",
        "\n",
        "        block_diag.update(_interconnect_ports(block_diag, current_ports, k, l))\n",
        "\n",
        "        for i, j in list(block_diag.keys()):\n",
        "            is_connected = i == k or i == l or j == k or j == l\n",
        "            is_in_output_ports = i in reversed_ports and j in reversed_ports\n",
        "            if is_connected and not is_in_output_ports:\n",
        "                del block_diag[i, j]  # we're no longer interested in these port combinations\n",
        "\n",
        "    circuit_sdict: SDict = {\n",
        "        (reversed_ports[i], reversed_ports[j]): v\n",
        "        for (i, j), v in block_diag.items()\n",
        "        if i in reversed_ports and j in reversed_ports\n",
        "    }\n",
        "    return circuit_sdict\n",
        "\n",
        "\n",
        "def _connections_sort_key(connection):\n",
        "    \"\"\"sort key for sorting a connection dictionary \"\"\"\n",
        "    part1, part2 = connection\n",
        "    name1, _ = part1.split(\",\")\n",
        "    name2, _ = part2.split(\",\")\n",
        "    return (min(name1, name2), max(name1, name2))\n",
        "\n",
        "\n",
        "def _interconnect_ports(block_diag, current_ports, k, l):\n",
        "    \"\"\"interconnect two ports in a given model\n",
        "\n",
        "    > Note: the interconnect algorithm is based on equation 6 of 'Filipsson, Gunnar. \n",
        "      \"A new general computer algorithm for S-matrix calculation of interconnected \n",
        "      multiports.\" 11th European Microwave Conference. IEEE, 1981.'\n",
        "    \"\"\"\n",
        "    current_block_diag = {}\n",
        "    for i in current_ports:\n",
        "        for j in current_ports:\n",
        "            vij = _calculate_interconnected_value(\n",
        "                vij=block_diag.get((i, j), 0.0),\n",
        "                vik=block_diag.get((i, k), 0.0),\n",
        "                vil=block_diag.get((i, l), 0.0),\n",
        "                vkj=block_diag.get((k, j), 0.0),\n",
        "                vkk=block_diag.get((k, k), 0.0),\n",
        "                vkl=block_diag.get((k, l), 0.0),\n",
        "                vlj=block_diag.get((l, j), 0.0),\n",
        "                vlk=block_diag.get((l, k), 0.0),\n",
        "                vll=block_diag.get((l, l), 0.0),\n",
        "            )\n",
        "            current_block_diag[i, j] = vij\n",
        "    return current_block_diag\n",
        "\n",
        "\n",
        "@jax.jit\n",
        "def _calculate_interconnected_value(vij, vik, vil, vkj, vkk, vkl, vlj, vlk, vll):\n",
        "    \"\"\"Calculate an interconnected S-parameter value\n",
        "\n",
        "    Note:\n",
        "        The interconnect algorithm is based on equation 6 in the paper below::\n",
        "\n",
        "          Filipsson, Gunnar. \"A new general computer algorithm for S-matrix calculation\n",
        "          of interconnected multiports.\" 11th European Microwave Conference. IEEE, 1981.\n",
        "    \"\"\"\n",
        "    result = vij + (\n",
        "        vkj * vil * (1 - vlk)\n",
        "        + vlj * vik * (1 - vkl)\n",
        "        + vkj * vll * vik\n",
        "        + vlj * vkk * vil\n",
        "    ) / ((1 - vkl) * (1 - vlk) - vkk * vll)\n",
        "    return result"
      ]
    },
    {
      "cell_type": "markdown",
      "id": "9dabee38",
      "metadata": {
        "papermill": {
          "duration": 0.006717,
          "end_time": "2023-09-02T21:31:17.454545",
          "exception": false,
          "start_time": "2023-09-02T21:31:17.447828",
          "status": "completed"
        },
        "tags": []
      },
      "source": [
        "## Example"
      ]
    },
    {
      "cell_type": "code",
      "execution_count": 6,
      "id": "5ab7ea6c",
      "metadata": {
        "execution": {
          "iopub.execute_input": "2023-09-02T21:31:17.470089Z",
          "iopub.status.busy": "2023-09-02T21:31:17.469385Z",
          "iopub.status.idle": "2023-09-02T21:31:18.326676Z",
          "shell.execute_reply": "2023-09-02T21:31:18.325865Z"
        },
        "papermill": {
          "duration": 0.866935,
          "end_time": "2023-09-02T21:31:18.328299",
          "exception": false,
          "start_time": "2023-09-02T21:31:17.461364",
          "status": "completed"
        },
        "tags": []
      },
      "outputs": [
        {
          "data": {
            "text/plain": [
              "{('in0', 'in0'): Array(0.+0.j, dtype=complex128),\n",
              " ('in0', 'in1'): Array(0.+0.j, dtype=complex128),\n",
              " ('in1', 'in0'): Array(0.+0.j, dtype=complex128),\n",
              " ('in1', 'in1'): Array(0.+0.j, dtype=complex128),\n",
              " ('out0', 'out0'): Array(0.+0.j, dtype=complex128),\n",
              " ('out0', 'out1'): Array(0.+0.j, dtype=complex128),\n",
              " ('out1', 'out0'): Array(0.+0.j, dtype=complex128),\n",
              " ('out1', 'out1'): Array(0.+0.j, dtype=complex128),\n",
              " ('out1', 'in1'): Array(0.25-0.433015j, dtype=complex128),\n",
              " ('out1', 'in0'): Array(-0.433015+0.75j, dtype=complex128),\n",
              " ('out0', 'in1'): Array(-0.433015+0.75j, dtype=complex128),\n",
              " ('out0', 'in0'): Array(-0.25+0.433015j, dtype=complex128),\n",
              " ('in1', 'out1'): Array(0.25-0.433015j, dtype=complex128),\n",
              " ('in1', 'out0'): Array(-0.433015+0.75j, dtype=complex128),\n",
              " ('in0', 'out1'): Array(-0.433015+0.75j, dtype=complex128),\n",
              " ('in0', 'out0'): Array(-0.25+0.433015j, dtype=complex128)}"
            ]
          },
          "execution_count": 6,
          "metadata": {},
          "output_type": "execute_result"
        }
      ],
      "source": [
        "wg_sdict: SDict = {\n",
        "    (\"in0\", \"out0\"): 0.5 + 0.86603j,\n",
        "    (\"out0\", \"in0\"): 0.5 + 0.86603j,\n",
        "}\n",
        "\n",
        "\u03c4, \u03ba = 0.5 ** 0.5, 1j * 0.5 ** 0.5\n",
        "dc_sdense: SDense = (\n",
        "    jnp.array([[0, 0, \u03c4, \u03ba], \n",
        "               [0, 0, \u03ba, \u03c4], \n",
        "               [\u03c4, \u03ba, 0, 0], \n",
        "               [\u03ba, \u03c4, 0, 0]]),\n",
        "    {\"in0\": 0, \"in1\": 1, \"out0\": 2, \"out1\": 3},\n",
        ")\n",
        "\n",
        "instances={\n",
        "    \"dc1\": dc_sdense,\n",
        "    \"wg\": wg_sdict,\n",
        "    \"dc2\": dc_sdense,\n",
        "}\n",
        "connections={\n",
        "    \"dc1,out0\": \"wg,in0\",\n",
        "    \"wg,out0\": \"dc2,in0\",\n",
        "    \"dc1,out1\": \"dc2,in1\",\n",
        "}\n",
        "ports={\n",
        "    \"in0\": \"dc1,in0\",\n",
        "    \"in1\": \"dc1,in1\",\n",
        "    \"out0\": \"dc2,out0\",\n",
        "    \"out1\": \"dc2,out1\",\n",
        "}\n",
        "\n",
        "mzi_sdict: SDict = evaluate_circuit_fg(\n",
        "    analyze_circuit_fg(connections, ports),\n",
        "    instances,\n",
        ")\n",
        "\n",
        "mzi_sdict"
      ]
    },
    {
      "cell_type": "markdown",
      "id": "48950a3d",
      "metadata": {
        "papermill": {
          "duration": 0.007072,
          "end_time": "2023-09-02T21:31:18.342540",
          "exception": false,
          "start_time": "2023-09-02T21:31:18.335468",
          "status": "completed"
        },
        "tags": []
      },
      "source": [
        "## Algorithm Walkthrough\n",
        "\n",
        "> Note: This algorithm gets pretty slow for large circuits. I'd be [very interested in any improvements](#Algorithm-Improvements) that can be made here, especially because - as opposed to the currently faster [KLU backend](./08b_backends_klu.ipynb) - the algorithm discussed here is jittable, differentiable and can be used on GPUs."
      ]
    },
    {
      "cell_type": "markdown",
      "id": "81e28766",
      "metadata": {
        "papermill": {
          "duration": 0.006963,
          "end_time": "2023-09-02T21:31:18.356615",
          "exception": false,
          "start_time": "2023-09-02T21:31:18.349652",
          "status": "completed"
        },
        "tags": []
      },
      "source": [
        "Let's walk through all the steps of this algorithm. We'll do this for a simple MZI circuit, given by two directional couplers characterised by `dc_sdense` with a phase shifting waveguide in between `wg_sdict`:"
      ]
    },
    {
      "cell_type": "code",
      "execution_count": 7,
      "id": "e2bdfbf4",
      "metadata": {
        "execution": {
          "iopub.execute_input": "2023-09-02T21:31:18.372884Z",
          "iopub.status.busy": "2023-09-02T21:31:18.372106Z",
          "iopub.status.idle": "2023-09-02T21:31:18.376325Z",
          "shell.execute_reply": "2023-09-02T21:31:18.375790Z"
        },
        "papermill": {
          "duration": 0.014079,
          "end_time": "2023-09-02T21:31:18.377755",
          "exception": false,
          "start_time": "2023-09-02T21:31:18.363676",
          "status": "completed"
        },
        "tags": []
      },
      "outputs": [],
      "source": [
        "instances={\n",
        "    \"dc1\": dc_sdense,\n",
        "    \"wg\": wg_sdict,\n",
        "    \"dc2\": dc_sdense,\n",
        "}\n",
        "connections={\n",
        "    \"dc1,out0\": \"wg,in0\",\n",
        "    \"wg,out0\": \"dc2,in0\",\n",
        "    \"dc1,out1\": \"dc2,in1\",\n",
        "}\n",
        "ports={\n",
        "    \"in0\": \"dc1,in0\",\n",
        "    \"in1\": \"dc1,in1\",\n",
        "    \"out0\": \"dc2,out0\",\n",
        "    \"out1\": \"dc2,out1\",\n",
        "}"
      ]
    },
    {
      "cell_type": "markdown",
      "id": "6ef72161",
      "metadata": {
        "papermill": {
          "duration": 0.007178,
          "end_time": "2023-09-02T21:31:18.391785",
          "exception": false,
          "start_time": "2023-09-02T21:31:18.384607",
          "status": "completed"
        },
        "tags": []
      },
      "source": [
        "as a first step, we construct the `reversed_ports`, it's actually easier to work with `reversed_ports` (we chose the opposite convention in the netlist definition to adhere to the GDSFactory netlist convention):"
      ]
    },
    {
      "cell_type": "code",
      "execution_count": 8,
      "id": "70302612",
      "metadata": {
        "execution": {
          "iopub.execute_input": "2023-09-02T21:31:18.407148Z",
          "iopub.status.busy": "2023-09-02T21:31:18.406606Z",
          "iopub.status.idle": "2023-09-02T21:31:18.410457Z",
          "shell.execute_reply": "2023-09-02T21:31:18.409944Z"
        },
        "papermill": {
          "duration": 0.013003,
          "end_time": "2023-09-02T21:31:18.411883",
          "exception": false,
          "start_time": "2023-09-02T21:31:18.398880",
          "status": "completed"
        },
        "tags": []
      },
      "outputs": [],
      "source": [
        "reversed_ports = {v: k for k, v in ports.items()}"
      ]
    },
    {
      "cell_type": "markdown",
      "id": "78676045",
      "metadata": {
        "papermill": {
          "duration": 0.006794,
          "end_time": "2023-09-02T21:31:18.425715",
          "exception": false,
          "start_time": "2023-09-02T21:31:18.418921",
          "status": "completed"
        },
        "tags": []
      },
      "source": [
        "The first real step of the algorithm is to create the 'block diagonal sdict`:"
      ]
    },
    {
      "cell_type": "code",
      "execution_count": 9,
      "id": "0ff6149f",
      "metadata": {
        "execution": {
          "iopub.execute_input": "2023-09-02T21:31:18.441511Z",
          "iopub.status.busy": "2023-09-02T21:31:18.440652Z",
          "iopub.status.idle": "2023-09-02T21:31:18.477224Z",
          "shell.execute_reply": "2023-09-02T21:31:18.476622Z"
        },
        "papermill": {
          "duration": 0.047199,
          "end_time": "2023-09-02T21:31:18.479683",
          "exception": false,
          "start_time": "2023-09-02T21:31:18.432484",
          "status": "completed"
        },
        "tags": []
      },
      "outputs": [],
      "source": [
        "block_diag = {}\n",
        "for name, S in instances.items():\n",
        "    block_diag.update(\n",
        "        {(f\"{name},{p1}\", f\"{name},{p2}\"): v for (p1, p2), v in sdict(S).items()}\n",
        "    )\n"
      ]
    },
    {
      "cell_type": "markdown",
      "id": "c4721548",
      "metadata": {
        "papermill": {
          "duration": 0.006848,
          "end_time": "2023-09-02T21:31:18.494233",
          "exception": false,
          "start_time": "2023-09-02T21:31:18.487385",
          "status": "completed"
        },
        "tags": []
      },
      "source": [
        "we can optionally filter out zeros from the resulting block_diag representation. Just note that this will make the resuling function unjittable (the resulting 'shape' (i.e. keys) of the dictionary would depend on the data itself, which is not allowed in JAX jit). We're doing it here to avoid printing zeros but **internally this is not done by default**."
      ]
    },
    {
      "cell_type": "code",
      "execution_count": 10,
      "id": "cfce53c1",
      "metadata": {
        "execution": {
          "iopub.execute_input": "2023-09-02T21:31:18.509930Z",
          "iopub.status.busy": "2023-09-02T21:31:18.509210Z",
          "iopub.status.idle": "2023-09-02T21:31:18.579244Z",
          "shell.execute_reply": "2023-09-02T21:31:18.578468Z"
        },
        "papermill": {
          "duration": 0.079517,
          "end_time": "2023-09-02T21:31:18.580744",
          "exception": false,
          "start_time": "2023-09-02T21:31:18.501227",
          "status": "completed"
        },
        "tags": []
      },
      "outputs": [
        {
          "name": "stdout",
          "output_type": "stream",
          "text": [
            "18\n"
          ]
        },
        {
          "data": {
            "text/plain": [
              "{('dc1,in0', 'dc1,out0'): Array(0.70710678+0.j, dtype=complex128),\n",
              " ('dc1,in0', 'dc1,out1'): Array(0.+0.70710678j, dtype=complex128),\n",
              " ('dc1,in1', 'dc1,out0'): Array(0.+0.70710678j, dtype=complex128),\n",
              " ('dc1,in1', 'dc1,out1'): Array(0.70710678+0.j, dtype=complex128),\n",
              " ('dc1,out0', 'dc1,in0'): Array(0.70710678+0.j, dtype=complex128),\n",
              " ('dc1,out0', 'dc1,in1'): Array(0.+0.70710678j, dtype=complex128),\n",
              " ('dc1,out1', 'dc1,in0'): Array(0.+0.70710678j, dtype=complex128),\n",
              " ('dc1,out1', 'dc1,in1'): Array(0.70710678+0.j, dtype=complex128),\n",
              " ('wg,in0', 'wg,out0'): (0.5+0.86603j),\n",
              " ('wg,out0', 'wg,in0'): (0.5+0.86603j),\n",
              " ('dc2,in0', 'dc2,out0'): Array(0.70710678+0.j, dtype=complex128),\n",
              " ('dc2,in0', 'dc2,out1'): Array(0.+0.70710678j, dtype=complex128),\n",
              " ('dc2,in1', 'dc2,out0'): Array(0.+0.70710678j, dtype=complex128),\n",
              " ('dc2,in1', 'dc2,out1'): Array(0.70710678+0.j, dtype=complex128),\n",
              " ('dc2,out0', 'dc2,in0'): Array(0.70710678+0.j, dtype=complex128),\n",
              " ('dc2,out0', 'dc2,in1'): Array(0.+0.70710678j, dtype=complex128),\n",
              " ('dc2,out1', 'dc2,in0'): Array(0.+0.70710678j, dtype=complex128),\n",
              " ('dc2,out1', 'dc2,in1'): Array(0.70710678+0.j, dtype=complex128)}"
            ]
          },
          "execution_count": 10,
          "metadata": {},
          "output_type": "execute_result"
        }
      ],
      "source": [
        "block_diag = {k: v for k, v in block_diag.items() if jnp.abs(v) > 1e-10}\n",
        "print(len(block_diag))\n",
        "block_diag"
      ]
    },
    {
      "cell_type": "markdown",
      "id": "1963694a",
      "metadata": {
        "papermill": {
          "duration": 0.007441,
          "end_time": "2023-09-02T21:31:18.595736",
          "exception": false,
          "start_time": "2023-09-02T21:31:18.588295",
          "status": "completed"
        },
        "tags": []
      },
      "source": [
        "next, we sort the connections such that similar components are grouped together:"
      ]
    },
    {
      "cell_type": "code",
      "execution_count": 11,
      "id": "9859c2d4",
      "metadata": {
        "execution": {
          "iopub.execute_input": "2023-09-02T21:31:18.612857Z",
          "iopub.status.busy": "2023-09-02T21:31:18.612160Z",
          "iopub.status.idle": "2023-09-02T21:31:18.616422Z",
          "shell.execute_reply": "2023-09-02T21:31:18.616049Z"
        },
        "papermill": {
          "duration": 0.014369,
          "end_time": "2023-09-02T21:31:18.617643",
          "exception": false,
          "start_time": "2023-09-02T21:31:18.603274",
          "status": "completed"
        },
        "tags": []
      },
      "outputs": [
        {
          "data": {
            "text/plain": [
              "[('dc1,out1', 'dc2,in1'), ('dc1,out0', 'wg,in0'), ('wg,out0', 'dc2,in0')]"
            ]
          },
          "execution_count": 11,
          "metadata": {},
          "output_type": "execute_result"
        }
      ],
      "source": [
        "sorted_connections = sorted(connections.items(), key=_connections_sort_key)\n",
        "sorted_connections"
      ]
    },
    {
      "cell_type": "markdown",
      "id": "c75fbf65",
      "metadata": {
        "papermill": {
          "duration": 0.007267,
          "end_time": "2023-09-02T21:31:18.632228",
          "exception": false,
          "start_time": "2023-09-02T21:31:18.624961",
          "status": "completed"
        },
        "tags": []
      },
      "source": [
        "Now we iterate over the sorted connections and connect components as they come in. Connected components take over the name of the first component in the connection, but we keep a set of components belonging to that key in `all_connected_instances`.\n",
        "\n",
        "This is how this `all_connected_instances` dictionary looks initially."
      ]
    },
    {
      "cell_type": "code",
      "execution_count": 12,
      "id": "cf30668c",
      "metadata": {
        "execution": {
          "iopub.execute_input": "2023-09-02T21:31:18.647899Z",
          "iopub.status.busy": "2023-09-02T21:31:18.647454Z",
          "iopub.status.idle": "2023-09-02T21:31:18.652536Z",
          "shell.execute_reply": "2023-09-02T21:31:18.651866Z"
        },
        "papermill": {
          "duration": 0.01464,
          "end_time": "2023-09-02T21:31:18.654124",
          "exception": false,
          "start_time": "2023-09-02T21:31:18.639484",
          "status": "completed"
        },
        "tags": []
      },
      "outputs": [
        {
          "data": {
            "text/plain": [
              "{'dc1': {'dc1'}, 'wg': {'wg'}, 'dc2': {'dc2'}}"
            ]
          },
          "execution_count": 12,
          "metadata": {},
          "output_type": "execute_result"
        }
      ],
      "source": [
        "all_connected_instances = {k: {k} for k in instances}\n",
        "all_connected_instances"
      ]
    },
    {
      "cell_type": "markdown",
      "id": "1152056b",
      "metadata": {
        "papermill": {
          "duration": 0.00739,
          "end_time": "2023-09-02T21:31:18.669012",
          "exception": false,
          "start_time": "2023-09-02T21:31:18.661622",
          "status": "completed"
        },
        "tags": []
      },
      "source": [
        "Normally we would loop over every connection in `sorted_connections` now, but let's just go through it once at first:"
      ]
    },
    {
      "cell_type": "code",
      "execution_count": 13,
      "id": "672070a34d41f4f1",
      "metadata": {
        "execution": {
          "iopub.execute_input": "2023-09-02T21:31:18.686510Z",
          "iopub.status.busy": "2023-09-02T21:31:18.685638Z",
          "iopub.status.idle": "2023-09-02T21:31:18.690423Z",
          "shell.execute_reply": "2023-09-02T21:31:18.689977Z"
        },
        "papermill": {
          "duration": 0.017032,
          "end_time": "2023-09-02T21:31:18.693646",
          "exception": false,
          "start_time": "2023-09-02T21:31:18.676614",
          "status": "completed"
        },
        "tags": []
      },
      "outputs": [
        {
          "data": {
            "text/plain": [
              "('dc1,out1', 'dc2,in1')"
            ]
          },
          "execution_count": 13,
          "metadata": {},
          "output_type": "execute_result"
        }
      ],
      "source": [
        "# for k, l in sorted_connections:\n",
        "k, l = sorted_connections[0]\n",
        "k, l"
      ]
    },
    {
      "cell_type": "markdown",
      "id": "16a2266c",
      "metadata": {
        "papermill": {
          "duration": 0.007217,
          "end_time": "2023-09-02T21:31:18.708851",
          "exception": false,
          "start_time": "2023-09-02T21:31:18.701634",
          "status": "completed"
        },
        "tags": []
      },
      "source": [
        "`k` and `l` are the S-matrix indices we're trying to connect. Note that in our sparse `SDict` notation these S-matrix indices are in fact equivalent with the port names `('dc1,out1', 'dc2,in1')`!"
      ]
    },
    {
      "cell_type": "markdown",
      "id": "0eaf4add",
      "metadata": {
        "papermill": {
          "duration": 0.007853,
          "end_time": "2023-09-02T21:31:18.724321",
          "exception": false,
          "start_time": "2023-09-02T21:31:18.716468",
          "status": "completed"
        },
        "tags": []
      },
      "source": [
        "first we split the connection string into an instance name and a port name (we don't use the port name yet):"
      ]
    },
    {
      "cell_type": "code",
      "execution_count": 14,
      "id": "667d1a3c",
      "metadata": {
        "execution": {
          "iopub.execute_input": "2023-09-02T21:31:18.740823Z",
          "iopub.status.busy": "2023-09-02T21:31:18.740070Z",
          "iopub.status.idle": "2023-09-02T21:31:18.743402Z",
          "shell.execute_reply": "2023-09-02T21:31:18.742987Z"
        },
        "papermill": {
          "duration": 0.013526,
          "end_time": "2023-09-02T21:31:18.745169",
          "exception": false,
          "start_time": "2023-09-02T21:31:18.731643",
          "status": "completed"
        },
        "tags": []
      },
      "outputs": [],
      "source": [
        "name1, _ = k.split(\",\")\n",
        "name2, _ = l.split(\",\")"
      ]
    },
    {
      "cell_type": "markdown",
      "id": "16e8bbe8",
      "metadata": {
        "papermill": {
          "duration": 0.007499,
          "end_time": "2023-09-02T21:31:18.760532",
          "exception": false,
          "start_time": "2023-09-02T21:31:18.753033",
          "status": "completed"
        },
        "tags": []
      },
      "source": [
        "We then obtain the new set of connected instances."
      ]
    },
    {
      "cell_type": "code",
      "execution_count": 15,
      "id": "51bf8615",
      "metadata": {
        "execution": {
          "iopub.execute_input": "2023-09-02T21:31:18.777959Z",
          "iopub.status.busy": "2023-09-02T21:31:18.777116Z",
          "iopub.status.idle": "2023-09-02T21:31:18.783364Z",
          "shell.execute_reply": "2023-09-02T21:31:18.782662Z"
        },
        "papermill": {
          "duration": 0.016746,
          "end_time": "2023-09-02T21:31:18.784853",
          "exception": false,
          "start_time": "2023-09-02T21:31:18.768107",
          "status": "completed"
        },
        "tags": []
      },
      "outputs": [
        {
          "data": {
            "text/plain": [
              "{'dc1', 'dc2'}"
            ]
          },
          "execution_count": 15,
          "metadata": {},
          "output_type": "execute_result"
        }
      ],
      "source": [
        "connected_instances = all_connected_instances[name1] | all_connected_instances[name2]\n",
        "connected_instances"
      ]
    },
    {
      "cell_type": "markdown",
      "id": "676c8d61",
      "metadata": {
        "papermill": {
          "duration": 0.00774,
          "end_time": "2023-09-02T21:31:18.800080",
          "exception": false,
          "start_time": "2023-09-02T21:31:18.792340",
          "status": "completed"
        },
        "tags": []
      },
      "source": [
        "We then iterate over each of the components in this set and make sure each of the component names in that set maps to that set (yes, I know... confusing). We do this to be able to keep track with which components each of the components in the circuit is currently already connected to."
      ]
    },
    {
      "cell_type": "code",
      "execution_count": 16,
      "id": "d322e86c",
      "metadata": {
        "execution": {
          "iopub.execute_input": "2023-09-02T21:31:18.818446Z",
          "iopub.status.busy": "2023-09-02T21:31:18.817594Z",
          "iopub.status.idle": "2023-09-02T21:31:18.823774Z",
          "shell.execute_reply": "2023-09-02T21:31:18.823351Z"
        },
        "papermill": {
          "duration": 0.01787,
          "end_time": "2023-09-02T21:31:18.825876",
          "exception": false,
          "start_time": "2023-09-02T21:31:18.808006",
          "status": "completed"
        },
        "tags": []
      },
      "outputs": [
        {
          "data": {
            "text/plain": [
              "{'dc1': {'dc1', 'dc2'}, 'wg': {'wg'}, 'dc2': {'dc1', 'dc2'}}"
            ]
          },
          "execution_count": 16,
          "metadata": {},
          "output_type": "execute_result"
        }
      ],
      "source": [
        "for name in connected_instances:\n",
        "    all_connected_instances[name] = connected_instances\n",
        "    \n",
        "all_connected_instances"
      ]
    },
    {
      "cell_type": "markdown",
      "id": "b79f49f8",
      "metadata": {
        "papermill": {
          "duration": 0.00819,
          "end_time": "2023-09-02T21:31:18.842782",
          "exception": false,
          "start_time": "2023-09-02T21:31:18.834592",
          "status": "completed"
        },
        "tags": []
      },
      "source": [
        "now we need to obtain all the ports of the currently connected instances."
      ]
    },
    {
      "cell_type": "code",
      "execution_count": 17,
      "id": "61b3cfab",
      "metadata": {
        "execution": {
          "iopub.execute_input": "2023-09-02T21:31:18.861261Z",
          "iopub.status.busy": "2023-09-02T21:31:18.860438Z",
          "iopub.status.idle": "2023-09-02T21:31:18.867609Z",
          "shell.execute_reply": "2023-09-02T21:31:18.867041Z"
        },
        "papermill": {
          "duration": 0.018137,
          "end_time": "2023-09-02T21:31:18.869054",
          "exception": false,
          "start_time": "2023-09-02T21:31:18.850917",
          "status": "completed"
        },
        "tags": []
      },
      "outputs": [
        {
          "data": {
            "text/plain": [
              "('dc2,in0',\n",
              " 'dc2,out1',\n",
              " 'dc2,out0',\n",
              " 'dc2,in1',\n",
              " 'dc1,in1',\n",
              " 'dc1,out0',\n",
              " 'dc1,out1',\n",
              " 'dc1,in0')"
            ]
          },
          "execution_count": 17,
          "metadata": {},
          "output_type": "execute_result"
        }
      ],
      "source": [
        "current_ports = tuple(\n",
        "    p\n",
        "    for instance in connected_instances\n",
        "    for p in set([p for p, _ in block_diag] + [p for _, p in block_diag])\n",
        "    if p.startswith(f\"{instance},\")\n",
        ")\n",
        "\n",
        "current_ports"
      ]
    },
    {
      "cell_type": "markdown",
      "id": "d0e87449",
      "metadata": {
        "papermill": {
          "duration": 0.008144,
          "end_time": "2023-09-02T21:31:18.885411",
          "exception": false,
          "start_time": "2023-09-02T21:31:18.877267",
          "status": "completed"
        },
        "tags": []
      },
      "source": [
        "Now the [Gunnar Algorithm](#citation) is used. Given a (block-diagonal) 'S-matrix' `block_diag` and a 'connection matrix' `current_ports` we can interconnect port `k` and `l` as follows:\n",
        "\n",
        "> Note: some creative freedom is used here. In SAX, the matrices we're talking about are in fact represented by a sparse dictionary (an `SDict`), i.e. similar to a COO sparse matrix for which the indices are the port names."
      ]
    },
    {
      "cell_type": "code",
      "execution_count": 18,
      "id": "431649e5",
      "metadata": {
        "execution": {
          "iopub.execute_input": "2023-09-02T21:31:18.904031Z",
          "iopub.status.busy": "2023-09-02T21:31:18.903032Z",
          "iopub.status.idle": "2023-09-02T21:31:19.492393Z",
          "shell.execute_reply": "2023-09-02T21:31:19.491744Z"
        },
        "papermill": {
          "duration": 0.601725,
          "end_time": "2023-09-02T21:31:19.495312",
          "exception": false,
          "start_time": "2023-09-02T21:31:18.893587",
          "status": "completed"
        },
        "tags": []
      },
      "outputs": [],
      "source": [
        "def _interconnect_ports(block_diag, current_ports, k, l):\n",
        "    current_block_diag = {}\n",
        "    for i in current_ports:\n",
        "        for j in current_ports:\n",
        "            vij = _calculate_interconnected_value(\n",
        "                vij=block_diag.get((i, j), 0.0),\n",
        "                vik=block_diag.get((i, k), 0.0),\n",
        "                vil=block_diag.get((i, l), 0.0),\n",
        "                vkj=block_diag.get((k, j), 0.0),\n",
        "                vkk=block_diag.get((k, k), 0.0),\n",
        "                vkl=block_diag.get((k, l), 0.0),\n",
        "                vlj=block_diag.get((l, j), 0.0),\n",
        "                vlk=block_diag.get((l, k), 0.0),\n",
        "                vll=block_diag.get((l, l), 0.0),\n",
        "            )\n",
        "            current_block_diag[i, j] = vij\n",
        "    return current_block_diag\n",
        "\n",
        "@jax.jit\n",
        "def _calculate_interconnected_value(vij, vik, vil, vkj, vkk, vkl, vlj, vlk, vll):\n",
        "    result = vij + (\n",
        "        vkj * vil * (1 - vlk)\n",
        "        + vlj * vik * (1 - vkl)\n",
        "        + vkj * vll * vik\n",
        "        + vlj * vkk * vil\n",
        "    ) / ((1 - vkl) * (1 - vlk) - vkk * vll)\n",
        "    return result\n",
        "\n",
        "block_diag.update(_interconnect_ports(block_diag, current_ports, k, l))"
      ]
    },
    {
      "cell_type": "markdown",
      "id": "988c08d9",
      "metadata": {
        "papermill": {
          "duration": 0.008814,
          "end_time": "2023-09-02T21:31:19.513865",
          "exception": false,
          "start_time": "2023-09-02T21:31:19.505051",
          "status": "completed"
        },
        "tags": []
      },
      "source": [
        "Just as before, we're filtering the zeros from the sparse representation (remember, internally this is **not done by default**)."
      ]
    },
    {
      "cell_type": "code",
      "execution_count": 19,
      "id": "e9ac8164",
      "metadata": {
        "execution": {
          "iopub.execute_input": "2023-09-02T21:31:19.532896Z",
          "iopub.status.busy": "2023-09-02T21:31:19.531983Z",
          "iopub.status.idle": "2023-09-02T21:31:19.561023Z",
          "shell.execute_reply": "2023-09-02T21:31:19.560593Z"
        },
        "papermill": {
          "duration": 0.041419,
          "end_time": "2023-09-02T21:31:19.563619",
          "exception": false,
          "start_time": "2023-09-02T21:31:19.522200",
          "status": "completed"
        },
        "tags": []
      },
      "outputs": [
        {
          "name": "stdout",
          "output_type": "stream",
          "text": [
            "26\n"
          ]
        },
        {
          "data": {
            "text/plain": [
              "{('dc1,in0', 'dc1,out0'): Array(0.70710678+0.j, dtype=complex128),\n",
              " ('dc1,in0', 'dc1,out1'): Array(0.+0.70710678j, dtype=complex128),\n",
              " ('dc1,in1', 'dc1,out0'): Array(0.+0.70710678j, dtype=complex128),\n",
              " ('dc1,in1', 'dc1,out1'): Array(0.70710678+0.j, dtype=complex128),\n",
              " ('dc1,out0', 'dc1,in0'): Array(0.70710678+0.j, dtype=complex128),\n",
              " ('dc1,out0', 'dc1,in1'): Array(0.+0.70710678j, dtype=complex128),\n",
              " ('dc1,out1', 'dc1,in0'): Array(0.+0.70710678j, dtype=complex128),\n",
              " ('dc1,out1', 'dc1,in1'): Array(0.70710678+0.j, dtype=complex128),\n",
              " ('wg,in0', 'wg,out0'): (0.5+0.86603j),\n",
              " ('wg,out0', 'wg,in0'): (0.5+0.86603j),\n",
              " ('dc2,in0', 'dc2,out0'): Array(0.70710678+0.j, dtype=complex128),\n",
              " ('dc2,in0', 'dc2,out1'): Array(0.+0.70710678j, dtype=complex128),\n",
              " ('dc2,in1', 'dc2,out0'): Array(0.+0.70710678j, dtype=complex128),\n",
              " ('dc2,in1', 'dc2,out1'): Array(0.70710678+0.j, dtype=complex128),\n",
              " ('dc2,out0', 'dc2,in0'): Array(0.70710678+0.j, dtype=complex128),\n",
              " ('dc2,out0', 'dc2,in1'): Array(0.+0.70710678j, dtype=complex128),\n",
              " ('dc2,out1', 'dc2,in0'): Array(0.+0.70710678j, dtype=complex128),\n",
              " ('dc2,out1', 'dc2,in1'): Array(0.70710678+0.j, dtype=complex128),\n",
              " ('dc2,out1', 'dc1,in1'): Array(0.5+0.j, dtype=complex128),\n",
              " ('dc2,out1', 'dc1,in0'): Array(0.+0.5j, dtype=complex128),\n",
              " ('dc2,out0', 'dc1,in1'): Array(0.+0.5j, dtype=complex128),\n",
              " ('dc2,out0', 'dc1,in0'): Array(-0.5+0.j, dtype=complex128),\n",
              " ('dc1,in1', 'dc2,out1'): Array(0.5+0.j, dtype=complex128),\n",
              " ('dc1,in1', 'dc2,out0'): Array(0.+0.5j, dtype=complex128),\n",
              " ('dc1,in0', 'dc2,out1'): Array(0.+0.5j, dtype=complex128),\n",
              " ('dc1,in0', 'dc2,out0'): Array(-0.5+0.j, dtype=complex128)}"
            ]
          },
          "execution_count": 19,
          "metadata": {},
          "output_type": "execute_result"
        }
      ],
      "source": [
        "block_diag = {k: v for k, v in block_diag.items() if jnp.abs(v) > 1e-10}\n",
        "print(len(block_diag))\n",
        "block_diag"
      ]
    },
    {
      "cell_type": "markdown",
      "id": "db0cd151",
      "metadata": {
        "papermill": {
          "duration": 0.008534,
          "end_time": "2023-09-02T21:31:19.582286",
          "exception": false,
          "start_time": "2023-09-02T21:31:19.573752",
          "status": "completed"
        },
        "tags": []
      },
      "source": [
        "This is the resulting block-diagonal matrix after interconnecting two ports (i.e. basically saying that those two ports are the same port). Because these ports are now connected we should actually remove them from the S-matrix representation (they are integrated into the S-parameters of the other connections):"
      ]
    },
    {
      "cell_type": "code",
      "execution_count": 20,
      "id": "311b034f",
      "metadata": {
        "execution": {
          "iopub.execute_input": "2023-09-02T21:31:19.601025Z",
          "iopub.status.busy": "2023-09-02T21:31:19.600122Z",
          "iopub.status.idle": "2023-09-02T21:31:19.612700Z",
          "shell.execute_reply": "2023-09-02T21:31:19.612288Z"
        },
        "papermill": {
          "duration": 0.02353,
          "end_time": "2023-09-02T21:31:19.614087",
          "exception": false,
          "start_time": "2023-09-02T21:31:19.590557",
          "status": "completed"
        },
        "tags": []
      },
      "outputs": [
        {
          "name": "stdout",
          "output_type": "stream",
          "text": [
            "18\n"
          ]
        },
        {
          "data": {
            "text/plain": [
              "{('dc1,in0', 'dc1,out0'): Array(0.70710678+0.j, dtype=complex128),\n",
              " ('dc1,in1', 'dc1,out0'): Array(0.+0.70710678j, dtype=complex128),\n",
              " ('dc1,out0', 'dc1,in0'): Array(0.70710678+0.j, dtype=complex128),\n",
              " ('dc1,out0', 'dc1,in1'): Array(0.+0.70710678j, dtype=complex128),\n",
              " ('wg,in0', 'wg,out0'): (0.5+0.86603j),\n",
              " ('wg,out0', 'wg,in0'): (0.5+0.86603j),\n",
              " ('dc2,in0', 'dc2,out0'): Array(0.70710678+0.j, dtype=complex128),\n",
              " ('dc2,in0', 'dc2,out1'): Array(0.+0.70710678j, dtype=complex128),\n",
              " ('dc2,out0', 'dc2,in0'): Array(0.70710678+0.j, dtype=complex128),\n",
              " ('dc2,out1', 'dc2,in0'): Array(0.+0.70710678j, dtype=complex128),\n",
              " ('dc2,out1', 'dc1,in1'): Array(0.5+0.j, dtype=complex128),\n",
              " ('dc2,out1', 'dc1,in0'): Array(0.+0.5j, dtype=complex128),\n",
              " ('dc2,out0', 'dc1,in1'): Array(0.+0.5j, dtype=complex128),\n",
              " ('dc2,out0', 'dc1,in0'): Array(-0.5+0.j, dtype=complex128),\n",
              " ('dc1,in1', 'dc2,out1'): Array(0.5+0.j, dtype=complex128),\n",
              " ('dc1,in1', 'dc2,out0'): Array(0.+0.5j, dtype=complex128),\n",
              " ('dc1,in0', 'dc2,out1'): Array(0.+0.5j, dtype=complex128),\n",
              " ('dc1,in0', 'dc2,out0'): Array(-0.5+0.j, dtype=complex128)}"
            ]
          },
          "execution_count": 20,
          "metadata": {},
          "output_type": "execute_result"
        }
      ],
      "source": [
        "for i, j in list(block_diag.keys()):\n",
        "    is_connected = i == k or i == l or j == k or j == l\n",
        "    is_in_output_ports = i in reversed_ports and j in reversed_ports\n",
        "    if is_connected and not is_in_output_ports:\n",
        "        del block_diag[i, j]  # we're no longer interested in these port combinations\n",
        "        \n",
        "print(len(block_diag))\n",
        "block_diag"
      ]
    },
    {
      "cell_type": "markdown",
      "id": "b6badcb7",
      "metadata": {
        "papermill": {
          "duration": 0.008438,
          "end_time": "2023-09-02T21:31:19.630901",
          "exception": false,
          "start_time": "2023-09-02T21:31:19.622463",
          "status": "completed"
        },
        "tags": []
      },
      "source": [
        "Note that this deletion of values **does NOT** make this operation un-jittable. The deletion depends on the ports of the dictionary (i.e. on the dictionary 'shape'), not on the values."
      ]
    },
    {
      "cell_type": "markdown",
      "id": "89e775cd",
      "metadata": {
        "papermill": {
          "duration": 0.008413,
          "end_time": "2023-09-02T21:31:19.647528",
          "exception": false,
          "start_time": "2023-09-02T21:31:19.639115",
          "status": "completed"
        },
        "tags": []
      },
      "source": [
        "We now basically have to do those steps again for all other connections:"
      ]
    },
    {
      "cell_type": "code",
      "execution_count": 21,
      "id": "d6865110d0c96cde",
      "metadata": {
        "execution": {
          "iopub.execute_input": "2023-09-02T21:31:19.666352Z",
          "iopub.status.busy": "2023-09-02T21:31:19.665890Z",
          "iopub.status.idle": "2023-09-02T21:31:21.104795Z",
          "shell.execute_reply": "2023-09-02T21:31:21.104237Z"
        },
        "papermill": {
          "duration": 1.450784,
          "end_time": "2023-09-02T21:31:21.106638",
          "exception": false,
          "start_time": "2023-09-02T21:31:19.655854",
          "status": "completed"
        },
        "tags": []
      },
      "outputs": [],
      "source": [
        "#for k, l in sorted_connections: \n",
        "for k, l in sorted_connections[1:]: # we just did the first iteration of this loop above...\n",
        "    name1, _ = k.split(\",\")\n",
        "    name2, _ = l.split(\",\")\n",
        "    connected_instances = all_connected_instances[name1] | all_connected_instances[name2]\n",
        "    for name in connected_instances:\n",
        "        all_connected_instances[name] = connected_instances\n",
        "    current_ports = tuple(\n",
        "        p\n",
        "        for instance in connected_instances\n",
        "        for p in set([p for p, _ in block_diag] + [p for _, p in block_diag])\n",
        "        if p.startswith(f\"{instance},\")\n",
        "    )\n",
        "    block_diag.update(_interconnect_ports(block_diag, current_ports, k, l))\n",
        "    for i, j in list(block_diag.keys()):\n",
        "        is_connected = i == k or i == l or j == k or j == l\n",
        "        is_in_output_ports = i in reversed_ports and j in reversed_ports\n",
        "        if is_connected and not is_in_output_ports:\n",
        "            del block_diag[i, j]  # we're no longer interested in these port combinations"
      ]
    },
    {
      "cell_type": "markdown",
      "id": "36eb82fc",
      "metadata": {
        "papermill": {
          "duration": 0.008773,
          "end_time": "2023-09-02T21:31:21.126815",
          "exception": false,
          "start_time": "2023-09-02T21:31:21.118042",
          "status": "completed"
        },
        "tags": []
      },
      "source": [
        "This is the final MZI matrix we're getting:"
      ]
    },
    {
      "cell_type": "code",
      "execution_count": 22,
      "id": "d1c0367e",
      "metadata": {
        "execution": {
          "iopub.execute_input": "2023-09-02T21:31:21.147372Z",
          "iopub.status.busy": "2023-09-02T21:31:21.146354Z",
          "iopub.status.idle": "2023-09-02T21:31:21.155362Z",
          "shell.execute_reply": "2023-09-02T21:31:21.154956Z"
        },
        "papermill": {
          "duration": 0.020928,
          "end_time": "2023-09-02T21:31:21.156659",
          "exception": false,
          "start_time": "2023-09-02T21:31:21.135731",
          "status": "completed"
        },
        "tags": []
      },
      "outputs": [
        {
          "data": {
            "text/plain": [
              "{('dc2,out1', 'dc1,in1'): Array(0.25-0.433015j, dtype=complex128),\n",
              " ('dc2,out1', 'dc1,in0'): Array(-0.433015+0.75j, dtype=complex128),\n",
              " ('dc2,out0', 'dc1,in1'): Array(-0.433015+0.75j, dtype=complex128),\n",
              " ('dc2,out0', 'dc1,in0'): Array(-0.25+0.433015j, dtype=complex128),\n",
              " ('dc1,in1', 'dc2,out1'): Array(0.25-0.433015j, dtype=complex128),\n",
              " ('dc1,in1', 'dc2,out0'): Array(-0.433015+0.75j, dtype=complex128),\n",
              " ('dc1,in0', 'dc2,out1'): Array(-0.433015+0.75j, dtype=complex128),\n",
              " ('dc1,in0', 'dc2,out0'): Array(-0.25+0.433015j, dtype=complex128),\n",
              " ('dc2,out1', 'dc2,out1'): Array(0.+0.j, dtype=complex128),\n",
              " ('dc2,out1', 'dc2,out0'): Array(0.+0.j, dtype=complex128),\n",
              " ('dc2,out0', 'dc2,out1'): Array(0.+0.j, dtype=complex128),\n",
              " ('dc2,out0', 'dc2,out0'): Array(0.+0.j, dtype=complex128),\n",
              " ('dc1,in1', 'dc1,in1'): Array(0.+0.j, dtype=complex128),\n",
              " ('dc1,in1', 'dc1,in0'): Array(0.+0.j, dtype=complex128),\n",
              " ('dc1,in0', 'dc1,in1'): Array(0.+0.j, dtype=complex128),\n",
              " ('dc1,in0', 'dc1,in0'): Array(0.+0.j, dtype=complex128)}"
            ]
          },
          "execution_count": 22,
          "metadata": {},
          "output_type": "execute_result"
        }
      ],
      "source": [
        "block_diag"
      ]
    },
    {
      "cell_type": "markdown",
      "id": "03f67ec6",
      "metadata": {
        "papermill": {
          "duration": 0.008798,
          "end_time": "2023-09-02T21:31:21.174419",
          "exception": false,
          "start_time": "2023-09-02T21:31:21.165621",
          "status": "completed"
        },
        "tags": []
      },
      "source": [
        "All that's left is to rename these internal ports of the format `{instance},{port}` into output ports of the resulting circuit:"
      ]
    },
    {
      "cell_type": "code",
      "execution_count": 23,
      "id": "cf5ea4af",
      "metadata": {
        "execution": {
          "iopub.execute_input": "2023-09-02T21:31:21.194041Z",
          "iopub.status.busy": "2023-09-02T21:31:21.193159Z",
          "iopub.status.idle": "2023-09-02T21:31:21.204597Z",
          "shell.execute_reply": "2023-09-02T21:31:21.204115Z"
        },
        "papermill": {
          "duration": 0.022954,
          "end_time": "2023-09-02T21:31:21.206056",
          "exception": false,
          "start_time": "2023-09-02T21:31:21.183102",
          "status": "completed"
        },
        "tags": []
      },
      "outputs": [
        {
          "data": {
            "text/plain": [
              "{('out1', 'in1'): Array(0.25-0.433015j, dtype=complex128),\n",
              " ('out1', 'in0'): Array(-0.433015+0.75j, dtype=complex128),\n",
              " ('out0', 'in1'): Array(-0.433015+0.75j, dtype=complex128),\n",
              " ('out0', 'in0'): Array(-0.25+0.433015j, dtype=complex128),\n",
              " ('in1', 'out1'): Array(0.25-0.433015j, dtype=complex128),\n",
              " ('in1', 'out0'): Array(-0.433015+0.75j, dtype=complex128),\n",
              " ('in0', 'out1'): Array(-0.433015+0.75j, dtype=complex128),\n",
              " ('in0', 'out0'): Array(-0.25+0.433015j, dtype=complex128),\n",
              " ('out1', 'out1'): Array(0.+0.j, dtype=complex128),\n",
              " ('out1', 'out0'): Array(0.+0.j, dtype=complex128),\n",
              " ('out0', 'out1'): Array(0.+0.j, dtype=complex128),\n",
              " ('out0', 'out0'): Array(0.+0.j, dtype=complex128),\n",
              " ('in1', 'in1'): Array(0.+0.j, dtype=complex128),\n",
              " ('in1', 'in0'): Array(0.+0.j, dtype=complex128),\n",
              " ('in0', 'in1'): Array(0.+0.j, dtype=complex128),\n",
              " ('in0', 'in0'): Array(0.+0.j, dtype=complex128)}"
            ]
          },
          "execution_count": 23,
          "metadata": {},
          "output_type": "execute_result"
        }
      ],
      "source": [
        "circuit_sdict: SDict = {\n",
        "    (reversed_ports[i], reversed_ports[j]): v\n",
        "    for (i, j), v in block_diag.items()\n",
        "    if i in reversed_ports and j in reversed_ports\n",
        "}\n",
        "circuit_sdict"
      ]
    },
    {
      "cell_type": "markdown",
      "id": "7dc6505e",
      "metadata": {
        "papermill": {
          "duration": 0.008634,
          "end_time": "2023-09-02T21:31:21.225456",
          "exception": false,
          "start_time": "2023-09-02T21:31:21.216822",
          "status": "completed"
        },
        "tags": []
      },
      "source": [
        "And that's it. We evaluated the `SDict` of the full circuit."
      ]
    },
    {
      "cell_type": "markdown",
      "id": "170db10b",
      "metadata": {
        "papermill": {
          "duration": 0.009411,
          "end_time": "2023-09-02T21:31:21.243532",
          "exception": false,
          "start_time": "2023-09-02T21:31:21.234121",
          "status": "completed"
        },
        "tags": []
      },
      "source": [
        "## Algorithm Improvements"
      ]
    },
    {
      "cell_type": "markdown",
      "id": "4ed0e69a",
      "metadata": {
        "papermill": {
          "duration": 0.008989,
          "end_time": "2023-09-02T21:31:21.261772",
          "exception": false,
          "start_time": "2023-09-02T21:31:21.252783",
          "status": "completed"
        },
        "tags": []
      },
      "source": [
        "This algorithm is \n",
        "\n",
        "* pretty fast for small circuits \ud83d\ude42\n",
        "* jittable \ud83d\ude42\n",
        "* differentiable \ud83d\ude42\n",
        "* GPU-compatible \ud83d\ude42\n",
        "\n",
        "This algorithm is however:\n",
        "\n",
        "* **really slow** for large circuits \ud83d\ude25\n",
        "* **pretty slow** to jit the resulting circuit function \ud83d\ude25\n",
        "* **pretty slow** to differentiate the resulting circuit function \ud83d\ude25\n",
        "\n",
        "There are probably still plenty of improvements possible for this algorithm:\n",
        "\n",
        "* **\u00bf** Network analysis (ft. NetworkX ?) to obtain which ports of the block diagonal representation are relevant to obtain the output connection **?**\n",
        "* **\u00bf** Smarter ordering of connections to always have the minimum amount of ports in the intermediate block-diagonal representation **?**\n",
        "* **\u00bf** Using `jax.lax.scan` in stead of python native for-loops in `_interconnect_ports` **?**\n",
        "* **\u00bf** ... **?**\n",
        "\n",
        "Bottom line is... Do you know how to improve this algorithm or how to implement the above suggestions? Please open a Merge Request!"
      ]
    }
  ],
  "metadata": {
    "kernelspec": {
      "display_name": "sax",
      "language": "python",
      "name": "sax"
    },
    "language_info": {
      "codemirror_mode": {
        "name": "ipython",
        "version": 3
      },
      "file_extension": ".py",
      "mimetype": "text/x-python",
      "name": "python",
      "nbconvert_exporter": "python",
      "pygments_lexer": "ipython3",
      "version": "3.11.5"
    },
    "papermill": {
      "default_parameters": {},
      "duration": 6.842547,
      "end_time": "2023-09-02T21:31:21.790533",
      "environment_variables": {},
      "exception": null,
      "input_path": "./internals/08a_backends_filipsson_gunnar.ipynb",
      "output_path": "./internals/08a_backends_filipsson_gunnar.ipynb",
      "parameters": {},
      "start_time": "2023-09-02T21:31:14.947986",
      "version": "2.4.0"
    }
  },
  "nbformat": 4,
  "nbformat_minor": 5
}