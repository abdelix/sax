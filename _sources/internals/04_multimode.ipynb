{
  "cells": [
    {
      "cell_type": "code",
      "execution_count": 1,
      "id": "92e4e33917234cda",
      "metadata": {
        "execution": {
          "iopub.execute_input": "2023-09-02T21:31:23.791337Z",
          "iopub.status.busy": "2023-09-02T21:31:23.790686Z",
          "iopub.status.idle": "2023-09-02T21:31:23.794627Z",
          "shell.execute_reply": "2023-09-02T21:31:23.793922Z"
        },
        "papermill": {
          "duration": 0.010758,
          "end_time": "2023-09-02T21:31:23.796185",
          "exception": false,
          "start_time": "2023-09-02T21:31:23.785427",
          "status": "completed"
        },
        "tags": [
          "remove-cell"
        ]
      },
      "outputs": [],
      "source": []
    },
    {
      "cell_type": "markdown",
      "id": "60e8c162",
      "metadata": {
        "papermill": {
          "duration": 0.002905,
          "end_time": "2023-09-02T21:31:23.802157",
          "exception": false,
          "start_time": "2023-09-02T21:31:23.799252",
          "status": "completed"
        },
        "tags": []
      },
      "source": [
        "# Multimode\n",
        "\n",
        "> SAX Multimode utils"
      ]
    },
    {
      "cell_type": "code",
      "execution_count": 2,
      "id": "a856e63f76813ddd",
      "metadata": {
        "execution": {
          "iopub.execute_input": "2023-09-02T21:31:23.808487Z",
          "iopub.status.busy": "2023-09-02T21:31:23.807992Z",
          "iopub.status.idle": "2023-09-02T21:31:23.815562Z",
          "shell.execute_reply": "2023-09-02T21:31:23.815077Z"
        },
        "papermill": {
          "duration": 0.01258,
          "end_time": "2023-09-02T21:31:23.817157",
          "exception": false,
          "start_time": "2023-09-02T21:31:23.804577",
          "status": "completed"
        },
        "tags": [
          "remove-cell"
        ]
      },
      "outputs": [],
      "source": [
        "from fastcore.test import test_eq\n",
        "\n",
        "import os, sys; sys.stderr = open(os.devnull, \"w\")"
      ]
    },
    {
      "cell_type": "code",
      "execution_count": 3,
      "id": "b72f332d109b2bff",
      "metadata": {
        "execution": {
          "iopub.execute_input": "2023-09-02T21:31:23.823677Z",
          "iopub.status.busy": "2023-09-02T21:31:23.823076Z",
          "iopub.status.idle": "2023-09-02T21:31:24.796350Z",
          "shell.execute_reply": "2023-09-02T21:31:24.795781Z"
        },
        "papermill": {
          "duration": 0.978411,
          "end_time": "2023-09-02T21:31:24.798090",
          "exception": false,
          "start_time": "2023-09-02T21:31:23.819679",
          "status": "completed"
        },
        "tags": [
          "hide-input"
        ]
      },
      "outputs": [],
      "source": [
        "from __future__ import annotations\n",
        "\n",
        "from functools import wraps\n",
        "from typing import Dict, Tuple, Union, cast, overload\n",
        "\n",
        "from sax.typing_ import (\n",
        "    Model,\n",
        "    SCoo,\n",
        "    SDense,\n",
        "    SDict,\n",
        "    SType,\n",
        "    is_model,\n",
        "    is_multimode,\n",
        "    is_scoo,\n",
        "    is_sdense,\n",
        "    is_sdict,\n",
        "    is_singlemode,\n",
        "    _consolidate_sdense,\n",
        ")\n",
        "from sax.utils import (\n",
        "    block_diag,\n",
        "    mode_combinations,\n",
        "    validate_multimode,\n",
        "    validate_not_mixedmode,\n",
        ")\n",
        "\n",
        "try:\n",
        "    import jax.numpy as jnp\n",
        "    JAX_AVAILABLE = True\n",
        "except ImportError:\n",
        "    import numpy as jnp\n",
        "    JAX_AVAILABLE = False"
      ]
    },
    {
      "cell_type": "code",
      "execution_count": 4,
      "id": "fd063e59ad64e72d",
      "metadata": {
        "execution": {
          "iopub.execute_input": "2023-09-02T21:31:24.805393Z",
          "iopub.status.busy": "2023-09-02T21:31:24.804797Z",
          "iopub.status.idle": "2023-09-02T21:31:24.809488Z",
          "shell.execute_reply": "2023-09-02T21:31:24.809115Z"
        },
        "papermill": {
          "duration": 0.009963,
          "end_time": "2023-09-02T21:31:24.810782",
          "exception": false,
          "start_time": "2023-09-02T21:31:24.800819",
          "status": "completed"
        },
        "tags": [
          "remove-cell"
        ]
      },
      "outputs": [],
      "source": [
        "\n",
        "@overload\n",
        "def multimode(S: Model, modes: Tuple[str, ...] = (\"te\", \"tm\")) -> Model:\n",
        "    ...\n",
        "\n",
        "\n",
        "@overload\n",
        "def multimode(S: SDict, modes: Tuple[str, ...] = (\"te\", \"tm\")) -> SDict:\n",
        "    ...\n",
        "\n",
        "\n",
        "@overload\n",
        "def multimode(S: SCoo, modes: Tuple[str, ...] = (\"te\", \"tm\")) -> SCoo:\n",
        "    ...\n",
        "\n",
        "\n",
        "@overload\n",
        "def multimode(S: SDense, modes: Tuple[str, ...] = (\"te\", \"tm\")) -> SDense:\n",
        "    ..."
      ]
    },
    {
      "cell_type": "markdown",
      "id": "31134735896a8090",
      "metadata": {},
      "source": [
        ":::{eval-rst}\n",
        ".. autofunction:: sax.multimode.multimode\n",
        ":::\n"
      ]
    },
    {
      "cell_type": "code",
      "execution_count": 5,
      "id": "6b1a1dcaf97e1108",
      "metadata": {
        "execution": {
          "iopub.execute_input": "2023-09-02T21:31:24.817180Z",
          "iopub.status.busy": "2023-09-02T21:31:24.816756Z",
          "iopub.status.idle": "2023-09-02T21:31:24.827990Z",
          "shell.execute_reply": "2023-09-02T21:31:24.827574Z"
        },
        "papermill": {
          "duration": 0.01574,
          "end_time": "2023-09-02T21:31:24.829178",
          "exception": false,
          "start_time": "2023-09-02T21:31:24.813438",
          "status": "completed"
        },
        "tags": [
          "hide-input"
        ]
      },
      "outputs": [],
      "source": [
        "\n",
        "def multimode(\n",
        "    S: Union[SType, Model], modes: Tuple[str, ...] = (\"te\", \"tm\")\n",
        ") -> Union[SType, Model]:\n",
        "    \"\"\"Convert a single mode model to a multimode model\"\"\"\n",
        "    if is_model(S):\n",
        "        model = cast(Model, S)\n",
        "\n",
        "        @wraps(model)\n",
        "        def new_model(**params):\n",
        "            return multimode(model(**params), modes=modes)\n",
        "\n",
        "        return cast(Model, new_model)\n",
        "\n",
        "    S = cast(SType, S)\n",
        "\n",
        "    validate_not_mixedmode(S)\n",
        "    if is_multimode(S):\n",
        "        validate_multimode(S, modes=modes)\n",
        "        return S\n",
        "\n",
        "    if is_sdict(S):\n",
        "        return _multimode_sdict(cast(SDict, S), modes=modes)\n",
        "    elif is_scoo(S):\n",
        "        return _multimode_scoo(cast(SCoo, S), modes=modes)\n",
        "    elif is_sdense(S):\n",
        "        return _multimode_sdense(cast(SDense, S), modes=modes)\n",
        "    else:\n",
        "        raise ValueError(\"cannot convert to multimode. Unknown stype.\")\n",
        "\n",
        "\n",
        "def _multimode_sdict(sdict: SDict, modes: Tuple[str, ...] = (\"te\", \"tm\")) -> SDict:\n",
        "    multimode_sdict = {}\n",
        "    _mode_combinations = mode_combinations(modes)\n",
        "    for (p1, p2), value in sdict.items():\n",
        "        for (m1, m2) in _mode_combinations:\n",
        "            multimode_sdict[f\"{p1}@{m1}\", f\"{p2}@{m2}\"] = value\n",
        "    return multimode_sdict\n",
        "\n",
        "\n",
        "def _multimode_scoo(scoo: SCoo, modes: Tuple[str, ...] = (\"te\", \"tm\")) -> SCoo:\n",
        "\n",
        "    Si, Sj, Sx, port_map = scoo\n",
        "    num_ports = len(port_map)\n",
        "    mode_map = (\n",
        "        {mode: i for i, mode in enumerate(modes)}\n",
        "        if not isinstance(modes, dict)\n",
        "        else cast(Dict, modes)\n",
        "    )\n",
        "\n",
        "    _mode_combinations = mode_combinations(modes)\n",
        "\n",
        "    Si_m = jnp.concatenate(\n",
        "        [Si + mode_map[m] * num_ports for m, _ in _mode_combinations], -1\n",
        "    )\n",
        "    Sj_m = jnp.concatenate(\n",
        "        [Sj + mode_map[m] * num_ports for _, m in _mode_combinations], -1\n",
        "    )\n",
        "    Sx_m = jnp.concatenate([Sx for _ in _mode_combinations], -1)\n",
        "    port_map_m = {\n",
        "        f\"{port}@{mode}\": idx + mode_map[mode] * num_ports\n",
        "        for mode in modes\n",
        "        for port, idx in port_map.items()\n",
        "    }\n",
        "\n",
        "    return Si_m, Sj_m, Sx_m, port_map_m\n",
        "\n",
        "\n",
        "def _multimode_sdense(sdense, modes=(\"te\", \"tm\")):\n",
        "\n",
        "    Sx, port_map = sdense\n",
        "    num_ports = len(port_map)\n",
        "    mode_map = (\n",
        "        {mode: i for i, mode in enumerate(modes)}\n",
        "        if not isinstance(modes, dict)\n",
        "        else modes\n",
        "    )\n",
        "\n",
        "    Sx_m = block_diag(*(Sx for _ in modes))\n",
        "\n",
        "    port_map_m = {\n",
        "        f\"{port}@{mode}\": idx + mode_map[mode] * num_ports\n",
        "        for mode in modes\n",
        "        for port, idx in port_map.items()\n",
        "    }\n",
        "\n",
        "    return Sx_m, port_map_m"
      ]
    },
    {
      "cell_type": "code",
      "execution_count": 6,
      "id": "e4547870",
      "metadata": {
        "execution": {
          "iopub.execute_input": "2023-09-02T21:31:24.835538Z",
          "iopub.status.busy": "2023-09-02T21:31:24.835000Z",
          "iopub.status.idle": "2023-09-02T21:31:24.838561Z",
          "shell.execute_reply": "2023-09-02T21:31:24.838187Z"
        },
        "papermill": {
          "duration": 0.008117,
          "end_time": "2023-09-02T21:31:24.839745",
          "exception": false,
          "start_time": "2023-09-02T21:31:24.831628",
          "status": "completed"
        },
        "tags": []
      },
      "outputs": [],
      "source": [
        "sdict_s = {(\"in0\", \"out0\"): 1.0}\n",
        "sdict_m = multimode(sdict_s)\n",
        "assert sdict_m == {(\"in0@te\", \"out0@te\"): 1.0, (\"in0@tm\", \"out0@tm\"): 1.0}"
      ]
    },
    {
      "cell_type": "code",
      "execution_count": 7,
      "id": "95dab5a3",
      "metadata": {
        "execution": {
          "iopub.execute_input": "2023-09-02T21:31:24.846342Z",
          "iopub.status.busy": "2023-09-02T21:31:24.845710Z",
          "iopub.status.idle": "2023-09-02T21:31:24.991865Z",
          "shell.execute_reply": "2023-09-02T21:31:24.991283Z"
        },
        "papermill": {
          "duration": 0.151687,
          "end_time": "2023-09-02T21:31:24.993798",
          "exception": false,
          "start_time": "2023-09-02T21:31:24.842111",
          "status": "completed"
        },
        "tags": []
      },
      "outputs": [],
      "source": [
        "from sax.typing_ import scoo\n",
        "scoo_s = scoo(sdict_s)\n",
        "scoo_m = multimode(scoo_s)\n",
        "test_eq(scoo_m[0], jnp.array([0, 2], dtype=int))\n",
        "test_eq(scoo_m[1], jnp.array([1, 3], dtype=int))\n",
        "test_eq(scoo_m[2], jnp.array([1.0, 1.0], dtype=float))\n",
        "test_eq(scoo_m[3], {\"in0@te\": 0, \"out0@te\": 1, \"in0@tm\": 2, \"out0@tm\": 3})"
      ]
    },
    {
      "cell_type": "code",
      "execution_count": 8,
      "id": "3e5474e1",
      "metadata": {
        "execution": {
          "iopub.execute_input": "2023-09-02T21:31:25.002537Z",
          "iopub.status.busy": "2023-09-02T21:31:25.002280Z",
          "iopub.status.idle": "2023-09-02T21:31:25.263701Z",
          "shell.execute_reply": "2023-09-02T21:31:25.263140Z"
        },
        "papermill": {
          "duration": 0.268522,
          "end_time": "2023-09-02T21:31:25.265998",
          "exception": false,
          "start_time": "2023-09-02T21:31:24.997476",
          "status": "completed"
        },
        "tags": []
      },
      "outputs": [],
      "source": [
        "from sax.typing_ import sdense\n",
        "sdense_s = sdense(sdict_s)\n",
        "sdense_m = multimode(sdense_s)\n",
        "test_eq(\n",
        "    sdense_m[0],\n",
        "    [[0.0 + 0.0j, 1.0 + 0.0j, 0.0 + 0.0j, 0.0 + 0.0j],\n",
        "     [0.0 + 0.0j, 0.0 + 0.0j, 0.0 + 0.0j, 0.0 + 0.0j],\n",
        "     [0.0 + 0.0j, 0.0 + 0.0j, 0.0 + 0.0j, 1.0 + 0.0j],\n",
        "     [0.0 + 0.0j, 0.0 + 0.0j, 0.0 + 0.0j, 0.0 + 0.0j]],\n",
        ")\n",
        "test_eq(sdense_m[1], {\"in0@te\": 0, \"out0@te\": 1, \"in0@tm\": 2, \"out0@tm\": 3})"
      ]
    },
    {
      "cell_type": "code",
      "execution_count": 9,
      "id": "129d69847c0d3742",
      "metadata": {
        "execution": {
          "iopub.execute_input": "2023-09-02T21:31:25.274287Z",
          "iopub.status.busy": "2023-09-02T21:31:25.273854Z",
          "iopub.status.idle": "2023-09-02T21:31:25.278177Z",
          "shell.execute_reply": "2023-09-02T21:31:25.277753Z"
        },
        "papermill": {
          "duration": 0.009283,
          "end_time": "2023-09-02T21:31:25.279402",
          "exception": false,
          "start_time": "2023-09-02T21:31:25.270119",
          "status": "completed"
        },
        "tags": [
          "remove-cell"
        ]
      },
      "outputs": [],
      "source": [
        "\n",
        "@overload\n",
        "def singlemode(S: Model, mode: str = \"te\") -> Model:\n",
        "    ...\n",
        "\n",
        "\n",
        "@overload\n",
        "def singlemode(S: SDict, mode: str = \"te\") -> SDict:\n",
        "    ...\n",
        "\n",
        "\n",
        "@overload\n",
        "def singlemode(S: SCoo, mode: str = \"te\") -> SCoo:\n",
        "    ...\n",
        "\n",
        "\n",
        "@overload\n",
        "def singlemode(S: SDense, mode: str = \"te\") -> SDense:\n",
        "    ..."
      ]
    },
    {
      "cell_type": "markdown",
      "id": "926051a0f114fa5b",
      "metadata": {},
      "source": [
        ":::{eval-rst}\n",
        ".. autofunction:: sax.multimode.singlemode\n",
        ":::\n"
      ]
    },
    {
      "cell_type": "code",
      "execution_count": 10,
      "id": "79dabc94b1a123d9",
      "metadata": {
        "execution": {
          "iopub.execute_input": "2023-09-02T21:31:25.286480Z",
          "iopub.status.busy": "2023-09-02T21:31:25.285962Z",
          "iopub.status.idle": "2023-09-02T21:31:25.294693Z",
          "shell.execute_reply": "2023-09-02T21:31:25.294277Z"
        },
        "papermill": {
          "duration": 0.013979,
          "end_time": "2023-09-02T21:31:25.296106",
          "exception": false,
          "start_time": "2023-09-02T21:31:25.282127",
          "status": "completed"
        },
        "tags": [
          "hide-input"
        ]
      },
      "outputs": [],
      "source": [
        "\n",
        "def singlemode(S: Union[SType, Model], mode: str = \"te\") -> Union[SType, Model]:\n",
        "    \"\"\"Convert multimode model to a singlemode model\"\"\"\n",
        "    if is_model(S):\n",
        "        model = cast(Model, S)\n",
        "\n",
        "        @wraps(model)\n",
        "        def new_model(**params):\n",
        "            return singlemode(model(**params), mode=mode)\n",
        "\n",
        "        return cast(Model, new_model)\n",
        "\n",
        "    S = cast(SType, S)\n",
        "\n",
        "    validate_not_mixedmode(S)\n",
        "    if is_singlemode(S):\n",
        "        return S\n",
        "    if is_sdict(S):\n",
        "        return _singlemode_sdict(cast(SDict, S), mode=mode)\n",
        "    elif is_scoo(S):\n",
        "        return _singlemode_scoo(cast(SCoo, S), mode=mode)\n",
        "    elif is_sdense(S):\n",
        "        return _singlemode_sdense(cast(SDense, S), mode=mode)\n",
        "    else:\n",
        "        raise ValueError(\"cannot convert to multimode. Unknown stype.\")\n",
        "\n",
        "\n",
        "def _singlemode_sdict(sdict: SDict, mode: str = \"te\") -> SDict:\n",
        "    singlemode_sdict = {}\n",
        "    for (p1, p2), value in sdict.items():\n",
        "        if p1.endswith(f\"@{mode}\") and p2.endswith(f\"@{mode}\"):\n",
        "            p1, _ = p1.split(\"@\")\n",
        "            p2, _ = p2.split(\"@\")\n",
        "            singlemode_sdict[p1, p2] = value\n",
        "    return singlemode_sdict\n",
        "\n",
        "\n",
        "def _singlemode_scoo(scoo: SCoo, mode: str = \"te\") -> SCoo:\n",
        "    Si, Sj, Sx, port_map = scoo\n",
        "    # no need to touch the data...\n",
        "    # just removing some ports from the port map should be enough\n",
        "    port_map = {\n",
        "        port.split(\"@\")[0]: idx\n",
        "        for port, idx in port_map.items()\n",
        "        if port.endswith(f\"@{mode}\")\n",
        "    }\n",
        "    return Si, Sj, Sx, port_map\n",
        "\n",
        "\n",
        "def _singlemode_sdense(sdense: SDense, mode: str = \"te\") -> SDense:\n",
        "    Sx, port_map = sdense\n",
        "    # no need to touch the data...\n",
        "    # just removing some ports from the port map should be enough\n",
        "    port_map = {\n",
        "        port.split(\"@\")[0]: idx\n",
        "        for port, idx in port_map.items()\n",
        "        if port.endswith(f\"@{mode}\")\n",
        "    }\n",
        "    return _consolidate_sdense(Sx, port_map)"
      ]
    },
    {
      "cell_type": "code",
      "execution_count": 11,
      "id": "2215f7c9",
      "metadata": {
        "execution": {
          "iopub.execute_input": "2023-09-02T21:31:25.349533Z",
          "iopub.status.busy": "2023-09-02T21:31:25.348796Z",
          "iopub.status.idle": "2023-09-02T21:31:25.354310Z",
          "shell.execute_reply": "2023-09-02T21:31:25.353589Z"
        },
        "papermill": {
          "duration": 0.056922,
          "end_time": "2023-09-02T21:31:25.355666",
          "exception": false,
          "start_time": "2023-09-02T21:31:25.298744",
          "status": "completed"
        },
        "tags": []
      },
      "outputs": [],
      "source": [
        "sdict_s = singlemode(sdict_m)\n",
        "assert sdict_s == {(\"in0\", \"out0\"): 1.0}"
      ]
    },
    {
      "cell_type": "code",
      "execution_count": 12,
      "id": "3f57f37b",
      "metadata": {
        "execution": {
          "iopub.execute_input": "2023-09-02T21:31:25.362330Z",
          "iopub.status.busy": "2023-09-02T21:31:25.361878Z",
          "iopub.status.idle": "2023-09-02T21:31:25.407132Z",
          "shell.execute_reply": "2023-09-02T21:31:25.406622Z"
        },
        "papermill": {
          "duration": 0.05054,
          "end_time": "2023-09-02T21:31:25.409008",
          "exception": false,
          "start_time": "2023-09-02T21:31:25.358468",
          "status": "completed"
        },
        "tags": []
      },
      "outputs": [],
      "source": [
        "scoo_s = singlemode(scoo_s)\n",
        "test_eq(scoo_s[0], jnp.array([0], dtype=int))\n",
        "test_eq(scoo_s[1], jnp.array([1], dtype=int))\n",
        "test_eq(scoo_s[2], jnp.array([1.0], dtype=float))\n",
        "test_eq(scoo_s[3], {'in0': 0, 'out0': 1})"
      ]
    },
    {
      "cell_type": "code",
      "execution_count": 13,
      "id": "94bc44fb",
      "metadata": {
        "execution": {
          "iopub.execute_input": "2023-09-02T21:31:25.417710Z",
          "iopub.status.busy": "2023-09-02T21:31:25.417136Z",
          "iopub.status.idle": "2023-09-02T21:31:25.553381Z",
          "shell.execute_reply": "2023-09-02T21:31:25.552821Z"
        },
        "papermill": {
          "duration": 0.142723,
          "end_time": "2023-09-02T21:31:25.555445",
          "exception": false,
          "start_time": "2023-09-02T21:31:25.412722",
          "status": "completed"
        },
        "tags": []
      },
      "outputs": [],
      "source": [
        "sdense_s = singlemode(sdense_m)\n",
        "test_eq(\n",
        "    sdense_s[0],\n",
        "    [[0.0 + 0.0j, 1.0 + 0.0j],\n",
        "     [0.0 + 0.0j, 0.0 + 0.0j]]\n",
        ")\n",
        "test_eq(sdense_s[1], {'in0': 0, 'out0': 1})"
      ]
    }
  ],
  "metadata": {
    "kernelspec": {
      "display_name": "sax",
      "language": "python",
      "name": "sax"
    },
    "language_info": {
      "codemirror_mode": {
        "name": "ipython",
        "version": 3
      },
      "file_extension": ".py",
      "mimetype": "text/x-python",
      "name": "python",
      "nbconvert_exporter": "python",
      "pygments_lexer": "ipython3",
      "version": "3.11.5"
    },
    "papermill": {
      "default_parameters": {},
      "duration": 3.590171,
      "end_time": "2023-09-02T21:31:26.078269",
      "environment_variables": {},
      "exception": null,
      "input_path": "./internals/04_multimode.ipynb",
      "output_path": "./internals/04_multimode.ipynb",
      "parameters": {},
      "start_time": "2023-09-02T21:31:22.488098",
      "version": "2.4.0"
    }
  },
  "nbformat": 4,
  "nbformat_minor": 5
}