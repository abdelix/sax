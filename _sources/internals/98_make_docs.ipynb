{
  "cells": [
    {
      "cell_type": "code",
      "execution_count": 1,
      "id": "562cf8a5ffe38f57",
      "metadata": {
        "execution": {
          "iopub.execute_input": "2023-09-02T21:30:24.270246Z",
          "iopub.status.busy": "2023-09-02T21:30:24.269393Z",
          "iopub.status.idle": "2023-09-02T21:30:24.273832Z",
          "shell.execute_reply": "2023-09-02T21:30:24.273024Z"
        },
        "papermill": {
          "duration": 0.013278,
          "end_time": "2023-09-02T21:30:24.275487",
          "exception": false,
          "start_time": "2023-09-02T21:30:24.262209",
          "status": "completed"
        },
        "tags": [
          "remove-cell"
        ]
      },
      "outputs": [],
      "source": []
    },
    {
      "cell_type": "markdown",
      "id": "7f878cbc-3e90-4ceb-8633-79250de6d6b8",
      "metadata": {
        "papermill": {
          "duration": 0.003442,
          "end_time": "2023-09-02T21:30:24.282736",
          "exception": false,
          "start_time": "2023-09-02T21:30:24.279294",
          "status": "completed"
        },
        "tags": []
      },
      "source": [
        "# SAX make docs\n",
        "> CLI: build jupyter-books based docs"
      ]
    },
    {
      "cell_type": "code",
      "execution_count": 2,
      "id": "98c61f755219bd45",
      "metadata": {
        "execution": {
          "iopub.execute_input": "2023-09-02T21:30:24.290763Z",
          "iopub.status.busy": "2023-09-02T21:30:24.290068Z",
          "iopub.status.idle": "2023-09-02T21:30:24.297968Z",
          "shell.execute_reply": "2023-09-02T21:30:24.297371Z"
        },
        "papermill": {
          "duration": 0.01345,
          "end_time": "2023-09-02T21:30:24.299327",
          "exception": false,
          "start_time": "2023-09-02T21:30:24.285877",
          "status": "completed"
        },
        "tags": [
          "remove-cell"
        ]
      },
      "outputs": [],
      "source": [
        "from __future__ import annotations\n",
        "\n",
        "import glob\n",
        "import json\n",
        "import os\n",
        "import re\n",
        "import secrets\n",
        "import shutil\n",
        "import subprocess\n",
        "import sys\n",
        "from typing import Dict, Union\n",
        "\n",
        "from fastcore.imports import IN_IPYTHON"
      ]
    },
    {
      "cell_type": "code",
      "execution_count": 3,
      "id": "eeb34347307175f3",
      "metadata": {
        "execution": {
          "iopub.execute_input": "2023-09-02T21:30:24.307199Z",
          "iopub.status.busy": "2023-09-02T21:30:24.306726Z",
          "iopub.status.idle": "2023-09-02T21:30:24.310453Z",
          "shell.execute_reply": "2023-09-02T21:30:24.309751Z"
        },
        "papermill": {
          "duration": 0.009331,
          "end_time": "2023-09-02T21:30:24.311838",
          "exception": false,
          "start_time": "2023-09-02T21:30:24.302507",
          "status": "completed"
        },
        "tags": [
          "hide-input"
        ]
      },
      "outputs": [],
      "source": [
        "MAGIC_COMMENTS = {\n",
        "    \"default_exp\": \"remove-cell\",\n",
        "    \"exporti\": \"remove-cell\",\n",
        "    \"export\": \"hide-input\",\n",
        "    \"exports\": None,\n",
        "    \"hide\": \"remove-cell\",\n",
        "    \"hide_input\": \"remove-input\",\n",
        "    \"hide_output\": \"remove-output\",\n",
        "    \"collapse_input\": \"hide-input\",\n",
        "    \"collapse_output\": \"hide-output\",\n",
        "}"
      ]
    },
    {
      "cell_type": "code",
      "execution_count": 4,
      "id": "04a0625cbebb485f",
      "metadata": {
        "execution": {
          "iopub.execute_input": "2023-09-02T21:30:24.319429Z",
          "iopub.status.busy": "2023-09-02T21:30:24.318971Z",
          "iopub.status.idle": "2023-09-02T21:30:24.322385Z",
          "shell.execute_reply": "2023-09-02T21:30:24.321753Z"
        },
        "papermill": {
          "duration": 0.00884,
          "end_time": "2023-09-02T21:30:24.323764",
          "exception": false,
          "start_time": "2023-09-02T21:30:24.314924",
          "status": "completed"
        },
        "tags": [
          "hide-input"
        ]
      },
      "outputs": [],
      "source": [
        "if IN_IPYTHON:\n",
        "    ROOT = os.path.abspath('..')\n",
        "else:\n",
        "    ROOT = os.path.abspath('.')"
      ]
    },
    {
      "cell_type": "markdown",
      "id": "e0e43d2d52c25db1",
      "metadata": {},
      "source": [
        ":::{eval-rst}\n",
        ".. autofunction:: sax.make_docs.load_nb\n",
        ":::\n"
      ]
    },
    {
      "cell_type": "code",
      "execution_count": 5,
      "id": "581e6c6b4fbd150a",
      "metadata": {
        "execution": {
          "iopub.execute_input": "2023-09-02T21:30:24.332525Z",
          "iopub.status.busy": "2023-09-02T21:30:24.332095Z",
          "iopub.status.idle": "2023-09-02T21:30:24.336040Z",
          "shell.execute_reply": "2023-09-02T21:30:24.335380Z"
        },
        "papermill": {
          "duration": 0.009294,
          "end_time": "2023-09-02T21:30:24.337397",
          "exception": false,
          "start_time": "2023-09-02T21:30:24.328103",
          "status": "completed"
        },
        "tags": [
          "hide-input"
        ]
      },
      "outputs": [],
      "source": [
        "def load_nb(path: str) -> Dict:\n",
        "    \"\"\" load a jupyter notebook as dictionary\n",
        "\n",
        "    Args:\n",
        "        path: the path of the notebook to load\n",
        "\n",
        "    Returns:\n",
        "        the notebook represented as a dictionary\n",
        "    \"\"\"\n",
        "    with open(path, \"r\") as file:\n",
        "        nb = json.load(file)\n",
        "    return nb"
      ]
    },
    {
      "cell_type": "markdown",
      "id": "379575608cb88fe7",
      "metadata": {},
      "source": [
        ":::{eval-rst}\n",
        ".. autofunction:: sax.make_docs.repository_path\n",
        ":::\n"
      ]
    },
    {
      "cell_type": "code",
      "execution_count": 6,
      "id": "4a2b33f7cd933488",
      "metadata": {
        "execution": {
          "iopub.execute_input": "2023-09-02T21:30:24.345262Z",
          "iopub.status.busy": "2023-09-02T21:30:24.344812Z",
          "iopub.status.idle": "2023-09-02T21:30:24.350213Z",
          "shell.execute_reply": "2023-09-02T21:30:24.349511Z"
        },
        "papermill": {
          "duration": 0.010881,
          "end_time": "2023-09-02T21:30:24.351574",
          "exception": false,
          "start_time": "2023-09-02T21:30:24.340693",
          "status": "completed"
        },
        "tags": [
          "hide-input"
        ]
      },
      "outputs": [],
      "source": [
        "def repository_path(*path_parts: str, not_exist_ok: bool=False) -> str:\n",
        "    \"\"\" Get and validate a path in the modelbuild repository\n",
        "\n",
        "    Args:\n",
        "        *path_parts: the path parts that will be joined together\n",
        "            relative to the root of the repository.\n",
        "        not_exist_ok: skip validation if True\n",
        "\n",
        "    Returns:\n",
        "        the absolute path of the referenced file.\n",
        "    \"\"\"\n",
        "    if not (os.path.exists(path:=os.path.join(ROOT, \"docs\"))):\n",
        "        raise FileNotFoundError(f\"docs path {path!r} not found!\")\n",
        "    if not (os.path.exists(path:=os.path.join(ROOT, \"internals\"))):\n",
        "        raise FileNotFoundError(f\"internals path {path!r} not found!\")\n",
        "    if not (os.path.exists(path:=os.path.join(ROOT, \"sax\"))):\n",
        "        raise FileNotFoundError(f\"sax path {path!r} not found!\")\n",
        "\n",
        "    path = os.path.join(ROOT, *path_parts)\n",
        "    if not not_exist_ok and not os.path.exists(path):\n",
        "        raise FileNotFoundError(f\"Path {path!r} does not exist.\")\n",
        "\n",
        "    return path"
      ]
    },
    {
      "cell_type": "markdown",
      "id": "fa2321691a8dc28b",
      "metadata": {},
      "source": [
        ":::{eval-rst}\n",
        ".. autofunction:: sax.make_docs.docs_path\n",
        ":::\n"
      ]
    },
    {
      "cell_type": "code",
      "execution_count": 7,
      "id": "58956e5e9a199193",
      "metadata": {
        "execution": {
          "iopub.execute_input": "2023-09-02T21:30:24.399317Z",
          "iopub.status.busy": "2023-09-02T21:30:24.398557Z",
          "iopub.status.idle": "2023-09-02T21:30:24.402636Z",
          "shell.execute_reply": "2023-09-02T21:30:24.401921Z"
        },
        "papermill": {
          "duration": 0.01026,
          "end_time": "2023-09-02T21:30:24.404091",
          "exception": false,
          "start_time": "2023-09-02T21:30:24.393831",
          "status": "completed"
        },
        "tags": [
          "hide-input"
        ]
      },
      "outputs": [],
      "source": [
        "def docs_path(*path_parts: str, not_exist_ok: bool=False) -> str:\n",
        "    return repository_path('docs', *path_parts, not_exist_ok=not_exist_ok)"
      ]
    },
    {
      "cell_type": "markdown",
      "id": "7c3088df6cf62d59",
      "metadata": {},
      "source": [
        ":::{eval-rst}\n",
        ".. autofunction:: sax.make_docs.save_nb\n",
        ":::\n"
      ]
    },
    {
      "cell_type": "code",
      "execution_count": 8,
      "id": "e04abee9e3d31432",
      "metadata": {
        "execution": {
          "iopub.execute_input": "2023-09-02T21:30:24.412532Z",
          "iopub.status.busy": "2023-09-02T21:30:24.411910Z",
          "iopub.status.idle": "2023-09-02T21:30:24.416542Z",
          "shell.execute_reply": "2023-09-02T21:30:24.415902Z"
        },
        "papermill": {
          "duration": 0.010399,
          "end_time": "2023-09-02T21:30:24.417934",
          "exception": false,
          "start_time": "2023-09-02T21:30:24.407535",
          "status": "completed"
        },
        "tags": [
          "hide-input"
        ]
      },
      "outputs": [],
      "source": [
        "def save_nb(nb: Dict, path: str) -> str:\n",
        "    \"\"\" save a dictionary as a jupyter notebook\n",
        "\n",
        "    Args:\n",
        "        nb: the dictionary to convert into an ipynb file\n",
        "        path: the path to save the notebook under\n",
        "\n",
        "    Returns:\n",
        "        the path where the notebook was saved.\n",
        "    \"\"\"\n",
        "    path = os.path.abspath(path)\n",
        "    os.makedirs(os.path.dirname(path), exist_ok=True)\n",
        "    with open(path, \"w\") as file:\n",
        "        json.dump(nb, file, indent=2)\n",
        "    return path"
      ]
    },
    {
      "cell_type": "markdown",
      "id": "c6cee50614236dc2",
      "metadata": {},
      "source": [
        ":::{eval-rst}\n",
        ".. autofunction:: sax.make_docs.strip_metadata\n",
        ":::\n"
      ]
    },
    {
      "cell_type": "code",
      "execution_count": 9,
      "id": "7f2916cd861f1af0",
      "metadata": {
        "execution": {
          "iopub.execute_input": "2023-09-02T21:30:24.426073Z",
          "iopub.status.busy": "2023-09-02T21:30:24.425480Z",
          "iopub.status.idle": "2023-09-02T21:30:24.429874Z",
          "shell.execute_reply": "2023-09-02T21:30:24.429250Z"
        },
        "papermill": {
          "duration": 0.010093,
          "end_time": "2023-09-02T21:30:24.431306",
          "exception": false,
          "start_time": "2023-09-02T21:30:24.421213",
          "status": "completed"
        },
        "tags": [
          "hide-input"
        ]
      },
      "outputs": [],
      "source": [
        "def strip_metadata(nb: Union[Dict, str]) -> Union[Dict,str]:\n",
        "    path = ''\n",
        "    if isinstance(nb, str):\n",
        "        path = nb\n",
        "        nb = load_nb(nb)\n",
        "    for cell in nb['cells']:\n",
        "        if not 'metadata' in cell:\n",
        "            continue\n",
        "        cell['metadata'] = {}\n",
        "    if path:\n",
        "        return save_nb(nb, path)\n",
        "    return path"
      ]
    },
    {
      "cell_type": "code",
      "execution_count": 10,
      "id": "1c1283f2cca174f4",
      "metadata": {
        "execution": {
          "iopub.execute_input": "2023-09-02T21:30:24.439424Z",
          "iopub.status.busy": "2023-09-02T21:30:24.438974Z",
          "iopub.status.idle": "2023-09-02T21:30:24.442801Z",
          "shell.execute_reply": "2023-09-02T21:30:24.441947Z"
        },
        "papermill": {
          "duration": 0.009441,
          "end_time": "2023-09-02T21:30:24.444189",
          "exception": false,
          "start_time": "2023-09-02T21:30:24.434748",
          "status": "completed"
        },
        "tags": [
          "remove-cell"
        ]
      },
      "outputs": [],
      "source": [
        "def iter_code_cells(nb):\n",
        "    for cell in nb.get('cells', []):\n",
        "        if not cell.get(\"cell_type\", \"\") == \"code\":\n",
        "            continue\n",
        "        yield cell"
      ]
    },
    {
      "cell_type": "code",
      "execution_count": 11,
      "id": "a6714453fc1d63cc",
      "metadata": {
        "execution": {
          "iopub.execute_input": "2023-09-02T21:30:24.452595Z",
          "iopub.status.busy": "2023-09-02T21:30:24.452008Z",
          "iopub.status.idle": "2023-09-02T21:30:24.455725Z",
          "shell.execute_reply": "2023-09-02T21:30:24.455090Z"
        },
        "papermill": {
          "duration": 0.009566,
          "end_time": "2023-09-02T21:30:24.457153",
          "exception": false,
          "start_time": "2023-09-02T21:30:24.447587",
          "status": "completed"
        },
        "tags": [
          "remove-cell"
        ]
      },
      "outputs": [],
      "source": [
        "def first_code_cell(nb):\n",
        "    try:\n",
        "        return next(iter_code_cells(nb))\n",
        "    except StopIteration:\n",
        "        return None"
      ]
    },
    {
      "cell_type": "code",
      "execution_count": 12,
      "id": "d109c514fdec97aa",
      "metadata": {
        "execution": {
          "iopub.execute_input": "2023-09-02T21:30:24.465729Z",
          "iopub.status.busy": "2023-09-02T21:30:24.464993Z",
          "iopub.status.idle": "2023-09-02T21:30:24.469229Z",
          "shell.execute_reply": "2023-09-02T21:30:24.468658Z"
        },
        "papermill": {
          "duration": 0.010115,
          "end_time": "2023-09-02T21:30:24.470656",
          "exception": false,
          "start_time": "2023-09-02T21:30:24.460541",
          "status": "completed"
        },
        "tags": [
          "remove-cell"
        ]
      },
      "outputs": [],
      "source": [
        "def get_default_exp(nb):\n",
        "    first_cell = first_code_cell(nb) or {}\n",
        "    first_source = first_cell.get('source', [])\n",
        "    first_line = \"\" if not first_source else first_source[0]\n",
        "    default_exp = first_line.split(\"default_exp\")[-1].strip()\n",
        "    return default_exp"
      ]
    },
    {
      "cell_type": "code",
      "execution_count": 13,
      "id": "f43c299cb4779b09",
      "metadata": {
        "execution": {
          "iopub.execute_input": "2023-09-02T21:30:24.479422Z",
          "iopub.status.busy": "2023-09-02T21:30:24.478841Z",
          "iopub.status.idle": "2023-09-02T21:30:24.482889Z",
          "shell.execute_reply": "2023-09-02T21:30:24.482253Z"
        },
        "papermill": {
          "duration": 0.00996,
          "end_time": "2023-09-02T21:30:24.484278",
          "exception": false,
          "start_time": "2023-09-02T21:30:24.474318",
          "status": "completed"
        },
        "tags": [
          "remove-cell"
        ]
      },
      "outputs": [],
      "source": [
        "def iter_function_names(source):\n",
        "    for line in source:\n",
        "        if not line.startswith(\"def \"):\n",
        "            continue\n",
        "        if line.startswith(\"def _\"):\n",
        "            continue\n",
        "        yield line.split(\"def \")[1].split(\"(\")[0]"
      ]
    },
    {
      "cell_type": "markdown",
      "id": "ceb5357bf4e23fb0",
      "metadata": {},
      "source": [
        ":::{eval-rst}\n",
        ".. autofunction:: sax.make_docs.docs_copy_nb\n",
        ":::\n"
      ]
    },
    {
      "cell_type": "code",
      "execution_count": 14,
      "id": "1a5ec6beed3f9060",
      "metadata": {
        "execution": {
          "iopub.execute_input": "2023-09-02T21:30:24.492915Z",
          "iopub.status.busy": "2023-09-02T21:30:24.492683Z",
          "iopub.status.idle": "2023-09-02T21:30:24.500870Z",
          "shell.execute_reply": "2023-09-02T21:30:24.500202Z"
        },
        "papermill": {
          "duration": 0.014413,
          "end_time": "2023-09-02T21:30:24.502295",
          "exception": false,
          "start_time": "2023-09-02T21:30:24.487882",
          "status": "completed"
        },
        "tags": [
          "hide-input"
        ]
      },
      "outputs": [],
      "source": [
        "def docs_copy_nb(relpath, docsrelpath=None):\n",
        "    \"\"\"copy a single notebook from src to dst with modified docs metadata.\"\"\"\n",
        "    src = repository_path(relpath)\n",
        "    dst = docs_path((docsrelpath or relpath), not_exist_ok=True)\n",
        "    nb = load_nb(src)\n",
        "    nb_new = {**nb}\n",
        "    nb_new[\"cells\"] = []\n",
        "    module = get_default_exp(nb)\n",
        "\n",
        "    for cell in nb.get('cells', []):\n",
        "        if not cell.get(\"cell_type\", \"\") == \"code\":\n",
        "            nb_new[\"cells\"].append(cell)\n",
        "            continue\n",
        "            \n",
        "        cell_tags = cell.get(\"metadata\", {}).get(\"tags\", [])\n",
        "        source = cell.get(\"source\") or [\"\"]\n",
        "        line = source[0].strip()\n",
        "        \n",
        "        if not line.startswith(\"#\"):\n",
        "            nb_new[\"cells\"].append(cell)\n",
        "            continue\n",
        "            \n",
        "        keys = [k.strip() for k in line.split(\" \")]\n",
        "        keys = [k for k in keys if k in MAGIC_COMMENTS]\n",
        "        if keys:\n",
        "            del source[0]\n",
        "        for key in keys:\n",
        "            tag = MAGIC_COMMENTS[key]\n",
        "            if tag:\n",
        "                cell_tags.append(tag)\n",
        "        if len(cell_tags) > 0:\n",
        "            cell[\"metadata\"][\"tags\"] = cell_tags\n",
        "\n",
        "        if not 'remove-cell' in cell_tags:\n",
        "            for function_name in iter_function_names(source):\n",
        "                extra_cell = {\n",
        "                    \"cell_type\": \"markdown\",\n",
        "                    \"id\": secrets.token_hex(8),\n",
        "                    \"metadata\": {},\n",
        "                    \"source\": [\n",
        "                        \":::{eval-rst}\\n\",\n",
        "                        f\".. autofunction:: sax.{module}.{function_name}\\n\",\n",
        "                        \":::\\n\"\n",
        "                    ],\n",
        "                }\n",
        "                nb_new[\"cells\"].append(extra_cell)\n",
        "\n",
        "        cell[\"id\"] = secrets.token_hex(8)\n",
        "        nb_new[\"cells\"].append(cell)\n",
        "\n",
        "    os.makedirs(os.path.dirname(dst), exist_ok=True)\n",
        "    save_nb(nb_new, dst)\n",
        "    return dst"
      ]
    },
    {
      "cell_type": "markdown",
      "id": "986862558397fbac",
      "metadata": {},
      "source": [
        ":::{eval-rst}\n",
        ".. autofunction:: sax.make_docs.list_notebooks\n",
        ":::\n"
      ]
    },
    {
      "cell_type": "markdown",
      "id": "030424b7f50ed364",
      "metadata": {},
      "source": [
        ":::{eval-rst}\n",
        ".. autofunction:: sax.make_docs.list_zips\n",
        ":::\n"
      ]
    },
    {
      "cell_type": "code",
      "execution_count": 15,
      "id": "c8d32af1c8ec29c1",
      "metadata": {
        "execution": {
          "iopub.execute_input": "2023-09-02T21:30:24.511246Z",
          "iopub.status.busy": "2023-09-02T21:30:24.510637Z",
          "iopub.status.idle": "2023-09-02T21:30:24.514558Z",
          "shell.execute_reply": "2023-09-02T21:30:24.513937Z"
        },
        "papermill": {
          "duration": 0.009841,
          "end_time": "2023-09-02T21:30:24.515946",
          "exception": false,
          "start_time": "2023-09-02T21:30:24.506105",
          "status": "completed"
        },
        "tags": [
          "hide-input"
        ]
      },
      "outputs": [],
      "source": [
        "def list_notebooks(dir):\n",
        "    return glob.glob(os.path.join(dir, \"**/*.ipynb\"), recursive=True)\n",
        "\n",
        "def list_zips(dir):\n",
        "    return glob.glob(os.path.join(dir, \"**/*.zip\"), recursive=True)"
      ]
    },
    {
      "cell_type": "markdown",
      "id": "3709a7dab432bbf1",
      "metadata": {},
      "source": [
        ":::{eval-rst}\n",
        ".. autofunction:: sax.make_docs.docs_copy_dir\n",
        ":::\n"
      ]
    },
    {
      "cell_type": "code",
      "execution_count": 16,
      "id": "1c6922ab8caca819",
      "metadata": {
        "execution": {
          "iopub.execute_input": "2023-09-02T21:30:24.524419Z",
          "iopub.status.busy": "2023-09-02T21:30:24.523988Z",
          "iopub.status.idle": "2023-09-02T21:30:24.528460Z",
          "shell.execute_reply": "2023-09-02T21:30:24.527804Z"
        },
        "papermill": {
          "duration": 0.01038,
          "end_time": "2023-09-02T21:30:24.529860",
          "exception": false,
          "start_time": "2023-09-02T21:30:24.519480",
          "status": "completed"
        },
        "tags": [
          "hide-input"
        ]
      },
      "outputs": [],
      "source": [
        "def docs_copy_dir(relpath):\n",
        "    main_src = repository_path(relpath)\n",
        "    for src in list_notebooks(main_src):\n",
        "        rel = os.path.relpath(src, repository_path())\n",
        "        docs_copy_nb(rel)\n",
        "    for src in list_zips(main_src):\n",
        "        rel = os.path.relpath(src, repository_path())\n",
        "        dst = docs_path(\"_build\", \"html\", rel, not_exist_ok=True)\n",
        "        os.makedirs(os.path.dirname(dst), exist_ok=True)\n",
        "        shutil.copy2(src, dst)"
      ]
    },
    {
      "cell_type": "markdown",
      "id": "e122314bec30ebe2",
      "metadata": {},
      "source": [
        ":::{eval-rst}\n",
        ".. autofunction:: sax.make_docs.docs_copy_simulations\n",
        ":::\n"
      ]
    },
    {
      "cell_type": "code",
      "execution_count": 17,
      "id": "ac050c4a5051e69f",
      "metadata": {
        "execution": {
          "iopub.execute_input": "2023-09-02T21:30:24.538845Z",
          "iopub.status.busy": "2023-09-02T21:30:24.538135Z",
          "iopub.status.idle": "2023-09-02T21:30:24.544186Z",
          "shell.execute_reply": "2023-09-02T21:30:24.543629Z"
        },
        "papermill": {
          "duration": 0.012004,
          "end_time": "2023-09-02T21:30:24.545516",
          "exception": false,
          "start_time": "2023-09-02T21:30:24.533512",
          "status": "completed"
        },
        "tags": [
          "hide-input"
        ]
      },
      "outputs": [],
      "source": [
        "def docs_copy_simulations():\n",
        "    with_results, without_results = {}, {}\n",
        "    for fn in os.listdir(simulations_path()):\n",
        "        sim, ext = os.path.splitext(fn)\n",
        "        if ext != \".ipynb\":\n",
        "            continue\n",
        "        try:\n",
        "            with_results[sim] = get_nominal_result(sim)\n",
        "        except FileNotFoundError:\n",
        "            without_results[sim] = {'hash': None, 'params': get_default_params(simulations_path(f\"{sim}.ipynb\"))}\n",
        "        except ValueError:\n",
        "            without_results[sim] = {'hash': None, 'params': get_default_params(simulations_path(f\"{sim}.ipynb\"))}\n",
        "            #raise\n",
        "        \n",
        "    for k, r in with_results.items():\n",
        "        docs_copy_nb(f\"results/{k}/{r['hash']}/_simulated.ipynb\", f\"simulations/{k}.ipynb\")\n",
        "        \n",
        "    for k, r in without_results.items():\n",
        "        docs_copy_nb(f\"simulations/{k}.ipynb\", f\"simulations/{k}.ipynb\")\n",
        "        \n",
        "    shutil.copytree(simulations_path(\"img\"), docs_path(\"_build\", \"html\", \"simulations\", \"img\", not_exist_ok=True), dirs_exist_ok=True)\n",
        "    return with_results, without_results"
      ]
    },
    {
      "cell_type": "markdown",
      "id": "01d831ae49e82335",
      "metadata": {},
      "source": [
        ":::{eval-rst}\n",
        ".. autofunction:: sax.make_docs.get_toc_part\n",
        ":::\n"
      ]
    },
    {
      "cell_type": "code",
      "execution_count": 18,
      "id": "b07ee97044e84af8",
      "metadata": {
        "execution": {
          "iopub.execute_input": "2023-09-02T21:30:24.554662Z",
          "iopub.status.busy": "2023-09-02T21:30:24.553895Z",
          "iopub.status.idle": "2023-09-02T21:30:24.558079Z",
          "shell.execute_reply": "2023-09-02T21:30:24.557485Z"
        },
        "papermill": {
          "duration": 0.01024,
          "end_time": "2023-09-02T21:30:24.559475",
          "exception": false,
          "start_time": "2023-09-02T21:30:24.549235",
          "status": "completed"
        },
        "tags": [
          "hide-input"
        ]
      },
      "outputs": [],
      "source": [
        "def get_toc_part(toc, caption):\n",
        "    parts = [p for p in toc[\"parts\"] if caption == p[\"caption\"]]\n",
        "    try:\n",
        "        return parts[0]\n",
        "    except IndexError:\n",
        "        raise ValueError(f\"No TOC part with caption {caption!r} found.\")"
      ]
    },
    {
      "cell_type": "markdown",
      "id": "92999603fc438f07",
      "metadata": {},
      "source": [
        ":::{eval-rst}\n",
        ".. autofunction:: sax.make_docs.make_docs\n",
        ":::\n"
      ]
    },
    {
      "cell_type": "code",
      "execution_count": 19,
      "id": "1fcb1ee805ddf9f3",
      "metadata": {
        "execution": {
          "iopub.execute_input": "2023-09-02T21:30:24.568753Z",
          "iopub.status.busy": "2023-09-02T21:30:24.568102Z",
          "iopub.status.idle": "2023-09-02T21:30:24.572078Z",
          "shell.execute_reply": "2023-09-02T21:30:24.571443Z"
        },
        "papermill": {
          "duration": 0.010167,
          "end_time": "2023-09-02T21:30:24.573470",
          "exception": false,
          "start_time": "2023-09-02T21:30:24.563303",
          "status": "completed"
        },
        "tags": [
          "hide-input"
        ]
      },
      "outputs": [],
      "source": [
        "def make_docs():\n",
        "    docs_copy_nb(\"index.ipynb\")\n",
        "    docs_copy_dir(\"internals\")\n",
        "    docs_copy_dir(\"examples\")\n",
        "    os.chdir(docs_path())\n",
        "    subprocess.check_call([sys.executable.replace(\"python\", \"jupyter-book\"), \"build\", \".\"])"
      ]
    },
    {
      "cell_type": "code",
      "execution_count": 20,
      "id": "6739c36ddc496fa9",
      "metadata": {
        "execution": {
          "iopub.execute_input": "2023-09-02T21:30:24.582345Z",
          "iopub.status.busy": "2023-09-02T21:30:24.581950Z",
          "iopub.status.idle": "2023-09-02T21:30:24.585202Z",
          "shell.execute_reply": "2023-09-02T21:30:24.584579Z"
        },
        "papermill": {
          "duration": 0.009291,
          "end_time": "2023-09-02T21:30:24.586616",
          "exception": false,
          "start_time": "2023-09-02T21:30:24.577325",
          "status": "completed"
        },
        "tags": [
          "hide-input"
        ]
      },
      "outputs": [],
      "source": [
        "if __name__ == '__main__' and not IN_IPYTHON:\n",
        "    make_docs()"
      ]
    }
  ],
  "metadata": {
    "kernelspec": {
      "display_name": "sax",
      "language": "python",
      "name": "sax"
    },
    "language_info": {
      "codemirror_mode": {
        "name": "ipython",
        "version": 3
      },
      "file_extension": ".py",
      "mimetype": "text/x-python",
      "name": "python",
      "nbconvert_exporter": "python",
      "pygments_lexer": "ipython3",
      "version": "3.11.5"
    },
    "papermill": {
      "default_parameters": {},
      "duration": 1.855338,
      "end_time": "2023-09-02T21:30:24.809989",
      "environment_variables": {},
      "exception": null,
      "input_path": "./internals/98_make_docs.ipynb",
      "output_path": "./internals/98_make_docs.ipynb",
      "parameters": {},
      "start_time": "2023-09-02T21:30:22.954651",
      "version": "2.4.0"
    }
  },
  "nbformat": 4,
  "nbformat_minor": 5
}