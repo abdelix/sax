{
  "cells": [
    {
      "cell_type": "code",
      "execution_count": 1,
      "id": "3b88f26be365ef31",
      "metadata": {
        "execution": {
          "iopub.execute_input": "2023-09-02T21:30:19.700222Z",
          "iopub.status.busy": "2023-09-02T21:30:19.699502Z",
          "iopub.status.idle": "2023-09-02T21:30:19.703662Z",
          "shell.execute_reply": "2023-09-02T21:30:19.702935Z"
        },
        "papermill": {
          "duration": 0.011047,
          "end_time": "2023-09-02T21:30:19.705231",
          "exception": false,
          "start_time": "2023-09-02T21:30:19.694184",
          "status": "completed"
        },
        "tags": [
          "remove-cell"
        ]
      },
      "outputs": [],
      "source": []
    },
    {
      "cell_type": "markdown",
      "id": "160321f7-d133-4bb8-8015-b5fc48251bb0",
      "metadata": {
        "papermill": {
          "duration": 0.002532,
          "end_time": "2023-09-02T21:30:19.710453",
          "exception": false,
          "start_time": "2023-09-02T21:30:19.707921",
          "status": "completed"
        },
        "tags": []
      },
      "source": [
        "# Netlist Cleaning\n",
        "\n",
        "> Graph Analysis and cleaning of a SAX Netlist"
      ]
    },
    {
      "cell_type": "code",
      "execution_count": 2,
      "id": "08b54212865a3f54",
      "metadata": {
        "execution": {
          "iopub.execute_input": "2023-09-02T21:30:19.716460Z",
          "iopub.status.busy": "2023-09-02T21:30:19.716033Z",
          "iopub.status.idle": "2023-09-02T21:30:20.743671Z",
          "shell.execute_reply": "2023-09-02T21:30:20.742777Z"
        },
        "papermill": {
          "duration": 1.033084,
          "end_time": "2023-09-02T21:30:20.745821",
          "exception": false,
          "start_time": "2023-09-02T21:30:19.712737",
          "status": "completed"
        },
        "tags": [
          "hide-input"
        ]
      },
      "outputs": [],
      "source": [
        "from collections import defaultdict\n",
        "from typing import Dict, List\n",
        "\n",
        "from natsort import natsorted\n",
        "from sax.backends.additive import graph_edges\n",
        "from sax.typing_ import SDict\n",
        "import networkx as nx\n",
        "\n",
        "try:\n",
        "    import jax.numpy as jnp\n",
        "    JAX_AVAILABLE = True\n",
        "except ImportError:\n",
        "    import numpy as jnp\n",
        "    JAX_AVAILABLE = False"
      ]
    },
    {
      "cell_type": "code",
      "execution_count": 3,
      "id": "ca2dba2e-19a6-4b21-9b94-ea512df17f25",
      "metadata": {
        "execution": {
          "iopub.execute_input": "2023-09-02T21:30:20.753063Z",
          "iopub.status.busy": "2023-09-02T21:30:20.752295Z",
          "iopub.status.idle": "2023-09-02T21:30:20.758523Z",
          "shell.execute_reply": "2023-09-02T21:30:20.757803Z"
        },
        "papermill": {
          "duration": 0.01145,
          "end_time": "2023-09-02T21:30:20.760060",
          "exception": false,
          "start_time": "2023-09-02T21:30:20.748610",
          "status": "completed"
        },
        "tags": []
      },
      "outputs": [],
      "source": [
        "netlist = {\n",
        "    \"instances\": {\n",
        "        \"lft\": \"coupler\",\n",
        "        \"top\": \"straight\",\n",
        "        \"btm\": \"straight\",\n",
        "        \"rgt\": \"coupler\",\n",
        "        \"lft_\": \"coupler\",\n",
        "        \"top_\": \"straight\",\n",
        "        \"btm_\": \"straight\",\n",
        "        \"rgt_\": \"coupler\",\n",
        "    },\n",
        "    \"connections\": {\n",
        "        \"lft,out0\": \"btm,in0\",\n",
        "        \"btm,out0\": \"rgt,in0\",\n",
        "        \"lft,out1\": \"top,in0\",\n",
        "        \"top,out0\": \"rgt,in1\",\n",
        "        \"lft_,out0\": \"btm_,in0\",\n",
        "        \"btm_,out0\": \"rgt_,in0\",\n",
        "        \"lft_,out1\": \"top_,in0\",\n",
        "        \"top_,out0\": \"rgt_,in1\",\n",
        "    },\n",
        "    \"ports\": {\n",
        "        \"in0\": \"lft,in0\",\n",
        "        \"in1\": \"lft,in1\",\n",
        "        \"out0\": \"rgt,out0\",\n",
        "        \"out1\": \"rgt,out1\",\n",
        "    },\n",
        "}"
      ]
    },
    {
      "cell_type": "code",
      "execution_count": 4,
      "id": "0198b0dee5331a68",
      "metadata": {
        "execution": {
          "iopub.execute_input": "2023-09-02T21:30:20.766128Z",
          "iopub.status.busy": "2023-09-02T21:30:20.765539Z",
          "iopub.status.idle": "2023-09-02T21:30:20.770161Z",
          "shell.execute_reply": "2023-09-02T21:30:20.769450Z"
        },
        "papermill": {
          "duration": 0.009287,
          "end_time": "2023-09-02T21:30:20.771685",
          "exception": false,
          "start_time": "2023-09-02T21:30:20.762398",
          "status": "completed"
        },
        "tags": [
          "hide-input"
        ]
      },
      "outputs": [],
      "source": [
        "def _get_connectivity_netlist(netlist):\n",
        "    connectivity_netlist = {\n",
        "        \"instances\": natsorted(netlist[\"instances\"]),\n",
        "        \"connections\": [\n",
        "            (c1.split(\",\")[0], c2.split(\",\")[0])\n",
        "            for c1, c2 in netlist[\"connections\"].items()\n",
        "        ],\n",
        "        \"ports\": [(p, c.split(\",\")[0]) for p, c in netlist[\"ports\"].items()],\n",
        "    }\n",
        "    return connectivity_netlist"
      ]
    },
    {
      "cell_type": "code",
      "execution_count": 5,
      "id": "096e3eb6367d1ffc",
      "metadata": {
        "execution": {
          "iopub.execute_input": "2023-09-02T21:30:20.777686Z",
          "iopub.status.busy": "2023-09-02T21:30:20.777129Z",
          "iopub.status.idle": "2023-09-02T21:30:20.782635Z",
          "shell.execute_reply": "2023-09-02T21:30:20.781916Z"
        },
        "papermill": {
          "duration": 0.010212,
          "end_time": "2023-09-02T21:30:20.784068",
          "exception": false,
          "start_time": "2023-09-02T21:30:20.773856",
          "status": "completed"
        },
        "tags": [
          "hide-input"
        ]
      },
      "outputs": [],
      "source": [
        "def _get_connectivity_graph(netlist):\n",
        "    graph = nx.Graph()\n",
        "    connectivity_netlist = _get_connectivity_netlist(netlist)\n",
        "    for name in connectivity_netlist[\"instances\"]:\n",
        "        graph.add_node(name)\n",
        "    for c1, c2 in connectivity_netlist[\"connections\"]:\n",
        "        graph.add_edge(c1, c2)\n",
        "    for c1, c2 in connectivity_netlist[\"ports\"]:\n",
        "        graph.add_edge(c1, c2)\n",
        "    return graph"
      ]
    },
    {
      "cell_type": "code",
      "execution_count": 6,
      "id": "3be6bc3f-c9b5-40c1-b7d2-d0bc5696b17d",
      "metadata": {
        "execution": {
          "iopub.execute_input": "2023-09-02T21:30:20.790367Z",
          "iopub.status.busy": "2023-09-02T21:30:20.789763Z",
          "iopub.status.idle": "2023-09-02T21:30:21.386141Z",
          "shell.execute_reply": "2023-09-02T21:30:21.385527Z"
        },
        "papermill": {
          "duration": 0.601469,
          "end_time": "2023-09-02T21:30:21.388025",
          "exception": false,
          "start_time": "2023-09-02T21:30:20.786556",
          "status": "completed"
        },
        "tags": []
      },
      "outputs": [
        {
          "data": {
            "image/png": "[encoded data removed]",
            "text/plain": [
              "<Figure size 640x480 with 1 Axes>"
            ]
          },
          "metadata": {},
          "output_type": "display_data"
        }
      ],
      "source": [
        "graph = _get_connectivity_graph(netlist)\n",
        "nx.draw(graph, with_labels=True)"
      ]
    },
    {
      "cell_type": "code",
      "execution_count": 7,
      "id": "9e2ca18c5b4196df",
      "metadata": {
        "execution": {
          "iopub.execute_input": "2023-09-02T21:30:21.396475Z",
          "iopub.status.busy": "2023-09-02T21:30:21.395783Z",
          "iopub.status.idle": "2023-09-02T21:30:21.400082Z",
          "shell.execute_reply": "2023-09-02T21:30:21.399546Z"
        },
        "papermill": {
          "duration": 0.010973,
          "end_time": "2023-09-02T21:30:21.402306",
          "exception": false,
          "start_time": "2023-09-02T21:30:21.391333",
          "status": "completed"
        },
        "tags": [
          "hide-input"
        ]
      },
      "outputs": [],
      "source": [
        "def _get_nodes_to_remove(graph, netlist):\n",
        "    nodes = set()\n",
        "    for port in netlist[\"ports\"]:\n",
        "        nodes |= nx.descendants(graph, port)\n",
        "    nodes_to_remove = set(graph.nodes) - nodes\n",
        "    return list(nodes_to_remove)"
      ]
    },
    {
      "cell_type": "code",
      "execution_count": 8,
      "id": "15d20c02-06fa-4586-8ba3-3cbfa63f8e14",
      "metadata": {
        "execution": {
          "iopub.execute_input": "2023-09-02T21:30:21.409541Z",
          "iopub.status.busy": "2023-09-02T21:30:21.408875Z",
          "iopub.status.idle": "2023-09-02T21:30:21.541496Z",
          "shell.execute_reply": "2023-09-02T21:30:21.540909Z"
        },
        "papermill": {
          "duration": 0.137779,
          "end_time": "2023-09-02T21:30:21.542945",
          "exception": false,
          "start_time": "2023-09-02T21:30:21.405166",
          "status": "completed"
        },
        "tags": []
      },
      "outputs": [
        {
          "data": {
            "image/png": "[encoded data removed]",
            "text/plain": [
              "<Figure size 640x480 with 1 Axes>"
            ]
          },
          "metadata": {},
          "output_type": "display_data"
        }
      ],
      "source": [
        "graph.remove_nodes_from(_get_nodes_to_remove(graph, netlist))\n",
        "nx.draw(graph, with_labels=True)"
      ]
    },
    {
      "cell_type": "code",
      "execution_count": 9,
      "id": "754f720bbfd14b6b",
      "metadata": {
        "execution": {
          "iopub.execute_input": "2023-09-02T21:30:21.553164Z",
          "iopub.status.busy": "2023-09-02T21:30:21.552471Z",
          "iopub.status.idle": "2023-09-02T21:30:21.559600Z",
          "shell.execute_reply": "2023-09-02T21:30:21.559009Z"
        },
        "papermill": {
          "duration": 0.0133,
          "end_time": "2023-09-02T21:30:21.561167",
          "exception": false,
          "start_time": "2023-09-02T21:30:21.547867",
          "status": "completed"
        },
        "tags": [
          "hide-input"
        ]
      },
      "outputs": [],
      "source": [
        "def _remove_unused_instances_flat(flat_netlist):\n",
        "    flat_netlist = {**flat_netlist}\n",
        "\n",
        "    flat_netlist[\"instances\"] = {**flat_netlist[\"instances\"]}\n",
        "    flat_netlist[\"connections\"] = {**flat_netlist[\"connections\"]}\n",
        "    flat_netlist[\"ports\"] = {**flat_netlist[\"ports\"]}\n",
        "\n",
        "    graph = _get_connectivity_graph(flat_netlist)\n",
        "    names = set(_get_nodes_to_remove(graph, flat_netlist))\n",
        "\n",
        "    for name in list(names):\n",
        "        if name in flat_netlist[\"instances\"]:\n",
        "            del flat_netlist[\"instances\"][name]\n",
        "\n",
        "    for conn1, conn2 in list(flat_netlist[\"connections\"].items()):\n",
        "        for conn in [conn1, conn2]:\n",
        "            name, _ = conn.split(\",\")\n",
        "            if name in names and conn1 in flat_netlist[\"connections\"]:\n",
        "                del flat_netlist[\"connections\"][conn1]\n",
        "\n",
        "    for pname, conn in list(flat_netlist[\"ports\"].items()):\n",
        "        name, _ = conn.split(\",\")\n",
        "        if name in names and pname in flat_netlist[\"ports\"]:\n",
        "            del flat_netlist[\"ports\"][pname]\n",
        "\n",
        "    return flat_netlist"
      ]
    },
    {
      "cell_type": "code",
      "execution_count": 10,
      "id": "719f8ec9-7f4b-45d3-97ae-10572684b0f7",
      "metadata": {
        "execution": {
          "iopub.execute_input": "2023-09-02T21:30:21.569158Z",
          "iopub.status.busy": "2023-09-02T21:30:21.568843Z",
          "iopub.status.idle": "2023-09-02T21:30:21.573982Z",
          "shell.execute_reply": "2023-09-02T21:30:21.573469Z"
        },
        "papermill": {
          "duration": 0.010775,
          "end_time": "2023-09-02T21:30:21.575321",
          "exception": false,
          "start_time": "2023-09-02T21:30:21.564546",
          "status": "completed"
        },
        "tags": []
      },
      "outputs": [
        {
          "data": {
            "text/plain": [
              "{'instances': {'lft': 'coupler',\n",
              "  'top': 'straight',\n",
              "  'btm': 'straight',\n",
              "  'rgt': 'coupler'},\n",
              " 'connections': {'lft,out0': 'btm,in0',\n",
              "  'btm,out0': 'rgt,in0',\n",
              "  'lft,out1': 'top,in0',\n",
              "  'top,out0': 'rgt,in1'},\n",
              " 'ports': {'in0': 'lft,in0',\n",
              "  'in1': 'lft,in1',\n",
              "  'out0': 'rgt,out0',\n",
              "  'out1': 'rgt,out1'}}"
            ]
          },
          "execution_count": 10,
          "metadata": {},
          "output_type": "execute_result"
        }
      ],
      "source": [
        "_remove_unused_instances_flat(netlist)"
      ]
    },
    {
      "cell_type": "markdown",
      "id": "440770df38e90efe",
      "metadata": {},
      "source": [
        ":::{eval-rst}\n",
        ".. autofunction:: sax.netlist_cleaning.remove_unused_instances\n",
        ":::\n"
      ]
    },
    {
      "cell_type": "code",
      "execution_count": 11,
      "id": "a079cc98411fbdd2",
      "metadata": {
        "execution": {
          "iopub.execute_input": "2023-09-02T21:30:21.621375Z",
          "iopub.status.busy": "2023-09-02T21:30:21.620595Z",
          "iopub.status.idle": "2023-09-02T21:30:21.626555Z",
          "shell.execute_reply": "2023-09-02T21:30:21.625607Z"
        },
        "papermill": {
          "duration": 0.049278,
          "end_time": "2023-09-02T21:30:21.628087",
          "exception": false,
          "start_time": "2023-09-02T21:30:21.578809",
          "status": "completed"
        },
        "tags": [
          "hide-input"
        ]
      },
      "outputs": [],
      "source": [
        "def remove_unused_instances(recursive_netlist):\n",
        "    recursive_netlist = {**recursive_netlist}\n",
        "\n",
        "    for name, flat_netlist in recursive_netlist.items():\n",
        "        recursive_netlist[name] = _remove_unused_instances_flat(flat_netlist)\n",
        "\n",
        "    return recursive_netlist"
      ]
    },
    {
      "cell_type": "code",
      "execution_count": 12,
      "id": "564c7b5f-a212-4afc-b4db-d7de5d92d7fa",
      "metadata": {
        "execution": {
          "iopub.execute_input": "2023-09-02T21:30:21.636491Z",
          "iopub.status.busy": "2023-09-02T21:30:21.635830Z",
          "iopub.status.idle": "2023-09-02T21:30:21.641491Z",
          "shell.execute_reply": "2023-09-02T21:30:21.640992Z"
        },
        "papermill": {
          "duration": 0.011373,
          "end_time": "2023-09-02T21:30:21.642816",
          "exception": false,
          "start_time": "2023-09-02T21:30:21.631443",
          "status": "completed"
        },
        "tags": []
      },
      "outputs": [
        {
          "data": {
            "text/plain": [
              "{'top_level': {'instances': {'lft': 'coupler',\n",
              "   'top': 'straight',\n",
              "   'btm': 'straight',\n",
              "   'rgt': 'coupler'},\n",
              "  'connections': {'lft,out0': 'btm,in0',\n",
              "   'btm,out0': 'rgt,in0',\n",
              "   'lft,out1': 'top,in0',\n",
              "   'top,out0': 'rgt,in1'},\n",
              "  'ports': {'in0': 'lft,in0',\n",
              "   'in1': 'lft,in1',\n",
              "   'out0': 'rgt,out0',\n",
              "   'out1': 'rgt,out1'}},\n",
              " 'test': {'instances': {'lft': 'coupler',\n",
              "   'top': 'straight',\n",
              "   'btm': 'straight',\n",
              "   'rgt': 'coupler'},\n",
              "  'connections': {'lft,out0': 'btm,in0',\n",
              "   'btm,out0': 'rgt,in0',\n",
              "   'lft,out1': 'top,in0',\n",
              "   'top,out0': 'rgt,in1'},\n",
              "  'ports': {'in0': 'lft,in0',\n",
              "   'in1': 'lft,in1',\n",
              "   'out0': 'rgt,out0',\n",
              "   'out1': 'rgt,out1'}}}"
            ]
          },
          "execution_count": 12,
          "metadata": {},
          "output_type": "execute_result"
        }
      ],
      "source": [
        "remove_unused_instances({\"top_level\": netlist, \"test\": netlist})"
      ]
    }
  ],
  "metadata": {
    "kernelspec": {
      "display_name": "sax",
      "language": "python",
      "name": "sax"
    },
    "language_info": {
      "codemirror_mode": {
        "name": "ipython",
        "version": 3
      },
      "file_extension": ".py",
      "mimetype": "text/x-python",
      "name": "python",
      "nbconvert_exporter": "python",
      "pygments_lexer": "ipython3",
      "version": "3.11.5"
    },
    "papermill": {
      "default_parameters": {},
      "duration": 4.080514,
      "end_time": "2023-09-02T21:30:22.266404",
      "environment_variables": {},
      "exception": null,
      "input_path": "./internals/06b_netlist_cleaning.ipynb",
      "output_path": "./internals/06b_netlist_cleaning.ipynb",
      "parameters": {},
      "start_time": "2023-09-02T21:30:18.185890",
      "version": "2.4.0"
    }
  },
  "nbformat": 4,
  "nbformat_minor": 5
}