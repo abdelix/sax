{
  "cells": [
    {
      "cell_type": "code",
      "execution_count": 1,
      "id": "fdd59d42ae4c88ef",
      "metadata": {
        "execution": {
          "iopub.execute_input": "2023-09-02T21:31:59.797257Z",
          "iopub.status.busy": "2023-09-02T21:31:59.796158Z",
          "iopub.status.idle": "2023-09-02T21:31:59.800812Z",
          "shell.execute_reply": "2023-09-02T21:31:59.800158Z"
        },
        "papermill": {
          "duration": 0.012373,
          "end_time": "2023-09-02T21:31:59.802361",
          "exception": false,
          "start_time": "2023-09-02T21:31:59.789988",
          "status": "completed"
        },
        "tags": [
          "remove-cell"
        ]
      },
      "outputs": [],
      "source": []
    },
    {
      "cell_type": "markdown",
      "id": "62619887-4d1d-4218-8259-9dbe991cfded",
      "metadata": {
        "papermill": {
          "duration": 0.00215,
          "end_time": "2023-09-02T21:31:59.806807",
          "exception": false,
          "start_time": "2023-09-02T21:31:59.804657",
          "status": "completed"
        },
        "tags": []
      },
      "source": [
        "# Patched\n",
        "\n",
        "> We patch some library and objects that don't belong to SAX. Don't worry, it's nothing substantial."
      ]
    },
    {
      "cell_type": "code",
      "execution_count": 2,
      "id": "65aea61286f4a4f9",
      "metadata": {
        "execution": {
          "iopub.execute_input": "2023-09-02T21:31:59.811934Z",
          "iopub.status.busy": "2023-09-02T21:31:59.811439Z",
          "iopub.status.idle": "2023-09-02T21:32:00.337453Z",
          "shell.execute_reply": "2023-09-02T21:32:00.336798Z"
        },
        "papermill": {
          "duration": 0.53156,
          "end_time": "2023-09-02T21:32:00.340185",
          "exception": false,
          "start_time": "2023-09-02T21:31:59.808625",
          "status": "completed"
        },
        "tags": [
          "remove-cell"
        ]
      },
      "outputs": [],
      "source": [
        "import matplotlib.pyplot as plt\n",
        "from fastcore.test import test_eq\n",
        "from pytest import approx, raises\n",
        "\n",
        "import os, sys; sys.stderr = open(os.devnull, \"w\")"
      ]
    },
    {
      "cell_type": "code",
      "execution_count": 3,
      "id": "d704637b9c92e53d",
      "metadata": {
        "execution": {
          "iopub.execute_input": "2023-09-02T21:32:00.349655Z",
          "iopub.status.busy": "2023-09-02T21:32:00.348763Z",
          "iopub.status.idle": "2023-09-02T21:32:01.294266Z",
          "shell.execute_reply": "2023-09-02T21:32:01.293545Z"
        },
        "papermill": {
          "duration": 0.952807,
          "end_time": "2023-09-02T21:32:01.296834",
          "exception": false,
          "start_time": "2023-09-02T21:32:00.344027",
          "status": "completed"
        },
        "tags": [
          "hide-input"
        ]
      },
      "outputs": [],
      "source": [
        "from __future__ import annotations\n",
        "\n",
        "import re\n",
        "from textwrap import dedent\n",
        "\n",
        "from fastcore.basics import patch_to\n",
        "from sax.typing_ import is_complex_float, is_float\n",
        "\n",
        "try:\n",
        "    import jax.numpy as jnp\n",
        "    from flax.core import FrozenDict\n",
        "    from jaxlib.xla_extension import DeviceArray\n",
        "    JAX_AVAILABLE = True\n",
        "except (ImportError, ModuleNotFoundError):\n",
        "    import numpy as jnp\n",
        "    DeviceArray = jnp.ndarray\n",
        "    FrozenDict = dict\n",
        "    JAX_AVAILABLE = False"
      ]
    },
    {
      "cell_type": "markdown",
      "id": "e37bb974-621b-4fc2-b4a8-d3f51d4f72ad",
      "metadata": {
        "papermill": {
          "duration": 0.002133,
          "end_time": "2023-09-02T21:32:01.301238",
          "exception": false,
          "start_time": "2023-09-02T21:32:01.299105",
          "status": "completed"
        },
        "tags": []
      },
      "source": [
        "Paching `FrozenDict` to have the same repr as a normal dict:"
      ]
    },
    {
      "cell_type": "code",
      "execution_count": 4,
      "id": "a028a0aecbacc024",
      "metadata": {
        "execution": {
          "iopub.execute_input": "2023-09-02T21:32:01.306736Z",
          "iopub.status.busy": "2023-09-02T21:32:01.305990Z",
          "iopub.status.idle": "2023-09-02T21:32:01.310390Z",
          "shell.execute_reply": "2023-09-02T21:32:01.309923Z"
        },
        "papermill": {
          "duration": 0.00859,
          "end_time": "2023-09-02T21:32:01.311704",
          "exception": false,
          "start_time": "2023-09-02T21:32:01.303114",
          "status": "completed"
        },
        "tags": [
          "remove-cell"
        ]
      },
      "outputs": [],
      "source": [
        "\n",
        "if JAX_AVAILABLE:\n",
        "    @patch_to(FrozenDict)\n",
        "    def __repr__(self):  # type: ignore\n",
        "        _dict = lambda d: dict(\n",
        "            {k: (v if not isinstance(v, self.__class__) else dict(v)) for k, v in d.items()}\n",
        "        )\n",
        "        return f\"{self.__class__.__name__}({dict.__repr__(_dict(self))})\""
      ]
    },
    {
      "cell_type": "markdown",
      "id": "4484b223-c22e-4537-8f90-df47ef31d086",
      "metadata": {
        "papermill": {
          "duration": 0.001884,
          "end_time": "2023-09-02T21:32:01.315484",
          "exception": false,
          "start_time": "2023-09-02T21:32:01.313600",
          "status": "completed"
        },
        "tags": []
      },
      "source": [
        "Patching `DeviceArray` to have less verbose reprs for 0-D arrays:"
      ]
    },
    {
      "cell_type": "code",
      "execution_count": 5,
      "id": "0eb8b2026453df45",
      "metadata": {
        "execution": {
          "iopub.execute_input": "2023-09-02T21:32:01.320774Z",
          "iopub.status.busy": "2023-09-02T21:32:01.320333Z",
          "iopub.status.idle": "2023-09-02T21:32:01.327277Z",
          "shell.execute_reply": "2023-09-02T21:32:01.326787Z"
        },
        "papermill": {
          "duration": 0.011149,
          "end_time": "2023-09-02T21:32:01.328596",
          "exception": false,
          "start_time": "2023-09-02T21:32:01.317447",
          "status": "completed"
        },
        "tags": [
          "remove-cell"
        ]
      },
      "outputs": [],
      "source": [
        "if JAX_AVAILABLE:\n",
        "    @patch_to(DeviceArray)\n",
        "    def __repr__(self):  # type: ignore\n",
        "        if self.ndim == 0 and is_float(self):\n",
        "            v = float(self)\n",
        "            return repr(round(v, 5)) if abs(v) > 1e-4 else repr(v)\n",
        "        elif self.ndim == 0 and is_complex_float(self):\n",
        "            r, i = float(self.real), float(self.imag)\n",
        "            r = round(r, 5) if abs(r) > 1e-4 else r\n",
        "            i = round(i, 5) if abs(i) > 1e-4 else i\n",
        "            s = repr(r + 1j * i)\n",
        "            if s[0] == \"(\" and s[-1] == \")\":\n",
        "                s = s[1:-1]\n",
        "            return s\n",
        "        else:\n",
        "            s = super(self.__class__, self).__repr__()\n",
        "            s = s.replace(\"DeviceArray(\", \"      array(\")\n",
        "            s = re.sub(r\", dtype=.*[,)]\", \"\", s)\n",
        "            s = re.sub(r\" weak_type=.*[,)]\", \"\", s)\n",
        "            return dedent(s)+\")\""
      ]
    },
    {
      "cell_type": "code",
      "execution_count": 6,
      "id": "5f6c14e4-723e-4ad9-9b20-fde3d7b7f86f",
      "metadata": {
        "execution": {
          "iopub.execute_input": "2023-09-02T21:32:01.333870Z",
          "iopub.status.busy": "2023-09-02T21:32:01.333328Z",
          "iopub.status.idle": "2023-09-02T21:32:01.339497Z",
          "shell.execute_reply": "2023-09-02T21:32:01.339008Z"
        },
        "papermill": {
          "duration": 0.01157,
          "end_time": "2023-09-02T21:32:01.342066",
          "exception": false,
          "start_time": "2023-09-02T21:32:01.330496",
          "status": "completed"
        },
        "tags": []
      },
      "outputs": [
        {
          "data": {
            "text/plain": [
              "array(3)"
            ]
          },
          "execution_count": 6,
          "metadata": {},
          "output_type": "execute_result"
        }
      ],
      "source": [
        "jnp.array(3)"
      ]
    },
    {
      "cell_type": "code",
      "execution_count": 7,
      "id": "02676641-cddd-4f70-8138-b4530dd318cd",
      "metadata": {
        "execution": {
          "iopub.execute_input": "2023-09-02T21:32:01.347726Z",
          "iopub.status.busy": "2023-09-02T21:32:01.347398Z",
          "iopub.status.idle": "2023-09-02T21:32:01.351266Z",
          "shell.execute_reply": "2023-09-02T21:32:01.350780Z"
        },
        "papermill": {
          "duration": 0.009148,
          "end_time": "2023-09-02T21:32:01.353366",
          "exception": false,
          "start_time": "2023-09-02T21:32:01.344218",
          "status": "completed"
        },
        "tags": []
      },
      "outputs": [
        {
          "data": {
            "text/plain": [
              "array([3, 4, 5])"
            ]
          },
          "execution_count": 7,
          "metadata": {},
          "output_type": "execute_result"
        }
      ],
      "source": [
        "jnp.array([3, 4, 5])"
      ]
    }
  ],
  "metadata": {
    "kernelspec": {
      "display_name": "sax",
      "language": "python",
      "name": "sax"
    },
    "language_info": {
      "codemirror_mode": {
        "name": "ipython",
        "version": 3
      },
      "file_extension": ".py",
      "mimetype": "text/x-python",
      "name": "python",
      "nbconvert_exporter": "python",
      "pygments_lexer": "ipython3",
      "version": "3.11.5"
    },
    "papermill": {
      "default_parameters": {},
      "duration": 3.381634,
      "end_time": "2023-09-02T21:32:01.874894",
      "environment_variables": {},
      "exception": null,
      "input_path": "./internals/01_patched.ipynb",
      "output_path": "./internals/01_patched.ipynb",
      "parameters": {},
      "start_time": "2023-09-02T21:31:58.493260",
      "version": "2.4.0"
    }
  },
  "nbformat": 4,
  "nbformat_minor": 5
}