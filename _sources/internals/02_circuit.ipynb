{
  "cells": [
    {
      "cell_type": "markdown",
      "id": "2c9c99fe",
      "metadata": {
        "papermill": {
          "duration": 0.008918,
          "end_time": "2023-09-18T19:54:50.634509",
          "exception": false,
          "start_time": "2023-09-18T19:54:50.625591",
          "status": "completed"
        },
        "tags": []
      },
      "source": [
        "# Circuit\n",
        "\n",
        "> SAX Circuits"
      ]
    },
    {
      "cell_type": "code",
      "execution_count": 1,
      "id": "666ac6a3-e9d7-424d-a85e-7c9b74e7ec58",
      "metadata": {
        "execution": {
          "iopub.execute_input": "2023-09-18T19:54:50.649101Z",
          "iopub.status.busy": "2023-09-18T19:54:50.648132Z",
          "iopub.status.idle": "2023-09-18T19:54:51.746808Z",
          "shell.execute_reply": "2023-09-18T19:54:51.745772Z"
        },
        "papermill": {
          "duration": 1.108137,
          "end_time": "2023-09-18T19:54:51.749003",
          "exception": false,
          "start_time": "2023-09-18T19:54:50.640866",
          "status": "completed"
        },
        "tags": []
      },
      "outputs": [],
      "source": [
        "from functools import partial\n",
        "\n",
        "import sax\n",
        "from sax.circuit import _create_dag, _draw_dag, _find_root, _find_leaves, _validate_models, _flat_circuit"
      ]
    },
    {
      "cell_type": "markdown",
      "id": "45ad2306-1ead-4b8c-b91e-c02ce4569b3a",
      "metadata": {
        "papermill": {
          "duration": 0.006495,
          "end_time": "2023-09-18T19:54:51.761636",
          "exception": false,
          "start_time": "2023-09-18T19:54:51.755141",
          "status": "completed"
        },
        "tags": []
      },
      "source": [
        "Let's start by creating a simple recursive netlist with gdsfactory.\n",
        "\n",
        ":::{note}\n",
        "We are using gdsfactory to create our netlist because it allows us to see the circuit we want to simulate and because we're striving to have a compatible netlist implementation in SAX.\n",
        "\n",
        "However... gdsfactory is not a dependency of SAX. You can also define your circuits by hand (see [SAX Quick Start](../examples/01_quick_start.ipynb) or you can use another tool to programmatically construct your netlists.\n",
        ":::"
      ]
    },
    {
      "cell_type": "code",
      "execution_count": 2,
      "id": "804a1c9b-c02b-4af6-ba3d-858f76634a69",
      "metadata": {
        "execution": {
          "iopub.execute_input": "2023-09-18T19:54:51.776725Z",
          "iopub.status.busy": "2023-09-18T19:54:51.775691Z",
          "iopub.status.idle": "2023-09-18T19:54:55.471583Z",
          "shell.execute_reply": "2023-09-18T19:54:55.470752Z"
        },
        "papermill": {
          "duration": 3.70662,
          "end_time": "2023-09-18T19:54:55.473831",
          "exception": false,
          "start_time": "2023-09-18T19:54:51.767211",
          "status": "completed"
        },
        "tags": []
      },
      "outputs": [
        {
          "name": "stderr",
          "output_type": "stream",
          "text": [
            "\u001b[32m2023-09-18 19:54:54.187\u001b[0m | \u001b[33m\u001b[1mWARNING \u001b[0m | \u001b[36mgdsfactory.pdk\u001b[0m:\u001b[36mget_active_pdk\u001b[0m:\u001b[36m721\u001b[0m - \u001b[33m\u001b[1mNo active PDK. Activating generic PDK.\n",
            "\u001b[0m\n"
          ]
        },
        {
          "name": "stderr",
          "output_type": "stream",
          "text": [
            "\u001b[32m2023-09-18 19:54:54.471\u001b[0m | \u001b[1mINFO    \u001b[0m | \u001b[36mgdsfactory.technology.layer_views\u001b[0m:\u001b[36m__init__\u001b[0m:\u001b[36m790\u001b[0m - \u001b[1mImporting LayerViews from YAML file: '/opt/conda/lib/python3.10/site-packages/gdsfactory/generic_tech/layer_views.yaml'.\u001b[0m\n"
          ]
        },
        {
          "name": "stderr",
          "output_type": "stream",
          "text": [
            "\u001b[32m2023-09-18 19:54:54.473\u001b[0m | \u001b[1mINFO    \u001b[0m | \u001b[36mgdsfactory.pdk\u001b[0m:\u001b[36mactivate\u001b[0m:\u001b[36m334\u001b[0m - \u001b[1m'generic' PDK is now active\u001b[0m\n"
          ]
        },
        {
          "data": {
            "image/png": "[encoded data removed]",
            "text/plain": [
              "<Figure size 640x480 with 1 Axes>"
            ]
          },
          "metadata": {},
          "output_type": "display_data"
        }
      ],
      "source": [
        "import gdsfactory as gf\n",
        "from IPython.display import display\n",
        "from gdsfactory.components import mzi\n",
        "from gdsfactory.get_netlist import get_netlist_recursive, get_netlist, get_netlist_yaml\n",
        "from gdsfactory.quickplotter import quickplot\n",
        "\n",
        "\n",
        "@gf.cell\n",
        "def twomzi():\n",
        "    c = gf.Component()\n",
        "\n",
        "    # instances\n",
        "    mzi1 = mzi(delta_length=10)\n",
        "    mzi2 = mzi(delta_length=20)\n",
        "\n",
        "    # references\n",
        "    mzi1_ = c << mzi1\n",
        "    mzi2_ = c << mzi2\n",
        "\n",
        "    # connections\n",
        "    mzi2_.connect(\"o1\", mzi1_.ports[\"o2\"])\n",
        "\n",
        "    # ports\n",
        "    c.add_port(\"o1\", port=mzi1_.ports[\"o1\"])\n",
        "    c.add_port(\"o2\", port=mzi2_.ports[\"o2\"])\n",
        "    return c\n",
        "\n",
        "\n",
        "comp = twomzi()\n",
        "quickplot(comp)\n",
        "recnet = sax.RecursiveNetlist.parse_obj(\n",
        "    get_netlist_recursive(\n",
        "        comp, get_netlist_func=partial(get_netlist, full_settings=True)\n",
        "    )\n",
        ")\n",
        "flatnet = recnet.__root__[\"mzi_delta_length10\"]"
      ]
    },
    {
      "cell_type": "markdown",
      "id": "2b2a38fb-c83e-4b71-b195-ecca485fb0a3",
      "metadata": {
        "papermill": {
          "duration": 0.007162,
          "end_time": "2023-09-18T19:54:55.488933",
          "exception": false,
          "start_time": "2023-09-18T19:54:55.481771",
          "status": "completed"
        },
        "tags": []
      },
      "source": [
        "To be able to model this device we'll need some SAX dummy models:"
      ]
    },
    {
      "cell_type": "code",
      "execution_count": 3,
      "id": "2035cd9e-c65e-45b6-bd83-4ad19e4630fa",
      "metadata": {
        "execution": {
          "iopub.execute_input": "2023-09-18T19:54:55.504586Z",
          "iopub.status.busy": "2023-09-18T19:54:55.503448Z",
          "iopub.status.idle": "2023-09-18T19:54:55.509351Z",
          "shell.execute_reply": "2023-09-18T19:54:55.507896Z"
        },
        "papermill": {
          "duration": 0.01586,
          "end_time": "2023-09-18T19:54:55.511266",
          "exception": false,
          "start_time": "2023-09-18T19:54:55.495406",
          "status": "completed"
        },
        "tags": []
      },
      "outputs": [],
      "source": [
        "def bend_euler(\n",
        "    angle=90.0,\n",
        "    p=0.5,\n",
        "    # cross_section=\"strip\",\n",
        "    # direction=\"ccw\",\n",
        "    # with_bbox=True,\n",
        "    # with_arc_floorplan=True,\n",
        "    # npoints=720,\n",
        "):\n",
        "    return sax.reciprocal({\n",
        "        ('o1', 'o2'): 1.0\n",
        "    })"
      ]
    },
    {
      "cell_type": "code",
      "execution_count": 4,
      "id": "192c4288-20d1-4aca-b3d0-277db6bb5118",
      "metadata": {
        "execution": {
          "iopub.execute_input": "2023-09-18T19:54:55.526191Z",
          "iopub.status.busy": "2023-09-18T19:54:55.525704Z",
          "iopub.status.idle": "2023-09-18T19:54:55.530446Z",
          "shell.execute_reply": "2023-09-18T19:54:55.529680Z"
        },
        "papermill": {
          "duration": 0.014653,
          "end_time": "2023-09-18T19:54:55.532579",
          "exception": false,
          "start_time": "2023-09-18T19:54:55.517926",
          "status": "completed"
        },
        "tags": []
      },
      "outputs": [],
      "source": [
        "def mmi1x2(\n",
        "    width=0.5,\n",
        "    width_taper= 1.0,\n",
        "    length_taper= 10.0,\n",
        "    length_mmi= 5.5,\n",
        "    width_mmi= 2.5,\n",
        "    gap_mmi= 0.25,\n",
        "    # cross_section= strip,\n",
        "    # taper= {function= taper},\n",
        "    # with_bbox= True,\n",
        "):\n",
        "    return sax.reciprocal({\n",
        "        ('o1', 'o2'): 0.45**0.5,\n",
        "        ('o1', 'o3'): 0.45**0.5,\n",
        "    })"
      ]
    },
    {
      "cell_type": "code",
      "execution_count": 5,
      "id": "861a5b4a-d8d9-4ea0-a733-39e213a28ead",
      "metadata": {
        "execution": {
          "iopub.execute_input": "2023-09-18T19:54:55.547172Z",
          "iopub.status.busy": "2023-09-18T19:54:55.546569Z",
          "iopub.status.idle": "2023-09-18T19:54:55.553274Z",
          "shell.execute_reply": "2023-09-18T19:54:55.552561Z"
        },
        "papermill": {
          "duration": 0.015802,
          "end_time": "2023-09-18T19:54:55.554969",
          "exception": false,
          "start_time": "2023-09-18T19:54:55.539167",
          "status": "completed"
        },
        "tags": []
      },
      "outputs": [],
      "source": [
        "def mmi2x2(\n",
        "    width=0.5,\n",
        "    width_taper= 1.0,\n",
        "    length_taper= 10.0,\n",
        "    length_mmi= 5.5,\n",
        "    width_mmi= 2.5,\n",
        "    gap_mmi= 0.25,\n",
        "    # cross_section= strip,\n",
        "    # taper= {function= taper},\n",
        "    # with_bbox= True,\n",
        "):\n",
        "    return sax.reciprocal({\n",
        "        ('o1', 'o3'): 0.45**0.5,\n",
        "        ('o1', 'o4'): 1j * 0.45**0.5,\n",
        "        ('o2', 'o3'): 1j * 0.45**0.5,\n",
        "        ('o2', 'o4'): 0.45**0.5,\n",
        "    })"
      ]
    },
    {
      "cell_type": "code",
      "execution_count": 6,
      "id": "84046c8e-45a7-4aa0-bbdf-c82cd2d0e24e",
      "metadata": {
        "execution": {
          "iopub.execute_input": "2023-09-18T19:54:55.571903Z",
          "iopub.status.busy": "2023-09-18T19:54:55.570925Z",
          "iopub.status.idle": "2023-09-18T19:54:55.575477Z",
          "shell.execute_reply": "2023-09-18T19:54:55.574773Z"
        },
        "papermill": {
          "duration": 0.015672,
          "end_time": "2023-09-18T19:54:55.577326",
          "exception": false,
          "start_time": "2023-09-18T19:54:55.561654",
          "status": "completed"
        },
        "tags": []
      },
      "outputs": [],
      "source": [
        "def straight(\n",
        "    length=0.01,\n",
        "    #npoints=2,\n",
        "    #with_bbox=True,\n",
        "    #cross_section=...\n",
        "):\n",
        "    return sax.reciprocal({\n",
        "        ('o1', 'o2'): 1.0\n",
        "    })"
      ]
    },
    {
      "cell_type": "markdown",
      "id": "8efe90e4-dfe6-40bd-aa0a-26c74738d688",
      "metadata": {
        "papermill": {
          "duration": 0.007126,
          "end_time": "2023-09-18T19:54:55.591381",
          "exception": false,
          "start_time": "2023-09-18T19:54:55.584255",
          "status": "completed"
        },
        "tags": []
      },
      "source": [
        "In SAX, we usually aggregate the available models in a models dictionary:"
      ]
    },
    {
      "cell_type": "code",
      "execution_count": 7,
      "id": "c1ac9132-0ee2-443b-98f4-f790234551b0",
      "metadata": {
        "execution": {
          "iopub.execute_input": "2023-09-18T19:54:55.607051Z",
          "iopub.status.busy": "2023-09-18T19:54:55.606345Z",
          "iopub.status.idle": "2023-09-18T19:54:55.610254Z",
          "shell.execute_reply": "2023-09-18T19:54:55.609637Z"
        },
        "papermill": {
          "duration": 0.013645,
          "end_time": "2023-09-18T19:54:55.612036",
          "exception": false,
          "start_time": "2023-09-18T19:54:55.598391",
          "status": "completed"
        },
        "tags": []
      },
      "outputs": [],
      "source": [
        "models = {\n",
        "    'straight': straight,\n",
        "    'bend_euler': bend_euler,\n",
        "    'mmi1x2': mmi1x2,\n",
        "}"
      ]
    },
    {
      "cell_type": "markdown",
      "id": "05c6a808-1fbf-446c-badd-03a36c76e438",
      "metadata": {
        "papermill": {
          "duration": 0.00655,
          "end_time": "2023-09-18T19:54:55.625008",
          "exception": false,
          "start_time": "2023-09-18T19:54:55.618458",
          "status": "completed"
        },
        "tags": []
      },
      "source": [
        "We can also create some dummy multimode models:"
      ]
    },
    {
      "cell_type": "code",
      "execution_count": 8,
      "id": "b749320e-5a86-4c05-9736-89936b0d31b3",
      "metadata": {
        "execution": {
          "iopub.execute_input": "2023-09-18T19:54:55.647707Z",
          "iopub.status.busy": "2023-09-18T19:54:55.646787Z",
          "iopub.status.idle": "2023-09-18T19:54:55.651917Z",
          "shell.execute_reply": "2023-09-18T19:54:55.651264Z"
        },
        "papermill": {
          "duration": 0.015019,
          "end_time": "2023-09-18T19:54:55.653447",
          "exception": false,
          "start_time": "2023-09-18T19:54:55.638428",
          "status": "completed"
        },
        "tags": []
      },
      "outputs": [],
      "source": [
        "def bend_euler_mm(\n",
        "    angle=90.0,\n",
        "    p=0.5,\n",
        "    # cross_section=\"strip\",\n",
        "    # direction=\"ccw\",\n",
        "    # with_bbox=True,\n",
        "    # with_arc_floorplan=True,\n",
        "    # npoints=720,\n",
        "):\n",
        "    return sax.reciprocal({\n",
        "        ('o1@TE', 'o2@TE'): 0.9**0.5,\n",
        "        #('o1@TE', 'o2@TM'): 0.01**0.5,\n",
        "        #('o1@TM', 'o2@TE'): 0.01**0.5,\n",
        "        ('o1@TM', 'o2@TM'): 0.8**0.5,\n",
        "    })"
      ]
    },
    {
      "cell_type": "code",
      "execution_count": 9,
      "id": "958054fb-31f0-4d2c-9304-fdb72af8f333",
      "metadata": {
        "execution": {
          "iopub.execute_input": "2023-09-18T19:54:55.669766Z",
          "iopub.status.busy": "2023-09-18T19:54:55.668684Z",
          "iopub.status.idle": "2023-09-18T19:54:55.675241Z",
          "shell.execute_reply": "2023-09-18T19:54:55.674566Z"
        },
        "papermill": {
          "duration": 0.017652,
          "end_time": "2023-09-18T19:54:55.677961",
          "exception": false,
          "start_time": "2023-09-18T19:54:55.660309",
          "status": "completed"
        },
        "tags": []
      },
      "outputs": [],
      "source": [
        "def mmi1x2_mm(\n",
        "    width=0.5,\n",
        "    width_taper= 1.0,\n",
        "    length_taper= 10.0,\n",
        "    length_mmi= 5.5,\n",
        "    width_mmi= 2.5,\n",
        "    gap_mmi= 0.25,\n",
        "    # cross_section= strip,\n",
        "    # taper= {function= taper},\n",
        "    # with_bbox= True,\n",
        "):\n",
        "    return sax.reciprocal({\n",
        "        ('o1@TE', 'o2@TE'): 0.45**0.5,\n",
        "        ('o1@TE', 'o3@TE'): 0.45**0.5,\n",
        "        ('o1@TM', 'o2@TM'): 0.41**0.5,\n",
        "        ('o1@TM', 'o3@TM'): 0.41**0.5,\n",
        "        ('o1@TE', 'o2@TM'): 0.01**0.5,\n",
        "        ('o1@TM', 'o2@TE'): 0.01**0.5,\n",
        "        ('o1@TE', 'o3@TM'): 0.02**0.5,\n",
        "        ('o1@TM', 'o3@TE'): 0.02**0.5,\n",
        "    })"
      ]
    },
    {
      "cell_type": "code",
      "execution_count": 10,
      "id": "34bad3c0-34a4-4b35-a942-7f75a204c1d0",
      "metadata": {
        "execution": {
          "iopub.execute_input": "2023-09-18T19:54:55.735111Z",
          "iopub.status.busy": "2023-09-18T19:54:55.734572Z",
          "iopub.status.idle": "2023-09-18T19:54:55.739916Z",
          "shell.execute_reply": "2023-09-18T19:54:55.739183Z"
        },
        "papermill": {
          "duration": 0.015944,
          "end_time": "2023-09-18T19:54:55.741646",
          "exception": false,
          "start_time": "2023-09-18T19:54:55.725702",
          "status": "completed"
        },
        "tags": []
      },
      "outputs": [],
      "source": [
        "def straight_mm(\n",
        "    length=0.01,\n",
        "    #npoints=2,\n",
        "    #with_bbox=True,\n",
        "    #cross_section=...\n",
        "):\n",
        "    return sax.reciprocal({\n",
        "        ('o1@TE', 'o2@TE'): 1.0,\n",
        "        ('o1@TM', 'o2@TM'): 1.0,\n",
        "    })"
      ]
    },
    {
      "cell_type": "code",
      "execution_count": 11,
      "id": "b9476eb5-94e0-45c3-8e7e-a82fead8807b",
      "metadata": {
        "execution": {
          "iopub.execute_input": "2023-09-18T19:54:55.758335Z",
          "iopub.status.busy": "2023-09-18T19:54:55.757820Z",
          "iopub.status.idle": "2023-09-18T19:54:55.761794Z",
          "shell.execute_reply": "2023-09-18T19:54:55.761007Z"
        },
        "papermill": {
          "duration": 0.015034,
          "end_time": "2023-09-18T19:54:55.763472",
          "exception": false,
          "start_time": "2023-09-18T19:54:55.748438",
          "status": "completed"
        },
        "tags": []
      },
      "outputs": [],
      "source": [
        "models_mm = {\n",
        "    'straight': straight_mm,\n",
        "    'bend_euler': bend_euler_mm,\n",
        "    'mmi1x2': mmi1x2_mm,\n",
        "}"
      ]
    },
    {
      "cell_type": "markdown",
      "id": "3df7d9b6-acbb-4406-a3c8-8a9ad09db768",
      "metadata": {
        "papermill": {
          "duration": 0.006697,
          "end_time": "2023-09-18T19:54:55.777519",
          "exception": false,
          "start_time": "2023-09-18T19:54:55.770822",
          "status": "completed"
        },
        "tags": []
      },
      "source": [
        "We can now represent our recursive netlist model as a Directed Acyclic Graph:"
      ]
    },
    {
      "cell_type": "code",
      "execution_count": 12,
      "id": "b6d6e06e-b501-4d3e-8eb6-0d7117abf8e8",
      "metadata": {
        "execution": {
          "iopub.execute_input": "2023-09-18T19:54:55.794083Z",
          "iopub.status.busy": "2023-09-18T19:54:55.793185Z",
          "iopub.status.idle": "2023-09-18T19:54:56.009073Z",
          "shell.execute_reply": "2023-09-18T19:54:56.008241Z"
        },
        "papermill": {
          "duration": 0.226698,
          "end_time": "2023-09-18T19:54:56.010919",
          "exception": false,
          "start_time": "2023-09-18T19:54:55.784221",
          "status": "completed"
        },
        "tags": []
      },
      "outputs": [
        {
          "data": {
            "image/png": "[encoded data removed]",
            "text/plain": [
              "<Figure size 640x480 with 1 Axes>"
            ]
          },
          "metadata": {},
          "output_type": "display_data"
        }
      ],
      "source": [
        "dag = _create_dag(recnet, models)\n",
        "_draw_dag(dag)"
      ]
    },
    {
      "cell_type": "markdown",
      "id": "d081c64c-c42c-467e-885d-6e8db2cf64cc",
      "metadata": {
        "papermill": {
          "duration": 0.007853,
          "end_time": "2023-09-18T19:54:56.026647",
          "exception": false,
          "start_time": "2023-09-18T19:54:56.018794",
          "status": "completed"
        },
        "tags": []
      },
      "source": [
        "Note that the DAG depends on the models we supply. We could for example stub one of the sub-netlists by a pre-defined model:"
      ]
    },
    {
      "cell_type": "code",
      "execution_count": 13,
      "id": "ebb11e68-ecc3-4d00-9870-b6682e06c39f",
      "metadata": {
        "execution": {
          "iopub.execute_input": "2023-09-18T19:54:56.044876Z",
          "iopub.status.busy": "2023-09-18T19:54:56.043743Z",
          "iopub.status.idle": "2023-09-18T19:54:56.255552Z",
          "shell.execute_reply": "2023-09-18T19:54:56.254833Z"
        },
        "papermill": {
          "duration": 0.223512,
          "end_time": "2023-09-18T19:54:56.257539",
          "exception": false,
          "start_time": "2023-09-18T19:54:56.034027",
          "status": "completed"
        },
        "tags": []
      },
      "outputs": [
        {
          "data": {
            "image/png": "[encoded data removed]",
            "text/plain": [
              "<Figure size 640x480 with 1 Axes>"
            ]
          },
          "metadata": {},
          "output_type": "display_data"
        }
      ],
      "source": [
        "dag_ = _create_dag(recnet, {**models, 'mzi_delta_length10': mmi2x2})\n",
        "_draw_dag(dag_, with_labels=True)"
      ]
    },
    {
      "cell_type": "markdown",
      "id": "b68c2f1a-f062-4f8a-89a5-8608524a5c06",
      "metadata": {
        "papermill": {
          "duration": 0.007966,
          "end_time": "2023-09-18T19:54:56.275804",
          "exception": false,
          "start_time": "2023-09-18T19:54:56.267838",
          "status": "completed"
        },
        "tags": []
      },
      "source": [
        "This is useful if we for example pre-calculated a certain model."
      ]
    },
    {
      "cell_type": "markdown",
      "id": "020381f6-872f-4aea-8822-ef1096553dc2",
      "metadata": {
        "papermill": {
          "duration": 0.008639,
          "end_time": "2023-09-18T19:54:56.293205",
          "exception": false,
          "start_time": "2023-09-18T19:54:56.284566",
          "status": "completed"
        },
        "tags": []
      },
      "source": [
        "We can easily find the root of the DAG:"
      ]
    },
    {
      "cell_type": "code",
      "execution_count": 14,
      "id": "11728146-6b54-48f2-acac-c8a5fa4e3b0f",
      "metadata": {
        "execution": {
          "iopub.execute_input": "2023-09-18T19:54:56.310945Z",
          "iopub.status.busy": "2023-09-18T19:54:56.310265Z",
          "iopub.status.idle": "2023-09-18T19:54:56.317722Z",
          "shell.execute_reply": "2023-09-18T19:54:56.316671Z"
        },
        "papermill": {
          "duration": 0.018589,
          "end_time": "2023-09-18T19:54:56.319570",
          "exception": false,
          "start_time": "2023-09-18T19:54:56.300981",
          "status": "completed"
        },
        "tags": []
      },
      "outputs": [
        {
          "data": {
            "text/plain": [
              "['twomzi']"
            ]
          },
          "execution_count": 14,
          "metadata": {},
          "output_type": "execute_result"
        }
      ],
      "source": [
        "_find_root(dag)"
      ]
    },
    {
      "cell_type": "markdown",
      "id": "4e8065d2-19c8-444a-b1c2-ea3c62f90e0a",
      "metadata": {
        "papermill": {
          "duration": 0.00782,
          "end_time": "2023-09-18T19:54:56.335735",
          "exception": false,
          "start_time": "2023-09-18T19:54:56.327915",
          "status": "completed"
        },
        "tags": []
      },
      "source": [
        "Similarly we can find the leaves:"
      ]
    },
    {
      "cell_type": "code",
      "execution_count": 15,
      "id": "7fa9afff-26b5-44cb-90bf-a32ef5e95bf5",
      "metadata": {
        "execution": {
          "iopub.execute_input": "2023-09-18T19:54:56.354743Z",
          "iopub.status.busy": "2023-09-18T19:54:56.354132Z",
          "iopub.status.idle": "2023-09-18T19:54:56.359816Z",
          "shell.execute_reply": "2023-09-18T19:54:56.358630Z"
        },
        "papermill": {
          "duration": 0.017579,
          "end_time": "2023-09-18T19:54:56.361591",
          "exception": false,
          "start_time": "2023-09-18T19:54:56.344012",
          "status": "completed"
        },
        "tags": []
      },
      "outputs": [
        {
          "data": {
            "text/plain": [
              "['bend_euler', 'mmi1x2', 'straight']"
            ]
          },
          "execution_count": 15,
          "metadata": {},
          "output_type": "execute_result"
        }
      ],
      "source": [
        "_find_leaves(dag)"
      ]
    },
    {
      "cell_type": "markdown",
      "id": "59fb221d-951d-44df-a5d9-487a8b4dc4f8",
      "metadata": {
        "papermill": {
          "duration": 0.008534,
          "end_time": "2023-09-18T19:54:56.380258",
          "exception": false,
          "start_time": "2023-09-18T19:54:56.371724",
          "status": "completed"
        },
        "tags": []
      },
      "source": [
        "To be able to simulate the circuit, we need to supply a model for each of the leaves in the dependency DAG. Let's write a validator that checks this"
      ]
    },
    {
      "cell_type": "code",
      "execution_count": 16,
      "id": "a97dbe93-a53f-4525-b721-2f329692cdc9",
      "metadata": {
        "execution": {
          "iopub.execute_input": "2023-09-18T19:54:56.399029Z",
          "iopub.status.busy": "2023-09-18T19:54:56.398435Z",
          "iopub.status.idle": "2023-09-18T19:54:56.403636Z",
          "shell.execute_reply": "2023-09-18T19:54:56.402903Z"
        },
        "papermill": {
          "duration": 0.0167,
          "end_time": "2023-09-18T19:54:56.405656",
          "exception": false,
          "start_time": "2023-09-18T19:54:56.388956",
          "status": "completed"
        },
        "tags": []
      },
      "outputs": [],
      "source": [
        "models = _validate_models(models, dag)"
      ]
    },
    {
      "cell_type": "markdown",
      "id": "e9f30a86-aa00-4f51-8b93-3440edc0b46b",
      "metadata": {
        "papermill": {
          "duration": 0.00812,
          "end_time": "2023-09-18T19:54:56.421651",
          "exception": false,
          "start_time": "2023-09-18T19:54:56.413531",
          "status": "completed"
        },
        "tags": []
      },
      "source": [
        "We can now dow a bottom-up simulation. Since at the bottom of the DAG, our circuit is always flat (i.e. not hierarchical) we can implement a minimal `_flat_circuit` definition, which only needs to work on a flat (non-hierarchical circuit):"
      ]
    },
    {
      "cell_type": "code",
      "execution_count": 17,
      "id": "1f415c32-70e4-4b40-a9e2-051fc187cbb9",
      "metadata": {
        "execution": {
          "iopub.execute_input": "2023-09-18T19:54:56.440090Z",
          "iopub.status.busy": "2023-09-18T19:54:56.439097Z",
          "iopub.status.idle": "2023-09-18T19:54:58.385175Z",
          "shell.execute_reply": "2023-09-18T19:54:58.384254Z"
        },
        "papermill": {
          "duration": 1.957421,
          "end_time": "2023-09-18T19:54:58.386990",
          "exception": false,
          "start_time": "2023-09-18T19:54:56.429569",
          "status": "completed"
        },
        "tags": []
      },
      "outputs": [
        {
          "data": {
            "text/plain": [
              "(Array([[0. +0.j, 0.9+0.j],\n",
              "        [0.9+0.j, 0. +0.j]], dtype=complex128),\n",
              " {'o1': 0, 'o2': 1})"
            ]
          },
          "execution_count": 17,
          "metadata": {},
          "output_type": "execute_result"
        }
      ],
      "source": [
        "flatnet = recnet.__root__[\"mzi_delta_length10\"]\n",
        "single_mzi = _flat_circuit(\n",
        "    flatnet.instances,\n",
        "    flatnet.connections,\n",
        "    flatnet.ports,\n",
        "    models,\n",
        "    \"default\",\n",
        ")\n",
        "single_mzi()"
      ]
    },
    {
      "cell_type": "markdown",
      "id": "c4f3375c-baa3-433f-924a-eff50557bf9f",
      "metadata": {
        "papermill": {
          "duration": 0.008295,
          "end_time": "2023-09-18T19:54:58.404471",
          "exception": false,
          "start_time": "2023-09-18T19:54:58.396176",
          "status": "completed"
        },
        "tags": []
      },
      "source": [
        "The resulting circuit is just another SAX model (i.e. a python function) returing an SType:"
      ]
    },
    {
      "cell_type": "code",
      "execution_count": 18,
      "id": "058740c4-439b-4b00-91e7-15e3e7b6679c",
      "metadata": {
        "execution": {
          "iopub.execute_input": "2023-09-18T19:54:58.426100Z",
          "iopub.status.busy": "2023-09-18T19:54:58.425443Z",
          "iopub.status.idle": "2023-09-18T19:54:58.484004Z",
          "shell.execute_reply": "2023-09-18T19:54:58.483156Z"
        },
        "papermill": {
          "duration": 0.074848,
          "end_time": "2023-09-18T19:54:58.488199",
          "exception": false,
          "start_time": "2023-09-18T19:54:58.413351",
          "status": "completed"
        },
        "tags": []
      },
      "outputs": [],
      "source": [
        "single_mzi?"
      ]
    },
    {
      "cell_type": "markdown",
      "id": "2b2bbe9f-29ac-413a-b0a4-6c51da8689cb",
      "metadata": {
        "papermill": {
          "duration": 0.010142,
          "end_time": "2023-09-18T19:54:58.508840",
          "exception": false,
          "start_time": "2023-09-18T19:54:58.498698",
          "status": "completed"
        },
        "tags": []
      },
      "source": [
        "Let's 'execute' the circuit:"
      ]
    },
    {
      "cell_type": "markdown",
      "id": "42a86f56-ab16-4c04-8738-2480ad378008",
      "metadata": {
        "papermill": {
          "duration": 0.008843,
          "end_time": "2023-09-18T19:54:58.526222",
          "exception": false,
          "start_time": "2023-09-18T19:54:58.517379",
          "status": "completed"
        },
        "tags": []
      },
      "source": [
        "Note that we can also supply multimode models:"
      ]
    },
    {
      "cell_type": "code",
      "execution_count": 19,
      "id": "87bc9f40-e97c-4505-8362-311ce5770077",
      "metadata": {
        "execution": {
          "iopub.execute_input": "2023-09-18T19:54:58.545942Z",
          "iopub.status.busy": "2023-09-18T19:54:58.545052Z",
          "iopub.status.idle": "2023-09-18T19:55:00.382214Z",
          "shell.execute_reply": "2023-09-18T19:55:00.381104Z"
        },
        "papermill": {
          "duration": 1.849268,
          "end_time": "2023-09-18T19:55:00.384267",
          "exception": false,
          "start_time": "2023-09-18T19:54:58.534999",
          "status": "completed"
        },
        "tags": []
      },
      "outputs": [
        {
          "data": {
            "text/plain": [
              "(Array([[0.        +0.j, 0.        +0.j, 0.7482    +0.j, 0.23011426+0.j],\n",
              "        [0.        +0.j, 0.        +0.j, 0.23011426+0.j, 0.5491    +0.j],\n",
              "        [0.7482    +0.j, 0.23011426+0.j, 0.        +0.j, 0.        +0.j],\n",
              "        [0.23011426+0.j, 0.5491    +0.j, 0.        +0.j, 0.        +0.j]],      dtype=complex128),\n",
              " {'o1@TE': 0, 'o1@TM': 1, 'o2@TE': 2, 'o2@TM': 3})"
            ]
          },
          "execution_count": 19,
          "metadata": {},
          "output_type": "execute_result"
        }
      ],
      "source": [
        "flatnet = recnet.__root__[\"mzi_delta_length10\"]\n",
        "single_mzi = _flat_circuit(\n",
        "    flatnet.instances,\n",
        "    flatnet.connections,\n",
        "    flatnet.ports,\n",
        "    models_mm,\n",
        "    \"default\",\n",
        ")\n",
        "single_mzi()"
      ]
    },
    {
      "cell_type": "markdown",
      "id": "c852f384-c830-47f5-aa75-ee274abbcc35",
      "metadata": {
        "papermill": {
          "duration": 0.0088,
          "end_time": "2023-09-18T19:55:00.404120",
          "exception": false,
          "start_time": "2023-09-18T19:55:00.395320",
          "status": "completed"
        },
        "tags": []
      },
      "source": [
        "Now that we can handle flat circuits the extension to hierarchical circuits is not so difficult:"
      ]
    },
    {
      "cell_type": "markdown",
      "id": "10321c72-bc74-453b-a87a-d5f89295217b",
      "metadata": {
        "papermill": {
          "duration": 0.008829,
          "end_time": "2023-09-18T19:55:00.425196",
          "exception": false,
          "start_time": "2023-09-18T19:55:00.416367",
          "status": "completed"
        },
        "tags": []
      },
      "source": [
        "single mode simulation:"
      ]
    },
    {
      "cell_type": "code",
      "execution_count": 20,
      "id": "6d133b49-6f26-4e01-bcd9-7ca1b76dc55d",
      "metadata": {
        "execution": {
          "iopub.execute_input": "2023-09-18T19:55:00.445375Z",
          "iopub.status.busy": "2023-09-18T19:55:00.444715Z",
          "iopub.status.idle": "2023-09-18T19:55:02.335460Z",
          "shell.execute_reply": "2023-09-18T19:55:02.334486Z"
        },
        "papermill": {
          "duration": 1.904065,
          "end_time": "2023-09-18T19:55:02.338188",
          "exception": false,
          "start_time": "2023-09-18T19:55:00.434123",
          "status": "completed"
        },
        "tags": []
      },
      "outputs": [
        {
          "data": {
            "text/plain": [
              "{('o1', 'o1'): Array(0.+0.j, dtype=complex128),\n",
              " ('o1', 'o2'): Array(0.81+0.j, dtype=complex128),\n",
              " ('o2', 'o1'): Array(0.81+0.j, dtype=complex128),\n",
              " ('o2', 'o2'): Array(0.+0.j, dtype=complex128)}"
            ]
          },
          "execution_count": 20,
          "metadata": {},
          "output_type": "execute_result"
        }
      ],
      "source": [
        "double_mzi, info = sax.circuit(recnet, models, backend='default')\n",
        "double_mzi()"
      ]
    },
    {
      "cell_type": "markdown",
      "id": "3f332edd-909e-452b-b7bd-3a68719a5c20",
      "metadata": {
        "papermill": {
          "duration": 0.009589,
          "end_time": "2023-09-18T19:55:02.356891",
          "exception": false,
          "start_time": "2023-09-18T19:55:02.347302",
          "status": "completed"
        },
        "tags": []
      },
      "source": [
        "multi mode simulation:"
      ]
    },
    {
      "cell_type": "code",
      "execution_count": 21,
      "id": "277ec069-4b46-4d5e-9580-1dd0c28cd9a6",
      "metadata": {
        "execution": {
          "iopub.execute_input": "2023-09-18T19:55:02.376447Z",
          "iopub.status.busy": "2023-09-18T19:55:02.375674Z",
          "iopub.status.idle": "2023-09-18T19:55:04.378695Z",
          "shell.execute_reply": "2023-09-18T19:55:04.377884Z"
        },
        "papermill": {
          "duration": 2.015528,
          "end_time": "2023-09-18T19:55:04.381158",
          "exception": false,
          "start_time": "2023-09-18T19:55:02.365630",
          "status": "completed"
        },
        "tags": []
      },
      "outputs": [
        {
          "data": {
            "text/plain": [
              "{('o1@TE', 'o1@TE'): Array(0.+0.j, dtype=complex128),\n",
              " ('o1@TE', 'o1@TM'): Array(0.+0.j, dtype=complex128),\n",
              " ('o1@TE', 'o2@TE'): Array(0.61275581+0.j, dtype=complex128),\n",
              " ('o1@TE', 'o2@TM'): Array(0.29852723+0.j, dtype=complex128),\n",
              " ('o1@TM', 'o1@TE'): Array(0.+0.j, dtype=complex128),\n",
              " ('o1@TM', 'o1@TM'): Array(0.+0.j, dtype=complex128),\n",
              " ('o1@TM', 'o2@TE'): Array(0.29852723+0.j, dtype=complex128),\n",
              " ('o1@TM', 'o2@TM'): Array(0.35446338+0.j, dtype=complex128),\n",
              " ('o2@TE', 'o1@TE'): Array(0.61275581+0.j, dtype=complex128),\n",
              " ('o2@TE', 'o1@TM'): Array(0.29852723+0.j, dtype=complex128),\n",
              " ('o2@TE', 'o2@TE'): Array(0.+0.j, dtype=complex128),\n",
              " ('o2@TE', 'o2@TM'): Array(0.+0.j, dtype=complex128),\n",
              " ('o2@TM', 'o1@TE'): Array(0.29852723+0.j, dtype=complex128),\n",
              " ('o2@TM', 'o1@TM'): Array(0.35446338+0.j, dtype=complex128),\n",
              " ('o2@TM', 'o2@TE'): Array(0.+0.j, dtype=complex128),\n",
              " ('o2@TM', 'o2@TM'): Array(0.+0.j, dtype=complex128)}"
            ]
          },
          "execution_count": 21,
          "metadata": {},
          "output_type": "execute_result"
        }
      ],
      "source": [
        "double_mzi, info = sax.circuit(recnet, models_mm, backend='default', return_type='sdict')\n",
        "double_mzi()"
      ]
    },
    {
      "cell_type": "markdown",
      "id": "e621a2e3-6918-4cfb-8a55-4cc754356020",
      "metadata": {
        "papermill": {
          "duration": 0.008789,
          "end_time": "2023-09-18T19:55:04.400246",
          "exception": false,
          "start_time": "2023-09-18T19:55:04.391457",
          "status": "completed"
        },
        "tags": []
      },
      "source": [
        "sometimes it's useful to get the required circuit model names to be able to create the circuit:"
      ]
    },
    {
      "cell_type": "code",
      "execution_count": 22,
      "id": "99bb5c8f-8094-426d-a5d6-ceb73d80f706",
      "metadata": {
        "execution": {
          "iopub.execute_input": "2023-09-18T19:55:04.420546Z",
          "iopub.status.busy": "2023-09-18T19:55:04.419841Z",
          "iopub.status.idle": "2023-09-18T19:55:04.439218Z",
          "shell.execute_reply": "2023-09-18T19:55:04.438300Z"
        },
        "papermill": {
          "duration": 0.031938,
          "end_time": "2023-09-18T19:55:04.441380",
          "exception": false,
          "start_time": "2023-09-18T19:55:04.409442",
          "status": "completed"
        },
        "tags": []
      },
      "outputs": [
        {
          "data": {
            "text/plain": [
              "['mzi_delta_length10', 'mzi_delta_length20']"
            ]
          },
          "execution_count": 22,
          "metadata": {},
          "output_type": "execute_result"
        }
      ],
      "source": [
        "sax.get_required_circuit_models(recnet, models)"
      ]
    }
  ],
  "metadata": {
    "kernelspec": {
      "display_name": "sax",
      "language": "python",
      "name": "sax"
    },
    "language_info": {
      "codemirror_mode": {
        "name": "ipython",
        "version": 3
      },
      "file_extension": ".py",
      "mimetype": "text/x-python",
      "name": "python",
      "nbconvert_exporter": "python",
      "pygments_lexer": "ipython3",
      "version": "3.10.12"
    },
    "papermill": {
      "default_parameters": {},
      "duration": 16.614439,
      "end_time": "2023-09-18T19:55:05.779590",
      "environment_variables": {},
      "exception": null,
      "input_path": "./internals/02_circuit.ipynb",
      "output_path": "./internals/02_circuit.ipynb",
      "parameters": {},
      "start_time": "2023-09-18T19:54:49.165151",
      "version": "2.4.0"
    }
  },
  "nbformat": 4,
  "nbformat_minor": 5
}