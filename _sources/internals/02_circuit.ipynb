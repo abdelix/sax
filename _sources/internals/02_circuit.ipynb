{
  "cells": [
    {
      "cell_type": "markdown",
      "id": "2c9c99fe",
      "metadata": {
        "papermill": {
          "duration": 0.00412,
          "end_time": "2023-11-15T02:11:47.144827",
          "exception": false,
          "start_time": "2023-11-15T02:11:47.140707",
          "status": "completed"
        },
        "tags": []
      },
      "source": [
        "# Circuit\n",
        "\n",
        "> SAX Circuits"
      ]
    },
    {
      "cell_type": "code",
      "execution_count": 1,
      "id": "666ac6a3-e9d7-424d-a85e-7c9b74e7ec58",
      "metadata": {
        "execution": {
          "iopub.execute_input": "2023-11-15T02:11:47.152875Z",
          "iopub.status.busy": "2023-11-15T02:11:47.152556Z",
          "iopub.status.idle": "2023-11-15T02:11:47.822668Z",
          "shell.execute_reply": "2023-11-15T02:11:47.822060Z"
        },
        "papermill": {
          "duration": 0.675789,
          "end_time": "2023-11-15T02:11:47.824195",
          "exception": false,
          "start_time": "2023-11-15T02:11:47.148406",
          "status": "completed"
        },
        "tags": []
      },
      "outputs": [],
      "source": [
        "from functools import partial\n",
        "\n",
        "import sax\n",
        "from sax.circuit import _create_dag, _draw_dag, _find_root, _find_leaves, _validate_models, _flat_circuit"
      ]
    },
    {
      "cell_type": "markdown",
      "id": "45ad2306-1ead-4b8c-b91e-c02ce4569b3a",
      "metadata": {
        "papermill": {
          "duration": 0.003589,
          "end_time": "2023-11-15T02:11:47.831606",
          "exception": false,
          "start_time": "2023-11-15T02:11:47.828017",
          "status": "completed"
        },
        "tags": []
      },
      "source": [
        "Let's start by creating a simple recursive netlist with gdsfactory.\n",
        "\n",
        ":::{note}\n",
        "We are using gdsfactory to create our netlist because it allows us to see the circuit we want to simulate and because we're striving to have a compatible netlist implementation in SAX.\n",
        "\n",
        "However... gdsfactory is not a dependency of SAX. You can also define your circuits by hand (see [SAX Quick Start](../examples/01_quick_start.ipynb) or you can use another tool to programmatically construct your netlists.\n",
        ":::"
      ]
    },
    {
      "cell_type": "code",
      "execution_count": 2,
      "id": "804a1c9b-c02b-4af6-ba3d-858f76634a69",
      "metadata": {
        "execution": {
          "iopub.execute_input": "2023-11-15T02:11:47.839888Z",
          "iopub.status.busy": "2023-11-15T02:11:47.839238Z",
          "iopub.status.idle": "2023-11-15T02:11:49.089018Z",
          "shell.execute_reply": "2023-11-15T02:11:49.088440Z"
        },
        "papermill": {
          "duration": 1.255208,
          "end_time": "2023-11-15T02:11:49.090305",
          "exception": false,
          "start_time": "2023-11-15T02:11:47.835097",
          "status": "completed"
        },
        "tags": []
      },
      "outputs": [
        {
          "name": "stderr",
          "output_type": "stream",
          "text": [
            "\u001b[32m2023-11-15 02:11:48.176\u001b[0m | \u001b[33m\u001b[1mWARNING \u001b[0m | \u001b[36mgdsfactory.pdk\u001b[0m:\u001b[36mget_active_pdk\u001b[0m:\u001b[36m734\u001b[0m - \u001b[33m\u001b[1mNo active PDK. Activating generic PDK.\n",
            "\u001b[0m\n"
          ]
        },
        {
          "name": "stderr",
          "output_type": "stream",
          "text": [
            "\u001b[32m2023-11-15 02:11:48.407\u001b[0m | \u001b[1mINFO    \u001b[0m | \u001b[36mgdsfactory.technology.layer_views\u001b[0m:\u001b[36m__init__\u001b[0m:\u001b[36m790\u001b[0m - \u001b[1mImporting LayerViews from YAML file: '/opt/conda/lib/python3.10/site-packages/gdsfactory/generic_tech/layer_views.yaml'.\u001b[0m\n"
          ]
        },
        {
          "name": "stderr",
          "output_type": "stream",
          "text": [
            "\u001b[32m2023-11-15 02:11:48.408\u001b[0m | \u001b[1mINFO    \u001b[0m | \u001b[36mgdsfactory.pdk\u001b[0m:\u001b[36mactivate\u001b[0m:\u001b[36m307\u001b[0m - \u001b[1m'generic' PDK is now active\u001b[0m\n"
          ]
        },
        {
          "data": {
            "image/png": "[encoded data removed]",
            "text/plain": [
              "<Figure size 640x480 with 1 Axes>"
            ]
          },
          "metadata": {},
          "output_type": "display_data"
        }
      ],
      "source": [
        "import gdsfactory as gf\n",
        "from IPython.display import display\n",
        "from gdsfactory.components import mzi\n",
        "from gdsfactory.get_netlist import get_netlist_recursive, get_netlist, get_netlist_yaml\n",
        "from gdsfactory.quickplotter import quickplot\n",
        "\n",
        "\n",
        "@gf.cell\n",
        "def twomzi():\n",
        "    c = gf.Component()\n",
        "\n",
        "    # instances\n",
        "    mzi1 = mzi(delta_length=10)\n",
        "    mzi2 = mzi(delta_length=20)\n",
        "\n",
        "    # references\n",
        "    mzi1_ = c << mzi1\n",
        "    mzi2_ = c << mzi2\n",
        "\n",
        "    # connections\n",
        "    mzi2_.connect(\"o1\", mzi1_.ports[\"o2\"])\n",
        "\n",
        "    # ports\n",
        "    c.add_port(\"o1\", port=mzi1_.ports[\"o1\"])\n",
        "    c.add_port(\"o2\", port=mzi2_.ports[\"o2\"])\n",
        "    return c\n",
        "\n",
        "\n",
        "comp = twomzi()\n",
        "quickplot(comp)\n",
        "recnet = sax.RecursiveNetlist.parse_obj(\n",
        "    get_netlist_recursive(\n",
        "        comp, get_netlist_func=partial(get_netlist, full_settings=True)\n",
        "    )\n",
        ")\n",
        "flatnet = recnet.__root__[\"mzi_delta_length10\"]"
      ]
    },
    {
      "cell_type": "markdown",
      "id": "2b2a38fb-c83e-4b71-b195-ecca485fb0a3",
      "metadata": {
        "papermill": {
          "duration": 0.004099,
          "end_time": "2023-11-15T02:11:49.098772",
          "exception": false,
          "start_time": "2023-11-15T02:11:49.094673",
          "status": "completed"
        },
        "tags": []
      },
      "source": [
        "To be able to model this device we'll need some SAX dummy models:"
      ]
    },
    {
      "cell_type": "code",
      "execution_count": 3,
      "id": "2035cd9e-c65e-45b6-bd83-4ad19e4630fa",
      "metadata": {
        "execution": {
          "iopub.execute_input": "2023-11-15T02:11:49.107586Z",
          "iopub.status.busy": "2023-11-15T02:11:49.107314Z",
          "iopub.status.idle": "2023-11-15T02:11:49.110345Z",
          "shell.execute_reply": "2023-11-15T02:11:49.109873Z"
        },
        "papermill": {
          "duration": 0.008808,
          "end_time": "2023-11-15T02:11:49.111527",
          "exception": false,
          "start_time": "2023-11-15T02:11:49.102719",
          "status": "completed"
        },
        "tags": []
      },
      "outputs": [],
      "source": [
        "def bend_euler(\n",
        "    angle=90.0,\n",
        "    p=0.5,\n",
        "    # cross_section=\"strip\",\n",
        "    # direction=\"ccw\",\n",
        "    # with_bbox=True,\n",
        "    # with_arc_floorplan=True,\n",
        "    # npoints=720,\n",
        "):\n",
        "    return sax.reciprocal({\n",
        "        ('o1', 'o2'): 1.0\n",
        "    })"
      ]
    },
    {
      "cell_type": "code",
      "execution_count": 4,
      "id": "192c4288-20d1-4aca-b3d0-277db6bb5118",
      "metadata": {
        "execution": {
          "iopub.execute_input": "2023-11-15T02:11:49.120432Z",
          "iopub.status.busy": "2023-11-15T02:11:49.120089Z",
          "iopub.status.idle": "2023-11-15T02:11:49.123306Z",
          "shell.execute_reply": "2023-11-15T02:11:49.122841Z"
        },
        "papermill": {
          "duration": 0.008825,
          "end_time": "2023-11-15T02:11:49.124362",
          "exception": false,
          "start_time": "2023-11-15T02:11:49.115537",
          "status": "completed"
        },
        "tags": []
      },
      "outputs": [],
      "source": [
        "def mmi1x2(\n",
        "    width=0.5,\n",
        "    width_taper= 1.0,\n",
        "    length_taper= 10.0,\n",
        "    length_mmi= 5.5,\n",
        "    width_mmi= 2.5,\n",
        "    gap_mmi= 0.25,\n",
        "    # cross_section= strip,\n",
        "    # taper= {function= taper},\n",
        "    # with_bbox= True,\n",
        "):\n",
        "    return sax.reciprocal({\n",
        "        ('o1', 'o2'): 0.45**0.5,\n",
        "        ('o1', 'o3'): 0.45**0.5,\n",
        "    })"
      ]
    },
    {
      "cell_type": "code",
      "execution_count": 5,
      "id": "861a5b4a-d8d9-4ea0-a733-39e213a28ead",
      "metadata": {
        "execution": {
          "iopub.execute_input": "2023-11-15T02:11:49.133305Z",
          "iopub.status.busy": "2023-11-15T02:11:49.132842Z",
          "iopub.status.idle": "2023-11-15T02:11:49.136604Z",
          "shell.execute_reply": "2023-11-15T02:11:49.136050Z"
        },
        "papermill": {
          "duration": 0.009382,
          "end_time": "2023-11-15T02:11:49.137706",
          "exception": false,
          "start_time": "2023-11-15T02:11:49.128324",
          "status": "completed"
        },
        "tags": []
      },
      "outputs": [],
      "source": [
        "def mmi2x2(\n",
        "    width=0.5,\n",
        "    width_taper= 1.0,\n",
        "    length_taper= 10.0,\n",
        "    length_mmi= 5.5,\n",
        "    width_mmi= 2.5,\n",
        "    gap_mmi= 0.25,\n",
        "    # cross_section= strip,\n",
        "    # taper= {function= taper},\n",
        "    # with_bbox= True,\n",
        "):\n",
        "    return sax.reciprocal({\n",
        "        ('o1', 'o3'): 0.45**0.5,\n",
        "        ('o1', 'o4'): 1j * 0.45**0.5,\n",
        "        ('o2', 'o3'): 1j * 0.45**0.5,\n",
        "        ('o2', 'o4'): 0.45**0.5,\n",
        "    })"
      ]
    },
    {
      "cell_type": "code",
      "execution_count": 6,
      "id": "84046c8e-45a7-4aa0-bbdf-c82cd2d0e24e",
      "metadata": {
        "execution": {
          "iopub.execute_input": "2023-11-15T02:11:49.146729Z",
          "iopub.status.busy": "2023-11-15T02:11:49.146358Z",
          "iopub.status.idle": "2023-11-15T02:11:49.149297Z",
          "shell.execute_reply": "2023-11-15T02:11:49.148745Z"
        },
        "papermill": {
          "duration": 0.008628,
          "end_time": "2023-11-15T02:11:49.150460",
          "exception": false,
          "start_time": "2023-11-15T02:11:49.141832",
          "status": "completed"
        },
        "tags": []
      },
      "outputs": [],
      "source": [
        "def straight(\n",
        "    length=0.01,\n",
        "    #npoints=2,\n",
        "    #with_bbox=True,\n",
        "    #cross_section=...\n",
        "):\n",
        "    return sax.reciprocal({\n",
        "        ('o1', 'o2'): 1.0\n",
        "    })"
      ]
    },
    {
      "cell_type": "markdown",
      "id": "8efe90e4-dfe6-40bd-aa0a-26c74738d688",
      "metadata": {
        "papermill": {
          "duration": 0.00398,
          "end_time": "2023-11-15T02:11:49.158406",
          "exception": false,
          "start_time": "2023-11-15T02:11:49.154426",
          "status": "completed"
        },
        "tags": []
      },
      "source": [
        "In SAX, we usually aggregate the available models in a models dictionary:"
      ]
    },
    {
      "cell_type": "code",
      "execution_count": 7,
      "id": "c1ac9132-0ee2-443b-98f4-f790234551b0",
      "metadata": {
        "execution": {
          "iopub.execute_input": "2023-11-15T02:11:49.167097Z",
          "iopub.status.busy": "2023-11-15T02:11:49.166916Z",
          "iopub.status.idle": "2023-11-15T02:11:49.169680Z",
          "shell.execute_reply": "2023-11-15T02:11:49.169115Z"
        },
        "papermill": {
          "duration": 0.008505,
          "end_time": "2023-11-15T02:11:49.170876",
          "exception": false,
          "start_time": "2023-11-15T02:11:49.162371",
          "status": "completed"
        },
        "tags": []
      },
      "outputs": [],
      "source": [
        "models = {\n",
        "    'straight': straight,\n",
        "    'bend_euler': bend_euler,\n",
        "    'mmi1x2': mmi1x2,\n",
        "}"
      ]
    },
    {
      "cell_type": "markdown",
      "id": "05c6a808-1fbf-446c-badd-03a36c76e438",
      "metadata": {
        "papermill": {
          "duration": 0.004034,
          "end_time": "2023-11-15T02:11:49.179004",
          "exception": false,
          "start_time": "2023-11-15T02:11:49.174970",
          "status": "completed"
        },
        "tags": []
      },
      "source": [
        "We can also create some dummy multimode models:"
      ]
    },
    {
      "cell_type": "code",
      "execution_count": 8,
      "id": "b749320e-5a86-4c05-9736-89936b0d31b3",
      "metadata": {
        "execution": {
          "iopub.execute_input": "2023-11-15T02:11:49.187967Z",
          "iopub.status.busy": "2023-11-15T02:11:49.187624Z",
          "iopub.status.idle": "2023-11-15T02:11:49.190748Z",
          "shell.execute_reply": "2023-11-15T02:11:49.190279Z"
        },
        "papermill": {
          "duration": 0.008833,
          "end_time": "2023-11-15T02:11:49.191832",
          "exception": false,
          "start_time": "2023-11-15T02:11:49.182999",
          "status": "completed"
        },
        "tags": []
      },
      "outputs": [],
      "source": [
        "def bend_euler_mm(\n",
        "    angle=90.0,\n",
        "    p=0.5,\n",
        "    # cross_section=\"strip\",\n",
        "    # direction=\"ccw\",\n",
        "    # with_bbox=True,\n",
        "    # with_arc_floorplan=True,\n",
        "    # npoints=720,\n",
        "):\n",
        "    return sax.reciprocal({\n",
        "        ('o1@TE', 'o2@TE'): 0.9**0.5,\n",
        "        #('o1@TE', 'o2@TM'): 0.01**0.5,\n",
        "        #('o1@TM', 'o2@TE'): 0.01**0.5,\n",
        "        ('o1@TM', 'o2@TM'): 0.8**0.5,\n",
        "    })"
      ]
    },
    {
      "cell_type": "code",
      "execution_count": 9,
      "id": "958054fb-31f0-4d2c-9304-fdb72af8f333",
      "metadata": {
        "execution": {
          "iopub.execute_input": "2023-11-15T02:11:49.200992Z",
          "iopub.status.busy": "2023-11-15T02:11:49.200644Z",
          "iopub.status.idle": "2023-11-15T02:11:49.204440Z",
          "shell.execute_reply": "2023-11-15T02:11:49.203957Z"
        },
        "papermill": {
          "duration": 0.009543,
          "end_time": "2023-11-15T02:11:49.205482",
          "exception": false,
          "start_time": "2023-11-15T02:11:49.195939",
          "status": "completed"
        },
        "tags": []
      },
      "outputs": [],
      "source": [
        "def mmi1x2_mm(\n",
        "    width=0.5,\n",
        "    width_taper= 1.0,\n",
        "    length_taper= 10.0,\n",
        "    length_mmi= 5.5,\n",
        "    width_mmi= 2.5,\n",
        "    gap_mmi= 0.25,\n",
        "    # cross_section= strip,\n",
        "    # taper= {function= taper},\n",
        "    # with_bbox= True,\n",
        "):\n",
        "    return sax.reciprocal({\n",
        "        ('o1@TE', 'o2@TE'): 0.45**0.5,\n",
        "        ('o1@TE', 'o3@TE'): 0.45**0.5,\n",
        "        ('o1@TM', 'o2@TM'): 0.41**0.5,\n",
        "        ('o1@TM', 'o3@TM'): 0.41**0.5,\n",
        "        ('o1@TE', 'o2@TM'): 0.01**0.5,\n",
        "        ('o1@TM', 'o2@TE'): 0.01**0.5,\n",
        "        ('o1@TE', 'o3@TM'): 0.02**0.5,\n",
        "        ('o1@TM', 'o3@TE'): 0.02**0.5,\n",
        "    })"
      ]
    },
    {
      "cell_type": "code",
      "execution_count": 10,
      "id": "34bad3c0-34a4-4b35-a942-7f75a204c1d0",
      "metadata": {
        "execution": {
          "iopub.execute_input": "2023-11-15T02:11:49.231669Z",
          "iopub.status.busy": "2023-11-15T02:11:49.231270Z",
          "iopub.status.idle": "2023-11-15T02:11:49.234536Z",
          "shell.execute_reply": "2023-11-15T02:11:49.233970Z"
        },
        "papermill": {
          "duration": 0.009314,
          "end_time": "2023-11-15T02:11:49.235632",
          "exception": false,
          "start_time": "2023-11-15T02:11:49.226318",
          "status": "completed"
        },
        "tags": []
      },
      "outputs": [],
      "source": [
        "def straight_mm(\n",
        "    length=0.01,\n",
        "    #npoints=2,\n",
        "    #with_bbox=True,\n",
        "    #cross_section=...\n",
        "):\n",
        "    return sax.reciprocal({\n",
        "        ('o1@TE', 'o2@TE'): 1.0,\n",
        "        ('o1@TM', 'o2@TM'): 1.0,\n",
        "    })"
      ]
    },
    {
      "cell_type": "code",
      "execution_count": 11,
      "id": "b9476eb5-94e0-45c3-8e7e-a82fead8807b",
      "metadata": {
        "execution": {
          "iopub.execute_input": "2023-11-15T02:11:49.244729Z",
          "iopub.status.busy": "2023-11-15T02:11:49.244347Z",
          "iopub.status.idle": "2023-11-15T02:11:49.247138Z",
          "shell.execute_reply": "2023-11-15T02:11:49.246667Z"
        },
        "papermill": {
          "duration": 0.008527,
          "end_time": "2023-11-15T02:11:49.248273",
          "exception": false,
          "start_time": "2023-11-15T02:11:49.239746",
          "status": "completed"
        },
        "tags": []
      },
      "outputs": [],
      "source": [
        "models_mm = {\n",
        "    'straight': straight_mm,\n",
        "    'bend_euler': bend_euler_mm,\n",
        "    'mmi1x2': mmi1x2_mm,\n",
        "}"
      ]
    },
    {
      "cell_type": "markdown",
      "id": "3df7d9b6-acbb-4406-a3c8-8a9ad09db768",
      "metadata": {
        "papermill": {
          "duration": 0.004012,
          "end_time": "2023-11-15T02:11:49.256407",
          "exception": false,
          "start_time": "2023-11-15T02:11:49.252395",
          "status": "completed"
        },
        "tags": []
      },
      "source": [
        "We can now represent our recursive netlist model as a Directed Acyclic Graph:"
      ]
    },
    {
      "cell_type": "code",
      "execution_count": 12,
      "id": "b6d6e06e-b501-4d3e-8eb6-0d7117abf8e8",
      "metadata": {
        "execution": {
          "iopub.execute_input": "2023-11-15T02:11:49.265532Z",
          "iopub.status.busy": "2023-11-15T02:11:49.265091Z",
          "iopub.status.idle": "2023-11-15T02:11:49.419089Z",
          "shell.execute_reply": "2023-11-15T02:11:49.418515Z"
        },
        "papermill": {
          "duration": 0.159691,
          "end_time": "2023-11-15T02:11:49.420164",
          "exception": false,
          "start_time": "2023-11-15T02:11:49.260473",
          "status": "completed"
        },
        "tags": []
      },
      "outputs": [
        {
          "data": {
            "image/png": "[encoded data removed]",
            "text/plain": [
              "<Figure size 640x480 with 1 Axes>"
            ]
          },
          "metadata": {},
          "output_type": "display_data"
        }
      ],
      "source": [
        "dag = _create_dag(recnet, models)\n",
        "_draw_dag(dag)"
      ]
    },
    {
      "cell_type": "markdown",
      "id": "d081c64c-c42c-467e-885d-6e8db2cf64cc",
      "metadata": {
        "papermill": {
          "duration": 0.004486,
          "end_time": "2023-11-15T02:11:49.429307",
          "exception": false,
          "start_time": "2023-11-15T02:11:49.424821",
          "status": "completed"
        },
        "tags": []
      },
      "source": [
        "Note that the DAG depends on the models we supply. We could for example stub one of the sub-netlists by a pre-defined model:"
      ]
    },
    {
      "cell_type": "code",
      "execution_count": 13,
      "id": "ebb11e68-ecc3-4d00-9870-b6682e06c39f",
      "metadata": {
        "execution": {
          "iopub.execute_input": "2023-11-15T02:11:49.439384Z",
          "iopub.status.busy": "2023-11-15T02:11:49.438759Z",
          "iopub.status.idle": "2023-11-15T02:11:49.546645Z",
          "shell.execute_reply": "2023-11-15T02:11:49.546016Z"
        },
        "papermill": {
          "duration": 0.114105,
          "end_time": "2023-11-15T02:11:49.547835",
          "exception": false,
          "start_time": "2023-11-15T02:11:49.433730",
          "status": "completed"
        },
        "tags": []
      },
      "outputs": [
        {
          "data": {
            "image/png": "[encoded data removed]",
            "text/plain": [
              "<Figure size 640x480 with 1 Axes>"
            ]
          },
          "metadata": {},
          "output_type": "display_data"
        }
      ],
      "source": [
        "dag_ = _create_dag(recnet, {**models, 'mzi_delta_length10': mmi2x2})\n",
        "_draw_dag(dag_, with_labels=True)"
      ]
    },
    {
      "cell_type": "markdown",
      "id": "b68c2f1a-f062-4f8a-89a5-8608524a5c06",
      "metadata": {
        "papermill": {
          "duration": 0.004705,
          "end_time": "2023-11-15T02:11:49.557327",
          "exception": false,
          "start_time": "2023-11-15T02:11:49.552622",
          "status": "completed"
        },
        "tags": []
      },
      "source": [
        "This is useful if we for example pre-calculated a certain model."
      ]
    },
    {
      "cell_type": "markdown",
      "id": "020381f6-872f-4aea-8822-ef1096553dc2",
      "metadata": {
        "papermill": {
          "duration": 0.004629,
          "end_time": "2023-11-15T02:11:49.566648",
          "exception": false,
          "start_time": "2023-11-15T02:11:49.562019",
          "status": "completed"
        },
        "tags": []
      },
      "source": [
        "We can easily find the root of the DAG:"
      ]
    },
    {
      "cell_type": "code",
      "execution_count": 14,
      "id": "11728146-6b54-48f2-acac-c8a5fa4e3b0f",
      "metadata": {
        "execution": {
          "iopub.execute_input": "2023-11-15T02:11:49.577143Z",
          "iopub.status.busy": "2023-11-15T02:11:49.576824Z",
          "iopub.status.idle": "2023-11-15T02:11:49.580806Z",
          "shell.execute_reply": "2023-11-15T02:11:49.580157Z"
        },
        "papermill": {
          "duration": 0.010633,
          "end_time": "2023-11-15T02:11:49.582073",
          "exception": false,
          "start_time": "2023-11-15T02:11:49.571440",
          "status": "completed"
        },
        "tags": []
      },
      "outputs": [
        {
          "data": {
            "text/plain": [
              "['twomzi']"
            ]
          },
          "execution_count": 14,
          "metadata": {},
          "output_type": "execute_result"
        }
      ],
      "source": [
        "_find_root(dag)"
      ]
    },
    {
      "cell_type": "markdown",
      "id": "4e8065d2-19c8-444a-b1c2-ea3c62f90e0a",
      "metadata": {
        "papermill": {
          "duration": 0.004729,
          "end_time": "2023-11-15T02:11:49.591620",
          "exception": false,
          "start_time": "2023-11-15T02:11:49.586891",
          "status": "completed"
        },
        "tags": []
      },
      "source": [
        "Similarly we can find the leaves:"
      ]
    },
    {
      "cell_type": "code",
      "execution_count": 15,
      "id": "7fa9afff-26b5-44cb-90bf-a32ef5e95bf5",
      "metadata": {
        "execution": {
          "iopub.execute_input": "2023-11-15T02:11:49.602363Z",
          "iopub.status.busy": "2023-11-15T02:11:49.601723Z",
          "iopub.status.idle": "2023-11-15T02:11:49.605681Z",
          "shell.execute_reply": "2023-11-15T02:11:49.605211Z"
        },
        "papermill": {
          "duration": 0.010417,
          "end_time": "2023-11-15T02:11:49.606812",
          "exception": false,
          "start_time": "2023-11-15T02:11:49.596395",
          "status": "completed"
        },
        "tags": []
      },
      "outputs": [
        {
          "data": {
            "text/plain": [
              "['bend_euler', 'mmi1x2', 'straight']"
            ]
          },
          "execution_count": 15,
          "metadata": {},
          "output_type": "execute_result"
        }
      ],
      "source": [
        "_find_leaves(dag)"
      ]
    },
    {
      "cell_type": "markdown",
      "id": "59fb221d-951d-44df-a5d9-487a8b4dc4f8",
      "metadata": {
        "papermill": {
          "duration": 0.004814,
          "end_time": "2023-11-15T02:11:49.616719",
          "exception": false,
          "start_time": "2023-11-15T02:11:49.611905",
          "status": "completed"
        },
        "tags": []
      },
      "source": [
        "To be able to simulate the circuit, we need to supply a model for each of the leaves in the dependency DAG. Let's write a validator that checks this"
      ]
    },
    {
      "cell_type": "code",
      "execution_count": 16,
      "id": "a97dbe93-a53f-4525-b721-2f329692cdc9",
      "metadata": {
        "execution": {
          "iopub.execute_input": "2023-11-15T02:11:49.627313Z",
          "iopub.status.busy": "2023-11-15T02:11:49.626968Z",
          "iopub.status.idle": "2023-11-15T02:11:49.629671Z",
          "shell.execute_reply": "2023-11-15T02:11:49.629196Z"
        },
        "papermill": {
          "duration": 0.009233,
          "end_time": "2023-11-15T02:11:49.630787",
          "exception": false,
          "start_time": "2023-11-15T02:11:49.621554",
          "status": "completed"
        },
        "tags": []
      },
      "outputs": [],
      "source": [
        "models = _validate_models(models, dag)"
      ]
    },
    {
      "cell_type": "markdown",
      "id": "e9f30a86-aa00-4f51-8b93-3440edc0b46b",
      "metadata": {
        "papermill": {
          "duration": 0.004874,
          "end_time": "2023-11-15T02:11:49.640628",
          "exception": false,
          "start_time": "2023-11-15T02:11:49.635754",
          "status": "completed"
        },
        "tags": []
      },
      "source": [
        "We can now dow a bottom-up simulation. Since at the bottom of the DAG, our circuit is always flat (i.e. not hierarchical) we can implement a minimal `_flat_circuit` definition, which only needs to work on a flat (non-hierarchical circuit):"
      ]
    },
    {
      "cell_type": "code",
      "execution_count": 17,
      "id": "1f415c32-70e4-4b40-a9e2-051fc187cbb9",
      "metadata": {
        "execution": {
          "iopub.execute_input": "2023-11-15T02:11:49.651357Z",
          "iopub.status.busy": "2023-11-15T02:11:49.650953Z",
          "iopub.status.idle": "2023-11-15T02:11:50.872748Z",
          "shell.execute_reply": "2023-11-15T02:11:50.872208Z"
        },
        "papermill": {
          "duration": 1.228462,
          "end_time": "2023-11-15T02:11:50.874003",
          "exception": false,
          "start_time": "2023-11-15T02:11:49.645541",
          "status": "completed"
        },
        "tags": []
      },
      "outputs": [
        {
          "data": {
            "text/plain": [
              "(Array([[0. +0.j, 0.9+0.j],\n",
              "        [0.9+0.j, 0. +0.j]], dtype=complex128),\n",
              " {'o1': 0, 'o2': 1})"
            ]
          },
          "execution_count": 17,
          "metadata": {},
          "output_type": "execute_result"
        }
      ],
      "source": [
        "flatnet = recnet.__root__[\"mzi_delta_length10\"]\n",
        "single_mzi = _flat_circuit(\n",
        "    flatnet.instances,\n",
        "    flatnet.connections,\n",
        "    flatnet.ports,\n",
        "    models,\n",
        "    \"default\",\n",
        ")\n",
        "single_mzi()"
      ]
    },
    {
      "cell_type": "markdown",
      "id": "c4f3375c-baa3-433f-924a-eff50557bf9f",
      "metadata": {
        "papermill": {
          "duration": 0.005127,
          "end_time": "2023-11-15T02:11:50.884512",
          "exception": false,
          "start_time": "2023-11-15T02:11:50.879385",
          "status": "completed"
        },
        "tags": []
      },
      "source": [
        "The resulting circuit is just another SAX model (i.e. a python function) returing an SType:"
      ]
    },
    {
      "cell_type": "code",
      "execution_count": 18,
      "id": "058740c4-439b-4b00-91e7-15e3e7b6679c",
      "metadata": {
        "execution": {
          "iopub.execute_input": "2023-11-15T02:11:50.895714Z",
          "iopub.status.busy": "2023-11-15T02:11:50.895164Z",
          "iopub.status.idle": "2023-11-15T02:11:50.930663Z",
          "shell.execute_reply": "2023-11-15T02:11:50.930204Z"
        },
        "papermill": {
          "duration": 0.04233,
          "end_time": "2023-11-15T02:11:50.931808",
          "exception": false,
          "start_time": "2023-11-15T02:11:50.889478",
          "status": "completed"
        },
        "tags": []
      },
      "outputs": [],
      "source": [
        "single_mzi?"
      ]
    },
    {
      "cell_type": "markdown",
      "id": "2b2bbe9f-29ac-413a-b0a4-6c51da8689cb",
      "metadata": {
        "papermill": {
          "duration": 0.005009,
          "end_time": "2023-11-15T02:11:50.941987",
          "exception": false,
          "start_time": "2023-11-15T02:11:50.936978",
          "status": "completed"
        },
        "tags": []
      },
      "source": [
        "Let's 'execute' the circuit:"
      ]
    },
    {
      "cell_type": "markdown",
      "id": "42a86f56-ab16-4c04-8738-2480ad378008",
      "metadata": {
        "papermill": {
          "duration": 0.004945,
          "end_time": "2023-11-15T02:11:50.951948",
          "exception": false,
          "start_time": "2023-11-15T02:11:50.947003",
          "status": "completed"
        },
        "tags": []
      },
      "source": [
        "Note that we can also supply multimode models:"
      ]
    },
    {
      "cell_type": "code",
      "execution_count": 19,
      "id": "87bc9f40-e97c-4505-8362-311ce5770077",
      "metadata": {
        "execution": {
          "iopub.execute_input": "2023-11-15T02:11:50.962865Z",
          "iopub.status.busy": "2023-11-15T02:11:50.962525Z",
          "iopub.status.idle": "2023-11-15T02:11:52.169488Z",
          "shell.execute_reply": "2023-11-15T02:11:52.168981Z"
        },
        "papermill": {
          "duration": 1.213694,
          "end_time": "2023-11-15T02:11:52.170649",
          "exception": false,
          "start_time": "2023-11-15T02:11:50.956955",
          "status": "completed"
        },
        "tags": []
      },
      "outputs": [
        {
          "data": {
            "text/plain": [
              "(Array([[0.        +0.j, 0.        +0.j, 0.7482    +0.j, 0.23011426+0.j],\n",
              "        [0.        +0.j, 0.        +0.j, 0.23011426+0.j, 0.5491    +0.j],\n",
              "        [0.7482    +0.j, 0.23011426+0.j, 0.        +0.j, 0.        +0.j],\n",
              "        [0.23011426+0.j, 0.5491    +0.j, 0.        +0.j, 0.        +0.j]],      dtype=complex128),\n",
              " {'o1@TE': 0, 'o1@TM': 1, 'o2@TE': 2, 'o2@TM': 3})"
            ]
          },
          "execution_count": 19,
          "metadata": {},
          "output_type": "execute_result"
        }
      ],
      "source": [
        "flatnet = recnet.__root__[\"mzi_delta_length10\"]\n",
        "single_mzi = _flat_circuit(\n",
        "    flatnet.instances,\n",
        "    flatnet.connections,\n",
        "    flatnet.ports,\n",
        "    models_mm,\n",
        "    \"default\",\n",
        ")\n",
        "single_mzi()"
      ]
    },
    {
      "cell_type": "markdown",
      "id": "c852f384-c830-47f5-aa75-ee274abbcc35",
      "metadata": {
        "papermill": {
          "duration": 0.005127,
          "end_time": "2023-11-15T02:11:52.181247",
          "exception": false,
          "start_time": "2023-11-15T02:11:52.176120",
          "status": "completed"
        },
        "tags": []
      },
      "source": [
        "Now that we can handle flat circuits the extension to hierarchical circuits is not so difficult:"
      ]
    },
    {
      "cell_type": "markdown",
      "id": "10321c72-bc74-453b-a87a-d5f89295217b",
      "metadata": {
        "papermill": {
          "duration": 0.004992,
          "end_time": "2023-11-15T02:11:52.191343",
          "exception": false,
          "start_time": "2023-11-15T02:11:52.186351",
          "status": "completed"
        },
        "tags": []
      },
      "source": [
        "single mode simulation:"
      ]
    },
    {
      "cell_type": "code",
      "execution_count": 20,
      "id": "6d133b49-6f26-4e01-bcd9-7ca1b76dc55d",
      "metadata": {
        "execution": {
          "iopub.execute_input": "2023-11-15T02:11:52.202555Z",
          "iopub.status.busy": "2023-11-15T02:11:52.202225Z",
          "iopub.status.idle": "2023-11-15T02:11:53.033027Z",
          "shell.execute_reply": "2023-11-15T02:11:53.032513Z"
        },
        "papermill": {
          "duration": 0.837774,
          "end_time": "2023-11-15T02:11:53.034185",
          "exception": false,
          "start_time": "2023-11-15T02:11:52.196411",
          "status": "completed"
        },
        "tags": []
      },
      "outputs": [
        {
          "data": {
            "text/plain": [
              "{('o1', 'o1'): Array(0.+0.j, dtype=complex128),\n",
              " ('o1', 'o2'): Array(0.81+0.j, dtype=complex128),\n",
              " ('o2', 'o1'): Array(0.81+0.j, dtype=complex128),\n",
              " ('o2', 'o2'): Array(0.+0.j, dtype=complex128)}"
            ]
          },
          "execution_count": 20,
          "metadata": {},
          "output_type": "execute_result"
        }
      ],
      "source": [
        "double_mzi, info = sax.circuit(recnet, models, backend='default')\n",
        "double_mzi()"
      ]
    },
    {
      "cell_type": "markdown",
      "id": "3f332edd-909e-452b-b7bd-3a68719a5c20",
      "metadata": {
        "papermill": {
          "duration": 0.005285,
          "end_time": "2023-11-15T02:11:53.044970",
          "exception": false,
          "start_time": "2023-11-15T02:11:53.039685",
          "status": "completed"
        },
        "tags": []
      },
      "source": [
        "multi mode simulation:"
      ]
    },
    {
      "cell_type": "code",
      "execution_count": 21,
      "id": "277ec069-4b46-4d5e-9580-1dd0c28cd9a6",
      "metadata": {
        "execution": {
          "iopub.execute_input": "2023-11-15T02:11:53.056309Z",
          "iopub.status.busy": "2023-11-15T02:11:53.055953Z",
          "iopub.status.idle": "2023-11-15T02:11:53.953246Z",
          "shell.execute_reply": "2023-11-15T02:11:53.952679Z"
        },
        "papermill": {
          "duration": 0.904274,
          "end_time": "2023-11-15T02:11:53.954437",
          "exception": false,
          "start_time": "2023-11-15T02:11:53.050163",
          "status": "completed"
        },
        "tags": []
      },
      "outputs": [
        {
          "data": {
            "text/plain": [
              "{('o1@TE', 'o1@TE'): Array(0.+0.j, dtype=complex128),\n",
              " ('o1@TE', 'o1@TM'): Array(0.+0.j, dtype=complex128),\n",
              " ('o1@TE', 'o2@TE'): Array(0.61275581+0.j, dtype=complex128),\n",
              " ('o1@TE', 'o2@TM'): Array(0.29852723+0.j, dtype=complex128),\n",
              " ('o1@TM', 'o1@TE'): Array(0.+0.j, dtype=complex128),\n",
              " ('o1@TM', 'o1@TM'): Array(0.+0.j, dtype=complex128),\n",
              " ('o1@TM', 'o2@TE'): Array(0.29852723+0.j, dtype=complex128),\n",
              " ('o1@TM', 'o2@TM'): Array(0.35446338+0.j, dtype=complex128),\n",
              " ('o2@TE', 'o1@TE'): Array(0.61275581+0.j, dtype=complex128),\n",
              " ('o2@TE', 'o1@TM'): Array(0.29852723+0.j, dtype=complex128),\n",
              " ('o2@TE', 'o2@TE'): Array(0.+0.j, dtype=complex128),\n",
              " ('o2@TE', 'o2@TM'): Array(0.+0.j, dtype=complex128),\n",
              " ('o2@TM', 'o1@TE'): Array(0.29852723+0.j, dtype=complex128),\n",
              " ('o2@TM', 'o1@TM'): Array(0.35446338+0.j, dtype=complex128),\n",
              " ('o2@TM', 'o2@TE'): Array(0.+0.j, dtype=complex128),\n",
              " ('o2@TM', 'o2@TM'): Array(0.+0.j, dtype=complex128)}"
            ]
          },
          "execution_count": 21,
          "metadata": {},
          "output_type": "execute_result"
        }
      ],
      "source": [
        "double_mzi, info = sax.circuit(recnet, models_mm, backend='default', return_type='sdict')\n",
        "double_mzi()"
      ]
    },
    {
      "cell_type": "markdown",
      "id": "e621a2e3-6918-4cfb-8a55-4cc754356020",
      "metadata": {
        "papermill": {
          "duration": 0.005506,
          "end_time": "2023-11-15T02:11:53.965658",
          "exception": false,
          "start_time": "2023-11-15T02:11:53.960152",
          "status": "completed"
        },
        "tags": []
      },
      "source": [
        "sometimes it's useful to get the required circuit model names to be able to create the circuit:"
      ]
    },
    {
      "cell_type": "code",
      "execution_count": 22,
      "id": "99bb5c8f-8094-426d-a5d6-ceb73d80f706",
      "metadata": {
        "execution": {
          "iopub.execute_input": "2023-11-15T02:11:53.977136Z",
          "iopub.status.busy": "2023-11-15T02:11:53.976814Z",
          "iopub.status.idle": "2023-11-15T02:11:53.988460Z",
          "shell.execute_reply": "2023-11-15T02:11:53.987987Z"
        },
        "papermill": {
          "duration": 0.018611,
          "end_time": "2023-11-15T02:11:53.989539",
          "exception": false,
          "start_time": "2023-11-15T02:11:53.970928",
          "status": "completed"
        },
        "tags": []
      },
      "outputs": [
        {
          "data": {
            "text/plain": [
              "['mzi_delta_length10', 'mzi_delta_length20']"
            ]
          },
          "execution_count": 22,
          "metadata": {},
          "output_type": "execute_result"
        }
      ],
      "source": [
        "sax.get_required_circuit_models(recnet, models)"
      ]
    }
  ],
  "metadata": {
    "kernelspec": {
      "display_name": "sax",
      "language": "python",
      "name": "sax"
    },
    "language_info": {
      "codemirror_mode": {
        "name": "ipython",
        "version": 3
      },
      "file_extension": ".py",
      "mimetype": "text/x-python",
      "name": "python",
      "nbconvert_exporter": "python",
      "pygments_lexer": "ipython3",
      "version": "3.10.12"
    },
    "papermill": {
      "default_parameters": {},
      "duration": 8.289233,
      "end_time": "2023-11-15T02:11:54.510960",
      "environment_variables": {},
      "exception": null,
      "input_path": "./internals/02_circuit.ipynb",
      "output_path": "./internals/02_circuit.ipynb",
      "parameters": {},
      "start_time": "2023-11-15T02:11:46.221727",
      "version": "2.5.0"
    }
  },
  "nbformat": 4,
  "nbformat_minor": 5
}