{
  "cells": [
    {
      "cell_type": "markdown",
      "id": "2c9c99fe",
      "metadata": {
        "papermill": {
          "duration": 0.007303,
          "end_time": "2023-09-03T17:26:15.859226",
          "exception": false,
          "start_time": "2023-09-03T17:26:15.851923",
          "status": "completed"
        },
        "tags": []
      },
      "source": [
        "# Circuit\n",
        "\n",
        "> SAX Circuits"
      ]
    },
    {
      "cell_type": "code",
      "execution_count": 1,
      "id": "666ac6a3-e9d7-424d-a85e-7c9b74e7ec58",
      "metadata": {
        "execution": {
          "iopub.execute_input": "2023-09-03T17:26:15.870587Z",
          "iopub.status.busy": "2023-09-03T17:26:15.869894Z",
          "iopub.status.idle": "2023-09-03T17:26:16.683087Z",
          "shell.execute_reply": "2023-09-03T17:26:16.682264Z"
        },
        "papermill": {
          "duration": 0.821546,
          "end_time": "2023-09-03T17:26:16.685758",
          "exception": false,
          "start_time": "2023-09-03T17:26:15.864212",
          "status": "completed"
        },
        "tags": []
      },
      "outputs": [],
      "source": [
        "from functools import partial\n",
        "\n",
        "import sax\n",
        "from sax.circuit import _create_dag, _draw_dag, _find_root, _find_leaves, _validate_models, _flat_circuit"
      ]
    },
    {
      "cell_type": "markdown",
      "id": "45ad2306-1ead-4b8c-b91e-c02ce4569b3a",
      "metadata": {
        "papermill": {
          "duration": 0.00491,
          "end_time": "2023-09-03T17:26:16.697060",
          "exception": false,
          "start_time": "2023-09-03T17:26:16.692150",
          "status": "completed"
        },
        "tags": []
      },
      "source": [
        "Let's start by creating a simple recursive netlist with gdsfactory.\n",
        "\n",
        ":::{note}\n",
        "We are using gdsfactory to create our netlist because it allows us to see the circuit we want to simulate and because we're striving to have a compatible netlist implementation in SAX.\n",
        "\n",
        "However... gdsfactory is not a dependency of SAX. You can also define your circuits by hand (see [SAX Quick Start](../examples/01_quick_start.ipynb) or you can use another tool to programmatically construct your netlists.\n",
        ":::"
      ]
    },
    {
      "cell_type": "code",
      "execution_count": 2,
      "id": "804a1c9b-c02b-4af6-ba3d-858f76634a69",
      "metadata": {
        "execution": {
          "iopub.execute_input": "2023-09-03T17:26:16.707717Z",
          "iopub.status.busy": "2023-09-03T17:26:16.707211Z",
          "iopub.status.idle": "2023-09-03T17:26:17.977043Z",
          "shell.execute_reply": "2023-09-03T17:26:17.975767Z"
        },
        "papermill": {
          "duration": 1.277455,
          "end_time": "2023-09-03T17:26:17.979343",
          "exception": false,
          "start_time": "2023-09-03T17:26:16.701888",
          "status": "completed"
        },
        "tags": []
      },
      "outputs": [
        {
          "name": "stderr",
          "output_type": "stream",
          "text": [
            "\u001b[32m2023-09-03 17:26:17.153\u001b[0m | \u001b[33m\u001b[1mWARNING \u001b[0m | \u001b[36mgdsfactory.pdk\u001b[0m:\u001b[36mget_active_pdk\u001b[0m:\u001b[36m714\u001b[0m - \u001b[33m\u001b[1mNo active PDK. Activating generic PDK.\n",
            "\u001b[0m\n"
          ]
        },
        {
          "name": "stderr",
          "output_type": "stream",
          "text": [
            "\u001b[32m2023-09-03 17:26:17.316\u001b[0m | \u001b[1mINFO    \u001b[0m | \u001b[36mgdsfactory.technology.layer_views\u001b[0m:\u001b[36m__init__\u001b[0m:\u001b[36m790\u001b[0m - \u001b[1mImporting LayerViews from YAML file: '/opt/conda/lib/python3.10/site-packages/gdsfactory/generic_tech/layer_views.yaml'.\u001b[0m\n"
          ]
        },
        {
          "name": "stderr",
          "output_type": "stream",
          "text": [
            "\u001b[32m2023-09-03 17:26:17.317\u001b[0m | \u001b[1mINFO    \u001b[0m | \u001b[36mgdsfactory.pdk\u001b[0m:\u001b[36mactivate\u001b[0m:\u001b[36m333\u001b[0m - \u001b[1m'generic' PDK is now active\u001b[0m\n"
          ]
        },
        {
          "data": {
            "image/png": "[encoded data removed]",
            "text/plain": [
              "<Figure size 640x480 with 1 Axes>"
            ]
          },
          "metadata": {},
          "output_type": "display_data"
        }
      ],
      "source": [
        "import gdsfactory as gf\n",
        "from IPython.display import display\n",
        "from gdsfactory.components import mzi\n",
        "from gdsfactory.get_netlist import get_netlist_recursive, get_netlist, get_netlist_yaml\n",
        "from gdsfactory.quickplotter import quickplot\n",
        "\n",
        "\n",
        "@gf.cell\n",
        "def twomzi():\n",
        "    c = gf.Component()\n",
        "\n",
        "    # instances\n",
        "    mzi1 = mzi(delta_length=10)\n",
        "    mzi2 = mzi(delta_length=20)\n",
        "\n",
        "    # references\n",
        "    mzi1_ = c << mzi1\n",
        "    mzi2_ = c << mzi2\n",
        "\n",
        "    # connections\n",
        "    mzi2_.connect(\"o1\", mzi1_.ports[\"o2\"])\n",
        "\n",
        "    # ports\n",
        "    c.add_port(\"o1\", port=mzi1_.ports[\"o1\"])\n",
        "    c.add_port(\"o2\", port=mzi2_.ports[\"o2\"])\n",
        "    return c\n",
        "\n",
        "\n",
        "comp = twomzi()\n",
        "quickplot(comp)\n",
        "recnet = sax.RecursiveNetlist.parse_obj(\n",
        "    get_netlist_recursive(\n",
        "        comp, get_netlist_func=partial(get_netlist, full_settings=True)\n",
        "    )\n",
        ")\n",
        "flatnet = recnet.__root__[\"mzi_delta_length10\"]"
      ]
    },
    {
      "cell_type": "markdown",
      "id": "2b2a38fb-c83e-4b71-b195-ecca485fb0a3",
      "metadata": {
        "papermill": {
          "duration": 0.006047,
          "end_time": "2023-09-03T17:26:17.992582",
          "exception": false,
          "start_time": "2023-09-03T17:26:17.986535",
          "status": "completed"
        },
        "tags": []
      },
      "source": [
        "To be able to model this device we'll need some SAX dummy models:"
      ]
    },
    {
      "cell_type": "code",
      "execution_count": 3,
      "id": "2035cd9e-c65e-45b6-bd83-4ad19e4630fa",
      "metadata": {
        "execution": {
          "iopub.execute_input": "2023-09-03T17:26:18.004673Z",
          "iopub.status.busy": "2023-09-03T17:26:18.004020Z",
          "iopub.status.idle": "2023-09-03T17:26:18.007857Z",
          "shell.execute_reply": "2023-09-03T17:26:18.007215Z"
        },
        "papermill": {
          "duration": 0.011634,
          "end_time": "2023-09-03T17:26:18.009256",
          "exception": false,
          "start_time": "2023-09-03T17:26:17.997622",
          "status": "completed"
        },
        "tags": []
      },
      "outputs": [],
      "source": [
        "def bend_euler(\n",
        "    angle=90.0,\n",
        "    p=0.5,\n",
        "    # cross_section=\"strip\",\n",
        "    # direction=\"ccw\",\n",
        "    # with_bbox=True,\n",
        "    # with_arc_floorplan=True,\n",
        "    # npoints=720,\n",
        "):\n",
        "    return sax.reciprocal({\n",
        "        ('o1', 'o2'): 1.0\n",
        "    })"
      ]
    },
    {
      "cell_type": "code",
      "execution_count": 4,
      "id": "192c4288-20d1-4aca-b3d0-277db6bb5118",
      "metadata": {
        "execution": {
          "iopub.execute_input": "2023-09-03T17:26:18.020786Z",
          "iopub.status.busy": "2023-09-03T17:26:18.020092Z",
          "iopub.status.idle": "2023-09-03T17:26:18.024664Z",
          "shell.execute_reply": "2023-09-03T17:26:18.023556Z"
        },
        "papermill": {
          "duration": 0.011326,
          "end_time": "2023-09-03T17:26:18.025852",
          "exception": false,
          "start_time": "2023-09-03T17:26:18.014526",
          "status": "completed"
        },
        "tags": []
      },
      "outputs": [],
      "source": [
        "def mmi1x2(\n",
        "    width=0.5,\n",
        "    width_taper= 1.0,\n",
        "    length_taper= 10.0,\n",
        "    length_mmi= 5.5,\n",
        "    width_mmi= 2.5,\n",
        "    gap_mmi= 0.25,\n",
        "    # cross_section= strip,\n",
        "    # taper= {function= taper},\n",
        "    # with_bbox= True,\n",
        "):\n",
        "    return sax.reciprocal({\n",
        "        ('o1', 'o2'): 0.45**0.5,\n",
        "        ('o1', 'o3'): 0.45**0.5,\n",
        "    })"
      ]
    },
    {
      "cell_type": "code",
      "execution_count": 5,
      "id": "861a5b4a-d8d9-4ea0-a733-39e213a28ead",
      "metadata": {
        "execution": {
          "iopub.execute_input": "2023-09-03T17:26:18.036773Z",
          "iopub.status.busy": "2023-09-03T17:26:18.036090Z",
          "iopub.status.idle": "2023-09-03T17:26:18.040833Z",
          "shell.execute_reply": "2023-09-03T17:26:18.039615Z"
        },
        "papermill": {
          "duration": 0.011952,
          "end_time": "2023-09-03T17:26:18.042439",
          "exception": false,
          "start_time": "2023-09-03T17:26:18.030487",
          "status": "completed"
        },
        "tags": []
      },
      "outputs": [],
      "source": [
        "def mmi2x2(\n",
        "    width=0.5,\n",
        "    width_taper= 1.0,\n",
        "    length_taper= 10.0,\n",
        "    length_mmi= 5.5,\n",
        "    width_mmi= 2.5,\n",
        "    gap_mmi= 0.25,\n",
        "    # cross_section= strip,\n",
        "    # taper= {function= taper},\n",
        "    # with_bbox= True,\n",
        "):\n",
        "    return sax.reciprocal({\n",
        "        ('o1', 'o3'): 0.45**0.5,\n",
        "        ('o1', 'o4'): 1j * 0.45**0.5,\n",
        "        ('o2', 'o3'): 1j * 0.45**0.5,\n",
        "        ('o2', 'o4'): 0.45**0.5,\n",
        "    })"
      ]
    },
    {
      "cell_type": "code",
      "execution_count": 6,
      "id": "84046c8e-45a7-4aa0-bbdf-c82cd2d0e24e",
      "metadata": {
        "execution": {
          "iopub.execute_input": "2023-09-03T17:26:18.054368Z",
          "iopub.status.busy": "2023-09-03T17:26:18.053698Z",
          "iopub.status.idle": "2023-09-03T17:26:18.057146Z",
          "shell.execute_reply": "2023-09-03T17:26:18.056345Z"
        },
        "papermill": {
          "duration": 0.011035,
          "end_time": "2023-09-03T17:26:18.058418",
          "exception": false,
          "start_time": "2023-09-03T17:26:18.047383",
          "status": "completed"
        },
        "tags": []
      },
      "outputs": [],
      "source": [
        "def straight(\n",
        "    length=0.01,\n",
        "    #npoints=2,\n",
        "    #with_bbox=True,\n",
        "    #cross_section=...\n",
        "):\n",
        "    return sax.reciprocal({\n",
        "        ('o1', 'o2'): 1.0\n",
        "    })"
      ]
    },
    {
      "cell_type": "markdown",
      "id": "8efe90e4-dfe6-40bd-aa0a-26c74738d688",
      "metadata": {
        "papermill": {
          "duration": 0.005384,
          "end_time": "2023-09-03T17:26:18.068683",
          "exception": false,
          "start_time": "2023-09-03T17:26:18.063299",
          "status": "completed"
        },
        "tags": []
      },
      "source": [
        "In SAX, we usually aggregate the available models in a models dictionary:"
      ]
    },
    {
      "cell_type": "code",
      "execution_count": 7,
      "id": "c1ac9132-0ee2-443b-98f4-f790234551b0",
      "metadata": {
        "execution": {
          "iopub.execute_input": "2023-09-03T17:26:18.080731Z",
          "iopub.status.busy": "2023-09-03T17:26:18.080188Z",
          "iopub.status.idle": "2023-09-03T17:26:18.084163Z",
          "shell.execute_reply": "2023-09-03T17:26:18.083195Z"
        },
        "papermill": {
          "duration": 0.011265,
          "end_time": "2023-09-03T17:26:18.085446",
          "exception": false,
          "start_time": "2023-09-03T17:26:18.074181",
          "status": "completed"
        },
        "tags": []
      },
      "outputs": [],
      "source": [
        "models = {\n",
        "    'straight': straight,\n",
        "    'bend_euler': bend_euler,\n",
        "    'mmi1x2': mmi1x2,\n",
        "}"
      ]
    },
    {
      "cell_type": "markdown",
      "id": "05c6a808-1fbf-446c-badd-03a36c76e438",
      "metadata": {
        "papermill": {
          "duration": 0.005755,
          "end_time": "2023-09-03T17:26:18.096350",
          "exception": false,
          "start_time": "2023-09-03T17:26:18.090595",
          "status": "completed"
        },
        "tags": []
      },
      "source": [
        "We can also create some dummy multimode models:"
      ]
    },
    {
      "cell_type": "code",
      "execution_count": 8,
      "id": "b749320e-5a86-4c05-9736-89936b0d31b3",
      "metadata": {
        "execution": {
          "iopub.execute_input": "2023-09-03T17:26:18.108325Z",
          "iopub.status.busy": "2023-09-03T17:26:18.107809Z",
          "iopub.status.idle": "2023-09-03T17:26:18.112223Z",
          "shell.execute_reply": "2023-09-03T17:26:18.111397Z"
        },
        "papermill": {
          "duration": 0.012036,
          "end_time": "2023-09-03T17:26:18.113610",
          "exception": false,
          "start_time": "2023-09-03T17:26:18.101574",
          "status": "completed"
        },
        "tags": []
      },
      "outputs": [],
      "source": [
        "def bend_euler_mm(\n",
        "    angle=90.0,\n",
        "    p=0.5,\n",
        "    # cross_section=\"strip\",\n",
        "    # direction=\"ccw\",\n",
        "    # with_bbox=True,\n",
        "    # with_arc_floorplan=True,\n",
        "    # npoints=720,\n",
        "):\n",
        "    return sax.reciprocal({\n",
        "        ('o1@TE', 'o2@TE'): 0.9**0.5,\n",
        "        #('o1@TE', 'o2@TM'): 0.01**0.5,\n",
        "        #('o1@TM', 'o2@TE'): 0.01**0.5,\n",
        "        ('o1@TM', 'o2@TM'): 0.8**0.5,\n",
        "    })"
      ]
    },
    {
      "cell_type": "code",
      "execution_count": 9,
      "id": "958054fb-31f0-4d2c-9304-fdb72af8f333",
      "metadata": {
        "execution": {
          "iopub.execute_input": "2023-09-03T17:26:18.124575Z",
          "iopub.status.busy": "2023-09-03T17:26:18.124051Z",
          "iopub.status.idle": "2023-09-03T17:26:18.129128Z",
          "shell.execute_reply": "2023-09-03T17:26:18.128465Z"
        },
        "papermill": {
          "duration": 0.012547,
          "end_time": "2023-09-03T17:26:18.130735",
          "exception": false,
          "start_time": "2023-09-03T17:26:18.118188",
          "status": "completed"
        },
        "tags": []
      },
      "outputs": [],
      "source": [
        "def mmi1x2_mm(\n",
        "    width=0.5,\n",
        "    width_taper= 1.0,\n",
        "    length_taper= 10.0,\n",
        "    length_mmi= 5.5,\n",
        "    width_mmi= 2.5,\n",
        "    gap_mmi= 0.25,\n",
        "    # cross_section= strip,\n",
        "    # taper= {function= taper},\n",
        "    # with_bbox= True,\n",
        "):\n",
        "    return sax.reciprocal({\n",
        "        ('o1@TE', 'o2@TE'): 0.45**0.5,\n",
        "        ('o1@TE', 'o3@TE'): 0.45**0.5,\n",
        "        ('o1@TM', 'o2@TM'): 0.41**0.5,\n",
        "        ('o1@TM', 'o3@TM'): 0.41**0.5,\n",
        "        ('o1@TE', 'o2@TM'): 0.01**0.5,\n",
        "        ('o1@TM', 'o2@TE'): 0.01**0.5,\n",
        "        ('o1@TE', 'o3@TM'): 0.02**0.5,\n",
        "        ('o1@TM', 'o3@TE'): 0.02**0.5,\n",
        "    })"
      ]
    },
    {
      "cell_type": "code",
      "execution_count": 10,
      "id": "34bad3c0-34a4-4b35-a942-7f75a204c1d0",
      "metadata": {
        "execution": {
          "iopub.execute_input": "2023-09-03T17:26:18.170687Z",
          "iopub.status.busy": "2023-09-03T17:26:18.169923Z",
          "iopub.status.idle": "2023-09-03T17:26:18.174233Z",
          "shell.execute_reply": "2023-09-03T17:26:18.173432Z"
        },
        "papermill": {
          "duration": 0.012476,
          "end_time": "2023-09-03T17:26:18.176316",
          "exception": false,
          "start_time": "2023-09-03T17:26:18.163840",
          "status": "completed"
        },
        "tags": []
      },
      "outputs": [],
      "source": [
        "def straight_mm(\n",
        "    length=0.01,\n",
        "    #npoints=2,\n",
        "    #with_bbox=True,\n",
        "    #cross_section=...\n",
        "):\n",
        "    return sax.reciprocal({\n",
        "        ('o1@TE', 'o2@TE'): 1.0,\n",
        "        ('o1@TM', 'o2@TM'): 1.0,\n",
        "    })"
      ]
    },
    {
      "cell_type": "code",
      "execution_count": 11,
      "id": "b9476eb5-94e0-45c3-8e7e-a82fead8807b",
      "metadata": {
        "execution": {
          "iopub.execute_input": "2023-09-03T17:26:18.189273Z",
          "iopub.status.busy": "2023-09-03T17:26:18.188647Z",
          "iopub.status.idle": "2023-09-03T17:26:18.192820Z",
          "shell.execute_reply": "2023-09-03T17:26:18.192202Z"
        },
        "papermill": {
          "duration": 0.012141,
          "end_time": "2023-09-03T17:26:18.194434",
          "exception": false,
          "start_time": "2023-09-03T17:26:18.182293",
          "status": "completed"
        },
        "tags": []
      },
      "outputs": [],
      "source": [
        "models_mm = {\n",
        "    'straight': straight_mm,\n",
        "    'bend_euler': bend_euler_mm,\n",
        "    'mmi1x2': mmi1x2_mm,\n",
        "}"
      ]
    },
    {
      "cell_type": "markdown",
      "id": "3df7d9b6-acbb-4406-a3c8-8a9ad09db768",
      "metadata": {
        "papermill": {
          "duration": 0.006495,
          "end_time": "2023-09-03T17:26:18.206963",
          "exception": false,
          "start_time": "2023-09-03T17:26:18.200468",
          "status": "completed"
        },
        "tags": []
      },
      "source": [
        "We can now represent our recursive netlist model as a Directed Acyclic Graph:"
      ]
    },
    {
      "cell_type": "code",
      "execution_count": 12,
      "id": "b6d6e06e-b501-4d3e-8eb6-0d7117abf8e8",
      "metadata": {
        "execution": {
          "iopub.execute_input": "2023-09-03T17:26:18.219897Z",
          "iopub.status.busy": "2023-09-03T17:26:18.219360Z",
          "iopub.status.idle": "2023-09-03T17:26:18.383386Z",
          "shell.execute_reply": "2023-09-03T17:26:18.382873Z"
        },
        "papermill": {
          "duration": 0.171932,
          "end_time": "2023-09-03T17:26:18.384867",
          "exception": false,
          "start_time": "2023-09-03T17:26:18.212935",
          "status": "completed"
        },
        "tags": []
      },
      "outputs": [
        {
          "data": {
            "image/png": "[encoded data removed]",
            "text/plain": [
              "<Figure size 640x480 with 1 Axes>"
            ]
          },
          "metadata": {},
          "output_type": "display_data"
        }
      ],
      "source": [
        "dag = _create_dag(recnet, models)\n",
        "_draw_dag(dag)"
      ]
    },
    {
      "cell_type": "markdown",
      "id": "d081c64c-c42c-467e-885d-6e8db2cf64cc",
      "metadata": {
        "papermill": {
          "duration": 0.00658,
          "end_time": "2023-09-03T17:26:18.397417",
          "exception": false,
          "start_time": "2023-09-03T17:26:18.390837",
          "status": "completed"
        },
        "tags": []
      },
      "source": [
        "Note that the DAG depends on the models we supply. We could for example stub one of the sub-netlists by a pre-defined model:"
      ]
    },
    {
      "cell_type": "code",
      "execution_count": 13,
      "id": "ebb11e68-ecc3-4d00-9870-b6682e06c39f",
      "metadata": {
        "execution": {
          "iopub.execute_input": "2023-09-03T17:26:18.411180Z",
          "iopub.status.busy": "2023-09-03T17:26:18.410410Z",
          "iopub.status.idle": "2023-09-03T17:26:18.564133Z",
          "shell.execute_reply": "2023-09-03T17:26:18.563666Z"
        },
        "papermill": {
          "duration": 0.162527,
          "end_time": "2023-09-03T17:26:18.565512",
          "exception": false,
          "start_time": "2023-09-03T17:26:18.402985",
          "status": "completed"
        },
        "tags": []
      },
      "outputs": [
        {
          "data": {
            "image/png": "[encoded data removed]",
            "text/plain": [
              "<Figure size 640x480 with 1 Axes>"
            ]
          },
          "metadata": {},
          "output_type": "display_data"
        }
      ],
      "source": [
        "dag_ = _create_dag(recnet, {**models, 'mzi_delta_length10': mmi2x2})\n",
        "_draw_dag(dag_, with_labels=True)"
      ]
    },
    {
      "cell_type": "markdown",
      "id": "b68c2f1a-f062-4f8a-89a5-8608524a5c06",
      "metadata": {
        "papermill": {
          "duration": 0.005638,
          "end_time": "2023-09-03T17:26:18.577768",
          "exception": false,
          "start_time": "2023-09-03T17:26:18.572130",
          "status": "completed"
        },
        "tags": []
      },
      "source": [
        "This is useful if we for example pre-calculated a certain model."
      ]
    },
    {
      "cell_type": "markdown",
      "id": "020381f6-872f-4aea-8822-ef1096553dc2",
      "metadata": {
        "papermill": {
          "duration": 0.005627,
          "end_time": "2023-09-03T17:26:18.589659",
          "exception": false,
          "start_time": "2023-09-03T17:26:18.584032",
          "status": "completed"
        },
        "tags": []
      },
      "source": [
        "We can easily find the root of the DAG:"
      ]
    },
    {
      "cell_type": "code",
      "execution_count": 14,
      "id": "11728146-6b54-48f2-acac-c8a5fa4e3b0f",
      "metadata": {
        "execution": {
          "iopub.execute_input": "2023-09-03T17:26:18.603184Z",
          "iopub.status.busy": "2023-09-03T17:26:18.602934Z",
          "iopub.status.idle": "2023-09-03T17:26:18.607159Z",
          "shell.execute_reply": "2023-09-03T17:26:18.606565Z"
        },
        "papermill": {
          "duration": 0.013792,
          "end_time": "2023-09-03T17:26:18.609142",
          "exception": false,
          "start_time": "2023-09-03T17:26:18.595350",
          "status": "completed"
        },
        "tags": []
      },
      "outputs": [
        {
          "data": {
            "text/plain": [
              "['twomzi']"
            ]
          },
          "execution_count": 14,
          "metadata": {},
          "output_type": "execute_result"
        }
      ],
      "source": [
        "_find_root(dag)"
      ]
    },
    {
      "cell_type": "markdown",
      "id": "4e8065d2-19c8-444a-b1c2-ea3c62f90e0a",
      "metadata": {
        "papermill": {
          "duration": 0.006003,
          "end_time": "2023-09-03T17:26:18.621442",
          "exception": false,
          "start_time": "2023-09-03T17:26:18.615439",
          "status": "completed"
        },
        "tags": []
      },
      "source": [
        "Similarly we can find the leaves:"
      ]
    },
    {
      "cell_type": "code",
      "execution_count": 15,
      "id": "7fa9afff-26b5-44cb-90bf-a32ef5e95bf5",
      "metadata": {
        "execution": {
          "iopub.execute_input": "2023-09-03T17:26:18.634849Z",
          "iopub.status.busy": "2023-09-03T17:26:18.634229Z",
          "iopub.status.idle": "2023-09-03T17:26:18.638202Z",
          "shell.execute_reply": "2023-09-03T17:26:18.637795Z"
        },
        "papermill": {
          "duration": 0.012701,
          "end_time": "2023-09-03T17:26:18.639628",
          "exception": false,
          "start_time": "2023-09-03T17:26:18.626927",
          "status": "completed"
        },
        "tags": []
      },
      "outputs": [
        {
          "data": {
            "text/plain": [
              "['bend_euler', 'mmi1x2', 'straight']"
            ]
          },
          "execution_count": 15,
          "metadata": {},
          "output_type": "execute_result"
        }
      ],
      "source": [
        "_find_leaves(dag)"
      ]
    },
    {
      "cell_type": "markdown",
      "id": "59fb221d-951d-44df-a5d9-487a8b4dc4f8",
      "metadata": {
        "papermill": {
          "duration": 0.006298,
          "end_time": "2023-09-03T17:26:18.652384",
          "exception": false,
          "start_time": "2023-09-03T17:26:18.646086",
          "status": "completed"
        },
        "tags": []
      },
      "source": [
        "To be able to simulate the circuit, we need to supply a model for each of the leaves in the dependency DAG. Let's write a validator that checks this"
      ]
    },
    {
      "cell_type": "code",
      "execution_count": 16,
      "id": "a97dbe93-a53f-4525-b721-2f329692cdc9",
      "metadata": {
        "execution": {
          "iopub.execute_input": "2023-09-03T17:26:18.665954Z",
          "iopub.status.busy": "2023-09-03T17:26:18.665329Z",
          "iopub.status.idle": "2023-09-03T17:26:18.668676Z",
          "shell.execute_reply": "2023-09-03T17:26:18.667980Z"
        },
        "papermill": {
          "duration": 0.011861,
          "end_time": "2023-09-03T17:26:18.669831",
          "exception": false,
          "start_time": "2023-09-03T17:26:18.657970",
          "status": "completed"
        },
        "tags": []
      },
      "outputs": [],
      "source": [
        "models = _validate_models(models, dag)"
      ]
    },
    {
      "cell_type": "markdown",
      "id": "e9f30a86-aa00-4f51-8b93-3440edc0b46b",
      "metadata": {
        "papermill": {
          "duration": 0.006293,
          "end_time": "2023-09-03T17:26:18.682194",
          "exception": false,
          "start_time": "2023-09-03T17:26:18.675901",
          "status": "completed"
        },
        "tags": []
      },
      "source": [
        "We can now dow a bottom-up simulation. Since at the bottom of the DAG, our circuit is always flat (i.e. not hierarchical) we can implement a minimal `_flat_circuit` definition, which only needs to work on a flat (non-hierarchical circuit):"
      ]
    },
    {
      "cell_type": "code",
      "execution_count": 17,
      "id": "1f415c32-70e4-4b40-a9e2-051fc187cbb9",
      "metadata": {
        "execution": {
          "iopub.execute_input": "2023-09-03T17:26:18.695376Z",
          "iopub.status.busy": "2023-09-03T17:26:18.694935Z",
          "iopub.status.idle": "2023-09-03T17:26:20.041053Z",
          "shell.execute_reply": "2023-09-03T17:26:20.040491Z"
        },
        "papermill": {
          "duration": 1.35517,
          "end_time": "2023-09-03T17:26:20.043009",
          "exception": false,
          "start_time": "2023-09-03T17:26:18.687839",
          "status": "completed"
        },
        "tags": []
      },
      "outputs": [
        {
          "data": {
            "text/plain": [
              "(Array([[0. +0.j, 0.9+0.j],\n",
              "        [0.9+0.j, 0. +0.j]], dtype=complex128),\n",
              " {'o1': 0, 'o2': 1})"
            ]
          },
          "execution_count": 17,
          "metadata": {},
          "output_type": "execute_result"
        }
      ],
      "source": [
        "flatnet = recnet.__root__[\"mzi_delta_length10\"]\n",
        "single_mzi = _flat_circuit(\n",
        "    flatnet.instances,\n",
        "    flatnet.connections,\n",
        "    flatnet.ports,\n",
        "    models,\n",
        "    \"default\",\n",
        ")\n",
        "single_mzi()"
      ]
    },
    {
      "cell_type": "markdown",
      "id": "c4f3375c-baa3-433f-924a-eff50557bf9f",
      "metadata": {
        "papermill": {
          "duration": 0.006816,
          "end_time": "2023-09-03T17:26:20.057643",
          "exception": false,
          "start_time": "2023-09-03T17:26:20.050827",
          "status": "completed"
        },
        "tags": []
      },
      "source": [
        "The resulting circuit is just another SAX model (i.e. a python function) returing an SType:"
      ]
    },
    {
      "cell_type": "code",
      "execution_count": 18,
      "id": "058740c4-439b-4b00-91e7-15e3e7b6679c",
      "metadata": {
        "execution": {
          "iopub.execute_input": "2023-09-03T17:26:20.072899Z",
          "iopub.status.busy": "2023-09-03T17:26:20.072096Z",
          "iopub.status.idle": "2023-09-03T17:26:20.118047Z",
          "shell.execute_reply": "2023-09-03T17:26:20.116924Z"
        },
        "papermill": {
          "duration": 0.055505,
          "end_time": "2023-09-03T17:26:20.120132",
          "exception": false,
          "start_time": "2023-09-03T17:26:20.064627",
          "status": "completed"
        },
        "tags": []
      },
      "outputs": [],
      "source": [
        "single_mzi?"
      ]
    },
    {
      "cell_type": "markdown",
      "id": "2b2bbe9f-29ac-413a-b0a4-6c51da8689cb",
      "metadata": {
        "papermill": {
          "duration": 0.006487,
          "end_time": "2023-09-03T17:26:20.134276",
          "exception": false,
          "start_time": "2023-09-03T17:26:20.127789",
          "status": "completed"
        },
        "tags": []
      },
      "source": [
        "Let's 'execute' the circuit:"
      ]
    },
    {
      "cell_type": "markdown",
      "id": "42a86f56-ab16-4c04-8738-2480ad378008",
      "metadata": {
        "papermill": {
          "duration": 0.00655,
          "end_time": "2023-09-03T17:26:20.147454",
          "exception": false,
          "start_time": "2023-09-03T17:26:20.140904",
          "status": "completed"
        },
        "tags": []
      },
      "source": [
        "Note that we can also supply multimode models:"
      ]
    },
    {
      "cell_type": "code",
      "execution_count": 19,
      "id": "87bc9f40-e97c-4505-8362-311ce5770077",
      "metadata": {
        "execution": {
          "iopub.execute_input": "2023-09-03T17:26:20.161360Z",
          "iopub.status.busy": "2023-09-03T17:26:20.160826Z",
          "iopub.status.idle": "2023-09-03T17:26:21.461289Z",
          "shell.execute_reply": "2023-09-03T17:26:21.460047Z"
        },
        "papermill": {
          "duration": 1.30953,
          "end_time": "2023-09-03T17:26:21.463228",
          "exception": false,
          "start_time": "2023-09-03T17:26:20.153698",
          "status": "completed"
        },
        "tags": []
      },
      "outputs": [
        {
          "data": {
            "text/plain": [
              "(Array([[0.        +0.j, 0.        +0.j, 0.7482    +0.j, 0.23011426+0.j],\n",
              "        [0.        +0.j, 0.        +0.j, 0.23011426+0.j, 0.5491    +0.j],\n",
              "        [0.7482    +0.j, 0.23011426+0.j, 0.        +0.j, 0.        +0.j],\n",
              "        [0.23011426+0.j, 0.5491    +0.j, 0.        +0.j, 0.        +0.j]],      dtype=complex128),\n",
              " {'o1@TE': 0, 'o1@TM': 1, 'o2@TE': 2, 'o2@TM': 3})"
            ]
          },
          "execution_count": 19,
          "metadata": {},
          "output_type": "execute_result"
        }
      ],
      "source": [
        "flatnet = recnet.__root__[\"mzi_delta_length10\"]\n",
        "single_mzi = _flat_circuit(\n",
        "    flatnet.instances,\n",
        "    flatnet.connections,\n",
        "    flatnet.ports,\n",
        "    models_mm,\n",
        "    \"default\",\n",
        ")\n",
        "single_mzi()"
      ]
    },
    {
      "cell_type": "markdown",
      "id": "c852f384-c830-47f5-aa75-ee274abbcc35",
      "metadata": {
        "papermill": {
          "duration": 0.007688,
          "end_time": "2023-09-03T17:26:21.478298",
          "exception": false,
          "start_time": "2023-09-03T17:26:21.470610",
          "status": "completed"
        },
        "tags": []
      },
      "source": [
        "Now that we can handle flat circuits the extension to hierarchical circuits is not so difficult:"
      ]
    },
    {
      "cell_type": "markdown",
      "id": "10321c72-bc74-453b-a87a-d5f89295217b",
      "metadata": {
        "papermill": {
          "duration": 0.006736,
          "end_time": "2023-09-03T17:26:21.492364",
          "exception": false,
          "start_time": "2023-09-03T17:26:21.485628",
          "status": "completed"
        },
        "tags": []
      },
      "source": [
        "single mode simulation:"
      ]
    },
    {
      "cell_type": "code",
      "execution_count": 20,
      "id": "6d133b49-6f26-4e01-bcd9-7ca1b76dc55d",
      "metadata": {
        "execution": {
          "iopub.execute_input": "2023-09-03T17:26:21.507389Z",
          "iopub.status.busy": "2023-09-03T17:26:21.506634Z",
          "iopub.status.idle": "2023-09-03T17:26:23.019937Z",
          "shell.execute_reply": "2023-09-03T17:26:23.018928Z"
        },
        "papermill": {
          "duration": 1.522834,
          "end_time": "2023-09-03T17:26:23.021675",
          "exception": false,
          "start_time": "2023-09-03T17:26:21.498841",
          "status": "completed"
        },
        "tags": []
      },
      "outputs": [
        {
          "data": {
            "text/plain": [
              "{('o1', 'o1'): Array(0.+0.j, dtype=complex128),\n",
              " ('o1', 'o2'): Array(0.81+0.j, dtype=complex128),\n",
              " ('o2', 'o1'): Array(0.81+0.j, dtype=complex128),\n",
              " ('o2', 'o2'): Array(0.+0.j, dtype=complex128)}"
            ]
          },
          "execution_count": 20,
          "metadata": {},
          "output_type": "execute_result"
        }
      ],
      "source": [
        "double_mzi, info = sax.circuit(recnet, models, backend='default')\n",
        "double_mzi()"
      ]
    },
    {
      "cell_type": "markdown",
      "id": "3f332edd-909e-452b-b7bd-3a68719a5c20",
      "metadata": {
        "papermill": {
          "duration": 0.006271,
          "end_time": "2023-09-03T17:26:23.034555",
          "exception": false,
          "start_time": "2023-09-03T17:26:23.028284",
          "status": "completed"
        },
        "tags": []
      },
      "source": [
        "multi mode simulation:"
      ]
    },
    {
      "cell_type": "code",
      "execution_count": 21,
      "id": "277ec069-4b46-4d5e-9580-1dd0c28cd9a6",
      "metadata": {
        "execution": {
          "iopub.execute_input": "2023-09-03T17:26:23.049372Z",
          "iopub.status.busy": "2023-09-03T17:26:23.048928Z",
          "iopub.status.idle": "2023-09-03T17:26:24.563751Z",
          "shell.execute_reply": "2023-09-03T17:26:24.562616Z"
        },
        "papermill": {
          "duration": 1.524323,
          "end_time": "2023-09-03T17:26:24.565543",
          "exception": false,
          "start_time": "2023-09-03T17:26:23.041220",
          "status": "completed"
        },
        "tags": []
      },
      "outputs": [
        {
          "data": {
            "text/plain": [
              "{('o1@TE', 'o1@TE'): Array(0.+0.j, dtype=complex128),\n",
              " ('o1@TE', 'o1@TM'): Array(0.+0.j, dtype=complex128),\n",
              " ('o1@TE', 'o2@TE'): Array(0.61275581+0.j, dtype=complex128),\n",
              " ('o1@TE', 'o2@TM'): Array(0.29852723+0.j, dtype=complex128),\n",
              " ('o1@TM', 'o1@TE'): Array(0.+0.j, dtype=complex128),\n",
              " ('o1@TM', 'o1@TM'): Array(0.+0.j, dtype=complex128),\n",
              " ('o1@TM', 'o2@TE'): Array(0.29852723+0.j, dtype=complex128),\n",
              " ('o1@TM', 'o2@TM'): Array(0.35446338+0.j, dtype=complex128),\n",
              " ('o2@TE', 'o1@TE'): Array(0.61275581+0.j, dtype=complex128),\n",
              " ('o2@TE', 'o1@TM'): Array(0.29852723+0.j, dtype=complex128),\n",
              " ('o2@TE', 'o2@TE'): Array(0.+0.j, dtype=complex128),\n",
              " ('o2@TE', 'o2@TM'): Array(0.+0.j, dtype=complex128),\n",
              " ('o2@TM', 'o1@TE'): Array(0.29852723+0.j, dtype=complex128),\n",
              " ('o2@TM', 'o1@TM'): Array(0.35446338+0.j, dtype=complex128),\n",
              " ('o2@TM', 'o2@TE'): Array(0.+0.j, dtype=complex128),\n",
              " ('o2@TM', 'o2@TM'): Array(0.+0.j, dtype=complex128)}"
            ]
          },
          "execution_count": 21,
          "metadata": {},
          "output_type": "execute_result"
        }
      ],
      "source": [
        "double_mzi, info = sax.circuit(recnet, models_mm, backend='default', return_type='sdict')\n",
        "double_mzi()"
      ]
    },
    {
      "cell_type": "markdown",
      "id": "e621a2e3-6918-4cfb-8a55-4cc754356020",
      "metadata": {
        "papermill": {
          "duration": 0.007227,
          "end_time": "2023-09-03T17:26:24.579822",
          "exception": false,
          "start_time": "2023-09-03T17:26:24.572595",
          "status": "completed"
        },
        "tags": []
      },
      "source": [
        "sometimes it's useful to get the required circuit model names to be able to create the circuit:"
      ]
    },
    {
      "cell_type": "code",
      "execution_count": 22,
      "id": "99bb5c8f-8094-426d-a5d6-ceb73d80f706",
      "metadata": {
        "execution": {
          "iopub.execute_input": "2023-09-03T17:26:24.594510Z",
          "iopub.status.busy": "2023-09-03T17:26:24.593986Z",
          "iopub.status.idle": "2023-09-03T17:26:24.610887Z",
          "shell.execute_reply": "2023-09-03T17:26:24.610153Z"
        },
        "papermill": {
          "duration": 0.027024,
          "end_time": "2023-09-03T17:26:24.613260",
          "exception": false,
          "start_time": "2023-09-03T17:26:24.586236",
          "status": "completed"
        },
        "tags": []
      },
      "outputs": [
        {
          "data": {
            "text/plain": [
              "['mzi_delta_length10', 'mzi_delta_length20']"
            ]
          },
          "execution_count": 22,
          "metadata": {},
          "output_type": "execute_result"
        }
      ],
      "source": [
        "sax.get_required_circuit_models(recnet, models)"
      ]
    }
  ],
  "metadata": {
    "kernelspec": {
      "display_name": "sax",
      "language": "python",
      "name": "sax"
    },
    "language_info": {
      "codemirror_mode": {
        "name": "ipython",
        "version": 3
      },
      "file_extension": ".py",
      "mimetype": "text/x-python",
      "name": "python",
      "nbconvert_exporter": "python",
      "pygments_lexer": "ipython3",
      "version": "3.10.12"
    },
    "papermill": {
      "default_parameters": {},
      "duration": 10.687893,
      "end_time": "2023-09-03T17:26:25.238580",
      "environment_variables": {},
      "exception": null,
      "input_path": "./internals/02_circuit.ipynb",
      "output_path": "./internals/02_circuit.ipynb",
      "parameters": {},
      "start_time": "2023-09-03T17:26:14.550687",
      "version": "2.4.0"
    }
  },
  "nbformat": 4,
  "nbformat_minor": 5
}