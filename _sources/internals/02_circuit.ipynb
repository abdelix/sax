{
  "cells": [
    {
      "cell_type": "markdown",
      "id": "2c9c99fe",
      "metadata": {
        "papermill": {
          "duration": 0.004303,
          "end_time": "2024-02-20T02:32:13.455064",
          "exception": false,
          "start_time": "2024-02-20T02:32:13.450761",
          "status": "completed"
        },
        "tags": []
      },
      "source": [
        "# Circuit\n",
        "\n",
        "> SAX Circuits"
      ]
    },
    {
      "cell_type": "code",
      "execution_count": 1,
      "id": "666ac6a3-e9d7-424d-a85e-7c9b74e7ec58",
      "metadata": {
        "execution": {
          "iopub.execute_input": "2024-02-20T02:32:13.463336Z",
          "iopub.status.busy": "2024-02-20T02:32:13.462921Z",
          "iopub.status.idle": "2024-02-20T02:32:14.187341Z",
          "shell.execute_reply": "2024-02-20T02:32:14.186765Z"
        },
        "papermill": {
          "duration": 0.73017,
          "end_time": "2024-02-20T02:32:14.188843",
          "exception": false,
          "start_time": "2024-02-20T02:32:13.458673",
          "status": "completed"
        },
        "tags": []
      },
      "outputs": [],
      "source": [
        "from functools import partial\n",
        "\n",
        "import sax\n",
        "from sax.circuit import (\n",
        "    _create_dag,\n",
        "    _draw_dag,\n",
        "    _find_root,\n",
        "    _find_leaves,\n",
        "    _validate_models,\n",
        "    _flat_circuit,\n",
        ")"
      ]
    },
    {
      "cell_type": "markdown",
      "id": "45ad2306-1ead-4b8c-b91e-c02ce4569b3a",
      "metadata": {
        "papermill": {
          "duration": 0.003826,
          "end_time": "2024-02-20T02:32:14.196657",
          "exception": false,
          "start_time": "2024-02-20T02:32:14.192831",
          "status": "completed"
        },
        "tags": []
      },
      "source": [
        "Let's start by creating a simple recursive netlist with gdsfactory.\n",
        "\n",
        ":::{note}\n",
        "We are using gdsfactory to create our netlist because it allows us to see the circuit we want to simulate and because we're striving to have a compatible netlist implementation in SAX.\n",
        "\n",
        "However... gdsfactory is not a dependency of SAX. You can also define your circuits by hand (see [SAX Quick Start](../examples/01_quick_start.ipynb) or you can use another tool to programmatically construct your netlists.\n",
        ":::"
      ]
    },
    {
      "cell_type": "code",
      "execution_count": 2,
      "id": "804a1c9b-c02b-4af6-ba3d-858f76634a69",
      "metadata": {
        "execution": {
          "iopub.execute_input": "2024-02-20T02:32:14.205020Z",
          "iopub.status.busy": "2024-02-20T02:32:14.204587Z",
          "iopub.status.idle": "2024-02-20T02:32:15.595132Z",
          "shell.execute_reply": "2024-02-20T02:32:15.594495Z"
        },
        "papermill": {
          "duration": 1.396199,
          "end_time": "2024-02-20T02:32:15.596422",
          "exception": false,
          "start_time": "2024-02-20T02:32:14.200223",
          "status": "completed"
        },
        "tags": []
      },
      "outputs": [
        {
          "name": "stdout",
          "output_type": "stream",
          "text": [
            "\u001b[32m2024-02-20 02:32:15.022\u001b[0m | \u001b[1mINFO    \u001b[0m | \u001b[36mgdsfactory.pdk\u001b[0m:\u001b[36mactivate\u001b[0m:\u001b[36m309\u001b[0m - \u001b[1m'generic' PDK is now active\u001b[0m\n"
          ]
        },
        {
          "data": {
            "image/png": "[encoded data removed]",
            "text/plain": [
              "<Figure size 640x480 with 1 Axes>"
            ]
          },
          "metadata": {},
          "output_type": "display_data"
        }
      ],
      "source": [
        "import gdsfactory as gf\n",
        "from IPython.display import display\n",
        "from gdsfactory.components import mzi\n",
        "from gdsfactory.get_netlist import get_netlist_recursive, get_netlist, get_netlist_yaml\n",
        "from gdsfactory.quickplotter import quickplot\n",
        "\n",
        "\n",
        "@gf.cell\n",
        "def twomzi():\n",
        "    c = gf.Component()\n",
        "\n",
        "    # instances\n",
        "    mzi1 = mzi(delta_length=10)\n",
        "    mzi2 = mzi(delta_length=20)\n",
        "\n",
        "    # references\n",
        "    mzi1_ = c << mzi1\n",
        "    mzi2_ = c << mzi2\n",
        "\n",
        "    # connections\n",
        "    mzi2_.connect(\"o1\", mzi1_.ports[\"o2\"])\n",
        "\n",
        "    # ports\n",
        "    c.add_port(\"o1\", port=mzi1_.ports[\"o1\"])\n",
        "    c.add_port(\"o2\", port=mzi2_.ports[\"o2\"])\n",
        "    return c\n",
        "\n",
        "\n",
        "comp = twomzi()\n",
        "quickplot(comp)\n",
        "recnet = sax.RecursiveNetlist.parse_obj(get_netlist_recursive(comp))\n",
        "flatnet = recnet.__root__[\"mzi_delta_length10\"]"
      ]
    },
    {
      "cell_type": "markdown",
      "id": "2b2a38fb-c83e-4b71-b195-ecca485fb0a3",
      "metadata": {
        "papermill": {
          "duration": 0.003973,
          "end_time": "2024-02-20T02:32:15.604659",
          "exception": false,
          "start_time": "2024-02-20T02:32:15.600686",
          "status": "completed"
        },
        "tags": []
      },
      "source": [
        "To be able to model this device we'll need some SAX dummy models:"
      ]
    },
    {
      "cell_type": "code",
      "execution_count": 3,
      "id": "2035cd9e-c65e-45b6-bd83-4ad19e4630fa",
      "metadata": {
        "execution": {
          "iopub.execute_input": "2024-02-20T02:32:15.613509Z",
          "iopub.status.busy": "2024-02-20T02:32:15.612942Z",
          "iopub.status.idle": "2024-02-20T02:32:15.616292Z",
          "shell.execute_reply": "2024-02-20T02:32:15.615725Z"
        },
        "papermill": {
          "duration": 0.008973,
          "end_time": "2024-02-20T02:32:15.617423",
          "exception": false,
          "start_time": "2024-02-20T02:32:15.608450",
          "status": "completed"
        },
        "tags": []
      },
      "outputs": [],
      "source": [
        "def bend_euler(\n",
        "    angle=90.0,\n",
        "    p=0.5,\n",
        "    # cross_section=\"strip\",\n",
        "    # direction=\"ccw\",\n",
        "    # with_bbox=True,\n",
        "    # with_arc_floorplan=True,\n",
        "    # npoints=720,\n",
        "):\n",
        "    return sax.reciprocal({(\"o1\", \"o2\"): 1.0})"
      ]
    },
    {
      "cell_type": "code",
      "execution_count": 4,
      "id": "192c4288-20d1-4aca-b3d0-277db6bb5118",
      "metadata": {
        "execution": {
          "iopub.execute_input": "2024-02-20T02:32:15.626075Z",
          "iopub.status.busy": "2024-02-20T02:32:15.625840Z",
          "iopub.status.idle": "2024-02-20T02:32:15.629204Z",
          "shell.execute_reply": "2024-02-20T02:32:15.628707Z"
        },
        "papermill": {
          "duration": 0.009054,
          "end_time": "2024-02-20T02:32:15.630344",
          "exception": false,
          "start_time": "2024-02-20T02:32:15.621290",
          "status": "completed"
        },
        "tags": []
      },
      "outputs": [],
      "source": [
        "def mmi1x2(\n",
        "    width=0.5,\n",
        "    width_taper=1.0,\n",
        "    length_taper=10.0,\n",
        "    length_mmi=5.5,\n",
        "    width_mmi=2.5,\n",
        "    gap_mmi=0.25,\n",
        "    # cross_section= strip,\n",
        "    # taper= {function= taper},\n",
        "    # with_bbox= True,\n",
        "):\n",
        "    return sax.reciprocal(\n",
        "        {\n",
        "            (\"o1\", \"o2\"): 0.45**0.5,\n",
        "            (\"o1\", \"o3\"): 0.45**0.5,\n",
        "        }\n",
        "    )"
      ]
    },
    {
      "cell_type": "code",
      "execution_count": 5,
      "id": "861a5b4a-d8d9-4ea0-a733-39e213a28ead",
      "metadata": {
        "execution": {
          "iopub.execute_input": "2024-02-20T02:32:15.639487Z",
          "iopub.status.busy": "2024-02-20T02:32:15.639266Z",
          "iopub.status.idle": "2024-02-20T02:32:15.642825Z",
          "shell.execute_reply": "2024-02-20T02:32:15.642360Z"
        },
        "papermill": {
          "duration": 0.009653,
          "end_time": "2024-02-20T02:32:15.643916",
          "exception": false,
          "start_time": "2024-02-20T02:32:15.634263",
          "status": "completed"
        },
        "tags": []
      },
      "outputs": [],
      "source": [
        "def mmi2x2(\n",
        "    width=0.5,\n",
        "    width_taper=1.0,\n",
        "    length_taper=10.0,\n",
        "    length_mmi=5.5,\n",
        "    width_mmi=2.5,\n",
        "    gap_mmi=0.25,\n",
        "    # cross_section= strip,\n",
        "    # taper= {function= taper},\n",
        "    # with_bbox= True,\n",
        "):\n",
        "    return sax.reciprocal(\n",
        "        {\n",
        "            (\"o1\", \"o3\"): 0.45**0.5,\n",
        "            (\"o1\", \"o4\"): 1j * 0.45**0.5,\n",
        "            (\"o2\", \"o3\"): 1j * 0.45**0.5,\n",
        "            (\"o2\", \"o4\"): 0.45**0.5,\n",
        "        }\n",
        "    )"
      ]
    },
    {
      "cell_type": "code",
      "execution_count": 6,
      "id": "84046c8e-45a7-4aa0-bbdf-c82cd2d0e24e",
      "metadata": {
        "execution": {
          "iopub.execute_input": "2024-02-20T02:32:15.652490Z",
          "iopub.status.busy": "2024-02-20T02:32:15.652313Z",
          "iopub.status.idle": "2024-02-20T02:32:15.655248Z",
          "shell.execute_reply": "2024-02-20T02:32:15.654667Z"
        },
        "papermill": {
          "duration": 0.008449,
          "end_time": "2024-02-20T02:32:15.656320",
          "exception": false,
          "start_time": "2024-02-20T02:32:15.647871",
          "status": "completed"
        },
        "tags": []
      },
      "outputs": [],
      "source": [
        "def straight(\n",
        "    length=0.01,\n",
        "    # npoints=2,\n",
        "    # with_bbox=True,\n",
        "    # cross_section=...\n",
        "):\n",
        "    return sax.reciprocal({(\"o1\", \"o2\"): 1.0})"
      ]
    },
    {
      "cell_type": "markdown",
      "id": "8efe90e4-dfe6-40bd-aa0a-26c74738d688",
      "metadata": {
        "papermill": {
          "duration": 0.00386,
          "end_time": "2024-02-20T02:32:15.664178",
          "exception": false,
          "start_time": "2024-02-20T02:32:15.660318",
          "status": "completed"
        },
        "tags": []
      },
      "source": [
        "In SAX, we usually aggregate the available models in a models dictionary:"
      ]
    },
    {
      "cell_type": "code",
      "execution_count": 7,
      "id": "c1ac9132-0ee2-443b-98f4-f790234551b0",
      "metadata": {
        "execution": {
          "iopub.execute_input": "2024-02-20T02:32:15.672830Z",
          "iopub.status.busy": "2024-02-20T02:32:15.672507Z",
          "iopub.status.idle": "2024-02-20T02:32:15.675268Z",
          "shell.execute_reply": "2024-02-20T02:32:15.674710Z"
        },
        "papermill": {
          "duration": 0.008342,
          "end_time": "2024-02-20T02:32:15.676401",
          "exception": false,
          "start_time": "2024-02-20T02:32:15.668059",
          "status": "completed"
        },
        "tags": []
      },
      "outputs": [],
      "source": [
        "models = {\n",
        "    \"straight\": straight,\n",
        "    \"bend_euler\": bend_euler,\n",
        "    \"mmi1x2\": mmi1x2,\n",
        "}"
      ]
    },
    {
      "cell_type": "markdown",
      "id": "05c6a808-1fbf-446c-badd-03a36c76e438",
      "metadata": {
        "papermill": {
          "duration": 0.003936,
          "end_time": "2024-02-20T02:32:15.684272",
          "exception": false,
          "start_time": "2024-02-20T02:32:15.680336",
          "status": "completed"
        },
        "tags": []
      },
      "source": [
        "We can also create some dummy multimode models:"
      ]
    },
    {
      "cell_type": "code",
      "execution_count": 8,
      "id": "b749320e-5a86-4c05-9736-89936b0d31b3",
      "metadata": {
        "execution": {
          "iopub.execute_input": "2024-02-20T02:32:15.693055Z",
          "iopub.status.busy": "2024-02-20T02:32:15.692704Z",
          "iopub.status.idle": "2024-02-20T02:32:15.695751Z",
          "shell.execute_reply": "2024-02-20T02:32:15.695288Z"
        },
        "papermill": {
          "duration": 0.008679,
          "end_time": "2024-02-20T02:32:15.696915",
          "exception": false,
          "start_time": "2024-02-20T02:32:15.688236",
          "status": "completed"
        },
        "tags": []
      },
      "outputs": [],
      "source": [
        "def bend_euler_mm(\n",
        "    angle=90.0,\n",
        "    p=0.5,\n",
        "    # cross_section=\"strip\",\n",
        "    # direction=\"ccw\",\n",
        "    # with_bbox=True,\n",
        "    # with_arc_floorplan=True,\n",
        "    # npoints=720,\n",
        "):\n",
        "    return sax.reciprocal(\n",
        "        {\n",
        "            (\"o1@TE\", \"o2@TE\"): 0.9**0.5,\n",
        "            # ('o1@TE', 'o2@TM'): 0.01**0.5,\n",
        "            # ('o1@TM', 'o2@TE'): 0.01**0.5,\n",
        "            (\"o1@TM\", \"o2@TM\"): 0.8**0.5,\n",
        "        }\n",
        "    )"
      ]
    },
    {
      "cell_type": "code",
      "execution_count": 9,
      "id": "958054fb-31f0-4d2c-9304-fdb72af8f333",
      "metadata": {
        "execution": {
          "iopub.execute_input": "2024-02-20T02:32:15.706060Z",
          "iopub.status.busy": "2024-02-20T02:32:15.705711Z",
          "iopub.status.idle": "2024-02-20T02:32:15.709443Z",
          "shell.execute_reply": "2024-02-20T02:32:15.709002Z"
        },
        "papermill": {
          "duration": 0.009578,
          "end_time": "2024-02-20T02:32:15.710597",
          "exception": false,
          "start_time": "2024-02-20T02:32:15.701019",
          "status": "completed"
        },
        "tags": []
      },
      "outputs": [],
      "source": [
        "def mmi1x2_mm(\n",
        "    width=0.5,\n",
        "    width_taper=1.0,\n",
        "    length_taper=10.0,\n",
        "    length_mmi=5.5,\n",
        "    width_mmi=2.5,\n",
        "    gap_mmi=0.25,\n",
        "    # cross_section= strip,\n",
        "    # taper= {function= taper},\n",
        "    # with_bbox= True,\n",
        "):\n",
        "    return sax.reciprocal(\n",
        "        {\n",
        "            (\"o1@TE\", \"o2@TE\"): 0.45**0.5,\n",
        "            (\"o1@TE\", \"o3@TE\"): 0.45**0.5,\n",
        "            (\"o1@TM\", \"o2@TM\"): 0.41**0.5,\n",
        "            (\"o1@TM\", \"o3@TM\"): 0.41**0.5,\n",
        "            (\"o1@TE\", \"o2@TM\"): 0.01**0.5,\n",
        "            (\"o1@TM\", \"o2@TE\"): 0.01**0.5,\n",
        "            (\"o1@TE\", \"o3@TM\"): 0.02**0.5,\n",
        "            (\"o1@TM\", \"o3@TE\"): 0.02**0.5,\n",
        "        }\n",
        "    )"
      ]
    },
    {
      "cell_type": "code",
      "execution_count": 10,
      "id": "34bad3c0-34a4-4b35-a942-7f75a204c1d0",
      "metadata": {
        "execution": {
          "iopub.execute_input": "2024-02-20T02:32:15.719504Z",
          "iopub.status.busy": "2024-02-20T02:32:15.719185Z",
          "iopub.status.idle": "2024-02-20T02:32:15.722179Z",
          "shell.execute_reply": "2024-02-20T02:32:15.721708Z"
        },
        "papermill": {
          "duration": 0.00872,
          "end_time": "2024-02-20T02:32:15.723324",
          "exception": false,
          "start_time": "2024-02-20T02:32:15.714604",
          "status": "completed"
        },
        "tags": []
      },
      "outputs": [],
      "source": [
        "def straight_mm(\n",
        "    length=0.01,\n",
        "    # npoints=2,\n",
        "    # with_bbox=True,\n",
        "    # cross_section=...\n",
        "):\n",
        "    return sax.reciprocal(\n",
        "        {\n",
        "            (\"o1@TE\", \"o2@TE\"): 1.0,\n",
        "            (\"o1@TM\", \"o2@TM\"): 1.0,\n",
        "        }\n",
        "    )"
      ]
    },
    {
      "cell_type": "code",
      "execution_count": 11,
      "id": "b9476eb5-94e0-45c3-8e7e-a82fead8807b",
      "metadata": {
        "execution": {
          "iopub.execute_input": "2024-02-20T02:32:15.732242Z",
          "iopub.status.busy": "2024-02-20T02:32:15.731904Z",
          "iopub.status.idle": "2024-02-20T02:32:15.734489Z",
          "shell.execute_reply": "2024-02-20T02:32:15.733988Z"
        },
        "papermill": {
          "duration": 0.008225,
          "end_time": "2024-02-20T02:32:15.735596",
          "exception": false,
          "start_time": "2024-02-20T02:32:15.727371",
          "status": "completed"
        },
        "tags": []
      },
      "outputs": [],
      "source": [
        "models_mm = {\n",
        "    \"straight\": straight_mm,\n",
        "    \"bend_euler\": bend_euler_mm,\n",
        "    \"mmi1x2\": mmi1x2_mm,\n",
        "}"
      ]
    },
    {
      "cell_type": "markdown",
      "id": "3df7d9b6-acbb-4406-a3c8-8a9ad09db768",
      "metadata": {
        "papermill": {
          "duration": 0.004006,
          "end_time": "2024-02-20T02:32:15.743658",
          "exception": false,
          "start_time": "2024-02-20T02:32:15.739652",
          "status": "completed"
        },
        "tags": []
      },
      "source": [
        "We can now represent our recursive netlist model as a Directed Acyclic Graph:"
      ]
    },
    {
      "cell_type": "code",
      "execution_count": 12,
      "id": "b6d6e06e-b501-4d3e-8eb6-0d7117abf8e8",
      "metadata": {
        "execution": {
          "iopub.execute_input": "2024-02-20T02:32:15.752523Z",
          "iopub.status.busy": "2024-02-20T02:32:15.752145Z",
          "iopub.status.idle": "2024-02-20T02:32:15.870714Z",
          "shell.execute_reply": "2024-02-20T02:32:15.870123Z"
        },
        "papermill": {
          "duration": 0.124356,
          "end_time": "2024-02-20T02:32:15.871980",
          "exception": false,
          "start_time": "2024-02-20T02:32:15.747624",
          "status": "completed"
        },
        "tags": []
      },
      "outputs": [
        {
          "data": {
            "image/png": "[encoded data removed]",
            "text/plain": [
              "<Figure size 640x480 with 1 Axes>"
            ]
          },
          "metadata": {},
          "output_type": "display_data"
        }
      ],
      "source": [
        "dag = _create_dag(recnet, models)\n",
        "_draw_dag(dag)"
      ]
    },
    {
      "cell_type": "markdown",
      "id": "d081c64c-c42c-467e-885d-6e8db2cf64cc",
      "metadata": {
        "papermill": {
          "duration": 0.004396,
          "end_time": "2024-02-20T02:32:15.881183",
          "exception": false,
          "start_time": "2024-02-20T02:32:15.876787",
          "status": "completed"
        },
        "tags": []
      },
      "source": [
        "Note that the DAG depends on the models we supply. We could for example stub one of the sub-netlists by a pre-defined model:"
      ]
    },
    {
      "cell_type": "code",
      "execution_count": 13,
      "id": "ebb11e68-ecc3-4d00-9870-b6682e06c39f",
      "metadata": {
        "execution": {
          "iopub.execute_input": "2024-02-20T02:32:15.890743Z",
          "iopub.status.busy": "2024-02-20T02:32:15.890554Z",
          "iopub.status.idle": "2024-02-20T02:32:15.998601Z",
          "shell.execute_reply": "2024-02-20T02:32:15.997986Z"
        },
        "papermill": {
          "duration": 0.114352,
          "end_time": "2024-02-20T02:32:15.999815",
          "exception": false,
          "start_time": "2024-02-20T02:32:15.885463",
          "status": "completed"
        },
        "tags": []
      },
      "outputs": [
        {
          "data": {
            "image/png": "[encoded data removed]",
            "text/plain": [
              "<Figure size 640x480 with 1 Axes>"
            ]
          },
          "metadata": {},
          "output_type": "display_data"
        }
      ],
      "source": [
        "dag_ = _create_dag(recnet, {**models, \"mzi_delta_length10\": mmi2x2})\n",
        "_draw_dag(dag_, with_labels=True)"
      ]
    },
    {
      "cell_type": "markdown",
      "id": "b68c2f1a-f062-4f8a-89a5-8608524a5c06",
      "metadata": {
        "papermill": {
          "duration": 0.004553,
          "end_time": "2024-02-20T02:32:16.009093",
          "exception": false,
          "start_time": "2024-02-20T02:32:16.004540",
          "status": "completed"
        },
        "tags": []
      },
      "source": [
        "This is useful if we for example pre-calculated a certain model."
      ]
    },
    {
      "cell_type": "markdown",
      "id": "020381f6-872f-4aea-8822-ef1096553dc2",
      "metadata": {
        "papermill": {
          "duration": 0.004499,
          "end_time": "2024-02-20T02:32:16.018096",
          "exception": false,
          "start_time": "2024-02-20T02:32:16.013597",
          "status": "completed"
        },
        "tags": []
      },
      "source": [
        "We can easily find the root of the DAG:"
      ]
    },
    {
      "cell_type": "code",
      "execution_count": 14,
      "id": "11728146-6b54-48f2-acac-c8a5fa4e3b0f",
      "metadata": {
        "execution": {
          "iopub.execute_input": "2024-02-20T02:32:16.028557Z",
          "iopub.status.busy": "2024-02-20T02:32:16.028184Z",
          "iopub.status.idle": "2024-02-20T02:32:16.031911Z",
          "shell.execute_reply": "2024-02-20T02:32:16.031368Z"
        },
        "papermill": {
          "duration": 0.010302,
          "end_time": "2024-02-20T02:32:16.033094",
          "exception": false,
          "start_time": "2024-02-20T02:32:16.022792",
          "status": "completed"
        },
        "tags": []
      },
      "outputs": [
        {
          "data": {
            "text/plain": [
              "['twomzi']"
            ]
          },
          "execution_count": 14,
          "metadata": {},
          "output_type": "execute_result"
        }
      ],
      "source": [
        "_find_root(dag)"
      ]
    },
    {
      "cell_type": "markdown",
      "id": "4e8065d2-19c8-444a-b1c2-ea3c62f90e0a",
      "metadata": {
        "papermill": {
          "duration": 0.004759,
          "end_time": "2024-02-20T02:32:16.042550",
          "exception": false,
          "start_time": "2024-02-20T02:32:16.037791",
          "status": "completed"
        },
        "tags": []
      },
      "source": [
        "Similarly we can find the leaves:"
      ]
    },
    {
      "cell_type": "code",
      "execution_count": 15,
      "id": "7fa9afff-26b5-44cb-90bf-a32ef5e95bf5",
      "metadata": {
        "execution": {
          "iopub.execute_input": "2024-02-20T02:32:16.070345Z",
          "iopub.status.busy": "2024-02-20T02:32:16.069816Z",
          "iopub.status.idle": "2024-02-20T02:32:16.073917Z",
          "shell.execute_reply": "2024-02-20T02:32:16.073361Z"
        },
        "papermill": {
          "duration": 0.02791,
          "end_time": "2024-02-20T02:32:16.075134",
          "exception": false,
          "start_time": "2024-02-20T02:32:16.047224",
          "status": "completed"
        },
        "tags": []
      },
      "outputs": [
        {
          "data": {
            "text/plain": [
              "['bend_euler', 'mmi1x2', 'straight']"
            ]
          },
          "execution_count": 15,
          "metadata": {},
          "output_type": "execute_result"
        }
      ],
      "source": [
        "_find_leaves(dag)"
      ]
    },
    {
      "cell_type": "markdown",
      "id": "59fb221d-951d-44df-a5d9-487a8b4dc4f8",
      "metadata": {
        "papermill": {
          "duration": 0.004738,
          "end_time": "2024-02-20T02:32:16.084718",
          "exception": false,
          "start_time": "2024-02-20T02:32:16.079980",
          "status": "completed"
        },
        "tags": []
      },
      "source": [
        "To be able to simulate the circuit, we need to supply a model for each of the leaves in the dependency DAG. Let's write a validator that checks this"
      ]
    },
    {
      "cell_type": "code",
      "execution_count": 16,
      "id": "a97dbe93-a53f-4525-b721-2f329692cdc9",
      "metadata": {
        "execution": {
          "iopub.execute_input": "2024-02-20T02:32:16.095477Z",
          "iopub.status.busy": "2024-02-20T02:32:16.095088Z",
          "iopub.status.idle": "2024-02-20T02:32:16.097684Z",
          "shell.execute_reply": "2024-02-20T02:32:16.097236Z"
        },
        "papermill": {
          "duration": 0.009202,
          "end_time": "2024-02-20T02:32:16.098826",
          "exception": false,
          "start_time": "2024-02-20T02:32:16.089624",
          "status": "completed"
        },
        "tags": []
      },
      "outputs": [],
      "source": [
        "models = _validate_models(models, dag)"
      ]
    },
    {
      "cell_type": "markdown",
      "id": "e9f30a86-aa00-4f51-8b93-3440edc0b46b",
      "metadata": {
        "papermill": {
          "duration": 0.004734,
          "end_time": "2024-02-20T02:32:16.108381",
          "exception": false,
          "start_time": "2024-02-20T02:32:16.103647",
          "status": "completed"
        },
        "tags": []
      },
      "source": [
        "We can now dow a bottom-up simulation. Since at the bottom of the DAG, our circuit is always flat (i.e. not hierarchical) we can implement a minimal `_flat_circuit` definition, which only needs to work on a flat (non-hierarchical circuit):"
      ]
    },
    {
      "cell_type": "code",
      "execution_count": 17,
      "id": "1f415c32-70e4-4b40-a9e2-051fc187cbb9",
      "metadata": {
        "execution": {
          "iopub.execute_input": "2024-02-20T02:32:16.118733Z",
          "iopub.status.busy": "2024-02-20T02:32:16.118553Z",
          "iopub.status.idle": "2024-02-20T02:32:16.921515Z",
          "shell.execute_reply": "2024-02-20T02:32:16.920957Z"
        },
        "papermill": {
          "duration": 0.809598,
          "end_time": "2024-02-20T02:32:16.922763",
          "exception": false,
          "start_time": "2024-02-20T02:32:16.113165",
          "status": "completed"
        },
        "tags": []
      },
      "outputs": [
        {
          "data": {
            "text/plain": [
              "(Array([[0. +0.j, 0.9+0.j],\n",
              "        [0.9+0.j, 0. +0.j]], dtype=complex128),\n",
              " {'o1': 0, 'o2': 1})"
            ]
          },
          "execution_count": 17,
          "metadata": {},
          "output_type": "execute_result"
        }
      ],
      "source": [
        "flatnet = recnet.__root__[\"mzi_delta_length10\"]\n",
        "single_mzi = _flat_circuit(\n",
        "    flatnet.instances,\n",
        "    flatnet.connections,\n",
        "    flatnet.ports,\n",
        "    models,\n",
        "    \"default\",\n",
        ")\n",
        "single_mzi()"
      ]
    },
    {
      "cell_type": "markdown",
      "id": "c4f3375c-baa3-433f-924a-eff50557bf9f",
      "metadata": {
        "papermill": {
          "duration": 0.005158,
          "end_time": "2024-02-20T02:32:16.933301",
          "exception": false,
          "start_time": "2024-02-20T02:32:16.928143",
          "status": "completed"
        },
        "tags": []
      },
      "source": [
        "The resulting circuit is just another SAX model (i.e. a python function) returing an SType:"
      ]
    },
    {
      "cell_type": "code",
      "execution_count": 18,
      "id": "058740c4-439b-4b00-91e7-15e3e7b6679c",
      "metadata": {
        "execution": {
          "iopub.execute_input": "2024-02-20T02:32:16.944298Z",
          "iopub.status.busy": "2024-02-20T02:32:16.943923Z",
          "iopub.status.idle": "2024-02-20T02:32:16.978856Z",
          "shell.execute_reply": "2024-02-20T02:32:16.978196Z"
        },
        "papermill": {
          "duration": 0.041965,
          "end_time": "2024-02-20T02:32:16.980280",
          "exception": false,
          "start_time": "2024-02-20T02:32:16.938315",
          "status": "completed"
        },
        "tags": []
      },
      "outputs": [],
      "source": [
        "?single_mzi"
      ]
    },
    {
      "cell_type": "markdown",
      "id": "2b2bbe9f-29ac-413a-b0a4-6c51da8689cb",
      "metadata": {
        "papermill": {
          "duration": 0.004913,
          "end_time": "2024-02-20T02:32:16.990368",
          "exception": false,
          "start_time": "2024-02-20T02:32:16.985455",
          "status": "completed"
        },
        "tags": []
      },
      "source": [
        "Let's 'execute' the circuit:"
      ]
    },
    {
      "cell_type": "markdown",
      "id": "42a86f56-ab16-4c04-8738-2480ad378008",
      "metadata": {
        "papermill": {
          "duration": 0.004875,
          "end_time": "2024-02-20T02:32:17.000127",
          "exception": false,
          "start_time": "2024-02-20T02:32:16.995252",
          "status": "completed"
        },
        "tags": []
      },
      "source": [
        "Note that we can also supply multimode models:"
      ]
    },
    {
      "cell_type": "code",
      "execution_count": 19,
      "id": "87bc9f40-e97c-4505-8362-311ce5770077",
      "metadata": {
        "execution": {
          "iopub.execute_input": "2024-02-20T02:32:17.010967Z",
          "iopub.status.busy": "2024-02-20T02:32:17.010600Z",
          "iopub.status.idle": "2024-02-20T02:32:17.734560Z",
          "shell.execute_reply": "2024-02-20T02:32:17.733912Z"
        },
        "papermill": {
          "duration": 0.73081,
          "end_time": "2024-02-20T02:32:17.735762",
          "exception": false,
          "start_time": "2024-02-20T02:32:17.004952",
          "status": "completed"
        },
        "tags": []
      },
      "outputs": [
        {
          "data": {
            "text/plain": [
              "(Array([[0.        +0.j, 0.        +0.j, 0.7482    +0.j, 0.23011426+0.j],\n",
              "        [0.        +0.j, 0.        +0.j, 0.23011426+0.j, 0.5491    +0.j],\n",
              "        [0.7482    +0.j, 0.23011426+0.j, 0.        +0.j, 0.        +0.j],\n",
              "        [0.23011426+0.j, 0.5491    +0.j, 0.        +0.j, 0.        +0.j]],      dtype=complex128),\n",
              " {'o1@TE': 0, 'o1@TM': 1, 'o2@TE': 2, 'o2@TM': 3})"
            ]
          },
          "execution_count": 19,
          "metadata": {},
          "output_type": "execute_result"
        }
      ],
      "source": [
        "flatnet = recnet.__root__[\"mzi_delta_length10\"]\n",
        "single_mzi = _flat_circuit(\n",
        "    flatnet.instances,\n",
        "    flatnet.connections,\n",
        "    flatnet.ports,\n",
        "    models_mm,\n",
        "    \"default\",\n",
        ")\n",
        "single_mzi()"
      ]
    },
    {
      "cell_type": "markdown",
      "id": "c852f384-c830-47f5-aa75-ee274abbcc35",
      "metadata": {
        "papermill": {
          "duration": 0.005353,
          "end_time": "2024-02-20T02:32:17.746604",
          "exception": false,
          "start_time": "2024-02-20T02:32:17.741251",
          "status": "completed"
        },
        "tags": []
      },
      "source": [
        "Now that we can handle flat circuits the extension to hierarchical circuits is not so difficult:"
      ]
    },
    {
      "cell_type": "markdown",
      "id": "10321c72-bc74-453b-a87a-d5f89295217b",
      "metadata": {
        "papermill": {
          "duration": 0.004974,
          "end_time": "2024-02-20T02:32:17.756592",
          "exception": false,
          "start_time": "2024-02-20T02:32:17.751618",
          "status": "completed"
        },
        "tags": []
      },
      "source": [
        "single mode simulation:"
      ]
    },
    {
      "cell_type": "code",
      "execution_count": 20,
      "id": "6d133b49-6f26-4e01-bcd9-7ca1b76dc55d",
      "metadata": {
        "execution": {
          "iopub.execute_input": "2024-02-20T02:32:17.767674Z",
          "iopub.status.busy": "2024-02-20T02:32:17.767418Z",
          "iopub.status.idle": "2024-02-20T02:32:18.388497Z",
          "shell.execute_reply": "2024-02-20T02:32:18.387900Z"
        },
        "papermill": {
          "duration": 0.628142,
          "end_time": "2024-02-20T02:32:18.389682",
          "exception": false,
          "start_time": "2024-02-20T02:32:17.761540",
          "status": "completed"
        },
        "tags": []
      },
      "outputs": [
        {
          "name": "stdout",
          "output_type": "stream",
          "text": [
            "\u001b[32m2024-02-20 02:32:17.942\u001b[0m | \u001b[33m\u001b[1mWARNING \u001b[0m | \u001b[36mgdsfactory.config\u001b[0m:\u001b[36mshowwarning\u001b[0m:\u001b[36m281\u001b[0m - \u001b[33m\u001b[1mNone encountered in jnp.array(); this is currently treated as NaN. In the future this will result in an error.\u001b[0m\n"
          ]
        },
        {
          "name": "stdout",
          "output_type": "stream",
          "text": [
            "\u001b[32m2024-02-20 02:32:17.945\u001b[0m | \u001b[33m\u001b[1mWARNING \u001b[0m | \u001b[36mgdsfactory.config\u001b[0m:\u001b[36mshowwarning\u001b[0m:\u001b[36m281\u001b[0m - \u001b[33m\u001b[1mNone encountered in jnp.array(); this is currently treated as NaN. In the future this will result in an error.\u001b[0m\n"
          ]
        },
        {
          "name": "stdout",
          "output_type": "stream",
          "text": [
            "\u001b[32m2024-02-20 02:32:17.949\u001b[0m | \u001b[33m\u001b[1mWARNING \u001b[0m | \u001b[36mgdsfactory.config\u001b[0m:\u001b[36mshowwarning\u001b[0m:\u001b[36m281\u001b[0m - \u001b[33m\u001b[1mNone encountered in jnp.array(); this is currently treated as NaN. In the future this will result in an error.\u001b[0m\n"
          ]
        },
        {
          "name": "stdout",
          "output_type": "stream",
          "text": [
            "\u001b[32m2024-02-20 02:32:17.950\u001b[0m | \u001b[33m\u001b[1mWARNING \u001b[0m | \u001b[36mgdsfactory.config\u001b[0m:\u001b[36mshowwarning\u001b[0m:\u001b[36m281\u001b[0m - \u001b[33m\u001b[1mNone encountered in jnp.array(); this is currently treated as NaN. In the future this will result in an error.\u001b[0m\n"
          ]
        },
        {
          "name": "stderr",
          "output_type": "stream",
          "text": [
            "/opt/conda/lib/python3.10/site-packages/jax/_src/numpy/lax_numpy.py:2217: FutureWarning: None encountered in jnp.array(); this is currently treated as NaN. In the future this will result in an error.\n",
            "  return array(a, dtype=dtype, copy=bool(copy), order=order)  # type: ignore\n",
            "/opt/conda/lib/python3.10/site-packages/jax/_src/numpy/lax_numpy.py:2217: FutureWarning: None encountered in jnp.array(); this is currently treated as NaN. In the future this will result in an error.\n",
            "  return array(a, dtype=dtype, copy=bool(copy), order=order)  # type: ignore\n",
            "/opt/conda/lib/python3.10/site-packages/jax/_src/numpy/lax_numpy.py:2217: FutureWarning: None encountered in jnp.array(); this is currently treated as NaN. In the future this will result in an error.\n",
            "  return array(a, dtype=dtype, copy=bool(copy), order=order)  # type: ignore\n",
            "/opt/conda/lib/python3.10/site-packages/jax/_src/numpy/lax_numpy.py:2217: FutureWarning: None encountered in jnp.array(); this is currently treated as NaN. In the future this will result in an error.\n",
            "  return array(a, dtype=dtype, copy=bool(copy), order=order)  # type: ignore\n"
          ]
        },
        {
          "data": {
            "text/plain": [
              "{('o1', 'o1'): Array(0.+0.j, dtype=complex128),\n",
              " ('o1', 'o2'): Array(0.81+0.j, dtype=complex128),\n",
              " ('o2', 'o1'): Array(0.81+0.j, dtype=complex128),\n",
              " ('o2', 'o2'): Array(0.+0.j, dtype=complex128)}"
            ]
          },
          "execution_count": 20,
          "metadata": {},
          "output_type": "execute_result"
        }
      ],
      "source": [
        "double_mzi, info = sax.circuit(recnet, models, backend=\"default\")\n",
        "double_mzi()"
      ]
    },
    {
      "cell_type": "markdown",
      "id": "3f332edd-909e-452b-b7bd-3a68719a5c20",
      "metadata": {
        "papermill": {
          "duration": 0.005488,
          "end_time": "2024-02-20T02:32:18.400792",
          "exception": false,
          "start_time": "2024-02-20T02:32:18.395304",
          "status": "completed"
        },
        "tags": []
      },
      "source": [
        "multi mode simulation:"
      ]
    },
    {
      "cell_type": "code",
      "execution_count": 21,
      "id": "277ec069-4b46-4d5e-9580-1dd0c28cd9a6",
      "metadata": {
        "execution": {
          "iopub.execute_input": "2024-02-20T02:32:18.412520Z",
          "iopub.status.busy": "2024-02-20T02:32:18.412022Z",
          "iopub.status.idle": "2024-02-20T02:32:19.091703Z",
          "shell.execute_reply": "2024-02-20T02:32:19.091114Z"
        },
        "papermill": {
          "duration": 0.687001,
          "end_time": "2024-02-20T02:32:19.092981",
          "exception": false,
          "start_time": "2024-02-20T02:32:18.405980",
          "status": "completed"
        },
        "tags": []
      },
      "outputs": [
        {
          "name": "stdout",
          "output_type": "stream",
          "text": [
            "\u001b[32m2024-02-20 02:32:18.557\u001b[0m | \u001b[33m\u001b[1mWARNING \u001b[0m | \u001b[36mgdsfactory.config\u001b[0m:\u001b[36mshowwarning\u001b[0m:\u001b[36m281\u001b[0m - \u001b[33m\u001b[1mNone encountered in jnp.array(); this is currently treated as NaN. In the future this will result in an error.\u001b[0m\n"
          ]
        },
        {
          "name": "stdout",
          "output_type": "stream",
          "text": [
            "\u001b[32m2024-02-20 02:32:18.559\u001b[0m | \u001b[33m\u001b[1mWARNING \u001b[0m | \u001b[36mgdsfactory.config\u001b[0m:\u001b[36mshowwarning\u001b[0m:\u001b[36m281\u001b[0m - \u001b[33m\u001b[1mNone encountered in jnp.array(); this is currently treated as NaN. In the future this will result in an error.\u001b[0m\n"
          ]
        },
        {
          "name": "stdout",
          "output_type": "stream",
          "text": [
            "\u001b[32m2024-02-20 02:32:18.563\u001b[0m | \u001b[33m\u001b[1mWARNING \u001b[0m | \u001b[36mgdsfactory.config\u001b[0m:\u001b[36mshowwarning\u001b[0m:\u001b[36m281\u001b[0m - \u001b[33m\u001b[1mNone encountered in jnp.array(); this is currently treated as NaN. In the future this will result in an error.\u001b[0m\n"
          ]
        },
        {
          "name": "stdout",
          "output_type": "stream",
          "text": [
            "\u001b[32m2024-02-20 02:32:18.565\u001b[0m | \u001b[33m\u001b[1mWARNING \u001b[0m | \u001b[36mgdsfactory.config\u001b[0m:\u001b[36mshowwarning\u001b[0m:\u001b[36m281\u001b[0m - \u001b[33m\u001b[1mNone encountered in jnp.array(); this is currently treated as NaN. In the future this will result in an error.\u001b[0m\n"
          ]
        },
        {
          "name": "stderr",
          "output_type": "stream",
          "text": [
            "/opt/conda/lib/python3.10/site-packages/jax/_src/numpy/lax_numpy.py:2217: FutureWarning: None encountered in jnp.array(); this is currently treated as NaN. In the future this will result in an error.\n",
            "  return array(a, dtype=dtype, copy=bool(copy), order=order)  # type: ignore\n",
            "/opt/conda/lib/python3.10/site-packages/jax/_src/numpy/lax_numpy.py:2217: FutureWarning: None encountered in jnp.array(); this is currently treated as NaN. In the future this will result in an error.\n",
            "  return array(a, dtype=dtype, copy=bool(copy), order=order)  # type: ignore\n",
            "/opt/conda/lib/python3.10/site-packages/jax/_src/numpy/lax_numpy.py:2217: FutureWarning: None encountered in jnp.array(); this is currently treated as NaN. In the future this will result in an error.\n",
            "  return array(a, dtype=dtype, copy=bool(copy), order=order)  # type: ignore\n",
            "/opt/conda/lib/python3.10/site-packages/jax/_src/numpy/lax_numpy.py:2217: FutureWarning: None encountered in jnp.array(); this is currently treated as NaN. In the future this will result in an error.\n",
            "  return array(a, dtype=dtype, copy=bool(copy), order=order)  # type: ignore\n"
          ]
        },
        {
          "data": {
            "text/plain": [
              "{('o1@TE', 'o1@TE'): Array(0.+0.j, dtype=complex128),\n",
              " ('o1@TE', 'o1@TM'): Array(0.+0.j, dtype=complex128),\n",
              " ('o1@TE', 'o2@TE'): Array(0.61275581+0.j, dtype=complex128),\n",
              " ('o1@TE', 'o2@TM'): Array(0.29852723+0.j, dtype=complex128),\n",
              " ('o1@TM', 'o1@TE'): Array(0.+0.j, dtype=complex128),\n",
              " ('o1@TM', 'o1@TM'): Array(0.+0.j, dtype=complex128),\n",
              " ('o1@TM', 'o2@TE'): Array(0.29852723+0.j, dtype=complex128),\n",
              " ('o1@TM', 'o2@TM'): Array(0.35446338+0.j, dtype=complex128),\n",
              " ('o2@TE', 'o1@TE'): Array(0.61275581+0.j, dtype=complex128),\n",
              " ('o2@TE', 'o1@TM'): Array(0.29852723+0.j, dtype=complex128),\n",
              " ('o2@TE', 'o2@TE'): Array(0.+0.j, dtype=complex128),\n",
              " ('o2@TE', 'o2@TM'): Array(0.+0.j, dtype=complex128),\n",
              " ('o2@TM', 'o1@TE'): Array(0.29852723+0.j, dtype=complex128),\n",
              " ('o2@TM', 'o1@TM'): Array(0.35446338+0.j, dtype=complex128),\n",
              " ('o2@TM', 'o2@TE'): Array(0.+0.j, dtype=complex128),\n",
              " ('o2@TM', 'o2@TM'): Array(0.+0.j, dtype=complex128)}"
            ]
          },
          "execution_count": 21,
          "metadata": {},
          "output_type": "execute_result"
        }
      ],
      "source": [
        "double_mzi, info = sax.circuit(\n",
        "    recnet, models_mm, backend=\"default\", return_type=\"sdict\"\n",
        ")\n",
        "double_mzi()"
      ]
    },
    {
      "cell_type": "markdown",
      "id": "e621a2e3-6918-4cfb-8a55-4cc754356020",
      "metadata": {
        "papermill": {
          "duration": 0.005892,
          "end_time": "2024-02-20T02:32:19.104940",
          "exception": false,
          "start_time": "2024-02-20T02:32:19.099048",
          "status": "completed"
        },
        "tags": []
      },
      "source": [
        "sometimes it's useful to get the required circuit model names to be able to create the circuit:"
      ]
    },
    {
      "cell_type": "code",
      "execution_count": 22,
      "id": "99bb5c8f-8094-426d-a5d6-ceb73d80f706",
      "metadata": {
        "execution": {
          "iopub.execute_input": "2024-02-20T02:32:19.117026Z",
          "iopub.status.busy": "2024-02-20T02:32:19.116812Z",
          "iopub.status.idle": "2024-02-20T02:32:19.128573Z",
          "shell.execute_reply": "2024-02-20T02:32:19.127979Z"
        },
        "papermill": {
          "duration": 0.019131,
          "end_time": "2024-02-20T02:32:19.129635",
          "exception": false,
          "start_time": "2024-02-20T02:32:19.110504",
          "status": "completed"
        },
        "tags": []
      },
      "outputs": [
        {
          "data": {
            "text/plain": [
              "['mzi_delta_length10', 'mzi_delta_length20']"
            ]
          },
          "execution_count": 22,
          "metadata": {},
          "output_type": "execute_result"
        }
      ],
      "source": [
        "sax.get_required_circuit_models(recnet, models)"
      ]
    }
  ],
  "metadata": {
    "kernelspec": {
      "display_name": "Python 3 (ipykernel)",
      "language": "python",
      "name": "python3"
    },
    "language_info": {
      "codemirror_mode": {
        "name": "ipython",
        "version": 3
      },
      "file_extension": ".py",
      "mimetype": "text/x-python",
      "name": "python",
      "nbconvert_exporter": "python",
      "pygments_lexer": "ipython3",
      "version": "3.10.13"
    },
    "papermill": {
      "default_parameters": {},
      "duration": 7.160661,
      "end_time": "2024-02-20T02:32:19.751673",
      "environment_variables": {},
      "exception": null,
      "input_path": "./internals/02_circuit.ipynb",
      "output_path": "./internals/02_circuit.ipynb",
      "parameters": {},
      "start_time": "2024-02-20T02:32:12.591012",
      "version": "2.5.0"
    }
  },
  "nbformat": 4,
  "nbformat_minor": 5
}