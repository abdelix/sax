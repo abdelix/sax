{
  "cells": [
    {
      "cell_type": "markdown",
      "id": "2c9c99fe",
      "metadata": {
        "papermill": {
          "duration": 0.004471,
          "end_time": "2023-11-29T17:00:40.803159",
          "exception": false,
          "start_time": "2023-11-29T17:00:40.798688",
          "status": "completed"
        },
        "tags": []
      },
      "source": [
        "# Circuit\n",
        "\n",
        "> SAX Circuits"
      ]
    },
    {
      "cell_type": "code",
      "execution_count": 1,
      "id": "666ac6a3-e9d7-424d-a85e-7c9b74e7ec58",
      "metadata": {
        "execution": {
          "iopub.execute_input": "2023-11-29T17:00:40.811709Z",
          "iopub.status.busy": "2023-11-29T17:00:40.811457Z",
          "iopub.status.idle": "2023-11-29T17:00:41.497509Z",
          "shell.execute_reply": "2023-11-29T17:00:41.496948Z"
        },
        "papermill": {
          "duration": 0.692098,
          "end_time": "2023-11-29T17:00:41.498983",
          "exception": false,
          "start_time": "2023-11-29T17:00:40.806885",
          "status": "completed"
        },
        "tags": []
      },
      "outputs": [],
      "source": [
        "from functools import partial\n",
        "\n",
        "import sax\n",
        "from sax.circuit import _create_dag, _draw_dag, _find_root, _find_leaves, _validate_models, _flat_circuit"
      ]
    },
    {
      "cell_type": "markdown",
      "id": "45ad2306-1ead-4b8c-b91e-c02ce4569b3a",
      "metadata": {
        "papermill": {
          "duration": 0.003763,
          "end_time": "2023-11-29T17:00:41.509011",
          "exception": false,
          "start_time": "2023-11-29T17:00:41.505248",
          "status": "completed"
        },
        "tags": []
      },
      "source": [
        "Let's start by creating a simple recursive netlist with gdsfactory.\n",
        "\n",
        ":::{note}\n",
        "We are using gdsfactory to create our netlist because it allows us to see the circuit we want to simulate and because we're striving to have a compatible netlist implementation in SAX.\n",
        "\n",
        "However... gdsfactory is not a dependency of SAX. You can also define your circuits by hand (see [SAX Quick Start](../examples/01_quick_start.ipynb) or you can use another tool to programmatically construct your netlists.\n",
        ":::"
      ]
    },
    {
      "cell_type": "code",
      "execution_count": 2,
      "id": "804a1c9b-c02b-4af6-ba3d-858f76634a69",
      "metadata": {
        "execution": {
          "iopub.execute_input": "2023-11-29T17:00:41.517280Z",
          "iopub.status.busy": "2023-11-29T17:00:41.516791Z",
          "iopub.status.idle": "2023-11-29T17:00:42.627877Z",
          "shell.execute_reply": "2023-11-29T17:00:42.627321Z"
        },
        "papermill": {
          "duration": 1.116715,
          "end_time": "2023-11-29T17:00:42.629234",
          "exception": false,
          "start_time": "2023-11-29T17:00:41.512519",
          "status": "completed"
        },
        "tags": []
      },
      "outputs": [
        {
          "name": "stderr",
          "output_type": "stream",
          "text": [
            "\u001b[32m2023-11-29 17:00:41.857\u001b[0m | \u001b[33m\u001b[1mWARNING \u001b[0m | \u001b[36mgdsfactory.pdk\u001b[0m:\u001b[36mget_active_pdk\u001b[0m:\u001b[36m734\u001b[0m - \u001b[33m\u001b[1mNo active PDK. Activating generic PDK.\n",
            "\u001b[0m\n"
          ]
        },
        {
          "name": "stderr",
          "output_type": "stream",
          "text": [
            "\u001b[32m2023-11-29 17:00:42.029\u001b[0m | \u001b[1mINFO    \u001b[0m | \u001b[36mgdsfactory.technology.layer_views\u001b[0m:\u001b[36m__init__\u001b[0m:\u001b[36m790\u001b[0m - \u001b[1mImporting LayerViews from YAML file: '/opt/conda/lib/python3.10/site-packages/gdsfactory/generic_tech/layer_views.yaml'.\u001b[0m\n"
          ]
        },
        {
          "name": "stderr",
          "output_type": "stream",
          "text": [
            "\u001b[32m2023-11-29 17:00:42.030\u001b[0m | \u001b[1mINFO    \u001b[0m | \u001b[36mgdsfactory.pdk\u001b[0m:\u001b[36mactivate\u001b[0m:\u001b[36m307\u001b[0m - \u001b[1m'generic' PDK is now active\u001b[0m\n"
          ]
        },
        {
          "data": {
            "image/png": "[encoded data removed]",
            "text/plain": [
              "<Figure size 640x480 with 1 Axes>"
            ]
          },
          "metadata": {},
          "output_type": "display_data"
        }
      ],
      "source": [
        "import gdsfactory as gf\n",
        "from IPython.display import display\n",
        "from gdsfactory.components import mzi\n",
        "from gdsfactory.get_netlist import get_netlist_recursive, get_netlist, get_netlist_yaml\n",
        "from gdsfactory.quickplotter import quickplot\n",
        "\n",
        "\n",
        "@gf.cell\n",
        "def twomzi():\n",
        "    c = gf.Component()\n",
        "\n",
        "    # instances\n",
        "    mzi1 = mzi(delta_length=10)\n",
        "    mzi2 = mzi(delta_length=20)\n",
        "\n",
        "    # references\n",
        "    mzi1_ = c << mzi1\n",
        "    mzi2_ = c << mzi2\n",
        "\n",
        "    # connections\n",
        "    mzi2_.connect(\"o1\", mzi1_.ports[\"o2\"])\n",
        "\n",
        "    # ports\n",
        "    c.add_port(\"o1\", port=mzi1_.ports[\"o1\"])\n",
        "    c.add_port(\"o2\", port=mzi2_.ports[\"o2\"])\n",
        "    return c\n",
        "\n",
        "\n",
        "comp = twomzi()\n",
        "quickplot(comp)\n",
        "recnet = sax.RecursiveNetlist.parse_obj(\n",
        "    get_netlist_recursive(\n",
        "        comp, get_netlist_func=partial(get_netlist, full_settings=True)\n",
        "    )\n",
        ")\n",
        "flatnet = recnet.__root__[\"mzi_delta_length10\"]"
      ]
    },
    {
      "cell_type": "markdown",
      "id": "2b2a38fb-c83e-4b71-b195-ecca485fb0a3",
      "metadata": {
        "papermill": {
          "duration": 0.004244,
          "end_time": "2023-11-29T17:00:42.637960",
          "exception": false,
          "start_time": "2023-11-29T17:00:42.633716",
          "status": "completed"
        },
        "tags": []
      },
      "source": [
        "To be able to model this device we'll need some SAX dummy models:"
      ]
    },
    {
      "cell_type": "code",
      "execution_count": 3,
      "id": "2035cd9e-c65e-45b6-bd83-4ad19e4630fa",
      "metadata": {
        "execution": {
          "iopub.execute_input": "2023-11-29T17:00:42.647495Z",
          "iopub.status.busy": "2023-11-29T17:00:42.646916Z",
          "iopub.status.idle": "2023-11-29T17:00:42.650438Z",
          "shell.execute_reply": "2023-11-29T17:00:42.649913Z"
        },
        "papermill": {
          "duration": 0.009714,
          "end_time": "2023-11-29T17:00:42.651665",
          "exception": false,
          "start_time": "2023-11-29T17:00:42.641951",
          "status": "completed"
        },
        "tags": []
      },
      "outputs": [],
      "source": [
        "def bend_euler(\n",
        "    angle=90.0,\n",
        "    p=0.5,\n",
        "    # cross_section=\"strip\",\n",
        "    # direction=\"ccw\",\n",
        "    # with_bbox=True,\n",
        "    # with_arc_floorplan=True,\n",
        "    # npoints=720,\n",
        "):\n",
        "    return sax.reciprocal({\n",
        "        ('o1', 'o2'): 1.0\n",
        "    })"
      ]
    },
    {
      "cell_type": "code",
      "execution_count": 4,
      "id": "192c4288-20d1-4aca-b3d0-277db6bb5118",
      "metadata": {
        "execution": {
          "iopub.execute_input": "2023-11-29T17:00:42.660852Z",
          "iopub.status.busy": "2023-11-29T17:00:42.660453Z",
          "iopub.status.idle": "2023-11-29T17:00:42.663866Z",
          "shell.execute_reply": "2023-11-29T17:00:42.663313Z"
        },
        "papermill": {
          "duration": 0.009281,
          "end_time": "2023-11-29T17:00:42.665049",
          "exception": false,
          "start_time": "2023-11-29T17:00:42.655768",
          "status": "completed"
        },
        "tags": []
      },
      "outputs": [],
      "source": [
        "def mmi1x2(\n",
        "    width=0.5,\n",
        "    width_taper= 1.0,\n",
        "    length_taper= 10.0,\n",
        "    length_mmi= 5.5,\n",
        "    width_mmi= 2.5,\n",
        "    gap_mmi= 0.25,\n",
        "    # cross_section= strip,\n",
        "    # taper= {function= taper},\n",
        "    # with_bbox= True,\n",
        "):\n",
        "    return sax.reciprocal({\n",
        "        ('o1', 'o2'): 0.45**0.5,\n",
        "        ('o1', 'o3'): 0.45**0.5,\n",
        "    })"
      ]
    },
    {
      "cell_type": "code",
      "execution_count": 5,
      "id": "861a5b4a-d8d9-4ea0-a733-39e213a28ead",
      "metadata": {
        "execution": {
          "iopub.execute_input": "2023-11-29T17:00:42.674481Z",
          "iopub.status.busy": "2023-11-29T17:00:42.674074Z",
          "iopub.status.idle": "2023-11-29T17:00:42.677811Z",
          "shell.execute_reply": "2023-11-29T17:00:42.677271Z"
        },
        "papermill": {
          "duration": 0.009676,
          "end_time": "2023-11-29T17:00:42.678919",
          "exception": false,
          "start_time": "2023-11-29T17:00:42.669243",
          "status": "completed"
        },
        "tags": []
      },
      "outputs": [],
      "source": [
        "def mmi2x2(\n",
        "    width=0.5,\n",
        "    width_taper= 1.0,\n",
        "    length_taper= 10.0,\n",
        "    length_mmi= 5.5,\n",
        "    width_mmi= 2.5,\n",
        "    gap_mmi= 0.25,\n",
        "    # cross_section= strip,\n",
        "    # taper= {function= taper},\n",
        "    # with_bbox= True,\n",
        "):\n",
        "    return sax.reciprocal({\n",
        "        ('o1', 'o3'): 0.45**0.5,\n",
        "        ('o1', 'o4'): 1j * 0.45**0.5,\n",
        "        ('o2', 'o3'): 1j * 0.45**0.5,\n",
        "        ('o2', 'o4'): 0.45**0.5,\n",
        "    })"
      ]
    },
    {
      "cell_type": "code",
      "execution_count": 6,
      "id": "84046c8e-45a7-4aa0-bbdf-c82cd2d0e24e",
      "metadata": {
        "execution": {
          "iopub.execute_input": "2023-11-29T17:00:42.688376Z",
          "iopub.status.busy": "2023-11-29T17:00:42.687904Z",
          "iopub.status.idle": "2023-11-29T17:00:42.691103Z",
          "shell.execute_reply": "2023-11-29T17:00:42.690547Z"
        },
        "papermill": {
          "duration": 0.009081,
          "end_time": "2023-11-29T17:00:42.692214",
          "exception": false,
          "start_time": "2023-11-29T17:00:42.683133",
          "status": "completed"
        },
        "tags": []
      },
      "outputs": [],
      "source": [
        "def straight(\n",
        "    length=0.01,\n",
        "    #npoints=2,\n",
        "    #with_bbox=True,\n",
        "    #cross_section=...\n",
        "):\n",
        "    return sax.reciprocal({\n",
        "        ('o1', 'o2'): 1.0\n",
        "    })"
      ]
    },
    {
      "cell_type": "markdown",
      "id": "8efe90e4-dfe6-40bd-aa0a-26c74738d688",
      "metadata": {
        "papermill": {
          "duration": 0.004089,
          "end_time": "2023-11-29T17:00:42.700456",
          "exception": false,
          "start_time": "2023-11-29T17:00:42.696367",
          "status": "completed"
        },
        "tags": []
      },
      "source": [
        "In SAX, we usually aggregate the available models in a models dictionary:"
      ]
    },
    {
      "cell_type": "code",
      "execution_count": 7,
      "id": "c1ac9132-0ee2-443b-98f4-f790234551b0",
      "metadata": {
        "execution": {
          "iopub.execute_input": "2023-11-29T17:00:42.709900Z",
          "iopub.status.busy": "2023-11-29T17:00:42.709476Z",
          "iopub.status.idle": "2023-11-29T17:00:42.712593Z",
          "shell.execute_reply": "2023-11-29T17:00:42.712017Z"
        },
        "papermill": {
          "duration": 0.009274,
          "end_time": "2023-11-29T17:00:42.713803",
          "exception": false,
          "start_time": "2023-11-29T17:00:42.704529",
          "status": "completed"
        },
        "tags": []
      },
      "outputs": [],
      "source": [
        "models = {\n",
        "    'straight': straight,\n",
        "    'bend_euler': bend_euler,\n",
        "    'mmi1x2': mmi1x2,\n",
        "}"
      ]
    },
    {
      "cell_type": "markdown",
      "id": "05c6a808-1fbf-446c-badd-03a36c76e438",
      "metadata": {
        "papermill": {
          "duration": 0.004084,
          "end_time": "2023-11-29T17:00:42.722083",
          "exception": false,
          "start_time": "2023-11-29T17:00:42.717999",
          "status": "completed"
        },
        "tags": []
      },
      "source": [
        "We can also create some dummy multimode models:"
      ]
    },
    {
      "cell_type": "code",
      "execution_count": 8,
      "id": "b749320e-5a86-4c05-9736-89936b0d31b3",
      "metadata": {
        "execution": {
          "iopub.execute_input": "2023-11-29T17:00:42.731404Z",
          "iopub.status.busy": "2023-11-29T17:00:42.731009Z",
          "iopub.status.idle": "2023-11-29T17:00:42.734433Z",
          "shell.execute_reply": "2023-11-29T17:00:42.733929Z"
        },
        "papermill": {
          "duration": 0.009423,
          "end_time": "2023-11-29T17:00:42.735536",
          "exception": false,
          "start_time": "2023-11-29T17:00:42.726113",
          "status": "completed"
        },
        "tags": []
      },
      "outputs": [],
      "source": [
        "def bend_euler_mm(\n",
        "    angle=90.0,\n",
        "    p=0.5,\n",
        "    # cross_section=\"strip\",\n",
        "    # direction=\"ccw\",\n",
        "    # with_bbox=True,\n",
        "    # with_arc_floorplan=True,\n",
        "    # npoints=720,\n",
        "):\n",
        "    return sax.reciprocal({\n",
        "        ('o1@TE', 'o2@TE'): 0.9**0.5,\n",
        "        #('o1@TE', 'o2@TM'): 0.01**0.5,\n",
        "        #('o1@TM', 'o2@TE'): 0.01**0.5,\n",
        "        ('o1@TM', 'o2@TM'): 0.8**0.5,\n",
        "    })"
      ]
    },
    {
      "cell_type": "code",
      "execution_count": 9,
      "id": "958054fb-31f0-4d2c-9304-fdb72af8f333",
      "metadata": {
        "execution": {
          "iopub.execute_input": "2023-11-29T17:00:42.745164Z",
          "iopub.status.busy": "2023-11-29T17:00:42.744764Z",
          "iopub.status.idle": "2023-11-29T17:00:42.748648Z",
          "shell.execute_reply": "2023-11-29T17:00:42.748182Z"
        },
        "papermill": {
          "duration": 0.009973,
          "end_time": "2023-11-29T17:00:42.749757",
          "exception": false,
          "start_time": "2023-11-29T17:00:42.739784",
          "status": "completed"
        },
        "tags": []
      },
      "outputs": [],
      "source": [
        "def mmi1x2_mm(\n",
        "    width=0.5,\n",
        "    width_taper= 1.0,\n",
        "    length_taper= 10.0,\n",
        "    length_mmi= 5.5,\n",
        "    width_mmi= 2.5,\n",
        "    gap_mmi= 0.25,\n",
        "    # cross_section= strip,\n",
        "    # taper= {function= taper},\n",
        "    # with_bbox= True,\n",
        "):\n",
        "    return sax.reciprocal({\n",
        "        ('o1@TE', 'o2@TE'): 0.45**0.5,\n",
        "        ('o1@TE', 'o3@TE'): 0.45**0.5,\n",
        "        ('o1@TM', 'o2@TM'): 0.41**0.5,\n",
        "        ('o1@TM', 'o3@TM'): 0.41**0.5,\n",
        "        ('o1@TE', 'o2@TM'): 0.01**0.5,\n",
        "        ('o1@TM', 'o2@TE'): 0.01**0.5,\n",
        "        ('o1@TE', 'o3@TM'): 0.02**0.5,\n",
        "        ('o1@TM', 'o3@TE'): 0.02**0.5,\n",
        "    })"
      ]
    },
    {
      "cell_type": "code",
      "execution_count": 10,
      "id": "34bad3c0-34a4-4b35-a942-7f75a204c1d0",
      "metadata": {
        "execution": {
          "iopub.execute_input": "2023-11-29T17:00:42.778867Z",
          "iopub.status.busy": "2023-11-29T17:00:42.778381Z",
          "iopub.status.idle": "2023-11-29T17:00:42.781793Z",
          "shell.execute_reply": "2023-11-29T17:00:42.781299Z"
        },
        "papermill": {
          "duration": 0.009744,
          "end_time": "2023-11-29T17:00:42.782914",
          "exception": false,
          "start_time": "2023-11-29T17:00:42.773170",
          "status": "completed"
        },
        "tags": []
      },
      "outputs": [],
      "source": [
        "def straight_mm(\n",
        "    length=0.01,\n",
        "    #npoints=2,\n",
        "    #with_bbox=True,\n",
        "    #cross_section=...\n",
        "):\n",
        "    return sax.reciprocal({\n",
        "        ('o1@TE', 'o2@TE'): 1.0,\n",
        "        ('o1@TM', 'o2@TM'): 1.0,\n",
        "    })"
      ]
    },
    {
      "cell_type": "code",
      "execution_count": 11,
      "id": "b9476eb5-94e0-45c3-8e7e-a82fead8807b",
      "metadata": {
        "execution": {
          "iopub.execute_input": "2023-11-29T17:00:42.792271Z",
          "iopub.status.busy": "2023-11-29T17:00:42.791891Z",
          "iopub.status.idle": "2023-11-29T17:00:42.794648Z",
          "shell.execute_reply": "2023-11-29T17:00:42.794157Z"
        },
        "papermill": {
          "duration": 0.008671,
          "end_time": "2023-11-29T17:00:42.795752",
          "exception": false,
          "start_time": "2023-11-29T17:00:42.787081",
          "status": "completed"
        },
        "tags": []
      },
      "outputs": [],
      "source": [
        "models_mm = {\n",
        "    'straight': straight_mm,\n",
        "    'bend_euler': bend_euler_mm,\n",
        "    'mmi1x2': mmi1x2_mm,\n",
        "}"
      ]
    },
    {
      "cell_type": "markdown",
      "id": "3df7d9b6-acbb-4406-a3c8-8a9ad09db768",
      "metadata": {
        "papermill": {
          "duration": 0.004166,
          "end_time": "2023-11-29T17:00:42.804149",
          "exception": false,
          "start_time": "2023-11-29T17:00:42.799983",
          "status": "completed"
        },
        "tags": []
      },
      "source": [
        "We can now represent our recursive netlist model as a Directed Acyclic Graph:"
      ]
    },
    {
      "cell_type": "code",
      "execution_count": 12,
      "id": "b6d6e06e-b501-4d3e-8eb6-0d7117abf8e8",
      "metadata": {
        "execution": {
          "iopub.execute_input": "2023-11-29T17:00:42.813944Z",
          "iopub.status.busy": "2023-11-29T17:00:42.813432Z",
          "iopub.status.idle": "2023-11-29T17:00:42.969001Z",
          "shell.execute_reply": "2023-11-29T17:00:42.968353Z"
        },
        "papermill": {
          "duration": 0.161849,
          "end_time": "2023-11-29T17:00:42.970273",
          "exception": false,
          "start_time": "2023-11-29T17:00:42.808424",
          "status": "completed"
        },
        "tags": []
      },
      "outputs": [
        {
          "data": {
            "image/png": "[encoded data removed]",
            "text/plain": [
              "<Figure size 640x480 with 1 Axes>"
            ]
          },
          "metadata": {},
          "output_type": "display_data"
        }
      ],
      "source": [
        "dag = _create_dag(recnet, models)\n",
        "_draw_dag(dag)"
      ]
    },
    {
      "cell_type": "markdown",
      "id": "d081c64c-c42c-467e-885d-6e8db2cf64cc",
      "metadata": {
        "papermill": {
          "duration": 0.004575,
          "end_time": "2023-11-29T17:00:42.979896",
          "exception": false,
          "start_time": "2023-11-29T17:00:42.975321",
          "status": "completed"
        },
        "tags": []
      },
      "source": [
        "Note that the DAG depends on the models we supply. We could for example stub one of the sub-netlists by a pre-defined model:"
      ]
    },
    {
      "cell_type": "code",
      "execution_count": 13,
      "id": "ebb11e68-ecc3-4d00-9870-b6682e06c39f",
      "metadata": {
        "execution": {
          "iopub.execute_input": "2023-11-29T17:00:42.990337Z",
          "iopub.status.busy": "2023-11-29T17:00:42.989874Z",
          "iopub.status.idle": "2023-11-29T17:00:43.131851Z",
          "shell.execute_reply": "2023-11-29T17:00:43.131208Z"
        },
        "papermill": {
          "duration": 0.148701,
          "end_time": "2023-11-29T17:00:43.133146",
          "exception": false,
          "start_time": "2023-11-29T17:00:42.984445",
          "status": "completed"
        },
        "tags": []
      },
      "outputs": [
        {
          "data": {
            "image/png": "[encoded data removed]",
            "text/plain": [
              "<Figure size 640x480 with 1 Axes>"
            ]
          },
          "metadata": {},
          "output_type": "display_data"
        }
      ],
      "source": [
        "dag_ = _create_dag(recnet, {**models, 'mzi_delta_length10': mmi2x2})\n",
        "_draw_dag(dag_, with_labels=True)"
      ]
    },
    {
      "cell_type": "markdown",
      "id": "b68c2f1a-f062-4f8a-89a5-8608524a5c06",
      "metadata": {
        "papermill": {
          "duration": 0.004828,
          "end_time": "2023-11-29T17:00:43.143164",
          "exception": false,
          "start_time": "2023-11-29T17:00:43.138336",
          "status": "completed"
        },
        "tags": []
      },
      "source": [
        "This is useful if we for example pre-calculated a certain model."
      ]
    },
    {
      "cell_type": "markdown",
      "id": "020381f6-872f-4aea-8822-ef1096553dc2",
      "metadata": {
        "papermill": {
          "duration": 0.004858,
          "end_time": "2023-11-29T17:00:43.153015",
          "exception": false,
          "start_time": "2023-11-29T17:00:43.148157",
          "status": "completed"
        },
        "tags": []
      },
      "source": [
        "We can easily find the root of the DAG:"
      ]
    },
    {
      "cell_type": "code",
      "execution_count": 14,
      "id": "11728146-6b54-48f2-acac-c8a5fa4e3b0f",
      "metadata": {
        "execution": {
          "iopub.execute_input": "2023-11-29T17:00:43.163965Z",
          "iopub.status.busy": "2023-11-29T17:00:43.163436Z",
          "iopub.status.idle": "2023-11-29T17:00:43.167643Z",
          "shell.execute_reply": "2023-11-29T17:00:43.167089Z"
        },
        "papermill": {
          "duration": 0.010901,
          "end_time": "2023-11-29T17:00:43.168779",
          "exception": false,
          "start_time": "2023-11-29T17:00:43.157878",
          "status": "completed"
        },
        "tags": []
      },
      "outputs": [
        {
          "data": {
            "text/plain": [
              "['twomzi']"
            ]
          },
          "execution_count": 14,
          "metadata": {},
          "output_type": "execute_result"
        }
      ],
      "source": [
        "_find_root(dag)"
      ]
    },
    {
      "cell_type": "markdown",
      "id": "4e8065d2-19c8-444a-b1c2-ea3c62f90e0a",
      "metadata": {
        "papermill": {
          "duration": 0.004804,
          "end_time": "2023-11-29T17:00:43.178601",
          "exception": false,
          "start_time": "2023-11-29T17:00:43.173797",
          "status": "completed"
        },
        "tags": []
      },
      "source": [
        "Similarly we can find the leaves:"
      ]
    },
    {
      "cell_type": "code",
      "execution_count": 15,
      "id": "7fa9afff-26b5-44cb-90bf-a32ef5e95bf5",
      "metadata": {
        "execution": {
          "iopub.execute_input": "2023-11-29T17:00:43.189432Z",
          "iopub.status.busy": "2023-11-29T17:00:43.188980Z",
          "iopub.status.idle": "2023-11-29T17:00:43.192851Z",
          "shell.execute_reply": "2023-11-29T17:00:43.192339Z"
        },
        "papermill": {
          "duration": 0.010603,
          "end_time": "2023-11-29T17:00:43.194067",
          "exception": false,
          "start_time": "2023-11-29T17:00:43.183464",
          "status": "completed"
        },
        "tags": []
      },
      "outputs": [
        {
          "data": {
            "text/plain": [
              "['bend_euler', 'mmi1x2', 'straight']"
            ]
          },
          "execution_count": 15,
          "metadata": {},
          "output_type": "execute_result"
        }
      ],
      "source": [
        "_find_leaves(dag)"
      ]
    },
    {
      "cell_type": "markdown",
      "id": "59fb221d-951d-44df-a5d9-487a8b4dc4f8",
      "metadata": {
        "papermill": {
          "duration": 0.004942,
          "end_time": "2023-11-29T17:00:43.204124",
          "exception": false,
          "start_time": "2023-11-29T17:00:43.199182",
          "status": "completed"
        },
        "tags": []
      },
      "source": [
        "To be able to simulate the circuit, we need to supply a model for each of the leaves in the dependency DAG. Let's write a validator that checks this"
      ]
    },
    {
      "cell_type": "code",
      "execution_count": 16,
      "id": "a97dbe93-a53f-4525-b721-2f329692cdc9",
      "metadata": {
        "execution": {
          "iopub.execute_input": "2023-11-29T17:00:43.215154Z",
          "iopub.status.busy": "2023-11-29T17:00:43.214759Z",
          "iopub.status.idle": "2023-11-29T17:00:43.217589Z",
          "shell.execute_reply": "2023-11-29T17:00:43.217075Z"
        },
        "papermill": {
          "duration": 0.009603,
          "end_time": "2023-11-29T17:00:43.218805",
          "exception": false,
          "start_time": "2023-11-29T17:00:43.209202",
          "status": "completed"
        },
        "tags": []
      },
      "outputs": [],
      "source": [
        "models = _validate_models(models, dag)"
      ]
    },
    {
      "cell_type": "markdown",
      "id": "e9f30a86-aa00-4f51-8b93-3440edc0b46b",
      "metadata": {
        "papermill": {
          "duration": 0.004891,
          "end_time": "2023-11-29T17:00:43.228769",
          "exception": false,
          "start_time": "2023-11-29T17:00:43.223878",
          "status": "completed"
        },
        "tags": []
      },
      "source": [
        "We can now dow a bottom-up simulation. Since at the bottom of the DAG, our circuit is always flat (i.e. not hierarchical) we can implement a minimal `_flat_circuit` definition, which only needs to work on a flat (non-hierarchical circuit):"
      ]
    },
    {
      "cell_type": "code",
      "execution_count": 17,
      "id": "1f415c32-70e4-4b40-a9e2-051fc187cbb9",
      "metadata": {
        "execution": {
          "iopub.execute_input": "2023-11-29T17:00:43.239822Z",
          "iopub.status.busy": "2023-11-29T17:00:43.239404Z",
          "iopub.status.idle": "2023-11-29T17:00:44.514269Z",
          "shell.execute_reply": "2023-11-29T17:00:44.513655Z"
        },
        "papermill": {
          "duration": 1.281714,
          "end_time": "2023-11-29T17:00:44.515498",
          "exception": false,
          "start_time": "2023-11-29T17:00:43.233784",
          "status": "completed"
        },
        "tags": []
      },
      "outputs": [
        {
          "data": {
            "text/plain": [
              "(Array([[0. +0.j, 0.9+0.j],\n",
              "        [0.9+0.j, 0. +0.j]], dtype=complex128),\n",
              " {'o1': 0, 'o2': 1})"
            ]
          },
          "execution_count": 17,
          "metadata": {},
          "output_type": "execute_result"
        }
      ],
      "source": [
        "flatnet = recnet.__root__[\"mzi_delta_length10\"]\n",
        "single_mzi = _flat_circuit(\n",
        "    flatnet.instances,\n",
        "    flatnet.connections,\n",
        "    flatnet.ports,\n",
        "    models,\n",
        "    \"default\",\n",
        ")\n",
        "single_mzi()"
      ]
    },
    {
      "cell_type": "markdown",
      "id": "c4f3375c-baa3-433f-924a-eff50557bf9f",
      "metadata": {
        "papermill": {
          "duration": 0.005142,
          "end_time": "2023-11-29T17:00:44.526176",
          "exception": false,
          "start_time": "2023-11-29T17:00:44.521034",
          "status": "completed"
        },
        "tags": []
      },
      "source": [
        "The resulting circuit is just another SAX model (i.e. a python function) returing an SType:"
      ]
    },
    {
      "cell_type": "code",
      "execution_count": 18,
      "id": "058740c4-439b-4b00-91e7-15e3e7b6679c",
      "metadata": {
        "execution": {
          "iopub.execute_input": "2023-11-29T17:00:44.537380Z",
          "iopub.status.busy": "2023-11-29T17:00:44.536971Z",
          "iopub.status.idle": "2023-11-29T17:00:44.573026Z",
          "shell.execute_reply": "2023-11-29T17:00:44.572464Z"
        },
        "papermill": {
          "duration": 0.043036,
          "end_time": "2023-11-29T17:00:44.574261",
          "exception": false,
          "start_time": "2023-11-29T17:00:44.531225",
          "status": "completed"
        },
        "tags": []
      },
      "outputs": [],
      "source": [
        "single_mzi?"
      ]
    },
    {
      "cell_type": "markdown",
      "id": "2b2bbe9f-29ac-413a-b0a4-6c51da8689cb",
      "metadata": {
        "papermill": {
          "duration": 0.005033,
          "end_time": "2023-11-29T17:00:44.584589",
          "exception": false,
          "start_time": "2023-11-29T17:00:44.579556",
          "status": "completed"
        },
        "tags": []
      },
      "source": [
        "Let's 'execute' the circuit:"
      ]
    },
    {
      "cell_type": "markdown",
      "id": "42a86f56-ab16-4c04-8738-2480ad378008",
      "metadata": {
        "papermill": {
          "duration": 0.005007,
          "end_time": "2023-11-29T17:00:44.594675",
          "exception": false,
          "start_time": "2023-11-29T17:00:44.589668",
          "status": "completed"
        },
        "tags": []
      },
      "source": [
        "Note that we can also supply multimode models:"
      ]
    },
    {
      "cell_type": "code",
      "execution_count": 19,
      "id": "87bc9f40-e97c-4505-8362-311ce5770077",
      "metadata": {
        "execution": {
          "iopub.execute_input": "2023-11-29T17:00:44.605890Z",
          "iopub.status.busy": "2023-11-29T17:00:44.605471Z",
          "iopub.status.idle": "2023-11-29T17:00:45.891712Z",
          "shell.execute_reply": "2023-11-29T17:00:45.891099Z"
        },
        "papermill": {
          "duration": 1.293209,
          "end_time": "2023-11-29T17:00:45.892926",
          "exception": false,
          "start_time": "2023-11-29T17:00:44.599717",
          "status": "completed"
        },
        "tags": []
      },
      "outputs": [
        {
          "data": {
            "text/plain": [
              "(Array([[0.        +0.j, 0.        +0.j, 0.7482    +0.j, 0.23011426+0.j],\n",
              "        [0.        +0.j, 0.        +0.j, 0.23011426+0.j, 0.5491    +0.j],\n",
              "        [0.7482    +0.j, 0.23011426+0.j, 0.        +0.j, 0.        +0.j],\n",
              "        [0.23011426+0.j, 0.5491    +0.j, 0.        +0.j, 0.        +0.j]],      dtype=complex128),\n",
              " {'o1@TE': 0, 'o1@TM': 1, 'o2@TE': 2, 'o2@TM': 3})"
            ]
          },
          "execution_count": 19,
          "metadata": {},
          "output_type": "execute_result"
        }
      ],
      "source": [
        "flatnet = recnet.__root__[\"mzi_delta_length10\"]\n",
        "single_mzi = _flat_circuit(\n",
        "    flatnet.instances,\n",
        "    flatnet.connections,\n",
        "    flatnet.ports,\n",
        "    models_mm,\n",
        "    \"default\",\n",
        ")\n",
        "single_mzi()"
      ]
    },
    {
      "cell_type": "markdown",
      "id": "c852f384-c830-47f5-aa75-ee274abbcc35",
      "metadata": {
        "papermill": {
          "duration": 0.00524,
          "end_time": "2023-11-29T17:00:45.903728",
          "exception": false,
          "start_time": "2023-11-29T17:00:45.898488",
          "status": "completed"
        },
        "tags": []
      },
      "source": [
        "Now that we can handle flat circuits the extension to hierarchical circuits is not so difficult:"
      ]
    },
    {
      "cell_type": "markdown",
      "id": "10321c72-bc74-453b-a87a-d5f89295217b",
      "metadata": {
        "papermill": {
          "duration": 0.005191,
          "end_time": "2023-11-29T17:00:45.914062",
          "exception": false,
          "start_time": "2023-11-29T17:00:45.908871",
          "status": "completed"
        },
        "tags": []
      },
      "source": [
        "single mode simulation:"
      ]
    },
    {
      "cell_type": "code",
      "execution_count": 20,
      "id": "6d133b49-6f26-4e01-bcd9-7ca1b76dc55d",
      "metadata": {
        "execution": {
          "iopub.execute_input": "2023-11-29T17:00:45.925682Z",
          "iopub.status.busy": "2023-11-29T17:00:45.925166Z",
          "iopub.status.idle": "2023-11-29T17:00:46.820419Z",
          "shell.execute_reply": "2023-11-29T17:00:46.819810Z"
        },
        "papermill": {
          "duration": 0.902564,
          "end_time": "2023-11-29T17:00:46.821744",
          "exception": false,
          "start_time": "2023-11-29T17:00:45.919180",
          "status": "completed"
        },
        "tags": []
      },
      "outputs": [
        {
          "data": {
            "text/plain": [
              "{('o1', 'o1'): Array(0.+0.j, dtype=complex128),\n",
              " ('o1', 'o2'): Array(0.81+0.j, dtype=complex128),\n",
              " ('o2', 'o1'): Array(0.81+0.j, dtype=complex128),\n",
              " ('o2', 'o2'): Array(0.+0.j, dtype=complex128)}"
            ]
          },
          "execution_count": 20,
          "metadata": {},
          "output_type": "execute_result"
        }
      ],
      "source": [
        "double_mzi, info = sax.circuit(recnet, models, backend='default')\n",
        "double_mzi()"
      ]
    },
    {
      "cell_type": "markdown",
      "id": "3f332edd-909e-452b-b7bd-3a68719a5c20",
      "metadata": {
        "papermill": {
          "duration": 0.006262,
          "end_time": "2023-11-29T17:00:46.837246",
          "exception": false,
          "start_time": "2023-11-29T17:00:46.830984",
          "status": "completed"
        },
        "tags": []
      },
      "source": [
        "multi mode simulation:"
      ]
    },
    {
      "cell_type": "code",
      "execution_count": 21,
      "id": "277ec069-4b46-4d5e-9580-1dd0c28cd9a6",
      "metadata": {
        "execution": {
          "iopub.execute_input": "2023-11-29T17:00:46.849037Z",
          "iopub.status.busy": "2023-11-29T17:00:46.848638Z",
          "iopub.status.idle": "2023-11-29T17:00:47.924998Z",
          "shell.execute_reply": "2023-11-29T17:00:47.924393Z"
        },
        "papermill": {
          "duration": 1.083572,
          "end_time": "2023-11-29T17:00:47.926170",
          "exception": false,
          "start_time": "2023-11-29T17:00:46.842598",
          "status": "completed"
        },
        "tags": []
      },
      "outputs": [
        {
          "data": {
            "text/plain": [
              "{('o1@TE', 'o1@TE'): Array(0.+0.j, dtype=complex128),\n",
              " ('o1@TE', 'o1@TM'): Array(0.+0.j, dtype=complex128),\n",
              " ('o1@TE', 'o2@TE'): Array(0.61275581+0.j, dtype=complex128),\n",
              " ('o1@TE', 'o2@TM'): Array(0.29852723+0.j, dtype=complex128),\n",
              " ('o1@TM', 'o1@TE'): Array(0.+0.j, dtype=complex128),\n",
              " ('o1@TM', 'o1@TM'): Array(0.+0.j, dtype=complex128),\n",
              " ('o1@TM', 'o2@TE'): Array(0.29852723+0.j, dtype=complex128),\n",
              " ('o1@TM', 'o2@TM'): Array(0.35446338+0.j, dtype=complex128),\n",
              " ('o2@TE', 'o1@TE'): Array(0.61275581+0.j, dtype=complex128),\n",
              " ('o2@TE', 'o1@TM'): Array(0.29852723+0.j, dtype=complex128),\n",
              " ('o2@TE', 'o2@TE'): Array(0.+0.j, dtype=complex128),\n",
              " ('o2@TE', 'o2@TM'): Array(0.+0.j, dtype=complex128),\n",
              " ('o2@TM', 'o1@TE'): Array(0.29852723+0.j, dtype=complex128),\n",
              " ('o2@TM', 'o1@TM'): Array(0.35446338+0.j, dtype=complex128),\n",
              " ('o2@TM', 'o2@TE'): Array(0.+0.j, dtype=complex128),\n",
              " ('o2@TM', 'o2@TM'): Array(0.+0.j, dtype=complex128)}"
            ]
          },
          "execution_count": 21,
          "metadata": {},
          "output_type": "execute_result"
        }
      ],
      "source": [
        "double_mzi, info = sax.circuit(recnet, models_mm, backend='default', return_type='sdict')\n",
        "double_mzi()"
      ]
    },
    {
      "cell_type": "markdown",
      "id": "e621a2e3-6918-4cfb-8a55-4cc754356020",
      "metadata": {
        "papermill": {
          "duration": 0.005546,
          "end_time": "2023-11-29T17:00:47.937437",
          "exception": false,
          "start_time": "2023-11-29T17:00:47.931891",
          "status": "completed"
        },
        "tags": []
      },
      "source": [
        "sometimes it's useful to get the required circuit model names to be able to create the circuit:"
      ]
    },
    {
      "cell_type": "code",
      "execution_count": 22,
      "id": "99bb5c8f-8094-426d-a5d6-ceb73d80f706",
      "metadata": {
        "execution": {
          "iopub.execute_input": "2023-11-29T17:00:47.949400Z",
          "iopub.status.busy": "2023-11-29T17:00:47.948974Z",
          "iopub.status.idle": "2023-11-29T17:00:47.961575Z",
          "shell.execute_reply": "2023-11-29T17:00:47.960953Z"
        },
        "papermill": {
          "duration": 0.019997,
          "end_time": "2023-11-29T17:00:47.962759",
          "exception": false,
          "start_time": "2023-11-29T17:00:47.942762",
          "status": "completed"
        },
        "tags": []
      },
      "outputs": [
        {
          "data": {
            "text/plain": [
              "['mzi_delta_length10', 'mzi_delta_length20']"
            ]
          },
          "execution_count": 22,
          "metadata": {},
          "output_type": "execute_result"
        }
      ],
      "source": [
        "sax.get_required_circuit_models(recnet, models)"
      ]
    }
  ],
  "metadata": {
    "kernelspec": {
      "display_name": "sax",
      "language": "python",
      "name": "sax"
    },
    "language_info": {
      "codemirror_mode": {
        "name": "ipython",
        "version": 3
      },
      "file_extension": ".py",
      "mimetype": "text/x-python",
      "name": "python",
      "nbconvert_exporter": "python",
      "pygments_lexer": "ipython3",
      "version": "3.10.12"
    },
    "papermill": {
      "default_parameters": {},
      "duration": 8.727017,
      "end_time": "2023-11-29T17:00:48.585152",
      "environment_variables": {},
      "exception": null,
      "input_path": "./internals/02_circuit.ipynb",
      "output_path": "./internals/02_circuit.ipynb",
      "parameters": {},
      "start_time": "2023-11-29T17:00:39.858135",
      "version": "2.5.0"
    }
  },
  "nbformat": 4,
  "nbformat_minor": 5
}