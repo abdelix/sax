{
  "cells": [
    {
      "cell_type": "code",
      "execution_count": 1,
      "id": "70eaebcecf9092d5",
      "metadata": {
        "execution": {
          "iopub.execute_input": "2023-09-02T21:32:03.923299Z",
          "iopub.status.busy": "2023-09-02T21:32:03.922382Z",
          "iopub.status.idle": "2023-09-02T21:32:03.927972Z",
          "shell.execute_reply": "2023-09-02T21:32:03.927147Z"
        },
        "papermill": {
          "duration": 0.060217,
          "end_time": "2023-09-02T21:32:03.929570",
          "exception": false,
          "start_time": "2023-09-02T21:32:03.869353",
          "status": "completed"
        },
        "tags": [
          "remove-cell"
        ]
      },
      "outputs": [],
      "source": []
    },
    {
      "cell_type": "markdown",
      "id": "13a3464b",
      "metadata": {
        "papermill": {
          "duration": 0.011774,
          "end_time": "2023-09-02T21:32:03.953592",
          "exception": false,
          "start_time": "2023-09-02T21:32:03.941818",
          "status": "completed"
        },
        "tags": []
      },
      "source": [
        "# Typing\n",
        "\n",
        "> SAX types"
      ]
    },
    {
      "cell_type": "code",
      "execution_count": 2,
      "id": "5f82f41e2399f99e",
      "metadata": {
        "execution": {
          "iopub.execute_input": "2023-09-02T21:32:03.980459Z",
          "iopub.status.busy": "2023-09-02T21:32:03.979575Z",
          "iopub.status.idle": "2023-09-02T21:32:04.503549Z",
          "shell.execute_reply": "2023-09-02T21:32:04.502912Z"
        },
        "papermill": {
          "duration": 0.539575,
          "end_time": "2023-09-02T21:32:04.505567",
          "exception": false,
          "start_time": "2023-09-02T21:32:03.965992",
          "status": "completed"
        },
        "tags": [
          "remove-cell"
        ]
      },
      "outputs": [],
      "source": [
        "import matplotlib.pyplot as plt\n",
        "from fastcore.test import test_eq\n",
        "from pytest import approx, raises\n",
        "\n",
        "import os, sys; sys.stderr = open(os.devnull, \"w\")"
      ]
    },
    {
      "cell_type": "code",
      "execution_count": 3,
      "id": "a52699c4e4b04c33",
      "metadata": {
        "execution": {
          "iopub.execute_input": "2023-09-02T21:32:04.531277Z",
          "iopub.status.busy": "2023-09-02T21:32:04.530616Z",
          "iopub.status.idle": "2023-09-02T21:32:05.006655Z",
          "shell.execute_reply": "2023-09-02T21:32:05.006057Z"
        },
        "papermill": {
          "duration": 0.491519,
          "end_time": "2023-09-02T21:32:05.008903",
          "exception": false,
          "start_time": "2023-09-02T21:32:04.517384",
          "status": "completed"
        },
        "tags": [
          "hide-input"
        ]
      },
      "outputs": [],
      "source": [
        "from __future__ import annotations\n",
        "import functools\n",
        "import inspect\n",
        "from collections.abc import Callable as CallableABC\n",
        "from typing import Any, Callable, Dict, Tuple, Union, cast, overload\n",
        "try:\n",
        "    from typing import TypedDict\n",
        "except ImportError: # python<3.8\n",
        "    from typing_extensions import TypedDict\n",
        "\n",
        "import numpy as np\n",
        "from natsort import natsorted\n",
        "\n",
        "try:\n",
        "    import jax.numpy as jnp\n",
        "    JAX_AVAILABLE = True\n",
        "except ImportError:\n",
        "    import numpy as jnp\n",
        "    JAX_AVAILABLE = False"
      ]
    },
    {
      "cell_type": "markdown",
      "id": "41e26ab2",
      "metadata": {
        "papermill": {
          "duration": 0.011814,
          "end_time": "2023-09-02T21:32:05.033292",
          "exception": false,
          "start_time": "2023-09-02T21:32:05.021478",
          "status": "completed"
        },
        "tags": []
      },
      "source": [
        "## Core Types"
      ]
    },
    {
      "cell_type": "markdown",
      "id": "ca29df5c",
      "metadata": {
        "papermill": {
          "duration": 0.010922,
          "end_time": "2023-09-02T21:32:05.055306",
          "exception": false,
          "start_time": "2023-09-02T21:32:05.044384",
          "status": "completed"
        },
        "tags": []
      },
      "source": [
        "### Array"
      ]
    },
    {
      "cell_type": "markdown",
      "id": "82c3c344",
      "metadata": {
        "papermill": {
          "duration": 0.011287,
          "end_time": "2023-09-02T21:32:05.077923",
          "exception": false,
          "start_time": "2023-09-02T21:32:05.066636",
          "status": "completed"
        },
        "tags": []
      },
      "source": [
        "an `Array` is either a jax array or a numpy array:"
      ]
    },
    {
      "cell_type": "code",
      "execution_count": 4,
      "id": "b14de8550f770b45",
      "metadata": {
        "execution": {
          "iopub.execute_input": "2023-09-02T21:32:05.103658Z",
          "iopub.status.busy": "2023-09-02T21:32:05.102404Z",
          "iopub.status.idle": "2023-09-02T21:32:05.107421Z",
          "shell.execute_reply": "2023-09-02T21:32:05.106736Z"
        },
        "papermill": {
          "duration": 0.019663,
          "end_time": "2023-09-02T21:32:05.108939",
          "exception": false,
          "start_time": "2023-09-02T21:32:05.089276",
          "status": "completed"
        },
        "tags": []
      },
      "outputs": [],
      "source": [
        "Array = Union[jnp.ndarray, np.ndarray]"
      ]
    },
    {
      "cell_type": "markdown",
      "id": "6b86fa37",
      "metadata": {
        "papermill": {
          "duration": 0.010994,
          "end_time": "2023-09-02T21:32:05.130905",
          "exception": false,
          "start_time": "2023-09-02T21:32:05.119911",
          "status": "completed"
        },
        "tags": []
      },
      "source": [
        "### Int"
      ]
    },
    {
      "cell_type": "markdown",
      "id": "9fa467c9",
      "metadata": {
        "papermill": {
          "duration": 0.011303,
          "end_time": "2023-09-02T21:32:05.153473",
          "exception": false,
          "start_time": "2023-09-02T21:32:05.142170",
          "status": "completed"
        },
        "tags": []
      },
      "source": [
        "An `Int` is either a built-in `int` or an `Array` [of dtype `int`]"
      ]
    },
    {
      "cell_type": "code",
      "execution_count": 5,
      "id": "e5c10467ba7c9a77",
      "metadata": {
        "execution": {
          "iopub.execute_input": "2023-09-02T21:32:05.178450Z",
          "iopub.status.busy": "2023-09-02T21:32:05.177595Z",
          "iopub.status.idle": "2023-09-02T21:32:05.181275Z",
          "shell.execute_reply": "2023-09-02T21:32:05.180736Z"
        },
        "papermill": {
          "duration": 0.018079,
          "end_time": "2023-09-02T21:32:05.182786",
          "exception": false,
          "start_time": "2023-09-02T21:32:05.164707",
          "status": "completed"
        },
        "tags": []
      },
      "outputs": [],
      "source": [
        "Int = Union[int, Array]"
      ]
    },
    {
      "cell_type": "markdown",
      "id": "c486cd2c",
      "metadata": {
        "papermill": {
          "duration": 0.011212,
          "end_time": "2023-09-02T21:32:05.205202",
          "exception": false,
          "start_time": "2023-09-02T21:32:05.193990",
          "status": "completed"
        },
        "tags": []
      },
      "source": [
        "### Float"
      ]
    },
    {
      "cell_type": "markdown",
      "id": "3b59bba6",
      "metadata": {
        "papermill": {
          "duration": 0.010964,
          "end_time": "2023-09-02T21:32:05.227056",
          "exception": false,
          "start_time": "2023-09-02T21:32:05.216092",
          "status": "completed"
        },
        "tags": []
      },
      "source": [
        "A `Float` is eiter a built-in `float` or an `Array` [of dtype `float`]"
      ]
    },
    {
      "cell_type": "code",
      "execution_count": 6,
      "id": "ec826932f4c3755c",
      "metadata": {
        "execution": {
          "iopub.execute_input": "2023-09-02T21:32:05.251264Z",
          "iopub.status.busy": "2023-09-02T21:32:05.250430Z",
          "iopub.status.idle": "2023-09-02T21:32:05.253872Z",
          "shell.execute_reply": "2023-09-02T21:32:05.253430Z"
        },
        "papermill": {
          "duration": 0.017225,
          "end_time": "2023-09-02T21:32:05.255199",
          "exception": false,
          "start_time": "2023-09-02T21:32:05.237974",
          "status": "completed"
        },
        "tags": []
      },
      "outputs": [],
      "source": [
        "Float = Union[float, Array]"
      ]
    },
    {
      "cell_type": "markdown",
      "id": "bdfd6200",
      "metadata": {
        "papermill": {
          "duration": 0.011482,
          "end_time": "2023-09-02T21:32:05.278193",
          "exception": false,
          "start_time": "2023-09-02T21:32:05.266711",
          "status": "completed"
        },
        "tags": []
      },
      "source": [
        "### ComplexFloat"
      ]
    },
    {
      "cell_type": "markdown",
      "id": "b1a7d255",
      "metadata": {
        "papermill": {
          "duration": 0.01092,
          "end_time": "2023-09-02T21:32:05.300058",
          "exception": false,
          "start_time": "2023-09-02T21:32:05.289138",
          "status": "completed"
        },
        "tags": []
      },
      "source": [
        "A `ComplexFloat` is either a build-in `complex` or an Array [of dtype `complex`]:"
      ]
    },
    {
      "cell_type": "code",
      "execution_count": 7,
      "id": "02a984cf982be492",
      "metadata": {
        "execution": {
          "iopub.execute_input": "2023-09-02T21:32:05.325988Z",
          "iopub.status.busy": "2023-09-02T21:32:05.325220Z",
          "iopub.status.idle": "2023-09-02T21:32:05.329831Z",
          "shell.execute_reply": "2023-09-02T21:32:05.329131Z"
        },
        "papermill": {
          "duration": 0.019947,
          "end_time": "2023-09-02T21:32:05.331265",
          "exception": false,
          "start_time": "2023-09-02T21:32:05.311318",
          "status": "completed"
        },
        "tags": []
      },
      "outputs": [],
      "source": [
        "ComplexFloat = Union[complex, Float]"
      ]
    },
    {
      "cell_type": "markdown",
      "id": "1f1aa099",
      "metadata": {
        "papermill": {
          "duration": 0.011164,
          "end_time": "2023-09-02T21:32:05.353675",
          "exception": false,
          "start_time": "2023-09-02T21:32:05.342511",
          "status": "completed"
        },
        "tags": []
      },
      "source": [
        "### Settings"
      ]
    },
    {
      "cell_type": "markdown",
      "id": "69839acd",
      "metadata": {
        "papermill": {
          "duration": 0.011244,
          "end_time": "2023-09-02T21:32:05.376262",
          "exception": false,
          "start_time": "2023-09-02T21:32:05.365018",
          "status": "completed"
        },
        "tags": []
      },
      "source": [
        "A `Settings` dictionary is a nested mapping between setting names [`str`] to either `ComplexFloat` values OR to another lower level `Settings` dictionary."
      ]
    },
    {
      "cell_type": "code",
      "execution_count": 8,
      "id": "a5d68a58529a94a8",
      "metadata": {
        "execution": {
          "iopub.execute_input": "2023-09-02T21:32:05.400801Z",
          "iopub.status.busy": "2023-09-02T21:32:05.400235Z",
          "iopub.status.idle": "2023-09-02T21:32:05.403619Z",
          "shell.execute_reply": "2023-09-02T21:32:05.403174Z"
        },
        "papermill": {
          "duration": 0.017401,
          "end_time": "2023-09-02T21:32:05.405079",
          "exception": false,
          "start_time": "2023-09-02T21:32:05.387678",
          "status": "completed"
        },
        "tags": []
      },
      "outputs": [],
      "source": [
        "Settings = Union[Dict[str, ComplexFloat], Dict[str, \"Settings\"]]"
      ]
    },
    {
      "cell_type": "markdown",
      "id": "cf202d06",
      "metadata": {
        "papermill": {
          "duration": 0.011383,
          "end_time": "2023-09-02T21:32:05.427388",
          "exception": false,
          "start_time": "2023-09-02T21:32:05.416005",
          "status": "completed"
        },
        "tags": []
      },
      "source": [
        "Settings dictionaries are used to parametrize a SAX `Model` or a `circuit`. The settings dictionary should have the same hierarchy levels as the circuit:\n",
        " \n",
        " > Example:"
      ]
    },
    {
      "cell_type": "code",
      "execution_count": 9,
      "id": "2b26c4ab",
      "metadata": {
        "execution": {
          "iopub.execute_input": "2023-09-02T21:32:05.451870Z",
          "iopub.status.busy": "2023-09-02T21:32:05.451090Z",
          "iopub.status.idle": "2023-09-02T21:32:05.455048Z",
          "shell.execute_reply": "2023-09-02T21:32:05.454456Z"
        },
        "papermill": {
          "duration": 0.018217,
          "end_time": "2023-09-02T21:32:05.456555",
          "exception": false,
          "start_time": "2023-09-02T21:32:05.438338",
          "status": "completed"
        },
        "tags": []
      },
      "outputs": [],
      "source": [
        "mzi_settings = {\n",
        "    \"wl\": 1.5,  # global settings\n",
        "    \"lft\": {\"coupling\": 0.5},  # settings for the left coupler\n",
        "    \"top\": {\"neff\": 3.4},  # settings for the top waveguide\n",
        "    \"rgt\": {\"coupling\": 0.3},  # settings for the right coupler\n",
        "}"
      ]
    },
    {
      "cell_type": "markdown",
      "id": "45043912",
      "metadata": {
        "papermill": {
          "duration": 0.011047,
          "end_time": "2023-09-02T21:32:05.479106",
          "exception": false,
          "start_time": "2023-09-02T21:32:05.468059",
          "status": "completed"
        },
        "tags": []
      },
      "source": [
        "### SDict"
      ]
    },
    {
      "cell_type": "markdown",
      "id": "c5a7facf",
      "metadata": {
        "papermill": {
          "duration": 0.011226,
          "end_time": "2023-09-02T21:32:05.501635",
          "exception": false,
          "start_time": "2023-09-02T21:32:05.490409",
          "status": "completed"
        },
        "tags": []
      },
      "source": [
        "An `SDict` is a sparse dictionary based representation of an S-matrix, mapping port name tuples such as `('in0', 'out0')` to `ComplexFloat`."
      ]
    },
    {
      "cell_type": "code",
      "execution_count": 10,
      "id": "af28ac7b1b8defc9",
      "metadata": {
        "execution": {
          "iopub.execute_input": "2023-09-02T21:32:05.526252Z",
          "iopub.status.busy": "2023-09-02T21:32:05.525502Z",
          "iopub.status.idle": "2023-09-02T21:32:05.530375Z",
          "shell.execute_reply": "2023-09-02T21:32:05.529892Z"
        },
        "papermill": {
          "duration": 0.0192,
          "end_time": "2023-09-02T21:32:05.531885",
          "exception": false,
          "start_time": "2023-09-02T21:32:05.512685",
          "status": "completed"
        },
        "tags": []
      },
      "outputs": [],
      "source": [
        "SDict = Dict[Tuple[str, str], ComplexFloat]"
      ]
    },
    {
      "cell_type": "markdown",
      "id": "07dc470a",
      "metadata": {
        "papermill": {
          "duration": 0.011347,
          "end_time": "2023-09-02T21:32:05.554658",
          "exception": false,
          "start_time": "2023-09-02T21:32:05.543311",
          "status": "completed"
        },
        "tags": []
      },
      "source": [
        "> Example:"
      ]
    },
    {
      "cell_type": "code",
      "execution_count": 11,
      "id": "ad65a70c",
      "metadata": {
        "execution": {
          "iopub.execute_input": "2023-09-02T21:32:05.579990Z",
          "iopub.status.busy": "2023-09-02T21:32:05.579218Z",
          "iopub.status.idle": "2023-09-02T21:32:05.584233Z",
          "shell.execute_reply": "2023-09-02T21:32:05.583541Z"
        },
        "papermill": {
          "duration": 0.019614,
          "end_time": "2023-09-02T21:32:05.586031",
          "exception": false,
          "start_time": "2023-09-02T21:32:05.566417",
          "status": "completed"
        },
        "tags": []
      },
      "outputs": [
        {
          "name": "stdout",
          "output_type": "stream",
          "text": [
            "{('in0', 'out0'): 3.0}\n"
          ]
        }
      ],
      "source": [
        "_sdict: SDict = {\n",
        "    (\"in0\", \"out0\"): 3.0,\n",
        "}\n",
        "print(_sdict)"
      ]
    },
    {
      "cell_type": "markdown",
      "id": "0e2c7430",
      "metadata": {
        "papermill": {
          "duration": 0.011422,
          "end_time": "2023-09-02T21:32:05.609215",
          "exception": false,
          "start_time": "2023-09-02T21:32:05.597793",
          "status": "completed"
        },
        "tags": []
      },
      "source": [
        "### SCoo"
      ]
    },
    {
      "cell_type": "markdown",
      "id": "ef614e1d",
      "metadata": {
        "papermill": {
          "duration": 0.011199,
          "end_time": "2023-09-02T21:32:05.631700",
          "exception": false,
          "start_time": "2023-09-02T21:32:05.620501",
          "status": "completed"
        },
        "tags": []
      },
      "source": [
        "An `SCoo` is a sparse matrix based representation of an S-matrix consisting of three arrays and a port map. The three arrays represent the input port indices [`int`], output port indices [`int`] and the S-matrix values [`ComplexFloat`] of the sparse matrix. The port map maps a port name [`str`] to a port index [`int`]. Only these four arrays **together** and in this specific **order** are considered a valid `SCoo` representation!"
      ]
    },
    {
      "cell_type": "code",
      "execution_count": 12,
      "id": "71c14ecd15f57a22",
      "metadata": {
        "execution": {
          "iopub.execute_input": "2023-09-02T21:32:05.656741Z",
          "iopub.status.busy": "2023-09-02T21:32:05.655855Z",
          "iopub.status.idle": "2023-09-02T21:32:05.660078Z",
          "shell.execute_reply": "2023-09-02T21:32:05.659635Z"
        },
        "papermill": {
          "duration": 0.018695,
          "end_time": "2023-09-02T21:32:05.661434",
          "exception": false,
          "start_time": "2023-09-02T21:32:05.642739",
          "status": "completed"
        },
        "tags": []
      },
      "outputs": [],
      "source": [
        "SCoo = Tuple[Array, Array, ComplexFloat, Dict[str, int]]"
      ]
    },
    {
      "cell_type": "markdown",
      "id": "ff9719c8",
      "metadata": {
        "papermill": {
          "duration": 0.011211,
          "end_time": "2023-09-02T21:32:05.683795",
          "exception": false,
          "start_time": "2023-09-02T21:32:05.672584",
          "status": "completed"
        },
        "tags": []
      },
      "source": [
        "> Example:"
      ]
    },
    {
      "cell_type": "code",
      "execution_count": 13,
      "id": "972f8060",
      "metadata": {
        "execution": {
          "iopub.execute_input": "2023-09-02T21:32:05.709019Z",
          "iopub.status.busy": "2023-09-02T21:32:05.708147Z",
          "iopub.status.idle": "2023-09-02T21:32:05.741749Z",
          "shell.execute_reply": "2023-09-02T21:32:05.741181Z"
        },
        "papermill": {
          "duration": 0.047933,
          "end_time": "2023-09-02T21:32:05.743211",
          "exception": false,
          "start_time": "2023-09-02T21:32:05.695278",
          "status": "completed"
        },
        "tags": []
      },
      "outputs": [
        {
          "name": "stdout",
          "output_type": "stream",
          "text": [
            "[0 1 2]\n",
            "[0 1 0]\n",
            "[3. 4. 1.]\n",
            "{'in0': 0, 'in1': 2, 'out0': 1}\n"
          ]
        }
      ],
      "source": [
        "Si = jnp.arange(3, dtype=int)\n",
        "Sj = jnp.array([0, 1, 0], dtype=int)\n",
        "Sx = jnp.array([3.0, 4.0, 1.0])\n",
        "port_map = {\"in0\": 0, \"in1\": 2, \"out0\": 1}\n",
        "_scoo: SCoo = (Si, Sj, Sx, port_map)\n",
        "print(Si)\n",
        "print(Sj)\n",
        "print(Sx)\n",
        "print(port_map)"
      ]
    },
    {
      "cell_type": "markdown",
      "id": "2cba9246",
      "metadata": {
        "papermill": {
          "duration": 0.012141,
          "end_time": "2023-09-02T21:32:05.767107",
          "exception": false,
          "start_time": "2023-09-02T21:32:05.754966",
          "status": "completed"
        },
        "tags": []
      },
      "source": [
        "### SDense"
      ]
    },
    {
      "cell_type": "markdown",
      "id": "fd28795b",
      "metadata": {
        "papermill": {
          "duration": 0.011506,
          "end_time": "2023-09-02T21:32:05.790260",
          "exception": false,
          "start_time": "2023-09-02T21:32:05.778754",
          "status": "completed"
        },
        "tags": []
      },
      "source": [
        "an `SDense` is a dense matrix representation of an S-matrix. It's represented by an NxN `ComplexFloat` array and a port map (mapping port names onto port indices)."
      ]
    },
    {
      "cell_type": "code",
      "execution_count": 14,
      "id": "4288b2c5e5f7b2e9",
      "metadata": {
        "execution": {
          "iopub.execute_input": "2023-09-02T21:32:05.816266Z",
          "iopub.status.busy": "2023-09-02T21:32:05.815168Z",
          "iopub.status.idle": "2023-09-02T21:32:05.819991Z",
          "shell.execute_reply": "2023-09-02T21:32:05.819317Z"
        },
        "papermill": {
          "duration": 0.019658,
          "end_time": "2023-09-02T21:32:05.821441",
          "exception": false,
          "start_time": "2023-09-02T21:32:05.801783",
          "status": "completed"
        },
        "tags": []
      },
      "outputs": [],
      "source": [
        "SDense = Tuple[Array, Dict[str, int]]"
      ]
    },
    {
      "cell_type": "markdown",
      "id": "2c4789f7",
      "metadata": {
        "papermill": {
          "duration": 0.011225,
          "end_time": "2023-09-02T21:32:05.843670",
          "exception": false,
          "start_time": "2023-09-02T21:32:05.832445",
          "status": "completed"
        },
        "tags": []
      },
      "source": [
        "> Example:"
      ]
    },
    {
      "cell_type": "code",
      "execution_count": 15,
      "id": "02def7ed",
      "metadata": {
        "execution": {
          "iopub.execute_input": "2023-09-02T21:32:05.869317Z",
          "iopub.status.busy": "2023-09-02T21:32:05.868554Z",
          "iopub.status.idle": "2023-09-02T21:32:05.902931Z",
          "shell.execute_reply": "2023-09-02T21:32:05.902517Z"
        },
        "papermill": {
          "duration": 0.04898,
          "end_time": "2023-09-02T21:32:05.904394",
          "exception": false,
          "start_time": "2023-09-02T21:32:05.855414",
          "status": "completed"
        },
        "tags": []
      },
      "outputs": [
        {
          "name": "stdout",
          "output_type": "stream",
          "text": [
            "[[0. 1. 2.]\n",
            " [3. 4. 5.]\n",
            " [6. 7. 8.]]\n",
            "{'in0': 0, 'in1': 2, 'out0': 1}\n"
          ]
        }
      ],
      "source": [
        "Sd = jnp.arange(9, dtype=float).reshape(3, 3)\n",
        "port_map = {\"in0\": 0, \"in1\": 2, \"out0\": 1}\n",
        "_sdense = Sd, port_map\n",
        "print(Sd)\n",
        "print(port_map)"
      ]
    },
    {
      "cell_type": "markdown",
      "id": "b0d2e36f",
      "metadata": {
        "papermill": {
          "duration": 0.011644,
          "end_time": "2023-09-02T21:32:05.928083",
          "exception": false,
          "start_time": "2023-09-02T21:32:05.916439",
          "status": "completed"
        },
        "tags": []
      },
      "source": [
        "### SType"
      ]
    },
    {
      "cell_type": "markdown",
      "id": "b441f21d",
      "metadata": {
        "papermill": {
          "duration": 0.011564,
          "end_time": "2023-09-02T21:32:05.951742",
          "exception": false,
          "start_time": "2023-09-02T21:32:05.940178",
          "status": "completed"
        },
        "tags": []
      },
      "source": [
        "an `SType` is either an `SDict` **OR** an `SCoo` **OR** an `SDense`:"
      ]
    },
    {
      "cell_type": "code",
      "execution_count": 16,
      "id": "036d374ee20c07e9",
      "metadata": {
        "execution": {
          "iopub.execute_input": "2023-09-02T21:32:05.977809Z",
          "iopub.status.busy": "2023-09-02T21:32:05.976972Z",
          "iopub.status.idle": "2023-09-02T21:32:05.981060Z",
          "shell.execute_reply": "2023-09-02T21:32:05.980221Z"
        },
        "papermill": {
          "duration": 0.019367,
          "end_time": "2023-09-02T21:32:05.982711",
          "exception": false,
          "start_time": "2023-09-02T21:32:05.963344",
          "status": "completed"
        },
        "tags": []
      },
      "outputs": [],
      "source": [
        "SType = Union[SDict, SCoo, SDense]"
      ]
    },
    {
      "cell_type": "markdown",
      "id": "e0561b07",
      "metadata": {
        "papermill": {
          "duration": 0.011718,
          "end_time": "2023-09-02T21:32:06.006325",
          "exception": false,
          "start_time": "2023-09-02T21:32:05.994607",
          "status": "completed"
        },
        "tags": []
      },
      "source": [
        "> Example:"
      ]
    },
    {
      "cell_type": "code",
      "execution_count": 17,
      "id": "5b52a5f2",
      "metadata": {
        "execution": {
          "iopub.execute_input": "2023-09-02T21:32:06.031679Z",
          "iopub.status.busy": "2023-09-02T21:32:06.031140Z",
          "iopub.status.idle": "2023-09-02T21:32:06.034446Z",
          "shell.execute_reply": "2023-09-02T21:32:06.033962Z"
        },
        "papermill": {
          "duration": 0.017619,
          "end_time": "2023-09-02T21:32:06.035778",
          "exception": false,
          "start_time": "2023-09-02T21:32:06.018159",
          "status": "completed"
        },
        "tags": []
      },
      "outputs": [],
      "source": [
        "obj: SType = _sdict\n",
        "obj: SType = _scoo\n",
        "obj: SType = _sdense"
      ]
    },
    {
      "cell_type": "markdown",
      "id": "afabe91b",
      "metadata": {
        "papermill": {
          "duration": 0.012002,
          "end_time": "2023-09-02T21:32:06.059782",
          "exception": false,
          "start_time": "2023-09-02T21:32:06.047780",
          "status": "completed"
        },
        "tags": []
      },
      "source": [
        "### Model"
      ]
    },
    {
      "cell_type": "markdown",
      "id": "13808fb1",
      "metadata": {
        "papermill": {
          "duration": 0.012044,
          "end_time": "2023-09-02T21:32:06.083858",
          "exception": false,
          "start_time": "2023-09-02T21:32:06.071814",
          "status": "completed"
        },
        "tags": []
      },
      "source": [
        "A `Model` is any keyword-only function that returns an `SType`:"
      ]
    },
    {
      "cell_type": "code",
      "execution_count": 18,
      "id": "fd87d7d91a64bef6",
      "metadata": {
        "execution": {
          "iopub.execute_input": "2023-09-02T21:32:06.109042Z",
          "iopub.status.busy": "2023-09-02T21:32:06.108330Z",
          "iopub.status.idle": "2023-09-02T21:32:06.111652Z",
          "shell.execute_reply": "2023-09-02T21:32:06.111151Z"
        },
        "papermill": {
          "duration": 0.017482,
          "end_time": "2023-09-02T21:32:06.113020",
          "exception": false,
          "start_time": "2023-09-02T21:32:06.095538",
          "status": "completed"
        },
        "tags": []
      },
      "outputs": [],
      "source": [
        "Model = Callable[..., SType]"
      ]
    },
    {
      "cell_type": "markdown",
      "id": "fad534fb",
      "metadata": {
        "papermill": {
          "duration": 0.011861,
          "end_time": "2023-09-02T21:32:06.136577",
          "exception": false,
          "start_time": "2023-09-02T21:32:06.124716",
          "status": "completed"
        },
        "tags": []
      },
      "source": [
        "### ModelFactory"
      ]
    },
    {
      "cell_type": "markdown",
      "id": "85781647",
      "metadata": {
        "papermill": {
          "duration": 0.01209,
          "end_time": "2023-09-02T21:32:06.160301",
          "exception": false,
          "start_time": "2023-09-02T21:32:06.148211",
          "status": "completed"
        },
        "tags": []
      },
      "source": [
        "A `ModelFactory` is any keyword-only function that returns a `Model`:"
      ]
    },
    {
      "cell_type": "code",
      "execution_count": 19,
      "id": "6af18b1497a501fb",
      "metadata": {
        "execution": {
          "iopub.execute_input": "2023-09-02T21:32:06.186062Z",
          "iopub.status.busy": "2023-09-02T21:32:06.185147Z",
          "iopub.status.idle": "2023-09-02T21:32:06.188841Z",
          "shell.execute_reply": "2023-09-02T21:32:06.188425Z"
        },
        "papermill": {
          "duration": 0.018233,
          "end_time": "2023-09-02T21:32:06.190193",
          "exception": false,
          "start_time": "2023-09-02T21:32:06.171960",
          "status": "completed"
        },
        "tags": []
      },
      "outputs": [],
      "source": [
        "ModelFactory = Callable[..., Model]"
      ]
    },
    {
      "cell_type": "markdown",
      "id": "353d8506",
      "metadata": {
        "papermill": {
          "duration": 0.011926,
          "end_time": "2023-09-02T21:32:06.213957",
          "exception": false,
          "start_time": "2023-09-02T21:32:06.202031",
          "status": "completed"
        },
        "tags": []
      },
      "source": [
        "> Note: SAX sometimes needs to figure out the difference between a `ModelFactory` and a normal `Model` *before* running the function. To do this, SAX will check the return annotation of the function. Any function with a `-> Model` or `-> Callable` annotation will be considered a `ModelFactory`. Any function without this annotation will be considered a normal Model: **don't forget the return annotation of your Model Factory!** To ensure a correct annotation and to ensure forward compatibility, it's recommended to decorate your `ModelFactory` with the `modelfactory` decorator."
      ]
    },
    {
      "cell_type": "markdown",
      "id": "b32b5a31",
      "metadata": {
        "papermill": {
          "duration": 0.011677,
          "end_time": "2023-09-02T21:32:06.237075",
          "exception": false,
          "start_time": "2023-09-02T21:32:06.225398",
          "status": "completed"
        },
        "tags": []
      },
      "source": [
        "### Models"
      ]
    },
    {
      "cell_type": "markdown",
      "id": "a796dcb2",
      "metadata": {
        "papermill": {
          "duration": 0.011755,
          "end_time": "2023-09-02T21:32:06.260631",
          "exception": false,
          "start_time": "2023-09-02T21:32:06.248876",
          "status": "completed"
        },
        "tags": []
      },
      "source": [
        "`Models` is a mapping between model names [`str`] and a `Model`:"
      ]
    },
    {
      "cell_type": "code",
      "execution_count": 20,
      "id": "c15351a9bfb59888",
      "metadata": {
        "execution": {
          "iopub.execute_input": "2023-09-02T21:32:06.287242Z",
          "iopub.status.busy": "2023-09-02T21:32:06.286412Z",
          "iopub.status.idle": "2023-09-02T21:32:06.289909Z",
          "shell.execute_reply": "2023-09-02T21:32:06.289484Z"
        },
        "papermill": {
          "duration": 0.018503,
          "end_time": "2023-09-02T21:32:06.291225",
          "exception": false,
          "start_time": "2023-09-02T21:32:06.272722",
          "status": "completed"
        },
        "tags": []
      },
      "outputs": [],
      "source": [
        "Models = Dict[str, Model]"
      ]
    },
    {
      "cell_type": "markdown",
      "id": "ed1af61c",
      "metadata": {
        "papermill": {
          "duration": 0.012112,
          "end_time": "2023-09-02T21:32:06.314963",
          "exception": false,
          "start_time": "2023-09-02T21:32:06.302851",
          "status": "completed"
        },
        "tags": []
      },
      "source": [
        "> Note: sometimes 'component' is used to refer to a a `Model` or `GeneralModel`. This is because other tools (such as for example GDSFactory) prefer that terminology."
      ]
    },
    {
      "cell_type": "markdown",
      "id": "5d276f63",
      "metadata": {
        "papermill": {
          "duration": 0.011577,
          "end_time": "2023-09-02T21:32:06.338339",
          "exception": false,
          "start_time": "2023-09-02T21:32:06.326762",
          "status": "completed"
        },
        "tags": []
      },
      "source": [
        "## Netlist Types\n",
        "\n",
        "Netlist types are moved [here](06_netlist.ipynb)."
      ]
    },
    {
      "cell_type": "markdown",
      "id": "dbcb4447",
      "metadata": {
        "papermill": {
          "duration": 0.011755,
          "end_time": "2023-09-02T21:32:06.361859",
          "exception": false,
          "start_time": "2023-09-02T21:32:06.350104",
          "status": "completed"
        },
        "tags": []
      },
      "source": [
        "## Validation and runtime type-checking:\n",
        "> Note: the type-checking functions below are **NOT** very tight and hence should be used within the right context!"
      ]
    },
    {
      "cell_type": "markdown",
      "id": "d3727fc3ebfa62f1",
      "metadata": {},
      "source": [
        ":::{eval-rst}\n",
        ".. autofunction:: sax.typing_.is_float\n",
        ":::\n"
      ]
    },
    {
      "cell_type": "code",
      "execution_count": 21,
      "id": "b7626bb863b96b83",
      "metadata": {
        "execution": {
          "iopub.execute_input": "2023-09-02T21:32:06.388050Z",
          "iopub.status.busy": "2023-09-02T21:32:06.387200Z",
          "iopub.status.idle": "2023-09-02T21:32:06.392074Z",
          "shell.execute_reply": "2023-09-02T21:32:06.391586Z"
        },
        "papermill": {
          "duration": 0.019394,
          "end_time": "2023-09-02T21:32:06.393355",
          "exception": false,
          "start_time": "2023-09-02T21:32:06.373961",
          "status": "completed"
        },
        "tags": [
          "hide-input"
        ]
      },
      "outputs": [],
      "source": [
        "def is_float(x: Any) -> bool:\n",
        "    \"\"\"Check if an object is a `Float`\"\"\"\n",
        "    if isinstance(x, float):\n",
        "        return True\n",
        "    if isinstance(x, np.ndarray):\n",
        "        return x.dtype in (np.float16, np.float32, np.float64, np.float128)\n",
        "    if isinstance(x, jnp.ndarray):\n",
        "        return x.dtype in (jnp.float16, jnp.float32, jnp.float64)\n",
        "    return False"
      ]
    },
    {
      "cell_type": "code",
      "execution_count": 22,
      "id": "28374448",
      "metadata": {
        "execution": {
          "iopub.execute_input": "2023-09-02T21:32:06.418806Z",
          "iopub.status.busy": "2023-09-02T21:32:06.418058Z",
          "iopub.status.idle": "2023-09-02T21:32:06.424166Z",
          "shell.execute_reply": "2023-09-02T21:32:06.423713Z"
        },
        "papermill": {
          "duration": 0.020659,
          "end_time": "2023-09-02T21:32:06.425459",
          "exception": false,
          "start_time": "2023-09-02T21:32:06.404800",
          "status": "completed"
        },
        "tags": []
      },
      "outputs": [],
      "source": [
        "assert is_float(3.0)\n",
        "assert not is_float(3)\n",
        "assert not is_float(3.0 + 2j)\n",
        "assert not is_float(jnp.array(3.0, dtype=complex))\n",
        "assert not is_float(jnp.array(3, dtype=int))"
      ]
    },
    {
      "cell_type": "markdown",
      "id": "852d2dc4ab1851e0",
      "metadata": {},
      "source": [
        ":::{eval-rst}\n",
        ".. autofunction:: sax.typing_.is_complex\n",
        ":::\n"
      ]
    },
    {
      "cell_type": "code",
      "execution_count": 23,
      "id": "104878abd5585b73",
      "metadata": {
        "execution": {
          "iopub.execute_input": "2023-09-02T21:32:06.455498Z",
          "iopub.status.busy": "2023-09-02T21:32:06.454813Z",
          "iopub.status.idle": "2023-09-02T21:32:06.459778Z",
          "shell.execute_reply": "2023-09-02T21:32:06.459243Z"
        },
        "papermill": {
          "duration": 0.020564,
          "end_time": "2023-09-02T21:32:06.461546",
          "exception": false,
          "start_time": "2023-09-02T21:32:06.440982",
          "status": "completed"
        },
        "tags": [
          "hide-input"
        ]
      },
      "outputs": [],
      "source": [
        "def is_complex(x: Any) -> bool:\n",
        "    \"\"\"check if an object is a `ComplexFloat`\"\"\"\n",
        "    if isinstance(x, complex):\n",
        "        return True\n",
        "    if isinstance(x, np.ndarray):\n",
        "        return x.dtype in (np.complex64, np.complex128)\n",
        "    if isinstance(x, jnp.ndarray):\n",
        "        return x.dtype in (jnp.complex64, jnp.complex128)\n",
        "    return False"
      ]
    },
    {
      "cell_type": "code",
      "execution_count": 24,
      "id": "d81a703d",
      "metadata": {
        "execution": {
          "iopub.execute_input": "2023-09-02T21:32:06.487199Z",
          "iopub.status.busy": "2023-09-02T21:32:06.486466Z",
          "iopub.status.idle": "2023-09-02T21:32:06.492015Z",
          "shell.execute_reply": "2023-09-02T21:32:06.491410Z"
        },
        "papermill": {
          "duration": 0.020064,
          "end_time": "2023-09-02T21:32:06.493420",
          "exception": false,
          "start_time": "2023-09-02T21:32:06.473356",
          "status": "completed"
        },
        "tags": []
      },
      "outputs": [],
      "source": [
        "assert not is_complex(3.0)\n",
        "assert not is_complex(3)\n",
        "assert is_complex(3.0 + 2j)\n",
        "assert is_complex(jnp.array(3.0, dtype=complex))\n",
        "assert not is_complex(jnp.array(3, dtype=int))"
      ]
    },
    {
      "cell_type": "markdown",
      "id": "884ea040240b3e8a",
      "metadata": {},
      "source": [
        ":::{eval-rst}\n",
        ".. autofunction:: sax.typing_.is_complex_float\n",
        ":::\n"
      ]
    },
    {
      "cell_type": "code",
      "execution_count": 25,
      "id": "0101df8a924a84bb",
      "metadata": {
        "execution": {
          "iopub.execute_input": "2023-09-02T21:32:06.518961Z",
          "iopub.status.busy": "2023-09-02T21:32:06.518291Z",
          "iopub.status.idle": "2023-09-02T21:32:06.521534Z",
          "shell.execute_reply": "2023-09-02T21:32:06.521148Z"
        },
        "papermill": {
          "duration": 0.017636,
          "end_time": "2023-09-02T21:32:06.523036",
          "exception": false,
          "start_time": "2023-09-02T21:32:06.505400",
          "status": "completed"
        },
        "tags": [
          "hide-input"
        ]
      },
      "outputs": [],
      "source": [
        "def is_complex_float(x: Any) -> bool:\n",
        "    \"\"\"check if an object is either a `ComplexFloat` or a `Float`\"\"\"\n",
        "    return is_float(x) or is_complex(x)"
      ]
    },
    {
      "cell_type": "code",
      "execution_count": 26,
      "id": "c533ff0d",
      "metadata": {
        "execution": {
          "iopub.execute_input": "2023-09-02T21:32:06.551826Z",
          "iopub.status.busy": "2023-09-02T21:32:06.551198Z",
          "iopub.status.idle": "2023-09-02T21:32:06.556777Z",
          "shell.execute_reply": "2023-09-02T21:32:06.556356Z"
        },
        "papermill": {
          "duration": 0.020967,
          "end_time": "2023-09-02T21:32:06.558202",
          "exception": false,
          "start_time": "2023-09-02T21:32:06.537235",
          "status": "completed"
        },
        "tags": []
      },
      "outputs": [],
      "source": [
        "assert is_complex_float(3.0)\n",
        "assert not is_complex_float(3)\n",
        "assert is_complex_float(3.0 + 2j)\n",
        "assert is_complex_float(jnp.array(3.0, dtype=complex))\n",
        "assert not is_complex_float(jnp.array(3, dtype=int))"
      ]
    },
    {
      "cell_type": "markdown",
      "id": "bdfdbe48cf2474ab",
      "metadata": {},
      "source": [
        ":::{eval-rst}\n",
        ".. autofunction:: sax.typing_.is_sdict\n",
        ":::\n"
      ]
    },
    {
      "cell_type": "code",
      "execution_count": 27,
      "id": "39d7608c328bcfc1",
      "metadata": {
        "execution": {
          "iopub.execute_input": "2023-09-02T21:32:06.585101Z",
          "iopub.status.busy": "2023-09-02T21:32:06.584266Z",
          "iopub.status.idle": "2023-09-02T21:32:06.588889Z",
          "shell.execute_reply": "2023-09-02T21:32:06.588106Z"
        },
        "papermill": {
          "duration": 0.019882,
          "end_time": "2023-09-02T21:32:06.590493",
          "exception": false,
          "start_time": "2023-09-02T21:32:06.570611",
          "status": "completed"
        },
        "tags": [
          "hide-input"
        ]
      },
      "outputs": [],
      "source": [
        "def is_sdict(x: Any) -> bool:\n",
        "    \"\"\"check if an object is an `SDict` (a SAX S-dictionary)\"\"\"\n",
        "    return isinstance(x, dict)"
      ]
    },
    {
      "cell_type": "code",
      "execution_count": 28,
      "id": "cb0365dc",
      "metadata": {
        "execution": {
          "iopub.execute_input": "2023-09-02T21:32:06.616361Z",
          "iopub.status.busy": "2023-09-02T21:32:06.615772Z",
          "iopub.status.idle": "2023-09-02T21:32:06.619749Z",
          "shell.execute_reply": "2023-09-02T21:32:06.619078Z"
        },
        "papermill": {
          "duration": 0.018494,
          "end_time": "2023-09-02T21:32:06.621109",
          "exception": false,
          "start_time": "2023-09-02T21:32:06.602615",
          "status": "completed"
        },
        "tags": []
      },
      "outputs": [],
      "source": [
        "assert not is_sdict(object())\n",
        "assert is_sdict(_sdict)\n",
        "assert not is_sdict(_scoo)\n",
        "assert not is_sdict(_sdense)"
      ]
    },
    {
      "cell_type": "markdown",
      "id": "42c15c75e9a37522",
      "metadata": {},
      "source": [
        ":::{eval-rst}\n",
        ".. autofunction:: sax.typing_.is_scoo\n",
        ":::\n"
      ]
    },
    {
      "cell_type": "code",
      "execution_count": 29,
      "id": "8605bf441b741140",
      "metadata": {
        "execution": {
          "iopub.execute_input": "2023-09-02T21:32:06.650476Z",
          "iopub.status.busy": "2023-09-02T21:32:06.650000Z",
          "iopub.status.idle": "2023-09-02T21:32:06.653683Z",
          "shell.execute_reply": "2023-09-02T21:32:06.653064Z"
        },
        "papermill": {
          "duration": 0.021673,
          "end_time": "2023-09-02T21:32:06.655339",
          "exception": false,
          "start_time": "2023-09-02T21:32:06.633666",
          "status": "completed"
        },
        "tags": [
          "hide-input"
        ]
      },
      "outputs": [],
      "source": [
        "def is_scoo(x: Any) -> bool:\n",
        "    \"\"\"check if an object is an `SCoo` (a SAX sparse S-matrix representation in COO-format)\"\"\"\n",
        "    return isinstance(x, (tuple, list)) and len(x) == 4"
      ]
    },
    {
      "cell_type": "code",
      "execution_count": 30,
      "id": "9ea0239a",
      "metadata": {
        "execution": {
          "iopub.execute_input": "2023-09-02T21:32:06.682544Z",
          "iopub.status.busy": "2023-09-02T21:32:06.681775Z",
          "iopub.status.idle": "2023-09-02T21:32:06.685246Z",
          "shell.execute_reply": "2023-09-02T21:32:06.684812Z"
        },
        "papermill": {
          "duration": 0.019267,
          "end_time": "2023-09-02T21:32:06.687291",
          "exception": false,
          "start_time": "2023-09-02T21:32:06.668024",
          "status": "completed"
        },
        "tags": []
      },
      "outputs": [],
      "source": [
        "assert not is_scoo(object)\n",
        "assert not is_scoo(_sdict)\n",
        "assert is_scoo(_scoo)\n",
        "assert not is_scoo(_sdense)"
      ]
    },
    {
      "cell_type": "markdown",
      "id": "4b6e4860011ab8ad",
      "metadata": {},
      "source": [
        ":::{eval-rst}\n",
        ".. autofunction:: sax.typing_.is_sdense\n",
        ":::\n"
      ]
    },
    {
      "cell_type": "code",
      "execution_count": 31,
      "id": "0a22f8dab44a9667",
      "metadata": {
        "execution": {
          "iopub.execute_input": "2023-09-02T21:32:06.713481Z",
          "iopub.status.busy": "2023-09-02T21:32:06.712845Z",
          "iopub.status.idle": "2023-09-02T21:32:06.716217Z",
          "shell.execute_reply": "2023-09-02T21:32:06.715827Z"
        },
        "papermill": {
          "duration": 0.019619,
          "end_time": "2023-09-02T21:32:06.718921",
          "exception": false,
          "start_time": "2023-09-02T21:32:06.699302",
          "status": "completed"
        },
        "tags": [
          "hide-input"
        ]
      },
      "outputs": [],
      "source": [
        "def is_sdense(x: Any) -> bool:\n",
        "    \"\"\"check if an object is an `SDense` (a SAX dense S-matrix representation)\"\"\"\n",
        "    return isinstance(x, (tuple, list)) and len(x) == 2"
      ]
    },
    {
      "cell_type": "code",
      "execution_count": 32,
      "id": "2eddd63a",
      "metadata": {
        "execution": {
          "iopub.execute_input": "2023-09-02T21:32:06.744812Z",
          "iopub.status.busy": "2023-09-02T21:32:06.744392Z",
          "iopub.status.idle": "2023-09-02T21:32:06.748160Z",
          "shell.execute_reply": "2023-09-02T21:32:06.747399Z"
        },
        "papermill": {
          "duration": 0.020003,
          "end_time": "2023-09-02T21:32:06.750900",
          "exception": false,
          "start_time": "2023-09-02T21:32:06.730897",
          "status": "completed"
        },
        "tags": []
      },
      "outputs": [],
      "source": [
        "assert not is_sdense(object)\n",
        "assert not is_sdense(_sdict)\n",
        "assert not is_sdense(_scoo)\n",
        "assert is_sdense(_sdense)"
      ]
    },
    {
      "cell_type": "markdown",
      "id": "60c582870f6a91db",
      "metadata": {},
      "source": [
        ":::{eval-rst}\n",
        ".. autofunction:: sax.typing_.is_model\n",
        ":::\n"
      ]
    },
    {
      "cell_type": "code",
      "execution_count": 33,
      "id": "a6b25a7fb57e5c8e",
      "metadata": {
        "execution": {
          "iopub.execute_input": "2023-09-02T21:32:06.778093Z",
          "iopub.status.busy": "2023-09-02T21:32:06.777341Z",
          "iopub.status.idle": "2023-09-02T21:32:06.783492Z",
          "shell.execute_reply": "2023-09-02T21:32:06.782814Z"
        },
        "papermill": {
          "duration": 0.021449,
          "end_time": "2023-09-02T21:32:06.784904",
          "exception": false,
          "start_time": "2023-09-02T21:32:06.763455",
          "status": "completed"
        },
        "tags": [
          "hide-input"
        ]
      },
      "outputs": [],
      "source": [
        "def is_model(model: Any) -> bool:\n",
        "    \"\"\"check if a callable is a `Model` (a callable returning an `SType`)\"\"\"\n",
        "    if not callable(model):\n",
        "        return False\n",
        "    try:\n",
        "        sig = inspect.signature(model)\n",
        "    except ValueError:\n",
        "        return False\n",
        "    for param in sig.parameters.values():\n",
        "        if param.default is inspect.Parameter.empty:\n",
        "            return False  # a proper SAX model does not have any positional arguments.\n",
        "    if _is_callable_annotation(sig.return_annotation):  # model factory\n",
        "        return False\n",
        "    return True\n",
        "\n",
        "def _is_callable_annotation(annotation: Any) -> bool:\n",
        "    \"\"\"check if an annotation is `Callable`-like\"\"\"\n",
        "    if isinstance(annotation, str):\n",
        "        # happens when\n",
        "        # was imported at the top of the file...\n",
        "        return annotation.startswith(\"Callable\") or annotation.endswith(\"Model\")\n",
        "        # TODO: this is not a very robust check...\n",
        "    try:\n",
        "        return annotation.__origin__ == CallableABC\n",
        "    except AttributeError:\n",
        "        return False"
      ]
    },
    {
      "cell_type": "code",
      "execution_count": 34,
      "id": "d8e702924ffb2ec7",
      "metadata": {
        "execution": {
          "iopub.execute_input": "2023-09-02T21:32:06.810833Z",
          "iopub.status.busy": "2023-09-02T21:32:06.810232Z",
          "iopub.status.idle": "2023-09-02T21:32:06.813181Z",
          "shell.execute_reply": "2023-09-02T21:32:06.812758Z"
        },
        "papermill": {
          "duration": 0.017458,
          "end_time": "2023-09-02T21:32:06.814509",
          "exception": false,
          "start_time": "2023-09-02T21:32:06.797051",
          "status": "completed"
        },
        "tags": [
          "remove-cell"
        ]
      },
      "outputs": [],
      "source": [
        "assert _is_callable_annotation(Callable)\n",
        "assert not _is_callable_annotation(SDict)"
      ]
    },
    {
      "cell_type": "code",
      "execution_count": 35,
      "id": "89bdb647",
      "metadata": {
        "execution": {
          "iopub.execute_input": "2023-09-02T21:32:06.840669Z",
          "iopub.status.busy": "2023-09-02T21:32:06.839894Z",
          "iopub.status.idle": "2023-09-02T21:32:06.861709Z",
          "shell.execute_reply": "2023-09-02T21:32:06.861138Z"
        },
        "papermill": {
          "duration": 0.037514,
          "end_time": "2023-09-02T21:32:06.863966",
          "exception": false,
          "start_time": "2023-09-02T21:32:06.826452",
          "status": "completed"
        },
        "tags": []
      },
      "outputs": [],
      "source": [
        "def good_model(x=jnp.array(3.0), y=jnp.array(4.0)) -> SDict:\n",
        "    return {(\"in0\", \"out0\"): jnp.array(3.0)}\n",
        "assert is_model(good_model)\n",
        "\n",
        "def bad_model(positional_argument, x=jnp.array(3.0), y=jnp.array(4.0)) -> SDict:\n",
        "    return {(\"in0\", \"out0\"): jnp.array(3.0)}\n",
        "assert not is_model(bad_model)"
      ]
    },
    {
      "cell_type": "markdown",
      "id": "73b8c328b989dff3",
      "metadata": {},
      "source": [
        ":::{eval-rst}\n",
        ".. autofunction:: sax.typing_.is_model_factory\n",
        ":::\n"
      ]
    },
    {
      "cell_type": "code",
      "execution_count": 36,
      "id": "782750e6923200e5",
      "metadata": {
        "execution": {
          "iopub.execute_input": "2023-09-02T21:32:06.891593Z",
          "iopub.status.busy": "2023-09-02T21:32:06.891231Z",
          "iopub.status.idle": "2023-09-02T21:32:06.895397Z",
          "shell.execute_reply": "2023-09-02T21:32:06.894644Z"
        },
        "papermill": {
          "duration": 0.018685,
          "end_time": "2023-09-02T21:32:06.896847",
          "exception": false,
          "start_time": "2023-09-02T21:32:06.878162",
          "status": "completed"
        },
        "tags": [
          "hide-input"
        ]
      },
      "outputs": [],
      "source": [
        "def is_model_factory(model: Any) -> bool:\n",
        "    \"\"\"check if a callable is a model function.\"\"\"\n",
        "    if not callable(model):\n",
        "        return False\n",
        "    sig = inspect.signature(model)\n",
        "    if _is_callable_annotation(sig.return_annotation):  # model factory\n",
        "        return True\n",
        "    return False"
      ]
    },
    {
      "cell_type": "markdown",
      "id": "1f9715ed",
      "metadata": {
        "papermill": {
          "duration": 0.012087,
          "end_time": "2023-09-02T21:32:06.921254",
          "exception": false,
          "start_time": "2023-09-02T21:32:06.909167",
          "status": "completed"
        },
        "tags": []
      },
      "source": [
        "> Note: For a `Callable` to be considered a `ModelFactory` in SAX, it **MUST** have a `Callable` or `Model` return annotation. Otherwise SAX will view it as a `Model` and things might break!"
      ]
    },
    {
      "cell_type": "code",
      "execution_count": 37,
      "id": "fe9cdff0",
      "metadata": {
        "execution": {
          "iopub.execute_input": "2023-09-02T21:32:06.947167Z",
          "iopub.status.busy": "2023-09-02T21:32:06.946518Z",
          "iopub.status.idle": "2023-09-02T21:32:06.950137Z",
          "shell.execute_reply": "2023-09-02T21:32:06.949634Z"
        },
        "papermill": {
          "duration": 0.018014,
          "end_time": "2023-09-02T21:32:06.951433",
          "exception": false,
          "start_time": "2023-09-02T21:32:06.933419",
          "status": "completed"
        },
        "tags": []
      },
      "outputs": [],
      "source": [
        "def func() -> Model:\n",
        "    ...\n",
        "    \n",
        "assert is_model_factory(func) # yes, we only check the annotation for now...\n",
        "\n",
        "def func():\n",
        "    ...\n",
        "    \n",
        "assert not is_model_factory(func) # yes, we only check the annotation for now..."
      ]
    },
    {
      "cell_type": "markdown",
      "id": "43bef14947cb2ebc",
      "metadata": {},
      "source": [
        ":::{eval-rst}\n",
        ".. autofunction:: sax.typing_.validate_model\n",
        ":::\n"
      ]
    },
    {
      "cell_type": "code",
      "execution_count": 38,
      "id": "92f861be21651ff3",
      "metadata": {
        "execution": {
          "iopub.execute_input": "2023-09-02T21:32:06.978933Z",
          "iopub.status.busy": "2023-09-02T21:32:06.978198Z",
          "iopub.status.idle": "2023-09-02T21:32:06.982434Z",
          "shell.execute_reply": "2023-09-02T21:32:06.981976Z"
        },
        "papermill": {
          "duration": 0.019794,
          "end_time": "2023-09-02T21:32:06.983772",
          "exception": false,
          "start_time": "2023-09-02T21:32:06.963978",
          "status": "completed"
        },
        "tags": [
          "hide-input"
        ]
      },
      "outputs": [],
      "source": [
        "def validate_model(model: Callable):\n",
        "    \"\"\"Validate the parameters of a model\"\"\"\n",
        "    positional_arguments = []\n",
        "    for param in inspect.signature(model).parameters.values():\n",
        "        if param.default is inspect.Parameter.empty:\n",
        "            positional_arguments.append(param.name)\n",
        "    if positional_arguments:\n",
        "        raise ValueError(\n",
        "            f\"model '{model}' takes positional arguments {', '.join(positional_arguments)} \"\n",
        "            \"and hence is not a valid SAX Model! A SAX model should ONLY take keyword arguments (or no arguments at all).\"\n",
        "        )"
      ]
    },
    {
      "cell_type": "code",
      "execution_count": 39,
      "id": "754399d5",
      "metadata": {
        "execution": {
          "iopub.execute_input": "2023-09-02T21:32:07.010536Z",
          "iopub.status.busy": "2023-09-02T21:32:07.009703Z",
          "iopub.status.idle": "2023-09-02T21:32:07.015530Z",
          "shell.execute_reply": "2023-09-02T21:32:07.015023Z"
        },
        "papermill": {
          "duration": 0.020881,
          "end_time": "2023-09-02T21:32:07.016842",
          "exception": false,
          "start_time": "2023-09-02T21:32:06.995961",
          "status": "completed"
        },
        "tags": []
      },
      "outputs": [],
      "source": [
        "def good_model(x=jnp.array(3.0), y=jnp.array(4.0)) -> SDict:\n",
        "    return {(\"in0\", \"out0\"): jnp.array(3.0)}\n",
        "\n",
        "\n",
        "assert validate_model(good_model) is None"
      ]
    },
    {
      "cell_type": "code",
      "execution_count": 40,
      "id": "181c72fa",
      "metadata": {
        "execution": {
          "iopub.execute_input": "2023-09-02T21:32:07.043244Z",
          "iopub.status.busy": "2023-09-02T21:32:07.042444Z",
          "iopub.status.idle": "2023-09-02T21:32:07.048036Z",
          "shell.execute_reply": "2023-09-02T21:32:07.047534Z"
        },
        "papermill": {
          "duration": 0.0204,
          "end_time": "2023-09-02T21:32:07.049409",
          "exception": false,
          "start_time": "2023-09-02T21:32:07.029009",
          "status": "completed"
        },
        "tags": []
      },
      "outputs": [],
      "source": [
        "def bad_model(positional_argument, x=jnp.array(3.0), y=jnp.array(4.0)) -> SDict:\n",
        "    return {(\"in0\", \"out0\"): jnp.array(3.0)}\n",
        "\n",
        "\n",
        "with raises(ValueError):\n",
        "    validate_model(bad_model)"
      ]
    },
    {
      "cell_type": "markdown",
      "id": "3d2ef83f1e2771cd",
      "metadata": {},
      "source": [
        ":::{eval-rst}\n",
        ".. autofunction:: sax.typing_.is_stype\n",
        ":::\n"
      ]
    },
    {
      "cell_type": "code",
      "execution_count": 41,
      "id": "e5af9e5a63bfd030",
      "metadata": {
        "execution": {
          "iopub.execute_input": "2023-09-02T21:32:07.077023Z",
          "iopub.status.busy": "2023-09-02T21:32:07.076264Z",
          "iopub.status.idle": "2023-09-02T21:32:07.079797Z",
          "shell.execute_reply": "2023-09-02T21:32:07.079391Z"
        },
        "papermill": {
          "duration": 0.018761,
          "end_time": "2023-09-02T21:32:07.081115",
          "exception": false,
          "start_time": "2023-09-02T21:32:07.062354",
          "status": "completed"
        },
        "tags": [
          "hide-input"
        ]
      },
      "outputs": [],
      "source": [
        "def is_stype(stype: Any) -> bool:\n",
        "    \"\"\"check if an object is an SDict, SCoo or SDense\"\"\"\n",
        "    return is_sdict(stype) or is_scoo(stype) or is_sdense(stype)"
      ]
    },
    {
      "cell_type": "markdown",
      "id": "51d206d3fc2d829a",
      "metadata": {},
      "source": [
        ":::{eval-rst}\n",
        ".. autofunction:: sax.typing_.is_singlemode\n",
        ":::\n"
      ]
    },
    {
      "cell_type": "code",
      "execution_count": 42,
      "id": "997800de7eba2c4d",
      "metadata": {
        "execution": {
          "iopub.execute_input": "2023-09-02T21:32:07.108443Z",
          "iopub.status.busy": "2023-09-02T21:32:07.107752Z",
          "iopub.status.idle": "2023-09-02T21:32:07.112752Z",
          "shell.execute_reply": "2023-09-02T21:32:07.112326Z"
        },
        "papermill": {
          "duration": 0.020256,
          "end_time": "2023-09-02T21:32:07.114113",
          "exception": false,
          "start_time": "2023-09-02T21:32:07.093857",
          "status": "completed"
        },
        "tags": [
          "hide-input"
        ]
      },
      "outputs": [],
      "source": [
        "def is_singlemode(S: Any) -> bool:\n",
        "    \"\"\"check if an stype is single mode\"\"\"\n",
        "    if not is_stype(S):\n",
        "        return False\n",
        "    ports = _get_ports(S)\n",
        "    return not any((\"@\" in p) for p in ports)\n",
        "\n",
        "def _get_ports(S: SType):\n",
        "    if is_sdict(S):\n",
        "        S = cast(SDict, S)\n",
        "        ports_set = {p1 for p1, _ in S} | {p2 for _, p2 in S}\n",
        "        return tuple(natsorted(ports_set))\n",
        "    else:\n",
        "        *_, ports_map = S\n",
        "        assert isinstance(ports_map, dict)\n",
        "        return tuple(natsorted(ports_map.keys()))"
      ]
    },
    {
      "cell_type": "markdown",
      "id": "40ab0a3ef25b2e02",
      "metadata": {},
      "source": [
        ":::{eval-rst}\n",
        ".. autofunction:: sax.typing_.is_multimode\n",
        ":::\n"
      ]
    },
    {
      "cell_type": "code",
      "execution_count": 43,
      "id": "d949b058c3fedce4",
      "metadata": {
        "execution": {
          "iopub.execute_input": "2023-09-02T21:32:07.140329Z",
          "iopub.status.busy": "2023-09-02T21:32:07.139699Z",
          "iopub.status.idle": "2023-09-02T21:32:07.143274Z",
          "shell.execute_reply": "2023-09-02T21:32:07.142795Z"
        },
        "papermill": {
          "duration": 0.018321,
          "end_time": "2023-09-02T21:32:07.144725",
          "exception": false,
          "start_time": "2023-09-02T21:32:07.126404",
          "status": "completed"
        },
        "tags": [
          "hide-input"
        ]
      },
      "outputs": [],
      "source": [
        "def is_multimode(S: Any) -> bool:\n",
        "    \"\"\"check if an stype is single mode\"\"\"\n",
        "    if not is_stype(S):\n",
        "        return False\n",
        "    \n",
        "    ports = _get_ports(S)\n",
        "    return all((\"@\" in p) for p in ports)"
      ]
    },
    {
      "cell_type": "markdown",
      "id": "e99428ae63635272",
      "metadata": {},
      "source": [
        ":::{eval-rst}\n",
        ".. autofunction:: sax.typing_.is_mixedmode\n",
        ":::\n"
      ]
    },
    {
      "cell_type": "code",
      "execution_count": 44,
      "id": "00c67541371725f7",
      "metadata": {
        "execution": {
          "iopub.execute_input": "2023-09-02T21:32:07.171514Z",
          "iopub.status.busy": "2023-09-02T21:32:07.171261Z",
          "iopub.status.idle": "2023-09-02T21:32:07.175143Z",
          "shell.execute_reply": "2023-09-02T21:32:07.174621Z"
        },
        "papermill": {
          "duration": 0.01926,
          "end_time": "2023-09-02T21:32:07.176609",
          "exception": false,
          "start_time": "2023-09-02T21:32:07.157349",
          "status": "completed"
        },
        "tags": [
          "hide-input"
        ]
      },
      "outputs": [],
      "source": [
        "def is_mixedmode(S: Any) -> bool:\n",
        "    \"\"\"check if an stype is neither single mode nor multimode (hence invalid)\"\"\"\n",
        "    return not is_singlemode(S) and not is_multimode(S)"
      ]
    },
    {
      "cell_type": "markdown",
      "id": "3afe685c",
      "metadata": {
        "papermill": {
          "duration": 0.013036,
          "end_time": "2023-09-02T21:32:07.202825",
          "exception": false,
          "start_time": "2023-09-02T21:32:07.189789",
          "status": "completed"
        },
        "tags": []
      },
      "source": [
        "## SAX return type helpers\n",
        "\n",
        "> a.k.a SDict, SDense, SCoo helpers"
      ]
    },
    {
      "cell_type": "markdown",
      "id": "a875f149",
      "metadata": {
        "papermill": {
          "duration": 0.012447,
          "end_time": "2023-09-02T21:32:07.227709",
          "exception": false,
          "start_time": "2023-09-02T21:32:07.215262",
          "status": "completed"
        },
        "tags": []
      },
      "source": [
        "Convert an `SDict`, `SCoo` or `SDense` into an `SDict` (or convert a model generating any of these types into a model generating an `SDict`):"
      ]
    },
    {
      "cell_type": "code",
      "execution_count": 45,
      "id": "5e210ad312c1b788",
      "metadata": {
        "execution": {
          "iopub.execute_input": "2023-09-02T21:32:07.254441Z",
          "iopub.status.busy": "2023-09-02T21:32:07.253980Z",
          "iopub.status.idle": "2023-09-02T21:32:07.258208Z",
          "shell.execute_reply": "2023-09-02T21:32:07.257456Z"
        },
        "papermill": {
          "duration": 0.019723,
          "end_time": "2023-09-02T21:32:07.259867",
          "exception": false,
          "start_time": "2023-09-02T21:32:07.240144",
          "status": "completed"
        },
        "tags": [
          "remove-cell"
        ]
      },
      "outputs": [],
      "source": [
        "\n",
        "@overload\n",
        "def sdict(S: Model) -> Model:\n",
        "    ...\n",
        "\n",
        "\n",
        "@overload\n",
        "def sdict(S: SType) -> SDict:\n",
        "    ..."
      ]
    },
    {
      "cell_type": "markdown",
      "id": "56c9c61ab99cc358",
      "metadata": {},
      "source": [
        ":::{eval-rst}\n",
        ".. autofunction:: sax.typing_.sdict\n",
        ":::\n"
      ]
    },
    {
      "cell_type": "code",
      "execution_count": 46,
      "id": "f65f7475891e5dd1",
      "metadata": {
        "execution": {
          "iopub.execute_input": "2023-09-02T21:32:07.287370Z",
          "iopub.status.busy": "2023-09-02T21:32:07.286566Z",
          "iopub.status.idle": "2023-09-02T21:32:07.297068Z",
          "shell.execute_reply": "2023-09-02T21:32:07.296557Z"
        },
        "papermill": {
          "duration": 0.025981,
          "end_time": "2023-09-02T21:32:07.298500",
          "exception": false,
          "start_time": "2023-09-02T21:32:07.272519",
          "status": "completed"
        },
        "tags": [
          "hide-input"
        ]
      },
      "outputs": [],
      "source": [
        "def sdict(S: Union[Model, SType]) -> Union[Model, SType]:\n",
        "    \"\"\"Convert an `SCoo` or `SDense` to `SDict`\"\"\"\n",
        "\n",
        "    if is_model(S):\n",
        "        model = cast(Model, S)\n",
        "\n",
        "        @functools.wraps(model)\n",
        "        def wrapper(**kwargs):\n",
        "            return sdict(model(**kwargs))\n",
        "\n",
        "        return wrapper\n",
        "\n",
        "    elif is_scoo(S):\n",
        "        x_dict = _scoo_to_sdict(*cast(SCoo, S))\n",
        "    elif is_sdense(S):\n",
        "        x_dict = _sdense_to_sdict(*cast(SDense, S))\n",
        "    elif is_sdict(S):\n",
        "        x_dict = cast(SDict, S)\n",
        "    else:\n",
        "        raise ValueError(\"Could not convert arguments to sdict.\")\n",
        "\n",
        "    return x_dict\n",
        "\n",
        "\n",
        "def _scoo_to_sdict(Si: Array, Sj: Array, Sx: Array, ports_map: Dict[str, int]) -> SDict:\n",
        "    sdict = {}\n",
        "    inverse_ports_map = {int(i): p for p, i in ports_map.items()}\n",
        "    for i, (si, sj) in enumerate(zip(Si, Sj)):\n",
        "        sdict[\n",
        "            inverse_ports_map.get(int(si), \"\"), inverse_ports_map.get(int(sj), \"\")\n",
        "        ] = Sx[..., i]\n",
        "    sdict = {(p1, p2): v for (p1, p2), v in sdict.items() if p1 and p2}\n",
        "    return sdict\n",
        "\n",
        "\n",
        "def _sdense_to_sdict(S: Array, ports_map: Dict[str, int]) -> SDict:\n",
        "    sdict = {}\n",
        "    for p1, i in ports_map.items():\n",
        "        for p2, j in ports_map.items():\n",
        "            sdict[p1, p2] = S[..., i, j]\n",
        "    return sdict"
      ]
    },
    {
      "cell_type": "code",
      "execution_count": 47,
      "id": "9a372fbf",
      "metadata": {
        "execution": {
          "iopub.execute_input": "2023-09-02T21:32:07.326259Z",
          "iopub.status.busy": "2023-09-02T21:32:07.325563Z",
          "iopub.status.idle": "2023-09-02T21:32:07.421507Z",
          "shell.execute_reply": "2023-09-02T21:32:07.420883Z"
        },
        "papermill": {
          "duration": 0.112326,
          "end_time": "2023-09-02T21:32:07.423820",
          "exception": false,
          "start_time": "2023-09-02T21:32:07.311494",
          "status": "completed"
        },
        "tags": []
      },
      "outputs": [],
      "source": [
        "assert sdict(_sdict) is _sdict\n",
        "assert sdict(_scoo) == {\n",
        "    (\"in0\", \"in0\"): 3.0,\n",
        "    (\"in1\", \"in0\"): 1.0,\n",
        "    (\"out0\", \"out0\"): 4.0,\n",
        "}\n",
        "assert sdict(_sdense) == {\n",
        "    (\"in0\", \"in0\"): 0.0,\n",
        "    (\"in0\", \"out0\"): 1.0,\n",
        "    (\"in0\", \"in1\"): 2.0,\n",
        "    (\"out0\", \"in0\"): 3.0,\n",
        "    (\"out0\", \"out0\"): 4.0,\n",
        "    (\"out0\", \"in1\"): 5.0,\n",
        "    (\"in1\", \"in0\"): 6.0,\n",
        "    (\"in1\", \"out0\"): 7.0,\n",
        "    (\"in1\", \"in1\"): 8.0,\n",
        "}"
      ]
    },
    {
      "cell_type": "markdown",
      "id": "492c5cdd",
      "metadata": {
        "papermill": {
          "duration": 0.012645,
          "end_time": "2023-09-02T21:32:07.449851",
          "exception": false,
          "start_time": "2023-09-02T21:32:07.437206",
          "status": "completed"
        },
        "tags": []
      },
      "source": [
        "Convert an `SDict`, `SCoo` or `SDense` into an `SCoo` (or convert a model generating any of these types into a model generating an `SCoo`):"
      ]
    },
    {
      "cell_type": "code",
      "execution_count": 48,
      "id": "c88b1e748dd38010",
      "metadata": {
        "execution": {
          "iopub.execute_input": "2023-09-02T21:32:07.476686Z",
          "iopub.status.busy": "2023-09-02T21:32:07.476270Z",
          "iopub.status.idle": "2023-09-02T21:32:07.480464Z",
          "shell.execute_reply": "2023-09-02T21:32:07.479734Z"
        },
        "papermill": {
          "duration": 0.019742,
          "end_time": "2023-09-02T21:32:07.482064",
          "exception": false,
          "start_time": "2023-09-02T21:32:07.462322",
          "status": "completed"
        },
        "tags": [
          "remove-cell"
        ]
      },
      "outputs": [],
      "source": [
        "\n",
        "@overload\n",
        "def scoo(S: Callable) -> Callable:\n",
        "    ...\n",
        "\n",
        "\n",
        "@overload\n",
        "def scoo(S: SType) -> SCoo:\n",
        "    ..."
      ]
    },
    {
      "cell_type": "markdown",
      "id": "7639e2f8930dd32c",
      "metadata": {},
      "source": [
        ":::{eval-rst}\n",
        ".. autofunction:: sax.typing_.scoo\n",
        ":::\n"
      ]
    },
    {
      "cell_type": "code",
      "execution_count": 49,
      "id": "9bc3ebfd6b7f28d2",
      "metadata": {
        "execution": {
          "iopub.execute_input": "2023-09-02T21:32:07.508930Z",
          "iopub.status.busy": "2023-09-02T21:32:07.508295Z",
          "iopub.status.idle": "2023-09-02T21:32:07.519662Z",
          "shell.execute_reply": "2023-09-02T21:32:07.519166Z"
        },
        "papermill": {
          "duration": 0.026621,
          "end_time": "2023-09-02T21:32:07.521043",
          "exception": false,
          "start_time": "2023-09-02T21:32:07.494422",
          "status": "completed"
        },
        "tags": [
          "hide-input"
        ]
      },
      "outputs": [],
      "source": [
        "\n",
        "def scoo(S: Union[Callable, SType]) -> Union[Callable, SCoo]:\n",
        "    \"\"\"Convert an `SDict` or `SDense` to `SCoo`\"\"\"\n",
        "\n",
        "    if is_model(S):\n",
        "        model = cast(Model, S)\n",
        "\n",
        "        @functools.wraps(model)\n",
        "        def wrapper(**kwargs):\n",
        "            return scoo(model(**kwargs))\n",
        "\n",
        "        return wrapper\n",
        "\n",
        "    elif is_scoo(S):\n",
        "        S = cast(SCoo, S)\n",
        "    elif is_sdense(S):\n",
        "        S = _sdense_to_scoo(*cast(SDense, S))\n",
        "    elif is_sdict(S):\n",
        "        S = _sdict_to_scoo(cast(SDict, S))\n",
        "    else:\n",
        "        raise ValueError(\"Could not convert arguments to scoo.\")\n",
        "\n",
        "    return S\n",
        "\n",
        "def _consolidate_sdense(S, pm):\n",
        "    idxs = list(pm.values())\n",
        "    S = S[..., idxs, :][..., :, idxs]\n",
        "    pm = {p: i for i, p in enumerate(pm)}\n",
        "    return S, pm\n",
        "\n",
        "def _sdense_to_scoo(S: Array, ports_map: Dict[str, int]) -> SCoo:\n",
        "    S, ports_map = _consolidate_sdense(S, ports_map)\n",
        "    Sj, Si = jnp.meshgrid(jnp.arange(S.shape[-1]), jnp.arange(S.shape[-2]))\n",
        "    return Si.ravel(), Sj.ravel(), S.reshape(*S.shape[:-2], -1), ports_map\n",
        "\n",
        "\n",
        "def _sdict_to_scoo(sdict: SDict) -> SCoo:\n",
        "    all_ports = {}\n",
        "    for p1, p2 in sdict:\n",
        "        all_ports[p1] = None\n",
        "        all_ports[p2] = None\n",
        "    ports_map = {p: i for i, p in enumerate(all_ports)}\n",
        "    Sx = jnp.stack(jnp.broadcast_arrays(*sdict.values()), -1)\n",
        "    Si = jnp.array([ports_map[p] for p, _ in sdict])\n",
        "    Sj = jnp.array([ports_map[p] for _, p in sdict])\n",
        "    return Si, Sj, Sx, ports_map"
      ]
    },
    {
      "cell_type": "code",
      "execution_count": 50,
      "id": "2e409185-a9f6-4ea9-af09-1c184557f02d",
      "metadata": {
        "execution": {
          "iopub.execute_input": "2023-09-02T21:32:07.548216Z",
          "iopub.status.busy": "2023-09-02T21:32:07.547662Z",
          "iopub.status.idle": "2023-09-02T21:32:07.700954Z",
          "shell.execute_reply": "2023-09-02T21:32:07.700308Z"
        },
        "papermill": {
          "duration": 0.17028,
          "end_time": "2023-09-02T21:32:07.704311",
          "exception": false,
          "start_time": "2023-09-02T21:32:07.534031",
          "status": "completed"
        },
        "tags": []
      },
      "outputs": [
        {
          "data": {
            "text/plain": [
              "(Array([0, 0, 0, 1, 1, 1, 2, 2, 2], dtype=int32),\n",
              " Array([0, 1, 2, 0, 1, 2, 0, 1, 2], dtype=int32),\n",
              " Array([0., 2., 1., 6., 8., 7., 3., 5., 4.], dtype=float32),\n",
              " {'in0': 0, 'in1': 1, 'out0': 2})"
            ]
          },
          "execution_count": 50,
          "metadata": {},
          "output_type": "execute_result"
        }
      ],
      "source": [
        "scoo(_sdense)"
      ]
    },
    {
      "cell_type": "code",
      "execution_count": 51,
      "id": "1e97b31c",
      "metadata": {
        "execution": {
          "iopub.execute_input": "2023-09-02T21:32:07.734989Z",
          "iopub.status.busy": "2023-09-02T21:32:07.734347Z",
          "iopub.status.idle": "2023-09-02T21:32:07.797567Z",
          "shell.execute_reply": "2023-09-02T21:32:07.796996Z"
        },
        "papermill": {
          "duration": 0.079751,
          "end_time": "2023-09-02T21:32:07.799505",
          "exception": false,
          "start_time": "2023-09-02T21:32:07.719754",
          "status": "completed"
        },
        "tags": []
      },
      "outputs": [],
      "source": [
        "assert scoo(_scoo) is _scoo\n",
        "assert scoo(_sdict) == (0, 1, 3.0, {\"in0\": 0, \"out0\": 1})\n",
        "Si, Sj, Sx, port_map = scoo(_sdense)  # type: ignore\n",
        "np.testing.assert_array_equal(Si, jnp.array([0, 0, 0, 1, 1, 1, 2, 2, 2]))\n",
        "np.testing.assert_array_equal(Sj, jnp.array([0, 1, 2, 0, 1, 2, 0, 1, 2]))\n",
        "np.testing.assert_array_almost_equal(Sx, jnp.array([0.0, 2.0, 1.0, 6.0, 8.0, 7.0, 3.0, 5.0, 4.0]))\n",
        "assert port_map == {\"in0\": 0, \"in1\": 1, \"out0\": 2}"
      ]
    },
    {
      "cell_type": "markdown",
      "id": "5e58325b",
      "metadata": {
        "papermill": {
          "duration": 0.012826,
          "end_time": "2023-09-02T21:32:07.825515",
          "exception": false,
          "start_time": "2023-09-02T21:32:07.812689",
          "status": "completed"
        },
        "tags": []
      },
      "source": [
        "Convert an `SDict`, `SCoo` or `SDense` into an `SDense` (or convert a model generating any of these types into a model generating an `SDense`):"
      ]
    },
    {
      "cell_type": "code",
      "execution_count": 52,
      "id": "fca4cddd353bc7b7",
      "metadata": {
        "execution": {
          "iopub.execute_input": "2023-09-02T21:32:07.853921Z",
          "iopub.status.busy": "2023-09-02T21:32:07.853167Z",
          "iopub.status.idle": "2023-09-02T21:32:07.857830Z",
          "shell.execute_reply": "2023-09-02T21:32:07.857208Z"
        },
        "papermill": {
          "duration": 0.020391,
          "end_time": "2023-09-02T21:32:07.859302",
          "exception": false,
          "start_time": "2023-09-02T21:32:07.838911",
          "status": "completed"
        },
        "tags": [
          "remove-cell"
        ]
      },
      "outputs": [],
      "source": [
        "\n",
        "@overload\n",
        "def sdense(S: Callable) -> Callable:\n",
        "    ...\n",
        "\n",
        "\n",
        "@overload\n",
        "def sdense(S: SType) -> SDense:\n",
        "    ..."
      ]
    },
    {
      "cell_type": "markdown",
      "id": "bf69130cbe59ce2f",
      "metadata": {},
      "source": [
        ":::{eval-rst}\n",
        ".. autofunction:: sax.typing_.sdense\n",
        ":::\n"
      ]
    },
    {
      "cell_type": "code",
      "execution_count": 53,
      "id": "0ae30fb8c6e4e0a0",
      "metadata": {
        "execution": {
          "iopub.execute_input": "2023-09-02T21:32:07.887888Z",
          "iopub.status.busy": "2023-09-02T21:32:07.887138Z",
          "iopub.status.idle": "2023-09-02T21:32:07.894102Z",
          "shell.execute_reply": "2023-09-02T21:32:07.893635Z"
        },
        "papermill": {
          "duration": 0.022749,
          "end_time": "2023-09-02T21:32:07.895448",
          "exception": false,
          "start_time": "2023-09-02T21:32:07.872699",
          "status": "completed"
        },
        "tags": [
          "hide-input"
        ]
      },
      "outputs": [],
      "source": [
        "\n",
        "def sdense(S: Union[Callable, SType]) -> Union[Callable, SDense]:\n",
        "    \"\"\"Convert an `SDict` or `SCoo` to `SDense`\"\"\"\n",
        "\n",
        "    if is_model(S):\n",
        "        model = cast(Model, S)\n",
        "\n",
        "        @functools.wraps(model)\n",
        "        def wrapper(**kwargs):\n",
        "            return sdense(model(**kwargs))\n",
        "\n",
        "        return wrapper\n",
        "\n",
        "    if is_sdict(S):\n",
        "        S = _sdict_to_sdense(cast(SDict, S))\n",
        "    elif is_scoo(S):\n",
        "        S = _scoo_to_sdense(*cast(SCoo, S))\n",
        "    elif is_sdense(S):\n",
        "        S = cast(SDense, S)\n",
        "    else:\n",
        "        raise ValueError(\"Could not convert arguments to sdense.\")\n",
        "\n",
        "    return S\n",
        "\n",
        "\n",
        "def _scoo_to_sdense(\n",
        "    Si: Array, Sj: Array, Sx: Array, ports_map: Dict[str, int]\n",
        ") -> SDense:\n",
        "    n_col = len(ports_map)\n",
        "    S = jnp.zeros((*Sx.shape[:-1], n_col, n_col), dtype=complex)\n",
        "    if JAX_AVAILABLE:\n",
        "        S = S.at[..., Si, Sj].add(Sx)\n",
        "    else:\n",
        "        S[..., Si, Sj] = Sx\n",
        "    return S, ports_map\n",
        "\n",
        "def _sdict_to_sdense(sdict: SDict) -> SDense:\n",
        "    Si, Sj, Sx, ports_map = _sdict_to_scoo(sdict)\n",
        "    return _scoo_to_sdense(Si, Sj, Sx, ports_map)"
      ]
    },
    {
      "cell_type": "code",
      "execution_count": 54,
      "id": "084b7ddb",
      "metadata": {
        "execution": {
          "iopub.execute_input": "2023-09-02T21:32:07.923134Z",
          "iopub.status.busy": "2023-09-02T21:32:07.922437Z",
          "iopub.status.idle": "2023-09-02T21:32:08.010457Z",
          "shell.execute_reply": "2023-09-02T21:32:08.009741Z"
        },
        "papermill": {
          "duration": 0.104452,
          "end_time": "2023-09-02T21:32:08.012595",
          "exception": false,
          "start_time": "2023-09-02T21:32:07.908143",
          "status": "completed"
        },
        "tags": []
      },
      "outputs": [],
      "source": [
        "assert sdense(_sdense) is _sdense\n",
        "Sd, port_map = sdense(_scoo)  # type: ignore\n",
        "Sd_ = jnp.array([[3.0 + 0.0j, 0.0 + 0.0j, 0.0 + 0.0j],\n",
        "                 [0.0 + 0.0j, 4.0 + 0.0j, 0.0 + 0.0j],\n",
        "                 [1.0 + 0.0j, 0.0 + 0.0j, 0.0 + 0.0j]])\n",
        "\n",
        "np.testing.assert_array_almost_equal(Sd, Sd_)\n",
        "assert port_map == {\"in0\": 0, \"in1\": 2, \"out0\": 1}"
      ]
    },
    {
      "cell_type": "markdown",
      "id": "5fae5e631b2d4eb4",
      "metadata": {},
      "source": [
        ":::{eval-rst}\n",
        ".. autofunction:: sax.typing_.modelfactory\n",
        ":::\n"
      ]
    },
    {
      "cell_type": "code",
      "execution_count": 55,
      "id": "845ccded91f71190",
      "metadata": {
        "execution": {
          "iopub.execute_input": "2023-09-02T21:32:08.041355Z",
          "iopub.status.busy": "2023-09-02T21:32:08.040570Z",
          "iopub.status.idle": "2023-09-02T21:32:08.044541Z",
          "shell.execute_reply": "2023-09-02T21:32:08.044135Z"
        },
        "papermill": {
          "duration": 0.020164,
          "end_time": "2023-09-02T21:32:08.045918",
          "exception": false,
          "start_time": "2023-09-02T21:32:08.025754",
          "status": "completed"
        },
        "tags": [
          "hide-input"
        ]
      },
      "outputs": [],
      "source": [
        "\n",
        "def modelfactory(func):\n",
        "    \"\"\"Decorator that marks a function as `ModelFactory`\"\"\"\n",
        "    sig = inspect.signature(func)\n",
        "    if _is_callable_annotation(sig.return_annotation):  # already model factory\n",
        "        return func\n",
        "    func.__signature__ = sig.replace(return_annotation=Model)\n",
        "    return func"
      ]
    }
  ],
  "metadata": {
    "kernelspec": {
      "display_name": "sax",
      "language": "python",
      "name": "sax"
    },
    "language_info": {
      "codemirror_mode": {
        "name": "ipython",
        "version": 3
      },
      "file_extension": ".py",
      "mimetype": "text/x-python",
      "name": "python",
      "nbconvert_exporter": "python",
      "pygments_lexer": "ipython3",
      "version": "3.11.5"
    },
    "papermill": {
      "default_parameters": {},
      "duration": 5.916531,
      "end_time": "2023-09-02T21:32:08.477414",
      "environment_variables": {},
      "exception": null,
      "input_path": "./internals/00_typing.ipynb",
      "output_path": "./internals/00_typing.ipynb",
      "parameters": {},
      "start_time": "2023-09-02T21:32:02.560883",
      "version": "2.4.0"
    }
  },
  "nbformat": 4,
  "nbformat_minor": 5
}