{
  "cells": [
    {
      "cell_type": "code",
      "execution_count": 1,
      "id": "f4428e561719d8e1",
      "metadata": {
        "execution": {
          "iopub.execute_input": "2023-09-02T21:30:14.438414Z",
          "iopub.status.busy": "2023-09-02T21:30:14.437770Z",
          "iopub.status.idle": "2023-09-02T21:30:14.442411Z",
          "shell.execute_reply": "2023-09-02T21:30:14.441620Z"
        },
        "papermill": {
          "duration": 0.011309,
          "end_time": "2023-09-02T21:30:14.444257",
          "exception": false,
          "start_time": "2023-09-02T21:30:14.432948",
          "status": "completed"
        },
        "tags": [
          "remove-cell"
        ]
      },
      "outputs": [],
      "source": []
    },
    {
      "cell_type": "markdown",
      "id": "a0489f95",
      "metadata": {
        "papermill": {
          "duration": 0.002691,
          "end_time": "2023-09-02T21:30:14.449641",
          "exception": false,
          "start_time": "2023-09-02T21:30:14.446950",
          "status": "completed"
        },
        "tags": []
      },
      "source": [
        "# IO\n",
        "\n",
        "> IO Utilitites for SAX neural networks"
      ]
    },
    {
      "cell_type": "code",
      "execution_count": 2,
      "id": "dc24fd64807b638d",
      "metadata": {
        "execution": {
          "iopub.execute_input": "2023-09-02T21:30:14.456089Z",
          "iopub.status.busy": "2023-09-02T21:30:14.455426Z",
          "iopub.status.idle": "2023-09-02T21:30:15.041106Z",
          "shell.execute_reply": "2023-09-02T21:30:15.040555Z"
        },
        "papermill": {
          "duration": 0.591011,
          "end_time": "2023-09-02T21:30:15.042957",
          "exception": false,
          "start_time": "2023-09-02T21:30:14.451946",
          "status": "completed"
        },
        "tags": [
          "remove-cell"
        ]
      },
      "outputs": [],
      "source": [
        "import matplotlib.pyplot as plt\n",
        "from fastcore.test import test_eq\n",
        "from pytest import approx, raises\n",
        "\n",
        "import os, sys; sys.stderr = open(os.devnull, \"w\")"
      ]
    },
    {
      "cell_type": "code",
      "execution_count": 3,
      "id": "54e09ba16e4f2e6e",
      "metadata": {
        "execution": {
          "iopub.execute_input": "2023-09-02T21:30:15.050279Z",
          "iopub.status.busy": "2023-09-02T21:30:15.049456Z",
          "iopub.status.idle": "2023-09-02T21:30:16.658064Z",
          "shell.execute_reply": "2023-09-02T21:30:16.657462Z"
        },
        "papermill": {
          "duration": 1.614366,
          "end_time": "2023-09-02T21:30:16.659898",
          "exception": false,
          "start_time": "2023-09-02T21:30:15.045532",
          "status": "completed"
        },
        "tags": [
          "hide-input"
        ]
      },
      "outputs": [],
      "source": [
        "from __future__ import annotations\n",
        "\n",
        "import json\n",
        "import os\n",
        "import re\n",
        "from typing import Callable, Dict, List, Optional, Tuple\n",
        "\n",
        "import jax.numpy as jnp\n",
        "from sax.nn.core import dense, preprocess\n",
        "from sax.nn.utils import norm\n",
        "from sax.typing_ import ComplexFloat"
      ]
    },
    {
      "cell_type": "markdown",
      "id": "bbc08555373e0e12",
      "metadata": {},
      "source": [
        ":::{eval-rst}\n",
        ".. autofunction:: sax.nn.io.load_nn_weights_json\n",
        ":::\n"
      ]
    },
    {
      "cell_type": "code",
      "execution_count": 4,
      "id": "ae783d2c3d3bf150",
      "metadata": {
        "execution": {
          "iopub.execute_input": "2023-09-02T21:30:16.667729Z",
          "iopub.status.busy": "2023-09-02T21:30:16.666661Z",
          "iopub.status.idle": "2023-09-02T21:30:16.672244Z",
          "shell.execute_reply": "2023-09-02T21:30:16.671594Z"
        },
        "papermill": {
          "duration": 0.011131,
          "end_time": "2023-09-02T21:30:16.673662",
          "exception": false,
          "start_time": "2023-09-02T21:30:16.662531",
          "status": "completed"
        },
        "tags": [
          "hide-input"
        ]
      },
      "outputs": [],
      "source": [
        "\n",
        "def load_nn_weights_json(path: str) -> Dict[str, ComplexFloat]:\n",
        "    \"\"\"Load json weights from given path\"\"\"\n",
        "    path = os.path.abspath(os.path.expanduser(path))\n",
        "    weights = {}\n",
        "    if os.path.exists(path):\n",
        "        with open(path, \"r\") as file:\n",
        "            for k, v in json.load(file).items():\n",
        "                _v = jnp.array(v, dtype=float)\n",
        "                assert isinstance(_v, jnp.ndarray)\n",
        "                weights[k] = _v\n",
        "    return weights"
      ]
    },
    {
      "cell_type": "markdown",
      "id": "604134d3f7756461",
      "metadata": {},
      "source": [
        ":::{eval-rst}\n",
        ".. autofunction:: sax.nn.io.save_nn_weights_json\n",
        ":::\n"
      ]
    },
    {
      "cell_type": "code",
      "execution_count": 5,
      "id": "53fe68bcc21e86ca",
      "metadata": {
        "execution": {
          "iopub.execute_input": "2023-09-02T21:30:16.679791Z",
          "iopub.status.busy": "2023-09-02T21:30:16.679313Z",
          "iopub.status.idle": "2023-09-02T21:30:16.684285Z",
          "shell.execute_reply": "2023-09-02T21:30:16.683850Z"
        },
        "papermill": {
          "duration": 0.009915,
          "end_time": "2023-09-02T21:30:16.685891",
          "exception": false,
          "start_time": "2023-09-02T21:30:16.675976",
          "status": "completed"
        },
        "tags": [
          "hide-input"
        ]
      },
      "outputs": [],
      "source": [
        "def save_nn_weights_json(weights: Dict[str, ComplexFloat], path: str):\n",
        "    \"\"\"Save json weights to given path\"\"\"\n",
        "    path = os.path.abspath(os.path.expanduser(path))\n",
        "    os.makedirs(os.path.dirname(path), exist_ok=True)\n",
        "    with open(path, \"w\") as file:\n",
        "        _weights = {}\n",
        "        for k, v in weights.items():\n",
        "            v = jnp.atleast_1d(jnp.array(v))\n",
        "            assert isinstance(v, jnp.ndarray)\n",
        "            _weights[k] = v.tolist()\n",
        "        json.dump(_weights, file)"
      ]
    },
    {
      "cell_type": "markdown",
      "id": "1286f3b249ec26b6",
      "metadata": {},
      "source": [
        ":::{eval-rst}\n",
        ".. autofunction:: sax.nn.io.get_available_sizes\n",
        ":::\n"
      ]
    },
    {
      "cell_type": "code",
      "execution_count": 6,
      "id": "77f6a698166d1d90",
      "metadata": {
        "execution": {
          "iopub.execute_input": "2023-09-02T21:30:16.691994Z",
          "iopub.status.busy": "2023-09-02T21:30:16.691432Z",
          "iopub.status.idle": "2023-09-02T21:30:16.698895Z",
          "shell.execute_reply": "2023-09-02T21:30:16.698378Z"
        },
        "papermill": {
          "duration": 0.01221,
          "end_time": "2023-09-02T21:30:16.700434",
          "exception": false,
          "start_time": "2023-09-02T21:30:16.688224",
          "status": "completed"
        },
        "tags": [
          "hide-input"
        ]
      },
      "outputs": [],
      "source": [
        "def get_available_sizes(\n",
        "    dirpath: str,\n",
        "    prefix: str,\n",
        "    input_names: Tuple[str, ...],\n",
        "    output_names: Tuple[str, ...],\n",
        ") -> List[Tuple[int, ...]]:\n",
        "    \"\"\"Get all available json weight hidden sizes given filename parameters\n",
        "\n",
        "    > Note: this function does NOT return the input size and the output size \n",
        "      of the neural network. ONLY the hidden sizes are reported. The input \n",
        "      and output sizes can easily be derived from `input_names` (after \n",
        "      preprocessing) and `output_names`.\n",
        "    \"\"\"\n",
        "    all_weightfiles = os.listdir(dirpath)\n",
        "    possible_weightfiles = (\n",
        "        s for s in all_weightfiles if s.endswith(f\"-{'-'.join(output_names)}.json\")\n",
        "    )\n",
        "    possible_weightfiles = (\n",
        "        s\n",
        "        for s in possible_weightfiles\n",
        "        if s.startswith(f\"{prefix}-{'-'.join(input_names)}\")\n",
        "    )\n",
        "    possible_weightfiles = (re.sub(\"[^0-9x]\", \"\", s) for s in possible_weightfiles)\n",
        "    possible_weightfiles = (re.sub(\"^x*\", \"\", s) for s in possible_weightfiles)\n",
        "    possible_weightfiles = (re.sub(\"x[^0-9]*$\", \"\", s) for s in possible_weightfiles)\n",
        "    possible_hidden_sizes = (s.strip() for s in possible_weightfiles if s.strip())\n",
        "    possible_hidden_sizes = (\n",
        "        tuple(hs.strip() for hs in s.split(\"x\") if hs.strip())\n",
        "        for s in possible_hidden_sizes\n",
        "    )\n",
        "    possible_hidden_sizes = (\n",
        "        tuple(int(hs) for hs in s[1:-1]) for s in possible_hidden_sizes if len(s) > 2\n",
        "    )\n",
        "    possible_hidden_sizes = sorted(\n",
        "        possible_hidden_sizes, key=lambda hs: (len(hs), max(hs))\n",
        "    )\n",
        "    return possible_hidden_sizes"
      ]
    },
    {
      "cell_type": "markdown",
      "id": "d3971d450cef2c32",
      "metadata": {},
      "source": [
        ":::{eval-rst}\n",
        ".. autofunction:: sax.nn.io.get_dense_weights_path\n",
        ":::\n"
      ]
    },
    {
      "cell_type": "code",
      "execution_count": 7,
      "id": "0eff5f7e902cbab4",
      "metadata": {
        "execution": {
          "iopub.execute_input": "2023-09-02T21:30:16.708349Z",
          "iopub.status.busy": "2023-09-02T21:30:16.707568Z",
          "iopub.status.idle": "2023-09-02T21:30:16.716280Z",
          "shell.execute_reply": "2023-09-02T21:30:16.715447Z"
        },
        "papermill": {
          "duration": 0.01489,
          "end_time": "2023-09-02T21:30:16.717958",
          "exception": false,
          "start_time": "2023-09-02T21:30:16.703068",
          "status": "completed"
        },
        "tags": [
          "hide-input"
        ]
      },
      "outputs": [],
      "source": [
        "\n",
        "def get_dense_weights_path(\n",
        "    *sizes: int,\n",
        "    input_names: Optional[Tuple[str, ...]] = None,\n",
        "    output_names: Optional[Tuple[str, ...]] = None,\n",
        "    dirpath: str = \"weights\",\n",
        "    prefix: str = \"dense\",\n",
        "    preprocess=preprocess,\n",
        "):\n",
        "    \"\"\"Create the SAX conventional path for a given weight dictionary\"\"\"\n",
        "    if input_names:\n",
        "        num_inputs = preprocess(*jnp.ones(len(input_names))).shape[0]\n",
        "        sizes = (num_inputs,) + sizes\n",
        "    if output_names:\n",
        "        sizes = sizes + (len(output_names),)\n",
        "    path = os.path.abspath(os.path.join(dirpath, prefix))\n",
        "    if input_names:\n",
        "        path = f\"{path}-{'-'.join(input_names)}\"\n",
        "    if sizes:\n",
        "        path = f\"{path}-{'x'.join(str(s) for s in sizes)}\"\n",
        "    if output_names:\n",
        "        path = f\"{path}-{'-'.join(output_names)}\"\n",
        "    return f\"{path}.json\""
      ]
    },
    {
      "cell_type": "markdown",
      "id": "8cbd846e65d57207",
      "metadata": {},
      "source": [
        ":::{eval-rst}\n",
        ".. autofunction:: sax.nn.io.get_norm_path\n",
        ":::\n"
      ]
    },
    {
      "cell_type": "code",
      "execution_count": 8,
      "id": "d276efc6ee82a313",
      "metadata": {
        "execution": {
          "iopub.execute_input": "2023-09-02T21:30:16.724363Z",
          "iopub.status.busy": "2023-09-02T21:30:16.723880Z",
          "iopub.status.idle": "2023-09-02T21:30:16.729491Z",
          "shell.execute_reply": "2023-09-02T21:30:16.728997Z"
        },
        "papermill": {
          "duration": 0.010584,
          "end_time": "2023-09-02T21:30:16.731122",
          "exception": false,
          "start_time": "2023-09-02T21:30:16.720538",
          "status": "completed"
        },
        "tags": [
          "hide-input"
        ]
      },
      "outputs": [],
      "source": [
        "\n",
        "def get_norm_path(\n",
        "    *shape: int,\n",
        "    input_names: Optional[Tuple[str, ...]] = None,\n",
        "    output_names: Optional[Tuple[str, ...]] = None,\n",
        "    dirpath: str = \"norms\",\n",
        "    prefix: str = \"norm\",\n",
        "    preprocess=preprocess,\n",
        "):\n",
        "    \"\"\"Create the SAX conventional path for the normalization constants\"\"\"\n",
        "    if input_names and output_names:\n",
        "        raise ValueError(\n",
        "            \"To get the norm name, one can only specify `input_names` OR `output_names`.\"\n",
        "        )\n",
        "    if input_names:\n",
        "        num_inputs = preprocess(*jnp.ones(len(input_names))).shape[0]\n",
        "        shape = (num_inputs,) + shape\n",
        "    if output_names:\n",
        "        shape = shape + (len(output_names),)\n",
        "    path = os.path.abspath(os.path.join(dirpath, prefix))\n",
        "    if input_names:\n",
        "        path = f\"{path}-{'-'.join(input_names)}\"\n",
        "    if shape:\n",
        "        path = f\"{path}-{'x'.join(str(s) for s in shape)}\"\n",
        "    if output_names:\n",
        "        path = f\"{path}-{'-'.join(output_names)}\"\n",
        "    return f\"{path}.json\""
      ]
    },
    {
      "cell_type": "code",
      "execution_count": 9,
      "id": "5aa30a947007e293",
      "metadata": {
        "execution": {
          "iopub.execute_input": "2023-09-02T21:30:16.739028Z",
          "iopub.status.busy": "2023-09-02T21:30:16.738401Z",
          "iopub.status.idle": "2023-09-02T21:30:16.744521Z",
          "shell.execute_reply": "2023-09-02T21:30:16.742545Z"
        },
        "papermill": {
          "duration": 0.012667,
          "end_time": "2023-09-02T21:30:16.746183",
          "exception": false,
          "start_time": "2023-09-02T21:30:16.733516",
          "status": "completed"
        },
        "tags": [
          "remove-cell"
        ]
      },
      "outputs": [],
      "source": [
        "class _PartialDense:\n",
        "    def __init__(self, weights, x_norm, y_norm, input_names, output_names):\n",
        "        self.weights = weights\n",
        "        self.x_norm = x_norm\n",
        "        self.y_norm = y_norm\n",
        "        self.input_names = input_names\n",
        "        self.output_names = output_names\n",
        "\n",
        "    def __call__(self, *params: ComplexFloat) -> ComplexFloat:\n",
        "        return dense(self.weights, *params, x_norm=self.x_norm, y_norm=self.y_norm)\n",
        "\n",
        "    def __repr__(self):\n",
        "        return f\"{self.__class__.__name__}{repr(self.input_names)}->{repr(self.output_names)}\""
      ]
    },
    {
      "cell_type": "markdown",
      "id": "eb15af86120609c0",
      "metadata": {},
      "source": [
        ":::{eval-rst}\n",
        ".. autofunction:: sax.nn.io.load_nn_dense\n",
        ":::\n"
      ]
    },
    {
      "cell_type": "code",
      "execution_count": 10,
      "id": "f3002f115cff266e",
      "metadata": {
        "execution": {
          "iopub.execute_input": "2023-09-02T21:30:16.753868Z",
          "iopub.status.busy": "2023-09-02T21:30:16.753146Z",
          "iopub.status.idle": "2023-09-02T21:30:16.759930Z",
          "shell.execute_reply": "2023-09-02T21:30:16.759476Z"
        },
        "papermill": {
          "duration": 0.011522,
          "end_time": "2023-09-02T21:30:16.761337",
          "exception": false,
          "start_time": "2023-09-02T21:30:16.749815",
          "status": "completed"
        },
        "tags": [
          "hide-input"
        ]
      },
      "outputs": [],
      "source": [
        "def load_nn_dense(\n",
        "    *sizes: int,\n",
        "    input_names: Optional[Tuple[str, ...]] = None,\n",
        "    output_names: Optional[Tuple[str, ...]] = None,\n",
        "    weightprefix=\"dense\",\n",
        "    weightdirpath=\"weights\",\n",
        "    normdirpath=\"norms\",\n",
        "    normprefix=\"norm\",\n",
        "    preprocess=preprocess,\n",
        ") -> Callable:\n",
        "    \"\"\"Load a pre-trained dense model\"\"\"\n",
        "    weights_path = get_dense_weights_path(\n",
        "        *sizes,\n",
        "        input_names=input_names,\n",
        "        output_names=output_names,\n",
        "        prefix=weightprefix,\n",
        "        dirpath=weightdirpath,\n",
        "        preprocess=preprocess,\n",
        "    )\n",
        "    if not os.path.exists(weights_path):\n",
        "        raise ValueError(\"Cannot find weights path for given parameters\")\n",
        "    x_norm_path = get_norm_path(\n",
        "        input_names=input_names,\n",
        "        prefix=normprefix,\n",
        "        dirpath=normdirpath,\n",
        "        preprocess=preprocess,\n",
        "    )\n",
        "    if not os.path.exists(x_norm_path):\n",
        "        raise ValueError(\"Cannot find normalization for input parameters\")\n",
        "    y_norm_path = get_norm_path(\n",
        "        output_names=output_names,\n",
        "        prefix=normprefix,\n",
        "        dirpath=normdirpath,\n",
        "        preprocess=preprocess,\n",
        "    )\n",
        "    if not os.path.exists(x_norm_path):\n",
        "        raise ValueError(\"Cannot find normalization for output parameters\")\n",
        "    weights = load_nn_weights_json(weights_path)\n",
        "    x_norm_dict = load_nn_weights_json(x_norm_path)\n",
        "    y_norm_dict = load_nn_weights_json(y_norm_path)\n",
        "    x_norm = norm(x_norm_dict[\"mean\"], x_norm_dict[\"std\"])\n",
        "    y_norm = norm(y_norm_dict[\"mean\"], y_norm_dict[\"std\"])\n",
        "    partial_dense = _PartialDense(weights, x_norm, y_norm, input_names, output_names)\n",
        "    return partial_dense"
      ]
    }
  ],
  "metadata": {
    "kernelspec": {
      "display_name": "sax",
      "language": "python",
      "name": "sax"
    },
    "language_info": {
      "codemirror_mode": {
        "name": "ipython",
        "version": 3
      },
      "file_extension": ".py",
      "mimetype": "text/x-python",
      "name": "python",
      "nbconvert_exporter": "python",
      "pygments_lexer": "ipython3",
      "version": "3.11.5"
    },
    "papermill": {
      "default_parameters": {},
      "duration": 4.375471,
      "end_time": "2023-09-02T21:30:17.484107",
      "environment_variables": {},
      "exception": null,
      "input_path": "./internals/09d_nn_io.ipynb",
      "output_path": "./internals/09d_nn_io.ipynb",
      "parameters": {},
      "start_time": "2023-09-02T21:30:13.108636",
      "version": "2.4.0"
    }
  },
  "nbformat": 4,
  "nbformat_minor": 5
}