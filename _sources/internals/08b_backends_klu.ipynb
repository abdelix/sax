{
  "cells": [
    {
      "cell_type": "code",
      "execution_count": 1,
      "id": "77c2f26fbb8fa5d7",
      "metadata": {
        "execution": {
          "iopub.execute_input": "2023-09-02T21:31:33.534921Z",
          "iopub.status.busy": "2023-09-02T21:31:33.533737Z",
          "iopub.status.idle": "2023-09-02T21:31:33.539259Z",
          "shell.execute_reply": "2023-09-02T21:31:33.538439Z"
        },
        "papermill": {
          "duration": 0.060601,
          "end_time": "2023-09-02T21:31:33.540695",
          "exception": false,
          "start_time": "2023-09-02T21:31:33.480094",
          "status": "completed"
        },
        "tags": [
          "remove-cell"
        ]
      },
      "outputs": [],
      "source": []
    },
    {
      "cell_type": "markdown",
      "id": "27c3489e",
      "metadata": {
        "papermill": {
          "duration": 0.012895,
          "end_time": "2023-09-02T21:31:33.567201",
          "exception": false,
          "start_time": "2023-09-02T21:31:33.554306",
          "status": "completed"
        },
        "tags": []
      },
      "source": [
        "# Backend - KLU\n",
        "\n",
        "> SAX KLU Backend"
      ]
    },
    {
      "cell_type": "code",
      "execution_count": 2,
      "id": "fa33ed15f7dbcbd2",
      "metadata": {
        "execution": {
          "iopub.execute_input": "2023-09-02T21:31:33.595750Z",
          "iopub.status.busy": "2023-09-02T21:31:33.594876Z",
          "iopub.status.idle": "2023-09-02T21:31:35.569748Z",
          "shell.execute_reply": "2023-09-02T21:31:35.569101Z"
        },
        "papermill": {
          "duration": 1.992214,
          "end_time": "2023-09-02T21:31:35.572092",
          "exception": false,
          "start_time": "2023-09-02T21:31:33.579878",
          "status": "completed"
        },
        "tags": [
          "remove-cell"
        ]
      },
      "outputs": [],
      "source": [
        "import sax\n",
        "import matplotlib.pyplot as plt\n",
        "from fastcore.test import test_eq\n",
        "from pytest import approx, raises\n",
        "from nbdev import show_doc\n",
        "from sax.backends import analyze_circuit, evaluate_circuit\n",
        "\n",
        "import os, sys; sys.stderr = open(os.devnull, \"w\")"
      ]
    },
    {
      "cell_type": "code",
      "execution_count": 3,
      "id": "38df0998645283e8",
      "metadata": {
        "execution": {
          "iopub.execute_input": "2023-09-02T21:31:35.601448Z",
          "iopub.status.busy": "2023-09-02T21:31:35.600593Z",
          "iopub.status.idle": "2023-09-02T21:31:35.605242Z",
          "shell.execute_reply": "2023-09-02T21:31:35.604649Z"
        },
        "papermill": {
          "duration": 0.02212,
          "end_time": "2023-09-02T21:31:35.607048",
          "exception": false,
          "start_time": "2023-09-02T21:31:35.584928",
          "status": "completed"
        },
        "tags": [
          "hide-input"
        ]
      },
      "outputs": [],
      "source": [
        "from __future__ import annotations\n",
        "\n",
        "from functools import partial\n",
        "from typing import Any, Dict\n",
        "\n",
        "import jax\n",
        "import jax.numpy as jnp\n",
        "import klujax\n",
        "from natsort import natsorted\n",
        "from sax.typing_ import SDense, SDict, SType, scoo, sdense, sdict"
      ]
    },
    {
      "cell_type": "markdown",
      "id": "64e42767",
      "metadata": {
        "papermill": {
          "duration": 0.012898,
          "end_time": "2023-09-02T21:31:35.633919",
          "exception": false,
          "start_time": "2023-09-02T21:31:35.621021",
          "status": "completed"
        },
        "tags": []
      },
      "source": [
        "## Citation\n",
        "The KLU backend is using `klujax`, which uses the [SuiteSparse](https://github.com/DrTimothyAldenDavis/SuiteSparse) C++ libraries for sparse matrix evaluations to evaluate the circuit insanely fast on a CPU. The specific algorith being used in question is the KLU algorithm:\n",
        "\n",
        "> Ekanathan Palamadai Natariajan. \"*KLU - A high performance sparse linear solver for circuit simulation problems.*\""
      ]
    },
    {
      "cell_type": "markdown",
      "id": "2db5821c",
      "metadata": {
        "papermill": {
          "duration": 0.013058,
          "end_time": "2023-09-02T21:31:35.663249",
          "exception": false,
          "start_time": "2023-09-02T21:31:35.650191",
          "status": "completed"
        },
        "tags": []
      },
      "source": [
        "## Theoretical Background"
      ]
    },
    {
      "cell_type": "markdown",
      "id": "3d4d4a4c",
      "metadata": {
        "papermill": {
          "duration": 0.013305,
          "end_time": "2023-09-02T21:31:35.689603",
          "exception": false,
          "start_time": "2023-09-02T21:31:35.676298",
          "status": "completed"
        },
        "tags": []
      },
      "source": [
        "The core of the KLU algorithm is supported by `klujax`, which internally uses the Suitesparse libraries to solve the sparse system `Ax = b`, in which A is a sparse matrix."
      ]
    },
    {
      "cell_type": "markdown",
      "id": "a1985f58",
      "metadata": {
        "papermill": {
          "duration": 0.014523,
          "end_time": "2023-09-02T21:31:35.717743",
          "exception": false,
          "start_time": "2023-09-02T21:31:35.703220",
          "status": "completed"
        },
        "tags": []
      },
      "source": [
        "Now it only comes down to shoehorn our circuit evaluation into a sparse linear system of equations $Ax=b$ where we need to solve for $x$ using `klujax`. \n",
        "Consider the block diagonal matrix $S_{bd}$ of all components in the circuit acting on the fields $x_{in}$ at each of the individual ports of each of the component integrated in $S^{bd}$. The output fields $x^{out}$ at each of those ports is then given by:\n",
        "\n",
        "$$\n",
        "x^{out} = S_{bd} x^{in}\n",
        "$$"
      ]
    },
    {
      "cell_type": "markdown",
      "id": "9c26c04a",
      "metadata": {
        "papermill": {
          "duration": 0.012506,
          "end_time": "2023-09-02T21:31:35.744373",
          "exception": false,
          "start_time": "2023-09-02T21:31:35.731867",
          "status": "completed"
        },
        "tags": []
      },
      "source": [
        "However, $S_{bd}$ is not the S-matrix of the circuit as it does not encode any connectivity *between* the components. Connecting two component ports basically comes down to enforcing equality between the output fields at one port of a component with the input fields at another port of another (or maybe even the same) component. This equality can be enforced by creating an internal connection matrix, connecting all internal ports of the circuit:\n",
        "\n",
        "$$\n",
        "x^{in} = C_{int} x^{out}\n",
        "$$"
      ]
    },
    {
      "cell_type": "markdown",
      "id": "16b3fdad",
      "metadata": {
        "papermill": {
          "duration": 0.012947,
          "end_time": "2023-09-02T21:31:35.770791",
          "exception": false,
          "start_time": "2023-09-02T21:31:35.757844",
          "status": "completed"
        },
        "tags": []
      },
      "source": [
        "We can thus write the following combined equation:\n",
        "\n",
        "$$\n",
        "x^{in} = C_{int} S_{bd} x^{in}\n",
        "$$"
      ]
    },
    {
      "cell_type": "markdown",
      "id": "f5ceb9a2",
      "metadata": {
        "papermill": {
          "duration": 0.012842,
          "end_time": "2023-09-02T21:31:35.796759",
          "exception": false,
          "start_time": "2023-09-02T21:31:35.783917",
          "status": "completed"
        },
        "tags": []
      },
      "source": [
        "But this is not the complete story... Some component ports will *not* be *interconnected* with other ports: they will become the new *external ports* (or output ports) of the combined circuit. We can include those external ports into the above equation as follows:\n",
        "\n",
        "$$\n",
        "\\begin{pmatrix} x^{in} \\\\ x^{out}_{ext} \\end{pmatrix} = \\begin{pmatrix} C_{int} & C_{ext} \\\\ C_{ext}^T & 0 \\end{pmatrix} \\begin{pmatrix} S_{bd} x^{in} \\\\ x_{ext}^{in} \\end{pmatrix} \n",
        "$$"
      ]
    },
    {
      "cell_type": "markdown",
      "id": "6382a242",
      "metadata": {
        "papermill": {
          "duration": 0.013837,
          "end_time": "2023-09-02T21:31:35.824791",
          "exception": false,
          "start_time": "2023-09-02T21:31:35.810954",
          "status": "completed"
        },
        "tags": []
      },
      "source": [
        "Note that $C_{ext}$ is obviously **not** a square matrix. Eliminating $x^{in}$ from the equation above finally yields:\n",
        "\n",
        "$$\n",
        "x^{out}_{ext} = C^T_{ext} S_{bd} (\\mathbb{1} - C_{int}S_{bd})^{-1} C_{ext}x_{ext}^{in}\n",
        "$$"
      ]
    },
    {
      "cell_type": "markdown",
      "id": "5f15bdcd",
      "metadata": {
        "papermill": {
          "duration": 0.014852,
          "end_time": "2023-09-02T21:31:35.853277",
          "exception": false,
          "start_time": "2023-09-02T21:31:35.838425",
          "status": "completed"
        },
        "tags": []
      },
      "source": [
        "We basically found a representation of the circuit S-matrix:\n",
        "\n",
        "$$\n",
        "S = C^T_{ext} S_{bd} (\\mathbb{1} - C_{int}S_{bd})^{-1} C_{ext}\n",
        "$$"
      ]
    },
    {
      "cell_type": "markdown",
      "id": "40ad83b8",
      "metadata": {
        "papermill": {
          "duration": 0.012995,
          "end_time": "2023-09-02T21:31:35.879342",
          "exception": false,
          "start_time": "2023-09-02T21:31:35.866347",
          "status": "completed"
        },
        "tags": []
      },
      "source": [
        "Obviously, we won't want to calculate the inverse $(\\mathbb{1} - C_{int}S_{bd})^{-1}$, which is the inverse of a very sparse matrix (a connection matrix only has a single 1 per line), which very often is not even sparse itself. In stead we'll use the `solve_klu` function:\n",
        "\n",
        "$$\n",
        "S = C^T_{ext} S_{bd} \\texttt{solve}\\_\\texttt{klu}\\left((\\mathbb{1} - C_{int}S_{bd}), C_{ext}\\right)\n",
        "$$"
      ]
    },
    {
      "cell_type": "markdown",
      "id": "018fab3d",
      "metadata": {
        "papermill": {
          "duration": 0.0133,
          "end_time": "2023-09-02T21:31:35.905920",
          "exception": false,
          "start_time": "2023-09-02T21:31:35.892620",
          "status": "completed"
        },
        "tags": []
      },
      "source": [
        "Moreover, $C_{ext}^TS_{bd}$ is also a sparse matrix, therefore we'll also need a `mul_coo` routine:\n",
        "\n",
        "$$\n",
        "S = C^T_{ext} \\texttt{mul}\\_\\texttt{coo}\\left(S_{bd},~~\\texttt{solve}\\_\\texttt{klu}\\left((\\mathbb{1} - C_{int}S_{bd}),~C_{ext}\\right)\\right)\n",
        "$$"
      ]
    },
    {
      "cell_type": "markdown",
      "id": "d9b78852",
      "metadata": {
        "papermill": {
          "duration": 0.013001,
          "end_time": "2023-09-02T21:31:35.932692",
          "exception": false,
          "start_time": "2023-09-02T21:31:35.919691",
          "status": "completed"
        },
        "tags": []
      },
      "source": [
        "## Sparse Helper Functions"
      ]
    },
    {
      "cell_type": "code",
      "execution_count": 4,
      "id": "fbc63cc3c0444786",
      "metadata": {
        "execution": {
          "iopub.execute_input": "2023-09-02T21:31:35.962000Z",
          "iopub.status.busy": "2023-09-02T21:31:35.961213Z",
          "iopub.status.idle": "2023-09-02T21:31:35.971216Z",
          "shell.execute_reply": "2023-09-02T21:31:35.970749Z"
        },
        "papermill": {
          "duration": 0.026081,
          "end_time": "2023-09-02T21:31:35.972551",
          "exception": false,
          "start_time": "2023-09-02T21:31:35.946470",
          "status": "completed"
        },
        "tags": [
          "remove-input"
        ]
      },
      "outputs": [
        {
          "data": {
            "text/markdown": [
              "<h4 id=\"klujax.solve\" class=\"doc_header\"><code>klujax.solve</code><a href=\"klujax.py#L97\" class=\"source_link\" style=\"float:right\">[source]</a></h4>\n",
              "\n",
              "> <code>klujax.solve</code>(**`Ai`**, **`Aj`**, **`Ax`**, **`b`**)\n",
              "\n"
            ],
            "text/plain": [
              "<IPython.core.display.Markdown object>"
            ]
          },
          "metadata": {},
          "output_type": "display_data"
        }
      ],
      "source": [
        "show_doc(klujax.solve, doc_string=False, name=\"klujax.solve\")"
      ]
    },
    {
      "cell_type": "markdown",
      "id": "01299d5d",
      "metadata": {
        "papermill": {
          "duration": 0.012841,
          "end_time": "2023-09-02T21:31:35.998570",
          "exception": false,
          "start_time": "2023-09-02T21:31:35.985729",
          "status": "completed"
        },
        "tags": []
      },
      "source": [
        "`klujax.solve` solves the sparse system of equations `Ax=b` for `x`. Where `A` is represented by in [COO-format](https://en.wikipedia.org/wiki/Sparse_matrix#Coordinate_list_(COO)) as (`Ai`, `Aj`, `Ax`).\n",
        "\n",
        "> Example"
      ]
    },
    {
      "cell_type": "code",
      "execution_count": 5,
      "id": "63e7977a",
      "metadata": {
        "execution": {
          "iopub.execute_input": "2023-09-02T21:31:36.026415Z",
          "iopub.status.busy": "2023-09-02T21:31:36.025911Z",
          "iopub.status.idle": "2023-09-02T21:31:36.185116Z",
          "shell.execute_reply": "2023-09-02T21:31:36.184636Z"
        },
        "papermill": {
          "duration": 0.175436,
          "end_time": "2023-09-02T21:31:36.186945",
          "exception": false,
          "start_time": "2023-09-02T21:31:36.011509",
          "status": "completed"
        },
        "tags": []
      },
      "outputs": [
        {
          "data": {
            "text/plain": [
              "Array([6. , 1. , 0.5, 0.5, 2. ], dtype=float64)"
            ]
          },
          "execution_count": 5,
          "metadata": {},
          "output_type": "execute_result"
        }
      ],
      "source": [
        "Ai = jnp.array([0, 1, 2, 3, 4])\n",
        "Aj = jnp.array([1, 3, 4, 0, 2])\n",
        "Ax = jnp.array([5, 6, 1, 1, 2])\n",
        "b = jnp.array([5, 3, 2, 6, 1])\n",
        "x = klujax.solve(Ai, Aj, Ax, b)\n",
        "x"
      ]
    },
    {
      "cell_type": "markdown",
      "id": "3233b04c",
      "metadata": {
        "papermill": {
          "duration": 0.013864,
          "end_time": "2023-09-02T21:31:36.214538",
          "exception": false,
          "start_time": "2023-09-02T21:31:36.200674",
          "status": "completed"
        },
        "tags": []
      },
      "source": [
        "This result is indeed correct:"
      ]
    },
    {
      "cell_type": "code",
      "execution_count": 6,
      "id": "629bbc71",
      "metadata": {
        "execution": {
          "iopub.execute_input": "2023-09-02T21:31:36.243852Z",
          "iopub.status.busy": "2023-09-02T21:31:36.242898Z",
          "iopub.status.idle": "2023-09-02T21:31:36.432106Z",
          "shell.execute_reply": "2023-09-02T21:31:36.431383Z"
        },
        "papermill": {
          "duration": 0.205585,
          "end_time": "2023-09-02T21:31:36.433662",
          "exception": false,
          "start_time": "2023-09-02T21:31:36.228077",
          "status": "completed"
        },
        "tags": []
      },
      "outputs": [
        {
          "name": "stdout",
          "output_type": "stream",
          "text": [
            "[[0. 5. 0. 0. 0.]\n",
            " [0. 0. 0. 6. 0.]\n",
            " [0. 0. 0. 0. 1.]\n",
            " [1. 0. 0. 0. 0.]\n",
            " [0. 0. 2. 0. 0.]]\n",
            "[5. 3. 2. 6. 1.]\n"
          ]
        }
      ],
      "source": [
        "A = jnp.zeros((5, 5)).at[Ai, Aj].set(Ax)\n",
        "print(A)\n",
        "print(A@x)"
      ]
    },
    {
      "cell_type": "markdown",
      "id": "c7fe6547",
      "metadata": {
        "papermill": {
          "duration": 0.016775,
          "end_time": "2023-09-02T21:31:36.467304",
          "exception": false,
          "start_time": "2023-09-02T21:31:36.450529",
          "status": "completed"
        },
        "tags": []
      },
      "source": [
        "However, to use this function effectively, we probably need an extra dimension for `Ax`. Indeed, we would like to solve this equation for multiple wavelengths (or more general, for multiple circuit configurations) at once. For this we can use `jax.vmap` to expose `klujax.solve` to more dimensions for `Ax`:"
      ]
    },
    {
      "cell_type": "code",
      "execution_count": 7,
      "id": "d82c7b768cdf229e",
      "metadata": {
        "execution": {
          "iopub.execute_input": "2023-09-02T21:31:36.501398Z",
          "iopub.status.busy": "2023-09-02T21:31:36.500878Z",
          "iopub.status.idle": "2023-09-02T21:31:36.504682Z",
          "shell.execute_reply": "2023-09-02T21:31:36.504193Z"
        },
        "papermill": {
          "duration": 0.024493,
          "end_time": "2023-09-02T21:31:36.506062",
          "exception": false,
          "start_time": "2023-09-02T21:31:36.481569",
          "status": "completed"
        },
        "tags": []
      },
      "outputs": [],
      "source": [
        "solve_klu = jax.vmap(klujax.solve, (None, None, 0, None), 0)"
      ]
    },
    {
      "cell_type": "code",
      "execution_count": 8,
      "id": "9d116ad12ea2da5d",
      "metadata": {
        "execution": {
          "iopub.execute_input": "2023-09-02T21:31:36.534509Z",
          "iopub.status.busy": "2023-09-02T21:31:36.533815Z",
          "iopub.status.idle": "2023-09-02T21:31:36.545308Z",
          "shell.execute_reply": "2023-09-02T21:31:36.544763Z"
        },
        "papermill": {
          "duration": 0.027272,
          "end_time": "2023-09-02T21:31:36.546726",
          "exception": false,
          "start_time": "2023-09-02T21:31:36.519454",
          "status": "completed"
        },
        "tags": [
          "remove-input"
        ]
      },
      "outputs": [
        {
          "data": {
            "text/markdown": [
              "<h4 id=\"solve_klu\" class=\"doc_header\"><code>solve_klu</code><a href=\"klujax.py#L97\" class=\"source_link\" style=\"float:right\">[source]</a></h4>\n",
              "\n",
              "> <code>solve_klu</code>(**`Ai`**, **`Aj`**, **`Ax`**, **`b`**)\n",
              "\n",
              "\n",
              "\n",
              "||Type|Default|Details|\n",
              "|---|---|---|---|\n",
              "|**`Ai`**|||*No Content*|\n",
              "|**`Aj`**|||*No Content*|\n",
              "|**`Ax`**|||*No Content*|\n",
              "|**`b`**|||jitting by default allows for empty implementation definitions|\n"
            ],
            "text/plain": [
              "<IPython.core.display.Markdown object>"
            ]
          },
          "metadata": {},
          "output_type": "display_data"
        }
      ],
      "source": [
        "show_doc(solve_klu, doc_string=False, name=\"solve_klu\")"
      ]
    },
    {
      "cell_type": "markdown",
      "id": "6707049d",
      "metadata": {
        "papermill": {
          "duration": 0.014164,
          "end_time": "2023-09-02T21:31:36.575091",
          "exception": false,
          "start_time": "2023-09-02T21:31:36.560927",
          "status": "completed"
        },
        "tags": []
      },
      "source": [
        "Let's now redefine `Ax` and see what it gives:"
      ]
    },
    {
      "cell_type": "code",
      "execution_count": 9,
      "id": "d4d7b6f9",
      "metadata": {
        "execution": {
          "iopub.execute_input": "2023-09-02T21:31:36.607857Z",
          "iopub.status.busy": "2023-09-02T21:31:36.606285Z",
          "iopub.status.idle": "2023-09-02T21:31:36.657001Z",
          "shell.execute_reply": "2023-09-02T21:31:36.656429Z"
        },
        "papermill": {
          "duration": 0.069566,
          "end_time": "2023-09-02T21:31:36.658556",
          "exception": false,
          "start_time": "2023-09-02T21:31:36.588990",
          "status": "completed"
        },
        "tags": []
      },
      "outputs": [
        {
          "data": {
            "text/plain": [
              "Array([[6.        , 1.        , 0.5       , 0.5       , 2.        ],\n",
              "       [3.        , 1.        , 1.        , 0.75      , 0.66666667],\n",
              "       [1.5       , 5.        , 0.2       , 1.5       , 0.66666667]],      dtype=float64)"
            ]
          },
          "execution_count": 9,
          "metadata": {},
          "output_type": "execute_result"
        }
      ],
      "source": [
        "Ai = jnp.array([0, 1, 2, 3, 4])\n",
        "Aj = jnp.array([1, 3, 4, 0, 2])\n",
        "Ax = jnp.array([[5, 6, 1, 1, 2], [5, 4, 3, 2, 1], [1, 2, 3, 4, 5]])\n",
        "b = jnp.array([5, 3, 2, 6, 1])\n",
        "x = solve_klu(Ai, Aj, Ax, b)\n",
        "x"
      ]
    },
    {
      "cell_type": "markdown",
      "id": "5f342c6f",
      "metadata": {
        "papermill": {
          "duration": 0.014428,
          "end_time": "2023-09-02T21:31:36.687862",
          "exception": false,
          "start_time": "2023-09-02T21:31:36.673434",
          "status": "completed"
        },
        "tags": []
      },
      "source": [
        "This result is indeed correct:"
      ]
    },
    {
      "cell_type": "code",
      "execution_count": 10,
      "id": "0afefaa6",
      "metadata": {
        "execution": {
          "iopub.execute_input": "2023-09-02T21:31:36.718669Z",
          "iopub.status.busy": "2023-09-02T21:31:36.717792Z",
          "iopub.status.idle": "2023-09-02T21:31:36.828248Z",
          "shell.execute_reply": "2023-09-02T21:31:36.827714Z"
        },
        "papermill": {
          "duration": 0.128476,
          "end_time": "2023-09-02T21:31:36.829891",
          "exception": false,
          "start_time": "2023-09-02T21:31:36.701415",
          "status": "completed"
        },
        "tags": []
      },
      "outputs": [
        {
          "data": {
            "text/plain": [
              "Array([[5., 3., 2., 6., 1.],\n",
              "       [5., 3., 2., 6., 1.],\n",
              "       [5., 3., 2., 6., 1.]], dtype=float64)"
            ]
          },
          "execution_count": 10,
          "metadata": {},
          "output_type": "execute_result"
        }
      ],
      "source": [
        "A = jnp.zeros((3, 5, 5)).at[:, Ai, Aj].set(Ax)\n",
        "jnp.einsum(\"ijk,ik->ij\", A, x)"
      ]
    },
    {
      "cell_type": "markdown",
      "id": "7ed8f62d",
      "metadata": {
        "papermill": {
          "duration": 0.014069,
          "end_time": "2023-09-02T21:31:36.858199",
          "exception": false,
          "start_time": "2023-09-02T21:31:36.844130",
          "status": "completed"
        },
        "tags": []
      },
      "source": [
        "Additionally, we need a way to multiply a sparse COO-matrix with a dense vector. This can be done with `klujax.coo_mul_vec`:"
      ]
    },
    {
      "cell_type": "code",
      "execution_count": 11,
      "id": "4677c7efa066b03c",
      "metadata": {
        "execution": {
          "iopub.execute_input": "2023-09-02T21:31:36.888949Z",
          "iopub.status.busy": "2023-09-02T21:31:36.888110Z",
          "iopub.status.idle": "2023-09-02T21:31:36.893520Z",
          "shell.execute_reply": "2023-09-02T21:31:36.893049Z"
        },
        "papermill": {
          "duration": 0.022686,
          "end_time": "2023-09-02T21:31:36.895026",
          "exception": false,
          "start_time": "2023-09-02T21:31:36.872340",
          "status": "completed"
        },
        "tags": [
          "remove-input"
        ]
      },
      "outputs": [
        {
          "data": {
            "text/markdown": [
              "<h4 id=\"klujax.coo_mul_vec\" class=\"doc_header\"><code>klujax.coo_mul_vec</code><a href=\"klujax.py#L116\" class=\"source_link\" style=\"float:right\">[source]</a></h4>\n",
              "\n",
              "> <code>klujax.coo_mul_vec</code>(**`Ai`**, **`Aj`**, **`Ax`**, **`b`**)\n",
              "\n"
            ],
            "text/plain": [
              "<IPython.core.display.Markdown object>"
            ]
          },
          "metadata": {},
          "output_type": "display_data"
        }
      ],
      "source": [
        "\n",
        "show_doc(klujax.coo_mul_vec, doc_string=False, name=\"klujax.coo_mul_vec\")"
      ]
    },
    {
      "cell_type": "markdown",
      "id": "7f57c443",
      "metadata": {
        "papermill": {
          "duration": 0.014483,
          "end_time": "2023-09-02T21:31:36.923279",
          "exception": false,
          "start_time": "2023-09-02T21:31:36.908796",
          "status": "completed"
        },
        "tags": []
      },
      "source": [
        "However, it's useful to allow a batch dimension, this time *both* in `Ax` and in `b`:"
      ]
    },
    {
      "cell_type": "code",
      "execution_count": 12,
      "id": "d6e3400748c83f7c",
      "metadata": {
        "execution": {
          "iopub.execute_input": "2023-09-02T21:31:36.954533Z",
          "iopub.status.busy": "2023-09-02T21:31:36.953889Z",
          "iopub.status.idle": "2023-09-02T21:31:36.958622Z",
          "shell.execute_reply": "2023-09-02T21:31:36.957951Z"
        },
        "papermill": {
          "duration": 0.021995,
          "end_time": "2023-09-02T21:31:36.960104",
          "exception": false,
          "start_time": "2023-09-02T21:31:36.938109",
          "status": "completed"
        },
        "tags": []
      },
      "outputs": [],
      "source": [
        "mul_coo = None \n",
        "mul_coo = jax.vmap(klujax.coo_mul_vec, (None, None, 0, 0), 0)"
      ]
    },
    {
      "cell_type": "code",
      "execution_count": 13,
      "id": "d342a3ed2395eab0",
      "metadata": {
        "execution": {
          "iopub.execute_input": "2023-09-02T21:31:36.994937Z",
          "iopub.status.busy": "2023-09-02T21:31:36.994214Z",
          "iopub.status.idle": "2023-09-02T21:31:37.005633Z",
          "shell.execute_reply": "2023-09-02T21:31:37.005075Z"
        },
        "papermill": {
          "duration": 0.028005,
          "end_time": "2023-09-02T21:31:37.007008",
          "exception": false,
          "start_time": "2023-09-02T21:31:36.979003",
          "status": "completed"
        },
        "tags": [
          "remove-input"
        ]
      },
      "outputs": [
        {
          "data": {
            "text/markdown": [
              "<h4 id=\"mul_coo\" class=\"doc_header\"><code>mul_coo</code><a href=\"klujax.py#L116\" class=\"source_link\" style=\"float:right\">[source]</a></h4>\n",
              "\n",
              "> <code>mul_coo</code>(**`Ai`**, **`Aj`**, **`Ax`**, **`b`**)\n",
              "\n",
              "\n",
              "\n",
              "||Type|Default|Details|\n",
              "|---|---|---|---|\n",
              "|**`Ai`**|||*No Content*|\n",
              "|**`Aj`**|||*No Content*|\n",
              "|**`Ax`**|||*No Content*|\n",
              "|**`b`**|||jitting by default allows for empty implementation definitions|\n"
            ],
            "text/plain": [
              "<IPython.core.display.Markdown object>"
            ]
          },
          "metadata": {},
          "output_type": "display_data"
        }
      ],
      "source": [
        "show_doc(mul_coo, doc_string=False, name=\"mul_coo\")"
      ]
    },
    {
      "cell_type": "markdown",
      "id": "d26cc3d9",
      "metadata": {
        "papermill": {
          "duration": 0.015158,
          "end_time": "2023-09-02T21:31:37.035786",
          "exception": false,
          "start_time": "2023-09-02T21:31:37.020628",
          "status": "completed"
        },
        "tags": []
      },
      "source": [
        "Let's confirm this does the right thing:"
      ]
    },
    {
      "cell_type": "code",
      "execution_count": 14,
      "id": "bd868973",
      "metadata": {
        "execution": {
          "iopub.execute_input": "2023-09-02T21:31:37.069132Z",
          "iopub.status.busy": "2023-09-02T21:31:37.068715Z",
          "iopub.status.idle": "2023-09-02T21:31:37.108243Z",
          "shell.execute_reply": "2023-09-02T21:31:37.107806Z"
        },
        "papermill": {
          "duration": 0.058837,
          "end_time": "2023-09-02T21:31:37.109511",
          "exception": false,
          "start_time": "2023-09-02T21:31:37.050674",
          "status": "completed"
        },
        "tags": []
      },
      "outputs": [
        {
          "data": {
            "text/plain": [
              "Array([[5., 3., 2., 6., 1.],\n",
              "       [5., 3., 2., 6., 1.],\n",
              "       [5., 3., 2., 6., 1.]], dtype=float64)"
            ]
          },
          "execution_count": 14,
          "metadata": {},
          "output_type": "execute_result"
        }
      ],
      "source": [
        "result = mul_coo(Ai, Aj, Ax, x)\n",
        "result"
      ]
    },
    {
      "cell_type": "markdown",
      "id": "7729408c-7977-49b4-8be5-b3a8be6cc1ed",
      "metadata": {
        "papermill": {
          "duration": 0.014504,
          "end_time": "2023-09-02T21:31:37.138542",
          "exception": false,
          "start_time": "2023-09-02T21:31:37.124038",
          "status": "completed"
        },
        "tags": []
      },
      "source": [
        "## Circuit Analyzation"
      ]
    },
    {
      "cell_type": "code",
      "execution_count": 15,
      "id": "665c856d",
      "metadata": {
        "execution": {
          "iopub.execute_input": "2023-09-02T21:31:37.172975Z",
          "iopub.status.busy": "2023-09-02T21:31:37.172534Z",
          "iopub.status.idle": "2023-09-02T21:31:37.179376Z",
          "shell.execute_reply": "2023-09-02T21:31:37.178947Z"
        },
        "papermill": {
          "duration": 0.025709,
          "end_time": "2023-09-02T21:31:37.180765",
          "exception": false,
          "start_time": "2023-09-02T21:31:37.155056",
          "status": "completed"
        },
        "tags": []
      },
      "outputs": [],
      "source": [
        "wg_sdict: SDict = {\n",
        "    (\"in0\", \"out0\"): 0.5 + 0.86603j,\n",
        "    (\"out0\", \"in0\"): 0.5 + 0.86603j,\n",
        "}\n",
        "\n",
        "\u03c4, \u03ba = 0.5 ** 0.5, 1j * 0.5 ** 0.5\n",
        "dc_sdense: SDense = (\n",
        "    jnp.array([[0, 0, \u03c4, \u03ba], \n",
        "               [0, 0, \u03ba, \u03c4], \n",
        "               [\u03c4, \u03ba, 0, 0], \n",
        "               [\u03ba, \u03c4, 0, 0]]),\n",
        "    {\"out0\": 0, \"out1\": 1, \"in0\": 2, \"in1\": 3},\n",
        ")\n",
        "\n",
        "instances={\n",
        "    \"dc1\": dc_sdense,\n",
        "    \"wg\": wg_sdict,\n",
        "    \"dc2\": dc_sdense,\n",
        "}\n",
        "connections={\n",
        "    \"dc1,out0\": \"wg,in0\",\n",
        "    \"wg,out0\": \"dc2,in0\",\n",
        "    \"dc1,out1\": \"dc2,in1\",\n",
        "}\n",
        "ports={\n",
        "    \"in0\": \"dc1,in0\",\n",
        "    \"in1\": \"dc1,in1\",\n",
        "    \"out0\": \"dc2,out0\",\n",
        "    \"out1\": \"dc2,out1\",\n",
        "}"
      ]
    },
    {
      "cell_type": "markdown",
      "id": "96d1daa324a40cd9",
      "metadata": {},
      "source": [
        ":::{eval-rst}\n",
        ".. autofunction:: sax.backends.klu.get_instance_ports\n",
        ":::\n"
      ]
    },
    {
      "cell_type": "code",
      "execution_count": 16,
      "id": "51271fc6e3022b37",
      "metadata": {
        "execution": {
          "iopub.execute_input": "2023-09-02T21:31:37.211207Z",
          "iopub.status.busy": "2023-09-02T21:31:37.210416Z",
          "iopub.status.idle": "2023-09-02T21:31:37.216131Z",
          "shell.execute_reply": "2023-09-02T21:31:37.215728Z"
        },
        "papermill": {
          "duration": 0.022835,
          "end_time": "2023-09-02T21:31:37.217572",
          "exception": false,
          "start_time": "2023-09-02T21:31:37.194737",
          "status": "completed"
        },
        "tags": [
          "hide-input"
        ]
      },
      "outputs": [],
      "source": [
        "def get_instance_ports(connections: Dict[str, str], ports: Dict[str, str]):\n",
        "    instance_ports = {}\n",
        "    for connection in connections.items():\n",
        "        for ip in connection:\n",
        "            i, p = ip.split(\",\")\n",
        "            if not i in instance_ports:\n",
        "                instance_ports[i] = set()\n",
        "            instance_ports[i].add(p)\n",
        "    for ip in ports.values():\n",
        "        i, p = ip.split(\",\")\n",
        "        if not i in instance_ports:\n",
        "            instance_ports[i] = set()\n",
        "        instance_ports[i].add(p)\n",
        "    return {k: natsorted(v) for k, v in instance_ports.items()}"
      ]
    },
    {
      "cell_type": "markdown",
      "id": "48289e131f40fe79",
      "metadata": {},
      "source": [
        ":::{eval-rst}\n",
        ".. autofunction:: sax.backends.klu.get_dummy_instances\n",
        ":::\n"
      ]
    },
    {
      "cell_type": "code",
      "execution_count": 17,
      "id": "6eee97b420796978",
      "metadata": {
        "execution": {
          "iopub.execute_input": "2023-09-02T21:31:37.247749Z",
          "iopub.status.busy": "2023-09-02T21:31:37.247110Z",
          "iopub.status.idle": "2023-09-02T21:31:37.251557Z",
          "shell.execute_reply": "2023-09-02T21:31:37.251040Z"
        },
        "papermill": {
          "duration": 0.021046,
          "end_time": "2023-09-02T21:31:37.253005",
          "exception": false,
          "start_time": "2023-09-02T21:31:37.231959",
          "status": "completed"
        },
        "tags": [
          "hide-input"
        ]
      },
      "outputs": [],
      "source": [
        "def get_dummy_instances(connections, ports):\n",
        "    instance_ports = get_instance_ports(connections, ports)\n",
        "    dummy_instances = {}\n",
        "    for name, ports in instance_ports.items():\n",
        "        num_ports = len(ports)\n",
        "        pm = {p: i for i, p in enumerate(ports)}\n",
        "        S = jnp.ones((num_ports, num_ports), dtype=complex)\n",
        "        dummy_instances[name] = (S, pm)\n",
        "    return dummy_instances"
      ]
    },
    {
      "cell_type": "code",
      "execution_count": 18,
      "id": "cca73fa1-f945-4846-82e1-8c2733db5ba5",
      "metadata": {
        "execution": {
          "iopub.execute_input": "2023-09-02T21:31:37.285474Z",
          "iopub.status.busy": "2023-09-02T21:31:37.284690Z",
          "iopub.status.idle": "2023-09-02T21:31:37.323802Z",
          "shell.execute_reply": "2023-09-02T21:31:37.323048Z"
        },
        "papermill": {
          "duration": 0.056356,
          "end_time": "2023-09-02T21:31:37.325423",
          "exception": false,
          "start_time": "2023-09-02T21:31:37.269067",
          "status": "completed"
        },
        "tags": []
      },
      "outputs": [
        {
          "data": {
            "text/plain": [
              "{'dc1': (Array([[1.+0.j, 1.+0.j, 1.+0.j, 1.+0.j],\n",
              "         [1.+0.j, 1.+0.j, 1.+0.j, 1.+0.j],\n",
              "         [1.+0.j, 1.+0.j, 1.+0.j, 1.+0.j],\n",
              "         [1.+0.j, 1.+0.j, 1.+0.j, 1.+0.j]], dtype=complex128),\n",
              "  {'in0': 0, 'in1': 1, 'out0': 2, 'out1': 3}),\n",
              " 'wg': (Array([[1.+0.j, 1.+0.j],\n",
              "         [1.+0.j, 1.+0.j]], dtype=complex128),\n",
              "  {'in0': 0, 'out0': 1}),\n",
              " 'dc2': (Array([[1.+0.j, 1.+0.j, 1.+0.j, 1.+0.j],\n",
              "         [1.+0.j, 1.+0.j, 1.+0.j, 1.+0.j],\n",
              "         [1.+0.j, 1.+0.j, 1.+0.j, 1.+0.j],\n",
              "         [1.+0.j, 1.+0.j, 1.+0.j, 1.+0.j]], dtype=complex128),\n",
              "  {'in0': 0, 'in1': 1, 'out0': 2, 'out1': 3})}"
            ]
          },
          "execution_count": 18,
          "metadata": {},
          "output_type": "execute_result"
        }
      ],
      "source": [
        "get_dummy_instances(connections, ports)"
      ]
    },
    {
      "cell_type": "markdown",
      "id": "d97234ba2b25b96d",
      "metadata": {},
      "source": [
        ":::{eval-rst}\n",
        ".. autofunction:: sax.backends.klu.analyze_circuit_klu\n",
        ":::\n"
      ]
    },
    {
      "cell_type": "code",
      "execution_count": 19,
      "id": "461f4a34bcc1022e",
      "metadata": {
        "execution": {
          "iopub.execute_input": "2023-09-02T21:31:37.356205Z",
          "iopub.status.busy": "2023-09-02T21:31:37.355834Z",
          "iopub.status.idle": "2023-09-02T21:31:37.368259Z",
          "shell.execute_reply": "2023-09-02T21:31:37.367808Z"
        },
        "papermill": {
          "duration": 0.030666,
          "end_time": "2023-09-02T21:31:37.371114",
          "exception": false,
          "start_time": "2023-09-02T21:31:37.340448",
          "status": "completed"
        },
        "tags": [
          "hide-input"
        ]
      },
      "outputs": [],
      "source": [
        "def analyze_circuit_klu(\n",
        "    connections: Dict[str, str],\n",
        "    ports: Dict[str, str],\n",
        ") -> Any:\n",
        "    connections = {**connections, **{v: k for k, v in connections.items()}}\n",
        "    instances = get_dummy_instances(connections, ports)\n",
        "    inverse_ports = {v: k for k, v in ports.items()}\n",
        "    port_map = {k: i for i, k in enumerate(ports)}\n",
        "\n",
        "    idx, Si, Sj, Sx, instance_ports = 0, [], [], [], {}\n",
        "    for name, instance in instances.items():\n",
        "        si, sj, sx, ports_map = scoo(instance)\n",
        "        Si.append(si + idx)\n",
        "        Sj.append(sj + idx)\n",
        "        Sx.append(sx)\n",
        "        instance_ports.update({f\"{name},{p}\": i + idx for p, i in ports_map.items()})\n",
        "        idx += len(ports_map)\n",
        "        \n",
        "    n_col = idx\n",
        "    n_rhs = len(port_map)\n",
        "    \n",
        "    Si = jnp.concatenate(Si, -1)\n",
        "    Sj = jnp.concatenate(Sj, -1)\n",
        "\n",
        "    Cmap = {int(instance_ports[k]): int(instance_ports[v]) for k, v in connections.items()} # fmt: skip\n",
        "    Ci = jnp.array(list(Cmap.keys()), dtype=jnp.int32)\n",
        "    Cj = jnp.array(list(Cmap.values()), dtype=jnp.int32)\n",
        "\n",
        "    Cextmap = {int(instance_ports[k]): int(port_map[v]) for k, v in inverse_ports.items()}\n",
        "    Cexti = jnp.stack(list(Cextmap.keys()), 0)\n",
        "    Cextj = jnp.stack(list(Cextmap.values()), 0)\n",
        "    Cext = jnp.zeros((n_col, n_rhs), dtype=complex).at[Cexti, Cextj].set(1.0)\n",
        "    \n",
        "    mask = Cj[None,:] == Si[:, None]\n",
        "    CSi = jnp.broadcast_to(Ci[None, :], mask.shape)[mask]\n",
        "    \n",
        "    mask = (Cj[:, None] == Si[None, :]).any(0)\n",
        "    CSj = Sj[mask]\n",
        "    \n",
        "    Ii = Ij = jnp.arange(n_col)\n",
        "    I_CSi = jnp.concatenate([CSi, Ii], -1)\n",
        "    I_CSj = jnp.concatenate([CSj, Ij], -1)\n",
        "    return n_col, mask, Si, Sj, Cext, Cexti, Cextj, I_CSi, I_CSj, tuple((k, v[1]) for k, v in instances.items()), tuple(port_map)"
      ]
    },
    {
      "cell_type": "markdown",
      "id": "8fc277a4-b258-4f44-bf61-e1aba7f64170",
      "metadata": {
        "papermill": {
          "duration": 0.014979,
          "end_time": "2023-09-02T21:31:37.400882",
          "exception": false,
          "start_time": "2023-09-02T21:31:37.385903",
          "status": "completed"
        },
        "tags": []
      },
      "source": [
        "## Circuit Evaluation"
      ]
    },
    {
      "cell_type": "markdown",
      "id": "fb891dfe4c3fcf02",
      "metadata": {},
      "source": [
        ":::{eval-rst}\n",
        ".. autofunction:: sax.backends.klu.evaluate_circuit_klu\n",
        ":::\n"
      ]
    },
    {
      "cell_type": "code",
      "execution_count": 20,
      "id": "c19f33dc13575126",
      "metadata": {
        "execution": {
          "iopub.execute_input": "2023-09-02T21:31:37.431608Z",
          "iopub.status.busy": "2023-09-02T21:31:37.430785Z",
          "iopub.status.idle": "2023-09-02T21:31:37.438849Z",
          "shell.execute_reply": "2023-09-02T21:31:37.438383Z"
        },
        "papermill": {
          "duration": 0.024994,
          "end_time": "2023-09-02T21:31:37.440495",
          "exception": false,
          "start_time": "2023-09-02T21:31:37.415501",
          "status": "completed"
        },
        "tags": [
          "hide-input"
        ]
      },
      "outputs": [],
      "source": [
        "def evaluate_circuit_klu(analyzed: Any, instances: Dict[str, SType]) -> SDense:\n",
        "    n_col, mask, Si, Sj, Cext, Cexti, Cextj, I_CSi, I_CSj, dummy_pms, port_map = analyzed\n",
        "    \n",
        "    idx = 0\n",
        "    Sx = []\n",
        "    batch_shape = ()\n",
        "    for name, pm_ in dummy_pms:\n",
        "        S, pm = sdense(instances[name])\n",
        "        perm = [pm[k] for k in pm_]\n",
        "        S = S[..., perm, :][..., :, perm]\n",
        "        _, _, sx, ports_map = scoo((S, pm_))\n",
        "        Sx.append(sx)\n",
        "        if len(sx.shape[:-1]) > len(batch_shape):\n",
        "            batch_shape = sx.shape[:-1]\n",
        "        idx += len(ports_map)\n",
        "        \n",
        "    Sx = jnp.concatenate([jnp.broadcast_to(sx, (*batch_shape, sx.shape[-1])) for sx in Sx], -1) # fmt: skip\n",
        "    CSx = Sx[..., mask]\n",
        "    Ix = jnp.ones((*batch_shape, n_col))\n",
        "    I_CSx = jnp.concatenate([-CSx, Ix], -1)\n",
        "    \n",
        "    Sx = Sx.reshape(-1, Sx.shape[-1]) # n_lhs x N\n",
        "    I_CSx = I_CSx.reshape(-1, I_CSx.shape[-1]) # n_lhs x M\n",
        "    inv_I_CS_Cext = solve_klu(I_CSi, I_CSj, I_CSx, Cext)\n",
        "    S_inv_I_CS_Cext = mul_coo(Si, Sj, Sx, inv_I_CS_Cext)\n",
        "    \n",
        "    CextT_S_inv_I_CS_Cext = S_inv_I_CS_Cext[..., Cexti, :][..., :, Cextj]\n",
        "    \n",
        "    _, n, _ = CextT_S_inv_I_CS_Cext.shape\n",
        "    S = CextT_S_inv_I_CS_Cext.reshape(*batch_shape, n, n)\n",
        "\n",
        "    return S, {p: i for i, p in enumerate(port_map)}"
      ]
    },
    {
      "cell_type": "markdown",
      "id": "dce9d8ca",
      "metadata": {
        "papermill": {
          "duration": 0.015145,
          "end_time": "2023-09-02T21:31:37.471687",
          "exception": false,
          "start_time": "2023-09-02T21:31:37.456542",
          "status": "completed"
        },
        "tags": []
      },
      "source": [
        "## Example"
      ]
    },
    {
      "cell_type": "code",
      "execution_count": 21,
      "id": "e28521dd-aa9f-463c-820d-bd87789c64e5",
      "metadata": {
        "execution": {
          "iopub.execute_input": "2023-09-02T21:31:37.504115Z",
          "iopub.status.busy": "2023-09-02T21:31:37.503421Z",
          "iopub.status.idle": "2023-09-02T21:31:38.729950Z",
          "shell.execute_reply": "2023-09-02T21:31:38.729286Z"
        },
        "papermill": {
          "duration": 1.243856,
          "end_time": "2023-09-02T21:31:38.731500",
          "exception": false,
          "start_time": "2023-09-02T21:31:37.487644",
          "status": "completed"
        },
        "tags": []
      },
      "outputs": [
        {
          "name": "stdout",
          "output_type": "stream",
          "text": [
            "[[ 0.      +0.j        0.      +0.j       -0.25    +0.433015j\n",
            "  -0.433015+0.75j    ]\n",
            " [ 0.      +0.j        0.      +0.j       -0.433015+0.75j\n",
            "   0.25    -0.433015j]\n",
            " [-0.25    +0.433015j -0.433015+0.75j      0.      +0.j\n",
            "   0.      +0.j      ]\n",
            " [-0.433015+0.75j      0.25    -0.433015j  0.      +0.j\n",
            "   0.      +0.j      ]]\n",
            "{'in0': 0, 'in1': 1, 'out0': 2, 'out1': 3}\n"
          ]
        }
      ],
      "source": [
        "preprocessed = analyze_circuit_klu(connections, ports)\n",
        "S, pm = evaluate_circuit_klu(preprocessed, instances)\n",
        "print(S)\n",
        "print(pm)"
      ]
    },
    {
      "cell_type": "markdown",
      "id": "60b6d1e6",
      "metadata": {
        "papermill": {
          "duration": 0.014478,
          "end_time": "2023-09-02T21:31:38.760741",
          "exception": false,
          "start_time": "2023-09-02T21:31:38.746263",
          "status": "completed"
        },
        "tags": []
      },
      "source": [
        "the KLU backend yields `SDense` results by default:"
      ]
    },
    {
      "cell_type": "code",
      "execution_count": 22,
      "id": "ecc3115e",
      "metadata": {
        "execution": {
          "iopub.execute_input": "2023-09-02T21:31:38.792816Z",
          "iopub.status.busy": "2023-09-02T21:31:38.791603Z",
          "iopub.status.idle": "2023-09-02T21:31:38.798414Z",
          "shell.execute_reply": "2023-09-02T21:31:38.798042Z"
        },
        "papermill": {
          "duration": 0.024255,
          "end_time": "2023-09-02T21:31:38.799657",
          "exception": false,
          "start_time": "2023-09-02T21:31:38.775402",
          "status": "completed"
        },
        "tags": []
      },
      "outputs": [
        {
          "data": {
            "text/plain": [
              "(Array([[ 0.      +0.j      ,  0.      +0.j      , -0.25    +0.433015j,\n",
              "         -0.433015+0.75j    ],\n",
              "        [ 0.      +0.j      ,  0.      +0.j      , -0.433015+0.75j    ,\n",
              "          0.25    -0.433015j],\n",
              "        [-0.25    +0.433015j, -0.433015+0.75j    ,  0.      +0.j      ,\n",
              "          0.      +0.j      ],\n",
              "        [-0.433015+0.75j    ,  0.25    -0.433015j,  0.      +0.j      ,\n",
              "          0.      +0.j      ]], dtype=complex128),\n",
              " {'in0': 0, 'in1': 1, 'out0': 2, 'out1': 3})"
            ]
          },
          "execution_count": 22,
          "metadata": {},
          "output_type": "execute_result"
        }
      ],
      "source": [
        "mzi_sdense = (S, pm)\n",
        "mzi_sdense"
      ]
    },
    {
      "cell_type": "markdown",
      "id": "4b8e87f3",
      "metadata": {
        "papermill": {
          "duration": 0.015113,
          "end_time": "2023-09-02T21:31:38.829508",
          "exception": false,
          "start_time": "2023-09-02T21:31:38.814395",
          "status": "completed"
        },
        "tags": []
      },
      "source": [
        "An `SDense` is returned for perfomance reasons. By returning an `SDense` by default we prevent any internal `SDict -> SDense` conversions in deeply hierarchical circuits. It's however very easy to convert `SDense` to `SDict` as a final step. To do this, wrap the result (or the function generating the result) with `sdict`:"
      ]
    },
    {
      "cell_type": "code",
      "execution_count": 23,
      "id": "7202ab1e",
      "metadata": {
        "execution": {
          "iopub.execute_input": "2023-09-02T21:31:38.861238Z",
          "iopub.status.busy": "2023-09-02T21:31:38.860681Z",
          "iopub.status.idle": "2023-09-02T21:31:38.933080Z",
          "shell.execute_reply": "2023-09-02T21:31:38.932509Z"
        },
        "papermill": {
          "duration": 0.090393,
          "end_time": "2023-09-02T21:31:38.934650",
          "exception": false,
          "start_time": "2023-09-02T21:31:38.844257",
          "status": "completed"
        },
        "tags": []
      },
      "outputs": [
        {
          "data": {
            "text/plain": [
              "{('in0', 'in0'): Array(0.+0.j, dtype=complex128),\n",
              " ('in0', 'in1'): Array(0.+0.j, dtype=complex128),\n",
              " ('in0', 'out0'): Array(-0.25+0.433015j, dtype=complex128),\n",
              " ('in0', 'out1'): Array(-0.433015+0.75j, dtype=complex128),\n",
              " ('in1', 'in0'): Array(0.+0.j, dtype=complex128),\n",
              " ('in1', 'in1'): Array(0.+0.j, dtype=complex128),\n",
              " ('in1', 'out0'): Array(-0.433015+0.75j, dtype=complex128),\n",
              " ('in1', 'out1'): Array(0.25-0.433015j, dtype=complex128),\n",
              " ('out0', 'in0'): Array(-0.25+0.433015j, dtype=complex128),\n",
              " ('out0', 'in1'): Array(-0.433015+0.75j, dtype=complex128),\n",
              " ('out0', 'out0'): Array(0.+0.j, dtype=complex128),\n",
              " ('out0', 'out1'): Array(0.+0.j, dtype=complex128),\n",
              " ('out1', 'in0'): Array(-0.433015+0.75j, dtype=complex128),\n",
              " ('out1', 'in1'): Array(0.25-0.433015j, dtype=complex128),\n",
              " ('out1', 'out0'): Array(0.+0.j, dtype=complex128),\n",
              " ('out1', 'out1'): Array(0.+0.j, dtype=complex128)}"
            ]
          },
          "execution_count": 23,
          "metadata": {},
          "output_type": "execute_result"
        }
      ],
      "source": [
        "sax.sdict(mzi_sdense)"
      ]
    },
    {
      "cell_type": "markdown",
      "id": "9f8cd5ea",
      "metadata": {
        "papermill": {
          "duration": 0.01554,
          "end_time": "2023-09-02T21:31:38.965613",
          "exception": false,
          "start_time": "2023-09-02T21:31:38.950073",
          "status": "completed"
        },
        "tags": []
      },
      "source": [
        "## Algorithm Walkthrough"
      ]
    },
    {
      "cell_type": "markdown",
      "id": "b5bf5188",
      "metadata": {
        "papermill": {
          "duration": 0.014753,
          "end_time": "2023-09-02T21:31:38.996606",
          "exception": false,
          "start_time": "2023-09-02T21:31:38.981853",
          "status": "completed"
        },
        "tags": []
      },
      "source": [
        "Let's first enforce $C^T = C$:"
      ]
    },
    {
      "cell_type": "code",
      "execution_count": 24,
      "id": "6d7d4c39",
      "metadata": {
        "execution": {
          "iopub.execute_input": "2023-09-02T21:31:39.028895Z",
          "iopub.status.busy": "2023-09-02T21:31:39.027962Z",
          "iopub.status.idle": "2023-09-02T21:31:39.033342Z",
          "shell.execute_reply": "2023-09-02T21:31:39.032959Z"
        },
        "papermill": {
          "duration": 0.023322,
          "end_time": "2023-09-02T21:31:39.034688",
          "exception": false,
          "start_time": "2023-09-02T21:31:39.011366",
          "status": "completed"
        },
        "tags": []
      },
      "outputs": [
        {
          "data": {
            "text/plain": [
              "{'dc1,out0': 'wg,in0',\n",
              " 'wg,out0': 'dc2,in0',\n",
              " 'dc1,out1': 'dc2,in1',\n",
              " 'wg,in0': 'dc1,out0',\n",
              " 'dc2,in0': 'wg,out0',\n",
              " 'dc2,in1': 'dc1,out1'}"
            ]
          },
          "execution_count": 24,
          "metadata": {},
          "output_type": "execute_result"
        }
      ],
      "source": [
        "connections = {**connections, **{v: k for k, v in connections.items()}}\n",
        "connections"
      ]
    },
    {
      "cell_type": "markdown",
      "id": "a41250ec",
      "metadata": {
        "papermill": {
          "duration": 0.015133,
          "end_time": "2023-09-02T21:31:39.064648",
          "exception": false,
          "start_time": "2023-09-02T21:31:39.049515",
          "status": "completed"
        },
        "tags": []
      },
      "source": [
        "We'll also need the reversed ports:"
      ]
    },
    {
      "cell_type": "code",
      "execution_count": 25,
      "id": "9a70463f",
      "metadata": {
        "execution": {
          "iopub.execute_input": "2023-09-02T21:31:39.097291Z",
          "iopub.status.busy": "2023-09-02T21:31:39.096610Z",
          "iopub.status.idle": "2023-09-02T21:31:39.102355Z",
          "shell.execute_reply": "2023-09-02T21:31:39.101834Z"
        },
        "papermill": {
          "duration": 0.023518,
          "end_time": "2023-09-02T21:31:39.103687",
          "exception": false,
          "start_time": "2023-09-02T21:31:39.080169",
          "status": "completed"
        },
        "tags": []
      },
      "outputs": [
        {
          "data": {
            "text/plain": [
              "{'dc1,in0': 'in0', 'dc1,in1': 'in1', 'dc2,out0': 'out0', 'dc2,out1': 'out1'}"
            ]
          },
          "execution_count": 25,
          "metadata": {},
          "output_type": "execute_result"
        }
      ],
      "source": [
        "inverse_ports = {v: k for k, v in ports.items()}\n",
        "inverse_ports"
      ]
    },
    {
      "cell_type": "markdown",
      "id": "1e96443b",
      "metadata": {
        "papermill": {
          "duration": 0.015056,
          "end_time": "2023-09-02T21:31:39.133614",
          "exception": false,
          "start_time": "2023-09-02T21:31:39.118558",
          "status": "completed"
        },
        "tags": []
      },
      "source": [
        "An the port indices"
      ]
    },
    {
      "cell_type": "code",
      "execution_count": 26,
      "id": "8e18d182",
      "metadata": {
        "execution": {
          "iopub.execute_input": "2023-09-02T21:31:39.165855Z",
          "iopub.status.busy": "2023-09-02T21:31:39.165105Z",
          "iopub.status.idle": "2023-09-02T21:31:39.171523Z",
          "shell.execute_reply": "2023-09-02T21:31:39.170828Z"
        },
        "papermill": {
          "duration": 0.024664,
          "end_time": "2023-09-02T21:31:39.173057",
          "exception": false,
          "start_time": "2023-09-02T21:31:39.148393",
          "status": "completed"
        },
        "tags": []
      },
      "outputs": [
        {
          "data": {
            "text/plain": [
              "{'in0': 0, 'in1': 1, 'out0': 2, 'out1': 3}"
            ]
          },
          "execution_count": 26,
          "metadata": {},
          "output_type": "execute_result"
        }
      ],
      "source": [
        "port_map = {k: i for i, k in enumerate(ports)}\n",
        "port_map"
      ]
    },
    {
      "cell_type": "markdown",
      "id": "70924074",
      "metadata": {
        "papermill": {
          "duration": 0.01473,
          "end_time": "2023-09-02T21:31:39.203254",
          "exception": false,
          "start_time": "2023-09-02T21:31:39.188524",
          "status": "completed"
        },
        "tags": []
      },
      "source": [
        "Let's now create the COO-representation of our block diagonal S-matrix $S_{bd}$:"
      ]
    },
    {
      "cell_type": "code",
      "execution_count": 27,
      "id": "835deb8f",
      "metadata": {
        "execution": {
          "iopub.execute_input": "2023-09-02T21:31:39.234897Z",
          "iopub.status.busy": "2023-09-02T21:31:39.234481Z",
          "iopub.status.idle": "2023-09-02T21:31:39.301629Z",
          "shell.execute_reply": "2023-09-02T21:31:39.300904Z"
        },
        "papermill": {
          "duration": 0.085116,
          "end_time": "2023-09-02T21:31:39.303311",
          "exception": false,
          "start_time": "2023-09-02T21:31:39.218195",
          "status": "completed"
        },
        "tags": []
      },
      "outputs": [
        {
          "name": "stdout",
          "output_type": "stream",
          "text": [
            "[0 0 0 0 1 1 1 1 2 2 2 2 3 3 3 3 4 5 6 6 6 6 7 7 7 7 8 8 8 8 9 9 9 9]\n",
            "[0 1 2 3 0 1 2 3 0 1 2 3 0 1 2 3 5 4 6 7 8 9 6 7 8 9 6 7 8 9 6 7 8 9]\n",
            "[0.        +0.j         0.        +0.j         0.70710678+0.j\n",
            " 0.        +0.70710678j 0.        +0.j         0.        +0.j\n",
            " 0.        +0.70710678j 0.70710678+0.j         0.70710678+0.j\n",
            " 0.        +0.70710678j 0.        +0.j         0.        +0.j\n",
            " 0.        +0.70710678j 0.70710678+0.j         0.        +0.j\n",
            " 0.        +0.j         0.5       +0.86603j    0.5       +0.86603j\n",
            " 0.        +0.j         0.        +0.j         0.70710678+0.j\n",
            " 0.        +0.70710678j 0.        +0.j         0.        +0.j\n",
            " 0.        +0.70710678j 0.70710678+0.j         0.70710678+0.j\n",
            " 0.        +0.70710678j 0.        +0.j         0.        +0.j\n",
            " 0.        +0.70710678j 0.70710678+0.j         0.        +0.j\n",
            " 0.        +0.j        ]\n"
          ]
        }
      ],
      "source": [
        "idx, Si, Sj, Sx, instance_ports = 0, [], [], [], {}\n",
        "batch_shape = ()\n",
        "for name, instance in instances.items():\n",
        "    si, sj, sx, ports_map = scoo(instance)\n",
        "    Si.append(si + idx)\n",
        "    Sj.append(sj + idx)\n",
        "    Sx.append(sx)\n",
        "    if len(sx.shape[:-1]) > len(batch_shape):\n",
        "        batch_shape = sx.shape[:-1]\n",
        "    instance_ports.update({f\"{name},{p}\": i + idx for p, i in ports_map.items()})\n",
        "    idx += len(ports_map)\n",
        "Si = jnp.concatenate(Si, -1)\n",
        "Sj = jnp.concatenate(Sj, -1)\n",
        "Sx = jnp.concatenate([jnp.broadcast_to(sx, (*batch_shape, sx.shape[-1])) for sx in Sx], -1)\n",
        "\n",
        "print(Si)\n",
        "print(Sj)\n",
        "print(Sx)"
      ]
    },
    {
      "cell_type": "markdown",
      "id": "a8edefa1",
      "metadata": {
        "papermill": {
          "duration": 0.014867,
          "end_time": "2023-09-02T21:31:39.333263",
          "exception": false,
          "start_time": "2023-09-02T21:31:39.318396",
          "status": "completed"
        },
        "tags": []
      },
      "source": [
        "note that we also kept track of the `batch_shape`, i.e. the number of independent simulations (usually number of wavelengths). In the example being used here we don't have a batch dimension (all elements of the `SDict` are `0D`):"
      ]
    },
    {
      "cell_type": "code",
      "execution_count": 28,
      "id": "7513759a",
      "metadata": {
        "execution": {
          "iopub.execute_input": "2023-09-02T21:31:39.366201Z",
          "iopub.status.busy": "2023-09-02T21:31:39.365282Z",
          "iopub.status.idle": "2023-09-02T21:31:39.370305Z",
          "shell.execute_reply": "2023-09-02T21:31:39.369687Z"
        },
        "papermill": {
          "duration": 0.0234,
          "end_time": "2023-09-02T21:31:39.371792",
          "exception": false,
          "start_time": "2023-09-02T21:31:39.348392",
          "status": "completed"
        },
        "tags": []
      },
      "outputs": [
        {
          "data": {
            "text/plain": [
              "()"
            ]
          },
          "execution_count": 28,
          "metadata": {},
          "output_type": "execute_result"
        }
      ],
      "source": [
        "batch_shape"
      ]
    },
    {
      "cell_type": "markdown",
      "id": "c63b14d7",
      "metadata": {
        "papermill": {
          "duration": 0.015272,
          "end_time": "2023-09-02T21:31:39.402561",
          "exception": false,
          "start_time": "2023-09-02T21:31:39.387289",
          "status": "completed"
        },
        "tags": []
      },
      "source": [
        "We'll also keep track of the number of columns"
      ]
    },
    {
      "cell_type": "code",
      "execution_count": 29,
      "id": "89000432",
      "metadata": {
        "execution": {
          "iopub.execute_input": "2023-09-02T21:31:39.434863Z",
          "iopub.status.busy": "2023-09-02T21:31:39.434264Z",
          "iopub.status.idle": "2023-09-02T21:31:39.438324Z",
          "shell.execute_reply": "2023-09-02T21:31:39.437806Z"
        },
        "papermill": {
          "duration": 0.022016,
          "end_time": "2023-09-02T21:31:39.439718",
          "exception": false,
          "start_time": "2023-09-02T21:31:39.417702",
          "status": "completed"
        },
        "tags": []
      },
      "outputs": [
        {
          "data": {
            "text/plain": [
              "10"
            ]
          },
          "execution_count": 29,
          "metadata": {},
          "output_type": "execute_result"
        }
      ],
      "source": [
        "n_col = idx\n",
        "n_col"
      ]
    },
    {
      "cell_type": "markdown",
      "id": "7b0f95da",
      "metadata": {
        "papermill": {
          "duration": 0.015229,
          "end_time": "2023-09-02T21:31:39.470544",
          "exception": false,
          "start_time": "2023-09-02T21:31:39.455315",
          "status": "completed"
        },
        "tags": []
      },
      "source": [
        "And we'll need to solve the circuit for each output port, i.e. we need to solve `n_rhs` number of equations:"
      ]
    },
    {
      "cell_type": "code",
      "execution_count": 30,
      "id": "27902354",
      "metadata": {
        "execution": {
          "iopub.execute_input": "2023-09-02T21:31:39.503701Z",
          "iopub.status.busy": "2023-09-02T21:31:39.502769Z",
          "iopub.status.idle": "2023-09-02T21:31:39.508715Z",
          "shell.execute_reply": "2023-09-02T21:31:39.508228Z"
        },
        "papermill": {
          "duration": 0.024265,
          "end_time": "2023-09-02T21:31:39.510092",
          "exception": false,
          "start_time": "2023-09-02T21:31:39.485827",
          "status": "completed"
        },
        "tags": []
      },
      "outputs": [
        {
          "data": {
            "text/plain": [
              "4"
            ]
          },
          "execution_count": 30,
          "metadata": {},
          "output_type": "execute_result"
        }
      ],
      "source": [
        "n_rhs = len(port_map)\n",
        "n_rhs"
      ]
    },
    {
      "cell_type": "markdown",
      "id": "05056b46",
      "metadata": {
        "papermill": {
          "duration": 0.015327,
          "end_time": "2023-09-02T21:31:39.540542",
          "exception": false,
          "start_time": "2023-09-02T21:31:39.525215",
          "status": "completed"
        },
        "tags": []
      },
      "source": [
        "We can represent the internal connection matrix $C_{int}$ as a mapping between port indices:"
      ]
    },
    {
      "cell_type": "code",
      "execution_count": 31,
      "id": "f3ff1fa7",
      "metadata": {
        "execution": {
          "iopub.execute_input": "2023-09-02T21:31:39.573961Z",
          "iopub.status.busy": "2023-09-02T21:31:39.573228Z",
          "iopub.status.idle": "2023-09-02T21:31:39.579558Z",
          "shell.execute_reply": "2023-09-02T21:31:39.579008Z"
        },
        "papermill": {
          "duration": 0.024743,
          "end_time": "2023-09-02T21:31:39.581001",
          "exception": false,
          "start_time": "2023-09-02T21:31:39.556258",
          "status": "completed"
        },
        "tags": []
      },
      "outputs": [
        {
          "data": {
            "text/plain": [
              "{0: 4, 5: 8, 1: 9, 4: 0, 8: 5, 9: 1}"
            ]
          },
          "execution_count": 31,
          "metadata": {},
          "output_type": "execute_result"
        }
      ],
      "source": [
        "Cmap = {int(instance_ports[k]): int(instance_ports[v]) for k, v in connections.items()}\n",
        "Cmap"
      ]
    },
    {
      "cell_type": "markdown",
      "id": "999164af",
      "metadata": {
        "papermill": {
          "duration": 0.01565,
          "end_time": "2023-09-02T21:31:39.612064",
          "exception": false,
          "start_time": "2023-09-02T21:31:39.596414",
          "status": "completed"
        },
        "tags": []
      },
      "source": [
        "Therefore, the COO-representation of this connection matrix can be obtained as follows (note that an array of values Cx is not necessary, all non-zero elements in a connection matrix are 1)"
      ]
    },
    {
      "cell_type": "code",
      "execution_count": 32,
      "id": "9e4f1728",
      "metadata": {
        "execution": {
          "iopub.execute_input": "2023-09-02T21:31:39.644912Z",
          "iopub.status.busy": "2023-09-02T21:31:39.644188Z",
          "iopub.status.idle": "2023-09-02T21:31:39.651458Z",
          "shell.execute_reply": "2023-09-02T21:31:39.650931Z"
        },
        "papermill": {
          "duration": 0.025335,
          "end_time": "2023-09-02T21:31:39.652834",
          "exception": false,
          "start_time": "2023-09-02T21:31:39.627499",
          "status": "completed"
        },
        "tags": []
      },
      "outputs": [
        {
          "name": "stdout",
          "output_type": "stream",
          "text": [
            "[0 5 1 4 8 9]\n",
            "[4 8 9 0 5 1]\n"
          ]
        }
      ],
      "source": [
        "Ci = jnp.array(list(Cmap.keys()), dtype=jnp.int32)\n",
        "Cj = jnp.array(list(Cmap.values()), dtype=jnp.int32)\n",
        "print(Ci)\n",
        "print(Cj)"
      ]
    },
    {
      "cell_type": "markdown",
      "id": "47d5ed60",
      "metadata": {
        "papermill": {
          "duration": 0.015679,
          "end_time": "2023-09-02T21:31:39.684274",
          "exception": false,
          "start_time": "2023-09-02T21:31:39.668595",
          "status": "completed"
        },
        "tags": []
      },
      "source": [
        "We can represent the external connection matrix $C_{ext}$ as a map between internal port indices and external port indices:"
      ]
    },
    {
      "cell_type": "code",
      "execution_count": 33,
      "id": "f56ae166",
      "metadata": {
        "execution": {
          "iopub.execute_input": "2023-09-02T21:31:39.717166Z",
          "iopub.status.busy": "2023-09-02T21:31:39.716751Z",
          "iopub.status.idle": "2023-09-02T21:31:39.721872Z",
          "shell.execute_reply": "2023-09-02T21:31:39.721465Z"
        },
        "papermill": {
          "duration": 0.023352,
          "end_time": "2023-09-02T21:31:39.723202",
          "exception": false,
          "start_time": "2023-09-02T21:31:39.699850",
          "status": "completed"
        },
        "tags": []
      },
      "outputs": [
        {
          "data": {
            "text/plain": [
              "{2: 0, 3: 1, 6: 2, 7: 3}"
            ]
          },
          "execution_count": 33,
          "metadata": {},
          "output_type": "execute_result"
        }
      ],
      "source": [
        "Cextmap = {int(instance_ports[k]): int(port_map[v]) for k, v in inverse_ports.items()}\n",
        "Cextmap"
      ]
    },
    {
      "cell_type": "markdown",
      "id": "2485c01d",
      "metadata": {
        "papermill": {
          "duration": 0.015579,
          "end_time": "2023-09-02T21:31:39.754619",
          "exception": false,
          "start_time": "2023-09-02T21:31:39.739040",
          "status": "completed"
        },
        "tags": []
      },
      "source": [
        "Just as for the internal matrix we can represent this external connection matrix in COO-format:"
      ]
    },
    {
      "cell_type": "code",
      "execution_count": 34,
      "id": "cfb419ac",
      "metadata": {
        "execution": {
          "iopub.execute_input": "2023-09-02T21:31:39.788482Z",
          "iopub.status.busy": "2023-09-02T21:31:39.787967Z",
          "iopub.status.idle": "2023-09-02T21:31:39.795264Z",
          "shell.execute_reply": "2023-09-02T21:31:39.794743Z"
        },
        "papermill": {
          "duration": 0.026231,
          "end_time": "2023-09-02T21:31:39.796808",
          "exception": false,
          "start_time": "2023-09-02T21:31:39.770577",
          "status": "completed"
        },
        "tags": []
      },
      "outputs": [
        {
          "name": "stdout",
          "output_type": "stream",
          "text": [
            "[2 3 6 7]\n",
            "[0 1 2 3]\n"
          ]
        }
      ],
      "source": [
        "Cexti = jnp.stack(list(Cextmap.keys()), 0)\n",
        "Cextj = jnp.stack(list(Cextmap.values()), 0)\n",
        "print(Cexti)\n",
        "print(Cextj)"
      ]
    },
    {
      "cell_type": "markdown",
      "id": "e46d609c",
      "metadata": {
        "papermill": {
          "duration": 0.015772,
          "end_time": "2023-09-02T21:31:39.828795",
          "exception": false,
          "start_time": "2023-09-02T21:31:39.813023",
          "status": "completed"
        },
        "tags": []
      },
      "source": [
        "However, we actually need it as a dense representation:\n",
        "\n",
        "> help needed: can we find a way later on to keep this sparse?"
      ]
    },
    {
      "cell_type": "code",
      "execution_count": 35,
      "id": "25c4ec6e",
      "metadata": {
        "execution": {
          "iopub.execute_input": "2023-09-02T21:31:39.862650Z",
          "iopub.status.busy": "2023-09-02T21:31:39.862241Z",
          "iopub.status.idle": "2023-09-02T21:31:39.874164Z",
          "shell.execute_reply": "2023-09-02T21:31:39.873611Z"
        },
        "papermill": {
          "duration": 0.03064,
          "end_time": "2023-09-02T21:31:39.875457",
          "exception": false,
          "start_time": "2023-09-02T21:31:39.844817",
          "status": "completed"
        },
        "tags": []
      },
      "outputs": [
        {
          "data": {
            "text/plain": [
              "Array([[0.+0.j, 0.+0.j, 0.+0.j, 0.+0.j],\n",
              "       [0.+0.j, 0.+0.j, 0.+0.j, 0.+0.j],\n",
              "       [1.+0.j, 0.+0.j, 0.+0.j, 0.+0.j],\n",
              "       [0.+0.j, 1.+0.j, 0.+0.j, 0.+0.j],\n",
              "       [0.+0.j, 0.+0.j, 0.+0.j, 0.+0.j],\n",
              "       [0.+0.j, 0.+0.j, 0.+0.j, 0.+0.j],\n",
              "       [0.+0.j, 0.+0.j, 1.+0.j, 0.+0.j],\n",
              "       [0.+0.j, 0.+0.j, 0.+0.j, 1.+0.j],\n",
              "       [0.+0.j, 0.+0.j, 0.+0.j, 0.+0.j],\n",
              "       [0.+0.j, 0.+0.j, 0.+0.j, 0.+0.j]], dtype=complex128)"
            ]
          },
          "execution_count": 35,
          "metadata": {},
          "output_type": "execute_result"
        }
      ],
      "source": [
        "Cext = jnp.zeros((n_col, n_rhs), dtype=complex).at[Cexti, Cextj].set(1.0)\n",
        "Cext"
      ]
    },
    {
      "cell_type": "markdown",
      "id": "b31cc279",
      "metadata": {
        "papermill": {
          "duration": 0.015952,
          "end_time": "2023-09-02T21:31:39.907184",
          "exception": false,
          "start_time": "2023-09-02T21:31:39.891232",
          "status": "completed"
        },
        "tags": []
      },
      "source": [
        "We'll now calculate the row index `CSi` of $C_{int}S_{bd}$ in COO-format:"
      ]
    },
    {
      "cell_type": "code",
      "execution_count": 36,
      "id": "dcd26d19f5b8e2b5",
      "metadata": {
        "execution": {
          "iopub.execute_input": "2023-09-02T21:31:39.941677Z",
          "iopub.status.busy": "2023-09-02T21:31:39.941250Z",
          "iopub.status.idle": "2023-09-02T21:31:40.111277Z",
          "shell.execute_reply": "2023-09-02T21:31:40.110621Z"
        },
        "papermill": {
          "duration": 0.190997,
          "end_time": "2023-09-02T21:31:40.114414",
          "exception": false,
          "start_time": "2023-09-02T21:31:39.923417",
          "status": "completed"
        },
        "tags": []
      },
      "outputs": [
        {
          "data": {
            "text/plain": [
              "Array([4, 4, 4, 4, 9, 9, 9, 9, 0, 8, 5, 5, 5, 5, 1, 1, 1, 1], dtype=int32)"
            ]
          },
          "execution_count": 36,
          "metadata": {},
          "output_type": "execute_result"
        }
      ],
      "source": [
        "# TODO: make this block jittable...\n",
        "Ix = jnp.ones((*batch_shape, n_col))\n",
        "Ii = Ij = jnp.arange(n_col)\n",
        "mask = Cj[None,:] == Si[:, None]\n",
        "CSi = jnp.broadcast_to(Ci[None, :], mask.shape)[mask]\n",
        "CSi"
      ]
    },
    {
      "cell_type": "markdown",
      "id": "a2657582",
      "metadata": {
        "papermill": {
          "duration": 0.016462,
          "end_time": "2023-09-02T21:31:40.148654",
          "exception": false,
          "start_time": "2023-09-02T21:31:40.132192",
          "status": "completed"
        },
        "tags": []
      },
      "source": [
        "> `CSi`: possible jittable alternative? how do we remove the zeros?"
      ]
    },
    {
      "cell_type": "code",
      "execution_count": 37,
      "id": "d4ea2cb5",
      "metadata": {
        "execution": {
          "iopub.execute_input": "2023-09-02T21:31:40.184280Z",
          "iopub.status.busy": "2023-09-02T21:31:40.183501Z",
          "iopub.status.idle": "2023-09-02T21:31:40.234161Z",
          "shell.execute_reply": "2023-09-02T21:31:40.233375Z"
        },
        "papermill": {
          "duration": 0.070577,
          "end_time": "2023-09-02T21:31:40.235805",
          "exception": false,
          "start_time": "2023-09-02T21:31:40.165228",
          "status": "completed"
        },
        "tags": []
      },
      "outputs": [
        {
          "data": {
            "text/plain": [
              "Array([4, 4, 4, 4, 9, 9, 9, 9, 0, 0, 0, 0, 0, 0, 0, 0, 0, 8, 0, 0, 0, 0,\n",
              "       0, 0, 0, 0, 5, 5, 5, 5, 1, 1, 1, 1], dtype=int64)"
            ]
          },
          "execution_count": 37,
          "metadata": {},
          "output_type": "execute_result"
        }
      ],
      "source": [
        "CSi_ = jnp.where(Cj[None, :] == Si[:, None], Ci[None, :], 0).sum(1) # not used\n",
        "CSi_ # not used"
      ]
    },
    {
      "cell_type": "markdown",
      "id": "44fc620e",
      "metadata": {
        "papermill": {
          "duration": 0.016572,
          "end_time": "2023-09-02T21:31:40.269527",
          "exception": false,
          "start_time": "2023-09-02T21:31:40.252955",
          "status": "completed"
        },
        "tags": []
      },
      "source": [
        "The column index `CSj` of $C_{int}S_{bd}$ can more easily be obtained:"
      ]
    },
    {
      "cell_type": "code",
      "execution_count": 38,
      "id": "f71fdd7c",
      "metadata": {
        "execution": {
          "iopub.execute_input": "2023-09-02T21:31:40.305243Z",
          "iopub.status.busy": "2023-09-02T21:31:40.304490Z",
          "iopub.status.idle": "2023-09-02T21:31:40.382358Z",
          "shell.execute_reply": "2023-09-02T21:31:40.381643Z"
        },
        "papermill": {
          "duration": 0.09899,
          "end_time": "2023-09-02T21:31:40.385325",
          "exception": false,
          "start_time": "2023-09-02T21:31:40.286335",
          "status": "completed"
        },
        "tags": []
      },
      "outputs": [
        {
          "data": {
            "text/plain": [
              "Array([0, 1, 2, 3, 0, 1, 2, 3, 5, 4, 6, 7, 8, 9, 6, 7, 8, 9], dtype=int64)"
            ]
          },
          "execution_count": 38,
          "metadata": {},
          "output_type": "execute_result"
        }
      ],
      "source": [
        "mask = (Cj[:, None] == Si[None, :]).any(0)\n",
        "CSj = Sj[mask]\n",
        "CSj"
      ]
    },
    {
      "cell_type": "markdown",
      "id": "99bf7684",
      "metadata": {
        "papermill": {
          "duration": 0.016696,
          "end_time": "2023-09-02T21:31:40.421496",
          "exception": false,
          "start_time": "2023-09-02T21:31:40.404800",
          "status": "completed"
        },
        "tags": []
      },
      "source": [
        "> `CSj`: possible jittable alternative? how do we remove the zeros?"
      ]
    },
    {
      "cell_type": "code",
      "execution_count": 39,
      "id": "ffa7bc82",
      "metadata": {
        "execution": {
          "iopub.execute_input": "2023-09-02T21:31:40.456863Z",
          "iopub.status.busy": "2023-09-02T21:31:40.456005Z",
          "iopub.status.idle": "2023-09-02T21:31:40.483541Z",
          "shell.execute_reply": "2023-09-02T21:31:40.482922Z"
        },
        "papermill": {
          "duration": 0.047117,
          "end_time": "2023-09-02T21:31:40.485065",
          "exception": false,
          "start_time": "2023-09-02T21:31:40.437948",
          "status": "completed"
        },
        "tags": []
      },
      "outputs": [
        {
          "data": {
            "text/plain": [
              "Array([0, 1, 2, 3, 0, 1, 2, 3, 0, 0, 0, 0, 0, 0, 0, 0, 5, 4, 0, 0, 0, 0,\n",
              "       0, 0, 0, 0, 6, 7, 8, 9, 6, 7, 8, 9], dtype=int64)"
            ]
          },
          "execution_count": 39,
          "metadata": {},
          "output_type": "execute_result"
        }
      ],
      "source": [
        "CSj_ = jnp.where(mask, Sj, 0) # not used\n",
        "CSj_ # not used"
      ]
    },
    {
      "cell_type": "markdown",
      "id": "e0fc6d02",
      "metadata": {
        "papermill": {
          "duration": 0.016445,
          "end_time": "2023-09-02T21:31:40.518483",
          "exception": false,
          "start_time": "2023-09-02T21:31:40.502038",
          "status": "completed"
        },
        "tags": []
      },
      "source": [
        "Finally, the values `CSx` of $C_{int}S_{bd}$ can be obtained as follows:"
      ]
    },
    {
      "cell_type": "code",
      "execution_count": 40,
      "id": "59d2e1b2",
      "metadata": {
        "execution": {
          "iopub.execute_input": "2023-09-02T21:31:40.553674Z",
          "iopub.status.busy": "2023-09-02T21:31:40.552828Z",
          "iopub.status.idle": "2023-09-02T21:31:40.580710Z",
          "shell.execute_reply": "2023-09-02T21:31:40.580238Z"
        },
        "papermill": {
          "duration": 0.047301,
          "end_time": "2023-09-02T21:31:40.582461",
          "exception": false,
          "start_time": "2023-09-02T21:31:40.535160",
          "status": "completed"
        },
        "tags": []
      },
      "outputs": [
        {
          "data": {
            "text/plain": [
              "Array([0.        +0.j        , 0.        +0.j        ,\n",
              "       0.70710678+0.j        , 0.        +0.70710678j,\n",
              "       0.        +0.j        , 0.        +0.j        ,\n",
              "       0.        +0.70710678j, 0.70710678+0.j        ,\n",
              "       0.5       +0.86603j   , 0.5       +0.86603j   ,\n",
              "       0.70710678+0.j        , 0.        +0.70710678j,\n",
              "       0.        +0.j        , 0.        +0.j        ,\n",
              "       0.        +0.70710678j, 0.70710678+0.j        ,\n",
              "       0.        +0.j        , 0.        +0.j        ], dtype=complex128)"
            ]
          },
          "execution_count": 40,
          "metadata": {},
          "output_type": "execute_result"
        }
      ],
      "source": [
        "CSx = Sx[..., mask]\n",
        "CSx"
      ]
    },
    {
      "cell_type": "markdown",
      "id": "c02035bd",
      "metadata": {
        "papermill": {
          "duration": 0.017642,
          "end_time": "2023-09-02T21:31:40.617600",
          "exception": false,
          "start_time": "2023-09-02T21:31:40.599958",
          "status": "completed"
        },
        "tags": []
      },
      "source": [
        "> `CSx`: possible jittable alternative? how do we remove the zeros?"
      ]
    },
    {
      "cell_type": "code",
      "execution_count": 41,
      "id": "107e9e80",
      "metadata": {
        "execution": {
          "iopub.execute_input": "2023-09-02T21:31:40.654678Z",
          "iopub.status.busy": "2023-09-02T21:31:40.653979Z",
          "iopub.status.idle": "2023-09-02T21:31:40.680460Z",
          "shell.execute_reply": "2023-09-02T21:31:40.679936Z"
        },
        "papermill": {
          "duration": 0.047053,
          "end_time": "2023-09-02T21:31:40.682132",
          "exception": false,
          "start_time": "2023-09-02T21:31:40.635079",
          "status": "completed"
        },
        "tags": []
      },
      "outputs": [
        {
          "data": {
            "text/plain": [
              "Array([0.        +0.j        , 0.        +0.j        ,\n",
              "       0.70710678+0.j        , 0.        +0.70710678j,\n",
              "       0.        +0.j        , 0.        +0.j        ,\n",
              "       0.        +0.70710678j, 0.70710678+0.j        ,\n",
              "       0.        +0.j        , 0.        +0.j        ,\n",
              "       0.        +0.j        , 0.        +0.j        ,\n",
              "       0.        +0.j        , 0.        +0.j        ,\n",
              "       0.        +0.j        , 0.        +0.j        ,\n",
              "       0.5       +0.86603j   , 0.5       +0.86603j   ,\n",
              "       0.        +0.j        , 0.        +0.j        ,\n",
              "       0.        +0.j        , 0.        +0.j        ,\n",
              "       0.        +0.j        , 0.        +0.j        ,\n",
              "       0.        +0.j        , 0.        +0.j        ,\n",
              "       0.70710678+0.j        , 0.        +0.70710678j,\n",
              "       0.        +0.j        , 0.        +0.j        ,\n",
              "       0.        +0.70710678j, 0.70710678+0.j        ,\n",
              "       0.        +0.j        , 0.        +0.j        ], dtype=complex128)"
            ]
          },
          "execution_count": 41,
          "metadata": {},
          "output_type": "execute_result"
        }
      ],
      "source": [
        "CSx_ = jnp.where(mask, Sx, 0.0) # not used\n",
        "CSx_ # not used"
      ]
    },
    {
      "cell_type": "markdown",
      "id": "9411edf5",
      "metadata": {
        "papermill": {
          "duration": 0.017695,
          "end_time": "2023-09-02T21:31:40.717819",
          "exception": false,
          "start_time": "2023-09-02T21:31:40.700124",
          "status": "completed"
        },
        "tags": []
      },
      "source": [
        "Now we calculate $\\mathbb{1} - C_{int}S_{bd}$ in an *uncoalesced* way (we might have duplicate indices on the diagonal):\n",
        "\n",
        "> **uncoalesced**: having duplicate index combinations (i, j) in the representation possibly with different corresponding values. This is usually not a problem as in linear operations these values will end up to be summed, usually the behavior you want:"
      ]
    },
    {
      "cell_type": "code",
      "execution_count": 42,
      "id": "53c3f4ab",
      "metadata": {
        "execution": {
          "iopub.execute_input": "2023-09-02T21:31:40.754475Z",
          "iopub.status.busy": "2023-09-02T21:31:40.753998Z",
          "iopub.status.idle": "2023-09-02T21:31:40.820600Z",
          "shell.execute_reply": "2023-09-02T21:31:40.819869Z"
        },
        "papermill": {
          "duration": 0.08729,
          "end_time": "2023-09-02T21:31:40.822378",
          "exception": false,
          "start_time": "2023-09-02T21:31:40.735088",
          "status": "completed"
        },
        "tags": []
      },
      "outputs": [
        {
          "name": "stdout",
          "output_type": "stream",
          "text": [
            "[4 4 4 4 9 9 9 9 0 8 5 5 5 5 1 1 1 1 0 1 2 3 4 5 6 7 8 9]\n",
            "[0 1 2 3 0 1 2 3 5 4 6 7 8 9 6 7 8 9 0 1 2 3 4 5 6 7 8 9]\n",
            "[-0.        -0.j         -0.        -0.j         -0.70710678-0.j\n",
            " -0.        -0.70710678j -0.        -0.j         -0.        -0.j\n",
            " -0.        -0.70710678j -0.70710678-0.j         -0.5       -0.86603j\n",
            " -0.5       -0.86603j    -0.70710678-0.j         -0.        -0.70710678j\n",
            " -0.        -0.j         -0.        -0.j         -0.        -0.70710678j\n",
            " -0.70710678-0.j         -0.        -0.j         -0.        -0.j\n",
            "  1.        +0.j          1.        +0.j          1.        +0.j\n",
            "  1.        +0.j          1.        +0.j          1.        +0.j\n",
            "  1.        +0.j          1.        +0.j          1.        +0.j\n",
            "  1.        +0.j        ]\n"
          ]
        }
      ],
      "source": [
        "I_CSi = jnp.concatenate([CSi, Ii], -1)\n",
        "I_CSj = jnp.concatenate([CSj, Ij], -1)\n",
        "I_CSx = jnp.concatenate([-CSx, Ix], -1)\n",
        "print(I_CSi)\n",
        "print(I_CSj)\n",
        "print(I_CSx)"
      ]
    },
    {
      "cell_type": "code",
      "execution_count": 43,
      "id": "188e4606",
      "metadata": {
        "execution": {
          "iopub.execute_input": "2023-09-02T21:31:40.860682Z",
          "iopub.status.busy": "2023-09-02T21:31:40.859813Z",
          "iopub.status.idle": "2023-09-02T21:31:40.864045Z",
          "shell.execute_reply": "2023-09-02T21:31:40.863319Z"
        },
        "papermill": {
          "duration": 0.025418,
          "end_time": "2023-09-02T21:31:40.865647",
          "exception": false,
          "start_time": "2023-09-02T21:31:40.840229",
          "status": "completed"
        },
        "tags": []
      },
      "outputs": [
        {
          "name": "stdout",
          "output_type": "stream",
          "text": [
            "10 4\n"
          ]
        }
      ],
      "source": [
        "n_col, n_rhs = Cext.shape\n",
        "print(n_col, n_rhs)"
      ]
    },
    {
      "cell_type": "markdown",
      "id": "e018c515",
      "metadata": {
        "papermill": {
          "duration": 0.017236,
          "end_time": "2023-09-02T21:31:40.900268",
          "exception": false,
          "start_time": "2023-09-02T21:31:40.883032",
          "status": "completed"
        },
        "tags": []
      },
      "source": [
        "The batch shape dimension can generally speaking be anything (in the example here 0D). We need to do the necessary reshapings to make the batch shape 1D:"
      ]
    },
    {
      "cell_type": "code",
      "execution_count": 44,
      "id": "dad259e7",
      "metadata": {
        "execution": {
          "iopub.execute_input": "2023-09-02T21:31:40.935905Z",
          "iopub.status.busy": "2023-09-02T21:31:40.935349Z",
          "iopub.status.idle": "2023-09-02T21:31:40.955351Z",
          "shell.execute_reply": "2023-09-02T21:31:40.954788Z"
        },
        "papermill": {
          "duration": 0.039551,
          "end_time": "2023-09-02T21:31:40.956900",
          "exception": false,
          "start_time": "2023-09-02T21:31:40.917349",
          "status": "completed"
        },
        "tags": []
      },
      "outputs": [
        {
          "name": "stdout",
          "output_type": "stream",
          "text": [
            "1\n"
          ]
        }
      ],
      "source": [
        "n_lhs = jnp.prod(jnp.array(batch_shape, dtype=jnp.int32))\n",
        "print(n_lhs)"
      ]
    },
    {
      "cell_type": "code",
      "execution_count": 45,
      "id": "9cf69da7",
      "metadata": {
        "execution": {
          "iopub.execute_input": "2023-09-02T21:31:40.994405Z",
          "iopub.status.busy": "2023-09-02T21:31:40.993642Z",
          "iopub.status.idle": "2023-09-02T21:31:41.011186Z",
          "shell.execute_reply": "2023-09-02T21:31:41.010685Z"
        },
        "papermill": {
          "duration": 0.038102,
          "end_time": "2023-09-02T21:31:41.012777",
          "exception": false,
          "start_time": "2023-09-02T21:31:40.974675",
          "status": "completed"
        },
        "tags": []
      },
      "outputs": [
        {
          "data": {
            "text/plain": [
              "(1, 34)"
            ]
          },
          "execution_count": 45,
          "metadata": {},
          "output_type": "execute_result"
        }
      ],
      "source": [
        "Sx = Sx.reshape(n_lhs, -1)\n",
        "Sx.shape"
      ]
    },
    {
      "cell_type": "code",
      "execution_count": 46,
      "id": "788294fa",
      "metadata": {
        "execution": {
          "iopub.execute_input": "2023-09-02T21:31:41.049594Z",
          "iopub.status.busy": "2023-09-02T21:31:41.048783Z",
          "iopub.status.idle": "2023-09-02T21:31:41.067141Z",
          "shell.execute_reply": "2023-09-02T21:31:41.066656Z"
        },
        "papermill": {
          "duration": 0.038295,
          "end_time": "2023-09-02T21:31:41.068611",
          "exception": false,
          "start_time": "2023-09-02T21:31:41.030316",
          "status": "completed"
        },
        "tags": []
      },
      "outputs": [
        {
          "data": {
            "text/plain": [
              "(1, 28)"
            ]
          },
          "execution_count": 46,
          "metadata": {},
          "output_type": "execute_result"
        }
      ],
      "source": [
        "I_CSx = I_CSx.reshape(n_lhs, -1)\n",
        "I_CSx.shape"
      ]
    },
    {
      "cell_type": "markdown",
      "id": "ec741031",
      "metadata": {
        "papermill": {
          "duration": 0.017193,
          "end_time": "2023-09-02T21:31:41.103984",
          "exception": false,
          "start_time": "2023-09-02T21:31:41.086791",
          "status": "completed"
        },
        "tags": []
      },
      "source": [
        "We're finally ready to do the most important part of the calculation, which we conveniently leave to `klujax` and `SuiteSparse`:"
      ]
    },
    {
      "cell_type": "code",
      "execution_count": 47,
      "id": "9c1d8644",
      "metadata": {
        "execution": {
          "iopub.execute_input": "2023-09-02T21:31:41.141755Z",
          "iopub.status.busy": "2023-09-02T21:31:41.140912Z",
          "iopub.status.idle": "2023-09-02T21:31:41.183689Z",
          "shell.execute_reply": "2023-09-02T21:31:41.183119Z"
        },
        "papermill": {
          "duration": 0.06403,
          "end_time": "2023-09-02T21:31:41.185419",
          "exception": false,
          "start_time": "2023-09-02T21:31:41.121389",
          "status": "completed"
        },
        "tags": []
      },
      "outputs": [],
      "source": [
        "inv_I_CS_Cext = solve_klu(I_CSi, I_CSj, I_CSx, Cext)"
      ]
    },
    {
      "cell_type": "markdown",
      "id": "e51487df",
      "metadata": {
        "papermill": {
          "duration": 0.017277,
          "end_time": "2023-09-02T21:31:41.220608",
          "exception": false,
          "start_time": "2023-09-02T21:31:41.203331",
          "status": "completed"
        },
        "tags": []
      },
      "source": [
        "one more sparse multiplication:"
      ]
    },
    {
      "cell_type": "code",
      "execution_count": 48,
      "id": "cccda072",
      "metadata": {
        "execution": {
          "iopub.execute_input": "2023-09-02T21:31:41.256808Z",
          "iopub.status.busy": "2023-09-02T21:31:41.256386Z",
          "iopub.status.idle": "2023-09-02T21:31:41.300579Z",
          "shell.execute_reply": "2023-09-02T21:31:41.299995Z"
        },
        "papermill": {
          "duration": 0.064677,
          "end_time": "2023-09-02T21:31:41.302504",
          "exception": false,
          "start_time": "2023-09-02T21:31:41.237827",
          "status": "completed"
        },
        "tags": []
      },
      "outputs": [],
      "source": [
        "S_inv_I_CS_Cext = mul_coo(Si, Sj, Sx, inv_I_CS_Cext)"
      ]
    },
    {
      "cell_type": "markdown",
      "id": "627a98f7",
      "metadata": {
        "papermill": {
          "duration": 0.017106,
          "end_time": "2023-09-02T21:31:41.337639",
          "exception": false,
          "start_time": "2023-09-02T21:31:41.320533",
          "status": "completed"
        },
        "tags": []
      },
      "source": [
        "And one more $C_{ext}$ multiplication which we do by clever indexing:"
      ]
    },
    {
      "cell_type": "code",
      "execution_count": 49,
      "id": "12ff877c",
      "metadata": {
        "execution": {
          "iopub.execute_input": "2023-09-02T21:31:41.374703Z",
          "iopub.status.busy": "2023-09-02T21:31:41.374275Z",
          "iopub.status.idle": "2023-09-02T21:31:41.386269Z",
          "shell.execute_reply": "2023-09-02T21:31:41.385713Z"
        },
        "papermill": {
          "duration": 0.032569,
          "end_time": "2023-09-02T21:31:41.387684",
          "exception": false,
          "start_time": "2023-09-02T21:31:41.355115",
          "status": "completed"
        },
        "tags": []
      },
      "outputs": [
        {
          "data": {
            "text/plain": [
              "Array([[[ 0.      +0.j      ,  0.      +0.j      , -0.25    +0.433015j,\n",
              "         -0.433015+0.75j    ],\n",
              "        [ 0.      +0.j      ,  0.      +0.j      , -0.433015+0.75j    ,\n",
              "          0.25    -0.433015j],\n",
              "        [-0.25    +0.433015j, -0.433015+0.75j    ,  0.      +0.j      ,\n",
              "          0.      +0.j      ],\n",
              "        [-0.433015+0.75j    ,  0.25    -0.433015j,  0.      +0.j      ,\n",
              "          0.      +0.j      ]]], dtype=complex128)"
            ]
          },
          "execution_count": 49,
          "metadata": {},
          "output_type": "execute_result"
        }
      ],
      "source": [
        "CextT_S_inv_I_CS_Cext = S_inv_I_CS_Cext[..., Cexti, :][..., :, Cextj]\n",
        "CextT_S_inv_I_CS_Cext"
      ]
    },
    {
      "cell_type": "markdown",
      "id": "3e1c75b2",
      "metadata": {
        "papermill": {
          "duration": 0.017224,
          "end_time": "2023-09-02T21:31:41.422636",
          "exception": false,
          "start_time": "2023-09-02T21:31:41.405412",
          "status": "completed"
        },
        "tags": []
      },
      "source": [
        "That's it! We found the S-matrix of the circuit. We just need to reshape the batch dimension back into the matrix:"
      ]
    },
    {
      "cell_type": "code",
      "execution_count": 50,
      "id": "cbf962af",
      "metadata": {
        "execution": {
          "iopub.execute_input": "2023-09-02T21:31:41.460844Z",
          "iopub.status.busy": "2023-09-02T21:31:41.460055Z",
          "iopub.status.idle": "2023-09-02T21:31:41.465809Z",
          "shell.execute_reply": "2023-09-02T21:31:41.465363Z"
        },
        "papermill": {
          "duration": 0.026434,
          "end_time": "2023-09-02T21:31:41.467227",
          "exception": false,
          "start_time": "2023-09-02T21:31:41.440793",
          "status": "completed"
        },
        "tags": []
      },
      "outputs": [
        {
          "data": {
            "text/plain": [
              "Array([[ 0.      +0.j      ,  0.      +0.j      , -0.25    +0.433015j,\n",
              "        -0.433015+0.75j    ],\n",
              "       [ 0.      +0.j      ,  0.      +0.j      , -0.433015+0.75j    ,\n",
              "         0.25    -0.433015j],\n",
              "       [-0.25    +0.433015j, -0.433015+0.75j    ,  0.      +0.j      ,\n",
              "         0.      +0.j      ],\n",
              "       [-0.433015+0.75j    ,  0.25    -0.433015j,  0.      +0.j      ,\n",
              "         0.      +0.j      ]], dtype=complex128)"
            ]
          },
          "execution_count": 50,
          "metadata": {},
          "output_type": "execute_result"
        }
      ],
      "source": [
        "_, n, _ = CextT_S_inv_I_CS_Cext.shape\n",
        "S = CextT_S_inv_I_CS_Cext.reshape(*batch_shape, n, n)\n",
        "S"
      ]
    },
    {
      "cell_type": "markdown",
      "id": "1f6dea4c",
      "metadata": {
        "papermill": {
          "duration": 0.019774,
          "end_time": "2023-09-02T21:31:41.506358",
          "exception": false,
          "start_time": "2023-09-02T21:31:41.486584",
          "status": "completed"
        },
        "tags": []
      },
      "source": [
        "Oh and to complete the `SDense` representation we need to specify the port map as well:"
      ]
    },
    {
      "cell_type": "code",
      "execution_count": 51,
      "id": "21098a45",
      "metadata": {
        "execution": {
          "iopub.execute_input": "2023-09-02T21:31:41.545057Z",
          "iopub.status.busy": "2023-09-02T21:31:41.544494Z",
          "iopub.status.idle": "2023-09-02T21:31:41.549247Z",
          "shell.execute_reply": "2023-09-02T21:31:41.548706Z"
        },
        "papermill": {
          "duration": 0.025946,
          "end_time": "2023-09-02T21:31:41.550764",
          "exception": false,
          "start_time": "2023-09-02T21:31:41.524818",
          "status": "completed"
        },
        "tags": []
      },
      "outputs": [
        {
          "data": {
            "text/plain": [
              "{'in0': 0, 'in1': 1, 'out0': 2, 'out1': 3}"
            ]
          },
          "execution_count": 51,
          "metadata": {},
          "output_type": "execute_result"
        }
      ],
      "source": [
        "port_map"
      ]
    },
    {
      "cell_type": "markdown",
      "id": "0cfee3cf",
      "metadata": {
        "papermill": {
          "duration": 0.017653,
          "end_time": "2023-09-02T21:31:41.587003",
          "exception": false,
          "start_time": "2023-09-02T21:31:41.569350",
          "status": "completed"
        },
        "tags": []
      },
      "source": [
        "## Algorithm Improvements"
      ]
    },
    {
      "cell_type": "markdown",
      "id": "26b70270",
      "metadata": {
        "papermill": {
          "duration": 0.01783,
          "end_time": "2023-09-02T21:31:41.622763",
          "exception": false,
          "start_time": "2023-09-02T21:31:41.604933",
          "status": "completed"
        },
        "tags": []
      },
      "source": [
        "This algorithm is \n",
        "\n",
        "* very fast for large circuits \ud83d\ude42\n",
        "\n",
        "This algorithm is however:\n",
        "\n",
        "* **not** jittable \ud83d\ude25\n",
        "* **not** differentiable \ud83d\ude25\n",
        "* **not** GPU-compatible \ud83d\ude42\n",
        "\n",
        "There are probably still plenty of improvements possible for this algorithm:\n",
        "\n",
        "* **\u00bf** make it jittable **?**\n",
        "* **\u00bf** make it differentiable (requires making klujax differentiable first) **?**\n",
        "* **\u00bf** make it GPU compatible (requires making suitesparse GPU compatible... probably not gonna happen)**?**\n",
        "\n",
        "Bottom line is... Do you know how to improve this algorithm or how to implement the above suggestions? Please open a Merge Request!"
      ]
    },
    {
      "cell_type": "markdown",
      "id": "7578c842-033b-4d1f-a84f-e5ad486d4a88",
      "metadata": {
        "papermill": {
          "duration": 0.017809,
          "end_time": "2023-09-02T21:31:41.658292",
          "exception": false,
          "start_time": "2023-09-02T21:31:41.640483",
          "status": "completed"
        },
        "tags": []
      },
      "source": [
        "## Debug"
      ]
    },
    {
      "cell_type": "code",
      "execution_count": 52,
      "id": "8764ab09-12b9-4b3d-9d83-9a0872924077",
      "metadata": {
        "execution": {
          "iopub.execute_input": "2023-09-02T21:31:41.696659Z",
          "iopub.status.busy": "2023-09-02T21:31:41.696049Z",
          "iopub.status.idle": "2023-09-02T21:31:41.706112Z",
          "shell.execute_reply": "2023-09-02T21:31:41.705644Z"
        },
        "papermill": {
          "duration": 0.031135,
          "end_time": "2023-09-02T21:31:41.707460",
          "exception": false,
          "start_time": "2023-09-02T21:31:41.676325",
          "status": "completed"
        },
        "tags": []
      },
      "outputs": [],
      "source": [
        "instances = {\n",
        "    \"lft\": (\n",
        "        jnp.array(\n",
        "            [\n",
        "                [\n",
        "                    5.19688622e-06 - 1.19777138e-05j,\n",
        "                    6.30595625e-16 - 1.48061189e-17j,\n",
        "                    -3.38542541e-01 - 6.15711852e-01j,\n",
        "                    5.80662654e-03 - 1.11068866e-02j,\n",
        "                    -3.38542542e-01 - 6.15711852e-01j,\n",
        "                    -5.80662660e-03 + 1.11068866e-02j,\n",
        "                ],\n",
        "                [\n",
        "                    8.59445189e-16 - 8.29783014e-16j,\n",
        "                    -2.08640825e-06 + 8.17315497e-06j,\n",
        "                    2.03847666e-03 - 2.10649131e-03j,\n",
        "                    5.30509661e-01 + 4.62504708e-01j,\n",
        "                    -2.03847666e-03 + 2.10649129e-03j,\n",
        "                    5.30509662e-01 + 4.62504708e-01j,\n",
        "                ],\n",
        "                [\n",
        "                    -3.38542541e-01 - 6.15711852e-01j,\n",
        "                    2.03847660e-03 - 2.10649129e-03j,\n",
        "                    7.60088070e-06 + 9.07340423e-07j,\n",
        "                    2.79292426e-09 + 2.79093547e-07j,\n",
        "                    5.07842364e-06 + 2.16385350e-06j,\n",
        "                    -6.84244232e-08 - 5.00486817e-07j,\n",
        "                ],\n",
        "                [\n",
        "                    5.80662707e-03 - 1.11068869e-02j,\n",
        "                    5.30509661e-01 + 4.62504708e-01j,\n",
        "                    2.79291895e-09 + 2.79093540e-07j,\n",
        "                    -4.55645798e-06 + 1.50570403e-06j,\n",
        "                    6.84244128e-08 + 5.00486817e-07j,\n",
        "                    -3.55812153e-06 + 4.59781091e-07j,\n",
        "                ],\n",
        "                [\n",
        "                    -3.38542541e-01 - 6.15711852e-01j,\n",
        "                    -2.03847672e-03 + 2.10649131e-03j,\n",
        "                    5.07842364e-06 + 2.16385349e-06j,\n",
        "                    6.84244230e-08 + 5.00486816e-07j,\n",
        "                    7.60088070e-06 + 9.07340425e-07j,\n",
        "                    -2.79292467e-09 - 2.79093547e-07j,\n",
        "                ],\n",
        "                [\n",
        "                    -5.80662607e-03 + 1.11068863e-02j,\n",
        "                    5.30509662e-01 + 4.62504708e-01j,\n",
        "                    -6.84244296e-08 - 5.00486825e-07j,\n",
        "                    -3.55812153e-06 + 4.59781093e-07j,\n",
        "                    -2.79293217e-09 - 2.79093547e-07j,\n",
        "                    -4.55645798e-06 + 1.50570403e-06j,\n",
        "                ],\n",
        "            ]\n",
        "        ),\n",
        "        {\"in0\": 0, \"out0\": 2, \"out1\": 4},\n",
        "    ),\n",
        "    \"top\": {(\"in0\", \"out0\"): -0.99477 - 0.10211j, (\"out0\", \"in0\"): -0.99477 - 0.10211j},\n",
        "    \"rgt\": {\n",
        "        (\"in0\", \"out0\"): 0.7071067811865476,\n",
        "        (\"in0\", \"out1\"): 0.7071067811865476j,\n",
        "        (\"in1\", \"out0\"): 0.7071067811865476j,\n",
        "        (\"in1\", \"out1\"): 0.7071067811865476,\n",
        "        (\"out0\", \"in0\"): 0.7071067811865476,\n",
        "        (\"out1\", \"in0\"): 0.7071067811865476j,\n",
        "        (\"out0\", \"in1\"): 0.7071067811865476j,\n",
        "        (\"out1\", \"in1\"): 0.7071067811865476,\n",
        "    },\n",
        "}\n",
        "connections = {\"lft,out0\": \"rgt,in0\", \"lft,out1\": \"top,in0\", \"top,out0\": \"rgt,in1\"}\n",
        "ports = {\"in0\": \"lft,in0\", \"out0\": \"rgt,out0\"}"
      ]
    },
    {
      "cell_type": "code",
      "execution_count": 53,
      "id": "20de2839-e848-49a4-b70a-bf192744c344",
      "metadata": {
        "execution": {
          "iopub.execute_input": "2023-09-02T21:31:41.745997Z",
          "iopub.status.busy": "2023-09-02T21:31:41.745200Z",
          "iopub.status.idle": "2023-09-02T21:31:42.873517Z",
          "shell.execute_reply": "2023-09-02T21:31:42.873000Z"
        },
        "papermill": {
          "duration": 1.149079,
          "end_time": "2023-09-02T21:31:42.874959",
          "exception": false,
          "start_time": "2023-09-02T21:31:41.725880",
          "status": "completed"
        },
        "tags": []
      },
      "outputs": [
        {
          "data": {
            "text/plain": [
              "{('in0', 'in0'): Array(5.19688622e-06-1.19777138e-05j, dtype=complex128),\n",
              " ('in0', 'out0'): Array(-0.69692642-0.24169633j, dtype=complex128),\n",
              " ('out0', 'in0'): Array(-0.69692642-0.24169633j, dtype=complex128),\n",
              " ('out0', 'out0'): Array(2.84253212e-06-5.59351604e-06j, dtype=complex128)}"
            ]
          },
          "execution_count": 53,
          "metadata": {},
          "output_type": "execute_result"
        }
      ],
      "source": [
        "sax.sdict(evaluate_circuit(analyze_circuit(connections, ports), instances))"
      ]
    },
    {
      "cell_type": "code",
      "execution_count": 54,
      "id": "fc7b3ac4-4599-4748-a4b8-ec0a2e3927c8",
      "metadata": {
        "execution": {
          "iopub.execute_input": "2023-09-02T21:31:42.912535Z",
          "iopub.status.busy": "2023-09-02T21:31:42.912160Z",
          "iopub.status.idle": "2023-09-02T21:31:42.987745Z",
          "shell.execute_reply": "2023-09-02T21:31:42.987219Z"
        },
        "papermill": {
          "duration": 0.099737,
          "end_time": "2023-09-02T21:31:42.993042",
          "exception": false,
          "start_time": "2023-09-02T21:31:42.893305",
          "status": "completed"
        },
        "tags": []
      },
      "outputs": [
        {
          "data": {
            "text/plain": [
              "{('in0', 'in0'): Array(5.19688622e-06-1.19777138e-05j, dtype=complex128),\n",
              " ('in0', 'out0'): Array(-0.69692642-0.24169633j, dtype=complex128),\n",
              " ('out0', 'in0'): Array(-0.69692642-0.24169633j, dtype=complex128),\n",
              " ('out0', 'out0'): Array(2.84253212e-06-5.59351604e-06j, dtype=complex128)}"
            ]
          },
          "execution_count": 54,
          "metadata": {},
          "output_type": "execute_result"
        }
      ],
      "source": [
        "sax.sdict(evaluate_circuit_klu(analyze_circuit_klu(connections, ports), instances))"
      ]
    }
  ],
  "metadata": {
    "kernelspec": {
      "display_name": "sax",
      "language": "python",
      "name": "sax"
    },
    "language_info": {
      "codemirror_mode": {
        "name": "ipython",
        "version": 3
      },
      "file_extension": ".py",
      "mimetype": "text/x-python",
      "name": "python",
      "nbconvert_exporter": "python",
      "pygments_lexer": "ipython3",
      "version": "3.11.5"
    },
    "papermill": {
      "default_parameters": {},
      "duration": 11.557421,
      "end_time": "2023-09-02T21:31:43.733199",
      "environment_variables": {},
      "exception": null,
      "input_path": "./internals/08b_backends_klu.ipynb",
      "output_path": "./internals/08b_backends_klu.ipynb",
      "parameters": {},
      "start_time": "2023-09-02T21:31:32.175778",
      "version": "2.4.0"
    }
  },
  "nbformat": 4,
  "nbformat_minor": 5
}