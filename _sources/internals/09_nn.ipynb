{
  "cells": [
    {
      "cell_type": "code",
      "execution_count": 1,
      "id": "58b147c074ff176e",
      "metadata": {
        "execution": {
          "iopub.execute_input": "2023-09-02T21:31:51.368335Z",
          "iopub.status.busy": "2023-09-02T21:31:51.367712Z",
          "iopub.status.idle": "2023-09-02T21:31:51.371968Z",
          "shell.execute_reply": "2023-09-02T21:31:51.371221Z"
        },
        "papermill": {
          "duration": 0.012127,
          "end_time": "2023-09-02T21:31:51.373578",
          "exception": false,
          "start_time": "2023-09-02T21:31:51.361451",
          "status": "completed"
        },
        "tags": [
          "remove-cell"
        ]
      },
      "outputs": [],
      "source": []
    },
    {
      "cell_type": "markdown",
      "id": "36903b9f",
      "metadata": {
        "papermill": {
          "duration": 0.002384,
          "end_time": "2023-09-02T21:31:51.378581",
          "exception": false,
          "start_time": "2023-09-02T21:31:51.376197",
          "status": "completed"
        },
        "tags": []
      },
      "source": [
        "# Neural Networks\n",
        "\n",
        "> Utilitites for creating advanced neural network SAX Models"
      ]
    },
    {
      "cell_type": "code",
      "execution_count": 2,
      "id": "07da064117b12daf",
      "metadata": {
        "execution": {
          "iopub.execute_input": "2023-09-02T21:31:51.384477Z",
          "iopub.status.busy": "2023-09-02T21:31:51.384003Z",
          "iopub.status.idle": "2023-09-02T21:31:51.389932Z",
          "shell.execute_reply": "2023-09-02T21:31:51.389301Z"
        },
        "papermill": {
          "duration": 0.010541,
          "end_time": "2023-09-02T21:31:51.391344",
          "exception": false,
          "start_time": "2023-09-02T21:31:51.380803",
          "status": "completed"
        },
        "tags": [
          "hide-input"
        ]
      },
      "outputs": [],
      "source": [
        "from __future__ import annotations"
      ]
    },
    {
      "cell_type": "code",
      "execution_count": 3,
      "id": "43cd868e59be0fe9",
      "metadata": {
        "execution": {
          "iopub.execute_input": "2023-09-02T21:31:51.397328Z",
          "iopub.status.busy": "2023-09-02T21:31:51.396876Z",
          "iopub.status.idle": "2023-09-02T21:31:51.400106Z",
          "shell.execute_reply": "2023-09-02T21:31:51.399644Z"
        },
        "papermill": {
          "duration": 0.007758,
          "end_time": "2023-09-02T21:31:51.401447",
          "exception": false,
          "start_time": "2023-09-02T21:31:51.393689",
          "status": "completed"
        },
        "tags": [
          "remove-cell"
        ]
      },
      "outputs": [],
      "source": [
        "import os, sys; sys.stderr = open(os.devnull, \"w\")"
      ]
    },
    {
      "cell_type": "markdown",
      "id": "24790eed-f741-4d07-91c9-a731ebcfc3f0",
      "metadata": {
        "papermill": {
          "duration": 0.002101,
          "end_time": "2023-09-02T21:31:51.405651",
          "exception": false,
          "start_time": "2023-09-02T21:31:51.403550",
          "status": "completed"
        },
        "tags": []
      },
      "source": [
        "## Check"
      ]
    },
    {
      "cell_type": "code",
      "execution_count": 4,
      "id": "71ee14ba-949f-4025-8813-5a6bf01b8464",
      "metadata": {
        "execution": {
          "iopub.execute_input": "2023-09-02T21:31:51.411258Z",
          "iopub.status.busy": "2023-09-02T21:31:51.410826Z",
          "iopub.status.idle": "2023-09-02T21:31:51.910089Z",
          "shell.execute_reply": "2023-09-02T21:31:51.907668Z"
        },
        "papermill": {
          "duration": 0.507412,
          "end_time": "2023-09-02T21:31:51.915192",
          "exception": false,
          "start_time": "2023-09-02T21:31:51.407780",
          "status": "completed"
        },
        "tags": []
      },
      "outputs": [],
      "source": [
        "try:\n",
        "    import jax\n",
        "except ImportError:\n",
        "    raise ImportError(\"[NO JAX] Cannot import sax.nn. Please install JAX first!\")"
      ]
    },
    {
      "cell_type": "markdown",
      "id": "75fbba73",
      "metadata": {
        "papermill": {
          "duration": 0.00237,
          "end_time": "2023-09-02T21:31:51.920974",
          "exception": false,
          "start_time": "2023-09-02T21:31:51.918604",
          "status": "completed"
        },
        "tags": []
      },
      "source": [
        "## Loss"
      ]
    },
    {
      "cell_type": "code",
      "execution_count": 5,
      "id": "1bbab41d460fa6eb",
      "metadata": {
        "execution": {
          "iopub.execute_input": "2023-09-02T21:31:51.927158Z",
          "iopub.status.busy": "2023-09-02T21:31:51.926602Z",
          "iopub.status.idle": "2023-09-02T21:31:52.843943Z",
          "shell.execute_reply": "2023-09-02T21:31:52.843313Z"
        },
        "papermill": {
          "duration": 0.923268,
          "end_time": "2023-09-02T21:31:52.846544",
          "exception": false,
          "start_time": "2023-09-02T21:31:51.923276",
          "status": "completed"
        },
        "tags": []
      },
      "outputs": [],
      "source": [
        "\n",
        "from sax.nn.loss import huber_loss as huber_loss\n",
        "from sax.nn.loss import l2_reg as l2_reg\n",
        "from sax.nn.loss import mse as mse"
      ]
    },
    {
      "cell_type": "markdown",
      "id": "1a18faa2",
      "metadata": {
        "papermill": {
          "duration": 0.002924,
          "end_time": "2023-09-02T21:31:52.852364",
          "exception": false,
          "start_time": "2023-09-02T21:31:52.849440",
          "status": "completed"
        },
        "tags": []
      },
      "source": [
        "## Utils"
      ]
    },
    {
      "cell_type": "code",
      "execution_count": 6,
      "id": "47f49c0328fcb5de",
      "metadata": {
        "execution": {
          "iopub.execute_input": "2023-09-02T21:31:52.860119Z",
          "iopub.status.busy": "2023-09-02T21:31:52.859309Z",
          "iopub.status.idle": "2023-09-02T21:31:52.862871Z",
          "shell.execute_reply": "2023-09-02T21:31:52.862423Z"
        },
        "papermill": {
          "duration": 0.00826,
          "end_time": "2023-09-02T21:31:52.864189",
          "exception": false,
          "start_time": "2023-09-02T21:31:52.855929",
          "status": "completed"
        },
        "tags": []
      },
      "outputs": [],
      "source": [
        "\n",
        "from sax.nn.utils import (\n",
        "    cartesian_product as cartesian_product,\n",
        "    denormalize as denormalize,\n",
        "    get_normalization as get_normalization,\n",
        "    get_df_columns as get_df_columns,\n",
        "    normalize as normalize,\n",
        ")"
      ]
    },
    {
      "cell_type": "markdown",
      "id": "ef010b3c",
      "metadata": {
        "papermill": {
          "duration": 0.00228,
          "end_time": "2023-09-02T21:31:52.868818",
          "exception": false,
          "start_time": "2023-09-02T21:31:52.866538",
          "status": "completed"
        },
        "tags": []
      },
      "source": [
        "## Core"
      ]
    },
    {
      "cell_type": "code",
      "execution_count": 7,
      "id": "30fab375b0ecc916",
      "metadata": {
        "execution": {
          "iopub.execute_input": "2023-09-02T21:31:52.874892Z",
          "iopub.status.busy": "2023-09-02T21:31:52.874414Z",
          "iopub.status.idle": "2023-09-02T21:31:52.877522Z",
          "shell.execute_reply": "2023-09-02T21:31:52.877005Z"
        },
        "papermill": {
          "duration": 0.008044,
          "end_time": "2023-09-02T21:31:52.879170",
          "exception": false,
          "start_time": "2023-09-02T21:31:52.871126",
          "status": "completed"
        },
        "tags": []
      },
      "outputs": [],
      "source": [
        "\n",
        "from sax.nn.core import (\n",
        "    preprocess as preprocess,\n",
        "    dense as dense,\n",
        "    generate_dense_weights as generate_dense_weights,\n",
        ")"
      ]
    },
    {
      "cell_type": "markdown",
      "id": "5e96c647",
      "metadata": {
        "papermill": {
          "duration": 0.002459,
          "end_time": "2023-09-02T21:31:52.918151",
          "exception": false,
          "start_time": "2023-09-02T21:31:52.915692",
          "status": "completed"
        },
        "tags": []
      },
      "source": [
        "## IO"
      ]
    },
    {
      "cell_type": "code",
      "execution_count": 8,
      "id": "923ae5a4862cf48a",
      "metadata": {
        "execution": {
          "iopub.execute_input": "2023-09-02T21:31:52.925166Z",
          "iopub.status.busy": "2023-09-02T21:31:52.924412Z",
          "iopub.status.idle": "2023-09-02T21:31:52.929162Z",
          "shell.execute_reply": "2023-09-02T21:31:52.928493Z"
        },
        "papermill": {
          "duration": 0.010214,
          "end_time": "2023-09-02T21:31:52.930672",
          "exception": false,
          "start_time": "2023-09-02T21:31:52.920458",
          "status": "completed"
        },
        "tags": []
      },
      "outputs": [],
      "source": [
        "\n",
        "from sax.nn.io import (\n",
        "    load_nn_weights_json as load_nn_weights_json,\n",
        "    save_nn_weights_json as save_nn_weights_json,\n",
        "    get_available_sizes as get_available_sizes,\n",
        "    get_dense_weights_path as get_dense_weights_path,\n",
        "    get_norm_path as get_norm_path,\n",
        "    load_nn_dense as load_nn_dense,\n",
        ")"
      ]
    }
  ],
  "metadata": {
    "kernelspec": {
      "display_name": "sax",
      "language": "python",
      "name": "sax"
    },
    "language_info": {
      "codemirror_mode": {
        "name": "ipython",
        "version": 3
      },
      "file_extension": ".py",
      "mimetype": "text/x-python",
      "name": "python",
      "nbconvert_exporter": "python",
      "pygments_lexer": "ipython3",
      "version": "3.11.5"
    },
    "papermill": {
      "default_parameters": {},
      "duration": 3.389498,
      "end_time": "2023-09-02T21:31:53.452353",
      "environment_variables": {},
      "exception": null,
      "input_path": "./internals/09_nn.ipynb",
      "output_path": "./internals/09_nn.ipynb",
      "parameters": {},
      "start_time": "2023-09-02T21:31:50.062855",
      "version": "2.4.0"
    }
  },
  "nbformat": 4,
  "nbformat_minor": 5
}