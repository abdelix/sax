{
  "cells": [
    {
      "cell_type": "markdown",
      "id": "41e0d311",
      "metadata": {
        "papermill": {
          "duration": 0.018076,
          "end_time": "2023-09-03T19:46:57.237685",
          "exception": false,
          "start_time": "2023-09-03T19:46:57.219609",
          "status": "completed"
        },
        "tags": []
      },
      "source": [
        "# Backends\n",
        "\n",
        "> SAX Backends"
      ]
    },
    {
      "cell_type": "code",
      "execution_count": 1,
      "id": "38d7e3b6-83cb-4768-8401-075260456fc9",
      "metadata": {
        "execution": {
          "iopub.execute_input": "2023-09-03T19:46:57.297325Z",
          "iopub.status.busy": "2023-09-03T19:46:57.296786Z",
          "iopub.status.idle": "2023-09-03T19:46:58.124264Z",
          "shell.execute_reply": "2023-09-03T19:46:58.123587Z"
        },
        "papermill": {
          "duration": 0.845689,
          "end_time": "2023-09-03T19:46:58.126167",
          "exception": false,
          "start_time": "2023-09-03T19:46:57.280478",
          "status": "completed"
        },
        "tags": []
      },
      "outputs": [],
      "source": [
        "import jax\n",
        "import jax.numpy as jnp\n",
        "import klujax\n",
        "import networkx as nx\n",
        "import sax"
      ]
    },
    {
      "cell_type": "markdown",
      "id": "ac34f260-6473-4484-a2ad-dc38e3f37c46",
      "metadata": {
        "papermill": {
          "duration": 0.015933,
          "end_time": "2023-09-03T19:46:58.157905",
          "exception": false,
          "start_time": "2023-09-03T19:46:58.141972",
          "status": "completed"
        },
        "tags": []
      },
      "source": [
        "## Introduction"
      ]
    },
    {
      "cell_type": "markdown",
      "id": "fbb157f0-f28b-47fc-a734-fb7181207487",
      "metadata": {
        "papermill": {
          "duration": 0.015125,
          "end_time": "2023-09-03T19:46:58.188264",
          "exception": false,
          "start_time": "2023-09-03T19:46:58.173139",
          "status": "completed"
        },
        "tags": []
      },
      "source": [
        "SAX allows to easily interchange the backend of a circuit. A SAX backend consists of a static analysis step and an evaluation step:\n",
        "\n",
        ":::{eval-rst}\n",
        ".. autofunction:: sax.backends.analyze_circuit\n",
        ":::\n",
        "\n",
        ":::{eval-rst}\n",
        ".. autofunction:: sax.backends.evaluate_circuit\n",
        ":::"
      ]
    },
    {
      "cell_type": "markdown",
      "id": "25d158f3-941f-44bb-bcfd-c90344bb3778",
      "metadata": {
        "papermill": {
          "duration": 0.015455,
          "end_time": "2023-09-03T19:46:58.218813",
          "exception": false,
          "start_time": "2023-09-03T19:46:58.203358",
          "status": "completed"
        },
        "tags": []
      },
      "source": [
        "The `analyze_circuit` step should statically analyze the connections and ports and should return an `analyzed` object. This object contains all the static objects that are needed for circuit computation but won't be needed to be recalculated when any parameters of the circuit change. See [KLU backend](#klu-backend) for a non-trivial implementation of the circuit analyzation.\n",
        "\n",
        "The `evaluate_circuit` step evaluates the circuit for given `SType` instances."
      ]
    },
    {
      "cell_type": "markdown",
      "id": "fbeef854-b3a4-4f39-9ffb-238f5d331c03",
      "metadata": {
        "papermill": {
          "duration": 0.01502,
          "end_time": "2023-09-03T19:46:58.248995",
          "exception": false,
          "start_time": "2023-09-03T19:46:58.233975",
          "status": "completed"
        },
        "tags": []
      },
      "source": [
        "## Example"
      ]
    },
    {
      "cell_type": "code",
      "execution_count": 2,
      "id": "e52daa7d-e73c-4bb3-8051-ae8836337a6a",
      "metadata": {
        "execution": {
          "iopub.execute_input": "2023-09-03T19:46:58.281648Z",
          "iopub.status.busy": "2023-09-03T19:46:58.280920Z",
          "iopub.status.idle": "2023-09-03T19:46:59.344104Z",
          "shell.execute_reply": "2023-09-03T19:46:59.342939Z"
        },
        "papermill": {
          "duration": 1.081588,
          "end_time": "2023-09-03T19:46:59.345822",
          "exception": false,
          "start_time": "2023-09-03T19:46:58.264234",
          "status": "completed"
        },
        "tags": []
      },
      "outputs": [
        {
          "data": {
            "text/plain": [
              "{('in0', 'in0'): Array(0.+0.j, dtype=complex128),\n",
              " ('in0', 'in1'): Array(0.+0.j, dtype=complex128),\n",
              " ('in0', 'out0'): Array(-0.25+0.433015j, dtype=complex128),\n",
              " ('in0', 'out1'): Array(-0.433015+0.75j, dtype=complex128),\n",
              " ('in1', 'in0'): Array(0.+0.j, dtype=complex128),\n",
              " ('in1', 'in1'): Array(0.+0.j, dtype=complex128),\n",
              " ('in1', 'out0'): Array(-0.433015+0.75j, dtype=complex128),\n",
              " ('in1', 'out1'): Array(0.25-0.433015j, dtype=complex128),\n",
              " ('out0', 'in0'): Array(-0.25+0.433015j, dtype=complex128),\n",
              " ('out0', 'in1'): Array(-0.433015+0.75j, dtype=complex128),\n",
              " ('out0', 'out0'): Array(0.+0.j, dtype=complex128),\n",
              " ('out0', 'out1'): Array(0.+0.j, dtype=complex128),\n",
              " ('out1', 'in0'): Array(-0.433015+0.75j, dtype=complex128),\n",
              " ('out1', 'in1'): Array(0.25-0.433015j, dtype=complex128),\n",
              " ('out1', 'out0'): Array(0.+0.j, dtype=complex128),\n",
              " ('out1', 'out1'): Array(0.+0.j, dtype=complex128)}"
            ]
          },
          "execution_count": 2,
          "metadata": {},
          "output_type": "execute_result"
        }
      ],
      "source": [
        "wg_sdict: sax.SDict = {\n",
        "    (\"in0\", \"out0\"): 0.5 + 0.86603j,\n",
        "    (\"out0\", \"in0\"): 0.5 + 0.86603j,\n",
        "}\n",
        "\n",
        "\u03c4, \u03ba = 0.5 ** 0.5, 1j * 0.5 ** 0.5\n",
        "dc_sdense: sax.SDense = (\n",
        "    jnp.array([[0, 0, \u03c4, \u03ba], \n",
        "               [0, 0, \u03ba, \u03c4], \n",
        "               [\u03c4, \u03ba, 0, 0], \n",
        "               [\u03ba, \u03c4, 0, 0]]),\n",
        "    {\"in0\": 0, \"in1\": 1, \"out0\": 2, \"out1\": 3},\n",
        ")\n",
        "\n",
        "instances={\n",
        "    \"dc1\": dc_sdense,\n",
        "    \"wg\": wg_sdict,\n",
        "    \"dc2\": dc_sdense,\n",
        "}\n",
        "connections={\n",
        "    \"dc1,out0\": \"wg,in0\",\n",
        "    \"wg,out0\": \"dc2,in0\",\n",
        "    \"dc1,out1\": \"dc2,in1\",\n",
        "}\n",
        "ports={\n",
        "    \"in0\": \"dc1,in0\",\n",
        "    \"in1\": \"dc1,in1\",\n",
        "    \"out0\": \"dc2,out0\",\n",
        "    \"out1\": \"dc2,out1\",\n",
        "}\n",
        "\n",
        "analyzed = sax.backends.analyze_circuit(connections, ports)\n",
        "mzi_sdict = sax.sdict(sax.backends.evaluate_circuit(analyzed, instances))\n",
        "mzi_sdict"
      ]
    },
    {
      "cell_type": "markdown",
      "id": "691fd6a9-fd55-4e83-bb9e-aa93e9a23378",
      "metadata": {
        "papermill": {
          "duration": 0.015264,
          "end_time": "2023-09-03T19:46:59.377331",
          "exception": false,
          "start_time": "2023-09-03T19:46:59.362067",
          "status": "completed"
        },
        "tags": []
      },
      "source": [
        "## Filipsson-Gunnar Backend"
      ]
    },
    {
      "cell_type": "markdown",
      "id": "b5426e1b-2179-4a1c-b796-c96155575f17",
      "metadata": {
        "papermill": {
          "duration": 0.015477,
          "end_time": "2023-09-03T19:46:59.408164",
          "exception": false,
          "start_time": "2023-09-03T19:46:59.392687",
          "status": "completed"
        },
        "tags": []
      },
      "source": [
        ":::{note}\n",
        "Since The KLU Backend (see below) is Superior to the Filipsson-Gunnar backend, SAX will default (since v0.10.0) to the KLU backend if `klujax` is installed.name1\n",
        ":::"
      ]
    },
    {
      "cell_type": "markdown",
      "id": "024f9283-15fa-46b6-80c8-c594f6437da7",
      "metadata": {
        "papermill": {
          "duration": 0.015127,
          "end_time": "2023-09-03T19:46:59.438507",
          "exception": false,
          "start_time": "2023-09-03T19:46:59.423380",
          "status": "completed"
        },
        "tags": []
      },
      "source": [
        "The Filipsson-Gunnar backend is based on the following paper:\n",
        "\n",
        "> Filipsson, Gunnar. \"*A new general computer algorithm for S-matrix calculation of interconnected multiports.*\" 11th European Microwave Conference. IEEE, 1981.\n",
        "\n",
        ":::{eval-rst}\n",
        ".. autofunction:: sax.backends.analyze_circuit_fg\n",
        ":::\n",
        "\n",
        ":::{eval-rst}\n",
        ".. autofunction:: sax.backends.evaluate_circuit_fg\n",
        ":::"
      ]
    },
    {
      "cell_type": "markdown",
      "id": "9d4585be-7692-491f-8de6-9802435bec5c",
      "metadata": {
        "papermill": {
          "duration": 0.015274,
          "end_time": "2023-09-03T19:46:59.469036",
          "exception": false,
          "start_time": "2023-09-03T19:46:59.453762",
          "status": "completed"
        },
        "tags": []
      },
      "source": [
        "### Algorithm Walkthrough"
      ]
    },
    {
      "cell_type": "markdown",
      "id": "48950a3d",
      "metadata": {
        "papermill": {
          "duration": 0.015375,
          "end_time": "2023-09-03T19:46:59.499546",
          "exception": false,
          "start_time": "2023-09-03T19:46:59.484171",
          "status": "completed"
        },
        "tags": []
      },
      "source": [
        ":::{note}\n",
        "This algorithm gets pretty slow for large circuits. Since SAX v0.10.0 we will default to the superior KLU backend as the KLU backend is now also jittable.\n",
        ":::"
      ]
    },
    {
      "cell_type": "markdown",
      "id": "81e28766",
      "metadata": {
        "papermill": {
          "duration": 0.016817,
          "end_time": "2023-09-03T19:46:59.532138",
          "exception": false,
          "start_time": "2023-09-03T19:46:59.515321",
          "status": "completed"
        },
        "tags": []
      },
      "source": [
        "Let's walk through all the steps of this algorithm. We'll do this for a simple MZI circuit, given by two directional couplers characterised by `dc_sdense` with a phase shifting waveguide in between `wg_sdict`:"
      ]
    },
    {
      "cell_type": "code",
      "execution_count": 3,
      "id": "e2bdfbf4",
      "metadata": {
        "execution": {
          "iopub.execute_input": "2023-09-03T19:46:59.565836Z",
          "iopub.status.busy": "2023-09-03T19:46:59.565301Z",
          "iopub.status.idle": "2023-09-03T19:46:59.569568Z",
          "shell.execute_reply": "2023-09-03T19:46:59.568863Z"
        },
        "papermill": {
          "duration": 0.022714,
          "end_time": "2023-09-03T19:46:59.571152",
          "exception": false,
          "start_time": "2023-09-03T19:46:59.548438",
          "status": "completed"
        },
        "tags": []
      },
      "outputs": [],
      "source": [
        "instances={\n",
        "    \"dc1\": dc_sdense,\n",
        "    \"wg\": wg_sdict,\n",
        "    \"dc2\": dc_sdense,\n",
        "}\n",
        "connections={\n",
        "    \"dc1,out0\": \"wg,in0\",\n",
        "    \"wg,out0\": \"dc2,in0\",\n",
        "    \"dc1,out1\": \"dc2,in1\",\n",
        "}\n",
        "ports={\n",
        "    \"in0\": \"dc1,in0\",\n",
        "    \"in1\": \"dc1,in1\",\n",
        "    \"out0\": \"dc2,out0\",\n",
        "    \"out1\": \"dc2,out1\",\n",
        "}"
      ]
    },
    {
      "cell_type": "markdown",
      "id": "6ef72161",
      "metadata": {
        "papermill": {
          "duration": 0.015312,
          "end_time": "2023-09-03T19:46:59.601799",
          "exception": false,
          "start_time": "2023-09-03T19:46:59.586487",
          "status": "completed"
        },
        "tags": []
      },
      "source": [
        "as a first step, we construct the `reversed_ports`, it's actually easier to work with `reversed_ports` (we chose the opposite convention in the netlist definition to adhere to the GDSFactory netlist convention):"
      ]
    },
    {
      "cell_type": "code",
      "execution_count": 4,
      "id": "70302612",
      "metadata": {
        "execution": {
          "iopub.execute_input": "2023-09-03T19:46:59.634381Z",
          "iopub.status.busy": "2023-09-03T19:46:59.633688Z",
          "iopub.status.idle": "2023-09-03T19:46:59.637804Z",
          "shell.execute_reply": "2023-09-03T19:46:59.637160Z"
        },
        "papermill": {
          "duration": 0.021995,
          "end_time": "2023-09-03T19:46:59.639262",
          "exception": false,
          "start_time": "2023-09-03T19:46:59.617267",
          "status": "completed"
        },
        "tags": []
      },
      "outputs": [],
      "source": [
        "reversed_ports = {v: k for k, v in ports.items()}"
      ]
    },
    {
      "cell_type": "markdown",
      "id": "78676045",
      "metadata": {
        "papermill": {
          "duration": 0.015279,
          "end_time": "2023-09-03T19:46:59.669894",
          "exception": false,
          "start_time": "2023-09-03T19:46:59.654615",
          "status": "completed"
        },
        "tags": []
      },
      "source": [
        "The first real step of the algorithm is to create the 'block diagonal sdict`:"
      ]
    },
    {
      "cell_type": "code",
      "execution_count": 5,
      "id": "0ff6149f",
      "metadata": {
        "execution": {
          "iopub.execute_input": "2023-09-03T19:46:59.702252Z",
          "iopub.status.busy": "2023-09-03T19:46:59.701553Z",
          "iopub.status.idle": "2023-09-03T19:46:59.734296Z",
          "shell.execute_reply": "2023-09-03T19:46:59.733667Z"
        },
        "papermill": {
          "duration": 0.050842,
          "end_time": "2023-09-03T19:46:59.735992",
          "exception": false,
          "start_time": "2023-09-03T19:46:59.685150",
          "status": "completed"
        },
        "tags": []
      },
      "outputs": [],
      "source": [
        "block_diag = {}\n",
        "for name, S in instances.items():\n",
        "    block_diag.update(\n",
        "        {(f\"{name},{p1}\", f\"{name},{p2}\"): v for (p1, p2), v in sax.sdict(S).items()}\n",
        "    )\n"
      ]
    },
    {
      "cell_type": "markdown",
      "id": "c4721548",
      "metadata": {
        "papermill": {
          "duration": 0.015442,
          "end_time": "2023-09-03T19:46:59.767650",
          "exception": false,
          "start_time": "2023-09-03T19:46:59.752208",
          "status": "completed"
        },
        "tags": []
      },
      "source": [
        "we can optionally filter out zeros from the resulting block_diag representation. Just note that this will make the resuling function unjittable (the resulting 'shape' (i.e. keys) of the dictionary would depend on the data itself, which is not allowed in JAX jit). We're doing it here to avoid printing zeros but **internally this is not done by default**."
      ]
    },
    {
      "cell_type": "code",
      "execution_count": 6,
      "id": "cfce53c1",
      "metadata": {
        "execution": {
          "iopub.execute_input": "2023-09-03T19:46:59.800437Z",
          "iopub.status.busy": "2023-09-03T19:46:59.799742Z",
          "iopub.status.idle": "2023-09-03T19:46:59.858865Z",
          "shell.execute_reply": "2023-09-03T19:46:59.858158Z"
        },
        "papermill": {
          "duration": 0.077606,
          "end_time": "2023-09-03T19:46:59.860657",
          "exception": false,
          "start_time": "2023-09-03T19:46:59.783051",
          "status": "completed"
        },
        "tags": []
      },
      "outputs": [
        {
          "name": "stdout",
          "output_type": "stream",
          "text": [
            "18\n"
          ]
        },
        {
          "data": {
            "text/plain": [
              "{('dc1,in0', 'dc1,out0'): Array(0.70710678+0.j, dtype=complex128),\n",
              " ('dc1,in0', 'dc1,out1'): Array(0.+0.70710678j, dtype=complex128),\n",
              " ('dc1,in1', 'dc1,out0'): Array(0.+0.70710678j, dtype=complex128),\n",
              " ('dc1,in1', 'dc1,out1'): Array(0.70710678+0.j, dtype=complex128),\n",
              " ('dc1,out0', 'dc1,in0'): Array(0.70710678+0.j, dtype=complex128),\n",
              " ('dc1,out0', 'dc1,in1'): Array(0.+0.70710678j, dtype=complex128),\n",
              " ('dc1,out1', 'dc1,in0'): Array(0.+0.70710678j, dtype=complex128),\n",
              " ('dc1,out1', 'dc1,in1'): Array(0.70710678+0.j, dtype=complex128),\n",
              " ('wg,in0', 'wg,out0'): (0.5+0.86603j),\n",
              " ('wg,out0', 'wg,in0'): (0.5+0.86603j),\n",
              " ('dc2,in0', 'dc2,out0'): Array(0.70710678+0.j, dtype=complex128),\n",
              " ('dc2,in0', 'dc2,out1'): Array(0.+0.70710678j, dtype=complex128),\n",
              " ('dc2,in1', 'dc2,out0'): Array(0.+0.70710678j, dtype=complex128),\n",
              " ('dc2,in1', 'dc2,out1'): Array(0.70710678+0.j, dtype=complex128),\n",
              " ('dc2,out0', 'dc2,in0'): Array(0.70710678+0.j, dtype=complex128),\n",
              " ('dc2,out0', 'dc2,in1'): Array(0.+0.70710678j, dtype=complex128),\n",
              " ('dc2,out1', 'dc2,in0'): Array(0.+0.70710678j, dtype=complex128),\n",
              " ('dc2,out1', 'dc2,in1'): Array(0.70710678+0.j, dtype=complex128)}"
            ]
          },
          "execution_count": 6,
          "metadata": {},
          "output_type": "execute_result"
        }
      ],
      "source": [
        "block_diag = {k: v for k, v in block_diag.items() if jnp.abs(v) > 1e-10}\n",
        "print(len(block_diag))\n",
        "block_diag"
      ]
    },
    {
      "cell_type": "markdown",
      "id": "1963694a",
      "metadata": {
        "papermill": {
          "duration": 0.015569,
          "end_time": "2023-09-03T19:46:59.892182",
          "exception": false,
          "start_time": "2023-09-03T19:46:59.876613",
          "status": "completed"
        },
        "tags": []
      },
      "source": [
        "next, we sort the connections such that similar components are grouped together:"
      ]
    },
    {
      "cell_type": "code",
      "execution_count": 7,
      "id": "9859c2d4",
      "metadata": {
        "execution": {
          "iopub.execute_input": "2023-09-03T19:46:59.924866Z",
          "iopub.status.busy": "2023-09-03T19:46:59.924347Z",
          "iopub.status.idle": "2023-09-03T19:46:59.929375Z",
          "shell.execute_reply": "2023-09-03T19:46:59.928698Z"
        },
        "papermill": {
          "duration": 0.022844,
          "end_time": "2023-09-03T19:46:59.930708",
          "exception": false,
          "start_time": "2023-09-03T19:46:59.907864",
          "status": "completed"
        },
        "tags": []
      },
      "outputs": [
        {
          "data": {
            "text/plain": [
              "[('dc1,out1', 'dc2,in1'), ('dc1,out0', 'wg,in0'), ('wg,out0', 'dc2,in0')]"
            ]
          },
          "execution_count": 7,
          "metadata": {},
          "output_type": "execute_result"
        }
      ],
      "source": [
        "from sax.backends.filipsson_gunnar import _connections_sort_key\n",
        "sorted_connections = sorted(connections.items(), key=_connections_sort_key)\n",
        "sorted_connections"
      ]
    },
    {
      "cell_type": "markdown",
      "id": "c75fbf65",
      "metadata": {
        "papermill": {
          "duration": 0.015656,
          "end_time": "2023-09-03T19:46:59.961995",
          "exception": false,
          "start_time": "2023-09-03T19:46:59.946339",
          "status": "completed"
        },
        "tags": []
      },
      "source": [
        "Now we iterate over the sorted connections and connect components as they come in. Connected components take over the name of the first component in the connection, but we keep a set of components belonging to that key in `all_connected_instances`.\n",
        "\n",
        "This is how this `all_connected_instances` dictionary looks initially."
      ]
    },
    {
      "cell_type": "code",
      "execution_count": 8,
      "id": "cf30668c",
      "metadata": {
        "execution": {
          "iopub.execute_input": "2023-09-03T19:46:59.995026Z",
          "iopub.status.busy": "2023-09-03T19:46:59.994360Z",
          "iopub.status.idle": "2023-09-03T19:46:59.999016Z",
          "shell.execute_reply": "2023-09-03T19:46:59.998366Z"
        },
        "papermill": {
          "duration": 0.022933,
          "end_time": "2023-09-03T19:47:00.000587",
          "exception": false,
          "start_time": "2023-09-03T19:46:59.977654",
          "status": "completed"
        },
        "tags": []
      },
      "outputs": [
        {
          "data": {
            "text/plain": [
              "{'dc1': {'dc1'}, 'wg': {'wg'}, 'dc2': {'dc2'}}"
            ]
          },
          "execution_count": 8,
          "metadata": {},
          "output_type": "execute_result"
        }
      ],
      "source": [
        "all_connected_instances = {k: {k} for k in instances}\n",
        "all_connected_instances"
      ]
    },
    {
      "cell_type": "markdown",
      "id": "1152056b",
      "metadata": {
        "papermill": {
          "duration": 0.015999,
          "end_time": "2023-09-03T19:47:00.032948",
          "exception": false,
          "start_time": "2023-09-03T19:47:00.016949",
          "status": "completed"
        },
        "tags": []
      },
      "source": [
        "Normally we would loop over every connection in `sorted_connections` now, but let's just go through it once at first:"
      ]
    },
    {
      "cell_type": "code",
      "execution_count": 9,
      "id": "7800733d9cf89925",
      "metadata": {
        "execution": {
          "iopub.execute_input": "2023-09-03T19:47:00.066394Z",
          "iopub.status.busy": "2023-09-03T19:47:00.065684Z",
          "iopub.status.idle": "2023-09-03T19:47:00.070573Z",
          "shell.execute_reply": "2023-09-03T19:47:00.069880Z"
        },
        "papermill": {
          "duration": 0.023257,
          "end_time": "2023-09-03T19:47:00.071994",
          "exception": false,
          "start_time": "2023-09-03T19:47:00.048737",
          "status": "completed"
        },
        "tags": []
      },
      "outputs": [
        {
          "data": {
            "text/plain": [
              "('dc1,out1', 'dc2,in1')"
            ]
          },
          "execution_count": 9,
          "metadata": {},
          "output_type": "execute_result"
        }
      ],
      "source": [
        "# for k, l in sorted_connections:\n",
        "k, l = sorted_connections[0]\n",
        "k, l"
      ]
    },
    {
      "cell_type": "markdown",
      "id": "16a2266c",
      "metadata": {
        "papermill": {
          "duration": 0.015833,
          "end_time": "2023-09-03T19:47:00.103720",
          "exception": false,
          "start_time": "2023-09-03T19:47:00.087887",
          "status": "completed"
        },
        "tags": []
      },
      "source": [
        "`k` and `l` are the S-matrix indices we're trying to connect. Note that in our sparse `SDict` notation these S-matrix indices are in fact equivalent with the port names `('dc1,out1', 'dc2,in1')`!"
      ]
    },
    {
      "cell_type": "markdown",
      "id": "0eaf4add",
      "metadata": {
        "papermill": {
          "duration": 0.015914,
          "end_time": "2023-09-03T19:47:00.135668",
          "exception": false,
          "start_time": "2023-09-03T19:47:00.119754",
          "status": "completed"
        },
        "tags": []
      },
      "source": [
        "first we split the connection string into an instance name and a port name (we don't use the port name yet):"
      ]
    },
    {
      "cell_type": "code",
      "execution_count": 10,
      "id": "667d1a3c",
      "metadata": {
        "execution": {
          "iopub.execute_input": "2023-09-03T19:47:00.169264Z",
          "iopub.status.busy": "2023-09-03T19:47:00.168678Z",
          "iopub.status.idle": "2023-09-03T19:47:00.172463Z",
          "shell.execute_reply": "2023-09-03T19:47:00.171737Z"
        },
        "papermill": {
          "duration": 0.022366,
          "end_time": "2023-09-03T19:47:00.173934",
          "exception": false,
          "start_time": "2023-09-03T19:47:00.151568",
          "status": "completed"
        },
        "tags": []
      },
      "outputs": [],
      "source": [
        "name1, _ = k.split(\",\")\n",
        "name2, _ = l.split(\",\")"
      ]
    },
    {
      "cell_type": "markdown",
      "id": "16e8bbe8",
      "metadata": {
        "papermill": {
          "duration": 0.015943,
          "end_time": "2023-09-03T19:47:00.205851",
          "exception": false,
          "start_time": "2023-09-03T19:47:00.189908",
          "status": "completed"
        },
        "tags": []
      },
      "source": [
        "We then obtain the new set of connected instances."
      ]
    },
    {
      "cell_type": "code",
      "execution_count": 11,
      "id": "51bf8615",
      "metadata": {
        "execution": {
          "iopub.execute_input": "2023-09-03T19:47:00.239822Z",
          "iopub.status.busy": "2023-09-03T19:47:00.239087Z",
          "iopub.status.idle": "2023-09-03T19:47:00.243800Z",
          "shell.execute_reply": "2023-09-03T19:47:00.243113Z"
        },
        "papermill": {
          "duration": 0.023417,
          "end_time": "2023-09-03T19:47:00.245378",
          "exception": false,
          "start_time": "2023-09-03T19:47:00.221961",
          "status": "completed"
        },
        "tags": []
      },
      "outputs": [
        {
          "data": {
            "text/plain": [
              "{'dc1', 'dc2'}"
            ]
          },
          "execution_count": 11,
          "metadata": {},
          "output_type": "execute_result"
        }
      ],
      "source": [
        "connected_instances = all_connected_instances[name1] | all_connected_instances[name2]\n",
        "connected_instances"
      ]
    },
    {
      "cell_type": "markdown",
      "id": "676c8d61",
      "metadata": {
        "papermill": {
          "duration": 0.016055,
          "end_time": "2023-09-03T19:47:00.277848",
          "exception": false,
          "start_time": "2023-09-03T19:47:00.261793",
          "status": "completed"
        },
        "tags": []
      },
      "source": [
        "We then iterate over each of the components in this set and make sure each of the component names in that set maps to that set (yes, I know... confusing). We do this to be able to keep track with which components each of the components in the circuit is currently already connected to."
      ]
    },
    {
      "cell_type": "code",
      "execution_count": 12,
      "id": "d322e86c",
      "metadata": {
        "execution": {
          "iopub.execute_input": "2023-09-03T19:47:00.311792Z",
          "iopub.status.busy": "2023-09-03T19:47:00.311119Z",
          "iopub.status.idle": "2023-09-03T19:47:00.315981Z",
          "shell.execute_reply": "2023-09-03T19:47:00.315324Z"
        },
        "papermill": {
          "duration": 0.023445,
          "end_time": "2023-09-03T19:47:00.317544",
          "exception": false,
          "start_time": "2023-09-03T19:47:00.294099",
          "status": "completed"
        },
        "tags": []
      },
      "outputs": [
        {
          "data": {
            "text/plain": [
              "{'dc1': {'dc1', 'dc2'}, 'wg': {'wg'}, 'dc2': {'dc1', 'dc2'}}"
            ]
          },
          "execution_count": 12,
          "metadata": {},
          "output_type": "execute_result"
        }
      ],
      "source": [
        "for name in connected_instances:\n",
        "    all_connected_instances[name] = connected_instances\n",
        "    \n",
        "all_connected_instances"
      ]
    },
    {
      "cell_type": "markdown",
      "id": "b79f49f8",
      "metadata": {
        "papermill": {
          "duration": 0.016151,
          "end_time": "2023-09-03T19:47:00.350260",
          "exception": false,
          "start_time": "2023-09-03T19:47:00.334109",
          "status": "completed"
        },
        "tags": []
      },
      "source": [
        "now we need to obtain all the ports of the currently connected instances."
      ]
    },
    {
      "cell_type": "code",
      "execution_count": 13,
      "id": "61b3cfab",
      "metadata": {
        "execution": {
          "iopub.execute_input": "2023-09-03T19:47:00.383977Z",
          "iopub.status.busy": "2023-09-03T19:47:00.383335Z",
          "iopub.status.idle": "2023-09-03T19:47:00.388841Z",
          "shell.execute_reply": "2023-09-03T19:47:00.388146Z"
        },
        "papermill": {
          "duration": 0.024419,
          "end_time": "2023-09-03T19:47:00.390743",
          "exception": false,
          "start_time": "2023-09-03T19:47:00.366324",
          "status": "completed"
        },
        "tags": []
      },
      "outputs": [
        {
          "data": {
            "text/plain": [
              "('dc2,in1',\n",
              " 'dc2,out0',\n",
              " 'dc2,out1',\n",
              " 'dc2,in0',\n",
              " 'dc1,in1',\n",
              " 'dc1,out0',\n",
              " 'dc1,in0',\n",
              " 'dc1,out1')"
            ]
          },
          "execution_count": 13,
          "metadata": {},
          "output_type": "execute_result"
        }
      ],
      "source": [
        "current_ports = tuple(\n",
        "    p\n",
        "    for instance in connected_instances\n",
        "    for p in set([p for p, _ in block_diag] + [p for _, p in block_diag])\n",
        "    if p.startswith(f\"{instance},\")\n",
        ")\n",
        "\n",
        "current_ports"
      ]
    },
    {
      "cell_type": "markdown",
      "id": "d0e87449",
      "metadata": {
        "papermill": {
          "duration": 0.016261,
          "end_time": "2023-09-03T19:47:00.423182",
          "exception": false,
          "start_time": "2023-09-03T19:47:00.406921",
          "status": "completed"
        },
        "tags": []
      },
      "source": [
        "Now the [Gunnar Algorithm](#citation) is used. Given a (block-diagonal) 'S-matrix' `block_diag` and a 'connection matrix' `current_ports` we can interconnect port `k` and `l` as follows:\n",
        "\n",
        "> Note: some creative freedom is used here. In SAX, the matrices we're talking about are in fact represented by a sparse dictionary (an `SDict`), i.e. similar to a COO sparse matrix for which the indices are the port names."
      ]
    },
    {
      "cell_type": "markdown",
      "id": "988c08d9",
      "metadata": {
        "papermill": {
          "duration": 0.016541,
          "end_time": "2023-09-03T19:47:00.456097",
          "exception": false,
          "start_time": "2023-09-03T19:47:00.439556",
          "status": "completed"
        },
        "tags": []
      },
      "source": [
        "Just as before, we're filtering the zeros from the sparse representation (remember, internally this is **not done by default**)."
      ]
    },
    {
      "cell_type": "code",
      "execution_count": 14,
      "id": "e9ac8164",
      "metadata": {
        "execution": {
          "iopub.execute_input": "2023-09-03T19:47:00.490030Z",
          "iopub.status.busy": "2023-09-03T19:47:00.489540Z",
          "iopub.status.idle": "2023-09-03T19:47:00.498596Z",
          "shell.execute_reply": "2023-09-03T19:47:00.497951Z"
        },
        "papermill": {
          "duration": 0.027984,
          "end_time": "2023-09-03T19:47:00.500372",
          "exception": false,
          "start_time": "2023-09-03T19:47:00.472388",
          "status": "completed"
        },
        "tags": []
      },
      "outputs": [
        {
          "name": "stdout",
          "output_type": "stream",
          "text": [
            "18\n"
          ]
        },
        {
          "data": {
            "text/plain": [
              "{('dc1,in0', 'dc1,out0'): Array(0.70710678+0.j, dtype=complex128),\n",
              " ('dc1,in0', 'dc1,out1'): Array(0.+0.70710678j, dtype=complex128),\n",
              " ('dc1,in1', 'dc1,out0'): Array(0.+0.70710678j, dtype=complex128),\n",
              " ('dc1,in1', 'dc1,out1'): Array(0.70710678+0.j, dtype=complex128),\n",
              " ('dc1,out0', 'dc1,in0'): Array(0.70710678+0.j, dtype=complex128),\n",
              " ('dc1,out0', 'dc1,in1'): Array(0.+0.70710678j, dtype=complex128),\n",
              " ('dc1,out1', 'dc1,in0'): Array(0.+0.70710678j, dtype=complex128),\n",
              " ('dc1,out1', 'dc1,in1'): Array(0.70710678+0.j, dtype=complex128),\n",
              " ('wg,in0', 'wg,out0'): (0.5+0.86603j),\n",
              " ('wg,out0', 'wg,in0'): (0.5+0.86603j),\n",
              " ('dc2,in0', 'dc2,out0'): Array(0.70710678+0.j, dtype=complex128),\n",
              " ('dc2,in0', 'dc2,out1'): Array(0.+0.70710678j, dtype=complex128),\n",
              " ('dc2,in1', 'dc2,out0'): Array(0.+0.70710678j, dtype=complex128),\n",
              " ('dc2,in1', 'dc2,out1'): Array(0.70710678+0.j, dtype=complex128),\n",
              " ('dc2,out0', 'dc2,in0'): Array(0.70710678+0.j, dtype=complex128),\n",
              " ('dc2,out0', 'dc2,in1'): Array(0.+0.70710678j, dtype=complex128),\n",
              " ('dc2,out1', 'dc2,in0'): Array(0.+0.70710678j, dtype=complex128),\n",
              " ('dc2,out1', 'dc2,in1'): Array(0.70710678+0.j, dtype=complex128)}"
            ]
          },
          "execution_count": 14,
          "metadata": {},
          "output_type": "execute_result"
        }
      ],
      "source": [
        "block_diag = {k: v for k, v in block_diag.items() if jnp.abs(v) > 1e-10}\n",
        "print(len(block_diag))\n",
        "block_diag"
      ]
    },
    {
      "cell_type": "markdown",
      "id": "db0cd151",
      "metadata": {
        "papermill": {
          "duration": 0.016396,
          "end_time": "2023-09-03T19:47:00.533194",
          "exception": false,
          "start_time": "2023-09-03T19:47:00.516798",
          "status": "completed"
        },
        "tags": []
      },
      "source": [
        "This is the resulting block-diagonal matrix after interconnecting two ports (i.e. basically saying that those two ports are the same port). Because these ports are now connected we should actually remove them from the S-matrix representation (they are integrated into the S-parameters of the other connections):"
      ]
    },
    {
      "cell_type": "code",
      "execution_count": 15,
      "id": "311b034f",
      "metadata": {
        "execution": {
          "iopub.execute_input": "2023-09-03T19:47:00.567900Z",
          "iopub.status.busy": "2023-09-03T19:47:00.567419Z",
          "iopub.status.idle": "2023-09-03T19:47:00.575452Z",
          "shell.execute_reply": "2023-09-03T19:47:00.574804Z"
        },
        "papermill": {
          "duration": 0.027125,
          "end_time": "2023-09-03T19:47:00.576871",
          "exception": false,
          "start_time": "2023-09-03T19:47:00.549746",
          "status": "completed"
        },
        "tags": []
      },
      "outputs": [
        {
          "name": "stdout",
          "output_type": "stream",
          "text": [
            "10\n"
          ]
        },
        {
          "data": {
            "text/plain": [
              "{('dc1,in0', 'dc1,out0'): Array(0.70710678+0.j, dtype=complex128),\n",
              " ('dc1,in1', 'dc1,out0'): Array(0.+0.70710678j, dtype=complex128),\n",
              " ('dc1,out0', 'dc1,in0'): Array(0.70710678+0.j, dtype=complex128),\n",
              " ('dc1,out0', 'dc1,in1'): Array(0.+0.70710678j, dtype=complex128),\n",
              " ('wg,in0', 'wg,out0'): (0.5+0.86603j),\n",
              " ('wg,out0', 'wg,in0'): (0.5+0.86603j),\n",
              " ('dc2,in0', 'dc2,out0'): Array(0.70710678+0.j, dtype=complex128),\n",
              " ('dc2,in0', 'dc2,out1'): Array(0.+0.70710678j, dtype=complex128),\n",
              " ('dc2,out0', 'dc2,in0'): Array(0.70710678+0.j, dtype=complex128),\n",
              " ('dc2,out1', 'dc2,in0'): Array(0.+0.70710678j, dtype=complex128)}"
            ]
          },
          "execution_count": 15,
          "metadata": {},
          "output_type": "execute_result"
        }
      ],
      "source": [
        "for i, j in list(block_diag.keys()):\n",
        "    is_connected = i == k or i == l or j == k or j == l\n",
        "    is_in_output_ports = i in reversed_ports and j in reversed_ports\n",
        "    if is_connected and not is_in_output_ports:\n",
        "        del block_diag[i, j]  # we're no longer interested in these port combinations\n",
        "        \n",
        "print(len(block_diag))\n",
        "block_diag"
      ]
    },
    {
      "cell_type": "markdown",
      "id": "b6badcb7",
      "metadata": {
        "papermill": {
          "duration": 0.016578,
          "end_time": "2023-09-03T19:47:00.610028",
          "exception": false,
          "start_time": "2023-09-03T19:47:00.593450",
          "status": "completed"
        },
        "tags": []
      },
      "source": [
        "Note that this deletion of values **does NOT** make this operation un-jittable. The deletion depends on the ports of the dictionary (i.e. on the dictionary 'shape'), not on the values."
      ]
    },
    {
      "cell_type": "markdown",
      "id": "89e775cd",
      "metadata": {
        "papermill": {
          "duration": 0.016618,
          "end_time": "2023-09-03T19:47:00.643255",
          "exception": false,
          "start_time": "2023-09-03T19:47:00.626637",
          "status": "completed"
        },
        "tags": []
      },
      "source": [
        "We now basically have to do those steps again for all other connections:"
      ]
    },
    {
      "cell_type": "code",
      "execution_count": 16,
      "id": "25eac933",
      "metadata": {
        "execution": {
          "iopub.execute_input": "2023-09-03T19:47:00.678425Z",
          "iopub.status.busy": "2023-09-03T19:47:00.678158Z",
          "iopub.status.idle": "2023-09-03T19:47:02.148489Z",
          "shell.execute_reply": "2023-09-03T19:47:02.147784Z"
        },
        "papermill": {
          "duration": 1.49066,
          "end_time": "2023-09-03T19:47:02.150644",
          "exception": false,
          "start_time": "2023-09-03T19:47:00.659984",
          "status": "completed"
        },
        "tags": []
      },
      "outputs": [],
      "source": [
        "from sax.backends.filipsson_gunnar import _interconnect_ports\n",
        "#for k, l in sorted_connections: \n",
        "for k, l in sorted_connections[1:]: # we just did the first iteration of this loop above...\n",
        "    name1, _ = k.split(\",\")\n",
        "    name2, _ = l.split(\",\")\n",
        "    connected_instances = all_connected_instances[name1] | all_connected_instances[name2]\n",
        "    for name in connected_instances:\n",
        "        all_connected_instances[name] = connected_instances\n",
        "    current_ports = tuple(\n",
        "        p\n",
        "        for instance in connected_instances\n",
        "        for p in set([p for p, _ in block_diag] + [p for _, p in block_diag])\n",
        "        if p.startswith(f\"{instance},\")\n",
        "    )\n",
        "    block_diag.update(_interconnect_ports(block_diag, current_ports, k, l))\n",
        "    for i, j in list(block_diag.keys()):\n",
        "        is_connected = i == k or i == l or j == k or j == l\n",
        "        is_in_output_ports = i in reversed_ports and j in reversed_ports\n",
        "        if is_connected and not is_in_output_ports:\n",
        "            del block_diag[i, j]  # we're no longer interested in these port combinations"
      ]
    },
    {
      "cell_type": "markdown",
      "id": "36eb82fc",
      "metadata": {
        "papermill": {
          "duration": 0.016919,
          "end_time": "2023-09-03T19:47:02.185124",
          "exception": false,
          "start_time": "2023-09-03T19:47:02.168205",
          "status": "completed"
        },
        "tags": []
      },
      "source": [
        "This is the final MZI matrix we're getting:"
      ]
    },
    {
      "cell_type": "code",
      "execution_count": 17,
      "id": "d1c0367e",
      "metadata": {
        "execution": {
          "iopub.execute_input": "2023-09-03T19:47:02.220905Z",
          "iopub.status.busy": "2023-09-03T19:47:02.220158Z",
          "iopub.status.idle": "2023-09-03T19:47:02.228501Z",
          "shell.execute_reply": "2023-09-03T19:47:02.227864Z"
        },
        "papermill": {
          "duration": 0.028034,
          "end_time": "2023-09-03T19:47:02.229914",
          "exception": false,
          "start_time": "2023-09-03T19:47:02.201880",
          "status": "completed"
        },
        "tags": []
      },
      "outputs": [
        {
          "data": {
            "text/plain": [
              "{('dc2,out0', 'dc2,out0'): Array(0.+0.j, dtype=complex128),\n",
              " ('dc2,out0', 'dc2,out1'): Array(0.+0.j, dtype=complex128),\n",
              " ('dc2,out0', 'dc1,in1'): Array(-0.433015+0.25j, dtype=complex128),\n",
              " ('dc2,out0', 'dc1,in0'): Array(0.25+0.433015j, dtype=complex128),\n",
              " ('dc2,out1', 'dc2,out0'): Array(0.+0.j, dtype=complex128),\n",
              " ('dc2,out1', 'dc2,out1'): Array(0.+0.j, dtype=complex128),\n",
              " ('dc2,out1', 'dc1,in1'): Array(-0.25-0.433015j, dtype=complex128),\n",
              " ('dc2,out1', 'dc1,in0'): Array(-0.433015+0.25j, dtype=complex128),\n",
              " ('dc1,in1', 'dc2,out0'): Array(-0.433015+0.25j, dtype=complex128),\n",
              " ('dc1,in1', 'dc2,out1'): Array(-0.25-0.433015j, dtype=complex128),\n",
              " ('dc1,in1', 'dc1,in1'): Array(0.+0.j, dtype=complex128),\n",
              " ('dc1,in1', 'dc1,in0'): Array(0.+0.j, dtype=complex128),\n",
              " ('dc1,in0', 'dc2,out0'): Array(0.25+0.433015j, dtype=complex128),\n",
              " ('dc1,in0', 'dc2,out1'): Array(-0.433015+0.25j, dtype=complex128),\n",
              " ('dc1,in0', 'dc1,in1'): Array(0.+0.j, dtype=complex128),\n",
              " ('dc1,in0', 'dc1,in0'): Array(0.+0.j, dtype=complex128)}"
            ]
          },
          "execution_count": 17,
          "metadata": {},
          "output_type": "execute_result"
        }
      ],
      "source": [
        "block_diag"
      ]
    },
    {
      "cell_type": "markdown",
      "id": "03f67ec6",
      "metadata": {
        "papermill": {
          "duration": 0.016988,
          "end_time": "2023-09-03T19:47:02.264755",
          "exception": false,
          "start_time": "2023-09-03T19:47:02.247767",
          "status": "completed"
        },
        "tags": []
      },
      "source": [
        "All that's left is to rename these internal ports of the format `{instance},{port}` into output ports of the resulting circuit:"
      ]
    },
    {
      "cell_type": "code",
      "execution_count": 18,
      "id": "cf5ea4af",
      "metadata": {
        "execution": {
          "iopub.execute_input": "2023-09-03T19:47:02.300094Z",
          "iopub.status.busy": "2023-09-03T19:47:02.299533Z",
          "iopub.status.idle": "2023-09-03T19:47:02.308164Z",
          "shell.execute_reply": "2023-09-03T19:47:02.307536Z"
        },
        "papermill": {
          "duration": 0.028056,
          "end_time": "2023-09-03T19:47:02.309562",
          "exception": false,
          "start_time": "2023-09-03T19:47:02.281506",
          "status": "completed"
        },
        "tags": []
      },
      "outputs": [
        {
          "data": {
            "text/plain": [
              "{('out0', 'out0'): Array(0.+0.j, dtype=complex128),\n",
              " ('out0', 'out1'): Array(0.+0.j, dtype=complex128),\n",
              " ('out0', 'in1'): Array(-0.433015+0.25j, dtype=complex128),\n",
              " ('out0', 'in0'): Array(0.25+0.433015j, dtype=complex128),\n",
              " ('out1', 'out0'): Array(0.+0.j, dtype=complex128),\n",
              " ('out1', 'out1'): Array(0.+0.j, dtype=complex128),\n",
              " ('out1', 'in1'): Array(-0.25-0.433015j, dtype=complex128),\n",
              " ('out1', 'in0'): Array(-0.433015+0.25j, dtype=complex128),\n",
              " ('in1', 'out0'): Array(-0.433015+0.25j, dtype=complex128),\n",
              " ('in1', 'out1'): Array(-0.25-0.433015j, dtype=complex128),\n",
              " ('in1', 'in1'): Array(0.+0.j, dtype=complex128),\n",
              " ('in1', 'in0'): Array(0.+0.j, dtype=complex128),\n",
              " ('in0', 'out0'): Array(0.25+0.433015j, dtype=complex128),\n",
              " ('in0', 'out1'): Array(-0.433015+0.25j, dtype=complex128),\n",
              " ('in0', 'in1'): Array(0.+0.j, dtype=complex128),\n",
              " ('in0', 'in0'): Array(0.+0.j, dtype=complex128)}"
            ]
          },
          "execution_count": 18,
          "metadata": {},
          "output_type": "execute_result"
        }
      ],
      "source": [
        "circuit_sdict: sax.SDict = {\n",
        "    (reversed_ports[i], reversed_ports[j]): v\n",
        "    for (i, j), v in block_diag.items()\n",
        "    if i in reversed_ports and j in reversed_ports\n",
        "}\n",
        "circuit_sdict"
      ]
    },
    {
      "cell_type": "markdown",
      "id": "7dc6505e",
      "metadata": {
        "papermill": {
          "duration": 0.016838,
          "end_time": "2023-09-03T19:47:02.343311",
          "exception": false,
          "start_time": "2023-09-03T19:47:02.326473",
          "status": "completed"
        },
        "tags": []
      },
      "source": [
        "And that's it. We evaluated the `SDict` of the full circuit."
      ]
    },
    {
      "cell_type": "markdown",
      "id": "170db10b",
      "metadata": {
        "papermill": {
          "duration": 0.016851,
          "end_time": "2023-09-03T19:47:02.377217",
          "exception": false,
          "start_time": "2023-09-03T19:47:02.360366",
          "status": "completed"
        },
        "tags": []
      },
      "source": [
        "### Algorithm Improvements"
      ]
    },
    {
      "cell_type": "markdown",
      "id": "4ed0e69a",
      "metadata": {
        "papermill": {
          "duration": 0.016834,
          "end_time": "2023-09-03T19:47:02.410904",
          "exception": false,
          "start_time": "2023-09-03T19:47:02.394070",
          "status": "completed"
        },
        "tags": []
      },
      "source": [
        "The Filipsson-Gunar algorithm is \n",
        "\n",
        "* pretty fast for small circuits \ud83d\ude42\n",
        "* jittable \ud83d\ude42\n",
        "* differentiable \ud83d\ude42\n",
        "* GPU-compatible \ud83d\ude42\n",
        "\n",
        "This algorithm is however:\n",
        "\n",
        "* **really slow** for large circuits \ud83d\ude25\n",
        "* **pretty slow** to jit the resulting circuit function \ud83d\ude25\n",
        "* **pretty slow** to differentiate the resulting circuit function \ud83d\ude25\n",
        "\n",
        "There are probably still plenty of improvements possible for this algorithm:\n",
        "\n",
        "* **\u00bf** Network analysis (ft. NetworkX ?) to obtain which ports of the block diagonal representation are relevant to obtain the output connection **?**\n",
        "* **\u00bf** Smarter ordering of connections to always have the minimum amount of ports in the intermediate block-diagonal representation **?**\n",
        "* **\u00bf** Using `jax.lax.scan` in stead of python native for-loops in `_interconnect_ports` **?**\n",
        "* **\u00bf** ... **?**\n",
        "\n",
        "Bottom line is... Do you know how to improve this algorithm or how to implement the above suggestions? Please open a Merge Request!"
      ]
    },
    {
      "cell_type": "markdown",
      "id": "8ac28523-e792-4c9a-a23f-252ae91a4a7d",
      "metadata": {
        "papermill": {
          "duration": 0.016753,
          "end_time": "2023-09-03T19:47:02.444516",
          "exception": false,
          "start_time": "2023-09-03T19:47:02.427763",
          "status": "completed"
        },
        "tags": []
      },
      "source": [
        "## KLU Backend\n",
        "\n",
        "The KLU backend is using `klujax`, which uses the [SuiteSparse](https://github.com/DrTimothyAldenDavis/SuiteSparse) C++ libraries for sparse matrix evaluations to evaluate the circuit insanely fast on a CPU. The specific algorith being used in question is the KLU algorithm:\n",
        "\n",
        "> Ekanathan Palamadai Natariajan. \"*KLU - A high performance sparse linear solver for circuit simulation problems.*\"\n",
        "\n",
        ":::{eval-rst}\n",
        ".. autofunction:: sax.backends.analyze_circuit_klu\n",
        ":::\n",
        "\n",
        ":::{eval-rst}\n",
        ".. autofunction:: sax.backends.evaluate_circuit_klu\n",
        ":::"
      ]
    },
    {
      "cell_type": "markdown",
      "id": "8804e6fd-3dda-4770-a312-434ddc00446f",
      "metadata": {
        "papermill": {
          "duration": 0.016837,
          "end_time": "2023-09-03T19:47:02.478385",
          "exception": false,
          "start_time": "2023-09-03T19:47:02.461548",
          "status": "completed"
        },
        "tags": []
      },
      "source": [
        "### Theoretical Background"
      ]
    },
    {
      "cell_type": "markdown",
      "id": "b31bb0c6-6ffe-47a7-8458-cf555d5c0579",
      "metadata": {
        "papermill": {
          "duration": 0.016857,
          "end_time": "2023-09-03T19:47:02.512060",
          "exception": false,
          "start_time": "2023-09-03T19:47:02.495203",
          "status": "completed"
        },
        "tags": []
      },
      "source": [
        "The core of the KLU algorithm is supported by `klujax`, which internally uses the Suitesparse libraries to solve the sparse system `Ax = b`, in which A is a sparse matrix."
      ]
    },
    {
      "cell_type": "markdown",
      "id": "68f22fec-2d16-4d94-be9d-a02b1c85efa8",
      "metadata": {
        "papermill": {
          "duration": 0.016863,
          "end_time": "2023-09-03T19:47:02.545867",
          "exception": false,
          "start_time": "2023-09-03T19:47:02.529004",
          "status": "completed"
        },
        "tags": []
      },
      "source": [
        "Now it only comes down to shoehorn our circuit evaluation into a sparse linear system of equations $Ax=b$ where we need to solve for $x$ using `klujax`. \n",
        "Consider the block diagonal matrix $S_{bd}$ of all components in the circuit acting on the fields $x_{in}$ at each of the individual ports of each of the component integrated in $S^{bd}$. The output fields $x^{out}$ at each of those ports is then given by:\n",
        "\n",
        "$$\n",
        "x^{out} = S_{bd} x^{in}\n",
        "$$"
      ]
    },
    {
      "cell_type": "markdown",
      "id": "b023a7b2-8ba4-4d46-98c2-82f2ac4c68d4",
      "metadata": {
        "papermill": {
          "duration": 0.016901,
          "end_time": "2023-09-03T19:47:02.579807",
          "exception": false,
          "start_time": "2023-09-03T19:47:02.562906",
          "status": "completed"
        },
        "tags": []
      },
      "source": [
        "However, $S_{bd}$ is not the S-matrix of the circuit as it does not encode any connectivity *between* the components. Connecting two component ports basically comes down to enforcing equality between the output fields at one port of a component with the input fields at another port of another (or maybe even the same) component. This equality can be enforced by creating an internal connection matrix, connecting all internal ports of the circuit:\n",
        "\n",
        "$$\n",
        "x^{in} = C_{int} x^{out}\n",
        "$$"
      ]
    },
    {
      "cell_type": "markdown",
      "id": "10a61bbc-39ca-4b09-8071-61554fbb49f8",
      "metadata": {
        "papermill": {
          "duration": 0.016889,
          "end_time": "2023-09-03T19:47:02.613636",
          "exception": false,
          "start_time": "2023-09-03T19:47:02.596747",
          "status": "completed"
        },
        "tags": []
      },
      "source": [
        "We can thus write the following combined equation:\n",
        "\n",
        "$$\n",
        "x^{in} = C_{int} S_{bd} x^{in}\n",
        "$$"
      ]
    },
    {
      "cell_type": "markdown",
      "id": "8f99e680-c57a-4baf-8ff2-a35b63ea29af",
      "metadata": {
        "papermill": {
          "duration": 0.016864,
          "end_time": "2023-09-03T19:47:02.647333",
          "exception": false,
          "start_time": "2023-09-03T19:47:02.630469",
          "status": "completed"
        },
        "tags": []
      },
      "source": [
        "But this is not the complete story... Some component ports will *not* be *interconnected* with other ports: they will become the new *external ports* (or output ports) of the combined circuit. We can include those external ports into the above equation as follows:\n",
        "\n",
        "$$\n",
        "\\begin{pmatrix} x^{in} \\\\ x^{out}_{ext} \\end{pmatrix} = \\begin{pmatrix} C_{int} & C_{ext} \\\\ C_{ext}^T & 0 \\end{pmatrix} \\begin{pmatrix} S_{bd} x^{in} \\\\ x_{ext}^{in} \\end{pmatrix} \n",
        "$$"
      ]
    },
    {
      "cell_type": "markdown",
      "id": "a3f77604-0f3a-4371-a4d5-42ce667587c0",
      "metadata": {
        "papermill": {
          "duration": 0.016918,
          "end_time": "2023-09-03T19:47:02.681354",
          "exception": false,
          "start_time": "2023-09-03T19:47:02.664436",
          "status": "completed"
        },
        "tags": []
      },
      "source": [
        "Note that $C_{ext}$ is obviously **not** a square matrix. Eliminating $x^{in}$ from the equation above finally yields:\n",
        "\n",
        "$$\n",
        "x^{out}_{ext} = C^T_{ext} S_{bd} (I - C_{int}S_{bd})^{-1} C_{ext}x_{ext}^{in}\n",
        "$$"
      ]
    },
    {
      "cell_type": "markdown",
      "id": "4cfb5f22-67d3-4c7e-b6c6-994fd4add6a4",
      "metadata": {
        "papermill": {
          "duration": 0.016913,
          "end_time": "2023-09-03T19:47:02.715220",
          "exception": false,
          "start_time": "2023-09-03T19:47:02.698307",
          "status": "completed"
        },
        "tags": []
      },
      "source": [
        "We basically found a representation of the circuit S-matrix:\n",
        "\n",
        "$$\n",
        "S = C^T_{ext} S_{bd} (I - C_{int}S_{bd})^{-1} C_{ext}\n",
        "$$"
      ]
    },
    {
      "cell_type": "markdown",
      "id": "cdd9c503-f057-4b99-a6f6-61a8f71bc71d",
      "metadata": {
        "papermill": {
          "duration": 0.016916,
          "end_time": "2023-09-03T19:47:02.749011",
          "exception": false,
          "start_time": "2023-09-03T19:47:02.732095",
          "status": "completed"
        },
        "tags": []
      },
      "source": [
        "Obviously, we won't want to calculate the inverse $(I - C_{int}S_{bd})^{-1}$, which is the inverse of a very sparse matrix (a connection matrix only has a single 1 per line), which very often is not even sparse itself. In stead we'll use the `solve_klu` function:\n",
        "\n",
        "$$\n",
        "S = C^T_{ext} S_{bd} \\texttt{solve}\\_\\texttt{klu}\\left((I - C_{int}S_{bd}), C_{ext}\\right)\n",
        "$$"
      ]
    },
    {
      "cell_type": "markdown",
      "id": "45811209-f2bd-4bd4-a531-2956e6bd3293",
      "metadata": {
        "papermill": {
          "duration": 0.016871,
          "end_time": "2023-09-03T19:47:02.783025",
          "exception": false,
          "start_time": "2023-09-03T19:47:02.766154",
          "status": "completed"
        },
        "tags": []
      },
      "source": [
        "Moreover, $C_{ext}^TS_{bd}$ is also a sparse matrix, therefore we'll also need a `mul_coo` routine:\n",
        "\n",
        "$$\n",
        "S = C^T_{ext} \\texttt{mul}\\_\\texttt{coo}\\left(S_{bd},~~\\texttt{solve}\\_\\texttt{klu}\\left((I - C_{int}S_{bd}),~C_{ext}\\right)\\right)\n",
        "$$"
      ]
    },
    {
      "cell_type": "markdown",
      "id": "03256ad3-4d45-4113-9d38-f08d36593b21",
      "metadata": {
        "papermill": {
          "duration": 0.016911,
          "end_time": "2023-09-03T19:47:02.816841",
          "exception": false,
          "start_time": "2023-09-03T19:47:02.799930",
          "status": "completed"
        },
        "tags": []
      },
      "source": [
        "### Sparse Helper Functions\n",
        "\n",
        ":::{eval-rst}\n",
        ".. autofunction:: klujax.solve\n",
        ":::\n",
        "\n",
        ":::{eval-rst}\n",
        ".. autofunction:: klujax.coo_mul_vec\n",
        ":::"
      ]
    },
    {
      "cell_type": "markdown",
      "id": "3e54a061-8846-4a23-8431-18cfe0d2bc9d",
      "metadata": {
        "papermill": {
          "duration": 0.016811,
          "end_time": "2023-09-03T19:47:02.850666",
          "exception": false,
          "start_time": "2023-09-03T19:47:02.833855",
          "status": "completed"
        },
        "tags": []
      },
      "source": [
        "`klujax.solve` solves the sparse system of equations `Ax=b` for `x`. Where `A` is represented by in [COO-format](https://en.wikipedia.org/wiki/Sparse_matrix#Coordinate_list_(COO)) as (`Ai`, `Aj`, `Ax`).\n",
        "\n",
        "> Example"
      ]
    },
    {
      "cell_type": "code",
      "execution_count": 19,
      "id": "63e7977a",
      "metadata": {
        "execution": {
          "iopub.execute_input": "2023-09-03T19:47:02.886332Z",
          "iopub.status.busy": "2023-09-03T19:47:02.885751Z",
          "iopub.status.idle": "2023-09-03T19:47:02.920117Z",
          "shell.execute_reply": "2023-09-03T19:47:02.919435Z"
        },
        "papermill": {
          "duration": 0.053995,
          "end_time": "2023-09-03T19:47:02.921681",
          "exception": false,
          "start_time": "2023-09-03T19:47:02.867686",
          "status": "completed"
        },
        "tags": []
      },
      "outputs": [
        {
          "data": {
            "text/plain": [
              "Array([6. , 1. , 0.5, 0.5, 2. ], dtype=float64)"
            ]
          },
          "execution_count": 19,
          "metadata": {},
          "output_type": "execute_result"
        }
      ],
      "source": [
        "Ai = jnp.array([0, 1, 2, 3, 4])\n",
        "Aj = jnp.array([1, 3, 4, 0, 2])\n",
        "Ax = jnp.array([5, 6, 1, 1, 2])\n",
        "b = jnp.array([5, 3, 2, 6, 1])\n",
        "x = klujax.solve(Ai, Aj, Ax, b)\n",
        "x"
      ]
    },
    {
      "cell_type": "markdown",
      "id": "d54bfd5f-0799-493f-8677-d086b5b05b56",
      "metadata": {
        "papermill": {
          "duration": 0.01708,
          "end_time": "2023-09-03T19:47:02.956085",
          "exception": false,
          "start_time": "2023-09-03T19:47:02.939005",
          "status": "completed"
        },
        "tags": []
      },
      "source": [
        "This result is indeed correct:"
      ]
    },
    {
      "cell_type": "code",
      "execution_count": 20,
      "id": "629bbc71",
      "metadata": {
        "execution": {
          "iopub.execute_input": "2023-09-03T19:47:02.991521Z",
          "iopub.status.busy": "2023-09-03T19:47:02.991109Z",
          "iopub.status.idle": "2023-09-03T19:47:03.137490Z",
          "shell.execute_reply": "2023-09-03T19:47:03.136704Z"
        },
        "papermill": {
          "duration": 0.166222,
          "end_time": "2023-09-03T19:47:03.139347",
          "exception": false,
          "start_time": "2023-09-03T19:47:02.973125",
          "status": "completed"
        },
        "tags": []
      },
      "outputs": [
        {
          "name": "stdout",
          "output_type": "stream",
          "text": [
            "[[0. 5. 0. 0. 0.]\n",
            " [0. 0. 0. 6. 0.]\n",
            " [0. 0. 0. 0. 1.]\n",
            " [1. 0. 0. 0. 0.]\n",
            " [0. 0. 2. 0. 0.]]\n",
            "[5. 3. 2. 6. 1.]\n"
          ]
        }
      ],
      "source": [
        "A = jnp.zeros((5, 5)).at[Ai, Aj].set(Ax)\n",
        "print(A)\n",
        "print(A@x)"
      ]
    },
    {
      "cell_type": "markdown",
      "id": "9c6d0b95-1224-4c7f-8855-99b84f2d6163",
      "metadata": {
        "papermill": {
          "duration": 0.017647,
          "end_time": "2023-09-03T19:47:03.175133",
          "exception": false,
          "start_time": "2023-09-03T19:47:03.157486",
          "status": "completed"
        },
        "tags": []
      },
      "source": [
        "However, to use this function effectively, we probably need an extra dimension for `Ax`. Indeed, we would like to solve this equation for multiple wavelengths (or more general, for multiple circuit configurations) at once. For this we can use `jax.vmap` to expose `klujax.solve` to more dimensions for `Ax`:"
      ]
    },
    {
      "cell_type": "code",
      "execution_count": 21,
      "id": "b40dc363d13a11ba",
      "metadata": {
        "execution": {
          "iopub.execute_input": "2023-09-03T19:47:03.211286Z",
          "iopub.status.busy": "2023-09-03T19:47:03.210707Z",
          "iopub.status.idle": "2023-09-03T19:47:03.214469Z",
          "shell.execute_reply": "2023-09-03T19:47:03.213763Z"
        },
        "papermill": {
          "duration": 0.023709,
          "end_time": "2023-09-03T19:47:03.215996",
          "exception": false,
          "start_time": "2023-09-03T19:47:03.192287",
          "status": "completed"
        },
        "tags": []
      },
      "outputs": [],
      "source": [
        "solve_klu = jax.vmap(klujax.solve, (None, None, 0, None), 0)"
      ]
    },
    {
      "cell_type": "markdown",
      "id": "c6f7b28c-cd7b-4136-b450-097225f2c3ba",
      "metadata": {
        "papermill": {
          "duration": 0.017192,
          "end_time": "2023-09-03T19:47:03.251006",
          "exception": false,
          "start_time": "2023-09-03T19:47:03.233814",
          "status": "completed"
        },
        "tags": []
      },
      "source": [
        "Let's now redefine `Ax` and see what it gives:"
      ]
    },
    {
      "cell_type": "code",
      "execution_count": 22,
      "id": "d4d7b6f9",
      "metadata": {
        "execution": {
          "iopub.execute_input": "2023-09-03T19:47:03.287368Z",
          "iopub.status.busy": "2023-09-03T19:47:03.286828Z",
          "iopub.status.idle": "2023-09-03T19:47:03.329331Z",
          "shell.execute_reply": "2023-09-03T19:47:03.328635Z"
        },
        "papermill": {
          "duration": 0.062725,
          "end_time": "2023-09-03T19:47:03.331039",
          "exception": false,
          "start_time": "2023-09-03T19:47:03.268314",
          "status": "completed"
        },
        "tags": []
      },
      "outputs": [
        {
          "data": {
            "text/plain": [
              "Array([[6.        , 1.        , 0.5       , 0.5       , 2.        ],\n",
              "       [3.        , 1.        , 1.        , 0.75      , 0.66666667],\n",
              "       [1.5       , 5.        , 0.2       , 1.5       , 0.66666667]],      dtype=float64)"
            ]
          },
          "execution_count": 22,
          "metadata": {},
          "output_type": "execute_result"
        }
      ],
      "source": [
        "Ai = jnp.array([0, 1, 2, 3, 4])\n",
        "Aj = jnp.array([1, 3, 4, 0, 2])\n",
        "Ax = jnp.array([[5, 6, 1, 1, 2], [5, 4, 3, 2, 1], [1, 2, 3, 4, 5]])\n",
        "b = jnp.array([5, 3, 2, 6, 1])\n",
        "x = solve_klu(Ai, Aj, Ax, b)\n",
        "x"
      ]
    },
    {
      "cell_type": "markdown",
      "id": "2bc1db8c-335b-43f0-b515-04c948f66745",
      "metadata": {
        "papermill": {
          "duration": 0.017363,
          "end_time": "2023-09-03T19:47:03.366063",
          "exception": false,
          "start_time": "2023-09-03T19:47:03.348700",
          "status": "completed"
        },
        "tags": []
      },
      "source": [
        "This result is indeed correct:"
      ]
    },
    {
      "cell_type": "code",
      "execution_count": 23,
      "id": "0afefaa6",
      "metadata": {
        "execution": {
          "iopub.execute_input": "2023-09-03T19:47:03.401917Z",
          "iopub.status.busy": "2023-09-03T19:47:03.401502Z",
          "iopub.status.idle": "2023-09-03T19:47:03.491036Z",
          "shell.execute_reply": "2023-09-03T19:47:03.490293Z"
        },
        "papermill": {
          "duration": 0.109768,
          "end_time": "2023-09-03T19:47:03.493049",
          "exception": false,
          "start_time": "2023-09-03T19:47:03.383281",
          "status": "completed"
        },
        "tags": []
      },
      "outputs": [
        {
          "data": {
            "text/plain": [
              "Array([[5., 3., 2., 6., 1.],\n",
              "       [5., 3., 2., 6., 1.],\n",
              "       [5., 3., 2., 6., 1.]], dtype=float64)"
            ]
          },
          "execution_count": 23,
          "metadata": {},
          "output_type": "execute_result"
        }
      ],
      "source": [
        "A = jnp.zeros((3, 5, 5)).at[:, Ai, Aj].set(Ax)\n",
        "jnp.einsum(\"ijk,ik->ij\", A, x)"
      ]
    },
    {
      "cell_type": "markdown",
      "id": "788f79e7-4f88-4e78-ac51-a91e8ebdfd4f",
      "metadata": {
        "papermill": {
          "duration": 0.017567,
          "end_time": "2023-09-03T19:47:03.529441",
          "exception": false,
          "start_time": "2023-09-03T19:47:03.511874",
          "status": "completed"
        },
        "tags": []
      },
      "source": [
        "Additionally, we need a way to multiply a sparse COO-matrix with a dense vector. This can be done with `klujax.coo_mul_vec`:"
      ]
    },
    {
      "cell_type": "markdown",
      "id": "2b096666-e29e-40a1-a86d-e151e89c7599",
      "metadata": {
        "papermill": {
          "duration": 0.017345,
          "end_time": "2023-09-03T19:47:03.564133",
          "exception": false,
          "start_time": "2023-09-03T19:47:03.546788",
          "status": "completed"
        },
        "tags": []
      },
      "source": [
        "However, it's useful to allow a batch dimension, this time *both* in `Ax` and in `b`:"
      ]
    },
    {
      "cell_type": "code",
      "execution_count": 24,
      "id": "23df905608abc5a3",
      "metadata": {
        "execution": {
          "iopub.execute_input": "2023-09-03T19:47:03.600730Z",
          "iopub.status.busy": "2023-09-03T19:47:03.600153Z",
          "iopub.status.idle": "2023-09-03T19:47:03.604924Z",
          "shell.execute_reply": "2023-09-03T19:47:03.604321Z"
        },
        "papermill": {
          "duration": 0.024946,
          "end_time": "2023-09-03T19:47:03.606451",
          "exception": false,
          "start_time": "2023-09-03T19:47:03.581505",
          "status": "completed"
        },
        "tags": []
      },
      "outputs": [],
      "source": [
        "mul_coo = None \n",
        "mul_coo = jax.vmap(klujax.coo_mul_vec, (None, None, 0, 0), 0)"
      ]
    },
    {
      "cell_type": "markdown",
      "id": "5df6d174-6ada-4118-bbf7-7fd5d2ec35c9",
      "metadata": {
        "papermill": {
          "duration": 0.017355,
          "end_time": "2023-09-03T19:47:03.641326",
          "exception": false,
          "start_time": "2023-09-03T19:47:03.623971",
          "status": "completed"
        },
        "tags": []
      },
      "source": [
        "Let's confirm this does the right thing:"
      ]
    },
    {
      "cell_type": "code",
      "execution_count": 25,
      "id": "bd868973",
      "metadata": {
        "execution": {
          "iopub.execute_input": "2023-09-03T19:47:03.677477Z",
          "iopub.status.busy": "2023-09-03T19:47:03.677065Z",
          "iopub.status.idle": "2023-09-03T19:47:03.712693Z",
          "shell.execute_reply": "2023-09-03T19:47:03.712044Z"
        },
        "papermill": {
          "duration": 0.055571,
          "end_time": "2023-09-03T19:47:03.714218",
          "exception": false,
          "start_time": "2023-09-03T19:47:03.658647",
          "status": "completed"
        },
        "tags": []
      },
      "outputs": [
        {
          "data": {
            "text/plain": [
              "Array([[5., 3., 2., 6., 1.],\n",
              "       [5., 3., 2., 6., 1.],\n",
              "       [5., 3., 2., 6., 1.]], dtype=float64)"
            ]
          },
          "execution_count": 25,
          "metadata": {},
          "output_type": "execute_result"
        }
      ],
      "source": [
        "result = mul_coo(Ai, Aj, Ax, x)\n",
        "result"
      ]
    },
    {
      "cell_type": "markdown",
      "id": "e2c47d85-38fc-4132-9d8d-593c25307ebe",
      "metadata": {
        "papermill": {
          "duration": 0.017593,
          "end_time": "2023-09-03T19:47:03.749806",
          "exception": false,
          "start_time": "2023-09-03T19:47:03.732213",
          "status": "completed"
        },
        "tags": []
      },
      "source": [
        "### Example"
      ]
    },
    {
      "cell_type": "code",
      "execution_count": 26,
      "id": "665c856d",
      "metadata": {
        "execution": {
          "iopub.execute_input": "2023-09-03T19:47:03.786855Z",
          "iopub.status.busy": "2023-09-03T19:47:03.786301Z",
          "iopub.status.idle": "2023-09-03T19:47:03.845180Z",
          "shell.execute_reply": "2023-09-03T19:47:03.844407Z"
        },
        "papermill": {
          "duration": 0.079347,
          "end_time": "2023-09-03T19:47:03.846855",
          "exception": false,
          "start_time": "2023-09-03T19:47:03.767508",
          "status": "completed"
        },
        "tags": []
      },
      "outputs": [
        {
          "name": "stdout",
          "output_type": "stream",
          "text": [
            "[[ 0.      +0.j        0.      +0.j       -0.25    +0.433015j\n",
            "  -0.433015+0.75j    ]\n",
            " [ 0.      +0.j        0.      +0.j       -0.433015+0.75j\n",
            "   0.25    -0.433015j]\n",
            " [-0.25    +0.433015j -0.433015+0.75j      0.      +0.j\n",
            "   0.      +0.j      ]\n",
            " [-0.433015+0.75j      0.25    -0.433015j  0.      +0.j\n",
            "   0.      +0.j      ]]\n",
            "{'in0': 0, 'in1': 1, 'out0': 2, 'out1': 3}\n"
          ]
        }
      ],
      "source": [
        "wg_sdict: sax.SDict = {\n",
        "    (\"in0\", \"out0\"): 0.5 + 0.86603j,\n",
        "    (\"out0\", \"in0\"): 0.5 + 0.86603j,\n",
        "}\n",
        "\n",
        "\u03c4, \u03ba = 0.5 ** 0.5, 1j * 0.5 ** 0.5\n",
        "dc_sdense: sax.SDense = (\n",
        "    jnp.array([[0, 0, \u03c4, \u03ba], \n",
        "               [0, 0, \u03ba, \u03c4], \n",
        "               [\u03c4, \u03ba, 0, 0], \n",
        "               [\u03ba, \u03c4, 0, 0]]),\n",
        "    {\"out0\": 0, \"out1\": 1, \"in0\": 2, \"in1\": 3},\n",
        ")\n",
        "\n",
        "instances={\n",
        "    \"dc1\": dc_sdense,\n",
        "    \"wg\": wg_sdict,\n",
        "    \"dc2\": dc_sdense,\n",
        "}\n",
        "connections={\n",
        "    \"dc1,out0\": \"wg,in0\",\n",
        "    \"wg,out0\": \"dc2,in0\",\n",
        "    \"dc1,out1\": \"dc2,in1\",\n",
        "}\n",
        "ports={\n",
        "    \"in0\": \"dc1,in0\",\n",
        "    \"in1\": \"dc1,in1\",\n",
        "    \"out0\": \"dc2,out0\",\n",
        "    \"out1\": \"dc2,out1\",\n",
        "}\n",
        "preprocessed = sax.backends.analyze_circuit_klu(connections, ports)\n",
        "S, pm = sax.backends.evaluate_circuit_klu(preprocessed, instances)\n",
        "print(S)\n",
        "print(pm)"
      ]
    },
    {
      "cell_type": "markdown",
      "id": "2561e780-23a1-46ae-8c7b-17ccb1c80f2b",
      "metadata": {
        "papermill": {
          "duration": 0.017668,
          "end_time": "2023-09-03T19:47:03.882597",
          "exception": false,
          "start_time": "2023-09-03T19:47:03.864929",
          "status": "completed"
        },
        "tags": []
      },
      "source": [
        "the KLU backend yields `SDense` results by default:"
      ]
    },
    {
      "cell_type": "code",
      "execution_count": 27,
      "id": "ecc3115e",
      "metadata": {
        "execution": {
          "iopub.execute_input": "2023-09-03T19:47:03.919522Z",
          "iopub.status.busy": "2023-09-03T19:47:03.918871Z",
          "iopub.status.idle": "2023-09-03T19:47:03.923946Z",
          "shell.execute_reply": "2023-09-03T19:47:03.923324Z"
        },
        "papermill": {
          "duration": 0.025148,
          "end_time": "2023-09-03T19:47:03.925361",
          "exception": false,
          "start_time": "2023-09-03T19:47:03.900213",
          "status": "completed"
        },
        "tags": []
      },
      "outputs": [
        {
          "data": {
            "text/plain": [
              "(Array([[ 0.      +0.j      ,  0.      +0.j      , -0.25    +0.433015j,\n",
              "         -0.433015+0.75j    ],\n",
              "        [ 0.      +0.j      ,  0.      +0.j      , -0.433015+0.75j    ,\n",
              "          0.25    -0.433015j],\n",
              "        [-0.25    +0.433015j, -0.433015+0.75j    ,  0.      +0.j      ,\n",
              "          0.      +0.j      ],\n",
              "        [-0.433015+0.75j    ,  0.25    -0.433015j,  0.      +0.j      ,\n",
              "          0.      +0.j      ]], dtype=complex128),\n",
              " {'in0': 0, 'in1': 1, 'out0': 2, 'out1': 3})"
            ]
          },
          "execution_count": 27,
          "metadata": {},
          "output_type": "execute_result"
        }
      ],
      "source": [
        "mzi_sdense = (S, pm)\n",
        "mzi_sdense"
      ]
    },
    {
      "cell_type": "markdown",
      "id": "ccf222e3-b0a9-4732-8c5b-f449ab0217ba",
      "metadata": {
        "papermill": {
          "duration": 0.017909,
          "end_time": "2023-09-03T19:47:03.961096",
          "exception": false,
          "start_time": "2023-09-03T19:47:03.943187",
          "status": "completed"
        },
        "tags": []
      },
      "source": [
        "An `SDense` is returned for perfomance reasons. By returning an `SDense` by default we prevent any internal `SDict -> SDense` conversions in deeply hierarchical circuits. It's however very easy to convert `SDense` to `SDict` as a final step. To do this, wrap the result (or the function generating the result) with `sdict`:"
      ]
    },
    {
      "cell_type": "code",
      "execution_count": 28,
      "id": "7202ab1e",
      "metadata": {
        "execution": {
          "iopub.execute_input": "2023-09-03T19:47:03.998009Z",
          "iopub.status.busy": "2023-09-03T19:47:03.997557Z",
          "iopub.status.idle": "2023-09-03T19:47:04.019210Z",
          "shell.execute_reply": "2023-09-03T19:47:04.018584Z"
        },
        "papermill": {
          "duration": 0.041735,
          "end_time": "2023-09-03T19:47:04.020580",
          "exception": false,
          "start_time": "2023-09-03T19:47:03.978845",
          "status": "completed"
        },
        "tags": []
      },
      "outputs": [
        {
          "data": {
            "text/plain": [
              "{('in0', 'in0'): Array(0.+0.j, dtype=complex128),\n",
              " ('in0', 'in1'): Array(0.+0.j, dtype=complex128),\n",
              " ('in0', 'out0'): Array(-0.25+0.433015j, dtype=complex128),\n",
              " ('in0', 'out1'): Array(-0.433015+0.75j, dtype=complex128),\n",
              " ('in1', 'in0'): Array(0.+0.j, dtype=complex128),\n",
              " ('in1', 'in1'): Array(0.+0.j, dtype=complex128),\n",
              " ('in1', 'out0'): Array(-0.433015+0.75j, dtype=complex128),\n",
              " ('in1', 'out1'): Array(0.25-0.433015j, dtype=complex128),\n",
              " ('out0', 'in0'): Array(-0.25+0.433015j, dtype=complex128),\n",
              " ('out0', 'in1'): Array(-0.433015+0.75j, dtype=complex128),\n",
              " ('out0', 'out0'): Array(0.+0.j, dtype=complex128),\n",
              " ('out0', 'out1'): Array(0.+0.j, dtype=complex128),\n",
              " ('out1', 'in0'): Array(-0.433015+0.75j, dtype=complex128),\n",
              " ('out1', 'in1'): Array(0.25-0.433015j, dtype=complex128),\n",
              " ('out1', 'out0'): Array(0.+0.j, dtype=complex128),\n",
              " ('out1', 'out1'): Array(0.+0.j, dtype=complex128)}"
            ]
          },
          "execution_count": 28,
          "metadata": {},
          "output_type": "execute_result"
        }
      ],
      "source": [
        "sax.sdict(mzi_sdense)"
      ]
    },
    {
      "cell_type": "markdown",
      "id": "e84bdb3f-c9cc-46fb-9fad-09924bbce67b",
      "metadata": {
        "papermill": {
          "duration": 0.017916,
          "end_time": "2023-09-03T19:47:04.056467",
          "exception": false,
          "start_time": "2023-09-03T19:47:04.038551",
          "status": "completed"
        },
        "tags": []
      },
      "source": [
        "### Algorithm Walkthrough"
      ]
    },
    {
      "cell_type": "markdown",
      "id": "d79a8927-1d29-416a-84a6-1963b40cbd41",
      "metadata": {
        "papermill": {
          "duration": 0.017949,
          "end_time": "2023-09-03T19:47:04.092398",
          "exception": false,
          "start_time": "2023-09-03T19:47:04.074449",
          "status": "completed"
        },
        "tags": []
      },
      "source": [
        "Let's first enforce $C^T = C$:"
      ]
    },
    {
      "cell_type": "code",
      "execution_count": 29,
      "id": "6d7d4c39",
      "metadata": {
        "execution": {
          "iopub.execute_input": "2023-09-03T19:47:04.129857Z",
          "iopub.status.busy": "2023-09-03T19:47:04.129306Z",
          "iopub.status.idle": "2023-09-03T19:47:04.134434Z",
          "shell.execute_reply": "2023-09-03T19:47:04.133814Z"
        },
        "papermill": {
          "duration": 0.025674,
          "end_time": "2023-09-03T19:47:04.135920",
          "exception": false,
          "start_time": "2023-09-03T19:47:04.110246",
          "status": "completed"
        },
        "tags": []
      },
      "outputs": [
        {
          "data": {
            "text/plain": [
              "{'dc1,out0': 'wg,in0',\n",
              " 'wg,out0': 'dc2,in0',\n",
              " 'dc1,out1': 'dc2,in1',\n",
              " 'wg,in0': 'dc1,out0',\n",
              " 'dc2,in0': 'wg,out0',\n",
              " 'dc2,in1': 'dc1,out1'}"
            ]
          },
          "execution_count": 29,
          "metadata": {},
          "output_type": "execute_result"
        }
      ],
      "source": [
        "connections = {**connections, **{v: k for k, v in connections.items()}}\n",
        "connections"
      ]
    },
    {
      "cell_type": "markdown",
      "id": "e7b667e3-a932-4689-b7cf-39c9609377b2",
      "metadata": {
        "papermill": {
          "duration": 0.018064,
          "end_time": "2023-09-03T19:47:04.172008",
          "exception": false,
          "start_time": "2023-09-03T19:47:04.153944",
          "status": "completed"
        },
        "tags": []
      },
      "source": [
        "We'll also need the reversed ports:"
      ]
    },
    {
      "cell_type": "code",
      "execution_count": 30,
      "id": "9a70463f",
      "metadata": {
        "execution": {
          "iopub.execute_input": "2023-09-03T19:47:04.209756Z",
          "iopub.status.busy": "2023-09-03T19:47:04.209249Z",
          "iopub.status.idle": "2023-09-03T19:47:04.214183Z",
          "shell.execute_reply": "2023-09-03T19:47:04.213523Z"
        },
        "papermill": {
          "duration": 0.025455,
          "end_time": "2023-09-03T19:47:04.215570",
          "exception": false,
          "start_time": "2023-09-03T19:47:04.190115",
          "status": "completed"
        },
        "tags": []
      },
      "outputs": [
        {
          "data": {
            "text/plain": [
              "{'dc1,in0': 'in0', 'dc1,in1': 'in1', 'dc2,out0': 'out0', 'dc2,out1': 'out1'}"
            ]
          },
          "execution_count": 30,
          "metadata": {},
          "output_type": "execute_result"
        }
      ],
      "source": [
        "inverse_ports = {v: k for k, v in ports.items()}\n",
        "inverse_ports"
      ]
    },
    {
      "cell_type": "markdown",
      "id": "12b5afd1-85e3-4633-af9a-1ed4c7214c1b",
      "metadata": {
        "papermill": {
          "duration": 0.018057,
          "end_time": "2023-09-03T19:47:04.251857",
          "exception": false,
          "start_time": "2023-09-03T19:47:04.233800",
          "status": "completed"
        },
        "tags": []
      },
      "source": [
        "An the port indices"
      ]
    },
    {
      "cell_type": "code",
      "execution_count": 31,
      "id": "8e18d182",
      "metadata": {
        "execution": {
          "iopub.execute_input": "2023-09-03T19:47:04.289512Z",
          "iopub.status.busy": "2023-09-03T19:47:04.289022Z",
          "iopub.status.idle": "2023-09-03T19:47:04.293883Z",
          "shell.execute_reply": "2023-09-03T19:47:04.293161Z"
        },
        "papermill": {
          "duration": 0.025253,
          "end_time": "2023-09-03T19:47:04.295236",
          "exception": false,
          "start_time": "2023-09-03T19:47:04.269983",
          "status": "completed"
        },
        "tags": []
      },
      "outputs": [
        {
          "data": {
            "text/plain": [
              "{'in0': 0, 'in1': 1, 'out0': 2, 'out1': 3}"
            ]
          },
          "execution_count": 31,
          "metadata": {},
          "output_type": "execute_result"
        }
      ],
      "source": [
        "port_map = {k: i for i, k in enumerate(ports)}\n",
        "port_map"
      ]
    },
    {
      "cell_type": "markdown",
      "id": "5b2f18ae-af08-4482-8b0f-a72c1fee13d5",
      "metadata": {
        "papermill": {
          "duration": 0.018403,
          "end_time": "2023-09-03T19:47:04.332270",
          "exception": false,
          "start_time": "2023-09-03T19:47:04.313867",
          "status": "completed"
        },
        "tags": []
      },
      "source": [
        "Let's now create the COO-representation of our block diagonal S-matrix $S_{bd}$:"
      ]
    },
    {
      "cell_type": "code",
      "execution_count": 32,
      "id": "835deb8f",
      "metadata": {
        "execution": {
          "iopub.execute_input": "2023-09-03T19:47:04.370450Z",
          "iopub.status.busy": "2023-09-03T19:47:04.369890Z",
          "iopub.status.idle": "2023-09-03T19:47:04.427589Z",
          "shell.execute_reply": "2023-09-03T19:47:04.426794Z"
        },
        "papermill": {
          "duration": 0.078711,
          "end_time": "2023-09-03T19:47:04.429238",
          "exception": false,
          "start_time": "2023-09-03T19:47:04.350527",
          "status": "completed"
        },
        "tags": []
      },
      "outputs": [
        {
          "name": "stdout",
          "output_type": "stream",
          "text": [
            "[0 0 0 0 1 1 1 1 2 2 2 2 3 3 3 3 4 5 6 6 6 6 7 7 7 7 8 8 8 8 9 9 9 9]\n",
            "[0 1 2 3 0 1 2 3 0 1 2 3 0 1 2 3 5 4 6 7 8 9 6 7 8 9 6 7 8 9 6 7 8 9]\n",
            "[0.        +0.j         0.        +0.j         0.70710678+0.j\n",
            " 0.        +0.70710678j 0.        +0.j         0.        +0.j\n",
            " 0.        +0.70710678j 0.70710678+0.j         0.70710678+0.j\n",
            " 0.        +0.70710678j 0.        +0.j         0.        +0.j\n",
            " 0.        +0.70710678j 0.70710678+0.j         0.        +0.j\n",
            " 0.        +0.j         0.5       +0.86603j    0.5       +0.86603j\n",
            " 0.        +0.j         0.        +0.j         0.70710678+0.j\n",
            " 0.        +0.70710678j 0.        +0.j         0.        +0.j\n",
            " 0.        +0.70710678j 0.70710678+0.j         0.70710678+0.j\n",
            " 0.        +0.70710678j 0.        +0.j         0.        +0.j\n",
            " 0.        +0.70710678j 0.70710678+0.j         0.        +0.j\n",
            " 0.        +0.j        ]\n"
          ]
        }
      ],
      "source": [
        "idx, Si, Sj, Sx, instance_ports = 0, [], [], [], {}\n",
        "batch_shape = ()\n",
        "for name, instance in instances.items():\n",
        "    si, sj, sx, ports_map = sax.scoo(instance)\n",
        "    Si.append(si + idx)\n",
        "    Sj.append(sj + idx)\n",
        "    Sx.append(sx)\n",
        "    if len(sx.shape[:-1]) > len(batch_shape):\n",
        "        batch_shape = sx.shape[:-1]\n",
        "    instance_ports.update({f\"{name},{p}\": i + idx for p, i in ports_map.items()})\n",
        "    idx += len(ports_map)\n",
        "Si = jnp.concatenate(Si, -1)\n",
        "Sj = jnp.concatenate(Sj, -1)\n",
        "Sx = jnp.concatenate([jnp.broadcast_to(sx, (*batch_shape, sx.shape[-1])) for sx in Sx], -1)\n",
        "\n",
        "print(Si)\n",
        "print(Sj)\n",
        "print(Sx)"
      ]
    },
    {
      "cell_type": "markdown",
      "id": "9b98486a-f99a-4284-89ee-302049fb6e0d",
      "metadata": {
        "papermill": {
          "duration": 0.018417,
          "end_time": "2023-09-03T19:47:04.466438",
          "exception": false,
          "start_time": "2023-09-03T19:47:04.448021",
          "status": "completed"
        },
        "tags": []
      },
      "source": [
        "note that we also kept track of the `batch_shape`, i.e. the number of independent simulations (usually number of wavelengths). In the example being used here we don't have a batch dimension (all elements of the `SDict` are `0D`):"
      ]
    },
    {
      "cell_type": "code",
      "execution_count": 33,
      "id": "7513759a",
      "metadata": {
        "execution": {
          "iopub.execute_input": "2023-09-03T19:47:04.506640Z",
          "iopub.status.busy": "2023-09-03T19:47:04.505906Z",
          "iopub.status.idle": "2023-09-03T19:47:04.510336Z",
          "shell.execute_reply": "2023-09-03T19:47:04.509825Z"
        },
        "papermill": {
          "duration": 0.026561,
          "end_time": "2023-09-03T19:47:04.511613",
          "exception": false,
          "start_time": "2023-09-03T19:47:04.485052",
          "status": "completed"
        },
        "tags": []
      },
      "outputs": [
        {
          "data": {
            "text/plain": [
              "()"
            ]
          },
          "execution_count": 33,
          "metadata": {},
          "output_type": "execute_result"
        }
      ],
      "source": [
        "batch_shape"
      ]
    },
    {
      "cell_type": "markdown",
      "id": "183f6113-0f54-47f9-87c4-c3ec2ec3ec85",
      "metadata": {
        "papermill": {
          "duration": 0.018425,
          "end_time": "2023-09-03T19:47:04.548499",
          "exception": false,
          "start_time": "2023-09-03T19:47:04.530074",
          "status": "completed"
        },
        "tags": []
      },
      "source": [
        "We'll also keep track of the number of columns"
      ]
    },
    {
      "cell_type": "code",
      "execution_count": 34,
      "id": "89000432",
      "metadata": {
        "execution": {
          "iopub.execute_input": "2023-09-03T19:47:04.586967Z",
          "iopub.status.busy": "2023-09-03T19:47:04.586442Z",
          "iopub.status.idle": "2023-09-03T19:47:04.591026Z",
          "shell.execute_reply": "2023-09-03T19:47:04.590320Z"
        },
        "papermill": {
          "duration": 0.025456,
          "end_time": "2023-09-03T19:47:04.592454",
          "exception": false,
          "start_time": "2023-09-03T19:47:04.566998",
          "status": "completed"
        },
        "tags": []
      },
      "outputs": [
        {
          "data": {
            "text/plain": [
              "10"
            ]
          },
          "execution_count": 34,
          "metadata": {},
          "output_type": "execute_result"
        }
      ],
      "source": [
        "n_col = idx\n",
        "n_col"
      ]
    },
    {
      "cell_type": "markdown",
      "id": "ed6ec22f-4bb6-4a84-9143-435ca8dddb8b",
      "metadata": {
        "papermill": {
          "duration": 0.018573,
          "end_time": "2023-09-03T19:47:04.629648",
          "exception": false,
          "start_time": "2023-09-03T19:47:04.611075",
          "status": "completed"
        },
        "tags": []
      },
      "source": [
        "And we'll need to solve the circuit for each output port, i.e. we need to solve `n_rhs` number of equations:"
      ]
    },
    {
      "cell_type": "code",
      "execution_count": 35,
      "id": "27902354",
      "metadata": {
        "execution": {
          "iopub.execute_input": "2023-09-03T19:47:04.668646Z",
          "iopub.status.busy": "2023-09-03T19:47:04.667911Z",
          "iopub.status.idle": "2023-09-03T19:47:04.672633Z",
          "shell.execute_reply": "2023-09-03T19:47:04.671944Z"
        },
        "papermill": {
          "duration": 0.02581,
          "end_time": "2023-09-03T19:47:04.673993",
          "exception": false,
          "start_time": "2023-09-03T19:47:04.648183",
          "status": "completed"
        },
        "tags": []
      },
      "outputs": [
        {
          "data": {
            "text/plain": [
              "4"
            ]
          },
          "execution_count": 35,
          "metadata": {},
          "output_type": "execute_result"
        }
      ],
      "source": [
        "n_rhs = len(port_map)\n",
        "n_rhs"
      ]
    },
    {
      "cell_type": "markdown",
      "id": "e6eb8aaa-0e61-4080-9e86-544167a58e46",
      "metadata": {
        "papermill": {
          "duration": 0.018843,
          "end_time": "2023-09-03T19:47:04.711494",
          "exception": false,
          "start_time": "2023-09-03T19:47:04.692651",
          "status": "completed"
        },
        "tags": []
      },
      "source": [
        "We can represent the internal connection matrix $C_{int}$ as a mapping between port indices:"
      ]
    },
    {
      "cell_type": "code",
      "execution_count": 36,
      "id": "f3ff1fa7",
      "metadata": {
        "execution": {
          "iopub.execute_input": "2023-09-03T19:47:04.751092Z",
          "iopub.status.busy": "2023-09-03T19:47:04.750318Z",
          "iopub.status.idle": "2023-09-03T19:47:04.755344Z",
          "shell.execute_reply": "2023-09-03T19:47:04.754691Z"
        },
        "papermill": {
          "duration": 0.026466,
          "end_time": "2023-09-03T19:47:04.756840",
          "exception": false,
          "start_time": "2023-09-03T19:47:04.730374",
          "status": "completed"
        },
        "tags": []
      },
      "outputs": [
        {
          "data": {
            "text/plain": [
              "{0: 4, 5: 8, 1: 9, 4: 0, 8: 5, 9: 1}"
            ]
          },
          "execution_count": 36,
          "metadata": {},
          "output_type": "execute_result"
        }
      ],
      "source": [
        "Cmap = {int(instance_ports[k]): int(instance_ports[v]) for k, v in connections.items()}\n",
        "Cmap"
      ]
    },
    {
      "cell_type": "markdown",
      "id": "b9db7990-fe17-4cca-907a-cca94b06f03b",
      "metadata": {
        "papermill": {
          "duration": 0.018798,
          "end_time": "2023-09-03T19:47:04.794504",
          "exception": false,
          "start_time": "2023-09-03T19:47:04.775706",
          "status": "completed"
        },
        "tags": []
      },
      "source": [
        "Therefore, the COO-representation of this connection matrix can be obtained as follows (note that an array of values Cx is not necessary, all non-zero elements in a connection matrix are 1)"
      ]
    },
    {
      "cell_type": "code",
      "execution_count": 37,
      "id": "9e4f1728",
      "metadata": {
        "execution": {
          "iopub.execute_input": "2023-09-03T19:47:04.833782Z",
          "iopub.status.busy": "2023-09-03T19:47:04.833089Z",
          "iopub.status.idle": "2023-09-03T19:47:04.838558Z",
          "shell.execute_reply": "2023-09-03T19:47:04.837838Z"
        },
        "papermill": {
          "duration": 0.026586,
          "end_time": "2023-09-03T19:47:04.839893",
          "exception": false,
          "start_time": "2023-09-03T19:47:04.813307",
          "status": "completed"
        },
        "tags": []
      },
      "outputs": [
        {
          "name": "stdout",
          "output_type": "stream",
          "text": [
            "[0 5 1 4 8 9]\n",
            "[4 8 9 0 5 1]\n"
          ]
        }
      ],
      "source": [
        "Ci = jnp.array(list(Cmap.keys()), dtype=jnp.int32)\n",
        "Cj = jnp.array(list(Cmap.values()), dtype=jnp.int32)\n",
        "print(Ci)\n",
        "print(Cj)"
      ]
    },
    {
      "cell_type": "markdown",
      "id": "0fc2572d-3af5-4ab9-a12d-d7b8487ca84f",
      "metadata": {
        "papermill": {
          "duration": 0.018906,
          "end_time": "2023-09-03T19:47:04.877708",
          "exception": false,
          "start_time": "2023-09-03T19:47:04.858802",
          "status": "completed"
        },
        "tags": []
      },
      "source": [
        "We can represent the external connection matrix $C_{ext}$ as a map between internal port indices and external port indices:"
      ]
    },
    {
      "cell_type": "code",
      "execution_count": 38,
      "id": "f56ae166",
      "metadata": {
        "execution": {
          "iopub.execute_input": "2023-09-03T19:47:04.916970Z",
          "iopub.status.busy": "2023-09-03T19:47:04.916314Z",
          "iopub.status.idle": "2023-09-03T19:47:04.921220Z",
          "shell.execute_reply": "2023-09-03T19:47:04.920589Z"
        },
        "papermill": {
          "duration": 0.026065,
          "end_time": "2023-09-03T19:47:04.922581",
          "exception": false,
          "start_time": "2023-09-03T19:47:04.896516",
          "status": "completed"
        },
        "tags": []
      },
      "outputs": [
        {
          "data": {
            "text/plain": [
              "{2: 0, 3: 1, 6: 2, 7: 3}"
            ]
          },
          "execution_count": 38,
          "metadata": {},
          "output_type": "execute_result"
        }
      ],
      "source": [
        "Cextmap = {int(instance_ports[k]): int(port_map[v]) for k, v in inverse_ports.items()}\n",
        "Cextmap"
      ]
    },
    {
      "cell_type": "markdown",
      "id": "0e406982-d2c9-426e-ac46-fa4650e2f7dc",
      "metadata": {
        "papermill": {
          "duration": 0.018894,
          "end_time": "2023-09-03T19:47:04.960369",
          "exception": false,
          "start_time": "2023-09-03T19:47:04.941475",
          "status": "completed"
        },
        "tags": []
      },
      "source": [
        "Just as for the internal matrix we can represent this external connection matrix in COO-format:"
      ]
    },
    {
      "cell_type": "code",
      "execution_count": 39,
      "id": "cfb419ac",
      "metadata": {
        "execution": {
          "iopub.execute_input": "2023-09-03T19:47:05.000317Z",
          "iopub.status.busy": "2023-09-03T19:47:04.999633Z",
          "iopub.status.idle": "2023-09-03T19:47:05.006783Z",
          "shell.execute_reply": "2023-09-03T19:47:05.006229Z"
        },
        "papermill": {
          "duration": 0.028758,
          "end_time": "2023-09-03T19:47:05.008159",
          "exception": false,
          "start_time": "2023-09-03T19:47:04.979401",
          "status": "completed"
        },
        "tags": []
      },
      "outputs": [
        {
          "name": "stdout",
          "output_type": "stream",
          "text": [
            "[2 3 6 7]\n",
            "[0 1 2 3]\n"
          ]
        }
      ],
      "source": [
        "Cexti = jnp.stack(list(Cextmap.keys()), 0)\n",
        "Cextj = jnp.stack(list(Cextmap.values()), 0)\n",
        "print(Cexti)\n",
        "print(Cextj)"
      ]
    },
    {
      "cell_type": "markdown",
      "id": "933aab49-ec05-4690-8caf-adbc93f0f715",
      "metadata": {
        "papermill": {
          "duration": 0.019043,
          "end_time": "2023-09-03T19:47:05.046131",
          "exception": false,
          "start_time": "2023-09-03T19:47:05.027088",
          "status": "completed"
        },
        "tags": []
      },
      "source": [
        "However, we actually need it as a dense representation:\n",
        "\n",
        "> help needed: can we find a way later on to keep this sparse?"
      ]
    },
    {
      "cell_type": "code",
      "execution_count": 40,
      "id": "25c4ec6e",
      "metadata": {
        "execution": {
          "iopub.execute_input": "2023-09-03T19:47:05.086104Z",
          "iopub.status.busy": "2023-09-03T19:47:05.085413Z",
          "iopub.status.idle": "2023-09-03T19:47:05.095484Z",
          "shell.execute_reply": "2023-09-03T19:47:05.094842Z"
        },
        "papermill": {
          "duration": 0.031719,
          "end_time": "2023-09-03T19:47:05.096910",
          "exception": false,
          "start_time": "2023-09-03T19:47:05.065191",
          "status": "completed"
        },
        "tags": []
      },
      "outputs": [
        {
          "data": {
            "text/plain": [
              "Array([[0.+0.j, 0.+0.j, 0.+0.j, 0.+0.j],\n",
              "       [0.+0.j, 0.+0.j, 0.+0.j, 0.+0.j],\n",
              "       [1.+0.j, 0.+0.j, 0.+0.j, 0.+0.j],\n",
              "       [0.+0.j, 1.+0.j, 0.+0.j, 0.+0.j],\n",
              "       [0.+0.j, 0.+0.j, 0.+0.j, 0.+0.j],\n",
              "       [0.+0.j, 0.+0.j, 0.+0.j, 0.+0.j],\n",
              "       [0.+0.j, 0.+0.j, 1.+0.j, 0.+0.j],\n",
              "       [0.+0.j, 0.+0.j, 0.+0.j, 1.+0.j],\n",
              "       [0.+0.j, 0.+0.j, 0.+0.j, 0.+0.j],\n",
              "       [0.+0.j, 0.+0.j, 0.+0.j, 0.+0.j]], dtype=complex128)"
            ]
          },
          "execution_count": 40,
          "metadata": {},
          "output_type": "execute_result"
        }
      ],
      "source": [
        "Cext = jnp.zeros((n_col, n_rhs), dtype=complex).at[Cexti, Cextj].set(1.0)\n",
        "Cext"
      ]
    },
    {
      "cell_type": "markdown",
      "id": "ee0e1a8b-21cd-4a81-a3e9-e312cc94ae6e",
      "metadata": {
        "papermill": {
          "duration": 0.046725,
          "end_time": "2023-09-03T19:47:05.163083",
          "exception": false,
          "start_time": "2023-09-03T19:47:05.116358",
          "status": "completed"
        },
        "tags": []
      },
      "source": [
        "We'll now calculate the row index `CSi` of $C_{int}S_{bd}$ in COO-format:"
      ]
    },
    {
      "cell_type": "code",
      "execution_count": 41,
      "id": "5a3ed8466362d4d3",
      "metadata": {
        "execution": {
          "iopub.execute_input": "2023-09-03T19:47:05.203385Z",
          "iopub.status.busy": "2023-09-03T19:47:05.202794Z",
          "iopub.status.idle": "2023-09-03T19:47:05.342868Z",
          "shell.execute_reply": "2023-09-03T19:47:05.342119Z"
        },
        "papermill": {
          "duration": 0.162453,
          "end_time": "2023-09-03T19:47:05.344818",
          "exception": false,
          "start_time": "2023-09-03T19:47:05.182365",
          "status": "completed"
        },
        "tags": []
      },
      "outputs": [
        {
          "data": {
            "text/plain": [
              "Array([4, 4, 4, 4, 9, 9, 9, 9, 0, 8, 5, 5, 5, 5, 1, 1, 1, 1], dtype=int32)"
            ]
          },
          "execution_count": 41,
          "metadata": {},
          "output_type": "execute_result"
        }
      ],
      "source": [
        "# TODO: make this block jittable...\n",
        "Ix = jnp.ones((*batch_shape, n_col))\n",
        "Ii = Ij = jnp.arange(n_col)\n",
        "mask = Cj[None,:] == Si[:, None]\n",
        "CSi = jnp.broadcast_to(Ci[None, :], mask.shape)[mask]\n",
        "CSi"
      ]
    },
    {
      "cell_type": "markdown",
      "id": "48d97ac6-ec8b-4040-9310-b49de1d69810",
      "metadata": {
        "papermill": {
          "duration": 0.019482,
          "end_time": "2023-09-03T19:47:05.384450",
          "exception": false,
          "start_time": "2023-09-03T19:47:05.364968",
          "status": "completed"
        },
        "tags": []
      },
      "source": [
        "> `CSi`: possible jittable alternative? how do we remove the zeros?"
      ]
    },
    {
      "cell_type": "code",
      "execution_count": 42,
      "id": "d4ea2cb5",
      "metadata": {
        "execution": {
          "iopub.execute_input": "2023-09-03T19:47:05.424731Z",
          "iopub.status.busy": "2023-09-03T19:47:05.424057Z",
          "iopub.status.idle": "2023-09-03T19:47:05.464783Z",
          "shell.execute_reply": "2023-09-03T19:47:05.464078Z"
        },
        "papermill": {
          "duration": 0.062691,
          "end_time": "2023-09-03T19:47:05.466474",
          "exception": false,
          "start_time": "2023-09-03T19:47:05.403783",
          "status": "completed"
        },
        "tags": []
      },
      "outputs": [
        {
          "data": {
            "text/plain": [
              "Array([4, 4, 4, 4, 9, 9, 9, 9, 0, 0, 0, 0, 0, 0, 0, 0, 0, 8, 0, 0, 0, 0,\n",
              "       0, 0, 0, 0, 5, 5, 5, 5, 1, 1, 1, 1], dtype=int64)"
            ]
          },
          "execution_count": 42,
          "metadata": {},
          "output_type": "execute_result"
        }
      ],
      "source": [
        "CSi_ = jnp.where(Cj[None, :] == Si[:, None], Ci[None, :], 0).sum(1) # not used\n",
        "CSi_ # not used"
      ]
    },
    {
      "cell_type": "markdown",
      "id": "40923193-6a18-479f-9bc6-63a32fdf1f0a",
      "metadata": {
        "papermill": {
          "duration": 0.019411,
          "end_time": "2023-09-03T19:47:05.506362",
          "exception": false,
          "start_time": "2023-09-03T19:47:05.486951",
          "status": "completed"
        },
        "tags": []
      },
      "source": [
        "The column index `CSj` of $C_{int}S_{bd}$ can more easily be obtained:"
      ]
    },
    {
      "cell_type": "code",
      "execution_count": 43,
      "id": "f71fdd7c",
      "metadata": {
        "execution": {
          "iopub.execute_input": "2023-09-03T19:47:05.546676Z",
          "iopub.status.busy": "2023-09-03T19:47:05.546162Z",
          "iopub.status.idle": "2023-09-03T19:47:05.608202Z",
          "shell.execute_reply": "2023-09-03T19:47:05.607448Z"
        },
        "papermill": {
          "duration": 0.08427,
          "end_time": "2023-09-03T19:47:05.610039",
          "exception": false,
          "start_time": "2023-09-03T19:47:05.525769",
          "status": "completed"
        },
        "tags": []
      },
      "outputs": [
        {
          "data": {
            "text/plain": [
              "Array([0, 1, 2, 3, 0, 1, 2, 3, 5, 4, 6, 7, 8, 9, 6, 7, 8, 9], dtype=int64)"
            ]
          },
          "execution_count": 43,
          "metadata": {},
          "output_type": "execute_result"
        }
      ],
      "source": [
        "mask = (Cj[:, None] == Si[None, :]).any(0)\n",
        "CSj = Sj[mask]\n",
        "CSj"
      ]
    },
    {
      "cell_type": "markdown",
      "id": "86928ec4-0935-4876-b0eb-bb25945e2e6b",
      "metadata": {
        "papermill": {
          "duration": 0.019531,
          "end_time": "2023-09-03T19:47:05.649830",
          "exception": false,
          "start_time": "2023-09-03T19:47:05.630299",
          "status": "completed"
        },
        "tags": []
      },
      "source": [
        "Finally, the values `CSx` of $C_{int}S_{bd}$ can be obtained as follows:"
      ]
    },
    {
      "cell_type": "code",
      "execution_count": 44,
      "id": "59d2e1b2",
      "metadata": {
        "execution": {
          "iopub.execute_input": "2023-09-03T19:47:05.690730Z",
          "iopub.status.busy": "2023-09-03T19:47:05.690036Z",
          "iopub.status.idle": "2023-09-03T19:47:05.714746Z",
          "shell.execute_reply": "2023-09-03T19:47:05.714028Z"
        },
        "papermill": {
          "duration": 0.046737,
          "end_time": "2023-09-03T19:47:05.716169",
          "exception": false,
          "start_time": "2023-09-03T19:47:05.669432",
          "status": "completed"
        },
        "tags": []
      },
      "outputs": [
        {
          "data": {
            "text/plain": [
              "Array([0.        +0.j        , 0.        +0.j        ,\n",
              "       0.70710678+0.j        , 0.        +0.70710678j,\n",
              "       0.        +0.j        , 0.        +0.j        ,\n",
              "       0.        +0.70710678j, 0.70710678+0.j        ,\n",
              "       0.5       +0.86603j   , 0.5       +0.86603j   ,\n",
              "       0.70710678+0.j        , 0.        +0.70710678j,\n",
              "       0.        +0.j        , 0.        +0.j        ,\n",
              "       0.        +0.70710678j, 0.70710678+0.j        ,\n",
              "       0.        +0.j        , 0.        +0.j        ], dtype=complex128)"
            ]
          },
          "execution_count": 44,
          "metadata": {},
          "output_type": "execute_result"
        }
      ],
      "source": [
        "CSx = Sx[..., mask]\n",
        "CSx"
      ]
    },
    {
      "cell_type": "markdown",
      "id": "85689511-e580-4e8c-93b6-3c4744624889",
      "metadata": {
        "papermill": {
          "duration": 0.019648,
          "end_time": "2023-09-03T19:47:05.755802",
          "exception": false,
          "start_time": "2023-09-03T19:47:05.736154",
          "status": "completed"
        },
        "tags": []
      },
      "source": [
        "Now we calculate $I - C_{int}S_{bd}$ in an *uncoalesced* way (we might have duplicate indices on the diagonal):\n",
        "\n",
        "> **uncoalesced**: having duplicate index combinations (i, j) in the representation possibly with different corresponding values. This is usually not a problem as in linear operations these values will end up to be summed, usually the behavior you want:"
      ]
    },
    {
      "cell_type": "code",
      "execution_count": 45,
      "id": "53c3f4ab",
      "metadata": {
        "execution": {
          "iopub.execute_input": "2023-09-03T19:47:05.796736Z",
          "iopub.status.busy": "2023-09-03T19:47:05.796080Z",
          "iopub.status.idle": "2023-09-03T19:47:05.852074Z",
          "shell.execute_reply": "2023-09-03T19:47:05.851442Z"
        },
        "papermill": {
          "duration": 0.078107,
          "end_time": "2023-09-03T19:47:05.853638",
          "exception": false,
          "start_time": "2023-09-03T19:47:05.775531",
          "status": "completed"
        },
        "tags": []
      },
      "outputs": [
        {
          "name": "stdout",
          "output_type": "stream",
          "text": [
            "[4 4 4 4 9 9 9 9 0 8 5 5 5 5 1 1 1 1 0 1 2 3 4 5 6 7 8 9]\n",
            "[0 1 2 3 0 1 2 3 5 4 6 7 8 9 6 7 8 9 0 1 2 3 4 5 6 7 8 9]\n",
            "[-0.        -0.j         -0.        -0.j         -0.70710678-0.j\n",
            " -0.        -0.70710678j -0.        -0.j         -0.        -0.j\n",
            " -0.        -0.70710678j -0.70710678-0.j         -0.5       -0.86603j\n",
            " -0.5       -0.86603j    -0.70710678-0.j         -0.        -0.70710678j\n",
            " -0.        -0.j         -0.        -0.j         -0.        -0.70710678j\n",
            " -0.70710678-0.j         -0.        -0.j         -0.        -0.j\n",
            "  1.        +0.j          1.        +0.j          1.        +0.j\n",
            "  1.        +0.j          1.        +0.j          1.        +0.j\n",
            "  1.        +0.j          1.        +0.j          1.        +0.j\n",
            "  1.        +0.j        ]\n"
          ]
        }
      ],
      "source": [
        "I_CSi = jnp.concatenate([CSi, Ii], -1)\n",
        "I_CSj = jnp.concatenate([CSj, Ij], -1)\n",
        "I_CSx = jnp.concatenate([-CSx, Ix], -1)\n",
        "print(I_CSi)\n",
        "print(I_CSj)\n",
        "print(I_CSx)"
      ]
    },
    {
      "cell_type": "code",
      "execution_count": 46,
      "id": "188e4606",
      "metadata": {
        "execution": {
          "iopub.execute_input": "2023-09-03T19:47:05.895464Z",
          "iopub.status.busy": "2023-09-03T19:47:05.894921Z",
          "iopub.status.idle": "2023-09-03T19:47:05.898831Z",
          "shell.execute_reply": "2023-09-03T19:47:05.898252Z"
        },
        "papermill": {
          "duration": 0.026251,
          "end_time": "2023-09-03T19:47:05.900163",
          "exception": false,
          "start_time": "2023-09-03T19:47:05.873912",
          "status": "completed"
        },
        "tags": []
      },
      "outputs": [
        {
          "name": "stdout",
          "output_type": "stream",
          "text": [
            "10 4\n"
          ]
        }
      ],
      "source": [
        "n_col, n_rhs = Cext.shape\n",
        "print(n_col, n_rhs)"
      ]
    },
    {
      "cell_type": "markdown",
      "id": "f39b59a8-d495-433f-92bc-2396fb0b28f9",
      "metadata": {
        "papermill": {
          "duration": 0.019819,
          "end_time": "2023-09-03T19:47:05.940086",
          "exception": false,
          "start_time": "2023-09-03T19:47:05.920267",
          "status": "completed"
        },
        "tags": []
      },
      "source": [
        "The batch shape dimension can generally speaking be anything (in the example here 0D). We need to do the necessary reshapings to make the batch shape 1D:"
      ]
    },
    {
      "cell_type": "code",
      "execution_count": 47,
      "id": "dad259e7",
      "metadata": {
        "execution": {
          "iopub.execute_input": "2023-09-03T19:47:05.981413Z",
          "iopub.status.busy": "2023-09-03T19:47:05.980646Z",
          "iopub.status.idle": "2023-09-03T19:47:05.998466Z",
          "shell.execute_reply": "2023-09-03T19:47:05.997803Z"
        },
        "papermill": {
          "duration": 0.040024,
          "end_time": "2023-09-03T19:47:05.999875",
          "exception": false,
          "start_time": "2023-09-03T19:47:05.959851",
          "status": "completed"
        },
        "tags": []
      },
      "outputs": [
        {
          "name": "stdout",
          "output_type": "stream",
          "text": [
            "1\n"
          ]
        }
      ],
      "source": [
        "n_lhs = jnp.prod(jnp.array(batch_shape, dtype=jnp.int32))\n",
        "print(n_lhs)"
      ]
    },
    {
      "cell_type": "code",
      "execution_count": 48,
      "id": "9cf69da7",
      "metadata": {
        "execution": {
          "iopub.execute_input": "2023-09-03T19:47:06.041921Z",
          "iopub.status.busy": "2023-09-03T19:47:06.041180Z",
          "iopub.status.idle": "2023-09-03T19:47:06.057744Z",
          "shell.execute_reply": "2023-09-03T19:47:06.057102Z"
        },
        "papermill": {
          "duration": 0.039087,
          "end_time": "2023-09-03T19:47:06.059138",
          "exception": false,
          "start_time": "2023-09-03T19:47:06.020051",
          "status": "completed"
        },
        "tags": []
      },
      "outputs": [
        {
          "data": {
            "text/plain": [
              "(1, 34)"
            ]
          },
          "execution_count": 48,
          "metadata": {},
          "output_type": "execute_result"
        }
      ],
      "source": [
        "Sx = Sx.reshape(n_lhs, -1)\n",
        "Sx.shape"
      ]
    },
    {
      "cell_type": "code",
      "execution_count": 49,
      "id": "788294fa",
      "metadata": {
        "execution": {
          "iopub.execute_input": "2023-09-03T19:47:06.101066Z",
          "iopub.status.busy": "2023-09-03T19:47:06.100441Z",
          "iopub.status.idle": "2023-09-03T19:47:06.117327Z",
          "shell.execute_reply": "2023-09-03T19:47:06.116742Z"
        },
        "papermill": {
          "duration": 0.039297,
          "end_time": "2023-09-03T19:47:06.118790",
          "exception": false,
          "start_time": "2023-09-03T19:47:06.079493",
          "status": "completed"
        },
        "tags": []
      },
      "outputs": [
        {
          "data": {
            "text/plain": [
              "(1, 28)"
            ]
          },
          "execution_count": 49,
          "metadata": {},
          "output_type": "execute_result"
        }
      ],
      "source": [
        "I_CSx = I_CSx.reshape(n_lhs, -1)\n",
        "I_CSx.shape"
      ]
    },
    {
      "cell_type": "markdown",
      "id": "fface8e7-ccd3-4dd9-aa88-532c91fd34d3",
      "metadata": {
        "papermill": {
          "duration": 0.020046,
          "end_time": "2023-09-03T19:47:06.159103",
          "exception": false,
          "start_time": "2023-09-03T19:47:06.139057",
          "status": "completed"
        },
        "tags": []
      },
      "source": [
        "We're finally ready to do the most important part of the calculation, which we conveniently leave to `klujax` and `SuiteSparse`:"
      ]
    },
    {
      "cell_type": "code",
      "execution_count": 50,
      "id": "9c1d8644",
      "metadata": {
        "execution": {
          "iopub.execute_input": "2023-09-03T19:47:06.200782Z",
          "iopub.status.busy": "2023-09-03T19:47:06.200228Z",
          "iopub.status.idle": "2023-09-03T19:47:06.238017Z",
          "shell.execute_reply": "2023-09-03T19:47:06.236989Z"
        },
        "papermill": {
          "duration": 0.060673,
          "end_time": "2023-09-03T19:47:06.239787",
          "exception": false,
          "start_time": "2023-09-03T19:47:06.179114",
          "status": "completed"
        },
        "tags": []
      },
      "outputs": [],
      "source": [
        "inv_I_CS_Cext = solve_klu(I_CSi, I_CSj, I_CSx, Cext)"
      ]
    },
    {
      "cell_type": "markdown",
      "id": "0c63faff-930d-4006-aaa1-4809396f6aff",
      "metadata": {
        "papermill": {
          "duration": 0.020276,
          "end_time": "2023-09-03T19:47:06.281521",
          "exception": false,
          "start_time": "2023-09-03T19:47:06.261245",
          "status": "completed"
        },
        "tags": []
      },
      "source": [
        "one more sparse multiplication:"
      ]
    },
    {
      "cell_type": "code",
      "execution_count": 51,
      "id": "cccda072",
      "metadata": {
        "execution": {
          "iopub.execute_input": "2023-09-03T19:47:06.323774Z",
          "iopub.status.busy": "2023-09-03T19:47:06.323205Z",
          "iopub.status.idle": "2023-09-03T19:47:06.361498Z",
          "shell.execute_reply": "2023-09-03T19:47:06.360819Z"
        },
        "papermill": {
          "duration": 0.061402,
          "end_time": "2023-09-03T19:47:06.363125",
          "exception": false,
          "start_time": "2023-09-03T19:47:06.301723",
          "status": "completed"
        },
        "tags": []
      },
      "outputs": [],
      "source": [
        "S_inv_I_CS_Cext = mul_coo(Si, Sj, Sx, inv_I_CS_Cext)"
      ]
    },
    {
      "cell_type": "markdown",
      "id": "6cb6b730-eef1-41ea-a190-83be5f631dec",
      "metadata": {
        "papermill": {
          "duration": 0.020166,
          "end_time": "2023-09-03T19:47:06.404091",
          "exception": false,
          "start_time": "2023-09-03T19:47:06.383925",
          "status": "completed"
        },
        "tags": []
      },
      "source": [
        "And one more $C_{ext}$ multiplication which we do by clever indexing:"
      ]
    },
    {
      "cell_type": "code",
      "execution_count": 52,
      "id": "12ff877c",
      "metadata": {
        "execution": {
          "iopub.execute_input": "2023-09-03T19:47:06.446234Z",
          "iopub.status.busy": "2023-09-03T19:47:06.445628Z",
          "iopub.status.idle": "2023-09-03T19:47:06.454731Z",
          "shell.execute_reply": "2023-09-03T19:47:06.454089Z"
        },
        "papermill": {
          "duration": 0.031781,
          "end_time": "2023-09-03T19:47:06.456044",
          "exception": false,
          "start_time": "2023-09-03T19:47:06.424263",
          "status": "completed"
        },
        "tags": []
      },
      "outputs": [
        {
          "data": {
            "text/plain": [
              "Array([[[ 0.      +0.j      ,  0.      +0.j      , -0.25    +0.433015j,\n",
              "         -0.433015+0.75j    ],\n",
              "        [ 0.      +0.j      ,  0.      +0.j      , -0.433015+0.75j    ,\n",
              "          0.25    -0.433015j],\n",
              "        [-0.25    +0.433015j, -0.433015+0.75j    ,  0.      +0.j      ,\n",
              "          0.      +0.j      ],\n",
              "        [-0.433015+0.75j    ,  0.25    -0.433015j,  0.      +0.j      ,\n",
              "          0.      +0.j      ]]], dtype=complex128)"
            ]
          },
          "execution_count": 52,
          "metadata": {},
          "output_type": "execute_result"
        }
      ],
      "source": [
        "CextT_S_inv_I_CS_Cext = S_inv_I_CS_Cext[..., Cexti, :][..., :, Cextj]\n",
        "CextT_S_inv_I_CS_Cext"
      ]
    },
    {
      "cell_type": "markdown",
      "id": "9b046892-0c5e-466f-ae44-8c5d04763317",
      "metadata": {
        "papermill": {
          "duration": 0.020375,
          "end_time": "2023-09-03T19:47:06.497011",
          "exception": false,
          "start_time": "2023-09-03T19:47:06.476636",
          "status": "completed"
        },
        "tags": []
      },
      "source": [
        "That's it! We found the S-matrix of the circuit. We just need to reshape the batch dimension back into the matrix:"
      ]
    },
    {
      "cell_type": "code",
      "execution_count": 53,
      "id": "cbf962af",
      "metadata": {
        "execution": {
          "iopub.execute_input": "2023-09-03T19:47:06.539506Z",
          "iopub.status.busy": "2023-09-03T19:47:06.538924Z",
          "iopub.status.idle": "2023-09-03T19:47:06.544807Z",
          "shell.execute_reply": "2023-09-03T19:47:06.544161Z"
        },
        "papermill": {
          "duration": 0.028788,
          "end_time": "2023-09-03T19:47:06.546189",
          "exception": false,
          "start_time": "2023-09-03T19:47:06.517401",
          "status": "completed"
        },
        "tags": []
      },
      "outputs": [
        {
          "data": {
            "text/plain": [
              "Array([[ 0.      +0.j      ,  0.      +0.j      , -0.25    +0.433015j,\n",
              "        -0.433015+0.75j    ],\n",
              "       [ 0.      +0.j      ,  0.      +0.j      , -0.433015+0.75j    ,\n",
              "         0.25    -0.433015j],\n",
              "       [-0.25    +0.433015j, -0.433015+0.75j    ,  0.      +0.j      ,\n",
              "         0.      +0.j      ],\n",
              "       [-0.433015+0.75j    ,  0.25    -0.433015j,  0.      +0.j      ,\n",
              "         0.      +0.j      ]], dtype=complex128)"
            ]
          },
          "execution_count": 53,
          "metadata": {},
          "output_type": "execute_result"
        }
      ],
      "source": [
        "_, n, _ = CextT_S_inv_I_CS_Cext.shape\n",
        "S = CextT_S_inv_I_CS_Cext.reshape(*batch_shape, n, n)\n",
        "S"
      ]
    },
    {
      "cell_type": "markdown",
      "id": "ebc6d33d-49fe-4dfb-b166-41051a64b9fd",
      "metadata": {
        "papermill": {
          "duration": 0.020297,
          "end_time": "2023-09-03T19:47:06.586849",
          "exception": false,
          "start_time": "2023-09-03T19:47:06.566552",
          "status": "completed"
        },
        "tags": []
      },
      "source": [
        "Oh and to complete the `SDense` representation we need to specify the port map as well:"
      ]
    },
    {
      "cell_type": "code",
      "execution_count": 54,
      "id": "21098a45",
      "metadata": {
        "execution": {
          "iopub.execute_input": "2023-09-03T19:47:06.629059Z",
          "iopub.status.busy": "2023-09-03T19:47:06.628450Z",
          "iopub.status.idle": "2023-09-03T19:47:06.632942Z",
          "shell.execute_reply": "2023-09-03T19:47:06.632293Z"
        },
        "papermill": {
          "duration": 0.027036,
          "end_time": "2023-09-03T19:47:06.634248",
          "exception": false,
          "start_time": "2023-09-03T19:47:06.607212",
          "status": "completed"
        },
        "tags": []
      },
      "outputs": [
        {
          "data": {
            "text/plain": [
              "{'in0': 0, 'in1': 1, 'out0': 2, 'out1': 3}"
            ]
          },
          "execution_count": 54,
          "metadata": {},
          "output_type": "execute_result"
        }
      ],
      "source": [
        "port_map"
      ]
    },
    {
      "cell_type": "markdown",
      "id": "4297d283-33c5-4c7b-902c-cec838b90fbb",
      "metadata": {
        "papermill": {
          "duration": 0.020484,
          "end_time": "2023-09-03T19:47:06.675316",
          "exception": false,
          "start_time": "2023-09-03T19:47:06.654832",
          "status": "completed"
        },
        "tags": []
      },
      "source": [
        "### Algorithm Improvements"
      ]
    },
    {
      "cell_type": "markdown",
      "id": "94154f27-1b9a-40b2-bb24-edd357cb081d",
      "metadata": {
        "papermill": {
          "duration": 0.020565,
          "end_time": "2023-09-03T19:47:06.716360",
          "exception": false,
          "start_time": "2023-09-03T19:47:06.695795",
          "status": "completed"
        },
        "tags": []
      },
      "source": [
        "This algorithm is \n",
        "\n",
        "* very fast for large circuits \ud83d\ude42\n",
        "* jittable \ud83d\ude42\n",
        "* differentiable \ud83d\ude42\n",
        "\n",
        "This algorithm is however:\n",
        "\n",
        "* **not** GPU-compatible \ud83d\ude42\n",
        "\n",
        "There are probably still plenty of improvements possible for this algorithm:\n",
        "\n",
        "* **\u00bf** make it GPU compatible (requires making suitesparse GPU compatible... probably not gonna happen)**?**\n"
      ]
    },
    {
      "cell_type": "markdown",
      "id": "af865f32-a6a3-44c5-b4cf-08859c99c6f1",
      "metadata": {
        "papermill": {
          "duration": 0.020437,
          "end_time": "2023-09-03T19:47:06.757253",
          "exception": false,
          "start_time": "2023-09-03T19:47:06.736816",
          "status": "completed"
        },
        "tags": []
      },
      "source": [
        ":::{note}\n",
        "Since The KLU Backend is Superior to the Filipsson-Gunnar backend, SAX will default (since v0.10.0) to the KLU backend if `klujax` is installed.name1\n",
        ":::"
      ]
    },
    {
      "cell_type": "code",
      "execution_count": 55,
      "id": "6df27ddf8e70fa11",
      "metadata": {
        "execution": {
          "iopub.execute_input": "2023-09-03T19:47:06.800252Z",
          "iopub.status.busy": "2023-09-03T19:47:06.799502Z",
          "iopub.status.idle": "2023-09-03T19:47:06.802856Z",
          "shell.execute_reply": "2023-09-03T19:47:06.802164Z"
        },
        "papermill": {
          "duration": 0.026609,
          "end_time": "2023-09-03T19:47:06.804430",
          "exception": false,
          "start_time": "2023-09-03T19:47:06.777821",
          "status": "completed"
        },
        "tags": [
          "remove-cell"
        ]
      },
      "outputs": [],
      "source": []
    },
    {
      "cell_type": "markdown",
      "id": "32d1b715-7b0e-4f00-b61f-939e931178bc",
      "metadata": {
        "papermill": {
          "duration": 0.020578,
          "end_time": "2023-09-03T19:47:06.846006",
          "exception": false,
          "start_time": "2023-09-03T19:47:06.825428",
          "status": "completed"
        },
        "tags": []
      },
      "source": [
        "## Additive Backend\n",
        "\n",
        ":::{eval-rst}\n",
        ".. autofunction:: sax.backends.analyze_circuit_additive\n",
        ":::\n",
        "\n",
        ":::{eval-rst}\n",
        ".. autofunction:: sax.backends.evaluate_circuit_additive\n",
        ":::\n",
        "\n",
        "Sometimes we would like to calculate circuit path lengths or time delays within a circuit. We could obviously simulate these things with a time domain simulator, but in many cases a simple additive backend (as opposed to the default multiplicative backend) can suffice."
      ]
    },
    {
      "cell_type": "markdown",
      "id": "ab5eac26-7c71-446c-8e66-547a064f9192",
      "metadata": {
        "papermill": {
          "duration": 0.02049,
          "end_time": "2023-09-03T19:47:06.886986",
          "exception": false,
          "start_time": "2023-09-03T19:47:06.866496",
          "status": "completed"
        },
        "tags": []
      },
      "source": [
        "### Example\n",
        "\n",
        ":::{note}\n",
        "in stead of S-parameters the stypes need to contain *additive* parameters, such as length or time delay.\n",
        ":::"
      ]
    },
    {
      "cell_type": "code",
      "execution_count": 56,
      "id": "1ddc3a12-be7f-4327-be60-2a46c51bb21f",
      "metadata": {
        "execution": {
          "iopub.execute_input": "2023-09-03T19:47:06.930107Z",
          "iopub.status.busy": "2023-09-03T19:47:06.929338Z",
          "iopub.status.idle": "2023-09-03T19:47:06.937144Z",
          "shell.execute_reply": "2023-09-03T19:47:06.936430Z"
        },
        "papermill": {
          "duration": 0.030764,
          "end_time": "2023-09-03T19:47:06.938519",
          "exception": false,
          "start_time": "2023-09-03T19:47:06.907755",
          "status": "completed"
        },
        "tags": []
      },
      "outputs": [],
      "source": [
        "wg_sdict = {\n",
        "    \n",
        "    (\"in0\", \"out0\"): jnp.array([100.0, 200.0, 300.0]), # assume for now there are three possible paths between these two ports.\n",
        "    (\"out0\", \"in0\"): jnp.array([100.0, 200.0, 300.0]), # assume for now there are three possible paths between these two ports.\n",
        "}\n",
        "\n",
        "dc_sdict = {\n",
        "    (\"in0\", \"out0\"): jnp.array([10.0, 20.0]), # assume for now there are two possible paths between these two ports.\n",
        "    (\"in0\", \"out1\"): 15.0,\n",
        "    (\"in1\", \"out0\"): 15.0,\n",
        "    (\"in1\", \"out1\"): jnp.array([10.0, 20.0]), # assume for now there are two possible paths between these two ports.\n",
        "}\n",
        "\n",
        "instances= {\n",
        "    \"dc1\": dc_sdict,\n",
        "    \"wg\": wg_sdict,\n",
        "    \"dc2\": dc_sdict,\n",
        "}\n",
        "connections= {\n",
        "    \"dc1,out0\": \"wg,in0\",\n",
        "    \"wg,out0\": \"dc2,in0\",\n",
        "    \"dc1,out1\": \"dc2,in1\",\n",
        "}\n",
        "ports= {\n",
        "    \"in0\": \"dc1,in0\",\n",
        "    \"in1\": \"dc1,in1\",\n",
        "    \"out0\": \"dc2,out0\",\n",
        "    \"out1\": \"dc2,out1\",\n",
        "}"
      ]
    },
    {
      "cell_type": "markdown",
      "id": "c6847c46-6c4a-4b55-899c-55925dfe6538",
      "metadata": {
        "papermill": {
          "duration": 0.020541,
          "end_time": "2023-09-03T19:47:06.979578",
          "exception": false,
          "start_time": "2023-09-03T19:47:06.959037",
          "status": "completed"
        },
        "tags": []
      },
      "source": [
        ":::{note}\n",
        "it is recommended to **not** use an `SDense` representation for the additive backend. Very often an `SDense` representation will introduce **zeros** which will be interpreted as an **existing connection with zero length**. Conversely, in a sparse representation like `SDict` or `SCoo`, non-existing elements will be just that: they will not be present in the internal graph.\n",
        ":::"
      ]
    },
    {
      "cell_type": "code",
      "execution_count": 57,
      "id": "e9cecb32-f18f-4c48-a2cb-ed92102c9fdc",
      "metadata": {
        "execution": {
          "iopub.execute_input": "2023-09-03T19:47:07.022369Z",
          "iopub.status.busy": "2023-09-03T19:47:07.021837Z",
          "iopub.status.idle": "2023-09-03T19:47:07.049566Z",
          "shell.execute_reply": "2023-09-03T19:47:07.049030Z"
        },
        "papermill": {
          "duration": 0.05088,
          "end_time": "2023-09-03T19:47:07.051054",
          "exception": false,
          "start_time": "2023-09-03T19:47:07.000174",
          "status": "completed"
        },
        "tags": []
      },
      "outputs": [
        {
          "data": {
            "text/plain": [
              "[(('dc1', 'out0'),\n",
              "  ('wg', 'in0'),\n",
              "  {'type': 'C', 'length': Array([0.], dtype=float64)}),\n",
              " (('wg', 'out0'),\n",
              "  ('dc2', 'in0'),\n",
              "  {'type': 'C', 'length': Array([0.], dtype=float64)}),\n",
              " (('dc1', 'out1'),\n",
              "  ('dc2', 'in1'),\n",
              "  {'type': 'C', 'length': Array([0.], dtype=float64)}),\n",
              " (('wg', 'in0'),\n",
              "  ('dc1', 'out0'),\n",
              "  {'type': 'C', 'length': Array([0.], dtype=float64)}),\n",
              " (('dc2', 'in0'),\n",
              "  ('wg', 'out0'),\n",
              "  {'type': 'C', 'length': Array([0.], dtype=float64)}),\n",
              " (('dc2', 'in1'),\n",
              "  ('dc1', 'out1'),\n",
              "  {'type': 'C', 'length': Array([0.], dtype=float64)}),\n",
              " (('', 'in0'),\n",
              "  ('dc1', 'in0'),\n",
              "  {'type': 'C', 'length': Array([0.], dtype=float64)}),\n",
              " (('', 'in1'),\n",
              "  ('dc1', 'in1'),\n",
              "  {'type': 'C', 'length': Array([0.], dtype=float64)}),\n",
              " (('', 'out0'),\n",
              "  ('dc2', 'out0'),\n",
              "  {'type': 'C', 'length': Array([0.], dtype=float64)}),\n",
              " (('', 'out1'),\n",
              "  ('dc2', 'out1'),\n",
              "  {'type': 'C', 'length': Array([0.], dtype=float64)}),\n",
              " (('dc1', 'in0'),\n",
              "  ('', 'in0'),\n",
              "  {'type': 'C', 'length': Array([0.], dtype=float64)}),\n",
              " (('dc1', 'in1'),\n",
              "  ('', 'in1'),\n",
              "  {'type': 'C', 'length': Array([0.], dtype=float64)}),\n",
              " (('dc2', 'out0'),\n",
              "  ('', 'out0'),\n",
              "  {'type': 'C', 'length': Array([0.], dtype=float64)}),\n",
              " (('dc2', 'out1'),\n",
              "  ('', 'out1'),\n",
              "  {'type': 'C', 'length': Array([0.], dtype=float64)}),\n",
              " (('dc1', 'in0'),\n",
              "  ('dc1', 'out0'),\n",
              "  {'type': 'S', 'length': Array([10., 20.], dtype=float64)}),\n",
              " (('dc1', 'in0'),\n",
              "  ('dc1', 'out1'),\n",
              "  {'type': 'S', 'length': Array([15.], dtype=float64)}),\n",
              " (('dc1', 'in1'),\n",
              "  ('dc1', 'out0'),\n",
              "  {'type': 'S', 'length': Array([15.], dtype=float64)}),\n",
              " (('dc1', 'in1'),\n",
              "  ('dc1', 'out1'),\n",
              "  {'type': 'S', 'length': Array([10., 20.], dtype=float64)}),\n",
              " (('wg', 'in0'),\n",
              "  ('wg', 'out0'),\n",
              "  {'type': 'S', 'length': Array([100., 200., 300.], dtype=float64)}),\n",
              " (('wg', 'out0'),\n",
              "  ('wg', 'in0'),\n",
              "  {'type': 'S', 'length': Array([100., 200., 300.], dtype=float64)}),\n",
              " (('dc2', 'in0'),\n",
              "  ('dc2', 'out0'),\n",
              "  {'type': 'S', 'length': Array([10., 20.], dtype=float64)}),\n",
              " (('dc2', 'in0'),\n",
              "  ('dc2', 'out1'),\n",
              "  {'type': 'S', 'length': Array([15.], dtype=float64)}),\n",
              " (('dc2', 'in1'),\n",
              "  ('dc2', 'out0'),\n",
              "  {'type': 'S', 'length': Array([15.], dtype=float64)}),\n",
              " (('dc2', 'in1'),\n",
              "  ('dc2', 'out1'),\n",
              "  {'type': 'S', 'length': Array([10., 20.], dtype=float64)})]"
            ]
          },
          "execution_count": 57,
          "metadata": {},
          "output_type": "execute_result"
        }
      ],
      "source": [
        "edges = sax.backends.additive._graph_edges(instances, connections, ports)\n",
        "edges"
      ]
    },
    {
      "cell_type": "markdown",
      "id": "5dee9ce2-8ca6-4f7e-b5a3-f68f20e88adc",
      "metadata": {
        "papermill": {
          "duration": 0.020891,
          "end_time": "2023-09-03T19:47:07.093488",
          "exception": false,
          "start_time": "2023-09-03T19:47:07.072597",
          "status": "completed"
        },
        "tags": []
      },
      "source": [
        "We made a difference here between edges of 'S'-type (connections through the S-matrix) and edges of 'C'-type (connections through the connection matrix). Connections of 'C'-type obviously always have length zero as they signify per definition the equality of two ports."
      ]
    },
    {
      "cell_type": "markdown",
      "id": "23f444b0-a52b-433a-8548-4a9955dfb4fb",
      "metadata": {
        "papermill": {
          "duration": 0.020683,
          "end_time": "2023-09-03T19:47:07.134992",
          "exception": false,
          "start_time": "2023-09-03T19:47:07.114309",
          "status": "completed"
        },
        "tags": []
      },
      "source": [
        "We can create a NetworkX graph from these edges:"
      ]
    },
    {
      "cell_type": "code",
      "execution_count": 58,
      "id": "b0191057-9499-475e-a770-34e393554a94",
      "metadata": {
        "execution": {
          "iopub.execute_input": "2023-09-03T19:47:07.178120Z",
          "iopub.status.busy": "2023-09-03T19:47:07.177551Z",
          "iopub.status.idle": "2023-09-03T19:47:07.763991Z",
          "shell.execute_reply": "2023-09-03T19:47:07.763027Z"
        },
        "papermill": {
          "duration": 0.609809,
          "end_time": "2023-09-03T19:47:07.765517",
          "exception": false,
          "start_time": "2023-09-03T19:47:07.155708",
          "status": "completed"
        },
        "tags": []
      },
      "outputs": [
        {
          "data": {
            "image/png": "[encoded data removed]",
            "text/plain": [
              "<Figure size 640x480 with 1 Axes>"
            ]
          },
          "metadata": {},
          "output_type": "display_data"
        }
      ],
      "source": [
        "graph = nx.Graph()\n",
        "graph.add_edges_from(edges)\n",
        "nx.draw_kamada_kawai(graph, with_labels=True)"
      ]
    },
    {
      "cell_type": "code",
      "execution_count": 59,
      "id": "035b450d-54aa-43c5-8cc6-2b9e5e2e5021",
      "metadata": {
        "execution": {
          "iopub.execute_input": "2023-09-03T19:47:07.813945Z",
          "iopub.status.busy": "2023-09-03T19:47:07.813287Z",
          "iopub.status.idle": "2023-09-03T19:47:07.961910Z",
          "shell.execute_reply": "2023-09-03T19:47:07.961349Z"
        },
        "papermill": {
          "duration": 0.174824,
          "end_time": "2023-09-03T19:47:07.963337",
          "exception": false,
          "start_time": "2023-09-03T19:47:07.788513",
          "status": "completed"
        },
        "tags": []
      },
      "outputs": [
        {
          "data": {
            "image/png": "[encoded data removed]",
            "text/plain": [
              "<Figure size 640x480 with 1 Axes>"
            ]
          },
          "metadata": {},
          "output_type": "display_data"
        }
      ],
      "source": [
        "graph = sax.backends.additive._prune_internal_output_nodes(graph)\n",
        "nx.draw_kamada_kawai(graph, with_labels=True)"
      ]
    },
    {
      "cell_type": "markdown",
      "id": "32b7daf2-c374-4c8d-bbe5-ad39c0f9af44",
      "metadata": {
        "papermill": {
          "duration": 0.022731,
          "end_time": "2023-09-03T19:47:08.009382",
          "exception": false,
          "start_time": "2023-09-03T19:47:07.986651",
          "status": "completed"
        },
        "tags": []
      },
      "source": [
        "We can now get a list of all possible paths in the network. Note that these paths **must** alternate between an S-edge and a C-edge:"
      ]
    },
    {
      "cell_type": "code",
      "execution_count": 60,
      "id": "176ea6a5-bb16-4232-8a42-6da2371de2fe",
      "metadata": {
        "execution": {
          "iopub.execute_input": "2023-09-03T19:47:08.056450Z",
          "iopub.status.busy": "2023-09-03T19:47:08.055884Z",
          "iopub.status.idle": "2023-09-03T19:47:08.062217Z",
          "shell.execute_reply": "2023-09-03T19:47:08.061644Z"
        },
        "papermill": {
          "duration": 0.031412,
          "end_time": "2023-09-03T19:47:08.063529",
          "exception": false,
          "start_time": "2023-09-03T19:47:08.032117",
          "status": "completed"
        },
        "tags": []
      },
      "outputs": [
        {
          "data": {
            "text/plain": [
              "[[(('', 'in0'), ('dc1', 'in0')),\n",
              "  (('dc1', 'in0'), ('dc1', 'out0')),\n",
              "  (('dc1', 'out0'), ('wg', 'in0')),\n",
              "  (('wg', 'in0'), ('wg', 'out0')),\n",
              "  (('wg', 'out0'), ('dc2', 'in0')),\n",
              "  (('dc2', 'in0'), ('dc2', 'out0')),\n",
              "  (('dc2', 'out0'), ('', 'out0'))],\n",
              " [(('', 'in0'), ('dc1', 'in0')),\n",
              "  (('dc1', 'in0'), ('dc1', 'out1')),\n",
              "  (('dc1', 'out1'), ('dc2', 'in1')),\n",
              "  (('dc2', 'in1'), ('dc2', 'out0')),\n",
              "  (('dc2', 'out0'), ('', 'out0'))]]"
            ]
          },
          "execution_count": 60,
          "metadata": {},
          "output_type": "execute_result"
        }
      ],
      "source": [
        "paths = sax.backends.additive._get_possible_paths(graph, (\"\", \"in0\"), (\"\", \"out0\"))\n",
        "paths"
      ]
    },
    {
      "cell_type": "markdown",
      "id": "68766ba9-0991-45f5-aa7d-1bcca8db332d",
      "metadata": {
        "papermill": {
          "duration": 0.0227,
          "end_time": "2023-09-03T19:47:08.109034",
          "exception": false,
          "start_time": "2023-09-03T19:47:08.086334",
          "status": "completed"
        },
        "tags": []
      },
      "source": [
        "And the path lengths of those paths can be calculated as follows:"
      ]
    },
    {
      "cell_type": "code",
      "execution_count": 61,
      "id": "c3063587-c9aa-4b26-ae70-4b9b770f33ae",
      "metadata": {
        "execution": {
          "iopub.execute_input": "2023-09-03T19:47:08.156079Z",
          "iopub.status.busy": "2023-09-03T19:47:08.155503Z",
          "iopub.status.idle": "2023-09-03T19:47:08.388498Z",
          "shell.execute_reply": "2023-09-03T19:47:08.387736Z"
        },
        "papermill": {
          "duration": 0.258897,
          "end_time": "2023-09-03T19:47:08.390536",
          "exception": false,
          "start_time": "2023-09-03T19:47:08.131639",
          "status": "completed"
        },
        "tags": []
      },
      "outputs": [
        {
          "data": {
            "text/plain": [
              "[Array([120., 130., 220., 230., 320., 330., 130., 140., 230., 240., 330.,\n",
              "        340.], dtype=float64),\n",
              " Array([30.], dtype=float64)]"
            ]
          },
          "execution_count": 61,
          "metadata": {},
          "output_type": "execute_result"
        }
      ],
      "source": [
        "sax.backends.additive._path_lengths(graph, paths)"
      ]
    },
    {
      "cell_type": "markdown",
      "id": "95f6d1e0-ef8f-4394-a9b1-b8cbdfb6051e",
      "metadata": {
        "papermill": {
          "duration": 0.023037,
          "end_time": "2023-09-03T19:47:08.437103",
          "exception": false,
          "start_time": "2023-09-03T19:47:08.414066",
          "status": "completed"
        },
        "tags": []
      },
      "source": [
        "This is all brought together in the additive KLU backend:"
      ]
    },
    {
      "cell_type": "code",
      "execution_count": 62,
      "id": "72f14aaa-a682-4734-beb9-5e0e89b960c3",
      "metadata": {
        "execution": {
          "iopub.execute_input": "2023-09-03T19:47:08.484168Z",
          "iopub.status.busy": "2023-09-03T19:47:08.483622Z",
          "iopub.status.idle": "2023-09-03T19:47:08.665384Z",
          "shell.execute_reply": "2023-09-03T19:47:08.664631Z"
        },
        "papermill": {
          "duration": 0.207539,
          "end_time": "2023-09-03T19:47:08.667269",
          "exception": false,
          "start_time": "2023-09-03T19:47:08.459730",
          "status": "completed"
        },
        "tags": []
      },
      "outputs": [
        {
          "data": {
            "text/plain": [
              "{('in0',\n",
              "  'out0'): [Array([120., 130., 220., 230., 320., 330., 130., 140., 230., 240., 330.,\n",
              "         340.], dtype=float64), Array([30.], dtype=float64)],\n",
              " ('in0', 'out1'): [Array([125., 135., 225., 235., 325., 335.], dtype=float64),\n",
              "  Array([25., 35.], dtype=float64)],\n",
              " ('in1', 'out0'): [Array([125., 225., 325., 135., 235., 335.], dtype=float64),\n",
              "  Array([25., 35.], dtype=float64)],\n",
              " ('in1', 'out1'): [Array([130., 230., 330.], dtype=float64),\n",
              "  Array([20., 30., 30., 40.], dtype=float64)],\n",
              " ('out0',\n",
              "  'in0'): [Array([120., 130., 220., 230., 320., 330., 130., 140., 230., 240., 330.,\n",
              "         340.], dtype=float64), Array([30.], dtype=float64)],\n",
              " ('out0', 'in1'): [Array([125., 135., 225., 235., 325., 335.], dtype=float64),\n",
              "  Array([25., 35.], dtype=float64)],\n",
              " ('out1', 'in0'): [Array([125., 225., 325., 135., 235., 335.], dtype=float64),\n",
              "  Array([25., 35.], dtype=float64)],\n",
              " ('out1', 'in1'): [Array([130., 230., 330.], dtype=float64),\n",
              "  Array([20., 30., 30., 40.], dtype=float64)]}"
            ]
          },
          "execution_count": 62,
          "metadata": {},
          "output_type": "execute_result"
        }
      ],
      "source": [
        "sax.backends.evaluate_circuit_additive(\n",
        "    sax.backends.analyze_circuit_additive(connections, ports), instances\n",
        ")"
      ]
    }
  ],
  "metadata": {
    "kernelspec": {
      "display_name": "sax",
      "language": "python",
      "name": "sax"
    },
    "language_info": {
      "codemirror_mode": {
        "name": "ipython",
        "version": 3
      },
      "file_extension": ".py",
      "mimetype": "text/x-python",
      "name": "python",
      "nbconvert_exporter": "python",
      "pygments_lexer": "ipython3",
      "version": "3.10.12"
    },
    "papermill": {
      "default_parameters": {},
      "duration": 13.407609,
      "end_time": "2023-09-03T19:47:09.310929",
      "environment_variables": {},
      "exception": null,
      "input_path": "./internals/03_backends.ipynb",
      "output_path": "./internals/03_backends.ipynb",
      "parameters": {},
      "start_time": "2023-09-03T19:46:55.903320",
      "version": "2.4.0"
    }
  },
  "nbformat": 4,
  "nbformat_minor": 5
}