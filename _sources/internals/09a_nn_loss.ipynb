{
  "cells": [
    {
      "cell_type": "code",
      "execution_count": 1,
      "id": "09cfbd1b5a329055",
      "metadata": {
        "execution": {
          "iopub.execute_input": "2023-09-02T21:30:36.573055Z",
          "iopub.status.busy": "2023-09-02T21:30:36.572386Z",
          "iopub.status.idle": "2023-09-02T21:30:36.577273Z",
          "shell.execute_reply": "2023-09-02T21:30:36.576489Z"
        },
        "papermill": {
          "duration": 0.011473,
          "end_time": "2023-09-02T21:30:36.578889",
          "exception": false,
          "start_time": "2023-09-02T21:30:36.567416",
          "status": "completed"
        },
        "tags": [
          "remove-cell"
        ]
      },
      "outputs": [],
      "source": []
    },
    {
      "cell_type": "markdown",
      "id": "3cf6720e",
      "metadata": {
        "papermill": {
          "duration": 0.001877,
          "end_time": "2023-09-02T21:30:36.582774",
          "exception": false,
          "start_time": "2023-09-02T21:30:36.580897",
          "status": "completed"
        },
        "tags": []
      },
      "source": [
        "# Loss\n",
        "\n",
        "> loss functions and utilitites for SAX neural networks"
      ]
    },
    {
      "cell_type": "code",
      "execution_count": 2,
      "id": "cdc6bce666c94e8f",
      "metadata": {
        "execution": {
          "iopub.execute_input": "2023-09-02T21:30:36.587432Z",
          "iopub.status.busy": "2023-09-02T21:30:36.586947Z",
          "iopub.status.idle": "2023-09-02T21:30:37.128734Z",
          "shell.execute_reply": "2023-09-02T21:30:37.128188Z"
        },
        "papermill": {
          "duration": 0.546237,
          "end_time": "2023-09-02T21:30:37.130645",
          "exception": false,
          "start_time": "2023-09-02T21:30:36.584408",
          "status": "completed"
        },
        "tags": [
          "remove-cell"
        ]
      },
      "outputs": [],
      "source": [
        "import matplotlib.pyplot as plt\n",
        "from fastcore.test import test_eq\n",
        "from pytest import approx, raises\n",
        "\n",
        "import os, sys; sys.stderr = open(os.devnull, \"w\")"
      ]
    },
    {
      "cell_type": "code",
      "execution_count": 3,
      "id": "b11c529979eaeb02",
      "metadata": {
        "execution": {
          "iopub.execute_input": "2023-09-02T21:30:37.137637Z",
          "iopub.status.busy": "2023-09-02T21:30:37.137263Z",
          "iopub.status.idle": "2023-09-02T21:30:38.109511Z",
          "shell.execute_reply": "2023-09-02T21:30:38.108942Z"
        },
        "papermill": {
          "duration": 0.978695,
          "end_time": "2023-09-02T21:30:38.111796",
          "exception": false,
          "start_time": "2023-09-02T21:30:37.133101",
          "status": "completed"
        },
        "tags": [
          "hide-input"
        ]
      },
      "outputs": [],
      "source": [
        "from __future__ import annotations\n",
        "\n",
        "from typing import Dict\n",
        "\n",
        "import jax.numpy as jnp\n",
        "from sax.typing_ import ComplexFloat"
      ]
    },
    {
      "cell_type": "markdown",
      "id": "d54099d544140d81",
      "metadata": {},
      "source": [
        ":::{eval-rst}\n",
        ".. autofunction:: sax.nn.loss.mse\n",
        ":::\n"
      ]
    },
    {
      "cell_type": "code",
      "execution_count": 4,
      "id": "c258decb9c29bfa3",
      "metadata": {
        "execution": {
          "iopub.execute_input": "2023-09-02T21:30:38.118672Z",
          "iopub.status.busy": "2023-09-02T21:30:38.117709Z",
          "iopub.status.idle": "2023-09-02T21:30:38.122183Z",
          "shell.execute_reply": "2023-09-02T21:30:38.121528Z"
        },
        "papermill": {
          "duration": 0.009805,
          "end_time": "2023-09-02T21:30:38.123751",
          "exception": false,
          "start_time": "2023-09-02T21:30:38.113946",
          "status": "completed"
        },
        "tags": [
          "hide-input"
        ]
      },
      "outputs": [],
      "source": [
        "\n",
        "def mse(x: ComplexFloat, y: ComplexFloat) -> float:\n",
        "    \"\"\"mean squared error\"\"\"\n",
        "    return ((x - y) ** 2).mean()"
      ]
    },
    {
      "cell_type": "markdown",
      "id": "260edd90412af03c",
      "metadata": {},
      "source": [
        ":::{eval-rst}\n",
        ".. autofunction:: sax.nn.loss.huber_loss\n",
        ":::\n"
      ]
    },
    {
      "cell_type": "code",
      "execution_count": 5,
      "id": "a5610e09fc02708d",
      "metadata": {
        "execution": {
          "iopub.execute_input": "2023-09-02T21:30:38.129400Z",
          "iopub.status.busy": "2023-09-02T21:30:38.128994Z",
          "iopub.status.idle": "2023-09-02T21:30:38.132833Z",
          "shell.execute_reply": "2023-09-02T21:30:38.132312Z"
        },
        "papermill": {
          "duration": 0.008821,
          "end_time": "2023-09-02T21:30:38.134327",
          "exception": false,
          "start_time": "2023-09-02T21:30:38.125506",
          "status": "completed"
        },
        "tags": [
          "hide-input"
        ]
      },
      "outputs": [],
      "source": [
        "\n",
        "def huber_loss(x: ComplexFloat, y: ComplexFloat, delta: float=0.5) -> float:\n",
        "    \"\"\"huber loss\"\"\"\n",
        "    return ((delta ** 2) * ((1.0 + ((x - y) / delta) ** 2) ** 0.5 - 1.0)).mean()"
      ]
    },
    {
      "cell_type": "markdown",
      "id": "98d84861",
      "metadata": {
        "papermill": {
          "duration": 0.001682,
          "end_time": "2023-09-02T21:30:38.137747",
          "exception": false,
          "start_time": "2023-09-02T21:30:38.136065",
          "status": "completed"
        },
        "tags": []
      },
      "source": [
        "The huber loss is like the mean squared error close to zero and mean\n",
        "absolute error for outliers"
      ]
    },
    {
      "cell_type": "markdown",
      "id": "1e4cd0cfebfc4aba",
      "metadata": {},
      "source": [
        ":::{eval-rst}\n",
        ".. autofunction:: sax.nn.loss.l2_reg\n",
        ":::\n"
      ]
    },
    {
      "cell_type": "code",
      "execution_count": 6,
      "id": "6dfc609374f5c037",
      "metadata": {
        "execution": {
          "iopub.execute_input": "2023-09-02T21:30:38.142930Z",
          "iopub.status.busy": "2023-09-02T21:30:38.142333Z",
          "iopub.status.idle": "2023-09-02T21:30:38.147746Z",
          "shell.execute_reply": "2023-09-02T21:30:38.147210Z"
        },
        "papermill": {
          "duration": 0.009876,
          "end_time": "2023-09-02T21:30:38.149342",
          "exception": false,
          "start_time": "2023-09-02T21:30:38.139466",
          "status": "completed"
        },
        "tags": [
          "hide-input"
        ]
      },
      "outputs": [],
      "source": [
        "\n",
        "def l2_reg(weights: Dict[str, ComplexFloat]) -> float:\n",
        "    \"\"\"L2 regularization loss\"\"\"\n",
        "    numel = 0\n",
        "    loss = 0.0\n",
        "    for w in (v for k, v in weights.items() if k[0] in (\"w\", \"b\")):\n",
        "        numel = numel + w.size\n",
        "        loss = loss + (jnp.abs(w) ** 2).sum()\n",
        "    return loss / numel"
      ]
    }
  ],
  "metadata": {
    "kernelspec": {
      "display_name": "sax",
      "language": "python",
      "name": "sax"
    },
    "language_info": {
      "codemirror_mode": {
        "name": "ipython",
        "version": 3
      },
      "file_extension": ".py",
      "mimetype": "text/x-python",
      "name": "python",
      "nbconvert_exporter": "python",
      "pygments_lexer": "ipython3",
      "version": "3.11.5"
    },
    "papermill": {
      "default_parameters": {},
      "duration": 3.739593,
      "end_time": "2023-09-02T21:30:38.771025",
      "environment_variables": {},
      "exception": null,
      "input_path": "./internals/09a_nn_loss.ipynb",
      "output_path": "./internals/09a_nn_loss.ipynb",
      "parameters": {},
      "start_time": "2023-09-02T21:30:35.031432",
      "version": "2.4.0"
    }
  },
  "nbformat": 4,
  "nbformat_minor": 5
}