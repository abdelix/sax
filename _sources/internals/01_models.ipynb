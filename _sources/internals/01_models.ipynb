{
  "cells": [
    {
      "cell_type": "markdown",
      "id": "986cb864",
      "metadata": {
        "papermill": {
          "duration": 0.003331,
          "end_time": "2024-01-29T19:04:29.033823",
          "exception": false,
          "start_time": "2024-01-29T19:04:29.030492",
          "status": "completed"
        },
        "tags": []
      },
      "source": [
        "# Models and Model Factories\n",
        "\n",
        "> Default SAX Models"
      ]
    },
    {
      "cell_type": "code",
      "execution_count": 1,
      "id": "3f208d18-cef7-4668-b532-6487912ecd17",
      "metadata": {
        "execution": {
          "iopub.execute_input": "2024-01-29T19:04:29.040523Z",
          "iopub.status.busy": "2024-01-29T19:04:29.040095Z",
          "iopub.status.idle": "2024-01-29T19:04:29.768791Z",
          "shell.execute_reply": "2024-01-29T19:04:29.768240Z"
        },
        "papermill": {
          "duration": 0.73373,
          "end_time": "2024-01-29T19:04:29.770291",
          "exception": false,
          "start_time": "2024-01-29T19:04:29.036561",
          "status": "completed"
        },
        "tags": []
      },
      "outputs": [],
      "source": [
        "import sax"
      ]
    },
    {
      "cell_type": "markdown",
      "id": "6905a550-61ed-4557-8cd5-d8a6e6ca5c0f",
      "metadata": {
        "papermill": {
          "duration": 0.00272,
          "end_time": "2024-01-29T19:04:29.776053",
          "exception": false,
          "start_time": "2024-01-29T19:04:29.773333",
          "status": "completed"
        },
        "tags": []
      },
      "source": [
        "## Simple Models"
      ]
    },
    {
      "cell_type": "code",
      "execution_count": 2,
      "id": "a99cec57",
      "metadata": {
        "execution": {
          "iopub.execute_input": "2024-01-29T19:04:29.782918Z",
          "iopub.status.busy": "2024-01-29T19:04:29.782230Z",
          "iopub.status.idle": "2024-01-29T19:04:29.840617Z",
          "shell.execute_reply": "2024-01-29T19:04:29.839994Z"
        },
        "papermill": {
          "duration": 0.063142,
          "end_time": "2024-01-29T19:04:29.841898",
          "exception": false,
          "start_time": "2024-01-29T19:04:29.778756",
          "status": "completed"
        },
        "tags": []
      },
      "outputs": [
        {
          "data": {
            "text/plain": [
              "{('in0', 'out0'): Array(0.82076344+0.57126822j, dtype=complex128),\n",
              " ('out0', 'in0'): Array(0.82076344+0.57126822j, dtype=complex128)}"
            ]
          },
          "execution_count": 2,
          "metadata": {},
          "output_type": "execute_result"
        }
      ],
      "source": [
        "sax.models.straight()"
      ]
    },
    {
      "cell_type": "code",
      "execution_count": 3,
      "id": "5fd87a22",
      "metadata": {
        "execution": {
          "iopub.execute_input": "2024-01-29T19:04:29.848839Z",
          "iopub.status.busy": "2024-01-29T19:04:29.848575Z",
          "iopub.status.idle": "2024-01-29T19:04:29.853043Z",
          "shell.execute_reply": "2024-01-29T19:04:29.852435Z"
        },
        "papermill": {
          "duration": 0.009182,
          "end_time": "2024-01-29T19:04:29.854129",
          "exception": false,
          "start_time": "2024-01-29T19:04:29.844947",
          "status": "completed"
        },
        "tags": []
      },
      "outputs": [
        {
          "data": {
            "text/plain": [
              "{('in0', 'out0'): 0.7071067811865476,\n",
              " ('in0', 'out1'): 0.7071067811865476j,\n",
              " ('in1', 'out0'): 0.7071067811865476j,\n",
              " ('in1', 'out1'): 0.7071067811865476,\n",
              " ('out0', 'in0'): 0.7071067811865476,\n",
              " ('out1', 'in0'): 0.7071067811865476j,\n",
              " ('out0', 'in1'): 0.7071067811865476j,\n",
              " ('out1', 'in1'): 0.7071067811865476}"
            ]
          },
          "execution_count": 3,
          "metadata": {},
          "output_type": "execute_result"
        }
      ],
      "source": [
        "sax.models.coupler()"
      ]
    },
    {
      "cell_type": "markdown",
      "id": "ca06c12f",
      "metadata": {
        "papermill": {
          "duration": 0.002797,
          "end_time": "2024-01-29T19:04:29.859855",
          "exception": false,
          "start_time": "2024-01-29T19:04:29.857058",
          "status": "completed"
        },
        "tags": []
      },
      "source": [
        "## Model Factories"
      ]
    },
    {
      "cell_type": "markdown",
      "id": "327febf2-70d5-48ed-8b39-bac2d9727db5",
      "metadata": {
        "papermill": {
          "duration": 0.002795,
          "end_time": "2024-01-29T19:04:29.865519",
          "exception": false,
          "start_time": "2024-01-29T19:04:29.862724",
          "status": "completed"
        },
        "tags": []
      },
      "source": [
        "A unitary model returns an `SCoo` by default:"
      ]
    },
    {
      "cell_type": "code",
      "execution_count": 4,
      "id": "e95bacdd",
      "metadata": {
        "execution": {
          "iopub.execute_input": "2024-01-29T19:04:29.872551Z",
          "iopub.status.busy": "2024-01-29T19:04:29.871937Z",
          "iopub.status.idle": "2024-01-29T19:04:30.740961Z",
          "shell.execute_reply": "2024-01-29T19:04:30.740299Z"
        },
        "papermill": {
          "duration": 0.873949,
          "end_time": "2024-01-29T19:04:30.742285",
          "exception": false,
          "start_time": "2024-01-29T19:04:29.868336",
          "status": "completed"
        },
        "tags": []
      },
      "outputs": [
        {
          "data": {
            "text/plain": [
              "(Array([0, 0, 1, 1, 2, 2, 3, 3], dtype=int64),\n",
              " Array([2, 3, 2, 3, 0, 1, 0, 1], dtype=int64),\n",
              " Array([0.70710678, 0.70710678, 0.70710678, 0.70710678, 0.70710678,\n",
              "        0.70710678, 0.70710678, 0.70710678], dtype=float64),\n",
              " {'in0': Array(0, dtype=int64, weak_type=True),\n",
              "  'in1': Array(1, dtype=int64, weak_type=True),\n",
              "  'out0': Array(2, dtype=int64, weak_type=True),\n",
              "  'out1': Array(3, dtype=int64, weak_type=True)})"
            ]
          },
          "execution_count": 4,
          "metadata": {},
          "output_type": "execute_result"
        }
      ],
      "source": [
        "unitary_model = sax.models.unitary(2, 2)\n",
        "unitary_model()  # a unitary model returns an SCoo by default"
      ]
    },
    {
      "cell_type": "markdown",
      "id": "01ff2567-9b0e-4686-acb4-47cfb11b06ce",
      "metadata": {
        "papermill": {
          "duration": 0.003052,
          "end_time": "2024-01-29T19:04:30.748651",
          "exception": false,
          "start_time": "2024-01-29T19:04:30.745599",
          "status": "completed"
        },
        "tags": []
      },
      "source": [
        "As you probably already know, it's very easy to convert a model returning any `Stype` into a model returning an `SDict` as follows:"
      ]
    },
    {
      "cell_type": "code",
      "execution_count": 5,
      "id": "260dda8c-7e44-4f3f-b96c-e742daaf2885",
      "metadata": {
        "execution": {
          "iopub.execute_input": "2024-01-29T19:04:30.755735Z",
          "iopub.status.busy": "2024-01-29T19:04:30.755364Z",
          "iopub.status.idle": "2024-01-29T19:04:30.792510Z",
          "shell.execute_reply": "2024-01-29T19:04:30.791908Z"
        },
        "papermill": {
          "duration": 0.042165,
          "end_time": "2024-01-29T19:04:30.793823",
          "exception": false,
          "start_time": "2024-01-29T19:04:30.751658",
          "status": "completed"
        },
        "tags": []
      },
      "outputs": [
        {
          "data": {
            "text/plain": [
              "{('in0', 'out0'): Array(0.70710678, dtype=float64),\n",
              " ('in0', 'out1'): Array(0.70710678, dtype=float64),\n",
              " ('in1', 'out0'): Array(0.70710678, dtype=float64),\n",
              " ('in1', 'out1'): Array(0.70710678, dtype=float64),\n",
              " ('out0', 'in0'): Array(0.70710678, dtype=float64),\n",
              " ('out0', 'in1'): Array(0.70710678, dtype=float64),\n",
              " ('out1', 'in0'): Array(0.70710678, dtype=float64),\n",
              " ('out1', 'in1'): Array(0.70710678, dtype=float64)}"
            ]
          },
          "execution_count": 5,
          "metadata": {},
          "output_type": "execute_result"
        }
      ],
      "source": [
        "unitary_sdict_model = sax.sdict(unitary_model)\n",
        "unitary_sdict_model()"
      ]
    },
    {
      "cell_type": "markdown",
      "id": "e9a1a46b-b10a-471b-b835-7b6d8d49175a",
      "metadata": {
        "papermill": {
          "duration": 0.002996,
          "end_time": "2024-01-29T19:04:30.800034",
          "exception": false,
          "start_time": "2024-01-29T19:04:30.797038",
          "status": "completed"
        },
        "tags": []
      },
      "source": [
        "If we need custom port names, we can also just specify them explicitly:"
      ]
    },
    {
      "cell_type": "code",
      "execution_count": 6,
      "id": "66abe9b0",
      "metadata": {
        "execution": {
          "iopub.execute_input": "2024-01-29T19:04:30.807366Z",
          "iopub.status.busy": "2024-01-29T19:04:30.806808Z",
          "iopub.status.idle": "2024-01-29T19:04:30.831718Z",
          "shell.execute_reply": "2024-01-29T19:04:30.831138Z"
        },
        "papermill": {
          "duration": 0.029897,
          "end_time": "2024-01-29T19:04:30.832927",
          "exception": false,
          "start_time": "2024-01-29T19:04:30.803030",
          "status": "completed"
        },
        "tags": []
      },
      "outputs": [
        {
          "data": {
            "text/plain": [
              "(Array([0, 0, 1, 1, 2, 2, 3, 3], dtype=int64),\n",
              " Array([2, 3, 2, 3, 0, 1, 0, 1], dtype=int64),\n",
              " Array([0.70710678, 0.70710678, 0.70710678, 0.70710678, 0.70710678,\n",
              "        0.70710678, 0.70710678, 0.70710678], dtype=float64),\n",
              " {'in0': Array(0, dtype=int64, weak_type=True),\n",
              "  'in1': Array(1, dtype=int64, weak_type=True),\n",
              "  'out0': Array(2, dtype=int64, weak_type=True),\n",
              "  'out1': Array(3, dtype=int64, weak_type=True)})"
            ]
          },
          "execution_count": 6,
          "metadata": {},
          "output_type": "execute_result"
        }
      ],
      "source": [
        "unitary_model = sax.models.unitary(ports=(\"in0\", \"in1\", \"out0\", \"out1\"))\n",
        "unitary_model()"
      ]
    },
    {
      "cell_type": "markdown",
      "id": "ebf14c1c-ccfb-44e6-8572-18b366ffab91",
      "metadata": {
        "papermill": {
          "duration": 0.003129,
          "end_time": "2024-01-29T19:04:30.839368",
          "exception": false,
          "start_time": "2024-01-29T19:04:30.836239",
          "status": "completed"
        },
        "tags": []
      },
      "source": [
        "A unitary model will by default split a signal at an input port equally over all output ports. However, if there are an equal number of input ports as output ports we can in stead create a passthru by setting the `diagonal` flag to `True`:"
      ]
    },
    {
      "cell_type": "code",
      "execution_count": 7,
      "id": "7c1d61a3",
      "metadata": {
        "execution": {
          "iopub.execute_input": "2024-01-29T19:04:30.846602Z",
          "iopub.status.busy": "2024-01-29T19:04:30.846239Z",
          "iopub.status.idle": "2024-01-29T19:04:31.162617Z",
          "shell.execute_reply": "2024-01-29T19:04:31.161973Z"
        },
        "papermill": {
          "duration": 0.321432,
          "end_time": "2024-01-29T19:04:31.163893",
          "exception": false,
          "start_time": "2024-01-29T19:04:30.842461",
          "status": "completed"
        },
        "tags": []
      },
      "outputs": [
        {
          "data": {
            "text/plain": [
              "{('in0', 'out0'): Array(1., dtype=float64),\n",
              " ('in1', 'out1'): Array(1., dtype=float64),\n",
              " ('out0', 'in0'): Array(1., dtype=float64),\n",
              " ('out1', 'in1'): Array(1., dtype=float64)}"
            ]
          },
          "execution_count": 7,
          "metadata": {},
          "output_type": "execute_result"
        }
      ],
      "source": [
        "passthru_model = sax.models.unitary(2, 2, diagonal=True)\n",
        "sax.sdict(passthru_model())"
      ]
    },
    {
      "cell_type": "code",
      "execution_count": 8,
      "id": "7f93b145",
      "metadata": {
        "execution": {
          "iopub.execute_input": "2024-01-29T19:04:31.172265Z",
          "iopub.status.busy": "2024-01-29T19:04:31.171883Z",
          "iopub.status.idle": "2024-01-29T19:04:31.983425Z",
          "shell.execute_reply": "2024-01-29T19:04:31.982746Z"
        },
        "papermill": {
          "duration": 0.81735,
          "end_time": "2024-01-29T19:04:31.984879",
          "exception": false,
          "start_time": "2024-01-29T19:04:31.167529",
          "status": "completed"
        },
        "tags": []
      },
      "outputs": [
        {
          "data": {
            "text/plain": [
              "{('in0', 'out0'): Array(0.4472136, dtype=float64),\n",
              " ('in0', 'out1'): Array(0.4472136, dtype=float64),\n",
              " ('in0', 'out2'): Array(0.4472136, dtype=float64),\n",
              " ('in0', 'out3'): Array(0.4472136, dtype=float64),\n",
              " ('in0', 'out4'): Array(0.4472136, dtype=float64),\n",
              " ('out0', 'in0'): Array(0.4472136, dtype=float64),\n",
              " ('out1', 'in0'): Array(0.4472136, dtype=float64),\n",
              " ('out2', 'in0'): Array(0.4472136, dtype=float64),\n",
              " ('out3', 'in0'): Array(0.4472136, dtype=float64),\n",
              " ('out4', 'in0'): Array(0.4472136, dtype=float64)}"
            ]
          },
          "execution_count": 8,
          "metadata": {},
          "output_type": "execute_result"
        }
      ],
      "source": [
        "ports_in = [\"in0\"]\n",
        "ports_out = [\"out0\", \"out1\", \"out2\", \"out3\", \"out4\"]\n",
        "model = sax.models.unitary(ports=tuple(ports_in + ports_out), jit=True, reciprocal=True)\n",
        "model = sax.sdict(model)\n",
        "model()"
      ]
    },
    {
      "cell_type": "markdown",
      "id": "8b149d44-5487-4e50-a2f2-1ad0aca99dac",
      "metadata": {
        "papermill": {
          "duration": 0.003452,
          "end_time": "2024-01-29T19:04:31.992163",
          "exception": false,
          "start_time": "2024-01-29T19:04:31.988711",
          "status": "completed"
        },
        "tags": []
      },
      "source": [
        "Because this is a pretty common usecase we have a dedicated model factory for this as well. This passthru component just takes the number of links (`'in{i}' -> 'out{i]'`) as input. Alternatively, as before, one can also specify the port names directly but one needs to ensure that `len(ports) == 2*num_links`."
      ]
    },
    {
      "cell_type": "code",
      "execution_count": 9,
      "id": "9e8b6cd7-56d4-4697-9a6e-33c929f3d853",
      "metadata": {
        "execution": {
          "iopub.execute_input": "2024-01-29T19:04:32.000371Z",
          "iopub.status.busy": "2024-01-29T19:04:31.999922Z",
          "iopub.status.idle": "2024-01-29T19:04:32.548418Z",
          "shell.execute_reply": "2024-01-29T19:04:32.547841Z"
        },
        "papermill": {
          "duration": 0.554104,
          "end_time": "2024-01-29T19:04:32.549641",
          "exception": false,
          "start_time": "2024-01-29T19:04:31.995537",
          "status": "completed"
        },
        "tags": []
      },
      "outputs": [
        {
          "data": {
            "text/plain": [
              "{('in0', 'out0'): Array(1., dtype=float64),\n",
              " ('in1', 'out1'): Array(1., dtype=float64),\n",
              " ('in2', 'out2'): Array(1., dtype=float64),\n",
              " ('out0', 'in0'): Array(1., dtype=float64),\n",
              " ('out1', 'in1'): Array(1., dtype=float64),\n",
              " ('out2', 'in2'): Array(1., dtype=float64)}"
            ]
          },
          "execution_count": 9,
          "metadata": {},
          "output_type": "execute_result"
        }
      ],
      "source": [
        "passthru_model = sax.passthru(3)\n",
        "passthru_sdict_model = sax.sdict(passthru_model)\n",
        "passthru_sdict_model()"
      ]
    },
    {
      "cell_type": "code",
      "execution_count": 10,
      "id": "690e718c-2d84-4177-b8ad-ff39cf8c4691",
      "metadata": {
        "execution": {
          "iopub.execute_input": "2024-01-29T19:04:32.558310Z",
          "iopub.status.busy": "2024-01-29T19:04:32.558096Z",
          "iopub.status.idle": "2024-01-29T19:04:33.862381Z",
          "shell.execute_reply": "2024-01-29T19:04:33.861775Z"
        },
        "papermill": {
          "duration": 1.310049,
          "end_time": "2024-01-29T19:04:33.863670",
          "exception": false,
          "start_time": "2024-01-29T19:04:32.553621",
          "status": "completed"
        },
        "tags": []
      },
      "outputs": [
        {
          "data": {
            "text/plain": [
              "{('in0', 'in0'): Array(0.+0.j, dtype=complex128),\n",
              " ('in0', 'out0'): Array(1.+0.j, dtype=complex128),\n",
              " ('out0', 'in0'): Array(1.+0.j, dtype=complex128),\n",
              " ('out0', 'out0'): Array(0.+0.j, dtype=complex128)}"
            ]
          },
          "execution_count": 10,
          "metadata": {},
          "output_type": "execute_result"
        }
      ],
      "source": [
        "mzi, _ = sax.circuit(\n",
        "    netlist={\n",
        "        \"instances\": {\n",
        "            \"lft\": \"u12\",\n",
        "            \"top\": \"u11\",\n",
        "            \"rgt\": \"u12\",\n",
        "        },\n",
        "        \"connections\": {\n",
        "            \"lft,out0\": \"rgt,out0\",\n",
        "            \"lft,out1\": \"top,in0\",\n",
        "            \"top,out0\": \"rgt,out1\",\n",
        "        },\n",
        "        \"ports\": {\n",
        "            \"in0\": \"lft,in0\",\n",
        "            \"out0\": \"rgt,in0\",\n",
        "        },\n",
        "    },\n",
        "    models={\n",
        "        \"u12\": sax.models.unitary(1, 2),\n",
        "        \"u11\": sax.models.unitary(1, 1),\n",
        "    },\n",
        ")\n",
        "mzi()"
      ]
    },
    {
      "cell_type": "markdown",
      "id": "77014d0f-1a08-4b4b-a011-cf11cd9684b8",
      "metadata": {
        "papermill": {
          "duration": 0.003694,
          "end_time": "2024-01-29T19:04:33.871709",
          "exception": false,
          "start_time": "2024-01-29T19:04:33.868015",
          "status": "completed"
        },
        "tags": []
      },
      "source": [
        "A copier model is like a unitary model, but copies the input signal over all output signals. Hence, if the model has multiple output ports, this model can be considered to introduce gain. That said, it can sometimes be a useful component."
      ]
    },
    {
      "cell_type": "code",
      "execution_count": 11,
      "id": "c2a61a9f-51ea-455f-a66f-94719b43520e",
      "metadata": {
        "execution": {
          "iopub.execute_input": "2024-01-29T19:04:33.879775Z",
          "iopub.status.busy": "2024-01-29T19:04:33.879370Z",
          "iopub.status.idle": "2024-01-29T19:04:33.904520Z",
          "shell.execute_reply": "2024-01-29T19:04:33.903969Z"
        },
        "papermill": {
          "duration": 0.030663,
          "end_time": "2024-01-29T19:04:33.905817",
          "exception": false,
          "start_time": "2024-01-29T19:04:33.875154",
          "status": "completed"
        },
        "tags": []
      },
      "outputs": [
        {
          "data": {
            "text/plain": [
              "(Array([0, 0, 1, 1, 2, 2, 3, 3], dtype=int64),\n",
              " Array([2, 3, 2, 3, 0, 1, 0, 1], dtype=int64),\n",
              " Array([1., 1., 1., 1., 1., 1., 1., 1.], dtype=float64),\n",
              " {'in0': Array(0, dtype=int64, weak_type=True),\n",
              "  'in1': Array(1, dtype=int64, weak_type=True),\n",
              "  'out0': Array(2, dtype=int64, weak_type=True),\n",
              "  'out1': Array(3, dtype=int64, weak_type=True)})"
            ]
          },
          "execution_count": 11,
          "metadata": {},
          "output_type": "execute_result"
        }
      ],
      "source": [
        "copier_model = sax.models.copier(2, 2)\n",
        "copier_model()  # a copier model returns an SCoo by default"
      ]
    },
    {
      "cell_type": "markdown",
      "id": "fbd51c6c-c059-4717-9dae-447becc7e8d5",
      "metadata": {
        "papermill": {
          "duration": 0.003659,
          "end_time": "2024-01-29T19:04:33.932944",
          "exception": false,
          "start_time": "2024-01-29T19:04:33.929285",
          "status": "completed"
        },
        "tags": []
      },
      "source": [
        "As you probably already know, it's very easy to convert a model returning any `Stype` into a model returning an `SDict` as follows:"
      ]
    },
    {
      "cell_type": "code",
      "execution_count": 12,
      "id": "becda099-b5d9-494c-a6b2-9828be10c4a5",
      "metadata": {
        "execution": {
          "iopub.execute_input": "2024-01-29T19:04:33.941391Z",
          "iopub.status.busy": "2024-01-29T19:04:33.941119Z",
          "iopub.status.idle": "2024-01-29T19:04:33.950009Z",
          "shell.execute_reply": "2024-01-29T19:04:33.949522Z"
        },
        "papermill": {
          "duration": 0.014613,
          "end_time": "2024-01-29T19:04:33.951186",
          "exception": false,
          "start_time": "2024-01-29T19:04:33.936573",
          "status": "completed"
        },
        "tags": []
      },
      "outputs": [
        {
          "data": {
            "text/plain": [
              "{('in0', 'out0'): Array(1., dtype=float64),\n",
              " ('in0', 'out1'): Array(1., dtype=float64),\n",
              " ('in1', 'out0'): Array(1., dtype=float64),\n",
              " ('in1', 'out1'): Array(1., dtype=float64),\n",
              " ('out0', 'in0'): Array(1., dtype=float64),\n",
              " ('out0', 'in1'): Array(1., dtype=float64),\n",
              " ('out1', 'in0'): Array(1., dtype=float64),\n",
              " ('out1', 'in1'): Array(1., dtype=float64)}"
            ]
          },
          "execution_count": 12,
          "metadata": {},
          "output_type": "execute_result"
        }
      ],
      "source": [
        "copier_sdict_model = sax.sdict(copier_model)\n",
        "copier_sdict_model()"
      ]
    },
    {
      "cell_type": "markdown",
      "id": "1ad16d1b-f685-4ab9-a8c4-41efbbdae4fa",
      "metadata": {
        "papermill": {
          "duration": 0.003568,
          "end_time": "2024-01-29T19:04:33.958463",
          "exception": false,
          "start_time": "2024-01-29T19:04:33.954895",
          "status": "completed"
        },
        "tags": []
      },
      "source": [
        "If we need custom port names, we can also just specify them explicitly:"
      ]
    },
    {
      "cell_type": "code",
      "execution_count": 13,
      "id": "297d1e45-b881-440b-b887-b38c5517596e",
      "metadata": {
        "execution": {
          "iopub.execute_input": "2024-01-29T19:04:33.966750Z",
          "iopub.status.busy": "2024-01-29T19:04:33.966283Z",
          "iopub.status.idle": "2024-01-29T19:04:33.991017Z",
          "shell.execute_reply": "2024-01-29T19:04:33.990501Z"
        },
        "papermill": {
          "duration": 0.030103,
          "end_time": "2024-01-29T19:04:33.992185",
          "exception": false,
          "start_time": "2024-01-29T19:04:33.962082",
          "status": "completed"
        },
        "tags": []
      },
      "outputs": [
        {
          "data": {
            "text/plain": [
              "(Array([0, 0, 1, 1, 2, 2, 3, 3], dtype=int64),\n",
              " Array([2, 3, 2, 3, 0, 1, 0, 1], dtype=int64),\n",
              " Array([1., 1., 1., 1., 1., 1., 1., 1.], dtype=float64),\n",
              " {'in0': Array(0, dtype=int64, weak_type=True),\n",
              "  'in1': Array(1, dtype=int64, weak_type=True),\n",
              "  'out0': Array(2, dtype=int64, weak_type=True),\n",
              "  'out1': Array(3, dtype=int64, weak_type=True)})"
            ]
          },
          "execution_count": 13,
          "metadata": {},
          "output_type": "execute_result"
        }
      ],
      "source": [
        "copier_model = sax.models.copier(ports=(\"in0\", \"in1\", \"out0\", \"out1\"))\n",
        "copier_model()"
      ]
    },
    {
      "cell_type": "code",
      "execution_count": 14,
      "id": "608d7114-03ac-4f5f-9790-cf65379d81dd",
      "metadata": {
        "execution": {
          "iopub.execute_input": "2024-01-29T19:04:34.001168Z",
          "iopub.status.busy": "2024-01-29T19:04:34.000966Z",
          "iopub.status.idle": "2024-01-29T19:04:34.011438Z",
          "shell.execute_reply": "2024-01-29T19:04:34.010828Z"
        },
        "papermill": {
          "duration": 0.016237,
          "end_time": "2024-01-29T19:04:34.012601",
          "exception": false,
          "start_time": "2024-01-29T19:04:33.996364",
          "status": "completed"
        },
        "tags": []
      },
      "outputs": [
        {
          "data": {
            "text/plain": [
              "{('in0', 'out0'): Array(0.4472136, dtype=float64),\n",
              " ('in0', 'out1'): Array(0.4472136, dtype=float64),\n",
              " ('in0', 'out2'): Array(0.4472136, dtype=float64),\n",
              " ('in0', 'out3'): Array(0.4472136, dtype=float64),\n",
              " ('in0', 'out4'): Array(0.4472136, dtype=float64),\n",
              " ('out0', 'in0'): Array(0.4472136, dtype=float64),\n",
              " ('out1', 'in0'): Array(0.4472136, dtype=float64),\n",
              " ('out2', 'in0'): Array(0.4472136, dtype=float64),\n",
              " ('out3', 'in0'): Array(0.4472136, dtype=float64),\n",
              " ('out4', 'in0'): Array(0.4472136, dtype=float64)}"
            ]
          },
          "execution_count": 14,
          "metadata": {},
          "output_type": "execute_result"
        }
      ],
      "source": [
        "ports_in = [\"in0\"]\n",
        "ports_out = [\"out0\", \"out1\", \"out2\", \"out3\", \"out4\"]\n",
        "model = sax.models.unitary(ports=tuple(ports_in + ports_out), jit=True, reciprocal=True)\n",
        "model = sax.sdict(model)\n",
        "model()"
      ]
    },
    {
      "cell_type": "markdown",
      "id": "6d024e5b-95a9-44e5-9dbc-4980249e73a7",
      "metadata": {
        "papermill": {
          "duration": 0.003756,
          "end_time": "2024-01-29T19:04:34.020464",
          "exception": false,
          "start_time": "2024-01-29T19:04:34.016708",
          "status": "completed"
        },
        "tags": []
      },
      "source": [
        "Because this is a pretty common usecase we have a dedicated model factory for this as well. This passthru component just takes the number of links (`'in{i}' -> 'out{i]'`) as input. Alternatively, as before, one can also specify the port names directly but one needs to ensure that `len(ports) == 2*num_links`."
      ]
    },
    {
      "cell_type": "code",
      "execution_count": 15,
      "id": "4a063810-224b-446c-a59d-12a20b56e82e",
      "metadata": {
        "execution": {
          "iopub.execute_input": "2024-01-29T19:04:34.029156Z",
          "iopub.status.busy": "2024-01-29T19:04:34.028948Z",
          "iopub.status.idle": "2024-01-29T19:04:34.036957Z",
          "shell.execute_reply": "2024-01-29T19:04:34.036433Z"
        },
        "papermill": {
          "duration": 0.013809,
          "end_time": "2024-01-29T19:04:34.038119",
          "exception": false,
          "start_time": "2024-01-29T19:04:34.024310",
          "status": "completed"
        },
        "tags": []
      },
      "outputs": [
        {
          "data": {
            "text/plain": [
              "{('in0', 'out0'): Array(1., dtype=float64),\n",
              " ('in1', 'out1'): Array(1., dtype=float64),\n",
              " ('in2', 'out2'): Array(1., dtype=float64),\n",
              " ('out0', 'in0'): Array(1., dtype=float64),\n",
              " ('out1', 'in1'): Array(1., dtype=float64),\n",
              " ('out2', 'in2'): Array(1., dtype=float64)}"
            ]
          },
          "execution_count": 15,
          "metadata": {},
          "output_type": "execute_result"
        }
      ],
      "source": [
        "passthru_model = sax.models.passthru(3)\n",
        "passthru_sdict_model = sax.sdict(passthru_model)\n",
        "passthru_sdict_model()"
      ]
    },
    {
      "cell_type": "markdown",
      "id": "e56f2f41-776f-4b53-98c3-dee702326093",
      "metadata": {
        "papermill": {
          "duration": 0.004012,
          "end_time": "2024-01-29T19:04:34.046361",
          "exception": false,
          "start_time": "2024-01-29T19:04:34.042349",
          "status": "completed"
        },
        "tags": []
      },
      "source": [
        "## All Models"
      ]
    },
    {
      "cell_type": "code",
      "execution_count": 16,
      "id": "52ae2f93-6190-4c24-9120-f95f3f61baa8",
      "metadata": {
        "execution": {
          "iopub.execute_input": "2024-01-29T19:04:34.055672Z",
          "iopub.status.busy": "2024-01-29T19:04:34.055237Z",
          "iopub.status.idle": "2024-01-29T19:04:34.059492Z",
          "shell.execute_reply": "2024-01-29T19:04:34.058993Z"
        },
        "papermill": {
          "duration": 0.010356,
          "end_time": "2024-01-29T19:04:34.060640",
          "exception": false,
          "start_time": "2024-01-29T19:04:34.050284",
          "status": "completed"
        },
        "tags": []
      },
      "outputs": [
        {
          "data": {
            "text/plain": [
              "{'copier': <functools._lru_cache_wrapper at 0x7efe03491a60>,\n",
              " 'coupler': <function sax.models.coupler(*, coupling: 'float' = 0.5) -> 'SDict'>,\n",
              " 'passthru': <functools._lru_cache_wrapper at 0x7efe03491c70>,\n",
              " 'straight': <function sax.models.straight(*, wl: 'FloatArrayND | float' = 1.55, wl0: 'float' = 1.55, neff: 'float' = 2.34, ng: 'float' = 3.4, length: 'float' = 10.0, loss: 'float' = 0.0) -> 'SDict'>,\n",
              " 'unitary': <functools._lru_cache_wrapper at 0x7efe034919b0>}"
            ]
          },
          "execution_count": 16,
          "metadata": {},
          "output_type": "execute_result"
        }
      ],
      "source": [
        "sax.models.models"
      ]
    }
  ],
  "metadata": {
    "kernelspec": {
      "display_name": "Python 3 (ipykernel)",
      "language": "python",
      "name": "python3"
    },
    "language_info": {
      "codemirror_mode": {
        "name": "ipython",
        "version": 3
      },
      "file_extension": ".py",
      "mimetype": "text/x-python",
      "name": "python",
      "nbconvert_exporter": "python",
      "pygments_lexer": "ipython3",
      "version": "3.10.13"
    },
    "papermill": {
      "default_parameters": {},
      "duration": 6.678434,
      "end_time": "2024-01-29T19:04:34.781862",
      "environment_variables": {},
      "exception": null,
      "input_path": "./internals/01_models.ipynb",
      "output_path": "./internals/01_models.ipynb",
      "parameters": {},
      "start_time": "2024-01-29T19:04:28.103428",
      "version": "2.5.0"
    }
  },
  "nbformat": 4,
  "nbformat_minor": 5
}