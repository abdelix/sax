{
  "cells": [
    {
      "cell_type": "markdown",
      "id": "986cb864",
      "metadata": {
        "papermill": {
          "duration": 0.005196,
          "end_time": "2023-09-18T19:54:40.559156",
          "exception": false,
          "start_time": "2023-09-18T19:54:40.553960",
          "status": "completed"
        },
        "tags": []
      },
      "source": [
        "# Models and Model Factories\n",
        "\n",
        "> Default SAX Models"
      ]
    },
    {
      "cell_type": "code",
      "execution_count": 1,
      "id": "3f208d18-cef7-4668-b532-6487912ecd17",
      "metadata": {
        "execution": {
          "iopub.execute_input": "2023-09-18T19:54:40.570496Z",
          "iopub.status.busy": "2023-09-18T19:54:40.569572Z",
          "iopub.status.idle": "2023-09-18T19:54:41.627561Z",
          "shell.execute_reply": "2023-09-18T19:54:41.626592Z"
        },
        "papermill": {
          "duration": 1.066453,
          "end_time": "2023-09-18T19:54:41.630153",
          "exception": false,
          "start_time": "2023-09-18T19:54:40.563700",
          "status": "completed"
        },
        "tags": []
      },
      "outputs": [],
      "source": [
        "import sax"
      ]
    },
    {
      "cell_type": "markdown",
      "id": "6905a550-61ed-4557-8cd5-d8a6e6ca5c0f",
      "metadata": {
        "papermill": {
          "duration": 0.004462,
          "end_time": "2023-09-18T19:54:41.639148",
          "exception": false,
          "start_time": "2023-09-18T19:54:41.634686",
          "status": "completed"
        },
        "tags": []
      },
      "source": [
        "## Simple Models"
      ]
    },
    {
      "cell_type": "code",
      "execution_count": 2,
      "id": "a99cec57",
      "metadata": {
        "execution": {
          "iopub.execute_input": "2023-09-18T19:54:41.649760Z",
          "iopub.status.busy": "2023-09-18T19:54:41.649110Z",
          "iopub.status.idle": "2023-09-18T19:54:41.709216Z",
          "shell.execute_reply": "2023-09-18T19:54:41.708412Z"
        },
        "papermill": {
          "duration": 0.067611,
          "end_time": "2023-09-18T19:54:41.711080",
          "exception": false,
          "start_time": "2023-09-18T19:54:41.643469",
          "status": "completed"
        },
        "tags": []
      },
      "outputs": [
        {
          "data": {
            "text/plain": [
              "{('in0', 'out0'): Array(0.82076344+0.57126822j, dtype=complex128),\n",
              " ('out0', 'in0'): Array(0.82076344+0.57126822j, dtype=complex128)}"
            ]
          },
          "execution_count": 2,
          "metadata": {},
          "output_type": "execute_result"
        }
      ],
      "source": [
        "sax.models.straight()"
      ]
    },
    {
      "cell_type": "code",
      "execution_count": 3,
      "id": "5fd87a22",
      "metadata": {
        "execution": {
          "iopub.execute_input": "2023-09-18T19:54:41.728179Z",
          "iopub.status.busy": "2023-09-18T19:54:41.727440Z",
          "iopub.status.idle": "2023-09-18T19:54:41.735173Z",
          "shell.execute_reply": "2023-09-18T19:54:41.734551Z"
        },
        "papermill": {
          "duration": 0.016296,
          "end_time": "2023-09-18T19:54:41.736786",
          "exception": false,
          "start_time": "2023-09-18T19:54:41.720490",
          "status": "completed"
        },
        "tags": []
      },
      "outputs": [
        {
          "data": {
            "text/plain": [
              "{('in0', 'out0'): 0.7071067811865476,\n",
              " ('in0', 'out1'): 0.7071067811865476j,\n",
              " ('in1', 'out0'): 0.7071067811865476j,\n",
              " ('in1', 'out1'): 0.7071067811865476,\n",
              " ('out0', 'in0'): 0.7071067811865476,\n",
              " ('out1', 'in0'): 0.7071067811865476j,\n",
              " ('out0', 'in1'): 0.7071067811865476j,\n",
              " ('out1', 'in1'): 0.7071067811865476}"
            ]
          },
          "execution_count": 3,
          "metadata": {},
          "output_type": "execute_result"
        }
      ],
      "source": [
        "sax.models.coupler()"
      ]
    },
    {
      "cell_type": "markdown",
      "id": "ca06c12f",
      "metadata": {
        "papermill": {
          "duration": 0.004982,
          "end_time": "2023-09-18T19:54:41.746735",
          "exception": false,
          "start_time": "2023-09-18T19:54:41.741753",
          "status": "completed"
        },
        "tags": []
      },
      "source": [
        "## Model Factories"
      ]
    },
    {
      "cell_type": "markdown",
      "id": "327febf2-70d5-48ed-8b39-bac2d9727db5",
      "metadata": {
        "papermill": {
          "duration": 0.008215,
          "end_time": "2023-09-18T19:54:41.759910",
          "exception": false,
          "start_time": "2023-09-18T19:54:41.751695",
          "status": "completed"
        },
        "tags": []
      },
      "source": [
        "A unitary model returns an `SCoo` by default:"
      ]
    },
    {
      "cell_type": "code",
      "execution_count": 4,
      "id": "e95bacdd",
      "metadata": {
        "execution": {
          "iopub.execute_input": "2023-09-18T19:54:41.773596Z",
          "iopub.status.busy": "2023-09-18T19:54:41.772606Z",
          "iopub.status.idle": "2023-09-18T19:54:42.807257Z",
          "shell.execute_reply": "2023-09-18T19:54:42.805554Z"
        },
        "papermill": {
          "duration": 1.04464,
          "end_time": "2023-09-18T19:54:42.810014",
          "exception": false,
          "start_time": "2023-09-18T19:54:41.765374",
          "status": "completed"
        },
        "tags": []
      },
      "outputs": [
        {
          "data": {
            "text/plain": [
              "(Array([0, 0, 1, 1, 2, 2, 3, 3], dtype=int64),\n",
              " Array([2, 3, 2, 3, 0, 1, 0, 1], dtype=int64),\n",
              " Array([0.70710678, 0.70710678, 0.70710678, 0.70710678, 0.70710678,\n",
              "        0.70710678, 0.70710678, 0.70710678], dtype=float64),\n",
              " {'in0': Array(0, dtype=int64, weak_type=True),\n",
              "  'in1': Array(1, dtype=int64, weak_type=True),\n",
              "  'out0': Array(2, dtype=int64, weak_type=True),\n",
              "  'out1': Array(3, dtype=int64, weak_type=True)})"
            ]
          },
          "execution_count": 4,
          "metadata": {},
          "output_type": "execute_result"
        }
      ],
      "source": [
        "unitary_model = sax.models.unitary(2, 2)\n",
        "unitary_model() # a unitary model returns an SCoo by default"
      ]
    },
    {
      "cell_type": "markdown",
      "id": "01ff2567-9b0e-4686-acb4-47cfb11b06ce",
      "metadata": {
        "papermill": {
          "duration": 0.005288,
          "end_time": "2023-09-18T19:54:42.823418",
          "exception": false,
          "start_time": "2023-09-18T19:54:42.818130",
          "status": "completed"
        },
        "tags": []
      },
      "source": [
        "As you probably already know, it's very easy to convert a model returning any `Stype` into a model returning an `SDict` as follows:"
      ]
    },
    {
      "cell_type": "code",
      "execution_count": 5,
      "id": "260dda8c-7e44-4f3f-b96c-e742daaf2885",
      "metadata": {
        "execution": {
          "iopub.execute_input": "2023-09-18T19:54:42.834992Z",
          "iopub.status.busy": "2023-09-18T19:54:42.834322Z",
          "iopub.status.idle": "2023-09-18T19:54:42.887892Z",
          "shell.execute_reply": "2023-09-18T19:54:42.887022Z"
        },
        "papermill": {
          "duration": 0.062219,
          "end_time": "2023-09-18T19:54:42.890310",
          "exception": false,
          "start_time": "2023-09-18T19:54:42.828091",
          "status": "completed"
        },
        "tags": []
      },
      "outputs": [
        {
          "data": {
            "text/plain": [
              "{('in0', 'out0'): Array(0.70710678, dtype=float64),\n",
              " ('in0', 'out1'): Array(0.70710678, dtype=float64),\n",
              " ('in1', 'out0'): Array(0.70710678, dtype=float64),\n",
              " ('in1', 'out1'): Array(0.70710678, dtype=float64),\n",
              " ('out0', 'in0'): Array(0.70710678, dtype=float64),\n",
              " ('out0', 'in1'): Array(0.70710678, dtype=float64),\n",
              " ('out1', 'in0'): Array(0.70710678, dtype=float64),\n",
              " ('out1', 'in1'): Array(0.70710678, dtype=float64)}"
            ]
          },
          "execution_count": 5,
          "metadata": {},
          "output_type": "execute_result"
        }
      ],
      "source": [
        "unitary_sdict_model = sax.sdict(unitary_model)\n",
        "unitary_sdict_model()"
      ]
    },
    {
      "cell_type": "markdown",
      "id": "e9a1a46b-b10a-471b-b835-7b6d8d49175a",
      "metadata": {
        "papermill": {
          "duration": 0.005426,
          "end_time": "2023-09-18T19:54:42.901788",
          "exception": false,
          "start_time": "2023-09-18T19:54:42.896362",
          "status": "completed"
        },
        "tags": []
      },
      "source": [
        "If we need custom port names, we can also just specify them explicitly:"
      ]
    },
    {
      "cell_type": "code",
      "execution_count": 6,
      "id": "66abe9b0",
      "metadata": {
        "execution": {
          "iopub.execute_input": "2023-09-18T19:54:42.913579Z",
          "iopub.status.busy": "2023-09-18T19:54:42.912747Z",
          "iopub.status.idle": "2023-09-18T19:54:42.938410Z",
          "shell.execute_reply": "2023-09-18T19:54:42.937563Z"
        },
        "papermill": {
          "duration": 0.03438,
          "end_time": "2023-09-18T19:54:42.940829",
          "exception": false,
          "start_time": "2023-09-18T19:54:42.906449",
          "status": "completed"
        },
        "tags": []
      },
      "outputs": [
        {
          "data": {
            "text/plain": [
              "(Array([0, 0, 1, 1, 2, 2, 3, 3], dtype=int64),\n",
              " Array([2, 3, 2, 3, 0, 1, 0, 1], dtype=int64),\n",
              " Array([0.70710678, 0.70710678, 0.70710678, 0.70710678, 0.70710678,\n",
              "        0.70710678, 0.70710678, 0.70710678], dtype=float64),\n",
              " {'in0': Array(0, dtype=int64, weak_type=True),\n",
              "  'in1': Array(1, dtype=int64, weak_type=True),\n",
              "  'out0': Array(2, dtype=int64, weak_type=True),\n",
              "  'out1': Array(3, dtype=int64, weak_type=True)})"
            ]
          },
          "execution_count": 6,
          "metadata": {},
          "output_type": "execute_result"
        }
      ],
      "source": [
        "unitary_model = sax.models.unitary(ports=(\"in0\", \"in1\", \"out0\", \"out1\"))\n",
        "unitary_model()"
      ]
    },
    {
      "cell_type": "markdown",
      "id": "ebf14c1c-ccfb-44e6-8572-18b366ffab91",
      "metadata": {
        "papermill": {
          "duration": 0.005125,
          "end_time": "2023-09-18T19:54:42.951449",
          "exception": false,
          "start_time": "2023-09-18T19:54:42.946324",
          "status": "completed"
        },
        "tags": []
      },
      "source": [
        "A unitary model will by default split a signal at an input port equally over all output ports. However, if there are an equal number of input ports as output ports we can in stead create a passthru by setting the `diagonal` flag to `True`:"
      ]
    },
    {
      "cell_type": "code",
      "execution_count": 7,
      "id": "7c1d61a3",
      "metadata": {
        "execution": {
          "iopub.execute_input": "2023-09-18T19:54:42.962881Z",
          "iopub.status.busy": "2023-09-18T19:54:42.962238Z",
          "iopub.status.idle": "2023-09-18T19:54:43.398921Z",
          "shell.execute_reply": "2023-09-18T19:54:43.398172Z"
        },
        "papermill": {
          "duration": 0.444893,
          "end_time": "2023-09-18T19:54:43.401139",
          "exception": false,
          "start_time": "2023-09-18T19:54:42.956246",
          "status": "completed"
        },
        "tags": []
      },
      "outputs": [
        {
          "data": {
            "text/plain": [
              "{('in0', 'out0'): Array(1., dtype=float64),\n",
              " ('in1', 'out1'): Array(1., dtype=float64),\n",
              " ('out0', 'in0'): Array(1., dtype=float64),\n",
              " ('out1', 'in1'): Array(1., dtype=float64)}"
            ]
          },
          "execution_count": 7,
          "metadata": {},
          "output_type": "execute_result"
        }
      ],
      "source": [
        "passthru_model = sax.models.unitary(2, 2, diagonal=True)\n",
        "sax.sdict(passthru_model())"
      ]
    },
    {
      "cell_type": "code",
      "execution_count": 8,
      "id": "7f93b145",
      "metadata": {
        "execution": {
          "iopub.execute_input": "2023-09-18T19:54:43.414213Z",
          "iopub.status.busy": "2023-09-18T19:54:43.413695Z",
          "iopub.status.idle": "2023-09-18T19:54:44.633467Z",
          "shell.execute_reply": "2023-09-18T19:54:44.632373Z"
        },
        "papermill": {
          "duration": 1.229092,
          "end_time": "2023-09-18T19:54:44.635696",
          "exception": false,
          "start_time": "2023-09-18T19:54:43.406604",
          "status": "completed"
        },
        "tags": []
      },
      "outputs": [
        {
          "data": {
            "text/plain": [
              "{('in0', 'out0'): Array(0.4472136, dtype=float64),\n",
              " ('in0', 'out1'): Array(0.4472136, dtype=float64),\n",
              " ('in0', 'out2'): Array(0.4472136, dtype=float64),\n",
              " ('in0', 'out3'): Array(0.4472136, dtype=float64),\n",
              " ('in0', 'out4'): Array(0.4472136, dtype=float64),\n",
              " ('out0', 'in0'): Array(0.4472136, dtype=float64),\n",
              " ('out1', 'in0'): Array(0.4472136, dtype=float64),\n",
              " ('out2', 'in0'): Array(0.4472136, dtype=float64),\n",
              " ('out3', 'in0'): Array(0.4472136, dtype=float64),\n",
              " ('out4', 'in0'): Array(0.4472136, dtype=float64)}"
            ]
          },
          "execution_count": 8,
          "metadata": {},
          "output_type": "execute_result"
        }
      ],
      "source": [
        "ports_in=['in0']\n",
        "ports_out=['out0', 'out1', 'out2', 'out3', 'out4']\n",
        "model = sax.models.unitary(\n",
        "    ports=tuple(ports_in+ports_out), jit=True, reciprocal=True\n",
        ")\n",
        "model = sax.sdict(model)\n",
        "model()"
      ]
    },
    {
      "cell_type": "markdown",
      "id": "8b149d44-5487-4e50-a2f2-1ad0aca99dac",
      "metadata": {
        "papermill": {
          "duration": 0.005258,
          "end_time": "2023-09-18T19:54:44.647288",
          "exception": false,
          "start_time": "2023-09-18T19:54:44.642030",
          "status": "completed"
        },
        "tags": []
      },
      "source": [
        "Because this is a pretty common usecase we have a dedicated model factory for this as well. This passthru component just takes the number of links (`'in{i}' -> 'out{i]'`) as input. Alternatively, as before, one can also specify the port names directly but one needs to ensure that `len(ports) == 2*num_links`."
      ]
    },
    {
      "cell_type": "code",
      "execution_count": 9,
      "id": "9e8b6cd7-56d4-4697-9a6e-33c929f3d853",
      "metadata": {
        "execution": {
          "iopub.execute_input": "2023-09-18T19:54:44.661695Z",
          "iopub.status.busy": "2023-09-18T19:54:44.660621Z",
          "iopub.status.idle": "2023-09-18T19:54:45.365231Z",
          "shell.execute_reply": "2023-09-18T19:54:45.364372Z"
        },
        "papermill": {
          "duration": 0.717598,
          "end_time": "2023-09-18T19:54:45.370854",
          "exception": false,
          "start_time": "2023-09-18T19:54:44.653256",
          "status": "completed"
        },
        "tags": []
      },
      "outputs": [
        {
          "data": {
            "text/plain": [
              "{('in0', 'out0'): Array(1., dtype=float64),\n",
              " ('in1', 'out1'): Array(1., dtype=float64),\n",
              " ('in2', 'out2'): Array(1., dtype=float64),\n",
              " ('out0', 'in0'): Array(1., dtype=float64),\n",
              " ('out1', 'in1'): Array(1., dtype=float64),\n",
              " ('out2', 'in2'): Array(1., dtype=float64)}"
            ]
          },
          "execution_count": 9,
          "metadata": {},
          "output_type": "execute_result"
        }
      ],
      "source": [
        "passthru_model = sax.passthru(3)\n",
        "passthru_sdict_model = sax.sdict(passthru_model)\n",
        "passthru_sdict_model()"
      ]
    },
    {
      "cell_type": "code",
      "execution_count": 10,
      "id": "690e718c-2d84-4177-b8ad-ff39cf8c4691",
      "metadata": {
        "execution": {
          "iopub.execute_input": "2023-09-18T19:54:45.384664Z",
          "iopub.status.busy": "2023-09-18T19:54:45.384116Z",
          "iopub.status.idle": "2023-09-18T19:54:47.421185Z",
          "shell.execute_reply": "2023-09-18T19:54:47.420366Z"
        },
        "papermill": {
          "duration": 2.046373,
          "end_time": "2023-09-18T19:54:47.423171",
          "exception": false,
          "start_time": "2023-09-18T19:54:45.376798",
          "status": "completed"
        },
        "tags": []
      },
      "outputs": [
        {
          "data": {
            "text/plain": [
              "{('in0', 'in0'): Array(0.+0.j, dtype=complex128),\n",
              " ('in0', 'out0'): Array(1.+0.j, dtype=complex128),\n",
              " ('out0', 'in0'): Array(1.+0.j, dtype=complex128),\n",
              " ('out0', 'out0'): Array(0.+0.j, dtype=complex128)}"
            ]
          },
          "execution_count": 10,
          "metadata": {},
          "output_type": "execute_result"
        }
      ],
      "source": [
        "mzi, _ = sax.circuit(\n",
        "    netlist={\n",
        "        \"instances\": {\n",
        "            \"lft\": 'u12',\n",
        "            \"top\": 'u11',\n",
        "            \"rgt\": 'u12',\n",
        "        },\n",
        "        \"connections\": {\n",
        "            \"lft,out0\": \"rgt,out0\",\n",
        "            \"lft,out1\": \"top,in0\",\n",
        "            \"top,out0\": \"rgt,out1\",\n",
        "        },\n",
        "        \"ports\": {\n",
        "            \"in0\": \"lft,in0\",\n",
        "            \"out0\": \"rgt,in0\",\n",
        "        },\n",
        "    },\n",
        "    models={\n",
        "        'u12': sax.models.unitary(1, 2),\n",
        "        'u11': sax.models.unitary(1, 1),\n",
        "    },\n",
        ")\n",
        "mzi()"
      ]
    },
    {
      "cell_type": "markdown",
      "id": "77014d0f-1a08-4b4b-a011-cf11cd9684b8",
      "metadata": {
        "papermill": {
          "duration": 0.008251,
          "end_time": "2023-09-18T19:54:47.437308",
          "exception": false,
          "start_time": "2023-09-18T19:54:47.429057",
          "status": "completed"
        },
        "tags": []
      },
      "source": [
        "A copier model is like a unitary model, but copies the input signal over all output signals. Hence, if the model has multiple output ports, this model can be considered to introduce gain. That said, it can sometimes be a useful component."
      ]
    },
    {
      "cell_type": "code",
      "execution_count": 11,
      "id": "c2a61a9f-51ea-455f-a66f-94719b43520e",
      "metadata": {
        "execution": {
          "iopub.execute_input": "2023-09-18T19:54:47.450857Z",
          "iopub.status.busy": "2023-09-18T19:54:47.449789Z",
          "iopub.status.idle": "2023-09-18T19:54:47.470853Z",
          "shell.execute_reply": "2023-09-18T19:54:47.470047Z"
        },
        "papermill": {
          "duration": 0.030068,
          "end_time": "2023-09-18T19:54:47.473092",
          "exception": false,
          "start_time": "2023-09-18T19:54:47.443024",
          "status": "completed"
        },
        "tags": []
      },
      "outputs": [
        {
          "data": {
            "text/plain": [
              "(Array([0, 0, 1, 1, 2, 2, 3, 3], dtype=int64),\n",
              " Array([2, 3, 2, 3, 0, 1, 0, 1], dtype=int64),\n",
              " Array([1., 1., 1., 1., 1., 1., 1., 1.], dtype=float64),\n",
              " {'in0': Array(0, dtype=int64, weak_type=True),\n",
              "  'in1': Array(1, dtype=int64, weak_type=True),\n",
              "  'out0': Array(2, dtype=int64, weak_type=True),\n",
              "  'out1': Array(3, dtype=int64, weak_type=True)})"
            ]
          },
          "execution_count": 11,
          "metadata": {},
          "output_type": "execute_result"
        }
      ],
      "source": [
        "copier_model = sax.models.copier(2, 2)\n",
        "copier_model() # a copier model returns an SCoo by default"
      ]
    },
    {
      "cell_type": "markdown",
      "id": "fbd51c6c-c059-4717-9dae-447becc7e8d5",
      "metadata": {
        "papermill": {
          "duration": 0.005614,
          "end_time": "2023-09-18T19:54:47.522160",
          "exception": false,
          "start_time": "2023-09-18T19:54:47.516546",
          "status": "completed"
        },
        "tags": []
      },
      "source": [
        "As you probably already know, it's very easy to convert a model returning any `Stype` into a model returning an `SDict` as follows:"
      ]
    },
    {
      "cell_type": "code",
      "execution_count": 12,
      "id": "becda099-b5d9-494c-a6b2-9828be10c4a5",
      "metadata": {
        "execution": {
          "iopub.execute_input": "2023-09-18T19:54:47.535627Z",
          "iopub.status.busy": "2023-09-18T19:54:47.534749Z",
          "iopub.status.idle": "2023-09-18T19:54:47.550771Z",
          "shell.execute_reply": "2023-09-18T19:54:47.549954Z"
        },
        "papermill": {
          "duration": 0.02502,
          "end_time": "2023-09-18T19:54:47.552740",
          "exception": false,
          "start_time": "2023-09-18T19:54:47.527720",
          "status": "completed"
        },
        "tags": []
      },
      "outputs": [
        {
          "data": {
            "text/plain": [
              "{('in0', 'out0'): Array(1., dtype=float64),\n",
              " ('in0', 'out1'): Array(1., dtype=float64),\n",
              " ('in1', 'out0'): Array(1., dtype=float64),\n",
              " ('in1', 'out1'): Array(1., dtype=float64),\n",
              " ('out0', 'in0'): Array(1., dtype=float64),\n",
              " ('out0', 'in1'): Array(1., dtype=float64),\n",
              " ('out1', 'in0'): Array(1., dtype=float64),\n",
              " ('out1', 'in1'): Array(1., dtype=float64)}"
            ]
          },
          "execution_count": 12,
          "metadata": {},
          "output_type": "execute_result"
        }
      ],
      "source": [
        "copier_sdict_model = sax.sdict(copier_model)\n",
        "copier_sdict_model()"
      ]
    },
    {
      "cell_type": "markdown",
      "id": "1ad16d1b-f685-4ab9-a8c4-41efbbdae4fa",
      "metadata": {
        "papermill": {
          "duration": 0.006519,
          "end_time": "2023-09-18T19:54:47.565830",
          "exception": false,
          "start_time": "2023-09-18T19:54:47.559311",
          "status": "completed"
        },
        "tags": []
      },
      "source": [
        "If we need custom port names, we can also just specify them explicitly:"
      ]
    },
    {
      "cell_type": "code",
      "execution_count": 13,
      "id": "297d1e45-b881-440b-b887-b38c5517596e",
      "metadata": {
        "execution": {
          "iopub.execute_input": "2023-09-18T19:54:47.580003Z",
          "iopub.status.busy": "2023-09-18T19:54:47.579114Z",
          "iopub.status.idle": "2023-09-18T19:54:47.600856Z",
          "shell.execute_reply": "2023-09-18T19:54:47.599914Z"
        },
        "papermill": {
          "duration": 0.031786,
          "end_time": "2023-09-18T19:54:47.603520",
          "exception": false,
          "start_time": "2023-09-18T19:54:47.571734",
          "status": "completed"
        },
        "tags": []
      },
      "outputs": [
        {
          "data": {
            "text/plain": [
              "(Array([0, 0, 1, 1, 2, 2, 3, 3], dtype=int64),\n",
              " Array([2, 3, 2, 3, 0, 1, 0, 1], dtype=int64),\n",
              " Array([1., 1., 1., 1., 1., 1., 1., 1.], dtype=float64),\n",
              " {'in0': Array(0, dtype=int64, weak_type=True),\n",
              "  'in1': Array(1, dtype=int64, weak_type=True),\n",
              "  'out0': Array(2, dtype=int64, weak_type=True),\n",
              "  'out1': Array(3, dtype=int64, weak_type=True)})"
            ]
          },
          "execution_count": 13,
          "metadata": {},
          "output_type": "execute_result"
        }
      ],
      "source": [
        "copier_model = sax.models.copier(ports=(\"in0\", \"in1\", \"out0\", \"out1\"))\n",
        "copier_model()"
      ]
    },
    {
      "cell_type": "code",
      "execution_count": 14,
      "id": "608d7114-03ac-4f5f-9790-cf65379d81dd",
      "metadata": {
        "execution": {
          "iopub.execute_input": "2023-09-18T19:54:47.617863Z",
          "iopub.status.busy": "2023-09-18T19:54:47.616947Z",
          "iopub.status.idle": "2023-09-18T19:54:47.634560Z",
          "shell.execute_reply": "2023-09-18T19:54:47.633747Z"
        },
        "papermill": {
          "duration": 0.026573,
          "end_time": "2023-09-18T19:54:47.636530",
          "exception": false,
          "start_time": "2023-09-18T19:54:47.609957",
          "status": "completed"
        },
        "tags": []
      },
      "outputs": [
        {
          "data": {
            "text/plain": [
              "{('in0', 'out0'): Array(0.4472136, dtype=float64),\n",
              " ('in0', 'out1'): Array(0.4472136, dtype=float64),\n",
              " ('in0', 'out2'): Array(0.4472136, dtype=float64),\n",
              " ('in0', 'out3'): Array(0.4472136, dtype=float64),\n",
              " ('in0', 'out4'): Array(0.4472136, dtype=float64),\n",
              " ('out0', 'in0'): Array(0.4472136, dtype=float64),\n",
              " ('out1', 'in0'): Array(0.4472136, dtype=float64),\n",
              " ('out2', 'in0'): Array(0.4472136, dtype=float64),\n",
              " ('out3', 'in0'): Array(0.4472136, dtype=float64),\n",
              " ('out4', 'in0'): Array(0.4472136, dtype=float64)}"
            ]
          },
          "execution_count": 14,
          "metadata": {},
          "output_type": "execute_result"
        }
      ],
      "source": [
        "ports_in=['in0']\n",
        "ports_out=['out0', 'out1', 'out2', 'out3', 'out4']\n",
        "model = sax.models.unitary(\n",
        "    ports=tuple(ports_in+ports_out), jit=True, reciprocal=True\n",
        ")\n",
        "model = sax.sdict(model)\n",
        "model()"
      ]
    },
    {
      "cell_type": "markdown",
      "id": "6d024e5b-95a9-44e5-9dbc-4980249e73a7",
      "metadata": {
        "papermill": {
          "duration": 0.00599,
          "end_time": "2023-09-18T19:54:47.648665",
          "exception": false,
          "start_time": "2023-09-18T19:54:47.642675",
          "status": "completed"
        },
        "tags": []
      },
      "source": [
        "Because this is a pretty common usecase we have a dedicated model factory for this as well. This passthru component just takes the number of links (`'in{i}' -> 'out{i]'`) as input. Alternatively, as before, one can also specify the port names directly but one needs to ensure that `len(ports) == 2*num_links`."
      ]
    },
    {
      "cell_type": "code",
      "execution_count": 15,
      "id": "4a063810-224b-446c-a59d-12a20b56e82e",
      "metadata": {
        "execution": {
          "iopub.execute_input": "2023-09-18T19:54:47.662876Z",
          "iopub.status.busy": "2023-09-18T19:54:47.661992Z",
          "iopub.status.idle": "2023-09-18T19:54:47.674782Z",
          "shell.execute_reply": "2023-09-18T19:54:47.673979Z"
        },
        "papermill": {
          "duration": 0.022409,
          "end_time": "2023-09-18T19:54:47.677028",
          "exception": false,
          "start_time": "2023-09-18T19:54:47.654619",
          "status": "completed"
        },
        "tags": []
      },
      "outputs": [
        {
          "data": {
            "text/plain": [
              "{('in0', 'out0'): Array(1., dtype=float64),\n",
              " ('in1', 'out1'): Array(1., dtype=float64),\n",
              " ('in2', 'out2'): Array(1., dtype=float64),\n",
              " ('out0', 'in0'): Array(1., dtype=float64),\n",
              " ('out1', 'in1'): Array(1., dtype=float64),\n",
              " ('out2', 'in2'): Array(1., dtype=float64)}"
            ]
          },
          "execution_count": 15,
          "metadata": {},
          "output_type": "execute_result"
        }
      ],
      "source": [
        "passthru_model = sax.models.passthru(3)\n",
        "passthru_sdict_model = sax.sdict(passthru_model)\n",
        "passthru_sdict_model()"
      ]
    },
    {
      "cell_type": "markdown",
      "id": "e56f2f41-776f-4b53-98c3-dee702326093",
      "metadata": {
        "papermill": {
          "duration": 0.006576,
          "end_time": "2023-09-18T19:54:47.690796",
          "exception": false,
          "start_time": "2023-09-18T19:54:47.684220",
          "status": "completed"
        },
        "tags": []
      },
      "source": [
        "## All Models"
      ]
    },
    {
      "cell_type": "code",
      "execution_count": 16,
      "id": "52ae2f93-6190-4c24-9120-f95f3f61baa8",
      "metadata": {
        "execution": {
          "iopub.execute_input": "2023-09-18T19:54:47.705947Z",
          "iopub.status.busy": "2023-09-18T19:54:47.705039Z",
          "iopub.status.idle": "2023-09-18T19:54:47.712988Z",
          "shell.execute_reply": "2023-09-18T19:54:47.712170Z"
        },
        "papermill": {
          "duration": 0.017725,
          "end_time": "2023-09-18T19:54:47.714975",
          "exception": false,
          "start_time": "2023-09-18T19:54:47.697250",
          "status": "completed"
        },
        "tags": []
      },
      "outputs": [
        {
          "data": {
            "text/plain": [
              "{'copier': <functools._lru_cache_wrapper at 0x7f36a3eeaf00>,\n",
              " 'coupler': <function sax.models.coupler(*, coupling: 'float' = 0.5) -> 'SDict'>,\n",
              " 'passthru': <functools._lru_cache_wrapper at 0x7f36a3eeb7f0>,\n",
              " 'straight': <function sax.models.straight(*, wl: 'FloatArrayND | float' = 1.55, wl0: 'float' = 1.55, neff: 'float' = 2.34, ng: 'float' = 3.4, length: 'float' = 10.0, loss: 'float' = 0.0) -> 'SDict'>,\n",
              " 'unitary': <functools._lru_cache_wrapper at 0x7f36a3f00a90>}"
            ]
          },
          "execution_count": 16,
          "metadata": {},
          "output_type": "execute_result"
        }
      ],
      "source": [
        "sax.models.models"
      ]
    }
  ],
  "metadata": {
    "kernelspec": {
      "display_name": "sax",
      "language": "python",
      "name": "sax"
    },
    "language_info": {
      "codemirror_mode": {
        "name": "ipython",
        "version": 3
      },
      "file_extension": ".py",
      "mimetype": "text/x-python",
      "name": "python",
      "nbconvert_exporter": "python",
      "pygments_lexer": "ipython3",
      "version": "3.10.12"
    },
    "papermill": {
      "default_parameters": {},
      "duration": 9.19344,
      "end_time": "2023-09-18T19:54:48.441210",
      "environment_variables": {},
      "exception": null,
      "input_path": "./internals/01_models.ipynb",
      "output_path": "./internals/01_models.ipynb",
      "parameters": {},
      "start_time": "2023-09-18T19:54:39.247770",
      "version": "2.4.0"
    }
  },
  "nbformat": 4,
  "nbformat_minor": 5
}