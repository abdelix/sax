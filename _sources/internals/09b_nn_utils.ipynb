{
  "cells": [
    {
      "cell_type": "code",
      "execution_count": 1,
      "id": "a704437529494352",
      "metadata": {
        "execution": {
          "iopub.execute_input": "2023-09-02T21:30:31.693675Z",
          "iopub.status.busy": "2023-09-02T21:30:31.693196Z",
          "iopub.status.idle": "2023-09-02T21:30:31.697099Z",
          "shell.execute_reply": "2023-09-02T21:30:31.696532Z"
        },
        "papermill": {
          "duration": 0.010583,
          "end_time": "2023-09-02T21:30:31.698832",
          "exception": false,
          "start_time": "2023-09-02T21:30:31.688249",
          "status": "completed"
        },
        "tags": [
          "remove-cell"
        ]
      },
      "outputs": [],
      "source": []
    },
    {
      "cell_type": "markdown",
      "id": "3ac7a21d",
      "metadata": {
        "papermill": {
          "duration": 0.002035,
          "end_time": "2023-09-02T21:30:31.703376",
          "exception": false,
          "start_time": "2023-09-02T21:30:31.701341",
          "status": "completed"
        },
        "tags": []
      },
      "source": [
        "# Utils\n",
        "\n",
        "> loss functions and utilitites for SAX neural networks"
      ]
    },
    {
      "cell_type": "code",
      "execution_count": 2,
      "id": "650c69b10e520207",
      "metadata": {
        "execution": {
          "iopub.execute_input": "2023-09-02T21:30:31.710511Z",
          "iopub.status.busy": "2023-09-02T21:30:31.710085Z",
          "iopub.status.idle": "2023-09-02T21:30:32.237652Z",
          "shell.execute_reply": "2023-09-02T21:30:32.236973Z"
        },
        "papermill": {
          "duration": 0.534962,
          "end_time": "2023-09-02T21:30:32.240140",
          "exception": false,
          "start_time": "2023-09-02T21:30:31.705178",
          "status": "completed"
        },
        "tags": [
          "remove-cell"
        ]
      },
      "outputs": [],
      "source": [
        "import matplotlib.pyplot as plt\n",
        "from fastcore.test import test_eq\n",
        "from pytest import approx, raises\n",
        "\n",
        "import os, sys; sys.stderr = open(os.devnull, \"w\")"
      ]
    },
    {
      "cell_type": "code",
      "execution_count": 3,
      "id": "e71c1bfdaaa9dcf7",
      "metadata": {
        "execution": {
          "iopub.execute_input": "2023-09-02T21:30:32.246617Z",
          "iopub.status.busy": "2023-09-02T21:30:32.245836Z",
          "iopub.status.idle": "2023-09-02T21:30:33.527333Z",
          "shell.execute_reply": "2023-09-02T21:30:33.526680Z"
        },
        "papermill": {
          "duration": 1.287523,
          "end_time": "2023-09-02T21:30:33.529935",
          "exception": false,
          "start_time": "2023-09-02T21:30:32.242412",
          "status": "completed"
        },
        "tags": [
          "hide-input"
        ]
      },
      "outputs": [],
      "source": [
        "from __future__ import annotations\n",
        "\n",
        "from collections import namedtuple\n",
        "from typing import Tuple\n",
        "\n",
        "import jax.numpy as jnp\n",
        "import pandas as pd\n",
        "from sax.typing_ import ComplexFloat"
      ]
    },
    {
      "cell_type": "markdown",
      "id": "958ad76867a9920e",
      "metadata": {},
      "source": [
        ":::{eval-rst}\n",
        ".. autofunction:: sax.nn.utils.cartesian_product\n",
        ":::\n"
      ]
    },
    {
      "cell_type": "code",
      "execution_count": 4,
      "id": "9fc1b64e03bec638",
      "metadata": {
        "execution": {
          "iopub.execute_input": "2023-09-02T21:30:33.536713Z",
          "iopub.status.busy": "2023-09-02T21:30:33.535697Z",
          "iopub.status.idle": "2023-09-02T21:30:33.541095Z",
          "shell.execute_reply": "2023-09-02T21:30:33.540567Z"
        },
        "papermill": {
          "duration": 0.010489,
          "end_time": "2023-09-02T21:30:33.542670",
          "exception": false,
          "start_time": "2023-09-02T21:30:33.532181",
          "status": "completed"
        },
        "tags": [
          "hide-input"
        ]
      },
      "outputs": [],
      "source": [
        "def cartesian_product(*arrays: ComplexFloat) -> ComplexFloat:\n",
        "    \"\"\"calculate the n-dimensional cartesian product of an arbitrary number of arrays\"\"\"\n",
        "    ixarrays = jnp.ix_(*arrays)\n",
        "    barrays = jnp.broadcast_arrays(*ixarrays)\n",
        "    sarrays = jnp.stack(barrays, -1)\n",
        "    assert isinstance(sarrays, jnp.ndarray)\n",
        "    product = sarrays.reshape(-1, sarrays.shape[-1])\n",
        "    assert isinstance(product, jnp.ndarray)\n",
        "    return product"
      ]
    },
    {
      "cell_type": "markdown",
      "id": "9388e03c331bb301",
      "metadata": {},
      "source": [
        ":::{eval-rst}\n",
        ".. autofunction:: sax.nn.utils.denormalize\n",
        ":::\n"
      ]
    },
    {
      "cell_type": "code",
      "execution_count": 5,
      "id": "cdfad47779a2e863",
      "metadata": {
        "execution": {
          "iopub.execute_input": "2023-09-02T21:30:33.547962Z",
          "iopub.status.busy": "2023-09-02T21:30:33.547384Z",
          "iopub.status.idle": "2023-09-02T21:30:33.550665Z",
          "shell.execute_reply": "2023-09-02T21:30:33.550241Z"
        },
        "papermill": {
          "duration": 0.007361,
          "end_time": "2023-09-02T21:30:33.551967",
          "exception": false,
          "start_time": "2023-09-02T21:30:33.544606",
          "status": "completed"
        },
        "tags": [
          "hide-input"
        ]
      },
      "outputs": [],
      "source": [
        "def denormalize(x: ComplexFloat, mean: ComplexFloat = 0.0, std: ComplexFloat = 1.0) -> ComplexFloat:\n",
        "    \"\"\"denormalize an array with a given mean and standard deviation\"\"\"\n",
        "    return x * std + mean"
      ]
    },
    {
      "cell_type": "code",
      "execution_count": 6,
      "id": "f31afe5e50a3701a",
      "metadata": {
        "execution": {
          "iopub.execute_input": "2023-09-02T21:30:33.557232Z",
          "iopub.status.busy": "2023-09-02T21:30:33.556768Z",
          "iopub.status.idle": "2023-09-02T21:30:33.559904Z",
          "shell.execute_reply": "2023-09-02T21:30:33.559384Z"
        },
        "papermill": {
          "duration": 0.007566,
          "end_time": "2023-09-02T21:30:33.561486",
          "exception": false,
          "start_time": "2023-09-02T21:30:33.553920",
          "status": "completed"
        },
        "tags": [
          "remove-cell"
        ]
      },
      "outputs": [],
      "source": [
        "norm = namedtuple(\"norm\", (\"mean\", \"std\"))"
      ]
    },
    {
      "cell_type": "markdown",
      "id": "8b509dabd554a510",
      "metadata": {},
      "source": [
        ":::{eval-rst}\n",
        ".. autofunction:: sax.nn.utils.get_normalization\n",
        ":::\n"
      ]
    },
    {
      "cell_type": "code",
      "execution_count": 7,
      "id": "71abeaeb841793a7",
      "metadata": {
        "execution": {
          "iopub.execute_input": "2023-09-02T21:30:33.566894Z",
          "iopub.status.busy": "2023-09-02T21:30:33.566360Z",
          "iopub.status.idle": "2023-09-02T21:30:33.569805Z",
          "shell.execute_reply": "2023-09-02T21:30:33.569313Z"
        },
        "papermill": {
          "duration": 0.007782,
          "end_time": "2023-09-02T21:30:33.571361",
          "exception": false,
          "start_time": "2023-09-02T21:30:33.563579",
          "status": "completed"
        },
        "tags": [
          "hide-input"
        ]
      },
      "outputs": [],
      "source": [
        "def get_normalization(x: ComplexFloat):\n",
        "    \"\"\"Get mean and standard deviation for a given array\"\"\"\n",
        "    if isinstance(x, (complex, float)):\n",
        "        return x, 0.0\n",
        "    return norm(x.mean(0), x.std(0))"
      ]
    },
    {
      "cell_type": "markdown",
      "id": "cbc8dfd2293030e1",
      "metadata": {},
      "source": [
        ":::{eval-rst}\n",
        ".. autofunction:: sax.nn.utils.get_df_columns\n",
        ":::\n"
      ]
    },
    {
      "cell_type": "code",
      "execution_count": 8,
      "id": "7d2ead5c755061ee",
      "metadata": {
        "execution": {
          "iopub.execute_input": "2023-09-02T21:30:33.576706Z",
          "iopub.status.busy": "2023-09-02T21:30:33.576179Z",
          "iopub.status.idle": "2023-09-02T21:30:33.580335Z",
          "shell.execute_reply": "2023-09-02T21:30:33.579811Z"
        },
        "papermill": {
          "duration": 0.008529,
          "end_time": "2023-09-02T21:30:33.581885",
          "exception": false,
          "start_time": "2023-09-02T21:30:33.573356",
          "status": "completed"
        },
        "tags": [
          "hide-input"
        ]
      },
      "outputs": [],
      "source": [
        "def get_df_columns(df: pd.DataFrame, *names: str) -> Tuple[ComplexFloat, ...]:\n",
        "    \"\"\"Get certain columns from a pandas DataFrame as jax.numpy arrays\"\"\"\n",
        "    tup = namedtuple(\"params\", names)\n",
        "    params_list = []\n",
        "    for name in names:\n",
        "        column_np = df[name].values\n",
        "        column_jnp = jnp.array(column_np)\n",
        "        assert isinstance(column_jnp, jnp.ndarray)\n",
        "        params_list.append(column_jnp.ravel())\n",
        "    return tup(*params_list)"
      ]
    },
    {
      "cell_type": "markdown",
      "id": "dc1061731ece2f07",
      "metadata": {},
      "source": [
        ":::{eval-rst}\n",
        ".. autofunction:: sax.nn.utils.normalize\n",
        ":::\n"
      ]
    },
    {
      "cell_type": "code",
      "execution_count": 9,
      "id": "fa08c56e9c402889",
      "metadata": {
        "execution": {
          "iopub.execute_input": "2023-09-02T21:30:33.587341Z",
          "iopub.status.busy": "2023-09-02T21:30:33.586799Z",
          "iopub.status.idle": "2023-09-02T21:30:33.590070Z",
          "shell.execute_reply": "2023-09-02T21:30:33.589623Z"
        },
        "papermill": {
          "duration": 0.007611,
          "end_time": "2023-09-02T21:30:33.591569",
          "exception": false,
          "start_time": "2023-09-02T21:30:33.583958",
          "status": "completed"
        },
        "tags": [
          "hide-input"
        ]
      },
      "outputs": [],
      "source": [
        "def normalize(\n",
        "    x: ComplexFloat, mean: ComplexFloat = 0.0, std: ComplexFloat = 1.0\n",
        ") -> ComplexFloat:\n",
        "    \"\"\"normalize an array with a given mean and standard deviation\"\"\"\n",
        "    return (x - mean) / std"
      ]
    }
  ],
  "metadata": {
    "kernelspec": {
      "display_name": "sax",
      "language": "python",
      "name": "sax"
    },
    "language_info": {
      "codemirror_mode": {
        "name": "ipython",
        "version": 3
      },
      "file_extension": ".py",
      "mimetype": "text/x-python",
      "name": "python",
      "nbconvert_exporter": "python",
      "pygments_lexer": "ipython3",
      "version": "3.11.5"
    },
    "papermill": {
      "default_parameters": {},
      "duration": 4.138987,
      "end_time": "2023-09-02T21:30:34.312296",
      "environment_variables": {},
      "exception": null,
      "input_path": "./internals/09b_nn_utils.ipynb",
      "output_path": "./internals/09b_nn_utils.ipynb",
      "parameters": {},
      "start_time": "2023-09-02T21:30:30.173309",
      "version": "2.4.0"
    }
  },
  "nbformat": 4,
  "nbformat_minor": 5
}