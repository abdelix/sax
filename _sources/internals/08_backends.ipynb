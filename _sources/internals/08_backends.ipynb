{
  "cells": [
    {
      "cell_type": "code",
      "execution_count": 1,
      "id": "af7a545f3a10c1d6",
      "metadata": {
        "execution": {
          "iopub.execute_input": "2023-09-02T21:32:10.692961Z",
          "iopub.status.busy": "2023-09-02T21:32:10.691973Z",
          "iopub.status.idle": "2023-09-02T21:32:10.697445Z",
          "shell.execute_reply": "2023-09-02T21:32:10.696569Z"
        },
        "papermill": {
          "duration": 0.012787,
          "end_time": "2023-09-02T21:32:10.699446",
          "exception": false,
          "start_time": "2023-09-02T21:32:10.686659",
          "status": "completed"
        },
        "tags": [
          "remove-cell"
        ]
      },
      "outputs": [],
      "source": []
    },
    {
      "cell_type": "markdown",
      "id": "079604be",
      "metadata": {
        "papermill": {
          "duration": 0.002448,
          "end_time": "2023-09-02T21:32:10.704703",
          "exception": false,
          "start_time": "2023-09-02T21:32:10.702255",
          "status": "completed"
        },
        "tags": []
      },
      "source": [
        "# Backend\n",
        "\n",
        "> SAX Backends"
      ]
    },
    {
      "cell_type": "code",
      "execution_count": 2,
      "id": "b1e12849a1104750",
      "metadata": {
        "execution": {
          "iopub.execute_input": "2023-09-02T21:32:10.710665Z",
          "iopub.status.busy": "2023-09-02T21:32:10.710146Z",
          "iopub.status.idle": "2023-09-02T21:32:12.176622Z",
          "shell.execute_reply": "2023-09-02T21:32:12.176046Z"
        },
        "papermill": {
          "duration": 1.471638,
          "end_time": "2023-09-02T21:32:12.178509",
          "exception": false,
          "start_time": "2023-09-02T21:32:10.706871",
          "status": "completed"
        },
        "tags": [
          "remove-cell"
        ]
      },
      "outputs": [],
      "source": [
        "from nbdev import show_doc\n",
        "from sax.typing_ import SDense, SDict, sdict\n",
        "\n",
        "import os, sys; sys.stderr = open(os.devnull, \"w\")"
      ]
    },
    {
      "cell_type": "code",
      "execution_count": 3,
      "id": "d736e410713c4a9a",
      "metadata": {
        "execution": {
          "iopub.execute_input": "2023-09-02T21:32:12.186218Z",
          "iopub.status.busy": "2023-09-02T21:32:12.185358Z",
          "iopub.status.idle": "2023-09-02T21:32:12.191162Z",
          "shell.execute_reply": "2023-09-02T21:32:12.190635Z"
        },
        "papermill": {
          "duration": 0.011527,
          "end_time": "2023-09-02T21:32:12.192580",
          "exception": false,
          "start_time": "2023-09-02T21:32:12.181053",
          "status": "completed"
        },
        "tags": [
          "remove-cell"
        ]
      },
      "outputs": [],
      "source": [
        "from __future__ import annotations\n",
        "\n",
        "import warnings\n",
        "from typing import Any, Dict\n",
        "\n",
        "try:\n",
        "    import jax\n",
        "    import jax.numpy as jnp\n",
        "    JAX_AVAILABLE = True\n",
        "except ImportError:\n",
        "    import numpy as jnp\n",
        "    JAX_AVAILABLE = False\n",
        "    \n",
        "try:\n",
        "    import klujax\n",
        "    KLUJAX_AVAILABLE = True\n",
        "except ImportError:\n",
        "    KLUJAX_AVAILABLE = False\n",
        "\n",
        "from sax.backends.additive import analyze_circuit_additive, evaluate_circuit_additive\n",
        "from sax.backends.filipsson_gunnar import analyze_circuit_fg, evaluate_circuit_fg\n",
        "from sax.typing_ import SType, sdict\n",
        "\n",
        "if JAX_AVAILABLE and KLUJAX_AVAILABLE:\n",
        "    from sax.backends.klu import analyze_circuit_klu, evaluate_circuit_klu"
      ]
    },
    {
      "cell_type": "markdown",
      "id": "a39b2084",
      "metadata": {
        "papermill": {
          "duration": 0.003318,
          "end_time": "2023-09-02T21:32:12.198737",
          "exception": false,
          "start_time": "2023-09-02T21:32:12.195419",
          "status": "completed"
        },
        "tags": []
      },
      "source": [
        "#### circuit_backends"
      ]
    },
    {
      "cell_type": "code",
      "execution_count": 4,
      "id": "11b2560ae72c23f5",
      "metadata": {
        "execution": {
          "iopub.execute_input": "2023-09-02T21:32:12.204714Z",
          "iopub.status.busy": "2023-09-02T21:32:12.204226Z",
          "iopub.status.idle": "2023-09-02T21:32:12.208528Z",
          "shell.execute_reply": "2023-09-02T21:32:12.208004Z"
        },
        "papermill": {
          "duration": 0.009902,
          "end_time": "2023-09-02T21:32:12.210945",
          "exception": false,
          "start_time": "2023-09-02T21:32:12.201043",
          "status": "completed"
        },
        "tags": []
      },
      "outputs": [],
      "source": [
        "\n",
        "circuit_backends = {\n",
        "    \"fg\": (analyze_circuit_fg, evaluate_circuit_fg),\n",
        "    \"filipsson_gunnar\": (analyze_circuit_fg, evaluate_circuit_fg),\n",
        "    \"additive\": (analyze_circuit_additive, evaluate_circuit_additive),\n",
        "}\n",
        "\n",
        "if JAX_AVAILABLE and KLUJAX_AVAILABLE:\n",
        "    circuit_backends[\"klu\"] = (analyze_circuit_klu, evaluate_circuit_klu)\n",
        "    circuit_backends[\"default\"] = (analyze_circuit_klu, evaluate_circuit_klu)\n",
        "else:\n",
        "    circuit_backends[\"default\"] = (analyze_circuit_fg, evaluate_circuit_fg)\n",
        "    warnings.warn(\"klujax not found. Please install klujax for better performance during circuit evaluation!\")"
      ]
    },
    {
      "cell_type": "markdown",
      "id": "b23a8349",
      "metadata": {
        "papermill": {
          "duration": 0.002353,
          "end_time": "2023-09-02T21:32:12.216023",
          "exception": false,
          "start_time": "2023-09-02T21:32:12.213670",
          "status": "completed"
        },
        "tags": []
      },
      "source": [
        "SAX allows to easily interchange the backend of a circuit. A SAX backend consists of a static analysis step and an evaluation step:"
      ]
    },
    {
      "cell_type": "markdown",
      "id": "c4ab23854b3da665",
      "metadata": {},
      "source": [
        ":::{eval-rst}\n",
        ".. autofunction:: sax.backends.__init__.analyze_circuit\n",
        ":::\n"
      ]
    },
    {
      "cell_type": "code",
      "execution_count": 5,
      "id": "d45027b9a5183d14",
      "metadata": {
        "execution": {
          "iopub.execute_input": "2023-09-02T21:32:12.221632Z",
          "iopub.status.busy": "2023-09-02T21:32:12.221209Z",
          "iopub.status.idle": "2023-09-02T21:32:12.224557Z",
          "shell.execute_reply": "2023-09-02T21:32:12.223978Z"
        },
        "papermill": {
          "duration": 0.007878,
          "end_time": "2023-09-02T21:32:12.226068",
          "exception": false,
          "start_time": "2023-09-02T21:32:12.218190",
          "status": "completed"
        },
        "tags": [
          "hide-input"
        ]
      },
      "outputs": [],
      "source": [
        "def analyze_circuit(connections: Dict[str, str], ports: Dict[str, str]) -> Any:\n",
        "    return circuit_backends['default'][0](connections, ports)"
      ]
    },
    {
      "cell_type": "markdown",
      "id": "559505419807d3bf",
      "metadata": {},
      "source": [
        ":::{eval-rst}\n",
        ".. autofunction:: sax.backends.__init__.evaluate_circuit\n",
        ":::\n"
      ]
    },
    {
      "cell_type": "code",
      "execution_count": 6,
      "id": "683beb2846496dc7",
      "metadata": {
        "execution": {
          "iopub.execute_input": "2023-09-02T21:32:12.232009Z",
          "iopub.status.busy": "2023-09-02T21:32:12.231768Z",
          "iopub.status.idle": "2023-09-02T21:32:12.234630Z",
          "shell.execute_reply": "2023-09-02T21:32:12.234190Z"
        },
        "papermill": {
          "duration": 0.00762,
          "end_time": "2023-09-02T21:32:12.235873",
          "exception": false,
          "start_time": "2023-09-02T21:32:12.228253",
          "status": "completed"
        },
        "tags": [
          "hide-input"
        ]
      },
      "outputs": [],
      "source": [
        "def evaluate_circuit(analyzed: Any, instances: Dict[str, SType]) -> SType:\n",
        "    return circuit_backends['default'][1](analyzed, instances)"
      ]
    },
    {
      "cell_type": "markdown",
      "id": "df66e846",
      "metadata": {
        "papermill": {
          "duration": 0.003312,
          "end_time": "2023-09-02T21:32:12.241402",
          "exception": false,
          "start_time": "2023-09-02T21:32:12.238090",
          "status": "completed"
        },
        "tags": []
      },
      "source": [
        "The `analyze_circuit` step should statically analyze the connections and ports and should return an `analyzed` object. This object contains all the static objects that are needed for circuit computation but won't be needed to be recalculated when any parameters of the circuit change. See [KLU backend](./08b_backends_klu.ipynb) for a non-trivial implementation of the circuit analyzation.\n",
        "\n",
        "The `evaluate_circuit` step evaluates the circuit for given `SType` instances."
      ]
    },
    {
      "cell_type": "markdown",
      "id": "835a521a",
      "metadata": {
        "papermill": {
          "duration": 0.002733,
          "end_time": "2023-09-02T21:32:12.246356",
          "exception": false,
          "start_time": "2023-09-02T21:32:12.243623",
          "status": "completed"
        },
        "tags": []
      },
      "source": [
        "> Example\n",
        "\n",
        "Let's create an MZI `SDict` using the default backend's `evaluate_circuit`:"
      ]
    },
    {
      "cell_type": "code",
      "execution_count": 7,
      "id": "b1219c35-7673-4887-9f1a-ce3aa0ff4e4d",
      "metadata": {
        "execution": {
          "iopub.execute_input": "2023-09-02T21:32:12.252256Z",
          "iopub.status.busy": "2023-09-02T21:32:12.251753Z",
          "iopub.status.idle": "2023-09-02T21:32:13.641059Z",
          "shell.execute_reply": "2023-09-02T21:32:13.640495Z"
        },
        "papermill": {
          "duration": 1.394153,
          "end_time": "2023-09-02T21:32:13.642701",
          "exception": false,
          "start_time": "2023-09-02T21:32:12.248548",
          "status": "completed"
        },
        "tags": []
      },
      "outputs": [
        {
          "data": {
            "text/plain": [
              "{('in0', 'in0'): Array(0.+0.j, dtype=complex128),\n",
              " ('in0', 'in1'): Array(0.+0.j, dtype=complex128),\n",
              " ('in0', 'out0'): Array(-0.25+0.433015j, dtype=complex128),\n",
              " ('in0', 'out1'): Array(-0.433015+0.75j, dtype=complex128),\n",
              " ('in1', 'in0'): Array(0.+0.j, dtype=complex128),\n",
              " ('in1', 'in1'): Array(0.+0.j, dtype=complex128),\n",
              " ('in1', 'out0'): Array(-0.433015+0.75j, dtype=complex128),\n",
              " ('in1', 'out1'): Array(0.25-0.433015j, dtype=complex128),\n",
              " ('out0', 'in0'): Array(-0.25+0.433015j, dtype=complex128),\n",
              " ('out0', 'in1'): Array(-0.433015+0.75j, dtype=complex128),\n",
              " ('out0', 'out0'): Array(0.+0.j, dtype=complex128),\n",
              " ('out0', 'out1'): Array(0.+0.j, dtype=complex128),\n",
              " ('out1', 'in0'): Array(-0.433015+0.75j, dtype=complex128),\n",
              " ('out1', 'in1'): Array(0.25-0.433015j, dtype=complex128),\n",
              " ('out1', 'out0'): Array(0.+0.j, dtype=complex128),\n",
              " ('out1', 'out1'): Array(0.+0.j, dtype=complex128)}"
            ]
          },
          "metadata": {},
          "output_type": "display_data"
        }
      ],
      "source": [
        "wg_sdict: SDict = {\n",
        "    (\"in0\", \"out0\"): 0.5 + 0.86603j,\n",
        "    (\"out0\", \"in0\"): 0.5 + 0.86603j,\n",
        "}\n",
        "\n",
        "\u03c4, \u03ba = 0.5 ** 0.5, 1j * 0.5 ** 0.5\n",
        "dc_sdense: SDense = (\n",
        "    jnp.array([[0, 0, \u03c4, \u03ba], \n",
        "               [0, 0, \u03ba, \u03c4], \n",
        "               [\u03c4, \u03ba, 0, 0], \n",
        "               [\u03ba, \u03c4, 0, 0]]),\n",
        "    {\"in0\": 0, \"in1\": 1, \"out0\": 2, \"out1\": 3},\n",
        ")\n",
        "\n",
        "instances={\n",
        "    \"dc1\": dc_sdense,\n",
        "    \"wg\": wg_sdict,\n",
        "    \"dc2\": dc_sdense,\n",
        "}\n",
        "connections={\n",
        "    \"dc1,out0\": \"wg,in0\",\n",
        "    \"wg,out0\": \"dc2,in0\",\n",
        "    \"dc1,out1\": \"dc2,in1\",\n",
        "}\n",
        "ports={\n",
        "    \"in0\": \"dc1,in0\",\n",
        "    \"in1\": \"dc1,in1\",\n",
        "    \"out0\": \"dc2,out0\",\n",
        "    \"out1\": \"dc2,out1\",\n",
        "}\n",
        "\n",
        "analyzed = analyze_circuit(connections, ports)\n",
        "mzi_sdict = sdict(evaluate_circuit(analyzed, instances))\n",
        "display(mzi_sdict)"
      ]
    }
  ],
  "metadata": {
    "kernelspec": {
      "display_name": "sax",
      "language": "python",
      "name": "sax"
    },
    "language_info": {
      "codemirror_mode": {
        "name": "ipython",
        "version": 3
      },
      "file_extension": ".py",
      "mimetype": "text/x-python",
      "name": "python",
      "nbconvert_exporter": "python",
      "pygments_lexer": "ipython3",
      "version": "3.11.5"
    },
    "papermill": {
      "default_parameters": {},
      "duration": 5.079238,
      "end_time": "2023-09-02T21:32:14.266457",
      "environment_variables": {},
      "exception": null,
      "input_path": "./internals/08_backends.ipynb",
      "output_path": "./internals/08_backends.ipynb",
      "parameters": {},
      "start_time": "2023-09-02T21:32:09.187219",
      "version": "2.4.0"
    }
  },
  "nbformat": 4,
  "nbformat_minor": 5
}