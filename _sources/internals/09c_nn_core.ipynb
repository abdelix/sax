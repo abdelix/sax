{
  "cells": [
    {
      "cell_type": "code",
      "execution_count": 1,
      "id": "327ded814d9acb5c",
      "metadata": {
        "execution": {
          "iopub.execute_input": "2023-09-02T21:30:26.818442Z",
          "iopub.status.busy": "2023-09-02T21:30:26.817525Z",
          "iopub.status.idle": "2023-09-02T21:30:26.822571Z",
          "shell.execute_reply": "2023-09-02T21:30:26.821906Z"
        },
        "papermill": {
          "duration": 0.012127,
          "end_time": "2023-09-02T21:30:26.824153",
          "exception": false,
          "start_time": "2023-09-02T21:30:26.812026",
          "status": "completed"
        },
        "tags": [
          "remove-cell"
        ]
      },
      "outputs": [],
      "source": []
    },
    {
      "cell_type": "markdown",
      "id": "ad9dbb7f",
      "metadata": {
        "papermill": {
          "duration": 0.001551,
          "end_time": "2023-09-02T21:30:26.827776",
          "exception": false,
          "start_time": "2023-09-02T21:30:26.826225",
          "status": "completed"
        },
        "tags": []
      },
      "source": [
        "# Core\n",
        "\n",
        "> Core for SAX neural networks"
      ]
    },
    {
      "cell_type": "code",
      "execution_count": 2,
      "id": "84efa3116f505867",
      "metadata": {
        "execution": {
          "iopub.execute_input": "2023-09-02T21:30:26.832372Z",
          "iopub.status.busy": "2023-09-02T21:30:26.831756Z",
          "iopub.status.idle": "2023-09-02T21:30:27.357476Z",
          "shell.execute_reply": "2023-09-02T21:30:27.356824Z"
        },
        "papermill": {
          "duration": 0.530605,
          "end_time": "2023-09-02T21:30:27.359915",
          "exception": false,
          "start_time": "2023-09-02T21:30:26.829310",
          "status": "completed"
        },
        "tags": [
          "remove-cell"
        ]
      },
      "outputs": [],
      "source": [
        "import matplotlib.pyplot as plt\n",
        "from fastcore.test import test_eq\n",
        "from pytest import approx, raises\n",
        "\n",
        "import os, sys; sys.stderr = open(os.devnull, \"w\")"
      ]
    },
    {
      "cell_type": "code",
      "execution_count": 3,
      "id": "02217c5167856119",
      "metadata": {
        "execution": {
          "iopub.execute_input": "2023-09-02T21:30:27.365206Z",
          "iopub.status.busy": "2023-09-02T21:30:27.364608Z",
          "iopub.status.idle": "2023-09-02T21:30:28.713326Z",
          "shell.execute_reply": "2023-09-02T21:30:28.712675Z"
        },
        "papermill": {
          "duration": 1.354258,
          "end_time": "2023-09-02T21:30:28.716076",
          "exception": false,
          "start_time": "2023-09-02T21:30:27.361818",
          "status": "completed"
        },
        "tags": [
          "hide-input"
        ]
      },
      "outputs": [],
      "source": [
        "from __future__ import annotations\n",
        "\n",
        "from typing import Callable, Dict, Optional, Tuple, Union\n",
        "\n",
        "import jax\n",
        "import jax.numpy as jnp\n",
        "from sax.nn.utils import denormalize, normalize\n",
        "from sax.typing_ import Array, ComplexFloat"
      ]
    },
    {
      "cell_type": "markdown",
      "id": "dbd15dd94c1ccb1c",
      "metadata": {},
      "source": [
        ":::{eval-rst}\n",
        ".. autofunction:: sax.nn.core.preprocess\n",
        ":::\n"
      ]
    },
    {
      "cell_type": "code",
      "execution_count": 4,
      "id": "ec4811cb0780398f",
      "metadata": {
        "execution": {
          "iopub.execute_input": "2023-09-02T21:30:28.721832Z",
          "iopub.status.busy": "2023-09-02T21:30:28.721000Z",
          "iopub.status.idle": "2023-09-02T21:30:28.726208Z",
          "shell.execute_reply": "2023-09-02T21:30:28.725696Z"
        },
        "papermill": {
          "duration": 0.009696,
          "end_time": "2023-09-02T21:30:28.727734",
          "exception": false,
          "start_time": "2023-09-02T21:30:28.718038",
          "status": "completed"
        },
        "tags": [
          "hide-input"
        ]
      },
      "outputs": [],
      "source": [
        "def preprocess(*params: ComplexFloat) -> ComplexFloat:\n",
        "    \"\"\"preprocess parameters\n",
        "\n",
        "    > Note: (1) all arguments are first casted into the same shape. (2) then pairs \n",
        "      of arguments are divided into each other to create relative arguments. (3) all \n",
        "      arguments are then stacked into one big tensor\n",
        "    \"\"\"\n",
        "    x = jnp.stack(jnp.broadcast_arrays(*params), -1)\n",
        "    assert isinstance(x, jnp.ndarray)\n",
        "    to_concatenate = [x]\n",
        "    for i in range(1, x.shape[-1]):\n",
        "        _x = jnp.roll(x, shift=i, axis=-1)\n",
        "        to_concatenate.append(x / _x)\n",
        "        to_concatenate.append(_x / x)\n",
        "    x = jnp.concatenate(to_concatenate, -1)\n",
        "    assert isinstance(x, jnp.ndarray)\n",
        "    return x"
      ]
    },
    {
      "cell_type": "markdown",
      "id": "95a9227b3afbcc10",
      "metadata": {},
      "source": [
        ":::{eval-rst}\n",
        ".. autofunction:: sax.nn.core.dense\n",
        ":::\n"
      ]
    },
    {
      "cell_type": "code",
      "execution_count": 5,
      "id": "4b9f6d9d8ffd963e",
      "metadata": {
        "execution": {
          "iopub.execute_input": "2023-09-02T21:30:28.732411Z",
          "iopub.status.busy": "2023-09-02T21:30:28.731862Z",
          "iopub.status.idle": "2023-09-02T21:30:28.737007Z",
          "shell.execute_reply": "2023-09-02T21:30:28.736580Z"
        },
        "papermill": {
          "duration": 0.008989,
          "end_time": "2023-09-02T21:30:28.738338",
          "exception": false,
          "start_time": "2023-09-02T21:30:28.729349",
          "status": "completed"
        },
        "tags": [
          "hide-input"
        ]
      },
      "outputs": [],
      "source": [
        "def dense(\n",
        "    weights: Dict[str, Array],\n",
        "    *params: ComplexFloat,\n",
        "    x_norm: Tuple[float, float] = (0.0, 1.0),\n",
        "    y_norm: Tuple[float, float] = (0.0, 1.0),\n",
        "    preprocess: Callable = preprocess,\n",
        "    activation: Callable = jax.nn.leaky_relu,\n",
        ") -> ComplexFloat:\n",
        "    \"\"\"simple dense neural network\"\"\"\n",
        "    x_mean, x_std = x_norm\n",
        "    y_mean, y_std = y_norm\n",
        "    x = preprocess(*params)\n",
        "    x = normalize(x, mean=x_mean, std=x_std)\n",
        "    for i in range(len([w for w in weights if w.startswith(\"w\")])):\n",
        "        x = activation(x @ weights[f\"w{i}\"] + weights.get(f\"b{i}\", 0.0))\n",
        "    y = denormalize(x, mean=y_mean, std=y_std)\n",
        "    return y"
      ]
    },
    {
      "cell_type": "markdown",
      "id": "c51f1c781adc8743",
      "metadata": {},
      "source": [
        ":::{eval-rst}\n",
        ".. autofunction:: sax.nn.core.generate_dense_weights\n",
        ":::\n"
      ]
    },
    {
      "cell_type": "code",
      "execution_count": 6,
      "id": "4f3b494d971938d2",
      "metadata": {
        "execution": {
          "iopub.execute_input": "2023-09-02T21:30:28.742898Z",
          "iopub.status.busy": "2023-09-02T21:30:28.742320Z",
          "iopub.status.idle": "2023-09-02T21:30:28.748925Z",
          "shell.execute_reply": "2023-09-02T21:30:28.748431Z"
        },
        "papermill": {
          "duration": 0.010546,
          "end_time": "2023-09-02T21:30:28.750438",
          "exception": false,
          "start_time": "2023-09-02T21:30:28.739892",
          "status": "completed"
        },
        "tags": [
          "hide-input"
        ]
      },
      "outputs": [],
      "source": [
        "def generate_dense_weights(\n",
        "    key: Union[int, Array],\n",
        "    sizes: Tuple[int, ...],\n",
        "    input_names: Optional[Tuple[str, ...]] = None,\n",
        "    output_names: Optional[Tuple[str, ...]] = None,\n",
        "    preprocess=preprocess,\n",
        ") -> Dict[str, ComplexFloat]:\n",
        "    \"\"\"Generate the weights for a dense neural network\"\"\"\n",
        "\n",
        "    if isinstance(key, int):\n",
        "        key = jax.random.PRNGKey(key)\n",
        "    assert isinstance(key, jnp.ndarray)\n",
        "\n",
        "    sizes = tuple(s for s in sizes)\n",
        "    if input_names:\n",
        "        arr = preprocess(*jnp.ones(len(input_names)))\n",
        "        assert isinstance(arr, jnp.ndarray)\n",
        "        sizes = (arr.shape[-1],) + sizes\n",
        "    if output_names:\n",
        "        sizes = sizes + (len(output_names),)\n",
        "\n",
        "    keys = jax.random.split(key, 2 * len(sizes))\n",
        "    rand = jax.nn.initializers.lecun_normal()\n",
        "    weights = {}\n",
        "    for i, (m, n) in enumerate(zip(sizes[:-1], sizes[1:])):\n",
        "        weights[f\"w{i}\"] = rand(keys[2 * i], (m, n))\n",
        "        weights[f\"b{i}\"] = rand(keys[2 * i + 1], (1, n)).ravel()\n",
        "\n",
        "    return weights"
      ]
    }
  ],
  "metadata": {
    "kernelspec": {
      "display_name": "sax",
      "language": "python",
      "name": "sax"
    },
    "language_info": {
      "codemirror_mode": {
        "name": "ipython",
        "version": 3
      },
      "file_extension": ".py",
      "mimetype": "text/x-python",
      "name": "python",
      "nbconvert_exporter": "python",
      "pygments_lexer": "ipython3",
      "version": "3.11.5"
    },
    "papermill": {
      "default_parameters": {},
      "duration": 3.964698,
      "end_time": "2023-09-02T21:30:29.471660",
      "environment_variables": {},
      "exception": null,
      "input_path": "./internals/09c_nn_core.ipynb",
      "output_path": "./internals/09c_nn_core.ipynb",
      "parameters": {},
      "start_time": "2023-09-02T21:30:25.506962",
      "version": "2.4.0"
    }
  },
  "nbformat": 4,
  "nbformat_minor": 5
}