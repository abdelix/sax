{
  "cells": [
    {
      "cell_type": "code",
      "execution_count": 1,
      "id": "762eadb6919d08b1",
      "metadata": {
        "execution": {
          "iopub.execute_input": "2023-09-02T21:31:55.428352Z",
          "iopub.status.busy": "2023-09-02T21:31:55.427698Z",
          "iopub.status.idle": "2023-09-02T21:31:55.431889Z",
          "shell.execute_reply": "2023-09-02T21:31:55.431164Z"
        },
        "papermill": {
          "duration": 0.012582,
          "end_time": "2023-09-02T21:31:55.433414",
          "exception": false,
          "start_time": "2023-09-02T21:31:55.420832",
          "status": "completed"
        },
        "tags": [
          "remove-cell"
        ]
      },
      "outputs": [],
      "source": []
    },
    {
      "cell_type": "markdown",
      "id": "b4250b31",
      "metadata": {
        "papermill": {
          "duration": 0.003283,
          "end_time": "2023-09-02T21:31:55.440359",
          "exception": false,
          "start_time": "2023-09-02T21:31:55.437076",
          "status": "completed"
        },
        "tags": []
      },
      "source": [
        "# SAX init\n",
        "\n",
        "> Import everything into the `sax` namespace:"
      ]
    },
    {
      "cell_type": "code",
      "execution_count": 2,
      "id": "a46618f99cee27b8",
      "metadata": {
        "execution": {
          "iopub.execute_input": "2023-09-02T21:31:55.448087Z",
          "iopub.status.busy": "2023-09-02T21:31:55.447597Z",
          "iopub.status.idle": "2023-09-02T21:31:55.967867Z",
          "shell.execute_reply": "2023-09-02T21:31:55.967240Z"
        },
        "papermill": {
          "duration": 0.526744,
          "end_time": "2023-09-02T21:31:55.970316",
          "exception": false,
          "start_time": "2023-09-02T21:31:55.443572",
          "status": "completed"
        },
        "tags": [
          "remove-cell"
        ]
      },
      "outputs": [],
      "source": [
        "import matplotlib.pyplot as plt\n",
        "from fastcore.test import test_eq\n",
        "from pytest import approx, raises\n",
        "\n",
        "import os, sys; sys.stderr = open(os.devnull, \"w\")"
      ]
    },
    {
      "cell_type": "code",
      "execution_count": 3,
      "id": "a75cc58becc07cf1",
      "metadata": {
        "execution": {
          "iopub.execute_input": "2023-09-02T21:31:55.980435Z",
          "iopub.status.busy": "2023-09-02T21:31:55.979587Z",
          "iopub.status.idle": "2023-09-02T21:31:55.983159Z",
          "shell.execute_reply": "2023-09-02T21:31:55.982633Z"
        },
        "papermill": {
          "duration": 0.009848,
          "end_time": "2023-09-02T21:31:55.984538",
          "exception": false,
          "start_time": "2023-09-02T21:31:55.974690",
          "status": "completed"
        },
        "tags": [
          "remove-cell"
        ]
      },
      "outputs": [],
      "source": [
        "from __future__ import annotations\n",
        "\n",
        "__author__ = \"Floris Laporte\"\n",
        "__version__ = \"0.10.0\""
      ]
    },
    {
      "cell_type": "markdown",
      "id": "fe77e5e3",
      "metadata": {
        "papermill": {
          "duration": 0.00324,
          "end_time": "2023-09-02T21:31:55.991033",
          "exception": false,
          "start_time": "2023-09-02T21:31:55.987793",
          "status": "completed"
        },
        "tags": []
      },
      "source": [
        "## External\n",
        "\n",
        "utils from other packages available in SAX for convenience:"
      ]
    },
    {
      "cell_type": "code",
      "execution_count": 4,
      "id": "80d9ab34b32a1dcc",
      "metadata": {
        "execution": {
          "iopub.execute_input": "2023-09-02T21:31:56.000209Z",
          "iopub.status.busy": "2023-09-02T21:31:55.999714Z",
          "iopub.status.idle": "2023-09-02T21:31:56.560428Z",
          "shell.execute_reply": "2023-09-02T21:31:56.559791Z"
        },
        "papermill": {
          "duration": 0.567279,
          "end_time": "2023-09-02T21:31:56.562774",
          "exception": false,
          "start_time": "2023-09-02T21:31:55.995495",
          "status": "completed"
        },
        "tags": []
      },
      "outputs": [],
      "source": [
        "from functools import partial as partial\n",
        "from math import pi as pi\n",
        "\n",
        "from scipy.constants import c as c\n",
        "\n",
        "try:\n",
        "    from flax.core.frozen_dict import FrozenDict as FrozenDict\n",
        "except ImportError:\n",
        "    FrozenDict = dict"
      ]
    },
    {
      "cell_type": "markdown",
      "id": "3d3bde86",
      "metadata": {
        "papermill": {
          "duration": 0.004654,
          "end_time": "2023-09-02T21:31:56.572028",
          "exception": false,
          "start_time": "2023-09-02T21:31:56.567374",
          "status": "completed"
        },
        "tags": []
      },
      "source": [
        "## Typing"
      ]
    },
    {
      "cell_type": "code",
      "execution_count": 5,
      "id": "2a9afb5c31ca272f",
      "metadata": {
        "execution": {
          "iopub.execute_input": "2023-09-02T21:31:56.620294Z",
          "iopub.status.busy": "2023-09-02T21:31:56.619178Z",
          "iopub.status.idle": "2023-09-02T21:31:57.040268Z",
          "shell.execute_reply": "2023-09-02T21:31:57.039623Z"
        },
        "papermill": {
          "duration": 0.429071,
          "end_time": "2023-09-02T21:31:57.043049",
          "exception": false,
          "start_time": "2023-09-02T21:31:56.613978",
          "status": "completed"
        },
        "tags": []
      },
      "outputs": [],
      "source": [
        "\n",
        "from sax import typing_ as typing\n",
        "from sax.typing_ import (\n",
        "    Array as Array,\n",
        "    ComplexFloat as ComplexFloat,\n",
        "    Float as Float,\n",
        "    Model as Model,\n",
        "    ModelFactory as ModelFactory,\n",
        "    Models as Models,\n",
        "    SCoo as SCoo,\n",
        "    SDense as SDense,\n",
        "    SDict as SDict,\n",
        "    Settings as Settings,\n",
        "    SType as SType,\n",
        "    is_complex as is_complex,\n",
        "    is_complex_float as is_complex_float,\n",
        "    is_float as is_float,\n",
        "    is_mixedmode as is_mixedmode,\n",
        "    is_model as is_model,\n",
        "    is_model_factory as is_model_factory,\n",
        "    is_multimode as is_multimode,\n",
        "    is_scoo as is_scoo,\n",
        "    is_sdense as is_sdense,\n",
        "    is_sdict as is_sdict,\n",
        "    is_singlemode as is_singlemode,\n",
        "    modelfactory as modelfactory,\n",
        "    scoo as scoo,\n",
        "    sdense as sdense,\n",
        "    sdict as sdict,\n",
        "    validate_model as validate_model,\n",
        ")"
      ]
    },
    {
      "cell_type": "markdown",
      "id": "345808d3",
      "metadata": {
        "papermill": {
          "duration": 0.003918,
          "end_time": "2023-09-02T21:31:57.052843",
          "exception": false,
          "start_time": "2023-09-02T21:31:57.048925",
          "status": "completed"
        },
        "tags": []
      },
      "source": [
        "## Utils"
      ]
    },
    {
      "cell_type": "code",
      "execution_count": 6,
      "id": "0e9eeab15567ebd9",
      "metadata": {
        "execution": {
          "iopub.execute_input": "2023-09-02T21:31:57.061638Z",
          "iopub.status.busy": "2023-09-02T21:31:57.060903Z",
          "iopub.status.idle": "2023-09-02T21:31:57.066728Z",
          "shell.execute_reply": "2023-09-02T21:31:57.066180Z"
        },
        "papermill": {
          "duration": 0.012321,
          "end_time": "2023-09-02T21:31:57.068638",
          "exception": false,
          "start_time": "2023-09-02T21:31:57.056317",
          "status": "completed"
        },
        "tags": []
      },
      "outputs": [],
      "source": [
        "\n",
        "from sax import utils as utils\n",
        "from sax.utils import (\n",
        "    block_diag as block_diag,\n",
        "    clean_string as clean_string,\n",
        "    copy_settings as copy_settings,\n",
        "    flatten_dict as flatten_dict,\n",
        "    get_inputs_outputs as get_inputs_outputs,\n",
        "    get_port_combinations as get_port_combinations,\n",
        "    get_ports as get_ports,\n",
        "    get_settings as get_settings,\n",
        "    grouped_interp as grouped_interp,\n",
        "    merge_dicts as merge_dicts,\n",
        "    mode_combinations as mode_combinations,\n",
        "    reciprocal as reciprocal,\n",
        "    rename_params as rename_params,\n",
        "    rename_ports as rename_ports,\n",
        "    try_float as try_float,\n",
        "    unflatten_dict as unflatten_dict,\n",
        "    update_settings as update_settings,\n",
        "    validate_multimode as validate_multimode,\n",
        "    validate_not_mixedmode as validate_not_mixedmode,\n",
        "    validate_sdict as validate_sdict,\n",
        "    validate_settings as validate_settings,\n",
        ")"
      ]
    },
    {
      "cell_type": "markdown",
      "id": "23287a09",
      "metadata": {
        "papermill": {
          "duration": 0.003304,
          "end_time": "2023-09-02T21:31:57.075307",
          "exception": false,
          "start_time": "2023-09-02T21:31:57.072003",
          "status": "completed"
        },
        "tags": []
      },
      "source": [
        "## Multimode"
      ]
    },
    {
      "cell_type": "code",
      "execution_count": 7,
      "id": "d813f8b2de5946a1",
      "metadata": {
        "execution": {
          "iopub.execute_input": "2023-09-02T21:31:57.083714Z",
          "iopub.status.busy": "2023-09-02T21:31:57.083055Z",
          "iopub.status.idle": "2023-09-02T21:31:57.086443Z",
          "shell.execute_reply": "2023-09-02T21:31:57.085894Z"
        },
        "papermill": {
          "duration": 0.009511,
          "end_time": "2023-09-02T21:31:57.088222",
          "exception": false,
          "start_time": "2023-09-02T21:31:57.078711",
          "status": "completed"
        },
        "tags": []
      },
      "outputs": [],
      "source": [
        "\n",
        "from sax import multimode as multimode\n",
        "from sax.multimode import (\n",
        "    multimode as multimode,\n",
        "    singlemode as singlemode,\n",
        ")"
      ]
    },
    {
      "cell_type": "markdown",
      "id": "c794abf0",
      "metadata": {
        "papermill": {
          "duration": 0.003277,
          "end_time": "2023-09-02T21:31:57.094903",
          "exception": false,
          "start_time": "2023-09-02T21:31:57.091626",
          "status": "completed"
        },
        "tags": []
      },
      "source": [
        "## Models"
      ]
    },
    {
      "cell_type": "code",
      "execution_count": 8,
      "id": "93e315bc1377e8ba",
      "metadata": {
        "execution": {
          "iopub.execute_input": "2023-09-02T21:31:57.102935Z",
          "iopub.status.busy": "2023-09-02T21:31:57.102684Z",
          "iopub.status.idle": "2023-09-02T21:31:57.105276Z",
          "shell.execute_reply": "2023-09-02T21:31:57.104870Z"
        },
        "papermill": {
          "duration": 0.008319,
          "end_time": "2023-09-02T21:31:57.106618",
          "exception": false,
          "start_time": "2023-09-02T21:31:57.098299",
          "status": "completed"
        },
        "tags": []
      },
      "outputs": [],
      "source": [
        "\n",
        "from sax import models as models\n",
        "from sax.models import get_models as get_models, passthru as passthru"
      ]
    },
    {
      "cell_type": "markdown",
      "id": "b94feb62",
      "metadata": {
        "papermill": {
          "duration": 0.0032,
          "end_time": "2023-09-02T21:31:57.112957",
          "exception": false,
          "start_time": "2023-09-02T21:31:57.109757",
          "status": "completed"
        },
        "tags": []
      },
      "source": [
        "## Netlist"
      ]
    },
    {
      "cell_type": "code",
      "execution_count": 9,
      "id": "6093ee237cb8f611",
      "metadata": {
        "execution": {
          "iopub.execute_input": "2023-09-02T21:31:57.121128Z",
          "iopub.status.busy": "2023-09-02T21:31:57.120567Z",
          "iopub.status.idle": "2023-09-02T21:31:57.124064Z",
          "shell.execute_reply": "2023-09-02T21:31:57.123636Z"
        },
        "papermill": {
          "duration": 0.009239,
          "end_time": "2023-09-02T21:31:57.125535",
          "exception": false,
          "start_time": "2023-09-02T21:31:57.116296",
          "status": "completed"
        },
        "tags": []
      },
      "outputs": [],
      "source": [
        "\n",
        "from sax.netlist import netlist as netlist\n",
        "from sax.netlist import load_netlist as load_netlist\n",
        "from sax.netlist import load_recursive_netlist as load_recursive_netlist\n",
        "from sax.netlist import get_netlist_instances_by_prefix as get_netlist_instances_by_prefix\n",
        "from sax.netlist import get_component_instances as get_component_instances"
      ]
    },
    {
      "cell_type": "markdown",
      "id": "5792b5e9",
      "metadata": {
        "papermill": {
          "duration": 0.003286,
          "end_time": "2023-09-02T21:31:57.132143",
          "exception": false,
          "start_time": "2023-09-02T21:31:57.128857",
          "status": "completed"
        },
        "tags": []
      },
      "source": [
        "## Circuit"
      ]
    },
    {
      "cell_type": "code",
      "execution_count": 10,
      "id": "1db77c0fe1db53db",
      "metadata": {
        "execution": {
          "iopub.execute_input": "2023-09-02T21:31:57.140612Z",
          "iopub.status.busy": "2023-09-02T21:31:57.139990Z",
          "iopub.status.idle": "2023-09-02T21:31:57.143185Z",
          "shell.execute_reply": "2023-09-02T21:31:57.142652Z"
        },
        "papermill": {
          "duration": 0.008952,
          "end_time": "2023-09-02T21:31:57.144528",
          "exception": false,
          "start_time": "2023-09-02T21:31:57.135576",
          "status": "completed"
        },
        "tags": []
      },
      "outputs": [],
      "source": [
        "\n",
        "from sax.circuit import circuit as circuit\n",
        "from sax.circuit import get_required_circuit_models as get_required_circuit_models"
      ]
    },
    {
      "cell_type": "markdown",
      "id": "e2d7c9fc",
      "metadata": {
        "papermill": {
          "duration": 0.003359,
          "end_time": "2023-09-02T21:31:57.151248",
          "exception": false,
          "start_time": "2023-09-02T21:31:57.147889",
          "status": "completed"
        },
        "tags": []
      },
      "source": [
        "## Backend"
      ]
    },
    {
      "cell_type": "code",
      "execution_count": 11,
      "id": "9c820ff19de49559",
      "metadata": {
        "execution": {
          "iopub.execute_input": "2023-09-02T21:31:57.160055Z",
          "iopub.status.busy": "2023-09-02T21:31:57.159457Z",
          "iopub.status.idle": "2023-09-02T21:31:57.162267Z",
          "shell.execute_reply": "2023-09-02T21:31:57.161842Z"
        },
        "papermill": {
          "duration": 0.008685,
          "end_time": "2023-09-02T21:31:57.163586",
          "exception": false,
          "start_time": "2023-09-02T21:31:57.154901",
          "status": "completed"
        },
        "tags": []
      },
      "outputs": [],
      "source": [
        "\n",
        "from sax import backends as backends"
      ]
    },
    {
      "cell_type": "markdown",
      "id": "3ecf363e",
      "metadata": {
        "papermill": {
          "duration": 0.003409,
          "end_time": "2023-09-02T21:31:57.170397",
          "exception": false,
          "start_time": "2023-09-02T21:31:57.166988",
          "status": "completed"
        },
        "tags": []
      },
      "source": [
        "## Patches"
      ]
    },
    {
      "cell_type": "code",
      "execution_count": 12,
      "id": "176c8b706aa0ce8d",
      "metadata": {
        "execution": {
          "iopub.execute_input": "2023-09-02T21:31:57.178771Z",
          "iopub.status.busy": "2023-09-02T21:31:57.178169Z",
          "iopub.status.idle": "2023-09-02T21:31:57.180959Z",
          "shell.execute_reply": "2023-09-02T21:31:57.180525Z"
        },
        "papermill": {
          "duration": 0.008581,
          "end_time": "2023-09-02T21:31:57.182388",
          "exception": false,
          "start_time": "2023-09-02T21:31:57.173807",
          "status": "completed"
        },
        "tags": []
      },
      "outputs": [],
      "source": [
        "\n",
        "from sax import patched as _patched"
      ]
    }
  ],
  "metadata": {
    "kernelspec": {
      "display_name": "sax",
      "language": "python",
      "name": "sax"
    },
    "language_info": {
      "codemirror_mode": {
        "name": "ipython",
        "version": 3
      },
      "file_extension": ".py",
      "mimetype": "text/x-python",
      "name": "python",
      "nbconvert_exporter": "python",
      "pygments_lexer": "ipython3",
      "version": "3.11.5"
    },
    "papermill": {
      "default_parameters": {},
      "duration": 3.680016,
      "end_time": "2023-09-02T21:31:57.804243",
      "environment_variables": {},
      "exception": null,
      "input_path": "./internals/99_init.ipynb",
      "output_path": "./internals/99_init.ipynb",
      "parameters": {},
      "start_time": "2023-09-02T21:31:54.124227",
      "version": "2.4.0"
    }
  },
  "nbformat": 4,
  "nbformat_minor": 5
}