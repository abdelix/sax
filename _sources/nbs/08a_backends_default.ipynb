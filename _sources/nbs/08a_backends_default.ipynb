{
  "cells": [
    {
      "cell_type": "code",
      "execution_count": 1,
      "id": "40c80f8b874bab8b",
      "metadata": {
        "execution": {
          "iopub.execute_input": "2023-07-01T03:32:12.316493Z",
          "iopub.status.busy": "2023-07-01T03:32:12.316253Z",
          "iopub.status.idle": "2023-07-01T03:32:12.320803Z",
          "shell.execute_reply": "2023-07-01T03:32:12.320318Z"
        },
        "papermill": {
          "duration": 0.013205,
          "end_time": "2023-07-01T03:32:12.322032",
          "exception": false,
          "start_time": "2023-07-01T03:32:12.308827",
          "status": "completed"
        },
        "tags": [
          "remove-cell"
        ]
      },
      "outputs": [],
      "source": []
    },
    {
      "cell_type": "markdown",
      "id": "41e0d311",
      "metadata": {
        "papermill": {
          "duration": 0.010854,
          "end_time": "2023-07-01T03:32:12.341661",
          "exception": false,
          "start_time": "2023-07-01T03:32:12.330807",
          "status": "completed"
        },
        "tags": []
      },
      "source": [
        "# Backend - default\n",
        "\n",
        "> Default SAX Backend"
      ]
    },
    {
      "cell_type": "code",
      "execution_count": 2,
      "id": "74cc517042e732b3",
      "metadata": {
        "execution": {
          "iopub.execute_input": "2023-07-01T03:32:12.365525Z",
          "iopub.status.busy": "2023-07-01T03:32:12.365299Z",
          "iopub.status.idle": "2023-07-01T03:32:12.370235Z",
          "shell.execute_reply": "2023-07-01T03:32:12.369851Z"
        },
        "papermill": {
          "duration": 0.023479,
          "end_time": "2023-07-01T03:32:12.371340",
          "exception": false,
          "start_time": "2023-07-01T03:32:12.347861",
          "status": "completed"
        },
        "tags": [
          "remove-cell"
        ]
      },
      "outputs": [],
      "source": [
        "import os, sys; sys.stderr = open(os.devnull, \"w\")"
      ]
    },
    {
      "cell_type": "code",
      "execution_count": 3,
      "id": "c7a9e3bd62f55040",
      "metadata": {
        "execution": {
          "iopub.execute_input": "2023-07-01T03:32:12.388525Z",
          "iopub.status.busy": "2023-07-01T03:32:12.388346Z",
          "iopub.status.idle": "2023-07-01T03:32:13.524352Z",
          "shell.execute_reply": "2023-07-01T03:32:13.523916Z"
        },
        "papermill": {
          "duration": 1.149092,
          "end_time": "2023-07-01T03:32:13.525785",
          "exception": false,
          "start_time": "2023-07-01T03:32:12.376693",
          "status": "completed"
        },
        "tags": [
          "hide-input"
        ]
      },
      "outputs": [],
      "source": [
        "from __future__ import annotations\n",
        "\n",
        "import warnings\n",
        "from types import SimpleNamespace\n",
        "from typing import Dict\n",
        "\n",
        "try:\n",
        "    import jax\n",
        "    import jax.numpy as jnp\n",
        "    JAX_AVAILABLE = True\n",
        "except ImportError:\n",
        "    import numpy as jnp\n",
        "    def jit(func, *args, **kwargs):\n",
        "        warnings.warn(\"[NO JAX] skipping jit! Please install JAX!\")\n",
        "        return func\n",
        "    \n",
        "    jax = SimpleNamespace(jit=jit)\n",
        "    JAX_AVAILABLE = False\n",
        "    \n",
        "from sax.typing_ import SDict, SType, SDense, sdict"
      ]
    },
    {
      "cell_type": "markdown",
      "id": "d8369d2f-9109-4375-8cb4-6d7ccabbd356",
      "metadata": {
        "papermill": {
          "duration": 0.005769,
          "end_time": "2023-07-01T03:32:13.537436",
          "exception": false,
          "start_time": "2023-07-01T03:32:13.531667",
          "status": "completed"
        },
        "tags": []
      },
      "source": [
        "## Citation\n",
        "The default SAX backend is based on the following paper:\n",
        "\n",
        "> Filipsson, Gunnar. \"*A new general computer algorithm for S-matrix calculation of interconnected multiports.*\" 11th European Microwave Conference. IEEE, 1981."
      ]
    },
    {
      "cell_type": "markdown",
      "id": "feea9c4f-0528-44e0-8e87-91234c6d29cc",
      "metadata": {
        "papermill": {
          "duration": 0.005319,
          "end_time": "2023-07-01T03:32:13.548294",
          "exception": false,
          "start_time": "2023-07-01T03:32:13.542975",
          "status": "completed"
        },
        "tags": []
      },
      "source": [
        "## Circuit Evaluation"
      ]
    },
    {
      "cell_type": "markdown",
      "id": "0f386a0e54125a50",
      "metadata": {},
      "source": [
        ":::{eval-rst}\n",
        ".. autofunction:: sax.backends.default.evaluate_circuit\n",
        ":::\n"
      ]
    },
    {
      "cell_type": "code",
      "execution_count": 4,
      "id": "157a6c9a69c5647f",
      "metadata": {
        "execution": {
          "iopub.execute_input": "2023-07-01T03:32:13.560395Z",
          "iopub.status.busy": "2023-07-01T03:32:13.560034Z",
          "iopub.status.idle": "2023-07-01T03:32:13.572918Z",
          "shell.execute_reply": "2023-07-01T03:32:13.572501Z"
        },
        "papermill": {
          "duration": 0.020609,
          "end_time": "2023-07-01T03:32:13.574290",
          "exception": false,
          "start_time": "2023-07-01T03:32:13.553681",
          "status": "completed"
        },
        "tags": [
          "hide-input"
        ]
      },
      "outputs": [],
      "source": [
        "\n",
        "def evaluate_circuit(\n",
        "    instances: Dict[str, SType],\n",
        "    connections: Dict[str, str],\n",
        "    ports: Dict[str, str],\n",
        ") -> SDict:\n",
        "    \"\"\"evaluate a circuit for the given sdicts.\"\"\"\n",
        "    \n",
        "    # it's actually easier working w reverse:\n",
        "    reversed_ports = {v: k for k, v in ports.items()}\n",
        "\n",
        "    block_diag = {}\n",
        "    for name, S in instances.items():\n",
        "        block_diag.update(\n",
        "            {(f\"{name},{p1}\", f\"{name},{p2}\"): v for (p1, p2), v in sdict(S).items()}\n",
        "        )\n",
        "\n",
        "    sorted_connections = sorted(connections.items(), key=_connections_sort_key)\n",
        "    all_connected_instances = {k: {k} for k in instances}\n",
        "\n",
        "    for k, l in sorted_connections:\n",
        "        name1, _ = k.split(\",\")\n",
        "        name2, _ = l.split(\",\")\n",
        "\n",
        "        connected_instances = (\n",
        "            all_connected_instances[name1] | all_connected_instances[name2]\n",
        "        )\n",
        "        for name in connected_instances:\n",
        "            all_connected_instances[name] = connected_instances\n",
        "\n",
        "        current_ports = tuple(\n",
        "            p\n",
        "            for instance in connected_instances\n",
        "            for p in set([p for p, _ in block_diag] + [p for _, p in block_diag])\n",
        "            if p.startswith(f\"{instance},\")\n",
        "        )\n",
        "\n",
        "        block_diag.update(_interconnect_ports(block_diag, current_ports, k, l))\n",
        "\n",
        "        for i, j in list(block_diag.keys()):\n",
        "            is_connected = i == k or i == l or j == k or j == l\n",
        "            is_in_output_ports = i in reversed_ports and j in reversed_ports\n",
        "            if is_connected and not is_in_output_ports:\n",
        "                del block_diag[i, j]  # we're no longer interested in these port combinations\n",
        "\n",
        "    circuit_sdict: SDict = {\n",
        "        (reversed_ports[i], reversed_ports[j]): v\n",
        "        for (i, j), v in block_diag.items()\n",
        "        if i in reversed_ports and j in reversed_ports\n",
        "    }\n",
        "    return circuit_sdict\n",
        "\n",
        "\n",
        "def _connections_sort_key(connection):\n",
        "    \"\"\"sort key for sorting a connection dictionary \"\"\"\n",
        "    part1, part2 = connection\n",
        "    name1, _ = part1.split(\",\")\n",
        "    name2, _ = part2.split(\",\")\n",
        "    return (min(name1, name2), max(name1, name2))\n",
        "\n",
        "\n",
        "def _interconnect_ports(block_diag, current_ports, k, l):\n",
        "    \"\"\"interconnect two ports in a given model\n",
        "\n",
        "    > Note: the interconnect algorithm is based on equation 6 of 'Filipsson, Gunnar. \n",
        "      \"A new general computer algorithm for S-matrix calculation of interconnected \n",
        "      multiports.\" 11th European Microwave Conference. IEEE, 1981.'\n",
        "    \"\"\"\n",
        "    current_block_diag = {}\n",
        "    for i in current_ports:\n",
        "        for j in current_ports:\n",
        "            vij = _calculate_interconnected_value(\n",
        "                vij=block_diag.get((i, j), 0.0),\n",
        "                vik=block_diag.get((i, k), 0.0),\n",
        "                vil=block_diag.get((i, l), 0.0),\n",
        "                vkj=block_diag.get((k, j), 0.0),\n",
        "                vkk=block_diag.get((k, k), 0.0),\n",
        "                vkl=block_diag.get((k, l), 0.0),\n",
        "                vlj=block_diag.get((l, j), 0.0),\n",
        "                vlk=block_diag.get((l, k), 0.0),\n",
        "                vll=block_diag.get((l, l), 0.0),\n",
        "            )\n",
        "            current_block_diag[i, j] = vij\n",
        "    return current_block_diag\n",
        "\n",
        "\n",
        "@jax.jit\n",
        "def _calculate_interconnected_value(vij, vik, vil, vkj, vkk, vkl, vlj, vlk, vll):\n",
        "    \"\"\"Calculate an interconnected S-parameter value\n",
        "\n",
        "    Note:\n",
        "        The interconnect algorithm is based on equation 6 in the paper below::\n",
        "\n",
        "          Filipsson, Gunnar. \"A new general computer algorithm for S-matrix calculation\n",
        "          of interconnected multiports.\" 11th European Microwave Conference. IEEE, 1981.\n",
        "    \"\"\"\n",
        "    result = vij + (\n",
        "        vkj * vil * (1 - vlk)\n",
        "        + vlj * vik * (1 - vkl)\n",
        "        + vkj * vll * vik\n",
        "        + vlj * vkk * vil\n",
        "    ) / ((1 - vkl) * (1 - vlk) - vkk * vll)\n",
        "    return result"
      ]
    },
    {
      "cell_type": "markdown",
      "id": "9dabee38",
      "metadata": {
        "papermill": {
          "duration": 0.006271,
          "end_time": "2023-07-01T03:32:13.586079",
          "exception": false,
          "start_time": "2023-07-01T03:32:13.579808",
          "status": "completed"
        },
        "tags": []
      },
      "source": [
        "## Example"
      ]
    },
    {
      "cell_type": "code",
      "execution_count": 5,
      "id": "5ab7ea6c",
      "metadata": {
        "execution": {
          "iopub.execute_input": "2023-07-01T03:32:13.614190Z",
          "iopub.status.busy": "2023-07-01T03:32:13.613965Z",
          "iopub.status.idle": "2023-07-01T03:32:14.716681Z",
          "shell.execute_reply": "2023-07-01T03:32:14.716270Z"
        },
        "papermill": {
          "duration": 1.121314,
          "end_time": "2023-07-01T03:32:14.718142",
          "exception": false,
          "start_time": "2023-07-01T03:32:13.596828",
          "status": "completed"
        },
        "tags": []
      },
      "outputs": [
        {
          "data": {
            "text/plain": [
              "{('in0', 'in0'): Array(0.+0.j, dtype=complex64),\n",
              " ('in0', 'in1'): Array(0.+0.j, dtype=complex64),\n",
              " ('in1', 'in0'): Array(0.+0.j, dtype=complex64),\n",
              " ('in1', 'in1'): Array(0.+0.j, dtype=complex64),\n",
              " ('out0', 'out0'): Array(0.+0.j, dtype=complex64),\n",
              " ('out0', 'out1'): Array(0.+0.j, dtype=complex64),\n",
              " ('out1', 'out0'): Array(0.+0.j, dtype=complex64),\n",
              " ('out1', 'out1'): Array(0.+0.j, dtype=complex64),\n",
              " ('in0', 'out0'): Array(-0.24999999+0.433015j, dtype=complex64),\n",
              " ('in0', 'out1'): Array(-0.433015+0.74999994j, dtype=complex64),\n",
              " ('in1', 'out0'): Array(-0.433015+0.74999994j, dtype=complex64),\n",
              " ('in1', 'out1'): Array(0.24999999-0.433015j, dtype=complex64),\n",
              " ('out0', 'in0'): Array(-0.24999999+0.433015j, dtype=complex64),\n",
              " ('out0', 'in1'): Array(-0.433015+0.74999994j, dtype=complex64),\n",
              " ('out1', 'in0'): Array(-0.433015+0.74999994j, dtype=complex64),\n",
              " ('out1', 'in1'): Array(0.24999999-0.433015j, dtype=complex64)}"
            ]
          },
          "execution_count": 5,
          "metadata": {},
          "output_type": "execute_result"
        }
      ],
      "source": [
        "wg_sdict: SDict = {\n",
        "    (\"in0\", \"out0\"): 0.5 + 0.86603j,\n",
        "    (\"out0\", \"in0\"): 0.5 + 0.86603j,\n",
        "}\n",
        "\n",
        "\u03c4, \u03ba = 0.5 ** 0.5, 1j * 0.5 ** 0.5\n",
        "dc_sdense: SDense = (\n",
        "    jnp.array([[0, 0, \u03c4, \u03ba], \n",
        "               [0, 0, \u03ba, \u03c4], \n",
        "               [\u03c4, \u03ba, 0, 0], \n",
        "               [\u03ba, \u03c4, 0, 0]]),\n",
        "    {\"in0\": 0, \"in1\": 1, \"out0\": 2, \"out1\": 3},\n",
        ")\n",
        "\n",
        "mzi_sdict: SDict = evaluate_circuit(\n",
        "    instances={\n",
        "        \"dc1\": dc_sdense,\n",
        "        \"wg\": wg_sdict,\n",
        "        \"dc2\": dc_sdense,\n",
        "    },\n",
        "    connections={\n",
        "        \"dc1,out0\": \"wg,in0\",\n",
        "        \"wg,out0\": \"dc2,in0\",\n",
        "        \"dc1,out1\": \"dc2,in1\",\n",
        "    },\n",
        "    ports={\n",
        "        \"in0\": \"dc1,in0\",\n",
        "        \"in1\": \"dc1,in1\",\n",
        "        \"out0\": \"dc2,out0\",\n",
        "        \"out1\": \"dc2,out1\",\n",
        "    }\n",
        ")\n",
        "\n",
        "mzi_sdict"
      ]
    },
    {
      "cell_type": "markdown",
      "id": "48950a3d",
      "metadata": {
        "papermill": {
          "duration": 0.013804,
          "end_time": "2023-07-01T03:32:14.792846",
          "exception": false,
          "start_time": "2023-07-01T03:32:14.779042",
          "status": "completed"
        },
        "tags": []
      },
      "source": [
        "## Algorithm Walkthrough\n",
        "\n",
        "> Note: This algorithm gets pretty slow for large circuits. I'd be [very interested in any improvements](#Algorithm-Improvements) that can be made here, especially because - as opposed to the currently faster [KLU backend](./07b_backends_klu.ipynb) - the algorithm discussed here is jittable, differentiable and can be used on GPUs."
      ]
    },
    {
      "cell_type": "markdown",
      "id": "81e28766",
      "metadata": {
        "papermill": {
          "duration": 0.014105,
          "end_time": "2023-07-01T03:32:14.812559",
          "exception": false,
          "start_time": "2023-07-01T03:32:14.798454",
          "status": "completed"
        },
        "tags": []
      },
      "source": [
        "Let's walk through all the steps of this algorithm. We'll do this for a simple MZI circuit, given by two directional couplers characterised by `dc_sdense` with a phase shifting waveguide in between `wg_sdict`:"
      ]
    },
    {
      "cell_type": "code",
      "execution_count": 6,
      "id": "e2bdfbf4",
      "metadata": {
        "execution": {
          "iopub.execute_input": "2023-07-01T03:32:14.831011Z",
          "iopub.status.busy": "2023-07-01T03:32:14.830760Z",
          "iopub.status.idle": "2023-07-01T03:32:14.833919Z",
          "shell.execute_reply": "2023-07-01T03:32:14.833528Z"
        },
        "papermill": {
          "duration": 0.011973,
          "end_time": "2023-07-01T03:32:14.835813",
          "exception": false,
          "start_time": "2023-07-01T03:32:14.823840",
          "status": "completed"
        },
        "tags": []
      },
      "outputs": [],
      "source": [
        "instances={\n",
        "    \"dc1\": dc_sdense,\n",
        "    \"wg\": wg_sdict,\n",
        "    \"dc2\": dc_sdense,\n",
        "}\n",
        "connections={\n",
        "    \"dc1,out0\": \"wg,in0\",\n",
        "    \"wg,out0\": \"dc2,in0\",\n",
        "    \"dc1,out1\": \"dc2,in1\",\n",
        "}\n",
        "ports={\n",
        "    \"in0\": \"dc1,in0\",\n",
        "    \"in1\": \"dc1,in1\",\n",
        "    \"out0\": \"dc2,out0\",\n",
        "    \"out1\": \"dc2,out1\",\n",
        "}"
      ]
    },
    {
      "cell_type": "markdown",
      "id": "6ef72161",
      "metadata": {
        "papermill": {
          "duration": 0.005627,
          "end_time": "2023-07-01T03:32:14.847012",
          "exception": false,
          "start_time": "2023-07-01T03:32:14.841385",
          "status": "completed"
        },
        "tags": []
      },
      "source": [
        "as a first step, we construct the `reversed_ports`, it's actually easier to work with `reversed_ports` (we chose the opposite convention in the netlist definition to adhere to the GDSFactory netlist convention):"
      ]
    },
    {
      "cell_type": "code",
      "execution_count": 7,
      "id": "70302612",
      "metadata": {
        "execution": {
          "iopub.execute_input": "2023-07-01T03:32:14.859228Z",
          "iopub.status.busy": "2023-07-01T03:32:14.859024Z",
          "iopub.status.idle": "2023-07-01T03:32:14.861623Z",
          "shell.execute_reply": "2023-07-01T03:32:14.861244Z"
        },
        "papermill": {
          "duration": 0.010785,
          "end_time": "2023-07-01T03:32:14.863409",
          "exception": false,
          "start_time": "2023-07-01T03:32:14.852624",
          "status": "completed"
        },
        "tags": []
      },
      "outputs": [],
      "source": [
        "reversed_ports = {v: k for k, v in ports.items()}"
      ]
    },
    {
      "cell_type": "markdown",
      "id": "78676045",
      "metadata": {
        "papermill": {
          "duration": 0.005614,
          "end_time": "2023-07-01T03:32:14.874906",
          "exception": false,
          "start_time": "2023-07-01T03:32:14.869292",
          "status": "completed"
        },
        "tags": []
      },
      "source": [
        "The first real step of the algorithm is to create the 'block diagonal sdict`:"
      ]
    },
    {
      "cell_type": "code",
      "execution_count": 8,
      "id": "0ff6149f",
      "metadata": {
        "execution": {
          "iopub.execute_input": "2023-07-01T03:32:14.887152Z",
          "iopub.status.busy": "2023-07-01T03:32:14.886965Z",
          "iopub.status.idle": "2023-07-01T03:32:14.915224Z",
          "shell.execute_reply": "2023-07-01T03:32:14.914880Z"
        },
        "papermill": {
          "duration": 0.035845,
          "end_time": "2023-07-01T03:32:14.916531",
          "exception": false,
          "start_time": "2023-07-01T03:32:14.880686",
          "status": "completed"
        },
        "tags": []
      },
      "outputs": [],
      "source": [
        "block_diag = {}\n",
        "for name, S in instances.items():\n",
        "    block_diag.update(\n",
        "        {(f\"{name},{p1}\", f\"{name},{p2}\"): v for (p1, p2), v in sdict(S).items()}\n",
        "    )\n"
      ]
    },
    {
      "cell_type": "markdown",
      "id": "c4721548",
      "metadata": {
        "papermill": {
          "duration": 0.00582,
          "end_time": "2023-07-01T03:32:14.928068",
          "exception": false,
          "start_time": "2023-07-01T03:32:14.922248",
          "status": "completed"
        },
        "tags": []
      },
      "source": [
        "we can optionally filter out zeros from the resulting block_diag representation. Just note that this will make the resuling function unjittable (the resulting 'shape' (i.e. keys) of the dictionary would depend on the data itself, which is not allowed in JAX jit). We're doing it here to avoid printing zeros but **internally this is not done by default**."
      ]
    },
    {
      "cell_type": "code",
      "execution_count": 9,
      "id": "cfce53c1",
      "metadata": {
        "execution": {
          "iopub.execute_input": "2023-07-01T03:32:14.940208Z",
          "iopub.status.busy": "2023-07-01T03:32:14.940020Z",
          "iopub.status.idle": "2023-07-01T03:32:15.013437Z",
          "shell.execute_reply": "2023-07-01T03:32:15.013055Z"
        },
        "papermill": {
          "duration": 0.081134,
          "end_time": "2023-07-01T03:32:15.014846",
          "exception": false,
          "start_time": "2023-07-01T03:32:14.933712",
          "status": "completed"
        },
        "tags": []
      },
      "outputs": [
        {
          "name": "stdout",
          "output_type": "stream",
          "text": [
            "18\n"
          ]
        },
        {
          "data": {
            "text/plain": [
              "{('dc1,in0', 'dc1,out0'): Array(0.70710677+0.j, dtype=complex64),\n",
              " ('dc1,in0', 'dc1,out1'): Array(0.+0.70710677j, dtype=complex64),\n",
              " ('dc1,in1', 'dc1,out0'): Array(0.+0.70710677j, dtype=complex64),\n",
              " ('dc1,in1', 'dc1,out1'): Array(0.70710677+0.j, dtype=complex64),\n",
              " ('dc1,out0', 'dc1,in0'): Array(0.70710677+0.j, dtype=complex64),\n",
              " ('dc1,out0', 'dc1,in1'): Array(0.+0.70710677j, dtype=complex64),\n",
              " ('dc1,out1', 'dc1,in0'): Array(0.+0.70710677j, dtype=complex64),\n",
              " ('dc1,out1', 'dc1,in1'): Array(0.70710677+0.j, dtype=complex64),\n",
              " ('wg,in0', 'wg,out0'): (0.5+0.86603j),\n",
              " ('wg,out0', 'wg,in0'): (0.5+0.86603j),\n",
              " ('dc2,in0', 'dc2,out0'): Array(0.70710677+0.j, dtype=complex64),\n",
              " ('dc2,in0', 'dc2,out1'): Array(0.+0.70710677j, dtype=complex64),\n",
              " ('dc2,in1', 'dc2,out0'): Array(0.+0.70710677j, dtype=complex64),\n",
              " ('dc2,in1', 'dc2,out1'): Array(0.70710677+0.j, dtype=complex64),\n",
              " ('dc2,out0', 'dc2,in0'): Array(0.70710677+0.j, dtype=complex64),\n",
              " ('dc2,out0', 'dc2,in1'): Array(0.+0.70710677j, dtype=complex64),\n",
              " ('dc2,out1', 'dc2,in0'): Array(0.+0.70710677j, dtype=complex64),\n",
              " ('dc2,out1', 'dc2,in1'): Array(0.70710677+0.j, dtype=complex64)}"
            ]
          },
          "execution_count": 9,
          "metadata": {},
          "output_type": "execute_result"
        }
      ],
      "source": [
        "block_diag = {k: v for k, v in block_diag.items() if jnp.abs(v) > 1e-10}\n",
        "print(len(block_diag))\n",
        "block_diag"
      ]
    },
    {
      "cell_type": "markdown",
      "id": "1963694a",
      "metadata": {
        "papermill": {
          "duration": 0.007268,
          "end_time": "2023-07-01T03:32:15.028368",
          "exception": false,
          "start_time": "2023-07-01T03:32:15.021100",
          "status": "completed"
        },
        "tags": []
      },
      "source": [
        "next, we sort the connections such that similar components are grouped together:"
      ]
    },
    {
      "cell_type": "code",
      "execution_count": 10,
      "id": "9859c2d4",
      "metadata": {
        "execution": {
          "iopub.execute_input": "2023-07-01T03:32:15.057235Z",
          "iopub.status.busy": "2023-07-01T03:32:15.057028Z",
          "iopub.status.idle": "2023-07-01T03:32:15.060573Z",
          "shell.execute_reply": "2023-07-01T03:32:15.060204Z"
        },
        "papermill": {
          "duration": 0.020778,
          "end_time": "2023-07-01T03:32:15.063016",
          "exception": false,
          "start_time": "2023-07-01T03:32:15.042238",
          "status": "completed"
        },
        "tags": []
      },
      "outputs": [
        {
          "data": {
            "text/plain": [
              "[('dc1,out1', 'dc2,in1'), ('dc1,out0', 'wg,in0'), ('wg,out0', 'dc2,in0')]"
            ]
          },
          "execution_count": 10,
          "metadata": {},
          "output_type": "execute_result"
        }
      ],
      "source": [
        "sorted_connections = sorted(connections.items(), key=_connections_sort_key)\n",
        "sorted_connections"
      ]
    },
    {
      "cell_type": "markdown",
      "id": "c75fbf65",
      "metadata": {
        "papermill": {
          "duration": 0.006469,
          "end_time": "2023-07-01T03:32:15.075464",
          "exception": false,
          "start_time": "2023-07-01T03:32:15.068995",
          "status": "completed"
        },
        "tags": []
      },
      "source": [
        "Now we iterate over the sorted connections and connect components as they come in. Connected components take over the name of the first component in the connection, but we keep a set of components belonging to that key in `all_connected_instances`.\n",
        "\n",
        "This is how this `all_connected_instances` dictionary looks initially."
      ]
    },
    {
      "cell_type": "code",
      "execution_count": 11,
      "id": "cf30668c",
      "metadata": {
        "execution": {
          "iopub.execute_input": "2023-07-01T03:32:15.092141Z",
          "iopub.status.busy": "2023-07-01T03:32:15.091942Z",
          "iopub.status.idle": "2023-07-01T03:32:15.095327Z",
          "shell.execute_reply": "2023-07-01T03:32:15.094962Z"
        },
        "papermill": {
          "duration": 0.015071,
          "end_time": "2023-07-01T03:32:15.097761",
          "exception": false,
          "start_time": "2023-07-01T03:32:15.082690",
          "status": "completed"
        },
        "tags": []
      },
      "outputs": [
        {
          "data": {
            "text/plain": [
              "{'dc1': {'dc1'}, 'wg': {'wg'}, 'dc2': {'dc2'}}"
            ]
          },
          "execution_count": 11,
          "metadata": {},
          "output_type": "execute_result"
        }
      ],
      "source": [
        "all_connected_instances = {k: {k} for k in instances}\n",
        "all_connected_instances"
      ]
    },
    {
      "cell_type": "markdown",
      "id": "1152056b",
      "metadata": {
        "papermill": {
          "duration": 0.005973,
          "end_time": "2023-07-01T03:32:15.109820",
          "exception": false,
          "start_time": "2023-07-01T03:32:15.103847",
          "status": "completed"
        },
        "tags": []
      },
      "source": [
        "Normally we would loop over every connection in `sorted_connections` now, but let's just go through it once at first:"
      ]
    },
    {
      "cell_type": "code",
      "execution_count": 12,
      "id": "4d99be5cab1edd0d",
      "metadata": {
        "execution": {
          "iopub.execute_input": "2023-07-01T03:32:15.123335Z",
          "iopub.status.busy": "2023-07-01T03:32:15.123149Z",
          "iopub.status.idle": "2023-07-01T03:32:15.126286Z",
          "shell.execute_reply": "2023-07-01T03:32:15.125929Z"
        },
        "papermill": {
          "duration": 0.013344,
          "end_time": "2023-07-01T03:32:15.129311",
          "exception": false,
          "start_time": "2023-07-01T03:32:15.115967",
          "status": "completed"
        },
        "tags": []
      },
      "outputs": [
        {
          "data": {
            "text/plain": [
              "('dc1,out1', 'dc2,in1')"
            ]
          },
          "execution_count": 12,
          "metadata": {},
          "output_type": "execute_result"
        }
      ],
      "source": [
        "# for k, l in sorted_connections:\n",
        "k, l = sorted_connections[0]\n",
        "k, l"
      ]
    },
    {
      "cell_type": "markdown",
      "id": "16a2266c",
      "metadata": {
        "papermill": {
          "duration": 0.009662,
          "end_time": "2023-07-01T03:32:15.153386",
          "exception": false,
          "start_time": "2023-07-01T03:32:15.143724",
          "status": "completed"
        },
        "tags": []
      },
      "source": [
        "`k` and `l` are the S-matrix indices we're trying to connect. Note that in our sparse `SDict` notation these S-matrix indices are in fact equivalent with the port names `('dc1,out1', 'dc2,in1')`!"
      ]
    },
    {
      "cell_type": "markdown",
      "id": "0eaf4add",
      "metadata": {
        "papermill": {
          "duration": 0.006832,
          "end_time": "2023-07-01T03:32:15.178340",
          "exception": false,
          "start_time": "2023-07-01T03:32:15.171508",
          "status": "completed"
        },
        "tags": []
      },
      "source": [
        "first we split the connection string into an instance name and a port name (we don't use the port name yet):"
      ]
    },
    {
      "cell_type": "code",
      "execution_count": 13,
      "id": "667d1a3c",
      "metadata": {
        "execution": {
          "iopub.execute_input": "2023-07-01T03:32:15.208563Z",
          "iopub.status.busy": "2023-07-01T03:32:15.208328Z",
          "iopub.status.idle": "2023-07-01T03:32:15.210962Z",
          "shell.execute_reply": "2023-07-01T03:32:15.210567Z"
        },
        "papermill": {
          "duration": 0.025388,
          "end_time": "2023-07-01T03:32:15.213994",
          "exception": false,
          "start_time": "2023-07-01T03:32:15.188606",
          "status": "completed"
        },
        "tags": []
      },
      "outputs": [],
      "source": [
        "name1, _ = k.split(\",\")\n",
        "name2, _ = l.split(\",\")"
      ]
    },
    {
      "cell_type": "markdown",
      "id": "16e8bbe8",
      "metadata": {
        "papermill": {
          "duration": 0.01487,
          "end_time": "2023-07-01T03:32:15.236635",
          "exception": false,
          "start_time": "2023-07-01T03:32:15.221765",
          "status": "completed"
        },
        "tags": []
      },
      "source": [
        "We then obtain the new set of connected instances."
      ]
    },
    {
      "cell_type": "code",
      "execution_count": 14,
      "id": "51bf8615",
      "metadata": {
        "execution": {
          "iopub.execute_input": "2023-07-01T03:32:15.250022Z",
          "iopub.status.busy": "2023-07-01T03:32:15.249823Z",
          "iopub.status.idle": "2023-07-01T03:32:15.253177Z",
          "shell.execute_reply": "2023-07-01T03:32:15.252815Z"
        },
        "papermill": {
          "duration": 0.012656,
          "end_time": "2023-07-01T03:32:15.255622",
          "exception": false,
          "start_time": "2023-07-01T03:32:15.242966",
          "status": "completed"
        },
        "tags": []
      },
      "outputs": [
        {
          "data": {
            "text/plain": [
              "{'dc1', 'dc2'}"
            ]
          },
          "execution_count": 14,
          "metadata": {},
          "output_type": "execute_result"
        }
      ],
      "source": [
        "connected_instances = all_connected_instances[name1] | all_connected_instances[name2]\n",
        "connected_instances"
      ]
    },
    {
      "cell_type": "markdown",
      "id": "676c8d61",
      "metadata": {
        "papermill": {
          "duration": 0.006275,
          "end_time": "2023-07-01T03:32:15.268146",
          "exception": false,
          "start_time": "2023-07-01T03:32:15.261871",
          "status": "completed"
        },
        "tags": []
      },
      "source": [
        "We then iterate over each of the components in this set and make sure each of the component names in that set maps to that set (yes, I know... confusing). We do this to be able to keep track with which components each of the components in the circuit is currently already connected to."
      ]
    },
    {
      "cell_type": "code",
      "execution_count": 15,
      "id": "d322e86c",
      "metadata": {
        "execution": {
          "iopub.execute_input": "2023-07-01T03:32:15.281759Z",
          "iopub.status.busy": "2023-07-01T03:32:15.281549Z",
          "iopub.status.idle": "2023-07-01T03:32:15.285127Z",
          "shell.execute_reply": "2023-07-01T03:32:15.284749Z"
        },
        "papermill": {
          "duration": 0.013204,
          "end_time": "2023-07-01T03:32:15.287644",
          "exception": false,
          "start_time": "2023-07-01T03:32:15.274440",
          "status": "completed"
        },
        "tags": []
      },
      "outputs": [
        {
          "data": {
            "text/plain": [
              "{'dc1': {'dc1', 'dc2'}, 'wg': {'wg'}, 'dc2': {'dc1', 'dc2'}}"
            ]
          },
          "execution_count": 15,
          "metadata": {},
          "output_type": "execute_result"
        }
      ],
      "source": [
        "for name in connected_instances:\n",
        "    all_connected_instances[name] = connected_instances\n",
        "    \n",
        "all_connected_instances"
      ]
    },
    {
      "cell_type": "markdown",
      "id": "b79f49f8",
      "metadata": {
        "papermill": {
          "duration": 0.006351,
          "end_time": "2023-07-01T03:32:15.300446",
          "exception": false,
          "start_time": "2023-07-01T03:32:15.294095",
          "status": "completed"
        },
        "tags": []
      },
      "source": [
        "now we need to obtain all the ports of the currently connected instances."
      ]
    },
    {
      "cell_type": "code",
      "execution_count": 16,
      "id": "61b3cfab",
      "metadata": {
        "execution": {
          "iopub.execute_input": "2023-07-01T03:32:15.314602Z",
          "iopub.status.busy": "2023-07-01T03:32:15.314295Z",
          "iopub.status.idle": "2023-07-01T03:32:15.318550Z",
          "shell.execute_reply": "2023-07-01T03:32:15.318098Z"
        },
        "papermill": {
          "duration": 0.013774,
          "end_time": "2023-07-01T03:32:15.320929",
          "exception": false,
          "start_time": "2023-07-01T03:32:15.307155",
          "status": "completed"
        },
        "tags": []
      },
      "outputs": [
        {
          "data": {
            "text/plain": [
              "('dc1,out1',\n",
              " 'dc1,in0',\n",
              " 'dc1,in1',\n",
              " 'dc1,out0',\n",
              " 'dc2,in0',\n",
              " 'dc2,out0',\n",
              " 'dc2,out1',\n",
              " 'dc2,in1')"
            ]
          },
          "execution_count": 16,
          "metadata": {},
          "output_type": "execute_result"
        }
      ],
      "source": [
        "current_ports = tuple(\n",
        "    p\n",
        "    for instance in connected_instances\n",
        "    for p in set([p for p, _ in block_diag] + [p for _, p in block_diag])\n",
        "    if p.startswith(f\"{instance},\")\n",
        ")\n",
        "\n",
        "current_ports"
      ]
    },
    {
      "cell_type": "markdown",
      "id": "d0e87449",
      "metadata": {
        "papermill": {
          "duration": 0.014389,
          "end_time": "2023-07-01T03:32:15.343898",
          "exception": false,
          "start_time": "2023-07-01T03:32:15.329509",
          "status": "completed"
        },
        "tags": []
      },
      "source": [
        "Now the [Gunnar Algorithm](#citation) is used. Given a (block-diagonal) 'S-matrix' `block_diag` and a 'connection matrix' `current_ports` we can interconnect port `k` and `l` as follows:\n",
        "\n",
        "> Note: some creative freedom is used here. In SAX, the matrices we're talking about are in fact represented by a sparse dictionary (an `SDict`), i.e. similar to a COO sparse matrix for which the indices are the port names."
      ]
    },
    {
      "cell_type": "code",
      "execution_count": 17,
      "id": "431649e5",
      "metadata": {
        "execution": {
          "iopub.execute_input": "2023-07-01T03:32:15.370611Z",
          "iopub.status.busy": "2023-07-01T03:32:15.370352Z",
          "iopub.status.idle": "2023-07-01T03:32:16.048290Z",
          "shell.execute_reply": "2023-07-01T03:32:16.047833Z"
        },
        "papermill": {
          "duration": 0.692635,
          "end_time": "2023-07-01T03:32:16.049767",
          "exception": false,
          "start_time": "2023-07-01T03:32:15.357132",
          "status": "completed"
        },
        "tags": []
      },
      "outputs": [],
      "source": [
        "def _interconnect_ports(block_diag, current_ports, k, l):\n",
        "    current_block_diag = {}\n",
        "    for i in current_ports:\n",
        "        for j in current_ports:\n",
        "            vij = _calculate_interconnected_value(\n",
        "                vij=block_diag.get((i, j), 0.0),\n",
        "                vik=block_diag.get((i, k), 0.0),\n",
        "                vil=block_diag.get((i, l), 0.0),\n",
        "                vkj=block_diag.get((k, j), 0.0),\n",
        "                vkk=block_diag.get((k, k), 0.0),\n",
        "                vkl=block_diag.get((k, l), 0.0),\n",
        "                vlj=block_diag.get((l, j), 0.0),\n",
        "                vlk=block_diag.get((l, k), 0.0),\n",
        "                vll=block_diag.get((l, l), 0.0),\n",
        "            )\n",
        "            current_block_diag[i, j] = vij\n",
        "    return current_block_diag\n",
        "\n",
        "@jax.jit\n",
        "def _calculate_interconnected_value(vij, vik, vil, vkj, vkk, vkl, vlj, vlk, vll):\n",
        "    result = vij + (\n",
        "        vkj * vil * (1 - vlk)\n",
        "        + vlj * vik * (1 - vkl)\n",
        "        + vkj * vll * vik\n",
        "        + vlj * vkk * vil\n",
        "    ) / ((1 - vkl) * (1 - vlk) - vkk * vll)\n",
        "    return result\n",
        "\n",
        "block_diag.update(_interconnect_ports(block_diag, current_ports, k, l))"
      ]
    },
    {
      "cell_type": "markdown",
      "id": "988c08d9",
      "metadata": {
        "papermill": {
          "duration": 0.013092,
          "end_time": "2023-07-01T03:32:16.069752",
          "exception": false,
          "start_time": "2023-07-01T03:32:16.056660",
          "status": "completed"
        },
        "tags": []
      },
      "source": [
        "Just as before, we're filtering the zeros from the sparse representation (remember, internally this is **not done by default**)."
      ]
    },
    {
      "cell_type": "code",
      "execution_count": 18,
      "id": "e9ac8164",
      "metadata": {
        "execution": {
          "iopub.execute_input": "2023-07-01T03:32:16.096291Z",
          "iopub.status.busy": "2023-07-01T03:32:16.096073Z",
          "iopub.status.idle": "2023-07-01T03:32:16.132827Z",
          "shell.execute_reply": "2023-07-01T03:32:16.132436Z"
        },
        "papermill": {
          "duration": 0.055795,
          "end_time": "2023-07-01T03:32:16.134101",
          "exception": false,
          "start_time": "2023-07-01T03:32:16.078306",
          "status": "completed"
        },
        "tags": []
      },
      "outputs": [
        {
          "name": "stdout",
          "output_type": "stream",
          "text": [
            "26\n"
          ]
        },
        {
          "data": {
            "text/plain": [
              "{('dc1,in0', 'dc1,out0'): Array(0.70710677+0.j, dtype=complex64),\n",
              " ('dc1,in0', 'dc1,out1'): Array(0.+0.70710677j, dtype=complex64),\n",
              " ('dc1,in1', 'dc1,out0'): Array(0.+0.70710677j, dtype=complex64),\n",
              " ('dc1,in1', 'dc1,out1'): Array(0.70710677+0.j, dtype=complex64),\n",
              " ('dc1,out0', 'dc1,in0'): Array(0.70710677+0.j, dtype=complex64),\n",
              " ('dc1,out0', 'dc1,in1'): Array(0.+0.70710677j, dtype=complex64),\n",
              " ('dc1,out1', 'dc1,in0'): Array(0.+0.70710677j, dtype=complex64),\n",
              " ('dc1,out1', 'dc1,in1'): Array(0.70710677+0.j, dtype=complex64),\n",
              " ('wg,in0', 'wg,out0'): (0.5+0.86603j),\n",
              " ('wg,out0', 'wg,in0'): (0.5+0.86603j),\n",
              " ('dc2,in0', 'dc2,out0'): Array(0.70710677+0.j, dtype=complex64),\n",
              " ('dc2,in0', 'dc2,out1'): Array(0.+0.70710677j, dtype=complex64),\n",
              " ('dc2,in1', 'dc2,out0'): Array(0.+0.70710677j, dtype=complex64),\n",
              " ('dc2,in1', 'dc2,out1'): Array(0.70710677+0.j, dtype=complex64),\n",
              " ('dc2,out0', 'dc2,in0'): Array(0.70710677+0.j, dtype=complex64),\n",
              " ('dc2,out0', 'dc2,in1'): Array(0.+0.70710677j, dtype=complex64),\n",
              " ('dc2,out1', 'dc2,in0'): Array(0.+0.70710677j, dtype=complex64),\n",
              " ('dc2,out1', 'dc2,in1'): Array(0.70710677+0.j, dtype=complex64),\n",
              " ('dc1,in0', 'dc2,out0'): Array(-0.49999997+0.j, dtype=complex64),\n",
              " ('dc1,in0', 'dc2,out1'): Array(0.+0.49999997j, dtype=complex64),\n",
              " ('dc1,in1', 'dc2,out0'): Array(0.+0.49999997j, dtype=complex64),\n",
              " ('dc1,in1', 'dc2,out1'): Array(0.49999997+0.j, dtype=complex64),\n",
              " ('dc2,out0', 'dc1,in0'): Array(-0.49999997+0.j, dtype=complex64),\n",
              " ('dc2,out0', 'dc1,in1'): Array(0.+0.49999997j, dtype=complex64),\n",
              " ('dc2,out1', 'dc1,in0'): Array(0.+0.49999997j, dtype=complex64),\n",
              " ('dc2,out1', 'dc1,in1'): Array(0.49999997+0.j, dtype=complex64)}"
            ]
          },
          "execution_count": 18,
          "metadata": {},
          "output_type": "execute_result"
        }
      ],
      "source": [
        "block_diag = {k: v for k, v in block_diag.items() if jnp.abs(v) > 1e-10}\n",
        "print(len(block_diag))\n",
        "block_diag"
      ]
    },
    {
      "cell_type": "markdown",
      "id": "db0cd151",
      "metadata": {
        "papermill": {
          "duration": 0.009047,
          "end_time": "2023-07-01T03:32:16.150036",
          "exception": false,
          "start_time": "2023-07-01T03:32:16.140989",
          "status": "completed"
        },
        "tags": []
      },
      "source": [
        "This is the resulting block-diagonal matrix after interconnecting two ports (i.e. basically saying that those two ports are the same port). Because these ports are now connected we should actually remove them from the S-matrix representation (they are integrated into the S-parameters of the other connections):"
      ]
    },
    {
      "cell_type": "code",
      "execution_count": 19,
      "id": "311b034f",
      "metadata": {
        "execution": {
          "iopub.execute_input": "2023-07-01T03:32:16.180666Z",
          "iopub.status.busy": "2023-07-01T03:32:16.180464Z",
          "iopub.status.idle": "2023-07-01T03:32:16.189161Z",
          "shell.execute_reply": "2023-07-01T03:32:16.188794Z"
        },
        "papermill": {
          "duration": 0.025617,
          "end_time": "2023-07-01T03:32:16.190466",
          "exception": false,
          "start_time": "2023-07-01T03:32:16.164849",
          "status": "completed"
        },
        "tags": []
      },
      "outputs": [
        {
          "name": "stdout",
          "output_type": "stream",
          "text": [
            "18\n"
          ]
        },
        {
          "data": {
            "text/plain": [
              "{('dc1,in0', 'dc1,out0'): Array(0.70710677+0.j, dtype=complex64),\n",
              " ('dc1,in1', 'dc1,out0'): Array(0.+0.70710677j, dtype=complex64),\n",
              " ('dc1,out0', 'dc1,in0'): Array(0.70710677+0.j, dtype=complex64),\n",
              " ('dc1,out0', 'dc1,in1'): Array(0.+0.70710677j, dtype=complex64),\n",
              " ('wg,in0', 'wg,out0'): (0.5+0.86603j),\n",
              " ('wg,out0', 'wg,in0'): (0.5+0.86603j),\n",
              " ('dc2,in0', 'dc2,out0'): Array(0.70710677+0.j, dtype=complex64),\n",
              " ('dc2,in0', 'dc2,out1'): Array(0.+0.70710677j, dtype=complex64),\n",
              " ('dc2,out0', 'dc2,in0'): Array(0.70710677+0.j, dtype=complex64),\n",
              " ('dc2,out1', 'dc2,in0'): Array(0.+0.70710677j, dtype=complex64),\n",
              " ('dc1,in0', 'dc2,out0'): Array(-0.49999997+0.j, dtype=complex64),\n",
              " ('dc1,in0', 'dc2,out1'): Array(0.+0.49999997j, dtype=complex64),\n",
              " ('dc1,in1', 'dc2,out0'): Array(0.+0.49999997j, dtype=complex64),\n",
              " ('dc1,in1', 'dc2,out1'): Array(0.49999997+0.j, dtype=complex64),\n",
              " ('dc2,out0', 'dc1,in0'): Array(-0.49999997+0.j, dtype=complex64),\n",
              " ('dc2,out0', 'dc1,in1'): Array(0.+0.49999997j, dtype=complex64),\n",
              " ('dc2,out1', 'dc1,in0'): Array(0.+0.49999997j, dtype=complex64),\n",
              " ('dc2,out1', 'dc1,in1'): Array(0.49999997+0.j, dtype=complex64)}"
            ]
          },
          "execution_count": 19,
          "metadata": {},
          "output_type": "execute_result"
        }
      ],
      "source": [
        "for i, j in list(block_diag.keys()):\n",
        "    is_connected = i == k or i == l or j == k or j == l\n",
        "    is_in_output_ports = i in reversed_ports and j in reversed_ports\n",
        "    if is_connected and not is_in_output_ports:\n",
        "        del block_diag[i, j]  # we're no longer interested in these port combinations\n",
        "        \n",
        "print(len(block_diag))\n",
        "block_diag"
      ]
    },
    {
      "cell_type": "markdown",
      "id": "b6badcb7",
      "metadata": {
        "papermill": {
          "duration": 0.006935,
          "end_time": "2023-07-01T03:32:16.204490",
          "exception": false,
          "start_time": "2023-07-01T03:32:16.197555",
          "status": "completed"
        },
        "tags": []
      },
      "source": [
        "Note that this deletion of values **does NOT** make this operation un-jittable. The deletion depends on the ports of the dictionary (i.e. on the dictionary 'shape'), not on the values."
      ]
    },
    {
      "cell_type": "markdown",
      "id": "89e775cd",
      "metadata": {
        "papermill": {
          "duration": 0.006878,
          "end_time": "2023-07-01T03:32:16.218271",
          "exception": false,
          "start_time": "2023-07-01T03:32:16.211393",
          "status": "completed"
        },
        "tags": []
      },
      "source": [
        "We now basically have to do those steps again for all other connections:"
      ]
    },
    {
      "cell_type": "code",
      "execution_count": 20,
      "id": "9cb9079ec4c5096b",
      "metadata": {
        "execution": {
          "iopub.execute_input": "2023-07-01T03:32:16.233178Z",
          "iopub.status.busy": "2023-07-01T03:32:16.232976Z",
          "iopub.status.idle": "2023-07-01T03:32:17.879984Z",
          "shell.execute_reply": "2023-07-01T03:32:17.879485Z"
        },
        "papermill": {
          "duration": 1.656446,
          "end_time": "2023-07-01T03:32:17.881711",
          "exception": false,
          "start_time": "2023-07-01T03:32:16.225265",
          "status": "completed"
        },
        "tags": []
      },
      "outputs": [],
      "source": [
        "#for k, l in sorted_connections: \n",
        "for k, l in sorted_connections[1:]: # we just did the first iteration of this loop above...\n",
        "    name1, _ = k.split(\",\")\n",
        "    name2, _ = l.split(\",\")\n",
        "    connected_instances = all_connected_instances[name1] | all_connected_instances[name2]\n",
        "    for name in connected_instances:\n",
        "        all_connected_instances[name] = connected_instances\n",
        "    current_ports = tuple(\n",
        "        p\n",
        "        for instance in connected_instances\n",
        "        for p in set([p for p, _ in block_diag] + [p for _, p in block_diag])\n",
        "        if p.startswith(f\"{instance},\")\n",
        "    )\n",
        "    block_diag.update(_interconnect_ports(block_diag, current_ports, k, l))\n",
        "    for i, j in list(block_diag.keys()):\n",
        "        is_connected = i == k or i == l or j == k or j == l\n",
        "        is_in_output_ports = i in reversed_ports and j in reversed_ports\n",
        "        if is_connected and not is_in_output_ports:\n",
        "            del block_diag[i, j]  # we're no longer interested in these port combinations"
      ]
    },
    {
      "cell_type": "markdown",
      "id": "36eb82fc",
      "metadata": {
        "papermill": {
          "duration": 0.007153,
          "end_time": "2023-07-01T03:32:17.896755",
          "exception": false,
          "start_time": "2023-07-01T03:32:17.889602",
          "status": "completed"
        },
        "tags": []
      },
      "source": [
        "This is the final MZI matrix we're getting:"
      ]
    },
    {
      "cell_type": "code",
      "execution_count": 21,
      "id": "d1c0367e",
      "metadata": {
        "execution": {
          "iopub.execute_input": "2023-07-01T03:32:17.911826Z",
          "iopub.status.busy": "2023-07-01T03:32:17.911601Z",
          "iopub.status.idle": "2023-07-01T03:32:17.918924Z",
          "shell.execute_reply": "2023-07-01T03:32:17.918547Z"
        },
        "papermill": {
          "duration": 0.016935,
          "end_time": "2023-07-01T03:32:17.920708",
          "exception": false,
          "start_time": "2023-07-01T03:32:17.903773",
          "status": "completed"
        },
        "tags": []
      },
      "outputs": [
        {
          "data": {
            "text/plain": [
              "{('dc1,in0', 'dc2,out0'): Array(-0.24999999+0.433015j, dtype=complex64),\n",
              " ('dc1,in0', 'dc2,out1'): Array(-0.433015+0.74999994j, dtype=complex64),\n",
              " ('dc1,in1', 'dc2,out0'): Array(-0.433015+0.74999994j, dtype=complex64),\n",
              " ('dc1,in1', 'dc2,out1'): Array(0.24999999-0.433015j, dtype=complex64),\n",
              " ('dc2,out0', 'dc1,in0'): Array(-0.24999999+0.433015j, dtype=complex64),\n",
              " ('dc2,out0', 'dc1,in1'): Array(-0.433015+0.74999994j, dtype=complex64),\n",
              " ('dc2,out1', 'dc1,in0'): Array(-0.433015+0.74999994j, dtype=complex64),\n",
              " ('dc2,out1', 'dc1,in1'): Array(0.24999999-0.433015j, dtype=complex64),\n",
              " ('dc1,in0', 'dc1,in0'): Array(0.+0.j, dtype=complex64),\n",
              " ('dc1,in0', 'dc1,in1'): Array(0.+0.j, dtype=complex64),\n",
              " ('dc1,in1', 'dc1,in0'): Array(0.+0.j, dtype=complex64),\n",
              " ('dc1,in1', 'dc1,in1'): Array(0.+0.j, dtype=complex64),\n",
              " ('dc2,out0', 'dc2,out0'): Array(0.+0.j, dtype=complex64),\n",
              " ('dc2,out0', 'dc2,out1'): Array(0.+0.j, dtype=complex64),\n",
              " ('dc2,out1', 'dc2,out0'): Array(0.+0.j, dtype=complex64),\n",
              " ('dc2,out1', 'dc2,out1'): Array(0.+0.j, dtype=complex64)}"
            ]
          },
          "execution_count": 21,
          "metadata": {},
          "output_type": "execute_result"
        }
      ],
      "source": [
        "block_diag"
      ]
    },
    {
      "cell_type": "markdown",
      "id": "03f67ec6",
      "metadata": {
        "papermill": {
          "duration": 0.007045,
          "end_time": "2023-07-01T03:32:17.935537",
          "exception": false,
          "start_time": "2023-07-01T03:32:17.928492",
          "status": "completed"
        },
        "tags": []
      },
      "source": [
        "All that's left is to rename these internal ports of the format `{instance},{port}` into output ports of the resulting circuit:"
      ]
    },
    {
      "cell_type": "code",
      "execution_count": 22,
      "id": "cf5ea4af",
      "metadata": {
        "execution": {
          "iopub.execute_input": "2023-07-01T03:32:17.962409Z",
          "iopub.status.busy": "2023-07-01T03:32:17.962220Z",
          "iopub.status.idle": "2023-07-01T03:32:17.968651Z",
          "shell.execute_reply": "2023-07-01T03:32:17.968289Z"
        },
        "papermill": {
          "duration": 0.030649,
          "end_time": "2023-07-01T03:32:17.976069",
          "exception": false,
          "start_time": "2023-07-01T03:32:17.945420",
          "status": "completed"
        },
        "tags": []
      },
      "outputs": [
        {
          "data": {
            "text/plain": [
              "{('in0', 'out0'): Array(-0.24999999+0.433015j, dtype=complex64),\n",
              " ('in0', 'out1'): Array(-0.433015+0.74999994j, dtype=complex64),\n",
              " ('in1', 'out0'): Array(-0.433015+0.74999994j, dtype=complex64),\n",
              " ('in1', 'out1'): Array(0.24999999-0.433015j, dtype=complex64),\n",
              " ('out0', 'in0'): Array(-0.24999999+0.433015j, dtype=complex64),\n",
              " ('out0', 'in1'): Array(-0.433015+0.74999994j, dtype=complex64),\n",
              " ('out1', 'in0'): Array(-0.433015+0.74999994j, dtype=complex64),\n",
              " ('out1', 'in1'): Array(0.24999999-0.433015j, dtype=complex64),\n",
              " ('in0', 'in0'): Array(0.+0.j, dtype=complex64),\n",
              " ('in0', 'in1'): Array(0.+0.j, dtype=complex64),\n",
              " ('in1', 'in0'): Array(0.+0.j, dtype=complex64),\n",
              " ('in1', 'in1'): Array(0.+0.j, dtype=complex64),\n",
              " ('out0', 'out0'): Array(0.+0.j, dtype=complex64),\n",
              " ('out0', 'out1'): Array(0.+0.j, dtype=complex64),\n",
              " ('out1', 'out0'): Array(0.+0.j, dtype=complex64),\n",
              " ('out1', 'out1'): Array(0.+0.j, dtype=complex64)}"
            ]
          },
          "execution_count": 22,
          "metadata": {},
          "output_type": "execute_result"
        }
      ],
      "source": [
        "circuit_sdict: SDict = {\n",
        "    (reversed_ports[i], reversed_ports[j]): v\n",
        "    for (i, j), v in block_diag.items()\n",
        "    if i in reversed_ports and j in reversed_ports\n",
        "}\n",
        "circuit_sdict"
      ]
    },
    {
      "cell_type": "markdown",
      "id": "7dc6505e",
      "metadata": {
        "papermill": {
          "duration": 0.014795,
          "end_time": "2023-07-01T03:32:18.002854",
          "exception": false,
          "start_time": "2023-07-01T03:32:17.988059",
          "status": "completed"
        },
        "tags": []
      },
      "source": [
        "And that's it. We evaluated the `SDict` of the full circuit."
      ]
    },
    {
      "cell_type": "markdown",
      "id": "170db10b",
      "metadata": {
        "papermill": {
          "duration": 0.011157,
          "end_time": "2023-07-01T03:32:18.033654",
          "exception": false,
          "start_time": "2023-07-01T03:32:18.022497",
          "status": "completed"
        },
        "tags": []
      },
      "source": [
        "## Algorithm Improvements"
      ]
    },
    {
      "cell_type": "markdown",
      "id": "4ed0e69a",
      "metadata": {
        "papermill": {
          "duration": 0.015096,
          "end_time": "2023-07-01T03:32:18.064802",
          "exception": false,
          "start_time": "2023-07-01T03:32:18.049706",
          "status": "completed"
        },
        "tags": []
      },
      "source": [
        "This algorithm is \n",
        "\n",
        "* pretty fast for small circuits \ud83d\ude42\n",
        "* jittable \ud83d\ude42\n",
        "* differentiable \ud83d\ude42\n",
        "* GPU-compatible \ud83d\ude42\n",
        "\n",
        "This algorithm is however:\n",
        "\n",
        "* **really slow** for large circuits \ud83d\ude25\n",
        "* **pretty slow** to jit the resulting circuit function \ud83d\ude25\n",
        "* **pretty slow** to differentiate the resulting circuit function \ud83d\ude25\n",
        "\n",
        "There are probably still plenty of improvements possible for this algorithm:\n",
        "\n",
        "* **\u00bf** Network analysis (ft. NetworkX ?) to obtain which ports of the block diagonal representation are relevant to obtain the output connection **?**\n",
        "* **\u00bf** Smarter ordering of connections to always have the minimum amount of ports in the intermediate block-diagonal representation **?**\n",
        "* **\u00bf** Using `jax.lax.scan` in stead of python native for-loops in `_interconnect_ports` **?**\n",
        "* **\u00bf** ... **?**\n",
        "\n",
        "Bottom line is... Do you know how to improve this algorithm or how to implement the above suggestions? Please open a Merge Request!"
      ]
    }
  ],
  "metadata": {
    "kernelspec": {
      "display_name": "sax",
      "language": "python",
      "name": "sax"
    },
    "language_info": {
      "codemirror_mode": {
        "name": "ipython",
        "version": 3
      },
      "file_extension": ".py",
      "mimetype": "text/x-python",
      "name": "python",
      "nbconvert_exporter": "python",
      "pygments_lexer": "ipython3",
      "version": "3.11.4"
    },
    "papermill": {
      "default_parameters": {},
      "duration": 7.742979,
      "end_time": "2023-07-01T03:32:18.596507",
      "environment_variables": {},
      "exception": null,
      "input_path": "./nbs/08a_backends_default.ipynb",
      "output_path": "./nbs/08a_backends_default.ipynb",
      "parameters": {},
      "start_time": "2023-07-01T03:32:10.853528",
      "version": "2.3.4"
    }
  },
  "nbformat": 4,
  "nbformat_minor": 5
}