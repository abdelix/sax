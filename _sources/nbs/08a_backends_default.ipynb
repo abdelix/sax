{
  "cells": [
    {
      "cell_type": "code",
      "execution_count": 1,
      "id": "3c6d5a0608920232",
      "metadata": {
        "execution": {
          "iopub.execute_input": "2023-06-01T21:32:58.884905Z",
          "iopub.status.busy": "2023-06-01T21:32:58.884664Z",
          "iopub.status.idle": "2023-06-01T21:32:58.887818Z",
          "shell.execute_reply": "2023-06-01T21:32:58.887314Z"
        },
        "papermill": {
          "duration": 0.012437,
          "end_time": "2023-06-01T21:32:58.889933",
          "exception": false,
          "start_time": "2023-06-01T21:32:58.877496",
          "status": "completed"
        },
        "tags": [
          "remove-cell"
        ]
      },
      "outputs": [],
      "source": []
    },
    {
      "cell_type": "markdown",
      "id": "41e0d311",
      "metadata": {
        "papermill": {
          "duration": 0.0049,
          "end_time": "2023-06-01T21:32:58.900125",
          "exception": false,
          "start_time": "2023-06-01T21:32:58.895225",
          "status": "completed"
        },
        "tags": []
      },
      "source": [
        "# Backend - default\n",
        "\n",
        "> Default SAX Backend"
      ]
    },
    {
      "cell_type": "code",
      "execution_count": 2,
      "id": "1e9f7d6394db180e",
      "metadata": {
        "execution": {
          "iopub.execute_input": "2023-06-01T21:32:58.910895Z",
          "iopub.status.busy": "2023-06-01T21:32:58.910706Z",
          "iopub.status.idle": "2023-06-01T21:32:58.915406Z",
          "shell.execute_reply": "2023-06-01T21:32:58.915054Z"
        },
        "papermill": {
          "duration": 0.012028,
          "end_time": "2023-06-01T21:32:58.917126",
          "exception": false,
          "start_time": "2023-06-01T21:32:58.905098",
          "status": "completed"
        },
        "tags": [
          "remove-cell"
        ]
      },
      "outputs": [],
      "source": [
        "import os, sys; sys.stderr = open(os.devnull, \"w\")"
      ]
    },
    {
      "cell_type": "code",
      "execution_count": 3,
      "id": "5fc36e1e38000b6c",
      "metadata": {
        "execution": {
          "iopub.execute_input": "2023-06-01T21:32:58.927997Z",
          "iopub.status.busy": "2023-06-01T21:32:58.927818Z",
          "iopub.status.idle": "2023-06-01T21:32:59.751699Z",
          "shell.execute_reply": "2023-06-01T21:32:59.751278Z"
        },
        "papermill": {
          "duration": 0.831047,
          "end_time": "2023-06-01T21:32:59.753300",
          "exception": false,
          "start_time": "2023-06-01T21:32:58.922253",
          "status": "completed"
        },
        "tags": [
          "hide-input"
        ]
      },
      "outputs": [],
      "source": [
        "from __future__ import annotations\n",
        "\n",
        "import warnings\n",
        "from types import SimpleNamespace\n",
        "from typing import Dict\n",
        "\n",
        "try:\n",
        "    import jax\n",
        "    import jax.numpy as jnp\n",
        "    JAX_AVAILABLE = True\n",
        "except ImportError:\n",
        "    import numpy as jnp\n",
        "    def jit(func, *args, **kwargs):\n",
        "        warnings.warn(\"[NO JAX] skipping jit! Please install JAX!\")\n",
        "        return func\n",
        "    \n",
        "    jax = SimpleNamespace(jit=jit)\n",
        "    JAX_AVAILABLE = False\n",
        "    \n",
        "from sax.typing_ import SDict, SType, SDense, sdict"
      ]
    },
    {
      "cell_type": "markdown",
      "id": "d8369d2f-9109-4375-8cb4-6d7ccabbd356",
      "metadata": {
        "papermill": {
          "duration": 0.005039,
          "end_time": "2023-06-01T21:32:59.763758",
          "exception": false,
          "start_time": "2023-06-01T21:32:59.758719",
          "status": "completed"
        },
        "tags": []
      },
      "source": [
        "## Citation\n",
        "The default SAX backend is based on the following paper:\n",
        "\n",
        "> Filipsson, Gunnar. \"*A new general computer algorithm for S-matrix calculation of interconnected multiports.*\" 11th European Microwave Conference. IEEE, 1981."
      ]
    },
    {
      "cell_type": "markdown",
      "id": "feea9c4f-0528-44e0-8e87-91234c6d29cc",
      "metadata": {
        "papermill": {
          "duration": 0.00492,
          "end_time": "2023-06-01T21:32:59.773700",
          "exception": false,
          "start_time": "2023-06-01T21:32:59.768780",
          "status": "completed"
        },
        "tags": []
      },
      "source": [
        "## Circuit Evaluation"
      ]
    },
    {
      "cell_type": "markdown",
      "id": "94f9fed21fbc56ac",
      "metadata": {},
      "source": [
        ":::{eval-rst}\n",
        ".. autofunction:: sax.backends.default.evaluate_circuit\n",
        ":::\n"
      ]
    },
    {
      "cell_type": "code",
      "execution_count": 4,
      "id": "b854d92c9a931413",
      "metadata": {
        "execution": {
          "iopub.execute_input": "2023-06-01T21:32:59.785196Z",
          "iopub.status.busy": "2023-06-01T21:32:59.784757Z",
          "iopub.status.idle": "2023-06-01T21:32:59.796802Z",
          "shell.execute_reply": "2023-06-01T21:32:59.796433Z"
        },
        "papermill": {
          "duration": 0.019257,
          "end_time": "2023-06-01T21:32:59.797976",
          "exception": false,
          "start_time": "2023-06-01T21:32:59.778719",
          "status": "completed"
        },
        "tags": [
          "hide-input"
        ]
      },
      "outputs": [],
      "source": [
        "\n",
        "def evaluate_circuit(\n",
        "    instances: Dict[str, SType],\n",
        "    connections: Dict[str, str],\n",
        "    ports: Dict[str, str],\n",
        ") -> SDict:\n",
        "    \"\"\"evaluate a circuit for the given sdicts.\"\"\"\n",
        "    \n",
        "    # it's actually easier working w reverse:\n",
        "    reversed_ports = {v: k for k, v in ports.items()}\n",
        "\n",
        "    block_diag = {}\n",
        "    for name, S in instances.items():\n",
        "        block_diag.update(\n",
        "            {(f\"{name},{p1}\", f\"{name},{p2}\"): v for (p1, p2), v in sdict(S).items()}\n",
        "        )\n",
        "\n",
        "    sorted_connections = sorted(connections.items(), key=_connections_sort_key)\n",
        "    all_connected_instances = {k: {k} for k in instances}\n",
        "\n",
        "    for k, l in sorted_connections:\n",
        "        name1, _ = k.split(\",\")\n",
        "        name2, _ = l.split(\",\")\n",
        "\n",
        "        connected_instances = (\n",
        "            all_connected_instances[name1] | all_connected_instances[name2]\n",
        "        )\n",
        "        for name in connected_instances:\n",
        "            all_connected_instances[name] = connected_instances\n",
        "\n",
        "        current_ports = tuple(\n",
        "            p\n",
        "            for instance in connected_instances\n",
        "            for p in set([p for p, _ in block_diag] + [p for _, p in block_diag])\n",
        "            if p.startswith(f\"{instance},\")\n",
        "        )\n",
        "\n",
        "        block_diag.update(_interconnect_ports(block_diag, current_ports, k, l))\n",
        "\n",
        "        for i, j in list(block_diag.keys()):\n",
        "            is_connected = i == k or i == l or j == k or j == l\n",
        "            is_in_output_ports = i in reversed_ports and j in reversed_ports\n",
        "            if is_connected and not is_in_output_ports:\n",
        "                del block_diag[i, j]  # we're no longer interested in these port combinations\n",
        "\n",
        "    circuit_sdict: SDict = {\n",
        "        (reversed_ports[i], reversed_ports[j]): v\n",
        "        for (i, j), v in block_diag.items()\n",
        "        if i in reversed_ports and j in reversed_ports\n",
        "    }\n",
        "    return circuit_sdict\n",
        "\n",
        "\n",
        "def _connections_sort_key(connection):\n",
        "    \"\"\"sort key for sorting a connection dictionary \"\"\"\n",
        "    part1, part2 = connection\n",
        "    name1, _ = part1.split(\",\")\n",
        "    name2, _ = part2.split(\",\")\n",
        "    return (min(name1, name2), max(name1, name2))\n",
        "\n",
        "\n",
        "def _interconnect_ports(block_diag, current_ports, k, l):\n",
        "    \"\"\"interconnect two ports in a given model\n",
        "\n",
        "    > Note: the interconnect algorithm is based on equation 6 of 'Filipsson, Gunnar. \n",
        "      \"A new general computer algorithm for S-matrix calculation of interconnected \n",
        "      multiports.\" 11th European Microwave Conference. IEEE, 1981.'\n",
        "    \"\"\"\n",
        "    current_block_diag = {}\n",
        "    for i in current_ports:\n",
        "        for j in current_ports:\n",
        "            vij = _calculate_interconnected_value(\n",
        "                vij=block_diag.get((i, j), 0.0),\n",
        "                vik=block_diag.get((i, k), 0.0),\n",
        "                vil=block_diag.get((i, l), 0.0),\n",
        "                vkj=block_diag.get((k, j), 0.0),\n",
        "                vkk=block_diag.get((k, k), 0.0),\n",
        "                vkl=block_diag.get((k, l), 0.0),\n",
        "                vlj=block_diag.get((l, j), 0.0),\n",
        "                vlk=block_diag.get((l, k), 0.0),\n",
        "                vll=block_diag.get((l, l), 0.0),\n",
        "            )\n",
        "            current_block_diag[i, j] = vij\n",
        "    return current_block_diag\n",
        "\n",
        "\n",
        "@jax.jit\n",
        "def _calculate_interconnected_value(vij, vik, vil, vkj, vkk, vkl, vlj, vlk, vll):\n",
        "    \"\"\"Calculate an interconnected S-parameter value\n",
        "\n",
        "    Note:\n",
        "        The interconnect algorithm is based on equation 6 in the paper below::\n",
        "\n",
        "          Filipsson, Gunnar. \"A new general computer algorithm for S-matrix calculation\n",
        "          of interconnected multiports.\" 11th European Microwave Conference. IEEE, 1981.\n",
        "    \"\"\"\n",
        "    result = vij + (\n",
        "        vkj * vil * (1 - vlk)\n",
        "        + vlj * vik * (1 - vkl)\n",
        "        + vkj * vll * vik\n",
        "        + vlj * vkk * vil\n",
        "    ) / ((1 - vkl) * (1 - vlk) - vkk * vll)\n",
        "    return result"
      ]
    },
    {
      "cell_type": "markdown",
      "id": "9dabee38",
      "metadata": {
        "papermill": {
          "duration": 0.00505,
          "end_time": "2023-06-01T21:32:59.808232",
          "exception": false,
          "start_time": "2023-06-01T21:32:59.803182",
          "status": "completed"
        },
        "tags": []
      },
      "source": [
        "## Example"
      ]
    },
    {
      "cell_type": "code",
      "execution_count": 5,
      "id": "5ab7ea6c",
      "metadata": {
        "execution": {
          "iopub.execute_input": "2023-06-01T21:32:59.819524Z",
          "iopub.status.busy": "2023-06-01T21:32:59.819218Z",
          "iopub.status.idle": "2023-06-01T21:33:00.592514Z",
          "shell.execute_reply": "2023-06-01T21:33:00.592128Z"
        },
        "papermill": {
          "duration": 0.780408,
          "end_time": "2023-06-01T21:33:00.593729",
          "exception": false,
          "start_time": "2023-06-01T21:32:59.813321",
          "status": "completed"
        },
        "tags": []
      },
      "outputs": [
        {
          "data": {
            "text/plain": [
              "{('in0', 'in0'): Array(0.+0.j, dtype=complex64),\n",
              " ('in0', 'in1'): Array(0.+0.j, dtype=complex64),\n",
              " ('in1', 'in0'): Array(0.+0.j, dtype=complex64),\n",
              " ('in1', 'in1'): Array(0.+0.j, dtype=complex64),\n",
              " ('out0', 'out0'): Array(0.+0.j, dtype=complex64),\n",
              " ('out0', 'out1'): Array(0.+0.j, dtype=complex64),\n",
              " ('out1', 'out0'): Array(0.+0.j, dtype=complex64),\n",
              " ('out1', 'out1'): Array(0.+0.j, dtype=complex64),\n",
              " ('out1', 'in1'): Array(0.24999999-0.433015j, dtype=complex64),\n",
              " ('out1', 'in0'): Array(-0.433015+0.74999994j, dtype=complex64),\n",
              " ('out0', 'in1'): Array(-0.433015+0.74999994j, dtype=complex64),\n",
              " ('out0', 'in0'): Array(-0.24999999+0.433015j, dtype=complex64),\n",
              " ('in1', 'out1'): Array(0.24999999-0.433015j, dtype=complex64),\n",
              " ('in1', 'out0'): Array(-0.433015+0.74999994j, dtype=complex64),\n",
              " ('in0', 'out1'): Array(-0.433015+0.74999994j, dtype=complex64),\n",
              " ('in0', 'out0'): Array(-0.24999999+0.433015j, dtype=complex64)}"
            ]
          },
          "execution_count": 5,
          "metadata": {},
          "output_type": "execute_result"
        }
      ],
      "source": [
        "wg_sdict: SDict = {\n",
        "    (\"in0\", \"out0\"): 0.5 + 0.86603j,\n",
        "    (\"out0\", \"in0\"): 0.5 + 0.86603j,\n",
        "}\n",
        "\n",
        "\u03c4, \u03ba = 0.5 ** 0.5, 1j * 0.5 ** 0.5\n",
        "dc_sdense: SDense = (\n",
        "    jnp.array([[0, 0, \u03c4, \u03ba], \n",
        "               [0, 0, \u03ba, \u03c4], \n",
        "               [\u03c4, \u03ba, 0, 0], \n",
        "               [\u03ba, \u03c4, 0, 0]]),\n",
        "    {\"in0\": 0, \"in1\": 1, \"out0\": 2, \"out1\": 3},\n",
        ")\n",
        "\n",
        "mzi_sdict: SDict = evaluate_circuit(\n",
        "    instances={\n",
        "        \"dc1\": dc_sdense,\n",
        "        \"wg\": wg_sdict,\n",
        "        \"dc2\": dc_sdense,\n",
        "    },\n",
        "    connections={\n",
        "        \"dc1,out0\": \"wg,in0\",\n",
        "        \"wg,out0\": \"dc2,in0\",\n",
        "        \"dc1,out1\": \"dc2,in1\",\n",
        "    },\n",
        "    ports={\n",
        "        \"in0\": \"dc1,in0\",\n",
        "        \"in1\": \"dc1,in1\",\n",
        "        \"out0\": \"dc2,out0\",\n",
        "        \"out1\": \"dc2,out1\",\n",
        "    }\n",
        ")\n",
        "\n",
        "mzi_sdict"
      ]
    },
    {
      "cell_type": "markdown",
      "id": "48950a3d",
      "metadata": {
        "papermill": {
          "duration": 0.005221,
          "end_time": "2023-06-01T21:33:00.604972",
          "exception": false,
          "start_time": "2023-06-01T21:33:00.599751",
          "status": "completed"
        },
        "tags": []
      },
      "source": [
        "## Algorithm Walkthrough\n",
        "\n",
        "> Note: This algorithm gets pretty slow for large circuits. I'd be [very interested in any improvements](#Algorithm-Improvements) that can be made here, especially because - as opposed to the currently faster [KLU backend](./07b_backends_klu.ipynb) - the algorithm discussed here is jittable, differentiable and can be used on GPUs."
      ]
    },
    {
      "cell_type": "markdown",
      "id": "81e28766",
      "metadata": {
        "papermill": {
          "duration": 0.005134,
          "end_time": "2023-06-01T21:33:00.615341",
          "exception": false,
          "start_time": "2023-06-01T21:33:00.610207",
          "status": "completed"
        },
        "tags": []
      },
      "source": [
        "Let's walk through all the steps of this algorithm. We'll do this for a simple MZI circuit, given by two directional couplers characterised by `dc_sdense` with a phase shifting waveguide in between `wg_sdict`:"
      ]
    },
    {
      "cell_type": "code",
      "execution_count": 6,
      "id": "e2bdfbf4",
      "metadata": {
        "execution": {
          "iopub.execute_input": "2023-06-01T21:33:00.627026Z",
          "iopub.status.busy": "2023-06-01T21:33:00.626690Z",
          "iopub.status.idle": "2023-06-01T21:33:00.629896Z",
          "shell.execute_reply": "2023-06-01T21:33:00.629539Z"
        },
        "papermill": {
          "duration": 0.010812,
          "end_time": "2023-06-01T21:33:00.631341",
          "exception": false,
          "start_time": "2023-06-01T21:33:00.620529",
          "status": "completed"
        },
        "tags": []
      },
      "outputs": [],
      "source": [
        "instances={\n",
        "    \"dc1\": dc_sdense,\n",
        "    \"wg\": wg_sdict,\n",
        "    \"dc2\": dc_sdense,\n",
        "}\n",
        "connections={\n",
        "    \"dc1,out0\": \"wg,in0\",\n",
        "    \"wg,out0\": \"dc2,in0\",\n",
        "    \"dc1,out1\": \"dc2,in1\",\n",
        "}\n",
        "ports={\n",
        "    \"in0\": \"dc1,in0\",\n",
        "    \"in1\": \"dc1,in1\",\n",
        "    \"out0\": \"dc2,out0\",\n",
        "    \"out1\": \"dc2,out1\",\n",
        "}"
      ]
    },
    {
      "cell_type": "markdown",
      "id": "6ef72161",
      "metadata": {
        "papermill": {
          "duration": 0.005244,
          "end_time": "2023-06-01T21:33:00.641867",
          "exception": false,
          "start_time": "2023-06-01T21:33:00.636623",
          "status": "completed"
        },
        "tags": []
      },
      "source": [
        "as a first step, we construct the `reversed_ports`, it's actually easier to work with `reversed_ports` (we chose the opposite convention in the netlist definition to adhere to the GDSFactory netlist convention):"
      ]
    },
    {
      "cell_type": "code",
      "execution_count": 7,
      "id": "70302612",
      "metadata": {
        "execution": {
          "iopub.execute_input": "2023-06-01T21:33:00.653489Z",
          "iopub.status.busy": "2023-06-01T21:33:00.653260Z",
          "iopub.status.idle": "2023-06-01T21:33:00.656026Z",
          "shell.execute_reply": "2023-06-01T21:33:00.655630Z"
        },
        "papermill": {
          "duration": 0.010685,
          "end_time": "2023-06-01T21:33:00.657820",
          "exception": false,
          "start_time": "2023-06-01T21:33:00.647135",
          "status": "completed"
        },
        "tags": []
      },
      "outputs": [],
      "source": [
        "reversed_ports = {v: k for k, v in ports.items()}"
      ]
    },
    {
      "cell_type": "markdown",
      "id": "78676045",
      "metadata": {
        "papermill": {
          "duration": 0.005169,
          "end_time": "2023-06-01T21:33:00.668245",
          "exception": false,
          "start_time": "2023-06-01T21:33:00.663076",
          "status": "completed"
        },
        "tags": []
      },
      "source": [
        "The first real step of the algorithm is to create the 'block diagonal sdict`:"
      ]
    },
    {
      "cell_type": "code",
      "execution_count": 8,
      "id": "0ff6149f",
      "metadata": {
        "execution": {
          "iopub.execute_input": "2023-06-01T21:33:00.679653Z",
          "iopub.status.busy": "2023-06-01T21:33:00.679438Z",
          "iopub.status.idle": "2023-06-01T21:33:00.707437Z",
          "shell.execute_reply": "2023-06-01T21:33:00.707050Z"
        },
        "papermill": {
          "duration": 0.035437,
          "end_time": "2023-06-01T21:33:00.708893",
          "exception": false,
          "start_time": "2023-06-01T21:33:00.673456",
          "status": "completed"
        },
        "tags": []
      },
      "outputs": [],
      "source": [
        "block_diag = {}\n",
        "for name, S in instances.items():\n",
        "    block_diag.update(\n",
        "        {(f\"{name},{p1}\", f\"{name},{p2}\"): v for (p1, p2), v in sdict(S).items()}\n",
        "    )\n"
      ]
    },
    {
      "cell_type": "markdown",
      "id": "c4721548",
      "metadata": {
        "papermill": {
          "duration": 0.00528,
          "end_time": "2023-06-01T21:33:00.720086",
          "exception": false,
          "start_time": "2023-06-01T21:33:00.714806",
          "status": "completed"
        },
        "tags": []
      },
      "source": [
        "we can optionally filter out zeros from the resulting block_diag representation. Just note that this will make the resuling function unjittable (the resulting 'shape' (i.e. keys) of the dictionary would depend on the data itself, which is not allowed in JAX jit). We're doing it here to avoid printing zeros but **internally this is not done by default**."
      ]
    },
    {
      "cell_type": "code",
      "execution_count": 9,
      "id": "cfce53c1",
      "metadata": {
        "execution": {
          "iopub.execute_input": "2023-06-01T21:33:00.731551Z",
          "iopub.status.busy": "2023-06-01T21:33:00.731334Z",
          "iopub.status.idle": "2023-06-01T21:33:00.789281Z",
          "shell.execute_reply": "2023-06-01T21:33:00.788911Z"
        },
        "papermill": {
          "duration": 0.065309,
          "end_time": "2023-06-01T21:33:00.790653",
          "exception": false,
          "start_time": "2023-06-01T21:33:00.725344",
          "status": "completed"
        },
        "tags": []
      },
      "outputs": [
        {
          "name": "stdout",
          "output_type": "stream",
          "text": [
            "18\n"
          ]
        },
        {
          "data": {
            "text/plain": [
              "{('dc1,in0', 'dc1,out0'): Array(0.70710677+0.j, dtype=complex64),\n",
              " ('dc1,in0', 'dc1,out1'): Array(0.+0.70710677j, dtype=complex64),\n",
              " ('dc1,in1', 'dc1,out0'): Array(0.+0.70710677j, dtype=complex64),\n",
              " ('dc1,in1', 'dc1,out1'): Array(0.70710677+0.j, dtype=complex64),\n",
              " ('dc1,out0', 'dc1,in0'): Array(0.70710677+0.j, dtype=complex64),\n",
              " ('dc1,out0', 'dc1,in1'): Array(0.+0.70710677j, dtype=complex64),\n",
              " ('dc1,out1', 'dc1,in0'): Array(0.+0.70710677j, dtype=complex64),\n",
              " ('dc1,out1', 'dc1,in1'): Array(0.70710677+0.j, dtype=complex64),\n",
              " ('wg,in0', 'wg,out0'): (0.5+0.86603j),\n",
              " ('wg,out0', 'wg,in0'): (0.5+0.86603j),\n",
              " ('dc2,in0', 'dc2,out0'): Array(0.70710677+0.j, dtype=complex64),\n",
              " ('dc2,in0', 'dc2,out1'): Array(0.+0.70710677j, dtype=complex64),\n",
              " ('dc2,in1', 'dc2,out0'): Array(0.+0.70710677j, dtype=complex64),\n",
              " ('dc2,in1', 'dc2,out1'): Array(0.70710677+0.j, dtype=complex64),\n",
              " ('dc2,out0', 'dc2,in0'): Array(0.70710677+0.j, dtype=complex64),\n",
              " ('dc2,out0', 'dc2,in1'): Array(0.+0.70710677j, dtype=complex64),\n",
              " ('dc2,out1', 'dc2,in0'): Array(0.+0.70710677j, dtype=complex64),\n",
              " ('dc2,out1', 'dc2,in1'): Array(0.70710677+0.j, dtype=complex64)}"
            ]
          },
          "execution_count": 9,
          "metadata": {},
          "output_type": "execute_result"
        }
      ],
      "source": [
        "block_diag = {k: v for k, v in block_diag.items() if jnp.abs(v) > 1e-10}\n",
        "print(len(block_diag))\n",
        "block_diag"
      ]
    },
    {
      "cell_type": "markdown",
      "id": "1963694a",
      "metadata": {
        "papermill": {
          "duration": 0.005726,
          "end_time": "2023-06-01T21:33:00.802053",
          "exception": false,
          "start_time": "2023-06-01T21:33:00.796327",
          "status": "completed"
        },
        "tags": []
      },
      "source": [
        "next, we sort the connections such that similar components are grouped together:"
      ]
    },
    {
      "cell_type": "code",
      "execution_count": 10,
      "id": "9859c2d4",
      "metadata": {
        "execution": {
          "iopub.execute_input": "2023-06-01T21:33:00.813871Z",
          "iopub.status.busy": "2023-06-01T21:33:00.813660Z",
          "iopub.status.idle": "2023-06-01T21:33:00.817189Z",
          "shell.execute_reply": "2023-06-01T21:33:00.816814Z"
        },
        "papermill": {
          "duration": 0.012072,
          "end_time": "2023-06-01T21:33:00.819583",
          "exception": false,
          "start_time": "2023-06-01T21:33:00.807511",
          "status": "completed"
        },
        "tags": []
      },
      "outputs": [
        {
          "data": {
            "text/plain": [
              "[('dc1,out1', 'dc2,in1'), ('dc1,out0', 'wg,in0'), ('wg,out0', 'dc2,in0')]"
            ]
          },
          "execution_count": 10,
          "metadata": {},
          "output_type": "execute_result"
        }
      ],
      "source": [
        "sorted_connections = sorted(connections.items(), key=_connections_sort_key)\n",
        "sorted_connections"
      ]
    },
    {
      "cell_type": "markdown",
      "id": "c75fbf65",
      "metadata": {
        "papermill": {
          "duration": 0.005464,
          "end_time": "2023-06-01T21:33:00.830705",
          "exception": false,
          "start_time": "2023-06-01T21:33:00.825241",
          "status": "completed"
        },
        "tags": []
      },
      "source": [
        "Now we iterate over the sorted connections and connect components as they come in. Connected components take over the name of the first component in the connection, but we keep a set of components belonging to that key in `all_connected_instances`.\n",
        "\n",
        "This is how this `all_connected_instances` dictionary looks initially."
      ]
    },
    {
      "cell_type": "code",
      "execution_count": 11,
      "id": "cf30668c",
      "metadata": {
        "execution": {
          "iopub.execute_input": "2023-06-01T21:33:00.842744Z",
          "iopub.status.busy": "2023-06-01T21:33:00.842545Z",
          "iopub.status.idle": "2023-06-01T21:33:00.845946Z",
          "shell.execute_reply": "2023-06-01T21:33:00.845535Z"
        },
        "papermill": {
          "duration": 0.012075,
          "end_time": "2023-06-01T21:33:00.848356",
          "exception": false,
          "start_time": "2023-06-01T21:33:00.836281",
          "status": "completed"
        },
        "tags": []
      },
      "outputs": [
        {
          "data": {
            "text/plain": [
              "{'dc1': {'dc1'}, 'wg': {'wg'}, 'dc2': {'dc2'}}"
            ]
          },
          "execution_count": 11,
          "metadata": {},
          "output_type": "execute_result"
        }
      ],
      "source": [
        "all_connected_instances = {k: {k} for k in instances}\n",
        "all_connected_instances"
      ]
    },
    {
      "cell_type": "markdown",
      "id": "1152056b",
      "metadata": {
        "papermill": {
          "duration": 0.005633,
          "end_time": "2023-06-01T21:33:00.859606",
          "exception": false,
          "start_time": "2023-06-01T21:33:00.853973",
          "status": "completed"
        },
        "tags": []
      },
      "source": [
        "Normally we would loop over every connection in `sorted_connections` now, but let's just go through it once at first:"
      ]
    },
    {
      "cell_type": "code",
      "execution_count": 12,
      "id": "8965acdae9be2df4",
      "metadata": {
        "execution": {
          "iopub.execute_input": "2023-06-01T21:33:00.872090Z",
          "iopub.status.busy": "2023-06-01T21:33:00.871900Z",
          "iopub.status.idle": "2023-06-01T21:33:00.875163Z",
          "shell.execute_reply": "2023-06-01T21:33:00.874798Z"
        },
        "papermill": {
          "duration": 0.012262,
          "end_time": "2023-06-01T21:33:00.877479",
          "exception": false,
          "start_time": "2023-06-01T21:33:00.865217",
          "status": "completed"
        },
        "tags": []
      },
      "outputs": [
        {
          "data": {
            "text/plain": [
              "('dc1,out1', 'dc2,in1')"
            ]
          },
          "execution_count": 12,
          "metadata": {},
          "output_type": "execute_result"
        }
      ],
      "source": [
        "# for k, l in sorted_connections:\n",
        "k, l = sorted_connections[0]\n",
        "k, l"
      ]
    },
    {
      "cell_type": "markdown",
      "id": "16a2266c",
      "metadata": {
        "papermill": {
          "duration": 0.005649,
          "end_time": "2023-06-01T21:33:00.888848",
          "exception": false,
          "start_time": "2023-06-01T21:33:00.883199",
          "status": "completed"
        },
        "tags": []
      },
      "source": [
        "`k` and `l` are the S-matrix indices we're trying to connect. Note that in our sparse `SDict` notation these S-matrix indices are in fact equivalent with the port names `('dc1,out1', 'dc2,in1')`!"
      ]
    },
    {
      "cell_type": "markdown",
      "id": "0eaf4add",
      "metadata": {
        "papermill": {
          "duration": 0.005653,
          "end_time": "2023-06-01T21:33:00.900288",
          "exception": false,
          "start_time": "2023-06-01T21:33:00.894635",
          "status": "completed"
        },
        "tags": []
      },
      "source": [
        "first we split the connection string into an instance name and a port name (we don't use the port name yet):"
      ]
    },
    {
      "cell_type": "code",
      "execution_count": 13,
      "id": "667d1a3c",
      "metadata": {
        "execution": {
          "iopub.execute_input": "2023-06-01T21:33:00.912869Z",
          "iopub.status.busy": "2023-06-01T21:33:00.912626Z",
          "iopub.status.idle": "2023-06-01T21:33:00.915346Z",
          "shell.execute_reply": "2023-06-01T21:33:00.914935Z"
        },
        "papermill": {
          "duration": 0.011176,
          "end_time": "2023-06-01T21:33:00.917176",
          "exception": false,
          "start_time": "2023-06-01T21:33:00.906000",
          "status": "completed"
        },
        "tags": []
      },
      "outputs": [],
      "source": [
        "name1, _ = k.split(\",\")\n",
        "name2, _ = l.split(\",\")"
      ]
    },
    {
      "cell_type": "markdown",
      "id": "16e8bbe8",
      "metadata": {
        "papermill": {
          "duration": 0.005664,
          "end_time": "2023-06-01T21:33:00.928605",
          "exception": false,
          "start_time": "2023-06-01T21:33:00.922941",
          "status": "completed"
        },
        "tags": []
      },
      "source": [
        "We then obtain the new set of connected instances."
      ]
    },
    {
      "cell_type": "code",
      "execution_count": 14,
      "id": "51bf8615",
      "metadata": {
        "execution": {
          "iopub.execute_input": "2023-06-01T21:33:00.941415Z",
          "iopub.status.busy": "2023-06-01T21:33:00.941172Z",
          "iopub.status.idle": "2023-06-01T21:33:00.944792Z",
          "shell.execute_reply": "2023-06-01T21:33:00.944387Z"
        },
        "papermill": {
          "duration": 0.012915,
          "end_time": "2023-06-01T21:33:00.947418",
          "exception": false,
          "start_time": "2023-06-01T21:33:00.934503",
          "status": "completed"
        },
        "tags": []
      },
      "outputs": [
        {
          "data": {
            "text/plain": [
              "{'dc1', 'dc2'}"
            ]
          },
          "execution_count": 14,
          "metadata": {},
          "output_type": "execute_result"
        }
      ],
      "source": [
        "connected_instances = all_connected_instances[name1] | all_connected_instances[name2]\n",
        "connected_instances"
      ]
    },
    {
      "cell_type": "markdown",
      "id": "676c8d61",
      "metadata": {
        "papermill": {
          "duration": 0.00591,
          "end_time": "2023-06-01T21:33:00.959322",
          "exception": false,
          "start_time": "2023-06-01T21:33:00.953412",
          "status": "completed"
        },
        "tags": []
      },
      "source": [
        "We then iterate over each of the components in this set and make sure each of the component names in that set maps to that set (yes, I know... confusing). We do this to be able to keep track with which components each of the components in the circuit is currently already connected to."
      ]
    },
    {
      "cell_type": "code",
      "execution_count": 15,
      "id": "d322e86c",
      "metadata": {
        "execution": {
          "iopub.execute_input": "2023-06-01T21:33:00.972694Z",
          "iopub.status.busy": "2023-06-01T21:33:00.972456Z",
          "iopub.status.idle": "2023-06-01T21:33:00.976078Z",
          "shell.execute_reply": "2023-06-01T21:33:00.975696Z"
        },
        "papermill": {
          "duration": 0.012837,
          "end_time": "2023-06-01T21:33:00.978550",
          "exception": false,
          "start_time": "2023-06-01T21:33:00.965713",
          "status": "completed"
        },
        "tags": []
      },
      "outputs": [
        {
          "data": {
            "text/plain": [
              "{'dc1': {'dc1', 'dc2'}, 'wg': {'wg'}, 'dc2': {'dc1', 'dc2'}}"
            ]
          },
          "execution_count": 15,
          "metadata": {},
          "output_type": "execute_result"
        }
      ],
      "source": [
        "for name in connected_instances:\n",
        "    all_connected_instances[name] = connected_instances\n",
        "    \n",
        "all_connected_instances"
      ]
    },
    {
      "cell_type": "markdown",
      "id": "b79f49f8",
      "metadata": {
        "papermill": {
          "duration": 0.005939,
          "end_time": "2023-06-01T21:33:00.990488",
          "exception": false,
          "start_time": "2023-06-01T21:33:00.984549",
          "status": "completed"
        },
        "tags": []
      },
      "source": [
        "now we need to obtain all the ports of the currently connected instances."
      ]
    },
    {
      "cell_type": "code",
      "execution_count": 16,
      "id": "61b3cfab",
      "metadata": {
        "execution": {
          "iopub.execute_input": "2023-06-01T21:33:01.003511Z",
          "iopub.status.busy": "2023-06-01T21:33:01.003276Z",
          "iopub.status.idle": "2023-06-01T21:33:01.007493Z",
          "shell.execute_reply": "2023-06-01T21:33:01.007111Z"
        },
        "papermill": {
          "duration": 0.013669,
          "end_time": "2023-06-01T21:33:01.010082",
          "exception": false,
          "start_time": "2023-06-01T21:33:00.996413",
          "status": "completed"
        },
        "tags": []
      },
      "outputs": [
        {
          "data": {
            "text/plain": [
              "('dc2,in1',\n",
              " 'dc2,in0',\n",
              " 'dc2,out1',\n",
              " 'dc2,out0',\n",
              " 'dc1,in1',\n",
              " 'dc1,out1',\n",
              " 'dc1,in0',\n",
              " 'dc1,out0')"
            ]
          },
          "execution_count": 16,
          "metadata": {},
          "output_type": "execute_result"
        }
      ],
      "source": [
        "current_ports = tuple(\n",
        "    p\n",
        "    for instance in connected_instances\n",
        "    for p in set([p for p, _ in block_diag] + [p for _, p in block_diag])\n",
        "    if p.startswith(f\"{instance},\")\n",
        ")\n",
        "\n",
        "current_ports"
      ]
    },
    {
      "cell_type": "markdown",
      "id": "d0e87449",
      "metadata": {
        "papermill": {
          "duration": 0.006144,
          "end_time": "2023-06-01T21:33:01.022397",
          "exception": false,
          "start_time": "2023-06-01T21:33:01.016253",
          "status": "completed"
        },
        "tags": []
      },
      "source": [
        "Now the [Gunnar Algorithm](#citation) is used. Given a (block-diagonal) 'S-matrix' `block_diag` and a 'connection matrix' `current_ports` we can interconnect port `k` and `l` as follows:\n",
        "\n",
        "> Note: some creative freedom is used here. In SAX, the matrices we're talking about are in fact represented by a sparse dictionary (an `SDict`), i.e. similar to a COO sparse matrix for which the indices are the port names."
      ]
    },
    {
      "cell_type": "code",
      "execution_count": 17,
      "id": "431649e5",
      "metadata": {
        "execution": {
          "iopub.execute_input": "2023-06-01T21:33:01.036047Z",
          "iopub.status.busy": "2023-06-01T21:33:01.035800Z",
          "iopub.status.idle": "2023-06-01T21:33:01.541629Z",
          "shell.execute_reply": "2023-06-01T21:33:01.541187Z"
        },
        "papermill": {
          "duration": 0.514729,
          "end_time": "2023-06-01T21:33:01.543357",
          "exception": false,
          "start_time": "2023-06-01T21:33:01.028628",
          "status": "completed"
        },
        "tags": []
      },
      "outputs": [],
      "source": [
        "def _interconnect_ports(block_diag, current_ports, k, l):\n",
        "    current_block_diag = {}\n",
        "    for i in current_ports:\n",
        "        for j in current_ports:\n",
        "            vij = _calculate_interconnected_value(\n",
        "                vij=block_diag.get((i, j), 0.0),\n",
        "                vik=block_diag.get((i, k), 0.0),\n",
        "                vil=block_diag.get((i, l), 0.0),\n",
        "                vkj=block_diag.get((k, j), 0.0),\n",
        "                vkk=block_diag.get((k, k), 0.0),\n",
        "                vkl=block_diag.get((k, l), 0.0),\n",
        "                vlj=block_diag.get((l, j), 0.0),\n",
        "                vlk=block_diag.get((l, k), 0.0),\n",
        "                vll=block_diag.get((l, l), 0.0),\n",
        "            )\n",
        "            current_block_diag[i, j] = vij\n",
        "    return current_block_diag\n",
        "\n",
        "@jax.jit\n",
        "def _calculate_interconnected_value(vij, vik, vil, vkj, vkk, vkl, vlj, vlk, vll):\n",
        "    result = vij + (\n",
        "        vkj * vil * (1 - vlk)\n",
        "        + vlj * vik * (1 - vkl)\n",
        "        + vkj * vll * vik\n",
        "        + vlj * vkk * vil\n",
        "    ) / ((1 - vkl) * (1 - vlk) - vkk * vll)\n",
        "    return result\n",
        "\n",
        "block_diag.update(_interconnect_ports(block_diag, current_ports, k, l))"
      ]
    },
    {
      "cell_type": "markdown",
      "id": "988c08d9",
      "metadata": {
        "papermill": {
          "duration": 0.006609,
          "end_time": "2023-06-01T21:33:01.556490",
          "exception": false,
          "start_time": "2023-06-01T21:33:01.549881",
          "status": "completed"
        },
        "tags": []
      },
      "source": [
        "Just as before, we're filtering the zeros from the sparse representation (remember, internally this is **not done by default**)."
      ]
    },
    {
      "cell_type": "code",
      "execution_count": 18,
      "id": "e9ac8164",
      "metadata": {
        "execution": {
          "iopub.execute_input": "2023-06-01T21:33:01.569953Z",
          "iopub.status.busy": "2023-06-01T21:33:01.569721Z",
          "iopub.status.idle": "2023-06-01T21:33:01.595161Z",
          "shell.execute_reply": "2023-06-01T21:33:01.594794Z"
        },
        "papermill": {
          "duration": 0.033821,
          "end_time": "2023-06-01T21:33:01.596489",
          "exception": false,
          "start_time": "2023-06-01T21:33:01.562668",
          "status": "completed"
        },
        "tags": []
      },
      "outputs": [
        {
          "name": "stdout",
          "output_type": "stream",
          "text": [
            "26\n"
          ]
        },
        {
          "data": {
            "text/plain": [
              "{('dc1,in0', 'dc1,out0'): Array(0.70710677+0.j, dtype=complex64),\n",
              " ('dc1,in0', 'dc1,out1'): Array(0.+0.70710677j, dtype=complex64),\n",
              " ('dc1,in1', 'dc1,out0'): Array(0.+0.70710677j, dtype=complex64),\n",
              " ('dc1,in1', 'dc1,out1'): Array(0.70710677+0.j, dtype=complex64),\n",
              " ('dc1,out0', 'dc1,in0'): Array(0.70710677+0.j, dtype=complex64),\n",
              " ('dc1,out0', 'dc1,in1'): Array(0.+0.70710677j, dtype=complex64),\n",
              " ('dc1,out1', 'dc1,in0'): Array(0.+0.70710677j, dtype=complex64),\n",
              " ('dc1,out1', 'dc1,in1'): Array(0.70710677+0.j, dtype=complex64),\n",
              " ('wg,in0', 'wg,out0'): (0.5+0.86603j),\n",
              " ('wg,out0', 'wg,in0'): (0.5+0.86603j),\n",
              " ('dc2,in0', 'dc2,out0'): Array(0.70710677+0.j, dtype=complex64),\n",
              " ('dc2,in0', 'dc2,out1'): Array(0.+0.70710677j, dtype=complex64),\n",
              " ('dc2,in1', 'dc2,out0'): Array(0.+0.70710677j, dtype=complex64),\n",
              " ('dc2,in1', 'dc2,out1'): Array(0.70710677+0.j, dtype=complex64),\n",
              " ('dc2,out0', 'dc2,in0'): Array(0.70710677+0.j, dtype=complex64),\n",
              " ('dc2,out0', 'dc2,in1'): Array(0.+0.70710677j, dtype=complex64),\n",
              " ('dc2,out1', 'dc2,in0'): Array(0.+0.70710677j, dtype=complex64),\n",
              " ('dc2,out1', 'dc2,in1'): Array(0.70710677+0.j, dtype=complex64),\n",
              " ('dc2,out1', 'dc1,in1'): Array(0.49999997+0.j, dtype=complex64),\n",
              " ('dc2,out1', 'dc1,in0'): Array(0.+0.49999997j, dtype=complex64),\n",
              " ('dc2,out0', 'dc1,in1'): Array(0.+0.49999997j, dtype=complex64),\n",
              " ('dc2,out0', 'dc1,in0'): Array(-0.49999997+0.j, dtype=complex64),\n",
              " ('dc1,in1', 'dc2,out1'): Array(0.49999997+0.j, dtype=complex64),\n",
              " ('dc1,in1', 'dc2,out0'): Array(0.+0.49999997j, dtype=complex64),\n",
              " ('dc1,in0', 'dc2,out1'): Array(0.+0.49999997j, dtype=complex64),\n",
              " ('dc1,in0', 'dc2,out0'): Array(-0.49999997+0.j, dtype=complex64)}"
            ]
          },
          "execution_count": 18,
          "metadata": {},
          "output_type": "execute_result"
        }
      ],
      "source": [
        "block_diag = {k: v for k, v in block_diag.items() if jnp.abs(v) > 1e-10}\n",
        "print(len(block_diag))\n",
        "block_diag"
      ]
    },
    {
      "cell_type": "markdown",
      "id": "db0cd151",
      "metadata": {
        "papermill": {
          "duration": 0.006368,
          "end_time": "2023-06-01T21:33:01.609674",
          "exception": false,
          "start_time": "2023-06-01T21:33:01.603306",
          "status": "completed"
        },
        "tags": []
      },
      "source": [
        "This is the resulting block-diagonal matrix after interconnecting two ports (i.e. basically saying that those two ports are the same port). Because these ports are now connected we should actually remove them from the S-matrix representation (they are integrated into the S-parameters of the other connections):"
      ]
    },
    {
      "cell_type": "code",
      "execution_count": 19,
      "id": "311b034f",
      "metadata": {
        "execution": {
          "iopub.execute_input": "2023-06-01T21:33:01.625321Z",
          "iopub.status.busy": "2023-06-01T21:33:01.625087Z",
          "iopub.status.idle": "2023-06-01T21:33:01.634125Z",
          "shell.execute_reply": "2023-06-01T21:33:01.633738Z"
        },
        "papermill": {
          "duration": 0.018747,
          "end_time": "2023-06-01T21:33:01.635478",
          "exception": false,
          "start_time": "2023-06-01T21:33:01.616731",
          "status": "completed"
        },
        "tags": []
      },
      "outputs": [
        {
          "name": "stdout",
          "output_type": "stream",
          "text": [
            "18\n"
          ]
        },
        {
          "data": {
            "text/plain": [
              "{('dc1,in0', 'dc1,out0'): Array(0.70710677+0.j, dtype=complex64),\n",
              " ('dc1,in1', 'dc1,out0'): Array(0.+0.70710677j, dtype=complex64),\n",
              " ('dc1,out0', 'dc1,in0'): Array(0.70710677+0.j, dtype=complex64),\n",
              " ('dc1,out0', 'dc1,in1'): Array(0.+0.70710677j, dtype=complex64),\n",
              " ('wg,in0', 'wg,out0'): (0.5+0.86603j),\n",
              " ('wg,out0', 'wg,in0'): (0.5+0.86603j),\n",
              " ('dc2,in0', 'dc2,out0'): Array(0.70710677+0.j, dtype=complex64),\n",
              " ('dc2,in0', 'dc2,out1'): Array(0.+0.70710677j, dtype=complex64),\n",
              " ('dc2,out0', 'dc2,in0'): Array(0.70710677+0.j, dtype=complex64),\n",
              " ('dc2,out1', 'dc2,in0'): Array(0.+0.70710677j, dtype=complex64),\n",
              " ('dc2,out1', 'dc1,in1'): Array(0.49999997+0.j, dtype=complex64),\n",
              " ('dc2,out1', 'dc1,in0'): Array(0.+0.49999997j, dtype=complex64),\n",
              " ('dc2,out0', 'dc1,in1'): Array(0.+0.49999997j, dtype=complex64),\n",
              " ('dc2,out0', 'dc1,in0'): Array(-0.49999997+0.j, dtype=complex64),\n",
              " ('dc1,in1', 'dc2,out1'): Array(0.49999997+0.j, dtype=complex64),\n",
              " ('dc1,in1', 'dc2,out0'): Array(0.+0.49999997j, dtype=complex64),\n",
              " ('dc1,in0', 'dc2,out1'): Array(0.+0.49999997j, dtype=complex64),\n",
              " ('dc1,in0', 'dc2,out0'): Array(-0.49999997+0.j, dtype=complex64)}"
            ]
          },
          "execution_count": 19,
          "metadata": {},
          "output_type": "execute_result"
        }
      ],
      "source": [
        "for i, j in list(block_diag.keys()):\n",
        "    is_connected = i == k or i == l or j == k or j == l\n",
        "    is_in_output_ports = i in reversed_ports and j in reversed_ports\n",
        "    if is_connected and not is_in_output_ports:\n",
        "        del block_diag[i, j]  # we're no longer interested in these port combinations\n",
        "        \n",
        "print(len(block_diag))\n",
        "block_diag"
      ]
    },
    {
      "cell_type": "markdown",
      "id": "b6badcb7",
      "metadata": {
        "papermill": {
          "duration": 0.006479,
          "end_time": "2023-06-01T21:33:01.648429",
          "exception": false,
          "start_time": "2023-06-01T21:33:01.641950",
          "status": "completed"
        },
        "tags": []
      },
      "source": [
        "Note that this deletion of values **does NOT** make this operation un-jittable. The deletion depends on the ports of the dictionary (i.e. on the dictionary 'shape'), not on the values."
      ]
    },
    {
      "cell_type": "markdown",
      "id": "89e775cd",
      "metadata": {
        "papermill": {
          "duration": 0.006443,
          "end_time": "2023-06-01T21:33:01.661487",
          "exception": false,
          "start_time": "2023-06-01T21:33:01.655044",
          "status": "completed"
        },
        "tags": []
      },
      "source": [
        "We now basically have to do those steps again for all other connections:"
      ]
    },
    {
      "cell_type": "code",
      "execution_count": 20,
      "id": "c4db51847d489983",
      "metadata": {
        "execution": {
          "iopub.execute_input": "2023-06-01T21:33:01.675846Z",
          "iopub.status.busy": "2023-06-01T21:33:01.675598Z",
          "iopub.status.idle": "2023-06-01T21:33:02.859743Z",
          "shell.execute_reply": "2023-06-01T21:33:02.859302Z"
        },
        "papermill": {
          "duration": 1.193407,
          "end_time": "2023-06-01T21:33:02.861493",
          "exception": false,
          "start_time": "2023-06-01T21:33:01.668086",
          "status": "completed"
        },
        "tags": []
      },
      "outputs": [],
      "source": [
        "#for k, l in sorted_connections: \n",
        "for k, l in sorted_connections[1:]: # we just did the first iteration of this loop above...\n",
        "    name1, _ = k.split(\",\")\n",
        "    name2, _ = l.split(\",\")\n",
        "    connected_instances = all_connected_instances[name1] | all_connected_instances[name2]\n",
        "    for name in connected_instances:\n",
        "        all_connected_instances[name] = connected_instances\n",
        "    current_ports = tuple(\n",
        "        p\n",
        "        for instance in connected_instances\n",
        "        for p in set([p for p, _ in block_diag] + [p for _, p in block_diag])\n",
        "        if p.startswith(f\"{instance},\")\n",
        "    )\n",
        "    block_diag.update(_interconnect_ports(block_diag, current_ports, k, l))\n",
        "    for i, j in list(block_diag.keys()):\n",
        "        is_connected = i == k or i == l or j == k or j == l\n",
        "        is_in_output_ports = i in reversed_ports and j in reversed_ports\n",
        "        if is_connected and not is_in_output_ports:\n",
        "            del block_diag[i, j]  # we're no longer interested in these port combinations"
      ]
    },
    {
      "cell_type": "markdown",
      "id": "36eb82fc",
      "metadata": {
        "papermill": {
          "duration": 0.007408,
          "end_time": "2023-06-01T21:33:02.875739",
          "exception": false,
          "start_time": "2023-06-01T21:33:02.868331",
          "status": "completed"
        },
        "tags": []
      },
      "source": [
        "This is the final MZI matrix we're getting:"
      ]
    },
    {
      "cell_type": "code",
      "execution_count": 21,
      "id": "d1c0367e",
      "metadata": {
        "execution": {
          "iopub.execute_input": "2023-06-01T21:33:02.890404Z",
          "iopub.status.busy": "2023-06-01T21:33:02.890130Z",
          "iopub.status.idle": "2023-06-01T21:33:02.898869Z",
          "shell.execute_reply": "2023-06-01T21:33:02.898398Z"
        },
        "papermill": {
          "duration": 0.017981,
          "end_time": "2023-06-01T21:33:02.900329",
          "exception": false,
          "start_time": "2023-06-01T21:33:02.882348",
          "status": "completed"
        },
        "tags": []
      },
      "outputs": [
        {
          "data": {
            "text/plain": [
              "{('dc2,out1', 'dc1,in1'): Array(0.24999999-0.433015j, dtype=complex64),\n",
              " ('dc2,out1', 'dc1,in0'): Array(-0.433015+0.74999994j, dtype=complex64),\n",
              " ('dc2,out0', 'dc1,in1'): Array(-0.433015+0.74999994j, dtype=complex64),\n",
              " ('dc2,out0', 'dc1,in0'): Array(-0.24999999+0.433015j, dtype=complex64),\n",
              " ('dc1,in1', 'dc2,out1'): Array(0.24999999-0.433015j, dtype=complex64),\n",
              " ('dc1,in1', 'dc2,out0'): Array(-0.433015+0.74999994j, dtype=complex64),\n",
              " ('dc1,in0', 'dc2,out1'): Array(-0.433015+0.74999994j, dtype=complex64),\n",
              " ('dc1,in0', 'dc2,out0'): Array(-0.24999999+0.433015j, dtype=complex64),\n",
              " ('dc2,out1', 'dc2,out1'): Array(0.+0.j, dtype=complex64),\n",
              " ('dc2,out1', 'dc2,out0'): Array(0.+0.j, dtype=complex64),\n",
              " ('dc2,out0', 'dc2,out1'): Array(0.+0.j, dtype=complex64),\n",
              " ('dc2,out0', 'dc2,out0'): Array(0.+0.j, dtype=complex64),\n",
              " ('dc1,in1', 'dc1,in1'): Array(0.+0.j, dtype=complex64),\n",
              " ('dc1,in1', 'dc1,in0'): Array(0.+0.j, dtype=complex64),\n",
              " ('dc1,in0', 'dc1,in1'): Array(0.+0.j, dtype=complex64),\n",
              " ('dc1,in0', 'dc1,in0'): Array(0.+0.j, dtype=complex64)}"
            ]
          },
          "execution_count": 21,
          "metadata": {},
          "output_type": "execute_result"
        }
      ],
      "source": [
        "block_diag"
      ]
    },
    {
      "cell_type": "markdown",
      "id": "03f67ec6",
      "metadata": {
        "papermill": {
          "duration": 0.006825,
          "end_time": "2023-06-01T21:33:02.914209",
          "exception": false,
          "start_time": "2023-06-01T21:33:02.907384",
          "status": "completed"
        },
        "tags": []
      },
      "source": [
        "All that's left is to rename these internal ports of the format `{instance},{port}` into output ports of the resulting circuit:"
      ]
    },
    {
      "cell_type": "code",
      "execution_count": 22,
      "id": "cf5ea4af",
      "metadata": {
        "execution": {
          "iopub.execute_input": "2023-06-01T21:33:02.929314Z",
          "iopub.status.busy": "2023-06-01T21:33:02.928978Z",
          "iopub.status.idle": "2023-06-01T21:33:02.937631Z",
          "shell.execute_reply": "2023-06-01T21:33:02.937155Z"
        },
        "papermill": {
          "duration": 0.017981,
          "end_time": "2023-06-01T21:33:02.939117",
          "exception": false,
          "start_time": "2023-06-01T21:33:02.921136",
          "status": "completed"
        },
        "tags": []
      },
      "outputs": [
        {
          "data": {
            "text/plain": [
              "{('out1', 'in1'): Array(0.24999999-0.433015j, dtype=complex64),\n",
              " ('out1', 'in0'): Array(-0.433015+0.74999994j, dtype=complex64),\n",
              " ('out0', 'in1'): Array(-0.433015+0.74999994j, dtype=complex64),\n",
              " ('out0', 'in0'): Array(-0.24999999+0.433015j, dtype=complex64),\n",
              " ('in1', 'out1'): Array(0.24999999-0.433015j, dtype=complex64),\n",
              " ('in1', 'out0'): Array(-0.433015+0.74999994j, dtype=complex64),\n",
              " ('in0', 'out1'): Array(-0.433015+0.74999994j, dtype=complex64),\n",
              " ('in0', 'out0'): Array(-0.24999999+0.433015j, dtype=complex64),\n",
              " ('out1', 'out1'): Array(0.+0.j, dtype=complex64),\n",
              " ('out1', 'out0'): Array(0.+0.j, dtype=complex64),\n",
              " ('out0', 'out1'): Array(0.+0.j, dtype=complex64),\n",
              " ('out0', 'out0'): Array(0.+0.j, dtype=complex64),\n",
              " ('in1', 'in1'): Array(0.+0.j, dtype=complex64),\n",
              " ('in1', 'in0'): Array(0.+0.j, dtype=complex64),\n",
              " ('in0', 'in1'): Array(0.+0.j, dtype=complex64),\n",
              " ('in0', 'in0'): Array(0.+0.j, dtype=complex64)}"
            ]
          },
          "execution_count": 22,
          "metadata": {},
          "output_type": "execute_result"
        }
      ],
      "source": [
        "circuit_sdict: SDict = {\n",
        "    (reversed_ports[i], reversed_ports[j]): v\n",
        "    for (i, j), v in block_diag.items()\n",
        "    if i in reversed_ports and j in reversed_ports\n",
        "}\n",
        "circuit_sdict"
      ]
    },
    {
      "cell_type": "markdown",
      "id": "7dc6505e",
      "metadata": {
        "papermill": {
          "duration": 0.006882,
          "end_time": "2023-06-01T21:33:02.952896",
          "exception": false,
          "start_time": "2023-06-01T21:33:02.946014",
          "status": "completed"
        },
        "tags": []
      },
      "source": [
        "And that's it. We evaluated the `SDict` of the full circuit."
      ]
    },
    {
      "cell_type": "markdown",
      "id": "170db10b",
      "metadata": {
        "papermill": {
          "duration": 0.00683,
          "end_time": "2023-06-01T21:33:02.966600",
          "exception": false,
          "start_time": "2023-06-01T21:33:02.959770",
          "status": "completed"
        },
        "tags": []
      },
      "source": [
        "## Algorithm Improvements"
      ]
    },
    {
      "cell_type": "markdown",
      "id": "4ed0e69a",
      "metadata": {
        "papermill": {
          "duration": 0.00686,
          "end_time": "2023-06-01T21:33:02.980291",
          "exception": false,
          "start_time": "2023-06-01T21:33:02.973431",
          "status": "completed"
        },
        "tags": []
      },
      "source": [
        "This algorithm is \n",
        "\n",
        "* pretty fast for small circuits \ud83d\ude42\n",
        "* jittable \ud83d\ude42\n",
        "* differentiable \ud83d\ude42\n",
        "* GPU-compatible \ud83d\ude42\n",
        "\n",
        "This algorithm is however:\n",
        "\n",
        "* **really slow** for large circuits \ud83d\ude25\n",
        "* **pretty slow** to jit the resulting circuit function \ud83d\ude25\n",
        "* **pretty slow** to differentiate the resulting circuit function \ud83d\ude25\n",
        "\n",
        "There are probably still plenty of improvements possible for this algorithm:\n",
        "\n",
        "* **\u00bf** Network analysis (ft. NetworkX ?) to obtain which ports of the block diagonal representation are relevant to obtain the output connection **?**\n",
        "* **\u00bf** Smarter ordering of connections to always have the minimum amount of ports in the intermediate block-diagonal representation **?**\n",
        "* **\u00bf** Using `jax.lax.scan` in stead of python native for-loops in `_interconnect_ports` **?**\n",
        "* **\u00bf** ... **?**\n",
        "\n",
        "Bottom line is... Do you know how to improve this algorithm or how to implement the above suggestions? Please open a Merge Request!"
      ]
    }
  ],
  "metadata": {
    "kernelspec": {
      "display_name": "sax",
      "language": "python",
      "name": "sax"
    },
    "language_info": {
      "codemirror_mode": {
        "name": "ipython",
        "version": 3
      },
      "file_extension": ".py",
      "mimetype": "text/x-python",
      "name": "python",
      "nbconvert_exporter": "python",
      "pygments_lexer": "ipython3",
      "version": "3.11.3"
    },
    "papermill": {
      "default_parameters": {},
      "duration": 5.886292,
      "end_time": "2023-06-01T21:33:03.504790",
      "environment_variables": {},
      "exception": null,
      "input_path": "./nbs/08a_backends_default.ipynb",
      "output_path": "./nbs/08a_backends_default.ipynb",
      "parameters": {},
      "start_time": "2023-06-01T21:32:57.618498",
      "version": "2.3.4"
    }
  },
  "nbformat": 4,
  "nbformat_minor": 5
}