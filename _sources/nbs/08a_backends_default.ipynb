{
  "cells": [
    {
      "cell_type": "code",
      "execution_count": 1,
      "id": "02906e372aed2279",
      "metadata": {
        "execution": {
          "iopub.execute_input": "2023-06-01T21:50:14.667044Z",
          "iopub.status.busy": "2023-06-01T21:50:14.666804Z",
          "iopub.status.idle": "2023-06-01T21:50:14.669817Z",
          "shell.execute_reply": "2023-06-01T21:50:14.669331Z"
        },
        "papermill": {
          "duration": 0.01201,
          "end_time": "2023-06-01T21:50:14.671853",
          "exception": false,
          "start_time": "2023-06-01T21:50:14.659843",
          "status": "completed"
        },
        "tags": [
          "remove-cell"
        ]
      },
      "outputs": [],
      "source": []
    },
    {
      "cell_type": "markdown",
      "id": "41e0d311",
      "metadata": {
        "papermill": {
          "duration": 0.005719,
          "end_time": "2023-06-01T21:50:14.683107",
          "exception": false,
          "start_time": "2023-06-01T21:50:14.677388",
          "status": "completed"
        },
        "tags": []
      },
      "source": [
        "# Backend - default\n",
        "\n",
        "> Default SAX Backend"
      ]
    },
    {
      "cell_type": "code",
      "execution_count": 2,
      "id": "5d1e1e696b9131c5",
      "metadata": {
        "execution": {
          "iopub.execute_input": "2023-06-01T21:50:14.694369Z",
          "iopub.status.busy": "2023-06-01T21:50:14.694157Z",
          "iopub.status.idle": "2023-06-01T21:50:14.699227Z",
          "shell.execute_reply": "2023-06-01T21:50:14.698877Z"
        },
        "papermill": {
          "duration": 0.012866,
          "end_time": "2023-06-01T21:50:14.701173",
          "exception": false,
          "start_time": "2023-06-01T21:50:14.688307",
          "status": "completed"
        },
        "tags": [
          "remove-cell"
        ]
      },
      "outputs": [],
      "source": [
        "import os, sys; sys.stderr = open(os.devnull, \"w\")"
      ]
    },
    {
      "cell_type": "code",
      "execution_count": 3,
      "id": "379e19ae398ee6c9",
      "metadata": {
        "execution": {
          "iopub.execute_input": "2023-06-01T21:50:14.712398Z",
          "iopub.status.busy": "2023-06-01T21:50:14.712211Z",
          "iopub.status.idle": "2023-06-01T21:50:15.461418Z",
          "shell.execute_reply": "2023-06-01T21:50:15.461021Z"
        },
        "papermill": {
          "duration": 0.756695,
          "end_time": "2023-06-01T21:50:15.463086",
          "exception": false,
          "start_time": "2023-06-01T21:50:14.706391",
          "status": "completed"
        },
        "tags": [
          "hide-input"
        ]
      },
      "outputs": [],
      "source": [
        "from __future__ import annotations\n",
        "\n",
        "import warnings\n",
        "from types import SimpleNamespace\n",
        "from typing import Dict\n",
        "\n",
        "try:\n",
        "    import jax\n",
        "    import jax.numpy as jnp\n",
        "    JAX_AVAILABLE = True\n",
        "except ImportError:\n",
        "    import numpy as jnp\n",
        "    def jit(func, *args, **kwargs):\n",
        "        warnings.warn(\"[NO JAX] skipping jit! Please install JAX!\")\n",
        "        return func\n",
        "    \n",
        "    jax = SimpleNamespace(jit=jit)\n",
        "    JAX_AVAILABLE = False\n",
        "    \n",
        "from sax.typing_ import SDict, SType, SDense, sdict"
      ]
    },
    {
      "cell_type": "markdown",
      "id": "d8369d2f-9109-4375-8cb4-6d7ccabbd356",
      "metadata": {
        "papermill": {
          "duration": 0.005544,
          "end_time": "2023-06-01T21:50:15.474204",
          "exception": false,
          "start_time": "2023-06-01T21:50:15.468660",
          "status": "completed"
        },
        "tags": []
      },
      "source": [
        "## Citation\n",
        "The default SAX backend is based on the following paper:\n",
        "\n",
        "> Filipsson, Gunnar. \"*A new general computer algorithm for S-matrix calculation of interconnected multiports.*\" 11th European Microwave Conference. IEEE, 1981."
      ]
    },
    {
      "cell_type": "markdown",
      "id": "feea9c4f-0528-44e0-8e87-91234c6d29cc",
      "metadata": {
        "papermill": {
          "duration": 0.005046,
          "end_time": "2023-06-01T21:50:15.484465",
          "exception": false,
          "start_time": "2023-06-01T21:50:15.479419",
          "status": "completed"
        },
        "tags": []
      },
      "source": [
        "## Circuit Evaluation"
      ]
    },
    {
      "cell_type": "markdown",
      "id": "43a9b85b58a4bdaa",
      "metadata": {},
      "source": [
        ":::{eval-rst}\n",
        ".. autofunction:: sax.backends.default.evaluate_circuit\n",
        ":::\n"
      ]
    },
    {
      "cell_type": "code",
      "execution_count": 4,
      "id": "317c8dd1c5ef2a67",
      "metadata": {
        "execution": {
          "iopub.execute_input": "2023-06-01T21:50:15.495999Z",
          "iopub.status.busy": "2023-06-01T21:50:15.495652Z",
          "iopub.status.idle": "2023-06-01T21:50:15.508944Z",
          "shell.execute_reply": "2023-06-01T21:50:15.508595Z"
        },
        "papermill": {
          "duration": 0.020587,
          "end_time": "2023-06-01T21:50:15.510235",
          "exception": false,
          "start_time": "2023-06-01T21:50:15.489648",
          "status": "completed"
        },
        "tags": [
          "hide-input"
        ]
      },
      "outputs": [],
      "source": [
        "\n",
        "def evaluate_circuit(\n",
        "    instances: Dict[str, SType],\n",
        "    connections: Dict[str, str],\n",
        "    ports: Dict[str, str],\n",
        ") -> SDict:\n",
        "    \"\"\"evaluate a circuit for the given sdicts.\"\"\"\n",
        "    \n",
        "    # it's actually easier working w reverse:\n",
        "    reversed_ports = {v: k for k, v in ports.items()}\n",
        "\n",
        "    block_diag = {}\n",
        "    for name, S in instances.items():\n",
        "        block_diag.update(\n",
        "            {(f\"{name},{p1}\", f\"{name},{p2}\"): v for (p1, p2), v in sdict(S).items()}\n",
        "        )\n",
        "\n",
        "    sorted_connections = sorted(connections.items(), key=_connections_sort_key)\n",
        "    all_connected_instances = {k: {k} for k in instances}\n",
        "\n",
        "    for k, l in sorted_connections:\n",
        "        name1, _ = k.split(\",\")\n",
        "        name2, _ = l.split(\",\")\n",
        "\n",
        "        connected_instances = (\n",
        "            all_connected_instances[name1] | all_connected_instances[name2]\n",
        "        )\n",
        "        for name in connected_instances:\n",
        "            all_connected_instances[name] = connected_instances\n",
        "\n",
        "        current_ports = tuple(\n",
        "            p\n",
        "            for instance in connected_instances\n",
        "            for p in set([p for p, _ in block_diag] + [p for _, p in block_diag])\n",
        "            if p.startswith(f\"{instance},\")\n",
        "        )\n",
        "\n",
        "        block_diag.update(_interconnect_ports(block_diag, current_ports, k, l))\n",
        "\n",
        "        for i, j in list(block_diag.keys()):\n",
        "            is_connected = i == k or i == l or j == k or j == l\n",
        "            is_in_output_ports = i in reversed_ports and j in reversed_ports\n",
        "            if is_connected and not is_in_output_ports:\n",
        "                del block_diag[i, j]  # we're no longer interested in these port combinations\n",
        "\n",
        "    circuit_sdict: SDict = {\n",
        "        (reversed_ports[i], reversed_ports[j]): v\n",
        "        for (i, j), v in block_diag.items()\n",
        "        if i in reversed_ports and j in reversed_ports\n",
        "    }\n",
        "    return circuit_sdict\n",
        "\n",
        "\n",
        "def _connections_sort_key(connection):\n",
        "    \"\"\"sort key for sorting a connection dictionary \"\"\"\n",
        "    part1, part2 = connection\n",
        "    name1, _ = part1.split(\",\")\n",
        "    name2, _ = part2.split(\",\")\n",
        "    return (min(name1, name2), max(name1, name2))\n",
        "\n",
        "\n",
        "def _interconnect_ports(block_diag, current_ports, k, l):\n",
        "    \"\"\"interconnect two ports in a given model\n",
        "\n",
        "    > Note: the interconnect algorithm is based on equation 6 of 'Filipsson, Gunnar. \n",
        "      \"A new general computer algorithm for S-matrix calculation of interconnected \n",
        "      multiports.\" 11th European Microwave Conference. IEEE, 1981.'\n",
        "    \"\"\"\n",
        "    current_block_diag = {}\n",
        "    for i in current_ports:\n",
        "        for j in current_ports:\n",
        "            vij = _calculate_interconnected_value(\n",
        "                vij=block_diag.get((i, j), 0.0),\n",
        "                vik=block_diag.get((i, k), 0.0),\n",
        "                vil=block_diag.get((i, l), 0.0),\n",
        "                vkj=block_diag.get((k, j), 0.0),\n",
        "                vkk=block_diag.get((k, k), 0.0),\n",
        "                vkl=block_diag.get((k, l), 0.0),\n",
        "                vlj=block_diag.get((l, j), 0.0),\n",
        "                vlk=block_diag.get((l, k), 0.0),\n",
        "                vll=block_diag.get((l, l), 0.0),\n",
        "            )\n",
        "            current_block_diag[i, j] = vij\n",
        "    return current_block_diag\n",
        "\n",
        "\n",
        "@jax.jit\n",
        "def _calculate_interconnected_value(vij, vik, vil, vkj, vkk, vkl, vlj, vlk, vll):\n",
        "    \"\"\"Calculate an interconnected S-parameter value\n",
        "\n",
        "    Note:\n",
        "        The interconnect algorithm is based on equation 6 in the paper below::\n",
        "\n",
        "          Filipsson, Gunnar. \"A new general computer algorithm for S-matrix calculation\n",
        "          of interconnected multiports.\" 11th European Microwave Conference. IEEE, 1981.\n",
        "    \"\"\"\n",
        "    result = vij + (\n",
        "        vkj * vil * (1 - vlk)\n",
        "        + vlj * vik * (1 - vkl)\n",
        "        + vkj * vll * vik\n",
        "        + vlj * vkk * vil\n",
        "    ) / ((1 - vkl) * (1 - vlk) - vkk * vll)\n",
        "    return result"
      ]
    },
    {
      "cell_type": "markdown",
      "id": "9dabee38",
      "metadata": {
        "papermill": {
          "duration": 0.005361,
          "end_time": "2023-06-01T21:50:15.520852",
          "exception": false,
          "start_time": "2023-06-01T21:50:15.515491",
          "status": "completed"
        },
        "tags": []
      },
      "source": [
        "## Example"
      ]
    },
    {
      "cell_type": "code",
      "execution_count": 5,
      "id": "5ab7ea6c",
      "metadata": {
        "execution": {
          "iopub.execute_input": "2023-06-01T21:50:15.532201Z",
          "iopub.status.busy": "2023-06-01T21:50:15.531983Z",
          "iopub.status.idle": "2023-06-01T21:50:16.298637Z",
          "shell.execute_reply": "2023-06-01T21:50:16.297595Z"
        },
        "papermill": {
          "duration": 0.773964,
          "end_time": "2023-06-01T21:50:16.300043",
          "exception": false,
          "start_time": "2023-06-01T21:50:15.526079",
          "status": "completed"
        },
        "tags": []
      },
      "outputs": [
        {
          "data": {
            "text/plain": [
              "{('in0', 'in0'): Array(0.+0.j, dtype=complex64),\n",
              " ('in0', 'in1'): Array(0.+0.j, dtype=complex64),\n",
              " ('in1', 'in0'): Array(0.+0.j, dtype=complex64),\n",
              " ('in1', 'in1'): Array(0.+0.j, dtype=complex64),\n",
              " ('out0', 'out0'): Array(0.+0.j, dtype=complex64),\n",
              " ('out0', 'out1'): Array(0.+0.j, dtype=complex64),\n",
              " ('out1', 'out0'): Array(0.+0.j, dtype=complex64),\n",
              " ('out1', 'out1'): Array(0.+0.j, dtype=complex64),\n",
              " ('out0', 'in1'): Array(-0.433015+0.74999994j, dtype=complex64),\n",
              " ('out0', 'in0'): Array(-0.24999999+0.433015j, dtype=complex64),\n",
              " ('out1', 'in1'): Array(0.24999999-0.433015j, dtype=complex64),\n",
              " ('out1', 'in0'): Array(-0.433015+0.74999994j, dtype=complex64),\n",
              " ('in1', 'out0'): Array(-0.433015+0.74999994j, dtype=complex64),\n",
              " ('in1', 'out1'): Array(0.24999999-0.433015j, dtype=complex64),\n",
              " ('in0', 'out0'): Array(-0.24999999+0.433015j, dtype=complex64),\n",
              " ('in0', 'out1'): Array(-0.433015+0.74999994j, dtype=complex64)}"
            ]
          },
          "execution_count": 5,
          "metadata": {},
          "output_type": "execute_result"
        }
      ],
      "source": [
        "wg_sdict: SDict = {\n",
        "    (\"in0\", \"out0\"): 0.5 + 0.86603j,\n",
        "    (\"out0\", \"in0\"): 0.5 + 0.86603j,\n",
        "}\n",
        "\n",
        "\u03c4, \u03ba = 0.5 ** 0.5, 1j * 0.5 ** 0.5\n",
        "dc_sdense: SDense = (\n",
        "    jnp.array([[0, 0, \u03c4, \u03ba], \n",
        "               [0, 0, \u03ba, \u03c4], \n",
        "               [\u03c4, \u03ba, 0, 0], \n",
        "               [\u03ba, \u03c4, 0, 0]]),\n",
        "    {\"in0\": 0, \"in1\": 1, \"out0\": 2, \"out1\": 3},\n",
        ")\n",
        "\n",
        "mzi_sdict: SDict = evaluate_circuit(\n",
        "    instances={\n",
        "        \"dc1\": dc_sdense,\n",
        "        \"wg\": wg_sdict,\n",
        "        \"dc2\": dc_sdense,\n",
        "    },\n",
        "    connections={\n",
        "        \"dc1,out0\": \"wg,in0\",\n",
        "        \"wg,out0\": \"dc2,in0\",\n",
        "        \"dc1,out1\": \"dc2,in1\",\n",
        "    },\n",
        "    ports={\n",
        "        \"in0\": \"dc1,in0\",\n",
        "        \"in1\": \"dc1,in1\",\n",
        "        \"out0\": \"dc2,out0\",\n",
        "        \"out1\": \"dc2,out1\",\n",
        "    }\n",
        ")\n",
        "\n",
        "mzi_sdict"
      ]
    },
    {
      "cell_type": "markdown",
      "id": "48950a3d",
      "metadata": {
        "papermill": {
          "duration": 0.005434,
          "end_time": "2023-06-01T21:50:16.311730",
          "exception": false,
          "start_time": "2023-06-01T21:50:16.306296",
          "status": "completed"
        },
        "tags": []
      },
      "source": [
        "## Algorithm Walkthrough\n",
        "\n",
        "> Note: This algorithm gets pretty slow for large circuits. I'd be [very interested in any improvements](#Algorithm-Improvements) that can be made here, especially because - as opposed to the currently faster [KLU backend](./07b_backends_klu.ipynb) - the algorithm discussed here is jittable, differentiable and can be used on GPUs."
      ]
    },
    {
      "cell_type": "markdown",
      "id": "81e28766",
      "metadata": {
        "papermill": {
          "duration": 0.00532,
          "end_time": "2023-06-01T21:50:16.322464",
          "exception": false,
          "start_time": "2023-06-01T21:50:16.317144",
          "status": "completed"
        },
        "tags": []
      },
      "source": [
        "Let's walk through all the steps of this algorithm. We'll do this for a simple MZI circuit, given by two directional couplers characterised by `dc_sdense` with a phase shifting waveguide in between `wg_sdict`:"
      ]
    },
    {
      "cell_type": "code",
      "execution_count": 6,
      "id": "e2bdfbf4",
      "metadata": {
        "execution": {
          "iopub.execute_input": "2023-06-01T21:50:16.334371Z",
          "iopub.status.busy": "2023-06-01T21:50:16.334126Z",
          "iopub.status.idle": "2023-06-01T21:50:16.337261Z",
          "shell.execute_reply": "2023-06-01T21:50:16.336854Z"
        },
        "papermill": {
          "duration": 0.011281,
          "end_time": "2023-06-01T21:50:16.339100",
          "exception": false,
          "start_time": "2023-06-01T21:50:16.327819",
          "status": "completed"
        },
        "tags": []
      },
      "outputs": [],
      "source": [
        "instances={\n",
        "    \"dc1\": dc_sdense,\n",
        "    \"wg\": wg_sdict,\n",
        "    \"dc2\": dc_sdense,\n",
        "}\n",
        "connections={\n",
        "    \"dc1,out0\": \"wg,in0\",\n",
        "    \"wg,out0\": \"dc2,in0\",\n",
        "    \"dc1,out1\": \"dc2,in1\",\n",
        "}\n",
        "ports={\n",
        "    \"in0\": \"dc1,in0\",\n",
        "    \"in1\": \"dc1,in1\",\n",
        "    \"out0\": \"dc2,out0\",\n",
        "    \"out1\": \"dc2,out1\",\n",
        "}"
      ]
    },
    {
      "cell_type": "markdown",
      "id": "6ef72161",
      "metadata": {
        "papermill": {
          "duration": 0.005303,
          "end_time": "2023-06-01T21:50:16.349781",
          "exception": false,
          "start_time": "2023-06-01T21:50:16.344478",
          "status": "completed"
        },
        "tags": []
      },
      "source": [
        "as a first step, we construct the `reversed_ports`, it's actually easier to work with `reversed_ports` (we chose the opposite convention in the netlist definition to adhere to the GDSFactory netlist convention):"
      ]
    },
    {
      "cell_type": "code",
      "execution_count": 7,
      "id": "70302612",
      "metadata": {
        "execution": {
          "iopub.execute_input": "2023-06-01T21:50:16.361432Z",
          "iopub.status.busy": "2023-06-01T21:50:16.361223Z",
          "iopub.status.idle": "2023-06-01T21:50:16.363871Z",
          "shell.execute_reply": "2023-06-01T21:50:16.363496Z"
        },
        "papermill": {
          "duration": 0.010479,
          "end_time": "2023-06-01T21:50:16.365651",
          "exception": false,
          "start_time": "2023-06-01T21:50:16.355172",
          "status": "completed"
        },
        "tags": []
      },
      "outputs": [],
      "source": [
        "reversed_ports = {v: k for k, v in ports.items()}"
      ]
    },
    {
      "cell_type": "markdown",
      "id": "78676045",
      "metadata": {
        "papermill": {
          "duration": 0.005357,
          "end_time": "2023-06-01T21:50:16.376415",
          "exception": false,
          "start_time": "2023-06-01T21:50:16.371058",
          "status": "completed"
        },
        "tags": []
      },
      "source": [
        "The first real step of the algorithm is to create the 'block diagonal sdict`:"
      ]
    },
    {
      "cell_type": "code",
      "execution_count": 8,
      "id": "0ff6149f",
      "metadata": {
        "execution": {
          "iopub.execute_input": "2023-06-01T21:50:16.388269Z",
          "iopub.status.busy": "2023-06-01T21:50:16.388037Z",
          "iopub.status.idle": "2023-06-01T21:50:16.414288Z",
          "shell.execute_reply": "2023-06-01T21:50:16.413936Z"
        },
        "papermill": {
          "duration": 0.033752,
          "end_time": "2023-06-01T21:50:16.415604",
          "exception": false,
          "start_time": "2023-06-01T21:50:16.381852",
          "status": "completed"
        },
        "tags": []
      },
      "outputs": [],
      "source": [
        "block_diag = {}\n",
        "for name, S in instances.items():\n",
        "    block_diag.update(\n",
        "        {(f\"{name},{p1}\", f\"{name},{p2}\"): v for (p1, p2), v in sdict(S).items()}\n",
        "    )\n"
      ]
    },
    {
      "cell_type": "markdown",
      "id": "c4721548",
      "metadata": {
        "papermill": {
          "duration": 0.005627,
          "end_time": "2023-06-01T21:50:16.426869",
          "exception": false,
          "start_time": "2023-06-01T21:50:16.421242",
          "status": "completed"
        },
        "tags": []
      },
      "source": [
        "we can optionally filter out zeros from the resulting block_diag representation. Just note that this will make the resuling function unjittable (the resulting 'shape' (i.e. keys) of the dictionary would depend on the data itself, which is not allowed in JAX jit). We're doing it here to avoid printing zeros but **internally this is not done by default**."
      ]
    },
    {
      "cell_type": "code",
      "execution_count": 9,
      "id": "cfce53c1",
      "metadata": {
        "execution": {
          "iopub.execute_input": "2023-06-01T21:50:16.438511Z",
          "iopub.status.busy": "2023-06-01T21:50:16.438306Z",
          "iopub.status.idle": "2023-06-01T21:50:16.497077Z",
          "shell.execute_reply": "2023-06-01T21:50:16.496716Z"
        },
        "papermill": {
          "duration": 0.06616,
          "end_time": "2023-06-01T21:50:16.498426",
          "exception": false,
          "start_time": "2023-06-01T21:50:16.432266",
          "status": "completed"
        },
        "tags": []
      },
      "outputs": [
        {
          "name": "stdout",
          "output_type": "stream",
          "text": [
            "18\n"
          ]
        },
        {
          "data": {
            "text/plain": [
              "{('dc1,in0', 'dc1,out0'): Array(0.70710677+0.j, dtype=complex64),\n",
              " ('dc1,in0', 'dc1,out1'): Array(0.+0.70710677j, dtype=complex64),\n",
              " ('dc1,in1', 'dc1,out0'): Array(0.+0.70710677j, dtype=complex64),\n",
              " ('dc1,in1', 'dc1,out1'): Array(0.70710677+0.j, dtype=complex64),\n",
              " ('dc1,out0', 'dc1,in0'): Array(0.70710677+0.j, dtype=complex64),\n",
              " ('dc1,out0', 'dc1,in1'): Array(0.+0.70710677j, dtype=complex64),\n",
              " ('dc1,out1', 'dc1,in0'): Array(0.+0.70710677j, dtype=complex64),\n",
              " ('dc1,out1', 'dc1,in1'): Array(0.70710677+0.j, dtype=complex64),\n",
              " ('wg,in0', 'wg,out0'): (0.5+0.86603j),\n",
              " ('wg,out0', 'wg,in0'): (0.5+0.86603j),\n",
              " ('dc2,in0', 'dc2,out0'): Array(0.70710677+0.j, dtype=complex64),\n",
              " ('dc2,in0', 'dc2,out1'): Array(0.+0.70710677j, dtype=complex64),\n",
              " ('dc2,in1', 'dc2,out0'): Array(0.+0.70710677j, dtype=complex64),\n",
              " ('dc2,in1', 'dc2,out1'): Array(0.70710677+0.j, dtype=complex64),\n",
              " ('dc2,out0', 'dc2,in0'): Array(0.70710677+0.j, dtype=complex64),\n",
              " ('dc2,out0', 'dc2,in1'): Array(0.+0.70710677j, dtype=complex64),\n",
              " ('dc2,out1', 'dc2,in0'): Array(0.+0.70710677j, dtype=complex64),\n",
              " ('dc2,out1', 'dc2,in1'): Array(0.70710677+0.j, dtype=complex64)}"
            ]
          },
          "execution_count": 9,
          "metadata": {},
          "output_type": "execute_result"
        }
      ],
      "source": [
        "block_diag = {k: v for k, v in block_diag.items() if jnp.abs(v) > 1e-10}\n",
        "print(len(block_diag))\n",
        "block_diag"
      ]
    },
    {
      "cell_type": "markdown",
      "id": "1963694a",
      "metadata": {
        "papermill": {
          "duration": 0.005811,
          "end_time": "2023-06-01T21:50:16.510098",
          "exception": false,
          "start_time": "2023-06-01T21:50:16.504287",
          "status": "completed"
        },
        "tags": []
      },
      "source": [
        "next, we sort the connections such that similar components are grouped together:"
      ]
    },
    {
      "cell_type": "code",
      "execution_count": 10,
      "id": "9859c2d4",
      "metadata": {
        "execution": {
          "iopub.execute_input": "2023-06-01T21:50:16.522195Z",
          "iopub.status.busy": "2023-06-01T21:50:16.521988Z",
          "iopub.status.idle": "2023-06-01T21:50:16.525388Z",
          "shell.execute_reply": "2023-06-01T21:50:16.525018Z"
        },
        "papermill": {
          "duration": 0.012091,
          "end_time": "2023-06-01T21:50:16.527808",
          "exception": false,
          "start_time": "2023-06-01T21:50:16.515717",
          "status": "completed"
        },
        "tags": []
      },
      "outputs": [
        {
          "data": {
            "text/plain": [
              "[('dc1,out1', 'dc2,in1'), ('dc1,out0', 'wg,in0'), ('wg,out0', 'dc2,in0')]"
            ]
          },
          "execution_count": 10,
          "metadata": {},
          "output_type": "execute_result"
        }
      ],
      "source": [
        "sorted_connections = sorted(connections.items(), key=_connections_sort_key)\n",
        "sorted_connections"
      ]
    },
    {
      "cell_type": "markdown",
      "id": "c75fbf65",
      "metadata": {
        "papermill": {
          "duration": 0.005643,
          "end_time": "2023-06-01T21:50:16.539328",
          "exception": false,
          "start_time": "2023-06-01T21:50:16.533685",
          "status": "completed"
        },
        "tags": []
      },
      "source": [
        "Now we iterate over the sorted connections and connect components as they come in. Connected components take over the name of the first component in the connection, but we keep a set of components belonging to that key in `all_connected_instances`.\n",
        "\n",
        "This is how this `all_connected_instances` dictionary looks initially."
      ]
    },
    {
      "cell_type": "code",
      "execution_count": 11,
      "id": "cf30668c",
      "metadata": {
        "execution": {
          "iopub.execute_input": "2023-06-01T21:50:16.551589Z",
          "iopub.status.busy": "2023-06-01T21:50:16.551394Z",
          "iopub.status.idle": "2023-06-01T21:50:16.554760Z",
          "shell.execute_reply": "2023-06-01T21:50:16.554409Z"
        },
        "papermill": {
          "duration": 0.01201,
          "end_time": "2023-06-01T21:50:16.557060",
          "exception": false,
          "start_time": "2023-06-01T21:50:16.545050",
          "status": "completed"
        },
        "tags": []
      },
      "outputs": [
        {
          "data": {
            "text/plain": [
              "{'dc1': {'dc1'}, 'wg': {'wg'}, 'dc2': {'dc2'}}"
            ]
          },
          "execution_count": 11,
          "metadata": {},
          "output_type": "execute_result"
        }
      ],
      "source": [
        "all_connected_instances = {k: {k} for k in instances}\n",
        "all_connected_instances"
      ]
    },
    {
      "cell_type": "markdown",
      "id": "1152056b",
      "metadata": {
        "papermill": {
          "duration": 0.005751,
          "end_time": "2023-06-01T21:50:16.568663",
          "exception": false,
          "start_time": "2023-06-01T21:50:16.562912",
          "status": "completed"
        },
        "tags": []
      },
      "source": [
        "Normally we would loop over every connection in `sorted_connections` now, but let's just go through it once at first:"
      ]
    },
    {
      "cell_type": "code",
      "execution_count": 12,
      "id": "e40464382774a37d",
      "metadata": {
        "execution": {
          "iopub.execute_input": "2023-06-01T21:50:16.581028Z",
          "iopub.status.busy": "2023-06-01T21:50:16.580842Z",
          "iopub.status.idle": "2023-06-01T21:50:16.584203Z",
          "shell.execute_reply": "2023-06-01T21:50:16.583773Z"
        },
        "papermill": {
          "duration": 0.011563,
          "end_time": "2023-06-01T21:50:16.586037",
          "exception": false,
          "start_time": "2023-06-01T21:50:16.574474",
          "status": "completed"
        },
        "tags": []
      },
      "outputs": [
        {
          "data": {
            "text/plain": [
              "('dc1,out1', 'dc2,in1')"
            ]
          },
          "execution_count": 12,
          "metadata": {},
          "output_type": "execute_result"
        }
      ],
      "source": [
        "# for k, l in sorted_connections:\n",
        "k, l = sorted_connections[0]\n",
        "k, l"
      ]
    },
    {
      "cell_type": "markdown",
      "id": "16a2266c",
      "metadata": {
        "papermill": {
          "duration": 0.005821,
          "end_time": "2023-06-01T21:50:16.597786",
          "exception": false,
          "start_time": "2023-06-01T21:50:16.591965",
          "status": "completed"
        },
        "tags": []
      },
      "source": [
        "`k` and `l` are the S-matrix indices we're trying to connect. Note that in our sparse `SDict` notation these S-matrix indices are in fact equivalent with the port names `('dc1,out1', 'dc2,in1')`!"
      ]
    },
    {
      "cell_type": "markdown",
      "id": "0eaf4add",
      "metadata": {
        "papermill": {
          "duration": 0.005786,
          "end_time": "2023-06-01T21:50:16.609460",
          "exception": false,
          "start_time": "2023-06-01T21:50:16.603674",
          "status": "completed"
        },
        "tags": []
      },
      "source": [
        "first we split the connection string into an instance name and a port name (we don't use the port name yet):"
      ]
    },
    {
      "cell_type": "code",
      "execution_count": 13,
      "id": "667d1a3c",
      "metadata": {
        "execution": {
          "iopub.execute_input": "2023-06-01T21:50:16.622192Z",
          "iopub.status.busy": "2023-06-01T21:50:16.621922Z",
          "iopub.status.idle": "2023-06-01T21:50:16.625265Z",
          "shell.execute_reply": "2023-06-01T21:50:16.624515Z"
        },
        "papermill": {
          "duration": 0.011151,
          "end_time": "2023-06-01T21:50:16.626533",
          "exception": false,
          "start_time": "2023-06-01T21:50:16.615382",
          "status": "completed"
        },
        "tags": []
      },
      "outputs": [],
      "source": [
        "name1, _ = k.split(\",\")\n",
        "name2, _ = l.split(\",\")"
      ]
    },
    {
      "cell_type": "markdown",
      "id": "16e8bbe8",
      "metadata": {
        "papermill": {
          "duration": 0.005897,
          "end_time": "2023-06-01T21:50:16.639132",
          "exception": false,
          "start_time": "2023-06-01T21:50:16.633235",
          "status": "completed"
        },
        "tags": []
      },
      "source": [
        "We then obtain the new set of connected instances."
      ]
    },
    {
      "cell_type": "code",
      "execution_count": 14,
      "id": "51bf8615",
      "metadata": {
        "execution": {
          "iopub.execute_input": "2023-06-01T21:50:16.652065Z",
          "iopub.status.busy": "2023-06-01T21:50:16.651775Z",
          "iopub.status.idle": "2023-06-01T21:50:16.655277Z",
          "shell.execute_reply": "2023-06-01T21:50:16.654917Z"
        },
        "papermill": {
          "duration": 0.012351,
          "end_time": "2023-06-01T21:50:16.657516",
          "exception": false,
          "start_time": "2023-06-01T21:50:16.645165",
          "status": "completed"
        },
        "tags": []
      },
      "outputs": [
        {
          "data": {
            "text/plain": [
              "{'dc1', 'dc2'}"
            ]
          },
          "execution_count": 14,
          "metadata": {},
          "output_type": "execute_result"
        }
      ],
      "source": [
        "connected_instances = all_connected_instances[name1] | all_connected_instances[name2]\n",
        "connected_instances"
      ]
    },
    {
      "cell_type": "markdown",
      "id": "676c8d61",
      "metadata": {
        "papermill": {
          "duration": 0.005907,
          "end_time": "2023-06-01T21:50:16.669480",
          "exception": false,
          "start_time": "2023-06-01T21:50:16.663573",
          "status": "completed"
        },
        "tags": []
      },
      "source": [
        "We then iterate over each of the components in this set and make sure each of the component names in that set maps to that set (yes, I know... confusing). We do this to be able to keep track with which components each of the components in the circuit is currently already connected to."
      ]
    },
    {
      "cell_type": "code",
      "execution_count": 15,
      "id": "d322e86c",
      "metadata": {
        "execution": {
          "iopub.execute_input": "2023-06-01T21:50:16.682403Z",
          "iopub.status.busy": "2023-06-01T21:50:16.682129Z",
          "iopub.status.idle": "2023-06-01T21:50:16.686501Z",
          "shell.execute_reply": "2023-06-01T21:50:16.686146Z"
        },
        "papermill": {
          "duration": 0.013284,
          "end_time": "2023-06-01T21:50:16.688758",
          "exception": false,
          "start_time": "2023-06-01T21:50:16.675474",
          "status": "completed"
        },
        "tags": []
      },
      "outputs": [
        {
          "data": {
            "text/plain": [
              "{'dc1': {'dc1', 'dc2'}, 'wg': {'wg'}, 'dc2': {'dc1', 'dc2'}}"
            ]
          },
          "execution_count": 15,
          "metadata": {},
          "output_type": "execute_result"
        }
      ],
      "source": [
        "for name in connected_instances:\n",
        "    all_connected_instances[name] = connected_instances\n",
        "    \n",
        "all_connected_instances"
      ]
    },
    {
      "cell_type": "markdown",
      "id": "b79f49f8",
      "metadata": {
        "papermill": {
          "duration": 0.00629,
          "end_time": "2023-06-01T21:50:16.701239",
          "exception": false,
          "start_time": "2023-06-01T21:50:16.694949",
          "status": "completed"
        },
        "tags": []
      },
      "source": [
        "now we need to obtain all the ports of the currently connected instances."
      ]
    },
    {
      "cell_type": "code",
      "execution_count": 16,
      "id": "61b3cfab",
      "metadata": {
        "execution": {
          "iopub.execute_input": "2023-06-01T21:50:16.714387Z",
          "iopub.status.busy": "2023-06-01T21:50:16.714117Z",
          "iopub.status.idle": "2023-06-01T21:50:16.718360Z",
          "shell.execute_reply": "2023-06-01T21:50:16.717947Z"
        },
        "papermill": {
          "duration": 0.012961,
          "end_time": "2023-06-01T21:50:16.720325",
          "exception": false,
          "start_time": "2023-06-01T21:50:16.707364",
          "status": "completed"
        },
        "tags": []
      },
      "outputs": [
        {
          "data": {
            "text/plain": [
              "('dc2,out0',\n",
              " 'dc2,in0',\n",
              " 'dc2,out1',\n",
              " 'dc2,in1',\n",
              " 'dc1,out0',\n",
              " 'dc1,out1',\n",
              " 'dc1,in1',\n",
              " 'dc1,in0')"
            ]
          },
          "execution_count": 16,
          "metadata": {},
          "output_type": "execute_result"
        }
      ],
      "source": [
        "current_ports = tuple(\n",
        "    p\n",
        "    for instance in connected_instances\n",
        "    for p in set([p for p, _ in block_diag] + [p for _, p in block_diag])\n",
        "    if p.startswith(f\"{instance},\")\n",
        ")\n",
        "\n",
        "current_ports"
      ]
    },
    {
      "cell_type": "markdown",
      "id": "d0e87449",
      "metadata": {
        "papermill": {
          "duration": 0.006245,
          "end_time": "2023-06-01T21:50:16.732855",
          "exception": false,
          "start_time": "2023-06-01T21:50:16.726610",
          "status": "completed"
        },
        "tags": []
      },
      "source": [
        "Now the [Gunnar Algorithm](#citation) is used. Given a (block-diagonal) 'S-matrix' `block_diag` and a 'connection matrix' `current_ports` we can interconnect port `k` and `l` as follows:\n",
        "\n",
        "> Note: some creative freedom is used here. In SAX, the matrices we're talking about are in fact represented by a sparse dictionary (an `SDict`), i.e. similar to a COO sparse matrix for which the indices are the port names."
      ]
    },
    {
      "cell_type": "code",
      "execution_count": 17,
      "id": "431649e5",
      "metadata": {
        "execution": {
          "iopub.execute_input": "2023-06-01T21:50:16.746475Z",
          "iopub.status.busy": "2023-06-01T21:50:16.746178Z",
          "iopub.status.idle": "2023-06-01T21:50:17.225223Z",
          "shell.execute_reply": "2023-06-01T21:50:17.224824Z"
        },
        "papermill": {
          "duration": 0.487778,
          "end_time": "2023-06-01T21:50:17.226873",
          "exception": false,
          "start_time": "2023-06-01T21:50:16.739095",
          "status": "completed"
        },
        "tags": []
      },
      "outputs": [],
      "source": [
        "def _interconnect_ports(block_diag, current_ports, k, l):\n",
        "    current_block_diag = {}\n",
        "    for i in current_ports:\n",
        "        for j in current_ports:\n",
        "            vij = _calculate_interconnected_value(\n",
        "                vij=block_diag.get((i, j), 0.0),\n",
        "                vik=block_diag.get((i, k), 0.0),\n",
        "                vil=block_diag.get((i, l), 0.0),\n",
        "                vkj=block_diag.get((k, j), 0.0),\n",
        "                vkk=block_diag.get((k, k), 0.0),\n",
        "                vkl=block_diag.get((k, l), 0.0),\n",
        "                vlj=block_diag.get((l, j), 0.0),\n",
        "                vlk=block_diag.get((l, k), 0.0),\n",
        "                vll=block_diag.get((l, l), 0.0),\n",
        "            )\n",
        "            current_block_diag[i, j] = vij\n",
        "    return current_block_diag\n",
        "\n",
        "@jax.jit\n",
        "def _calculate_interconnected_value(vij, vik, vil, vkj, vkk, vkl, vlj, vlk, vll):\n",
        "    result = vij + (\n",
        "        vkj * vil * (1 - vlk)\n",
        "        + vlj * vik * (1 - vkl)\n",
        "        + vkj * vll * vik\n",
        "        + vlj * vkk * vil\n",
        "    ) / ((1 - vkl) * (1 - vlk) - vkk * vll)\n",
        "    return result\n",
        "\n",
        "block_diag.update(_interconnect_ports(block_diag, current_ports, k, l))"
      ]
    },
    {
      "cell_type": "markdown",
      "id": "988c08d9",
      "metadata": {
        "papermill": {
          "duration": 0.006631,
          "end_time": "2023-06-01T21:50:17.240200",
          "exception": false,
          "start_time": "2023-06-01T21:50:17.233569",
          "status": "completed"
        },
        "tags": []
      },
      "source": [
        "Just as before, we're filtering the zeros from the sparse representation (remember, internally this is **not done by default**)."
      ]
    },
    {
      "cell_type": "code",
      "execution_count": 18,
      "id": "e9ac8164",
      "metadata": {
        "execution": {
          "iopub.execute_input": "2023-06-01T21:50:17.253867Z",
          "iopub.status.busy": "2023-06-01T21:50:17.253555Z",
          "iopub.status.idle": "2023-06-01T21:50:17.277659Z",
          "shell.execute_reply": "2023-06-01T21:50:17.277298Z"
        },
        "papermill": {
          "duration": 0.032431,
          "end_time": "2023-06-01T21:50:17.278925",
          "exception": false,
          "start_time": "2023-06-01T21:50:17.246494",
          "status": "completed"
        },
        "tags": []
      },
      "outputs": [
        {
          "name": "stdout",
          "output_type": "stream",
          "text": [
            "26\n"
          ]
        },
        {
          "data": {
            "text/plain": [
              "{('dc1,in0', 'dc1,out0'): Array(0.70710677+0.j, dtype=complex64),\n",
              " ('dc1,in0', 'dc1,out1'): Array(0.+0.70710677j, dtype=complex64),\n",
              " ('dc1,in1', 'dc1,out0'): Array(0.+0.70710677j, dtype=complex64),\n",
              " ('dc1,in1', 'dc1,out1'): Array(0.70710677+0.j, dtype=complex64),\n",
              " ('dc1,out0', 'dc1,in0'): Array(0.70710677+0.j, dtype=complex64),\n",
              " ('dc1,out0', 'dc1,in1'): Array(0.+0.70710677j, dtype=complex64),\n",
              " ('dc1,out1', 'dc1,in0'): Array(0.+0.70710677j, dtype=complex64),\n",
              " ('dc1,out1', 'dc1,in1'): Array(0.70710677+0.j, dtype=complex64),\n",
              " ('wg,in0', 'wg,out0'): (0.5+0.86603j),\n",
              " ('wg,out0', 'wg,in0'): (0.5+0.86603j),\n",
              " ('dc2,in0', 'dc2,out0'): Array(0.70710677+0.j, dtype=complex64),\n",
              " ('dc2,in0', 'dc2,out1'): Array(0.+0.70710677j, dtype=complex64),\n",
              " ('dc2,in1', 'dc2,out0'): Array(0.+0.70710677j, dtype=complex64),\n",
              " ('dc2,in1', 'dc2,out1'): Array(0.70710677+0.j, dtype=complex64),\n",
              " ('dc2,out0', 'dc2,in0'): Array(0.70710677+0.j, dtype=complex64),\n",
              " ('dc2,out0', 'dc2,in1'): Array(0.+0.70710677j, dtype=complex64),\n",
              " ('dc2,out1', 'dc2,in0'): Array(0.+0.70710677j, dtype=complex64),\n",
              " ('dc2,out1', 'dc2,in1'): Array(0.70710677+0.j, dtype=complex64),\n",
              " ('dc2,out0', 'dc1,in1'): Array(0.+0.49999997j, dtype=complex64),\n",
              " ('dc2,out0', 'dc1,in0'): Array(-0.49999997+0.j, dtype=complex64),\n",
              " ('dc2,out1', 'dc1,in1'): Array(0.49999997+0.j, dtype=complex64),\n",
              " ('dc2,out1', 'dc1,in0'): Array(0.+0.49999997j, dtype=complex64),\n",
              " ('dc1,in1', 'dc2,out0'): Array(0.+0.49999997j, dtype=complex64),\n",
              " ('dc1,in1', 'dc2,out1'): Array(0.49999997+0.j, dtype=complex64),\n",
              " ('dc1,in0', 'dc2,out0'): Array(-0.49999997+0.j, dtype=complex64),\n",
              " ('dc1,in0', 'dc2,out1'): Array(0.+0.49999997j, dtype=complex64)}"
            ]
          },
          "execution_count": 18,
          "metadata": {},
          "output_type": "execute_result"
        }
      ],
      "source": [
        "block_diag = {k: v for k, v in block_diag.items() if jnp.abs(v) > 1e-10}\n",
        "print(len(block_diag))\n",
        "block_diag"
      ]
    },
    {
      "cell_type": "markdown",
      "id": "db0cd151",
      "metadata": {
        "papermill": {
          "duration": 0.006705,
          "end_time": "2023-06-01T21:50:17.292251",
          "exception": false,
          "start_time": "2023-06-01T21:50:17.285546",
          "status": "completed"
        },
        "tags": []
      },
      "source": [
        "This is the resulting block-diagonal matrix after interconnecting two ports (i.e. basically saying that those two ports are the same port). Because these ports are now connected we should actually remove them from the S-matrix representation (they are integrated into the S-parameters of the other connections):"
      ]
    },
    {
      "cell_type": "code",
      "execution_count": 19,
      "id": "311b034f",
      "metadata": {
        "execution": {
          "iopub.execute_input": "2023-06-01T21:50:17.306111Z",
          "iopub.status.busy": "2023-06-01T21:50:17.305840Z",
          "iopub.status.idle": "2023-06-01T21:50:17.318598Z",
          "shell.execute_reply": "2023-06-01T21:50:17.318217Z"
        },
        "papermill": {
          "duration": 0.021055,
          "end_time": "2023-06-01T21:50:17.319756",
          "exception": false,
          "start_time": "2023-06-01T21:50:17.298701",
          "status": "completed"
        },
        "tags": []
      },
      "outputs": [
        {
          "name": "stdout",
          "output_type": "stream",
          "text": [
            "18\n"
          ]
        },
        {
          "data": {
            "text/plain": [
              "{('dc1,in0', 'dc1,out0'): Array(0.70710677+0.j, dtype=complex64),\n",
              " ('dc1,in1', 'dc1,out0'): Array(0.+0.70710677j, dtype=complex64),\n",
              " ('dc1,out0', 'dc1,in0'): Array(0.70710677+0.j, dtype=complex64),\n",
              " ('dc1,out0', 'dc1,in1'): Array(0.+0.70710677j, dtype=complex64),\n",
              " ('wg,in0', 'wg,out0'): (0.5+0.86603j),\n",
              " ('wg,out0', 'wg,in0'): (0.5+0.86603j),\n",
              " ('dc2,in0', 'dc2,out0'): Array(0.70710677+0.j, dtype=complex64),\n",
              " ('dc2,in0', 'dc2,out1'): Array(0.+0.70710677j, dtype=complex64),\n",
              " ('dc2,out0', 'dc2,in0'): Array(0.70710677+0.j, dtype=complex64),\n",
              " ('dc2,out1', 'dc2,in0'): Array(0.+0.70710677j, dtype=complex64),\n",
              " ('dc2,out0', 'dc1,in1'): Array(0.+0.49999997j, dtype=complex64),\n",
              " ('dc2,out0', 'dc1,in0'): Array(-0.49999997+0.j, dtype=complex64),\n",
              " ('dc2,out1', 'dc1,in1'): Array(0.49999997+0.j, dtype=complex64),\n",
              " ('dc2,out1', 'dc1,in0'): Array(0.+0.49999997j, dtype=complex64),\n",
              " ('dc1,in1', 'dc2,out0'): Array(0.+0.49999997j, dtype=complex64),\n",
              " ('dc1,in1', 'dc2,out1'): Array(0.49999997+0.j, dtype=complex64),\n",
              " ('dc1,in0', 'dc2,out0'): Array(-0.49999997+0.j, dtype=complex64),\n",
              " ('dc1,in0', 'dc2,out1'): Array(0.+0.49999997j, dtype=complex64)}"
            ]
          },
          "execution_count": 19,
          "metadata": {},
          "output_type": "execute_result"
        }
      ],
      "source": [
        "for i, j in list(block_diag.keys()):\n",
        "    is_connected = i == k or i == l or j == k or j == l\n",
        "    is_in_output_ports = i in reversed_ports and j in reversed_ports\n",
        "    if is_connected and not is_in_output_ports:\n",
        "        del block_diag[i, j]  # we're no longer interested in these port combinations\n",
        "        \n",
        "print(len(block_diag))\n",
        "block_diag"
      ]
    },
    {
      "cell_type": "markdown",
      "id": "b6badcb7",
      "metadata": {
        "papermill": {
          "duration": 0.00661,
          "end_time": "2023-06-01T21:50:17.333240",
          "exception": false,
          "start_time": "2023-06-01T21:50:17.326630",
          "status": "completed"
        },
        "tags": []
      },
      "source": [
        "Note that this deletion of values **does NOT** make this operation un-jittable. The deletion depends on the ports of the dictionary (i.e. on the dictionary 'shape'), not on the values."
      ]
    },
    {
      "cell_type": "markdown",
      "id": "89e775cd",
      "metadata": {
        "papermill": {
          "duration": 0.006645,
          "end_time": "2023-06-01T21:50:17.346640",
          "exception": false,
          "start_time": "2023-06-01T21:50:17.339995",
          "status": "completed"
        },
        "tags": []
      },
      "source": [
        "We now basically have to do those steps again for all other connections:"
      ]
    },
    {
      "cell_type": "code",
      "execution_count": 20,
      "id": "c82a03c6fd950bde",
      "metadata": {
        "execution": {
          "iopub.execute_input": "2023-06-01T21:50:17.360895Z",
          "iopub.status.busy": "2023-06-01T21:50:17.360629Z",
          "iopub.status.idle": "2023-06-01T21:50:18.513156Z",
          "shell.execute_reply": "2023-06-01T21:50:18.512750Z"
        },
        "papermill": {
          "duration": 1.16154,
          "end_time": "2023-06-01T21:50:18.514821",
          "exception": false,
          "start_time": "2023-06-01T21:50:17.353281",
          "status": "completed"
        },
        "tags": []
      },
      "outputs": [],
      "source": [
        "#for k, l in sorted_connections: \n",
        "for k, l in sorted_connections[1:]: # we just did the first iteration of this loop above...\n",
        "    name1, _ = k.split(\",\")\n",
        "    name2, _ = l.split(\",\")\n",
        "    connected_instances = all_connected_instances[name1] | all_connected_instances[name2]\n",
        "    for name in connected_instances:\n",
        "        all_connected_instances[name] = connected_instances\n",
        "    current_ports = tuple(\n",
        "        p\n",
        "        for instance in connected_instances\n",
        "        for p in set([p for p, _ in block_diag] + [p for _, p in block_diag])\n",
        "        if p.startswith(f\"{instance},\")\n",
        "    )\n",
        "    block_diag.update(_interconnect_ports(block_diag, current_ports, k, l))\n",
        "    for i, j in list(block_diag.keys()):\n",
        "        is_connected = i == k or i == l or j == k or j == l\n",
        "        is_in_output_ports = i in reversed_ports and j in reversed_ports\n",
        "        if is_connected and not is_in_output_ports:\n",
        "            del block_diag[i, j]  # we're no longer interested in these port combinations"
      ]
    },
    {
      "cell_type": "markdown",
      "id": "36eb82fc",
      "metadata": {
        "papermill": {
          "duration": 0.00675,
          "end_time": "2023-06-01T21:50:18.528967",
          "exception": false,
          "start_time": "2023-06-01T21:50:18.522217",
          "status": "completed"
        },
        "tags": []
      },
      "source": [
        "This is the final MZI matrix we're getting:"
      ]
    },
    {
      "cell_type": "code",
      "execution_count": 21,
      "id": "d1c0367e",
      "metadata": {
        "execution": {
          "iopub.execute_input": "2023-06-01T21:50:18.543454Z",
          "iopub.status.busy": "2023-06-01T21:50:18.543138Z",
          "iopub.status.idle": "2023-06-01T21:50:18.550811Z",
          "shell.execute_reply": "2023-06-01T21:50:18.550375Z"
        },
        "papermill": {
          "duration": 0.016474,
          "end_time": "2023-06-01T21:50:18.552116",
          "exception": false,
          "start_time": "2023-06-01T21:50:18.535642",
          "status": "completed"
        },
        "tags": []
      },
      "outputs": [
        {
          "data": {
            "text/plain": [
              "{('dc2,out0', 'dc1,in1'): Array(-0.433015+0.74999994j, dtype=complex64),\n",
              " ('dc2,out0', 'dc1,in0'): Array(-0.24999999+0.433015j, dtype=complex64),\n",
              " ('dc2,out1', 'dc1,in1'): Array(0.24999999-0.433015j, dtype=complex64),\n",
              " ('dc2,out1', 'dc1,in0'): Array(-0.433015+0.74999994j, dtype=complex64),\n",
              " ('dc1,in1', 'dc2,out0'): Array(-0.433015+0.74999994j, dtype=complex64),\n",
              " ('dc1,in1', 'dc2,out1'): Array(0.24999999-0.433015j, dtype=complex64),\n",
              " ('dc1,in0', 'dc2,out0'): Array(-0.24999999+0.433015j, dtype=complex64),\n",
              " ('dc1,in0', 'dc2,out1'): Array(-0.433015+0.74999994j, dtype=complex64),\n",
              " ('dc2,out0', 'dc2,out0'): Array(0.+0.j, dtype=complex64),\n",
              " ('dc2,out0', 'dc2,out1'): Array(0.+0.j, dtype=complex64),\n",
              " ('dc2,out1', 'dc2,out0'): Array(0.+0.j, dtype=complex64),\n",
              " ('dc2,out1', 'dc2,out1'): Array(0.+0.j, dtype=complex64),\n",
              " ('dc1,in1', 'dc1,in1'): Array(0.+0.j, dtype=complex64),\n",
              " ('dc1,in1', 'dc1,in0'): Array(0.+0.j, dtype=complex64),\n",
              " ('dc1,in0', 'dc1,in1'): Array(0.+0.j, dtype=complex64),\n",
              " ('dc1,in0', 'dc1,in0'): Array(0.+0.j, dtype=complex64)}"
            ]
          },
          "execution_count": 21,
          "metadata": {},
          "output_type": "execute_result"
        }
      ],
      "source": [
        "block_diag"
      ]
    },
    {
      "cell_type": "markdown",
      "id": "03f67ec6",
      "metadata": {
        "papermill": {
          "duration": 0.006775,
          "end_time": "2023-06-01T21:50:18.565867",
          "exception": false,
          "start_time": "2023-06-01T21:50:18.559092",
          "status": "completed"
        },
        "tags": []
      },
      "source": [
        "All that's left is to rename these internal ports of the format `{instance},{port}` into output ports of the resulting circuit:"
      ]
    },
    {
      "cell_type": "code",
      "execution_count": 22,
      "id": "cf5ea4af",
      "metadata": {
        "execution": {
          "iopub.execute_input": "2023-06-01T21:50:18.580556Z",
          "iopub.status.busy": "2023-06-01T21:50:18.580262Z",
          "iopub.status.idle": "2023-06-01T21:50:18.587549Z",
          "shell.execute_reply": "2023-06-01T21:50:18.587120Z"
        },
        "papermill": {
          "duration": 0.016155,
          "end_time": "2023-06-01T21:50:18.588835",
          "exception": false,
          "start_time": "2023-06-01T21:50:18.572680",
          "status": "completed"
        },
        "tags": []
      },
      "outputs": [
        {
          "data": {
            "text/plain": [
              "{('out0', 'in1'): Array(-0.433015+0.74999994j, dtype=complex64),\n",
              " ('out0', 'in0'): Array(-0.24999999+0.433015j, dtype=complex64),\n",
              " ('out1', 'in1'): Array(0.24999999-0.433015j, dtype=complex64),\n",
              " ('out1', 'in0'): Array(-0.433015+0.74999994j, dtype=complex64),\n",
              " ('in1', 'out0'): Array(-0.433015+0.74999994j, dtype=complex64),\n",
              " ('in1', 'out1'): Array(0.24999999-0.433015j, dtype=complex64),\n",
              " ('in0', 'out0'): Array(-0.24999999+0.433015j, dtype=complex64),\n",
              " ('in0', 'out1'): Array(-0.433015+0.74999994j, dtype=complex64),\n",
              " ('out0', 'out0'): Array(0.+0.j, dtype=complex64),\n",
              " ('out0', 'out1'): Array(0.+0.j, dtype=complex64),\n",
              " ('out1', 'out0'): Array(0.+0.j, dtype=complex64),\n",
              " ('out1', 'out1'): Array(0.+0.j, dtype=complex64),\n",
              " ('in1', 'in1'): Array(0.+0.j, dtype=complex64),\n",
              " ('in1', 'in0'): Array(0.+0.j, dtype=complex64),\n",
              " ('in0', 'in1'): Array(0.+0.j, dtype=complex64),\n",
              " ('in0', 'in0'): Array(0.+0.j, dtype=complex64)}"
            ]
          },
          "execution_count": 22,
          "metadata": {},
          "output_type": "execute_result"
        }
      ],
      "source": [
        "circuit_sdict: SDict = {\n",
        "    (reversed_ports[i], reversed_ports[j]): v\n",
        "    for (i, j), v in block_diag.items()\n",
        "    if i in reversed_ports and j in reversed_ports\n",
        "}\n",
        "circuit_sdict"
      ]
    },
    {
      "cell_type": "markdown",
      "id": "7dc6505e",
      "metadata": {
        "papermill": {
          "duration": 0.006875,
          "end_time": "2023-06-01T21:50:18.602636",
          "exception": false,
          "start_time": "2023-06-01T21:50:18.595761",
          "status": "completed"
        },
        "tags": []
      },
      "source": [
        "And that's it. We evaluated the `SDict` of the full circuit."
      ]
    },
    {
      "cell_type": "markdown",
      "id": "170db10b",
      "metadata": {
        "papermill": {
          "duration": 0.006867,
          "end_time": "2023-06-01T21:50:18.616408",
          "exception": false,
          "start_time": "2023-06-01T21:50:18.609541",
          "status": "completed"
        },
        "tags": []
      },
      "source": [
        "## Algorithm Improvements"
      ]
    },
    {
      "cell_type": "markdown",
      "id": "4ed0e69a",
      "metadata": {
        "papermill": {
          "duration": 0.006847,
          "end_time": "2023-06-01T21:50:18.630112",
          "exception": false,
          "start_time": "2023-06-01T21:50:18.623265",
          "status": "completed"
        },
        "tags": []
      },
      "source": [
        "This algorithm is \n",
        "\n",
        "* pretty fast for small circuits \ud83d\ude42\n",
        "* jittable \ud83d\ude42\n",
        "* differentiable \ud83d\ude42\n",
        "* GPU-compatible \ud83d\ude42\n",
        "\n",
        "This algorithm is however:\n",
        "\n",
        "* **really slow** for large circuits \ud83d\ude25\n",
        "* **pretty slow** to jit the resulting circuit function \ud83d\ude25\n",
        "* **pretty slow** to differentiate the resulting circuit function \ud83d\ude25\n",
        "\n",
        "There are probably still plenty of improvements possible for this algorithm:\n",
        "\n",
        "* **\u00bf** Network analysis (ft. NetworkX ?) to obtain which ports of the block diagonal representation are relevant to obtain the output connection **?**\n",
        "* **\u00bf** Smarter ordering of connections to always have the minimum amount of ports in the intermediate block-diagonal representation **?**\n",
        "* **\u00bf** Using `jax.lax.scan` in stead of python native for-loops in `_interconnect_ports` **?**\n",
        "* **\u00bf** ... **?**\n",
        "\n",
        "Bottom line is... Do you know how to improve this algorithm or how to implement the above suggestions? Please open a Merge Request!"
      ]
    }
  ],
  "metadata": {
    "kernelspec": {
      "display_name": "sax",
      "language": "python",
      "name": "sax"
    },
    "language_info": {
      "codemirror_mode": {
        "name": "ipython",
        "version": 3
      },
      "file_extension": ".py",
      "mimetype": "text/x-python",
      "name": "python",
      "nbconvert_exporter": "python",
      "pygments_lexer": "ipython3",
      "version": "3.11.3"
    },
    "papermill": {
      "default_parameters": {},
      "duration": 5.764758,
      "end_time": "2023-06-01T21:50:19.053313",
      "environment_variables": {},
      "exception": null,
      "input_path": "./nbs/08a_backends_default.ipynb",
      "output_path": "./nbs/08a_backends_default.ipynb",
      "parameters": {},
      "start_time": "2023-06-01T21:50:13.288555",
      "version": "2.3.4"
    }
  },
  "nbformat": 4,
  "nbformat_minor": 5
}