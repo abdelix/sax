{
  "cells": [
    {
      "cell_type": "code",
      "execution_count": 1,
      "id": "a1fa0695d5b299c4",
      "metadata": {
        "execution": {
          "iopub.execute_input": "2023-09-01T16:50:19.990369Z",
          "iopub.status.busy": "2023-09-01T16:50:19.989884Z",
          "iopub.status.idle": "2023-09-01T16:50:19.993082Z",
          "shell.execute_reply": "2023-09-01T16:50:19.992545Z"
        },
        "papermill": {
          "duration": 0.011854,
          "end_time": "2023-09-01T16:50:19.994244",
          "exception": false,
          "start_time": "2023-09-01T16:50:19.982390",
          "status": "completed"
        },
        "tags": [
          "remove-cell"
        ]
      },
      "outputs": [],
      "source": []
    },
    {
      "cell_type": "markdown",
      "id": "41e0d311",
      "metadata": {
        "papermill": {
          "duration": 0.006422,
          "end_time": "2023-09-01T16:50:20.006497",
          "exception": false,
          "start_time": "2023-09-01T16:50:20.000075",
          "status": "completed"
        },
        "tags": []
      },
      "source": [
        "# Backend - default\n",
        "\n",
        "> Default SAX Backend"
      ]
    },
    {
      "cell_type": "code",
      "execution_count": 2,
      "id": "d8e2aa768e40ba18",
      "metadata": {
        "execution": {
          "iopub.execute_input": "2023-09-01T16:50:20.043994Z",
          "iopub.status.busy": "2023-09-01T16:50:20.043324Z",
          "iopub.status.idle": "2023-09-01T16:50:20.048643Z",
          "shell.execute_reply": "2023-09-01T16:50:20.048244Z"
        },
        "papermill": {
          "duration": 0.013005,
          "end_time": "2023-09-01T16:50:20.049741",
          "exception": false,
          "start_time": "2023-09-01T16:50:20.036736",
          "status": "completed"
        },
        "tags": [
          "remove-cell"
        ]
      },
      "outputs": [],
      "source": [
        "import os, sys; sys.stderr = open(os.devnull, \"w\")"
      ]
    },
    {
      "cell_type": "code",
      "execution_count": 3,
      "id": "9fa406e3f86eccea",
      "metadata": {
        "execution": {
          "iopub.execute_input": "2023-09-01T16:50:20.062360Z",
          "iopub.status.busy": "2023-09-01T16:50:20.061877Z",
          "iopub.status.idle": "2023-09-01T16:50:20.875121Z",
          "shell.execute_reply": "2023-09-01T16:50:20.874644Z"
        },
        "papermill": {
          "duration": 0.821092,
          "end_time": "2023-09-01T16:50:20.876653",
          "exception": false,
          "start_time": "2023-09-01T16:50:20.055561",
          "status": "completed"
        },
        "tags": [
          "hide-input"
        ]
      },
      "outputs": [],
      "source": [
        "from __future__ import annotations\n",
        "\n",
        "import warnings\n",
        "from types import SimpleNamespace\n",
        "from typing import Dict\n",
        "\n",
        "try:\n",
        "    import jax\n",
        "    import jax.numpy as jnp\n",
        "    JAX_AVAILABLE = True\n",
        "except ImportError:\n",
        "    import numpy as jnp\n",
        "    def jit(func, *args, **kwargs):\n",
        "        warnings.warn(\"[NO JAX] skipping jit! Please install JAX!\")\n",
        "        return func\n",
        "    \n",
        "    jax = SimpleNamespace(jit=jit)\n",
        "    JAX_AVAILABLE = False\n",
        "    \n",
        "from sax.typing_ import SDict, SType, SDense, sdict"
      ]
    },
    {
      "cell_type": "markdown",
      "id": "d8369d2f-9109-4375-8cb4-6d7ccabbd356",
      "metadata": {
        "papermill": {
          "duration": 0.005862,
          "end_time": "2023-09-01T16:50:20.888536",
          "exception": false,
          "start_time": "2023-09-01T16:50:20.882674",
          "status": "completed"
        },
        "tags": []
      },
      "source": [
        "## Citation\n",
        "The default SAX backend is based on the following paper:\n",
        "\n",
        "> Filipsson, Gunnar. \"*A new general computer algorithm for S-matrix calculation of interconnected multiports.*\" 11th European Microwave Conference. IEEE, 1981."
      ]
    },
    {
      "cell_type": "markdown",
      "id": "08081414-cd3c-4fd7-91c5-15c54ec4d153",
      "metadata": {
        "papermill": {
          "duration": 0.005574,
          "end_time": "2023-09-01T16:50:20.899787",
          "exception": false,
          "start_time": "2023-09-01T16:50:20.894213",
          "status": "completed"
        },
        "tags": []
      },
      "source": [
        "## Circuit Analyzation"
      ]
    },
    {
      "cell_type": "markdown",
      "id": "6a5a442c5faee6c0",
      "metadata": {},
      "source": [
        ":::{eval-rst}\n",
        ".. autofunction:: sax.backends.default.analyze_circuit\n",
        ":::\n"
      ]
    },
    {
      "cell_type": "code",
      "execution_count": 4,
      "id": "64ae5c9a0b9de2aa",
      "metadata": {
        "execution": {
          "iopub.execute_input": "2023-09-01T16:50:20.912535Z",
          "iopub.status.busy": "2023-09-01T16:50:20.911930Z",
          "iopub.status.idle": "2023-09-01T16:50:20.914976Z",
          "shell.execute_reply": "2023-09-01T16:50:20.914622Z"
        },
        "papermill": {
          "duration": 0.0107,
          "end_time": "2023-09-01T16:50:20.916071",
          "exception": false,
          "start_time": "2023-09-01T16:50:20.905371",
          "status": "completed"
        },
        "tags": [
          "hide-input"
        ]
      },
      "outputs": [],
      "source": [
        "\n",
        "def analyze_circuit(connections, ports):\n",
        "    # skip analysis for now\n",
        "    return connections, ports"
      ]
    },
    {
      "cell_type": "markdown",
      "id": "feea9c4f-0528-44e0-8e87-91234c6d29cc",
      "metadata": {
        "papermill": {
          "duration": 0.005634,
          "end_time": "2023-09-01T16:50:20.927371",
          "exception": false,
          "start_time": "2023-09-01T16:50:20.921737",
          "status": "completed"
        },
        "tags": []
      },
      "source": [
        "## Circuit Evaluation"
      ]
    },
    {
      "cell_type": "markdown",
      "id": "7821aea58de13275",
      "metadata": {},
      "source": [
        ":::{eval-rst}\n",
        ".. autofunction:: sax.backends.default.evaluate_circuit\n",
        ":::\n"
      ]
    },
    {
      "cell_type": "code",
      "execution_count": 5,
      "id": "5b3ccca7543b34dd",
      "metadata": {
        "execution": {
          "iopub.execute_input": "2023-09-01T16:50:20.940129Z",
          "iopub.status.busy": "2023-09-01T16:50:20.939712Z",
          "iopub.status.idle": "2023-09-01T16:50:20.952093Z",
          "shell.execute_reply": "2023-09-01T16:50:20.951628Z"
        },
        "papermill": {
          "duration": 0.020298,
          "end_time": "2023-09-01T16:50:20.953295",
          "exception": false,
          "start_time": "2023-09-01T16:50:20.932997",
          "status": "completed"
        },
        "tags": [
          "hide-input"
        ]
      },
      "outputs": [],
      "source": [
        "\n",
        "def evaluate_circuit(\n",
        "    analyzed,\n",
        "    instances: Dict[str, SType],\n",
        ") -> SDict:\n",
        "    \"\"\"evaluate a circuit for the given sdicts.\"\"\"\n",
        "    connections, ports = analyzed\n",
        "    \n",
        "    # it's actually easier working w reverse:\n",
        "    reversed_ports = {v: k for k, v in ports.items()}\n",
        "\n",
        "    block_diag = {}\n",
        "    for name, S in instances.items():\n",
        "        block_diag.update(\n",
        "            {(f\"{name},{p1}\", f\"{name},{p2}\"): v for (p1, p2), v in sdict(S).items()}\n",
        "        )\n",
        "\n",
        "    sorted_connections = sorted(connections.items(), key=_connections_sort_key)\n",
        "    all_connected_instances = {k: {k} for k in instances}\n",
        "\n",
        "    for k, l in sorted_connections:\n",
        "        name1, _ = k.split(\",\")\n",
        "        name2, _ = l.split(\",\")\n",
        "\n",
        "        connected_instances = (\n",
        "            all_connected_instances[name1] | all_connected_instances[name2]\n",
        "        )\n",
        "        for name in connected_instances:\n",
        "            all_connected_instances[name] = connected_instances\n",
        "\n",
        "        current_ports = tuple(\n",
        "            p\n",
        "            for instance in connected_instances\n",
        "            for p in set([p for p, _ in block_diag] + [p for _, p in block_diag])\n",
        "            if p.startswith(f\"{instance},\")\n",
        "        )\n",
        "\n",
        "        block_diag.update(_interconnect_ports(block_diag, current_ports, k, l))\n",
        "\n",
        "        for i, j in list(block_diag.keys()):\n",
        "            is_connected = i == k or i == l or j == k or j == l\n",
        "            is_in_output_ports = i in reversed_ports and j in reversed_ports\n",
        "            if is_connected and not is_in_output_ports:\n",
        "                del block_diag[i, j]  # we're no longer interested in these port combinations\n",
        "\n",
        "    circuit_sdict: SDict = {\n",
        "        (reversed_ports[i], reversed_ports[j]): v\n",
        "        for (i, j), v in block_diag.items()\n",
        "        if i in reversed_ports and j in reversed_ports\n",
        "    }\n",
        "    return circuit_sdict\n",
        "\n",
        "\n",
        "def _connections_sort_key(connection):\n",
        "    \"\"\"sort key for sorting a connection dictionary \"\"\"\n",
        "    part1, part2 = connection\n",
        "    name1, _ = part1.split(\",\")\n",
        "    name2, _ = part2.split(\",\")\n",
        "    return (min(name1, name2), max(name1, name2))\n",
        "\n",
        "\n",
        "def _interconnect_ports(block_diag, current_ports, k, l):\n",
        "    \"\"\"interconnect two ports in a given model\n",
        "\n",
        "    > Note: the interconnect algorithm is based on equation 6 of 'Filipsson, Gunnar. \n",
        "      \"A new general computer algorithm for S-matrix calculation of interconnected \n",
        "      multiports.\" 11th European Microwave Conference. IEEE, 1981.'\n",
        "    \"\"\"\n",
        "    current_block_diag = {}\n",
        "    for i in current_ports:\n",
        "        for j in current_ports:\n",
        "            vij = _calculate_interconnected_value(\n",
        "                vij=block_diag.get((i, j), 0.0),\n",
        "                vik=block_diag.get((i, k), 0.0),\n",
        "                vil=block_diag.get((i, l), 0.0),\n",
        "                vkj=block_diag.get((k, j), 0.0),\n",
        "                vkk=block_diag.get((k, k), 0.0),\n",
        "                vkl=block_diag.get((k, l), 0.0),\n",
        "                vlj=block_diag.get((l, j), 0.0),\n",
        "                vlk=block_diag.get((l, k), 0.0),\n",
        "                vll=block_diag.get((l, l), 0.0),\n",
        "            )\n",
        "            current_block_diag[i, j] = vij\n",
        "    return current_block_diag\n",
        "\n",
        "\n",
        "@jax.jit\n",
        "def _calculate_interconnected_value(vij, vik, vil, vkj, vkk, vkl, vlj, vlk, vll):\n",
        "    \"\"\"Calculate an interconnected S-parameter value\n",
        "\n",
        "    Note:\n",
        "        The interconnect algorithm is based on equation 6 in the paper below::\n",
        "\n",
        "          Filipsson, Gunnar. \"A new general computer algorithm for S-matrix calculation\n",
        "          of interconnected multiports.\" 11th European Microwave Conference. IEEE, 1981.\n",
        "    \"\"\"\n",
        "    result = vij + (\n",
        "        vkj * vil * (1 - vlk)\n",
        "        + vlj * vik * (1 - vkl)\n",
        "        + vkj * vll * vik\n",
        "        + vlj * vkk * vil\n",
        "    ) / ((1 - vkl) * (1 - vlk) - vkk * vll)\n",
        "    return result"
      ]
    },
    {
      "cell_type": "markdown",
      "id": "9dabee38",
      "metadata": {
        "papermill": {
          "duration": 0.005735,
          "end_time": "2023-09-01T16:50:20.964880",
          "exception": false,
          "start_time": "2023-09-01T16:50:20.959145",
          "status": "completed"
        },
        "tags": []
      },
      "source": [
        "## Example"
      ]
    },
    {
      "cell_type": "code",
      "execution_count": 6,
      "id": "5ab7ea6c",
      "metadata": {
        "execution": {
          "iopub.execute_input": "2023-09-01T16:50:20.978049Z",
          "iopub.status.busy": "2023-09-01T16:50:20.977431Z",
          "iopub.status.idle": "2023-09-01T16:50:21.705084Z",
          "shell.execute_reply": "2023-09-01T16:50:21.704697Z"
        },
        "papermill": {
          "duration": 0.737035,
          "end_time": "2023-09-01T16:50:21.707697",
          "exception": false,
          "start_time": "2023-09-01T16:50:20.970662",
          "status": "completed"
        },
        "tags": []
      },
      "outputs": [
        {
          "data": {
            "text/plain": [
              "{('in0', 'in0'): Array(0.+0.j, dtype=complex128),\n",
              " ('in0', 'in1'): Array(0.+0.j, dtype=complex128),\n",
              " ('in1', 'in0'): Array(0.+0.j, dtype=complex128),\n",
              " ('in1', 'in1'): Array(0.+0.j, dtype=complex128),\n",
              " ('out0', 'out0'): Array(0.+0.j, dtype=complex128),\n",
              " ('out0', 'out1'): Array(0.+0.j, dtype=complex128),\n",
              " ('out1', 'out0'): Array(0.+0.j, dtype=complex128),\n",
              " ('out1', 'out1'): Array(0.+0.j, dtype=complex128),\n",
              " ('in0', 'out1'): Array(-0.433015+0.75j, dtype=complex128),\n",
              " ('in0', 'out0'): Array(-0.25+0.433015j, dtype=complex128),\n",
              " ('in1', 'out1'): Array(0.25-0.433015j, dtype=complex128),\n",
              " ('in1', 'out0'): Array(-0.433015+0.75j, dtype=complex128),\n",
              " ('out1', 'in0'): Array(-0.433015+0.75j, dtype=complex128),\n",
              " ('out1', 'in1'): Array(0.25-0.433015j, dtype=complex128),\n",
              " ('out0', 'in0'): Array(-0.25+0.433015j, dtype=complex128),\n",
              " ('out0', 'in1'): Array(-0.433015+0.75j, dtype=complex128)}"
            ]
          },
          "execution_count": 6,
          "metadata": {},
          "output_type": "execute_result"
        }
      ],
      "source": [
        "wg_sdict: SDict = {\n",
        "    (\"in0\", \"out0\"): 0.5 + 0.86603j,\n",
        "    (\"out0\", \"in0\"): 0.5 + 0.86603j,\n",
        "}\n",
        "\n",
        "\u03c4, \u03ba = 0.5 ** 0.5, 1j * 0.5 ** 0.5\n",
        "dc_sdense: SDense = (\n",
        "    jnp.array([[0, 0, \u03c4, \u03ba], \n",
        "               [0, 0, \u03ba, \u03c4], \n",
        "               [\u03c4, \u03ba, 0, 0], \n",
        "               [\u03ba, \u03c4, 0, 0]]),\n",
        "    {\"in0\": 0, \"in1\": 1, \"out0\": 2, \"out1\": 3},\n",
        ")\n",
        "\n",
        "instances={\n",
        "    \"dc1\": dc_sdense,\n",
        "    \"wg\": wg_sdict,\n",
        "    \"dc2\": dc_sdense,\n",
        "}\n",
        "connections={\n",
        "    \"dc1,out0\": \"wg,in0\",\n",
        "    \"wg,out0\": \"dc2,in0\",\n",
        "    \"dc1,out1\": \"dc2,in1\",\n",
        "}\n",
        "ports={\n",
        "    \"in0\": \"dc1,in0\",\n",
        "    \"in1\": \"dc1,in1\",\n",
        "    \"out0\": \"dc2,out0\",\n",
        "    \"out1\": \"dc2,out1\",\n",
        "}\n",
        "\n",
        "mzi_sdict: SDict = evaluate_circuit(\n",
        "    analyze_circuit(connections, ports),\n",
        "    instances,\n",
        ")\n",
        "\n",
        "mzi_sdict"
      ]
    },
    {
      "cell_type": "markdown",
      "id": "48950a3d",
      "metadata": {
        "papermill": {
          "duration": 0.006581,
          "end_time": "2023-09-01T16:50:21.721301",
          "exception": false,
          "start_time": "2023-09-01T16:50:21.714720",
          "status": "completed"
        },
        "tags": []
      },
      "source": [
        "## Algorithm Walkthrough\n",
        "\n",
        "> Note: This algorithm gets pretty slow for large circuits. I'd be [very interested in any improvements](#Algorithm-Improvements) that can be made here, especially because - as opposed to the currently faster [KLU backend](./07b_backends_klu.ipynb) - the algorithm discussed here is jittable, differentiable and can be used on GPUs."
      ]
    },
    {
      "cell_type": "markdown",
      "id": "81e28766",
      "metadata": {
        "papermill": {
          "duration": 0.005862,
          "end_time": "2023-09-01T16:50:21.733232",
          "exception": false,
          "start_time": "2023-09-01T16:50:21.727370",
          "status": "completed"
        },
        "tags": []
      },
      "source": [
        "Let's walk through all the steps of this algorithm. We'll do this for a simple MZI circuit, given by two directional couplers characterised by `dc_sdense` with a phase shifting waveguide in between `wg_sdict`:"
      ]
    },
    {
      "cell_type": "code",
      "execution_count": 7,
      "id": "e2bdfbf4",
      "metadata": {
        "execution": {
          "iopub.execute_input": "2023-09-01T16:50:21.746568Z",
          "iopub.status.busy": "2023-09-01T16:50:21.745994Z",
          "iopub.status.idle": "2023-09-01T16:50:21.749313Z",
          "shell.execute_reply": "2023-09-01T16:50:21.748963Z"
        },
        "papermill": {
          "duration": 0.011187,
          "end_time": "2023-09-01T16:50:21.750376",
          "exception": false,
          "start_time": "2023-09-01T16:50:21.739189",
          "status": "completed"
        },
        "tags": []
      },
      "outputs": [],
      "source": [
        "instances={\n",
        "    \"dc1\": dc_sdense,\n",
        "    \"wg\": wg_sdict,\n",
        "    \"dc2\": dc_sdense,\n",
        "}\n",
        "connections={\n",
        "    \"dc1,out0\": \"wg,in0\",\n",
        "    \"wg,out0\": \"dc2,in0\",\n",
        "    \"dc1,out1\": \"dc2,in1\",\n",
        "}\n",
        "ports={\n",
        "    \"in0\": \"dc1,in0\",\n",
        "    \"in1\": \"dc1,in1\",\n",
        "    \"out0\": \"dc2,out0\",\n",
        "    \"out1\": \"dc2,out1\",\n",
        "}"
      ]
    },
    {
      "cell_type": "markdown",
      "id": "6ef72161",
      "metadata": {
        "papermill": {
          "duration": 0.005834,
          "end_time": "2023-09-01T16:50:21.762214",
          "exception": false,
          "start_time": "2023-09-01T16:50:21.756380",
          "status": "completed"
        },
        "tags": []
      },
      "source": [
        "as a first step, we construct the `reversed_ports`, it's actually easier to work with `reversed_ports` (we chose the opposite convention in the netlist definition to adhere to the GDSFactory netlist convention):"
      ]
    },
    {
      "cell_type": "code",
      "execution_count": 8,
      "id": "70302612",
      "metadata": {
        "execution": {
          "iopub.execute_input": "2023-09-01T16:50:21.775428Z",
          "iopub.status.busy": "2023-09-01T16:50:21.774961Z",
          "iopub.status.idle": "2023-09-01T16:50:21.777881Z",
          "shell.execute_reply": "2023-09-01T16:50:21.777536Z"
        },
        "papermill": {
          "duration": 0.010804,
          "end_time": "2023-09-01T16:50:21.778973",
          "exception": false,
          "start_time": "2023-09-01T16:50:21.768169",
          "status": "completed"
        },
        "tags": []
      },
      "outputs": [],
      "source": [
        "reversed_ports = {v: k for k, v in ports.items()}"
      ]
    },
    {
      "cell_type": "markdown",
      "id": "78676045",
      "metadata": {
        "papermill": {
          "duration": 0.005905,
          "end_time": "2023-09-01T16:50:21.790966",
          "exception": false,
          "start_time": "2023-09-01T16:50:21.785061",
          "status": "completed"
        },
        "tags": []
      },
      "source": [
        "The first real step of the algorithm is to create the 'block diagonal sdict`:"
      ]
    },
    {
      "cell_type": "code",
      "execution_count": 9,
      "id": "0ff6149f",
      "metadata": {
        "execution": {
          "iopub.execute_input": "2023-09-01T16:50:21.804092Z",
          "iopub.status.busy": "2023-09-01T16:50:21.803658Z",
          "iopub.status.idle": "2023-09-01T16:50:21.829215Z",
          "shell.execute_reply": "2023-09-01T16:50:21.828767Z"
        },
        "papermill": {
          "duration": 0.033523,
          "end_time": "2023-09-01T16:50:21.830422",
          "exception": false,
          "start_time": "2023-09-01T16:50:21.796899",
          "status": "completed"
        },
        "tags": []
      },
      "outputs": [],
      "source": [
        "block_diag = {}\n",
        "for name, S in instances.items():\n",
        "    block_diag.update(\n",
        "        {(f\"{name},{p1}\", f\"{name},{p2}\"): v for (p1, p2), v in sdict(S).items()}\n",
        "    )\n"
      ]
    },
    {
      "cell_type": "markdown",
      "id": "c4721548",
      "metadata": {
        "papermill": {
          "duration": 0.006133,
          "end_time": "2023-09-01T16:50:21.842831",
          "exception": false,
          "start_time": "2023-09-01T16:50:21.836698",
          "status": "completed"
        },
        "tags": []
      },
      "source": [
        "we can optionally filter out zeros from the resulting block_diag representation. Just note that this will make the resuling function unjittable (the resulting 'shape' (i.e. keys) of the dictionary would depend on the data itself, which is not allowed in JAX jit). We're doing it here to avoid printing zeros but **internally this is not done by default**."
      ]
    },
    {
      "cell_type": "code",
      "execution_count": 10,
      "id": "cfce53c1",
      "metadata": {
        "execution": {
          "iopub.execute_input": "2023-09-01T16:50:21.856271Z",
          "iopub.status.busy": "2023-09-01T16:50:21.855640Z",
          "iopub.status.idle": "2023-09-01T16:50:21.914243Z",
          "shell.execute_reply": "2023-09-01T16:50:21.913816Z"
        },
        "papermill": {
          "duration": 0.067129,
          "end_time": "2023-09-01T16:50:21.915975",
          "exception": false,
          "start_time": "2023-09-01T16:50:21.848846",
          "status": "completed"
        },
        "tags": []
      },
      "outputs": [
        {
          "name": "stdout",
          "output_type": "stream",
          "text": [
            "18\n"
          ]
        },
        {
          "data": {
            "text/plain": [
              "{('dc1,in0', 'dc1,out0'): Array(0.70710678+0.j, dtype=complex128),\n",
              " ('dc1,in0', 'dc1,out1'): Array(0.+0.70710678j, dtype=complex128),\n",
              " ('dc1,in1', 'dc1,out0'): Array(0.+0.70710678j, dtype=complex128),\n",
              " ('dc1,in1', 'dc1,out1'): Array(0.70710678+0.j, dtype=complex128),\n",
              " ('dc1,out0', 'dc1,in0'): Array(0.70710678+0.j, dtype=complex128),\n",
              " ('dc1,out0', 'dc1,in1'): Array(0.+0.70710678j, dtype=complex128),\n",
              " ('dc1,out1', 'dc1,in0'): Array(0.+0.70710678j, dtype=complex128),\n",
              " ('dc1,out1', 'dc1,in1'): Array(0.70710678+0.j, dtype=complex128),\n",
              " ('wg,in0', 'wg,out0'): (0.5+0.86603j),\n",
              " ('wg,out0', 'wg,in0'): (0.5+0.86603j),\n",
              " ('dc2,in0', 'dc2,out0'): Array(0.70710678+0.j, dtype=complex128),\n",
              " ('dc2,in0', 'dc2,out1'): Array(0.+0.70710678j, dtype=complex128),\n",
              " ('dc2,in1', 'dc2,out0'): Array(0.+0.70710678j, dtype=complex128),\n",
              " ('dc2,in1', 'dc2,out1'): Array(0.70710678+0.j, dtype=complex128),\n",
              " ('dc2,out0', 'dc2,in0'): Array(0.70710678+0.j, dtype=complex128),\n",
              " ('dc2,out0', 'dc2,in1'): Array(0.+0.70710678j, dtype=complex128),\n",
              " ('dc2,out1', 'dc2,in0'): Array(0.+0.70710678j, dtype=complex128),\n",
              " ('dc2,out1', 'dc2,in1'): Array(0.70710678+0.j, dtype=complex128)}"
            ]
          },
          "execution_count": 10,
          "metadata": {},
          "output_type": "execute_result"
        }
      ],
      "source": [
        "block_diag = {k: v for k, v in block_diag.items() if jnp.abs(v) > 1e-10}\n",
        "print(len(block_diag))\n",
        "block_diag"
      ]
    },
    {
      "cell_type": "markdown",
      "id": "1963694a",
      "metadata": {
        "papermill": {
          "duration": 0.006224,
          "end_time": "2023-09-01T16:50:21.928557",
          "exception": false,
          "start_time": "2023-09-01T16:50:21.922333",
          "status": "completed"
        },
        "tags": []
      },
      "source": [
        "next, we sort the connections such that similar components are grouped together:"
      ]
    },
    {
      "cell_type": "code",
      "execution_count": 11,
      "id": "9859c2d4",
      "metadata": {
        "execution": {
          "iopub.execute_input": "2023-09-01T16:50:21.942221Z",
          "iopub.status.busy": "2023-09-01T16:50:21.941617Z",
          "iopub.status.idle": "2023-09-01T16:50:21.945238Z",
          "shell.execute_reply": "2023-09-01T16:50:21.944922Z"
        },
        "papermill": {
          "duration": 0.011542,
          "end_time": "2023-09-01T16:50:21.946287",
          "exception": false,
          "start_time": "2023-09-01T16:50:21.934745",
          "status": "completed"
        },
        "tags": []
      },
      "outputs": [
        {
          "data": {
            "text/plain": [
              "[('dc1,out1', 'dc2,in1'), ('dc1,out0', 'wg,in0'), ('wg,out0', 'dc2,in0')]"
            ]
          },
          "execution_count": 11,
          "metadata": {},
          "output_type": "execute_result"
        }
      ],
      "source": [
        "sorted_connections = sorted(connections.items(), key=_connections_sort_key)\n",
        "sorted_connections"
      ]
    },
    {
      "cell_type": "markdown",
      "id": "c75fbf65",
      "metadata": {
        "papermill": {
          "duration": 0.006484,
          "end_time": "2023-09-01T16:50:21.959182",
          "exception": false,
          "start_time": "2023-09-01T16:50:21.952698",
          "status": "completed"
        },
        "tags": []
      },
      "source": [
        "Now we iterate over the sorted connections and connect components as they come in. Connected components take over the name of the first component in the connection, but we keep a set of components belonging to that key in `all_connected_instances`.\n",
        "\n",
        "This is how this `all_connected_instances` dictionary looks initially."
      ]
    },
    {
      "cell_type": "code",
      "execution_count": 12,
      "id": "cf30668c",
      "metadata": {
        "execution": {
          "iopub.execute_input": "2023-09-01T16:50:21.972985Z",
          "iopub.status.busy": "2023-09-01T16:50:21.972420Z",
          "iopub.status.idle": "2023-09-01T16:50:21.976263Z",
          "shell.execute_reply": "2023-09-01T16:50:21.975849Z"
        },
        "papermill": {
          "duration": 0.012012,
          "end_time": "2023-09-01T16:50:21.977425",
          "exception": false,
          "start_time": "2023-09-01T16:50:21.965413",
          "status": "completed"
        },
        "tags": []
      },
      "outputs": [
        {
          "data": {
            "text/plain": [
              "{'dc1': {'dc1'}, 'wg': {'wg'}, 'dc2': {'dc2'}}"
            ]
          },
          "execution_count": 12,
          "metadata": {},
          "output_type": "execute_result"
        }
      ],
      "source": [
        "all_connected_instances = {k: {k} for k in instances}\n",
        "all_connected_instances"
      ]
    },
    {
      "cell_type": "markdown",
      "id": "1152056b",
      "metadata": {
        "papermill": {
          "duration": 0.006266,
          "end_time": "2023-09-01T16:50:21.990047",
          "exception": false,
          "start_time": "2023-09-01T16:50:21.983781",
          "status": "completed"
        },
        "tags": []
      },
      "source": [
        "Normally we would loop over every connection in `sorted_connections` now, but let's just go through it once at first:"
      ]
    },
    {
      "cell_type": "code",
      "execution_count": 13,
      "id": "70c687238c04eca5",
      "metadata": {
        "execution": {
          "iopub.execute_input": "2023-09-01T16:50:22.003921Z",
          "iopub.status.busy": "2023-09-01T16:50:22.003401Z",
          "iopub.status.idle": "2023-09-01T16:50:22.006776Z",
          "shell.execute_reply": "2023-09-01T16:50:22.006466Z"
        },
        "papermill": {
          "duration": 0.011374,
          "end_time": "2023-09-01T16:50:22.007765",
          "exception": false,
          "start_time": "2023-09-01T16:50:21.996391",
          "status": "completed"
        },
        "tags": []
      },
      "outputs": [
        {
          "data": {
            "text/plain": [
              "('dc1,out1', 'dc2,in1')"
            ]
          },
          "execution_count": 13,
          "metadata": {},
          "output_type": "execute_result"
        }
      ],
      "source": [
        "# for k, l in sorted_connections:\n",
        "k, l = sorted_connections[0]\n",
        "k, l"
      ]
    },
    {
      "cell_type": "markdown",
      "id": "16a2266c",
      "metadata": {
        "papermill": {
          "duration": 0.006457,
          "end_time": "2023-09-01T16:50:22.020658",
          "exception": false,
          "start_time": "2023-09-01T16:50:22.014201",
          "status": "completed"
        },
        "tags": []
      },
      "source": [
        "`k` and `l` are the S-matrix indices we're trying to connect. Note that in our sparse `SDict` notation these S-matrix indices are in fact equivalent with the port names `('dc1,out1', 'dc2,in1')`!"
      ]
    },
    {
      "cell_type": "markdown",
      "id": "0eaf4add",
      "metadata": {
        "papermill": {
          "duration": 0.006375,
          "end_time": "2023-09-01T16:50:22.033517",
          "exception": false,
          "start_time": "2023-09-01T16:50:22.027142",
          "status": "completed"
        },
        "tags": []
      },
      "source": [
        "first we split the connection string into an instance name and a port name (we don't use the port name yet):"
      ]
    },
    {
      "cell_type": "code",
      "execution_count": 14,
      "id": "667d1a3c",
      "metadata": {
        "execution": {
          "iopub.execute_input": "2023-09-01T16:50:22.047888Z",
          "iopub.status.busy": "2023-09-01T16:50:22.047442Z",
          "iopub.status.idle": "2023-09-01T16:50:22.050157Z",
          "shell.execute_reply": "2023-09-01T16:50:22.049783Z"
        },
        "papermill": {
          "duration": 0.011165,
          "end_time": "2023-09-01T16:50:22.051325",
          "exception": false,
          "start_time": "2023-09-01T16:50:22.040160",
          "status": "completed"
        },
        "tags": []
      },
      "outputs": [],
      "source": [
        "name1, _ = k.split(\",\")\n",
        "name2, _ = l.split(\",\")"
      ]
    },
    {
      "cell_type": "markdown",
      "id": "16e8bbe8",
      "metadata": {
        "papermill": {
          "duration": 0.006578,
          "end_time": "2023-09-01T16:50:22.064569",
          "exception": false,
          "start_time": "2023-09-01T16:50:22.057991",
          "status": "completed"
        },
        "tags": []
      },
      "source": [
        "We then obtain the new set of connected instances."
      ]
    },
    {
      "cell_type": "code",
      "execution_count": 15,
      "id": "51bf8615",
      "metadata": {
        "execution": {
          "iopub.execute_input": "2023-09-01T16:50:22.078808Z",
          "iopub.status.busy": "2023-09-01T16:50:22.078279Z",
          "iopub.status.idle": "2023-09-01T16:50:22.081736Z",
          "shell.execute_reply": "2023-09-01T16:50:22.081432Z"
        },
        "papermill": {
          "duration": 0.011719,
          "end_time": "2023-09-01T16:50:22.082751",
          "exception": false,
          "start_time": "2023-09-01T16:50:22.071032",
          "status": "completed"
        },
        "tags": []
      },
      "outputs": [
        {
          "data": {
            "text/plain": [
              "{'dc1', 'dc2'}"
            ]
          },
          "execution_count": 15,
          "metadata": {},
          "output_type": "execute_result"
        }
      ],
      "source": [
        "connected_instances = all_connected_instances[name1] | all_connected_instances[name2]\n",
        "connected_instances"
      ]
    },
    {
      "cell_type": "markdown",
      "id": "676c8d61",
      "metadata": {
        "papermill": {
          "duration": 0.006562,
          "end_time": "2023-09-01T16:50:22.095861",
          "exception": false,
          "start_time": "2023-09-01T16:50:22.089299",
          "status": "completed"
        },
        "tags": []
      },
      "source": [
        "We then iterate over each of the components in this set and make sure each of the component names in that set maps to that set (yes, I know... confusing). We do this to be able to keep track with which components each of the components in the circuit is currently already connected to."
      ]
    },
    {
      "cell_type": "code",
      "execution_count": 16,
      "id": "d322e86c",
      "metadata": {
        "execution": {
          "iopub.execute_input": "2023-09-01T16:50:22.110137Z",
          "iopub.status.busy": "2023-09-01T16:50:22.109661Z",
          "iopub.status.idle": "2023-09-01T16:50:22.113232Z",
          "shell.execute_reply": "2023-09-01T16:50:22.112921Z"
        },
        "papermill": {
          "duration": 0.0119,
          "end_time": "2023-09-01T16:50:22.114318",
          "exception": false,
          "start_time": "2023-09-01T16:50:22.102418",
          "status": "completed"
        },
        "tags": []
      },
      "outputs": [
        {
          "data": {
            "text/plain": [
              "{'dc1': {'dc1', 'dc2'}, 'wg': {'wg'}, 'dc2': {'dc1', 'dc2'}}"
            ]
          },
          "execution_count": 16,
          "metadata": {},
          "output_type": "execute_result"
        }
      ],
      "source": [
        "for name in connected_instances:\n",
        "    all_connected_instances[name] = connected_instances\n",
        "    \n",
        "all_connected_instances"
      ]
    },
    {
      "cell_type": "markdown",
      "id": "b79f49f8",
      "metadata": {
        "papermill": {
          "duration": 0.006696,
          "end_time": "2023-09-01T16:50:22.127721",
          "exception": false,
          "start_time": "2023-09-01T16:50:22.121025",
          "status": "completed"
        },
        "tags": []
      },
      "source": [
        "now we need to obtain all the ports of the currently connected instances."
      ]
    },
    {
      "cell_type": "code",
      "execution_count": 17,
      "id": "61b3cfab",
      "metadata": {
        "execution": {
          "iopub.execute_input": "2023-09-01T16:50:22.142445Z",
          "iopub.status.busy": "2023-09-01T16:50:22.141913Z",
          "iopub.status.idle": "2023-09-01T16:50:22.146247Z",
          "shell.execute_reply": "2023-09-01T16:50:22.145859Z"
        },
        "papermill": {
          "duration": 0.012973,
          "end_time": "2023-09-01T16:50:22.147398",
          "exception": false,
          "start_time": "2023-09-01T16:50:22.134425",
          "status": "completed"
        },
        "tags": []
      },
      "outputs": [
        {
          "data": {
            "text/plain": [
              "('dc1,out1',\n",
              " 'dc1,in0',\n",
              " 'dc1,out0',\n",
              " 'dc1,in1',\n",
              " 'dc2,out1',\n",
              " 'dc2,in1',\n",
              " 'dc2,in0',\n",
              " 'dc2,out0')"
            ]
          },
          "execution_count": 17,
          "metadata": {},
          "output_type": "execute_result"
        }
      ],
      "source": [
        "current_ports = tuple(\n",
        "    p\n",
        "    for instance in connected_instances\n",
        "    for p in set([p for p, _ in block_diag] + [p for _, p in block_diag])\n",
        "    if p.startswith(f\"{instance},\")\n",
        ")\n",
        "\n",
        "current_ports"
      ]
    },
    {
      "cell_type": "markdown",
      "id": "d0e87449",
      "metadata": {
        "papermill": {
          "duration": 0.006809,
          "end_time": "2023-09-01T16:50:22.161047",
          "exception": false,
          "start_time": "2023-09-01T16:50:22.154238",
          "status": "completed"
        },
        "tags": []
      },
      "source": [
        "Now the [Gunnar Algorithm](#citation) is used. Given a (block-diagonal) 'S-matrix' `block_diag` and a 'connection matrix' `current_ports` we can interconnect port `k` and `l` as follows:\n",
        "\n",
        "> Note: some creative freedom is used here. In SAX, the matrices we're talking about are in fact represented by a sparse dictionary (an `SDict`), i.e. similar to a COO sparse matrix for which the indices are the port names."
      ]
    },
    {
      "cell_type": "code",
      "execution_count": 18,
      "id": "431649e5",
      "metadata": {
        "execution": {
          "iopub.execute_input": "2023-09-01T16:50:22.176431Z",
          "iopub.status.busy": "2023-09-01T16:50:22.175898Z",
          "iopub.status.idle": "2023-09-01T16:50:22.670072Z",
          "shell.execute_reply": "2023-09-01T16:50:22.669595Z"
        },
        "papermill": {
          "duration": 0.503636,
          "end_time": "2023-09-01T16:50:22.671635",
          "exception": false,
          "start_time": "2023-09-01T16:50:22.167999",
          "status": "completed"
        },
        "tags": []
      },
      "outputs": [],
      "source": [
        "def _interconnect_ports(block_diag, current_ports, k, l):\n",
        "    current_block_diag = {}\n",
        "    for i in current_ports:\n",
        "        for j in current_ports:\n",
        "            vij = _calculate_interconnected_value(\n",
        "                vij=block_diag.get((i, j), 0.0),\n",
        "                vik=block_diag.get((i, k), 0.0),\n",
        "                vil=block_diag.get((i, l), 0.0),\n",
        "                vkj=block_diag.get((k, j), 0.0),\n",
        "                vkk=block_diag.get((k, k), 0.0),\n",
        "                vkl=block_diag.get((k, l), 0.0),\n",
        "                vlj=block_diag.get((l, j), 0.0),\n",
        "                vlk=block_diag.get((l, k), 0.0),\n",
        "                vll=block_diag.get((l, l), 0.0),\n",
        "            )\n",
        "            current_block_diag[i, j] = vij\n",
        "    return current_block_diag\n",
        "\n",
        "@jax.jit\n",
        "def _calculate_interconnected_value(vij, vik, vil, vkj, vkk, vkl, vlj, vlk, vll):\n",
        "    result = vij + (\n",
        "        vkj * vil * (1 - vlk)\n",
        "        + vlj * vik * (1 - vkl)\n",
        "        + vkj * vll * vik\n",
        "        + vlj * vkk * vil\n",
        "    ) / ((1 - vkl) * (1 - vlk) - vkk * vll)\n",
        "    return result\n",
        "\n",
        "block_diag.update(_interconnect_ports(block_diag, current_ports, k, l))"
      ]
    },
    {
      "cell_type": "markdown",
      "id": "988c08d9",
      "metadata": {
        "papermill": {
          "duration": 0.007026,
          "end_time": "2023-09-01T16:50:22.685839",
          "exception": false,
          "start_time": "2023-09-01T16:50:22.678813",
          "status": "completed"
        },
        "tags": []
      },
      "source": [
        "Just as before, we're filtering the zeros from the sparse representation (remember, internally this is **not done by default**)."
      ]
    },
    {
      "cell_type": "code",
      "execution_count": 19,
      "id": "e9ac8164",
      "metadata": {
        "execution": {
          "iopub.execute_input": "2023-09-01T16:50:22.701459Z",
          "iopub.status.busy": "2023-09-01T16:50:22.700620Z",
          "iopub.status.idle": "2023-09-01T16:50:22.726156Z",
          "shell.execute_reply": "2023-09-01T16:50:22.725733Z"
        },
        "papermill": {
          "duration": 0.034582,
          "end_time": "2023-09-01T16:50:22.727399",
          "exception": false,
          "start_time": "2023-09-01T16:50:22.692817",
          "status": "completed"
        },
        "tags": []
      },
      "outputs": [
        {
          "name": "stdout",
          "output_type": "stream",
          "text": [
            "26\n"
          ]
        },
        {
          "data": {
            "text/plain": [
              "{('dc1,in0', 'dc1,out0'): Array(0.70710678+0.j, dtype=complex128),\n",
              " ('dc1,in0', 'dc1,out1'): Array(0.+0.70710678j, dtype=complex128),\n",
              " ('dc1,in1', 'dc1,out0'): Array(0.+0.70710678j, dtype=complex128),\n",
              " ('dc1,in1', 'dc1,out1'): Array(0.70710678+0.j, dtype=complex128),\n",
              " ('dc1,out0', 'dc1,in0'): Array(0.70710678+0.j, dtype=complex128),\n",
              " ('dc1,out0', 'dc1,in1'): Array(0.+0.70710678j, dtype=complex128),\n",
              " ('dc1,out1', 'dc1,in0'): Array(0.+0.70710678j, dtype=complex128),\n",
              " ('dc1,out1', 'dc1,in1'): Array(0.70710678+0.j, dtype=complex128),\n",
              " ('wg,in0', 'wg,out0'): (0.5+0.86603j),\n",
              " ('wg,out0', 'wg,in0'): (0.5+0.86603j),\n",
              " ('dc2,in0', 'dc2,out0'): Array(0.70710678+0.j, dtype=complex128),\n",
              " ('dc2,in0', 'dc2,out1'): Array(0.+0.70710678j, dtype=complex128),\n",
              " ('dc2,in1', 'dc2,out0'): Array(0.+0.70710678j, dtype=complex128),\n",
              " ('dc2,in1', 'dc2,out1'): Array(0.70710678+0.j, dtype=complex128),\n",
              " ('dc2,out0', 'dc2,in0'): Array(0.70710678+0.j, dtype=complex128),\n",
              " ('dc2,out0', 'dc2,in1'): Array(0.+0.70710678j, dtype=complex128),\n",
              " ('dc2,out1', 'dc2,in0'): Array(0.+0.70710678j, dtype=complex128),\n",
              " ('dc2,out1', 'dc2,in1'): Array(0.70710678+0.j, dtype=complex128),\n",
              " ('dc1,in0', 'dc2,out1'): Array(0.+0.5j, dtype=complex128),\n",
              " ('dc1,in0', 'dc2,out0'): Array(-0.5+0.j, dtype=complex128),\n",
              " ('dc1,in1', 'dc2,out1'): Array(0.5+0.j, dtype=complex128),\n",
              " ('dc1,in1', 'dc2,out0'): Array(0.+0.5j, dtype=complex128),\n",
              " ('dc2,out1', 'dc1,in0'): Array(0.+0.5j, dtype=complex128),\n",
              " ('dc2,out1', 'dc1,in1'): Array(0.5+0.j, dtype=complex128),\n",
              " ('dc2,out0', 'dc1,in0'): Array(-0.5+0.j, dtype=complex128),\n",
              " ('dc2,out0', 'dc1,in1'): Array(0.+0.5j, dtype=complex128)}"
            ]
          },
          "execution_count": 19,
          "metadata": {},
          "output_type": "execute_result"
        }
      ],
      "source": [
        "block_diag = {k: v for k, v in block_diag.items() if jnp.abs(v) > 1e-10}\n",
        "print(len(block_diag))\n",
        "block_diag"
      ]
    },
    {
      "cell_type": "markdown",
      "id": "db0cd151",
      "metadata": {
        "papermill": {
          "duration": 0.007135,
          "end_time": "2023-09-01T16:50:22.741879",
          "exception": false,
          "start_time": "2023-09-01T16:50:22.734744",
          "status": "completed"
        },
        "tags": []
      },
      "source": [
        "This is the resulting block-diagonal matrix after interconnecting two ports (i.e. basically saying that those two ports are the same port). Because these ports are now connected we should actually remove them from the S-matrix representation (they are integrated into the S-parameters of the other connections):"
      ]
    },
    {
      "cell_type": "code",
      "execution_count": 20,
      "id": "311b034f",
      "metadata": {
        "execution": {
          "iopub.execute_input": "2023-09-01T16:50:22.757714Z",
          "iopub.status.busy": "2023-09-01T16:50:22.757068Z",
          "iopub.status.idle": "2023-09-01T16:50:22.764858Z",
          "shell.execute_reply": "2023-09-01T16:50:22.764453Z"
        },
        "papermill": {
          "duration": 0.017022,
          "end_time": "2023-09-01T16:50:22.766005",
          "exception": false,
          "start_time": "2023-09-01T16:50:22.748983",
          "status": "completed"
        },
        "tags": []
      },
      "outputs": [
        {
          "name": "stdout",
          "output_type": "stream",
          "text": [
            "18\n"
          ]
        },
        {
          "data": {
            "text/plain": [
              "{('dc1,in0', 'dc1,out0'): Array(0.70710678+0.j, dtype=complex128),\n",
              " ('dc1,in1', 'dc1,out0'): Array(0.+0.70710678j, dtype=complex128),\n",
              " ('dc1,out0', 'dc1,in0'): Array(0.70710678+0.j, dtype=complex128),\n",
              " ('dc1,out0', 'dc1,in1'): Array(0.+0.70710678j, dtype=complex128),\n",
              " ('wg,in0', 'wg,out0'): (0.5+0.86603j),\n",
              " ('wg,out0', 'wg,in0'): (0.5+0.86603j),\n",
              " ('dc2,in0', 'dc2,out0'): Array(0.70710678+0.j, dtype=complex128),\n",
              " ('dc2,in0', 'dc2,out1'): Array(0.+0.70710678j, dtype=complex128),\n",
              " ('dc2,out0', 'dc2,in0'): Array(0.70710678+0.j, dtype=complex128),\n",
              " ('dc2,out1', 'dc2,in0'): Array(0.+0.70710678j, dtype=complex128),\n",
              " ('dc1,in0', 'dc2,out1'): Array(0.+0.5j, dtype=complex128),\n",
              " ('dc1,in0', 'dc2,out0'): Array(-0.5+0.j, dtype=complex128),\n",
              " ('dc1,in1', 'dc2,out1'): Array(0.5+0.j, dtype=complex128),\n",
              " ('dc1,in1', 'dc2,out0'): Array(0.+0.5j, dtype=complex128),\n",
              " ('dc2,out1', 'dc1,in0'): Array(0.+0.5j, dtype=complex128),\n",
              " ('dc2,out1', 'dc1,in1'): Array(0.5+0.j, dtype=complex128),\n",
              " ('dc2,out0', 'dc1,in0'): Array(-0.5+0.j, dtype=complex128),\n",
              " ('dc2,out0', 'dc1,in1'): Array(0.+0.5j, dtype=complex128)}"
            ]
          },
          "execution_count": 20,
          "metadata": {},
          "output_type": "execute_result"
        }
      ],
      "source": [
        "for i, j in list(block_diag.keys()):\n",
        "    is_connected = i == k or i == l or j == k or j == l\n",
        "    is_in_output_ports = i in reversed_ports and j in reversed_ports\n",
        "    if is_connected and not is_in_output_ports:\n",
        "        del block_diag[i, j]  # we're no longer interested in these port combinations\n",
        "        \n",
        "print(len(block_diag))\n",
        "block_diag"
      ]
    },
    {
      "cell_type": "markdown",
      "id": "b6badcb7",
      "metadata": {
        "papermill": {
          "duration": 0.007439,
          "end_time": "2023-09-01T16:50:22.781070",
          "exception": false,
          "start_time": "2023-09-01T16:50:22.773631",
          "status": "completed"
        },
        "tags": []
      },
      "source": [
        "Note that this deletion of values **does NOT** make this operation un-jittable. The deletion depends on the ports of the dictionary (i.e. on the dictionary 'shape'), not on the values."
      ]
    },
    {
      "cell_type": "markdown",
      "id": "89e775cd",
      "metadata": {
        "papermill": {
          "duration": 0.007321,
          "end_time": "2023-09-01T16:50:22.795758",
          "exception": false,
          "start_time": "2023-09-01T16:50:22.788437",
          "status": "completed"
        },
        "tags": []
      },
      "source": [
        "We now basically have to do those steps again for all other connections:"
      ]
    },
    {
      "cell_type": "code",
      "execution_count": 21,
      "id": "92307faf1ee3c594",
      "metadata": {
        "execution": {
          "iopub.execute_input": "2023-09-01T16:50:22.811751Z",
          "iopub.status.busy": "2023-09-01T16:50:22.811311Z",
          "iopub.status.idle": "2023-09-01T16:50:24.025377Z",
          "shell.execute_reply": "2023-09-01T16:50:24.024903Z"
        },
        "papermill": {
          "duration": 1.223874,
          "end_time": "2023-09-01T16:50:24.026907",
          "exception": false,
          "start_time": "2023-09-01T16:50:22.803033",
          "status": "completed"
        },
        "tags": []
      },
      "outputs": [],
      "source": [
        "#for k, l in sorted_connections: \n",
        "for k, l in sorted_connections[1:]: # we just did the first iteration of this loop above...\n",
        "    name1, _ = k.split(\",\")\n",
        "    name2, _ = l.split(\",\")\n",
        "    connected_instances = all_connected_instances[name1] | all_connected_instances[name2]\n",
        "    for name in connected_instances:\n",
        "        all_connected_instances[name] = connected_instances\n",
        "    current_ports = tuple(\n",
        "        p\n",
        "        for instance in connected_instances\n",
        "        for p in set([p for p, _ in block_diag] + [p for _, p in block_diag])\n",
        "        if p.startswith(f\"{instance},\")\n",
        "    )\n",
        "    block_diag.update(_interconnect_ports(block_diag, current_ports, k, l))\n",
        "    for i, j in list(block_diag.keys()):\n",
        "        is_connected = i == k or i == l or j == k or j == l\n",
        "        is_in_output_ports = i in reversed_ports and j in reversed_ports\n",
        "        if is_connected and not is_in_output_ports:\n",
        "            del block_diag[i, j]  # we're no longer interested in these port combinations"
      ]
    },
    {
      "cell_type": "markdown",
      "id": "36eb82fc",
      "metadata": {
        "papermill": {
          "duration": 0.007846,
          "end_time": "2023-09-01T16:50:24.042251",
          "exception": false,
          "start_time": "2023-09-01T16:50:24.034405",
          "status": "completed"
        },
        "tags": []
      },
      "source": [
        "This is the final MZI matrix we're getting:"
      ]
    },
    {
      "cell_type": "code",
      "execution_count": 22,
      "id": "d1c0367e",
      "metadata": {
        "execution": {
          "iopub.execute_input": "2023-09-01T16:50:24.059110Z",
          "iopub.status.busy": "2023-09-01T16:50:24.058458Z",
          "iopub.status.idle": "2023-09-01T16:50:24.064725Z",
          "shell.execute_reply": "2023-09-01T16:50:24.064370Z"
        },
        "papermill": {
          "duration": 0.016028,
          "end_time": "2023-09-01T16:50:24.065799",
          "exception": false,
          "start_time": "2023-09-01T16:50:24.049771",
          "status": "completed"
        },
        "tags": []
      },
      "outputs": [
        {
          "data": {
            "text/plain": [
              "{('dc1,in0', 'dc2,out1'): Array(-0.433015+0.75j, dtype=complex128),\n",
              " ('dc1,in0', 'dc2,out0'): Array(-0.25+0.433015j, dtype=complex128),\n",
              " ('dc1,in1', 'dc2,out1'): Array(0.25-0.433015j, dtype=complex128),\n",
              " ('dc1,in1', 'dc2,out0'): Array(-0.433015+0.75j, dtype=complex128),\n",
              " ('dc2,out1', 'dc1,in0'): Array(-0.433015+0.75j, dtype=complex128),\n",
              " ('dc2,out1', 'dc1,in1'): Array(0.25-0.433015j, dtype=complex128),\n",
              " ('dc2,out0', 'dc1,in0'): Array(-0.25+0.433015j, dtype=complex128),\n",
              " ('dc2,out0', 'dc1,in1'): Array(-0.433015+0.75j, dtype=complex128),\n",
              " ('dc1,in0', 'dc1,in0'): Array(0.+0.j, dtype=complex128),\n",
              " ('dc1,in0', 'dc1,in1'): Array(0.+0.j, dtype=complex128),\n",
              " ('dc1,in1', 'dc1,in0'): Array(0.+0.j, dtype=complex128),\n",
              " ('dc1,in1', 'dc1,in1'): Array(0.+0.j, dtype=complex128),\n",
              " ('dc2,out1', 'dc2,out1'): Array(0.+0.j, dtype=complex128),\n",
              " ('dc2,out1', 'dc2,out0'): Array(0.+0.j, dtype=complex128),\n",
              " ('dc2,out0', 'dc2,out1'): Array(0.+0.j, dtype=complex128),\n",
              " ('dc2,out0', 'dc2,out0'): Array(0.+0.j, dtype=complex128)}"
            ]
          },
          "execution_count": 22,
          "metadata": {},
          "output_type": "execute_result"
        }
      ],
      "source": [
        "block_diag"
      ]
    },
    {
      "cell_type": "markdown",
      "id": "03f67ec6",
      "metadata": {
        "papermill": {
          "duration": 0.007462,
          "end_time": "2023-09-01T16:50:24.080721",
          "exception": false,
          "start_time": "2023-09-01T16:50:24.073259",
          "status": "completed"
        },
        "tags": []
      },
      "source": [
        "All that's left is to rename these internal ports of the format `{instance},{port}` into output ports of the resulting circuit:"
      ]
    },
    {
      "cell_type": "code",
      "execution_count": 23,
      "id": "cf5ea4af",
      "metadata": {
        "execution": {
          "iopub.execute_input": "2023-09-01T16:50:24.096823Z",
          "iopub.status.busy": "2023-09-01T16:50:24.096386Z",
          "iopub.status.idle": "2023-09-01T16:50:24.102932Z",
          "shell.execute_reply": "2023-09-01T16:50:24.102595Z"
        },
        "papermill": {
          "duration": 0.01596,
          "end_time": "2023-09-01T16:50:24.104075",
          "exception": false,
          "start_time": "2023-09-01T16:50:24.088115",
          "status": "completed"
        },
        "tags": []
      },
      "outputs": [
        {
          "data": {
            "text/plain": [
              "{('in0', 'out1'): Array(-0.433015+0.75j, dtype=complex128),\n",
              " ('in0', 'out0'): Array(-0.25+0.433015j, dtype=complex128),\n",
              " ('in1', 'out1'): Array(0.25-0.433015j, dtype=complex128),\n",
              " ('in1', 'out0'): Array(-0.433015+0.75j, dtype=complex128),\n",
              " ('out1', 'in0'): Array(-0.433015+0.75j, dtype=complex128),\n",
              " ('out1', 'in1'): Array(0.25-0.433015j, dtype=complex128),\n",
              " ('out0', 'in0'): Array(-0.25+0.433015j, dtype=complex128),\n",
              " ('out0', 'in1'): Array(-0.433015+0.75j, dtype=complex128),\n",
              " ('in0', 'in0'): Array(0.+0.j, dtype=complex128),\n",
              " ('in0', 'in1'): Array(0.+0.j, dtype=complex128),\n",
              " ('in1', 'in0'): Array(0.+0.j, dtype=complex128),\n",
              " ('in1', 'in1'): Array(0.+0.j, dtype=complex128),\n",
              " ('out1', 'out1'): Array(0.+0.j, dtype=complex128),\n",
              " ('out1', 'out0'): Array(0.+0.j, dtype=complex128),\n",
              " ('out0', 'out1'): Array(0.+0.j, dtype=complex128),\n",
              " ('out0', 'out0'): Array(0.+0.j, dtype=complex128)}"
            ]
          },
          "execution_count": 23,
          "metadata": {},
          "output_type": "execute_result"
        }
      ],
      "source": [
        "circuit_sdict: SDict = {\n",
        "    (reversed_ports[i], reversed_ports[j]): v\n",
        "    for (i, j), v in block_diag.items()\n",
        "    if i in reversed_ports and j in reversed_ports\n",
        "}\n",
        "circuit_sdict"
      ]
    },
    {
      "cell_type": "markdown",
      "id": "7dc6505e",
      "metadata": {
        "papermill": {
          "duration": 0.00772,
          "end_time": "2023-09-01T16:50:24.119606",
          "exception": false,
          "start_time": "2023-09-01T16:50:24.111886",
          "status": "completed"
        },
        "tags": []
      },
      "source": [
        "And that's it. We evaluated the `SDict` of the full circuit."
      ]
    },
    {
      "cell_type": "markdown",
      "id": "170db10b",
      "metadata": {
        "papermill": {
          "duration": 0.0076,
          "end_time": "2023-09-01T16:50:24.134812",
          "exception": false,
          "start_time": "2023-09-01T16:50:24.127212",
          "status": "completed"
        },
        "tags": []
      },
      "source": [
        "## Algorithm Improvements"
      ]
    },
    {
      "cell_type": "markdown",
      "id": "4ed0e69a",
      "metadata": {
        "papermill": {
          "duration": 0.007608,
          "end_time": "2023-09-01T16:50:24.149942",
          "exception": false,
          "start_time": "2023-09-01T16:50:24.142334",
          "status": "completed"
        },
        "tags": []
      },
      "source": [
        "This algorithm is \n",
        "\n",
        "* pretty fast for small circuits \ud83d\ude42\n",
        "* jittable \ud83d\ude42\n",
        "* differentiable \ud83d\ude42\n",
        "* GPU-compatible \ud83d\ude42\n",
        "\n",
        "This algorithm is however:\n",
        "\n",
        "* **really slow** for large circuits \ud83d\ude25\n",
        "* **pretty slow** to jit the resulting circuit function \ud83d\ude25\n",
        "* **pretty slow** to differentiate the resulting circuit function \ud83d\ude25\n",
        "\n",
        "There are probably still plenty of improvements possible for this algorithm:\n",
        "\n",
        "* **\u00bf** Network analysis (ft. NetworkX ?) to obtain which ports of the block diagonal representation are relevant to obtain the output connection **?**\n",
        "* **\u00bf** Smarter ordering of connections to always have the minimum amount of ports in the intermediate block-diagonal representation **?**\n",
        "* **\u00bf** Using `jax.lax.scan` in stead of python native for-loops in `_interconnect_ports` **?**\n",
        "* **\u00bf** ... **?**\n",
        "\n",
        "Bottom line is... Do you know how to improve this algorithm or how to implement the above suggestions? Please open a Merge Request!"
      ]
    }
  ],
  "metadata": {
    "kernelspec": {
      "display_name": "sax",
      "language": "python",
      "name": "sax"
    },
    "language_info": {
      "codemirror_mode": {
        "name": "ipython",
        "version": 3
      },
      "file_extension": ".py",
      "mimetype": "text/x-python",
      "name": "python",
      "nbconvert_exporter": "python",
      "pygments_lexer": "ipython3",
      "version": "3.11.5"
    },
    "papermill": {
      "default_parameters": {},
      "duration": 5.909703,
      "end_time": "2023-09-01T16:50:24.574799",
      "environment_variables": {},
      "exception": null,
      "input_path": "./nbs/08a_backends_default.ipynb",
      "output_path": "./nbs/08a_backends_default.ipynb",
      "parameters": {},
      "start_time": "2023-09-01T16:50:18.665096",
      "version": "2.4.0"
    }
  },
  "nbformat": 4,
  "nbformat_minor": 5
}