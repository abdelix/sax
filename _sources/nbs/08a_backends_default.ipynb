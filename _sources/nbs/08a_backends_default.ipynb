{
  "cells": [
    {
      "cell_type": "code",
      "execution_count": 1,
      "id": "fefbd117883ec67f",
      "metadata": {
        "execution": {
          "iopub.execute_input": "2023-06-01T21:10:34.016265Z",
          "iopub.status.busy": "2023-06-01T21:10:34.015993Z",
          "iopub.status.idle": "2023-06-01T21:10:34.019132Z",
          "shell.execute_reply": "2023-06-01T21:10:34.018629Z"
        },
        "papermill": {
          "duration": 0.01327,
          "end_time": "2023-06-01T21:10:34.021209",
          "exception": false,
          "start_time": "2023-06-01T21:10:34.007939",
          "status": "completed"
        },
        "tags": [
          "remove-cell"
        ]
      },
      "outputs": [],
      "source": []
    },
    {
      "cell_type": "markdown",
      "id": "41e0d311",
      "metadata": {
        "papermill": {
          "duration": 0.005158,
          "end_time": "2023-06-01T21:10:34.031945",
          "exception": false,
          "start_time": "2023-06-01T21:10:34.026787",
          "status": "completed"
        },
        "tags": []
      },
      "source": [
        "# Backend - default\n",
        "\n",
        "> Default SAX Backend"
      ]
    },
    {
      "cell_type": "code",
      "execution_count": 2,
      "id": "d5d9d0cc98012ef7",
      "metadata": {
        "execution": {
          "iopub.execute_input": "2023-06-01T21:10:34.043645Z",
          "iopub.status.busy": "2023-06-01T21:10:34.043407Z",
          "iopub.status.idle": "2023-06-01T21:10:34.048372Z",
          "shell.execute_reply": "2023-06-01T21:10:34.048002Z"
        },
        "papermill": {
          "duration": 0.012779,
          "end_time": "2023-06-01T21:10:34.050214",
          "exception": false,
          "start_time": "2023-06-01T21:10:34.037435",
          "status": "completed"
        },
        "tags": [
          "remove-cell"
        ]
      },
      "outputs": [],
      "source": [
        "import os, sys; sys.stderr = open(os.devnull, \"w\")"
      ]
    },
    {
      "cell_type": "code",
      "execution_count": 3,
      "id": "69ba5f83b7be8cb2",
      "metadata": {
        "execution": {
          "iopub.execute_input": "2023-06-01T21:10:34.061390Z",
          "iopub.status.busy": "2023-06-01T21:10:34.061177Z",
          "iopub.status.idle": "2023-06-01T21:10:34.878119Z",
          "shell.execute_reply": "2023-06-01T21:10:34.877702Z"
        },
        "papermill": {
          "duration": 0.824233,
          "end_time": "2023-06-01T21:10:34.879541",
          "exception": false,
          "start_time": "2023-06-01T21:10:34.055308",
          "status": "completed"
        },
        "tags": [
          "hide-input"
        ]
      },
      "outputs": [],
      "source": [
        "from __future__ import annotations\n",
        "\n",
        "import warnings\n",
        "from types import SimpleNamespace\n",
        "from typing import Dict\n",
        "\n",
        "try:\n",
        "    import jax\n",
        "    import jax.numpy as jnp\n",
        "    JAX_AVAILABLE = True\n",
        "except ImportError:\n",
        "    import numpy as jnp\n",
        "    def jit(func, *args, **kwargs):\n",
        "        warnings.warn(\"[NO JAX] skipping jit! Please install JAX!\")\n",
        "        return func\n",
        "    \n",
        "    jax = SimpleNamespace(jit=jit)\n",
        "    JAX_AVAILABLE = False\n",
        "    \n",
        "from sax.typing_ import SDict, SType, SDense, sdict"
      ]
    },
    {
      "cell_type": "markdown",
      "id": "d8369d2f-9109-4375-8cb4-6d7ccabbd356",
      "metadata": {
        "papermill": {
          "duration": 0.005016,
          "end_time": "2023-06-01T21:10:34.889997",
          "exception": false,
          "start_time": "2023-06-01T21:10:34.884981",
          "status": "completed"
        },
        "tags": []
      },
      "source": [
        "## Citation\n",
        "The default SAX backend is based on the following paper:\n",
        "\n",
        "> Filipsson, Gunnar. \"*A new general computer algorithm for S-matrix calculation of interconnected multiports.*\" 11th European Microwave Conference. IEEE, 1981."
      ]
    },
    {
      "cell_type": "markdown",
      "id": "feea9c4f-0528-44e0-8e87-91234c6d29cc",
      "metadata": {
        "papermill": {
          "duration": 0.004937,
          "end_time": "2023-06-01T21:10:34.899983",
          "exception": false,
          "start_time": "2023-06-01T21:10:34.895046",
          "status": "completed"
        },
        "tags": []
      },
      "source": [
        "## Circuit Evaluation"
      ]
    },
    {
      "cell_type": "markdown",
      "id": "ad807d2ef83c9809",
      "metadata": {},
      "source": [
        ":::{eval-rst}\n",
        ".. autofunction:: sax.backends.default.evaluate_circuit\n",
        ":::\n"
      ]
    },
    {
      "cell_type": "code",
      "execution_count": 4,
      "id": "ef50517cfea95fbb",
      "metadata": {
        "execution": {
          "iopub.execute_input": "2023-06-01T21:10:34.911897Z",
          "iopub.status.busy": "2023-06-01T21:10:34.911186Z",
          "iopub.status.idle": "2023-06-01T21:10:34.924837Z",
          "shell.execute_reply": "2023-06-01T21:10:34.924479Z"
        },
        "papermill": {
          "duration": 0.021248,
          "end_time": "2023-06-01T21:10:34.926254",
          "exception": false,
          "start_time": "2023-06-01T21:10:34.905006",
          "status": "completed"
        },
        "tags": [
          "hide-input"
        ]
      },
      "outputs": [],
      "source": [
        "\n",
        "def evaluate_circuit(\n",
        "    instances: Dict[str, SType],\n",
        "    connections: Dict[str, str],\n",
        "    ports: Dict[str, str],\n",
        ") -> SDict:\n",
        "    \"\"\"evaluate a circuit for the given sdicts.\"\"\"\n",
        "    \n",
        "    # it's actually easier working w reverse:\n",
        "    reversed_ports = {v: k for k, v in ports.items()}\n",
        "\n",
        "    block_diag = {}\n",
        "    for name, S in instances.items():\n",
        "        block_diag.update(\n",
        "            {(f\"{name},{p1}\", f\"{name},{p2}\"): v for (p1, p2), v in sdict(S).items()}\n",
        "        )\n",
        "\n",
        "    sorted_connections = sorted(connections.items(), key=_connections_sort_key)\n",
        "    all_connected_instances = {k: {k} for k in instances}\n",
        "\n",
        "    for k, l in sorted_connections:\n",
        "        name1, _ = k.split(\",\")\n",
        "        name2, _ = l.split(\",\")\n",
        "\n",
        "        connected_instances = (\n",
        "            all_connected_instances[name1] | all_connected_instances[name2]\n",
        "        )\n",
        "        for name in connected_instances:\n",
        "            all_connected_instances[name] = connected_instances\n",
        "\n",
        "        current_ports = tuple(\n",
        "            p\n",
        "            for instance in connected_instances\n",
        "            for p in set([p for p, _ in block_diag] + [p for _, p in block_diag])\n",
        "            if p.startswith(f\"{instance},\")\n",
        "        )\n",
        "\n",
        "        block_diag.update(_interconnect_ports(block_diag, current_ports, k, l))\n",
        "\n",
        "        for i, j in list(block_diag.keys()):\n",
        "            is_connected = i == k or i == l or j == k or j == l\n",
        "            is_in_output_ports = i in reversed_ports and j in reversed_ports\n",
        "            if is_connected and not is_in_output_ports:\n",
        "                del block_diag[i, j]  # we're no longer interested in these port combinations\n",
        "\n",
        "    circuit_sdict: SDict = {\n",
        "        (reversed_ports[i], reversed_ports[j]): v\n",
        "        for (i, j), v in block_diag.items()\n",
        "        if i in reversed_ports and j in reversed_ports\n",
        "    }\n",
        "    return circuit_sdict\n",
        "\n",
        "\n",
        "def _connections_sort_key(connection):\n",
        "    \"\"\"sort key for sorting a connection dictionary \"\"\"\n",
        "    part1, part2 = connection\n",
        "    name1, _ = part1.split(\",\")\n",
        "    name2, _ = part2.split(\",\")\n",
        "    return (min(name1, name2), max(name1, name2))\n",
        "\n",
        "\n",
        "def _interconnect_ports(block_diag, current_ports, k, l):\n",
        "    \"\"\"interconnect two ports in a given model\n",
        "\n",
        "    > Note: the interconnect algorithm is based on equation 6 of 'Filipsson, Gunnar. \n",
        "      \"A new general computer algorithm for S-matrix calculation of interconnected \n",
        "      multiports.\" 11th European Microwave Conference. IEEE, 1981.'\n",
        "    \"\"\"\n",
        "    current_block_diag = {}\n",
        "    for i in current_ports:\n",
        "        for j in current_ports:\n",
        "            vij = _calculate_interconnected_value(\n",
        "                vij=block_diag.get((i, j), 0.0),\n",
        "                vik=block_diag.get((i, k), 0.0),\n",
        "                vil=block_diag.get((i, l), 0.0),\n",
        "                vkj=block_diag.get((k, j), 0.0),\n",
        "                vkk=block_diag.get((k, k), 0.0),\n",
        "                vkl=block_diag.get((k, l), 0.0),\n",
        "                vlj=block_diag.get((l, j), 0.0),\n",
        "                vlk=block_diag.get((l, k), 0.0),\n",
        "                vll=block_diag.get((l, l), 0.0),\n",
        "            )\n",
        "            current_block_diag[i, j] = vij\n",
        "    return current_block_diag\n",
        "\n",
        "\n",
        "@jax.jit\n",
        "def _calculate_interconnected_value(vij, vik, vil, vkj, vkk, vkl, vlj, vlk, vll):\n",
        "    \"\"\"Calculate an interconnected S-parameter value\n",
        "\n",
        "    Note:\n",
        "        The interconnect algorithm is based on equation 6 in the paper below::\n",
        "\n",
        "          Filipsson, Gunnar. \"A new general computer algorithm for S-matrix calculation\n",
        "          of interconnected multiports.\" 11th European Microwave Conference. IEEE, 1981.\n",
        "    \"\"\"\n",
        "    result = vij + (\n",
        "        vkj * vil * (1 - vlk)\n",
        "        + vlj * vik * (1 - vkl)\n",
        "        + vkj * vll * vik\n",
        "        + vlj * vkk * vil\n",
        "    ) / ((1 - vkl) * (1 - vlk) - vkk * vll)\n",
        "    return result"
      ]
    },
    {
      "cell_type": "markdown",
      "id": "9dabee38",
      "metadata": {
        "papermill": {
          "duration": 0.005043,
          "end_time": "2023-06-01T21:10:34.936740",
          "exception": false,
          "start_time": "2023-06-01T21:10:34.931697",
          "status": "completed"
        },
        "tags": []
      },
      "source": [
        "## Example"
      ]
    },
    {
      "cell_type": "code",
      "execution_count": 5,
      "id": "5ab7ea6c",
      "metadata": {
        "execution": {
          "iopub.execute_input": "2023-06-01T21:10:34.948075Z",
          "iopub.status.busy": "2023-06-01T21:10:34.947842Z",
          "iopub.status.idle": "2023-06-01T21:10:35.732417Z",
          "shell.execute_reply": "2023-06-01T21:10:35.732019Z"
        },
        "papermill": {
          "duration": 0.792032,
          "end_time": "2023-06-01T21:10:35.733855",
          "exception": false,
          "start_time": "2023-06-01T21:10:34.941823",
          "status": "completed"
        },
        "tags": []
      },
      "outputs": [
        {
          "data": {
            "text/plain": [
              "{('in0', 'in0'): Array(0.+0.j, dtype=complex64),\n",
              " ('in0', 'in1'): Array(0.+0.j, dtype=complex64),\n",
              " ('in1', 'in0'): Array(0.+0.j, dtype=complex64),\n",
              " ('in1', 'in1'): Array(0.+0.j, dtype=complex64),\n",
              " ('out0', 'out0'): Array(0.+0.j, dtype=complex64),\n",
              " ('out0', 'out1'): Array(0.+0.j, dtype=complex64),\n",
              " ('out1', 'out0'): Array(0.+0.j, dtype=complex64),\n",
              " ('out1', 'out1'): Array(0.+0.j, dtype=complex64),\n",
              " ('in0', 'out0'): Array(-0.24999999+0.433015j, dtype=complex64),\n",
              " ('in0', 'out1'): Array(-0.433015+0.74999994j, dtype=complex64),\n",
              " ('in1', 'out0'): Array(-0.433015+0.74999994j, dtype=complex64),\n",
              " ('in1', 'out1'): Array(0.24999999-0.433015j, dtype=complex64),\n",
              " ('out0', 'in0'): Array(-0.24999999+0.433015j, dtype=complex64),\n",
              " ('out0', 'in1'): Array(-0.433015+0.74999994j, dtype=complex64),\n",
              " ('out1', 'in0'): Array(-0.433015+0.74999994j, dtype=complex64),\n",
              " ('out1', 'in1'): Array(0.24999999-0.433015j, dtype=complex64)}"
            ]
          },
          "execution_count": 5,
          "metadata": {},
          "output_type": "execute_result"
        }
      ],
      "source": [
        "wg_sdict: SDict = {\n",
        "    (\"in0\", \"out0\"): 0.5 + 0.86603j,\n",
        "    (\"out0\", \"in0\"): 0.5 + 0.86603j,\n",
        "}\n",
        "\n",
        "\u03c4, \u03ba = 0.5 ** 0.5, 1j * 0.5 ** 0.5\n",
        "dc_sdense: SDense = (\n",
        "    jnp.array([[0, 0, \u03c4, \u03ba], \n",
        "               [0, 0, \u03ba, \u03c4], \n",
        "               [\u03c4, \u03ba, 0, 0], \n",
        "               [\u03ba, \u03c4, 0, 0]]),\n",
        "    {\"in0\": 0, \"in1\": 1, \"out0\": 2, \"out1\": 3},\n",
        ")\n",
        "\n",
        "mzi_sdict: SDict = evaluate_circuit(\n",
        "    instances={\n",
        "        \"dc1\": dc_sdense,\n",
        "        \"wg\": wg_sdict,\n",
        "        \"dc2\": dc_sdense,\n",
        "    },\n",
        "    connections={\n",
        "        \"dc1,out0\": \"wg,in0\",\n",
        "        \"wg,out0\": \"dc2,in0\",\n",
        "        \"dc1,out1\": \"dc2,in1\",\n",
        "    },\n",
        "    ports={\n",
        "        \"in0\": \"dc1,in0\",\n",
        "        \"in1\": \"dc1,in1\",\n",
        "        \"out0\": \"dc2,out0\",\n",
        "        \"out1\": \"dc2,out1\",\n",
        "    }\n",
        ")\n",
        "\n",
        "mzi_sdict"
      ]
    },
    {
      "cell_type": "markdown",
      "id": "48950a3d",
      "metadata": {
        "papermill": {
          "duration": 0.005206,
          "end_time": "2023-06-01T21:10:35.745371",
          "exception": false,
          "start_time": "2023-06-01T21:10:35.740165",
          "status": "completed"
        },
        "tags": []
      },
      "source": [
        "## Algorithm Walkthrough\n",
        "\n",
        "> Note: This algorithm gets pretty slow for large circuits. I'd be [very interested in any improvements](#Algorithm-Improvements) that can be made here, especially because - as opposed to the currently faster [KLU backend](./07b_backends_klu.ipynb) - the algorithm discussed here is jittable, differentiable and can be used on GPUs."
      ]
    },
    {
      "cell_type": "markdown",
      "id": "81e28766",
      "metadata": {
        "papermill": {
          "duration": 0.010944,
          "end_time": "2023-06-01T21:10:35.768020",
          "exception": false,
          "start_time": "2023-06-01T21:10:35.757076",
          "status": "completed"
        },
        "tags": []
      },
      "source": [
        "Let's walk through all the steps of this algorithm. We'll do this for a simple MZI circuit, given by two directional couplers characterised by `dc_sdense` with a phase shifting waveguide in between `wg_sdict`:"
      ]
    },
    {
      "cell_type": "code",
      "execution_count": 6,
      "id": "e2bdfbf4",
      "metadata": {
        "execution": {
          "iopub.execute_input": "2023-06-01T21:10:35.791906Z",
          "iopub.status.busy": "2023-06-01T21:10:35.791644Z",
          "iopub.status.idle": "2023-06-01T21:10:35.794870Z",
          "shell.execute_reply": "2023-06-01T21:10:35.794457Z"
        },
        "papermill": {
          "duration": 0.019372,
          "end_time": "2023-06-01T21:10:35.799080",
          "exception": false,
          "start_time": "2023-06-01T21:10:35.779708",
          "status": "completed"
        },
        "tags": []
      },
      "outputs": [],
      "source": [
        "instances={\n",
        "    \"dc1\": dc_sdense,\n",
        "    \"wg\": wg_sdict,\n",
        "    \"dc2\": dc_sdense,\n",
        "}\n",
        "connections={\n",
        "    \"dc1,out0\": \"wg,in0\",\n",
        "    \"wg,out0\": \"dc2,in0\",\n",
        "    \"dc1,out1\": \"dc2,in1\",\n",
        "}\n",
        "ports={\n",
        "    \"in0\": \"dc1,in0\",\n",
        "    \"in1\": \"dc1,in1\",\n",
        "    \"out0\": \"dc2,out0\",\n",
        "    \"out1\": \"dc2,out1\",\n",
        "}"
      ]
    },
    {
      "cell_type": "markdown",
      "id": "6ef72161",
      "metadata": {
        "papermill": {
          "duration": 0.008963,
          "end_time": "2023-06-01T21:10:35.818909",
          "exception": false,
          "start_time": "2023-06-01T21:10:35.809946",
          "status": "completed"
        },
        "tags": []
      },
      "source": [
        "as a first step, we construct the `reversed_ports`, it's actually easier to work with `reversed_ports` (we chose the opposite convention in the netlist definition to adhere to the GDSFactory netlist convention):"
      ]
    },
    {
      "cell_type": "code",
      "execution_count": 7,
      "id": "70302612",
      "metadata": {
        "execution": {
          "iopub.execute_input": "2023-06-01T21:10:35.830638Z",
          "iopub.status.busy": "2023-06-01T21:10:35.830391Z",
          "iopub.status.idle": "2023-06-01T21:10:35.833178Z",
          "shell.execute_reply": "2023-06-01T21:10:35.832794Z"
        },
        "papermill": {
          "duration": 0.010811,
          "end_time": "2023-06-01T21:10:35.835063",
          "exception": false,
          "start_time": "2023-06-01T21:10:35.824252",
          "status": "completed"
        },
        "tags": []
      },
      "outputs": [],
      "source": [
        "reversed_ports = {v: k for k, v in ports.items()}"
      ]
    },
    {
      "cell_type": "markdown",
      "id": "78676045",
      "metadata": {
        "papermill": {
          "duration": 0.005182,
          "end_time": "2023-06-01T21:10:35.845627",
          "exception": false,
          "start_time": "2023-06-01T21:10:35.840445",
          "status": "completed"
        },
        "tags": []
      },
      "source": [
        "The first real step of the algorithm is to create the 'block diagonal sdict`:"
      ]
    },
    {
      "cell_type": "code",
      "execution_count": 8,
      "id": "0ff6149f",
      "metadata": {
        "execution": {
          "iopub.execute_input": "2023-06-01T21:10:35.857082Z",
          "iopub.status.busy": "2023-06-01T21:10:35.856856Z",
          "iopub.status.idle": "2023-06-01T21:10:35.884664Z",
          "shell.execute_reply": "2023-06-01T21:10:35.884291Z"
        },
        "papermill": {
          "duration": 0.035181,
          "end_time": "2023-06-01T21:10:35.886045",
          "exception": false,
          "start_time": "2023-06-01T21:10:35.850864",
          "status": "completed"
        },
        "tags": []
      },
      "outputs": [],
      "source": [
        "block_diag = {}\n",
        "for name, S in instances.items():\n",
        "    block_diag.update(\n",
        "        {(f\"{name},{p1}\", f\"{name},{p2}\"): v for (p1, p2), v in sdict(S).items()}\n",
        "    )\n"
      ]
    },
    {
      "cell_type": "markdown",
      "id": "c4721548",
      "metadata": {
        "papermill": {
          "duration": 0.005923,
          "end_time": "2023-06-01T21:10:35.897369",
          "exception": false,
          "start_time": "2023-06-01T21:10:35.891446",
          "status": "completed"
        },
        "tags": []
      },
      "source": [
        "we can optionally filter out zeros from the resulting block_diag representation. Just note that this will make the resuling function unjittable (the resulting 'shape' (i.e. keys) of the dictionary would depend on the data itself, which is not allowed in JAX jit). We're doing it here to avoid printing zeros but **internally this is not done by default**."
      ]
    },
    {
      "cell_type": "code",
      "execution_count": 9,
      "id": "cfce53c1",
      "metadata": {
        "execution": {
          "iopub.execute_input": "2023-06-01T21:10:35.908770Z",
          "iopub.status.busy": "2023-06-01T21:10:35.908568Z",
          "iopub.status.idle": "2023-06-01T21:10:35.968221Z",
          "shell.execute_reply": "2023-06-01T21:10:35.967848Z"
        },
        "papermill": {
          "duration": 0.066959,
          "end_time": "2023-06-01T21:10:35.969555",
          "exception": false,
          "start_time": "2023-06-01T21:10:35.902596",
          "status": "completed"
        },
        "tags": []
      },
      "outputs": [
        {
          "name": "stdout",
          "output_type": "stream",
          "text": [
            "18\n"
          ]
        },
        {
          "data": {
            "text/plain": [
              "{('dc1,in0', 'dc1,out0'): Array(0.70710677+0.j, dtype=complex64),\n",
              " ('dc1,in0', 'dc1,out1'): Array(0.+0.70710677j, dtype=complex64),\n",
              " ('dc1,in1', 'dc1,out0'): Array(0.+0.70710677j, dtype=complex64),\n",
              " ('dc1,in1', 'dc1,out1'): Array(0.70710677+0.j, dtype=complex64),\n",
              " ('dc1,out0', 'dc1,in0'): Array(0.70710677+0.j, dtype=complex64),\n",
              " ('dc1,out0', 'dc1,in1'): Array(0.+0.70710677j, dtype=complex64),\n",
              " ('dc1,out1', 'dc1,in0'): Array(0.+0.70710677j, dtype=complex64),\n",
              " ('dc1,out1', 'dc1,in1'): Array(0.70710677+0.j, dtype=complex64),\n",
              " ('wg,in0', 'wg,out0'): (0.5+0.86603j),\n",
              " ('wg,out0', 'wg,in0'): (0.5+0.86603j),\n",
              " ('dc2,in0', 'dc2,out0'): Array(0.70710677+0.j, dtype=complex64),\n",
              " ('dc2,in0', 'dc2,out1'): Array(0.+0.70710677j, dtype=complex64),\n",
              " ('dc2,in1', 'dc2,out0'): Array(0.+0.70710677j, dtype=complex64),\n",
              " ('dc2,in1', 'dc2,out1'): Array(0.70710677+0.j, dtype=complex64),\n",
              " ('dc2,out0', 'dc2,in0'): Array(0.70710677+0.j, dtype=complex64),\n",
              " ('dc2,out0', 'dc2,in1'): Array(0.+0.70710677j, dtype=complex64),\n",
              " ('dc2,out1', 'dc2,in0'): Array(0.+0.70710677j, dtype=complex64),\n",
              " ('dc2,out1', 'dc2,in1'): Array(0.70710677+0.j, dtype=complex64)}"
            ]
          },
          "execution_count": 9,
          "metadata": {},
          "output_type": "execute_result"
        }
      ],
      "source": [
        "block_diag = {k: v for k, v in block_diag.items() if jnp.abs(v) > 1e-10}\n",
        "print(len(block_diag))\n",
        "block_diag"
      ]
    },
    {
      "cell_type": "markdown",
      "id": "1963694a",
      "metadata": {
        "papermill": {
          "duration": 0.005798,
          "end_time": "2023-06-01T21:10:35.981224",
          "exception": false,
          "start_time": "2023-06-01T21:10:35.975426",
          "status": "completed"
        },
        "tags": []
      },
      "source": [
        "next, we sort the connections such that similar components are grouped together:"
      ]
    },
    {
      "cell_type": "code",
      "execution_count": 10,
      "id": "9859c2d4",
      "metadata": {
        "execution": {
          "iopub.execute_input": "2023-06-01T21:10:35.993449Z",
          "iopub.status.busy": "2023-06-01T21:10:35.993205Z",
          "iopub.status.idle": "2023-06-01T21:10:35.996951Z",
          "shell.execute_reply": "2023-06-01T21:10:35.996571Z"
        },
        "papermill": {
          "duration": 0.012686,
          "end_time": "2023-06-01T21:10:35.999483",
          "exception": false,
          "start_time": "2023-06-01T21:10:35.986797",
          "status": "completed"
        },
        "tags": []
      },
      "outputs": [
        {
          "data": {
            "text/plain": [
              "[('dc1,out1', 'dc2,in1'), ('dc1,out0', 'wg,in0'), ('wg,out0', 'dc2,in0')]"
            ]
          },
          "execution_count": 10,
          "metadata": {},
          "output_type": "execute_result"
        }
      ],
      "source": [
        "sorted_connections = sorted(connections.items(), key=_connections_sort_key)\n",
        "sorted_connections"
      ]
    },
    {
      "cell_type": "markdown",
      "id": "c75fbf65",
      "metadata": {
        "papermill": {
          "duration": 0.005646,
          "end_time": "2023-06-01T21:10:36.010781",
          "exception": false,
          "start_time": "2023-06-01T21:10:36.005135",
          "status": "completed"
        },
        "tags": []
      },
      "source": [
        "Now we iterate over the sorted connections and connect components as they come in. Connected components take over the name of the first component in the connection, but we keep a set of components belonging to that key in `all_connected_instances`.\n",
        "\n",
        "This is how this `all_connected_instances` dictionary looks initially."
      ]
    },
    {
      "cell_type": "code",
      "execution_count": 11,
      "id": "cf30668c",
      "metadata": {
        "execution": {
          "iopub.execute_input": "2023-06-01T21:10:36.023289Z",
          "iopub.status.busy": "2023-06-01T21:10:36.022939Z",
          "iopub.status.idle": "2023-06-01T21:10:36.026942Z",
          "shell.execute_reply": "2023-06-01T21:10:36.026480Z"
        },
        "papermill": {
          "duration": 0.012526,
          "end_time": "2023-06-01T21:10:36.028931",
          "exception": false,
          "start_time": "2023-06-01T21:10:36.016405",
          "status": "completed"
        },
        "tags": []
      },
      "outputs": [
        {
          "data": {
            "text/plain": [
              "{'dc1': {'dc1'}, 'wg': {'wg'}, 'dc2': {'dc2'}}"
            ]
          },
          "execution_count": 11,
          "metadata": {},
          "output_type": "execute_result"
        }
      ],
      "source": [
        "all_connected_instances = {k: {k} for k in instances}\n",
        "all_connected_instances"
      ]
    },
    {
      "cell_type": "markdown",
      "id": "1152056b",
      "metadata": {
        "papermill": {
          "duration": 0.006076,
          "end_time": "2023-06-01T21:10:36.041017",
          "exception": false,
          "start_time": "2023-06-01T21:10:36.034941",
          "status": "completed"
        },
        "tags": []
      },
      "source": [
        "Normally we would loop over every connection in `sorted_connections` now, but let's just go through it once at first:"
      ]
    },
    {
      "cell_type": "code",
      "execution_count": 12,
      "id": "ee48dd406ba0da6e",
      "metadata": {
        "execution": {
          "iopub.execute_input": "2023-06-01T21:10:36.053712Z",
          "iopub.status.busy": "2023-06-01T21:10:36.053372Z",
          "iopub.status.idle": "2023-06-01T21:10:36.057158Z",
          "shell.execute_reply": "2023-06-01T21:10:36.056709Z"
        },
        "papermill": {
          "duration": 0.012486,
          "end_time": "2023-06-01T21:10:36.059250",
          "exception": false,
          "start_time": "2023-06-01T21:10:36.046764",
          "status": "completed"
        },
        "tags": []
      },
      "outputs": [
        {
          "data": {
            "text/plain": [
              "('dc1,out1', 'dc2,in1')"
            ]
          },
          "execution_count": 12,
          "metadata": {},
          "output_type": "execute_result"
        }
      ],
      "source": [
        "# for k, l in sorted_connections:\n",
        "k, l = sorted_connections[0]\n",
        "k, l"
      ]
    },
    {
      "cell_type": "markdown",
      "id": "16a2266c",
      "metadata": {
        "papermill": {
          "duration": 0.005863,
          "end_time": "2023-06-01T21:10:36.071045",
          "exception": false,
          "start_time": "2023-06-01T21:10:36.065182",
          "status": "completed"
        },
        "tags": []
      },
      "source": [
        "`k` and `l` are the S-matrix indices we're trying to connect. Note that in our sparse `SDict` notation these S-matrix indices are in fact equivalent with the port names `('dc1,out1', 'dc2,in1')`!"
      ]
    },
    {
      "cell_type": "markdown",
      "id": "0eaf4add",
      "metadata": {
        "papermill": {
          "duration": 0.005714,
          "end_time": "2023-06-01T21:10:36.082715",
          "exception": false,
          "start_time": "2023-06-01T21:10:36.077001",
          "status": "completed"
        },
        "tags": []
      },
      "source": [
        "first we split the connection string into an instance name and a port name (we don't use the port name yet):"
      ]
    },
    {
      "cell_type": "code",
      "execution_count": 13,
      "id": "667d1a3c",
      "metadata": {
        "execution": {
          "iopub.execute_input": "2023-06-01T21:10:36.095626Z",
          "iopub.status.busy": "2023-06-01T21:10:36.095280Z",
          "iopub.status.idle": "2023-06-01T21:10:36.098121Z",
          "shell.execute_reply": "2023-06-01T21:10:36.097647Z"
        },
        "papermill": {
          "duration": 0.011135,
          "end_time": "2023-06-01T21:10:36.099630",
          "exception": false,
          "start_time": "2023-06-01T21:10:36.088495",
          "status": "completed"
        },
        "tags": []
      },
      "outputs": [],
      "source": [
        "name1, _ = k.split(\",\")\n",
        "name2, _ = l.split(\",\")"
      ]
    },
    {
      "cell_type": "markdown",
      "id": "16e8bbe8",
      "metadata": {
        "papermill": {
          "duration": 0.005733,
          "end_time": "2023-06-01T21:10:36.111189",
          "exception": false,
          "start_time": "2023-06-01T21:10:36.105456",
          "status": "completed"
        },
        "tags": []
      },
      "source": [
        "We then obtain the new set of connected instances."
      ]
    },
    {
      "cell_type": "code",
      "execution_count": 14,
      "id": "51bf8615",
      "metadata": {
        "execution": {
          "iopub.execute_input": "2023-06-01T21:10:36.123996Z",
          "iopub.status.busy": "2023-06-01T21:10:36.123658Z",
          "iopub.status.idle": "2023-06-01T21:10:36.128001Z",
          "shell.execute_reply": "2023-06-01T21:10:36.126996Z"
        },
        "papermill": {
          "duration": 0.014438,
          "end_time": "2023-06-01T21:10:36.131408",
          "exception": false,
          "start_time": "2023-06-01T21:10:36.116970",
          "status": "completed"
        },
        "tags": []
      },
      "outputs": [
        {
          "data": {
            "text/plain": [
              "{'dc1', 'dc2'}"
            ]
          },
          "execution_count": 14,
          "metadata": {},
          "output_type": "execute_result"
        }
      ],
      "source": [
        "connected_instances = all_connected_instances[name1] | all_connected_instances[name2]\n",
        "connected_instances"
      ]
    },
    {
      "cell_type": "markdown",
      "id": "676c8d61",
      "metadata": {
        "papermill": {
          "duration": 0.006017,
          "end_time": "2023-06-01T21:10:36.143510",
          "exception": false,
          "start_time": "2023-06-01T21:10:36.137493",
          "status": "completed"
        },
        "tags": []
      },
      "source": [
        "We then iterate over each of the components in this set and make sure each of the component names in that set maps to that set (yes, I know... confusing). We do this to be able to keep track with which components each of the components in the circuit is currently already connected to."
      ]
    },
    {
      "cell_type": "code",
      "execution_count": 15,
      "id": "d322e86c",
      "metadata": {
        "execution": {
          "iopub.execute_input": "2023-06-01T21:10:36.156694Z",
          "iopub.status.busy": "2023-06-01T21:10:36.156337Z",
          "iopub.status.idle": "2023-06-01T21:10:36.160341Z",
          "shell.execute_reply": "2023-06-01T21:10:36.159865Z"
        },
        "papermill": {
          "duration": 0.012869,
          "end_time": "2023-06-01T21:10:36.162340",
          "exception": false,
          "start_time": "2023-06-01T21:10:36.149471",
          "status": "completed"
        },
        "tags": []
      },
      "outputs": [
        {
          "data": {
            "text/plain": [
              "{'dc1': {'dc1', 'dc2'}, 'wg': {'wg'}, 'dc2': {'dc1', 'dc2'}}"
            ]
          },
          "execution_count": 15,
          "metadata": {},
          "output_type": "execute_result"
        }
      ],
      "source": [
        "for name in connected_instances:\n",
        "    all_connected_instances[name] = connected_instances\n",
        "    \n",
        "all_connected_instances"
      ]
    },
    {
      "cell_type": "markdown",
      "id": "b79f49f8",
      "metadata": {
        "papermill": {
          "duration": 0.005955,
          "end_time": "2023-06-01T21:10:36.174392",
          "exception": false,
          "start_time": "2023-06-01T21:10:36.168437",
          "status": "completed"
        },
        "tags": []
      },
      "source": [
        "now we need to obtain all the ports of the currently connected instances."
      ]
    },
    {
      "cell_type": "code",
      "execution_count": 16,
      "id": "61b3cfab",
      "metadata": {
        "execution": {
          "iopub.execute_input": "2023-06-01T21:10:36.187780Z",
          "iopub.status.busy": "2023-06-01T21:10:36.187446Z",
          "iopub.status.idle": "2023-06-01T21:10:36.191908Z",
          "shell.execute_reply": "2023-06-01T21:10:36.191457Z"
        },
        "papermill": {
          "duration": 0.013295,
          "end_time": "2023-06-01T21:10:36.193848",
          "exception": false,
          "start_time": "2023-06-01T21:10:36.180553",
          "status": "completed"
        },
        "tags": []
      },
      "outputs": [
        {
          "data": {
            "text/plain": [
              "('dc1,in0',\n",
              " 'dc1,out0',\n",
              " 'dc1,in1',\n",
              " 'dc1,out1',\n",
              " 'dc2,in0',\n",
              " 'dc2,out0',\n",
              " 'dc2,out1',\n",
              " 'dc2,in1')"
            ]
          },
          "execution_count": 16,
          "metadata": {},
          "output_type": "execute_result"
        }
      ],
      "source": [
        "current_ports = tuple(\n",
        "    p\n",
        "    for instance in connected_instances\n",
        "    for p in set([p for p, _ in block_diag] + [p for _, p in block_diag])\n",
        "    if p.startswith(f\"{instance},\")\n",
        ")\n",
        "\n",
        "current_ports"
      ]
    },
    {
      "cell_type": "markdown",
      "id": "d0e87449",
      "metadata": {
        "papermill": {
          "duration": 0.006219,
          "end_time": "2023-06-01T21:10:36.206319",
          "exception": false,
          "start_time": "2023-06-01T21:10:36.200100",
          "status": "completed"
        },
        "tags": []
      },
      "source": [
        "Now the [Gunnar Algorithm](#citation) is used. Given a (block-diagonal) 'S-matrix' `block_diag` and a 'connection matrix' `current_ports` we can interconnect port `k` and `l` as follows:\n",
        "\n",
        "> Note: some creative freedom is used here. In SAX, the matrices we're talking about are in fact represented by a sparse dictionary (an `SDict`), i.e. similar to a COO sparse matrix for which the indices are the port names."
      ]
    },
    {
      "cell_type": "code",
      "execution_count": 17,
      "id": "431649e5",
      "metadata": {
        "execution": {
          "iopub.execute_input": "2023-06-01T21:10:36.220139Z",
          "iopub.status.busy": "2023-06-01T21:10:36.219781Z",
          "iopub.status.idle": "2023-06-01T21:10:36.720859Z",
          "shell.execute_reply": "2023-06-01T21:10:36.720395Z"
        },
        "papermill": {
          "duration": 0.509822,
          "end_time": "2023-06-01T21:10:36.722348",
          "exception": false,
          "start_time": "2023-06-01T21:10:36.212526",
          "status": "completed"
        },
        "tags": []
      },
      "outputs": [],
      "source": [
        "def _interconnect_ports(block_diag, current_ports, k, l):\n",
        "    current_block_diag = {}\n",
        "    for i in current_ports:\n",
        "        for j in current_ports:\n",
        "            vij = _calculate_interconnected_value(\n",
        "                vij=block_diag.get((i, j), 0.0),\n",
        "                vik=block_diag.get((i, k), 0.0),\n",
        "                vil=block_diag.get((i, l), 0.0),\n",
        "                vkj=block_diag.get((k, j), 0.0),\n",
        "                vkk=block_diag.get((k, k), 0.0),\n",
        "                vkl=block_diag.get((k, l), 0.0),\n",
        "                vlj=block_diag.get((l, j), 0.0),\n",
        "                vlk=block_diag.get((l, k), 0.0),\n",
        "                vll=block_diag.get((l, l), 0.0),\n",
        "            )\n",
        "            current_block_diag[i, j] = vij\n",
        "    return current_block_diag\n",
        "\n",
        "@jax.jit\n",
        "def _calculate_interconnected_value(vij, vik, vil, vkj, vkk, vkl, vlj, vlk, vll):\n",
        "    result = vij + (\n",
        "        vkj * vil * (1 - vlk)\n",
        "        + vlj * vik * (1 - vkl)\n",
        "        + vkj * vll * vik\n",
        "        + vlj * vkk * vil\n",
        "    ) / ((1 - vkl) * (1 - vlk) - vkk * vll)\n",
        "    return result\n",
        "\n",
        "block_diag.update(_interconnect_ports(block_diag, current_ports, k, l))"
      ]
    },
    {
      "cell_type": "markdown",
      "id": "988c08d9",
      "metadata": {
        "papermill": {
          "duration": 0.006746,
          "end_time": "2023-06-01T21:10:36.735728",
          "exception": false,
          "start_time": "2023-06-01T21:10:36.728982",
          "status": "completed"
        },
        "tags": []
      },
      "source": [
        "Just as before, we're filtering the zeros from the sparse representation (remember, internally this is **not done by default**)."
      ]
    },
    {
      "cell_type": "code",
      "execution_count": 18,
      "id": "e9ac8164",
      "metadata": {
        "execution": {
          "iopub.execute_input": "2023-06-01T21:10:36.749693Z",
          "iopub.status.busy": "2023-06-01T21:10:36.749330Z",
          "iopub.status.idle": "2023-06-01T21:10:36.775593Z",
          "shell.execute_reply": "2023-06-01T21:10:36.775212Z"
        },
        "papermill": {
          "duration": 0.034884,
          "end_time": "2023-06-01T21:10:36.776892",
          "exception": false,
          "start_time": "2023-06-01T21:10:36.742008",
          "status": "completed"
        },
        "tags": []
      },
      "outputs": [
        {
          "name": "stdout",
          "output_type": "stream",
          "text": [
            "26\n"
          ]
        },
        {
          "data": {
            "text/plain": [
              "{('dc1,in0', 'dc1,out0'): Array(0.70710677+0.j, dtype=complex64),\n",
              " ('dc1,in0', 'dc1,out1'): Array(0.+0.70710677j, dtype=complex64),\n",
              " ('dc1,in1', 'dc1,out0'): Array(0.+0.70710677j, dtype=complex64),\n",
              " ('dc1,in1', 'dc1,out1'): Array(0.70710677+0.j, dtype=complex64),\n",
              " ('dc1,out0', 'dc1,in0'): Array(0.70710677+0.j, dtype=complex64),\n",
              " ('dc1,out0', 'dc1,in1'): Array(0.+0.70710677j, dtype=complex64),\n",
              " ('dc1,out1', 'dc1,in0'): Array(0.+0.70710677j, dtype=complex64),\n",
              " ('dc1,out1', 'dc1,in1'): Array(0.70710677+0.j, dtype=complex64),\n",
              " ('wg,in0', 'wg,out0'): (0.5+0.86603j),\n",
              " ('wg,out0', 'wg,in0'): (0.5+0.86603j),\n",
              " ('dc2,in0', 'dc2,out0'): Array(0.70710677+0.j, dtype=complex64),\n",
              " ('dc2,in0', 'dc2,out1'): Array(0.+0.70710677j, dtype=complex64),\n",
              " ('dc2,in1', 'dc2,out0'): Array(0.+0.70710677j, dtype=complex64),\n",
              " ('dc2,in1', 'dc2,out1'): Array(0.70710677+0.j, dtype=complex64),\n",
              " ('dc2,out0', 'dc2,in0'): Array(0.70710677+0.j, dtype=complex64),\n",
              " ('dc2,out0', 'dc2,in1'): Array(0.+0.70710677j, dtype=complex64),\n",
              " ('dc2,out1', 'dc2,in0'): Array(0.+0.70710677j, dtype=complex64),\n",
              " ('dc2,out1', 'dc2,in1'): Array(0.70710677+0.j, dtype=complex64),\n",
              " ('dc1,in0', 'dc2,out0'): Array(-0.49999997+0.j, dtype=complex64),\n",
              " ('dc1,in0', 'dc2,out1'): Array(0.+0.49999997j, dtype=complex64),\n",
              " ('dc1,in1', 'dc2,out0'): Array(0.+0.49999997j, dtype=complex64),\n",
              " ('dc1,in1', 'dc2,out1'): Array(0.49999997+0.j, dtype=complex64),\n",
              " ('dc2,out0', 'dc1,in0'): Array(-0.49999997+0.j, dtype=complex64),\n",
              " ('dc2,out0', 'dc1,in1'): Array(0.+0.49999997j, dtype=complex64),\n",
              " ('dc2,out1', 'dc1,in0'): Array(0.+0.49999997j, dtype=complex64),\n",
              " ('dc2,out1', 'dc1,in1'): Array(0.49999997+0.j, dtype=complex64)}"
            ]
          },
          "execution_count": 18,
          "metadata": {},
          "output_type": "execute_result"
        }
      ],
      "source": [
        "block_diag = {k: v for k, v in block_diag.items() if jnp.abs(v) > 1e-10}\n",
        "print(len(block_diag))\n",
        "block_diag"
      ]
    },
    {
      "cell_type": "markdown",
      "id": "db0cd151",
      "metadata": {
        "papermill": {
          "duration": 0.006392,
          "end_time": "2023-06-01T21:10:36.790253",
          "exception": false,
          "start_time": "2023-06-01T21:10:36.783861",
          "status": "completed"
        },
        "tags": []
      },
      "source": [
        "This is the resulting block-diagonal matrix after interconnecting two ports (i.e. basically saying that those two ports are the same port). Because these ports are now connected we should actually remove them from the S-matrix representation (they are integrated into the S-parameters of the other connections):"
      ]
    },
    {
      "cell_type": "code",
      "execution_count": 19,
      "id": "311b034f",
      "metadata": {
        "execution": {
          "iopub.execute_input": "2023-06-01T21:10:36.804310Z",
          "iopub.status.busy": "2023-06-01T21:10:36.803974Z",
          "iopub.status.idle": "2023-06-01T21:10:36.813129Z",
          "shell.execute_reply": "2023-06-01T21:10:36.812565Z"
        },
        "papermill": {
          "duration": 0.017824,
          "end_time": "2023-06-01T21:10:36.814444",
          "exception": false,
          "start_time": "2023-06-01T21:10:36.796620",
          "status": "completed"
        },
        "tags": []
      },
      "outputs": [
        {
          "name": "stdout",
          "output_type": "stream",
          "text": [
            "18\n"
          ]
        },
        {
          "data": {
            "text/plain": [
              "{('dc1,in0', 'dc1,out0'): Array(0.70710677+0.j, dtype=complex64),\n",
              " ('dc1,in1', 'dc1,out0'): Array(0.+0.70710677j, dtype=complex64),\n",
              " ('dc1,out0', 'dc1,in0'): Array(0.70710677+0.j, dtype=complex64),\n",
              " ('dc1,out0', 'dc1,in1'): Array(0.+0.70710677j, dtype=complex64),\n",
              " ('wg,in0', 'wg,out0'): (0.5+0.86603j),\n",
              " ('wg,out0', 'wg,in0'): (0.5+0.86603j),\n",
              " ('dc2,in0', 'dc2,out0'): Array(0.70710677+0.j, dtype=complex64),\n",
              " ('dc2,in0', 'dc2,out1'): Array(0.+0.70710677j, dtype=complex64),\n",
              " ('dc2,out0', 'dc2,in0'): Array(0.70710677+0.j, dtype=complex64),\n",
              " ('dc2,out1', 'dc2,in0'): Array(0.+0.70710677j, dtype=complex64),\n",
              " ('dc1,in0', 'dc2,out0'): Array(-0.49999997+0.j, dtype=complex64),\n",
              " ('dc1,in0', 'dc2,out1'): Array(0.+0.49999997j, dtype=complex64),\n",
              " ('dc1,in1', 'dc2,out0'): Array(0.+0.49999997j, dtype=complex64),\n",
              " ('dc1,in1', 'dc2,out1'): Array(0.49999997+0.j, dtype=complex64),\n",
              " ('dc2,out0', 'dc1,in0'): Array(-0.49999997+0.j, dtype=complex64),\n",
              " ('dc2,out0', 'dc1,in1'): Array(0.+0.49999997j, dtype=complex64),\n",
              " ('dc2,out1', 'dc1,in0'): Array(0.+0.49999997j, dtype=complex64),\n",
              " ('dc2,out1', 'dc1,in1'): Array(0.49999997+0.j, dtype=complex64)}"
            ]
          },
          "execution_count": 19,
          "metadata": {},
          "output_type": "execute_result"
        }
      ],
      "source": [
        "for i, j in list(block_diag.keys()):\n",
        "    is_connected = i == k or i == l or j == k or j == l\n",
        "    is_in_output_ports = i in reversed_ports and j in reversed_ports\n",
        "    if is_connected and not is_in_output_ports:\n",
        "        del block_diag[i, j]  # we're no longer interested in these port combinations\n",
        "        \n",
        "print(len(block_diag))\n",
        "block_diag"
      ]
    },
    {
      "cell_type": "markdown",
      "id": "b6badcb7",
      "metadata": {
        "papermill": {
          "duration": 0.006562,
          "end_time": "2023-06-01T21:10:36.827865",
          "exception": false,
          "start_time": "2023-06-01T21:10:36.821303",
          "status": "completed"
        },
        "tags": []
      },
      "source": [
        "Note that this deletion of values **does NOT** make this operation un-jittable. The deletion depends on the ports of the dictionary (i.e. on the dictionary 'shape'), not on the values."
      ]
    },
    {
      "cell_type": "markdown",
      "id": "89e775cd",
      "metadata": {
        "papermill": {
          "duration": 0.006519,
          "end_time": "2023-06-01T21:10:36.840900",
          "exception": false,
          "start_time": "2023-06-01T21:10:36.834381",
          "status": "completed"
        },
        "tags": []
      },
      "source": [
        "We now basically have to do those steps again for all other connections:"
      ]
    },
    {
      "cell_type": "code",
      "execution_count": 20,
      "id": "6c2e54d18d887e21",
      "metadata": {
        "execution": {
          "iopub.execute_input": "2023-06-01T21:10:36.855277Z",
          "iopub.status.busy": "2023-06-01T21:10:36.854929Z",
          "iopub.status.idle": "2023-06-01T21:10:38.040141Z",
          "shell.execute_reply": "2023-06-01T21:10:38.039704Z"
        },
        "papermill": {
          "duration": 1.194689,
          "end_time": "2023-06-01T21:10:38.042093",
          "exception": false,
          "start_time": "2023-06-01T21:10:36.847404",
          "status": "completed"
        },
        "tags": []
      },
      "outputs": [],
      "source": [
        "#for k, l in sorted_connections: \n",
        "for k, l in sorted_connections[1:]: # we just did the first iteration of this loop above...\n",
        "    name1, _ = k.split(\",\")\n",
        "    name2, _ = l.split(\",\")\n",
        "    connected_instances = all_connected_instances[name1] | all_connected_instances[name2]\n",
        "    for name in connected_instances:\n",
        "        all_connected_instances[name] = connected_instances\n",
        "    current_ports = tuple(\n",
        "        p\n",
        "        for instance in connected_instances\n",
        "        for p in set([p for p, _ in block_diag] + [p for _, p in block_diag])\n",
        "        if p.startswith(f\"{instance},\")\n",
        "    )\n",
        "    block_diag.update(_interconnect_ports(block_diag, current_ports, k, l))\n",
        "    for i, j in list(block_diag.keys()):\n",
        "        is_connected = i == k or i == l or j == k or j == l\n",
        "        is_in_output_ports = i in reversed_ports and j in reversed_ports\n",
        "        if is_connected and not is_in_output_ports:\n",
        "            del block_diag[i, j]  # we're no longer interested in these port combinations"
      ]
    },
    {
      "cell_type": "markdown",
      "id": "36eb82fc",
      "metadata": {
        "papermill": {
          "duration": 0.007361,
          "end_time": "2023-06-01T21:10:38.056428",
          "exception": false,
          "start_time": "2023-06-01T21:10:38.049067",
          "status": "completed"
        },
        "tags": []
      },
      "source": [
        "This is the final MZI matrix we're getting:"
      ]
    },
    {
      "cell_type": "code",
      "execution_count": 21,
      "id": "d1c0367e",
      "metadata": {
        "execution": {
          "iopub.execute_input": "2023-06-01T21:10:38.070885Z",
          "iopub.status.busy": "2023-06-01T21:10:38.070522Z",
          "iopub.status.idle": "2023-06-01T21:10:38.078681Z",
          "shell.execute_reply": "2023-06-01T21:10:38.078296Z"
        },
        "papermill": {
          "duration": 0.017068,
          "end_time": "2023-06-01T21:10:38.080045",
          "exception": false,
          "start_time": "2023-06-01T21:10:38.062977",
          "status": "completed"
        },
        "tags": []
      },
      "outputs": [
        {
          "data": {
            "text/plain": [
              "{('dc1,in0', 'dc2,out0'): Array(-0.24999999+0.433015j, dtype=complex64),\n",
              " ('dc1,in0', 'dc2,out1'): Array(-0.433015+0.74999994j, dtype=complex64),\n",
              " ('dc1,in1', 'dc2,out0'): Array(-0.433015+0.74999994j, dtype=complex64),\n",
              " ('dc1,in1', 'dc2,out1'): Array(0.24999999-0.433015j, dtype=complex64),\n",
              " ('dc2,out0', 'dc1,in0'): Array(-0.24999999+0.433015j, dtype=complex64),\n",
              " ('dc2,out0', 'dc1,in1'): Array(-0.433015+0.74999994j, dtype=complex64),\n",
              " ('dc2,out1', 'dc1,in0'): Array(-0.433015+0.74999994j, dtype=complex64),\n",
              " ('dc2,out1', 'dc1,in1'): Array(0.24999999-0.433015j, dtype=complex64),\n",
              " ('dc1,in0', 'dc1,in0'): Array(0.+0.j, dtype=complex64),\n",
              " ('dc1,in0', 'dc1,in1'): Array(0.+0.j, dtype=complex64),\n",
              " ('dc1,in1', 'dc1,in0'): Array(0.+0.j, dtype=complex64),\n",
              " ('dc1,in1', 'dc1,in1'): Array(0.+0.j, dtype=complex64),\n",
              " ('dc2,out0', 'dc2,out0'): Array(0.+0.j, dtype=complex64),\n",
              " ('dc2,out0', 'dc2,out1'): Array(0.+0.j, dtype=complex64),\n",
              " ('dc2,out1', 'dc2,out0'): Array(0.+0.j, dtype=complex64),\n",
              " ('dc2,out1', 'dc2,out1'): Array(0.+0.j, dtype=complex64)}"
            ]
          },
          "execution_count": 21,
          "metadata": {},
          "output_type": "execute_result"
        }
      ],
      "source": [
        "block_diag"
      ]
    },
    {
      "cell_type": "markdown",
      "id": "03f67ec6",
      "metadata": {
        "papermill": {
          "duration": 0.006701,
          "end_time": "2023-06-01T21:10:38.093560",
          "exception": false,
          "start_time": "2023-06-01T21:10:38.086859",
          "status": "completed"
        },
        "tags": []
      },
      "source": [
        "All that's left is to rename these internal ports of the format `{instance},{port}` into output ports of the resulting circuit:"
      ]
    },
    {
      "cell_type": "code",
      "execution_count": 22,
      "id": "cf5ea4af",
      "metadata": {
        "execution": {
          "iopub.execute_input": "2023-06-01T21:10:38.108239Z",
          "iopub.status.busy": "2023-06-01T21:10:38.107914Z",
          "iopub.status.idle": "2023-06-01T21:10:38.116453Z",
          "shell.execute_reply": "2023-06-01T21:10:38.116009Z"
        },
        "papermill": {
          "duration": 0.017541,
          "end_time": "2023-06-01T21:10:38.117767",
          "exception": false,
          "start_time": "2023-06-01T21:10:38.100226",
          "status": "completed"
        },
        "tags": []
      },
      "outputs": [
        {
          "data": {
            "text/plain": [
              "{('in0', 'out0'): Array(-0.24999999+0.433015j, dtype=complex64),\n",
              " ('in0', 'out1'): Array(-0.433015+0.74999994j, dtype=complex64),\n",
              " ('in1', 'out0'): Array(-0.433015+0.74999994j, dtype=complex64),\n",
              " ('in1', 'out1'): Array(0.24999999-0.433015j, dtype=complex64),\n",
              " ('out0', 'in0'): Array(-0.24999999+0.433015j, dtype=complex64),\n",
              " ('out0', 'in1'): Array(-0.433015+0.74999994j, dtype=complex64),\n",
              " ('out1', 'in0'): Array(-0.433015+0.74999994j, dtype=complex64),\n",
              " ('out1', 'in1'): Array(0.24999999-0.433015j, dtype=complex64),\n",
              " ('in0', 'in0'): Array(0.+0.j, dtype=complex64),\n",
              " ('in0', 'in1'): Array(0.+0.j, dtype=complex64),\n",
              " ('in1', 'in0'): Array(0.+0.j, dtype=complex64),\n",
              " ('in1', 'in1'): Array(0.+0.j, dtype=complex64),\n",
              " ('out0', 'out0'): Array(0.+0.j, dtype=complex64),\n",
              " ('out0', 'out1'): Array(0.+0.j, dtype=complex64),\n",
              " ('out1', 'out0'): Array(0.+0.j, dtype=complex64),\n",
              " ('out1', 'out1'): Array(0.+0.j, dtype=complex64)}"
            ]
          },
          "execution_count": 22,
          "metadata": {},
          "output_type": "execute_result"
        }
      ],
      "source": [
        "circuit_sdict: SDict = {\n",
        "    (reversed_ports[i], reversed_ports[j]): v\n",
        "    for (i, j), v in block_diag.items()\n",
        "    if i in reversed_ports and j in reversed_ports\n",
        "}\n",
        "circuit_sdict"
      ]
    },
    {
      "cell_type": "markdown",
      "id": "7dc6505e",
      "metadata": {
        "papermill": {
          "duration": 0.006824,
          "end_time": "2023-06-01T21:10:38.131462",
          "exception": false,
          "start_time": "2023-06-01T21:10:38.124638",
          "status": "completed"
        },
        "tags": []
      },
      "source": [
        "And that's it. We evaluated the `SDict` of the full circuit."
      ]
    },
    {
      "cell_type": "markdown",
      "id": "170db10b",
      "metadata": {
        "papermill": {
          "duration": 0.006708,
          "end_time": "2023-06-01T21:10:38.144891",
          "exception": false,
          "start_time": "2023-06-01T21:10:38.138183",
          "status": "completed"
        },
        "tags": []
      },
      "source": [
        "## Algorithm Improvements"
      ]
    },
    {
      "cell_type": "markdown",
      "id": "4ed0e69a",
      "metadata": {
        "papermill": {
          "duration": 0.006682,
          "end_time": "2023-06-01T21:10:38.158371",
          "exception": false,
          "start_time": "2023-06-01T21:10:38.151689",
          "status": "completed"
        },
        "tags": []
      },
      "source": [
        "This algorithm is \n",
        "\n",
        "* pretty fast for small circuits \ud83d\ude42\n",
        "* jittable \ud83d\ude42\n",
        "* differentiable \ud83d\ude42\n",
        "* GPU-compatible \ud83d\ude42\n",
        "\n",
        "This algorithm is however:\n",
        "\n",
        "* **really slow** for large circuits \ud83d\ude25\n",
        "* **pretty slow** to jit the resulting circuit function \ud83d\ude25\n",
        "* **pretty slow** to differentiate the resulting circuit function \ud83d\ude25\n",
        "\n",
        "There are probably still plenty of improvements possible for this algorithm:\n",
        "\n",
        "* **\u00bf** Network analysis (ft. NetworkX ?) to obtain which ports of the block diagonal representation are relevant to obtain the output connection **?**\n",
        "* **\u00bf** Smarter ordering of connections to always have the minimum amount of ports in the intermediate block-diagonal representation **?**\n",
        "* **\u00bf** Using `jax.lax.scan` in stead of python native for-loops in `_interconnect_ports` **?**\n",
        "* **\u00bf** ... **?**\n",
        "\n",
        "Bottom line is... Do you know how to improve this algorithm or how to implement the above suggestions? Please open a Merge Request!"
      ]
    }
  ],
  "metadata": {
    "kernelspec": {
      "display_name": "sax",
      "language": "python",
      "name": "sax"
    },
    "language_info": {
      "codemirror_mode": {
        "name": "ipython",
        "version": 3
      },
      "file_extension": ".py",
      "mimetype": "text/x-python",
      "name": "python",
      "nbconvert_exporter": "python",
      "pygments_lexer": "ipython3",
      "version": "3.11.3"
    },
    "papermill": {
      "default_parameters": {},
      "duration": 6.080592,
      "end_time": "2023-06-01T21:10:38.693090",
      "environment_variables": {},
      "exception": null,
      "input_path": "./nbs/08a_backends_default.ipynb",
      "output_path": "./nbs/08a_backends_default.ipynb",
      "parameters": {},
      "start_time": "2023-06-01T21:10:32.612498",
      "version": "2.3.4"
    }
  },
  "nbformat": 4,
  "nbformat_minor": 5
}