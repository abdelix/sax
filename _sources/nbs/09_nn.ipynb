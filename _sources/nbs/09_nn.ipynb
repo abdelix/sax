{
  "cells": [
    {
      "cell_type": "code",
      "execution_count": 1,
      "id": "0fc61d4be14f8457",
      "metadata": {
        "execution": {
          "iopub.execute_input": "2023-06-01T21:33:17.819994Z",
          "iopub.status.busy": "2023-06-01T21:33:17.819541Z",
          "iopub.status.idle": "2023-06-01T21:33:17.822697Z",
          "shell.execute_reply": "2023-06-01T21:33:17.822217Z"
        },
        "papermill": {
          "duration": 0.00904,
          "end_time": "2023-06-01T21:33:17.824775",
          "exception": false,
          "start_time": "2023-06-01T21:33:17.815735",
          "status": "completed"
        },
        "tags": [
          "remove-cell"
        ]
      },
      "outputs": [],
      "source": []
    },
    {
      "cell_type": "markdown",
      "id": "36903b9f",
      "metadata": {
        "papermill": {
          "duration": 0.001899,
          "end_time": "2023-06-01T21:33:17.830016",
          "exception": false,
          "start_time": "2023-06-01T21:33:17.828117",
          "status": "completed"
        },
        "tags": []
      },
      "source": [
        "# Neural Networks\n",
        "\n",
        "> Utilitites for creating advanced neural network SAX Models"
      ]
    },
    {
      "cell_type": "code",
      "execution_count": 2,
      "id": "2731f6fedd39a052",
      "metadata": {
        "execution": {
          "iopub.execute_input": "2023-06-01T21:33:17.834526Z",
          "iopub.status.busy": "2023-06-01T21:33:17.834339Z",
          "iopub.status.idle": "2023-06-01T21:33:17.839008Z",
          "shell.execute_reply": "2023-06-01T21:33:17.838563Z"
        },
        "papermill": {
          "duration": 0.008898,
          "end_time": "2023-06-01T21:33:17.840732",
          "exception": false,
          "start_time": "2023-06-01T21:33:17.831834",
          "status": "completed"
        },
        "tags": [
          "hide-input"
        ]
      },
      "outputs": [],
      "source": [
        "from __future__ import annotations"
      ]
    },
    {
      "cell_type": "code",
      "execution_count": 3,
      "id": "d3b0bd8bdf69aa52",
      "metadata": {
        "execution": {
          "iopub.execute_input": "2023-06-01T21:33:17.845146Z",
          "iopub.status.busy": "2023-06-01T21:33:17.844965Z",
          "iopub.status.idle": "2023-06-01T21:33:17.847430Z",
          "shell.execute_reply": "2023-06-01T21:33:17.847089Z"
        },
        "papermill": {
          "duration": 0.006615,
          "end_time": "2023-06-01T21:33:17.849146",
          "exception": false,
          "start_time": "2023-06-01T21:33:17.842531",
          "status": "completed"
        },
        "tags": [
          "remove-cell"
        ]
      },
      "outputs": [],
      "source": [
        "import os, sys; sys.stderr = open(os.devnull, \"w\")"
      ]
    },
    {
      "cell_type": "markdown",
      "id": "24790eed-f741-4d07-91c9-a731ebcfc3f0",
      "metadata": {
        "papermill": {
          "duration": 0.00176,
          "end_time": "2023-06-01T21:33:17.852757",
          "exception": false,
          "start_time": "2023-06-01T21:33:17.850997",
          "status": "completed"
        },
        "tags": []
      },
      "source": [
        "## Check"
      ]
    },
    {
      "cell_type": "code",
      "execution_count": 4,
      "id": "71ee14ba-949f-4025-8813-5a6bf01b8464",
      "metadata": {
        "execution": {
          "iopub.execute_input": "2023-06-01T21:33:17.857150Z",
          "iopub.status.busy": "2023-06-01T21:33:17.856979Z",
          "iopub.status.idle": "2023-06-01T21:33:18.307230Z",
          "shell.execute_reply": "2023-06-01T21:33:18.306770Z"
        },
        "papermill": {
          "duration": 0.454552,
          "end_time": "2023-06-01T21:33:18.309138",
          "exception": false,
          "start_time": "2023-06-01T21:33:17.854586",
          "status": "completed"
        },
        "tags": []
      },
      "outputs": [],
      "source": [
        "try:\n",
        "    import jax\n",
        "except ImportError:\n",
        "    raise ImportError(\"[NO JAX] Cannot import sax.nn. Please install JAX first!\")"
      ]
    },
    {
      "cell_type": "markdown",
      "id": "75fbba73",
      "metadata": {
        "papermill": {
          "duration": 0.00189,
          "end_time": "2023-06-01T21:33:18.313241",
          "exception": false,
          "start_time": "2023-06-01T21:33:18.311351",
          "status": "completed"
        },
        "tags": []
      },
      "source": [
        "## Loss"
      ]
    },
    {
      "cell_type": "code",
      "execution_count": 5,
      "id": "1a0fbb8f557b1cee",
      "metadata": {
        "execution": {
          "iopub.execute_input": "2023-06-01T21:33:18.318524Z",
          "iopub.status.busy": "2023-06-01T21:33:18.317952Z",
          "iopub.status.idle": "2023-06-01T21:33:19.032209Z",
          "shell.execute_reply": "2023-06-01T21:33:19.031782Z"
        },
        "papermill": {
          "duration": 0.718425,
          "end_time": "2023-06-01T21:33:19.033631",
          "exception": false,
          "start_time": "2023-06-01T21:33:18.315206",
          "status": "completed"
        },
        "tags": []
      },
      "outputs": [],
      "source": [
        "\n",
        "from sax.nn.loss import huber_loss as huber_loss\n",
        "from sax.nn.loss import l2_reg as l2_reg\n",
        "from sax.nn.loss import mse as mse"
      ]
    },
    {
      "cell_type": "markdown",
      "id": "1a18faa2",
      "metadata": {
        "papermill": {
          "duration": 0.001924,
          "end_time": "2023-06-01T21:33:19.037757",
          "exception": false,
          "start_time": "2023-06-01T21:33:19.035833",
          "status": "completed"
        },
        "tags": []
      },
      "source": [
        "## Utils"
      ]
    },
    {
      "cell_type": "code",
      "execution_count": 6,
      "id": "797058b7c011d27c",
      "metadata": {
        "execution": {
          "iopub.execute_input": "2023-06-01T21:33:19.042694Z",
          "iopub.status.busy": "2023-06-01T21:33:19.042394Z",
          "iopub.status.idle": "2023-06-01T21:33:19.045341Z",
          "shell.execute_reply": "2023-06-01T21:33:19.044881Z"
        },
        "papermill": {
          "duration": 0.007396,
          "end_time": "2023-06-01T21:33:19.047038",
          "exception": false,
          "start_time": "2023-06-01T21:33:19.039642",
          "status": "completed"
        },
        "tags": []
      },
      "outputs": [],
      "source": [
        "\n",
        "from sax.nn.utils import (\n",
        "    cartesian_product as cartesian_product,\n",
        "    denormalize as denormalize,\n",
        "    get_normalization as get_normalization,\n",
        "    get_df_columns as get_df_columns,\n",
        "    normalize as normalize,\n",
        ")"
      ]
    },
    {
      "cell_type": "markdown",
      "id": "ef010b3c",
      "metadata": {
        "papermill": {
          "duration": 0.001861,
          "end_time": "2023-06-01T21:33:19.050816",
          "exception": false,
          "start_time": "2023-06-01T21:33:19.048955",
          "status": "completed"
        },
        "tags": []
      },
      "source": [
        "## Core"
      ]
    },
    {
      "cell_type": "code",
      "execution_count": 7,
      "id": "0dd7ca1b2b0ad52f",
      "metadata": {
        "execution": {
          "iopub.execute_input": "2023-06-01T21:33:19.055572Z",
          "iopub.status.busy": "2023-06-01T21:33:19.055380Z",
          "iopub.status.idle": "2023-06-01T21:33:19.057870Z",
          "shell.execute_reply": "2023-06-01T21:33:19.057495Z"
        },
        "papermill": {
          "duration": 0.006863,
          "end_time": "2023-06-01T21:33:19.059588",
          "exception": false,
          "start_time": "2023-06-01T21:33:19.052725",
          "status": "completed"
        },
        "tags": []
      },
      "outputs": [],
      "source": [
        "\n",
        "from sax.nn.core import (\n",
        "    preprocess as preprocess,\n",
        "    dense as dense,\n",
        "    generate_dense_weights as generate_dense_weights,\n",
        ")"
      ]
    },
    {
      "cell_type": "markdown",
      "id": "5e96c647",
      "metadata": {
        "papermill": {
          "duration": 0.001877,
          "end_time": "2023-06-01T21:33:19.063355",
          "exception": false,
          "start_time": "2023-06-01T21:33:19.061478",
          "status": "completed"
        },
        "tags": []
      },
      "source": [
        "## IO"
      ]
    },
    {
      "cell_type": "code",
      "execution_count": 8,
      "id": "9d2d0a1cdc4ba354",
      "metadata": {
        "execution": {
          "iopub.execute_input": "2023-06-01T21:33:19.068066Z",
          "iopub.status.busy": "2023-06-01T21:33:19.067870Z",
          "iopub.status.idle": "2023-06-01T21:33:19.070555Z",
          "shell.execute_reply": "2023-06-01T21:33:19.070193Z"
        },
        "papermill": {
          "duration": 0.006954,
          "end_time": "2023-06-01T21:33:19.072247",
          "exception": false,
          "start_time": "2023-06-01T21:33:19.065293",
          "status": "completed"
        },
        "tags": []
      },
      "outputs": [],
      "source": [
        "\n",
        "from sax.nn.io import (\n",
        "    load_nn_weights_json as load_nn_weights_json,\n",
        "    save_nn_weights_json as save_nn_weights_json,\n",
        "    get_available_sizes as get_available_sizes,\n",
        "    get_dense_weights_path as get_dense_weights_path,\n",
        "    get_norm_path as get_norm_path,\n",
        "    load_nn_dense as load_nn_dense,\n",
        ")"
      ]
    }
  ],
  "metadata": {
    "kernelspec": {
      "display_name": "sax",
      "language": "python",
      "name": "sax"
    },
    "language_info": {
      "codemirror_mode": {
        "name": "ipython",
        "version": 3
      },
      "file_extension": ".py",
      "mimetype": "text/x-python",
      "name": "python",
      "nbconvert_exporter": "python",
      "pygments_lexer": "ipython3",
      "version": "3.11.3"
    },
    "papermill": {
      "default_parameters": {},
      "duration": 2.961027,
      "end_time": "2023-06-01T21:33:19.500156",
      "environment_variables": {},
      "exception": null,
      "input_path": "./nbs/09_nn.ipynb",
      "output_path": "./nbs/09_nn.ipynb",
      "parameters": {},
      "start_time": "2023-06-01T21:33:16.539129",
      "version": "2.3.4"
    }
  },
  "nbformat": 4,
  "nbformat_minor": 5
}