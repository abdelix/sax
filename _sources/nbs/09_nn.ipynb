{
  "cells": [
    {
      "cell_type": "code",
      "execution_count": 1,
      "id": "034d22e8d0bed24d",
      "metadata": {
        "execution": {
          "iopub.execute_input": "2023-09-02T18:52:32.550099Z",
          "iopub.status.busy": "2023-09-02T18:52:32.548938Z",
          "iopub.status.idle": "2023-09-02T18:52:32.553320Z",
          "shell.execute_reply": "2023-09-02T18:52:32.552862Z"
        },
        "papermill": {
          "duration": 0.009848,
          "end_time": "2023-09-02T18:52:32.554753",
          "exception": false,
          "start_time": "2023-09-02T18:52:32.544905",
          "status": "completed"
        },
        "tags": [
          "remove-cell"
        ]
      },
      "outputs": [],
      "source": []
    },
    {
      "cell_type": "markdown",
      "id": "36903b9f",
      "metadata": {
        "papermill": {
          "duration": 0.002243,
          "end_time": "2023-09-02T18:52:32.559213",
          "exception": false,
          "start_time": "2023-09-02T18:52:32.556970",
          "status": "completed"
        },
        "tags": []
      },
      "source": [
        "# Neural Networks\n",
        "\n",
        "> Utilitites for creating advanced neural network SAX Models"
      ]
    },
    {
      "cell_type": "code",
      "execution_count": 2,
      "id": "a3a43928671a2076",
      "metadata": {
        "execution": {
          "iopub.execute_input": "2023-09-02T18:52:32.566271Z",
          "iopub.status.busy": "2023-09-02T18:52:32.566040Z",
          "iopub.status.idle": "2023-09-02T18:52:32.572194Z",
          "shell.execute_reply": "2023-09-02T18:52:32.571735Z"
        },
        "papermill": {
          "duration": 0.013021,
          "end_time": "2023-09-02T18:52:32.574122",
          "exception": false,
          "start_time": "2023-09-02T18:52:32.561101",
          "status": "completed"
        },
        "tags": [
          "hide-input"
        ]
      },
      "outputs": [],
      "source": [
        "from __future__ import annotations"
      ]
    },
    {
      "cell_type": "code",
      "execution_count": 3,
      "id": "1d398023eac1757a",
      "metadata": {
        "execution": {
          "iopub.execute_input": "2023-09-02T18:52:32.581613Z",
          "iopub.status.busy": "2023-09-02T18:52:32.581067Z",
          "iopub.status.idle": "2023-09-02T18:52:32.583853Z",
          "shell.execute_reply": "2023-09-02T18:52:32.583496Z"
        },
        "papermill": {
          "duration": 0.008538,
          "end_time": "2023-09-02T18:52:32.585555",
          "exception": false,
          "start_time": "2023-09-02T18:52:32.577017",
          "status": "completed"
        },
        "tags": [
          "remove-cell"
        ]
      },
      "outputs": [],
      "source": [
        "import os, sys; sys.stderr = open(os.devnull, \"w\")"
      ]
    },
    {
      "cell_type": "markdown",
      "id": "24790eed-f741-4d07-91c9-a731ebcfc3f0",
      "metadata": {
        "papermill": {
          "duration": 0.001862,
          "end_time": "2023-09-02T18:52:32.589337",
          "exception": false,
          "start_time": "2023-09-02T18:52:32.587475",
          "status": "completed"
        },
        "tags": []
      },
      "source": [
        "## Check"
      ]
    },
    {
      "cell_type": "code",
      "execution_count": 4,
      "id": "71ee14ba-949f-4025-8813-5a6bf01b8464",
      "metadata": {
        "execution": {
          "iopub.execute_input": "2023-09-02T18:52:32.594024Z",
          "iopub.status.busy": "2023-09-02T18:52:32.593842Z",
          "iopub.status.idle": "2023-09-02T18:52:33.023241Z",
          "shell.execute_reply": "2023-09-02T18:52:33.022768Z"
        },
        "papermill": {
          "duration": 0.433604,
          "end_time": "2023-09-02T18:52:33.024879",
          "exception": false,
          "start_time": "2023-09-02T18:52:32.591275",
          "status": "completed"
        },
        "tags": []
      },
      "outputs": [],
      "source": [
        "try:\n",
        "    import jax\n",
        "except ImportError:\n",
        "    raise ImportError(\"[NO JAX] Cannot import sax.nn. Please install JAX first!\")"
      ]
    },
    {
      "cell_type": "markdown",
      "id": "75fbba73",
      "metadata": {
        "papermill": {
          "duration": 0.002187,
          "end_time": "2023-09-02T18:52:33.030361",
          "exception": false,
          "start_time": "2023-09-02T18:52:33.028174",
          "status": "completed"
        },
        "tags": []
      },
      "source": [
        "## Loss"
      ]
    },
    {
      "cell_type": "code",
      "execution_count": 5,
      "id": "1b0741d6739e8add",
      "metadata": {
        "execution": {
          "iopub.execute_input": "2023-09-02T18:52:33.035898Z",
          "iopub.status.busy": "2023-09-02T18:52:33.035416Z",
          "iopub.status.idle": "2023-09-02T18:52:33.829689Z",
          "shell.execute_reply": "2023-09-02T18:52:33.829195Z"
        },
        "papermill": {
          "duration": 0.799187,
          "end_time": "2023-09-02T18:52:33.831661",
          "exception": false,
          "start_time": "2023-09-02T18:52:33.032474",
          "status": "completed"
        },
        "tags": []
      },
      "outputs": [],
      "source": [
        "\n",
        "from sax.nn.loss import huber_loss as huber_loss\n",
        "from sax.nn.loss import l2_reg as l2_reg\n",
        "from sax.nn.loss import mse as mse"
      ]
    },
    {
      "cell_type": "markdown",
      "id": "1a18faa2",
      "metadata": {
        "papermill": {
          "duration": 0.002047,
          "end_time": "2023-09-02T18:52:33.836018",
          "exception": false,
          "start_time": "2023-09-02T18:52:33.833971",
          "status": "completed"
        },
        "tags": []
      },
      "source": [
        "## Utils"
      ]
    },
    {
      "cell_type": "code",
      "execution_count": 6,
      "id": "e440876776a502b5",
      "metadata": {
        "execution": {
          "iopub.execute_input": "2023-09-02T18:52:33.842559Z",
          "iopub.status.busy": "2023-09-02T18:52:33.842035Z",
          "iopub.status.idle": "2023-09-02T18:52:33.845085Z",
          "shell.execute_reply": "2023-09-02T18:52:33.844633Z"
        },
        "papermill": {
          "duration": 0.007352,
          "end_time": "2023-09-02T18:52:33.846484",
          "exception": false,
          "start_time": "2023-09-02T18:52:33.839132",
          "status": "completed"
        },
        "tags": []
      },
      "outputs": [],
      "source": [
        "\n",
        "from sax.nn.utils import (\n",
        "    cartesian_product as cartesian_product,\n",
        "    denormalize as denormalize,\n",
        "    get_normalization as get_normalization,\n",
        "    get_df_columns as get_df_columns,\n",
        "    normalize as normalize,\n",
        ")"
      ]
    },
    {
      "cell_type": "markdown",
      "id": "ef010b3c",
      "metadata": {
        "papermill": {
          "duration": 0.001992,
          "end_time": "2023-09-02T18:52:33.850471",
          "exception": false,
          "start_time": "2023-09-02T18:52:33.848479",
          "status": "completed"
        },
        "tags": []
      },
      "source": [
        "## Core"
      ]
    },
    {
      "cell_type": "code",
      "execution_count": 7,
      "id": "a908b98387db1822",
      "metadata": {
        "execution": {
          "iopub.execute_input": "2023-09-02T18:52:33.855669Z",
          "iopub.status.busy": "2023-09-02T18:52:33.855184Z",
          "iopub.status.idle": "2023-09-02T18:52:33.857914Z",
          "shell.execute_reply": "2023-09-02T18:52:33.857478Z"
        },
        "papermill": {
          "duration": 0.006676,
          "end_time": "2023-09-02T18:52:33.859139",
          "exception": false,
          "start_time": "2023-09-02T18:52:33.852463",
          "status": "completed"
        },
        "tags": []
      },
      "outputs": [],
      "source": [
        "\n",
        "from sax.nn.core import (\n",
        "    preprocess as preprocess,\n",
        "    dense as dense,\n",
        "    generate_dense_weights as generate_dense_weights,\n",
        ")"
      ]
    },
    {
      "cell_type": "markdown",
      "id": "5e96c647",
      "metadata": {
        "papermill": {
          "duration": 0.002123,
          "end_time": "2023-09-02T18:52:33.896552",
          "exception": false,
          "start_time": "2023-09-02T18:52:33.894429",
          "status": "completed"
        },
        "tags": []
      },
      "source": [
        "## IO"
      ]
    },
    {
      "cell_type": "code",
      "execution_count": 8,
      "id": "42571b8b8e7ea9bb",
      "metadata": {
        "execution": {
          "iopub.execute_input": "2023-09-02T18:52:33.902396Z",
          "iopub.status.busy": "2023-09-02T18:52:33.901768Z",
          "iopub.status.idle": "2023-09-02T18:52:33.905178Z",
          "shell.execute_reply": "2023-09-02T18:52:33.904762Z"
        },
        "papermill": {
          "duration": 0.007682,
          "end_time": "2023-09-02T18:52:33.906311",
          "exception": false,
          "start_time": "2023-09-02T18:52:33.898629",
          "status": "completed"
        },
        "tags": []
      },
      "outputs": [],
      "source": [
        "\n",
        "from sax.nn.io import (\n",
        "    load_nn_weights_json as load_nn_weights_json,\n",
        "    save_nn_weights_json as save_nn_weights_json,\n",
        "    get_available_sizes as get_available_sizes,\n",
        "    get_dense_weights_path as get_dense_weights_path,\n",
        "    get_norm_path as get_norm_path,\n",
        "    load_nn_dense as load_nn_dense,\n",
        ")"
      ]
    }
  ],
  "metadata": {
    "kernelspec": {
      "display_name": "sax",
      "language": "python",
      "name": "sax"
    },
    "language_info": {
      "codemirror_mode": {
        "name": "ipython",
        "version": 3
      },
      "file_extension": ".py",
      "mimetype": "text/x-python",
      "name": "python",
      "nbconvert_exporter": "python",
      "pygments_lexer": "ipython3",
      "version": "3.11.5"
    },
    "papermill": {
      "default_parameters": {},
      "duration": 3.205966,
      "end_time": "2023-09-02T18:52:34.425962",
      "environment_variables": {},
      "exception": null,
      "input_path": "./nbs/09_nn.ipynb",
      "output_path": "./nbs/09_nn.ipynb",
      "parameters": {},
      "start_time": "2023-09-02T18:52:31.219996",
      "version": "2.4.0"
    }
  },
  "nbformat": 4,
  "nbformat_minor": 5
}