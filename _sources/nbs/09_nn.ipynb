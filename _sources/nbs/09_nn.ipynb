{
  "cells": [
    {
      "cell_type": "code",
      "execution_count": 1,
      "id": "c577e9dd07061fb8",
      "metadata": {
        "execution": {
          "iopub.execute_input": "2023-09-02T19:00:21.927971Z",
          "iopub.status.busy": "2023-09-02T19:00:21.927395Z",
          "iopub.status.idle": "2023-09-02T19:00:21.930705Z",
          "shell.execute_reply": "2023-09-02T19:00:21.930152Z"
        },
        "papermill": {
          "duration": 0.008293,
          "end_time": "2023-09-02T19:00:21.931889",
          "exception": false,
          "start_time": "2023-09-02T19:00:21.923596",
          "status": "completed"
        },
        "tags": [
          "remove-cell"
        ]
      },
      "outputs": [],
      "source": []
    },
    {
      "cell_type": "markdown",
      "id": "36903b9f",
      "metadata": {
        "papermill": {
          "duration": 0.001803,
          "end_time": "2023-09-02T19:00:21.935854",
          "exception": false,
          "start_time": "2023-09-02T19:00:21.934051",
          "status": "completed"
        },
        "tags": []
      },
      "source": [
        "# Neural Networks\n",
        "\n",
        "> Utilitites for creating advanced neural network SAX Models"
      ]
    },
    {
      "cell_type": "code",
      "execution_count": 2,
      "id": "367ebf7bc28e9762",
      "metadata": {
        "execution": {
          "iopub.execute_input": "2023-09-02T19:00:21.940710Z",
          "iopub.status.busy": "2023-09-02T19:00:21.940254Z",
          "iopub.status.idle": "2023-09-02T19:00:21.945262Z",
          "shell.execute_reply": "2023-09-02T19:00:21.944758Z"
        },
        "papermill": {
          "duration": 0.008671,
          "end_time": "2023-09-02T19:00:21.946409",
          "exception": false,
          "start_time": "2023-09-02T19:00:21.937738",
          "status": "completed"
        },
        "tags": [
          "hide-input"
        ]
      },
      "outputs": [],
      "source": [
        "from __future__ import annotations"
      ]
    },
    {
      "cell_type": "code",
      "execution_count": 3,
      "id": "9f5f7413c75f387c",
      "metadata": {
        "execution": {
          "iopub.execute_input": "2023-09-02T19:00:21.951324Z",
          "iopub.status.busy": "2023-09-02T19:00:21.950862Z",
          "iopub.status.idle": "2023-09-02T19:00:21.953509Z",
          "shell.execute_reply": "2023-09-02T19:00:21.953141Z"
        },
        "papermill": {
          "duration": 0.00626,
          "end_time": "2023-09-02T19:00:21.954636",
          "exception": false,
          "start_time": "2023-09-02T19:00:21.948376",
          "status": "completed"
        },
        "tags": [
          "remove-cell"
        ]
      },
      "outputs": [],
      "source": [
        "import os, sys; sys.stderr = open(os.devnull, \"w\")"
      ]
    },
    {
      "cell_type": "markdown",
      "id": "24790eed-f741-4d07-91c9-a731ebcfc3f0",
      "metadata": {
        "papermill": {
          "duration": 0.001868,
          "end_time": "2023-09-02T19:00:21.958409",
          "exception": false,
          "start_time": "2023-09-02T19:00:21.956541",
          "status": "completed"
        },
        "tags": []
      },
      "source": [
        "## Check"
      ]
    },
    {
      "cell_type": "code",
      "execution_count": 4,
      "id": "71ee14ba-949f-4025-8813-5a6bf01b8464",
      "metadata": {
        "execution": {
          "iopub.execute_input": "2023-09-02T19:00:21.963365Z",
          "iopub.status.busy": "2023-09-02T19:00:21.963023Z",
          "iopub.status.idle": "2023-09-02T19:00:22.366406Z",
          "shell.execute_reply": "2023-09-02T19:00:22.365977Z"
        },
        "papermill": {
          "duration": 0.407487,
          "end_time": "2023-09-02T19:00:22.367972",
          "exception": false,
          "start_time": "2023-09-02T19:00:21.960485",
          "status": "completed"
        },
        "tags": []
      },
      "outputs": [],
      "source": [
        "try:\n",
        "    import jax\n",
        "except ImportError:\n",
        "    raise ImportError(\"[NO JAX] Cannot import sax.nn. Please install JAX first!\")"
      ]
    },
    {
      "cell_type": "markdown",
      "id": "75fbba73",
      "metadata": {
        "papermill": {
          "duration": 0.002228,
          "end_time": "2023-09-02T19:00:22.372528",
          "exception": false,
          "start_time": "2023-09-02T19:00:22.370300",
          "status": "completed"
        },
        "tags": []
      },
      "source": [
        "## Loss"
      ]
    },
    {
      "cell_type": "code",
      "execution_count": 5,
      "id": "81561150ba9ebec4",
      "metadata": {
        "execution": {
          "iopub.execute_input": "2023-09-02T19:00:22.377436Z",
          "iopub.status.busy": "2023-09-02T19:00:22.377176Z",
          "iopub.status.idle": "2023-09-02T19:00:23.111044Z",
          "shell.execute_reply": "2023-09-02T19:00:23.110604Z"
        },
        "papermill": {
          "duration": 0.738346,
          "end_time": "2023-09-02T19:00:23.112814",
          "exception": false,
          "start_time": "2023-09-02T19:00:22.374468",
          "status": "completed"
        },
        "tags": []
      },
      "outputs": [],
      "source": [
        "\n",
        "from sax.nn.loss import huber_loss as huber_loss\n",
        "from sax.nn.loss import l2_reg as l2_reg\n",
        "from sax.nn.loss import mse as mse"
      ]
    },
    {
      "cell_type": "markdown",
      "id": "1a18faa2",
      "metadata": {
        "papermill": {
          "duration": 0.001968,
          "end_time": "2023-09-02T19:00:23.117059",
          "exception": false,
          "start_time": "2023-09-02T19:00:23.115091",
          "status": "completed"
        },
        "tags": []
      },
      "source": [
        "## Utils"
      ]
    },
    {
      "cell_type": "code",
      "execution_count": 6,
      "id": "81579f536889cb1b",
      "metadata": {
        "execution": {
          "iopub.execute_input": "2023-09-02T19:00:23.123224Z",
          "iopub.status.busy": "2023-09-02T19:00:23.122714Z",
          "iopub.status.idle": "2023-09-02T19:00:23.125627Z",
          "shell.execute_reply": "2023-09-02T19:00:23.125220Z"
        },
        "papermill": {
          "duration": 0.006955,
          "end_time": "2023-09-02T19:00:23.126864",
          "exception": false,
          "start_time": "2023-09-02T19:00:23.119909",
          "status": "completed"
        },
        "tags": []
      },
      "outputs": [],
      "source": [
        "\n",
        "from sax.nn.utils import (\n",
        "    cartesian_product as cartesian_product,\n",
        "    denormalize as denormalize,\n",
        "    get_normalization as get_normalization,\n",
        "    get_df_columns as get_df_columns,\n",
        "    normalize as normalize,\n",
        ")"
      ]
    },
    {
      "cell_type": "markdown",
      "id": "ef010b3c",
      "metadata": {
        "papermill": {
          "duration": 0.001918,
          "end_time": "2023-09-02T19:00:23.130781",
          "exception": false,
          "start_time": "2023-09-02T19:00:23.128863",
          "status": "completed"
        },
        "tags": []
      },
      "source": [
        "## Core"
      ]
    },
    {
      "cell_type": "code",
      "execution_count": 7,
      "id": "86f7aa2ae842fa15",
      "metadata": {
        "execution": {
          "iopub.execute_input": "2023-09-02T19:00:23.135662Z",
          "iopub.status.busy": "2023-09-02T19:00:23.135288Z",
          "iopub.status.idle": "2023-09-02T19:00:23.137860Z",
          "shell.execute_reply": "2023-09-02T19:00:23.137451Z"
        },
        "papermill": {
          "duration": 0.006331,
          "end_time": "2023-09-02T19:00:23.139025",
          "exception": false,
          "start_time": "2023-09-02T19:00:23.132694",
          "status": "completed"
        },
        "tags": []
      },
      "outputs": [],
      "source": [
        "\n",
        "from sax.nn.core import (\n",
        "    preprocess as preprocess,\n",
        "    dense as dense,\n",
        "    generate_dense_weights as generate_dense_weights,\n",
        ")"
      ]
    },
    {
      "cell_type": "markdown",
      "id": "5e96c647",
      "metadata": {
        "papermill": {
          "duration": 0.002003,
          "end_time": "2023-09-02T19:00:23.165400",
          "exception": false,
          "start_time": "2023-09-02T19:00:23.163397",
          "status": "completed"
        },
        "tags": []
      },
      "source": [
        "## IO"
      ]
    },
    {
      "cell_type": "code",
      "execution_count": 8,
      "id": "99180dab98dfd320",
      "metadata": {
        "execution": {
          "iopub.execute_input": "2023-09-02T19:00:23.170760Z",
          "iopub.status.busy": "2023-09-02T19:00:23.170307Z",
          "iopub.status.idle": "2023-09-02T19:00:23.173273Z",
          "shell.execute_reply": "2023-09-02T19:00:23.172884Z"
        },
        "papermill": {
          "duration": 0.006964,
          "end_time": "2023-09-02T19:00:23.174417",
          "exception": false,
          "start_time": "2023-09-02T19:00:23.167453",
          "status": "completed"
        },
        "tags": []
      },
      "outputs": [],
      "source": [
        "\n",
        "from sax.nn.io import (\n",
        "    load_nn_weights_json as load_nn_weights_json,\n",
        "    save_nn_weights_json as save_nn_weights_json,\n",
        "    get_available_sizes as get_available_sizes,\n",
        "    get_dense_weights_path as get_dense_weights_path,\n",
        "    get_norm_path as get_norm_path,\n",
        "    load_nn_dense as load_nn_dense,\n",
        ")"
      ]
    }
  ],
  "metadata": {
    "kernelspec": {
      "display_name": "sax",
      "language": "python",
      "name": "sax"
    },
    "language_info": {
      "codemirror_mode": {
        "name": "ipython",
        "version": 3
      },
      "file_extension": ".py",
      "mimetype": "text/x-python",
      "name": "python",
      "nbconvert_exporter": "python",
      "pygments_lexer": "ipython3",
      "version": "3.11.5"
    },
    "papermill": {
      "default_parameters": {},
      "duration": 2.883459,
      "end_time": "2023-09-02T19:00:23.491847",
      "environment_variables": {},
      "exception": null,
      "input_path": "./nbs/09_nn.ipynb",
      "output_path": "./nbs/09_nn.ipynb",
      "parameters": {},
      "start_time": "2023-09-02T19:00:20.608388",
      "version": "2.4.0"
    }
  },
  "nbformat": 4,
  "nbformat_minor": 5
}