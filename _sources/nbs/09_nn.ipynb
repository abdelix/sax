{
  "cells": [
    {
      "cell_type": "code",
      "execution_count": 1,
      "id": "bd27695968442ea6",
      "metadata": {
        "execution": {
          "iopub.execute_input": "2023-09-01T15:54:54.925848Z",
          "iopub.status.busy": "2023-09-01T15:54:54.925092Z",
          "iopub.status.idle": "2023-09-01T15:54:54.929053Z",
          "shell.execute_reply": "2023-09-01T15:54:54.928347Z"
        },
        "papermill": {
          "duration": 0.012345,
          "end_time": "2023-09-01T15:54:54.930648",
          "exception": false,
          "start_time": "2023-09-01T15:54:54.918303",
          "status": "completed"
        },
        "tags": [
          "remove-cell"
        ]
      },
      "outputs": [],
      "source": []
    },
    {
      "cell_type": "markdown",
      "id": "36903b9f",
      "metadata": {
        "papermill": {
          "duration": 0.002381,
          "end_time": "2023-09-01T15:54:54.935771",
          "exception": false,
          "start_time": "2023-09-01T15:54:54.933390",
          "status": "completed"
        },
        "tags": []
      },
      "source": [
        "# Neural Networks\n",
        "\n",
        "> Utilitites for creating advanced neural network SAX Models"
      ]
    },
    {
      "cell_type": "code",
      "execution_count": 2,
      "id": "ca37e6fb8a28719a",
      "metadata": {
        "execution": {
          "iopub.execute_input": "2023-09-01T15:54:54.942557Z",
          "iopub.status.busy": "2023-09-01T15:54:54.941718Z",
          "iopub.status.idle": "2023-09-01T15:54:54.948464Z",
          "shell.execute_reply": "2023-09-01T15:54:54.947623Z"
        },
        "papermill": {
          "duration": 0.011883,
          "end_time": "2023-09-01T15:54:54.949950",
          "exception": false,
          "start_time": "2023-09-01T15:54:54.938067",
          "status": "completed"
        },
        "tags": [
          "hide-input"
        ]
      },
      "outputs": [],
      "source": [
        "from __future__ import annotations"
      ]
    },
    {
      "cell_type": "code",
      "execution_count": 3,
      "id": "6431430d61f67720",
      "metadata": {
        "execution": {
          "iopub.execute_input": "2023-09-01T15:54:54.956850Z",
          "iopub.status.busy": "2023-09-01T15:54:54.956331Z",
          "iopub.status.idle": "2023-09-01T15:54:54.959743Z",
          "shell.execute_reply": "2023-09-01T15:54:54.959259Z"
        },
        "papermill": {
          "duration": 0.008935,
          "end_time": "2023-09-01T15:54:54.961330",
          "exception": false,
          "start_time": "2023-09-01T15:54:54.952395",
          "status": "completed"
        },
        "tags": [
          "remove-cell"
        ]
      },
      "outputs": [],
      "source": [
        "import os, sys; sys.stderr = open(os.devnull, \"w\")"
      ]
    },
    {
      "cell_type": "markdown",
      "id": "24790eed-f741-4d07-91c9-a731ebcfc3f0",
      "metadata": {
        "papermill": {
          "duration": 0.002343,
          "end_time": "2023-09-01T15:54:54.966128",
          "exception": false,
          "start_time": "2023-09-01T15:54:54.963785",
          "status": "completed"
        },
        "tags": []
      },
      "source": [
        "## Check"
      ]
    },
    {
      "cell_type": "code",
      "execution_count": 4,
      "id": "71ee14ba-949f-4025-8813-5a6bf01b8464",
      "metadata": {
        "execution": {
          "iopub.execute_input": "2023-09-01T15:54:54.972655Z",
          "iopub.status.busy": "2023-09-01T15:54:54.971985Z",
          "iopub.status.idle": "2023-09-01T15:54:55.520566Z",
          "shell.execute_reply": "2023-09-01T15:54:55.519773Z"
        },
        "papermill": {
          "duration": 0.554841,
          "end_time": "2023-09-01T15:54:55.523324",
          "exception": false,
          "start_time": "2023-09-01T15:54:54.968483",
          "status": "completed"
        },
        "tags": []
      },
      "outputs": [],
      "source": [
        "try:\n",
        "    import jax\n",
        "except ImportError:\n",
        "    raise ImportError(\"[NO JAX] Cannot import sax.nn. Please install JAX first!\")"
      ]
    },
    {
      "cell_type": "markdown",
      "id": "75fbba73",
      "metadata": {
        "papermill": {
          "duration": 0.002884,
          "end_time": "2023-09-01T15:54:55.530718",
          "exception": false,
          "start_time": "2023-09-01T15:54:55.527834",
          "status": "completed"
        },
        "tags": []
      },
      "source": [
        "## Loss"
      ]
    },
    {
      "cell_type": "code",
      "execution_count": 5,
      "id": "d6089128e06030a1",
      "metadata": {
        "execution": {
          "iopub.execute_input": "2023-09-01T15:54:55.537277Z",
          "iopub.status.busy": "2023-09-01T15:54:55.536705Z",
          "iopub.status.idle": "2023-09-01T15:54:56.516456Z",
          "shell.execute_reply": "2023-09-01T15:54:56.515892Z"
        },
        "papermill": {
          "duration": 0.985444,
          "end_time": "2023-09-01T15:54:56.518708",
          "exception": false,
          "start_time": "2023-09-01T15:54:55.533264",
          "status": "completed"
        },
        "tags": []
      },
      "outputs": [],
      "source": [
        "\n",
        "from sax.nn.loss import huber_loss as huber_loss\n",
        "from sax.nn.loss import l2_reg as l2_reg\n",
        "from sax.nn.loss import mse as mse"
      ]
    },
    {
      "cell_type": "markdown",
      "id": "1a18faa2",
      "metadata": {
        "papermill": {
          "duration": 0.002855,
          "end_time": "2023-09-01T15:54:56.524877",
          "exception": false,
          "start_time": "2023-09-01T15:54:56.522022",
          "status": "completed"
        },
        "tags": []
      },
      "source": [
        "## Utils"
      ]
    },
    {
      "cell_type": "code",
      "execution_count": 6,
      "id": "2c2df996bc531d5a",
      "metadata": {
        "execution": {
          "iopub.execute_input": "2023-09-01T15:54:56.532907Z",
          "iopub.status.busy": "2023-09-01T15:54:56.532270Z",
          "iopub.status.idle": "2023-09-01T15:54:56.536324Z",
          "shell.execute_reply": "2023-09-01T15:54:56.535496Z"
        },
        "papermill": {
          "duration": 0.009817,
          "end_time": "2023-09-01T15:54:56.538360",
          "exception": false,
          "start_time": "2023-09-01T15:54:56.528543",
          "status": "completed"
        },
        "tags": []
      },
      "outputs": [],
      "source": [
        "\n",
        "from sax.nn.utils import (\n",
        "    cartesian_product as cartesian_product,\n",
        "    denormalize as denormalize,\n",
        "    get_normalization as get_normalization,\n",
        "    get_df_columns as get_df_columns,\n",
        "    normalize as normalize,\n",
        ")"
      ]
    },
    {
      "cell_type": "markdown",
      "id": "ef010b3c",
      "metadata": {
        "papermill": {
          "duration": 0.002394,
          "end_time": "2023-09-01T15:54:56.543201",
          "exception": false,
          "start_time": "2023-09-01T15:54:56.540807",
          "status": "completed"
        },
        "tags": []
      },
      "source": [
        "## Core"
      ]
    },
    {
      "cell_type": "code",
      "execution_count": 7,
      "id": "4d9ecfcbe12843b5",
      "metadata": {
        "execution": {
          "iopub.execute_input": "2023-09-01T15:54:56.549582Z",
          "iopub.status.busy": "2023-09-01T15:54:56.549162Z",
          "iopub.status.idle": "2023-09-01T15:54:56.552813Z",
          "shell.execute_reply": "2023-09-01T15:54:56.552270Z"
        },
        "papermill": {
          "duration": 0.008771,
          "end_time": "2023-09-01T15:54:56.554406",
          "exception": false,
          "start_time": "2023-09-01T15:54:56.545635",
          "status": "completed"
        },
        "tags": []
      },
      "outputs": [],
      "source": [
        "\n",
        "from sax.nn.core import (\n",
        "    preprocess as preprocess,\n",
        "    dense as dense,\n",
        "    generate_dense_weights as generate_dense_weights,\n",
        ")"
      ]
    },
    {
      "cell_type": "markdown",
      "id": "5e96c647",
      "metadata": {
        "papermill": {
          "duration": 0.003195,
          "end_time": "2023-09-01T15:54:56.597755",
          "exception": false,
          "start_time": "2023-09-01T15:54:56.594560",
          "status": "completed"
        },
        "tags": []
      },
      "source": [
        "## IO"
      ]
    },
    {
      "cell_type": "code",
      "execution_count": 8,
      "id": "0cf610a41d92bd5e",
      "metadata": {
        "execution": {
          "iopub.execute_input": "2023-09-01T15:54:56.605699Z",
          "iopub.status.busy": "2023-09-01T15:54:56.604192Z",
          "iopub.status.idle": "2023-09-01T15:54:56.608841Z",
          "shell.execute_reply": "2023-09-01T15:54:56.608273Z"
        },
        "papermill": {
          "duration": 0.010053,
          "end_time": "2023-09-01T15:54:56.610344",
          "exception": false,
          "start_time": "2023-09-01T15:54:56.600291",
          "status": "completed"
        },
        "tags": []
      },
      "outputs": [],
      "source": [
        "\n",
        "from sax.nn.io import (\n",
        "    load_nn_weights_json as load_nn_weights_json,\n",
        "    save_nn_weights_json as save_nn_weights_json,\n",
        "    get_available_sizes as get_available_sizes,\n",
        "    get_dense_weights_path as get_dense_weights_path,\n",
        "    get_norm_path as get_norm_path,\n",
        "    load_nn_dense as load_nn_dense,\n",
        ")"
      ]
    }
  ],
  "metadata": {
    "kernelspec": {
      "display_name": "sax",
      "language": "python",
      "name": "sax"
    },
    "language_info": {
      "codemirror_mode": {
        "name": "ipython",
        "version": 3
      },
      "file_extension": ".py",
      "mimetype": "text/x-python",
      "name": "python",
      "nbconvert_exporter": "python",
      "pygments_lexer": "ipython3",
      "version": "3.11.5"
    },
    "papermill": {
      "default_parameters": {},
      "duration": 3.633038,
      "end_time": "2023-09-01T15:54:57.232042",
      "environment_variables": {},
      "exception": null,
      "input_path": "./nbs/09_nn.ipynb",
      "output_path": "./nbs/09_nn.ipynb",
      "parameters": {},
      "start_time": "2023-09-01T15:54:53.599004",
      "version": "2.4.0"
    }
  },
  "nbformat": 4,
  "nbformat_minor": 5
}