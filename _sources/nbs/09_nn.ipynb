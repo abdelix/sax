{
  "cells": [
    {
      "cell_type": "code",
      "execution_count": 1,
      "id": "a86fd1a43aa1c174",
      "metadata": {
        "execution": {
          "iopub.execute_input": "2023-06-01T21:50:32.976374Z",
          "iopub.status.busy": "2023-06-01T21:50:32.976139Z",
          "iopub.status.idle": "2023-06-01T21:50:32.980096Z",
          "shell.execute_reply": "2023-06-01T21:50:32.979596Z"
        },
        "papermill": {
          "duration": 0.008667,
          "end_time": "2023-06-01T21:50:32.981499",
          "exception": false,
          "start_time": "2023-06-01T21:50:32.972832",
          "status": "completed"
        },
        "tags": [
          "remove-cell"
        ]
      },
      "outputs": [],
      "source": []
    },
    {
      "cell_type": "markdown",
      "id": "36903b9f",
      "metadata": {
        "papermill": {
          "duration": 0.002901,
          "end_time": "2023-06-01T21:50:32.986547",
          "exception": false,
          "start_time": "2023-06-01T21:50:32.983646",
          "status": "completed"
        },
        "tags": []
      },
      "source": [
        "# Neural Networks\n",
        "\n",
        "> Utilitites for creating advanced neural network SAX Models"
      ]
    },
    {
      "cell_type": "code",
      "execution_count": 2,
      "id": "0f5faa522dda6721",
      "metadata": {
        "execution": {
          "iopub.execute_input": "2023-06-01T21:50:32.991179Z",
          "iopub.status.busy": "2023-06-01T21:50:32.990976Z",
          "iopub.status.idle": "2023-06-01T21:50:32.995818Z",
          "shell.execute_reply": "2023-06-01T21:50:32.995383Z"
        },
        "papermill": {
          "duration": 0.009185,
          "end_time": "2023-06-01T21:50:32.997595",
          "exception": false,
          "start_time": "2023-06-01T21:50:32.988410",
          "status": "completed"
        },
        "tags": [
          "hide-input"
        ]
      },
      "outputs": [],
      "source": [
        "from __future__ import annotations"
      ]
    },
    {
      "cell_type": "code",
      "execution_count": 3,
      "id": "af9ec0835d081fbd",
      "metadata": {
        "execution": {
          "iopub.execute_input": "2023-06-01T21:50:33.002207Z",
          "iopub.status.busy": "2023-06-01T21:50:33.002026Z",
          "iopub.status.idle": "2023-06-01T21:50:33.004478Z",
          "shell.execute_reply": "2023-06-01T21:50:33.004124Z"
        },
        "papermill": {
          "duration": 0.006714,
          "end_time": "2023-06-01T21:50:33.006188",
          "exception": false,
          "start_time": "2023-06-01T21:50:32.999474",
          "status": "completed"
        },
        "tags": [
          "remove-cell"
        ]
      },
      "outputs": [],
      "source": [
        "import os, sys; sys.stderr = open(os.devnull, \"w\")"
      ]
    },
    {
      "cell_type": "markdown",
      "id": "24790eed-f741-4d07-91c9-a731ebcfc3f0",
      "metadata": {
        "papermill": {
          "duration": 0.001827,
          "end_time": "2023-06-01T21:50:33.009919",
          "exception": false,
          "start_time": "2023-06-01T21:50:33.008092",
          "status": "completed"
        },
        "tags": []
      },
      "source": [
        "## Check"
      ]
    },
    {
      "cell_type": "code",
      "execution_count": 4,
      "id": "71ee14ba-949f-4025-8813-5a6bf01b8464",
      "metadata": {
        "execution": {
          "iopub.execute_input": "2023-06-01T21:50:33.015112Z",
          "iopub.status.busy": "2023-06-01T21:50:33.014922Z",
          "iopub.status.idle": "2023-06-01T21:50:33.454055Z",
          "shell.execute_reply": "2023-06-01T21:50:33.453659Z"
        },
        "papermill": {
          "duration": 0.443659,
          "end_time": "2023-06-01T21:50:33.455425",
          "exception": false,
          "start_time": "2023-06-01T21:50:33.011766",
          "status": "completed"
        },
        "tags": []
      },
      "outputs": [],
      "source": [
        "try:\n",
        "    import jax\n",
        "except ImportError:\n",
        "    raise ImportError(\"[NO JAX] Cannot import sax.nn. Please install JAX first!\")"
      ]
    },
    {
      "cell_type": "markdown",
      "id": "75fbba73",
      "metadata": {
        "papermill": {
          "duration": 0.001991,
          "end_time": "2023-06-01T21:50:33.459577",
          "exception": false,
          "start_time": "2023-06-01T21:50:33.457586",
          "status": "completed"
        },
        "tags": []
      },
      "source": [
        "## Loss"
      ]
    },
    {
      "cell_type": "code",
      "execution_count": 5,
      "id": "11654c21d7899a65",
      "metadata": {
        "execution": {
          "iopub.execute_input": "2023-06-01T21:50:33.464993Z",
          "iopub.status.busy": "2023-06-01T21:50:33.464344Z",
          "iopub.status.idle": "2023-06-01T21:50:34.109252Z",
          "shell.execute_reply": "2023-06-01T21:50:34.108805Z"
        },
        "papermill": {
          "duration": 0.649138,
          "end_time": "2023-06-01T21:50:34.110729",
          "exception": false,
          "start_time": "2023-06-01T21:50:33.461591",
          "status": "completed"
        },
        "tags": []
      },
      "outputs": [],
      "source": [
        "\n",
        "from sax.nn.loss import huber_loss as huber_loss\n",
        "from sax.nn.loss import l2_reg as l2_reg\n",
        "from sax.nn.loss import mse as mse"
      ]
    },
    {
      "cell_type": "markdown",
      "id": "1a18faa2",
      "metadata": {
        "papermill": {
          "duration": 0.001965,
          "end_time": "2023-06-01T21:50:34.114890",
          "exception": false,
          "start_time": "2023-06-01T21:50:34.112925",
          "status": "completed"
        },
        "tags": []
      },
      "source": [
        "## Utils"
      ]
    },
    {
      "cell_type": "code",
      "execution_count": 6,
      "id": "1a34b91dd4df934c",
      "metadata": {
        "execution": {
          "iopub.execute_input": "2023-06-01T21:50:34.119992Z",
          "iopub.status.busy": "2023-06-01T21:50:34.119464Z",
          "iopub.status.idle": "2023-06-01T21:50:34.122269Z",
          "shell.execute_reply": "2023-06-01T21:50:34.121942Z"
        },
        "papermill": {
          "duration": 0.006503,
          "end_time": "2023-06-01T21:50:34.123294",
          "exception": false,
          "start_time": "2023-06-01T21:50:34.116791",
          "status": "completed"
        },
        "tags": []
      },
      "outputs": [],
      "source": [
        "\n",
        "from sax.nn.utils import (\n",
        "    cartesian_product as cartesian_product,\n",
        "    denormalize as denormalize,\n",
        "    get_normalization as get_normalization,\n",
        "    get_df_columns as get_df_columns,\n",
        "    normalize as normalize,\n",
        ")"
      ]
    },
    {
      "cell_type": "markdown",
      "id": "ef010b3c",
      "metadata": {
        "papermill": {
          "duration": 0.001891,
          "end_time": "2023-06-01T21:50:34.127189",
          "exception": false,
          "start_time": "2023-06-01T21:50:34.125298",
          "status": "completed"
        },
        "tags": []
      },
      "source": [
        "## Core"
      ]
    },
    {
      "cell_type": "code",
      "execution_count": 7,
      "id": "fdccf612b25bccb8",
      "metadata": {
        "execution": {
          "iopub.execute_input": "2023-06-01T21:50:34.132118Z",
          "iopub.status.busy": "2023-06-01T21:50:34.131666Z",
          "iopub.status.idle": "2023-06-01T21:50:34.134282Z",
          "shell.execute_reply": "2023-06-01T21:50:34.133865Z"
        },
        "papermill": {
          "duration": 0.006349,
          "end_time": "2023-06-01T21:50:34.135430",
          "exception": false,
          "start_time": "2023-06-01T21:50:34.129081",
          "status": "completed"
        },
        "tags": []
      },
      "outputs": [],
      "source": [
        "\n",
        "from sax.nn.core import (\n",
        "    preprocess as preprocess,\n",
        "    dense as dense,\n",
        "    generate_dense_weights as generate_dense_weights,\n",
        ")"
      ]
    },
    {
      "cell_type": "markdown",
      "id": "5e96c647",
      "metadata": {
        "papermill": {
          "duration": 0.001902,
          "end_time": "2023-06-01T21:50:34.139287",
          "exception": false,
          "start_time": "2023-06-01T21:50:34.137385",
          "status": "completed"
        },
        "tags": []
      },
      "source": [
        "## IO"
      ]
    },
    {
      "cell_type": "code",
      "execution_count": 8,
      "id": "b335140bcfe1b8ee",
      "metadata": {
        "execution": {
          "iopub.execute_input": "2023-06-01T21:50:34.144269Z",
          "iopub.status.busy": "2023-06-01T21:50:34.143801Z",
          "iopub.status.idle": "2023-06-01T21:50:34.146476Z",
          "shell.execute_reply": "2023-06-01T21:50:34.146173Z"
        },
        "papermill": {
          "duration": 0.006237,
          "end_time": "2023-06-01T21:50:34.147497",
          "exception": false,
          "start_time": "2023-06-01T21:50:34.141260",
          "status": "completed"
        },
        "tags": []
      },
      "outputs": [],
      "source": [
        "\n",
        "from sax.nn.io import (\n",
        "    load_nn_weights_json as load_nn_weights_json,\n",
        "    save_nn_weights_json as save_nn_weights_json,\n",
        "    get_available_sizes as get_available_sizes,\n",
        "    get_dense_weights_path as get_dense_weights_path,\n",
        "    get_norm_path as get_norm_path,\n",
        "    load_nn_dense as load_nn_dense,\n",
        ")"
      ]
    }
  ],
  "metadata": {
    "kernelspec": {
      "display_name": "sax",
      "language": "python",
      "name": "sax"
    },
    "language_info": {
      "codemirror_mode": {
        "name": "ipython",
        "version": 3
      },
      "file_extension": ".py",
      "mimetype": "text/x-python",
      "name": "python",
      "nbconvert_exporter": "python",
      "pygments_lexer": "ipython3",
      "version": "3.11.3"
    },
    "papermill": {
      "default_parameters": {},
      "duration": 2.844359,
      "end_time": "2023-06-01T21:50:34.565859",
      "environment_variables": {},
      "exception": null,
      "input_path": "./nbs/09_nn.ipynb",
      "output_path": "./nbs/09_nn.ipynb",
      "parameters": {},
      "start_time": "2023-06-01T21:50:31.721500",
      "version": "2.3.4"
    }
  },
  "nbformat": 4,
  "nbformat_minor": 5
}