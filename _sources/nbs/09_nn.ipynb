{
  "cells": [
    {
      "cell_type": "code",
      "execution_count": 1,
      "id": "a5c4acd1c48e14fa",
      "metadata": {
        "execution": {
          "iopub.execute_input": "2023-09-01T18:13:29.024060Z",
          "iopub.status.busy": "2023-09-01T18:13:29.023487Z",
          "iopub.status.idle": "2023-09-01T18:13:29.026753Z",
          "shell.execute_reply": "2023-09-01T18:13:29.026183Z"
        },
        "papermill": {
          "duration": 0.008437,
          "end_time": "2023-09-01T18:13:29.027986",
          "exception": false,
          "start_time": "2023-09-01T18:13:29.019549",
          "status": "completed"
        },
        "tags": [
          "remove-cell"
        ]
      },
      "outputs": [],
      "source": []
    },
    {
      "cell_type": "markdown",
      "id": "36903b9f",
      "metadata": {
        "papermill": {
          "duration": 0.002062,
          "end_time": "2023-09-01T18:13:29.032260",
          "exception": false,
          "start_time": "2023-09-01T18:13:29.030198",
          "status": "completed"
        },
        "tags": []
      },
      "source": [
        "# Neural Networks\n",
        "\n",
        "> Utilitites for creating advanced neural network SAX Models"
      ]
    },
    {
      "cell_type": "code",
      "execution_count": 2,
      "id": "42083e46d20f6de8",
      "metadata": {
        "execution": {
          "iopub.execute_input": "2023-09-01T18:13:29.037281Z",
          "iopub.status.busy": "2023-09-01T18:13:29.036859Z",
          "iopub.status.idle": "2023-09-01T18:13:29.041998Z",
          "shell.execute_reply": "2023-09-01T18:13:29.041452Z"
        },
        "papermill": {
          "duration": 0.00905,
          "end_time": "2023-09-01T18:13:29.043228",
          "exception": false,
          "start_time": "2023-09-01T18:13:29.034178",
          "status": "completed"
        },
        "tags": [
          "hide-input"
        ]
      },
      "outputs": [],
      "source": [
        "from __future__ import annotations"
      ]
    },
    {
      "cell_type": "code",
      "execution_count": 3,
      "id": "4ab4efbc036fa511",
      "metadata": {
        "execution": {
          "iopub.execute_input": "2023-09-01T18:13:29.048421Z",
          "iopub.status.busy": "2023-09-01T18:13:29.048035Z",
          "iopub.status.idle": "2023-09-01T18:13:29.050914Z",
          "shell.execute_reply": "2023-09-01T18:13:29.050488Z"
        },
        "papermill": {
          "duration": 0.006707,
          "end_time": "2023-09-01T18:13:29.052063",
          "exception": false,
          "start_time": "2023-09-01T18:13:29.045356",
          "status": "completed"
        },
        "tags": [
          "remove-cell"
        ]
      },
      "outputs": [],
      "source": [
        "import os, sys; sys.stderr = open(os.devnull, \"w\")"
      ]
    },
    {
      "cell_type": "markdown",
      "id": "24790eed-f741-4d07-91c9-a731ebcfc3f0",
      "metadata": {
        "papermill": {
          "duration": 0.002148,
          "end_time": "2023-09-01T18:13:29.056183",
          "exception": false,
          "start_time": "2023-09-01T18:13:29.054035",
          "status": "completed"
        },
        "tags": []
      },
      "source": [
        "## Check"
      ]
    },
    {
      "cell_type": "code",
      "execution_count": 4,
      "id": "71ee14ba-949f-4025-8813-5a6bf01b8464",
      "metadata": {
        "execution": {
          "iopub.execute_input": "2023-09-01T18:13:29.061219Z",
          "iopub.status.busy": "2023-09-01T18:13:29.060827Z",
          "iopub.status.idle": "2023-09-01T18:13:29.476082Z",
          "shell.execute_reply": "2023-09-01T18:13:29.475643Z"
        },
        "papermill": {
          "duration": 0.419446,
          "end_time": "2023-09-01T18:13:29.477544",
          "exception": false,
          "start_time": "2023-09-01T18:13:29.058098",
          "status": "completed"
        },
        "tags": []
      },
      "outputs": [],
      "source": [
        "try:\n",
        "    import jax\n",
        "except ImportError:\n",
        "    raise ImportError(\"[NO JAX] Cannot import sax.nn. Please install JAX first!\")"
      ]
    },
    {
      "cell_type": "markdown",
      "id": "75fbba73",
      "metadata": {
        "papermill": {
          "duration": 0.002448,
          "end_time": "2023-09-01T18:13:29.482359",
          "exception": false,
          "start_time": "2023-09-01T18:13:29.479911",
          "status": "completed"
        },
        "tags": []
      },
      "source": [
        "## Loss"
      ]
    },
    {
      "cell_type": "code",
      "execution_count": 5,
      "id": "42769dfdb6c0faf0",
      "metadata": {
        "execution": {
          "iopub.execute_input": "2023-09-01T18:13:29.487671Z",
          "iopub.status.busy": "2023-09-01T18:13:29.487192Z",
          "iopub.status.idle": "2023-09-01T18:13:30.250709Z",
          "shell.execute_reply": "2023-09-01T18:13:30.250275Z"
        },
        "papermill": {
          "duration": 0.768125,
          "end_time": "2023-09-01T18:13:30.252499",
          "exception": false,
          "start_time": "2023-09-01T18:13:29.484374",
          "status": "completed"
        },
        "tags": []
      },
      "outputs": [],
      "source": [
        "\n",
        "from sax.nn.loss import huber_loss as huber_loss\n",
        "from sax.nn.loss import l2_reg as l2_reg\n",
        "from sax.nn.loss import mse as mse"
      ]
    },
    {
      "cell_type": "markdown",
      "id": "1a18faa2",
      "metadata": {
        "papermill": {
          "duration": 0.002019,
          "end_time": "2023-09-01T18:13:30.256776",
          "exception": false,
          "start_time": "2023-09-01T18:13:30.254757",
          "status": "completed"
        },
        "tags": []
      },
      "source": [
        "## Utils"
      ]
    },
    {
      "cell_type": "code",
      "execution_count": 6,
      "id": "127a82d7d9910698",
      "metadata": {
        "execution": {
          "iopub.execute_input": "2023-09-01T18:13:30.263017Z",
          "iopub.status.busy": "2023-09-01T18:13:30.262513Z",
          "iopub.status.idle": "2023-09-01T18:13:30.265491Z",
          "shell.execute_reply": "2023-09-01T18:13:30.265092Z"
        },
        "papermill": {
          "duration": 0.007141,
          "end_time": "2023-09-01T18:13:30.266798",
          "exception": false,
          "start_time": "2023-09-01T18:13:30.259657",
          "status": "completed"
        },
        "tags": []
      },
      "outputs": [],
      "source": [
        "\n",
        "from sax.nn.utils import (\n",
        "    cartesian_product as cartesian_product,\n",
        "    denormalize as denormalize,\n",
        "    get_normalization as get_normalization,\n",
        "    get_df_columns as get_df_columns,\n",
        "    normalize as normalize,\n",
        ")"
      ]
    },
    {
      "cell_type": "markdown",
      "id": "ef010b3c",
      "metadata": {
        "papermill": {
          "duration": 0.001931,
          "end_time": "2023-09-01T18:13:30.270757",
          "exception": false,
          "start_time": "2023-09-01T18:13:30.268826",
          "status": "completed"
        },
        "tags": []
      },
      "source": [
        "## Core"
      ]
    },
    {
      "cell_type": "code",
      "execution_count": 7,
      "id": "fbba1f0861cda84b",
      "metadata": {
        "execution": {
          "iopub.execute_input": "2023-09-01T18:13:30.275608Z",
          "iopub.status.busy": "2023-09-01T18:13:30.275320Z",
          "iopub.status.idle": "2023-09-01T18:13:30.277776Z",
          "shell.execute_reply": "2023-09-01T18:13:30.277375Z"
        },
        "papermill": {
          "duration": 0.006387,
          "end_time": "2023-09-01T18:13:30.279108",
          "exception": false,
          "start_time": "2023-09-01T18:13:30.272721",
          "status": "completed"
        },
        "tags": []
      },
      "outputs": [],
      "source": [
        "\n",
        "from sax.nn.core import (\n",
        "    preprocess as preprocess,\n",
        "    dense as dense,\n",
        "    generate_dense_weights as generate_dense_weights,\n",
        ")"
      ]
    },
    {
      "cell_type": "markdown",
      "id": "5e96c647",
      "metadata": {
        "papermill": {
          "duration": 0.002043,
          "end_time": "2023-09-01T18:13:30.306528",
          "exception": false,
          "start_time": "2023-09-01T18:13:30.304485",
          "status": "completed"
        },
        "tags": []
      },
      "source": [
        "## IO"
      ]
    },
    {
      "cell_type": "code",
      "execution_count": 8,
      "id": "77df18515a53c188",
      "metadata": {
        "execution": {
          "iopub.execute_input": "2023-09-01T18:13:30.311941Z",
          "iopub.status.busy": "2023-09-01T18:13:30.311486Z",
          "iopub.status.idle": "2023-09-01T18:13:30.314390Z",
          "shell.execute_reply": "2023-09-01T18:13:30.314025Z"
        },
        "papermill": {
          "duration": 0.006921,
          "end_time": "2023-09-01T18:13:30.315505",
          "exception": false,
          "start_time": "2023-09-01T18:13:30.308584",
          "status": "completed"
        },
        "tags": []
      },
      "outputs": [],
      "source": [
        "\n",
        "from sax.nn.io import (\n",
        "    load_nn_weights_json as load_nn_weights_json,\n",
        "    save_nn_weights_json as save_nn_weights_json,\n",
        "    get_available_sizes as get_available_sizes,\n",
        "    get_dense_weights_path as get_dense_weights_path,\n",
        "    get_norm_path as get_norm_path,\n",
        "    load_nn_dense as load_nn_dense,\n",
        ")"
      ]
    }
  ],
  "metadata": {
    "kernelspec": {
      "display_name": "sax",
      "language": "python",
      "name": "sax"
    },
    "language_info": {
      "codemirror_mode": {
        "name": "ipython",
        "version": 3
      },
      "file_extension": ".py",
      "mimetype": "text/x-python",
      "name": "python",
      "nbconvert_exporter": "python",
      "pygments_lexer": "ipython3",
      "version": "3.11.5"
    },
    "papermill": {
      "default_parameters": {},
      "duration": 3.034132,
      "end_time": "2023-09-01T18:13:30.733424",
      "environment_variables": {},
      "exception": null,
      "input_path": "./nbs/09_nn.ipynb",
      "output_path": "./nbs/09_nn.ipynb",
      "parameters": {},
      "start_time": "2023-09-01T18:13:27.699292",
      "version": "2.4.0"
    }
  },
  "nbformat": 4,
  "nbformat_minor": 5
}