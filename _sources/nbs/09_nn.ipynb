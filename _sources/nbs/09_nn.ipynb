{
  "cells": [
    {
      "cell_type": "code",
      "execution_count": 1,
      "id": "602c4746525be77d",
      "metadata": {
        "execution": {
          "iopub.execute_input": "2023-09-01T16:51:56.119111Z",
          "iopub.status.busy": "2023-09-01T16:51:56.118713Z",
          "iopub.status.idle": "2023-09-01T16:51:56.121990Z",
          "shell.execute_reply": "2023-09-01T16:51:56.121418Z"
        },
        "papermill": {
          "duration": 0.008446,
          "end_time": "2023-09-01T16:51:56.123363",
          "exception": false,
          "start_time": "2023-09-01T16:51:56.114917",
          "status": "completed"
        },
        "tags": [
          "remove-cell"
        ]
      },
      "outputs": [],
      "source": []
    },
    {
      "cell_type": "markdown",
      "id": "36903b9f",
      "metadata": {
        "papermill": {
          "duration": 0.001972,
          "end_time": "2023-09-01T16:51:56.127504",
          "exception": false,
          "start_time": "2023-09-01T16:51:56.125532",
          "status": "completed"
        },
        "tags": []
      },
      "source": [
        "# Neural Networks\n",
        "\n",
        "> Utilitites for creating advanced neural network SAX Models"
      ]
    },
    {
      "cell_type": "code",
      "execution_count": 2,
      "id": "fc23ef66854815b5",
      "metadata": {
        "execution": {
          "iopub.execute_input": "2023-09-01T16:51:56.132282Z",
          "iopub.status.busy": "2023-09-01T16:51:56.131891Z",
          "iopub.status.idle": "2023-09-01T16:51:56.136962Z",
          "shell.execute_reply": "2023-09-01T16:51:56.136430Z"
        },
        "papermill": {
          "duration": 0.008765,
          "end_time": "2023-09-01T16:51:56.138090",
          "exception": false,
          "start_time": "2023-09-01T16:51:56.129325",
          "status": "completed"
        },
        "tags": [
          "hide-input"
        ]
      },
      "outputs": [],
      "source": [
        "from __future__ import annotations"
      ]
    },
    {
      "cell_type": "code",
      "execution_count": 3,
      "id": "08de90db8da763a8",
      "metadata": {
        "execution": {
          "iopub.execute_input": "2023-09-01T16:51:56.143146Z",
          "iopub.status.busy": "2023-09-01T16:51:56.142762Z",
          "iopub.status.idle": "2023-09-01T16:51:56.145479Z",
          "shell.execute_reply": "2023-09-01T16:51:56.145085Z"
        },
        "papermill": {
          "duration": 0.006509,
          "end_time": "2023-09-01T16:51:56.146651",
          "exception": false,
          "start_time": "2023-09-01T16:51:56.140142",
          "status": "completed"
        },
        "tags": [
          "remove-cell"
        ]
      },
      "outputs": [],
      "source": [
        "import os, sys; sys.stderr = open(os.devnull, \"w\")"
      ]
    },
    {
      "cell_type": "markdown",
      "id": "24790eed-f741-4d07-91c9-a731ebcfc3f0",
      "metadata": {
        "papermill": {
          "duration": 0.001869,
          "end_time": "2023-09-01T16:51:56.150467",
          "exception": false,
          "start_time": "2023-09-01T16:51:56.148598",
          "status": "completed"
        },
        "tags": []
      },
      "source": [
        "## Check"
      ]
    },
    {
      "cell_type": "code",
      "execution_count": 4,
      "id": "71ee14ba-949f-4025-8813-5a6bf01b8464",
      "metadata": {
        "execution": {
          "iopub.execute_input": "2023-09-01T16:51:56.155518Z",
          "iopub.status.busy": "2023-09-01T16:51:56.155155Z",
          "iopub.status.idle": "2023-09-01T16:51:56.578039Z",
          "shell.execute_reply": "2023-09-01T16:51:56.577588Z"
        },
        "papermill": {
          "duration": 0.426984,
          "end_time": "2023-09-01T16:51:56.579533",
          "exception": false,
          "start_time": "2023-09-01T16:51:56.152549",
          "status": "completed"
        },
        "tags": []
      },
      "outputs": [],
      "source": [
        "try:\n",
        "    import jax\n",
        "except ImportError:\n",
        "    raise ImportError(\"[NO JAX] Cannot import sax.nn. Please install JAX first!\")"
      ]
    },
    {
      "cell_type": "markdown",
      "id": "75fbba73",
      "metadata": {
        "papermill": {
          "duration": 0.002504,
          "end_time": "2023-09-01T16:51:56.584374",
          "exception": false,
          "start_time": "2023-09-01T16:51:56.581870",
          "status": "completed"
        },
        "tags": []
      },
      "source": [
        "## Loss"
      ]
    },
    {
      "cell_type": "code",
      "execution_count": 5,
      "id": "e1c7cc877de12f8e",
      "metadata": {
        "execution": {
          "iopub.execute_input": "2023-09-01T16:51:56.589449Z",
          "iopub.status.busy": "2023-09-01T16:51:56.589096Z",
          "iopub.status.idle": "2023-09-01T16:51:57.360305Z",
          "shell.execute_reply": "2023-09-01T16:51:57.359845Z"
        },
        "papermill": {
          "duration": 0.775837,
          "end_time": "2023-09-01T16:51:57.362133",
          "exception": false,
          "start_time": "2023-09-01T16:51:56.586296",
          "status": "completed"
        },
        "tags": []
      },
      "outputs": [],
      "source": [
        "\n",
        "from sax.nn.loss import huber_loss as huber_loss\n",
        "from sax.nn.loss import l2_reg as l2_reg\n",
        "from sax.nn.loss import mse as mse"
      ]
    },
    {
      "cell_type": "markdown",
      "id": "1a18faa2",
      "metadata": {
        "papermill": {
          "duration": 0.002171,
          "end_time": "2023-09-01T16:51:57.366656",
          "exception": false,
          "start_time": "2023-09-01T16:51:57.364485",
          "status": "completed"
        },
        "tags": []
      },
      "source": [
        "## Utils"
      ]
    },
    {
      "cell_type": "code",
      "execution_count": 6,
      "id": "28ff20b6677f6363",
      "metadata": {
        "execution": {
          "iopub.execute_input": "2023-09-01T16:51:57.372916Z",
          "iopub.status.busy": "2023-09-01T16:51:57.372472Z",
          "iopub.status.idle": "2023-09-01T16:51:57.375729Z",
          "shell.execute_reply": "2023-09-01T16:51:57.375261Z"
        },
        "papermill": {
          "duration": 0.007412,
          "end_time": "2023-09-01T16:51:57.376895",
          "exception": false,
          "start_time": "2023-09-01T16:51:57.369483",
          "status": "completed"
        },
        "tags": []
      },
      "outputs": [],
      "source": [
        "\n",
        "from sax.nn.utils import (\n",
        "    cartesian_product as cartesian_product,\n",
        "    denormalize as denormalize,\n",
        "    get_normalization as get_normalization,\n",
        "    get_df_columns as get_df_columns,\n",
        "    normalize as normalize,\n",
        ")"
      ]
    },
    {
      "cell_type": "markdown",
      "id": "ef010b3c",
      "metadata": {
        "papermill": {
          "duration": 0.001957,
          "end_time": "2023-09-01T16:51:57.380919",
          "exception": false,
          "start_time": "2023-09-01T16:51:57.378962",
          "status": "completed"
        },
        "tags": []
      },
      "source": [
        "## Core"
      ]
    },
    {
      "cell_type": "code",
      "execution_count": 7,
      "id": "14b52b567ab003ad",
      "metadata": {
        "execution": {
          "iopub.execute_input": "2023-09-01T16:51:57.386100Z",
          "iopub.status.busy": "2023-09-01T16:51:57.385672Z",
          "iopub.status.idle": "2023-09-01T16:51:57.388454Z",
          "shell.execute_reply": "2023-09-01T16:51:57.388023Z"
        },
        "papermill": {
          "duration": 0.006779,
          "end_time": "2023-09-01T16:51:57.389707",
          "exception": false,
          "start_time": "2023-09-01T16:51:57.382928",
          "status": "completed"
        },
        "tags": []
      },
      "outputs": [],
      "source": [
        "\n",
        "from sax.nn.core import (\n",
        "    preprocess as preprocess,\n",
        "    dense as dense,\n",
        "    generate_dense_weights as generate_dense_weights,\n",
        ")"
      ]
    },
    {
      "cell_type": "markdown",
      "id": "5e96c647",
      "metadata": {
        "papermill": {
          "duration": 0.002136,
          "end_time": "2023-09-01T16:51:57.422056",
          "exception": false,
          "start_time": "2023-09-01T16:51:57.419920",
          "status": "completed"
        },
        "tags": []
      },
      "source": [
        "## IO"
      ]
    },
    {
      "cell_type": "code",
      "execution_count": 8,
      "id": "c52b927639287882",
      "metadata": {
        "execution": {
          "iopub.execute_input": "2023-09-01T16:51:57.427637Z",
          "iopub.status.busy": "2023-09-01T16:51:57.427166Z",
          "iopub.status.idle": "2023-09-01T16:51:57.430213Z",
          "shell.execute_reply": "2023-09-01T16:51:57.429793Z"
        },
        "papermill": {
          "duration": 0.007193,
          "end_time": "2023-09-01T16:51:57.431349",
          "exception": false,
          "start_time": "2023-09-01T16:51:57.424156",
          "status": "completed"
        },
        "tags": []
      },
      "outputs": [],
      "source": [
        "\n",
        "from sax.nn.io import (\n",
        "    load_nn_weights_json as load_nn_weights_json,\n",
        "    save_nn_weights_json as save_nn_weights_json,\n",
        "    get_available_sizes as get_available_sizes,\n",
        "    get_dense_weights_path as get_dense_weights_path,\n",
        "    get_norm_path as get_norm_path,\n",
        "    load_nn_dense as load_nn_dense,\n",
        ")"
      ]
    }
  ],
  "metadata": {
    "kernelspec": {
      "display_name": "sax",
      "language": "python",
      "name": "sax"
    },
    "language_info": {
      "codemirror_mode": {
        "name": "ipython",
        "version": 3
      },
      "file_extension": ".py",
      "mimetype": "text/x-python",
      "name": "python",
      "nbconvert_exporter": "python",
      "pygments_lexer": "ipython3",
      "version": "3.11.5"
    },
    "papermill": {
      "default_parameters": {},
      "duration": 3.154654,
      "end_time": "2023-09-01T16:51:57.949827",
      "environment_variables": {},
      "exception": null,
      "input_path": "./nbs/09_nn.ipynb",
      "output_path": "./nbs/09_nn.ipynb",
      "parameters": {},
      "start_time": "2023-09-01T16:51:54.795173",
      "version": "2.4.0"
    }
  },
  "nbformat": 4,
  "nbformat_minor": 5
}