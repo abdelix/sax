{
  "cells": [
    {
      "cell_type": "code",
      "execution_count": 1,
      "id": "eacbf46ecc2b5094",
      "metadata": {
        "execution": {
          "iopub.execute_input": "2023-07-01T03:32:51.271403Z",
          "iopub.status.busy": "2023-07-01T03:32:51.270969Z",
          "iopub.status.idle": "2023-07-01T03:32:51.274833Z",
          "shell.execute_reply": "2023-07-01T03:32:51.274315Z"
        },
        "papermill": {
          "duration": 0.008742,
          "end_time": "2023-07-01T03:32:51.276239",
          "exception": false,
          "start_time": "2023-07-01T03:32:51.267497",
          "status": "completed"
        },
        "tags": [
          "remove-cell"
        ]
      },
      "outputs": [],
      "source": []
    },
    {
      "cell_type": "markdown",
      "id": "36903b9f",
      "metadata": {
        "papermill": {
          "duration": 0.001857,
          "end_time": "2023-07-01T03:32:51.280415",
          "exception": false,
          "start_time": "2023-07-01T03:32:51.278558",
          "status": "completed"
        },
        "tags": []
      },
      "source": [
        "# Neural Networks\n",
        "\n",
        "> Utilitites for creating advanced neural network SAX Models"
      ]
    },
    {
      "cell_type": "code",
      "execution_count": 2,
      "id": "e5fef2288da8bacd",
      "metadata": {
        "execution": {
          "iopub.execute_input": "2023-07-01T03:32:51.284943Z",
          "iopub.status.busy": "2023-07-01T03:32:51.284746Z",
          "iopub.status.idle": "2023-07-01T03:32:51.291389Z",
          "shell.execute_reply": "2023-07-01T03:32:51.290930Z"
        },
        "papermill": {
          "duration": 0.010464,
          "end_time": "2023-07-01T03:32:51.292679",
          "exception": false,
          "start_time": "2023-07-01T03:32:51.282215",
          "status": "completed"
        },
        "tags": [
          "hide-input"
        ]
      },
      "outputs": [],
      "source": [
        "from __future__ import annotations"
      ]
    },
    {
      "cell_type": "code",
      "execution_count": 3,
      "id": "b0451558a4dd4b7b",
      "metadata": {
        "execution": {
          "iopub.execute_input": "2023-07-01T03:32:51.297443Z",
          "iopub.status.busy": "2023-07-01T03:32:51.297263Z",
          "iopub.status.idle": "2023-07-01T03:32:51.299813Z",
          "shell.execute_reply": "2023-07-01T03:32:51.299454Z"
        },
        "papermill": {
          "duration": 0.007,
          "end_time": "2023-07-01T03:32:51.301610",
          "exception": false,
          "start_time": "2023-07-01T03:32:51.294610",
          "status": "completed"
        },
        "tags": [
          "remove-cell"
        ]
      },
      "outputs": [],
      "source": [
        "import os, sys; sys.stderr = open(os.devnull, \"w\")"
      ]
    },
    {
      "cell_type": "markdown",
      "id": "24790eed-f741-4d07-91c9-a731ebcfc3f0",
      "metadata": {
        "papermill": {
          "duration": 0.001825,
          "end_time": "2023-07-01T03:32:51.305327",
          "exception": false,
          "start_time": "2023-07-01T03:32:51.303502",
          "status": "completed"
        },
        "tags": []
      },
      "source": [
        "## Check"
      ]
    },
    {
      "cell_type": "code",
      "execution_count": 4,
      "id": "71ee14ba-949f-4025-8813-5a6bf01b8464",
      "metadata": {
        "execution": {
          "iopub.execute_input": "2023-07-01T03:32:51.309891Z",
          "iopub.status.busy": "2023-07-01T03:32:51.309708Z",
          "iopub.status.idle": "2023-07-01T03:32:51.733052Z",
          "shell.execute_reply": "2023-07-01T03:32:51.732643Z"
        },
        "papermill": {
          "duration": 0.427528,
          "end_time": "2023-07-01T03:32:51.734721",
          "exception": false,
          "start_time": "2023-07-01T03:32:51.307193",
          "status": "completed"
        },
        "tags": []
      },
      "outputs": [],
      "source": [
        "try:\n",
        "    import jax\n",
        "except ImportError:\n",
        "    raise ImportError(\"[NO JAX] Cannot import sax.nn. Please install JAX first!\")"
      ]
    },
    {
      "cell_type": "markdown",
      "id": "75fbba73",
      "metadata": {
        "papermill": {
          "duration": 0.002035,
          "end_time": "2023-07-01T03:32:51.738979",
          "exception": false,
          "start_time": "2023-07-01T03:32:51.736944",
          "status": "completed"
        },
        "tags": []
      },
      "source": [
        "## Loss"
      ]
    },
    {
      "cell_type": "code",
      "execution_count": 5,
      "id": "a527e2302a379a55",
      "metadata": {
        "execution": {
          "iopub.execute_input": "2023-07-01T03:32:51.744366Z",
          "iopub.status.busy": "2023-07-01T03:32:51.743924Z",
          "iopub.status.idle": "2023-07-01T03:32:52.370665Z",
          "shell.execute_reply": "2023-07-01T03:32:52.370270Z"
        },
        "papermill": {
          "duration": 0.631387,
          "end_time": "2023-07-01T03:32:52.372282",
          "exception": false,
          "start_time": "2023-07-01T03:32:51.740895",
          "status": "completed"
        },
        "tags": []
      },
      "outputs": [],
      "source": [
        "\n",
        "from sax.nn.loss import huber_loss as huber_loss\n",
        "from sax.nn.loss import l2_reg as l2_reg\n",
        "from sax.nn.loss import mse as mse"
      ]
    },
    {
      "cell_type": "markdown",
      "id": "1a18faa2",
      "metadata": {
        "papermill": {
          "duration": 0.001961,
          "end_time": "2023-07-01T03:32:52.376474",
          "exception": false,
          "start_time": "2023-07-01T03:32:52.374513",
          "status": "completed"
        },
        "tags": []
      },
      "source": [
        "## Utils"
      ]
    },
    {
      "cell_type": "code",
      "execution_count": 6,
      "id": "dadfea8c107fa420",
      "metadata": {
        "execution": {
          "iopub.execute_input": "2023-07-01T03:32:52.382402Z",
          "iopub.status.busy": "2023-07-01T03:32:52.381582Z",
          "iopub.status.idle": "2023-07-01T03:32:52.385232Z",
          "shell.execute_reply": "2023-07-01T03:32:52.384856Z"
        },
        "papermill": {
          "duration": 0.008123,
          "end_time": "2023-07-01T03:32:52.386505",
          "exception": false,
          "start_time": "2023-07-01T03:32:52.378382",
          "status": "completed"
        },
        "tags": []
      },
      "outputs": [],
      "source": [
        "\n",
        "from sax.nn.utils import (\n",
        "    cartesian_product as cartesian_product,\n",
        "    denormalize as denormalize,\n",
        "    get_normalization as get_normalization,\n",
        "    get_df_columns as get_df_columns,\n",
        "    normalize as normalize,\n",
        ")"
      ]
    },
    {
      "cell_type": "markdown",
      "id": "ef010b3c",
      "metadata": {
        "papermill": {
          "duration": 0.001924,
          "end_time": "2023-07-01T03:32:52.390388",
          "exception": false,
          "start_time": "2023-07-01T03:32:52.388464",
          "status": "completed"
        },
        "tags": []
      },
      "source": [
        "## Core"
      ]
    },
    {
      "cell_type": "code",
      "execution_count": 7,
      "id": "45ca3ec7b102a582",
      "metadata": {
        "execution": {
          "iopub.execute_input": "2023-07-01T03:32:52.395163Z",
          "iopub.status.busy": "2023-07-01T03:32:52.394966Z",
          "iopub.status.idle": "2023-07-01T03:32:52.397433Z",
          "shell.execute_reply": "2023-07-01T03:32:52.397068Z"
        },
        "papermill": {
          "duration": 0.006854,
          "end_time": "2023-07-01T03:32:52.399158",
          "exception": false,
          "start_time": "2023-07-01T03:32:52.392304",
          "status": "completed"
        },
        "tags": []
      },
      "outputs": [],
      "source": [
        "\n",
        "from sax.nn.core import (\n",
        "    preprocess as preprocess,\n",
        "    dense as dense,\n",
        "    generate_dense_weights as generate_dense_weights,\n",
        ")"
      ]
    },
    {
      "cell_type": "markdown",
      "id": "5e96c647",
      "metadata": {
        "papermill": {
          "duration": 0.002031,
          "end_time": "2023-07-01T03:32:52.403150",
          "exception": false,
          "start_time": "2023-07-01T03:32:52.401119",
          "status": "completed"
        },
        "tags": []
      },
      "source": [
        "## IO"
      ]
    },
    {
      "cell_type": "code",
      "execution_count": 8,
      "id": "d0226d91bc79216c",
      "metadata": {
        "execution": {
          "iopub.execute_input": "2023-07-01T03:32:52.407918Z",
          "iopub.status.busy": "2023-07-01T03:32:52.407731Z",
          "iopub.status.idle": "2023-07-01T03:32:52.410331Z",
          "shell.execute_reply": "2023-07-01T03:32:52.409948Z"
        },
        "papermill": {
          "duration": 0.00694,
          "end_time": "2023-07-01T03:32:52.412047",
          "exception": false,
          "start_time": "2023-07-01T03:32:52.405107",
          "status": "completed"
        },
        "tags": []
      },
      "outputs": [],
      "source": [
        "\n",
        "from sax.nn.io import (\n",
        "    load_nn_weights_json as load_nn_weights_json,\n",
        "    save_nn_weights_json as save_nn_weights_json,\n",
        "    get_available_sizes as get_available_sizes,\n",
        "    get_dense_weights_path as get_dense_weights_path,\n",
        "    get_norm_path as get_norm_path,\n",
        "    load_nn_dense as load_nn_dense,\n",
        ")"
      ]
    }
  ],
  "metadata": {
    "kernelspec": {
      "display_name": "sax",
      "language": "python",
      "name": "sax"
    },
    "language_info": {
      "codemirror_mode": {
        "name": "ipython",
        "version": 3
      },
      "file_extension": ".py",
      "mimetype": "text/x-python",
      "name": "python",
      "nbconvert_exporter": "python",
      "pygments_lexer": "ipython3",
      "version": "3.11.4"
    },
    "papermill": {
      "default_parameters": {},
      "duration": 2.655072,
      "end_time": "2023-07-01T03:32:52.739824",
      "environment_variables": {},
      "exception": null,
      "input_path": "./nbs/09_nn.ipynb",
      "output_path": "./nbs/09_nn.ipynb",
      "parameters": {},
      "start_time": "2023-07-01T03:32:50.084752",
      "version": "2.3.4"
    }
  },
  "nbformat": 4,
  "nbformat_minor": 5
}