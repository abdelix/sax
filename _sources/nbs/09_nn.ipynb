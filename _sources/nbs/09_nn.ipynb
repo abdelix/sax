{
  "cells": [
    {
      "cell_type": "code",
      "execution_count": 1,
      "id": "4ddd72ac2ee486f3",
      "metadata": {
        "execution": {
          "iopub.execute_input": "2023-06-01T21:10:53.516653Z",
          "iopub.status.busy": "2023-06-01T21:10:53.516407Z",
          "iopub.status.idle": "2023-06-01T21:10:53.520206Z",
          "shell.execute_reply": "2023-06-01T21:10:53.519723Z"
        },
        "papermill": {
          "duration": 0.008555,
          "end_time": "2023-06-01T21:10:53.521573",
          "exception": false,
          "start_time": "2023-06-01T21:10:53.513018",
          "status": "completed"
        },
        "tags": [
          "remove-cell"
        ]
      },
      "outputs": [],
      "source": []
    },
    {
      "cell_type": "markdown",
      "id": "36903b9f",
      "metadata": {
        "papermill": {
          "duration": 0.001769,
          "end_time": "2023-06-01T21:10:53.526673",
          "exception": false,
          "start_time": "2023-06-01T21:10:53.524904",
          "status": "completed"
        },
        "tags": []
      },
      "source": [
        "# Neural Networks\n",
        "\n",
        "> Utilitites for creating advanced neural network SAX Models"
      ]
    },
    {
      "cell_type": "code",
      "execution_count": 2,
      "id": "5b308ef022351533",
      "metadata": {
        "execution": {
          "iopub.execute_input": "2023-06-01T21:10:53.531249Z",
          "iopub.status.busy": "2023-06-01T21:10:53.531054Z",
          "iopub.status.idle": "2023-06-01T21:10:53.535764Z",
          "shell.execute_reply": "2023-06-01T21:10:53.535313Z"
        },
        "papermill": {
          "duration": 0.008991,
          "end_time": "2023-06-01T21:10:53.537467",
          "exception": false,
          "start_time": "2023-06-01T21:10:53.528476",
          "status": "completed"
        },
        "tags": [
          "hide-input"
        ]
      },
      "outputs": [],
      "source": [
        "from __future__ import annotations"
      ]
    },
    {
      "cell_type": "code",
      "execution_count": 3,
      "id": "e8eeb29177ed4a55",
      "metadata": {
        "execution": {
          "iopub.execute_input": "2023-06-01T21:10:53.541924Z",
          "iopub.status.busy": "2023-06-01T21:10:53.541741Z",
          "iopub.status.idle": "2023-06-01T21:10:53.544262Z",
          "shell.execute_reply": "2023-06-01T21:10:53.543913Z"
        },
        "papermill": {
          "duration": 0.006896,
          "end_time": "2023-06-01T21:10:53.546176",
          "exception": false,
          "start_time": "2023-06-01T21:10:53.539280",
          "status": "completed"
        },
        "tags": [
          "remove-cell"
        ]
      },
      "outputs": [],
      "source": [
        "import os, sys; sys.stderr = open(os.devnull, \"w\")"
      ]
    },
    {
      "cell_type": "markdown",
      "id": "24790eed-f741-4d07-91c9-a731ebcfc3f0",
      "metadata": {
        "papermill": {
          "duration": 0.001778,
          "end_time": "2023-06-01T21:10:53.549824",
          "exception": false,
          "start_time": "2023-06-01T21:10:53.548046",
          "status": "completed"
        },
        "tags": []
      },
      "source": [
        "## Check"
      ]
    },
    {
      "cell_type": "code",
      "execution_count": 4,
      "id": "71ee14ba-949f-4025-8813-5a6bf01b8464",
      "metadata": {
        "execution": {
          "iopub.execute_input": "2023-06-01T21:10:53.554291Z",
          "iopub.status.busy": "2023-06-01T21:10:53.554106Z",
          "iopub.status.idle": "2023-06-01T21:10:53.957006Z",
          "shell.execute_reply": "2023-06-01T21:10:53.956540Z"
        },
        "papermill": {
          "duration": 0.40704,
          "end_time": "2023-06-01T21:10:53.958661",
          "exception": false,
          "start_time": "2023-06-01T21:10:53.551621",
          "status": "completed"
        },
        "tags": []
      },
      "outputs": [],
      "source": [
        "try:\n",
        "    import jax\n",
        "except ImportError:\n",
        "    raise ImportError(\"[NO JAX] Cannot import sax.nn. Please install JAX first!\")"
      ]
    },
    {
      "cell_type": "markdown",
      "id": "75fbba73",
      "metadata": {
        "papermill": {
          "duration": 0.001893,
          "end_time": "2023-06-01T21:10:53.962707",
          "exception": false,
          "start_time": "2023-06-01T21:10:53.960814",
          "status": "completed"
        },
        "tags": []
      },
      "source": [
        "## Loss"
      ]
    },
    {
      "cell_type": "code",
      "execution_count": 5,
      "id": "2da984efc9b88408",
      "metadata": {
        "execution": {
          "iopub.execute_input": "2023-06-01T21:10:53.967919Z",
          "iopub.status.busy": "2023-06-01T21:10:53.967467Z",
          "iopub.status.idle": "2023-06-01T21:10:54.645442Z",
          "shell.execute_reply": "2023-06-01T21:10:54.644993Z"
        },
        "papermill": {
          "duration": 0.682268,
          "end_time": "2023-06-01T21:10:54.646895",
          "exception": false,
          "start_time": "2023-06-01T21:10:53.964627",
          "status": "completed"
        },
        "tags": []
      },
      "outputs": [],
      "source": [
        "\n",
        "from sax.nn.loss import huber_loss as huber_loss\n",
        "from sax.nn.loss import l2_reg as l2_reg\n",
        "from sax.nn.loss import mse as mse"
      ]
    },
    {
      "cell_type": "markdown",
      "id": "1a18faa2",
      "metadata": {
        "papermill": {
          "duration": 0.001914,
          "end_time": "2023-06-01T21:10:54.650974",
          "exception": false,
          "start_time": "2023-06-01T21:10:54.649060",
          "status": "completed"
        },
        "tags": []
      },
      "source": [
        "## Utils"
      ]
    },
    {
      "cell_type": "code",
      "execution_count": 6,
      "id": "f50ca00acca44d54",
      "metadata": {
        "execution": {
          "iopub.execute_input": "2023-06-01T21:10:54.655897Z",
          "iopub.status.busy": "2023-06-01T21:10:54.655480Z",
          "iopub.status.idle": "2023-06-01T21:10:54.658248Z",
          "shell.execute_reply": "2023-06-01T21:10:54.657829Z"
        },
        "papermill": {
          "duration": 0.006603,
          "end_time": "2023-06-01T21:10:54.659397",
          "exception": false,
          "start_time": "2023-06-01T21:10:54.652794",
          "status": "completed"
        },
        "tags": []
      },
      "outputs": [],
      "source": [
        "\n",
        "from sax.nn.utils import (\n",
        "    cartesian_product as cartesian_product,\n",
        "    denormalize as denormalize,\n",
        "    get_normalization as get_normalization,\n",
        "    get_df_columns as get_df_columns,\n",
        "    normalize as normalize,\n",
        ")"
      ]
    },
    {
      "cell_type": "markdown",
      "id": "ef010b3c",
      "metadata": {
        "papermill": {
          "duration": 0.001827,
          "end_time": "2023-06-01T21:10:54.663126",
          "exception": false,
          "start_time": "2023-06-01T21:10:54.661299",
          "status": "completed"
        },
        "tags": []
      },
      "source": [
        "## Core"
      ]
    },
    {
      "cell_type": "code",
      "execution_count": 7,
      "id": "c7ec2591fbd2bd6a",
      "metadata": {
        "execution": {
          "iopub.execute_input": "2023-06-01T21:10:54.668065Z",
          "iopub.status.busy": "2023-06-01T21:10:54.667560Z",
          "iopub.status.idle": "2023-06-01T21:10:54.670258Z",
          "shell.execute_reply": "2023-06-01T21:10:54.669860Z"
        },
        "papermill": {
          "duration": 0.006441,
          "end_time": "2023-06-01T21:10:54.671392",
          "exception": false,
          "start_time": "2023-06-01T21:10:54.664951",
          "status": "completed"
        },
        "tags": []
      },
      "outputs": [],
      "source": [
        "\n",
        "from sax.nn.core import (\n",
        "    preprocess as preprocess,\n",
        "    dense as dense,\n",
        "    generate_dense_weights as generate_dense_weights,\n",
        ")"
      ]
    },
    {
      "cell_type": "markdown",
      "id": "5e96c647",
      "metadata": {
        "papermill": {
          "duration": 0.001875,
          "end_time": "2023-06-01T21:10:54.675132",
          "exception": false,
          "start_time": "2023-06-01T21:10:54.673257",
          "status": "completed"
        },
        "tags": []
      },
      "source": [
        "## IO"
      ]
    },
    {
      "cell_type": "code",
      "execution_count": 8,
      "id": "35ce052a5e4f8b9e",
      "metadata": {
        "execution": {
          "iopub.execute_input": "2023-06-01T21:10:54.680060Z",
          "iopub.status.busy": "2023-06-01T21:10:54.679606Z",
          "iopub.status.idle": "2023-06-01T21:10:54.682390Z",
          "shell.execute_reply": "2023-06-01T21:10:54.681993Z"
        },
        "papermill": {
          "duration": 0.006414,
          "end_time": "2023-06-01T21:10:54.683499",
          "exception": false,
          "start_time": "2023-06-01T21:10:54.677085",
          "status": "completed"
        },
        "tags": []
      },
      "outputs": [],
      "source": [
        "\n",
        "from sax.nn.io import (\n",
        "    load_nn_weights_json as load_nn_weights_json,\n",
        "    save_nn_weights_json as save_nn_weights_json,\n",
        "    get_available_sizes as get_available_sizes,\n",
        "    get_dense_weights_path as get_dense_weights_path,\n",
        "    get_norm_path as get_norm_path,\n",
        "    load_nn_dense as load_nn_dense,\n",
        ")"
      ]
    }
  ],
  "metadata": {
    "kernelspec": {
      "display_name": "sax",
      "language": "python",
      "name": "sax"
    },
    "language_info": {
      "codemirror_mode": {
        "name": "ipython",
        "version": 3
      },
      "file_extension": ".py",
      "mimetype": "text/x-python",
      "name": "python",
      "nbconvert_exporter": "python",
      "pygments_lexer": "ipython3",
      "version": "3.11.3"
    },
    "papermill": {
      "default_parameters": {},
      "duration": 3.115121,
      "end_time": "2023-06-01T21:10:55.202473",
      "environment_variables": {},
      "exception": null,
      "input_path": "./nbs/09_nn.ipynb",
      "output_path": "./nbs/09_nn.ipynb",
      "parameters": {},
      "start_time": "2023-06-01T21:10:52.087352",
      "version": "2.3.4"
    }
  },
  "nbformat": 4,
  "nbformat_minor": 5
}