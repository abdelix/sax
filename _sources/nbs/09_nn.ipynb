{
  "cells": [
    {
      "cell_type": "code",
      "execution_count": 1,
      "id": "b2f0863f2d2da0c1",
      "metadata": {
        "execution": {
          "iopub.execute_input": "2023-07-01T03:33:17.152568Z",
          "iopub.status.busy": "2023-07-01T03:33:17.152307Z",
          "iopub.status.idle": "2023-07-01T03:33:17.157910Z",
          "shell.execute_reply": "2023-07-01T03:33:17.157404Z"
        },
        "papermill": {
          "duration": 0.010804,
          "end_time": "2023-07-01T03:33:17.159381",
          "exception": false,
          "start_time": "2023-07-01T03:33:17.148577",
          "status": "completed"
        },
        "tags": [
          "remove-cell"
        ]
      },
      "outputs": [],
      "source": []
    },
    {
      "cell_type": "markdown",
      "id": "36903b9f",
      "metadata": {
        "papermill": {
          "duration": 0.001933,
          "end_time": "2023-07-01T03:33:17.163623",
          "exception": false,
          "start_time": "2023-07-01T03:33:17.161690",
          "status": "completed"
        },
        "tags": []
      },
      "source": [
        "# Neural Networks\n",
        "\n",
        "> Utilitites for creating advanced neural network SAX Models"
      ]
    },
    {
      "cell_type": "code",
      "execution_count": 2,
      "id": "9b3e077abc931749",
      "metadata": {
        "execution": {
          "iopub.execute_input": "2023-07-01T03:33:17.168311Z",
          "iopub.status.busy": "2023-07-01T03:33:17.168110Z",
          "iopub.status.idle": "2023-07-01T03:33:17.173151Z",
          "shell.execute_reply": "2023-07-01T03:33:17.172659Z"
        },
        "papermill": {
          "duration": 0.009374,
          "end_time": "2023-07-01T03:33:17.174901",
          "exception": false,
          "start_time": "2023-07-01T03:33:17.165527",
          "status": "completed"
        },
        "tags": [
          "hide-input"
        ]
      },
      "outputs": [],
      "source": [
        "from __future__ import annotations"
      ]
    },
    {
      "cell_type": "code",
      "execution_count": 3,
      "id": "fca0066f34318ca5",
      "metadata": {
        "execution": {
          "iopub.execute_input": "2023-07-01T03:33:17.179716Z",
          "iopub.status.busy": "2023-07-01T03:33:17.179523Z",
          "iopub.status.idle": "2023-07-01T03:33:17.182110Z",
          "shell.execute_reply": "2023-07-01T03:33:17.181740Z"
        },
        "papermill": {
          "duration": 0.007093,
          "end_time": "2023-07-01T03:33:17.183891",
          "exception": false,
          "start_time": "2023-07-01T03:33:17.176798",
          "status": "completed"
        },
        "tags": [
          "remove-cell"
        ]
      },
      "outputs": [],
      "source": [
        "import os, sys; sys.stderr = open(os.devnull, \"w\")"
      ]
    },
    {
      "cell_type": "markdown",
      "id": "24790eed-f741-4d07-91c9-a731ebcfc3f0",
      "metadata": {
        "papermill": {
          "duration": 0.001896,
          "end_time": "2023-07-01T03:33:17.187654",
          "exception": false,
          "start_time": "2023-07-01T03:33:17.185758",
          "status": "completed"
        },
        "tags": []
      },
      "source": [
        "## Check"
      ]
    },
    {
      "cell_type": "code",
      "execution_count": 4,
      "id": "71ee14ba-949f-4025-8813-5a6bf01b8464",
      "metadata": {
        "execution": {
          "iopub.execute_input": "2023-07-01T03:33:17.192362Z",
          "iopub.status.busy": "2023-07-01T03:33:17.192176Z",
          "iopub.status.idle": "2023-07-01T03:33:17.671884Z",
          "shell.execute_reply": "2023-07-01T03:33:17.671446Z"
        },
        "papermill": {
          "duration": 0.484085,
          "end_time": "2023-07-01T03:33:17.673635",
          "exception": false,
          "start_time": "2023-07-01T03:33:17.189550",
          "status": "completed"
        },
        "tags": []
      },
      "outputs": [],
      "source": [
        "try:\n",
        "    import jax\n",
        "except ImportError:\n",
        "    raise ImportError(\"[NO JAX] Cannot import sax.nn. Please install JAX first!\")"
      ]
    },
    {
      "cell_type": "markdown",
      "id": "75fbba73",
      "metadata": {
        "papermill": {
          "duration": 0.002064,
          "end_time": "2023-07-01T03:33:17.677960",
          "exception": false,
          "start_time": "2023-07-01T03:33:17.675896",
          "status": "completed"
        },
        "tags": []
      },
      "source": [
        "## Loss"
      ]
    },
    {
      "cell_type": "code",
      "execution_count": 5,
      "id": "2fdb9af0fba21967",
      "metadata": {
        "execution": {
          "iopub.execute_input": "2023-07-01T03:33:17.683590Z",
          "iopub.status.busy": "2023-07-01T03:33:17.683128Z",
          "iopub.status.idle": "2023-07-01T03:33:18.381137Z",
          "shell.execute_reply": "2023-07-01T03:33:18.380701Z"
        },
        "papermill": {
          "duration": 0.70264,
          "end_time": "2023-07-01T03:33:18.382875",
          "exception": false,
          "start_time": "2023-07-01T03:33:17.680235",
          "status": "completed"
        },
        "tags": []
      },
      "outputs": [],
      "source": [
        "\n",
        "from sax.nn.loss import huber_loss as huber_loss\n",
        "from sax.nn.loss import l2_reg as l2_reg\n",
        "from sax.nn.loss import mse as mse"
      ]
    },
    {
      "cell_type": "markdown",
      "id": "1a18faa2",
      "metadata": {
        "papermill": {
          "duration": 0.002056,
          "end_time": "2023-07-01T03:33:18.387166",
          "exception": false,
          "start_time": "2023-07-01T03:33:18.385110",
          "status": "completed"
        },
        "tags": []
      },
      "source": [
        "## Utils"
      ]
    },
    {
      "cell_type": "code",
      "execution_count": 6,
      "id": "46854255d43168d2",
      "metadata": {
        "execution": {
          "iopub.execute_input": "2023-07-01T03:33:18.392791Z",
          "iopub.status.busy": "2023-07-01T03:33:18.392377Z",
          "iopub.status.idle": "2023-07-01T03:33:18.395139Z",
          "shell.execute_reply": "2023-07-01T03:33:18.394761Z"
        },
        "papermill": {
          "duration": 0.007821,
          "end_time": "2023-07-01T03:33:18.396937",
          "exception": false,
          "start_time": "2023-07-01T03:33:18.389116",
          "status": "completed"
        },
        "tags": []
      },
      "outputs": [],
      "source": [
        "\n",
        "from sax.nn.utils import (\n",
        "    cartesian_product as cartesian_product,\n",
        "    denormalize as denormalize,\n",
        "    get_normalization as get_normalization,\n",
        "    get_df_columns as get_df_columns,\n",
        "    normalize as normalize,\n",
        ")"
      ]
    },
    {
      "cell_type": "markdown",
      "id": "ef010b3c",
      "metadata": {
        "papermill": {
          "duration": 0.001948,
          "end_time": "2023-07-01T03:33:18.400899",
          "exception": false,
          "start_time": "2023-07-01T03:33:18.398951",
          "status": "completed"
        },
        "tags": []
      },
      "source": [
        "## Core"
      ]
    },
    {
      "cell_type": "code",
      "execution_count": 7,
      "id": "2204ee360557ac35",
      "metadata": {
        "execution": {
          "iopub.execute_input": "2023-07-01T03:33:18.405919Z",
          "iopub.status.busy": "2023-07-01T03:33:18.405718Z",
          "iopub.status.idle": "2023-07-01T03:33:18.409775Z",
          "shell.execute_reply": "2023-07-01T03:33:18.409401Z"
        },
        "papermill": {
          "duration": 0.008637,
          "end_time": "2023-07-01T03:33:18.411531",
          "exception": false,
          "start_time": "2023-07-01T03:33:18.402894",
          "status": "completed"
        },
        "tags": []
      },
      "outputs": [],
      "source": [
        "\n",
        "from sax.nn.core import (\n",
        "    preprocess as preprocess,\n",
        "    dense as dense,\n",
        "    generate_dense_weights as generate_dense_weights,\n",
        ")"
      ]
    },
    {
      "cell_type": "markdown",
      "id": "5e96c647",
      "metadata": {
        "papermill": {
          "duration": 0.002058,
          "end_time": "2023-07-01T03:33:18.415561",
          "exception": false,
          "start_time": "2023-07-01T03:33:18.413503",
          "status": "completed"
        },
        "tags": []
      },
      "source": [
        "## IO"
      ]
    },
    {
      "cell_type": "code",
      "execution_count": 8,
      "id": "9669a11a2869718d",
      "metadata": {
        "execution": {
          "iopub.execute_input": "2023-07-01T03:33:18.420508Z",
          "iopub.status.busy": "2023-07-01T03:33:18.420315Z",
          "iopub.status.idle": "2023-07-01T03:33:18.422944Z",
          "shell.execute_reply": "2023-07-01T03:33:18.422584Z"
        },
        "papermill": {
          "duration": 0.007162,
          "end_time": "2023-07-01T03:33:18.424708",
          "exception": false,
          "start_time": "2023-07-01T03:33:18.417546",
          "status": "completed"
        },
        "tags": []
      },
      "outputs": [],
      "source": [
        "\n",
        "from sax.nn.io import (\n",
        "    load_nn_weights_json as load_nn_weights_json,\n",
        "    save_nn_weights_json as save_nn_weights_json,\n",
        "    get_available_sizes as get_available_sizes,\n",
        "    get_dense_weights_path as get_dense_weights_path,\n",
        "    get_norm_path as get_norm_path,\n",
        "    load_nn_dense as load_nn_dense,\n",
        ")"
      ]
    }
  ],
  "metadata": {
    "kernelspec": {
      "display_name": "sax",
      "language": "python",
      "name": "sax"
    },
    "language_info": {
      "codemirror_mode": {
        "name": "ipython",
        "version": 3
      },
      "file_extension": ".py",
      "mimetype": "text/x-python",
      "name": "python",
      "nbconvert_exporter": "python",
      "pygments_lexer": "ipython3",
      "version": "3.11.4"
    },
    "papermill": {
      "default_parameters": {},
      "duration": 2.898538,
      "end_time": "2023-07-01T03:33:18.854664",
      "environment_variables": {},
      "exception": null,
      "input_path": "./nbs/09_nn.ipynb",
      "output_path": "./nbs/09_nn.ipynb",
      "parameters": {},
      "start_time": "2023-07-01T03:33:15.956126",
      "version": "2.3.4"
    }
  },
  "nbformat": 4,
  "nbformat_minor": 5
}