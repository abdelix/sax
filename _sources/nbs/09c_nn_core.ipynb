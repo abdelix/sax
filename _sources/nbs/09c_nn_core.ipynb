{
  "cells": [
    {
      "cell_type": "code",
      "execution_count": 1,
      "id": "b45941d35f9032ef",
      "metadata": {
        "execution": {
          "iopub.execute_input": "2023-07-01T03:32:38.674955Z",
          "iopub.status.busy": "2023-07-01T03:32:38.674705Z",
          "iopub.status.idle": "2023-07-01T03:32:38.679194Z",
          "shell.execute_reply": "2023-07-01T03:32:38.678698Z"
        },
        "papermill": {
          "duration": 0.008556,
          "end_time": "2023-07-01T03:32:38.680452",
          "exception": false,
          "start_time": "2023-07-01T03:32:38.671896",
          "status": "completed"
        },
        "tags": [
          "remove-cell"
        ]
      },
      "outputs": [],
      "source": []
    },
    {
      "cell_type": "markdown",
      "id": "ad9dbb7f",
      "metadata": {
        "papermill": {
          "duration": 0.001392,
          "end_time": "2023-07-01T03:32:38.683362",
          "exception": false,
          "start_time": "2023-07-01T03:32:38.681970",
          "status": "completed"
        },
        "tags": []
      },
      "source": [
        "# Core\n",
        "\n",
        "> Core for SAX neural networks"
      ]
    },
    {
      "cell_type": "code",
      "execution_count": 2,
      "id": "5bb76e4186ffe320",
      "metadata": {
        "execution": {
          "iopub.execute_input": "2023-07-01T03:32:38.686712Z",
          "iopub.status.busy": "2023-07-01T03:32:38.686528Z",
          "iopub.status.idle": "2023-07-01T03:32:39.470110Z",
          "shell.execute_reply": "2023-07-01T03:32:39.469601Z"
        },
        "papermill": {
          "duration": 0.78708,
          "end_time": "2023-07-01T03:32:39.471699",
          "exception": false,
          "start_time": "2023-07-01T03:32:38.684619",
          "status": "completed"
        },
        "tags": [
          "remove-cell"
        ]
      },
      "outputs": [],
      "source": [
        "import matplotlib.pyplot as plt\n",
        "from fastcore.test import test_eq\n",
        "from pytest import approx, raises\n",
        "\n",
        "import os, sys; sys.stderr = open(os.devnull, \"w\")"
      ]
    },
    {
      "cell_type": "code",
      "execution_count": 3,
      "id": "0f609252adac4fa9",
      "metadata": {
        "execution": {
          "iopub.execute_input": "2023-07-01T03:32:39.476396Z",
          "iopub.status.busy": "2023-07-01T03:32:39.475930Z",
          "iopub.status.idle": "2023-07-01T03:32:41.019232Z",
          "shell.execute_reply": "2023-07-01T03:32:41.018780Z"
        },
        "papermill": {
          "duration": 1.547456,
          "end_time": "2023-07-01T03:32:41.020749",
          "exception": false,
          "start_time": "2023-07-01T03:32:39.473293",
          "status": "completed"
        },
        "tags": [
          "hide-input"
        ]
      },
      "outputs": [],
      "source": [
        "from __future__ import annotations\n",
        "\n",
        "from typing import Callable, Dict, Optional, Tuple, Union\n",
        "\n",
        "import jax\n",
        "import jax.numpy as jnp\n",
        "from sax.nn.utils import denormalize, normalize\n",
        "from sax.typing_ import Array, ComplexFloat"
      ]
    },
    {
      "cell_type": "markdown",
      "id": "ddcb70dd6c88e211",
      "metadata": {},
      "source": [
        ":::{eval-rst}\n",
        ".. autofunction:: sax.nn.core.preprocess\n",
        ":::\n"
      ]
    },
    {
      "cell_type": "code",
      "execution_count": 4,
      "id": "255413a6b45a3f13",
      "metadata": {
        "execution": {
          "iopub.execute_input": "2023-07-01T03:32:41.025261Z",
          "iopub.status.busy": "2023-07-01T03:32:41.024725Z",
          "iopub.status.idle": "2023-07-01T03:32:41.029113Z",
          "shell.execute_reply": "2023-07-01T03:32:41.028698Z"
        },
        "papermill": {
          "duration": 0.007979,
          "end_time": "2023-07-01T03:32:41.030324",
          "exception": false,
          "start_time": "2023-07-01T03:32:41.022345",
          "status": "completed"
        },
        "tags": [
          "hide-input"
        ]
      },
      "outputs": [],
      "source": [
        "def preprocess(*params: ComplexFloat) -> ComplexFloat:\n",
        "    \"\"\"preprocess parameters\n",
        "\n",
        "    > Note: (1) all arguments are first casted into the same shape. (2) then pairs \n",
        "      of arguments are divided into each other to create relative arguments. (3) all \n",
        "      arguments are then stacked into one big tensor\n",
        "    \"\"\"\n",
        "    x = jnp.stack(jnp.broadcast_arrays(*params), -1)\n",
        "    assert isinstance(x, jnp.ndarray)\n",
        "    to_concatenate = [x]\n",
        "    for i in range(1, x.shape[-1]):\n",
        "        _x = jnp.roll(x, shift=i, axis=-1)\n",
        "        to_concatenate.append(x / _x)\n",
        "        to_concatenate.append(_x / x)\n",
        "    x = jnp.concatenate(to_concatenate, -1)\n",
        "    assert isinstance(x, jnp.ndarray)\n",
        "    return x"
      ]
    },
    {
      "cell_type": "markdown",
      "id": "7944268779b6a3e8",
      "metadata": {},
      "source": [
        ":::{eval-rst}\n",
        ".. autofunction:: sax.nn.core.dense\n",
        ":::\n"
      ]
    },
    {
      "cell_type": "code",
      "execution_count": 5,
      "id": "55449da75b6ce0c1",
      "metadata": {
        "execution": {
          "iopub.execute_input": "2023-07-01T03:32:41.034293Z",
          "iopub.status.busy": "2023-07-01T03:32:41.033828Z",
          "iopub.status.idle": "2023-07-01T03:32:41.038184Z",
          "shell.execute_reply": "2023-07-01T03:32:41.037836Z"
        },
        "papermill": {
          "duration": 0.007615,
          "end_time": "2023-07-01T03:32:41.039330",
          "exception": false,
          "start_time": "2023-07-01T03:32:41.031715",
          "status": "completed"
        },
        "tags": [
          "hide-input"
        ]
      },
      "outputs": [],
      "source": [
        "def dense(\n",
        "    weights: Dict[str, Array],\n",
        "    *params: ComplexFloat,\n",
        "    x_norm: Tuple[float, float] = (0.0, 1.0),\n",
        "    y_norm: Tuple[float, float] = (0.0, 1.0),\n",
        "    preprocess: Callable = preprocess,\n",
        "    activation: Callable = jax.nn.leaky_relu,\n",
        ") -> ComplexFloat:\n",
        "    \"\"\"simple dense neural network\"\"\"\n",
        "    x_mean, x_std = x_norm\n",
        "    y_mean, y_std = y_norm\n",
        "    x = preprocess(*params)\n",
        "    x = normalize(x, mean=x_mean, std=x_std)\n",
        "    for i in range(len([w for w in weights if w.startswith(\"w\")])):\n",
        "        x = activation(x @ weights[f\"w{i}\"] + weights.get(f\"b{i}\", 0.0))\n",
        "    y = denormalize(x, mean=y_mean, std=y_std)\n",
        "    return y"
      ]
    },
    {
      "cell_type": "markdown",
      "id": "c8d26673d6d1f89f",
      "metadata": {},
      "source": [
        ":::{eval-rst}\n",
        ".. autofunction:: sax.nn.core.generate_dense_weights\n",
        ":::\n"
      ]
    },
    {
      "cell_type": "code",
      "execution_count": 6,
      "id": "6616db585fdccea1",
      "metadata": {
        "execution": {
          "iopub.execute_input": "2023-07-01T03:32:41.043059Z",
          "iopub.status.busy": "2023-07-01T03:32:41.042649Z",
          "iopub.status.idle": "2023-07-01T03:32:41.048010Z",
          "shell.execute_reply": "2023-07-01T03:32:41.047641Z"
        },
        "papermill": {
          "duration": 0.00855,
          "end_time": "2023-07-01T03:32:41.049209",
          "exception": false,
          "start_time": "2023-07-01T03:32:41.040659",
          "status": "completed"
        },
        "tags": [
          "hide-input"
        ]
      },
      "outputs": [],
      "source": [
        "def generate_dense_weights(\n",
        "    key: Union[int, Array],\n",
        "    sizes: Tuple[int, ...],\n",
        "    input_names: Optional[Tuple[str, ...]] = None,\n",
        "    output_names: Optional[Tuple[str, ...]] = None,\n",
        "    preprocess=preprocess,\n",
        ") -> Dict[str, ComplexFloat]:\n",
        "    \"\"\"Generate the weights for a dense neural network\"\"\"\n",
        "\n",
        "    if isinstance(key, int):\n",
        "        key = jax.random.PRNGKey(key)\n",
        "    assert isinstance(key, jnp.ndarray)\n",
        "\n",
        "    sizes = tuple(s for s in sizes)\n",
        "    if input_names:\n",
        "        arr = preprocess(*jnp.ones(len(input_names)))\n",
        "        assert isinstance(arr, jnp.ndarray)\n",
        "        sizes = (arr.shape[-1],) + sizes\n",
        "    if output_names:\n",
        "        sizes = sizes + (len(output_names),)\n",
        "\n",
        "    keys = jax.random.split(key, 2 * len(sizes))\n",
        "    rand = jax.nn.initializers.lecun_normal()\n",
        "    weights = {}\n",
        "    for i, (m, n) in enumerate(zip(sizes[:-1], sizes[1:])):\n",
        "        weights[f\"w{i}\"] = rand(keys[2 * i], (m, n))\n",
        "        weights[f\"b{i}\"] = rand(keys[2 * i + 1], (1, n)).ravel()\n",
        "\n",
        "    return weights"
      ]
    }
  ],
  "metadata": {
    "kernelspec": {
      "display_name": "sax",
      "language": "python",
      "name": "sax"
    },
    "language_info": {
      "codemirror_mode": {
        "name": "ipython",
        "version": 3
      },
      "file_extension": ".py",
      "mimetype": "text/x-python",
      "name": "python",
      "nbconvert_exporter": "python",
      "pygments_lexer": "ipython3",
      "version": "3.11.4"
    },
    "papermill": {
      "default_parameters": {},
      "duration": 4.401221,
      "end_time": "2023-07-01T03:32:41.769494",
      "environment_variables": {},
      "exception": null,
      "input_path": "./nbs/09c_nn_core.ipynb",
      "output_path": "./nbs/09c_nn_core.ipynb",
      "parameters": {},
      "start_time": "2023-07-01T03:32:37.368273",
      "version": "2.3.4"
    }
  },
  "nbformat": 4,
  "nbformat_minor": 5
}