{
  "cells": [
    {
      "cell_type": "code",
      "execution_count": 1,
      "id": "a8ae2304791415fc",
      "metadata": {
        "execution": {
          "iopub.execute_input": "2023-06-01T21:32:59.365981Z",
          "iopub.status.busy": "2023-06-01T21:32:59.365487Z",
          "iopub.status.idle": "2023-06-01T21:32:59.369609Z",
          "shell.execute_reply": "2023-06-01T21:32:59.369141Z"
        },
        "papermill": {
          "duration": 0.008707,
          "end_time": "2023-06-01T21:32:59.371023",
          "exception": false,
          "start_time": "2023-06-01T21:32:59.362316",
          "status": "completed"
        },
        "tags": [
          "remove-cell"
        ]
      },
      "outputs": [],
      "source": []
    },
    {
      "cell_type": "markdown",
      "id": "ad9dbb7f",
      "metadata": {
        "papermill": {
          "duration": 0.001245,
          "end_time": "2023-06-01T21:32:59.373761",
          "exception": false,
          "start_time": "2023-06-01T21:32:59.372516",
          "status": "completed"
        },
        "tags": []
      },
      "source": [
        "# Core\n",
        "\n",
        "> Core for SAX neural networks"
      ]
    },
    {
      "cell_type": "code",
      "execution_count": 2,
      "id": "929735b008486a46",
      "metadata": {
        "execution": {
          "iopub.execute_input": "2023-06-01T21:32:59.378391Z",
          "iopub.status.busy": "2023-06-01T21:32:59.378204Z",
          "iopub.status.idle": "2023-06-01T21:32:59.854766Z",
          "shell.execute_reply": "2023-06-01T21:32:59.854329Z"
        },
        "papermill": {
          "duration": 0.480238,
          "end_time": "2023-06-01T21:32:59.856486",
          "exception": false,
          "start_time": "2023-06-01T21:32:59.376248",
          "status": "completed"
        },
        "tags": [
          "remove-cell"
        ]
      },
      "outputs": [],
      "source": [
        "import matplotlib.pyplot as plt\n",
        "from fastcore.test import test_eq\n",
        "from pytest import approx, raises\n",
        "\n",
        "import os, sys; sys.stderr = open(os.devnull, \"w\")"
      ]
    },
    {
      "cell_type": "code",
      "execution_count": 3,
      "id": "921de987281394c7",
      "metadata": {
        "execution": {
          "iopub.execute_input": "2023-06-01T21:32:59.861812Z",
          "iopub.status.busy": "2023-06-01T21:32:59.860688Z",
          "iopub.status.idle": "2023-06-01T21:33:00.832170Z",
          "shell.execute_reply": "2023-06-01T21:33:00.831752Z"
        },
        "papermill": {
          "duration": 0.975781,
          "end_time": "2023-06-01T21:33:00.833797",
          "exception": false,
          "start_time": "2023-06-01T21:32:59.858016",
          "status": "completed"
        },
        "tags": [
          "hide-input"
        ]
      },
      "outputs": [],
      "source": [
        "from __future__ import annotations\n",
        "\n",
        "from typing import Callable, Dict, Optional, Tuple, Union\n",
        "\n",
        "import jax\n",
        "import jax.numpy as jnp\n",
        "from sax.nn.utils import denormalize, normalize\n",
        "from sax.typing_ import Array, ComplexFloat"
      ]
    },
    {
      "cell_type": "markdown",
      "id": "abb450f367510774",
      "metadata": {},
      "source": [
        ":::{eval-rst}\n",
        ".. autofunction:: sax.nn.core.preprocess\n",
        ":::\n"
      ]
    },
    {
      "cell_type": "code",
      "execution_count": 4,
      "id": "0129ee9501e0b9ea",
      "metadata": {
        "execution": {
          "iopub.execute_input": "2023-06-01T21:33:00.838879Z",
          "iopub.status.busy": "2023-06-01T21:33:00.837821Z",
          "iopub.status.idle": "2023-06-01T21:33:00.842933Z",
          "shell.execute_reply": "2023-06-01T21:33:00.842606Z"
        },
        "papermill": {
          "duration": 0.008875,
          "end_time": "2023-06-01T21:33:00.844191",
          "exception": false,
          "start_time": "2023-06-01T21:33:00.835316",
          "status": "completed"
        },
        "tags": [
          "hide-input"
        ]
      },
      "outputs": [],
      "source": [
        "def preprocess(*params: ComplexFloat) -> ComplexFloat:\n",
        "    \"\"\"preprocess parameters\n",
        "\n",
        "    > Note: (1) all arguments are first casted into the same shape. (2) then pairs \n",
        "      of arguments are divided into each other to create relative arguments. (3) all \n",
        "      arguments are then stacked into one big tensor\n",
        "    \"\"\"\n",
        "    x = jnp.stack(jnp.broadcast_arrays(*params), -1)\n",
        "    assert isinstance(x, jnp.ndarray)\n",
        "    to_concatenate = [x]\n",
        "    for i in range(1, x.shape[-1]):\n",
        "        _x = jnp.roll(x, shift=i, axis=-1)\n",
        "        to_concatenate.append(x / _x)\n",
        "        to_concatenate.append(_x / x)\n",
        "    x = jnp.concatenate(to_concatenate, -1)\n",
        "    assert isinstance(x, jnp.ndarray)\n",
        "    return x"
      ]
    },
    {
      "cell_type": "markdown",
      "id": "c9c1964829d7f962",
      "metadata": {},
      "source": [
        ":::{eval-rst}\n",
        ".. autofunction:: sax.nn.core.dense\n",
        ":::\n"
      ]
    },
    {
      "cell_type": "code",
      "execution_count": 5,
      "id": "f37dd722e2700d52",
      "metadata": {
        "execution": {
          "iopub.execute_input": "2023-06-01T21:33:00.848679Z",
          "iopub.status.busy": "2023-06-01T21:33:00.847830Z",
          "iopub.status.idle": "2023-06-01T21:33:00.852977Z",
          "shell.execute_reply": "2023-06-01T21:33:00.852664Z"
        },
        "papermill": {
          "duration": 0.008789,
          "end_time": "2023-06-01T21:33:00.854238",
          "exception": false,
          "start_time": "2023-06-01T21:33:00.845449",
          "status": "completed"
        },
        "tags": [
          "hide-input"
        ]
      },
      "outputs": [],
      "source": [
        "def dense(\n",
        "    weights: Dict[str, Array],\n",
        "    *params: ComplexFloat,\n",
        "    x_norm: Tuple[float, float] = (0.0, 1.0),\n",
        "    y_norm: Tuple[float, float] = (0.0, 1.0),\n",
        "    preprocess: Callable = preprocess,\n",
        "    activation: Callable = jax.nn.leaky_relu,\n",
        ") -> ComplexFloat:\n",
        "    \"\"\"simple dense neural network\"\"\"\n",
        "    x_mean, x_std = x_norm\n",
        "    y_mean, y_std = y_norm\n",
        "    x = preprocess(*params)\n",
        "    x = normalize(x, mean=x_mean, std=x_std)\n",
        "    for i in range(len([w for w in weights if w.startswith(\"w\")])):\n",
        "        x = activation(x @ weights[f\"w{i}\"] + weights.get(f\"b{i}\", 0.0))\n",
        "    y = denormalize(x, mean=y_mean, std=y_std)\n",
        "    return y"
      ]
    },
    {
      "cell_type": "markdown",
      "id": "26cbe342cee59c37",
      "metadata": {},
      "source": [
        ":::{eval-rst}\n",
        ".. autofunction:: sax.nn.core.generate_dense_weights\n",
        ":::\n"
      ]
    },
    {
      "cell_type": "code",
      "execution_count": 6,
      "id": "1b1f0feed84f7d9f",
      "metadata": {
        "execution": {
          "iopub.execute_input": "2023-06-01T21:33:00.858705Z",
          "iopub.status.busy": "2023-06-01T21:33:00.857840Z",
          "iopub.status.idle": "2023-06-01T21:33:00.864024Z",
          "shell.execute_reply": "2023-06-01T21:33:00.863711Z"
        },
        "papermill": {
          "duration": 0.009699,
          "end_time": "2023-06-01T21:33:00.865277",
          "exception": false,
          "start_time": "2023-06-01T21:33:00.855578",
          "status": "completed"
        },
        "tags": [
          "hide-input"
        ]
      },
      "outputs": [],
      "source": [
        "def generate_dense_weights(\n",
        "    key: Union[int, Array],\n",
        "    sizes: Tuple[int, ...],\n",
        "    input_names: Optional[Tuple[str, ...]] = None,\n",
        "    output_names: Optional[Tuple[str, ...]] = None,\n",
        "    preprocess=preprocess,\n",
        ") -> Dict[str, ComplexFloat]:\n",
        "    \"\"\"Generate the weights for a dense neural network\"\"\"\n",
        "\n",
        "    if isinstance(key, int):\n",
        "        key = jax.random.PRNGKey(key)\n",
        "    assert isinstance(key, jnp.ndarray)\n",
        "\n",
        "    sizes = tuple(s for s in sizes)\n",
        "    if input_names:\n",
        "        arr = preprocess(*jnp.ones(len(input_names)))\n",
        "        assert isinstance(arr, jnp.ndarray)\n",
        "        sizes = (arr.shape[-1],) + sizes\n",
        "    if output_names:\n",
        "        sizes = sizes + (len(output_names),)\n",
        "\n",
        "    keys = jax.random.split(key, 2 * len(sizes))\n",
        "    rand = jax.nn.initializers.lecun_normal()\n",
        "    weights = {}\n",
        "    for i, (m, n) in enumerate(zip(sizes[:-1], sizes[1:])):\n",
        "        weights[f\"w{i}\"] = rand(keys[2 * i], (m, n))\n",
        "        weights[f\"b{i}\"] = rand(keys[2 * i + 1], (1, n)).ravel()\n",
        "\n",
        "    return weights"
      ]
    }
  ],
  "metadata": {
    "kernelspec": {
      "display_name": "sax",
      "language": "python",
      "name": "sax"
    },
    "language_info": {
      "codemirror_mode": {
        "name": "ipython",
        "version": 3
      },
      "file_extension": ".py",
      "mimetype": "text/x-python",
      "name": "python",
      "nbconvert_exporter": "python",
      "pygments_lexer": "ipython3",
      "version": "3.11.3"
    },
    "papermill": {
      "default_parameters": {},
      "duration": 3.378509,
      "end_time": "2023-06-01T21:33:01.483067",
      "environment_variables": {},
      "exception": null,
      "input_path": "./nbs/09c_nn_core.ipynb",
      "output_path": "./nbs/09c_nn_core.ipynb",
      "parameters": {},
      "start_time": "2023-06-01T21:32:58.104558",
      "version": "2.3.4"
    }
  },
  "nbformat": 4,
  "nbformat_minor": 5
}