{
  "cells": [
    {
      "cell_type": "code",
      "execution_count": 1,
      "id": "7951f875bcacc263",
      "metadata": {
        "execution": {
          "iopub.execute_input": "2023-07-01T03:32:12.180684Z",
          "iopub.status.busy": "2023-07-01T03:32:12.179987Z",
          "iopub.status.idle": "2023-07-01T03:32:12.183298Z",
          "shell.execute_reply": "2023-07-01T03:32:12.182844Z"
        },
        "papermill": {
          "duration": 0.007353,
          "end_time": "2023-07-01T03:32:12.184572",
          "exception": false,
          "start_time": "2023-07-01T03:32:12.177219",
          "status": "completed"
        },
        "tags": [
          "remove-cell"
        ]
      },
      "outputs": [],
      "source": []
    },
    {
      "cell_type": "markdown",
      "id": "ad9dbb7f",
      "metadata": {
        "papermill": {
          "duration": 0.001376,
          "end_time": "2023-07-01T03:32:12.187467",
          "exception": false,
          "start_time": "2023-07-01T03:32:12.186091",
          "status": "completed"
        },
        "tags": []
      },
      "source": [
        "# Core\n",
        "\n",
        "> Core for SAX neural networks"
      ]
    },
    {
      "cell_type": "code",
      "execution_count": 2,
      "id": "d256ff6e6b8d5faa",
      "metadata": {
        "execution": {
          "iopub.execute_input": "2023-07-01T03:32:12.190777Z",
          "iopub.status.busy": "2023-07-01T03:32:12.190606Z",
          "iopub.status.idle": "2023-07-01T03:32:12.814219Z",
          "shell.execute_reply": "2023-07-01T03:32:12.813750Z"
        },
        "papermill": {
          "duration": 0.626874,
          "end_time": "2023-07-01T03:32:12.815617",
          "exception": false,
          "start_time": "2023-07-01T03:32:12.188743",
          "status": "completed"
        },
        "tags": [
          "remove-cell"
        ]
      },
      "outputs": [],
      "source": [
        "import matplotlib.pyplot as plt\n",
        "from fastcore.test import test_eq\n",
        "from pytest import approx, raises\n",
        "\n",
        "import os, sys; sys.stderr = open(os.devnull, \"w\")"
      ]
    },
    {
      "cell_type": "code",
      "execution_count": 3,
      "id": "7ebaae1fbff5d80d",
      "metadata": {
        "execution": {
          "iopub.execute_input": "2023-07-01T03:32:12.819811Z",
          "iopub.status.busy": "2023-07-01T03:32:12.819384Z",
          "iopub.status.idle": "2023-07-01T03:32:14.302861Z",
          "shell.execute_reply": "2023-07-01T03:32:14.302432Z"
        },
        "papermill": {
          "duration": 1.487241,
          "end_time": "2023-07-01T03:32:14.304427",
          "exception": false,
          "start_time": "2023-07-01T03:32:12.817186",
          "status": "completed"
        },
        "tags": [
          "hide-input"
        ]
      },
      "outputs": [],
      "source": [
        "from __future__ import annotations\n",
        "\n",
        "from typing import Callable, Dict, Optional, Tuple, Union\n",
        "\n",
        "import jax\n",
        "import jax.numpy as jnp\n",
        "from sax.nn.utils import denormalize, normalize\n",
        "from sax.typing_ import Array, ComplexFloat"
      ]
    },
    {
      "cell_type": "markdown",
      "id": "0a9ca636f3d59afa",
      "metadata": {},
      "source": [
        ":::{eval-rst}\n",
        ".. autofunction:: sax.nn.core.preprocess\n",
        ":::\n"
      ]
    },
    {
      "cell_type": "code",
      "execution_count": 4,
      "id": "07b8e5c0e5b6f381",
      "metadata": {
        "execution": {
          "iopub.execute_input": "2023-07-01T03:32:14.309137Z",
          "iopub.status.busy": "2023-07-01T03:32:14.308560Z",
          "iopub.status.idle": "2023-07-01T03:32:14.314301Z",
          "shell.execute_reply": "2023-07-01T03:32:14.313864Z"
        },
        "papermill": {
          "duration": 0.009783,
          "end_time": "2023-07-01T03:32:14.315819",
          "exception": false,
          "start_time": "2023-07-01T03:32:14.306036",
          "status": "completed"
        },
        "tags": [
          "hide-input"
        ]
      },
      "outputs": [],
      "source": [
        "def preprocess(*params: ComplexFloat) -> ComplexFloat:\n",
        "    \"\"\"preprocess parameters\n",
        "\n",
        "    > Note: (1) all arguments are first casted into the same shape. (2) then pairs \n",
        "      of arguments are divided into each other to create relative arguments. (3) all \n",
        "      arguments are then stacked into one big tensor\n",
        "    \"\"\"\n",
        "    x = jnp.stack(jnp.broadcast_arrays(*params), -1)\n",
        "    assert isinstance(x, jnp.ndarray)\n",
        "    to_concatenate = [x]\n",
        "    for i in range(1, x.shape[-1]):\n",
        "        _x = jnp.roll(x, shift=i, axis=-1)\n",
        "        to_concatenate.append(x / _x)\n",
        "        to_concatenate.append(_x / x)\n",
        "    x = jnp.concatenate(to_concatenate, -1)\n",
        "    assert isinstance(x, jnp.ndarray)\n",
        "    return x"
      ]
    },
    {
      "cell_type": "markdown",
      "id": "fa6100918d3cd702",
      "metadata": {},
      "source": [
        ":::{eval-rst}\n",
        ".. autofunction:: sax.nn.core.dense\n",
        ":::\n"
      ]
    },
    {
      "cell_type": "code",
      "execution_count": 5,
      "id": "3f0d63dc4ba7e4af",
      "metadata": {
        "execution": {
          "iopub.execute_input": "2023-07-01T03:32:14.319607Z",
          "iopub.status.busy": "2023-07-01T03:32:14.319316Z",
          "iopub.status.idle": "2023-07-01T03:32:14.323610Z",
          "shell.execute_reply": "2023-07-01T03:32:14.323204Z"
        },
        "papermill": {
          "duration": 0.007691,
          "end_time": "2023-07-01T03:32:14.324887",
          "exception": false,
          "start_time": "2023-07-01T03:32:14.317196",
          "status": "completed"
        },
        "tags": [
          "hide-input"
        ]
      },
      "outputs": [],
      "source": [
        "def dense(\n",
        "    weights: Dict[str, Array],\n",
        "    *params: ComplexFloat,\n",
        "    x_norm: Tuple[float, float] = (0.0, 1.0),\n",
        "    y_norm: Tuple[float, float] = (0.0, 1.0),\n",
        "    preprocess: Callable = preprocess,\n",
        "    activation: Callable = jax.nn.leaky_relu,\n",
        ") -> ComplexFloat:\n",
        "    \"\"\"simple dense neural network\"\"\"\n",
        "    x_mean, x_std = x_norm\n",
        "    y_mean, y_std = y_norm\n",
        "    x = preprocess(*params)\n",
        "    x = normalize(x, mean=x_mean, std=x_std)\n",
        "    for i in range(len([w for w in weights if w.startswith(\"w\")])):\n",
        "        x = activation(x @ weights[f\"w{i}\"] + weights.get(f\"b{i}\", 0.0))\n",
        "    y = denormalize(x, mean=y_mean, std=y_std)\n",
        "    return y"
      ]
    },
    {
      "cell_type": "markdown",
      "id": "51d56055639ace19",
      "metadata": {},
      "source": [
        ":::{eval-rst}\n",
        ".. autofunction:: sax.nn.core.generate_dense_weights\n",
        ":::\n"
      ]
    },
    {
      "cell_type": "code",
      "execution_count": 6,
      "id": "c5d4c3e06b3b1293",
      "metadata": {
        "execution": {
          "iopub.execute_input": "2023-07-01T03:32:14.328600Z",
          "iopub.status.busy": "2023-07-01T03:32:14.328312Z",
          "iopub.status.idle": "2023-07-01T03:32:14.333698Z",
          "shell.execute_reply": "2023-07-01T03:32:14.333281Z"
        },
        "papermill": {
          "duration": 0.008788,
          "end_time": "2023-07-01T03:32:14.335057",
          "exception": false,
          "start_time": "2023-07-01T03:32:14.326269",
          "status": "completed"
        },
        "tags": [
          "hide-input"
        ]
      },
      "outputs": [],
      "source": [
        "def generate_dense_weights(\n",
        "    key: Union[int, Array],\n",
        "    sizes: Tuple[int, ...],\n",
        "    input_names: Optional[Tuple[str, ...]] = None,\n",
        "    output_names: Optional[Tuple[str, ...]] = None,\n",
        "    preprocess=preprocess,\n",
        ") -> Dict[str, ComplexFloat]:\n",
        "    \"\"\"Generate the weights for a dense neural network\"\"\"\n",
        "\n",
        "    if isinstance(key, int):\n",
        "        key = jax.random.PRNGKey(key)\n",
        "    assert isinstance(key, jnp.ndarray)\n",
        "\n",
        "    sizes = tuple(s for s in sizes)\n",
        "    if input_names:\n",
        "        arr = preprocess(*jnp.ones(len(input_names)))\n",
        "        assert isinstance(arr, jnp.ndarray)\n",
        "        sizes = (arr.shape[-1],) + sizes\n",
        "    if output_names:\n",
        "        sizes = sizes + (len(output_names),)\n",
        "\n",
        "    keys = jax.random.split(key, 2 * len(sizes))\n",
        "    rand = jax.nn.initializers.lecun_normal()\n",
        "    weights = {}\n",
        "    for i, (m, n) in enumerate(zip(sizes[:-1], sizes[1:])):\n",
        "        weights[f\"w{i}\"] = rand(keys[2 * i], (m, n))\n",
        "        weights[f\"b{i}\"] = rand(keys[2 * i + 1], (1, n)).ravel()\n",
        "\n",
        "    return weights"
      ]
    }
  ],
  "metadata": {
    "kernelspec": {
      "display_name": "sax",
      "language": "python",
      "name": "sax"
    },
    "language_info": {
      "codemirror_mode": {
        "name": "ipython",
        "version": 3
      },
      "file_extension": ".py",
      "mimetype": "text/x-python",
      "name": "python",
      "nbconvert_exporter": "python",
      "pygments_lexer": "ipython3",
      "version": "3.11.4"
    },
    "papermill": {
      "default_parameters": {},
      "duration": 4.437416,
      "end_time": "2023-07-01T03:32:14.954575",
      "environment_variables": {},
      "exception": null,
      "input_path": "./nbs/09c_nn_core.ipynb",
      "output_path": "./nbs/09c_nn_core.ipynb",
      "parameters": {},
      "start_time": "2023-07-01T03:32:10.517159",
      "version": "2.3.4"
    }
  },
  "nbformat": 4,
  "nbformat_minor": 5
}