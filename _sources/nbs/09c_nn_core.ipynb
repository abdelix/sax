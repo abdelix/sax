{
  "cells": [
    {
      "cell_type": "code",
      "execution_count": 1,
      "id": "e20af4e0771d2040",
      "metadata": {
        "execution": {
          "iopub.execute_input": "2023-09-01T16:50:36.548483Z",
          "iopub.status.busy": "2023-09-01T16:50:36.547894Z",
          "iopub.status.idle": "2023-09-01T16:50:36.551349Z",
          "shell.execute_reply": "2023-09-01T16:50:36.550807Z"
        },
        "papermill": {
          "duration": 0.007571,
          "end_time": "2023-09-01T16:50:36.552564",
          "exception": false,
          "start_time": "2023-09-01T16:50:36.544993",
          "status": "completed"
        },
        "tags": [
          "remove-cell"
        ]
      },
      "outputs": [],
      "source": []
    },
    {
      "cell_type": "markdown",
      "id": "ad9dbb7f",
      "metadata": {
        "papermill": {
          "duration": 0.001388,
          "end_time": "2023-09-01T16:50:36.555672",
          "exception": false,
          "start_time": "2023-09-01T16:50:36.554284",
          "status": "completed"
        },
        "tags": []
      },
      "source": [
        "# Core\n",
        "\n",
        "> Core for SAX neural networks"
      ]
    },
    {
      "cell_type": "code",
      "execution_count": 2,
      "id": "e449c2ac1d0894df",
      "metadata": {
        "execution": {
          "iopub.execute_input": "2023-09-01T16:50:36.559333Z",
          "iopub.status.busy": "2023-09-01T16:50:36.558858Z",
          "iopub.status.idle": "2023-09-01T16:50:36.980425Z",
          "shell.execute_reply": "2023-09-01T16:50:36.979991Z"
        },
        "papermill": {
          "duration": 0.425016,
          "end_time": "2023-09-01T16:50:36.981932",
          "exception": false,
          "start_time": "2023-09-01T16:50:36.556916",
          "status": "completed"
        },
        "tags": [
          "remove-cell"
        ]
      },
      "outputs": [],
      "source": [
        "import matplotlib.pyplot as plt\n",
        "from fastcore.test import test_eq\n",
        "from pytest import approx, raises\n",
        "\n",
        "import os, sys; sys.stderr = open(os.devnull, \"w\")"
      ]
    },
    {
      "cell_type": "code",
      "execution_count": 3,
      "id": "c45e63c8ee582fe8",
      "metadata": {
        "execution": {
          "iopub.execute_input": "2023-09-01T16:50:36.986556Z",
          "iopub.status.busy": "2023-09-01T16:50:36.986007Z",
          "iopub.status.idle": "2023-09-01T16:50:38.059478Z",
          "shell.execute_reply": "2023-09-01T16:50:38.059024Z"
        },
        "papermill": {
          "duration": 1.077365,
          "end_time": "2023-09-01T16:50:38.060913",
          "exception": false,
          "start_time": "2023-09-01T16:50:36.983548",
          "status": "completed"
        },
        "tags": [
          "hide-input"
        ]
      },
      "outputs": [],
      "source": [
        "from __future__ import annotations\n",
        "\n",
        "from typing import Callable, Dict, Optional, Tuple, Union\n",
        "\n",
        "import jax\n",
        "import jax.numpy as jnp\n",
        "from sax.nn.utils import denormalize, normalize\n",
        "from sax.typing_ import Array, ComplexFloat"
      ]
    },
    {
      "cell_type": "markdown",
      "id": "2982a8182585604f",
      "metadata": {},
      "source": [
        ":::{eval-rst}\n",
        ".. autofunction:: sax.nn.core.preprocess\n",
        ":::\n"
      ]
    },
    {
      "cell_type": "code",
      "execution_count": 4,
      "id": "6f473dba7f728b86",
      "metadata": {
        "execution": {
          "iopub.execute_input": "2023-09-01T16:50:38.065768Z",
          "iopub.status.busy": "2023-09-01T16:50:38.065220Z",
          "iopub.status.idle": "2023-09-01T16:50:38.069782Z",
          "shell.execute_reply": "2023-09-01T16:50:38.069367Z"
        },
        "papermill": {
          "duration": 0.008553,
          "end_time": "2023-09-01T16:50:38.071092",
          "exception": false,
          "start_time": "2023-09-01T16:50:38.062539",
          "status": "completed"
        },
        "tags": [
          "hide-input"
        ]
      },
      "outputs": [],
      "source": [
        "def preprocess(*params: ComplexFloat) -> ComplexFloat:\n",
        "    \"\"\"preprocess parameters\n",
        "\n",
        "    > Note: (1) all arguments are first casted into the same shape. (2) then pairs \n",
        "      of arguments are divided into each other to create relative arguments. (3) all \n",
        "      arguments are then stacked into one big tensor\n",
        "    \"\"\"\n",
        "    x = jnp.stack(jnp.broadcast_arrays(*params), -1)\n",
        "    assert isinstance(x, jnp.ndarray)\n",
        "    to_concatenate = [x]\n",
        "    for i in range(1, x.shape[-1]):\n",
        "        _x = jnp.roll(x, shift=i, axis=-1)\n",
        "        to_concatenate.append(x / _x)\n",
        "        to_concatenate.append(_x / x)\n",
        "    x = jnp.concatenate(to_concatenate, -1)\n",
        "    assert isinstance(x, jnp.ndarray)\n",
        "    return x"
      ]
    },
    {
      "cell_type": "markdown",
      "id": "33daba845fa8fe9e",
      "metadata": {},
      "source": [
        ":::{eval-rst}\n",
        ".. autofunction:: sax.nn.core.dense\n",
        ":::\n"
      ]
    },
    {
      "cell_type": "code",
      "execution_count": 5,
      "id": "2c2132a92aea9acd",
      "metadata": {
        "execution": {
          "iopub.execute_input": "2023-09-01T16:50:38.074935Z",
          "iopub.status.busy": "2023-09-01T16:50:38.074640Z",
          "iopub.status.idle": "2023-09-01T16:50:38.079853Z",
          "shell.execute_reply": "2023-09-01T16:50:38.079437Z"
        },
        "papermill": {
          "duration": 0.008561,
          "end_time": "2023-09-01T16:50:38.081036",
          "exception": false,
          "start_time": "2023-09-01T16:50:38.072475",
          "status": "completed"
        },
        "tags": [
          "hide-input"
        ]
      },
      "outputs": [],
      "source": [
        "def dense(\n",
        "    weights: Dict[str, Array],\n",
        "    *params: ComplexFloat,\n",
        "    x_norm: Tuple[float, float] = (0.0, 1.0),\n",
        "    y_norm: Tuple[float, float] = (0.0, 1.0),\n",
        "    preprocess: Callable = preprocess,\n",
        "    activation: Callable = jax.nn.leaky_relu,\n",
        ") -> ComplexFloat:\n",
        "    \"\"\"simple dense neural network\"\"\"\n",
        "    x_mean, x_std = x_norm\n",
        "    y_mean, y_std = y_norm\n",
        "    x = preprocess(*params)\n",
        "    x = normalize(x, mean=x_mean, std=x_std)\n",
        "    for i in range(len([w for w in weights if w.startswith(\"w\")])):\n",
        "        x = activation(x @ weights[f\"w{i}\"] + weights.get(f\"b{i}\", 0.0))\n",
        "    y = denormalize(x, mean=y_mean, std=y_std)\n",
        "    return y"
      ]
    },
    {
      "cell_type": "markdown",
      "id": "65f3f71b55f676f8",
      "metadata": {},
      "source": [
        ":::{eval-rst}\n",
        ".. autofunction:: sax.nn.core.generate_dense_weights\n",
        ":::\n"
      ]
    },
    {
      "cell_type": "code",
      "execution_count": 6,
      "id": "d1f46cf38498daa1",
      "metadata": {
        "execution": {
          "iopub.execute_input": "2023-09-01T16:50:38.084897Z",
          "iopub.status.busy": "2023-09-01T16:50:38.084607Z",
          "iopub.status.idle": "2023-09-01T16:50:38.090183Z",
          "shell.execute_reply": "2023-09-01T16:50:38.089762Z"
        },
        "papermill": {
          "duration": 0.008898,
          "end_time": "2023-09-01T16:50:38.091350",
          "exception": false,
          "start_time": "2023-09-01T16:50:38.082452",
          "status": "completed"
        },
        "tags": [
          "hide-input"
        ]
      },
      "outputs": [],
      "source": [
        "def generate_dense_weights(\n",
        "    key: Union[int, Array],\n",
        "    sizes: Tuple[int, ...],\n",
        "    input_names: Optional[Tuple[str, ...]] = None,\n",
        "    output_names: Optional[Tuple[str, ...]] = None,\n",
        "    preprocess=preprocess,\n",
        ") -> Dict[str, ComplexFloat]:\n",
        "    \"\"\"Generate the weights for a dense neural network\"\"\"\n",
        "\n",
        "    if isinstance(key, int):\n",
        "        key = jax.random.PRNGKey(key)\n",
        "    assert isinstance(key, jnp.ndarray)\n",
        "\n",
        "    sizes = tuple(s for s in sizes)\n",
        "    if input_names:\n",
        "        arr = preprocess(*jnp.ones(len(input_names)))\n",
        "        assert isinstance(arr, jnp.ndarray)\n",
        "        sizes = (arr.shape[-1],) + sizes\n",
        "    if output_names:\n",
        "        sizes = sizes + (len(output_names),)\n",
        "\n",
        "    keys = jax.random.split(key, 2 * len(sizes))\n",
        "    rand = jax.nn.initializers.lecun_normal()\n",
        "    weights = {}\n",
        "    for i, (m, n) in enumerate(zip(sizes[:-1], sizes[1:])):\n",
        "        weights[f\"w{i}\"] = rand(keys[2 * i], (m, n))\n",
        "        weights[f\"b{i}\"] = rand(keys[2 * i + 1], (1, n)).ravel()\n",
        "\n",
        "    return weights"
      ]
    }
  ],
  "metadata": {
    "kernelspec": {
      "display_name": "sax",
      "language": "python",
      "name": "sax"
    },
    "language_info": {
      "codemirror_mode": {
        "name": "ipython",
        "version": 3
      },
      "file_extension": ".py",
      "mimetype": "text/x-python",
      "name": "python",
      "nbconvert_exporter": "python",
      "pygments_lexer": "ipython3",
      "version": "3.11.5"
    },
    "papermill": {
      "default_parameters": {},
      "duration": 3.383147,
      "end_time": "2023-09-01T16:50:38.608610",
      "environment_variables": {},
      "exception": null,
      "input_path": "./nbs/09c_nn_core.ipynb",
      "output_path": "./nbs/09c_nn_core.ipynb",
      "parameters": {},
      "start_time": "2023-09-01T16:50:35.225463",
      "version": "2.4.0"
    }
  },
  "nbformat": 4,
  "nbformat_minor": 5
}