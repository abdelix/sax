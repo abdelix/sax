{
  "cells": [
    {
      "cell_type": "code",
      "execution_count": 1,
      "id": "f71dc3fb532c9421",
      "metadata": {
        "execution": {
          "iopub.execute_input": "2023-09-01T18:12:10.561798Z",
          "iopub.status.busy": "2023-09-01T18:12:10.561322Z",
          "iopub.status.idle": "2023-09-01T18:12:10.564585Z",
          "shell.execute_reply": "2023-09-01T18:12:10.564031Z"
        },
        "papermill": {
          "duration": 0.007458,
          "end_time": "2023-09-01T18:12:10.565812",
          "exception": false,
          "start_time": "2023-09-01T18:12:10.558354",
          "status": "completed"
        },
        "tags": [
          "remove-cell"
        ]
      },
      "outputs": [],
      "source": []
    },
    {
      "cell_type": "markdown",
      "id": "ad9dbb7f",
      "metadata": {
        "papermill": {
          "duration": 0.001383,
          "end_time": "2023-09-01T18:12:10.568944",
          "exception": false,
          "start_time": "2023-09-01T18:12:10.567561",
          "status": "completed"
        },
        "tags": []
      },
      "source": [
        "# Core\n",
        "\n",
        "> Core for SAX neural networks"
      ]
    },
    {
      "cell_type": "code",
      "execution_count": 2,
      "id": "2b1e2ffa4943ec42",
      "metadata": {
        "execution": {
          "iopub.execute_input": "2023-09-01T18:12:10.572700Z",
          "iopub.status.busy": "2023-09-01T18:12:10.572204Z",
          "iopub.status.idle": "2023-09-01T18:12:10.997074Z",
          "shell.execute_reply": "2023-09-01T18:12:10.996604Z"
        },
        "papermill": {
          "duration": 0.428337,
          "end_time": "2023-09-01T18:12:10.998554",
          "exception": false,
          "start_time": "2023-09-01T18:12:10.570217",
          "status": "completed"
        },
        "tags": [
          "remove-cell"
        ]
      },
      "outputs": [],
      "source": [
        "import matplotlib.pyplot as plt\n",
        "from fastcore.test import test_eq\n",
        "from pytest import approx, raises\n",
        "\n",
        "import os, sys; sys.stderr = open(os.devnull, \"w\")"
      ]
    },
    {
      "cell_type": "code",
      "execution_count": 3,
      "id": "11d7967980808bb8",
      "metadata": {
        "execution": {
          "iopub.execute_input": "2023-09-01T18:12:11.003283Z",
          "iopub.status.busy": "2023-09-01T18:12:11.002678Z",
          "iopub.status.idle": "2023-09-01T18:12:12.076570Z",
          "shell.execute_reply": "2023-09-01T18:12:12.076115Z"
        },
        "papermill": {
          "duration": 1.07787,
          "end_time": "2023-09-01T18:12:12.078055",
          "exception": false,
          "start_time": "2023-09-01T18:12:11.000185",
          "status": "completed"
        },
        "tags": [
          "hide-input"
        ]
      },
      "outputs": [],
      "source": [
        "from __future__ import annotations\n",
        "\n",
        "from typing import Callable, Dict, Optional, Tuple, Union\n",
        "\n",
        "import jax\n",
        "import jax.numpy as jnp\n",
        "from sax.nn.utils import denormalize, normalize\n",
        "from sax.typing_ import Array, ComplexFloat"
      ]
    },
    {
      "cell_type": "markdown",
      "id": "0b9112bd5e5c15b5",
      "metadata": {},
      "source": [
        ":::{eval-rst}\n",
        ".. autofunction:: sax.nn.core.preprocess\n",
        ":::\n"
      ]
    },
    {
      "cell_type": "code",
      "execution_count": 4,
      "id": "712d7a67c17b5c75",
      "metadata": {
        "execution": {
          "iopub.execute_input": "2023-09-01T18:12:12.083037Z",
          "iopub.status.busy": "2023-09-01T18:12:12.082392Z",
          "iopub.status.idle": "2023-09-01T18:12:12.086967Z",
          "shell.execute_reply": "2023-09-01T18:12:12.086531Z"
        },
        "papermill": {
          "duration": 0.008719,
          "end_time": "2023-09-01T18:12:12.088411",
          "exception": false,
          "start_time": "2023-09-01T18:12:12.079692",
          "status": "completed"
        },
        "tags": [
          "hide-input"
        ]
      },
      "outputs": [],
      "source": [
        "def preprocess(*params: ComplexFloat) -> ComplexFloat:\n",
        "    \"\"\"preprocess parameters\n",
        "\n",
        "    > Note: (1) all arguments are first casted into the same shape. (2) then pairs \n",
        "      of arguments are divided into each other to create relative arguments. (3) all \n",
        "      arguments are then stacked into one big tensor\n",
        "    \"\"\"\n",
        "    x = jnp.stack(jnp.broadcast_arrays(*params), -1)\n",
        "    assert isinstance(x, jnp.ndarray)\n",
        "    to_concatenate = [x]\n",
        "    for i in range(1, x.shape[-1]):\n",
        "        _x = jnp.roll(x, shift=i, axis=-1)\n",
        "        to_concatenate.append(x / _x)\n",
        "        to_concatenate.append(_x / x)\n",
        "    x = jnp.concatenate(to_concatenate, -1)\n",
        "    assert isinstance(x, jnp.ndarray)\n",
        "    return x"
      ]
    },
    {
      "cell_type": "markdown",
      "id": "6c33e61405f9433d",
      "metadata": {},
      "source": [
        ":::{eval-rst}\n",
        ".. autofunction:: sax.nn.core.dense\n",
        ":::\n"
      ]
    },
    {
      "cell_type": "code",
      "execution_count": 5,
      "id": "7d3a025a93d493de",
      "metadata": {
        "execution": {
          "iopub.execute_input": "2023-09-01T18:12:12.092110Z",
          "iopub.status.busy": "2023-09-01T18:12:12.091816Z",
          "iopub.status.idle": "2023-09-01T18:12:12.096218Z",
          "shell.execute_reply": "2023-09-01T18:12:12.095793Z"
        },
        "papermill": {
          "duration": 0.007649,
          "end_time": "2023-09-01T18:12:12.097415",
          "exception": false,
          "start_time": "2023-09-01T18:12:12.089766",
          "status": "completed"
        },
        "tags": [
          "hide-input"
        ]
      },
      "outputs": [],
      "source": [
        "def dense(\n",
        "    weights: Dict[str, Array],\n",
        "    *params: ComplexFloat,\n",
        "    x_norm: Tuple[float, float] = (0.0, 1.0),\n",
        "    y_norm: Tuple[float, float] = (0.0, 1.0),\n",
        "    preprocess: Callable = preprocess,\n",
        "    activation: Callable = jax.nn.leaky_relu,\n",
        ") -> ComplexFloat:\n",
        "    \"\"\"simple dense neural network\"\"\"\n",
        "    x_mean, x_std = x_norm\n",
        "    y_mean, y_std = y_norm\n",
        "    x = preprocess(*params)\n",
        "    x = normalize(x, mean=x_mean, std=x_std)\n",
        "    for i in range(len([w for w in weights if w.startswith(\"w\")])):\n",
        "        x = activation(x @ weights[f\"w{i}\"] + weights.get(f\"b{i}\", 0.0))\n",
        "    y = denormalize(x, mean=y_mean, std=y_std)\n",
        "    return y"
      ]
    },
    {
      "cell_type": "markdown",
      "id": "36683e123680374c",
      "metadata": {},
      "source": [
        ":::{eval-rst}\n",
        ".. autofunction:: sax.nn.core.generate_dense_weights\n",
        ":::\n"
      ]
    },
    {
      "cell_type": "code",
      "execution_count": 6,
      "id": "97f44828615d1774",
      "metadata": {
        "execution": {
          "iopub.execute_input": "2023-09-01T18:12:12.101198Z",
          "iopub.status.busy": "2023-09-01T18:12:12.100901Z",
          "iopub.status.idle": "2023-09-01T18:12:12.106493Z",
          "shell.execute_reply": "2023-09-01T18:12:12.106067Z"
        },
        "papermill": {
          "duration": 0.008789,
          "end_time": "2023-09-01T18:12:12.107629",
          "exception": false,
          "start_time": "2023-09-01T18:12:12.098840",
          "status": "completed"
        },
        "tags": [
          "hide-input"
        ]
      },
      "outputs": [],
      "source": [
        "def generate_dense_weights(\n",
        "    key: Union[int, Array],\n",
        "    sizes: Tuple[int, ...],\n",
        "    input_names: Optional[Tuple[str, ...]] = None,\n",
        "    output_names: Optional[Tuple[str, ...]] = None,\n",
        "    preprocess=preprocess,\n",
        ") -> Dict[str, ComplexFloat]:\n",
        "    \"\"\"Generate the weights for a dense neural network\"\"\"\n",
        "\n",
        "    if isinstance(key, int):\n",
        "        key = jax.random.PRNGKey(key)\n",
        "    assert isinstance(key, jnp.ndarray)\n",
        "\n",
        "    sizes = tuple(s for s in sizes)\n",
        "    if input_names:\n",
        "        arr = preprocess(*jnp.ones(len(input_names)))\n",
        "        assert isinstance(arr, jnp.ndarray)\n",
        "        sizes = (arr.shape[-1],) + sizes\n",
        "    if output_names:\n",
        "        sizes = sizes + (len(output_names),)\n",
        "\n",
        "    keys = jax.random.split(key, 2 * len(sizes))\n",
        "    rand = jax.nn.initializers.lecun_normal()\n",
        "    weights = {}\n",
        "    for i, (m, n) in enumerate(zip(sizes[:-1], sizes[1:])):\n",
        "        weights[f\"w{i}\"] = rand(keys[2 * i], (m, n))\n",
        "        weights[f\"b{i}\"] = rand(keys[2 * i + 1], (1, n)).ravel()\n",
        "\n",
        "    return weights"
      ]
    }
  ],
  "metadata": {
    "kernelspec": {
      "display_name": "sax",
      "language": "python",
      "name": "sax"
    },
    "language_info": {
      "codemirror_mode": {
        "name": "ipython",
        "version": 3
      },
      "file_extension": ".py",
      "mimetype": "text/x-python",
      "name": "python",
      "nbconvert_exporter": "python",
      "pygments_lexer": "ipython3",
      "version": "3.11.5"
    },
    "papermill": {
      "default_parameters": {},
      "duration": 3.383269,
      "end_time": "2023-09-01T18:12:12.625690",
      "environment_variables": {},
      "exception": null,
      "input_path": "./nbs/09c_nn_core.ipynb",
      "output_path": "./nbs/09c_nn_core.ipynb",
      "parameters": {},
      "start_time": "2023-09-01T18:12:09.242421",
      "version": "2.4.0"
    }
  },
  "nbformat": 4,
  "nbformat_minor": 5
}