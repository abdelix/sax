{
  "cells": [
    {
      "cell_type": "code",
      "execution_count": 1,
      "id": "5db47c86d194b090",
      "metadata": {
        "execution": {
          "iopub.execute_input": "2023-09-02T18:59:13.556870Z",
          "iopub.status.busy": "2023-09-02T18:59:13.556258Z",
          "iopub.status.idle": "2023-09-02T18:59:13.559649Z",
          "shell.execute_reply": "2023-09-02T18:59:13.559094Z"
        },
        "papermill": {
          "duration": 0.007546,
          "end_time": "2023-09-02T18:59:13.560866",
          "exception": false,
          "start_time": "2023-09-02T18:59:13.553320",
          "status": "completed"
        },
        "tags": [
          "remove-cell"
        ]
      },
      "outputs": [],
      "source": []
    },
    {
      "cell_type": "markdown",
      "id": "ad9dbb7f",
      "metadata": {
        "papermill": {
          "duration": 0.001426,
          "end_time": "2023-09-02T18:59:13.563990",
          "exception": false,
          "start_time": "2023-09-02T18:59:13.562564",
          "status": "completed"
        },
        "tags": []
      },
      "source": [
        "# Core\n",
        "\n",
        "> Core for SAX neural networks"
      ]
    },
    {
      "cell_type": "code",
      "execution_count": 2,
      "id": "3152d92fa638894a",
      "metadata": {
        "execution": {
          "iopub.execute_input": "2023-09-02T18:59:13.567716Z",
          "iopub.status.busy": "2023-09-02T18:59:13.567132Z",
          "iopub.status.idle": "2023-09-02T18:59:13.983442Z",
          "shell.execute_reply": "2023-09-02T18:59:13.982998Z"
        },
        "papermill": {
          "duration": 0.419669,
          "end_time": "2023-09-02T18:59:13.984900",
          "exception": false,
          "start_time": "2023-09-02T18:59:13.565231",
          "status": "completed"
        },
        "tags": [
          "remove-cell"
        ]
      },
      "outputs": [],
      "source": [
        "import matplotlib.pyplot as plt\n",
        "from fastcore.test import test_eq\n",
        "from pytest import approx, raises\n",
        "\n",
        "import os, sys; sys.stderr = open(os.devnull, \"w\")"
      ]
    },
    {
      "cell_type": "code",
      "execution_count": 3,
      "id": "4bc9dad1561d6179",
      "metadata": {
        "execution": {
          "iopub.execute_input": "2023-09-02T18:59:13.989499Z",
          "iopub.status.busy": "2023-09-02T18:59:13.988961Z",
          "iopub.status.idle": "2023-09-02T18:59:15.053223Z",
          "shell.execute_reply": "2023-09-02T18:59:15.052760Z"
        },
        "papermill": {
          "duration": 1.068211,
          "end_time": "2023-09-02T18:59:15.054705",
          "exception": false,
          "start_time": "2023-09-02T18:59:13.986494",
          "status": "completed"
        },
        "tags": [
          "hide-input"
        ]
      },
      "outputs": [],
      "source": [
        "from __future__ import annotations\n",
        "\n",
        "from typing import Callable, Dict, Optional, Tuple, Union\n",
        "\n",
        "import jax\n",
        "import jax.numpy as jnp\n",
        "from sax.nn.utils import denormalize, normalize\n",
        "from sax.typing_ import Array, ComplexFloat"
      ]
    },
    {
      "cell_type": "markdown",
      "id": "5605158e3832575c",
      "metadata": {},
      "source": [
        ":::{eval-rst}\n",
        ".. autofunction:: sax.nn.core.preprocess\n",
        ":::\n"
      ]
    },
    {
      "cell_type": "code",
      "execution_count": 4,
      "id": "83e53270e4f70f17",
      "metadata": {
        "execution": {
          "iopub.execute_input": "2023-09-02T18:59:15.059655Z",
          "iopub.status.busy": "2023-09-02T18:59:15.059122Z",
          "iopub.status.idle": "2023-09-02T18:59:15.063592Z",
          "shell.execute_reply": "2023-09-02T18:59:15.063156Z"
        },
        "papermill": {
          "duration": 0.008666,
          "end_time": "2023-09-02T18:59:15.064995",
          "exception": false,
          "start_time": "2023-09-02T18:59:15.056329",
          "status": "completed"
        },
        "tags": [
          "hide-input"
        ]
      },
      "outputs": [],
      "source": [
        "def preprocess(*params: ComplexFloat) -> ComplexFloat:\n",
        "    \"\"\"preprocess parameters\n",
        "\n",
        "    > Note: (1) all arguments are first casted into the same shape. (2) then pairs \n",
        "      of arguments are divided into each other to create relative arguments. (3) all \n",
        "      arguments are then stacked into one big tensor\n",
        "    \"\"\"\n",
        "    x = jnp.stack(jnp.broadcast_arrays(*params), -1)\n",
        "    assert isinstance(x, jnp.ndarray)\n",
        "    to_concatenate = [x]\n",
        "    for i in range(1, x.shape[-1]):\n",
        "        _x = jnp.roll(x, shift=i, axis=-1)\n",
        "        to_concatenate.append(x / _x)\n",
        "        to_concatenate.append(_x / x)\n",
        "    x = jnp.concatenate(to_concatenate, -1)\n",
        "    assert isinstance(x, jnp.ndarray)\n",
        "    return x"
      ]
    },
    {
      "cell_type": "markdown",
      "id": "9cfa30361a448850",
      "metadata": {},
      "source": [
        ":::{eval-rst}\n",
        ".. autofunction:: sax.nn.core.dense\n",
        ":::\n"
      ]
    },
    {
      "cell_type": "code",
      "execution_count": 5,
      "id": "38235b57a078f300",
      "metadata": {
        "execution": {
          "iopub.execute_input": "2023-09-02T18:59:15.068648Z",
          "iopub.status.busy": "2023-09-02T18:59:15.068357Z",
          "iopub.status.idle": "2023-09-02T18:59:15.072708Z",
          "shell.execute_reply": "2023-09-02T18:59:15.072288Z"
        },
        "papermill": {
          "duration": 0.007527,
          "end_time": "2023-09-02T18:59:15.073898",
          "exception": false,
          "start_time": "2023-09-02T18:59:15.066371",
          "status": "completed"
        },
        "tags": [
          "hide-input"
        ]
      },
      "outputs": [],
      "source": [
        "def dense(\n",
        "    weights: Dict[str, Array],\n",
        "    *params: ComplexFloat,\n",
        "    x_norm: Tuple[float, float] = (0.0, 1.0),\n",
        "    y_norm: Tuple[float, float] = (0.0, 1.0),\n",
        "    preprocess: Callable = preprocess,\n",
        "    activation: Callable = jax.nn.leaky_relu,\n",
        ") -> ComplexFloat:\n",
        "    \"\"\"simple dense neural network\"\"\"\n",
        "    x_mean, x_std = x_norm\n",
        "    y_mean, y_std = y_norm\n",
        "    x = preprocess(*params)\n",
        "    x = normalize(x, mean=x_mean, std=x_std)\n",
        "    for i in range(len([w for w in weights if w.startswith(\"w\")])):\n",
        "        x = activation(x @ weights[f\"w{i}\"] + weights.get(f\"b{i}\", 0.0))\n",
        "    y = denormalize(x, mean=y_mean, std=y_std)\n",
        "    return y"
      ]
    },
    {
      "cell_type": "markdown",
      "id": "77ae6bdefb5bf8cf",
      "metadata": {},
      "source": [
        ":::{eval-rst}\n",
        ".. autofunction:: sax.nn.core.generate_dense_weights\n",
        ":::\n"
      ]
    },
    {
      "cell_type": "code",
      "execution_count": 6,
      "id": "1800a8af713e8b22",
      "metadata": {
        "execution": {
          "iopub.execute_input": "2023-09-02T18:59:15.077870Z",
          "iopub.status.busy": "2023-09-02T18:59:15.077412Z",
          "iopub.status.idle": "2023-09-02T18:59:15.083031Z",
          "shell.execute_reply": "2023-09-02T18:59:15.082599Z"
        },
        "papermill": {
          "duration": 0.008968,
          "end_time": "2023-09-02T18:59:15.084265",
          "exception": false,
          "start_time": "2023-09-02T18:59:15.075297",
          "status": "completed"
        },
        "tags": [
          "hide-input"
        ]
      },
      "outputs": [],
      "source": [
        "def generate_dense_weights(\n",
        "    key: Union[int, Array],\n",
        "    sizes: Tuple[int, ...],\n",
        "    input_names: Optional[Tuple[str, ...]] = None,\n",
        "    output_names: Optional[Tuple[str, ...]] = None,\n",
        "    preprocess=preprocess,\n",
        ") -> Dict[str, ComplexFloat]:\n",
        "    \"\"\"Generate the weights for a dense neural network\"\"\"\n",
        "\n",
        "    if isinstance(key, int):\n",
        "        key = jax.random.PRNGKey(key)\n",
        "    assert isinstance(key, jnp.ndarray)\n",
        "\n",
        "    sizes = tuple(s for s in sizes)\n",
        "    if input_names:\n",
        "        arr = preprocess(*jnp.ones(len(input_names)))\n",
        "        assert isinstance(arr, jnp.ndarray)\n",
        "        sizes = (arr.shape[-1],) + sizes\n",
        "    if output_names:\n",
        "        sizes = sizes + (len(output_names),)\n",
        "\n",
        "    keys = jax.random.split(key, 2 * len(sizes))\n",
        "    rand = jax.nn.initializers.lecun_normal()\n",
        "    weights = {}\n",
        "    for i, (m, n) in enumerate(zip(sizes[:-1], sizes[1:])):\n",
        "        weights[f\"w{i}\"] = rand(keys[2 * i], (m, n))\n",
        "        weights[f\"b{i}\"] = rand(keys[2 * i + 1], (1, n)).ravel()\n",
        "\n",
        "    return weights"
      ]
    }
  ],
  "metadata": {
    "kernelspec": {
      "display_name": "sax",
      "language": "python",
      "name": "sax"
    },
    "language_info": {
      "codemirror_mode": {
        "name": "ipython",
        "version": 3
      },
      "file_extension": ".py",
      "mimetype": "text/x-python",
      "name": "python",
      "nbconvert_exporter": "python",
      "pygments_lexer": "ipython3",
      "version": "3.11.5"
    },
    "papermill": {
      "default_parameters": {},
      "duration": 3.361195,
      "end_time": "2023-09-02T18:59:15.601793",
      "environment_variables": {},
      "exception": null,
      "input_path": "./nbs/09c_nn_core.ipynb",
      "output_path": "./nbs/09c_nn_core.ipynb",
      "parameters": {},
      "start_time": "2023-09-02T18:59:12.240598",
      "version": "2.4.0"
    }
  },
  "nbformat": 4,
  "nbformat_minor": 5
}