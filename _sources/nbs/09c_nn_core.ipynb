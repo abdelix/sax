{
  "cells": [
    {
      "cell_type": "code",
      "execution_count": 1,
      "id": "96fa712994f79788",
      "metadata": {
        "execution": {
          "iopub.execute_input": "2023-09-01T15:53:47.277168Z",
          "iopub.status.busy": "2023-09-01T15:53:47.276410Z",
          "iopub.status.idle": "2023-09-01T15:53:47.281856Z",
          "shell.execute_reply": "2023-09-01T15:53:47.281221Z"
        },
        "papermill": {
          "duration": 0.011341,
          "end_time": "2023-09-01T15:53:47.283498",
          "exception": false,
          "start_time": "2023-09-01T15:53:47.272157",
          "status": "completed"
        },
        "tags": [
          "remove-cell"
        ]
      },
      "outputs": [],
      "source": []
    },
    {
      "cell_type": "markdown",
      "id": "ad9dbb7f",
      "metadata": {
        "papermill": {
          "duration": 0.001575,
          "end_time": "2023-09-01T15:53:47.287142",
          "exception": false,
          "start_time": "2023-09-01T15:53:47.285567",
          "status": "completed"
        },
        "tags": []
      },
      "source": [
        "# Core\n",
        "\n",
        "> Core for SAX neural networks"
      ]
    },
    {
      "cell_type": "code",
      "execution_count": 2,
      "id": "04e809289e1a4b5f",
      "metadata": {
        "execution": {
          "iopub.execute_input": "2023-09-01T15:53:47.291779Z",
          "iopub.status.busy": "2023-09-01T15:53:47.291186Z",
          "iopub.status.idle": "2023-09-01T15:53:47.815942Z",
          "shell.execute_reply": "2023-09-01T15:53:47.815360Z"
        },
        "papermill": {
          "duration": 0.529098,
          "end_time": "2023-09-01T15:53:47.817779",
          "exception": false,
          "start_time": "2023-09-01T15:53:47.288681",
          "status": "completed"
        },
        "tags": [
          "remove-cell"
        ]
      },
      "outputs": [],
      "source": [
        "import matplotlib.pyplot as plt\n",
        "from fastcore.test import test_eq\n",
        "from pytest import approx, raises\n",
        "\n",
        "import os, sys; sys.stderr = open(os.devnull, \"w\")"
      ]
    },
    {
      "cell_type": "code",
      "execution_count": 3,
      "id": "9e77e72e8c91f2b8",
      "metadata": {
        "execution": {
          "iopub.execute_input": "2023-09-01T15:53:47.824124Z",
          "iopub.status.busy": "2023-09-01T15:53:47.823493Z",
          "iopub.status.idle": "2023-09-01T15:53:49.187739Z",
          "shell.execute_reply": "2023-09-01T15:53:49.187158Z"
        },
        "papermill": {
          "duration": 1.370226,
          "end_time": "2023-09-01T15:53:49.189951",
          "exception": false,
          "start_time": "2023-09-01T15:53:47.819725",
          "status": "completed"
        },
        "tags": [
          "hide-input"
        ]
      },
      "outputs": [],
      "source": [
        "from __future__ import annotations\n",
        "\n",
        "from typing import Callable, Dict, Optional, Tuple, Union\n",
        "\n",
        "import jax\n",
        "import jax.numpy as jnp\n",
        "from sax.nn.utils import denormalize, normalize\n",
        "from sax.typing_ import Array, ComplexFloat"
      ]
    },
    {
      "cell_type": "markdown",
      "id": "25eb3cf44e9e05ba",
      "metadata": {},
      "source": [
        ":::{eval-rst}\n",
        ".. autofunction:: sax.nn.core.preprocess\n",
        ":::\n"
      ]
    },
    {
      "cell_type": "code",
      "execution_count": 4,
      "id": "9c4e673ba997cc4a",
      "metadata": {
        "execution": {
          "iopub.execute_input": "2023-09-01T15:53:49.195708Z",
          "iopub.status.busy": "2023-09-01T15:53:49.194846Z",
          "iopub.status.idle": "2023-09-01T15:53:49.200471Z",
          "shell.execute_reply": "2023-09-01T15:53:49.200017Z"
        },
        "papermill": {
          "duration": 0.009994,
          "end_time": "2023-09-01T15:53:49.201900",
          "exception": false,
          "start_time": "2023-09-01T15:53:49.191906",
          "status": "completed"
        },
        "tags": [
          "hide-input"
        ]
      },
      "outputs": [],
      "source": [
        "def preprocess(*params: ComplexFloat) -> ComplexFloat:\n",
        "    \"\"\"preprocess parameters\n",
        "\n",
        "    > Note: (1) all arguments are first casted into the same shape. (2) then pairs \n",
        "      of arguments are divided into each other to create relative arguments. (3) all \n",
        "      arguments are then stacked into one big tensor\n",
        "    \"\"\"\n",
        "    x = jnp.stack(jnp.broadcast_arrays(*params), -1)\n",
        "    assert isinstance(x, jnp.ndarray)\n",
        "    to_concatenate = [x]\n",
        "    for i in range(1, x.shape[-1]):\n",
        "        _x = jnp.roll(x, shift=i, axis=-1)\n",
        "        to_concatenate.append(x / _x)\n",
        "        to_concatenate.append(_x / x)\n",
        "    x = jnp.concatenate(to_concatenate, -1)\n",
        "    assert isinstance(x, jnp.ndarray)\n",
        "    return x"
      ]
    },
    {
      "cell_type": "markdown",
      "id": "669cf9393409067f",
      "metadata": {},
      "source": [
        ":::{eval-rst}\n",
        ".. autofunction:: sax.nn.core.dense\n",
        ":::\n"
      ]
    },
    {
      "cell_type": "code",
      "execution_count": 5,
      "id": "0f003eff7f4c8a03",
      "metadata": {
        "execution": {
          "iopub.execute_input": "2023-09-01T15:53:49.206859Z",
          "iopub.status.busy": "2023-09-01T15:53:49.206306Z",
          "iopub.status.idle": "2023-09-01T15:53:49.211695Z",
          "shell.execute_reply": "2023-09-01T15:53:49.211154Z"
        },
        "papermill": {
          "duration": 0.009788,
          "end_time": "2023-09-01T15:53:49.213380",
          "exception": false,
          "start_time": "2023-09-01T15:53:49.203592",
          "status": "completed"
        },
        "tags": [
          "hide-input"
        ]
      },
      "outputs": [],
      "source": [
        "def dense(\n",
        "    weights: Dict[str, Array],\n",
        "    *params: ComplexFloat,\n",
        "    x_norm: Tuple[float, float] = (0.0, 1.0),\n",
        "    y_norm: Tuple[float, float] = (0.0, 1.0),\n",
        "    preprocess: Callable = preprocess,\n",
        "    activation: Callable = jax.nn.leaky_relu,\n",
        ") -> ComplexFloat:\n",
        "    \"\"\"simple dense neural network\"\"\"\n",
        "    x_mean, x_std = x_norm\n",
        "    y_mean, y_std = y_norm\n",
        "    x = preprocess(*params)\n",
        "    x = normalize(x, mean=x_mean, std=x_std)\n",
        "    for i in range(len([w for w in weights if w.startswith(\"w\")])):\n",
        "        x = activation(x @ weights[f\"w{i}\"] + weights.get(f\"b{i}\", 0.0))\n",
        "    y = denormalize(x, mean=y_mean, std=y_std)\n",
        "    return y"
      ]
    },
    {
      "cell_type": "markdown",
      "id": "6400d06be467547a",
      "metadata": {},
      "source": [
        ":::{eval-rst}\n",
        ".. autofunction:: sax.nn.core.generate_dense_weights\n",
        ":::\n"
      ]
    },
    {
      "cell_type": "code",
      "execution_count": 6,
      "id": "25fe9341f32190dd",
      "metadata": {
        "execution": {
          "iopub.execute_input": "2023-09-01T15:53:49.220188Z",
          "iopub.status.busy": "2023-09-01T15:53:49.219566Z",
          "iopub.status.idle": "2023-09-01T15:53:49.226444Z",
          "shell.execute_reply": "2023-09-01T15:53:49.225899Z"
        },
        "papermill": {
          "duration": 0.012849,
          "end_time": "2023-09-01T15:53:49.228013",
          "exception": false,
          "start_time": "2023-09-01T15:53:49.215164",
          "status": "completed"
        },
        "tags": [
          "hide-input"
        ]
      },
      "outputs": [],
      "source": [
        "def generate_dense_weights(\n",
        "    key: Union[int, Array],\n",
        "    sizes: Tuple[int, ...],\n",
        "    input_names: Optional[Tuple[str, ...]] = None,\n",
        "    output_names: Optional[Tuple[str, ...]] = None,\n",
        "    preprocess=preprocess,\n",
        ") -> Dict[str, ComplexFloat]:\n",
        "    \"\"\"Generate the weights for a dense neural network\"\"\"\n",
        "\n",
        "    if isinstance(key, int):\n",
        "        key = jax.random.PRNGKey(key)\n",
        "    assert isinstance(key, jnp.ndarray)\n",
        "\n",
        "    sizes = tuple(s for s in sizes)\n",
        "    if input_names:\n",
        "        arr = preprocess(*jnp.ones(len(input_names)))\n",
        "        assert isinstance(arr, jnp.ndarray)\n",
        "        sizes = (arr.shape[-1],) + sizes\n",
        "    if output_names:\n",
        "        sizes = sizes + (len(output_names),)\n",
        "\n",
        "    keys = jax.random.split(key, 2 * len(sizes))\n",
        "    rand = jax.nn.initializers.lecun_normal()\n",
        "    weights = {}\n",
        "    for i, (m, n) in enumerate(zip(sizes[:-1], sizes[1:])):\n",
        "        weights[f\"w{i}\"] = rand(keys[2 * i], (m, n))\n",
        "        weights[f\"b{i}\"] = rand(keys[2 * i + 1], (1, n)).ravel()\n",
        "\n",
        "    return weights"
      ]
    }
  ],
  "metadata": {
    "kernelspec": {
      "display_name": "sax",
      "language": "python",
      "name": "sax"
    },
    "language_info": {
      "codemirror_mode": {
        "name": "ipython",
        "version": 3
      },
      "file_extension": ".py",
      "mimetype": "text/x-python",
      "name": "python",
      "nbconvert_exporter": "python",
      "pygments_lexer": "ipython3",
      "version": "3.11.5"
    },
    "papermill": {
      "default_parameters": {},
      "duration": 3.99633,
      "end_time": "2023-09-01T15:53:49.953866",
      "environment_variables": {},
      "exception": null,
      "input_path": "./nbs/09c_nn_core.ipynb",
      "output_path": "./nbs/09c_nn_core.ipynb",
      "parameters": {},
      "start_time": "2023-09-01T15:53:45.957536",
      "version": "2.4.0"
    }
  },
  "nbformat": 4,
  "nbformat_minor": 5
}