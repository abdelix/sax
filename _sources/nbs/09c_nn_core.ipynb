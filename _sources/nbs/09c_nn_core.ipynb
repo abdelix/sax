{
  "cells": [
    {
      "cell_type": "code",
      "execution_count": 1,
      "id": "ba83e8e665ec6ef3",
      "metadata": {
        "execution": {
          "iopub.execute_input": "2023-06-01T21:10:35.680063Z",
          "iopub.status.busy": "2023-06-01T21:10:35.679587Z",
          "iopub.status.idle": "2023-06-01T21:10:35.684326Z",
          "shell.execute_reply": "2023-06-01T21:10:35.683873Z"
        },
        "papermill": {
          "duration": 0.009437,
          "end_time": "2023-06-01T21:10:35.685700",
          "exception": false,
          "start_time": "2023-06-01T21:10:35.676263",
          "status": "completed"
        },
        "tags": [
          "remove-cell"
        ]
      },
      "outputs": [],
      "source": []
    },
    {
      "cell_type": "markdown",
      "id": "ad9dbb7f",
      "metadata": {
        "papermill": {
          "duration": 0.001223,
          "end_time": "2023-06-01T21:10:35.688505",
          "exception": false,
          "start_time": "2023-06-01T21:10:35.687282",
          "status": "completed"
        },
        "tags": []
      },
      "source": [
        "# Core\n",
        "\n",
        "> Core for SAX neural networks"
      ]
    },
    {
      "cell_type": "code",
      "execution_count": 2,
      "id": "36057ae9019f6c25",
      "metadata": {
        "execution": {
          "iopub.execute_input": "2023-06-01T21:10:35.693190Z",
          "iopub.status.busy": "2023-06-01T21:10:35.692999Z",
          "iopub.status.idle": "2023-06-01T21:10:36.126845Z",
          "shell.execute_reply": "2023-06-01T21:10:36.125892Z"
        },
        "papermill": {
          "duration": 0.437759,
          "end_time": "2023-06-01T21:10:36.128779",
          "exception": false,
          "start_time": "2023-06-01T21:10:35.691020",
          "status": "completed"
        },
        "tags": [
          "remove-cell"
        ]
      },
      "outputs": [],
      "source": [
        "import matplotlib.pyplot as plt\n",
        "from fastcore.test import test_eq\n",
        "from pytest import approx, raises\n",
        "\n",
        "import os, sys; sys.stderr = open(os.devnull, \"w\")"
      ]
    },
    {
      "cell_type": "code",
      "execution_count": 3,
      "id": "da214839dd352856",
      "metadata": {
        "execution": {
          "iopub.execute_input": "2023-06-01T21:10:36.134331Z",
          "iopub.status.busy": "2023-06-01T21:10:36.133282Z",
          "iopub.status.idle": "2023-06-01T21:10:37.152553Z",
          "shell.execute_reply": "2023-06-01T21:10:37.152104Z"
        },
        "papermill": {
          "duration": 1.023976,
          "end_time": "2023-06-01T21:10:37.154311",
          "exception": false,
          "start_time": "2023-06-01T21:10:36.130335",
          "status": "completed"
        },
        "tags": [
          "hide-input"
        ]
      },
      "outputs": [],
      "source": [
        "from __future__ import annotations\n",
        "\n",
        "from typing import Callable, Dict, Optional, Tuple, Union\n",
        "\n",
        "import jax\n",
        "import jax.numpy as jnp\n",
        "from sax.nn.utils import denormalize, normalize\n",
        "from sax.typing_ import Array, ComplexFloat"
      ]
    },
    {
      "cell_type": "markdown",
      "id": "5929088afb01b1cb",
      "metadata": {},
      "source": [
        ":::{eval-rst}\n",
        ".. autofunction:: sax.nn.core.preprocess\n",
        ":::\n"
      ]
    },
    {
      "cell_type": "code",
      "execution_count": 4,
      "id": "ca134779c6b91231",
      "metadata": {
        "execution": {
          "iopub.execute_input": "2023-06-01T21:10:37.159860Z",
          "iopub.status.busy": "2023-06-01T21:10:37.158676Z",
          "iopub.status.idle": "2023-06-01T21:10:37.164185Z",
          "shell.execute_reply": "2023-06-01T21:10:37.163838Z"
        },
        "papermill": {
          "duration": 0.009584,
          "end_time": "2023-06-01T21:10:37.165498",
          "exception": false,
          "start_time": "2023-06-01T21:10:37.155914",
          "status": "completed"
        },
        "tags": [
          "hide-input"
        ]
      },
      "outputs": [],
      "source": [
        "def preprocess(*params: ComplexFloat) -> ComplexFloat:\n",
        "    \"\"\"preprocess parameters\n",
        "\n",
        "    > Note: (1) all arguments are first casted into the same shape. (2) then pairs \n",
        "      of arguments are divided into each other to create relative arguments. (3) all \n",
        "      arguments are then stacked into one big tensor\n",
        "    \"\"\"\n",
        "    x = jnp.stack(jnp.broadcast_arrays(*params), -1)\n",
        "    assert isinstance(x, jnp.ndarray)\n",
        "    to_concatenate = [x]\n",
        "    for i in range(1, x.shape[-1]):\n",
        "        _x = jnp.roll(x, shift=i, axis=-1)\n",
        "        to_concatenate.append(x / _x)\n",
        "        to_concatenate.append(_x / x)\n",
        "    x = jnp.concatenate(to_concatenate, -1)\n",
        "    assert isinstance(x, jnp.ndarray)\n",
        "    return x"
      ]
    },
    {
      "cell_type": "markdown",
      "id": "3d2e18c3de08062d",
      "metadata": {},
      "source": [
        ":::{eval-rst}\n",
        ".. autofunction:: sax.nn.core.dense\n",
        ":::\n"
      ]
    },
    {
      "cell_type": "code",
      "execution_count": 5,
      "id": "1217ad7741b0a13a",
      "metadata": {
        "execution": {
          "iopub.execute_input": "2023-06-01T21:10:37.170619Z",
          "iopub.status.busy": "2023-06-01T21:10:37.169717Z",
          "iopub.status.idle": "2023-06-01T21:10:37.175207Z",
          "shell.execute_reply": "2023-06-01T21:10:37.174865Z"
        },
        "papermill": {
          "duration": 0.009589,
          "end_time": "2023-06-01T21:10:37.176516",
          "exception": false,
          "start_time": "2023-06-01T21:10:37.166927",
          "status": "completed"
        },
        "tags": [
          "hide-input"
        ]
      },
      "outputs": [],
      "source": [
        "def dense(\n",
        "    weights: Dict[str, Array],\n",
        "    *params: ComplexFloat,\n",
        "    x_norm: Tuple[float, float] = (0.0, 1.0),\n",
        "    y_norm: Tuple[float, float] = (0.0, 1.0),\n",
        "    preprocess: Callable = preprocess,\n",
        "    activation: Callable = jax.nn.leaky_relu,\n",
        ") -> ComplexFloat:\n",
        "    \"\"\"simple dense neural network\"\"\"\n",
        "    x_mean, x_std = x_norm\n",
        "    y_mean, y_std = y_norm\n",
        "    x = preprocess(*params)\n",
        "    x = normalize(x, mean=x_mean, std=x_std)\n",
        "    for i in range(len([w for w in weights if w.startswith(\"w\")])):\n",
        "        x = activation(x @ weights[f\"w{i}\"] + weights.get(f\"b{i}\", 0.0))\n",
        "    y = denormalize(x, mean=y_mean, std=y_std)\n",
        "    return y"
      ]
    },
    {
      "cell_type": "markdown",
      "id": "a009ec892c60851f",
      "metadata": {},
      "source": [
        ":::{eval-rst}\n",
        ".. autofunction:: sax.nn.core.generate_dense_weights\n",
        ":::\n"
      ]
    },
    {
      "cell_type": "code",
      "execution_count": 6,
      "id": "c716a9ea92464065",
      "metadata": {
        "execution": {
          "iopub.execute_input": "2023-06-01T21:10:37.181564Z",
          "iopub.status.busy": "2023-06-01T21:10:37.180676Z",
          "iopub.status.idle": "2023-06-01T21:10:37.187038Z",
          "shell.execute_reply": "2023-06-01T21:10:37.186671Z"
        },
        "papermill": {
          "duration": 0.010388,
          "end_time": "2023-06-01T21:10:37.188353",
          "exception": false,
          "start_time": "2023-06-01T21:10:37.177965",
          "status": "completed"
        },
        "tags": [
          "hide-input"
        ]
      },
      "outputs": [],
      "source": [
        "def generate_dense_weights(\n",
        "    key: Union[int, Array],\n",
        "    sizes: Tuple[int, ...],\n",
        "    input_names: Optional[Tuple[str, ...]] = None,\n",
        "    output_names: Optional[Tuple[str, ...]] = None,\n",
        "    preprocess=preprocess,\n",
        ") -> Dict[str, ComplexFloat]:\n",
        "    \"\"\"Generate the weights for a dense neural network\"\"\"\n",
        "\n",
        "    if isinstance(key, int):\n",
        "        key = jax.random.PRNGKey(key)\n",
        "    assert isinstance(key, jnp.ndarray)\n",
        "\n",
        "    sizes = tuple(s for s in sizes)\n",
        "    if input_names:\n",
        "        arr = preprocess(*jnp.ones(len(input_names)))\n",
        "        assert isinstance(arr, jnp.ndarray)\n",
        "        sizes = (arr.shape[-1],) + sizes\n",
        "    if output_names:\n",
        "        sizes = sizes + (len(output_names),)\n",
        "\n",
        "    keys = jax.random.split(key, 2 * len(sizes))\n",
        "    rand = jax.nn.initializers.lecun_normal()\n",
        "    weights = {}\n",
        "    for i, (m, n) in enumerate(zip(sizes[:-1], sizes[1:])):\n",
        "        weights[f\"w{i}\"] = rand(keys[2 * i], (m, n))\n",
        "        weights[f\"b{i}\"] = rand(keys[2 * i + 1], (1, n)).ravel()\n",
        "\n",
        "    return weights"
      ]
    }
  ],
  "metadata": {
    "kernelspec": {
      "display_name": "sax",
      "language": "python",
      "name": "sax"
    },
    "language_info": {
      "codemirror_mode": {
        "name": "ipython",
        "version": 3
      },
      "file_extension": ".py",
      "mimetype": "text/x-python",
      "name": "python",
      "nbconvert_exporter": "python",
      "pygments_lexer": "ipython3",
      "version": "3.11.3"
    },
    "papermill": {
      "default_parameters": {},
      "duration": 3.547968,
      "end_time": "2023-06-01T21:10:37.806799",
      "environment_variables": {},
      "exception": null,
      "input_path": "./nbs/09c_nn_core.ipynb",
      "output_path": "./nbs/09c_nn_core.ipynb",
      "parameters": {},
      "start_time": "2023-06-01T21:10:34.258831",
      "version": "2.3.4"
    }
  },
  "nbformat": 4,
  "nbformat_minor": 5
}