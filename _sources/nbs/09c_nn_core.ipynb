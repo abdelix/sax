{
  "cells": [
    {
      "cell_type": "code",
      "execution_count": 1,
      "id": "a424a4a49fe1eac2",
      "metadata": {
        "execution": {
          "iopub.execute_input": "2023-09-02T18:51:22.570577Z",
          "iopub.status.busy": "2023-09-02T18:51:22.570151Z",
          "iopub.status.idle": "2023-09-02T18:51:22.573742Z",
          "shell.execute_reply": "2023-09-02T18:51:22.573123Z"
        },
        "papermill": {
          "duration": 0.008533,
          "end_time": "2023-09-02T18:51:22.575216",
          "exception": false,
          "start_time": "2023-09-02T18:51:22.566683",
          "status": "completed"
        },
        "tags": [
          "remove-cell"
        ]
      },
      "outputs": [],
      "source": []
    },
    {
      "cell_type": "markdown",
      "id": "ad9dbb7f",
      "metadata": {
        "papermill": {
          "duration": 0.001409,
          "end_time": "2023-09-02T18:51:22.578546",
          "exception": false,
          "start_time": "2023-09-02T18:51:22.577137",
          "status": "completed"
        },
        "tags": []
      },
      "source": [
        "# Core\n",
        "\n",
        "> Core for SAX neural networks"
      ]
    },
    {
      "cell_type": "code",
      "execution_count": 2,
      "id": "c9c27b36bb03c82a",
      "metadata": {
        "execution": {
          "iopub.execute_input": "2023-09-02T18:51:22.582239Z",
          "iopub.status.busy": "2023-09-02T18:51:22.581761Z",
          "iopub.status.idle": "2023-09-02T18:51:23.010255Z",
          "shell.execute_reply": "2023-09-02T18:51:23.009771Z"
        },
        "papermill": {
          "duration": 0.432052,
          "end_time": "2023-09-02T18:51:23.011865",
          "exception": false,
          "start_time": "2023-09-02T18:51:22.579813",
          "status": "completed"
        },
        "tags": [
          "remove-cell"
        ]
      },
      "outputs": [],
      "source": [
        "import matplotlib.pyplot as plt\n",
        "from fastcore.test import test_eq\n",
        "from pytest import approx, raises\n",
        "\n",
        "import os, sys; sys.stderr = open(os.devnull, \"w\")"
      ]
    },
    {
      "cell_type": "code",
      "execution_count": 3,
      "id": "2f548d150c1ae0a1",
      "metadata": {
        "execution": {
          "iopub.execute_input": "2023-09-02T18:51:23.016700Z",
          "iopub.status.busy": "2023-09-02T18:51:23.016291Z",
          "iopub.status.idle": "2023-09-02T18:51:24.117135Z",
          "shell.execute_reply": "2023-09-02T18:51:24.116649Z"
        },
        "papermill": {
          "duration": 1.105629,
          "end_time": "2023-09-02T18:51:24.119118",
          "exception": false,
          "start_time": "2023-09-02T18:51:23.013489",
          "status": "completed"
        },
        "tags": [
          "hide-input"
        ]
      },
      "outputs": [],
      "source": [
        "from __future__ import annotations\n",
        "\n",
        "from typing import Callable, Dict, Optional, Tuple, Union\n",
        "\n",
        "import jax\n",
        "import jax.numpy as jnp\n",
        "from sax.nn.utils import denormalize, normalize\n",
        "from sax.typing_ import Array, ComplexFloat"
      ]
    },
    {
      "cell_type": "markdown",
      "id": "7f682aa9e255d9f6",
      "metadata": {},
      "source": [
        ":::{eval-rst}\n",
        ".. autofunction:: sax.nn.core.preprocess\n",
        ":::\n"
      ]
    },
    {
      "cell_type": "code",
      "execution_count": 4,
      "id": "cc26ac0baffa2906",
      "metadata": {
        "execution": {
          "iopub.execute_input": "2023-09-02T18:51:24.123979Z",
          "iopub.status.busy": "2023-09-02T18:51:24.123229Z",
          "iopub.status.idle": "2023-09-02T18:51:24.128066Z",
          "shell.execute_reply": "2023-09-02T18:51:24.127641Z"
        },
        "papermill": {
          "duration": 0.008579,
          "end_time": "2023-09-02T18:51:24.129342",
          "exception": false,
          "start_time": "2023-09-02T18:51:24.120763",
          "status": "completed"
        },
        "tags": [
          "hide-input"
        ]
      },
      "outputs": [],
      "source": [
        "def preprocess(*params: ComplexFloat) -> ComplexFloat:\n",
        "    \"\"\"preprocess parameters\n",
        "\n",
        "    > Note: (1) all arguments are first casted into the same shape. (2) then pairs \n",
        "      of arguments are divided into each other to create relative arguments. (3) all \n",
        "      arguments are then stacked into one big tensor\n",
        "    \"\"\"\n",
        "    x = jnp.stack(jnp.broadcast_arrays(*params), -1)\n",
        "    assert isinstance(x, jnp.ndarray)\n",
        "    to_concatenate = [x]\n",
        "    for i in range(1, x.shape[-1]):\n",
        "        _x = jnp.roll(x, shift=i, axis=-1)\n",
        "        to_concatenate.append(x / _x)\n",
        "        to_concatenate.append(_x / x)\n",
        "    x = jnp.concatenate(to_concatenate, -1)\n",
        "    assert isinstance(x, jnp.ndarray)\n",
        "    return x"
      ]
    },
    {
      "cell_type": "markdown",
      "id": "cf621fb0cbfd943e",
      "metadata": {},
      "source": [
        ":::{eval-rst}\n",
        ".. autofunction:: sax.nn.core.dense\n",
        ":::\n"
      ]
    },
    {
      "cell_type": "code",
      "execution_count": 5,
      "id": "64e7d3cdd0c981ad",
      "metadata": {
        "execution": {
          "iopub.execute_input": "2023-09-02T18:51:24.133265Z",
          "iopub.status.busy": "2023-09-02T18:51:24.132821Z",
          "iopub.status.idle": "2023-09-02T18:51:24.137220Z",
          "shell.execute_reply": "2023-09-02T18:51:24.136792Z"
        },
        "papermill": {
          "duration": 0.007693,
          "end_time": "2023-09-02T18:51:24.138430",
          "exception": false,
          "start_time": "2023-09-02T18:51:24.130737",
          "status": "completed"
        },
        "tags": [
          "hide-input"
        ]
      },
      "outputs": [],
      "source": [
        "def dense(\n",
        "    weights: Dict[str, Array],\n",
        "    *params: ComplexFloat,\n",
        "    x_norm: Tuple[float, float] = (0.0, 1.0),\n",
        "    y_norm: Tuple[float, float] = (0.0, 1.0),\n",
        "    preprocess: Callable = preprocess,\n",
        "    activation: Callable = jax.nn.leaky_relu,\n",
        ") -> ComplexFloat:\n",
        "    \"\"\"simple dense neural network\"\"\"\n",
        "    x_mean, x_std = x_norm\n",
        "    y_mean, y_std = y_norm\n",
        "    x = preprocess(*params)\n",
        "    x = normalize(x, mean=x_mean, std=x_std)\n",
        "    for i in range(len([w for w in weights if w.startswith(\"w\")])):\n",
        "        x = activation(x @ weights[f\"w{i}\"] + weights.get(f\"b{i}\", 0.0))\n",
        "    y = denormalize(x, mean=y_mean, std=y_std)\n",
        "    return y"
      ]
    },
    {
      "cell_type": "markdown",
      "id": "88d5fb9b8916d1bc",
      "metadata": {},
      "source": [
        ":::{eval-rst}\n",
        ".. autofunction:: sax.nn.core.generate_dense_weights\n",
        ":::\n"
      ]
    },
    {
      "cell_type": "code",
      "execution_count": 6,
      "id": "be2d53a5a4d469d2",
      "metadata": {
        "execution": {
          "iopub.execute_input": "2023-09-02T18:51:24.142330Z",
          "iopub.status.busy": "2023-09-02T18:51:24.141962Z",
          "iopub.status.idle": "2023-09-02T18:51:24.147467Z",
          "shell.execute_reply": "2023-09-02T18:51:24.147056Z"
        },
        "papermill": {
          "duration": 0.008933,
          "end_time": "2023-09-02T18:51:24.148744",
          "exception": false,
          "start_time": "2023-09-02T18:51:24.139811",
          "status": "completed"
        },
        "tags": [
          "hide-input"
        ]
      },
      "outputs": [],
      "source": [
        "def generate_dense_weights(\n",
        "    key: Union[int, Array],\n",
        "    sizes: Tuple[int, ...],\n",
        "    input_names: Optional[Tuple[str, ...]] = None,\n",
        "    output_names: Optional[Tuple[str, ...]] = None,\n",
        "    preprocess=preprocess,\n",
        ") -> Dict[str, ComplexFloat]:\n",
        "    \"\"\"Generate the weights for a dense neural network\"\"\"\n",
        "\n",
        "    if isinstance(key, int):\n",
        "        key = jax.random.PRNGKey(key)\n",
        "    assert isinstance(key, jnp.ndarray)\n",
        "\n",
        "    sizes = tuple(s for s in sizes)\n",
        "    if input_names:\n",
        "        arr = preprocess(*jnp.ones(len(input_names)))\n",
        "        assert isinstance(arr, jnp.ndarray)\n",
        "        sizes = (arr.shape[-1],) + sizes\n",
        "    if output_names:\n",
        "        sizes = sizes + (len(output_names),)\n",
        "\n",
        "    keys = jax.random.split(key, 2 * len(sizes))\n",
        "    rand = jax.nn.initializers.lecun_normal()\n",
        "    weights = {}\n",
        "    for i, (m, n) in enumerate(zip(sizes[:-1], sizes[1:])):\n",
        "        weights[f\"w{i}\"] = rand(keys[2 * i], (m, n))\n",
        "        weights[f\"b{i}\"] = rand(keys[2 * i + 1], (1, n)).ravel()\n",
        "\n",
        "    return weights"
      ]
    }
  ],
  "metadata": {
    "kernelspec": {
      "display_name": "sax",
      "language": "python",
      "name": "sax"
    },
    "language_info": {
      "codemirror_mode": {
        "name": "ipython",
        "version": 3
      },
      "file_extension": ".py",
      "mimetype": "text/x-python",
      "name": "python",
      "nbconvert_exporter": "python",
      "pygments_lexer": "ipython3",
      "version": "3.11.5"
    },
    "papermill": {
      "default_parameters": {},
      "duration": 3.424682,
      "end_time": "2023-09-02T18:51:24.666952",
      "environment_variables": {},
      "exception": null,
      "input_path": "./nbs/09c_nn_core.ipynb",
      "output_path": "./nbs/09c_nn_core.ipynb",
      "parameters": {},
      "start_time": "2023-09-02T18:51:21.242270",
      "version": "2.4.0"
    }
  },
  "nbformat": 4,
  "nbformat_minor": 5
}