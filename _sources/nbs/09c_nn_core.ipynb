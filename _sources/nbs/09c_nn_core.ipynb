{
  "cells": [
    {
      "cell_type": "code",
      "execution_count": 1,
      "id": "88995da8af867204",
      "metadata": {
        "execution": {
          "iopub.execute_input": "2023-06-01T21:50:16.156430Z",
          "iopub.status.busy": "2023-06-01T21:50:16.156012Z",
          "iopub.status.idle": "2023-06-01T21:50:16.159833Z",
          "shell.execute_reply": "2023-06-01T21:50:16.159343Z"
        },
        "papermill": {
          "duration": 0.008088,
          "end_time": "2023-06-01T21:50:16.161235",
          "exception": false,
          "start_time": "2023-06-01T21:50:16.153147",
          "status": "completed"
        },
        "tags": [
          "remove-cell"
        ]
      },
      "outputs": [],
      "source": []
    },
    {
      "cell_type": "markdown",
      "id": "ad9dbb7f",
      "metadata": {
        "papermill": {
          "duration": 0.001264,
          "end_time": "2023-06-01T21:50:16.164014",
          "exception": false,
          "start_time": "2023-06-01T21:50:16.162750",
          "status": "completed"
        },
        "tags": []
      },
      "source": [
        "# Core\n",
        "\n",
        "> Core for SAX neural networks"
      ]
    },
    {
      "cell_type": "code",
      "execution_count": 2,
      "id": "ec281174e4655c60",
      "metadata": {
        "execution": {
          "iopub.execute_input": "2023-06-01T21:50:16.168500Z",
          "iopub.status.busy": "2023-06-01T21:50:16.168314Z",
          "iopub.status.idle": "2023-06-01T21:50:16.622546Z",
          "shell.execute_reply": "2023-06-01T21:50:16.622119Z"
        },
        "papermill": {
          "duration": 0.458166,
          "end_time": "2023-06-01T21:50:16.624521",
          "exception": false,
          "start_time": "2023-06-01T21:50:16.166355",
          "status": "completed"
        },
        "tags": [
          "remove-cell"
        ]
      },
      "outputs": [],
      "source": [
        "import matplotlib.pyplot as plt\n",
        "from fastcore.test import test_eq\n",
        "from pytest import approx, raises\n",
        "\n",
        "import os, sys; sys.stderr = open(os.devnull, \"w\")"
      ]
    },
    {
      "cell_type": "code",
      "execution_count": 3,
      "id": "dff5119a5c73574f",
      "metadata": {
        "execution": {
          "iopub.execute_input": "2023-06-01T21:50:16.629828Z",
          "iopub.status.busy": "2023-06-01T21:50:16.628233Z",
          "iopub.status.idle": "2023-06-01T21:50:17.563983Z",
          "shell.execute_reply": "2023-06-01T21:50:17.563574Z"
        },
        "papermill": {
          "duration": 0.939544,
          "end_time": "2023-06-01T21:50:17.565657",
          "exception": false,
          "start_time": "2023-06-01T21:50:16.626113",
          "status": "completed"
        },
        "tags": [
          "hide-input"
        ]
      },
      "outputs": [],
      "source": [
        "from __future__ import annotations\n",
        "\n",
        "from typing import Callable, Dict, Optional, Tuple, Union\n",
        "\n",
        "import jax\n",
        "import jax.numpy as jnp\n",
        "from sax.nn.utils import denormalize, normalize\n",
        "from sax.typing_ import Array, ComplexFloat"
      ]
    },
    {
      "cell_type": "markdown",
      "id": "97f9d6bf7505a84c",
      "metadata": {},
      "source": [
        ":::{eval-rst}\n",
        ".. autofunction:: sax.nn.core.preprocess\n",
        ":::\n"
      ]
    },
    {
      "cell_type": "code",
      "execution_count": 4,
      "id": "22edd56bdd2314da",
      "metadata": {
        "execution": {
          "iopub.execute_input": "2023-06-01T21:50:17.571040Z",
          "iopub.status.busy": "2023-06-01T21:50:17.569935Z",
          "iopub.status.idle": "2023-06-01T21:50:17.575267Z",
          "shell.execute_reply": "2023-06-01T21:50:17.574932Z"
        },
        "papermill": {
          "duration": 0.009339,
          "end_time": "2023-06-01T21:50:17.576582",
          "exception": false,
          "start_time": "2023-06-01T21:50:17.567243",
          "status": "completed"
        },
        "tags": [
          "hide-input"
        ]
      },
      "outputs": [],
      "source": [
        "def preprocess(*params: ComplexFloat) -> ComplexFloat:\n",
        "    \"\"\"preprocess parameters\n",
        "\n",
        "    > Note: (1) all arguments are first casted into the same shape. (2) then pairs \n",
        "      of arguments are divided into each other to create relative arguments. (3) all \n",
        "      arguments are then stacked into one big tensor\n",
        "    \"\"\"\n",
        "    x = jnp.stack(jnp.broadcast_arrays(*params), -1)\n",
        "    assert isinstance(x, jnp.ndarray)\n",
        "    to_concatenate = [x]\n",
        "    for i in range(1, x.shape[-1]):\n",
        "        _x = jnp.roll(x, shift=i, axis=-1)\n",
        "        to_concatenate.append(x / _x)\n",
        "        to_concatenate.append(_x / x)\n",
        "    x = jnp.concatenate(to_concatenate, -1)\n",
        "    assert isinstance(x, jnp.ndarray)\n",
        "    return x"
      ]
    },
    {
      "cell_type": "markdown",
      "id": "974ea7fd6993375c",
      "metadata": {},
      "source": [
        ":::{eval-rst}\n",
        ".. autofunction:: sax.nn.core.dense\n",
        ":::\n"
      ]
    },
    {
      "cell_type": "code",
      "execution_count": 5,
      "id": "b2f7883636290540",
      "metadata": {
        "execution": {
          "iopub.execute_input": "2023-06-01T21:50:17.581350Z",
          "iopub.status.busy": "2023-06-01T21:50:17.580453Z",
          "iopub.status.idle": "2023-06-01T21:50:17.585917Z",
          "shell.execute_reply": "2023-06-01T21:50:17.585568Z"
        },
        "papermill": {
          "duration": 0.00925,
          "end_time": "2023-06-01T21:50:17.587224",
          "exception": false,
          "start_time": "2023-06-01T21:50:17.577974",
          "status": "completed"
        },
        "tags": [
          "hide-input"
        ]
      },
      "outputs": [],
      "source": [
        "def dense(\n",
        "    weights: Dict[str, Array],\n",
        "    *params: ComplexFloat,\n",
        "    x_norm: Tuple[float, float] = (0.0, 1.0),\n",
        "    y_norm: Tuple[float, float] = (0.0, 1.0),\n",
        "    preprocess: Callable = preprocess,\n",
        "    activation: Callable = jax.nn.leaky_relu,\n",
        ") -> ComplexFloat:\n",
        "    \"\"\"simple dense neural network\"\"\"\n",
        "    x_mean, x_std = x_norm\n",
        "    y_mean, y_std = y_norm\n",
        "    x = preprocess(*params)\n",
        "    x = normalize(x, mean=x_mean, std=x_std)\n",
        "    for i in range(len([w for w in weights if w.startswith(\"w\")])):\n",
        "        x = activation(x @ weights[f\"w{i}\"] + weights.get(f\"b{i}\", 0.0))\n",
        "    y = denormalize(x, mean=y_mean, std=y_std)\n",
        "    return y"
      ]
    },
    {
      "cell_type": "markdown",
      "id": "aa7eadbda9bd63d5",
      "metadata": {},
      "source": [
        ":::{eval-rst}\n",
        ".. autofunction:: sax.nn.core.generate_dense_weights\n",
        ":::\n"
      ]
    },
    {
      "cell_type": "code",
      "execution_count": 6,
      "id": "6b28f571863269f4",
      "metadata": {
        "execution": {
          "iopub.execute_input": "2023-06-01T21:50:17.592006Z",
          "iopub.status.busy": "2023-06-01T21:50:17.590992Z",
          "iopub.status.idle": "2023-06-01T21:50:17.597598Z",
          "shell.execute_reply": "2023-06-01T21:50:17.597254Z"
        },
        "papermill": {
          "duration": 0.010207,
          "end_time": "2023-06-01T21:50:17.598883",
          "exception": false,
          "start_time": "2023-06-01T21:50:17.588676",
          "status": "completed"
        },
        "tags": [
          "hide-input"
        ]
      },
      "outputs": [],
      "source": [
        "def generate_dense_weights(\n",
        "    key: Union[int, Array],\n",
        "    sizes: Tuple[int, ...],\n",
        "    input_names: Optional[Tuple[str, ...]] = None,\n",
        "    output_names: Optional[Tuple[str, ...]] = None,\n",
        "    preprocess=preprocess,\n",
        ") -> Dict[str, ComplexFloat]:\n",
        "    \"\"\"Generate the weights for a dense neural network\"\"\"\n",
        "\n",
        "    if isinstance(key, int):\n",
        "        key = jax.random.PRNGKey(key)\n",
        "    assert isinstance(key, jnp.ndarray)\n",
        "\n",
        "    sizes = tuple(s for s in sizes)\n",
        "    if input_names:\n",
        "        arr = preprocess(*jnp.ones(len(input_names)))\n",
        "        assert isinstance(arr, jnp.ndarray)\n",
        "        sizes = (arr.shape[-1],) + sizes\n",
        "    if output_names:\n",
        "        sizes = sizes + (len(output_names),)\n",
        "\n",
        "    keys = jax.random.split(key, 2 * len(sizes))\n",
        "    rand = jax.nn.initializers.lecun_normal()\n",
        "    weights = {}\n",
        "    for i, (m, n) in enumerate(zip(sizes[:-1], sizes[1:])):\n",
        "        weights[f\"w{i}\"] = rand(keys[2 * i], (m, n))\n",
        "        weights[f\"b{i}\"] = rand(keys[2 * i + 1], (1, n)).ravel()\n",
        "\n",
        "    return weights"
      ]
    }
  ],
  "metadata": {
    "kernelspec": {
      "display_name": "sax",
      "language": "python",
      "name": "sax"
    },
    "language_info": {
      "codemirror_mode": {
        "name": "ipython",
        "version": 3
      },
      "file_extension": ".py",
      "mimetype": "text/x-python",
      "name": "python",
      "nbconvert_exporter": "python",
      "pygments_lexer": "ipython3",
      "version": "3.11.3"
    },
    "papermill": {
      "default_parameters": {},
      "duration": 3.227368,
      "end_time": "2023-06-01T21:50:18.119675",
      "environment_variables": {},
      "exception": null,
      "input_path": "./nbs/09c_nn_core.ipynb",
      "output_path": "./nbs/09c_nn_core.ipynb",
      "parameters": {},
      "start_time": "2023-06-01T21:50:14.892307",
      "version": "2.3.4"
    }
  },
  "nbformat": 4,
  "nbformat_minor": 5
}