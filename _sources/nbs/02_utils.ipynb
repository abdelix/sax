{
  "cells": [
    {
      "cell_type": "code",
      "execution_count": 1,
      "id": "7bdd3d030a7394b3",
      "metadata": {
        "execution": {
          "iopub.execute_input": "2023-07-01T03:32:23.185283Z",
          "iopub.status.busy": "2023-07-01T03:32:23.185062Z",
          "iopub.status.idle": "2023-07-01T03:32:23.189302Z",
          "shell.execute_reply": "2023-07-01T03:32:23.188829Z"
        },
        "papermill": {
          "duration": 0.013615,
          "end_time": "2023-07-01T03:32:23.190474",
          "exception": false,
          "start_time": "2023-07-01T03:32:23.176859",
          "status": "completed"
        },
        "tags": [
          "remove-cell"
        ]
      },
      "outputs": [],
      "source": []
    },
    {
      "cell_type": "markdown",
      "id": "6ecfd145",
      "metadata": {
        "papermill": {
          "duration": 0.018479,
          "end_time": "2023-07-01T03:32:23.215686",
          "exception": false,
          "start_time": "2023-07-01T03:32:23.197207",
          "status": "completed"
        },
        "tags": []
      },
      "source": [
        "# Utils\n",
        "\n",
        "> General SAX utilities"
      ]
    },
    {
      "cell_type": "code",
      "execution_count": 2,
      "id": "583ba9436cc8e307",
      "metadata": {
        "execution": {
          "iopub.execute_input": "2023-07-01T03:32:23.243022Z",
          "iopub.status.busy": "2023-07-01T03:32:23.242794Z",
          "iopub.status.idle": "2023-07-01T03:32:23.876213Z",
          "shell.execute_reply": "2023-07-01T03:32:23.875782Z"
        },
        "papermill": {
          "duration": 0.648615,
          "end_time": "2023-07-01T03:32:23.877789",
          "exception": false,
          "start_time": "2023-07-01T03:32:23.229174",
          "status": "completed"
        },
        "tags": [
          "remove-cell"
        ]
      },
      "outputs": [],
      "source": [
        "import matplotlib.pyplot as plt\n",
        "from fastcore.test import test_eq\n",
        "from pytest import raises\n",
        "\n",
        "import os, sys; sys.stderr = open(os.devnull, \"w\")"
      ]
    },
    {
      "cell_type": "code",
      "execution_count": 3,
      "id": "daa622a035bfd978",
      "metadata": {
        "execution": {
          "iopub.execute_input": "2023-07-01T03:32:23.898298Z",
          "iopub.status.busy": "2023-07-01T03:32:23.897921Z",
          "iopub.status.idle": "2023-07-01T03:32:24.817870Z",
          "shell.execute_reply": "2023-07-01T03:32:24.817433Z"
        },
        "papermill": {
          "duration": 0.935022,
          "end_time": "2023-07-01T03:32:24.819586",
          "exception": false,
          "start_time": "2023-07-01T03:32:23.884564",
          "status": "completed"
        },
        "tags": [
          "hide-input"
        ]
      },
      "outputs": [],
      "source": [
        "from __future__ import annotations\n",
        "\n",
        "import inspect\n",
        "import re\n",
        "import warnings\n",
        "from functools import lru_cache, partial, wraps\n",
        "from hashlib import md5\n",
        "from typing import Any, Callable, Dict, Iterable, Iterator, Tuple, Union, cast, overload\n",
        "\n",
        "import numpy as np\n",
        "import orjson\n",
        "from natsort import natsorted\n",
        "from sax.typing_ import (\n",
        "    Array,\n",
        "    ComplexFloat,\n",
        "    Float,\n",
        "    Model,\n",
        "    ModelFactory,\n",
        "    SCoo,\n",
        "    SDense,\n",
        "    SDict,\n",
        "    Settings,\n",
        "    SType,\n",
        "    is_mixedmode,\n",
        "    is_model,\n",
        "    is_model_factory,\n",
        "    is_scoo,\n",
        "    is_sdense,\n",
        "    is_sdict,\n",
        ")\n",
        "\n",
        "try:\n",
        "    import jax\n",
        "    import jax.numpy as jnp\n",
        "    import jax.scipy as jsp\n",
        "    import jax.scipy.linalg\n",
        "    JAX_AVAILABLE = True\n",
        "except ImportError:\n",
        "    import numpy as jnp\n",
        "    import scipy as jsp\n",
        "    import scipy.linalg\n",
        "    JAX_AVAILABLE = False"
      ]
    },
    {
      "cell_type": "markdown",
      "id": "e2d39f0f0be06d1b",
      "metadata": {},
      "source": [
        ":::{eval-rst}\n",
        ".. autofunction:: sax.utils.block_diag\n",
        ":::\n"
      ]
    },
    {
      "cell_type": "code",
      "execution_count": 4,
      "id": "4bef0f73ed8c609f",
      "metadata": {
        "execution": {
          "iopub.execute_input": "2023-07-01T03:32:24.857196Z",
          "iopub.status.busy": "2023-07-01T03:32:24.856820Z",
          "iopub.status.idle": "2023-07-01T03:32:24.863247Z",
          "shell.execute_reply": "2023-07-01T03:32:24.862839Z"
        },
        "papermill": {
          "duration": 0.037524,
          "end_time": "2023-07-01T03:32:24.864558",
          "exception": false,
          "start_time": "2023-07-01T03:32:24.827034",
          "status": "completed"
        },
        "tags": [
          "hide-input"
        ]
      },
      "outputs": [],
      "source": [
        "def block_diag(*arrs: Array) -> Array:\n",
        "    \"\"\"create block diagonal matrix with arbitrary batch dimensions \"\"\"\n",
        "    batch_shape = arrs[0].shape[:-2]\n",
        "    \n",
        "    B = jnp.prod(jnp.asarray(batch_shape, dtype=int))\n",
        "    \n",
        "    N = 0\n",
        "    for arr in arrs:\n",
        "        if batch_shape != arr.shape[:-2]:\n",
        "            raise ValueError(\"batch dimensions for given arrays don't match.\")\n",
        "        m, n = arr.shape[-2:]\n",
        "        if m != n:\n",
        "            raise ValueError(\"given arrays are not square.\")\n",
        "        N += n\n",
        "    \n",
        "    arrs = [arr.reshape(-1, arr.shape[-2], arr.shape[-1]) for arr in arrs]\n",
        "\n",
        "    if JAX_AVAILABLE:\n",
        "        batch_block_diag = jax.vmap(jsp.linalg.block_diag, in_axes=0, out_axes=0)\n",
        "        block_diag = batch_block_diag(*arrs)\n",
        "    else:\n",
        "        arrs = [jsp.linalg.block_diag(*[arr[i] for arr in arrs]) for i in range(B)]\n",
        "        block_diag = jnp.stack(arrs, 0)\n",
        "        \n",
        "    return block_diag.reshape(*batch_shape, N, N)"
      ]
    },
    {
      "cell_type": "code",
      "execution_count": 5,
      "id": "7e9b15b3",
      "metadata": {
        "execution": {
          "iopub.execute_input": "2023-07-01T03:32:24.880102Z",
          "iopub.status.busy": "2023-07-01T03:32:24.879910Z",
          "iopub.status.idle": "2023-07-01T03:32:25.057789Z",
          "shell.execute_reply": "2023-07-01T03:32:25.057296Z"
        },
        "papermill": {
          "duration": 0.188203,
          "end_time": "2023-07-01T03:32:25.059348",
          "exception": false,
          "start_time": "2023-07-01T03:32:24.871145",
          "status": "completed"
        },
        "tags": []
      },
      "outputs": [],
      "source": [
        "arr1 = 1 * jnp.ones((1, 2, 2))\n",
        "arr2 = 2 * jnp.ones((1, 3, 3))\n",
        "\n",
        "test_eq(\n",
        "    block_diag(arr1, arr2),\n",
        "    [[[1.0, 1.0, 0.0, 0.0, 0.0],\n",
        "      [1.0, 1.0, 0.0, 0.0, 0.0],\n",
        "      [0.0, 0.0, 2.0, 2.0, 2.0],\n",
        "      [0.0, 0.0, 2.0, 2.0, 2.0],\n",
        "      [0.0, 0.0, 2.0, 2.0, 2.0]]]\n",
        ")"
      ]
    },
    {
      "cell_type": "markdown",
      "id": "e2d1b79a0a345fbe",
      "metadata": {},
      "source": [
        ":::{eval-rst}\n",
        ".. autofunction:: sax.utils.clean_string\n",
        ":::\n"
      ]
    },
    {
      "cell_type": "code",
      "execution_count": 6,
      "id": "9adc97cf230f0df1",
      "metadata": {
        "execution": {
          "iopub.execute_input": "2023-07-01T03:32:25.080941Z",
          "iopub.status.busy": "2023-07-01T03:32:25.080614Z",
          "iopub.status.idle": "2023-07-01T03:32:25.084806Z",
          "shell.execute_reply": "2023-07-01T03:32:25.084346Z"
        },
        "papermill": {
          "duration": 0.020105,
          "end_time": "2023-07-01T03:32:25.086291",
          "exception": false,
          "start_time": "2023-07-01T03:32:25.066186",
          "status": "completed"
        },
        "tags": [
          "hide-input"
        ]
      },
      "outputs": [],
      "source": [
        "\n",
        "def clean_string(s: str, dot='p', minus='m', other='_') -> str:\n",
        "    \"\"\"clean a string such that it is a valid python identifier\"\"\"\n",
        "    original = s\n",
        "    s = s.strip()\n",
        "    s = s.replace(\".\", dot)  # dot\n",
        "    s = s.replace(\"-\", minus)  # minus\n",
        "    s = re.sub(\"[^0-9a-zA-Z]\", other, s)\n",
        "    if s[0] in \"0123456789\":\n",
        "        s = \"_\" + s\n",
        "    if s != original:\n",
        "        warnings.warn(f\"modified string {original} in an attempt to make valid python identifier: {s}\")\n",
        "    if not s.isidentifier():\n",
        "        raise ValueError(f\"failed to clean string to a valid python identifier: {s}\")\n",
        "    return s"
      ]
    },
    {
      "cell_type": "code",
      "execution_count": 7,
      "id": "cfe8bf00",
      "metadata": {
        "execution": {
          "iopub.execute_input": "2023-07-01T03:32:25.109982Z",
          "iopub.status.busy": "2023-07-01T03:32:25.109684Z",
          "iopub.status.idle": "2023-07-01T03:32:25.112607Z",
          "shell.execute_reply": "2023-07-01T03:32:25.112176Z"
        },
        "papermill": {
          "duration": 0.023233,
          "end_time": "2023-07-01T03:32:25.116160",
          "exception": false,
          "start_time": "2023-07-01T03:32:25.092927",
          "status": "completed"
        },
        "tags": []
      },
      "outputs": [],
      "source": [
        "assert clean_string(\"Hello, string 1.0\") == \"Hello__string_1p0\""
      ]
    },
    {
      "cell_type": "markdown",
      "id": "6a6fddfc7ffa2166",
      "metadata": {},
      "source": [
        ":::{eval-rst}\n",
        ".. autofunction:: sax.utils.copy_settings\n",
        ":::\n"
      ]
    },
    {
      "cell_type": "markdown",
      "id": "ddbc959d9c07b37a",
      "metadata": {},
      "source": [
        ":::{eval-rst}\n",
        ".. autofunction:: sax.utils.validate_settings\n",
        ":::\n"
      ]
    },
    {
      "cell_type": "markdown",
      "id": "dcbc47eec6125782",
      "metadata": {},
      "source": [
        ":::{eval-rst}\n",
        ".. autofunction:: sax.utils.try_float\n",
        ":::\n"
      ]
    },
    {
      "cell_type": "code",
      "execution_count": 8,
      "id": "a24494adc8e993a4",
      "metadata": {
        "execution": {
          "iopub.execute_input": "2023-07-01T03:32:25.145805Z",
          "iopub.status.busy": "2023-07-01T03:32:25.145514Z",
          "iopub.status.idle": "2023-07-01T03:32:25.149817Z",
          "shell.execute_reply": "2023-07-01T03:32:25.149361Z"
        },
        "papermill": {
          "duration": 0.020194,
          "end_time": "2023-07-01T03:32:25.151063",
          "exception": false,
          "start_time": "2023-07-01T03:32:25.130869",
          "status": "completed"
        },
        "tags": [
          "hide-input"
        ]
      },
      "outputs": [],
      "source": [
        "\n",
        "def copy_settings(settings: Settings) -> Settings:\n",
        "    \"\"\"copy a parameter dictionary\"\"\"\n",
        "    return validate_settings(settings)  # validation also copies\n",
        "\n",
        "def validate_settings(settings: Settings) -> Settings:\n",
        "    \"\"\"Validate a parameter dictionary\"\"\"\n",
        "    _settings = {}\n",
        "    for k, v in settings.items():\n",
        "        if isinstance(v, dict):\n",
        "            _settings[k] = validate_settings(v)\n",
        "        else:\n",
        "            _settings[k] = try_float(v)\n",
        "    return _settings\n",
        "\n",
        "def try_float(f: Any) -> Any:\n",
        "    \"\"\"try converting an object to float, return unchanged object on fail\"\"\"\n",
        "    try:\n",
        "        return jnp.asarray(f, dtype=float)\n",
        "    except (ValueError, TypeError):\n",
        "        return f"
      ]
    },
    {
      "cell_type": "code",
      "execution_count": 9,
      "id": "7c7a72e4",
      "metadata": {
        "execution": {
          "iopub.execute_input": "2023-07-01T03:32:25.178081Z",
          "iopub.status.busy": "2023-07-01T03:32:25.177747Z",
          "iopub.status.idle": "2023-07-01T03:32:25.276780Z",
          "shell.execute_reply": "2023-07-01T03:32:25.276342Z"
        },
        "papermill": {
          "duration": 0.120445,
          "end_time": "2023-07-01T03:32:25.278109",
          "exception": false,
          "start_time": "2023-07-01T03:32:25.157664",
          "status": "completed"
        },
        "tags": []
      },
      "outputs": [],
      "source": [
        "orig_settings = {\"a\": 3, \"c\": jnp.array([9.0, 10.0, 11.0])}\n",
        "new_settings = copy_settings(orig_settings)\n",
        "\n",
        "assert orig_settings[\"a\"] == new_settings[\"a\"]\n",
        "assert jnp.all(orig_settings[\"c\"] == new_settings[\"c\"])\n",
        "new_settings[\"a\"] = jnp.array(5.0)\n",
        "assert orig_settings[\"a\"] == 3\n",
        "assert new_settings[\"a\"] == 5\n",
        "assert orig_settings[\"c\"] is new_settings[\"c\"]"
      ]
    },
    {
      "cell_type": "markdown",
      "id": "a3f3e12595db6c80",
      "metadata": {},
      "source": [
        ":::{eval-rst}\n",
        ".. autofunction:: sax.utils.flatten_dict\n",
        ":::\n"
      ]
    },
    {
      "cell_type": "code",
      "execution_count": 10,
      "id": "a2eaf194ebdcf5a5",
      "metadata": {
        "execution": {
          "iopub.execute_input": "2023-07-01T03:32:25.300398Z",
          "iopub.status.busy": "2023-07-01T03:32:25.300101Z",
          "iopub.status.idle": "2023-07-01T03:32:25.304673Z",
          "shell.execute_reply": "2023-07-01T03:32:25.304240Z"
        },
        "papermill": {
          "duration": 0.020792,
          "end_time": "2023-07-01T03:32:25.305884",
          "exception": false,
          "start_time": "2023-07-01T03:32:25.285092",
          "status": "completed"
        },
        "tags": [
          "hide-input"
        ]
      },
      "outputs": [],
      "source": [
        "def flatten_dict(dic: Dict[str, Any], sep: str = \",\") -> Dict[str, Any]:\n",
        "    \"\"\"flatten a nested dictionary\"\"\"\n",
        "    return _flatten_dict(dic, sep=sep)\n",
        "\n",
        "\n",
        "def _flatten_dict(\n",
        "    dic: Dict[str, Any], sep: str = \",\", frozen: bool = False, parent_key: str = \"\"\n",
        ") -> Dict[str, Any]:\n",
        "    items = []\n",
        "    for k, v in dic.items():\n",
        "        new_key = parent_key + sep + k if parent_key else k\n",
        "        if isinstance(v, dict):\n",
        "            items.extend(\n",
        "                _flatten_dict(v, sep=sep, frozen=frozen, parent_key=new_key).items()\n",
        "            )\n",
        "        else:\n",
        "            items.append((new_key, v))\n",
        "\n",
        "    return dict(items)"
      ]
    },
    {
      "cell_type": "code",
      "execution_count": 11,
      "id": "dc454e7d",
      "metadata": {
        "execution": {
          "iopub.execute_input": "2023-07-01T03:32:25.332876Z",
          "iopub.status.busy": "2023-07-01T03:32:25.332614Z",
          "iopub.status.idle": "2023-07-01T03:32:25.335493Z",
          "shell.execute_reply": "2023-07-01T03:32:25.335095Z"
        },
        "papermill": {
          "duration": 0.024781,
          "end_time": "2023-07-01T03:32:25.337370",
          "exception": false,
          "start_time": "2023-07-01T03:32:25.312589",
          "status": "completed"
        },
        "tags": []
      },
      "outputs": [],
      "source": [
        "nested_dict = {\n",
        "    \"a\": 3.0,\n",
        "    \"b\": {\"c\": 4.0},\n",
        "}\n",
        "\n",
        "flat_dict = flatten_dict(nested_dict, sep=\",\")\n",
        "assert flat_dict == {\"a\": 3.0, \"b,c\": 4.0}"
      ]
    },
    {
      "cell_type": "markdown",
      "id": "4861f11989626a3f",
      "metadata": {},
      "source": [
        ":::{eval-rst}\n",
        ".. autofunction:: sax.utils.unflatten_dict\n",
        ":::\n"
      ]
    },
    {
      "cell_type": "code",
      "execution_count": 12,
      "id": "90600006f2bbbe8a",
      "metadata": {
        "execution": {
          "iopub.execute_input": "2023-07-01T03:32:25.358854Z",
          "iopub.status.busy": "2023-07-01T03:32:25.358616Z",
          "iopub.status.idle": "2023-07-01T03:32:25.362261Z",
          "shell.execute_reply": "2023-07-01T03:32:25.361887Z"
        },
        "papermill": {
          "duration": 0.017734,
          "end_time": "2023-07-01T03:32:25.366453",
          "exception": false,
          "start_time": "2023-07-01T03:32:25.348719",
          "status": "completed"
        },
        "tags": [
          "hide-input"
        ]
      },
      "outputs": [],
      "source": [
        "\n",
        "def unflatten_dict(dic, sep=\",\"):\n",
        "    \"\"\"unflatten a flattened dictionary \"\"\"\n",
        "    \n",
        "    # from: https://gist.github.com/fmder/494aaa2dd6f8c428cede\n",
        "    items = dict()\n",
        "\n",
        "    for k, v in dic.items():\n",
        "        keys = k.split(sep)\n",
        "        sub_items = items\n",
        "        for ki in keys[:-1]:\n",
        "            if ki in sub_items:\n",
        "                sub_items = sub_items[ki]\n",
        "            else:\n",
        "                sub_items[ki] = dict()\n",
        "                sub_items = sub_items[ki]\n",
        "\n",
        "        sub_items[keys[-1]] = v\n",
        "\n",
        "    return items"
      ]
    },
    {
      "cell_type": "code",
      "execution_count": 13,
      "id": "cd8b221b",
      "metadata": {
        "execution": {
          "iopub.execute_input": "2023-07-01T03:32:25.389511Z",
          "iopub.status.busy": "2023-07-01T03:32:25.389265Z",
          "iopub.status.idle": "2023-07-01T03:32:25.391840Z",
          "shell.execute_reply": "2023-07-01T03:32:25.391480Z"
        },
        "papermill": {
          "duration": 0.01938,
          "end_time": "2023-07-01T03:32:25.397902",
          "exception": false,
          "start_time": "2023-07-01T03:32:25.378522",
          "status": "completed"
        },
        "tags": []
      },
      "outputs": [],
      "source": [
        "assert unflatten_dict(flat_dict, sep=\",\") == nested_dict"
      ]
    },
    {
      "cell_type": "markdown",
      "id": "c7007c16e03d3179",
      "metadata": {},
      "source": [
        ":::{eval-rst}\n",
        ".. autofunction:: sax.utils.get_ports\n",
        ":::\n"
      ]
    },
    {
      "cell_type": "code",
      "execution_count": 14,
      "id": "e23fefd671662c1d",
      "metadata": {
        "execution": {
          "iopub.execute_input": "2023-07-01T03:32:25.427830Z",
          "iopub.status.busy": "2023-07-01T03:32:25.427618Z",
          "iopub.status.idle": "2023-07-01T03:32:25.432456Z",
          "shell.execute_reply": "2023-07-01T03:32:25.432115Z"
        },
        "papermill": {
          "duration": 0.0231,
          "end_time": "2023-07-01T03:32:25.433446",
          "exception": false,
          "start_time": "2023-07-01T03:32:25.410346",
          "status": "completed"
        },
        "tags": [
          "hide-input"
        ]
      },
      "outputs": [],
      "source": [
        "\n",
        "def get_ports(S: Union[Model, SType]) -> Tuple[str, ...]:\n",
        "    \"\"\"get port names of a model or an stype\"\"\"\n",
        "    if is_model(S):\n",
        "        return _get_ports_from_model(cast(Model, S))\n",
        "    elif is_sdict(S):\n",
        "        ports_set = {p1 for p1, _ in S} | {p2 for _, p2 in S}\n",
        "        return tuple(natsorted(ports_set))\n",
        "    elif is_scoo(S) or is_sdense(S):\n",
        "        *_, ports_map = S\n",
        "        return tuple(natsorted(ports_map.keys()))\n",
        "    else:\n",
        "        raise ValueError(\"Could not extract ports for given S\")\n",
        "        \n",
        "@lru_cache(maxsize=4096)  # cache to prevent future tracing\n",
        "def _get_ports_from_model(model: Model) -> Tuple[str, ...]:\n",
        "    if JAX_AVAILABLE:\n",
        "        S: SType = jax.eval_shape(model)\n",
        "    else:\n",
        "        warnings.warn(\"[NO JAX] requesting the ports of a model requires evaluating the model!\")\n",
        "        S = model()\n",
        "    return get_ports(S)"
      ]
    },
    {
      "cell_type": "markdown",
      "id": "4c23ef24",
      "metadata": {
        "papermill": {
          "duration": 0.012208,
          "end_time": "2023-07-01T03:32:25.452387",
          "exception": false,
          "start_time": "2023-07-01T03:32:25.440179",
          "status": "completed"
        },
        "tags": []
      },
      "source": [
        "> Note: if a `Model` function is given in stead of an `SDict`, the function will be traced by JAX to obtain the ports of the resulting `SType`. Although this tracing of the function is 'cheap' in comparison to evaluating the model/circuit. It is not for free!  Use this function sparingly on your large `Model` or `circuit`!"
      ]
    },
    {
      "cell_type": "code",
      "execution_count": 15,
      "id": "c70af810",
      "metadata": {
        "execution": {
          "iopub.execute_input": "2023-07-01T03:32:25.485995Z",
          "iopub.status.busy": "2023-07-01T03:32:25.485803Z",
          "iopub.status.idle": "2023-07-01T03:32:25.513203Z",
          "shell.execute_reply": "2023-07-01T03:32:25.512864Z"
        },
        "papermill": {
          "duration": 0.049186,
          "end_time": "2023-07-01T03:32:25.514302",
          "exception": false,
          "start_time": "2023-07-01T03:32:25.465116",
          "status": "completed"
        },
        "tags": []
      },
      "outputs": [
        {
          "data": {
            "text/plain": [
              "(Array([0], dtype=int32),\n",
              " Array([1], dtype=int32),\n",
              " Array([1.], dtype=float32, weak_type=True),\n",
              " {'in0': 0, 'out0': 1})"
            ]
          },
          "execution_count": 15,
          "metadata": {},
          "output_type": "execute_result"
        }
      ],
      "source": [
        "from sax.typing_ import scoo\n",
        "scoo({(\"in0\", \"out0\"): 1.0})"
      ]
    },
    {
      "cell_type": "code",
      "execution_count": 16,
      "id": "dc2eecbe",
      "metadata": {
        "execution": {
          "iopub.execute_input": "2023-07-01T03:32:25.538275Z",
          "iopub.status.busy": "2023-07-01T03:32:25.538052Z",
          "iopub.status.idle": "2023-07-01T03:32:25.734309Z",
          "shell.execute_reply": "2023-07-01T03:32:25.733891Z"
        },
        "papermill": {
          "duration": 0.214172,
          "end_time": "2023-07-01T03:32:25.735676",
          "exception": false,
          "start_time": "2023-07-01T03:32:25.521504",
          "status": "completed"
        },
        "tags": []
      },
      "outputs": [],
      "source": [
        "def coupler(coupling=0.5):\n",
        "    return {\n",
        "        (\"in0\", \"out0\"): coupling**0.5,\n",
        "        (\"in0\", \"out1\"): 1j*coupling**0.5,\n",
        "        (\"in1\", \"out0\"): 1j*coupling**0.5,\n",
        "        (\"in1\", \"out1\"): coupling**0.5,\n",
        "    }\n",
        "\n",
        "model = coupler\n",
        "assert get_ports(model) == ('in0', 'in1', 'out0', 'out1')\n",
        "\n",
        "sdict_ = coupler()\n",
        "assert get_ports(sdict_) == ('in0', 'in1', 'out0', 'out1')\n",
        "\n",
        "from sax.typing_ import scoo\n",
        "scoo_ = scoo(sdict_)\n",
        "assert get_ports(scoo_) == ('in0', 'in1', 'out0', 'out1')\n",
        "\n",
        "from sax.typing_ import sdense\n",
        "sdense_ = sdense(sdict_)\n",
        "assert get_ports(sdense_) == ('in0', 'in1', 'out0', 'out1')"
      ]
    },
    {
      "cell_type": "markdown",
      "id": "f153bc72ad8d658c",
      "metadata": {},
      "source": [
        ":::{eval-rst}\n",
        ".. autofunction:: sax.utils.get_port_combinations\n",
        ":::\n"
      ]
    },
    {
      "cell_type": "code",
      "execution_count": 17,
      "id": "e295e5c23a93f524",
      "metadata": {
        "execution": {
          "iopub.execute_input": "2023-07-01T03:32:25.755945Z",
          "iopub.status.busy": "2023-07-01T03:32:25.755757Z",
          "iopub.status.idle": "2023-07-01T03:32:25.761247Z",
          "shell.execute_reply": "2023-07-01T03:32:25.760887Z"
        },
        "papermill": {
          "duration": 0.019509,
          "end_time": "2023-07-01T03:32:25.762315",
          "exception": false,
          "start_time": "2023-07-01T03:32:25.742806",
          "status": "completed"
        },
        "tags": [
          "hide-input"
        ]
      },
      "outputs": [],
      "source": [
        "\n",
        "def get_port_combinations(S: Union[Model, SType]) -> Tuple[Tuple[str, str], ...]:\n",
        "    \"\"\"get port combinations of a model or an stype\"\"\"\n",
        "    \n",
        "    if is_model(S):\n",
        "        S = cast(Model, S)\n",
        "        return _get_port_combinations_from_model(S)\n",
        "    elif is_sdict(S):\n",
        "        S = cast(SDict, S)\n",
        "        return tuple(S.keys())\n",
        "    elif is_scoo(S):\n",
        "        Si, Sj, _, pm = cast(SCoo, S)\n",
        "        rpm = {int(i): str(p) for p, i in pm.items()}\n",
        "        return tuple(natsorted((rpm[int(i)], rpm[int(j)]) for i, j in zip(Si, Sj)))\n",
        "    elif is_sdense(S):\n",
        "        _, pm = cast(SDense, S)\n",
        "        return tuple(natsorted((p1, p2) for p1 in pm for p2 in pm))\n",
        "    else:\n",
        "        raise ValueError(\"Could not extract ports for given S\")\n",
        "        \n",
        "@lru_cache(maxsize=4096)  # cache to prevent future tracing\n",
        "def _get_port_combinations_from_model(model: Model) -> Tuple[Tuple[str, str], ...]:\n",
        "    if JAX_AVAILABLE:\n",
        "        S: SType = jax.eval_shape(model)\n",
        "    else:\n",
        "        warnings.warn(\"[NO JAX] requesting the ports of a model requires evaluating the model!\")\n",
        "        S = model()\n",
        "    return get_port_combinations(S)"
      ]
    },
    {
      "cell_type": "markdown",
      "id": "a43d6849",
      "metadata": {
        "papermill": {
          "duration": 0.01517,
          "end_time": "2023-07-01T03:32:25.784412",
          "exception": false,
          "start_time": "2023-07-01T03:32:25.769242",
          "status": "completed"
        },
        "tags": []
      },
      "source": [
        "> Note: if a `Model` function is given in stead of an `SDict`, the function will be traced by JAX to obtain the port combinations of the resulting `SType`. Although this tracing of the function is 'cheap' in comparison to evaluating the model/circuit. It is not for free!  Use this function sparingly on your large `Model` or `circuit`!"
      ]
    },
    {
      "cell_type": "code",
      "execution_count": 18,
      "id": "cf00a0c0",
      "metadata": {
        "execution": {
          "iopub.execute_input": "2023-07-01T03:32:25.817438Z",
          "iopub.status.busy": "2023-07-01T03:32:25.817203Z",
          "iopub.status.idle": "2023-07-01T03:32:25.862996Z",
          "shell.execute_reply": "2023-07-01T03:32:25.862554Z"
        },
        "papermill": {
          "duration": 0.063455,
          "end_time": "2023-07-01T03:32:25.864314",
          "exception": false,
          "start_time": "2023-07-01T03:32:25.800859",
          "status": "completed"
        },
        "tags": []
      },
      "outputs": [],
      "source": [
        "model = coupler\n",
        "assert get_port_combinations(model) == ((\"in0\", \"out0\"), (\"in0\", \"out1\"), (\"in1\", \"out0\"), (\"in1\", \"out1\"))\n",
        "\n",
        "sdict_ = coupler()\n",
        "assert get_port_combinations(sdict_) == ((\"in0\", \"out0\"), (\"in0\", \"out1\"), (\"in1\", \"out0\"), (\"in1\", \"out1\"))\n",
        "\n",
        "from sax.typing_ import scoo\n",
        "scoo_ = scoo(sdict_)\n",
        "assert get_port_combinations(scoo_) == ((\"in0\", \"out0\"), (\"in0\", \"out1\"), (\"in1\", \"out0\"), (\"in1\", \"out1\"))\n",
        "\n",
        "from sax.typing_ import sdense\n",
        "sdense_ = sdense(sdict_)\n",
        "assert get_port_combinations(sdense_) == ((\"in0\", \"in0\"), (\"in0\", \"in1\"), (\"in0\", \"out0\"), (\"in0\", \"out1\"), \n",
        "    (\"in1\", \"in0\"), (\"in1\", \"in1\"), (\"in1\", \"out0\"), (\"in1\", \"out1\"), (\"out0\", \"in0\"),  (\"out0\", \"in1\"), \n",
        "    (\"out0\", \"out0\"), (\"out0\", \"out1\"), (\"out1\", \"in0\"), (\"out1\", \"in1\"), (\"out1\", \"out0\"), (\"out1\", \"out1\"))"
      ]
    },
    {
      "cell_type": "markdown",
      "id": "6dd1feab7c608938",
      "metadata": {},
      "source": [
        ":::{eval-rst}\n",
        ".. autofunction:: sax.utils.get_settings\n",
        ":::\n"
      ]
    },
    {
      "cell_type": "code",
      "execution_count": 19,
      "id": "e43ff70454208160",
      "metadata": {
        "execution": {
          "iopub.execute_input": "2023-07-01T03:32:25.888288Z",
          "iopub.status.busy": "2023-07-01T03:32:25.888087Z",
          "iopub.status.idle": "2023-07-01T03:32:25.891478Z",
          "shell.execute_reply": "2023-07-01T03:32:25.891123Z"
        },
        "papermill": {
          "duration": 0.021009,
          "end_time": "2023-07-01T03:32:25.892555",
          "exception": false,
          "start_time": "2023-07-01T03:32:25.871546",
          "status": "completed"
        },
        "tags": [
          "hide-input"
        ]
      },
      "outputs": [],
      "source": [
        "def get_settings(model: Union[Model, ModelFactory]) -> Settings:\n",
        "    \"\"\"Get the parameters of a SAX model function\"\"\"\n",
        "    \n",
        "    signature = inspect.signature(model)\n",
        "\n",
        "    settings: Settings = {\n",
        "        k: (v.default if not isinstance(v, dict) else v)\n",
        "        for k, v in signature.parameters.items()\n",
        "        if v.default is not inspect.Parameter.empty\n",
        "    }\n",
        "\n",
        "    # make sure an inplace operation of resulting dict does not change the\n",
        "    # circuit parameters themselves\n",
        "    return copy_settings(settings)"
      ]
    },
    {
      "cell_type": "code",
      "execution_count": 20,
      "id": "2deefdc8",
      "metadata": {
        "execution": {
          "iopub.execute_input": "2023-07-01T03:32:25.914012Z",
          "iopub.status.busy": "2023-07-01T03:32:25.913824Z",
          "iopub.status.idle": "2023-07-01T03:32:25.916753Z",
          "shell.execute_reply": "2023-07-01T03:32:25.916412Z"
        },
        "papermill": {
          "duration": 0.017463,
          "end_time": "2023-07-01T03:32:25.922103",
          "exception": false,
          "start_time": "2023-07-01T03:32:25.904640",
          "status": "completed"
        },
        "tags": []
      },
      "outputs": [],
      "source": [
        "assert get_settings(coupler) == {'coupling': 0.5}"
      ]
    },
    {
      "cell_type": "markdown",
      "id": "f968b6e7927fcecf",
      "metadata": {},
      "source": [
        ":::{eval-rst}\n",
        ".. autofunction:: sax.utils.grouped_interp\n",
        ":::\n"
      ]
    },
    {
      "cell_type": "code",
      "execution_count": 21,
      "id": "4f525c5ec09c9c45",
      "metadata": {
        "execution": {
          "iopub.execute_input": "2023-07-01T03:32:25.954986Z",
          "iopub.status.busy": "2023-07-01T03:32:25.954784Z",
          "iopub.status.idle": "2023-07-01T03:32:25.963610Z",
          "shell.execute_reply": "2023-07-01T03:32:25.963234Z"
        },
        "papermill": {
          "duration": 0.026646,
          "end_time": "2023-07-01T03:32:25.964663",
          "exception": false,
          "start_time": "2023-07-01T03:32:25.938017",
          "status": "completed"
        },
        "tags": [
          "hide-input"
        ]
      },
      "outputs": [],
      "source": [
        "def grouped_interp(wl: Float, wls: Float, phis: Float) -> Float:\n",
        "    \"\"\"Grouped phase interpolation\"\"\"\n",
        "    if not JAX_AVAILABLE:\n",
        "        raise NotImplementedError(\"[NO JAX] grouped_interp function not implemented when JAX not available. Please install JAX.\")\n",
        "        \n",
        "    @partial(jax.vmap, in_axes=(0, None, None), out_axes=0)\n",
        "    @jax.jit\n",
        "    def _grouped_interp(\n",
        "        wl: Array,  # 0D array (not-vmapped) ; 1D array (vmapped)\n",
        "        wls: Array,  # 1D array\n",
        "        phis: Array,  # 1D array\n",
        "    ) -> Array:\n",
        "        dphi_dwl = (phis[1::2] - phis[::2]) / (wls[1::2] - wls[::2])\n",
        "        phis = phis[::2]\n",
        "        wls = wls[::2]\n",
        "        dwl = (wls[1:] - wls[:-1]).mean(0, keepdims=True)\n",
        "\n",
        "        t = (wl - wls + 1e-5 * dwl) / dwl  # small offset to ensure no values are zero\n",
        "        t = jnp.where(jnp.abs(t) < 1, t, 0)\n",
        "        m0 = jnp.where(t > 0, size=1)[0]\n",
        "        m1 = jnp.where(t < 0, size=1)[0]\n",
        "        t = t[m0]\n",
        "        wl0 = wls[m0]\n",
        "        wl1 = wls[m1]\n",
        "        phi0 = phis[m0]\n",
        "        phi1 = phis[m1]\n",
        "        dphi_dwl0 = dphi_dwl[m0]\n",
        "        dphi_dwl1 = dphi_dwl[m1]\n",
        "        _phi0 = phi0 - 0.5 * (wl1 - wl0) * (\n",
        "            dphi_dwl0 * (t ** 2 - 2 * t) - dphi_dwl1 * t ** 2\n",
        "        )\n",
        "        _phi1 = phi1 - 0.5 * (wl1 - wl0) * (\n",
        "            dphi_dwl0 * (t - 1) ** 2 - dphi_dwl1 * (t ** 2 - 1)\n",
        "        )\n",
        "        phis = jnp.arctan2(\n",
        "            (1 - t) * jnp.sin(_phi0) + t * jnp.sin(_phi1),\n",
        "            (1 - t) * jnp.cos(_phi0) + t * jnp.cos(_phi1),\n",
        "        )\n",
        "        return phis\n",
        "        \n",
        "    wl = cast(Array, jnp.asarray(wl))\n",
        "    wls = cast(Array, jnp.asarray(wls))\n",
        "    # make sure values between -pi and pi\n",
        "    phis = cast(Array, jnp.asarray(phis)) % (2 * jnp.pi)\n",
        "    phis = jnp.where(phis > jnp.pi, phis - 2 * jnp.pi, phis)  \n",
        "    if not wls.ndim == 1:\n",
        "        raise ValueError(\"grouped_interp: wls should be a 1D array\")\n",
        "    if not phis.ndim == 1:\n",
        "        raise ValueError(\"grouped_interp: wls should be a 1D array\")\n",
        "    if not wls.shape == phis.shape:\n",
        "        raise ValueError(\"grouped_interp: wls and phis shape does not match\")\n",
        "    return _grouped_interp(wl.reshape(-1), wls, phis).reshape(*wl.shape)"
      ]
    },
    {
      "cell_type": "markdown",
      "id": "79a7f1a8",
      "metadata": {
        "papermill": {
          "duration": 0.009234,
          "end_time": "2023-07-01T03:32:25.980992",
          "exception": false,
          "start_time": "2023-07-01T03:32:25.971758",
          "status": "completed"
        },
        "tags": []
      },
      "source": [
        "Grouped interpolation is useful to interpolate phase values where each datapoint is doubled (very close together) to give an indication of the phase variation at that point.\n",
        "\n",
        "> Note: this interpolation is only accurate in the range `[wls[0], wls[-2])` (`wls[-2]` not included). Any extrapolation outside these bounds can yield unexpected results!"
      ]
    },
    {
      "cell_type": "code",
      "execution_count": 22,
      "id": "c4e7ff0d4e25c475",
      "metadata": {
        "execution": {
          "iopub.execute_input": "2023-07-01T03:32:26.014052Z",
          "iopub.status.busy": "2023-07-01T03:32:26.013838Z",
          "iopub.status.idle": "2023-07-01T03:32:26.784230Z",
          "shell.execute_reply": "2023-07-01T03:32:26.783758Z"
        },
        "papermill": {
          "duration": 0.79206,
          "end_time": "2023-07-01T03:32:26.785925",
          "exception": false,
          "start_time": "2023-07-01T03:32:25.993865",
          "status": "completed"
        },
        "tags": [
          "remove-cell"
        ]
      },
      "outputs": [],
      "source": [
        "\n",
        "if JAX_AVAILABLE:\n",
        "    wls = jnp.array([2.19999, 2.20001, 2.22499, 2.22501, 2.24999, 2.25001, 2.27499, 2.27501, 2.29999, 2.30001, 2.32499, 2.32501, 2.34999, 2.35001, 2.37499, 2.37501, 2.39999, 2.40001, 2.42499, 2.42501, 2.44999, 2.45001])\n",
        "    phis = jnp.array([5.17317336, 5.1219654, 4.71259842, 4.66252492, 5.65699608, 5.60817922, 2.03697377, 1.98936119, 6.010146, 5.96358061, 4.96336733, 4.91777933, 5.13912198, 5.09451137, 0.22347545, 0.17979684, 2.74501894, 2.70224092, 0.10403192, 0.06214664, 4.83328794, 4.79225525])\n",
        "    wl = jnp.array([2.21, 2.27, 1.31, 2.424])\n",
        "    phi = jnp.array(grouped_interp(wl, wls, phis))\n",
        "    phi_ref = jnp.array([-1.4901831,  1.3595749, -1.110012 ,  2.1775336])\n",
        "\n",
        "    assert ((phi-phi_ref)**2 < 1e-5).all()"
      ]
    },
    {
      "cell_type": "markdown",
      "id": "ad7ec9d1",
      "metadata": {
        "papermill": {
          "duration": 0.007151,
          "end_time": "2023-07-01T03:32:26.802165",
          "exception": false,
          "start_time": "2023-07-01T03:32:26.795014",
          "status": "completed"
        },
        "tags": []
      },
      "source": [
        "> Example"
      ]
    },
    {
      "cell_type": "code",
      "execution_count": 23,
      "id": "03b7a938",
      "metadata": {
        "execution": {
          "iopub.execute_input": "2023-07-01T03:32:26.839603Z",
          "iopub.status.busy": "2023-07-01T03:32:26.839355Z",
          "iopub.status.idle": "2023-07-01T03:32:28.523234Z",
          "shell.execute_reply": "2023-07-01T03:32:28.522800Z"
        },
        "papermill": {
          "duration": 1.707462,
          "end_time": "2023-07-01T03:32:28.524787",
          "exception": false,
          "start_time": "2023-07-01T03:32:26.817325",
          "status": "completed"
        },
        "tags": []
      },
      "outputs": [
        {
          "data": {
            "image/png": "[encoded data removed]",
            "text/plain": [
              "<Figure size 1400x600 with 2 Axes>"
            ]
          },
          "metadata": {},
          "output_type": "display_data"
        }
      ],
      "source": [
        "if JAX_AVAILABLE:\n",
        "    wl = jnp.linspace(wls.min(), wls.max(), 10000)\n",
        "\n",
        "    _, ax = plt.subplots(2, 1, sharex=True, figsize=(14, 6))\n",
        "    plt.sca(ax[0])\n",
        "    plt.plot(1e3*wls, jnp.arange(wls.shape[0]), marker=\"o\", ls=\"none\")\n",
        "    plt.grid(True)\n",
        "    plt.ylabel(\"index\")\n",
        "    plt.sca(ax[1])\n",
        "    plt.grid(True)\n",
        "    plt.plot(1e3*wls, phis, marker=\"o\", c=\"C1\")\n",
        "    plt.plot(1e3*wl, grouped_interp(wl, wls, phis), c=\"C2\")\n",
        "    plt.xlabel(\"\u03bb [nm]\")\n",
        "    plt.ylabel(\"\u03c6\")\n",
        "    plt.show()"
      ]
    },
    {
      "cell_type": "markdown",
      "id": "6a3b64c4e2c22d81",
      "metadata": {},
      "source": [
        ":::{eval-rst}\n",
        ".. autofunction:: sax.utils.merge_dicts\n",
        ":::\n"
      ]
    },
    {
      "cell_type": "code",
      "execution_count": 24,
      "id": "1564e74b6d50bd6c",
      "metadata": {
        "execution": {
          "iopub.execute_input": "2023-07-01T03:32:28.551922Z",
          "iopub.status.busy": "2023-07-01T03:32:28.551577Z",
          "iopub.status.idle": "2023-07-01T03:32:28.557253Z",
          "shell.execute_reply": "2023-07-01T03:32:28.556847Z"
        },
        "papermill": {
          "duration": 0.028252,
          "end_time": "2023-07-01T03:32:28.562457",
          "exception": false,
          "start_time": "2023-07-01T03:32:28.534205",
          "status": "completed"
        },
        "tags": [
          "hide-input"
        ]
      },
      "outputs": [],
      "source": [
        "def merge_dicts(*dicts: Dict) -> Dict:\n",
        "    \"\"\"merge (possibly deeply nested) dictionaries\"\"\"\n",
        "    if len(dicts) == 1:\n",
        "        return dict(_generate_merged_dict(dicts[0], {}))\n",
        "    elif len(dicts) == 2:\n",
        "        return dict(_generate_merged_dict(dicts[0], dicts[1]))\n",
        "    else:\n",
        "        return merge_dicts(dicts[0], merge_dicts(*dicts[1:]))\n",
        "    \n",
        "\n",
        "def _generate_merged_dict(dict1: Dict, dict2: Dict) -> Iterator[Tuple[Any, Any]]:\n",
        "    # inspired by https://stackoverflow.com/questions/7204805/how-to-merge-dictionaries-of-dictionaries\n",
        "    keys = {**{k: None for k in dict1}, **{k: None for k in dict2}} # keep key order, values irrelevant\n",
        "    for k in keys:\n",
        "        if k in dict1 and k in dict2:\n",
        "            v1, v2 = dict1[k], dict2[k]\n",
        "            if isinstance(v1, dict) and isinstance(v2, dict):\n",
        "                v = dict(_generate_merged_dict(v1, v2))\n",
        "            else:\n",
        "                # If one of the values is not a dict, you can't continue merging it.\n",
        "                # Value from second dict overrides one in first and we move on.\n",
        "                v = v2\n",
        "        elif k in dict1:\n",
        "            v = dict1[k]\n",
        "        else: # k in dict2:\n",
        "            v = dict2[k]\n",
        "        \n",
        "        if isinstance(v, dict):\n",
        "            yield (k, {**v}) # shallow copy of dict\n",
        "        else:\n",
        "            yield (k, v)"
      ]
    },
    {
      "cell_type": "code",
      "execution_count": 25,
      "id": "27cf74d7",
      "metadata": {
        "execution": {
          "iopub.execute_input": "2023-07-01T03:32:28.598701Z",
          "iopub.status.busy": "2023-07-01T03:32:28.598426Z",
          "iopub.status.idle": "2023-07-01T03:32:28.602643Z",
          "shell.execute_reply": "2023-07-01T03:32:28.602206Z"
        },
        "papermill": {
          "duration": 0.027102,
          "end_time": "2023-07-01T03:32:28.603955",
          "exception": false,
          "start_time": "2023-07-01T03:32:28.576853",
          "status": "completed"
        },
        "tags": []
      },
      "outputs": [],
      "source": [
        "d = merge_dicts({\"a\": 3}, {\"b\": 4})\n",
        "assert d[\"a\"] == 3\n",
        "assert d[\"b\"] == 4\n",
        "assert tuple(sorted(d)) == (\"a\", \"b\")\n",
        "\n",
        "d = merge_dicts({\"a\": 3}, {\"a\": 4})\n",
        "assert d[\"a\"] == 4\n",
        "assert tuple(d) == (\"a\",)\n",
        "\n",
        "d = merge_dicts({\"a\": 3}, {\"a\": {\"b\": 5}})\n",
        "assert d[\"a\"][\"b\"] == 5\n",
        "assert tuple(d) == (\"a\",)\n",
        "\n",
        "d = merge_dicts({\"a\": {\"b\": 5}}, {\"a\": 3})\n",
        "assert d[\"a\"] == 3\n",
        "assert tuple(d) == (\"a\",)"
      ]
    },
    {
      "cell_type": "markdown",
      "id": "036809ff8c7739d2",
      "metadata": {},
      "source": [
        ":::{eval-rst}\n",
        ".. autofunction:: sax.utils.mode_combinations\n",
        ":::\n"
      ]
    },
    {
      "cell_type": "code",
      "execution_count": 26,
      "id": "08e3e3eecc6de260",
      "metadata": {
        "execution": {
          "iopub.execute_input": "2023-07-01T03:32:28.633674Z",
          "iopub.status.busy": "2023-07-01T03:32:28.633426Z",
          "iopub.status.idle": "2023-07-01T03:32:28.636997Z",
          "shell.execute_reply": "2023-07-01T03:32:28.636569Z"
        },
        "papermill": {
          "duration": 0.022158,
          "end_time": "2023-07-01T03:32:28.640266",
          "exception": false,
          "start_time": "2023-07-01T03:32:28.618108",
          "status": "completed"
        },
        "tags": [
          "hide-input"
        ]
      },
      "outputs": [],
      "source": [
        "\n",
        "def mode_combinations(\n",
        "    modes: Iterable[str], cross: bool = False\n",
        ") -> Tuple[Tuple[str, str], ...]:\n",
        "    \"\"\"create mode combinations for a collection of given modes\"\"\"\n",
        "    if cross:\n",
        "        mode_combinations = natsorted((m1, m2) for m1 in modes for m2 in modes)\n",
        "    else:\n",
        "        mode_combinations = natsorted((m, m) for m in modes)\n",
        "    return tuple(mode_combinations)"
      ]
    },
    {
      "cell_type": "code",
      "execution_count": 27,
      "id": "5010a982",
      "metadata": {
        "execution": {
          "iopub.execute_input": "2023-07-01T03:32:28.676475Z",
          "iopub.status.busy": "2023-07-01T03:32:28.676057Z",
          "iopub.status.idle": "2023-07-01T03:32:28.679555Z",
          "shell.execute_reply": "2023-07-01T03:32:28.679126Z"
        },
        "papermill": {
          "duration": 0.025945,
          "end_time": "2023-07-01T03:32:28.682356",
          "exception": false,
          "start_time": "2023-07-01T03:32:28.656411",
          "status": "completed"
        },
        "tags": []
      },
      "outputs": [],
      "source": [
        "assert mode_combinations(modes=[\"te\", \"tm\"]) == (('te', 'te'), ('tm', 'tm'))\n",
        "assert mode_combinations(modes=[\"te\", \"tm\"], cross=True) == (('te', 'te'), ('te', 'tm'), ('tm', 'te'), ('tm', 'tm'))"
      ]
    },
    {
      "cell_type": "markdown",
      "id": "d3de1201b8c21d0f",
      "metadata": {},
      "source": [
        ":::{eval-rst}\n",
        ".. autofunction:: sax.utils.reciprocal\n",
        ":::\n"
      ]
    },
    {
      "cell_type": "code",
      "execution_count": 28,
      "id": "2a33a53e23b2f1d6",
      "metadata": {
        "execution": {
          "iopub.execute_input": "2023-07-01T03:32:28.718956Z",
          "iopub.status.busy": "2023-07-01T03:32:28.718669Z",
          "iopub.status.idle": "2023-07-01T03:32:28.722285Z",
          "shell.execute_reply": "2023-07-01T03:32:28.721827Z"
        },
        "papermill": {
          "duration": 0.028389,
          "end_time": "2023-07-01T03:32:28.724191",
          "exception": false,
          "start_time": "2023-07-01T03:32:28.695802",
          "status": "completed"
        },
        "tags": [
          "hide-input"
        ]
      },
      "outputs": [],
      "source": [
        "def reciprocal(sdict: SDict) -> SDict:\n",
        "    \"\"\"Make an SDict reciprocal\"\"\"\n",
        "    if is_sdict(sdict):\n",
        "        return {\n",
        "            **{(p1, p2): v for (p1, p2), v in sdict.items()},\n",
        "            **{(p2, p1): v for (p1, p2), v in sdict.items()},\n",
        "        }\n",
        "    else:\n",
        "        raise ValueError(\"sax.reciprocal is only valid for SDict types\")"
      ]
    },
    {
      "cell_type": "code",
      "execution_count": 29,
      "id": "30a304a7",
      "metadata": {
        "execution": {
          "iopub.execute_input": "2023-07-01T03:32:28.752320Z",
          "iopub.status.busy": "2023-07-01T03:32:28.752049Z",
          "iopub.status.idle": "2023-07-01T03:32:28.754803Z",
          "shell.execute_reply": "2023-07-01T03:32:28.754394Z"
        },
        "papermill": {
          "duration": 0.015708,
          "end_time": "2023-07-01T03:32:28.756319",
          "exception": false,
          "start_time": "2023-07-01T03:32:28.740611",
          "status": "completed"
        },
        "tags": []
      },
      "outputs": [],
      "source": [
        "sdict_ = {(\"in0\", \"out0\"): 1.0}\n",
        "assert reciprocal(sdict_) == {(\"in0\", \"out0\"): 1.0, (\"out0\", \"in0\"): 1.0}"
      ]
    },
    {
      "cell_type": "code",
      "execution_count": 30,
      "id": "a53ad3902c894c3a",
      "metadata": {
        "execution": {
          "iopub.execute_input": "2023-07-01T03:32:28.774344Z",
          "iopub.status.busy": "2023-07-01T03:32:28.774059Z",
          "iopub.status.idle": "2023-07-01T03:32:28.777132Z",
          "shell.execute_reply": "2023-07-01T03:32:28.776714Z"
        },
        "papermill": {
          "duration": 0.013776,
          "end_time": "2023-07-01T03:32:28.778627",
          "exception": false,
          "start_time": "2023-07-01T03:32:28.764851",
          "status": "completed"
        },
        "tags": [
          "remove-cell"
        ]
      },
      "outputs": [],
      "source": [
        "\n",
        "@overload\n",
        "def rename_params(model: ModelFactory, renamings: Dict[str, str]) -> ModelFactory:\n",
        "    ...\n",
        "\n",
        "\n",
        "@overload\n",
        "def rename_params(model: Model, renamings: Dict[str, str]) -> Model:\n",
        "    ..."
      ]
    },
    {
      "cell_type": "markdown",
      "id": "73870acd57ee380b",
      "metadata": {},
      "source": [
        ":::{eval-rst}\n",
        ".. autofunction:: sax.utils.rename_params\n",
        ":::\n"
      ]
    },
    {
      "cell_type": "code",
      "execution_count": 31,
      "id": "e00c47f1e4e8d455",
      "metadata": {
        "execution": {
          "iopub.execute_input": "2023-07-01T03:32:28.796718Z",
          "iopub.status.busy": "2023-07-01T03:32:28.796451Z",
          "iopub.status.idle": "2023-07-01T03:32:28.804686Z",
          "shell.execute_reply": "2023-07-01T03:32:28.804279Z"
        },
        "papermill": {
          "duration": 0.018904,
          "end_time": "2023-07-01T03:32:28.806046",
          "exception": false,
          "start_time": "2023-07-01T03:32:28.787142",
          "status": "completed"
        },
        "tags": [
          "hide-input"
        ]
      },
      "outputs": [],
      "source": [
        "def rename_params(\n",
        "    model: Union[Model, ModelFactory], renamings: Dict[str, str]\n",
        ") -> Union[Model, ModelFactory]:\n",
        "    \"\"\"rename the parameters of a `Model` or `ModelFactory` given a renamings mapping old parameter names to new.\"\"\"\n",
        "    \n",
        "    reversed_renamings = {v: k for k, v in renamings.items()}\n",
        "    if len(reversed_renamings) < len(renamings):\n",
        "        raise ValueError(\"Multiple old names point to the same new name!\")\n",
        "\n",
        "    if is_model_factory(model):\n",
        "        old_model_factory = cast(ModelFactory, model)\n",
        "        old_settings = get_settings(model)\n",
        "\n",
        "        @wraps(old_model_factory)\n",
        "        def new_model_factory(**settings):\n",
        "            old_settings = {\n",
        "                reversed_renamings.get(k, k): v for k, v in settings.items()\n",
        "            }\n",
        "            model = old_model_factory(**old_settings)\n",
        "            return rename_params(model, renamings)\n",
        "\n",
        "        new_settings = {renamings.get(k, k): v for k, v in old_settings.items()}\n",
        "        _replace_kwargs(new_model_factory, **new_settings)\n",
        "\n",
        "        return new_model_factory\n",
        "\n",
        "    elif is_model(model):\n",
        "        old_model = cast(Model, model)\n",
        "        old_settings = get_settings(model)\n",
        "\n",
        "        @wraps(old_model)\n",
        "        def new_model(**settings):\n",
        "            old_settings = {\n",
        "                reversed_renamings.get(k, k): v for k, v in settings.items()\n",
        "            }\n",
        "            return old_model(**old_settings)\n",
        "\n",
        "        new_settings = {renamings.get(k, k): v for k, v in old_settings.items()}\n",
        "        _replace_kwargs(new_model, **new_settings)\n",
        "\n",
        "        return new_model\n",
        "\n",
        "    else:\n",
        "        raise ValueError(\n",
        "            \"rename_params should be used to decorate a Model or ModelFactory.\"\n",
        "        )\n",
        "        \n",
        "def _replace_kwargs(func: Callable, **kwargs: ComplexFloat):\n",
        "    \"\"\"Change the kwargs signature of a function\"\"\"\n",
        "    sig = inspect.signature(func)\n",
        "    settings = [\n",
        "        inspect.Parameter(k, inspect.Parameter.KEYWORD_ONLY, default=v)\n",
        "        for k, v in kwargs.items()\n",
        "    ]\n",
        "    func.__signature__ = sig.replace(parameters=settings)"
      ]
    },
    {
      "cell_type": "code",
      "execution_count": 32,
      "id": "7b041b23",
      "metadata": {
        "execution": {
          "iopub.execute_input": "2023-07-01T03:32:28.841155Z",
          "iopub.status.busy": "2023-07-01T03:32:28.840854Z",
          "iopub.status.idle": "2023-07-01T03:32:28.921141Z",
          "shell.execute_reply": "2023-07-01T03:32:28.920650Z"
        },
        "papermill": {
          "duration": 0.104795,
          "end_time": "2023-07-01T03:32:28.922669",
          "exception": false,
          "start_time": "2023-07-01T03:32:28.817874",
          "status": "completed"
        },
        "tags": []
      },
      "outputs": [],
      "source": [
        "def model(x=jnp.array(3.0), y=jnp.array(4.0), z=jnp.array([3.0, 4.0])) -> SDict:\n",
        "    return {(\"in0\", \"out0\"): jnp.array(3.0)}\n",
        "\n",
        "renamings = {\"x\": \"a\", \"y\": \"z\", \"z\": \"y\"}\n",
        "new_model = rename_params(model, renamings)\n",
        "settings = get_settings(new_model)\n",
        "assert settings[\"a\"] == 3.0\n",
        "assert settings[\"z\"] == 4.0\n",
        "assert jnp.all(settings[\"y\"] == jnp.array([3.0, 4.0]))"
      ]
    },
    {
      "cell_type": "code",
      "execution_count": 33,
      "id": "3eb052fbf1c3dc68",
      "metadata": {
        "execution": {
          "iopub.execute_input": "2023-07-01T03:32:28.949093Z",
          "iopub.status.busy": "2023-07-01T03:32:28.948809Z",
          "iopub.status.idle": "2023-07-01T03:32:28.953015Z",
          "shell.execute_reply": "2023-07-01T03:32:28.952577Z"
        },
        "papermill": {
          "duration": 0.022703,
          "end_time": "2023-07-01T03:32:28.955782",
          "exception": false,
          "start_time": "2023-07-01T03:32:28.933079",
          "status": "completed"
        },
        "tags": [
          "remove-cell"
        ]
      },
      "outputs": [],
      "source": [
        "\n",
        "@overload\n",
        "def rename_ports(S: SDict, renamings: Dict[str, str]) -> SDict:\n",
        "    ...\n",
        "\n",
        "\n",
        "@overload\n",
        "def rename_ports(S: SCoo, renamings: Dict[str, str]) -> SCoo:\n",
        "    ...\n",
        "\n",
        "\n",
        "@overload\n",
        "def rename_ports(S: SDense, renamings: Dict[str, str]) -> SDense:\n",
        "    ...\n",
        "\n",
        "\n",
        "@overload\n",
        "def rename_ports(S: Model, renamings: Dict[str, str]) -> Model:\n",
        "    ...\n",
        "\n",
        "\n",
        "@overload\n",
        "def rename_ports(S: ModelFactory, renamings: Dict[str, str]) -> ModelFactory:\n",
        "    ..."
      ]
    },
    {
      "cell_type": "markdown",
      "id": "e5a6433b398ccf19",
      "metadata": {},
      "source": [
        ":::{eval-rst}\n",
        ".. autofunction:: sax.utils.rename_ports\n",
        ":::\n"
      ]
    },
    {
      "cell_type": "code",
      "execution_count": 34,
      "id": "362f4de9e95b67d4",
      "metadata": {
        "execution": {
          "iopub.execute_input": "2023-07-01T03:32:28.989849Z",
          "iopub.status.busy": "2023-07-01T03:32:28.989543Z",
          "iopub.status.idle": "2023-07-01T03:32:28.995817Z",
          "shell.execute_reply": "2023-07-01T03:32:28.995407Z"
        },
        "papermill": {
          "duration": 0.028001,
          "end_time": "2023-07-01T03:32:29.000095",
          "exception": false,
          "start_time": "2023-07-01T03:32:28.972094",
          "status": "completed"
        },
        "tags": [
          "hide-input"
        ]
      },
      "outputs": [],
      "source": [
        "\n",
        "def rename_ports(\n",
        "    S: Union[SType, Model, ModelFactory], renamings: Dict[str, str]\n",
        ") -> Union[SType, Model, ModelFactory]:\n",
        "    \"\"\"rename the ports of an `SDict`, `Model` or `ModelFactory` given a renamings mapping old port names to new.\"\"\"\n",
        "    if is_scoo(S):\n",
        "        Si, Sj, Sx, ports_map = cast(SCoo, S)\n",
        "        ports_map = {renamings[p]: i for p, i in ports_map.items()}\n",
        "        return Si, Sj, Sx, ports_map\n",
        "    elif is_sdense(S):\n",
        "        Sx, ports_map = cast(SDense, S)\n",
        "        ports_map = {renamings[p]: i for p, i in ports_map.items()}\n",
        "        return Sx, ports_map\n",
        "    elif is_sdict(S):\n",
        "        sdict = cast(SDict, S)\n",
        "        original_ports = get_ports(sdict)\n",
        "        assert len(renamings) == len(original_ports)\n",
        "        return {(renamings[p1], renamings[p2]): v for (p1, p2), v in sdict.items()}\n",
        "    elif is_model(S):\n",
        "        old_model = cast(Model, S)\n",
        "\n",
        "        @wraps(old_model)\n",
        "        def new_model(**settings) -> SType:\n",
        "            return rename_ports(old_model(**settings), renamings)\n",
        "\n",
        "        return new_model\n",
        "    elif is_model_factory(S):\n",
        "        old_model_factory = cast(ModelFactory, S)\n",
        "\n",
        "        @wraps(old_model_factory)\n",
        "        def new_model_factory(**settings) -> Callable[..., SType]:\n",
        "            return rename_ports(old_model_factory(**settings), renamings)\n",
        "\n",
        "        return new_model_factory\n",
        "    else:\n",
        "        raise ValueError(\"Cannot rename ports for type {type(S)}\")"
      ]
    },
    {
      "cell_type": "code",
      "execution_count": 35,
      "id": "dd9c42ac",
      "metadata": {
        "execution": {
          "iopub.execute_input": "2023-07-01T03:32:29.038127Z",
          "iopub.status.busy": "2023-07-01T03:32:29.037832Z",
          "iopub.status.idle": "2023-07-01T03:32:29.186651Z",
          "shell.execute_reply": "2023-07-01T03:32:29.186190Z"
        },
        "papermill": {
          "duration": 0.171585,
          "end_time": "2023-07-01T03:32:29.188191",
          "exception": false,
          "start_time": "2023-07-01T03:32:29.016606",
          "status": "completed"
        },
        "tags": []
      },
      "outputs": [],
      "source": [
        "d = reciprocal({(\"p0\", \"p1\"): 0.1, (\"p1\", \"p2\"): 0.2})\n",
        "origports = get_ports(d)\n",
        "renamings = {\"p0\": \"in0\", \"p1\": \"out0\", \"p2\": \"in1\"}\n",
        "d_ = rename_ports(d, renamings)\n",
        "assert tuple(sorted(get_ports(d_))) == tuple(sorted(renamings[p] for p in origports))\n",
        "d_ = rename_ports(scoo(d), renamings)\n",
        "assert tuple(sorted(get_ports(d_))) == tuple(sorted(renamings[p] for p in origports))\n",
        "d_ = rename_ports(sdense(d), renamings)\n",
        "assert tuple(sorted(get_ports(d_))) == tuple(sorted(renamings[p] for p in origports))"
      ]
    },
    {
      "cell_type": "markdown",
      "id": "5397ea8fc4a449d8",
      "metadata": {},
      "source": [
        ":::{eval-rst}\n",
        ".. autofunction:: sax.utils.update_settings\n",
        ":::\n"
      ]
    },
    {
      "cell_type": "code",
      "execution_count": 36,
      "id": "950e43812893e529",
      "metadata": {
        "execution": {
          "iopub.execute_input": "2023-07-01T03:32:29.214858Z",
          "iopub.status.busy": "2023-07-01T03:32:29.214661Z",
          "iopub.status.idle": "2023-07-01T03:32:29.219340Z",
          "shell.execute_reply": "2023-07-01T03:32:29.218958Z"
        },
        "papermill": {
          "duration": 0.023853,
          "end_time": "2023-07-01T03:32:29.221172",
          "exception": false,
          "start_time": "2023-07-01T03:32:29.197319",
          "status": "completed"
        },
        "tags": [
          "hide-input"
        ]
      },
      "outputs": [],
      "source": [
        "\n",
        "def update_settings(\n",
        "    settings: Settings, *compnames: str, **kwargs: ComplexFloat\n",
        ") -> Settings:\n",
        "    \"\"\"update a nested settings dictionary\"\"\"\n",
        "    _settings = {}\n",
        "    if not compnames:\n",
        "        for k, v in settings.items():\n",
        "            if isinstance(v, dict):\n",
        "                _settings[k] = update_settings(v, **kwargs)\n",
        "            else:\n",
        "                if k in kwargs:\n",
        "                    _settings[k] = try_float(kwargs[k])\n",
        "                else:\n",
        "                    _settings[k] = try_float(v)\n",
        "    else:\n",
        "        for k, v in settings.items():\n",
        "            if isinstance(v, dict):\n",
        "                if k == compnames[0]:\n",
        "                    _settings[k] = update_settings(v, *compnames[1:], **kwargs)\n",
        "                else:\n",
        "                    _settings[k] = v\n",
        "            else:\n",
        "                _settings[k] = try_float(v)\n",
        "    return _settings"
      ]
    },
    {
      "cell_type": "markdown",
      "id": "78e2388a",
      "metadata": {
        "papermill": {
          "duration": 0.016711,
          "end_time": "2023-07-01T03:32:29.254587",
          "exception": false,
          "start_time": "2023-07-01T03:32:29.237876",
          "status": "completed"
        },
        "tags": []
      },
      "source": [
        "> Note: (1) Even though it's possible to update parameter dictionaries in place, this function is convenient to apply certain parameters (e.g. wavelength 'wl' or temperature 'T') globally. (2) This operation never updates the given settings dictionary inplace. (3) Any non-float keyword arguments will be silently ignored."
      ]
    },
    {
      "cell_type": "markdown",
      "id": "a7642618",
      "metadata": {
        "papermill": {
          "duration": 0.01992,
          "end_time": "2023-07-01T03:32:29.290613",
          "exception": false,
          "start_time": "2023-07-01T03:32:29.270693",
          "status": "completed"
        },
        "tags": []
      },
      "source": [
        "Assuming you have a settings dictionary for a `circuit` containing a directional coupler `\"dc\"` and a waveguide `\"wg\"`:"
      ]
    },
    {
      "cell_type": "code",
      "execution_count": 37,
      "id": "85293a23",
      "metadata": {
        "execution": {
          "iopub.execute_input": "2023-07-01T03:32:29.328085Z",
          "iopub.status.busy": "2023-07-01T03:32:29.327863Z",
          "iopub.status.idle": "2023-07-01T03:32:29.330537Z",
          "shell.execute_reply": "2023-07-01T03:32:29.330142Z"
        },
        "papermill": {
          "duration": 0.024908,
          "end_time": "2023-07-01T03:32:29.331668",
          "exception": false,
          "start_time": "2023-07-01T03:32:29.306760",
          "status": "completed"
        },
        "tags": []
      },
      "outputs": [],
      "source": [
        "settings = {\"wl\": 1.55, \"dc\": {\"coupling\": 0.5}, \"wg\": {\"wl\": 1.56, \"neff\": 2.33}}"
      ]
    },
    {
      "cell_type": "markdown",
      "id": "68c1cd3b",
      "metadata": {
        "papermill": {
          "duration": 0.008595,
          "end_time": "2023-07-01T03:32:29.348838",
          "exception": false,
          "start_time": "2023-07-01T03:32:29.340243",
          "status": "completed"
        },
        "tags": []
      },
      "source": [
        "You can update this settings dictionary with some global settings as follows. When updating settings globally like this, each subdictionary of the settings dictionary will be updated with these values (if the key exists in the subdictionary):"
      ]
    },
    {
      "cell_type": "code",
      "execution_count": 38,
      "id": "4a1aaf3c",
      "metadata": {
        "execution": {
          "iopub.execute_input": "2023-07-01T03:32:29.367171Z",
          "iopub.status.busy": "2023-07-01T03:32:29.366962Z",
          "iopub.status.idle": "2023-07-01T03:32:29.370977Z",
          "shell.execute_reply": "2023-07-01T03:32:29.370597Z"
        },
        "papermill": {
          "duration": 0.014569,
          "end_time": "2023-07-01T03:32:29.372050",
          "exception": false,
          "start_time": "2023-07-01T03:32:29.357481",
          "status": "completed"
        },
        "tags": []
      },
      "outputs": [],
      "source": [
        "settings = update_settings(settings, wl=1.3, coupling=0.3, neff=3.0)\n",
        "assert settings == {\"wl\": 1.3, \"dc\": {\"coupling\": 0.3}, \"wg\": {\"wl\": 1.3, \"neff\": 3.0}}"
      ]
    },
    {
      "cell_type": "markdown",
      "id": "73737b1f",
      "metadata": {
        "papermill": {
          "duration": 0.021795,
          "end_time": "2023-07-01T03:32:29.402712",
          "exception": false,
          "start_time": "2023-07-01T03:32:29.380917",
          "status": "completed"
        },
        "tags": []
      },
      "source": [
        "Alternatively, you can set certain settings for a specific component (e.g. 'wg' in this case) as follows:"
      ]
    },
    {
      "cell_type": "code",
      "execution_count": 39,
      "id": "87c32103",
      "metadata": {
        "execution": {
          "iopub.execute_input": "2023-07-01T03:32:29.439981Z",
          "iopub.status.busy": "2023-07-01T03:32:29.439666Z",
          "iopub.status.idle": "2023-07-01T03:32:29.443449Z",
          "shell.execute_reply": "2023-07-01T03:32:29.443077Z"
        },
        "papermill": {
          "duration": 0.028128,
          "end_time": "2023-07-01T03:32:29.446943",
          "exception": false,
          "start_time": "2023-07-01T03:32:29.418815",
          "status": "completed"
        },
        "tags": []
      },
      "outputs": [],
      "source": [
        "settings = update_settings(settings, \"wg\", wl=2.0)\n",
        "assert settings == {\"wl\": 1.3, \"dc\": {\"coupling\": 0.3}, \"wg\": {\"wl\": 2.0, \"neff\": 3.0}}"
      ]
    },
    {
      "cell_type": "markdown",
      "id": "47d3b775",
      "metadata": {
        "papermill": {
          "duration": 0.020992,
          "end_time": "2023-07-01T03:32:29.482063",
          "exception": false,
          "start_time": "2023-07-01T03:32:29.461071",
          "status": "completed"
        },
        "tags": []
      },
      "source": [
        "note that only the `\"wl\"` belonging to `\"wg\"` has changed."
      ]
    },
    {
      "cell_type": "markdown",
      "id": "7e01af1b3a1022b2",
      "metadata": {},
      "source": [
        ":::{eval-rst}\n",
        ".. autofunction:: sax.utils.validate_not_mixedmode\n",
        ":::\n"
      ]
    },
    {
      "cell_type": "code",
      "execution_count": 40,
      "id": "c7ab73e440dc7cf9",
      "metadata": {
        "execution": {
          "iopub.execute_input": "2023-07-01T03:32:29.517219Z",
          "iopub.status.busy": "2023-07-01T03:32:29.516571Z",
          "iopub.status.idle": "2023-07-01T03:32:29.519739Z",
          "shell.execute_reply": "2023-07-01T03:32:29.519366Z"
        },
        "papermill": {
          "duration": 0.026104,
          "end_time": "2023-07-01T03:32:29.527925",
          "exception": false,
          "start_time": "2023-07-01T03:32:29.501821",
          "status": "completed"
        },
        "tags": [
          "hide-input"
        ]
      },
      "outputs": [],
      "source": [
        "def validate_not_mixedmode(S: SType):\n",
        "    \"\"\"validate that an stype is not 'mixed mode' (i.e. invalid)\n",
        "\n",
        "    Args:\n",
        "        S: the stype to validate\n",
        "    \"\"\"\n",
        "\n",
        "    if is_mixedmode(S):  # mixed mode\n",
        "        raise ValueError(\n",
        "            \"Given SType is neither multimode or singlemode. Please check the port \"\n",
        "            \"names: they should either ALL contain the '@' separator (multimode) \"\n",
        "            \"or NONE should contain the '@' separator (singlemode).\"\n",
        "        )"
      ]
    },
    {
      "cell_type": "code",
      "execution_count": 41,
      "id": "b47e00d4",
      "metadata": {
        "execution": {
          "iopub.execute_input": "2023-07-01T03:32:29.553574Z",
          "iopub.status.busy": "2023-07-01T03:32:29.553283Z",
          "iopub.status.idle": "2023-07-01T03:32:29.557327Z",
          "shell.execute_reply": "2023-07-01T03:32:29.556963Z"
        },
        "papermill": {
          "duration": 0.015257,
          "end_time": "2023-07-01T03:32:29.558940",
          "exception": false,
          "start_time": "2023-07-01T03:32:29.543683",
          "status": "completed"
        },
        "tags": []
      },
      "outputs": [],
      "source": [
        "sdict = {(\"in0\", \"out0\"): 1.0, (\"out0\", \"in0\"): 1.0}\n",
        "validate_not_mixedmode(sdict)\n",
        "\n",
        "sdict = {(\"in0@te\", \"out0@te\"): 1.0, (\"out0@tm\", \"in0@tm\"): 1.0}\n",
        "validate_not_mixedmode(sdict)\n",
        "\n",
        "sdict = {(\"in0@te\", \"out0@te\"): 1.0, (\"out0\", \"in0@tm\"): 1.0}\n",
        "with raises(ValueError):\n",
        "    validate_not_mixedmode(sdict)"
      ]
    },
    {
      "cell_type": "markdown",
      "id": "731929748b3be450",
      "metadata": {},
      "source": [
        ":::{eval-rst}\n",
        ".. autofunction:: sax.utils.validate_multimode\n",
        ":::\n"
      ]
    },
    {
      "cell_type": "code",
      "execution_count": 42,
      "id": "177877d5b5c5471b",
      "metadata": {
        "execution": {
          "iopub.execute_input": "2023-07-01T03:32:29.577777Z",
          "iopub.status.busy": "2023-07-01T03:32:29.577280Z",
          "iopub.status.idle": "2023-07-01T03:32:29.580950Z",
          "shell.execute_reply": "2023-07-01T03:32:29.580588Z"
        },
        "papermill": {
          "duration": 0.014865,
          "end_time": "2023-07-01T03:32:29.582533",
          "exception": false,
          "start_time": "2023-07-01T03:32:29.567668",
          "status": "completed"
        },
        "tags": [
          "hide-input"
        ]
      },
      "outputs": [],
      "source": [
        "def validate_multimode(S: SType, modes=(\"te\", \"tm\")) -> None:\n",
        "    \"\"\"validate that an stype is multimode and that the given modes are present.\"\"\"\n",
        "    try:\n",
        "        current_modes = set(p.split(\"@\")[1] for p in get_ports(S))\n",
        "    except IndexError:\n",
        "        raise ValueError(\"The given stype is not multimode.\")\n",
        "    for mode in modes:\n",
        "        if mode not in current_modes:\n",
        "            raise ValueError(\n",
        "                f\"Could not find mode '{mode}' in one of the multimode models.\"\n",
        "            )"
      ]
    },
    {
      "cell_type": "code",
      "execution_count": 43,
      "id": "41fb0142",
      "metadata": {
        "execution": {
          "iopub.execute_input": "2023-07-01T03:32:29.601290Z",
          "iopub.status.busy": "2023-07-01T03:32:29.601006Z",
          "iopub.status.idle": "2023-07-01T03:32:29.604953Z",
          "shell.execute_reply": "2023-07-01T03:32:29.604576Z"
        },
        "papermill": {
          "duration": 0.01524,
          "end_time": "2023-07-01T03:32:29.606593",
          "exception": false,
          "start_time": "2023-07-01T03:32:29.591353",
          "status": "completed"
        },
        "tags": []
      },
      "outputs": [],
      "source": [
        "sdict = {(\"in0\", \"out0\"): 1.0, (\"out0\", \"in0\"): 1.0}\n",
        "with raises(ValueError):\n",
        "    validate_multimode(sdict)\n",
        "\n",
        "sdict = {(\"in0@te\", \"out0@te\"): 1.0, (\"out0@tm\", \"in0@tm\"): 1.0}\n",
        "validate_multimode(sdict)\n",
        "\n",
        "sdict = {(\"in0@te\", \"out0@te\"): 1.0, (\"out0\", \"in0@tm\"): 1.0}\n",
        "with raises(ValueError):\n",
        "    validate_multimode(sdict)"
      ]
    },
    {
      "cell_type": "markdown",
      "id": "66f6866a7619a5eb",
      "metadata": {},
      "source": [
        ":::{eval-rst}\n",
        ".. autofunction:: sax.utils.validate_sdict\n",
        ":::\n"
      ]
    },
    {
      "cell_type": "code",
      "execution_count": 44,
      "id": "a980044aba9654f3",
      "metadata": {
        "execution": {
          "iopub.execute_input": "2023-07-01T03:32:29.625482Z",
          "iopub.status.busy": "2023-07-01T03:32:29.625270Z",
          "iopub.status.idle": "2023-07-01T03:32:29.628998Z",
          "shell.execute_reply": "2023-07-01T03:32:29.628619Z"
        },
        "papermill": {
          "duration": 0.01515,
          "end_time": "2023-07-01T03:32:29.630658",
          "exception": false,
          "start_time": "2023-07-01T03:32:29.615508",
          "status": "completed"
        },
        "tags": [
          "hide-input"
        ]
      },
      "outputs": [],
      "source": [
        "def validate_sdict(sdict: Any) -> None:\n",
        "    \"\"\"Validate an `SDict`\"\"\"\n",
        "    \n",
        "    if not isinstance(sdict, dict):\n",
        "        raise ValueError(\"An SDict should be a dictionary.\")\n",
        "    for ports in sdict:\n",
        "        if not isinstance(ports, tuple) and not len(ports) == 2:\n",
        "            raise ValueError(f\"SDict keys should be length-2 tuples. Got {ports}\")\n",
        "        p1, p2 = ports\n",
        "        if not isinstance(p1, str) or not isinstance(p2, str):\n",
        "            raise ValueError(\n",
        "                f\"SDict ports should be strings. Got {ports} \"\n",
        "                f\"({type(ports[0])}, {type(ports[1])})\"\n",
        "            )"
      ]
    },
    {
      "cell_type": "code",
      "execution_count": 45,
      "id": "fe25c362",
      "metadata": {
        "execution": {
          "iopub.execute_input": "2023-07-01T03:32:29.649299Z",
          "iopub.status.busy": "2023-07-01T03:32:29.649105Z",
          "iopub.status.idle": "2023-07-01T03:32:29.652214Z",
          "shell.execute_reply": "2023-07-01T03:32:29.651857Z"
        },
        "papermill": {
          "duration": 0.014269,
          "end_time": "2023-07-01T03:32:29.653801",
          "exception": false,
          "start_time": "2023-07-01T03:32:29.639532",
          "status": "completed"
        },
        "tags": []
      },
      "outputs": [],
      "source": [
        "good_sdict = reciprocal({(\"p0\", \"p1\"): 0.1, \n",
        "                         (\"p1\", \"p2\"): 0.2})\n",
        "assert validate_sdict(good_sdict) is None\n",
        "\n",
        "bad_sdict = {\n",
        "    \"p0,p1\": 0.1,\n",
        "    (\"p1\", \"p2\"): 0.2,\n",
        "}\n",
        "with raises(ValueError):\n",
        "    validate_sdict(bad_sdict)"
      ]
    },
    {
      "cell_type": "markdown",
      "id": "ea2a4b9f2a2d32f6",
      "metadata": {},
      "source": [
        ":::{eval-rst}\n",
        ".. autofunction:: sax.utils.get_inputs_outputs\n",
        ":::\n"
      ]
    },
    {
      "cell_type": "code",
      "execution_count": 46,
      "id": "13e40266d6258cd5",
      "metadata": {
        "execution": {
          "iopub.execute_input": "2023-07-01T03:32:29.672662Z",
          "iopub.status.busy": "2023-07-01T03:32:29.672475Z",
          "iopub.status.idle": "2023-07-01T03:32:29.675972Z",
          "shell.execute_reply": "2023-07-01T03:32:29.675614Z"
        },
        "papermill": {
          "duration": 0.014765,
          "end_time": "2023-07-01T03:32:29.677539",
          "exception": false,
          "start_time": "2023-07-01T03:32:29.662774",
          "status": "completed"
        },
        "tags": [
          "hide-input"
        ]
      },
      "outputs": [],
      "source": [
        "\n",
        "def get_inputs_outputs(ports: Tuple[str, ...]):\n",
        "    inputs = tuple(p for p in ports if p.lower().startswith(\"in\"))\n",
        "    outputs = tuple(p for p in ports if not p.lower().startswith(\"in\"))\n",
        "    if not inputs:\n",
        "        inputs = tuple(p for p in ports if not p.lower().startswith(\"out\"))\n",
        "        outputs = tuple(p for p in ports if p.lower().startswith(\"out\"))\n",
        "    return inputs, outputs"
      ]
    },
    {
      "cell_type": "code",
      "execution_count": 47,
      "id": "b9ba032d",
      "metadata": {
        "execution": {
          "iopub.execute_input": "2023-07-01T03:32:29.702774Z",
          "iopub.status.busy": "2023-07-01T03:32:29.702584Z",
          "iopub.status.idle": "2023-07-01T03:32:29.705817Z",
          "shell.execute_reply": "2023-07-01T03:32:29.705482Z"
        },
        "papermill": {
          "duration": 0.02046,
          "end_time": "2023-07-01T03:32:29.706915",
          "exception": false,
          "start_time": "2023-07-01T03:32:29.686455",
          "status": "completed"
        },
        "tags": []
      },
      "outputs": [],
      "source": [
        "assert get_inputs_outputs([\"in0\", \"out0\"]) == (('in0',), ('out0',))\n",
        "assert get_inputs_outputs([\"in0\", \"in1\"]) == (('in0', 'in1'), ())\n",
        "assert get_inputs_outputs([\"out0\", \"out1\"]) == ((), ('out0', 'out1'))\n",
        "assert get_inputs_outputs([\"out0\", \"dc0\"]) == (('dc0',), ('out0',))\n",
        "assert get_inputs_outputs([\"dc0\", \"in0\"]) == (('in0',), ('dc0',))"
      ]
    },
    {
      "cell_type": "markdown",
      "id": "e8f15d0237b92d26",
      "metadata": {},
      "source": [
        ":::{eval-rst}\n",
        ".. autofunction:: sax.utils.hash_dict\n",
        ":::\n"
      ]
    },
    {
      "cell_type": "code",
      "execution_count": 48,
      "id": "da80b8c6848d05c7",
      "metadata": {
        "execution": {
          "iopub.execute_input": "2023-07-01T03:32:29.739529Z",
          "iopub.status.busy": "2023-07-01T03:32:29.739339Z",
          "iopub.status.idle": "2023-07-01T03:32:29.742750Z",
          "shell.execute_reply": "2023-07-01T03:32:29.742401Z"
        },
        "papermill": {
          "duration": 0.02389,
          "end_time": "2023-07-01T03:32:29.746750",
          "exception": false,
          "start_time": "2023-07-01T03:32:29.722860",
          "status": "completed"
        },
        "tags": [
          "hide-input"
        ]
      },
      "outputs": [],
      "source": [
        "\n",
        "def hash_dict(dic: Dict) -> int:\n",
        "    return int(\n",
        "        md5(\n",
        "            orjson.dumps(_numpyfy(dic), option=orjson.OPT_SERIALIZE_NUMPY | orjson.OPT_SORT_KEYS)\n",
        "        ).hexdigest(),\n",
        "        16,\n",
        "    )\n",
        "\n",
        "def _numpyfy(obj: Any):\n",
        "    if not isinstance(obj, dict):\n",
        "        return np.asarray(obj)\n",
        "    else:\n",
        "        return {k: _numpyfy(v) for k, v in obj.items()}"
      ]
    }
  ],
  "metadata": {
    "kernelspec": {
      "display_name": "sax",
      "language": "python",
      "name": "sax"
    },
    "language_info": {
      "codemirror_mode": {
        "name": "ipython",
        "version": 3
      },
      "file_extension": ".py",
      "mimetype": "text/x-python",
      "name": "python",
      "nbconvert_exporter": "python",
      "pygments_lexer": "ipython3",
      "version": "3.11.4"
    },
    "papermill": {
      "default_parameters": {},
      "duration": 8.777507,
      "end_time": "2023-07-01T03:32:30.483039",
      "environment_variables": {},
      "exception": null,
      "input_path": "./nbs/02_utils.ipynb",
      "output_path": "./nbs/02_utils.ipynb",
      "parameters": {},
      "start_time": "2023-07-01T03:32:21.705532",
      "version": "2.3.4"
    }
  },
  "nbformat": 4,
  "nbformat_minor": 5
}