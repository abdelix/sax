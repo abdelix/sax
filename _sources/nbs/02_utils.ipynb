{
  "cells": [
    {
      "cell_type": "code",
      "execution_count": 1,
      "id": "fc8328e24f5e272f",
      "metadata": {
        "execution": {
          "iopub.execute_input": "2023-09-01T16:51:24.570336Z",
          "iopub.status.busy": "2023-09-01T16:51:24.569845Z",
          "iopub.status.idle": "2023-09-01T16:51:24.573203Z",
          "shell.execute_reply": "2023-09-01T16:51:24.572645Z"
        },
        "papermill": {
          "duration": 0.014491,
          "end_time": "2023-09-01T16:51:24.574431",
          "exception": false,
          "start_time": "2023-09-01T16:51:24.559940",
          "status": "completed"
        },
        "tags": [
          "remove-cell"
        ]
      },
      "outputs": [],
      "source": []
    },
    {
      "cell_type": "markdown",
      "id": "6ecfd145",
      "metadata": {
        "papermill": {
          "duration": 0.006557,
          "end_time": "2023-09-01T16:51:24.612028",
          "exception": false,
          "start_time": "2023-09-01T16:51:24.605471",
          "status": "completed"
        },
        "tags": []
      },
      "source": [
        "# Utils\n",
        "\n",
        "> General SAX utilities"
      ]
    },
    {
      "cell_type": "code",
      "execution_count": 2,
      "id": "7a7ff61e8bb744b8",
      "metadata": {
        "execution": {
          "iopub.execute_input": "2023-09-01T16:51:24.626566Z",
          "iopub.status.busy": "2023-09-01T16:51:24.626004Z",
          "iopub.status.idle": "2023-09-01T16:51:25.047651Z",
          "shell.execute_reply": "2023-09-01T16:51:25.047207Z"
        },
        "papermill": {
          "duration": 0.43083,
          "end_time": "2023-09-01T16:51:25.049460",
          "exception": false,
          "start_time": "2023-09-01T16:51:24.618630",
          "status": "completed"
        },
        "tags": [
          "remove-cell"
        ]
      },
      "outputs": [],
      "source": [
        "import matplotlib.pyplot as plt\n",
        "from fastcore.test import test_eq\n",
        "from pytest import raises\n",
        "\n",
        "import os, sys; sys.stderr = open(os.devnull, \"w\")"
      ]
    },
    {
      "cell_type": "code",
      "execution_count": 3,
      "id": "6544b33217c847b7",
      "metadata": {
        "execution": {
          "iopub.execute_input": "2023-09-01T16:51:25.064327Z",
          "iopub.status.busy": "2023-09-01T16:51:25.063908Z",
          "iopub.status.idle": "2023-09-01T16:51:25.824116Z",
          "shell.execute_reply": "2023-09-01T16:51:25.823670Z"
        },
        "papermill": {
          "duration": 0.769283,
          "end_time": "2023-09-01T16:51:25.825673",
          "exception": false,
          "start_time": "2023-09-01T16:51:25.056390",
          "status": "completed"
        },
        "tags": [
          "hide-input"
        ]
      },
      "outputs": [],
      "source": [
        "from __future__ import annotations\n",
        "\n",
        "import inspect\n",
        "import re\n",
        "import warnings\n",
        "from functools import lru_cache, partial, wraps\n",
        "from hashlib import md5\n",
        "from typing import Any, Callable, Dict, Iterable, Iterator, Tuple, Union, cast, overload\n",
        "\n",
        "import numpy as np\n",
        "import orjson\n",
        "from natsort import natsorted\n",
        "from sax.typing_ import (\n",
        "    Array,\n",
        "    ComplexFloat,\n",
        "    Float,\n",
        "    Model,\n",
        "    ModelFactory,\n",
        "    SCoo,\n",
        "    SDense,\n",
        "    SDict,\n",
        "    Settings,\n",
        "    SType,\n",
        "    is_mixedmode,\n",
        "    is_model,\n",
        "    is_model_factory,\n",
        "    is_scoo,\n",
        "    is_sdense,\n",
        "    is_sdict,\n",
        ")\n",
        "\n",
        "try:\n",
        "    import jax\n",
        "    import jax.numpy as jnp\n",
        "    import jax.scipy as jsp\n",
        "    import jax.scipy.linalg\n",
        "    JAX_AVAILABLE = True\n",
        "except ImportError:\n",
        "    import numpy as jnp\n",
        "    import scipy as jsp\n",
        "    import scipy.linalg\n",
        "    JAX_AVAILABLE = False"
      ]
    },
    {
      "cell_type": "markdown",
      "id": "9e866b86e88c2e62",
      "metadata": {},
      "source": [
        ":::{eval-rst}\n",
        ".. autofunction:: sax.utils.block_diag\n",
        ":::\n"
      ]
    },
    {
      "cell_type": "code",
      "execution_count": 4,
      "id": "bd4ac398587a35f1",
      "metadata": {
        "execution": {
          "iopub.execute_input": "2023-09-01T16:51:25.841510Z",
          "iopub.status.busy": "2023-09-01T16:51:25.840920Z",
          "iopub.status.idle": "2023-09-01T16:51:25.846666Z",
          "shell.execute_reply": "2023-09-01T16:51:25.846216Z"
        },
        "papermill": {
          "duration": 0.015326,
          "end_time": "2023-09-01T16:51:25.847989",
          "exception": false,
          "start_time": "2023-09-01T16:51:25.832663",
          "status": "completed"
        },
        "tags": [
          "hide-input"
        ]
      },
      "outputs": [],
      "source": [
        "def block_diag(*arrs: Array) -> Array:\n",
        "    \"\"\"create block diagonal matrix with arbitrary batch dimensions \"\"\"\n",
        "    batch_shape = arrs[0].shape[:-2]\n",
        "    \n",
        "    B = jnp.prod(jnp.asarray(batch_shape, dtype=int))\n",
        "    \n",
        "    N = 0\n",
        "    for arr in arrs:\n",
        "        if batch_shape != arr.shape[:-2]:\n",
        "            raise ValueError(\"batch dimensions for given arrays don't match.\")\n",
        "        m, n = arr.shape[-2:]\n",
        "        if m != n:\n",
        "            raise ValueError(\"given arrays are not square.\")\n",
        "        N += n\n",
        "    \n",
        "    arrs = [arr.reshape(-1, arr.shape[-2], arr.shape[-1]) for arr in arrs]\n",
        "\n",
        "    if JAX_AVAILABLE:\n",
        "        batch_block_diag = jax.vmap(jsp.linalg.block_diag, in_axes=0, out_axes=0)\n",
        "        block_diag = batch_block_diag(*arrs)\n",
        "    else:\n",
        "        arrs = [jsp.linalg.block_diag(*[arr[i] for arr in arrs]) for i in range(B)]\n",
        "        block_diag = jnp.stack(arrs, 0)\n",
        "        \n",
        "    return block_diag.reshape(*batch_shape, N, N)"
      ]
    },
    {
      "cell_type": "code",
      "execution_count": 5,
      "id": "7e9b15b3",
      "metadata": {
        "execution": {
          "iopub.execute_input": "2023-09-01T16:51:25.862252Z",
          "iopub.status.busy": "2023-09-01T16:51:25.861941Z",
          "iopub.status.idle": "2023-09-01T16:51:26.033683Z",
          "shell.execute_reply": "2023-09-01T16:51:26.033220Z"
        },
        "papermill": {
          "duration": 0.180589,
          "end_time": "2023-09-01T16:51:26.035209",
          "exception": false,
          "start_time": "2023-09-01T16:51:25.854620",
          "status": "completed"
        },
        "tags": []
      },
      "outputs": [],
      "source": [
        "arr1 = 1 * jnp.ones((1, 2, 2))\n",
        "arr2 = 2 * jnp.ones((1, 3, 3))\n",
        "\n",
        "test_eq(\n",
        "    block_diag(arr1, arr2),\n",
        "    [[[1.0, 1.0, 0.0, 0.0, 0.0],\n",
        "      [1.0, 1.0, 0.0, 0.0, 0.0],\n",
        "      [0.0, 0.0, 2.0, 2.0, 2.0],\n",
        "      [0.0, 0.0, 2.0, 2.0, 2.0],\n",
        "      [0.0, 0.0, 2.0, 2.0, 2.0]]]\n",
        ")"
      ]
    },
    {
      "cell_type": "markdown",
      "id": "c7519882d9bb5749",
      "metadata": {},
      "source": [
        ":::{eval-rst}\n",
        ".. autofunction:: sax.utils.clean_string\n",
        ":::\n"
      ]
    },
    {
      "cell_type": "code",
      "execution_count": 6,
      "id": "d202444267e4e1ce",
      "metadata": {
        "execution": {
          "iopub.execute_input": "2023-09-01T16:51:26.050671Z",
          "iopub.status.busy": "2023-09-01T16:51:26.050427Z",
          "iopub.status.idle": "2023-09-01T16:51:26.054518Z",
          "shell.execute_reply": "2023-09-01T16:51:26.054073Z"
        },
        "papermill": {
          "duration": 0.013689,
          "end_time": "2023-09-01T16:51:26.055851",
          "exception": false,
          "start_time": "2023-09-01T16:51:26.042162",
          "status": "completed"
        },
        "tags": [
          "hide-input"
        ]
      },
      "outputs": [],
      "source": [
        "\n",
        "def clean_string(s: str, dot='p', minus='m', other='_') -> str:\n",
        "    \"\"\"clean a string such that it is a valid python identifier\"\"\"\n",
        "    original = s\n",
        "    s = s.strip()\n",
        "    s = s.replace(\".\", dot)  # dot\n",
        "    s = s.replace(\"-\", minus)  # minus\n",
        "    s = re.sub(\"[^0-9a-zA-Z]\", other, s)\n",
        "    if s[0] in \"0123456789\":\n",
        "        s = \"_\" + s\n",
        "    if s != original:\n",
        "        warnings.warn(f\"modified string {original} in an attempt to make valid python identifier: {s}\")\n",
        "    if not s.isidentifier():\n",
        "        raise ValueError(f\"failed to clean string to a valid python identifier: {s}\")\n",
        "    return s"
      ]
    },
    {
      "cell_type": "code",
      "execution_count": 7,
      "id": "cfe8bf00",
      "metadata": {
        "execution": {
          "iopub.execute_input": "2023-09-01T16:51:26.070874Z",
          "iopub.status.busy": "2023-09-01T16:51:26.070297Z",
          "iopub.status.idle": "2023-09-01T16:51:26.073259Z",
          "shell.execute_reply": "2023-09-01T16:51:26.072865Z"
        },
        "papermill": {
          "duration": 0.011837,
          "end_time": "2023-09-01T16:51:26.074513",
          "exception": false,
          "start_time": "2023-09-01T16:51:26.062676",
          "status": "completed"
        },
        "tags": []
      },
      "outputs": [],
      "source": [
        "assert clean_string(\"Hello, string 1.0\") == \"Hello__string_1p0\""
      ]
    },
    {
      "cell_type": "markdown",
      "id": "276b8b3ad2f5268b",
      "metadata": {},
      "source": [
        ":::{eval-rst}\n",
        ".. autofunction:: sax.utils.copy_settings\n",
        ":::\n"
      ]
    },
    {
      "cell_type": "markdown",
      "id": "01944944f92cc598",
      "metadata": {},
      "source": [
        ":::{eval-rst}\n",
        ".. autofunction:: sax.utils.validate_settings\n",
        ":::\n"
      ]
    },
    {
      "cell_type": "markdown",
      "id": "d8a6430b18d3f441",
      "metadata": {},
      "source": [
        ":::{eval-rst}\n",
        ".. autofunction:: sax.utils.try_float\n",
        ":::\n"
      ]
    },
    {
      "cell_type": "code",
      "execution_count": 8,
      "id": "0d5aab538d7f56b2",
      "metadata": {
        "execution": {
          "iopub.execute_input": "2023-09-01T16:51:26.089169Z",
          "iopub.status.busy": "2023-09-01T16:51:26.088694Z",
          "iopub.status.idle": "2023-09-01T16:51:26.092917Z",
          "shell.execute_reply": "2023-09-01T16:51:26.092590Z"
        },
        "papermill": {
          "duration": 0.012701,
          "end_time": "2023-09-01T16:51:26.093992",
          "exception": false,
          "start_time": "2023-09-01T16:51:26.081291",
          "status": "completed"
        },
        "tags": [
          "hide-input"
        ]
      },
      "outputs": [],
      "source": [
        "\n",
        "def copy_settings(settings: Settings) -> Settings:\n",
        "    \"\"\"copy a parameter dictionary\"\"\"\n",
        "    return validate_settings(settings)  # validation also copies\n",
        "\n",
        "def validate_settings(settings: Settings) -> Settings:\n",
        "    \"\"\"Validate a parameter dictionary\"\"\"\n",
        "    _settings = {}\n",
        "    for k, v in settings.items():\n",
        "        if isinstance(v, dict):\n",
        "            _settings[k] = validate_settings(v)\n",
        "        else:\n",
        "            _settings[k] = try_float(v)\n",
        "    return _settings\n",
        "\n",
        "def try_float(f: Any) -> Any:\n",
        "    \"\"\"try converting an object to float, return unchanged object on fail\"\"\"\n",
        "    try:\n",
        "        return jnp.asarray(f, dtype=float)\n",
        "    except (ValueError, TypeError):\n",
        "        return f"
      ]
    },
    {
      "cell_type": "code",
      "execution_count": 9,
      "id": "7c7a72e4",
      "metadata": {
        "execution": {
          "iopub.execute_input": "2023-09-01T16:51:26.108418Z",
          "iopub.status.busy": "2023-09-01T16:51:26.108056Z",
          "iopub.status.idle": "2023-09-01T16:51:26.174605Z",
          "shell.execute_reply": "2023-09-01T16:51:26.174152Z"
        },
        "papermill": {
          "duration": 0.075253,
          "end_time": "2023-09-01T16:51:26.176004",
          "exception": false,
          "start_time": "2023-09-01T16:51:26.100751",
          "status": "completed"
        },
        "tags": []
      },
      "outputs": [],
      "source": [
        "orig_settings = {\"a\": 3, \"c\": jnp.array([9.0, 10.0, 11.0])}\n",
        "new_settings = copy_settings(orig_settings)\n",
        "\n",
        "assert orig_settings[\"a\"] == new_settings[\"a\"]\n",
        "assert jnp.all(orig_settings[\"c\"] == new_settings[\"c\"])\n",
        "new_settings[\"a\"] = jnp.array(5.0)\n",
        "assert orig_settings[\"a\"] == 3\n",
        "assert new_settings[\"a\"] == 5\n",
        "assert orig_settings[\"c\"] is new_settings[\"c\"]"
      ]
    },
    {
      "cell_type": "markdown",
      "id": "044bac1938a2169a",
      "metadata": {},
      "source": [
        ":::{eval-rst}\n",
        ".. autofunction:: sax.utils.flatten_dict\n",
        ":::\n"
      ]
    },
    {
      "cell_type": "code",
      "execution_count": 10,
      "id": "ee1de0104ae42258",
      "metadata": {
        "execution": {
          "iopub.execute_input": "2023-09-01T16:51:26.191415Z",
          "iopub.status.busy": "2023-09-01T16:51:26.190806Z",
          "iopub.status.idle": "2023-09-01T16:51:26.195583Z",
          "shell.execute_reply": "2023-09-01T16:51:26.195001Z"
        },
        "papermill": {
          "duration": 0.013763,
          "end_time": "2023-09-01T16:51:26.196846",
          "exception": false,
          "start_time": "2023-09-01T16:51:26.183083",
          "status": "completed"
        },
        "tags": [
          "hide-input"
        ]
      },
      "outputs": [],
      "source": [
        "def flatten_dict(dic: Dict[str, Any], sep: str = \",\") -> Dict[str, Any]:\n",
        "    \"\"\"flatten a nested dictionary\"\"\"\n",
        "    return _flatten_dict(dic, sep=sep)\n",
        "\n",
        "\n",
        "def _flatten_dict(\n",
        "    dic: Dict[str, Any], sep: str = \",\", frozen: bool = False, parent_key: str = \"\"\n",
        ") -> Dict[str, Any]:\n",
        "    items = []\n",
        "    for k, v in dic.items():\n",
        "        new_key = parent_key + sep + k if parent_key else k\n",
        "        if isinstance(v, dict):\n",
        "            items.extend(\n",
        "                _flatten_dict(v, sep=sep, frozen=frozen, parent_key=new_key).items()\n",
        "            )\n",
        "        else:\n",
        "            items.append((new_key, v))\n",
        "\n",
        "    return dict(items)"
      ]
    },
    {
      "cell_type": "code",
      "execution_count": 11,
      "id": "dc454e7d",
      "metadata": {
        "execution": {
          "iopub.execute_input": "2023-09-01T16:51:26.211630Z",
          "iopub.status.busy": "2023-09-01T16:51:26.211352Z",
          "iopub.status.idle": "2023-09-01T16:51:26.215018Z",
          "shell.execute_reply": "2023-09-01T16:51:26.214624Z"
        },
        "papermill": {
          "duration": 0.012459,
          "end_time": "2023-09-01T16:51:26.216226",
          "exception": false,
          "start_time": "2023-09-01T16:51:26.203767",
          "status": "completed"
        },
        "tags": []
      },
      "outputs": [],
      "source": [
        "nested_dict = {\n",
        "    \"a\": 3.0,\n",
        "    \"b\": {\"c\": 4.0},\n",
        "}\n",
        "\n",
        "flat_dict = flatten_dict(nested_dict, sep=\",\")\n",
        "assert flat_dict == {\"a\": 3.0, \"b,c\": 4.0}"
      ]
    },
    {
      "cell_type": "markdown",
      "id": "a65c274f8797c97d",
      "metadata": {},
      "source": [
        ":::{eval-rst}\n",
        ".. autofunction:: sax.utils.unflatten_dict\n",
        ":::\n"
      ]
    },
    {
      "cell_type": "code",
      "execution_count": 12,
      "id": "b58ac8cf10aa5752",
      "metadata": {
        "execution": {
          "iopub.execute_input": "2023-09-01T16:51:26.231222Z",
          "iopub.status.busy": "2023-09-01T16:51:26.230709Z",
          "iopub.status.idle": "2023-09-01T16:51:26.234517Z",
          "shell.execute_reply": "2023-09-01T16:51:26.234158Z"
        },
        "papermill": {
          "duration": 0.012504,
          "end_time": "2023-09-01T16:51:26.235623",
          "exception": false,
          "start_time": "2023-09-01T16:51:26.223119",
          "status": "completed"
        },
        "tags": [
          "hide-input"
        ]
      },
      "outputs": [],
      "source": [
        "\n",
        "def unflatten_dict(dic, sep=\",\"):\n",
        "    \"\"\"unflatten a flattened dictionary \"\"\"\n",
        "    \n",
        "    # from: https://gist.github.com/fmder/494aaa2dd6f8c428cede\n",
        "    items = dict()\n",
        "\n",
        "    for k, v in dic.items():\n",
        "        keys = k.split(sep)\n",
        "        sub_items = items\n",
        "        for ki in keys[:-1]:\n",
        "            if ki in sub_items:\n",
        "                sub_items = sub_items[ki]\n",
        "            else:\n",
        "                sub_items[ki] = dict()\n",
        "                sub_items = sub_items[ki]\n",
        "\n",
        "        sub_items[keys[-1]] = v\n",
        "\n",
        "    return items"
      ]
    },
    {
      "cell_type": "code",
      "execution_count": 13,
      "id": "cd8b221b",
      "metadata": {
        "execution": {
          "iopub.execute_input": "2023-09-01T16:51:26.250455Z",
          "iopub.status.busy": "2023-09-01T16:51:26.250130Z",
          "iopub.status.idle": "2023-09-01T16:51:26.252781Z",
          "shell.execute_reply": "2023-09-01T16:51:26.252430Z"
        },
        "papermill": {
          "duration": 0.011505,
          "end_time": "2023-09-01T16:51:26.254030",
          "exception": false,
          "start_time": "2023-09-01T16:51:26.242525",
          "status": "completed"
        },
        "tags": []
      },
      "outputs": [],
      "source": [
        "assert unflatten_dict(flat_dict, sep=\",\") == nested_dict"
      ]
    },
    {
      "cell_type": "markdown",
      "id": "4a7c93024ea378b6",
      "metadata": {},
      "source": [
        ":::{eval-rst}\n",
        ".. autofunction:: sax.utils.get_ports\n",
        ":::\n"
      ]
    },
    {
      "cell_type": "code",
      "execution_count": 14,
      "id": "bc498fbd7e96259e",
      "metadata": {
        "execution": {
          "iopub.execute_input": "2023-09-01T16:51:26.269346Z",
          "iopub.status.busy": "2023-09-01T16:51:26.268762Z",
          "iopub.status.idle": "2023-09-01T16:51:26.273742Z",
          "shell.execute_reply": "2023-09-01T16:51:26.273376Z"
        },
        "papermill": {
          "duration": 0.013849,
          "end_time": "2023-09-01T16:51:26.274866",
          "exception": false,
          "start_time": "2023-09-01T16:51:26.261017",
          "status": "completed"
        },
        "tags": [
          "hide-input"
        ]
      },
      "outputs": [],
      "source": [
        "\n",
        "def get_ports(S: Union[Model, SType]) -> Tuple[str, ...]:\n",
        "    \"\"\"get port names of a model or an stype\"\"\"\n",
        "    if is_model(S):\n",
        "        return _get_ports_from_model(cast(Model, S))\n",
        "    elif is_sdict(S):\n",
        "        ports_set = {p1 for p1, _ in S} | {p2 for _, p2 in S}\n",
        "        return tuple(natsorted(ports_set))\n",
        "    elif is_scoo(S) or is_sdense(S):\n",
        "        *_, ports_map = S\n",
        "        return tuple(natsorted(ports_map.keys()))\n",
        "    else:\n",
        "        raise ValueError(\"Could not extract ports for given S\")\n",
        "        \n",
        "@lru_cache(maxsize=4096)  # cache to prevent future tracing\n",
        "def _get_ports_from_model(model: Model) -> Tuple[str, ...]:\n",
        "    if JAX_AVAILABLE:\n",
        "        S: SType = jax.eval_shape(model)\n",
        "    else:\n",
        "        warnings.warn(\"[NO JAX] requesting the ports of a model requires evaluating the model!\")\n",
        "        S = model()\n",
        "    return get_ports(S)"
      ]
    },
    {
      "cell_type": "markdown",
      "id": "4c23ef24",
      "metadata": {
        "papermill": {
          "duration": 0.006834,
          "end_time": "2023-09-01T16:51:26.288660",
          "exception": false,
          "start_time": "2023-09-01T16:51:26.281826",
          "status": "completed"
        },
        "tags": []
      },
      "source": [
        "> Note: if a `Model` function is given in stead of an `SDict`, the function will be traced by JAX to obtain the ports of the resulting `SType`. Although this tracing of the function is 'cheap' in comparison to evaluating the model/circuit. It is not for free!  Use this function sparingly on your large `Model` or `circuit`!"
      ]
    },
    {
      "cell_type": "code",
      "execution_count": 15,
      "id": "c70af810",
      "metadata": {
        "execution": {
          "iopub.execute_input": "2023-09-01T16:51:26.303728Z",
          "iopub.status.busy": "2023-09-01T16:51:26.303300Z",
          "iopub.status.idle": "2023-09-01T16:51:26.322684Z",
          "shell.execute_reply": "2023-09-01T16:51:26.322251Z"
        },
        "papermill": {
          "duration": 0.028531,
          "end_time": "2023-09-01T16:51:26.324144",
          "exception": false,
          "start_time": "2023-09-01T16:51:26.295613",
          "status": "completed"
        },
        "tags": []
      },
      "outputs": [
        {
          "data": {
            "text/plain": [
              "(Array([0], dtype=int64),\n",
              " Array([1], dtype=int64),\n",
              " Array([1.], dtype=float64, weak_type=True),\n",
              " {'in0': 0, 'out0': 1})"
            ]
          },
          "execution_count": 15,
          "metadata": {},
          "output_type": "execute_result"
        }
      ],
      "source": [
        "from sax.typing_ import scoo\n",
        "scoo({(\"in0\", \"out0\"): 1.0})"
      ]
    },
    {
      "cell_type": "code",
      "execution_count": 16,
      "id": "dc2eecbe",
      "metadata": {
        "execution": {
          "iopub.execute_input": "2023-09-01T16:51:26.339657Z",
          "iopub.status.busy": "2023-09-01T16:51:26.339103Z",
          "iopub.status.idle": "2023-09-01T16:51:26.513580Z",
          "shell.execute_reply": "2023-09-01T16:51:26.513136Z"
        },
        "papermill": {
          "duration": 0.183788,
          "end_time": "2023-09-01T16:51:26.515142",
          "exception": false,
          "start_time": "2023-09-01T16:51:26.331354",
          "status": "completed"
        },
        "tags": []
      },
      "outputs": [],
      "source": [
        "def coupler(coupling=0.5):\n",
        "    return {\n",
        "        (\"in0\", \"out0\"): coupling**0.5,\n",
        "        (\"in0\", \"out1\"): 1j*coupling**0.5,\n",
        "        (\"in1\", \"out0\"): 1j*coupling**0.5,\n",
        "        (\"in1\", \"out1\"): coupling**0.5,\n",
        "    }\n",
        "\n",
        "model = coupler\n",
        "assert get_ports(model) == ('in0', 'in1', 'out0', 'out1')\n",
        "\n",
        "sdict_ = coupler()\n",
        "assert get_ports(sdict_) == ('in0', 'in1', 'out0', 'out1')\n",
        "\n",
        "from sax.typing_ import scoo\n",
        "scoo_ = scoo(sdict_)\n",
        "assert get_ports(scoo_) == ('in0', 'in1', 'out0', 'out1')\n",
        "\n",
        "from sax.typing_ import sdense\n",
        "sdense_ = sdense(sdict_)\n",
        "assert get_ports(sdense_) == ('in0', 'in1', 'out0', 'out1')"
      ]
    },
    {
      "cell_type": "markdown",
      "id": "02995ae93594340e",
      "metadata": {},
      "source": [
        ":::{eval-rst}\n",
        ".. autofunction:: sax.utils.get_port_combinations\n",
        ":::\n"
      ]
    },
    {
      "cell_type": "code",
      "execution_count": 17,
      "id": "400f6dd512034696",
      "metadata": {
        "execution": {
          "iopub.execute_input": "2023-09-01T16:51:26.530899Z",
          "iopub.status.busy": "2023-09-01T16:51:26.530331Z",
          "iopub.status.idle": "2023-09-01T16:51:26.536141Z",
          "shell.execute_reply": "2023-09-01T16:51:26.535811Z"
        },
        "papermill": {
          "duration": 0.014785,
          "end_time": "2023-09-01T16:51:26.537197",
          "exception": false,
          "start_time": "2023-09-01T16:51:26.522412",
          "status": "completed"
        },
        "tags": [
          "hide-input"
        ]
      },
      "outputs": [],
      "source": [
        "\n",
        "def get_port_combinations(S: Union[Model, SType]) -> Tuple[Tuple[str, str], ...]:\n",
        "    \"\"\"get port combinations of a model or an stype\"\"\"\n",
        "    \n",
        "    if is_model(S):\n",
        "        S = cast(Model, S)\n",
        "        return _get_port_combinations_from_model(S)\n",
        "    elif is_sdict(S):\n",
        "        S = cast(SDict, S)\n",
        "        return tuple(S.keys())\n",
        "    elif is_scoo(S):\n",
        "        Si, Sj, _, pm = cast(SCoo, S)\n",
        "        rpm = {int(i): str(p) for p, i in pm.items()}\n",
        "        return tuple(natsorted((rpm[int(i)], rpm[int(j)]) for i, j in zip(Si, Sj)))\n",
        "    elif is_sdense(S):\n",
        "        _, pm = cast(SDense, S)\n",
        "        return tuple(natsorted((p1, p2) for p1 in pm for p2 in pm))\n",
        "    else:\n",
        "        raise ValueError(\"Could not extract ports for given S\")\n",
        "        \n",
        "@lru_cache(maxsize=4096)  # cache to prevent future tracing\n",
        "def _get_port_combinations_from_model(model: Model) -> Tuple[Tuple[str, str], ...]:\n",
        "    if JAX_AVAILABLE:\n",
        "        S: SType = jax.eval_shape(model)\n",
        "    else:\n",
        "        warnings.warn(\"[NO JAX] requesting the ports of a model requires evaluating the model!\")\n",
        "        S = model()\n",
        "    return get_port_combinations(S)"
      ]
    },
    {
      "cell_type": "markdown",
      "id": "a43d6849",
      "metadata": {
        "papermill": {
          "duration": 0.007114,
          "end_time": "2023-09-01T16:51:26.551606",
          "exception": false,
          "start_time": "2023-09-01T16:51:26.544492",
          "status": "completed"
        },
        "tags": []
      },
      "source": [
        "> Note: if a `Model` function is given in stead of an `SDict`, the function will be traced by JAX to obtain the port combinations of the resulting `SType`. Although this tracing of the function is 'cheap' in comparison to evaluating the model/circuit. It is not for free!  Use this function sparingly on your large `Model` or `circuit`!"
      ]
    },
    {
      "cell_type": "code",
      "execution_count": 18,
      "id": "cf00a0c0",
      "metadata": {
        "execution": {
          "iopub.execute_input": "2023-09-01T16:51:26.566967Z",
          "iopub.status.busy": "2023-09-01T16:51:26.566549Z",
          "iopub.status.idle": "2023-09-01T16:51:26.594910Z",
          "shell.execute_reply": "2023-09-01T16:51:26.594502Z"
        },
        "papermill": {
          "duration": 0.037589,
          "end_time": "2023-09-01T16:51:26.596245",
          "exception": false,
          "start_time": "2023-09-01T16:51:26.558656",
          "status": "completed"
        },
        "tags": []
      },
      "outputs": [],
      "source": [
        "model = coupler\n",
        "assert get_port_combinations(model) == ((\"in0\", \"out0\"), (\"in0\", \"out1\"), (\"in1\", \"out0\"), (\"in1\", \"out1\"))\n",
        "\n",
        "sdict_ = coupler()\n",
        "assert get_port_combinations(sdict_) == ((\"in0\", \"out0\"), (\"in0\", \"out1\"), (\"in1\", \"out0\"), (\"in1\", \"out1\"))\n",
        "\n",
        "from sax.typing_ import scoo\n",
        "scoo_ = scoo(sdict_)\n",
        "assert get_port_combinations(scoo_) == ((\"in0\", \"out0\"), (\"in0\", \"out1\"), (\"in1\", \"out0\"), (\"in1\", \"out1\"))\n",
        "\n",
        "from sax.typing_ import sdense\n",
        "sdense_ = sdense(sdict_)\n",
        "assert get_port_combinations(sdense_) == ((\"in0\", \"in0\"), (\"in0\", \"in1\"), (\"in0\", \"out0\"), (\"in0\", \"out1\"), \n",
        "    (\"in1\", \"in0\"), (\"in1\", \"in1\"), (\"in1\", \"out0\"), (\"in1\", \"out1\"), (\"out0\", \"in0\"),  (\"out0\", \"in1\"), \n",
        "    (\"out0\", \"out0\"), (\"out0\", \"out1\"), (\"out1\", \"in0\"), (\"out1\", \"in1\"), (\"out1\", \"out0\"), (\"out1\", \"out1\"))"
      ]
    },
    {
      "cell_type": "markdown",
      "id": "4564db87bd4fc38c",
      "metadata": {},
      "source": [
        ":::{eval-rst}\n",
        ".. autofunction:: sax.utils.get_settings\n",
        ":::\n"
      ]
    },
    {
      "cell_type": "code",
      "execution_count": 19,
      "id": "e377225f3fe56c15",
      "metadata": {
        "execution": {
          "iopub.execute_input": "2023-09-01T16:51:26.612021Z",
          "iopub.status.busy": "2023-09-01T16:51:26.611620Z",
          "iopub.status.idle": "2023-09-01T16:51:26.615089Z",
          "shell.execute_reply": "2023-09-01T16:51:26.614676Z"
        },
        "papermill": {
          "duration": 0.012713,
          "end_time": "2023-09-01T16:51:26.616253",
          "exception": false,
          "start_time": "2023-09-01T16:51:26.603540",
          "status": "completed"
        },
        "tags": [
          "hide-input"
        ]
      },
      "outputs": [],
      "source": [
        "def get_settings(model: Union[Model, ModelFactory]) -> Settings:\n",
        "    \"\"\"Get the parameters of a SAX model function\"\"\"\n",
        "    \n",
        "    signature = inspect.signature(model)\n",
        "\n",
        "    settings: Settings = {\n",
        "        k: (v.default if not isinstance(v, dict) else v)\n",
        "        for k, v in signature.parameters.items()\n",
        "        if v.default is not inspect.Parameter.empty\n",
        "    }\n",
        "\n",
        "    # make sure an inplace operation of resulting dict does not change the\n",
        "    # circuit parameters themselves\n",
        "    return copy_settings(settings)"
      ]
    },
    {
      "cell_type": "code",
      "execution_count": 20,
      "id": "2deefdc8",
      "metadata": {
        "execution": {
          "iopub.execute_input": "2023-09-01T16:51:26.631467Z",
          "iopub.status.busy": "2023-09-01T16:51:26.631105Z",
          "iopub.status.idle": "2023-09-01T16:51:26.634098Z",
          "shell.execute_reply": "2023-09-01T16:51:26.633717Z"
        },
        "papermill": {
          "duration": 0.011895,
          "end_time": "2023-09-01T16:51:26.635298",
          "exception": false,
          "start_time": "2023-09-01T16:51:26.623403",
          "status": "completed"
        },
        "tags": []
      },
      "outputs": [],
      "source": [
        "assert get_settings(coupler) == {'coupling': 0.5}"
      ]
    },
    {
      "cell_type": "markdown",
      "id": "a7d1bbb8e4ea4755",
      "metadata": {},
      "source": [
        ":::{eval-rst}\n",
        ".. autofunction:: sax.utils.grouped_interp\n",
        ":::\n"
      ]
    },
    {
      "cell_type": "code",
      "execution_count": 21,
      "id": "8894029807e5416d",
      "metadata": {
        "execution": {
          "iopub.execute_input": "2023-09-01T16:51:26.650690Z",
          "iopub.status.busy": "2023-09-01T16:51:26.650472Z",
          "iopub.status.idle": "2023-09-01T16:51:26.658566Z",
          "shell.execute_reply": "2023-09-01T16:51:26.658139Z"
        },
        "papermill": {
          "duration": 0.017279,
          "end_time": "2023-09-01T16:51:26.659709",
          "exception": false,
          "start_time": "2023-09-01T16:51:26.642430",
          "status": "completed"
        },
        "tags": [
          "hide-input"
        ]
      },
      "outputs": [],
      "source": [
        "def grouped_interp(wl: Float, wls: Float, phis: Float) -> Float:\n",
        "    \"\"\"Grouped phase interpolation\"\"\"\n",
        "    if not JAX_AVAILABLE:\n",
        "        raise NotImplementedError(\"[NO JAX] grouped_interp function not implemented when JAX not available. Please install JAX.\")\n",
        "        \n",
        "    @partial(jax.vmap, in_axes=(0, None, None), out_axes=0)\n",
        "    @jax.jit\n",
        "    def _grouped_interp(\n",
        "        wl: Array,  # 0D array (not-vmapped) ; 1D array (vmapped)\n",
        "        wls: Array,  # 1D array\n",
        "        phis: Array,  # 1D array\n",
        "    ) -> Array:\n",
        "        dphi_dwl = (phis[1::2] - phis[::2]) / (wls[1::2] - wls[::2])\n",
        "        phis = phis[::2]\n",
        "        wls = wls[::2]\n",
        "        dwl = (wls[1:] - wls[:-1]).mean(0, keepdims=True)\n",
        "\n",
        "        t = (wl - wls + 1e-5 * dwl) / dwl  # small offset to ensure no values are zero\n",
        "        t = jnp.where(jnp.abs(t) < 1, t, 0)\n",
        "        m0 = jnp.where(t > 0, size=1)[0]\n",
        "        m1 = jnp.where(t < 0, size=1)[0]\n",
        "        t = t[m0]\n",
        "        wl0 = wls[m0]\n",
        "        wl1 = wls[m1]\n",
        "        phi0 = phis[m0]\n",
        "        phi1 = phis[m1]\n",
        "        dphi_dwl0 = dphi_dwl[m0]\n",
        "        dphi_dwl1 = dphi_dwl[m1]\n",
        "        _phi0 = phi0 - 0.5 * (wl1 - wl0) * (\n",
        "            dphi_dwl0 * (t ** 2 - 2 * t) - dphi_dwl1 * t ** 2\n",
        "        )\n",
        "        _phi1 = phi1 - 0.5 * (wl1 - wl0) * (\n",
        "            dphi_dwl0 * (t - 1) ** 2 - dphi_dwl1 * (t ** 2 - 1)\n",
        "        )\n",
        "        phis = jnp.arctan2(\n",
        "            (1 - t) * jnp.sin(_phi0) + t * jnp.sin(_phi1),\n",
        "            (1 - t) * jnp.cos(_phi0) + t * jnp.cos(_phi1),\n",
        "        )\n",
        "        return phis\n",
        "        \n",
        "    wl = cast(Array, jnp.asarray(wl))\n",
        "    wls = cast(Array, jnp.asarray(wls))\n",
        "    # make sure values between -pi and pi\n",
        "    phis = cast(Array, jnp.asarray(phis)) % (2 * jnp.pi)\n",
        "    phis = jnp.where(phis > jnp.pi, phis - 2 * jnp.pi, phis)  \n",
        "    if not wls.ndim == 1:\n",
        "        raise ValueError(\"grouped_interp: wls should be a 1D array\")\n",
        "    if not phis.ndim == 1:\n",
        "        raise ValueError(\"grouped_interp: wls should be a 1D array\")\n",
        "    if not wls.shape == phis.shape:\n",
        "        raise ValueError(\"grouped_interp: wls and phis shape does not match\")\n",
        "    return _grouped_interp(wl.reshape(-1), wls, phis).reshape(*wl.shape)"
      ]
    },
    {
      "cell_type": "markdown",
      "id": "79a7f1a8",
      "metadata": {
        "papermill": {
          "duration": 0.007273,
          "end_time": "2023-09-01T16:51:26.674377",
          "exception": false,
          "start_time": "2023-09-01T16:51:26.667104",
          "status": "completed"
        },
        "tags": []
      },
      "source": [
        "Grouped interpolation is useful to interpolate phase values where each datapoint is doubled (very close together) to give an indication of the phase variation at that point.\n",
        "\n",
        "> Note: this interpolation is only accurate in the range `[wls[0], wls[-2])` (`wls[-2]` not included). Any extrapolation outside these bounds can yield unexpected results!"
      ]
    },
    {
      "cell_type": "code",
      "execution_count": 22,
      "id": "5044fd1c2fc68cbc",
      "metadata": {
        "execution": {
          "iopub.execute_input": "2023-09-01T16:51:26.690223Z",
          "iopub.status.busy": "2023-09-01T16:51:26.689776Z",
          "iopub.status.idle": "2023-09-01T16:51:27.150351Z",
          "shell.execute_reply": "2023-09-01T16:51:27.149893Z"
        },
        "papermill": {
          "duration": 0.470316,
          "end_time": "2023-09-01T16:51:27.151894",
          "exception": false,
          "start_time": "2023-09-01T16:51:26.681578",
          "status": "completed"
        },
        "tags": [
          "remove-cell"
        ]
      },
      "outputs": [],
      "source": [
        "\n",
        "if JAX_AVAILABLE:\n",
        "    wls = jnp.array([2.19999, 2.20001, 2.22499, 2.22501, 2.24999, 2.25001, 2.27499, 2.27501, 2.29999, 2.30001, 2.32499, 2.32501, 2.34999, 2.35001, 2.37499, 2.37501, 2.39999, 2.40001, 2.42499, 2.42501, 2.44999, 2.45001])\n",
        "    phis = jnp.array([5.17317336, 5.1219654, 4.71259842, 4.66252492, 5.65699608, 5.60817922, 2.03697377, 1.98936119, 6.010146, 5.96358061, 4.96336733, 4.91777933, 5.13912198, 5.09451137, 0.22347545, 0.17979684, 2.74501894, 2.70224092, 0.10403192, 0.06214664, 4.83328794, 4.79225525])\n",
        "    wl = jnp.array([2.21, 2.27, 1.31, 2.424])\n",
        "    phi = jnp.array(grouped_interp(wl, wls, phis))\n",
        "    phi_ref = jnp.array([-1.4901831,  1.3595749, -1.110012 ,  2.1775336])\n",
        "\n",
        "    assert ((phi-phi_ref)**2 < 1e-5).all()"
      ]
    },
    {
      "cell_type": "markdown",
      "id": "ad7ec9d1",
      "metadata": {
        "papermill": {
          "duration": 0.007306,
          "end_time": "2023-09-01T16:51:27.166692",
          "exception": false,
          "start_time": "2023-09-01T16:51:27.159386",
          "status": "completed"
        },
        "tags": []
      },
      "source": [
        "> Example"
      ]
    },
    {
      "cell_type": "code",
      "execution_count": 23,
      "id": "03b7a938",
      "metadata": {
        "execution": {
          "iopub.execute_input": "2023-09-01T16:51:27.183143Z",
          "iopub.status.busy": "2023-09-01T16:51:27.182913Z",
          "iopub.status.idle": "2023-09-01T16:51:28.374778Z",
          "shell.execute_reply": "2023-09-01T16:51:28.373686Z"
        },
        "papermill": {
          "duration": 1.202398,
          "end_time": "2023-09-01T16:51:28.376483",
          "exception": false,
          "start_time": "2023-09-01T16:51:27.174085",
          "status": "completed"
        },
        "tags": []
      },
      "outputs": [
        {
          "data": {
            "image/png": "[encoded data removed]",
            "text/plain": [
              "<Figure size 1400x600 with 2 Axes>"
            ]
          },
          "metadata": {},
          "output_type": "display_data"
        }
      ],
      "source": [
        "if JAX_AVAILABLE:\n",
        "    wl = jnp.linspace(wls.min(), wls.max(), 10000)\n",
        "\n",
        "    _, ax = plt.subplots(2, 1, sharex=True, figsize=(14, 6))\n",
        "    plt.sca(ax[0])\n",
        "    plt.plot(1e3*wls, jnp.arange(wls.shape[0]), marker=\"o\", ls=\"none\")\n",
        "    plt.grid(True)\n",
        "    plt.ylabel(\"index\")\n",
        "    plt.sca(ax[1])\n",
        "    plt.grid(True)\n",
        "    plt.plot(1e3*wls, phis, marker=\"o\", c=\"C1\")\n",
        "    plt.plot(1e3*wl, grouped_interp(wl, wls, phis), c=\"C2\")\n",
        "    plt.xlabel(\"\u03bb [nm]\")\n",
        "    plt.ylabel(\"\u03c6\")\n",
        "    plt.show()"
      ]
    },
    {
      "cell_type": "markdown",
      "id": "3f536ab83c6d1b8d",
      "metadata": {},
      "source": [
        ":::{eval-rst}\n",
        ".. autofunction:: sax.utils.merge_dicts\n",
        ":::\n"
      ]
    },
    {
      "cell_type": "code",
      "execution_count": 24,
      "id": "d95b1bebe50c42f1",
      "metadata": {
        "execution": {
          "iopub.execute_input": "2023-09-01T16:51:28.395805Z",
          "iopub.status.busy": "2023-09-01T16:51:28.395499Z",
          "iopub.status.idle": "2023-09-01T16:51:28.401308Z",
          "shell.execute_reply": "2023-09-01T16:51:28.400948Z"
        },
        "papermill": {
          "duration": 0.016445,
          "end_time": "2023-09-01T16:51:28.402384",
          "exception": false,
          "start_time": "2023-09-01T16:51:28.385939",
          "status": "completed"
        },
        "tags": [
          "hide-input"
        ]
      },
      "outputs": [],
      "source": [
        "def merge_dicts(*dicts: Dict) -> Dict:\n",
        "    \"\"\"merge (possibly deeply nested) dictionaries\"\"\"\n",
        "    if len(dicts) == 1:\n",
        "        return dict(_generate_merged_dict(dicts[0], {}))\n",
        "    elif len(dicts) == 2:\n",
        "        return dict(_generate_merged_dict(dicts[0], dicts[1]))\n",
        "    else:\n",
        "        return merge_dicts(dicts[0], merge_dicts(*dicts[1:]))\n",
        "    \n",
        "\n",
        "def _generate_merged_dict(dict1: Dict, dict2: Dict) -> Iterator[Tuple[Any, Any]]:\n",
        "    # inspired by https://stackoverflow.com/questions/7204805/how-to-merge-dictionaries-of-dictionaries\n",
        "    keys = {**{k: None for k in dict1}, **{k: None for k in dict2}} # keep key order, values irrelevant\n",
        "    for k in keys:\n",
        "        if k in dict1 and k in dict2:\n",
        "            v1, v2 = dict1[k], dict2[k]\n",
        "            if isinstance(v1, dict) and isinstance(v2, dict):\n",
        "                v = dict(_generate_merged_dict(v1, v2))\n",
        "            else:\n",
        "                # If one of the values is not a dict, you can't continue merging it.\n",
        "                # Value from second dict overrides one in first and we move on.\n",
        "                v = v2\n",
        "        elif k in dict1:\n",
        "            v = dict1[k]\n",
        "        else: # k in dict2:\n",
        "            v = dict2[k]\n",
        "        \n",
        "        if isinstance(v, dict):\n",
        "            yield (k, {**v}) # shallow copy of dict\n",
        "        else:\n",
        "            yield (k, v)"
      ]
    },
    {
      "cell_type": "code",
      "execution_count": 25,
      "id": "27cf74d7",
      "metadata": {
        "execution": {
          "iopub.execute_input": "2023-09-01T16:51:28.421270Z",
          "iopub.status.busy": "2023-09-01T16:51:28.420306Z",
          "iopub.status.idle": "2023-09-01T16:51:28.424941Z",
          "shell.execute_reply": "2023-09-01T16:51:28.424617Z"
        },
        "papermill": {
          "duration": 0.014959,
          "end_time": "2023-09-01T16:51:28.426000",
          "exception": false,
          "start_time": "2023-09-01T16:51:28.411041",
          "status": "completed"
        },
        "tags": []
      },
      "outputs": [],
      "source": [
        "d = merge_dicts({\"a\": 3}, {\"b\": 4})\n",
        "assert d[\"a\"] == 3\n",
        "assert d[\"b\"] == 4\n",
        "assert tuple(sorted(d)) == (\"a\", \"b\")\n",
        "\n",
        "d = merge_dicts({\"a\": 3}, {\"a\": 4})\n",
        "assert d[\"a\"] == 4\n",
        "assert tuple(d) == (\"a\",)\n",
        "\n",
        "d = merge_dicts({\"a\": 3}, {\"a\": {\"b\": 5}})\n",
        "assert d[\"a\"][\"b\"] == 5\n",
        "assert tuple(d) == (\"a\",)\n",
        "\n",
        "d = merge_dicts({\"a\": {\"b\": 5}}, {\"a\": 3})\n",
        "assert d[\"a\"] == 3\n",
        "assert tuple(d) == (\"a\",)"
      ]
    },
    {
      "cell_type": "markdown",
      "id": "60a5537883fccdcb",
      "metadata": {},
      "source": [
        ":::{eval-rst}\n",
        ".. autofunction:: sax.utils.mode_combinations\n",
        ":::\n"
      ]
    },
    {
      "cell_type": "code",
      "execution_count": 26,
      "id": "12d8f8042a1f6b12",
      "metadata": {
        "execution": {
          "iopub.execute_input": "2023-09-01T16:51:28.444655Z",
          "iopub.status.busy": "2023-09-01T16:51:28.444296Z",
          "iopub.status.idle": "2023-09-01T16:51:28.447820Z",
          "shell.execute_reply": "2023-09-01T16:51:28.447491Z"
        },
        "papermill": {
          "duration": 0.014116,
          "end_time": "2023-09-01T16:51:28.448843",
          "exception": false,
          "start_time": "2023-09-01T16:51:28.434727",
          "status": "completed"
        },
        "tags": [
          "hide-input"
        ]
      },
      "outputs": [],
      "source": [
        "\n",
        "def mode_combinations(\n",
        "    modes: Iterable[str], cross: bool = False\n",
        ") -> Tuple[Tuple[str, str], ...]:\n",
        "    \"\"\"create mode combinations for a collection of given modes\"\"\"\n",
        "    if cross:\n",
        "        mode_combinations = natsorted((m1, m2) for m1 in modes for m2 in modes)\n",
        "    else:\n",
        "        mode_combinations = natsorted((m, m) for m in modes)\n",
        "    return tuple(mode_combinations)"
      ]
    },
    {
      "cell_type": "code",
      "execution_count": 27,
      "id": "5010a982",
      "metadata": {
        "execution": {
          "iopub.execute_input": "2023-09-01T16:51:28.467814Z",
          "iopub.status.busy": "2023-09-01T16:51:28.466820Z",
          "iopub.status.idle": "2023-09-01T16:51:28.470766Z",
          "shell.execute_reply": "2023-09-01T16:51:28.470415Z"
        },
        "papermill": {
          "duration": 0.014314,
          "end_time": "2023-09-01T16:51:28.471822",
          "exception": false,
          "start_time": "2023-09-01T16:51:28.457508",
          "status": "completed"
        },
        "tags": []
      },
      "outputs": [],
      "source": [
        "assert mode_combinations(modes=[\"te\", \"tm\"]) == (('te', 'te'), ('tm', 'tm'))\n",
        "assert mode_combinations(modes=[\"te\", \"tm\"], cross=True) == (('te', 'te'), ('te', 'tm'), ('tm', 'te'), ('tm', 'tm'))"
      ]
    },
    {
      "cell_type": "markdown",
      "id": "ed7e2715b603dd87",
      "metadata": {},
      "source": [
        ":::{eval-rst}\n",
        ".. autofunction:: sax.utils.reciprocal\n",
        ":::\n"
      ]
    },
    {
      "cell_type": "code",
      "execution_count": 28,
      "id": "16455e09e79e986b",
      "metadata": {
        "execution": {
          "iopub.execute_input": "2023-09-01T16:51:28.490816Z",
          "iopub.status.busy": "2023-09-01T16:51:28.490155Z",
          "iopub.status.idle": "2023-09-01T16:51:28.493850Z",
          "shell.execute_reply": "2023-09-01T16:51:28.493516Z"
        },
        "papermill": {
          "duration": 0.014366,
          "end_time": "2023-09-01T16:51:28.494904",
          "exception": false,
          "start_time": "2023-09-01T16:51:28.480538",
          "status": "completed"
        },
        "tags": [
          "hide-input"
        ]
      },
      "outputs": [],
      "source": [
        "def reciprocal(sdict: SDict) -> SDict:\n",
        "    \"\"\"Make an SDict reciprocal\"\"\"\n",
        "    if is_sdict(sdict):\n",
        "        return {\n",
        "            **{(p1, p2): v for (p1, p2), v in sdict.items()},\n",
        "            **{(p2, p1): v for (p1, p2), v in sdict.items()},\n",
        "        }\n",
        "    else:\n",
        "        raise ValueError(\"sax.reciprocal is only valid for SDict types\")"
      ]
    },
    {
      "cell_type": "code",
      "execution_count": 29,
      "id": "30a304a7",
      "metadata": {
        "execution": {
          "iopub.execute_input": "2023-09-01T16:51:28.514080Z",
          "iopub.status.busy": "2023-09-01T16:51:28.513304Z",
          "iopub.status.idle": "2023-09-01T16:51:28.516440Z",
          "shell.execute_reply": "2023-09-01T16:51:28.516123Z"
        },
        "papermill": {
          "duration": 0.013752,
          "end_time": "2023-09-01T16:51:28.517479",
          "exception": false,
          "start_time": "2023-09-01T16:51:28.503727",
          "status": "completed"
        },
        "tags": []
      },
      "outputs": [],
      "source": [
        "sdict_ = {(\"in0\", \"out0\"): 1.0}\n",
        "assert reciprocal(sdict_) == {(\"in0\", \"out0\"): 1.0, (\"out0\", \"in0\"): 1.0}"
      ]
    },
    {
      "cell_type": "code",
      "execution_count": 30,
      "id": "9290801c81fe28e3",
      "metadata": {
        "execution": {
          "iopub.execute_input": "2023-09-01T16:51:28.536069Z",
          "iopub.status.busy": "2023-09-01T16:51:28.535583Z",
          "iopub.status.idle": "2023-09-01T16:51:28.538764Z",
          "shell.execute_reply": "2023-09-01T16:51:28.538345Z"
        },
        "papermill": {
          "duration": 0.013723,
          "end_time": "2023-09-01T16:51:28.539920",
          "exception": false,
          "start_time": "2023-09-01T16:51:28.526197",
          "status": "completed"
        },
        "tags": [
          "remove-cell"
        ]
      },
      "outputs": [],
      "source": [
        "\n",
        "@overload\n",
        "def rename_params(model: ModelFactory, renamings: Dict[str, str]) -> ModelFactory:\n",
        "    ...\n",
        "\n",
        "\n",
        "@overload\n",
        "def rename_params(model: Model, renamings: Dict[str, str]) -> Model:\n",
        "    ..."
      ]
    },
    {
      "cell_type": "markdown",
      "id": "9f9349cf9ae6f668",
      "metadata": {},
      "source": [
        ":::{eval-rst}\n",
        ".. autofunction:: sax.utils.rename_params\n",
        ":::\n"
      ]
    },
    {
      "cell_type": "code",
      "execution_count": 31,
      "id": "2db5632061265368",
      "metadata": {
        "execution": {
          "iopub.execute_input": "2023-09-01T16:51:28.558543Z",
          "iopub.status.busy": "2023-09-01T16:51:28.558362Z",
          "iopub.status.idle": "2023-09-01T16:51:28.565436Z",
          "shell.execute_reply": "2023-09-01T16:51:28.565031Z"
        },
        "papermill": {
          "duration": 0.017863,
          "end_time": "2023-09-01T16:51:28.566566",
          "exception": false,
          "start_time": "2023-09-01T16:51:28.548703",
          "status": "completed"
        },
        "tags": [
          "hide-input"
        ]
      },
      "outputs": [],
      "source": [
        "def rename_params(\n",
        "    model: Union[Model, ModelFactory], renamings: Dict[str, str]\n",
        ") -> Union[Model, ModelFactory]:\n",
        "    \"\"\"rename the parameters of a `Model` or `ModelFactory` given a renamings mapping old parameter names to new.\"\"\"\n",
        "    \n",
        "    reversed_renamings = {v: k for k, v in renamings.items()}\n",
        "    if len(reversed_renamings) < len(renamings):\n",
        "        raise ValueError(\"Multiple old names point to the same new name!\")\n",
        "\n",
        "    if is_model_factory(model):\n",
        "        old_model_factory = cast(ModelFactory, model)\n",
        "        old_settings = get_settings(model)\n",
        "\n",
        "        @wraps(old_model_factory)\n",
        "        def new_model_factory(**settings):\n",
        "            old_settings = {\n",
        "                reversed_renamings.get(k, k): v for k, v in settings.items()\n",
        "            }\n",
        "            model = old_model_factory(**old_settings)\n",
        "            return rename_params(model, renamings)\n",
        "\n",
        "        new_settings = {renamings.get(k, k): v for k, v in old_settings.items()}\n",
        "        _replace_kwargs(new_model_factory, **new_settings)\n",
        "\n",
        "        return new_model_factory\n",
        "\n",
        "    elif is_model(model):\n",
        "        old_model = cast(Model, model)\n",
        "        old_settings = get_settings(model)\n",
        "\n",
        "        @wraps(old_model)\n",
        "        def new_model(**settings):\n",
        "            old_settings = {\n",
        "                reversed_renamings.get(k, k): v for k, v in settings.items()\n",
        "            }\n",
        "            return old_model(**old_settings)\n",
        "\n",
        "        new_settings = {renamings.get(k, k): v for k, v in old_settings.items()}\n",
        "        _replace_kwargs(new_model, **new_settings)\n",
        "\n",
        "        return new_model\n",
        "\n",
        "    else:\n",
        "        raise ValueError(\n",
        "            \"rename_params should be used to decorate a Model or ModelFactory.\"\n",
        "        )\n",
        "        \n",
        "def _replace_kwargs(func: Callable, **kwargs: ComplexFloat):\n",
        "    \"\"\"Change the kwargs signature of a function\"\"\"\n",
        "    sig = inspect.signature(func)\n",
        "    settings = [\n",
        "        inspect.Parameter(k, inspect.Parameter.KEYWORD_ONLY, default=v)\n",
        "        for k, v in kwargs.items()\n",
        "    ]\n",
        "    func.__signature__ = sig.replace(parameters=settings)"
      ]
    },
    {
      "cell_type": "code",
      "execution_count": 32,
      "id": "7b041b23",
      "metadata": {
        "execution": {
          "iopub.execute_input": "2023-09-01T16:51:28.585374Z",
          "iopub.status.busy": "2023-09-01T16:51:28.584915Z",
          "iopub.status.idle": "2023-09-01T16:51:28.631075Z",
          "shell.execute_reply": "2023-09-01T16:51:28.630625Z"
        },
        "papermill": {
          "duration": 0.057479,
          "end_time": "2023-09-01T16:51:28.632769",
          "exception": false,
          "start_time": "2023-09-01T16:51:28.575290",
          "status": "completed"
        },
        "tags": []
      },
      "outputs": [],
      "source": [
        "def model(x=jnp.array(3.0), y=jnp.array(4.0), z=jnp.array([3.0, 4.0])) -> SDict:\n",
        "    return {(\"in0\", \"out0\"): jnp.array(3.0)}\n",
        "\n",
        "renamings = {\"x\": \"a\", \"y\": \"z\", \"z\": \"y\"}\n",
        "new_model = rename_params(model, renamings)\n",
        "settings = get_settings(new_model)\n",
        "assert settings[\"a\"] == 3.0\n",
        "assert settings[\"z\"] == 4.0\n",
        "assert jnp.all(settings[\"y\"] == jnp.array([3.0, 4.0]))"
      ]
    },
    {
      "cell_type": "code",
      "execution_count": 33,
      "id": "2f7c63a27d05dccd",
      "metadata": {
        "execution": {
          "iopub.execute_input": "2023-09-01T16:51:28.651665Z",
          "iopub.status.busy": "2023-09-01T16:51:28.651449Z",
          "iopub.status.idle": "2023-09-01T16:51:28.656392Z",
          "shell.execute_reply": "2023-09-01T16:51:28.655981Z"
        },
        "papermill": {
          "duration": 0.015791,
          "end_time": "2023-09-01T16:51:28.657583",
          "exception": false,
          "start_time": "2023-09-01T16:51:28.641792",
          "status": "completed"
        },
        "tags": [
          "remove-cell"
        ]
      },
      "outputs": [],
      "source": [
        "\n",
        "@overload\n",
        "def rename_ports(S: SDict, renamings: Dict[str, str]) -> SDict:\n",
        "    ...\n",
        "\n",
        "\n",
        "@overload\n",
        "def rename_ports(S: SCoo, renamings: Dict[str, str]) -> SCoo:\n",
        "    ...\n",
        "\n",
        "\n",
        "@overload\n",
        "def rename_ports(S: SDense, renamings: Dict[str, str]) -> SDense:\n",
        "    ...\n",
        "\n",
        "\n",
        "@overload\n",
        "def rename_ports(S: Model, renamings: Dict[str, str]) -> Model:\n",
        "    ...\n",
        "\n",
        "\n",
        "@overload\n",
        "def rename_ports(S: ModelFactory, renamings: Dict[str, str]) -> ModelFactory:\n",
        "    ..."
      ]
    },
    {
      "cell_type": "markdown",
      "id": "ae13fc54baf8c5f6",
      "metadata": {},
      "source": [
        ":::{eval-rst}\n",
        ".. autofunction:: sax.utils.rename_ports\n",
        ":::\n"
      ]
    },
    {
      "cell_type": "code",
      "execution_count": 34,
      "id": "56b27f5947d94e73",
      "metadata": {
        "execution": {
          "iopub.execute_input": "2023-09-01T16:51:28.676952Z",
          "iopub.status.busy": "2023-09-01T16:51:28.676669Z",
          "iopub.status.idle": "2023-09-01T16:51:28.684393Z",
          "shell.execute_reply": "2023-09-01T16:51:28.684027Z"
        },
        "papermill": {
          "duration": 0.019136,
          "end_time": "2023-09-01T16:51:28.685665",
          "exception": false,
          "start_time": "2023-09-01T16:51:28.666529",
          "status": "completed"
        },
        "tags": [
          "hide-input"
        ]
      },
      "outputs": [],
      "source": [
        "\n",
        "def rename_ports(\n",
        "    S: Union[SType, Model, ModelFactory], renamings: Dict[str, str]\n",
        ") -> Union[SType, Model, ModelFactory]:\n",
        "    \"\"\"rename the ports of an `SDict`, `Model` or `ModelFactory` given a renamings mapping old port names to new.\"\"\"\n",
        "    if is_scoo(S):\n",
        "        Si, Sj, Sx, ports_map = cast(SCoo, S)\n",
        "        ports_map = {renamings[p]: i for p, i in ports_map.items()}\n",
        "        return Si, Sj, Sx, ports_map\n",
        "    elif is_sdense(S):\n",
        "        Sx, ports_map = cast(SDense, S)\n",
        "        ports_map = {renamings[p]: i for p, i in ports_map.items()}\n",
        "        return Sx, ports_map\n",
        "    elif is_sdict(S):\n",
        "        sdict = cast(SDict, S)\n",
        "        original_ports = get_ports(sdict)\n",
        "        assert len(renamings) == len(original_ports)\n",
        "        return {(renamings[p1], renamings[p2]): v for (p1, p2), v in sdict.items()}\n",
        "    elif is_model(S):\n",
        "        old_model = cast(Model, S)\n",
        "\n",
        "        @wraps(old_model)\n",
        "        def new_model(**settings) -> SType:\n",
        "            return rename_ports(old_model(**settings), renamings)\n",
        "\n",
        "        return new_model\n",
        "    elif is_model_factory(S):\n",
        "        old_model_factory = cast(ModelFactory, S)\n",
        "\n",
        "        @wraps(old_model_factory)\n",
        "        def new_model_factory(**settings) -> Callable[..., SType]:\n",
        "            return rename_ports(old_model_factory(**settings), renamings)\n",
        "\n",
        "        return new_model_factory\n",
        "    else:\n",
        "        raise ValueError(\"Cannot rename ports for type {type(S)}\")"
      ]
    },
    {
      "cell_type": "code",
      "execution_count": 35,
      "id": "dd9c42ac",
      "metadata": {
        "execution": {
          "iopub.execute_input": "2023-09-01T16:51:28.704390Z",
          "iopub.status.busy": "2023-09-01T16:51:28.704064Z",
          "iopub.status.idle": "2023-09-01T16:51:28.785042Z",
          "shell.execute_reply": "2023-09-01T16:51:28.784612Z"
        },
        "papermill": {
          "duration": 0.092062,
          "end_time": "2023-09-01T16:51:28.786543",
          "exception": false,
          "start_time": "2023-09-01T16:51:28.694481",
          "status": "completed"
        },
        "tags": []
      },
      "outputs": [],
      "source": [
        "d = reciprocal({(\"p0\", \"p1\"): 0.1, (\"p1\", \"p2\"): 0.2})\n",
        "origports = get_ports(d)\n",
        "renamings = {\"p0\": \"in0\", \"p1\": \"out0\", \"p2\": \"in1\"}\n",
        "d_ = rename_ports(d, renamings)\n",
        "assert tuple(sorted(get_ports(d_))) == tuple(sorted(renamings[p] for p in origports))\n",
        "d_ = rename_ports(scoo(d), renamings)\n",
        "assert tuple(sorted(get_ports(d_))) == tuple(sorted(renamings[p] for p in origports))\n",
        "d_ = rename_ports(sdense(d), renamings)\n",
        "assert tuple(sorted(get_ports(d_))) == tuple(sorted(renamings[p] for p in origports))"
      ]
    },
    {
      "cell_type": "markdown",
      "id": "8b903cfe14a3f705",
      "metadata": {},
      "source": [
        ":::{eval-rst}\n",
        ".. autofunction:: sax.utils.update_settings\n",
        ":::\n"
      ]
    },
    {
      "cell_type": "code",
      "execution_count": 36,
      "id": "9de82d69592f86fd",
      "metadata": {
        "execution": {
          "iopub.execute_input": "2023-09-01T16:51:28.806112Z",
          "iopub.status.busy": "2023-09-01T16:51:28.805692Z",
          "iopub.status.idle": "2023-09-01T16:51:28.810308Z",
          "shell.execute_reply": "2023-09-01T16:51:28.809969Z"
        },
        "papermill": {
          "duration": 0.015624,
          "end_time": "2023-09-01T16:51:28.811383",
          "exception": false,
          "start_time": "2023-09-01T16:51:28.795759",
          "status": "completed"
        },
        "tags": [
          "hide-input"
        ]
      },
      "outputs": [],
      "source": [
        "\n",
        "def update_settings(\n",
        "    settings: Settings, *compnames: str, **kwargs: ComplexFloat\n",
        ") -> Settings:\n",
        "    \"\"\"update a nested settings dictionary\"\"\"\n",
        "    _settings = {}\n",
        "    if not compnames:\n",
        "        for k, v in settings.items():\n",
        "            if isinstance(v, dict):\n",
        "                _settings[k] = update_settings(v, **kwargs)\n",
        "            else:\n",
        "                if k in kwargs:\n",
        "                    _settings[k] = try_float(kwargs[k])\n",
        "                else:\n",
        "                    _settings[k] = try_float(v)\n",
        "    else:\n",
        "        for k, v in settings.items():\n",
        "            if isinstance(v, dict):\n",
        "                if k == compnames[0]:\n",
        "                    _settings[k] = update_settings(v, *compnames[1:], **kwargs)\n",
        "                else:\n",
        "                    _settings[k] = v\n",
        "            else:\n",
        "                _settings[k] = try_float(v)\n",
        "    return _settings"
      ]
    },
    {
      "cell_type": "markdown",
      "id": "78e2388a",
      "metadata": {
        "papermill": {
          "duration": 0.009316,
          "end_time": "2023-09-01T16:51:28.829767",
          "exception": false,
          "start_time": "2023-09-01T16:51:28.820451",
          "status": "completed"
        },
        "tags": []
      },
      "source": [
        "> Note: (1) Even though it's possible to update parameter dictionaries in place, this function is convenient to apply certain parameters (e.g. wavelength 'wl' or temperature 'T') globally. (2) This operation never updates the given settings dictionary inplace. (3) Any non-float keyword arguments will be silently ignored."
      ]
    },
    {
      "cell_type": "markdown",
      "id": "a7642618",
      "metadata": {
        "papermill": {
          "duration": 0.008886,
          "end_time": "2023-09-01T16:51:28.847624",
          "exception": false,
          "start_time": "2023-09-01T16:51:28.838738",
          "status": "completed"
        },
        "tags": []
      },
      "source": [
        "Assuming you have a settings dictionary for a `circuit` containing a directional coupler `\"dc\"` and a waveguide `\"wg\"`:"
      ]
    },
    {
      "cell_type": "code",
      "execution_count": 37,
      "id": "85293a23",
      "metadata": {
        "execution": {
          "iopub.execute_input": "2023-09-01T16:51:28.866756Z",
          "iopub.status.busy": "2023-09-01T16:51:28.866290Z",
          "iopub.status.idle": "2023-09-01T16:51:28.869187Z",
          "shell.execute_reply": "2023-09-01T16:51:28.868765Z"
        },
        "papermill": {
          "duration": 0.013795,
          "end_time": "2023-09-01T16:51:28.870295",
          "exception": false,
          "start_time": "2023-09-01T16:51:28.856500",
          "status": "completed"
        },
        "tags": []
      },
      "outputs": [],
      "source": [
        "settings = {\"wl\": 1.55, \"dc\": {\"coupling\": 0.5}, \"wg\": {\"wl\": 1.56, \"neff\": 2.33}}"
      ]
    },
    {
      "cell_type": "markdown",
      "id": "68c1cd3b",
      "metadata": {
        "papermill": {
          "duration": 0.008832,
          "end_time": "2023-09-01T16:51:28.888089",
          "exception": false,
          "start_time": "2023-09-01T16:51:28.879257",
          "status": "completed"
        },
        "tags": []
      },
      "source": [
        "You can update this settings dictionary with some global settings as follows. When updating settings globally like this, each subdictionary of the settings dictionary will be updated with these values (if the key exists in the subdictionary):"
      ]
    },
    {
      "cell_type": "code",
      "execution_count": 38,
      "id": "4a1aaf3c",
      "metadata": {
        "execution": {
          "iopub.execute_input": "2023-09-01T16:51:28.907897Z",
          "iopub.status.busy": "2023-09-01T16:51:28.907324Z",
          "iopub.status.idle": "2023-09-01T16:51:28.912671Z",
          "shell.execute_reply": "2023-09-01T16:51:28.912292Z"
        },
        "papermill": {
          "duration": 0.016894,
          "end_time": "2023-09-01T16:51:28.913930",
          "exception": false,
          "start_time": "2023-09-01T16:51:28.897036",
          "status": "completed"
        },
        "tags": []
      },
      "outputs": [],
      "source": [
        "settings = update_settings(settings, wl=1.3, coupling=0.3, neff=3.0)\n",
        "assert settings == {\"wl\": 1.3, \"dc\": {\"coupling\": 0.3}, \"wg\": {\"wl\": 1.3, \"neff\": 3.0}}"
      ]
    },
    {
      "cell_type": "markdown",
      "id": "73737b1f",
      "metadata": {
        "papermill": {
          "duration": 0.008862,
          "end_time": "2023-09-01T16:51:28.931959",
          "exception": false,
          "start_time": "2023-09-01T16:51:28.923097",
          "status": "completed"
        },
        "tags": []
      },
      "source": [
        "Alternatively, you can set certain settings for a specific component (e.g. 'wg' in this case) as follows:"
      ]
    },
    {
      "cell_type": "code",
      "execution_count": 39,
      "id": "87c32103",
      "metadata": {
        "execution": {
          "iopub.execute_input": "2023-09-01T16:51:28.951421Z",
          "iopub.status.busy": "2023-09-01T16:51:28.950806Z",
          "iopub.status.idle": "2023-09-01T16:51:28.954833Z",
          "shell.execute_reply": "2023-09-01T16:51:28.954394Z"
        },
        "papermill": {
          "duration": 0.01515,
          "end_time": "2023-09-01T16:51:28.956035",
          "exception": false,
          "start_time": "2023-09-01T16:51:28.940885",
          "status": "completed"
        },
        "tags": []
      },
      "outputs": [],
      "source": [
        "settings = update_settings(settings, \"wg\", wl=2.0)\n",
        "assert settings == {\"wl\": 1.3, \"dc\": {\"coupling\": 0.3}, \"wg\": {\"wl\": 2.0, \"neff\": 3.0}}"
      ]
    },
    {
      "cell_type": "markdown",
      "id": "47d3b775",
      "metadata": {
        "papermill": {
          "duration": 0.009541,
          "end_time": "2023-09-01T16:51:28.975012",
          "exception": false,
          "start_time": "2023-09-01T16:51:28.965471",
          "status": "completed"
        },
        "tags": []
      },
      "source": [
        "note that only the `\"wl\"` belonging to `\"wg\"` has changed."
      ]
    },
    {
      "cell_type": "markdown",
      "id": "a569372d93fcccc7",
      "metadata": {},
      "source": [
        ":::{eval-rst}\n",
        ".. autofunction:: sax.utils.validate_not_mixedmode\n",
        ":::\n"
      ]
    },
    {
      "cell_type": "code",
      "execution_count": 40,
      "id": "43250dc88d680188",
      "metadata": {
        "execution": {
          "iopub.execute_input": "2023-09-01T16:51:28.994755Z",
          "iopub.status.busy": "2023-09-01T16:51:28.994209Z",
          "iopub.status.idle": "2023-09-01T16:51:28.997282Z",
          "shell.execute_reply": "2023-09-01T16:51:28.996945Z"
        },
        "papermill": {
          "duration": 0.014102,
          "end_time": "2023-09-01T16:51:28.998360",
          "exception": false,
          "start_time": "2023-09-01T16:51:28.984258",
          "status": "completed"
        },
        "tags": [
          "hide-input"
        ]
      },
      "outputs": [],
      "source": [
        "def validate_not_mixedmode(S: SType):\n",
        "    \"\"\"validate that an stype is not 'mixed mode' (i.e. invalid)\n",
        "\n",
        "    Args:\n",
        "        S: the stype to validate\n",
        "    \"\"\"\n",
        "\n",
        "    if is_mixedmode(S):  # mixed mode\n",
        "        raise ValueError(\n",
        "            \"Given SType is neither multimode or singlemode. Please check the port \"\n",
        "            \"names: they should either ALL contain the '@' separator (multimode) \"\n",
        "            \"or NONE should contain the '@' separator (singlemode).\"\n",
        "        )"
      ]
    },
    {
      "cell_type": "code",
      "execution_count": 41,
      "id": "b47e00d4",
      "metadata": {
        "execution": {
          "iopub.execute_input": "2023-09-01T16:51:29.017993Z",
          "iopub.status.busy": "2023-09-01T16:51:29.017623Z",
          "iopub.status.idle": "2023-09-01T16:51:29.022047Z",
          "shell.execute_reply": "2023-09-01T16:51:29.021598Z"
        },
        "papermill": {
          "duration": 0.015831,
          "end_time": "2023-09-01T16:51:29.023456",
          "exception": false,
          "start_time": "2023-09-01T16:51:29.007625",
          "status": "completed"
        },
        "tags": []
      },
      "outputs": [],
      "source": [
        "sdict = {(\"in0\", \"out0\"): 1.0, (\"out0\", \"in0\"): 1.0}\n",
        "validate_not_mixedmode(sdict)\n",
        "\n",
        "sdict = {(\"in0@te\", \"out0@te\"): 1.0, (\"out0@tm\", \"in0@tm\"): 1.0}\n",
        "validate_not_mixedmode(sdict)\n",
        "\n",
        "sdict = {(\"in0@te\", \"out0@te\"): 1.0, (\"out0\", \"in0@tm\"): 1.0}\n",
        "with raises(ValueError):\n",
        "    validate_not_mixedmode(sdict)"
      ]
    },
    {
      "cell_type": "markdown",
      "id": "da989249f3974d88",
      "metadata": {},
      "source": [
        ":::{eval-rst}\n",
        ".. autofunction:: sax.utils.validate_multimode\n",
        ":::\n"
      ]
    },
    {
      "cell_type": "code",
      "execution_count": 42,
      "id": "a61fa70c0421abc5",
      "metadata": {
        "execution": {
          "iopub.execute_input": "2023-09-01T16:51:29.043333Z",
          "iopub.status.busy": "2023-09-01T16:51:29.042907Z",
          "iopub.status.idle": "2023-09-01T16:51:29.046739Z",
          "shell.execute_reply": "2023-09-01T16:51:29.046292Z"
        },
        "papermill": {
          "duration": 0.015348,
          "end_time": "2023-09-01T16:51:29.047992",
          "exception": false,
          "start_time": "2023-09-01T16:51:29.032644",
          "status": "completed"
        },
        "tags": [
          "hide-input"
        ]
      },
      "outputs": [],
      "source": [
        "def validate_multimode(S: SType, modes=(\"te\", \"tm\")) -> None:\n",
        "    \"\"\"validate that an stype is multimode and that the given modes are present.\"\"\"\n",
        "    try:\n",
        "        current_modes = set(p.split(\"@\")[1] for p in get_ports(S))\n",
        "    except IndexError:\n",
        "        raise ValueError(\"The given stype is not multimode.\")\n",
        "    for mode in modes:\n",
        "        if mode not in current_modes:\n",
        "            raise ValueError(\n",
        "                f\"Could not find mode '{mode}' in one of the multimode models.\"\n",
        "            )"
      ]
    },
    {
      "cell_type": "code",
      "execution_count": 43,
      "id": "41fb0142",
      "metadata": {
        "execution": {
          "iopub.execute_input": "2023-09-01T16:51:29.069115Z",
          "iopub.status.busy": "2023-09-01T16:51:29.068536Z",
          "iopub.status.idle": "2023-09-01T16:51:29.072786Z",
          "shell.execute_reply": "2023-09-01T16:51:29.072453Z"
        },
        "papermill": {
          "duration": 0.017744,
          "end_time": "2023-09-01T16:51:29.076074",
          "exception": false,
          "start_time": "2023-09-01T16:51:29.058330",
          "status": "completed"
        },
        "tags": []
      },
      "outputs": [],
      "source": [
        "sdict = {(\"in0\", \"out0\"): 1.0, (\"out0\", \"in0\"): 1.0}\n",
        "with raises(ValueError):\n",
        "    validate_multimode(sdict)\n",
        "\n",
        "sdict = {(\"in0@te\", \"out0@te\"): 1.0, (\"out0@tm\", \"in0@tm\"): 1.0}\n",
        "validate_multimode(sdict)\n",
        "\n",
        "sdict = {(\"in0@te\", \"out0@te\"): 1.0, (\"out0\", \"in0@tm\"): 1.0}\n",
        "with raises(ValueError):\n",
        "    validate_multimode(sdict)"
      ]
    },
    {
      "cell_type": "markdown",
      "id": "30b0ea7de74b0ea6",
      "metadata": {},
      "source": [
        ":::{eval-rst}\n",
        ".. autofunction:: sax.utils.validate_sdict\n",
        ":::\n"
      ]
    },
    {
      "cell_type": "code",
      "execution_count": 44,
      "id": "7c3257e71498222d",
      "metadata": {
        "execution": {
          "iopub.execute_input": "2023-09-01T16:51:29.095529Z",
          "iopub.status.busy": "2023-09-01T16:51:29.095322Z",
          "iopub.status.idle": "2023-09-01T16:51:29.098956Z",
          "shell.execute_reply": "2023-09-01T16:51:29.098600Z"
        },
        "papermill": {
          "duration": 0.014804,
          "end_time": "2023-09-01T16:51:29.100171",
          "exception": false,
          "start_time": "2023-09-01T16:51:29.085367",
          "status": "completed"
        },
        "tags": [
          "hide-input"
        ]
      },
      "outputs": [],
      "source": [
        "def validate_sdict(sdict: Any) -> None:\n",
        "    \"\"\"Validate an `SDict`\"\"\"\n",
        "    \n",
        "    if not isinstance(sdict, dict):\n",
        "        raise ValueError(\"An SDict should be a dictionary.\")\n",
        "    for ports in sdict:\n",
        "        if not isinstance(ports, tuple) and not len(ports) == 2:\n",
        "            raise ValueError(f\"SDict keys should be length-2 tuples. Got {ports}\")\n",
        "        p1, p2 = ports\n",
        "        if not isinstance(p1, str) or not isinstance(p2, str):\n",
        "            raise ValueError(\n",
        "                f\"SDict ports should be strings. Got {ports} \"\n",
        "                f\"({type(ports[0])}, {type(ports[1])})\"\n",
        "            )"
      ]
    },
    {
      "cell_type": "code",
      "execution_count": 45,
      "id": "fe25c362",
      "metadata": {
        "execution": {
          "iopub.execute_input": "2023-09-01T16:51:29.119861Z",
          "iopub.status.busy": "2023-09-01T16:51:29.119422Z",
          "iopub.status.idle": "2023-09-01T16:51:29.122960Z",
          "shell.execute_reply": "2023-09-01T16:51:29.122503Z"
        },
        "papermill": {
          "duration": 0.01473,
          "end_time": "2023-09-01T16:51:29.124118",
          "exception": false,
          "start_time": "2023-09-01T16:51:29.109388",
          "status": "completed"
        },
        "tags": []
      },
      "outputs": [],
      "source": [
        "good_sdict = reciprocal({(\"p0\", \"p1\"): 0.1, \n",
        "                         (\"p1\", \"p2\"): 0.2})\n",
        "assert validate_sdict(good_sdict) is None\n",
        "\n",
        "bad_sdict = {\n",
        "    \"p0,p1\": 0.1,\n",
        "    (\"p1\", \"p2\"): 0.2,\n",
        "}\n",
        "with raises(ValueError):\n",
        "    validate_sdict(bad_sdict)"
      ]
    },
    {
      "cell_type": "markdown",
      "id": "382b1f8bf3ffeb3e",
      "metadata": {},
      "source": [
        ":::{eval-rst}\n",
        ".. autofunction:: sax.utils.get_inputs_outputs\n",
        ":::\n"
      ]
    },
    {
      "cell_type": "code",
      "execution_count": 46,
      "id": "dcb192cccb530e17",
      "metadata": {
        "execution": {
          "iopub.execute_input": "2023-09-01T16:51:29.144619Z",
          "iopub.status.busy": "2023-09-01T16:51:29.144028Z",
          "iopub.status.idle": "2023-09-01T16:51:29.148065Z",
          "shell.execute_reply": "2023-09-01T16:51:29.147655Z"
        },
        "papermill": {
          "duration": 0.015583,
          "end_time": "2023-09-01T16:51:29.149214",
          "exception": false,
          "start_time": "2023-09-01T16:51:29.133631",
          "status": "completed"
        },
        "tags": [
          "hide-input"
        ]
      },
      "outputs": [],
      "source": [
        "\n",
        "def get_inputs_outputs(ports: Tuple[str, ...]):\n",
        "    inputs = tuple(p for p in ports if p.lower().startswith(\"in\"))\n",
        "    outputs = tuple(p for p in ports if not p.lower().startswith(\"in\"))\n",
        "    if not inputs:\n",
        "        inputs = tuple(p for p in ports if not p.lower().startswith(\"out\"))\n",
        "        outputs = tuple(p for p in ports if p.lower().startswith(\"out\"))\n",
        "    return inputs, outputs"
      ]
    },
    {
      "cell_type": "code",
      "execution_count": 47,
      "id": "b9ba032d",
      "metadata": {
        "execution": {
          "iopub.execute_input": "2023-09-01T16:51:29.170117Z",
          "iopub.status.busy": "2023-09-01T16:51:29.169681Z",
          "iopub.status.idle": "2023-09-01T16:51:29.173283Z",
          "shell.execute_reply": "2023-09-01T16:51:29.172894Z"
        },
        "papermill": {
          "duration": 0.015981,
          "end_time": "2023-09-01T16:51:29.174513",
          "exception": false,
          "start_time": "2023-09-01T16:51:29.158532",
          "status": "completed"
        },
        "tags": []
      },
      "outputs": [],
      "source": [
        "assert get_inputs_outputs([\"in0\", \"out0\"]) == (('in0',), ('out0',))\n",
        "assert get_inputs_outputs([\"in0\", \"in1\"]) == (('in0', 'in1'), ())\n",
        "assert get_inputs_outputs([\"out0\", \"out1\"]) == ((), ('out0', 'out1'))\n",
        "assert get_inputs_outputs([\"out0\", \"dc0\"]) == (('dc0',), ('out0',))\n",
        "assert get_inputs_outputs([\"dc0\", \"in0\"]) == (('in0',), ('dc0',))"
      ]
    },
    {
      "cell_type": "markdown",
      "id": "413fcd51199c2b7f",
      "metadata": {},
      "source": [
        ":::{eval-rst}\n",
        ".. autofunction:: sax.utils.hash_dict\n",
        ":::\n"
      ]
    },
    {
      "cell_type": "code",
      "execution_count": 48,
      "id": "2ef9a6c151486817",
      "metadata": {
        "execution": {
          "iopub.execute_input": "2023-09-01T16:51:29.194959Z",
          "iopub.status.busy": "2023-09-01T16:51:29.194483Z",
          "iopub.status.idle": "2023-09-01T16:51:29.198205Z",
          "shell.execute_reply": "2023-09-01T16:51:29.197826Z"
        },
        "papermill": {
          "duration": 0.015294,
          "end_time": "2023-09-01T16:51:29.199407",
          "exception": false,
          "start_time": "2023-09-01T16:51:29.184113",
          "status": "completed"
        },
        "tags": [
          "hide-input"
        ]
      },
      "outputs": [],
      "source": [
        "\n",
        "def hash_dict(dic: Dict) -> int:\n",
        "    return int(\n",
        "        md5(\n",
        "            orjson.dumps(_numpyfy(dic), option=orjson.OPT_SERIALIZE_NUMPY | orjson.OPT_SORT_KEYS)\n",
        "        ).hexdigest(),\n",
        "        16,\n",
        "    )\n",
        "\n",
        "def _numpyfy(obj: Any):\n",
        "    if not isinstance(obj, dict):\n",
        "        return np.asarray(obj)\n",
        "    else:\n",
        "        return {k: _numpyfy(v) for k, v in obj.items()}"
      ]
    }
  ],
  "metadata": {
    "kernelspec": {
      "display_name": "sax",
      "language": "python",
      "name": "sax"
    },
    "language_info": {
      "codemirror_mode": {
        "name": "ipython",
        "version": 3
      },
      "file_extension": ".py",
      "mimetype": "text/x-python",
      "name": "python",
      "nbconvert_exporter": "python",
      "pygments_lexer": "ipython3",
      "version": "3.11.5"
    },
    "papermill": {
      "default_parameters": {},
      "duration": 6.490619,
      "end_time": "2023-09-01T16:51:29.728661",
      "environment_variables": {},
      "exception": null,
      "input_path": "./nbs/02_utils.ipynb",
      "output_path": "./nbs/02_utils.ipynb",
      "parameters": {},
      "start_time": "2023-09-01T16:51:23.238042",
      "version": "2.4.0"
    }
  },
  "nbformat": 4,
  "nbformat_minor": 5
}