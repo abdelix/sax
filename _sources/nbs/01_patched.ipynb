{
  "cells": [
    {
      "cell_type": "code",
      "execution_count": 1,
      "id": "06cd27ec710fe48f",
      "metadata": {
        "execution": {
          "iopub.execute_input": "2023-07-01T03:32:59.854751Z",
          "iopub.status.busy": "2023-07-01T03:32:59.853970Z",
          "iopub.status.idle": "2023-07-01T03:32:59.858165Z",
          "shell.execute_reply": "2023-07-01T03:32:59.857644Z"
        },
        "papermill": {
          "duration": 0.00888,
          "end_time": "2023-07-01T03:32:59.859649",
          "exception": false,
          "start_time": "2023-07-01T03:32:59.850769",
          "status": "completed"
        },
        "tags": [
          "remove-cell"
        ]
      },
      "outputs": [],
      "source": []
    },
    {
      "cell_type": "markdown",
      "id": "62619887-4d1d-4218-8259-9dbe991cfded",
      "metadata": {
        "papermill": {
          "duration": 0.001615,
          "end_time": "2023-07-01T03:32:59.863258",
          "exception": false,
          "start_time": "2023-07-01T03:32:59.861643",
          "status": "completed"
        },
        "tags": []
      },
      "source": [
        "# Patched\n",
        "\n",
        "> We patch some library and objects that don't belong to SAX. Don't worry, it's nothing substantial."
      ]
    },
    {
      "cell_type": "code",
      "execution_count": 2,
      "id": "5fe5598269948f50",
      "metadata": {
        "execution": {
          "iopub.execute_input": "2023-07-01T03:32:59.872109Z",
          "iopub.status.busy": "2023-07-01T03:32:59.871899Z",
          "iopub.status.idle": "2023-07-01T03:33:00.639181Z",
          "shell.execute_reply": "2023-07-01T03:33:00.638668Z"
        },
        "papermill": {
          "duration": 0.773355,
          "end_time": "2023-07-01T03:33:00.640867",
          "exception": false,
          "start_time": "2023-07-01T03:32:59.867512",
          "status": "completed"
        },
        "tags": [
          "remove-cell"
        ]
      },
      "outputs": [],
      "source": [
        "import matplotlib.pyplot as plt\n",
        "from fastcore.test import test_eq\n",
        "from pytest import approx, raises\n",
        "\n",
        "import os, sys; sys.stderr = open(os.devnull, \"w\")"
      ]
    },
    {
      "cell_type": "code",
      "execution_count": 3,
      "id": "93a0a488e755cbcb",
      "metadata": {
        "execution": {
          "iopub.execute_input": "2023-07-01T03:33:00.645924Z",
          "iopub.status.busy": "2023-07-01T03:33:00.645367Z",
          "iopub.status.idle": "2023-07-01T03:33:01.606097Z",
          "shell.execute_reply": "2023-07-01T03:33:01.605513Z"
        },
        "papermill": {
          "duration": 0.96519,
          "end_time": "2023-07-01T03:33:01.608001",
          "exception": false,
          "start_time": "2023-07-01T03:33:00.642811",
          "status": "completed"
        },
        "tags": [
          "hide-input"
        ]
      },
      "outputs": [],
      "source": [
        "from __future__ import annotations\n",
        "\n",
        "import re\n",
        "from textwrap import dedent\n",
        "\n",
        "from fastcore.basics import patch_to\n",
        "from sax.typing_ import is_complex_float, is_float\n",
        "\n",
        "try:\n",
        "    import jax.numpy as jnp\n",
        "    from flax.core import FrozenDict\n",
        "    from jaxlib.xla_extension import DeviceArray\n",
        "    JAX_AVAILABLE = True\n",
        "except (ImportError, ModuleNotFoundError):\n",
        "    import numpy as jnp\n",
        "    DeviceArray = jnp.ndarray\n",
        "    FrozenDict = dict\n",
        "    JAX_AVAILABLE = False"
      ]
    },
    {
      "cell_type": "markdown",
      "id": "e37bb974-621b-4fc2-b4a8-d3f51d4f72ad",
      "metadata": {
        "papermill": {
          "duration": 0.001791,
          "end_time": "2023-07-01T03:33:01.611704",
          "exception": false,
          "start_time": "2023-07-01T03:33:01.609913",
          "status": "completed"
        },
        "tags": []
      },
      "source": [
        "Paching `FrozenDict` to have the same repr as a normal dict:"
      ]
    },
    {
      "cell_type": "code",
      "execution_count": 4,
      "id": "9229651d990192b2",
      "metadata": {
        "execution": {
          "iopub.execute_input": "2023-07-01T03:33:01.616224Z",
          "iopub.status.busy": "2023-07-01T03:33:01.615710Z",
          "iopub.status.idle": "2023-07-01T03:33:01.619646Z",
          "shell.execute_reply": "2023-07-01T03:33:01.619199Z"
        },
        "papermill": {
          "duration": 0.007667,
          "end_time": "2023-07-01T03:33:01.620944",
          "exception": false,
          "start_time": "2023-07-01T03:33:01.613277",
          "status": "completed"
        },
        "tags": [
          "remove-cell"
        ]
      },
      "outputs": [],
      "source": [
        "\n",
        "if JAX_AVAILABLE:\n",
        "    @patch_to(FrozenDict)\n",
        "    def __repr__(self):  # type: ignore\n",
        "        _dict = lambda d: dict(\n",
        "            {k: (v if not isinstance(v, self.__class__) else dict(v)) for k, v in d.items()}\n",
        "        )\n",
        "        return f\"{self.__class__.__name__}({dict.__repr__(_dict(self))})\""
      ]
    },
    {
      "cell_type": "markdown",
      "id": "4484b223-c22e-4537-8f90-df47ef31d086",
      "metadata": {
        "papermill": {
          "duration": 0.002879,
          "end_time": "2023-07-01T03:33:01.625408",
          "exception": false,
          "start_time": "2023-07-01T03:33:01.622529",
          "status": "completed"
        },
        "tags": []
      },
      "source": [
        "Patching `DeviceArray` to have less verbose reprs for 0-D arrays:"
      ]
    },
    {
      "cell_type": "code",
      "execution_count": 5,
      "id": "2df29c760ac0ac9d",
      "metadata": {
        "execution": {
          "iopub.execute_input": "2023-07-01T03:33:01.634570Z",
          "iopub.status.busy": "2023-07-01T03:33:01.634251Z",
          "iopub.status.idle": "2023-07-01T03:33:01.639247Z",
          "shell.execute_reply": "2023-07-01T03:33:01.638825Z"
        },
        "papermill": {
          "duration": 0.011782,
          "end_time": "2023-07-01T03:33:01.640537",
          "exception": false,
          "start_time": "2023-07-01T03:33:01.628755",
          "status": "completed"
        },
        "tags": [
          "remove-cell"
        ]
      },
      "outputs": [],
      "source": [
        "if JAX_AVAILABLE:\n",
        "    @patch_to(DeviceArray)\n",
        "    def __repr__(self):  # type: ignore\n",
        "        if self.ndim == 0 and is_float(self):\n",
        "            v = float(self)\n",
        "            return repr(round(v, 5)) if abs(v) > 1e-4 else repr(v)\n",
        "        elif self.ndim == 0 and is_complex_float(self):\n",
        "            r, i = float(self.real), float(self.imag)\n",
        "            r = round(r, 5) if abs(r) > 1e-4 else r\n",
        "            i = round(i, 5) if abs(i) > 1e-4 else i\n",
        "            s = repr(r + 1j * i)\n",
        "            if s[0] == \"(\" and s[-1] == \")\":\n",
        "                s = s[1:-1]\n",
        "            return s\n",
        "        else:\n",
        "            s = super(self.__class__, self).__repr__()\n",
        "            s = s.replace(\"DeviceArray(\", \"      array(\")\n",
        "            s = re.sub(r\", dtype=.*[,)]\", \"\", s)\n",
        "            s = re.sub(r\" weak_type=.*[,)]\", \"\", s)\n",
        "            return dedent(s)+\")\""
      ]
    },
    {
      "cell_type": "code",
      "execution_count": 6,
      "id": "5f6c14e4-723e-4ad9-9b20-fde3d7b7f86f",
      "metadata": {
        "execution": {
          "iopub.execute_input": "2023-07-01T03:33:01.646663Z",
          "iopub.status.busy": "2023-07-01T03:33:01.646384Z",
          "iopub.status.idle": "2023-07-01T03:33:01.651742Z",
          "shell.execute_reply": "2023-07-01T03:33:01.651376Z"
        },
        "papermill": {
          "duration": 0.010963,
          "end_time": "2023-07-01T03:33:01.653159",
          "exception": false,
          "start_time": "2023-07-01T03:33:01.642196",
          "status": "completed"
        },
        "tags": []
      },
      "outputs": [
        {
          "data": {
            "text/plain": [
              "array(3)"
            ]
          },
          "execution_count": 6,
          "metadata": {},
          "output_type": "execute_result"
        }
      ],
      "source": [
        "jnp.array(3)"
      ]
    },
    {
      "cell_type": "code",
      "execution_count": 7,
      "id": "02676641-cddd-4f70-8138-b4530dd318cd",
      "metadata": {
        "execution": {
          "iopub.execute_input": "2023-07-01T03:33:01.660850Z",
          "iopub.status.busy": "2023-07-01T03:33:01.660444Z",
          "iopub.status.idle": "2023-07-01T03:33:01.664053Z",
          "shell.execute_reply": "2023-07-01T03:33:01.663687Z"
        },
        "papermill": {
          "duration": 0.0103,
          "end_time": "2023-07-01T03:33:01.665215",
          "exception": false,
          "start_time": "2023-07-01T03:33:01.654915",
          "status": "completed"
        },
        "tags": []
      },
      "outputs": [
        {
          "data": {
            "text/plain": [
              "array([3, 4, 5])"
            ]
          },
          "execution_count": 7,
          "metadata": {},
          "output_type": "execute_result"
        }
      ],
      "source": [
        "jnp.array([3, 4, 5])"
      ]
    }
  ],
  "metadata": {
    "kernelspec": {
      "display_name": "sax",
      "language": "python",
      "name": "sax"
    },
    "language_info": {
      "codemirror_mode": {
        "name": "ipython",
        "version": 3
      },
      "file_extension": ".py",
      "mimetype": "text/x-python",
      "name": "python",
      "nbconvert_exporter": "python",
      "pygments_lexer": "ipython3",
      "version": "3.11.4"
    },
    "papermill": {
      "default_parameters": {},
      "duration": 3.903433,
      "end_time": "2023-07-01T03:33:02.287034",
      "environment_variables": {},
      "exception": null,
      "input_path": "./nbs/01_patched.ipynb",
      "output_path": "./nbs/01_patched.ipynb",
      "parameters": {},
      "start_time": "2023-07-01T03:32:58.383601",
      "version": "2.3.4"
    }
  },
  "nbformat": 4,
  "nbformat_minor": 5
}