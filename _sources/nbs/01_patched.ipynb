{
  "cells": [
    {
      "cell_type": "code",
      "execution_count": 1,
      "id": "0fb91fd1d1292901",
      "metadata": {
        "execution": {
          "iopub.execute_input": "2023-06-01T21:33:14.182166Z",
          "iopub.status.busy": "2023-06-01T21:33:14.181922Z",
          "iopub.status.idle": "2023-06-01T21:33:14.185840Z",
          "shell.execute_reply": "2023-06-01T21:33:14.185352Z"
        },
        "papermill": {
          "duration": 0.008301,
          "end_time": "2023-06-01T21:33:14.187212",
          "exception": false,
          "start_time": "2023-06-01T21:33:14.178911",
          "status": "completed"
        },
        "tags": [
          "remove-cell"
        ]
      },
      "outputs": [],
      "source": []
    },
    {
      "cell_type": "markdown",
      "id": "62619887-4d1d-4218-8259-9dbe991cfded",
      "metadata": {
        "papermill": {
          "duration": 0.00393,
          "end_time": "2023-06-01T21:33:14.192902",
          "exception": false,
          "start_time": "2023-06-01T21:33:14.188972",
          "status": "completed"
        },
        "tags": []
      },
      "source": [
        "# Patched\n",
        "\n",
        "> We patch some library and objects that don't belong to SAX. Don't worry, it's nothing substantial."
      ]
    },
    {
      "cell_type": "code",
      "execution_count": 2,
      "id": "9658d01873201241",
      "metadata": {
        "execution": {
          "iopub.execute_input": "2023-06-01T21:33:14.196880Z",
          "iopub.status.busy": "2023-06-01T21:33:14.196442Z",
          "iopub.status.idle": "2023-06-01T21:33:14.652734Z",
          "shell.execute_reply": "2023-06-01T21:33:14.652304Z"
        },
        "papermill": {
          "duration": 0.460149,
          "end_time": "2023-06-01T21:33:14.654505",
          "exception": false,
          "start_time": "2023-06-01T21:33:14.194356",
          "status": "completed"
        },
        "tags": [
          "remove-cell"
        ]
      },
      "outputs": [],
      "source": [
        "import matplotlib.pyplot as plt\n",
        "from fastcore.test import test_eq\n",
        "from pytest import approx, raises\n",
        "\n",
        "import os, sys; sys.stderr = open(os.devnull, \"w\")"
      ]
    },
    {
      "cell_type": "code",
      "execution_count": 3,
      "id": "dd73c855a397255f",
      "metadata": {
        "execution": {
          "iopub.execute_input": "2023-06-01T21:33:14.660156Z",
          "iopub.status.busy": "2023-06-01T21:33:14.659147Z",
          "iopub.status.idle": "2023-06-01T21:33:15.495359Z",
          "shell.execute_reply": "2023-06-01T21:33:15.494850Z"
        },
        "papermill": {
          "duration": 0.840618,
          "end_time": "2023-06-01T21:33:15.496923",
          "exception": false,
          "start_time": "2023-06-01T21:33:14.656305",
          "status": "completed"
        },
        "tags": [
          "hide-input"
        ]
      },
      "outputs": [],
      "source": [
        "from __future__ import annotations\n",
        "\n",
        "import re\n",
        "from textwrap import dedent\n",
        "\n",
        "from fastcore.basics import patch_to\n",
        "from sax.typing_ import is_complex_float, is_float\n",
        "\n",
        "try:\n",
        "    import jax.numpy as jnp\n",
        "    from flax.core import FrozenDict\n",
        "    from jaxlib.xla_extension import DeviceArray\n",
        "    JAX_AVAILABLE = True\n",
        "except (ImportError, ModuleNotFoundError):\n",
        "    import numpy as jnp\n",
        "    DeviceArray = jnp.ndarray\n",
        "    FrozenDict = dict\n",
        "    JAX_AVAILABLE = False"
      ]
    },
    {
      "cell_type": "markdown",
      "id": "e37bb974-621b-4fc2-b4a8-d3f51d4f72ad",
      "metadata": {
        "papermill": {
          "duration": 0.001552,
          "end_time": "2023-06-01T21:33:15.500272",
          "exception": false,
          "start_time": "2023-06-01T21:33:15.498720",
          "status": "completed"
        },
        "tags": []
      },
      "source": [
        "Paching `FrozenDict` to have the same repr as a normal dict:"
      ]
    },
    {
      "cell_type": "code",
      "execution_count": 4,
      "id": "ab5e8238ad848b32",
      "metadata": {
        "execution": {
          "iopub.execute_input": "2023-06-01T21:33:15.504804Z",
          "iopub.status.busy": "2023-06-01T21:33:15.504285Z",
          "iopub.status.idle": "2023-06-01T21:33:15.508283Z",
          "shell.execute_reply": "2023-06-01T21:33:15.507933Z"
        },
        "papermill": {
          "duration": 0.007696,
          "end_time": "2023-06-01T21:33:15.509547",
          "exception": false,
          "start_time": "2023-06-01T21:33:15.501851",
          "status": "completed"
        },
        "tags": [
          "remove-cell"
        ]
      },
      "outputs": [],
      "source": [
        "\n",
        "if JAX_AVAILABLE:\n",
        "    @patch_to(FrozenDict)\n",
        "    def __repr__(self):  # type: ignore\n",
        "        _dict = lambda d: dict(\n",
        "            {k: (v if not isinstance(v, self.__class__) else dict(v)) for k, v in d.items()}\n",
        "        )\n",
        "        return f\"{self.__class__.__name__}({dict.__repr__(_dict(self))})\""
      ]
    },
    {
      "cell_type": "markdown",
      "id": "4484b223-c22e-4537-8f90-df47ef31d086",
      "metadata": {
        "papermill": {
          "duration": 0.001475,
          "end_time": "2023-06-01T21:33:15.512783",
          "exception": false,
          "start_time": "2023-06-01T21:33:15.511308",
          "status": "completed"
        },
        "tags": []
      },
      "source": [
        "Patching `DeviceArray` to have less verbose reprs for 0-D arrays:"
      ]
    },
    {
      "cell_type": "code",
      "execution_count": 5,
      "id": "4a91cd98604da976",
      "metadata": {
        "execution": {
          "iopub.execute_input": "2023-06-01T21:33:15.517023Z",
          "iopub.status.busy": "2023-06-01T21:33:15.516836Z",
          "iopub.status.idle": "2023-06-01T21:33:15.521592Z",
          "shell.execute_reply": "2023-06-01T21:33:15.521246Z"
        },
        "papermill": {
          "duration": 0.008553,
          "end_time": "2023-06-01T21:33:15.523241",
          "exception": false,
          "start_time": "2023-06-01T21:33:15.514688",
          "status": "completed"
        },
        "tags": [
          "remove-cell"
        ]
      },
      "outputs": [],
      "source": [
        "if JAX_AVAILABLE:\n",
        "    @patch_to(DeviceArray)\n",
        "    def __repr__(self):  # type: ignore\n",
        "        if self.ndim == 0 and is_float(self):\n",
        "            v = float(self)\n",
        "            return repr(round(v, 5)) if abs(v) > 1e-4 else repr(v)\n",
        "        elif self.ndim == 0 and is_complex_float(self):\n",
        "            r, i = float(self.real), float(self.imag)\n",
        "            r = round(r, 5) if abs(r) > 1e-4 else r\n",
        "            i = round(i, 5) if abs(i) > 1e-4 else i\n",
        "            s = repr(r + 1j * i)\n",
        "            if s[0] == \"(\" and s[-1] == \")\":\n",
        "                s = s[1:-1]\n",
        "            return s\n",
        "        else:\n",
        "            s = super(self.__class__, self).__repr__()\n",
        "            s = s.replace(\"DeviceArray(\", \"      array(\")\n",
        "            s = re.sub(r\", dtype=.*[,)]\", \"\", s)\n",
        "            s = re.sub(r\" weak_type=.*[,)]\", \"\", s)\n",
        "            return dedent(s)+\")\""
      ]
    },
    {
      "cell_type": "code",
      "execution_count": 6,
      "id": "5f6c14e4-723e-4ad9-9b20-fde3d7b7f86f",
      "metadata": {
        "execution": {
          "iopub.execute_input": "2023-06-01T21:33:15.527197Z",
          "iopub.status.busy": "2023-06-01T21:33:15.527017Z",
          "iopub.status.idle": "2023-06-01T21:33:15.532024Z",
          "shell.execute_reply": "2023-06-01T21:33:15.531673Z"
        },
        "papermill": {
          "duration": 0.009993,
          "end_time": "2023-06-01T21:33:15.534737",
          "exception": false,
          "start_time": "2023-06-01T21:33:15.524744",
          "status": "completed"
        },
        "tags": []
      },
      "outputs": [
        {
          "data": {
            "text/plain": [
              "array(3)"
            ]
          },
          "execution_count": 6,
          "metadata": {},
          "output_type": "execute_result"
        }
      ],
      "source": [
        "jnp.array(3)"
      ]
    },
    {
      "cell_type": "code",
      "execution_count": 7,
      "id": "02676641-cddd-4f70-8138-b4530dd318cd",
      "metadata": {
        "execution": {
          "iopub.execute_input": "2023-06-01T21:33:15.538851Z",
          "iopub.status.busy": "2023-06-01T21:33:15.538672Z",
          "iopub.status.idle": "2023-06-01T21:33:15.541919Z",
          "shell.execute_reply": "2023-06-01T21:33:15.541575Z"
        },
        "papermill": {
          "duration": 0.007896,
          "end_time": "2023-06-01T21:33:15.544289",
          "exception": false,
          "start_time": "2023-06-01T21:33:15.536393",
          "status": "completed"
        },
        "tags": []
      },
      "outputs": [
        {
          "data": {
            "text/plain": [
              "array([3, 4, 5])"
            ]
          },
          "execution_count": 7,
          "metadata": {},
          "output_type": "execute_result"
        }
      ],
      "source": [
        "jnp.array([3, 4, 5])"
      ]
    }
  ],
  "metadata": {
    "kernelspec": {
      "display_name": "sax",
      "language": "python",
      "name": "sax"
    },
    "language_info": {
      "codemirror_mode": {
        "name": "ipython",
        "version": 3
      },
      "file_extension": ".py",
      "mimetype": "text/x-python",
      "name": "python",
      "nbconvert_exporter": "python",
      "pygments_lexer": "ipython3",
      "version": "3.11.3"
    },
    "papermill": {
      "default_parameters": {},
      "duration": 3.189802,
      "end_time": "2023-06-01T21:33:15.972166",
      "environment_variables": {},
      "exception": null,
      "input_path": "./nbs/01_patched.ipynb",
      "output_path": "./nbs/01_patched.ipynb",
      "parameters": {},
      "start_time": "2023-06-01T21:33:12.782364",
      "version": "2.3.4"
    }
  },
  "nbformat": 4,
  "nbformat_minor": 5
}