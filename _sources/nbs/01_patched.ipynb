{
  "cells": [
    {
      "cell_type": "code",
      "execution_count": 1,
      "id": "611ad43d8690778c",
      "metadata": {
        "execution": {
          "iopub.execute_input": "2023-09-01T15:55:03.773711Z",
          "iopub.status.busy": "2023-09-01T15:55:03.772656Z",
          "iopub.status.idle": "2023-09-01T15:55:03.778429Z",
          "shell.execute_reply": "2023-09-01T15:55:03.777568Z"
        },
        "papermill": {
          "duration": 0.011987,
          "end_time": "2023-09-01T15:55:03.780029",
          "exception": false,
          "start_time": "2023-09-01T15:55:03.768042",
          "status": "completed"
        },
        "tags": [
          "remove-cell"
        ]
      },
      "outputs": [],
      "source": []
    },
    {
      "cell_type": "markdown",
      "id": "62619887-4d1d-4218-8259-9dbe991cfded",
      "metadata": {
        "papermill": {
          "duration": 0.002082,
          "end_time": "2023-09-01T15:55:03.784410",
          "exception": false,
          "start_time": "2023-09-01T15:55:03.782328",
          "status": "completed"
        },
        "tags": []
      },
      "source": [
        "# Patched\n",
        "\n",
        "> We patch some library and objects that don't belong to SAX. Don't worry, it's nothing substantial."
      ]
    },
    {
      "cell_type": "code",
      "execution_count": 2,
      "id": "e432700e6a70aeba",
      "metadata": {
        "execution": {
          "iopub.execute_input": "2023-09-01T15:55:03.789725Z",
          "iopub.status.busy": "2023-09-01T15:55:03.789225Z",
          "iopub.status.idle": "2023-09-01T15:55:04.344851Z",
          "shell.execute_reply": "2023-09-01T15:55:04.344206Z"
        },
        "papermill": {
          "duration": 0.560381,
          "end_time": "2023-09-01T15:55:04.346676",
          "exception": false,
          "start_time": "2023-09-01T15:55:03.786295",
          "status": "completed"
        },
        "tags": [
          "remove-cell"
        ]
      },
      "outputs": [],
      "source": [
        "import matplotlib.pyplot as plt\n",
        "from fastcore.test import test_eq\n",
        "from pytest import approx, raises\n",
        "\n",
        "import os, sys; sys.stderr = open(os.devnull, \"w\")"
      ]
    },
    {
      "cell_type": "code",
      "execution_count": 3,
      "id": "497d6d13bd4eb006",
      "metadata": {
        "execution": {
          "iopub.execute_input": "2023-09-01T15:55:04.353687Z",
          "iopub.status.busy": "2023-09-01T15:55:04.352751Z",
          "iopub.status.idle": "2023-09-01T15:55:05.369257Z",
          "shell.execute_reply": "2023-09-01T15:55:05.368594Z"
        },
        "papermill": {
          "duration": 1.022043,
          "end_time": "2023-09-01T15:55:05.370988",
          "exception": false,
          "start_time": "2023-09-01T15:55:04.348945",
          "status": "completed"
        },
        "tags": [
          "hide-input"
        ]
      },
      "outputs": [],
      "source": [
        "from __future__ import annotations\n",
        "\n",
        "import re\n",
        "from textwrap import dedent\n",
        "\n",
        "from fastcore.basics import patch_to\n",
        "from sax.typing_ import is_complex_float, is_float\n",
        "\n",
        "try:\n",
        "    import jax.numpy as jnp\n",
        "    from flax.core import FrozenDict\n",
        "    from jaxlib.xla_extension import DeviceArray\n",
        "    JAX_AVAILABLE = True\n",
        "except (ImportError, ModuleNotFoundError):\n",
        "    import numpy as jnp\n",
        "    DeviceArray = jnp.ndarray\n",
        "    FrozenDict = dict\n",
        "    JAX_AVAILABLE = False"
      ]
    },
    {
      "cell_type": "markdown",
      "id": "e37bb974-621b-4fc2-b4a8-d3f51d4f72ad",
      "metadata": {
        "papermill": {
          "duration": 0.002455,
          "end_time": "2023-09-01T15:55:05.375718",
          "exception": false,
          "start_time": "2023-09-01T15:55:05.373263",
          "status": "completed"
        },
        "tags": []
      },
      "source": [
        "Paching `FrozenDict` to have the same repr as a normal dict:"
      ]
    },
    {
      "cell_type": "code",
      "execution_count": 4,
      "id": "ad97d4684ef62f9c",
      "metadata": {
        "execution": {
          "iopub.execute_input": "2023-09-01T15:55:05.381595Z",
          "iopub.status.busy": "2023-09-01T15:55:05.380831Z",
          "iopub.status.idle": "2023-09-01T15:55:05.385341Z",
          "shell.execute_reply": "2023-09-01T15:55:05.384889Z"
        },
        "papermill": {
          "duration": 0.00907,
          "end_time": "2023-09-01T15:55:05.386789",
          "exception": false,
          "start_time": "2023-09-01T15:55:05.377719",
          "status": "completed"
        },
        "tags": [
          "remove-cell"
        ]
      },
      "outputs": [],
      "source": [
        "\n",
        "if JAX_AVAILABLE:\n",
        "    @patch_to(FrozenDict)\n",
        "    def __repr__(self):  # type: ignore\n",
        "        _dict = lambda d: dict(\n",
        "            {k: (v if not isinstance(v, self.__class__) else dict(v)) for k, v in d.items()}\n",
        "        )\n",
        "        return f\"{self.__class__.__name__}({dict.__repr__(_dict(self))})\""
      ]
    },
    {
      "cell_type": "markdown",
      "id": "4484b223-c22e-4537-8f90-df47ef31d086",
      "metadata": {
        "papermill": {
          "duration": 0.001995,
          "end_time": "2023-09-01T15:55:05.390854",
          "exception": false,
          "start_time": "2023-09-01T15:55:05.388859",
          "status": "completed"
        },
        "tags": []
      },
      "source": [
        "Patching `DeviceArray` to have less verbose reprs for 0-D arrays:"
      ]
    },
    {
      "cell_type": "code",
      "execution_count": 5,
      "id": "516ec7b92b8addfa",
      "metadata": {
        "execution": {
          "iopub.execute_input": "2023-09-01T15:55:05.396876Z",
          "iopub.status.busy": "2023-09-01T15:55:05.396102Z",
          "iopub.status.idle": "2023-09-01T15:55:05.403986Z",
          "shell.execute_reply": "2023-09-01T15:55:05.403515Z"
        },
        "papermill": {
          "duration": 0.012689,
          "end_time": "2023-09-01T15:55:05.405646",
          "exception": false,
          "start_time": "2023-09-01T15:55:05.392957",
          "status": "completed"
        },
        "tags": [
          "remove-cell"
        ]
      },
      "outputs": [],
      "source": [
        "if JAX_AVAILABLE:\n",
        "    @patch_to(DeviceArray)\n",
        "    def __repr__(self):  # type: ignore\n",
        "        if self.ndim == 0 and is_float(self):\n",
        "            v = float(self)\n",
        "            return repr(round(v, 5)) if abs(v) > 1e-4 else repr(v)\n",
        "        elif self.ndim == 0 and is_complex_float(self):\n",
        "            r, i = float(self.real), float(self.imag)\n",
        "            r = round(r, 5) if abs(r) > 1e-4 else r\n",
        "            i = round(i, 5) if abs(i) > 1e-4 else i\n",
        "            s = repr(r + 1j * i)\n",
        "            if s[0] == \"(\" and s[-1] == \")\":\n",
        "                s = s[1:-1]\n",
        "            return s\n",
        "        else:\n",
        "            s = super(self.__class__, self).__repr__()\n",
        "            s = s.replace(\"DeviceArray(\", \"      array(\")\n",
        "            s = re.sub(r\", dtype=.*[,)]\", \"\", s)\n",
        "            s = re.sub(r\" weak_type=.*[,)]\", \"\", s)\n",
        "            return dedent(s)+\")\""
      ]
    },
    {
      "cell_type": "code",
      "execution_count": 6,
      "id": "5f6c14e4-723e-4ad9-9b20-fde3d7b7f86f",
      "metadata": {
        "execution": {
          "iopub.execute_input": "2023-09-01T15:55:05.411329Z",
          "iopub.status.busy": "2023-09-01T15:55:05.410818Z",
          "iopub.status.idle": "2023-09-01T15:55:05.417073Z",
          "shell.execute_reply": "2023-09-01T15:55:05.416651Z"
        },
        "papermill": {
          "duration": 0.010831,
          "end_time": "2023-09-01T15:55:05.418580",
          "exception": false,
          "start_time": "2023-09-01T15:55:05.407749",
          "status": "completed"
        },
        "tags": []
      },
      "outputs": [
        {
          "data": {
            "text/plain": [
              "array(3)"
            ]
          },
          "execution_count": 6,
          "metadata": {},
          "output_type": "execute_result"
        }
      ],
      "source": [
        "jnp.array(3)"
      ]
    },
    {
      "cell_type": "code",
      "execution_count": 7,
      "id": "02676641-cddd-4f70-8138-b4530dd318cd",
      "metadata": {
        "execution": {
          "iopub.execute_input": "2023-09-01T15:55:05.424707Z",
          "iopub.status.busy": "2023-09-01T15:55:05.424133Z",
          "iopub.status.idle": "2023-09-01T15:55:05.428401Z",
          "shell.execute_reply": "2023-09-01T15:55:05.427981Z"
        },
        "papermill": {
          "duration": 0.008886,
          "end_time": "2023-09-01T15:55:05.429744",
          "exception": false,
          "start_time": "2023-09-01T15:55:05.420858",
          "status": "completed"
        },
        "tags": []
      },
      "outputs": [
        {
          "data": {
            "text/plain": [
              "array([3, 4, 5])"
            ]
          },
          "execution_count": 7,
          "metadata": {},
          "output_type": "execute_result"
        }
      ],
      "source": [
        "jnp.array([3, 4, 5])"
      ]
    }
  ],
  "metadata": {
    "kernelspec": {
      "display_name": "sax",
      "language": "python",
      "name": "sax"
    },
    "language_info": {
      "codemirror_mode": {
        "name": "ipython",
        "version": 3
      },
      "file_extension": ".py",
      "mimetype": "text/x-python",
      "name": "python",
      "nbconvert_exporter": "python",
      "pygments_lexer": "ipython3",
      "version": "3.11.5"
    },
    "papermill": {
      "default_parameters": {},
      "duration": 3.694447,
      "end_time": "2023-09-01T15:55:06.153705",
      "environment_variables": {},
      "exception": null,
      "input_path": "./nbs/01_patched.ipynb",
      "output_path": "./nbs/01_patched.ipynb",
      "parameters": {},
      "start_time": "2023-09-01T15:55:02.459258",
      "version": "2.4.0"
    }
  },
  "nbformat": 4,
  "nbformat_minor": 5
}