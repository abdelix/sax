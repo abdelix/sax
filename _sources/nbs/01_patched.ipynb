{
  "cells": [
    {
      "cell_type": "code",
      "execution_count": 1,
      "id": "0da7fa5b6b95c56b",
      "metadata": {
        "execution": {
          "iopub.execute_input": "2023-06-01T21:50:29.369116Z",
          "iopub.status.busy": "2023-06-01T21:50:29.368690Z",
          "iopub.status.idle": "2023-06-01T21:50:29.372486Z",
          "shell.execute_reply": "2023-06-01T21:50:29.371995Z"
        },
        "papermill": {
          "duration": 0.008284,
          "end_time": "2023-06-01T21:50:29.373884",
          "exception": false,
          "start_time": "2023-06-01T21:50:29.365600",
          "status": "completed"
        },
        "tags": [
          "remove-cell"
        ]
      },
      "outputs": [],
      "source": []
    },
    {
      "cell_type": "markdown",
      "id": "62619887-4d1d-4218-8259-9dbe991cfded",
      "metadata": {
        "papermill": {
          "duration": 0.002635,
          "end_time": "2023-06-01T21:50:29.378380",
          "exception": false,
          "start_time": "2023-06-01T21:50:29.375745",
          "status": "completed"
        },
        "tags": []
      },
      "source": [
        "# Patched\n",
        "\n",
        "> We patch some library and objects that don't belong to SAX. Don't worry, it's nothing substantial."
      ]
    },
    {
      "cell_type": "code",
      "execution_count": 2,
      "id": "e80be9922c55e221",
      "metadata": {
        "execution": {
          "iopub.execute_input": "2023-06-01T21:50:29.382454Z",
          "iopub.status.busy": "2023-06-01T21:50:29.382243Z",
          "iopub.status.idle": "2023-06-01T21:50:29.840673Z",
          "shell.execute_reply": "2023-06-01T21:50:29.840276Z"
        },
        "papermill": {
          "duration": 0.462417,
          "end_time": "2023-06-01T21:50:29.842324",
          "exception": false,
          "start_time": "2023-06-01T21:50:29.379907",
          "status": "completed"
        },
        "tags": [
          "remove-cell"
        ]
      },
      "outputs": [],
      "source": [
        "import matplotlib.pyplot as plt\n",
        "from fastcore.test import test_eq\n",
        "from pytest import approx, raises\n",
        "\n",
        "import os, sys; sys.stderr = open(os.devnull, \"w\")"
      ]
    },
    {
      "cell_type": "code",
      "execution_count": 3,
      "id": "24d3d74cffe933ac",
      "metadata": {
        "execution": {
          "iopub.execute_input": "2023-06-01T21:50:29.847978Z",
          "iopub.status.busy": "2023-06-01T21:50:29.846981Z",
          "iopub.status.idle": "2023-06-01T21:50:30.573525Z",
          "shell.execute_reply": "2023-06-01T21:50:30.573135Z"
        },
        "papermill": {
          "duration": 0.731024,
          "end_time": "2023-06-01T21:50:30.575179",
          "exception": false,
          "start_time": "2023-06-01T21:50:29.844155",
          "status": "completed"
        },
        "tags": [
          "hide-input"
        ]
      },
      "outputs": [],
      "source": [
        "from __future__ import annotations\n",
        "\n",
        "import re\n",
        "from textwrap import dedent\n",
        "\n",
        "from fastcore.basics import patch_to\n",
        "from sax.typing_ import is_complex_float, is_float\n",
        "\n",
        "try:\n",
        "    import jax.numpy as jnp\n",
        "    from flax.core import FrozenDict\n",
        "    from jaxlib.xla_extension import DeviceArray\n",
        "    JAX_AVAILABLE = True\n",
        "except (ImportError, ModuleNotFoundError):\n",
        "    import numpy as jnp\n",
        "    DeviceArray = jnp.ndarray\n",
        "    FrozenDict = dict\n",
        "    JAX_AVAILABLE = False"
      ]
    },
    {
      "cell_type": "markdown",
      "id": "e37bb974-621b-4fc2-b4a8-d3f51d4f72ad",
      "metadata": {
        "papermill": {
          "duration": 0.001595,
          "end_time": "2023-06-01T21:50:30.578575",
          "exception": false,
          "start_time": "2023-06-01T21:50:30.576980",
          "status": "completed"
        },
        "tags": []
      },
      "source": [
        "Paching `FrozenDict` to have the same repr as a normal dict:"
      ]
    },
    {
      "cell_type": "code",
      "execution_count": 4,
      "id": "29e4f070b70642ff",
      "metadata": {
        "execution": {
          "iopub.execute_input": "2023-06-01T21:50:30.583207Z",
          "iopub.status.busy": "2023-06-01T21:50:30.582704Z",
          "iopub.status.idle": "2023-06-01T21:50:30.587296Z",
          "shell.execute_reply": "2023-06-01T21:50:30.586957Z"
        },
        "papermill": {
          "duration": 0.008581,
          "end_time": "2023-06-01T21:50:30.588756",
          "exception": false,
          "start_time": "2023-06-01T21:50:30.580175",
          "status": "completed"
        },
        "tags": [
          "remove-cell"
        ]
      },
      "outputs": [],
      "source": [
        "\n",
        "if JAX_AVAILABLE:\n",
        "    @patch_to(FrozenDict)\n",
        "    def __repr__(self):  # type: ignore\n",
        "        _dict = lambda d: dict(\n",
        "            {k: (v if not isinstance(v, self.__class__) else dict(v)) for k, v in d.items()}\n",
        "        )\n",
        "        return f\"{self.__class__.__name__}({dict.__repr__(_dict(self))})\""
      ]
    },
    {
      "cell_type": "markdown",
      "id": "4484b223-c22e-4537-8f90-df47ef31d086",
      "metadata": {
        "papermill": {
          "duration": 0.001501,
          "end_time": "2023-06-01T21:50:30.591860",
          "exception": false,
          "start_time": "2023-06-01T21:50:30.590359",
          "status": "completed"
        },
        "tags": []
      },
      "source": [
        "Patching `DeviceArray` to have less verbose reprs for 0-D arrays:"
      ]
    },
    {
      "cell_type": "code",
      "execution_count": 5,
      "id": "ec28f77338e514ef",
      "metadata": {
        "execution": {
          "iopub.execute_input": "2023-06-01T21:50:30.595806Z",
          "iopub.status.busy": "2023-06-01T21:50:30.595605Z",
          "iopub.status.idle": "2023-06-01T21:50:30.600542Z",
          "shell.execute_reply": "2023-06-01T21:50:30.600171Z"
        },
        "papermill": {
          "duration": 0.008887,
          "end_time": "2023-06-01T21:50:30.602285",
          "exception": false,
          "start_time": "2023-06-01T21:50:30.593398",
          "status": "completed"
        },
        "tags": [
          "remove-cell"
        ]
      },
      "outputs": [],
      "source": [
        "if JAX_AVAILABLE:\n",
        "    @patch_to(DeviceArray)\n",
        "    def __repr__(self):  # type: ignore\n",
        "        if self.ndim == 0 and is_float(self):\n",
        "            v = float(self)\n",
        "            return repr(round(v, 5)) if abs(v) > 1e-4 else repr(v)\n",
        "        elif self.ndim == 0 and is_complex_float(self):\n",
        "            r, i = float(self.real), float(self.imag)\n",
        "            r = round(r, 5) if abs(r) > 1e-4 else r\n",
        "            i = round(i, 5) if abs(i) > 1e-4 else i\n",
        "            s = repr(r + 1j * i)\n",
        "            if s[0] == \"(\" and s[-1] == \")\":\n",
        "                s = s[1:-1]\n",
        "            return s\n",
        "        else:\n",
        "            s = super(self.__class__, self).__repr__()\n",
        "            s = s.replace(\"DeviceArray(\", \"      array(\")\n",
        "            s = re.sub(r\", dtype=.*[,)]\", \"\", s)\n",
        "            s = re.sub(r\" weak_type=.*[,)]\", \"\", s)\n",
        "            return dedent(s)+\")\""
      ]
    },
    {
      "cell_type": "code",
      "execution_count": 6,
      "id": "5f6c14e4-723e-4ad9-9b20-fde3d7b7f86f",
      "metadata": {
        "execution": {
          "iopub.execute_input": "2023-06-01T21:50:30.606439Z",
          "iopub.status.busy": "2023-06-01T21:50:30.606245Z",
          "iopub.status.idle": "2023-06-01T21:50:30.611244Z",
          "shell.execute_reply": "2023-06-01T21:50:30.610897Z"
        },
        "papermill": {
          "duration": 0.010152,
          "end_time": "2023-06-01T21:50:30.614041",
          "exception": false,
          "start_time": "2023-06-01T21:50:30.603889",
          "status": "completed"
        },
        "tags": []
      },
      "outputs": [
        {
          "data": {
            "text/plain": [
              "array(3)"
            ]
          },
          "execution_count": 6,
          "metadata": {},
          "output_type": "execute_result"
        }
      ],
      "source": [
        "jnp.array(3)"
      ]
    },
    {
      "cell_type": "code",
      "execution_count": 7,
      "id": "02676641-cddd-4f70-8138-b4530dd318cd",
      "metadata": {
        "execution": {
          "iopub.execute_input": "2023-06-01T21:50:30.618296Z",
          "iopub.status.busy": "2023-06-01T21:50:30.618108Z",
          "iopub.status.idle": "2023-06-01T21:50:30.621308Z",
          "shell.execute_reply": "2023-06-01T21:50:30.620979Z"
        },
        "papermill": {
          "duration": 0.007809,
          "end_time": "2023-06-01T21:50:30.623593",
          "exception": false,
          "start_time": "2023-06-01T21:50:30.615784",
          "status": "completed"
        },
        "tags": []
      },
      "outputs": [
        {
          "data": {
            "text/plain": [
              "array([3, 4, 5])"
            ]
          },
          "execution_count": 7,
          "metadata": {},
          "output_type": "execute_result"
        }
      ],
      "source": [
        "jnp.array([3, 4, 5])"
      ]
    }
  ],
  "metadata": {
    "kernelspec": {
      "display_name": "sax",
      "language": "python",
      "name": "sax"
    },
    "language_info": {
      "codemirror_mode": {
        "name": "ipython",
        "version": 3
      },
      "file_extension": ".py",
      "mimetype": "text/x-python",
      "name": "python",
      "nbconvert_exporter": "python",
      "pygments_lexer": "ipython3",
      "version": "3.11.3"
    },
    "papermill": {
      "default_parameters": {},
      "duration": 3.174947,
      "end_time": "2023-06-01T21:50:31.150968",
      "environment_variables": {},
      "exception": null,
      "input_path": "./nbs/01_patched.ipynb",
      "output_path": "./nbs/01_patched.ipynb",
      "parameters": {},
      "start_time": "2023-06-01T21:50:27.976021",
      "version": "2.3.4"
    }
  },
  "nbformat": 4,
  "nbformat_minor": 5
}