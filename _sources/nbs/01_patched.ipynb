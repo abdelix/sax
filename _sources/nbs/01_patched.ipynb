{
  "cells": [
    {
      "cell_type": "code",
      "execution_count": 1,
      "id": "5e9481cfeb3e8924",
      "metadata": {
        "execution": {
          "iopub.execute_input": "2023-06-01T21:10:49.496657Z",
          "iopub.status.busy": "2023-06-01T21:10:49.496196Z",
          "iopub.status.idle": "2023-06-01T21:10:49.499189Z",
          "shell.execute_reply": "2023-06-01T21:10:49.498733Z"
        },
        "papermill": {
          "duration": 0.008545,
          "end_time": "2023-06-01T21:10:49.501320",
          "exception": false,
          "start_time": "2023-06-01T21:10:49.492775",
          "status": "completed"
        },
        "tags": [
          "remove-cell"
        ]
      },
      "outputs": [],
      "source": []
    },
    {
      "cell_type": "markdown",
      "id": "62619887-4d1d-4218-8259-9dbe991cfded",
      "metadata": {
        "papermill": {
          "duration": 0.002615,
          "end_time": "2023-06-01T21:10:49.505699",
          "exception": false,
          "start_time": "2023-06-01T21:10:49.503084",
          "status": "completed"
        },
        "tags": []
      },
      "source": [
        "# Patched\n",
        "\n",
        "> We patch some library and objects that don't belong to SAX. Don't worry, it's nothing substantial."
      ]
    },
    {
      "cell_type": "code",
      "execution_count": 2,
      "id": "66e7b12a7b345a65",
      "metadata": {
        "execution": {
          "iopub.execute_input": "2023-06-01T21:10:49.509502Z",
          "iopub.status.busy": "2023-06-01T21:10:49.509325Z",
          "iopub.status.idle": "2023-06-01T21:10:49.981572Z",
          "shell.execute_reply": "2023-06-01T21:10:49.981143Z"
        },
        "papermill": {
          "duration": 0.476195,
          "end_time": "2023-06-01T21:10:49.983419",
          "exception": false,
          "start_time": "2023-06-01T21:10:49.507224",
          "status": "completed"
        },
        "tags": [
          "remove-cell"
        ]
      },
      "outputs": [],
      "source": [
        "import matplotlib.pyplot as plt\n",
        "from fastcore.test import test_eq\n",
        "from pytest import approx, raises\n",
        "\n",
        "import os, sys; sys.stderr = open(os.devnull, \"w\")"
      ]
    },
    {
      "cell_type": "code",
      "execution_count": 3,
      "id": "bb1a7756781d6c08",
      "metadata": {
        "execution": {
          "iopub.execute_input": "2023-06-01T21:10:49.989228Z",
          "iopub.status.busy": "2023-06-01T21:10:49.988191Z",
          "iopub.status.idle": "2023-06-01T21:10:50.793337Z",
          "shell.execute_reply": "2023-06-01T21:10:50.792913Z"
        },
        "papermill": {
          "duration": 0.809855,
          "end_time": "2023-06-01T21:10:50.795109",
          "exception": false,
          "start_time": "2023-06-01T21:10:49.985254",
          "status": "completed"
        },
        "tags": [
          "hide-input"
        ]
      },
      "outputs": [],
      "source": [
        "from __future__ import annotations\n",
        "\n",
        "import re\n",
        "from textwrap import dedent\n",
        "\n",
        "from fastcore.basics import patch_to\n",
        "from sax.typing_ import is_complex_float, is_float\n",
        "\n",
        "try:\n",
        "    import jax.numpy as jnp\n",
        "    from flax.core import FrozenDict\n",
        "    from jaxlib.xla_extension import DeviceArray\n",
        "    JAX_AVAILABLE = True\n",
        "except (ImportError, ModuleNotFoundError):\n",
        "    import numpy as jnp\n",
        "    DeviceArray = jnp.ndarray\n",
        "    FrozenDict = dict\n",
        "    JAX_AVAILABLE = False"
      ]
    },
    {
      "cell_type": "markdown",
      "id": "e37bb974-621b-4fc2-b4a8-d3f51d4f72ad",
      "metadata": {
        "papermill": {
          "duration": 0.001586,
          "end_time": "2023-06-01T21:10:50.798518",
          "exception": false,
          "start_time": "2023-06-01T21:10:50.796932",
          "status": "completed"
        },
        "tags": []
      },
      "source": [
        "Paching `FrozenDict` to have the same repr as a normal dict:"
      ]
    },
    {
      "cell_type": "code",
      "execution_count": 4,
      "id": "1459580ff0424de5",
      "metadata": {
        "execution": {
          "iopub.execute_input": "2023-06-01T21:10:50.803353Z",
          "iopub.status.busy": "2023-06-01T21:10:50.802769Z",
          "iopub.status.idle": "2023-06-01T21:10:50.807478Z",
          "shell.execute_reply": "2023-06-01T21:10:50.807131Z"
        },
        "papermill": {
          "duration": 0.008648,
          "end_time": "2023-06-01T21:10:50.808794",
          "exception": false,
          "start_time": "2023-06-01T21:10:50.800146",
          "status": "completed"
        },
        "tags": [
          "remove-cell"
        ]
      },
      "outputs": [],
      "source": [
        "\n",
        "if JAX_AVAILABLE:\n",
        "    @patch_to(FrozenDict)\n",
        "    def __repr__(self):  # type: ignore\n",
        "        _dict = lambda d: dict(\n",
        "            {k: (v if not isinstance(v, self.__class__) else dict(v)) for k, v in d.items()}\n",
        "        )\n",
        "        return f\"{self.__class__.__name__}({dict.__repr__(_dict(self))})\""
      ]
    },
    {
      "cell_type": "markdown",
      "id": "4484b223-c22e-4537-8f90-df47ef31d086",
      "metadata": {
        "papermill": {
          "duration": 0.001494,
          "end_time": "2023-06-01T21:10:50.811829",
          "exception": false,
          "start_time": "2023-06-01T21:10:50.810335",
          "status": "completed"
        },
        "tags": []
      },
      "source": [
        "Patching `DeviceArray` to have less verbose reprs for 0-D arrays:"
      ]
    },
    {
      "cell_type": "code",
      "execution_count": 5,
      "id": "ae82664bee9a313a",
      "metadata": {
        "execution": {
          "iopub.execute_input": "2023-06-01T21:10:50.816014Z",
          "iopub.status.busy": "2023-06-01T21:10:50.815811Z",
          "iopub.status.idle": "2023-06-01T21:10:50.820829Z",
          "shell.execute_reply": "2023-06-01T21:10:50.820457Z"
        },
        "papermill": {
          "duration": 0.009218,
          "end_time": "2023-06-01T21:10:50.822567",
          "exception": false,
          "start_time": "2023-06-01T21:10:50.813349",
          "status": "completed"
        },
        "tags": [
          "remove-cell"
        ]
      },
      "outputs": [],
      "source": [
        "if JAX_AVAILABLE:\n",
        "    @patch_to(DeviceArray)\n",
        "    def __repr__(self):  # type: ignore\n",
        "        if self.ndim == 0 and is_float(self):\n",
        "            v = float(self)\n",
        "            return repr(round(v, 5)) if abs(v) > 1e-4 else repr(v)\n",
        "        elif self.ndim == 0 and is_complex_float(self):\n",
        "            r, i = float(self.real), float(self.imag)\n",
        "            r = round(r, 5) if abs(r) > 1e-4 else r\n",
        "            i = round(i, 5) if abs(i) > 1e-4 else i\n",
        "            s = repr(r + 1j * i)\n",
        "            if s[0] == \"(\" and s[-1] == \")\":\n",
        "                s = s[1:-1]\n",
        "            return s\n",
        "        else:\n",
        "            s = super(self.__class__, self).__repr__()\n",
        "            s = s.replace(\"DeviceArray(\", \"      array(\")\n",
        "            s = re.sub(r\", dtype=.*[,)]\", \"\", s)\n",
        "            s = re.sub(r\" weak_type=.*[,)]\", \"\", s)\n",
        "            return dedent(s)+\")\""
      ]
    },
    {
      "cell_type": "code",
      "execution_count": 6,
      "id": "5f6c14e4-723e-4ad9-9b20-fde3d7b7f86f",
      "metadata": {
        "execution": {
          "iopub.execute_input": "2023-06-01T21:10:50.826905Z",
          "iopub.status.busy": "2023-06-01T21:10:50.826680Z",
          "iopub.status.idle": "2023-06-01T21:10:50.831861Z",
          "shell.execute_reply": "2023-06-01T21:10:50.831501Z"
        },
        "papermill": {
          "duration": 0.010391,
          "end_time": "2023-06-01T21:10:50.834732",
          "exception": false,
          "start_time": "2023-06-01T21:10:50.824341",
          "status": "completed"
        },
        "tags": []
      },
      "outputs": [
        {
          "data": {
            "text/plain": [
              "array(3)"
            ]
          },
          "execution_count": 6,
          "metadata": {},
          "output_type": "execute_result"
        }
      ],
      "source": [
        "jnp.array(3)"
      ]
    },
    {
      "cell_type": "code",
      "execution_count": 7,
      "id": "02676641-cddd-4f70-8138-b4530dd318cd",
      "metadata": {
        "execution": {
          "iopub.execute_input": "2023-06-01T21:10:50.839238Z",
          "iopub.status.busy": "2023-06-01T21:10:50.839038Z",
          "iopub.status.idle": "2023-06-01T21:10:50.842528Z",
          "shell.execute_reply": "2023-06-01T21:10:50.842166Z"
        },
        "papermill": {
          "duration": 0.008337,
          "end_time": "2023-06-01T21:10:50.844886",
          "exception": false,
          "start_time": "2023-06-01T21:10:50.836549",
          "status": "completed"
        },
        "tags": []
      },
      "outputs": [
        {
          "data": {
            "text/plain": [
              "array([3, 4, 5])"
            ]
          },
          "execution_count": 7,
          "metadata": {},
          "output_type": "execute_result"
        }
      ],
      "source": [
        "jnp.array([3, 4, 5])"
      ]
    }
  ],
  "metadata": {
    "kernelspec": {
      "display_name": "sax",
      "language": "python",
      "name": "sax"
    },
    "language_info": {
      "codemirror_mode": {
        "name": "ipython",
        "version": 3
      },
      "file_extension": ".py",
      "mimetype": "text/x-python",
      "name": "python",
      "nbconvert_exporter": "python",
      "pygments_lexer": "ipython3",
      "version": "3.11.3"
    },
    "papermill": {
      "default_parameters": {},
      "duration": 3.252873,
      "end_time": "2023-06-01T21:10:51.472923",
      "environment_variables": {},
      "exception": null,
      "input_path": "./nbs/01_patched.ipynb",
      "output_path": "./nbs/01_patched.ipynb",
      "parameters": {},
      "start_time": "2023-06-01T21:10:48.220050",
      "version": "2.3.4"
    }
  },
  "nbformat": 4,
  "nbformat_minor": 5
}