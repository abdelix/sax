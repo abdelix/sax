{
  "cells": [
    {
      "cell_type": "code",
      "execution_count": 1,
      "id": "8915ec78c6c86c99",
      "metadata": {
        "execution": {
          "iopub.execute_input": "2023-09-01T16:52:03.583078Z",
          "iopub.status.busy": "2023-09-01T16:52:03.582446Z",
          "iopub.status.idle": "2023-09-01T16:52:03.585847Z",
          "shell.execute_reply": "2023-09-01T16:52:03.585356Z"
        },
        "papermill": {
          "duration": 0.008053,
          "end_time": "2023-09-01T16:52:03.587121",
          "exception": false,
          "start_time": "2023-09-01T16:52:03.579068",
          "status": "completed"
        },
        "tags": [
          "remove-cell"
        ]
      },
      "outputs": [],
      "source": []
    },
    {
      "cell_type": "markdown",
      "id": "62619887-4d1d-4218-8259-9dbe991cfded",
      "metadata": {
        "papermill": {
          "duration": 0.001846,
          "end_time": "2023-09-01T16:52:03.590808",
          "exception": false,
          "start_time": "2023-09-01T16:52:03.588962",
          "status": "completed"
        },
        "tags": []
      },
      "source": [
        "# Patched\n",
        "\n",
        "> We patch some library and objects that don't belong to SAX. Don't worry, it's nothing substantial."
      ]
    },
    {
      "cell_type": "code",
      "execution_count": 2,
      "id": "caf164aa6af28d8f",
      "metadata": {
        "execution": {
          "iopub.execute_input": "2023-09-01T16:52:03.594935Z",
          "iopub.status.busy": "2023-09-01T16:52:03.594538Z",
          "iopub.status.idle": "2023-09-01T16:52:04.014487Z",
          "shell.execute_reply": "2023-09-01T16:52:04.014006Z"
        },
        "papermill": {
          "duration": 0.423739,
          "end_time": "2023-09-01T16:52:04.016039",
          "exception": false,
          "start_time": "2023-09-01T16:52:03.592300",
          "status": "completed"
        },
        "tags": [
          "remove-cell"
        ]
      },
      "outputs": [],
      "source": [
        "import matplotlib.pyplot as plt\n",
        "from fastcore.test import test_eq\n",
        "from pytest import approx, raises\n",
        "\n",
        "import os, sys; sys.stderr = open(os.devnull, \"w\")"
      ]
    },
    {
      "cell_type": "code",
      "execution_count": 3,
      "id": "2daa82c82f3a56d7",
      "metadata": {
        "execution": {
          "iopub.execute_input": "2023-09-01T16:52:04.021223Z",
          "iopub.status.busy": "2023-09-01T16:52:04.020740Z",
          "iopub.status.idle": "2023-09-01T16:52:04.787112Z",
          "shell.execute_reply": "2023-09-01T16:52:04.786659Z"
        },
        "papermill": {
          "duration": 0.770707,
          "end_time": "2023-09-01T16:52:04.788645",
          "exception": false,
          "start_time": "2023-09-01T16:52:04.017938",
          "status": "completed"
        },
        "tags": [
          "hide-input"
        ]
      },
      "outputs": [],
      "source": [
        "from __future__ import annotations\n",
        "\n",
        "import re\n",
        "from textwrap import dedent\n",
        "\n",
        "from fastcore.basics import patch_to\n",
        "from sax.typing_ import is_complex_float, is_float\n",
        "\n",
        "try:\n",
        "    import jax.numpy as jnp\n",
        "    from flax.core import FrozenDict\n",
        "    from jaxlib.xla_extension import DeviceArray\n",
        "    JAX_AVAILABLE = True\n",
        "except (ImportError, ModuleNotFoundError):\n",
        "    import numpy as jnp\n",
        "    DeviceArray = jnp.ndarray\n",
        "    FrozenDict = dict\n",
        "    JAX_AVAILABLE = False"
      ]
    },
    {
      "cell_type": "markdown",
      "id": "e37bb974-621b-4fc2-b4a8-d3f51d4f72ad",
      "metadata": {
        "papermill": {
          "duration": 0.001959,
          "end_time": "2023-09-01T16:52:04.792482",
          "exception": false,
          "start_time": "2023-09-01T16:52:04.790523",
          "status": "completed"
        },
        "tags": []
      },
      "source": [
        "Paching `FrozenDict` to have the same repr as a normal dict:"
      ]
    },
    {
      "cell_type": "code",
      "execution_count": 4,
      "id": "4d6fae30ea507476",
      "metadata": {
        "execution": {
          "iopub.execute_input": "2023-09-01T16:52:04.797321Z",
          "iopub.status.busy": "2023-09-01T16:52:04.796542Z",
          "iopub.status.idle": "2023-09-01T16:52:04.800424Z",
          "shell.execute_reply": "2023-09-01T16:52:04.800054Z"
        },
        "papermill": {
          "duration": 0.007568,
          "end_time": "2023-09-01T16:52:04.801632",
          "exception": false,
          "start_time": "2023-09-01T16:52:04.794064",
          "status": "completed"
        },
        "tags": [
          "remove-cell"
        ]
      },
      "outputs": [],
      "source": [
        "\n",
        "if JAX_AVAILABLE:\n",
        "    @patch_to(FrozenDict)\n",
        "    def __repr__(self):  # type: ignore\n",
        "        _dict = lambda d: dict(\n",
        "            {k: (v if not isinstance(v, self.__class__) else dict(v)) for k, v in d.items()}\n",
        "        )\n",
        "        return f\"{self.__class__.__name__}({dict.__repr__(_dict(self))})\""
      ]
    },
    {
      "cell_type": "markdown",
      "id": "4484b223-c22e-4537-8f90-df47ef31d086",
      "metadata": {
        "papermill": {
          "duration": 0.001568,
          "end_time": "2023-09-01T16:52:04.804846",
          "exception": false,
          "start_time": "2023-09-01T16:52:04.803278",
          "status": "completed"
        },
        "tags": []
      },
      "source": [
        "Patching `DeviceArray` to have less verbose reprs for 0-D arrays:"
      ]
    },
    {
      "cell_type": "code",
      "execution_count": 5,
      "id": "9c38559e7cf8da38",
      "metadata": {
        "execution": {
          "iopub.execute_input": "2023-09-01T16:52:04.809284Z",
          "iopub.status.busy": "2023-09-01T16:52:04.808824Z",
          "iopub.status.idle": "2023-09-01T16:52:04.814694Z",
          "shell.execute_reply": "2023-09-01T16:52:04.814238Z"
        },
        "papermill": {
          "duration": 0.009489,
          "end_time": "2023-09-01T16:52:04.815986",
          "exception": false,
          "start_time": "2023-09-01T16:52:04.806497",
          "status": "completed"
        },
        "tags": [
          "remove-cell"
        ]
      },
      "outputs": [],
      "source": [
        "if JAX_AVAILABLE:\n",
        "    @patch_to(DeviceArray)\n",
        "    def __repr__(self):  # type: ignore\n",
        "        if self.ndim == 0 and is_float(self):\n",
        "            v = float(self)\n",
        "            return repr(round(v, 5)) if abs(v) > 1e-4 else repr(v)\n",
        "        elif self.ndim == 0 and is_complex_float(self):\n",
        "            r, i = float(self.real), float(self.imag)\n",
        "            r = round(r, 5) if abs(r) > 1e-4 else r\n",
        "            i = round(i, 5) if abs(i) > 1e-4 else i\n",
        "            s = repr(r + 1j * i)\n",
        "            if s[0] == \"(\" and s[-1] == \")\":\n",
        "                s = s[1:-1]\n",
        "            return s\n",
        "        else:\n",
        "            s = super(self.__class__, self).__repr__()\n",
        "            s = s.replace(\"DeviceArray(\", \"      array(\")\n",
        "            s = re.sub(r\", dtype=.*[,)]\", \"\", s)\n",
        "            s = re.sub(r\" weak_type=.*[,)]\", \"\", s)\n",
        "            return dedent(s)+\")\""
      ]
    },
    {
      "cell_type": "code",
      "execution_count": 6,
      "id": "5f6c14e4-723e-4ad9-9b20-fde3d7b7f86f",
      "metadata": {
        "execution": {
          "iopub.execute_input": "2023-09-01T16:52:04.820333Z",
          "iopub.status.busy": "2023-09-01T16:52:04.820043Z",
          "iopub.status.idle": "2023-09-01T16:52:04.825224Z",
          "shell.execute_reply": "2023-09-01T16:52:04.824816Z"
        },
        "papermill": {
          "duration": 0.009609,
          "end_time": "2023-09-01T16:52:04.827291",
          "exception": false,
          "start_time": "2023-09-01T16:52:04.817682",
          "status": "completed"
        },
        "tags": []
      },
      "outputs": [
        {
          "data": {
            "text/plain": [
              "array(3)"
            ]
          },
          "execution_count": 6,
          "metadata": {},
          "output_type": "execute_result"
        }
      ],
      "source": [
        "jnp.array(3)"
      ]
    },
    {
      "cell_type": "code",
      "execution_count": 7,
      "id": "02676641-cddd-4f70-8138-b4530dd318cd",
      "metadata": {
        "execution": {
          "iopub.execute_input": "2023-09-01T16:52:04.831854Z",
          "iopub.status.busy": "2023-09-01T16:52:04.831563Z",
          "iopub.status.idle": "2023-09-01T16:52:04.835005Z",
          "shell.execute_reply": "2023-09-01T16:52:04.834619Z"
        },
        "papermill": {
          "duration": 0.007443,
          "end_time": "2023-09-01T16:52:04.836568",
          "exception": false,
          "start_time": "2023-09-01T16:52:04.829125",
          "status": "completed"
        },
        "tags": []
      },
      "outputs": [
        {
          "data": {
            "text/plain": [
              "array([3, 4, 5])"
            ]
          },
          "execution_count": 7,
          "metadata": {},
          "output_type": "execute_result"
        }
      ],
      "source": [
        "jnp.array([3, 4, 5])"
      ]
    }
  ],
  "metadata": {
    "kernelspec": {
      "display_name": "sax",
      "language": "python",
      "name": "sax"
    },
    "language_info": {
      "codemirror_mode": {
        "name": "ipython",
        "version": 3
      },
      "file_extension": ".py",
      "mimetype": "text/x-python",
      "name": "python",
      "nbconvert_exporter": "python",
      "pygments_lexer": "ipython3",
      "version": "3.11.5"
    },
    "papermill": {
      "default_parameters": {},
      "duration": 2.996008,
      "end_time": "2023-09-01T16:52:05.256323",
      "environment_variables": {},
      "exception": null,
      "input_path": "./nbs/01_patched.ipynb",
      "output_path": "./nbs/01_patched.ipynb",
      "parameters": {},
      "start_time": "2023-09-01T16:52:02.260315",
      "version": "2.4.0"
    }
  },
  "nbformat": 4,
  "nbformat_minor": 5
}