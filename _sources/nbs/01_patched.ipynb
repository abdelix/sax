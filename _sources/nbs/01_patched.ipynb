{
  "cells": [
    {
      "cell_type": "code",
      "execution_count": 1,
      "id": "e7b36ad6de78087b",
      "metadata": {
        "execution": {
          "iopub.execute_input": "2023-09-01T18:13:36.296095Z",
          "iopub.status.busy": "2023-09-01T18:13:36.295553Z",
          "iopub.status.idle": "2023-09-01T18:13:36.298754Z",
          "shell.execute_reply": "2023-09-01T18:13:36.298207Z"
        },
        "papermill": {
          "duration": 0.007776,
          "end_time": "2023-09-01T18:13:36.299972",
          "exception": false,
          "start_time": "2023-09-01T18:13:36.292196",
          "status": "completed"
        },
        "tags": [
          "remove-cell"
        ]
      },
      "outputs": [],
      "source": []
    },
    {
      "cell_type": "markdown",
      "id": "62619887-4d1d-4218-8259-9dbe991cfded",
      "metadata": {
        "papermill": {
          "duration": 0.001687,
          "end_time": "2023-09-01T18:13:36.303483",
          "exception": false,
          "start_time": "2023-09-01T18:13:36.301796",
          "status": "completed"
        },
        "tags": []
      },
      "source": [
        "# Patched\n",
        "\n",
        "> We patch some library and objects that don't belong to SAX. Don't worry, it's nothing substantial."
      ]
    },
    {
      "cell_type": "code",
      "execution_count": 2,
      "id": "1ec86898250a379a",
      "metadata": {
        "execution": {
          "iopub.execute_input": "2023-09-01T18:13:36.307685Z",
          "iopub.status.busy": "2023-09-01T18:13:36.307225Z",
          "iopub.status.idle": "2023-09-01T18:13:36.731055Z",
          "shell.execute_reply": "2023-09-01T18:13:36.730568Z"
        },
        "papermill": {
          "duration": 0.427911,
          "end_time": "2023-09-01T18:13:36.732913",
          "exception": false,
          "start_time": "2023-09-01T18:13:36.305002",
          "status": "completed"
        },
        "tags": [
          "remove-cell"
        ]
      },
      "outputs": [],
      "source": [
        "import matplotlib.pyplot as plt\n",
        "from fastcore.test import test_eq\n",
        "from pytest import approx, raises\n",
        "\n",
        "import os, sys; sys.stderr = open(os.devnull, \"w\")"
      ]
    },
    {
      "cell_type": "code",
      "execution_count": 3,
      "id": "aba17071add17fed",
      "metadata": {
        "execution": {
          "iopub.execute_input": "2023-09-01T18:13:36.738042Z",
          "iopub.status.busy": "2023-09-01T18:13:36.737552Z",
          "iopub.status.idle": "2023-09-01T18:13:37.513629Z",
          "shell.execute_reply": "2023-09-01T18:13:37.513179Z"
        },
        "papermill": {
          "duration": 0.780436,
          "end_time": "2023-09-01T18:13:37.515275",
          "exception": false,
          "start_time": "2023-09-01T18:13:36.734839",
          "status": "completed"
        },
        "tags": [
          "hide-input"
        ]
      },
      "outputs": [],
      "source": [
        "from __future__ import annotations\n",
        "\n",
        "import re\n",
        "from textwrap import dedent\n",
        "\n",
        "from fastcore.basics import patch_to\n",
        "from sax.typing_ import is_complex_float, is_float\n",
        "\n",
        "try:\n",
        "    import jax.numpy as jnp\n",
        "    from flax.core import FrozenDict\n",
        "    from jaxlib.xla_extension import DeviceArray\n",
        "    JAX_AVAILABLE = True\n",
        "except (ImportError, ModuleNotFoundError):\n",
        "    import numpy as jnp\n",
        "    DeviceArray = jnp.ndarray\n",
        "    FrozenDict = dict\n",
        "    JAX_AVAILABLE = False"
      ]
    },
    {
      "cell_type": "markdown",
      "id": "e37bb974-621b-4fc2-b4a8-d3f51d4f72ad",
      "metadata": {
        "papermill": {
          "duration": 0.001799,
          "end_time": "2023-09-01T18:13:37.518952",
          "exception": false,
          "start_time": "2023-09-01T18:13:37.517153",
          "status": "completed"
        },
        "tags": []
      },
      "source": [
        "Paching `FrozenDict` to have the same repr as a normal dict:"
      ]
    },
    {
      "cell_type": "code",
      "execution_count": 4,
      "id": "12d57fac7c1ca2ce",
      "metadata": {
        "execution": {
          "iopub.execute_input": "2023-09-01T18:13:37.523649Z",
          "iopub.status.busy": "2023-09-01T18:13:37.522978Z",
          "iopub.status.idle": "2023-09-01T18:13:37.526667Z",
          "shell.execute_reply": "2023-09-01T18:13:37.526324Z"
        },
        "papermill": {
          "duration": 0.007303,
          "end_time": "2023-09-01T18:13:37.527785",
          "exception": false,
          "start_time": "2023-09-01T18:13:37.520482",
          "status": "completed"
        },
        "tags": [
          "remove-cell"
        ]
      },
      "outputs": [],
      "source": [
        "\n",
        "if JAX_AVAILABLE:\n",
        "    @patch_to(FrozenDict)\n",
        "    def __repr__(self):  # type: ignore\n",
        "        _dict = lambda d: dict(\n",
        "            {k: (v if not isinstance(v, self.__class__) else dict(v)) for k, v in d.items()}\n",
        "        )\n",
        "        return f\"{self.__class__.__name__}({dict.__repr__(_dict(self))})\""
      ]
    },
    {
      "cell_type": "markdown",
      "id": "4484b223-c22e-4537-8f90-df47ef31d086",
      "metadata": {
        "papermill": {
          "duration": 0.001545,
          "end_time": "2023-09-01T18:13:37.530966",
          "exception": false,
          "start_time": "2023-09-01T18:13:37.529421",
          "status": "completed"
        },
        "tags": []
      },
      "source": [
        "Patching `DeviceArray` to have less verbose reprs for 0-D arrays:"
      ]
    },
    {
      "cell_type": "code",
      "execution_count": 5,
      "id": "21f6d76b6e30de31",
      "metadata": {
        "execution": {
          "iopub.execute_input": "2023-09-01T18:13:37.535285Z",
          "iopub.status.busy": "2023-09-01T18:13:37.534898Z",
          "iopub.status.idle": "2023-09-01T18:13:37.541146Z",
          "shell.execute_reply": "2023-09-01T18:13:37.540702Z"
        },
        "papermill": {
          "duration": 0.009803,
          "end_time": "2023-09-01T18:13:37.542396",
          "exception": false,
          "start_time": "2023-09-01T18:13:37.532593",
          "status": "completed"
        },
        "tags": [
          "remove-cell"
        ]
      },
      "outputs": [],
      "source": [
        "if JAX_AVAILABLE:\n",
        "    @patch_to(DeviceArray)\n",
        "    def __repr__(self):  # type: ignore\n",
        "        if self.ndim == 0 and is_float(self):\n",
        "            v = float(self)\n",
        "            return repr(round(v, 5)) if abs(v) > 1e-4 else repr(v)\n",
        "        elif self.ndim == 0 and is_complex_float(self):\n",
        "            r, i = float(self.real), float(self.imag)\n",
        "            r = round(r, 5) if abs(r) > 1e-4 else r\n",
        "            i = round(i, 5) if abs(i) > 1e-4 else i\n",
        "            s = repr(r + 1j * i)\n",
        "            if s[0] == \"(\" and s[-1] == \")\":\n",
        "                s = s[1:-1]\n",
        "            return s\n",
        "        else:\n",
        "            s = super(self.__class__, self).__repr__()\n",
        "            s = s.replace(\"DeviceArray(\", \"      array(\")\n",
        "            s = re.sub(r\", dtype=.*[,)]\", \"\", s)\n",
        "            s = re.sub(r\" weak_type=.*[,)]\", \"\", s)\n",
        "            return dedent(s)+\")\""
      ]
    },
    {
      "cell_type": "code",
      "execution_count": 6,
      "id": "5f6c14e4-723e-4ad9-9b20-fde3d7b7f86f",
      "metadata": {
        "execution": {
          "iopub.execute_input": "2023-09-01T18:13:37.546898Z",
          "iopub.status.busy": "2023-09-01T18:13:37.546440Z",
          "iopub.status.idle": "2023-09-01T18:13:37.551639Z",
          "shell.execute_reply": "2023-09-01T18:13:37.551236Z"
        },
        "papermill": {
          "duration": 0.009738,
          "end_time": "2023-09-01T18:13:37.553850",
          "exception": false,
          "start_time": "2023-09-01T18:13:37.544112",
          "status": "completed"
        },
        "tags": []
      },
      "outputs": [
        {
          "data": {
            "text/plain": [
              "array(3)"
            ]
          },
          "execution_count": 6,
          "metadata": {},
          "output_type": "execute_result"
        }
      ],
      "source": [
        "jnp.array(3)"
      ]
    },
    {
      "cell_type": "code",
      "execution_count": 7,
      "id": "02676641-cddd-4f70-8138-b4530dd318cd",
      "metadata": {
        "execution": {
          "iopub.execute_input": "2023-09-01T18:13:37.558547Z",
          "iopub.status.busy": "2023-09-01T18:13:37.558109Z",
          "iopub.status.idle": "2023-09-01T18:13:37.561570Z",
          "shell.execute_reply": "2023-09-01T18:13:37.561189Z"
        },
        "papermill": {
          "duration": 0.007598,
          "end_time": "2023-09-01T18:13:37.563306",
          "exception": false,
          "start_time": "2023-09-01T18:13:37.555708",
          "status": "completed"
        },
        "tags": []
      },
      "outputs": [
        {
          "data": {
            "text/plain": [
              "array([3, 4, 5])"
            ]
          },
          "execution_count": 7,
          "metadata": {},
          "output_type": "execute_result"
        }
      ],
      "source": [
        "jnp.array([3, 4, 5])"
      ]
    }
  ],
  "metadata": {
    "kernelspec": {
      "display_name": "sax",
      "language": "python",
      "name": "sax"
    },
    "language_info": {
      "codemirror_mode": {
        "name": "ipython",
        "version": 3
      },
      "file_extension": ".py",
      "mimetype": "text/x-python",
      "name": "python",
      "nbconvert_exporter": "python",
      "pygments_lexer": "ipython3",
      "version": "3.11.5"
    },
    "papermill": {
      "default_parameters": {},
      "duration": 3.107379,
      "end_time": "2023-09-01T18:13:38.084272",
      "environment_variables": {},
      "exception": null,
      "input_path": "./nbs/01_patched.ipynb",
      "output_path": "./nbs/01_patched.ipynb",
      "parameters": {},
      "start_time": "2023-09-01T18:13:34.976893",
      "version": "2.4.0"
    }
  },
  "nbformat": 4,
  "nbformat_minor": 5
}