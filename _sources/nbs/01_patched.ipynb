{
  "cells": [
    {
      "cell_type": "code",
      "execution_count": 1,
      "id": "9c774c6900eb39a6",
      "metadata": {
        "execution": {
          "iopub.execute_input": "2023-07-01T03:32:32.800253Z",
          "iopub.status.busy": "2023-07-01T03:32:32.800023Z",
          "iopub.status.idle": "2023-07-01T03:32:32.805723Z",
          "shell.execute_reply": "2023-07-01T03:32:32.805234Z"
        },
        "papermill": {
          "duration": 0.010116,
          "end_time": "2023-07-01T03:32:32.807163",
          "exception": false,
          "start_time": "2023-07-01T03:32:32.797047",
          "status": "completed"
        },
        "tags": [
          "remove-cell"
        ]
      },
      "outputs": [],
      "source": []
    },
    {
      "cell_type": "markdown",
      "id": "62619887-4d1d-4218-8259-9dbe991cfded",
      "metadata": {
        "papermill": {
          "duration": 0.001556,
          "end_time": "2023-07-01T03:32:32.810665",
          "exception": false,
          "start_time": "2023-07-01T03:32:32.809109",
          "status": "completed"
        },
        "tags": []
      },
      "source": [
        "# Patched\n",
        "\n",
        "> We patch some library and objects that don't belong to SAX. Don't worry, it's nothing substantial."
      ]
    },
    {
      "cell_type": "code",
      "execution_count": 2,
      "id": "28146c503f99aa7e",
      "metadata": {
        "execution": {
          "iopub.execute_input": "2023-07-01T03:32:32.814791Z",
          "iopub.status.busy": "2023-07-01T03:32:32.814434Z",
          "iopub.status.idle": "2023-07-01T03:32:33.502397Z",
          "shell.execute_reply": "2023-07-01T03:32:33.501910Z"
        },
        "papermill": {
          "duration": 0.691831,
          "end_time": "2023-07-01T03:32:33.503972",
          "exception": false,
          "start_time": "2023-07-01T03:32:32.812141",
          "status": "completed"
        },
        "tags": [
          "remove-cell"
        ]
      },
      "outputs": [],
      "source": [
        "import matplotlib.pyplot as plt\n",
        "from fastcore.test import test_eq\n",
        "from pytest import approx, raises\n",
        "\n",
        "import os, sys; sys.stderr = open(os.devnull, \"w\")"
      ]
    },
    {
      "cell_type": "code",
      "execution_count": 3,
      "id": "1e97012c0236ef45",
      "metadata": {
        "execution": {
          "iopub.execute_input": "2023-07-01T03:32:33.508535Z",
          "iopub.status.busy": "2023-07-01T03:32:33.508201Z",
          "iopub.status.idle": "2023-07-01T03:32:34.425078Z",
          "shell.execute_reply": "2023-07-01T03:32:34.424630Z"
        },
        "papermill": {
          "duration": 0.920918,
          "end_time": "2023-07-01T03:32:34.426750",
          "exception": false,
          "start_time": "2023-07-01T03:32:33.505832",
          "status": "completed"
        },
        "tags": [
          "hide-input"
        ]
      },
      "outputs": [],
      "source": [
        "from __future__ import annotations\n",
        "\n",
        "import re\n",
        "from textwrap import dedent\n",
        "\n",
        "from fastcore.basics import patch_to\n",
        "from sax.typing_ import is_complex_float, is_float\n",
        "\n",
        "try:\n",
        "    import jax.numpy as jnp\n",
        "    from flax.core import FrozenDict\n",
        "    from jaxlib.xla_extension import DeviceArray\n",
        "    JAX_AVAILABLE = True\n",
        "except (ImportError, ModuleNotFoundError):\n",
        "    import numpy as jnp\n",
        "    DeviceArray = jnp.ndarray\n",
        "    FrozenDict = dict\n",
        "    JAX_AVAILABLE = False"
      ]
    },
    {
      "cell_type": "markdown",
      "id": "e37bb974-621b-4fc2-b4a8-d3f51d4f72ad",
      "metadata": {
        "papermill": {
          "duration": 0.00162,
          "end_time": "2023-07-01T03:32:34.430204",
          "exception": false,
          "start_time": "2023-07-01T03:32:34.428584",
          "status": "completed"
        },
        "tags": []
      },
      "source": [
        "Paching `FrozenDict` to have the same repr as a normal dict:"
      ]
    },
    {
      "cell_type": "code",
      "execution_count": 4,
      "id": "d689dcfc6c4916dc",
      "metadata": {
        "execution": {
          "iopub.execute_input": "2023-07-01T03:32:34.434963Z",
          "iopub.status.busy": "2023-07-01T03:32:34.434456Z",
          "iopub.status.idle": "2023-07-01T03:32:34.438698Z",
          "shell.execute_reply": "2023-07-01T03:32:34.438317Z"
        },
        "papermill": {
          "duration": 0.009471,
          "end_time": "2023-07-01T03:32:34.441513",
          "exception": false,
          "start_time": "2023-07-01T03:32:34.432042",
          "status": "completed"
        },
        "tags": [
          "remove-cell"
        ]
      },
      "outputs": [],
      "source": [
        "\n",
        "if JAX_AVAILABLE:\n",
        "    @patch_to(FrozenDict)\n",
        "    def __repr__(self):  # type: ignore\n",
        "        _dict = lambda d: dict(\n",
        "            {k: (v if not isinstance(v, self.__class__) else dict(v)) for k, v in d.items()}\n",
        "        )\n",
        "        return f\"{self.__class__.__name__}({dict.__repr__(_dict(self))})\""
      ]
    },
    {
      "cell_type": "markdown",
      "id": "4484b223-c22e-4537-8f90-df47ef31d086",
      "metadata": {
        "papermill": {
          "duration": 0.001518,
          "end_time": "2023-07-01T03:32:34.444640",
          "exception": false,
          "start_time": "2023-07-01T03:32:34.443122",
          "status": "completed"
        },
        "tags": []
      },
      "source": [
        "Patching `DeviceArray` to have less verbose reprs for 0-D arrays:"
      ]
    },
    {
      "cell_type": "code",
      "execution_count": 5,
      "id": "bd2228960bc4a0cb",
      "metadata": {
        "execution": {
          "iopub.execute_input": "2023-07-01T03:32:34.453985Z",
          "iopub.status.busy": "2023-07-01T03:32:34.453789Z",
          "iopub.status.idle": "2023-07-01T03:32:34.458684Z",
          "shell.execute_reply": "2023-07-01T03:32:34.458320Z"
        },
        "papermill": {
          "duration": 0.016226,
          "end_time": "2023-07-01T03:32:34.462417",
          "exception": false,
          "start_time": "2023-07-01T03:32:34.446191",
          "status": "completed"
        },
        "tags": [
          "remove-cell"
        ]
      },
      "outputs": [],
      "source": [
        "if JAX_AVAILABLE:\n",
        "    @patch_to(DeviceArray)\n",
        "    def __repr__(self):  # type: ignore\n",
        "        if self.ndim == 0 and is_float(self):\n",
        "            v = float(self)\n",
        "            return repr(round(v, 5)) if abs(v) > 1e-4 else repr(v)\n",
        "        elif self.ndim == 0 and is_complex_float(self):\n",
        "            r, i = float(self.real), float(self.imag)\n",
        "            r = round(r, 5) if abs(r) > 1e-4 else r\n",
        "            i = round(i, 5) if abs(i) > 1e-4 else i\n",
        "            s = repr(r + 1j * i)\n",
        "            if s[0] == \"(\" and s[-1] == \")\":\n",
        "                s = s[1:-1]\n",
        "            return s\n",
        "        else:\n",
        "            s = super(self.__class__, self).__repr__()\n",
        "            s = s.replace(\"DeviceArray(\", \"      array(\")\n",
        "            s = re.sub(r\", dtype=.*[,)]\", \"\", s)\n",
        "            s = re.sub(r\" weak_type=.*[,)]\", \"\", s)\n",
        "            return dedent(s)+\")\""
      ]
    },
    {
      "cell_type": "code",
      "execution_count": 6,
      "id": "5f6c14e4-723e-4ad9-9b20-fde3d7b7f86f",
      "metadata": {
        "execution": {
          "iopub.execute_input": "2023-07-01T03:32:34.466792Z",
          "iopub.status.busy": "2023-07-01T03:32:34.466449Z",
          "iopub.status.idle": "2023-07-01T03:32:34.471627Z",
          "shell.execute_reply": "2023-07-01T03:32:34.471275Z"
        },
        "papermill": {
          "duration": 0.014876,
          "end_time": "2023-07-01T03:32:34.478974",
          "exception": false,
          "start_time": "2023-07-01T03:32:34.464098",
          "status": "completed"
        },
        "tags": []
      },
      "outputs": [
        {
          "data": {
            "text/plain": [
              "array(3)"
            ]
          },
          "execution_count": 6,
          "metadata": {},
          "output_type": "execute_result"
        }
      ],
      "source": [
        "jnp.array(3)"
      ]
    },
    {
      "cell_type": "code",
      "execution_count": 7,
      "id": "02676641-cddd-4f70-8138-b4530dd318cd",
      "metadata": {
        "execution": {
          "iopub.execute_input": "2023-07-01T03:32:34.489195Z",
          "iopub.status.busy": "2023-07-01T03:32:34.489015Z",
          "iopub.status.idle": "2023-07-01T03:32:34.492271Z",
          "shell.execute_reply": "2023-07-01T03:32:34.491932Z"
        },
        "papermill": {
          "duration": 0.014291,
          "end_time": "2023-07-01T03:32:34.495027",
          "exception": false,
          "start_time": "2023-07-01T03:32:34.480736",
          "status": "completed"
        },
        "tags": []
      },
      "outputs": [
        {
          "data": {
            "text/plain": [
              "array([3, 4, 5])"
            ]
          },
          "execution_count": 7,
          "metadata": {},
          "output_type": "execute_result"
        }
      ],
      "source": [
        "jnp.array([3, 4, 5])"
      ]
    }
  ],
  "metadata": {
    "kernelspec": {
      "display_name": "sax",
      "language": "python",
      "name": "sax"
    },
    "language_info": {
      "codemirror_mode": {
        "name": "ipython",
        "version": 3
      },
      "file_extension": ".py",
      "mimetype": "text/x-python",
      "name": "python",
      "nbconvert_exporter": "python",
      "pygments_lexer": "ipython3",
      "version": "3.11.4"
    },
    "papermill": {
      "default_parameters": {},
      "duration": 3.739048,
      "end_time": "2023-07-01T03:32:35.029673",
      "environment_variables": {},
      "exception": null,
      "input_path": "./nbs/01_patched.ipynb",
      "output_path": "./nbs/01_patched.ipynb",
      "parameters": {},
      "start_time": "2023-07-01T03:32:31.290625",
      "version": "2.3.4"
    }
  },
  "nbformat": 4,
  "nbformat_minor": 5
}