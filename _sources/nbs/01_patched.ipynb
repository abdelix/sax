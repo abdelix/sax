{
  "cells": [
    {
      "cell_type": "code",
      "execution_count": 1,
      "id": "5278b9f7215a1874",
      "metadata": {
        "execution": {
          "iopub.execute_input": "2023-09-02T18:52:40.106018Z",
          "iopub.status.busy": "2023-09-02T18:52:40.105300Z",
          "iopub.status.idle": "2023-09-02T18:52:40.108941Z",
          "shell.execute_reply": "2023-09-02T18:52:40.108352Z"
        },
        "papermill": {
          "duration": 0.009001,
          "end_time": "2023-09-02T18:52:40.110238",
          "exception": false,
          "start_time": "2023-09-02T18:52:40.101237",
          "status": "completed"
        },
        "tags": [
          "remove-cell"
        ]
      },
      "outputs": [],
      "source": []
    },
    {
      "cell_type": "markdown",
      "id": "62619887-4d1d-4218-8259-9dbe991cfded",
      "metadata": {
        "papermill": {
          "duration": 0.001811,
          "end_time": "2023-09-02T18:52:40.113928",
          "exception": false,
          "start_time": "2023-09-02T18:52:40.112117",
          "status": "completed"
        },
        "tags": []
      },
      "source": [
        "# Patched\n",
        "\n",
        "> We patch some library and objects that don't belong to SAX. Don't worry, it's nothing substantial."
      ]
    },
    {
      "cell_type": "code",
      "execution_count": 2,
      "id": "eeb8fd14a7af949a",
      "metadata": {
        "execution": {
          "iopub.execute_input": "2023-09-02T18:52:40.118183Z",
          "iopub.status.busy": "2023-09-02T18:52:40.117687Z",
          "iopub.status.idle": "2023-09-02T18:52:40.551231Z",
          "shell.execute_reply": "2023-09-02T18:52:40.550728Z"
        },
        "papermill": {
          "duration": 0.437533,
          "end_time": "2023-09-02T18:52:40.552982",
          "exception": false,
          "start_time": "2023-09-02T18:52:40.115449",
          "status": "completed"
        },
        "tags": [
          "remove-cell"
        ]
      },
      "outputs": [],
      "source": [
        "import matplotlib.pyplot as plt\n",
        "from fastcore.test import test_eq\n",
        "from pytest import approx, raises\n",
        "\n",
        "import os, sys; sys.stderr = open(os.devnull, \"w\")"
      ]
    },
    {
      "cell_type": "code",
      "execution_count": 3,
      "id": "592f85f63159051b",
      "metadata": {
        "execution": {
          "iopub.execute_input": "2023-09-02T18:52:40.558843Z",
          "iopub.status.busy": "2023-09-02T18:52:40.558404Z",
          "iopub.status.idle": "2023-09-02T18:52:41.348468Z",
          "shell.execute_reply": "2023-09-02T18:52:41.347986Z"
        },
        "papermill": {
          "duration": 0.79511,
          "end_time": "2023-09-02T18:52:41.350251",
          "exception": false,
          "start_time": "2023-09-02T18:52:40.555141",
          "status": "completed"
        },
        "tags": [
          "hide-input"
        ]
      },
      "outputs": [],
      "source": [
        "from __future__ import annotations\n",
        "\n",
        "import re\n",
        "from textwrap import dedent\n",
        "\n",
        "from fastcore.basics import patch_to\n",
        "from sax.typing_ import is_complex_float, is_float\n",
        "\n",
        "try:\n",
        "    import jax.numpy as jnp\n",
        "    from flax.core import FrozenDict\n",
        "    from jaxlib.xla_extension import DeviceArray\n",
        "    JAX_AVAILABLE = True\n",
        "except (ImportError, ModuleNotFoundError):\n",
        "    import numpy as jnp\n",
        "    DeviceArray = jnp.ndarray\n",
        "    FrozenDict = dict\n",
        "    JAX_AVAILABLE = False"
      ]
    },
    {
      "cell_type": "markdown",
      "id": "e37bb974-621b-4fc2-b4a8-d3f51d4f72ad",
      "metadata": {
        "papermill": {
          "duration": 0.002253,
          "end_time": "2023-09-02T18:52:41.354450",
          "exception": false,
          "start_time": "2023-09-02T18:52:41.352197",
          "status": "completed"
        },
        "tags": []
      },
      "source": [
        "Paching `FrozenDict` to have the same repr as a normal dict:"
      ]
    },
    {
      "cell_type": "code",
      "execution_count": 4,
      "id": "dabcd1502c1c8d20",
      "metadata": {
        "execution": {
          "iopub.execute_input": "2023-09-02T18:52:41.358974Z",
          "iopub.status.busy": "2023-09-02T18:52:41.358441Z",
          "iopub.status.idle": "2023-09-02T18:52:41.361972Z",
          "shell.execute_reply": "2023-09-02T18:52:41.361553Z"
        },
        "papermill": {
          "duration": 0.00741,
          "end_time": "2023-09-02T18:52:41.363447",
          "exception": false,
          "start_time": "2023-09-02T18:52:41.356037",
          "status": "completed"
        },
        "tags": [
          "remove-cell"
        ]
      },
      "outputs": [],
      "source": [
        "\n",
        "if JAX_AVAILABLE:\n",
        "    @patch_to(FrozenDict)\n",
        "    def __repr__(self):  # type: ignore\n",
        "        _dict = lambda d: dict(\n",
        "            {k: (v if not isinstance(v, self.__class__) else dict(v)) for k, v in d.items()}\n",
        "        )\n",
        "        return f\"{self.__class__.__name__}({dict.__repr__(_dict(self))})\""
      ]
    },
    {
      "cell_type": "markdown",
      "id": "4484b223-c22e-4537-8f90-df47ef31d086",
      "metadata": {
        "papermill": {
          "duration": 0.001573,
          "end_time": "2023-09-02T18:52:41.366605",
          "exception": false,
          "start_time": "2023-09-02T18:52:41.365032",
          "status": "completed"
        },
        "tags": []
      },
      "source": [
        "Patching `DeviceArray` to have less verbose reprs for 0-D arrays:"
      ]
    },
    {
      "cell_type": "code",
      "execution_count": 5,
      "id": "c7bf059875ed57b6",
      "metadata": {
        "execution": {
          "iopub.execute_input": "2023-09-02T18:52:41.370964Z",
          "iopub.status.busy": "2023-09-02T18:52:41.370502Z",
          "iopub.status.idle": "2023-09-02T18:52:41.376236Z",
          "shell.execute_reply": "2023-09-02T18:52:41.375834Z"
        },
        "papermill": {
          "duration": 0.009236,
          "end_time": "2023-09-02T18:52:41.377480",
          "exception": false,
          "start_time": "2023-09-02T18:52:41.368244",
          "status": "completed"
        },
        "tags": [
          "remove-cell"
        ]
      },
      "outputs": [],
      "source": [
        "if JAX_AVAILABLE:\n",
        "    @patch_to(DeviceArray)\n",
        "    def __repr__(self):  # type: ignore\n",
        "        if self.ndim == 0 and is_float(self):\n",
        "            v = float(self)\n",
        "            return repr(round(v, 5)) if abs(v) > 1e-4 else repr(v)\n",
        "        elif self.ndim == 0 and is_complex_float(self):\n",
        "            r, i = float(self.real), float(self.imag)\n",
        "            r = round(r, 5) if abs(r) > 1e-4 else r\n",
        "            i = round(i, 5) if abs(i) > 1e-4 else i\n",
        "            s = repr(r + 1j * i)\n",
        "            if s[0] == \"(\" and s[-1] == \")\":\n",
        "                s = s[1:-1]\n",
        "            return s\n",
        "        else:\n",
        "            s = super(self.__class__, self).__repr__()\n",
        "            s = s.replace(\"DeviceArray(\", \"      array(\")\n",
        "            s = re.sub(r\", dtype=.*[,)]\", \"\", s)\n",
        "            s = re.sub(r\" weak_type=.*[,)]\", \"\", s)\n",
        "            return dedent(s)+\")\""
      ]
    },
    {
      "cell_type": "code",
      "execution_count": 6,
      "id": "5f6c14e4-723e-4ad9-9b20-fde3d7b7f86f",
      "metadata": {
        "execution": {
          "iopub.execute_input": "2023-09-02T18:52:41.381759Z",
          "iopub.status.busy": "2023-09-02T18:52:41.381467Z",
          "iopub.status.idle": "2023-09-02T18:52:41.386743Z",
          "shell.execute_reply": "2023-09-02T18:52:41.386336Z"
        },
        "papermill": {
          "duration": 0.009678,
          "end_time": "2023-09-02T18:52:41.388806",
          "exception": false,
          "start_time": "2023-09-02T18:52:41.379128",
          "status": "completed"
        },
        "tags": []
      },
      "outputs": [
        {
          "data": {
            "text/plain": [
              "array(3)"
            ]
          },
          "execution_count": 6,
          "metadata": {},
          "output_type": "execute_result"
        }
      ],
      "source": [
        "jnp.array(3)"
      ]
    },
    {
      "cell_type": "code",
      "execution_count": 7,
      "id": "02676641-cddd-4f70-8138-b4530dd318cd",
      "metadata": {
        "execution": {
          "iopub.execute_input": "2023-09-02T18:52:41.393434Z",
          "iopub.status.busy": "2023-09-02T18:52:41.392998Z",
          "iopub.status.idle": "2023-09-02T18:52:41.396486Z",
          "shell.execute_reply": "2023-09-02T18:52:41.396088Z"
        },
        "papermill": {
          "duration": 0.007571,
          "end_time": "2023-09-02T18:52:41.398180",
          "exception": false,
          "start_time": "2023-09-02T18:52:41.390609",
          "status": "completed"
        },
        "tags": []
      },
      "outputs": [
        {
          "data": {
            "text/plain": [
              "array([3, 4, 5])"
            ]
          },
          "execution_count": 7,
          "metadata": {},
          "output_type": "execute_result"
        }
      ],
      "source": [
        "jnp.array([3, 4, 5])"
      ]
    }
  ],
  "metadata": {
    "kernelspec": {
      "display_name": "sax",
      "language": "python",
      "name": "sax"
    },
    "language_info": {
      "codemirror_mode": {
        "name": "ipython",
        "version": 3
      },
      "file_extension": ".py",
      "mimetype": "text/x-python",
      "name": "python",
      "nbconvert_exporter": "python",
      "pygments_lexer": "ipython3",
      "version": "3.11.5"
    },
    "papermill": {
      "default_parameters": {},
      "duration": 3.039851,
      "end_time": "2023-09-02T18:52:41.817192",
      "environment_variables": {},
      "exception": null,
      "input_path": "./nbs/01_patched.ipynb",
      "output_path": "./nbs/01_patched.ipynb",
      "parameters": {},
      "start_time": "2023-09-02T18:52:38.777341",
      "version": "2.4.0"
    }
  },
  "nbformat": 4,
  "nbformat_minor": 5
}