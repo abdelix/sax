{
  "cells": [
    {
      "cell_type": "code",
      "execution_count": 1,
      "id": "da4519d14200ed57",
      "metadata": {
        "execution": {
          "iopub.execute_input": "2023-09-02T19:00:29.014352Z",
          "iopub.status.busy": "2023-09-02T19:00:29.013876Z",
          "iopub.status.idle": "2023-09-02T19:00:29.017030Z",
          "shell.execute_reply": "2023-09-02T19:00:29.016502Z"
        },
        "papermill": {
          "duration": 0.007486,
          "end_time": "2023-09-02T19:00:29.018180",
          "exception": false,
          "start_time": "2023-09-02T19:00:29.010694",
          "status": "completed"
        },
        "tags": [
          "remove-cell"
        ]
      },
      "outputs": [],
      "source": []
    },
    {
      "cell_type": "markdown",
      "id": "62619887-4d1d-4218-8259-9dbe991cfded",
      "metadata": {
        "papermill": {
          "duration": 0.001516,
          "end_time": "2023-09-02T19:00:29.021531",
          "exception": false,
          "start_time": "2023-09-02T19:00:29.020015",
          "status": "completed"
        },
        "tags": []
      },
      "source": [
        "# Patched\n",
        "\n",
        "> We patch some library and objects that don't belong to SAX. Don't worry, it's nothing substantial."
      ]
    },
    {
      "cell_type": "code",
      "execution_count": 2,
      "id": "cf66f8cb4562a749",
      "metadata": {
        "execution": {
          "iopub.execute_input": "2023-09-02T19:00:29.025701Z",
          "iopub.status.busy": "2023-09-02T19:00:29.025222Z",
          "iopub.status.idle": "2023-09-02T19:00:29.440402Z",
          "shell.execute_reply": "2023-09-02T19:00:29.439964Z"
        },
        "papermill": {
          "duration": 0.418959,
          "end_time": "2023-09-02T19:00:29.441998",
          "exception": false,
          "start_time": "2023-09-02T19:00:29.023039",
          "status": "completed"
        },
        "tags": [
          "remove-cell"
        ]
      },
      "outputs": [],
      "source": [
        "import matplotlib.pyplot as plt\n",
        "from fastcore.test import test_eq\n",
        "from pytest import approx, raises\n",
        "\n",
        "import os, sys; sys.stderr = open(os.devnull, \"w\")"
      ]
    },
    {
      "cell_type": "code",
      "execution_count": 3,
      "id": "2d89168282a28688",
      "metadata": {
        "execution": {
          "iopub.execute_input": "2023-09-02T19:00:29.447026Z",
          "iopub.status.busy": "2023-09-02T19:00:29.446482Z",
          "iopub.status.idle": "2023-09-02T19:00:30.204246Z",
          "shell.execute_reply": "2023-09-02T19:00:30.203793Z"
        },
        "papermill": {
          "duration": 0.761902,
          "end_time": "2023-09-02T19:00:30.205759",
          "exception": false,
          "start_time": "2023-09-02T19:00:29.443857",
          "status": "completed"
        },
        "tags": [
          "hide-input"
        ]
      },
      "outputs": [],
      "source": [
        "from __future__ import annotations\n",
        "\n",
        "import re\n",
        "from textwrap import dedent\n",
        "\n",
        "from fastcore.basics import patch_to\n",
        "from sax.typing_ import is_complex_float, is_float\n",
        "\n",
        "try:\n",
        "    import jax.numpy as jnp\n",
        "    from flax.core import FrozenDict\n",
        "    from jaxlib.xla_extension import DeviceArray\n",
        "    JAX_AVAILABLE = True\n",
        "except (ImportError, ModuleNotFoundError):\n",
        "    import numpy as jnp\n",
        "    DeviceArray = jnp.ndarray\n",
        "    FrozenDict = dict\n",
        "    JAX_AVAILABLE = False"
      ]
    },
    {
      "cell_type": "markdown",
      "id": "e37bb974-621b-4fc2-b4a8-d3f51d4f72ad",
      "metadata": {
        "papermill": {
          "duration": 0.002128,
          "end_time": "2023-09-02T19:00:30.209789",
          "exception": false,
          "start_time": "2023-09-02T19:00:30.207661",
          "status": "completed"
        },
        "tags": []
      },
      "source": [
        "Paching `FrozenDict` to have the same repr as a normal dict:"
      ]
    },
    {
      "cell_type": "code",
      "execution_count": 4,
      "id": "7065f9fc436599fa",
      "metadata": {
        "execution": {
          "iopub.execute_input": "2023-09-02T19:00:30.214461Z",
          "iopub.status.busy": "2023-09-02T19:00:30.213820Z",
          "iopub.status.idle": "2023-09-02T19:00:30.217563Z",
          "shell.execute_reply": "2023-09-02T19:00:30.217149Z"
        },
        "papermill": {
          "duration": 0.007439,
          "end_time": "2023-09-02T19:00:30.218819",
          "exception": false,
          "start_time": "2023-09-02T19:00:30.211380",
          "status": "completed"
        },
        "tags": [
          "remove-cell"
        ]
      },
      "outputs": [],
      "source": [
        "\n",
        "if JAX_AVAILABLE:\n",
        "    @patch_to(FrozenDict)\n",
        "    def __repr__(self):  # type: ignore\n",
        "        _dict = lambda d: dict(\n",
        "            {k: (v if not isinstance(v, self.__class__) else dict(v)) for k, v in d.items()}\n",
        "        )\n",
        "        return f\"{self.__class__.__name__}({dict.__repr__(_dict(self))})\""
      ]
    },
    {
      "cell_type": "markdown",
      "id": "4484b223-c22e-4537-8f90-df47ef31d086",
      "metadata": {
        "papermill": {
          "duration": 0.00158,
          "end_time": "2023-09-02T19:00:30.222005",
          "exception": false,
          "start_time": "2023-09-02T19:00:30.220425",
          "status": "completed"
        },
        "tags": []
      },
      "source": [
        "Patching `DeviceArray` to have less verbose reprs for 0-D arrays:"
      ]
    },
    {
      "cell_type": "code",
      "execution_count": 5,
      "id": "c5e7b541536feb12",
      "metadata": {
        "execution": {
          "iopub.execute_input": "2023-09-02T19:00:30.226475Z",
          "iopub.status.busy": "2023-09-02T19:00:30.226047Z",
          "iopub.status.idle": "2023-09-02T19:00:30.231028Z",
          "shell.execute_reply": "2023-09-02T19:00:30.230634Z"
        },
        "papermill": {
          "duration": 0.008482,
          "end_time": "2023-09-02T19:00:30.232214",
          "exception": false,
          "start_time": "2023-09-02T19:00:30.223732",
          "status": "completed"
        },
        "tags": [
          "remove-cell"
        ]
      },
      "outputs": [],
      "source": [
        "if JAX_AVAILABLE:\n",
        "    @patch_to(DeviceArray)\n",
        "    def __repr__(self):  # type: ignore\n",
        "        if self.ndim == 0 and is_float(self):\n",
        "            v = float(self)\n",
        "            return repr(round(v, 5)) if abs(v) > 1e-4 else repr(v)\n",
        "        elif self.ndim == 0 and is_complex_float(self):\n",
        "            r, i = float(self.real), float(self.imag)\n",
        "            r = round(r, 5) if abs(r) > 1e-4 else r\n",
        "            i = round(i, 5) if abs(i) > 1e-4 else i\n",
        "            s = repr(r + 1j * i)\n",
        "            if s[0] == \"(\" and s[-1] == \")\":\n",
        "                s = s[1:-1]\n",
        "            return s\n",
        "        else:\n",
        "            s = super(self.__class__, self).__repr__()\n",
        "            s = s.replace(\"DeviceArray(\", \"      array(\")\n",
        "            s = re.sub(r\", dtype=.*[,)]\", \"\", s)\n",
        "            s = re.sub(r\" weak_type=.*[,)]\", \"\", s)\n",
        "            return dedent(s)+\")\""
      ]
    },
    {
      "cell_type": "code",
      "execution_count": 6,
      "id": "5f6c14e4-723e-4ad9-9b20-fde3d7b7f86f",
      "metadata": {
        "execution": {
          "iopub.execute_input": "2023-09-02T19:00:30.236578Z",
          "iopub.status.busy": "2023-09-02T19:00:30.236135Z",
          "iopub.status.idle": "2023-09-02T19:00:30.241202Z",
          "shell.execute_reply": "2023-09-02T19:00:30.240823Z"
        },
        "papermill": {
          "duration": 0.009086,
          "end_time": "2023-09-02T19:00:30.242952",
          "exception": false,
          "start_time": "2023-09-02T19:00:30.233866",
          "status": "completed"
        },
        "tags": []
      },
      "outputs": [
        {
          "data": {
            "text/plain": [
              "array(3)"
            ]
          },
          "execution_count": 6,
          "metadata": {},
          "output_type": "execute_result"
        }
      ],
      "source": [
        "jnp.array(3)"
      ]
    },
    {
      "cell_type": "code",
      "execution_count": 7,
      "id": "02676641-cddd-4f70-8138-b4530dd318cd",
      "metadata": {
        "execution": {
          "iopub.execute_input": "2023-09-02T19:00:30.247298Z",
          "iopub.status.busy": "2023-09-02T19:00:30.247121Z",
          "iopub.status.idle": "2023-09-02T19:00:30.250608Z",
          "shell.execute_reply": "2023-09-02T19:00:30.250235Z"
        },
        "papermill": {
          "duration": 0.007082,
          "end_time": "2023-09-02T19:00:30.251830",
          "exception": false,
          "start_time": "2023-09-02T19:00:30.244748",
          "status": "completed"
        },
        "tags": []
      },
      "outputs": [
        {
          "data": {
            "text/plain": [
              "array([3, 4, 5])"
            ]
          },
          "execution_count": 7,
          "metadata": {},
          "output_type": "execute_result"
        }
      ],
      "source": [
        "jnp.array([3, 4, 5])"
      ]
    }
  ],
  "metadata": {
    "kernelspec": {
      "display_name": "sax",
      "language": "python",
      "name": "sax"
    },
    "language_info": {
      "codemirror_mode": {
        "name": "ipython",
        "version": 3
      },
      "file_extension": ".py",
      "mimetype": "text/x-python",
      "name": "python",
      "nbconvert_exporter": "python",
      "pygments_lexer": "ipython3",
      "version": "3.11.5"
    },
    "papermill": {
      "default_parameters": {},
      "duration": 2.975591,
      "end_time": "2023-09-02T19:00:30.670814",
      "environment_variables": {},
      "exception": null,
      "input_path": "./nbs/01_patched.ipynb",
      "output_path": "./nbs/01_patched.ipynb",
      "parameters": {},
      "start_time": "2023-09-02T19:00:27.695223",
      "version": "2.4.0"
    }
  },
  "nbformat": 4,
  "nbformat_minor": 5
}