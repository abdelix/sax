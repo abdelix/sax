{
  "cells": [
    {
      "cell_type": "code",
      "execution_count": 1,
      "id": "e99a03094642b722",
      "metadata": {
        "execution": {
          "iopub.execute_input": "2023-07-01T03:33:35.066837Z",
          "iopub.status.busy": "2023-07-01T03:33:35.066547Z",
          "iopub.status.idle": "2023-07-01T03:33:35.071376Z",
          "shell.execute_reply": "2023-07-01T03:33:35.070865Z"
        },
        "papermill": {
          "duration": 0.011981,
          "end_time": "2023-07-01T03:33:35.073580",
          "exception": false,
          "start_time": "2023-07-01T03:33:35.061599",
          "status": "completed"
        },
        "tags": [
          "remove-cell"
        ]
      },
      "outputs": [],
      "source": []
    },
    {
      "cell_type": "markdown",
      "id": "b4250b31",
      "metadata": {
        "papermill": {
          "duration": 0.002648,
          "end_time": "2023-07-01T03:33:35.079271",
          "exception": false,
          "start_time": "2023-07-01T03:33:35.076623",
          "status": "completed"
        },
        "tags": []
      },
      "source": [
        "# SAX init\n",
        "\n",
        "> Import everything into the `sax` namespace:"
      ]
    },
    {
      "cell_type": "code",
      "execution_count": 2,
      "id": "578f64a6be650b71",
      "metadata": {
        "execution": {
          "iopub.execute_input": "2023-07-01T03:33:35.086658Z",
          "iopub.status.busy": "2023-07-01T03:33:35.086432Z",
          "iopub.status.idle": "2023-07-01T03:33:35.568714Z",
          "shell.execute_reply": "2023-07-01T03:33:35.568257Z"
        },
        "papermill": {
          "duration": 0.487503,
          "end_time": "2023-07-01T03:33:35.570550",
          "exception": false,
          "start_time": "2023-07-01T03:33:35.083047",
          "status": "completed"
        },
        "tags": [
          "remove-cell"
        ]
      },
      "outputs": [],
      "source": [
        "import matplotlib.pyplot as plt\n",
        "from fastcore.test import test_eq\n",
        "from pytest import approx, raises\n",
        "\n",
        "import os, sys; sys.stderr = open(os.devnull, \"w\")"
      ]
    },
    {
      "cell_type": "code",
      "execution_count": 3,
      "id": "e323d9a9000d77cd",
      "metadata": {
        "execution": {
          "iopub.execute_input": "2023-07-01T03:33:35.577955Z",
          "iopub.status.busy": "2023-07-01T03:33:35.577480Z",
          "iopub.status.idle": "2023-07-01T03:33:35.581306Z",
          "shell.execute_reply": "2023-07-01T03:33:35.580959Z"
        },
        "papermill": {
          "duration": 0.00923,
          "end_time": "2023-07-01T03:33:35.582827",
          "exception": false,
          "start_time": "2023-07-01T03:33:35.573597",
          "status": "completed"
        },
        "tags": [
          "remove-cell"
        ]
      },
      "outputs": [],
      "source": [
        "from __future__ import annotations\n",
        "\n",
        "__author__ = \"Floris Laporte\"\n",
        "__version__ = \"0.8.8\""
      ]
    },
    {
      "cell_type": "markdown",
      "id": "fe77e5e3",
      "metadata": {
        "papermill": {
          "duration": 0.002689,
          "end_time": "2023-07-01T03:33:35.588145",
          "exception": false,
          "start_time": "2023-07-01T03:33:35.585456",
          "status": "completed"
        },
        "tags": []
      },
      "source": [
        "## External\n",
        "\n",
        "utils from other packages available in SAX for convenience:"
      ]
    },
    {
      "cell_type": "code",
      "execution_count": 4,
      "id": "4506c948616845bb",
      "metadata": {
        "execution": {
          "iopub.execute_input": "2023-07-01T03:33:35.594374Z",
          "iopub.status.busy": "2023-07-01T03:33:35.594181Z",
          "iopub.status.idle": "2023-07-01T03:33:36.044347Z",
          "shell.execute_reply": "2023-07-01T03:33:36.043877Z"
        },
        "papermill": {
          "duration": 0.455273,
          "end_time": "2023-07-01T03:33:36.046135",
          "exception": false,
          "start_time": "2023-07-01T03:33:35.590862",
          "status": "completed"
        },
        "tags": []
      },
      "outputs": [],
      "source": [
        "from functools import partial as partial\n",
        "from math import pi as pi\n",
        "\n",
        "from scipy.constants import c as c\n",
        "\n",
        "try:\n",
        "    from flax.core.frozen_dict import FrozenDict as FrozenDict\n",
        "except ImportError:\n",
        "    FrozenDict = dict"
      ]
    },
    {
      "cell_type": "markdown",
      "id": "3d3bde86",
      "metadata": {
        "papermill": {
          "duration": 0.002794,
          "end_time": "2023-07-01T03:33:36.052071",
          "exception": false,
          "start_time": "2023-07-01T03:33:36.049277",
          "status": "completed"
        },
        "tags": []
      },
      "source": [
        "## Typing"
      ]
    },
    {
      "cell_type": "code",
      "execution_count": 5,
      "id": "59374470ddad45b0",
      "metadata": {
        "execution": {
          "iopub.execute_input": "2023-07-01T03:33:36.059221Z",
          "iopub.status.busy": "2023-07-01T03:33:36.058889Z",
          "iopub.status.idle": "2023-07-01T03:33:36.355070Z",
          "shell.execute_reply": "2023-07-01T03:33:36.354621Z"
        },
        "papermill": {
          "duration": 0.30165,
          "end_time": "2023-07-01T03:33:36.356838",
          "exception": false,
          "start_time": "2023-07-01T03:33:36.055188",
          "status": "completed"
        },
        "tags": []
      },
      "outputs": [],
      "source": [
        "\n",
        "from sax import typing_ as typing\n",
        "from sax.typing_ import (\n",
        "    Array as Array,\n",
        "    ComplexFloat as ComplexFloat,\n",
        "    Float as Float,\n",
        "    Model as Model,\n",
        "    ModelFactory as ModelFactory,\n",
        "    Models as Models,\n",
        "    SCoo as SCoo,\n",
        "    SDense as SDense,\n",
        "    SDict as SDict,\n",
        "    Settings as Settings,\n",
        "    SType as SType,\n",
        "    is_complex as is_complex,\n",
        "    is_complex_float as is_complex_float,\n",
        "    is_float as is_float,\n",
        "    is_mixedmode as is_mixedmode,\n",
        "    is_model as is_model,\n",
        "    is_model_factory as is_model_factory,\n",
        "    is_multimode as is_multimode,\n",
        "    is_scoo as is_scoo,\n",
        "    is_sdense as is_sdense,\n",
        "    is_sdict as is_sdict,\n",
        "    is_singlemode as is_singlemode,\n",
        "    modelfactory as modelfactory,\n",
        "    scoo as scoo,\n",
        "    sdense as sdense,\n",
        "    sdict as sdict,\n",
        "    validate_model as validate_model,\n",
        ")"
      ]
    },
    {
      "cell_type": "markdown",
      "id": "345808d3",
      "metadata": {
        "papermill": {
          "duration": 0.002911,
          "end_time": "2023-07-01T03:33:36.362848",
          "exception": false,
          "start_time": "2023-07-01T03:33:36.359937",
          "status": "completed"
        },
        "tags": []
      },
      "source": [
        "## Utils"
      ]
    },
    {
      "cell_type": "code",
      "execution_count": 6,
      "id": "b1060f9262d9c0c7",
      "metadata": {
        "execution": {
          "iopub.execute_input": "2023-07-01T03:33:36.369671Z",
          "iopub.status.busy": "2023-07-01T03:33:36.369455Z",
          "iopub.status.idle": "2023-07-01T03:33:36.372948Z",
          "shell.execute_reply": "2023-07-01T03:33:36.372563Z"
        },
        "papermill": {
          "duration": 0.008961,
          "end_time": "2023-07-01T03:33:36.374814",
          "exception": false,
          "start_time": "2023-07-01T03:33:36.365853",
          "status": "completed"
        },
        "tags": []
      },
      "outputs": [],
      "source": [
        "\n",
        "from sax import utils as utils\n",
        "from sax.utils import (\n",
        "    block_diag as block_diag,\n",
        "    clean_string as clean_string,\n",
        "    copy_settings as copy_settings,\n",
        "    flatten_dict as flatten_dict,\n",
        "    get_inputs_outputs as get_inputs_outputs,\n",
        "    get_port_combinations as get_port_combinations,\n",
        "    get_ports as get_ports,\n",
        "    get_settings as get_settings,\n",
        "    grouped_interp as grouped_interp,\n",
        "    merge_dicts as merge_dicts,\n",
        "    mode_combinations as mode_combinations,\n",
        "    reciprocal as reciprocal,\n",
        "    rename_params as rename_params,\n",
        "    rename_ports as rename_ports,\n",
        "    try_float as try_float,\n",
        "    unflatten_dict as unflatten_dict,\n",
        "    update_settings as update_settings,\n",
        "    validate_multimode as validate_multimode,\n",
        "    validate_not_mixedmode as validate_not_mixedmode,\n",
        "    validate_sdict as validate_sdict,\n",
        "    validate_settings as validate_settings,\n",
        ")"
      ]
    },
    {
      "cell_type": "markdown",
      "id": "23287a09",
      "metadata": {
        "papermill": {
          "duration": 0.003545,
          "end_time": "2023-07-01T03:33:36.381052",
          "exception": false,
          "start_time": "2023-07-01T03:33:36.377507",
          "status": "completed"
        },
        "tags": []
      },
      "source": [
        "## Multimode"
      ]
    },
    {
      "cell_type": "code",
      "execution_count": 7,
      "id": "4fe35e4e831d1514",
      "metadata": {
        "execution": {
          "iopub.execute_input": "2023-07-01T03:33:36.387472Z",
          "iopub.status.busy": "2023-07-01T03:33:36.387285Z",
          "iopub.status.idle": "2023-07-01T03:33:36.389792Z",
          "shell.execute_reply": "2023-07-01T03:33:36.389413Z"
        },
        "papermill": {
          "duration": 0.007709,
          "end_time": "2023-07-01T03:33:36.391579",
          "exception": false,
          "start_time": "2023-07-01T03:33:36.383870",
          "status": "completed"
        },
        "tags": []
      },
      "outputs": [],
      "source": [
        "\n",
        "from sax import multimode as multimode\n",
        "from sax.multimode import (\n",
        "    multimode as multimode,\n",
        "    singlemode as singlemode,\n",
        ")"
      ]
    },
    {
      "cell_type": "markdown",
      "id": "c794abf0",
      "metadata": {
        "papermill": {
          "duration": 0.002751,
          "end_time": "2023-07-01T03:33:36.397051",
          "exception": false,
          "start_time": "2023-07-01T03:33:36.394300",
          "status": "completed"
        },
        "tags": []
      },
      "source": [
        "## Models"
      ]
    },
    {
      "cell_type": "code",
      "execution_count": 8,
      "id": "10c653f80fabd36a",
      "metadata": {
        "execution": {
          "iopub.execute_input": "2023-07-01T03:33:36.403487Z",
          "iopub.status.busy": "2023-07-01T03:33:36.403296Z",
          "iopub.status.idle": "2023-07-01T03:33:36.405772Z",
          "shell.execute_reply": "2023-07-01T03:33:36.405400Z"
        },
        "papermill": {
          "duration": 0.007643,
          "end_time": "2023-07-01T03:33:36.407528",
          "exception": false,
          "start_time": "2023-07-01T03:33:36.399885",
          "status": "completed"
        },
        "tags": []
      },
      "outputs": [],
      "source": [
        "\n",
        "from sax import models as models\n",
        "from sax.models import get_models as get_models, passthru as passthru"
      ]
    },
    {
      "cell_type": "markdown",
      "id": "b94feb62",
      "metadata": {
        "papermill": {
          "duration": 0.002752,
          "end_time": "2023-07-01T03:33:36.413046",
          "exception": false,
          "start_time": "2023-07-01T03:33:36.410294",
          "status": "completed"
        },
        "tags": []
      },
      "source": [
        "## Netlist"
      ]
    },
    {
      "cell_type": "code",
      "execution_count": 9,
      "id": "c7693af66d43ddff",
      "metadata": {
        "execution": {
          "iopub.execute_input": "2023-07-01T03:33:36.419462Z",
          "iopub.status.busy": "2023-07-01T03:33:36.419280Z",
          "iopub.status.idle": "2023-07-01T03:33:36.421757Z",
          "shell.execute_reply": "2023-07-01T03:33:36.421392Z"
        },
        "papermill": {
          "duration": 0.007691,
          "end_time": "2023-07-01T03:33:36.423531",
          "exception": false,
          "start_time": "2023-07-01T03:33:36.415840",
          "status": "completed"
        },
        "tags": []
      },
      "outputs": [],
      "source": [
        "\n",
        "from sax.netlist import netlist as netlist\n",
        "from sax.netlist import load_netlist as load_netlist\n",
        "from sax.netlist import load_recursive_netlist as load_recursive_netlist"
      ]
    },
    {
      "cell_type": "markdown",
      "id": "5792b5e9",
      "metadata": {
        "papermill": {
          "duration": 0.002793,
          "end_time": "2023-07-01T03:33:36.429197",
          "exception": false,
          "start_time": "2023-07-01T03:33:36.426404",
          "status": "completed"
        },
        "tags": []
      },
      "source": [
        "## Circuit"
      ]
    },
    {
      "cell_type": "code",
      "execution_count": 10,
      "id": "6653c9b6f1d801d9",
      "metadata": {
        "execution": {
          "iopub.execute_input": "2023-07-01T03:33:36.435659Z",
          "iopub.status.busy": "2023-07-01T03:33:36.435476Z",
          "iopub.status.idle": "2023-07-01T03:33:36.437806Z",
          "shell.execute_reply": "2023-07-01T03:33:36.437440Z"
        },
        "papermill": {
          "duration": 0.007515,
          "end_time": "2023-07-01T03:33:36.439544",
          "exception": false,
          "start_time": "2023-07-01T03:33:36.432029",
          "status": "completed"
        },
        "tags": []
      },
      "outputs": [],
      "source": [
        "\n",
        "from sax.circuit import circuit as circuit\n",
        "from sax.circuit import get_required_circuit_models as get_required_circuit_models"
      ]
    },
    {
      "cell_type": "markdown",
      "id": "e2d7c9fc",
      "metadata": {
        "papermill": {
          "duration": 0.002872,
          "end_time": "2023-07-01T03:33:36.445219",
          "exception": false,
          "start_time": "2023-07-01T03:33:36.442347",
          "status": "completed"
        },
        "tags": []
      },
      "source": [
        "## Backend"
      ]
    },
    {
      "cell_type": "code",
      "execution_count": 11,
      "id": "c76f76eaa8692c0b",
      "metadata": {
        "execution": {
          "iopub.execute_input": "2023-07-01T03:33:36.451816Z",
          "iopub.status.busy": "2023-07-01T03:33:36.451627Z",
          "iopub.status.idle": "2023-07-01T03:33:36.453830Z",
          "shell.execute_reply": "2023-07-01T03:33:36.453460Z"
        },
        "papermill": {
          "duration": 0.007403,
          "end_time": "2023-07-01T03:33:36.455568",
          "exception": false,
          "start_time": "2023-07-01T03:33:36.448165",
          "status": "completed"
        },
        "tags": []
      },
      "outputs": [],
      "source": [
        "\n",
        "from sax import backends as backends"
      ]
    },
    {
      "cell_type": "markdown",
      "id": "3ecf363e",
      "metadata": {
        "papermill": {
          "duration": 0.00284,
          "end_time": "2023-07-01T03:33:36.461211",
          "exception": false,
          "start_time": "2023-07-01T03:33:36.458371",
          "status": "completed"
        },
        "tags": []
      },
      "source": [
        "## Patches"
      ]
    },
    {
      "cell_type": "code",
      "execution_count": 12,
      "id": "90060d2d98ce00c5",
      "metadata": {
        "execution": {
          "iopub.execute_input": "2023-07-01T03:33:36.467880Z",
          "iopub.status.busy": "2023-07-01T03:33:36.467701Z",
          "iopub.status.idle": "2023-07-01T03:33:36.469899Z",
          "shell.execute_reply": "2023-07-01T03:33:36.469526Z"
        },
        "papermill": {
          "duration": 0.007451,
          "end_time": "2023-07-01T03:33:36.471663",
          "exception": false,
          "start_time": "2023-07-01T03:33:36.464212",
          "status": "completed"
        },
        "tags": []
      },
      "outputs": [],
      "source": [
        "\n",
        "from sax import patched as _patched"
      ]
    }
  ],
  "metadata": {
    "kernelspec": {
      "display_name": "sax",
      "language": "python",
      "name": "sax"
    },
    "language_info": {
      "codemirror_mode": {
        "name": "ipython",
        "version": 3
      },
      "file_extension": ".py",
      "mimetype": "text/x-python",
      "name": "python",
      "nbconvert_exporter": "python",
      "pygments_lexer": "ipython3",
      "version": "3.11.4"
    },
    "papermill": {
      "default_parameters": {},
      "duration": 3.171905,
      "end_time": "2023-07-01T03:33:36.900968",
      "environment_variables": {},
      "exception": null,
      "input_path": "./nbs/99_init.ipynb",
      "output_path": "./nbs/99_init.ipynb",
      "parameters": {},
      "start_time": "2023-07-01T03:33:33.729063",
      "version": "2.3.4"
    }
  },
  "nbformat": 4,
  "nbformat_minor": 5
}