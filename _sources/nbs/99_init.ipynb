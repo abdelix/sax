{
  "cells": [
    {
      "cell_type": "code",
      "execution_count": 1,
      "id": "9a17ac8dcc92b2a4",
      "metadata": {
        "execution": {
          "iopub.execute_input": "2023-09-01T16:51:59.853043Z",
          "iopub.status.busy": "2023-09-01T16:51:59.852548Z",
          "iopub.status.idle": "2023-09-01T16:51:59.855849Z",
          "shell.execute_reply": "2023-09-01T16:51:59.855304Z"
        },
        "papermill": {
          "duration": 0.009593,
          "end_time": "2023-09-01T16:51:59.857099",
          "exception": false,
          "start_time": "2023-09-01T16:51:59.847506",
          "status": "completed"
        },
        "tags": [
          "remove-cell"
        ]
      },
      "outputs": [],
      "source": []
    },
    {
      "cell_type": "markdown",
      "id": "b4250b31",
      "metadata": {
        "papermill": {
          "duration": 0.002866,
          "end_time": "2023-09-01T16:51:59.863089",
          "exception": false,
          "start_time": "2023-09-01T16:51:59.860223",
          "status": "completed"
        },
        "tags": []
      },
      "source": [
        "# SAX init\n",
        "\n",
        "> Import everything into the `sax` namespace:"
      ]
    },
    {
      "cell_type": "code",
      "execution_count": 2,
      "id": "308baa0f8c36ebb9",
      "metadata": {
        "execution": {
          "iopub.execute_input": "2023-09-01T16:51:59.869828Z",
          "iopub.status.busy": "2023-09-01T16:51:59.869253Z",
          "iopub.status.idle": "2023-09-01T16:52:00.307693Z",
          "shell.execute_reply": "2023-09-01T16:52:00.307218Z"
        },
        "papermill": {
          "duration": 0.443604,
          "end_time": "2023-09-01T16:52:00.309360",
          "exception": false,
          "start_time": "2023-09-01T16:51:59.865756",
          "status": "completed"
        },
        "tags": [
          "remove-cell"
        ]
      },
      "outputs": [],
      "source": [
        "import matplotlib.pyplot as plt\n",
        "from fastcore.test import test_eq\n",
        "from pytest import approx, raises\n",
        "\n",
        "import os, sys; sys.stderr = open(os.devnull, \"w\")"
      ]
    },
    {
      "cell_type": "code",
      "execution_count": 3,
      "id": "9279182245e86d63",
      "metadata": {
        "execution": {
          "iopub.execute_input": "2023-09-01T16:52:00.317143Z",
          "iopub.status.busy": "2023-09-01T16:52:00.316492Z",
          "iopub.status.idle": "2023-09-01T16:52:00.319445Z",
          "shell.execute_reply": "2023-09-01T16:52:00.319096Z"
        },
        "papermill": {
          "duration": 0.008085,
          "end_time": "2023-09-01T16:52:00.320554",
          "exception": false,
          "start_time": "2023-09-01T16:52:00.312469",
          "status": "completed"
        },
        "tags": [
          "remove-cell"
        ]
      },
      "outputs": [],
      "source": [
        "from __future__ import annotations\n",
        "\n",
        "__author__ = \"Floris Laporte\"\n",
        "__version__ = \"0.9.2\""
      ]
    },
    {
      "cell_type": "markdown",
      "id": "fe77e5e3",
      "metadata": {
        "papermill": {
          "duration": 0.002748,
          "end_time": "2023-09-01T16:52:00.326125",
          "exception": false,
          "start_time": "2023-09-01T16:52:00.323377",
          "status": "completed"
        },
        "tags": []
      },
      "source": [
        "## External\n",
        "\n",
        "utils from other packages available in SAX for convenience:"
      ]
    },
    {
      "cell_type": "code",
      "execution_count": 4,
      "id": "353cb5c2d94f300e",
      "metadata": {
        "execution": {
          "iopub.execute_input": "2023-09-01T16:52:00.333729Z",
          "iopub.status.busy": "2023-09-01T16:52:00.333285Z",
          "iopub.status.idle": "2023-09-01T16:52:00.786797Z",
          "shell.execute_reply": "2023-09-01T16:52:00.786247Z"
        },
        "papermill": {
          "duration": 0.458728,
          "end_time": "2023-09-01T16:52:00.788465",
          "exception": false,
          "start_time": "2023-09-01T16:52:00.329737",
          "status": "completed"
        },
        "tags": []
      },
      "outputs": [],
      "source": [
        "from functools import partial as partial\n",
        "from math import pi as pi\n",
        "\n",
        "from scipy.constants import c as c\n",
        "\n",
        "try:\n",
        "    from flax.core.frozen_dict import FrozenDict as FrozenDict\n",
        "except ImportError:\n",
        "    FrozenDict = dict"
      ]
    },
    {
      "cell_type": "markdown",
      "id": "3d3bde86",
      "metadata": {
        "papermill": {
          "duration": 0.00346,
          "end_time": "2023-09-01T16:52:00.795090",
          "exception": false,
          "start_time": "2023-09-01T16:52:00.791630",
          "status": "completed"
        },
        "tags": []
      },
      "source": [
        "## Typing"
      ]
    },
    {
      "cell_type": "code",
      "execution_count": 5,
      "id": "c2a071785d8dda97",
      "metadata": {
        "execution": {
          "iopub.execute_input": "2023-09-01T16:52:00.840158Z",
          "iopub.status.busy": "2023-09-01T16:52:00.839544Z",
          "iopub.status.idle": "2023-09-01T16:52:01.168342Z",
          "shell.execute_reply": "2023-09-01T16:52:01.167905Z"
        },
        "papermill": {
          "duration": 0.334437,
          "end_time": "2023-09-01T16:52:01.169886",
          "exception": false,
          "start_time": "2023-09-01T16:52:00.835449",
          "status": "completed"
        },
        "tags": []
      },
      "outputs": [],
      "source": [
        "\n",
        "from sax import typing_ as typing\n",
        "from sax.typing_ import (\n",
        "    Array as Array,\n",
        "    ComplexFloat as ComplexFloat,\n",
        "    Float as Float,\n",
        "    Model as Model,\n",
        "    ModelFactory as ModelFactory,\n",
        "    Models as Models,\n",
        "    SCoo as SCoo,\n",
        "    SDense as SDense,\n",
        "    SDict as SDict,\n",
        "    Settings as Settings,\n",
        "    SType as SType,\n",
        "    is_complex as is_complex,\n",
        "    is_complex_float as is_complex_float,\n",
        "    is_float as is_float,\n",
        "    is_mixedmode as is_mixedmode,\n",
        "    is_model as is_model,\n",
        "    is_model_factory as is_model_factory,\n",
        "    is_multimode as is_multimode,\n",
        "    is_scoo as is_scoo,\n",
        "    is_sdense as is_sdense,\n",
        "    is_sdict as is_sdict,\n",
        "    is_singlemode as is_singlemode,\n",
        "    modelfactory as modelfactory,\n",
        "    scoo as scoo,\n",
        "    sdense as sdense,\n",
        "    sdict as sdict,\n",
        "    validate_model as validate_model,\n",
        ")"
      ]
    },
    {
      "cell_type": "markdown",
      "id": "345808d3",
      "metadata": {
        "papermill": {
          "duration": 0.003282,
          "end_time": "2023-09-01T16:52:01.176257",
          "exception": false,
          "start_time": "2023-09-01T16:52:01.172975",
          "status": "completed"
        },
        "tags": []
      },
      "source": [
        "## Utils"
      ]
    },
    {
      "cell_type": "code",
      "execution_count": 6,
      "id": "4c6569f8ca9585d7",
      "metadata": {
        "execution": {
          "iopub.execute_input": "2023-09-01T16:52:01.183128Z",
          "iopub.status.busy": "2023-09-01T16:52:01.182695Z",
          "iopub.status.idle": "2023-09-01T16:52:01.187349Z",
          "shell.execute_reply": "2023-09-01T16:52:01.186978Z"
        },
        "papermill": {
          "duration": 0.009365,
          "end_time": "2023-09-01T16:52:01.188444",
          "exception": false,
          "start_time": "2023-09-01T16:52:01.179079",
          "status": "completed"
        },
        "tags": []
      },
      "outputs": [],
      "source": [
        "\n",
        "from sax import utils as utils\n",
        "from sax.utils import (\n",
        "    block_diag as block_diag,\n",
        "    clean_string as clean_string,\n",
        "    copy_settings as copy_settings,\n",
        "    flatten_dict as flatten_dict,\n",
        "    get_inputs_outputs as get_inputs_outputs,\n",
        "    get_port_combinations as get_port_combinations,\n",
        "    get_ports as get_ports,\n",
        "    get_settings as get_settings,\n",
        "    grouped_interp as grouped_interp,\n",
        "    merge_dicts as merge_dicts,\n",
        "    mode_combinations as mode_combinations,\n",
        "    reciprocal as reciprocal,\n",
        "    rename_params as rename_params,\n",
        "    rename_ports as rename_ports,\n",
        "    try_float as try_float,\n",
        "    unflatten_dict as unflatten_dict,\n",
        "    update_settings as update_settings,\n",
        "    validate_multimode as validate_multimode,\n",
        "    validate_not_mixedmode as validate_not_mixedmode,\n",
        "    validate_sdict as validate_sdict,\n",
        "    validate_settings as validate_settings,\n",
        ")"
      ]
    },
    {
      "cell_type": "markdown",
      "id": "23287a09",
      "metadata": {
        "papermill": {
          "duration": 0.002698,
          "end_time": "2023-09-01T16:52:01.193959",
          "exception": false,
          "start_time": "2023-09-01T16:52:01.191261",
          "status": "completed"
        },
        "tags": []
      },
      "source": [
        "## Multimode"
      ]
    },
    {
      "cell_type": "code",
      "execution_count": 7,
      "id": "abdf66dc1662d653",
      "metadata": {
        "execution": {
          "iopub.execute_input": "2023-09-01T16:52:01.200560Z",
          "iopub.status.busy": "2023-09-01T16:52:01.200179Z",
          "iopub.status.idle": "2023-09-01T16:52:01.202831Z",
          "shell.execute_reply": "2023-09-01T16:52:01.202409Z"
        },
        "papermill": {
          "duration": 0.007292,
          "end_time": "2023-09-01T16:52:01.204057",
          "exception": false,
          "start_time": "2023-09-01T16:52:01.196765",
          "status": "completed"
        },
        "tags": []
      },
      "outputs": [],
      "source": [
        "\n",
        "from sax import multimode as multimode\n",
        "from sax.multimode import (\n",
        "    multimode as multimode,\n",
        "    singlemode as singlemode,\n",
        ")"
      ]
    },
    {
      "cell_type": "markdown",
      "id": "c794abf0",
      "metadata": {
        "papermill": {
          "duration": 0.002721,
          "end_time": "2023-09-01T16:52:01.209582",
          "exception": false,
          "start_time": "2023-09-01T16:52:01.206861",
          "status": "completed"
        },
        "tags": []
      },
      "source": [
        "## Models"
      ]
    },
    {
      "cell_type": "code",
      "execution_count": 8,
      "id": "a6f889f4bdfa7aaa",
      "metadata": {
        "execution": {
          "iopub.execute_input": "2023-09-01T16:52:01.216194Z",
          "iopub.status.busy": "2023-09-01T16:52:01.215827Z",
          "iopub.status.idle": "2023-09-01T16:52:01.218378Z",
          "shell.execute_reply": "2023-09-01T16:52:01.218017Z"
        },
        "papermill": {
          "duration": 0.007123,
          "end_time": "2023-09-01T16:52:01.219558",
          "exception": false,
          "start_time": "2023-09-01T16:52:01.212435",
          "status": "completed"
        },
        "tags": []
      },
      "outputs": [],
      "source": [
        "\n",
        "from sax import models as models\n",
        "from sax.models import get_models as get_models, passthru as passthru"
      ]
    },
    {
      "cell_type": "markdown",
      "id": "b94feb62",
      "metadata": {
        "papermill": {
          "duration": 0.002785,
          "end_time": "2023-09-01T16:52:01.225140",
          "exception": false,
          "start_time": "2023-09-01T16:52:01.222355",
          "status": "completed"
        },
        "tags": []
      },
      "source": [
        "## Netlist"
      ]
    },
    {
      "cell_type": "code",
      "execution_count": 9,
      "id": "878f28946faac394",
      "metadata": {
        "execution": {
          "iopub.execute_input": "2023-09-01T16:52:01.231864Z",
          "iopub.status.busy": "2023-09-01T16:52:01.231477Z",
          "iopub.status.idle": "2023-09-01T16:52:01.234314Z",
          "shell.execute_reply": "2023-09-01T16:52:01.233940Z"
        },
        "papermill": {
          "duration": 0.00752,
          "end_time": "2023-09-01T16:52:01.235509",
          "exception": false,
          "start_time": "2023-09-01T16:52:01.227989",
          "status": "completed"
        },
        "tags": []
      },
      "outputs": [],
      "source": [
        "\n",
        "from sax.netlist import netlist as netlist\n",
        "from sax.netlist import load_netlist as load_netlist\n",
        "from sax.netlist import load_recursive_netlist as load_recursive_netlist\n",
        "from sax.netlist import get_netlist_instances_by_prefix as get_netlist_instances_by_prefix\n",
        "from sax.netlist import get_component_instances as get_component_instances"
      ]
    },
    {
      "cell_type": "markdown",
      "id": "5792b5e9",
      "metadata": {
        "papermill": {
          "duration": 0.002812,
          "end_time": "2023-09-01T16:52:01.241214",
          "exception": false,
          "start_time": "2023-09-01T16:52:01.238402",
          "status": "completed"
        },
        "tags": []
      },
      "source": [
        "## Circuit"
      ]
    },
    {
      "cell_type": "code",
      "execution_count": 10,
      "id": "5baab615870b6d71",
      "metadata": {
        "execution": {
          "iopub.execute_input": "2023-09-01T16:52:01.248306Z",
          "iopub.status.busy": "2023-09-01T16:52:01.247792Z",
          "iopub.status.idle": "2023-09-01T16:52:01.250434Z",
          "shell.execute_reply": "2023-09-01T16:52:01.250099Z"
        },
        "papermill": {
          "duration": 0.007495,
          "end_time": "2023-09-01T16:52:01.251666",
          "exception": false,
          "start_time": "2023-09-01T16:52:01.244171",
          "status": "completed"
        },
        "tags": []
      },
      "outputs": [],
      "source": [
        "\n",
        "from sax.circuit import circuit as circuit\n",
        "from sax.circuit import get_required_circuit_models as get_required_circuit_models"
      ]
    },
    {
      "cell_type": "markdown",
      "id": "e2d7c9fc",
      "metadata": {
        "papermill": {
          "duration": 0.002826,
          "end_time": "2023-09-01T16:52:01.257375",
          "exception": false,
          "start_time": "2023-09-01T16:52:01.254549",
          "status": "completed"
        },
        "tags": []
      },
      "source": [
        "## Backend"
      ]
    },
    {
      "cell_type": "code",
      "execution_count": 11,
      "id": "4893ead4bf0f2948",
      "metadata": {
        "execution": {
          "iopub.execute_input": "2023-09-01T16:52:01.264321Z",
          "iopub.status.busy": "2023-09-01T16:52:01.263855Z",
          "iopub.status.idle": "2023-09-01T16:52:01.266242Z",
          "shell.execute_reply": "2023-09-01T16:52:01.265933Z"
        },
        "papermill": {
          "duration": 0.007105,
          "end_time": "2023-09-01T16:52:01.267420",
          "exception": false,
          "start_time": "2023-09-01T16:52:01.260315",
          "status": "completed"
        },
        "tags": []
      },
      "outputs": [],
      "source": [
        "\n",
        "from sax import backends as backends"
      ]
    },
    {
      "cell_type": "markdown",
      "id": "3ecf363e",
      "metadata": {
        "papermill": {
          "duration": 0.002841,
          "end_time": "2023-09-01T16:52:01.273136",
          "exception": false,
          "start_time": "2023-09-01T16:52:01.270295",
          "status": "completed"
        },
        "tags": []
      },
      "source": [
        "## Patches"
      ]
    },
    {
      "cell_type": "code",
      "execution_count": 12,
      "id": "8e5b9ecdaa49522a",
      "metadata": {
        "execution": {
          "iopub.execute_input": "2023-09-01T16:52:01.280377Z",
          "iopub.status.busy": "2023-09-01T16:52:01.279922Z",
          "iopub.status.idle": "2023-09-01T16:52:01.282322Z",
          "shell.execute_reply": "2023-09-01T16:52:01.281996Z"
        },
        "papermill": {
          "duration": 0.007333,
          "end_time": "2023-09-01T16:52:01.283483",
          "exception": false,
          "start_time": "2023-09-01T16:52:01.276150",
          "status": "completed"
        },
        "tags": []
      },
      "outputs": [],
      "source": [
        "\n",
        "from sax import patched as _patched"
      ]
    }
  ],
  "metadata": {
    "kernelspec": {
      "display_name": "sax",
      "language": "python",
      "name": "sax"
    },
    "language_info": {
      "codemirror_mode": {
        "name": "ipython",
        "version": 3
      },
      "file_extension": ".py",
      "mimetype": "text/x-python",
      "name": "python",
      "nbconvert_exporter": "python",
      "pygments_lexer": "ipython3",
      "version": "3.11.5"
    },
    "papermill": {
      "default_parameters": {},
      "duration": 3.179329,
      "end_time": "2023-09-01T16:52:01.702786",
      "environment_variables": {},
      "exception": null,
      "input_path": "./nbs/99_init.ipynb",
      "output_path": "./nbs/99_init.ipynb",
      "parameters": {},
      "start_time": "2023-09-01T16:51:58.523457",
      "version": "2.4.0"
    }
  },
  "nbformat": 4,
  "nbformat_minor": 5
}