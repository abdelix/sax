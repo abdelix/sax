{
  "cells": [
    {
      "cell_type": "code",
      "execution_count": 1,
      "id": "17fce5c4d26e8fd7",
      "metadata": {
        "execution": {
          "iopub.execute_input": "2023-09-02T19:00:25.351177Z",
          "iopub.status.busy": "2023-09-02T19:00:25.350610Z",
          "iopub.status.idle": "2023-09-02T19:00:25.353981Z",
          "shell.execute_reply": "2023-09-02T19:00:25.353407Z"
        },
        "papermill": {
          "duration": 0.009352,
          "end_time": "2023-09-02T19:00:25.355267",
          "exception": false,
          "start_time": "2023-09-02T19:00:25.345915",
          "status": "completed"
        },
        "tags": [
          "remove-cell"
        ]
      },
      "outputs": [],
      "source": []
    },
    {
      "cell_type": "markdown",
      "id": "b4250b31",
      "metadata": {
        "papermill": {
          "duration": 0.0027,
          "end_time": "2023-09-02T19:00:25.361000",
          "exception": false,
          "start_time": "2023-09-02T19:00:25.358300",
          "status": "completed"
        },
        "tags": []
      },
      "source": [
        "# SAX init\n",
        "\n",
        "> Import everything into the `sax` namespace:"
      ]
    },
    {
      "cell_type": "code",
      "execution_count": 2,
      "id": "199d8a4d04a9409f",
      "metadata": {
        "execution": {
          "iopub.execute_input": "2023-09-02T19:00:25.367416Z",
          "iopub.status.busy": "2023-09-02T19:00:25.367015Z",
          "iopub.status.idle": "2023-09-02T19:00:25.780952Z",
          "shell.execute_reply": "2023-09-02T19:00:25.780520Z"
        },
        "papermill": {
          "duration": 0.418842,
          "end_time": "2023-09-02T19:00:25.782496",
          "exception": false,
          "start_time": "2023-09-02T19:00:25.363654",
          "status": "completed"
        },
        "tags": [
          "remove-cell"
        ]
      },
      "outputs": [],
      "source": [
        "import matplotlib.pyplot as plt\n",
        "from fastcore.test import test_eq\n",
        "from pytest import approx, raises\n",
        "\n",
        "import os, sys; sys.stderr = open(os.devnull, \"w\")"
      ]
    },
    {
      "cell_type": "code",
      "execution_count": 3,
      "id": "94a427ddefc2d8ea",
      "metadata": {
        "execution": {
          "iopub.execute_input": "2023-09-02T19:00:25.789873Z",
          "iopub.status.busy": "2023-09-02T19:00:25.789253Z",
          "iopub.status.idle": "2023-09-02T19:00:25.791957Z",
          "shell.execute_reply": "2023-09-02T19:00:25.791633Z"
        },
        "papermill": {
          "duration": 0.007458,
          "end_time": "2023-09-02T19:00:25.793015",
          "exception": false,
          "start_time": "2023-09-02T19:00:25.785557",
          "status": "completed"
        },
        "tags": [
          "remove-cell"
        ]
      },
      "outputs": [],
      "source": [
        "from __future__ import annotations\n",
        "\n",
        "__author__ = \"Floris Laporte\"\n",
        "__version__ = \"0.10.0\""
      ]
    },
    {
      "cell_type": "markdown",
      "id": "fe77e5e3",
      "metadata": {
        "papermill": {
          "duration": 0.002618,
          "end_time": "2023-09-02T19:00:25.798298",
          "exception": false,
          "start_time": "2023-09-02T19:00:25.795680",
          "status": "completed"
        },
        "tags": []
      },
      "source": [
        "## External\n",
        "\n",
        "utils from other packages available in SAX for convenience:"
      ]
    },
    {
      "cell_type": "code",
      "execution_count": 4,
      "id": "8ea613fab83ddc77",
      "metadata": {
        "execution": {
          "iopub.execute_input": "2023-09-02T19:00:25.805432Z",
          "iopub.status.busy": "2023-09-02T19:00:25.805145Z",
          "iopub.status.idle": "2023-09-02T19:00:26.247502Z",
          "shell.execute_reply": "2023-09-02T19:00:26.247055Z"
        },
        "papermill": {
          "duration": 0.44722,
          "end_time": "2023-09-02T19:00:26.249062",
          "exception": false,
          "start_time": "2023-09-02T19:00:25.801842",
          "status": "completed"
        },
        "tags": []
      },
      "outputs": [],
      "source": [
        "from functools import partial as partial\n",
        "from math import pi as pi\n",
        "\n",
        "from scipy.constants import c as c\n",
        "\n",
        "try:\n",
        "    from flax.core.frozen_dict import FrozenDict as FrozenDict\n",
        "except ImportError:\n",
        "    FrozenDict = dict"
      ]
    },
    {
      "cell_type": "markdown",
      "id": "3d3bde86",
      "metadata": {
        "papermill": {
          "duration": 0.003078,
          "end_time": "2023-09-02T19:00:26.255152",
          "exception": false,
          "start_time": "2023-09-02T19:00:26.252074",
          "status": "completed"
        },
        "tags": []
      },
      "source": [
        "## Typing"
      ]
    },
    {
      "cell_type": "code",
      "execution_count": 5,
      "id": "6dfd13306ba6bed5",
      "metadata": {
        "execution": {
          "iopub.execute_input": "2023-09-02T19:00:26.286271Z",
          "iopub.status.busy": "2023-09-02T19:00:26.285570Z",
          "iopub.status.idle": "2023-09-02T19:00:26.615382Z",
          "shell.execute_reply": "2023-09-02T19:00:26.614921Z"
        },
        "papermill": {
          "duration": 0.335223,
          "end_time": "2023-09-02T19:00:26.616987",
          "exception": false,
          "start_time": "2023-09-02T19:00:26.281764",
          "status": "completed"
        },
        "tags": []
      },
      "outputs": [],
      "source": [
        "\n",
        "from sax import typing_ as typing\n",
        "from sax.typing_ import (\n",
        "    Array as Array,\n",
        "    ComplexFloat as ComplexFloat,\n",
        "    Float as Float,\n",
        "    Model as Model,\n",
        "    ModelFactory as ModelFactory,\n",
        "    Models as Models,\n",
        "    SCoo as SCoo,\n",
        "    SDense as SDense,\n",
        "    SDict as SDict,\n",
        "    Settings as Settings,\n",
        "    SType as SType,\n",
        "    is_complex as is_complex,\n",
        "    is_complex_float as is_complex_float,\n",
        "    is_float as is_float,\n",
        "    is_mixedmode as is_mixedmode,\n",
        "    is_model as is_model,\n",
        "    is_model_factory as is_model_factory,\n",
        "    is_multimode as is_multimode,\n",
        "    is_scoo as is_scoo,\n",
        "    is_sdense as is_sdense,\n",
        "    is_sdict as is_sdict,\n",
        "    is_singlemode as is_singlemode,\n",
        "    modelfactory as modelfactory,\n",
        "    scoo as scoo,\n",
        "    sdense as sdense,\n",
        "    sdict as sdict,\n",
        "    validate_model as validate_model,\n",
        ")"
      ]
    },
    {
      "cell_type": "markdown",
      "id": "345808d3",
      "metadata": {
        "papermill": {
          "duration": 0.002883,
          "end_time": "2023-09-02T19:00:26.623235",
          "exception": false,
          "start_time": "2023-09-02T19:00:26.620352",
          "status": "completed"
        },
        "tags": []
      },
      "source": [
        "## Utils"
      ]
    },
    {
      "cell_type": "code",
      "execution_count": 6,
      "id": "ca032641aa45b6a1",
      "metadata": {
        "execution": {
          "iopub.execute_input": "2023-09-02T19:00:26.630077Z",
          "iopub.status.busy": "2023-09-02T19:00:26.629723Z",
          "iopub.status.idle": "2023-09-02T19:00:26.634846Z",
          "shell.execute_reply": "2023-09-02T19:00:26.634406Z"
        },
        "papermill": {
          "duration": 0.009987,
          "end_time": "2023-09-02T19:00:26.636057",
          "exception": false,
          "start_time": "2023-09-02T19:00:26.626070",
          "status": "completed"
        },
        "tags": []
      },
      "outputs": [],
      "source": [
        "\n",
        "from sax import utils as utils\n",
        "from sax.utils import (\n",
        "    block_diag as block_diag,\n",
        "    clean_string as clean_string,\n",
        "    copy_settings as copy_settings,\n",
        "    flatten_dict as flatten_dict,\n",
        "    get_inputs_outputs as get_inputs_outputs,\n",
        "    get_port_combinations as get_port_combinations,\n",
        "    get_ports as get_ports,\n",
        "    get_settings as get_settings,\n",
        "    grouped_interp as grouped_interp,\n",
        "    merge_dicts as merge_dicts,\n",
        "    mode_combinations as mode_combinations,\n",
        "    reciprocal as reciprocal,\n",
        "    rename_params as rename_params,\n",
        "    rename_ports as rename_ports,\n",
        "    try_float as try_float,\n",
        "    unflatten_dict as unflatten_dict,\n",
        "    update_settings as update_settings,\n",
        "    validate_multimode as validate_multimode,\n",
        "    validate_not_mixedmode as validate_not_mixedmode,\n",
        "    validate_sdict as validate_sdict,\n",
        "    validate_settings as validate_settings,\n",
        ")"
      ]
    },
    {
      "cell_type": "markdown",
      "id": "23287a09",
      "metadata": {
        "papermill": {
          "duration": 0.002691,
          "end_time": "2023-09-02T19:00:26.641550",
          "exception": false,
          "start_time": "2023-09-02T19:00:26.638859",
          "status": "completed"
        },
        "tags": []
      },
      "source": [
        "## Multimode"
      ]
    },
    {
      "cell_type": "code",
      "execution_count": 7,
      "id": "f6f6a692ab98156c",
      "metadata": {
        "execution": {
          "iopub.execute_input": "2023-09-02T19:00:26.648161Z",
          "iopub.status.busy": "2023-09-02T19:00:26.647793Z",
          "iopub.status.idle": "2023-09-02T19:00:26.650380Z",
          "shell.execute_reply": "2023-09-02T19:00:26.649979Z"
        },
        "papermill": {
          "duration": 0.007125,
          "end_time": "2023-09-02T19:00:26.651495",
          "exception": false,
          "start_time": "2023-09-02T19:00:26.644370",
          "status": "completed"
        },
        "tags": []
      },
      "outputs": [],
      "source": [
        "\n",
        "from sax import multimode as multimode\n",
        "from sax.multimode import (\n",
        "    multimode as multimode,\n",
        "    singlemode as singlemode,\n",
        ")"
      ]
    },
    {
      "cell_type": "markdown",
      "id": "c794abf0",
      "metadata": {
        "papermill": {
          "duration": 0.002691,
          "end_time": "2023-09-02T19:00:26.656983",
          "exception": false,
          "start_time": "2023-09-02T19:00:26.654292",
          "status": "completed"
        },
        "tags": []
      },
      "source": [
        "## Models"
      ]
    },
    {
      "cell_type": "code",
      "execution_count": 8,
      "id": "4d254a9d4047092c",
      "metadata": {
        "execution": {
          "iopub.execute_input": "2023-09-02T19:00:26.663393Z",
          "iopub.status.busy": "2023-09-02T19:00:26.663215Z",
          "iopub.status.idle": "2023-09-02T19:00:26.665359Z",
          "shell.execute_reply": "2023-09-02T19:00:26.665039Z"
        },
        "papermill": {
          "duration": 0.006675,
          "end_time": "2023-09-02T19:00:26.666488",
          "exception": false,
          "start_time": "2023-09-02T19:00:26.659813",
          "status": "completed"
        },
        "tags": []
      },
      "outputs": [],
      "source": [
        "\n",
        "from sax import models as models\n",
        "from sax.models import get_models as get_models, passthru as passthru"
      ]
    },
    {
      "cell_type": "markdown",
      "id": "b94feb62",
      "metadata": {
        "papermill": {
          "duration": 0.002741,
          "end_time": "2023-09-02T19:00:26.672015",
          "exception": false,
          "start_time": "2023-09-02T19:00:26.669274",
          "status": "completed"
        },
        "tags": []
      },
      "source": [
        "## Netlist"
      ]
    },
    {
      "cell_type": "code",
      "execution_count": 9,
      "id": "586428e4540fc057",
      "metadata": {
        "execution": {
          "iopub.execute_input": "2023-09-02T19:00:26.678650Z",
          "iopub.status.busy": "2023-09-02T19:00:26.678299Z",
          "iopub.status.idle": "2023-09-02T19:00:26.680858Z",
          "shell.execute_reply": "2023-09-02T19:00:26.680535Z"
        },
        "papermill": {
          "duration": 0.007138,
          "end_time": "2023-09-02T19:00:26.682048",
          "exception": false,
          "start_time": "2023-09-02T19:00:26.674910",
          "status": "completed"
        },
        "tags": []
      },
      "outputs": [],
      "source": [
        "\n",
        "from sax.netlist import netlist as netlist\n",
        "from sax.netlist import load_netlist as load_netlist\n",
        "from sax.netlist import load_recursive_netlist as load_recursive_netlist\n",
        "from sax.netlist import get_netlist_instances_by_prefix as get_netlist_instances_by_prefix\n",
        "from sax.netlist import get_component_instances as get_component_instances"
      ]
    },
    {
      "cell_type": "markdown",
      "id": "5792b5e9",
      "metadata": {
        "papermill": {
          "duration": 0.002809,
          "end_time": "2023-09-02T19:00:26.687680",
          "exception": false,
          "start_time": "2023-09-02T19:00:26.684871",
          "status": "completed"
        },
        "tags": []
      },
      "source": [
        "## Circuit"
      ]
    },
    {
      "cell_type": "code",
      "execution_count": 10,
      "id": "e6c1434d8fbf033b",
      "metadata": {
        "execution": {
          "iopub.execute_input": "2023-09-02T19:00:26.694460Z",
          "iopub.status.busy": "2023-09-02T19:00:26.693994Z",
          "iopub.status.idle": "2023-09-02T19:00:26.696461Z",
          "shell.execute_reply": "2023-09-02T19:00:26.696150Z"
        },
        "papermill": {
          "duration": 0.007013,
          "end_time": "2023-09-02T19:00:26.697587",
          "exception": false,
          "start_time": "2023-09-02T19:00:26.690574",
          "status": "completed"
        },
        "tags": []
      },
      "outputs": [],
      "source": [
        "\n",
        "from sax.circuit import circuit as circuit\n",
        "from sax.circuit import get_required_circuit_models as get_required_circuit_models"
      ]
    },
    {
      "cell_type": "markdown",
      "id": "e2d7c9fc",
      "metadata": {
        "papermill": {
          "duration": 0.002814,
          "end_time": "2023-09-02T19:00:26.703285",
          "exception": false,
          "start_time": "2023-09-02T19:00:26.700471",
          "status": "completed"
        },
        "tags": []
      },
      "source": [
        "## Backend"
      ]
    },
    {
      "cell_type": "code",
      "execution_count": 11,
      "id": "2f860085cf04eb61",
      "metadata": {
        "execution": {
          "iopub.execute_input": "2023-09-02T19:00:26.710056Z",
          "iopub.status.busy": "2023-09-02T19:00:26.709675Z",
          "iopub.status.idle": "2023-09-02T19:00:26.712000Z",
          "shell.execute_reply": "2023-09-02T19:00:26.711639Z"
        },
        "papermill": {
          "duration": 0.006851,
          "end_time": "2023-09-02T19:00:26.713076",
          "exception": false,
          "start_time": "2023-09-02T19:00:26.706225",
          "status": "completed"
        },
        "tags": []
      },
      "outputs": [],
      "source": [
        "\n",
        "from sax import backends as backends"
      ]
    },
    {
      "cell_type": "markdown",
      "id": "3ecf363e",
      "metadata": {
        "papermill": {
          "duration": 0.002837,
          "end_time": "2023-09-02T19:00:26.718848",
          "exception": false,
          "start_time": "2023-09-02T19:00:26.716011",
          "status": "completed"
        },
        "tags": []
      },
      "source": [
        "## Patches"
      ]
    },
    {
      "cell_type": "code",
      "execution_count": 12,
      "id": "dd94a2ac28a10c21",
      "metadata": {
        "execution": {
          "iopub.execute_input": "2023-09-02T19:00:26.725937Z",
          "iopub.status.busy": "2023-09-02T19:00:26.725457Z",
          "iopub.status.idle": "2023-09-02T19:00:26.727864Z",
          "shell.execute_reply": "2023-09-02T19:00:26.727538Z"
        },
        "papermill": {
          "duration": 0.007103,
          "end_time": "2023-09-02T19:00:26.729002",
          "exception": false,
          "start_time": "2023-09-02T19:00:26.721899",
          "status": "completed"
        },
        "tags": []
      },
      "outputs": [],
      "source": [
        "\n",
        "from sax import patched as _patched"
      ]
    }
  ],
  "metadata": {
    "kernelspec": {
      "display_name": "sax",
      "language": "python",
      "name": "sax"
    },
    "language_info": {
      "codemirror_mode": {
        "name": "ipython",
        "version": 3
      },
      "file_extension": ".py",
      "mimetype": "text/x-python",
      "name": "python",
      "nbconvert_exporter": "python",
      "pygments_lexer": "ipython3",
      "version": "3.11.5"
    },
    "papermill": {
      "default_parameters": {},
      "duration": 3.120261,
      "end_time": "2023-09-02T19:00:27.149304",
      "environment_variables": {},
      "exception": null,
      "input_path": "./nbs/99_init.ipynb",
      "output_path": "./nbs/99_init.ipynb",
      "parameters": {},
      "start_time": "2023-09-02T19:00:24.029043",
      "version": "2.4.0"
    }
  },
  "nbformat": 4,
  "nbformat_minor": 5
}