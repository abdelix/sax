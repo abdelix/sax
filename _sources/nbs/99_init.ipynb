{
  "cells": [
    {
      "cell_type": "code",
      "execution_count": 1,
      "id": "7e722d825284e2dd",
      "metadata": {
        "execution": {
          "iopub.execute_input": "2023-09-01T15:54:59.289766Z",
          "iopub.status.busy": "2023-09-01T15:54:59.289019Z",
          "iopub.status.idle": "2023-09-01T15:54:59.293711Z",
          "shell.execute_reply": "2023-09-01T15:54:59.292909Z"
        },
        "papermill": {
          "duration": 0.012332,
          "end_time": "2023-09-01T15:54:59.295263",
          "exception": false,
          "start_time": "2023-09-01T15:54:59.282931",
          "status": "completed"
        },
        "tags": [
          "remove-cell"
        ]
      },
      "outputs": [],
      "source": []
    },
    {
      "cell_type": "markdown",
      "id": "b4250b31",
      "metadata": {
        "papermill": {
          "duration": 0.003522,
          "end_time": "2023-09-01T15:54:59.302430",
          "exception": false,
          "start_time": "2023-09-01T15:54:59.298908",
          "status": "completed"
        },
        "tags": []
      },
      "source": [
        "# SAX init\n",
        "\n",
        "> Import everything into the `sax` namespace:"
      ]
    },
    {
      "cell_type": "code",
      "execution_count": 2,
      "id": "943389086b204277",
      "metadata": {
        "execution": {
          "iopub.execute_input": "2023-09-01T15:54:59.310507Z",
          "iopub.status.busy": "2023-09-01T15:54:59.310052Z",
          "iopub.status.idle": "2023-09-01T15:54:59.850911Z",
          "shell.execute_reply": "2023-09-01T15:54:59.850224Z"
        },
        "papermill": {
          "duration": 0.547448,
          "end_time": "2023-09-01T15:54:59.853146",
          "exception": false,
          "start_time": "2023-09-01T15:54:59.305698",
          "status": "completed"
        },
        "tags": [
          "remove-cell"
        ]
      },
      "outputs": [],
      "source": [
        "import matplotlib.pyplot as plt\n",
        "from fastcore.test import test_eq\n",
        "from pytest import approx, raises\n",
        "\n",
        "import os, sys; sys.stderr = open(os.devnull, \"w\")"
      ]
    },
    {
      "cell_type": "code",
      "execution_count": 3,
      "id": "294e509b2fc224c4",
      "metadata": {
        "execution": {
          "iopub.execute_input": "2023-09-01T15:54:59.863451Z",
          "iopub.status.busy": "2023-09-01T15:54:59.862780Z",
          "iopub.status.idle": "2023-09-01T15:54:59.866304Z",
          "shell.execute_reply": "2023-09-01T15:54:59.865772Z"
        },
        "papermill": {
          "duration": 0.009933,
          "end_time": "2023-09-01T15:54:59.867999",
          "exception": false,
          "start_time": "2023-09-01T15:54:59.858066",
          "status": "completed"
        },
        "tags": [
          "remove-cell"
        ]
      },
      "outputs": [],
      "source": [
        "from __future__ import annotations\n",
        "\n",
        "__author__ = \"Floris Laporte\"\n",
        "__version__ = \"0.9.2\""
      ]
    },
    {
      "cell_type": "markdown",
      "id": "fe77e5e3",
      "metadata": {
        "papermill": {
          "duration": 0.00332,
          "end_time": "2023-09-01T15:54:59.874661",
          "exception": false,
          "start_time": "2023-09-01T15:54:59.871341",
          "status": "completed"
        },
        "tags": []
      },
      "source": [
        "## External\n",
        "\n",
        "utils from other packages available in SAX for convenience:"
      ]
    },
    {
      "cell_type": "code",
      "execution_count": 4,
      "id": "cc46f944e6640952",
      "metadata": {
        "execution": {
          "iopub.execute_input": "2023-09-01T15:54:59.884798Z",
          "iopub.status.busy": "2023-09-01T15:54:59.884130Z",
          "iopub.status.idle": "2023-09-01T15:55:00.459298Z",
          "shell.execute_reply": "2023-09-01T15:55:00.458725Z"
        },
        "papermill": {
          "duration": 0.582148,
          "end_time": "2023-09-01T15:55:00.461409",
          "exception": false,
          "start_time": "2023-09-01T15:54:59.879261",
          "status": "completed"
        },
        "tags": []
      },
      "outputs": [],
      "source": [
        "from functools import partial as partial\n",
        "from math import pi as pi\n",
        "\n",
        "from scipy.constants import c as c\n",
        "\n",
        "try:\n",
        "    from flax.core.frozen_dict import FrozenDict as FrozenDict\n",
        "except ImportError:\n",
        "    FrozenDict = dict"
      ]
    },
    {
      "cell_type": "markdown",
      "id": "3d3bde86",
      "metadata": {
        "papermill": {
          "duration": 0.003906,
          "end_time": "2023-09-01T15:55:00.469070",
          "exception": false,
          "start_time": "2023-09-01T15:55:00.465164",
          "status": "completed"
        },
        "tags": []
      },
      "source": [
        "## Typing"
      ]
    },
    {
      "cell_type": "code",
      "execution_count": 5,
      "id": "8d01bd69c45315b2",
      "metadata": {
        "execution": {
          "iopub.execute_input": "2023-09-01T15:55:00.520115Z",
          "iopub.status.busy": "2023-09-01T15:55:00.518879Z",
          "iopub.status.idle": "2023-09-01T15:55:00.957556Z",
          "shell.execute_reply": "2023-09-01T15:55:00.956757Z"
        },
        "papermill": {
          "duration": 0.446143,
          "end_time": "2023-09-01T15:55:00.959572",
          "exception": false,
          "start_time": "2023-09-01T15:55:00.513429",
          "status": "completed"
        },
        "tags": []
      },
      "outputs": [],
      "source": [
        "\n",
        "from sax import typing_ as typing\n",
        "from sax.typing_ import (\n",
        "    Array as Array,\n",
        "    ComplexFloat as ComplexFloat,\n",
        "    Float as Float,\n",
        "    Model as Model,\n",
        "    ModelFactory as ModelFactory,\n",
        "    Models as Models,\n",
        "    SCoo as SCoo,\n",
        "    SDense as SDense,\n",
        "    SDict as SDict,\n",
        "    Settings as Settings,\n",
        "    SType as SType,\n",
        "    is_complex as is_complex,\n",
        "    is_complex_float as is_complex_float,\n",
        "    is_float as is_float,\n",
        "    is_mixedmode as is_mixedmode,\n",
        "    is_model as is_model,\n",
        "    is_model_factory as is_model_factory,\n",
        "    is_multimode as is_multimode,\n",
        "    is_scoo as is_scoo,\n",
        "    is_sdense as is_sdense,\n",
        "    is_sdict as is_sdict,\n",
        "    is_singlemode as is_singlemode,\n",
        "    modelfactory as modelfactory,\n",
        "    scoo as scoo,\n",
        "    sdense as sdense,\n",
        "    sdict as sdict,\n",
        "    validate_model as validate_model,\n",
        ")"
      ]
    },
    {
      "cell_type": "markdown",
      "id": "345808d3",
      "metadata": {
        "papermill": {
          "duration": 0.003604,
          "end_time": "2023-09-01T15:55:00.967429",
          "exception": false,
          "start_time": "2023-09-01T15:55:00.963825",
          "status": "completed"
        },
        "tags": []
      },
      "source": [
        "## Utils"
      ]
    },
    {
      "cell_type": "code",
      "execution_count": 6,
      "id": "06aece5606baca4c",
      "metadata": {
        "execution": {
          "iopub.execute_input": "2023-09-01T15:55:00.977014Z",
          "iopub.status.busy": "2023-09-01T15:55:00.976078Z",
          "iopub.status.idle": "2023-09-01T15:55:00.982446Z",
          "shell.execute_reply": "2023-09-01T15:55:00.981894Z"
        },
        "papermill": {
          "duration": 0.012854,
          "end_time": "2023-09-01T15:55:00.984027",
          "exception": false,
          "start_time": "2023-09-01T15:55:00.971173",
          "status": "completed"
        },
        "tags": []
      },
      "outputs": [],
      "source": [
        "\n",
        "from sax import utils as utils\n",
        "from sax.utils import (\n",
        "    block_diag as block_diag,\n",
        "    clean_string as clean_string,\n",
        "    copy_settings as copy_settings,\n",
        "    flatten_dict as flatten_dict,\n",
        "    get_inputs_outputs as get_inputs_outputs,\n",
        "    get_port_combinations as get_port_combinations,\n",
        "    get_ports as get_ports,\n",
        "    get_settings as get_settings,\n",
        "    grouped_interp as grouped_interp,\n",
        "    merge_dicts as merge_dicts,\n",
        "    mode_combinations as mode_combinations,\n",
        "    reciprocal as reciprocal,\n",
        "    rename_params as rename_params,\n",
        "    rename_ports as rename_ports,\n",
        "    try_float as try_float,\n",
        "    unflatten_dict as unflatten_dict,\n",
        "    update_settings as update_settings,\n",
        "    validate_multimode as validate_multimode,\n",
        "    validate_not_mixedmode as validate_not_mixedmode,\n",
        "    validate_sdict as validate_sdict,\n",
        "    validate_settings as validate_settings,\n",
        ")"
      ]
    },
    {
      "cell_type": "markdown",
      "id": "23287a09",
      "metadata": {
        "papermill": {
          "duration": 0.003453,
          "end_time": "2023-09-01T15:55:00.990965",
          "exception": false,
          "start_time": "2023-09-01T15:55:00.987512",
          "status": "completed"
        },
        "tags": []
      },
      "source": [
        "## Multimode"
      ]
    },
    {
      "cell_type": "code",
      "execution_count": 7,
      "id": "c409ef08d4d19c15",
      "metadata": {
        "execution": {
          "iopub.execute_input": "2023-09-01T15:55:00.999698Z",
          "iopub.status.busy": "2023-09-01T15:55:00.998983Z",
          "iopub.status.idle": "2023-09-01T15:55:01.002560Z",
          "shell.execute_reply": "2023-09-01T15:55:01.002096Z"
        },
        "papermill": {
          "duration": 0.009506,
          "end_time": "2023-09-01T15:55:01.003889",
          "exception": false,
          "start_time": "2023-09-01T15:55:00.994383",
          "status": "completed"
        },
        "tags": []
      },
      "outputs": [],
      "source": [
        "\n",
        "from sax import multimode as multimode\n",
        "from sax.multimode import (\n",
        "    multimode as multimode,\n",
        "    singlemode as singlemode,\n",
        ")"
      ]
    },
    {
      "cell_type": "markdown",
      "id": "c794abf0",
      "metadata": {
        "papermill": {
          "duration": 0.003479,
          "end_time": "2023-09-01T15:55:01.010773",
          "exception": false,
          "start_time": "2023-09-01T15:55:01.007294",
          "status": "completed"
        },
        "tags": []
      },
      "source": [
        "## Models"
      ]
    },
    {
      "cell_type": "code",
      "execution_count": 8,
      "id": "d5ec5720f3dd54f7",
      "metadata": {
        "execution": {
          "iopub.execute_input": "2023-09-01T15:55:01.019246Z",
          "iopub.status.busy": "2023-09-01T15:55:01.018788Z",
          "iopub.status.idle": "2023-09-01T15:55:01.022092Z",
          "shell.execute_reply": "2023-09-01T15:55:01.021651Z"
        },
        "papermill": {
          "duration": 0.009087,
          "end_time": "2023-09-01T15:55:01.023436",
          "exception": false,
          "start_time": "2023-09-01T15:55:01.014349",
          "status": "completed"
        },
        "tags": []
      },
      "outputs": [],
      "source": [
        "\n",
        "from sax import models as models\n",
        "from sax.models import get_models as get_models, passthru as passthru"
      ]
    },
    {
      "cell_type": "markdown",
      "id": "b94feb62",
      "metadata": {
        "papermill": {
          "duration": 0.003436,
          "end_time": "2023-09-01T15:55:01.030476",
          "exception": false,
          "start_time": "2023-09-01T15:55:01.027040",
          "status": "completed"
        },
        "tags": []
      },
      "source": [
        "## Netlist"
      ]
    },
    {
      "cell_type": "code",
      "execution_count": 9,
      "id": "253e759b1673c67f",
      "metadata": {
        "execution": {
          "iopub.execute_input": "2023-09-01T15:55:01.039132Z",
          "iopub.status.busy": "2023-09-01T15:55:01.038585Z",
          "iopub.status.idle": "2023-09-01T15:55:01.042312Z",
          "shell.execute_reply": "2023-09-01T15:55:01.041841Z"
        },
        "papermill": {
          "duration": 0.00988,
          "end_time": "2023-09-01T15:55:01.043947",
          "exception": false,
          "start_time": "2023-09-01T15:55:01.034067",
          "status": "completed"
        },
        "tags": []
      },
      "outputs": [],
      "source": [
        "\n",
        "from sax.netlist import netlist as netlist\n",
        "from sax.netlist import load_netlist as load_netlist\n",
        "from sax.netlist import load_recursive_netlist as load_recursive_netlist\n",
        "from sax.netlist import get_netlist_instances_by_prefix as get_netlist_instances_by_prefix\n",
        "from sax.netlist import get_component_instances as get_component_instances"
      ]
    },
    {
      "cell_type": "markdown",
      "id": "5792b5e9",
      "metadata": {
        "papermill": {
          "duration": 0.003398,
          "end_time": "2023-09-01T15:55:01.050832",
          "exception": false,
          "start_time": "2023-09-01T15:55:01.047434",
          "status": "completed"
        },
        "tags": []
      },
      "source": [
        "## Circuit"
      ]
    },
    {
      "cell_type": "code",
      "execution_count": 10,
      "id": "b2b358ff9f144880",
      "metadata": {
        "execution": {
          "iopub.execute_input": "2023-09-01T15:55:01.060553Z",
          "iopub.status.busy": "2023-09-01T15:55:01.059478Z",
          "iopub.status.idle": "2023-09-01T15:55:01.063358Z",
          "shell.execute_reply": "2023-09-01T15:55:01.062862Z"
        },
        "papermill": {
          "duration": 0.010352,
          "end_time": "2023-09-01T15:55:01.064888",
          "exception": false,
          "start_time": "2023-09-01T15:55:01.054536",
          "status": "completed"
        },
        "tags": []
      },
      "outputs": [],
      "source": [
        "\n",
        "from sax.circuit import circuit as circuit\n",
        "from sax.circuit import get_required_circuit_models as get_required_circuit_models"
      ]
    },
    {
      "cell_type": "markdown",
      "id": "e2d7c9fc",
      "metadata": {
        "papermill": {
          "duration": 0.003811,
          "end_time": "2023-09-01T15:55:01.072456",
          "exception": false,
          "start_time": "2023-09-01T15:55:01.068645",
          "status": "completed"
        },
        "tags": []
      },
      "source": [
        "## Backend"
      ]
    },
    {
      "cell_type": "code",
      "execution_count": 11,
      "id": "92c749e134e2ed45",
      "metadata": {
        "execution": {
          "iopub.execute_input": "2023-09-01T15:55:01.081669Z",
          "iopub.status.busy": "2023-09-01T15:55:01.080858Z",
          "iopub.status.idle": "2023-09-01T15:55:01.084729Z",
          "shell.execute_reply": "2023-09-01T15:55:01.083744Z"
        },
        "papermill": {
          "duration": 0.010245,
          "end_time": "2023-09-01T15:55:01.086398",
          "exception": false,
          "start_time": "2023-09-01T15:55:01.076153",
          "status": "completed"
        },
        "tags": []
      },
      "outputs": [],
      "source": [
        "\n",
        "from sax import backends as backends"
      ]
    },
    {
      "cell_type": "markdown",
      "id": "3ecf363e",
      "metadata": {
        "papermill": {
          "duration": 0.0036,
          "end_time": "2023-09-01T15:55:01.093713",
          "exception": false,
          "start_time": "2023-09-01T15:55:01.090113",
          "status": "completed"
        },
        "tags": []
      },
      "source": [
        "## Patches"
      ]
    },
    {
      "cell_type": "code",
      "execution_count": 12,
      "id": "099037aa75726d48",
      "metadata": {
        "execution": {
          "iopub.execute_input": "2023-09-01T15:55:01.104788Z",
          "iopub.status.busy": "2023-09-01T15:55:01.103248Z",
          "iopub.status.idle": "2023-09-01T15:55:01.107372Z",
          "shell.execute_reply": "2023-09-01T15:55:01.106946Z"
        },
        "papermill": {
          "duration": 0.010473,
          "end_time": "2023-09-01T15:55:01.108723",
          "exception": false,
          "start_time": "2023-09-01T15:55:01.098250",
          "status": "completed"
        },
        "tags": []
      },
      "outputs": [],
      "source": [
        "\n",
        "from sax import patched as _patched"
      ]
    }
  ],
  "metadata": {
    "kernelspec": {
      "display_name": "sax",
      "language": "python",
      "name": "sax"
    },
    "language_info": {
      "codemirror_mode": {
        "name": "ipython",
        "version": 3
      },
      "file_extension": ".py",
      "mimetype": "text/x-python",
      "name": "python",
      "nbconvert_exporter": "python",
      "pygments_lexer": "ipython3",
      "version": "3.11.5"
    },
    "papermill": {
      "default_parameters": {},
      "duration": 3.769976,
      "end_time": "2023-09-01T15:55:01.731545",
      "environment_variables": {},
      "exception": null,
      "input_path": "./nbs/99_init.ipynb",
      "output_path": "./nbs/99_init.ipynb",
      "parameters": {},
      "start_time": "2023-09-01T15:54:57.961569",
      "version": "2.4.0"
    }
  },
  "nbformat": 4,
  "nbformat_minor": 5
}