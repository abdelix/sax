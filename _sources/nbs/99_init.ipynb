{
  "cells": [
    {
      "cell_type": "code",
      "execution_count": 1,
      "id": "0e5ed1dffbee17fc",
      "metadata": {
        "execution": {
          "iopub.execute_input": "2023-09-02T18:52:36.346611Z",
          "iopub.status.busy": "2023-09-02T18:52:36.346072Z",
          "iopub.status.idle": "2023-09-02T18:52:36.349868Z",
          "shell.execute_reply": "2023-09-02T18:52:36.349216Z"
        },
        "papermill": {
          "duration": 0.010276,
          "end_time": "2023-09-02T18:52:36.351172",
          "exception": false,
          "start_time": "2023-09-02T18:52:36.340896",
          "status": "completed"
        },
        "tags": [
          "remove-cell"
        ]
      },
      "outputs": [],
      "source": []
    },
    {
      "cell_type": "markdown",
      "id": "b4250b31",
      "metadata": {
        "papermill": {
          "duration": 0.00275,
          "end_time": "2023-09-02T18:52:36.356948",
          "exception": false,
          "start_time": "2023-09-02T18:52:36.354198",
          "status": "completed"
        },
        "tags": []
      },
      "source": [
        "# SAX init\n",
        "\n",
        "> Import everything into the `sax` namespace:"
      ]
    },
    {
      "cell_type": "code",
      "execution_count": 2,
      "id": "7c842b22845c306b",
      "metadata": {
        "execution": {
          "iopub.execute_input": "2023-09-02T18:52:36.363363Z",
          "iopub.status.busy": "2023-09-02T18:52:36.362997Z",
          "iopub.status.idle": "2023-09-02T18:52:36.795511Z",
          "shell.execute_reply": "2023-09-02T18:52:36.795055Z"
        },
        "papermill": {
          "duration": 0.437562,
          "end_time": "2023-09-02T18:52:36.797178",
          "exception": false,
          "start_time": "2023-09-02T18:52:36.359616",
          "status": "completed"
        },
        "tags": [
          "remove-cell"
        ]
      },
      "outputs": [],
      "source": [
        "import matplotlib.pyplot as plt\n",
        "from fastcore.test import test_eq\n",
        "from pytest import approx, raises\n",
        "\n",
        "import os, sys; sys.stderr = open(os.devnull, \"w\")"
      ]
    },
    {
      "cell_type": "code",
      "execution_count": 3,
      "id": "58a1b0cc74e8499c",
      "metadata": {
        "execution": {
          "iopub.execute_input": "2023-09-02T18:52:36.804889Z",
          "iopub.status.busy": "2023-09-02T18:52:36.804496Z",
          "iopub.status.idle": "2023-09-02T18:52:36.807242Z",
          "shell.execute_reply": "2023-09-02T18:52:36.806816Z"
        },
        "papermill": {
          "duration": 0.00801,
          "end_time": "2023-09-02T18:52:36.808452",
          "exception": false,
          "start_time": "2023-09-02T18:52:36.800442",
          "status": "completed"
        },
        "tags": [
          "remove-cell"
        ]
      },
      "outputs": [],
      "source": [
        "from __future__ import annotations\n",
        "\n",
        "__author__ = \"Floris Laporte\"\n",
        "__version__ = \"0.9.2\""
      ]
    },
    {
      "cell_type": "markdown",
      "id": "fe77e5e3",
      "metadata": {
        "papermill": {
          "duration": 0.002609,
          "end_time": "2023-09-02T18:52:36.813694",
          "exception": false,
          "start_time": "2023-09-02T18:52:36.811085",
          "status": "completed"
        },
        "tags": []
      },
      "source": [
        "## External\n",
        "\n",
        "utils from other packages available in SAX for convenience:"
      ]
    },
    {
      "cell_type": "code",
      "execution_count": 4,
      "id": "17b56f7e5fdfe8e5",
      "metadata": {
        "execution": {
          "iopub.execute_input": "2023-09-02T18:52:36.821199Z",
          "iopub.status.busy": "2023-09-02T18:52:36.820728Z",
          "iopub.status.idle": "2023-09-02T18:52:37.280689Z",
          "shell.execute_reply": "2023-09-02T18:52:37.280217Z"
        },
        "papermill": {
          "duration": 0.465044,
          "end_time": "2023-09-02T18:52:37.282393",
          "exception": false,
          "start_time": "2023-09-02T18:52:36.817349",
          "status": "completed"
        },
        "tags": []
      },
      "outputs": [],
      "source": [
        "from functools import partial as partial\n",
        "from math import pi as pi\n",
        "\n",
        "from scipy.constants import c as c\n",
        "\n",
        "try:\n",
        "    from flax.core.frozen_dict import FrozenDict as FrozenDict\n",
        "except ImportError:\n",
        "    FrozenDict = dict"
      ]
    },
    {
      "cell_type": "markdown",
      "id": "3d3bde86",
      "metadata": {
        "papermill": {
          "duration": 0.003237,
          "end_time": "2023-09-02T18:52:37.289045",
          "exception": false,
          "start_time": "2023-09-02T18:52:37.285808",
          "status": "completed"
        },
        "tags": []
      },
      "source": [
        "## Typing"
      ]
    },
    {
      "cell_type": "code",
      "execution_count": 5,
      "id": "ddc307581b88b1c6",
      "metadata": {
        "execution": {
          "iopub.execute_input": "2023-09-02T18:52:37.326220Z",
          "iopub.status.busy": "2023-09-02T18:52:37.325666Z",
          "iopub.status.idle": "2023-09-02T18:52:37.666486Z",
          "shell.execute_reply": "2023-09-02T18:52:37.666011Z"
        },
        "papermill": {
          "duration": 0.346339,
          "end_time": "2023-09-02T18:52:37.667989",
          "exception": false,
          "start_time": "2023-09-02T18:52:37.321650",
          "status": "completed"
        },
        "tags": []
      },
      "outputs": [],
      "source": [
        "\n",
        "from sax import typing_ as typing\n",
        "from sax.typing_ import (\n",
        "    Array as Array,\n",
        "    ComplexFloat as ComplexFloat,\n",
        "    Float as Float,\n",
        "    Model as Model,\n",
        "    ModelFactory as ModelFactory,\n",
        "    Models as Models,\n",
        "    SCoo as SCoo,\n",
        "    SDense as SDense,\n",
        "    SDict as SDict,\n",
        "    Settings as Settings,\n",
        "    SType as SType,\n",
        "    is_complex as is_complex,\n",
        "    is_complex_float as is_complex_float,\n",
        "    is_float as is_float,\n",
        "    is_mixedmode as is_mixedmode,\n",
        "    is_model as is_model,\n",
        "    is_model_factory as is_model_factory,\n",
        "    is_multimode as is_multimode,\n",
        "    is_scoo as is_scoo,\n",
        "    is_sdense as is_sdense,\n",
        "    is_sdict as is_sdict,\n",
        "    is_singlemode as is_singlemode,\n",
        "    modelfactory as modelfactory,\n",
        "    scoo as scoo,\n",
        "    sdense as sdense,\n",
        "    sdict as sdict,\n",
        "    validate_model as validate_model,\n",
        ")"
      ]
    },
    {
      "cell_type": "markdown",
      "id": "345808d3",
      "metadata": {
        "papermill": {
          "duration": 0.003263,
          "end_time": "2023-09-02T18:52:37.674337",
          "exception": false,
          "start_time": "2023-09-02T18:52:37.671074",
          "status": "completed"
        },
        "tags": []
      },
      "source": [
        "## Utils"
      ]
    },
    {
      "cell_type": "code",
      "execution_count": 6,
      "id": "ea56975d1d12544a",
      "metadata": {
        "execution": {
          "iopub.execute_input": "2023-09-02T18:52:37.681468Z",
          "iopub.status.busy": "2023-09-02T18:52:37.680791Z",
          "iopub.status.idle": "2023-09-02T18:52:37.685463Z",
          "shell.execute_reply": "2023-09-02T18:52:37.685084Z"
        },
        "papermill": {
          "duration": 0.009392,
          "end_time": "2023-09-02T18:52:37.686533",
          "exception": false,
          "start_time": "2023-09-02T18:52:37.677141",
          "status": "completed"
        },
        "tags": []
      },
      "outputs": [],
      "source": [
        "\n",
        "from sax import utils as utils\n",
        "from sax.utils import (\n",
        "    block_diag as block_diag,\n",
        "    clean_string as clean_string,\n",
        "    copy_settings as copy_settings,\n",
        "    flatten_dict as flatten_dict,\n",
        "    get_inputs_outputs as get_inputs_outputs,\n",
        "    get_port_combinations as get_port_combinations,\n",
        "    get_ports as get_ports,\n",
        "    get_settings as get_settings,\n",
        "    grouped_interp as grouped_interp,\n",
        "    merge_dicts as merge_dicts,\n",
        "    mode_combinations as mode_combinations,\n",
        "    reciprocal as reciprocal,\n",
        "    rename_params as rename_params,\n",
        "    rename_ports as rename_ports,\n",
        "    try_float as try_float,\n",
        "    unflatten_dict as unflatten_dict,\n",
        "    update_settings as update_settings,\n",
        "    validate_multimode as validate_multimode,\n",
        "    validate_not_mixedmode as validate_not_mixedmode,\n",
        "    validate_sdict as validate_sdict,\n",
        "    validate_settings as validate_settings,\n",
        ")"
      ]
    },
    {
      "cell_type": "markdown",
      "id": "23287a09",
      "metadata": {
        "papermill": {
          "duration": 0.002722,
          "end_time": "2023-09-02T18:52:37.691972",
          "exception": false,
          "start_time": "2023-09-02T18:52:37.689250",
          "status": "completed"
        },
        "tags": []
      },
      "source": [
        "## Multimode"
      ]
    },
    {
      "cell_type": "code",
      "execution_count": 7,
      "id": "9d2551cdd847d857",
      "metadata": {
        "execution": {
          "iopub.execute_input": "2023-09-02T18:52:37.698680Z",
          "iopub.status.busy": "2023-09-02T18:52:37.698309Z",
          "iopub.status.idle": "2023-09-02T18:52:37.700787Z",
          "shell.execute_reply": "2023-09-02T18:52:37.700466Z"
        },
        "papermill": {
          "duration": 0.007194,
          "end_time": "2023-09-02T18:52:37.701983",
          "exception": false,
          "start_time": "2023-09-02T18:52:37.694789",
          "status": "completed"
        },
        "tags": []
      },
      "outputs": [],
      "source": [
        "\n",
        "from sax import multimode as multimode\n",
        "from sax.multimode import (\n",
        "    multimode as multimode,\n",
        "    singlemode as singlemode,\n",
        ")"
      ]
    },
    {
      "cell_type": "markdown",
      "id": "c794abf0",
      "metadata": {
        "papermill": {
          "duration": 0.002765,
          "end_time": "2023-09-02T18:52:37.707489",
          "exception": false,
          "start_time": "2023-09-02T18:52:37.704724",
          "status": "completed"
        },
        "tags": []
      },
      "source": [
        "## Models"
      ]
    },
    {
      "cell_type": "code",
      "execution_count": 8,
      "id": "52e608ea73a5777d",
      "metadata": {
        "execution": {
          "iopub.execute_input": "2023-09-02T18:52:37.714161Z",
          "iopub.status.busy": "2023-09-02T18:52:37.713796Z",
          "iopub.status.idle": "2023-09-02T18:52:37.716425Z",
          "shell.execute_reply": "2023-09-02T18:52:37.716061Z"
        },
        "papermill": {
          "duration": 0.007163,
          "end_time": "2023-09-02T18:52:37.717485",
          "exception": false,
          "start_time": "2023-09-02T18:52:37.710322",
          "status": "completed"
        },
        "tags": []
      },
      "outputs": [],
      "source": [
        "\n",
        "from sax import models as models\n",
        "from sax.models import get_models as get_models, passthru as passthru"
      ]
    },
    {
      "cell_type": "markdown",
      "id": "b94feb62",
      "metadata": {
        "papermill": {
          "duration": 0.002782,
          "end_time": "2023-09-02T18:52:37.723026",
          "exception": false,
          "start_time": "2023-09-02T18:52:37.720244",
          "status": "completed"
        },
        "tags": []
      },
      "source": [
        "## Netlist"
      ]
    },
    {
      "cell_type": "code",
      "execution_count": 9,
      "id": "becbd7fcf3b0a2eb",
      "metadata": {
        "execution": {
          "iopub.execute_input": "2023-09-02T18:52:37.729900Z",
          "iopub.status.busy": "2023-09-02T18:52:37.729556Z",
          "iopub.status.idle": "2023-09-02T18:52:37.732203Z",
          "shell.execute_reply": "2023-09-02T18:52:37.731874Z"
        },
        "papermill": {
          "duration": 0.00729,
          "end_time": "2023-09-02T18:52:37.733227",
          "exception": false,
          "start_time": "2023-09-02T18:52:37.725937",
          "status": "completed"
        },
        "tags": []
      },
      "outputs": [],
      "source": [
        "\n",
        "from sax.netlist import netlist as netlist\n",
        "from sax.netlist import load_netlist as load_netlist\n",
        "from sax.netlist import load_recursive_netlist as load_recursive_netlist\n",
        "from sax.netlist import get_netlist_instances_by_prefix as get_netlist_instances_by_prefix\n",
        "from sax.netlist import get_component_instances as get_component_instances"
      ]
    },
    {
      "cell_type": "markdown",
      "id": "5792b5e9",
      "metadata": {
        "papermill": {
          "duration": 0.002794,
          "end_time": "2023-09-02T18:52:37.738810",
          "exception": false,
          "start_time": "2023-09-02T18:52:37.736016",
          "status": "completed"
        },
        "tags": []
      },
      "source": [
        "## Circuit"
      ]
    },
    {
      "cell_type": "code",
      "execution_count": 10,
      "id": "6ec19dc50389d698",
      "metadata": {
        "execution": {
          "iopub.execute_input": "2023-09-02T18:52:37.745637Z",
          "iopub.status.busy": "2023-09-02T18:52:37.745234Z",
          "iopub.status.idle": "2023-09-02T18:52:37.747920Z",
          "shell.execute_reply": "2023-09-02T18:52:37.747442Z"
        },
        "papermill": {
          "duration": 0.007403,
          "end_time": "2023-09-02T18:52:37.749083",
          "exception": false,
          "start_time": "2023-09-02T18:52:37.741680",
          "status": "completed"
        },
        "tags": []
      },
      "outputs": [],
      "source": [
        "\n",
        "from sax.circuit import circuit as circuit\n",
        "from sax.circuit import get_required_circuit_models as get_required_circuit_models"
      ]
    },
    {
      "cell_type": "markdown",
      "id": "e2d7c9fc",
      "metadata": {
        "papermill": {
          "duration": 0.002821,
          "end_time": "2023-09-02T18:52:37.754720",
          "exception": false,
          "start_time": "2023-09-02T18:52:37.751899",
          "status": "completed"
        },
        "tags": []
      },
      "source": [
        "## Backend"
      ]
    },
    {
      "cell_type": "code",
      "execution_count": 11,
      "id": "49d8f28d7c8aad5e",
      "metadata": {
        "execution": {
          "iopub.execute_input": "2023-09-02T18:52:37.761640Z",
          "iopub.status.busy": "2023-09-02T18:52:37.761089Z",
          "iopub.status.idle": "2023-09-02T18:52:37.763505Z",
          "shell.execute_reply": "2023-09-02T18:52:37.763186Z"
        },
        "papermill": {
          "duration": 0.006917,
          "end_time": "2023-09-02T18:52:37.764531",
          "exception": false,
          "start_time": "2023-09-02T18:52:37.757614",
          "status": "completed"
        },
        "tags": []
      },
      "outputs": [],
      "source": [
        "\n",
        "from sax import backends as backends"
      ]
    },
    {
      "cell_type": "markdown",
      "id": "3ecf363e",
      "metadata": {
        "papermill": {
          "duration": 0.002871,
          "end_time": "2023-09-02T18:52:37.770254",
          "exception": false,
          "start_time": "2023-09-02T18:52:37.767383",
          "status": "completed"
        },
        "tags": []
      },
      "source": [
        "## Patches"
      ]
    },
    {
      "cell_type": "code",
      "execution_count": 12,
      "id": "dc212cf634f30124",
      "metadata": {
        "execution": {
          "iopub.execute_input": "2023-09-02T18:52:37.777602Z",
          "iopub.status.busy": "2023-09-02T18:52:37.777148Z",
          "iopub.status.idle": "2023-09-02T18:52:37.779518Z",
          "shell.execute_reply": "2023-09-02T18:52:37.779183Z"
        },
        "papermill": {
          "duration": 0.007487,
          "end_time": "2023-09-02T18:52:37.780723",
          "exception": false,
          "start_time": "2023-09-02T18:52:37.773236",
          "status": "completed"
        },
        "tags": []
      },
      "outputs": [],
      "source": [
        "\n",
        "from sax import patched as _patched"
      ]
    }
  ],
  "metadata": {
    "kernelspec": {
      "display_name": "sax",
      "language": "python",
      "name": "sax"
    },
    "language_info": {
      "codemirror_mode": {
        "name": "ipython",
        "version": 3
      },
      "file_extension": ".py",
      "mimetype": "text/x-python",
      "name": "python",
      "nbconvert_exporter": "python",
      "pygments_lexer": "ipython3",
      "version": "3.11.5"
    },
    "papermill": {
      "default_parameters": {},
      "duration": 3.188082,
      "end_time": "2023-09-02T18:52:38.200323",
      "environment_variables": {},
      "exception": null,
      "input_path": "./nbs/99_init.ipynb",
      "output_path": "./nbs/99_init.ipynb",
      "parameters": {},
      "start_time": "2023-09-02T18:52:35.012241",
      "version": "2.4.0"
    }
  },
  "nbformat": 4,
  "nbformat_minor": 5
}