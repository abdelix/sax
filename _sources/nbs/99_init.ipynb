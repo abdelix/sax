{
  "cells": [
    {
      "cell_type": "code",
      "execution_count": 1,
      "id": "06e61bcc7257c7cd",
      "metadata": {
        "execution": {
          "iopub.execute_input": "2023-06-01T21:10:24.221607Z",
          "iopub.status.busy": "2023-06-01T21:10:24.221132Z",
          "iopub.status.idle": "2023-06-01T21:10:24.225103Z",
          "shell.execute_reply": "2023-06-01T21:10:24.224615Z"
        },
        "papermill": {
          "duration": 0.013787,
          "end_time": "2023-06-01T21:10:24.226528",
          "exception": false,
          "start_time": "2023-06-01T21:10:24.212741",
          "status": "completed"
        },
        "tags": [
          "remove-cell"
        ]
      },
      "outputs": [],
      "source": []
    },
    {
      "cell_type": "markdown",
      "id": "b4250b31",
      "metadata": {
        "papermill": {
          "duration": 0.002586,
          "end_time": "2023-06-01T21:10:24.233220",
          "exception": false,
          "start_time": "2023-06-01T21:10:24.230634",
          "status": "completed"
        },
        "tags": []
      },
      "source": [
        "# SAX init\n",
        "\n",
        "> Import everything into the `sax` namespace:"
      ]
    },
    {
      "cell_type": "code",
      "execution_count": 2,
      "id": "89794cc327bc898e",
      "metadata": {
        "execution": {
          "iopub.execute_input": "2023-06-01T21:10:24.239313Z",
          "iopub.status.busy": "2023-06-01T21:10:24.239096Z",
          "iopub.status.idle": "2023-06-01T21:10:24.710267Z",
          "shell.execute_reply": "2023-06-01T21:10:24.709836Z"
        },
        "papermill": {
          "duration": 0.475979,
          "end_time": "2023-06-01T21:10:24.711699",
          "exception": false,
          "start_time": "2023-06-01T21:10:24.235720",
          "status": "completed"
        },
        "tags": [
          "remove-cell"
        ]
      },
      "outputs": [],
      "source": [
        "import matplotlib.pyplot as plt\n",
        "from fastcore.test import test_eq\n",
        "from pytest import approx, raises\n",
        "\n",
        "import os, sys; sys.stderr = open(os.devnull, \"w\")"
      ]
    },
    {
      "cell_type": "code",
      "execution_count": 3,
      "id": "c2e4674090c96c82",
      "metadata": {
        "execution": {
          "iopub.execute_input": "2023-06-01T21:10:24.718843Z",
          "iopub.status.busy": "2023-06-01T21:10:24.718122Z",
          "iopub.status.idle": "2023-06-01T21:10:24.721544Z",
          "shell.execute_reply": "2023-06-01T21:10:24.721176Z"
        },
        "papermill": {
          "duration": 0.008317,
          "end_time": "2023-06-01T21:10:24.722887",
          "exception": false,
          "start_time": "2023-06-01T21:10:24.714570",
          "status": "completed"
        },
        "tags": [
          "remove-cell"
        ]
      },
      "outputs": [],
      "source": [
        "from __future__ import annotations\n",
        "\n",
        "__author__ = \"Floris Laporte\"\n",
        "__version__ = \"0.8.6\""
      ]
    },
    {
      "cell_type": "markdown",
      "id": "fe77e5e3",
      "metadata": {
        "papermill": {
          "duration": 0.002576,
          "end_time": "2023-06-01T21:10:24.728026",
          "exception": false,
          "start_time": "2023-06-01T21:10:24.725450",
          "status": "completed"
        },
        "tags": []
      },
      "source": [
        "## External\n",
        "\n",
        "utils from other packages available in SAX for convenience:"
      ]
    },
    {
      "cell_type": "code",
      "execution_count": 4,
      "id": "fef0f4b85fa2351c",
      "metadata": {
        "execution": {
          "iopub.execute_input": "2023-06-01T21:10:24.734144Z",
          "iopub.status.busy": "2023-06-01T21:10:24.733941Z",
          "iopub.status.idle": "2023-06-01T21:10:25.180118Z",
          "shell.execute_reply": "2023-06-01T21:10:25.179647Z"
        },
        "papermill": {
          "duration": 0.451026,
          "end_time": "2023-06-01T21:10:25.181650",
          "exception": false,
          "start_time": "2023-06-01T21:10:24.730624",
          "status": "completed"
        },
        "tags": []
      },
      "outputs": [],
      "source": [
        "from functools import partial as partial\n",
        "from math import pi as pi\n",
        "\n",
        "from scipy.constants import c as c\n",
        "\n",
        "try:\n",
        "    from flax.core.frozen_dict import FrozenDict as FrozenDict\n",
        "except ImportError:\n",
        "    FrozenDict = dict"
      ]
    },
    {
      "cell_type": "markdown",
      "id": "3d3bde86",
      "metadata": {
        "papermill": {
          "duration": 0.002621,
          "end_time": "2023-06-01T21:10:25.187184",
          "exception": false,
          "start_time": "2023-06-01T21:10:25.184563",
          "status": "completed"
        },
        "tags": []
      },
      "source": [
        "## Typing"
      ]
    },
    {
      "cell_type": "code",
      "execution_count": 5,
      "id": "27f44328240ade86",
      "metadata": {
        "execution": {
          "iopub.execute_input": "2023-06-01T21:10:25.193721Z",
          "iopub.status.busy": "2023-06-01T21:10:25.193215Z",
          "iopub.status.idle": "2023-06-01T21:10:25.492082Z",
          "shell.execute_reply": "2023-06-01T21:10:25.491568Z"
        },
        "papermill": {
          "duration": 0.304049,
          "end_time": "2023-06-01T21:10:25.493831",
          "exception": false,
          "start_time": "2023-06-01T21:10:25.189782",
          "status": "completed"
        },
        "tags": []
      },
      "outputs": [],
      "source": [
        "\n",
        "from sax import typing_ as typing\n",
        "from sax.typing_ import (\n",
        "    Array as Array,\n",
        "    ComplexFloat as ComplexFloat,\n",
        "    Float as Float,\n",
        "    Model as Model,\n",
        "    ModelFactory as ModelFactory,\n",
        "    Models as Models,\n",
        "    SCoo as SCoo,\n",
        "    SDense as SDense,\n",
        "    SDict as SDict,\n",
        "    Settings as Settings,\n",
        "    SType as SType,\n",
        "    is_complex as is_complex,\n",
        "    is_complex_float as is_complex_float,\n",
        "    is_float as is_float,\n",
        "    is_mixedmode as is_mixedmode,\n",
        "    is_model as is_model,\n",
        "    is_model_factory as is_model_factory,\n",
        "    is_multimode as is_multimode,\n",
        "    is_scoo as is_scoo,\n",
        "    is_sdense as is_sdense,\n",
        "    is_sdict as is_sdict,\n",
        "    is_singlemode as is_singlemode,\n",
        "    modelfactory as modelfactory,\n",
        "    scoo as scoo,\n",
        "    sdense as sdense,\n",
        "    sdict as sdict,\n",
        "    validate_model as validate_model,\n",
        ")"
      ]
    },
    {
      "cell_type": "markdown",
      "id": "345808d3",
      "metadata": {
        "papermill": {
          "duration": 0.005491,
          "end_time": "2023-06-01T21:10:25.502251",
          "exception": false,
          "start_time": "2023-06-01T21:10:25.496760",
          "status": "completed"
        },
        "tags": []
      },
      "source": [
        "## Utils"
      ]
    },
    {
      "cell_type": "code",
      "execution_count": 6,
      "id": "7508ec97c8dec24e",
      "metadata": {
        "execution": {
          "iopub.execute_input": "2023-06-01T21:10:25.515824Z",
          "iopub.status.busy": "2023-06-01T21:10:25.515525Z",
          "iopub.status.idle": "2023-06-01T21:10:25.519346Z",
          "shell.execute_reply": "2023-06-01T21:10:25.518715Z"
        },
        "papermill": {
          "duration": 0.015589,
          "end_time": "2023-06-01T21:10:25.520535",
          "exception": false,
          "start_time": "2023-06-01T21:10:25.504946",
          "status": "completed"
        },
        "tags": []
      },
      "outputs": [],
      "source": [
        "\n",
        "from sax import utils as utils\n",
        "from sax.utils import (\n",
        "    block_diag as block_diag,\n",
        "    clean_string as clean_string,\n",
        "    copy_settings as copy_settings,\n",
        "    flatten_dict as flatten_dict,\n",
        "    get_inputs_outputs as get_inputs_outputs,\n",
        "    get_port_combinations as get_port_combinations,\n",
        "    get_ports as get_ports,\n",
        "    get_settings as get_settings,\n",
        "    grouped_interp as grouped_interp,\n",
        "    merge_dicts as merge_dicts,\n",
        "    mode_combinations as mode_combinations,\n",
        "    reciprocal as reciprocal,\n",
        "    rename_params as rename_params,\n",
        "    rename_ports as rename_ports,\n",
        "    try_float as try_float,\n",
        "    unflatten_dict as unflatten_dict,\n",
        "    update_settings as update_settings,\n",
        "    validate_multimode as validate_multimode,\n",
        "    validate_not_mixedmode as validate_not_mixedmode,\n",
        "    validate_sdict as validate_sdict,\n",
        "    validate_settings as validate_settings,\n",
        ")"
      ]
    },
    {
      "cell_type": "markdown",
      "id": "23287a09",
      "metadata": {
        "papermill": {
          "duration": 0.002547,
          "end_time": "2023-06-01T21:10:25.525766",
          "exception": false,
          "start_time": "2023-06-01T21:10:25.523219",
          "status": "completed"
        },
        "tags": []
      },
      "source": [
        "## Multimode"
      ]
    },
    {
      "cell_type": "code",
      "execution_count": 7,
      "id": "80ba27a618570152",
      "metadata": {
        "execution": {
          "iopub.execute_input": "2023-06-01T21:10:25.539801Z",
          "iopub.status.busy": "2023-06-01T21:10:25.539525Z",
          "iopub.status.idle": "2023-06-01T21:10:25.542210Z",
          "shell.execute_reply": "2023-06-01T21:10:25.541790Z"
        },
        "papermill": {
          "duration": 0.010197,
          "end_time": "2023-06-01T21:10:25.543462",
          "exception": false,
          "start_time": "2023-06-01T21:10:25.533265",
          "status": "completed"
        },
        "tags": []
      },
      "outputs": [],
      "source": [
        "\n",
        "from sax import multimode as multimode\n",
        "from sax.multimode import (\n",
        "    multimode as multimode,\n",
        "    singlemode as singlemode,\n",
        ")"
      ]
    },
    {
      "cell_type": "markdown",
      "id": "c794abf0",
      "metadata": {
        "papermill": {
          "duration": 0.007863,
          "end_time": "2023-06-01T21:10:25.553911",
          "exception": false,
          "start_time": "2023-06-01T21:10:25.546048",
          "status": "completed"
        },
        "tags": []
      },
      "source": [
        "## Models"
      ]
    },
    {
      "cell_type": "code",
      "execution_count": 8,
      "id": "3d5c0ef6c4e1b5a1",
      "metadata": {
        "execution": {
          "iopub.execute_input": "2023-06-01T21:10:25.566333Z",
          "iopub.status.busy": "2023-06-01T21:10:25.566035Z",
          "iopub.status.idle": "2023-06-01T21:10:25.568788Z",
          "shell.execute_reply": "2023-06-01T21:10:25.568376Z"
        },
        "papermill": {
          "duration": 0.013454,
          "end_time": "2023-06-01T21:10:25.570052",
          "exception": false,
          "start_time": "2023-06-01T21:10:25.556598",
          "status": "completed"
        },
        "tags": []
      },
      "outputs": [],
      "source": [
        "\n",
        "from sax import models as models\n",
        "from sax.models import get_models as get_models, passthru as passthru"
      ]
    },
    {
      "cell_type": "markdown",
      "id": "b94feb62",
      "metadata": {
        "papermill": {
          "duration": 0.012571,
          "end_time": "2023-06-01T21:10:25.585243",
          "exception": false,
          "start_time": "2023-06-01T21:10:25.572672",
          "status": "completed"
        },
        "tags": []
      },
      "source": [
        "## Netlist"
      ]
    },
    {
      "cell_type": "code",
      "execution_count": 9,
      "id": "bdbaa5df88da449e",
      "metadata": {
        "execution": {
          "iopub.execute_input": "2023-06-01T21:10:25.599767Z",
          "iopub.status.busy": "2023-06-01T21:10:25.599486Z",
          "iopub.status.idle": "2023-06-01T21:10:25.602100Z",
          "shell.execute_reply": "2023-06-01T21:10:25.601724Z"
        },
        "papermill": {
          "duration": 0.015263,
          "end_time": "2023-06-01T21:10:25.603172",
          "exception": false,
          "start_time": "2023-06-01T21:10:25.587909",
          "status": "completed"
        },
        "tags": []
      },
      "outputs": [],
      "source": [
        "\n",
        "from sax.netlist import netlist as netlist\n",
        "from sax.netlist import load_netlist as load_netlist\n",
        "from sax.netlist import load_recursive_netlist as load_recursive_netlist"
      ]
    },
    {
      "cell_type": "markdown",
      "id": "5792b5e9",
      "metadata": {
        "papermill": {
          "duration": 0.002603,
          "end_time": "2023-06-01T21:10:25.608616",
          "exception": false,
          "start_time": "2023-06-01T21:10:25.606013",
          "status": "completed"
        },
        "tags": []
      },
      "source": [
        "## Circuit"
      ]
    },
    {
      "cell_type": "code",
      "execution_count": 10,
      "id": "8e6229b990251643",
      "metadata": {
        "execution": {
          "iopub.execute_input": "2023-06-01T21:10:25.614706Z",
          "iopub.status.busy": "2023-06-01T21:10:25.614502Z",
          "iopub.status.idle": "2023-06-01T21:10:25.616870Z",
          "shell.execute_reply": "2023-06-01T21:10:25.616506Z"
        },
        "papermill": {
          "duration": 0.007167,
          "end_time": "2023-06-01T21:10:25.618402",
          "exception": false,
          "start_time": "2023-06-01T21:10:25.611235",
          "status": "completed"
        },
        "tags": []
      },
      "outputs": [],
      "source": [
        "\n",
        "from sax.circuit import circuit as circuit"
      ]
    },
    {
      "cell_type": "markdown",
      "id": "e2d7c9fc",
      "metadata": {
        "papermill": {
          "duration": 0.002674,
          "end_time": "2023-06-01T21:10:25.623741",
          "exception": false,
          "start_time": "2023-06-01T21:10:25.621067",
          "status": "completed"
        },
        "tags": []
      },
      "source": [
        "## Backend"
      ]
    },
    {
      "cell_type": "code",
      "execution_count": 11,
      "id": "5390400434a9f0d8",
      "metadata": {
        "execution": {
          "iopub.execute_input": "2023-06-01T21:10:25.630471Z",
          "iopub.status.busy": "2023-06-01T21:10:25.630273Z",
          "iopub.status.idle": "2023-06-01T21:10:25.632588Z",
          "shell.execute_reply": "2023-06-01T21:10:25.632221Z"
        },
        "papermill": {
          "duration": 0.007392,
          "end_time": "2023-06-01T21:10:25.634244",
          "exception": false,
          "start_time": "2023-06-01T21:10:25.626852",
          "status": "completed"
        },
        "tags": []
      },
      "outputs": [],
      "source": [
        "\n",
        "from sax import backends as backends"
      ]
    },
    {
      "cell_type": "markdown",
      "id": "3ecf363e",
      "metadata": {
        "papermill": {
          "duration": 0.002691,
          "end_time": "2023-06-01T21:10:25.639612",
          "exception": false,
          "start_time": "2023-06-01T21:10:25.636921",
          "status": "completed"
        },
        "tags": []
      },
      "source": [
        "## Patches"
      ]
    },
    {
      "cell_type": "code",
      "execution_count": 12,
      "id": "dfb8b15b7daaf452",
      "metadata": {
        "execution": {
          "iopub.execute_input": "2023-06-01T21:10:25.646048Z",
          "iopub.status.busy": "2023-06-01T21:10:25.645842Z",
          "iopub.status.idle": "2023-06-01T21:10:25.648212Z",
          "shell.execute_reply": "2023-06-01T21:10:25.647840Z"
        },
        "papermill": {
          "duration": 0.007599,
          "end_time": "2023-06-01T21:10:25.649928",
          "exception": false,
          "start_time": "2023-06-01T21:10:25.642329",
          "status": "completed"
        },
        "tags": []
      },
      "outputs": [],
      "source": [
        "\n",
        "from sax import patched as _patched"
      ]
    }
  ],
  "metadata": {
    "kernelspec": {
      "display_name": "sax",
      "language": "python",
      "name": "sax"
    },
    "language_info": {
      "codemirror_mode": {
        "name": "ipython",
        "version": 3
      },
      "file_extension": ".py",
      "mimetype": "text/x-python",
      "name": "python",
      "nbconvert_exporter": "python",
      "pygments_lexer": "ipython3",
      "version": "3.11.3"
    },
    "papermill": {
      "default_parameters": {},
      "duration": 3.226234,
      "end_time": "2023-06-01T21:10:26.177484",
      "environment_variables": {},
      "exception": null,
      "input_path": "./nbs/99_init.ipynb",
      "output_path": "./nbs/99_init.ipynb",
      "parameters": {},
      "start_time": "2023-06-01T21:10:22.951250",
      "version": "2.3.4"
    }
  },
  "nbformat": 4,
  "nbformat_minor": 5
}