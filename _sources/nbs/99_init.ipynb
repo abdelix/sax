{
  "cells": [
    {
      "cell_type": "code",
      "execution_count": 1,
      "id": "6e8f27dd673bd0eb",
      "metadata": {
        "execution": {
          "iopub.execute_input": "2023-09-01T18:13:32.615667Z",
          "iopub.status.busy": "2023-09-01T18:13:32.615100Z",
          "iopub.status.idle": "2023-09-01T18:13:32.618396Z",
          "shell.execute_reply": "2023-09-01T18:13:32.617877Z"
        },
        "papermill": {
          "duration": 0.008864,
          "end_time": "2023-09-01T18:13:32.619734",
          "exception": false,
          "start_time": "2023-09-01T18:13:32.610870",
          "status": "completed"
        },
        "tags": [
          "remove-cell"
        ]
      },
      "outputs": [],
      "source": []
    },
    {
      "cell_type": "markdown",
      "id": "b4250b31",
      "metadata": {
        "papermill": {
          "duration": 0.002789,
          "end_time": "2023-09-01T18:13:32.625587",
          "exception": false,
          "start_time": "2023-09-01T18:13:32.622798",
          "status": "completed"
        },
        "tags": []
      },
      "source": [
        "# SAX init\n",
        "\n",
        "> Import everything into the `sax` namespace:"
      ]
    },
    {
      "cell_type": "code",
      "execution_count": 2,
      "id": "15e5ffc1276b9326",
      "metadata": {
        "execution": {
          "iopub.execute_input": "2023-09-01T18:13:32.632059Z",
          "iopub.status.busy": "2023-09-01T18:13:32.631628Z",
          "iopub.status.idle": "2023-09-01T18:13:33.053272Z",
          "shell.execute_reply": "2023-09-01T18:13:33.052810Z"
        },
        "papermill": {
          "duration": 0.426492,
          "end_time": "2023-09-01T18:13:33.054749",
          "exception": false,
          "start_time": "2023-09-01T18:13:32.628257",
          "status": "completed"
        },
        "tags": [
          "remove-cell"
        ]
      },
      "outputs": [],
      "source": [
        "import matplotlib.pyplot as plt\n",
        "from fastcore.test import test_eq\n",
        "from pytest import approx, raises\n",
        "\n",
        "import os, sys; sys.stderr = open(os.devnull, \"w\")"
      ]
    },
    {
      "cell_type": "code",
      "execution_count": 3,
      "id": "a9eb03544b2128aa",
      "metadata": {
        "execution": {
          "iopub.execute_input": "2023-09-01T18:13:33.062258Z",
          "iopub.status.busy": "2023-09-01T18:13:33.061626Z",
          "iopub.status.idle": "2023-09-01T18:13:33.064565Z",
          "shell.execute_reply": "2023-09-01T18:13:33.064146Z"
        },
        "papermill": {
          "duration": 0.007876,
          "end_time": "2023-09-01T18:13:33.065702",
          "exception": false,
          "start_time": "2023-09-01T18:13:33.057826",
          "status": "completed"
        },
        "tags": [
          "remove-cell"
        ]
      },
      "outputs": [],
      "source": [
        "from __future__ import annotations\n",
        "\n",
        "__author__ = \"Floris Laporte\"\n",
        "__version__ = \"0.9.2\""
      ]
    },
    {
      "cell_type": "markdown",
      "id": "fe77e5e3",
      "metadata": {
        "papermill": {
          "duration": 0.002686,
          "end_time": "2023-09-01T18:13:33.071123",
          "exception": false,
          "start_time": "2023-09-01T18:13:33.068437",
          "status": "completed"
        },
        "tags": []
      },
      "source": [
        "## External\n",
        "\n",
        "utils from other packages available in SAX for convenience:"
      ]
    },
    {
      "cell_type": "code",
      "execution_count": 4,
      "id": "544cef6a24f0a4bb",
      "metadata": {
        "execution": {
          "iopub.execute_input": "2023-09-01T18:13:33.078346Z",
          "iopub.status.busy": "2023-09-01T18:13:33.078138Z",
          "iopub.status.idle": "2023-09-01T18:13:33.526413Z",
          "shell.execute_reply": "2023-09-01T18:13:33.525973Z"
        },
        "papermill": {
          "duration": 0.453221,
          "end_time": "2023-09-01T18:13:33.527897",
          "exception": false,
          "start_time": "2023-09-01T18:13:33.074676",
          "status": "completed"
        },
        "tags": []
      },
      "outputs": [],
      "source": [
        "from functools import partial as partial\n",
        "from math import pi as pi\n",
        "\n",
        "from scipy.constants import c as c\n",
        "\n",
        "try:\n",
        "    from flax.core.frozen_dict import FrozenDict as FrozenDict\n",
        "except ImportError:\n",
        "    FrozenDict = dict"
      ]
    },
    {
      "cell_type": "markdown",
      "id": "3d3bde86",
      "metadata": {
        "papermill": {
          "duration": 0.003067,
          "end_time": "2023-09-01T18:13:33.534006",
          "exception": false,
          "start_time": "2023-09-01T18:13:33.530939",
          "status": "completed"
        },
        "tags": []
      },
      "source": [
        "## Typing"
      ]
    },
    {
      "cell_type": "code",
      "execution_count": 5,
      "id": "676e8b386d79f40c",
      "metadata": {
        "execution": {
          "iopub.execute_input": "2023-09-01T18:13:33.564076Z",
          "iopub.status.busy": "2023-09-01T18:13:33.563335Z",
          "iopub.status.idle": "2023-09-01T18:13:33.889681Z",
          "shell.execute_reply": "2023-09-01T18:13:33.889228Z"
        },
        "papermill": {
          "duration": 0.331573,
          "end_time": "2023-09-01T18:13:33.891152",
          "exception": false,
          "start_time": "2023-09-01T18:13:33.559579",
          "status": "completed"
        },
        "tags": []
      },
      "outputs": [],
      "source": [
        "\n",
        "from sax import typing_ as typing\n",
        "from sax.typing_ import (\n",
        "    Array as Array,\n",
        "    ComplexFloat as ComplexFloat,\n",
        "    Float as Float,\n",
        "    Model as Model,\n",
        "    ModelFactory as ModelFactory,\n",
        "    Models as Models,\n",
        "    SCoo as SCoo,\n",
        "    SDense as SDense,\n",
        "    SDict as SDict,\n",
        "    Settings as Settings,\n",
        "    SType as SType,\n",
        "    is_complex as is_complex,\n",
        "    is_complex_float as is_complex_float,\n",
        "    is_float as is_float,\n",
        "    is_mixedmode as is_mixedmode,\n",
        "    is_model as is_model,\n",
        "    is_model_factory as is_model_factory,\n",
        "    is_multimode as is_multimode,\n",
        "    is_scoo as is_scoo,\n",
        "    is_sdense as is_sdense,\n",
        "    is_sdict as is_sdict,\n",
        "    is_singlemode as is_singlemode,\n",
        "    modelfactory as modelfactory,\n",
        "    scoo as scoo,\n",
        "    sdense as sdense,\n",
        "    sdict as sdict,\n",
        "    validate_model as validate_model,\n",
        ")"
      ]
    },
    {
      "cell_type": "markdown",
      "id": "345808d3",
      "metadata": {
        "papermill": {
          "duration": 0.003079,
          "end_time": "2023-09-01T18:13:33.897271",
          "exception": false,
          "start_time": "2023-09-01T18:13:33.894192",
          "status": "completed"
        },
        "tags": []
      },
      "source": [
        "## Utils"
      ]
    },
    {
      "cell_type": "code",
      "execution_count": 6,
      "id": "d2a3cc15a59e2654",
      "metadata": {
        "execution": {
          "iopub.execute_input": "2023-09-01T18:13:33.904237Z",
          "iopub.status.busy": "2023-09-01T18:13:33.903662Z",
          "iopub.status.idle": "2023-09-01T18:13:33.908318Z",
          "shell.execute_reply": "2023-09-01T18:13:33.907932Z"
        },
        "papermill": {
          "duration": 0.009463,
          "end_time": "2023-09-01T18:13:33.909557",
          "exception": false,
          "start_time": "2023-09-01T18:13:33.900094",
          "status": "completed"
        },
        "tags": []
      },
      "outputs": [],
      "source": [
        "\n",
        "from sax import utils as utils\n",
        "from sax.utils import (\n",
        "    block_diag as block_diag,\n",
        "    clean_string as clean_string,\n",
        "    copy_settings as copy_settings,\n",
        "    flatten_dict as flatten_dict,\n",
        "    get_inputs_outputs as get_inputs_outputs,\n",
        "    get_port_combinations as get_port_combinations,\n",
        "    get_ports as get_ports,\n",
        "    get_settings as get_settings,\n",
        "    grouped_interp as grouped_interp,\n",
        "    merge_dicts as merge_dicts,\n",
        "    mode_combinations as mode_combinations,\n",
        "    reciprocal as reciprocal,\n",
        "    rename_params as rename_params,\n",
        "    rename_ports as rename_ports,\n",
        "    try_float as try_float,\n",
        "    unflatten_dict as unflatten_dict,\n",
        "    update_settings as update_settings,\n",
        "    validate_multimode as validate_multimode,\n",
        "    validate_not_mixedmode as validate_not_mixedmode,\n",
        "    validate_sdict as validate_sdict,\n",
        "    validate_settings as validate_settings,\n",
        ")"
      ]
    },
    {
      "cell_type": "markdown",
      "id": "23287a09",
      "metadata": {
        "papermill": {
          "duration": 0.002661,
          "end_time": "2023-09-01T18:13:33.914983",
          "exception": false,
          "start_time": "2023-09-01T18:13:33.912322",
          "status": "completed"
        },
        "tags": []
      },
      "source": [
        "## Multimode"
      ]
    },
    {
      "cell_type": "code",
      "execution_count": 7,
      "id": "fb0a9de9f7cf12bb",
      "metadata": {
        "execution": {
          "iopub.execute_input": "2023-09-01T18:13:33.921607Z",
          "iopub.status.busy": "2023-09-01T18:13:33.921215Z",
          "iopub.status.idle": "2023-09-01T18:13:33.923770Z",
          "shell.execute_reply": "2023-09-01T18:13:33.923442Z"
        },
        "papermill": {
          "duration": 0.007247,
          "end_time": "2023-09-01T18:13:33.925027",
          "exception": false,
          "start_time": "2023-09-01T18:13:33.917780",
          "status": "completed"
        },
        "tags": []
      },
      "outputs": [],
      "source": [
        "\n",
        "from sax import multimode as multimode\n",
        "from sax.multimode import (\n",
        "    multimode as multimode,\n",
        "    singlemode as singlemode,\n",
        ")"
      ]
    },
    {
      "cell_type": "markdown",
      "id": "c794abf0",
      "metadata": {
        "papermill": {
          "duration": 0.002738,
          "end_time": "2023-09-01T18:13:33.930579",
          "exception": false,
          "start_time": "2023-09-01T18:13:33.927841",
          "status": "completed"
        },
        "tags": []
      },
      "source": [
        "## Models"
      ]
    },
    {
      "cell_type": "code",
      "execution_count": 8,
      "id": "bbc49dd507371199",
      "metadata": {
        "execution": {
          "iopub.execute_input": "2023-09-01T18:13:33.937366Z",
          "iopub.status.busy": "2023-09-01T18:13:33.936892Z",
          "iopub.status.idle": "2023-09-01T18:13:33.939492Z",
          "shell.execute_reply": "2023-09-01T18:13:33.939183Z"
        },
        "papermill": {
          "duration": 0.007171,
          "end_time": "2023-09-01T18:13:33.940598",
          "exception": false,
          "start_time": "2023-09-01T18:13:33.933427",
          "status": "completed"
        },
        "tags": []
      },
      "outputs": [],
      "source": [
        "\n",
        "from sax import models as models\n",
        "from sax.models import get_models as get_models, passthru as passthru"
      ]
    },
    {
      "cell_type": "markdown",
      "id": "b94feb62",
      "metadata": {
        "papermill": {
          "duration": 0.002758,
          "end_time": "2023-09-01T18:13:33.946178",
          "exception": false,
          "start_time": "2023-09-01T18:13:33.943420",
          "status": "completed"
        },
        "tags": []
      },
      "source": [
        "## Netlist"
      ]
    },
    {
      "cell_type": "code",
      "execution_count": 9,
      "id": "84a30aa4887f37fd",
      "metadata": {
        "execution": {
          "iopub.execute_input": "2023-09-01T18:13:33.952979Z",
          "iopub.status.busy": "2023-09-01T18:13:33.952530Z",
          "iopub.status.idle": "2023-09-01T18:13:33.955292Z",
          "shell.execute_reply": "2023-09-01T18:13:33.954986Z"
        },
        "papermill": {
          "duration": 0.007361,
          "end_time": "2023-09-01T18:13:33.956428",
          "exception": false,
          "start_time": "2023-09-01T18:13:33.949067",
          "status": "completed"
        },
        "tags": []
      },
      "outputs": [],
      "source": [
        "\n",
        "from sax.netlist import netlist as netlist\n",
        "from sax.netlist import load_netlist as load_netlist\n",
        "from sax.netlist import load_recursive_netlist as load_recursive_netlist\n",
        "from sax.netlist import get_netlist_instances_by_prefix as get_netlist_instances_by_prefix\n",
        "from sax.netlist import get_component_instances as get_component_instances"
      ]
    },
    {
      "cell_type": "markdown",
      "id": "5792b5e9",
      "metadata": {
        "papermill": {
          "duration": 0.002795,
          "end_time": "2023-09-01T18:13:33.962068",
          "exception": false,
          "start_time": "2023-09-01T18:13:33.959273",
          "status": "completed"
        },
        "tags": []
      },
      "source": [
        "## Circuit"
      ]
    },
    {
      "cell_type": "code",
      "execution_count": 10,
      "id": "ed32cff20f7c37e1",
      "metadata": {
        "execution": {
          "iopub.execute_input": "2023-09-01T18:13:33.968926Z",
          "iopub.status.busy": "2023-09-01T18:13:33.968475Z",
          "iopub.status.idle": "2023-09-01T18:13:33.970952Z",
          "shell.execute_reply": "2023-09-01T18:13:33.970638Z"
        },
        "papermill": {
          "duration": 0.007098,
          "end_time": "2023-09-01T18:13:33.972092",
          "exception": false,
          "start_time": "2023-09-01T18:13:33.964994",
          "status": "completed"
        },
        "tags": []
      },
      "outputs": [],
      "source": [
        "\n",
        "from sax.circuit import circuit as circuit\n",
        "from sax.circuit import get_required_circuit_models as get_required_circuit_models"
      ]
    },
    {
      "cell_type": "markdown",
      "id": "e2d7c9fc",
      "metadata": {
        "papermill": {
          "duration": 0.002812,
          "end_time": "2023-09-01T18:13:33.977777",
          "exception": false,
          "start_time": "2023-09-01T18:13:33.974965",
          "status": "completed"
        },
        "tags": []
      },
      "source": [
        "## Backend"
      ]
    },
    {
      "cell_type": "code",
      "execution_count": 11,
      "id": "2355a012efb79c0f",
      "metadata": {
        "execution": {
          "iopub.execute_input": "2023-09-01T18:13:33.984694Z",
          "iopub.status.busy": "2023-09-01T18:13:33.984245Z",
          "iopub.status.idle": "2023-09-01T18:13:33.986636Z",
          "shell.execute_reply": "2023-09-01T18:13:33.986237Z"
        },
        "papermill": {
          "duration": 0.007016,
          "end_time": "2023-09-01T18:13:33.987764",
          "exception": false,
          "start_time": "2023-09-01T18:13:33.980748",
          "status": "completed"
        },
        "tags": []
      },
      "outputs": [],
      "source": [
        "\n",
        "from sax import backends as backends"
      ]
    },
    {
      "cell_type": "markdown",
      "id": "3ecf363e",
      "metadata": {
        "papermill": {
          "duration": 0.002889,
          "end_time": "2023-09-01T18:13:33.993538",
          "exception": false,
          "start_time": "2023-09-01T18:13:33.990649",
          "status": "completed"
        },
        "tags": []
      },
      "source": [
        "## Patches"
      ]
    },
    {
      "cell_type": "code",
      "execution_count": 12,
      "id": "2bca2c2e7bff6882",
      "metadata": {
        "execution": {
          "iopub.execute_input": "2023-09-01T18:13:34.000733Z",
          "iopub.status.busy": "2023-09-01T18:13:34.000292Z",
          "iopub.status.idle": "2023-09-01T18:13:34.002610Z",
          "shell.execute_reply": "2023-09-01T18:13:34.002301Z"
        },
        "papermill": {
          "duration": 0.007253,
          "end_time": "2023-09-01T18:13:34.003803",
          "exception": false,
          "start_time": "2023-09-01T18:13:33.996550",
          "status": "completed"
        },
        "tags": []
      },
      "outputs": [],
      "source": [
        "\n",
        "from sax import patched as _patched"
      ]
    }
  ],
  "metadata": {
    "kernelspec": {
      "display_name": "sax",
      "language": "python",
      "name": "sax"
    },
    "language_info": {
      "codemirror_mode": {
        "name": "ipython",
        "version": 3
      },
      "file_extension": ".py",
      "mimetype": "text/x-python",
      "name": "python",
      "nbconvert_exporter": "python",
      "pygments_lexer": "ipython3",
      "version": "3.11.5"
    },
    "papermill": {
      "default_parameters": {},
      "duration": 3.13379,
      "end_time": "2023-09-01T18:13:34.422319",
      "environment_variables": {},
      "exception": null,
      "input_path": "./nbs/99_init.ipynb",
      "output_path": "./nbs/99_init.ipynb",
      "parameters": {},
      "start_time": "2023-09-01T18:13:31.288529",
      "version": "2.4.0"
    }
  },
  "nbformat": 4,
  "nbformat_minor": 5
}