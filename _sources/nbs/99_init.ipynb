{
  "cells": [
    {
      "cell_type": "code",
      "execution_count": 1,
      "id": "c6d8a34bb71ea7ac",
      "metadata": {
        "execution": {
          "iopub.execute_input": "2023-06-01T21:32:47.645255Z",
          "iopub.status.busy": "2023-06-01T21:32:47.644992Z",
          "iopub.status.idle": "2023-06-01T21:32:47.648153Z",
          "shell.execute_reply": "2023-06-01T21:32:47.647679Z"
        },
        "papermill": {
          "duration": 0.009706,
          "end_time": "2023-06-01T21:32:47.650147",
          "exception": false,
          "start_time": "2023-06-01T21:32:47.640441",
          "status": "completed"
        },
        "tags": [
          "remove-cell"
        ]
      },
      "outputs": [],
      "source": []
    },
    {
      "cell_type": "markdown",
      "id": "b4250b31",
      "metadata": {
        "papermill": {
          "duration": 0.00248,
          "end_time": "2023-06-01T21:32:47.656574",
          "exception": false,
          "start_time": "2023-06-01T21:32:47.654094",
          "status": "completed"
        },
        "tags": []
      },
      "source": [
        "# SAX init\n",
        "\n",
        "> Import everything into the `sax` namespace:"
      ]
    },
    {
      "cell_type": "code",
      "execution_count": 2,
      "id": "05ce0628ca6e45bd",
      "metadata": {
        "execution": {
          "iopub.execute_input": "2023-06-01T21:32:47.662380Z",
          "iopub.status.busy": "2023-06-01T21:32:47.662197Z",
          "iopub.status.idle": "2023-06-01T21:32:48.082468Z",
          "shell.execute_reply": "2023-06-01T21:32:48.082032Z"
        },
        "papermill": {
          "duration": 0.425096,
          "end_time": "2023-06-01T21:32:48.084153",
          "exception": false,
          "start_time": "2023-06-01T21:32:47.659057",
          "status": "completed"
        },
        "tags": [
          "remove-cell"
        ]
      },
      "outputs": [],
      "source": [
        "import matplotlib.pyplot as plt\n",
        "from fastcore.test import test_eq\n",
        "from pytest import approx, raises\n",
        "\n",
        "import os, sys; sys.stderr = open(os.devnull, \"w\")"
      ]
    },
    {
      "cell_type": "code",
      "execution_count": 3,
      "id": "8e0cacab202ecac3",
      "metadata": {
        "execution": {
          "iopub.execute_input": "2023-06-01T21:32:48.091856Z",
          "iopub.status.busy": "2023-06-01T21:32:48.090736Z",
          "iopub.status.idle": "2023-06-01T21:32:48.094559Z",
          "shell.execute_reply": "2023-06-01T21:32:48.094226Z"
        },
        "papermill": {
          "duration": 0.008773,
          "end_time": "2023-06-01T21:32:48.095818",
          "exception": false,
          "start_time": "2023-06-01T21:32:48.087045",
          "status": "completed"
        },
        "tags": [
          "remove-cell"
        ]
      },
      "outputs": [],
      "source": [
        "from __future__ import annotations\n",
        "\n",
        "__author__ = \"Floris Laporte\"\n",
        "__version__ = \"0.8.6\""
      ]
    },
    {
      "cell_type": "markdown",
      "id": "fe77e5e3",
      "metadata": {
        "papermill": {
          "duration": 0.002498,
          "end_time": "2023-06-01T21:32:48.100817",
          "exception": false,
          "start_time": "2023-06-01T21:32:48.098319",
          "status": "completed"
        },
        "tags": []
      },
      "source": [
        "## External\n",
        "\n",
        "utils from other packages available in SAX for convenience:"
      ]
    },
    {
      "cell_type": "code",
      "execution_count": 4,
      "id": "87ac36fb10311d96",
      "metadata": {
        "execution": {
          "iopub.execute_input": "2023-06-01T21:32:48.106885Z",
          "iopub.status.busy": "2023-06-01T21:32:48.106703Z",
          "iopub.status.idle": "2023-06-01T21:32:48.547573Z",
          "shell.execute_reply": "2023-06-01T21:32:48.547156Z"
        },
        "papermill": {
          "duration": 0.445678,
          "end_time": "2023-06-01T21:32:48.549259",
          "exception": false,
          "start_time": "2023-06-01T21:32:48.103581",
          "status": "completed"
        },
        "tags": []
      },
      "outputs": [],
      "source": [
        "from functools import partial as partial\n",
        "from math import pi as pi\n",
        "\n",
        "from scipy.constants import c as c\n",
        "\n",
        "try:\n",
        "    from flax.core.frozen_dict import FrozenDict as FrozenDict\n",
        "except ImportError:\n",
        "    FrozenDict = dict"
      ]
    },
    {
      "cell_type": "markdown",
      "id": "3d3bde86",
      "metadata": {
        "papermill": {
          "duration": 0.002814,
          "end_time": "2023-06-01T21:32:48.554915",
          "exception": false,
          "start_time": "2023-06-01T21:32:48.552101",
          "status": "completed"
        },
        "tags": []
      },
      "source": [
        "## Typing"
      ]
    },
    {
      "cell_type": "code",
      "execution_count": 5,
      "id": "29b9e72f442a63f0",
      "metadata": {
        "execution": {
          "iopub.execute_input": "2023-06-01T21:32:48.561069Z",
          "iopub.status.busy": "2023-06-01T21:32:48.560783Z",
          "iopub.status.idle": "2023-06-01T21:32:48.855298Z",
          "shell.execute_reply": "2023-06-01T21:32:48.854885Z"
        },
        "papermill": {
          "duration": 0.29955,
          "end_time": "2023-06-01T21:32:48.857054",
          "exception": false,
          "start_time": "2023-06-01T21:32:48.557504",
          "status": "completed"
        },
        "tags": []
      },
      "outputs": [],
      "source": [
        "\n",
        "from sax import typing_ as typing\n",
        "from sax.typing_ import (\n",
        "    Array as Array,\n",
        "    ComplexFloat as ComplexFloat,\n",
        "    Float as Float,\n",
        "    Model as Model,\n",
        "    ModelFactory as ModelFactory,\n",
        "    Models as Models,\n",
        "    SCoo as SCoo,\n",
        "    SDense as SDense,\n",
        "    SDict as SDict,\n",
        "    Settings as Settings,\n",
        "    SType as SType,\n",
        "    is_complex as is_complex,\n",
        "    is_complex_float as is_complex_float,\n",
        "    is_float as is_float,\n",
        "    is_mixedmode as is_mixedmode,\n",
        "    is_model as is_model,\n",
        "    is_model_factory as is_model_factory,\n",
        "    is_multimode as is_multimode,\n",
        "    is_scoo as is_scoo,\n",
        "    is_sdense as is_sdense,\n",
        "    is_sdict as is_sdict,\n",
        "    is_singlemode as is_singlemode,\n",
        "    modelfactory as modelfactory,\n",
        "    scoo as scoo,\n",
        "    sdense as sdense,\n",
        "    sdict as sdict,\n",
        "    validate_model as validate_model,\n",
        ")"
      ]
    },
    {
      "cell_type": "markdown",
      "id": "345808d3",
      "metadata": {
        "papermill": {
          "duration": 0.002654,
          "end_time": "2023-06-01T21:32:48.862628",
          "exception": false,
          "start_time": "2023-06-01T21:32:48.859974",
          "status": "completed"
        },
        "tags": []
      },
      "source": [
        "## Utils"
      ]
    },
    {
      "cell_type": "code",
      "execution_count": 6,
      "id": "ebf9618b26c4026d",
      "metadata": {
        "execution": {
          "iopub.execute_input": "2023-06-01T21:32:48.868996Z",
          "iopub.status.busy": "2023-06-01T21:32:48.868783Z",
          "iopub.status.idle": "2023-06-01T21:32:48.872321Z",
          "shell.execute_reply": "2023-06-01T21:32:48.871962Z"
        },
        "papermill": {
          "duration": 0.008694,
          "end_time": "2023-06-01T21:32:48.873946",
          "exception": false,
          "start_time": "2023-06-01T21:32:48.865252",
          "status": "completed"
        },
        "tags": []
      },
      "outputs": [],
      "source": [
        "\n",
        "from sax import utils as utils\n",
        "from sax.utils import (\n",
        "    block_diag as block_diag,\n",
        "    clean_string as clean_string,\n",
        "    copy_settings as copy_settings,\n",
        "    flatten_dict as flatten_dict,\n",
        "    get_inputs_outputs as get_inputs_outputs,\n",
        "    get_port_combinations as get_port_combinations,\n",
        "    get_ports as get_ports,\n",
        "    get_settings as get_settings,\n",
        "    grouped_interp as grouped_interp,\n",
        "    merge_dicts as merge_dicts,\n",
        "    mode_combinations as mode_combinations,\n",
        "    reciprocal as reciprocal,\n",
        "    rename_params as rename_params,\n",
        "    rename_ports as rename_ports,\n",
        "    try_float as try_float,\n",
        "    unflatten_dict as unflatten_dict,\n",
        "    update_settings as update_settings,\n",
        "    validate_multimode as validate_multimode,\n",
        "    validate_not_mixedmode as validate_not_mixedmode,\n",
        "    validate_sdict as validate_sdict,\n",
        "    validate_settings as validate_settings,\n",
        ")"
      ]
    },
    {
      "cell_type": "markdown",
      "id": "23287a09",
      "metadata": {
        "papermill": {
          "duration": 0.002526,
          "end_time": "2023-06-01T21:32:48.879046",
          "exception": false,
          "start_time": "2023-06-01T21:32:48.876520",
          "status": "completed"
        },
        "tags": []
      },
      "source": [
        "## Multimode"
      ]
    },
    {
      "cell_type": "code",
      "execution_count": 7,
      "id": "b5dd21d8c3d7e9fc",
      "metadata": {
        "execution": {
          "iopub.execute_input": "2023-06-01T21:32:48.885013Z",
          "iopub.status.busy": "2023-06-01T21:32:48.884834Z",
          "iopub.status.idle": "2023-06-01T21:32:48.887259Z",
          "shell.execute_reply": "2023-06-01T21:32:48.886910Z"
        },
        "papermill": {
          "duration": 0.007246,
          "end_time": "2023-06-01T21:32:48.888891",
          "exception": false,
          "start_time": "2023-06-01T21:32:48.881645",
          "status": "completed"
        },
        "tags": []
      },
      "outputs": [],
      "source": [
        "\n",
        "from sax import multimode as multimode\n",
        "from sax.multimode import (\n",
        "    multimode as multimode,\n",
        "    singlemode as singlemode,\n",
        ")"
      ]
    },
    {
      "cell_type": "markdown",
      "id": "c794abf0",
      "metadata": {
        "papermill": {
          "duration": 0.002517,
          "end_time": "2023-06-01T21:32:48.894008",
          "exception": false,
          "start_time": "2023-06-01T21:32:48.891491",
          "status": "completed"
        },
        "tags": []
      },
      "source": [
        "## Models"
      ]
    },
    {
      "cell_type": "code",
      "execution_count": 8,
      "id": "5845186bf675ad54",
      "metadata": {
        "execution": {
          "iopub.execute_input": "2023-06-01T21:32:48.900015Z",
          "iopub.status.busy": "2023-06-01T21:32:48.899832Z",
          "iopub.status.idle": "2023-06-01T21:32:48.902232Z",
          "shell.execute_reply": "2023-06-01T21:32:48.901862Z"
        },
        "papermill": {
          "duration": 0.007192,
          "end_time": "2023-06-01T21:32:48.903830",
          "exception": false,
          "start_time": "2023-06-01T21:32:48.896638",
          "status": "completed"
        },
        "tags": []
      },
      "outputs": [],
      "source": [
        "\n",
        "from sax import models as models\n",
        "from sax.models import get_models as get_models, passthru as passthru"
      ]
    },
    {
      "cell_type": "markdown",
      "id": "b94feb62",
      "metadata": {
        "papermill": {
          "duration": 0.002564,
          "end_time": "2023-06-01T21:32:48.908993",
          "exception": false,
          "start_time": "2023-06-01T21:32:48.906429",
          "status": "completed"
        },
        "tags": []
      },
      "source": [
        "## Netlist"
      ]
    },
    {
      "cell_type": "code",
      "execution_count": 9,
      "id": "e977c593468959fe",
      "metadata": {
        "execution": {
          "iopub.execute_input": "2023-06-01T21:32:48.914991Z",
          "iopub.status.busy": "2023-06-01T21:32:48.914812Z",
          "iopub.status.idle": "2023-06-01T21:32:48.917200Z",
          "shell.execute_reply": "2023-06-01T21:32:48.916851Z"
        },
        "papermill": {
          "duration": 0.007237,
          "end_time": "2023-06-01T21:32:48.918837",
          "exception": false,
          "start_time": "2023-06-01T21:32:48.911600",
          "status": "completed"
        },
        "tags": []
      },
      "outputs": [],
      "source": [
        "\n",
        "from sax.netlist import netlist as netlist\n",
        "from sax.netlist import load_netlist as load_netlist\n",
        "from sax.netlist import load_recursive_netlist as load_recursive_netlist"
      ]
    },
    {
      "cell_type": "markdown",
      "id": "5792b5e9",
      "metadata": {
        "papermill": {
          "duration": 0.002611,
          "end_time": "2023-06-01T21:32:48.924117",
          "exception": false,
          "start_time": "2023-06-01T21:32:48.921506",
          "status": "completed"
        },
        "tags": []
      },
      "source": [
        "## Circuit"
      ]
    },
    {
      "cell_type": "code",
      "execution_count": 10,
      "id": "f3896e843685a8ff",
      "metadata": {
        "execution": {
          "iopub.execute_input": "2023-06-01T21:32:48.930069Z",
          "iopub.status.busy": "2023-06-01T21:32:48.929897Z",
          "iopub.status.idle": "2023-06-01T21:32:48.932040Z",
          "shell.execute_reply": "2023-06-01T21:32:48.931695Z"
        },
        "papermill": {
          "duration": 0.00689,
          "end_time": "2023-06-01T21:32:48.933620",
          "exception": false,
          "start_time": "2023-06-01T21:32:48.926730",
          "status": "completed"
        },
        "tags": []
      },
      "outputs": [],
      "source": [
        "\n",
        "from sax.circuit import circuit as circuit"
      ]
    },
    {
      "cell_type": "markdown",
      "id": "e2d7c9fc",
      "metadata": {
        "papermill": {
          "duration": 0.002623,
          "end_time": "2023-06-01T21:32:48.938892",
          "exception": false,
          "start_time": "2023-06-01T21:32:48.936269",
          "status": "completed"
        },
        "tags": []
      },
      "source": [
        "## Backend"
      ]
    },
    {
      "cell_type": "code",
      "execution_count": 11,
      "id": "34f41f8dcb614769",
      "metadata": {
        "execution": {
          "iopub.execute_input": "2023-06-01T21:32:48.944962Z",
          "iopub.status.busy": "2023-06-01T21:32:48.944791Z",
          "iopub.status.idle": "2023-06-01T21:32:48.946877Z",
          "shell.execute_reply": "2023-06-01T21:32:48.946532Z"
        },
        "papermill": {
          "duration": 0.006875,
          "end_time": "2023-06-01T21:32:48.948470",
          "exception": false,
          "start_time": "2023-06-01T21:32:48.941595",
          "status": "completed"
        },
        "tags": []
      },
      "outputs": [],
      "source": [
        "\n",
        "from sax import backends as backends"
      ]
    },
    {
      "cell_type": "markdown",
      "id": "3ecf363e",
      "metadata": {
        "papermill": {
          "duration": 0.002623,
          "end_time": "2023-06-01T21:32:48.953744",
          "exception": false,
          "start_time": "2023-06-01T21:32:48.951121",
          "status": "completed"
        },
        "tags": []
      },
      "source": [
        "## Patches"
      ]
    },
    {
      "cell_type": "code",
      "execution_count": 12,
      "id": "65414197fbbc22c8",
      "metadata": {
        "execution": {
          "iopub.execute_input": "2023-06-01T21:32:48.959824Z",
          "iopub.status.busy": "2023-06-01T21:32:48.959653Z",
          "iopub.status.idle": "2023-06-01T21:32:48.961758Z",
          "shell.execute_reply": "2023-06-01T21:32:48.961413Z"
        },
        "papermill": {
          "duration": 0.006942,
          "end_time": "2023-06-01T21:32:48.963358",
          "exception": false,
          "start_time": "2023-06-01T21:32:48.956416",
          "status": "completed"
        },
        "tags": []
      },
      "outputs": [],
      "source": [
        "\n",
        "from sax import patched as _patched"
      ]
    }
  ],
  "metadata": {
    "kernelspec": {
      "display_name": "sax",
      "language": "python",
      "name": "sax"
    },
    "language_info": {
      "codemirror_mode": {
        "name": "ipython",
        "version": 3
      },
      "file_extension": ".py",
      "mimetype": "text/x-python",
      "name": "python",
      "nbconvert_exporter": "python",
      "pygments_lexer": "ipython3",
      "version": "3.11.3"
    },
    "papermill": {
      "default_parameters": {},
      "duration": 3.256122,
      "end_time": "2023-06-01T21:32:49.492045",
      "environment_variables": {},
      "exception": null,
      "input_path": "./nbs/99_init.ipynb",
      "output_path": "./nbs/99_init.ipynb",
      "parameters": {},
      "start_time": "2023-06-01T21:32:46.235923",
      "version": "2.3.4"
    }
  },
  "nbformat": 4,
  "nbformat_minor": 5
}