{
  "cells": [
    {
      "cell_type": "code",
      "execution_count": 1,
      "id": "05dfc11ea921ea95",
      "metadata": {
        "execution": {
          "iopub.execute_input": "2023-06-01T21:50:05.476785Z",
          "iopub.status.busy": "2023-06-01T21:50:05.476158Z",
          "iopub.status.idle": "2023-06-01T21:50:05.479384Z",
          "shell.execute_reply": "2023-06-01T21:50:05.478908Z"
        },
        "papermill": {
          "duration": 0.009229,
          "end_time": "2023-06-01T21:50:05.481191",
          "exception": false,
          "start_time": "2023-06-01T21:50:05.471962",
          "status": "completed"
        },
        "tags": [
          "remove-cell"
        ]
      },
      "outputs": [],
      "source": []
    },
    {
      "cell_type": "markdown",
      "id": "b4250b31",
      "metadata": {
        "papermill": {
          "duration": 0.00261,
          "end_time": "2023-06-01T21:50:05.487845",
          "exception": false,
          "start_time": "2023-06-01T21:50:05.485235",
          "status": "completed"
        },
        "tags": []
      },
      "source": [
        "# SAX init\n",
        "\n",
        "> Import everything into the `sax` namespace:"
      ]
    },
    {
      "cell_type": "code",
      "execution_count": 2,
      "id": "abffdb5b45b2e86a",
      "metadata": {
        "execution": {
          "iopub.execute_input": "2023-06-01T21:50:05.494128Z",
          "iopub.status.busy": "2023-06-01T21:50:05.493916Z",
          "iopub.status.idle": "2023-06-01T21:50:05.950299Z",
          "shell.execute_reply": "2023-06-01T21:50:05.949868Z"
        },
        "papermill": {
          "duration": 0.461575,
          "end_time": "2023-06-01T21:50:05.951997",
          "exception": false,
          "start_time": "2023-06-01T21:50:05.490422",
          "status": "completed"
        },
        "tags": [
          "remove-cell"
        ]
      },
      "outputs": [],
      "source": [
        "import matplotlib.pyplot as plt\n",
        "from fastcore.test import test_eq\n",
        "from pytest import approx, raises\n",
        "\n",
        "import os, sys; sys.stderr = open(os.devnull, \"w\")"
      ]
    },
    {
      "cell_type": "code",
      "execution_count": 3,
      "id": "68e7336a8035608b",
      "metadata": {
        "execution": {
          "iopub.execute_input": "2023-06-01T21:50:05.958949Z",
          "iopub.status.busy": "2023-06-01T21:50:05.958375Z",
          "iopub.status.idle": "2023-06-01T21:50:05.961068Z",
          "shell.execute_reply": "2023-06-01T21:50:05.960750Z"
        },
        "papermill": {
          "duration": 0.007207,
          "end_time": "2023-06-01T21:50:05.962191",
          "exception": false,
          "start_time": "2023-06-01T21:50:05.954984",
          "status": "completed"
        },
        "tags": [
          "remove-cell"
        ]
      },
      "outputs": [],
      "source": [
        "from __future__ import annotations\n",
        "\n",
        "__author__ = \"Floris Laporte\"\n",
        "__version__ = \"0.8.7\""
      ]
    },
    {
      "cell_type": "markdown",
      "id": "fe77e5e3",
      "metadata": {
        "papermill": {
          "duration": 0.002598,
          "end_time": "2023-06-01T21:50:05.967376",
          "exception": false,
          "start_time": "2023-06-01T21:50:05.964778",
          "status": "completed"
        },
        "tags": []
      },
      "source": [
        "## External\n",
        "\n",
        "utils from other packages available in SAX for convenience:"
      ]
    },
    {
      "cell_type": "code",
      "execution_count": 4,
      "id": "a8a35383a8ee94ae",
      "metadata": {
        "execution": {
          "iopub.execute_input": "2023-06-01T21:50:05.973626Z",
          "iopub.status.busy": "2023-06-01T21:50:05.973329Z",
          "iopub.status.idle": "2023-06-01T21:50:06.389173Z",
          "shell.execute_reply": "2023-06-01T21:50:06.388774Z"
        },
        "papermill": {
          "duration": 0.420513,
          "end_time": "2023-06-01T21:50:06.390588",
          "exception": false,
          "start_time": "2023-06-01T21:50:05.970075",
          "status": "completed"
        },
        "tags": []
      },
      "outputs": [],
      "source": [
        "from functools import partial as partial\n",
        "from math import pi as pi\n",
        "\n",
        "from scipy.constants import c as c\n",
        "\n",
        "try:\n",
        "    from flax.core.frozen_dict import FrozenDict as FrozenDict\n",
        "except ImportError:\n",
        "    FrozenDict = dict"
      ]
    },
    {
      "cell_type": "markdown",
      "id": "3d3bde86",
      "metadata": {
        "papermill": {
          "duration": 0.002737,
          "end_time": "2023-06-01T21:50:06.396211",
          "exception": false,
          "start_time": "2023-06-01T21:50:06.393474",
          "status": "completed"
        },
        "tags": []
      },
      "source": [
        "## Typing"
      ]
    },
    {
      "cell_type": "code",
      "execution_count": 5,
      "id": "c2065da2af216c13",
      "metadata": {
        "execution": {
          "iopub.execute_input": "2023-06-01T21:50:06.411906Z",
          "iopub.status.busy": "2023-06-01T21:50:06.411620Z",
          "iopub.status.idle": "2023-06-01T21:50:06.695480Z",
          "shell.execute_reply": "2023-06-01T21:50:06.695092Z"
        },
        "papermill": {
          "duration": 0.288637,
          "end_time": "2023-06-01T21:50:06.696861",
          "exception": false,
          "start_time": "2023-06-01T21:50:06.408224",
          "status": "completed"
        },
        "tags": []
      },
      "outputs": [],
      "source": [
        "\n",
        "from sax import typing_ as typing\n",
        "from sax.typing_ import (\n",
        "    Array as Array,\n",
        "    ComplexFloat as ComplexFloat,\n",
        "    Float as Float,\n",
        "    Model as Model,\n",
        "    ModelFactory as ModelFactory,\n",
        "    Models as Models,\n",
        "    SCoo as SCoo,\n",
        "    SDense as SDense,\n",
        "    SDict as SDict,\n",
        "    Settings as Settings,\n",
        "    SType as SType,\n",
        "    is_complex as is_complex,\n",
        "    is_complex_float as is_complex_float,\n",
        "    is_float as is_float,\n",
        "    is_mixedmode as is_mixedmode,\n",
        "    is_model as is_model,\n",
        "    is_model_factory as is_model_factory,\n",
        "    is_multimode as is_multimode,\n",
        "    is_scoo as is_scoo,\n",
        "    is_sdense as is_sdense,\n",
        "    is_sdict as is_sdict,\n",
        "    is_singlemode as is_singlemode,\n",
        "    modelfactory as modelfactory,\n",
        "    scoo as scoo,\n",
        "    sdense as sdense,\n",
        "    sdict as sdict,\n",
        "    validate_model as validate_model,\n",
        ")"
      ]
    },
    {
      "cell_type": "markdown",
      "id": "345808d3",
      "metadata": {
        "papermill": {
          "duration": 0.002696,
          "end_time": "2023-06-01T21:50:06.702529",
          "exception": false,
          "start_time": "2023-06-01T21:50:06.699833",
          "status": "completed"
        },
        "tags": []
      },
      "source": [
        "## Utils"
      ]
    },
    {
      "cell_type": "code",
      "execution_count": 6,
      "id": "3a7898a434f0234d",
      "metadata": {
        "execution": {
          "iopub.execute_input": "2023-06-01T21:50:06.709140Z",
          "iopub.status.busy": "2023-06-01T21:50:06.708911Z",
          "iopub.status.idle": "2023-06-01T21:50:06.712474Z",
          "shell.execute_reply": "2023-06-01T21:50:06.712089Z"
        },
        "papermill": {
          "duration": 0.008833,
          "end_time": "2023-06-01T21:50:06.714150",
          "exception": false,
          "start_time": "2023-06-01T21:50:06.705317",
          "status": "completed"
        },
        "tags": []
      },
      "outputs": [],
      "source": [
        "\n",
        "from sax import utils as utils\n",
        "from sax.utils import (\n",
        "    block_diag as block_diag,\n",
        "    clean_string as clean_string,\n",
        "    copy_settings as copy_settings,\n",
        "    flatten_dict as flatten_dict,\n",
        "    get_inputs_outputs as get_inputs_outputs,\n",
        "    get_port_combinations as get_port_combinations,\n",
        "    get_ports as get_ports,\n",
        "    get_settings as get_settings,\n",
        "    grouped_interp as grouped_interp,\n",
        "    merge_dicts as merge_dicts,\n",
        "    mode_combinations as mode_combinations,\n",
        "    reciprocal as reciprocal,\n",
        "    rename_params as rename_params,\n",
        "    rename_ports as rename_ports,\n",
        "    try_float as try_float,\n",
        "    unflatten_dict as unflatten_dict,\n",
        "    update_settings as update_settings,\n",
        "    validate_multimode as validate_multimode,\n",
        "    validate_not_mixedmode as validate_not_mixedmode,\n",
        "    validate_sdict as validate_sdict,\n",
        "    validate_settings as validate_settings,\n",
        ")"
      ]
    },
    {
      "cell_type": "markdown",
      "id": "23287a09",
      "metadata": {
        "papermill": {
          "duration": 0.002605,
          "end_time": "2023-06-01T21:50:06.719429",
          "exception": false,
          "start_time": "2023-06-01T21:50:06.716824",
          "status": "completed"
        },
        "tags": []
      },
      "source": [
        "## Multimode"
      ]
    },
    {
      "cell_type": "code",
      "execution_count": 7,
      "id": "847ea95e5f08d04d",
      "metadata": {
        "execution": {
          "iopub.execute_input": "2023-06-01T21:50:06.725729Z",
          "iopub.status.busy": "2023-06-01T21:50:06.725473Z",
          "iopub.status.idle": "2023-06-01T21:50:06.728083Z",
          "shell.execute_reply": "2023-06-01T21:50:06.727712Z"
        },
        "papermill": {
          "duration": 0.007672,
          "end_time": "2023-06-01T21:50:06.729813",
          "exception": false,
          "start_time": "2023-06-01T21:50:06.722141",
          "status": "completed"
        },
        "tags": []
      },
      "outputs": [],
      "source": [
        "\n",
        "from sax import multimode as multimode\n",
        "from sax.multimode import (\n",
        "    multimode as multimode,\n",
        "    singlemode as singlemode,\n",
        ")"
      ]
    },
    {
      "cell_type": "markdown",
      "id": "c794abf0",
      "metadata": {
        "papermill": {
          "duration": 0.002646,
          "end_time": "2023-06-01T21:50:06.735161",
          "exception": false,
          "start_time": "2023-06-01T21:50:06.732515",
          "status": "completed"
        },
        "tags": []
      },
      "source": [
        "## Models"
      ]
    },
    {
      "cell_type": "code",
      "execution_count": 8,
      "id": "0a55d0e65438dfa3",
      "metadata": {
        "execution": {
          "iopub.execute_input": "2023-06-01T21:50:06.741331Z",
          "iopub.status.busy": "2023-06-01T21:50:06.741131Z",
          "iopub.status.idle": "2023-06-01T21:50:06.743654Z",
          "shell.execute_reply": "2023-06-01T21:50:06.743295Z"
        },
        "papermill": {
          "duration": 0.007449,
          "end_time": "2023-06-01T21:50:06.745323",
          "exception": false,
          "start_time": "2023-06-01T21:50:06.737874",
          "status": "completed"
        },
        "tags": []
      },
      "outputs": [],
      "source": [
        "\n",
        "from sax import models as models\n",
        "from sax.models import get_models as get_models, passthru as passthru"
      ]
    },
    {
      "cell_type": "markdown",
      "id": "b94feb62",
      "metadata": {
        "papermill": {
          "duration": 0.002632,
          "end_time": "2023-06-01T21:50:06.750657",
          "exception": false,
          "start_time": "2023-06-01T21:50:06.748025",
          "status": "completed"
        },
        "tags": []
      },
      "source": [
        "## Netlist"
      ]
    },
    {
      "cell_type": "code",
      "execution_count": 9,
      "id": "ac2c56167952a665",
      "metadata": {
        "execution": {
          "iopub.execute_input": "2023-06-01T21:50:06.756844Z",
          "iopub.status.busy": "2023-06-01T21:50:06.756655Z",
          "iopub.status.idle": "2023-06-01T21:50:06.759190Z",
          "shell.execute_reply": "2023-06-01T21:50:06.758827Z"
        },
        "papermill": {
          "duration": 0.007514,
          "end_time": "2023-06-01T21:50:06.760843",
          "exception": false,
          "start_time": "2023-06-01T21:50:06.753329",
          "status": "completed"
        },
        "tags": []
      },
      "outputs": [],
      "source": [
        "\n",
        "from sax.netlist import netlist as netlist\n",
        "from sax.netlist import load_netlist as load_netlist\n",
        "from sax.netlist import load_recursive_netlist as load_recursive_netlist"
      ]
    },
    {
      "cell_type": "markdown",
      "id": "5792b5e9",
      "metadata": {
        "papermill": {
          "duration": 0.002676,
          "end_time": "2023-06-01T21:50:06.766355",
          "exception": false,
          "start_time": "2023-06-01T21:50:06.763679",
          "status": "completed"
        },
        "tags": []
      },
      "source": [
        "## Circuit"
      ]
    },
    {
      "cell_type": "code",
      "execution_count": 10,
      "id": "cb4b2a596ce04113",
      "metadata": {
        "execution": {
          "iopub.execute_input": "2023-06-01T21:50:06.772606Z",
          "iopub.status.busy": "2023-06-01T21:50:06.772406Z",
          "iopub.status.idle": "2023-06-01T21:50:06.774738Z",
          "shell.execute_reply": "2023-06-01T21:50:06.774371Z"
        },
        "papermill": {
          "duration": 0.007379,
          "end_time": "2023-06-01T21:50:06.776422",
          "exception": false,
          "start_time": "2023-06-01T21:50:06.769043",
          "status": "completed"
        },
        "tags": []
      },
      "outputs": [],
      "source": [
        "\n",
        "from sax.circuit import circuit as circuit"
      ]
    },
    {
      "cell_type": "markdown",
      "id": "e2d7c9fc",
      "metadata": {
        "papermill": {
          "duration": 0.002672,
          "end_time": "2023-06-01T21:50:06.781888",
          "exception": false,
          "start_time": "2023-06-01T21:50:06.779216",
          "status": "completed"
        },
        "tags": []
      },
      "source": [
        "## Backend"
      ]
    },
    {
      "cell_type": "code",
      "execution_count": 11,
      "id": "7d9404b2eb24b177",
      "metadata": {
        "execution": {
          "iopub.execute_input": "2023-06-01T21:50:06.788231Z",
          "iopub.status.busy": "2023-06-01T21:50:06.788043Z",
          "iopub.status.idle": "2023-06-01T21:50:06.790268Z",
          "shell.execute_reply": "2023-06-01T21:50:06.789911Z"
        },
        "papermill": {
          "duration": 0.00725,
          "end_time": "2023-06-01T21:50:06.791954",
          "exception": false,
          "start_time": "2023-06-01T21:50:06.784704",
          "status": "completed"
        },
        "tags": []
      },
      "outputs": [],
      "source": [
        "\n",
        "from sax import backends as backends"
      ]
    },
    {
      "cell_type": "markdown",
      "id": "3ecf363e",
      "metadata": {
        "papermill": {
          "duration": 0.002673,
          "end_time": "2023-06-01T21:50:06.797423",
          "exception": false,
          "start_time": "2023-06-01T21:50:06.794750",
          "status": "completed"
        },
        "tags": []
      },
      "source": [
        "## Patches"
      ]
    },
    {
      "cell_type": "code",
      "execution_count": 12,
      "id": "f64c9d5de474e840",
      "metadata": {
        "execution": {
          "iopub.execute_input": "2023-06-01T21:50:06.803895Z",
          "iopub.status.busy": "2023-06-01T21:50:06.803707Z",
          "iopub.status.idle": "2023-06-01T21:50:06.805993Z",
          "shell.execute_reply": "2023-06-01T21:50:06.805629Z"
        },
        "papermill": {
          "duration": 0.00731,
          "end_time": "2023-06-01T21:50:06.807637",
          "exception": false,
          "start_time": "2023-06-01T21:50:06.800327",
          "status": "completed"
        },
        "tags": []
      },
      "outputs": [],
      "source": [
        "\n",
        "from sax import patched as _patched"
      ]
    }
  ],
  "metadata": {
    "kernelspec": {
      "display_name": "sax",
      "language": "python",
      "name": "sax"
    },
    "language_info": {
      "codemirror_mode": {
        "name": "ipython",
        "version": 3
      },
      "file_extension": ".py",
      "mimetype": "text/x-python",
      "name": "python",
      "nbconvert_exporter": "python",
      "pygments_lexer": "ipython3",
      "version": "3.11.3"
    },
    "papermill": {
      "default_parameters": {},
      "duration": 3.146314,
      "end_time": "2023-06-01T21:50:07.234974",
      "environment_variables": {},
      "exception": null,
      "input_path": "./nbs/99_init.ipynb",
      "output_path": "./nbs/99_init.ipynb",
      "parameters": {},
      "start_time": "2023-06-01T21:50:04.088660",
      "version": "2.3.4"
    }
  },
  "nbformat": 4,
  "nbformat_minor": 5
}