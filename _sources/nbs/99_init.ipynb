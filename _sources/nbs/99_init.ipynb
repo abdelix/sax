{
  "cells": [
    {
      "cell_type": "code",
      "execution_count": 1,
      "id": "35000684ae9fb6c9",
      "metadata": {
        "execution": {
          "iopub.execute_input": "2023-07-01T03:33:08.024406Z",
          "iopub.status.busy": "2023-07-01T03:33:08.023977Z",
          "iopub.status.idle": "2023-07-01T03:33:08.027004Z",
          "shell.execute_reply": "2023-07-01T03:33:08.026507Z"
        },
        "papermill": {
          "duration": 0.009437,
          "end_time": "2023-07-01T03:33:08.029109",
          "exception": false,
          "start_time": "2023-07-01T03:33:08.019672",
          "status": "completed"
        },
        "tags": [
          "remove-cell"
        ]
      },
      "outputs": [],
      "source": []
    },
    {
      "cell_type": "markdown",
      "id": "b4250b31",
      "metadata": {
        "papermill": {
          "duration": 0.002647,
          "end_time": "2023-07-01T03:33:08.034729",
          "exception": false,
          "start_time": "2023-07-01T03:33:08.032082",
          "status": "completed"
        },
        "tags": []
      },
      "source": [
        "# SAX init\n",
        "\n",
        "> Import everything into the `sax` namespace:"
      ]
    },
    {
      "cell_type": "code",
      "execution_count": 2,
      "id": "54d4d8f778c9d47a",
      "metadata": {
        "execution": {
          "iopub.execute_input": "2023-07-01T03:33:08.040828Z",
          "iopub.status.busy": "2023-07-01T03:33:08.040639Z",
          "iopub.status.idle": "2023-07-01T03:33:08.498691Z",
          "shell.execute_reply": "2023-07-01T03:33:08.498274Z"
        },
        "papermill": {
          "duration": 0.463006,
          "end_time": "2023-07-01T03:33:08.500340",
          "exception": false,
          "start_time": "2023-07-01T03:33:08.037334",
          "status": "completed"
        },
        "tags": [
          "remove-cell"
        ]
      },
      "outputs": [],
      "source": [
        "import matplotlib.pyplot as plt\n",
        "from fastcore.test import test_eq\n",
        "from pytest import approx, raises\n",
        "\n",
        "import os, sys; sys.stderr = open(os.devnull, \"w\")"
      ]
    },
    {
      "cell_type": "code",
      "execution_count": 3,
      "id": "6d9c9f14adf14146",
      "metadata": {
        "execution": {
          "iopub.execute_input": "2023-07-01T03:33:08.507616Z",
          "iopub.status.busy": "2023-07-01T03:33:08.507216Z",
          "iopub.status.idle": "2023-07-01T03:33:08.510722Z",
          "shell.execute_reply": "2023-07-01T03:33:08.510375Z"
        },
        "papermill": {
          "duration": 0.008609,
          "end_time": "2023-07-01T03:33:08.511985",
          "exception": false,
          "start_time": "2023-07-01T03:33:08.503376",
          "status": "completed"
        },
        "tags": [
          "remove-cell"
        ]
      },
      "outputs": [],
      "source": [
        "from __future__ import annotations\n",
        "\n",
        "__author__ = \"Floris Laporte\"\n",
        "__version__ = \"0.8.7\""
      ]
    },
    {
      "cell_type": "markdown",
      "id": "fe77e5e3",
      "metadata": {
        "papermill": {
          "duration": 0.002593,
          "end_time": "2023-07-01T03:33:08.517247",
          "exception": false,
          "start_time": "2023-07-01T03:33:08.514654",
          "status": "completed"
        },
        "tags": []
      },
      "source": [
        "## External\n",
        "\n",
        "utils from other packages available in SAX for convenience:"
      ]
    },
    {
      "cell_type": "code",
      "execution_count": 4,
      "id": "51655d57ae20f8d2",
      "metadata": {
        "execution": {
          "iopub.execute_input": "2023-07-01T03:33:08.523384Z",
          "iopub.status.busy": "2023-07-01T03:33:08.523194Z",
          "iopub.status.idle": "2023-07-01T03:33:09.019099Z",
          "shell.execute_reply": "2023-07-01T03:33:09.018658Z"
        },
        "papermill": {
          "duration": 0.500652,
          "end_time": "2023-07-01T03:33:09.020542",
          "exception": false,
          "start_time": "2023-07-01T03:33:08.519890",
          "status": "completed"
        },
        "tags": []
      },
      "outputs": [],
      "source": [
        "from functools import partial as partial\n",
        "from math import pi as pi\n",
        "\n",
        "from scipy.constants import c as c\n",
        "\n",
        "try:\n",
        "    from flax.core.frozen_dict import FrozenDict as FrozenDict\n",
        "except ImportError:\n",
        "    FrozenDict = dict"
      ]
    },
    {
      "cell_type": "markdown",
      "id": "3d3bde86",
      "metadata": {
        "papermill": {
          "duration": 0.002777,
          "end_time": "2023-07-01T03:33:09.026340",
          "exception": false,
          "start_time": "2023-07-01T03:33:09.023563",
          "status": "completed"
        },
        "tags": []
      },
      "source": [
        "## Typing"
      ]
    },
    {
      "cell_type": "code",
      "execution_count": 5,
      "id": "2ef5b22f7374a242",
      "metadata": {
        "execution": {
          "iopub.execute_input": "2023-07-01T03:33:09.033627Z",
          "iopub.status.busy": "2023-07-01T03:33:09.033312Z",
          "iopub.status.idle": "2023-07-01T03:33:09.322113Z",
          "shell.execute_reply": "2023-07-01T03:33:09.321618Z"
        },
        "papermill": {
          "duration": 0.294245,
          "end_time": "2023-07-01T03:33:09.323638",
          "exception": false,
          "start_time": "2023-07-01T03:33:09.029393",
          "status": "completed"
        },
        "tags": []
      },
      "outputs": [],
      "source": [
        "\n",
        "from sax import typing_ as typing\n",
        "from sax.typing_ import (\n",
        "    Array as Array,\n",
        "    ComplexFloat as ComplexFloat,\n",
        "    Float as Float,\n",
        "    Model as Model,\n",
        "    ModelFactory as ModelFactory,\n",
        "    Models as Models,\n",
        "    SCoo as SCoo,\n",
        "    SDense as SDense,\n",
        "    SDict as SDict,\n",
        "    Settings as Settings,\n",
        "    SType as SType,\n",
        "    is_complex as is_complex,\n",
        "    is_complex_float as is_complex_float,\n",
        "    is_float as is_float,\n",
        "    is_mixedmode as is_mixedmode,\n",
        "    is_model as is_model,\n",
        "    is_model_factory as is_model_factory,\n",
        "    is_multimode as is_multimode,\n",
        "    is_scoo as is_scoo,\n",
        "    is_sdense as is_sdense,\n",
        "    is_sdict as is_sdict,\n",
        "    is_singlemode as is_singlemode,\n",
        "    modelfactory as modelfactory,\n",
        "    scoo as scoo,\n",
        "    sdense as sdense,\n",
        "    sdict as sdict,\n",
        "    validate_model as validate_model,\n",
        ")"
      ]
    },
    {
      "cell_type": "markdown",
      "id": "345808d3",
      "metadata": {
        "papermill": {
          "duration": 0.002708,
          "end_time": "2023-07-01T03:33:09.329476",
          "exception": false,
          "start_time": "2023-07-01T03:33:09.326768",
          "status": "completed"
        },
        "tags": []
      },
      "source": [
        "## Utils"
      ]
    },
    {
      "cell_type": "code",
      "execution_count": 6,
      "id": "c36444fed93b2df7",
      "metadata": {
        "execution": {
          "iopub.execute_input": "2023-07-01T03:33:09.336051Z",
          "iopub.status.busy": "2023-07-01T03:33:09.335839Z",
          "iopub.status.idle": "2023-07-01T03:33:09.340696Z",
          "shell.execute_reply": "2023-07-01T03:33:09.340259Z"
        },
        "papermill": {
          "duration": 0.009662,
          "end_time": "2023-07-01T03:33:09.341902",
          "exception": false,
          "start_time": "2023-07-01T03:33:09.332240",
          "status": "completed"
        },
        "tags": []
      },
      "outputs": [],
      "source": [
        "\n",
        "from sax import utils as utils\n",
        "from sax.utils import (\n",
        "    block_diag as block_diag,\n",
        "    clean_string as clean_string,\n",
        "    copy_settings as copy_settings,\n",
        "    flatten_dict as flatten_dict,\n",
        "    get_inputs_outputs as get_inputs_outputs,\n",
        "    get_port_combinations as get_port_combinations,\n",
        "    get_ports as get_ports,\n",
        "    get_settings as get_settings,\n",
        "    grouped_interp as grouped_interp,\n",
        "    merge_dicts as merge_dicts,\n",
        "    mode_combinations as mode_combinations,\n",
        "    reciprocal as reciprocal,\n",
        "    rename_params as rename_params,\n",
        "    rename_ports as rename_ports,\n",
        "    try_float as try_float,\n",
        "    unflatten_dict as unflatten_dict,\n",
        "    update_settings as update_settings,\n",
        "    validate_multimode as validate_multimode,\n",
        "    validate_not_mixedmode as validate_not_mixedmode,\n",
        "    validate_sdict as validate_sdict,\n",
        "    validate_settings as validate_settings,\n",
        ")"
      ]
    },
    {
      "cell_type": "markdown",
      "id": "23287a09",
      "metadata": {
        "papermill": {
          "duration": 0.002758,
          "end_time": "2023-07-01T03:33:09.347362",
          "exception": false,
          "start_time": "2023-07-01T03:33:09.344604",
          "status": "completed"
        },
        "tags": []
      },
      "source": [
        "## Multimode"
      ]
    },
    {
      "cell_type": "code",
      "execution_count": 7,
      "id": "4a2b9fbe16a04a9a",
      "metadata": {
        "execution": {
          "iopub.execute_input": "2023-07-01T03:33:09.353755Z",
          "iopub.status.busy": "2023-07-01T03:33:09.353498Z",
          "iopub.status.idle": "2023-07-01T03:33:09.355949Z",
          "shell.execute_reply": "2023-07-01T03:33:09.355551Z"
        },
        "papermill": {
          "duration": 0.007168,
          "end_time": "2023-07-01T03:33:09.357283",
          "exception": false,
          "start_time": "2023-07-01T03:33:09.350115",
          "status": "completed"
        },
        "tags": []
      },
      "outputs": [],
      "source": [
        "\n",
        "from sax import multimode as multimode\n",
        "from sax.multimode import (\n",
        "    multimode as multimode,\n",
        "    singlemode as singlemode,\n",
        ")"
      ]
    },
    {
      "cell_type": "markdown",
      "id": "c794abf0",
      "metadata": {
        "papermill": {
          "duration": 0.012694,
          "end_time": "2023-07-01T03:33:09.372710",
          "exception": false,
          "start_time": "2023-07-01T03:33:09.360016",
          "status": "completed"
        },
        "tags": []
      },
      "source": [
        "## Models"
      ]
    },
    {
      "cell_type": "code",
      "execution_count": 8,
      "id": "29d3d9731475184a",
      "metadata": {
        "execution": {
          "iopub.execute_input": "2023-07-01T03:33:09.384615Z",
          "iopub.status.busy": "2023-07-01T03:33:09.384315Z",
          "iopub.status.idle": "2023-07-01T03:33:09.387696Z",
          "shell.execute_reply": "2023-07-01T03:33:09.387268Z"
        },
        "papermill": {
          "duration": 0.013455,
          "end_time": "2023-07-01T03:33:09.388952",
          "exception": false,
          "start_time": "2023-07-01T03:33:09.375497",
          "status": "completed"
        },
        "tags": []
      },
      "outputs": [],
      "source": [
        "\n",
        "from sax import models as models\n",
        "from sax.models import get_models as get_models, passthru as passthru"
      ]
    },
    {
      "cell_type": "markdown",
      "id": "b94feb62",
      "metadata": {
        "papermill": {
          "duration": 0.002676,
          "end_time": "2023-07-01T03:33:09.394421",
          "exception": false,
          "start_time": "2023-07-01T03:33:09.391745",
          "status": "completed"
        },
        "tags": []
      },
      "source": [
        "## Netlist"
      ]
    },
    {
      "cell_type": "code",
      "execution_count": 9,
      "id": "ea75d7796a4b10bd",
      "metadata": {
        "execution": {
          "iopub.execute_input": "2023-07-01T03:33:09.400693Z",
          "iopub.status.busy": "2023-07-01T03:33:09.400451Z",
          "iopub.status.idle": "2023-07-01T03:33:09.403007Z",
          "shell.execute_reply": "2023-07-01T03:33:09.402638Z"
        },
        "papermill": {
          "duration": 0.011364,
          "end_time": "2023-07-01T03:33:09.408509",
          "exception": false,
          "start_time": "2023-07-01T03:33:09.397145",
          "status": "completed"
        },
        "tags": []
      },
      "outputs": [],
      "source": [
        "\n",
        "from sax.netlist import netlist as netlist\n",
        "from sax.netlist import load_netlist as load_netlist\n",
        "from sax.netlist import load_recursive_netlist as load_recursive_netlist"
      ]
    },
    {
      "cell_type": "markdown",
      "id": "5792b5e9",
      "metadata": {
        "papermill": {
          "duration": 0.002731,
          "end_time": "2023-07-01T03:33:09.416898",
          "exception": false,
          "start_time": "2023-07-01T03:33:09.414167",
          "status": "completed"
        },
        "tags": []
      },
      "source": [
        "## Circuit"
      ]
    },
    {
      "cell_type": "code",
      "execution_count": 10,
      "id": "d576a31cae9f177a",
      "metadata": {
        "execution": {
          "iopub.execute_input": "2023-07-01T03:33:09.431323Z",
          "iopub.status.busy": "2023-07-01T03:33:09.431128Z",
          "iopub.status.idle": "2023-07-01T03:33:09.433495Z",
          "shell.execute_reply": "2023-07-01T03:33:09.433130Z"
        },
        "papermill": {
          "duration": 0.009661,
          "end_time": "2023-07-01T03:33:09.435463",
          "exception": false,
          "start_time": "2023-07-01T03:33:09.425802",
          "status": "completed"
        },
        "tags": []
      },
      "outputs": [],
      "source": [
        "\n",
        "from sax.circuit import circuit as circuit\n",
        "from sax.circuit import get_required_circuit_models as get_required_circuit_models"
      ]
    },
    {
      "cell_type": "markdown",
      "id": "e2d7c9fc",
      "metadata": {
        "papermill": {
          "duration": 0.002752,
          "end_time": "2023-07-01T03:33:09.441160",
          "exception": false,
          "start_time": "2023-07-01T03:33:09.438408",
          "status": "completed"
        },
        "tags": []
      },
      "source": [
        "## Backend"
      ]
    },
    {
      "cell_type": "code",
      "execution_count": 11,
      "id": "b0b99350333021a7",
      "metadata": {
        "execution": {
          "iopub.execute_input": "2023-07-01T03:33:09.451674Z",
          "iopub.status.busy": "2023-07-01T03:33:09.451483Z",
          "iopub.status.idle": "2023-07-01T03:33:09.453647Z",
          "shell.execute_reply": "2023-07-01T03:33:09.453304Z"
        },
        "papermill": {
          "duration": 0.006685,
          "end_time": "2023-07-01T03:33:09.454721",
          "exception": false,
          "start_time": "2023-07-01T03:33:09.448036",
          "status": "completed"
        },
        "tags": []
      },
      "outputs": [],
      "source": [
        "\n",
        "from sax import backends as backends"
      ]
    },
    {
      "cell_type": "markdown",
      "id": "3ecf363e",
      "metadata": {
        "papermill": {
          "duration": 0.002786,
          "end_time": "2023-07-01T03:33:09.460316",
          "exception": false,
          "start_time": "2023-07-01T03:33:09.457530",
          "status": "completed"
        },
        "tags": []
      },
      "source": [
        "## Patches"
      ]
    },
    {
      "cell_type": "code",
      "execution_count": 12,
      "id": "b68c32a86e8ad337",
      "metadata": {
        "execution": {
          "iopub.execute_input": "2023-07-01T03:33:09.466698Z",
          "iopub.status.busy": "2023-07-01T03:33:09.466507Z",
          "iopub.status.idle": "2023-07-01T03:33:09.468821Z",
          "shell.execute_reply": "2023-07-01T03:33:09.468461Z"
        },
        "papermill": {
          "duration": 0.00745,
          "end_time": "2023-07-01T03:33:09.470531",
          "exception": false,
          "start_time": "2023-07-01T03:33:09.463081",
          "status": "completed"
        },
        "tags": []
      },
      "outputs": [],
      "source": [
        "\n",
        "from sax import patched as _patched"
      ]
    }
  ],
  "metadata": {
    "kernelspec": {
      "display_name": "sax",
      "language": "python",
      "name": "sax"
    },
    "language_info": {
      "codemirror_mode": {
        "name": "ipython",
        "version": 3
      },
      "file_extension": ".py",
      "mimetype": "text/x-python",
      "name": "python",
      "nbconvert_exporter": "python",
      "pygments_lexer": "ipython3",
      "version": "3.11.4"
    },
    "papermill": {
      "default_parameters": {},
      "duration": 3.149683,
      "end_time": "2023-07-01T03:33:09.896252",
      "environment_variables": {},
      "exception": null,
      "input_path": "./nbs/99_init.ipynb",
      "output_path": "./nbs/99_init.ipynb",
      "parameters": {},
      "start_time": "2023-07-01T03:33:06.746569",
      "version": "2.3.4"
    }
  },
  "nbformat": 4,
  "nbformat_minor": 5
}