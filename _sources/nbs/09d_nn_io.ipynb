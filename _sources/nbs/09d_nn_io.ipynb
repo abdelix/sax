{
  "cells": [
    {
      "cell_type": "code",
      "execution_count": 1,
      "id": "fb9d442199304b40",
      "metadata": {
        "execution": {
          "iopub.execute_input": "2023-06-01T21:50:09.856914Z",
          "iopub.status.busy": "2023-06-01T21:50:09.856681Z",
          "iopub.status.idle": "2023-06-01T21:50:09.859687Z",
          "shell.execute_reply": "2023-06-01T21:50:09.859207Z"
        },
        "papermill": {
          "duration": 0.008227,
          "end_time": "2023-06-01T21:50:09.861771",
          "exception": false,
          "start_time": "2023-06-01T21:50:09.853544",
          "status": "completed"
        },
        "tags": [
          "remove-cell"
        ]
      },
      "outputs": [],
      "source": []
    },
    {
      "cell_type": "markdown",
      "id": "a0489f95",
      "metadata": {
        "papermill": {
          "duration": 0.002788,
          "end_time": "2023-06-01T21:50:09.866519",
          "exception": false,
          "start_time": "2023-06-01T21:50:09.863731",
          "status": "completed"
        },
        "tags": []
      },
      "source": [
        "# IO\n",
        "\n",
        "> IO Utilitites for SAX neural networks"
      ]
    },
    {
      "cell_type": "code",
      "execution_count": 2,
      "id": "2f7d5590b0739335",
      "metadata": {
        "execution": {
          "iopub.execute_input": "2023-06-01T21:50:09.870798Z",
          "iopub.status.busy": "2023-06-01T21:50:09.870612Z",
          "iopub.status.idle": "2023-06-01T21:50:10.300661Z",
          "shell.execute_reply": "2023-06-01T21:50:10.300267Z"
        },
        "papermill": {
          "duration": 0.434128,
          "end_time": "2023-06-01T21:50:10.302346",
          "exception": false,
          "start_time": "2023-06-01T21:50:09.868218",
          "status": "completed"
        },
        "tags": [
          "remove-cell"
        ]
      },
      "outputs": [],
      "source": [
        "import matplotlib.pyplot as plt\n",
        "from fastcore.test import test_eq\n",
        "from pytest import approx, raises\n",
        "\n",
        "import os, sys; sys.stderr = open(os.devnull, \"w\")"
      ]
    },
    {
      "cell_type": "code",
      "execution_count": 3,
      "id": "409e64a1394acc78",
      "metadata": {
        "execution": {
          "iopub.execute_input": "2023-06-01T21:50:10.308335Z",
          "iopub.status.busy": "2023-06-01T21:50:10.307343Z",
          "iopub.status.idle": "2023-06-01T21:50:11.338581Z",
          "shell.execute_reply": "2023-06-01T21:50:11.338166Z"
        },
        "papermill": {
          "duration": 1.035857,
          "end_time": "2023-06-01T21:50:11.340170",
          "exception": false,
          "start_time": "2023-06-01T21:50:10.304313",
          "status": "completed"
        },
        "tags": [
          "hide-input"
        ]
      },
      "outputs": [],
      "source": [
        "from __future__ import annotations\n",
        "\n",
        "import json\n",
        "import os\n",
        "import re\n",
        "from typing import Callable, Dict, List, Optional, Tuple\n",
        "\n",
        "import jax.numpy as jnp\n",
        "from sax.nn.core import dense, preprocess\n",
        "from sax.nn.utils import norm\n",
        "from sax.typing_ import ComplexFloat"
      ]
    },
    {
      "cell_type": "markdown",
      "id": "6f3a92ec0310656d",
      "metadata": {},
      "source": [
        ":::{eval-rst}\n",
        ".. autofunction:: sax.nn.io.load_nn_weights_json\n",
        ":::\n"
      ]
    },
    {
      "cell_type": "code",
      "execution_count": 4,
      "id": "119cfc089328d3cf",
      "metadata": {
        "execution": {
          "iopub.execute_input": "2023-06-01T21:50:11.346380Z",
          "iopub.status.busy": "2023-06-01T21:50:11.345270Z",
          "iopub.status.idle": "2023-06-01T21:50:11.350549Z",
          "shell.execute_reply": "2023-06-01T21:50:11.350207Z"
        },
        "papermill": {
          "duration": 0.009639,
          "end_time": "2023-06-01T21:50:11.351851",
          "exception": false,
          "start_time": "2023-06-01T21:50:11.342212",
          "status": "completed"
        },
        "tags": [
          "hide-input"
        ]
      },
      "outputs": [],
      "source": [
        "\n",
        "def load_nn_weights_json(path: str) -> Dict[str, ComplexFloat]:\n",
        "    \"\"\"Load json weights from given path\"\"\"\n",
        "    path = os.path.abspath(os.path.expanduser(path))\n",
        "    weights = {}\n",
        "    if os.path.exists(path):\n",
        "        with open(path, \"r\") as file:\n",
        "            for k, v in json.load(file).items():\n",
        "                _v = jnp.array(v, dtype=float)\n",
        "                assert isinstance(_v, jnp.ndarray)\n",
        "                weights[k] = _v\n",
        "    return weights"
      ]
    },
    {
      "cell_type": "markdown",
      "id": "b251c6078d81cc94",
      "metadata": {},
      "source": [
        ":::{eval-rst}\n",
        ".. autofunction:: sax.nn.io.save_nn_weights_json\n",
        ":::\n"
      ]
    },
    {
      "cell_type": "code",
      "execution_count": 5,
      "id": "cdebe98240bb040a",
      "metadata": {
        "execution": {
          "iopub.execute_input": "2023-06-01T21:50:11.356762Z",
          "iopub.status.busy": "2023-06-01T21:50:11.356420Z",
          "iopub.status.idle": "2023-06-01T21:50:11.361157Z",
          "shell.execute_reply": "2023-06-01T21:50:11.360835Z"
        },
        "papermill": {
          "duration": 0.008767,
          "end_time": "2023-06-01T21:50:11.362491",
          "exception": false,
          "start_time": "2023-06-01T21:50:11.353724",
          "status": "completed"
        },
        "tags": [
          "hide-input"
        ]
      },
      "outputs": [],
      "source": [
        "def save_nn_weights_json(weights: Dict[str, ComplexFloat], path: str):\n",
        "    \"\"\"Save json weights to given path\"\"\"\n",
        "    path = os.path.abspath(os.path.expanduser(path))\n",
        "    os.makedirs(os.path.dirname(path), exist_ok=True)\n",
        "    with open(path, \"w\") as file:\n",
        "        _weights = {}\n",
        "        for k, v in weights.items():\n",
        "            v = jnp.atleast_1d(jnp.array(v))\n",
        "            assert isinstance(v, jnp.ndarray)\n",
        "            _weights[k] = v.tolist()\n",
        "        json.dump(_weights, file)"
      ]
    },
    {
      "cell_type": "markdown",
      "id": "f61b3691da1b874b",
      "metadata": {},
      "source": [
        ":::{eval-rst}\n",
        ".. autofunction:: sax.nn.io.get_available_sizes\n",
        ":::\n"
      ]
    },
    {
      "cell_type": "code",
      "execution_count": 6,
      "id": "dbf7353bb5320754",
      "metadata": {
        "execution": {
          "iopub.execute_input": "2023-06-01T21:50:11.367535Z",
          "iopub.status.busy": "2023-06-01T21:50:11.367181Z",
          "iopub.status.idle": "2023-06-01T21:50:11.374006Z",
          "shell.execute_reply": "2023-06-01T21:50:11.373651Z"
        },
        "papermill": {
          "duration": 0.011032,
          "end_time": "2023-06-01T21:50:11.375324",
          "exception": false,
          "start_time": "2023-06-01T21:50:11.364292",
          "status": "completed"
        },
        "tags": [
          "hide-input"
        ]
      },
      "outputs": [],
      "source": [
        "def get_available_sizes(\n",
        "    dirpath: str,\n",
        "    prefix: str,\n",
        "    input_names: Tuple[str, ...],\n",
        "    output_names: Tuple[str, ...],\n",
        ") -> List[Tuple[int, ...]]:\n",
        "    \"\"\"Get all available json weight hidden sizes given filename parameters\n",
        "\n",
        "    > Note: this function does NOT return the input size and the output size \n",
        "      of the neural network. ONLY the hidden sizes are reported. The input \n",
        "      and output sizes can easily be derived from `input_names` (after \n",
        "      preprocessing) and `output_names`.\n",
        "    \"\"\"\n",
        "    all_weightfiles = os.listdir(dirpath)\n",
        "    possible_weightfiles = (\n",
        "        s for s in all_weightfiles if s.endswith(f\"-{'-'.join(output_names)}.json\")\n",
        "    )\n",
        "    possible_weightfiles = (\n",
        "        s\n",
        "        for s in possible_weightfiles\n",
        "        if s.startswith(f\"{prefix}-{'-'.join(input_names)}\")\n",
        "    )\n",
        "    possible_weightfiles = (re.sub(\"[^0-9x]\", \"\", s) for s in possible_weightfiles)\n",
        "    possible_weightfiles = (re.sub(\"^x*\", \"\", s) for s in possible_weightfiles)\n",
        "    possible_weightfiles = (re.sub(\"x[^0-9]*$\", \"\", s) for s in possible_weightfiles)\n",
        "    possible_hidden_sizes = (s.strip() for s in possible_weightfiles if s.strip())\n",
        "    possible_hidden_sizes = (\n",
        "        tuple(hs.strip() for hs in s.split(\"x\") if hs.strip())\n",
        "        for s in possible_hidden_sizes\n",
        "    )\n",
        "    possible_hidden_sizes = (\n",
        "        tuple(int(hs) for hs in s[1:-1]) for s in possible_hidden_sizes if len(s) > 2\n",
        "    )\n",
        "    possible_hidden_sizes = sorted(\n",
        "        possible_hidden_sizes, key=lambda hs: (len(hs), max(hs))\n",
        "    )\n",
        "    return possible_hidden_sizes"
      ]
    },
    {
      "cell_type": "markdown",
      "id": "34619387a8b89133",
      "metadata": {},
      "source": [
        ":::{eval-rst}\n",
        ".. autofunction:: sax.nn.io.get_dense_weights_path\n",
        ":::\n"
      ]
    },
    {
      "cell_type": "code",
      "execution_count": 7,
      "id": "5e69be89cc848132",
      "metadata": {
        "execution": {
          "iopub.execute_input": "2023-06-01T21:50:11.380393Z",
          "iopub.status.busy": "2023-06-01T21:50:11.380038Z",
          "iopub.status.idle": "2023-06-01T21:50:11.384776Z",
          "shell.execute_reply": "2023-06-01T21:50:11.384416Z"
        },
        "papermill": {
          "duration": 0.008851,
          "end_time": "2023-06-01T21:50:11.386031",
          "exception": false,
          "start_time": "2023-06-01T21:50:11.377180",
          "status": "completed"
        },
        "tags": [
          "hide-input"
        ]
      },
      "outputs": [],
      "source": [
        "\n",
        "def get_dense_weights_path(\n",
        "    *sizes: int,\n",
        "    input_names: Optional[Tuple[str, ...]] = None,\n",
        "    output_names: Optional[Tuple[str, ...]] = None,\n",
        "    dirpath: str = \"weights\",\n",
        "    prefix: str = \"dense\",\n",
        "    preprocess=preprocess,\n",
        "):\n",
        "    \"\"\"Create the SAX conventional path for a given weight dictionary\"\"\"\n",
        "    if input_names:\n",
        "        num_inputs = preprocess(*jnp.ones(len(input_names))).shape[0]\n",
        "        sizes = (num_inputs,) + sizes\n",
        "    if output_names:\n",
        "        sizes = sizes + (len(output_names),)\n",
        "    path = os.path.abspath(os.path.join(dirpath, prefix))\n",
        "    if input_names:\n",
        "        path = f\"{path}-{'-'.join(input_names)}\"\n",
        "    if sizes:\n",
        "        path = f\"{path}-{'x'.join(str(s) for s in sizes)}\"\n",
        "    if output_names:\n",
        "        path = f\"{path}-{'-'.join(output_names)}\"\n",
        "    return f\"{path}.json\""
      ]
    },
    {
      "cell_type": "markdown",
      "id": "823052783cf5239c",
      "metadata": {},
      "source": [
        ":::{eval-rst}\n",
        ".. autofunction:: sax.nn.io.get_norm_path\n",
        ":::\n"
      ]
    },
    {
      "cell_type": "code",
      "execution_count": 8,
      "id": "ef113297b0139a85",
      "metadata": {
        "execution": {
          "iopub.execute_input": "2023-06-01T21:50:11.390600Z",
          "iopub.status.busy": "2023-06-01T21:50:11.390410Z",
          "iopub.status.idle": "2023-06-01T21:50:11.394866Z",
          "shell.execute_reply": "2023-06-01T21:50:11.394519Z"
        },
        "papermill": {
          "duration": 0.008672,
          "end_time": "2023-06-01T21:50:11.396593",
          "exception": false,
          "start_time": "2023-06-01T21:50:11.387921",
          "status": "completed"
        },
        "tags": [
          "hide-input"
        ]
      },
      "outputs": [],
      "source": [
        "\n",
        "def get_norm_path(\n",
        "    *shape: int,\n",
        "    input_names: Optional[Tuple[str, ...]] = None,\n",
        "    output_names: Optional[Tuple[str, ...]] = None,\n",
        "    dirpath: str = \"norms\",\n",
        "    prefix: str = \"norm\",\n",
        "    preprocess=preprocess,\n",
        "):\n",
        "    \"\"\"Create the SAX conventional path for the normalization constants\"\"\"\n",
        "    if input_names and output_names:\n",
        "        raise ValueError(\n",
        "            \"To get the norm name, one can only specify `input_names` OR `output_names`.\"\n",
        "        )\n",
        "    if input_names:\n",
        "        num_inputs = preprocess(*jnp.ones(len(input_names))).shape[0]\n",
        "        shape = (num_inputs,) + shape\n",
        "    if output_names:\n",
        "        shape = shape + (len(output_names),)\n",
        "    path = os.path.abspath(os.path.join(dirpath, prefix))\n",
        "    if input_names:\n",
        "        path = f\"{path}-{'-'.join(input_names)}\"\n",
        "    if shape:\n",
        "        path = f\"{path}-{'x'.join(str(s) for s in shape)}\"\n",
        "    if output_names:\n",
        "        path = f\"{path}-{'-'.join(output_names)}\"\n",
        "    return f\"{path}.json\""
      ]
    },
    {
      "cell_type": "code",
      "execution_count": 9,
      "id": "53436521de964904",
      "metadata": {
        "execution": {
          "iopub.execute_input": "2023-06-01T21:50:11.401129Z",
          "iopub.status.busy": "2023-06-01T21:50:11.400948Z",
          "iopub.status.idle": "2023-06-01T21:50:11.404429Z",
          "shell.execute_reply": "2023-06-01T21:50:11.404088Z"
        },
        "papermill": {
          "duration": 0.007656,
          "end_time": "2023-06-01T21:50:11.406118",
          "exception": false,
          "start_time": "2023-06-01T21:50:11.398462",
          "status": "completed"
        },
        "tags": [
          "remove-cell"
        ]
      },
      "outputs": [],
      "source": [
        "class _PartialDense:\n",
        "    def __init__(self, weights, x_norm, y_norm, input_names, output_names):\n",
        "        self.weights = weights\n",
        "        self.x_norm = x_norm\n",
        "        self.y_norm = y_norm\n",
        "        self.input_names = input_names\n",
        "        self.output_names = output_names\n",
        "\n",
        "    def __call__(self, *params: ComplexFloat) -> ComplexFloat:\n",
        "        return dense(self.weights, *params, x_norm=self.x_norm, y_norm=self.y_norm)\n",
        "\n",
        "    def __repr__(self):\n",
        "        return f\"{self.__class__.__name__}{repr(self.input_names)}->{repr(self.output_names)}\""
      ]
    },
    {
      "cell_type": "markdown",
      "id": "21c6e5d5e10cb1e3",
      "metadata": {},
      "source": [
        ":::{eval-rst}\n",
        ".. autofunction:: sax.nn.io.load_nn_dense\n",
        ":::\n"
      ]
    },
    {
      "cell_type": "code",
      "execution_count": 10,
      "id": "60e321b2d4b94723",
      "metadata": {
        "execution": {
          "iopub.execute_input": "2023-06-01T21:50:11.410710Z",
          "iopub.status.busy": "2023-06-01T21:50:11.410527Z",
          "iopub.status.idle": "2023-06-01T21:50:11.415483Z",
          "shell.execute_reply": "2023-06-01T21:50:11.415144Z"
        },
        "papermill": {
          "duration": 0.009161,
          "end_time": "2023-06-01T21:50:11.417134",
          "exception": false,
          "start_time": "2023-06-01T21:50:11.407973",
          "status": "completed"
        },
        "tags": [
          "hide-input"
        ]
      },
      "outputs": [],
      "source": [
        "def load_nn_dense(\n",
        "    *sizes: int,\n",
        "    input_names: Optional[Tuple[str, ...]] = None,\n",
        "    output_names: Optional[Tuple[str, ...]] = None,\n",
        "    weightprefix=\"dense\",\n",
        "    weightdirpath=\"weights\",\n",
        "    normdirpath=\"norms\",\n",
        "    normprefix=\"norm\",\n",
        "    preprocess=preprocess,\n",
        ") -> Callable:\n",
        "    \"\"\"Load a pre-trained dense model\"\"\"\n",
        "    weights_path = get_dense_weights_path(\n",
        "        *sizes,\n",
        "        input_names=input_names,\n",
        "        output_names=output_names,\n",
        "        prefix=weightprefix,\n",
        "        dirpath=weightdirpath,\n",
        "        preprocess=preprocess,\n",
        "    )\n",
        "    if not os.path.exists(weights_path):\n",
        "        raise ValueError(\"Cannot find weights path for given parameters\")\n",
        "    x_norm_path = get_norm_path(\n",
        "        input_names=input_names,\n",
        "        prefix=normprefix,\n",
        "        dirpath=normdirpath,\n",
        "        preprocess=preprocess,\n",
        "    )\n",
        "    if not os.path.exists(x_norm_path):\n",
        "        raise ValueError(\"Cannot find normalization for input parameters\")\n",
        "    y_norm_path = get_norm_path(\n",
        "        output_names=output_names,\n",
        "        prefix=normprefix,\n",
        "        dirpath=normdirpath,\n",
        "        preprocess=preprocess,\n",
        "    )\n",
        "    if not os.path.exists(x_norm_path):\n",
        "        raise ValueError(\"Cannot find normalization for output parameters\")\n",
        "    weights = load_nn_weights_json(weights_path)\n",
        "    x_norm_dict = load_nn_weights_json(x_norm_path)\n",
        "    y_norm_dict = load_nn_weights_json(y_norm_path)\n",
        "    x_norm = norm(x_norm_dict[\"mean\"], x_norm_dict[\"std\"])\n",
        "    y_norm = norm(y_norm_dict[\"mean\"], y_norm_dict[\"std\"])\n",
        "    partial_dense = _PartialDense(weights, x_norm, y_norm, input_names, output_names)\n",
        "    return partial_dense"
      ]
    }
  ],
  "metadata": {
    "kernelspec": {
      "display_name": "sax",
      "language": "python",
      "name": "sax"
    },
    "language_info": {
      "codemirror_mode": {
        "name": "ipython",
        "version": 3
      },
      "file_extension": ".py",
      "mimetype": "text/x-python",
      "name": "python",
      "nbconvert_exporter": "python",
      "pygments_lexer": "ipython3",
      "version": "3.11.3"
    },
    "papermill": {
      "default_parameters": {},
      "duration": 3.487316,
      "end_time": "2023-06-01T21:50:11.943903",
      "environment_variables": {},
      "exception": null,
      "input_path": "./nbs/09d_nn_io.ipynb",
      "output_path": "./nbs/09d_nn_io.ipynb",
      "parameters": {},
      "start_time": "2023-06-01T21:50:08.456587",
      "version": "2.3.4"
    }
  },
  "nbformat": 4,
  "nbformat_minor": 5
}