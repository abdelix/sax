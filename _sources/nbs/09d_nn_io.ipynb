{
  "cells": [
    {
      "cell_type": "code",
      "execution_count": 1,
      "id": "f478b33dc1a1f0b6",
      "metadata": {
        "execution": {
          "iopub.execute_input": "2023-06-01T21:32:54.892950Z",
          "iopub.status.busy": "2023-06-01T21:32:54.892256Z",
          "iopub.status.idle": "2023-06-01T21:32:54.896331Z",
          "shell.execute_reply": "2023-06-01T21:32:54.895819Z"
        },
        "papermill": {
          "duration": 0.008926,
          "end_time": "2023-06-01T21:32:54.897731",
          "exception": false,
          "start_time": "2023-06-01T21:32:54.888805",
          "status": "completed"
        },
        "tags": [
          "remove-cell"
        ]
      },
      "outputs": [],
      "source": []
    },
    {
      "cell_type": "markdown",
      "id": "a0489f95",
      "metadata": {
        "papermill": {
          "duration": 0.002974,
          "end_time": "2023-06-01T21:32:54.902665",
          "exception": false,
          "start_time": "2023-06-01T21:32:54.899691",
          "status": "completed"
        },
        "tags": []
      },
      "source": [
        "# IO\n",
        "\n",
        "> IO Utilitites for SAX neural networks"
      ]
    },
    {
      "cell_type": "code",
      "execution_count": 2,
      "id": "f15432ae857902b6",
      "metadata": {
        "execution": {
          "iopub.execute_input": "2023-06-01T21:32:54.907039Z",
          "iopub.status.busy": "2023-06-01T21:32:54.906838Z",
          "iopub.status.idle": "2023-06-01T21:32:55.379927Z",
          "shell.execute_reply": "2023-06-01T21:32:55.379491Z"
        },
        "papermill": {
          "duration": 0.477357,
          "end_time": "2023-06-01T21:32:55.381664",
          "exception": false,
          "start_time": "2023-06-01T21:32:54.904307",
          "status": "completed"
        },
        "tags": [
          "remove-cell"
        ]
      },
      "outputs": [],
      "source": [
        "import matplotlib.pyplot as plt\n",
        "from fastcore.test import test_eq\n",
        "from pytest import approx, raises\n",
        "\n",
        "import os, sys; sys.stderr = open(os.devnull, \"w\")"
      ]
    },
    {
      "cell_type": "code",
      "execution_count": 3,
      "id": "9e27d8c9c253e253",
      "metadata": {
        "execution": {
          "iopub.execute_input": "2023-06-01T21:32:55.386866Z",
          "iopub.status.busy": "2023-06-01T21:32:55.386449Z",
          "iopub.status.idle": "2023-06-01T21:32:56.464011Z",
          "shell.execute_reply": "2023-06-01T21:32:56.463590Z"
        },
        "papermill": {
          "duration": 1.08188,
          "end_time": "2023-06-01T21:32:56.465551",
          "exception": false,
          "start_time": "2023-06-01T21:32:55.383671",
          "status": "completed"
        },
        "tags": [
          "hide-input"
        ]
      },
      "outputs": [],
      "source": [
        "from __future__ import annotations\n",
        "\n",
        "import json\n",
        "import os\n",
        "import re\n",
        "from typing import Callable, Dict, List, Optional, Tuple\n",
        "\n",
        "import jax.numpy as jnp\n",
        "from sax.nn.core import dense, preprocess\n",
        "from sax.nn.utils import norm\n",
        "from sax.typing_ import ComplexFloat"
      ]
    },
    {
      "cell_type": "markdown",
      "id": "b21e1cf40711b40e",
      "metadata": {},
      "source": [
        ":::{eval-rst}\n",
        ".. autofunction:: sax.nn.io.load_nn_weights_json\n",
        ":::\n"
      ]
    },
    {
      "cell_type": "code",
      "execution_count": 4,
      "id": "13dd54ac38047aae",
      "metadata": {
        "execution": {
          "iopub.execute_input": "2023-06-01T21:32:56.470747Z",
          "iopub.status.busy": "2023-06-01T21:32:56.470399Z",
          "iopub.status.idle": "2023-06-01T21:32:56.475189Z",
          "shell.execute_reply": "2023-06-01T21:32:56.474737Z"
        },
        "papermill": {
          "duration": 0.009063,
          "end_time": "2023-06-01T21:32:56.476576",
          "exception": false,
          "start_time": "2023-06-01T21:32:56.467513",
          "status": "completed"
        },
        "tags": [
          "hide-input"
        ]
      },
      "outputs": [],
      "source": [
        "\n",
        "def load_nn_weights_json(path: str) -> Dict[str, ComplexFloat]:\n",
        "    \"\"\"Load json weights from given path\"\"\"\n",
        "    path = os.path.abspath(os.path.expanduser(path))\n",
        "    weights = {}\n",
        "    if os.path.exists(path):\n",
        "        with open(path, \"r\") as file:\n",
        "            for k, v in json.load(file).items():\n",
        "                _v = jnp.array(v, dtype=float)\n",
        "                assert isinstance(_v, jnp.ndarray)\n",
        "                weights[k] = _v\n",
        "    return weights"
      ]
    },
    {
      "cell_type": "markdown",
      "id": "8ac9e10f48fc91d4",
      "metadata": {},
      "source": [
        ":::{eval-rst}\n",
        ".. autofunction:: sax.nn.io.save_nn_weights_json\n",
        ":::\n"
      ]
    },
    {
      "cell_type": "code",
      "execution_count": 5,
      "id": "364ae98017eb52b3",
      "metadata": {
        "execution": {
          "iopub.execute_input": "2023-06-01T21:32:56.481077Z",
          "iopub.status.busy": "2023-06-01T21:32:56.480885Z",
          "iopub.status.idle": "2023-06-01T21:32:56.485162Z",
          "shell.execute_reply": "2023-06-01T21:32:56.484750Z"
        },
        "papermill": {
          "duration": 0.008015,
          "end_time": "2023-06-01T21:32:56.486367",
          "exception": false,
          "start_time": "2023-06-01T21:32:56.478352",
          "status": "completed"
        },
        "tags": [
          "hide-input"
        ]
      },
      "outputs": [],
      "source": [
        "def save_nn_weights_json(weights: Dict[str, ComplexFloat], path: str):\n",
        "    \"\"\"Save json weights to given path\"\"\"\n",
        "    path = os.path.abspath(os.path.expanduser(path))\n",
        "    os.makedirs(os.path.dirname(path), exist_ok=True)\n",
        "    with open(path, \"w\") as file:\n",
        "        _weights = {}\n",
        "        for k, v in weights.items():\n",
        "            v = jnp.atleast_1d(jnp.array(v))\n",
        "            assert isinstance(v, jnp.ndarray)\n",
        "            _weights[k] = v.tolist()\n",
        "        json.dump(_weights, file)"
      ]
    },
    {
      "cell_type": "markdown",
      "id": "5c5e98bb73ec1aa4",
      "metadata": {},
      "source": [
        ":::{eval-rst}\n",
        ".. autofunction:: sax.nn.io.get_available_sizes\n",
        ":::\n"
      ]
    },
    {
      "cell_type": "code",
      "execution_count": 6,
      "id": "d1c1e51e4a595ed1",
      "metadata": {
        "execution": {
          "iopub.execute_input": "2023-06-01T21:32:56.490762Z",
          "iopub.status.busy": "2023-06-01T21:32:56.490574Z",
          "iopub.status.idle": "2023-06-01T21:32:56.496732Z",
          "shell.execute_reply": "2023-06-01T21:32:56.496322Z"
        },
        "papermill": {
          "duration": 0.010221,
          "end_time": "2023-06-01T21:32:56.498252",
          "exception": false,
          "start_time": "2023-06-01T21:32:56.488031",
          "status": "completed"
        },
        "tags": [
          "hide-input"
        ]
      },
      "outputs": [],
      "source": [
        "def get_available_sizes(\n",
        "    dirpath: str,\n",
        "    prefix: str,\n",
        "    input_names: Tuple[str, ...],\n",
        "    output_names: Tuple[str, ...],\n",
        ") -> List[Tuple[int, ...]]:\n",
        "    \"\"\"Get all available json weight hidden sizes given filename parameters\n",
        "\n",
        "    > Note: this function does NOT return the input size and the output size \n",
        "      of the neural network. ONLY the hidden sizes are reported. The input \n",
        "      and output sizes can easily be derived from `input_names` (after \n",
        "      preprocessing) and `output_names`.\n",
        "    \"\"\"\n",
        "    all_weightfiles = os.listdir(dirpath)\n",
        "    possible_weightfiles = (\n",
        "        s for s in all_weightfiles if s.endswith(f\"-{'-'.join(output_names)}.json\")\n",
        "    )\n",
        "    possible_weightfiles = (\n",
        "        s\n",
        "        for s in possible_weightfiles\n",
        "        if s.startswith(f\"{prefix}-{'-'.join(input_names)}\")\n",
        "    )\n",
        "    possible_weightfiles = (re.sub(\"[^0-9x]\", \"\", s) for s in possible_weightfiles)\n",
        "    possible_weightfiles = (re.sub(\"^x*\", \"\", s) for s in possible_weightfiles)\n",
        "    possible_weightfiles = (re.sub(\"x[^0-9]*$\", \"\", s) for s in possible_weightfiles)\n",
        "    possible_hidden_sizes = (s.strip() for s in possible_weightfiles if s.strip())\n",
        "    possible_hidden_sizes = (\n",
        "        tuple(hs.strip() for hs in s.split(\"x\") if hs.strip())\n",
        "        for s in possible_hidden_sizes\n",
        "    )\n",
        "    possible_hidden_sizes = (\n",
        "        tuple(int(hs) for hs in s[1:-1]) for s in possible_hidden_sizes if len(s) > 2\n",
        "    )\n",
        "    possible_hidden_sizes = sorted(\n",
        "        possible_hidden_sizes, key=lambda hs: (len(hs), max(hs))\n",
        "    )\n",
        "    return possible_hidden_sizes"
      ]
    },
    {
      "cell_type": "markdown",
      "id": "d573fe5aa7bf2883",
      "metadata": {},
      "source": [
        ":::{eval-rst}\n",
        ".. autofunction:: sax.nn.io.get_dense_weights_path\n",
        ":::\n"
      ]
    },
    {
      "cell_type": "code",
      "execution_count": 7,
      "id": "a7f05da15dc5dac0",
      "metadata": {
        "execution": {
          "iopub.execute_input": "2023-06-01T21:32:56.502585Z",
          "iopub.status.busy": "2023-06-01T21:32:56.502390Z",
          "iopub.status.idle": "2023-06-01T21:32:56.506566Z",
          "shell.execute_reply": "2023-06-01T21:32:56.506216Z"
        },
        "papermill": {
          "duration": 0.008195,
          "end_time": "2023-06-01T21:32:56.508175",
          "exception": false,
          "start_time": "2023-06-01T21:32:56.499980",
          "status": "completed"
        },
        "tags": [
          "hide-input"
        ]
      },
      "outputs": [],
      "source": [
        "\n",
        "def get_dense_weights_path(\n",
        "    *sizes: int,\n",
        "    input_names: Optional[Tuple[str, ...]] = None,\n",
        "    output_names: Optional[Tuple[str, ...]] = None,\n",
        "    dirpath: str = \"weights\",\n",
        "    prefix: str = \"dense\",\n",
        "    preprocess=preprocess,\n",
        "):\n",
        "    \"\"\"Create the SAX conventional path for a given weight dictionary\"\"\"\n",
        "    if input_names:\n",
        "        num_inputs = preprocess(*jnp.ones(len(input_names))).shape[0]\n",
        "        sizes = (num_inputs,) + sizes\n",
        "    if output_names:\n",
        "        sizes = sizes + (len(output_names),)\n",
        "    path = os.path.abspath(os.path.join(dirpath, prefix))\n",
        "    if input_names:\n",
        "        path = f\"{path}-{'-'.join(input_names)}\"\n",
        "    if sizes:\n",
        "        path = f\"{path}-{'x'.join(str(s) for s in sizes)}\"\n",
        "    if output_names:\n",
        "        path = f\"{path}-{'-'.join(output_names)}\"\n",
        "    return f\"{path}.json\""
      ]
    },
    {
      "cell_type": "markdown",
      "id": "b68de62299e7c68c",
      "metadata": {},
      "source": [
        ":::{eval-rst}\n",
        ".. autofunction:: sax.nn.io.get_norm_path\n",
        ":::\n"
      ]
    },
    {
      "cell_type": "code",
      "execution_count": 8,
      "id": "c21276491221dbce",
      "metadata": {
        "execution": {
          "iopub.execute_input": "2023-06-01T21:32:56.512481Z",
          "iopub.status.busy": "2023-06-01T21:32:56.512296Z",
          "iopub.status.idle": "2023-06-01T21:32:56.516473Z",
          "shell.execute_reply": "2023-06-01T21:32:56.516133Z"
        },
        "papermill": {
          "duration": 0.008135,
          "end_time": "2023-06-01T21:32:56.518090",
          "exception": false,
          "start_time": "2023-06-01T21:32:56.509955",
          "status": "completed"
        },
        "tags": [
          "hide-input"
        ]
      },
      "outputs": [],
      "source": [
        "\n",
        "def get_norm_path(\n",
        "    *shape: int,\n",
        "    input_names: Optional[Tuple[str, ...]] = None,\n",
        "    output_names: Optional[Tuple[str, ...]] = None,\n",
        "    dirpath: str = \"norms\",\n",
        "    prefix: str = \"norm\",\n",
        "    preprocess=preprocess,\n",
        "):\n",
        "    \"\"\"Create the SAX conventional path for the normalization constants\"\"\"\n",
        "    if input_names and output_names:\n",
        "        raise ValueError(\n",
        "            \"To get the norm name, one can only specify `input_names` OR `output_names`.\"\n",
        "        )\n",
        "    if input_names:\n",
        "        num_inputs = preprocess(*jnp.ones(len(input_names))).shape[0]\n",
        "        shape = (num_inputs,) + shape\n",
        "    if output_names:\n",
        "        shape = shape + (len(output_names),)\n",
        "    path = os.path.abspath(os.path.join(dirpath, prefix))\n",
        "    if input_names:\n",
        "        path = f\"{path}-{'-'.join(input_names)}\"\n",
        "    if shape:\n",
        "        path = f\"{path}-{'x'.join(str(s) for s in shape)}\"\n",
        "    if output_names:\n",
        "        path = f\"{path}-{'-'.join(output_names)}\"\n",
        "    return f\"{path}.json\""
      ]
    },
    {
      "cell_type": "code",
      "execution_count": 9,
      "id": "8a987e8f2da7bd83",
      "metadata": {
        "execution": {
          "iopub.execute_input": "2023-06-01T21:32:56.522433Z",
          "iopub.status.busy": "2023-06-01T21:32:56.522258Z",
          "iopub.status.idle": "2023-06-01T21:32:56.525518Z",
          "shell.execute_reply": "2023-06-01T21:32:56.525167Z"
        },
        "papermill": {
          "duration": 0.007212,
          "end_time": "2023-06-01T21:32:56.527129",
          "exception": false,
          "start_time": "2023-06-01T21:32:56.519917",
          "status": "completed"
        },
        "tags": [
          "remove-cell"
        ]
      },
      "outputs": [],
      "source": [
        "class _PartialDense:\n",
        "    def __init__(self, weights, x_norm, y_norm, input_names, output_names):\n",
        "        self.weights = weights\n",
        "        self.x_norm = x_norm\n",
        "        self.y_norm = y_norm\n",
        "        self.input_names = input_names\n",
        "        self.output_names = output_names\n",
        "\n",
        "    def __call__(self, *params: ComplexFloat) -> ComplexFloat:\n",
        "        return dense(self.weights, *params, x_norm=self.x_norm, y_norm=self.y_norm)\n",
        "\n",
        "    def __repr__(self):\n",
        "        return f\"{self.__class__.__name__}{repr(self.input_names)}->{repr(self.output_names)}\""
      ]
    },
    {
      "cell_type": "markdown",
      "id": "06c1d7608478fd8c",
      "metadata": {},
      "source": [
        ":::{eval-rst}\n",
        ".. autofunction:: sax.nn.io.load_nn_dense\n",
        ":::\n"
      ]
    },
    {
      "cell_type": "code",
      "execution_count": 10,
      "id": "2ba4a42d117b74f6",
      "metadata": {
        "execution": {
          "iopub.execute_input": "2023-06-01T21:32:56.531423Z",
          "iopub.status.busy": "2023-06-01T21:32:56.531250Z",
          "iopub.status.idle": "2023-06-01T21:32:56.536058Z",
          "shell.execute_reply": "2023-06-01T21:32:56.535717Z"
        },
        "papermill": {
          "duration": 0.00893,
          "end_time": "2023-06-01T21:32:56.537824",
          "exception": false,
          "start_time": "2023-06-01T21:32:56.528894",
          "status": "completed"
        },
        "tags": [
          "hide-input"
        ]
      },
      "outputs": [],
      "source": [
        "def load_nn_dense(\n",
        "    *sizes: int,\n",
        "    input_names: Optional[Tuple[str, ...]] = None,\n",
        "    output_names: Optional[Tuple[str, ...]] = None,\n",
        "    weightprefix=\"dense\",\n",
        "    weightdirpath=\"weights\",\n",
        "    normdirpath=\"norms\",\n",
        "    normprefix=\"norm\",\n",
        "    preprocess=preprocess,\n",
        ") -> Callable:\n",
        "    \"\"\"Load a pre-trained dense model\"\"\"\n",
        "    weights_path = get_dense_weights_path(\n",
        "        *sizes,\n",
        "        input_names=input_names,\n",
        "        output_names=output_names,\n",
        "        prefix=weightprefix,\n",
        "        dirpath=weightdirpath,\n",
        "        preprocess=preprocess,\n",
        "    )\n",
        "    if not os.path.exists(weights_path):\n",
        "        raise ValueError(\"Cannot find weights path for given parameters\")\n",
        "    x_norm_path = get_norm_path(\n",
        "        input_names=input_names,\n",
        "        prefix=normprefix,\n",
        "        dirpath=normdirpath,\n",
        "        preprocess=preprocess,\n",
        "    )\n",
        "    if not os.path.exists(x_norm_path):\n",
        "        raise ValueError(\"Cannot find normalization for input parameters\")\n",
        "    y_norm_path = get_norm_path(\n",
        "        output_names=output_names,\n",
        "        prefix=normprefix,\n",
        "        dirpath=normdirpath,\n",
        "        preprocess=preprocess,\n",
        "    )\n",
        "    if not os.path.exists(x_norm_path):\n",
        "        raise ValueError(\"Cannot find normalization for output parameters\")\n",
        "    weights = load_nn_weights_json(weights_path)\n",
        "    x_norm_dict = load_nn_weights_json(x_norm_path)\n",
        "    y_norm_dict = load_nn_weights_json(y_norm_path)\n",
        "    x_norm = norm(x_norm_dict[\"mean\"], x_norm_dict[\"std\"])\n",
        "    y_norm = norm(y_norm_dict[\"mean\"], y_norm_dict[\"std\"])\n",
        "    partial_dense = _PartialDense(weights, x_norm, y_norm, input_names, output_names)\n",
        "    return partial_dense"
      ]
    }
  ],
  "metadata": {
    "kernelspec": {
      "display_name": "sax",
      "language": "python",
      "name": "sax"
    },
    "language_info": {
      "codemirror_mode": {
        "name": "ipython",
        "version": 3
      },
      "file_extension": ".py",
      "mimetype": "text/x-python",
      "name": "python",
      "nbconvert_exporter": "python",
      "pygments_lexer": "ipython3",
      "version": "3.11.3"
    },
    "papermill": {
      "default_parameters": {},
      "duration": 3.459664,
      "end_time": "2023-06-01T21:32:57.057650",
      "environment_variables": {},
      "exception": null,
      "input_path": "./nbs/09d_nn_io.ipynb",
      "output_path": "./nbs/09d_nn_io.ipynb",
      "parameters": {},
      "start_time": "2023-06-01T21:32:53.597986",
      "version": "2.3.4"
    }
  },
  "nbformat": 4,
  "nbformat_minor": 5
}