{
  "cells": [
    {
      "cell_type": "code",
      "execution_count": 1,
      "id": "66035cc0e90cb1a4",
      "metadata": {
        "execution": {
          "iopub.execute_input": "2023-09-01T16:50:26.467326Z",
          "iopub.status.busy": "2023-09-01T16:50:26.466923Z",
          "iopub.status.idle": "2023-09-01T16:50:26.470426Z",
          "shell.execute_reply": "2023-09-01T16:50:26.469836Z"
        },
        "papermill": {
          "duration": 0.008235,
          "end_time": "2023-09-01T16:50:26.471719",
          "exception": false,
          "start_time": "2023-09-01T16:50:26.463484",
          "status": "completed"
        },
        "tags": [
          "remove-cell"
        ]
      },
      "outputs": [],
      "source": []
    },
    {
      "cell_type": "markdown",
      "id": "a0489f95",
      "metadata": {
        "papermill": {
          "duration": 0.001824,
          "end_time": "2023-09-01T16:50:26.475712",
          "exception": false,
          "start_time": "2023-09-01T16:50:26.473888",
          "status": "completed"
        },
        "tags": []
      },
      "source": [
        "# IO\n",
        "\n",
        "> IO Utilitites for SAX neural networks"
      ]
    },
    {
      "cell_type": "code",
      "execution_count": 2,
      "id": "fb04618160247b75",
      "metadata": {
        "execution": {
          "iopub.execute_input": "2023-09-01T16:50:26.480643Z",
          "iopub.status.busy": "2023-09-01T16:50:26.480091Z",
          "iopub.status.idle": "2023-09-01T16:50:26.899984Z",
          "shell.execute_reply": "2023-09-01T16:50:26.899532Z"
        },
        "papermill": {
          "duration": 0.424013,
          "end_time": "2023-09-01T16:50:26.901494",
          "exception": false,
          "start_time": "2023-09-01T16:50:26.477481",
          "status": "completed"
        },
        "tags": [
          "remove-cell"
        ]
      },
      "outputs": [],
      "source": [
        "import matplotlib.pyplot as plt\n",
        "from fastcore.test import test_eq\n",
        "from pytest import approx, raises\n",
        "\n",
        "import os, sys; sys.stderr = open(os.devnull, \"w\")"
      ]
    },
    {
      "cell_type": "code",
      "execution_count": 3,
      "id": "9277200fc092f553",
      "metadata": {
        "execution": {
          "iopub.execute_input": "2023-09-01T16:50:26.907358Z",
          "iopub.status.busy": "2023-09-01T16:50:26.906739Z",
          "iopub.status.idle": "2023-09-01T16:50:27.982257Z",
          "shell.execute_reply": "2023-09-01T16:50:27.981728Z"
        },
        "papermill": {
          "duration": 1.080163,
          "end_time": "2023-09-01T16:50:27.983826",
          "exception": false,
          "start_time": "2023-09-01T16:50:26.903663",
          "status": "completed"
        },
        "tags": [
          "hide-input"
        ]
      },
      "outputs": [],
      "source": [
        "from __future__ import annotations\n",
        "\n",
        "import json\n",
        "import os\n",
        "import re\n",
        "from typing import Callable, Dict, List, Optional, Tuple\n",
        "\n",
        "import jax.numpy as jnp\n",
        "from sax.nn.core import dense, preprocess\n",
        "from sax.nn.utils import norm\n",
        "from sax.typing_ import ComplexFloat"
      ]
    },
    {
      "cell_type": "markdown",
      "id": "598795403684df90",
      "metadata": {},
      "source": [
        ":::{eval-rst}\n",
        ".. autofunction:: sax.nn.io.load_nn_weights_json\n",
        ":::\n"
      ]
    },
    {
      "cell_type": "code",
      "execution_count": 4,
      "id": "3f4f3fde615696e8",
      "metadata": {
        "execution": {
          "iopub.execute_input": "2023-09-01T16:50:27.990055Z",
          "iopub.status.busy": "2023-09-01T16:50:27.989317Z",
          "iopub.status.idle": "2023-09-01T16:50:27.993987Z",
          "shell.execute_reply": "2023-09-01T16:50:27.993512Z"
        },
        "papermill": {
          "duration": 0.009303,
          "end_time": "2023-09-01T16:50:27.995269",
          "exception": false,
          "start_time": "2023-09-01T16:50:27.985966",
          "status": "completed"
        },
        "tags": [
          "hide-input"
        ]
      },
      "outputs": [],
      "source": [
        "\n",
        "def load_nn_weights_json(path: str) -> Dict[str, ComplexFloat]:\n",
        "    \"\"\"Load json weights from given path\"\"\"\n",
        "    path = os.path.abspath(os.path.expanduser(path))\n",
        "    weights = {}\n",
        "    if os.path.exists(path):\n",
        "        with open(path, \"r\") as file:\n",
        "            for k, v in json.load(file).items():\n",
        "                _v = jnp.array(v, dtype=float)\n",
        "                assert isinstance(_v, jnp.ndarray)\n",
        "                weights[k] = _v\n",
        "    return weights"
      ]
    },
    {
      "cell_type": "markdown",
      "id": "2030a542b7f30998",
      "metadata": {},
      "source": [
        ":::{eval-rst}\n",
        ".. autofunction:: sax.nn.io.save_nn_weights_json\n",
        ":::\n"
      ]
    },
    {
      "cell_type": "code",
      "execution_count": 5,
      "id": "d8d850459b4a07f0",
      "metadata": {
        "execution": {
          "iopub.execute_input": "2023-09-01T16:50:28.000381Z",
          "iopub.status.busy": "2023-09-01T16:50:27.999969Z",
          "iopub.status.idle": "2023-09-01T16:50:28.003949Z",
          "shell.execute_reply": "2023-09-01T16:50:28.003496Z"
        },
        "papermill": {
          "duration": 0.008068,
          "end_time": "2023-09-01T16:50:28.005292",
          "exception": false,
          "start_time": "2023-09-01T16:50:27.997224",
          "status": "completed"
        },
        "tags": [
          "hide-input"
        ]
      },
      "outputs": [],
      "source": [
        "def save_nn_weights_json(weights: Dict[str, ComplexFloat], path: str):\n",
        "    \"\"\"Save json weights to given path\"\"\"\n",
        "    path = os.path.abspath(os.path.expanduser(path))\n",
        "    os.makedirs(os.path.dirname(path), exist_ok=True)\n",
        "    with open(path, \"w\") as file:\n",
        "        _weights = {}\n",
        "        for k, v in weights.items():\n",
        "            v = jnp.atleast_1d(jnp.array(v))\n",
        "            assert isinstance(v, jnp.ndarray)\n",
        "            _weights[k] = v.tolist()\n",
        "        json.dump(_weights, file)"
      ]
    },
    {
      "cell_type": "markdown",
      "id": "c32b475b84ca223e",
      "metadata": {},
      "source": [
        ":::{eval-rst}\n",
        ".. autofunction:: sax.nn.io.get_available_sizes\n",
        ":::\n"
      ]
    },
    {
      "cell_type": "code",
      "execution_count": 6,
      "id": "7a0f084b8229e0dc",
      "metadata": {
        "execution": {
          "iopub.execute_input": "2023-09-01T16:50:28.010443Z",
          "iopub.status.busy": "2023-09-01T16:50:28.010099Z",
          "iopub.status.idle": "2023-09-01T16:50:28.016356Z",
          "shell.execute_reply": "2023-09-01T16:50:28.015898Z"
        },
        "papermill": {
          "duration": 0.010415,
          "end_time": "2023-09-01T16:50:28.017690",
          "exception": false,
          "start_time": "2023-09-01T16:50:28.007275",
          "status": "completed"
        },
        "tags": [
          "hide-input"
        ]
      },
      "outputs": [],
      "source": [
        "def get_available_sizes(\n",
        "    dirpath: str,\n",
        "    prefix: str,\n",
        "    input_names: Tuple[str, ...],\n",
        "    output_names: Tuple[str, ...],\n",
        ") -> List[Tuple[int, ...]]:\n",
        "    \"\"\"Get all available json weight hidden sizes given filename parameters\n",
        "\n",
        "    > Note: this function does NOT return the input size and the output size \n",
        "      of the neural network. ONLY the hidden sizes are reported. The input \n",
        "      and output sizes can easily be derived from `input_names` (after \n",
        "      preprocessing) and `output_names`.\n",
        "    \"\"\"\n",
        "    all_weightfiles = os.listdir(dirpath)\n",
        "    possible_weightfiles = (\n",
        "        s for s in all_weightfiles if s.endswith(f\"-{'-'.join(output_names)}.json\")\n",
        "    )\n",
        "    possible_weightfiles = (\n",
        "        s\n",
        "        for s in possible_weightfiles\n",
        "        if s.startswith(f\"{prefix}-{'-'.join(input_names)}\")\n",
        "    )\n",
        "    possible_weightfiles = (re.sub(\"[^0-9x]\", \"\", s) for s in possible_weightfiles)\n",
        "    possible_weightfiles = (re.sub(\"^x*\", \"\", s) for s in possible_weightfiles)\n",
        "    possible_weightfiles = (re.sub(\"x[^0-9]*$\", \"\", s) for s in possible_weightfiles)\n",
        "    possible_hidden_sizes = (s.strip() for s in possible_weightfiles if s.strip())\n",
        "    possible_hidden_sizes = (\n",
        "        tuple(hs.strip() for hs in s.split(\"x\") if hs.strip())\n",
        "        for s in possible_hidden_sizes\n",
        "    )\n",
        "    possible_hidden_sizes = (\n",
        "        tuple(int(hs) for hs in s[1:-1]) for s in possible_hidden_sizes if len(s) > 2\n",
        "    )\n",
        "    possible_hidden_sizes = sorted(\n",
        "        possible_hidden_sizes, key=lambda hs: (len(hs), max(hs))\n",
        "    )\n",
        "    return possible_hidden_sizes"
      ]
    },
    {
      "cell_type": "markdown",
      "id": "b37b50d6ce5f86af",
      "metadata": {},
      "source": [
        ":::{eval-rst}\n",
        ".. autofunction:: sax.nn.io.get_dense_weights_path\n",
        ":::\n"
      ]
    },
    {
      "cell_type": "code",
      "execution_count": 7,
      "id": "8d02c8a88bf192bf",
      "metadata": {
        "execution": {
          "iopub.execute_input": "2023-09-01T16:50:28.022880Z",
          "iopub.status.busy": "2023-09-01T16:50:28.022520Z",
          "iopub.status.idle": "2023-09-01T16:50:28.027298Z",
          "shell.execute_reply": "2023-09-01T16:50:28.026861Z"
        },
        "papermill": {
          "duration": 0.008807,
          "end_time": "2023-09-01T16:50:28.028636",
          "exception": false,
          "start_time": "2023-09-01T16:50:28.019829",
          "status": "completed"
        },
        "tags": [
          "hide-input"
        ]
      },
      "outputs": [],
      "source": [
        "\n",
        "def get_dense_weights_path(\n",
        "    *sizes: int,\n",
        "    input_names: Optional[Tuple[str, ...]] = None,\n",
        "    output_names: Optional[Tuple[str, ...]] = None,\n",
        "    dirpath: str = \"weights\",\n",
        "    prefix: str = \"dense\",\n",
        "    preprocess=preprocess,\n",
        "):\n",
        "    \"\"\"Create the SAX conventional path for a given weight dictionary\"\"\"\n",
        "    if input_names:\n",
        "        num_inputs = preprocess(*jnp.ones(len(input_names))).shape[0]\n",
        "        sizes = (num_inputs,) + sizes\n",
        "    if output_names:\n",
        "        sizes = sizes + (len(output_names),)\n",
        "    path = os.path.abspath(os.path.join(dirpath, prefix))\n",
        "    if input_names:\n",
        "        path = f\"{path}-{'-'.join(input_names)}\"\n",
        "    if sizes:\n",
        "        path = f\"{path}-{'x'.join(str(s) for s in sizes)}\"\n",
        "    if output_names:\n",
        "        path = f\"{path}-{'-'.join(output_names)}\"\n",
        "    return f\"{path}.json\""
      ]
    },
    {
      "cell_type": "markdown",
      "id": "dfcd445c881cd160",
      "metadata": {},
      "source": [
        ":::{eval-rst}\n",
        ".. autofunction:: sax.nn.io.get_norm_path\n",
        ":::\n"
      ]
    },
    {
      "cell_type": "code",
      "execution_count": 8,
      "id": "0cc1ec06690d98fc",
      "metadata": {
        "execution": {
          "iopub.execute_input": "2023-09-01T16:50:28.033717Z",
          "iopub.status.busy": "2023-09-01T16:50:28.033277Z",
          "iopub.status.idle": "2023-09-01T16:50:28.037930Z",
          "shell.execute_reply": "2023-09-01T16:50:28.037515Z"
        },
        "papermill": {
          "duration": 0.008457,
          "end_time": "2023-09-01T16:50:28.039147",
          "exception": false,
          "start_time": "2023-09-01T16:50:28.030690",
          "status": "completed"
        },
        "tags": [
          "hide-input"
        ]
      },
      "outputs": [],
      "source": [
        "\n",
        "def get_norm_path(\n",
        "    *shape: int,\n",
        "    input_names: Optional[Tuple[str, ...]] = None,\n",
        "    output_names: Optional[Tuple[str, ...]] = None,\n",
        "    dirpath: str = \"norms\",\n",
        "    prefix: str = \"norm\",\n",
        "    preprocess=preprocess,\n",
        "):\n",
        "    \"\"\"Create the SAX conventional path for the normalization constants\"\"\"\n",
        "    if input_names and output_names:\n",
        "        raise ValueError(\n",
        "            \"To get the norm name, one can only specify `input_names` OR `output_names`.\"\n",
        "        )\n",
        "    if input_names:\n",
        "        num_inputs = preprocess(*jnp.ones(len(input_names))).shape[0]\n",
        "        shape = (num_inputs,) + shape\n",
        "    if output_names:\n",
        "        shape = shape + (len(output_names),)\n",
        "    path = os.path.abspath(os.path.join(dirpath, prefix))\n",
        "    if input_names:\n",
        "        path = f\"{path}-{'-'.join(input_names)}\"\n",
        "    if shape:\n",
        "        path = f\"{path}-{'x'.join(str(s) for s in shape)}\"\n",
        "    if output_names:\n",
        "        path = f\"{path}-{'-'.join(output_names)}\"\n",
        "    return f\"{path}.json\""
      ]
    },
    {
      "cell_type": "code",
      "execution_count": 9,
      "id": "2d057c83da45531c",
      "metadata": {
        "execution": {
          "iopub.execute_input": "2023-09-01T16:50:28.044163Z",
          "iopub.status.busy": "2023-09-01T16:50:28.043711Z",
          "iopub.status.idle": "2023-09-01T16:50:28.047375Z",
          "shell.execute_reply": "2023-09-01T16:50:28.047040Z"
        },
        "papermill": {
          "duration": 0.007458,
          "end_time": "2023-09-01T16:50:28.048581",
          "exception": false,
          "start_time": "2023-09-01T16:50:28.041123",
          "status": "completed"
        },
        "tags": [
          "remove-cell"
        ]
      },
      "outputs": [],
      "source": [
        "class _PartialDense:\n",
        "    def __init__(self, weights, x_norm, y_norm, input_names, output_names):\n",
        "        self.weights = weights\n",
        "        self.x_norm = x_norm\n",
        "        self.y_norm = y_norm\n",
        "        self.input_names = input_names\n",
        "        self.output_names = output_names\n",
        "\n",
        "    def __call__(self, *params: ComplexFloat) -> ComplexFloat:\n",
        "        return dense(self.weights, *params, x_norm=self.x_norm, y_norm=self.y_norm)\n",
        "\n",
        "    def __repr__(self):\n",
        "        return f\"{self.__class__.__name__}{repr(self.input_names)}->{repr(self.output_names)}\""
      ]
    },
    {
      "cell_type": "markdown",
      "id": "3ce6e1dca8e02a50",
      "metadata": {},
      "source": [
        ":::{eval-rst}\n",
        ".. autofunction:: sax.nn.io.load_nn_dense\n",
        ":::\n"
      ]
    },
    {
      "cell_type": "code",
      "execution_count": 10,
      "id": "729531b4598440b0",
      "metadata": {
        "execution": {
          "iopub.execute_input": "2023-09-01T16:50:28.054570Z",
          "iopub.status.busy": "2023-09-01T16:50:28.054092Z",
          "iopub.status.idle": "2023-09-01T16:50:28.060470Z",
          "shell.execute_reply": "2023-09-01T16:50:28.060015Z"
        },
        "papermill": {
          "duration": 0.010385,
          "end_time": "2023-09-01T16:50:28.061846",
          "exception": false,
          "start_time": "2023-09-01T16:50:28.051461",
          "status": "completed"
        },
        "tags": [
          "hide-input"
        ]
      },
      "outputs": [],
      "source": [
        "def load_nn_dense(\n",
        "    *sizes: int,\n",
        "    input_names: Optional[Tuple[str, ...]] = None,\n",
        "    output_names: Optional[Tuple[str, ...]] = None,\n",
        "    weightprefix=\"dense\",\n",
        "    weightdirpath=\"weights\",\n",
        "    normdirpath=\"norms\",\n",
        "    normprefix=\"norm\",\n",
        "    preprocess=preprocess,\n",
        ") -> Callable:\n",
        "    \"\"\"Load a pre-trained dense model\"\"\"\n",
        "    weights_path = get_dense_weights_path(\n",
        "        *sizes,\n",
        "        input_names=input_names,\n",
        "        output_names=output_names,\n",
        "        prefix=weightprefix,\n",
        "        dirpath=weightdirpath,\n",
        "        preprocess=preprocess,\n",
        "    )\n",
        "    if not os.path.exists(weights_path):\n",
        "        raise ValueError(\"Cannot find weights path for given parameters\")\n",
        "    x_norm_path = get_norm_path(\n",
        "        input_names=input_names,\n",
        "        prefix=normprefix,\n",
        "        dirpath=normdirpath,\n",
        "        preprocess=preprocess,\n",
        "    )\n",
        "    if not os.path.exists(x_norm_path):\n",
        "        raise ValueError(\"Cannot find normalization for input parameters\")\n",
        "    y_norm_path = get_norm_path(\n",
        "        output_names=output_names,\n",
        "        prefix=normprefix,\n",
        "        dirpath=normdirpath,\n",
        "        preprocess=preprocess,\n",
        "    )\n",
        "    if not os.path.exists(x_norm_path):\n",
        "        raise ValueError(\"Cannot find normalization for output parameters\")\n",
        "    weights = load_nn_weights_json(weights_path)\n",
        "    x_norm_dict = load_nn_weights_json(x_norm_path)\n",
        "    y_norm_dict = load_nn_weights_json(y_norm_path)\n",
        "    x_norm = norm(x_norm_dict[\"mean\"], x_norm_dict[\"std\"])\n",
        "    y_norm = norm(y_norm_dict[\"mean\"], y_norm_dict[\"std\"])\n",
        "    partial_dense = _PartialDense(weights, x_norm, y_norm, input_names, output_names)\n",
        "    return partial_dense"
      ]
    }
  ],
  "metadata": {
    "kernelspec": {
      "display_name": "sax",
      "language": "python",
      "name": "sax"
    },
    "language_info": {
      "codemirror_mode": {
        "name": "ipython",
        "version": 3
      },
      "file_extension": ".py",
      "mimetype": "text/x-python",
      "name": "python",
      "nbconvert_exporter": "python",
      "pygments_lexer": "ipython3",
      "version": "3.11.5"
    },
    "papermill": {
      "default_parameters": {},
      "duration": 3.438617,
      "end_time": "2023-09-01T16:50:28.580446",
      "environment_variables": {},
      "exception": null,
      "input_path": "./nbs/09d_nn_io.ipynb",
      "output_path": "./nbs/09d_nn_io.ipynb",
      "parameters": {},
      "start_time": "2023-09-01T16:50:25.141829",
      "version": "2.4.0"
    }
  },
  "nbformat": 4,
  "nbformat_minor": 5
}