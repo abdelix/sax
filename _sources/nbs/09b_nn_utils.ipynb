{
  "cells": [
    {
      "cell_type": "code",
      "execution_count": 1,
      "id": "a763e20d2d46484f",
      "metadata": {
        "execution": {
          "iopub.execute_input": "2023-09-01T18:12:14.487026Z",
          "iopub.status.busy": "2023-09-01T18:12:14.486507Z",
          "iopub.status.idle": "2023-09-01T18:12:14.489902Z",
          "shell.execute_reply": "2023-09-01T18:12:14.489330Z"
        },
        "papermill": {
          "duration": 0.007893,
          "end_time": "2023-09-01T18:12:14.491228",
          "exception": false,
          "start_time": "2023-09-01T18:12:14.483335",
          "status": "completed"
        },
        "tags": [
          "remove-cell"
        ]
      },
      "outputs": [],
      "source": []
    },
    {
      "cell_type": "markdown",
      "id": "3ac7a21d",
      "metadata": {
        "papermill": {
          "duration": 0.001659,
          "end_time": "2023-09-01T18:12:14.494817",
          "exception": false,
          "start_time": "2023-09-01T18:12:14.493158",
          "status": "completed"
        },
        "tags": []
      },
      "source": [
        "# Utils\n",
        "\n",
        "> loss functions and utilitites for SAX neural networks"
      ]
    },
    {
      "cell_type": "code",
      "execution_count": 2,
      "id": "27f78bb1902aa10a",
      "metadata": {
        "execution": {
          "iopub.execute_input": "2023-09-01T18:12:14.499075Z",
          "iopub.status.busy": "2023-09-01T18:12:14.498629Z",
          "iopub.status.idle": "2023-09-01T18:12:14.919583Z",
          "shell.execute_reply": "2023-09-01T18:12:14.919122Z"
        },
        "papermill": {
          "duration": 0.424748,
          "end_time": "2023-09-01T18:12:14.921058",
          "exception": false,
          "start_time": "2023-09-01T18:12:14.496310",
          "status": "completed"
        },
        "tags": [
          "remove-cell"
        ]
      },
      "outputs": [],
      "source": [
        "import matplotlib.pyplot as plt\n",
        "from fastcore.test import test_eq\n",
        "from pytest import approx, raises\n",
        "\n",
        "import os, sys; sys.stderr = open(os.devnull, \"w\")"
      ]
    },
    {
      "cell_type": "code",
      "execution_count": 3,
      "id": "a637b0950b6b97ef",
      "metadata": {
        "execution": {
          "iopub.execute_input": "2023-09-01T18:12:14.926002Z",
          "iopub.status.busy": "2023-09-01T18:12:14.925408Z",
          "iopub.status.idle": "2023-09-01T18:12:15.953912Z",
          "shell.execute_reply": "2023-09-01T18:12:15.953450Z"
        },
        "papermill": {
          "duration": 1.032529,
          "end_time": "2023-09-01T18:12:15.955473",
          "exception": false,
          "start_time": "2023-09-01T18:12:14.922944",
          "status": "completed"
        },
        "tags": [
          "hide-input"
        ]
      },
      "outputs": [],
      "source": [
        "from __future__ import annotations\n",
        "\n",
        "from collections import namedtuple\n",
        "from typing import Tuple\n",
        "\n",
        "import jax.numpy as jnp\n",
        "import pandas as pd\n",
        "from sax.typing_ import ComplexFloat"
      ]
    },
    {
      "cell_type": "markdown",
      "id": "5164fe1e0c30bccc",
      "metadata": {},
      "source": [
        ":::{eval-rst}\n",
        ".. autofunction:: sax.nn.utils.cartesian_product\n",
        ":::\n"
      ]
    },
    {
      "cell_type": "code",
      "execution_count": 4,
      "id": "f805df6a21d3a658",
      "metadata": {
        "execution": {
          "iopub.execute_input": "2023-09-01T18:12:15.960937Z",
          "iopub.status.busy": "2023-09-01T18:12:15.960200Z",
          "iopub.status.idle": "2023-09-01T18:12:15.964424Z",
          "shell.execute_reply": "2023-09-01T18:12:15.964006Z"
        },
        "papermill": {
          "duration": 0.008223,
          "end_time": "2023-09-01T18:12:15.965563",
          "exception": false,
          "start_time": "2023-09-01T18:12:15.957340",
          "status": "completed"
        },
        "tags": [
          "hide-input"
        ]
      },
      "outputs": [],
      "source": [
        "def cartesian_product(*arrays: ComplexFloat) -> ComplexFloat:\n",
        "    \"\"\"calculate the n-dimensional cartesian product of an arbitrary number of arrays\"\"\"\n",
        "    ixarrays = jnp.ix_(*arrays)\n",
        "    barrays = jnp.broadcast_arrays(*ixarrays)\n",
        "    sarrays = jnp.stack(barrays, -1)\n",
        "    assert isinstance(sarrays, jnp.ndarray)\n",
        "    product = sarrays.reshape(-1, sarrays.shape[-1])\n",
        "    assert isinstance(product, jnp.ndarray)\n",
        "    return product"
      ]
    },
    {
      "cell_type": "markdown",
      "id": "9c2e5d8d4c7d831e",
      "metadata": {},
      "source": [
        ":::{eval-rst}\n",
        ".. autofunction:: sax.nn.utils.denormalize\n",
        ":::\n"
      ]
    },
    {
      "cell_type": "code",
      "execution_count": 5,
      "id": "e55aae202d750ed3",
      "metadata": {
        "execution": {
          "iopub.execute_input": "2023-09-01T18:12:15.970001Z",
          "iopub.status.busy": "2023-09-01T18:12:15.969527Z",
          "iopub.status.idle": "2023-09-01T18:12:15.972389Z",
          "shell.execute_reply": "2023-09-01T18:12:15.972005Z"
        },
        "papermill": {
          "duration": 0.006371,
          "end_time": "2023-09-01T18:12:15.973619",
          "exception": false,
          "start_time": "2023-09-01T18:12:15.967248",
          "status": "completed"
        },
        "tags": [
          "hide-input"
        ]
      },
      "outputs": [],
      "source": [
        "def denormalize(x: ComplexFloat, mean: ComplexFloat = 0.0, std: ComplexFloat = 1.0) -> ComplexFloat:\n",
        "    \"\"\"denormalize an array with a given mean and standard deviation\"\"\"\n",
        "    return x * std + mean"
      ]
    },
    {
      "cell_type": "code",
      "execution_count": 6,
      "id": "3e54c771fdb4315e",
      "metadata": {
        "execution": {
          "iopub.execute_input": "2023-09-01T18:12:15.977851Z",
          "iopub.status.busy": "2023-09-01T18:12:15.977557Z",
          "iopub.status.idle": "2023-09-01T18:12:15.980102Z",
          "shell.execute_reply": "2023-09-01T18:12:15.979700Z"
        },
        "papermill": {
          "duration": 0.005938,
          "end_time": "2023-09-01T18:12:15.981198",
          "exception": false,
          "start_time": "2023-09-01T18:12:15.975260",
          "status": "completed"
        },
        "tags": [
          "remove-cell"
        ]
      },
      "outputs": [],
      "source": [
        "norm = namedtuple(\"norm\", (\"mean\", \"std\"))"
      ]
    },
    {
      "cell_type": "markdown",
      "id": "081b4f0a006db699",
      "metadata": {},
      "source": [
        ":::{eval-rst}\n",
        ".. autofunction:: sax.nn.utils.get_normalization\n",
        ":::\n"
      ]
    },
    {
      "cell_type": "code",
      "execution_count": 7,
      "id": "7f5391d844e48f05",
      "metadata": {
        "execution": {
          "iopub.execute_input": "2023-09-01T18:12:15.985311Z",
          "iopub.status.busy": "2023-09-01T18:12:15.985134Z",
          "iopub.status.idle": "2023-09-01T18:12:15.988078Z",
          "shell.execute_reply": "2023-09-01T18:12:15.987678Z"
        },
        "papermill": {
          "duration": 0.006319,
          "end_time": "2023-09-01T18:12:15.989260",
          "exception": false,
          "start_time": "2023-09-01T18:12:15.982941",
          "status": "completed"
        },
        "tags": [
          "hide-input"
        ]
      },
      "outputs": [],
      "source": [
        "def get_normalization(x: ComplexFloat):\n",
        "    \"\"\"Get mean and standard deviation for a given array\"\"\"\n",
        "    if isinstance(x, (complex, float)):\n",
        "        return x, 0.0\n",
        "    return norm(x.mean(0), x.std(0))"
      ]
    },
    {
      "cell_type": "markdown",
      "id": "e8ac0b9217d58cb9",
      "metadata": {},
      "source": [
        ":::{eval-rst}\n",
        ".. autofunction:: sax.nn.utils.get_df_columns\n",
        ":::\n"
      ]
    },
    {
      "cell_type": "code",
      "execution_count": 8,
      "id": "ed584fd856232c53",
      "metadata": {
        "execution": {
          "iopub.execute_input": "2023-09-01T18:12:15.993504Z",
          "iopub.status.busy": "2023-09-01T18:12:15.993222Z",
          "iopub.status.idle": "2023-09-01T18:12:15.996636Z",
          "shell.execute_reply": "2023-09-01T18:12:15.996246Z"
        },
        "papermill": {
          "duration": 0.006861,
          "end_time": "2023-09-01T18:12:15.997811",
          "exception": false,
          "start_time": "2023-09-01T18:12:15.990950",
          "status": "completed"
        },
        "tags": [
          "hide-input"
        ]
      },
      "outputs": [],
      "source": [
        "def get_df_columns(df: pd.DataFrame, *names: str) -> Tuple[ComplexFloat, ...]:\n",
        "    \"\"\"Get certain columns from a pandas DataFrame as jax.numpy arrays\"\"\"\n",
        "    tup = namedtuple(\"params\", names)\n",
        "    params_list = []\n",
        "    for name in names:\n",
        "        column_np = df[name].values\n",
        "        column_jnp = jnp.array(column_np)\n",
        "        assert isinstance(column_jnp, jnp.ndarray)\n",
        "        params_list.append(column_jnp.ravel())\n",
        "    return tup(*params_list)"
      ]
    },
    {
      "cell_type": "markdown",
      "id": "7b499b9d5d034ab8",
      "metadata": {},
      "source": [
        ":::{eval-rst}\n",
        ".. autofunction:: sax.nn.utils.normalize\n",
        ":::\n"
      ]
    },
    {
      "cell_type": "code",
      "execution_count": 9,
      "id": "e4cdd033a76ec77a",
      "metadata": {
        "execution": {
          "iopub.execute_input": "2023-09-01T18:12:16.002332Z",
          "iopub.status.busy": "2023-09-01T18:12:16.001901Z",
          "iopub.status.idle": "2023-09-01T18:12:16.004676Z",
          "shell.execute_reply": "2023-09-01T18:12:16.004283Z"
        },
        "papermill": {
          "duration": 0.006233,
          "end_time": "2023-09-01T18:12:16.005788",
          "exception": false,
          "start_time": "2023-09-01T18:12:15.999555",
          "status": "completed"
        },
        "tags": [
          "hide-input"
        ]
      },
      "outputs": [],
      "source": [
        "def normalize(\n",
        "    x: ComplexFloat, mean: ComplexFloat = 0.0, std: ComplexFloat = 1.0\n",
        ") -> ComplexFloat:\n",
        "    \"\"\"normalize an array with a given mean and standard deviation\"\"\"\n",
        "    return (x - mean) / std"
      ]
    }
  ],
  "metadata": {
    "kernelspec": {
      "display_name": "sax",
      "language": "python",
      "name": "sax"
    },
    "language_info": {
      "codemirror_mode": {
        "name": "ipython",
        "version": 3
      },
      "file_extension": ".py",
      "mimetype": "text/x-python",
      "name": "python",
      "nbconvert_exporter": "python",
      "pygments_lexer": "ipython3",
      "version": "3.11.5"
    },
    "papermill": {
      "default_parameters": {},
      "duration": 3.356777,
      "end_time": "2023-09-01T18:12:16.525020",
      "environment_variables": {},
      "exception": null,
      "input_path": "./nbs/09b_nn_utils.ipynb",
      "output_path": "./nbs/09b_nn_utils.ipynb",
      "parameters": {},
      "start_time": "2023-09-01T18:12:13.168243",
      "version": "2.4.0"
    }
  },
  "nbformat": 4,
  "nbformat_minor": 5
}