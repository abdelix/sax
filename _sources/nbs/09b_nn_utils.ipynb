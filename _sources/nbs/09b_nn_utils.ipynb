{
  "cells": [
    {
      "cell_type": "code",
      "execution_count": 1,
      "id": "6a36227d9d9aa85c",
      "metadata": {
        "execution": {
          "iopub.execute_input": "2023-06-01T21:50:23.849155Z",
          "iopub.status.busy": "2023-06-01T21:50:23.848919Z",
          "iopub.status.idle": "2023-06-01T21:50:23.852702Z",
          "shell.execute_reply": "2023-06-01T21:50:23.852199Z"
        },
        "papermill": {
          "duration": 0.008113,
          "end_time": "2023-06-01T21:50:23.854088",
          "exception": false,
          "start_time": "2023-06-01T21:50:23.845975",
          "status": "completed"
        },
        "tags": [
          "remove-cell"
        ]
      },
      "outputs": [],
      "source": []
    },
    {
      "cell_type": "markdown",
      "id": "3ac7a21d",
      "metadata": {
        "papermill": {
          "duration": 0.002606,
          "end_time": "2023-06-01T21:50:23.858493",
          "exception": false,
          "start_time": "2023-06-01T21:50:23.855887",
          "status": "completed"
        },
        "tags": []
      },
      "source": [
        "# Utils\n",
        "\n",
        "> loss functions and utilitites for SAX neural networks"
      ]
    },
    {
      "cell_type": "code",
      "execution_count": 2,
      "id": "036ec2ecb38cf0cf",
      "metadata": {
        "execution": {
          "iopub.execute_input": "2023-06-01T21:50:23.862426Z",
          "iopub.status.busy": "2023-06-01T21:50:23.862231Z",
          "iopub.status.idle": "2023-06-01T21:50:24.321392Z",
          "shell.execute_reply": "2023-06-01T21:50:24.320992Z"
        },
        "papermill": {
          "duration": 0.463023,
          "end_time": "2023-06-01T21:50:24.323030",
          "exception": false,
          "start_time": "2023-06-01T21:50:23.860007",
          "status": "completed"
        },
        "tags": [
          "remove-cell"
        ]
      },
      "outputs": [],
      "source": [
        "import matplotlib.pyplot as plt\n",
        "from fastcore.test import test_eq\n",
        "from pytest import approx, raises\n",
        "\n",
        "import os, sys; sys.stderr = open(os.devnull, \"w\")"
      ]
    },
    {
      "cell_type": "code",
      "execution_count": 3,
      "id": "4e274d90e4e95efb",
      "metadata": {
        "execution": {
          "iopub.execute_input": "2023-06-01T21:50:24.328689Z",
          "iopub.status.busy": "2023-06-01T21:50:24.327699Z",
          "iopub.status.idle": "2023-06-01T21:50:25.275571Z",
          "shell.execute_reply": "2023-06-01T21:50:25.275131Z"
        },
        "papermill": {
          "duration": 0.952164,
          "end_time": "2023-06-01T21:50:25.277031",
          "exception": false,
          "start_time": "2023-06-01T21:50:24.324867",
          "status": "completed"
        },
        "tags": [
          "hide-input"
        ]
      },
      "outputs": [],
      "source": [
        "from __future__ import annotations\n",
        "\n",
        "from collections import namedtuple\n",
        "from typing import Tuple\n",
        "\n",
        "import jax.numpy as jnp\n",
        "import pandas as pd\n",
        "from sax.typing_ import ComplexFloat"
      ]
    },
    {
      "cell_type": "markdown",
      "id": "7442fb3de30dd576",
      "metadata": {},
      "source": [
        ":::{eval-rst}\n",
        ".. autofunction:: sax.nn.utils.cartesian_product\n",
        ":::\n"
      ]
    },
    {
      "cell_type": "code",
      "execution_count": 4,
      "id": "fb98597ad9f13ce9",
      "metadata": {
        "execution": {
          "iopub.execute_input": "2023-06-01T21:50:25.282579Z",
          "iopub.status.busy": "2023-06-01T21:50:25.282096Z",
          "iopub.status.idle": "2023-06-01T21:50:25.285959Z",
          "shell.execute_reply": "2023-06-01T21:50:25.285626Z"
        },
        "papermill": {
          "duration": 0.008152,
          "end_time": "2023-06-01T21:50:25.287043",
          "exception": false,
          "start_time": "2023-06-01T21:50:25.278891",
          "status": "completed"
        },
        "tags": [
          "hide-input"
        ]
      },
      "outputs": [],
      "source": [
        "def cartesian_product(*arrays: ComplexFloat) -> ComplexFloat:\n",
        "    \"\"\"calculate the n-dimensional cartesian product of an arbitrary number of arrays\"\"\"\n",
        "    ixarrays = jnp.ix_(*arrays)\n",
        "    barrays = jnp.broadcast_arrays(*ixarrays)\n",
        "    sarrays = jnp.stack(barrays, -1)\n",
        "    assert isinstance(sarrays, jnp.ndarray)\n",
        "    product = sarrays.reshape(-1, sarrays.shape[-1])\n",
        "    assert isinstance(product, jnp.ndarray)\n",
        "    return product"
      ]
    },
    {
      "cell_type": "markdown",
      "id": "07dc5accba354c18",
      "metadata": {},
      "source": [
        ":::{eval-rst}\n",
        ".. autofunction:: sax.nn.utils.denormalize\n",
        ":::\n"
      ]
    },
    {
      "cell_type": "code",
      "execution_count": 5,
      "id": "b7f0fcd5e95ee20e",
      "metadata": {
        "execution": {
          "iopub.execute_input": "2023-06-01T21:50:25.291412Z",
          "iopub.status.busy": "2023-06-01T21:50:25.290947Z",
          "iopub.status.idle": "2023-06-01T21:50:25.293675Z",
          "shell.execute_reply": "2023-06-01T21:50:25.293253Z"
        },
        "papermill": {
          "duration": 0.006153,
          "end_time": "2023-06-01T21:50:25.294877",
          "exception": false,
          "start_time": "2023-06-01T21:50:25.288724",
          "status": "completed"
        },
        "tags": [
          "hide-input"
        ]
      },
      "outputs": [],
      "source": [
        "def denormalize(x: ComplexFloat, mean: ComplexFloat = 0.0, std: ComplexFloat = 1.0) -> ComplexFloat:\n",
        "    \"\"\"denormalize an array with a given mean and standard deviation\"\"\"\n",
        "    return x * std + mean"
      ]
    },
    {
      "cell_type": "code",
      "execution_count": 6,
      "id": "9847318d28813662",
      "metadata": {
        "execution": {
          "iopub.execute_input": "2023-06-01T21:50:25.298901Z",
          "iopub.status.busy": "2023-06-01T21:50:25.298723Z",
          "iopub.status.idle": "2023-06-01T21:50:25.301011Z",
          "shell.execute_reply": "2023-06-01T21:50:25.300614Z"
        },
        "papermill": {
          "duration": 0.00569,
          "end_time": "2023-06-01T21:50:25.302121",
          "exception": false,
          "start_time": "2023-06-01T21:50:25.296431",
          "status": "completed"
        },
        "tags": [
          "remove-cell"
        ]
      },
      "outputs": [],
      "source": [
        "norm = namedtuple(\"norm\", (\"mean\", \"std\"))"
      ]
    },
    {
      "cell_type": "markdown",
      "id": "3ab03b6ace21fcdc",
      "metadata": {},
      "source": [
        ":::{eval-rst}\n",
        ".. autofunction:: sax.nn.utils.get_normalization\n",
        ":::\n"
      ]
    },
    {
      "cell_type": "code",
      "execution_count": 7,
      "id": "7914ec5b4fe647a9",
      "metadata": {
        "execution": {
          "iopub.execute_input": "2023-06-01T21:50:25.306091Z",
          "iopub.status.busy": "2023-06-01T21:50:25.305918Z",
          "iopub.status.idle": "2023-06-01T21:50:25.308516Z",
          "shell.execute_reply": "2023-06-01T21:50:25.308137Z"
        },
        "papermill": {
          "duration": 0.005991,
          "end_time": "2023-06-01T21:50:25.309702",
          "exception": false,
          "start_time": "2023-06-01T21:50:25.303711",
          "status": "completed"
        },
        "tags": [
          "hide-input"
        ]
      },
      "outputs": [],
      "source": [
        "def get_normalization(x: ComplexFloat):\n",
        "    \"\"\"Get mean and standard deviation for a given array\"\"\"\n",
        "    if isinstance(x, (complex, float)):\n",
        "        return x, 0.0\n",
        "    return norm(x.mean(0), x.std(0))"
      ]
    },
    {
      "cell_type": "markdown",
      "id": "61b15beab5b8eec2",
      "metadata": {},
      "source": [
        ":::{eval-rst}\n",
        ".. autofunction:: sax.nn.utils.get_df_columns\n",
        ":::\n"
      ]
    },
    {
      "cell_type": "code",
      "execution_count": 8,
      "id": "bf240cfdaf10dd28",
      "metadata": {
        "execution": {
          "iopub.execute_input": "2023-06-01T21:50:25.313861Z",
          "iopub.status.busy": "2023-06-01T21:50:25.313564Z",
          "iopub.status.idle": "2023-06-01T21:50:25.316806Z",
          "shell.execute_reply": "2023-06-01T21:50:25.316430Z"
        },
        "papermill": {
          "duration": 0.006719,
          "end_time": "2023-06-01T21:50:25.318032",
          "exception": false,
          "start_time": "2023-06-01T21:50:25.311313",
          "status": "completed"
        },
        "tags": [
          "hide-input"
        ]
      },
      "outputs": [],
      "source": [
        "def get_df_columns(df: pd.DataFrame, *names: str) -> Tuple[ComplexFloat, ...]:\n",
        "    \"\"\"Get certain columns from a pandas DataFrame as jax.numpy arrays\"\"\"\n",
        "    tup = namedtuple(\"params\", names)\n",
        "    params_list = []\n",
        "    for name in names:\n",
        "        column_np = df[name].values\n",
        "        column_jnp = jnp.array(column_np)\n",
        "        assert isinstance(column_jnp, jnp.ndarray)\n",
        "        params_list.append(column_jnp.ravel())\n",
        "    return tup(*params_list)"
      ]
    },
    {
      "cell_type": "markdown",
      "id": "2e664739fd5d77cb",
      "metadata": {},
      "source": [
        ":::{eval-rst}\n",
        ".. autofunction:: sax.nn.utils.normalize\n",
        ":::\n"
      ]
    },
    {
      "cell_type": "code",
      "execution_count": 9,
      "id": "32181c217d557312",
      "metadata": {
        "execution": {
          "iopub.execute_input": "2023-06-01T21:50:25.322128Z",
          "iopub.status.busy": "2023-06-01T21:50:25.321860Z",
          "iopub.status.idle": "2023-06-01T21:50:25.324503Z",
          "shell.execute_reply": "2023-06-01T21:50:25.324068Z"
        },
        "papermill": {
          "duration": 0.005981,
          "end_time": "2023-06-01T21:50:25.325652",
          "exception": false,
          "start_time": "2023-06-01T21:50:25.319671",
          "status": "completed"
        },
        "tags": [
          "hide-input"
        ]
      },
      "outputs": [],
      "source": [
        "def normalize(\n",
        "    x: ComplexFloat, mean: ComplexFloat = 0.0, std: ComplexFloat = 1.0\n",
        ") -> ComplexFloat:\n",
        "    \"\"\"normalize an array with a given mean and standard deviation\"\"\"\n",
        "    return (x - mean) / std"
      ]
    }
  ],
  "metadata": {
    "kernelspec": {
      "display_name": "sax",
      "language": "python",
      "name": "sax"
    },
    "language_info": {
      "codemirror_mode": {
        "name": "ipython",
        "version": 3
      },
      "file_extension": ".py",
      "mimetype": "text/x-python",
      "name": "python",
      "nbconvert_exporter": "python",
      "pygments_lexer": "ipython3",
      "version": "3.11.3"
    },
    "papermill": {
      "default_parameters": {},
      "duration": 3.339858,
      "end_time": "2023-06-01T21:50:25.742794",
      "environment_variables": {},
      "exception": null,
      "input_path": "./nbs/09b_nn_utils.ipynb",
      "output_path": "./nbs/09b_nn_utils.ipynb",
      "parameters": {},
      "start_time": "2023-06-01T21:50:22.402936",
      "version": "2.3.4"
    }
  },
  "nbformat": 4,
  "nbformat_minor": 5
}