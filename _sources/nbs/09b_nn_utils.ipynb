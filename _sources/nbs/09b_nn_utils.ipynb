{
  "cells": [
    {
      "cell_type": "code",
      "execution_count": 1,
      "id": "89189a8c107097af",
      "metadata": {
        "execution": {
          "iopub.execute_input": "2023-09-02T18:51:26.574937Z",
          "iopub.status.busy": "2023-09-02T18:51:26.574284Z",
          "iopub.status.idle": "2023-09-02T18:51:26.577971Z",
          "shell.execute_reply": "2023-09-02T18:51:26.577325Z"
        },
        "papermill": {
          "duration": 0.008877,
          "end_time": "2023-09-02T18:51:26.579365",
          "exception": false,
          "start_time": "2023-09-02T18:51:26.570488",
          "status": "completed"
        },
        "tags": [
          "remove-cell"
        ]
      },
      "outputs": [],
      "source": []
    },
    {
      "cell_type": "markdown",
      "id": "3ac7a21d",
      "metadata": {
        "papermill": {
          "duration": 0.001884,
          "end_time": "2023-09-02T18:51:26.583178",
          "exception": false,
          "start_time": "2023-09-02T18:51:26.581294",
          "status": "completed"
        },
        "tags": []
      },
      "source": [
        "# Utils\n",
        "\n",
        "> loss functions and utilitites for SAX neural networks"
      ]
    },
    {
      "cell_type": "code",
      "execution_count": 2,
      "id": "f4eb7f0fa660b997",
      "metadata": {
        "execution": {
          "iopub.execute_input": "2023-09-02T18:51:26.587304Z",
          "iopub.status.busy": "2023-09-02T18:51:26.586922Z",
          "iopub.status.idle": "2023-09-02T18:51:27.010897Z",
          "shell.execute_reply": "2023-09-02T18:51:27.010422Z"
        },
        "papermill": {
          "duration": 0.4277,
          "end_time": "2023-09-02T18:51:27.012386",
          "exception": false,
          "start_time": "2023-09-02T18:51:26.584686",
          "status": "completed"
        },
        "tags": [
          "remove-cell"
        ]
      },
      "outputs": [],
      "source": [
        "import matplotlib.pyplot as plt\n",
        "from fastcore.test import test_eq\n",
        "from pytest import approx, raises\n",
        "\n",
        "import os, sys; sys.stderr = open(os.devnull, \"w\")"
      ]
    },
    {
      "cell_type": "code",
      "execution_count": 3,
      "id": "4f669a9b258eddb1",
      "metadata": {
        "execution": {
          "iopub.execute_input": "2023-09-02T18:51:27.017624Z",
          "iopub.status.busy": "2023-09-02T18:51:27.017151Z",
          "iopub.status.idle": "2023-09-02T18:51:28.066881Z",
          "shell.execute_reply": "2023-09-02T18:51:28.066391Z"
        },
        "papermill": {
          "duration": 1.054282,
          "end_time": "2023-09-02T18:51:28.068570",
          "exception": false,
          "start_time": "2023-09-02T18:51:27.014288",
          "status": "completed"
        },
        "tags": [
          "hide-input"
        ]
      },
      "outputs": [],
      "source": [
        "from __future__ import annotations\n",
        "\n",
        "from collections import namedtuple\n",
        "from typing import Tuple\n",
        "\n",
        "import jax.numpy as jnp\n",
        "import pandas as pd\n",
        "from sax.typing_ import ComplexFloat"
      ]
    },
    {
      "cell_type": "markdown",
      "id": "fd13959d06bdec5b",
      "metadata": {},
      "source": [
        ":::{eval-rst}\n",
        ".. autofunction:: sax.nn.utils.cartesian_product\n",
        ":::\n"
      ]
    },
    {
      "cell_type": "code",
      "execution_count": 4,
      "id": "11c6cbe56501d885",
      "metadata": {
        "execution": {
          "iopub.execute_input": "2023-09-02T18:51:28.074429Z",
          "iopub.status.busy": "2023-09-02T18:51:28.073831Z",
          "iopub.status.idle": "2023-09-02T18:51:28.077925Z",
          "shell.execute_reply": "2023-09-02T18:51:28.077472Z"
        },
        "papermill": {
          "duration": 0.008474,
          "end_time": "2023-09-02T18:51:28.079173",
          "exception": false,
          "start_time": "2023-09-02T18:51:28.070699",
          "status": "completed"
        },
        "tags": [
          "hide-input"
        ]
      },
      "outputs": [],
      "source": [
        "def cartesian_product(*arrays: ComplexFloat) -> ComplexFloat:\n",
        "    \"\"\"calculate the n-dimensional cartesian product of an arbitrary number of arrays\"\"\"\n",
        "    ixarrays = jnp.ix_(*arrays)\n",
        "    barrays = jnp.broadcast_arrays(*ixarrays)\n",
        "    sarrays = jnp.stack(barrays, -1)\n",
        "    assert isinstance(sarrays, jnp.ndarray)\n",
        "    product = sarrays.reshape(-1, sarrays.shape[-1])\n",
        "    assert isinstance(product, jnp.ndarray)\n",
        "    return product"
      ]
    },
    {
      "cell_type": "markdown",
      "id": "64dba7b891f6a016",
      "metadata": {},
      "source": [
        ":::{eval-rst}\n",
        ".. autofunction:: sax.nn.utils.denormalize\n",
        ":::\n"
      ]
    },
    {
      "cell_type": "code",
      "execution_count": 5,
      "id": "98ed0ef30a0d6b69",
      "metadata": {
        "execution": {
          "iopub.execute_input": "2023-09-02T18:51:28.083312Z",
          "iopub.status.busy": "2023-09-02T18:51:28.083021Z",
          "iopub.status.idle": "2023-09-02T18:51:28.085797Z",
          "shell.execute_reply": "2023-09-02T18:51:28.085387Z"
        },
        "papermill": {
          "duration": 0.006243,
          "end_time": "2023-09-02T18:51:28.087007",
          "exception": false,
          "start_time": "2023-09-02T18:51:28.080764",
          "status": "completed"
        },
        "tags": [
          "hide-input"
        ]
      },
      "outputs": [],
      "source": [
        "def denormalize(x: ComplexFloat, mean: ComplexFloat = 0.0, std: ComplexFloat = 1.0) -> ComplexFloat:\n",
        "    \"\"\"denormalize an array with a given mean and standard deviation\"\"\"\n",
        "    return x * std + mean"
      ]
    },
    {
      "cell_type": "code",
      "execution_count": 6,
      "id": "74ae61f900b4e128",
      "metadata": {
        "execution": {
          "iopub.execute_input": "2023-09-02T18:51:28.091304Z",
          "iopub.status.busy": "2023-09-02T18:51:28.090879Z",
          "iopub.status.idle": "2023-09-02T18:51:28.093391Z",
          "shell.execute_reply": "2023-09-02T18:51:28.092987Z"
        },
        "papermill": {
          "duration": 0.006054,
          "end_time": "2023-09-02T18:51:28.094646",
          "exception": false,
          "start_time": "2023-09-02T18:51:28.088592",
          "status": "completed"
        },
        "tags": [
          "remove-cell"
        ]
      },
      "outputs": [],
      "source": [
        "norm = namedtuple(\"norm\", (\"mean\", \"std\"))"
      ]
    },
    {
      "cell_type": "markdown",
      "id": "3a69d4db82b807e1",
      "metadata": {},
      "source": [
        ":::{eval-rst}\n",
        ".. autofunction:: sax.nn.utils.get_normalization\n",
        ":::\n"
      ]
    },
    {
      "cell_type": "code",
      "execution_count": 7,
      "id": "8d86904b8b04e67a",
      "metadata": {
        "execution": {
          "iopub.execute_input": "2023-09-02T18:51:28.098808Z",
          "iopub.status.busy": "2023-09-02T18:51:28.098532Z",
          "iopub.status.idle": "2023-09-02T18:51:28.101439Z",
          "shell.execute_reply": "2023-09-02T18:51:28.101040Z"
        },
        "papermill": {
          "duration": 0.006467,
          "end_time": "2023-09-02T18:51:28.102790",
          "exception": false,
          "start_time": "2023-09-02T18:51:28.096323",
          "status": "completed"
        },
        "tags": [
          "hide-input"
        ]
      },
      "outputs": [],
      "source": [
        "def get_normalization(x: ComplexFloat):\n",
        "    \"\"\"Get mean and standard deviation for a given array\"\"\"\n",
        "    if isinstance(x, (complex, float)):\n",
        "        return x, 0.0\n",
        "    return norm(x.mean(0), x.std(0))"
      ]
    },
    {
      "cell_type": "markdown",
      "id": "6ef7323ca6c9c9c1",
      "metadata": {},
      "source": [
        ":::{eval-rst}\n",
        ".. autofunction:: sax.nn.utils.get_df_columns\n",
        ":::\n"
      ]
    },
    {
      "cell_type": "code",
      "execution_count": 8,
      "id": "ca7a57b456b8e730",
      "metadata": {
        "execution": {
          "iopub.execute_input": "2023-09-02T18:51:28.106955Z",
          "iopub.status.busy": "2023-09-02T18:51:28.106672Z",
          "iopub.status.idle": "2023-09-02T18:51:28.110173Z",
          "shell.execute_reply": "2023-09-02T18:51:28.109755Z"
        },
        "papermill": {
          "duration": 0.006869,
          "end_time": "2023-09-02T18:51:28.111287",
          "exception": false,
          "start_time": "2023-09-02T18:51:28.104418",
          "status": "completed"
        },
        "tags": [
          "hide-input"
        ]
      },
      "outputs": [],
      "source": [
        "def get_df_columns(df: pd.DataFrame, *names: str) -> Tuple[ComplexFloat, ...]:\n",
        "    \"\"\"Get certain columns from a pandas DataFrame as jax.numpy arrays\"\"\"\n",
        "    tup = namedtuple(\"params\", names)\n",
        "    params_list = []\n",
        "    for name in names:\n",
        "        column_np = df[name].values\n",
        "        column_jnp = jnp.array(column_np)\n",
        "        assert isinstance(column_jnp, jnp.ndarray)\n",
        "        params_list.append(column_jnp.ravel())\n",
        "    return tup(*params_list)"
      ]
    },
    {
      "cell_type": "markdown",
      "id": "45192650242dbbac",
      "metadata": {},
      "source": [
        ":::{eval-rst}\n",
        ".. autofunction:: sax.nn.utils.normalize\n",
        ":::\n"
      ]
    },
    {
      "cell_type": "code",
      "execution_count": 9,
      "id": "8198049f509d3b9f",
      "metadata": {
        "execution": {
          "iopub.execute_input": "2023-09-02T18:51:28.115508Z",
          "iopub.status.busy": "2023-09-02T18:51:28.115231Z",
          "iopub.status.idle": "2023-09-02T18:51:28.117666Z",
          "shell.execute_reply": "2023-09-02T18:51:28.117280Z"
        },
        "papermill": {
          "duration": 0.00603,
          "end_time": "2023-09-02T18:51:28.118996",
          "exception": false,
          "start_time": "2023-09-02T18:51:28.112966",
          "status": "completed"
        },
        "tags": [
          "hide-input"
        ]
      },
      "outputs": [],
      "source": [
        "def normalize(\n",
        "    x: ComplexFloat, mean: ComplexFloat = 0.0, std: ComplexFloat = 1.0\n",
        ") -> ComplexFloat:\n",
        "    \"\"\"normalize an array with a given mean and standard deviation\"\"\"\n",
        "    return (x - mean) / std"
      ]
    }
  ],
  "metadata": {
    "kernelspec": {
      "display_name": "sax",
      "language": "python",
      "name": "sax"
    },
    "language_info": {
      "codemirror_mode": {
        "name": "ipython",
        "version": 3
      },
      "file_extension": ".py",
      "mimetype": "text/x-python",
      "name": "python",
      "nbconvert_exporter": "python",
      "pygments_lexer": "ipython3",
      "version": "3.11.5"
    },
    "papermill": {
      "default_parameters": {},
      "duration": 3.394935,
      "end_time": "2023-09-02T18:51:28.638642",
      "environment_variables": {},
      "exception": null,
      "input_path": "./nbs/09b_nn_utils.ipynb",
      "output_path": "./nbs/09b_nn_utils.ipynb",
      "parameters": {},
      "start_time": "2023-09-02T18:51:25.243707",
      "version": "2.4.0"
    }
  },
  "nbformat": 4,
  "nbformat_minor": 5
}