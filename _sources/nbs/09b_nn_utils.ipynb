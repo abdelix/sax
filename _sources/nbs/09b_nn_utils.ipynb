{
  "cells": [
    {
      "cell_type": "code",
      "execution_count": 1,
      "id": "3903f5136148926b",
      "metadata": {
        "execution": {
          "iopub.execute_input": "2023-07-01T03:32:07.117182Z",
          "iopub.status.busy": "2023-07-01T03:32:07.116928Z",
          "iopub.status.idle": "2023-07-01T03:32:07.122866Z",
          "shell.execute_reply": "2023-07-01T03:32:07.122340Z"
        },
        "papermill": {
          "duration": 0.010413,
          "end_time": "2023-07-01T03:32:07.124211",
          "exception": false,
          "start_time": "2023-07-01T03:32:07.113798",
          "status": "completed"
        },
        "tags": [
          "remove-cell"
        ]
      },
      "outputs": [],
      "source": []
    },
    {
      "cell_type": "markdown",
      "id": "3ac7a21d",
      "metadata": {
        "papermill": {
          "duration": 0.001639,
          "end_time": "2023-07-01T03:32:07.127889",
          "exception": false,
          "start_time": "2023-07-01T03:32:07.126250",
          "status": "completed"
        },
        "tags": []
      },
      "source": [
        "# Utils\n",
        "\n",
        "> loss functions and utilitites for SAX neural networks"
      ]
    },
    {
      "cell_type": "code",
      "execution_count": 2,
      "id": "8c726d59ffde5114",
      "metadata": {
        "execution": {
          "iopub.execute_input": "2023-07-01T03:32:07.134125Z",
          "iopub.status.busy": "2023-07-01T03:32:07.133937Z",
          "iopub.status.idle": "2023-07-01T03:32:07.866304Z",
          "shell.execute_reply": "2023-07-01T03:32:07.865854Z"
        },
        "papermill": {
          "duration": 0.738028,
          "end_time": "2023-07-01T03:32:07.868066",
          "exception": false,
          "start_time": "2023-07-01T03:32:07.130038",
          "status": "completed"
        },
        "tags": [
          "remove-cell"
        ]
      },
      "outputs": [],
      "source": [
        "import matplotlib.pyplot as plt\n",
        "from fastcore.test import test_eq\n",
        "from pytest import approx, raises\n",
        "\n",
        "import os, sys; sys.stderr = open(os.devnull, \"w\")"
      ]
    },
    {
      "cell_type": "code",
      "execution_count": 3,
      "id": "04f176ea7c88b40d",
      "metadata": {
        "execution": {
          "iopub.execute_input": "2023-07-01T03:32:07.873879Z",
          "iopub.status.busy": "2023-07-01T03:32:07.872875Z",
          "iopub.status.idle": "2023-07-01T03:32:09.265591Z",
          "shell.execute_reply": "2023-07-01T03:32:09.265147Z"
        },
        "papermill": {
          "duration": 1.39718,
          "end_time": "2023-07-01T03:32:09.267124",
          "exception": false,
          "start_time": "2023-07-01T03:32:07.869944",
          "status": "completed"
        },
        "tags": [
          "hide-input"
        ]
      },
      "outputs": [],
      "source": [
        "from __future__ import annotations\n",
        "\n",
        "from collections import namedtuple\n",
        "from typing import Tuple\n",
        "\n",
        "import jax.numpy as jnp\n",
        "import pandas as pd\n",
        "from sax.typing_ import ComplexFloat"
      ]
    },
    {
      "cell_type": "markdown",
      "id": "5f685fda5f813a2c",
      "metadata": {},
      "source": [
        ":::{eval-rst}\n",
        ".. autofunction:: sax.nn.utils.cartesian_product\n",
        ":::\n"
      ]
    },
    {
      "cell_type": "code",
      "execution_count": 4,
      "id": "e69355416b2554fc",
      "metadata": {
        "execution": {
          "iopub.execute_input": "2023-07-01T03:32:09.272813Z",
          "iopub.status.busy": "2023-07-01T03:32:09.271671Z",
          "iopub.status.idle": "2023-07-01T03:32:09.276094Z",
          "shell.execute_reply": "2023-07-01T03:32:09.275733Z"
        },
        "papermill": {
          "duration": 0.008251,
          "end_time": "2023-07-01T03:32:09.277236",
          "exception": false,
          "start_time": "2023-07-01T03:32:09.268985",
          "status": "completed"
        },
        "tags": [
          "hide-input"
        ]
      },
      "outputs": [],
      "source": [
        "def cartesian_product(*arrays: ComplexFloat) -> ComplexFloat:\n",
        "    \"\"\"calculate the n-dimensional cartesian product of an arbitrary number of arrays\"\"\"\n",
        "    ixarrays = jnp.ix_(*arrays)\n",
        "    barrays = jnp.broadcast_arrays(*ixarrays)\n",
        "    sarrays = jnp.stack(barrays, -1)\n",
        "    assert isinstance(sarrays, jnp.ndarray)\n",
        "    product = sarrays.reshape(-1, sarrays.shape[-1])\n",
        "    assert isinstance(product, jnp.ndarray)\n",
        "    return product"
      ]
    },
    {
      "cell_type": "markdown",
      "id": "bdf40eb6145104b9",
      "metadata": {},
      "source": [
        ":::{eval-rst}\n",
        ".. autofunction:: sax.nn.utils.denormalize\n",
        ":::\n"
      ]
    },
    {
      "cell_type": "code",
      "execution_count": 5,
      "id": "219fbfdebc6837ae",
      "metadata": {
        "execution": {
          "iopub.execute_input": "2023-07-01T03:32:09.281437Z",
          "iopub.status.busy": "2023-07-01T03:32:09.281134Z",
          "iopub.status.idle": "2023-07-01T03:32:09.283676Z",
          "shell.execute_reply": "2023-07-01T03:32:09.283318Z"
        },
        "papermill": {
          "duration": 0.005967,
          "end_time": "2023-07-01T03:32:09.284798",
          "exception": false,
          "start_time": "2023-07-01T03:32:09.278831",
          "status": "completed"
        },
        "tags": [
          "hide-input"
        ]
      },
      "outputs": [],
      "source": [
        "def denormalize(x: ComplexFloat, mean: ComplexFloat = 0.0, std: ComplexFloat = 1.0) -> ComplexFloat:\n",
        "    \"\"\"denormalize an array with a given mean and standard deviation\"\"\"\n",
        "    return x * std + mean"
      ]
    },
    {
      "cell_type": "code",
      "execution_count": 6,
      "id": "75e96b0b2b18cc40",
      "metadata": {
        "execution": {
          "iopub.execute_input": "2023-07-01T03:32:09.288769Z",
          "iopub.status.busy": "2023-07-01T03:32:09.288589Z",
          "iopub.status.idle": "2023-07-01T03:32:09.290861Z",
          "shell.execute_reply": "2023-07-01T03:32:09.290507Z"
        },
        "papermill": {
          "duration": 0.006698,
          "end_time": "2023-07-01T03:32:09.293068",
          "exception": false,
          "start_time": "2023-07-01T03:32:09.286370",
          "status": "completed"
        },
        "tags": [
          "remove-cell"
        ]
      },
      "outputs": [],
      "source": [
        "norm = namedtuple(\"norm\", (\"mean\", \"std\"))"
      ]
    },
    {
      "cell_type": "markdown",
      "id": "a527ca2ecbce4ef2",
      "metadata": {},
      "source": [
        ":::{eval-rst}\n",
        ".. autofunction:: sax.nn.utils.get_normalization\n",
        ":::\n"
      ]
    },
    {
      "cell_type": "code",
      "execution_count": 7,
      "id": "acfb11e1c78b36fb",
      "metadata": {
        "execution": {
          "iopub.execute_input": "2023-07-01T03:32:09.300367Z",
          "iopub.status.busy": "2023-07-01T03:32:09.300173Z",
          "iopub.status.idle": "2023-07-01T03:32:09.303402Z",
          "shell.execute_reply": "2023-07-01T03:32:09.302723Z"
        },
        "papermill": {
          "duration": 0.009104,
          "end_time": "2023-07-01T03:32:09.306935",
          "exception": false,
          "start_time": "2023-07-01T03:32:09.297831",
          "status": "completed"
        },
        "tags": [
          "hide-input"
        ]
      },
      "outputs": [],
      "source": [
        "def get_normalization(x: ComplexFloat):\n",
        "    \"\"\"Get mean and standard deviation for a given array\"\"\"\n",
        "    if isinstance(x, (complex, float)):\n",
        "        return x, 0.0\n",
        "    return norm(x.mean(0), x.std(0))"
      ]
    },
    {
      "cell_type": "markdown",
      "id": "094b187c255480e5",
      "metadata": {},
      "source": [
        ":::{eval-rst}\n",
        ".. autofunction:: sax.nn.utils.get_df_columns\n",
        ":::\n"
      ]
    },
    {
      "cell_type": "code",
      "execution_count": 8,
      "id": "e616ac10ed1bcc10",
      "metadata": {
        "execution": {
          "iopub.execute_input": "2023-07-01T03:32:09.311143Z",
          "iopub.status.busy": "2023-07-01T03:32:09.310956Z",
          "iopub.status.idle": "2023-07-01T03:32:09.314197Z",
          "shell.execute_reply": "2023-07-01T03:32:09.313846Z"
        },
        "papermill": {
          "duration": 0.012645,
          "end_time": "2023-07-01T03:32:09.321291",
          "exception": false,
          "start_time": "2023-07-01T03:32:09.308646",
          "status": "completed"
        },
        "tags": [
          "hide-input"
        ]
      },
      "outputs": [],
      "source": [
        "def get_df_columns(df: pd.DataFrame, *names: str) -> Tuple[ComplexFloat, ...]:\n",
        "    \"\"\"Get certain columns from a pandas DataFrame as jax.numpy arrays\"\"\"\n",
        "    tup = namedtuple(\"params\", names)\n",
        "    params_list = []\n",
        "    for name in names:\n",
        "        column_np = df[name].values\n",
        "        column_jnp = jnp.array(column_np)\n",
        "        assert isinstance(column_jnp, jnp.ndarray)\n",
        "        params_list.append(column_jnp.ravel())\n",
        "    return tup(*params_list)"
      ]
    },
    {
      "cell_type": "markdown",
      "id": "03e25d40855a3439",
      "metadata": {},
      "source": [
        ":::{eval-rst}\n",
        ".. autofunction:: sax.nn.utils.normalize\n",
        ":::\n"
      ]
    },
    {
      "cell_type": "code",
      "execution_count": 9,
      "id": "3cd60f3e4541e304",
      "metadata": {
        "execution": {
          "iopub.execute_input": "2023-07-01T03:32:09.325524Z",
          "iopub.status.busy": "2023-07-01T03:32:09.325338Z",
          "iopub.status.idle": "2023-07-01T03:32:09.327963Z",
          "shell.execute_reply": "2023-07-01T03:32:09.327600Z"
        },
        "papermill": {
          "duration": 0.011855,
          "end_time": "2023-07-01T03:32:09.334858",
          "exception": false,
          "start_time": "2023-07-01T03:32:09.323003",
          "status": "completed"
        },
        "tags": [
          "hide-input"
        ]
      },
      "outputs": [],
      "source": [
        "def normalize(\n",
        "    x: ComplexFloat, mean: ComplexFloat = 0.0, std: ComplexFloat = 1.0\n",
        ") -> ComplexFloat:\n",
        "    \"\"\"normalize an array with a given mean and standard deviation\"\"\"\n",
        "    return (x - mean) / std"
      ]
    }
  ],
  "metadata": {
    "kernelspec": {
      "display_name": "sax",
      "language": "python",
      "name": "sax"
    },
    "language_info": {
      "codemirror_mode": {
        "name": "ipython",
        "version": 3
      },
      "file_extension": ".py",
      "mimetype": "text/x-python",
      "name": "python",
      "nbconvert_exporter": "python",
      "pygments_lexer": "ipython3",
      "version": "3.11.4"
    },
    "papermill": {
      "default_parameters": {},
      "duration": 4.269499,
      "end_time": "2023-07-01T03:32:09.968822",
      "environment_variables": {},
      "exception": null,
      "input_path": "./nbs/09b_nn_utils.ipynb",
      "output_path": "./nbs/09b_nn_utils.ipynb",
      "parameters": {},
      "start_time": "2023-07-01T03:32:05.699323",
      "version": "2.3.4"
    }
  },
  "nbformat": 4,
  "nbformat_minor": 5
}