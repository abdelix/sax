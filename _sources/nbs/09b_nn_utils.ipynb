{
  "cells": [
    {
      "cell_type": "code",
      "execution_count": 1,
      "id": "8a1f4a3d5bed360d",
      "metadata": {
        "execution": {
          "iopub.execute_input": "2023-06-01T21:33:07.471680Z",
          "iopub.status.busy": "2023-06-01T21:33:07.471413Z",
          "iopub.status.idle": "2023-06-01T21:33:07.474760Z",
          "shell.execute_reply": "2023-06-01T21:33:07.474222Z"
        },
        "papermill": {
          "duration": 0.009551,
          "end_time": "2023-06-01T21:33:07.477555",
          "exception": false,
          "start_time": "2023-06-01T21:33:07.468004",
          "status": "completed"
        },
        "tags": [
          "remove-cell"
        ]
      },
      "outputs": [],
      "source": []
    },
    {
      "cell_type": "markdown",
      "id": "3ac7a21d",
      "metadata": {
        "papermill": {
          "duration": 0.002727,
          "end_time": "2023-06-01T21:33:07.482145",
          "exception": false,
          "start_time": "2023-06-01T21:33:07.479418",
          "status": "completed"
        },
        "tags": []
      },
      "source": [
        "# Utils\n",
        "\n",
        "> loss functions and utilitites for SAX neural networks"
      ]
    },
    {
      "cell_type": "code",
      "execution_count": 2,
      "id": "f5768e1da30a99e0",
      "metadata": {
        "execution": {
          "iopub.execute_input": "2023-06-01T21:33:07.486083Z",
          "iopub.status.busy": "2023-06-01T21:33:07.485883Z",
          "iopub.status.idle": "2023-06-01T21:33:07.953615Z",
          "shell.execute_reply": "2023-06-01T21:33:07.953183Z"
        },
        "papermill": {
          "duration": 0.471683,
          "end_time": "2023-06-01T21:33:07.955323",
          "exception": false,
          "start_time": "2023-06-01T21:33:07.483640",
          "status": "completed"
        },
        "tags": [
          "remove-cell"
        ]
      },
      "outputs": [],
      "source": [
        "import matplotlib.pyplot as plt\n",
        "from fastcore.test import test_eq\n",
        "from pytest import approx, raises\n",
        "\n",
        "import os, sys; sys.stderr = open(os.devnull, \"w\")"
      ]
    },
    {
      "cell_type": "code",
      "execution_count": 3,
      "id": "6120a8087e79e95e",
      "metadata": {
        "execution": {
          "iopub.execute_input": "2023-06-01T21:33:07.961026Z",
          "iopub.status.busy": "2023-06-01T21:33:07.959990Z",
          "iopub.status.idle": "2023-06-01T21:33:08.929464Z",
          "shell.execute_reply": "2023-06-01T21:33:08.928933Z"
        },
        "papermill": {
          "duration": 0.973908,
          "end_time": "2023-06-01T21:33:08.931022",
          "exception": false,
          "start_time": "2023-06-01T21:33:07.957114",
          "status": "completed"
        },
        "tags": [
          "hide-input"
        ]
      },
      "outputs": [],
      "source": [
        "from __future__ import annotations\n",
        "\n",
        "from collections import namedtuple\n",
        "from typing import Tuple\n",
        "\n",
        "import jax.numpy as jnp\n",
        "import pandas as pd\n",
        "from sax.typing_ import ComplexFloat"
      ]
    },
    {
      "cell_type": "markdown",
      "id": "14d3f5c7b0ee6b96",
      "metadata": {},
      "source": [
        ":::{eval-rst}\n",
        ".. autofunction:: sax.nn.utils.cartesian_product\n",
        ":::\n"
      ]
    },
    {
      "cell_type": "code",
      "execution_count": 4,
      "id": "36471b70954127b0",
      "metadata": {
        "execution": {
          "iopub.execute_input": "2023-06-01T21:33:08.936630Z",
          "iopub.status.busy": "2023-06-01T21:33:08.935378Z",
          "iopub.status.idle": "2023-06-01T21:33:08.940380Z",
          "shell.execute_reply": "2023-06-01T21:33:08.940056Z"
        },
        "papermill": {
          "duration": 0.008684,
          "end_time": "2023-06-01T21:33:08.941656",
          "exception": false,
          "start_time": "2023-06-01T21:33:08.932972",
          "status": "completed"
        },
        "tags": [
          "hide-input"
        ]
      },
      "outputs": [],
      "source": [
        "def cartesian_product(*arrays: ComplexFloat) -> ComplexFloat:\n",
        "    \"\"\"calculate the n-dimensional cartesian product of an arbitrary number of arrays\"\"\"\n",
        "    ixarrays = jnp.ix_(*arrays)\n",
        "    barrays = jnp.broadcast_arrays(*ixarrays)\n",
        "    sarrays = jnp.stack(barrays, -1)\n",
        "    assert isinstance(sarrays, jnp.ndarray)\n",
        "    product = sarrays.reshape(-1, sarrays.shape[-1])\n",
        "    assert isinstance(product, jnp.ndarray)\n",
        "    return product"
      ]
    },
    {
      "cell_type": "markdown",
      "id": "83b1487896382346",
      "metadata": {},
      "source": [
        ":::{eval-rst}\n",
        ".. autofunction:: sax.nn.utils.denormalize\n",
        ":::\n"
      ]
    },
    {
      "cell_type": "code",
      "execution_count": 5,
      "id": "df5f4d20e7aa10b1",
      "metadata": {
        "execution": {
          "iopub.execute_input": "2023-06-01T21:33:08.945927Z",
          "iopub.status.busy": "2023-06-01T21:33:08.945580Z",
          "iopub.status.idle": "2023-06-01T21:33:08.948621Z",
          "shell.execute_reply": "2023-06-01T21:33:08.948275Z"
        },
        "papermill": {
          "duration": 0.006603,
          "end_time": "2023-06-01T21:33:08.949862",
          "exception": false,
          "start_time": "2023-06-01T21:33:08.943259",
          "status": "completed"
        },
        "tags": [
          "hide-input"
        ]
      },
      "outputs": [],
      "source": [
        "def denormalize(x: ComplexFloat, mean: ComplexFloat = 0.0, std: ComplexFloat = 1.0) -> ComplexFloat:\n",
        "    \"\"\"denormalize an array with a given mean and standard deviation\"\"\"\n",
        "    return x * std + mean"
      ]
    },
    {
      "cell_type": "code",
      "execution_count": 6,
      "id": "d1d1d44e612d49f1",
      "metadata": {
        "execution": {
          "iopub.execute_input": "2023-06-01T21:33:08.953639Z",
          "iopub.status.busy": "2023-06-01T21:33:08.953461Z",
          "iopub.status.idle": "2023-06-01T21:33:08.955791Z",
          "shell.execute_reply": "2023-06-01T21:33:08.955446Z"
        },
        "papermill": {
          "duration": 0.006062,
          "end_time": "2023-06-01T21:33:08.957435",
          "exception": false,
          "start_time": "2023-06-01T21:33:08.951373",
          "status": "completed"
        },
        "tags": [
          "remove-cell"
        ]
      },
      "outputs": [],
      "source": [
        "norm = namedtuple(\"norm\", (\"mean\", \"std\"))"
      ]
    },
    {
      "cell_type": "markdown",
      "id": "3a6817d7e37302ba",
      "metadata": {},
      "source": [
        ":::{eval-rst}\n",
        ".. autofunction:: sax.nn.utils.get_normalization\n",
        ":::\n"
      ]
    },
    {
      "cell_type": "code",
      "execution_count": 7,
      "id": "d3b412b22f8de5b0",
      "metadata": {
        "execution": {
          "iopub.execute_input": "2023-06-01T21:33:08.961280Z",
          "iopub.status.busy": "2023-06-01T21:33:08.961106Z",
          "iopub.status.idle": "2023-06-01T21:33:08.963734Z",
          "shell.execute_reply": "2023-06-01T21:33:08.963381Z"
        },
        "papermill": {
          "duration": 0.006387,
          "end_time": "2023-06-01T21:33:08.965356",
          "exception": false,
          "start_time": "2023-06-01T21:33:08.958969",
          "status": "completed"
        },
        "tags": [
          "hide-input"
        ]
      },
      "outputs": [],
      "source": [
        "def get_normalization(x: ComplexFloat):\n",
        "    \"\"\"Get mean and standard deviation for a given array\"\"\"\n",
        "    if isinstance(x, (complex, float)):\n",
        "        return x, 0.0\n",
        "    return norm(x.mean(0), x.std(0))"
      ]
    },
    {
      "cell_type": "markdown",
      "id": "f53765a8c6fb416c",
      "metadata": {},
      "source": [
        ":::{eval-rst}\n",
        ".. autofunction:: sax.nn.utils.get_df_columns\n",
        ":::\n"
      ]
    },
    {
      "cell_type": "code",
      "execution_count": 8,
      "id": "364d21f4545c8069",
      "metadata": {
        "execution": {
          "iopub.execute_input": "2023-06-01T21:33:08.969281Z",
          "iopub.status.busy": "2023-06-01T21:33:08.969106Z",
          "iopub.status.idle": "2023-06-01T21:33:08.972236Z",
          "shell.execute_reply": "2023-06-01T21:33:08.971894Z"
        },
        "papermill": {
          "duration": 0.006926,
          "end_time": "2023-06-01T21:33:08.973842",
          "exception": false,
          "start_time": "2023-06-01T21:33:08.966916",
          "status": "completed"
        },
        "tags": [
          "hide-input"
        ]
      },
      "outputs": [],
      "source": [
        "def get_df_columns(df: pd.DataFrame, *names: str) -> Tuple[ComplexFloat, ...]:\n",
        "    \"\"\"Get certain columns from a pandas DataFrame as jax.numpy arrays\"\"\"\n",
        "    tup = namedtuple(\"params\", names)\n",
        "    params_list = []\n",
        "    for name in names:\n",
        "        column_np = df[name].values\n",
        "        column_jnp = jnp.array(column_np)\n",
        "        assert isinstance(column_jnp, jnp.ndarray)\n",
        "        params_list.append(column_jnp.ravel())\n",
        "    return tup(*params_list)"
      ]
    },
    {
      "cell_type": "markdown",
      "id": "2cb13c00cba142b9",
      "metadata": {},
      "source": [
        ":::{eval-rst}\n",
        ".. autofunction:: sax.nn.utils.normalize\n",
        ":::\n"
      ]
    },
    {
      "cell_type": "code",
      "execution_count": 9,
      "id": "7a64540d0655af8a",
      "metadata": {
        "execution": {
          "iopub.execute_input": "2023-06-01T21:33:08.977715Z",
          "iopub.status.busy": "2023-06-01T21:33:08.977544Z",
          "iopub.status.idle": "2023-06-01T21:33:08.980041Z",
          "shell.execute_reply": "2023-06-01T21:33:08.979695Z"
        },
        "papermill": {
          "duration": 0.006206,
          "end_time": "2023-06-01T21:33:08.981631",
          "exception": false,
          "start_time": "2023-06-01T21:33:08.975425",
          "status": "completed"
        },
        "tags": [
          "hide-input"
        ]
      },
      "outputs": [],
      "source": [
        "def normalize(\n",
        "    x: ComplexFloat, mean: ComplexFloat = 0.0, std: ComplexFloat = 1.0\n",
        ") -> ComplexFloat:\n",
        "    \"\"\"normalize an array with a given mean and standard deviation\"\"\"\n",
        "    return (x - mean) / std"
      ]
    }
  ],
  "metadata": {
    "kernelspec": {
      "display_name": "sax",
      "language": "python",
      "name": "sax"
    },
    "language_info": {
      "codemirror_mode": {
        "name": "ipython",
        "version": 3
      },
      "file_extension": ".py",
      "mimetype": "text/x-python",
      "name": "python",
      "nbconvert_exporter": "python",
      "pygments_lexer": "ipython3",
      "version": "3.11.3"
    },
    "papermill": {
      "default_parameters": {},
      "duration": 3.367887,
      "end_time": "2023-06-01T21:33:09.507814",
      "environment_variables": {},
      "exception": null,
      "input_path": "./nbs/09b_nn_utils.ipynb",
      "output_path": "./nbs/09b_nn_utils.ipynb",
      "parameters": {},
      "start_time": "2023-06-01T21:33:06.139927",
      "version": "2.3.4"
    }
  },
  "nbformat": 4,
  "nbformat_minor": 5
}