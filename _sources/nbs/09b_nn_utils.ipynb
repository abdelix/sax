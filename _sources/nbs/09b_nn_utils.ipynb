{
  "cells": [
    {
      "cell_type": "code",
      "execution_count": 1,
      "id": "f5d367db974d8b19",
      "metadata": {
        "execution": {
          "iopub.execute_input": "2023-06-01T21:10:43.748068Z",
          "iopub.status.busy": "2023-06-01T21:10:43.747793Z",
          "iopub.status.idle": "2023-06-01T21:10:43.751873Z",
          "shell.execute_reply": "2023-06-01T21:10:43.751383Z"
        },
        "papermill": {
          "duration": 0.008823,
          "end_time": "2023-06-01T21:10:43.753247",
          "exception": false,
          "start_time": "2023-06-01T21:10:43.744424",
          "status": "completed"
        },
        "tags": [
          "remove-cell"
        ]
      },
      "outputs": [],
      "source": []
    },
    {
      "cell_type": "markdown",
      "id": "3ac7a21d",
      "metadata": {
        "papermill": {
          "duration": 0.002665,
          "end_time": "2023-06-01T21:10:43.757729",
          "exception": false,
          "start_time": "2023-06-01T21:10:43.755064",
          "status": "completed"
        },
        "tags": []
      },
      "source": [
        "# Utils\n",
        "\n",
        "> loss functions and utilitites for SAX neural networks"
      ]
    },
    {
      "cell_type": "code",
      "execution_count": 2,
      "id": "52b7b01208d45cfa",
      "metadata": {
        "execution": {
          "iopub.execute_input": "2023-06-01T21:10:43.761579Z",
          "iopub.status.busy": "2023-06-01T21:10:43.761385Z",
          "iopub.status.idle": "2023-06-01T21:10:44.243347Z",
          "shell.execute_reply": "2023-06-01T21:10:44.242911Z"
        },
        "papermill": {
          "duration": 0.485856,
          "end_time": "2023-06-01T21:10:44.245051",
          "exception": false,
          "start_time": "2023-06-01T21:10:43.759195",
          "status": "completed"
        },
        "tags": [
          "remove-cell"
        ]
      },
      "outputs": [],
      "source": [
        "import matplotlib.pyplot as plt\n",
        "from fastcore.test import test_eq\n",
        "from pytest import approx, raises\n",
        "\n",
        "import os, sys; sys.stderr = open(os.devnull, \"w\")"
      ]
    },
    {
      "cell_type": "code",
      "execution_count": 3,
      "id": "51cade818759f71a",
      "metadata": {
        "execution": {
          "iopub.execute_input": "2023-06-01T21:10:44.250666Z",
          "iopub.status.busy": "2023-06-01T21:10:44.249659Z",
          "iopub.status.idle": "2023-06-01T21:10:45.238842Z",
          "shell.execute_reply": "2023-06-01T21:10:45.238347Z"
        },
        "papermill": {
          "duration": 0.993592,
          "end_time": "2023-06-01T21:10:45.240480",
          "exception": false,
          "start_time": "2023-06-01T21:10:44.246888",
          "status": "completed"
        },
        "tags": [
          "hide-input"
        ]
      },
      "outputs": [],
      "source": [
        "from __future__ import annotations\n",
        "\n",
        "from collections import namedtuple\n",
        "from typing import Tuple\n",
        "\n",
        "import jax.numpy as jnp\n",
        "import pandas as pd\n",
        "from sax.typing_ import ComplexFloat"
      ]
    },
    {
      "cell_type": "markdown",
      "id": "e9345c7b32a5c8df",
      "metadata": {},
      "source": [
        ":::{eval-rst}\n",
        ".. autofunction:: sax.nn.utils.cartesian_product\n",
        ":::\n"
      ]
    },
    {
      "cell_type": "code",
      "execution_count": 4,
      "id": "f2dc59e2b9df7795",
      "metadata": {
        "execution": {
          "iopub.execute_input": "2023-06-01T21:10:45.245596Z",
          "iopub.status.busy": "2023-06-01T21:10:45.244796Z",
          "iopub.status.idle": "2023-06-01T21:10:45.249900Z",
          "shell.execute_reply": "2023-06-01T21:10:45.248576Z"
        },
        "papermill": {
          "duration": 0.008896,
          "end_time": "2023-06-01T21:10:45.251235",
          "exception": false,
          "start_time": "2023-06-01T21:10:45.242339",
          "status": "completed"
        },
        "tags": [
          "hide-input"
        ]
      },
      "outputs": [],
      "source": [
        "def cartesian_product(*arrays: ComplexFloat) -> ComplexFloat:\n",
        "    \"\"\"calculate the n-dimensional cartesian product of an arbitrary number of arrays\"\"\"\n",
        "    ixarrays = jnp.ix_(*arrays)\n",
        "    barrays = jnp.broadcast_arrays(*ixarrays)\n",
        "    sarrays = jnp.stack(barrays, -1)\n",
        "    assert isinstance(sarrays, jnp.ndarray)\n",
        "    product = sarrays.reshape(-1, sarrays.shape[-1])\n",
        "    assert isinstance(product, jnp.ndarray)\n",
        "    return product"
      ]
    },
    {
      "cell_type": "markdown",
      "id": "5b752a85b2f4efae",
      "metadata": {},
      "source": [
        ":::{eval-rst}\n",
        ".. autofunction:: sax.nn.utils.denormalize\n",
        ":::\n"
      ]
    },
    {
      "cell_type": "code",
      "execution_count": 5,
      "id": "a0f2dffca341c179",
      "metadata": {
        "execution": {
          "iopub.execute_input": "2023-06-01T21:10:45.255578Z",
          "iopub.status.busy": "2023-06-01T21:10:45.255184Z",
          "iopub.status.idle": "2023-06-01T21:10:45.258130Z",
          "shell.execute_reply": "2023-06-01T21:10:45.257721Z"
        },
        "papermill": {
          "duration": 0.006526,
          "end_time": "2023-06-01T21:10:45.259402",
          "exception": false,
          "start_time": "2023-06-01T21:10:45.252876",
          "status": "completed"
        },
        "tags": [
          "hide-input"
        ]
      },
      "outputs": [],
      "source": [
        "def denormalize(x: ComplexFloat, mean: ComplexFloat = 0.0, std: ComplexFloat = 1.0) -> ComplexFloat:\n",
        "    \"\"\"denormalize an array with a given mean and standard deviation\"\"\"\n",
        "    return x * std + mean"
      ]
    },
    {
      "cell_type": "code",
      "execution_count": 6,
      "id": "20c404d284d36852",
      "metadata": {
        "execution": {
          "iopub.execute_input": "2023-06-01T21:10:45.263560Z",
          "iopub.status.busy": "2023-06-01T21:10:45.263195Z",
          "iopub.status.idle": "2023-06-01T21:10:45.265727Z",
          "shell.execute_reply": "2023-06-01T21:10:45.265308Z"
        },
        "papermill": {
          "duration": 0.005993,
          "end_time": "2023-06-01T21:10:45.266926",
          "exception": false,
          "start_time": "2023-06-01T21:10:45.260933",
          "status": "completed"
        },
        "tags": [
          "remove-cell"
        ]
      },
      "outputs": [],
      "source": [
        "norm = namedtuple(\"norm\", (\"mean\", \"std\"))"
      ]
    },
    {
      "cell_type": "markdown",
      "id": "b5975d51880cf0d2",
      "metadata": {},
      "source": [
        ":::{eval-rst}\n",
        ".. autofunction:: sax.nn.utils.get_normalization\n",
        ":::\n"
      ]
    },
    {
      "cell_type": "code",
      "execution_count": 7,
      "id": "e1b07216499eec55",
      "metadata": {
        "execution": {
          "iopub.execute_input": "2023-06-01T21:10:45.271014Z",
          "iopub.status.busy": "2023-06-01T21:10:45.270639Z",
          "iopub.status.idle": "2023-06-01T21:10:45.273523Z",
          "shell.execute_reply": "2023-06-01T21:10:45.273120Z"
        },
        "papermill": {
          "duration": 0.006145,
          "end_time": "2023-06-01T21:10:45.274624",
          "exception": false,
          "start_time": "2023-06-01T21:10:45.268479",
          "status": "completed"
        },
        "tags": [
          "hide-input"
        ]
      },
      "outputs": [],
      "source": [
        "def get_normalization(x: ComplexFloat):\n",
        "    \"\"\"Get mean and standard deviation for a given array\"\"\"\n",
        "    if isinstance(x, (complex, float)):\n",
        "        return x, 0.0\n",
        "    return norm(x.mean(0), x.std(0))"
      ]
    },
    {
      "cell_type": "markdown",
      "id": "4d2dfb2f868f479b",
      "metadata": {},
      "source": [
        ":::{eval-rst}\n",
        ".. autofunction:: sax.nn.utils.get_df_columns\n",
        ":::\n"
      ]
    },
    {
      "cell_type": "code",
      "execution_count": 8,
      "id": "c07d209f1fe261b0",
      "metadata": {
        "execution": {
          "iopub.execute_input": "2023-06-01T21:10:45.278716Z",
          "iopub.status.busy": "2023-06-01T21:10:45.278414Z",
          "iopub.status.idle": "2023-06-01T21:10:45.281832Z",
          "shell.execute_reply": "2023-06-01T21:10:45.281432Z"
        },
        "papermill": {
          "duration": 0.006794,
          "end_time": "2023-06-01T21:10:45.282976",
          "exception": false,
          "start_time": "2023-06-01T21:10:45.276182",
          "status": "completed"
        },
        "tags": [
          "hide-input"
        ]
      },
      "outputs": [],
      "source": [
        "def get_df_columns(df: pd.DataFrame, *names: str) -> Tuple[ComplexFloat, ...]:\n",
        "    \"\"\"Get certain columns from a pandas DataFrame as jax.numpy arrays\"\"\"\n",
        "    tup = namedtuple(\"params\", names)\n",
        "    params_list = []\n",
        "    for name in names:\n",
        "        column_np = df[name].values\n",
        "        column_jnp = jnp.array(column_np)\n",
        "        assert isinstance(column_jnp, jnp.ndarray)\n",
        "        params_list.append(column_jnp.ravel())\n",
        "    return tup(*params_list)"
      ]
    },
    {
      "cell_type": "markdown",
      "id": "e35cedd46335e079",
      "metadata": {},
      "source": [
        ":::{eval-rst}\n",
        ".. autofunction:: sax.nn.utils.normalize\n",
        ":::\n"
      ]
    },
    {
      "cell_type": "code",
      "execution_count": 9,
      "id": "ff19b440bad0dff3",
      "metadata": {
        "execution": {
          "iopub.execute_input": "2023-06-01T21:10:45.287063Z",
          "iopub.status.busy": "2023-06-01T21:10:45.286712Z",
          "iopub.status.idle": "2023-06-01T21:10:45.289313Z",
          "shell.execute_reply": "2023-06-01T21:10:45.288986Z"
        },
        "papermill": {
          "duration": 0.005992,
          "end_time": "2023-06-01T21:10:45.290527",
          "exception": false,
          "start_time": "2023-06-01T21:10:45.284535",
          "status": "completed"
        },
        "tags": [
          "hide-input"
        ]
      },
      "outputs": [],
      "source": [
        "def normalize(\n",
        "    x: ComplexFloat, mean: ComplexFloat = 0.0, std: ComplexFloat = 1.0\n",
        ") -> ComplexFloat:\n",
        "    \"\"\"normalize an array with a given mean and standard deviation\"\"\"\n",
        "    return (x - mean) / std"
      ]
    }
  ],
  "metadata": {
    "kernelspec": {
      "display_name": "sax",
      "language": "python",
      "name": "sax"
    },
    "language_info": {
      "codemirror_mode": {
        "name": "ipython",
        "version": 3
      },
      "file_extension": ".py",
      "mimetype": "text/x-python",
      "name": "python",
      "nbconvert_exporter": "python",
      "pygments_lexer": "ipython3",
      "version": "3.11.3"
    },
    "papermill": {
      "default_parameters": {},
      "duration": 3.655445,
      "end_time": "2023-06-01T21:10:45.908949",
      "environment_variables": {},
      "exception": null,
      "input_path": "./nbs/09b_nn_utils.ipynb",
      "output_path": "./nbs/09b_nn_utils.ipynb",
      "parameters": {},
      "start_time": "2023-06-01T21:10:42.253504",
      "version": "2.3.4"
    }
  },
  "nbformat": 4,
  "nbformat_minor": 5
}