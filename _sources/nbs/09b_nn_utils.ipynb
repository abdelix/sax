{
  "cells": [
    {
      "cell_type": "code",
      "execution_count": 1,
      "id": "25079eca6eea290f",
      "metadata": {
        "execution": {
          "iopub.execute_input": "2023-07-01T03:31:40.648188Z",
          "iopub.status.busy": "2023-07-01T03:31:40.647943Z",
          "iopub.status.idle": "2023-07-01T03:31:40.652407Z",
          "shell.execute_reply": "2023-07-01T03:31:40.651859Z"
        },
        "papermill": {
          "duration": 0.008624,
          "end_time": "2023-07-01T03:31:40.653611",
          "exception": false,
          "start_time": "2023-07-01T03:31:40.644987",
          "status": "completed"
        },
        "tags": [
          "remove-cell"
        ]
      },
      "outputs": [],
      "source": []
    },
    {
      "cell_type": "markdown",
      "id": "3ac7a21d",
      "metadata": {
        "papermill": {
          "duration": 0.001473,
          "end_time": "2023-07-01T03:31:40.657015",
          "exception": false,
          "start_time": "2023-07-01T03:31:40.655542",
          "status": "completed"
        },
        "tags": []
      },
      "source": [
        "# Utils\n",
        "\n",
        "> loss functions and utilitites for SAX neural networks"
      ]
    },
    {
      "cell_type": "code",
      "execution_count": 2,
      "id": "f5743f8977816825",
      "metadata": {
        "execution": {
          "iopub.execute_input": "2023-07-01T03:31:40.661135Z",
          "iopub.status.busy": "2023-07-01T03:31:40.660579Z",
          "iopub.status.idle": "2023-07-01T03:31:41.326173Z",
          "shell.execute_reply": "2023-07-01T03:31:41.325198Z"
        },
        "papermill": {
          "duration": 0.669293,
          "end_time": "2023-07-01T03:31:41.327777",
          "exception": false,
          "start_time": "2023-07-01T03:31:40.658484",
          "status": "completed"
        },
        "tags": [
          "remove-cell"
        ]
      },
      "outputs": [],
      "source": [
        "import matplotlib.pyplot as plt\n",
        "from fastcore.test import test_eq\n",
        "from pytest import approx, raises\n",
        "\n",
        "import os, sys; sys.stderr = open(os.devnull, \"w\")"
      ]
    },
    {
      "cell_type": "code",
      "execution_count": 3,
      "id": "c15a0b1971e224c4",
      "metadata": {
        "execution": {
          "iopub.execute_input": "2023-07-01T03:31:41.332348Z",
          "iopub.status.busy": "2023-07-01T03:31:41.332009Z",
          "iopub.status.idle": "2023-07-01T03:31:42.658328Z",
          "shell.execute_reply": "2023-07-01T03:31:42.657847Z"
        },
        "papermill": {
          "duration": 1.330372,
          "end_time": "2023-07-01T03:31:42.659995",
          "exception": false,
          "start_time": "2023-07-01T03:31:41.329623",
          "status": "completed"
        },
        "tags": [
          "hide-input"
        ]
      },
      "outputs": [],
      "source": [
        "from __future__ import annotations\n",
        "\n",
        "from collections import namedtuple\n",
        "from typing import Tuple\n",
        "\n",
        "import jax.numpy as jnp\n",
        "import pandas as pd\n",
        "from sax.typing_ import ComplexFloat"
      ]
    },
    {
      "cell_type": "markdown",
      "id": "99eaaef18d5c0da8",
      "metadata": {},
      "source": [
        ":::{eval-rst}\n",
        ".. autofunction:: sax.nn.utils.cartesian_product\n",
        ":::\n"
      ]
    },
    {
      "cell_type": "code",
      "execution_count": 4,
      "id": "685a0c4fa57aec08",
      "metadata": {
        "execution": {
          "iopub.execute_input": "2023-07-01T03:31:42.666000Z",
          "iopub.status.busy": "2023-07-01T03:31:42.664826Z",
          "iopub.status.idle": "2023-07-01T03:31:42.672785Z",
          "shell.execute_reply": "2023-07-01T03:31:42.672419Z"
        },
        "papermill": {
          "duration": 0.012253,
          "end_time": "2023-07-01T03:31:42.674109",
          "exception": false,
          "start_time": "2023-07-01T03:31:42.661856",
          "status": "completed"
        },
        "tags": [
          "hide-input"
        ]
      },
      "outputs": [],
      "source": [
        "def cartesian_product(*arrays: ComplexFloat) -> ComplexFloat:\n",
        "    \"\"\"calculate the n-dimensional cartesian product of an arbitrary number of arrays\"\"\"\n",
        "    ixarrays = jnp.ix_(*arrays)\n",
        "    barrays = jnp.broadcast_arrays(*ixarrays)\n",
        "    sarrays = jnp.stack(barrays, -1)\n",
        "    assert isinstance(sarrays, jnp.ndarray)\n",
        "    product = sarrays.reshape(-1, sarrays.shape[-1])\n",
        "    assert isinstance(product, jnp.ndarray)\n",
        "    return product"
      ]
    },
    {
      "cell_type": "markdown",
      "id": "00079ae874ed6f63",
      "metadata": {},
      "source": [
        ":::{eval-rst}\n",
        ".. autofunction:: sax.nn.utils.denormalize\n",
        ":::\n"
      ]
    },
    {
      "cell_type": "code",
      "execution_count": 5,
      "id": "ac29251256fc1cf8",
      "metadata": {
        "execution": {
          "iopub.execute_input": "2023-07-01T03:31:42.679438Z",
          "iopub.status.busy": "2023-07-01T03:31:42.678455Z",
          "iopub.status.idle": "2023-07-01T03:31:42.684546Z",
          "shell.execute_reply": "2023-07-01T03:31:42.684180Z"
        },
        "papermill": {
          "duration": 0.010112,
          "end_time": "2023-07-01T03:31:42.685858",
          "exception": false,
          "start_time": "2023-07-01T03:31:42.675746",
          "status": "completed"
        },
        "tags": [
          "hide-input"
        ]
      },
      "outputs": [],
      "source": [
        "def denormalize(x: ComplexFloat, mean: ComplexFloat = 0.0, std: ComplexFloat = 1.0) -> ComplexFloat:\n",
        "    \"\"\"denormalize an array with a given mean and standard deviation\"\"\"\n",
        "    return x * std + mean"
      ]
    },
    {
      "cell_type": "code",
      "execution_count": 6,
      "id": "6c32fcd376b7bc61",
      "metadata": {
        "execution": {
          "iopub.execute_input": "2023-07-01T03:31:42.691370Z",
          "iopub.status.busy": "2023-07-01T03:31:42.691023Z",
          "iopub.status.idle": "2023-07-01T03:31:42.693728Z",
          "shell.execute_reply": "2023-07-01T03:31:42.693373Z"
        },
        "papermill": {
          "duration": 0.00867,
          "end_time": "2023-07-01T03:31:42.696143",
          "exception": false,
          "start_time": "2023-07-01T03:31:42.687473",
          "status": "completed"
        },
        "tags": [
          "remove-cell"
        ]
      },
      "outputs": [],
      "source": [
        "norm = namedtuple(\"norm\", (\"mean\", \"std\"))"
      ]
    },
    {
      "cell_type": "markdown",
      "id": "f85daa556b73105b",
      "metadata": {},
      "source": [
        ":::{eval-rst}\n",
        ".. autofunction:: sax.nn.utils.get_normalization\n",
        ":::\n"
      ]
    },
    {
      "cell_type": "code",
      "execution_count": 7,
      "id": "717e98b66227f791",
      "metadata": {
        "execution": {
          "iopub.execute_input": "2023-07-01T03:31:42.705862Z",
          "iopub.status.busy": "2023-07-01T03:31:42.705499Z",
          "iopub.status.idle": "2023-07-01T03:31:42.708626Z",
          "shell.execute_reply": "2023-07-01T03:31:42.708253Z"
        },
        "papermill": {
          "duration": 0.014275,
          "end_time": "2023-07-01T03:31:42.712066",
          "exception": false,
          "start_time": "2023-07-01T03:31:42.697791",
          "status": "completed"
        },
        "tags": [
          "hide-input"
        ]
      },
      "outputs": [],
      "source": [
        "def get_normalization(x: ComplexFloat):\n",
        "    \"\"\"Get mean and standard deviation for a given array\"\"\"\n",
        "    if isinstance(x, (complex, float)):\n",
        "        return x, 0.0\n",
        "    return norm(x.mean(0), x.std(0))"
      ]
    },
    {
      "cell_type": "markdown",
      "id": "ddef2331c1611c6f",
      "metadata": {},
      "source": [
        ":::{eval-rst}\n",
        ".. autofunction:: sax.nn.utils.get_df_columns\n",
        ":::\n"
      ]
    },
    {
      "cell_type": "code",
      "execution_count": 8,
      "id": "83f642fff0c3ee5a",
      "metadata": {
        "execution": {
          "iopub.execute_input": "2023-07-01T03:31:42.718908Z",
          "iopub.status.busy": "2023-07-01T03:31:42.718716Z",
          "iopub.status.idle": "2023-07-01T03:31:42.722041Z",
          "shell.execute_reply": "2023-07-01T03:31:42.721677Z"
        },
        "papermill": {
          "duration": 0.01122,
          "end_time": "2023-07-01T03:31:42.725007",
          "exception": false,
          "start_time": "2023-07-01T03:31:42.713787",
          "status": "completed"
        },
        "tags": [
          "hide-input"
        ]
      },
      "outputs": [],
      "source": [
        "def get_df_columns(df: pd.DataFrame, *names: str) -> Tuple[ComplexFloat, ...]:\n",
        "    \"\"\"Get certain columns from a pandas DataFrame as jax.numpy arrays\"\"\"\n",
        "    tup = namedtuple(\"params\", names)\n",
        "    params_list = []\n",
        "    for name in names:\n",
        "        column_np = df[name].values\n",
        "        column_jnp = jnp.array(column_np)\n",
        "        assert isinstance(column_jnp, jnp.ndarray)\n",
        "        params_list.append(column_jnp.ravel())\n",
        "    return tup(*params_list)"
      ]
    },
    {
      "cell_type": "markdown",
      "id": "67673a28c5accc06",
      "metadata": {},
      "source": [
        ":::{eval-rst}\n",
        ".. autofunction:: sax.nn.utils.normalize\n",
        ":::\n"
      ]
    },
    {
      "cell_type": "code",
      "execution_count": 9,
      "id": "d861a7211a4bcfb6",
      "metadata": {
        "execution": {
          "iopub.execute_input": "2023-07-01T03:31:42.734761Z",
          "iopub.status.busy": "2023-07-01T03:31:42.734580Z",
          "iopub.status.idle": "2023-07-01T03:31:42.737168Z",
          "shell.execute_reply": "2023-07-01T03:31:42.736805Z"
        },
        "papermill": {
          "duration": 0.012899,
          "end_time": "2023-07-01T03:31:42.739603",
          "exception": false,
          "start_time": "2023-07-01T03:31:42.726704",
          "status": "completed"
        },
        "tags": [
          "hide-input"
        ]
      },
      "outputs": [],
      "source": [
        "def normalize(\n",
        "    x: ComplexFloat, mean: ComplexFloat = 0.0, std: ComplexFloat = 1.0\n",
        ") -> ComplexFloat:\n",
        "    \"\"\"normalize an array with a given mean and standard deviation\"\"\"\n",
        "    return (x - mean) / std"
      ]
    }
  ],
  "metadata": {
    "kernelspec": {
      "display_name": "sax",
      "language": "python",
      "name": "sax"
    },
    "language_info": {
      "codemirror_mode": {
        "name": "ipython",
        "version": 3
      },
      "file_extension": ".py",
      "mimetype": "text/x-python",
      "name": "python",
      "nbconvert_exporter": "python",
      "pygments_lexer": "ipython3",
      "version": "3.11.4"
    },
    "papermill": {
      "default_parameters": {},
      "duration": 4.180543,
      "end_time": "2023-07-01T03:31:43.359316",
      "environment_variables": {},
      "exception": null,
      "input_path": "./nbs/09b_nn_utils.ipynb",
      "output_path": "./nbs/09b_nn_utils.ipynb",
      "parameters": {},
      "start_time": "2023-07-01T03:31:39.178773",
      "version": "2.3.4"
    }
  },
  "nbformat": 4,
  "nbformat_minor": 5
}