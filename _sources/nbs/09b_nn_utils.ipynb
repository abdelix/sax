{
  "cells": [
    {
      "cell_type": "code",
      "execution_count": 1,
      "id": "8a7e6801b3d60eb9",
      "metadata": {
        "execution": {
          "iopub.execute_input": "2023-09-02T18:59:17.468601Z",
          "iopub.status.busy": "2023-09-02T18:59:17.468126Z",
          "iopub.status.idle": "2023-09-02T18:59:17.471408Z",
          "shell.execute_reply": "2023-09-02T18:59:17.470871Z"
        },
        "papermill": {
          "duration": 0.007945,
          "end_time": "2023-09-02T18:59:17.472637",
          "exception": false,
          "start_time": "2023-09-02T18:59:17.464692",
          "status": "completed"
        },
        "tags": [
          "remove-cell"
        ]
      },
      "outputs": [],
      "source": []
    },
    {
      "cell_type": "markdown",
      "id": "3ac7a21d",
      "metadata": {
        "papermill": {
          "duration": 0.001486,
          "end_time": "2023-09-02T18:59:17.475971",
          "exception": false,
          "start_time": "2023-09-02T18:59:17.474485",
          "status": "completed"
        },
        "tags": []
      },
      "source": [
        "# Utils\n",
        "\n",
        "> loss functions and utilitites for SAX neural networks"
      ]
    },
    {
      "cell_type": "code",
      "execution_count": 2,
      "id": "a5104c98b6554fc8",
      "metadata": {
        "execution": {
          "iopub.execute_input": "2023-09-02T18:59:17.480015Z",
          "iopub.status.busy": "2023-09-02T18:59:17.479641Z",
          "iopub.status.idle": "2023-09-02T18:59:17.899385Z",
          "shell.execute_reply": "2023-09-02T18:59:17.898931Z"
        },
        "papermill": {
          "duration": 0.423361,
          "end_time": "2023-09-02T18:59:17.900808",
          "exception": false,
          "start_time": "2023-09-02T18:59:17.477447",
          "status": "completed"
        },
        "tags": [
          "remove-cell"
        ]
      },
      "outputs": [],
      "source": [
        "import matplotlib.pyplot as plt\n",
        "from fastcore.test import test_eq\n",
        "from pytest import approx, raises\n",
        "\n",
        "import os, sys; sys.stderr = open(os.devnull, \"w\")"
      ]
    },
    {
      "cell_type": "code",
      "execution_count": 3,
      "id": "1bcf9193caadee0a",
      "metadata": {
        "execution": {
          "iopub.execute_input": "2023-09-02T18:59:17.905760Z",
          "iopub.status.busy": "2023-09-02T18:59:17.905287Z",
          "iopub.status.idle": "2023-09-02T18:59:18.919246Z",
          "shell.execute_reply": "2023-09-02T18:59:18.918789Z"
        },
        "papermill": {
          "duration": 1.018035,
          "end_time": "2023-09-02T18:59:18.920740",
          "exception": false,
          "start_time": "2023-09-02T18:59:17.902705",
          "status": "completed"
        },
        "tags": [
          "hide-input"
        ]
      },
      "outputs": [],
      "source": [
        "from __future__ import annotations\n",
        "\n",
        "from collections import namedtuple\n",
        "from typing import Tuple\n",
        "\n",
        "import jax.numpy as jnp\n",
        "import pandas as pd\n",
        "from sax.typing_ import ComplexFloat"
      ]
    },
    {
      "cell_type": "markdown",
      "id": "0c973bc480d69de4",
      "metadata": {},
      "source": [
        ":::{eval-rst}\n",
        ".. autofunction:: sax.nn.utils.cartesian_product\n",
        ":::\n"
      ]
    },
    {
      "cell_type": "code",
      "execution_count": 4,
      "id": "080627d09ba13fcd",
      "metadata": {
        "execution": {
          "iopub.execute_input": "2023-09-02T18:59:18.926149Z",
          "iopub.status.busy": "2023-09-02T18:59:18.925596Z",
          "iopub.status.idle": "2023-09-02T18:59:18.929608Z",
          "shell.execute_reply": "2023-09-02T18:59:18.929188Z"
        },
        "papermill": {
          "duration": 0.008287,
          "end_time": "2023-09-02T18:59:18.930906",
          "exception": false,
          "start_time": "2023-09-02T18:59:18.922619",
          "status": "completed"
        },
        "tags": [
          "hide-input"
        ]
      },
      "outputs": [],
      "source": [
        "def cartesian_product(*arrays: ComplexFloat) -> ComplexFloat:\n",
        "    \"\"\"calculate the n-dimensional cartesian product of an arbitrary number of arrays\"\"\"\n",
        "    ixarrays = jnp.ix_(*arrays)\n",
        "    barrays = jnp.broadcast_arrays(*ixarrays)\n",
        "    sarrays = jnp.stack(barrays, -1)\n",
        "    assert isinstance(sarrays, jnp.ndarray)\n",
        "    product = sarrays.reshape(-1, sarrays.shape[-1])\n",
        "    assert isinstance(product, jnp.ndarray)\n",
        "    return product"
      ]
    },
    {
      "cell_type": "markdown",
      "id": "88d60f7b6b6be578",
      "metadata": {},
      "source": [
        ":::{eval-rst}\n",
        ".. autofunction:: sax.nn.utils.denormalize\n",
        ":::\n"
      ]
    },
    {
      "cell_type": "code",
      "execution_count": 5,
      "id": "9c073952489051dc",
      "metadata": {
        "execution": {
          "iopub.execute_input": "2023-09-02T18:59:18.935076Z",
          "iopub.status.busy": "2023-09-02T18:59:18.934786Z",
          "iopub.status.idle": "2023-09-02T18:59:18.937495Z",
          "shell.execute_reply": "2023-09-02T18:59:18.937095Z"
        },
        "papermill": {
          "duration": 0.006104,
          "end_time": "2023-09-02T18:59:18.938631",
          "exception": false,
          "start_time": "2023-09-02T18:59:18.932527",
          "status": "completed"
        },
        "tags": [
          "hide-input"
        ]
      },
      "outputs": [],
      "source": [
        "def denormalize(x: ComplexFloat, mean: ComplexFloat = 0.0, std: ComplexFloat = 1.0) -> ComplexFloat:\n",
        "    \"\"\"denormalize an array with a given mean and standard deviation\"\"\"\n",
        "    return x * std + mean"
      ]
    },
    {
      "cell_type": "code",
      "execution_count": 6,
      "id": "a5d27e2925d7ede0",
      "metadata": {
        "execution": {
          "iopub.execute_input": "2023-09-02T18:59:18.943023Z",
          "iopub.status.busy": "2023-09-02T18:59:18.942550Z",
          "iopub.status.idle": "2023-09-02T18:59:18.945207Z",
          "shell.execute_reply": "2023-09-02T18:59:18.944795Z"
        },
        "papermill": {
          "duration": 0.006195,
          "end_time": "2023-09-02T18:59:18.946450",
          "exception": false,
          "start_time": "2023-09-02T18:59:18.940255",
          "status": "completed"
        },
        "tags": [
          "remove-cell"
        ]
      },
      "outputs": [],
      "source": [
        "norm = namedtuple(\"norm\", (\"mean\", \"std\"))"
      ]
    },
    {
      "cell_type": "markdown",
      "id": "b056b62a18470603",
      "metadata": {},
      "source": [
        ":::{eval-rst}\n",
        ".. autofunction:: sax.nn.utils.get_normalization\n",
        ":::\n"
      ]
    },
    {
      "cell_type": "code",
      "execution_count": 7,
      "id": "180a1eac8ba6937e",
      "metadata": {
        "execution": {
          "iopub.execute_input": "2023-09-02T18:59:18.950902Z",
          "iopub.status.busy": "2023-09-02T18:59:18.950468Z",
          "iopub.status.idle": "2023-09-02T18:59:18.953415Z",
          "shell.execute_reply": "2023-09-02T18:59:18.953025Z"
        },
        "papermill": {
          "duration": 0.006472,
          "end_time": "2023-09-02T18:59:18.954656",
          "exception": false,
          "start_time": "2023-09-02T18:59:18.948184",
          "status": "completed"
        },
        "tags": [
          "hide-input"
        ]
      },
      "outputs": [],
      "source": [
        "def get_normalization(x: ComplexFloat):\n",
        "    \"\"\"Get mean and standard deviation for a given array\"\"\"\n",
        "    if isinstance(x, (complex, float)):\n",
        "        return x, 0.0\n",
        "    return norm(x.mean(0), x.std(0))"
      ]
    },
    {
      "cell_type": "markdown",
      "id": "5cc8dd92b25600af",
      "metadata": {},
      "source": [
        ":::{eval-rst}\n",
        ".. autofunction:: sax.nn.utils.get_df_columns\n",
        ":::\n"
      ]
    },
    {
      "cell_type": "code",
      "execution_count": 8,
      "id": "155b7fe91a323b02",
      "metadata": {
        "execution": {
          "iopub.execute_input": "2023-09-02T18:59:18.958787Z",
          "iopub.status.busy": "2023-09-02T18:59:18.958610Z",
          "iopub.status.idle": "2023-09-02T18:59:18.962055Z",
          "shell.execute_reply": "2023-09-02T18:59:18.961610Z"
        },
        "papermill": {
          "duration": 0.006816,
          "end_time": "2023-09-02T18:59:18.963159",
          "exception": false,
          "start_time": "2023-09-02T18:59:18.956343",
          "status": "completed"
        },
        "tags": [
          "hide-input"
        ]
      },
      "outputs": [],
      "source": [
        "def get_df_columns(df: pd.DataFrame, *names: str) -> Tuple[ComplexFloat, ...]:\n",
        "    \"\"\"Get certain columns from a pandas DataFrame as jax.numpy arrays\"\"\"\n",
        "    tup = namedtuple(\"params\", names)\n",
        "    params_list = []\n",
        "    for name in names:\n",
        "        column_np = df[name].values\n",
        "        column_jnp = jnp.array(column_np)\n",
        "        assert isinstance(column_jnp, jnp.ndarray)\n",
        "        params_list.append(column_jnp.ravel())\n",
        "    return tup(*params_list)"
      ]
    },
    {
      "cell_type": "markdown",
      "id": "333e3f7623e11d14",
      "metadata": {},
      "source": [
        ":::{eval-rst}\n",
        ".. autofunction:: sax.nn.utils.normalize\n",
        ":::\n"
      ]
    },
    {
      "cell_type": "code",
      "execution_count": 9,
      "id": "136252a16a0eb464",
      "metadata": {
        "execution": {
          "iopub.execute_input": "2023-09-02T18:59:18.967413Z",
          "iopub.status.busy": "2023-09-02T18:59:18.967141Z",
          "iopub.status.idle": "2023-09-02T18:59:18.969919Z",
          "shell.execute_reply": "2023-09-02T18:59:18.969508Z"
        },
        "papermill": {
          "duration": 0.006381,
          "end_time": "2023-09-02T18:59:18.971242",
          "exception": false,
          "start_time": "2023-09-02T18:59:18.964861",
          "status": "completed"
        },
        "tags": [
          "hide-input"
        ]
      },
      "outputs": [],
      "source": [
        "def normalize(\n",
        "    x: ComplexFloat, mean: ComplexFloat = 0.0, std: ComplexFloat = 1.0\n",
        ") -> ComplexFloat:\n",
        "    \"\"\"normalize an array with a given mean and standard deviation\"\"\"\n",
        "    return (x - mean) / std"
      ]
    }
  ],
  "metadata": {
    "kernelspec": {
      "display_name": "sax",
      "language": "python",
      "name": "sax"
    },
    "language_info": {
      "codemirror_mode": {
        "name": "ipython",
        "version": 3
      },
      "file_extension": ".py",
      "mimetype": "text/x-python",
      "name": "python",
      "nbconvert_exporter": "python",
      "pygments_lexer": "ipython3",
      "version": "3.11.5"
    },
    "papermill": {
      "default_parameters": {},
      "duration": 3.242778,
      "end_time": "2023-09-02T18:59:19.388959",
      "environment_variables": {},
      "exception": null,
      "input_path": "./nbs/09b_nn_utils.ipynb",
      "output_path": "./nbs/09b_nn_utils.ipynb",
      "parameters": {},
      "start_time": "2023-09-02T18:59:16.146181",
      "version": "2.4.0"
    }
  },
  "nbformat": 4,
  "nbformat_minor": 5
}