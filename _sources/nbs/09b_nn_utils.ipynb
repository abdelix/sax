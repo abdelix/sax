{
  "cells": [
    {
      "cell_type": "code",
      "execution_count": 1,
      "id": "c0beb80d0afd52fd",
      "metadata": {
        "execution": {
          "iopub.execute_input": "2023-09-01T16:50:40.512666Z",
          "iopub.status.busy": "2023-09-01T16:50:40.511890Z",
          "iopub.status.idle": "2023-09-01T16:50:40.515555Z",
          "shell.execute_reply": "2023-09-01T16:50:40.515003Z"
        },
        "papermill": {
          "duration": 0.008939,
          "end_time": "2023-09-01T16:50:40.517166",
          "exception": false,
          "start_time": "2023-09-01T16:50:40.508227",
          "status": "completed"
        },
        "tags": [
          "remove-cell"
        ]
      },
      "outputs": [],
      "source": []
    },
    {
      "cell_type": "markdown",
      "id": "3ac7a21d",
      "metadata": {
        "papermill": {
          "duration": 0.00175,
          "end_time": "2023-09-01T16:50:40.520980",
          "exception": false,
          "start_time": "2023-09-01T16:50:40.519230",
          "status": "completed"
        },
        "tags": []
      },
      "source": [
        "# Utils\n",
        "\n",
        "> loss functions and utilitites for SAX neural networks"
      ]
    },
    {
      "cell_type": "code",
      "execution_count": 2,
      "id": "dcc7ab1b418c5cf8",
      "metadata": {
        "execution": {
          "iopub.execute_input": "2023-09-01T16:50:40.525638Z",
          "iopub.status.busy": "2023-09-01T16:50:40.525250Z",
          "iopub.status.idle": "2023-09-01T16:50:40.969100Z",
          "shell.execute_reply": "2023-09-01T16:50:40.968645Z"
        },
        "papermill": {
          "duration": 0.44781,
          "end_time": "2023-09-01T16:50:40.970479",
          "exception": false,
          "start_time": "2023-09-01T16:50:40.522669",
          "status": "completed"
        },
        "tags": [
          "remove-cell"
        ]
      },
      "outputs": [],
      "source": [
        "import matplotlib.pyplot as plt\n",
        "from fastcore.test import test_eq\n",
        "from pytest import approx, raises\n",
        "\n",
        "import os, sys; sys.stderr = open(os.devnull, \"w\")"
      ]
    },
    {
      "cell_type": "code",
      "execution_count": 3,
      "id": "b3b89a8cdb09932e",
      "metadata": {
        "execution": {
          "iopub.execute_input": "2023-09-01T16:50:40.975581Z",
          "iopub.status.busy": "2023-09-01T16:50:40.975163Z",
          "iopub.status.idle": "2023-09-01T16:50:42.001428Z",
          "shell.execute_reply": "2023-09-01T16:50:42.000977Z"
        },
        "papermill": {
          "duration": 1.030543,
          "end_time": "2023-09-01T16:50:42.002990",
          "exception": false,
          "start_time": "2023-09-01T16:50:40.972447",
          "status": "completed"
        },
        "tags": [
          "hide-input"
        ]
      },
      "outputs": [],
      "source": [
        "from __future__ import annotations\n",
        "\n",
        "from collections import namedtuple\n",
        "from typing import Tuple\n",
        "\n",
        "import jax.numpy as jnp\n",
        "import pandas as pd\n",
        "from sax.typing_ import ComplexFloat"
      ]
    },
    {
      "cell_type": "markdown",
      "id": "9fc697a34e79e17b",
      "metadata": {},
      "source": [
        ":::{eval-rst}\n",
        ".. autofunction:: sax.nn.utils.cartesian_product\n",
        ":::\n"
      ]
    },
    {
      "cell_type": "code",
      "execution_count": 4,
      "id": "c1cd47385ee80d79",
      "metadata": {
        "execution": {
          "iopub.execute_input": "2023-09-01T16:50:42.008367Z",
          "iopub.status.busy": "2023-09-01T16:50:42.007812Z",
          "iopub.status.idle": "2023-09-01T16:50:42.011786Z",
          "shell.execute_reply": "2023-09-01T16:50:42.011346Z"
        },
        "papermill": {
          "duration": 0.008328,
          "end_time": "2023-09-01T16:50:42.013228",
          "exception": false,
          "start_time": "2023-09-01T16:50:42.004900",
          "status": "completed"
        },
        "tags": [
          "hide-input"
        ]
      },
      "outputs": [],
      "source": [
        "def cartesian_product(*arrays: ComplexFloat) -> ComplexFloat:\n",
        "    \"\"\"calculate the n-dimensional cartesian product of an arbitrary number of arrays\"\"\"\n",
        "    ixarrays = jnp.ix_(*arrays)\n",
        "    barrays = jnp.broadcast_arrays(*ixarrays)\n",
        "    sarrays = jnp.stack(barrays, -1)\n",
        "    assert isinstance(sarrays, jnp.ndarray)\n",
        "    product = sarrays.reshape(-1, sarrays.shape[-1])\n",
        "    assert isinstance(product, jnp.ndarray)\n",
        "    return product"
      ]
    },
    {
      "cell_type": "markdown",
      "id": "bf1e46879b3d3796",
      "metadata": {},
      "source": [
        ":::{eval-rst}\n",
        ".. autofunction:: sax.nn.utils.denormalize\n",
        ":::\n"
      ]
    },
    {
      "cell_type": "code",
      "execution_count": 5,
      "id": "1a446b7f6de07470",
      "metadata": {
        "execution": {
          "iopub.execute_input": "2023-09-01T16:50:42.017747Z",
          "iopub.status.busy": "2023-09-01T16:50:42.017287Z",
          "iopub.status.idle": "2023-09-01T16:50:42.020187Z",
          "shell.execute_reply": "2023-09-01T16:50:42.019768Z"
        },
        "papermill": {
          "duration": 0.006447,
          "end_time": "2023-09-01T16:50:42.021407",
          "exception": false,
          "start_time": "2023-09-01T16:50:42.014960",
          "status": "completed"
        },
        "tags": [
          "hide-input"
        ]
      },
      "outputs": [],
      "source": [
        "def denormalize(x: ComplexFloat, mean: ComplexFloat = 0.0, std: ComplexFloat = 1.0) -> ComplexFloat:\n",
        "    \"\"\"denormalize an array with a given mean and standard deviation\"\"\"\n",
        "    return x * std + mean"
      ]
    },
    {
      "cell_type": "code",
      "execution_count": 6,
      "id": "7458fd20eca5c643",
      "metadata": {
        "execution": {
          "iopub.execute_input": "2023-09-01T16:50:42.025725Z",
          "iopub.status.busy": "2023-09-01T16:50:42.025420Z",
          "iopub.status.idle": "2023-09-01T16:50:42.028062Z",
          "shell.execute_reply": "2023-09-01T16:50:42.027625Z"
        },
        "papermill": {
          "duration": 0.006192,
          "end_time": "2023-09-01T16:50:42.029284",
          "exception": false,
          "start_time": "2023-09-01T16:50:42.023092",
          "status": "completed"
        },
        "tags": [
          "remove-cell"
        ]
      },
      "outputs": [],
      "source": [
        "norm = namedtuple(\"norm\", (\"mean\", \"std\"))"
      ]
    },
    {
      "cell_type": "markdown",
      "id": "6f87f8f0034b1776",
      "metadata": {},
      "source": [
        ":::{eval-rst}\n",
        ".. autofunction:: sax.nn.utils.get_normalization\n",
        ":::\n"
      ]
    },
    {
      "cell_type": "code",
      "execution_count": 7,
      "id": "864063c2f67df604",
      "metadata": {
        "execution": {
          "iopub.execute_input": "2023-09-01T16:50:42.033755Z",
          "iopub.status.busy": "2023-09-01T16:50:42.033455Z",
          "iopub.status.idle": "2023-09-01T16:50:42.036431Z",
          "shell.execute_reply": "2023-09-01T16:50:42.036026Z"
        },
        "papermill": {
          "duration": 0.006468,
          "end_time": "2023-09-01T16:50:42.037601",
          "exception": false,
          "start_time": "2023-09-01T16:50:42.031133",
          "status": "completed"
        },
        "tags": [
          "hide-input"
        ]
      },
      "outputs": [],
      "source": [
        "def get_normalization(x: ComplexFloat):\n",
        "    \"\"\"Get mean and standard deviation for a given array\"\"\"\n",
        "    if isinstance(x, (complex, float)):\n",
        "        return x, 0.0\n",
        "    return norm(x.mean(0), x.std(0))"
      ]
    },
    {
      "cell_type": "markdown",
      "id": "e3cb7fcbaebd644f",
      "metadata": {},
      "source": [
        ":::{eval-rst}\n",
        ".. autofunction:: sax.nn.utils.get_df_columns\n",
        ":::\n"
      ]
    },
    {
      "cell_type": "code",
      "execution_count": 8,
      "id": "03b701de7421cad6",
      "metadata": {
        "execution": {
          "iopub.execute_input": "2023-09-01T16:50:42.041943Z",
          "iopub.status.busy": "2023-09-01T16:50:42.041657Z",
          "iopub.status.idle": "2023-09-01T16:50:42.045266Z",
          "shell.execute_reply": "2023-09-01T16:50:42.044853Z"
        },
        "papermill": {
          "duration": 0.007168,
          "end_time": "2023-09-01T16:50:42.046517",
          "exception": false,
          "start_time": "2023-09-01T16:50:42.039349",
          "status": "completed"
        },
        "tags": [
          "hide-input"
        ]
      },
      "outputs": [],
      "source": [
        "def get_df_columns(df: pd.DataFrame, *names: str) -> Tuple[ComplexFloat, ...]:\n",
        "    \"\"\"Get certain columns from a pandas DataFrame as jax.numpy arrays\"\"\"\n",
        "    tup = namedtuple(\"params\", names)\n",
        "    params_list = []\n",
        "    for name in names:\n",
        "        column_np = df[name].values\n",
        "        column_jnp = jnp.array(column_np)\n",
        "        assert isinstance(column_jnp, jnp.ndarray)\n",
        "        params_list.append(column_jnp.ravel())\n",
        "    return tup(*params_list)"
      ]
    },
    {
      "cell_type": "markdown",
      "id": "e226f27ef9a4d7d6",
      "metadata": {},
      "source": [
        ":::{eval-rst}\n",
        ".. autofunction:: sax.nn.utils.normalize\n",
        ":::\n"
      ]
    },
    {
      "cell_type": "code",
      "execution_count": 9,
      "id": "c8a2fe9b9bf08c54",
      "metadata": {
        "execution": {
          "iopub.execute_input": "2023-09-01T16:50:42.051266Z",
          "iopub.status.busy": "2023-09-01T16:50:42.050966Z",
          "iopub.status.idle": "2023-09-01T16:50:42.053783Z",
          "shell.execute_reply": "2023-09-01T16:50:42.053376Z"
        },
        "papermill": {
          "duration": 0.006578,
          "end_time": "2023-09-01T16:50:42.054931",
          "exception": false,
          "start_time": "2023-09-01T16:50:42.048353",
          "status": "completed"
        },
        "tags": [
          "hide-input"
        ]
      },
      "outputs": [],
      "source": [
        "def normalize(\n",
        "    x: ComplexFloat, mean: ComplexFloat = 0.0, std: ComplexFloat = 1.0\n",
        ") -> ComplexFloat:\n",
        "    \"\"\"normalize an array with a given mean and standard deviation\"\"\"\n",
        "    return (x - mean) / std"
      ]
    }
  ],
  "metadata": {
    "kernelspec": {
      "display_name": "sax",
      "language": "python",
      "name": "sax"
    },
    "language_info": {
      "codemirror_mode": {
        "name": "ipython",
        "version": 3
      },
      "file_extension": ".py",
      "mimetype": "text/x-python",
      "name": "python",
      "nbconvert_exporter": "python",
      "pygments_lexer": "ipython3",
      "version": "3.11.5"
    },
    "papermill": {
      "default_parameters": {},
      "duration": 3.385727,
      "end_time": "2023-09-01T16:50:42.573726",
      "environment_variables": {},
      "exception": null,
      "input_path": "./nbs/09b_nn_utils.ipynb",
      "output_path": "./nbs/09b_nn_utils.ipynb",
      "parameters": {},
      "start_time": "2023-09-01T16:50:39.187999",
      "version": "2.4.0"
    }
  },
  "nbformat": 4,
  "nbformat_minor": 5
}