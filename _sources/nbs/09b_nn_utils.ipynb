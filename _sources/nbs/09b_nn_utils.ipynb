{
  "cells": [
    {
      "cell_type": "code",
      "execution_count": 1,
      "id": "aca9cfb238a3a5f0",
      "metadata": {
        "execution": {
          "iopub.execute_input": "2023-09-01T15:53:52.011302Z",
          "iopub.status.busy": "2023-09-01T15:53:52.010559Z",
          "iopub.status.idle": "2023-09-01T15:53:52.014710Z",
          "shell.execute_reply": "2023-09-01T15:53:52.013982Z"
        },
        "papermill": {
          "duration": 0.009998,
          "end_time": "2023-09-01T15:53:52.016287",
          "exception": false,
          "start_time": "2023-09-01T15:53:52.006289",
          "status": "completed"
        },
        "tags": [
          "remove-cell"
        ]
      },
      "outputs": [],
      "source": []
    },
    {
      "cell_type": "markdown",
      "id": "3ac7a21d",
      "metadata": {
        "papermill": {
          "duration": 0.002036,
          "end_time": "2023-09-01T15:53:52.020547",
          "exception": false,
          "start_time": "2023-09-01T15:53:52.018511",
          "status": "completed"
        },
        "tags": []
      },
      "source": [
        "# Utils\n",
        "\n",
        "> loss functions and utilitites for SAX neural networks"
      ]
    },
    {
      "cell_type": "code",
      "execution_count": 2,
      "id": "5acd3469d5f8dbb9",
      "metadata": {
        "execution": {
          "iopub.execute_input": "2023-09-01T15:53:52.025776Z",
          "iopub.status.busy": "2023-09-01T15:53:52.025284Z",
          "iopub.status.idle": "2023-09-01T15:53:52.555892Z",
          "shell.execute_reply": "2023-09-01T15:53:52.555173Z"
        },
        "papermill": {
          "duration": 0.53559,
          "end_time": "2023-09-01T15:53:52.557993",
          "exception": false,
          "start_time": "2023-09-01T15:53:52.022403",
          "status": "completed"
        },
        "tags": [
          "remove-cell"
        ]
      },
      "outputs": [],
      "source": [
        "import matplotlib.pyplot as plt\n",
        "from fastcore.test import test_eq\n",
        "from pytest import approx, raises\n",
        "\n",
        "import os, sys; sys.stderr = open(os.devnull, \"w\")"
      ]
    },
    {
      "cell_type": "code",
      "execution_count": 3,
      "id": "5b6db28f4d06690c",
      "metadata": {
        "execution": {
          "iopub.execute_input": "2023-09-01T15:53:52.564478Z",
          "iopub.status.busy": "2023-09-01T15:53:52.563684Z",
          "iopub.status.idle": "2023-09-01T15:53:53.841528Z",
          "shell.execute_reply": "2023-09-01T15:53:53.840963Z"
        },
        "papermill": {
          "duration": 1.283079,
          "end_time": "2023-09-01T15:53:53.843327",
          "exception": false,
          "start_time": "2023-09-01T15:53:52.560248",
          "status": "completed"
        },
        "tags": [
          "hide-input"
        ]
      },
      "outputs": [],
      "source": [
        "from __future__ import annotations\n",
        "\n",
        "from collections import namedtuple\n",
        "from typing import Tuple\n",
        "\n",
        "import jax.numpy as jnp\n",
        "import pandas as pd\n",
        "from sax.typing_ import ComplexFloat"
      ]
    },
    {
      "cell_type": "markdown",
      "id": "ef41546829f16265",
      "metadata": {},
      "source": [
        ":::{eval-rst}\n",
        ".. autofunction:: sax.nn.utils.cartesian_product\n",
        ":::\n"
      ]
    },
    {
      "cell_type": "code",
      "execution_count": 4,
      "id": "f24ca011ca35a5a0",
      "metadata": {
        "execution": {
          "iopub.execute_input": "2023-09-01T15:53:53.852456Z",
          "iopub.status.busy": "2023-09-01T15:53:53.851616Z",
          "iopub.status.idle": "2023-09-01T15:53:53.856673Z",
          "shell.execute_reply": "2023-09-01T15:53:53.856126Z"
        },
        "papermill": {
          "duration": 0.013671,
          "end_time": "2023-09-01T15:53:53.859625",
          "exception": false,
          "start_time": "2023-09-01T15:53:53.845954",
          "status": "completed"
        },
        "tags": [
          "hide-input"
        ]
      },
      "outputs": [],
      "source": [
        "def cartesian_product(*arrays: ComplexFloat) -> ComplexFloat:\n",
        "    \"\"\"calculate the n-dimensional cartesian product of an arbitrary number of arrays\"\"\"\n",
        "    ixarrays = jnp.ix_(*arrays)\n",
        "    barrays = jnp.broadcast_arrays(*ixarrays)\n",
        "    sarrays = jnp.stack(barrays, -1)\n",
        "    assert isinstance(sarrays, jnp.ndarray)\n",
        "    product = sarrays.reshape(-1, sarrays.shape[-1])\n",
        "    assert isinstance(product, jnp.ndarray)\n",
        "    return product"
      ]
    },
    {
      "cell_type": "markdown",
      "id": "52f6057d8b313d88",
      "metadata": {},
      "source": [
        ":::{eval-rst}\n",
        ".. autofunction:: sax.nn.utils.denormalize\n",
        ":::\n"
      ]
    },
    {
      "cell_type": "code",
      "execution_count": 5,
      "id": "290c65a7bc8ab307",
      "metadata": {
        "execution": {
          "iopub.execute_input": "2023-09-01T15:53:53.865018Z",
          "iopub.status.busy": "2023-09-01T15:53:53.864545Z",
          "iopub.status.idle": "2023-09-01T15:53:53.867808Z",
          "shell.execute_reply": "2023-09-01T15:53:53.867406Z"
        },
        "papermill": {
          "duration": 0.007404,
          "end_time": "2023-09-01T15:53:53.869126",
          "exception": false,
          "start_time": "2023-09-01T15:53:53.861722",
          "status": "completed"
        },
        "tags": [
          "hide-input"
        ]
      },
      "outputs": [],
      "source": [
        "def denormalize(x: ComplexFloat, mean: ComplexFloat = 0.0, std: ComplexFloat = 1.0) -> ComplexFloat:\n",
        "    \"\"\"denormalize an array with a given mean and standard deviation\"\"\"\n",
        "    return x * std + mean"
      ]
    },
    {
      "cell_type": "code",
      "execution_count": 6,
      "id": "5fc26a01fec67cf9",
      "metadata": {
        "execution": {
          "iopub.execute_input": "2023-09-01T15:53:53.874538Z",
          "iopub.status.busy": "2023-09-01T15:53:53.873866Z",
          "iopub.status.idle": "2023-09-01T15:53:53.877010Z",
          "shell.execute_reply": "2023-09-01T15:53:53.876606Z"
        },
        "papermill": {
          "duration": 0.007238,
          "end_time": "2023-09-01T15:53:53.878306",
          "exception": false,
          "start_time": "2023-09-01T15:53:53.871068",
          "status": "completed"
        },
        "tags": [
          "remove-cell"
        ]
      },
      "outputs": [],
      "source": [
        "norm = namedtuple(\"norm\", (\"mean\", \"std\"))"
      ]
    },
    {
      "cell_type": "markdown",
      "id": "2631bb6255684e8c",
      "metadata": {},
      "source": [
        ":::{eval-rst}\n",
        ".. autofunction:: sax.nn.utils.get_normalization\n",
        ":::\n"
      ]
    },
    {
      "cell_type": "code",
      "execution_count": 7,
      "id": "83f845b60db63cc5",
      "metadata": {
        "execution": {
          "iopub.execute_input": "2023-09-01T15:53:53.883881Z",
          "iopub.status.busy": "2023-09-01T15:53:53.883203Z",
          "iopub.status.idle": "2023-09-01T15:53:53.886762Z",
          "shell.execute_reply": "2023-09-01T15:53:53.886356Z"
        },
        "papermill": {
          "duration": 0.007813,
          "end_time": "2023-09-01T15:53:53.888168",
          "exception": false,
          "start_time": "2023-09-01T15:53:53.880355",
          "status": "completed"
        },
        "tags": [
          "hide-input"
        ]
      },
      "outputs": [],
      "source": [
        "def get_normalization(x: ComplexFloat):\n",
        "    \"\"\"Get mean and standard deviation for a given array\"\"\"\n",
        "    if isinstance(x, (complex, float)):\n",
        "        return x, 0.0\n",
        "    return norm(x.mean(0), x.std(0))"
      ]
    },
    {
      "cell_type": "markdown",
      "id": "10ae3710d34bd10d",
      "metadata": {},
      "source": [
        ":::{eval-rst}\n",
        ".. autofunction:: sax.nn.utils.get_df_columns\n",
        ":::\n"
      ]
    },
    {
      "cell_type": "code",
      "execution_count": 8,
      "id": "e79bb84bc864b44e",
      "metadata": {
        "execution": {
          "iopub.execute_input": "2023-09-01T15:53:53.893754Z",
          "iopub.status.busy": "2023-09-01T15:53:53.893088Z",
          "iopub.status.idle": "2023-09-01T15:53:53.897203Z",
          "shell.execute_reply": "2023-09-01T15:53:53.896809Z"
        },
        "papermill": {
          "duration": 0.008379,
          "end_time": "2023-09-01T15:53:53.898558",
          "exception": false,
          "start_time": "2023-09-01T15:53:53.890179",
          "status": "completed"
        },
        "tags": [
          "hide-input"
        ]
      },
      "outputs": [],
      "source": [
        "def get_df_columns(df: pd.DataFrame, *names: str) -> Tuple[ComplexFloat, ...]:\n",
        "    \"\"\"Get certain columns from a pandas DataFrame as jax.numpy arrays\"\"\"\n",
        "    tup = namedtuple(\"params\", names)\n",
        "    params_list = []\n",
        "    for name in names:\n",
        "        column_np = df[name].values\n",
        "        column_jnp = jnp.array(column_np)\n",
        "        assert isinstance(column_jnp, jnp.ndarray)\n",
        "        params_list.append(column_jnp.ravel())\n",
        "    return tup(*params_list)"
      ]
    },
    {
      "cell_type": "markdown",
      "id": "f0adac43d5b0975e",
      "metadata": {},
      "source": [
        ":::{eval-rst}\n",
        ".. autofunction:: sax.nn.utils.normalize\n",
        ":::\n"
      ]
    },
    {
      "cell_type": "code",
      "execution_count": 9,
      "id": "7a3034ea70a43f97",
      "metadata": {
        "execution": {
          "iopub.execute_input": "2023-09-01T15:53:53.904133Z",
          "iopub.status.busy": "2023-09-01T15:53:53.903466Z",
          "iopub.status.idle": "2023-09-01T15:53:53.906783Z",
          "shell.execute_reply": "2023-09-01T15:53:53.906396Z"
        },
        "papermill": {
          "duration": 0.008333,
          "end_time": "2023-09-01T15:53:53.908905",
          "exception": false,
          "start_time": "2023-09-01T15:53:53.900572",
          "status": "completed"
        },
        "tags": [
          "hide-input"
        ]
      },
      "outputs": [],
      "source": [
        "def normalize(\n",
        "    x: ComplexFloat, mean: ComplexFloat = 0.0, std: ComplexFloat = 1.0\n",
        ") -> ComplexFloat:\n",
        "    \"\"\"normalize an array with a given mean and standard deviation\"\"\"\n",
        "    return (x - mean) / std"
      ]
    }
  ],
  "metadata": {
    "kernelspec": {
      "display_name": "sax",
      "language": "python",
      "name": "sax"
    },
    "language_info": {
      "codemirror_mode": {
        "name": "ipython",
        "version": 3
      },
      "file_extension": ".py",
      "mimetype": "text/x-python",
      "name": "python",
      "nbconvert_exporter": "python",
      "pygments_lexer": "ipython3",
      "version": "3.11.5"
    },
    "papermill": {
      "default_parameters": {},
      "duration": 3.943357,
      "end_time": "2023-09-01T15:53:54.631323",
      "environment_variables": {},
      "exception": null,
      "input_path": "./nbs/09b_nn_utils.ipynb",
      "output_path": "./nbs/09b_nn_utils.ipynb",
      "parameters": {},
      "start_time": "2023-09-01T15:53:50.687966",
      "version": "2.4.0"
    }
  },
  "nbformat": 4,
  "nbformat_minor": 5
}