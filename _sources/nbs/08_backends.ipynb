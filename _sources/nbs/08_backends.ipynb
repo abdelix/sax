{
  "cells": [
    {
      "cell_type": "code",
      "execution_count": 1,
      "id": "a83d6dff90099395",
      "metadata": {
        "execution": {
          "iopub.execute_input": "2023-09-01T15:55:15.481678Z",
          "iopub.status.busy": "2023-09-01T15:55:15.480588Z",
          "iopub.status.idle": "2023-09-01T15:55:15.485396Z",
          "shell.execute_reply": "2023-09-01T15:55:15.484665Z"
        },
        "papermill": {
          "duration": 0.013548,
          "end_time": "2023-09-01T15:55:15.486844",
          "exception": false,
          "start_time": "2023-09-01T15:55:15.473296",
          "status": "completed"
        },
        "tags": [
          "remove-cell"
        ]
      },
      "outputs": [],
      "source": []
    },
    {
      "cell_type": "markdown",
      "id": "079604be",
      "metadata": {
        "papermill": {
          "duration": 0.002424,
          "end_time": "2023-09-01T15:55:15.491888",
          "exception": false,
          "start_time": "2023-09-01T15:55:15.489464",
          "status": "completed"
        },
        "tags": []
      },
      "source": [
        "# Backend\n",
        "\n",
        "> SAX Backends"
      ]
    },
    {
      "cell_type": "code",
      "execution_count": 2,
      "id": "6d4e1dd729cf6e11",
      "metadata": {
        "execution": {
          "iopub.execute_input": "2023-09-01T15:55:15.497889Z",
          "iopub.status.busy": "2023-09-01T15:55:15.497368Z",
          "iopub.status.idle": "2023-09-01T15:55:16.994486Z",
          "shell.execute_reply": "2023-09-01T15:55:16.993832Z"
        },
        "papermill": {
          "duration": 1.50308,
          "end_time": "2023-09-01T15:55:16.997224",
          "exception": false,
          "start_time": "2023-09-01T15:55:15.494144",
          "status": "completed"
        },
        "tags": [
          "remove-cell"
        ]
      },
      "outputs": [],
      "source": [
        "from nbdev import show_doc\n",
        "from sax.typing_ import SDense, SDict, sdict\n",
        "\n",
        "import os, sys; sys.stderr = open(os.devnull, \"w\")"
      ]
    },
    {
      "cell_type": "code",
      "execution_count": 3,
      "id": "1744b8a56409e6ec",
      "metadata": {
        "execution": {
          "iopub.execute_input": "2023-09-01T15:55:17.005003Z",
          "iopub.status.busy": "2023-09-01T15:55:17.004331Z",
          "iopub.status.idle": "2023-09-01T15:55:17.009252Z",
          "shell.execute_reply": "2023-09-01T15:55:17.008821Z"
        },
        "papermill": {
          "duration": 0.010347,
          "end_time": "2023-09-01T15:55:17.010992",
          "exception": false,
          "start_time": "2023-09-01T15:55:17.000645",
          "status": "completed"
        },
        "tags": [
          "remove-cell"
        ]
      },
      "outputs": [],
      "source": [
        "from __future__ import annotations\n",
        "\n",
        "try:\n",
        "    import jax\n",
        "    import jax.numpy as jnp\n",
        "    JAX_AVAILABLE = True\n",
        "except ImportError:\n",
        "    import numpy as jnp\n",
        "    JAX_AVAILABLE = False\n",
        "    \n",
        "try:\n",
        "    import klujax\n",
        "    KLUJAX_AVAILABLE = True\n",
        "except ImportError:\n",
        "    KLUJAX_AVAILABLE = False\n",
        "\n",
        "from sax.backends.default import analyze_circuit, evaluate_circuit\n",
        "from sax.backends.additive import analyze_circuit_additive, evaluate_circuit_additive\n",
        "\n",
        "if JAX_AVAILABLE and KLUJAX_AVAILABLE:\n",
        "    from sax.backends.klu import analyze_circuit_klu, evaluate_circuit_klu"
      ]
    },
    {
      "cell_type": "markdown",
      "id": "a39b2084",
      "metadata": {
        "papermill": {
          "duration": 0.002433,
          "end_time": "2023-09-01T15:55:17.015782",
          "exception": false,
          "start_time": "2023-09-01T15:55:17.013349",
          "status": "completed"
        },
        "tags": []
      },
      "source": [
        "#### circuit_backends"
      ]
    },
    {
      "cell_type": "code",
      "execution_count": 4,
      "id": "3109d729a5e04b2a",
      "metadata": {
        "execution": {
          "iopub.execute_input": "2023-09-01T15:55:17.022245Z",
          "iopub.status.busy": "2023-09-01T15:55:17.021626Z",
          "iopub.status.idle": "2023-09-01T15:55:17.025219Z",
          "shell.execute_reply": "2023-09-01T15:55:17.024771Z"
        },
        "papermill": {
          "duration": 0.008387,
          "end_time": "2023-09-01T15:55:17.026636",
          "exception": false,
          "start_time": "2023-09-01T15:55:17.018249",
          "status": "completed"
        },
        "tags": []
      },
      "outputs": [],
      "source": [
        "\n",
        "circuit_backends = {\n",
        "    \"default\": (analyze_circuit, evaluate_circuit),\n",
        "    \"additive\": (analyze_circuit_additive, evaluate_circuit_additive),\n",
        "}\n",
        "\n",
        "if JAX_AVAILABLE and KLUJAX_AVAILABLE:\n",
        "    circuit_backends[\"klu\"] = (analyze_circuit_klu, evaluate_circuit_klu)"
      ]
    },
    {
      "cell_type": "markdown",
      "id": "b23a8349",
      "metadata": {
        "papermill": {
          "duration": 0.002358,
          "end_time": "2023-09-01T15:55:17.031701",
          "exception": false,
          "start_time": "2023-09-01T15:55:17.029343",
          "status": "completed"
        },
        "tags": []
      },
      "source": [
        "SAX allows to easily interchange the backend of a circuit. A SAX backend consists of a static analysis step and an evaluation step:"
      ]
    },
    {
      "cell_type": "code",
      "execution_count": 5,
      "id": "df4f9fe1851114af",
      "metadata": {
        "execution": {
          "iopub.execute_input": "2023-09-01T15:55:17.038196Z",
          "iopub.status.busy": "2023-09-01T15:55:17.037358Z",
          "iopub.status.idle": "2023-09-01T15:55:17.061337Z",
          "shell.execute_reply": "2023-09-01T15:55:17.057777Z"
        },
        "papermill": {
          "duration": 0.029817,
          "end_time": "2023-09-01T15:55:17.063836",
          "exception": false,
          "start_time": "2023-09-01T15:55:17.034019",
          "status": "completed"
        },
        "tags": [
          "remove-input"
        ]
      },
      "outputs": [
        {
          "data": {
            "text/markdown": [
              "<h4 id=\"analyze_circuit\" class=\"doc_header\"><code>analyze_circuit</code><a href=\"https://github.com/flaport/sax/tree/master/sax/backends/default.py#L33\" class=\"source_link\" style=\"float:right\">[source]</a></h4>\n",
              "\n",
              "> <code>analyze_circuit</code>(**`connections`**, **`ports`**)\n",
              "\n"
            ],
            "text/plain": [
              "<IPython.core.display.Markdown object>"
            ]
          },
          "metadata": {},
          "output_type": "display_data"
        },
        {
          "data": {
            "text/markdown": [
              "<h4 id=\"evaluate_circuit\" class=\"doc_header\"><code>evaluate_circuit</code><a href=\"https://github.com/flaport/sax/tree/master/sax/backends/default.py#L39\" class=\"source_link\" style=\"float:right\">[source]</a></h4>\n",
              "\n",
              "> <code>evaluate_circuit</code>(**`analyzed`**, **`instances`**:`Dict[str, SType]`)\n",
              "\n"
            ],
            "text/plain": [
              "<IPython.core.display.Markdown object>"
            ]
          },
          "metadata": {},
          "output_type": "display_data"
        }
      ],
      "source": [
        "from sax.backends.default import evaluate_circuit\n",
        "show_doc(analyze_circuit, doc_string=False)\n",
        "show_doc(evaluate_circuit, doc_string=False)"
      ]
    },
    {
      "cell_type": "markdown",
      "id": "df66e846",
      "metadata": {
        "papermill": {
          "duration": 0.003284,
          "end_time": "2023-09-01T15:55:17.069978",
          "exception": false,
          "start_time": "2023-09-01T15:55:17.066694",
          "status": "completed"
        },
        "tags": []
      },
      "source": [
        "The `analyze_circuit` step should statically analyze the connections and ports and should return an `analyzed` object. This object contains all the static objects that are needed for circuit computation but won't be needed to be recalculated when any parameters of the circuit change.\n",
        "\n",
        "The `evaluate_circuit` step evaluates the circuit for given `SType` instances."
      ]
    },
    {
      "cell_type": "markdown",
      "id": "835a521a",
      "metadata": {
        "papermill": {
          "duration": 0.002629,
          "end_time": "2023-09-01T15:55:17.076807",
          "exception": false,
          "start_time": "2023-09-01T15:55:17.074178",
          "status": "completed"
        },
        "tags": []
      },
      "source": [
        "> Example\n",
        "\n",
        "Let's create an MZI `SDict` using the default backend's `evaluate_circuit`:"
      ]
    },
    {
      "cell_type": "code",
      "execution_count": 6,
      "id": "b1219c35-7673-4887-9f1a-ce3aa0ff4e4d",
      "metadata": {
        "execution": {
          "iopub.execute_input": "2023-09-01T15:55:17.083746Z",
          "iopub.status.busy": "2023-09-01T15:55:17.083262Z",
          "iopub.status.idle": "2023-09-01T15:55:17.966989Z",
          "shell.execute_reply": "2023-09-01T15:55:17.966436Z"
        },
        "papermill": {
          "duration": 0.888978,
          "end_time": "2023-09-01T15:55:17.968376",
          "exception": false,
          "start_time": "2023-09-01T15:55:17.079398",
          "status": "completed"
        },
        "tags": []
      },
      "outputs": [
        {
          "data": {
            "text/plain": [
              "{('in0', 'in0'): Array(0.+0.j, dtype=complex128),\n",
              " ('in0', 'in1'): Array(0.+0.j, dtype=complex128),\n",
              " ('in1', 'in0'): Array(0.+0.j, dtype=complex128),\n",
              " ('in1', 'in1'): Array(0.+0.j, dtype=complex128),\n",
              " ('out0', 'out0'): Array(0.+0.j, dtype=complex128),\n",
              " ('out0', 'out1'): Array(0.+0.j, dtype=complex128),\n",
              " ('out1', 'out0'): Array(0.+0.j, dtype=complex128),\n",
              " ('out1', 'out1'): Array(0.+0.j, dtype=complex128),\n",
              " ('in1', 'out0'): Array(-0.433015+0.75j, dtype=complex128),\n",
              " ('in1', 'out1'): Array(0.25-0.433015j, dtype=complex128),\n",
              " ('in0', 'out0'): Array(-0.25+0.433015j, dtype=complex128),\n",
              " ('in0', 'out1'): Array(-0.433015+0.75j, dtype=complex128),\n",
              " ('out0', 'in1'): Array(-0.433015+0.75j, dtype=complex128),\n",
              " ('out0', 'in0'): Array(-0.25+0.433015j, dtype=complex128),\n",
              " ('out1', 'in1'): Array(0.25-0.433015j, dtype=complex128),\n",
              " ('out1', 'in0'): Array(-0.433015+0.75j, dtype=complex128)}"
            ]
          },
          "metadata": {},
          "output_type": "display_data"
        }
      ],
      "source": [
        "wg_sdict: SDict = {\n",
        "    (\"in0\", \"out0\"): 0.5 + 0.86603j,\n",
        "    (\"out0\", \"in0\"): 0.5 + 0.86603j,\n",
        "}\n",
        "\n",
        "\u03c4, \u03ba = 0.5 ** 0.5, 1j * 0.5 ** 0.5\n",
        "dc_sdense: SDense = (\n",
        "    jnp.array([[0, 0, \u03c4, \u03ba], \n",
        "               [0, 0, \u03ba, \u03c4], \n",
        "               [\u03c4, \u03ba, 0, 0], \n",
        "               [\u03ba, \u03c4, 0, 0]]),\n",
        "    {\"in0\": 0, \"in1\": 1, \"out0\": 2, \"out1\": 3},\n",
        ")\n",
        "\n",
        "instances={\n",
        "    \"dc1\": dc_sdense,\n",
        "    \"wg\": wg_sdict,\n",
        "    \"dc2\": dc_sdense,\n",
        "}\n",
        "connections={\n",
        "    \"dc1,out0\": \"wg,in0\",\n",
        "    \"wg,out0\": \"dc2,in0\",\n",
        "    \"dc1,out1\": \"dc2,in1\",\n",
        "}\n",
        "ports={\n",
        "    \"in0\": \"dc1,in0\",\n",
        "    \"in1\": \"dc1,in1\",\n",
        "    \"out0\": \"dc2,out0\",\n",
        "    \"out1\": \"dc2,out1\",\n",
        "}\n",
        "\n",
        "analyzed = analyze_circuit(connections, ports)\n",
        "mzi_sdict = evaluate_circuit(analyzed, instances)\n",
        "display(mzi_sdict)"
      ]
    },
    {
      "cell_type": "code",
      "execution_count": 7,
      "id": "69525c7b-acb7-4f05-82ec-c404cf80d02a",
      "metadata": {
        "execution": {
          "iopub.execute_input": "2023-09-01T15:55:18.014515Z",
          "iopub.status.busy": "2023-09-01T15:55:18.013815Z",
          "iopub.status.idle": "2023-09-01T15:55:18.055399Z",
          "shell.execute_reply": "2023-09-01T15:55:18.054834Z"
        },
        "papermill": {
          "duration": 0.085804,
          "end_time": "2023-09-01T15:55:18.057133",
          "exception": false,
          "start_time": "2023-09-01T15:55:17.971329",
          "status": "completed"
        },
        "tags": []
      },
      "outputs": [
        {
          "data": {
            "text/plain": [
              "{('in0', 'in0'): Array(0.+0.j, dtype=complex128),\n",
              " ('in0', 'in1'): Array(0.+0.j, dtype=complex128),\n",
              " ('in1', 'in0'): Array(0.+0.j, dtype=complex128),\n",
              " ('in1', 'in1'): Array(0.+0.j, dtype=complex128),\n",
              " ('out0', 'out0'): Array(0.+0.j, dtype=complex128),\n",
              " ('out0', 'out1'): Array(0.+0.j, dtype=complex128),\n",
              " ('out1', 'out0'): Array(0.+0.j, dtype=complex128),\n",
              " ('out1', 'out1'): Array(0.+0.j, dtype=complex128),\n",
              " ('in1', 'out0'): Array(-0.433015+0.75j, dtype=complex128),\n",
              " ('in1', 'out1'): Array(0.25-0.433015j, dtype=complex128),\n",
              " ('in0', 'out0'): Array(-0.25+0.433015j, dtype=complex128),\n",
              " ('in0', 'out1'): Array(-0.433015+0.75j, dtype=complex128),\n",
              " ('out0', 'in1'): Array(-0.433015+0.75j, dtype=complex128),\n",
              " ('out0', 'in0'): Array(-0.25+0.433015j, dtype=complex128),\n",
              " ('out1', 'in1'): Array(0.25-0.433015j, dtype=complex128),\n",
              " ('out1', 'in0'): Array(-0.433015+0.75j, dtype=complex128)}"
            ]
          },
          "metadata": {},
          "output_type": "display_data"
        }
      ],
      "source": [
        "analyzed = analyze_circuit(connections, ports)\n",
        "mzi_sdict_klu = sdict(evaluate_circuit(analyzed, instances))\n",
        "display(mzi_sdict_klu)"
      ]
    },
    {
      "cell_type": "code",
      "execution_count": 8,
      "id": "5c061d4cf4c823d7",
      "metadata": {
        "execution": {
          "iopub.execute_input": "2023-09-01T15:55:18.064647Z",
          "iopub.status.busy": "2023-09-01T15:55:18.064119Z",
          "iopub.status.idle": "2023-09-01T15:55:18.099413Z",
          "shell.execute_reply": "2023-09-01T15:55:18.098782Z"
        },
        "papermill": {
          "duration": 0.040961,
          "end_time": "2023-09-01T15:55:18.101198",
          "exception": false,
          "start_time": "2023-09-01T15:55:18.060237",
          "status": "completed"
        },
        "tags": [
          "remove-cell"
        ]
      },
      "outputs": [
        {
          "name": "stdout",
          "output_type": "stream",
          "text": [
            "('in0', 'in0') 0.0\n",
            "('in0', 'in1') 0.0\n",
            "('in1', 'in0') 0.0\n",
            "('in1', 'in1') 0.0\n",
            "('out0', 'out0') 0.0\n",
            "('out0', 'out1') 0.0\n",
            "('out1', 'out0') 0.0\n",
            "('out1', 'out1') 0.0\n",
            "('in1', 'out0') 0.0\n",
            "('in1', 'out1') 0.0\n",
            "('in0', 'out0') 0.0\n",
            "('in0', 'out1') 0.0\n",
            "('out0', 'in1') 0.0\n",
            "('out0', 'in0') 0.0\n",
            "('out1', 'in1') 0.0\n",
            "('out1', 'in0') 0.0\n"
          ]
        }
      ],
      "source": [
        "for k in mzi_sdict:\n",
        "    print(k, abs(mzi_sdict[k]-mzi_sdict_klu[k]))"
      ]
    }
  ],
  "metadata": {
    "kernelspec": {
      "display_name": "sax",
      "language": "python",
      "name": "sax"
    },
    "language_info": {
      "codemirror_mode": {
        "name": "ipython",
        "version": 3
      },
      "file_extension": ".py",
      "mimetype": "text/x-python",
      "name": "python",
      "nbconvert_exporter": "python",
      "pygments_lexer": "ipython3",
      "version": "3.11.5"
    },
    "papermill": {
      "default_parameters": {},
      "duration": 4.773691,
      "end_time": "2023-09-01T15:55:18.725351",
      "environment_variables": {},
      "exception": null,
      "input_path": "./nbs/08_backends.ipynb",
      "output_path": "./nbs/08_backends.ipynb",
      "parameters": {},
      "start_time": "2023-09-01T15:55:13.951660",
      "version": "2.4.0"
    }
  },
  "nbformat": 4,
  "nbformat_minor": 5
}