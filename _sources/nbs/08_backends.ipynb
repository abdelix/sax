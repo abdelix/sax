{
  "cells": [
    {
      "cell_type": "code",
      "execution_count": 1,
      "id": "d3d34115e587875b",
      "metadata": {
        "execution": {
          "iopub.execute_input": "2023-06-01T21:10:20.795892Z",
          "iopub.status.busy": "2023-06-01T21:10:20.795416Z",
          "iopub.status.idle": "2023-06-01T21:10:20.799342Z",
          "shell.execute_reply": "2023-06-01T21:10:20.798860Z"
        },
        "papermill": {
          "duration": 0.009165,
          "end_time": "2023-06-01T21:10:20.800723",
          "exception": false,
          "start_time": "2023-06-01T21:10:20.791558",
          "status": "completed"
        },
        "tags": [
          "remove-cell"
        ]
      },
      "outputs": [],
      "source": []
    },
    {
      "cell_type": "markdown",
      "id": "079604be",
      "metadata": {
        "papermill": {
          "duration": 0.002907,
          "end_time": "2023-06-01T21:10:20.805507",
          "exception": false,
          "start_time": "2023-06-01T21:10:20.802600",
          "status": "completed"
        },
        "tags": []
      },
      "source": [
        "# Backend\n",
        "\n",
        "> SAX Backends"
      ]
    },
    {
      "cell_type": "code",
      "execution_count": 2,
      "id": "815aeea70763d21d",
      "metadata": {
        "execution": {
          "iopub.execute_input": "2023-06-01T21:10:20.809645Z",
          "iopub.status.busy": "2023-06-01T21:10:20.809456Z",
          "iopub.status.idle": "2023-06-01T21:10:22.066199Z",
          "shell.execute_reply": "2023-06-01T21:10:22.065743Z"
        },
        "papermill": {
          "duration": 1.26057,
          "end_time": "2023-06-01T21:10:22.067672",
          "exception": false,
          "start_time": "2023-06-01T21:10:20.807102",
          "status": "completed"
        },
        "tags": [
          "remove-cell"
        ]
      },
      "outputs": [],
      "source": [
        "import jax.numpy as jnp\n",
        "from nbdev import show_doc\n",
        "from sax.typing_ import SDense, SDict\n",
        "\n",
        "import os, sys; sys.stderr = open(os.devnull, \"w\")"
      ]
    },
    {
      "cell_type": "code",
      "execution_count": 3,
      "id": "955d06da4377e65f",
      "metadata": {
        "execution": {
          "iopub.execute_input": "2023-06-01T21:10:22.080738Z",
          "iopub.status.busy": "2023-06-01T21:10:22.079509Z",
          "iopub.status.idle": "2023-06-01T21:10:22.084686Z",
          "shell.execute_reply": "2023-06-01T21:10:22.084337Z"
        },
        "papermill": {
          "duration": 0.016406,
          "end_time": "2023-06-01T21:10:22.086017",
          "exception": false,
          "start_time": "2023-06-01T21:10:22.069611",
          "status": "completed"
        },
        "tags": [
          "remove-cell"
        ]
      },
      "outputs": [],
      "source": [
        "from __future__ import annotations\n",
        "\n",
        "try:\n",
        "    import jax\n",
        "    JAX_AVAILABLE = True\n",
        "except ImportError:\n",
        "    JAX_AVAILABLE = False\n",
        "    \n",
        "try:\n",
        "    import klujax\n",
        "    KLUJAX_AVAILABLE = True\n",
        "except ImportError:\n",
        "    KLUJAX_AVAILABLE = False\n",
        "\n",
        "from sax.backends.default import evaluate_circuit\n",
        "from sax.backends.klu import evaluate_circuit_klu\n",
        "from sax.backends.additive import evaluate_circuit_additive"
      ]
    },
    {
      "cell_type": "markdown",
      "id": "a39b2084",
      "metadata": {
        "papermill": {
          "duration": 0.001888,
          "end_time": "2023-06-01T21:10:22.089631",
          "exception": false,
          "start_time": "2023-06-01T21:10:22.087743",
          "status": "completed"
        },
        "tags": []
      },
      "source": [
        "#### circuit_backends"
      ]
    },
    {
      "cell_type": "code",
      "execution_count": 4,
      "id": "d0a271c3110e7bca",
      "metadata": {
        "execution": {
          "iopub.execute_input": "2023-06-01T21:10:22.093990Z",
          "iopub.status.busy": "2023-06-01T21:10:22.093783Z",
          "iopub.status.idle": "2023-06-01T21:10:22.096645Z",
          "shell.execute_reply": "2023-06-01T21:10:22.096264Z"
        },
        "papermill": {
          "duration": 0.007038,
          "end_time": "2023-06-01T21:10:22.098413",
          "exception": false,
          "start_time": "2023-06-01T21:10:22.091375",
          "status": "completed"
        },
        "tags": []
      },
      "outputs": [],
      "source": [
        "\n",
        "circuit_backends = {\n",
        "    \"default\": evaluate_circuit,\n",
        "    \"klu\": evaluate_circuit_klu,\n",
        "    \"additive\": evaluate_circuit_additive,\n",
        "}\n",
        "\n",
        "if (not JAX_AVAILABLE) or (not KLUJAX_AVAILABLE):\n",
        "    del circuit_backends[\"klu\"]"
      ]
    },
    {
      "cell_type": "markdown",
      "id": "b23a8349",
      "metadata": {
        "papermill": {
          "duration": 0.00161,
          "end_time": "2023-06-01T21:10:22.101681",
          "exception": false,
          "start_time": "2023-06-01T21:10:22.100071",
          "status": "completed"
        },
        "tags": []
      },
      "source": [
        "SAX allows to easily interchange the backend of a circuit. A SAX backend needs to have the following signature:"
      ]
    },
    {
      "cell_type": "code",
      "execution_count": 5,
      "id": "290d94c112557d28",
      "metadata": {
        "execution": {
          "iopub.execute_input": "2023-06-01T21:10:22.105925Z",
          "iopub.status.busy": "2023-06-01T21:10:22.105733Z",
          "iopub.status.idle": "2023-06-01T21:10:22.121727Z",
          "shell.execute_reply": "2023-06-01T21:10:22.121349Z"
        },
        "papermill": {
          "duration": 0.019752,
          "end_time": "2023-06-01T21:10:22.123121",
          "exception": false,
          "start_time": "2023-06-01T21:10:22.103369",
          "status": "completed"
        },
        "tags": [
          "remove-input"
        ]
      },
      "outputs": [
        {
          "data": {
            "text/markdown": [
              "<h4 id=\"evaluate_circuit\" class=\"doc_header\"><code>evaluate_circuit</code><a href=\"https://github.com/flaport/sax/tree/master/sax/backends/default.py#L33\" class=\"source_link\" style=\"float:right\">[source]</a></h4>\n",
              "\n",
              "> <code>evaluate_circuit</code>(**`instances`**:`Dict[str, SType]`, **`connections`**:`Dict[str, str]`, **`ports`**:`Dict[str, str]`)\n",
              "\n"
            ],
            "text/plain": [
              "<IPython.core.display.Markdown object>"
            ]
          },
          "metadata": {},
          "output_type": "display_data"
        }
      ],
      "source": [
        "from sax.backends.default import evaluate_circuit\n",
        "show_doc(evaluate_circuit, doc_string=False)"
      ]
    },
    {
      "cell_type": "markdown",
      "id": "df66e846",
      "metadata": {
        "papermill": {
          "duration": 0.001878,
          "end_time": "2023-06-01T21:10:22.127032",
          "exception": false,
          "start_time": "2023-06-01T21:10:22.125154",
          "status": "completed"
        },
        "tags": []
      },
      "source": [
        "i.e. it takes a dictionary of instance names pointing to `SType`s (usually `SDict`s), a connection dictionary and an (output) ports dictionary. Internally it must construct the output `SType` (usually output `SDict`)."
      ]
    },
    {
      "cell_type": "markdown",
      "id": "835a521a",
      "metadata": {
        "papermill": {
          "duration": 0.001788,
          "end_time": "2023-06-01T21:10:22.130822",
          "exception": false,
          "start_time": "2023-06-01T21:10:22.129034",
          "status": "completed"
        },
        "tags": []
      },
      "source": [
        "> Example\n",
        "\n",
        "Let's create an MZI `SDict` using the default backend's `evaluate_circuit`:"
      ]
    },
    {
      "cell_type": "code",
      "execution_count": 6,
      "id": "8a22955d",
      "metadata": {
        "execution": {
          "iopub.execute_input": "2023-06-01T21:10:22.135497Z",
          "iopub.status.busy": "2023-06-01T21:10:22.135272Z",
          "iopub.status.idle": "2023-06-01T21:10:22.918698Z",
          "shell.execute_reply": "2023-06-01T21:10:22.918271Z"
        },
        "papermill": {
          "duration": 0.78757,
          "end_time": "2023-06-01T21:10:22.920158",
          "exception": false,
          "start_time": "2023-06-01T21:10:22.132588",
          "status": "completed"
        },
        "tags": []
      },
      "outputs": [
        {
          "data": {
            "text/plain": [
              "{('in0', 'in0'): Array(0.+0.j, dtype=complex64),\n",
              " ('in0', 'in1'): Array(0.+0.j, dtype=complex64),\n",
              " ('in1', 'in0'): Array(0.+0.j, dtype=complex64),\n",
              " ('in1', 'in1'): Array(0.+0.j, dtype=complex64),\n",
              " ('out0', 'out0'): Array(0.+0.j, dtype=complex64),\n",
              " ('out0', 'out1'): Array(0.+0.j, dtype=complex64),\n",
              " ('out1', 'out0'): Array(0.+0.j, dtype=complex64),\n",
              " ('out1', 'out1'): Array(0.+0.j, dtype=complex64),\n",
              " ('in0', 'out1'): Array(-0.433015+0.74999994j, dtype=complex64),\n",
              " ('in0', 'out0'): Array(-0.24999999+0.433015j, dtype=complex64),\n",
              " ('in1', 'out1'): Array(0.24999999-0.433015j, dtype=complex64),\n",
              " ('in1', 'out0'): Array(-0.433015+0.74999994j, dtype=complex64),\n",
              " ('out1', 'in0'): Array(-0.433015+0.74999994j, dtype=complex64),\n",
              " ('out1', 'in1'): Array(0.24999999-0.433015j, dtype=complex64),\n",
              " ('out0', 'in0'): Array(-0.24999999+0.433015j, dtype=complex64),\n",
              " ('out0', 'in1'): Array(-0.433015+0.74999994j, dtype=complex64)}"
            ]
          },
          "execution_count": 6,
          "metadata": {},
          "output_type": "execute_result"
        }
      ],
      "source": [
        "wg_sdict: SDict = {\n",
        "    (\"in0\", \"out0\"): 0.5 + 0.86603j,\n",
        "    (\"out0\", \"in0\"): 0.5 + 0.86603j,\n",
        "}\n",
        "\n",
        "\u03c4, \u03ba = 0.5 ** 0.5, 1j * 0.5 ** 0.5\n",
        "dc_sdense: SDense = (\n",
        "    jnp.array([[0, 0, \u03c4, \u03ba], \n",
        "               [0, 0, \u03ba, \u03c4], \n",
        "               [\u03c4, \u03ba, 0, 0], \n",
        "               [\u03ba, \u03c4, 0, 0]]),\n",
        "    {\"in0\": 0, \"in1\": 1, \"out0\": 2, \"out1\": 3},\n",
        ")\n",
        "\n",
        "mzi_sdict: SDict = evaluate_circuit(\n",
        "    instances={\n",
        "        \"dc1\": dc_sdense,\n",
        "        \"wg\": wg_sdict,\n",
        "        \"dc2\": dc_sdense,\n",
        "    },\n",
        "    connections={\n",
        "        \"dc1,out0\": \"wg,in0\",\n",
        "        \"wg,out0\": \"dc2,in0\",\n",
        "        \"dc1,out1\": \"dc2,in1\",\n",
        "    },\n",
        "    ports={\n",
        "        \"in0\": \"dc1,in0\",\n",
        "        \"in1\": \"dc1,in1\",\n",
        "        \"out0\": \"dc2,out0\",\n",
        "        \"out1\": \"dc2,out1\",\n",
        "    }\n",
        ")\n",
        "\n",
        "mzi_sdict"
      ]
    }
  ],
  "metadata": {
    "kernelspec": {
      "display_name": "sax",
      "language": "python",
      "name": "sax"
    },
    "language_info": {
      "codemirror_mode": {
        "name": "ipython",
        "version": 3
      },
      "file_extension": ".py",
      "mimetype": "text/x-python",
      "name": "python",
      "nbconvert_exporter": "python",
      "pygments_lexer": "ipython3",
      "version": "3.11.3"
    },
    "papermill": {
      "default_parameters": {},
      "duration": 4.061675,
      "end_time": "2023-06-01T21:10:23.441854",
      "environment_variables": {},
      "exception": null,
      "input_path": "./nbs/08_backends.ipynb",
      "output_path": "./nbs/08_backends.ipynb",
      "parameters": {},
      "start_time": "2023-06-01T21:10:19.380179",
      "version": "2.3.4"
    }
  },
  "nbformat": 4,
  "nbformat_minor": 5
}