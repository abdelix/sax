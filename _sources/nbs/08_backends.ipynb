{
  "cells": [
    {
      "cell_type": "code",
      "execution_count": 1,
      "id": "895e4c7061c068df",
      "metadata": {
        "execution": {
          "iopub.execute_input": "2023-07-01T03:32:17.210586Z",
          "iopub.status.busy": "2023-07-01T03:32:17.210350Z",
          "iopub.status.idle": "2023-07-01T03:32:17.214771Z",
          "shell.execute_reply": "2023-07-01T03:32:17.214266Z"
        },
        "papermill": {
          "duration": 0.009124,
          "end_time": "2023-07-01T03:32:17.216293",
          "exception": false,
          "start_time": "2023-07-01T03:32:17.207169",
          "status": "completed"
        },
        "tags": [
          "remove-cell"
        ]
      },
      "outputs": [],
      "source": []
    },
    {
      "cell_type": "markdown",
      "id": "079604be",
      "metadata": {
        "papermill": {
          "duration": 0.001603,
          "end_time": "2023-07-01T03:32:17.220015",
          "exception": false,
          "start_time": "2023-07-01T03:32:17.218412",
          "status": "completed"
        },
        "tags": []
      },
      "source": [
        "# Backend\n",
        "\n",
        "> SAX Backends"
      ]
    },
    {
      "cell_type": "code",
      "execution_count": 2,
      "id": "0bc191f9abb55b99",
      "metadata": {
        "execution": {
          "iopub.execute_input": "2023-07-01T03:32:17.227332Z",
          "iopub.status.busy": "2023-07-01T03:32:17.227142Z",
          "iopub.status.idle": "2023-07-01T03:32:18.813661Z",
          "shell.execute_reply": "2023-07-01T03:32:18.813226Z"
        },
        "papermill": {
          "duration": 1.592775,
          "end_time": "2023-07-01T03:32:18.815376",
          "exception": false,
          "start_time": "2023-07-01T03:32:17.222601",
          "status": "completed"
        },
        "tags": [
          "remove-cell"
        ]
      },
      "outputs": [],
      "source": [
        "import jax.numpy as jnp\n",
        "from nbdev import show_doc\n",
        "from sax.typing_ import SDense, SDict\n",
        "\n",
        "import os, sys; sys.stderr = open(os.devnull, \"w\")"
      ]
    },
    {
      "cell_type": "code",
      "execution_count": 3,
      "id": "1eeeb094a4ea4fd5",
      "metadata": {
        "execution": {
          "iopub.execute_input": "2023-07-01T03:32:18.821527Z",
          "iopub.status.busy": "2023-07-01T03:32:18.820414Z",
          "iopub.status.idle": "2023-07-01T03:32:18.825359Z",
          "shell.execute_reply": "2023-07-01T03:32:18.825007Z"
        },
        "papermill": {
          "duration": 0.009383,
          "end_time": "2023-07-01T03:32:18.826736",
          "exception": false,
          "start_time": "2023-07-01T03:32:18.817353",
          "status": "completed"
        },
        "tags": [
          "remove-cell"
        ]
      },
      "outputs": [],
      "source": [
        "from __future__ import annotations\n",
        "\n",
        "try:\n",
        "    import jax\n",
        "    JAX_AVAILABLE = True\n",
        "except ImportError:\n",
        "    JAX_AVAILABLE = False\n",
        "    \n",
        "try:\n",
        "    import klujax\n",
        "    KLUJAX_AVAILABLE = True\n",
        "except ImportError:\n",
        "    KLUJAX_AVAILABLE = False\n",
        "\n",
        "from sax.backends.default import evaluate_circuit\n",
        "from sax.backends.klu import evaluate_circuit_klu\n",
        "from sax.backends.additive import evaluate_circuit_additive"
      ]
    },
    {
      "cell_type": "markdown",
      "id": "a39b2084",
      "metadata": {
        "papermill": {
          "duration": 0.002508,
          "end_time": "2023-07-01T03:32:18.831031",
          "exception": false,
          "start_time": "2023-07-01T03:32:18.828523",
          "status": "completed"
        },
        "tags": []
      },
      "source": [
        "#### circuit_backends"
      ]
    },
    {
      "cell_type": "code",
      "execution_count": 4,
      "id": "46bd681221144441",
      "metadata": {
        "execution": {
          "iopub.execute_input": "2023-07-01T03:32:18.837219Z",
          "iopub.status.busy": "2023-07-01T03:32:18.837008Z",
          "iopub.status.idle": "2023-07-01T03:32:18.840300Z",
          "shell.execute_reply": "2023-07-01T03:32:18.839910Z"
        },
        "papermill": {
          "duration": 0.008287,
          "end_time": "2023-07-01T03:32:18.842076",
          "exception": false,
          "start_time": "2023-07-01T03:32:18.833789",
          "status": "completed"
        },
        "tags": []
      },
      "outputs": [],
      "source": [
        "\n",
        "circuit_backends = {\n",
        "    \"default\": evaluate_circuit,\n",
        "    \"klu\": evaluate_circuit_klu,\n",
        "    \"additive\": evaluate_circuit_additive,\n",
        "}\n",
        "\n",
        "if (not JAX_AVAILABLE) or (not KLUJAX_AVAILABLE):\n",
        "    del circuit_backends[\"klu\"]"
      ]
    },
    {
      "cell_type": "markdown",
      "id": "b23a8349",
      "metadata": {
        "papermill": {
          "duration": 0.001616,
          "end_time": "2023-07-01T03:32:18.845441",
          "exception": false,
          "start_time": "2023-07-01T03:32:18.843825",
          "status": "completed"
        },
        "tags": []
      },
      "source": [
        "SAX allows to easily interchange the backend of a circuit. A SAX backend needs to have the following signature:"
      ]
    },
    {
      "cell_type": "code",
      "execution_count": 5,
      "id": "9d95dac6845eec08",
      "metadata": {
        "execution": {
          "iopub.execute_input": "2023-07-01T03:32:18.849823Z",
          "iopub.status.busy": "2023-07-01T03:32:18.849624Z",
          "iopub.status.idle": "2023-07-01T03:32:18.865771Z",
          "shell.execute_reply": "2023-07-01T03:32:18.865339Z"
        },
        "papermill": {
          "duration": 0.020019,
          "end_time": "2023-07-01T03:32:18.867157",
          "exception": false,
          "start_time": "2023-07-01T03:32:18.847138",
          "status": "completed"
        },
        "tags": [
          "remove-input"
        ]
      },
      "outputs": [
        {
          "data": {
            "text/markdown": [
              "<h4 id=\"evaluate_circuit\" class=\"doc_header\"><code>evaluate_circuit</code><a href=\"https://github.com/flaport/sax/tree/master/sax/backends/default.py#L33\" class=\"source_link\" style=\"float:right\">[source]</a></h4>\n",
              "\n",
              "> <code>evaluate_circuit</code>(**`instances`**:`Dict[str, SType]`, **`connections`**:`Dict[str, str]`, **`ports`**:`Dict[str, str]`)\n",
              "\n"
            ],
            "text/plain": [
              "<IPython.core.display.Markdown object>"
            ]
          },
          "metadata": {},
          "output_type": "display_data"
        }
      ],
      "source": [
        "from sax.backends.default import evaluate_circuit\n",
        "show_doc(evaluate_circuit, doc_string=False)"
      ]
    },
    {
      "cell_type": "markdown",
      "id": "df66e846",
      "metadata": {
        "papermill": {
          "duration": 0.001948,
          "end_time": "2023-07-01T03:32:18.871056",
          "exception": false,
          "start_time": "2023-07-01T03:32:18.869108",
          "status": "completed"
        },
        "tags": []
      },
      "source": [
        "i.e. it takes a dictionary of instance names pointing to `SType`s (usually `SDict`s), a connection dictionary and an (output) ports dictionary. Internally it must construct the output `SType` (usually output `SDict`)."
      ]
    },
    {
      "cell_type": "markdown",
      "id": "835a521a",
      "metadata": {
        "papermill": {
          "duration": 0.001859,
          "end_time": "2023-07-01T03:32:18.875000",
          "exception": false,
          "start_time": "2023-07-01T03:32:18.873141",
          "status": "completed"
        },
        "tags": []
      },
      "source": [
        "> Example\n",
        "\n",
        "Let's create an MZI `SDict` using the default backend's `evaluate_circuit`:"
      ]
    },
    {
      "cell_type": "code",
      "execution_count": 6,
      "id": "8a22955d",
      "metadata": {
        "execution": {
          "iopub.execute_input": "2023-07-01T03:32:18.879696Z",
          "iopub.status.busy": "2023-07-01T03:32:18.879492Z",
          "iopub.status.idle": "2023-07-01T03:32:20.170889Z",
          "shell.execute_reply": "2023-07-01T03:32:20.170459Z"
        },
        "papermill": {
          "duration": 1.295536,
          "end_time": "2023-07-01T03:32:20.172350",
          "exception": false,
          "start_time": "2023-07-01T03:32:18.876814",
          "status": "completed"
        },
        "tags": []
      },
      "outputs": [
        {
          "data": {
            "text/plain": [
              "{('in0', 'in0'): Array(0.+0.j, dtype=complex64),\n",
              " ('in0', 'in1'): Array(0.+0.j, dtype=complex64),\n",
              " ('in1', 'in0'): Array(0.+0.j, dtype=complex64),\n",
              " ('in1', 'in1'): Array(0.+0.j, dtype=complex64),\n",
              " ('out0', 'out0'): Array(0.+0.j, dtype=complex64),\n",
              " ('out0', 'out1'): Array(0.+0.j, dtype=complex64),\n",
              " ('out1', 'out0'): Array(0.+0.j, dtype=complex64),\n",
              " ('out1', 'out1'): Array(0.+0.j, dtype=complex64),\n",
              " ('in1', 'out0'): Array(-0.433015+0.74999994j, dtype=complex64),\n",
              " ('in1', 'out1'): Array(0.24999999-0.433015j, dtype=complex64),\n",
              " ('in0', 'out0'): Array(-0.24999999+0.433015j, dtype=complex64),\n",
              " ('in0', 'out1'): Array(-0.433015+0.74999994j, dtype=complex64),\n",
              " ('out0', 'in1'): Array(-0.433015+0.74999994j, dtype=complex64),\n",
              " ('out0', 'in0'): Array(-0.24999999+0.433015j, dtype=complex64),\n",
              " ('out1', 'in1'): Array(0.24999999-0.433015j, dtype=complex64),\n",
              " ('out1', 'in0'): Array(-0.433015+0.74999994j, dtype=complex64)}"
            ]
          },
          "execution_count": 6,
          "metadata": {},
          "output_type": "execute_result"
        }
      ],
      "source": [
        "wg_sdict: SDict = {\n",
        "    (\"in0\", \"out0\"): 0.5 + 0.86603j,\n",
        "    (\"out0\", \"in0\"): 0.5 + 0.86603j,\n",
        "}\n",
        "\n",
        "\u03c4, \u03ba = 0.5 ** 0.5, 1j * 0.5 ** 0.5\n",
        "dc_sdense: SDense = (\n",
        "    jnp.array([[0, 0, \u03c4, \u03ba], \n",
        "               [0, 0, \u03ba, \u03c4], \n",
        "               [\u03c4, \u03ba, 0, 0], \n",
        "               [\u03ba, \u03c4, 0, 0]]),\n",
        "    {\"in0\": 0, \"in1\": 1, \"out0\": 2, \"out1\": 3},\n",
        ")\n",
        "\n",
        "mzi_sdict: SDict = evaluate_circuit(\n",
        "    instances={\n",
        "        \"dc1\": dc_sdense,\n",
        "        \"wg\": wg_sdict,\n",
        "        \"dc2\": dc_sdense,\n",
        "    },\n",
        "    connections={\n",
        "        \"dc1,out0\": \"wg,in0\",\n",
        "        \"wg,out0\": \"dc2,in0\",\n",
        "        \"dc1,out1\": \"dc2,in1\",\n",
        "    },\n",
        "    ports={\n",
        "        \"in0\": \"dc1,in0\",\n",
        "        \"in1\": \"dc1,in1\",\n",
        "        \"out0\": \"dc2,out0\",\n",
        "        \"out1\": \"dc2,out1\",\n",
        "    }\n",
        ")\n",
        "\n",
        "mzi_sdict"
      ]
    }
  ],
  "metadata": {
    "kernelspec": {
      "display_name": "sax",
      "language": "python",
      "name": "sax"
    },
    "language_info": {
      "codemirror_mode": {
        "name": "ipython",
        "version": 3
      },
      "file_extension": ".py",
      "mimetype": "text/x-python",
      "name": "python",
      "nbconvert_exporter": "python",
      "pygments_lexer": "ipython3",
      "version": "3.11.4"
    },
    "papermill": {
      "default_parameters": {},
      "duration": 5.004686,
      "end_time": "2023-07-01T03:32:20.794840",
      "environment_variables": {},
      "exception": null,
      "input_path": "./nbs/08_backends.ipynb",
      "output_path": "./nbs/08_backends.ipynb",
      "parameters": {},
      "start_time": "2023-07-01T03:32:15.790154",
      "version": "2.3.4"
    }
  },
  "nbformat": 4,
  "nbformat_minor": 5
}