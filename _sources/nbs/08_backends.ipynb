{
  "cells": [
    {
      "cell_type": "code",
      "execution_count": 1,
      "id": "3483043928d2d9f9",
      "metadata": {
        "execution": {
          "iopub.execute_input": "2023-07-01T03:32:44.151088Z",
          "iopub.status.busy": "2023-07-01T03:32:44.150837Z",
          "iopub.status.idle": "2023-07-01T03:32:44.154110Z",
          "shell.execute_reply": "2023-07-01T03:32:44.153602Z"
        },
        "papermill": {
          "duration": 0.007839,
          "end_time": "2023-07-01T03:32:44.155396",
          "exception": false,
          "start_time": "2023-07-01T03:32:44.147557",
          "status": "completed"
        },
        "tags": [
          "remove-cell"
        ]
      },
      "outputs": [],
      "source": []
    },
    {
      "cell_type": "markdown",
      "id": "079604be",
      "metadata": {
        "papermill": {
          "duration": 0.001676,
          "end_time": "2023-07-01T03:32:44.159089",
          "exception": false,
          "start_time": "2023-07-01T03:32:44.157413",
          "status": "completed"
        },
        "tags": []
      },
      "source": [
        "# Backend\n",
        "\n",
        "> SAX Backends"
      ]
    },
    {
      "cell_type": "code",
      "execution_count": 2,
      "id": "5c2d222bce38a2bf",
      "metadata": {
        "execution": {
          "iopub.execute_input": "2023-07-01T03:32:44.165417Z",
          "iopub.status.busy": "2023-07-01T03:32:44.165231Z",
          "iopub.status.idle": "2023-07-01T03:32:45.732326Z",
          "shell.execute_reply": "2023-07-01T03:32:45.731784Z"
        },
        "papermill": {
          "duration": 1.571357,
          "end_time": "2023-07-01T03:32:45.734264",
          "exception": false,
          "start_time": "2023-07-01T03:32:44.162907",
          "status": "completed"
        },
        "tags": [
          "remove-cell"
        ]
      },
      "outputs": [],
      "source": [
        "import jax.numpy as jnp\n",
        "from nbdev import show_doc\n",
        "from sax.typing_ import SDense, SDict\n",
        "\n",
        "import os, sys; sys.stderr = open(os.devnull, \"w\")"
      ]
    },
    {
      "cell_type": "code",
      "execution_count": 3,
      "id": "27e41bac14a78f68",
      "metadata": {
        "execution": {
          "iopub.execute_input": "2023-07-01T03:32:45.739294Z",
          "iopub.status.busy": "2023-07-01T03:32:45.738864Z",
          "iopub.status.idle": "2023-07-01T03:32:45.742818Z",
          "shell.execute_reply": "2023-07-01T03:32:45.742386Z"
        },
        "papermill": {
          "duration": 0.007973,
          "end_time": "2023-07-01T03:32:45.744246",
          "exception": false,
          "start_time": "2023-07-01T03:32:45.736273",
          "status": "completed"
        },
        "tags": [
          "remove-cell"
        ]
      },
      "outputs": [],
      "source": [
        "from __future__ import annotations\n",
        "\n",
        "try:\n",
        "    import jax\n",
        "    JAX_AVAILABLE = True\n",
        "except ImportError:\n",
        "    JAX_AVAILABLE = False\n",
        "    \n",
        "try:\n",
        "    import klujax\n",
        "    KLUJAX_AVAILABLE = True\n",
        "except ImportError:\n",
        "    KLUJAX_AVAILABLE = False\n",
        "\n",
        "from sax.backends.default import evaluate_circuit\n",
        "from sax.backends.klu import evaluate_circuit_klu\n",
        "from sax.backends.additive import evaluate_circuit_additive"
      ]
    },
    {
      "cell_type": "markdown",
      "id": "a39b2084",
      "metadata": {
        "papermill": {
          "duration": 0.001666,
          "end_time": "2023-07-01T03:32:45.747640",
          "exception": false,
          "start_time": "2023-07-01T03:32:45.745974",
          "status": "completed"
        },
        "tags": []
      },
      "source": [
        "#### circuit_backends"
      ]
    },
    {
      "cell_type": "code",
      "execution_count": 4,
      "id": "f178cf3292968140",
      "metadata": {
        "execution": {
          "iopub.execute_input": "2023-07-01T03:32:45.754403Z",
          "iopub.status.busy": "2023-07-01T03:32:45.754037Z",
          "iopub.status.idle": "2023-07-01T03:32:45.756963Z",
          "shell.execute_reply": "2023-07-01T03:32:45.756526Z"
        },
        "papermill": {
          "duration": 0.009899,
          "end_time": "2023-07-01T03:32:45.760062",
          "exception": false,
          "start_time": "2023-07-01T03:32:45.750163",
          "status": "completed"
        },
        "tags": []
      },
      "outputs": [],
      "source": [
        "\n",
        "circuit_backends = {\n",
        "    \"default\": evaluate_circuit,\n",
        "    \"klu\": evaluate_circuit_klu,\n",
        "    \"additive\": evaluate_circuit_additive,\n",
        "}\n",
        "\n",
        "if (not JAX_AVAILABLE) or (not KLUJAX_AVAILABLE):\n",
        "    del circuit_backends[\"klu\"]"
      ]
    },
    {
      "cell_type": "markdown",
      "id": "b23a8349",
      "metadata": {
        "papermill": {
          "duration": 0.003757,
          "end_time": "2023-07-01T03:32:45.765503",
          "exception": false,
          "start_time": "2023-07-01T03:32:45.761746",
          "status": "completed"
        },
        "tags": []
      },
      "source": [
        "SAX allows to easily interchange the backend of a circuit. A SAX backend needs to have the following signature:"
      ]
    },
    {
      "cell_type": "code",
      "execution_count": 5,
      "id": "8bc8ed6942e2e1de",
      "metadata": {
        "execution": {
          "iopub.execute_input": "2023-07-01T03:32:45.775426Z",
          "iopub.status.busy": "2023-07-01T03:32:45.775108Z",
          "iopub.status.idle": "2023-07-01T03:32:45.793135Z",
          "shell.execute_reply": "2023-07-01T03:32:45.792337Z"
        },
        "papermill": {
          "duration": 0.023834,
          "end_time": "2023-07-01T03:32:45.794559",
          "exception": false,
          "start_time": "2023-07-01T03:32:45.770725",
          "status": "completed"
        },
        "tags": [
          "remove-input"
        ]
      },
      "outputs": [
        {
          "data": {
            "text/markdown": [
              "<h4 id=\"evaluate_circuit\" class=\"doc_header\"><code>evaluate_circuit</code><a href=\"https://github.com/flaport/sax/tree/master/sax/backends/default.py#L33\" class=\"source_link\" style=\"float:right\">[source]</a></h4>\n",
              "\n",
              "> <code>evaluate_circuit</code>(**`instances`**:`Dict[str, SType]`, **`connections`**:`Dict[str, str]`, **`ports`**:`Dict[str, str]`)\n",
              "\n"
            ],
            "text/plain": [
              "<IPython.core.display.Markdown object>"
            ]
          },
          "metadata": {},
          "output_type": "display_data"
        }
      ],
      "source": [
        "from sax.backends.default import evaluate_circuit\n",
        "show_doc(evaluate_circuit, doc_string=False)"
      ]
    },
    {
      "cell_type": "markdown",
      "id": "df66e846",
      "metadata": {
        "papermill": {
          "duration": 0.001821,
          "end_time": "2023-07-01T03:32:45.798234",
          "exception": false,
          "start_time": "2023-07-01T03:32:45.796413",
          "status": "completed"
        },
        "tags": []
      },
      "source": [
        "i.e. it takes a dictionary of instance names pointing to `SType`s (usually `SDict`s), a connection dictionary and an (output) ports dictionary. Internally it must construct the output `SType` (usually output `SDict`)."
      ]
    },
    {
      "cell_type": "markdown",
      "id": "835a521a",
      "metadata": {
        "papermill": {
          "duration": 0.001799,
          "end_time": "2023-07-01T03:32:45.801907",
          "exception": false,
          "start_time": "2023-07-01T03:32:45.800108",
          "status": "completed"
        },
        "tags": []
      },
      "source": [
        "> Example\n",
        "\n",
        "Let's create an MZI `SDict` using the default backend's `evaluate_circuit`:"
      ]
    },
    {
      "cell_type": "code",
      "execution_count": 6,
      "id": "8a22955d",
      "metadata": {
        "execution": {
          "iopub.execute_input": "2023-07-01T03:32:45.811099Z",
          "iopub.status.busy": "2023-07-01T03:32:45.810788Z",
          "iopub.status.idle": "2023-07-01T03:32:47.060257Z",
          "shell.execute_reply": "2023-07-01T03:32:47.059794Z"
        },
        "papermill": {
          "duration": 1.256388,
          "end_time": "2023-07-01T03:32:47.061716",
          "exception": false,
          "start_time": "2023-07-01T03:32:45.805328",
          "status": "completed"
        },
        "tags": []
      },
      "outputs": [
        {
          "data": {
            "text/plain": [
              "{('in0', 'in0'): Array(0.+0.j, dtype=complex64),\n",
              " ('in0', 'in1'): Array(0.+0.j, dtype=complex64),\n",
              " ('in1', 'in0'): Array(0.+0.j, dtype=complex64),\n",
              " ('in1', 'in1'): Array(0.+0.j, dtype=complex64),\n",
              " ('out0', 'out0'): Array(0.+0.j, dtype=complex64),\n",
              " ('out0', 'out1'): Array(0.+0.j, dtype=complex64),\n",
              " ('out1', 'out0'): Array(0.+0.j, dtype=complex64),\n",
              " ('out1', 'out1'): Array(0.+0.j, dtype=complex64),\n",
              " ('in0', 'out0'): Array(-0.24999999+0.433015j, dtype=complex64),\n",
              " ('in0', 'out1'): Array(-0.433015+0.74999994j, dtype=complex64),\n",
              " ('in1', 'out0'): Array(-0.433015+0.74999994j, dtype=complex64),\n",
              " ('in1', 'out1'): Array(0.24999999-0.433015j, dtype=complex64),\n",
              " ('out0', 'in0'): Array(-0.24999999+0.433015j, dtype=complex64),\n",
              " ('out0', 'in1'): Array(-0.433015+0.74999994j, dtype=complex64),\n",
              " ('out1', 'in0'): Array(-0.433015+0.74999994j, dtype=complex64),\n",
              " ('out1', 'in1'): Array(0.24999999-0.433015j, dtype=complex64)}"
            ]
          },
          "execution_count": 6,
          "metadata": {},
          "output_type": "execute_result"
        }
      ],
      "source": [
        "wg_sdict: SDict = {\n",
        "    (\"in0\", \"out0\"): 0.5 + 0.86603j,\n",
        "    (\"out0\", \"in0\"): 0.5 + 0.86603j,\n",
        "}\n",
        "\n",
        "\u03c4, \u03ba = 0.5 ** 0.5, 1j * 0.5 ** 0.5\n",
        "dc_sdense: SDense = (\n",
        "    jnp.array([[0, 0, \u03c4, \u03ba], \n",
        "               [0, 0, \u03ba, \u03c4], \n",
        "               [\u03c4, \u03ba, 0, 0], \n",
        "               [\u03ba, \u03c4, 0, 0]]),\n",
        "    {\"in0\": 0, \"in1\": 1, \"out0\": 2, \"out1\": 3},\n",
        ")\n",
        "\n",
        "mzi_sdict: SDict = evaluate_circuit(\n",
        "    instances={\n",
        "        \"dc1\": dc_sdense,\n",
        "        \"wg\": wg_sdict,\n",
        "        \"dc2\": dc_sdense,\n",
        "    },\n",
        "    connections={\n",
        "        \"dc1,out0\": \"wg,in0\",\n",
        "        \"wg,out0\": \"dc2,in0\",\n",
        "        \"dc1,out1\": \"dc2,in1\",\n",
        "    },\n",
        "    ports={\n",
        "        \"in0\": \"dc1,in0\",\n",
        "        \"in1\": \"dc1,in1\",\n",
        "        \"out0\": \"dc2,out0\",\n",
        "        \"out1\": \"dc2,out1\",\n",
        "    }\n",
        ")\n",
        "\n",
        "mzi_sdict"
      ]
    }
  ],
  "metadata": {
    "kernelspec": {
      "display_name": "sax",
      "language": "python",
      "name": "sax"
    },
    "language_info": {
      "codemirror_mode": {
        "name": "ipython",
        "version": 3
      },
      "file_extension": ".py",
      "mimetype": "text/x-python",
      "name": "python",
      "nbconvert_exporter": "python",
      "pygments_lexer": "ipython3",
      "version": "3.11.4"
    },
    "papermill": {
      "default_parameters": {},
      "duration": 5.143714,
      "end_time": "2023-07-01T03:32:47.782949",
      "environment_variables": {},
      "exception": null,
      "input_path": "./nbs/08_backends.ipynb",
      "output_path": "./nbs/08_backends.ipynb",
      "parameters": {},
      "start_time": "2023-07-01T03:32:42.639235",
      "version": "2.3.4"
    }
  },
  "nbformat": 4,
  "nbformat_minor": 5
}