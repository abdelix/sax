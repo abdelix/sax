{
  "cells": [
    {
      "cell_type": "code",
      "execution_count": 1,
      "id": "d35a8d030e1d47b3",
      "metadata": {
        "execution": {
          "iopub.execute_input": "2023-09-02T18:52:49.610415Z",
          "iopub.status.busy": "2023-09-02T18:52:49.609899Z",
          "iopub.status.idle": "2023-09-02T18:52:49.613629Z",
          "shell.execute_reply": "2023-09-02T18:52:49.613005Z"
        },
        "papermill": {
          "duration": 0.008969,
          "end_time": "2023-09-02T18:52:49.614906",
          "exception": false,
          "start_time": "2023-09-02T18:52:49.605937",
          "status": "completed"
        },
        "tags": [
          "remove-cell"
        ]
      },
      "outputs": [],
      "source": []
    },
    {
      "cell_type": "markdown",
      "id": "079604be",
      "metadata": {
        "papermill": {
          "duration": 0.002107,
          "end_time": "2023-09-02T18:52:49.619121",
          "exception": false,
          "start_time": "2023-09-02T18:52:49.617014",
          "status": "completed"
        },
        "tags": []
      },
      "source": [
        "# Backend\n",
        "\n",
        "> SAX Backends"
      ]
    },
    {
      "cell_type": "code",
      "execution_count": 2,
      "id": "7b76d801c00a519d",
      "metadata": {
        "execution": {
          "iopub.execute_input": "2023-09-02T18:52:49.623879Z",
          "iopub.status.busy": "2023-09-02T18:52:49.623384Z",
          "iopub.status.idle": "2023-09-02T18:52:50.828133Z",
          "shell.execute_reply": "2023-09-02T18:52:50.827651Z"
        },
        "papermill": {
          "duration": 1.20895,
          "end_time": "2023-09-02T18:52:50.829836",
          "exception": false,
          "start_time": "2023-09-02T18:52:49.620886",
          "status": "completed"
        },
        "tags": [
          "remove-cell"
        ]
      },
      "outputs": [],
      "source": [
        "from nbdev import show_doc\n",
        "from sax.typing_ import SDense, SDict, sdict\n",
        "\n",
        "import os, sys; sys.stderr = open(os.devnull, \"w\")"
      ]
    },
    {
      "cell_type": "code",
      "execution_count": 3,
      "id": "894614c9d385245a",
      "metadata": {
        "execution": {
          "iopub.execute_input": "2023-09-02T18:52:50.836488Z",
          "iopub.status.busy": "2023-09-02T18:52:50.836009Z",
          "iopub.status.idle": "2023-09-02T18:52:50.840546Z",
          "shell.execute_reply": "2023-09-02T18:52:50.840120Z"
        },
        "papermill": {
          "duration": 0.009638,
          "end_time": "2023-09-02T18:52:50.841906",
          "exception": false,
          "start_time": "2023-09-02T18:52:50.832268",
          "status": "completed"
        },
        "tags": [
          "remove-cell"
        ]
      },
      "outputs": [],
      "source": [
        "from __future__ import annotations\n",
        "\n",
        "import warnings\n",
        "from typing import Any, Dict\n",
        "\n",
        "try:\n",
        "    import jax\n",
        "    import jax.numpy as jnp\n",
        "    JAX_AVAILABLE = True\n",
        "except ImportError:\n",
        "    import numpy as jnp\n",
        "    JAX_AVAILABLE = False\n",
        "    \n",
        "try:\n",
        "    import klujax\n",
        "    KLUJAX_AVAILABLE = True\n",
        "except ImportError:\n",
        "    KLUJAX_AVAILABLE = False\n",
        "\n",
        "from sax.backends.additive import analyze_circuit_additive, evaluate_circuit_additive\n",
        "from sax.backends.filipsson_gunnar import analyze_circuit_fg, evaluate_circuit_fg\n",
        "from sax.typing_ import SType, sdict\n",
        "\n",
        "if JAX_AVAILABLE and KLUJAX_AVAILABLE:\n",
        "    from sax.backends.klu import analyze_circuit_klu, evaluate_circuit_klu"
      ]
    },
    {
      "cell_type": "markdown",
      "id": "a39b2084",
      "metadata": {
        "papermill": {
          "duration": 0.001803,
          "end_time": "2023-09-02T18:52:50.845520",
          "exception": false,
          "start_time": "2023-09-02T18:52:50.843717",
          "status": "completed"
        },
        "tags": []
      },
      "source": [
        "#### circuit_backends"
      ]
    },
    {
      "cell_type": "code",
      "execution_count": 4,
      "id": "4f3fe547b5ca490b",
      "metadata": {
        "execution": {
          "iopub.execute_input": "2023-09-02T18:52:50.850455Z",
          "iopub.status.busy": "2023-09-02T18:52:50.849987Z",
          "iopub.status.idle": "2023-09-02T18:52:50.853461Z",
          "shell.execute_reply": "2023-09-02T18:52:50.853112Z"
        },
        "papermill": {
          "duration": 0.007248,
          "end_time": "2023-09-02T18:52:50.854590",
          "exception": false,
          "start_time": "2023-09-02T18:52:50.847342",
          "status": "completed"
        },
        "tags": []
      },
      "outputs": [],
      "source": [
        "\n",
        "circuit_backends = {\n",
        "    \"fg\": (analyze_circuit_fg, evaluate_circuit_fg),\n",
        "    \"filipsson_gunnar\": (analyze_circuit_fg, evaluate_circuit_fg),\n",
        "    \"additive\": (analyze_circuit_additive, evaluate_circuit_additive),\n",
        "}\n",
        "\n",
        "if JAX_AVAILABLE and KLUJAX_AVAILABLE:\n",
        "    circuit_backends[\"klu\"] = (analyze_circuit_klu, evaluate_circuit_klu)\n",
        "    circuit_backends[\"default\"] = (analyze_circuit_klu, evaluate_circuit_klu)\n",
        "else:\n",
        "    circuit_backends[\"default\"] = (analyze_circuit_fg, evaluate_circuit_fg)\n",
        "    warnings.warn(\"klujax not found. Please install klujax for better performance during circuit evaluation!\")"
      ]
    },
    {
      "cell_type": "markdown",
      "id": "b23a8349",
      "metadata": {
        "papermill": {
          "duration": 0.001879,
          "end_time": "2023-09-02T18:52:50.858280",
          "exception": false,
          "start_time": "2023-09-02T18:52:50.856401",
          "status": "completed"
        },
        "tags": []
      },
      "source": [
        "SAX allows to easily interchange the backend of a circuit. A SAX backend consists of a static analysis step and an evaluation step:"
      ]
    },
    {
      "cell_type": "markdown",
      "id": "09554deb2bf9d7b2",
      "metadata": {},
      "source": [
        ":::{eval-rst}\n",
        ".. autofunction:: sax.backends.__init__.analyze_circuit\n",
        ":::\n"
      ]
    },
    {
      "cell_type": "code",
      "execution_count": 5,
      "id": "98a3db2b140ece3b",
      "metadata": {
        "execution": {
          "iopub.execute_input": "2023-09-02T18:52:50.862958Z",
          "iopub.status.busy": "2023-09-02T18:52:50.862585Z",
          "iopub.status.idle": "2023-09-02T18:52:50.865313Z",
          "shell.execute_reply": "2023-09-02T18:52:50.864982Z"
        },
        "papermill": {
          "duration": 0.00632,
          "end_time": "2023-09-02T18:52:50.866413",
          "exception": false,
          "start_time": "2023-09-02T18:52:50.860093",
          "status": "completed"
        },
        "tags": [
          "hide-input"
        ]
      },
      "outputs": [],
      "source": [
        "def analyze_circuit(connections: Dict[str, str], ports: Dict[str, str]) -> Any:\n",
        "    return circuit_backends['default'][0](connections, ports)"
      ]
    },
    {
      "cell_type": "markdown",
      "id": "8b8c4b1f86bcf8ba",
      "metadata": {},
      "source": [
        ":::{eval-rst}\n",
        ".. autofunction:: sax.backends.__init__.evaluate_circuit\n",
        ":::\n"
      ]
    },
    {
      "cell_type": "code",
      "execution_count": 6,
      "id": "4636e56d8a59f3d1",
      "metadata": {
        "execution": {
          "iopub.execute_input": "2023-09-02T18:52:50.871219Z",
          "iopub.status.busy": "2023-09-02T18:52:50.870832Z",
          "iopub.status.idle": "2023-09-02T18:52:50.873578Z",
          "shell.execute_reply": "2023-09-02T18:52:50.873162Z"
        },
        "papermill": {
          "duration": 0.006503,
          "end_time": "2023-09-02T18:52:50.874731",
          "exception": false,
          "start_time": "2023-09-02T18:52:50.868228",
          "status": "completed"
        },
        "tags": [
          "hide-input"
        ]
      },
      "outputs": [],
      "source": [
        "def evaluate_circuit(analyzed: Any, instances: Dict[str, SType]) -> SType:\n",
        "    return circuit_backends['default'][1](analyzed, instances)"
      ]
    },
    {
      "cell_type": "markdown",
      "id": "df66e846",
      "metadata": {
        "papermill": {
          "duration": 0.002861,
          "end_time": "2023-09-02T18:52:50.879439",
          "exception": false,
          "start_time": "2023-09-02T18:52:50.876578",
          "status": "completed"
        },
        "tags": []
      },
      "source": [
        "The `analyze_circuit` step should statically analyze the connections and ports and should return an `analyzed` object. This object contains all the static objects that are needed for circuit computation but won't be needed to be recalculated when any parameters of the circuit change. See [KLU backend](./08b_backends_klu.ipynb) for a non-trivial implementation of the circuit analyzation.\n",
        "\n",
        "The `evaluate_circuit` step evaluates the circuit for given `SType` instances."
      ]
    },
    {
      "cell_type": "markdown",
      "id": "835a521a",
      "metadata": {
        "papermill": {
          "duration": 0.001848,
          "end_time": "2023-09-02T18:52:50.883147",
          "exception": false,
          "start_time": "2023-09-02T18:52:50.881299",
          "status": "completed"
        },
        "tags": []
      },
      "source": [
        "> Example\n",
        "\n",
        "Let's create an MZI `SDict` using the default backend's `evaluate_circuit`:"
      ]
    },
    {
      "cell_type": "code",
      "execution_count": 7,
      "id": "b1219c35-7673-4887-9f1a-ce3aa0ff4e4d",
      "metadata": {
        "execution": {
          "iopub.execute_input": "2023-09-02T18:52:50.888162Z",
          "iopub.status.busy": "2023-09-02T18:52:50.887660Z",
          "iopub.status.idle": "2023-09-02T18:52:51.968316Z",
          "shell.execute_reply": "2023-09-02T18:52:51.967847Z"
        },
        "papermill": {
          "duration": 1.084637,
          "end_time": "2023-09-02T18:52:51.969636",
          "exception": false,
          "start_time": "2023-09-02T18:52:50.884999",
          "status": "completed"
        },
        "tags": []
      },
      "outputs": [
        {
          "data": {
            "text/plain": [
              "{('in0', 'in0'): Array(0.+0.j, dtype=complex128),\n",
              " ('in0', 'in1'): Array(0.+0.j, dtype=complex128),\n",
              " ('in0', 'out0'): Array(-0.25+0.433015j, dtype=complex128),\n",
              " ('in0', 'out1'): Array(-0.433015+0.75j, dtype=complex128),\n",
              " ('in1', 'in0'): Array(0.+0.j, dtype=complex128),\n",
              " ('in1', 'in1'): Array(0.+0.j, dtype=complex128),\n",
              " ('in1', 'out0'): Array(-0.433015+0.75j, dtype=complex128),\n",
              " ('in1', 'out1'): Array(0.25-0.433015j, dtype=complex128),\n",
              " ('out0', 'in0'): Array(-0.25+0.433015j, dtype=complex128),\n",
              " ('out0', 'in1'): Array(-0.433015+0.75j, dtype=complex128),\n",
              " ('out0', 'out0'): Array(0.+0.j, dtype=complex128),\n",
              " ('out0', 'out1'): Array(0.+0.j, dtype=complex128),\n",
              " ('out1', 'in0'): Array(-0.433015+0.75j, dtype=complex128),\n",
              " ('out1', 'in1'): Array(0.25-0.433015j, dtype=complex128),\n",
              " ('out1', 'out0'): Array(0.+0.j, dtype=complex128),\n",
              " ('out1', 'out1'): Array(0.+0.j, dtype=complex128)}"
            ]
          },
          "metadata": {},
          "output_type": "display_data"
        }
      ],
      "source": [
        "wg_sdict: SDict = {\n",
        "    (\"in0\", \"out0\"): 0.5 + 0.86603j,\n",
        "    (\"out0\", \"in0\"): 0.5 + 0.86603j,\n",
        "}\n",
        "\n",
        "\u03c4, \u03ba = 0.5 ** 0.5, 1j * 0.5 ** 0.5\n",
        "dc_sdense: SDense = (\n",
        "    jnp.array([[0, 0, \u03c4, \u03ba], \n",
        "               [0, 0, \u03ba, \u03c4], \n",
        "               [\u03c4, \u03ba, 0, 0], \n",
        "               [\u03ba, \u03c4, 0, 0]]),\n",
        "    {\"in0\": 0, \"in1\": 1, \"out0\": 2, \"out1\": 3},\n",
        ")\n",
        "\n",
        "instances={\n",
        "    \"dc1\": dc_sdense,\n",
        "    \"wg\": wg_sdict,\n",
        "    \"dc2\": dc_sdense,\n",
        "}\n",
        "connections={\n",
        "    \"dc1,out0\": \"wg,in0\",\n",
        "    \"wg,out0\": \"dc2,in0\",\n",
        "    \"dc1,out1\": \"dc2,in1\",\n",
        "}\n",
        "ports={\n",
        "    \"in0\": \"dc1,in0\",\n",
        "    \"in1\": \"dc1,in1\",\n",
        "    \"out0\": \"dc2,out0\",\n",
        "    \"out1\": \"dc2,out1\",\n",
        "}\n",
        "\n",
        "analyzed = analyze_circuit(connections, ports)\n",
        "mzi_sdict = sdict(evaluate_circuit(analyzed, instances))\n",
        "display(mzi_sdict)"
      ]
    }
  ],
  "metadata": {
    "kernelspec": {
      "display_name": "sax",
      "language": "python",
      "name": "sax"
    },
    "language_info": {
      "codemirror_mode": {
        "name": "ipython",
        "version": 3
      },
      "file_extension": ".py",
      "mimetype": "text/x-python",
      "name": "python",
      "nbconvert_exporter": "python",
      "pygments_lexer": "ipython3",
      "version": "3.11.5"
    },
    "papermill": {
      "default_parameters": {},
      "duration": 4.208208,
      "end_time": "2023-09-02T18:52:52.490071",
      "environment_variables": {},
      "exception": null,
      "input_path": "./nbs/08_backends.ipynb",
      "output_path": "./nbs/08_backends.ipynb",
      "parameters": {},
      "start_time": "2023-09-02T18:52:48.281863",
      "version": "2.4.0"
    }
  },
  "nbformat": 4,
  "nbformat_minor": 5
}