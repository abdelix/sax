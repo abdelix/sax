{
  "cells": [
    {
      "cell_type": "code",
      "execution_count": 1,
      "id": "8b0304ba608d74ef",
      "metadata": {
        "execution": {
          "iopub.execute_input": "2023-09-01T18:13:45.878245Z",
          "iopub.status.busy": "2023-09-01T18:13:45.877693Z",
          "iopub.status.idle": "2023-09-01T18:13:45.881185Z",
          "shell.execute_reply": "2023-09-01T18:13:45.880620Z"
        },
        "papermill": {
          "duration": 0.008651,
          "end_time": "2023-09-01T18:13:45.882435",
          "exception": false,
          "start_time": "2023-09-01T18:13:45.873784",
          "status": "completed"
        },
        "tags": [
          "remove-cell"
        ]
      },
      "outputs": [],
      "source": []
    },
    {
      "cell_type": "markdown",
      "id": "079604be",
      "metadata": {
        "papermill": {
          "duration": 0.002146,
          "end_time": "2023-09-01T18:13:45.886837",
          "exception": false,
          "start_time": "2023-09-01T18:13:45.884691",
          "status": "completed"
        },
        "tags": []
      },
      "source": [
        "# Backend\n",
        "\n",
        "> SAX Backends"
      ]
    },
    {
      "cell_type": "code",
      "execution_count": 2,
      "id": "7ad8423ff398d009",
      "metadata": {
        "execution": {
          "iopub.execute_input": "2023-09-01T18:13:45.891917Z",
          "iopub.status.busy": "2023-09-01T18:13:45.891462Z",
          "iopub.status.idle": "2023-09-01T18:13:47.114168Z",
          "shell.execute_reply": "2023-09-01T18:13:47.113712Z"
        },
        "papermill": {
          "duration": 1.22697,
          "end_time": "2023-09-01T18:13:47.115685",
          "exception": false,
          "start_time": "2023-09-01T18:13:45.888715",
          "status": "completed"
        },
        "tags": [
          "remove-cell"
        ]
      },
      "outputs": [],
      "source": [
        "from nbdev import show_doc\n",
        "from sax.typing_ import SDense, SDict, sdict\n",
        "\n",
        "import os, sys; sys.stderr = open(os.devnull, \"w\")"
      ]
    },
    {
      "cell_type": "code",
      "execution_count": 3,
      "id": "febfd33fcd1ddc96",
      "metadata": {
        "execution": {
          "iopub.execute_input": "2023-09-01T18:13:47.121983Z",
          "iopub.status.busy": "2023-09-01T18:13:47.121326Z",
          "iopub.status.idle": "2023-09-01T18:13:47.125444Z",
          "shell.execute_reply": "2023-09-01T18:13:47.125102Z"
        },
        "papermill": {
          "duration": 0.008535,
          "end_time": "2023-09-01T18:13:47.126500",
          "exception": false,
          "start_time": "2023-09-01T18:13:47.117965",
          "status": "completed"
        },
        "tags": [
          "remove-cell"
        ]
      },
      "outputs": [],
      "source": [
        "from __future__ import annotations\n",
        "\n",
        "try:\n",
        "    import jax\n",
        "    import jax.numpy as jnp\n",
        "    JAX_AVAILABLE = True\n",
        "except ImportError:\n",
        "    import numpy as jnp\n",
        "    JAX_AVAILABLE = False\n",
        "    \n",
        "try:\n",
        "    import klujax\n",
        "    KLUJAX_AVAILABLE = True\n",
        "except ImportError:\n",
        "    KLUJAX_AVAILABLE = False\n",
        "\n",
        "from sax.backends.default import analyze_circuit, evaluate_circuit\n",
        "from sax.backends.additive import analyze_circuit_additive, evaluate_circuit_additive\n",
        "\n",
        "if JAX_AVAILABLE and KLUJAX_AVAILABLE:\n",
        "    from sax.backends.klu import analyze_circuit_klu, evaluate_circuit_klu"
      ]
    },
    {
      "cell_type": "markdown",
      "id": "a39b2084",
      "metadata": {
        "papermill": {
          "duration": 0.001866,
          "end_time": "2023-09-01T18:13:47.130318",
          "exception": false,
          "start_time": "2023-09-01T18:13:47.128452",
          "status": "completed"
        },
        "tags": []
      },
      "source": [
        "#### circuit_backends"
      ]
    },
    {
      "cell_type": "code",
      "execution_count": 4,
      "id": "a1a6b5af01d4003f",
      "metadata": {
        "execution": {
          "iopub.execute_input": "2023-09-01T18:13:47.135339Z",
          "iopub.status.busy": "2023-09-01T18:13:47.134868Z",
          "iopub.status.idle": "2023-09-01T18:13:47.137857Z",
          "shell.execute_reply": "2023-09-01T18:13:47.137446Z"
        },
        "papermill": {
          "duration": 0.006889,
          "end_time": "2023-09-01T18:13:47.139122",
          "exception": false,
          "start_time": "2023-09-01T18:13:47.132233",
          "status": "completed"
        },
        "tags": []
      },
      "outputs": [],
      "source": [
        "\n",
        "circuit_backends = {\n",
        "    \"default\": (analyze_circuit, evaluate_circuit),\n",
        "    \"additive\": (analyze_circuit_additive, evaluate_circuit_additive),\n",
        "}\n",
        "\n",
        "if JAX_AVAILABLE and KLUJAX_AVAILABLE:\n",
        "    circuit_backends[\"klu\"] = (analyze_circuit_klu, evaluate_circuit_klu)"
      ]
    },
    {
      "cell_type": "markdown",
      "id": "b23a8349",
      "metadata": {
        "papermill": {
          "duration": 0.001844,
          "end_time": "2023-09-01T18:13:47.142997",
          "exception": false,
          "start_time": "2023-09-01T18:13:47.141153",
          "status": "completed"
        },
        "tags": []
      },
      "source": [
        "SAX allows to easily interchange the backend of a circuit. A SAX backend consists of a static analysis step and an evaluation step:"
      ]
    },
    {
      "cell_type": "code",
      "execution_count": 5,
      "id": "217792440252936c",
      "metadata": {
        "execution": {
          "iopub.execute_input": "2023-09-01T18:13:47.147941Z",
          "iopub.status.busy": "2023-09-01T18:13:47.147484Z",
          "iopub.status.idle": "2023-09-01T18:13:47.161931Z",
          "shell.execute_reply": "2023-09-01T18:13:47.161535Z"
        },
        "papermill": {
          "duration": 0.018349,
          "end_time": "2023-09-01T18:13:47.163208",
          "exception": false,
          "start_time": "2023-09-01T18:13:47.144859",
          "status": "completed"
        },
        "tags": [
          "remove-input"
        ]
      },
      "outputs": [
        {
          "data": {
            "text/markdown": [
              "<h4 id=\"analyze_circuit\" class=\"doc_header\"><code>analyze_circuit</code><a href=\"https://github.com/flaport/sax/tree/master/sax/backends/default.py#L33\" class=\"source_link\" style=\"float:right\">[source]</a></h4>\n",
              "\n",
              "> <code>analyze_circuit</code>(**`connections`**, **`ports`**)\n",
              "\n"
            ],
            "text/plain": [
              "<IPython.core.display.Markdown object>"
            ]
          },
          "metadata": {},
          "output_type": "display_data"
        },
        {
          "data": {
            "text/markdown": [
              "<h4 id=\"evaluate_circuit\" class=\"doc_header\"><code>evaluate_circuit</code><a href=\"https://github.com/flaport/sax/tree/master/sax/backends/default.py#L39\" class=\"source_link\" style=\"float:right\">[source]</a></h4>\n",
              "\n",
              "> <code>evaluate_circuit</code>(**`analyzed`**, **`instances`**:`Dict[str, SType]`)\n",
              "\n"
            ],
            "text/plain": [
              "<IPython.core.display.Markdown object>"
            ]
          },
          "metadata": {},
          "output_type": "display_data"
        }
      ],
      "source": [
        "from sax.backends.default import evaluate_circuit\n",
        "show_doc(analyze_circuit, doc_string=False)\n",
        "show_doc(evaluate_circuit, doc_string=False)"
      ]
    },
    {
      "cell_type": "markdown",
      "id": "df66e846",
      "metadata": {
        "papermill": {
          "duration": 0.002114,
          "end_time": "2023-09-01T18:13:47.167553",
          "exception": false,
          "start_time": "2023-09-01T18:13:47.165439",
          "status": "completed"
        },
        "tags": []
      },
      "source": [
        "The `analyze_circuit` step should statically analyze the connections and ports and should return an `analyzed` object. This object contains all the static objects that are needed for circuit computation but won't be needed to be recalculated when any parameters of the circuit change.\n",
        "\n",
        "The `evaluate_circuit` step evaluates the circuit for given `SType` instances."
      ]
    },
    {
      "cell_type": "markdown",
      "id": "835a521a",
      "metadata": {
        "papermill": {
          "duration": 0.002105,
          "end_time": "2023-09-01T18:13:47.172646",
          "exception": false,
          "start_time": "2023-09-01T18:13:47.170541",
          "status": "completed"
        },
        "tags": []
      },
      "source": [
        "> Example\n",
        "\n",
        "Let's create an MZI `SDict` using the default backend's `evaluate_circuit`:"
      ]
    },
    {
      "cell_type": "code",
      "execution_count": 6,
      "id": "b1219c35-7673-4887-9f1a-ce3aa0ff4e4d",
      "metadata": {
        "execution": {
          "iopub.execute_input": "2023-09-01T18:13:47.178164Z",
          "iopub.status.busy": "2023-09-01T18:13:47.177670Z",
          "iopub.status.idle": "2023-09-01T18:13:47.908678Z",
          "shell.execute_reply": "2023-09-01T18:13:47.908261Z"
        },
        "papermill": {
          "duration": 0.735471,
          "end_time": "2023-09-01T18:13:47.910214",
          "exception": false,
          "start_time": "2023-09-01T18:13:47.174743",
          "status": "completed"
        },
        "tags": []
      },
      "outputs": [
        {
          "data": {
            "text/plain": [
              "{('in0', 'in0'): Array(0.+0.j, dtype=complex128),\n",
              " ('in0', 'in1'): Array(0.+0.j, dtype=complex128),\n",
              " ('in1', 'in0'): Array(0.+0.j, dtype=complex128),\n",
              " ('in1', 'in1'): Array(0.+0.j, dtype=complex128),\n",
              " ('out0', 'out0'): Array(0.+0.j, dtype=complex128),\n",
              " ('out0', 'out1'): Array(0.+0.j, dtype=complex128),\n",
              " ('out1', 'out0'): Array(0.+0.j, dtype=complex128),\n",
              " ('out1', 'out1'): Array(0.+0.j, dtype=complex128),\n",
              " ('in1', 'out0'): Array(-0.433015+0.75j, dtype=complex128),\n",
              " ('in1', 'out1'): Array(0.25-0.433015j, dtype=complex128),\n",
              " ('in0', 'out0'): Array(-0.25+0.433015j, dtype=complex128),\n",
              " ('in0', 'out1'): Array(-0.433015+0.75j, dtype=complex128),\n",
              " ('out0', 'in1'): Array(-0.433015+0.75j, dtype=complex128),\n",
              " ('out0', 'in0'): Array(-0.25+0.433015j, dtype=complex128),\n",
              " ('out1', 'in1'): Array(0.25-0.433015j, dtype=complex128),\n",
              " ('out1', 'in0'): Array(-0.433015+0.75j, dtype=complex128)}"
            ]
          },
          "metadata": {},
          "output_type": "display_data"
        }
      ],
      "source": [
        "wg_sdict: SDict = {\n",
        "    (\"in0\", \"out0\"): 0.5 + 0.86603j,\n",
        "    (\"out0\", \"in0\"): 0.5 + 0.86603j,\n",
        "}\n",
        "\n",
        "\u03c4, \u03ba = 0.5 ** 0.5, 1j * 0.5 ** 0.5\n",
        "dc_sdense: SDense = (\n",
        "    jnp.array([[0, 0, \u03c4, \u03ba], \n",
        "               [0, 0, \u03ba, \u03c4], \n",
        "               [\u03c4, \u03ba, 0, 0], \n",
        "               [\u03ba, \u03c4, 0, 0]]),\n",
        "    {\"in0\": 0, \"in1\": 1, \"out0\": 2, \"out1\": 3},\n",
        ")\n",
        "\n",
        "instances={\n",
        "    \"dc1\": dc_sdense,\n",
        "    \"wg\": wg_sdict,\n",
        "    \"dc2\": dc_sdense,\n",
        "}\n",
        "connections={\n",
        "    \"dc1,out0\": \"wg,in0\",\n",
        "    \"wg,out0\": \"dc2,in0\",\n",
        "    \"dc1,out1\": \"dc2,in1\",\n",
        "}\n",
        "ports={\n",
        "    \"in0\": \"dc1,in0\",\n",
        "    \"in1\": \"dc1,in1\",\n",
        "    \"out0\": \"dc2,out0\",\n",
        "    \"out1\": \"dc2,out1\",\n",
        "}\n",
        "\n",
        "analyzed = analyze_circuit(connections, ports)\n",
        "mzi_sdict = evaluate_circuit(analyzed, instances)\n",
        "display(mzi_sdict)"
      ]
    },
    {
      "cell_type": "code",
      "execution_count": 7,
      "id": "69525c7b-acb7-4f05-82ec-c404cf80d02a",
      "metadata": {
        "execution": {
          "iopub.execute_input": "2023-09-01T18:13:47.945185Z",
          "iopub.status.busy": "2023-09-01T18:13:47.944603Z",
          "iopub.status.idle": "2023-09-01T18:13:47.976206Z",
          "shell.execute_reply": "2023-09-01T18:13:47.975709Z"
        },
        "papermill": {
          "duration": 0.064726,
          "end_time": "2023-09-01T18:13:47.977572",
          "exception": false,
          "start_time": "2023-09-01T18:13:47.912846",
          "status": "completed"
        },
        "tags": []
      },
      "outputs": [
        {
          "data": {
            "text/plain": [
              "{('in0', 'in0'): Array(0.+0.j, dtype=complex128),\n",
              " ('in0', 'in1'): Array(0.+0.j, dtype=complex128),\n",
              " ('in1', 'in0'): Array(0.+0.j, dtype=complex128),\n",
              " ('in1', 'in1'): Array(0.+0.j, dtype=complex128),\n",
              " ('out0', 'out0'): Array(0.+0.j, dtype=complex128),\n",
              " ('out0', 'out1'): Array(0.+0.j, dtype=complex128),\n",
              " ('out1', 'out0'): Array(0.+0.j, dtype=complex128),\n",
              " ('out1', 'out1'): Array(0.+0.j, dtype=complex128),\n",
              " ('in1', 'out0'): Array(-0.433015+0.75j, dtype=complex128),\n",
              " ('in1', 'out1'): Array(0.25-0.433015j, dtype=complex128),\n",
              " ('in0', 'out0'): Array(-0.25+0.433015j, dtype=complex128),\n",
              " ('in0', 'out1'): Array(-0.433015+0.75j, dtype=complex128),\n",
              " ('out0', 'in1'): Array(-0.433015+0.75j, dtype=complex128),\n",
              " ('out0', 'in0'): Array(-0.25+0.433015j, dtype=complex128),\n",
              " ('out1', 'in1'): Array(0.25-0.433015j, dtype=complex128),\n",
              " ('out1', 'in0'): Array(-0.433015+0.75j, dtype=complex128)}"
            ]
          },
          "metadata": {},
          "output_type": "display_data"
        }
      ],
      "source": [
        "analyzed = analyze_circuit(connections, ports)\n",
        "mzi_sdict_klu = sdict(evaluate_circuit(analyzed, instances))\n",
        "display(mzi_sdict_klu)"
      ]
    },
    {
      "cell_type": "code",
      "execution_count": 8,
      "id": "1d5a83e2370a0445",
      "metadata": {
        "execution": {
          "iopub.execute_input": "2023-09-01T18:13:47.983763Z",
          "iopub.status.busy": "2023-09-01T18:13:47.983353Z",
          "iopub.status.idle": "2023-09-01T18:13:48.012967Z",
          "shell.execute_reply": "2023-09-01T18:13:48.012601Z"
        },
        "papermill": {
          "duration": 0.033914,
          "end_time": "2023-09-01T18:13:48.014100",
          "exception": false,
          "start_time": "2023-09-01T18:13:47.980186",
          "status": "completed"
        },
        "tags": [
          "remove-cell"
        ]
      },
      "outputs": [
        {
          "name": "stdout",
          "output_type": "stream",
          "text": [
            "('in0', 'in0') 0.0\n",
            "('in0', 'in1') 0.0\n",
            "('in1', 'in0') 0.0\n",
            "('in1', 'in1') 0.0\n",
            "('out0', 'out0') 0.0\n",
            "('out0', 'out1') 0.0\n",
            "('out1', 'out0') 0.0\n",
            "('out1', 'out1') 0.0\n",
            "('in1', 'out0') 0.0\n",
            "('in1', 'out1') 0.0\n",
            "('in0', 'out0') 0.0\n",
            "('in0', 'out1') 0.0\n",
            "('out0', 'in1') 0.0\n",
            "('out0', 'in0') 0.0\n",
            "('out1', 'in1') 0.0\n",
            "('out1', 'in0') 0.0\n"
          ]
        }
      ],
      "source": [
        "for k in mzi_sdict:\n",
        "    print(k, abs(mzi_sdict[k]-mzi_sdict_klu[k]))"
      ]
    }
  ],
  "metadata": {
    "kernelspec": {
      "display_name": "sax",
      "language": "python",
      "name": "sax"
    },
    "language_info": {
      "codemirror_mode": {
        "name": "ipython",
        "version": 3
      },
      "file_extension": ".py",
      "mimetype": "text/x-python",
      "name": "python",
      "nbconvert_exporter": "python",
      "pygments_lexer": "ipython3",
      "version": "3.11.5"
    },
    "papermill": {
      "default_parameters": {},
      "duration": 3.994917,
      "end_time": "2023-09-01T18:13:48.533806",
      "environment_variables": {},
      "exception": null,
      "input_path": "./nbs/08_backends.ipynb",
      "output_path": "./nbs/08_backends.ipynb",
      "parameters": {},
      "start_time": "2023-09-01T18:13:44.538889",
      "version": "2.4.0"
    }
  },
  "nbformat": 4,
  "nbformat_minor": 5
}