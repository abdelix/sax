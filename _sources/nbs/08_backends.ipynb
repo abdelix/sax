{
  "cells": [
    {
      "cell_type": "code",
      "execution_count": 1,
      "id": "86e53b065228324a",
      "metadata": {
        "execution": {
          "iopub.execute_input": "2023-06-01T21:50:01.917663Z",
          "iopub.status.busy": "2023-06-01T21:50:01.917198Z",
          "iopub.status.idle": "2023-06-01T21:50:01.921025Z",
          "shell.execute_reply": "2023-06-01T21:50:01.920542Z"
        },
        "papermill": {
          "duration": 0.008447,
          "end_time": "2023-06-01T21:50:01.922427",
          "exception": false,
          "start_time": "2023-06-01T21:50:01.913980",
          "status": "completed"
        },
        "tags": [
          "remove-cell"
        ]
      },
      "outputs": [],
      "source": []
    },
    {
      "cell_type": "markdown",
      "id": "079604be",
      "metadata": {
        "papermill": {
          "duration": 0.002717,
          "end_time": "2023-06-01T21:50:01.927050",
          "exception": false,
          "start_time": "2023-06-01T21:50:01.924333",
          "status": "completed"
        },
        "tags": []
      },
      "source": [
        "# Backend\n",
        "\n",
        "> SAX Backends"
      ]
    },
    {
      "cell_type": "code",
      "execution_count": 2,
      "id": "e12004afed21baa5",
      "metadata": {
        "execution": {
          "iopub.execute_input": "2023-06-01T21:50:01.931263Z",
          "iopub.status.busy": "2023-06-01T21:50:01.931067Z",
          "iopub.status.idle": "2023-06-01T21:50:03.086676Z",
          "shell.execute_reply": "2023-06-01T21:50:03.086178Z"
        },
        "papermill": {
          "duration": 1.159499,
          "end_time": "2023-06-01T21:50:03.088174",
          "exception": false,
          "start_time": "2023-06-01T21:50:01.928675",
          "status": "completed"
        },
        "tags": [
          "remove-cell"
        ]
      },
      "outputs": [],
      "source": [
        "import jax.numpy as jnp\n",
        "from nbdev import show_doc\n",
        "from sax.typing_ import SDense, SDict\n",
        "\n",
        "import os, sys; sys.stderr = open(os.devnull, \"w\")"
      ]
    },
    {
      "cell_type": "code",
      "execution_count": 3,
      "id": "bb637a5993a474b2",
      "metadata": {
        "execution": {
          "iopub.execute_input": "2023-06-01T21:50:03.097903Z",
          "iopub.status.busy": "2023-06-01T21:50:03.092933Z",
          "iopub.status.idle": "2023-06-01T21:50:03.101106Z",
          "shell.execute_reply": "2023-06-01T21:50:03.100732Z"
        },
        "papermill": {
          "duration": 0.012005,
          "end_time": "2023-06-01T21:50:03.102403",
          "exception": false,
          "start_time": "2023-06-01T21:50:03.090398",
          "status": "completed"
        },
        "tags": [
          "remove-cell"
        ]
      },
      "outputs": [],
      "source": [
        "from __future__ import annotations\n",
        "\n",
        "try:\n",
        "    import jax\n",
        "    JAX_AVAILABLE = True\n",
        "except ImportError:\n",
        "    JAX_AVAILABLE = False\n",
        "    \n",
        "try:\n",
        "    import klujax\n",
        "    KLUJAX_AVAILABLE = True\n",
        "except ImportError:\n",
        "    KLUJAX_AVAILABLE = False\n",
        "\n",
        "from sax.backends.default import evaluate_circuit\n",
        "from sax.backends.klu import evaluate_circuit_klu\n",
        "from sax.backends.additive import evaluate_circuit_additive"
      ]
    },
    {
      "cell_type": "markdown",
      "id": "a39b2084",
      "metadata": {
        "papermill": {
          "duration": 0.001635,
          "end_time": "2023-06-01T21:50:03.105720",
          "exception": false,
          "start_time": "2023-06-01T21:50:03.104085",
          "status": "completed"
        },
        "tags": []
      },
      "source": [
        "#### circuit_backends"
      ]
    },
    {
      "cell_type": "code",
      "execution_count": 4,
      "id": "eefc318df327ff9b",
      "metadata": {
        "execution": {
          "iopub.execute_input": "2023-06-01T21:50:03.109984Z",
          "iopub.status.busy": "2023-06-01T21:50:03.109786Z",
          "iopub.status.idle": "2023-06-01T21:50:03.112574Z",
          "shell.execute_reply": "2023-06-01T21:50:03.112201Z"
        },
        "papermill": {
          "duration": 0.006933,
          "end_time": "2023-06-01T21:50:03.114348",
          "exception": false,
          "start_time": "2023-06-01T21:50:03.107415",
          "status": "completed"
        },
        "tags": []
      },
      "outputs": [],
      "source": [
        "\n",
        "circuit_backends = {\n",
        "    \"default\": evaluate_circuit,\n",
        "    \"klu\": evaluate_circuit_klu,\n",
        "    \"additive\": evaluate_circuit_additive,\n",
        "}\n",
        "\n",
        "if (not JAX_AVAILABLE) or (not KLUJAX_AVAILABLE):\n",
        "    del circuit_backends[\"klu\"]"
      ]
    },
    {
      "cell_type": "markdown",
      "id": "b23a8349",
      "metadata": {
        "papermill": {
          "duration": 0.001661,
          "end_time": "2023-06-01T21:50:03.117686",
          "exception": false,
          "start_time": "2023-06-01T21:50:03.116025",
          "status": "completed"
        },
        "tags": []
      },
      "source": [
        "SAX allows to easily interchange the backend of a circuit. A SAX backend needs to have the following signature:"
      ]
    },
    {
      "cell_type": "code",
      "execution_count": 5,
      "id": "8d56751dce6292e3",
      "metadata": {
        "execution": {
          "iopub.execute_input": "2023-06-01T21:50:03.122052Z",
          "iopub.status.busy": "2023-06-01T21:50:03.121770Z",
          "iopub.status.idle": "2023-06-01T21:50:03.137742Z",
          "shell.execute_reply": "2023-06-01T21:50:03.137311Z"
        },
        "papermill": {
          "duration": 0.019591,
          "end_time": "2023-06-01T21:50:03.138953",
          "exception": false,
          "start_time": "2023-06-01T21:50:03.119362",
          "status": "completed"
        },
        "tags": [
          "remove-input"
        ]
      },
      "outputs": [
        {
          "data": {
            "text/markdown": [
              "<h4 id=\"evaluate_circuit\" class=\"doc_header\"><code>evaluate_circuit</code><a href=\"https://github.com/flaport/sax/tree/master/sax/backends/default.py#L33\" class=\"source_link\" style=\"float:right\">[source]</a></h4>\n",
              "\n",
              "> <code>evaluate_circuit</code>(**`instances`**:`Dict[str, SType]`, **`connections`**:`Dict[str, str]`, **`ports`**:`Dict[str, str]`)\n",
              "\n"
            ],
            "text/plain": [
              "<IPython.core.display.Markdown object>"
            ]
          },
          "metadata": {},
          "output_type": "display_data"
        }
      ],
      "source": [
        "from sax.backends.default import evaluate_circuit\n",
        "show_doc(evaluate_circuit, doc_string=False)"
      ]
    },
    {
      "cell_type": "markdown",
      "id": "df66e846",
      "metadata": {
        "papermill": {
          "duration": 0.001838,
          "end_time": "2023-06-01T21:50:03.142763",
          "exception": false,
          "start_time": "2023-06-01T21:50:03.140925",
          "status": "completed"
        },
        "tags": []
      },
      "source": [
        "i.e. it takes a dictionary of instance names pointing to `SType`s (usually `SDict`s), a connection dictionary and an (output) ports dictionary. Internally it must construct the output `SType` (usually output `SDict`)."
      ]
    },
    {
      "cell_type": "markdown",
      "id": "835a521a",
      "metadata": {
        "papermill": {
          "duration": 0.002,
          "end_time": "2023-06-01T21:50:03.146558",
          "exception": false,
          "start_time": "2023-06-01T21:50:03.144558",
          "status": "completed"
        },
        "tags": []
      },
      "source": [
        "> Example\n",
        "\n",
        "Let's create an MZI `SDict` using the default backend's `evaluate_circuit`:"
      ]
    },
    {
      "cell_type": "code",
      "execution_count": 6,
      "id": "8a22955d",
      "metadata": {
        "execution": {
          "iopub.execute_input": "2023-06-01T21:50:03.151397Z",
          "iopub.status.busy": "2023-06-01T21:50:03.151097Z",
          "iopub.status.idle": "2023-06-01T21:50:03.935312Z",
          "shell.execute_reply": "2023-06-01T21:50:03.934814Z"
        },
        "papermill": {
          "duration": 0.788279,
          "end_time": "2023-06-01T21:50:03.936645",
          "exception": false,
          "start_time": "2023-06-01T21:50:03.148366",
          "status": "completed"
        },
        "tags": []
      },
      "outputs": [
        {
          "data": {
            "text/plain": [
              "{('in0', 'in0'): Array(0.+0.j, dtype=complex64),\n",
              " ('in0', 'in1'): Array(0.+0.j, dtype=complex64),\n",
              " ('in1', 'in0'): Array(0.+0.j, dtype=complex64),\n",
              " ('in1', 'in1'): Array(0.+0.j, dtype=complex64),\n",
              " ('out0', 'out0'): Array(0.+0.j, dtype=complex64),\n",
              " ('out0', 'out1'): Array(0.+0.j, dtype=complex64),\n",
              " ('out1', 'out0'): Array(0.+0.j, dtype=complex64),\n",
              " ('out1', 'out1'): Array(0.+0.j, dtype=complex64),\n",
              " ('in1', 'out1'): Array(0.24999999-0.433015j, dtype=complex64),\n",
              " ('in1', 'out0'): Array(-0.433015+0.74999994j, dtype=complex64),\n",
              " ('in0', 'out1'): Array(-0.433015+0.74999994j, dtype=complex64),\n",
              " ('in0', 'out0'): Array(-0.24999999+0.433015j, dtype=complex64),\n",
              " ('out1', 'in1'): Array(0.24999999-0.433015j, dtype=complex64),\n",
              " ('out1', 'in0'): Array(-0.433015+0.74999994j, dtype=complex64),\n",
              " ('out0', 'in1'): Array(-0.433015+0.74999994j, dtype=complex64),\n",
              " ('out0', 'in0'): Array(-0.24999999+0.433015j, dtype=complex64)}"
            ]
          },
          "execution_count": 6,
          "metadata": {},
          "output_type": "execute_result"
        }
      ],
      "source": [
        "wg_sdict: SDict = {\n",
        "    (\"in0\", \"out0\"): 0.5 + 0.86603j,\n",
        "    (\"out0\", \"in0\"): 0.5 + 0.86603j,\n",
        "}\n",
        "\n",
        "\u03c4, \u03ba = 0.5 ** 0.5, 1j * 0.5 ** 0.5\n",
        "dc_sdense: SDense = (\n",
        "    jnp.array([[0, 0, \u03c4, \u03ba], \n",
        "               [0, 0, \u03ba, \u03c4], \n",
        "               [\u03c4, \u03ba, 0, 0], \n",
        "               [\u03ba, \u03c4, 0, 0]]),\n",
        "    {\"in0\": 0, \"in1\": 1, \"out0\": 2, \"out1\": 3},\n",
        ")\n",
        "\n",
        "mzi_sdict: SDict = evaluate_circuit(\n",
        "    instances={\n",
        "        \"dc1\": dc_sdense,\n",
        "        \"wg\": wg_sdict,\n",
        "        \"dc2\": dc_sdense,\n",
        "    },\n",
        "    connections={\n",
        "        \"dc1,out0\": \"wg,in0\",\n",
        "        \"wg,out0\": \"dc2,in0\",\n",
        "        \"dc1,out1\": \"dc2,in1\",\n",
        "    },\n",
        "    ports={\n",
        "        \"in0\": \"dc1,in0\",\n",
        "        \"in1\": \"dc1,in1\",\n",
        "        \"out0\": \"dc2,out0\",\n",
        "        \"out1\": \"dc2,out1\",\n",
        "    }\n",
        ")\n",
        "\n",
        "mzi_sdict"
      ]
    }
  ],
  "metadata": {
    "kernelspec": {
      "display_name": "sax",
      "language": "python",
      "name": "sax"
    },
    "language_info": {
      "codemirror_mode": {
        "name": "ipython",
        "version": 3
      },
      "file_extension": ".py",
      "mimetype": "text/x-python",
      "name": "python",
      "nbconvert_exporter": "python",
      "pygments_lexer": "ipython3",
      "version": "3.11.3"
    },
    "papermill": {
      "default_parameters": {},
      "duration": 3.835175,
      "end_time": "2023-06-01T21:50:04.355249",
      "environment_variables": {},
      "exception": null,
      "input_path": "./nbs/08_backends.ipynb",
      "output_path": "./nbs/08_backends.ipynb",
      "parameters": {},
      "start_time": "2023-06-01T21:50:00.520074",
      "version": "2.3.4"
    }
  },
  "nbformat": 4,
  "nbformat_minor": 5
}