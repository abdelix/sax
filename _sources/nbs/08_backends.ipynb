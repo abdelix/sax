{
  "cells": [
    {
      "cell_type": "code",
      "execution_count": 1,
      "id": "e03f4bd2611447c4",
      "metadata": {
        "execution": {
          "iopub.execute_input": "2023-06-01T21:32:47.086599Z",
          "iopub.status.busy": "2023-06-01T21:32:47.086127Z",
          "iopub.status.idle": "2023-06-01T21:32:47.089704Z",
          "shell.execute_reply": "2023-06-01T21:32:47.089235Z"
        },
        "papermill": {
          "duration": 0.008907,
          "end_time": "2023-06-01T21:32:47.091517",
          "exception": false,
          "start_time": "2023-06-01T21:32:47.082610",
          "status": "completed"
        },
        "tags": [
          "remove-cell"
        ]
      },
      "outputs": [],
      "source": []
    },
    {
      "cell_type": "markdown",
      "id": "079604be",
      "metadata": {
        "papermill": {
          "duration": 0.002821,
          "end_time": "2023-06-01T21:32:47.096197",
          "exception": false,
          "start_time": "2023-06-01T21:32:47.093376",
          "status": "completed"
        },
        "tags": []
      },
      "source": [
        "# Backend\n",
        "\n",
        "> SAX Backends"
      ]
    },
    {
      "cell_type": "code",
      "execution_count": 2,
      "id": "b05e980defa5815f",
      "metadata": {
        "execution": {
          "iopub.execute_input": "2023-06-01T21:32:47.100266Z",
          "iopub.status.busy": "2023-06-01T21:32:47.100080Z",
          "iopub.status.idle": "2023-06-01T21:32:48.307038Z",
          "shell.execute_reply": "2023-06-01T21:32:48.306590Z"
        },
        "papermill": {
          "duration": 1.211046,
          "end_time": "2023-06-01T21:32:48.308809",
          "exception": false,
          "start_time": "2023-06-01T21:32:47.097763",
          "status": "completed"
        },
        "tags": [
          "remove-cell"
        ]
      },
      "outputs": [],
      "source": [
        "import jax.numpy as jnp\n",
        "from nbdev import show_doc\n",
        "from sax.typing_ import SDense, SDict\n",
        "\n",
        "import os, sys; sys.stderr = open(os.devnull, \"w\")"
      ]
    },
    {
      "cell_type": "code",
      "execution_count": 3,
      "id": "bc7b41f618505b5d",
      "metadata": {
        "execution": {
          "iopub.execute_input": "2023-06-01T21:32:48.313901Z",
          "iopub.status.busy": "2023-06-01T21:32:48.313405Z",
          "iopub.status.idle": "2023-06-01T21:32:48.316915Z",
          "shell.execute_reply": "2023-06-01T21:32:48.316581Z"
        },
        "papermill": {
          "duration": 0.007299,
          "end_time": "2023-06-01T21:32:48.318044",
          "exception": false,
          "start_time": "2023-06-01T21:32:48.310745",
          "status": "completed"
        },
        "tags": [
          "remove-cell"
        ]
      },
      "outputs": [],
      "source": [
        "from __future__ import annotations\n",
        "\n",
        "try:\n",
        "    import jax\n",
        "    JAX_AVAILABLE = True\n",
        "except ImportError:\n",
        "    JAX_AVAILABLE = False\n",
        "    \n",
        "try:\n",
        "    import klujax\n",
        "    KLUJAX_AVAILABLE = True\n",
        "except ImportError:\n",
        "    KLUJAX_AVAILABLE = False\n",
        "\n",
        "from sax.backends.default import evaluate_circuit\n",
        "from sax.backends.klu import evaluate_circuit_klu\n",
        "from sax.backends.additive import evaluate_circuit_additive"
      ]
    },
    {
      "cell_type": "markdown",
      "id": "a39b2084",
      "metadata": {
        "papermill": {
          "duration": 0.001571,
          "end_time": "2023-06-01T21:32:48.321268",
          "exception": false,
          "start_time": "2023-06-01T21:32:48.319697",
          "status": "completed"
        },
        "tags": []
      },
      "source": [
        "#### circuit_backends"
      ]
    },
    {
      "cell_type": "code",
      "execution_count": 4,
      "id": "4171e71d504e468b",
      "metadata": {
        "execution": {
          "iopub.execute_input": "2023-06-01T21:32:48.325407Z",
          "iopub.status.busy": "2023-06-01T21:32:48.325216Z",
          "iopub.status.idle": "2023-06-01T21:32:48.328007Z",
          "shell.execute_reply": "2023-06-01T21:32:48.327671Z"
        },
        "papermill": {
          "duration": 0.008837,
          "end_time": "2023-06-01T21:32:48.331776",
          "exception": false,
          "start_time": "2023-06-01T21:32:48.322939",
          "status": "completed"
        },
        "tags": []
      },
      "outputs": [],
      "source": [
        "\n",
        "circuit_backends = {\n",
        "    \"default\": evaluate_circuit,\n",
        "    \"klu\": evaluate_circuit_klu,\n",
        "    \"additive\": evaluate_circuit_additive,\n",
        "}\n",
        "\n",
        "if (not JAX_AVAILABLE) or (not KLUJAX_AVAILABLE):\n",
        "    del circuit_backends[\"klu\"]"
      ]
    },
    {
      "cell_type": "markdown",
      "id": "b23a8349",
      "metadata": {
        "papermill": {
          "duration": 0.001624,
          "end_time": "2023-06-01T21:32:48.335005",
          "exception": false,
          "start_time": "2023-06-01T21:32:48.333381",
          "status": "completed"
        },
        "tags": []
      },
      "source": [
        "SAX allows to easily interchange the backend of a circuit. A SAX backend needs to have the following signature:"
      ]
    },
    {
      "cell_type": "code",
      "execution_count": 5,
      "id": "c7149da611b68458",
      "metadata": {
        "execution": {
          "iopub.execute_input": "2023-06-01T21:32:48.339168Z",
          "iopub.status.busy": "2023-06-01T21:32:48.338985Z",
          "iopub.status.idle": "2023-06-01T21:32:48.354337Z",
          "shell.execute_reply": "2023-06-01T21:32:48.353980Z"
        },
        "papermill": {
          "duration": 0.018954,
          "end_time": "2023-06-01T21:32:48.355635",
          "exception": false,
          "start_time": "2023-06-01T21:32:48.336681",
          "status": "completed"
        },
        "tags": [
          "remove-input"
        ]
      },
      "outputs": [
        {
          "data": {
            "text/markdown": [
              "<h4 id=\"evaluate_circuit\" class=\"doc_header\"><code>evaluate_circuit</code><a href=\"https://github.com/flaport/sax/tree/master/sax/backends/default.py#L33\" class=\"source_link\" style=\"float:right\">[source]</a></h4>\n",
              "\n",
              "> <code>evaluate_circuit</code>(**`instances`**:`Dict[str, SType]`, **`connections`**:`Dict[str, str]`, **`ports`**:`Dict[str, str]`)\n",
              "\n"
            ],
            "text/plain": [
              "<IPython.core.display.Markdown object>"
            ]
          },
          "metadata": {},
          "output_type": "display_data"
        }
      ],
      "source": [
        "from sax.backends.default import evaluate_circuit\n",
        "show_doc(evaluate_circuit, doc_string=False)"
      ]
    },
    {
      "cell_type": "markdown",
      "id": "df66e846",
      "metadata": {
        "papermill": {
          "duration": 0.00182,
          "end_time": "2023-06-01T21:32:48.359372",
          "exception": false,
          "start_time": "2023-06-01T21:32:48.357552",
          "status": "completed"
        },
        "tags": []
      },
      "source": [
        "i.e. it takes a dictionary of instance names pointing to `SType`s (usually `SDict`s), a connection dictionary and an (output) ports dictionary. Internally it must construct the output `SType` (usually output `SDict`)."
      ]
    },
    {
      "cell_type": "markdown",
      "id": "835a521a",
      "metadata": {
        "papermill": {
          "duration": 0.001774,
          "end_time": "2023-06-01T21:32:48.363107",
          "exception": false,
          "start_time": "2023-06-01T21:32:48.361333",
          "status": "completed"
        },
        "tags": []
      },
      "source": [
        "> Example\n",
        "\n",
        "Let's create an MZI `SDict` using the default backend's `evaluate_circuit`:"
      ]
    },
    {
      "cell_type": "code",
      "execution_count": 6,
      "id": "8a22955d",
      "metadata": {
        "execution": {
          "iopub.execute_input": "2023-06-01T21:32:48.367564Z",
          "iopub.status.busy": "2023-06-01T21:32:48.367374Z",
          "iopub.status.idle": "2023-06-01T21:32:49.142982Z",
          "shell.execute_reply": "2023-06-01T21:32:49.142576Z"
        },
        "papermill": {
          "duration": 0.779569,
          "end_time": "2023-06-01T21:32:49.144438",
          "exception": false,
          "start_time": "2023-06-01T21:32:48.364869",
          "status": "completed"
        },
        "tags": []
      },
      "outputs": [
        {
          "data": {
            "text/plain": [
              "{('in0', 'in0'): Array(0.+0.j, dtype=complex64),\n",
              " ('in0', 'in1'): Array(0.+0.j, dtype=complex64),\n",
              " ('in1', 'in0'): Array(0.+0.j, dtype=complex64),\n",
              " ('in1', 'in1'): Array(0.+0.j, dtype=complex64),\n",
              " ('out0', 'out0'): Array(0.+0.j, dtype=complex64),\n",
              " ('out0', 'out1'): Array(0.+0.j, dtype=complex64),\n",
              " ('out1', 'out0'): Array(0.+0.j, dtype=complex64),\n",
              " ('out1', 'out1'): Array(0.+0.j, dtype=complex64),\n",
              " ('in1', 'out0'): Array(-0.433015+0.74999994j, dtype=complex64),\n",
              " ('in1', 'out1'): Array(0.24999999-0.433015j, dtype=complex64),\n",
              " ('in0', 'out0'): Array(-0.24999999+0.433015j, dtype=complex64),\n",
              " ('in0', 'out1'): Array(-0.433015+0.74999994j, dtype=complex64),\n",
              " ('out0', 'in1'): Array(-0.433015+0.74999994j, dtype=complex64),\n",
              " ('out0', 'in0'): Array(-0.24999999+0.433015j, dtype=complex64),\n",
              " ('out1', 'in1'): Array(0.24999999-0.433015j, dtype=complex64),\n",
              " ('out1', 'in0'): Array(-0.433015+0.74999994j, dtype=complex64)}"
            ]
          },
          "execution_count": 6,
          "metadata": {},
          "output_type": "execute_result"
        }
      ],
      "source": [
        "wg_sdict: SDict = {\n",
        "    (\"in0\", \"out0\"): 0.5 + 0.86603j,\n",
        "    (\"out0\", \"in0\"): 0.5 + 0.86603j,\n",
        "}\n",
        "\n",
        "\u03c4, \u03ba = 0.5 ** 0.5, 1j * 0.5 ** 0.5\n",
        "dc_sdense: SDense = (\n",
        "    jnp.array([[0, 0, \u03c4, \u03ba], \n",
        "               [0, 0, \u03ba, \u03c4], \n",
        "               [\u03c4, \u03ba, 0, 0], \n",
        "               [\u03ba, \u03c4, 0, 0]]),\n",
        "    {\"in0\": 0, \"in1\": 1, \"out0\": 2, \"out1\": 3},\n",
        ")\n",
        "\n",
        "mzi_sdict: SDict = evaluate_circuit(\n",
        "    instances={\n",
        "        \"dc1\": dc_sdense,\n",
        "        \"wg\": wg_sdict,\n",
        "        \"dc2\": dc_sdense,\n",
        "    },\n",
        "    connections={\n",
        "        \"dc1,out0\": \"wg,in0\",\n",
        "        \"wg,out0\": \"dc2,in0\",\n",
        "        \"dc1,out1\": \"dc2,in1\",\n",
        "    },\n",
        "    ports={\n",
        "        \"in0\": \"dc1,in0\",\n",
        "        \"in1\": \"dc1,in1\",\n",
        "        \"out0\": \"dc2,out0\",\n",
        "        \"out1\": \"dc2,out1\",\n",
        "    }\n",
        ")\n",
        "\n",
        "mzi_sdict"
      ]
    }
  ],
  "metadata": {
    "kernelspec": {
      "display_name": "sax",
      "language": "python",
      "name": "sax"
    },
    "language_info": {
      "codemirror_mode": {
        "name": "ipython",
        "version": 3
      },
      "file_extension": ".py",
      "mimetype": "text/x-python",
      "name": "python",
      "nbconvert_exporter": "python",
      "pygments_lexer": "ipython3",
      "version": "3.11.3"
    },
    "papermill": {
      "default_parameters": {},
      "duration": 3.851265,
      "end_time": "2023-06-01T21:32:49.666447",
      "environment_variables": {},
      "exception": null,
      "input_path": "./nbs/08_backends.ipynb",
      "output_path": "./nbs/08_backends.ipynb",
      "parameters": {},
      "start_time": "2023-06-01T21:32:45.815182",
      "version": "2.3.4"
    }
  },
  "nbformat": 4,
  "nbformat_minor": 5
}