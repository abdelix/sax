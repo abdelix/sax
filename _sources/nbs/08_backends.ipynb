{
  "cells": [
    {
      "cell_type": "code",
      "execution_count": 1,
      "id": "015a64d07b11c51e",
      "metadata": {
        "execution": {
          "iopub.execute_input": "2023-09-02T19:00:38.182413Z",
          "iopub.status.busy": "2023-09-02T19:00:38.181846Z",
          "iopub.status.idle": "2023-09-02T19:00:38.185148Z",
          "shell.execute_reply": "2023-09-02T19:00:38.184623Z"
        },
        "papermill": {
          "duration": 0.007956,
          "end_time": "2023-09-02T19:00:38.186391",
          "exception": false,
          "start_time": "2023-09-02T19:00:38.178435",
          "status": "completed"
        },
        "tags": [
          "remove-cell"
        ]
      },
      "outputs": [],
      "source": []
    },
    {
      "cell_type": "markdown",
      "id": "079604be",
      "metadata": {
        "papermill": {
          "duration": 0.00183,
          "end_time": "2023-09-02T19:00:38.190276",
          "exception": false,
          "start_time": "2023-09-02T19:00:38.188446",
          "status": "completed"
        },
        "tags": []
      },
      "source": [
        "# Backend\n",
        "\n",
        "> SAX Backends"
      ]
    },
    {
      "cell_type": "code",
      "execution_count": 2,
      "id": "c93270c1621a19b5",
      "metadata": {
        "execution": {
          "iopub.execute_input": "2023-09-02T19:00:38.194785Z",
          "iopub.status.busy": "2023-09-02T19:00:38.194585Z",
          "iopub.status.idle": "2023-09-02T19:00:39.350399Z",
          "shell.execute_reply": "2023-09-02T19:00:39.349953Z"
        },
        "papermill": {
          "duration": 1.15981,
          "end_time": "2023-09-02T19:00:39.351840",
          "exception": false,
          "start_time": "2023-09-02T19:00:38.192030",
          "status": "completed"
        },
        "tags": [
          "remove-cell"
        ]
      },
      "outputs": [],
      "source": [
        "from nbdev import show_doc\n",
        "from sax.typing_ import SDense, SDict, sdict\n",
        "\n",
        "import os, sys; sys.stderr = open(os.devnull, \"w\")"
      ]
    },
    {
      "cell_type": "code",
      "execution_count": 3,
      "id": "9c94ea74dc0baed0",
      "metadata": {
        "execution": {
          "iopub.execute_input": "2023-09-02T19:00:39.357580Z",
          "iopub.status.busy": "2023-09-02T19:00:39.357042Z",
          "iopub.status.idle": "2023-09-02T19:00:39.361347Z",
          "shell.execute_reply": "2023-09-02T19:00:39.360935Z"
        },
        "papermill": {
          "duration": 0.008617,
          "end_time": "2023-09-02T19:00:39.362574",
          "exception": false,
          "start_time": "2023-09-02T19:00:39.353957",
          "status": "completed"
        },
        "tags": [
          "remove-cell"
        ]
      },
      "outputs": [],
      "source": [
        "from __future__ import annotations\n",
        "\n",
        "import warnings\n",
        "from typing import Any, Dict\n",
        "\n",
        "try:\n",
        "    import jax\n",
        "    import jax.numpy as jnp\n",
        "    JAX_AVAILABLE = True\n",
        "except ImportError:\n",
        "    import numpy as jnp\n",
        "    JAX_AVAILABLE = False\n",
        "    \n",
        "try:\n",
        "    import klujax\n",
        "    KLUJAX_AVAILABLE = True\n",
        "except ImportError:\n",
        "    KLUJAX_AVAILABLE = False\n",
        "\n",
        "from sax.backends.additive import analyze_circuit_additive, evaluate_circuit_additive\n",
        "from sax.backends.filipsson_gunnar import analyze_circuit_fg, evaluate_circuit_fg\n",
        "from sax.typing_ import SType, sdict\n",
        "\n",
        "if JAX_AVAILABLE and KLUJAX_AVAILABLE:\n",
        "    from sax.backends.klu import analyze_circuit_klu, evaluate_circuit_klu"
      ]
    },
    {
      "cell_type": "markdown",
      "id": "a39b2084",
      "metadata": {
        "papermill": {
          "duration": 0.001798,
          "end_time": "2023-09-02T19:00:39.366174",
          "exception": false,
          "start_time": "2023-09-02T19:00:39.364376",
          "status": "completed"
        },
        "tags": []
      },
      "source": [
        "#### circuit_backends"
      ]
    },
    {
      "cell_type": "code",
      "execution_count": 4,
      "id": "adec386928a06c83",
      "metadata": {
        "execution": {
          "iopub.execute_input": "2023-09-02T19:00:39.370535Z",
          "iopub.status.busy": "2023-09-02T19:00:39.370347Z",
          "iopub.status.idle": "2023-09-02T19:00:39.374486Z",
          "shell.execute_reply": "2023-09-02T19:00:39.374107Z"
        },
        "papermill": {
          "duration": 0.007787,
          "end_time": "2023-09-02T19:00:39.375705",
          "exception": false,
          "start_time": "2023-09-02T19:00:39.367918",
          "status": "completed"
        },
        "tags": []
      },
      "outputs": [],
      "source": [
        "\n",
        "circuit_backends = {\n",
        "    \"fg\": (analyze_circuit_fg, evaluate_circuit_fg),\n",
        "    \"filipsson_gunnar\": (analyze_circuit_fg, evaluate_circuit_fg),\n",
        "    \"additive\": (analyze_circuit_additive, evaluate_circuit_additive),\n",
        "}\n",
        "\n",
        "if JAX_AVAILABLE and KLUJAX_AVAILABLE:\n",
        "    circuit_backends[\"klu\"] = (analyze_circuit_klu, evaluate_circuit_klu)\n",
        "    circuit_backends[\"default\"] = (analyze_circuit_klu, evaluate_circuit_klu)\n",
        "else:\n",
        "    circuit_backends[\"default\"] = (analyze_circuit_fg, evaluate_circuit_fg)\n",
        "    warnings.warn(\"klujax not found. Please install klujax for better performance during circuit evaluation!\")"
      ]
    },
    {
      "cell_type": "markdown",
      "id": "b23a8349",
      "metadata": {
        "papermill": {
          "duration": 0.001857,
          "end_time": "2023-09-02T19:00:39.379403",
          "exception": false,
          "start_time": "2023-09-02T19:00:39.377546",
          "status": "completed"
        },
        "tags": []
      },
      "source": [
        "SAX allows to easily interchange the backend of a circuit. A SAX backend consists of a static analysis step and an evaluation step:"
      ]
    },
    {
      "cell_type": "markdown",
      "id": "7832c8aa5a4b7776",
      "metadata": {},
      "source": [
        ":::{eval-rst}\n",
        ".. autofunction:: sax.backends.__init__.analyze_circuit\n",
        ":::\n"
      ]
    },
    {
      "cell_type": "code",
      "execution_count": 5,
      "id": "66211fa5a6ce85a5",
      "metadata": {
        "execution": {
          "iopub.execute_input": "2023-09-02T19:00:39.383812Z",
          "iopub.status.busy": "2023-09-02T19:00:39.383622Z",
          "iopub.status.idle": "2023-09-02T19:00:39.386825Z",
          "shell.execute_reply": "2023-09-02T19:00:39.386407Z"
        },
        "papermill": {
          "duration": 0.006889,
          "end_time": "2023-09-02T19:00:39.388060",
          "exception": false,
          "start_time": "2023-09-02T19:00:39.381171",
          "status": "completed"
        },
        "tags": [
          "hide-input"
        ]
      },
      "outputs": [],
      "source": [
        "def analyze_circuit(connections: Dict[str, str], ports: Dict[str, str]) -> Any:\n",
        "    return circuit_backends['default'][0](connections, ports)"
      ]
    },
    {
      "cell_type": "markdown",
      "id": "faf22b05f272571e",
      "metadata": {},
      "source": [
        ":::{eval-rst}\n",
        ".. autofunction:: sax.backends.__init__.evaluate_circuit\n",
        ":::\n"
      ]
    },
    {
      "cell_type": "code",
      "execution_count": 6,
      "id": "ada0b70ae41376ab",
      "metadata": {
        "execution": {
          "iopub.execute_input": "2023-09-02T19:00:39.392841Z",
          "iopub.status.busy": "2023-09-02T19:00:39.392390Z",
          "iopub.status.idle": "2023-09-02T19:00:39.395298Z",
          "shell.execute_reply": "2023-09-02T19:00:39.394746Z"
        },
        "papermill": {
          "duration": 0.006584,
          "end_time": "2023-09-02T19:00:39.396527",
          "exception": false,
          "start_time": "2023-09-02T19:00:39.389943",
          "status": "completed"
        },
        "tags": [
          "hide-input"
        ]
      },
      "outputs": [],
      "source": [
        "def evaluate_circuit(analyzed: Any, instances: Dict[str, SType]) -> SType:\n",
        "    return circuit_backends['default'][1](analyzed, instances)"
      ]
    },
    {
      "cell_type": "markdown",
      "id": "df66e846",
      "metadata": {
        "papermill": {
          "duration": 0.002637,
          "end_time": "2023-09-02T19:00:39.401039",
          "exception": false,
          "start_time": "2023-09-02T19:00:39.398402",
          "status": "completed"
        },
        "tags": []
      },
      "source": [
        "The `analyze_circuit` step should statically analyze the connections and ports and should return an `analyzed` object. This object contains all the static objects that are needed for circuit computation but won't be needed to be recalculated when any parameters of the circuit change. See [KLU backend](./08b_backends_klu.ipynb) for a non-trivial implementation of the circuit analyzation.\n",
        "\n",
        "The `evaluate_circuit` step evaluates the circuit for given `SType` instances."
      ]
    },
    {
      "cell_type": "markdown",
      "id": "835a521a",
      "metadata": {
        "papermill": {
          "duration": 0.001807,
          "end_time": "2023-09-02T19:00:39.404749",
          "exception": false,
          "start_time": "2023-09-02T19:00:39.402942",
          "status": "completed"
        },
        "tags": []
      },
      "source": [
        "> Example\n",
        "\n",
        "Let's create an MZI `SDict` using the default backend's `evaluate_circuit`:"
      ]
    },
    {
      "cell_type": "code",
      "execution_count": 7,
      "id": "b1219c35-7673-4887-9f1a-ce3aa0ff4e4d",
      "metadata": {
        "execution": {
          "iopub.execute_input": "2023-09-02T19:00:39.409586Z",
          "iopub.status.busy": "2023-09-02T19:00:39.409073Z",
          "iopub.status.idle": "2023-09-02T19:00:40.529227Z",
          "shell.execute_reply": "2023-09-02T19:00:40.528846Z"
        },
        "papermill": {
          "duration": 1.124017,
          "end_time": "2023-09-02T19:00:40.530594",
          "exception": false,
          "start_time": "2023-09-02T19:00:39.406577",
          "status": "completed"
        },
        "tags": []
      },
      "outputs": [
        {
          "data": {
            "text/plain": [
              "{('in0', 'in0'): Array(0.+0.j, dtype=complex128),\n",
              " ('in0', 'in1'): Array(0.+0.j, dtype=complex128),\n",
              " ('in0', 'out0'): Array(-0.25+0.433015j, dtype=complex128),\n",
              " ('in0', 'out1'): Array(-0.433015+0.75j, dtype=complex128),\n",
              " ('in1', 'in0'): Array(0.+0.j, dtype=complex128),\n",
              " ('in1', 'in1'): Array(0.+0.j, dtype=complex128),\n",
              " ('in1', 'out0'): Array(-0.433015+0.75j, dtype=complex128),\n",
              " ('in1', 'out1'): Array(0.25-0.433015j, dtype=complex128),\n",
              " ('out0', 'in0'): Array(-0.25+0.433015j, dtype=complex128),\n",
              " ('out0', 'in1'): Array(-0.433015+0.75j, dtype=complex128),\n",
              " ('out0', 'out0'): Array(0.+0.j, dtype=complex128),\n",
              " ('out0', 'out1'): Array(0.+0.j, dtype=complex128),\n",
              " ('out1', 'in0'): Array(-0.433015+0.75j, dtype=complex128),\n",
              " ('out1', 'in1'): Array(0.25-0.433015j, dtype=complex128),\n",
              " ('out1', 'out0'): Array(0.+0.j, dtype=complex128),\n",
              " ('out1', 'out1'): Array(0.+0.j, dtype=complex128)}"
            ]
          },
          "metadata": {},
          "output_type": "display_data"
        }
      ],
      "source": [
        "wg_sdict: SDict = {\n",
        "    (\"in0\", \"out0\"): 0.5 + 0.86603j,\n",
        "    (\"out0\", \"in0\"): 0.5 + 0.86603j,\n",
        "}\n",
        "\n",
        "\u03c4, \u03ba = 0.5 ** 0.5, 1j * 0.5 ** 0.5\n",
        "dc_sdense: SDense = (\n",
        "    jnp.array([[0, 0, \u03c4, \u03ba], \n",
        "               [0, 0, \u03ba, \u03c4], \n",
        "               [\u03c4, \u03ba, 0, 0], \n",
        "               [\u03ba, \u03c4, 0, 0]]),\n",
        "    {\"in0\": 0, \"in1\": 1, \"out0\": 2, \"out1\": 3},\n",
        ")\n",
        "\n",
        "instances={\n",
        "    \"dc1\": dc_sdense,\n",
        "    \"wg\": wg_sdict,\n",
        "    \"dc2\": dc_sdense,\n",
        "}\n",
        "connections={\n",
        "    \"dc1,out0\": \"wg,in0\",\n",
        "    \"wg,out0\": \"dc2,in0\",\n",
        "    \"dc1,out1\": \"dc2,in1\",\n",
        "}\n",
        "ports={\n",
        "    \"in0\": \"dc1,in0\",\n",
        "    \"in1\": \"dc1,in1\",\n",
        "    \"out0\": \"dc2,out0\",\n",
        "    \"out1\": \"dc2,out1\",\n",
        "}\n",
        "\n",
        "analyzed = analyze_circuit(connections, ports)\n",
        "mzi_sdict = sdict(evaluate_circuit(analyzed, instances))\n",
        "display(mzi_sdict)"
      ]
    }
  ],
  "metadata": {
    "kernelspec": {
      "display_name": "sax",
      "language": "python",
      "name": "sax"
    },
    "language_info": {
      "codemirror_mode": {
        "name": "ipython",
        "version": 3
      },
      "file_extension": ".py",
      "mimetype": "text/x-python",
      "name": "python",
      "nbconvert_exporter": "python",
      "pygments_lexer": "ipython3",
      "version": "3.11.5"
    },
    "papermill": {
      "default_parameters": {},
      "duration": 4.085489,
      "end_time": "2023-09-02T19:00:40.948774",
      "environment_variables": {},
      "exception": null,
      "input_path": "./nbs/08_backends.ipynb",
      "output_path": "./nbs/08_backends.ipynb",
      "parameters": {},
      "start_time": "2023-09-02T19:00:36.863285",
      "version": "2.4.0"
    }
  },
  "nbformat": 4,
  "nbformat_minor": 5
}