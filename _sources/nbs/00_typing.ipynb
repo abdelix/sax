{
  "cells": [
    {
      "cell_type": "code",
      "execution_count": 1,
      "id": "423b0e1b5286e716",
      "metadata": {
        "execution": {
          "iopub.execute_input": "2023-09-01T18:13:40.008512Z",
          "iopub.status.busy": "2023-09-01T18:13:40.008036Z",
          "iopub.status.idle": "2023-09-01T18:13:40.011250Z",
          "shell.execute_reply": "2023-09-01T18:13:40.010688Z"
        },
        "papermill": {
          "duration": 0.043918,
          "end_time": "2023-09-01T18:13:40.012477",
          "exception": false,
          "start_time": "2023-09-01T18:13:39.968559",
          "status": "completed"
        },
        "tags": [
          "remove-cell"
        ]
      },
      "outputs": [],
      "source": []
    },
    {
      "cell_type": "markdown",
      "id": "13a3464b",
      "metadata": {
        "papermill": {
          "duration": 0.009765,
          "end_time": "2023-09-01T18:13:40.032145",
          "exception": false,
          "start_time": "2023-09-01T18:13:40.022380",
          "status": "completed"
        },
        "tags": []
      },
      "source": [
        "# Typing\n",
        "\n",
        "> SAX types"
      ]
    },
    {
      "cell_type": "code",
      "execution_count": 2,
      "id": "a8079411388097ea",
      "metadata": {
        "execution": {
          "iopub.execute_input": "2023-09-01T18:13:40.052628Z",
          "iopub.status.busy": "2023-09-01T18:13:40.052184Z",
          "iopub.status.idle": "2023-09-01T18:13:40.477402Z",
          "shell.execute_reply": "2023-09-01T18:13:40.476962Z"
        },
        "papermill": {
          "duration": 0.437221,
          "end_time": "2023-09-01T18:13:40.478942",
          "exception": false,
          "start_time": "2023-09-01T18:13:40.041721",
          "status": "completed"
        },
        "tags": [
          "remove-cell"
        ]
      },
      "outputs": [],
      "source": [
        "import matplotlib.pyplot as plt\n",
        "from fastcore.test import test_eq\n",
        "from pytest import approx, raises\n",
        "\n",
        "import os, sys; sys.stderr = open(os.devnull, \"w\")"
      ]
    },
    {
      "cell_type": "code",
      "execution_count": 3,
      "id": "94b7348525cdfec7",
      "metadata": {
        "execution": {
          "iopub.execute_input": "2023-09-01T18:13:40.500437Z",
          "iopub.status.busy": "2023-09-01T18:13:40.499886Z",
          "iopub.status.idle": "2023-09-01T18:13:40.881316Z",
          "shell.execute_reply": "2023-09-01T18:13:40.880865Z"
        },
        "papermill": {
          "duration": 0.3941,
          "end_time": "2023-09-01T18:13:40.882967",
          "exception": false,
          "start_time": "2023-09-01T18:13:40.488867",
          "status": "completed"
        },
        "tags": [
          "hide-input"
        ]
      },
      "outputs": [],
      "source": [
        "from __future__ import annotations\n",
        "import functools\n",
        "import inspect\n",
        "from collections.abc import Callable as CallableABC\n",
        "from typing import Any, Callable, Dict, Tuple, Union, cast, overload\n",
        "try:\n",
        "    from typing import TypedDict\n",
        "except ImportError: # python<3.8\n",
        "    from typing_extensions import TypedDict\n",
        "\n",
        "import numpy as np\n",
        "from natsort import natsorted\n",
        "\n",
        "try:\n",
        "    import jax.numpy as jnp\n",
        "    JAX_AVAILABLE = True\n",
        "except ImportError:\n",
        "    import numpy as jnp\n",
        "    JAX_AVAILABLE = False"
      ]
    },
    {
      "cell_type": "markdown",
      "id": "41e26ab2",
      "metadata": {
        "papermill": {
          "duration": 0.009938,
          "end_time": "2023-09-01T18:13:40.902766",
          "exception": false,
          "start_time": "2023-09-01T18:13:40.892828",
          "status": "completed"
        },
        "tags": []
      },
      "source": [
        "## Core Types"
      ]
    },
    {
      "cell_type": "markdown",
      "id": "ca29df5c",
      "metadata": {
        "papermill": {
          "duration": 0.009542,
          "end_time": "2023-09-01T18:13:40.922113",
          "exception": false,
          "start_time": "2023-09-01T18:13:40.912571",
          "status": "completed"
        },
        "tags": []
      },
      "source": [
        "### Array"
      ]
    },
    {
      "cell_type": "markdown",
      "id": "82c3c344",
      "metadata": {
        "papermill": {
          "duration": 0.009499,
          "end_time": "2023-09-01T18:13:40.941213",
          "exception": false,
          "start_time": "2023-09-01T18:13:40.931714",
          "status": "completed"
        },
        "tags": []
      },
      "source": [
        "an `Array` is either a jax array or a numpy array:"
      ]
    },
    {
      "cell_type": "code",
      "execution_count": 4,
      "id": "fe1a6e759d72797a",
      "metadata": {
        "execution": {
          "iopub.execute_input": "2023-09-01T18:13:40.962163Z",
          "iopub.status.busy": "2023-09-01T18:13:40.961372Z",
          "iopub.status.idle": "2023-09-01T18:13:40.964566Z",
          "shell.execute_reply": "2023-09-01T18:13:40.964198Z"
        },
        "papermill": {
          "duration": 0.014955,
          "end_time": "2023-09-01T18:13:40.965739",
          "exception": false,
          "start_time": "2023-09-01T18:13:40.950784",
          "status": "completed"
        },
        "tags": []
      },
      "outputs": [],
      "source": [
        "Array = Union[jnp.ndarray, np.ndarray]"
      ]
    },
    {
      "cell_type": "markdown",
      "id": "6b86fa37",
      "metadata": {
        "papermill": {
          "duration": 0.009546,
          "end_time": "2023-09-01T18:13:40.984963",
          "exception": false,
          "start_time": "2023-09-01T18:13:40.975417",
          "status": "completed"
        },
        "tags": []
      },
      "source": [
        "### Int"
      ]
    },
    {
      "cell_type": "markdown",
      "id": "9fa467c9",
      "metadata": {
        "papermill": {
          "duration": 0.009841,
          "end_time": "2023-09-01T18:13:41.004459",
          "exception": false,
          "start_time": "2023-09-01T18:13:40.994618",
          "status": "completed"
        },
        "tags": []
      },
      "source": [
        "An `Int` is either a built-in `int` or an `Array` [of dtype `int`]"
      ]
    },
    {
      "cell_type": "code",
      "execution_count": 5,
      "id": "547d3101eddf4e2c",
      "metadata": {
        "execution": {
          "iopub.execute_input": "2023-09-01T18:13:41.025252Z",
          "iopub.status.busy": "2023-09-01T18:13:41.024704Z",
          "iopub.status.idle": "2023-09-01T18:13:41.027375Z",
          "shell.execute_reply": "2023-09-01T18:13:41.027033Z"
        },
        "papermill": {
          "duration": 0.014233,
          "end_time": "2023-09-01T18:13:41.028442",
          "exception": false,
          "start_time": "2023-09-01T18:13:41.014209",
          "status": "completed"
        },
        "tags": []
      },
      "outputs": [],
      "source": [
        "Int = Union[int, Array]"
      ]
    },
    {
      "cell_type": "markdown",
      "id": "c486cd2c",
      "metadata": {
        "papermill": {
          "duration": 0.009582,
          "end_time": "2023-09-01T18:13:41.047731",
          "exception": false,
          "start_time": "2023-09-01T18:13:41.038149",
          "status": "completed"
        },
        "tags": []
      },
      "source": [
        "### Float"
      ]
    },
    {
      "cell_type": "markdown",
      "id": "3b59bba6",
      "metadata": {
        "papermill": {
          "duration": 0.009518,
          "end_time": "2023-09-01T18:13:41.066834",
          "exception": false,
          "start_time": "2023-09-01T18:13:41.057316",
          "status": "completed"
        },
        "tags": []
      },
      "source": [
        "A `Float` is eiter a built-in `float` or an `Array` [of dtype `float`]"
      ]
    },
    {
      "cell_type": "code",
      "execution_count": 6,
      "id": "6ca9fc0195e29f4a",
      "metadata": {
        "execution": {
          "iopub.execute_input": "2023-09-01T18:13:41.087565Z",
          "iopub.status.busy": "2023-09-01T18:13:41.086923Z",
          "iopub.status.idle": "2023-09-01T18:13:41.089625Z",
          "shell.execute_reply": "2023-09-01T18:13:41.089299Z"
        },
        "papermill": {
          "duration": 0.014224,
          "end_time": "2023-09-01T18:13:41.090656",
          "exception": false,
          "start_time": "2023-09-01T18:13:41.076432",
          "status": "completed"
        },
        "tags": []
      },
      "outputs": [],
      "source": [
        "Float = Union[float, Array]"
      ]
    },
    {
      "cell_type": "markdown",
      "id": "bdfd6200",
      "metadata": {
        "papermill": {
          "duration": 0.00957,
          "end_time": "2023-09-01T18:13:41.110012",
          "exception": false,
          "start_time": "2023-09-01T18:13:41.100442",
          "status": "completed"
        },
        "tags": []
      },
      "source": [
        "### ComplexFloat"
      ]
    },
    {
      "cell_type": "markdown",
      "id": "b1a7d255",
      "metadata": {
        "papermill": {
          "duration": 0.009549,
          "end_time": "2023-09-01T18:13:41.129170",
          "exception": false,
          "start_time": "2023-09-01T18:13:41.119621",
          "status": "completed"
        },
        "tags": []
      },
      "source": [
        "A `ComplexFloat` is either a build-in `complex` or an Array [of dtype `complex`]:"
      ]
    },
    {
      "cell_type": "code",
      "execution_count": 7,
      "id": "374ea35f9a7590a9",
      "metadata": {
        "execution": {
          "iopub.execute_input": "2023-09-01T18:13:41.149853Z",
          "iopub.status.busy": "2023-09-01T18:13:41.149288Z",
          "iopub.status.idle": "2023-09-01T18:13:41.152030Z",
          "shell.execute_reply": "2023-09-01T18:13:41.151625Z"
        },
        "papermill": {
          "duration": 0.014415,
          "end_time": "2023-09-01T18:13:41.153204",
          "exception": false,
          "start_time": "2023-09-01T18:13:41.138789",
          "status": "completed"
        },
        "tags": []
      },
      "outputs": [],
      "source": [
        "ComplexFloat = Union[complex, Float]"
      ]
    },
    {
      "cell_type": "markdown",
      "id": "1f1aa099",
      "metadata": {
        "papermill": {
          "duration": 0.009642,
          "end_time": "2023-09-01T18:13:41.172578",
          "exception": false,
          "start_time": "2023-09-01T18:13:41.162936",
          "status": "completed"
        },
        "tags": []
      },
      "source": [
        "### Settings"
      ]
    },
    {
      "cell_type": "markdown",
      "id": "69839acd",
      "metadata": {
        "papermill": {
          "duration": 0.009777,
          "end_time": "2023-09-01T18:13:41.192015",
          "exception": false,
          "start_time": "2023-09-01T18:13:41.182238",
          "status": "completed"
        },
        "tags": []
      },
      "source": [
        "A `Settings` dictionary is a nested mapping between setting names [`str`] to either `ComplexFloat` values OR to another lower level `Settings` dictionary."
      ]
    },
    {
      "cell_type": "code",
      "execution_count": 8,
      "id": "00d15544f589f278",
      "metadata": {
        "execution": {
          "iopub.execute_input": "2023-09-01T18:13:41.212803Z",
          "iopub.status.busy": "2023-09-01T18:13:41.212337Z",
          "iopub.status.idle": "2023-09-01T18:13:41.215228Z",
          "shell.execute_reply": "2023-09-01T18:13:41.214851Z"
        },
        "papermill": {
          "duration": 0.014615,
          "end_time": "2023-09-01T18:13:41.216389",
          "exception": false,
          "start_time": "2023-09-01T18:13:41.201774",
          "status": "completed"
        },
        "tags": []
      },
      "outputs": [],
      "source": [
        "Settings = Union[Dict[str, ComplexFloat], Dict[str, \"Settings\"]]"
      ]
    },
    {
      "cell_type": "markdown",
      "id": "cf202d06",
      "metadata": {
        "papermill": {
          "duration": 0.009736,
          "end_time": "2023-09-01T18:13:41.235857",
          "exception": false,
          "start_time": "2023-09-01T18:13:41.226121",
          "status": "completed"
        },
        "tags": []
      },
      "source": [
        "Settings dictionaries are used to parametrize a SAX `Model` or a `circuit`. The settings dictionary should have the same hierarchy levels as the circuit:\n",
        " \n",
        " > Example:"
      ]
    },
    {
      "cell_type": "code",
      "execution_count": 9,
      "id": "2b26c4ab",
      "metadata": {
        "execution": {
          "iopub.execute_input": "2023-09-01T18:13:41.256617Z",
          "iopub.status.busy": "2023-09-01T18:13:41.256190Z",
          "iopub.status.idle": "2023-09-01T18:13:41.259038Z",
          "shell.execute_reply": "2023-09-01T18:13:41.258642Z"
        },
        "papermill": {
          "duration": 0.014578,
          "end_time": "2023-09-01T18:13:41.260205",
          "exception": false,
          "start_time": "2023-09-01T18:13:41.245627",
          "status": "completed"
        },
        "tags": []
      },
      "outputs": [],
      "source": [
        "mzi_settings = {\n",
        "    \"wl\": 1.5,  # global settings\n",
        "    \"lft\": {\"coupling\": 0.5},  # settings for the left coupler\n",
        "    \"top\": {\"neff\": 3.4},  # settings for the top waveguide\n",
        "    \"rgt\": {\"coupling\": 0.3},  # settings for the right coupler\n",
        "}"
      ]
    },
    {
      "cell_type": "markdown",
      "id": "45043912",
      "metadata": {
        "papermill": {
          "duration": 0.009674,
          "end_time": "2023-09-01T18:13:41.279737",
          "exception": false,
          "start_time": "2023-09-01T18:13:41.270063",
          "status": "completed"
        },
        "tags": []
      },
      "source": [
        "### SDict"
      ]
    },
    {
      "cell_type": "markdown",
      "id": "c5a7facf",
      "metadata": {
        "papermill": {
          "duration": 0.009674,
          "end_time": "2023-09-01T18:13:41.299154",
          "exception": false,
          "start_time": "2023-09-01T18:13:41.289480",
          "status": "completed"
        },
        "tags": []
      },
      "source": [
        "An `SDict` is a sparse dictionary based representation of an S-matrix, mapping port name tuples such as `('in0', 'out0')` to `ComplexFloat`."
      ]
    },
    {
      "cell_type": "code",
      "execution_count": 10,
      "id": "832dd5045e3d7275",
      "metadata": {
        "execution": {
          "iopub.execute_input": "2023-09-01T18:13:41.320115Z",
          "iopub.status.busy": "2023-09-01T18:13:41.319546Z",
          "iopub.status.idle": "2023-09-01T18:13:41.322343Z",
          "shell.execute_reply": "2023-09-01T18:13:41.321927Z"
        },
        "papermill": {
          "duration": 0.014506,
          "end_time": "2023-09-01T18:13:41.323501",
          "exception": false,
          "start_time": "2023-09-01T18:13:41.308995",
          "status": "completed"
        },
        "tags": []
      },
      "outputs": [],
      "source": [
        "SDict = Dict[Tuple[str, str], ComplexFloat]"
      ]
    },
    {
      "cell_type": "markdown",
      "id": "07dc470a",
      "metadata": {
        "papermill": {
          "duration": 0.009659,
          "end_time": "2023-09-01T18:13:41.342936",
          "exception": false,
          "start_time": "2023-09-01T18:13:41.333277",
          "status": "completed"
        },
        "tags": []
      },
      "source": [
        "> Example:"
      ]
    },
    {
      "cell_type": "code",
      "execution_count": 11,
      "id": "ad65a70c",
      "metadata": {
        "execution": {
          "iopub.execute_input": "2023-09-01T18:13:41.363810Z",
          "iopub.status.busy": "2023-09-01T18:13:41.363380Z",
          "iopub.status.idle": "2023-09-01T18:13:41.366384Z",
          "shell.execute_reply": "2023-09-01T18:13:41.366038Z"
        },
        "papermill": {
          "duration": 0.015362,
          "end_time": "2023-09-01T18:13:41.368084",
          "exception": false,
          "start_time": "2023-09-01T18:13:41.352722",
          "status": "completed"
        },
        "tags": []
      },
      "outputs": [
        {
          "name": "stdout",
          "output_type": "stream",
          "text": [
            "{('in0', 'out0'): 3.0}\n"
          ]
        }
      ],
      "source": [
        "_sdict: SDict = {\n",
        "    (\"in0\", \"out0\"): 3.0,\n",
        "}\n",
        "print(_sdict)"
      ]
    },
    {
      "cell_type": "markdown",
      "id": "0e2c7430",
      "metadata": {
        "papermill": {
          "duration": 0.009896,
          "end_time": "2023-09-01T18:13:41.387895",
          "exception": false,
          "start_time": "2023-09-01T18:13:41.377999",
          "status": "completed"
        },
        "tags": []
      },
      "source": [
        "### SCoo"
      ]
    },
    {
      "cell_type": "markdown",
      "id": "ef614e1d",
      "metadata": {
        "papermill": {
          "duration": 0.009816,
          "end_time": "2023-09-01T18:13:41.407578",
          "exception": false,
          "start_time": "2023-09-01T18:13:41.397762",
          "status": "completed"
        },
        "tags": []
      },
      "source": [
        "An `SCoo` is a sparse matrix based representation of an S-matrix consisting of three arrays and a port map. The three arrays represent the input port indices [`int`], output port indices [`int`] and the S-matrix values [`ComplexFloat`] of the sparse matrix. The port map maps a port name [`str`] to a port index [`int`]. Only these four arrays **together** and in this specific **order** are considered a valid `SCoo` representation!"
      ]
    },
    {
      "cell_type": "code",
      "execution_count": 12,
      "id": "39e1feebc58b4d2f",
      "metadata": {
        "execution": {
          "iopub.execute_input": "2023-09-01T18:13:41.428759Z",
          "iopub.status.busy": "2023-09-01T18:13:41.428318Z",
          "iopub.status.idle": "2023-09-01T18:13:41.431021Z",
          "shell.execute_reply": "2023-09-01T18:13:41.430644Z"
        },
        "papermill": {
          "duration": 0.014594,
          "end_time": "2023-09-01T18:13:41.432184",
          "exception": false,
          "start_time": "2023-09-01T18:13:41.417590",
          "status": "completed"
        },
        "tags": []
      },
      "outputs": [],
      "source": [
        "SCoo = Tuple[Array, Array, ComplexFloat, Dict[str, int]]"
      ]
    },
    {
      "cell_type": "markdown",
      "id": "ff9719c8",
      "metadata": {
        "papermill": {
          "duration": 0.009902,
          "end_time": "2023-09-01T18:13:41.452034",
          "exception": false,
          "start_time": "2023-09-01T18:13:41.442132",
          "status": "completed"
        },
        "tags": []
      },
      "source": [
        "> Example:"
      ]
    },
    {
      "cell_type": "code",
      "execution_count": 13,
      "id": "972f8060",
      "metadata": {
        "execution": {
          "iopub.execute_input": "2023-09-01T18:13:41.473355Z",
          "iopub.status.busy": "2023-09-01T18:13:41.472709Z",
          "iopub.status.idle": "2023-09-01T18:13:41.502148Z",
          "shell.execute_reply": "2023-09-01T18:13:41.501726Z"
        },
        "papermill": {
          "duration": 0.041399,
          "end_time": "2023-09-01T18:13:41.503302",
          "exception": false,
          "start_time": "2023-09-01T18:13:41.461903",
          "status": "completed"
        },
        "tags": []
      },
      "outputs": [
        {
          "name": "stdout",
          "output_type": "stream",
          "text": [
            "[0 1 2]\n",
            "[0 1 0]\n",
            "[3. 4. 1.]\n",
            "{'in0': 0, 'in1': 2, 'out0': 1}\n"
          ]
        }
      ],
      "source": [
        "Si = jnp.arange(3, dtype=int)\n",
        "Sj = jnp.array([0, 1, 0], dtype=int)\n",
        "Sx = jnp.array([3.0, 4.0, 1.0])\n",
        "port_map = {\"in0\": 0, \"in1\": 2, \"out0\": 1}\n",
        "_scoo: SCoo = (Si, Sj, Sx, port_map)\n",
        "print(Si)\n",
        "print(Sj)\n",
        "print(Sx)\n",
        "print(port_map)"
      ]
    },
    {
      "cell_type": "markdown",
      "id": "2cba9246",
      "metadata": {
        "papermill": {
          "duration": 0.010023,
          "end_time": "2023-09-01T18:13:41.523564",
          "exception": false,
          "start_time": "2023-09-01T18:13:41.513541",
          "status": "completed"
        },
        "tags": []
      },
      "source": [
        "### SDense"
      ]
    },
    {
      "cell_type": "markdown",
      "id": "fd28795b",
      "metadata": {
        "papermill": {
          "duration": 0.010121,
          "end_time": "2023-09-01T18:13:41.543759",
          "exception": false,
          "start_time": "2023-09-01T18:13:41.533638",
          "status": "completed"
        },
        "tags": []
      },
      "source": [
        "an `SDense` is a dense matrix representation of an S-matrix. It's represented by an NxN `ComplexFloat` array and a port map (mapping port names onto port indices)."
      ]
    },
    {
      "cell_type": "code",
      "execution_count": 14,
      "id": "5a25d2e814756e56",
      "metadata": {
        "execution": {
          "iopub.execute_input": "2023-09-01T18:13:41.565356Z",
          "iopub.status.busy": "2023-09-01T18:13:41.564935Z",
          "iopub.status.idle": "2023-09-01T18:13:41.567853Z",
          "shell.execute_reply": "2023-09-01T18:13:41.567398Z"
        },
        "papermill": {
          "duration": 0.015145,
          "end_time": "2023-09-01T18:13:41.569033",
          "exception": false,
          "start_time": "2023-09-01T18:13:41.553888",
          "status": "completed"
        },
        "tags": []
      },
      "outputs": [],
      "source": [
        "SDense = Tuple[Array, Dict[str, int]]"
      ]
    },
    {
      "cell_type": "markdown",
      "id": "2c4789f7",
      "metadata": {
        "papermill": {
          "duration": 0.010073,
          "end_time": "2023-09-01T18:13:41.589815",
          "exception": false,
          "start_time": "2023-09-01T18:13:41.579742",
          "status": "completed"
        },
        "tags": []
      },
      "source": [
        "> Example:"
      ]
    },
    {
      "cell_type": "code",
      "execution_count": 15,
      "id": "02def7ed",
      "metadata": {
        "execution": {
          "iopub.execute_input": "2023-09-01T18:13:41.611335Z",
          "iopub.status.busy": "2023-09-01T18:13:41.610896Z",
          "iopub.status.idle": "2023-09-01T18:13:41.640118Z",
          "shell.execute_reply": "2023-09-01T18:13:41.639644Z"
        },
        "papermill": {
          "duration": 0.041308,
          "end_time": "2023-09-01T18:13:41.641254",
          "exception": false,
          "start_time": "2023-09-01T18:13:41.599946",
          "status": "completed"
        },
        "tags": []
      },
      "outputs": [
        {
          "name": "stdout",
          "output_type": "stream",
          "text": [
            "[[0. 1. 2.]\n",
            " [3. 4. 5.]\n",
            " [6. 7. 8.]]\n",
            "{'in0': 0, 'in1': 2, 'out0': 1}\n"
          ]
        }
      ],
      "source": [
        "Sd = jnp.arange(9, dtype=float).reshape(3, 3)\n",
        "port_map = {\"in0\": 0, \"in1\": 2, \"out0\": 1}\n",
        "_sdense = Sd, port_map\n",
        "print(Sd)\n",
        "print(port_map)"
      ]
    },
    {
      "cell_type": "markdown",
      "id": "b0d2e36f",
      "metadata": {
        "papermill": {
          "duration": 0.010094,
          "end_time": "2023-09-01T18:13:41.661595",
          "exception": false,
          "start_time": "2023-09-01T18:13:41.651501",
          "status": "completed"
        },
        "tags": []
      },
      "source": [
        "### SType"
      ]
    },
    {
      "cell_type": "markdown",
      "id": "b441f21d",
      "metadata": {
        "papermill": {
          "duration": 0.010047,
          "end_time": "2023-09-01T18:13:41.681875",
          "exception": false,
          "start_time": "2023-09-01T18:13:41.671828",
          "status": "completed"
        },
        "tags": []
      },
      "source": [
        "an `SType` is either an `SDict` **OR** an `SCoo` **OR** an `SDense`:"
      ]
    },
    {
      "cell_type": "code",
      "execution_count": 16,
      "id": "2e8928a9cc072ef9",
      "metadata": {
        "execution": {
          "iopub.execute_input": "2023-09-01T18:13:41.703632Z",
          "iopub.status.busy": "2023-09-01T18:13:41.703177Z",
          "iopub.status.idle": "2023-09-01T18:13:41.706168Z",
          "shell.execute_reply": "2023-09-01T18:13:41.705828Z"
        },
        "papermill": {
          "duration": 0.015053,
          "end_time": "2023-09-01T18:13:41.707232",
          "exception": false,
          "start_time": "2023-09-01T18:13:41.692179",
          "status": "completed"
        },
        "tags": []
      },
      "outputs": [],
      "source": [
        "SType = Union[SDict, SCoo, SDense]"
      ]
    },
    {
      "cell_type": "markdown",
      "id": "e0561b07",
      "metadata": {
        "papermill": {
          "duration": 0.010163,
          "end_time": "2023-09-01T18:13:41.727581",
          "exception": false,
          "start_time": "2023-09-01T18:13:41.717418",
          "status": "completed"
        },
        "tags": []
      },
      "source": [
        "> Example:"
      ]
    },
    {
      "cell_type": "code",
      "execution_count": 17,
      "id": "5b52a5f2",
      "metadata": {
        "execution": {
          "iopub.execute_input": "2023-09-01T18:13:41.749424Z",
          "iopub.status.busy": "2023-09-01T18:13:41.748874Z",
          "iopub.status.idle": "2023-09-01T18:13:41.751613Z",
          "shell.execute_reply": "2023-09-01T18:13:41.751263Z"
        },
        "papermill": {
          "duration": 0.014913,
          "end_time": "2023-09-01T18:13:41.752702",
          "exception": false,
          "start_time": "2023-09-01T18:13:41.737789",
          "status": "completed"
        },
        "tags": []
      },
      "outputs": [],
      "source": [
        "obj: SType = _sdict\n",
        "obj: SType = _scoo\n",
        "obj: SType = _sdense"
      ]
    },
    {
      "cell_type": "markdown",
      "id": "afabe91b",
      "metadata": {
        "papermill": {
          "duration": 0.010167,
          "end_time": "2023-09-01T18:13:41.773150",
          "exception": false,
          "start_time": "2023-09-01T18:13:41.762983",
          "status": "completed"
        },
        "tags": []
      },
      "source": [
        "### Model"
      ]
    },
    {
      "cell_type": "markdown",
      "id": "13808fb1",
      "metadata": {
        "papermill": {
          "duration": 0.010166,
          "end_time": "2023-09-01T18:13:41.793546",
          "exception": false,
          "start_time": "2023-09-01T18:13:41.783380",
          "status": "completed"
        },
        "tags": []
      },
      "source": [
        "A `Model` is any keyword-only function that returns an `SType`:"
      ]
    },
    {
      "cell_type": "code",
      "execution_count": 18,
      "id": "4b2cc00f4c269a1f",
      "metadata": {
        "execution": {
          "iopub.execute_input": "2023-09-01T18:13:41.815581Z",
          "iopub.status.busy": "2023-09-01T18:13:41.815028Z",
          "iopub.status.idle": "2023-09-01T18:13:41.817755Z",
          "shell.execute_reply": "2023-09-01T18:13:41.817334Z"
        },
        "papermill": {
          "duration": 0.014984,
          "end_time": "2023-09-01T18:13:41.818930",
          "exception": false,
          "start_time": "2023-09-01T18:13:41.803946",
          "status": "completed"
        },
        "tags": []
      },
      "outputs": [],
      "source": [
        "Model = Callable[..., SType]"
      ]
    },
    {
      "cell_type": "markdown",
      "id": "fad534fb",
      "metadata": {
        "papermill": {
          "duration": 0.010342,
          "end_time": "2023-09-01T18:13:41.839581",
          "exception": false,
          "start_time": "2023-09-01T18:13:41.829239",
          "status": "completed"
        },
        "tags": []
      },
      "source": [
        "### ModelFactory"
      ]
    },
    {
      "cell_type": "markdown",
      "id": "85781647",
      "metadata": {
        "papermill": {
          "duration": 0.010236,
          "end_time": "2023-09-01T18:13:41.860166",
          "exception": false,
          "start_time": "2023-09-01T18:13:41.849930",
          "status": "completed"
        },
        "tags": []
      },
      "source": [
        "A `ModelFactory` is any keyword-only function that returns a `Model`:"
      ]
    },
    {
      "cell_type": "code",
      "execution_count": 19,
      "id": "980b93b85abdb38d",
      "metadata": {
        "execution": {
          "iopub.execute_input": "2023-09-01T18:13:41.881993Z",
          "iopub.status.busy": "2023-09-01T18:13:41.881458Z",
          "iopub.status.idle": "2023-09-01T18:13:41.884122Z",
          "shell.execute_reply": "2023-09-01T18:13:41.883800Z"
        },
        "papermill": {
          "duration": 0.014764,
          "end_time": "2023-09-01T18:13:41.885199",
          "exception": false,
          "start_time": "2023-09-01T18:13:41.870435",
          "status": "completed"
        },
        "tags": []
      },
      "outputs": [],
      "source": [
        "ModelFactory = Callable[..., Model]"
      ]
    },
    {
      "cell_type": "markdown",
      "id": "353d8506",
      "metadata": {
        "papermill": {
          "duration": 0.010202,
          "end_time": "2023-09-01T18:13:41.905789",
          "exception": false,
          "start_time": "2023-09-01T18:13:41.895587",
          "status": "completed"
        },
        "tags": []
      },
      "source": [
        "> Note: SAX sometimes needs to figure out the difference between a `ModelFactory` and a normal `Model` *before* running the function. To do this, SAX will check the return annotation of the function. Any function with a `-> Model` or `-> Callable` annotation will be considered a `ModelFactory`. Any function without this annotation will be considered a normal Model: **don't forget the return annotation of your Model Factory!** To ensure a correct annotation and to ensure forward compatibility, it's recommended to decorate your `ModelFactory` with the `modelfactory` decorator."
      ]
    },
    {
      "cell_type": "markdown",
      "id": "b32b5a31",
      "metadata": {
        "papermill": {
          "duration": 0.010187,
          "end_time": "2023-09-01T18:13:41.926342",
          "exception": false,
          "start_time": "2023-09-01T18:13:41.916155",
          "status": "completed"
        },
        "tags": []
      },
      "source": [
        "### Models"
      ]
    },
    {
      "cell_type": "markdown",
      "id": "a796dcb2",
      "metadata": {
        "papermill": {
          "duration": 0.010206,
          "end_time": "2023-09-01T18:13:41.946871",
          "exception": false,
          "start_time": "2023-09-01T18:13:41.936665",
          "status": "completed"
        },
        "tags": []
      },
      "source": [
        "`Models` is a mapping between model names [`str`] and a `Model`:"
      ]
    },
    {
      "cell_type": "code",
      "execution_count": 20,
      "id": "f051f3cdd11612ce",
      "metadata": {
        "execution": {
          "iopub.execute_input": "2023-09-01T18:13:41.968835Z",
          "iopub.status.busy": "2023-09-01T18:13:41.968257Z",
          "iopub.status.idle": "2023-09-01T18:13:41.971012Z",
          "shell.execute_reply": "2023-09-01T18:13:41.970601Z"
        },
        "papermill": {
          "duration": 0.015096,
          "end_time": "2023-09-01T18:13:41.972197",
          "exception": false,
          "start_time": "2023-09-01T18:13:41.957101",
          "status": "completed"
        },
        "tags": []
      },
      "outputs": [],
      "source": [
        "Models = Dict[str, Model]"
      ]
    },
    {
      "cell_type": "markdown",
      "id": "ed1af61c",
      "metadata": {
        "papermill": {
          "duration": 0.010343,
          "end_time": "2023-09-01T18:13:41.992871",
          "exception": false,
          "start_time": "2023-09-01T18:13:41.982528",
          "status": "completed"
        },
        "tags": []
      },
      "source": [
        "> Note: sometimes 'component' is used to refer to a a `Model` or `GeneralModel`. This is because other tools (such as for example GDSFactory) prefer that terminology."
      ]
    },
    {
      "cell_type": "markdown",
      "id": "5d276f63",
      "metadata": {
        "papermill": {
          "duration": 0.010255,
          "end_time": "2023-09-01T18:13:42.013495",
          "exception": false,
          "start_time": "2023-09-01T18:13:42.003240",
          "status": "completed"
        },
        "tags": []
      },
      "source": [
        "## Netlist Types\n",
        "\n",
        "Netlist types are moved [here](06_netlist.ipynb)."
      ]
    },
    {
      "cell_type": "markdown",
      "id": "dbcb4447",
      "metadata": {
        "papermill": {
          "duration": 0.010342,
          "end_time": "2023-09-01T18:13:42.034603",
          "exception": false,
          "start_time": "2023-09-01T18:13:42.024261",
          "status": "completed"
        },
        "tags": []
      },
      "source": [
        "## Validation and runtime type-checking:\n",
        "> Note: the type-checking functions below are **NOT** very tight and hence should be used within the right context!"
      ]
    },
    {
      "cell_type": "markdown",
      "id": "f52653c792bcf47d",
      "metadata": {},
      "source": [
        ":::{eval-rst}\n",
        ".. autofunction:: sax.typing_.is_float\n",
        ":::\n"
      ]
    },
    {
      "cell_type": "code",
      "execution_count": 21,
      "id": "a520cfe37e2a48e1",
      "metadata": {
        "execution": {
          "iopub.execute_input": "2023-09-01T18:13:42.056579Z",
          "iopub.status.busy": "2023-09-01T18:13:42.056119Z",
          "iopub.status.idle": "2023-09-01T18:13:42.060000Z",
          "shell.execute_reply": "2023-09-01T18:13:42.059586Z"
        },
        "papermill": {
          "duration": 0.016264,
          "end_time": "2023-09-01T18:13:42.061189",
          "exception": false,
          "start_time": "2023-09-01T18:13:42.044925",
          "status": "completed"
        },
        "tags": [
          "hide-input"
        ]
      },
      "outputs": [],
      "source": [
        "def is_float(x: Any) -> bool:\n",
        "    \"\"\"Check if an object is a `Float`\"\"\"\n",
        "    if isinstance(x, float):\n",
        "        return True\n",
        "    if isinstance(x, np.ndarray):\n",
        "        return x.dtype in (np.float16, np.float32, np.float64, np.float128)\n",
        "    if isinstance(x, jnp.ndarray):\n",
        "        return x.dtype in (jnp.float16, jnp.float32, jnp.float64)\n",
        "    return False"
      ]
    },
    {
      "cell_type": "code",
      "execution_count": 22,
      "id": "28374448",
      "metadata": {
        "execution": {
          "iopub.execute_input": "2023-09-01T18:13:42.083292Z",
          "iopub.status.busy": "2023-09-01T18:13:42.082746Z",
          "iopub.status.idle": "2023-09-01T18:13:42.088522Z",
          "shell.execute_reply": "2023-09-01T18:13:42.088100Z"
        },
        "papermill": {
          "duration": 0.018056,
          "end_time": "2023-09-01T18:13:42.089690",
          "exception": false,
          "start_time": "2023-09-01T18:13:42.071634",
          "status": "completed"
        },
        "tags": []
      },
      "outputs": [],
      "source": [
        "assert is_float(3.0)\n",
        "assert not is_float(3)\n",
        "assert not is_float(3.0 + 2j)\n",
        "assert not is_float(jnp.array(3.0, dtype=complex))\n",
        "assert not is_float(jnp.array(3, dtype=int))"
      ]
    },
    {
      "cell_type": "markdown",
      "id": "c9ae704d8061befd",
      "metadata": {},
      "source": [
        ":::{eval-rst}\n",
        ".. autofunction:: sax.typing_.is_complex\n",
        ":::\n"
      ]
    },
    {
      "cell_type": "code",
      "execution_count": 23,
      "id": "c1414e466b7ce109",
      "metadata": {
        "execution": {
          "iopub.execute_input": "2023-09-01T18:13:42.111944Z",
          "iopub.status.busy": "2023-09-01T18:13:42.111400Z",
          "iopub.status.idle": "2023-09-01T18:13:42.115003Z",
          "shell.execute_reply": "2023-09-01T18:13:42.114551Z"
        },
        "papermill": {
          "duration": 0.016001,
          "end_time": "2023-09-01T18:13:42.116174",
          "exception": false,
          "start_time": "2023-09-01T18:13:42.100173",
          "status": "completed"
        },
        "tags": [
          "hide-input"
        ]
      },
      "outputs": [],
      "source": [
        "def is_complex(x: Any) -> bool:\n",
        "    \"\"\"check if an object is a `ComplexFloat`\"\"\"\n",
        "    if isinstance(x, complex):\n",
        "        return True\n",
        "    if isinstance(x, np.ndarray):\n",
        "        return x.dtype in (np.complex64, np.complex128)\n",
        "    if isinstance(x, jnp.ndarray):\n",
        "        return x.dtype in (jnp.complex64, jnp.complex128)\n",
        "    return False"
      ]
    },
    {
      "cell_type": "code",
      "execution_count": 24,
      "id": "d81a703d",
      "metadata": {
        "execution": {
          "iopub.execute_input": "2023-09-01T18:13:42.138519Z",
          "iopub.status.busy": "2023-09-01T18:13:42.137940Z",
          "iopub.status.idle": "2023-09-01T18:13:42.141787Z",
          "shell.execute_reply": "2023-09-01T18:13:42.141359Z"
        },
        "papermill": {
          "duration": 0.016234,
          "end_time": "2023-09-01T18:13:42.142924",
          "exception": false,
          "start_time": "2023-09-01T18:13:42.126690",
          "status": "completed"
        },
        "tags": []
      },
      "outputs": [],
      "source": [
        "assert not is_complex(3.0)\n",
        "assert not is_complex(3)\n",
        "assert is_complex(3.0 + 2j)\n",
        "assert is_complex(jnp.array(3.0, dtype=complex))\n",
        "assert not is_complex(jnp.array(3, dtype=int))"
      ]
    },
    {
      "cell_type": "markdown",
      "id": "baffb3cff1f4b813",
      "metadata": {},
      "source": [
        ":::{eval-rst}\n",
        ".. autofunction:: sax.typing_.is_complex_float\n",
        ":::\n"
      ]
    },
    {
      "cell_type": "code",
      "execution_count": 25,
      "id": "a5a3867a94d68f13",
      "metadata": {
        "execution": {
          "iopub.execute_input": "2023-09-01T18:13:42.165631Z",
          "iopub.status.busy": "2023-09-01T18:13:42.165069Z",
          "iopub.status.idle": "2023-09-01T18:13:42.169765Z",
          "shell.execute_reply": "2023-09-01T18:13:42.169321Z"
        },
        "papermill": {
          "duration": 0.017439,
          "end_time": "2023-09-01T18:13:42.170944",
          "exception": false,
          "start_time": "2023-09-01T18:13:42.153505",
          "status": "completed"
        },
        "tags": [
          "hide-input"
        ]
      },
      "outputs": [],
      "source": [
        "def is_complex_float(x: Any) -> bool:\n",
        "    \"\"\"check if an object is either a `ComplexFloat` or a `Float`\"\"\"\n",
        "    return is_float(x) or is_complex(x)"
      ]
    },
    {
      "cell_type": "code",
      "execution_count": 26,
      "id": "c533ff0d",
      "metadata": {
        "execution": {
          "iopub.execute_input": "2023-09-01T18:13:42.193110Z",
          "iopub.status.busy": "2023-09-01T18:13:42.192681Z",
          "iopub.status.idle": "2023-09-01T18:13:42.196663Z",
          "shell.execute_reply": "2023-09-01T18:13:42.196237Z"
        },
        "papermill": {
          "duration": 0.01638,
          "end_time": "2023-09-01T18:13:42.197780",
          "exception": false,
          "start_time": "2023-09-01T18:13:42.181400",
          "status": "completed"
        },
        "tags": []
      },
      "outputs": [],
      "source": [
        "assert is_complex_float(3.0)\n",
        "assert not is_complex_float(3)\n",
        "assert is_complex_float(3.0 + 2j)\n",
        "assert is_complex_float(jnp.array(3.0, dtype=complex))\n",
        "assert not is_complex_float(jnp.array(3, dtype=int))"
      ]
    },
    {
      "cell_type": "markdown",
      "id": "f129f1f79156bbd0",
      "metadata": {},
      "source": [
        ":::{eval-rst}\n",
        ".. autofunction:: sax.typing_.is_sdict\n",
        ":::\n"
      ]
    },
    {
      "cell_type": "code",
      "execution_count": 27,
      "id": "d293d47263fc2c56",
      "metadata": {
        "execution": {
          "iopub.execute_input": "2023-09-01T18:13:42.220129Z",
          "iopub.status.busy": "2023-09-01T18:13:42.219579Z",
          "iopub.status.idle": "2023-09-01T18:13:42.222437Z",
          "shell.execute_reply": "2023-09-01T18:13:42.222025Z"
        },
        "papermill": {
          "duration": 0.015333,
          "end_time": "2023-09-01T18:13:42.223616",
          "exception": false,
          "start_time": "2023-09-01T18:13:42.208283",
          "status": "completed"
        },
        "tags": [
          "hide-input"
        ]
      },
      "outputs": [],
      "source": [
        "def is_sdict(x: Any) -> bool:\n",
        "    \"\"\"check if an object is an `SDict` (a SAX S-dictionary)\"\"\"\n",
        "    return isinstance(x, dict)"
      ]
    },
    {
      "cell_type": "code",
      "execution_count": 28,
      "id": "cb0365dc",
      "metadata": {
        "execution": {
          "iopub.execute_input": "2023-09-01T18:13:42.246047Z",
          "iopub.status.busy": "2023-09-01T18:13:42.245631Z",
          "iopub.status.idle": "2023-09-01T18:13:42.248237Z",
          "shell.execute_reply": "2023-09-01T18:13:42.247896Z"
        },
        "papermill": {
          "duration": 0.015232,
          "end_time": "2023-09-01T18:13:42.249390",
          "exception": false,
          "start_time": "2023-09-01T18:13:42.234158",
          "status": "completed"
        },
        "tags": []
      },
      "outputs": [],
      "source": [
        "assert not is_sdict(object())\n",
        "assert is_sdict(_sdict)\n",
        "assert not is_sdict(_scoo)\n",
        "assert not is_sdict(_sdense)"
      ]
    },
    {
      "cell_type": "markdown",
      "id": "c302b39da3ac7c76",
      "metadata": {},
      "source": [
        ":::{eval-rst}\n",
        ".. autofunction:: sax.typing_.is_scoo\n",
        ":::\n"
      ]
    },
    {
      "cell_type": "code",
      "execution_count": 29,
      "id": "678a0f5b890ed504",
      "metadata": {
        "execution": {
          "iopub.execute_input": "2023-09-01T18:13:42.272135Z",
          "iopub.status.busy": "2023-09-01T18:13:42.271535Z",
          "iopub.status.idle": "2023-09-01T18:13:42.274721Z",
          "shell.execute_reply": "2023-09-01T18:13:42.274282Z"
        },
        "papermill": {
          "duration": 0.015876,
          "end_time": "2023-09-01T18:13:42.275926",
          "exception": false,
          "start_time": "2023-09-01T18:13:42.260050",
          "status": "completed"
        },
        "tags": [
          "hide-input"
        ]
      },
      "outputs": [],
      "source": [
        "def is_scoo(x: Any) -> bool:\n",
        "    \"\"\"check if an object is an `SCoo` (a SAX sparse S-matrix representation in COO-format)\"\"\"\n",
        "    return isinstance(x, (tuple, list)) and len(x) == 4"
      ]
    },
    {
      "cell_type": "code",
      "execution_count": 30,
      "id": "9ea0239a",
      "metadata": {
        "execution": {
          "iopub.execute_input": "2023-09-01T18:13:42.298854Z",
          "iopub.status.busy": "2023-09-01T18:13:42.298406Z",
          "iopub.status.idle": "2023-09-01T18:13:42.301258Z",
          "shell.execute_reply": "2023-09-01T18:13:42.300868Z"
        },
        "papermill": {
          "duration": 0.015704,
          "end_time": "2023-09-01T18:13:42.302451",
          "exception": false,
          "start_time": "2023-09-01T18:13:42.286747",
          "status": "completed"
        },
        "tags": []
      },
      "outputs": [],
      "source": [
        "assert not is_scoo(object)\n",
        "assert not is_scoo(_sdict)\n",
        "assert is_scoo(_scoo)\n",
        "assert not is_scoo(_sdense)"
      ]
    },
    {
      "cell_type": "markdown",
      "id": "75d65ebb8672012f",
      "metadata": {},
      "source": [
        ":::{eval-rst}\n",
        ".. autofunction:: sax.typing_.is_sdense\n",
        ":::\n"
      ]
    },
    {
      "cell_type": "code",
      "execution_count": 31,
      "id": "62080cca6b8fb4b0",
      "metadata": {
        "execution": {
          "iopub.execute_input": "2023-09-01T18:13:42.325175Z",
          "iopub.status.busy": "2023-09-01T18:13:42.324744Z",
          "iopub.status.idle": "2023-09-01T18:13:42.327457Z",
          "shell.execute_reply": "2023-09-01T18:13:42.327106Z"
        },
        "papermill": {
          "duration": 0.01542,
          "end_time": "2023-09-01T18:13:42.328631",
          "exception": false,
          "start_time": "2023-09-01T18:13:42.313211",
          "status": "completed"
        },
        "tags": [
          "hide-input"
        ]
      },
      "outputs": [],
      "source": [
        "def is_sdense(x: Any) -> bool:\n",
        "    \"\"\"check if an object is an `SDense` (a SAX dense S-matrix representation)\"\"\"\n",
        "    return isinstance(x, (tuple, list)) and len(x) == 2"
      ]
    },
    {
      "cell_type": "code",
      "execution_count": 32,
      "id": "2eddd63a",
      "metadata": {
        "execution": {
          "iopub.execute_input": "2023-09-01T18:13:42.351315Z",
          "iopub.status.busy": "2023-09-01T18:13:42.350878Z",
          "iopub.status.idle": "2023-09-01T18:13:42.353868Z",
          "shell.execute_reply": "2023-09-01T18:13:42.353447Z"
        },
        "papermill": {
          "duration": 0.015695,
          "end_time": "2023-09-01T18:13:42.355049",
          "exception": false,
          "start_time": "2023-09-01T18:13:42.339354",
          "status": "completed"
        },
        "tags": []
      },
      "outputs": [],
      "source": [
        "assert not is_sdense(object)\n",
        "assert not is_sdense(_sdict)\n",
        "assert not is_sdense(_scoo)\n",
        "assert is_sdense(_sdense)"
      ]
    },
    {
      "cell_type": "markdown",
      "id": "058d91ed5f37e158",
      "metadata": {},
      "source": [
        ":::{eval-rst}\n",
        ".. autofunction:: sax.typing_.is_model\n",
        ":::\n"
      ]
    },
    {
      "cell_type": "code",
      "execution_count": 33,
      "id": "95f2524ab1435096",
      "metadata": {
        "execution": {
          "iopub.execute_input": "2023-09-01T18:13:42.377701Z",
          "iopub.status.busy": "2023-09-01T18:13:42.377280Z",
          "iopub.status.idle": "2023-09-01T18:13:42.382149Z",
          "shell.execute_reply": "2023-09-01T18:13:42.381703Z"
        },
        "papermill": {
          "duration": 0.017569,
          "end_time": "2023-09-01T18:13:42.383350",
          "exception": false,
          "start_time": "2023-09-01T18:13:42.365781",
          "status": "completed"
        },
        "tags": [
          "hide-input"
        ]
      },
      "outputs": [],
      "source": [
        "def is_model(model: Any) -> bool:\n",
        "    \"\"\"check if a callable is a `Model` (a callable returning an `SType`)\"\"\"\n",
        "    if not callable(model):\n",
        "        return False\n",
        "    try:\n",
        "        sig = inspect.signature(model)\n",
        "    except ValueError:\n",
        "        return False\n",
        "    for param in sig.parameters.values():\n",
        "        if param.default is inspect.Parameter.empty:\n",
        "            return False  # a proper SAX model does not have any positional arguments.\n",
        "    if _is_callable_annotation(sig.return_annotation):  # model factory\n",
        "        return False\n",
        "    return True\n",
        "\n",
        "def _is_callable_annotation(annotation: Any) -> bool:\n",
        "    \"\"\"check if an annotation is `Callable`-like\"\"\"\n",
        "    if isinstance(annotation, str):\n",
        "        # happens when\n",
        "        # was imported at the top of the file...\n",
        "        return annotation.startswith(\"Callable\") or annotation.endswith(\"Model\")\n",
        "        # TODO: this is not a very robust check...\n",
        "    try:\n",
        "        return annotation.__origin__ == CallableABC\n",
        "    except AttributeError:\n",
        "        return False"
      ]
    },
    {
      "cell_type": "code",
      "execution_count": 34,
      "id": "26816783ff8b216e",
      "metadata": {
        "execution": {
          "iopub.execute_input": "2023-09-01T18:13:42.406012Z",
          "iopub.status.busy": "2023-09-01T18:13:42.405657Z",
          "iopub.status.idle": "2023-09-01T18:13:42.408342Z",
          "shell.execute_reply": "2023-09-01T18:13:42.407995Z"
        },
        "papermill": {
          "duration": 0.015377,
          "end_time": "2023-09-01T18:13:42.409501",
          "exception": false,
          "start_time": "2023-09-01T18:13:42.394124",
          "status": "completed"
        },
        "tags": [
          "remove-cell"
        ]
      },
      "outputs": [],
      "source": [
        "assert _is_callable_annotation(Callable)\n",
        "assert not _is_callable_annotation(SDict)"
      ]
    },
    {
      "cell_type": "code",
      "execution_count": 35,
      "id": "89bdb647",
      "metadata": {
        "execution": {
          "iopub.execute_input": "2023-09-01T18:13:42.432734Z",
          "iopub.status.busy": "2023-09-01T18:13:42.432320Z",
          "iopub.status.idle": "2023-09-01T18:13:42.448760Z",
          "shell.execute_reply": "2023-09-01T18:13:42.448326Z"
        },
        "papermill": {
          "duration": 0.029463,
          "end_time": "2023-09-01T18:13:42.449907",
          "exception": false,
          "start_time": "2023-09-01T18:13:42.420444",
          "status": "completed"
        },
        "tags": []
      },
      "outputs": [],
      "source": [
        "def good_model(x=jnp.array(3.0), y=jnp.array(4.0)) -> SDict:\n",
        "    return {(\"in0\", \"out0\"): jnp.array(3.0)}\n",
        "assert is_model(good_model)\n",
        "\n",
        "def bad_model(positional_argument, x=jnp.array(3.0), y=jnp.array(4.0)) -> SDict:\n",
        "    return {(\"in0\", \"out0\"): jnp.array(3.0)}\n",
        "assert not is_model(bad_model)"
      ]
    },
    {
      "cell_type": "markdown",
      "id": "d813c5c70c7eff38",
      "metadata": {},
      "source": [
        ":::{eval-rst}\n",
        ".. autofunction:: sax.typing_.is_model_factory\n",
        ":::\n"
      ]
    },
    {
      "cell_type": "code",
      "execution_count": 36,
      "id": "91e79f05bd8dd76e",
      "metadata": {
        "execution": {
          "iopub.execute_input": "2023-09-01T18:13:42.472934Z",
          "iopub.status.busy": "2023-09-01T18:13:42.472508Z",
          "iopub.status.idle": "2023-09-01T18:13:42.475673Z",
          "shell.execute_reply": "2023-09-01T18:13:42.475280Z"
        },
        "papermill": {
          "duration": 0.016085,
          "end_time": "2023-09-01T18:13:42.476843",
          "exception": false,
          "start_time": "2023-09-01T18:13:42.460758",
          "status": "completed"
        },
        "tags": [
          "hide-input"
        ]
      },
      "outputs": [],
      "source": [
        "def is_model_factory(model: Any) -> bool:\n",
        "    \"\"\"check if a callable is a model function.\"\"\"\n",
        "    if not callable(model):\n",
        "        return False\n",
        "    sig = inspect.signature(model)\n",
        "    if _is_callable_annotation(sig.return_annotation):  # model factory\n",
        "        return True\n",
        "    return False"
      ]
    },
    {
      "cell_type": "markdown",
      "id": "1f9715ed",
      "metadata": {
        "papermill": {
          "duration": 0.011186,
          "end_time": "2023-09-01T18:13:42.498869",
          "exception": false,
          "start_time": "2023-09-01T18:13:42.487683",
          "status": "completed"
        },
        "tags": []
      },
      "source": [
        "> Note: For a `Callable` to be considered a `ModelFactory` in SAX, it **MUST** have a `Callable` or `Model` return annotation. Otherwise SAX will view it as a `Model` and things might break!"
      ]
    },
    {
      "cell_type": "code",
      "execution_count": 37,
      "id": "fe9cdff0",
      "metadata": {
        "execution": {
          "iopub.execute_input": "2023-09-01T18:13:42.521685Z",
          "iopub.status.busy": "2023-09-01T18:13:42.521229Z",
          "iopub.status.idle": "2023-09-01T18:13:42.524307Z",
          "shell.execute_reply": "2023-09-01T18:13:42.523945Z"
        },
        "papermill": {
          "duration": 0.01587,
          "end_time": "2023-09-01T18:13:42.525483",
          "exception": false,
          "start_time": "2023-09-01T18:13:42.509613",
          "status": "completed"
        },
        "tags": []
      },
      "outputs": [],
      "source": [
        "def func() -> Model:\n",
        "    ...\n",
        "    \n",
        "assert is_model_factory(func) # yes, we only check the annotation for now...\n",
        "\n",
        "def func():\n",
        "    ...\n",
        "    \n",
        "assert not is_model_factory(func) # yes, we only check the annotation for now..."
      ]
    },
    {
      "cell_type": "markdown",
      "id": "8a64620cb2fe1966",
      "metadata": {},
      "source": [
        ":::{eval-rst}\n",
        ".. autofunction:: sax.typing_.validate_model\n",
        ":::\n"
      ]
    },
    {
      "cell_type": "code",
      "execution_count": 38,
      "id": "784d038c1bdd28c4",
      "metadata": {
        "execution": {
          "iopub.execute_input": "2023-09-01T18:13:42.548881Z",
          "iopub.status.busy": "2023-09-01T18:13:42.548444Z",
          "iopub.status.idle": "2023-09-01T18:13:42.552040Z",
          "shell.execute_reply": "2023-09-01T18:13:42.551636Z"
        },
        "papermill": {
          "duration": 0.016852,
          "end_time": "2023-09-01T18:13:42.553247",
          "exception": false,
          "start_time": "2023-09-01T18:13:42.536395",
          "status": "completed"
        },
        "tags": [
          "hide-input"
        ]
      },
      "outputs": [],
      "source": [
        "def validate_model(model: Callable):\n",
        "    \"\"\"Validate the parameters of a model\"\"\"\n",
        "    positional_arguments = []\n",
        "    for param in inspect.signature(model).parameters.values():\n",
        "        if param.default is inspect.Parameter.empty:\n",
        "            positional_arguments.append(param.name)\n",
        "    if positional_arguments:\n",
        "        raise ValueError(\n",
        "            f\"model '{model}' takes positional arguments {', '.join(positional_arguments)} \"\n",
        "            \"and hence is not a valid SAX Model! A SAX model should ONLY take keyword arguments (or no arguments at all).\"\n",
        "        )"
      ]
    },
    {
      "cell_type": "code",
      "execution_count": 39,
      "id": "754399d5",
      "metadata": {
        "execution": {
          "iopub.execute_input": "2023-09-01T18:13:42.576472Z",
          "iopub.status.busy": "2023-09-01T18:13:42.575936Z",
          "iopub.status.idle": "2023-09-01T18:13:42.579976Z",
          "shell.execute_reply": "2023-09-01T18:13:42.579540Z"
        },
        "papermill": {
          "duration": 0.016957,
          "end_time": "2023-09-01T18:13:42.581121",
          "exception": false,
          "start_time": "2023-09-01T18:13:42.564164",
          "status": "completed"
        },
        "tags": []
      },
      "outputs": [],
      "source": [
        "def good_model(x=jnp.array(3.0), y=jnp.array(4.0)) -> SDict:\n",
        "    return {(\"in0\", \"out0\"): jnp.array(3.0)}\n",
        "\n",
        "\n",
        "assert validate_model(good_model) is None"
      ]
    },
    {
      "cell_type": "code",
      "execution_count": 40,
      "id": "181c72fa",
      "metadata": {
        "execution": {
          "iopub.execute_input": "2023-09-01T18:13:42.604293Z",
          "iopub.status.busy": "2023-09-01T18:13:42.603756Z",
          "iopub.status.idle": "2023-09-01T18:13:42.607884Z",
          "shell.execute_reply": "2023-09-01T18:13:42.607477Z"
        },
        "papermill": {
          "duration": 0.016999,
          "end_time": "2023-09-01T18:13:42.609044",
          "exception": false,
          "start_time": "2023-09-01T18:13:42.592045",
          "status": "completed"
        },
        "tags": []
      },
      "outputs": [],
      "source": [
        "def bad_model(positional_argument, x=jnp.array(3.0), y=jnp.array(4.0)) -> SDict:\n",
        "    return {(\"in0\", \"out0\"): jnp.array(3.0)}\n",
        "\n",
        "\n",
        "with raises(ValueError):\n",
        "    validate_model(bad_model)"
      ]
    },
    {
      "cell_type": "markdown",
      "id": "16014b8b068cf251",
      "metadata": {},
      "source": [
        ":::{eval-rst}\n",
        ".. autofunction:: sax.typing_.is_stype\n",
        ":::\n"
      ]
    },
    {
      "cell_type": "code",
      "execution_count": 41,
      "id": "fb6c608fe7e20cfd",
      "metadata": {
        "execution": {
          "iopub.execute_input": "2023-09-01T18:13:42.632212Z",
          "iopub.status.busy": "2023-09-01T18:13:42.631642Z",
          "iopub.status.idle": "2023-09-01T18:13:42.634589Z",
          "shell.execute_reply": "2023-09-01T18:13:42.634241Z"
        },
        "papermill": {
          "duration": 0.01581,
          "end_time": "2023-09-01T18:13:42.635717",
          "exception": false,
          "start_time": "2023-09-01T18:13:42.619907",
          "status": "completed"
        },
        "tags": [
          "hide-input"
        ]
      },
      "outputs": [],
      "source": [
        "def is_stype(stype: Any) -> bool:\n",
        "    \"\"\"check if an object is an SDict, SCoo or SDense\"\"\"\n",
        "    return is_sdict(stype) or is_scoo(stype) or is_sdense(stype)"
      ]
    },
    {
      "cell_type": "markdown",
      "id": "98703602195d0baa",
      "metadata": {},
      "source": [
        ":::{eval-rst}\n",
        ".. autofunction:: sax.typing_.is_singlemode\n",
        ":::\n"
      ]
    },
    {
      "cell_type": "code",
      "execution_count": 42,
      "id": "452f73187c06a4ec",
      "metadata": {
        "execution": {
          "iopub.execute_input": "2023-09-01T18:13:42.659149Z",
          "iopub.status.busy": "2023-09-01T18:13:42.658572Z",
          "iopub.status.idle": "2023-09-01T18:13:42.663118Z",
          "shell.execute_reply": "2023-09-01T18:13:42.662643Z"
        },
        "papermill": {
          "duration": 0.017543,
          "end_time": "2023-09-01T18:13:42.664306",
          "exception": false,
          "start_time": "2023-09-01T18:13:42.646763",
          "status": "completed"
        },
        "tags": [
          "hide-input"
        ]
      },
      "outputs": [],
      "source": [
        "def is_singlemode(S: Any) -> bool:\n",
        "    \"\"\"check if an stype is single mode\"\"\"\n",
        "    if not is_stype(S):\n",
        "        return False\n",
        "    ports = _get_ports(S)\n",
        "    return not any((\"@\" in p) for p in ports)\n",
        "\n",
        "def _get_ports(S: SType):\n",
        "    if is_sdict(S):\n",
        "        S = cast(SDict, S)\n",
        "        ports_set = {p1 for p1, _ in S} | {p2 for _, p2 in S}\n",
        "        return tuple(natsorted(ports_set))\n",
        "    else:\n",
        "        *_, ports_map = S\n",
        "        assert isinstance(ports_map, dict)\n",
        "        return tuple(natsorted(ports_map.keys()))"
      ]
    },
    {
      "cell_type": "markdown",
      "id": "5c265f524499f7d1",
      "metadata": {},
      "source": [
        ":::{eval-rst}\n",
        ".. autofunction:: sax.typing_.is_multimode\n",
        ":::\n"
      ]
    },
    {
      "cell_type": "code",
      "execution_count": 43,
      "id": "99586521b6ce00b6",
      "metadata": {
        "execution": {
          "iopub.execute_input": "2023-09-01T18:13:42.687783Z",
          "iopub.status.busy": "2023-09-01T18:13:42.687323Z",
          "iopub.status.idle": "2023-09-01T18:13:42.690697Z",
          "shell.execute_reply": "2023-09-01T18:13:42.690258Z"
        },
        "papermill": {
          "duration": 0.016485,
          "end_time": "2023-09-01T18:13:42.691896",
          "exception": false,
          "start_time": "2023-09-01T18:13:42.675411",
          "status": "completed"
        },
        "tags": [
          "hide-input"
        ]
      },
      "outputs": [],
      "source": [
        "def is_multimode(S: Any) -> bool:\n",
        "    \"\"\"check if an stype is single mode\"\"\"\n",
        "    if not is_stype(S):\n",
        "        return False\n",
        "    \n",
        "    ports = _get_ports(S)\n",
        "    return all((\"@\" in p) for p in ports)"
      ]
    },
    {
      "cell_type": "markdown",
      "id": "192d81bd07c02abf",
      "metadata": {},
      "source": [
        ":::{eval-rst}\n",
        ".. autofunction:: sax.typing_.is_mixedmode\n",
        ":::\n"
      ]
    },
    {
      "cell_type": "code",
      "execution_count": 44,
      "id": "d8c8ea1a8e8b3f0b",
      "metadata": {
        "execution": {
          "iopub.execute_input": "2023-09-01T18:13:42.715363Z",
          "iopub.status.busy": "2023-09-01T18:13:42.714944Z",
          "iopub.status.idle": "2023-09-01T18:13:42.717722Z",
          "shell.execute_reply": "2023-09-01T18:13:42.717350Z"
        },
        "papermill": {
          "duration": 0.015952,
          "end_time": "2023-09-01T18:13:42.718934",
          "exception": false,
          "start_time": "2023-09-01T18:13:42.702982",
          "status": "completed"
        },
        "tags": [
          "hide-input"
        ]
      },
      "outputs": [],
      "source": [
        "def is_mixedmode(S: Any) -> bool:\n",
        "    \"\"\"check if an stype is neither single mode nor multimode (hence invalid)\"\"\"\n",
        "    return not is_singlemode(S) and not is_multimode(S)"
      ]
    },
    {
      "cell_type": "markdown",
      "id": "3afe685c",
      "metadata": {
        "papermill": {
          "duration": 0.010995,
          "end_time": "2023-09-01T18:13:42.741013",
          "exception": false,
          "start_time": "2023-09-01T18:13:42.730018",
          "status": "completed"
        },
        "tags": []
      },
      "source": [
        "## SAX return type helpers\n",
        "\n",
        "> a.k.a SDict, SDense, SCoo helpers"
      ]
    },
    {
      "cell_type": "markdown",
      "id": "a875f149",
      "metadata": {
        "papermill": {
          "duration": 0.011189,
          "end_time": "2023-09-01T18:13:42.763329",
          "exception": false,
          "start_time": "2023-09-01T18:13:42.752140",
          "status": "completed"
        },
        "tags": []
      },
      "source": [
        "Convert an `SDict`, `SCoo` or `SDense` into an `SDict` (or convert a model generating any of these types into a model generating an `SDict`):"
      ]
    },
    {
      "cell_type": "code",
      "execution_count": 45,
      "id": "aa7aea76afe9fb72",
      "metadata": {
        "execution": {
          "iopub.execute_input": "2023-09-01T18:13:42.786814Z",
          "iopub.status.busy": "2023-09-01T18:13:42.786201Z",
          "iopub.status.idle": "2023-09-01T18:13:42.789405Z",
          "shell.execute_reply": "2023-09-01T18:13:42.789033Z"
        },
        "papermill": {
          "duration": 0.016326,
          "end_time": "2023-09-01T18:13:42.790581",
          "exception": false,
          "start_time": "2023-09-01T18:13:42.774255",
          "status": "completed"
        },
        "tags": [
          "remove-cell"
        ]
      },
      "outputs": [],
      "source": [
        "\n",
        "@overload\n",
        "def sdict(S: Model) -> Model:\n",
        "    ...\n",
        "\n",
        "\n",
        "@overload\n",
        "def sdict(S: SType) -> SDict:\n",
        "    ..."
      ]
    },
    {
      "cell_type": "markdown",
      "id": "4d70741e9dbec708",
      "metadata": {},
      "source": [
        ":::{eval-rst}\n",
        ".. autofunction:: sax.typing_.sdict\n",
        ":::\n"
      ]
    },
    {
      "cell_type": "code",
      "execution_count": 46,
      "id": "f4ce05c0bdd3312f",
      "metadata": {
        "execution": {
          "iopub.execute_input": "2023-09-01T18:13:42.814251Z",
          "iopub.status.busy": "2023-09-01T18:13:42.813672Z",
          "iopub.status.idle": "2023-09-01T18:13:42.820632Z",
          "shell.execute_reply": "2023-09-01T18:13:42.820174Z"
        },
        "papermill": {
          "duration": 0.02001,
          "end_time": "2023-09-01T18:13:42.821755",
          "exception": false,
          "start_time": "2023-09-01T18:13:42.801745",
          "status": "completed"
        },
        "tags": [
          "hide-input"
        ]
      },
      "outputs": [],
      "source": [
        "def sdict(S: Union[Model, SType]) -> Union[Model, SType]:\n",
        "    \"\"\"Convert an `SCoo` or `SDense` to `SDict`\"\"\"\n",
        "\n",
        "    if is_model(S):\n",
        "        model = cast(Model, S)\n",
        "\n",
        "        @functools.wraps(model)\n",
        "        def wrapper(**kwargs):\n",
        "            return sdict(model(**kwargs))\n",
        "\n",
        "        return wrapper\n",
        "\n",
        "    elif is_scoo(S):\n",
        "        x_dict = _scoo_to_sdict(*cast(SCoo, S))\n",
        "    elif is_sdense(S):\n",
        "        x_dict = _sdense_to_sdict(*cast(SDense, S))\n",
        "    elif is_sdict(S):\n",
        "        x_dict = cast(SDict, S)\n",
        "    else:\n",
        "        raise ValueError(\"Could not convert arguments to sdict.\")\n",
        "\n",
        "    return x_dict\n",
        "\n",
        "\n",
        "def _scoo_to_sdict(Si: Array, Sj: Array, Sx: Array, ports_map: Dict[str, int]) -> SDict:\n",
        "    sdict = {}\n",
        "    inverse_ports_map = {int(i): p for p, i in ports_map.items()}\n",
        "    for i, (si, sj) in enumerate(zip(Si, Sj)):\n",
        "        sdict[\n",
        "            inverse_ports_map.get(int(si), \"\"), inverse_ports_map.get(int(sj), \"\")\n",
        "        ] = Sx[..., i]\n",
        "    sdict = {(p1, p2): v for (p1, p2), v in sdict.items() if p1 and p2}\n",
        "    return sdict\n",
        "\n",
        "\n",
        "def _sdense_to_sdict(S: Array, ports_map: Dict[str, int]) -> SDict:\n",
        "    sdict = {}\n",
        "    for p1, i in ports_map.items():\n",
        "        for p2, j in ports_map.items():\n",
        "            sdict[p1, p2] = S[..., i, j]\n",
        "    return sdict"
      ]
    },
    {
      "cell_type": "code",
      "execution_count": 47,
      "id": "9a372fbf",
      "metadata": {
        "execution": {
          "iopub.execute_input": "2023-09-01T18:13:42.845565Z",
          "iopub.status.busy": "2023-09-01T18:13:42.845019Z",
          "iopub.status.idle": "2023-09-01T18:13:42.934404Z",
          "shell.execute_reply": "2023-09-01T18:13:42.933962Z"
        },
        "papermill": {
          "duration": 0.102919,
          "end_time": "2023-09-01T18:13:42.935907",
          "exception": false,
          "start_time": "2023-09-01T18:13:42.832988",
          "status": "completed"
        },
        "tags": []
      },
      "outputs": [],
      "source": [
        "assert sdict(_sdict) is _sdict\n",
        "assert sdict(_scoo) == {\n",
        "    (\"in0\", \"in0\"): 3.0,\n",
        "    (\"in1\", \"in0\"): 1.0,\n",
        "    (\"out0\", \"out0\"): 4.0,\n",
        "}\n",
        "assert sdict(_sdense) == {\n",
        "    (\"in0\", \"in0\"): 0.0,\n",
        "    (\"in0\", \"out0\"): 1.0,\n",
        "    (\"in0\", \"in1\"): 2.0,\n",
        "    (\"out0\", \"in0\"): 3.0,\n",
        "    (\"out0\", \"out0\"): 4.0,\n",
        "    (\"out0\", \"in1\"): 5.0,\n",
        "    (\"in1\", \"in0\"): 6.0,\n",
        "    (\"in1\", \"out0\"): 7.0,\n",
        "    (\"in1\", \"in1\"): 8.0,\n",
        "}"
      ]
    },
    {
      "cell_type": "markdown",
      "id": "492c5cdd",
      "metadata": {
        "papermill": {
          "duration": 0.011257,
          "end_time": "2023-09-01T18:13:42.958590",
          "exception": false,
          "start_time": "2023-09-01T18:13:42.947333",
          "status": "completed"
        },
        "tags": []
      },
      "source": [
        "Convert an `SDict`, `SCoo` or `SDense` into an `SCoo` (or convert a model generating any of these types into a model generating an `SCoo`):"
      ]
    },
    {
      "cell_type": "code",
      "execution_count": 48,
      "id": "f563acf9054566ca",
      "metadata": {
        "execution": {
          "iopub.execute_input": "2023-09-01T18:13:42.982327Z",
          "iopub.status.busy": "2023-09-01T18:13:42.981657Z",
          "iopub.status.idle": "2023-09-01T18:13:42.984752Z",
          "shell.execute_reply": "2023-09-01T18:13:42.984424Z"
        },
        "papermill": {
          "duration": 0.016086,
          "end_time": "2023-09-01T18:13:42.985790",
          "exception": false,
          "start_time": "2023-09-01T18:13:42.969704",
          "status": "completed"
        },
        "tags": [
          "remove-cell"
        ]
      },
      "outputs": [],
      "source": [
        "\n",
        "@overload\n",
        "def scoo(S: Callable) -> Callable:\n",
        "    ...\n",
        "\n",
        "\n",
        "@overload\n",
        "def scoo(S: SType) -> SCoo:\n",
        "    ..."
      ]
    },
    {
      "cell_type": "markdown",
      "id": "d1fa62974f595f99",
      "metadata": {},
      "source": [
        ":::{eval-rst}\n",
        ".. autofunction:: sax.typing_.scoo\n",
        ":::\n"
      ]
    },
    {
      "cell_type": "code",
      "execution_count": 49,
      "id": "002cb30c5a3769fe",
      "metadata": {
        "execution": {
          "iopub.execute_input": "2023-09-01T18:13:43.009269Z",
          "iopub.status.busy": "2023-09-01T18:13:43.008862Z",
          "iopub.status.idle": "2023-09-01T18:13:43.016458Z",
          "shell.execute_reply": "2023-09-01T18:13:43.016107Z"
        },
        "papermill": {
          "duration": 0.020565,
          "end_time": "2023-09-01T18:13:43.017483",
          "exception": false,
          "start_time": "2023-09-01T18:13:42.996918",
          "status": "completed"
        },
        "tags": [
          "hide-input"
        ]
      },
      "outputs": [],
      "source": [
        "\n",
        "def scoo(S: Union[Callable, SType]) -> Union[Callable, SCoo]:\n",
        "    \"\"\"Convert an `SDict` or `SDense` to `SCoo`\"\"\"\n",
        "\n",
        "    if is_model(S):\n",
        "        model = cast(Model, S)\n",
        "\n",
        "        @functools.wraps(model)\n",
        "        def wrapper(**kwargs):\n",
        "            return scoo(model(**kwargs))\n",
        "\n",
        "        return wrapper\n",
        "\n",
        "    elif is_scoo(S):\n",
        "        S = cast(SCoo, S)\n",
        "    elif is_sdense(S):\n",
        "        S = _sdense_to_scoo(*cast(SDense, S))\n",
        "    elif is_sdict(S):\n",
        "        S = _sdict_to_scoo(cast(SDict, S))\n",
        "    else:\n",
        "        raise ValueError(\"Could not convert arguments to scoo.\")\n",
        "\n",
        "    return S\n",
        "\n",
        "def _consolidate_sdense(S, pm):\n",
        "    idxs = list(pm.values())\n",
        "    S = S[..., idxs, :][..., :, idxs]\n",
        "    pm = {p: i for i, p in enumerate(pm)}\n",
        "    return S, pm\n",
        "\n",
        "def _sdense_to_scoo(S: Array, ports_map: Dict[str, int]) -> SCoo:\n",
        "    S, ports_map = _consolidate_sdense(S, ports_map)\n",
        "    Sj, Si = jnp.meshgrid(jnp.arange(S.shape[-1]), jnp.arange(S.shape[-2]))\n",
        "    return Si.ravel(), Sj.ravel(), S.reshape(*S.shape[:-2], -1), ports_map\n",
        "\n",
        "\n",
        "def _sdict_to_scoo(sdict: SDict) -> SCoo:\n",
        "    all_ports = {}\n",
        "    for p1, p2 in sdict:\n",
        "        all_ports[p1] = None\n",
        "        all_ports[p2] = None\n",
        "    ports_map = {p: i for i, p in enumerate(all_ports)}\n",
        "    Sx = jnp.stack(jnp.broadcast_arrays(*sdict.values()), -1)\n",
        "    Si = jnp.array([ports_map[p] for p, _ in sdict])\n",
        "    Sj = jnp.array([ports_map[p] for _, p in sdict])\n",
        "    return Si, Sj, Sx, ports_map"
      ]
    },
    {
      "cell_type": "code",
      "execution_count": 50,
      "id": "2e409185-a9f6-4ea9-af09-1c184557f02d",
      "metadata": {
        "execution": {
          "iopub.execute_input": "2023-09-01T18:13:43.041299Z",
          "iopub.status.busy": "2023-09-01T18:13:43.040858Z",
          "iopub.status.idle": "2023-09-01T18:13:43.184528Z",
          "shell.execute_reply": "2023-09-01T18:13:43.184076Z"
        },
        "papermill": {
          "duration": 0.157202,
          "end_time": "2023-09-01T18:13:43.186003",
          "exception": false,
          "start_time": "2023-09-01T18:13:43.028801",
          "status": "completed"
        },
        "tags": []
      },
      "outputs": [
        {
          "data": {
            "text/plain": [
              "(Array([0, 0, 0, 1, 1, 1, 2, 2, 2], dtype=int32),\n",
              " Array([0, 1, 2, 0, 1, 2, 0, 1, 2], dtype=int32),\n",
              " Array([0., 2., 1., 6., 8., 7., 3., 5., 4.], dtype=float32),\n",
              " {'in0': 0, 'in1': 1, 'out0': 2})"
            ]
          },
          "execution_count": 50,
          "metadata": {},
          "output_type": "execute_result"
        }
      ],
      "source": [
        "scoo(_sdense)"
      ]
    },
    {
      "cell_type": "code",
      "execution_count": 51,
      "id": "1e97b31c",
      "metadata": {
        "execution": {
          "iopub.execute_input": "2023-09-01T18:13:43.210715Z",
          "iopub.status.busy": "2023-09-01T18:13:43.210255Z",
          "iopub.status.idle": "2023-09-01T18:13:43.264558Z",
          "shell.execute_reply": "2023-09-01T18:13:43.264130Z"
        },
        "papermill": {
          "duration": 0.068332,
          "end_time": "2023-09-01T18:13:43.266011",
          "exception": false,
          "start_time": "2023-09-01T18:13:43.197679",
          "status": "completed"
        },
        "tags": []
      },
      "outputs": [],
      "source": [
        "assert scoo(_scoo) is _scoo\n",
        "assert scoo(_sdict) == (0, 1, 3.0, {\"in0\": 0, \"out0\": 1})\n",
        "Si, Sj, Sx, port_map = scoo(_sdense)  # type: ignore\n",
        "np.testing.assert_array_equal(Si, jnp.array([0, 0, 0, 1, 1, 1, 2, 2, 2]))\n",
        "np.testing.assert_array_equal(Sj, jnp.array([0, 1, 2, 0, 1, 2, 0, 1, 2]))\n",
        "np.testing.assert_array_almost_equal(Sx, jnp.array([0.0, 2.0, 1.0, 6.0, 8.0, 7.0, 3.0, 5.0, 4.0]))\n",
        "assert port_map == {\"in0\": 0, \"in1\": 1, \"out0\": 2}"
      ]
    },
    {
      "cell_type": "markdown",
      "id": "5e58325b",
      "metadata": {
        "papermill": {
          "duration": 0.011415,
          "end_time": "2023-09-01T18:13:43.288951",
          "exception": false,
          "start_time": "2023-09-01T18:13:43.277536",
          "status": "completed"
        },
        "tags": []
      },
      "source": [
        "Convert an `SDict`, `SCoo` or `SDense` into an `SDense` (or convert a model generating any of these types into a model generating an `SDense`):"
      ]
    },
    {
      "cell_type": "code",
      "execution_count": 52,
      "id": "270145ab88916f9c",
      "metadata": {
        "execution": {
          "iopub.execute_input": "2023-09-01T18:13:43.313167Z",
          "iopub.status.busy": "2023-09-01T18:13:43.312609Z",
          "iopub.status.idle": "2023-09-01T18:13:43.315682Z",
          "shell.execute_reply": "2023-09-01T18:13:43.315260Z"
        },
        "papermill": {
          "duration": 0.016478,
          "end_time": "2023-09-01T18:13:43.316855",
          "exception": false,
          "start_time": "2023-09-01T18:13:43.300377",
          "status": "completed"
        },
        "tags": [
          "remove-cell"
        ]
      },
      "outputs": [],
      "source": [
        "\n",
        "@overload\n",
        "def sdense(S: Callable) -> Callable:\n",
        "    ...\n",
        "\n",
        "\n",
        "@overload\n",
        "def sdense(S: SType) -> SDense:\n",
        "    ..."
      ]
    },
    {
      "cell_type": "markdown",
      "id": "5d77103fb1282ff0",
      "metadata": {},
      "source": [
        ":::{eval-rst}\n",
        ".. autofunction:: sax.typing_.sdense\n",
        ":::\n"
      ]
    },
    {
      "cell_type": "code",
      "execution_count": 53,
      "id": "20689276101663c1",
      "metadata": {
        "execution": {
          "iopub.execute_input": "2023-09-01T18:13:43.341354Z",
          "iopub.status.busy": "2023-09-01T18:13:43.340789Z",
          "iopub.status.idle": "2023-09-01T18:13:43.346755Z",
          "shell.execute_reply": "2023-09-01T18:13:43.346330Z"
        },
        "papermill": {
          "duration": 0.01938,
          "end_time": "2023-09-01T18:13:43.347864",
          "exception": false,
          "start_time": "2023-09-01T18:13:43.328484",
          "status": "completed"
        },
        "tags": [
          "hide-input"
        ]
      },
      "outputs": [],
      "source": [
        "\n",
        "def sdense(S: Union[Callable, SType]) -> Union[Callable, SDense]:\n",
        "    \"\"\"Convert an `SDict` or `SCoo` to `SDense`\"\"\"\n",
        "\n",
        "    if is_model(S):\n",
        "        model = cast(Model, S)\n",
        "\n",
        "        @functools.wraps(model)\n",
        "        def wrapper(**kwargs):\n",
        "            return sdense(model(**kwargs))\n",
        "\n",
        "        return wrapper\n",
        "\n",
        "    if is_sdict(S):\n",
        "        S = _sdict_to_sdense(cast(SDict, S))\n",
        "    elif is_scoo(S):\n",
        "        S = _scoo_to_sdense(*cast(SCoo, S))\n",
        "    elif is_sdense(S):\n",
        "        S = cast(SDense, S)\n",
        "    else:\n",
        "        raise ValueError(\"Could not convert arguments to sdense.\")\n",
        "\n",
        "    return S\n",
        "\n",
        "\n",
        "def _scoo_to_sdense(\n",
        "    Si: Array, Sj: Array, Sx: Array, ports_map: Dict[str, int]\n",
        ") -> SDense:\n",
        "    n_col = len(ports_map)\n",
        "    S = jnp.zeros((*Sx.shape[:-1], n_col, n_col), dtype=complex)\n",
        "    if JAX_AVAILABLE:\n",
        "        S = S.at[..., Si, Sj].add(Sx)\n",
        "    else:\n",
        "        S[..., Si, Sj] = Sx\n",
        "    return S, ports_map\n",
        "\n",
        "def _sdict_to_sdense(sdict: SDict) -> SDense:\n",
        "    Si, Sj, Sx, ports_map = _sdict_to_scoo(sdict)\n",
        "    return _scoo_to_sdense(Si, Sj, Sx, ports_map)"
      ]
    },
    {
      "cell_type": "code",
      "execution_count": 54,
      "id": "084b7ddb",
      "metadata": {
        "execution": {
          "iopub.execute_input": "2023-09-01T18:13:43.372235Z",
          "iopub.status.busy": "2023-09-01T18:13:43.371669Z",
          "iopub.status.idle": "2023-09-01T18:13:43.452769Z",
          "shell.execute_reply": "2023-09-01T18:13:43.452308Z"
        },
        "papermill": {
          "duration": 0.09489,
          "end_time": "2023-09-01T18:13:43.454263",
          "exception": false,
          "start_time": "2023-09-01T18:13:43.359373",
          "status": "completed"
        },
        "tags": []
      },
      "outputs": [],
      "source": [
        "assert sdense(_sdense) is _sdense\n",
        "Sd, port_map = sdense(_scoo)  # type: ignore\n",
        "Sd_ = jnp.array([[3.0 + 0.0j, 0.0 + 0.0j, 0.0 + 0.0j],\n",
        "                 [0.0 + 0.0j, 4.0 + 0.0j, 0.0 + 0.0j],\n",
        "                 [1.0 + 0.0j, 0.0 + 0.0j, 0.0 + 0.0j]])\n",
        "\n",
        "np.testing.assert_array_almost_equal(Sd, Sd_)\n",
        "assert port_map == {\"in0\": 0, \"in1\": 2, \"out0\": 1}"
      ]
    },
    {
      "cell_type": "markdown",
      "id": "67aa354dd64fc7bb",
      "metadata": {},
      "source": [
        ":::{eval-rst}\n",
        ".. autofunction:: sax.typing_.modelfactory\n",
        ":::\n"
      ]
    },
    {
      "cell_type": "code",
      "execution_count": 55,
      "id": "337b4658b7729c6b",
      "metadata": {
        "execution": {
          "iopub.execute_input": "2023-09-01T18:13:43.479118Z",
          "iopub.status.busy": "2023-09-01T18:13:43.478525Z",
          "iopub.status.idle": "2023-09-01T18:13:43.481738Z",
          "shell.execute_reply": "2023-09-01T18:13:43.481366Z"
        },
        "papermill": {
          "duration": 0.016931,
          "end_time": "2023-09-01T18:13:43.482845",
          "exception": false,
          "start_time": "2023-09-01T18:13:43.465914",
          "status": "completed"
        },
        "tags": [
          "hide-input"
        ]
      },
      "outputs": [],
      "source": [
        "\n",
        "def modelfactory(func):\n",
        "    \"\"\"Decorator that marks a function as `ModelFactory`\"\"\"\n",
        "    sig = inspect.signature(func)\n",
        "    if _is_callable_annotation(sig.return_annotation):  # already model factory\n",
        "        return func\n",
        "    func.__signature__ = sig.replace(return_annotation=Model)\n",
        "    return func"
      ]
    }
  ],
  "metadata": {
    "kernelspec": {
      "display_name": "sax",
      "language": "python",
      "name": "sax"
    },
    "language_info": {
      "codemirror_mode": {
        "name": "ipython",
        "version": 3
      },
      "file_extension": ".py",
      "mimetype": "text/x-python",
      "name": "python",
      "nbconvert_exporter": "python",
      "pygments_lexer": "ipython3",
      "version": "3.11.5"
    },
    "papermill": {
      "default_parameters": {},
      "duration": 5.270858,
      "end_time": "2023-09-01T18:13:43.912163",
      "environment_variables": {},
      "exception": null,
      "input_path": "./nbs/00_typing.ipynb",
      "output_path": "./nbs/00_typing.ipynb",
      "parameters": {},
      "start_time": "2023-09-01T18:13:38.641305",
      "version": "2.4.0"
    }
  },
  "nbformat": 4,
  "nbformat_minor": 5
}