{
  "cells": [
    {
      "cell_type": "code",
      "execution_count": 1,
      "id": "9e301a3a034e7584",
      "metadata": {
        "execution": {
          "iopub.execute_input": "2023-09-01T15:55:08.340152Z",
          "iopub.status.busy": "2023-09-01T15:55:08.339669Z",
          "iopub.status.idle": "2023-09-01T15:55:08.343804Z",
          "shell.execute_reply": "2023-09-01T15:55:08.343224Z"
        },
        "papermill": {
          "duration": 0.061176,
          "end_time": "2023-09-01T15:55:08.345379",
          "exception": false,
          "start_time": "2023-09-01T15:55:08.284203",
          "status": "completed"
        },
        "tags": [
          "remove-cell"
        ]
      },
      "outputs": [],
      "source": []
    },
    {
      "cell_type": "markdown",
      "id": "13a3464b",
      "metadata": {
        "papermill": {
          "duration": 0.012085,
          "end_time": "2023-09-01T15:55:08.369931",
          "exception": false,
          "start_time": "2023-09-01T15:55:08.357846",
          "status": "completed"
        },
        "tags": []
      },
      "source": [
        "# Typing\n",
        "\n",
        "> SAX types"
      ]
    },
    {
      "cell_type": "code",
      "execution_count": 2,
      "id": "2abec43195dcfdac",
      "metadata": {
        "execution": {
          "iopub.execute_input": "2023-09-01T15:55:08.396179Z",
          "iopub.status.busy": "2023-09-01T15:55:08.395374Z",
          "iopub.status.idle": "2023-09-01T15:55:08.936528Z",
          "shell.execute_reply": "2023-09-01T15:55:08.935835Z"
        },
        "papermill": {
          "duration": 0.557002,
          "end_time": "2023-09-01T15:55:08.938952",
          "exception": false,
          "start_time": "2023-09-01T15:55:08.381950",
          "status": "completed"
        },
        "tags": [
          "remove-cell"
        ]
      },
      "outputs": [],
      "source": [
        "import matplotlib.pyplot as plt\n",
        "from fastcore.test import test_eq\n",
        "from pytest import approx, raises\n",
        "\n",
        "import os, sys; sys.stderr = open(os.devnull, \"w\")"
      ]
    },
    {
      "cell_type": "code",
      "execution_count": 3,
      "id": "d8173cca86483d27",
      "metadata": {
        "execution": {
          "iopub.execute_input": "2023-09-01T15:55:08.965011Z",
          "iopub.status.busy": "2023-09-01T15:55:08.964246Z",
          "iopub.status.idle": "2023-09-01T15:55:09.458883Z",
          "shell.execute_reply": "2023-09-01T15:55:09.458213Z"
        },
        "papermill": {
          "duration": 0.510236,
          "end_time": "2023-09-01T15:55:09.461207",
          "exception": false,
          "start_time": "2023-09-01T15:55:08.950971",
          "status": "completed"
        },
        "tags": [
          "hide-input"
        ]
      },
      "outputs": [],
      "source": [
        "from __future__ import annotations\n",
        "import functools\n",
        "import inspect\n",
        "from collections.abc import Callable as CallableABC\n",
        "from typing import Any, Callable, Dict, Tuple, Union, cast, overload\n",
        "try:\n",
        "    from typing import TypedDict\n",
        "except ImportError: # python<3.8\n",
        "    from typing_extensions import TypedDict\n",
        "\n",
        "import numpy as np\n",
        "from natsort import natsorted\n",
        "\n",
        "try:\n",
        "    import jax.numpy as jnp\n",
        "    JAX_AVAILABLE = True\n",
        "except ImportError:\n",
        "    import numpy as jnp\n",
        "    JAX_AVAILABLE = False"
      ]
    },
    {
      "cell_type": "markdown",
      "id": "41e26ab2",
      "metadata": {
        "papermill": {
          "duration": 0.011857,
          "end_time": "2023-09-01T15:55:09.484951",
          "exception": false,
          "start_time": "2023-09-01T15:55:09.473094",
          "status": "completed"
        },
        "tags": []
      },
      "source": [
        "## Core Types"
      ]
    },
    {
      "cell_type": "markdown",
      "id": "ca29df5c",
      "metadata": {
        "papermill": {
          "duration": 0.011615,
          "end_time": "2023-09-01T15:55:09.508074",
          "exception": false,
          "start_time": "2023-09-01T15:55:09.496459",
          "status": "completed"
        },
        "tags": []
      },
      "source": [
        "### Array"
      ]
    },
    {
      "cell_type": "markdown",
      "id": "82c3c344",
      "metadata": {
        "papermill": {
          "duration": 0.011458,
          "end_time": "2023-09-01T15:55:09.530829",
          "exception": false,
          "start_time": "2023-09-01T15:55:09.519371",
          "status": "completed"
        },
        "tags": []
      },
      "source": [
        "an `Array` is either a jax array or a numpy array:"
      ]
    },
    {
      "cell_type": "code",
      "execution_count": 4,
      "id": "b40edf7769eb6f1f",
      "metadata": {
        "execution": {
          "iopub.execute_input": "2023-09-01T15:55:09.555447Z",
          "iopub.status.busy": "2023-09-01T15:55:09.555043Z",
          "iopub.status.idle": "2023-09-01T15:55:09.558442Z",
          "shell.execute_reply": "2023-09-01T15:55:09.557889Z"
        },
        "papermill": {
          "duration": 0.017748,
          "end_time": "2023-09-01T15:55:09.560056",
          "exception": false,
          "start_time": "2023-09-01T15:55:09.542308",
          "status": "completed"
        },
        "tags": []
      },
      "outputs": [],
      "source": [
        "Array = Union[jnp.ndarray, np.ndarray]"
      ]
    },
    {
      "cell_type": "markdown",
      "id": "6b86fa37",
      "metadata": {
        "papermill": {
          "duration": 0.01152,
          "end_time": "2023-09-01T15:55:09.583569",
          "exception": false,
          "start_time": "2023-09-01T15:55:09.572049",
          "status": "completed"
        },
        "tags": []
      },
      "source": [
        "### Int"
      ]
    },
    {
      "cell_type": "markdown",
      "id": "9fa467c9",
      "metadata": {
        "papermill": {
          "duration": 0.011866,
          "end_time": "2023-09-01T15:55:09.607132",
          "exception": false,
          "start_time": "2023-09-01T15:55:09.595266",
          "status": "completed"
        },
        "tags": []
      },
      "source": [
        "An `Int` is either a built-in `int` or an `Array` [of dtype `int`]"
      ]
    },
    {
      "cell_type": "code",
      "execution_count": 5,
      "id": "3984537832a5d331",
      "metadata": {
        "execution": {
          "iopub.execute_input": "2023-09-01T15:55:09.631906Z",
          "iopub.status.busy": "2023-09-01T15:55:09.631285Z",
          "iopub.status.idle": "2023-09-01T15:55:09.634602Z",
          "shell.execute_reply": "2023-09-01T15:55:09.634076Z"
        },
        "papermill": {
          "duration": 0.017518,
          "end_time": "2023-09-01T15:55:09.636154",
          "exception": false,
          "start_time": "2023-09-01T15:55:09.618636",
          "status": "completed"
        },
        "tags": []
      },
      "outputs": [],
      "source": [
        "Int = Union[int, Array]"
      ]
    },
    {
      "cell_type": "markdown",
      "id": "c486cd2c",
      "metadata": {
        "papermill": {
          "duration": 0.011612,
          "end_time": "2023-09-01T15:55:09.659296",
          "exception": false,
          "start_time": "2023-09-01T15:55:09.647684",
          "status": "completed"
        },
        "tags": []
      },
      "source": [
        "### Float"
      ]
    },
    {
      "cell_type": "markdown",
      "id": "3b59bba6",
      "metadata": {
        "papermill": {
          "duration": 0.011614,
          "end_time": "2023-09-01T15:55:09.682497",
          "exception": false,
          "start_time": "2023-09-01T15:55:09.670883",
          "status": "completed"
        },
        "tags": []
      },
      "source": [
        "A `Float` is eiter a built-in `float` or an `Array` [of dtype `float`]"
      ]
    },
    {
      "cell_type": "code",
      "execution_count": 6,
      "id": "590bb72a1a99a730",
      "metadata": {
        "execution": {
          "iopub.execute_input": "2023-09-01T15:55:09.707972Z",
          "iopub.status.busy": "2023-09-01T15:55:09.707189Z",
          "iopub.status.idle": "2023-09-01T15:55:09.711453Z",
          "shell.execute_reply": "2023-09-01T15:55:09.710731Z"
        },
        "papermill": {
          "duration": 0.018947,
          "end_time": "2023-09-01T15:55:09.713043",
          "exception": false,
          "start_time": "2023-09-01T15:55:09.694096",
          "status": "completed"
        },
        "tags": []
      },
      "outputs": [],
      "source": [
        "Float = Union[float, Array]"
      ]
    },
    {
      "cell_type": "markdown",
      "id": "bdfd6200",
      "metadata": {
        "papermill": {
          "duration": 0.012087,
          "end_time": "2023-09-01T15:55:09.736945",
          "exception": false,
          "start_time": "2023-09-01T15:55:09.724858",
          "status": "completed"
        },
        "tags": []
      },
      "source": [
        "### ComplexFloat"
      ]
    },
    {
      "cell_type": "markdown",
      "id": "b1a7d255",
      "metadata": {
        "papermill": {
          "duration": 0.011608,
          "end_time": "2023-09-01T15:55:09.760095",
          "exception": false,
          "start_time": "2023-09-01T15:55:09.748487",
          "status": "completed"
        },
        "tags": []
      },
      "source": [
        "A `ComplexFloat` is either a build-in `complex` or an Array [of dtype `complex`]:"
      ]
    },
    {
      "cell_type": "code",
      "execution_count": 7,
      "id": "3e6169ca8b530910",
      "metadata": {
        "execution": {
          "iopub.execute_input": "2023-09-01T15:55:09.785264Z",
          "iopub.status.busy": "2023-09-01T15:55:09.784666Z",
          "iopub.status.idle": "2023-09-01T15:55:09.787887Z",
          "shell.execute_reply": "2023-09-01T15:55:09.787393Z"
        },
        "papermill": {
          "duration": 0.017631,
          "end_time": "2023-09-01T15:55:09.789314",
          "exception": false,
          "start_time": "2023-09-01T15:55:09.771683",
          "status": "completed"
        },
        "tags": []
      },
      "outputs": [],
      "source": [
        "ComplexFloat = Union[complex, Float]"
      ]
    },
    {
      "cell_type": "markdown",
      "id": "1f1aa099",
      "metadata": {
        "papermill": {
          "duration": 0.011714,
          "end_time": "2023-09-01T15:55:09.812758",
          "exception": false,
          "start_time": "2023-09-01T15:55:09.801044",
          "status": "completed"
        },
        "tags": []
      },
      "source": [
        "### Settings"
      ]
    },
    {
      "cell_type": "markdown",
      "id": "69839acd",
      "metadata": {
        "papermill": {
          "duration": 0.011511,
          "end_time": "2023-09-01T15:55:09.835840",
          "exception": false,
          "start_time": "2023-09-01T15:55:09.824329",
          "status": "completed"
        },
        "tags": []
      },
      "source": [
        "A `Settings` dictionary is a nested mapping between setting names [`str`] to either `ComplexFloat` values OR to another lower level `Settings` dictionary."
      ]
    },
    {
      "cell_type": "code",
      "execution_count": 8,
      "id": "6bfb04b168c8df8c",
      "metadata": {
        "execution": {
          "iopub.execute_input": "2023-09-01T15:55:09.862278Z",
          "iopub.status.busy": "2023-09-01T15:55:09.861691Z",
          "iopub.status.idle": "2023-09-01T15:55:09.865547Z",
          "shell.execute_reply": "2023-09-01T15:55:09.864751Z"
        },
        "papermill": {
          "duration": 0.019473,
          "end_time": "2023-09-01T15:55:09.867118",
          "exception": false,
          "start_time": "2023-09-01T15:55:09.847645",
          "status": "completed"
        },
        "tags": []
      },
      "outputs": [],
      "source": [
        "Settings = Union[Dict[str, ComplexFloat], Dict[str, \"Settings\"]]"
      ]
    },
    {
      "cell_type": "markdown",
      "id": "cf202d06",
      "metadata": {
        "papermill": {
          "duration": 0.011795,
          "end_time": "2023-09-01T15:55:09.890589",
          "exception": false,
          "start_time": "2023-09-01T15:55:09.878794",
          "status": "completed"
        },
        "tags": []
      },
      "source": [
        "Settings dictionaries are used to parametrize a SAX `Model` or a `circuit`. The settings dictionary should have the same hierarchy levels as the circuit:\n",
        " \n",
        " > Example:"
      ]
    },
    {
      "cell_type": "code",
      "execution_count": 9,
      "id": "2b26c4ab",
      "metadata": {
        "execution": {
          "iopub.execute_input": "2023-09-01T15:55:09.916022Z",
          "iopub.status.busy": "2023-09-01T15:55:09.915287Z",
          "iopub.status.idle": "2023-09-01T15:55:09.918982Z",
          "shell.execute_reply": "2023-09-01T15:55:09.918500Z"
        },
        "papermill": {
          "duration": 0.018084,
          "end_time": "2023-09-01T15:55:09.920373",
          "exception": false,
          "start_time": "2023-09-01T15:55:09.902289",
          "status": "completed"
        },
        "tags": []
      },
      "outputs": [],
      "source": [
        "mzi_settings = {\n",
        "    \"wl\": 1.5,  # global settings\n",
        "    \"lft\": {\"coupling\": 0.5},  # settings for the left coupler\n",
        "    \"top\": {\"neff\": 3.4},  # settings for the top waveguide\n",
        "    \"rgt\": {\"coupling\": 0.3},  # settings for the right coupler\n",
        "}"
      ]
    },
    {
      "cell_type": "markdown",
      "id": "45043912",
      "metadata": {
        "papermill": {
          "duration": 0.011833,
          "end_time": "2023-09-01T15:55:09.944081",
          "exception": false,
          "start_time": "2023-09-01T15:55:09.932248",
          "status": "completed"
        },
        "tags": []
      },
      "source": [
        "### SDict"
      ]
    },
    {
      "cell_type": "markdown",
      "id": "c5a7facf",
      "metadata": {
        "papermill": {
          "duration": 0.012104,
          "end_time": "2023-09-01T15:55:09.968076",
          "exception": false,
          "start_time": "2023-09-01T15:55:09.955972",
          "status": "completed"
        },
        "tags": []
      },
      "source": [
        "An `SDict` is a sparse dictionary based representation of an S-matrix, mapping port name tuples such as `('in0', 'out0')` to `ComplexFloat`."
      ]
    },
    {
      "cell_type": "code",
      "execution_count": 10,
      "id": "e2f9e488dad13a66",
      "metadata": {
        "execution": {
          "iopub.execute_input": "2023-09-01T15:55:09.993589Z",
          "iopub.status.busy": "2023-09-01T15:55:09.992816Z",
          "iopub.status.idle": "2023-09-01T15:55:09.996874Z",
          "shell.execute_reply": "2023-09-01T15:55:09.996104Z"
        },
        "papermill": {
          "duration": 0.018714,
          "end_time": "2023-09-01T15:55:09.998527",
          "exception": false,
          "start_time": "2023-09-01T15:55:09.979813",
          "status": "completed"
        },
        "tags": []
      },
      "outputs": [],
      "source": [
        "SDict = Dict[Tuple[str, str], ComplexFloat]"
      ]
    },
    {
      "cell_type": "markdown",
      "id": "07dc470a",
      "metadata": {
        "papermill": {
          "duration": 0.011994,
          "end_time": "2023-09-01T15:55:10.022398",
          "exception": false,
          "start_time": "2023-09-01T15:55:10.010404",
          "status": "completed"
        },
        "tags": []
      },
      "source": [
        "> Example:"
      ]
    },
    {
      "cell_type": "code",
      "execution_count": 11,
      "id": "ad65a70c",
      "metadata": {
        "execution": {
          "iopub.execute_input": "2023-09-01T15:55:10.048796Z",
          "iopub.status.busy": "2023-09-01T15:55:10.047739Z",
          "iopub.status.idle": "2023-09-01T15:55:10.051829Z",
          "shell.execute_reply": "2023-09-01T15:55:10.051376Z"
        },
        "papermill": {
          "duration": 0.019676,
          "end_time": "2023-09-01T15:55:10.054190",
          "exception": false,
          "start_time": "2023-09-01T15:55:10.034514",
          "status": "completed"
        },
        "tags": []
      },
      "outputs": [
        {
          "name": "stdout",
          "output_type": "stream",
          "text": [
            "{('in0', 'out0'): 3.0}\n"
          ]
        }
      ],
      "source": [
        "_sdict: SDict = {\n",
        "    (\"in0\", \"out0\"): 3.0,\n",
        "}\n",
        "print(_sdict)"
      ]
    },
    {
      "cell_type": "markdown",
      "id": "0e2c7430",
      "metadata": {
        "papermill": {
          "duration": 0.012037,
          "end_time": "2023-09-01T15:55:10.078396",
          "exception": false,
          "start_time": "2023-09-01T15:55:10.066359",
          "status": "completed"
        },
        "tags": []
      },
      "source": [
        "### SCoo"
      ]
    },
    {
      "cell_type": "markdown",
      "id": "ef614e1d",
      "metadata": {
        "papermill": {
          "duration": 0.011933,
          "end_time": "2023-09-01T15:55:10.102341",
          "exception": false,
          "start_time": "2023-09-01T15:55:10.090408",
          "status": "completed"
        },
        "tags": []
      },
      "source": [
        "An `SCoo` is a sparse matrix based representation of an S-matrix consisting of three arrays and a port map. The three arrays represent the input port indices [`int`], output port indices [`int`] and the S-matrix values [`ComplexFloat`] of the sparse matrix. The port map maps a port name [`str`] to a port index [`int`]. Only these four arrays **together** and in this specific **order** are considered a valid `SCoo` representation!"
      ]
    },
    {
      "cell_type": "code",
      "execution_count": 12,
      "id": "aeb7ac9897186d3a",
      "metadata": {
        "execution": {
          "iopub.execute_input": "2023-09-01T15:55:10.128678Z",
          "iopub.status.busy": "2023-09-01T15:55:10.127731Z",
          "iopub.status.idle": "2023-09-01T15:55:10.135332Z",
          "shell.execute_reply": "2023-09-01T15:55:10.134848Z"
        },
        "papermill": {
          "duration": 0.022437,
          "end_time": "2023-09-01T15:55:10.136647",
          "exception": false,
          "start_time": "2023-09-01T15:55:10.114210",
          "status": "completed"
        },
        "tags": []
      },
      "outputs": [],
      "source": [
        "SCoo = Tuple[Array, Array, ComplexFloat, Dict[str, int]]"
      ]
    },
    {
      "cell_type": "markdown",
      "id": "ff9719c8",
      "metadata": {
        "papermill": {
          "duration": 0.012037,
          "end_time": "2023-09-01T15:55:10.160743",
          "exception": false,
          "start_time": "2023-09-01T15:55:10.148706",
          "status": "completed"
        },
        "tags": []
      },
      "source": [
        "> Example:"
      ]
    },
    {
      "cell_type": "code",
      "execution_count": 13,
      "id": "972f8060",
      "metadata": {
        "execution": {
          "iopub.execute_input": "2023-09-01T15:55:10.186555Z",
          "iopub.status.busy": "2023-09-01T15:55:10.186102Z",
          "iopub.status.idle": "2023-09-01T15:55:10.220922Z",
          "shell.execute_reply": "2023-09-01T15:55:10.220433Z"
        },
        "papermill": {
          "duration": 0.049457,
          "end_time": "2023-09-01T15:55:10.222332",
          "exception": false,
          "start_time": "2023-09-01T15:55:10.172875",
          "status": "completed"
        },
        "tags": []
      },
      "outputs": [
        {
          "name": "stdout",
          "output_type": "stream",
          "text": [
            "[0 1 2]\n",
            "[0 1 0]\n",
            "[3. 4. 1.]\n",
            "{'in0': 0, 'in1': 2, 'out0': 1}\n"
          ]
        }
      ],
      "source": [
        "Si = jnp.arange(3, dtype=int)\n",
        "Sj = jnp.array([0, 1, 0], dtype=int)\n",
        "Sx = jnp.array([3.0, 4.0, 1.0])\n",
        "port_map = {\"in0\": 0, \"in1\": 2, \"out0\": 1}\n",
        "_scoo: SCoo = (Si, Sj, Sx, port_map)\n",
        "print(Si)\n",
        "print(Sj)\n",
        "print(Sx)\n",
        "print(port_map)"
      ]
    },
    {
      "cell_type": "markdown",
      "id": "2cba9246",
      "metadata": {
        "papermill": {
          "duration": 0.012008,
          "end_time": "2023-09-01T15:55:10.246769",
          "exception": false,
          "start_time": "2023-09-01T15:55:10.234761",
          "status": "completed"
        },
        "tags": []
      },
      "source": [
        "### SDense"
      ]
    },
    {
      "cell_type": "markdown",
      "id": "fd28795b",
      "metadata": {
        "papermill": {
          "duration": 0.012045,
          "end_time": "2023-09-01T15:55:10.270748",
          "exception": false,
          "start_time": "2023-09-01T15:55:10.258703",
          "status": "completed"
        },
        "tags": []
      },
      "source": [
        "an `SDense` is a dense matrix representation of an S-matrix. It's represented by an NxN `ComplexFloat` array and a port map (mapping port names onto port indices)."
      ]
    },
    {
      "cell_type": "code",
      "execution_count": 14,
      "id": "763d747a1a0356b2",
      "metadata": {
        "execution": {
          "iopub.execute_input": "2023-09-01T15:55:10.297230Z",
          "iopub.status.busy": "2023-09-01T15:55:10.296232Z",
          "iopub.status.idle": "2023-09-01T15:55:10.300841Z",
          "shell.execute_reply": "2023-09-01T15:55:10.300122Z"
        },
        "papermill": {
          "duration": 0.019707,
          "end_time": "2023-09-01T15:55:10.302472",
          "exception": false,
          "start_time": "2023-09-01T15:55:10.282765",
          "status": "completed"
        },
        "tags": []
      },
      "outputs": [],
      "source": [
        "SDense = Tuple[Array, Dict[str, int]]"
      ]
    },
    {
      "cell_type": "markdown",
      "id": "2c4789f7",
      "metadata": {
        "papermill": {
          "duration": 0.012318,
          "end_time": "2023-09-01T15:55:10.327134",
          "exception": false,
          "start_time": "2023-09-01T15:55:10.314816",
          "status": "completed"
        },
        "tags": []
      },
      "source": [
        "> Example:"
      ]
    },
    {
      "cell_type": "code",
      "execution_count": 15,
      "id": "02def7ed",
      "metadata": {
        "execution": {
          "iopub.execute_input": "2023-09-01T15:55:10.354829Z",
          "iopub.status.busy": "2023-09-01T15:55:10.352675Z",
          "iopub.status.idle": "2023-09-01T15:55:10.390224Z",
          "shell.execute_reply": "2023-09-01T15:55:10.389528Z"
        },
        "papermill": {
          "duration": 0.05441,
          "end_time": "2023-09-01T15:55:10.393532",
          "exception": false,
          "start_time": "2023-09-01T15:55:10.339122",
          "status": "completed"
        },
        "tags": []
      },
      "outputs": [
        {
          "name": "stdout",
          "output_type": "stream",
          "text": [
            "[[0. 1. 2.]\n",
            " [3. 4. 5.]\n",
            " [6. 7. 8.]]\n",
            "{'in0': 0, 'in1': 2, 'out0': 1}\n"
          ]
        }
      ],
      "source": [
        "Sd = jnp.arange(9, dtype=float).reshape(3, 3)\n",
        "port_map = {\"in0\": 0, \"in1\": 2, \"out0\": 1}\n",
        "_sdense = Sd, port_map\n",
        "print(Sd)\n",
        "print(port_map)"
      ]
    },
    {
      "cell_type": "markdown",
      "id": "b0d2e36f",
      "metadata": {
        "papermill": {
          "duration": 0.012586,
          "end_time": "2023-09-01T15:55:10.420893",
          "exception": false,
          "start_time": "2023-09-01T15:55:10.408307",
          "status": "completed"
        },
        "tags": []
      },
      "source": [
        "### SType"
      ]
    },
    {
      "cell_type": "markdown",
      "id": "b441f21d",
      "metadata": {
        "papermill": {
          "duration": 0.01312,
          "end_time": "2023-09-01T15:55:10.446551",
          "exception": false,
          "start_time": "2023-09-01T15:55:10.433431",
          "status": "completed"
        },
        "tags": []
      },
      "source": [
        "an `SType` is either an `SDict` **OR** an `SCoo` **OR** an `SDense`:"
      ]
    },
    {
      "cell_type": "code",
      "execution_count": 16,
      "id": "940775e1a2643ce2",
      "metadata": {
        "execution": {
          "iopub.execute_input": "2023-09-01T15:55:10.473353Z",
          "iopub.status.busy": "2023-09-01T15:55:10.472701Z",
          "iopub.status.idle": "2023-09-01T15:55:10.476074Z",
          "shell.execute_reply": "2023-09-01T15:55:10.475649Z"
        },
        "papermill": {
          "duration": 0.018434,
          "end_time": "2023-09-01T15:55:10.477471",
          "exception": false,
          "start_time": "2023-09-01T15:55:10.459037",
          "status": "completed"
        },
        "tags": []
      },
      "outputs": [],
      "source": [
        "SType = Union[SDict, SCoo, SDense]"
      ]
    },
    {
      "cell_type": "markdown",
      "id": "e0561b07",
      "metadata": {
        "papermill": {
          "duration": 0.012583,
          "end_time": "2023-09-01T15:55:10.502325",
          "exception": false,
          "start_time": "2023-09-01T15:55:10.489742",
          "status": "completed"
        },
        "tags": []
      },
      "source": [
        "> Example:"
      ]
    },
    {
      "cell_type": "code",
      "execution_count": 17,
      "id": "5b52a5f2",
      "metadata": {
        "execution": {
          "iopub.execute_input": "2023-09-01T15:55:10.532284Z",
          "iopub.status.busy": "2023-09-01T15:55:10.531366Z",
          "iopub.status.idle": "2023-09-01T15:55:10.535913Z",
          "shell.execute_reply": "2023-09-01T15:55:10.535155Z"
        },
        "papermill": {
          "duration": 0.020706,
          "end_time": "2023-09-01T15:55:10.537547",
          "exception": false,
          "start_time": "2023-09-01T15:55:10.516841",
          "status": "completed"
        },
        "tags": []
      },
      "outputs": [],
      "source": [
        "obj: SType = _sdict\n",
        "obj: SType = _scoo\n",
        "obj: SType = _sdense"
      ]
    },
    {
      "cell_type": "markdown",
      "id": "afabe91b",
      "metadata": {
        "papermill": {
          "duration": 0.012368,
          "end_time": "2023-09-01T15:55:10.562319",
          "exception": false,
          "start_time": "2023-09-01T15:55:10.549951",
          "status": "completed"
        },
        "tags": []
      },
      "source": [
        "### Model"
      ]
    },
    {
      "cell_type": "markdown",
      "id": "13808fb1",
      "metadata": {
        "papermill": {
          "duration": 0.012399,
          "end_time": "2023-09-01T15:55:10.587125",
          "exception": false,
          "start_time": "2023-09-01T15:55:10.574726",
          "status": "completed"
        },
        "tags": []
      },
      "source": [
        "A `Model` is any keyword-only function that returns an `SType`:"
      ]
    },
    {
      "cell_type": "code",
      "execution_count": 18,
      "id": "54613cc1c652de24",
      "metadata": {
        "execution": {
          "iopub.execute_input": "2023-09-01T15:55:10.614145Z",
          "iopub.status.busy": "2023-09-01T15:55:10.613296Z",
          "iopub.status.idle": "2023-09-01T15:55:10.617201Z",
          "shell.execute_reply": "2023-09-01T15:55:10.616428Z"
        },
        "papermill": {
          "duration": 0.019415,
          "end_time": "2023-09-01T15:55:10.618866",
          "exception": false,
          "start_time": "2023-09-01T15:55:10.599451",
          "status": "completed"
        },
        "tags": []
      },
      "outputs": [],
      "source": [
        "Model = Callable[..., SType]"
      ]
    },
    {
      "cell_type": "markdown",
      "id": "fad534fb",
      "metadata": {
        "papermill": {
          "duration": 0.012268,
          "end_time": "2023-09-01T15:55:10.643591",
          "exception": false,
          "start_time": "2023-09-01T15:55:10.631323",
          "status": "completed"
        },
        "tags": []
      },
      "source": [
        "### ModelFactory"
      ]
    },
    {
      "cell_type": "markdown",
      "id": "85781647",
      "metadata": {
        "papermill": {
          "duration": 0.012284,
          "end_time": "2023-09-01T15:55:10.668129",
          "exception": false,
          "start_time": "2023-09-01T15:55:10.655845",
          "status": "completed"
        },
        "tags": []
      },
      "source": [
        "A `ModelFactory` is any keyword-only function that returns a `Model`:"
      ]
    },
    {
      "cell_type": "code",
      "execution_count": 19,
      "id": "62b1c98d28cd56a1",
      "metadata": {
        "execution": {
          "iopub.execute_input": "2023-09-01T15:55:10.694924Z",
          "iopub.status.busy": "2023-09-01T15:55:10.694268Z",
          "iopub.status.idle": "2023-09-01T15:55:10.697960Z",
          "shell.execute_reply": "2023-09-01T15:55:10.697361Z"
        },
        "papermill": {
          "duration": 0.018991,
          "end_time": "2023-09-01T15:55:10.699433",
          "exception": false,
          "start_time": "2023-09-01T15:55:10.680442",
          "status": "completed"
        },
        "tags": []
      },
      "outputs": [],
      "source": [
        "ModelFactory = Callable[..., Model]"
      ]
    },
    {
      "cell_type": "markdown",
      "id": "353d8506",
      "metadata": {
        "papermill": {
          "duration": 0.012336,
          "end_time": "2023-09-01T15:55:10.724119",
          "exception": false,
          "start_time": "2023-09-01T15:55:10.711783",
          "status": "completed"
        },
        "tags": []
      },
      "source": [
        "> Note: SAX sometimes needs to figure out the difference between a `ModelFactory` and a normal `Model` *before* running the function. To do this, SAX will check the return annotation of the function. Any function with a `-> Model` or `-> Callable` annotation will be considered a `ModelFactory`. Any function without this annotation will be considered a normal Model: **don't forget the return annotation of your Model Factory!** To ensure a correct annotation and to ensure forward compatibility, it's recommended to decorate your `ModelFactory` with the `modelfactory` decorator."
      ]
    },
    {
      "cell_type": "markdown",
      "id": "b32b5a31",
      "metadata": {
        "papermill": {
          "duration": 0.012353,
          "end_time": "2023-09-01T15:55:10.748784",
          "exception": false,
          "start_time": "2023-09-01T15:55:10.736431",
          "status": "completed"
        },
        "tags": []
      },
      "source": [
        "### Models"
      ]
    },
    {
      "cell_type": "markdown",
      "id": "a796dcb2",
      "metadata": {
        "papermill": {
          "duration": 0.012323,
          "end_time": "2023-09-01T15:55:10.773416",
          "exception": false,
          "start_time": "2023-09-01T15:55:10.761093",
          "status": "completed"
        },
        "tags": []
      },
      "source": [
        "`Models` is a mapping between model names [`str`] and a `Model`:"
      ]
    },
    {
      "cell_type": "code",
      "execution_count": 20,
      "id": "dde155846576c7a3",
      "metadata": {
        "execution": {
          "iopub.execute_input": "2023-09-01T15:55:10.800086Z",
          "iopub.status.busy": "2023-09-01T15:55:10.799509Z",
          "iopub.status.idle": "2023-09-01T15:55:10.802504Z",
          "shell.execute_reply": "2023-09-01T15:55:10.802084Z"
        },
        "papermill": {
          "duration": 0.017988,
          "end_time": "2023-09-01T15:55:10.803814",
          "exception": false,
          "start_time": "2023-09-01T15:55:10.785826",
          "status": "completed"
        },
        "tags": []
      },
      "outputs": [],
      "source": [
        "Models = Dict[str, Model]"
      ]
    },
    {
      "cell_type": "markdown",
      "id": "ed1af61c",
      "metadata": {
        "papermill": {
          "duration": 0.012453,
          "end_time": "2023-09-01T15:55:10.828679",
          "exception": false,
          "start_time": "2023-09-01T15:55:10.816226",
          "status": "completed"
        },
        "tags": []
      },
      "source": [
        "> Note: sometimes 'component' is used to refer to a a `Model` or `GeneralModel`. This is because other tools (such as for example GDSFactory) prefer that terminology."
      ]
    },
    {
      "cell_type": "markdown",
      "id": "5d276f63",
      "metadata": {
        "papermill": {
          "duration": 0.01239,
          "end_time": "2023-09-01T15:55:10.853467",
          "exception": false,
          "start_time": "2023-09-01T15:55:10.841077",
          "status": "completed"
        },
        "tags": []
      },
      "source": [
        "## Netlist Types\n",
        "\n",
        "Netlist types are moved [here](06_netlist.ipynb)."
      ]
    },
    {
      "cell_type": "markdown",
      "id": "dbcb4447",
      "metadata": {
        "papermill": {
          "duration": 0.012387,
          "end_time": "2023-09-01T15:55:10.878227",
          "exception": false,
          "start_time": "2023-09-01T15:55:10.865840",
          "status": "completed"
        },
        "tags": []
      },
      "source": [
        "## Validation and runtime type-checking:\n",
        "> Note: the type-checking functions below are **NOT** very tight and hence should be used within the right context!"
      ]
    },
    {
      "cell_type": "markdown",
      "id": "24efee5fe3257303",
      "metadata": {},
      "source": [
        ":::{eval-rst}\n",
        ".. autofunction:: sax.typing_.is_float\n",
        ":::\n"
      ]
    },
    {
      "cell_type": "code",
      "execution_count": 21,
      "id": "81d272f9ec484d6f",
      "metadata": {
        "execution": {
          "iopub.execute_input": "2023-09-01T15:55:10.905227Z",
          "iopub.status.busy": "2023-09-01T15:55:10.904355Z",
          "iopub.status.idle": "2023-09-01T15:55:10.909251Z",
          "shell.execute_reply": "2023-09-01T15:55:10.908674Z"
        },
        "papermill": {
          "duration": 0.020575,
          "end_time": "2023-09-01T15:55:10.911274",
          "exception": false,
          "start_time": "2023-09-01T15:55:10.890699",
          "status": "completed"
        },
        "tags": [
          "hide-input"
        ]
      },
      "outputs": [],
      "source": [
        "def is_float(x: Any) -> bool:\n",
        "    \"\"\"Check if an object is a `Float`\"\"\"\n",
        "    if isinstance(x, float):\n",
        "        return True\n",
        "    if isinstance(x, np.ndarray):\n",
        "        return x.dtype in (np.float16, np.float32, np.float64, np.float128)\n",
        "    if isinstance(x, jnp.ndarray):\n",
        "        return x.dtype in (jnp.float16, jnp.float32, jnp.float64)\n",
        "    return False"
      ]
    },
    {
      "cell_type": "code",
      "execution_count": 22,
      "id": "28374448",
      "metadata": {
        "execution": {
          "iopub.execute_input": "2023-09-01T15:55:10.942228Z",
          "iopub.status.busy": "2023-09-01T15:55:10.941336Z",
          "iopub.status.idle": "2023-09-01T15:55:10.950079Z",
          "shell.execute_reply": "2023-09-01T15:55:10.949514Z"
        },
        "papermill": {
          "duration": 0.024604,
          "end_time": "2023-09-01T15:55:10.951631",
          "exception": false,
          "start_time": "2023-09-01T15:55:10.927027",
          "status": "completed"
        },
        "tags": []
      },
      "outputs": [],
      "source": [
        "assert is_float(3.0)\n",
        "assert not is_float(3)\n",
        "assert not is_float(3.0 + 2j)\n",
        "assert not is_float(jnp.array(3.0, dtype=complex))\n",
        "assert not is_float(jnp.array(3, dtype=int))"
      ]
    },
    {
      "cell_type": "markdown",
      "id": "4889d78031ca68c5",
      "metadata": {},
      "source": [
        ":::{eval-rst}\n",
        ".. autofunction:: sax.typing_.is_complex\n",
        ":::\n"
      ]
    },
    {
      "cell_type": "code",
      "execution_count": 23,
      "id": "ec0205d7e5e4631f",
      "metadata": {
        "execution": {
          "iopub.execute_input": "2023-09-01T15:55:10.979397Z",
          "iopub.status.busy": "2023-09-01T15:55:10.978659Z",
          "iopub.status.idle": "2023-09-01T15:55:10.983188Z",
          "shell.execute_reply": "2023-09-01T15:55:10.982588Z"
        },
        "papermill": {
          "duration": 0.02037,
          "end_time": "2023-09-01T15:55:10.984922",
          "exception": false,
          "start_time": "2023-09-01T15:55:10.964552",
          "status": "completed"
        },
        "tags": [
          "hide-input"
        ]
      },
      "outputs": [],
      "source": [
        "def is_complex(x: Any) -> bool:\n",
        "    \"\"\"check if an object is a `ComplexFloat`\"\"\"\n",
        "    if isinstance(x, complex):\n",
        "        return True\n",
        "    if isinstance(x, np.ndarray):\n",
        "        return x.dtype in (np.complex64, np.complex128)\n",
        "    if isinstance(x, jnp.ndarray):\n",
        "        return x.dtype in (jnp.complex64, jnp.complex128)\n",
        "    return False"
      ]
    },
    {
      "cell_type": "code",
      "execution_count": 24,
      "id": "d81a703d",
      "metadata": {
        "execution": {
          "iopub.execute_input": "2023-09-01T15:55:11.013355Z",
          "iopub.status.busy": "2023-09-01T15:55:11.012406Z",
          "iopub.status.idle": "2023-09-01T15:55:11.019484Z",
          "shell.execute_reply": "2023-09-01T15:55:11.018726Z"
        },
        "papermill": {
          "duration": 0.023176,
          "end_time": "2023-09-01T15:55:11.021040",
          "exception": false,
          "start_time": "2023-09-01T15:55:10.997864",
          "status": "completed"
        },
        "tags": []
      },
      "outputs": [],
      "source": [
        "assert not is_complex(3.0)\n",
        "assert not is_complex(3)\n",
        "assert is_complex(3.0 + 2j)\n",
        "assert is_complex(jnp.array(3.0, dtype=complex))\n",
        "assert not is_complex(jnp.array(3, dtype=int))"
      ]
    },
    {
      "cell_type": "markdown",
      "id": "3af1bc1227350862",
      "metadata": {},
      "source": [
        ":::{eval-rst}\n",
        ".. autofunction:: sax.typing_.is_complex_float\n",
        ":::\n"
      ]
    },
    {
      "cell_type": "code",
      "execution_count": 25,
      "id": "c7222c0b23318454",
      "metadata": {
        "execution": {
          "iopub.execute_input": "2023-09-01T15:55:11.049804Z",
          "iopub.status.busy": "2023-09-01T15:55:11.049246Z",
          "iopub.status.idle": "2023-09-01T15:55:11.052638Z",
          "shell.execute_reply": "2023-09-01T15:55:11.052142Z"
        },
        "papermill": {
          "duration": 0.019268,
          "end_time": "2023-09-01T15:55:11.054054",
          "exception": false,
          "start_time": "2023-09-01T15:55:11.034786",
          "status": "completed"
        },
        "tags": [
          "hide-input"
        ]
      },
      "outputs": [],
      "source": [
        "def is_complex_float(x: Any) -> bool:\n",
        "    \"\"\"check if an object is either a `ComplexFloat` or a `Float`\"\"\"\n",
        "    return is_float(x) or is_complex(x)"
      ]
    },
    {
      "cell_type": "code",
      "execution_count": 26,
      "id": "c533ff0d",
      "metadata": {
        "execution": {
          "iopub.execute_input": "2023-09-01T15:55:11.083902Z",
          "iopub.status.busy": "2023-09-01T15:55:11.083149Z",
          "iopub.status.idle": "2023-09-01T15:55:11.090061Z",
          "shell.execute_reply": "2023-09-01T15:55:11.089328Z"
        },
        "papermill": {
          "duration": 0.023433,
          "end_time": "2023-09-01T15:55:11.091595",
          "exception": false,
          "start_time": "2023-09-01T15:55:11.068162",
          "status": "completed"
        },
        "tags": []
      },
      "outputs": [],
      "source": [
        "assert is_complex_float(3.0)\n",
        "assert not is_complex_float(3)\n",
        "assert is_complex_float(3.0 + 2j)\n",
        "assert is_complex_float(jnp.array(3.0, dtype=complex))\n",
        "assert not is_complex_float(jnp.array(3, dtype=int))"
      ]
    },
    {
      "cell_type": "markdown",
      "id": "6e6d84ff81655d83",
      "metadata": {},
      "source": [
        ":::{eval-rst}\n",
        ".. autofunction:: sax.typing_.is_sdict\n",
        ":::\n"
      ]
    },
    {
      "cell_type": "code",
      "execution_count": 27,
      "id": "0d90eed14e85e91a",
      "metadata": {
        "execution": {
          "iopub.execute_input": "2023-09-01T15:55:11.119526Z",
          "iopub.status.busy": "2023-09-01T15:55:11.118767Z",
          "iopub.status.idle": "2023-09-01T15:55:11.122319Z",
          "shell.execute_reply": "2023-09-01T15:55:11.121859Z"
        },
        "papermill": {
          "duration": 0.019239,
          "end_time": "2023-09-01T15:55:11.123646",
          "exception": false,
          "start_time": "2023-09-01T15:55:11.104407",
          "status": "completed"
        },
        "tags": [
          "hide-input"
        ]
      },
      "outputs": [],
      "source": [
        "def is_sdict(x: Any) -> bool:\n",
        "    \"\"\"check if an object is an `SDict` (a SAX S-dictionary)\"\"\"\n",
        "    return isinstance(x, dict)"
      ]
    },
    {
      "cell_type": "code",
      "execution_count": 28,
      "id": "cb0365dc",
      "metadata": {
        "execution": {
          "iopub.execute_input": "2023-09-01T15:55:11.154730Z",
          "iopub.status.busy": "2023-09-01T15:55:11.153984Z",
          "iopub.status.idle": "2023-09-01T15:55:11.158678Z",
          "shell.execute_reply": "2023-09-01T15:55:11.157923Z"
        },
        "papermill": {
          "duration": 0.021894,
          "end_time": "2023-09-01T15:55:11.160294",
          "exception": false,
          "start_time": "2023-09-01T15:55:11.138400",
          "status": "completed"
        },
        "tags": []
      },
      "outputs": [],
      "source": [
        "assert not is_sdict(object())\n",
        "assert is_sdict(_sdict)\n",
        "assert not is_sdict(_scoo)\n",
        "assert not is_sdict(_sdense)"
      ]
    },
    {
      "cell_type": "markdown",
      "id": "fb577fc5413a31fe",
      "metadata": {},
      "source": [
        ":::{eval-rst}\n",
        ".. autofunction:: sax.typing_.is_scoo\n",
        ":::\n"
      ]
    },
    {
      "cell_type": "code",
      "execution_count": 29,
      "id": "79c5979f177abf42",
      "metadata": {
        "execution": {
          "iopub.execute_input": "2023-09-01T15:55:11.189368Z",
          "iopub.status.busy": "2023-09-01T15:55:11.188813Z",
          "iopub.status.idle": "2023-09-01T15:55:11.192296Z",
          "shell.execute_reply": "2023-09-01T15:55:11.191834Z"
        },
        "papermill": {
          "duration": 0.019814,
          "end_time": "2023-09-01T15:55:11.193730",
          "exception": false,
          "start_time": "2023-09-01T15:55:11.173916",
          "status": "completed"
        },
        "tags": [
          "hide-input"
        ]
      },
      "outputs": [],
      "source": [
        "def is_scoo(x: Any) -> bool:\n",
        "    \"\"\"check if an object is an `SCoo` (a SAX sparse S-matrix representation in COO-format)\"\"\"\n",
        "    return isinstance(x, (tuple, list)) and len(x) == 4"
      ]
    },
    {
      "cell_type": "code",
      "execution_count": 30,
      "id": "9ea0239a",
      "metadata": {
        "execution": {
          "iopub.execute_input": "2023-09-01T15:55:11.222302Z",
          "iopub.status.busy": "2023-09-01T15:55:11.221664Z",
          "iopub.status.idle": "2023-09-01T15:55:11.225731Z",
          "shell.execute_reply": "2023-09-01T15:55:11.225149Z"
        },
        "papermill": {
          "duration": 0.020522,
          "end_time": "2023-09-01T15:55:11.227250",
          "exception": false,
          "start_time": "2023-09-01T15:55:11.206728",
          "status": "completed"
        },
        "tags": []
      },
      "outputs": [],
      "source": [
        "assert not is_scoo(object)\n",
        "assert not is_scoo(_sdict)\n",
        "assert is_scoo(_scoo)\n",
        "assert not is_scoo(_sdense)"
      ]
    },
    {
      "cell_type": "markdown",
      "id": "cb0fbf17abc5a176",
      "metadata": {},
      "source": [
        ":::{eval-rst}\n",
        ".. autofunction:: sax.typing_.is_sdense\n",
        ":::\n"
      ]
    },
    {
      "cell_type": "code",
      "execution_count": 31,
      "id": "94d249fe339fac6f",
      "metadata": {
        "execution": {
          "iopub.execute_input": "2023-09-01T15:55:11.257321Z",
          "iopub.status.busy": "2023-09-01T15:55:11.256558Z",
          "iopub.status.idle": "2023-09-01T15:55:11.261521Z",
          "shell.execute_reply": "2023-09-01T15:55:11.260745Z"
        },
        "papermill": {
          "duration": 0.022574,
          "end_time": "2023-09-01T15:55:11.263158",
          "exception": false,
          "start_time": "2023-09-01T15:55:11.240584",
          "status": "completed"
        },
        "tags": [
          "hide-input"
        ]
      },
      "outputs": [],
      "source": [
        "def is_sdense(x: Any) -> bool:\n",
        "    \"\"\"check if an object is an `SDense` (a SAX dense S-matrix representation)\"\"\"\n",
        "    return isinstance(x, (tuple, list)) and len(x) == 2"
      ]
    },
    {
      "cell_type": "code",
      "execution_count": 32,
      "id": "2eddd63a",
      "metadata": {
        "execution": {
          "iopub.execute_input": "2023-09-01T15:55:11.291800Z",
          "iopub.status.busy": "2023-09-01T15:55:11.290987Z",
          "iopub.status.idle": "2023-09-01T15:55:11.294854Z",
          "shell.execute_reply": "2023-09-01T15:55:11.294249Z"
        },
        "papermill": {
          "duration": 0.019895,
          "end_time": "2023-09-01T15:55:11.296362",
          "exception": false,
          "start_time": "2023-09-01T15:55:11.276467",
          "status": "completed"
        },
        "tags": []
      },
      "outputs": [],
      "source": [
        "assert not is_sdense(object)\n",
        "assert not is_sdense(_sdict)\n",
        "assert not is_sdense(_scoo)\n",
        "assert is_sdense(_sdense)"
      ]
    },
    {
      "cell_type": "markdown",
      "id": "3cc2002c0e9c0798",
      "metadata": {},
      "source": [
        ":::{eval-rst}\n",
        ".. autofunction:: sax.typing_.is_model\n",
        ":::\n"
      ]
    },
    {
      "cell_type": "code",
      "execution_count": 33,
      "id": "647f1e9064b346f2",
      "metadata": {
        "execution": {
          "iopub.execute_input": "2023-09-01T15:55:11.324679Z",
          "iopub.status.busy": "2023-09-01T15:55:11.324220Z",
          "iopub.status.idle": "2023-09-01T15:55:11.330973Z",
          "shell.execute_reply": "2023-09-01T15:55:11.330351Z"
        },
        "papermill": {
          "duration": 0.022901,
          "end_time": "2023-09-01T15:55:11.332476",
          "exception": false,
          "start_time": "2023-09-01T15:55:11.309575",
          "status": "completed"
        },
        "tags": [
          "hide-input"
        ]
      },
      "outputs": [],
      "source": [
        "def is_model(model: Any) -> bool:\n",
        "    \"\"\"check if a callable is a `Model` (a callable returning an `SType`)\"\"\"\n",
        "    if not callable(model):\n",
        "        return False\n",
        "    try:\n",
        "        sig = inspect.signature(model)\n",
        "    except ValueError:\n",
        "        return False\n",
        "    for param in sig.parameters.values():\n",
        "        if param.default is inspect.Parameter.empty:\n",
        "            return False  # a proper SAX model does not have any positional arguments.\n",
        "    if _is_callable_annotation(sig.return_annotation):  # model factory\n",
        "        return False\n",
        "    return True\n",
        "\n",
        "def _is_callable_annotation(annotation: Any) -> bool:\n",
        "    \"\"\"check if an annotation is `Callable`-like\"\"\"\n",
        "    if isinstance(annotation, str):\n",
        "        # happens when\n",
        "        # was imported at the top of the file...\n",
        "        return annotation.startswith(\"Callable\") or annotation.endswith(\"Model\")\n",
        "        # TODO: this is not a very robust check...\n",
        "    try:\n",
        "        return annotation.__origin__ == CallableABC\n",
        "    except AttributeError:\n",
        "        return False"
      ]
    },
    {
      "cell_type": "code",
      "execution_count": 34,
      "id": "5085190f03d09a39",
      "metadata": {
        "execution": {
          "iopub.execute_input": "2023-09-01T15:55:11.361905Z",
          "iopub.status.busy": "2023-09-01T15:55:11.360936Z",
          "iopub.status.idle": "2023-09-01T15:55:11.365056Z",
          "shell.execute_reply": "2023-09-01T15:55:11.364282Z"
        },
        "papermill": {
          "duration": 0.020907,
          "end_time": "2023-09-01T15:55:11.366863",
          "exception": false,
          "start_time": "2023-09-01T15:55:11.345956",
          "status": "completed"
        },
        "tags": [
          "remove-cell"
        ]
      },
      "outputs": [],
      "source": [
        "assert _is_callable_annotation(Callable)\n",
        "assert not _is_callable_annotation(SDict)"
      ]
    },
    {
      "cell_type": "code",
      "execution_count": 35,
      "id": "89bdb647",
      "metadata": {
        "execution": {
          "iopub.execute_input": "2023-09-01T15:55:11.395061Z",
          "iopub.status.busy": "2023-09-01T15:55:11.394493Z",
          "iopub.status.idle": "2023-09-01T15:55:11.415236Z",
          "shell.execute_reply": "2023-09-01T15:55:11.414697Z"
        },
        "papermill": {
          "duration": 0.037168,
          "end_time": "2023-09-01T15:55:11.417020",
          "exception": false,
          "start_time": "2023-09-01T15:55:11.379852",
          "status": "completed"
        },
        "tags": []
      },
      "outputs": [],
      "source": [
        "def good_model(x=jnp.array(3.0), y=jnp.array(4.0)) -> SDict:\n",
        "    return {(\"in0\", \"out0\"): jnp.array(3.0)}\n",
        "assert is_model(good_model)\n",
        "\n",
        "def bad_model(positional_argument, x=jnp.array(3.0), y=jnp.array(4.0)) -> SDict:\n",
        "    return {(\"in0\", \"out0\"): jnp.array(3.0)}\n",
        "assert not is_model(bad_model)"
      ]
    },
    {
      "cell_type": "markdown",
      "id": "08a1c6c8b65db9fb",
      "metadata": {},
      "source": [
        ":::{eval-rst}\n",
        ".. autofunction:: sax.typing_.is_model_factory\n",
        ":::\n"
      ]
    },
    {
      "cell_type": "code",
      "execution_count": 36,
      "id": "d6875e500df9ab2f",
      "metadata": {
        "execution": {
          "iopub.execute_input": "2023-09-01T15:55:11.444996Z",
          "iopub.status.busy": "2023-09-01T15:55:11.444402Z",
          "iopub.status.idle": "2023-09-01T15:55:11.448630Z",
          "shell.execute_reply": "2023-09-01T15:55:11.447907Z"
        },
        "papermill": {
          "duration": 0.020038,
          "end_time": "2023-09-01T15:55:11.450182",
          "exception": false,
          "start_time": "2023-09-01T15:55:11.430144",
          "status": "completed"
        },
        "tags": [
          "hide-input"
        ]
      },
      "outputs": [],
      "source": [
        "def is_model_factory(model: Any) -> bool:\n",
        "    \"\"\"check if a callable is a model function.\"\"\"\n",
        "    if not callable(model):\n",
        "        return False\n",
        "    sig = inspect.signature(model)\n",
        "    if _is_callable_annotation(sig.return_annotation):  # model factory\n",
        "        return True\n",
        "    return False"
      ]
    },
    {
      "cell_type": "markdown",
      "id": "1f9715ed",
      "metadata": {
        "papermill": {
          "duration": 0.012982,
          "end_time": "2023-09-01T15:55:11.476299",
          "exception": false,
          "start_time": "2023-09-01T15:55:11.463317",
          "status": "completed"
        },
        "tags": []
      },
      "source": [
        "> Note: For a `Callable` to be considered a `ModelFactory` in SAX, it **MUST** have a `Callable` or `Model` return annotation. Otherwise SAX will view it as a `Model` and things might break!"
      ]
    },
    {
      "cell_type": "code",
      "execution_count": 37,
      "id": "fe9cdff0",
      "metadata": {
        "execution": {
          "iopub.execute_input": "2023-09-01T15:55:11.503797Z",
          "iopub.status.busy": "2023-09-01T15:55:11.503501Z",
          "iopub.status.idle": "2023-09-01T15:55:11.507908Z",
          "shell.execute_reply": "2023-09-01T15:55:11.507031Z"
        },
        "papermill": {
          "duration": 0.020374,
          "end_time": "2023-09-01T15:55:11.509588",
          "exception": false,
          "start_time": "2023-09-01T15:55:11.489214",
          "status": "completed"
        },
        "tags": []
      },
      "outputs": [],
      "source": [
        "def func() -> Model:\n",
        "    ...\n",
        "    \n",
        "assert is_model_factory(func) # yes, we only check the annotation for now...\n",
        "\n",
        "def func():\n",
        "    ...\n",
        "    \n",
        "assert not is_model_factory(func) # yes, we only check the annotation for now..."
      ]
    },
    {
      "cell_type": "markdown",
      "id": "8a7083e03511a86c",
      "metadata": {},
      "source": [
        ":::{eval-rst}\n",
        ".. autofunction:: sax.typing_.validate_model\n",
        ":::\n"
      ]
    },
    {
      "cell_type": "code",
      "execution_count": 38,
      "id": "9a0f53d8ddfe4db6",
      "metadata": {
        "execution": {
          "iopub.execute_input": "2023-09-01T15:55:11.538092Z",
          "iopub.status.busy": "2023-09-01T15:55:11.537348Z",
          "iopub.status.idle": "2023-09-01T15:55:11.542407Z",
          "shell.execute_reply": "2023-09-01T15:55:11.541951Z"
        },
        "papermill": {
          "duration": 0.021163,
          "end_time": "2023-09-01T15:55:11.543786",
          "exception": false,
          "start_time": "2023-09-01T15:55:11.522623",
          "status": "completed"
        },
        "tags": [
          "hide-input"
        ]
      },
      "outputs": [],
      "source": [
        "def validate_model(model: Callable):\n",
        "    \"\"\"Validate the parameters of a model\"\"\"\n",
        "    positional_arguments = []\n",
        "    for param in inspect.signature(model).parameters.values():\n",
        "        if param.default is inspect.Parameter.empty:\n",
        "            positional_arguments.append(param.name)\n",
        "    if positional_arguments:\n",
        "        raise ValueError(\n",
        "            f\"model '{model}' takes positional arguments {', '.join(positional_arguments)} \"\n",
        "            \"and hence is not a valid SAX Model! A SAX model should ONLY take keyword arguments (or no arguments at all).\"\n",
        "        )"
      ]
    },
    {
      "cell_type": "code",
      "execution_count": 39,
      "id": "754399d5",
      "metadata": {
        "execution": {
          "iopub.execute_input": "2023-09-01T15:55:11.572231Z",
          "iopub.status.busy": "2023-09-01T15:55:11.571333Z",
          "iopub.status.idle": "2023-09-01T15:55:11.577830Z",
          "shell.execute_reply": "2023-09-01T15:55:11.577356Z"
        },
        "papermill": {
          "duration": 0.022466,
          "end_time": "2023-09-01T15:55:11.579290",
          "exception": false,
          "start_time": "2023-09-01T15:55:11.556824",
          "status": "completed"
        },
        "tags": []
      },
      "outputs": [],
      "source": [
        "def good_model(x=jnp.array(3.0), y=jnp.array(4.0)) -> SDict:\n",
        "    return {(\"in0\", \"out0\"): jnp.array(3.0)}\n",
        "\n",
        "\n",
        "assert validate_model(good_model) is None"
      ]
    },
    {
      "cell_type": "code",
      "execution_count": 40,
      "id": "181c72fa",
      "metadata": {
        "execution": {
          "iopub.execute_input": "2023-09-01T15:55:11.607601Z",
          "iopub.status.busy": "2023-09-01T15:55:11.606914Z",
          "iopub.status.idle": "2023-09-01T15:55:11.611830Z",
          "shell.execute_reply": "2023-09-01T15:55:11.611386Z"
        },
        "papermill": {
          "duration": 0.020625,
          "end_time": "2023-09-01T15:55:11.613219",
          "exception": false,
          "start_time": "2023-09-01T15:55:11.592594",
          "status": "completed"
        },
        "tags": []
      },
      "outputs": [],
      "source": [
        "def bad_model(positional_argument, x=jnp.array(3.0), y=jnp.array(4.0)) -> SDict:\n",
        "    return {(\"in0\", \"out0\"): jnp.array(3.0)}\n",
        "\n",
        "\n",
        "with raises(ValueError):\n",
        "    validate_model(bad_model)"
      ]
    },
    {
      "cell_type": "markdown",
      "id": "c698326e61ba3bc1",
      "metadata": {},
      "source": [
        ":::{eval-rst}\n",
        ".. autofunction:: sax.typing_.is_stype\n",
        ":::\n"
      ]
    },
    {
      "cell_type": "code",
      "execution_count": 41,
      "id": "43ef4d24378bc87d",
      "metadata": {
        "execution": {
          "iopub.execute_input": "2023-09-01T15:55:11.641284Z",
          "iopub.status.busy": "2023-09-01T15:55:11.640730Z",
          "iopub.status.idle": "2023-09-01T15:55:11.644134Z",
          "shell.execute_reply": "2023-09-01T15:55:11.643664Z"
        },
        "papermill": {
          "duration": 0.019285,
          "end_time": "2023-09-01T15:55:11.645556",
          "exception": false,
          "start_time": "2023-09-01T15:55:11.626271",
          "status": "completed"
        },
        "tags": [
          "hide-input"
        ]
      },
      "outputs": [],
      "source": [
        "def is_stype(stype: Any) -> bool:\n",
        "    \"\"\"check if an object is an SDict, SCoo or SDense\"\"\"\n",
        "    return is_sdict(stype) or is_scoo(stype) or is_sdense(stype)"
      ]
    },
    {
      "cell_type": "markdown",
      "id": "473a7128e85e5f84",
      "metadata": {},
      "source": [
        ":::{eval-rst}\n",
        ".. autofunction:: sax.typing_.is_singlemode\n",
        ":::\n"
      ]
    },
    {
      "cell_type": "code",
      "execution_count": 42,
      "id": "c560ad36b51367e5",
      "metadata": {
        "execution": {
          "iopub.execute_input": "2023-09-01T15:55:11.673633Z",
          "iopub.status.busy": "2023-09-01T15:55:11.673003Z",
          "iopub.status.idle": "2023-09-01T15:55:11.678161Z",
          "shell.execute_reply": "2023-09-01T15:55:11.677695Z"
        },
        "papermill": {
          "duration": 0.020902,
          "end_time": "2023-09-01T15:55:11.679549",
          "exception": false,
          "start_time": "2023-09-01T15:55:11.658647",
          "status": "completed"
        },
        "tags": [
          "hide-input"
        ]
      },
      "outputs": [],
      "source": [
        "def is_singlemode(S: Any) -> bool:\n",
        "    \"\"\"check if an stype is single mode\"\"\"\n",
        "    if not is_stype(S):\n",
        "        return False\n",
        "    ports = _get_ports(S)\n",
        "    return not any((\"@\" in p) for p in ports)\n",
        "\n",
        "def _get_ports(S: SType):\n",
        "    if is_sdict(S):\n",
        "        S = cast(SDict, S)\n",
        "        ports_set = {p1 for p1, _ in S} | {p2 for _, p2 in S}\n",
        "        return tuple(natsorted(ports_set))\n",
        "    else:\n",
        "        *_, ports_map = S\n",
        "        assert isinstance(ports_map, dict)\n",
        "        return tuple(natsorted(ports_map.keys()))"
      ]
    },
    {
      "cell_type": "markdown",
      "id": "5fa8abfb6c521370",
      "metadata": {},
      "source": [
        ":::{eval-rst}\n",
        ".. autofunction:: sax.typing_.is_multimode\n",
        ":::\n"
      ]
    },
    {
      "cell_type": "code",
      "execution_count": 43,
      "id": "0bafa68101f6faab",
      "metadata": {
        "execution": {
          "iopub.execute_input": "2023-09-01T15:55:11.707701Z",
          "iopub.status.busy": "2023-09-01T15:55:11.707141Z",
          "iopub.status.idle": "2023-09-01T15:55:11.711240Z",
          "shell.execute_reply": "2023-09-01T15:55:11.710731Z"
        },
        "papermill": {
          "duration": 0.019995,
          "end_time": "2023-09-01T15:55:11.712673",
          "exception": false,
          "start_time": "2023-09-01T15:55:11.692678",
          "status": "completed"
        },
        "tags": [
          "hide-input"
        ]
      },
      "outputs": [],
      "source": [
        "def is_multimode(S: Any) -> bool:\n",
        "    \"\"\"check if an stype is single mode\"\"\"\n",
        "    if not is_stype(S):\n",
        "        return False\n",
        "    \n",
        "    ports = _get_ports(S)\n",
        "    return all((\"@\" in p) for p in ports)"
      ]
    },
    {
      "cell_type": "markdown",
      "id": "0054507866affd6c",
      "metadata": {},
      "source": [
        ":::{eval-rst}\n",
        ".. autofunction:: sax.typing_.is_mixedmode\n",
        ":::\n"
      ]
    },
    {
      "cell_type": "code",
      "execution_count": 44,
      "id": "bf05309bb4313cad",
      "metadata": {
        "execution": {
          "iopub.execute_input": "2023-09-01T15:55:11.740899Z",
          "iopub.status.busy": "2023-09-01T15:55:11.740207Z",
          "iopub.status.idle": "2023-09-01T15:55:11.743761Z",
          "shell.execute_reply": "2023-09-01T15:55:11.743226Z"
        },
        "papermill": {
          "duration": 0.019239,
          "end_time": "2023-09-01T15:55:11.745169",
          "exception": false,
          "start_time": "2023-09-01T15:55:11.725930",
          "status": "completed"
        },
        "tags": [
          "hide-input"
        ]
      },
      "outputs": [],
      "source": [
        "def is_mixedmode(S: Any) -> bool:\n",
        "    \"\"\"check if an stype is neither single mode nor multimode (hence invalid)\"\"\"\n",
        "    return not is_singlemode(S) and not is_multimode(S)"
      ]
    },
    {
      "cell_type": "markdown",
      "id": "3afe685c",
      "metadata": {
        "papermill": {
          "duration": 0.0132,
          "end_time": "2023-09-01T15:55:11.771534",
          "exception": false,
          "start_time": "2023-09-01T15:55:11.758334",
          "status": "completed"
        },
        "tags": []
      },
      "source": [
        "## SAX return type helpers\n",
        "\n",
        "> a.k.a SDict, SDense, SCoo helpers"
      ]
    },
    {
      "cell_type": "markdown",
      "id": "a875f149",
      "metadata": {
        "papermill": {
          "duration": 0.013194,
          "end_time": "2023-09-01T15:55:11.797894",
          "exception": false,
          "start_time": "2023-09-01T15:55:11.784700",
          "status": "completed"
        },
        "tags": []
      },
      "source": [
        "Convert an `SDict`, `SCoo` or `SDense` into an `SDict` (or convert a model generating any of these types into a model generating an `SDict`):"
      ]
    },
    {
      "cell_type": "code",
      "execution_count": 45,
      "id": "46e64cb6f6166c1e",
      "metadata": {
        "execution": {
          "iopub.execute_input": "2023-09-01T15:55:11.826828Z",
          "iopub.status.busy": "2023-09-01T15:55:11.825880Z",
          "iopub.status.idle": "2023-09-01T15:55:11.831248Z",
          "shell.execute_reply": "2023-09-01T15:55:11.830511Z"
        },
        "papermill": {
          "duration": 0.021826,
          "end_time": "2023-09-01T15:55:11.832799",
          "exception": false,
          "start_time": "2023-09-01T15:55:11.810973",
          "status": "completed"
        },
        "tags": [
          "remove-cell"
        ]
      },
      "outputs": [],
      "source": [
        "\n",
        "@overload\n",
        "def sdict(S: Model) -> Model:\n",
        "    ...\n",
        "\n",
        "\n",
        "@overload\n",
        "def sdict(S: SType) -> SDict:\n",
        "    ..."
      ]
    },
    {
      "cell_type": "markdown",
      "id": "4328bdfbb8ce59db",
      "metadata": {},
      "source": [
        ":::{eval-rst}\n",
        ".. autofunction:: sax.typing_.sdict\n",
        ":::\n"
      ]
    },
    {
      "cell_type": "code",
      "execution_count": 46,
      "id": "68d8cd6a4f59e50a",
      "metadata": {
        "execution": {
          "iopub.execute_input": "2023-09-01T15:55:11.861857Z",
          "iopub.status.busy": "2023-09-01T15:55:11.861166Z",
          "iopub.status.idle": "2023-09-01T15:55:11.870650Z",
          "shell.execute_reply": "2023-09-01T15:55:11.869840Z"
        },
        "papermill": {
          "duration": 0.025608,
          "end_time": "2023-09-01T15:55:11.872116",
          "exception": false,
          "start_time": "2023-09-01T15:55:11.846508",
          "status": "completed"
        },
        "tags": [
          "hide-input"
        ]
      },
      "outputs": [],
      "source": [
        "def sdict(S: Union[Model, SType]) -> Union[Model, SType]:\n",
        "    \"\"\"Convert an `SCoo` or `SDense` to `SDict`\"\"\"\n",
        "\n",
        "    if is_model(S):\n",
        "        model = cast(Model, S)\n",
        "\n",
        "        @functools.wraps(model)\n",
        "        def wrapper(**kwargs):\n",
        "            return sdict(model(**kwargs))\n",
        "\n",
        "        return wrapper\n",
        "\n",
        "    elif is_scoo(S):\n",
        "        x_dict = _scoo_to_sdict(*cast(SCoo, S))\n",
        "    elif is_sdense(S):\n",
        "        x_dict = _sdense_to_sdict(*cast(SDense, S))\n",
        "    elif is_sdict(S):\n",
        "        x_dict = cast(SDict, S)\n",
        "    else:\n",
        "        raise ValueError(\"Could not convert arguments to sdict.\")\n",
        "\n",
        "    return x_dict\n",
        "\n",
        "\n",
        "def _scoo_to_sdict(Si: Array, Sj: Array, Sx: Array, ports_map: Dict[str, int]) -> SDict:\n",
        "    sdict = {}\n",
        "    inverse_ports_map = {int(i): p for p, i in ports_map.items()}\n",
        "    for i, (si, sj) in enumerate(zip(Si, Sj)):\n",
        "        sdict[\n",
        "            inverse_ports_map.get(int(si), \"\"), inverse_ports_map.get(int(sj), \"\")\n",
        "        ] = Sx[..., i]\n",
        "    sdict = {(p1, p2): v for (p1, p2), v in sdict.items() if p1 and p2}\n",
        "    return sdict\n",
        "\n",
        "\n",
        "def _sdense_to_sdict(S: Array, ports_map: Dict[str, int]) -> SDict:\n",
        "    sdict = {}\n",
        "    for p1, i in ports_map.items():\n",
        "        for p2, j in ports_map.items():\n",
        "            sdict[p1, p2] = S[..., i, j]\n",
        "    return sdict"
      ]
    },
    {
      "cell_type": "code",
      "execution_count": 47,
      "id": "9a372fbf",
      "metadata": {
        "execution": {
          "iopub.execute_input": "2023-09-01T15:55:11.900764Z",
          "iopub.status.busy": "2023-09-01T15:55:11.900019Z",
          "iopub.status.idle": "2023-09-01T15:55:12.008873Z",
          "shell.execute_reply": "2023-09-01T15:55:12.008288Z"
        },
        "papermill": {
          "duration": 0.125874,
          "end_time": "2023-09-01T15:55:12.011217",
          "exception": false,
          "start_time": "2023-09-01T15:55:11.885343",
          "status": "completed"
        },
        "tags": []
      },
      "outputs": [],
      "source": [
        "assert sdict(_sdict) is _sdict\n",
        "assert sdict(_scoo) == {\n",
        "    (\"in0\", \"in0\"): 3.0,\n",
        "    (\"in1\", \"in0\"): 1.0,\n",
        "    (\"out0\", \"out0\"): 4.0,\n",
        "}\n",
        "assert sdict(_sdense) == {\n",
        "    (\"in0\", \"in0\"): 0.0,\n",
        "    (\"in0\", \"out0\"): 1.0,\n",
        "    (\"in0\", \"in1\"): 2.0,\n",
        "    (\"out0\", \"in0\"): 3.0,\n",
        "    (\"out0\", \"out0\"): 4.0,\n",
        "    (\"out0\", \"in1\"): 5.0,\n",
        "    (\"in1\", \"in0\"): 6.0,\n",
        "    (\"in1\", \"out0\"): 7.0,\n",
        "    (\"in1\", \"in1\"): 8.0,\n",
        "}"
      ]
    },
    {
      "cell_type": "markdown",
      "id": "492c5cdd",
      "metadata": {
        "papermill": {
          "duration": 0.013499,
          "end_time": "2023-09-01T15:55:12.038281",
          "exception": false,
          "start_time": "2023-09-01T15:55:12.024782",
          "status": "completed"
        },
        "tags": []
      },
      "source": [
        "Convert an `SDict`, `SCoo` or `SDense` into an `SCoo` (or convert a model generating any of these types into a model generating an `SCoo`):"
      ]
    },
    {
      "cell_type": "code",
      "execution_count": 48,
      "id": "ac13c4a75a3e3f1d",
      "metadata": {
        "execution": {
          "iopub.execute_input": "2023-09-01T15:55:12.066815Z",
          "iopub.status.busy": "2023-09-01T15:55:12.066233Z",
          "iopub.status.idle": "2023-09-01T15:55:12.069937Z",
          "shell.execute_reply": "2023-09-01T15:55:12.069490Z"
        },
        "papermill": {
          "duration": 0.019652,
          "end_time": "2023-09-01T15:55:12.071271",
          "exception": false,
          "start_time": "2023-09-01T15:55:12.051619",
          "status": "completed"
        },
        "tags": [
          "remove-cell"
        ]
      },
      "outputs": [],
      "source": [
        "\n",
        "@overload\n",
        "def scoo(S: Callable) -> Callable:\n",
        "    ...\n",
        "\n",
        "\n",
        "@overload\n",
        "def scoo(S: SType) -> SCoo:\n",
        "    ..."
      ]
    },
    {
      "cell_type": "markdown",
      "id": "a87dc1601b021dc2",
      "metadata": {},
      "source": [
        ":::{eval-rst}\n",
        ".. autofunction:: sax.typing_.scoo\n",
        ":::\n"
      ]
    },
    {
      "cell_type": "code",
      "execution_count": 49,
      "id": "4a8d4ff8a11567b8",
      "metadata": {
        "execution": {
          "iopub.execute_input": "2023-09-01T15:55:12.100241Z",
          "iopub.status.busy": "2023-09-01T15:55:12.099668Z",
          "iopub.status.idle": "2023-09-01T15:55:12.109273Z",
          "shell.execute_reply": "2023-09-01T15:55:12.108638Z"
        },
        "papermill": {
          "duration": 0.025894,
          "end_time": "2023-09-01T15:55:12.110785",
          "exception": false,
          "start_time": "2023-09-01T15:55:12.084891",
          "status": "completed"
        },
        "tags": [
          "hide-input"
        ]
      },
      "outputs": [],
      "source": [
        "\n",
        "def scoo(S: Union[Callable, SType]) -> Union[Callable, SCoo]:\n",
        "    \"\"\"Convert an `SDict` or `SDense` to `SCoo`\"\"\"\n",
        "\n",
        "    if is_model(S):\n",
        "        model = cast(Model, S)\n",
        "\n",
        "        @functools.wraps(model)\n",
        "        def wrapper(**kwargs):\n",
        "            return scoo(model(**kwargs))\n",
        "\n",
        "        return wrapper\n",
        "\n",
        "    elif is_scoo(S):\n",
        "        S = cast(SCoo, S)\n",
        "    elif is_sdense(S):\n",
        "        S = _sdense_to_scoo(*cast(SDense, S))\n",
        "    elif is_sdict(S):\n",
        "        S = _sdict_to_scoo(cast(SDict, S))\n",
        "    else:\n",
        "        raise ValueError(\"Could not convert arguments to scoo.\")\n",
        "\n",
        "    return S\n",
        "\n",
        "def _consolidate_sdense(S, pm):\n",
        "    idxs = list(pm.values())\n",
        "    S = S[..., idxs, :][..., :, idxs]\n",
        "    pm = {p: i for i, p in enumerate(pm)}\n",
        "    return S, pm\n",
        "\n",
        "def _sdense_to_scoo(S: Array, ports_map: Dict[str, int]) -> SCoo:\n",
        "    S, ports_map = _consolidate_sdense(S, ports_map)\n",
        "    Sj, Si = jnp.meshgrid(jnp.arange(S.shape[-1]), jnp.arange(S.shape[-2]))\n",
        "    return Si.ravel(), Sj.ravel(), S.reshape(*S.shape[:-2], -1), ports_map\n",
        "\n",
        "\n",
        "def _sdict_to_scoo(sdict: SDict) -> SCoo:\n",
        "    all_ports = {}\n",
        "    for p1, p2 in sdict:\n",
        "        all_ports[p1] = None\n",
        "        all_ports[p2] = None\n",
        "    ports_map = {p: i for i, p in enumerate(all_ports)}\n",
        "    Sx = jnp.stack(jnp.broadcast_arrays(*sdict.values()), -1)\n",
        "    Si = jnp.array([ports_map[p] for p, _ in sdict])\n",
        "    Sj = jnp.array([ports_map[p] for _, p in sdict])\n",
        "    return Si, Sj, Sx, ports_map"
      ]
    },
    {
      "cell_type": "code",
      "execution_count": 50,
      "id": "2e409185-a9f6-4ea9-af09-1c184557f02d",
      "metadata": {
        "execution": {
          "iopub.execute_input": "2023-09-01T15:55:12.140251Z",
          "iopub.status.busy": "2023-09-01T15:55:12.139496Z",
          "iopub.status.idle": "2023-09-01T15:55:12.312394Z",
          "shell.execute_reply": "2023-09-01T15:55:12.311644Z"
        },
        "papermill": {
          "duration": 0.189759,
          "end_time": "2023-09-01T15:55:12.314190",
          "exception": false,
          "start_time": "2023-09-01T15:55:12.124431",
          "status": "completed"
        },
        "tags": []
      },
      "outputs": [
        {
          "data": {
            "text/plain": [
              "(Array([0, 0, 0, 1, 1, 1, 2, 2, 2], dtype=int32),\n",
              " Array([0, 1, 2, 0, 1, 2, 0, 1, 2], dtype=int32),\n",
              " Array([0., 2., 1., 6., 8., 7., 3., 5., 4.], dtype=float32),\n",
              " {'in0': 0, 'in1': 1, 'out0': 2})"
            ]
          },
          "execution_count": 50,
          "metadata": {},
          "output_type": "execute_result"
        }
      ],
      "source": [
        "scoo(_sdense)"
      ]
    },
    {
      "cell_type": "code",
      "execution_count": 51,
      "id": "1e97b31c",
      "metadata": {
        "execution": {
          "iopub.execute_input": "2023-09-01T15:55:12.344914Z",
          "iopub.status.busy": "2023-09-01T15:55:12.344137Z",
          "iopub.status.idle": "2023-09-01T15:55:12.412648Z",
          "shell.execute_reply": "2023-09-01T15:55:12.412095Z"
        },
        "papermill": {
          "duration": 0.086392,
          "end_time": "2023-09-01T15:55:12.414424",
          "exception": false,
          "start_time": "2023-09-01T15:55:12.328032",
          "status": "completed"
        },
        "tags": []
      },
      "outputs": [],
      "source": [
        "assert scoo(_scoo) is _scoo\n",
        "assert scoo(_sdict) == (0, 1, 3.0, {\"in0\": 0, \"out0\": 1})\n",
        "Si, Sj, Sx, port_map = scoo(_sdense)  # type: ignore\n",
        "np.testing.assert_array_equal(Si, jnp.array([0, 0, 0, 1, 1, 1, 2, 2, 2]))\n",
        "np.testing.assert_array_equal(Sj, jnp.array([0, 1, 2, 0, 1, 2, 0, 1, 2]))\n",
        "np.testing.assert_array_almost_equal(Sx, jnp.array([0.0, 2.0, 1.0, 6.0, 8.0, 7.0, 3.0, 5.0, 4.0]))\n",
        "assert port_map == {\"in0\": 0, \"in1\": 1, \"out0\": 2}"
      ]
    },
    {
      "cell_type": "markdown",
      "id": "5e58325b",
      "metadata": {
        "papermill": {
          "duration": 0.013777,
          "end_time": "2023-09-01T15:55:12.442372",
          "exception": false,
          "start_time": "2023-09-01T15:55:12.428595",
          "status": "completed"
        },
        "tags": []
      },
      "source": [
        "Convert an `SDict`, `SCoo` or `SDense` into an `SDense` (or convert a model generating any of these types into a model generating an `SDense`):"
      ]
    },
    {
      "cell_type": "code",
      "execution_count": 52,
      "id": "fe69df8fd41d1375",
      "metadata": {
        "execution": {
          "iopub.execute_input": "2023-09-01T15:55:12.471605Z",
          "iopub.status.busy": "2023-09-01T15:55:12.471154Z",
          "iopub.status.idle": "2023-09-01T15:55:12.475577Z",
          "shell.execute_reply": "2023-09-01T15:55:12.474804Z"
        },
        "papermill": {
          "duration": 0.021253,
          "end_time": "2023-09-01T15:55:12.477295",
          "exception": false,
          "start_time": "2023-09-01T15:55:12.456042",
          "status": "completed"
        },
        "tags": [
          "remove-cell"
        ]
      },
      "outputs": [],
      "source": [
        "\n",
        "@overload\n",
        "def sdense(S: Callable) -> Callable:\n",
        "    ...\n",
        "\n",
        "\n",
        "@overload\n",
        "def sdense(S: SType) -> SDense:\n",
        "    ..."
      ]
    },
    {
      "cell_type": "markdown",
      "id": "dd1f04ba2c1a0da3",
      "metadata": {},
      "source": [
        ":::{eval-rst}\n",
        ".. autofunction:: sax.typing_.sdense\n",
        ":::\n"
      ]
    },
    {
      "cell_type": "code",
      "execution_count": 53,
      "id": "3cb65157efdcc85f",
      "metadata": {
        "execution": {
          "iopub.execute_input": "2023-09-01T15:55:12.507093Z",
          "iopub.status.busy": "2023-09-01T15:55:12.506295Z",
          "iopub.status.idle": "2023-09-01T15:55:12.514229Z",
          "shell.execute_reply": "2023-09-01T15:55:12.513436Z"
        },
        "papermill": {
          "duration": 0.024822,
          "end_time": "2023-09-01T15:55:12.515961",
          "exception": false,
          "start_time": "2023-09-01T15:55:12.491139",
          "status": "completed"
        },
        "tags": [
          "hide-input"
        ]
      },
      "outputs": [],
      "source": [
        "\n",
        "def sdense(S: Union[Callable, SType]) -> Union[Callable, SDense]:\n",
        "    \"\"\"Convert an `SDict` or `SCoo` to `SDense`\"\"\"\n",
        "\n",
        "    if is_model(S):\n",
        "        model = cast(Model, S)\n",
        "\n",
        "        @functools.wraps(model)\n",
        "        def wrapper(**kwargs):\n",
        "            return sdense(model(**kwargs))\n",
        "\n",
        "        return wrapper\n",
        "\n",
        "    if is_sdict(S):\n",
        "        S = _sdict_to_sdense(cast(SDict, S))\n",
        "    elif is_scoo(S):\n",
        "        S = _scoo_to_sdense(*cast(SCoo, S))\n",
        "    elif is_sdense(S):\n",
        "        S = cast(SDense, S)\n",
        "    else:\n",
        "        raise ValueError(\"Could not convert arguments to sdense.\")\n",
        "\n",
        "    return S\n",
        "\n",
        "\n",
        "def _scoo_to_sdense(\n",
        "    Si: Array, Sj: Array, Sx: Array, ports_map: Dict[str, int]\n",
        ") -> SDense:\n",
        "    n_col = len(ports_map)\n",
        "    S = jnp.zeros((*Sx.shape[:-1], n_col, n_col), dtype=complex)\n",
        "    if JAX_AVAILABLE:\n",
        "        S = S.at[..., Si, Sj].add(Sx)\n",
        "    else:\n",
        "        S[..., Si, Sj] = Sx\n",
        "    return S, ports_map\n",
        "\n",
        "def _sdict_to_sdense(sdict: SDict) -> SDense:\n",
        "    Si, Sj, Sx, ports_map = _sdict_to_scoo(sdict)\n",
        "    return _scoo_to_sdense(Si, Sj, Sx, ports_map)"
      ]
    },
    {
      "cell_type": "code",
      "execution_count": 54,
      "id": "084b7ddb",
      "metadata": {
        "execution": {
          "iopub.execute_input": "2023-09-01T15:55:12.545651Z",
          "iopub.status.busy": "2023-09-01T15:55:12.545080Z",
          "iopub.status.idle": "2023-09-01T15:55:12.645295Z",
          "shell.execute_reply": "2023-09-01T15:55:12.644586Z"
        },
        "papermill": {
          "duration": 0.117082,
          "end_time": "2023-09-01T15:55:12.647103",
          "exception": false,
          "start_time": "2023-09-01T15:55:12.530021",
          "status": "completed"
        },
        "tags": []
      },
      "outputs": [],
      "source": [
        "assert sdense(_sdense) is _sdense\n",
        "Sd, port_map = sdense(_scoo)  # type: ignore\n",
        "Sd_ = jnp.array([[3.0 + 0.0j, 0.0 + 0.0j, 0.0 + 0.0j],\n",
        "                 [0.0 + 0.0j, 4.0 + 0.0j, 0.0 + 0.0j],\n",
        "                 [1.0 + 0.0j, 0.0 + 0.0j, 0.0 + 0.0j]])\n",
        "\n",
        "np.testing.assert_array_almost_equal(Sd, Sd_)\n",
        "assert port_map == {\"in0\": 0, \"in1\": 2, \"out0\": 1}"
      ]
    },
    {
      "cell_type": "markdown",
      "id": "dbec566536dc639e",
      "metadata": {},
      "source": [
        ":::{eval-rst}\n",
        ".. autofunction:: sax.typing_.modelfactory\n",
        ":::\n"
      ]
    },
    {
      "cell_type": "code",
      "execution_count": 55,
      "id": "f69911828d53c1f9",
      "metadata": {
        "execution": {
          "iopub.execute_input": "2023-09-01T15:55:12.677355Z",
          "iopub.status.busy": "2023-09-01T15:55:12.676478Z",
          "iopub.status.idle": "2023-09-01T15:55:12.681099Z",
          "shell.execute_reply": "2023-09-01T15:55:12.680585Z"
        },
        "papermill": {
          "duration": 0.02136,
          "end_time": "2023-09-01T15:55:12.682601",
          "exception": false,
          "start_time": "2023-09-01T15:55:12.661241",
          "status": "completed"
        },
        "tags": [
          "hide-input"
        ]
      },
      "outputs": [],
      "source": [
        "\n",
        "def modelfactory(func):\n",
        "    \"\"\"Decorator that marks a function as `ModelFactory`\"\"\"\n",
        "    sig = inspect.signature(func)\n",
        "    if _is_callable_annotation(sig.return_annotation):  # already model factory\n",
        "        return func\n",
        "    func.__signature__ = sig.replace(return_annotation=Model)\n",
        "    return func"
      ]
    }
  ],
  "metadata": {
    "kernelspec": {
      "display_name": "sax",
      "language": "python",
      "name": "sax"
    },
    "language_info": {
      "codemirror_mode": {
        "name": "ipython",
        "version": 3
      },
      "file_extension": ".py",
      "mimetype": "text/x-python",
      "name": "python",
      "nbconvert_exporter": "python",
      "pygments_lexer": "ipython3",
      "version": "3.11.5"
    },
    "papermill": {
      "default_parameters": {},
      "duration": 6.283714,
      "end_time": "2023-09-01T15:55:13.215943",
      "environment_variables": {},
      "exception": null,
      "input_path": "./nbs/00_typing.ipynb",
      "output_path": "./nbs/00_typing.ipynb",
      "parameters": {},
      "start_time": "2023-09-01T15:55:06.932229",
      "version": "2.4.0"
    }
  },
  "nbformat": 4,
  "nbformat_minor": 5
}