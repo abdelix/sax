{
  "cells": [
    {
      "cell_type": "code",
      "execution_count": 1,
      "id": "ef0109da96b97df7",
      "metadata": {
        "execution": {
          "iopub.execute_input": "2023-09-02T19:00:32.571257Z",
          "iopub.status.busy": "2023-09-02T19:00:32.570862Z",
          "iopub.status.idle": "2023-09-02T19:00:32.574404Z",
          "shell.execute_reply": "2023-09-02T19:00:32.573811Z"
        },
        "papermill": {
          "duration": 0.040006,
          "end_time": "2023-09-02T19:00:32.575696",
          "exception": false,
          "start_time": "2023-09-02T19:00:32.535690",
          "status": "completed"
        },
        "tags": [
          "remove-cell"
        ]
      },
      "outputs": [],
      "source": []
    },
    {
      "cell_type": "markdown",
      "id": "13a3464b",
      "metadata": {
        "papermill": {
          "duration": 0.009699,
          "end_time": "2023-09-02T19:00:32.595157",
          "exception": false,
          "start_time": "2023-09-02T19:00:32.585458",
          "status": "completed"
        },
        "tags": []
      },
      "source": [
        "# Typing\n",
        "\n",
        "> SAX types"
      ]
    },
    {
      "cell_type": "code",
      "execution_count": 2,
      "id": "1702d2608519251c",
      "metadata": {
        "execution": {
          "iopub.execute_input": "2023-09-02T19:00:32.615280Z",
          "iopub.status.busy": "2023-09-02T19:00:32.614873Z",
          "iopub.status.idle": "2023-09-02T19:00:33.034480Z",
          "shell.execute_reply": "2023-09-02T19:00:33.034021Z"
        },
        "papermill": {
          "duration": 0.431485,
          "end_time": "2023-09-02T19:00:33.036103",
          "exception": false,
          "start_time": "2023-09-02T19:00:32.604618",
          "status": "completed"
        },
        "tags": [
          "remove-cell"
        ]
      },
      "outputs": [],
      "source": [
        "import matplotlib.pyplot as plt\n",
        "from fastcore.test import test_eq\n",
        "from pytest import approx, raises\n",
        "\n",
        "import os, sys; sys.stderr = open(os.devnull, \"w\")"
      ]
    },
    {
      "cell_type": "code",
      "execution_count": 3,
      "id": "598525701873835c",
      "metadata": {
        "execution": {
          "iopub.execute_input": "2023-09-02T19:00:33.057697Z",
          "iopub.status.busy": "2023-09-02T19:00:33.057027Z",
          "iopub.status.idle": "2023-09-02T19:00:33.426668Z",
          "shell.execute_reply": "2023-09-02T19:00:33.426230Z"
        },
        "papermill": {
          "duration": 0.382158,
          "end_time": "2023-09-02T19:00:33.428279",
          "exception": false,
          "start_time": "2023-09-02T19:00:33.046121",
          "status": "completed"
        },
        "tags": [
          "hide-input"
        ]
      },
      "outputs": [],
      "source": [
        "from __future__ import annotations\n",
        "import functools\n",
        "import inspect\n",
        "from collections.abc import Callable as CallableABC\n",
        "from typing import Any, Callable, Dict, Tuple, Union, cast, overload\n",
        "try:\n",
        "    from typing import TypedDict\n",
        "except ImportError: # python<3.8\n",
        "    from typing_extensions import TypedDict\n",
        "\n",
        "import numpy as np\n",
        "from natsort import natsorted\n",
        "\n",
        "try:\n",
        "    import jax.numpy as jnp\n",
        "    JAX_AVAILABLE = True\n",
        "except ImportError:\n",
        "    import numpy as jnp\n",
        "    JAX_AVAILABLE = False"
      ]
    },
    {
      "cell_type": "markdown",
      "id": "41e26ab2",
      "metadata": {
        "papermill": {
          "duration": 0.009945,
          "end_time": "2023-09-02T19:00:33.448095",
          "exception": false,
          "start_time": "2023-09-02T19:00:33.438150",
          "status": "completed"
        },
        "tags": []
      },
      "source": [
        "## Core Types"
      ]
    },
    {
      "cell_type": "markdown",
      "id": "ca29df5c",
      "metadata": {
        "papermill": {
          "duration": 0.009471,
          "end_time": "2023-09-02T19:00:33.467079",
          "exception": false,
          "start_time": "2023-09-02T19:00:33.457608",
          "status": "completed"
        },
        "tags": []
      },
      "source": [
        "### Array"
      ]
    },
    {
      "cell_type": "markdown",
      "id": "82c3c344",
      "metadata": {
        "papermill": {
          "duration": 0.009477,
          "end_time": "2023-09-02T19:00:33.486073",
          "exception": false,
          "start_time": "2023-09-02T19:00:33.476596",
          "status": "completed"
        },
        "tags": []
      },
      "source": [
        "an `Array` is either a jax array or a numpy array:"
      ]
    },
    {
      "cell_type": "code",
      "execution_count": 4,
      "id": "f4dc0de0fd172812",
      "metadata": {
        "execution": {
          "iopub.execute_input": "2023-09-02T19:00:33.506630Z",
          "iopub.status.busy": "2023-09-02T19:00:33.505926Z",
          "iopub.status.idle": "2023-09-02T19:00:33.508782Z",
          "shell.execute_reply": "2023-09-02T19:00:33.508460Z"
        },
        "papermill": {
          "duration": 0.014391,
          "end_time": "2023-09-02T19:00:33.509913",
          "exception": false,
          "start_time": "2023-09-02T19:00:33.495522",
          "status": "completed"
        },
        "tags": []
      },
      "outputs": [],
      "source": [
        "Array = Union[jnp.ndarray, np.ndarray]"
      ]
    },
    {
      "cell_type": "markdown",
      "id": "6b86fa37",
      "metadata": {
        "papermill": {
          "duration": 0.009472,
          "end_time": "2023-09-02T19:00:33.528881",
          "exception": false,
          "start_time": "2023-09-02T19:00:33.519409",
          "status": "completed"
        },
        "tags": []
      },
      "source": [
        "### Int"
      ]
    },
    {
      "cell_type": "markdown",
      "id": "9fa467c9",
      "metadata": {
        "papermill": {
          "duration": 0.009831,
          "end_time": "2023-09-02T19:00:33.548341",
          "exception": false,
          "start_time": "2023-09-02T19:00:33.538510",
          "status": "completed"
        },
        "tags": []
      },
      "source": [
        "An `Int` is either a built-in `int` or an `Array` [of dtype `int`]"
      ]
    },
    {
      "cell_type": "code",
      "execution_count": 5,
      "id": "505ea8f861852cb5",
      "metadata": {
        "execution": {
          "iopub.execute_input": "2023-09-02T19:00:33.568544Z",
          "iopub.status.busy": "2023-09-02T19:00:33.568131Z",
          "iopub.status.idle": "2023-09-02T19:00:33.570732Z",
          "shell.execute_reply": "2023-09-02T19:00:33.570301Z"
        },
        "papermill": {
          "duration": 0.0141,
          "end_time": "2023-09-02T19:00:33.571934",
          "exception": false,
          "start_time": "2023-09-02T19:00:33.557834",
          "status": "completed"
        },
        "tags": []
      },
      "outputs": [],
      "source": [
        "Int = Union[int, Array]"
      ]
    },
    {
      "cell_type": "markdown",
      "id": "c486cd2c",
      "metadata": {
        "papermill": {
          "duration": 0.009491,
          "end_time": "2023-09-02T19:00:33.591623",
          "exception": false,
          "start_time": "2023-09-02T19:00:33.582132",
          "status": "completed"
        },
        "tags": []
      },
      "source": [
        "### Float"
      ]
    },
    {
      "cell_type": "markdown",
      "id": "3b59bba6",
      "metadata": {
        "papermill": {
          "duration": 0.009475,
          "end_time": "2023-09-02T19:00:33.610617",
          "exception": false,
          "start_time": "2023-09-02T19:00:33.601142",
          "status": "completed"
        },
        "tags": []
      },
      "source": [
        "A `Float` is eiter a built-in `float` or an `Array` [of dtype `float`]"
      ]
    },
    {
      "cell_type": "code",
      "execution_count": 6,
      "id": "99d8ee7cd4697cfa",
      "metadata": {
        "execution": {
          "iopub.execute_input": "2023-09-02T19:00:33.630994Z",
          "iopub.status.busy": "2023-09-02T19:00:33.630485Z",
          "iopub.status.idle": "2023-09-02T19:00:33.633061Z",
          "shell.execute_reply": "2023-09-02T19:00:33.632734Z"
        },
        "papermill": {
          "duration": 0.014039,
          "end_time": "2023-09-02T19:00:33.634179",
          "exception": false,
          "start_time": "2023-09-02T19:00:33.620140",
          "status": "completed"
        },
        "tags": []
      },
      "outputs": [],
      "source": [
        "Float = Union[float, Array]"
      ]
    },
    {
      "cell_type": "markdown",
      "id": "bdfd6200",
      "metadata": {
        "papermill": {
          "duration": 0.009495,
          "end_time": "2023-09-02T19:00:33.653354",
          "exception": false,
          "start_time": "2023-09-02T19:00:33.643859",
          "status": "completed"
        },
        "tags": []
      },
      "source": [
        "### ComplexFloat"
      ]
    },
    {
      "cell_type": "markdown",
      "id": "b1a7d255",
      "metadata": {
        "papermill": {
          "duration": 0.009525,
          "end_time": "2023-09-02T19:00:33.672472",
          "exception": false,
          "start_time": "2023-09-02T19:00:33.662947",
          "status": "completed"
        },
        "tags": []
      },
      "source": [
        "A `ComplexFloat` is either a build-in `complex` or an Array [of dtype `complex`]:"
      ]
    },
    {
      "cell_type": "code",
      "execution_count": 7,
      "id": "5cfd8bdb7c1117df",
      "metadata": {
        "execution": {
          "iopub.execute_input": "2023-09-02T19:00:33.692804Z",
          "iopub.status.busy": "2023-09-02T19:00:33.692392Z",
          "iopub.status.idle": "2023-09-02T19:00:33.694977Z",
          "shell.execute_reply": "2023-09-02T19:00:33.694612Z"
        },
        "papermill": {
          "duration": 0.014101,
          "end_time": "2023-09-02T19:00:33.696119",
          "exception": false,
          "start_time": "2023-09-02T19:00:33.682018",
          "status": "completed"
        },
        "tags": []
      },
      "outputs": [],
      "source": [
        "ComplexFloat = Union[complex, Float]"
      ]
    },
    {
      "cell_type": "markdown",
      "id": "1f1aa099",
      "metadata": {
        "papermill": {
          "duration": 0.00959,
          "end_time": "2023-09-02T19:00:33.715335",
          "exception": false,
          "start_time": "2023-09-02T19:00:33.705745",
          "status": "completed"
        },
        "tags": []
      },
      "source": [
        "### Settings"
      ]
    },
    {
      "cell_type": "markdown",
      "id": "69839acd",
      "metadata": {
        "papermill": {
          "duration": 0.009593,
          "end_time": "2023-09-02T19:00:33.734504",
          "exception": false,
          "start_time": "2023-09-02T19:00:33.724911",
          "status": "completed"
        },
        "tags": []
      },
      "source": [
        "A `Settings` dictionary is a nested mapping between setting names [`str`] to either `ComplexFloat` values OR to another lower level `Settings` dictionary."
      ]
    },
    {
      "cell_type": "code",
      "execution_count": 8,
      "id": "dec66dd3a46fc851",
      "metadata": {
        "execution": {
          "iopub.execute_input": "2023-09-02T19:00:33.755327Z",
          "iopub.status.busy": "2023-09-02T19:00:33.754757Z",
          "iopub.status.idle": "2023-09-02T19:00:33.757740Z",
          "shell.execute_reply": "2023-09-02T19:00:33.757332Z"
        },
        "papermill": {
          "duration": 0.014654,
          "end_time": "2023-09-02T19:00:33.758900",
          "exception": false,
          "start_time": "2023-09-02T19:00:33.744246",
          "status": "completed"
        },
        "tags": []
      },
      "outputs": [],
      "source": [
        "Settings = Union[Dict[str, ComplexFloat], Dict[str, \"Settings\"]]"
      ]
    },
    {
      "cell_type": "markdown",
      "id": "cf202d06",
      "metadata": {
        "papermill": {
          "duration": 0.009605,
          "end_time": "2023-09-02T19:00:33.778130",
          "exception": false,
          "start_time": "2023-09-02T19:00:33.768525",
          "status": "completed"
        },
        "tags": []
      },
      "source": [
        "Settings dictionaries are used to parametrize a SAX `Model` or a `circuit`. The settings dictionary should have the same hierarchy levels as the circuit:\n",
        " \n",
        " > Example:"
      ]
    },
    {
      "cell_type": "code",
      "execution_count": 9,
      "id": "2b26c4ab",
      "metadata": {
        "execution": {
          "iopub.execute_input": "2023-09-02T19:00:33.798593Z",
          "iopub.status.busy": "2023-09-02T19:00:33.798117Z",
          "iopub.status.idle": "2023-09-02T19:00:33.800866Z",
          "shell.execute_reply": "2023-09-02T19:00:33.800558Z"
        },
        "papermill": {
          "duration": 0.014202,
          "end_time": "2023-09-02T19:00:33.801952",
          "exception": false,
          "start_time": "2023-09-02T19:00:33.787750",
          "status": "completed"
        },
        "tags": []
      },
      "outputs": [],
      "source": [
        "mzi_settings = {\n",
        "    \"wl\": 1.5,  # global settings\n",
        "    \"lft\": {\"coupling\": 0.5},  # settings for the left coupler\n",
        "    \"top\": {\"neff\": 3.4},  # settings for the top waveguide\n",
        "    \"rgt\": {\"coupling\": 0.3},  # settings for the right coupler\n",
        "}"
      ]
    },
    {
      "cell_type": "markdown",
      "id": "45043912",
      "metadata": {
        "papermill": {
          "duration": 0.009618,
          "end_time": "2023-09-02T19:00:33.821210",
          "exception": false,
          "start_time": "2023-09-02T19:00:33.811592",
          "status": "completed"
        },
        "tags": []
      },
      "source": [
        "### SDict"
      ]
    },
    {
      "cell_type": "markdown",
      "id": "c5a7facf",
      "metadata": {
        "papermill": {
          "duration": 0.009617,
          "end_time": "2023-09-02T19:00:33.840479",
          "exception": false,
          "start_time": "2023-09-02T19:00:33.830862",
          "status": "completed"
        },
        "tags": []
      },
      "source": [
        "An `SDict` is a sparse dictionary based representation of an S-matrix, mapping port name tuples such as `('in0', 'out0')` to `ComplexFloat`."
      ]
    },
    {
      "cell_type": "code",
      "execution_count": 10,
      "id": "2a2b43963a063108",
      "metadata": {
        "execution": {
          "iopub.execute_input": "2023-09-02T19:00:33.861278Z",
          "iopub.status.busy": "2023-09-02T19:00:33.860848Z",
          "iopub.status.idle": "2023-09-02T19:00:33.863342Z",
          "shell.execute_reply": "2023-09-02T19:00:33.863003Z"
        },
        "papermill": {
          "duration": 0.014194,
          "end_time": "2023-09-02T19:00:33.864475",
          "exception": false,
          "start_time": "2023-09-02T19:00:33.850281",
          "status": "completed"
        },
        "tags": []
      },
      "outputs": [],
      "source": [
        "SDict = Dict[Tuple[str, str], ComplexFloat]"
      ]
    },
    {
      "cell_type": "markdown",
      "id": "07dc470a",
      "metadata": {
        "papermill": {
          "duration": 0.00968,
          "end_time": "2023-09-02T19:00:33.883913",
          "exception": false,
          "start_time": "2023-09-02T19:00:33.874233",
          "status": "completed"
        },
        "tags": []
      },
      "source": [
        "> Example:"
      ]
    },
    {
      "cell_type": "code",
      "execution_count": 11,
      "id": "ad65a70c",
      "metadata": {
        "execution": {
          "iopub.execute_input": "2023-09-02T19:00:33.904486Z",
          "iopub.status.busy": "2023-09-02T19:00:33.904081Z",
          "iopub.status.idle": "2023-09-02T19:00:33.907012Z",
          "shell.execute_reply": "2023-09-02T19:00:33.906679Z"
        },
        "papermill": {
          "duration": 0.01503,
          "end_time": "2023-09-02T19:00:33.908622",
          "exception": false,
          "start_time": "2023-09-02T19:00:33.893592",
          "status": "completed"
        },
        "tags": []
      },
      "outputs": [
        {
          "name": "stdout",
          "output_type": "stream",
          "text": [
            "{('in0', 'out0'): 3.0}\n"
          ]
        }
      ],
      "source": [
        "_sdict: SDict = {\n",
        "    (\"in0\", \"out0\"): 3.0,\n",
        "}\n",
        "print(_sdict)"
      ]
    },
    {
      "cell_type": "markdown",
      "id": "0e2c7430",
      "metadata": {
        "papermill": {
          "duration": 0.009834,
          "end_time": "2023-09-02T19:00:33.928312",
          "exception": false,
          "start_time": "2023-09-02T19:00:33.918478",
          "status": "completed"
        },
        "tags": []
      },
      "source": [
        "### SCoo"
      ]
    },
    {
      "cell_type": "markdown",
      "id": "ef614e1d",
      "metadata": {
        "papermill": {
          "duration": 0.009794,
          "end_time": "2023-09-02T19:00:33.947965",
          "exception": false,
          "start_time": "2023-09-02T19:00:33.938171",
          "status": "completed"
        },
        "tags": []
      },
      "source": [
        "An `SCoo` is a sparse matrix based representation of an S-matrix consisting of three arrays and a port map. The three arrays represent the input port indices [`int`], output port indices [`int`] and the S-matrix values [`ComplexFloat`] of the sparse matrix. The port map maps a port name [`str`] to a port index [`int`]. Only these four arrays **together** and in this specific **order** are considered a valid `SCoo` representation!"
      ]
    },
    {
      "cell_type": "code",
      "execution_count": 12,
      "id": "4c23c0de4cbec8ec",
      "metadata": {
        "execution": {
          "iopub.execute_input": "2023-09-02T19:00:33.969259Z",
          "iopub.status.busy": "2023-09-02T19:00:33.968711Z",
          "iopub.status.idle": "2023-09-02T19:00:33.971497Z",
          "shell.execute_reply": "2023-09-02T19:00:33.971164Z"
        },
        "papermill": {
          "duration": 0.014691,
          "end_time": "2023-09-02T19:00:33.972673",
          "exception": false,
          "start_time": "2023-09-02T19:00:33.957982",
          "status": "completed"
        },
        "tags": []
      },
      "outputs": [],
      "source": [
        "SCoo = Tuple[Array, Array, ComplexFloat, Dict[str, int]]"
      ]
    },
    {
      "cell_type": "markdown",
      "id": "ff9719c8",
      "metadata": {
        "papermill": {
          "duration": 0.009833,
          "end_time": "2023-09-02T19:00:33.992377",
          "exception": false,
          "start_time": "2023-09-02T19:00:33.982544",
          "status": "completed"
        },
        "tags": []
      },
      "source": [
        "> Example:"
      ]
    },
    {
      "cell_type": "code",
      "execution_count": 13,
      "id": "972f8060",
      "metadata": {
        "execution": {
          "iopub.execute_input": "2023-09-02T19:00:34.013522Z",
          "iopub.status.busy": "2023-09-02T19:00:34.013129Z",
          "iopub.status.idle": "2023-09-02T19:00:34.041223Z",
          "shell.execute_reply": "2023-09-02T19:00:34.040881Z"
        },
        "papermill": {
          "duration": 0.040197,
          "end_time": "2023-09-02T19:00:34.042425",
          "exception": false,
          "start_time": "2023-09-02T19:00:34.002228",
          "status": "completed"
        },
        "tags": []
      },
      "outputs": [
        {
          "name": "stdout",
          "output_type": "stream",
          "text": [
            "[0 1 2]\n",
            "[0 1 0]\n",
            "[3. 4. 1.]\n",
            "{'in0': 0, 'in1': 2, 'out0': 1}\n"
          ]
        }
      ],
      "source": [
        "Si = jnp.arange(3, dtype=int)\n",
        "Sj = jnp.array([0, 1, 0], dtype=int)\n",
        "Sx = jnp.array([3.0, 4.0, 1.0])\n",
        "port_map = {\"in0\": 0, \"in1\": 2, \"out0\": 1}\n",
        "_scoo: SCoo = (Si, Sj, Sx, port_map)\n",
        "print(Si)\n",
        "print(Sj)\n",
        "print(Sx)\n",
        "print(port_map)"
      ]
    },
    {
      "cell_type": "markdown",
      "id": "2cba9246",
      "metadata": {
        "papermill": {
          "duration": 0.010034,
          "end_time": "2023-09-02T19:00:34.062599",
          "exception": false,
          "start_time": "2023-09-02T19:00:34.052565",
          "status": "completed"
        },
        "tags": []
      },
      "source": [
        "### SDense"
      ]
    },
    {
      "cell_type": "markdown",
      "id": "fd28795b",
      "metadata": {
        "papermill": {
          "duration": 0.010459,
          "end_time": "2023-09-02T19:00:34.083110",
          "exception": false,
          "start_time": "2023-09-02T19:00:34.072651",
          "status": "completed"
        },
        "tags": []
      },
      "source": [
        "an `SDense` is a dense matrix representation of an S-matrix. It's represented by an NxN `ComplexFloat` array and a port map (mapping port names onto port indices)."
      ]
    },
    {
      "cell_type": "code",
      "execution_count": 14,
      "id": "a68d302b175bf21b",
      "metadata": {
        "execution": {
          "iopub.execute_input": "2023-09-02T19:00:34.104876Z",
          "iopub.status.busy": "2023-09-02T19:00:34.104352Z",
          "iopub.status.idle": "2023-09-02T19:00:34.107083Z",
          "shell.execute_reply": "2023-09-02T19:00:34.106756Z"
        },
        "papermill": {
          "duration": 0.014888,
          "end_time": "2023-09-02T19:00:34.108176",
          "exception": false,
          "start_time": "2023-09-02T19:00:34.093288",
          "status": "completed"
        },
        "tags": []
      },
      "outputs": [],
      "source": [
        "SDense = Tuple[Array, Dict[str, int]]"
      ]
    },
    {
      "cell_type": "markdown",
      "id": "2c4789f7",
      "metadata": {
        "papermill": {
          "duration": 0.009929,
          "end_time": "2023-09-02T19:00:34.128073",
          "exception": false,
          "start_time": "2023-09-02T19:00:34.118144",
          "status": "completed"
        },
        "tags": []
      },
      "source": [
        "> Example:"
      ]
    },
    {
      "cell_type": "code",
      "execution_count": 15,
      "id": "02def7ed",
      "metadata": {
        "execution": {
          "iopub.execute_input": "2023-09-02T19:00:34.149114Z",
          "iopub.status.busy": "2023-09-02T19:00:34.148728Z",
          "iopub.status.idle": "2023-09-02T19:00:34.177544Z",
          "shell.execute_reply": "2023-09-02T19:00:34.177090Z"
        },
        "papermill": {
          "duration": 0.040654,
          "end_time": "2023-09-02T19:00:34.178754",
          "exception": false,
          "start_time": "2023-09-02T19:00:34.138100",
          "status": "completed"
        },
        "tags": []
      },
      "outputs": [
        {
          "name": "stdout",
          "output_type": "stream",
          "text": [
            "[[0. 1. 2.]\n",
            " [3. 4. 5.]\n",
            " [6. 7. 8.]]\n",
            "{'in0': 0, 'in1': 2, 'out0': 1}\n"
          ]
        }
      ],
      "source": [
        "Sd = jnp.arange(9, dtype=float).reshape(3, 3)\n",
        "port_map = {\"in0\": 0, \"in1\": 2, \"out0\": 1}\n",
        "_sdense = Sd, port_map\n",
        "print(Sd)\n",
        "print(port_map)"
      ]
    },
    {
      "cell_type": "markdown",
      "id": "b0d2e36f",
      "metadata": {
        "papermill": {
          "duration": 0.010172,
          "end_time": "2023-09-02T19:00:34.199123",
          "exception": false,
          "start_time": "2023-09-02T19:00:34.188951",
          "status": "completed"
        },
        "tags": []
      },
      "source": [
        "### SType"
      ]
    },
    {
      "cell_type": "markdown",
      "id": "b441f21d",
      "metadata": {
        "papermill": {
          "duration": 0.010033,
          "end_time": "2023-09-02T19:00:34.219276",
          "exception": false,
          "start_time": "2023-09-02T19:00:34.209243",
          "status": "completed"
        },
        "tags": []
      },
      "source": [
        "an `SType` is either an `SDict` **OR** an `SCoo` **OR** an `SDense`:"
      ]
    },
    {
      "cell_type": "code",
      "execution_count": 16,
      "id": "3f9dff6e8ae55c2e",
      "metadata": {
        "execution": {
          "iopub.execute_input": "2023-09-02T19:00:34.241296Z",
          "iopub.status.busy": "2023-09-02T19:00:34.240733Z",
          "iopub.status.idle": "2023-09-02T19:00:34.243518Z",
          "shell.execute_reply": "2023-09-02T19:00:34.243172Z"
        },
        "papermill": {
          "duration": 0.015182,
          "end_time": "2023-09-02T19:00:34.244616",
          "exception": false,
          "start_time": "2023-09-02T19:00:34.229434",
          "status": "completed"
        },
        "tags": []
      },
      "outputs": [],
      "source": [
        "SType = Union[SDict, SCoo, SDense]"
      ]
    },
    {
      "cell_type": "markdown",
      "id": "e0561b07",
      "metadata": {
        "papermill": {
          "duration": 0.010145,
          "end_time": "2023-09-02T19:00:34.264906",
          "exception": false,
          "start_time": "2023-09-02T19:00:34.254761",
          "status": "completed"
        },
        "tags": []
      },
      "source": [
        "> Example:"
      ]
    },
    {
      "cell_type": "code",
      "execution_count": 17,
      "id": "5b52a5f2",
      "metadata": {
        "execution": {
          "iopub.execute_input": "2023-09-02T19:00:34.286530Z",
          "iopub.status.busy": "2023-09-02T19:00:34.286099Z",
          "iopub.status.idle": "2023-09-02T19:00:34.288702Z",
          "shell.execute_reply": "2023-09-02T19:00:34.288387Z"
        },
        "papermill": {
          "duration": 0.014723,
          "end_time": "2023-09-02T19:00:34.289793",
          "exception": false,
          "start_time": "2023-09-02T19:00:34.275070",
          "status": "completed"
        },
        "tags": []
      },
      "outputs": [],
      "source": [
        "obj: SType = _sdict\n",
        "obj: SType = _scoo\n",
        "obj: SType = _sdense"
      ]
    },
    {
      "cell_type": "markdown",
      "id": "afabe91b",
      "metadata": {
        "papermill": {
          "duration": 0.010147,
          "end_time": "2023-09-02T19:00:34.310042",
          "exception": false,
          "start_time": "2023-09-02T19:00:34.299895",
          "status": "completed"
        },
        "tags": []
      },
      "source": [
        "### Model"
      ]
    },
    {
      "cell_type": "markdown",
      "id": "13808fb1",
      "metadata": {
        "papermill": {
          "duration": 0.010106,
          "end_time": "2023-09-02T19:00:34.330263",
          "exception": false,
          "start_time": "2023-09-02T19:00:34.320157",
          "status": "completed"
        },
        "tags": []
      },
      "source": [
        "A `Model` is any keyword-only function that returns an `SType`:"
      ]
    },
    {
      "cell_type": "code",
      "execution_count": 18,
      "id": "76f049f1ca0e9ed2",
      "metadata": {
        "execution": {
          "iopub.execute_input": "2023-09-02T19:00:34.352392Z",
          "iopub.status.busy": "2023-09-02T19:00:34.351842Z",
          "iopub.status.idle": "2023-09-02T19:00:34.354522Z",
          "shell.execute_reply": "2023-09-02T19:00:34.354178Z"
        },
        "papermill": {
          "duration": 0.015059,
          "end_time": "2023-09-02T19:00:34.355571",
          "exception": false,
          "start_time": "2023-09-02T19:00:34.340512",
          "status": "completed"
        },
        "tags": []
      },
      "outputs": [],
      "source": [
        "Model = Callable[..., SType]"
      ]
    },
    {
      "cell_type": "markdown",
      "id": "fad534fb",
      "metadata": {
        "papermill": {
          "duration": 0.010278,
          "end_time": "2023-09-02T19:00:34.376159",
          "exception": false,
          "start_time": "2023-09-02T19:00:34.365881",
          "status": "completed"
        },
        "tags": []
      },
      "source": [
        "### ModelFactory"
      ]
    },
    {
      "cell_type": "markdown",
      "id": "85781647",
      "metadata": {
        "papermill": {
          "duration": 0.010205,
          "end_time": "2023-09-02T19:00:34.396641",
          "exception": false,
          "start_time": "2023-09-02T19:00:34.386436",
          "status": "completed"
        },
        "tags": []
      },
      "source": [
        "A `ModelFactory` is any keyword-only function that returns a `Model`:"
      ]
    },
    {
      "cell_type": "code",
      "execution_count": 19,
      "id": "9d3f4d46bbb48f11",
      "metadata": {
        "execution": {
          "iopub.execute_input": "2023-09-02T19:00:34.418477Z",
          "iopub.status.busy": "2023-09-02T19:00:34.417923Z",
          "iopub.status.idle": "2023-09-02T19:00:34.420582Z",
          "shell.execute_reply": "2023-09-02T19:00:34.420252Z"
        },
        "papermill": {
          "duration": 0.014877,
          "end_time": "2023-09-02T19:00:34.421774",
          "exception": false,
          "start_time": "2023-09-02T19:00:34.406897",
          "status": "completed"
        },
        "tags": []
      },
      "outputs": [],
      "source": [
        "ModelFactory = Callable[..., Model]"
      ]
    },
    {
      "cell_type": "markdown",
      "id": "353d8506",
      "metadata": {
        "papermill": {
          "duration": 0.010154,
          "end_time": "2023-09-02T19:00:34.442094",
          "exception": false,
          "start_time": "2023-09-02T19:00:34.431940",
          "status": "completed"
        },
        "tags": []
      },
      "source": [
        "> Note: SAX sometimes needs to figure out the difference between a `ModelFactory` and a normal `Model` *before* running the function. To do this, SAX will check the return annotation of the function. Any function with a `-> Model` or `-> Callable` annotation will be considered a `ModelFactory`. Any function without this annotation will be considered a normal Model: **don't forget the return annotation of your Model Factory!** To ensure a correct annotation and to ensure forward compatibility, it's recommended to decorate your `ModelFactory` with the `modelfactory` decorator."
      ]
    },
    {
      "cell_type": "markdown",
      "id": "b32b5a31",
      "metadata": {
        "papermill": {
          "duration": 0.01045,
          "end_time": "2023-09-02T19:00:34.462793",
          "exception": false,
          "start_time": "2023-09-02T19:00:34.452343",
          "status": "completed"
        },
        "tags": []
      },
      "source": [
        "### Models"
      ]
    },
    {
      "cell_type": "markdown",
      "id": "a796dcb2",
      "metadata": {
        "papermill": {
          "duration": 0.010192,
          "end_time": "2023-09-02T19:00:34.483206",
          "exception": false,
          "start_time": "2023-09-02T19:00:34.473014",
          "status": "completed"
        },
        "tags": []
      },
      "source": [
        "`Models` is a mapping between model names [`str`] and a `Model`:"
      ]
    },
    {
      "cell_type": "code",
      "execution_count": 20,
      "id": "94f6569c19fedcc6",
      "metadata": {
        "execution": {
          "iopub.execute_input": "2023-09-02T19:00:34.504958Z",
          "iopub.status.busy": "2023-09-02T19:00:34.504525Z",
          "iopub.status.idle": "2023-09-02T19:00:34.507147Z",
          "shell.execute_reply": "2023-09-02T19:00:34.506771Z"
        },
        "papermill": {
          "duration": 0.014959,
          "end_time": "2023-09-02T19:00:34.508373",
          "exception": false,
          "start_time": "2023-09-02T19:00:34.493414",
          "status": "completed"
        },
        "tags": []
      },
      "outputs": [],
      "source": [
        "Models = Dict[str, Model]"
      ]
    },
    {
      "cell_type": "markdown",
      "id": "ed1af61c",
      "metadata": {
        "papermill": {
          "duration": 0.010217,
          "end_time": "2023-09-02T19:00:34.528845",
          "exception": false,
          "start_time": "2023-09-02T19:00:34.518628",
          "status": "completed"
        },
        "tags": []
      },
      "source": [
        "> Note: sometimes 'component' is used to refer to a a `Model` or `GeneralModel`. This is because other tools (such as for example GDSFactory) prefer that terminology."
      ]
    },
    {
      "cell_type": "markdown",
      "id": "5d276f63",
      "metadata": {
        "papermill": {
          "duration": 0.010232,
          "end_time": "2023-09-02T19:00:34.549343",
          "exception": false,
          "start_time": "2023-09-02T19:00:34.539111",
          "status": "completed"
        },
        "tags": []
      },
      "source": [
        "## Netlist Types\n",
        "\n",
        "Netlist types are moved [here](06_netlist.ipynb)."
      ]
    },
    {
      "cell_type": "markdown",
      "id": "dbcb4447",
      "metadata": {
        "papermill": {
          "duration": 0.010227,
          "end_time": "2023-09-02T19:00:34.569914",
          "exception": false,
          "start_time": "2023-09-02T19:00:34.559687",
          "status": "completed"
        },
        "tags": []
      },
      "source": [
        "## Validation and runtime type-checking:\n",
        "> Note: the type-checking functions below are **NOT** very tight and hence should be used within the right context!"
      ]
    },
    {
      "cell_type": "markdown",
      "id": "1ed9ba49d277f251",
      "metadata": {},
      "source": [
        ":::{eval-rst}\n",
        ".. autofunction:: sax.typing_.is_float\n",
        ":::\n"
      ]
    },
    {
      "cell_type": "code",
      "execution_count": 21,
      "id": "c70fd67aa187b20c",
      "metadata": {
        "execution": {
          "iopub.execute_input": "2023-09-02T19:00:34.592131Z",
          "iopub.status.busy": "2023-09-02T19:00:34.591692Z",
          "iopub.status.idle": "2023-09-02T19:00:34.595521Z",
          "shell.execute_reply": "2023-09-02T19:00:34.595159Z"
        },
        "papermill": {
          "duration": 0.016492,
          "end_time": "2023-09-02T19:00:34.596693",
          "exception": false,
          "start_time": "2023-09-02T19:00:34.580201",
          "status": "completed"
        },
        "tags": [
          "hide-input"
        ]
      },
      "outputs": [],
      "source": [
        "def is_float(x: Any) -> bool:\n",
        "    \"\"\"Check if an object is a `Float`\"\"\"\n",
        "    if isinstance(x, float):\n",
        "        return True\n",
        "    if isinstance(x, np.ndarray):\n",
        "        return x.dtype in (np.float16, np.float32, np.float64, np.float128)\n",
        "    if isinstance(x, jnp.ndarray):\n",
        "        return x.dtype in (jnp.float16, jnp.float32, jnp.float64)\n",
        "    return False"
      ]
    },
    {
      "cell_type": "code",
      "execution_count": 22,
      "id": "28374448",
      "metadata": {
        "execution": {
          "iopub.execute_input": "2023-09-02T19:00:34.618775Z",
          "iopub.status.busy": "2023-09-02T19:00:34.618352Z",
          "iopub.status.idle": "2023-09-02T19:00:34.623407Z",
          "shell.execute_reply": "2023-09-02T19:00:34.622973Z"
        },
        "papermill": {
          "duration": 0.017532,
          "end_time": "2023-09-02T19:00:34.624543",
          "exception": false,
          "start_time": "2023-09-02T19:00:34.607011",
          "status": "completed"
        },
        "tags": []
      },
      "outputs": [],
      "source": [
        "assert is_float(3.0)\n",
        "assert not is_float(3)\n",
        "assert not is_float(3.0 + 2j)\n",
        "assert not is_float(jnp.array(3.0, dtype=complex))\n",
        "assert not is_float(jnp.array(3, dtype=int))"
      ]
    },
    {
      "cell_type": "markdown",
      "id": "b89b3c040fa667d8",
      "metadata": {},
      "source": [
        ":::{eval-rst}\n",
        ".. autofunction:: sax.typing_.is_complex\n",
        ":::\n"
      ]
    },
    {
      "cell_type": "code",
      "execution_count": 23,
      "id": "1a702328e7a7c8de",
      "metadata": {
        "execution": {
          "iopub.execute_input": "2023-09-02T19:00:34.646794Z",
          "iopub.status.busy": "2023-09-02T19:00:34.646284Z",
          "iopub.status.idle": "2023-09-02T19:00:34.649640Z",
          "shell.execute_reply": "2023-09-02T19:00:34.649324Z"
        },
        "papermill": {
          "duration": 0.015769,
          "end_time": "2023-09-02T19:00:34.650744",
          "exception": false,
          "start_time": "2023-09-02T19:00:34.634975",
          "status": "completed"
        },
        "tags": [
          "hide-input"
        ]
      },
      "outputs": [],
      "source": [
        "def is_complex(x: Any) -> bool:\n",
        "    \"\"\"check if an object is a `ComplexFloat`\"\"\"\n",
        "    if isinstance(x, complex):\n",
        "        return True\n",
        "    if isinstance(x, np.ndarray):\n",
        "        return x.dtype in (np.complex64, np.complex128)\n",
        "    if isinstance(x, jnp.ndarray):\n",
        "        return x.dtype in (jnp.complex64, jnp.complex128)\n",
        "    return False"
      ]
    },
    {
      "cell_type": "code",
      "execution_count": 24,
      "id": "d81a703d",
      "metadata": {
        "execution": {
          "iopub.execute_input": "2023-09-02T19:00:34.672635Z",
          "iopub.status.busy": "2023-09-02T19:00:34.672301Z",
          "iopub.status.idle": "2023-09-02T19:00:34.675974Z",
          "shell.execute_reply": "2023-09-02T19:00:34.675570Z"
        },
        "papermill": {
          "duration": 0.015868,
          "end_time": "2023-09-02T19:00:34.677086",
          "exception": false,
          "start_time": "2023-09-02T19:00:34.661218",
          "status": "completed"
        },
        "tags": []
      },
      "outputs": [],
      "source": [
        "assert not is_complex(3.0)\n",
        "assert not is_complex(3)\n",
        "assert is_complex(3.0 + 2j)\n",
        "assert is_complex(jnp.array(3.0, dtype=complex))\n",
        "assert not is_complex(jnp.array(3, dtype=int))"
      ]
    },
    {
      "cell_type": "markdown",
      "id": "7c03450874f63ba4",
      "metadata": {},
      "source": [
        ":::{eval-rst}\n",
        ".. autofunction:: sax.typing_.is_complex_float\n",
        ":::\n"
      ]
    },
    {
      "cell_type": "code",
      "execution_count": 25,
      "id": "53130eebc2ea68f6",
      "metadata": {
        "execution": {
          "iopub.execute_input": "2023-09-02T19:00:34.699065Z",
          "iopub.status.busy": "2023-09-02T19:00:34.698619Z",
          "iopub.status.idle": "2023-09-02T19:00:34.701356Z",
          "shell.execute_reply": "2023-09-02T19:00:34.700973Z"
        },
        "papermill": {
          "duration": 0.014821,
          "end_time": "2023-09-02T19:00:34.702421",
          "exception": false,
          "start_time": "2023-09-02T19:00:34.687600",
          "status": "completed"
        },
        "tags": [
          "hide-input"
        ]
      },
      "outputs": [],
      "source": [
        "def is_complex_float(x: Any) -> bool:\n",
        "    \"\"\"check if an object is either a `ComplexFloat` or a `Float`\"\"\"\n",
        "    return is_float(x) or is_complex(x)"
      ]
    },
    {
      "cell_type": "code",
      "execution_count": 26,
      "id": "c533ff0d",
      "metadata": {
        "execution": {
          "iopub.execute_input": "2023-09-02T19:00:34.724373Z",
          "iopub.status.busy": "2023-09-02T19:00:34.723899Z",
          "iopub.status.idle": "2023-09-02T19:00:34.727599Z",
          "shell.execute_reply": "2023-09-02T19:00:34.727258Z"
        },
        "papermill": {
          "duration": 0.015998,
          "end_time": "2023-09-02T19:00:34.728809",
          "exception": false,
          "start_time": "2023-09-02T19:00:34.712811",
          "status": "completed"
        },
        "tags": []
      },
      "outputs": [],
      "source": [
        "assert is_complex_float(3.0)\n",
        "assert not is_complex_float(3)\n",
        "assert is_complex_float(3.0 + 2j)\n",
        "assert is_complex_float(jnp.array(3.0, dtype=complex))\n",
        "assert not is_complex_float(jnp.array(3, dtype=int))"
      ]
    },
    {
      "cell_type": "markdown",
      "id": "154b228fcfd53ee3",
      "metadata": {},
      "source": [
        ":::{eval-rst}\n",
        ".. autofunction:: sax.typing_.is_sdict\n",
        ":::\n"
      ]
    },
    {
      "cell_type": "code",
      "execution_count": 27,
      "id": "60c81201d83e285a",
      "metadata": {
        "execution": {
          "iopub.execute_input": "2023-09-02T19:00:34.751248Z",
          "iopub.status.busy": "2023-09-02T19:00:34.750746Z",
          "iopub.status.idle": "2023-09-02T19:00:34.753461Z",
          "shell.execute_reply": "2023-09-02T19:00:34.753144Z"
        },
        "papermill": {
          "duration": 0.015174,
          "end_time": "2023-09-02T19:00:34.754572",
          "exception": false,
          "start_time": "2023-09-02T19:00:34.739398",
          "status": "completed"
        },
        "tags": [
          "hide-input"
        ]
      },
      "outputs": [],
      "source": [
        "def is_sdict(x: Any) -> bool:\n",
        "    \"\"\"check if an object is an `SDict` (a SAX S-dictionary)\"\"\"\n",
        "    return isinstance(x, dict)"
      ]
    },
    {
      "cell_type": "code",
      "execution_count": 28,
      "id": "cb0365dc",
      "metadata": {
        "execution": {
          "iopub.execute_input": "2023-09-02T19:00:34.776930Z",
          "iopub.status.busy": "2023-09-02T19:00:34.776423Z",
          "iopub.status.idle": "2023-09-02T19:00:34.779204Z",
          "shell.execute_reply": "2023-09-02T19:00:34.778883Z"
        },
        "papermill": {
          "duration": 0.015196,
          "end_time": "2023-09-02T19:00:34.780290",
          "exception": false,
          "start_time": "2023-09-02T19:00:34.765094",
          "status": "completed"
        },
        "tags": []
      },
      "outputs": [],
      "source": [
        "assert not is_sdict(object())\n",
        "assert is_sdict(_sdict)\n",
        "assert not is_sdict(_scoo)\n",
        "assert not is_sdict(_sdense)"
      ]
    },
    {
      "cell_type": "markdown",
      "id": "9aa08e0216a7ab0c",
      "metadata": {},
      "source": [
        ":::{eval-rst}\n",
        ".. autofunction:: sax.typing_.is_scoo\n",
        ":::\n"
      ]
    },
    {
      "cell_type": "code",
      "execution_count": 29,
      "id": "9c4f9cd8ac07482f",
      "metadata": {
        "execution": {
          "iopub.execute_input": "2023-09-02T19:00:34.803755Z",
          "iopub.status.busy": "2023-09-02T19:00:34.803249Z",
          "iopub.status.idle": "2023-09-02T19:00:34.806017Z",
          "shell.execute_reply": "2023-09-02T19:00:34.805697Z"
        },
        "papermill": {
          "duration": 0.016284,
          "end_time": "2023-09-02T19:00:34.807106",
          "exception": false,
          "start_time": "2023-09-02T19:00:34.790822",
          "status": "completed"
        },
        "tags": [
          "hide-input"
        ]
      },
      "outputs": [],
      "source": [
        "def is_scoo(x: Any) -> bool:\n",
        "    \"\"\"check if an object is an `SCoo` (a SAX sparse S-matrix representation in COO-format)\"\"\"\n",
        "    return isinstance(x, (tuple, list)) and len(x) == 4"
      ]
    },
    {
      "cell_type": "code",
      "execution_count": 30,
      "id": "9ea0239a",
      "metadata": {
        "execution": {
          "iopub.execute_input": "2023-09-02T19:00:34.829328Z",
          "iopub.status.busy": "2023-09-02T19:00:34.828858Z",
          "iopub.status.idle": "2023-09-02T19:00:34.831503Z",
          "shell.execute_reply": "2023-09-02T19:00:34.831192Z"
        },
        "papermill": {
          "duration": 0.014821,
          "end_time": "2023-09-02T19:00:34.832557",
          "exception": false,
          "start_time": "2023-09-02T19:00:34.817736",
          "status": "completed"
        },
        "tags": []
      },
      "outputs": [],
      "source": [
        "assert not is_scoo(object)\n",
        "assert not is_scoo(_sdict)\n",
        "assert is_scoo(_scoo)\n",
        "assert not is_scoo(_sdense)"
      ]
    },
    {
      "cell_type": "markdown",
      "id": "6e7864005e319522",
      "metadata": {},
      "source": [
        ":::{eval-rst}\n",
        ".. autofunction:: sax.typing_.is_sdense\n",
        ":::\n"
      ]
    },
    {
      "cell_type": "code",
      "execution_count": 31,
      "id": "e8f77e18f47ce3cd",
      "metadata": {
        "execution": {
          "iopub.execute_input": "2023-09-02T19:00:34.855129Z",
          "iopub.status.busy": "2023-09-02T19:00:34.854522Z",
          "iopub.status.idle": "2023-09-02T19:00:34.857464Z",
          "shell.execute_reply": "2023-09-02T19:00:34.857137Z"
        },
        "papermill": {
          "duration": 0.015456,
          "end_time": "2023-09-02T19:00:34.858541",
          "exception": false,
          "start_time": "2023-09-02T19:00:34.843085",
          "status": "completed"
        },
        "tags": [
          "hide-input"
        ]
      },
      "outputs": [],
      "source": [
        "def is_sdense(x: Any) -> bool:\n",
        "    \"\"\"check if an object is an `SDense` (a SAX dense S-matrix representation)\"\"\"\n",
        "    return isinstance(x, (tuple, list)) and len(x) == 2"
      ]
    },
    {
      "cell_type": "code",
      "execution_count": 32,
      "id": "2eddd63a",
      "metadata": {
        "execution": {
          "iopub.execute_input": "2023-09-02T19:00:34.880948Z",
          "iopub.status.busy": "2023-09-02T19:00:34.880462Z",
          "iopub.status.idle": "2023-09-02T19:00:34.883215Z",
          "shell.execute_reply": "2023-09-02T19:00:34.882894Z"
        },
        "papermill": {
          "duration": 0.015214,
          "end_time": "2023-09-02T19:00:34.884354",
          "exception": false,
          "start_time": "2023-09-02T19:00:34.869140",
          "status": "completed"
        },
        "tags": []
      },
      "outputs": [],
      "source": [
        "assert not is_sdense(object)\n",
        "assert not is_sdense(_sdict)\n",
        "assert not is_sdense(_scoo)\n",
        "assert is_sdense(_sdense)"
      ]
    },
    {
      "cell_type": "markdown",
      "id": "777698d079fb8101",
      "metadata": {},
      "source": [
        ":::{eval-rst}\n",
        ".. autofunction:: sax.typing_.is_model\n",
        ":::\n"
      ]
    },
    {
      "cell_type": "code",
      "execution_count": 33,
      "id": "c0eb3fae12b6d42d",
      "metadata": {
        "execution": {
          "iopub.execute_input": "2023-09-02T19:00:34.906624Z",
          "iopub.status.busy": "2023-09-02T19:00:34.906163Z",
          "iopub.status.idle": "2023-09-02T19:00:34.910720Z",
          "shell.execute_reply": "2023-09-02T19:00:34.910331Z"
        },
        "papermill": {
          "duration": 0.016934,
          "end_time": "2023-09-02T19:00:34.911856",
          "exception": false,
          "start_time": "2023-09-02T19:00:34.894922",
          "status": "completed"
        },
        "tags": [
          "hide-input"
        ]
      },
      "outputs": [],
      "source": [
        "def is_model(model: Any) -> bool:\n",
        "    \"\"\"check if a callable is a `Model` (a callable returning an `SType`)\"\"\"\n",
        "    if not callable(model):\n",
        "        return False\n",
        "    try:\n",
        "        sig = inspect.signature(model)\n",
        "    except ValueError:\n",
        "        return False\n",
        "    for param in sig.parameters.values():\n",
        "        if param.default is inspect.Parameter.empty:\n",
        "            return False  # a proper SAX model does not have any positional arguments.\n",
        "    if _is_callable_annotation(sig.return_annotation):  # model factory\n",
        "        return False\n",
        "    return True\n",
        "\n",
        "def _is_callable_annotation(annotation: Any) -> bool:\n",
        "    \"\"\"check if an annotation is `Callable`-like\"\"\"\n",
        "    if isinstance(annotation, str):\n",
        "        # happens when\n",
        "        # was imported at the top of the file...\n",
        "        return annotation.startswith(\"Callable\") or annotation.endswith(\"Model\")\n",
        "        # TODO: this is not a very robust check...\n",
        "    try:\n",
        "        return annotation.__origin__ == CallableABC\n",
        "    except AttributeError:\n",
        "        return False"
      ]
    },
    {
      "cell_type": "code",
      "execution_count": 34,
      "id": "cf94e6982f90b669",
      "metadata": {
        "execution": {
          "iopub.execute_input": "2023-09-02T19:00:34.934099Z",
          "iopub.status.busy": "2023-09-02T19:00:34.933637Z",
          "iopub.status.idle": "2023-09-02T19:00:34.936228Z",
          "shell.execute_reply": "2023-09-02T19:00:34.935837Z"
        },
        "papermill": {
          "duration": 0.014861,
          "end_time": "2023-09-02T19:00:34.937332",
          "exception": false,
          "start_time": "2023-09-02T19:00:34.922471",
          "status": "completed"
        },
        "tags": [
          "remove-cell"
        ]
      },
      "outputs": [],
      "source": [
        "assert _is_callable_annotation(Callable)\n",
        "assert not _is_callable_annotation(SDict)"
      ]
    },
    {
      "cell_type": "code",
      "execution_count": 35,
      "id": "89bdb647",
      "metadata": {
        "execution": {
          "iopub.execute_input": "2023-09-02T19:00:34.959751Z",
          "iopub.status.busy": "2023-09-02T19:00:34.959572Z",
          "iopub.status.idle": "2023-09-02T19:00:34.975316Z",
          "shell.execute_reply": "2023-09-02T19:00:34.974920Z"
        },
        "papermill": {
          "duration": 0.028437,
          "end_time": "2023-09-02T19:00:34.976518",
          "exception": false,
          "start_time": "2023-09-02T19:00:34.948081",
          "status": "completed"
        },
        "tags": []
      },
      "outputs": [],
      "source": [
        "def good_model(x=jnp.array(3.0), y=jnp.array(4.0)) -> SDict:\n",
        "    return {(\"in0\", \"out0\"): jnp.array(3.0)}\n",
        "assert is_model(good_model)\n",
        "\n",
        "def bad_model(positional_argument, x=jnp.array(3.0), y=jnp.array(4.0)) -> SDict:\n",
        "    return {(\"in0\", \"out0\"): jnp.array(3.0)}\n",
        "assert not is_model(bad_model)"
      ]
    },
    {
      "cell_type": "markdown",
      "id": "35540478aef47481",
      "metadata": {},
      "source": [
        ":::{eval-rst}\n",
        ".. autofunction:: sax.typing_.is_model_factory\n",
        ":::\n"
      ]
    },
    {
      "cell_type": "code",
      "execution_count": 36,
      "id": "e51353cc9fb32972",
      "metadata": {
        "execution": {
          "iopub.execute_input": "2023-09-02T19:00:34.999369Z",
          "iopub.status.busy": "2023-09-02T19:00:34.998864Z",
          "iopub.status.idle": "2023-09-02T19:00:35.001973Z",
          "shell.execute_reply": "2023-09-02T19:00:35.001626Z"
        },
        "papermill": {
          "duration": 0.015849,
          "end_time": "2023-09-02T19:00:35.003170",
          "exception": false,
          "start_time": "2023-09-02T19:00:34.987321",
          "status": "completed"
        },
        "tags": [
          "hide-input"
        ]
      },
      "outputs": [],
      "source": [
        "def is_model_factory(model: Any) -> bool:\n",
        "    \"\"\"check if a callable is a model function.\"\"\"\n",
        "    if not callable(model):\n",
        "        return False\n",
        "    sig = inspect.signature(model)\n",
        "    if _is_callable_annotation(sig.return_annotation):  # model factory\n",
        "        return True\n",
        "    return False"
      ]
    },
    {
      "cell_type": "markdown",
      "id": "1f9715ed",
      "metadata": {
        "papermill": {
          "duration": 0.010655,
          "end_time": "2023-09-02T19:00:35.024551",
          "exception": false,
          "start_time": "2023-09-02T19:00:35.013896",
          "status": "completed"
        },
        "tags": []
      },
      "source": [
        "> Note: For a `Callable` to be considered a `ModelFactory` in SAX, it **MUST** have a `Callable` or `Model` return annotation. Otherwise SAX will view it as a `Model` and things might break!"
      ]
    },
    {
      "cell_type": "code",
      "execution_count": 37,
      "id": "fe9cdff0",
      "metadata": {
        "execution": {
          "iopub.execute_input": "2023-09-02T19:00:35.046995Z",
          "iopub.status.busy": "2023-09-02T19:00:35.046793Z",
          "iopub.status.idle": "2023-09-02T19:00:35.049591Z",
          "shell.execute_reply": "2023-09-02T19:00:35.049156Z"
        },
        "papermill": {
          "duration": 0.015498,
          "end_time": "2023-09-02T19:00:35.050782",
          "exception": false,
          "start_time": "2023-09-02T19:00:35.035284",
          "status": "completed"
        },
        "tags": []
      },
      "outputs": [],
      "source": [
        "def func() -> Model:\n",
        "    ...\n",
        "    \n",
        "assert is_model_factory(func) # yes, we only check the annotation for now...\n",
        "\n",
        "def func():\n",
        "    ...\n",
        "    \n",
        "assert not is_model_factory(func) # yes, we only check the annotation for now..."
      ]
    },
    {
      "cell_type": "markdown",
      "id": "a777f8b8037f89e9",
      "metadata": {},
      "source": [
        ":::{eval-rst}\n",
        ".. autofunction:: sax.typing_.validate_model\n",
        ":::\n"
      ]
    },
    {
      "cell_type": "code",
      "execution_count": 38,
      "id": "ae2f98537d685d90",
      "metadata": {
        "execution": {
          "iopub.execute_input": "2023-09-02T19:00:35.073611Z",
          "iopub.status.busy": "2023-09-02T19:00:35.073093Z",
          "iopub.status.idle": "2023-09-02T19:00:35.077018Z",
          "shell.execute_reply": "2023-09-02T19:00:35.076693Z"
        },
        "papermill": {
          "duration": 0.016608,
          "end_time": "2023-09-02T19:00:35.078115",
          "exception": false,
          "start_time": "2023-09-02T19:00:35.061507",
          "status": "completed"
        },
        "tags": [
          "hide-input"
        ]
      },
      "outputs": [],
      "source": [
        "def validate_model(model: Callable):\n",
        "    \"\"\"Validate the parameters of a model\"\"\"\n",
        "    positional_arguments = []\n",
        "    for param in inspect.signature(model).parameters.values():\n",
        "        if param.default is inspect.Parameter.empty:\n",
        "            positional_arguments.append(param.name)\n",
        "    if positional_arguments:\n",
        "        raise ValueError(\n",
        "            f\"model '{model}' takes positional arguments {', '.join(positional_arguments)} \"\n",
        "            \"and hence is not a valid SAX Model! A SAX model should ONLY take keyword arguments (or no arguments at all).\"\n",
        "        )"
      ]
    },
    {
      "cell_type": "code",
      "execution_count": 39,
      "id": "754399d5",
      "metadata": {
        "execution": {
          "iopub.execute_input": "2023-09-02T19:00:35.101612Z",
          "iopub.status.busy": "2023-09-02T19:00:35.101115Z",
          "iopub.status.idle": "2023-09-02T19:00:35.104976Z",
          "shell.execute_reply": "2023-09-02T19:00:35.104566Z"
        },
        "papermill": {
          "duration": 0.017097,
          "end_time": "2023-09-02T19:00:35.106136",
          "exception": false,
          "start_time": "2023-09-02T19:00:35.089039",
          "status": "completed"
        },
        "tags": []
      },
      "outputs": [],
      "source": [
        "def good_model(x=jnp.array(3.0), y=jnp.array(4.0)) -> SDict:\n",
        "    return {(\"in0\", \"out0\"): jnp.array(3.0)}\n",
        "\n",
        "\n",
        "assert validate_model(good_model) is None"
      ]
    },
    {
      "cell_type": "code",
      "execution_count": 40,
      "id": "181c72fa",
      "metadata": {
        "execution": {
          "iopub.execute_input": "2023-09-02T19:00:35.128817Z",
          "iopub.status.busy": "2023-09-02T19:00:35.128355Z",
          "iopub.status.idle": "2023-09-02T19:00:35.132284Z",
          "shell.execute_reply": "2023-09-02T19:00:35.131899Z"
        },
        "papermill": {
          "duration": 0.016508,
          "end_time": "2023-09-02T19:00:35.133414",
          "exception": false,
          "start_time": "2023-09-02T19:00:35.116906",
          "status": "completed"
        },
        "tags": []
      },
      "outputs": [],
      "source": [
        "def bad_model(positional_argument, x=jnp.array(3.0), y=jnp.array(4.0)) -> SDict:\n",
        "    return {(\"in0\", \"out0\"): jnp.array(3.0)}\n",
        "\n",
        "\n",
        "with raises(ValueError):\n",
        "    validate_model(bad_model)"
      ]
    },
    {
      "cell_type": "markdown",
      "id": "adea72f3718f7cf0",
      "metadata": {},
      "source": [
        ":::{eval-rst}\n",
        ".. autofunction:: sax.typing_.is_stype\n",
        ":::\n"
      ]
    },
    {
      "cell_type": "code",
      "execution_count": 41,
      "id": "f61e063054c2030a",
      "metadata": {
        "execution": {
          "iopub.execute_input": "2023-09-02T19:00:35.156104Z",
          "iopub.status.busy": "2023-09-02T19:00:35.155658Z",
          "iopub.status.idle": "2023-09-02T19:00:35.158350Z",
          "shell.execute_reply": "2023-09-02T19:00:35.158033Z"
        },
        "papermill": {
          "duration": 0.015275,
          "end_time": "2023-09-02T19:00:35.159522",
          "exception": false,
          "start_time": "2023-09-02T19:00:35.144247",
          "status": "completed"
        },
        "tags": [
          "hide-input"
        ]
      },
      "outputs": [],
      "source": [
        "def is_stype(stype: Any) -> bool:\n",
        "    \"\"\"check if an object is an SDict, SCoo or SDense\"\"\"\n",
        "    return is_sdict(stype) or is_scoo(stype) or is_sdense(stype)"
      ]
    },
    {
      "cell_type": "markdown",
      "id": "d7c8ea68d081f813",
      "metadata": {},
      "source": [
        ":::{eval-rst}\n",
        ".. autofunction:: sax.typing_.is_singlemode\n",
        ":::\n"
      ]
    },
    {
      "cell_type": "code",
      "execution_count": 42,
      "id": "e407175805ea8f5e",
      "metadata": {
        "execution": {
          "iopub.execute_input": "2023-09-02T19:00:35.182234Z",
          "iopub.status.busy": "2023-09-02T19:00:35.181768Z",
          "iopub.status.idle": "2023-09-02T19:00:35.185812Z",
          "shell.execute_reply": "2023-09-02T19:00:35.185496Z"
        },
        "papermill": {
          "duration": 0.016516,
          "end_time": "2023-09-02T19:00:35.186894",
          "exception": false,
          "start_time": "2023-09-02T19:00:35.170378",
          "status": "completed"
        },
        "tags": [
          "hide-input"
        ]
      },
      "outputs": [],
      "source": [
        "def is_singlemode(S: Any) -> bool:\n",
        "    \"\"\"check if an stype is single mode\"\"\"\n",
        "    if not is_stype(S):\n",
        "        return False\n",
        "    ports = _get_ports(S)\n",
        "    return not any((\"@\" in p) for p in ports)\n",
        "\n",
        "def _get_ports(S: SType):\n",
        "    if is_sdict(S):\n",
        "        S = cast(SDict, S)\n",
        "        ports_set = {p1 for p1, _ in S} | {p2 for _, p2 in S}\n",
        "        return tuple(natsorted(ports_set))\n",
        "    else:\n",
        "        *_, ports_map = S\n",
        "        assert isinstance(ports_map, dict)\n",
        "        return tuple(natsorted(ports_map.keys()))"
      ]
    },
    {
      "cell_type": "markdown",
      "id": "259599260a71bcf3",
      "metadata": {},
      "source": [
        ":::{eval-rst}\n",
        ".. autofunction:: sax.typing_.is_multimode\n",
        ":::\n"
      ]
    },
    {
      "cell_type": "code",
      "execution_count": 43,
      "id": "906fed6c1d94116b",
      "metadata": {
        "execution": {
          "iopub.execute_input": "2023-09-02T19:00:35.209862Z",
          "iopub.status.busy": "2023-09-02T19:00:35.209382Z",
          "iopub.status.idle": "2023-09-02T19:00:35.212299Z",
          "shell.execute_reply": "2023-09-02T19:00:35.211981Z"
        },
        "papermill": {
          "duration": 0.015628,
          "end_time": "2023-09-02T19:00:35.213471",
          "exception": false,
          "start_time": "2023-09-02T19:00:35.197843",
          "status": "completed"
        },
        "tags": [
          "hide-input"
        ]
      },
      "outputs": [],
      "source": [
        "def is_multimode(S: Any) -> bool:\n",
        "    \"\"\"check if an stype is single mode\"\"\"\n",
        "    if not is_stype(S):\n",
        "        return False\n",
        "    \n",
        "    ports = _get_ports(S)\n",
        "    return all((\"@\" in p) for p in ports)"
      ]
    },
    {
      "cell_type": "markdown",
      "id": "bfdeb729e9c2e456",
      "metadata": {},
      "source": [
        ":::{eval-rst}\n",
        ".. autofunction:: sax.typing_.is_mixedmode\n",
        ":::\n"
      ]
    },
    {
      "cell_type": "code",
      "execution_count": 44,
      "id": "0f845346b826a641",
      "metadata": {
        "execution": {
          "iopub.execute_input": "2023-09-02T19:00:35.236454Z",
          "iopub.status.busy": "2023-09-02T19:00:35.236097Z",
          "iopub.status.idle": "2023-09-02T19:00:35.238808Z",
          "shell.execute_reply": "2023-09-02T19:00:35.238408Z"
        },
        "papermill": {
          "duration": 0.015596,
          "end_time": "2023-09-02T19:00:35.239918",
          "exception": false,
          "start_time": "2023-09-02T19:00:35.224322",
          "status": "completed"
        },
        "tags": [
          "hide-input"
        ]
      },
      "outputs": [],
      "source": [
        "def is_mixedmode(S: Any) -> bool:\n",
        "    \"\"\"check if an stype is neither single mode nor multimode (hence invalid)\"\"\"\n",
        "    return not is_singlemode(S) and not is_multimode(S)"
      ]
    },
    {
      "cell_type": "markdown",
      "id": "3afe685c",
      "metadata": {
        "papermill": {
          "duration": 0.010788,
          "end_time": "2023-09-02T19:00:35.261545",
          "exception": false,
          "start_time": "2023-09-02T19:00:35.250757",
          "status": "completed"
        },
        "tags": []
      },
      "source": [
        "## SAX return type helpers\n",
        "\n",
        "> a.k.a SDict, SDense, SCoo helpers"
      ]
    },
    {
      "cell_type": "markdown",
      "id": "a875f149",
      "metadata": {
        "papermill": {
          "duration": 0.01085,
          "end_time": "2023-09-02T19:00:35.283275",
          "exception": false,
          "start_time": "2023-09-02T19:00:35.272425",
          "status": "completed"
        },
        "tags": []
      },
      "source": [
        "Convert an `SDict`, `SCoo` or `SDense` into an `SDict` (or convert a model generating any of these types into a model generating an `SDict`):"
      ]
    },
    {
      "cell_type": "code",
      "execution_count": 45,
      "id": "4fe3374e499ca921",
      "metadata": {
        "execution": {
          "iopub.execute_input": "2023-09-02T19:00:35.306243Z",
          "iopub.status.busy": "2023-09-02T19:00:35.305820Z",
          "iopub.status.idle": "2023-09-02T19:00:35.308668Z",
          "shell.execute_reply": "2023-09-02T19:00:35.308298Z"
        },
        "papermill": {
          "duration": 0.015615,
          "end_time": "2023-09-02T19:00:35.309737",
          "exception": false,
          "start_time": "2023-09-02T19:00:35.294122",
          "status": "completed"
        },
        "tags": [
          "remove-cell"
        ]
      },
      "outputs": [],
      "source": [
        "\n",
        "@overload\n",
        "def sdict(S: Model) -> Model:\n",
        "    ...\n",
        "\n",
        "\n",
        "@overload\n",
        "def sdict(S: SType) -> SDict:\n",
        "    ..."
      ]
    },
    {
      "cell_type": "markdown",
      "id": "fb48882d0fecf4f8",
      "metadata": {},
      "source": [
        ":::{eval-rst}\n",
        ".. autofunction:: sax.typing_.sdict\n",
        ":::\n"
      ]
    },
    {
      "cell_type": "code",
      "execution_count": 46,
      "id": "212f390664ba003f",
      "metadata": {
        "execution": {
          "iopub.execute_input": "2023-09-02T19:00:35.332751Z",
          "iopub.status.busy": "2023-09-02T19:00:35.332308Z",
          "iopub.status.idle": "2023-09-02T19:00:35.339729Z",
          "shell.execute_reply": "2023-09-02T19:00:35.339354Z"
        },
        "papermill": {
          "duration": 0.020071,
          "end_time": "2023-09-02T19:00:35.340806",
          "exception": false,
          "start_time": "2023-09-02T19:00:35.320735",
          "status": "completed"
        },
        "tags": [
          "hide-input"
        ]
      },
      "outputs": [],
      "source": [
        "def sdict(S: Union[Model, SType]) -> Union[Model, SType]:\n",
        "    \"\"\"Convert an `SCoo` or `SDense` to `SDict`\"\"\"\n",
        "\n",
        "    if is_model(S):\n",
        "        model = cast(Model, S)\n",
        "\n",
        "        @functools.wraps(model)\n",
        "        def wrapper(**kwargs):\n",
        "            return sdict(model(**kwargs))\n",
        "\n",
        "        return wrapper\n",
        "\n",
        "    elif is_scoo(S):\n",
        "        x_dict = _scoo_to_sdict(*cast(SCoo, S))\n",
        "    elif is_sdense(S):\n",
        "        x_dict = _sdense_to_sdict(*cast(SDense, S))\n",
        "    elif is_sdict(S):\n",
        "        x_dict = cast(SDict, S)\n",
        "    else:\n",
        "        raise ValueError(\"Could not convert arguments to sdict.\")\n",
        "\n",
        "    return x_dict\n",
        "\n",
        "\n",
        "def _scoo_to_sdict(Si: Array, Sj: Array, Sx: Array, ports_map: Dict[str, int]) -> SDict:\n",
        "    sdict = {}\n",
        "    inverse_ports_map = {int(i): p for p, i in ports_map.items()}\n",
        "    for i, (si, sj) in enumerate(zip(Si, Sj)):\n",
        "        sdict[\n",
        "            inverse_ports_map.get(int(si), \"\"), inverse_ports_map.get(int(sj), \"\")\n",
        "        ] = Sx[..., i]\n",
        "    sdict = {(p1, p2): v for (p1, p2), v in sdict.items() if p1 and p2}\n",
        "    return sdict\n",
        "\n",
        "\n",
        "def _sdense_to_sdict(S: Array, ports_map: Dict[str, int]) -> SDict:\n",
        "    sdict = {}\n",
        "    for p1, i in ports_map.items():\n",
        "        for p2, j in ports_map.items():\n",
        "            sdict[p1, p2] = S[..., i, j]\n",
        "    return sdict"
      ]
    },
    {
      "cell_type": "code",
      "execution_count": 47,
      "id": "9a372fbf",
      "metadata": {
        "execution": {
          "iopub.execute_input": "2023-09-02T19:00:35.363811Z",
          "iopub.status.busy": "2023-09-02T19:00:35.363361Z",
          "iopub.status.idle": "2023-09-02T19:00:35.445056Z",
          "shell.execute_reply": "2023-09-02T19:00:35.444629Z"
        },
        "papermill": {
          "duration": 0.094795,
          "end_time": "2023-09-02T19:00:35.446541",
          "exception": false,
          "start_time": "2023-09-02T19:00:35.351746",
          "status": "completed"
        },
        "tags": []
      },
      "outputs": [],
      "source": [
        "assert sdict(_sdict) is _sdict\n",
        "assert sdict(_scoo) == {\n",
        "    (\"in0\", \"in0\"): 3.0,\n",
        "    (\"in1\", \"in0\"): 1.0,\n",
        "    (\"out0\", \"out0\"): 4.0,\n",
        "}\n",
        "assert sdict(_sdense) == {\n",
        "    (\"in0\", \"in0\"): 0.0,\n",
        "    (\"in0\", \"out0\"): 1.0,\n",
        "    (\"in0\", \"in1\"): 2.0,\n",
        "    (\"out0\", \"in0\"): 3.0,\n",
        "    (\"out0\", \"out0\"): 4.0,\n",
        "    (\"out0\", \"in1\"): 5.0,\n",
        "    (\"in1\", \"in0\"): 6.0,\n",
        "    (\"in1\", \"out0\"): 7.0,\n",
        "    (\"in1\", \"in1\"): 8.0,\n",
        "}"
      ]
    },
    {
      "cell_type": "markdown",
      "id": "492c5cdd",
      "metadata": {
        "papermill": {
          "duration": 0.011044,
          "end_time": "2023-09-02T19:00:35.468837",
          "exception": false,
          "start_time": "2023-09-02T19:00:35.457793",
          "status": "completed"
        },
        "tags": []
      },
      "source": [
        "Convert an `SDict`, `SCoo` or `SDense` into an `SCoo` (or convert a model generating any of these types into a model generating an `SCoo`):"
      ]
    },
    {
      "cell_type": "code",
      "execution_count": 48,
      "id": "9a33d222ceb5f759",
      "metadata": {
        "execution": {
          "iopub.execute_input": "2023-09-02T19:00:35.492255Z",
          "iopub.status.busy": "2023-09-02T19:00:35.491631Z",
          "iopub.status.idle": "2023-09-02T19:00:35.494724Z",
          "shell.execute_reply": "2023-09-02T19:00:35.494306Z"
        },
        "papermill": {
          "duration": 0.016053,
          "end_time": "2023-09-02T19:00:35.495857",
          "exception": false,
          "start_time": "2023-09-02T19:00:35.479804",
          "status": "completed"
        },
        "tags": [
          "remove-cell"
        ]
      },
      "outputs": [],
      "source": [
        "\n",
        "@overload\n",
        "def scoo(S: Callable) -> Callable:\n",
        "    ...\n",
        "\n",
        "\n",
        "@overload\n",
        "def scoo(S: SType) -> SCoo:\n",
        "    ..."
      ]
    },
    {
      "cell_type": "markdown",
      "id": "f41e807932be544c",
      "metadata": {},
      "source": [
        ":::{eval-rst}\n",
        ".. autofunction:: sax.typing_.scoo\n",
        ":::\n"
      ]
    },
    {
      "cell_type": "code",
      "execution_count": 49,
      "id": "da6a74d8e0c3b8d1",
      "metadata": {
        "execution": {
          "iopub.execute_input": "2023-09-02T19:00:35.519185Z",
          "iopub.status.busy": "2023-09-02T19:00:35.518720Z",
          "iopub.status.idle": "2023-09-02T19:00:35.526878Z",
          "shell.execute_reply": "2023-09-02T19:00:35.526471Z"
        },
        "papermill": {
          "duration": 0.021044,
          "end_time": "2023-09-02T19:00:35.528019",
          "exception": false,
          "start_time": "2023-09-02T19:00:35.506975",
          "status": "completed"
        },
        "tags": [
          "hide-input"
        ]
      },
      "outputs": [],
      "source": [
        "\n",
        "def scoo(S: Union[Callable, SType]) -> Union[Callable, SCoo]:\n",
        "    \"\"\"Convert an `SDict` or `SDense` to `SCoo`\"\"\"\n",
        "\n",
        "    if is_model(S):\n",
        "        model = cast(Model, S)\n",
        "\n",
        "        @functools.wraps(model)\n",
        "        def wrapper(**kwargs):\n",
        "            return scoo(model(**kwargs))\n",
        "\n",
        "        return wrapper\n",
        "\n",
        "    elif is_scoo(S):\n",
        "        S = cast(SCoo, S)\n",
        "    elif is_sdense(S):\n",
        "        S = _sdense_to_scoo(*cast(SDense, S))\n",
        "    elif is_sdict(S):\n",
        "        S = _sdict_to_scoo(cast(SDict, S))\n",
        "    else:\n",
        "        raise ValueError(\"Could not convert arguments to scoo.\")\n",
        "\n",
        "    return S\n",
        "\n",
        "def _consolidate_sdense(S, pm):\n",
        "    idxs = list(pm.values())\n",
        "    S = S[..., idxs, :][..., :, idxs]\n",
        "    pm = {p: i for i, p in enumerate(pm)}\n",
        "    return S, pm\n",
        "\n",
        "def _sdense_to_scoo(S: Array, ports_map: Dict[str, int]) -> SCoo:\n",
        "    S, ports_map = _consolidate_sdense(S, ports_map)\n",
        "    Sj, Si = jnp.meshgrid(jnp.arange(S.shape[-1]), jnp.arange(S.shape[-2]))\n",
        "    return Si.ravel(), Sj.ravel(), S.reshape(*S.shape[:-2], -1), ports_map\n",
        "\n",
        "\n",
        "def _sdict_to_scoo(sdict: SDict) -> SCoo:\n",
        "    all_ports = {}\n",
        "    for p1, p2 in sdict:\n",
        "        all_ports[p1] = None\n",
        "        all_ports[p2] = None\n",
        "    ports_map = {p: i for i, p in enumerate(all_ports)}\n",
        "    Sx = jnp.stack(jnp.broadcast_arrays(*sdict.values()), -1)\n",
        "    Si = jnp.array([ports_map[p] for p, _ in sdict])\n",
        "    Sj = jnp.array([ports_map[p] for _, p in sdict])\n",
        "    return Si, Sj, Sx, ports_map"
      ]
    },
    {
      "cell_type": "code",
      "execution_count": 50,
      "id": "2e409185-a9f6-4ea9-af09-1c184557f02d",
      "metadata": {
        "execution": {
          "iopub.execute_input": "2023-09-02T19:00:35.551430Z",
          "iopub.status.busy": "2023-09-02T19:00:35.551036Z",
          "iopub.status.idle": "2023-09-02T19:00:35.683328Z",
          "shell.execute_reply": "2023-09-02T19:00:35.682889Z"
        },
        "papermill": {
          "duration": 0.14559,
          "end_time": "2023-09-02T19:00:35.684809",
          "exception": false,
          "start_time": "2023-09-02T19:00:35.539219",
          "status": "completed"
        },
        "tags": []
      },
      "outputs": [
        {
          "data": {
            "text/plain": [
              "(Array([0, 0, 0, 1, 1, 1, 2, 2, 2], dtype=int32),\n",
              " Array([0, 1, 2, 0, 1, 2, 0, 1, 2], dtype=int32),\n",
              " Array([0., 2., 1., 6., 8., 7., 3., 5., 4.], dtype=float32),\n",
              " {'in0': 0, 'in1': 1, 'out0': 2})"
            ]
          },
          "execution_count": 50,
          "metadata": {},
          "output_type": "execute_result"
        }
      ],
      "source": [
        "scoo(_sdense)"
      ]
    },
    {
      "cell_type": "code",
      "execution_count": 51,
      "id": "1e97b31c",
      "metadata": {
        "execution": {
          "iopub.execute_input": "2023-09-02T19:00:35.709466Z",
          "iopub.status.busy": "2023-09-02T19:00:35.708911Z",
          "iopub.status.idle": "2023-09-02T19:00:35.760615Z",
          "shell.execute_reply": "2023-09-02T19:00:35.760196Z"
        },
        "papermill": {
          "duration": 0.065155,
          "end_time": "2023-09-02T19:00:35.761969",
          "exception": false,
          "start_time": "2023-09-02T19:00:35.696814",
          "status": "completed"
        },
        "tags": []
      },
      "outputs": [],
      "source": [
        "assert scoo(_scoo) is _scoo\n",
        "assert scoo(_sdict) == (0, 1, 3.0, {\"in0\": 0, \"out0\": 1})\n",
        "Si, Sj, Sx, port_map = scoo(_sdense)  # type: ignore\n",
        "np.testing.assert_array_equal(Si, jnp.array([0, 0, 0, 1, 1, 1, 2, 2, 2]))\n",
        "np.testing.assert_array_equal(Sj, jnp.array([0, 1, 2, 0, 1, 2, 0, 1, 2]))\n",
        "np.testing.assert_array_almost_equal(Sx, jnp.array([0.0, 2.0, 1.0, 6.0, 8.0, 7.0, 3.0, 5.0, 4.0]))\n",
        "assert port_map == {\"in0\": 0, \"in1\": 1, \"out0\": 2}"
      ]
    },
    {
      "cell_type": "markdown",
      "id": "5e58325b",
      "metadata": {
        "papermill": {
          "duration": 0.011382,
          "end_time": "2023-09-02T19:00:35.784854",
          "exception": false,
          "start_time": "2023-09-02T19:00:35.773472",
          "status": "completed"
        },
        "tags": []
      },
      "source": [
        "Convert an `SDict`, `SCoo` or `SDense` into an `SDense` (or convert a model generating any of these types into a model generating an `SDense`):"
      ]
    },
    {
      "cell_type": "code",
      "execution_count": 52,
      "id": "2388d7fb12e784a4",
      "metadata": {
        "execution": {
          "iopub.execute_input": "2023-09-02T19:00:35.809207Z",
          "iopub.status.busy": "2023-09-02T19:00:35.808652Z",
          "iopub.status.idle": "2023-09-02T19:00:35.811621Z",
          "shell.execute_reply": "2023-09-02T19:00:35.811287Z"
        },
        "papermill": {
          "duration": 0.016358,
          "end_time": "2023-09-02T19:00:35.812674",
          "exception": false,
          "start_time": "2023-09-02T19:00:35.796316",
          "status": "completed"
        },
        "tags": [
          "remove-cell"
        ]
      },
      "outputs": [],
      "source": [
        "\n",
        "@overload\n",
        "def sdense(S: Callable) -> Callable:\n",
        "    ...\n",
        "\n",
        "\n",
        "@overload\n",
        "def sdense(S: SType) -> SDense:\n",
        "    ..."
      ]
    },
    {
      "cell_type": "markdown",
      "id": "0e45a3431e52faf8",
      "metadata": {},
      "source": [
        ":::{eval-rst}\n",
        ".. autofunction:: sax.typing_.sdense\n",
        ":::\n"
      ]
    },
    {
      "cell_type": "code",
      "execution_count": 53,
      "id": "f401abc874b5b275",
      "metadata": {
        "execution": {
          "iopub.execute_input": "2023-09-02T19:00:35.836313Z",
          "iopub.status.busy": "2023-09-02T19:00:35.835836Z",
          "iopub.status.idle": "2023-09-02T19:00:35.841417Z",
          "shell.execute_reply": "2023-09-02T19:00:35.841098Z"
        },
        "papermill": {
          "duration": 0.018629,
          "end_time": "2023-09-02T19:00:35.842581",
          "exception": false,
          "start_time": "2023-09-02T19:00:35.823952",
          "status": "completed"
        },
        "tags": [
          "hide-input"
        ]
      },
      "outputs": [],
      "source": [
        "\n",
        "def sdense(S: Union[Callable, SType]) -> Union[Callable, SDense]:\n",
        "    \"\"\"Convert an `SDict` or `SCoo` to `SDense`\"\"\"\n",
        "\n",
        "    if is_model(S):\n",
        "        model = cast(Model, S)\n",
        "\n",
        "        @functools.wraps(model)\n",
        "        def wrapper(**kwargs):\n",
        "            return sdense(model(**kwargs))\n",
        "\n",
        "        return wrapper\n",
        "\n",
        "    if is_sdict(S):\n",
        "        S = _sdict_to_sdense(cast(SDict, S))\n",
        "    elif is_scoo(S):\n",
        "        S = _scoo_to_sdense(*cast(SCoo, S))\n",
        "    elif is_sdense(S):\n",
        "        S = cast(SDense, S)\n",
        "    else:\n",
        "        raise ValueError(\"Could not convert arguments to sdense.\")\n",
        "\n",
        "    return S\n",
        "\n",
        "\n",
        "def _scoo_to_sdense(\n",
        "    Si: Array, Sj: Array, Sx: Array, ports_map: Dict[str, int]\n",
        ") -> SDense:\n",
        "    n_col = len(ports_map)\n",
        "    S = jnp.zeros((*Sx.shape[:-1], n_col, n_col), dtype=complex)\n",
        "    if JAX_AVAILABLE:\n",
        "        S = S.at[..., Si, Sj].add(Sx)\n",
        "    else:\n",
        "        S[..., Si, Sj] = Sx\n",
        "    return S, ports_map\n",
        "\n",
        "def _sdict_to_sdense(sdict: SDict) -> SDense:\n",
        "    Si, Sj, Sx, ports_map = _sdict_to_scoo(sdict)\n",
        "    return _scoo_to_sdense(Si, Sj, Sx, ports_map)"
      ]
    },
    {
      "cell_type": "code",
      "execution_count": 54,
      "id": "084b7ddb",
      "metadata": {
        "execution": {
          "iopub.execute_input": "2023-09-02T19:00:35.866332Z",
          "iopub.status.busy": "2023-09-02T19:00:35.865856Z",
          "iopub.status.idle": "2023-09-02T19:00:35.944555Z",
          "shell.execute_reply": "2023-09-02T19:00:35.944118Z"
        },
        "papermill": {
          "duration": 0.092194,
          "end_time": "2023-09-02T19:00:35.946082",
          "exception": false,
          "start_time": "2023-09-02T19:00:35.853888",
          "status": "completed"
        },
        "tags": []
      },
      "outputs": [],
      "source": [
        "assert sdense(_sdense) is _sdense\n",
        "Sd, port_map = sdense(_scoo)  # type: ignore\n",
        "Sd_ = jnp.array([[3.0 + 0.0j, 0.0 + 0.0j, 0.0 + 0.0j],\n",
        "                 [0.0 + 0.0j, 4.0 + 0.0j, 0.0 + 0.0j],\n",
        "                 [1.0 + 0.0j, 0.0 + 0.0j, 0.0 + 0.0j]])\n",
        "\n",
        "np.testing.assert_array_almost_equal(Sd, Sd_)\n",
        "assert port_map == {\"in0\": 0, \"in1\": 2, \"out0\": 1}"
      ]
    },
    {
      "cell_type": "markdown",
      "id": "8b78e678400c923e",
      "metadata": {},
      "source": [
        ":::{eval-rst}\n",
        ".. autofunction:: sax.typing_.modelfactory\n",
        ":::\n"
      ]
    },
    {
      "cell_type": "code",
      "execution_count": 55,
      "id": "9a966dee5454ea80",
      "metadata": {
        "execution": {
          "iopub.execute_input": "2023-09-02T19:00:35.970682Z",
          "iopub.status.busy": "2023-09-02T19:00:35.970078Z",
          "iopub.status.idle": "2023-09-02T19:00:35.973238Z",
          "shell.execute_reply": "2023-09-02T19:00:35.972916Z"
        },
        "papermill": {
          "duration": 0.016524,
          "end_time": "2023-09-02T19:00:35.974277",
          "exception": false,
          "start_time": "2023-09-02T19:00:35.957753",
          "status": "completed"
        },
        "tags": [
          "hide-input"
        ]
      },
      "outputs": [],
      "source": [
        "\n",
        "def modelfactory(func):\n",
        "    \"\"\"Decorator that marks a function as `ModelFactory`\"\"\"\n",
        "    sig = inspect.signature(func)\n",
        "    if _is_callable_annotation(sig.return_annotation):  # already model factory\n",
        "        return func\n",
        "    func.__signature__ = sig.replace(return_annotation=Model)\n",
        "    return func"
      ]
    }
  ],
  "metadata": {
    "kernelspec": {
      "display_name": "sax",
      "language": "python",
      "name": "sax"
    },
    "language_info": {
      "codemirror_mode": {
        "name": "ipython",
        "version": 3
      },
      "file_extension": ".py",
      "mimetype": "text/x-python",
      "name": "python",
      "nbconvert_exporter": "python",
      "pygments_lexer": "ipython3",
      "version": "3.11.5"
    },
    "papermill": {
      "default_parameters": {},
      "duration": 5.087188,
      "end_time": "2023-09-02T19:00:36.301651",
      "environment_variables": {},
      "exception": null,
      "input_path": "./nbs/00_typing.ipynb",
      "output_path": "./nbs/00_typing.ipynb",
      "parameters": {},
      "start_time": "2023-09-02T19:00:31.214463",
      "version": "2.4.0"
    }
  },
  "nbformat": 4,
  "nbformat_minor": 5
}