{
  "cells": [
    {
      "cell_type": "code",
      "execution_count": 1,
      "id": "c673edee7545bfa0",
      "metadata": {
        "execution": {
          "iopub.execute_input": "2023-09-02T18:52:43.792147Z",
          "iopub.status.busy": "2023-09-02T18:52:43.791463Z",
          "iopub.status.idle": "2023-09-02T18:52:43.795692Z",
          "shell.execute_reply": "2023-09-02T18:52:43.795061Z"
        },
        "papermill": {
          "duration": 0.049593,
          "end_time": "2023-09-02T18:52:43.796916",
          "exception": false,
          "start_time": "2023-09-02T18:52:43.747323",
          "status": "completed"
        },
        "tags": [
          "remove-cell"
        ]
      },
      "outputs": [],
      "source": []
    },
    {
      "cell_type": "markdown",
      "id": "13a3464b",
      "metadata": {
        "papermill": {
          "duration": 0.00952,
          "end_time": "2023-09-02T18:52:43.816197",
          "exception": false,
          "start_time": "2023-09-02T18:52:43.806677",
          "status": "completed"
        },
        "tags": []
      },
      "source": [
        "# Typing\n",
        "\n",
        "> SAX types"
      ]
    },
    {
      "cell_type": "code",
      "execution_count": 2,
      "id": "18d8bd0cc72426de",
      "metadata": {
        "execution": {
          "iopub.execute_input": "2023-09-02T18:52:43.836389Z",
          "iopub.status.busy": "2023-09-02T18:52:43.835918Z",
          "iopub.status.idle": "2023-09-02T18:52:44.264766Z",
          "shell.execute_reply": "2023-09-02T18:52:44.264293Z"
        },
        "papermill": {
          "duration": 0.440907,
          "end_time": "2023-09-02T18:52:44.266508",
          "exception": false,
          "start_time": "2023-09-02T18:52:43.825601",
          "status": "completed"
        },
        "tags": [
          "remove-cell"
        ]
      },
      "outputs": [],
      "source": [
        "import matplotlib.pyplot as plt\n",
        "from fastcore.test import test_eq\n",
        "from pytest import approx, raises\n",
        "\n",
        "import os, sys; sys.stderr = open(os.devnull, \"w\")"
      ]
    },
    {
      "cell_type": "code",
      "execution_count": 3,
      "id": "228654d903a53862",
      "metadata": {
        "execution": {
          "iopub.execute_input": "2023-09-02T18:52:44.288383Z",
          "iopub.status.busy": "2023-09-02T18:52:44.287877Z",
          "iopub.status.idle": "2023-09-02T18:52:44.684700Z",
          "shell.execute_reply": "2023-09-02T18:52:44.684233Z"
        },
        "papermill": {
          "duration": 0.409128,
          "end_time": "2023-09-02T18:52:44.686303",
          "exception": false,
          "start_time": "2023-09-02T18:52:44.277175",
          "status": "completed"
        },
        "tags": [
          "hide-input"
        ]
      },
      "outputs": [],
      "source": [
        "from __future__ import annotations\n",
        "import functools\n",
        "import inspect\n",
        "from collections.abc import Callable as CallableABC\n",
        "from typing import Any, Callable, Dict, Tuple, Union, cast, overload\n",
        "try:\n",
        "    from typing import TypedDict\n",
        "except ImportError: # python<3.8\n",
        "    from typing_extensions import TypedDict\n",
        "\n",
        "import numpy as np\n",
        "from natsort import natsorted\n",
        "\n",
        "try:\n",
        "    import jax.numpy as jnp\n",
        "    JAX_AVAILABLE = True\n",
        "except ImportError:\n",
        "    import numpy as jnp\n",
        "    JAX_AVAILABLE = False"
      ]
    },
    {
      "cell_type": "markdown",
      "id": "41e26ab2",
      "metadata": {
        "papermill": {
          "duration": 0.009939,
          "end_time": "2023-09-02T18:52:44.706061",
          "exception": false,
          "start_time": "2023-09-02T18:52:44.696122",
          "status": "completed"
        },
        "tags": []
      },
      "source": [
        "## Core Types"
      ]
    },
    {
      "cell_type": "markdown",
      "id": "ca29df5c",
      "metadata": {
        "papermill": {
          "duration": 0.00969,
          "end_time": "2023-09-02T18:52:44.725162",
          "exception": false,
          "start_time": "2023-09-02T18:52:44.715472",
          "status": "completed"
        },
        "tags": []
      },
      "source": [
        "### Array"
      ]
    },
    {
      "cell_type": "markdown",
      "id": "82c3c344",
      "metadata": {
        "papermill": {
          "duration": 0.00944,
          "end_time": "2023-09-02T18:52:44.744554",
          "exception": false,
          "start_time": "2023-09-02T18:52:44.735114",
          "status": "completed"
        },
        "tags": []
      },
      "source": [
        "an `Array` is either a jax array or a numpy array:"
      ]
    },
    {
      "cell_type": "code",
      "execution_count": 4,
      "id": "e00b47d38972c38a",
      "metadata": {
        "execution": {
          "iopub.execute_input": "2023-09-02T18:52:44.765255Z",
          "iopub.status.busy": "2023-09-02T18:52:44.764651Z",
          "iopub.status.idle": "2023-09-02T18:52:44.767856Z",
          "shell.execute_reply": "2023-09-02T18:52:44.767372Z"
        },
        "papermill": {
          "duration": 0.015065,
          "end_time": "2023-09-02T18:52:44.769054",
          "exception": false,
          "start_time": "2023-09-02T18:52:44.753989",
          "status": "completed"
        },
        "tags": []
      },
      "outputs": [],
      "source": [
        "Array = Union[jnp.ndarray, np.ndarray]"
      ]
    },
    {
      "cell_type": "markdown",
      "id": "6b86fa37",
      "metadata": {
        "papermill": {
          "duration": 0.009461,
          "end_time": "2023-09-02T18:52:44.788017",
          "exception": false,
          "start_time": "2023-09-02T18:52:44.778556",
          "status": "completed"
        },
        "tags": []
      },
      "source": [
        "### Int"
      ]
    },
    {
      "cell_type": "markdown",
      "id": "9fa467c9",
      "metadata": {
        "papermill": {
          "duration": 0.009655,
          "end_time": "2023-09-02T18:52:44.807492",
          "exception": false,
          "start_time": "2023-09-02T18:52:44.797837",
          "status": "completed"
        },
        "tags": []
      },
      "source": [
        "An `Int` is either a built-in `int` or an `Array` [of dtype `int`]"
      ]
    },
    {
      "cell_type": "code",
      "execution_count": 5,
      "id": "68bc6c8a1ac266ba",
      "metadata": {
        "execution": {
          "iopub.execute_input": "2023-09-02T18:52:44.827918Z",
          "iopub.status.busy": "2023-09-02T18:52:44.827408Z",
          "iopub.status.idle": "2023-09-02T18:52:44.830376Z",
          "shell.execute_reply": "2023-09-02T18:52:44.829890Z"
        },
        "papermill": {
          "duration": 0.014711,
          "end_time": "2023-09-02T18:52:44.831606",
          "exception": false,
          "start_time": "2023-09-02T18:52:44.816895",
          "status": "completed"
        },
        "tags": []
      },
      "outputs": [],
      "source": [
        "Int = Union[int, Array]"
      ]
    },
    {
      "cell_type": "markdown",
      "id": "c486cd2c",
      "metadata": {
        "papermill": {
          "duration": 0.009474,
          "end_time": "2023-09-02T18:52:44.850525",
          "exception": false,
          "start_time": "2023-09-02T18:52:44.841051",
          "status": "completed"
        },
        "tags": []
      },
      "source": [
        "### Float"
      ]
    },
    {
      "cell_type": "markdown",
      "id": "3b59bba6",
      "metadata": {
        "papermill": {
          "duration": 0.009434,
          "end_time": "2023-09-02T18:52:44.869413",
          "exception": false,
          "start_time": "2023-09-02T18:52:44.859979",
          "status": "completed"
        },
        "tags": []
      },
      "source": [
        "A `Float` is eiter a built-in `float` or an `Array` [of dtype `float`]"
      ]
    },
    {
      "cell_type": "code",
      "execution_count": 6,
      "id": "38710854c45d0407",
      "metadata": {
        "execution": {
          "iopub.execute_input": "2023-09-02T18:52:44.890123Z",
          "iopub.status.busy": "2023-09-02T18:52:44.889501Z",
          "iopub.status.idle": "2023-09-02T18:52:44.892358Z",
          "shell.execute_reply": "2023-09-02T18:52:44.891941Z"
        },
        "papermill": {
          "duration": 0.014889,
          "end_time": "2023-09-02T18:52:44.893778",
          "exception": false,
          "start_time": "2023-09-02T18:52:44.878889",
          "status": "completed"
        },
        "tags": []
      },
      "outputs": [],
      "source": [
        "Float = Union[float, Array]"
      ]
    },
    {
      "cell_type": "markdown",
      "id": "bdfd6200",
      "metadata": {
        "papermill": {
          "duration": 0.009638,
          "end_time": "2023-09-02T18:52:44.913041",
          "exception": false,
          "start_time": "2023-09-02T18:52:44.903403",
          "status": "completed"
        },
        "tags": []
      },
      "source": [
        "### ComplexFloat"
      ]
    },
    {
      "cell_type": "markdown",
      "id": "b1a7d255",
      "metadata": {
        "papermill": {
          "duration": 0.009531,
          "end_time": "2023-09-02T18:52:44.932076",
          "exception": false,
          "start_time": "2023-09-02T18:52:44.922545",
          "status": "completed"
        },
        "tags": []
      },
      "source": [
        "A `ComplexFloat` is either a build-in `complex` or an Array [of dtype `complex`]:"
      ]
    },
    {
      "cell_type": "code",
      "execution_count": 7,
      "id": "88e341b044698973",
      "metadata": {
        "execution": {
          "iopub.execute_input": "2023-09-02T18:52:44.952681Z",
          "iopub.status.busy": "2023-09-02T18:52:44.952185Z",
          "iopub.status.idle": "2023-09-02T18:52:44.955157Z",
          "shell.execute_reply": "2023-09-02T18:52:44.954669Z"
        },
        "papermill": {
          "duration": 0.014892,
          "end_time": "2023-09-02T18:52:44.956443",
          "exception": false,
          "start_time": "2023-09-02T18:52:44.941551",
          "status": "completed"
        },
        "tags": []
      },
      "outputs": [],
      "source": [
        "ComplexFloat = Union[complex, Float]"
      ]
    },
    {
      "cell_type": "markdown",
      "id": "1f1aa099",
      "metadata": {
        "papermill": {
          "duration": 0.009541,
          "end_time": "2023-09-02T18:52:44.975519",
          "exception": false,
          "start_time": "2023-09-02T18:52:44.965978",
          "status": "completed"
        },
        "tags": []
      },
      "source": [
        "### Settings"
      ]
    },
    {
      "cell_type": "markdown",
      "id": "69839acd",
      "metadata": {
        "papermill": {
          "duration": 0.00955,
          "end_time": "2023-09-02T18:52:44.994565",
          "exception": false,
          "start_time": "2023-09-02T18:52:44.985015",
          "status": "completed"
        },
        "tags": []
      },
      "source": [
        "A `Settings` dictionary is a nested mapping between setting names [`str`] to either `ComplexFloat` values OR to another lower level `Settings` dictionary."
      ]
    },
    {
      "cell_type": "code",
      "execution_count": 8,
      "id": "9876b4946c2d29f2",
      "metadata": {
        "execution": {
          "iopub.execute_input": "2023-09-02T18:52:45.015349Z",
          "iopub.status.busy": "2023-09-02T18:52:45.014884Z",
          "iopub.status.idle": "2023-09-02T18:52:45.017849Z",
          "shell.execute_reply": "2023-09-02T18:52:45.017438Z"
        },
        "papermill": {
          "duration": 0.014825,
          "end_time": "2023-09-02T18:52:45.019038",
          "exception": false,
          "start_time": "2023-09-02T18:52:45.004213",
          "status": "completed"
        },
        "tags": []
      },
      "outputs": [],
      "source": [
        "Settings = Union[Dict[str, ComplexFloat], Dict[str, \"Settings\"]]"
      ]
    },
    {
      "cell_type": "markdown",
      "id": "cf202d06",
      "metadata": {
        "papermill": {
          "duration": 0.009562,
          "end_time": "2023-09-02T18:52:45.038125",
          "exception": false,
          "start_time": "2023-09-02T18:52:45.028563",
          "status": "completed"
        },
        "tags": []
      },
      "source": [
        "Settings dictionaries are used to parametrize a SAX `Model` or a `circuit`. The settings dictionary should have the same hierarchy levels as the circuit:\n",
        " \n",
        " > Example:"
      ]
    },
    {
      "cell_type": "code",
      "execution_count": 9,
      "id": "2b26c4ab",
      "metadata": {
        "execution": {
          "iopub.execute_input": "2023-09-02T18:52:45.058931Z",
          "iopub.status.busy": "2023-09-02T18:52:45.058387Z",
          "iopub.status.idle": "2023-09-02T18:52:45.061420Z",
          "shell.execute_reply": "2023-09-02T18:52:45.061053Z"
        },
        "papermill": {
          "duration": 0.014967,
          "end_time": "2023-09-02T18:52:45.062619",
          "exception": false,
          "start_time": "2023-09-02T18:52:45.047652",
          "status": "completed"
        },
        "tags": []
      },
      "outputs": [],
      "source": [
        "mzi_settings = {\n",
        "    \"wl\": 1.5,  # global settings\n",
        "    \"lft\": {\"coupling\": 0.5},  # settings for the left coupler\n",
        "    \"top\": {\"neff\": 3.4},  # settings for the top waveguide\n",
        "    \"rgt\": {\"coupling\": 0.3},  # settings for the right coupler\n",
        "}"
      ]
    },
    {
      "cell_type": "markdown",
      "id": "45043912",
      "metadata": {
        "papermill": {
          "duration": 0.009588,
          "end_time": "2023-09-02T18:52:45.081823",
          "exception": false,
          "start_time": "2023-09-02T18:52:45.072235",
          "status": "completed"
        },
        "tags": []
      },
      "source": [
        "### SDict"
      ]
    },
    {
      "cell_type": "markdown",
      "id": "c5a7facf",
      "metadata": {
        "papermill": {
          "duration": 0.009504,
          "end_time": "2023-09-02T18:52:45.100893",
          "exception": false,
          "start_time": "2023-09-02T18:52:45.091389",
          "status": "completed"
        },
        "tags": []
      },
      "source": [
        "An `SDict` is a sparse dictionary based representation of an S-matrix, mapping port name tuples such as `('in0', 'out0')` to `ComplexFloat`."
      ]
    },
    {
      "cell_type": "code",
      "execution_count": 10,
      "id": "e4f4806b5ed248df",
      "metadata": {
        "execution": {
          "iopub.execute_input": "2023-09-02T18:52:45.121941Z",
          "iopub.status.busy": "2023-09-02T18:52:45.121282Z",
          "iopub.status.idle": "2023-09-02T18:52:45.124293Z",
          "shell.execute_reply": "2023-09-02T18:52:45.123837Z"
        },
        "papermill": {
          "duration": 0.014932,
          "end_time": "2023-09-02T18:52:45.125521",
          "exception": false,
          "start_time": "2023-09-02T18:52:45.110589",
          "status": "completed"
        },
        "tags": []
      },
      "outputs": [],
      "source": [
        "SDict = Dict[Tuple[str, str], ComplexFloat]"
      ]
    },
    {
      "cell_type": "markdown",
      "id": "07dc470a",
      "metadata": {
        "papermill": {
          "duration": 0.009552,
          "end_time": "2023-09-02T18:52:45.144662",
          "exception": false,
          "start_time": "2023-09-02T18:52:45.135110",
          "status": "completed"
        },
        "tags": []
      },
      "source": [
        "> Example:"
      ]
    },
    {
      "cell_type": "code",
      "execution_count": 11,
      "id": "ad65a70c",
      "metadata": {
        "execution": {
          "iopub.execute_input": "2023-09-02T18:52:45.165335Z",
          "iopub.status.busy": "2023-09-02T18:52:45.164928Z",
          "iopub.status.idle": "2023-09-02T18:52:45.167870Z",
          "shell.execute_reply": "2023-09-02T18:52:45.167514Z"
        },
        "papermill": {
          "duration": 0.015214,
          "end_time": "2023-09-02T18:52:45.169466",
          "exception": false,
          "start_time": "2023-09-02T18:52:45.154252",
          "status": "completed"
        },
        "tags": []
      },
      "outputs": [
        {
          "name": "stdout",
          "output_type": "stream",
          "text": [
            "{('in0', 'out0'): 3.0}\n"
          ]
        }
      ],
      "source": [
        "_sdict: SDict = {\n",
        "    (\"in0\", \"out0\"): 3.0,\n",
        "}\n",
        "print(_sdict)"
      ]
    },
    {
      "cell_type": "markdown",
      "id": "0e2c7430",
      "metadata": {
        "papermill": {
          "duration": 0.009702,
          "end_time": "2023-09-02T18:52:45.188874",
          "exception": false,
          "start_time": "2023-09-02T18:52:45.179172",
          "status": "completed"
        },
        "tags": []
      },
      "source": [
        "### SCoo"
      ]
    },
    {
      "cell_type": "markdown",
      "id": "ef614e1d",
      "metadata": {
        "papermill": {
          "duration": 0.009749,
          "end_time": "2023-09-02T18:52:45.208367",
          "exception": false,
          "start_time": "2023-09-02T18:52:45.198618",
          "status": "completed"
        },
        "tags": []
      },
      "source": [
        "An `SCoo` is a sparse matrix based representation of an S-matrix consisting of three arrays and a port map. The three arrays represent the input port indices [`int`], output port indices [`int`] and the S-matrix values [`ComplexFloat`] of the sparse matrix. The port map maps a port name [`str`] to a port index [`int`]. Only these four arrays **together** and in this specific **order** are considered a valid `SCoo` representation!"
      ]
    },
    {
      "cell_type": "code",
      "execution_count": 12,
      "id": "e3b930e535d512ed",
      "metadata": {
        "execution": {
          "iopub.execute_input": "2023-09-02T18:52:45.229819Z",
          "iopub.status.busy": "2023-09-02T18:52:45.229336Z",
          "iopub.status.idle": "2023-09-02T18:52:45.232281Z",
          "shell.execute_reply": "2023-09-02T18:52:45.231863Z"
        },
        "papermill": {
          "duration": 0.015169,
          "end_time": "2023-09-02T18:52:45.233514",
          "exception": false,
          "start_time": "2023-09-02T18:52:45.218345",
          "status": "completed"
        },
        "tags": []
      },
      "outputs": [],
      "source": [
        "SCoo = Tuple[Array, Array, ComplexFloat, Dict[str, int]]"
      ]
    },
    {
      "cell_type": "markdown",
      "id": "ff9719c8",
      "metadata": {
        "papermill": {
          "duration": 0.009803,
          "end_time": "2023-09-02T18:52:45.253104",
          "exception": false,
          "start_time": "2023-09-02T18:52:45.243301",
          "status": "completed"
        },
        "tags": []
      },
      "source": [
        "> Example:"
      ]
    },
    {
      "cell_type": "code",
      "execution_count": 13,
      "id": "972f8060",
      "metadata": {
        "execution": {
          "iopub.execute_input": "2023-09-02T18:52:45.274372Z",
          "iopub.status.busy": "2023-09-02T18:52:45.273722Z",
          "iopub.status.idle": "2023-09-02T18:52:45.303021Z",
          "shell.execute_reply": "2023-09-02T18:52:45.302667Z"
        },
        "papermill": {
          "duration": 0.041394,
          "end_time": "2023-09-02T18:52:45.304276",
          "exception": false,
          "start_time": "2023-09-02T18:52:45.262882",
          "status": "completed"
        },
        "tags": []
      },
      "outputs": [
        {
          "name": "stdout",
          "output_type": "stream",
          "text": [
            "[0 1 2]\n",
            "[0 1 0]\n",
            "[3. 4. 1.]\n",
            "{'in0': 0, 'in1': 2, 'out0': 1}\n"
          ]
        }
      ],
      "source": [
        "Si = jnp.arange(3, dtype=int)\n",
        "Sj = jnp.array([0, 1, 0], dtype=int)\n",
        "Sx = jnp.array([3.0, 4.0, 1.0])\n",
        "port_map = {\"in0\": 0, \"in1\": 2, \"out0\": 1}\n",
        "_scoo: SCoo = (Si, Sj, Sx, port_map)\n",
        "print(Si)\n",
        "print(Sj)\n",
        "print(Sx)\n",
        "print(port_map)"
      ]
    },
    {
      "cell_type": "markdown",
      "id": "2cba9246",
      "metadata": {
        "papermill": {
          "duration": 0.009929,
          "end_time": "2023-09-02T18:52:45.324321",
          "exception": false,
          "start_time": "2023-09-02T18:52:45.314392",
          "status": "completed"
        },
        "tags": []
      },
      "source": [
        "### SDense"
      ]
    },
    {
      "cell_type": "markdown",
      "id": "fd28795b",
      "metadata": {
        "papermill": {
          "duration": 0.009865,
          "end_time": "2023-09-02T18:52:45.344052",
          "exception": false,
          "start_time": "2023-09-02T18:52:45.334187",
          "status": "completed"
        },
        "tags": []
      },
      "source": [
        "an `SDense` is a dense matrix representation of an S-matrix. It's represented by an NxN `ComplexFloat` array and a port map (mapping port names onto port indices)."
      ]
    },
    {
      "cell_type": "code",
      "execution_count": 14,
      "id": "350efb48eb671f8e",
      "metadata": {
        "execution": {
          "iopub.execute_input": "2023-09-02T18:52:45.365824Z",
          "iopub.status.busy": "2023-09-02T18:52:45.365321Z",
          "iopub.status.idle": "2023-09-02T18:52:45.368278Z",
          "shell.execute_reply": "2023-09-02T18:52:45.367895Z"
        },
        "papermill": {
          "duration": 0.015358,
          "end_time": "2023-09-02T18:52:45.369396",
          "exception": false,
          "start_time": "2023-09-02T18:52:45.354038",
          "status": "completed"
        },
        "tags": []
      },
      "outputs": [],
      "source": [
        "SDense = Tuple[Array, Dict[str, int]]"
      ]
    },
    {
      "cell_type": "markdown",
      "id": "2c4789f7",
      "metadata": {
        "papermill": {
          "duration": 0.00985,
          "end_time": "2023-09-02T18:52:45.389117",
          "exception": false,
          "start_time": "2023-09-02T18:52:45.379267",
          "status": "completed"
        },
        "tags": []
      },
      "source": [
        "> Example:"
      ]
    },
    {
      "cell_type": "code",
      "execution_count": 15,
      "id": "02def7ed",
      "metadata": {
        "execution": {
          "iopub.execute_input": "2023-09-02T18:52:45.410772Z",
          "iopub.status.busy": "2023-09-02T18:52:45.410073Z",
          "iopub.status.idle": "2023-09-02T18:52:45.439590Z",
          "shell.execute_reply": "2023-09-02T18:52:45.439091Z"
        },
        "papermill": {
          "duration": 0.041924,
          "end_time": "2023-09-02T18:52:45.440981",
          "exception": false,
          "start_time": "2023-09-02T18:52:45.399057",
          "status": "completed"
        },
        "tags": []
      },
      "outputs": [
        {
          "name": "stdout",
          "output_type": "stream",
          "text": [
            "[[0. 1. 2.]\n",
            " [3. 4. 5.]\n",
            " [6. 7. 8.]]\n",
            "{'in0': 0, 'in1': 2, 'out0': 1}\n"
          ]
        }
      ],
      "source": [
        "Sd = jnp.arange(9, dtype=float).reshape(3, 3)\n",
        "port_map = {\"in0\": 0, \"in1\": 2, \"out0\": 1}\n",
        "_sdense = Sd, port_map\n",
        "print(Sd)\n",
        "print(port_map)"
      ]
    },
    {
      "cell_type": "markdown",
      "id": "b0d2e36f",
      "metadata": {
        "papermill": {
          "duration": 0.010129,
          "end_time": "2023-09-02T18:52:45.461976",
          "exception": false,
          "start_time": "2023-09-02T18:52:45.451847",
          "status": "completed"
        },
        "tags": []
      },
      "source": [
        "### SType"
      ]
    },
    {
      "cell_type": "markdown",
      "id": "b441f21d",
      "metadata": {
        "papermill": {
          "duration": 0.010021,
          "end_time": "2023-09-02T18:52:45.482039",
          "exception": false,
          "start_time": "2023-09-02T18:52:45.472018",
          "status": "completed"
        },
        "tags": []
      },
      "source": [
        "an `SType` is either an `SDict` **OR** an `SCoo` **OR** an `SDense`:"
      ]
    },
    {
      "cell_type": "code",
      "execution_count": 16,
      "id": "1fe0bad589aab491",
      "metadata": {
        "execution": {
          "iopub.execute_input": "2023-09-02T18:52:45.503838Z",
          "iopub.status.busy": "2023-09-02T18:52:45.503372Z",
          "iopub.status.idle": "2023-09-02T18:52:45.506192Z",
          "shell.execute_reply": "2023-09-02T18:52:45.505733Z"
        },
        "papermill": {
          "duration": 0.015254,
          "end_time": "2023-09-02T18:52:45.507427",
          "exception": false,
          "start_time": "2023-09-02T18:52:45.492173",
          "status": "completed"
        },
        "tags": []
      },
      "outputs": [],
      "source": [
        "SType = Union[SDict, SCoo, SDense]"
      ]
    },
    {
      "cell_type": "markdown",
      "id": "e0561b07",
      "metadata": {
        "papermill": {
          "duration": 0.010099,
          "end_time": "2023-09-02T18:52:45.527525",
          "exception": false,
          "start_time": "2023-09-02T18:52:45.517426",
          "status": "completed"
        },
        "tags": []
      },
      "source": [
        "> Example:"
      ]
    },
    {
      "cell_type": "code",
      "execution_count": 17,
      "id": "5b52a5f2",
      "metadata": {
        "execution": {
          "iopub.execute_input": "2023-09-02T18:52:45.549348Z",
          "iopub.status.busy": "2023-09-02T18:52:45.548733Z",
          "iopub.status.idle": "2023-09-02T18:52:45.551756Z",
          "shell.execute_reply": "2023-09-02T18:52:45.551298Z"
        },
        "papermill": {
          "duration": 0.01548,
          "end_time": "2023-09-02T18:52:45.553055",
          "exception": false,
          "start_time": "2023-09-02T18:52:45.537575",
          "status": "completed"
        },
        "tags": []
      },
      "outputs": [],
      "source": [
        "obj: SType = _sdict\n",
        "obj: SType = _scoo\n",
        "obj: SType = _sdense"
      ]
    },
    {
      "cell_type": "markdown",
      "id": "afabe91b",
      "metadata": {
        "papermill": {
          "duration": 0.010052,
          "end_time": "2023-09-02T18:52:45.573918",
          "exception": false,
          "start_time": "2023-09-02T18:52:45.563866",
          "status": "completed"
        },
        "tags": []
      },
      "source": [
        "### Model"
      ]
    },
    {
      "cell_type": "markdown",
      "id": "13808fb1",
      "metadata": {
        "papermill": {
          "duration": 0.010038,
          "end_time": "2023-09-02T18:52:45.593989",
          "exception": false,
          "start_time": "2023-09-02T18:52:45.583951",
          "status": "completed"
        },
        "tags": []
      },
      "source": [
        "A `Model` is any keyword-only function that returns an `SType`:"
      ]
    },
    {
      "cell_type": "code",
      "execution_count": 18,
      "id": "784f38b77be68102",
      "metadata": {
        "execution": {
          "iopub.execute_input": "2023-09-02T18:52:45.616031Z",
          "iopub.status.busy": "2023-09-02T18:52:45.615560Z",
          "iopub.status.idle": "2023-09-02T18:52:45.618379Z",
          "shell.execute_reply": "2023-09-02T18:52:45.617947Z"
        },
        "papermill": {
          "duration": 0.015382,
          "end_time": "2023-09-02T18:52:45.619548",
          "exception": false,
          "start_time": "2023-09-02T18:52:45.604166",
          "status": "completed"
        },
        "tags": []
      },
      "outputs": [],
      "source": [
        "Model = Callable[..., SType]"
      ]
    },
    {
      "cell_type": "markdown",
      "id": "fad534fb",
      "metadata": {
        "papermill": {
          "duration": 0.01005,
          "end_time": "2023-09-02T18:52:45.639630",
          "exception": false,
          "start_time": "2023-09-02T18:52:45.629580",
          "status": "completed"
        },
        "tags": []
      },
      "source": [
        "### ModelFactory"
      ]
    },
    {
      "cell_type": "markdown",
      "id": "85781647",
      "metadata": {
        "papermill": {
          "duration": 0.010029,
          "end_time": "2023-09-02T18:52:45.659693",
          "exception": false,
          "start_time": "2023-09-02T18:52:45.649664",
          "status": "completed"
        },
        "tags": []
      },
      "source": [
        "A `ModelFactory` is any keyword-only function that returns a `Model`:"
      ]
    },
    {
      "cell_type": "code",
      "execution_count": 19,
      "id": "8901c73a31e3fa20",
      "metadata": {
        "execution": {
          "iopub.execute_input": "2023-09-02T18:52:45.681484Z",
          "iopub.status.busy": "2023-09-02T18:52:45.680882Z",
          "iopub.status.idle": "2023-09-02T18:52:45.683815Z",
          "shell.execute_reply": "2023-09-02T18:52:45.683406Z"
        },
        "papermill": {
          "duration": 0.0154,
          "end_time": "2023-09-02T18:52:45.685139",
          "exception": false,
          "start_time": "2023-09-02T18:52:45.669739",
          "status": "completed"
        },
        "tags": []
      },
      "outputs": [],
      "source": [
        "ModelFactory = Callable[..., Model]"
      ]
    },
    {
      "cell_type": "markdown",
      "id": "353d8506",
      "metadata": {
        "papermill": {
          "duration": 0.010085,
          "end_time": "2023-09-02T18:52:45.705315",
          "exception": false,
          "start_time": "2023-09-02T18:52:45.695230",
          "status": "completed"
        },
        "tags": []
      },
      "source": [
        "> Note: SAX sometimes needs to figure out the difference between a `ModelFactory` and a normal `Model` *before* running the function. To do this, SAX will check the return annotation of the function. Any function with a `-> Model` or `-> Callable` annotation will be considered a `ModelFactory`. Any function without this annotation will be considered a normal Model: **don't forget the return annotation of your Model Factory!** To ensure a correct annotation and to ensure forward compatibility, it's recommended to decorate your `ModelFactory` with the `modelfactory` decorator."
      ]
    },
    {
      "cell_type": "markdown",
      "id": "b32b5a31",
      "metadata": {
        "papermill": {
          "duration": 0.010318,
          "end_time": "2023-09-02T18:52:45.725830",
          "exception": false,
          "start_time": "2023-09-02T18:52:45.715512",
          "status": "completed"
        },
        "tags": []
      },
      "source": [
        "### Models"
      ]
    },
    {
      "cell_type": "markdown",
      "id": "a796dcb2",
      "metadata": {
        "papermill": {
          "duration": 0.010033,
          "end_time": "2023-09-02T18:52:45.745895",
          "exception": false,
          "start_time": "2023-09-02T18:52:45.735862",
          "status": "completed"
        },
        "tags": []
      },
      "source": [
        "`Models` is a mapping between model names [`str`] and a `Model`:"
      ]
    },
    {
      "cell_type": "code",
      "execution_count": 20,
      "id": "04be8dc5eaca8346",
      "metadata": {
        "execution": {
          "iopub.execute_input": "2023-09-02T18:52:45.767621Z",
          "iopub.status.busy": "2023-09-02T18:52:45.767017Z",
          "iopub.status.idle": "2023-09-02T18:52:45.769934Z",
          "shell.execute_reply": "2023-09-02T18:52:45.769463Z"
        },
        "papermill": {
          "duration": 0.015171,
          "end_time": "2023-09-02T18:52:45.771120",
          "exception": false,
          "start_time": "2023-09-02T18:52:45.755949",
          "status": "completed"
        },
        "tags": []
      },
      "outputs": [],
      "source": [
        "Models = Dict[str, Model]"
      ]
    },
    {
      "cell_type": "markdown",
      "id": "ed1af61c",
      "metadata": {
        "papermill": {
          "duration": 0.010064,
          "end_time": "2023-09-02T18:52:45.791247",
          "exception": false,
          "start_time": "2023-09-02T18:52:45.781183",
          "status": "completed"
        },
        "tags": []
      },
      "source": [
        "> Note: sometimes 'component' is used to refer to a a `Model` or `GeneralModel`. This is because other tools (such as for example GDSFactory) prefer that terminology."
      ]
    },
    {
      "cell_type": "markdown",
      "id": "5d276f63",
      "metadata": {
        "papermill": {
          "duration": 0.010397,
          "end_time": "2023-09-02T18:52:45.811763",
          "exception": false,
          "start_time": "2023-09-02T18:52:45.801366",
          "status": "completed"
        },
        "tags": []
      },
      "source": [
        "## Netlist Types\n",
        "\n",
        "Netlist types are moved [here](06_netlist.ipynb)."
      ]
    },
    {
      "cell_type": "markdown",
      "id": "dbcb4447",
      "metadata": {
        "papermill": {
          "duration": 0.010299,
          "end_time": "2023-09-02T18:52:45.832296",
          "exception": false,
          "start_time": "2023-09-02T18:52:45.821997",
          "status": "completed"
        },
        "tags": []
      },
      "source": [
        "## Validation and runtime type-checking:\n",
        "> Note: the type-checking functions below are **NOT** very tight and hence should be used within the right context!"
      ]
    },
    {
      "cell_type": "markdown",
      "id": "5575a7bd9014b2ed",
      "metadata": {},
      "source": [
        ":::{eval-rst}\n",
        ".. autofunction:: sax.typing_.is_float\n",
        ":::\n"
      ]
    },
    {
      "cell_type": "code",
      "execution_count": 21,
      "id": "a0bc64871eaf88de",
      "metadata": {
        "execution": {
          "iopub.execute_input": "2023-09-02T18:52:45.853944Z",
          "iopub.status.busy": "2023-09-02T18:52:45.853463Z",
          "iopub.status.idle": "2023-09-02T18:52:45.857572Z",
          "shell.execute_reply": "2023-09-02T18:52:45.857064Z"
        },
        "papermill": {
          "duration": 0.016387,
          "end_time": "2023-09-02T18:52:45.858748",
          "exception": false,
          "start_time": "2023-09-02T18:52:45.842361",
          "status": "completed"
        },
        "tags": [
          "hide-input"
        ]
      },
      "outputs": [],
      "source": [
        "def is_float(x: Any) -> bool:\n",
        "    \"\"\"Check if an object is a `Float`\"\"\"\n",
        "    if isinstance(x, float):\n",
        "        return True\n",
        "    if isinstance(x, np.ndarray):\n",
        "        return x.dtype in (np.float16, np.float32, np.float64, np.float128)\n",
        "    if isinstance(x, jnp.ndarray):\n",
        "        return x.dtype in (jnp.float16, jnp.float32, jnp.float64)\n",
        "    return False"
      ]
    },
    {
      "cell_type": "code",
      "execution_count": 22,
      "id": "28374448",
      "metadata": {
        "execution": {
          "iopub.execute_input": "2023-09-02T18:52:45.880392Z",
          "iopub.status.busy": "2023-09-02T18:52:45.879861Z",
          "iopub.status.idle": "2023-09-02T18:52:45.884923Z",
          "shell.execute_reply": "2023-09-02T18:52:45.884551Z"
        },
        "papermill": {
          "duration": 0.017284,
          "end_time": "2023-09-02T18:52:45.886135",
          "exception": false,
          "start_time": "2023-09-02T18:52:45.868851",
          "status": "completed"
        },
        "tags": []
      },
      "outputs": [],
      "source": [
        "assert is_float(3.0)\n",
        "assert not is_float(3)\n",
        "assert not is_float(3.0 + 2j)\n",
        "assert not is_float(jnp.array(3.0, dtype=complex))\n",
        "assert not is_float(jnp.array(3, dtype=int))"
      ]
    },
    {
      "cell_type": "markdown",
      "id": "c1c9f337e3e2c17a",
      "metadata": {},
      "source": [
        ":::{eval-rst}\n",
        ".. autofunction:: sax.typing_.is_complex\n",
        ":::\n"
      ]
    },
    {
      "cell_type": "code",
      "execution_count": 23,
      "id": "d36f58e2a2372208",
      "metadata": {
        "execution": {
          "iopub.execute_input": "2023-09-02T18:52:45.907657Z",
          "iopub.status.busy": "2023-09-02T18:52:45.907173Z",
          "iopub.status.idle": "2023-09-02T18:52:45.910561Z",
          "shell.execute_reply": "2023-09-02T18:52:45.910168Z"
        },
        "papermill": {
          "duration": 0.015513,
          "end_time": "2023-09-02T18:52:45.911774",
          "exception": false,
          "start_time": "2023-09-02T18:52:45.896261",
          "status": "completed"
        },
        "tags": [
          "hide-input"
        ]
      },
      "outputs": [],
      "source": [
        "def is_complex(x: Any) -> bool:\n",
        "    \"\"\"check if an object is a `ComplexFloat`\"\"\"\n",
        "    if isinstance(x, complex):\n",
        "        return True\n",
        "    if isinstance(x, np.ndarray):\n",
        "        return x.dtype in (np.complex64, np.complex128)\n",
        "    if isinstance(x, jnp.ndarray):\n",
        "        return x.dtype in (jnp.complex64, jnp.complex128)\n",
        "    return False"
      ]
    },
    {
      "cell_type": "code",
      "execution_count": 24,
      "id": "d81a703d",
      "metadata": {
        "execution": {
          "iopub.execute_input": "2023-09-02T18:52:45.933384Z",
          "iopub.status.busy": "2023-09-02T18:52:45.932968Z",
          "iopub.status.idle": "2023-09-02T18:52:45.937155Z",
          "shell.execute_reply": "2023-09-02T18:52:45.936743Z"
        },
        "papermill": {
          "duration": 0.016374,
          "end_time": "2023-09-02T18:52:45.938345",
          "exception": false,
          "start_time": "2023-09-02T18:52:45.921971",
          "status": "completed"
        },
        "tags": []
      },
      "outputs": [],
      "source": [
        "assert not is_complex(3.0)\n",
        "assert not is_complex(3)\n",
        "assert is_complex(3.0 + 2j)\n",
        "assert is_complex(jnp.array(3.0, dtype=complex))\n",
        "assert not is_complex(jnp.array(3, dtype=int))"
      ]
    },
    {
      "cell_type": "markdown",
      "id": "1ea86e3ec3fb1e98",
      "metadata": {},
      "source": [
        ":::{eval-rst}\n",
        ".. autofunction:: sax.typing_.is_complex_float\n",
        ":::\n"
      ]
    },
    {
      "cell_type": "code",
      "execution_count": 25,
      "id": "bd1bc9ac044fe324",
      "metadata": {
        "execution": {
          "iopub.execute_input": "2023-09-02T18:52:45.960266Z",
          "iopub.status.busy": "2023-09-02T18:52:45.959885Z",
          "iopub.status.idle": "2023-09-02T18:52:45.962549Z",
          "shell.execute_reply": "2023-09-02T18:52:45.962180Z"
        },
        "papermill": {
          "duration": 0.015021,
          "end_time": "2023-09-02T18:52:45.963710",
          "exception": false,
          "start_time": "2023-09-02T18:52:45.948689",
          "status": "completed"
        },
        "tags": [
          "hide-input"
        ]
      },
      "outputs": [],
      "source": [
        "def is_complex_float(x: Any) -> bool:\n",
        "    \"\"\"check if an object is either a `ComplexFloat` or a `Float`\"\"\"\n",
        "    return is_float(x) or is_complex(x)"
      ]
    },
    {
      "cell_type": "code",
      "execution_count": 26,
      "id": "c533ff0d",
      "metadata": {
        "execution": {
          "iopub.execute_input": "2023-09-02T18:52:45.985537Z",
          "iopub.status.busy": "2023-09-02T18:52:45.985042Z",
          "iopub.status.idle": "2023-09-02T18:52:45.988742Z",
          "shell.execute_reply": "2023-09-02T18:52:45.988398Z"
        },
        "papermill": {
          "duration": 0.016019,
          "end_time": "2023-09-02T18:52:45.989960",
          "exception": false,
          "start_time": "2023-09-02T18:52:45.973941",
          "status": "completed"
        },
        "tags": []
      },
      "outputs": [],
      "source": [
        "assert is_complex_float(3.0)\n",
        "assert not is_complex_float(3)\n",
        "assert is_complex_float(3.0 + 2j)\n",
        "assert is_complex_float(jnp.array(3.0, dtype=complex))\n",
        "assert not is_complex_float(jnp.array(3, dtype=int))"
      ]
    },
    {
      "cell_type": "markdown",
      "id": "e0f1eaf912308795",
      "metadata": {},
      "source": [
        ":::{eval-rst}\n",
        ".. autofunction:: sax.typing_.is_sdict\n",
        ":::\n"
      ]
    },
    {
      "cell_type": "code",
      "execution_count": 27,
      "id": "1f230306b7a5f9b6",
      "metadata": {
        "execution": {
          "iopub.execute_input": "2023-09-02T18:52:46.011698Z",
          "iopub.status.busy": "2023-09-02T18:52:46.011200Z",
          "iopub.status.idle": "2023-09-02T18:52:46.014028Z",
          "shell.execute_reply": "2023-09-02T18:52:46.013541Z"
        },
        "papermill": {
          "duration": 0.015084,
          "end_time": "2023-09-02T18:52:46.015271",
          "exception": false,
          "start_time": "2023-09-02T18:52:46.000187",
          "status": "completed"
        },
        "tags": [
          "hide-input"
        ]
      },
      "outputs": [],
      "source": [
        "def is_sdict(x: Any) -> bool:\n",
        "    \"\"\"check if an object is an `SDict` (a SAX S-dictionary)\"\"\"\n",
        "    return isinstance(x, dict)"
      ]
    },
    {
      "cell_type": "code",
      "execution_count": 28,
      "id": "cb0365dc",
      "metadata": {
        "execution": {
          "iopub.execute_input": "2023-09-02T18:52:46.037237Z",
          "iopub.status.busy": "2023-09-02T18:52:46.036715Z",
          "iopub.status.idle": "2023-09-02T18:52:46.039557Z",
          "shell.execute_reply": "2023-09-02T18:52:46.039156Z"
        },
        "papermill": {
          "duration": 0.015202,
          "end_time": "2023-09-02T18:52:46.040730",
          "exception": false,
          "start_time": "2023-09-02T18:52:46.025528",
          "status": "completed"
        },
        "tags": []
      },
      "outputs": [],
      "source": [
        "assert not is_sdict(object())\n",
        "assert is_sdict(_sdict)\n",
        "assert not is_sdict(_scoo)\n",
        "assert not is_sdict(_sdense)"
      ]
    },
    {
      "cell_type": "markdown",
      "id": "1cb8280caf28fc0b",
      "metadata": {},
      "source": [
        ":::{eval-rst}\n",
        ".. autofunction:: sax.typing_.is_scoo\n",
        ":::\n"
      ]
    },
    {
      "cell_type": "code",
      "execution_count": 29,
      "id": "5ff6394940dbdb4e",
      "metadata": {
        "execution": {
          "iopub.execute_input": "2023-09-02T18:52:46.063468Z",
          "iopub.status.busy": "2023-09-02T18:52:46.062930Z",
          "iopub.status.idle": "2023-09-02T18:52:46.066011Z",
          "shell.execute_reply": "2023-09-02T18:52:46.065574Z"
        },
        "papermill": {
          "duration": 0.016069,
          "end_time": "2023-09-02T18:52:46.067353",
          "exception": false,
          "start_time": "2023-09-02T18:52:46.051284",
          "status": "completed"
        },
        "tags": [
          "hide-input"
        ]
      },
      "outputs": [],
      "source": [
        "def is_scoo(x: Any) -> bool:\n",
        "    \"\"\"check if an object is an `SCoo` (a SAX sparse S-matrix representation in COO-format)\"\"\"\n",
        "    return isinstance(x, (tuple, list)) and len(x) == 4"
      ]
    },
    {
      "cell_type": "code",
      "execution_count": 30,
      "id": "9ea0239a",
      "metadata": {
        "execution": {
          "iopub.execute_input": "2023-09-02T18:52:46.090017Z",
          "iopub.status.busy": "2023-09-02T18:52:46.089549Z",
          "iopub.status.idle": "2023-09-02T18:52:46.093239Z",
          "shell.execute_reply": "2023-09-02T18:52:46.092797Z"
        },
        "papermill": {
          "duration": 0.016477,
          "end_time": "2023-09-02T18:52:46.094453",
          "exception": false,
          "start_time": "2023-09-02T18:52:46.077976",
          "status": "completed"
        },
        "tags": []
      },
      "outputs": [],
      "source": [
        "assert not is_scoo(object)\n",
        "assert not is_scoo(_sdict)\n",
        "assert is_scoo(_scoo)\n",
        "assert not is_scoo(_sdense)"
      ]
    },
    {
      "cell_type": "markdown",
      "id": "ae1da6f64e3b2aa3",
      "metadata": {},
      "source": [
        ":::{eval-rst}\n",
        ".. autofunction:: sax.typing_.is_sdense\n",
        ":::\n"
      ]
    },
    {
      "cell_type": "code",
      "execution_count": 31,
      "id": "45607c68b3c2c4ad",
      "metadata": {
        "execution": {
          "iopub.execute_input": "2023-09-02T18:52:46.116529Z",
          "iopub.status.busy": "2023-09-02T18:52:46.116137Z",
          "iopub.status.idle": "2023-09-02T18:52:46.119060Z",
          "shell.execute_reply": "2023-09-02T18:52:46.118610Z"
        },
        "papermill": {
          "duration": 0.015369,
          "end_time": "2023-09-02T18:52:46.120222",
          "exception": false,
          "start_time": "2023-09-02T18:52:46.104853",
          "status": "completed"
        },
        "tags": [
          "hide-input"
        ]
      },
      "outputs": [],
      "source": [
        "def is_sdense(x: Any) -> bool:\n",
        "    \"\"\"check if an object is an `SDense` (a SAX dense S-matrix representation)\"\"\"\n",
        "    return isinstance(x, (tuple, list)) and len(x) == 2"
      ]
    },
    {
      "cell_type": "code",
      "execution_count": 32,
      "id": "2eddd63a",
      "metadata": {
        "execution": {
          "iopub.execute_input": "2023-09-02T18:52:46.142378Z",
          "iopub.status.busy": "2023-09-02T18:52:46.141876Z",
          "iopub.status.idle": "2023-09-02T18:52:46.148382Z",
          "shell.execute_reply": "2023-09-02T18:52:46.147961Z"
        },
        "papermill": {
          "duration": 0.018911,
          "end_time": "2023-09-02T18:52:46.149528",
          "exception": false,
          "start_time": "2023-09-02T18:52:46.130617",
          "status": "completed"
        },
        "tags": []
      },
      "outputs": [],
      "source": [
        "assert not is_sdense(object)\n",
        "assert not is_sdense(_sdict)\n",
        "assert not is_sdense(_scoo)\n",
        "assert is_sdense(_sdense)"
      ]
    },
    {
      "cell_type": "markdown",
      "id": "9c07f19fe1c06c08",
      "metadata": {},
      "source": [
        ":::{eval-rst}\n",
        ".. autofunction:: sax.typing_.is_model\n",
        ":::\n"
      ]
    },
    {
      "cell_type": "code",
      "execution_count": 33,
      "id": "fe32a595f14e91c1",
      "metadata": {
        "execution": {
          "iopub.execute_input": "2023-09-02T18:52:46.171891Z",
          "iopub.status.busy": "2023-09-02T18:52:46.171303Z",
          "iopub.status.idle": "2023-09-02T18:52:46.176604Z",
          "shell.execute_reply": "2023-09-02T18:52:46.176214Z"
        },
        "papermill": {
          "duration": 0.017748,
          "end_time": "2023-09-02T18:52:46.177727",
          "exception": false,
          "start_time": "2023-09-02T18:52:46.159979",
          "status": "completed"
        },
        "tags": [
          "hide-input"
        ]
      },
      "outputs": [],
      "source": [
        "def is_model(model: Any) -> bool:\n",
        "    \"\"\"check if a callable is a `Model` (a callable returning an `SType`)\"\"\"\n",
        "    if not callable(model):\n",
        "        return False\n",
        "    try:\n",
        "        sig = inspect.signature(model)\n",
        "    except ValueError:\n",
        "        return False\n",
        "    for param in sig.parameters.values():\n",
        "        if param.default is inspect.Parameter.empty:\n",
        "            return False  # a proper SAX model does not have any positional arguments.\n",
        "    if _is_callable_annotation(sig.return_annotation):  # model factory\n",
        "        return False\n",
        "    return True\n",
        "\n",
        "def _is_callable_annotation(annotation: Any) -> bool:\n",
        "    \"\"\"check if an annotation is `Callable`-like\"\"\"\n",
        "    if isinstance(annotation, str):\n",
        "        # happens when\n",
        "        # was imported at the top of the file...\n",
        "        return annotation.startswith(\"Callable\") or annotation.endswith(\"Model\")\n",
        "        # TODO: this is not a very robust check...\n",
        "    try:\n",
        "        return annotation.__origin__ == CallableABC\n",
        "    except AttributeError:\n",
        "        return False"
      ]
    },
    {
      "cell_type": "code",
      "execution_count": 34,
      "id": "dc87e5957a7659cc",
      "metadata": {
        "execution": {
          "iopub.execute_input": "2023-09-02T18:52:46.200110Z",
          "iopub.status.busy": "2023-09-02T18:52:46.199689Z",
          "iopub.status.idle": "2023-09-02T18:52:46.202236Z",
          "shell.execute_reply": "2023-09-02T18:52:46.201864Z"
        },
        "papermill": {
          "duration": 0.01522,
          "end_time": "2023-09-02T18:52:46.203415",
          "exception": false,
          "start_time": "2023-09-02T18:52:46.188195",
          "status": "completed"
        },
        "tags": [
          "remove-cell"
        ]
      },
      "outputs": [],
      "source": [
        "assert _is_callable_annotation(Callable)\n",
        "assert not _is_callable_annotation(SDict)"
      ]
    },
    {
      "cell_type": "code",
      "execution_count": 35,
      "id": "89bdb647",
      "metadata": {
        "execution": {
          "iopub.execute_input": "2023-09-02T18:52:46.226167Z",
          "iopub.status.busy": "2023-09-02T18:52:46.225623Z",
          "iopub.status.idle": "2023-09-02T18:52:46.243084Z",
          "shell.execute_reply": "2023-09-02T18:52:46.242651Z"
        },
        "papermill": {
          "duration": 0.030632,
          "end_time": "2023-09-02T18:52:46.244708",
          "exception": false,
          "start_time": "2023-09-02T18:52:46.214076",
          "status": "completed"
        },
        "tags": []
      },
      "outputs": [],
      "source": [
        "def good_model(x=jnp.array(3.0), y=jnp.array(4.0)) -> SDict:\n",
        "    return {(\"in0\", \"out0\"): jnp.array(3.0)}\n",
        "assert is_model(good_model)\n",
        "\n",
        "def bad_model(positional_argument, x=jnp.array(3.0), y=jnp.array(4.0)) -> SDict:\n",
        "    return {(\"in0\", \"out0\"): jnp.array(3.0)}\n",
        "assert not is_model(bad_model)"
      ]
    },
    {
      "cell_type": "markdown",
      "id": "c831cce139b43167",
      "metadata": {},
      "source": [
        ":::{eval-rst}\n",
        ".. autofunction:: sax.typing_.is_model_factory\n",
        ":::\n"
      ]
    },
    {
      "cell_type": "code",
      "execution_count": 36,
      "id": "de67b2a35a686c92",
      "metadata": {
        "execution": {
          "iopub.execute_input": "2023-09-02T18:52:46.267142Z",
          "iopub.status.busy": "2023-09-02T18:52:46.266732Z",
          "iopub.status.idle": "2023-09-02T18:52:46.270148Z",
          "shell.execute_reply": "2023-09-02T18:52:46.269694Z"
        },
        "papermill": {
          "duration": 0.015989,
          "end_time": "2023-09-02T18:52:46.271326",
          "exception": false,
          "start_time": "2023-09-02T18:52:46.255337",
          "status": "completed"
        },
        "tags": [
          "hide-input"
        ]
      },
      "outputs": [],
      "source": [
        "def is_model_factory(model: Any) -> bool:\n",
        "    \"\"\"check if a callable is a model function.\"\"\"\n",
        "    if not callable(model):\n",
        "        return False\n",
        "    sig = inspect.signature(model)\n",
        "    if _is_callable_annotation(sig.return_annotation):  # model factory\n",
        "        return True\n",
        "    return False"
      ]
    },
    {
      "cell_type": "markdown",
      "id": "1f9715ed",
      "metadata": {
        "papermill": {
          "duration": 0.010571,
          "end_time": "2023-09-02T18:52:46.292462",
          "exception": false,
          "start_time": "2023-09-02T18:52:46.281891",
          "status": "completed"
        },
        "tags": []
      },
      "source": [
        "> Note: For a `Callable` to be considered a `ModelFactory` in SAX, it **MUST** have a `Callable` or `Model` return annotation. Otherwise SAX will view it as a `Model` and things might break!"
      ]
    },
    {
      "cell_type": "code",
      "execution_count": 37,
      "id": "fe9cdff0",
      "metadata": {
        "execution": {
          "iopub.execute_input": "2023-09-02T18:52:46.315211Z",
          "iopub.status.busy": "2023-09-02T18:52:46.314613Z",
          "iopub.status.idle": "2023-09-02T18:52:46.318052Z",
          "shell.execute_reply": "2023-09-02T18:52:46.317563Z"
        },
        "papermill": {
          "duration": 0.016266,
          "end_time": "2023-09-02T18:52:46.319263",
          "exception": false,
          "start_time": "2023-09-02T18:52:46.302997",
          "status": "completed"
        },
        "tags": []
      },
      "outputs": [],
      "source": [
        "def func() -> Model:\n",
        "    ...\n",
        "    \n",
        "assert is_model_factory(func) # yes, we only check the annotation for now...\n",
        "\n",
        "def func():\n",
        "    ...\n",
        "    \n",
        "assert not is_model_factory(func) # yes, we only check the annotation for now..."
      ]
    },
    {
      "cell_type": "markdown",
      "id": "d37cb19ccc6d2467",
      "metadata": {},
      "source": [
        ":::{eval-rst}\n",
        ".. autofunction:: sax.typing_.validate_model\n",
        ":::\n"
      ]
    },
    {
      "cell_type": "code",
      "execution_count": 38,
      "id": "5d3b394492f609a6",
      "metadata": {
        "execution": {
          "iopub.execute_input": "2023-09-02T18:52:46.341778Z",
          "iopub.status.busy": "2023-09-02T18:52:46.341373Z",
          "iopub.status.idle": "2023-09-02T18:52:46.344640Z",
          "shell.execute_reply": "2023-09-02T18:52:46.344296Z"
        },
        "papermill": {
          "duration": 0.015941,
          "end_time": "2023-09-02T18:52:46.345860",
          "exception": false,
          "start_time": "2023-09-02T18:52:46.329919",
          "status": "completed"
        },
        "tags": [
          "hide-input"
        ]
      },
      "outputs": [],
      "source": [
        "def validate_model(model: Callable):\n",
        "    \"\"\"Validate the parameters of a model\"\"\"\n",
        "    positional_arguments = []\n",
        "    for param in inspect.signature(model).parameters.values():\n",
        "        if param.default is inspect.Parameter.empty:\n",
        "            positional_arguments.append(param.name)\n",
        "    if positional_arguments:\n",
        "        raise ValueError(\n",
        "            f\"model '{model}' takes positional arguments {', '.join(positional_arguments)} \"\n",
        "            \"and hence is not a valid SAX Model! A SAX model should ONLY take keyword arguments (or no arguments at all).\"\n",
        "        )"
      ]
    },
    {
      "cell_type": "code",
      "execution_count": 39,
      "id": "754399d5",
      "metadata": {
        "execution": {
          "iopub.execute_input": "2023-09-02T18:52:46.368459Z",
          "iopub.status.busy": "2023-09-02T18:52:46.368035Z",
          "iopub.status.idle": "2023-09-02T18:52:46.372184Z",
          "shell.execute_reply": "2023-09-02T18:52:46.371742Z"
        },
        "papermill": {
          "duration": 0.016881,
          "end_time": "2023-09-02T18:52:46.373374",
          "exception": false,
          "start_time": "2023-09-02T18:52:46.356493",
          "status": "completed"
        },
        "tags": []
      },
      "outputs": [],
      "source": [
        "def good_model(x=jnp.array(3.0), y=jnp.array(4.0)) -> SDict:\n",
        "    return {(\"in0\", \"out0\"): jnp.array(3.0)}\n",
        "\n",
        "\n",
        "assert validate_model(good_model) is None"
      ]
    },
    {
      "cell_type": "code",
      "execution_count": 40,
      "id": "181c72fa",
      "metadata": {
        "execution": {
          "iopub.execute_input": "2023-09-02T18:52:46.396071Z",
          "iopub.status.busy": "2023-09-02T18:52:46.395649Z",
          "iopub.status.idle": "2023-09-02T18:52:46.399896Z",
          "shell.execute_reply": "2023-09-02T18:52:46.399457Z"
        },
        "papermill": {
          "duration": 0.017022,
          "end_time": "2023-09-02T18:52:46.401084",
          "exception": false,
          "start_time": "2023-09-02T18:52:46.384062",
          "status": "completed"
        },
        "tags": []
      },
      "outputs": [],
      "source": [
        "def bad_model(positional_argument, x=jnp.array(3.0), y=jnp.array(4.0)) -> SDict:\n",
        "    return {(\"in0\", \"out0\"): jnp.array(3.0)}\n",
        "\n",
        "\n",
        "with raises(ValueError):\n",
        "    validate_model(bad_model)"
      ]
    },
    {
      "cell_type": "markdown",
      "id": "1a60625907abb532",
      "metadata": {},
      "source": [
        ":::{eval-rst}\n",
        ".. autofunction:: sax.typing_.is_stype\n",
        ":::\n"
      ]
    },
    {
      "cell_type": "code",
      "execution_count": 41,
      "id": "b577698874db9d84",
      "metadata": {
        "execution": {
          "iopub.execute_input": "2023-09-02T18:52:46.423862Z",
          "iopub.status.busy": "2023-09-02T18:52:46.423314Z",
          "iopub.status.idle": "2023-09-02T18:52:46.426273Z",
          "shell.execute_reply": "2023-09-02T18:52:46.425848Z"
        },
        "papermill": {
          "duration": 0.015694,
          "end_time": "2023-09-02T18:52:46.427446",
          "exception": false,
          "start_time": "2023-09-02T18:52:46.411752",
          "status": "completed"
        },
        "tags": [
          "hide-input"
        ]
      },
      "outputs": [],
      "source": [
        "def is_stype(stype: Any) -> bool:\n",
        "    \"\"\"check if an object is an SDict, SCoo or SDense\"\"\"\n",
        "    return is_sdict(stype) or is_scoo(stype) or is_sdense(stype)"
      ]
    },
    {
      "cell_type": "markdown",
      "id": "619aced9e765eaa3",
      "metadata": {},
      "source": [
        ":::{eval-rst}\n",
        ".. autofunction:: sax.typing_.is_singlemode\n",
        ":::\n"
      ]
    },
    {
      "cell_type": "code",
      "execution_count": 42,
      "id": "06a4dad0724563c8",
      "metadata": {
        "execution": {
          "iopub.execute_input": "2023-09-02T18:52:46.450292Z",
          "iopub.status.busy": "2023-09-02T18:52:46.449899Z",
          "iopub.status.idle": "2023-09-02T18:52:46.454009Z",
          "shell.execute_reply": "2023-09-02T18:52:46.453625Z"
        },
        "papermill": {
          "duration": 0.016934,
          "end_time": "2023-09-02T18:52:46.455180",
          "exception": false,
          "start_time": "2023-09-02T18:52:46.438246",
          "status": "completed"
        },
        "tags": [
          "hide-input"
        ]
      },
      "outputs": [],
      "source": [
        "def is_singlemode(S: Any) -> bool:\n",
        "    \"\"\"check if an stype is single mode\"\"\"\n",
        "    if not is_stype(S):\n",
        "        return False\n",
        "    ports = _get_ports(S)\n",
        "    return not any((\"@\" in p) for p in ports)\n",
        "\n",
        "def _get_ports(S: SType):\n",
        "    if is_sdict(S):\n",
        "        S = cast(SDict, S)\n",
        "        ports_set = {p1 for p1, _ in S} | {p2 for _, p2 in S}\n",
        "        return tuple(natsorted(ports_set))\n",
        "    else:\n",
        "        *_, ports_map = S\n",
        "        assert isinstance(ports_map, dict)\n",
        "        return tuple(natsorted(ports_map.keys()))"
      ]
    },
    {
      "cell_type": "markdown",
      "id": "628bd17be43e733e",
      "metadata": {},
      "source": [
        ":::{eval-rst}\n",
        ".. autofunction:: sax.typing_.is_multimode\n",
        ":::\n"
      ]
    },
    {
      "cell_type": "code",
      "execution_count": 43,
      "id": "bb36ff6a3ef3f461",
      "metadata": {
        "execution": {
          "iopub.execute_input": "2023-09-02T18:52:46.477880Z",
          "iopub.status.busy": "2023-09-02T18:52:46.477383Z",
          "iopub.status.idle": "2023-09-02T18:52:46.480848Z",
          "shell.execute_reply": "2023-09-02T18:52:46.480377Z"
        },
        "papermill": {
          "duration": 0.016231,
          "end_time": "2023-09-02T18:52:46.482079",
          "exception": false,
          "start_time": "2023-09-02T18:52:46.465848",
          "status": "completed"
        },
        "tags": [
          "hide-input"
        ]
      },
      "outputs": [],
      "source": [
        "def is_multimode(S: Any) -> bool:\n",
        "    \"\"\"check if an stype is single mode\"\"\"\n",
        "    if not is_stype(S):\n",
        "        return False\n",
        "    \n",
        "    ports = _get_ports(S)\n",
        "    return all((\"@\" in p) for p in ports)"
      ]
    },
    {
      "cell_type": "markdown",
      "id": "872089477f685193",
      "metadata": {},
      "source": [
        ":::{eval-rst}\n",
        ".. autofunction:: sax.typing_.is_mixedmode\n",
        ":::\n"
      ]
    },
    {
      "cell_type": "code",
      "execution_count": 44,
      "id": "3ee43949ff5793aa",
      "metadata": {
        "execution": {
          "iopub.execute_input": "2023-09-02T18:52:46.504876Z",
          "iopub.status.busy": "2023-09-02T18:52:46.504473Z",
          "iopub.status.idle": "2023-09-02T18:52:46.507191Z",
          "shell.execute_reply": "2023-09-02T18:52:46.506824Z"
        },
        "papermill": {
          "duration": 0.015609,
          "end_time": "2023-09-02T18:52:46.508340",
          "exception": false,
          "start_time": "2023-09-02T18:52:46.492731",
          "status": "completed"
        },
        "tags": [
          "hide-input"
        ]
      },
      "outputs": [],
      "source": [
        "def is_mixedmode(S: Any) -> bool:\n",
        "    \"\"\"check if an stype is neither single mode nor multimode (hence invalid)\"\"\"\n",
        "    return not is_singlemode(S) and not is_multimode(S)"
      ]
    },
    {
      "cell_type": "markdown",
      "id": "3afe685c",
      "metadata": {
        "papermill": {
          "duration": 0.010779,
          "end_time": "2023-09-02T18:52:46.529884",
          "exception": false,
          "start_time": "2023-09-02T18:52:46.519105",
          "status": "completed"
        },
        "tags": []
      },
      "source": [
        "## SAX return type helpers\n",
        "\n",
        "> a.k.a SDict, SDense, SCoo helpers"
      ]
    },
    {
      "cell_type": "markdown",
      "id": "a875f149",
      "metadata": {
        "papermill": {
          "duration": 0.010904,
          "end_time": "2023-09-02T18:52:46.551664",
          "exception": false,
          "start_time": "2023-09-02T18:52:46.540760",
          "status": "completed"
        },
        "tags": []
      },
      "source": [
        "Convert an `SDict`, `SCoo` or `SDense` into an `SDict` (or convert a model generating any of these types into a model generating an `SDict`):"
      ]
    },
    {
      "cell_type": "code",
      "execution_count": 45,
      "id": "67d6bd472b178720",
      "metadata": {
        "execution": {
          "iopub.execute_input": "2023-09-02T18:52:46.574734Z",
          "iopub.status.busy": "2023-09-02T18:52:46.574260Z",
          "iopub.status.idle": "2023-09-02T18:52:46.577253Z",
          "shell.execute_reply": "2023-09-02T18:52:46.576867Z"
        },
        "papermill": {
          "duration": 0.016069,
          "end_time": "2023-09-02T18:52:46.578487",
          "exception": false,
          "start_time": "2023-09-02T18:52:46.562418",
          "status": "completed"
        },
        "tags": [
          "remove-cell"
        ]
      },
      "outputs": [],
      "source": [
        "\n",
        "@overload\n",
        "def sdict(S: Model) -> Model:\n",
        "    ...\n",
        "\n",
        "\n",
        "@overload\n",
        "def sdict(S: SType) -> SDict:\n",
        "    ..."
      ]
    },
    {
      "cell_type": "markdown",
      "id": "a4a202c10109278b",
      "metadata": {},
      "source": [
        ":::{eval-rst}\n",
        ".. autofunction:: sax.typing_.sdict\n",
        ":::\n"
      ]
    },
    {
      "cell_type": "code",
      "execution_count": 46,
      "id": "63d97839b403c686",
      "metadata": {
        "execution": {
          "iopub.execute_input": "2023-09-02T18:52:46.601376Z",
          "iopub.status.busy": "2023-09-02T18:52:46.600964Z",
          "iopub.status.idle": "2023-09-02T18:52:46.608397Z",
          "shell.execute_reply": "2023-09-02T18:52:46.608013Z"
        },
        "papermill": {
          "duration": 0.020325,
          "end_time": "2023-09-02T18:52:46.609612",
          "exception": false,
          "start_time": "2023-09-02T18:52:46.589287",
          "status": "completed"
        },
        "tags": [
          "hide-input"
        ]
      },
      "outputs": [],
      "source": [
        "def sdict(S: Union[Model, SType]) -> Union[Model, SType]:\n",
        "    \"\"\"Convert an `SCoo` or `SDense` to `SDict`\"\"\"\n",
        "\n",
        "    if is_model(S):\n",
        "        model = cast(Model, S)\n",
        "\n",
        "        @functools.wraps(model)\n",
        "        def wrapper(**kwargs):\n",
        "            return sdict(model(**kwargs))\n",
        "\n",
        "        return wrapper\n",
        "\n",
        "    elif is_scoo(S):\n",
        "        x_dict = _scoo_to_sdict(*cast(SCoo, S))\n",
        "    elif is_sdense(S):\n",
        "        x_dict = _sdense_to_sdict(*cast(SDense, S))\n",
        "    elif is_sdict(S):\n",
        "        x_dict = cast(SDict, S)\n",
        "    else:\n",
        "        raise ValueError(\"Could not convert arguments to sdict.\")\n",
        "\n",
        "    return x_dict\n",
        "\n",
        "\n",
        "def _scoo_to_sdict(Si: Array, Sj: Array, Sx: Array, ports_map: Dict[str, int]) -> SDict:\n",
        "    sdict = {}\n",
        "    inverse_ports_map = {int(i): p for p, i in ports_map.items()}\n",
        "    for i, (si, sj) in enumerate(zip(Si, Sj)):\n",
        "        sdict[\n",
        "            inverse_ports_map.get(int(si), \"\"), inverse_ports_map.get(int(sj), \"\")\n",
        "        ] = Sx[..., i]\n",
        "    sdict = {(p1, p2): v for (p1, p2), v in sdict.items() if p1 and p2}\n",
        "    return sdict\n",
        "\n",
        "\n",
        "def _sdense_to_sdict(S: Array, ports_map: Dict[str, int]) -> SDict:\n",
        "    sdict = {}\n",
        "    for p1, i in ports_map.items():\n",
        "        for p2, j in ports_map.items():\n",
        "            sdict[p1, p2] = S[..., i, j]\n",
        "    return sdict"
      ]
    },
    {
      "cell_type": "code",
      "execution_count": 47,
      "id": "9a372fbf",
      "metadata": {
        "execution": {
          "iopub.execute_input": "2023-09-02T18:52:46.633062Z",
          "iopub.status.busy": "2023-09-02T18:52:46.632488Z",
          "iopub.status.idle": "2023-09-02T18:52:46.715544Z",
          "shell.execute_reply": "2023-09-02T18:52:46.715007Z"
        },
        "papermill": {
          "duration": 0.096425,
          "end_time": "2023-09-02T18:52:46.717022",
          "exception": false,
          "start_time": "2023-09-02T18:52:46.620597",
          "status": "completed"
        },
        "tags": []
      },
      "outputs": [],
      "source": [
        "assert sdict(_sdict) is _sdict\n",
        "assert sdict(_scoo) == {\n",
        "    (\"in0\", \"in0\"): 3.0,\n",
        "    (\"in1\", \"in0\"): 1.0,\n",
        "    (\"out0\", \"out0\"): 4.0,\n",
        "}\n",
        "assert sdict(_sdense) == {\n",
        "    (\"in0\", \"in0\"): 0.0,\n",
        "    (\"in0\", \"out0\"): 1.0,\n",
        "    (\"in0\", \"in1\"): 2.0,\n",
        "    (\"out0\", \"in0\"): 3.0,\n",
        "    (\"out0\", \"out0\"): 4.0,\n",
        "    (\"out0\", \"in1\"): 5.0,\n",
        "    (\"in1\", \"in0\"): 6.0,\n",
        "    (\"in1\", \"out0\"): 7.0,\n",
        "    (\"in1\", \"in1\"): 8.0,\n",
        "}"
      ]
    },
    {
      "cell_type": "markdown",
      "id": "492c5cdd",
      "metadata": {
        "papermill": {
          "duration": 0.011445,
          "end_time": "2023-09-02T18:52:46.739843",
          "exception": false,
          "start_time": "2023-09-02T18:52:46.728398",
          "status": "completed"
        },
        "tags": []
      },
      "source": [
        "Convert an `SDict`, `SCoo` or `SDense` into an `SCoo` (or convert a model generating any of these types into a model generating an `SCoo`):"
      ]
    },
    {
      "cell_type": "code",
      "execution_count": 48,
      "id": "dc855bfdb69c72c6",
      "metadata": {
        "execution": {
          "iopub.execute_input": "2023-09-02T18:52:46.763180Z",
          "iopub.status.busy": "2023-09-02T18:52:46.762686Z",
          "iopub.status.idle": "2023-09-02T18:52:46.765948Z",
          "shell.execute_reply": "2023-09-02T18:52:46.765495Z"
        },
        "papermill": {
          "duration": 0.01632,
          "end_time": "2023-09-02T18:52:46.767040",
          "exception": false,
          "start_time": "2023-09-02T18:52:46.750720",
          "status": "completed"
        },
        "tags": [
          "remove-cell"
        ]
      },
      "outputs": [],
      "source": [
        "\n",
        "@overload\n",
        "def scoo(S: Callable) -> Callable:\n",
        "    ...\n",
        "\n",
        "\n",
        "@overload\n",
        "def scoo(S: SType) -> SCoo:\n",
        "    ..."
      ]
    },
    {
      "cell_type": "markdown",
      "id": "4a49ebca8362042c",
      "metadata": {},
      "source": [
        ":::{eval-rst}\n",
        ".. autofunction:: sax.typing_.scoo\n",
        ":::\n"
      ]
    },
    {
      "cell_type": "code",
      "execution_count": 49,
      "id": "4520c74db761f0ae",
      "metadata": {
        "execution": {
          "iopub.execute_input": "2023-09-02T18:52:46.790719Z",
          "iopub.status.busy": "2023-09-02T18:52:46.790328Z",
          "iopub.status.idle": "2023-09-02T18:52:46.798163Z",
          "shell.execute_reply": "2023-09-02T18:52:46.797659Z"
        },
        "papermill": {
          "duration": 0.021376,
          "end_time": "2023-09-02T18:52:46.799562",
          "exception": false,
          "start_time": "2023-09-02T18:52:46.778186",
          "status": "completed"
        },
        "tags": [
          "hide-input"
        ]
      },
      "outputs": [],
      "source": [
        "\n",
        "def scoo(S: Union[Callable, SType]) -> Union[Callable, SCoo]:\n",
        "    \"\"\"Convert an `SDict` or `SDense` to `SCoo`\"\"\"\n",
        "\n",
        "    if is_model(S):\n",
        "        model = cast(Model, S)\n",
        "\n",
        "        @functools.wraps(model)\n",
        "        def wrapper(**kwargs):\n",
        "            return scoo(model(**kwargs))\n",
        "\n",
        "        return wrapper\n",
        "\n",
        "    elif is_scoo(S):\n",
        "        S = cast(SCoo, S)\n",
        "    elif is_sdense(S):\n",
        "        S = _sdense_to_scoo(*cast(SDense, S))\n",
        "    elif is_sdict(S):\n",
        "        S = _sdict_to_scoo(cast(SDict, S))\n",
        "    else:\n",
        "        raise ValueError(\"Could not convert arguments to scoo.\")\n",
        "\n",
        "    return S\n",
        "\n",
        "def _consolidate_sdense(S, pm):\n",
        "    idxs = list(pm.values())\n",
        "    S = S[..., idxs, :][..., :, idxs]\n",
        "    pm = {p: i for i, p in enumerate(pm)}\n",
        "    return S, pm\n",
        "\n",
        "def _sdense_to_scoo(S: Array, ports_map: Dict[str, int]) -> SCoo:\n",
        "    S, ports_map = _consolidate_sdense(S, ports_map)\n",
        "    Sj, Si = jnp.meshgrid(jnp.arange(S.shape[-1]), jnp.arange(S.shape[-2]))\n",
        "    return Si.ravel(), Sj.ravel(), S.reshape(*S.shape[:-2], -1), ports_map\n",
        "\n",
        "\n",
        "def _sdict_to_scoo(sdict: SDict) -> SCoo:\n",
        "    all_ports = {}\n",
        "    for p1, p2 in sdict:\n",
        "        all_ports[p1] = None\n",
        "        all_ports[p2] = None\n",
        "    ports_map = {p: i for i, p in enumerate(all_ports)}\n",
        "    Sx = jnp.stack(jnp.broadcast_arrays(*sdict.values()), -1)\n",
        "    Si = jnp.array([ports_map[p] for p, _ in sdict])\n",
        "    Sj = jnp.array([ports_map[p] for _, p in sdict])\n",
        "    return Si, Sj, Sx, ports_map"
      ]
    },
    {
      "cell_type": "code",
      "execution_count": 50,
      "id": "2e409185-a9f6-4ea9-af09-1c184557f02d",
      "metadata": {
        "execution": {
          "iopub.execute_input": "2023-09-02T18:52:46.824355Z",
          "iopub.status.busy": "2023-09-02T18:52:46.823815Z",
          "iopub.status.idle": "2023-09-02T18:52:46.964663Z",
          "shell.execute_reply": "2023-09-02T18:52:46.964215Z"
        },
        "papermill": {
          "duration": 0.155453,
          "end_time": "2023-09-02T18:52:46.966394",
          "exception": false,
          "start_time": "2023-09-02T18:52:46.810941",
          "status": "completed"
        },
        "tags": []
      },
      "outputs": [
        {
          "data": {
            "text/plain": [
              "(Array([0, 0, 0, 1, 1, 1, 2, 2, 2], dtype=int32),\n",
              " Array([0, 1, 2, 0, 1, 2, 0, 1, 2], dtype=int32),\n",
              " Array([0., 2., 1., 6., 8., 7., 3., 5., 4.], dtype=float32),\n",
              " {'in0': 0, 'in1': 1, 'out0': 2})"
            ]
          },
          "execution_count": 50,
          "metadata": {},
          "output_type": "execute_result"
        }
      ],
      "source": [
        "scoo(_sdense)"
      ]
    },
    {
      "cell_type": "code",
      "execution_count": 51,
      "id": "1e97b31c",
      "metadata": {
        "execution": {
          "iopub.execute_input": "2023-09-02T18:52:46.992942Z",
          "iopub.status.busy": "2023-09-02T18:52:46.992238Z",
          "iopub.status.idle": "2023-09-02T18:52:47.044731Z",
          "shell.execute_reply": "2023-09-02T18:52:47.044279Z"
        },
        "papermill": {
          "duration": 0.066884,
          "end_time": "2023-09-02T18:52:47.046178",
          "exception": false,
          "start_time": "2023-09-02T18:52:46.979294",
          "status": "completed"
        },
        "tags": []
      },
      "outputs": [],
      "source": [
        "assert scoo(_scoo) is _scoo\n",
        "assert scoo(_sdict) == (0, 1, 3.0, {\"in0\": 0, \"out0\": 1})\n",
        "Si, Sj, Sx, port_map = scoo(_sdense)  # type: ignore\n",
        "np.testing.assert_array_equal(Si, jnp.array([0, 0, 0, 1, 1, 1, 2, 2, 2]))\n",
        "np.testing.assert_array_equal(Sj, jnp.array([0, 1, 2, 0, 1, 2, 0, 1, 2]))\n",
        "np.testing.assert_array_almost_equal(Sx, jnp.array([0.0, 2.0, 1.0, 6.0, 8.0, 7.0, 3.0, 5.0, 4.0]))\n",
        "assert port_map == {\"in0\": 0, \"in1\": 1, \"out0\": 2}"
      ]
    },
    {
      "cell_type": "markdown",
      "id": "5e58325b",
      "metadata": {
        "papermill": {
          "duration": 0.011344,
          "end_time": "2023-09-02T18:52:47.068929",
          "exception": false,
          "start_time": "2023-09-02T18:52:47.057585",
          "status": "completed"
        },
        "tags": []
      },
      "source": [
        "Convert an `SDict`, `SCoo` or `SDense` into an `SDense` (or convert a model generating any of these types into a model generating an `SDense`):"
      ]
    },
    {
      "cell_type": "code",
      "execution_count": 52,
      "id": "e92e85d94b0e3423",
      "metadata": {
        "execution": {
          "iopub.execute_input": "2023-09-02T18:52:47.093115Z",
          "iopub.status.busy": "2023-09-02T18:52:47.092506Z",
          "iopub.status.idle": "2023-09-02T18:52:47.095777Z",
          "shell.execute_reply": "2023-09-02T18:52:47.095352Z"
        },
        "papermill": {
          "duration": 0.016895,
          "end_time": "2023-09-02T18:52:47.097018",
          "exception": false,
          "start_time": "2023-09-02T18:52:47.080123",
          "status": "completed"
        },
        "tags": [
          "remove-cell"
        ]
      },
      "outputs": [],
      "source": [
        "\n",
        "@overload\n",
        "def sdense(S: Callable) -> Callable:\n",
        "    ...\n",
        "\n",
        "\n",
        "@overload\n",
        "def sdense(S: SType) -> SDense:\n",
        "    ..."
      ]
    },
    {
      "cell_type": "markdown",
      "id": "85c8aa2c0f58ea95",
      "metadata": {},
      "source": [
        ":::{eval-rst}\n",
        ".. autofunction:: sax.typing_.sdense\n",
        ":::\n"
      ]
    },
    {
      "cell_type": "code",
      "execution_count": 53,
      "id": "309369ee0c331bdd",
      "metadata": {
        "execution": {
          "iopub.execute_input": "2023-09-02T18:52:47.121259Z",
          "iopub.status.busy": "2023-09-02T18:52:47.120801Z",
          "iopub.status.idle": "2023-09-02T18:52:47.126646Z",
          "shell.execute_reply": "2023-09-02T18:52:47.126255Z"
        },
        "papermill": {
          "duration": 0.019149,
          "end_time": "2023-09-02T18:52:47.127716",
          "exception": false,
          "start_time": "2023-09-02T18:52:47.108567",
          "status": "completed"
        },
        "tags": [
          "hide-input"
        ]
      },
      "outputs": [],
      "source": [
        "\n",
        "def sdense(S: Union[Callable, SType]) -> Union[Callable, SDense]:\n",
        "    \"\"\"Convert an `SDict` or `SCoo` to `SDense`\"\"\"\n",
        "\n",
        "    if is_model(S):\n",
        "        model = cast(Model, S)\n",
        "\n",
        "        @functools.wraps(model)\n",
        "        def wrapper(**kwargs):\n",
        "            return sdense(model(**kwargs))\n",
        "\n",
        "        return wrapper\n",
        "\n",
        "    if is_sdict(S):\n",
        "        S = _sdict_to_sdense(cast(SDict, S))\n",
        "    elif is_scoo(S):\n",
        "        S = _scoo_to_sdense(*cast(SCoo, S))\n",
        "    elif is_sdense(S):\n",
        "        S = cast(SDense, S)\n",
        "    else:\n",
        "        raise ValueError(\"Could not convert arguments to sdense.\")\n",
        "\n",
        "    return S\n",
        "\n",
        "\n",
        "def _scoo_to_sdense(\n",
        "    Si: Array, Sj: Array, Sx: Array, ports_map: Dict[str, int]\n",
        ") -> SDense:\n",
        "    n_col = len(ports_map)\n",
        "    S = jnp.zeros((*Sx.shape[:-1], n_col, n_col), dtype=complex)\n",
        "    if JAX_AVAILABLE:\n",
        "        S = S.at[..., Si, Sj].add(Sx)\n",
        "    else:\n",
        "        S[..., Si, Sj] = Sx\n",
        "    return S, ports_map\n",
        "\n",
        "def _sdict_to_sdense(sdict: SDict) -> SDense:\n",
        "    Si, Sj, Sx, ports_map = _sdict_to_scoo(sdict)\n",
        "    return _scoo_to_sdense(Si, Sj, Sx, ports_map)"
      ]
    },
    {
      "cell_type": "code",
      "execution_count": 54,
      "id": "084b7ddb",
      "metadata": {
        "execution": {
          "iopub.execute_input": "2023-09-02T18:52:47.151508Z",
          "iopub.status.busy": "2023-09-02T18:52:47.150964Z",
          "iopub.status.idle": "2023-09-02T18:52:47.227825Z",
          "shell.execute_reply": "2023-09-02T18:52:47.227343Z"
        },
        "papermill": {
          "duration": 0.090796,
          "end_time": "2023-09-02T18:52:47.229696",
          "exception": false,
          "start_time": "2023-09-02T18:52:47.138900",
          "status": "completed"
        },
        "tags": []
      },
      "outputs": [],
      "source": [
        "assert sdense(_sdense) is _sdense\n",
        "Sd, port_map = sdense(_scoo)  # type: ignore\n",
        "Sd_ = jnp.array([[3.0 + 0.0j, 0.0 + 0.0j, 0.0 + 0.0j],\n",
        "                 [0.0 + 0.0j, 4.0 + 0.0j, 0.0 + 0.0j],\n",
        "                 [1.0 + 0.0j, 0.0 + 0.0j, 0.0 + 0.0j]])\n",
        "\n",
        "np.testing.assert_array_almost_equal(Sd, Sd_)\n",
        "assert port_map == {\"in0\": 0, \"in1\": 2, \"out0\": 1}"
      ]
    },
    {
      "cell_type": "markdown",
      "id": "4a712f19123f30f6",
      "metadata": {},
      "source": [
        ":::{eval-rst}\n",
        ".. autofunction:: sax.typing_.modelfactory\n",
        ":::\n"
      ]
    },
    {
      "cell_type": "code",
      "execution_count": 55,
      "id": "2f42140d84eae4ca",
      "metadata": {
        "execution": {
          "iopub.execute_input": "2023-09-02T18:52:47.253868Z",
          "iopub.status.busy": "2023-09-02T18:52:47.253473Z",
          "iopub.status.idle": "2023-09-02T18:52:47.256831Z",
          "shell.execute_reply": "2023-09-02T18:52:47.256403Z"
        },
        "papermill": {
          "duration": 0.01698,
          "end_time": "2023-09-02T18:52:47.258163",
          "exception": false,
          "start_time": "2023-09-02T18:52:47.241183",
          "status": "completed"
        },
        "tags": [
          "hide-input"
        ]
      },
      "outputs": [],
      "source": [
        "\n",
        "def modelfactory(func):\n",
        "    \"\"\"Decorator that marks a function as `ModelFactory`\"\"\"\n",
        "    sig = inspect.signature(func)\n",
        "    if _is_callable_annotation(sig.return_annotation):  # already model factory\n",
        "        return func\n",
        "    func.__signature__ = sig.replace(return_annotation=Model)\n",
        "    return func"
      ]
    }
  ],
  "metadata": {
    "kernelspec": {
      "display_name": "sax",
      "language": "python",
      "name": "sax"
    },
    "language_info": {
      "codemirror_mode": {
        "name": "ipython",
        "version": 3
      },
      "file_extension": ".py",
      "mimetype": "text/x-python",
      "name": "python",
      "nbconvert_exporter": "python",
      "pygments_lexer": "ipython3",
      "version": "3.11.5"
    },
    "papermill": {
      "default_parameters": {},
      "duration": 5.279552,
      "end_time": "2023-09-02T18:52:47.687138",
      "environment_variables": {},
      "exception": null,
      "input_path": "./nbs/00_typing.ipynb",
      "output_path": "./nbs/00_typing.ipynb",
      "parameters": {},
      "start_time": "2023-09-02T18:52:42.407586",
      "version": "2.4.0"
    }
  },
  "nbformat": 4,
  "nbformat_minor": 5
}