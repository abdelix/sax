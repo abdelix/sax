{
  "cells": [
    {
      "cell_type": "code",
      "execution_count": 1,
      "id": "71d35ff40c0f470d",
      "metadata": {
        "execution": {
          "iopub.execute_input": "2023-06-01T21:32:51.522206Z",
          "iopub.status.busy": "2023-06-01T21:32:51.521923Z",
          "iopub.status.idle": "2023-06-01T21:32:51.525046Z",
          "shell.execute_reply": "2023-06-01T21:32:51.524571Z"
        },
        "papermill": {
          "duration": 0.017599,
          "end_time": "2023-06-01T21:32:51.527190",
          "exception": false,
          "start_time": "2023-06-01T21:32:51.509591",
          "status": "completed"
        },
        "tags": [
          "remove-cell"
        ]
      },
      "outputs": [],
      "source": []
    },
    {
      "cell_type": "markdown",
      "id": "13a3464b",
      "metadata": {
        "papermill": {
          "duration": 0.009562,
          "end_time": "2023-06-01T21:32:51.545775",
          "exception": false,
          "start_time": "2023-06-01T21:32:51.536213",
          "status": "completed"
        },
        "tags": []
      },
      "source": [
        "# Typing\n",
        "\n",
        "> SAX types"
      ]
    },
    {
      "cell_type": "code",
      "execution_count": 2,
      "id": "7ef7750d2ac6bc05",
      "metadata": {
        "execution": {
          "iopub.execute_input": "2023-06-01T21:32:51.564235Z",
          "iopub.status.busy": "2023-06-01T21:32:51.564042Z",
          "iopub.status.idle": "2023-06-01T21:32:52.027915Z",
          "shell.execute_reply": "2023-06-01T21:32:52.027495Z"
        },
        "papermill": {
          "duration": 0.474914,
          "end_time": "2023-06-01T21:32:52.029458",
          "exception": false,
          "start_time": "2023-06-01T21:32:51.554544",
          "status": "completed"
        },
        "tags": [
          "remove-cell"
        ]
      },
      "outputs": [],
      "source": [
        "import matplotlib.pyplot as plt\n",
        "from fastcore.test import test_eq\n",
        "from pytest import approx, raises\n",
        "\n",
        "import os, sys; sys.stderr = open(os.devnull, \"w\")"
      ]
    },
    {
      "cell_type": "code",
      "execution_count": 3,
      "id": "80723203a996f7e2",
      "metadata": {
        "execution": {
          "iopub.execute_input": "2023-06-01T21:32:52.049306Z",
          "iopub.status.busy": "2023-06-01T21:32:52.048566Z",
          "iopub.status.idle": "2023-06-01T21:32:52.416637Z",
          "shell.execute_reply": "2023-06-01T21:32:52.416218Z"
        },
        "papermill": {
          "duration": 0.379684,
          "end_time": "2023-06-01T21:32:52.418398",
          "exception": false,
          "start_time": "2023-06-01T21:32:52.038714",
          "status": "completed"
        },
        "tags": [
          "hide-input"
        ]
      },
      "outputs": [],
      "source": [
        "from __future__ import annotations\n",
        "import functools\n",
        "import inspect\n",
        "from collections.abc import Callable as CallableABC\n",
        "from typing import Any, Callable, Dict, Tuple, Union, cast, overload\n",
        "try:\n",
        "    from typing import TypedDict\n",
        "except ImportError: # python<3.8\n",
        "    from typing_extensions import TypedDict\n",
        "\n",
        "import numpy as np\n",
        "from natsort import natsorted\n",
        "\n",
        "try:\n",
        "    import jax.numpy as jnp\n",
        "    JAX_AVAILABLE = True\n",
        "except ImportError:\n",
        "    import numpy as jnp\n",
        "    JAX_AVAILABLE = False"
      ]
    },
    {
      "cell_type": "markdown",
      "id": "41e26ab2",
      "metadata": {
        "papermill": {
          "duration": 0.008841,
          "end_time": "2023-06-01T21:32:52.436675",
          "exception": false,
          "start_time": "2023-06-01T21:32:52.427834",
          "status": "completed"
        },
        "tags": []
      },
      "source": [
        "## Core Types"
      ]
    },
    {
      "cell_type": "markdown",
      "id": "ca29df5c",
      "metadata": {
        "papermill": {
          "duration": 0.008765,
          "end_time": "2023-06-01T21:32:52.454220",
          "exception": false,
          "start_time": "2023-06-01T21:32:52.445455",
          "status": "completed"
        },
        "tags": []
      },
      "source": [
        "### Array"
      ]
    },
    {
      "cell_type": "markdown",
      "id": "82c3c344",
      "metadata": {
        "papermill": {
          "duration": 0.00918,
          "end_time": "2023-06-01T21:32:52.472146",
          "exception": false,
          "start_time": "2023-06-01T21:32:52.462966",
          "status": "completed"
        },
        "tags": []
      },
      "source": [
        "an `Array` is either a jax array or a numpy array:"
      ]
    },
    {
      "cell_type": "code",
      "execution_count": 4,
      "id": "d318258a9fa84ffc",
      "metadata": {
        "execution": {
          "iopub.execute_input": "2023-06-01T21:32:52.500494Z",
          "iopub.status.busy": "2023-06-01T21:32:52.500008Z",
          "iopub.status.idle": "2023-06-01T21:32:52.503013Z",
          "shell.execute_reply": "2023-06-01T21:32:52.502548Z"
        },
        "papermill": {
          "duration": 0.015498,
          "end_time": "2023-06-01T21:32:52.504566",
          "exception": false,
          "start_time": "2023-06-01T21:32:52.489068",
          "status": "completed"
        },
        "tags": []
      },
      "outputs": [],
      "source": [
        "Array = Union[jnp.ndarray, np.ndarray]"
      ]
    },
    {
      "cell_type": "markdown",
      "id": "6b86fa37",
      "metadata": {
        "papermill": {
          "duration": 0.008851,
          "end_time": "2023-06-01T21:32:52.522333",
          "exception": false,
          "start_time": "2023-06-01T21:32:52.513482",
          "status": "completed"
        },
        "tags": []
      },
      "source": [
        "### Int"
      ]
    },
    {
      "cell_type": "markdown",
      "id": "9fa467c9",
      "metadata": {
        "papermill": {
          "duration": 0.00874,
          "end_time": "2023-06-01T21:32:52.539998",
          "exception": false,
          "start_time": "2023-06-01T21:32:52.531258",
          "status": "completed"
        },
        "tags": []
      },
      "source": [
        "An `Int` is either a built-in `int` or an `Array` [of dtype `int`]"
      ]
    },
    {
      "cell_type": "code",
      "execution_count": 5,
      "id": "69edb70977bfefbd",
      "metadata": {
        "execution": {
          "iopub.execute_input": "2023-06-01T21:32:52.558907Z",
          "iopub.status.busy": "2023-06-01T21:32:52.558577Z",
          "iopub.status.idle": "2023-06-01T21:32:52.561310Z",
          "shell.execute_reply": "2023-06-01T21:32:52.560863Z"
        },
        "papermill": {
          "duration": 0.013971,
          "end_time": "2023-06-01T21:32:52.562802",
          "exception": false,
          "start_time": "2023-06-01T21:32:52.548831",
          "status": "completed"
        },
        "tags": []
      },
      "outputs": [],
      "source": [
        "Int = Union[int, Array]"
      ]
    },
    {
      "cell_type": "markdown",
      "id": "c486cd2c",
      "metadata": {
        "papermill": {
          "duration": 0.008773,
          "end_time": "2023-06-01T21:32:52.580551",
          "exception": false,
          "start_time": "2023-06-01T21:32:52.571778",
          "status": "completed"
        },
        "tags": []
      },
      "source": [
        "### Float"
      ]
    },
    {
      "cell_type": "markdown",
      "id": "3b59bba6",
      "metadata": {
        "papermill": {
          "duration": 0.00881,
          "end_time": "2023-06-01T21:32:52.599537",
          "exception": false,
          "start_time": "2023-06-01T21:32:52.590727",
          "status": "completed"
        },
        "tags": []
      },
      "source": [
        "A `Float` is eiter a built-in `float` or an `Array` [of dtype `float`]"
      ]
    },
    {
      "cell_type": "code",
      "execution_count": 6,
      "id": "816d08df1a5e5d2f",
      "metadata": {
        "execution": {
          "iopub.execute_input": "2023-06-01T21:32:52.618523Z",
          "iopub.status.busy": "2023-06-01T21:32:52.618150Z",
          "iopub.status.idle": "2023-06-01T21:32:52.620906Z",
          "shell.execute_reply": "2023-06-01T21:32:52.620524Z"
        },
        "papermill": {
          "duration": 0.014159,
          "end_time": "2023-06-01T21:32:52.622533",
          "exception": false,
          "start_time": "2023-06-01T21:32:52.608374",
          "status": "completed"
        },
        "tags": []
      },
      "outputs": [],
      "source": [
        "Float = Union[float, Array]"
      ]
    },
    {
      "cell_type": "markdown",
      "id": "bdfd6200",
      "metadata": {
        "papermill": {
          "duration": 0.00873,
          "end_time": "2023-06-01T21:32:52.640195",
          "exception": false,
          "start_time": "2023-06-01T21:32:52.631465",
          "status": "completed"
        },
        "tags": []
      },
      "source": [
        "### ComplexFloat"
      ]
    },
    {
      "cell_type": "markdown",
      "id": "b1a7d255",
      "metadata": {
        "papermill": {
          "duration": 0.008749,
          "end_time": "2023-06-01T21:32:52.657688",
          "exception": false,
          "start_time": "2023-06-01T21:32:52.648939",
          "status": "completed"
        },
        "tags": []
      },
      "source": [
        "A `ComplexFloat` is either a build-in `complex` or an Array [of dtype `complex`]:"
      ]
    },
    {
      "cell_type": "code",
      "execution_count": 7,
      "id": "415abb7bc532d422",
      "metadata": {
        "execution": {
          "iopub.execute_input": "2023-06-01T21:32:52.676745Z",
          "iopub.status.busy": "2023-06-01T21:32:52.676413Z",
          "iopub.status.idle": "2023-06-01T21:32:52.679439Z",
          "shell.execute_reply": "2023-06-01T21:32:52.678979Z"
        },
        "papermill": {
          "duration": 0.014323,
          "end_time": "2023-06-01T21:32:52.680828",
          "exception": false,
          "start_time": "2023-06-01T21:32:52.666505",
          "status": "completed"
        },
        "tags": []
      },
      "outputs": [],
      "source": [
        "ComplexFloat = Union[complex, Float]"
      ]
    },
    {
      "cell_type": "markdown",
      "id": "1f1aa099",
      "metadata": {
        "papermill": {
          "duration": 0.008932,
          "end_time": "2023-06-01T21:32:52.698668",
          "exception": false,
          "start_time": "2023-06-01T21:32:52.689736",
          "status": "completed"
        },
        "tags": []
      },
      "source": [
        "### Settings"
      ]
    },
    {
      "cell_type": "markdown",
      "id": "69839acd",
      "metadata": {
        "papermill": {
          "duration": 0.008881,
          "end_time": "2023-06-01T21:32:52.716476",
          "exception": false,
          "start_time": "2023-06-01T21:32:52.707595",
          "status": "completed"
        },
        "tags": []
      },
      "source": [
        "A `Settings` dictionary is a nested mapping between setting names [`str`] to either `ComplexFloat` values OR to another lower level `Settings` dictionary."
      ]
    },
    {
      "cell_type": "code",
      "execution_count": 8,
      "id": "e3b2593372d90183",
      "metadata": {
        "execution": {
          "iopub.execute_input": "2023-06-01T21:32:52.735597Z",
          "iopub.status.busy": "2023-06-01T21:32:52.735353Z",
          "iopub.status.idle": "2023-06-01T21:32:52.738104Z",
          "shell.execute_reply": "2023-06-01T21:32:52.737714Z"
        },
        "papermill": {
          "duration": 0.013877,
          "end_time": "2023-06-01T21:32:52.739232",
          "exception": false,
          "start_time": "2023-06-01T21:32:52.725355",
          "status": "completed"
        },
        "tags": []
      },
      "outputs": [],
      "source": [
        "Settings = Union[Dict[str, ComplexFloat], Dict[str, \"Settings\"]]"
      ]
    },
    {
      "cell_type": "markdown",
      "id": "cf202d06",
      "metadata": {
        "papermill": {
          "duration": 0.008818,
          "end_time": "2023-06-01T21:32:52.757016",
          "exception": false,
          "start_time": "2023-06-01T21:32:52.748198",
          "status": "completed"
        },
        "tags": []
      },
      "source": [
        "Settings dictionaries are used to parametrize a SAX `Model` or a `circuit`. The settings dictionary should have the same hierarchy levels as the circuit:\n",
        " \n",
        " > Example:"
      ]
    },
    {
      "cell_type": "code",
      "execution_count": 9,
      "id": "2b26c4ab",
      "metadata": {
        "execution": {
          "iopub.execute_input": "2023-06-01T21:32:52.778958Z",
          "iopub.status.busy": "2023-06-01T21:32:52.778732Z",
          "iopub.status.idle": "2023-06-01T21:32:52.781514Z",
          "shell.execute_reply": "2023-06-01T21:32:52.781137Z"
        },
        "papermill": {
          "duration": 0.014338,
          "end_time": "2023-06-01T21:32:52.783341",
          "exception": false,
          "start_time": "2023-06-01T21:32:52.769003",
          "status": "completed"
        },
        "tags": []
      },
      "outputs": [],
      "source": [
        "mzi_settings = {\n",
        "    \"wl\": 1.5,  # global settings\n",
        "    \"lft\": {\"coupling\": 0.5},  # settings for the left coupler\n",
        "    \"top\": {\"neff\": 3.4},  # settings for the top waveguide\n",
        "    \"rgt\": {\"coupling\": 0.3},  # settings for the right coupler\n",
        "}"
      ]
    },
    {
      "cell_type": "markdown",
      "id": "45043912",
      "metadata": {
        "papermill": {
          "duration": 0.008976,
          "end_time": "2023-06-01T21:32:52.801273",
          "exception": false,
          "start_time": "2023-06-01T21:32:52.792297",
          "status": "completed"
        },
        "tags": []
      },
      "source": [
        "### SDict"
      ]
    },
    {
      "cell_type": "markdown",
      "id": "c5a7facf",
      "metadata": {
        "papermill": {
          "duration": 0.008892,
          "end_time": "2023-06-01T21:32:52.819055",
          "exception": false,
          "start_time": "2023-06-01T21:32:52.810163",
          "status": "completed"
        },
        "tags": []
      },
      "source": [
        "An `SDict` is a sparse dictionary based representation of an S-matrix, mapping port name tuples such as `('in0', 'out0')` to `ComplexFloat`."
      ]
    },
    {
      "cell_type": "code",
      "execution_count": 10,
      "id": "844f7d5cf43d25b5",
      "metadata": {
        "execution": {
          "iopub.execute_input": "2023-06-01T21:32:52.838279Z",
          "iopub.status.busy": "2023-06-01T21:32:52.838014Z",
          "iopub.status.idle": "2023-06-01T21:32:52.840625Z",
          "shell.execute_reply": "2023-06-01T21:32:52.840255Z"
        },
        "papermill": {
          "duration": 0.014359,
          "end_time": "2023-06-01T21:32:52.842482",
          "exception": false,
          "start_time": "2023-06-01T21:32:52.828123",
          "status": "completed"
        },
        "tags": []
      },
      "outputs": [],
      "source": [
        "SDict = Dict[Tuple[str, str], ComplexFloat]"
      ]
    },
    {
      "cell_type": "markdown",
      "id": "07dc470a",
      "metadata": {
        "papermill": {
          "duration": 0.009052,
          "end_time": "2023-06-01T21:32:52.860704",
          "exception": false,
          "start_time": "2023-06-01T21:32:52.851652",
          "status": "completed"
        },
        "tags": []
      },
      "source": [
        "> Example:"
      ]
    },
    {
      "cell_type": "code",
      "execution_count": 11,
      "id": "ad65a70c",
      "metadata": {
        "execution": {
          "iopub.execute_input": "2023-06-01T21:32:52.879766Z",
          "iopub.status.busy": "2023-06-01T21:32:52.879532Z",
          "iopub.status.idle": "2023-06-01T21:32:52.882599Z",
          "shell.execute_reply": "2023-06-01T21:32:52.882221Z"
        },
        "papermill": {
          "duration": 0.015828,
          "end_time": "2023-06-01T21:32:52.885471",
          "exception": false,
          "start_time": "2023-06-01T21:32:52.869643",
          "status": "completed"
        },
        "tags": []
      },
      "outputs": [
        {
          "name": "stdout",
          "output_type": "stream",
          "text": [
            "{('in0', 'out0'): 3.0}\n"
          ]
        }
      ],
      "source": [
        "_sdict: SDict = {\n",
        "    (\"in0\", \"out0\"): 3.0,\n",
        "}\n",
        "print(_sdict)"
      ]
    },
    {
      "cell_type": "markdown",
      "id": "0e2c7430",
      "metadata": {
        "papermill": {
          "duration": 0.009026,
          "end_time": "2023-06-01T21:32:52.903595",
          "exception": false,
          "start_time": "2023-06-01T21:32:52.894569",
          "status": "completed"
        },
        "tags": []
      },
      "source": [
        "### SCoo"
      ]
    },
    {
      "cell_type": "markdown",
      "id": "ef614e1d",
      "metadata": {
        "papermill": {
          "duration": 0.00928,
          "end_time": "2023-06-01T21:32:52.925792",
          "exception": false,
          "start_time": "2023-06-01T21:32:52.916512",
          "status": "completed"
        },
        "tags": []
      },
      "source": [
        "An `SCoo` is a sparse matrix based representation of an S-matrix consisting of three arrays and a port map. The three arrays represent the input port indices [`int`], output port indices [`int`] and the S-matrix values [`ComplexFloat`] of the sparse matrix. The port map maps a port name [`str`] to a port index [`int`]. Only these four arrays **together** and in this specific **order** are considered a valid `SCoo` representation!"
      ]
    },
    {
      "cell_type": "code",
      "execution_count": 12,
      "id": "4e6933bc005ed4ed",
      "metadata": {
        "execution": {
          "iopub.execute_input": "2023-06-01T21:32:52.945537Z",
          "iopub.status.busy": "2023-06-01T21:32:52.944802Z",
          "iopub.status.idle": "2023-06-01T21:32:52.947790Z",
          "shell.execute_reply": "2023-06-01T21:32:52.947380Z"
        },
        "papermill": {
          "duration": 0.014096,
          "end_time": "2023-06-01T21:32:52.948930",
          "exception": false,
          "start_time": "2023-06-01T21:32:52.934834",
          "status": "completed"
        },
        "tags": []
      },
      "outputs": [],
      "source": [
        "SCoo = Tuple[Array, Array, ComplexFloat, Dict[str, int]]"
      ]
    },
    {
      "cell_type": "markdown",
      "id": "ff9719c8",
      "metadata": {
        "papermill": {
          "duration": 0.009,
          "end_time": "2023-06-01T21:32:52.967119",
          "exception": false,
          "start_time": "2023-06-01T21:32:52.958119",
          "status": "completed"
        },
        "tags": []
      },
      "source": [
        "> Example:"
      ]
    },
    {
      "cell_type": "code",
      "execution_count": 13,
      "id": "972f8060",
      "metadata": {
        "execution": {
          "iopub.execute_input": "2023-06-01T21:32:52.986549Z",
          "iopub.status.busy": "2023-06-01T21:32:52.986039Z",
          "iopub.status.idle": "2023-06-01T21:32:53.017813Z",
          "shell.execute_reply": "2023-06-01T21:32:53.017465Z"
        },
        "papermill": {
          "duration": 0.042883,
          "end_time": "2023-06-01T21:32:53.019016",
          "exception": false,
          "start_time": "2023-06-01T21:32:52.976133",
          "status": "completed"
        },
        "tags": []
      },
      "outputs": [
        {
          "name": "stdout",
          "output_type": "stream",
          "text": [
            "[0 1 2]\n",
            "[0 1 0]\n",
            "[3. 4. 1.]\n",
            "{'in0': 0, 'in1': 2, 'out0': 1}\n"
          ]
        }
      ],
      "source": [
        "Si = jnp.arange(3, dtype=int)\n",
        "Sj = jnp.array([0, 1, 0], dtype=int)\n",
        "Sx = jnp.array([3.0, 4.0, 1.0])\n",
        "port_map = {\"in0\": 0, \"in1\": 2, \"out0\": 1}\n",
        "_scoo: SCoo = (Si, Sj, Sx, port_map)\n",
        "print(Si)\n",
        "print(Sj)\n",
        "print(Sx)\n",
        "print(port_map)"
      ]
    },
    {
      "cell_type": "markdown",
      "id": "2cba9246",
      "metadata": {
        "papermill": {
          "duration": 0.009206,
          "end_time": "2023-06-01T21:32:53.038090",
          "exception": false,
          "start_time": "2023-06-01T21:32:53.028884",
          "status": "completed"
        },
        "tags": []
      },
      "source": [
        "### SDense"
      ]
    },
    {
      "cell_type": "markdown",
      "id": "fd28795b",
      "metadata": {
        "papermill": {
          "duration": 0.009162,
          "end_time": "2023-06-01T21:32:53.056358",
          "exception": false,
          "start_time": "2023-06-01T21:32:53.047196",
          "status": "completed"
        },
        "tags": []
      },
      "source": [
        "an `SDense` is a dense matrix representation of an S-matrix. It's represented by an NxN `ComplexFloat` array and a port map (mapping port names onto port indices)."
      ]
    },
    {
      "cell_type": "code",
      "execution_count": 14,
      "id": "e82ddc0d9e3b5639",
      "metadata": {
        "execution": {
          "iopub.execute_input": "2023-06-01T21:32:53.076321Z",
          "iopub.status.busy": "2023-06-01T21:32:53.075980Z",
          "iopub.status.idle": "2023-06-01T21:32:53.078929Z",
          "shell.execute_reply": "2023-06-01T21:32:53.078505Z"
        },
        "papermill": {
          "duration": 0.014487,
          "end_time": "2023-06-01T21:32:53.080093",
          "exception": false,
          "start_time": "2023-06-01T21:32:53.065606",
          "status": "completed"
        },
        "tags": []
      },
      "outputs": [],
      "source": [
        "SDense = Tuple[Array, Dict[str, int]]"
      ]
    },
    {
      "cell_type": "markdown",
      "id": "2c4789f7",
      "metadata": {
        "papermill": {
          "duration": 0.009266,
          "end_time": "2023-06-01T21:32:53.098746",
          "exception": false,
          "start_time": "2023-06-01T21:32:53.089480",
          "status": "completed"
        },
        "tags": []
      },
      "source": [
        "> Example:"
      ]
    },
    {
      "cell_type": "code",
      "execution_count": 15,
      "id": "02def7ed",
      "metadata": {
        "execution": {
          "iopub.execute_input": "2023-06-01T21:32:53.119249Z",
          "iopub.status.busy": "2023-06-01T21:32:53.118919Z",
          "iopub.status.idle": "2023-06-01T21:32:53.147395Z",
          "shell.execute_reply": "2023-06-01T21:32:53.147009Z"
        },
        "papermill": {
          "duration": 0.040559,
          "end_time": "2023-06-01T21:32:53.148584",
          "exception": false,
          "start_time": "2023-06-01T21:32:53.108025",
          "status": "completed"
        },
        "tags": []
      },
      "outputs": [
        {
          "name": "stdout",
          "output_type": "stream",
          "text": [
            "[[0. 1. 2.]\n",
            " [3. 4. 5.]\n",
            " [6. 7. 8.]]\n",
            "{'in0': 0, 'in1': 2, 'out0': 1}\n"
          ]
        }
      ],
      "source": [
        "Sd = jnp.arange(9, dtype=float).reshape(3, 3)\n",
        "port_map = {\"in0\": 0, \"in1\": 2, \"out0\": 1}\n",
        "_sdense = Sd, port_map\n",
        "print(Sd)\n",
        "print(port_map)"
      ]
    },
    {
      "cell_type": "markdown",
      "id": "b0d2e36f",
      "metadata": {
        "papermill": {
          "duration": 0.009393,
          "end_time": "2023-06-01T21:32:53.167479",
          "exception": false,
          "start_time": "2023-06-01T21:32:53.158086",
          "status": "completed"
        },
        "tags": []
      },
      "source": [
        "### SType"
      ]
    },
    {
      "cell_type": "markdown",
      "id": "b441f21d",
      "metadata": {
        "papermill": {
          "duration": 0.010977,
          "end_time": "2023-06-01T21:32:53.187857",
          "exception": false,
          "start_time": "2023-06-01T21:32:53.176880",
          "status": "completed"
        },
        "tags": []
      },
      "source": [
        "an `SType` is either an `SDict` **OR** an `SCoo` **OR** an `SDense`:"
      ]
    },
    {
      "cell_type": "code",
      "execution_count": 16,
      "id": "4d1f589e4569f3b7",
      "metadata": {
        "execution": {
          "iopub.execute_input": "2023-06-01T21:32:53.207734Z",
          "iopub.status.busy": "2023-06-01T21:32:53.207397Z",
          "iopub.status.idle": "2023-06-01T21:32:53.210127Z",
          "shell.execute_reply": "2023-06-01T21:32:53.209772Z"
        },
        "papermill": {
          "duration": 0.014668,
          "end_time": "2023-06-01T21:32:53.211860",
          "exception": false,
          "start_time": "2023-06-01T21:32:53.197192",
          "status": "completed"
        },
        "tags": []
      },
      "outputs": [],
      "source": [
        "SType = Union[SDict, SCoo, SDense]"
      ]
    },
    {
      "cell_type": "markdown",
      "id": "e0561b07",
      "metadata": {
        "papermill": {
          "duration": 0.009242,
          "end_time": "2023-06-01T21:32:53.230467",
          "exception": false,
          "start_time": "2023-06-01T21:32:53.221225",
          "status": "completed"
        },
        "tags": []
      },
      "source": [
        "> Example:"
      ]
    },
    {
      "cell_type": "code",
      "execution_count": 17,
      "id": "5b52a5f2",
      "metadata": {
        "execution": {
          "iopub.execute_input": "2023-06-01T21:32:53.250147Z",
          "iopub.status.busy": "2023-06-01T21:32:53.249848Z",
          "iopub.status.idle": "2023-06-01T21:32:53.252584Z",
          "shell.execute_reply": "2023-06-01T21:32:53.252203Z"
        },
        "papermill": {
          "duration": 0.014572,
          "end_time": "2023-06-01T21:32:53.254308",
          "exception": false,
          "start_time": "2023-06-01T21:32:53.239736",
          "status": "completed"
        },
        "tags": []
      },
      "outputs": [],
      "source": [
        "obj: SType = _sdict\n",
        "obj: SType = _scoo\n",
        "obj: SType = _sdense"
      ]
    },
    {
      "cell_type": "markdown",
      "id": "afabe91b",
      "metadata": {
        "papermill": {
          "duration": 0.009792,
          "end_time": "2023-06-01T21:32:53.273472",
          "exception": false,
          "start_time": "2023-06-01T21:32:53.263680",
          "status": "completed"
        },
        "tags": []
      },
      "source": [
        "### Model"
      ]
    },
    {
      "cell_type": "markdown",
      "id": "13808fb1",
      "metadata": {
        "papermill": {
          "duration": 0.009252,
          "end_time": "2023-06-01T21:32:53.292213",
          "exception": false,
          "start_time": "2023-06-01T21:32:53.282961",
          "status": "completed"
        },
        "tags": []
      },
      "source": [
        "A `Model` is any keyword-only function that returns an `SType`:"
      ]
    },
    {
      "cell_type": "code",
      "execution_count": 18,
      "id": "614556645128caa0",
      "metadata": {
        "execution": {
          "iopub.execute_input": "2023-06-01T21:32:53.312101Z",
          "iopub.status.busy": "2023-06-01T21:32:53.311844Z",
          "iopub.status.idle": "2023-06-01T21:32:53.314444Z",
          "shell.execute_reply": "2023-06-01T21:32:53.314044Z"
        },
        "papermill": {
          "duration": 0.014727,
          "end_time": "2023-06-01T21:32:53.316287",
          "exception": false,
          "start_time": "2023-06-01T21:32:53.301560",
          "status": "completed"
        },
        "tags": []
      },
      "outputs": [],
      "source": [
        "Model = Callable[..., SType]"
      ]
    },
    {
      "cell_type": "markdown",
      "id": "fad534fb",
      "metadata": {
        "papermill": {
          "duration": 0.009377,
          "end_time": "2023-06-01T21:32:53.335133",
          "exception": false,
          "start_time": "2023-06-01T21:32:53.325756",
          "status": "completed"
        },
        "tags": []
      },
      "source": [
        "### ModelFactory"
      ]
    },
    {
      "cell_type": "markdown",
      "id": "85781647",
      "metadata": {
        "papermill": {
          "duration": 0.00951,
          "end_time": "2023-06-01T21:32:53.354084",
          "exception": false,
          "start_time": "2023-06-01T21:32:53.344574",
          "status": "completed"
        },
        "tags": []
      },
      "source": [
        "A `ModelFactory` is any keyword-only function that returns a `Model`:"
      ]
    },
    {
      "cell_type": "code",
      "execution_count": 19,
      "id": "2e6edcf6f3025c4c",
      "metadata": {
        "execution": {
          "iopub.execute_input": "2023-06-01T21:32:53.374041Z",
          "iopub.status.busy": "2023-06-01T21:32:53.373801Z",
          "iopub.status.idle": "2023-06-01T21:32:53.376426Z",
          "shell.execute_reply": "2023-06-01T21:32:53.376031Z"
        },
        "papermill": {
          "duration": 0.014831,
          "end_time": "2023-06-01T21:32:53.378309",
          "exception": false,
          "start_time": "2023-06-01T21:32:53.363478",
          "status": "completed"
        },
        "tags": []
      },
      "outputs": [],
      "source": [
        "ModelFactory = Callable[..., Model]"
      ]
    },
    {
      "cell_type": "markdown",
      "id": "353d8506",
      "metadata": {
        "papermill": {
          "duration": 0.009365,
          "end_time": "2023-06-01T21:32:53.397288",
          "exception": false,
          "start_time": "2023-06-01T21:32:53.387923",
          "status": "completed"
        },
        "tags": []
      },
      "source": [
        "> Note: SAX sometimes needs to figure out the difference between a `ModelFactory` and a normal `Model` *before* running the function. To do this, SAX will check the return annotation of the function. Any function with a `-> Model` or `-> Callable` annotation will be considered a `ModelFactory`. Any function without this annotation will be considered a normal Model: **don't forget the return annotation of your Model Factory!** To ensure a correct annotation and to ensure forward compatibility, it's recommended to decorate your `ModelFactory` with the `modelfactory` decorator."
      ]
    },
    {
      "cell_type": "markdown",
      "id": "b32b5a31",
      "metadata": {
        "papermill": {
          "duration": 0.009249,
          "end_time": "2023-06-01T21:32:53.415863",
          "exception": false,
          "start_time": "2023-06-01T21:32:53.406614",
          "status": "completed"
        },
        "tags": []
      },
      "source": [
        "### Models"
      ]
    },
    {
      "cell_type": "markdown",
      "id": "a796dcb2",
      "metadata": {
        "papermill": {
          "duration": 0.009332,
          "end_time": "2023-06-01T21:32:53.434531",
          "exception": false,
          "start_time": "2023-06-01T21:32:53.425199",
          "status": "completed"
        },
        "tags": []
      },
      "source": [
        "`Models` is a mapping between model names [`str`] and a `Model`:"
      ]
    },
    {
      "cell_type": "code",
      "execution_count": 20,
      "id": "9dfe74c969708d88",
      "metadata": {
        "execution": {
          "iopub.execute_input": "2023-06-01T21:32:53.454345Z",
          "iopub.status.busy": "2023-06-01T21:32:53.454088Z",
          "iopub.status.idle": "2023-06-01T21:32:53.456645Z",
          "shell.execute_reply": "2023-06-01T21:32:53.456272Z"
        },
        "papermill": {
          "duration": 0.014593,
          "end_time": "2023-06-01T21:32:53.458453",
          "exception": false,
          "start_time": "2023-06-01T21:32:53.443860",
          "status": "completed"
        },
        "tags": []
      },
      "outputs": [],
      "source": [
        "Models = Dict[str, Model]"
      ]
    },
    {
      "cell_type": "markdown",
      "id": "ed1af61c",
      "metadata": {
        "papermill": {
          "duration": 0.00931,
          "end_time": "2023-06-01T21:32:53.477089",
          "exception": false,
          "start_time": "2023-06-01T21:32:53.467779",
          "status": "completed"
        },
        "tags": []
      },
      "source": [
        "> Note: sometimes 'component' is used to refer to a a `Model` or `GeneralModel`. This is because other tools (such as for example GDSFactory) prefer that terminology."
      ]
    },
    {
      "cell_type": "markdown",
      "id": "5d276f63",
      "metadata": {
        "papermill": {
          "duration": 0.009336,
          "end_time": "2023-06-01T21:32:53.495727",
          "exception": false,
          "start_time": "2023-06-01T21:32:53.486391",
          "status": "completed"
        },
        "tags": []
      },
      "source": [
        "## Netlist Types\n",
        "\n",
        "Netlist types are moved [here](06_netlist.ipynb)."
      ]
    },
    {
      "cell_type": "markdown",
      "id": "dbcb4447",
      "metadata": {
        "papermill": {
          "duration": 0.009356,
          "end_time": "2023-06-01T21:32:53.514659",
          "exception": false,
          "start_time": "2023-06-01T21:32:53.505303",
          "status": "completed"
        },
        "tags": []
      },
      "source": [
        "## Validation and runtime type-checking:\n",
        "> Note: the type-checking functions below are **NOT** very tight and hence should be used within the right context!"
      ]
    },
    {
      "cell_type": "markdown",
      "id": "0900cb997ed0f8cf",
      "metadata": {},
      "source": [
        ":::{eval-rst}\n",
        ".. autofunction:: sax.typing_.is_float\n",
        ":::\n"
      ]
    },
    {
      "cell_type": "code",
      "execution_count": 21,
      "id": "a305a265e40a4462",
      "metadata": {
        "execution": {
          "iopub.execute_input": "2023-06-01T21:32:53.534585Z",
          "iopub.status.busy": "2023-06-01T21:32:53.534348Z",
          "iopub.status.idle": "2023-06-01T21:32:53.538210Z",
          "shell.execute_reply": "2023-06-01T21:32:53.537809Z"
        },
        "papermill": {
          "duration": 0.015951,
          "end_time": "2023-06-01T21:32:53.540015",
          "exception": false,
          "start_time": "2023-06-01T21:32:53.524064",
          "status": "completed"
        },
        "tags": [
          "hide-input"
        ]
      },
      "outputs": [],
      "source": [
        "def is_float(x: Any) -> bool:\n",
        "    \"\"\"Check if an object is a `Float`\"\"\"\n",
        "    if isinstance(x, float):\n",
        "        return True\n",
        "    if isinstance(x, np.ndarray):\n",
        "        return x.dtype in (np.float16, np.float32, np.float64, np.float128)\n",
        "    if isinstance(x, jnp.ndarray):\n",
        "        return x.dtype in (jnp.float16, jnp.float32, jnp.float64)\n",
        "    return False"
      ]
    },
    {
      "cell_type": "code",
      "execution_count": 22,
      "id": "28374448",
      "metadata": {
        "execution": {
          "iopub.execute_input": "2023-06-01T21:32:53.559902Z",
          "iopub.status.busy": "2023-06-01T21:32:53.559696Z",
          "iopub.status.idle": "2023-06-01T21:32:53.564408Z",
          "shell.execute_reply": "2023-06-01T21:32:53.564039Z"
        },
        "papermill": {
          "duration": 0.016624,
          "end_time": "2023-06-01T21:32:53.566147",
          "exception": false,
          "start_time": "2023-06-01T21:32:53.549523",
          "status": "completed"
        },
        "tags": []
      },
      "outputs": [],
      "source": [
        "assert is_float(3.0)\n",
        "assert not is_float(3)\n",
        "assert not is_float(3.0 + 2j)\n",
        "assert not is_float(jnp.array(3.0, dtype=complex))\n",
        "assert not is_float(jnp.array(3, dtype=int))"
      ]
    },
    {
      "cell_type": "markdown",
      "id": "3c4a81f95b5909d2",
      "metadata": {},
      "source": [
        ":::{eval-rst}\n",
        ".. autofunction:: sax.typing_.is_complex\n",
        ":::\n"
      ]
    },
    {
      "cell_type": "code",
      "execution_count": 23,
      "id": "b1347c54f1f392c9",
      "metadata": {
        "execution": {
          "iopub.execute_input": "2023-06-01T21:32:53.586048Z",
          "iopub.status.busy": "2023-06-01T21:32:53.585840Z",
          "iopub.status.idle": "2023-06-01T21:32:53.589052Z",
          "shell.execute_reply": "2023-06-01T21:32:53.588684Z"
        },
        "papermill": {
          "duration": 0.015166,
          "end_time": "2023-06-01T21:32:53.590824",
          "exception": false,
          "start_time": "2023-06-01T21:32:53.575658",
          "status": "completed"
        },
        "tags": [
          "hide-input"
        ]
      },
      "outputs": [],
      "source": [
        "def is_complex(x: Any) -> bool:\n",
        "    \"\"\"check if an object is a `ComplexFloat`\"\"\"\n",
        "    if isinstance(x, complex):\n",
        "        return True\n",
        "    if isinstance(x, np.ndarray):\n",
        "        return x.dtype in (np.complex64, np.complex128)\n",
        "    if isinstance(x, jnp.ndarray):\n",
        "        return x.dtype in (jnp.complex64, jnp.complex128)\n",
        "    return False"
      ]
    },
    {
      "cell_type": "code",
      "execution_count": 24,
      "id": "d81a703d",
      "metadata": {
        "execution": {
          "iopub.execute_input": "2023-06-01T21:32:53.610983Z",
          "iopub.status.busy": "2023-06-01T21:32:53.610764Z",
          "iopub.status.idle": "2023-06-01T21:32:53.614560Z",
          "shell.execute_reply": "2023-06-01T21:32:53.614193Z"
        },
        "papermill": {
          "duration": 0.015984,
          "end_time": "2023-06-01T21:32:53.616345",
          "exception": false,
          "start_time": "2023-06-01T21:32:53.600361",
          "status": "completed"
        },
        "tags": []
      },
      "outputs": [],
      "source": [
        "assert not is_complex(3.0)\n",
        "assert not is_complex(3)\n",
        "assert is_complex(3.0 + 2j)\n",
        "assert is_complex(jnp.array(3.0, dtype=complex))\n",
        "assert not is_complex(jnp.array(3, dtype=int))"
      ]
    },
    {
      "cell_type": "markdown",
      "id": "5416364cf70f16df",
      "metadata": {},
      "source": [
        ":::{eval-rst}\n",
        ".. autofunction:: sax.typing_.is_complex_float\n",
        ":::\n"
      ]
    },
    {
      "cell_type": "code",
      "execution_count": 25,
      "id": "b992580db3512498",
      "metadata": {
        "execution": {
          "iopub.execute_input": "2023-06-01T21:32:53.636321Z",
          "iopub.status.busy": "2023-06-01T21:32:53.636132Z",
          "iopub.status.idle": "2023-06-01T21:32:53.638618Z",
          "shell.execute_reply": "2023-06-01T21:32:53.638256Z"
        },
        "papermill": {
          "duration": 0.014269,
          "end_time": "2023-06-01T21:32:53.640277",
          "exception": false,
          "start_time": "2023-06-01T21:32:53.626008",
          "status": "completed"
        },
        "tags": [
          "hide-input"
        ]
      },
      "outputs": [],
      "source": [
        "def is_complex_float(x: Any) -> bool:\n",
        "    \"\"\"check if an object is either a `ComplexFloat` or a `Float`\"\"\"\n",
        "    return is_float(x) or is_complex(x)"
      ]
    },
    {
      "cell_type": "code",
      "execution_count": 26,
      "id": "c533ff0d",
      "metadata": {
        "execution": {
          "iopub.execute_input": "2023-06-01T21:32:53.660005Z",
          "iopub.status.busy": "2023-06-01T21:32:53.659822Z",
          "iopub.status.idle": "2023-06-01T21:32:53.663084Z",
          "shell.execute_reply": "2023-06-01T21:32:53.662732Z"
        },
        "papermill": {
          "duration": 0.014983,
          "end_time": "2023-06-01T21:32:53.664703",
          "exception": false,
          "start_time": "2023-06-01T21:32:53.649720",
          "status": "completed"
        },
        "tags": []
      },
      "outputs": [],
      "source": [
        "assert is_complex_float(3.0)\n",
        "assert not is_complex_float(3)\n",
        "assert is_complex_float(3.0 + 2j)\n",
        "assert is_complex_float(jnp.array(3.0, dtype=complex))\n",
        "assert not is_complex_float(jnp.array(3, dtype=int))"
      ]
    },
    {
      "cell_type": "markdown",
      "id": "83ea6232c3526e77",
      "metadata": {},
      "source": [
        ":::{eval-rst}\n",
        ".. autofunction:: sax.typing_.is_sdict\n",
        ":::\n"
      ]
    },
    {
      "cell_type": "code",
      "execution_count": 27,
      "id": "53fa003ff0e1265a",
      "metadata": {
        "execution": {
          "iopub.execute_input": "2023-06-01T21:32:53.684897Z",
          "iopub.status.busy": "2023-06-01T21:32:53.684717Z",
          "iopub.status.idle": "2023-06-01T21:32:53.687166Z",
          "shell.execute_reply": "2023-06-01T21:32:53.686812Z"
        },
        "papermill": {
          "duration": 0.014464,
          "end_time": "2023-06-01T21:32:53.688762",
          "exception": false,
          "start_time": "2023-06-01T21:32:53.674298",
          "status": "completed"
        },
        "tags": [
          "hide-input"
        ]
      },
      "outputs": [],
      "source": [
        "def is_sdict(x: Any) -> bool:\n",
        "    \"\"\"check if an object is an `SDict` (a SAX S-dictionary)\"\"\"\n",
        "    return isinstance(x, dict)"
      ]
    },
    {
      "cell_type": "code",
      "execution_count": 28,
      "id": "cb0365dc",
      "metadata": {
        "execution": {
          "iopub.execute_input": "2023-06-01T21:32:53.708655Z",
          "iopub.status.busy": "2023-06-01T21:32:53.708471Z",
          "iopub.status.idle": "2023-06-01T21:32:53.710935Z",
          "shell.execute_reply": "2023-06-01T21:32:53.710582Z"
        },
        "papermill": {
          "duration": 0.014268,
          "end_time": "2023-06-01T21:32:53.712582",
          "exception": false,
          "start_time": "2023-06-01T21:32:53.698314",
          "status": "completed"
        },
        "tags": []
      },
      "outputs": [],
      "source": [
        "assert not is_sdict(object())\n",
        "assert is_sdict(_sdict)\n",
        "assert not is_sdict(_scoo)\n",
        "assert not is_sdict(_sdense)"
      ]
    },
    {
      "cell_type": "markdown",
      "id": "bc7518ae984ed904",
      "metadata": {},
      "source": [
        ":::{eval-rst}\n",
        ".. autofunction:: sax.typing_.is_scoo\n",
        ":::\n"
      ]
    },
    {
      "cell_type": "code",
      "execution_count": 29,
      "id": "18dc987edb4620ee",
      "metadata": {
        "execution": {
          "iopub.execute_input": "2023-06-01T21:32:53.732376Z",
          "iopub.status.busy": "2023-06-01T21:32:53.732188Z",
          "iopub.status.idle": "2023-06-01T21:32:53.734736Z",
          "shell.execute_reply": "2023-06-01T21:32:53.734382Z"
        },
        "papermill": {
          "duration": 0.014335,
          "end_time": "2023-06-01T21:32:53.736387",
          "exception": false,
          "start_time": "2023-06-01T21:32:53.722052",
          "status": "completed"
        },
        "tags": [
          "hide-input"
        ]
      },
      "outputs": [],
      "source": [
        "def is_scoo(x: Any) -> bool:\n",
        "    \"\"\"check if an object is an `SCoo` (a SAX sparse S-matrix representation in COO-format)\"\"\"\n",
        "    return isinstance(x, (tuple, list)) and len(x) == 4"
      ]
    },
    {
      "cell_type": "code",
      "execution_count": 30,
      "id": "9ea0239a",
      "metadata": {
        "execution": {
          "iopub.execute_input": "2023-06-01T21:32:53.756273Z",
          "iopub.status.busy": "2023-06-01T21:32:53.756096Z",
          "iopub.status.idle": "2023-06-01T21:32:53.758507Z",
          "shell.execute_reply": "2023-06-01T21:32:53.758144Z"
        },
        "papermill": {
          "duration": 0.014147,
          "end_time": "2023-06-01T21:32:53.760090",
          "exception": false,
          "start_time": "2023-06-01T21:32:53.745943",
          "status": "completed"
        },
        "tags": []
      },
      "outputs": [],
      "source": [
        "assert not is_scoo(object)\n",
        "assert not is_scoo(_sdict)\n",
        "assert is_scoo(_scoo)\n",
        "assert not is_scoo(_sdense)"
      ]
    },
    {
      "cell_type": "markdown",
      "id": "05163795bb2a033f",
      "metadata": {},
      "source": [
        ":::{eval-rst}\n",
        ".. autofunction:: sax.typing_.is_sdense\n",
        ":::\n"
      ]
    },
    {
      "cell_type": "code",
      "execution_count": 31,
      "id": "2f18e86a48283365",
      "metadata": {
        "execution": {
          "iopub.execute_input": "2023-06-01T21:32:53.780164Z",
          "iopub.status.busy": "2023-06-01T21:32:53.779992Z",
          "iopub.status.idle": "2023-06-01T21:32:53.782494Z",
          "shell.execute_reply": "2023-06-01T21:32:53.782127Z"
        },
        "papermill": {
          "duration": 0.014205,
          "end_time": "2023-06-01T21:32:53.784076",
          "exception": false,
          "start_time": "2023-06-01T21:32:53.769871",
          "status": "completed"
        },
        "tags": [
          "hide-input"
        ]
      },
      "outputs": [],
      "source": [
        "def is_sdense(x: Any) -> bool:\n",
        "    \"\"\"check if an object is an `SDense` (a SAX dense S-matrix representation)\"\"\"\n",
        "    return isinstance(x, (tuple, list)) and len(x) == 2"
      ]
    },
    {
      "cell_type": "code",
      "execution_count": 32,
      "id": "2eddd63a",
      "metadata": {
        "execution": {
          "iopub.execute_input": "2023-06-01T21:32:53.804150Z",
          "iopub.status.busy": "2023-06-01T21:32:53.803969Z",
          "iopub.status.idle": "2023-06-01T21:32:53.806410Z",
          "shell.execute_reply": "2023-06-01T21:32:53.806038Z"
        },
        "papermill": {
          "duration": 0.014262,
          "end_time": "2023-06-01T21:32:53.808030",
          "exception": false,
          "start_time": "2023-06-01T21:32:53.793768",
          "status": "completed"
        },
        "tags": []
      },
      "outputs": [],
      "source": [
        "assert not is_sdense(object)\n",
        "assert not is_sdense(_sdict)\n",
        "assert not is_sdense(_scoo)\n",
        "assert is_sdense(_sdense)"
      ]
    },
    {
      "cell_type": "markdown",
      "id": "73db88201a78b438",
      "metadata": {},
      "source": [
        ":::{eval-rst}\n",
        ".. autofunction:: sax.typing_.is_model\n",
        ":::\n"
      ]
    },
    {
      "cell_type": "code",
      "execution_count": 33,
      "id": "77e9ef64380f8200",
      "metadata": {
        "execution": {
          "iopub.execute_input": "2023-06-01T21:32:53.828385Z",
          "iopub.status.busy": "2023-06-01T21:32:53.828207Z",
          "iopub.status.idle": "2023-06-01T21:32:53.832220Z",
          "shell.execute_reply": "2023-06-01T21:32:53.831866Z"
        },
        "papermill": {
          "duration": 0.016041,
          "end_time": "2023-06-01T21:32:53.833853",
          "exception": false,
          "start_time": "2023-06-01T21:32:53.817812",
          "status": "completed"
        },
        "tags": [
          "hide-input"
        ]
      },
      "outputs": [],
      "source": [
        "def is_model(model: Any) -> bool:\n",
        "    \"\"\"check if a callable is a `Model` (a callable returning an `SType`)\"\"\"\n",
        "    if not callable(model):\n",
        "        return False\n",
        "    try:\n",
        "        sig = inspect.signature(model)\n",
        "    except ValueError:\n",
        "        return False\n",
        "    for param in sig.parameters.values():\n",
        "        if param.default is inspect.Parameter.empty:\n",
        "            return False  # a proper SAX model does not have any positional arguments.\n",
        "    if _is_callable_annotation(sig.return_annotation):  # model factory\n",
        "        return False\n",
        "    return True\n",
        "\n",
        "def _is_callable_annotation(annotation: Any) -> bool:\n",
        "    \"\"\"check if an annotation is `Callable`-like\"\"\"\n",
        "    if isinstance(annotation, str):\n",
        "        # happens when\n",
        "        # was imported at the top of the file...\n",
        "        return annotation.startswith(\"Callable\") or annotation.endswith(\"Model\")\n",
        "        # TODO: this is not a very robust check...\n",
        "    try:\n",
        "        return annotation.__origin__ == CallableABC\n",
        "    except AttributeError:\n",
        "        return False"
      ]
    },
    {
      "cell_type": "code",
      "execution_count": 34,
      "id": "a31efe937e420131",
      "metadata": {
        "execution": {
          "iopub.execute_input": "2023-06-01T21:32:53.854039Z",
          "iopub.status.busy": "2023-06-01T21:32:53.853858Z",
          "iopub.status.idle": "2023-06-01T21:32:53.856143Z",
          "shell.execute_reply": "2023-06-01T21:32:53.855798Z"
        },
        "papermill": {
          "duration": 0.014168,
          "end_time": "2023-06-01T21:32:53.857801",
          "exception": false,
          "start_time": "2023-06-01T21:32:53.843633",
          "status": "completed"
        },
        "tags": [
          "remove-cell"
        ]
      },
      "outputs": [],
      "source": [
        "assert _is_callable_annotation(Callable)\n",
        "assert not _is_callable_annotation(SDict)"
      ]
    },
    {
      "cell_type": "code",
      "execution_count": 35,
      "id": "89bdb647",
      "metadata": {
        "execution": {
          "iopub.execute_input": "2023-06-01T21:32:53.877831Z",
          "iopub.status.busy": "2023-06-01T21:32:53.877657Z",
          "iopub.status.idle": "2023-06-01T21:32:53.894030Z",
          "shell.execute_reply": "2023-06-01T21:32:53.893694Z"
        },
        "papermill": {
          "duration": 0.027924,
          "end_time": "2023-06-01T21:32:53.895358",
          "exception": false,
          "start_time": "2023-06-01T21:32:53.867434",
          "status": "completed"
        },
        "tags": []
      },
      "outputs": [],
      "source": [
        "def good_model(x=jnp.array(3.0), y=jnp.array(4.0)) -> SDict:\n",
        "    return {(\"in0\", \"out0\"): jnp.array(3.0)}\n",
        "assert is_model(good_model)\n",
        "\n",
        "def bad_model(positional_argument, x=jnp.array(3.0), y=jnp.array(4.0)) -> SDict:\n",
        "    return {(\"in0\", \"out0\"): jnp.array(3.0)}\n",
        "assert not is_model(bad_model)"
      ]
    },
    {
      "cell_type": "markdown",
      "id": "3f33d3f496460700",
      "metadata": {},
      "source": [
        ":::{eval-rst}\n",
        ".. autofunction:: sax.typing_.is_model_factory\n",
        ":::\n"
      ]
    },
    {
      "cell_type": "code",
      "execution_count": 36,
      "id": "68ccc3e540ca445e",
      "metadata": {
        "execution": {
          "iopub.execute_input": "2023-06-01T21:32:53.916189Z",
          "iopub.status.busy": "2023-06-01T21:32:53.916003Z",
          "iopub.status.idle": "2023-06-01T21:32:53.918786Z",
          "shell.execute_reply": "2023-06-01T21:32:53.918432Z"
        },
        "papermill": {
          "duration": 0.01493,
          "end_time": "2023-06-01T21:32:53.920411",
          "exception": false,
          "start_time": "2023-06-01T21:32:53.905481",
          "status": "completed"
        },
        "tags": [
          "hide-input"
        ]
      },
      "outputs": [],
      "source": [
        "def is_model_factory(model: Any) -> bool:\n",
        "    \"\"\"check if a callable is a model function.\"\"\"\n",
        "    if not callable(model):\n",
        "        return False\n",
        "    sig = inspect.signature(model)\n",
        "    if _is_callable_annotation(sig.return_annotation):  # model factory\n",
        "        return True\n",
        "    return False"
      ]
    },
    {
      "cell_type": "markdown",
      "id": "1f9715ed",
      "metadata": {
        "papermill": {
          "duration": 0.009711,
          "end_time": "2023-06-01T21:32:53.939947",
          "exception": false,
          "start_time": "2023-06-01T21:32:53.930236",
          "status": "completed"
        },
        "tags": []
      },
      "source": [
        "> Note: For a `Callable` to be considered a `ModelFactory` in SAX, it **MUST** have a `Callable` or `Model` return annotation. Otherwise SAX will view it as a `Model` and things might break!"
      ]
    },
    {
      "cell_type": "code",
      "execution_count": 37,
      "id": "fe9cdff0",
      "metadata": {
        "execution": {
          "iopub.execute_input": "2023-06-01T21:32:53.960046Z",
          "iopub.status.busy": "2023-06-01T21:32:53.959869Z",
          "iopub.status.idle": "2023-06-01T21:32:53.962477Z",
          "shell.execute_reply": "2023-06-01T21:32:53.962118Z"
        },
        "papermill": {
          "duration": 0.014471,
          "end_time": "2023-06-01T21:32:53.964071",
          "exception": false,
          "start_time": "2023-06-01T21:32:53.949600",
          "status": "completed"
        },
        "tags": []
      },
      "outputs": [],
      "source": [
        "def func() -> Model:\n",
        "    ...\n",
        "    \n",
        "assert is_model_factory(func) # yes, we only check the annotation for now...\n",
        "\n",
        "def func():\n",
        "    ...\n",
        "    \n",
        "assert not is_model_factory(func) # yes, we only check the annotation for now..."
      ]
    },
    {
      "cell_type": "markdown",
      "id": "0e9b4cf8038c1a1c",
      "metadata": {},
      "source": [
        ":::{eval-rst}\n",
        ".. autofunction:: sax.typing_.validate_model\n",
        ":::\n"
      ]
    },
    {
      "cell_type": "code",
      "execution_count": 38,
      "id": "a708bea3bb80fd33",
      "metadata": {
        "execution": {
          "iopub.execute_input": "2023-06-01T21:32:53.984224Z",
          "iopub.status.busy": "2023-06-01T21:32:53.984051Z",
          "iopub.status.idle": "2023-06-01T21:32:53.987056Z",
          "shell.execute_reply": "2023-06-01T21:32:53.986712Z"
        },
        "papermill": {
          "duration": 0.01494,
          "end_time": "2023-06-01T21:32:53.988668",
          "exception": false,
          "start_time": "2023-06-01T21:32:53.973728",
          "status": "completed"
        },
        "tags": [
          "hide-input"
        ]
      },
      "outputs": [],
      "source": [
        "def validate_model(model: Callable):\n",
        "    \"\"\"Validate the parameters of a model\"\"\"\n",
        "    positional_arguments = []\n",
        "    for param in inspect.signature(model).parameters.values():\n",
        "        if param.default is inspect.Parameter.empty:\n",
        "            positional_arguments.append(param.name)\n",
        "    if positional_arguments:\n",
        "        raise ValueError(\n",
        "            f\"model '{model}' takes positional arguments {', '.join(positional_arguments)} \"\n",
        "            \"and hence is not a valid SAX Model! A SAX model should ONLY take keyword arguments (or no arguments at all).\"\n",
        "        )"
      ]
    },
    {
      "cell_type": "code",
      "execution_count": 39,
      "id": "754399d5",
      "metadata": {
        "execution": {
          "iopub.execute_input": "2023-06-01T21:32:54.009269Z",
          "iopub.status.busy": "2023-06-01T21:32:54.009056Z",
          "iopub.status.idle": "2023-06-01T21:32:54.012601Z",
          "shell.execute_reply": "2023-06-01T21:32:54.012232Z"
        },
        "papermill": {
          "duration": 0.015943,
          "end_time": "2023-06-01T21:32:54.014424",
          "exception": false,
          "start_time": "2023-06-01T21:32:53.998481",
          "status": "completed"
        },
        "tags": []
      },
      "outputs": [],
      "source": [
        "def good_model(x=jnp.array(3.0), y=jnp.array(4.0)) -> SDict:\n",
        "    return {(\"in0\", \"out0\"): jnp.array(3.0)}\n",
        "\n",
        "\n",
        "assert validate_model(good_model) is None"
      ]
    },
    {
      "cell_type": "code",
      "execution_count": 40,
      "id": "181c72fa",
      "metadata": {
        "execution": {
          "iopub.execute_input": "2023-06-01T21:32:54.035017Z",
          "iopub.status.busy": "2023-06-01T21:32:54.034831Z",
          "iopub.status.idle": "2023-06-01T21:32:54.038402Z",
          "shell.execute_reply": "2023-06-01T21:32:54.038027Z"
        },
        "papermill": {
          "duration": 0.015691,
          "end_time": "2023-06-01T21:32:54.040053",
          "exception": false,
          "start_time": "2023-06-01T21:32:54.024362",
          "status": "completed"
        },
        "tags": []
      },
      "outputs": [],
      "source": [
        "def bad_model(positional_argument, x=jnp.array(3.0), y=jnp.array(4.0)) -> SDict:\n",
        "    return {(\"in0\", \"out0\"): jnp.array(3.0)}\n",
        "\n",
        "\n",
        "with raises(ValueError):\n",
        "    validate_model(bad_model)"
      ]
    },
    {
      "cell_type": "markdown",
      "id": "1451ce52365ab645",
      "metadata": {},
      "source": [
        ":::{eval-rst}\n",
        ".. autofunction:: sax.typing_.is_stype\n",
        ":::\n"
      ]
    },
    {
      "cell_type": "code",
      "execution_count": 41,
      "id": "fa23ac128e8ff753",
      "metadata": {
        "execution": {
          "iopub.execute_input": "2023-06-01T21:32:54.061792Z",
          "iopub.status.busy": "2023-06-01T21:32:54.061595Z",
          "iopub.status.idle": "2023-06-01T21:32:54.064314Z",
          "shell.execute_reply": "2023-06-01T21:32:54.063923Z"
        },
        "papermill": {
          "duration": 0.01543,
          "end_time": "2023-06-01T21:32:54.065406",
          "exception": false,
          "start_time": "2023-06-01T21:32:54.049976",
          "status": "completed"
        },
        "tags": [
          "hide-input"
        ]
      },
      "outputs": [],
      "source": [
        "def is_stype(stype: Any) -> bool:\n",
        "    \"\"\"check if an object is an SDict, SCoo or SDense\"\"\"\n",
        "    return is_sdict(stype) or is_scoo(stype) or is_sdense(stype)"
      ]
    },
    {
      "cell_type": "markdown",
      "id": "ac2f3462b6e30d54",
      "metadata": {},
      "source": [
        ":::{eval-rst}\n",
        ".. autofunction:: sax.typing_.is_singlemode\n",
        ":::\n"
      ]
    },
    {
      "cell_type": "code",
      "execution_count": 42,
      "id": "38b8dbae6f064650",
      "metadata": {
        "execution": {
          "iopub.execute_input": "2023-06-01T21:32:54.086524Z",
          "iopub.status.busy": "2023-06-01T21:32:54.086257Z",
          "iopub.status.idle": "2023-06-01T21:32:54.090351Z",
          "shell.execute_reply": "2023-06-01T21:32:54.089985Z"
        },
        "papermill": {
          "duration": 0.019724,
          "end_time": "2023-06-01T21:32:54.095049",
          "exception": false,
          "start_time": "2023-06-01T21:32:54.075325",
          "status": "completed"
        },
        "tags": [
          "hide-input"
        ]
      },
      "outputs": [],
      "source": [
        "def is_singlemode(S: Any) -> bool:\n",
        "    \"\"\"check if an stype is single mode\"\"\"\n",
        "    if not is_stype(S):\n",
        "        return False\n",
        "    ports = _get_ports(S)\n",
        "    return not any((\"@\" in p) for p in ports)\n",
        "\n",
        "def _get_ports(S: SType):\n",
        "    if is_sdict(S):\n",
        "        S = cast(SDict, S)\n",
        "        ports_set = {p1 for p1, _ in S} | {p2 for _, p2 in S}\n",
        "        return tuple(natsorted(ports_set))\n",
        "    else:\n",
        "        *_, ports_map = S\n",
        "        assert isinstance(ports_map, dict)\n",
        "        return tuple(natsorted(ports_map.keys()))"
      ]
    },
    {
      "cell_type": "markdown",
      "id": "5b900b81feb341d4",
      "metadata": {},
      "source": [
        ":::{eval-rst}\n",
        ".. autofunction:: sax.typing_.is_multimode\n",
        ":::\n"
      ]
    },
    {
      "cell_type": "code",
      "execution_count": 43,
      "id": "d628ae0f97a70205",
      "metadata": {
        "execution": {
          "iopub.execute_input": "2023-06-01T21:32:54.117148Z",
          "iopub.status.busy": "2023-06-01T21:32:54.116829Z",
          "iopub.status.idle": "2023-06-01T21:32:54.120090Z",
          "shell.execute_reply": "2023-06-01T21:32:54.119718Z"
        },
        "papermill": {
          "duration": 0.016686,
          "end_time": "2023-06-01T21:32:54.121744",
          "exception": false,
          "start_time": "2023-06-01T21:32:54.105058",
          "status": "completed"
        },
        "tags": [
          "hide-input"
        ]
      },
      "outputs": [],
      "source": [
        "def is_multimode(S: Any) -> bool:\n",
        "    \"\"\"check if an stype is single mode\"\"\"\n",
        "    if not is_stype(S):\n",
        "        return False\n",
        "    \n",
        "    ports = _get_ports(S)\n",
        "    return all((\"@\" in p) for p in ports)"
      ]
    },
    {
      "cell_type": "markdown",
      "id": "a233dec584d60ecc",
      "metadata": {},
      "source": [
        ":::{eval-rst}\n",
        ".. autofunction:: sax.typing_.is_mixedmode\n",
        ":::\n"
      ]
    },
    {
      "cell_type": "code",
      "execution_count": 44,
      "id": "a320c0e8535a24f3",
      "metadata": {
        "execution": {
          "iopub.execute_input": "2023-06-01T21:32:54.142877Z",
          "iopub.status.busy": "2023-06-01T21:32:54.142589Z",
          "iopub.status.idle": "2023-06-01T21:32:54.145447Z",
          "shell.execute_reply": "2023-06-01T21:32:54.145081Z"
        },
        "papermill": {
          "duration": 0.01532,
          "end_time": "2023-06-01T21:32:54.147069",
          "exception": false,
          "start_time": "2023-06-01T21:32:54.131749",
          "status": "completed"
        },
        "tags": [
          "hide-input"
        ]
      },
      "outputs": [],
      "source": [
        "def is_mixedmode(S: Any) -> bool:\n",
        "    \"\"\"check if an stype is neither single mode nor multimode (hence invalid)\"\"\"\n",
        "    return not is_singlemode(S) and not is_multimode(S)"
      ]
    },
    {
      "cell_type": "markdown",
      "id": "3afe685c",
      "metadata": {
        "papermill": {
          "duration": 0.010213,
          "end_time": "2023-06-01T21:32:54.167264",
          "exception": false,
          "start_time": "2023-06-01T21:32:54.157051",
          "status": "completed"
        },
        "tags": []
      },
      "source": [
        "## SAX return type helpers\n",
        "\n",
        "> a.k.a SDict, SDense, SCoo helpers"
      ]
    },
    {
      "cell_type": "markdown",
      "id": "a875f149",
      "metadata": {
        "papermill": {
          "duration": 0.00998,
          "end_time": "2023-06-01T21:32:54.187263",
          "exception": false,
          "start_time": "2023-06-01T21:32:54.177283",
          "status": "completed"
        },
        "tags": []
      },
      "source": [
        "Convert an `SDict`, `SCoo` or `SDense` into an `SDict` (or convert a model generating any of these types into a model generating an `SDict`):"
      ]
    },
    {
      "cell_type": "code",
      "execution_count": 45,
      "id": "25b9377966d3a527",
      "metadata": {
        "execution": {
          "iopub.execute_input": "2023-06-01T21:32:54.208314Z",
          "iopub.status.busy": "2023-06-01T21:32:54.207989Z",
          "iopub.status.idle": "2023-06-01T21:32:54.211012Z",
          "shell.execute_reply": "2023-06-01T21:32:54.210646Z"
        },
        "papermill": {
          "duration": 0.015464,
          "end_time": "2023-06-01T21:32:54.212632",
          "exception": false,
          "start_time": "2023-06-01T21:32:54.197168",
          "status": "completed"
        },
        "tags": [
          "remove-cell"
        ]
      },
      "outputs": [],
      "source": [
        "\n",
        "@overload\n",
        "def sdict(S: Model) -> Model:\n",
        "    ...\n",
        "\n",
        "\n",
        "@overload\n",
        "def sdict(S: SType) -> SDict:\n",
        "    ..."
      ]
    },
    {
      "cell_type": "markdown",
      "id": "7cc7d9dd6be633a3",
      "metadata": {},
      "source": [
        ":::{eval-rst}\n",
        ".. autofunction:: sax.typing_.sdict\n",
        ":::\n"
      ]
    },
    {
      "cell_type": "code",
      "execution_count": 46,
      "id": "db4f33b6a9ac73a1",
      "metadata": {
        "execution": {
          "iopub.execute_input": "2023-06-01T21:32:54.233742Z",
          "iopub.status.busy": "2023-06-01T21:32:54.233484Z",
          "iopub.status.idle": "2023-06-01T21:32:54.240622Z",
          "shell.execute_reply": "2023-06-01T21:32:54.240191Z"
        },
        "papermill": {
          "duration": 0.019302,
          "end_time": "2023-06-01T21:32:54.241914",
          "exception": false,
          "start_time": "2023-06-01T21:32:54.222612",
          "status": "completed"
        },
        "tags": [
          "hide-input"
        ]
      },
      "outputs": [],
      "source": [
        "def sdict(S: Union[Model, SType]) -> Union[Model, SType]:\n",
        "    \"\"\"Convert an `SCoo` or `SDense` to `SDict`\"\"\"\n",
        "\n",
        "    if is_model(S):\n",
        "        model = cast(Model, S)\n",
        "\n",
        "        @functools.wraps(model)\n",
        "        def wrapper(**kwargs):\n",
        "            return sdict(model(**kwargs))\n",
        "\n",
        "        return wrapper\n",
        "\n",
        "    elif is_scoo(S):\n",
        "        x_dict = _scoo_to_sdict(*cast(SCoo, S))\n",
        "    elif is_sdense(S):\n",
        "        x_dict = _sdense_to_sdict(*cast(SDense, S))\n",
        "    elif is_sdict(S):\n",
        "        x_dict = cast(SDict, S)\n",
        "    else:\n",
        "        raise ValueError(\"Could not convert arguments to sdict.\")\n",
        "\n",
        "    return x_dict\n",
        "\n",
        "\n",
        "def _scoo_to_sdict(Si: Array, Sj: Array, Sx: Array, ports_map: Dict[str, int]) -> SDict:\n",
        "    sdict = {}\n",
        "    inverse_ports_map = {int(i): p for p, i in ports_map.items()}\n",
        "    for i, (si, sj) in enumerate(zip(Si, Sj)):\n",
        "        sdict[\n",
        "            inverse_ports_map.get(int(si), \"\"), inverse_ports_map.get(int(sj), \"\")\n",
        "        ] = Sx[..., i]\n",
        "    sdict = {(p1, p2): v for (p1, p2), v in sdict.items() if p1 and p2}\n",
        "    return sdict\n",
        "\n",
        "\n",
        "def _sdense_to_sdict(S: Array, ports_map: Dict[str, int]) -> SDict:\n",
        "    sdict = {}\n",
        "    for p1, i in ports_map.items():\n",
        "        for p2, j in ports_map.items():\n",
        "            sdict[p1, p2] = S[..., i, j]\n",
        "    return sdict"
      ]
    },
    {
      "cell_type": "code",
      "execution_count": 47,
      "id": "9a372fbf",
      "metadata": {
        "execution": {
          "iopub.execute_input": "2023-06-01T21:32:54.263012Z",
          "iopub.status.busy": "2023-06-01T21:32:54.262751Z",
          "iopub.status.idle": "2023-06-01T21:32:54.343928Z",
          "shell.execute_reply": "2023-06-01T21:32:54.343409Z"
        },
        "papermill": {
          "duration": 0.093459,
          "end_time": "2023-06-01T21:32:54.345490",
          "exception": false,
          "start_time": "2023-06-01T21:32:54.252031",
          "status": "completed"
        },
        "tags": []
      },
      "outputs": [],
      "source": [
        "assert sdict(_sdict) is _sdict\n",
        "assert sdict(_scoo) == {\n",
        "    (\"in0\", \"in0\"): 3.0,\n",
        "    (\"in1\", \"in0\"): 1.0,\n",
        "    (\"out0\", \"out0\"): 4.0,\n",
        "}\n",
        "assert sdict(_sdense) == {\n",
        "    (\"in0\", \"in0\"): 0.0,\n",
        "    (\"in0\", \"out0\"): 1.0,\n",
        "    (\"in0\", \"in1\"): 2.0,\n",
        "    (\"out0\", \"in0\"): 3.0,\n",
        "    (\"out0\", \"out0\"): 4.0,\n",
        "    (\"out0\", \"in1\"): 5.0,\n",
        "    (\"in1\", \"in0\"): 6.0,\n",
        "    (\"in1\", \"out0\"): 7.0,\n",
        "    (\"in1\", \"in1\"): 8.0,\n",
        "}"
      ]
    },
    {
      "cell_type": "markdown",
      "id": "492c5cdd",
      "metadata": {
        "papermill": {
          "duration": 0.010179,
          "end_time": "2023-06-01T21:32:54.366286",
          "exception": false,
          "start_time": "2023-06-01T21:32:54.356107",
          "status": "completed"
        },
        "tags": []
      },
      "source": [
        "Convert an `SDict`, `SCoo` or `SDense` into an `SCoo` (or convert a model generating any of these types into a model generating an `SCoo`):"
      ]
    },
    {
      "cell_type": "code",
      "execution_count": 48,
      "id": "2e775ebc5c8e4565",
      "metadata": {
        "execution": {
          "iopub.execute_input": "2023-06-01T21:32:54.387793Z",
          "iopub.status.busy": "2023-06-01T21:32:54.387469Z",
          "iopub.status.idle": "2023-06-01T21:32:54.390515Z",
          "shell.execute_reply": "2023-06-01T21:32:54.390026Z"
        },
        "papermill": {
          "duration": 0.01558,
          "end_time": "2023-06-01T21:32:54.392042",
          "exception": false,
          "start_time": "2023-06-01T21:32:54.376462",
          "status": "completed"
        },
        "tags": [
          "remove-cell"
        ]
      },
      "outputs": [],
      "source": [
        "\n",
        "@overload\n",
        "def scoo(S: Callable) -> Callable:\n",
        "    ...\n",
        "\n",
        "\n",
        "@overload\n",
        "def scoo(S: SType) -> SCoo:\n",
        "    ..."
      ]
    },
    {
      "cell_type": "markdown",
      "id": "18ee29f67dd1d3e7",
      "metadata": {},
      "source": [
        ":::{eval-rst}\n",
        ".. autofunction:: sax.typing_.scoo\n",
        ":::\n"
      ]
    },
    {
      "cell_type": "code",
      "execution_count": 49,
      "id": "cc4e55eb87e036d7",
      "metadata": {
        "execution": {
          "iopub.execute_input": "2023-06-01T21:32:54.413254Z",
          "iopub.status.busy": "2023-06-01T21:32:54.412977Z",
          "iopub.status.idle": "2023-06-01T21:32:54.421192Z",
          "shell.execute_reply": "2023-06-01T21:32:54.420776Z"
        },
        "papermill": {
          "duration": 0.020455,
          "end_time": "2023-06-01T21:32:54.422554",
          "exception": false,
          "start_time": "2023-06-01T21:32:54.402099",
          "status": "completed"
        },
        "tags": [
          "hide-input"
        ]
      },
      "outputs": [],
      "source": [
        "\n",
        "def scoo(S: Union[Callable, SType]) -> Union[Callable, SCoo]:\n",
        "    \"\"\"Convert an `SDict` or `SDense` to `SCoo`\"\"\"\n",
        "\n",
        "    if is_model(S):\n",
        "        model = cast(Model, S)\n",
        "\n",
        "        @functools.wraps(model)\n",
        "        def wrapper(**kwargs):\n",
        "            return scoo(model(**kwargs))\n",
        "\n",
        "        return wrapper\n",
        "\n",
        "    elif is_scoo(S):\n",
        "        S = cast(SCoo, S)\n",
        "    elif is_sdense(S):\n",
        "        S = _sdense_to_scoo(*cast(SDense, S))\n",
        "    elif is_sdict(S):\n",
        "        S = _sdict_to_scoo(cast(SDict, S))\n",
        "    else:\n",
        "        raise ValueError(\"Could not convert arguments to scoo.\")\n",
        "\n",
        "    return S\n",
        "\n",
        "def _consolidate_sdense(S, pm):\n",
        "    idxs = list(pm.values())\n",
        "    S = S[..., idxs, :][..., :, idxs]\n",
        "    pm = {p: i for i, p in enumerate(pm)}\n",
        "    return S, pm\n",
        "\n",
        "def _sdense_to_scoo(S: Array, ports_map: Dict[str, int]) -> SCoo:\n",
        "    S, ports_map = _consolidate_sdense(S, ports_map)\n",
        "    Sj, Si = jnp.meshgrid(jnp.arange(S.shape[-1]), jnp.arange(S.shape[-2]))\n",
        "    return Si.ravel(), Sj.ravel(), S.reshape(*S.shape[:-2], -1), ports_map\n",
        "\n",
        "\n",
        "def _sdict_to_scoo(sdict: SDict) -> SCoo:\n",
        "    all_ports = {}\n",
        "    for p1, p2 in sdict:\n",
        "        all_ports[p1] = None\n",
        "        all_ports[p2] = None\n",
        "    ports_map = {p: i for i, p in enumerate(all_ports)}\n",
        "    Sx = jnp.stack(jnp.broadcast_arrays(*sdict.values()), -1)\n",
        "    Si = jnp.array([ports_map[p] for p, _ in sdict])\n",
        "    Sj = jnp.array([ports_map[p] for _, p in sdict])\n",
        "    return Si, Sj, Sx, ports_map"
      ]
    },
    {
      "cell_type": "code",
      "execution_count": 50,
      "id": "2e409185-a9f6-4ea9-af09-1c184557f02d",
      "metadata": {
        "execution": {
          "iopub.execute_input": "2023-06-01T21:32:54.443872Z",
          "iopub.status.busy": "2023-06-01T21:32:54.443618Z",
          "iopub.status.idle": "2023-06-01T21:32:54.569814Z",
          "shell.execute_reply": "2023-06-01T21:32:54.569324Z"
        },
        "papermill": {
          "duration": 0.142141,
          "end_time": "2023-06-01T21:32:54.574901",
          "exception": false,
          "start_time": "2023-06-01T21:32:54.432760",
          "status": "completed"
        },
        "tags": []
      },
      "outputs": [
        {
          "data": {
            "text/plain": [
              "(Array([0, 0, 0, 1, 1, 1, 2, 2, 2], dtype=int32),\n",
              " Array([0, 1, 2, 0, 1, 2, 0, 1, 2], dtype=int32),\n",
              " Array([0., 2., 1., 6., 8., 7., 3., 5., 4.], dtype=float32),\n",
              " {'in0': 0, 'in1': 1, 'out0': 2})"
            ]
          },
          "execution_count": 50,
          "metadata": {},
          "output_type": "execute_result"
        }
      ],
      "source": [
        "scoo(_sdense)"
      ]
    },
    {
      "cell_type": "code",
      "execution_count": 51,
      "id": "1e97b31c",
      "metadata": {
        "execution": {
          "iopub.execute_input": "2023-06-01T21:32:54.597102Z",
          "iopub.status.busy": "2023-06-01T21:32:54.596784Z",
          "iopub.status.idle": "2023-06-01T21:32:54.647064Z",
          "shell.execute_reply": "2023-06-01T21:32:54.646498Z"
        },
        "papermill": {
          "duration": 0.063109,
          "end_time": "2023-06-01T21:32:54.648635",
          "exception": false,
          "start_time": "2023-06-01T21:32:54.585526",
          "status": "completed"
        },
        "tags": []
      },
      "outputs": [],
      "source": [
        "assert scoo(_scoo) is _scoo\n",
        "assert scoo(_sdict) == (0, 1, 3.0, {\"in0\": 0, \"out0\": 1})\n",
        "Si, Sj, Sx, port_map = scoo(_sdense)  # type: ignore\n",
        "np.testing.assert_array_equal(Si, jnp.array([0, 0, 0, 1, 1, 1, 2, 2, 2]))\n",
        "np.testing.assert_array_equal(Sj, jnp.array([0, 1, 2, 0, 1, 2, 0, 1, 2]))\n",
        "np.testing.assert_array_almost_equal(Sx, jnp.array([0.0, 2.0, 1.0, 6.0, 8.0, 7.0, 3.0, 5.0, 4.0]))\n",
        "assert port_map == {\"in0\": 0, \"in1\": 1, \"out0\": 2}"
      ]
    },
    {
      "cell_type": "markdown",
      "id": "5e58325b",
      "metadata": {
        "papermill": {
          "duration": 0.010255,
          "end_time": "2023-06-01T21:32:54.669540",
          "exception": false,
          "start_time": "2023-06-01T21:32:54.659285",
          "status": "completed"
        },
        "tags": []
      },
      "source": [
        "Convert an `SDict`, `SCoo` or `SDense` into an `SDense` (or convert a model generating any of these types into a model generating an `SDense`):"
      ]
    },
    {
      "cell_type": "code",
      "execution_count": 52,
      "id": "ed8d76135fcbef56",
      "metadata": {
        "execution": {
          "iopub.execute_input": "2023-06-01T21:32:54.692617Z",
          "iopub.status.busy": "2023-06-01T21:32:54.692266Z",
          "iopub.status.idle": "2023-06-01T21:32:54.695044Z",
          "shell.execute_reply": "2023-06-01T21:32:54.694696Z"
        },
        "papermill": {
          "duration": 0.016548,
          "end_time": "2023-06-01T21:32:54.696323",
          "exception": false,
          "start_time": "2023-06-01T21:32:54.679775",
          "status": "completed"
        },
        "tags": [
          "remove-cell"
        ]
      },
      "outputs": [],
      "source": [
        "\n",
        "@overload\n",
        "def sdense(S: Callable) -> Callable:\n",
        "    ...\n",
        "\n",
        "\n",
        "@overload\n",
        "def sdense(S: SType) -> SDense:\n",
        "    ..."
      ]
    },
    {
      "cell_type": "markdown",
      "id": "23f0f61212f6cf43",
      "metadata": {},
      "source": [
        ":::{eval-rst}\n",
        ".. autofunction:: sax.typing_.sdense\n",
        ":::\n"
      ]
    },
    {
      "cell_type": "code",
      "execution_count": 53,
      "id": "30dc233d4f66f413",
      "metadata": {
        "execution": {
          "iopub.execute_input": "2023-06-01T21:32:54.717921Z",
          "iopub.status.busy": "2023-06-01T21:32:54.717546Z",
          "iopub.status.idle": "2023-06-01T21:32:54.723539Z",
          "shell.execute_reply": "2023-06-01T21:32:54.723178Z"
        },
        "papermill": {
          "duration": 0.018107,
          "end_time": "2023-06-01T21:32:54.724638",
          "exception": false,
          "start_time": "2023-06-01T21:32:54.706531",
          "status": "completed"
        },
        "tags": [
          "hide-input"
        ]
      },
      "outputs": [],
      "source": [
        "\n",
        "def sdense(S: Union[Callable, SType]) -> Union[Callable, SDense]:\n",
        "    \"\"\"Convert an `SDict` or `SCoo` to `SDense`\"\"\"\n",
        "\n",
        "    if is_model(S):\n",
        "        model = cast(Model, S)\n",
        "\n",
        "        @functools.wraps(model)\n",
        "        def wrapper(**kwargs):\n",
        "            return sdense(model(**kwargs))\n",
        "\n",
        "        return wrapper\n",
        "\n",
        "    if is_sdict(S):\n",
        "        S = _sdict_to_sdense(cast(SDict, S))\n",
        "    elif is_scoo(S):\n",
        "        S = _scoo_to_sdense(*cast(SCoo, S))\n",
        "    elif is_sdense(S):\n",
        "        S = cast(SDense, S)\n",
        "    else:\n",
        "        raise ValueError(\"Could not convert arguments to sdense.\")\n",
        "\n",
        "    return S\n",
        "\n",
        "\n",
        "def _scoo_to_sdense(\n",
        "    Si: Array, Sj: Array, Sx: Array, ports_map: Dict[str, int]\n",
        ") -> SDense:\n",
        "    n_col = len(ports_map)\n",
        "    S = jnp.zeros((*Sx.shape[:-1], n_col, n_col), dtype=complex)\n",
        "    if JAX_AVAILABLE:\n",
        "        S = S.at[..., Si, Sj].add(Sx)\n",
        "    else:\n",
        "        S[..., Si, Sj] = Sx\n",
        "    return S, ports_map\n",
        "\n",
        "def _sdict_to_sdense(sdict: SDict) -> SDense:\n",
        "    Si, Sj, Sx, ports_map = _sdict_to_scoo(sdict)\n",
        "    return _scoo_to_sdense(Si, Sj, Sx, ports_map)"
      ]
    },
    {
      "cell_type": "code",
      "execution_count": 54,
      "id": "084b7ddb",
      "metadata": {
        "execution": {
          "iopub.execute_input": "2023-06-01T21:32:54.746115Z",
          "iopub.status.busy": "2023-06-01T21:32:54.745753Z",
          "iopub.status.idle": "2023-06-01T21:32:54.816322Z",
          "shell.execute_reply": "2023-06-01T21:32:54.815856Z"
        },
        "papermill": {
          "duration": 0.083007,
          "end_time": "2023-06-01T21:32:54.817887",
          "exception": false,
          "start_time": "2023-06-01T21:32:54.734880",
          "status": "completed"
        },
        "tags": []
      },
      "outputs": [],
      "source": [
        "assert sdense(_sdense) is _sdense\n",
        "Sd, port_map = sdense(_scoo)  # type: ignore\n",
        "Sd_ = jnp.array([[3.0 + 0.0j, 0.0 + 0.0j, 0.0 + 0.0j],\n",
        "                 [0.0 + 0.0j, 4.0 + 0.0j, 0.0 + 0.0j],\n",
        "                 [1.0 + 0.0j, 0.0 + 0.0j, 0.0 + 0.0j]])\n",
        "\n",
        "np.testing.assert_array_almost_equal(Sd, Sd_)\n",
        "assert port_map == {\"in0\": 0, \"in1\": 2, \"out0\": 1}"
      ]
    },
    {
      "cell_type": "markdown",
      "id": "53ddba25c1f20838",
      "metadata": {},
      "source": [
        ":::{eval-rst}\n",
        ".. autofunction:: sax.typing_.modelfactory\n",
        ":::\n"
      ]
    },
    {
      "cell_type": "code",
      "execution_count": 55,
      "id": "186823cb3395da91",
      "metadata": {
        "execution": {
          "iopub.execute_input": "2023-06-01T21:32:54.840671Z",
          "iopub.status.busy": "2023-06-01T21:32:54.840075Z",
          "iopub.status.idle": "2023-06-01T21:32:54.843451Z",
          "shell.execute_reply": "2023-06-01T21:32:54.843081Z"
        },
        "papermill": {
          "duration": 0.015815,
          "end_time": "2023-06-01T21:32:54.844611",
          "exception": false,
          "start_time": "2023-06-01T21:32:54.828796",
          "status": "completed"
        },
        "tags": [
          "hide-input"
        ]
      },
      "outputs": [],
      "source": [
        "\n",
        "def modelfactory(func):\n",
        "    \"\"\"Decorator that marks a function as `ModelFactory`\"\"\"\n",
        "    sig = inspect.signature(func)\n",
        "    if _is_callable_annotation(sig.return_annotation):  # already model factory\n",
        "        return func\n",
        "    func.__signature__ = sig.replace(return_annotation=Model)\n",
        "    return func"
      ]
    }
  ],
  "metadata": {
    "kernelspec": {
      "display_name": "sax",
      "language": "python",
      "name": "sax"
    },
    "language_info": {
      "codemirror_mode": {
        "name": "ipython",
        "version": 3
      },
      "file_extension": ".py",
      "mimetype": "text/x-python",
      "name": "python",
      "nbconvert_exporter": "python",
      "pygments_lexer": "ipython3",
      "version": "3.11.3"
    },
    "papermill": {
      "default_parameters": {},
      "duration": 5.027499,
      "end_time": "2023-06-01T21:32:55.271728",
      "environment_variables": {},
      "exception": null,
      "input_path": "./nbs/00_typing.ipynb",
      "output_path": "./nbs/00_typing.ipynb",
      "parameters": {},
      "start_time": "2023-06-01T21:32:50.244229",
      "version": "2.3.4"
    }
  },
  "nbformat": 4,
  "nbformat_minor": 5
}