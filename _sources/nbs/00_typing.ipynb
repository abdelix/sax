{
  "cells": [
    {
      "cell_type": "code",
      "execution_count": 1,
      "id": "1198b25aaefde1ce",
      "metadata": {
        "execution": {
          "iopub.execute_input": "2023-07-01T03:31:56.555408Z",
          "iopub.status.busy": "2023-07-01T03:31:56.555151Z",
          "iopub.status.idle": "2023-07-01T03:31:56.558584Z",
          "shell.execute_reply": "2023-07-01T03:31:56.558006Z"
        },
        "papermill": {
          "duration": 0.019892,
          "end_time": "2023-07-01T03:31:56.561687",
          "exception": false,
          "start_time": "2023-07-01T03:31:56.541795",
          "status": "completed"
        },
        "tags": [
          "remove-cell"
        ]
      },
      "outputs": [],
      "source": []
    },
    {
      "cell_type": "markdown",
      "id": "13a3464b",
      "metadata": {
        "papermill": {
          "duration": 0.018589,
          "end_time": "2023-07-01T03:31:56.598764",
          "exception": false,
          "start_time": "2023-07-01T03:31:56.580175",
          "status": "completed"
        },
        "tags": []
      },
      "source": [
        "# Typing\n",
        "\n",
        "> SAX types"
      ]
    },
    {
      "cell_type": "code",
      "execution_count": 2,
      "id": "069cbf755edd6785",
      "metadata": {
        "execution": {
          "iopub.execute_input": "2023-07-01T03:31:56.655638Z",
          "iopub.status.busy": "2023-07-01T03:31:56.654928Z",
          "iopub.status.idle": "2023-07-01T03:31:57.280306Z",
          "shell.execute_reply": "2023-07-01T03:31:57.279870Z"
        },
        "papermill": {
          "duration": 0.638343,
          "end_time": "2023-07-01T03:31:57.281903",
          "exception": false,
          "start_time": "2023-07-01T03:31:56.643560",
          "status": "completed"
        },
        "tags": [
          "remove-cell"
        ]
      },
      "outputs": [],
      "source": [
        "import matplotlib.pyplot as plt\n",
        "from fastcore.test import test_eq\n",
        "from pytest import approx, raises\n",
        "\n",
        "import os, sys; sys.stderr = open(os.devnull, \"w\")"
      ]
    },
    {
      "cell_type": "code",
      "execution_count": 3,
      "id": "b4715537f80ceb48",
      "metadata": {
        "execution": {
          "iopub.execute_input": "2023-07-01T03:31:57.316820Z",
          "iopub.status.busy": "2023-07-01T03:31:57.316259Z",
          "iopub.status.idle": "2023-07-01T03:31:57.866238Z",
          "shell.execute_reply": "2023-07-01T03:31:57.865752Z"
        },
        "papermill": {
          "duration": 0.57408,
          "end_time": "2023-07-01T03:31:57.867910",
          "exception": false,
          "start_time": "2023-07-01T03:31:57.293830",
          "status": "completed"
        },
        "tags": [
          "hide-input"
        ]
      },
      "outputs": [],
      "source": [
        "from __future__ import annotations\n",
        "import functools\n",
        "import inspect\n",
        "from collections.abc import Callable as CallableABC\n",
        "from typing import Any, Callable, Dict, Tuple, Union, cast, overload\n",
        "try:\n",
        "    from typing import TypedDict\n",
        "except ImportError: # python<3.8\n",
        "    from typing_extensions import TypedDict\n",
        "\n",
        "import numpy as np\n",
        "from natsort import natsorted\n",
        "\n",
        "try:\n",
        "    import jax.numpy as jnp\n",
        "    JAX_AVAILABLE = True\n",
        "except ImportError:\n",
        "    import numpy as jnp\n",
        "    JAX_AVAILABLE = False"
      ]
    },
    {
      "cell_type": "markdown",
      "id": "41e26ab2",
      "metadata": {
        "papermill": {
          "duration": 0.01852,
          "end_time": "2023-07-01T03:31:57.896416",
          "exception": false,
          "start_time": "2023-07-01T03:31:57.877896",
          "status": "completed"
        },
        "tags": []
      },
      "source": [
        "## Core Types"
      ]
    },
    {
      "cell_type": "markdown",
      "id": "ca29df5c",
      "metadata": {
        "papermill": {
          "duration": 0.01758,
          "end_time": "2023-07-01T03:31:57.937684",
          "exception": false,
          "start_time": "2023-07-01T03:31:57.920104",
          "status": "completed"
        },
        "tags": []
      },
      "source": [
        "### Array"
      ]
    },
    {
      "cell_type": "markdown",
      "id": "82c3c344",
      "metadata": {
        "papermill": {
          "duration": 0.017726,
          "end_time": "2023-07-01T03:31:57.977167",
          "exception": false,
          "start_time": "2023-07-01T03:31:57.959441",
          "status": "completed"
        },
        "tags": []
      },
      "source": [
        "an `Array` is either a jax array or a numpy array:"
      ]
    },
    {
      "cell_type": "code",
      "execution_count": 4,
      "id": "a1a73f2462c5226c",
      "metadata": {
        "execution": {
          "iopub.execute_input": "2023-07-01T03:31:58.000156Z",
          "iopub.status.busy": "2023-07-01T03:31:57.999583Z",
          "iopub.status.idle": "2023-07-01T03:31:58.002727Z",
          "shell.execute_reply": "2023-07-01T03:31:58.002239Z"
        },
        "papermill": {
          "duration": 0.014935,
          "end_time": "2023-07-01T03:31:58.004088",
          "exception": false,
          "start_time": "2023-07-01T03:31:57.989153",
          "status": "completed"
        },
        "tags": []
      },
      "outputs": [],
      "source": [
        "Array = Union[jnp.ndarray, np.ndarray]"
      ]
    },
    {
      "cell_type": "markdown",
      "id": "6b86fa37",
      "metadata": {
        "papermill": {
          "duration": 0.009485,
          "end_time": "2023-07-01T03:31:58.023024",
          "exception": false,
          "start_time": "2023-07-01T03:31:58.013539",
          "status": "completed"
        },
        "tags": []
      },
      "source": [
        "### Int"
      ]
    },
    {
      "cell_type": "markdown",
      "id": "9fa467c9",
      "metadata": {
        "papermill": {
          "duration": 0.009429,
          "end_time": "2023-07-01T03:31:58.041914",
          "exception": false,
          "start_time": "2023-07-01T03:31:58.032485",
          "status": "completed"
        },
        "tags": []
      },
      "source": [
        "An `Int` is either a built-in `int` or an `Array` [of dtype `int`]"
      ]
    },
    {
      "cell_type": "code",
      "execution_count": 5,
      "id": "6fdf6764c7e15fee",
      "metadata": {
        "execution": {
          "iopub.execute_input": "2023-07-01T03:31:58.062128Z",
          "iopub.status.busy": "2023-07-01T03:31:58.061782Z",
          "iopub.status.idle": "2023-07-01T03:31:58.064540Z",
          "shell.execute_reply": "2023-07-01T03:31:58.064096Z"
        },
        "papermill": {
          "duration": 0.014415,
          "end_time": "2023-07-01T03:31:58.065858",
          "exception": false,
          "start_time": "2023-07-01T03:31:58.051443",
          "status": "completed"
        },
        "tags": []
      },
      "outputs": [],
      "source": [
        "Int = Union[int, Array]"
      ]
    },
    {
      "cell_type": "markdown",
      "id": "c486cd2c",
      "metadata": {
        "papermill": {
          "duration": 0.009426,
          "end_time": "2023-07-01T03:31:58.084796",
          "exception": false,
          "start_time": "2023-07-01T03:31:58.075370",
          "status": "completed"
        },
        "tags": []
      },
      "source": [
        "### Float"
      ]
    },
    {
      "cell_type": "markdown",
      "id": "3b59bba6",
      "metadata": {
        "papermill": {
          "duration": 0.009464,
          "end_time": "2023-07-01T03:31:58.103866",
          "exception": false,
          "start_time": "2023-07-01T03:31:58.094402",
          "status": "completed"
        },
        "tags": []
      },
      "source": [
        "A `Float` is eiter a built-in `float` or an `Array` [of dtype `float`]"
      ]
    },
    {
      "cell_type": "code",
      "execution_count": 6,
      "id": "e68a86b55f31c20b",
      "metadata": {
        "execution": {
          "iopub.execute_input": "2023-07-01T03:31:58.126039Z",
          "iopub.status.busy": "2023-07-01T03:31:58.125735Z",
          "iopub.status.idle": "2023-07-01T03:31:58.128408Z",
          "shell.execute_reply": "2023-07-01T03:31:58.127956Z"
        },
        "papermill": {
          "duration": 0.01657,
          "end_time": "2023-07-01T03:31:58.129904",
          "exception": false,
          "start_time": "2023-07-01T03:31:58.113334",
          "status": "completed"
        },
        "tags": []
      },
      "outputs": [],
      "source": [
        "Float = Union[float, Array]"
      ]
    },
    {
      "cell_type": "markdown",
      "id": "bdfd6200",
      "metadata": {
        "papermill": {
          "duration": 0.023318,
          "end_time": "2023-07-01T03:31:58.168529",
          "exception": false,
          "start_time": "2023-07-01T03:31:58.145211",
          "status": "completed"
        },
        "tags": []
      },
      "source": [
        "### ComplexFloat"
      ]
    },
    {
      "cell_type": "markdown",
      "id": "b1a7d255",
      "metadata": {
        "papermill": {
          "duration": 0.022285,
          "end_time": "2023-07-01T03:31:58.207846",
          "exception": false,
          "start_time": "2023-07-01T03:31:58.185561",
          "status": "completed"
        },
        "tags": []
      },
      "source": [
        "A `ComplexFloat` is either a build-in `complex` or an Array [of dtype `complex`]:"
      ]
    },
    {
      "cell_type": "code",
      "execution_count": 7,
      "id": "61646e0f152ae75d",
      "metadata": {
        "execution": {
          "iopub.execute_input": "2023-07-01T03:31:58.231828Z",
          "iopub.status.busy": "2023-07-01T03:31:58.231457Z",
          "iopub.status.idle": "2023-07-01T03:31:58.234235Z",
          "shell.execute_reply": "2023-07-01T03:31:58.233766Z"
        },
        "papermill": {
          "duration": 0.014679,
          "end_time": "2023-07-01T03:31:58.235590",
          "exception": false,
          "start_time": "2023-07-01T03:31:58.220911",
          "status": "completed"
        },
        "tags": []
      },
      "outputs": [],
      "source": [
        "ComplexFloat = Union[complex, Float]"
      ]
    },
    {
      "cell_type": "markdown",
      "id": "1f1aa099",
      "metadata": {
        "papermill": {
          "duration": 0.00959,
          "end_time": "2023-07-01T03:31:58.254851",
          "exception": false,
          "start_time": "2023-07-01T03:31:58.245261",
          "status": "completed"
        },
        "tags": []
      },
      "source": [
        "### Settings"
      ]
    },
    {
      "cell_type": "markdown",
      "id": "69839acd",
      "metadata": {
        "papermill": {
          "duration": 0.009516,
          "end_time": "2023-07-01T03:31:58.273953",
          "exception": false,
          "start_time": "2023-07-01T03:31:58.264437",
          "status": "completed"
        },
        "tags": []
      },
      "source": [
        "A `Settings` dictionary is a nested mapping between setting names [`str`] to either `ComplexFloat` values OR to another lower level `Settings` dictionary."
      ]
    },
    {
      "cell_type": "code",
      "execution_count": 8,
      "id": "922a735e9eeb6a9f",
      "metadata": {
        "execution": {
          "iopub.execute_input": "2023-07-01T03:31:58.294369Z",
          "iopub.status.busy": "2023-07-01T03:31:58.293919Z",
          "iopub.status.idle": "2023-07-01T03:31:58.297028Z",
          "shell.execute_reply": "2023-07-01T03:31:58.296579Z"
        },
        "papermill": {
          "duration": 0.01479,
          "end_time": "2023-07-01T03:31:58.298324",
          "exception": false,
          "start_time": "2023-07-01T03:31:58.283534",
          "status": "completed"
        },
        "tags": []
      },
      "outputs": [],
      "source": [
        "Settings = Union[Dict[str, ComplexFloat], Dict[str, \"Settings\"]]"
      ]
    },
    {
      "cell_type": "markdown",
      "id": "cf202d06",
      "metadata": {
        "papermill": {
          "duration": 0.009663,
          "end_time": "2023-07-01T03:31:58.317901",
          "exception": false,
          "start_time": "2023-07-01T03:31:58.308238",
          "status": "completed"
        },
        "tags": []
      },
      "source": [
        "Settings dictionaries are used to parametrize a SAX `Model` or a `circuit`. The settings dictionary should have the same hierarchy levels as the circuit:\n",
        " \n",
        " > Example:"
      ]
    },
    {
      "cell_type": "code",
      "execution_count": 9,
      "id": "2b26c4ab",
      "metadata": {
        "execution": {
          "iopub.execute_input": "2023-07-01T03:31:58.338580Z",
          "iopub.status.busy": "2023-07-01T03:31:58.338011Z",
          "iopub.status.idle": "2023-07-01T03:31:58.340972Z",
          "shell.execute_reply": "2023-07-01T03:31:58.340602Z"
        },
        "papermill": {
          "duration": 0.014955,
          "end_time": "2023-07-01T03:31:58.342653",
          "exception": false,
          "start_time": "2023-07-01T03:31:58.327698",
          "status": "completed"
        },
        "tags": []
      },
      "outputs": [],
      "source": [
        "mzi_settings = {\n",
        "    \"wl\": 1.5,  # global settings\n",
        "    \"lft\": {\"coupling\": 0.5},  # settings for the left coupler\n",
        "    \"top\": {\"neff\": 3.4},  # settings for the top waveguide\n",
        "    \"rgt\": {\"coupling\": 0.3},  # settings for the right coupler\n",
        "}"
      ]
    },
    {
      "cell_type": "markdown",
      "id": "45043912",
      "metadata": {
        "papermill": {
          "duration": 0.009721,
          "end_time": "2023-07-01T03:31:58.362158",
          "exception": false,
          "start_time": "2023-07-01T03:31:58.352437",
          "status": "completed"
        },
        "tags": []
      },
      "source": [
        "### SDict"
      ]
    },
    {
      "cell_type": "markdown",
      "id": "c5a7facf",
      "metadata": {
        "papermill": {
          "duration": 0.009563,
          "end_time": "2023-07-01T03:31:58.381637",
          "exception": false,
          "start_time": "2023-07-01T03:31:58.372074",
          "status": "completed"
        },
        "tags": []
      },
      "source": [
        "An `SDict` is a sparse dictionary based representation of an S-matrix, mapping port name tuples such as `('in0', 'out0')` to `ComplexFloat`."
      ]
    },
    {
      "cell_type": "code",
      "execution_count": 10,
      "id": "2b75cbab5556677a",
      "metadata": {
        "execution": {
          "iopub.execute_input": "2023-07-01T03:31:58.417130Z",
          "iopub.status.busy": "2023-07-01T03:31:58.416910Z",
          "iopub.status.idle": "2023-07-01T03:31:58.419523Z",
          "shell.execute_reply": "2023-07-01T03:31:58.419144Z"
        },
        "papermill": {
          "duration": 0.030471,
          "end_time": "2023-07-01T03:31:58.421883",
          "exception": false,
          "start_time": "2023-07-01T03:31:58.391412",
          "status": "completed"
        },
        "tags": []
      },
      "outputs": [],
      "source": [
        "SDict = Dict[Tuple[str, str], ComplexFloat]"
      ]
    },
    {
      "cell_type": "markdown",
      "id": "07dc470a",
      "metadata": {
        "papermill": {
          "duration": 0.024281,
          "end_time": "2023-07-01T03:31:58.462044",
          "exception": false,
          "start_time": "2023-07-01T03:31:58.437763",
          "status": "completed"
        },
        "tags": []
      },
      "source": [
        "> Example:"
      ]
    },
    {
      "cell_type": "code",
      "execution_count": 11,
      "id": "ad65a70c",
      "metadata": {
        "execution": {
          "iopub.execute_input": "2023-07-01T03:31:58.497594Z",
          "iopub.status.busy": "2023-07-01T03:31:58.497394Z",
          "iopub.status.idle": "2023-07-01T03:31:58.500711Z",
          "shell.execute_reply": "2023-07-01T03:31:58.500097Z"
        },
        "papermill": {
          "duration": 0.029461,
          "end_time": "2023-07-01T03:31:58.509142",
          "exception": false,
          "start_time": "2023-07-01T03:31:58.479681",
          "status": "completed"
        },
        "tags": []
      },
      "outputs": [
        {
          "name": "stdout",
          "output_type": "stream",
          "text": [
            "{('in0', 'out0'): 3.0}\n"
          ]
        }
      ],
      "source": [
        "_sdict: SDict = {\n",
        "    (\"in0\", \"out0\"): 3.0,\n",
        "}\n",
        "print(_sdict)"
      ]
    },
    {
      "cell_type": "markdown",
      "id": "0e2c7430",
      "metadata": {
        "papermill": {
          "duration": 0.009682,
          "end_time": "2023-07-01T03:31:58.528639",
          "exception": false,
          "start_time": "2023-07-01T03:31:58.518957",
          "status": "completed"
        },
        "tags": []
      },
      "source": [
        "### SCoo"
      ]
    },
    {
      "cell_type": "markdown",
      "id": "ef614e1d",
      "metadata": {
        "papermill": {
          "duration": 0.009713,
          "end_time": "2023-07-01T03:31:58.548419",
          "exception": false,
          "start_time": "2023-07-01T03:31:58.538706",
          "status": "completed"
        },
        "tags": []
      },
      "source": [
        "An `SCoo` is a sparse matrix based representation of an S-matrix consisting of three arrays and a port map. The three arrays represent the input port indices [`int`], output port indices [`int`] and the S-matrix values [`ComplexFloat`] of the sparse matrix. The port map maps a port name [`str`] to a port index [`int`]. Only these four arrays **together** and in this specific **order** are considered a valid `SCoo` representation!"
      ]
    },
    {
      "cell_type": "code",
      "execution_count": 12,
      "id": "7a5157e15f61ffb2",
      "metadata": {
        "execution": {
          "iopub.execute_input": "2023-07-01T03:31:58.568918Z",
          "iopub.status.busy": "2023-07-01T03:31:58.568728Z",
          "iopub.status.idle": "2023-07-01T03:31:58.571220Z",
          "shell.execute_reply": "2023-07-01T03:31:58.570846Z"
        },
        "papermill": {
          "duration": 0.014699,
          "end_time": "2023-07-01T03:31:58.572994",
          "exception": false,
          "start_time": "2023-07-01T03:31:58.558295",
          "status": "completed"
        },
        "tags": []
      },
      "outputs": [],
      "source": [
        "SCoo = Tuple[Array, Array, ComplexFloat, Dict[str, int]]"
      ]
    },
    {
      "cell_type": "markdown",
      "id": "ff9719c8",
      "metadata": {
        "papermill": {
          "duration": 0.009759,
          "end_time": "2023-07-01T03:31:58.592570",
          "exception": false,
          "start_time": "2023-07-01T03:31:58.582811",
          "status": "completed"
        },
        "tags": []
      },
      "source": [
        "> Example:"
      ]
    },
    {
      "cell_type": "code",
      "execution_count": 13,
      "id": "972f8060",
      "metadata": {
        "execution": {
          "iopub.execute_input": "2023-07-01T03:31:58.637877Z",
          "iopub.status.busy": "2023-07-01T03:31:58.637653Z",
          "iopub.status.idle": "2023-07-01T03:31:58.685908Z",
          "shell.execute_reply": "2023-07-01T03:31:58.685502Z"
        },
        "papermill": {
          "duration": 0.071011,
          "end_time": "2023-07-01T03:31:58.687412",
          "exception": false,
          "start_time": "2023-07-01T03:31:58.616401",
          "status": "completed"
        },
        "tags": []
      },
      "outputs": [
        {
          "name": "stdout",
          "output_type": "stream",
          "text": [
            "[0 1 2]\n",
            "[0 1 0]\n",
            "[3. 4. 1.]\n",
            "{'in0': 0, 'in1': 2, 'out0': 1}\n"
          ]
        }
      ],
      "source": [
        "Si = jnp.arange(3, dtype=int)\n",
        "Sj = jnp.array([0, 1, 0], dtype=int)\n",
        "Sx = jnp.array([3.0, 4.0, 1.0])\n",
        "port_map = {\"in0\": 0, \"in1\": 2, \"out0\": 1}\n",
        "_scoo: SCoo = (Si, Sj, Sx, port_map)\n",
        "print(Si)\n",
        "print(Sj)\n",
        "print(Sx)\n",
        "print(port_map)"
      ]
    },
    {
      "cell_type": "markdown",
      "id": "2cba9246",
      "metadata": {
        "papermill": {
          "duration": 0.018218,
          "end_time": "2023-07-01T03:31:58.716287",
          "exception": false,
          "start_time": "2023-07-01T03:31:58.698069",
          "status": "completed"
        },
        "tags": []
      },
      "source": [
        "### SDense"
      ]
    },
    {
      "cell_type": "markdown",
      "id": "fd28795b",
      "metadata": {
        "papermill": {
          "duration": 0.017977,
          "end_time": "2023-07-01T03:31:58.760247",
          "exception": false,
          "start_time": "2023-07-01T03:31:58.742270",
          "status": "completed"
        },
        "tags": []
      },
      "source": [
        "an `SDense` is a dense matrix representation of an S-matrix. It's represented by an NxN `ComplexFloat` array and a port map (mapping port names onto port indices)."
      ]
    },
    {
      "cell_type": "code",
      "execution_count": 14,
      "id": "9699a974f1f43098",
      "metadata": {
        "execution": {
          "iopub.execute_input": "2023-07-01T03:31:58.789380Z",
          "iopub.status.busy": "2023-07-01T03:31:58.789143Z",
          "iopub.status.idle": "2023-07-01T03:31:58.791812Z",
          "shell.execute_reply": "2023-07-01T03:31:58.791426Z"
        },
        "papermill": {
          "duration": 0.015415,
          "end_time": "2023-07-01T03:31:58.793688",
          "exception": false,
          "start_time": "2023-07-01T03:31:58.778273",
          "status": "completed"
        },
        "tags": []
      },
      "outputs": [],
      "source": [
        "SDense = Tuple[Array, Dict[str, int]]"
      ]
    },
    {
      "cell_type": "markdown",
      "id": "2c4789f7",
      "metadata": {
        "papermill": {
          "duration": 0.010603,
          "end_time": "2023-07-01T03:31:58.814206",
          "exception": false,
          "start_time": "2023-07-01T03:31:58.803603",
          "status": "completed"
        },
        "tags": []
      },
      "source": [
        "> Example:"
      ]
    },
    {
      "cell_type": "code",
      "execution_count": 15,
      "id": "02def7ed",
      "metadata": {
        "execution": {
          "iopub.execute_input": "2023-07-01T03:31:58.834994Z",
          "iopub.status.busy": "2023-07-01T03:31:58.834805Z",
          "iopub.status.idle": "2023-07-01T03:31:58.864133Z",
          "shell.execute_reply": "2023-07-01T03:31:58.863748Z"
        },
        "papermill": {
          "duration": 0.041304,
          "end_time": "2023-07-01T03:31:58.865529",
          "exception": false,
          "start_time": "2023-07-01T03:31:58.824225",
          "status": "completed"
        },
        "tags": []
      },
      "outputs": [
        {
          "name": "stdout",
          "output_type": "stream",
          "text": [
            "[[0. 1. 2.]\n",
            " [3. 4. 5.]\n",
            " [6. 7. 8.]]\n",
            "{'in0': 0, 'in1': 2, 'out0': 1}\n"
          ]
        }
      ],
      "source": [
        "Sd = jnp.arange(9, dtype=float).reshape(3, 3)\n",
        "port_map = {\"in0\": 0, \"in1\": 2, \"out0\": 1}\n",
        "_sdense = Sd, port_map\n",
        "print(Sd)\n",
        "print(port_map)"
      ]
    },
    {
      "cell_type": "markdown",
      "id": "b0d2e36f",
      "metadata": {
        "papermill": {
          "duration": 0.010089,
          "end_time": "2023-07-01T03:31:58.886206",
          "exception": false,
          "start_time": "2023-07-01T03:31:58.876117",
          "status": "completed"
        },
        "tags": []
      },
      "source": [
        "### SType"
      ]
    },
    {
      "cell_type": "markdown",
      "id": "b441f21d",
      "metadata": {
        "papermill": {
          "duration": 0.009997,
          "end_time": "2023-07-01T03:31:58.906226",
          "exception": false,
          "start_time": "2023-07-01T03:31:58.896229",
          "status": "completed"
        },
        "tags": []
      },
      "source": [
        "an `SType` is either an `SDict` **OR** an `SCoo` **OR** an `SDense`:"
      ]
    },
    {
      "cell_type": "code",
      "execution_count": 16,
      "id": "efdb304b47f353e7",
      "metadata": {
        "execution": {
          "iopub.execute_input": "2023-07-01T03:31:58.928352Z",
          "iopub.status.busy": "2023-07-01T03:31:58.928143Z",
          "iopub.status.idle": "2023-07-01T03:31:58.930665Z",
          "shell.execute_reply": "2023-07-01T03:31:58.930269Z"
        },
        "papermill": {
          "duration": 0.016121,
          "end_time": "2023-07-01T03:31:58.932460",
          "exception": false,
          "start_time": "2023-07-01T03:31:58.916339",
          "status": "completed"
        },
        "tags": []
      },
      "outputs": [],
      "source": [
        "SType = Union[SDict, SCoo, SDense]"
      ]
    },
    {
      "cell_type": "markdown",
      "id": "e0561b07",
      "metadata": {
        "papermill": {
          "duration": 0.018257,
          "end_time": "2023-07-01T03:31:58.960717",
          "exception": false,
          "start_time": "2023-07-01T03:31:58.942460",
          "status": "completed"
        },
        "tags": []
      },
      "source": [
        "> Example:"
      ]
    },
    {
      "cell_type": "code",
      "execution_count": 17,
      "id": "5b52a5f2",
      "metadata": {
        "execution": {
          "iopub.execute_input": "2023-07-01T03:31:59.006715Z",
          "iopub.status.busy": "2023-07-01T03:31:59.006509Z",
          "iopub.status.idle": "2023-07-01T03:31:59.009020Z",
          "shell.execute_reply": "2023-07-01T03:31:59.008648Z"
        },
        "papermill": {
          "duration": 0.03137,
          "end_time": "2023-07-01T03:31:59.011994",
          "exception": false,
          "start_time": "2023-07-01T03:31:58.980624",
          "status": "completed"
        },
        "tags": []
      },
      "outputs": [],
      "source": [
        "obj: SType = _sdict\n",
        "obj: SType = _scoo\n",
        "obj: SType = _sdense"
      ]
    },
    {
      "cell_type": "markdown",
      "id": "afabe91b",
      "metadata": {
        "papermill": {
          "duration": 0.018752,
          "end_time": "2023-07-01T03:31:59.048308",
          "exception": false,
          "start_time": "2023-07-01T03:31:59.029556",
          "status": "completed"
        },
        "tags": []
      },
      "source": [
        "### Model"
      ]
    },
    {
      "cell_type": "markdown",
      "id": "13808fb1",
      "metadata": {
        "papermill": {
          "duration": 0.019968,
          "end_time": "2023-07-01T03:31:59.088343",
          "exception": false,
          "start_time": "2023-07-01T03:31:59.068375",
          "status": "completed"
        },
        "tags": []
      },
      "source": [
        "A `Model` is any keyword-only function that returns an `SType`:"
      ]
    },
    {
      "cell_type": "code",
      "execution_count": 18,
      "id": "87fe967d5b6ef859",
      "metadata": {
        "execution": {
          "iopub.execute_input": "2023-07-01T03:31:59.136469Z",
          "iopub.status.busy": "2023-07-01T03:31:59.136204Z",
          "iopub.status.idle": "2023-07-01T03:31:59.138915Z",
          "shell.execute_reply": "2023-07-01T03:31:59.138490Z"
        },
        "papermill": {
          "duration": 0.031543,
          "end_time": "2023-07-01T03:31:59.140100",
          "exception": false,
          "start_time": "2023-07-01T03:31:59.108557",
          "status": "completed"
        },
        "tags": []
      },
      "outputs": [],
      "source": [
        "Model = Callable[..., SType]"
      ]
    },
    {
      "cell_type": "markdown",
      "id": "fad534fb",
      "metadata": {
        "papermill": {
          "duration": 0.023455,
          "end_time": "2023-07-01T03:31:59.180412",
          "exception": false,
          "start_time": "2023-07-01T03:31:59.156957",
          "status": "completed"
        },
        "tags": []
      },
      "source": [
        "### ModelFactory"
      ]
    },
    {
      "cell_type": "markdown",
      "id": "85781647",
      "metadata": {
        "papermill": {
          "duration": 0.018364,
          "end_time": "2023-07-01T03:31:59.222329",
          "exception": false,
          "start_time": "2023-07-01T03:31:59.203965",
          "status": "completed"
        },
        "tags": []
      },
      "source": [
        "A `ModelFactory` is any keyword-only function that returns a `Model`:"
      ]
    },
    {
      "cell_type": "code",
      "execution_count": 19,
      "id": "d0cfc66316c6e0cb",
      "metadata": {
        "execution": {
          "iopub.execute_input": "2023-07-01T03:31:59.256572Z",
          "iopub.status.busy": "2023-07-01T03:31:59.256324Z",
          "iopub.status.idle": "2023-07-01T03:31:59.259010Z",
          "shell.execute_reply": "2023-07-01T03:31:59.258593Z"
        },
        "papermill": {
          "duration": 0.014895,
          "end_time": "2023-07-01T03:31:59.260077",
          "exception": false,
          "start_time": "2023-07-01T03:31:59.245182",
          "status": "completed"
        },
        "tags": []
      },
      "outputs": [],
      "source": [
        "ModelFactory = Callable[..., Model]"
      ]
    },
    {
      "cell_type": "markdown",
      "id": "353d8506",
      "metadata": {
        "papermill": {
          "duration": 0.010169,
          "end_time": "2023-07-01T03:31:59.280422",
          "exception": false,
          "start_time": "2023-07-01T03:31:59.270253",
          "status": "completed"
        },
        "tags": []
      },
      "source": [
        "> Note: SAX sometimes needs to figure out the difference between a `ModelFactory` and a normal `Model` *before* running the function. To do this, SAX will check the return annotation of the function. Any function with a `-> Model` or `-> Callable` annotation will be considered a `ModelFactory`. Any function without this annotation will be considered a normal Model: **don't forget the return annotation of your Model Factory!** To ensure a correct annotation and to ensure forward compatibility, it's recommended to decorate your `ModelFactory` with the `modelfactory` decorator."
      ]
    },
    {
      "cell_type": "markdown",
      "id": "b32b5a31",
      "metadata": {
        "papermill": {
          "duration": 0.010033,
          "end_time": "2023-07-01T03:31:59.300594",
          "exception": false,
          "start_time": "2023-07-01T03:31:59.290561",
          "status": "completed"
        },
        "tags": []
      },
      "source": [
        "### Models"
      ]
    },
    {
      "cell_type": "markdown",
      "id": "a796dcb2",
      "metadata": {
        "papermill": {
          "duration": 0.010023,
          "end_time": "2023-07-01T03:31:59.320728",
          "exception": false,
          "start_time": "2023-07-01T03:31:59.310705",
          "status": "completed"
        },
        "tags": []
      },
      "source": [
        "`Models` is a mapping between model names [`str`] and a `Model`:"
      ]
    },
    {
      "cell_type": "code",
      "execution_count": 20,
      "id": "c423ac39adbaefb3",
      "metadata": {
        "execution": {
          "iopub.execute_input": "2023-07-01T03:31:59.342127Z",
          "iopub.status.busy": "2023-07-01T03:31:59.341878Z",
          "iopub.status.idle": "2023-07-01T03:31:59.344579Z",
          "shell.execute_reply": "2023-07-01T03:31:59.344191Z"
        },
        "papermill": {
          "duration": 0.015674,
          "end_time": "2023-07-01T03:31:59.346520",
          "exception": false,
          "start_time": "2023-07-01T03:31:59.330846",
          "status": "completed"
        },
        "tags": []
      },
      "outputs": [],
      "source": [
        "Models = Dict[str, Model]"
      ]
    },
    {
      "cell_type": "markdown",
      "id": "ed1af61c",
      "metadata": {
        "papermill": {
          "duration": 0.018205,
          "end_time": "2023-07-01T03:31:59.384223",
          "exception": false,
          "start_time": "2023-07-01T03:31:59.366018",
          "status": "completed"
        },
        "tags": []
      },
      "source": [
        "> Note: sometimes 'component' is used to refer to a a `Model` or `GeneralModel`. This is because other tools (such as for example GDSFactory) prefer that terminology."
      ]
    },
    {
      "cell_type": "markdown",
      "id": "5d276f63",
      "metadata": {
        "papermill": {
          "duration": 0.020222,
          "end_time": "2023-07-01T03:31:59.430177",
          "exception": false,
          "start_time": "2023-07-01T03:31:59.409955",
          "status": "completed"
        },
        "tags": []
      },
      "source": [
        "## Netlist Types\n",
        "\n",
        "Netlist types are moved [here](06_netlist.ipynb)."
      ]
    },
    {
      "cell_type": "markdown",
      "id": "dbcb4447",
      "metadata": {
        "papermill": {
          "duration": 0.021136,
          "end_time": "2023-07-01T03:31:59.468431",
          "exception": false,
          "start_time": "2023-07-01T03:31:59.447295",
          "status": "completed"
        },
        "tags": []
      },
      "source": [
        "## Validation and runtime type-checking:\n",
        "> Note: the type-checking functions below are **NOT** very tight and hence should be used within the right context!"
      ]
    },
    {
      "cell_type": "markdown",
      "id": "7af005d7b10c09ad",
      "metadata": {},
      "source": [
        ":::{eval-rst}\n",
        ".. autofunction:: sax.typing_.is_float\n",
        ":::\n"
      ]
    },
    {
      "cell_type": "code",
      "execution_count": 21,
      "id": "39f48e641f114ff4",
      "metadata": {
        "execution": {
          "iopub.execute_input": "2023-07-01T03:31:59.513589Z",
          "iopub.status.busy": "2023-07-01T03:31:59.513353Z",
          "iopub.status.idle": "2023-07-01T03:31:59.517406Z",
          "shell.execute_reply": "2023-07-01T03:31:59.517002Z"
        },
        "papermill": {
          "duration": 0.030634,
          "end_time": "2023-07-01T03:31:59.519952",
          "exception": false,
          "start_time": "2023-07-01T03:31:59.489318",
          "status": "completed"
        },
        "tags": [
          "hide-input"
        ]
      },
      "outputs": [],
      "source": [
        "def is_float(x: Any) -> bool:\n",
        "    \"\"\"Check if an object is a `Float`\"\"\"\n",
        "    if isinstance(x, float):\n",
        "        return True\n",
        "    if isinstance(x, np.ndarray):\n",
        "        return x.dtype in (np.float16, np.float32, np.float64, np.float128)\n",
        "    if isinstance(x, jnp.ndarray):\n",
        "        return x.dtype in (jnp.float16, jnp.float32, jnp.float64)\n",
        "    return False"
      ]
    },
    {
      "cell_type": "code",
      "execution_count": 22,
      "id": "28374448",
      "metadata": {
        "execution": {
          "iopub.execute_input": "2023-07-01T03:31:59.557752Z",
          "iopub.status.busy": "2023-07-01T03:31:59.557555Z",
          "iopub.status.idle": "2023-07-01T03:31:59.562358Z",
          "shell.execute_reply": "2023-07-01T03:31:59.561991Z"
        },
        "papermill": {
          "duration": 0.02273,
          "end_time": "2023-07-01T03:31:59.564937",
          "exception": false,
          "start_time": "2023-07-01T03:31:59.542207",
          "status": "completed"
        },
        "tags": []
      },
      "outputs": [],
      "source": [
        "assert is_float(3.0)\n",
        "assert not is_float(3)\n",
        "assert not is_float(3.0 + 2j)\n",
        "assert not is_float(jnp.array(3.0, dtype=complex))\n",
        "assert not is_float(jnp.array(3, dtype=int))"
      ]
    },
    {
      "cell_type": "markdown",
      "id": "ca2e27a01c75b60b",
      "metadata": {},
      "source": [
        ":::{eval-rst}\n",
        ".. autofunction:: sax.typing_.is_complex\n",
        ":::\n"
      ]
    },
    {
      "cell_type": "code",
      "execution_count": 23,
      "id": "424d0af25b3ad1a0",
      "metadata": {
        "execution": {
          "iopub.execute_input": "2023-07-01T03:31:59.605960Z",
          "iopub.status.busy": "2023-07-01T03:31:59.605775Z",
          "iopub.status.idle": "2023-07-01T03:31:59.609048Z",
          "shell.execute_reply": "2023-07-01T03:31:59.608683Z"
        },
        "papermill": {
          "duration": 0.023126,
          "end_time": "2023-07-01T03:31:59.610494",
          "exception": false,
          "start_time": "2023-07-01T03:31:59.587368",
          "status": "completed"
        },
        "tags": [
          "hide-input"
        ]
      },
      "outputs": [],
      "source": [
        "def is_complex(x: Any) -> bool:\n",
        "    \"\"\"check if an object is a `ComplexFloat`\"\"\"\n",
        "    if isinstance(x, complex):\n",
        "        return True\n",
        "    if isinstance(x, np.ndarray):\n",
        "        return x.dtype in (np.complex64, np.complex128)\n",
        "    if isinstance(x, jnp.ndarray):\n",
        "        return x.dtype in (jnp.complex64, jnp.complex128)\n",
        "    return False"
      ]
    },
    {
      "cell_type": "code",
      "execution_count": 24,
      "id": "d81a703d",
      "metadata": {
        "execution": {
          "iopub.execute_input": "2023-07-01T03:31:59.653868Z",
          "iopub.status.busy": "2023-07-01T03:31:59.653683Z",
          "iopub.status.idle": "2023-07-01T03:31:59.657144Z",
          "shell.execute_reply": "2023-07-01T03:31:59.656757Z"
        },
        "papermill": {
          "duration": 0.031845,
          "end_time": "2023-07-01T03:31:59.658201",
          "exception": false,
          "start_time": "2023-07-01T03:31:59.626356",
          "status": "completed"
        },
        "tags": []
      },
      "outputs": [],
      "source": [
        "assert not is_complex(3.0)\n",
        "assert not is_complex(3)\n",
        "assert is_complex(3.0 + 2j)\n",
        "assert is_complex(jnp.array(3.0, dtype=complex))\n",
        "assert not is_complex(jnp.array(3, dtype=int))"
      ]
    },
    {
      "cell_type": "markdown",
      "id": "9ffbfe44b9831648",
      "metadata": {},
      "source": [
        ":::{eval-rst}\n",
        ".. autofunction:: sax.typing_.is_complex_float\n",
        ":::\n"
      ]
    },
    {
      "cell_type": "code",
      "execution_count": 25,
      "id": "b1f132b5782d03f6",
      "metadata": {
        "execution": {
          "iopub.execute_input": "2023-07-01T03:31:59.699616Z",
          "iopub.status.busy": "2023-07-01T03:31:59.699417Z",
          "iopub.status.idle": "2023-07-01T03:31:59.701924Z",
          "shell.execute_reply": "2023-07-01T03:31:59.701561Z"
        },
        "papermill": {
          "duration": 0.024437,
          "end_time": "2023-07-01T03:31:59.704663",
          "exception": false,
          "start_time": "2023-07-01T03:31:59.680226",
          "status": "completed"
        },
        "tags": [
          "hide-input"
        ]
      },
      "outputs": [],
      "source": [
        "def is_complex_float(x: Any) -> bool:\n",
        "    \"\"\"check if an object is either a `ComplexFloat` or a `Float`\"\"\"\n",
        "    return is_float(x) or is_complex(x)"
      ]
    },
    {
      "cell_type": "code",
      "execution_count": 26,
      "id": "c533ff0d",
      "metadata": {
        "execution": {
          "iopub.execute_input": "2023-07-01T03:31:59.751615Z",
          "iopub.status.busy": "2023-07-01T03:31:59.751370Z",
          "iopub.status.idle": "2023-07-01T03:31:59.755107Z",
          "shell.execute_reply": "2023-07-01T03:31:59.754707Z"
        },
        "papermill": {
          "duration": 0.034931,
          "end_time": "2023-07-01T03:31:59.757104",
          "exception": false,
          "start_time": "2023-07-01T03:31:59.722173",
          "status": "completed"
        },
        "tags": []
      },
      "outputs": [],
      "source": [
        "assert is_complex_float(3.0)\n",
        "assert not is_complex_float(3)\n",
        "assert is_complex_float(3.0 + 2j)\n",
        "assert is_complex_float(jnp.array(3.0, dtype=complex))\n",
        "assert not is_complex_float(jnp.array(3, dtype=int))"
      ]
    },
    {
      "cell_type": "markdown",
      "id": "060a3c57f64bf69a",
      "metadata": {},
      "source": [
        ":::{eval-rst}\n",
        ".. autofunction:: sax.typing_.is_sdict\n",
        ":::\n"
      ]
    },
    {
      "cell_type": "code",
      "execution_count": 27,
      "id": "04145298b55e90de",
      "metadata": {
        "execution": {
          "iopub.execute_input": "2023-07-01T03:31:59.801099Z",
          "iopub.status.busy": "2023-07-01T03:31:59.800862Z",
          "iopub.status.idle": "2023-07-01T03:31:59.803675Z",
          "shell.execute_reply": "2023-07-01T03:31:59.803272Z"
        },
        "papermill": {
          "duration": 0.021986,
          "end_time": "2023-07-01T03:31:59.805848",
          "exception": false,
          "start_time": "2023-07-01T03:31:59.783862",
          "status": "completed"
        },
        "tags": [
          "hide-input"
        ]
      },
      "outputs": [],
      "source": [
        "def is_sdict(x: Any) -> bool:\n",
        "    \"\"\"check if an object is an `SDict` (a SAX S-dictionary)\"\"\"\n",
        "    return isinstance(x, dict)"
      ]
    },
    {
      "cell_type": "code",
      "execution_count": 28,
      "id": "cb0365dc",
      "metadata": {
        "execution": {
          "iopub.execute_input": "2023-07-01T03:31:59.831319Z",
          "iopub.status.busy": "2023-07-01T03:31:59.831134Z",
          "iopub.status.idle": "2023-07-01T03:31:59.833662Z",
          "shell.execute_reply": "2023-07-01T03:31:59.833299Z"
        },
        "papermill": {
          "duration": 0.015331,
          "end_time": "2023-07-01T03:31:59.835442",
          "exception": false,
          "start_time": "2023-07-01T03:31:59.820111",
          "status": "completed"
        },
        "tags": []
      },
      "outputs": [],
      "source": [
        "assert not is_sdict(object())\n",
        "assert is_sdict(_sdict)\n",
        "assert not is_sdict(_scoo)\n",
        "assert not is_sdict(_sdense)"
      ]
    },
    {
      "cell_type": "markdown",
      "id": "09efb26568ace31e",
      "metadata": {},
      "source": [
        ":::{eval-rst}\n",
        ".. autofunction:: sax.typing_.is_scoo\n",
        ":::\n"
      ]
    },
    {
      "cell_type": "code",
      "execution_count": 29,
      "id": "8458150b9b25e907",
      "metadata": {
        "execution": {
          "iopub.execute_input": "2023-07-01T03:31:59.861473Z",
          "iopub.status.busy": "2023-07-01T03:31:59.861288Z",
          "iopub.status.idle": "2023-07-01T03:31:59.864097Z",
          "shell.execute_reply": "2023-07-01T03:31:59.863720Z"
        },
        "papermill": {
          "duration": 0.020236,
          "end_time": "2023-07-01T03:31:59.866377",
          "exception": false,
          "start_time": "2023-07-01T03:31:59.846141",
          "status": "completed"
        },
        "tags": [
          "hide-input"
        ]
      },
      "outputs": [],
      "source": [
        "def is_scoo(x: Any) -> bool:\n",
        "    \"\"\"check if an object is an `SCoo` (a SAX sparse S-matrix representation in COO-format)\"\"\"\n",
        "    return isinstance(x, (tuple, list)) and len(x) == 4"
      ]
    },
    {
      "cell_type": "code",
      "execution_count": 30,
      "id": "9ea0239a",
      "metadata": {
        "execution": {
          "iopub.execute_input": "2023-07-01T03:31:59.910897Z",
          "iopub.status.busy": "2023-07-01T03:31:59.910701Z",
          "iopub.status.idle": "2023-07-01T03:31:59.913174Z",
          "shell.execute_reply": "2023-07-01T03:31:59.912803Z"
        },
        "papermill": {
          "duration": 0.030701,
          "end_time": "2023-07-01T03:31:59.915507",
          "exception": false,
          "start_time": "2023-07-01T03:31:59.884806",
          "status": "completed"
        },
        "tags": []
      },
      "outputs": [],
      "source": [
        "assert not is_scoo(object)\n",
        "assert not is_scoo(_sdict)\n",
        "assert is_scoo(_scoo)\n",
        "assert not is_scoo(_sdense)"
      ]
    },
    {
      "cell_type": "markdown",
      "id": "7d714c0d14e09656",
      "metadata": {},
      "source": [
        ":::{eval-rst}\n",
        ".. autofunction:: sax.typing_.is_sdense\n",
        ":::\n"
      ]
    },
    {
      "cell_type": "code",
      "execution_count": 31,
      "id": "e63ad2e58c9c52cd",
      "metadata": {
        "execution": {
          "iopub.execute_input": "2023-07-01T03:31:59.957330Z",
          "iopub.status.busy": "2023-07-01T03:31:59.957139Z",
          "iopub.status.idle": "2023-07-01T03:31:59.959835Z",
          "shell.execute_reply": "2023-07-01T03:31:59.959452Z"
        },
        "papermill": {
          "duration": 0.033698,
          "end_time": "2023-07-01T03:31:59.963972",
          "exception": false,
          "start_time": "2023-07-01T03:31:59.930274",
          "status": "completed"
        },
        "tags": [
          "hide-input"
        ]
      },
      "outputs": [],
      "source": [
        "def is_sdense(x: Any) -> bool:\n",
        "    \"\"\"check if an object is an `SDense` (a SAX dense S-matrix representation)\"\"\"\n",
        "    return isinstance(x, (tuple, list)) and len(x) == 2"
      ]
    },
    {
      "cell_type": "code",
      "execution_count": 32,
      "id": "2eddd63a",
      "metadata": {
        "execution": {
          "iopub.execute_input": "2023-07-01T03:31:59.998153Z",
          "iopub.status.busy": "2023-07-01T03:31:59.997971Z",
          "iopub.status.idle": "2023-07-01T03:32:00.001198Z",
          "shell.execute_reply": "2023-07-01T03:32:00.000834Z"
        },
        "papermill": {
          "duration": 0.016159,
          "end_time": "2023-07-01T03:32:00.003123",
          "exception": false,
          "start_time": "2023-07-01T03:31:59.986964",
          "status": "completed"
        },
        "tags": []
      },
      "outputs": [],
      "source": [
        "assert not is_sdense(object)\n",
        "assert not is_sdense(_sdict)\n",
        "assert not is_sdense(_scoo)\n",
        "assert is_sdense(_sdense)"
      ]
    },
    {
      "cell_type": "markdown",
      "id": "9500ee8b5a1aff0a",
      "metadata": {},
      "source": [
        ":::{eval-rst}\n",
        ".. autofunction:: sax.typing_.is_model\n",
        ":::\n"
      ]
    },
    {
      "cell_type": "code",
      "execution_count": 33,
      "id": "3fe257ebbc5794b4",
      "metadata": {
        "execution": {
          "iopub.execute_input": "2023-07-01T03:32:00.024949Z",
          "iopub.status.busy": "2023-07-01T03:32:00.024763Z",
          "iopub.status.idle": "2023-07-01T03:32:00.028998Z",
          "shell.execute_reply": "2023-07-01T03:32:00.028634Z"
        },
        "papermill": {
          "duration": 0.017272,
          "end_time": "2023-07-01T03:32:00.030795",
          "exception": false,
          "start_time": "2023-07-01T03:32:00.013523",
          "status": "completed"
        },
        "tags": [
          "hide-input"
        ]
      },
      "outputs": [],
      "source": [
        "def is_model(model: Any) -> bool:\n",
        "    \"\"\"check if a callable is a `Model` (a callable returning an `SType`)\"\"\"\n",
        "    if not callable(model):\n",
        "        return False\n",
        "    try:\n",
        "        sig = inspect.signature(model)\n",
        "    except ValueError:\n",
        "        return False\n",
        "    for param in sig.parameters.values():\n",
        "        if param.default is inspect.Parameter.empty:\n",
        "            return False  # a proper SAX model does not have any positional arguments.\n",
        "    if _is_callable_annotation(sig.return_annotation):  # model factory\n",
        "        return False\n",
        "    return True\n",
        "\n",
        "def _is_callable_annotation(annotation: Any) -> bool:\n",
        "    \"\"\"check if an annotation is `Callable`-like\"\"\"\n",
        "    if isinstance(annotation, str):\n",
        "        # happens when\n",
        "        # was imported at the top of the file...\n",
        "        return annotation.startswith(\"Callable\") or annotation.endswith(\"Model\")\n",
        "        # TODO: this is not a very robust check...\n",
        "    try:\n",
        "        return annotation.__origin__ == CallableABC\n",
        "    except AttributeError:\n",
        "        return False"
      ]
    },
    {
      "cell_type": "code",
      "execution_count": 34,
      "id": "da771cb22be01615",
      "metadata": {
        "execution": {
          "iopub.execute_input": "2023-07-01T03:32:00.052519Z",
          "iopub.status.busy": "2023-07-01T03:32:00.052337Z",
          "iopub.status.idle": "2023-07-01T03:32:00.054665Z",
          "shell.execute_reply": "2023-07-01T03:32:00.054282Z"
        },
        "papermill": {
          "duration": 0.015153,
          "end_time": "2023-07-01T03:32:00.056383",
          "exception": false,
          "start_time": "2023-07-01T03:32:00.041230",
          "status": "completed"
        },
        "tags": [
          "remove-cell"
        ]
      },
      "outputs": [],
      "source": [
        "assert _is_callable_annotation(Callable)\n",
        "assert not _is_callable_annotation(SDict)"
      ]
    },
    {
      "cell_type": "code",
      "execution_count": 35,
      "id": "89bdb647",
      "metadata": {
        "execution": {
          "iopub.execute_input": "2023-07-01T03:32:00.078186Z",
          "iopub.status.busy": "2023-07-01T03:32:00.078006Z",
          "iopub.status.idle": "2023-07-01T03:32:00.094323Z",
          "shell.execute_reply": "2023-07-01T03:32:00.093951Z"
        },
        "papermill": {
          "duration": 0.028819,
          "end_time": "2023-07-01T03:32:00.095702",
          "exception": false,
          "start_time": "2023-07-01T03:32:00.066883",
          "status": "completed"
        },
        "tags": []
      },
      "outputs": [],
      "source": [
        "def good_model(x=jnp.array(3.0), y=jnp.array(4.0)) -> SDict:\n",
        "    return {(\"in0\", \"out0\"): jnp.array(3.0)}\n",
        "assert is_model(good_model)\n",
        "\n",
        "def bad_model(positional_argument, x=jnp.array(3.0), y=jnp.array(4.0)) -> SDict:\n",
        "    return {(\"in0\", \"out0\"): jnp.array(3.0)}\n",
        "assert not is_model(bad_model)"
      ]
    },
    {
      "cell_type": "markdown",
      "id": "9ac7e1d953aca158",
      "metadata": {},
      "source": [
        ":::{eval-rst}\n",
        ".. autofunction:: sax.typing_.is_model_factory\n",
        ":::\n"
      ]
    },
    {
      "cell_type": "code",
      "execution_count": 36,
      "id": "50407f9d94f52eed",
      "metadata": {
        "execution": {
          "iopub.execute_input": "2023-07-01T03:32:00.129813Z",
          "iopub.status.busy": "2023-07-01T03:32:00.129625Z",
          "iopub.status.idle": "2023-07-01T03:32:00.132522Z",
          "shell.execute_reply": "2023-07-01T03:32:00.132162Z"
        },
        "papermill": {
          "duration": 0.026806,
          "end_time": "2023-07-01T03:32:00.137104",
          "exception": false,
          "start_time": "2023-07-01T03:32:00.110298",
          "status": "completed"
        },
        "tags": [
          "hide-input"
        ]
      },
      "outputs": [],
      "source": [
        "def is_model_factory(model: Any) -> bool:\n",
        "    \"\"\"check if a callable is a model function.\"\"\"\n",
        "    if not callable(model):\n",
        "        return False\n",
        "    sig = inspect.signature(model)\n",
        "    if _is_callable_annotation(sig.return_annotation):  # model factory\n",
        "        return True\n",
        "    return False"
      ]
    },
    {
      "cell_type": "markdown",
      "id": "1f9715ed",
      "metadata": {
        "papermill": {
          "duration": 0.022147,
          "end_time": "2023-07-01T03:32:00.182109",
          "exception": false,
          "start_time": "2023-07-01T03:32:00.159962",
          "status": "completed"
        },
        "tags": []
      },
      "source": [
        "> Note: For a `Callable` to be considered a `ModelFactory` in SAX, it **MUST** have a `Callable` or `Model` return annotation. Otherwise SAX will view it as a `Model` and things might break!"
      ]
    },
    {
      "cell_type": "code",
      "execution_count": 37,
      "id": "fe9cdff0",
      "metadata": {
        "execution": {
          "iopub.execute_input": "2023-07-01T03:32:00.222342Z",
          "iopub.status.busy": "2023-07-01T03:32:00.222100Z",
          "iopub.status.idle": "2023-07-01T03:32:00.225224Z",
          "shell.execute_reply": "2023-07-01T03:32:00.224821Z"
        },
        "papermill": {
          "duration": 0.031174,
          "end_time": "2023-07-01T03:32:00.232330",
          "exception": false,
          "start_time": "2023-07-01T03:32:00.201156",
          "status": "completed"
        },
        "tags": []
      },
      "outputs": [],
      "source": [
        "def func() -> Model:\n",
        "    ...\n",
        "    \n",
        "assert is_model_factory(func) # yes, we only check the annotation for now...\n",
        "\n",
        "def func():\n",
        "    ...\n",
        "    \n",
        "assert not is_model_factory(func) # yes, we only check the annotation for now..."
      ]
    },
    {
      "cell_type": "markdown",
      "id": "b65e94af9ac76111",
      "metadata": {},
      "source": [
        ":::{eval-rst}\n",
        ".. autofunction:: sax.typing_.validate_model\n",
        ":::\n"
      ]
    },
    {
      "cell_type": "code",
      "execution_count": 38,
      "id": "9cce7a53b2fea5bb",
      "metadata": {
        "execution": {
          "iopub.execute_input": "2023-07-01T03:32:00.275264Z",
          "iopub.status.busy": "2023-07-01T03:32:00.275041Z",
          "iopub.status.idle": "2023-07-01T03:32:00.278544Z",
          "shell.execute_reply": "2023-07-01T03:32:00.278115Z"
        },
        "papermill": {
          "duration": 0.024923,
          "end_time": "2023-07-01T03:32:00.280446",
          "exception": false,
          "start_time": "2023-07-01T03:32:00.255523",
          "status": "completed"
        },
        "tags": [
          "hide-input"
        ]
      },
      "outputs": [],
      "source": [
        "def validate_model(model: Callable):\n",
        "    \"\"\"Validate the parameters of a model\"\"\"\n",
        "    positional_arguments = []\n",
        "    for param in inspect.signature(model).parameters.values():\n",
        "        if param.default is inspect.Parameter.empty:\n",
        "            positional_arguments.append(param.name)\n",
        "    if positional_arguments:\n",
        "        raise ValueError(\n",
        "            f\"model '{model}' takes positional arguments {', '.join(positional_arguments)} \"\n",
        "            \"and hence is not a valid SAX Model! A SAX model should ONLY take keyword arguments (or no arguments at all).\"\n",
        "        )"
      ]
    },
    {
      "cell_type": "code",
      "execution_count": 39,
      "id": "754399d5",
      "metadata": {
        "execution": {
          "iopub.execute_input": "2023-07-01T03:32:00.319061Z",
          "iopub.status.busy": "2023-07-01T03:32:00.318859Z",
          "iopub.status.idle": "2023-07-01T03:32:00.322469Z",
          "shell.execute_reply": "2023-07-01T03:32:00.322092Z"
        },
        "papermill": {
          "duration": 0.02861,
          "end_time": "2023-07-01T03:32:00.328185",
          "exception": false,
          "start_time": "2023-07-01T03:32:00.299575",
          "status": "completed"
        },
        "tags": []
      },
      "outputs": [],
      "source": [
        "def good_model(x=jnp.array(3.0), y=jnp.array(4.0)) -> SDict:\n",
        "    return {(\"in0\", \"out0\"): jnp.array(3.0)}\n",
        "\n",
        "\n",
        "assert validate_model(good_model) is None"
      ]
    },
    {
      "cell_type": "code",
      "execution_count": 40,
      "id": "181c72fa",
      "metadata": {
        "execution": {
          "iopub.execute_input": "2023-07-01T03:32:00.373922Z",
          "iopub.status.busy": "2023-07-01T03:32:00.373719Z",
          "iopub.status.idle": "2023-07-01T03:32:00.377494Z",
          "shell.execute_reply": "2023-07-01T03:32:00.377116Z"
        },
        "papermill": {
          "duration": 0.032214,
          "end_time": "2023-07-01T03:32:00.379396",
          "exception": false,
          "start_time": "2023-07-01T03:32:00.347182",
          "status": "completed"
        },
        "tags": []
      },
      "outputs": [],
      "source": [
        "def bad_model(positional_argument, x=jnp.array(3.0), y=jnp.array(4.0)) -> SDict:\n",
        "    return {(\"in0\", \"out0\"): jnp.array(3.0)}\n",
        "\n",
        "\n",
        "with raises(ValueError):\n",
        "    validate_model(bad_model)"
      ]
    },
    {
      "cell_type": "markdown",
      "id": "b689685c2b62f6b0",
      "metadata": {},
      "source": [
        ":::{eval-rst}\n",
        ".. autofunction:: sax.typing_.is_stype\n",
        ":::\n"
      ]
    },
    {
      "cell_type": "code",
      "execution_count": 41,
      "id": "08e41f6e2e0946d7",
      "metadata": {
        "execution": {
          "iopub.execute_input": "2023-07-01T03:32:00.401917Z",
          "iopub.status.busy": "2023-07-01T03:32:00.401724Z",
          "iopub.status.idle": "2023-07-01T03:32:00.404413Z",
          "shell.execute_reply": "2023-07-01T03:32:00.404047Z"
        },
        "papermill": {
          "duration": 0.015861,
          "end_time": "2023-07-01T03:32:00.406154",
          "exception": false,
          "start_time": "2023-07-01T03:32:00.390293",
          "status": "completed"
        },
        "tags": [
          "hide-input"
        ]
      },
      "outputs": [],
      "source": [
        "def is_stype(stype: Any) -> bool:\n",
        "    \"\"\"check if an object is an SDict, SCoo or SDense\"\"\"\n",
        "    return is_sdict(stype) or is_scoo(stype) or is_sdense(stype)"
      ]
    },
    {
      "cell_type": "markdown",
      "id": "f89729f6fa8ec568",
      "metadata": {},
      "source": [
        ":::{eval-rst}\n",
        ".. autofunction:: sax.typing_.is_singlemode\n",
        ":::\n"
      ]
    },
    {
      "cell_type": "code",
      "execution_count": 42,
      "id": "99305a4545baeaaf",
      "metadata": {
        "execution": {
          "iopub.execute_input": "2023-07-01T03:32:00.428459Z",
          "iopub.status.busy": "2023-07-01T03:32:00.428279Z",
          "iopub.status.idle": "2023-07-01T03:32:00.432257Z",
          "shell.execute_reply": "2023-07-01T03:32:00.431902Z"
        },
        "papermill": {
          "duration": 0.017153,
          "end_time": "2023-07-01T03:32:00.433965",
          "exception": false,
          "start_time": "2023-07-01T03:32:00.416812",
          "status": "completed"
        },
        "tags": [
          "hide-input"
        ]
      },
      "outputs": [],
      "source": [
        "def is_singlemode(S: Any) -> bool:\n",
        "    \"\"\"check if an stype is single mode\"\"\"\n",
        "    if not is_stype(S):\n",
        "        return False\n",
        "    ports = _get_ports(S)\n",
        "    return not any((\"@\" in p) for p in ports)\n",
        "\n",
        "def _get_ports(S: SType):\n",
        "    if is_sdict(S):\n",
        "        S = cast(SDict, S)\n",
        "        ports_set = {p1 for p1, _ in S} | {p2 for _, p2 in S}\n",
        "        return tuple(natsorted(ports_set))\n",
        "    else:\n",
        "        *_, ports_map = S\n",
        "        assert isinstance(ports_map, dict)\n",
        "        return tuple(natsorted(ports_map.keys()))"
      ]
    },
    {
      "cell_type": "markdown",
      "id": "16f5c893e4faf133",
      "metadata": {},
      "source": [
        ":::{eval-rst}\n",
        ".. autofunction:: sax.typing_.is_multimode\n",
        ":::\n"
      ]
    },
    {
      "cell_type": "code",
      "execution_count": 43,
      "id": "a8a424c2ff811305",
      "metadata": {
        "execution": {
          "iopub.execute_input": "2023-07-01T03:32:00.456354Z",
          "iopub.status.busy": "2023-07-01T03:32:00.456172Z",
          "iopub.status.idle": "2023-07-01T03:32:00.458937Z",
          "shell.execute_reply": "2023-07-01T03:32:00.458580Z"
        },
        "papermill": {
          "duration": 0.016867,
          "end_time": "2023-07-01T03:32:00.461540",
          "exception": false,
          "start_time": "2023-07-01T03:32:00.444673",
          "status": "completed"
        },
        "tags": [
          "hide-input"
        ]
      },
      "outputs": [],
      "source": [
        "def is_multimode(S: Any) -> bool:\n",
        "    \"\"\"check if an stype is single mode\"\"\"\n",
        "    if not is_stype(S):\n",
        "        return False\n",
        "    \n",
        "    ports = _get_ports(S)\n",
        "    return all((\"@\" in p) for p in ports)"
      ]
    },
    {
      "cell_type": "markdown",
      "id": "594549499051df81",
      "metadata": {},
      "source": [
        ":::{eval-rst}\n",
        ".. autofunction:: sax.typing_.is_mixedmode\n",
        ":::\n"
      ]
    },
    {
      "cell_type": "code",
      "execution_count": 44,
      "id": "11b75350be0ce1e8",
      "metadata": {
        "execution": {
          "iopub.execute_input": "2023-07-01T03:32:00.512036Z",
          "iopub.status.busy": "2023-07-01T03:32:00.511831Z",
          "iopub.status.idle": "2023-07-01T03:32:00.514515Z",
          "shell.execute_reply": "2023-07-01T03:32:00.514081Z"
        },
        "papermill": {
          "duration": 0.028939,
          "end_time": "2023-07-01T03:32:00.516284",
          "exception": false,
          "start_time": "2023-07-01T03:32:00.487345",
          "status": "completed"
        },
        "tags": [
          "hide-input"
        ]
      },
      "outputs": [],
      "source": [
        "def is_mixedmode(S: Any) -> bool:\n",
        "    \"\"\"check if an stype is neither single mode nor multimode (hence invalid)\"\"\"\n",
        "    return not is_singlemode(S) and not is_multimode(S)"
      ]
    },
    {
      "cell_type": "markdown",
      "id": "3afe685c",
      "metadata": {
        "papermill": {
          "duration": 0.020087,
          "end_time": "2023-07-01T03:32:00.552449",
          "exception": false,
          "start_time": "2023-07-01T03:32:00.532362",
          "status": "completed"
        },
        "tags": []
      },
      "source": [
        "## SAX return type helpers\n",
        "\n",
        "> a.k.a SDict, SDense, SCoo helpers"
      ]
    },
    {
      "cell_type": "markdown",
      "id": "a875f149",
      "metadata": {
        "papermill": {
          "duration": 0.010725,
          "end_time": "2023-07-01T03:32:00.573976",
          "exception": false,
          "start_time": "2023-07-01T03:32:00.563251",
          "status": "completed"
        },
        "tags": []
      },
      "source": [
        "Convert an `SDict`, `SCoo` or `SDense` into an `SDict` (or convert a model generating any of these types into a model generating an `SDict`):"
      ]
    },
    {
      "cell_type": "code",
      "execution_count": 45,
      "id": "2163f16648a37984",
      "metadata": {
        "execution": {
          "iopub.execute_input": "2023-07-01T03:32:00.596577Z",
          "iopub.status.busy": "2023-07-01T03:32:00.596359Z",
          "iopub.status.idle": "2023-07-01T03:32:00.599127Z",
          "shell.execute_reply": "2023-07-01T03:32:00.598756Z"
        },
        "papermill": {
          "duration": 0.016212,
          "end_time": "2023-07-01T03:32:00.600946",
          "exception": false,
          "start_time": "2023-07-01T03:32:00.584734",
          "status": "completed"
        },
        "tags": [
          "remove-cell"
        ]
      },
      "outputs": [],
      "source": [
        "\n",
        "@overload\n",
        "def sdict(S: Model) -> Model:\n",
        "    ...\n",
        "\n",
        "\n",
        "@overload\n",
        "def sdict(S: SType) -> SDict:\n",
        "    ..."
      ]
    },
    {
      "cell_type": "markdown",
      "id": "a29bc36e3d005f33",
      "metadata": {},
      "source": [
        ":::{eval-rst}\n",
        ".. autofunction:: sax.typing_.sdict\n",
        ":::\n"
      ]
    },
    {
      "cell_type": "code",
      "execution_count": 46,
      "id": "a6e8e9f9bd96a05f",
      "metadata": {
        "execution": {
          "iopub.execute_input": "2023-07-01T03:32:00.623373Z",
          "iopub.status.busy": "2023-07-01T03:32:00.623192Z",
          "iopub.status.idle": "2023-07-01T03:32:00.630195Z",
          "shell.execute_reply": "2023-07-01T03:32:00.629826Z"
        },
        "papermill": {
          "duration": 0.019777,
          "end_time": "2023-07-01T03:32:00.631516",
          "exception": false,
          "start_time": "2023-07-01T03:32:00.611739",
          "status": "completed"
        },
        "tags": [
          "hide-input"
        ]
      },
      "outputs": [],
      "source": [
        "def sdict(S: Union[Model, SType]) -> Union[Model, SType]:\n",
        "    \"\"\"Convert an `SCoo` or `SDense` to `SDict`\"\"\"\n",
        "\n",
        "    if is_model(S):\n",
        "        model = cast(Model, S)\n",
        "\n",
        "        @functools.wraps(model)\n",
        "        def wrapper(**kwargs):\n",
        "            return sdict(model(**kwargs))\n",
        "\n",
        "        return wrapper\n",
        "\n",
        "    elif is_scoo(S):\n",
        "        x_dict = _scoo_to_sdict(*cast(SCoo, S))\n",
        "    elif is_sdense(S):\n",
        "        x_dict = _sdense_to_sdict(*cast(SDense, S))\n",
        "    elif is_sdict(S):\n",
        "        x_dict = cast(SDict, S)\n",
        "    else:\n",
        "        raise ValueError(\"Could not convert arguments to sdict.\")\n",
        "\n",
        "    return x_dict\n",
        "\n",
        "\n",
        "def _scoo_to_sdict(Si: Array, Sj: Array, Sx: Array, ports_map: Dict[str, int]) -> SDict:\n",
        "    sdict = {}\n",
        "    inverse_ports_map = {int(i): p for p, i in ports_map.items()}\n",
        "    for i, (si, sj) in enumerate(zip(Si, Sj)):\n",
        "        sdict[\n",
        "            inverse_ports_map.get(int(si), \"\"), inverse_ports_map.get(int(sj), \"\")\n",
        "        ] = Sx[..., i]\n",
        "    sdict = {(p1, p2): v for (p1, p2), v in sdict.items() if p1 and p2}\n",
        "    return sdict\n",
        "\n",
        "\n",
        "def _sdense_to_sdict(S: Array, ports_map: Dict[str, int]) -> SDict:\n",
        "    sdict = {}\n",
        "    for p1, i in ports_map.items():\n",
        "        for p2, j in ports_map.items():\n",
        "            sdict[p1, p2] = S[..., i, j]\n",
        "    return sdict"
      ]
    },
    {
      "cell_type": "code",
      "execution_count": 47,
      "id": "9a372fbf",
      "metadata": {
        "execution": {
          "iopub.execute_input": "2023-07-01T03:32:00.654027Z",
          "iopub.status.busy": "2023-07-01T03:32:00.653845Z",
          "iopub.status.idle": "2023-07-01T03:32:00.782572Z",
          "shell.execute_reply": "2023-07-01T03:32:00.782112Z"
        },
        "papermill": {
          "duration": 0.141891,
          "end_time": "2023-07-01T03:32:00.784296",
          "exception": false,
          "start_time": "2023-07-01T03:32:00.642405",
          "status": "completed"
        },
        "tags": []
      },
      "outputs": [],
      "source": [
        "assert sdict(_sdict) is _sdict\n",
        "assert sdict(_scoo) == {\n",
        "    (\"in0\", \"in0\"): 3.0,\n",
        "    (\"in1\", \"in0\"): 1.0,\n",
        "    (\"out0\", \"out0\"): 4.0,\n",
        "}\n",
        "assert sdict(_sdense) == {\n",
        "    (\"in0\", \"in0\"): 0.0,\n",
        "    (\"in0\", \"out0\"): 1.0,\n",
        "    (\"in0\", \"in1\"): 2.0,\n",
        "    (\"out0\", \"in0\"): 3.0,\n",
        "    (\"out0\", \"out0\"): 4.0,\n",
        "    (\"out0\", \"in1\"): 5.0,\n",
        "    (\"in1\", \"in0\"): 6.0,\n",
        "    (\"in1\", \"out0\"): 7.0,\n",
        "    (\"in1\", \"in1\"): 8.0,\n",
        "}"
      ]
    },
    {
      "cell_type": "markdown",
      "id": "492c5cdd",
      "metadata": {
        "papermill": {
          "duration": 0.02083,
          "end_time": "2023-07-01T03:32:00.821541",
          "exception": false,
          "start_time": "2023-07-01T03:32:00.800711",
          "status": "completed"
        },
        "tags": []
      },
      "source": [
        "Convert an `SDict`, `SCoo` or `SDense` into an `SCoo` (or convert a model generating any of these types into a model generating an `SCoo`):"
      ]
    },
    {
      "cell_type": "code",
      "execution_count": 48,
      "id": "bf25df82787545d9",
      "metadata": {
        "execution": {
          "iopub.execute_input": "2023-07-01T03:32:00.865268Z",
          "iopub.status.busy": "2023-07-01T03:32:00.865038Z",
          "iopub.status.idle": "2023-07-01T03:32:00.867939Z",
          "shell.execute_reply": "2023-07-01T03:32:00.867549Z"
        },
        "papermill": {
          "duration": 0.030376,
          "end_time": "2023-07-01T03:32:00.871431",
          "exception": false,
          "start_time": "2023-07-01T03:32:00.841055",
          "status": "completed"
        },
        "tags": [
          "remove-cell"
        ]
      },
      "outputs": [],
      "source": [
        "\n",
        "@overload\n",
        "def scoo(S: Callable) -> Callable:\n",
        "    ...\n",
        "\n",
        "\n",
        "@overload\n",
        "def scoo(S: SType) -> SCoo:\n",
        "    ..."
      ]
    },
    {
      "cell_type": "markdown",
      "id": "b0beebcfc582be7e",
      "metadata": {},
      "source": [
        ":::{eval-rst}\n",
        ".. autofunction:: sax.typing_.scoo\n",
        ":::\n"
      ]
    },
    {
      "cell_type": "code",
      "execution_count": 49,
      "id": "364913094fda320e",
      "metadata": {
        "execution": {
          "iopub.execute_input": "2023-07-01T03:32:00.917850Z",
          "iopub.status.busy": "2023-07-01T03:32:00.917645Z",
          "iopub.status.idle": "2023-07-01T03:32:00.925054Z",
          "shell.execute_reply": "2023-07-01T03:32:00.924675Z"
        },
        "papermill": {
          "duration": 0.030911,
          "end_time": "2023-07-01T03:32:00.926123",
          "exception": false,
          "start_time": "2023-07-01T03:32:00.895212",
          "status": "completed"
        },
        "tags": [
          "hide-input"
        ]
      },
      "outputs": [],
      "source": [
        "\n",
        "def scoo(S: Union[Callable, SType]) -> Union[Callable, SCoo]:\n",
        "    \"\"\"Convert an `SDict` or `SDense` to `SCoo`\"\"\"\n",
        "\n",
        "    if is_model(S):\n",
        "        model = cast(Model, S)\n",
        "\n",
        "        @functools.wraps(model)\n",
        "        def wrapper(**kwargs):\n",
        "            return scoo(model(**kwargs))\n",
        "\n",
        "        return wrapper\n",
        "\n",
        "    elif is_scoo(S):\n",
        "        S = cast(SCoo, S)\n",
        "    elif is_sdense(S):\n",
        "        S = _sdense_to_scoo(*cast(SDense, S))\n",
        "    elif is_sdict(S):\n",
        "        S = _sdict_to_scoo(cast(SDict, S))\n",
        "    else:\n",
        "        raise ValueError(\"Could not convert arguments to scoo.\")\n",
        "\n",
        "    return S\n",
        "\n",
        "def _consolidate_sdense(S, pm):\n",
        "    idxs = list(pm.values())\n",
        "    S = S[..., idxs, :][..., :, idxs]\n",
        "    pm = {p: i for i, p in enumerate(pm)}\n",
        "    return S, pm\n",
        "\n",
        "def _sdense_to_scoo(S: Array, ports_map: Dict[str, int]) -> SCoo:\n",
        "    S, ports_map = _consolidate_sdense(S, ports_map)\n",
        "    Sj, Si = jnp.meshgrid(jnp.arange(S.shape[-1]), jnp.arange(S.shape[-2]))\n",
        "    return Si.ravel(), Sj.ravel(), S.reshape(*S.shape[:-2], -1), ports_map\n",
        "\n",
        "\n",
        "def _sdict_to_scoo(sdict: SDict) -> SCoo:\n",
        "    all_ports = {}\n",
        "    for p1, p2 in sdict:\n",
        "        all_ports[p1] = None\n",
        "        all_ports[p2] = None\n",
        "    ports_map = {p: i for i, p in enumerate(all_ports)}\n",
        "    Sx = jnp.stack(jnp.broadcast_arrays(*sdict.values()), -1)\n",
        "    Si = jnp.array([ports_map[p] for p, _ in sdict])\n",
        "    Sj = jnp.array([ports_map[p] for _, p in sdict])\n",
        "    return Si, Sj, Sx, ports_map"
      ]
    },
    {
      "cell_type": "code",
      "execution_count": 50,
      "id": "2e409185-a9f6-4ea9-af09-1c184557f02d",
      "metadata": {
        "execution": {
          "iopub.execute_input": "2023-07-01T03:32:00.965514Z",
          "iopub.status.busy": "2023-07-01T03:32:00.965309Z",
          "iopub.status.idle": "2023-07-01T03:32:01.231819Z",
          "shell.execute_reply": "2023-07-01T03:32:01.231408Z"
        },
        "papermill": {
          "duration": 0.29166,
          "end_time": "2023-07-01T03:32:01.233018",
          "exception": false,
          "start_time": "2023-07-01T03:32:00.941358",
          "status": "completed"
        },
        "tags": []
      },
      "outputs": [
        {
          "data": {
            "text/plain": [
              "(Array([0, 0, 0, 1, 1, 1, 2, 2, 2], dtype=int32),\n",
              " Array([0, 1, 2, 0, 1, 2, 0, 1, 2], dtype=int32),\n",
              " Array([0., 2., 1., 6., 8., 7., 3., 5., 4.], dtype=float32),\n",
              " {'in0': 0, 'in1': 1, 'out0': 2})"
            ]
          },
          "execution_count": 50,
          "metadata": {},
          "output_type": "execute_result"
        }
      ],
      "source": [
        "scoo(_sdense)"
      ]
    },
    {
      "cell_type": "code",
      "execution_count": 51,
      "id": "1e97b31c",
      "metadata": {
        "execution": {
          "iopub.execute_input": "2023-07-01T03:32:01.270522Z",
          "iopub.status.busy": "2023-07-01T03:32:01.270266Z",
          "iopub.status.idle": "2023-07-01T03:32:01.377763Z",
          "shell.execute_reply": "2023-07-01T03:32:01.377297Z"
        },
        "papermill": {
          "duration": 0.134634,
          "end_time": "2023-07-01T03:32:01.379241",
          "exception": false,
          "start_time": "2023-07-01T03:32:01.244607",
          "status": "completed"
        },
        "tags": []
      },
      "outputs": [],
      "source": [
        "assert scoo(_scoo) is _scoo\n",
        "assert scoo(_sdict) == (0, 1, 3.0, {\"in0\": 0, \"out0\": 1})\n",
        "Si, Sj, Sx, port_map = scoo(_sdense)  # type: ignore\n",
        "np.testing.assert_array_equal(Si, jnp.array([0, 0, 0, 1, 1, 1, 2, 2, 2]))\n",
        "np.testing.assert_array_equal(Sj, jnp.array([0, 1, 2, 0, 1, 2, 0, 1, 2]))\n",
        "np.testing.assert_array_almost_equal(Sx, jnp.array([0.0, 2.0, 1.0, 6.0, 8.0, 7.0, 3.0, 5.0, 4.0]))\n",
        "assert port_map == {\"in0\": 0, \"in1\": 1, \"out0\": 2}"
      ]
    },
    {
      "cell_type": "markdown",
      "id": "5e58325b",
      "metadata": {
        "papermill": {
          "duration": 0.023318,
          "end_time": "2023-07-01T03:32:01.414793",
          "exception": false,
          "start_time": "2023-07-01T03:32:01.391475",
          "status": "completed"
        },
        "tags": []
      },
      "source": [
        "Convert an `SDict`, `SCoo` or `SDense` into an `SDense` (or convert a model generating any of these types into a model generating an `SDense`):"
      ]
    },
    {
      "cell_type": "code",
      "execution_count": 52,
      "id": "2ba5091dd6aaf690",
      "metadata": {
        "execution": {
          "iopub.execute_input": "2023-07-01T03:32:01.459666Z",
          "iopub.status.busy": "2023-07-01T03:32:01.459424Z",
          "iopub.status.idle": "2023-07-01T03:32:01.462426Z",
          "shell.execute_reply": "2023-07-01T03:32:01.462010Z"
        },
        "papermill": {
          "duration": 0.023554,
          "end_time": "2023-07-01T03:32:01.464171",
          "exception": false,
          "start_time": "2023-07-01T03:32:01.440617",
          "status": "completed"
        },
        "tags": [
          "remove-cell"
        ]
      },
      "outputs": [],
      "source": [
        "\n",
        "@overload\n",
        "def sdense(S: Callable) -> Callable:\n",
        "    ...\n",
        "\n",
        "\n",
        "@overload\n",
        "def sdense(S: SType) -> SDense:\n",
        "    ..."
      ]
    },
    {
      "cell_type": "markdown",
      "id": "80fe0d90cb77d889",
      "metadata": {},
      "source": [
        ":::{eval-rst}\n",
        ".. autofunction:: sax.typing_.sdense\n",
        ":::\n"
      ]
    },
    {
      "cell_type": "code",
      "execution_count": 53,
      "id": "4f45c38f4878bc7b",
      "metadata": {
        "execution": {
          "iopub.execute_input": "2023-07-01T03:32:01.504780Z",
          "iopub.status.busy": "2023-07-01T03:32:01.504586Z",
          "iopub.status.idle": "2023-07-01T03:32:01.510402Z",
          "shell.execute_reply": "2023-07-01T03:32:01.510046Z"
        },
        "papermill": {
          "duration": 0.030935,
          "end_time": "2023-07-01T03:32:01.511506",
          "exception": false,
          "start_time": "2023-07-01T03:32:01.480571",
          "status": "completed"
        },
        "tags": [
          "hide-input"
        ]
      },
      "outputs": [],
      "source": [
        "\n",
        "def sdense(S: Union[Callable, SType]) -> Union[Callable, SDense]:\n",
        "    \"\"\"Convert an `SDict` or `SCoo` to `SDense`\"\"\"\n",
        "\n",
        "    if is_model(S):\n",
        "        model = cast(Model, S)\n",
        "\n",
        "        @functools.wraps(model)\n",
        "        def wrapper(**kwargs):\n",
        "            return sdense(model(**kwargs))\n",
        "\n",
        "        return wrapper\n",
        "\n",
        "    if is_sdict(S):\n",
        "        S = _sdict_to_sdense(cast(SDict, S))\n",
        "    elif is_scoo(S):\n",
        "        S = _scoo_to_sdense(*cast(SCoo, S))\n",
        "    elif is_sdense(S):\n",
        "        S = cast(SDense, S)\n",
        "    else:\n",
        "        raise ValueError(\"Could not convert arguments to sdense.\")\n",
        "\n",
        "    return S\n",
        "\n",
        "\n",
        "def _scoo_to_sdense(\n",
        "    Si: Array, Sj: Array, Sx: Array, ports_map: Dict[str, int]\n",
        ") -> SDense:\n",
        "    n_col = len(ports_map)\n",
        "    S = jnp.zeros((*Sx.shape[:-1], n_col, n_col), dtype=complex)\n",
        "    if JAX_AVAILABLE:\n",
        "        S = S.at[..., Si, Sj].add(Sx)\n",
        "    else:\n",
        "        S[..., Si, Sj] = Sx\n",
        "    return S, ports_map\n",
        "\n",
        "def _sdict_to_sdense(sdict: SDict) -> SDense:\n",
        "    Si, Sj, Sx, ports_map = _sdict_to_scoo(sdict)\n",
        "    return _scoo_to_sdense(Si, Sj, Sx, ports_map)"
      ]
    },
    {
      "cell_type": "code",
      "execution_count": 54,
      "id": "084b7ddb",
      "metadata": {
        "execution": {
          "iopub.execute_input": "2023-07-01T03:32:01.559631Z",
          "iopub.status.busy": "2023-07-01T03:32:01.559419Z",
          "iopub.status.idle": "2023-07-01T03:32:01.683587Z",
          "shell.execute_reply": "2023-07-01T03:32:01.683159Z"
        },
        "papermill": {
          "duration": 0.154376,
          "end_time": "2023-07-01T03:32:01.685304",
          "exception": false,
          "start_time": "2023-07-01T03:32:01.530928",
          "status": "completed"
        },
        "tags": []
      },
      "outputs": [],
      "source": [
        "assert sdense(_sdense) is _sdense\n",
        "Sd, port_map = sdense(_scoo)  # type: ignore\n",
        "Sd_ = jnp.array([[3.0 + 0.0j, 0.0 + 0.0j, 0.0 + 0.0j],\n",
        "                 [0.0 + 0.0j, 4.0 + 0.0j, 0.0 + 0.0j],\n",
        "                 [1.0 + 0.0j, 0.0 + 0.0j, 0.0 + 0.0j]])\n",
        "\n",
        "np.testing.assert_array_almost_equal(Sd, Sd_)\n",
        "assert port_map == {\"in0\": 0, \"in1\": 2, \"out0\": 1}"
      ]
    },
    {
      "cell_type": "markdown",
      "id": "0399ac882d2f4536",
      "metadata": {},
      "source": [
        ":::{eval-rst}\n",
        ".. autofunction:: sax.typing_.modelfactory\n",
        ":::\n"
      ]
    },
    {
      "cell_type": "code",
      "execution_count": 55,
      "id": "62a8038adb12b5b8",
      "metadata": {
        "execution": {
          "iopub.execute_input": "2023-07-01T03:32:01.709470Z",
          "iopub.status.busy": "2023-07-01T03:32:01.709258Z",
          "iopub.status.idle": "2023-07-01T03:32:01.712323Z",
          "shell.execute_reply": "2023-07-01T03:32:01.711949Z"
        },
        "papermill": {
          "duration": 0.016945,
          "end_time": "2023-07-01T03:32:01.714119",
          "exception": false,
          "start_time": "2023-07-01T03:32:01.697174",
          "status": "completed"
        },
        "tags": [
          "hide-input"
        ]
      },
      "outputs": [],
      "source": [
        "\n",
        "def modelfactory(func):\n",
        "    \"\"\"Decorator that marks a function as `ModelFactory`\"\"\"\n",
        "    sig = inspect.signature(func)\n",
        "    if _is_callable_annotation(sig.return_annotation):  # already model factory\n",
        "        return func\n",
        "    func.__signature__ = sig.replace(return_annotation=Model)\n",
        "    return func"
      ]
    }
  ],
  "metadata": {
    "kernelspec": {
      "display_name": "sax",
      "language": "python",
      "name": "sax"
    },
    "language_info": {
      "codemirror_mode": {
        "name": "ipython",
        "version": 3
      },
      "file_extension": ".py",
      "mimetype": "text/x-python",
      "name": "python",
      "nbconvert_exporter": "python",
      "pygments_lexer": "ipython3",
      "version": "3.11.4"
    },
    "papermill": {
      "default_parameters": {},
      "duration": 7.267012,
      "end_time": "2023-07-01T03:32:02.250535",
      "environment_variables": {},
      "exception": null,
      "input_path": "./nbs/00_typing.ipynb",
      "output_path": "./nbs/00_typing.ipynb",
      "parameters": {},
      "start_time": "2023-07-01T03:31:54.983523",
      "version": "2.3.4"
    }
  },
  "nbformat": 4,
  "nbformat_minor": 5
}