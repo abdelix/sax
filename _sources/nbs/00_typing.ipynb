{
  "cells": [
    {
      "cell_type": "code",
      "execution_count": 1,
      "id": "d341526065001d91",
      "metadata": {
        "execution": {
          "iopub.execute_input": "2023-07-01T03:31:29.846210Z",
          "iopub.status.busy": "2023-07-01T03:31:29.845977Z",
          "iopub.status.idle": "2023-07-01T03:31:29.850317Z",
          "shell.execute_reply": "2023-07-01T03:31:29.849822Z"
        },
        "papermill": {
          "duration": 0.018426,
          "end_time": "2023-07-01T03:31:29.851457",
          "exception": false,
          "start_time": "2023-07-01T03:31:29.833031",
          "status": "completed"
        },
        "tags": [
          "remove-cell"
        ]
      },
      "outputs": [],
      "source": []
    },
    {
      "cell_type": "markdown",
      "id": "13a3464b",
      "metadata": {
        "papermill": {
          "duration": 0.020362,
          "end_time": "2023-07-01T03:31:29.888143",
          "exception": false,
          "start_time": "2023-07-01T03:31:29.867781",
          "status": "completed"
        },
        "tags": []
      },
      "source": [
        "# Typing\n",
        "\n",
        "> SAX types"
      ]
    },
    {
      "cell_type": "code",
      "execution_count": 2,
      "id": "d731fd725a528d7f",
      "metadata": {
        "execution": {
          "iopub.execute_input": "2023-07-01T03:31:29.971595Z",
          "iopub.status.busy": "2023-07-01T03:31:29.970938Z",
          "iopub.status.idle": "2023-07-01T03:31:30.610863Z",
          "shell.execute_reply": "2023-07-01T03:31:30.610436Z"
        },
        "papermill": {
          "duration": 0.659957,
          "end_time": "2023-07-01T03:31:30.612484",
          "exception": false,
          "start_time": "2023-07-01T03:31:29.952527",
          "status": "completed"
        },
        "tags": [
          "remove-cell"
        ]
      },
      "outputs": [],
      "source": [
        "import matplotlib.pyplot as plt\n",
        "from fastcore.test import test_eq\n",
        "from pytest import approx, raises\n",
        "\n",
        "import os, sys; sys.stderr = open(os.devnull, \"w\")"
      ]
    },
    {
      "cell_type": "code",
      "execution_count": 3,
      "id": "22a6d553dfaafe6a",
      "metadata": {
        "execution": {
          "iopub.execute_input": "2023-07-01T03:31:30.633132Z",
          "iopub.status.busy": "2023-07-01T03:31:30.632854Z",
          "iopub.status.idle": "2023-07-01T03:31:31.176972Z",
          "shell.execute_reply": "2023-07-01T03:31:31.176553Z"
        },
        "papermill": {
          "duration": 0.555972,
          "end_time": "2023-07-01T03:31:31.178521",
          "exception": false,
          "start_time": "2023-07-01T03:31:30.622549",
          "status": "completed"
        },
        "tags": [
          "hide-input"
        ]
      },
      "outputs": [],
      "source": [
        "from __future__ import annotations\n",
        "import functools\n",
        "import inspect\n",
        "from collections.abc import Callable as CallableABC\n",
        "from typing import Any, Callable, Dict, Tuple, Union, cast, overload\n",
        "try:\n",
        "    from typing import TypedDict\n",
        "except ImportError: # python<3.8\n",
        "    from typing_extensions import TypedDict\n",
        "\n",
        "import numpy as np\n",
        "from natsort import natsorted\n",
        "\n",
        "try:\n",
        "    import jax.numpy as jnp\n",
        "    JAX_AVAILABLE = True\n",
        "except ImportError:\n",
        "    import numpy as jnp\n",
        "    JAX_AVAILABLE = False"
      ]
    },
    {
      "cell_type": "markdown",
      "id": "41e26ab2",
      "metadata": {
        "papermill": {
          "duration": 0.025651,
          "end_time": "2023-07-01T03:31:31.218109",
          "exception": false,
          "start_time": "2023-07-01T03:31:31.192458",
          "status": "completed"
        },
        "tags": []
      },
      "source": [
        "## Core Types"
      ]
    },
    {
      "cell_type": "markdown",
      "id": "ca29df5c",
      "metadata": {
        "papermill": {
          "duration": 0.017487,
          "end_time": "2023-07-01T03:31:31.253270",
          "exception": false,
          "start_time": "2023-07-01T03:31:31.235783",
          "status": "completed"
        },
        "tags": []
      },
      "source": [
        "### Array"
      ]
    },
    {
      "cell_type": "markdown",
      "id": "82c3c344",
      "metadata": {
        "papermill": {
          "duration": 0.021541,
          "end_time": "2023-07-01T03:31:31.296548",
          "exception": false,
          "start_time": "2023-07-01T03:31:31.275007",
          "status": "completed"
        },
        "tags": []
      },
      "source": [
        "an `Array` is either a jax array or a numpy array:"
      ]
    },
    {
      "cell_type": "code",
      "execution_count": 4,
      "id": "20e8f72f35af5cb7",
      "metadata": {
        "execution": {
          "iopub.execute_input": "2023-07-01T03:31:31.325154Z",
          "iopub.status.busy": "2023-07-01T03:31:31.324767Z",
          "iopub.status.idle": "2023-07-01T03:31:31.327668Z",
          "shell.execute_reply": "2023-07-01T03:31:31.327216Z"
        },
        "papermill": {
          "duration": 0.014505,
          "end_time": "2023-07-01T03:31:31.328952",
          "exception": false,
          "start_time": "2023-07-01T03:31:31.314447",
          "status": "completed"
        },
        "tags": []
      },
      "outputs": [],
      "source": [
        "Array = Union[jnp.ndarray, np.ndarray]"
      ]
    },
    {
      "cell_type": "markdown",
      "id": "6b86fa37",
      "metadata": {
        "papermill": {
          "duration": 0.009408,
          "end_time": "2023-07-01T03:31:31.347827",
          "exception": false,
          "start_time": "2023-07-01T03:31:31.338419",
          "status": "completed"
        },
        "tags": []
      },
      "source": [
        "### Int"
      ]
    },
    {
      "cell_type": "markdown",
      "id": "9fa467c9",
      "metadata": {
        "papermill": {
          "duration": 0.009435,
          "end_time": "2023-07-01T03:31:31.366789",
          "exception": false,
          "start_time": "2023-07-01T03:31:31.357354",
          "status": "completed"
        },
        "tags": []
      },
      "source": [
        "An `Int` is either a built-in `int` or an `Array` [of dtype `int`]"
      ]
    },
    {
      "cell_type": "code",
      "execution_count": 5,
      "id": "b5d656a0ef0007ca",
      "metadata": {
        "execution": {
          "iopub.execute_input": "2023-07-01T03:31:31.387316Z",
          "iopub.status.busy": "2023-07-01T03:31:31.386994Z",
          "iopub.status.idle": "2023-07-01T03:31:31.389635Z",
          "shell.execute_reply": "2023-07-01T03:31:31.389190Z"
        },
        "papermill": {
          "duration": 0.014713,
          "end_time": "2023-07-01T03:31:31.390967",
          "exception": false,
          "start_time": "2023-07-01T03:31:31.376254",
          "status": "completed"
        },
        "tags": []
      },
      "outputs": [],
      "source": [
        "Int = Union[int, Array]"
      ]
    },
    {
      "cell_type": "markdown",
      "id": "c486cd2c",
      "metadata": {
        "papermill": {
          "duration": 0.009468,
          "end_time": "2023-07-01T03:31:31.409976",
          "exception": false,
          "start_time": "2023-07-01T03:31:31.400508",
          "status": "completed"
        },
        "tags": []
      },
      "source": [
        "### Float"
      ]
    },
    {
      "cell_type": "markdown",
      "id": "3b59bba6",
      "metadata": {
        "papermill": {
          "duration": 0.009434,
          "end_time": "2023-07-01T03:31:31.429103",
          "exception": false,
          "start_time": "2023-07-01T03:31:31.419669",
          "status": "completed"
        },
        "tags": []
      },
      "source": [
        "A `Float` is eiter a built-in `float` or an `Array` [of dtype `float`]"
      ]
    },
    {
      "cell_type": "code",
      "execution_count": 6,
      "id": "31f4aaed4d5e2675",
      "metadata": {
        "execution": {
          "iopub.execute_input": "2023-07-01T03:31:31.449723Z",
          "iopub.status.busy": "2023-07-01T03:31:31.449416Z",
          "iopub.status.idle": "2023-07-01T03:31:31.452245Z",
          "shell.execute_reply": "2023-07-01T03:31:31.451673Z"
        },
        "papermill": {
          "duration": 0.014977,
          "end_time": "2023-07-01T03:31:31.453633",
          "exception": false,
          "start_time": "2023-07-01T03:31:31.438656",
          "status": "completed"
        },
        "tags": []
      },
      "outputs": [],
      "source": [
        "Float = Union[float, Array]"
      ]
    },
    {
      "cell_type": "markdown",
      "id": "bdfd6200",
      "metadata": {
        "papermill": {
          "duration": 0.015864,
          "end_time": "2023-07-01T03:31:31.484828",
          "exception": false,
          "start_time": "2023-07-01T03:31:31.468964",
          "status": "completed"
        },
        "tags": []
      },
      "source": [
        "### ComplexFloat"
      ]
    },
    {
      "cell_type": "markdown",
      "id": "b1a7d255",
      "metadata": {
        "papermill": {
          "duration": 0.015484,
          "end_time": "2023-07-01T03:31:31.522150",
          "exception": false,
          "start_time": "2023-07-01T03:31:31.506666",
          "status": "completed"
        },
        "tags": []
      },
      "source": [
        "A `ComplexFloat` is either a build-in `complex` or an Array [of dtype `complex`]:"
      ]
    },
    {
      "cell_type": "code",
      "execution_count": 7,
      "id": "943574100ed15060",
      "metadata": {
        "execution": {
          "iopub.execute_input": "2023-07-01T03:31:31.561067Z",
          "iopub.status.busy": "2023-07-01T03:31:31.560774Z",
          "iopub.status.idle": "2023-07-01T03:31:31.563436Z",
          "shell.execute_reply": "2023-07-01T03:31:31.563041Z"
        },
        "papermill": {
          "duration": 0.022061,
          "end_time": "2023-07-01T03:31:31.565416",
          "exception": false,
          "start_time": "2023-07-01T03:31:31.543355",
          "status": "completed"
        },
        "tags": []
      },
      "outputs": [],
      "source": [
        "ComplexFloat = Union[complex, Float]"
      ]
    },
    {
      "cell_type": "markdown",
      "id": "1f1aa099",
      "metadata": {
        "papermill": {
          "duration": 0.009427,
          "end_time": "2023-07-01T03:31:31.584406",
          "exception": false,
          "start_time": "2023-07-01T03:31:31.574979",
          "status": "completed"
        },
        "tags": []
      },
      "source": [
        "### Settings"
      ]
    },
    {
      "cell_type": "markdown",
      "id": "69839acd",
      "metadata": {
        "papermill": {
          "duration": 0.009636,
          "end_time": "2023-07-01T03:31:31.603559",
          "exception": false,
          "start_time": "2023-07-01T03:31:31.593923",
          "status": "completed"
        },
        "tags": []
      },
      "source": [
        "A `Settings` dictionary is a nested mapping between setting names [`str`] to either `ComplexFloat` values OR to another lower level `Settings` dictionary."
      ]
    },
    {
      "cell_type": "code",
      "execution_count": 8,
      "id": "1ce19d917ba03ce8",
      "metadata": {
        "execution": {
          "iopub.execute_input": "2023-07-01T03:31:31.623462Z",
          "iopub.status.busy": "2023-07-01T03:31:31.623244Z",
          "iopub.status.idle": "2023-07-01T03:31:31.625921Z",
          "shell.execute_reply": "2023-07-01T03:31:31.625562Z"
        },
        "papermill": {
          "duration": 0.014695,
          "end_time": "2023-07-01T03:31:31.627733",
          "exception": false,
          "start_time": "2023-07-01T03:31:31.613038",
          "status": "completed"
        },
        "tags": []
      },
      "outputs": [],
      "source": [
        "Settings = Union[Dict[str, ComplexFloat], Dict[str, \"Settings\"]]"
      ]
    },
    {
      "cell_type": "markdown",
      "id": "cf202d06",
      "metadata": {
        "papermill": {
          "duration": 0.009516,
          "end_time": "2023-07-01T03:31:31.646830",
          "exception": false,
          "start_time": "2023-07-01T03:31:31.637314",
          "status": "completed"
        },
        "tags": []
      },
      "source": [
        "Settings dictionaries are used to parametrize a SAX `Model` or a `circuit`. The settings dictionary should have the same hierarchy levels as the circuit:\n",
        " \n",
        " > Example:"
      ]
    },
    {
      "cell_type": "code",
      "execution_count": 9,
      "id": "2b26c4ab",
      "metadata": {
        "execution": {
          "iopub.execute_input": "2023-07-01T03:31:31.667001Z",
          "iopub.status.busy": "2023-07-01T03:31:31.666806Z",
          "iopub.status.idle": "2023-07-01T03:31:31.669441Z",
          "shell.execute_reply": "2023-07-01T03:31:31.669086Z"
        },
        "papermill": {
          "duration": 0.014664,
          "end_time": "2023-07-01T03:31:31.671197",
          "exception": false,
          "start_time": "2023-07-01T03:31:31.656533",
          "status": "completed"
        },
        "tags": []
      },
      "outputs": [],
      "source": [
        "mzi_settings = {\n",
        "    \"wl\": 1.5,  # global settings\n",
        "    \"lft\": {\"coupling\": 0.5},  # settings for the left coupler\n",
        "    \"top\": {\"neff\": 3.4},  # settings for the top waveguide\n",
        "    \"rgt\": {\"coupling\": 0.3},  # settings for the right coupler\n",
        "}"
      ]
    },
    {
      "cell_type": "markdown",
      "id": "45043912",
      "metadata": {
        "papermill": {
          "duration": 0.009564,
          "end_time": "2023-07-01T03:31:31.690449",
          "exception": false,
          "start_time": "2023-07-01T03:31:31.680885",
          "status": "completed"
        },
        "tags": []
      },
      "source": [
        "### SDict"
      ]
    },
    {
      "cell_type": "markdown",
      "id": "c5a7facf",
      "metadata": {
        "papermill": {
          "duration": 0.009533,
          "end_time": "2023-07-01T03:31:31.709584",
          "exception": false,
          "start_time": "2023-07-01T03:31:31.700051",
          "status": "completed"
        },
        "tags": []
      },
      "source": [
        "An `SDict` is a sparse dictionary based representation of an S-matrix, mapping port name tuples such as `('in0', 'out0')` to `ComplexFloat`."
      ]
    },
    {
      "cell_type": "code",
      "execution_count": 10,
      "id": "ebb9b98ca3a053c5",
      "metadata": {
        "execution": {
          "iopub.execute_input": "2023-07-01T03:31:31.738036Z",
          "iopub.status.busy": "2023-07-01T03:31:31.737824Z",
          "iopub.status.idle": "2023-07-01T03:31:31.740347Z",
          "shell.execute_reply": "2023-07-01T03:31:31.739979Z"
        },
        "papermill": {
          "duration": 0.027619,
          "end_time": "2023-07-01T03:31:31.746969",
          "exception": false,
          "start_time": "2023-07-01T03:31:31.719350",
          "status": "completed"
        },
        "tags": []
      },
      "outputs": [],
      "source": [
        "SDict = Dict[Tuple[str, str], ComplexFloat]"
      ]
    },
    {
      "cell_type": "markdown",
      "id": "07dc470a",
      "metadata": {
        "papermill": {
          "duration": 0.021739,
          "end_time": "2023-07-01T03:31:31.783689",
          "exception": false,
          "start_time": "2023-07-01T03:31:31.761950",
          "status": "completed"
        },
        "tags": []
      },
      "source": [
        "> Example:"
      ]
    },
    {
      "cell_type": "code",
      "execution_count": 11,
      "id": "ad65a70c",
      "metadata": {
        "execution": {
          "iopub.execute_input": "2023-07-01T03:31:31.828372Z",
          "iopub.status.busy": "2023-07-01T03:31:31.828133Z",
          "iopub.status.idle": "2023-07-01T03:31:31.831281Z",
          "shell.execute_reply": "2023-07-01T03:31:31.830870Z"
        },
        "papermill": {
          "duration": 0.029079,
          "end_time": "2023-07-01T03:31:31.834586",
          "exception": false,
          "start_time": "2023-07-01T03:31:31.805507",
          "status": "completed"
        },
        "tags": []
      },
      "outputs": [
        {
          "name": "stdout",
          "output_type": "stream",
          "text": [
            "{('in0', 'out0'): 3.0}\n"
          ]
        }
      ],
      "source": [
        "_sdict: SDict = {\n",
        "    (\"in0\", \"out0\"): 3.0,\n",
        "}\n",
        "print(_sdict)"
      ]
    },
    {
      "cell_type": "markdown",
      "id": "0e2c7430",
      "metadata": {
        "papermill": {
          "duration": 0.009707,
          "end_time": "2023-07-01T03:31:31.860374",
          "exception": false,
          "start_time": "2023-07-01T03:31:31.850667",
          "status": "completed"
        },
        "tags": []
      },
      "source": [
        "### SCoo"
      ]
    },
    {
      "cell_type": "markdown",
      "id": "ef614e1d",
      "metadata": {
        "papermill": {
          "duration": 0.010737,
          "end_time": "2023-07-01T03:31:31.880923",
          "exception": false,
          "start_time": "2023-07-01T03:31:31.870186",
          "status": "completed"
        },
        "tags": []
      },
      "source": [
        "An `SCoo` is a sparse matrix based representation of an S-matrix consisting of three arrays and a port map. The three arrays represent the input port indices [`int`], output port indices [`int`] and the S-matrix values [`ComplexFloat`] of the sparse matrix. The port map maps a port name [`str`] to a port index [`int`]. Only these four arrays **together** and in this specific **order** are considered a valid `SCoo` representation!"
      ]
    },
    {
      "cell_type": "code",
      "execution_count": 12,
      "id": "9e2c524e1b1cec15",
      "metadata": {
        "execution": {
          "iopub.execute_input": "2023-07-01T03:31:31.901820Z",
          "iopub.status.busy": "2023-07-01T03:31:31.901610Z",
          "iopub.status.idle": "2023-07-01T03:31:31.904247Z",
          "shell.execute_reply": "2023-07-01T03:31:31.903869Z"
        },
        "papermill": {
          "duration": 0.015144,
          "end_time": "2023-07-01T03:31:31.905968",
          "exception": false,
          "start_time": "2023-07-01T03:31:31.890824",
          "status": "completed"
        },
        "tags": []
      },
      "outputs": [],
      "source": [
        "SCoo = Tuple[Array, Array, ComplexFloat, Dict[str, int]]"
      ]
    },
    {
      "cell_type": "markdown",
      "id": "ff9719c8",
      "metadata": {
        "papermill": {
          "duration": 0.009698,
          "end_time": "2023-07-01T03:31:31.925507",
          "exception": false,
          "start_time": "2023-07-01T03:31:31.915809",
          "status": "completed"
        },
        "tags": []
      },
      "source": [
        "> Example:"
      ]
    },
    {
      "cell_type": "code",
      "execution_count": 13,
      "id": "972f8060",
      "metadata": {
        "execution": {
          "iopub.execute_input": "2023-07-01T03:31:31.946256Z",
          "iopub.status.busy": "2023-07-01T03:31:31.946017Z",
          "iopub.status.idle": "2023-07-01T03:31:31.974740Z",
          "shell.execute_reply": "2023-07-01T03:31:31.974386Z"
        },
        "papermill": {
          "duration": 0.040825,
          "end_time": "2023-07-01T03:31:31.976095",
          "exception": false,
          "start_time": "2023-07-01T03:31:31.935270",
          "status": "completed"
        },
        "tags": []
      },
      "outputs": [
        {
          "name": "stdout",
          "output_type": "stream",
          "text": [
            "[0 1 2]\n",
            "[0 1 0]\n",
            "[3. 4. 1.]\n",
            "{'in0': 0, 'in1': 2, 'out0': 1}\n"
          ]
        }
      ],
      "source": [
        "Si = jnp.arange(3, dtype=int)\n",
        "Sj = jnp.array([0, 1, 0], dtype=int)\n",
        "Sx = jnp.array([3.0, 4.0, 1.0])\n",
        "port_map = {\"in0\": 0, \"in1\": 2, \"out0\": 1}\n",
        "_scoo: SCoo = (Si, Sj, Sx, port_map)\n",
        "print(Si)\n",
        "print(Sj)\n",
        "print(Sx)\n",
        "print(port_map)"
      ]
    },
    {
      "cell_type": "markdown",
      "id": "2cba9246",
      "metadata": {
        "papermill": {
          "duration": 0.021864,
          "end_time": "2023-07-01T03:31:32.008609",
          "exception": false,
          "start_time": "2023-07-01T03:31:31.986745",
          "status": "completed"
        },
        "tags": []
      },
      "source": [
        "### SDense"
      ]
    },
    {
      "cell_type": "markdown",
      "id": "fd28795b",
      "metadata": {
        "papermill": {
          "duration": 0.021628,
          "end_time": "2023-07-01T03:31:32.050475",
          "exception": false,
          "start_time": "2023-07-01T03:31:32.028847",
          "status": "completed"
        },
        "tags": []
      },
      "source": [
        "an `SDense` is a dense matrix representation of an S-matrix. It's represented by an NxN `ComplexFloat` array and a port map (mapping port names onto port indices)."
      ]
    },
    {
      "cell_type": "code",
      "execution_count": 14,
      "id": "78e3e5ec0950fd46",
      "metadata": {
        "execution": {
          "iopub.execute_input": "2023-07-01T03:31:32.089248Z",
          "iopub.status.busy": "2023-07-01T03:31:32.089024Z",
          "iopub.status.idle": "2023-07-01T03:31:32.091659Z",
          "shell.execute_reply": "2023-07-01T03:31:32.091273Z"
        },
        "papermill": {
          "duration": 0.02377,
          "end_time": "2023-07-01T03:31:32.093590",
          "exception": false,
          "start_time": "2023-07-01T03:31:32.069820",
          "status": "completed"
        },
        "tags": []
      },
      "outputs": [],
      "source": [
        "SDense = Tuple[Array, Dict[str, int]]"
      ]
    },
    {
      "cell_type": "markdown",
      "id": "2c4789f7",
      "metadata": {
        "papermill": {
          "duration": 0.012854,
          "end_time": "2023-07-01T03:31:32.128725",
          "exception": false,
          "start_time": "2023-07-01T03:31:32.115871",
          "status": "completed"
        },
        "tags": []
      },
      "source": [
        "> Example:"
      ]
    },
    {
      "cell_type": "code",
      "execution_count": 15,
      "id": "02def7ed",
      "metadata": {
        "execution": {
          "iopub.execute_input": "2023-07-01T03:31:32.150002Z",
          "iopub.status.busy": "2023-07-01T03:31:32.149686Z",
          "iopub.status.idle": "2023-07-01T03:31:32.177286Z",
          "shell.execute_reply": "2023-07-01T03:31:32.176930Z"
        },
        "papermill": {
          "duration": 0.039643,
          "end_time": "2023-07-01T03:31:32.178450",
          "exception": false,
          "start_time": "2023-07-01T03:31:32.138807",
          "status": "completed"
        },
        "tags": []
      },
      "outputs": [
        {
          "name": "stdout",
          "output_type": "stream",
          "text": [
            "[[0. 1. 2.]\n",
            " [3. 4. 5.]\n",
            " [6. 7. 8.]]\n",
            "{'in0': 0, 'in1': 2, 'out0': 1}\n"
          ]
        }
      ],
      "source": [
        "Sd = jnp.arange(9, dtype=float).reshape(3, 3)\n",
        "port_map = {\"in0\": 0, \"in1\": 2, \"out0\": 1}\n",
        "_sdense = Sd, port_map\n",
        "print(Sd)\n",
        "print(port_map)"
      ]
    },
    {
      "cell_type": "markdown",
      "id": "b0d2e36f",
      "metadata": {
        "papermill": {
          "duration": 0.017816,
          "end_time": "2023-07-01T03:31:32.210026",
          "exception": false,
          "start_time": "2023-07-01T03:31:32.192210",
          "status": "completed"
        },
        "tags": []
      },
      "source": [
        "### SType"
      ]
    },
    {
      "cell_type": "markdown",
      "id": "b441f21d",
      "metadata": {
        "papermill": {
          "duration": 0.016322,
          "end_time": "2023-07-01T03:31:32.250145",
          "exception": false,
          "start_time": "2023-07-01T03:31:32.233823",
          "status": "completed"
        },
        "tags": []
      },
      "source": [
        "an `SType` is either an `SDict` **OR** an `SCoo` **OR** an `SDense`:"
      ]
    },
    {
      "cell_type": "code",
      "execution_count": 16,
      "id": "8518c2429dcbd1c8",
      "metadata": {
        "execution": {
          "iopub.execute_input": "2023-07-01T03:31:32.292486Z",
          "iopub.status.busy": "2023-07-01T03:31:32.292163Z",
          "iopub.status.idle": "2023-07-01T03:31:32.294960Z",
          "shell.execute_reply": "2023-07-01T03:31:32.294597Z"
        },
        "papermill": {
          "duration": 0.029567,
          "end_time": "2023-07-01T03:31:32.299478",
          "exception": false,
          "start_time": "2023-07-01T03:31:32.269911",
          "status": "completed"
        },
        "tags": []
      },
      "outputs": [],
      "source": [
        "SType = Union[SDict, SCoo, SDense]"
      ]
    },
    {
      "cell_type": "markdown",
      "id": "e0561b07",
      "metadata": {
        "papermill": {
          "duration": 0.017594,
          "end_time": "2023-07-01T03:31:32.339911",
          "exception": false,
          "start_time": "2023-07-01T03:31:32.322317",
          "status": "completed"
        },
        "tags": []
      },
      "source": [
        "> Example:"
      ]
    },
    {
      "cell_type": "code",
      "execution_count": 17,
      "id": "5b52a5f2",
      "metadata": {
        "execution": {
          "iopub.execute_input": "2023-07-01T03:31:32.383073Z",
          "iopub.status.busy": "2023-07-01T03:31:32.382879Z",
          "iopub.status.idle": "2023-07-01T03:31:32.385324Z",
          "shell.execute_reply": "2023-07-01T03:31:32.384979Z"
        },
        "papermill": {
          "duration": 0.024467,
          "end_time": "2023-07-01T03:31:32.386532",
          "exception": false,
          "start_time": "2023-07-01T03:31:32.362065",
          "status": "completed"
        },
        "tags": []
      },
      "outputs": [],
      "source": [
        "obj: SType = _sdict\n",
        "obj: SType = _scoo\n",
        "obj: SType = _sdense"
      ]
    },
    {
      "cell_type": "markdown",
      "id": "afabe91b",
      "metadata": {
        "papermill": {
          "duration": 0.014757,
          "end_time": "2023-07-01T03:31:32.419383",
          "exception": false,
          "start_time": "2023-07-01T03:31:32.404626",
          "status": "completed"
        },
        "tags": []
      },
      "source": [
        "### Model"
      ]
    },
    {
      "cell_type": "markdown",
      "id": "13808fb1",
      "metadata": {
        "papermill": {
          "duration": 0.009972,
          "end_time": "2023-07-01T03:31:32.439502",
          "exception": false,
          "start_time": "2023-07-01T03:31:32.429530",
          "status": "completed"
        },
        "tags": []
      },
      "source": [
        "A `Model` is any keyword-only function that returns an `SType`:"
      ]
    },
    {
      "cell_type": "code",
      "execution_count": 18,
      "id": "9eb719b67db7f147",
      "metadata": {
        "execution": {
          "iopub.execute_input": "2023-07-01T03:31:32.460890Z",
          "iopub.status.busy": "2023-07-01T03:31:32.460659Z",
          "iopub.status.idle": "2023-07-01T03:31:32.463196Z",
          "shell.execute_reply": "2023-07-01T03:31:32.462785Z"
        },
        "papermill": {
          "duration": 0.014417,
          "end_time": "2023-07-01T03:31:32.464300",
          "exception": false,
          "start_time": "2023-07-01T03:31:32.449883",
          "status": "completed"
        },
        "tags": []
      },
      "outputs": [],
      "source": [
        "Model = Callable[..., SType]"
      ]
    },
    {
      "cell_type": "markdown",
      "id": "fad534fb",
      "metadata": {
        "papermill": {
          "duration": 0.010001,
          "end_time": "2023-07-01T03:31:32.484417",
          "exception": false,
          "start_time": "2023-07-01T03:31:32.474416",
          "status": "completed"
        },
        "tags": []
      },
      "source": [
        "### ModelFactory"
      ]
    },
    {
      "cell_type": "markdown",
      "id": "85781647",
      "metadata": {
        "papermill": {
          "duration": 0.009947,
          "end_time": "2023-07-01T03:31:32.504405",
          "exception": false,
          "start_time": "2023-07-01T03:31:32.494458",
          "status": "completed"
        },
        "tags": []
      },
      "source": [
        "A `ModelFactory` is any keyword-only function that returns a `Model`:"
      ]
    },
    {
      "cell_type": "code",
      "execution_count": 19,
      "id": "48fb764da4c55e82",
      "metadata": {
        "execution": {
          "iopub.execute_input": "2023-07-01T03:31:32.525378Z",
          "iopub.status.busy": "2023-07-01T03:31:32.525177Z",
          "iopub.status.idle": "2023-07-01T03:31:32.527611Z",
          "shell.execute_reply": "2023-07-01T03:31:32.527258Z"
        },
        "papermill": {
          "duration": 0.014239,
          "end_time": "2023-07-01T03:31:32.528689",
          "exception": false,
          "start_time": "2023-07-01T03:31:32.514450",
          "status": "completed"
        },
        "tags": []
      },
      "outputs": [],
      "source": [
        "ModelFactory = Callable[..., Model]"
      ]
    },
    {
      "cell_type": "markdown",
      "id": "353d8506",
      "metadata": {
        "papermill": {
          "duration": 0.014747,
          "end_time": "2023-07-01T03:31:32.560958",
          "exception": false,
          "start_time": "2023-07-01T03:31:32.546211",
          "status": "completed"
        },
        "tags": []
      },
      "source": [
        "> Note: SAX sometimes needs to figure out the difference between a `ModelFactory` and a normal `Model` *before* running the function. To do this, SAX will check the return annotation of the function. Any function with a `-> Model` or `-> Callable` annotation will be considered a `ModelFactory`. Any function without this annotation will be considered a normal Model: **don't forget the return annotation of your Model Factory!** To ensure a correct annotation and to ensure forward compatibility, it's recommended to decorate your `ModelFactory` with the `modelfactory` decorator."
      ]
    },
    {
      "cell_type": "markdown",
      "id": "b32b5a31",
      "metadata": {
        "papermill": {
          "duration": 0.019806,
          "end_time": "2023-07-01T03:31:32.605249",
          "exception": false,
          "start_time": "2023-07-01T03:31:32.585443",
          "status": "completed"
        },
        "tags": []
      },
      "source": [
        "### Models"
      ]
    },
    {
      "cell_type": "markdown",
      "id": "a796dcb2",
      "metadata": {
        "papermill": {
          "duration": 0.023842,
          "end_time": "2023-07-01T03:31:32.647947",
          "exception": false,
          "start_time": "2023-07-01T03:31:32.624105",
          "status": "completed"
        },
        "tags": []
      },
      "source": [
        "`Models` is a mapping between model names [`str`] and a `Model`:"
      ]
    },
    {
      "cell_type": "code",
      "execution_count": 20,
      "id": "bf44fc79606e5069",
      "metadata": {
        "execution": {
          "iopub.execute_input": "2023-07-01T03:31:32.669329Z",
          "iopub.status.busy": "2023-07-01T03:31:32.669103Z",
          "iopub.status.idle": "2023-07-01T03:31:32.671741Z",
          "shell.execute_reply": "2023-07-01T03:31:32.671342Z"
        },
        "papermill": {
          "duration": 0.014785,
          "end_time": "2023-07-01T03:31:32.672891",
          "exception": false,
          "start_time": "2023-07-01T03:31:32.658106",
          "status": "completed"
        },
        "tags": []
      },
      "outputs": [],
      "source": [
        "Models = Dict[str, Model]"
      ]
    },
    {
      "cell_type": "markdown",
      "id": "ed1af61c",
      "metadata": {
        "papermill": {
          "duration": 0.023864,
          "end_time": "2023-07-01T03:31:32.709628",
          "exception": false,
          "start_time": "2023-07-01T03:31:32.685764",
          "status": "completed"
        },
        "tags": []
      },
      "source": [
        "> Note: sometimes 'component' is used to refer to a a `Model` or `GeneralModel`. This is because other tools (such as for example GDSFactory) prefer that terminology."
      ]
    },
    {
      "cell_type": "markdown",
      "id": "5d276f63",
      "metadata": {
        "papermill": {
          "duration": 0.022249,
          "end_time": "2023-07-01T03:31:32.748391",
          "exception": false,
          "start_time": "2023-07-01T03:31:32.726142",
          "status": "completed"
        },
        "tags": []
      },
      "source": [
        "## Netlist Types\n",
        "\n",
        "Netlist types are moved [here](06_netlist.ipynb)."
      ]
    },
    {
      "cell_type": "markdown",
      "id": "dbcb4447",
      "metadata": {
        "papermill": {
          "duration": 0.017104,
          "end_time": "2023-07-01T03:31:32.788299",
          "exception": false,
          "start_time": "2023-07-01T03:31:32.771195",
          "status": "completed"
        },
        "tags": []
      },
      "source": [
        "## Validation and runtime type-checking:\n",
        "> Note: the type-checking functions below are **NOT** very tight and hence should be used within the right context!"
      ]
    },
    {
      "cell_type": "markdown",
      "id": "87773d3ab972418d",
      "metadata": {},
      "source": [
        ":::{eval-rst}\n",
        ".. autofunction:: sax.typing_.is_float\n",
        ":::\n"
      ]
    },
    {
      "cell_type": "code",
      "execution_count": 21,
      "id": "b02d5b03a4c1d185",
      "metadata": {
        "execution": {
          "iopub.execute_input": "2023-07-01T03:31:32.833464Z",
          "iopub.status.busy": "2023-07-01T03:31:32.833233Z",
          "iopub.status.idle": "2023-07-01T03:31:32.837127Z",
          "shell.execute_reply": "2023-07-01T03:31:32.836726Z"
        },
        "papermill": {
          "duration": 0.033409,
          "end_time": "2023-07-01T03:31:32.842178",
          "exception": false,
          "start_time": "2023-07-01T03:31:32.808769",
          "status": "completed"
        },
        "tags": [
          "hide-input"
        ]
      },
      "outputs": [],
      "source": [
        "def is_float(x: Any) -> bool:\n",
        "    \"\"\"Check if an object is a `Float`\"\"\"\n",
        "    if isinstance(x, float):\n",
        "        return True\n",
        "    if isinstance(x, np.ndarray):\n",
        "        return x.dtype in (np.float16, np.float32, np.float64, np.float128)\n",
        "    if isinstance(x, jnp.ndarray):\n",
        "        return x.dtype in (jnp.float16, jnp.float32, jnp.float64)\n",
        "    return False"
      ]
    },
    {
      "cell_type": "code",
      "execution_count": 22,
      "id": "28374448",
      "metadata": {
        "execution": {
          "iopub.execute_input": "2023-07-01T03:31:32.887712Z",
          "iopub.status.busy": "2023-07-01T03:31:32.887481Z",
          "iopub.status.idle": "2023-07-01T03:31:32.892207Z",
          "shell.execute_reply": "2023-07-01T03:31:32.891831Z"
        },
        "papermill": {
          "duration": 0.036495,
          "end_time": "2023-07-01T03:31:32.894545",
          "exception": false,
          "start_time": "2023-07-01T03:31:32.858050",
          "status": "completed"
        },
        "tags": []
      },
      "outputs": [],
      "source": [
        "assert is_float(3.0)\n",
        "assert not is_float(3)\n",
        "assert not is_float(3.0 + 2j)\n",
        "assert not is_float(jnp.array(3.0, dtype=complex))\n",
        "assert not is_float(jnp.array(3, dtype=int))"
      ]
    },
    {
      "cell_type": "markdown",
      "id": "4c2e85df447ec63e",
      "metadata": {},
      "source": [
        ":::{eval-rst}\n",
        ".. autofunction:: sax.typing_.is_complex\n",
        ":::\n"
      ]
    },
    {
      "cell_type": "code",
      "execution_count": 23,
      "id": "317e5a89b82fcfd4",
      "metadata": {
        "execution": {
          "iopub.execute_input": "2023-07-01T03:31:32.922659Z",
          "iopub.status.busy": "2023-07-01T03:31:32.922449Z",
          "iopub.status.idle": "2023-07-01T03:31:32.925648Z",
          "shell.execute_reply": "2023-07-01T03:31:32.925282Z"
        },
        "papermill": {
          "duration": 0.016064,
          "end_time": "2023-07-01T03:31:32.927456",
          "exception": false,
          "start_time": "2023-07-01T03:31:32.911392",
          "status": "completed"
        },
        "tags": [
          "hide-input"
        ]
      },
      "outputs": [],
      "source": [
        "def is_complex(x: Any) -> bool:\n",
        "    \"\"\"check if an object is a `ComplexFloat`\"\"\"\n",
        "    if isinstance(x, complex):\n",
        "        return True\n",
        "    if isinstance(x, np.ndarray):\n",
        "        return x.dtype in (np.complex64, np.complex128)\n",
        "    if isinstance(x, jnp.ndarray):\n",
        "        return x.dtype in (jnp.complex64, jnp.complex128)\n",
        "    return False"
      ]
    },
    {
      "cell_type": "code",
      "execution_count": 24,
      "id": "d81a703d",
      "metadata": {
        "execution": {
          "iopub.execute_input": "2023-07-01T03:31:32.948937Z",
          "iopub.status.busy": "2023-07-01T03:31:32.948739Z",
          "iopub.status.idle": "2023-07-01T03:31:32.952286Z",
          "shell.execute_reply": "2023-07-01T03:31:32.951926Z"
        },
        "papermill": {
          "duration": 0.016268,
          "end_time": "2023-07-01T03:31:32.954017",
          "exception": false,
          "start_time": "2023-07-01T03:31:32.937749",
          "status": "completed"
        },
        "tags": []
      },
      "outputs": [],
      "source": [
        "assert not is_complex(3.0)\n",
        "assert not is_complex(3)\n",
        "assert is_complex(3.0 + 2j)\n",
        "assert is_complex(jnp.array(3.0, dtype=complex))\n",
        "assert not is_complex(jnp.array(3, dtype=int))"
      ]
    },
    {
      "cell_type": "markdown",
      "id": "c5e88e95f096acb4",
      "metadata": {},
      "source": [
        ":::{eval-rst}\n",
        ".. autofunction:: sax.typing_.is_complex_float\n",
        ":::\n"
      ]
    },
    {
      "cell_type": "code",
      "execution_count": 25,
      "id": "0006c36ba2623178",
      "metadata": {
        "execution": {
          "iopub.execute_input": "2023-07-01T03:31:32.978631Z",
          "iopub.status.busy": "2023-07-01T03:31:32.978433Z",
          "iopub.status.idle": "2023-07-01T03:31:32.981014Z",
          "shell.execute_reply": "2023-07-01T03:31:32.980635Z"
        },
        "papermill": {
          "duration": 0.018706,
          "end_time": "2023-07-01T03:31:32.983284",
          "exception": false,
          "start_time": "2023-07-01T03:31:32.964578",
          "status": "completed"
        },
        "tags": [
          "hide-input"
        ]
      },
      "outputs": [],
      "source": [
        "def is_complex_float(x: Any) -> bool:\n",
        "    \"\"\"check if an object is either a `ComplexFloat` or a `Float`\"\"\"\n",
        "    return is_float(x) or is_complex(x)"
      ]
    },
    {
      "cell_type": "code",
      "execution_count": 26,
      "id": "c533ff0d",
      "metadata": {
        "execution": {
          "iopub.execute_input": "2023-07-01T03:31:33.022830Z",
          "iopub.status.busy": "2023-07-01T03:31:33.022618Z",
          "iopub.status.idle": "2023-07-01T03:31:33.026132Z",
          "shell.execute_reply": "2023-07-01T03:31:33.025753Z"
        },
        "papermill": {
          "duration": 0.034787,
          "end_time": "2023-07-01T03:31:33.032920",
          "exception": false,
          "start_time": "2023-07-01T03:31:32.998133",
          "status": "completed"
        },
        "tags": []
      },
      "outputs": [],
      "source": [
        "assert is_complex_float(3.0)\n",
        "assert not is_complex_float(3)\n",
        "assert is_complex_float(3.0 + 2j)\n",
        "assert is_complex_float(jnp.array(3.0, dtype=complex))\n",
        "assert not is_complex_float(jnp.array(3, dtype=int))"
      ]
    },
    {
      "cell_type": "markdown",
      "id": "8e746c522c41e522",
      "metadata": {},
      "source": [
        ":::{eval-rst}\n",
        ".. autofunction:: sax.typing_.is_sdict\n",
        ":::\n"
      ]
    },
    {
      "cell_type": "code",
      "execution_count": 27,
      "id": "30a161158bafdfd1",
      "metadata": {
        "execution": {
          "iopub.execute_input": "2023-07-01T03:31:33.077783Z",
          "iopub.status.busy": "2023-07-01T03:31:33.077564Z",
          "iopub.status.idle": "2023-07-01T03:31:33.080258Z",
          "shell.execute_reply": "2023-07-01T03:31:33.079846Z"
        },
        "papermill": {
          "duration": 0.027114,
          "end_time": "2023-07-01T03:31:33.082661",
          "exception": false,
          "start_time": "2023-07-01T03:31:33.055547",
          "status": "completed"
        },
        "tags": [
          "hide-input"
        ]
      },
      "outputs": [],
      "source": [
        "def is_sdict(x: Any) -> bool:\n",
        "    \"\"\"check if an object is an `SDict` (a SAX S-dictionary)\"\"\"\n",
        "    return isinstance(x, dict)"
      ]
    },
    {
      "cell_type": "code",
      "execution_count": 28,
      "id": "cb0365dc",
      "metadata": {
        "execution": {
          "iopub.execute_input": "2023-07-01T03:31:33.109885Z",
          "iopub.status.busy": "2023-07-01T03:31:33.109667Z",
          "iopub.status.idle": "2023-07-01T03:31:33.112338Z",
          "shell.execute_reply": "2023-07-01T03:31:33.111963Z"
        },
        "papermill": {
          "duration": 0.015632,
          "end_time": "2023-07-01T03:31:33.114113",
          "exception": false,
          "start_time": "2023-07-01T03:31:33.098481",
          "status": "completed"
        },
        "tags": []
      },
      "outputs": [],
      "source": [
        "assert not is_sdict(object())\n",
        "assert is_sdict(_sdict)\n",
        "assert not is_sdict(_scoo)\n",
        "assert not is_sdict(_sdense)"
      ]
    },
    {
      "cell_type": "markdown",
      "id": "9e0aa28d6ec889a9",
      "metadata": {},
      "source": [
        ":::{eval-rst}\n",
        ".. autofunction:: sax.typing_.is_scoo\n",
        ":::\n"
      ]
    },
    {
      "cell_type": "code",
      "execution_count": 29,
      "id": "32e981dc0cb6331a",
      "metadata": {
        "execution": {
          "iopub.execute_input": "2023-07-01T03:31:33.135839Z",
          "iopub.status.busy": "2023-07-01T03:31:33.135654Z",
          "iopub.status.idle": "2023-07-01T03:31:33.138433Z",
          "shell.execute_reply": "2023-07-01T03:31:33.138045Z"
        },
        "papermill": {
          "duration": 0.015556,
          "end_time": "2023-07-01T03:31:33.140091",
          "exception": false,
          "start_time": "2023-07-01T03:31:33.124535",
          "status": "completed"
        },
        "tags": [
          "hide-input"
        ]
      },
      "outputs": [],
      "source": [
        "def is_scoo(x: Any) -> bool:\n",
        "    \"\"\"check if an object is an `SCoo` (a SAX sparse S-matrix representation in COO-format)\"\"\"\n",
        "    return isinstance(x, (tuple, list)) and len(x) == 4"
      ]
    },
    {
      "cell_type": "code",
      "execution_count": 30,
      "id": "9ea0239a",
      "metadata": {
        "execution": {
          "iopub.execute_input": "2023-07-01T03:31:33.161620Z",
          "iopub.status.busy": "2023-07-01T03:31:33.161434Z",
          "iopub.status.idle": "2023-07-01T03:31:33.163970Z",
          "shell.execute_reply": "2023-07-01T03:31:33.163621Z"
        },
        "papermill": {
          "duration": 0.015189,
          "end_time": "2023-07-01T03:31:33.165643",
          "exception": false,
          "start_time": "2023-07-01T03:31:33.150454",
          "status": "completed"
        },
        "tags": []
      },
      "outputs": [],
      "source": [
        "assert not is_scoo(object)\n",
        "assert not is_scoo(_sdict)\n",
        "assert is_scoo(_scoo)\n",
        "assert not is_scoo(_sdense)"
      ]
    },
    {
      "cell_type": "markdown",
      "id": "44f93218a340c37d",
      "metadata": {},
      "source": [
        ":::{eval-rst}\n",
        ".. autofunction:: sax.typing_.is_sdense\n",
        ":::\n"
      ]
    },
    {
      "cell_type": "code",
      "execution_count": 31,
      "id": "8b3ae0611fd01171",
      "metadata": {
        "execution": {
          "iopub.execute_input": "2023-07-01T03:31:33.194710Z",
          "iopub.status.busy": "2023-07-01T03:31:33.194515Z",
          "iopub.status.idle": "2023-07-01T03:31:33.197191Z",
          "shell.execute_reply": "2023-07-01T03:31:33.196827Z"
        },
        "papermill": {
          "duration": 0.023427,
          "end_time": "2023-07-01T03:31:33.199619",
          "exception": false,
          "start_time": "2023-07-01T03:31:33.176192",
          "status": "completed"
        },
        "tags": [
          "hide-input"
        ]
      },
      "outputs": [],
      "source": [
        "def is_sdense(x: Any) -> bool:\n",
        "    \"\"\"check if an object is an `SDense` (a SAX dense S-matrix representation)\"\"\"\n",
        "    return isinstance(x, (tuple, list)) and len(x) == 2"
      ]
    },
    {
      "cell_type": "code",
      "execution_count": 32,
      "id": "2eddd63a",
      "metadata": {
        "execution": {
          "iopub.execute_input": "2023-07-01T03:31:33.242830Z",
          "iopub.status.busy": "2023-07-01T03:31:33.242633Z",
          "iopub.status.idle": "2023-07-01T03:31:33.245148Z",
          "shell.execute_reply": "2023-07-01T03:31:33.244788Z"
        },
        "papermill": {
          "duration": 0.03025,
          "end_time": "2023-07-01T03:31:33.248400",
          "exception": false,
          "start_time": "2023-07-01T03:31:33.218150",
          "status": "completed"
        },
        "tags": []
      },
      "outputs": [],
      "source": [
        "assert not is_sdense(object)\n",
        "assert not is_sdense(_sdict)\n",
        "assert not is_sdense(_scoo)\n",
        "assert is_sdense(_sdense)"
      ]
    },
    {
      "cell_type": "markdown",
      "id": "f327fca29feb3303",
      "metadata": {},
      "source": [
        ":::{eval-rst}\n",
        ".. autofunction:: sax.typing_.is_model\n",
        ":::\n"
      ]
    },
    {
      "cell_type": "code",
      "execution_count": 33,
      "id": "98e98a6da22a89a4",
      "metadata": {
        "execution": {
          "iopub.execute_input": "2023-07-01T03:31:33.290810Z",
          "iopub.status.busy": "2023-07-01T03:31:33.290613Z",
          "iopub.status.idle": "2023-07-01T03:31:33.294739Z",
          "shell.execute_reply": "2023-07-01T03:31:33.294378Z"
        },
        "papermill": {
          "duration": 0.029035,
          "end_time": "2023-07-01T03:31:33.295749",
          "exception": false,
          "start_time": "2023-07-01T03:31:33.266714",
          "status": "completed"
        },
        "tags": [
          "hide-input"
        ]
      },
      "outputs": [],
      "source": [
        "def is_model(model: Any) -> bool:\n",
        "    \"\"\"check if a callable is a `Model` (a callable returning an `SType`)\"\"\"\n",
        "    if not callable(model):\n",
        "        return False\n",
        "    try:\n",
        "        sig = inspect.signature(model)\n",
        "    except ValueError:\n",
        "        return False\n",
        "    for param in sig.parameters.values():\n",
        "        if param.default is inspect.Parameter.empty:\n",
        "            return False  # a proper SAX model does not have any positional arguments.\n",
        "    if _is_callable_annotation(sig.return_annotation):  # model factory\n",
        "        return False\n",
        "    return True\n",
        "\n",
        "def _is_callable_annotation(annotation: Any) -> bool:\n",
        "    \"\"\"check if an annotation is `Callable`-like\"\"\"\n",
        "    if isinstance(annotation, str):\n",
        "        # happens when\n",
        "        # was imported at the top of the file...\n",
        "        return annotation.startswith(\"Callable\") or annotation.endswith(\"Model\")\n",
        "        # TODO: this is not a very robust check...\n",
        "    try:\n",
        "        return annotation.__origin__ == CallableABC\n",
        "    except AttributeError:\n",
        "        return False"
      ]
    },
    {
      "cell_type": "code",
      "execution_count": 34,
      "id": "db50c019c1d66c01",
      "metadata": {
        "execution": {
          "iopub.execute_input": "2023-07-01T03:31:33.336766Z",
          "iopub.status.busy": "2023-07-01T03:31:33.336553Z",
          "iopub.status.idle": "2023-07-01T03:31:33.339076Z",
          "shell.execute_reply": "2023-07-01T03:31:33.338691Z"
        },
        "papermill": {
          "duration": 0.027569,
          "end_time": "2023-07-01T03:31:33.340725",
          "exception": false,
          "start_time": "2023-07-01T03:31:33.313156",
          "status": "completed"
        },
        "tags": [
          "remove-cell"
        ]
      },
      "outputs": [],
      "source": [
        "assert _is_callable_annotation(Callable)\n",
        "assert not _is_callable_annotation(SDict)"
      ]
    },
    {
      "cell_type": "code",
      "execution_count": 35,
      "id": "89bdb647",
      "metadata": {
        "execution": {
          "iopub.execute_input": "2023-07-01T03:31:33.383212Z",
          "iopub.status.busy": "2023-07-01T03:31:33.382997Z",
          "iopub.status.idle": "2023-07-01T03:31:33.404685Z",
          "shell.execute_reply": "2023-07-01T03:31:33.404288Z"
        },
        "papermill": {
          "duration": 0.042357,
          "end_time": "2023-07-01T03:31:33.405805",
          "exception": false,
          "start_time": "2023-07-01T03:31:33.363448",
          "status": "completed"
        },
        "tags": []
      },
      "outputs": [],
      "source": [
        "def good_model(x=jnp.array(3.0), y=jnp.array(4.0)) -> SDict:\n",
        "    return {(\"in0\", \"out0\"): jnp.array(3.0)}\n",
        "assert is_model(good_model)\n",
        "\n",
        "def bad_model(positional_argument, x=jnp.array(3.0), y=jnp.array(4.0)) -> SDict:\n",
        "    return {(\"in0\", \"out0\"): jnp.array(3.0)}\n",
        "assert not is_model(bad_model)"
      ]
    },
    {
      "cell_type": "markdown",
      "id": "024baa5a4820efec",
      "metadata": {},
      "source": [
        ":::{eval-rst}\n",
        ".. autofunction:: sax.typing_.is_model_factory\n",
        ":::\n"
      ]
    },
    {
      "cell_type": "code",
      "execution_count": 36,
      "id": "720475ab37c7e80f",
      "metadata": {
        "execution": {
          "iopub.execute_input": "2023-07-01T03:31:33.442461Z",
          "iopub.status.busy": "2023-07-01T03:31:33.442250Z",
          "iopub.status.idle": "2023-07-01T03:31:33.445207Z",
          "shell.execute_reply": "2023-07-01T03:31:33.444832Z"
        },
        "papermill": {
          "duration": 0.02958,
          "end_time": "2023-07-01T03:31:33.447406",
          "exception": false,
          "start_time": "2023-07-01T03:31:33.417826",
          "status": "completed"
        },
        "tags": [
          "hide-input"
        ]
      },
      "outputs": [],
      "source": [
        "def is_model_factory(model: Any) -> bool:\n",
        "    \"\"\"check if a callable is a model function.\"\"\"\n",
        "    if not callable(model):\n",
        "        return False\n",
        "    sig = inspect.signature(model)\n",
        "    if _is_callable_annotation(sig.return_annotation):  # model factory\n",
        "        return True\n",
        "    return False"
      ]
    },
    {
      "cell_type": "markdown",
      "id": "1f9715ed",
      "metadata": {
        "papermill": {
          "duration": 0.017884,
          "end_time": "2023-07-01T03:31:33.491353",
          "exception": false,
          "start_time": "2023-07-01T03:31:33.473469",
          "status": "completed"
        },
        "tags": []
      },
      "source": [
        "> Note: For a `Callable` to be considered a `ModelFactory` in SAX, it **MUST** have a `Callable` or `Model` return annotation. Otherwise SAX will view it as a `Model` and things might break!"
      ]
    },
    {
      "cell_type": "code",
      "execution_count": 37,
      "id": "fe9cdff0",
      "metadata": {
        "execution": {
          "iopub.execute_input": "2023-07-01T03:31:33.537185Z",
          "iopub.status.busy": "2023-07-01T03:31:33.536962Z",
          "iopub.status.idle": "2023-07-01T03:31:33.540008Z",
          "shell.execute_reply": "2023-07-01T03:31:33.539625Z"
        },
        "papermill": {
          "duration": 0.033759,
          "end_time": "2023-07-01T03:31:33.542571",
          "exception": false,
          "start_time": "2023-07-01T03:31:33.508812",
          "status": "completed"
        },
        "tags": []
      },
      "outputs": [],
      "source": [
        "def func() -> Model:\n",
        "    ...\n",
        "    \n",
        "assert is_model_factory(func) # yes, we only check the annotation for now...\n",
        "\n",
        "def func():\n",
        "    ...\n",
        "    \n",
        "assert not is_model_factory(func) # yes, we only check the annotation for now..."
      ]
    },
    {
      "cell_type": "markdown",
      "id": "34be808e6c48aeac",
      "metadata": {},
      "source": [
        ":::{eval-rst}\n",
        ".. autofunction:: sax.typing_.validate_model\n",
        ":::\n"
      ]
    },
    {
      "cell_type": "code",
      "execution_count": 38,
      "id": "f872afe68a02dd97",
      "metadata": {
        "execution": {
          "iopub.execute_input": "2023-07-01T03:31:33.585724Z",
          "iopub.status.busy": "2023-07-01T03:31:33.585524Z",
          "iopub.status.idle": "2023-07-01T03:31:33.588877Z",
          "shell.execute_reply": "2023-07-01T03:31:33.588516Z"
        },
        "papermill": {
          "duration": 0.027023,
          "end_time": "2023-07-01T03:31:33.590154",
          "exception": false,
          "start_time": "2023-07-01T03:31:33.563131",
          "status": "completed"
        },
        "tags": [
          "hide-input"
        ]
      },
      "outputs": [],
      "source": [
        "def validate_model(model: Callable):\n",
        "    \"\"\"Validate the parameters of a model\"\"\"\n",
        "    positional_arguments = []\n",
        "    for param in inspect.signature(model).parameters.values():\n",
        "        if param.default is inspect.Parameter.empty:\n",
        "            positional_arguments.append(param.name)\n",
        "    if positional_arguments:\n",
        "        raise ValueError(\n",
        "            f\"model '{model}' takes positional arguments {', '.join(positional_arguments)} \"\n",
        "            \"and hence is not a valid SAX Model! A SAX model should ONLY take keyword arguments (or no arguments at all).\"\n",
        "        )"
      ]
    },
    {
      "cell_type": "code",
      "execution_count": 39,
      "id": "754399d5",
      "metadata": {
        "execution": {
          "iopub.execute_input": "2023-07-01T03:31:33.631651Z",
          "iopub.status.busy": "2023-07-01T03:31:33.631441Z",
          "iopub.status.idle": "2023-07-01T03:31:33.634988Z",
          "shell.execute_reply": "2023-07-01T03:31:33.634601Z"
        },
        "papermill": {
          "duration": 0.029522,
          "end_time": "2023-07-01T03:31:33.637366",
          "exception": false,
          "start_time": "2023-07-01T03:31:33.607844",
          "status": "completed"
        },
        "tags": []
      },
      "outputs": [],
      "source": [
        "def good_model(x=jnp.array(3.0), y=jnp.array(4.0)) -> SDict:\n",
        "    return {(\"in0\", \"out0\"): jnp.array(3.0)}\n",
        "\n",
        "\n",
        "assert validate_model(good_model) is None"
      ]
    },
    {
      "cell_type": "code",
      "execution_count": 40,
      "id": "181c72fa",
      "metadata": {
        "execution": {
          "iopub.execute_input": "2023-07-01T03:31:33.677843Z",
          "iopub.status.busy": "2023-07-01T03:31:33.677662Z",
          "iopub.status.idle": "2023-07-01T03:31:33.681394Z",
          "shell.execute_reply": "2023-07-01T03:31:33.681031Z"
        },
        "papermill": {
          "duration": 0.023684,
          "end_time": "2023-07-01T03:31:33.683978",
          "exception": false,
          "start_time": "2023-07-01T03:31:33.660294",
          "status": "completed"
        },
        "tags": []
      },
      "outputs": [],
      "source": [
        "def bad_model(positional_argument, x=jnp.array(3.0), y=jnp.array(4.0)) -> SDict:\n",
        "    return {(\"in0\", \"out0\"): jnp.array(3.0)}\n",
        "\n",
        "\n",
        "with raises(ValueError):\n",
        "    validate_model(bad_model)"
      ]
    },
    {
      "cell_type": "markdown",
      "id": "2525c1bebb274ce8",
      "metadata": {},
      "source": [
        ":::{eval-rst}\n",
        ".. autofunction:: sax.typing_.is_stype\n",
        ":::\n"
      ]
    },
    {
      "cell_type": "code",
      "execution_count": 41,
      "id": "0ff57a56622f58d8",
      "metadata": {
        "execution": {
          "iopub.execute_input": "2023-07-01T03:31:33.714305Z",
          "iopub.status.busy": "2023-07-01T03:31:33.714083Z",
          "iopub.status.idle": "2023-07-01T03:31:33.716763Z",
          "shell.execute_reply": "2023-07-01T03:31:33.716424Z"
        },
        "papermill": {
          "duration": 0.015253,
          "end_time": "2023-07-01T03:31:33.717951",
          "exception": false,
          "start_time": "2023-07-01T03:31:33.702698",
          "status": "completed"
        },
        "tags": [
          "hide-input"
        ]
      },
      "outputs": [],
      "source": [
        "def is_stype(stype: Any) -> bool:\n",
        "    \"\"\"check if an object is an SDict, SCoo or SDense\"\"\"\n",
        "    return is_sdict(stype) or is_scoo(stype) or is_sdense(stype)"
      ]
    },
    {
      "cell_type": "markdown",
      "id": "2151cb29cce14bc6",
      "metadata": {},
      "source": [
        ":::{eval-rst}\n",
        ".. autofunction:: sax.typing_.is_singlemode\n",
        ":::\n"
      ]
    },
    {
      "cell_type": "code",
      "execution_count": 42,
      "id": "cb1cbb62a573867b",
      "metadata": {
        "execution": {
          "iopub.execute_input": "2023-07-01T03:31:33.757999Z",
          "iopub.status.busy": "2023-07-01T03:31:33.757800Z",
          "iopub.status.idle": "2023-07-01T03:31:33.761810Z",
          "shell.execute_reply": "2023-07-01T03:31:33.761469Z"
        },
        "papermill": {
          "duration": 0.028819,
          "end_time": "2023-07-01T03:31:33.762842",
          "exception": false,
          "start_time": "2023-07-01T03:31:33.734023",
          "status": "completed"
        },
        "tags": [
          "hide-input"
        ]
      },
      "outputs": [],
      "source": [
        "def is_singlemode(S: Any) -> bool:\n",
        "    \"\"\"check if an stype is single mode\"\"\"\n",
        "    if not is_stype(S):\n",
        "        return False\n",
        "    ports = _get_ports(S)\n",
        "    return not any((\"@\" in p) for p in ports)\n",
        "\n",
        "def _get_ports(S: SType):\n",
        "    if is_sdict(S):\n",
        "        S = cast(SDict, S)\n",
        "        ports_set = {p1 for p1, _ in S} | {p2 for _, p2 in S}\n",
        "        return tuple(natsorted(ports_set))\n",
        "    else:\n",
        "        *_, ports_map = S\n",
        "        assert isinstance(ports_map, dict)\n",
        "        return tuple(natsorted(ports_map.keys()))"
      ]
    },
    {
      "cell_type": "markdown",
      "id": "cad338c6cebacdb9",
      "metadata": {},
      "source": [
        ":::{eval-rst}\n",
        ".. autofunction:: sax.typing_.is_multimode\n",
        ":::\n"
      ]
    },
    {
      "cell_type": "code",
      "execution_count": 43,
      "id": "c729659d21afacf4",
      "metadata": {
        "execution": {
          "iopub.execute_input": "2023-07-01T03:31:33.808129Z",
          "iopub.status.busy": "2023-07-01T03:31:33.807934Z",
          "iopub.status.idle": "2023-07-01T03:31:33.810847Z",
          "shell.execute_reply": "2023-07-01T03:31:33.810489Z"
        },
        "papermill": {
          "duration": 0.031291,
          "end_time": "2023-07-01T03:31:33.811944",
          "exception": false,
          "start_time": "2023-07-01T03:31:33.780653",
          "status": "completed"
        },
        "tags": [
          "hide-input"
        ]
      },
      "outputs": [],
      "source": [
        "def is_multimode(S: Any) -> bool:\n",
        "    \"\"\"check if an stype is single mode\"\"\"\n",
        "    if not is_stype(S):\n",
        "        return False\n",
        "    \n",
        "    ports = _get_ports(S)\n",
        "    return all((\"@\" in p) for p in ports)"
      ]
    },
    {
      "cell_type": "markdown",
      "id": "1c0ff51f370fa611",
      "metadata": {},
      "source": [
        ":::{eval-rst}\n",
        ".. autofunction:: sax.typing_.is_mixedmode\n",
        ":::\n"
      ]
    },
    {
      "cell_type": "code",
      "execution_count": 44,
      "id": "3e5ad7dd4ca4f732",
      "metadata": {
        "execution": {
          "iopub.execute_input": "2023-07-01T03:31:33.851146Z",
          "iopub.status.busy": "2023-07-01T03:31:33.850959Z",
          "iopub.status.idle": "2023-07-01T03:31:33.853852Z",
          "shell.execute_reply": "2023-07-01T03:31:33.853512Z"
        },
        "papermill": {
          "duration": 0.028795,
          "end_time": "2023-07-01T03:31:33.856137",
          "exception": false,
          "start_time": "2023-07-01T03:31:33.827342",
          "status": "completed"
        },
        "tags": [
          "hide-input"
        ]
      },
      "outputs": [],
      "source": [
        "def is_mixedmode(S: Any) -> bool:\n",
        "    \"\"\"check if an stype is neither single mode nor multimode (hence invalid)\"\"\"\n",
        "    return not is_singlemode(S) and not is_multimode(S)"
      ]
    },
    {
      "cell_type": "markdown",
      "id": "3afe685c",
      "metadata": {
        "papermill": {
          "duration": 0.011086,
          "end_time": "2023-07-01T03:31:33.887929",
          "exception": false,
          "start_time": "2023-07-01T03:31:33.876843",
          "status": "completed"
        },
        "tags": []
      },
      "source": [
        "## SAX return type helpers\n",
        "\n",
        "> a.k.a SDict, SDense, SCoo helpers"
      ]
    },
    {
      "cell_type": "markdown",
      "id": "a875f149",
      "metadata": {
        "papermill": {
          "duration": 0.010715,
          "end_time": "2023-07-01T03:31:33.909545",
          "exception": false,
          "start_time": "2023-07-01T03:31:33.898830",
          "status": "completed"
        },
        "tags": []
      },
      "source": [
        "Convert an `SDict`, `SCoo` or `SDense` into an `SDict` (or convert a model generating any of these types into a model generating an `SDict`):"
      ]
    },
    {
      "cell_type": "code",
      "execution_count": 45,
      "id": "b210f1b9cd695fcd",
      "metadata": {
        "execution": {
          "iopub.execute_input": "2023-07-01T03:31:33.932573Z",
          "iopub.status.busy": "2023-07-01T03:31:33.932355Z",
          "iopub.status.idle": "2023-07-01T03:31:33.935166Z",
          "shell.execute_reply": "2023-07-01T03:31:33.934772Z"
        },
        "papermill": {
          "duration": 0.015479,
          "end_time": "2023-07-01T03:31:33.936192",
          "exception": false,
          "start_time": "2023-07-01T03:31:33.920713",
          "status": "completed"
        },
        "tags": [
          "remove-cell"
        ]
      },
      "outputs": [],
      "source": [
        "\n",
        "@overload\n",
        "def sdict(S: Model) -> Model:\n",
        "    ...\n",
        "\n",
        "\n",
        "@overload\n",
        "def sdict(S: SType) -> SDict:\n",
        "    ..."
      ]
    },
    {
      "cell_type": "markdown",
      "id": "87bbf1b43526c3cf",
      "metadata": {},
      "source": [
        ":::{eval-rst}\n",
        ".. autofunction:: sax.typing_.sdict\n",
        ":::\n"
      ]
    },
    {
      "cell_type": "code",
      "execution_count": 46,
      "id": "c17787167e08cb32",
      "metadata": {
        "execution": {
          "iopub.execute_input": "2023-07-01T03:31:33.976049Z",
          "iopub.status.busy": "2023-07-01T03:31:33.975848Z",
          "iopub.status.idle": "2023-07-01T03:31:33.982278Z",
          "shell.execute_reply": "2023-07-01T03:31:33.981933Z"
        },
        "papermill": {
          "duration": 0.031233,
          "end_time": "2023-07-01T03:31:33.983348",
          "exception": false,
          "start_time": "2023-07-01T03:31:33.952115",
          "status": "completed"
        },
        "tags": [
          "hide-input"
        ]
      },
      "outputs": [],
      "source": [
        "def sdict(S: Union[Model, SType]) -> Union[Model, SType]:\n",
        "    \"\"\"Convert an `SCoo` or `SDense` to `SDict`\"\"\"\n",
        "\n",
        "    if is_model(S):\n",
        "        model = cast(Model, S)\n",
        "\n",
        "        @functools.wraps(model)\n",
        "        def wrapper(**kwargs):\n",
        "            return sdict(model(**kwargs))\n",
        "\n",
        "        return wrapper\n",
        "\n",
        "    elif is_scoo(S):\n",
        "        x_dict = _scoo_to_sdict(*cast(SCoo, S))\n",
        "    elif is_sdense(S):\n",
        "        x_dict = _sdense_to_sdict(*cast(SDense, S))\n",
        "    elif is_sdict(S):\n",
        "        x_dict = cast(SDict, S)\n",
        "    else:\n",
        "        raise ValueError(\"Could not convert arguments to sdict.\")\n",
        "\n",
        "    return x_dict\n",
        "\n",
        "\n",
        "def _scoo_to_sdict(Si: Array, Sj: Array, Sx: Array, ports_map: Dict[str, int]) -> SDict:\n",
        "    sdict = {}\n",
        "    inverse_ports_map = {int(i): p for p, i in ports_map.items()}\n",
        "    for i, (si, sj) in enumerate(zip(Si, Sj)):\n",
        "        sdict[\n",
        "            inverse_ports_map.get(int(si), \"\"), inverse_ports_map.get(int(sj), \"\")\n",
        "        ] = Sx[..., i]\n",
        "    sdict = {(p1, p2): v for (p1, p2), v in sdict.items() if p1 and p2}\n",
        "    return sdict\n",
        "\n",
        "\n",
        "def _sdense_to_sdict(S: Array, ports_map: Dict[str, int]) -> SDict:\n",
        "    sdict = {}\n",
        "    for p1, i in ports_map.items():\n",
        "        for p2, j in ports_map.items():\n",
        "            sdict[p1, p2] = S[..., i, j]\n",
        "    return sdict"
      ]
    },
    {
      "cell_type": "code",
      "execution_count": 47,
      "id": "9a372fbf",
      "metadata": {
        "execution": {
          "iopub.execute_input": "2023-07-01T03:31:34.024591Z",
          "iopub.status.busy": "2023-07-01T03:31:34.024389Z",
          "iopub.status.idle": "2023-07-01T03:31:34.183050Z",
          "shell.execute_reply": "2023-07-01T03:31:34.182547Z"
        },
        "papermill": {
          "duration": 0.182169,
          "end_time": "2023-07-01T03:31:34.184590",
          "exception": false,
          "start_time": "2023-07-01T03:31:34.002421",
          "status": "completed"
        },
        "tags": []
      },
      "outputs": [],
      "source": [
        "assert sdict(_sdict) is _sdict\n",
        "assert sdict(_scoo) == {\n",
        "    (\"in0\", \"in0\"): 3.0,\n",
        "    (\"in1\", \"in0\"): 1.0,\n",
        "    (\"out0\", \"out0\"): 4.0,\n",
        "}\n",
        "assert sdict(_sdense) == {\n",
        "    (\"in0\", \"in0\"): 0.0,\n",
        "    (\"in0\", \"out0\"): 1.0,\n",
        "    (\"in0\", \"in1\"): 2.0,\n",
        "    (\"out0\", \"in0\"): 3.0,\n",
        "    (\"out0\", \"out0\"): 4.0,\n",
        "    (\"out0\", \"in1\"): 5.0,\n",
        "    (\"in1\", \"in0\"): 6.0,\n",
        "    (\"in1\", \"out0\"): 7.0,\n",
        "    (\"in1\", \"in1\"): 8.0,\n",
        "}"
      ]
    },
    {
      "cell_type": "markdown",
      "id": "492c5cdd",
      "metadata": {
        "papermill": {
          "duration": 0.018951,
          "end_time": "2023-07-01T03:31:34.217748",
          "exception": false,
          "start_time": "2023-07-01T03:31:34.198797",
          "status": "completed"
        },
        "tags": []
      },
      "source": [
        "Convert an `SDict`, `SCoo` or `SDense` into an `SCoo` (or convert a model generating any of these types into a model generating an `SCoo`):"
      ]
    },
    {
      "cell_type": "code",
      "execution_count": 48,
      "id": "567d6f0c098b4e58",
      "metadata": {
        "execution": {
          "iopub.execute_input": "2023-07-01T03:31:34.265702Z",
          "iopub.status.busy": "2023-07-01T03:31:34.265389Z",
          "iopub.status.idle": "2023-07-01T03:31:34.268436Z",
          "shell.execute_reply": "2023-07-01T03:31:34.268056Z"
        },
        "papermill": {
          "duration": 0.029327,
          "end_time": "2023-07-01T03:31:34.270147",
          "exception": false,
          "start_time": "2023-07-01T03:31:34.240820",
          "status": "completed"
        },
        "tags": [
          "remove-cell"
        ]
      },
      "outputs": [],
      "source": [
        "\n",
        "@overload\n",
        "def scoo(S: Callable) -> Callable:\n",
        "    ...\n",
        "\n",
        "\n",
        "@overload\n",
        "def scoo(S: SType) -> SCoo:\n",
        "    ..."
      ]
    },
    {
      "cell_type": "markdown",
      "id": "58e3f398063d46f9",
      "metadata": {},
      "source": [
        ":::{eval-rst}\n",
        ".. autofunction:: sax.typing_.scoo\n",
        ":::\n"
      ]
    },
    {
      "cell_type": "code",
      "execution_count": 49,
      "id": "ee0d331c469d597b",
      "metadata": {
        "execution": {
          "iopub.execute_input": "2023-07-01T03:31:34.317968Z",
          "iopub.status.busy": "2023-07-01T03:31:34.317702Z",
          "iopub.status.idle": "2023-07-01T03:31:34.324940Z",
          "shell.execute_reply": "2023-07-01T03:31:34.324596Z"
        },
        "papermill": {
          "duration": 0.0328,
          "end_time": "2023-07-01T03:31:34.326017",
          "exception": false,
          "start_time": "2023-07-01T03:31:34.293217",
          "status": "completed"
        },
        "tags": [
          "hide-input"
        ]
      },
      "outputs": [],
      "source": [
        "\n",
        "def scoo(S: Union[Callable, SType]) -> Union[Callable, SCoo]:\n",
        "    \"\"\"Convert an `SDict` or `SDense` to `SCoo`\"\"\"\n",
        "\n",
        "    if is_model(S):\n",
        "        model = cast(Model, S)\n",
        "\n",
        "        @functools.wraps(model)\n",
        "        def wrapper(**kwargs):\n",
        "            return scoo(model(**kwargs))\n",
        "\n",
        "        return wrapper\n",
        "\n",
        "    elif is_scoo(S):\n",
        "        S = cast(SCoo, S)\n",
        "    elif is_sdense(S):\n",
        "        S = _sdense_to_scoo(*cast(SDense, S))\n",
        "    elif is_sdict(S):\n",
        "        S = _sdict_to_scoo(cast(SDict, S))\n",
        "    else:\n",
        "        raise ValueError(\"Could not convert arguments to scoo.\")\n",
        "\n",
        "    return S\n",
        "\n",
        "def _consolidate_sdense(S, pm):\n",
        "    idxs = list(pm.values())\n",
        "    S = S[..., idxs, :][..., :, idxs]\n",
        "    pm = {p: i for i, p in enumerate(pm)}\n",
        "    return S, pm\n",
        "\n",
        "def _sdense_to_scoo(S: Array, ports_map: Dict[str, int]) -> SCoo:\n",
        "    S, ports_map = _consolidate_sdense(S, ports_map)\n",
        "    Sj, Si = jnp.meshgrid(jnp.arange(S.shape[-1]), jnp.arange(S.shape[-2]))\n",
        "    return Si.ravel(), Sj.ravel(), S.reshape(*S.shape[:-2], -1), ports_map\n",
        "\n",
        "\n",
        "def _sdict_to_scoo(sdict: SDict) -> SCoo:\n",
        "    all_ports = {}\n",
        "    for p1, p2 in sdict:\n",
        "        all_ports[p1] = None\n",
        "        all_ports[p2] = None\n",
        "    ports_map = {p: i for i, p in enumerate(all_ports)}\n",
        "    Sx = jnp.stack(jnp.broadcast_arrays(*sdict.values()), -1)\n",
        "    Si = jnp.array([ports_map[p] for p, _ in sdict])\n",
        "    Sj = jnp.array([ports_map[p] for _, p in sdict])\n",
        "    return Si, Sj, Sx, ports_map"
      ]
    },
    {
      "cell_type": "code",
      "execution_count": 50,
      "id": "2e409185-a9f6-4ea9-af09-1c184557f02d",
      "metadata": {
        "execution": {
          "iopub.execute_input": "2023-07-01T03:31:34.364823Z",
          "iopub.status.busy": "2023-07-01T03:31:34.364624Z",
          "iopub.status.idle": "2023-07-01T03:31:34.613242Z",
          "shell.execute_reply": "2023-07-01T03:31:34.612786Z"
        },
        "papermill": {
          "duration": 0.273446,
          "end_time": "2023-07-01T03:31:34.614614",
          "exception": false,
          "start_time": "2023-07-01T03:31:34.341168",
          "status": "completed"
        },
        "tags": []
      },
      "outputs": [
        {
          "data": {
            "text/plain": [
              "(Array([0, 0, 0, 1, 1, 1, 2, 2, 2], dtype=int32),\n",
              " Array([0, 1, 2, 0, 1, 2, 0, 1, 2], dtype=int32),\n",
              " Array([0., 2., 1., 6., 8., 7., 3., 5., 4.], dtype=float32),\n",
              " {'in0': 0, 'in1': 1, 'out0': 2})"
            ]
          },
          "execution_count": 50,
          "metadata": {},
          "output_type": "execute_result"
        }
      ],
      "source": [
        "scoo(_sdense)"
      ]
    },
    {
      "cell_type": "code",
      "execution_count": 51,
      "id": "1e97b31c",
      "metadata": {
        "execution": {
          "iopub.execute_input": "2023-07-01T03:31:34.639889Z",
          "iopub.status.busy": "2023-07-01T03:31:34.639624Z",
          "iopub.status.idle": "2023-07-01T03:31:34.716726Z",
          "shell.execute_reply": "2023-07-01T03:31:34.716246Z"
        },
        "papermill": {
          "duration": 0.091204,
          "end_time": "2023-07-01T03:31:34.718501",
          "exception": false,
          "start_time": "2023-07-01T03:31:34.627297",
          "status": "completed"
        },
        "tags": []
      },
      "outputs": [],
      "source": [
        "assert scoo(_scoo) is _scoo\n",
        "assert scoo(_sdict) == (0, 1, 3.0, {\"in0\": 0, \"out0\": 1})\n",
        "Si, Sj, Sx, port_map = scoo(_sdense)  # type: ignore\n",
        "np.testing.assert_array_equal(Si, jnp.array([0, 0, 0, 1, 1, 1, 2, 2, 2]))\n",
        "np.testing.assert_array_equal(Sj, jnp.array([0, 1, 2, 0, 1, 2, 0, 1, 2]))\n",
        "np.testing.assert_array_almost_equal(Sx, jnp.array([0.0, 2.0, 1.0, 6.0, 8.0, 7.0, 3.0, 5.0, 4.0]))\n",
        "assert port_map == {\"in0\": 0, \"in1\": 1, \"out0\": 2}"
      ]
    },
    {
      "cell_type": "markdown",
      "id": "5e58325b",
      "metadata": {
        "papermill": {
          "duration": 0.017799,
          "end_time": "2023-07-01T03:31:34.752422",
          "exception": false,
          "start_time": "2023-07-01T03:31:34.734623",
          "status": "completed"
        },
        "tags": []
      },
      "source": [
        "Convert an `SDict`, `SCoo` or `SDense` into an `SDense` (or convert a model generating any of these types into a model generating an `SDense`):"
      ]
    },
    {
      "cell_type": "code",
      "execution_count": 52,
      "id": "9ae9b3b59dd6c77e",
      "metadata": {
        "execution": {
          "iopub.execute_input": "2023-07-01T03:31:34.805465Z",
          "iopub.status.busy": "2023-07-01T03:31:34.805159Z",
          "iopub.status.idle": "2023-07-01T03:31:34.808198Z",
          "shell.execute_reply": "2023-07-01T03:31:34.807756Z"
        },
        "papermill": {
          "duration": 0.031461,
          "end_time": "2023-07-01T03:31:34.810492",
          "exception": false,
          "start_time": "2023-07-01T03:31:34.779031",
          "status": "completed"
        },
        "tags": [
          "remove-cell"
        ]
      },
      "outputs": [],
      "source": [
        "\n",
        "@overload\n",
        "def sdense(S: Callable) -> Callable:\n",
        "    ...\n",
        "\n",
        "\n",
        "@overload\n",
        "def sdense(S: SType) -> SDense:\n",
        "    ..."
      ]
    },
    {
      "cell_type": "markdown",
      "id": "fc40c2353dd74c64",
      "metadata": {},
      "source": [
        ":::{eval-rst}\n",
        ".. autofunction:: sax.typing_.sdense\n",
        ":::\n"
      ]
    },
    {
      "cell_type": "code",
      "execution_count": 53,
      "id": "ca57855b24e5812a",
      "metadata": {
        "execution": {
          "iopub.execute_input": "2023-07-01T03:31:34.859337Z",
          "iopub.status.busy": "2023-07-01T03:31:34.858981Z",
          "iopub.status.idle": "2023-07-01T03:31:34.864764Z",
          "shell.execute_reply": "2023-07-01T03:31:34.864350Z"
        },
        "papermill": {
          "duration": 0.03282,
          "end_time": "2023-07-01T03:31:34.866868",
          "exception": false,
          "start_time": "2023-07-01T03:31:34.834048",
          "status": "completed"
        },
        "tags": [
          "hide-input"
        ]
      },
      "outputs": [],
      "source": [
        "\n",
        "def sdense(S: Union[Callable, SType]) -> Union[Callable, SDense]:\n",
        "    \"\"\"Convert an `SDict` or `SCoo` to `SDense`\"\"\"\n",
        "\n",
        "    if is_model(S):\n",
        "        model = cast(Model, S)\n",
        "\n",
        "        @functools.wraps(model)\n",
        "        def wrapper(**kwargs):\n",
        "            return sdense(model(**kwargs))\n",
        "\n",
        "        return wrapper\n",
        "\n",
        "    if is_sdict(S):\n",
        "        S = _sdict_to_sdense(cast(SDict, S))\n",
        "    elif is_scoo(S):\n",
        "        S = _scoo_to_sdense(*cast(SCoo, S))\n",
        "    elif is_sdense(S):\n",
        "        S = cast(SDense, S)\n",
        "    else:\n",
        "        raise ValueError(\"Could not convert arguments to sdense.\")\n",
        "\n",
        "    return S\n",
        "\n",
        "\n",
        "def _scoo_to_sdense(\n",
        "    Si: Array, Sj: Array, Sx: Array, ports_map: Dict[str, int]\n",
        ") -> SDense:\n",
        "    n_col = len(ports_map)\n",
        "    S = jnp.zeros((*Sx.shape[:-1], n_col, n_col), dtype=complex)\n",
        "    if JAX_AVAILABLE:\n",
        "        S = S.at[..., Si, Sj].add(Sx)\n",
        "    else:\n",
        "        S[..., Si, Sj] = Sx\n",
        "    return S, ports_map\n",
        "\n",
        "def _sdict_to_sdense(sdict: SDict) -> SDense:\n",
        "    Si, Sj, Sx, ports_map = _sdict_to_scoo(sdict)\n",
        "    return _scoo_to_sdense(Si, Sj, Sx, ports_map)"
      ]
    },
    {
      "cell_type": "code",
      "execution_count": 54,
      "id": "084b7ddb",
      "metadata": {
        "execution": {
          "iopub.execute_input": "2023-07-01T03:31:34.913611Z",
          "iopub.status.busy": "2023-07-01T03:31:34.913273Z",
          "iopub.status.idle": "2023-07-01T03:31:35.059094Z",
          "shell.execute_reply": "2023-07-01T03:31:35.058605Z"
        },
        "papermill": {
          "duration": 0.168924,
          "end_time": "2023-07-01T03:31:35.060603",
          "exception": false,
          "start_time": "2023-07-01T03:31:34.891679",
          "status": "completed"
        },
        "tags": []
      },
      "outputs": [],
      "source": [
        "assert sdense(_sdense) is _sdense\n",
        "Sd, port_map = sdense(_scoo)  # type: ignore\n",
        "Sd_ = jnp.array([[3.0 + 0.0j, 0.0 + 0.0j, 0.0 + 0.0j],\n",
        "                 [0.0 + 0.0j, 4.0 + 0.0j, 0.0 + 0.0j],\n",
        "                 [1.0 + 0.0j, 0.0 + 0.0j, 0.0 + 0.0j]])\n",
        "\n",
        "np.testing.assert_array_almost_equal(Sd, Sd_)\n",
        "assert port_map == {\"in0\": 0, \"in1\": 2, \"out0\": 1}"
      ]
    },
    {
      "cell_type": "markdown",
      "id": "a6f6c8c254271d48",
      "metadata": {},
      "source": [
        ":::{eval-rst}\n",
        ".. autofunction:: sax.typing_.modelfactory\n",
        ":::\n"
      ]
    },
    {
      "cell_type": "code",
      "execution_count": 55,
      "id": "0f89cba0a6178a68",
      "metadata": {
        "execution": {
          "iopub.execute_input": "2023-07-01T03:31:35.099548Z",
          "iopub.status.busy": "2023-07-01T03:31:35.099252Z",
          "iopub.status.idle": "2023-07-01T03:31:35.102536Z",
          "shell.execute_reply": "2023-07-01T03:31:35.102133Z"
        },
        "papermill": {
          "duration": 0.02891,
          "end_time": "2023-07-01T03:31:35.103815",
          "exception": false,
          "start_time": "2023-07-01T03:31:35.074905",
          "status": "completed"
        },
        "tags": [
          "hide-input"
        ]
      },
      "outputs": [],
      "source": [
        "\n",
        "def modelfactory(func):\n",
        "    \"\"\"Decorator that marks a function as `ModelFactory`\"\"\"\n",
        "    sig = inspect.signature(func)\n",
        "    if _is_callable_annotation(sig.return_annotation):  # already model factory\n",
        "        return func\n",
        "    func.__signature__ = sig.replace(return_annotation=Model)\n",
        "    return func"
      ]
    }
  ],
  "metadata": {
    "kernelspec": {
      "display_name": "sax",
      "language": "python",
      "name": "sax"
    },
    "language_info": {
      "codemirror_mode": {
        "name": "ipython",
        "version": 3
      },
      "file_extension": ".py",
      "mimetype": "text/x-python",
      "name": "python",
      "nbconvert_exporter": "python",
      "pygments_lexer": "ipython3",
      "version": "3.11.4"
    },
    "papermill": {
      "default_parameters": {},
      "duration": 7.338659,
      "end_time": "2023-07-01T03:31:35.744040",
      "environment_variables": {},
      "exception": null,
      "input_path": "./nbs/00_typing.ipynb",
      "output_path": "./nbs/00_typing.ipynb",
      "parameters": {},
      "start_time": "2023-07-01T03:31:28.405381",
      "version": "2.3.4"
    }
  },
  "nbformat": 4,
  "nbformat_minor": 5
}