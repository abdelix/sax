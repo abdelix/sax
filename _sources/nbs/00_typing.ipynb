{
  "cells": [
    {
      "cell_type": "code",
      "execution_count": 1,
      "id": "ab9b2a1ec6e1bce1",
      "metadata": {
        "execution": {
          "iopub.execute_input": "2023-06-01T21:10:28.184649Z",
          "iopub.status.busy": "2023-06-01T21:10:28.184399Z",
          "iopub.status.idle": "2023-06-01T21:10:28.187500Z",
          "shell.execute_reply": "2023-06-01T21:10:28.186994Z"
        },
        "papermill": {
          "duration": 0.017499,
          "end_time": "2023-06-01T21:10:28.189600",
          "exception": false,
          "start_time": "2023-06-01T21:10:28.172101",
          "status": "completed"
        },
        "tags": [
          "remove-cell"
        ]
      },
      "outputs": [],
      "source": []
    },
    {
      "cell_type": "markdown",
      "id": "13a3464b",
      "metadata": {
        "papermill": {
          "duration": 0.010058,
          "end_time": "2023-06-01T21:10:28.208915",
          "exception": false,
          "start_time": "2023-06-01T21:10:28.198857",
          "status": "completed"
        },
        "tags": []
      },
      "source": [
        "# Typing\n",
        "\n",
        "> SAX types"
      ]
    },
    {
      "cell_type": "code",
      "execution_count": 2,
      "id": "0664050f27081174",
      "metadata": {
        "execution": {
          "iopub.execute_input": "2023-06-01T21:10:28.228051Z",
          "iopub.status.busy": "2023-06-01T21:10:28.227808Z",
          "iopub.status.idle": "2023-06-01T21:10:28.700301Z",
          "shell.execute_reply": "2023-06-01T21:10:28.699872Z"
        },
        "papermill": {
          "duration": 0.4842,
          "end_time": "2023-06-01T21:10:28.702015",
          "exception": false,
          "start_time": "2023-06-01T21:10:28.217815",
          "status": "completed"
        },
        "tags": [
          "remove-cell"
        ]
      },
      "outputs": [],
      "source": [
        "import matplotlib.pyplot as plt\n",
        "from fastcore.test import test_eq\n",
        "from pytest import approx, raises\n",
        "\n",
        "import os, sys; sys.stderr = open(os.devnull, \"w\")"
      ]
    },
    {
      "cell_type": "code",
      "execution_count": 3,
      "id": "73a26753eee76193",
      "metadata": {
        "execution": {
          "iopub.execute_input": "2023-06-01T21:10:28.722103Z",
          "iopub.status.busy": "2023-06-01T21:10:28.721765Z",
          "iopub.status.idle": "2023-06-01T21:10:29.100633Z",
          "shell.execute_reply": "2023-06-01T21:10:29.100155Z"
        },
        "papermill": {
          "duration": 0.390601,
          "end_time": "2023-06-01T21:10:29.102069",
          "exception": false,
          "start_time": "2023-06-01T21:10:28.711468",
          "status": "completed"
        },
        "tags": [
          "hide-input"
        ]
      },
      "outputs": [],
      "source": [
        "from __future__ import annotations\n",
        "import functools\n",
        "import inspect\n",
        "from collections.abc import Callable as CallableABC\n",
        "from typing import Any, Callable, Dict, Tuple, Union, cast, overload\n",
        "try:\n",
        "    from typing import TypedDict\n",
        "except ImportError: # python<3.8\n",
        "    from typing_extensions import TypedDict\n",
        "\n",
        "import numpy as np\n",
        "from natsort import natsorted\n",
        "\n",
        "try:\n",
        "    import jax.numpy as jnp\n",
        "    JAX_AVAILABLE = True\n",
        "except ImportError:\n",
        "    import numpy as jnp\n",
        "    JAX_AVAILABLE = False"
      ]
    },
    {
      "cell_type": "markdown",
      "id": "41e26ab2",
      "metadata": {
        "papermill": {
          "duration": 0.008961,
          "end_time": "2023-06-01T21:10:29.120226",
          "exception": false,
          "start_time": "2023-06-01T21:10:29.111265",
          "status": "completed"
        },
        "tags": []
      },
      "source": [
        "## Core Types"
      ]
    },
    {
      "cell_type": "markdown",
      "id": "ca29df5c",
      "metadata": {
        "papermill": {
          "duration": 0.010143,
          "end_time": "2023-06-01T21:10:29.139456",
          "exception": false,
          "start_time": "2023-06-01T21:10:29.129313",
          "status": "completed"
        },
        "tags": []
      },
      "source": [
        "### Array"
      ]
    },
    {
      "cell_type": "markdown",
      "id": "82c3c344",
      "metadata": {
        "papermill": {
          "duration": 0.008978,
          "end_time": "2023-06-01T21:10:29.157324",
          "exception": false,
          "start_time": "2023-06-01T21:10:29.148346",
          "status": "completed"
        },
        "tags": []
      },
      "source": [
        "an `Array` is either a jax array or a numpy array:"
      ]
    },
    {
      "cell_type": "code",
      "execution_count": 4,
      "id": "3a3ca32525102ec6",
      "metadata": {
        "execution": {
          "iopub.execute_input": "2023-06-01T21:10:29.176971Z",
          "iopub.status.busy": "2023-06-01T21:10:29.176181Z",
          "iopub.status.idle": "2023-06-01T21:10:29.179274Z",
          "shell.execute_reply": "2023-06-01T21:10:29.178873Z"
        },
        "papermill": {
          "duration": 0.01488,
          "end_time": "2023-06-01T21:10:29.181054",
          "exception": false,
          "start_time": "2023-06-01T21:10:29.166174",
          "status": "completed"
        },
        "tags": []
      },
      "outputs": [],
      "source": [
        "Array = Union[jnp.ndarray, np.ndarray]"
      ]
    },
    {
      "cell_type": "markdown",
      "id": "6b86fa37",
      "metadata": {
        "papermill": {
          "duration": 0.008764,
          "end_time": "2023-06-01T21:10:29.198656",
          "exception": false,
          "start_time": "2023-06-01T21:10:29.189892",
          "status": "completed"
        },
        "tags": []
      },
      "source": [
        "### Int"
      ]
    },
    {
      "cell_type": "markdown",
      "id": "9fa467c9",
      "metadata": {
        "papermill": {
          "duration": 0.009224,
          "end_time": "2023-06-01T21:10:29.216841",
          "exception": false,
          "start_time": "2023-06-01T21:10:29.207617",
          "status": "completed"
        },
        "tags": []
      },
      "source": [
        "An `Int` is either a built-in `int` or an `Array` [of dtype `int`]"
      ]
    },
    {
      "cell_type": "code",
      "execution_count": 5,
      "id": "999762adc25896a8",
      "metadata": {
        "execution": {
          "iopub.execute_input": "2023-06-01T21:10:29.235842Z",
          "iopub.status.busy": "2023-06-01T21:10:29.235598Z",
          "iopub.status.idle": "2023-06-01T21:10:29.238210Z",
          "shell.execute_reply": "2023-06-01T21:10:29.237804Z"
        },
        "papermill": {
          "duration": 0.014303,
          "end_time": "2023-06-01T21:10:29.240080",
          "exception": false,
          "start_time": "2023-06-01T21:10:29.225777",
          "status": "completed"
        },
        "tags": []
      },
      "outputs": [],
      "source": [
        "Int = Union[int, Array]"
      ]
    },
    {
      "cell_type": "markdown",
      "id": "c486cd2c",
      "metadata": {
        "papermill": {
          "duration": 0.008854,
          "end_time": "2023-06-01T21:10:29.257872",
          "exception": false,
          "start_time": "2023-06-01T21:10:29.249018",
          "status": "completed"
        },
        "tags": []
      },
      "source": [
        "### Float"
      ]
    },
    {
      "cell_type": "markdown",
      "id": "3b59bba6",
      "metadata": {
        "papermill": {
          "duration": 0.008902,
          "end_time": "2023-06-01T21:10:29.275672",
          "exception": false,
          "start_time": "2023-06-01T21:10:29.266770",
          "status": "completed"
        },
        "tags": []
      },
      "source": [
        "A `Float` is eiter a built-in `float` or an `Array` [of dtype `float`]"
      ]
    },
    {
      "cell_type": "code",
      "execution_count": 6,
      "id": "af550ecbbed45ca4",
      "metadata": {
        "execution": {
          "iopub.execute_input": "2023-06-01T21:10:29.294931Z",
          "iopub.status.busy": "2023-06-01T21:10:29.294650Z",
          "iopub.status.idle": "2023-06-01T21:10:29.297351Z",
          "shell.execute_reply": "2023-06-01T21:10:29.296931Z"
        },
        "papermill": {
          "duration": 0.014712,
          "end_time": "2023-06-01T21:10:29.299273",
          "exception": false,
          "start_time": "2023-06-01T21:10:29.284561",
          "status": "completed"
        },
        "tags": []
      },
      "outputs": [],
      "source": [
        "Float = Union[float, Array]"
      ]
    },
    {
      "cell_type": "markdown",
      "id": "bdfd6200",
      "metadata": {
        "papermill": {
          "duration": 0.008875,
          "end_time": "2023-06-01T21:10:29.317067",
          "exception": false,
          "start_time": "2023-06-01T21:10:29.308192",
          "status": "completed"
        },
        "tags": []
      },
      "source": [
        "### ComplexFloat"
      ]
    },
    {
      "cell_type": "markdown",
      "id": "b1a7d255",
      "metadata": {
        "papermill": {
          "duration": 0.008925,
          "end_time": "2023-06-01T21:10:29.335003",
          "exception": false,
          "start_time": "2023-06-01T21:10:29.326078",
          "status": "completed"
        },
        "tags": []
      },
      "source": [
        "A `ComplexFloat` is either a build-in `complex` or an Array [of dtype `complex`]:"
      ]
    },
    {
      "cell_type": "code",
      "execution_count": 7,
      "id": "68045edf7174ac63",
      "metadata": {
        "execution": {
          "iopub.execute_input": "2023-06-01T21:10:29.354382Z",
          "iopub.status.busy": "2023-06-01T21:10:29.354135Z",
          "iopub.status.idle": "2023-06-01T21:10:29.357047Z",
          "shell.execute_reply": "2023-06-01T21:10:29.356635Z"
        },
        "papermill": {
          "duration": 0.01498,
          "end_time": "2023-06-01T21:10:29.358930",
          "exception": false,
          "start_time": "2023-06-01T21:10:29.343950",
          "status": "completed"
        },
        "tags": []
      },
      "outputs": [],
      "source": [
        "ComplexFloat = Union[complex, Float]"
      ]
    },
    {
      "cell_type": "markdown",
      "id": "1f1aa099",
      "metadata": {
        "papermill": {
          "duration": 0.009038,
          "end_time": "2023-06-01T21:10:29.377055",
          "exception": false,
          "start_time": "2023-06-01T21:10:29.368017",
          "status": "completed"
        },
        "tags": []
      },
      "source": [
        "### Settings"
      ]
    },
    {
      "cell_type": "markdown",
      "id": "69839acd",
      "metadata": {
        "papermill": {
          "duration": 0.008902,
          "end_time": "2023-06-01T21:10:29.394852",
          "exception": false,
          "start_time": "2023-06-01T21:10:29.385950",
          "status": "completed"
        },
        "tags": []
      },
      "source": [
        "A `Settings` dictionary is a nested mapping between setting names [`str`] to either `ComplexFloat` values OR to another lower level `Settings` dictionary."
      ]
    },
    {
      "cell_type": "code",
      "execution_count": 8,
      "id": "f3366e51cf286cc0",
      "metadata": {
        "execution": {
          "iopub.execute_input": "2023-06-01T21:10:29.413918Z",
          "iopub.status.busy": "2023-06-01T21:10:29.413664Z",
          "iopub.status.idle": "2023-06-01T21:10:29.416549Z",
          "shell.execute_reply": "2023-06-01T21:10:29.416145Z"
        },
        "papermill": {
          "duration": 0.01457,
          "end_time": "2023-06-01T21:10:29.418387",
          "exception": false,
          "start_time": "2023-06-01T21:10:29.403817",
          "status": "completed"
        },
        "tags": []
      },
      "outputs": [],
      "source": [
        "Settings = Union[Dict[str, ComplexFloat], Dict[str, \"Settings\"]]"
      ]
    },
    {
      "cell_type": "markdown",
      "id": "cf202d06",
      "metadata": {
        "papermill": {
          "duration": 0.009014,
          "end_time": "2023-06-01T21:10:29.436630",
          "exception": false,
          "start_time": "2023-06-01T21:10:29.427616",
          "status": "completed"
        },
        "tags": []
      },
      "source": [
        "Settings dictionaries are used to parametrize a SAX `Model` or a `circuit`. The settings dictionary should have the same hierarchy levels as the circuit:\n",
        " \n",
        " > Example:"
      ]
    },
    {
      "cell_type": "code",
      "execution_count": 9,
      "id": "2b26c4ab",
      "metadata": {
        "execution": {
          "iopub.execute_input": "2023-06-01T21:10:29.456058Z",
          "iopub.status.busy": "2023-06-01T21:10:29.455818Z",
          "iopub.status.idle": "2023-06-01T21:10:29.458669Z",
          "shell.execute_reply": "2023-06-01T21:10:29.458272Z"
        },
        "papermill": {
          "duration": 0.014775,
          "end_time": "2023-06-01T21:10:29.460474",
          "exception": false,
          "start_time": "2023-06-01T21:10:29.445699",
          "status": "completed"
        },
        "tags": []
      },
      "outputs": [],
      "source": [
        "mzi_settings = {\n",
        "    \"wl\": 1.5,  # global settings\n",
        "    \"lft\": {\"coupling\": 0.5},  # settings for the left coupler\n",
        "    \"top\": {\"neff\": 3.4},  # settings for the top waveguide\n",
        "    \"rgt\": {\"coupling\": 0.3},  # settings for the right coupler\n",
        "}"
      ]
    },
    {
      "cell_type": "markdown",
      "id": "45043912",
      "metadata": {
        "papermill": {
          "duration": 0.009088,
          "end_time": "2023-06-01T21:10:29.478602",
          "exception": false,
          "start_time": "2023-06-01T21:10:29.469514",
          "status": "completed"
        },
        "tags": []
      },
      "source": [
        "### SDict"
      ]
    },
    {
      "cell_type": "markdown",
      "id": "c5a7facf",
      "metadata": {
        "papermill": {
          "duration": 0.009116,
          "end_time": "2023-06-01T21:10:29.496783",
          "exception": false,
          "start_time": "2023-06-01T21:10:29.487667",
          "status": "completed"
        },
        "tags": []
      },
      "source": [
        "An `SDict` is a sparse dictionary based representation of an S-matrix, mapping port name tuples such as `('in0', 'out0')` to `ComplexFloat`."
      ]
    },
    {
      "cell_type": "code",
      "execution_count": 10,
      "id": "4b19d1e8642c01ed",
      "metadata": {
        "execution": {
          "iopub.execute_input": "2023-06-01T21:10:29.516000Z",
          "iopub.status.busy": "2023-06-01T21:10:29.515756Z",
          "iopub.status.idle": "2023-06-01T21:10:29.518393Z",
          "shell.execute_reply": "2023-06-01T21:10:29.518005Z"
        },
        "papermill": {
          "duration": 0.014466,
          "end_time": "2023-06-01T21:10:29.520248",
          "exception": false,
          "start_time": "2023-06-01T21:10:29.505782",
          "status": "completed"
        },
        "tags": []
      },
      "outputs": [],
      "source": [
        "SDict = Dict[Tuple[str, str], ComplexFloat]"
      ]
    },
    {
      "cell_type": "markdown",
      "id": "07dc470a",
      "metadata": {
        "papermill": {
          "duration": 0.008991,
          "end_time": "2023-06-01T21:10:29.538345",
          "exception": false,
          "start_time": "2023-06-01T21:10:29.529354",
          "status": "completed"
        },
        "tags": []
      },
      "source": [
        "> Example:"
      ]
    },
    {
      "cell_type": "code",
      "execution_count": 11,
      "id": "ad65a70c",
      "metadata": {
        "execution": {
          "iopub.execute_input": "2023-06-01T21:10:29.557637Z",
          "iopub.status.busy": "2023-06-01T21:10:29.557396Z",
          "iopub.status.idle": "2023-06-01T21:10:29.560522Z",
          "shell.execute_reply": "2023-06-01T21:10:29.560134Z"
        },
        "papermill": {
          "duration": 0.015845,
          "end_time": "2023-06-01T21:10:29.563273",
          "exception": false,
          "start_time": "2023-06-01T21:10:29.547428",
          "status": "completed"
        },
        "tags": []
      },
      "outputs": [
        {
          "name": "stdout",
          "output_type": "stream",
          "text": [
            "{('in0', 'out0'): 3.0}\n"
          ]
        }
      ],
      "source": [
        "_sdict: SDict = {\n",
        "    (\"in0\", \"out0\"): 3.0,\n",
        "}\n",
        "print(_sdict)"
      ]
    },
    {
      "cell_type": "markdown",
      "id": "0e2c7430",
      "metadata": {
        "papermill": {
          "duration": 0.009161,
          "end_time": "2023-06-01T21:10:29.581604",
          "exception": false,
          "start_time": "2023-06-01T21:10:29.572443",
          "status": "completed"
        },
        "tags": []
      },
      "source": [
        "### SCoo"
      ]
    },
    {
      "cell_type": "markdown",
      "id": "ef614e1d",
      "metadata": {
        "papermill": {
          "duration": 0.012637,
          "end_time": "2023-06-01T21:10:29.603396",
          "exception": false,
          "start_time": "2023-06-01T21:10:29.590759",
          "status": "completed"
        },
        "tags": []
      },
      "source": [
        "An `SCoo` is a sparse matrix based representation of an S-matrix consisting of three arrays and a port map. The three arrays represent the input port indices [`int`], output port indices [`int`] and the S-matrix values [`ComplexFloat`] of the sparse matrix. The port map maps a port name [`str`] to a port index [`int`]. Only these four arrays **together** and in this specific **order** are considered a valid `SCoo` representation!"
      ]
    },
    {
      "cell_type": "code",
      "execution_count": 12,
      "id": "6e369ec4d8e63a8b",
      "metadata": {
        "execution": {
          "iopub.execute_input": "2023-06-01T21:10:29.623707Z",
          "iopub.status.busy": "2023-06-01T21:10:29.622984Z",
          "iopub.status.idle": "2023-06-01T21:10:29.625957Z",
          "shell.execute_reply": "2023-06-01T21:10:29.625589Z"
        },
        "papermill": {
          "duration": 0.019481,
          "end_time": "2023-06-01T21:10:29.632453",
          "exception": false,
          "start_time": "2023-06-01T21:10:29.612972",
          "status": "completed"
        },
        "tags": []
      },
      "outputs": [],
      "source": [
        "SCoo = Tuple[Array, Array, ComplexFloat, Dict[str, int]]"
      ]
    },
    {
      "cell_type": "markdown",
      "id": "ff9719c8",
      "metadata": {
        "papermill": {
          "duration": 0.009204,
          "end_time": "2023-06-01T21:10:29.651052",
          "exception": false,
          "start_time": "2023-06-01T21:10:29.641848",
          "status": "completed"
        },
        "tags": []
      },
      "source": [
        "> Example:"
      ]
    },
    {
      "cell_type": "code",
      "execution_count": 13,
      "id": "972f8060",
      "metadata": {
        "execution": {
          "iopub.execute_input": "2023-06-01T21:10:29.670657Z",
          "iopub.status.busy": "2023-06-01T21:10:29.670415Z",
          "iopub.status.idle": "2023-06-01T21:10:29.704714Z",
          "shell.execute_reply": "2023-06-01T21:10:29.704293Z"
        },
        "papermill": {
          "duration": 0.045997,
          "end_time": "2023-06-01T21:10:29.706212",
          "exception": false,
          "start_time": "2023-06-01T21:10:29.660215",
          "status": "completed"
        },
        "tags": []
      },
      "outputs": [
        {
          "name": "stdout",
          "output_type": "stream",
          "text": [
            "[0 1 2]\n",
            "[0 1 0]\n",
            "[3. 4. 1.]\n",
            "{'in0': 0, 'in1': 2, 'out0': 1}\n"
          ]
        }
      ],
      "source": [
        "Si = jnp.arange(3, dtype=int)\n",
        "Sj = jnp.array([0, 1, 0], dtype=int)\n",
        "Sx = jnp.array([3.0, 4.0, 1.0])\n",
        "port_map = {\"in0\": 0, \"in1\": 2, \"out0\": 1}\n",
        "_scoo: SCoo = (Si, Sj, Sx, port_map)\n",
        "print(Si)\n",
        "print(Sj)\n",
        "print(Sx)\n",
        "print(port_map)"
      ]
    },
    {
      "cell_type": "markdown",
      "id": "2cba9246",
      "metadata": {
        "papermill": {
          "duration": 0.009325,
          "end_time": "2023-06-01T21:10:29.725189",
          "exception": false,
          "start_time": "2023-06-01T21:10:29.715864",
          "status": "completed"
        },
        "tags": []
      },
      "source": [
        "### SDense"
      ]
    },
    {
      "cell_type": "markdown",
      "id": "fd28795b",
      "metadata": {
        "papermill": {
          "duration": 0.009311,
          "end_time": "2023-06-01T21:10:29.743836",
          "exception": false,
          "start_time": "2023-06-01T21:10:29.734525",
          "status": "completed"
        },
        "tags": []
      },
      "source": [
        "an `SDense` is a dense matrix representation of an S-matrix. It's represented by an NxN `ComplexFloat` array and a port map (mapping port names onto port indices)."
      ]
    },
    {
      "cell_type": "code",
      "execution_count": 14,
      "id": "3ad5a7280c158c2f",
      "metadata": {
        "execution": {
          "iopub.execute_input": "2023-06-01T21:10:29.763960Z",
          "iopub.status.busy": "2023-06-01T21:10:29.763621Z",
          "iopub.status.idle": "2023-06-01T21:10:29.766270Z",
          "shell.execute_reply": "2023-06-01T21:10:29.765789Z"
        },
        "papermill": {
          "duration": 0.014875,
          "end_time": "2023-06-01T21:10:29.768059",
          "exception": false,
          "start_time": "2023-06-01T21:10:29.753184",
          "status": "completed"
        },
        "tags": []
      },
      "outputs": [],
      "source": [
        "SDense = Tuple[Array, Dict[str, int]]"
      ]
    },
    {
      "cell_type": "markdown",
      "id": "2c4789f7",
      "metadata": {
        "papermill": {
          "duration": 0.009246,
          "end_time": "2023-06-01T21:10:29.786719",
          "exception": false,
          "start_time": "2023-06-01T21:10:29.777473",
          "status": "completed"
        },
        "tags": []
      },
      "source": [
        "> Example:"
      ]
    },
    {
      "cell_type": "code",
      "execution_count": 15,
      "id": "02def7ed",
      "metadata": {
        "execution": {
          "iopub.execute_input": "2023-06-01T21:10:29.806910Z",
          "iopub.status.busy": "2023-06-01T21:10:29.806192Z",
          "iopub.status.idle": "2023-06-01T21:10:29.835454Z",
          "shell.execute_reply": "2023-06-01T21:10:29.835068Z"
        },
        "papermill": {
          "duration": 0.04064,
          "end_time": "2023-06-01T21:10:29.836604",
          "exception": false,
          "start_time": "2023-06-01T21:10:29.795964",
          "status": "completed"
        },
        "tags": []
      },
      "outputs": [
        {
          "name": "stdout",
          "output_type": "stream",
          "text": [
            "[[0. 1. 2.]\n",
            " [3. 4. 5.]\n",
            " [6. 7. 8.]]\n",
            "{'in0': 0, 'in1': 2, 'out0': 1}\n"
          ]
        }
      ],
      "source": [
        "Sd = jnp.arange(9, dtype=float).reshape(3, 3)\n",
        "port_map = {\"in0\": 0, \"in1\": 2, \"out0\": 1}\n",
        "_sdense = Sd, port_map\n",
        "print(Sd)\n",
        "print(port_map)"
      ]
    },
    {
      "cell_type": "markdown",
      "id": "b0d2e36f",
      "metadata": {
        "papermill": {
          "duration": 0.009557,
          "end_time": "2023-06-01T21:10:29.855749",
          "exception": false,
          "start_time": "2023-06-01T21:10:29.846192",
          "status": "completed"
        },
        "tags": []
      },
      "source": [
        "### SType"
      ]
    },
    {
      "cell_type": "markdown",
      "id": "b441f21d",
      "metadata": {
        "papermill": {
          "duration": 0.009302,
          "end_time": "2023-06-01T21:10:29.874408",
          "exception": false,
          "start_time": "2023-06-01T21:10:29.865106",
          "status": "completed"
        },
        "tags": []
      },
      "source": [
        "an `SType` is either an `SDict` **OR** an `SCoo` **OR** an `SDense`:"
      ]
    },
    {
      "cell_type": "code",
      "execution_count": 16,
      "id": "7088812cd5e769ec",
      "metadata": {
        "execution": {
          "iopub.execute_input": "2023-06-01T21:10:29.895168Z",
          "iopub.status.busy": "2023-06-01T21:10:29.894834Z",
          "iopub.status.idle": "2023-06-01T21:10:29.897633Z",
          "shell.execute_reply": "2023-06-01T21:10:29.897232Z"
        },
        "papermill": {
          "duration": 0.015614,
          "end_time": "2023-06-01T21:10:29.899383",
          "exception": false,
          "start_time": "2023-06-01T21:10:29.883769",
          "status": "completed"
        },
        "tags": []
      },
      "outputs": [],
      "source": [
        "SType = Union[SDict, SCoo, SDense]"
      ]
    },
    {
      "cell_type": "markdown",
      "id": "e0561b07",
      "metadata": {
        "papermill": {
          "duration": 0.009263,
          "end_time": "2023-06-01T21:10:29.918141",
          "exception": false,
          "start_time": "2023-06-01T21:10:29.908878",
          "status": "completed"
        },
        "tags": []
      },
      "source": [
        "> Example:"
      ]
    },
    {
      "cell_type": "code",
      "execution_count": 17,
      "id": "5b52a5f2",
      "metadata": {
        "execution": {
          "iopub.execute_input": "2023-06-01T21:10:29.938102Z",
          "iopub.status.busy": "2023-06-01T21:10:29.937857Z",
          "iopub.status.idle": "2023-06-01T21:10:29.940561Z",
          "shell.execute_reply": "2023-06-01T21:10:29.940150Z"
        },
        "papermill": {
          "duration": 0.014829,
          "end_time": "2023-06-01T21:10:29.942393",
          "exception": false,
          "start_time": "2023-06-01T21:10:29.927564",
          "status": "completed"
        },
        "tags": []
      },
      "outputs": [],
      "source": [
        "obj: SType = _sdict\n",
        "obj: SType = _scoo\n",
        "obj: SType = _sdense"
      ]
    },
    {
      "cell_type": "markdown",
      "id": "afabe91b",
      "metadata": {
        "papermill": {
          "duration": 0.009276,
          "end_time": "2023-06-01T21:10:29.961065",
          "exception": false,
          "start_time": "2023-06-01T21:10:29.951789",
          "status": "completed"
        },
        "tags": []
      },
      "source": [
        "### Model"
      ]
    },
    {
      "cell_type": "markdown",
      "id": "13808fb1",
      "metadata": {
        "papermill": {
          "duration": 0.009247,
          "end_time": "2023-06-01T21:10:29.979607",
          "exception": false,
          "start_time": "2023-06-01T21:10:29.970360",
          "status": "completed"
        },
        "tags": []
      },
      "source": [
        "A `Model` is any keyword-only function that returns an `SType`:"
      ]
    },
    {
      "cell_type": "code",
      "execution_count": 18,
      "id": "040d290434243127",
      "metadata": {
        "execution": {
          "iopub.execute_input": "2023-06-01T21:10:30.000024Z",
          "iopub.status.busy": "2023-06-01T21:10:29.999763Z",
          "iopub.status.idle": "2023-06-01T21:10:30.002397Z",
          "shell.execute_reply": "2023-06-01T21:10:30.001984Z"
        },
        "papermill": {
          "duration": 0.015206,
          "end_time": "2023-06-01T21:10:30.004310",
          "exception": false,
          "start_time": "2023-06-01T21:10:29.989104",
          "status": "completed"
        },
        "tags": []
      },
      "outputs": [],
      "source": [
        "Model = Callable[..., SType]"
      ]
    },
    {
      "cell_type": "markdown",
      "id": "fad534fb",
      "metadata": {
        "papermill": {
          "duration": 0.009412,
          "end_time": "2023-06-01T21:10:30.023301",
          "exception": false,
          "start_time": "2023-06-01T21:10:30.013889",
          "status": "completed"
        },
        "tags": []
      },
      "source": [
        "### ModelFactory"
      ]
    },
    {
      "cell_type": "markdown",
      "id": "85781647",
      "metadata": {
        "papermill": {
          "duration": 0.009575,
          "end_time": "2023-06-01T21:10:30.042290",
          "exception": false,
          "start_time": "2023-06-01T21:10:30.032715",
          "status": "completed"
        },
        "tags": []
      },
      "source": [
        "A `ModelFactory` is any keyword-only function that returns a `Model`:"
      ]
    },
    {
      "cell_type": "code",
      "execution_count": 19,
      "id": "4be95f0b6b471500",
      "metadata": {
        "execution": {
          "iopub.execute_input": "2023-06-01T21:10:30.062313Z",
          "iopub.status.busy": "2023-06-01T21:10:30.062069Z",
          "iopub.status.idle": "2023-06-01T21:10:30.064714Z",
          "shell.execute_reply": "2023-06-01T21:10:30.064307Z"
        },
        "papermill": {
          "duration": 0.014796,
          "end_time": "2023-06-01T21:10:30.066532",
          "exception": false,
          "start_time": "2023-06-01T21:10:30.051736",
          "status": "completed"
        },
        "tags": []
      },
      "outputs": [],
      "source": [
        "ModelFactory = Callable[..., Model]"
      ]
    },
    {
      "cell_type": "markdown",
      "id": "353d8506",
      "metadata": {
        "papermill": {
          "duration": 0.009354,
          "end_time": "2023-06-01T21:10:30.085310",
          "exception": false,
          "start_time": "2023-06-01T21:10:30.075956",
          "status": "completed"
        },
        "tags": []
      },
      "source": [
        "> Note: SAX sometimes needs to figure out the difference between a `ModelFactory` and a normal `Model` *before* running the function. To do this, SAX will check the return annotation of the function. Any function with a `-> Model` or `-> Callable` annotation will be considered a `ModelFactory`. Any function without this annotation will be considered a normal Model: **don't forget the return annotation of your Model Factory!** To ensure a correct annotation and to ensure forward compatibility, it's recommended to decorate your `ModelFactory` with the `modelfactory` decorator."
      ]
    },
    {
      "cell_type": "markdown",
      "id": "b32b5a31",
      "metadata": {
        "papermill": {
          "duration": 0.009311,
          "end_time": "2023-06-01T21:10:30.103992",
          "exception": false,
          "start_time": "2023-06-01T21:10:30.094681",
          "status": "completed"
        },
        "tags": []
      },
      "source": [
        "### Models"
      ]
    },
    {
      "cell_type": "markdown",
      "id": "a796dcb2",
      "metadata": {
        "papermill": {
          "duration": 0.009336,
          "end_time": "2023-06-01T21:10:30.122704",
          "exception": false,
          "start_time": "2023-06-01T21:10:30.113368",
          "status": "completed"
        },
        "tags": []
      },
      "source": [
        "`Models` is a mapping between model names [`str`] and a `Model`:"
      ]
    },
    {
      "cell_type": "code",
      "execution_count": 20,
      "id": "6f9c60732b8b4c5d",
      "metadata": {
        "execution": {
          "iopub.execute_input": "2023-06-01T21:10:30.142736Z",
          "iopub.status.busy": "2023-06-01T21:10:30.142469Z",
          "iopub.status.idle": "2023-06-01T21:10:30.145145Z",
          "shell.execute_reply": "2023-06-01T21:10:30.144721Z"
        },
        "papermill": {
          "duration": 0.014899,
          "end_time": "2023-06-01T21:10:30.147054",
          "exception": false,
          "start_time": "2023-06-01T21:10:30.132155",
          "status": "completed"
        },
        "tags": []
      },
      "outputs": [],
      "source": [
        "Models = Dict[str, Model]"
      ]
    },
    {
      "cell_type": "markdown",
      "id": "ed1af61c",
      "metadata": {
        "papermill": {
          "duration": 0.009358,
          "end_time": "2023-06-01T21:10:30.165853",
          "exception": false,
          "start_time": "2023-06-01T21:10:30.156495",
          "status": "completed"
        },
        "tags": []
      },
      "source": [
        "> Note: sometimes 'component' is used to refer to a a `Model` or `GeneralModel`. This is because other tools (such as for example GDSFactory) prefer that terminology."
      ]
    },
    {
      "cell_type": "markdown",
      "id": "5d276f63",
      "metadata": {
        "papermill": {
          "duration": 0.009292,
          "end_time": "2023-06-01T21:10:30.184764",
          "exception": false,
          "start_time": "2023-06-01T21:10:30.175472",
          "status": "completed"
        },
        "tags": []
      },
      "source": [
        "## Netlist Types\n",
        "\n",
        "Netlist types are moved [here](06_netlist.ipynb)."
      ]
    },
    {
      "cell_type": "markdown",
      "id": "dbcb4447",
      "metadata": {
        "papermill": {
          "duration": 0.009406,
          "end_time": "2023-06-01T21:10:30.203578",
          "exception": false,
          "start_time": "2023-06-01T21:10:30.194172",
          "status": "completed"
        },
        "tags": []
      },
      "source": [
        "## Validation and runtime type-checking:\n",
        "> Note: the type-checking functions below are **NOT** very tight and hence should be used within the right context!"
      ]
    },
    {
      "cell_type": "markdown",
      "id": "6cb444950fb2361e",
      "metadata": {},
      "source": [
        ":::{eval-rst}\n",
        ".. autofunction:: sax.typing_.is_float\n",
        ":::\n"
      ]
    },
    {
      "cell_type": "code",
      "execution_count": 21,
      "id": "d3d28d3456f66d31",
      "metadata": {
        "execution": {
          "iopub.execute_input": "2023-06-01T21:10:30.223975Z",
          "iopub.status.busy": "2023-06-01T21:10:30.223726Z",
          "iopub.status.idle": "2023-06-01T21:10:30.227719Z",
          "shell.execute_reply": "2023-06-01T21:10:30.227301Z"
        },
        "papermill": {
          "duration": 0.016598,
          "end_time": "2023-06-01T21:10:30.229589",
          "exception": false,
          "start_time": "2023-06-01T21:10:30.212991",
          "status": "completed"
        },
        "tags": [
          "hide-input"
        ]
      },
      "outputs": [],
      "source": [
        "def is_float(x: Any) -> bool:\n",
        "    \"\"\"Check if an object is a `Float`\"\"\"\n",
        "    if isinstance(x, float):\n",
        "        return True\n",
        "    if isinstance(x, np.ndarray):\n",
        "        return x.dtype in (np.float16, np.float32, np.float64, np.float128)\n",
        "    if isinstance(x, jnp.ndarray):\n",
        "        return x.dtype in (jnp.float16, jnp.float32, jnp.float64)\n",
        "    return False"
      ]
    },
    {
      "cell_type": "code",
      "execution_count": 22,
      "id": "28374448",
      "metadata": {
        "execution": {
          "iopub.execute_input": "2023-06-01T21:10:30.249901Z",
          "iopub.status.busy": "2023-06-01T21:10:30.249666Z",
          "iopub.status.idle": "2023-06-01T21:10:30.254824Z",
          "shell.execute_reply": "2023-06-01T21:10:30.254350Z"
        },
        "papermill": {
          "duration": 0.017104,
          "end_time": "2023-06-01T21:10:30.256362",
          "exception": false,
          "start_time": "2023-06-01T21:10:30.239258",
          "status": "completed"
        },
        "tags": []
      },
      "outputs": [],
      "source": [
        "assert is_float(3.0)\n",
        "assert not is_float(3)\n",
        "assert not is_float(3.0 + 2j)\n",
        "assert not is_float(jnp.array(3.0, dtype=complex))\n",
        "assert not is_float(jnp.array(3, dtype=int))"
      ]
    },
    {
      "cell_type": "markdown",
      "id": "37cb4f63e2426f46",
      "metadata": {},
      "source": [
        ":::{eval-rst}\n",
        ".. autofunction:: sax.typing_.is_complex\n",
        ":::\n"
      ]
    },
    {
      "cell_type": "code",
      "execution_count": 23,
      "id": "dda3ebe3e296daa6",
      "metadata": {
        "execution": {
          "iopub.execute_input": "2023-06-01T21:10:30.276535Z",
          "iopub.status.busy": "2023-06-01T21:10:30.276225Z",
          "iopub.status.idle": "2023-06-01T21:10:30.279615Z",
          "shell.execute_reply": "2023-06-01T21:10:30.279113Z"
        },
        "papermill": {
          "duration": 0.015345,
          "end_time": "2023-06-01T21:10:30.281235",
          "exception": false,
          "start_time": "2023-06-01T21:10:30.265890",
          "status": "completed"
        },
        "tags": [
          "hide-input"
        ]
      },
      "outputs": [],
      "source": [
        "def is_complex(x: Any) -> bool:\n",
        "    \"\"\"check if an object is a `ComplexFloat`\"\"\"\n",
        "    if isinstance(x, complex):\n",
        "        return True\n",
        "    if isinstance(x, np.ndarray):\n",
        "        return x.dtype in (np.complex64, np.complex128)\n",
        "    if isinstance(x, jnp.ndarray):\n",
        "        return x.dtype in (jnp.complex64, jnp.complex128)\n",
        "    return False"
      ]
    },
    {
      "cell_type": "code",
      "execution_count": 24,
      "id": "d81a703d",
      "metadata": {
        "execution": {
          "iopub.execute_input": "2023-06-01T21:10:30.301556Z",
          "iopub.status.busy": "2023-06-01T21:10:30.301237Z",
          "iopub.status.idle": "2023-06-01T21:10:30.305278Z",
          "shell.execute_reply": "2023-06-01T21:10:30.304892Z"
        },
        "papermill": {
          "duration": 0.016007,
          "end_time": "2023-06-01T21:10:30.306792",
          "exception": false,
          "start_time": "2023-06-01T21:10:30.290785",
          "status": "completed"
        },
        "tags": []
      },
      "outputs": [],
      "source": [
        "assert not is_complex(3.0)\n",
        "assert not is_complex(3)\n",
        "assert is_complex(3.0 + 2j)\n",
        "assert is_complex(jnp.array(3.0, dtype=complex))\n",
        "assert not is_complex(jnp.array(3, dtype=int))"
      ]
    },
    {
      "cell_type": "markdown",
      "id": "d3557cd7ff094fca",
      "metadata": {},
      "source": [
        ":::{eval-rst}\n",
        ".. autofunction:: sax.typing_.is_complex_float\n",
        ":::\n"
      ]
    },
    {
      "cell_type": "code",
      "execution_count": 25,
      "id": "dd0e7c35217282d0",
      "metadata": {
        "execution": {
          "iopub.execute_input": "2023-06-01T21:10:30.327304Z",
          "iopub.status.busy": "2023-06-01T21:10:30.326985Z",
          "iopub.status.idle": "2023-06-01T21:10:30.329856Z",
          "shell.execute_reply": "2023-06-01T21:10:30.329466Z"
        },
        "papermill": {
          "duration": 0.015068,
          "end_time": "2023-06-01T21:10:30.331469",
          "exception": false,
          "start_time": "2023-06-01T21:10:30.316401",
          "status": "completed"
        },
        "tags": [
          "hide-input"
        ]
      },
      "outputs": [],
      "source": [
        "def is_complex_float(x: Any) -> bool:\n",
        "    \"\"\"check if an object is either a `ComplexFloat` or a `Float`\"\"\"\n",
        "    return is_float(x) or is_complex(x)"
      ]
    },
    {
      "cell_type": "code",
      "execution_count": 26,
      "id": "c533ff0d",
      "metadata": {
        "execution": {
          "iopub.execute_input": "2023-06-01T21:10:30.352089Z",
          "iopub.status.busy": "2023-06-01T21:10:30.351754Z",
          "iopub.status.idle": "2023-06-01T21:10:30.355692Z",
          "shell.execute_reply": "2023-06-01T21:10:30.355322Z"
        },
        "papermill": {
          "duration": 0.016094,
          "end_time": "2023-06-01T21:10:30.357228",
          "exception": false,
          "start_time": "2023-06-01T21:10:30.341134",
          "status": "completed"
        },
        "tags": []
      },
      "outputs": [],
      "source": [
        "assert is_complex_float(3.0)\n",
        "assert not is_complex_float(3)\n",
        "assert is_complex_float(3.0 + 2j)\n",
        "assert is_complex_float(jnp.array(3.0, dtype=complex))\n",
        "assert not is_complex_float(jnp.array(3, dtype=int))"
      ]
    },
    {
      "cell_type": "markdown",
      "id": "85c8afe7d0b8da5d",
      "metadata": {},
      "source": [
        ":::{eval-rst}\n",
        ".. autofunction:: sax.typing_.is_sdict\n",
        ":::\n"
      ]
    },
    {
      "cell_type": "code",
      "execution_count": 27,
      "id": "8252a1849df69047",
      "metadata": {
        "execution": {
          "iopub.execute_input": "2023-06-01T21:10:30.377763Z",
          "iopub.status.busy": "2023-06-01T21:10:30.377453Z",
          "iopub.status.idle": "2023-06-01T21:10:30.380292Z",
          "shell.execute_reply": "2023-06-01T21:10:30.379914Z"
        },
        "papermill": {
          "duration": 0.014902,
          "end_time": "2023-06-01T21:10:30.381875",
          "exception": false,
          "start_time": "2023-06-01T21:10:30.366973",
          "status": "completed"
        },
        "tags": [
          "hide-input"
        ]
      },
      "outputs": [],
      "source": [
        "def is_sdict(x: Any) -> bool:\n",
        "    \"\"\"check if an object is an `SDict` (a SAX S-dictionary)\"\"\"\n",
        "    return isinstance(x, dict)"
      ]
    },
    {
      "cell_type": "code",
      "execution_count": 28,
      "id": "cb0365dc",
      "metadata": {
        "execution": {
          "iopub.execute_input": "2023-06-01T21:10:30.402267Z",
          "iopub.status.busy": "2023-06-01T21:10:30.401970Z",
          "iopub.status.idle": "2023-06-01T21:10:30.404928Z",
          "shell.execute_reply": "2023-06-01T21:10:30.404470Z"
        },
        "papermill": {
          "duration": 0.014768,
          "end_time": "2023-06-01T21:10:30.406326",
          "exception": false,
          "start_time": "2023-06-01T21:10:30.391558",
          "status": "completed"
        },
        "tags": []
      },
      "outputs": [],
      "source": [
        "assert not is_sdict(object())\n",
        "assert is_sdict(_sdict)\n",
        "assert not is_sdict(_scoo)\n",
        "assert not is_sdict(_sdense)"
      ]
    },
    {
      "cell_type": "markdown",
      "id": "f29f6b2f486db14a",
      "metadata": {},
      "source": [
        ":::{eval-rst}\n",
        ".. autofunction:: sax.typing_.is_scoo\n",
        ":::\n"
      ]
    },
    {
      "cell_type": "code",
      "execution_count": 29,
      "id": "506901a126e8d0fb",
      "metadata": {
        "execution": {
          "iopub.execute_input": "2023-06-01T21:10:30.426818Z",
          "iopub.status.busy": "2023-06-01T21:10:30.426485Z",
          "iopub.status.idle": "2023-06-01T21:10:30.429657Z",
          "shell.execute_reply": "2023-06-01T21:10:30.429183Z"
        },
        "papermill": {
          "duration": 0.015194,
          "end_time": "2023-06-01T21:10:30.431108",
          "exception": false,
          "start_time": "2023-06-01T21:10:30.415914",
          "status": "completed"
        },
        "tags": [
          "hide-input"
        ]
      },
      "outputs": [],
      "source": [
        "def is_scoo(x: Any) -> bool:\n",
        "    \"\"\"check if an object is an `SCoo` (a SAX sparse S-matrix representation in COO-format)\"\"\"\n",
        "    return isinstance(x, (tuple, list)) and len(x) == 4"
      ]
    },
    {
      "cell_type": "code",
      "execution_count": 30,
      "id": "9ea0239a",
      "metadata": {
        "execution": {
          "iopub.execute_input": "2023-06-01T21:10:30.451721Z",
          "iopub.status.busy": "2023-06-01T21:10:30.451418Z",
          "iopub.status.idle": "2023-06-01T21:10:30.454322Z",
          "shell.execute_reply": "2023-06-01T21:10:30.453856Z"
        },
        "papermill": {
          "duration": 0.014889,
          "end_time": "2023-06-01T21:10:30.455743",
          "exception": false,
          "start_time": "2023-06-01T21:10:30.440854",
          "status": "completed"
        },
        "tags": []
      },
      "outputs": [],
      "source": [
        "assert not is_scoo(object)\n",
        "assert not is_scoo(_sdict)\n",
        "assert is_scoo(_scoo)\n",
        "assert not is_scoo(_sdense)"
      ]
    },
    {
      "cell_type": "markdown",
      "id": "8ac9f8bbb3dccbf3",
      "metadata": {},
      "source": [
        ":::{eval-rst}\n",
        ".. autofunction:: sax.typing_.is_sdense\n",
        ":::\n"
      ]
    },
    {
      "cell_type": "code",
      "execution_count": 31,
      "id": "a5a46eb2fc09d24d",
      "metadata": {
        "execution": {
          "iopub.execute_input": "2023-06-01T21:10:30.476191Z",
          "iopub.status.busy": "2023-06-01T21:10:30.475904Z",
          "iopub.status.idle": "2023-06-01T21:10:30.478837Z",
          "shell.execute_reply": "2023-06-01T21:10:30.478442Z"
        },
        "papermill": {
          "duration": 0.014882,
          "end_time": "2023-06-01T21:10:30.480318",
          "exception": false,
          "start_time": "2023-06-01T21:10:30.465436",
          "status": "completed"
        },
        "tags": [
          "hide-input"
        ]
      },
      "outputs": [],
      "source": [
        "def is_sdense(x: Any) -> bool:\n",
        "    \"\"\"check if an object is an `SDense` (a SAX dense S-matrix representation)\"\"\"\n",
        "    return isinstance(x, (tuple, list)) and len(x) == 2"
      ]
    },
    {
      "cell_type": "code",
      "execution_count": 32,
      "id": "2eddd63a",
      "metadata": {
        "execution": {
          "iopub.execute_input": "2023-06-01T21:10:30.501775Z",
          "iopub.status.busy": "2023-06-01T21:10:30.501475Z",
          "iopub.status.idle": "2023-06-01T21:10:30.504397Z",
          "shell.execute_reply": "2023-06-01T21:10:30.503959Z"
        },
        "papermill": {
          "duration": 0.015938,
          "end_time": "2023-06-01T21:10:30.506024",
          "exception": false,
          "start_time": "2023-06-01T21:10:30.490086",
          "status": "completed"
        },
        "tags": []
      },
      "outputs": [],
      "source": [
        "assert not is_sdense(object)\n",
        "assert not is_sdense(_sdict)\n",
        "assert not is_sdense(_scoo)\n",
        "assert is_sdense(_sdense)"
      ]
    },
    {
      "cell_type": "markdown",
      "id": "9edd2fe362d15041",
      "metadata": {},
      "source": [
        ":::{eval-rst}\n",
        ".. autofunction:: sax.typing_.is_model\n",
        ":::\n"
      ]
    },
    {
      "cell_type": "code",
      "execution_count": 33,
      "id": "d5c5b9199ce00737",
      "metadata": {
        "execution": {
          "iopub.execute_input": "2023-06-01T21:10:30.526674Z",
          "iopub.status.busy": "2023-06-01T21:10:30.526366Z",
          "iopub.status.idle": "2023-06-01T21:10:30.530891Z",
          "shell.execute_reply": "2023-06-01T21:10:30.530484Z"
        },
        "papermill": {
          "duration": 0.016775,
          "end_time": "2023-06-01T21:10:30.532573",
          "exception": false,
          "start_time": "2023-06-01T21:10:30.515798",
          "status": "completed"
        },
        "tags": [
          "hide-input"
        ]
      },
      "outputs": [],
      "source": [
        "def is_model(model: Any) -> bool:\n",
        "    \"\"\"check if a callable is a `Model` (a callable returning an `SType`)\"\"\"\n",
        "    if not callable(model):\n",
        "        return False\n",
        "    try:\n",
        "        sig = inspect.signature(model)\n",
        "    except ValueError:\n",
        "        return False\n",
        "    for param in sig.parameters.values():\n",
        "        if param.default is inspect.Parameter.empty:\n",
        "            return False  # a proper SAX model does not have any positional arguments.\n",
        "    if _is_callable_annotation(sig.return_annotation):  # model factory\n",
        "        return False\n",
        "    return True\n",
        "\n",
        "def _is_callable_annotation(annotation: Any) -> bool:\n",
        "    \"\"\"check if an annotation is `Callable`-like\"\"\"\n",
        "    if isinstance(annotation, str):\n",
        "        # happens when\n",
        "        # was imported at the top of the file...\n",
        "        return annotation.startswith(\"Callable\") or annotation.endswith(\"Model\")\n",
        "        # TODO: this is not a very robust check...\n",
        "    try:\n",
        "        return annotation.__origin__ == CallableABC\n",
        "    except AttributeError:\n",
        "        return False"
      ]
    },
    {
      "cell_type": "code",
      "execution_count": 34,
      "id": "2013883390351e41",
      "metadata": {
        "execution": {
          "iopub.execute_input": "2023-06-01T21:10:30.553286Z",
          "iopub.status.busy": "2023-06-01T21:10:30.552982Z",
          "iopub.status.idle": "2023-06-01T21:10:30.555547Z",
          "shell.execute_reply": "2023-06-01T21:10:30.555096Z"
        },
        "papermill": {
          "duration": 0.014726,
          "end_time": "2023-06-01T21:10:30.557131",
          "exception": false,
          "start_time": "2023-06-01T21:10:30.542405",
          "status": "completed"
        },
        "tags": [
          "remove-cell"
        ]
      },
      "outputs": [],
      "source": [
        "assert _is_callable_annotation(Callable)\n",
        "assert not _is_callable_annotation(SDict)"
      ]
    },
    {
      "cell_type": "code",
      "execution_count": 35,
      "id": "89bdb647",
      "metadata": {
        "execution": {
          "iopub.execute_input": "2023-06-01T21:10:30.577805Z",
          "iopub.status.busy": "2023-06-01T21:10:30.577501Z",
          "iopub.status.idle": "2023-06-01T21:10:30.594054Z",
          "shell.execute_reply": "2023-06-01T21:10:30.593631Z"
        },
        "papermill": {
          "duration": 0.02848,
          "end_time": "2023-06-01T21:10:30.595356",
          "exception": false,
          "start_time": "2023-06-01T21:10:30.566876",
          "status": "completed"
        },
        "tags": []
      },
      "outputs": [],
      "source": [
        "def good_model(x=jnp.array(3.0), y=jnp.array(4.0)) -> SDict:\n",
        "    return {(\"in0\", \"out0\"): jnp.array(3.0)}\n",
        "assert is_model(good_model)\n",
        "\n",
        "def bad_model(positional_argument, x=jnp.array(3.0), y=jnp.array(4.0)) -> SDict:\n",
        "    return {(\"in0\", \"out0\"): jnp.array(3.0)}\n",
        "assert not is_model(bad_model)"
      ]
    },
    {
      "cell_type": "markdown",
      "id": "e2d5756aff240e60",
      "metadata": {},
      "source": [
        ":::{eval-rst}\n",
        ".. autofunction:: sax.typing_.is_model_factory\n",
        ":::\n"
      ]
    },
    {
      "cell_type": "code",
      "execution_count": 36,
      "id": "48043345cb818258",
      "metadata": {
        "execution": {
          "iopub.execute_input": "2023-06-01T21:10:30.616465Z",
          "iopub.status.busy": "2023-06-01T21:10:30.616185Z",
          "iopub.status.idle": "2023-06-01T21:10:30.619353Z",
          "shell.execute_reply": "2023-06-01T21:10:30.618918Z"
        },
        "papermill": {
          "duration": 0.015376,
          "end_time": "2023-06-01T21:10:30.620901",
          "exception": false,
          "start_time": "2023-06-01T21:10:30.605525",
          "status": "completed"
        },
        "tags": [
          "hide-input"
        ]
      },
      "outputs": [],
      "source": [
        "def is_model_factory(model: Any) -> bool:\n",
        "    \"\"\"check if a callable is a model function.\"\"\"\n",
        "    if not callable(model):\n",
        "        return False\n",
        "    sig = inspect.signature(model)\n",
        "    if _is_callable_annotation(sig.return_annotation):  # model factory\n",
        "        return True\n",
        "    return False"
      ]
    },
    {
      "cell_type": "markdown",
      "id": "1f9715ed",
      "metadata": {
        "papermill": {
          "duration": 0.010133,
          "end_time": "2023-06-01T21:10:30.640978",
          "exception": false,
          "start_time": "2023-06-01T21:10:30.630845",
          "status": "completed"
        },
        "tags": []
      },
      "source": [
        "> Note: For a `Callable` to be considered a `ModelFactory` in SAX, it **MUST** have a `Callable` or `Model` return annotation. Otherwise SAX will view it as a `Model` and things might break!"
      ]
    },
    {
      "cell_type": "code",
      "execution_count": 37,
      "id": "fe9cdff0",
      "metadata": {
        "execution": {
          "iopub.execute_input": "2023-06-01T21:10:30.663458Z",
          "iopub.status.busy": "2023-06-01T21:10:30.663150Z",
          "iopub.status.idle": "2023-06-01T21:10:30.666209Z",
          "shell.execute_reply": "2023-06-01T21:10:30.665762Z"
        },
        "papermill": {
          "duration": 0.01636,
          "end_time": "2023-06-01T21:10:30.667989",
          "exception": false,
          "start_time": "2023-06-01T21:10:30.651629",
          "status": "completed"
        },
        "tags": []
      },
      "outputs": [],
      "source": [
        "def func() -> Model:\n",
        "    ...\n",
        "    \n",
        "assert is_model_factory(func) # yes, we only check the annotation for now...\n",
        "\n",
        "def func():\n",
        "    ...\n",
        "    \n",
        "assert not is_model_factory(func) # yes, we only check the annotation for now..."
      ]
    },
    {
      "cell_type": "markdown",
      "id": "a7d0e2bdd53a7ef0",
      "metadata": {},
      "source": [
        ":::{eval-rst}\n",
        ".. autofunction:: sax.typing_.validate_model\n",
        ":::\n"
      ]
    },
    {
      "cell_type": "code",
      "execution_count": 38,
      "id": "ae1c1fcd4554b5ba",
      "metadata": {
        "execution": {
          "iopub.execute_input": "2023-06-01T21:10:30.690451Z",
          "iopub.status.busy": "2023-06-01T21:10:30.690147Z",
          "iopub.status.idle": "2023-06-01T21:10:30.693672Z",
          "shell.execute_reply": "2023-06-01T21:10:30.693309Z"
        },
        "papermill": {
          "duration": 0.016699,
          "end_time": "2023-06-01T21:10:30.695309",
          "exception": false,
          "start_time": "2023-06-01T21:10:30.678610",
          "status": "completed"
        },
        "tags": [
          "hide-input"
        ]
      },
      "outputs": [],
      "source": [
        "def validate_model(model: Callable):\n",
        "    \"\"\"Validate the parameters of a model\"\"\"\n",
        "    positional_arguments = []\n",
        "    for param in inspect.signature(model).parameters.values():\n",
        "        if param.default is inspect.Parameter.empty:\n",
        "            positional_arguments.append(param.name)\n",
        "    if positional_arguments:\n",
        "        raise ValueError(\n",
        "            f\"model '{model}' takes positional arguments {', '.join(positional_arguments)} \"\n",
        "            \"and hence is not a valid SAX Model! A SAX model should ONLY take keyword arguments (or no arguments at all).\"\n",
        "        )"
      ]
    },
    {
      "cell_type": "code",
      "execution_count": 39,
      "id": "754399d5",
      "metadata": {
        "execution": {
          "iopub.execute_input": "2023-06-01T21:10:30.718757Z",
          "iopub.status.busy": "2023-06-01T21:10:30.718439Z",
          "iopub.status.idle": "2023-06-01T21:10:30.722991Z",
          "shell.execute_reply": "2023-06-01T21:10:30.722618Z"
        },
        "papermill": {
          "duration": 0.018202,
          "end_time": "2023-06-01T21:10:30.724854",
          "exception": false,
          "start_time": "2023-06-01T21:10:30.706652",
          "status": "completed"
        },
        "tags": []
      },
      "outputs": [],
      "source": [
        "def good_model(x=jnp.array(3.0), y=jnp.array(4.0)) -> SDict:\n",
        "    return {(\"in0\", \"out0\"): jnp.array(3.0)}\n",
        "\n",
        "\n",
        "assert validate_model(good_model) is None"
      ]
    },
    {
      "cell_type": "code",
      "execution_count": 40,
      "id": "181c72fa",
      "metadata": {
        "execution": {
          "iopub.execute_input": "2023-06-01T21:10:30.747376Z",
          "iopub.status.busy": "2023-06-01T21:10:30.747062Z",
          "iopub.status.idle": "2023-06-01T21:10:30.751248Z",
          "shell.execute_reply": "2023-06-01T21:10:30.750873Z"
        },
        "papermill": {
          "duration": 0.016633,
          "end_time": "2023-06-01T21:10:30.752925",
          "exception": false,
          "start_time": "2023-06-01T21:10:30.736292",
          "status": "completed"
        },
        "tags": []
      },
      "outputs": [],
      "source": [
        "def bad_model(positional_argument, x=jnp.array(3.0), y=jnp.array(4.0)) -> SDict:\n",
        "    return {(\"in0\", \"out0\"): jnp.array(3.0)}\n",
        "\n",
        "\n",
        "with raises(ValueError):\n",
        "    validate_model(bad_model)"
      ]
    },
    {
      "cell_type": "markdown",
      "id": "cd36006abcd22487",
      "metadata": {},
      "source": [
        ":::{eval-rst}\n",
        ".. autofunction:: sax.typing_.is_stype\n",
        ":::\n"
      ]
    },
    {
      "cell_type": "code",
      "execution_count": 41,
      "id": "8b4d3255ba215697",
      "metadata": {
        "execution": {
          "iopub.execute_input": "2023-06-01T21:10:30.774334Z",
          "iopub.status.busy": "2023-06-01T21:10:30.774012Z",
          "iopub.status.idle": "2023-06-01T21:10:30.777018Z",
          "shell.execute_reply": "2023-06-01T21:10:30.776641Z"
        },
        "papermill": {
          "duration": 0.01557,
          "end_time": "2023-06-01T21:10:30.778625",
          "exception": false,
          "start_time": "2023-06-01T21:10:30.763055",
          "status": "completed"
        },
        "tags": [
          "hide-input"
        ]
      },
      "outputs": [],
      "source": [
        "def is_stype(stype: Any) -> bool:\n",
        "    \"\"\"check if an object is an SDict, SCoo or SDense\"\"\"\n",
        "    return is_sdict(stype) or is_scoo(stype) or is_sdense(stype)"
      ]
    },
    {
      "cell_type": "markdown",
      "id": "836dab8bb61fd9b6",
      "metadata": {},
      "source": [
        ":::{eval-rst}\n",
        ".. autofunction:: sax.typing_.is_singlemode\n",
        ":::\n"
      ]
    },
    {
      "cell_type": "code",
      "execution_count": 42,
      "id": "7ac4058c1c848683",
      "metadata": {
        "execution": {
          "iopub.execute_input": "2023-06-01T21:10:30.799884Z",
          "iopub.status.busy": "2023-06-01T21:10:30.799572Z",
          "iopub.status.idle": "2023-06-01T21:10:30.803957Z",
          "shell.execute_reply": "2023-06-01T21:10:30.803575Z"
        },
        "papermill": {
          "duration": 0.016929,
          "end_time": "2023-06-01T21:10:30.805588",
          "exception": false,
          "start_time": "2023-06-01T21:10:30.788659",
          "status": "completed"
        },
        "tags": [
          "hide-input"
        ]
      },
      "outputs": [],
      "source": [
        "def is_singlemode(S: Any) -> bool:\n",
        "    \"\"\"check if an stype is single mode\"\"\"\n",
        "    if not is_stype(S):\n",
        "        return False\n",
        "    ports = _get_ports(S)\n",
        "    return not any((\"@\" in p) for p in ports)\n",
        "\n",
        "def _get_ports(S: SType):\n",
        "    if is_sdict(S):\n",
        "        S = cast(SDict, S)\n",
        "        ports_set = {p1 for p1, _ in S} | {p2 for _, p2 in S}\n",
        "        return tuple(natsorted(ports_set))\n",
        "    else:\n",
        "        *_, ports_map = S\n",
        "        assert isinstance(ports_map, dict)\n",
        "        return tuple(natsorted(ports_map.keys()))"
      ]
    },
    {
      "cell_type": "markdown",
      "id": "589d90a30e9f4c96",
      "metadata": {},
      "source": [
        ":::{eval-rst}\n",
        ".. autofunction:: sax.typing_.is_multimode\n",
        ":::\n"
      ]
    },
    {
      "cell_type": "code",
      "execution_count": 43,
      "id": "7d130f0b0972a6ec",
      "metadata": {
        "execution": {
          "iopub.execute_input": "2023-06-01T21:10:30.826837Z",
          "iopub.status.busy": "2023-06-01T21:10:30.826591Z",
          "iopub.status.idle": "2023-06-01T21:10:30.829916Z",
          "shell.execute_reply": "2023-06-01T21:10:30.829529Z"
        },
        "papermill": {
          "duration": 0.015982,
          "end_time": "2023-06-01T21:10:30.831633",
          "exception": false,
          "start_time": "2023-06-01T21:10:30.815651",
          "status": "completed"
        },
        "tags": [
          "hide-input"
        ]
      },
      "outputs": [],
      "source": [
        "def is_multimode(S: Any) -> bool:\n",
        "    \"\"\"check if an stype is single mode\"\"\"\n",
        "    if not is_stype(S):\n",
        "        return False\n",
        "    \n",
        "    ports = _get_ports(S)\n",
        "    return all((\"@\" in p) for p in ports)"
      ]
    },
    {
      "cell_type": "markdown",
      "id": "b93c704a2988854e",
      "metadata": {},
      "source": [
        ":::{eval-rst}\n",
        ".. autofunction:: sax.typing_.is_mixedmode\n",
        ":::\n"
      ]
    },
    {
      "cell_type": "code",
      "execution_count": 44,
      "id": "faeb5ec03bdef04e",
      "metadata": {
        "execution": {
          "iopub.execute_input": "2023-06-01T21:10:30.852800Z",
          "iopub.status.busy": "2023-06-01T21:10:30.852493Z",
          "iopub.status.idle": "2023-06-01T21:10:30.855371Z",
          "shell.execute_reply": "2023-06-01T21:10:30.854994Z"
        },
        "papermill": {
          "duration": 0.015282,
          "end_time": "2023-06-01T21:10:30.856880",
          "exception": false,
          "start_time": "2023-06-01T21:10:30.841598",
          "status": "completed"
        },
        "tags": [
          "hide-input"
        ]
      },
      "outputs": [],
      "source": [
        "def is_mixedmode(S: Any) -> bool:\n",
        "    \"\"\"check if an stype is neither single mode nor multimode (hence invalid)\"\"\"\n",
        "    return not is_singlemode(S) and not is_multimode(S)"
      ]
    },
    {
      "cell_type": "markdown",
      "id": "3afe685c",
      "metadata": {
        "papermill": {
          "duration": 0.010028,
          "end_time": "2023-06-01T21:10:30.877141",
          "exception": false,
          "start_time": "2023-06-01T21:10:30.867113",
          "status": "completed"
        },
        "tags": []
      },
      "source": [
        "## SAX return type helpers\n",
        "\n",
        "> a.k.a SDict, SDense, SCoo helpers"
      ]
    },
    {
      "cell_type": "markdown",
      "id": "a875f149",
      "metadata": {
        "papermill": {
          "duration": 0.010472,
          "end_time": "2023-06-01T21:10:30.897676",
          "exception": false,
          "start_time": "2023-06-01T21:10:30.887204",
          "status": "completed"
        },
        "tags": []
      },
      "source": [
        "Convert an `SDict`, `SCoo` or `SDense` into an `SDict` (or convert a model generating any of these types into a model generating an `SDict`):"
      ]
    },
    {
      "cell_type": "code",
      "execution_count": 45,
      "id": "055ab1f2eeaaa798",
      "metadata": {
        "execution": {
          "iopub.execute_input": "2023-06-01T21:10:30.918899Z",
          "iopub.status.busy": "2023-06-01T21:10:30.918629Z",
          "iopub.status.idle": "2023-06-01T21:10:30.921680Z",
          "shell.execute_reply": "2023-06-01T21:10:30.921290Z"
        },
        "papermill": {
          "duration": 0.015589,
          "end_time": "2023-06-01T21:10:30.923273",
          "exception": false,
          "start_time": "2023-06-01T21:10:30.907684",
          "status": "completed"
        },
        "tags": [
          "remove-cell"
        ]
      },
      "outputs": [],
      "source": [
        "\n",
        "@overload\n",
        "def sdict(S: Model) -> Model:\n",
        "    ...\n",
        "\n",
        "\n",
        "@overload\n",
        "def sdict(S: SType) -> SDict:\n",
        "    ..."
      ]
    },
    {
      "cell_type": "markdown",
      "id": "3f24d6908da811d5",
      "metadata": {},
      "source": [
        ":::{eval-rst}\n",
        ".. autofunction:: sax.typing_.sdict\n",
        ":::\n"
      ]
    },
    {
      "cell_type": "code",
      "execution_count": 46,
      "id": "47378f693b8ad76f",
      "metadata": {
        "execution": {
          "iopub.execute_input": "2023-06-01T21:10:30.944768Z",
          "iopub.status.busy": "2023-06-01T21:10:30.944442Z",
          "iopub.status.idle": "2023-06-01T21:10:30.951660Z",
          "shell.execute_reply": "2023-06-01T21:10:30.951268Z"
        },
        "papermill": {
          "duration": 0.019498,
          "end_time": "2023-06-01T21:10:30.952853",
          "exception": false,
          "start_time": "2023-06-01T21:10:30.933355",
          "status": "completed"
        },
        "tags": [
          "hide-input"
        ]
      },
      "outputs": [],
      "source": [
        "def sdict(S: Union[Model, SType]) -> Union[Model, SType]:\n",
        "    \"\"\"Convert an `SCoo` or `SDense` to `SDict`\"\"\"\n",
        "\n",
        "    if is_model(S):\n",
        "        model = cast(Model, S)\n",
        "\n",
        "        @functools.wraps(model)\n",
        "        def wrapper(**kwargs):\n",
        "            return sdict(model(**kwargs))\n",
        "\n",
        "        return wrapper\n",
        "\n",
        "    elif is_scoo(S):\n",
        "        x_dict = _scoo_to_sdict(*cast(SCoo, S))\n",
        "    elif is_sdense(S):\n",
        "        x_dict = _sdense_to_sdict(*cast(SDense, S))\n",
        "    elif is_sdict(S):\n",
        "        x_dict = cast(SDict, S)\n",
        "    else:\n",
        "        raise ValueError(\"Could not convert arguments to sdict.\")\n",
        "\n",
        "    return x_dict\n",
        "\n",
        "\n",
        "def _scoo_to_sdict(Si: Array, Sj: Array, Sx: Array, ports_map: Dict[str, int]) -> SDict:\n",
        "    sdict = {}\n",
        "    inverse_ports_map = {int(i): p for p, i in ports_map.items()}\n",
        "    for i, (si, sj) in enumerate(zip(Si, Sj)):\n",
        "        sdict[\n",
        "            inverse_ports_map.get(int(si), \"\"), inverse_ports_map.get(int(sj), \"\")\n",
        "        ] = Sx[..., i]\n",
        "    sdict = {(p1, p2): v for (p1, p2), v in sdict.items() if p1 and p2}\n",
        "    return sdict\n",
        "\n",
        "\n",
        "def _sdense_to_sdict(S: Array, ports_map: Dict[str, int]) -> SDict:\n",
        "    sdict = {}\n",
        "    for p1, i in ports_map.items():\n",
        "        for p2, j in ports_map.items():\n",
        "            sdict[p1, p2] = S[..., i, j]\n",
        "    return sdict"
      ]
    },
    {
      "cell_type": "code",
      "execution_count": 47,
      "id": "9a372fbf",
      "metadata": {
        "execution": {
          "iopub.execute_input": "2023-06-01T21:10:30.975102Z",
          "iopub.status.busy": "2023-06-01T21:10:30.974396Z",
          "iopub.status.idle": "2023-06-01T21:10:31.060046Z",
          "shell.execute_reply": "2023-06-01T21:10:31.059625Z"
        },
        "papermill": {
          "duration": 0.098329,
          "end_time": "2023-06-01T21:10:31.061491",
          "exception": false,
          "start_time": "2023-06-01T21:10:30.963162",
          "status": "completed"
        },
        "tags": []
      },
      "outputs": [],
      "source": [
        "assert sdict(_sdict) is _sdict\n",
        "assert sdict(_scoo) == {\n",
        "    (\"in0\", \"in0\"): 3.0,\n",
        "    (\"in1\", \"in0\"): 1.0,\n",
        "    (\"out0\", \"out0\"): 4.0,\n",
        "}\n",
        "assert sdict(_sdense) == {\n",
        "    (\"in0\", \"in0\"): 0.0,\n",
        "    (\"in0\", \"out0\"): 1.0,\n",
        "    (\"in0\", \"in1\"): 2.0,\n",
        "    (\"out0\", \"in0\"): 3.0,\n",
        "    (\"out0\", \"out0\"): 4.0,\n",
        "    (\"out0\", \"in1\"): 5.0,\n",
        "    (\"in1\", \"in0\"): 6.0,\n",
        "    (\"in1\", \"out0\"): 7.0,\n",
        "    (\"in1\", \"in1\"): 8.0,\n",
        "}"
      ]
    },
    {
      "cell_type": "markdown",
      "id": "492c5cdd",
      "metadata": {
        "papermill": {
          "duration": 0.010193,
          "end_time": "2023-06-01T21:10:31.082600",
          "exception": false,
          "start_time": "2023-06-01T21:10:31.072407",
          "status": "completed"
        },
        "tags": []
      },
      "source": [
        "Convert an `SDict`, `SCoo` or `SDense` into an `SCoo` (or convert a model generating any of these types into a model generating an `SCoo`):"
      ]
    },
    {
      "cell_type": "code",
      "execution_count": 48,
      "id": "078692ada2810635",
      "metadata": {
        "execution": {
          "iopub.execute_input": "2023-06-01T21:10:31.104467Z",
          "iopub.status.busy": "2023-06-01T21:10:31.104120Z",
          "iopub.status.idle": "2023-06-01T21:10:31.107235Z",
          "shell.execute_reply": "2023-06-01T21:10:31.106843Z"
        },
        "papermill": {
          "duration": 0.016009,
          "end_time": "2023-06-01T21:10:31.108818",
          "exception": false,
          "start_time": "2023-06-01T21:10:31.092809",
          "status": "completed"
        },
        "tags": [
          "remove-cell"
        ]
      },
      "outputs": [],
      "source": [
        "\n",
        "@overload\n",
        "def scoo(S: Callable) -> Callable:\n",
        "    ...\n",
        "\n",
        "\n",
        "@overload\n",
        "def scoo(S: SType) -> SCoo:\n",
        "    ..."
      ]
    },
    {
      "cell_type": "markdown",
      "id": "a760f21d3bfd5bf3",
      "metadata": {},
      "source": [
        ":::{eval-rst}\n",
        ".. autofunction:: sax.typing_.scoo\n",
        ":::\n"
      ]
    },
    {
      "cell_type": "code",
      "execution_count": 49,
      "id": "90dfd190aaf050db",
      "metadata": {
        "execution": {
          "iopub.execute_input": "2023-06-01T21:10:31.130384Z",
          "iopub.status.busy": "2023-06-01T21:10:31.130068Z",
          "iopub.status.idle": "2023-06-01T21:10:31.138805Z",
          "shell.execute_reply": "2023-06-01T21:10:31.138418Z"
        },
        "papermill": {
          "duration": 0.021104,
          "end_time": "2023-06-01T21:10:31.140119",
          "exception": false,
          "start_time": "2023-06-01T21:10:31.119015",
          "status": "completed"
        },
        "tags": [
          "hide-input"
        ]
      },
      "outputs": [],
      "source": [
        "\n",
        "def scoo(S: Union[Callable, SType]) -> Union[Callable, SCoo]:\n",
        "    \"\"\"Convert an `SDict` or `SDense` to `SCoo`\"\"\"\n",
        "\n",
        "    if is_model(S):\n",
        "        model = cast(Model, S)\n",
        "\n",
        "        @functools.wraps(model)\n",
        "        def wrapper(**kwargs):\n",
        "            return scoo(model(**kwargs))\n",
        "\n",
        "        return wrapper\n",
        "\n",
        "    elif is_scoo(S):\n",
        "        S = cast(SCoo, S)\n",
        "    elif is_sdense(S):\n",
        "        S = _sdense_to_scoo(*cast(SDense, S))\n",
        "    elif is_sdict(S):\n",
        "        S = _sdict_to_scoo(cast(SDict, S))\n",
        "    else:\n",
        "        raise ValueError(\"Could not convert arguments to scoo.\")\n",
        "\n",
        "    return S\n",
        "\n",
        "def _consolidate_sdense(S, pm):\n",
        "    idxs = list(pm.values())\n",
        "    S = S[..., idxs, :][..., :, idxs]\n",
        "    pm = {p: i for i, p in enumerate(pm)}\n",
        "    return S, pm\n",
        "\n",
        "def _sdense_to_scoo(S: Array, ports_map: Dict[str, int]) -> SCoo:\n",
        "    S, ports_map = _consolidate_sdense(S, ports_map)\n",
        "    Sj, Si = jnp.meshgrid(jnp.arange(S.shape[-1]), jnp.arange(S.shape[-2]))\n",
        "    return Si.ravel(), Sj.ravel(), S.reshape(*S.shape[:-2], -1), ports_map\n",
        "\n",
        "\n",
        "def _sdict_to_scoo(sdict: SDict) -> SCoo:\n",
        "    all_ports = {}\n",
        "    for p1, p2 in sdict:\n",
        "        all_ports[p1] = None\n",
        "        all_ports[p2] = None\n",
        "    ports_map = {p: i for i, p in enumerate(all_ports)}\n",
        "    Sx = jnp.stack(jnp.broadcast_arrays(*sdict.values()), -1)\n",
        "    Si = jnp.array([ports_map[p] for p, _ in sdict])\n",
        "    Sj = jnp.array([ports_map[p] for _, p in sdict])\n",
        "    return Si, Sj, Sx, ports_map"
      ]
    },
    {
      "cell_type": "code",
      "execution_count": 50,
      "id": "2e409185-a9f6-4ea9-af09-1c184557f02d",
      "metadata": {
        "execution": {
          "iopub.execute_input": "2023-06-01T21:10:31.161908Z",
          "iopub.status.busy": "2023-06-01T21:10:31.161574Z",
          "iopub.status.idle": "2023-06-01T21:10:31.301735Z",
          "shell.execute_reply": "2023-06-01T21:10:31.301291Z"
        },
        "papermill": {
          "duration": 0.152531,
          "end_time": "2023-06-01T21:10:31.302953",
          "exception": false,
          "start_time": "2023-06-01T21:10:31.150422",
          "status": "completed"
        },
        "tags": []
      },
      "outputs": [
        {
          "data": {
            "text/plain": [
              "(Array([0, 0, 0, 1, 1, 1, 2, 2, 2], dtype=int32),\n",
              " Array([0, 1, 2, 0, 1, 2, 0, 1, 2], dtype=int32),\n",
              " Array([0., 2., 1., 6., 8., 7., 3., 5., 4.], dtype=float32),\n",
              " {'in0': 0, 'in1': 1, 'out0': 2})"
            ]
          },
          "execution_count": 50,
          "metadata": {},
          "output_type": "execute_result"
        }
      ],
      "source": [
        "scoo(_sdense)"
      ]
    },
    {
      "cell_type": "code",
      "execution_count": 51,
      "id": "1e97b31c",
      "metadata": {
        "execution": {
          "iopub.execute_input": "2023-06-01T21:10:31.326324Z",
          "iopub.status.busy": "2023-06-01T21:10:31.325733Z",
          "iopub.status.idle": "2023-06-01T21:10:31.376775Z",
          "shell.execute_reply": "2023-06-01T21:10:31.376278Z"
        },
        "papermill": {
          "duration": 0.063941,
          "end_time": "2023-06-01T21:10:31.378272",
          "exception": false,
          "start_time": "2023-06-01T21:10:31.314331",
          "status": "completed"
        },
        "tags": []
      },
      "outputs": [],
      "source": [
        "assert scoo(_scoo) is _scoo\n",
        "assert scoo(_sdict) == (0, 1, 3.0, {\"in0\": 0, \"out0\": 1})\n",
        "Si, Sj, Sx, port_map = scoo(_sdense)  # type: ignore\n",
        "np.testing.assert_array_equal(Si, jnp.array([0, 0, 0, 1, 1, 1, 2, 2, 2]))\n",
        "np.testing.assert_array_equal(Sj, jnp.array([0, 1, 2, 0, 1, 2, 0, 1, 2]))\n",
        "np.testing.assert_array_almost_equal(Sx, jnp.array([0.0, 2.0, 1.0, 6.0, 8.0, 7.0, 3.0, 5.0, 4.0]))\n",
        "assert port_map == {\"in0\": 0, \"in1\": 1, \"out0\": 2}"
      ]
    },
    {
      "cell_type": "markdown",
      "id": "5e58325b",
      "metadata": {
        "papermill": {
          "duration": 0.010583,
          "end_time": "2023-06-01T21:10:31.399871",
          "exception": false,
          "start_time": "2023-06-01T21:10:31.389288",
          "status": "completed"
        },
        "tags": []
      },
      "source": [
        "Convert an `SDict`, `SCoo` or `SDense` into an `SDense` (or convert a model generating any of these types into a model generating an `SDense`):"
      ]
    },
    {
      "cell_type": "code",
      "execution_count": 52,
      "id": "1119b6923e55446c",
      "metadata": {
        "execution": {
          "iopub.execute_input": "2023-06-01T21:10:31.422399Z",
          "iopub.status.busy": "2023-06-01T21:10:31.422149Z",
          "iopub.status.idle": "2023-06-01T21:10:31.424999Z",
          "shell.execute_reply": "2023-06-01T21:10:31.424651Z"
        },
        "papermill": {
          "duration": 0.015704,
          "end_time": "2023-06-01T21:10:31.426156",
          "exception": false,
          "start_time": "2023-06-01T21:10:31.410452",
          "status": "completed"
        },
        "tags": [
          "remove-cell"
        ]
      },
      "outputs": [],
      "source": [
        "\n",
        "@overload\n",
        "def sdense(S: Callable) -> Callable:\n",
        "    ...\n",
        "\n",
        "\n",
        "@overload\n",
        "def sdense(S: SType) -> SDense:\n",
        "    ..."
      ]
    },
    {
      "cell_type": "markdown",
      "id": "84910b40bbf2f376",
      "metadata": {},
      "source": [
        ":::{eval-rst}\n",
        ".. autofunction:: sax.typing_.sdense\n",
        ":::\n"
      ]
    },
    {
      "cell_type": "code",
      "execution_count": 53,
      "id": "e572e08d26c7f7ff",
      "metadata": {
        "execution": {
          "iopub.execute_input": "2023-06-01T21:10:31.449036Z",
          "iopub.status.busy": "2023-06-01T21:10:31.448806Z",
          "iopub.status.idle": "2023-06-01T21:10:31.454405Z",
          "shell.execute_reply": "2023-06-01T21:10:31.454044Z"
        },
        "papermill": {
          "duration": 0.018288,
          "end_time": "2023-06-01T21:10:31.455513",
          "exception": false,
          "start_time": "2023-06-01T21:10:31.437225",
          "status": "completed"
        },
        "tags": [
          "hide-input"
        ]
      },
      "outputs": [],
      "source": [
        "\n",
        "def sdense(S: Union[Callable, SType]) -> Union[Callable, SDense]:\n",
        "    \"\"\"Convert an `SDict` or `SCoo` to `SDense`\"\"\"\n",
        "\n",
        "    if is_model(S):\n",
        "        model = cast(Model, S)\n",
        "\n",
        "        @functools.wraps(model)\n",
        "        def wrapper(**kwargs):\n",
        "            return sdense(model(**kwargs))\n",
        "\n",
        "        return wrapper\n",
        "\n",
        "    if is_sdict(S):\n",
        "        S = _sdict_to_sdense(cast(SDict, S))\n",
        "    elif is_scoo(S):\n",
        "        S = _scoo_to_sdense(*cast(SCoo, S))\n",
        "    elif is_sdense(S):\n",
        "        S = cast(SDense, S)\n",
        "    else:\n",
        "        raise ValueError(\"Could not convert arguments to sdense.\")\n",
        "\n",
        "    return S\n",
        "\n",
        "\n",
        "def _scoo_to_sdense(\n",
        "    Si: Array, Sj: Array, Sx: Array, ports_map: Dict[str, int]\n",
        ") -> SDense:\n",
        "    n_col = len(ports_map)\n",
        "    S = jnp.zeros((*Sx.shape[:-1], n_col, n_col), dtype=complex)\n",
        "    if JAX_AVAILABLE:\n",
        "        S = S.at[..., Si, Sj].add(Sx)\n",
        "    else:\n",
        "        S[..., Si, Sj] = Sx\n",
        "    return S, ports_map\n",
        "\n",
        "def _sdict_to_sdense(sdict: SDict) -> SDense:\n",
        "    Si, Sj, Sx, ports_map = _sdict_to_scoo(sdict)\n",
        "    return _scoo_to_sdense(Si, Sj, Sx, ports_map)"
      ]
    },
    {
      "cell_type": "code",
      "execution_count": 54,
      "id": "084b7ddb",
      "metadata": {
        "execution": {
          "iopub.execute_input": "2023-06-01T21:10:31.477419Z",
          "iopub.status.busy": "2023-06-01T21:10:31.477125Z",
          "iopub.status.idle": "2023-06-01T21:10:31.554913Z",
          "shell.execute_reply": "2023-06-01T21:10:31.554462Z"
        },
        "papermill": {
          "duration": 0.09072,
          "end_time": "2023-06-01T21:10:31.556599",
          "exception": false,
          "start_time": "2023-06-01T21:10:31.465879",
          "status": "completed"
        },
        "tags": []
      },
      "outputs": [],
      "source": [
        "assert sdense(_sdense) is _sdense\n",
        "Sd, port_map = sdense(_scoo)  # type: ignore\n",
        "Sd_ = jnp.array([[3.0 + 0.0j, 0.0 + 0.0j, 0.0 + 0.0j],\n",
        "                 [0.0 + 0.0j, 4.0 + 0.0j, 0.0 + 0.0j],\n",
        "                 [1.0 + 0.0j, 0.0 + 0.0j, 0.0 + 0.0j]])\n",
        "\n",
        "np.testing.assert_array_almost_equal(Sd, Sd_)\n",
        "assert port_map == {\"in0\": 0, \"in1\": 2, \"out0\": 1}"
      ]
    },
    {
      "cell_type": "markdown",
      "id": "5722b0c77c033185",
      "metadata": {},
      "source": [
        ":::{eval-rst}\n",
        ".. autofunction:: sax.typing_.modelfactory\n",
        ":::\n"
      ]
    },
    {
      "cell_type": "code",
      "execution_count": 55,
      "id": "f264719ef2638b15",
      "metadata": {
        "execution": {
          "iopub.execute_input": "2023-06-01T21:10:31.579188Z",
          "iopub.status.busy": "2023-06-01T21:10:31.578880Z",
          "iopub.status.idle": "2023-06-01T21:10:31.582151Z",
          "shell.execute_reply": "2023-06-01T21:10:31.581754Z"
        },
        "papermill": {
          "duration": 0.016108,
          "end_time": "2023-06-01T21:10:31.583691",
          "exception": false,
          "start_time": "2023-06-01T21:10:31.567583",
          "status": "completed"
        },
        "tags": [
          "hide-input"
        ]
      },
      "outputs": [],
      "source": [
        "\n",
        "def modelfactory(func):\n",
        "    \"\"\"Decorator that marks a function as `ModelFactory`\"\"\"\n",
        "    sig = inspect.signature(func)\n",
        "    if _is_callable_annotation(sig.return_annotation):  # already model factory\n",
        "        return func\n",
        "    func.__signature__ = sig.replace(return_annotation=Model)\n",
        "    return func"
      ]
    }
  ],
  "metadata": {
    "kernelspec": {
      "display_name": "sax",
      "language": "python",
      "name": "sax"
    },
    "language_info": {
      "codemirror_mode": {
        "name": "ipython",
        "version": 3
      },
      "file_extension": ".py",
      "mimetype": "text/x-python",
      "name": "python",
      "nbconvert_exporter": "python",
      "pygments_lexer": "ipython3",
      "version": "3.11.3"
    },
    "papermill": {
      "default_parameters": {},
      "duration": 5.253989,
      "end_time": "2023-06-01T21:10:32.010236",
      "environment_variables": {},
      "exception": null,
      "input_path": "./nbs/00_typing.ipynb",
      "output_path": "./nbs/00_typing.ipynb",
      "parameters": {},
      "start_time": "2023-06-01T21:10:26.756247",
      "version": "2.3.4"
    }
  },
  "nbformat": 4,
  "nbformat_minor": 5
}