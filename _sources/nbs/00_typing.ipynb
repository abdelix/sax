{
  "cells": [
    {
      "cell_type": "code",
      "execution_count": 1,
      "id": "abe7cbfbb2db9f12",
      "metadata": {
        "execution": {
          "iopub.execute_input": "2023-06-01T21:50:09.046817Z",
          "iopub.status.busy": "2023-06-01T21:50:09.046581Z",
          "iopub.status.idle": "2023-06-01T21:50:09.049727Z",
          "shell.execute_reply": "2023-06-01T21:50:09.049229Z"
        },
        "papermill": {
          "duration": 0.016453,
          "end_time": "2023-06-01T21:50:09.051868",
          "exception": false,
          "start_time": "2023-06-01T21:50:09.035415",
          "status": "completed"
        },
        "tags": [
          "remove-cell"
        ]
      },
      "outputs": [],
      "source": []
    },
    {
      "cell_type": "markdown",
      "id": "13a3464b",
      "metadata": {
        "papermill": {
          "duration": 0.010021,
          "end_time": "2023-06-01T21:50:09.071409",
          "exception": false,
          "start_time": "2023-06-01T21:50:09.061388",
          "status": "completed"
        },
        "tags": []
      },
      "source": [
        "# Typing\n",
        "\n",
        "> SAX types"
      ]
    },
    {
      "cell_type": "code",
      "execution_count": 2,
      "id": "3c25e5d16bcabc73",
      "metadata": {
        "execution": {
          "iopub.execute_input": "2023-06-01T21:50:09.091093Z",
          "iopub.status.busy": "2023-06-01T21:50:09.090854Z",
          "iopub.status.idle": "2023-06-01T21:50:09.521368Z",
          "shell.execute_reply": "2023-06-01T21:50:09.520970Z"
        },
        "papermill": {
          "duration": 0.44202,
          "end_time": "2023-06-01T21:50:09.522727",
          "exception": false,
          "start_time": "2023-06-01T21:50:09.080707",
          "status": "completed"
        },
        "tags": [
          "remove-cell"
        ]
      },
      "outputs": [],
      "source": [
        "import matplotlib.pyplot as plt\n",
        "from fastcore.test import test_eq\n",
        "from pytest import approx, raises\n",
        "\n",
        "import os, sys; sys.stderr = open(os.devnull, \"w\")"
      ]
    },
    {
      "cell_type": "code",
      "execution_count": 3,
      "id": "8d1a5d357b93ddd8",
      "metadata": {
        "execution": {
          "iopub.execute_input": "2023-06-01T21:50:09.542827Z",
          "iopub.status.busy": "2023-06-01T21:50:09.542377Z",
          "iopub.status.idle": "2023-06-01T21:50:09.894890Z",
          "shell.execute_reply": "2023-06-01T21:50:09.894495Z"
        },
        "papermill": {
          "duration": 0.36432,
          "end_time": "2023-06-01T21:50:09.896521",
          "exception": false,
          "start_time": "2023-06-01T21:50:09.532201",
          "status": "completed"
        },
        "tags": [
          "hide-input"
        ]
      },
      "outputs": [],
      "source": [
        "from __future__ import annotations\n",
        "import functools\n",
        "import inspect\n",
        "from collections.abc import Callable as CallableABC\n",
        "from typing import Any, Callable, Dict, Tuple, Union, cast, overload\n",
        "try:\n",
        "    from typing import TypedDict\n",
        "except ImportError: # python<3.8\n",
        "    from typing_extensions import TypedDict\n",
        "\n",
        "import numpy as np\n",
        "from natsort import natsorted\n",
        "\n",
        "try:\n",
        "    import jax.numpy as jnp\n",
        "    JAX_AVAILABLE = True\n",
        "except ImportError:\n",
        "    import numpy as jnp\n",
        "    JAX_AVAILABLE = False"
      ]
    },
    {
      "cell_type": "markdown",
      "id": "41e26ab2",
      "metadata": {
        "papermill": {
          "duration": 0.009128,
          "end_time": "2023-06-01T21:50:09.915422",
          "exception": false,
          "start_time": "2023-06-01T21:50:09.906294",
          "status": "completed"
        },
        "tags": []
      },
      "source": [
        "## Core Types"
      ]
    },
    {
      "cell_type": "markdown",
      "id": "ca29df5c",
      "metadata": {
        "papermill": {
          "duration": 0.008986,
          "end_time": "2023-06-01T21:50:09.933429",
          "exception": false,
          "start_time": "2023-06-01T21:50:09.924443",
          "status": "completed"
        },
        "tags": []
      },
      "source": [
        "### Array"
      ]
    },
    {
      "cell_type": "markdown",
      "id": "82c3c344",
      "metadata": {
        "papermill": {
          "duration": 0.008917,
          "end_time": "2023-06-01T21:50:09.951363",
          "exception": false,
          "start_time": "2023-06-01T21:50:09.942446",
          "status": "completed"
        },
        "tags": []
      },
      "source": [
        "an `Array` is either a jax array or a numpy array:"
      ]
    },
    {
      "cell_type": "code",
      "execution_count": 4,
      "id": "2bb1423e8d65666c",
      "metadata": {
        "execution": {
          "iopub.execute_input": "2023-06-01T21:50:09.984691Z",
          "iopub.status.busy": "2023-06-01T21:50:09.984381Z",
          "iopub.status.idle": "2023-06-01T21:50:09.987042Z",
          "shell.execute_reply": "2023-06-01T21:50:09.986699Z"
        },
        "papermill": {
          "duration": 0.023055,
          "end_time": "2023-06-01T21:50:09.991492",
          "exception": false,
          "start_time": "2023-06-01T21:50:09.968437",
          "status": "completed"
        },
        "tags": []
      },
      "outputs": [],
      "source": [
        "Array = Union[jnp.ndarray, np.ndarray]"
      ]
    },
    {
      "cell_type": "markdown",
      "id": "6b86fa37",
      "metadata": {
        "papermill": {
          "duration": 0.009031,
          "end_time": "2023-06-01T21:50:10.009686",
          "exception": false,
          "start_time": "2023-06-01T21:50:10.000655",
          "status": "completed"
        },
        "tags": []
      },
      "source": [
        "### Int"
      ]
    },
    {
      "cell_type": "markdown",
      "id": "9fa467c9",
      "metadata": {
        "papermill": {
          "duration": 0.009038,
          "end_time": "2023-06-01T21:50:10.027907",
          "exception": false,
          "start_time": "2023-06-01T21:50:10.018869",
          "status": "completed"
        },
        "tags": []
      },
      "source": [
        "An `Int` is either a built-in `int` or an `Array` [of dtype `int`]"
      ]
    },
    {
      "cell_type": "code",
      "execution_count": 5,
      "id": "a70f99bcd7f1d762",
      "metadata": {
        "execution": {
          "iopub.execute_input": "2023-06-01T21:50:10.047121Z",
          "iopub.status.busy": "2023-06-01T21:50:10.046888Z",
          "iopub.status.idle": "2023-06-01T21:50:10.049396Z",
          "shell.execute_reply": "2023-06-01T21:50:10.049008Z"
        },
        "papermill": {
          "duration": 0.014253,
          "end_time": "2023-06-01T21:50:10.051224",
          "exception": false,
          "start_time": "2023-06-01T21:50:10.036971",
          "status": "completed"
        },
        "tags": []
      },
      "outputs": [],
      "source": [
        "Int = Union[int, Array]"
      ]
    },
    {
      "cell_type": "markdown",
      "id": "c486cd2c",
      "metadata": {
        "papermill": {
          "duration": 0.008985,
          "end_time": "2023-06-01T21:50:10.069303",
          "exception": false,
          "start_time": "2023-06-01T21:50:10.060318",
          "status": "completed"
        },
        "tags": []
      },
      "source": [
        "### Float"
      ]
    },
    {
      "cell_type": "markdown",
      "id": "3b59bba6",
      "metadata": {
        "papermill": {
          "duration": 0.008993,
          "end_time": "2023-06-01T21:50:10.087447",
          "exception": false,
          "start_time": "2023-06-01T21:50:10.078454",
          "status": "completed"
        },
        "tags": []
      },
      "source": [
        "A `Float` is eiter a built-in `float` or an `Array` [of dtype `float`]"
      ]
    },
    {
      "cell_type": "code",
      "execution_count": 6,
      "id": "5d4468f5332997ad",
      "metadata": {
        "execution": {
          "iopub.execute_input": "2023-06-01T21:50:10.106601Z",
          "iopub.status.busy": "2023-06-01T21:50:10.106390Z",
          "iopub.status.idle": "2023-06-01T21:50:10.108861Z",
          "shell.execute_reply": "2023-06-01T21:50:10.108475Z"
        },
        "papermill": {
          "duration": 0.014087,
          "end_time": "2023-06-01T21:50:10.110606",
          "exception": false,
          "start_time": "2023-06-01T21:50:10.096519",
          "status": "completed"
        },
        "tags": []
      },
      "outputs": [],
      "source": [
        "Float = Union[float, Array]"
      ]
    },
    {
      "cell_type": "markdown",
      "id": "bdfd6200",
      "metadata": {
        "papermill": {
          "duration": 0.009033,
          "end_time": "2023-06-01T21:50:10.128870",
          "exception": false,
          "start_time": "2023-06-01T21:50:10.119837",
          "status": "completed"
        },
        "tags": []
      },
      "source": [
        "### ComplexFloat"
      ]
    },
    {
      "cell_type": "markdown",
      "id": "b1a7d255",
      "metadata": {
        "papermill": {
          "duration": 0.009031,
          "end_time": "2023-06-01T21:50:10.146988",
          "exception": false,
          "start_time": "2023-06-01T21:50:10.137957",
          "status": "completed"
        },
        "tags": []
      },
      "source": [
        "A `ComplexFloat` is either a build-in `complex` or an Array [of dtype `complex`]:"
      ]
    },
    {
      "cell_type": "code",
      "execution_count": 7,
      "id": "dbc716ea45d1fdb0",
      "metadata": {
        "execution": {
          "iopub.execute_input": "2023-06-01T21:50:10.166245Z",
          "iopub.status.busy": "2023-06-01T21:50:10.166018Z",
          "iopub.status.idle": "2023-06-01T21:50:10.168543Z",
          "shell.execute_reply": "2023-06-01T21:50:10.168146Z"
        },
        "papermill": {
          "duration": 0.014257,
          "end_time": "2023-06-01T21:50:10.170343",
          "exception": false,
          "start_time": "2023-06-01T21:50:10.156086",
          "status": "completed"
        },
        "tags": []
      },
      "outputs": [],
      "source": [
        "ComplexFloat = Union[complex, Float]"
      ]
    },
    {
      "cell_type": "markdown",
      "id": "1f1aa099",
      "metadata": {
        "papermill": {
          "duration": 0.009327,
          "end_time": "2023-06-01T21:50:10.188789",
          "exception": false,
          "start_time": "2023-06-01T21:50:10.179462",
          "status": "completed"
        },
        "tags": []
      },
      "source": [
        "### Settings"
      ]
    },
    {
      "cell_type": "markdown",
      "id": "69839acd",
      "metadata": {
        "papermill": {
          "duration": 0.009402,
          "end_time": "2023-06-01T21:50:10.207399",
          "exception": false,
          "start_time": "2023-06-01T21:50:10.197997",
          "status": "completed"
        },
        "tags": []
      },
      "source": [
        "A `Settings` dictionary is a nested mapping between setting names [`str`] to either `ComplexFloat` values OR to another lower level `Settings` dictionary."
      ]
    },
    {
      "cell_type": "code",
      "execution_count": 8,
      "id": "be1b1f88ebc860f1",
      "metadata": {
        "execution": {
          "iopub.execute_input": "2023-06-01T21:50:10.226841Z",
          "iopub.status.busy": "2023-06-01T21:50:10.226612Z",
          "iopub.status.idle": "2023-06-01T21:50:10.229352Z",
          "shell.execute_reply": "2023-06-01T21:50:10.228964Z"
        },
        "papermill": {
          "duration": 0.014556,
          "end_time": "2023-06-01T21:50:10.231144",
          "exception": false,
          "start_time": "2023-06-01T21:50:10.216588",
          "status": "completed"
        },
        "tags": []
      },
      "outputs": [],
      "source": [
        "Settings = Union[Dict[str, ComplexFloat], Dict[str, \"Settings\"]]"
      ]
    },
    {
      "cell_type": "markdown",
      "id": "cf202d06",
      "metadata": {
        "papermill": {
          "duration": 0.009176,
          "end_time": "2023-06-01T21:50:10.249690",
          "exception": false,
          "start_time": "2023-06-01T21:50:10.240514",
          "status": "completed"
        },
        "tags": []
      },
      "source": [
        "Settings dictionaries are used to parametrize a SAX `Model` or a `circuit`. The settings dictionary should have the same hierarchy levels as the circuit:\n",
        " \n",
        " > Example:"
      ]
    },
    {
      "cell_type": "code",
      "execution_count": 9,
      "id": "2b26c4ab",
      "metadata": {
        "execution": {
          "iopub.execute_input": "2023-06-01T21:50:10.269118Z",
          "iopub.status.busy": "2023-06-01T21:50:10.268894Z",
          "iopub.status.idle": "2023-06-01T21:50:10.271676Z",
          "shell.execute_reply": "2023-06-01T21:50:10.271287Z"
        },
        "papermill": {
          "duration": 0.014576,
          "end_time": "2023-06-01T21:50:10.273455",
          "exception": false,
          "start_time": "2023-06-01T21:50:10.258879",
          "status": "completed"
        },
        "tags": []
      },
      "outputs": [],
      "source": [
        "mzi_settings = {\n",
        "    \"wl\": 1.5,  # global settings\n",
        "    \"lft\": {\"coupling\": 0.5},  # settings for the left coupler\n",
        "    \"top\": {\"neff\": 3.4},  # settings for the top waveguide\n",
        "    \"rgt\": {\"coupling\": 0.3},  # settings for the right coupler\n",
        "}"
      ]
    },
    {
      "cell_type": "markdown",
      "id": "45043912",
      "metadata": {
        "papermill": {
          "duration": 0.009144,
          "end_time": "2023-06-01T21:50:10.291870",
          "exception": false,
          "start_time": "2023-06-01T21:50:10.282726",
          "status": "completed"
        },
        "tags": []
      },
      "source": [
        "### SDict"
      ]
    },
    {
      "cell_type": "markdown",
      "id": "c5a7facf",
      "metadata": {
        "papermill": {
          "duration": 0.009186,
          "end_time": "2023-06-01T21:50:10.310250",
          "exception": false,
          "start_time": "2023-06-01T21:50:10.301064",
          "status": "completed"
        },
        "tags": []
      },
      "source": [
        "An `SDict` is a sparse dictionary based representation of an S-matrix, mapping port name tuples such as `('in0', 'out0')` to `ComplexFloat`."
      ]
    },
    {
      "cell_type": "code",
      "execution_count": 10,
      "id": "58ee45a6176bd917",
      "metadata": {
        "execution": {
          "iopub.execute_input": "2023-06-01T21:50:10.329708Z",
          "iopub.status.busy": "2023-06-01T21:50:10.329468Z",
          "iopub.status.idle": "2023-06-01T21:50:10.332032Z",
          "shell.execute_reply": "2023-06-01T21:50:10.331643Z"
        },
        "papermill": {
          "duration": 0.014296,
          "end_time": "2023-06-01T21:50:10.333808",
          "exception": false,
          "start_time": "2023-06-01T21:50:10.319512",
          "status": "completed"
        },
        "tags": []
      },
      "outputs": [],
      "source": [
        "SDict = Dict[Tuple[str, str], ComplexFloat]"
      ]
    },
    {
      "cell_type": "markdown",
      "id": "07dc470a",
      "metadata": {
        "papermill": {
          "duration": 0.009175,
          "end_time": "2023-06-01T21:50:10.352391",
          "exception": false,
          "start_time": "2023-06-01T21:50:10.343216",
          "status": "completed"
        },
        "tags": []
      },
      "source": [
        "> Example:"
      ]
    },
    {
      "cell_type": "code",
      "execution_count": 11,
      "id": "ad65a70c",
      "metadata": {
        "execution": {
          "iopub.execute_input": "2023-06-01T21:50:10.371862Z",
          "iopub.status.busy": "2023-06-01T21:50:10.371646Z",
          "iopub.status.idle": "2023-06-01T21:50:10.374663Z",
          "shell.execute_reply": "2023-06-01T21:50:10.374275Z"
        },
        "papermill": {
          "duration": 0.015652,
          "end_time": "2023-06-01T21:50:10.377278",
          "exception": false,
          "start_time": "2023-06-01T21:50:10.361626",
          "status": "completed"
        },
        "tags": []
      },
      "outputs": [
        {
          "name": "stdout",
          "output_type": "stream",
          "text": [
            "{('in0', 'out0'): 3.0}\n"
          ]
        }
      ],
      "source": [
        "_sdict: SDict = {\n",
        "    (\"in0\", \"out0\"): 3.0,\n",
        "}\n",
        "print(_sdict)"
      ]
    },
    {
      "cell_type": "markdown",
      "id": "0e2c7430",
      "metadata": {
        "papermill": {
          "duration": 0.009317,
          "end_time": "2023-06-01T21:50:10.396027",
          "exception": false,
          "start_time": "2023-06-01T21:50:10.386710",
          "status": "completed"
        },
        "tags": []
      },
      "source": [
        "### SCoo"
      ]
    },
    {
      "cell_type": "markdown",
      "id": "ef614e1d",
      "metadata": {
        "papermill": {
          "duration": 0.009353,
          "end_time": "2023-06-01T21:50:10.414751",
          "exception": false,
          "start_time": "2023-06-01T21:50:10.405398",
          "status": "completed"
        },
        "tags": []
      },
      "source": [
        "An `SCoo` is a sparse matrix based representation of an S-matrix consisting of three arrays and a port map. The three arrays represent the input port indices [`int`], output port indices [`int`] and the S-matrix values [`ComplexFloat`] of the sparse matrix. The port map maps a port name [`str`] to a port index [`int`]. Only these four arrays **together** and in this specific **order** are considered a valid `SCoo` representation!"
      ]
    },
    {
      "cell_type": "code",
      "execution_count": 12,
      "id": "75a08d7e49753941",
      "metadata": {
        "execution": {
          "iopub.execute_input": "2023-06-01T21:50:10.434678Z",
          "iopub.status.busy": "2023-06-01T21:50:10.434450Z",
          "iopub.status.idle": "2023-06-01T21:50:10.437087Z",
          "shell.execute_reply": "2023-06-01T21:50:10.436699Z"
        },
        "papermill": {
          "duration": 0.014717,
          "end_time": "2023-06-01T21:50:10.438932",
          "exception": false,
          "start_time": "2023-06-01T21:50:10.424215",
          "status": "completed"
        },
        "tags": []
      },
      "outputs": [],
      "source": [
        "SCoo = Tuple[Array, Array, ComplexFloat, Dict[str, int]]"
      ]
    },
    {
      "cell_type": "markdown",
      "id": "ff9719c8",
      "metadata": {
        "papermill": {
          "duration": 0.00943,
          "end_time": "2023-06-01T21:50:10.457929",
          "exception": false,
          "start_time": "2023-06-01T21:50:10.448499",
          "status": "completed"
        },
        "tags": []
      },
      "source": [
        "> Example:"
      ]
    },
    {
      "cell_type": "code",
      "execution_count": 13,
      "id": "972f8060",
      "metadata": {
        "execution": {
          "iopub.execute_input": "2023-06-01T21:50:10.477843Z",
          "iopub.status.busy": "2023-06-01T21:50:10.477589Z",
          "iopub.status.idle": "2023-06-01T21:50:10.508957Z",
          "shell.execute_reply": "2023-06-01T21:50:10.508588Z"
        },
        "papermill": {
          "duration": 0.043001,
          "end_time": "2023-06-01T21:50:10.510340",
          "exception": false,
          "start_time": "2023-06-01T21:50:10.467339",
          "status": "completed"
        },
        "tags": []
      },
      "outputs": [
        {
          "name": "stdout",
          "output_type": "stream",
          "text": [
            "[0 1 2]\n",
            "[0 1 0]\n",
            "[3. 4. 1.]\n",
            "{'in0': 0, 'in1': 2, 'out0': 1}\n"
          ]
        }
      ],
      "source": [
        "Si = jnp.arange(3, dtype=int)\n",
        "Sj = jnp.array([0, 1, 0], dtype=int)\n",
        "Sx = jnp.array([3.0, 4.0, 1.0])\n",
        "port_map = {\"in0\": 0, \"in1\": 2, \"out0\": 1}\n",
        "_scoo: SCoo = (Si, Sj, Sx, port_map)\n",
        "print(Si)\n",
        "print(Sj)\n",
        "print(Sx)\n",
        "print(port_map)"
      ]
    },
    {
      "cell_type": "markdown",
      "id": "2cba9246",
      "metadata": {
        "papermill": {
          "duration": 0.009778,
          "end_time": "2023-06-01T21:50:10.529862",
          "exception": false,
          "start_time": "2023-06-01T21:50:10.520084",
          "status": "completed"
        },
        "tags": []
      },
      "source": [
        "### SDense"
      ]
    },
    {
      "cell_type": "markdown",
      "id": "fd28795b",
      "metadata": {
        "papermill": {
          "duration": 0.009418,
          "end_time": "2023-06-01T21:50:10.548799",
          "exception": false,
          "start_time": "2023-06-01T21:50:10.539381",
          "status": "completed"
        },
        "tags": []
      },
      "source": [
        "an `SDense` is a dense matrix representation of an S-matrix. It's represented by an NxN `ComplexFloat` array and a port map (mapping port names onto port indices)."
      ]
    },
    {
      "cell_type": "code",
      "execution_count": 14,
      "id": "d089b38724b92503",
      "metadata": {
        "execution": {
          "iopub.execute_input": "2023-06-01T21:50:10.568689Z",
          "iopub.status.busy": "2023-06-01T21:50:10.568473Z",
          "iopub.status.idle": "2023-06-01T21:50:10.571025Z",
          "shell.execute_reply": "2023-06-01T21:50:10.570652Z"
        },
        "papermill": {
          "duration": 0.014469,
          "end_time": "2023-06-01T21:50:10.572758",
          "exception": false,
          "start_time": "2023-06-01T21:50:10.558289",
          "status": "completed"
        },
        "tags": []
      },
      "outputs": [],
      "source": [
        "SDense = Tuple[Array, Dict[str, int]]"
      ]
    },
    {
      "cell_type": "markdown",
      "id": "2c4789f7",
      "metadata": {
        "papermill": {
          "duration": 0.009514,
          "end_time": "2023-06-01T21:50:10.591995",
          "exception": false,
          "start_time": "2023-06-01T21:50:10.582481",
          "status": "completed"
        },
        "tags": []
      },
      "source": [
        "> Example:"
      ]
    },
    {
      "cell_type": "code",
      "execution_count": 15,
      "id": "02def7ed",
      "metadata": {
        "execution": {
          "iopub.execute_input": "2023-06-01T21:50:10.612030Z",
          "iopub.status.busy": "2023-06-01T21:50:10.611812Z",
          "iopub.status.idle": "2023-06-01T21:50:10.641802Z",
          "shell.execute_reply": "2023-06-01T21:50:10.641410Z"
        },
        "papermill": {
          "duration": 0.041624,
          "end_time": "2023-06-01T21:50:10.643105",
          "exception": false,
          "start_time": "2023-06-01T21:50:10.601481",
          "status": "completed"
        },
        "tags": []
      },
      "outputs": [
        {
          "name": "stdout",
          "output_type": "stream",
          "text": [
            "[[0. 1. 2.]\n",
            " [3. 4. 5.]\n",
            " [6. 7. 8.]]\n",
            "{'in0': 0, 'in1': 2, 'out0': 1}\n"
          ]
        }
      ],
      "source": [
        "Sd = jnp.arange(9, dtype=float).reshape(3, 3)\n",
        "port_map = {\"in0\": 0, \"in1\": 2, \"out0\": 1}\n",
        "_sdense = Sd, port_map\n",
        "print(Sd)\n",
        "print(port_map)"
      ]
    },
    {
      "cell_type": "markdown",
      "id": "b0d2e36f",
      "metadata": {
        "papermill": {
          "duration": 0.009662,
          "end_time": "2023-06-01T21:50:10.662810",
          "exception": false,
          "start_time": "2023-06-01T21:50:10.653148",
          "status": "completed"
        },
        "tags": []
      },
      "source": [
        "### SType"
      ]
    },
    {
      "cell_type": "markdown",
      "id": "b441f21d",
      "metadata": {
        "papermill": {
          "duration": 0.009829,
          "end_time": "2023-06-01T21:50:10.682248",
          "exception": false,
          "start_time": "2023-06-01T21:50:10.672419",
          "status": "completed"
        },
        "tags": []
      },
      "source": [
        "an `SType` is either an `SDict` **OR** an `SCoo` **OR** an `SDense`:"
      ]
    },
    {
      "cell_type": "code",
      "execution_count": 16,
      "id": "a79c8c8e3f96a5ff",
      "metadata": {
        "execution": {
          "iopub.execute_input": "2023-06-01T21:50:10.702535Z",
          "iopub.status.busy": "2023-06-01T21:50:10.702315Z",
          "iopub.status.idle": "2023-06-01T21:50:10.704860Z",
          "shell.execute_reply": "2023-06-01T21:50:10.704464Z"
        },
        "papermill": {
          "duration": 0.014824,
          "end_time": "2023-06-01T21:50:10.706728",
          "exception": false,
          "start_time": "2023-06-01T21:50:10.691904",
          "status": "completed"
        },
        "tags": []
      },
      "outputs": [],
      "source": [
        "SType = Union[SDict, SCoo, SDense]"
      ]
    },
    {
      "cell_type": "markdown",
      "id": "e0561b07",
      "metadata": {
        "papermill": {
          "duration": 0.009574,
          "end_time": "2023-06-01T21:50:10.725984",
          "exception": false,
          "start_time": "2023-06-01T21:50:10.716410",
          "status": "completed"
        },
        "tags": []
      },
      "source": [
        "> Example:"
      ]
    },
    {
      "cell_type": "code",
      "execution_count": 17,
      "id": "5b52a5f2",
      "metadata": {
        "execution": {
          "iopub.execute_input": "2023-06-01T21:50:10.746077Z",
          "iopub.status.busy": "2023-06-01T21:50:10.745873Z",
          "iopub.status.idle": "2023-06-01T21:50:10.748324Z",
          "shell.execute_reply": "2023-06-01T21:50:10.747954Z"
        },
        "papermill": {
          "duration": 0.014513,
          "end_time": "2023-06-01T21:50:10.750081",
          "exception": false,
          "start_time": "2023-06-01T21:50:10.735568",
          "status": "completed"
        },
        "tags": []
      },
      "outputs": [],
      "source": [
        "obj: SType = _sdict\n",
        "obj: SType = _scoo\n",
        "obj: SType = _sdense"
      ]
    },
    {
      "cell_type": "markdown",
      "id": "afabe91b",
      "metadata": {
        "papermill": {
          "duration": 0.009573,
          "end_time": "2023-06-01T21:50:10.769344",
          "exception": false,
          "start_time": "2023-06-01T21:50:10.759771",
          "status": "completed"
        },
        "tags": []
      },
      "source": [
        "### Model"
      ]
    },
    {
      "cell_type": "markdown",
      "id": "13808fb1",
      "metadata": {
        "papermill": {
          "duration": 0.009713,
          "end_time": "2023-06-01T21:50:10.788694",
          "exception": false,
          "start_time": "2023-06-01T21:50:10.778981",
          "status": "completed"
        },
        "tags": []
      },
      "source": [
        "A `Model` is any keyword-only function that returns an `SType`:"
      ]
    },
    {
      "cell_type": "code",
      "execution_count": 18,
      "id": "f15b84e009dc617f",
      "metadata": {
        "execution": {
          "iopub.execute_input": "2023-06-01T21:50:10.809090Z",
          "iopub.status.busy": "2023-06-01T21:50:10.808871Z",
          "iopub.status.idle": "2023-06-01T21:50:10.811379Z",
          "shell.execute_reply": "2023-06-01T21:50:10.810980Z"
        },
        "papermill": {
          "duration": 0.014751,
          "end_time": "2023-06-01T21:50:10.813164",
          "exception": false,
          "start_time": "2023-06-01T21:50:10.798413",
          "status": "completed"
        },
        "tags": []
      },
      "outputs": [],
      "source": [
        "Model = Callable[..., SType]"
      ]
    },
    {
      "cell_type": "markdown",
      "id": "fad534fb",
      "metadata": {
        "papermill": {
          "duration": 0.00963,
          "end_time": "2023-06-01T21:50:10.832631",
          "exception": false,
          "start_time": "2023-06-01T21:50:10.823001",
          "status": "completed"
        },
        "tags": []
      },
      "source": [
        "### ModelFactory"
      ]
    },
    {
      "cell_type": "markdown",
      "id": "85781647",
      "metadata": {
        "papermill": {
          "duration": 0.00959,
          "end_time": "2023-06-01T21:50:10.851957",
          "exception": false,
          "start_time": "2023-06-01T21:50:10.842367",
          "status": "completed"
        },
        "tags": []
      },
      "source": [
        "A `ModelFactory` is any keyword-only function that returns a `Model`:"
      ]
    },
    {
      "cell_type": "code",
      "execution_count": 19,
      "id": "16a98d04136af38d",
      "metadata": {
        "execution": {
          "iopub.execute_input": "2023-06-01T21:50:10.872376Z",
          "iopub.status.busy": "2023-06-01T21:50:10.872151Z",
          "iopub.status.idle": "2023-06-01T21:50:10.874689Z",
          "shell.execute_reply": "2023-06-01T21:50:10.874299Z"
        },
        "papermill": {
          "duration": 0.015188,
          "end_time": "2023-06-01T21:50:10.876842",
          "exception": false,
          "start_time": "2023-06-01T21:50:10.861654",
          "status": "completed"
        },
        "tags": []
      },
      "outputs": [],
      "source": [
        "ModelFactory = Callable[..., Model]"
      ]
    },
    {
      "cell_type": "markdown",
      "id": "353d8506",
      "metadata": {
        "papermill": {
          "duration": 0.009684,
          "end_time": "2023-06-01T21:50:10.896313",
          "exception": false,
          "start_time": "2023-06-01T21:50:10.886629",
          "status": "completed"
        },
        "tags": []
      },
      "source": [
        "> Note: SAX sometimes needs to figure out the difference between a `ModelFactory` and a normal `Model` *before* running the function. To do this, SAX will check the return annotation of the function. Any function with a `-> Model` or `-> Callable` annotation will be considered a `ModelFactory`. Any function without this annotation will be considered a normal Model: **don't forget the return annotation of your Model Factory!** To ensure a correct annotation and to ensure forward compatibility, it's recommended to decorate your `ModelFactory` with the `modelfactory` decorator."
      ]
    },
    {
      "cell_type": "markdown",
      "id": "b32b5a31",
      "metadata": {
        "papermill": {
          "duration": 0.009684,
          "end_time": "2023-06-01T21:50:10.915780",
          "exception": false,
          "start_time": "2023-06-01T21:50:10.906096",
          "status": "completed"
        },
        "tags": []
      },
      "source": [
        "### Models"
      ]
    },
    {
      "cell_type": "markdown",
      "id": "a796dcb2",
      "metadata": {
        "papermill": {
          "duration": 0.009628,
          "end_time": "2023-06-01T21:50:10.935253",
          "exception": false,
          "start_time": "2023-06-01T21:50:10.925625",
          "status": "completed"
        },
        "tags": []
      },
      "source": [
        "`Models` is a mapping between model names [`str`] and a `Model`:"
      ]
    },
    {
      "cell_type": "code",
      "execution_count": 20,
      "id": "2618cd8b09464b3a",
      "metadata": {
        "execution": {
          "iopub.execute_input": "2023-06-01T21:50:10.955585Z",
          "iopub.status.busy": "2023-06-01T21:50:10.955353Z",
          "iopub.status.idle": "2023-06-01T21:50:10.957893Z",
          "shell.execute_reply": "2023-06-01T21:50:10.957482Z"
        },
        "papermill": {
          "duration": 0.014767,
          "end_time": "2023-06-01T21:50:10.959686",
          "exception": false,
          "start_time": "2023-06-01T21:50:10.944919",
          "status": "completed"
        },
        "tags": []
      },
      "outputs": [],
      "source": [
        "Models = Dict[str, Model]"
      ]
    },
    {
      "cell_type": "markdown",
      "id": "ed1af61c",
      "metadata": {
        "papermill": {
          "duration": 0.0099,
          "end_time": "2023-06-01T21:50:10.979486",
          "exception": false,
          "start_time": "2023-06-01T21:50:10.969586",
          "status": "completed"
        },
        "tags": []
      },
      "source": [
        "> Note: sometimes 'component' is used to refer to a a `Model` or `GeneralModel`. This is because other tools (such as for example GDSFactory) prefer that terminology."
      ]
    },
    {
      "cell_type": "markdown",
      "id": "5d276f63",
      "metadata": {
        "papermill": {
          "duration": 0.009689,
          "end_time": "2023-06-01T21:50:10.998964",
          "exception": false,
          "start_time": "2023-06-01T21:50:10.989275",
          "status": "completed"
        },
        "tags": []
      },
      "source": [
        "## Netlist Types\n",
        "\n",
        "Netlist types are moved [here](06_netlist.ipynb)."
      ]
    },
    {
      "cell_type": "markdown",
      "id": "dbcb4447",
      "metadata": {
        "papermill": {
          "duration": 0.009703,
          "end_time": "2023-06-01T21:50:11.018493",
          "exception": false,
          "start_time": "2023-06-01T21:50:11.008790",
          "status": "completed"
        },
        "tags": []
      },
      "source": [
        "## Validation and runtime type-checking:\n",
        "> Note: the type-checking functions below are **NOT** very tight and hence should be used within the right context!"
      ]
    },
    {
      "cell_type": "markdown",
      "id": "040afd4ec8dcf811",
      "metadata": {},
      "source": [
        ":::{eval-rst}\n",
        ".. autofunction:: sax.typing_.is_float\n",
        ":::\n"
      ]
    },
    {
      "cell_type": "code",
      "execution_count": 21,
      "id": "c37c818dbad256ed",
      "metadata": {
        "execution": {
          "iopub.execute_input": "2023-06-01T21:50:11.039156Z",
          "iopub.status.busy": "2023-06-01T21:50:11.038936Z",
          "iopub.status.idle": "2023-06-01T21:50:11.042754Z",
          "shell.execute_reply": "2023-06-01T21:50:11.042376Z"
        },
        "papermill": {
          "duration": 0.016154,
          "end_time": "2023-06-01T21:50:11.044526",
          "exception": false,
          "start_time": "2023-06-01T21:50:11.028372",
          "status": "completed"
        },
        "tags": [
          "hide-input"
        ]
      },
      "outputs": [],
      "source": [
        "def is_float(x: Any) -> bool:\n",
        "    \"\"\"Check if an object is a `Float`\"\"\"\n",
        "    if isinstance(x, float):\n",
        "        return True\n",
        "    if isinstance(x, np.ndarray):\n",
        "        return x.dtype in (np.float16, np.float32, np.float64, np.float128)\n",
        "    if isinstance(x, jnp.ndarray):\n",
        "        return x.dtype in (jnp.float16, jnp.float32, jnp.float64)\n",
        "    return False"
      ]
    },
    {
      "cell_type": "code",
      "execution_count": 22,
      "id": "28374448",
      "metadata": {
        "execution": {
          "iopub.execute_input": "2023-06-01T21:50:11.064871Z",
          "iopub.status.busy": "2023-06-01T21:50:11.064678Z",
          "iopub.status.idle": "2023-06-01T21:50:11.069287Z",
          "shell.execute_reply": "2023-06-01T21:50:11.068932Z"
        },
        "papermill": {
          "duration": 0.016744,
          "end_time": "2023-06-01T21:50:11.071042",
          "exception": false,
          "start_time": "2023-06-01T21:50:11.054298",
          "status": "completed"
        },
        "tags": []
      },
      "outputs": [],
      "source": [
        "assert is_float(3.0)\n",
        "assert not is_float(3)\n",
        "assert not is_float(3.0 + 2j)\n",
        "assert not is_float(jnp.array(3.0, dtype=complex))\n",
        "assert not is_float(jnp.array(3, dtype=int))"
      ]
    },
    {
      "cell_type": "markdown",
      "id": "5d0255d97b0168a8",
      "metadata": {},
      "source": [
        ":::{eval-rst}\n",
        ".. autofunction:: sax.typing_.is_complex\n",
        ":::\n"
      ]
    },
    {
      "cell_type": "code",
      "execution_count": 23,
      "id": "8ec9e13245ea6f37",
      "metadata": {
        "execution": {
          "iopub.execute_input": "2023-06-01T21:50:11.091574Z",
          "iopub.status.busy": "2023-06-01T21:50:11.091382Z",
          "iopub.status.idle": "2023-06-01T21:50:11.094485Z",
          "shell.execute_reply": "2023-06-01T21:50:11.094116Z"
        },
        "papermill": {
          "duration": 0.015331,
          "end_time": "2023-06-01T21:50:11.096188",
          "exception": false,
          "start_time": "2023-06-01T21:50:11.080857",
          "status": "completed"
        },
        "tags": [
          "hide-input"
        ]
      },
      "outputs": [],
      "source": [
        "def is_complex(x: Any) -> bool:\n",
        "    \"\"\"check if an object is a `ComplexFloat`\"\"\"\n",
        "    if isinstance(x, complex):\n",
        "        return True\n",
        "    if isinstance(x, np.ndarray):\n",
        "        return x.dtype in (np.complex64, np.complex128)\n",
        "    if isinstance(x, jnp.ndarray):\n",
        "        return x.dtype in (jnp.complex64, jnp.complex128)\n",
        "    return False"
      ]
    },
    {
      "cell_type": "code",
      "execution_count": 24,
      "id": "d81a703d",
      "metadata": {
        "execution": {
          "iopub.execute_input": "2023-06-01T21:50:11.116550Z",
          "iopub.status.busy": "2023-06-01T21:50:11.116363Z",
          "iopub.status.idle": "2023-06-01T21:50:11.119652Z",
          "shell.execute_reply": "2023-06-01T21:50:11.119297Z"
        },
        "papermill": {
          "duration": 0.015295,
          "end_time": "2023-06-01T21:50:11.121284",
          "exception": false,
          "start_time": "2023-06-01T21:50:11.105989",
          "status": "completed"
        },
        "tags": []
      },
      "outputs": [],
      "source": [
        "assert not is_complex(3.0)\n",
        "assert not is_complex(3)\n",
        "assert is_complex(3.0 + 2j)\n",
        "assert is_complex(jnp.array(3.0, dtype=complex))\n",
        "assert not is_complex(jnp.array(3, dtype=int))"
      ]
    },
    {
      "cell_type": "markdown",
      "id": "ce235ef846bd64b8",
      "metadata": {},
      "source": [
        ":::{eval-rst}\n",
        ".. autofunction:: sax.typing_.is_complex_float\n",
        ":::\n"
      ]
    },
    {
      "cell_type": "code",
      "execution_count": 25,
      "id": "946723e12613c728",
      "metadata": {
        "execution": {
          "iopub.execute_input": "2023-06-01T21:50:11.141806Z",
          "iopub.status.busy": "2023-06-01T21:50:11.141619Z",
          "iopub.status.idle": "2023-06-01T21:50:11.144093Z",
          "shell.execute_reply": "2023-06-01T21:50:11.143735Z"
        },
        "papermill": {
          "duration": 0.01464,
          "end_time": "2023-06-01T21:50:11.145774",
          "exception": false,
          "start_time": "2023-06-01T21:50:11.131134",
          "status": "completed"
        },
        "tags": [
          "hide-input"
        ]
      },
      "outputs": [],
      "source": [
        "def is_complex_float(x: Any) -> bool:\n",
        "    \"\"\"check if an object is either a `ComplexFloat` or a `Float`\"\"\"\n",
        "    return is_float(x) or is_complex(x)"
      ]
    },
    {
      "cell_type": "code",
      "execution_count": 26,
      "id": "c533ff0d",
      "metadata": {
        "execution": {
          "iopub.execute_input": "2023-06-01T21:50:11.166358Z",
          "iopub.status.busy": "2023-06-01T21:50:11.166176Z",
          "iopub.status.idle": "2023-06-01T21:50:11.169430Z",
          "shell.execute_reply": "2023-06-01T21:50:11.169090Z"
        },
        "papermill": {
          "duration": 0.015366,
          "end_time": "2023-06-01T21:50:11.171087",
          "exception": false,
          "start_time": "2023-06-01T21:50:11.155721",
          "status": "completed"
        },
        "tags": []
      },
      "outputs": [],
      "source": [
        "assert is_complex_float(3.0)\n",
        "assert not is_complex_float(3)\n",
        "assert is_complex_float(3.0 + 2j)\n",
        "assert is_complex_float(jnp.array(3.0, dtype=complex))\n",
        "assert not is_complex_float(jnp.array(3, dtype=int))"
      ]
    },
    {
      "cell_type": "markdown",
      "id": "d6a0046ac0f4f167",
      "metadata": {},
      "source": [
        ":::{eval-rst}\n",
        ".. autofunction:: sax.typing_.is_sdict\n",
        ":::\n"
      ]
    },
    {
      "cell_type": "code",
      "execution_count": 27,
      "id": "62ebdeb9460e4383",
      "metadata": {
        "execution": {
          "iopub.execute_input": "2023-06-01T21:50:11.191808Z",
          "iopub.status.busy": "2023-06-01T21:50:11.191627Z",
          "iopub.status.idle": "2023-06-01T21:50:11.194008Z",
          "shell.execute_reply": "2023-06-01T21:50:11.193651Z"
        },
        "papermill": {
          "duration": 0.014553,
          "end_time": "2023-06-01T21:50:11.195685",
          "exception": false,
          "start_time": "2023-06-01T21:50:11.181132",
          "status": "completed"
        },
        "tags": [
          "hide-input"
        ]
      },
      "outputs": [],
      "source": [
        "def is_sdict(x: Any) -> bool:\n",
        "    \"\"\"check if an object is an `SDict` (a SAX S-dictionary)\"\"\"\n",
        "    return isinstance(x, dict)"
      ]
    },
    {
      "cell_type": "code",
      "execution_count": 28,
      "id": "cb0365dc",
      "metadata": {
        "execution": {
          "iopub.execute_input": "2023-06-01T21:50:11.216567Z",
          "iopub.status.busy": "2023-06-01T21:50:11.216386Z",
          "iopub.status.idle": "2023-06-01T21:50:11.218860Z",
          "shell.execute_reply": "2023-06-01T21:50:11.218499Z"
        },
        "papermill": {
          "duration": 0.014873,
          "end_time": "2023-06-01T21:50:11.220462",
          "exception": false,
          "start_time": "2023-06-01T21:50:11.205589",
          "status": "completed"
        },
        "tags": []
      },
      "outputs": [],
      "source": [
        "assert not is_sdict(object())\n",
        "assert is_sdict(_sdict)\n",
        "assert not is_sdict(_scoo)\n",
        "assert not is_sdict(_sdense)"
      ]
    },
    {
      "cell_type": "markdown",
      "id": "49bd328bd80a5dfb",
      "metadata": {},
      "source": [
        ":::{eval-rst}\n",
        ".. autofunction:: sax.typing_.is_scoo\n",
        ":::\n"
      ]
    },
    {
      "cell_type": "code",
      "execution_count": 29,
      "id": "c39e24fa9d5ade0b",
      "metadata": {
        "execution": {
          "iopub.execute_input": "2023-06-01T21:50:11.241279Z",
          "iopub.status.busy": "2023-06-01T21:50:11.241080Z",
          "iopub.status.idle": "2023-06-01T21:50:11.243765Z",
          "shell.execute_reply": "2023-06-01T21:50:11.243392Z"
        },
        "papermill": {
          "duration": 0.015075,
          "end_time": "2023-06-01T21:50:11.245496",
          "exception": false,
          "start_time": "2023-06-01T21:50:11.230421",
          "status": "completed"
        },
        "tags": [
          "hide-input"
        ]
      },
      "outputs": [],
      "source": [
        "def is_scoo(x: Any) -> bool:\n",
        "    \"\"\"check if an object is an `SCoo` (a SAX sparse S-matrix representation in COO-format)\"\"\"\n",
        "    return isinstance(x, (tuple, list)) and len(x) == 4"
      ]
    },
    {
      "cell_type": "code",
      "execution_count": 30,
      "id": "9ea0239a",
      "metadata": {
        "execution": {
          "iopub.execute_input": "2023-06-01T21:50:11.266322Z",
          "iopub.status.busy": "2023-06-01T21:50:11.266145Z",
          "iopub.status.idle": "2023-06-01T21:50:11.268579Z",
          "shell.execute_reply": "2023-06-01T21:50:11.268215Z"
        },
        "papermill": {
          "duration": 0.014702,
          "end_time": "2023-06-01T21:50:11.270229",
          "exception": false,
          "start_time": "2023-06-01T21:50:11.255527",
          "status": "completed"
        },
        "tags": []
      },
      "outputs": [],
      "source": [
        "assert not is_scoo(object)\n",
        "assert not is_scoo(_sdict)\n",
        "assert is_scoo(_scoo)\n",
        "assert not is_scoo(_sdense)"
      ]
    },
    {
      "cell_type": "markdown",
      "id": "d7a587900f9ca7e6",
      "metadata": {},
      "source": [
        ":::{eval-rst}\n",
        ".. autofunction:: sax.typing_.is_sdense\n",
        ":::\n"
      ]
    },
    {
      "cell_type": "code",
      "execution_count": 31,
      "id": "6e905adc54774f49",
      "metadata": {
        "execution": {
          "iopub.execute_input": "2023-06-01T21:50:11.291191Z",
          "iopub.status.busy": "2023-06-01T21:50:11.291000Z",
          "iopub.status.idle": "2023-06-01T21:50:11.293572Z",
          "shell.execute_reply": "2023-06-01T21:50:11.293214Z"
        },
        "papermill": {
          "duration": 0.014909,
          "end_time": "2023-06-01T21:50:11.295274",
          "exception": false,
          "start_time": "2023-06-01T21:50:11.280365",
          "status": "completed"
        },
        "tags": [
          "hide-input"
        ]
      },
      "outputs": [],
      "source": [
        "def is_sdense(x: Any) -> bool:\n",
        "    \"\"\"check if an object is an `SDense` (a SAX dense S-matrix representation)\"\"\"\n",
        "    return isinstance(x, (tuple, list)) and len(x) == 2"
      ]
    },
    {
      "cell_type": "code",
      "execution_count": 32,
      "id": "2eddd63a",
      "metadata": {
        "execution": {
          "iopub.execute_input": "2023-06-01T21:50:11.316266Z",
          "iopub.status.busy": "2023-06-01T21:50:11.316064Z",
          "iopub.status.idle": "2023-06-01T21:50:11.318626Z",
          "shell.execute_reply": "2023-06-01T21:50:11.318261Z"
        },
        "papermill": {
          "duration": 0.015042,
          "end_time": "2023-06-01T21:50:11.320368",
          "exception": false,
          "start_time": "2023-06-01T21:50:11.305326",
          "status": "completed"
        },
        "tags": []
      },
      "outputs": [],
      "source": [
        "assert not is_sdense(object)\n",
        "assert not is_sdense(_sdict)\n",
        "assert not is_sdense(_scoo)\n",
        "assert is_sdense(_sdense)"
      ]
    },
    {
      "cell_type": "markdown",
      "id": "ae1ec639b48cab47",
      "metadata": {},
      "source": [
        ":::{eval-rst}\n",
        ".. autofunction:: sax.typing_.is_model\n",
        ":::\n"
      ]
    },
    {
      "cell_type": "code",
      "execution_count": 33,
      "id": "ee8112b477718561",
      "metadata": {
        "execution": {
          "iopub.execute_input": "2023-06-01T21:50:11.341529Z",
          "iopub.status.busy": "2023-06-01T21:50:11.341325Z",
          "iopub.status.idle": "2023-06-01T21:50:11.345524Z",
          "shell.execute_reply": "2023-06-01T21:50:11.345149Z"
        },
        "papermill": {
          "duration": 0.016762,
          "end_time": "2023-06-01T21:50:11.347288",
          "exception": false,
          "start_time": "2023-06-01T21:50:11.330526",
          "status": "completed"
        },
        "tags": [
          "hide-input"
        ]
      },
      "outputs": [],
      "source": [
        "def is_model(model: Any) -> bool:\n",
        "    \"\"\"check if a callable is a `Model` (a callable returning an `SType`)\"\"\"\n",
        "    if not callable(model):\n",
        "        return False\n",
        "    try:\n",
        "        sig = inspect.signature(model)\n",
        "    except ValueError:\n",
        "        return False\n",
        "    for param in sig.parameters.values():\n",
        "        if param.default is inspect.Parameter.empty:\n",
        "            return False  # a proper SAX model does not have any positional arguments.\n",
        "    if _is_callable_annotation(sig.return_annotation):  # model factory\n",
        "        return False\n",
        "    return True\n",
        "\n",
        "def _is_callable_annotation(annotation: Any) -> bool:\n",
        "    \"\"\"check if an annotation is `Callable`-like\"\"\"\n",
        "    if isinstance(annotation, str):\n",
        "        # happens when\n",
        "        # was imported at the top of the file...\n",
        "        return annotation.startswith(\"Callable\") or annotation.endswith(\"Model\")\n",
        "        # TODO: this is not a very robust check...\n",
        "    try:\n",
        "        return annotation.__origin__ == CallableABC\n",
        "    except AttributeError:\n",
        "        return False"
      ]
    },
    {
      "cell_type": "code",
      "execution_count": 34,
      "id": "c807a236a6f6ac0d",
      "metadata": {
        "execution": {
          "iopub.execute_input": "2023-06-01T21:50:11.368629Z",
          "iopub.status.busy": "2023-06-01T21:50:11.368409Z",
          "iopub.status.idle": "2023-06-01T21:50:11.370900Z",
          "shell.execute_reply": "2023-06-01T21:50:11.370531Z"
        },
        "papermill": {
          "duration": 0.015266,
          "end_time": "2023-06-01T21:50:11.372714",
          "exception": false,
          "start_time": "2023-06-01T21:50:11.357448",
          "status": "completed"
        },
        "tags": [
          "remove-cell"
        ]
      },
      "outputs": [],
      "source": [
        "assert _is_callable_annotation(Callable)\n",
        "assert not _is_callable_annotation(SDict)"
      ]
    },
    {
      "cell_type": "code",
      "execution_count": 35,
      "id": "89bdb647",
      "metadata": {
        "execution": {
          "iopub.execute_input": "2023-06-01T21:50:11.394175Z",
          "iopub.status.busy": "2023-06-01T21:50:11.393963Z",
          "iopub.status.idle": "2023-06-01T21:50:11.410887Z",
          "shell.execute_reply": "2023-06-01T21:50:11.410518Z"
        },
        "papermill": {
          "duration": 0.029273,
          "end_time": "2023-06-01T21:50:11.412224",
          "exception": false,
          "start_time": "2023-06-01T21:50:11.382951",
          "status": "completed"
        },
        "tags": []
      },
      "outputs": [],
      "source": [
        "def good_model(x=jnp.array(3.0), y=jnp.array(4.0)) -> SDict:\n",
        "    return {(\"in0\", \"out0\"): jnp.array(3.0)}\n",
        "assert is_model(good_model)\n",
        "\n",
        "def bad_model(positional_argument, x=jnp.array(3.0), y=jnp.array(4.0)) -> SDict:\n",
        "    return {(\"in0\", \"out0\"): jnp.array(3.0)}\n",
        "assert not is_model(bad_model)"
      ]
    },
    {
      "cell_type": "markdown",
      "id": "efda551fc25cfd5c",
      "metadata": {},
      "source": [
        ":::{eval-rst}\n",
        ".. autofunction:: sax.typing_.is_model_factory\n",
        ":::\n"
      ]
    },
    {
      "cell_type": "code",
      "execution_count": 36,
      "id": "02ff0d8e3b3691b4",
      "metadata": {
        "execution": {
          "iopub.execute_input": "2023-06-01T21:50:11.434137Z",
          "iopub.status.busy": "2023-06-01T21:50:11.433920Z",
          "iopub.status.idle": "2023-06-01T21:50:11.436899Z",
          "shell.execute_reply": "2023-06-01T21:50:11.436518Z"
        },
        "papermill": {
          "duration": 0.015827,
          "end_time": "2023-06-01T21:50:11.438734",
          "exception": false,
          "start_time": "2023-06-01T21:50:11.422907",
          "status": "completed"
        },
        "tags": [
          "hide-input"
        ]
      },
      "outputs": [],
      "source": [
        "def is_model_factory(model: Any) -> bool:\n",
        "    \"\"\"check if a callable is a model function.\"\"\"\n",
        "    if not callable(model):\n",
        "        return False\n",
        "    sig = inspect.signature(model)\n",
        "    if _is_callable_annotation(sig.return_annotation):  # model factory\n",
        "        return True\n",
        "    return False"
      ]
    },
    {
      "cell_type": "markdown",
      "id": "1f9715ed",
      "metadata": {
        "papermill": {
          "duration": 0.010272,
          "end_time": "2023-06-01T21:50:11.459386",
          "exception": false,
          "start_time": "2023-06-01T21:50:11.449114",
          "status": "completed"
        },
        "tags": []
      },
      "source": [
        "> Note: For a `Callable` to be considered a `ModelFactory` in SAX, it **MUST** have a `Callable` or `Model` return annotation. Otherwise SAX will view it as a `Model` and things might break!"
      ]
    },
    {
      "cell_type": "code",
      "execution_count": 37,
      "id": "fe9cdff0",
      "metadata": {
        "execution": {
          "iopub.execute_input": "2023-06-01T21:50:11.481104Z",
          "iopub.status.busy": "2023-06-01T21:50:11.480878Z",
          "iopub.status.idle": "2023-06-01T21:50:11.483832Z",
          "shell.execute_reply": "2023-06-01T21:50:11.483443Z"
        },
        "papermill": {
          "duration": 0.015976,
          "end_time": "2023-06-01T21:50:11.485654",
          "exception": false,
          "start_time": "2023-06-01T21:50:11.469678",
          "status": "completed"
        },
        "tags": []
      },
      "outputs": [],
      "source": [
        "def func() -> Model:\n",
        "    ...\n",
        "    \n",
        "assert is_model_factory(func) # yes, we only check the annotation for now...\n",
        "\n",
        "def func():\n",
        "    ...\n",
        "    \n",
        "assert not is_model_factory(func) # yes, we only check the annotation for now..."
      ]
    },
    {
      "cell_type": "markdown",
      "id": "9ef519b4cba152db",
      "metadata": {},
      "source": [
        ":::{eval-rst}\n",
        ".. autofunction:: sax.typing_.validate_model\n",
        ":::\n"
      ]
    },
    {
      "cell_type": "code",
      "execution_count": 38,
      "id": "143ab59eedfca5ae",
      "metadata": {
        "execution": {
          "iopub.execute_input": "2023-06-01T21:50:11.507681Z",
          "iopub.status.busy": "2023-06-01T21:50:11.507457Z",
          "iopub.status.idle": "2023-06-01T21:50:11.510797Z",
          "shell.execute_reply": "2023-06-01T21:50:11.510428Z"
        },
        "papermill": {
          "duration": 0.01661,
          "end_time": "2023-06-01T21:50:11.512575",
          "exception": false,
          "start_time": "2023-06-01T21:50:11.495965",
          "status": "completed"
        },
        "tags": [
          "hide-input"
        ]
      },
      "outputs": [],
      "source": [
        "def validate_model(model: Callable):\n",
        "    \"\"\"Validate the parameters of a model\"\"\"\n",
        "    positional_arguments = []\n",
        "    for param in inspect.signature(model).parameters.values():\n",
        "        if param.default is inspect.Parameter.empty:\n",
        "            positional_arguments.append(param.name)\n",
        "    if positional_arguments:\n",
        "        raise ValueError(\n",
        "            f\"model '{model}' takes positional arguments {', '.join(positional_arguments)} \"\n",
        "            \"and hence is not a valid SAX Model! A SAX model should ONLY take keyword arguments (or no arguments at all).\"\n",
        "        )"
      ]
    },
    {
      "cell_type": "code",
      "execution_count": 39,
      "id": "754399d5",
      "metadata": {
        "execution": {
          "iopub.execute_input": "2023-06-01T21:50:11.534396Z",
          "iopub.status.busy": "2023-06-01T21:50:11.534168Z",
          "iopub.status.idle": "2023-06-01T21:50:11.537774Z",
          "shell.execute_reply": "2023-06-01T21:50:11.537368Z"
        },
        "papermill": {
          "duration": 0.016601,
          "end_time": "2023-06-01T21:50:11.539582",
          "exception": false,
          "start_time": "2023-06-01T21:50:11.522981",
          "status": "completed"
        },
        "tags": []
      },
      "outputs": [],
      "source": [
        "def good_model(x=jnp.array(3.0), y=jnp.array(4.0)) -> SDict:\n",
        "    return {(\"in0\", \"out0\"): jnp.array(3.0)}\n",
        "\n",
        "\n",
        "assert validate_model(good_model) is None"
      ]
    },
    {
      "cell_type": "code",
      "execution_count": 40,
      "id": "181c72fa",
      "metadata": {
        "execution": {
          "iopub.execute_input": "2023-06-01T21:50:11.561482Z",
          "iopub.status.busy": "2023-06-01T21:50:11.561259Z",
          "iopub.status.idle": "2023-06-01T21:50:11.565036Z",
          "shell.execute_reply": "2023-06-01T21:50:11.564654Z"
        },
        "papermill": {
          "duration": 0.016758,
          "end_time": "2023-06-01T21:50:11.566849",
          "exception": false,
          "start_time": "2023-06-01T21:50:11.550091",
          "status": "completed"
        },
        "tags": []
      },
      "outputs": [],
      "source": [
        "def bad_model(positional_argument, x=jnp.array(3.0), y=jnp.array(4.0)) -> SDict:\n",
        "    return {(\"in0\", \"out0\"): jnp.array(3.0)}\n",
        "\n",
        "\n",
        "with raises(ValueError):\n",
        "    validate_model(bad_model)"
      ]
    },
    {
      "cell_type": "markdown",
      "id": "4abb7a44f144f137",
      "metadata": {},
      "source": [
        ":::{eval-rst}\n",
        ".. autofunction:: sax.typing_.is_stype\n",
        ":::\n"
      ]
    },
    {
      "cell_type": "code",
      "execution_count": 41,
      "id": "c00cab338bf6ef42",
      "metadata": {
        "execution": {
          "iopub.execute_input": "2023-06-01T21:50:11.588994Z",
          "iopub.status.busy": "2023-06-01T21:50:11.588761Z",
          "iopub.status.idle": "2023-06-01T21:50:11.591606Z",
          "shell.execute_reply": "2023-06-01T21:50:11.591203Z"
        },
        "papermill": {
          "duration": 0.016186,
          "end_time": "2023-06-01T21:50:11.593483",
          "exception": false,
          "start_time": "2023-06-01T21:50:11.577297",
          "status": "completed"
        },
        "tags": [
          "hide-input"
        ]
      },
      "outputs": [],
      "source": [
        "def is_stype(stype: Any) -> bool:\n",
        "    \"\"\"check if an object is an SDict, SCoo or SDense\"\"\"\n",
        "    return is_sdict(stype) or is_scoo(stype) or is_sdense(stype)"
      ]
    },
    {
      "cell_type": "markdown",
      "id": "f3ef0eb43edda45b",
      "metadata": {},
      "source": [
        ":::{eval-rst}\n",
        ".. autofunction:: sax.typing_.is_singlemode\n",
        ":::\n"
      ]
    },
    {
      "cell_type": "code",
      "execution_count": 42,
      "id": "2ef894f2c2a4d380",
      "metadata": {
        "execution": {
          "iopub.execute_input": "2023-06-01T21:50:11.615562Z",
          "iopub.status.busy": "2023-06-01T21:50:11.615330Z",
          "iopub.status.idle": "2023-06-01T21:50:11.619482Z",
          "shell.execute_reply": "2023-06-01T21:50:11.619087Z"
        },
        "papermill": {
          "duration": 0.017343,
          "end_time": "2023-06-01T21:50:11.621354",
          "exception": false,
          "start_time": "2023-06-01T21:50:11.604011",
          "status": "completed"
        },
        "tags": [
          "hide-input"
        ]
      },
      "outputs": [],
      "source": [
        "def is_singlemode(S: Any) -> bool:\n",
        "    \"\"\"check if an stype is single mode\"\"\"\n",
        "    if not is_stype(S):\n",
        "        return False\n",
        "    ports = _get_ports(S)\n",
        "    return not any((\"@\" in p) for p in ports)\n",
        "\n",
        "def _get_ports(S: SType):\n",
        "    if is_sdict(S):\n",
        "        S = cast(SDict, S)\n",
        "        ports_set = {p1 for p1, _ in S} | {p2 for _, p2 in S}\n",
        "        return tuple(natsorted(ports_set))\n",
        "    else:\n",
        "        *_, ports_map = S\n",
        "        assert isinstance(ports_map, dict)\n",
        "        return tuple(natsorted(ports_map.keys()))"
      ]
    },
    {
      "cell_type": "markdown",
      "id": "d11339217b34eb79",
      "metadata": {},
      "source": [
        ":::{eval-rst}\n",
        ".. autofunction:: sax.typing_.is_multimode\n",
        ":::\n"
      ]
    },
    {
      "cell_type": "code",
      "execution_count": 43,
      "id": "bf4ac2db30e074ff",
      "metadata": {
        "execution": {
          "iopub.execute_input": "2023-06-01T21:50:11.643456Z",
          "iopub.status.busy": "2023-06-01T21:50:11.643232Z",
          "iopub.status.idle": "2023-06-01T21:50:11.646269Z",
          "shell.execute_reply": "2023-06-01T21:50:11.645875Z"
        },
        "papermill": {
          "duration": 0.016236,
          "end_time": "2023-06-01T21:50:11.648112",
          "exception": false,
          "start_time": "2023-06-01T21:50:11.631876",
          "status": "completed"
        },
        "tags": [
          "hide-input"
        ]
      },
      "outputs": [],
      "source": [
        "def is_multimode(S: Any) -> bool:\n",
        "    \"\"\"check if an stype is single mode\"\"\"\n",
        "    if not is_stype(S):\n",
        "        return False\n",
        "    \n",
        "    ports = _get_ports(S)\n",
        "    return all((\"@\" in p) for p in ports)"
      ]
    },
    {
      "cell_type": "markdown",
      "id": "6d9c4417edb21bf4",
      "metadata": {},
      "source": [
        ":::{eval-rst}\n",
        ".. autofunction:: sax.typing_.is_mixedmode\n",
        ":::\n"
      ]
    },
    {
      "cell_type": "code",
      "execution_count": 44,
      "id": "0d4ea4a3ddb4c5a7",
      "metadata": {
        "execution": {
          "iopub.execute_input": "2023-06-01T21:50:11.670090Z",
          "iopub.status.busy": "2023-06-01T21:50:11.669868Z",
          "iopub.status.idle": "2023-06-01T21:50:11.672585Z",
          "shell.execute_reply": "2023-06-01T21:50:11.672195Z"
        },
        "papermill": {
          "duration": 0.015772,
          "end_time": "2023-06-01T21:50:11.674393",
          "exception": false,
          "start_time": "2023-06-01T21:50:11.658621",
          "status": "completed"
        },
        "tags": [
          "hide-input"
        ]
      },
      "outputs": [],
      "source": [
        "def is_mixedmode(S: Any) -> bool:\n",
        "    \"\"\"check if an stype is neither single mode nor multimode (hence invalid)\"\"\"\n",
        "    return not is_singlemode(S) and not is_multimode(S)"
      ]
    },
    {
      "cell_type": "markdown",
      "id": "3afe685c",
      "metadata": {
        "papermill": {
          "duration": 0.010409,
          "end_time": "2023-06-01T21:50:11.695482",
          "exception": false,
          "start_time": "2023-06-01T21:50:11.685073",
          "status": "completed"
        },
        "tags": []
      },
      "source": [
        "## SAX return type helpers\n",
        "\n",
        "> a.k.a SDict, SDense, SCoo helpers"
      ]
    },
    {
      "cell_type": "markdown",
      "id": "a875f149",
      "metadata": {
        "papermill": {
          "duration": 0.01055,
          "end_time": "2023-06-01T21:50:11.716493",
          "exception": false,
          "start_time": "2023-06-01T21:50:11.705943",
          "status": "completed"
        },
        "tags": []
      },
      "source": [
        "Convert an `SDict`, `SCoo` or `SDense` into an `SDict` (or convert a model generating any of these types into a model generating an `SDict`):"
      ]
    },
    {
      "cell_type": "code",
      "execution_count": 45,
      "id": "ef3bbdb54524c42c",
      "metadata": {
        "execution": {
          "iopub.execute_input": "2023-06-01T21:50:11.738601Z",
          "iopub.status.busy": "2023-06-01T21:50:11.738370Z",
          "iopub.status.idle": "2023-06-01T21:50:11.741548Z",
          "shell.execute_reply": "2023-06-01T21:50:11.741167Z"
        },
        "papermill": {
          "duration": 0.016177,
          "end_time": "2023-06-01T21:50:11.743213",
          "exception": false,
          "start_time": "2023-06-01T21:50:11.727036",
          "status": "completed"
        },
        "tags": [
          "remove-cell"
        ]
      },
      "outputs": [],
      "source": [
        "\n",
        "@overload\n",
        "def sdict(S: Model) -> Model:\n",
        "    ...\n",
        "\n",
        "\n",
        "@overload\n",
        "def sdict(S: SType) -> SDict:\n",
        "    ..."
      ]
    },
    {
      "cell_type": "markdown",
      "id": "061420aa1e759b2f",
      "metadata": {},
      "source": [
        ":::{eval-rst}\n",
        ".. autofunction:: sax.typing_.sdict\n",
        ":::\n"
      ]
    },
    {
      "cell_type": "code",
      "execution_count": 46,
      "id": "9d19190eacc8a841",
      "metadata": {
        "execution": {
          "iopub.execute_input": "2023-06-01T21:50:11.765519Z",
          "iopub.status.busy": "2023-06-01T21:50:11.765204Z",
          "iopub.status.idle": "2023-06-01T21:50:11.772563Z",
          "shell.execute_reply": "2023-06-01T21:50:11.772182Z"
        },
        "papermill": {
          "duration": 0.020034,
          "end_time": "2023-06-01T21:50:11.773835",
          "exception": false,
          "start_time": "2023-06-01T21:50:11.753801",
          "status": "completed"
        },
        "tags": [
          "hide-input"
        ]
      },
      "outputs": [],
      "source": [
        "def sdict(S: Union[Model, SType]) -> Union[Model, SType]:\n",
        "    \"\"\"Convert an `SCoo` or `SDense` to `SDict`\"\"\"\n",
        "\n",
        "    if is_model(S):\n",
        "        model = cast(Model, S)\n",
        "\n",
        "        @functools.wraps(model)\n",
        "        def wrapper(**kwargs):\n",
        "            return sdict(model(**kwargs))\n",
        "\n",
        "        return wrapper\n",
        "\n",
        "    elif is_scoo(S):\n",
        "        x_dict = _scoo_to_sdict(*cast(SCoo, S))\n",
        "    elif is_sdense(S):\n",
        "        x_dict = _sdense_to_sdict(*cast(SDense, S))\n",
        "    elif is_sdict(S):\n",
        "        x_dict = cast(SDict, S)\n",
        "    else:\n",
        "        raise ValueError(\"Could not convert arguments to sdict.\")\n",
        "\n",
        "    return x_dict\n",
        "\n",
        "\n",
        "def _scoo_to_sdict(Si: Array, Sj: Array, Sx: Array, ports_map: Dict[str, int]) -> SDict:\n",
        "    sdict = {}\n",
        "    inverse_ports_map = {int(i): p for p, i in ports_map.items()}\n",
        "    for i, (si, sj) in enumerate(zip(Si, Sj)):\n",
        "        sdict[\n",
        "            inverse_ports_map.get(int(si), \"\"), inverse_ports_map.get(int(sj), \"\")\n",
        "        ] = Sx[..., i]\n",
        "    sdict = {(p1, p2): v for (p1, p2), v in sdict.items() if p1 and p2}\n",
        "    return sdict\n",
        "\n",
        "\n",
        "def _sdense_to_sdict(S: Array, ports_map: Dict[str, int]) -> SDict:\n",
        "    sdict = {}\n",
        "    for p1, i in ports_map.items():\n",
        "        for p2, j in ports_map.items():\n",
        "            sdict[p1, p2] = S[..., i, j]\n",
        "    return sdict"
      ]
    },
    {
      "cell_type": "code",
      "execution_count": 47,
      "id": "9a372fbf",
      "metadata": {
        "execution": {
          "iopub.execute_input": "2023-06-01T21:50:11.796250Z",
          "iopub.status.busy": "2023-06-01T21:50:11.795934Z",
          "iopub.status.idle": "2023-06-01T21:50:11.882369Z",
          "shell.execute_reply": "2023-06-01T21:50:11.881932Z"
        },
        "papermill": {
          "duration": 0.099387,
          "end_time": "2023-06-01T21:50:11.883829",
          "exception": false,
          "start_time": "2023-06-01T21:50:11.784442",
          "status": "completed"
        },
        "tags": []
      },
      "outputs": [],
      "source": [
        "assert sdict(_sdict) is _sdict\n",
        "assert sdict(_scoo) == {\n",
        "    (\"in0\", \"in0\"): 3.0,\n",
        "    (\"in1\", \"in0\"): 1.0,\n",
        "    (\"out0\", \"out0\"): 4.0,\n",
        "}\n",
        "assert sdict(_sdense) == {\n",
        "    (\"in0\", \"in0\"): 0.0,\n",
        "    (\"in0\", \"out0\"): 1.0,\n",
        "    (\"in0\", \"in1\"): 2.0,\n",
        "    (\"out0\", \"in0\"): 3.0,\n",
        "    (\"out0\", \"out0\"): 4.0,\n",
        "    (\"out0\", \"in1\"): 5.0,\n",
        "    (\"in1\", \"in0\"): 6.0,\n",
        "    (\"in1\", \"out0\"): 7.0,\n",
        "    (\"in1\", \"in1\"): 8.0,\n",
        "}"
      ]
    },
    {
      "cell_type": "markdown",
      "id": "492c5cdd",
      "metadata": {
        "papermill": {
          "duration": 0.010736,
          "end_time": "2023-06-01T21:50:11.905462",
          "exception": false,
          "start_time": "2023-06-01T21:50:11.894726",
          "status": "completed"
        },
        "tags": []
      },
      "source": [
        "Convert an `SDict`, `SCoo` or `SDense` into an `SCoo` (or convert a model generating any of these types into a model generating an `SCoo`):"
      ]
    },
    {
      "cell_type": "code",
      "execution_count": 48,
      "id": "80ede8c12f793327",
      "metadata": {
        "execution": {
          "iopub.execute_input": "2023-06-01T21:50:11.928912Z",
          "iopub.status.busy": "2023-06-01T21:50:11.928360Z",
          "iopub.status.idle": "2023-06-01T21:50:11.932128Z",
          "shell.execute_reply": "2023-06-01T21:50:11.931730Z"
        },
        "papermill": {
          "duration": 0.016885,
          "end_time": "2023-06-01T21:50:11.933839",
          "exception": false,
          "start_time": "2023-06-01T21:50:11.916954",
          "status": "completed"
        },
        "tags": [
          "remove-cell"
        ]
      },
      "outputs": [],
      "source": [
        "\n",
        "@overload\n",
        "def scoo(S: Callable) -> Callable:\n",
        "    ...\n",
        "\n",
        "\n",
        "@overload\n",
        "def scoo(S: SType) -> SCoo:\n",
        "    ..."
      ]
    },
    {
      "cell_type": "markdown",
      "id": "c524fece988a0d5c",
      "metadata": {},
      "source": [
        ":::{eval-rst}\n",
        ".. autofunction:: sax.typing_.scoo\n",
        ":::\n"
      ]
    },
    {
      "cell_type": "code",
      "execution_count": 49,
      "id": "494f63fcef7d28d9",
      "metadata": {
        "execution": {
          "iopub.execute_input": "2023-06-01T21:50:11.956245Z",
          "iopub.status.busy": "2023-06-01T21:50:11.956030Z",
          "iopub.status.idle": "2023-06-01T21:50:11.964607Z",
          "shell.execute_reply": "2023-06-01T21:50:11.964154Z"
        },
        "papermill": {
          "duration": 0.021285,
          "end_time": "2023-06-01T21:50:11.965926",
          "exception": false,
          "start_time": "2023-06-01T21:50:11.944641",
          "status": "completed"
        },
        "tags": [
          "hide-input"
        ]
      },
      "outputs": [],
      "source": [
        "\n",
        "def scoo(S: Union[Callable, SType]) -> Union[Callable, SCoo]:\n",
        "    \"\"\"Convert an `SDict` or `SDense` to `SCoo`\"\"\"\n",
        "\n",
        "    if is_model(S):\n",
        "        model = cast(Model, S)\n",
        "\n",
        "        @functools.wraps(model)\n",
        "        def wrapper(**kwargs):\n",
        "            return scoo(model(**kwargs))\n",
        "\n",
        "        return wrapper\n",
        "\n",
        "    elif is_scoo(S):\n",
        "        S = cast(SCoo, S)\n",
        "    elif is_sdense(S):\n",
        "        S = _sdense_to_scoo(*cast(SDense, S))\n",
        "    elif is_sdict(S):\n",
        "        S = _sdict_to_scoo(cast(SDict, S))\n",
        "    else:\n",
        "        raise ValueError(\"Could not convert arguments to scoo.\")\n",
        "\n",
        "    return S\n",
        "\n",
        "def _consolidate_sdense(S, pm):\n",
        "    idxs = list(pm.values())\n",
        "    S = S[..., idxs, :][..., :, idxs]\n",
        "    pm = {p: i for i, p in enumerate(pm)}\n",
        "    return S, pm\n",
        "\n",
        "def _sdense_to_scoo(S: Array, ports_map: Dict[str, int]) -> SCoo:\n",
        "    S, ports_map = _consolidate_sdense(S, ports_map)\n",
        "    Sj, Si = jnp.meshgrid(jnp.arange(S.shape[-1]), jnp.arange(S.shape[-2]))\n",
        "    return Si.ravel(), Sj.ravel(), S.reshape(*S.shape[:-2], -1), ports_map\n",
        "\n",
        "\n",
        "def _sdict_to_scoo(sdict: SDict) -> SCoo:\n",
        "    all_ports = {}\n",
        "    for p1, p2 in sdict:\n",
        "        all_ports[p1] = None\n",
        "        all_ports[p2] = None\n",
        "    ports_map = {p: i for i, p in enumerate(all_ports)}\n",
        "    Sx = jnp.stack(jnp.broadcast_arrays(*sdict.values()), -1)\n",
        "    Si = jnp.array([ports_map[p] for p, _ in sdict])\n",
        "    Sj = jnp.array([ports_map[p] for _, p in sdict])\n",
        "    return Si, Sj, Sx, ports_map"
      ]
    },
    {
      "cell_type": "code",
      "execution_count": 50,
      "id": "2e409185-a9f6-4ea9-af09-1c184557f02d",
      "metadata": {
        "execution": {
          "iopub.execute_input": "2023-06-01T21:50:11.988634Z",
          "iopub.status.busy": "2023-06-01T21:50:11.988331Z",
          "iopub.status.idle": "2023-06-01T21:50:12.124098Z",
          "shell.execute_reply": "2023-06-01T21:50:12.123752Z"
        },
        "papermill": {
          "duration": 0.148595,
          "end_time": "2023-06-01T21:50:12.125306",
          "exception": false,
          "start_time": "2023-06-01T21:50:11.976711",
          "status": "completed"
        },
        "tags": []
      },
      "outputs": [
        {
          "data": {
            "text/plain": [
              "(Array([0, 0, 0, 1, 1, 1, 2, 2, 2], dtype=int32),\n",
              " Array([0, 1, 2, 0, 1, 2, 0, 1, 2], dtype=int32),\n",
              " Array([0., 2., 1., 6., 8., 7., 3., 5., 4.], dtype=float32),\n",
              " {'in0': 0, 'in1': 1, 'out0': 2})"
            ]
          },
          "execution_count": 50,
          "metadata": {},
          "output_type": "execute_result"
        }
      ],
      "source": [
        "scoo(_sdense)"
      ]
    },
    {
      "cell_type": "code",
      "execution_count": 51,
      "id": "1e97b31c",
      "metadata": {
        "execution": {
          "iopub.execute_input": "2023-06-01T21:50:12.148567Z",
          "iopub.status.busy": "2023-06-01T21:50:12.148273Z",
          "iopub.status.idle": "2023-06-01T21:50:12.196969Z",
          "shell.execute_reply": "2023-06-01T21:50:12.196574Z"
        },
        "papermill": {
          "duration": 0.061794,
          "end_time": "2023-06-01T21:50:12.198405",
          "exception": false,
          "start_time": "2023-06-01T21:50:12.136611",
          "status": "completed"
        },
        "tags": []
      },
      "outputs": [],
      "source": [
        "assert scoo(_scoo) is _scoo\n",
        "assert scoo(_sdict) == (0, 1, 3.0, {\"in0\": 0, \"out0\": 1})\n",
        "Si, Sj, Sx, port_map = scoo(_sdense)  # type: ignore\n",
        "np.testing.assert_array_equal(Si, jnp.array([0, 0, 0, 1, 1, 1, 2, 2, 2]))\n",
        "np.testing.assert_array_equal(Sj, jnp.array([0, 1, 2, 0, 1, 2, 0, 1, 2]))\n",
        "np.testing.assert_array_almost_equal(Sx, jnp.array([0.0, 2.0, 1.0, 6.0, 8.0, 7.0, 3.0, 5.0, 4.0]))\n",
        "assert port_map == {\"in0\": 0, \"in1\": 1, \"out0\": 2}"
      ]
    },
    {
      "cell_type": "markdown",
      "id": "5e58325b",
      "metadata": {
        "papermill": {
          "duration": 0.01109,
          "end_time": "2023-06-01T21:50:12.220444",
          "exception": false,
          "start_time": "2023-06-01T21:50:12.209354",
          "status": "completed"
        },
        "tags": []
      },
      "source": [
        "Convert an `SDict`, `SCoo` or `SDense` into an `SDense` (or convert a model generating any of these types into a model generating an `SDense`):"
      ]
    },
    {
      "cell_type": "code",
      "execution_count": 52,
      "id": "575de82313b0e2c5",
      "metadata": {
        "execution": {
          "iopub.execute_input": "2023-06-01T21:50:12.243467Z",
          "iopub.status.busy": "2023-06-01T21:50:12.242871Z",
          "iopub.status.idle": "2023-06-01T21:50:12.245876Z",
          "shell.execute_reply": "2023-06-01T21:50:12.245490Z"
        },
        "papermill": {
          "duration": 0.015713,
          "end_time": "2023-06-01T21:50:12.247009",
          "exception": false,
          "start_time": "2023-06-01T21:50:12.231296",
          "status": "completed"
        },
        "tags": [
          "remove-cell"
        ]
      },
      "outputs": [],
      "source": [
        "\n",
        "@overload\n",
        "def sdense(S: Callable) -> Callable:\n",
        "    ...\n",
        "\n",
        "\n",
        "@overload\n",
        "def sdense(S: SType) -> SDense:\n",
        "    ..."
      ]
    },
    {
      "cell_type": "markdown",
      "id": "80678cd20f1af267",
      "metadata": {},
      "source": [
        ":::{eval-rst}\n",
        ".. autofunction:: sax.typing_.sdense\n",
        ":::\n"
      ]
    },
    {
      "cell_type": "code",
      "execution_count": 53,
      "id": "2c1edadbf59d6d62",
      "metadata": {
        "execution": {
          "iopub.execute_input": "2023-06-01T21:50:12.269709Z",
          "iopub.status.busy": "2023-06-01T21:50:12.269192Z",
          "iopub.status.idle": "2023-06-01T21:50:12.274811Z",
          "shell.execute_reply": "2023-06-01T21:50:12.274490Z"
        },
        "papermill": {
          "duration": 0.018058,
          "end_time": "2023-06-01T21:50:12.275868",
          "exception": false,
          "start_time": "2023-06-01T21:50:12.257810",
          "status": "completed"
        },
        "tags": [
          "hide-input"
        ]
      },
      "outputs": [],
      "source": [
        "\n",
        "def sdense(S: Union[Callable, SType]) -> Union[Callable, SDense]:\n",
        "    \"\"\"Convert an `SDict` or `SCoo` to `SDense`\"\"\"\n",
        "\n",
        "    if is_model(S):\n",
        "        model = cast(Model, S)\n",
        "\n",
        "        @functools.wraps(model)\n",
        "        def wrapper(**kwargs):\n",
        "            return sdense(model(**kwargs))\n",
        "\n",
        "        return wrapper\n",
        "\n",
        "    if is_sdict(S):\n",
        "        S = _sdict_to_sdense(cast(SDict, S))\n",
        "    elif is_scoo(S):\n",
        "        S = _scoo_to_sdense(*cast(SCoo, S))\n",
        "    elif is_sdense(S):\n",
        "        S = cast(SDense, S)\n",
        "    else:\n",
        "        raise ValueError(\"Could not convert arguments to sdense.\")\n",
        "\n",
        "    return S\n",
        "\n",
        "\n",
        "def _scoo_to_sdense(\n",
        "    Si: Array, Sj: Array, Sx: Array, ports_map: Dict[str, int]\n",
        ") -> SDense:\n",
        "    n_col = len(ports_map)\n",
        "    S = jnp.zeros((*Sx.shape[:-1], n_col, n_col), dtype=complex)\n",
        "    if JAX_AVAILABLE:\n",
        "        S = S.at[..., Si, Sj].add(Sx)\n",
        "    else:\n",
        "        S[..., Si, Sj] = Sx\n",
        "    return S, ports_map\n",
        "\n",
        "def _sdict_to_sdense(sdict: SDict) -> SDense:\n",
        "    Si, Sj, Sx, ports_map = _sdict_to_scoo(sdict)\n",
        "    return _scoo_to_sdense(Si, Sj, Sx, ports_map)"
      ]
    },
    {
      "cell_type": "code",
      "execution_count": 54,
      "id": "084b7ddb",
      "metadata": {
        "execution": {
          "iopub.execute_input": "2023-06-01T21:50:12.298338Z",
          "iopub.status.busy": "2023-06-01T21:50:12.298085Z",
          "iopub.status.idle": "2023-06-01T21:50:12.372573Z",
          "shell.execute_reply": "2023-06-01T21:50:12.372166Z"
        },
        "papermill": {
          "duration": 0.087494,
          "end_time": "2023-06-01T21:50:12.374095",
          "exception": false,
          "start_time": "2023-06-01T21:50:12.286601",
          "status": "completed"
        },
        "tags": []
      },
      "outputs": [],
      "source": [
        "assert sdense(_sdense) is _sdense\n",
        "Sd, port_map = sdense(_scoo)  # type: ignore\n",
        "Sd_ = jnp.array([[3.0 + 0.0j, 0.0 + 0.0j, 0.0 + 0.0j],\n",
        "                 [0.0 + 0.0j, 4.0 + 0.0j, 0.0 + 0.0j],\n",
        "                 [1.0 + 0.0j, 0.0 + 0.0j, 0.0 + 0.0j]])\n",
        "\n",
        "np.testing.assert_array_almost_equal(Sd, Sd_)\n",
        "assert port_map == {\"in0\": 0, \"in1\": 2, \"out0\": 1}"
      ]
    },
    {
      "cell_type": "markdown",
      "id": "4a6541fc407701a9",
      "metadata": {},
      "source": [
        ":::{eval-rst}\n",
        ".. autofunction:: sax.typing_.modelfactory\n",
        ":::\n"
      ]
    },
    {
      "cell_type": "code",
      "execution_count": 55,
      "id": "700c09b067063631",
      "metadata": {
        "execution": {
          "iopub.execute_input": "2023-06-01T21:50:12.397199Z",
          "iopub.status.busy": "2023-06-01T21:50:12.396902Z",
          "iopub.status.idle": "2023-06-01T21:50:12.400044Z",
          "shell.execute_reply": "2023-06-01T21:50:12.399708Z"
        },
        "papermill": {
          "duration": 0.015951,
          "end_time": "2023-06-01T21:50:12.401105",
          "exception": false,
          "start_time": "2023-06-01T21:50:12.385154",
          "status": "completed"
        },
        "tags": [
          "hide-input"
        ]
      },
      "outputs": [],
      "source": [
        "\n",
        "def modelfactory(func):\n",
        "    \"\"\"Decorator that marks a function as `ModelFactory`\"\"\"\n",
        "    sig = inspect.signature(func)\n",
        "    if _is_callable_annotation(sig.return_annotation):  # already model factory\n",
        "        return func\n",
        "    func.__signature__ = sig.replace(return_annotation=Model)\n",
        "    return func"
      ]
    }
  ],
  "metadata": {
    "kernelspec": {
      "display_name": "sax",
      "language": "python",
      "name": "sax"
    },
    "language_info": {
      "codemirror_mode": {
        "name": "ipython",
        "version": 3
      },
      "file_extension": ".py",
      "mimetype": "text/x-python",
      "name": "python",
      "nbconvert_exporter": "python",
      "pygments_lexer": "ipython3",
      "version": "3.11.3"
    },
    "papermill": {
      "default_parameters": {},
      "duration": 4.960059,
      "end_time": "2023-06-01T21:50:12.739499",
      "environment_variables": {},
      "exception": null,
      "input_path": "./nbs/00_typing.ipynb",
      "output_path": "./nbs/00_typing.ipynb",
      "parameters": {},
      "start_time": "2023-06-01T21:50:07.779440",
      "version": "2.3.4"
    }
  },
  "nbformat": 4,
  "nbformat_minor": 5
}