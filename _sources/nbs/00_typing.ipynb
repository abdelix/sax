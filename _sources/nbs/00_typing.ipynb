{
  "cells": [
    {
      "cell_type": "code",
      "execution_count": 1,
      "id": "94f7bdd2bd2bd6e4",
      "metadata": {
        "execution": {
          "iopub.execute_input": "2023-09-01T16:52:07.170259Z",
          "iopub.status.busy": "2023-09-01T16:52:07.169663Z",
          "iopub.status.idle": "2023-09-01T16:52:07.173025Z",
          "shell.execute_reply": "2023-09-01T16:52:07.172438Z"
        },
        "papermill": {
          "duration": 0.041646,
          "end_time": "2023-09-01T16:52:07.174243",
          "exception": false,
          "start_time": "2023-09-01T16:52:07.132597",
          "status": "completed"
        },
        "tags": [
          "remove-cell"
        ]
      },
      "outputs": [],
      "source": []
    },
    {
      "cell_type": "markdown",
      "id": "13a3464b",
      "metadata": {
        "papermill": {
          "duration": 0.009545,
          "end_time": "2023-09-01T16:52:07.193671",
          "exception": false,
          "start_time": "2023-09-01T16:52:07.184126",
          "status": "completed"
        },
        "tags": []
      },
      "source": [
        "# Typing\n",
        "\n",
        "> SAX types"
      ]
    },
    {
      "cell_type": "code",
      "execution_count": 2,
      "id": "cba24e8252d30923",
      "metadata": {
        "execution": {
          "iopub.execute_input": "2023-09-01T16:52:07.213937Z",
          "iopub.status.busy": "2023-09-01T16:52:07.213563Z",
          "iopub.status.idle": "2023-09-01T16:52:07.635067Z",
          "shell.execute_reply": "2023-09-01T16:52:07.634623Z"
        },
        "papermill": {
          "duration": 0.433384,
          "end_time": "2023-09-01T16:52:07.636568",
          "exception": false,
          "start_time": "2023-09-01T16:52:07.203184",
          "status": "completed"
        },
        "tags": [
          "remove-cell"
        ]
      },
      "outputs": [],
      "source": [
        "import matplotlib.pyplot as plt\n",
        "from fastcore.test import test_eq\n",
        "from pytest import approx, raises\n",
        "\n",
        "import os, sys; sys.stderr = open(os.devnull, \"w\")"
      ]
    },
    {
      "cell_type": "code",
      "execution_count": 3,
      "id": "aff9499cc7b2ae1b",
      "metadata": {
        "execution": {
          "iopub.execute_input": "2023-09-01T16:52:07.658202Z",
          "iopub.status.busy": "2023-09-01T16:52:07.657480Z",
          "iopub.status.idle": "2023-09-01T16:52:08.038819Z",
          "shell.execute_reply": "2023-09-01T16:52:08.038347Z"
        },
        "papermill": {
          "duration": 0.393975,
          "end_time": "2023-09-01T16:52:08.040467",
          "exception": false,
          "start_time": "2023-09-01T16:52:07.646492",
          "status": "completed"
        },
        "tags": [
          "hide-input"
        ]
      },
      "outputs": [],
      "source": [
        "from __future__ import annotations\n",
        "import functools\n",
        "import inspect\n",
        "from collections.abc import Callable as CallableABC\n",
        "from typing import Any, Callable, Dict, Tuple, Union, cast, overload\n",
        "try:\n",
        "    from typing import TypedDict\n",
        "except ImportError: # python<3.8\n",
        "    from typing_extensions import TypedDict\n",
        "\n",
        "import numpy as np\n",
        "from natsort import natsorted\n",
        "\n",
        "try:\n",
        "    import jax.numpy as jnp\n",
        "    JAX_AVAILABLE = True\n",
        "except ImportError:\n",
        "    import numpy as jnp\n",
        "    JAX_AVAILABLE = False"
      ]
    },
    {
      "cell_type": "markdown",
      "id": "41e26ab2",
      "metadata": {
        "papermill": {
          "duration": 0.009951,
          "end_time": "2023-09-01T16:52:08.060269",
          "exception": false,
          "start_time": "2023-09-01T16:52:08.050318",
          "status": "completed"
        },
        "tags": []
      },
      "source": [
        "## Core Types"
      ]
    },
    {
      "cell_type": "markdown",
      "id": "ca29df5c",
      "metadata": {
        "papermill": {
          "duration": 0.009479,
          "end_time": "2023-09-01T16:52:08.079247",
          "exception": false,
          "start_time": "2023-09-01T16:52:08.069768",
          "status": "completed"
        },
        "tags": []
      },
      "source": [
        "### Array"
      ]
    },
    {
      "cell_type": "markdown",
      "id": "82c3c344",
      "metadata": {
        "papermill": {
          "duration": 0.009494,
          "end_time": "2023-09-01T16:52:08.098232",
          "exception": false,
          "start_time": "2023-09-01T16:52:08.088738",
          "status": "completed"
        },
        "tags": []
      },
      "source": [
        "an `Array` is either a jax array or a numpy array:"
      ]
    },
    {
      "cell_type": "code",
      "execution_count": 4,
      "id": "5510da6b17de7456",
      "metadata": {
        "execution": {
          "iopub.execute_input": "2023-09-01T16:52:08.119106Z",
          "iopub.status.busy": "2023-09-01T16:52:08.118425Z",
          "iopub.status.idle": "2023-09-01T16:52:08.121340Z",
          "shell.execute_reply": "2023-09-01T16:52:08.120999Z"
        },
        "papermill": {
          "duration": 0.014776,
          "end_time": "2023-09-01T16:52:08.122601",
          "exception": false,
          "start_time": "2023-09-01T16:52:08.107825",
          "status": "completed"
        },
        "tags": []
      },
      "outputs": [],
      "source": [
        "Array = Union[jnp.ndarray, np.ndarray]"
      ]
    },
    {
      "cell_type": "markdown",
      "id": "6b86fa37",
      "metadata": {
        "papermill": {
          "duration": 0.009505,
          "end_time": "2023-09-01T16:52:08.141674",
          "exception": false,
          "start_time": "2023-09-01T16:52:08.132169",
          "status": "completed"
        },
        "tags": []
      },
      "source": [
        "### Int"
      ]
    },
    {
      "cell_type": "markdown",
      "id": "9fa467c9",
      "metadata": {
        "papermill": {
          "duration": 0.009786,
          "end_time": "2023-09-01T16:52:08.161093",
          "exception": false,
          "start_time": "2023-09-01T16:52:08.151307",
          "status": "completed"
        },
        "tags": []
      },
      "source": [
        "An `Int` is either a built-in `int` or an `Array` [of dtype `int`]"
      ]
    },
    {
      "cell_type": "code",
      "execution_count": 5,
      "id": "9245e90954484626",
      "metadata": {
        "execution": {
          "iopub.execute_input": "2023-09-01T16:52:08.181404Z",
          "iopub.status.busy": "2023-09-01T16:52:08.180972Z",
          "iopub.status.idle": "2023-09-01T16:52:08.183568Z",
          "shell.execute_reply": "2023-09-01T16:52:08.183203Z"
        },
        "papermill": {
          "duration": 0.014002,
          "end_time": "2023-09-01T16:52:08.184720",
          "exception": false,
          "start_time": "2023-09-01T16:52:08.170718",
          "status": "completed"
        },
        "tags": []
      },
      "outputs": [],
      "source": [
        "Int = Union[int, Array]"
      ]
    },
    {
      "cell_type": "markdown",
      "id": "c486cd2c",
      "metadata": {
        "papermill": {
          "duration": 0.009526,
          "end_time": "2023-09-01T16:52:08.203771",
          "exception": false,
          "start_time": "2023-09-01T16:52:08.194245",
          "status": "completed"
        },
        "tags": []
      },
      "source": [
        "### Float"
      ]
    },
    {
      "cell_type": "markdown",
      "id": "3b59bba6",
      "metadata": {
        "papermill": {
          "duration": 0.009467,
          "end_time": "2023-09-01T16:52:08.222748",
          "exception": false,
          "start_time": "2023-09-01T16:52:08.213281",
          "status": "completed"
        },
        "tags": []
      },
      "source": [
        "A `Float` is eiter a built-in `float` or an `Array` [of dtype `float`]"
      ]
    },
    {
      "cell_type": "code",
      "execution_count": 6,
      "id": "089f75bec8bb3bf3",
      "metadata": {
        "execution": {
          "iopub.execute_input": "2023-09-01T16:52:08.243289Z",
          "iopub.status.busy": "2023-09-01T16:52:08.242835Z",
          "iopub.status.idle": "2023-09-01T16:52:08.245440Z",
          "shell.execute_reply": "2023-09-01T16:52:08.245068Z"
        },
        "papermill": {
          "duration": 0.01431,
          "end_time": "2023-09-01T16:52:08.246523",
          "exception": false,
          "start_time": "2023-09-01T16:52:08.232213",
          "status": "completed"
        },
        "tags": []
      },
      "outputs": [],
      "source": [
        "Float = Union[float, Array]"
      ]
    },
    {
      "cell_type": "markdown",
      "id": "bdfd6200",
      "metadata": {
        "papermill": {
          "duration": 0.009452,
          "end_time": "2023-09-01T16:52:08.265633",
          "exception": false,
          "start_time": "2023-09-01T16:52:08.256181",
          "status": "completed"
        },
        "tags": []
      },
      "source": [
        "### ComplexFloat"
      ]
    },
    {
      "cell_type": "markdown",
      "id": "b1a7d255",
      "metadata": {
        "papermill": {
          "duration": 0.009468,
          "end_time": "2023-09-01T16:52:08.284555",
          "exception": false,
          "start_time": "2023-09-01T16:52:08.275087",
          "status": "completed"
        },
        "tags": []
      },
      "source": [
        "A `ComplexFloat` is either a build-in `complex` or an Array [of dtype `complex`]:"
      ]
    },
    {
      "cell_type": "code",
      "execution_count": 7,
      "id": "0ead1c56ee81b3cf",
      "metadata": {
        "execution": {
          "iopub.execute_input": "2023-09-01T16:52:08.304897Z",
          "iopub.status.busy": "2023-09-01T16:52:08.304457Z",
          "iopub.status.idle": "2023-09-01T16:52:08.307044Z",
          "shell.execute_reply": "2023-09-01T16:52:08.306678Z"
        },
        "papermill": {
          "duration": 0.014148,
          "end_time": "2023-09-01T16:52:08.308177",
          "exception": false,
          "start_time": "2023-09-01T16:52:08.294029",
          "status": "completed"
        },
        "tags": []
      },
      "outputs": [],
      "source": [
        "ComplexFloat = Union[complex, Float]"
      ]
    },
    {
      "cell_type": "markdown",
      "id": "1f1aa099",
      "metadata": {
        "papermill": {
          "duration": 0.009502,
          "end_time": "2023-09-01T16:52:08.327217",
          "exception": false,
          "start_time": "2023-09-01T16:52:08.317715",
          "status": "completed"
        },
        "tags": []
      },
      "source": [
        "### Settings"
      ]
    },
    {
      "cell_type": "markdown",
      "id": "69839acd",
      "metadata": {
        "papermill": {
          "duration": 0.00944,
          "end_time": "2023-09-01T16:52:08.346103",
          "exception": false,
          "start_time": "2023-09-01T16:52:08.336663",
          "status": "completed"
        },
        "tags": []
      },
      "source": [
        "A `Settings` dictionary is a nested mapping between setting names [`str`] to either `ComplexFloat` values OR to another lower level `Settings` dictionary."
      ]
    },
    {
      "cell_type": "code",
      "execution_count": 8,
      "id": "061d6ac8e822b15e",
      "metadata": {
        "execution": {
          "iopub.execute_input": "2023-09-01T16:52:08.366320Z",
          "iopub.status.busy": "2023-09-01T16:52:08.365910Z",
          "iopub.status.idle": "2023-09-01T16:52:08.368707Z",
          "shell.execute_reply": "2023-09-01T16:52:08.368343Z"
        },
        "papermill": {
          "duration": 0.014228,
          "end_time": "2023-09-01T16:52:08.369824",
          "exception": false,
          "start_time": "2023-09-01T16:52:08.355596",
          "status": "completed"
        },
        "tags": []
      },
      "outputs": [],
      "source": [
        "Settings = Union[Dict[str, ComplexFloat], Dict[str, \"Settings\"]]"
      ]
    },
    {
      "cell_type": "markdown",
      "id": "cf202d06",
      "metadata": {
        "papermill": {
          "duration": 0.00948,
          "end_time": "2023-09-01T16:52:08.388944",
          "exception": false,
          "start_time": "2023-09-01T16:52:08.379464",
          "status": "completed"
        },
        "tags": []
      },
      "source": [
        "Settings dictionaries are used to parametrize a SAX `Model` or a `circuit`. The settings dictionary should have the same hierarchy levels as the circuit:\n",
        " \n",
        " > Example:"
      ]
    },
    {
      "cell_type": "code",
      "execution_count": 9,
      "id": "2b26c4ab",
      "metadata": {
        "execution": {
          "iopub.execute_input": "2023-09-01T16:52:08.409182Z",
          "iopub.status.busy": "2023-09-01T16:52:08.408800Z",
          "iopub.status.idle": "2023-09-01T16:52:08.411543Z",
          "shell.execute_reply": "2023-09-01T16:52:08.411189Z"
        },
        "papermill": {
          "duration": 0.014183,
          "end_time": "2023-09-01T16:52:08.412646",
          "exception": false,
          "start_time": "2023-09-01T16:52:08.398463",
          "status": "completed"
        },
        "tags": []
      },
      "outputs": [],
      "source": [
        "mzi_settings = {\n",
        "    \"wl\": 1.5,  # global settings\n",
        "    \"lft\": {\"coupling\": 0.5},  # settings for the left coupler\n",
        "    \"top\": {\"neff\": 3.4},  # settings for the top waveguide\n",
        "    \"rgt\": {\"coupling\": 0.3},  # settings for the right coupler\n",
        "}"
      ]
    },
    {
      "cell_type": "markdown",
      "id": "45043912",
      "metadata": {
        "papermill": {
          "duration": 0.009555,
          "end_time": "2023-09-01T16:52:08.431796",
          "exception": false,
          "start_time": "2023-09-01T16:52:08.422241",
          "status": "completed"
        },
        "tags": []
      },
      "source": [
        "### SDict"
      ]
    },
    {
      "cell_type": "markdown",
      "id": "c5a7facf",
      "metadata": {
        "papermill": {
          "duration": 0.009544,
          "end_time": "2023-09-01T16:52:08.450919",
          "exception": false,
          "start_time": "2023-09-01T16:52:08.441375",
          "status": "completed"
        },
        "tags": []
      },
      "source": [
        "An `SDict` is a sparse dictionary based representation of an S-matrix, mapping port name tuples such as `('in0', 'out0')` to `ComplexFloat`."
      ]
    },
    {
      "cell_type": "code",
      "execution_count": 10,
      "id": "bcfb3b3ebabcabc5",
      "metadata": {
        "execution": {
          "iopub.execute_input": "2023-09-01T16:52:08.471393Z",
          "iopub.status.busy": "2023-09-01T16:52:08.470961Z",
          "iopub.status.idle": "2023-09-01T16:52:08.473648Z",
          "shell.execute_reply": "2023-09-01T16:52:08.473272Z"
        },
        "papermill": {
          "duration": 0.014345,
          "end_time": "2023-09-01T16:52:08.474847",
          "exception": false,
          "start_time": "2023-09-01T16:52:08.460502",
          "status": "completed"
        },
        "tags": []
      },
      "outputs": [],
      "source": [
        "SDict = Dict[Tuple[str, str], ComplexFloat]"
      ]
    },
    {
      "cell_type": "markdown",
      "id": "07dc470a",
      "metadata": {
        "papermill": {
          "duration": 0.009646,
          "end_time": "2023-09-01T16:52:08.494371",
          "exception": false,
          "start_time": "2023-09-01T16:52:08.484725",
          "status": "completed"
        },
        "tags": []
      },
      "source": [
        "> Example:"
      ]
    },
    {
      "cell_type": "code",
      "execution_count": 11,
      "id": "ad65a70c",
      "metadata": {
        "execution": {
          "iopub.execute_input": "2023-09-01T16:52:08.515017Z",
          "iopub.status.busy": "2023-09-01T16:52:08.514421Z",
          "iopub.status.idle": "2023-09-01T16:52:08.517711Z",
          "shell.execute_reply": "2023-09-01T16:52:08.517328Z"
        },
        "papermill": {
          "duration": 0.015071,
          "end_time": "2023-09-01T16:52:08.519079",
          "exception": false,
          "start_time": "2023-09-01T16:52:08.504008",
          "status": "completed"
        },
        "tags": []
      },
      "outputs": [
        {
          "name": "stdout",
          "output_type": "stream",
          "text": [
            "{('in0', 'out0'): 3.0}\n"
          ]
        }
      ],
      "source": [
        "_sdict: SDict = {\n",
        "    (\"in0\", \"out0\"): 3.0,\n",
        "}\n",
        "print(_sdict)"
      ]
    },
    {
      "cell_type": "markdown",
      "id": "0e2c7430",
      "metadata": {
        "papermill": {
          "duration": 0.009862,
          "end_time": "2023-09-01T16:52:08.538800",
          "exception": false,
          "start_time": "2023-09-01T16:52:08.528938",
          "status": "completed"
        },
        "tags": []
      },
      "source": [
        "### SCoo"
      ]
    },
    {
      "cell_type": "markdown",
      "id": "ef614e1d",
      "metadata": {
        "papermill": {
          "duration": 0.009775,
          "end_time": "2023-09-01T16:52:08.558363",
          "exception": false,
          "start_time": "2023-09-01T16:52:08.548588",
          "status": "completed"
        },
        "tags": []
      },
      "source": [
        "An `SCoo` is a sparse matrix based representation of an S-matrix consisting of three arrays and a port map. The three arrays represent the input port indices [`int`], output port indices [`int`] and the S-matrix values [`ComplexFloat`] of the sparse matrix. The port map maps a port name [`str`] to a port index [`int`]. Only these four arrays **together** and in this specific **order** are considered a valid `SCoo` representation!"
      ]
    },
    {
      "cell_type": "code",
      "execution_count": 12,
      "id": "57569f278153f499",
      "metadata": {
        "execution": {
          "iopub.execute_input": "2023-09-01T16:52:08.579721Z",
          "iopub.status.busy": "2023-09-01T16:52:08.579172Z",
          "iopub.status.idle": "2023-09-01T16:52:08.581943Z",
          "shell.execute_reply": "2023-09-01T16:52:08.581604Z"
        },
        "papermill": {
          "duration": 0.015013,
          "end_time": "2023-09-01T16:52:08.583156",
          "exception": false,
          "start_time": "2023-09-01T16:52:08.568143",
          "status": "completed"
        },
        "tags": []
      },
      "outputs": [],
      "source": [
        "SCoo = Tuple[Array, Array, ComplexFloat, Dict[str, int]]"
      ]
    },
    {
      "cell_type": "markdown",
      "id": "ff9719c8",
      "metadata": {
        "papermill": {
          "duration": 0.009899,
          "end_time": "2023-09-01T16:52:08.602936",
          "exception": false,
          "start_time": "2023-09-01T16:52:08.593037",
          "status": "completed"
        },
        "tags": []
      },
      "source": [
        "> Example:"
      ]
    },
    {
      "cell_type": "code",
      "execution_count": 13,
      "id": "972f8060",
      "metadata": {
        "execution": {
          "iopub.execute_input": "2023-09-01T16:52:08.624419Z",
          "iopub.status.busy": "2023-09-01T16:52:08.623988Z",
          "iopub.status.idle": "2023-09-01T16:52:08.652319Z",
          "shell.execute_reply": "2023-09-01T16:52:08.651986Z"
        },
        "papermill": {
          "duration": 0.040493,
          "end_time": "2023-09-01T16:52:08.653422",
          "exception": false,
          "start_time": "2023-09-01T16:52:08.612929",
          "status": "completed"
        },
        "tags": []
      },
      "outputs": [
        {
          "name": "stdout",
          "output_type": "stream",
          "text": [
            "[0 1 2]\n",
            "[0 1 0]\n",
            "[3. 4. 1.]\n",
            "{'in0': 0, 'in1': 2, 'out0': 1}\n"
          ]
        }
      ],
      "source": [
        "Si = jnp.arange(3, dtype=int)\n",
        "Sj = jnp.array([0, 1, 0], dtype=int)\n",
        "Sx = jnp.array([3.0, 4.0, 1.0])\n",
        "port_map = {\"in0\": 0, \"in1\": 2, \"out0\": 1}\n",
        "_scoo: SCoo = (Si, Sj, Sx, port_map)\n",
        "print(Si)\n",
        "print(Sj)\n",
        "print(Sx)\n",
        "print(port_map)"
      ]
    },
    {
      "cell_type": "markdown",
      "id": "2cba9246",
      "metadata": {
        "papermill": {
          "duration": 0.009894,
          "end_time": "2023-09-01T16:52:08.673408",
          "exception": false,
          "start_time": "2023-09-01T16:52:08.663514",
          "status": "completed"
        },
        "tags": []
      },
      "source": [
        "### SDense"
      ]
    },
    {
      "cell_type": "markdown",
      "id": "fd28795b",
      "metadata": {
        "papermill": {
          "duration": 0.009836,
          "end_time": "2023-09-01T16:52:08.693154",
          "exception": false,
          "start_time": "2023-09-01T16:52:08.683318",
          "status": "completed"
        },
        "tags": []
      },
      "source": [
        "an `SDense` is a dense matrix representation of an S-matrix. It's represented by an NxN `ComplexFloat` array and a port map (mapping port names onto port indices)."
      ]
    },
    {
      "cell_type": "code",
      "execution_count": 14,
      "id": "a41323407426f7a8",
      "metadata": {
        "execution": {
          "iopub.execute_input": "2023-09-01T16:52:08.714201Z",
          "iopub.status.busy": "2023-09-01T16:52:08.713848Z",
          "iopub.status.idle": "2023-09-01T16:52:08.716713Z",
          "shell.execute_reply": "2023-09-01T16:52:08.716333Z"
        },
        "papermill": {
          "duration": 0.014798,
          "end_time": "2023-09-01T16:52:08.717856",
          "exception": false,
          "start_time": "2023-09-01T16:52:08.703058",
          "status": "completed"
        },
        "tags": []
      },
      "outputs": [],
      "source": [
        "SDense = Tuple[Array, Dict[str, int]]"
      ]
    },
    {
      "cell_type": "markdown",
      "id": "2c4789f7",
      "metadata": {
        "papermill": {
          "duration": 0.010219,
          "end_time": "2023-09-01T16:52:08.738142",
          "exception": false,
          "start_time": "2023-09-01T16:52:08.727923",
          "status": "completed"
        },
        "tags": []
      },
      "source": [
        "> Example:"
      ]
    },
    {
      "cell_type": "code",
      "execution_count": 15,
      "id": "02def7ed",
      "metadata": {
        "execution": {
          "iopub.execute_input": "2023-09-01T16:52:08.759975Z",
          "iopub.status.busy": "2023-09-01T16:52:08.758896Z",
          "iopub.status.idle": "2023-09-01T16:52:08.789293Z",
          "shell.execute_reply": "2023-09-01T16:52:08.788932Z"
        },
        "papermill": {
          "duration": 0.042318,
          "end_time": "2023-09-01T16:52:08.790382",
          "exception": false,
          "start_time": "2023-09-01T16:52:08.748064",
          "status": "completed"
        },
        "tags": []
      },
      "outputs": [
        {
          "name": "stdout",
          "output_type": "stream",
          "text": [
            "[[0. 1. 2.]\n",
            " [3. 4. 5.]\n",
            " [6. 7. 8.]]\n",
            "{'in0': 0, 'in1': 2, 'out0': 1}\n"
          ]
        }
      ],
      "source": [
        "Sd = jnp.arange(9, dtype=float).reshape(3, 3)\n",
        "port_map = {\"in0\": 0, \"in1\": 2, \"out0\": 1}\n",
        "_sdense = Sd, port_map\n",
        "print(Sd)\n",
        "print(port_map)"
      ]
    },
    {
      "cell_type": "markdown",
      "id": "b0d2e36f",
      "metadata": {
        "papermill": {
          "duration": 0.010381,
          "end_time": "2023-09-01T16:52:08.811017",
          "exception": false,
          "start_time": "2023-09-01T16:52:08.800636",
          "status": "completed"
        },
        "tags": []
      },
      "source": [
        "### SType"
      ]
    },
    {
      "cell_type": "markdown",
      "id": "b441f21d",
      "metadata": {
        "papermill": {
          "duration": 0.010191,
          "end_time": "2023-09-01T16:52:08.831438",
          "exception": false,
          "start_time": "2023-09-01T16:52:08.821247",
          "status": "completed"
        },
        "tags": []
      },
      "source": [
        "an `SType` is either an `SDict` **OR** an `SCoo` **OR** an `SDense`:"
      ]
    },
    {
      "cell_type": "code",
      "execution_count": 16,
      "id": "807276bc7ac2442c",
      "metadata": {
        "execution": {
          "iopub.execute_input": "2023-09-01T16:52:08.853079Z",
          "iopub.status.busy": "2023-09-01T16:52:08.852637Z",
          "iopub.status.idle": "2023-09-01T16:52:08.855090Z",
          "shell.execute_reply": "2023-09-01T16:52:08.854760Z"
        },
        "papermill": {
          "duration": 0.014591,
          "end_time": "2023-09-01T16:52:08.856188",
          "exception": false,
          "start_time": "2023-09-01T16:52:08.841597",
          "status": "completed"
        },
        "tags": []
      },
      "outputs": [],
      "source": [
        "SType = Union[SDict, SCoo, SDense]"
      ]
    },
    {
      "cell_type": "markdown",
      "id": "e0561b07",
      "metadata": {
        "papermill": {
          "duration": 0.01026,
          "end_time": "2023-09-01T16:52:08.876731",
          "exception": false,
          "start_time": "2023-09-01T16:52:08.866471",
          "status": "completed"
        },
        "tags": []
      },
      "source": [
        "> Example:"
      ]
    },
    {
      "cell_type": "code",
      "execution_count": 17,
      "id": "5b52a5f2",
      "metadata": {
        "execution": {
          "iopub.execute_input": "2023-09-01T16:52:08.898605Z",
          "iopub.status.busy": "2023-09-01T16:52:08.897946Z",
          "iopub.status.idle": "2023-09-01T16:52:08.900916Z",
          "shell.execute_reply": "2023-09-01T16:52:08.900538Z"
        },
        "papermill": {
          "duration": 0.015279,
          "end_time": "2023-09-01T16:52:08.902081",
          "exception": false,
          "start_time": "2023-09-01T16:52:08.886802",
          "status": "completed"
        },
        "tags": []
      },
      "outputs": [],
      "source": [
        "obj: SType = _sdict\n",
        "obj: SType = _scoo\n",
        "obj: SType = _sdense"
      ]
    },
    {
      "cell_type": "markdown",
      "id": "afabe91b",
      "metadata": {
        "papermill": {
          "duration": 0.010216,
          "end_time": "2023-09-01T16:52:08.923283",
          "exception": false,
          "start_time": "2023-09-01T16:52:08.913067",
          "status": "completed"
        },
        "tags": []
      },
      "source": [
        "### Model"
      ]
    },
    {
      "cell_type": "markdown",
      "id": "13808fb1",
      "metadata": {
        "papermill": {
          "duration": 0.010113,
          "end_time": "2023-09-01T16:52:08.943499",
          "exception": false,
          "start_time": "2023-09-01T16:52:08.933386",
          "status": "completed"
        },
        "tags": []
      },
      "source": [
        "A `Model` is any keyword-only function that returns an `SType`:"
      ]
    },
    {
      "cell_type": "code",
      "execution_count": 18,
      "id": "30ddb1f0b00518a1",
      "metadata": {
        "execution": {
          "iopub.execute_input": "2023-09-01T16:52:08.965358Z",
          "iopub.status.busy": "2023-09-01T16:52:08.964875Z",
          "iopub.status.idle": "2023-09-01T16:52:08.967821Z",
          "shell.execute_reply": "2023-09-01T16:52:08.967380Z"
        },
        "papermill": {
          "duration": 0.015331,
          "end_time": "2023-09-01T16:52:08.969008",
          "exception": false,
          "start_time": "2023-09-01T16:52:08.953677",
          "status": "completed"
        },
        "tags": []
      },
      "outputs": [],
      "source": [
        "Model = Callable[..., SType]"
      ]
    },
    {
      "cell_type": "markdown",
      "id": "fad534fb",
      "metadata": {
        "papermill": {
          "duration": 0.010369,
          "end_time": "2023-09-01T16:52:08.989889",
          "exception": false,
          "start_time": "2023-09-01T16:52:08.979520",
          "status": "completed"
        },
        "tags": []
      },
      "source": [
        "### ModelFactory"
      ]
    },
    {
      "cell_type": "markdown",
      "id": "85781647",
      "metadata": {
        "papermill": {
          "duration": 0.010209,
          "end_time": "2023-09-01T16:52:09.010374",
          "exception": false,
          "start_time": "2023-09-01T16:52:09.000165",
          "status": "completed"
        },
        "tags": []
      },
      "source": [
        "A `ModelFactory` is any keyword-only function that returns a `Model`:"
      ]
    },
    {
      "cell_type": "code",
      "execution_count": 19,
      "id": "e90a9fd8e6460807",
      "metadata": {
        "execution": {
          "iopub.execute_input": "2023-09-01T16:52:09.032259Z",
          "iopub.status.busy": "2023-09-01T16:52:09.031809Z",
          "iopub.status.idle": "2023-09-01T16:52:09.034536Z",
          "shell.execute_reply": "2023-09-01T16:52:09.034130Z"
        },
        "papermill": {
          "duration": 0.01509,
          "end_time": "2023-09-01T16:52:09.035733",
          "exception": false,
          "start_time": "2023-09-01T16:52:09.020643",
          "status": "completed"
        },
        "tags": []
      },
      "outputs": [],
      "source": [
        "ModelFactory = Callable[..., Model]"
      ]
    },
    {
      "cell_type": "markdown",
      "id": "353d8506",
      "metadata": {
        "papermill": {
          "duration": 0.010312,
          "end_time": "2023-09-01T16:52:09.056292",
          "exception": false,
          "start_time": "2023-09-01T16:52:09.045980",
          "status": "completed"
        },
        "tags": []
      },
      "source": [
        "> Note: SAX sometimes needs to figure out the difference between a `ModelFactory` and a normal `Model` *before* running the function. To do this, SAX will check the return annotation of the function. Any function with a `-> Model` or `-> Callable` annotation will be considered a `ModelFactory`. Any function without this annotation will be considered a normal Model: **don't forget the return annotation of your Model Factory!** To ensure a correct annotation and to ensure forward compatibility, it's recommended to decorate your `ModelFactory` with the `modelfactory` decorator."
      ]
    },
    {
      "cell_type": "markdown",
      "id": "b32b5a31",
      "metadata": {
        "papermill": {
          "duration": 0.010587,
          "end_time": "2023-09-01T16:52:09.077215",
          "exception": false,
          "start_time": "2023-09-01T16:52:09.066628",
          "status": "completed"
        },
        "tags": []
      },
      "source": [
        "### Models"
      ]
    },
    {
      "cell_type": "markdown",
      "id": "a796dcb2",
      "metadata": {
        "papermill": {
          "duration": 0.01056,
          "end_time": "2023-09-01T16:52:09.098698",
          "exception": false,
          "start_time": "2023-09-01T16:52:09.088138",
          "status": "completed"
        },
        "tags": []
      },
      "source": [
        "`Models` is a mapping between model names [`str`] and a `Model`:"
      ]
    },
    {
      "cell_type": "code",
      "execution_count": 20,
      "id": "ef380ae543f683a2",
      "metadata": {
        "execution": {
          "iopub.execute_input": "2023-09-01T16:52:09.120531Z",
          "iopub.status.busy": "2023-09-01T16:52:09.120078Z",
          "iopub.status.idle": "2023-09-01T16:52:09.122871Z",
          "shell.execute_reply": "2023-09-01T16:52:09.122437Z"
        },
        "papermill": {
          "duration": 0.015162,
          "end_time": "2023-09-01T16:52:09.124066",
          "exception": false,
          "start_time": "2023-09-01T16:52:09.108904",
          "status": "completed"
        },
        "tags": []
      },
      "outputs": [],
      "source": [
        "Models = Dict[str, Model]"
      ]
    },
    {
      "cell_type": "markdown",
      "id": "ed1af61c",
      "metadata": {
        "papermill": {
          "duration": 0.010209,
          "end_time": "2023-09-01T16:52:09.144582",
          "exception": false,
          "start_time": "2023-09-01T16:52:09.134373",
          "status": "completed"
        },
        "tags": []
      },
      "source": [
        "> Note: sometimes 'component' is used to refer to a a `Model` or `GeneralModel`. This is because other tools (such as for example GDSFactory) prefer that terminology."
      ]
    },
    {
      "cell_type": "markdown",
      "id": "5d276f63",
      "metadata": {
        "papermill": {
          "duration": 0.010169,
          "end_time": "2023-09-01T16:52:09.164958",
          "exception": false,
          "start_time": "2023-09-01T16:52:09.154789",
          "status": "completed"
        },
        "tags": []
      },
      "source": [
        "## Netlist Types\n",
        "\n",
        "Netlist types are moved [here](06_netlist.ipynb)."
      ]
    },
    {
      "cell_type": "markdown",
      "id": "dbcb4447",
      "metadata": {
        "papermill": {
          "duration": 0.01035,
          "end_time": "2023-09-01T16:52:09.185808",
          "exception": false,
          "start_time": "2023-09-01T16:52:09.175458",
          "status": "completed"
        },
        "tags": []
      },
      "source": [
        "## Validation and runtime type-checking:\n",
        "> Note: the type-checking functions below are **NOT** very tight and hence should be used within the right context!"
      ]
    },
    {
      "cell_type": "markdown",
      "id": "57c67fc581c2ea4f",
      "metadata": {},
      "source": [
        ":::{eval-rst}\n",
        ".. autofunction:: sax.typing_.is_float\n",
        ":::\n"
      ]
    },
    {
      "cell_type": "code",
      "execution_count": 21,
      "id": "54fbc33117c04d2e",
      "metadata": {
        "execution": {
          "iopub.execute_input": "2023-09-01T16:52:09.207854Z",
          "iopub.status.busy": "2023-09-01T16:52:09.207390Z",
          "iopub.status.idle": "2023-09-01T16:52:09.211275Z",
          "shell.execute_reply": "2023-09-01T16:52:09.210875Z"
        },
        "papermill": {
          "duration": 0.016242,
          "end_time": "2023-09-01T16:52:09.212444",
          "exception": false,
          "start_time": "2023-09-01T16:52:09.196202",
          "status": "completed"
        },
        "tags": [
          "hide-input"
        ]
      },
      "outputs": [],
      "source": [
        "def is_float(x: Any) -> bool:\n",
        "    \"\"\"Check if an object is a `Float`\"\"\"\n",
        "    if isinstance(x, float):\n",
        "        return True\n",
        "    if isinstance(x, np.ndarray):\n",
        "        return x.dtype in (np.float16, np.float32, np.float64, np.float128)\n",
        "    if isinstance(x, jnp.ndarray):\n",
        "        return x.dtype in (jnp.float16, jnp.float32, jnp.float64)\n",
        "    return False"
      ]
    },
    {
      "cell_type": "code",
      "execution_count": 22,
      "id": "28374448",
      "metadata": {
        "execution": {
          "iopub.execute_input": "2023-09-01T16:52:09.234658Z",
          "iopub.status.busy": "2023-09-01T16:52:09.234269Z",
          "iopub.status.idle": "2023-09-01T16:52:09.239633Z",
          "shell.execute_reply": "2023-09-01T16:52:09.239236Z"
        },
        "papermill": {
          "duration": 0.018017,
          "end_time": "2023-09-01T16:52:09.240837",
          "exception": false,
          "start_time": "2023-09-01T16:52:09.222820",
          "status": "completed"
        },
        "tags": []
      },
      "outputs": [],
      "source": [
        "assert is_float(3.0)\n",
        "assert not is_float(3)\n",
        "assert not is_float(3.0 + 2j)\n",
        "assert not is_float(jnp.array(3.0, dtype=complex))\n",
        "assert not is_float(jnp.array(3, dtype=int))"
      ]
    },
    {
      "cell_type": "markdown",
      "id": "62c57f4bb48d2321",
      "metadata": {},
      "source": [
        ":::{eval-rst}\n",
        ".. autofunction:: sax.typing_.is_complex\n",
        ":::\n"
      ]
    },
    {
      "cell_type": "code",
      "execution_count": 23,
      "id": "1816d253c7844ef1",
      "metadata": {
        "execution": {
          "iopub.execute_input": "2023-09-01T16:52:09.263007Z",
          "iopub.status.busy": "2023-09-01T16:52:09.262427Z",
          "iopub.status.idle": "2023-09-01T16:52:09.265964Z",
          "shell.execute_reply": "2023-09-01T16:52:09.265549Z"
        },
        "papermill": {
          "duration": 0.015842,
          "end_time": "2023-09-01T16:52:09.267116",
          "exception": false,
          "start_time": "2023-09-01T16:52:09.251274",
          "status": "completed"
        },
        "tags": [
          "hide-input"
        ]
      },
      "outputs": [],
      "source": [
        "def is_complex(x: Any) -> bool:\n",
        "    \"\"\"check if an object is a `ComplexFloat`\"\"\"\n",
        "    if isinstance(x, complex):\n",
        "        return True\n",
        "    if isinstance(x, np.ndarray):\n",
        "        return x.dtype in (np.complex64, np.complex128)\n",
        "    if isinstance(x, jnp.ndarray):\n",
        "        return x.dtype in (jnp.complex64, jnp.complex128)\n",
        "    return False"
      ]
    },
    {
      "cell_type": "code",
      "execution_count": 24,
      "id": "d81a703d",
      "metadata": {
        "execution": {
          "iopub.execute_input": "2023-09-01T16:52:09.289036Z",
          "iopub.status.busy": "2023-09-01T16:52:09.288649Z",
          "iopub.status.idle": "2023-09-01T16:52:09.292456Z",
          "shell.execute_reply": "2023-09-01T16:52:09.292039Z"
        },
        "papermill": {
          "duration": 0.016114,
          "end_time": "2023-09-01T16:52:09.293579",
          "exception": false,
          "start_time": "2023-09-01T16:52:09.277465",
          "status": "completed"
        },
        "tags": []
      },
      "outputs": [],
      "source": [
        "assert not is_complex(3.0)\n",
        "assert not is_complex(3)\n",
        "assert is_complex(3.0 + 2j)\n",
        "assert is_complex(jnp.array(3.0, dtype=complex))\n",
        "assert not is_complex(jnp.array(3, dtype=int))"
      ]
    },
    {
      "cell_type": "markdown",
      "id": "c270c4b5f032025a",
      "metadata": {},
      "source": [
        ":::{eval-rst}\n",
        ".. autofunction:: sax.typing_.is_complex_float\n",
        ":::\n"
      ]
    },
    {
      "cell_type": "code",
      "execution_count": 25,
      "id": "0f14c5b3b31e1f12",
      "metadata": {
        "execution": {
          "iopub.execute_input": "2023-09-01T16:52:09.315812Z",
          "iopub.status.busy": "2023-09-01T16:52:09.315392Z",
          "iopub.status.idle": "2023-09-01T16:52:09.318217Z",
          "shell.execute_reply": "2023-09-01T16:52:09.317835Z"
        },
        "papermill": {
          "duration": 0.015328,
          "end_time": "2023-09-01T16:52:09.319409",
          "exception": false,
          "start_time": "2023-09-01T16:52:09.304081",
          "status": "completed"
        },
        "tags": [
          "hide-input"
        ]
      },
      "outputs": [],
      "source": [
        "def is_complex_float(x: Any) -> bool:\n",
        "    \"\"\"check if an object is either a `ComplexFloat` or a `Float`\"\"\"\n",
        "    return is_float(x) or is_complex(x)"
      ]
    },
    {
      "cell_type": "code",
      "execution_count": 26,
      "id": "c533ff0d",
      "metadata": {
        "execution": {
          "iopub.execute_input": "2023-09-01T16:52:09.342164Z",
          "iopub.status.busy": "2023-09-01T16:52:09.341628Z",
          "iopub.status.idle": "2023-09-01T16:52:09.345625Z",
          "shell.execute_reply": "2023-09-01T16:52:09.345194Z"
        },
        "papermill": {
          "duration": 0.016871,
          "end_time": "2023-09-01T16:52:09.346874",
          "exception": false,
          "start_time": "2023-09-01T16:52:09.330003",
          "status": "completed"
        },
        "tags": []
      },
      "outputs": [],
      "source": [
        "assert is_complex_float(3.0)\n",
        "assert not is_complex_float(3)\n",
        "assert is_complex_float(3.0 + 2j)\n",
        "assert is_complex_float(jnp.array(3.0, dtype=complex))\n",
        "assert not is_complex_float(jnp.array(3, dtype=int))"
      ]
    },
    {
      "cell_type": "markdown",
      "id": "399c01ed931f8e8e",
      "metadata": {},
      "source": [
        ":::{eval-rst}\n",
        ".. autofunction:: sax.typing_.is_sdict\n",
        ":::\n"
      ]
    },
    {
      "cell_type": "code",
      "execution_count": 27,
      "id": "989f0cd51113463c",
      "metadata": {
        "execution": {
          "iopub.execute_input": "2023-09-01T16:52:09.369634Z",
          "iopub.status.busy": "2023-09-01T16:52:09.369107Z",
          "iopub.status.idle": "2023-09-01T16:52:09.371874Z",
          "shell.execute_reply": "2023-09-01T16:52:09.371553Z"
        },
        "papermill": {
          "duration": 0.015274,
          "end_time": "2023-09-01T16:52:09.372984",
          "exception": false,
          "start_time": "2023-09-01T16:52:09.357710",
          "status": "completed"
        },
        "tags": [
          "hide-input"
        ]
      },
      "outputs": [],
      "source": [
        "def is_sdict(x: Any) -> bool:\n",
        "    \"\"\"check if an object is an `SDict` (a SAX S-dictionary)\"\"\"\n",
        "    return isinstance(x, dict)"
      ]
    },
    {
      "cell_type": "code",
      "execution_count": 28,
      "id": "cb0365dc",
      "metadata": {
        "execution": {
          "iopub.execute_input": "2023-09-01T16:52:09.395926Z",
          "iopub.status.busy": "2023-09-01T16:52:09.395503Z",
          "iopub.status.idle": "2023-09-01T16:52:09.398208Z",
          "shell.execute_reply": "2023-09-01T16:52:09.397853Z"
        },
        "papermill": {
          "duration": 0.015936,
          "end_time": "2023-09-01T16:52:09.399371",
          "exception": false,
          "start_time": "2023-09-01T16:52:09.383435",
          "status": "completed"
        },
        "tags": []
      },
      "outputs": [],
      "source": [
        "assert not is_sdict(object())\n",
        "assert is_sdict(_sdict)\n",
        "assert not is_sdict(_scoo)\n",
        "assert not is_sdict(_sdense)"
      ]
    },
    {
      "cell_type": "markdown",
      "id": "86a6d27ac733bcdb",
      "metadata": {},
      "source": [
        ":::{eval-rst}\n",
        ".. autofunction:: sax.typing_.is_scoo\n",
        ":::\n"
      ]
    },
    {
      "cell_type": "code",
      "execution_count": 29,
      "id": "893b113cc9855d7a",
      "metadata": {
        "execution": {
          "iopub.execute_input": "2023-09-01T16:52:09.422964Z",
          "iopub.status.busy": "2023-09-01T16:52:09.422505Z",
          "iopub.status.idle": "2023-09-01T16:52:09.425419Z",
          "shell.execute_reply": "2023-09-01T16:52:09.425050Z"
        },
        "papermill": {
          "duration": 0.015889,
          "end_time": "2023-09-01T16:52:09.426661",
          "exception": false,
          "start_time": "2023-09-01T16:52:09.410772",
          "status": "completed"
        },
        "tags": [
          "hide-input"
        ]
      },
      "outputs": [],
      "source": [
        "def is_scoo(x: Any) -> bool:\n",
        "    \"\"\"check if an object is an `SCoo` (a SAX sparse S-matrix representation in COO-format)\"\"\"\n",
        "    return isinstance(x, (tuple, list)) and len(x) == 4"
      ]
    },
    {
      "cell_type": "code",
      "execution_count": 30,
      "id": "9ea0239a",
      "metadata": {
        "execution": {
          "iopub.execute_input": "2023-09-01T16:52:09.449394Z",
          "iopub.status.busy": "2023-09-01T16:52:09.449000Z",
          "iopub.status.idle": "2023-09-01T16:52:09.451707Z",
          "shell.execute_reply": "2023-09-01T16:52:09.451345Z"
        },
        "papermill": {
          "duration": 0.015014,
          "end_time": "2023-09-01T16:52:09.452796",
          "exception": false,
          "start_time": "2023-09-01T16:52:09.437782",
          "status": "completed"
        },
        "tags": []
      },
      "outputs": [],
      "source": [
        "assert not is_scoo(object)\n",
        "assert not is_scoo(_sdict)\n",
        "assert is_scoo(_scoo)\n",
        "assert not is_scoo(_sdense)"
      ]
    },
    {
      "cell_type": "markdown",
      "id": "7eb251eece21fccf",
      "metadata": {},
      "source": [
        ":::{eval-rst}\n",
        ".. autofunction:: sax.typing_.is_sdense\n",
        ":::\n"
      ]
    },
    {
      "cell_type": "code",
      "execution_count": 31,
      "id": "c2cf6b01623127be",
      "metadata": {
        "execution": {
          "iopub.execute_input": "2023-09-01T16:52:09.475994Z",
          "iopub.status.busy": "2023-09-01T16:52:09.475512Z",
          "iopub.status.idle": "2023-09-01T16:52:09.478347Z",
          "shell.execute_reply": "2023-09-01T16:52:09.478022Z"
        },
        "papermill": {
          "duration": 0.015968,
          "end_time": "2023-09-01T16:52:09.479523",
          "exception": false,
          "start_time": "2023-09-01T16:52:09.463555",
          "status": "completed"
        },
        "tags": [
          "hide-input"
        ]
      },
      "outputs": [],
      "source": [
        "def is_sdense(x: Any) -> bool:\n",
        "    \"\"\"check if an object is an `SDense` (a SAX dense S-matrix representation)\"\"\"\n",
        "    return isinstance(x, (tuple, list)) and len(x) == 2"
      ]
    },
    {
      "cell_type": "code",
      "execution_count": 32,
      "id": "2eddd63a",
      "metadata": {
        "execution": {
          "iopub.execute_input": "2023-09-01T16:52:09.502650Z",
          "iopub.status.busy": "2023-09-01T16:52:09.502221Z",
          "iopub.status.idle": "2023-09-01T16:52:09.504835Z",
          "shell.execute_reply": "2023-09-01T16:52:09.504497Z"
        },
        "papermill": {
          "duration": 0.015584,
          "end_time": "2023-09-01T16:52:09.506033",
          "exception": false,
          "start_time": "2023-09-01T16:52:09.490449",
          "status": "completed"
        },
        "tags": []
      },
      "outputs": [],
      "source": [
        "assert not is_sdense(object)\n",
        "assert not is_sdense(_sdict)\n",
        "assert not is_sdense(_scoo)\n",
        "assert is_sdense(_sdense)"
      ]
    },
    {
      "cell_type": "markdown",
      "id": "c25670ceca9e1f42",
      "metadata": {},
      "source": [
        ":::{eval-rst}\n",
        ".. autofunction:: sax.typing_.is_model\n",
        ":::\n"
      ]
    },
    {
      "cell_type": "code",
      "execution_count": 33,
      "id": "91f080ab04bbe07f",
      "metadata": {
        "execution": {
          "iopub.execute_input": "2023-09-01T16:52:09.529362Z",
          "iopub.status.busy": "2023-09-01T16:52:09.528949Z",
          "iopub.status.idle": "2023-09-01T16:52:09.533641Z",
          "shell.execute_reply": "2023-09-01T16:52:09.533265Z"
        },
        "papermill": {
          "duration": 0.017447,
          "end_time": "2023-09-01T16:52:09.534837",
          "exception": false,
          "start_time": "2023-09-01T16:52:09.517390",
          "status": "completed"
        },
        "tags": [
          "hide-input"
        ]
      },
      "outputs": [],
      "source": [
        "def is_model(model: Any) -> bool:\n",
        "    \"\"\"check if a callable is a `Model` (a callable returning an `SType`)\"\"\"\n",
        "    if not callable(model):\n",
        "        return False\n",
        "    try:\n",
        "        sig = inspect.signature(model)\n",
        "    except ValueError:\n",
        "        return False\n",
        "    for param in sig.parameters.values():\n",
        "        if param.default is inspect.Parameter.empty:\n",
        "            return False  # a proper SAX model does not have any positional arguments.\n",
        "    if _is_callable_annotation(sig.return_annotation):  # model factory\n",
        "        return False\n",
        "    return True\n",
        "\n",
        "def _is_callable_annotation(annotation: Any) -> bool:\n",
        "    \"\"\"check if an annotation is `Callable`-like\"\"\"\n",
        "    if isinstance(annotation, str):\n",
        "        # happens when\n",
        "        # was imported at the top of the file...\n",
        "        return annotation.startswith(\"Callable\") or annotation.endswith(\"Model\")\n",
        "        # TODO: this is not a very robust check...\n",
        "    try:\n",
        "        return annotation.__origin__ == CallableABC\n",
        "    except AttributeError:\n",
        "        return False"
      ]
    },
    {
      "cell_type": "code",
      "execution_count": 34,
      "id": "4a1aa4837d833032",
      "metadata": {
        "execution": {
          "iopub.execute_input": "2023-09-01T16:52:09.558100Z",
          "iopub.status.busy": "2023-09-01T16:52:09.557564Z",
          "iopub.status.idle": "2023-09-01T16:52:09.560253Z",
          "shell.execute_reply": "2023-09-01T16:52:09.559929Z"
        },
        "papermill": {
          "duration": 0.015771,
          "end_time": "2023-09-01T16:52:09.561410",
          "exception": false,
          "start_time": "2023-09-01T16:52:09.545639",
          "status": "completed"
        },
        "tags": [
          "remove-cell"
        ]
      },
      "outputs": [],
      "source": [
        "assert _is_callable_annotation(Callable)\n",
        "assert not _is_callable_annotation(SDict)"
      ]
    },
    {
      "cell_type": "code",
      "execution_count": 35,
      "id": "89bdb647",
      "metadata": {
        "execution": {
          "iopub.execute_input": "2023-09-01T16:52:09.587859Z",
          "iopub.status.busy": "2023-09-01T16:52:09.587421Z",
          "iopub.status.idle": "2023-09-01T16:52:09.603898Z",
          "shell.execute_reply": "2023-09-01T16:52:09.603462Z"
        },
        "papermill": {
          "duration": 0.029585,
          "end_time": "2023-09-01T16:52:09.605296",
          "exception": false,
          "start_time": "2023-09-01T16:52:09.575711",
          "status": "completed"
        },
        "tags": []
      },
      "outputs": [],
      "source": [
        "def good_model(x=jnp.array(3.0), y=jnp.array(4.0)) -> SDict:\n",
        "    return {(\"in0\", \"out0\"): jnp.array(3.0)}\n",
        "assert is_model(good_model)\n",
        "\n",
        "def bad_model(positional_argument, x=jnp.array(3.0), y=jnp.array(4.0)) -> SDict:\n",
        "    return {(\"in0\", \"out0\"): jnp.array(3.0)}\n",
        "assert not is_model(bad_model)"
      ]
    },
    {
      "cell_type": "markdown",
      "id": "a5065c7dbf37a7ea",
      "metadata": {},
      "source": [
        ":::{eval-rst}\n",
        ".. autofunction:: sax.typing_.is_model_factory\n",
        ":::\n"
      ]
    },
    {
      "cell_type": "code",
      "execution_count": 36,
      "id": "8e1effa736094025",
      "metadata": {
        "execution": {
          "iopub.execute_input": "2023-09-01T16:52:09.628512Z",
          "iopub.status.busy": "2023-09-01T16:52:09.627977Z",
          "iopub.status.idle": "2023-09-01T16:52:09.631109Z",
          "shell.execute_reply": "2023-09-01T16:52:09.630785Z"
        },
        "papermill": {
          "duration": 0.015809,
          "end_time": "2023-09-01T16:52:09.632131",
          "exception": false,
          "start_time": "2023-09-01T16:52:09.616322",
          "status": "completed"
        },
        "tags": [
          "hide-input"
        ]
      },
      "outputs": [],
      "source": [
        "def is_model_factory(model: Any) -> bool:\n",
        "    \"\"\"check if a callable is a model function.\"\"\"\n",
        "    if not callable(model):\n",
        "        return False\n",
        "    sig = inspect.signature(model)\n",
        "    if _is_callable_annotation(sig.return_annotation):  # model factory\n",
        "        return True\n",
        "    return False"
      ]
    },
    {
      "cell_type": "markdown",
      "id": "1f9715ed",
      "metadata": {
        "papermill": {
          "duration": 0.010598,
          "end_time": "2023-09-01T16:52:09.653471",
          "exception": false,
          "start_time": "2023-09-01T16:52:09.642873",
          "status": "completed"
        },
        "tags": []
      },
      "source": [
        "> Note: For a `Callable` to be considered a `ModelFactory` in SAX, it **MUST** have a `Callable` or `Model` return annotation. Otherwise SAX will view it as a `Model` and things might break!"
      ]
    },
    {
      "cell_type": "code",
      "execution_count": 37,
      "id": "fe9cdff0",
      "metadata": {
        "execution": {
          "iopub.execute_input": "2023-09-01T16:52:09.675874Z",
          "iopub.status.busy": "2023-09-01T16:52:09.675457Z",
          "iopub.status.idle": "2023-09-01T16:52:09.678419Z",
          "shell.execute_reply": "2023-09-01T16:52:09.678059Z"
        },
        "papermill": {
          "duration": 0.015508,
          "end_time": "2023-09-01T16:52:09.679585",
          "exception": false,
          "start_time": "2023-09-01T16:52:09.664077",
          "status": "completed"
        },
        "tags": []
      },
      "outputs": [],
      "source": [
        "def func() -> Model:\n",
        "    ...\n",
        "    \n",
        "assert is_model_factory(func) # yes, we only check the annotation for now...\n",
        "\n",
        "def func():\n",
        "    ...\n",
        "    \n",
        "assert not is_model_factory(func) # yes, we only check the annotation for now..."
      ]
    },
    {
      "cell_type": "markdown",
      "id": "ccd06064f32ad016",
      "metadata": {},
      "source": [
        ":::{eval-rst}\n",
        ".. autofunction:: sax.typing_.validate_model\n",
        ":::\n"
      ]
    },
    {
      "cell_type": "code",
      "execution_count": 38,
      "id": "c2ab91b72c5a4476",
      "metadata": {
        "execution": {
          "iopub.execute_input": "2023-09-01T16:52:09.702279Z",
          "iopub.status.busy": "2023-09-01T16:52:09.701852Z",
          "iopub.status.idle": "2023-09-01T16:52:09.705353Z",
          "shell.execute_reply": "2023-09-01T16:52:09.704978Z"
        },
        "papermill": {
          "duration": 0.016267,
          "end_time": "2023-09-01T16:52:09.706541",
          "exception": false,
          "start_time": "2023-09-01T16:52:09.690274",
          "status": "completed"
        },
        "tags": [
          "hide-input"
        ]
      },
      "outputs": [],
      "source": [
        "def validate_model(model: Callable):\n",
        "    \"\"\"Validate the parameters of a model\"\"\"\n",
        "    positional_arguments = []\n",
        "    for param in inspect.signature(model).parameters.values():\n",
        "        if param.default is inspect.Parameter.empty:\n",
        "            positional_arguments.append(param.name)\n",
        "    if positional_arguments:\n",
        "        raise ValueError(\n",
        "            f\"model '{model}' takes positional arguments {', '.join(positional_arguments)} \"\n",
        "            \"and hence is not a valid SAX Model! A SAX model should ONLY take keyword arguments (or no arguments at all).\"\n",
        "        )"
      ]
    },
    {
      "cell_type": "code",
      "execution_count": 39,
      "id": "754399d5",
      "metadata": {
        "execution": {
          "iopub.execute_input": "2023-09-01T16:52:09.729516Z",
          "iopub.status.busy": "2023-09-01T16:52:09.729123Z",
          "iopub.status.idle": "2023-09-01T16:52:09.732880Z",
          "shell.execute_reply": "2023-09-01T16:52:09.732476Z"
        },
        "papermill": {
          "duration": 0.01659,
          "end_time": "2023-09-01T16:52:09.734011",
          "exception": false,
          "start_time": "2023-09-01T16:52:09.717421",
          "status": "completed"
        },
        "tags": []
      },
      "outputs": [],
      "source": [
        "def good_model(x=jnp.array(3.0), y=jnp.array(4.0)) -> SDict:\n",
        "    return {(\"in0\", \"out0\"): jnp.array(3.0)}\n",
        "\n",
        "\n",
        "assert validate_model(good_model) is None"
      ]
    },
    {
      "cell_type": "code",
      "execution_count": 40,
      "id": "181c72fa",
      "metadata": {
        "execution": {
          "iopub.execute_input": "2023-09-01T16:52:09.757122Z",
          "iopub.status.busy": "2023-09-01T16:52:09.756699Z",
          "iopub.status.idle": "2023-09-01T16:52:09.760983Z",
          "shell.execute_reply": "2023-09-01T16:52:09.760544Z"
        },
        "papermill": {
          "duration": 0.017277,
          "end_time": "2023-09-01T16:52:09.762160",
          "exception": false,
          "start_time": "2023-09-01T16:52:09.744883",
          "status": "completed"
        },
        "tags": []
      },
      "outputs": [],
      "source": [
        "def bad_model(positional_argument, x=jnp.array(3.0), y=jnp.array(4.0)) -> SDict:\n",
        "    return {(\"in0\", \"out0\"): jnp.array(3.0)}\n",
        "\n",
        "\n",
        "with raises(ValueError):\n",
        "    validate_model(bad_model)"
      ]
    },
    {
      "cell_type": "markdown",
      "id": "1383869b5acc72b8",
      "metadata": {},
      "source": [
        ":::{eval-rst}\n",
        ".. autofunction:: sax.typing_.is_stype\n",
        ":::\n"
      ]
    },
    {
      "cell_type": "code",
      "execution_count": 41,
      "id": "b806421c2894502f",
      "metadata": {
        "execution": {
          "iopub.execute_input": "2023-09-01T16:52:09.785113Z",
          "iopub.status.busy": "2023-09-01T16:52:09.784899Z",
          "iopub.status.idle": "2023-09-01T16:52:09.788468Z",
          "shell.execute_reply": "2023-09-01T16:52:09.788068Z"
        },
        "papermill": {
          "duration": 0.016515,
          "end_time": "2023-09-01T16:52:09.789660",
          "exception": false,
          "start_time": "2023-09-01T16:52:09.773145",
          "status": "completed"
        },
        "tags": [
          "hide-input"
        ]
      },
      "outputs": [],
      "source": [
        "def is_stype(stype: Any) -> bool:\n",
        "    \"\"\"check if an object is an SDict, SCoo or SDense\"\"\"\n",
        "    return is_sdict(stype) or is_scoo(stype) or is_sdense(stype)"
      ]
    },
    {
      "cell_type": "markdown",
      "id": "a5aef949d210088e",
      "metadata": {},
      "source": [
        ":::{eval-rst}\n",
        ".. autofunction:: sax.typing_.is_singlemode\n",
        ":::\n"
      ]
    },
    {
      "cell_type": "code",
      "execution_count": 42,
      "id": "f0672d02bbf3854e",
      "metadata": {
        "execution": {
          "iopub.execute_input": "2023-09-01T16:52:09.812622Z",
          "iopub.status.busy": "2023-09-01T16:52:09.812197Z",
          "iopub.status.idle": "2023-09-01T16:52:09.816392Z",
          "shell.execute_reply": "2023-09-01T16:52:09.816012Z"
        },
        "papermill": {
          "duration": 0.016989,
          "end_time": "2023-09-01T16:52:09.817486",
          "exception": false,
          "start_time": "2023-09-01T16:52:09.800497",
          "status": "completed"
        },
        "tags": [
          "hide-input"
        ]
      },
      "outputs": [],
      "source": [
        "def is_singlemode(S: Any) -> bool:\n",
        "    \"\"\"check if an stype is single mode\"\"\"\n",
        "    if not is_stype(S):\n",
        "        return False\n",
        "    ports = _get_ports(S)\n",
        "    return not any((\"@\" in p) for p in ports)\n",
        "\n",
        "def _get_ports(S: SType):\n",
        "    if is_sdict(S):\n",
        "        S = cast(SDict, S)\n",
        "        ports_set = {p1 for p1, _ in S} | {p2 for _, p2 in S}\n",
        "        return tuple(natsorted(ports_set))\n",
        "    else:\n",
        "        *_, ports_map = S\n",
        "        assert isinstance(ports_map, dict)\n",
        "        return tuple(natsorted(ports_map.keys()))"
      ]
    },
    {
      "cell_type": "markdown",
      "id": "8e5b1bb42d32c27b",
      "metadata": {},
      "source": [
        ":::{eval-rst}\n",
        ".. autofunction:: sax.typing_.is_multimode\n",
        ":::\n"
      ]
    },
    {
      "cell_type": "code",
      "execution_count": 43,
      "id": "c1bd305c63651eae",
      "metadata": {
        "execution": {
          "iopub.execute_input": "2023-09-01T16:52:09.840856Z",
          "iopub.status.busy": "2023-09-01T16:52:09.840432Z",
          "iopub.status.idle": "2023-09-01T16:52:09.843727Z",
          "shell.execute_reply": "2023-09-01T16:52:09.843316Z"
        },
        "papermill": {
          "duration": 0.01638,
          "end_time": "2023-09-01T16:52:09.844853",
          "exception": false,
          "start_time": "2023-09-01T16:52:09.828473",
          "status": "completed"
        },
        "tags": [
          "hide-input"
        ]
      },
      "outputs": [],
      "source": [
        "def is_multimode(S: Any) -> bool:\n",
        "    \"\"\"check if an stype is single mode\"\"\"\n",
        "    if not is_stype(S):\n",
        "        return False\n",
        "    \n",
        "    ports = _get_ports(S)\n",
        "    return all((\"@\" in p) for p in ports)"
      ]
    },
    {
      "cell_type": "markdown",
      "id": "2e5b3f2d5809231f",
      "metadata": {},
      "source": [
        ":::{eval-rst}\n",
        ".. autofunction:: sax.typing_.is_mixedmode\n",
        ":::\n"
      ]
    },
    {
      "cell_type": "code",
      "execution_count": 44,
      "id": "66aa12c2da901815",
      "metadata": {
        "execution": {
          "iopub.execute_input": "2023-09-01T16:52:09.868114Z",
          "iopub.status.busy": "2023-09-01T16:52:09.867564Z",
          "iopub.status.idle": "2023-09-01T16:52:09.870525Z",
          "shell.execute_reply": "2023-09-01T16:52:09.870098Z"
        },
        "papermill": {
          "duration": 0.015908,
          "end_time": "2023-09-01T16:52:09.871655",
          "exception": false,
          "start_time": "2023-09-01T16:52:09.855747",
          "status": "completed"
        },
        "tags": [
          "hide-input"
        ]
      },
      "outputs": [],
      "source": [
        "def is_mixedmode(S: Any) -> bool:\n",
        "    \"\"\"check if an stype is neither single mode nor multimode (hence invalid)\"\"\"\n",
        "    return not is_singlemode(S) and not is_multimode(S)"
      ]
    },
    {
      "cell_type": "markdown",
      "id": "3afe685c",
      "metadata": {
        "papermill": {
          "duration": 0.010891,
          "end_time": "2023-09-01T16:52:09.893461",
          "exception": false,
          "start_time": "2023-09-01T16:52:09.882570",
          "status": "completed"
        },
        "tags": []
      },
      "source": [
        "## SAX return type helpers\n",
        "\n",
        "> a.k.a SDict, SDense, SCoo helpers"
      ]
    },
    {
      "cell_type": "markdown",
      "id": "a875f149",
      "metadata": {
        "papermill": {
          "duration": 0.010981,
          "end_time": "2023-09-01T16:52:09.915991",
          "exception": false,
          "start_time": "2023-09-01T16:52:09.905010",
          "status": "completed"
        },
        "tags": []
      },
      "source": [
        "Convert an `SDict`, `SCoo` or `SDense` into an `SDict` (or convert a model generating any of these types into a model generating an `SDict`):"
      ]
    },
    {
      "cell_type": "code",
      "execution_count": 45,
      "id": "eb126f220bacf82b",
      "metadata": {
        "execution": {
          "iopub.execute_input": "2023-09-01T16:52:09.939245Z",
          "iopub.status.busy": "2023-09-01T16:52:09.938780Z",
          "iopub.status.idle": "2023-09-01T16:52:09.941723Z",
          "shell.execute_reply": "2023-09-01T16:52:09.941351Z"
        },
        "papermill": {
          "duration": 0.01588,
          "end_time": "2023-09-01T16:52:09.942904",
          "exception": false,
          "start_time": "2023-09-01T16:52:09.927024",
          "status": "completed"
        },
        "tags": [
          "remove-cell"
        ]
      },
      "outputs": [],
      "source": [
        "\n",
        "@overload\n",
        "def sdict(S: Model) -> Model:\n",
        "    ...\n",
        "\n",
        "\n",
        "@overload\n",
        "def sdict(S: SType) -> SDict:\n",
        "    ..."
      ]
    },
    {
      "cell_type": "markdown",
      "id": "4158c83e465bcc94",
      "metadata": {},
      "source": [
        ":::{eval-rst}\n",
        ".. autofunction:: sax.typing_.sdict\n",
        ":::\n"
      ]
    },
    {
      "cell_type": "code",
      "execution_count": 46,
      "id": "773712efe75c66e4",
      "metadata": {
        "execution": {
          "iopub.execute_input": "2023-09-01T16:52:09.966372Z",
          "iopub.status.busy": "2023-09-01T16:52:09.965795Z",
          "iopub.status.idle": "2023-09-01T16:52:09.972694Z",
          "shell.execute_reply": "2023-09-01T16:52:09.972321Z"
        },
        "papermill": {
          "duration": 0.020092,
          "end_time": "2023-09-01T16:52:09.974026",
          "exception": false,
          "start_time": "2023-09-01T16:52:09.953934",
          "status": "completed"
        },
        "tags": [
          "hide-input"
        ]
      },
      "outputs": [],
      "source": [
        "def sdict(S: Union[Model, SType]) -> Union[Model, SType]:\n",
        "    \"\"\"Convert an `SCoo` or `SDense` to `SDict`\"\"\"\n",
        "\n",
        "    if is_model(S):\n",
        "        model = cast(Model, S)\n",
        "\n",
        "        @functools.wraps(model)\n",
        "        def wrapper(**kwargs):\n",
        "            return sdict(model(**kwargs))\n",
        "\n",
        "        return wrapper\n",
        "\n",
        "    elif is_scoo(S):\n",
        "        x_dict = _scoo_to_sdict(*cast(SCoo, S))\n",
        "    elif is_sdense(S):\n",
        "        x_dict = _sdense_to_sdict(*cast(SDense, S))\n",
        "    elif is_sdict(S):\n",
        "        x_dict = cast(SDict, S)\n",
        "    else:\n",
        "        raise ValueError(\"Could not convert arguments to sdict.\")\n",
        "\n",
        "    return x_dict\n",
        "\n",
        "\n",
        "def _scoo_to_sdict(Si: Array, Sj: Array, Sx: Array, ports_map: Dict[str, int]) -> SDict:\n",
        "    sdict = {}\n",
        "    inverse_ports_map = {int(i): p for p, i in ports_map.items()}\n",
        "    for i, (si, sj) in enumerate(zip(Si, Sj)):\n",
        "        sdict[\n",
        "            inverse_ports_map.get(int(si), \"\"), inverse_ports_map.get(int(sj), \"\")\n",
        "        ] = Sx[..., i]\n",
        "    sdict = {(p1, p2): v for (p1, p2), v in sdict.items() if p1 and p2}\n",
        "    return sdict\n",
        "\n",
        "\n",
        "def _sdense_to_sdict(S: Array, ports_map: Dict[str, int]) -> SDict:\n",
        "    sdict = {}\n",
        "    for p1, i in ports_map.items():\n",
        "        for p2, j in ports_map.items():\n",
        "            sdict[p1, p2] = S[..., i, j]\n",
        "    return sdict"
      ]
    },
    {
      "cell_type": "code",
      "execution_count": 47,
      "id": "9a372fbf",
      "metadata": {
        "execution": {
          "iopub.execute_input": "2023-09-01T16:52:09.997159Z",
          "iopub.status.busy": "2023-09-01T16:52:09.996768Z",
          "iopub.status.idle": "2023-09-01T16:52:10.082822Z",
          "shell.execute_reply": "2023-09-01T16:52:10.082377Z"
        },
        "papermill": {
          "duration": 0.09927,
          "end_time": "2023-09-01T16:52:10.084253",
          "exception": false,
          "start_time": "2023-09-01T16:52:09.984983",
          "status": "completed"
        },
        "tags": []
      },
      "outputs": [],
      "source": [
        "assert sdict(_sdict) is _sdict\n",
        "assert sdict(_scoo) == {\n",
        "    (\"in0\", \"in0\"): 3.0,\n",
        "    (\"in1\", \"in0\"): 1.0,\n",
        "    (\"out0\", \"out0\"): 4.0,\n",
        "}\n",
        "assert sdict(_sdense) == {\n",
        "    (\"in0\", \"in0\"): 0.0,\n",
        "    (\"in0\", \"out0\"): 1.0,\n",
        "    (\"in0\", \"in1\"): 2.0,\n",
        "    (\"out0\", \"in0\"): 3.0,\n",
        "    (\"out0\", \"out0\"): 4.0,\n",
        "    (\"out0\", \"in1\"): 5.0,\n",
        "    (\"in1\", \"in0\"): 6.0,\n",
        "    (\"in1\", \"out0\"): 7.0,\n",
        "    (\"in1\", \"in1\"): 8.0,\n",
        "}"
      ]
    },
    {
      "cell_type": "markdown",
      "id": "492c5cdd",
      "metadata": {
        "papermill": {
          "duration": 0.011132,
          "end_time": "2023-09-01T16:52:10.106573",
          "exception": false,
          "start_time": "2023-09-01T16:52:10.095441",
          "status": "completed"
        },
        "tags": []
      },
      "source": [
        "Convert an `SDict`, `SCoo` or `SDense` into an `SCoo` (or convert a model generating any of these types into a model generating an `SCoo`):"
      ]
    },
    {
      "cell_type": "code",
      "execution_count": 48,
      "id": "1609016615fc8980",
      "metadata": {
        "execution": {
          "iopub.execute_input": "2023-09-01T16:52:10.130154Z",
          "iopub.status.busy": "2023-09-01T16:52:10.129712Z",
          "iopub.status.idle": "2023-09-01T16:52:10.132884Z",
          "shell.execute_reply": "2023-09-01T16:52:10.132415Z"
        },
        "papermill": {
          "duration": 0.016375,
          "end_time": "2023-09-01T16:52:10.134043",
          "exception": false,
          "start_time": "2023-09-01T16:52:10.117668",
          "status": "completed"
        },
        "tags": [
          "remove-cell"
        ]
      },
      "outputs": [],
      "source": [
        "\n",
        "@overload\n",
        "def scoo(S: Callable) -> Callable:\n",
        "    ...\n",
        "\n",
        "\n",
        "@overload\n",
        "def scoo(S: SType) -> SCoo:\n",
        "    ..."
      ]
    },
    {
      "cell_type": "markdown",
      "id": "2b82d6c28a437244",
      "metadata": {},
      "source": [
        ":::{eval-rst}\n",
        ".. autofunction:: sax.typing_.scoo\n",
        ":::\n"
      ]
    },
    {
      "cell_type": "code",
      "execution_count": 49,
      "id": "833b727e02681306",
      "metadata": {
        "execution": {
          "iopub.execute_input": "2023-09-01T16:52:10.158064Z",
          "iopub.status.busy": "2023-09-01T16:52:10.157371Z",
          "iopub.status.idle": "2023-09-01T16:52:10.165495Z",
          "shell.execute_reply": "2023-09-01T16:52:10.165043Z"
        },
        "papermill": {
          "duration": 0.021356,
          "end_time": "2023-09-01T16:52:10.166673",
          "exception": false,
          "start_time": "2023-09-01T16:52:10.145317",
          "status": "completed"
        },
        "tags": [
          "hide-input"
        ]
      },
      "outputs": [],
      "source": [
        "\n",
        "def scoo(S: Union[Callable, SType]) -> Union[Callable, SCoo]:\n",
        "    \"\"\"Convert an `SDict` or `SDense` to `SCoo`\"\"\"\n",
        "\n",
        "    if is_model(S):\n",
        "        model = cast(Model, S)\n",
        "\n",
        "        @functools.wraps(model)\n",
        "        def wrapper(**kwargs):\n",
        "            return scoo(model(**kwargs))\n",
        "\n",
        "        return wrapper\n",
        "\n",
        "    elif is_scoo(S):\n",
        "        S = cast(SCoo, S)\n",
        "    elif is_sdense(S):\n",
        "        S = _sdense_to_scoo(*cast(SDense, S))\n",
        "    elif is_sdict(S):\n",
        "        S = _sdict_to_scoo(cast(SDict, S))\n",
        "    else:\n",
        "        raise ValueError(\"Could not convert arguments to scoo.\")\n",
        "\n",
        "    return S\n",
        "\n",
        "def _consolidate_sdense(S, pm):\n",
        "    idxs = list(pm.values())\n",
        "    S = S[..., idxs, :][..., :, idxs]\n",
        "    pm = {p: i for i, p in enumerate(pm)}\n",
        "    return S, pm\n",
        "\n",
        "def _sdense_to_scoo(S: Array, ports_map: Dict[str, int]) -> SCoo:\n",
        "    S, ports_map = _consolidate_sdense(S, ports_map)\n",
        "    Sj, Si = jnp.meshgrid(jnp.arange(S.shape[-1]), jnp.arange(S.shape[-2]))\n",
        "    return Si.ravel(), Sj.ravel(), S.reshape(*S.shape[:-2], -1), ports_map\n",
        "\n",
        "\n",
        "def _sdict_to_scoo(sdict: SDict) -> SCoo:\n",
        "    all_ports = {}\n",
        "    for p1, p2 in sdict:\n",
        "        all_ports[p1] = None\n",
        "        all_ports[p2] = None\n",
        "    ports_map = {p: i for i, p in enumerate(all_ports)}\n",
        "    Sx = jnp.stack(jnp.broadcast_arrays(*sdict.values()), -1)\n",
        "    Si = jnp.array([ports_map[p] for p, _ in sdict])\n",
        "    Sj = jnp.array([ports_map[p] for _, p in sdict])\n",
        "    return Si, Sj, Sx, ports_map"
      ]
    },
    {
      "cell_type": "code",
      "execution_count": 50,
      "id": "2e409185-a9f6-4ea9-af09-1c184557f02d",
      "metadata": {
        "execution": {
          "iopub.execute_input": "2023-09-01T16:52:10.190600Z",
          "iopub.status.busy": "2023-09-01T16:52:10.190029Z",
          "iopub.status.idle": "2023-09-01T16:52:10.334939Z",
          "shell.execute_reply": "2023-09-01T16:52:10.334431Z"
        },
        "papermill": {
          "duration": 0.158503,
          "end_time": "2023-09-01T16:52:10.336539",
          "exception": false,
          "start_time": "2023-09-01T16:52:10.178036",
          "status": "completed"
        },
        "tags": []
      },
      "outputs": [
        {
          "data": {
            "text/plain": [
              "(Array([0, 0, 0, 1, 1, 1, 2, 2, 2], dtype=int32),\n",
              " Array([0, 1, 2, 0, 1, 2, 0, 1, 2], dtype=int32),\n",
              " Array([0., 2., 1., 6., 8., 7., 3., 5., 4.], dtype=float32),\n",
              " {'in0': 0, 'in1': 1, 'out0': 2})"
            ]
          },
          "execution_count": 50,
          "metadata": {},
          "output_type": "execute_result"
        }
      ],
      "source": [
        "scoo(_sdense)"
      ]
    },
    {
      "cell_type": "code",
      "execution_count": 51,
      "id": "1e97b31c",
      "metadata": {
        "execution": {
          "iopub.execute_input": "2023-09-01T16:52:10.360866Z",
          "iopub.status.busy": "2023-09-01T16:52:10.360293Z",
          "iopub.status.idle": "2023-09-01T16:52:10.413881Z",
          "shell.execute_reply": "2023-09-01T16:52:10.413448Z"
        },
        "papermill": {
          "duration": 0.067332,
          "end_time": "2023-09-01T16:52:10.415401",
          "exception": false,
          "start_time": "2023-09-01T16:52:10.348069",
          "status": "completed"
        },
        "tags": []
      },
      "outputs": [],
      "source": [
        "assert scoo(_scoo) is _scoo\n",
        "assert scoo(_sdict) == (0, 1, 3.0, {\"in0\": 0, \"out0\": 1})\n",
        "Si, Sj, Sx, port_map = scoo(_sdense)  # type: ignore\n",
        "np.testing.assert_array_equal(Si, jnp.array([0, 0, 0, 1, 1, 1, 2, 2, 2]))\n",
        "np.testing.assert_array_equal(Sj, jnp.array([0, 1, 2, 0, 1, 2, 0, 1, 2]))\n",
        "np.testing.assert_array_almost_equal(Sx, jnp.array([0.0, 2.0, 1.0, 6.0, 8.0, 7.0, 3.0, 5.0, 4.0]))\n",
        "assert port_map == {\"in0\": 0, \"in1\": 1, \"out0\": 2}"
      ]
    },
    {
      "cell_type": "markdown",
      "id": "5e58325b",
      "metadata": {
        "papermill": {
          "duration": 0.011522,
          "end_time": "2023-09-01T16:52:10.438621",
          "exception": false,
          "start_time": "2023-09-01T16:52:10.427099",
          "status": "completed"
        },
        "tags": []
      },
      "source": [
        "Convert an `SDict`, `SCoo` or `SDense` into an `SDense` (or convert a model generating any of these types into a model generating an `SDense`):"
      ]
    },
    {
      "cell_type": "code",
      "execution_count": 52,
      "id": "fcb787ca35709128",
      "metadata": {
        "execution": {
          "iopub.execute_input": "2023-09-01T16:52:10.464040Z",
          "iopub.status.busy": "2023-09-01T16:52:10.463589Z",
          "iopub.status.idle": "2023-09-01T16:52:10.466507Z",
          "shell.execute_reply": "2023-09-01T16:52:10.466146Z"
        },
        "papermill": {
          "duration": 0.017239,
          "end_time": "2023-09-01T16:52:10.467712",
          "exception": false,
          "start_time": "2023-09-01T16:52:10.450473",
          "status": "completed"
        },
        "tags": [
          "remove-cell"
        ]
      },
      "outputs": [],
      "source": [
        "\n",
        "@overload\n",
        "def sdense(S: Callable) -> Callable:\n",
        "    ...\n",
        "\n",
        "\n",
        "@overload\n",
        "def sdense(S: SType) -> SDense:\n",
        "    ..."
      ]
    },
    {
      "cell_type": "markdown",
      "id": "3ffbb3453cedca0f",
      "metadata": {},
      "source": [
        ":::{eval-rst}\n",
        ".. autofunction:: sax.typing_.sdense\n",
        ":::\n"
      ]
    },
    {
      "cell_type": "code",
      "execution_count": 53,
      "id": "deb7f4d000330078",
      "metadata": {
        "execution": {
          "iopub.execute_input": "2023-09-01T16:52:10.492362Z",
          "iopub.status.busy": "2023-09-01T16:52:10.491952Z",
          "iopub.status.idle": "2023-09-01T16:52:10.497669Z",
          "shell.execute_reply": "2023-09-01T16:52:10.497300Z"
        },
        "papermill": {
          "duration": 0.019465,
          "end_time": "2023-09-01T16:52:10.498714",
          "exception": false,
          "start_time": "2023-09-01T16:52:10.479249",
          "status": "completed"
        },
        "tags": [
          "hide-input"
        ]
      },
      "outputs": [],
      "source": [
        "\n",
        "def sdense(S: Union[Callable, SType]) -> Union[Callable, SDense]:\n",
        "    \"\"\"Convert an `SDict` or `SCoo` to `SDense`\"\"\"\n",
        "\n",
        "    if is_model(S):\n",
        "        model = cast(Model, S)\n",
        "\n",
        "        @functools.wraps(model)\n",
        "        def wrapper(**kwargs):\n",
        "            return sdense(model(**kwargs))\n",
        "\n",
        "        return wrapper\n",
        "\n",
        "    if is_sdict(S):\n",
        "        S = _sdict_to_sdense(cast(SDict, S))\n",
        "    elif is_scoo(S):\n",
        "        S = _scoo_to_sdense(*cast(SCoo, S))\n",
        "    elif is_sdense(S):\n",
        "        S = cast(SDense, S)\n",
        "    else:\n",
        "        raise ValueError(\"Could not convert arguments to sdense.\")\n",
        "\n",
        "    return S\n",
        "\n",
        "\n",
        "def _scoo_to_sdense(\n",
        "    Si: Array, Sj: Array, Sx: Array, ports_map: Dict[str, int]\n",
        ") -> SDense:\n",
        "    n_col = len(ports_map)\n",
        "    S = jnp.zeros((*Sx.shape[:-1], n_col, n_col), dtype=complex)\n",
        "    if JAX_AVAILABLE:\n",
        "        S = S.at[..., Si, Sj].add(Sx)\n",
        "    else:\n",
        "        S[..., Si, Sj] = Sx\n",
        "    return S, ports_map\n",
        "\n",
        "def _sdict_to_sdense(sdict: SDict) -> SDense:\n",
        "    Si, Sj, Sx, ports_map = _sdict_to_scoo(sdict)\n",
        "    return _scoo_to_sdense(Si, Sj, Sx, ports_map)"
      ]
    },
    {
      "cell_type": "code",
      "execution_count": 54,
      "id": "084b7ddb",
      "metadata": {
        "execution": {
          "iopub.execute_input": "2023-09-01T16:52:10.523081Z",
          "iopub.status.busy": "2023-09-01T16:52:10.522703Z",
          "iopub.status.idle": "2023-09-01T16:52:10.601593Z",
          "shell.execute_reply": "2023-09-01T16:52:10.601141Z"
        },
        "papermill": {
          "duration": 0.092595,
          "end_time": "2023-09-01T16:52:10.603137",
          "exception": false,
          "start_time": "2023-09-01T16:52:10.510542",
          "status": "completed"
        },
        "tags": []
      },
      "outputs": [],
      "source": [
        "assert sdense(_sdense) is _sdense\n",
        "Sd, port_map = sdense(_scoo)  # type: ignore\n",
        "Sd_ = jnp.array([[3.0 + 0.0j, 0.0 + 0.0j, 0.0 + 0.0j],\n",
        "                 [0.0 + 0.0j, 4.0 + 0.0j, 0.0 + 0.0j],\n",
        "                 [1.0 + 0.0j, 0.0 + 0.0j, 0.0 + 0.0j]])\n",
        "\n",
        "np.testing.assert_array_almost_equal(Sd, Sd_)\n",
        "assert port_map == {\"in0\": 0, \"in1\": 2, \"out0\": 1}"
      ]
    },
    {
      "cell_type": "markdown",
      "id": "22a597c1aa47e5fa",
      "metadata": {},
      "source": [
        ":::{eval-rst}\n",
        ".. autofunction:: sax.typing_.modelfactory\n",
        ":::\n"
      ]
    },
    {
      "cell_type": "code",
      "execution_count": 55,
      "id": "24fc9fb4acc82919",
      "metadata": {
        "execution": {
          "iopub.execute_input": "2023-09-01T16:52:10.627826Z",
          "iopub.status.busy": "2023-09-01T16:52:10.627225Z",
          "iopub.status.idle": "2023-09-01T16:52:10.630389Z",
          "shell.execute_reply": "2023-09-01T16:52:10.630065Z"
        },
        "papermill": {
          "duration": 0.016744,
          "end_time": "2023-09-01T16:52:10.631497",
          "exception": false,
          "start_time": "2023-09-01T16:52:10.614753",
          "status": "completed"
        },
        "tags": [
          "hide-input"
        ]
      },
      "outputs": [],
      "source": [
        "\n",
        "def modelfactory(func):\n",
        "    \"\"\"Decorator that marks a function as `ModelFactory`\"\"\"\n",
        "    sig = inspect.signature(func)\n",
        "    if _is_callable_annotation(sig.return_annotation):  # already model factory\n",
        "        return func\n",
        "    func.__signature__ = sig.replace(return_annotation=Model)\n",
        "    return func"
      ]
    }
  ],
  "metadata": {
    "kernelspec": {
      "display_name": "sax",
      "language": "python",
      "name": "sax"
    },
    "language_info": {
      "codemirror_mode": {
        "name": "ipython",
        "version": 3
      },
      "file_extension": ".py",
      "mimetype": "text/x-python",
      "name": "python",
      "nbconvert_exporter": "python",
      "pygments_lexer": "ipython3",
      "version": "3.11.5"
    },
    "papermill": {
      "default_parameters": {},
      "duration": 5.253657,
      "end_time": "2023-09-01T16:52:11.059967",
      "environment_variables": {},
      "exception": null,
      "input_path": "./nbs/00_typing.ipynb",
      "output_path": "./nbs/00_typing.ipynb",
      "parameters": {},
      "start_time": "2023-09-01T16:52:05.806310",
      "version": "2.4.0"
    }
  },
  "nbformat": 4,
  "nbformat_minor": 5
}