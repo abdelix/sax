{
  "cells": [
    {
      "cell_type": "code",
      "execution_count": 1,
      "id": "85d30f5d903f4383",
      "metadata": {
        "execution": {
          "iopub.execute_input": "2023-09-01T15:54:00.887243Z",
          "iopub.status.busy": "2023-09-01T15:54:00.886587Z",
          "iopub.status.idle": "2023-09-01T15:54:00.891323Z",
          "shell.execute_reply": "2023-09-01T15:54:00.890546Z"
        },
        "papermill": {
          "duration": 0.018485,
          "end_time": "2023-09-01T15:54:00.892985",
          "exception": false,
          "start_time": "2023-09-01T15:54:00.874500",
          "status": "completed"
        },
        "tags": [
          "remove-cell"
        ]
      },
      "outputs": [],
      "source": []
    },
    {
      "cell_type": "markdown",
      "id": "2c9c99fe",
      "metadata": {
        "papermill": {
          "duration": 0.006104,
          "end_time": "2023-09-01T15:54:00.905854",
          "exception": false,
          "start_time": "2023-09-01T15:54:00.899750",
          "status": "completed"
        },
        "tags": []
      },
      "source": [
        "# Circuit\n",
        "\n",
        "> SAX Circuits"
      ]
    },
    {
      "cell_type": "markdown",
      "id": "0648dc6e-c0bd-45db-810a-d0c40af04837",
      "metadata": {
        "papermill": {
          "duration": 0.006167,
          "end_time": "2023-09-01T15:54:00.919477",
          "exception": false,
          "start_time": "2023-09-01T15:54:00.913310",
          "status": "completed"
        },
        "tags": []
      },
      "source": [
        "Let's start where we left off (see [Netlist](06_netlist.ipynb))."
      ]
    },
    {
      "cell_type": "code",
      "execution_count": 2,
      "id": "0bc2377dc66c0245",
      "metadata": {
        "execution": {
          "iopub.execute_input": "2023-09-01T15:54:00.979387Z",
          "iopub.status.busy": "2023-09-01T15:54:00.978887Z",
          "iopub.status.idle": "2023-09-01T15:54:01.510262Z",
          "shell.execute_reply": "2023-09-01T15:54:01.509407Z"
        },
        "papermill": {
          "duration": 0.541331,
          "end_time": "2023-09-01T15:54:01.512833",
          "exception": false,
          "start_time": "2023-09-01T15:54:00.971502",
          "status": "completed"
        },
        "tags": [
          "remove-cell"
        ]
      },
      "outputs": [],
      "source": [
        "import os\n",
        "import warnings\n",
        "\n",
        "try:\n",
        "    from jax import jit\n",
        "except ImportError:\n",
        "    jit = lambda x: x\n",
        "\n",
        "os.environ[\"LOGURU_LEVEL\"] = \"CRITICAL\"\n",
        "warnings.filterwarnings(\"ignore\")"
      ]
    },
    {
      "cell_type": "code",
      "execution_count": 3,
      "id": "d7f99c5a1d0ab247",
      "metadata": {
        "execution": {
          "iopub.execute_input": "2023-09-01T15:54:01.527616Z",
          "iopub.status.busy": "2023-09-01T15:54:01.527018Z",
          "iopub.status.idle": "2023-09-01T15:54:02.005725Z",
          "shell.execute_reply": "2023-09-01T15:54:02.004894Z"
        },
        "papermill": {
          "duration": 0.489631,
          "end_time": "2023-09-01T15:54:02.008882",
          "exception": false,
          "start_time": "2023-09-01T15:54:01.519251",
          "status": "completed"
        },
        "tags": [
          "hide-input"
        ]
      },
      "outputs": [],
      "source": [
        "from __future__ import annotations\n",
        "\n",
        "import os\n",
        "import shutil\n",
        "import sys\n",
        "from functools import partial\n",
        "from typing import Any, Dict, List, NamedTuple, Optional, Tuple, TypedDict, Union\n",
        "\n",
        "import black\n",
        "import networkx as nx\n",
        "import numpy as np\n",
        "from sax import reciprocal\n",
        "from sax.backends import circuit_backends\n",
        "from sax.multimode import multimode, singlemode\n",
        "from sax.netlist import Netlist, RecursiveNetlist\n",
        "from sax.netlist_cleaning import remove_unused_instances\n",
        "from sax.typing_ import Model, Settings, SType, sdense\n",
        "from sax.utils import _replace_kwargs, get_settings, merge_dicts, update_settings"
      ]
    },
    {
      "cell_type": "code",
      "execution_count": 4,
      "id": "37da0f1daaa2d06d",
      "metadata": {
        "execution": {
          "iopub.execute_input": "2023-09-01T15:54:02.025742Z",
          "iopub.status.busy": "2023-09-01T15:54:02.024833Z",
          "iopub.status.idle": "2023-09-01T15:54:02.028607Z",
          "shell.execute_reply": "2023-09-01T15:54:02.028040Z"
        },
        "papermill": {
          "duration": 0.014523,
          "end_time": "2023-09-01T15:54:02.030345",
          "exception": false,
          "start_time": "2023-09-01T15:54:02.015822",
          "status": "completed"
        },
        "tags": [
          "hide-input"
        ]
      },
      "outputs": [],
      "source": [
        "try:\n",
        "    from pydantic.v1 import ValidationError\n",
        "except ImportError:\n",
        "    from pydantic import ValidationError"
      ]
    },
    {
      "cell_type": "markdown",
      "id": "45ad2306-1ead-4b8c-b91e-c02ce4569b3a",
      "metadata": {
        "papermill": {
          "duration": 0.007395,
          "end_time": "2023-09-01T15:54:02.043922",
          "exception": false,
          "start_time": "2023-09-01T15:54:02.036527",
          "status": "completed"
        },
        "tags": []
      },
      "source": [
        "Let's start by creating a simple recursive netlist with gdsfactory.\n",
        "\n",
        ":::{note}\n",
        "We are using gdsfactory to create our netlist because it allows us to see the circuit we want to simulate and because we're striving to have a compatible netlist implementation in SAX.\n",
        "\n",
        "However... gdsfactory is not a dependency of SAX. You can also define your circuits by hand (see [SAX Quick Start](../examples/01_quick_start.ipynb) or you can use another tool to programmatically construct your netlists.\n",
        ":::"
      ]
    },
    {
      "cell_type": "code",
      "execution_count": 5,
      "id": "804a1c9b-c02b-4af6-ba3d-858f76634a69",
      "metadata": {
        "execution": {
          "iopub.execute_input": "2023-09-01T15:54:02.058643Z",
          "iopub.status.busy": "2023-09-01T15:54:02.057593Z",
          "iopub.status.idle": "2023-09-01T15:54:03.720902Z",
          "shell.execute_reply": "2023-09-01T15:54:03.720137Z"
        },
        "papermill": {
          "duration": 1.672524,
          "end_time": "2023-09-01T15:54:03.722715",
          "exception": false,
          "start_time": "2023-09-01T15:54:02.050191",
          "status": "completed"
        },
        "tags": []
      },
      "outputs": [],
      "source": [
        "import gdsfactory as gf\n",
        "from IPython.display import display\n",
        "from gdsfactory.components import mzi\n",
        "from gdsfactory.get_netlist import get_netlist_recursive, get_netlist, get_netlist_yaml\n",
        "\n",
        "\n",
        "@gf.cell\n",
        "def twomzi():\n",
        "    c = gf.Component()\n",
        "\n",
        "    # instances\n",
        "    mzi1 = mzi(delta_length=10)\n",
        "    mzi2 = mzi(delta_length=20)\n",
        "\n",
        "    # references\n",
        "    mzi1_ = c << mzi1\n",
        "    mzi2_ = c << mzi2\n",
        "\n",
        "    # connections\n",
        "    mzi2_.connect(\"o1\", mzi1_.ports[\"o2\"])\n",
        "\n",
        "    # ports\n",
        "    c.add_port(\"o1\", port=mzi1_.ports[\"o1\"])\n",
        "    c.add_port(\"o2\", port=mzi2_.ports[\"o2\"])\n",
        "    return c\n",
        "\n",
        "\n",
        "comp = twomzi()\n",
        "display(comp)\n",
        "recnet = RecursiveNetlist.parse_obj(\n",
        "    get_netlist_recursive(\n",
        "        comp, get_netlist_func=partial(get_netlist, full_settings=True)\n",
        "    )\n",
        ")\n",
        "flatnet = recnet.__root__[\"mzi_delta_length10\"]"
      ]
    },
    {
      "cell_type": "markdown",
      "id": "2b2a38fb-c83e-4b71-b195-ecca485fb0a3",
      "metadata": {
        "papermill": {
          "duration": 0.006828,
          "end_time": "2023-09-01T15:54:03.738033",
          "exception": false,
          "start_time": "2023-09-01T15:54:03.731205",
          "status": "completed"
        },
        "tags": []
      },
      "source": [
        "To be able to model this device we'll need some SAX dummy models:"
      ]
    },
    {
      "cell_type": "code",
      "execution_count": null,
      "id": "5d05cfdc2ac85614",
      "metadata": {
        "execution": {},
        "papermill": {
          "duration": 1.009466,
          "end_time": "2023-09-01T15:54:04.759803",
          "exception": false,
          "start_time": "2023-09-01T15:54:03.750337",
          "status": "completed"
        },
        "tags": [
          "remove-cell"
        ]
      },
      "outputs": [],
      "source": [
        "def bend_euler(\n",
        "    angle=90.0,\n",
        "    p=0.5,\n",
        "    # cross_section=\"strip\",\n",
        "    # direction=\"ccw\",\n",
        "    # with_bbox=True,\n",
        "    # with_arc_floorplan=True,\n",
        "    # npoints=720,\n",
        "):\n",
        "    return reciprocal({\n",
        "        ('o1', 'o2'): 1.0\n",
        "    })"
      ]
    },
    {
      "cell_type": "code",
      "execution_count": null,
      "id": "ed47b6ca185404ee",
      "metadata": {
        "papermill": {
          "duration": null,
          "end_time": null,
          "exception": null,
          "start_time": null,
          "status": "completed"
        },
        "tags": [
          "remove-cell"
        ]
      },
      "outputs": [],
      "source": [
        "def mmi1x2(\n",
        "    width=0.5,\n",
        "    width_taper= 1.0,\n",
        "    length_taper= 10.0,\n",
        "    length_mmi= 5.5,\n",
        "    width_mmi= 2.5,\n",
        "    gap_mmi= 0.25,\n",
        "    # cross_section= strip,\n",
        "    # taper= {function= taper},\n",
        "    # with_bbox= True,\n",
        "):\n",
        "    return reciprocal({\n",
        "        ('o1', 'o2'): 0.45**0.5,\n",
        "        ('o1', 'o3'): 0.45**0.5,\n",
        "    })"
      ]
    },
    {
      "cell_type": "code",
      "execution_count": null,
      "id": "e964f698fa249898",
      "metadata": {
        "papermill": {
          "duration": null,
          "end_time": null,
          "exception": null,
          "start_time": null,
          "status": "completed"
        },
        "tags": [
          "remove-cell"
        ]
      },
      "outputs": [],
      "source": [
        "def mmi2x2(\n",
        "    width=0.5,\n",
        "    width_taper= 1.0,\n",
        "    length_taper= 10.0,\n",
        "    length_mmi= 5.5,\n",
        "    width_mmi= 2.5,\n",
        "    gap_mmi= 0.25,\n",
        "    # cross_section= strip,\n",
        "    # taper= {function= taper},\n",
        "    # with_bbox= True,\n",
        "):\n",
        "    return reciprocal({\n",
        "        ('o1', 'o3'): 0.45**0.5,\n",
        "        ('o1', 'o4'): 1j * 0.45**0.5,\n",
        "        ('o2', 'o3'): 1j * 0.45**0.5,\n",
        "        ('o2', 'o4'): 0.45**0.5,\n",
        "    })"
      ]
    },
    {
      "cell_type": "code",
      "execution_count": null,
      "id": "3ee9d969026b9a55",
      "metadata": {
        "papermill": {
          "duration": null,
          "end_time": null,
          "exception": null,
          "start_time": null,
          "status": "completed"
        },
        "tags": [
          "remove-cell"
        ]
      },
      "outputs": [],
      "source": [
        "def straight(\n",
        "    length=0.01,\n",
        "    #npoints=2,\n",
        "    #with_bbox=True,\n",
        "    #cross_section=...\n",
        "):\n",
        "    return reciprocal({\n",
        "        ('o1', 'o2'): 1.0\n",
        "    })"
      ]
    },
    {
      "cell_type": "markdown",
      "id": "8efe90e4-dfe6-40bd-aa0a-26c74738d688",
      "metadata": {
        "papermill": {
          "duration": null,
          "end_time": null,
          "exception": null,
          "start_time": null,
          "status": "completed"
        },
        "tags": []
      },
      "source": [
        "In SAX, we usually aggregate the available models in a models dictionary:"
      ]
    },
    {
      "cell_type": "code",
      "execution_count": null,
      "id": "c1ac9132-0ee2-443b-98f4-f790234551b0",
      "metadata": {
        "papermill": {
          "duration": null,
          "end_time": null,
          "exception": null,
          "start_time": null,
          "status": "completed"
        },
        "tags": []
      },
      "outputs": [],
      "source": [
        "models = {\n",
        "    'straight': straight,\n",
        "    'bend_euler': bend_euler,\n",
        "    'mmi1x2': mmi1x2,\n",
        "}"
      ]
    },
    {
      "cell_type": "markdown",
      "id": "3df7d9b6-acbb-4406-a3c8-8a9ad09db768",
      "metadata": {
        "papermill": {
          "duration": null,
          "end_time": null,
          "exception": null,
          "start_time": null,
          "status": "completed"
        },
        "tags": []
      },
      "source": [
        "We can now represent our recursive netlist model as a Directed Acyclic Graph:"
      ]
    },
    {
      "cell_type": "markdown",
      "id": "670f336ece51dfc8",
      "metadata": {},
      "source": [
        ":::{eval-rst}\n",
        ".. autofunction:: sax.circuit.create_dag\n",
        ":::\n"
      ]
    },
    {
      "cell_type": "code",
      "execution_count": null,
      "id": "b145b6bf76b3b3ff",
      "metadata": {
        "papermill": {
          "duration": null,
          "end_time": null,
          "exception": null,
          "start_time": null,
          "status": "completed"
        },
        "tags": [
          "hide-input"
        ]
      },
      "outputs": [],
      "source": [
        "def create_dag(\n",
        "    netlist: RecursiveNetlist,\n",
        "    models: Optional[Dict[str, Any]] = None,\n",
        "):\n",
        "    if models is None:\n",
        "        models = {}\n",
        "    assert isinstance(models, dict)\n",
        "\n",
        "    all_models = {}\n",
        "    g = nx.DiGraph()\n",
        "\n",
        "    for model_name, subnetlist in netlist.dict()[\"__root__\"].items():\n",
        "        if not model_name in all_models:\n",
        "            all_models[model_name] = models.get(model_name, subnetlist)\n",
        "            g.add_node(model_name)\n",
        "        if model_name in models:\n",
        "            continue\n",
        "        for instance in subnetlist[\"instances\"].values():\n",
        "            component = instance[\"component\"]\n",
        "            if not component in all_models:\n",
        "                all_models[component] = models.get(component, None)\n",
        "                g.add_node(component)\n",
        "            g.add_edge(model_name, component)\n",
        "\n",
        "    # we only need the nodes that depend on the parent...\n",
        "    parent_node = next(iter(netlist.__root__.keys()))\n",
        "    nodes = [parent_node, *nx.descendants(g, parent_node)]\n",
        "    g = nx.induced_subgraph(g, nodes)\n",
        "\n",
        "    return g"
      ]
    },
    {
      "cell_type": "markdown",
      "id": "20c70f162768a898",
      "metadata": {},
      "source": [
        ":::{eval-rst}\n",
        ".. autofunction:: sax.circuit.draw_dag\n",
        ":::\n"
      ]
    },
    {
      "cell_type": "code",
      "execution_count": null,
      "id": "ae3d6459b51c957a",
      "metadata": {
        "papermill": {
          "duration": null,
          "end_time": null,
          "exception": null,
          "start_time": null,
          "status": "completed"
        },
        "tags": [
          "hide-input"
        ]
      },
      "outputs": [],
      "source": [
        "def draw_dag(dag, with_labels=True, **kwargs):\n",
        "    _patch_path()\n",
        "    if shutil.which(\"dot\"):\n",
        "        return nx.draw(\n",
        "            dag,\n",
        "            nx.nx_pydot.pydot_layout(dag, prog=\"dot\"),\n",
        "            with_labels=with_labels,\n",
        "            **kwargs\n",
        "        )\n",
        "    else:\n",
        "        return nx.draw(dag, _my_dag_pos(dag), with_labels=with_labels, **kwargs)\n",
        "\n",
        "\n",
        "def _patch_path():\n",
        "    os_paths = {p: None for p in os.environ.get(\"PATH\", \"\").split(os.pathsep)}\n",
        "    sys_paths = {p: None for p in sys.path}\n",
        "    other_paths = {os.path.dirname(sys.executable): None}\n",
        "    os.environ[\"PATH\"] = os.pathsep.join({**os_paths, **sys_paths, **other_paths})\n",
        "\n",
        "\n",
        "def _my_dag_pos(dag):\n",
        "    # inferior to pydot\n",
        "    in_degree = {}\n",
        "    for k, v in dag.in_degree():\n",
        "        if v not in in_degree:\n",
        "            in_degree[v] = []\n",
        "        in_degree[v].append(k)\n",
        "\n",
        "    widths = {k: len(vs) for k, vs in in_degree.items()}\n",
        "    width = max(widths.values())\n",
        "    height = max(widths) + 1\n",
        "\n",
        "    horizontal_pos = {\n",
        "        k: np.linspace(0, 1, w + 2)[1:-1] * width for k, w in widths.items()\n",
        "    }\n",
        "\n",
        "    pos = {}\n",
        "    for k, vs in in_degree.items():\n",
        "        for x, v in zip(horizontal_pos[k], vs):\n",
        "            pos[v] = (x, -k)\n",
        "    return pos"
      ]
    },
    {
      "cell_type": "code",
      "execution_count": null,
      "id": "b6d6e06e-b501-4d3e-8eb6-0d7117abf8e8",
      "metadata": {
        "papermill": {
          "duration": null,
          "end_time": null,
          "exception": null,
          "start_time": null,
          "status": "completed"
        },
        "tags": []
      },
      "outputs": [],
      "source": [
        "dag = create_dag(recnet, models)\n",
        "draw_dag(dag)"
      ]
    },
    {
      "cell_type": "markdown",
      "id": "d081c64c-c42c-467e-885d-6e8db2cf64cc",
      "metadata": {
        "papermill": {
          "duration": null,
          "end_time": null,
          "exception": null,
          "start_time": null,
          "status": "completed"
        },
        "tags": []
      },
      "source": [
        "Note that the DAG depends on the models we supply. We could for example stub one of the sub-netlists by a pre-defined model:"
      ]
    },
    {
      "cell_type": "code",
      "execution_count": null,
      "id": "ebb11e68-ecc3-4d00-9870-b6682e06c39f",
      "metadata": {
        "papermill": {
          "duration": null,
          "end_time": null,
          "exception": null,
          "start_time": null,
          "status": "completed"
        },
        "tags": []
      },
      "outputs": [],
      "source": [
        "dag_ = create_dag(recnet, {**models, 'mzi_delta_length10': mmi2x2})\n",
        "draw_dag(dag_, with_labels=True)"
      ]
    },
    {
      "cell_type": "markdown",
      "id": "b68c2f1a-f062-4f8a-89a5-8608524a5c06",
      "metadata": {
        "papermill": {
          "duration": null,
          "end_time": null,
          "exception": null,
          "start_time": null,
          "status": "completed"
        },
        "tags": []
      },
      "source": [
        "This is useful if we for example pre-calculated a certain model."
      ]
    },
    {
      "cell_type": "markdown",
      "id": "020381f6-872f-4aea-8822-ef1096553dc2",
      "metadata": {
        "papermill": {
          "duration": null,
          "end_time": null,
          "exception": null,
          "start_time": null,
          "status": "completed"
        },
        "tags": []
      },
      "source": [
        "We can easily find the root of the DAG:"
      ]
    },
    {
      "cell_type": "markdown",
      "id": "de49753b8e9e43aa",
      "metadata": {},
      "source": [
        ":::{eval-rst}\n",
        ".. autofunction:: sax.circuit.find_root\n",
        ":::\n"
      ]
    },
    {
      "cell_type": "code",
      "execution_count": null,
      "id": "bee1ee54e70ccb04",
      "metadata": {
        "papermill": {
          "duration": null,
          "end_time": null,
          "exception": null,
          "start_time": null,
          "status": "completed"
        },
        "tags": [
          "hide-input"
        ]
      },
      "outputs": [],
      "source": [
        "def find_root(g):\n",
        "    nodes = [n for n, d in g.in_degree() if d == 0]\n",
        "    return nodes"
      ]
    },
    {
      "cell_type": "code",
      "execution_count": null,
      "id": "11728146-6b54-48f2-acac-c8a5fa4e3b0f",
      "metadata": {
        "papermill": {
          "duration": null,
          "end_time": null,
          "exception": null,
          "start_time": null,
          "status": "completed"
        },
        "tags": []
      },
      "outputs": [],
      "source": [
        "find_root(dag)"
      ]
    },
    {
      "cell_type": "markdown",
      "id": "4e8065d2-19c8-444a-b1c2-ea3c62f90e0a",
      "metadata": {
        "papermill": {
          "duration": null,
          "end_time": null,
          "exception": null,
          "start_time": null,
          "status": "completed"
        },
        "tags": []
      },
      "source": [
        "Similarly we can find the leaves:"
      ]
    },
    {
      "cell_type": "markdown",
      "id": "479f58b47d85d118",
      "metadata": {},
      "source": [
        ":::{eval-rst}\n",
        ".. autofunction:: sax.circuit.find_leaves\n",
        ":::\n"
      ]
    },
    {
      "cell_type": "code",
      "execution_count": null,
      "id": "bff9652757b49ad1",
      "metadata": {
        "papermill": {
          "duration": null,
          "end_time": null,
          "exception": null,
          "start_time": null,
          "status": "completed"
        },
        "tags": [
          "hide-input"
        ]
      },
      "outputs": [],
      "source": [
        "def find_leaves(g):\n",
        "    nodes = [n for n, d in g.out_degree() if d == 0]\n",
        "    return nodes"
      ]
    },
    {
      "cell_type": "code",
      "execution_count": null,
      "id": "7fa9afff-26b5-44cb-90bf-a32ef5e95bf5",
      "metadata": {
        "papermill": {
          "duration": null,
          "end_time": null,
          "exception": null,
          "start_time": null,
          "status": "completed"
        },
        "tags": []
      },
      "outputs": [],
      "source": [
        "find_leaves(dag)"
      ]
    },
    {
      "cell_type": "markdown",
      "id": "59fb221d-951d-44df-a5d9-487a8b4dc4f8",
      "metadata": {
        "papermill": {
          "duration": null,
          "end_time": null,
          "exception": null,
          "start_time": null,
          "status": "completed"
        },
        "tags": []
      },
      "source": [
        "To be able to simulate the circuit, we need to supply a model for each of the leaves in the dependency DAG. Let's write a validator that checks this"
      ]
    },
    {
      "cell_type": "code",
      "execution_count": null,
      "id": "62451ed14177a2ae",
      "metadata": {
        "papermill": {
          "duration": null,
          "end_time": null,
          "exception": null,
          "start_time": null,
          "status": "completed"
        },
        "tags": [
          "hide-input"
        ]
      },
      "outputs": [],
      "source": [
        "def _validate_models(models, dag):\n",
        "    required_models = find_leaves(dag)\n",
        "    missing_models = [m for m in required_models if m not in models]\n",
        "    if missing_models:\n",
        "        model_diff = {\n",
        "            \"Missing Models\": missing_models,\n",
        "            \"Given Models\": list(models),\n",
        "            \"Required Models\": required_models,\n",
        "        }\n",
        "        raise ValueError(\n",
        "            \"Missing models. The following models are still missing to build the circuit:\\n\"\n",
        "            f\"{black.format_str(repr(model_diff), mode=black.Mode())}\"\n",
        "        )\n",
        "    return {**models} # shallow copy"
      ]
    },
    {
      "cell_type": "code",
      "execution_count": null,
      "id": "a97dbe93-a53f-4525-b721-2f329692cdc9",
      "metadata": {
        "papermill": {
          "duration": null,
          "end_time": null,
          "exception": null,
          "start_time": null,
          "status": "completed"
        },
        "tags": []
      },
      "outputs": [],
      "source": [
        "models = _validate_models(models, dag)"
      ]
    },
    {
      "cell_type": "markdown",
      "id": "e9f30a86-aa00-4f51-8b93-3440edc0b46b",
      "metadata": {
        "papermill": {
          "duration": null,
          "end_time": null,
          "exception": null,
          "start_time": null,
          "status": "completed"
        },
        "tags": []
      },
      "source": [
        "We can now dow a bottom-up simulation. Since at the bottom of the DAG, our circuit is always flat (i.e. not hierarchical) we can implement a minimal `_flat_circuit` definition, which only needs to work on a flat (non-hierarchical circuit):"
      ]
    },
    {
      "cell_type": "code",
      "execution_count": null,
      "id": "9ad3aeb93767d24a",
      "metadata": {
        "papermill": {
          "duration": null,
          "end_time": null,
          "exception": null,
          "start_time": null,
          "status": "completed"
        },
        "tags": [
          "hide-input"
        ]
      },
      "outputs": [],
      "source": [
        "def _flat_circuit(instances, connections, ports, models, backend):\n",
        "    analyze_fn, evaluate_fn = circuit_backends[backend]\n",
        "\n",
        "    inst2model = {k: models[inst.component] for k, inst in instances.items()}\n",
        "\n",
        "    model_settings = {name: get_settings(model) for name, model in inst2model.items()}\n",
        "    netlist_settings = {\n",
        "        name: {k: v for k, v in (inst.settings or {}).items() if k in model_settings[name]}\n",
        "        for name, inst in instances.items()\n",
        "    }\n",
        "    default_settings = merge_dicts(model_settings, netlist_settings)\n",
        "    analyzed = analyze_fn(connections, ports)\n",
        "\n",
        "    def _circuit(**settings: Settings) -> SType:\n",
        "        settings = merge_dicts(default_settings, settings)\n",
        "        settings = _forward_global_settings(inst2model, settings)\n",
        "\n",
        "        instances: Dict[str, SType] = {}\n",
        "        for inst_name, model in inst2model.items():\n",
        "            instances[inst_name] = model(**settings.get(inst_name, {}))\n",
        "        #print(f\"{instances=}\")\n",
        "        #print(f\"{connections=}\")\n",
        "        #print(f\"{ports=}\")\n",
        "        S = evaluate_fn(analyzed, instances)\n",
        "        return S\n",
        "\n",
        "    _replace_kwargs(_circuit, **default_settings)\n",
        "\n",
        "    return _circuit\n",
        "\n",
        "def _forward_global_settings(instances, settings):\n",
        "    global_settings = {}\n",
        "    for k in list(settings.keys()):\n",
        "        if k in instances:\n",
        "            continue\n",
        "        global_settings[k] = settings.pop(k)\n",
        "    if global_settings:\n",
        "        settings = update_settings(settings, **global_settings)\n",
        "    return settings"
      ]
    },
    {
      "cell_type": "code",
      "execution_count": null,
      "id": "1f415c32-70e4-4b40-a9e2-051fc187cbb9",
      "metadata": {
        "papermill": {
          "duration": null,
          "end_time": null,
          "exception": null,
          "start_time": null,
          "status": "completed"
        },
        "tags": []
      },
      "outputs": [],
      "source": [
        "flatnet = recnet.__root__['mzi_delta_length10']\n",
        "single_mzi = jit(_flat_circuit(flatnet.instances, flatnet.connections, flatnet.ports, models, \"default\"))"
      ]
    },
    {
      "cell_type": "markdown",
      "id": "c4f3375c-baa3-433f-924a-eff50557bf9f",
      "metadata": {
        "papermill": {
          "duration": null,
          "end_time": null,
          "exception": null,
          "start_time": null,
          "status": "completed"
        },
        "tags": []
      },
      "source": [
        "The resulting circuit is just another SAX model (i.e. a python function) returing an SType:"
      ]
    },
    {
      "cell_type": "code",
      "execution_count": null,
      "id": "058740c4-439b-4b00-91e7-15e3e7b6679c",
      "metadata": {
        "papermill": {
          "duration": null,
          "end_time": null,
          "exception": null,
          "start_time": null,
          "status": "completed"
        },
        "tags": []
      },
      "outputs": [],
      "source": [
        "single_mzi?"
      ]
    },
    {
      "cell_type": "markdown",
      "id": "2b2bbe9f-29ac-413a-b0a4-6c51da8689cb",
      "metadata": {
        "papermill": {
          "duration": null,
          "end_time": null,
          "exception": null,
          "start_time": null,
          "status": "completed"
        },
        "tags": []
      },
      "source": [
        "Let's 'execute' the circuit:"
      ]
    },
    {
      "cell_type": "code",
      "execution_count": null,
      "id": "8784bf1b-933f-4dd6-b77b-bf47618168b4",
      "metadata": {
        "papermill": {
          "duration": null,
          "end_time": null,
          "exception": null,
          "start_time": null,
          "status": "completed"
        },
        "tags": []
      },
      "outputs": [],
      "source": [
        "single_mzi()"
      ]
    },
    {
      "cell_type": "markdown",
      "id": "c852f384-c830-47f5-aa75-ee274abbcc35",
      "metadata": {
        "papermill": {
          "duration": null,
          "end_time": null,
          "exception": null,
          "start_time": null,
          "status": "completed"
        },
        "tags": []
      },
      "source": [
        "Now that we can handle flat circuits the extension to hierarchical circuits is not so difficult:"
      ]
    },
    {
      "cell_type": "markdown",
      "id": "73f08b2d633612f8",
      "metadata": {},
      "source": [
        ":::{eval-rst}\n",
        ".. autofunction:: sax.circuit.circuit\n",
        ":::\n"
      ]
    },
    {
      "cell_type": "code",
      "execution_count": null,
      "id": "087236ac828a61d8",
      "metadata": {
        "papermill": {
          "duration": null,
          "end_time": null,
          "exception": null,
          "start_time": null,
          "status": "completed"
        },
        "tags": [
          "hide-input"
        ]
      },
      "outputs": [],
      "source": [
        "def circuit(\n",
        "    netlist: Union[Netlist, NetlistDict, RecursiveNetlist, RecursiveNetlistDict],\n",
        "    models: Optional[Dict[str, Model]] = None,\n",
        "    modes: Optional[List[str]] = None,\n",
        "    backend: str = \"default\",\n",
        ") -> Tuple[Model, CircuitInfo]:\n",
        "    netlist = _ensure_recursive_netlist_dict(netlist)\n",
        "\n",
        "    # TODO: do the following two steps *after* recursive netlist parsing.\n",
        "    netlist = remove_unused_instances(netlist)\n",
        "    netlist, instance_models = _extract_instance_models(netlist)\n",
        "\n",
        "    recnet: RecursiveNetlist = _validate_net(netlist)\n",
        "    dependency_dag: nx.DiGraph = _validate_dag(\n",
        "        create_dag(recnet, models)\n",
        "    )  # directed acyclic graph\n",
        "    models = _validate_models({**(models or {}), **instance_models}, dependency_dag)\n",
        "    modes = _validate_modes(modes)\n",
        "    backend = _validate_circuit_backend(backend)\n",
        "\n",
        "    circuit = None\n",
        "    new_models = {}\n",
        "    current_models = {}\n",
        "    model_names = list(nx.topological_sort(dependency_dag))[::-1]\n",
        "    for model_name in model_names:\n",
        "        if model_name in models:\n",
        "            new_models[model_name] = models[model_name]\n",
        "            continue\n",
        "\n",
        "        flatnet = recnet.__root__[model_name]\n",
        "\n",
        "        connections, ports, new_models = _make_singlemode_or_multimode(\n",
        "            flatnet, modes, new_models\n",
        "        )\n",
        "        current_models.update(new_models)\n",
        "        new_models = {}\n",
        "\n",
        "        current_models[model_name] = circuit = _flat_circuit(\n",
        "            flatnet.instances, connections, ports, current_models, backend\n",
        "        )\n",
        "\n",
        "    assert circuit is not None\n",
        "    return circuit, CircuitInfo(dag=dependency_dag, models=current_models)\n",
        "\n",
        "\n",
        "class NetlistDict(TypedDict):\n",
        "    instances: Dict\n",
        "    connections: Dict[str, str]\n",
        "    ports: Dict[str, str]\n",
        "\n",
        "\n",
        "RecursiveNetlistDict = Dict[str, NetlistDict]\n",
        "\n",
        "\n",
        "class CircuitInfo(NamedTuple):\n",
        "    dag: nx.DiGraph\n",
        "    models: Dict[str, Model]\n",
        "\n",
        "\n",
        "def _ensure_recursive_netlist_dict(netlist):\n",
        "    if not isinstance(netlist, dict):\n",
        "        netlist = netlist.dict()\n",
        "    if \"__root__\" in netlist:\n",
        "        netlist = netlist[\"__root__\"]\n",
        "    if \"instances\" in netlist:\n",
        "        netlist = {\"top_level\": netlist}\n",
        "    netlist = {**netlist}\n",
        "    for k, v in netlist.items():\n",
        "        netlist[k] = {**v}\n",
        "    return netlist\n",
        "\n",
        "\n",
        "def _extract_instance_models(netlist):\n",
        "    models = {}\n",
        "    for netname, net in netlist.items():\n",
        "        net = {**net}\n",
        "        net[\"instances\"] = {**net[\"instances\"]}\n",
        "        for name, inst in net[\"instances\"].items():\n",
        "            if callable(inst):\n",
        "                settings = get_settings(inst)\n",
        "                if isinstance(inst, partial) and inst.args:\n",
        "                    raise ValueError(\n",
        "                        \"SAX circuits and netlists don't support partials with positional arguments.\"\n",
        "                    )\n",
        "                while isinstance(inst, partial):\n",
        "                    inst = inst.func\n",
        "                models[inst.__name__] = inst\n",
        "                net[\"instances\"][name] = {\n",
        "                    \"component\": inst.__name__,\n",
        "                    \"settings\": settings,\n",
        "                }\n",
        "        netlist[netname] = net\n",
        "    return netlist, models\n",
        "\n",
        "\n",
        "def _validate_circuit_backend(backend):\n",
        "    backend = backend.lower()\n",
        "    # assert valid circuit_backend\n",
        "    if backend not in circuit_backends:\n",
        "        raise KeyError(\n",
        "            f\"circuit backend {backend} not found. Allowed circuit backends: \"\n",
        "            f\"{', '.join(circuit_backends.keys())}.\"\n",
        "        )\n",
        "    return backend\n",
        "\n",
        "\n",
        "def _validate_modes(modes) -> List[str]:\n",
        "    if modes is None:\n",
        "        return [\"te\"]\n",
        "    elif not modes:\n",
        "        return [\"te\"]\n",
        "    elif isinstance(modes, str):\n",
        "        return [modes]\n",
        "    elif all(isinstance(m, str) for m in modes):\n",
        "        return modes\n",
        "    else:\n",
        "        raise ValueError(f\"Invalid modes given: {modes}\")\n",
        "\n",
        "\n",
        "def _validate_net(netlist: Union[Netlist, RecursiveNetlist]) -> RecursiveNetlist:\n",
        "    if isinstance(netlist, dict):\n",
        "        try:\n",
        "            netlist = Netlist.parse_obj(netlist)\n",
        "        except ValidationError:\n",
        "            netlist = RecursiveNetlist.parse_obj(netlist)\n",
        "    elif isinstance(netlist, Netlist):\n",
        "        netlist = RecursiveNetlist(__root__={\"top_level\": netlist})\n",
        "    return netlist\n",
        "\n",
        "\n",
        "def _validate_dag(dag):\n",
        "    nodes = find_root(dag)\n",
        "    if len(nodes) > 1:\n",
        "        raise ValueError(f\"Multiple top_levels found in netlist: {nodes}\")\n",
        "    if len(nodes) < 1:\n",
        "        raise ValueError(f\"Netlist does not contain any nodes.\")\n",
        "    if not dag.is_directed():\n",
        "        raise ValueError(\"Netlist dependency cycles detected!\")\n",
        "    return dag\n",
        "\n",
        "\n",
        "def _make_singlemode_or_multimode(netlist, modes, models):\n",
        "    if len(modes) == 1:\n",
        "        connections, ports, models = _make_singlemode(netlist, modes[0], models)\n",
        "    else:\n",
        "        connections, ports, models = _make_multimode(netlist, modes, models)\n",
        "    return connections, ports, models\n",
        "\n",
        "\n",
        "def _make_singlemode(netlist, mode, models):\n",
        "    models = {k: singlemode(m, mode=mode) for k, m in models.items()}\n",
        "    return netlist.connections, netlist.ports, models\n",
        "\n",
        "\n",
        "def _make_multimode(netlist, modes, models):\n",
        "    models = {k: multimode(m, modes=modes) for k, m in models.items()}\n",
        "    connections = {\n",
        "        f\"{p1}@{mode}\": f\"{p2}@{mode}\"\n",
        "        for p1, p2 in netlist.connections.items()\n",
        "        for mode in modes\n",
        "    }\n",
        "    ports = {\n",
        "        f\"{p1}@{mode}\": f\"{p2}@{mode}\"\n",
        "        for p1, p2 in netlist.ports.items()\n",
        "        for mode in modes\n",
        "    }\n",
        "    return connections, ports, models"
      ]
    },
    {
      "cell_type": "code",
      "execution_count": null,
      "id": "6d133b49-6f26-4e01-bcd9-7ca1b76dc55d",
      "metadata": {
        "papermill": {
          "duration": null,
          "end_time": null,
          "exception": null,
          "start_time": null,
          "status": "completed"
        },
        "tags": []
      },
      "outputs": [],
      "source": [
        "double_mzi, info = circuit(recnet, models, backend='default')\n",
        "jit(sdense(double_mzi))()"
      ]
    },
    {
      "cell_type": "markdown",
      "id": "e621a2e3-6918-4cfb-8a55-4cc754356020",
      "metadata": {
        "papermill": {
          "duration": null,
          "end_time": null,
          "exception": null,
          "start_time": null,
          "status": "completed"
        },
        "tags": []
      },
      "source": [
        "sometimes it's useful to get the required circuit model names to be able to create the circuit:"
      ]
    },
    {
      "cell_type": "markdown",
      "id": "7e6e70b08b48164c",
      "metadata": {},
      "source": [
        ":::{eval-rst}\n",
        ".. autofunction:: sax.circuit.get_required_circuit_models\n",
        ":::\n"
      ]
    },
    {
      "cell_type": "code",
      "execution_count": null,
      "id": "104a9f1113fde37c",
      "metadata": {
        "papermill": {
          "duration": null,
          "end_time": null,
          "exception": null,
          "start_time": null,
          "status": "completed"
        },
        "tags": [
          "hide-input"
        ]
      },
      "outputs": [],
      "source": [
        "def get_required_circuit_models(\n",
        "        netlist: Union[Netlist, NetlistDict, RecursiveNetlist, RecursiveNetlistDict],\n",
        "        models: Optional[Dict[str, Model]] = None,\n",
        ") -> List:\n",
        "    if models is None:\n",
        "        models = {}\n",
        "    assert isinstance(models, dict)\n",
        "    netlist = _ensure_recursive_netlist_dict(netlist)\n",
        "    # TODO: do the following two steps *after* recursive netlist parsing.\n",
        "    netlist = remove_unused_instances(netlist)\n",
        "    netlist, instance_models = _extract_instance_models(netlist)\n",
        "    recnet: RecursiveNetlist = _validate_net(netlist)\n",
        "\n",
        "    missing_models = {}\n",
        "    missing_model_names = []\n",
        "    g = nx.DiGraph()\n",
        "\n",
        "    for model_name, subnetlist in recnet.dict()[\"__root__\"].items():\n",
        "        if not model_name in missing_models:\n",
        "            missing_models[model_name] = models.get(model_name, subnetlist)\n",
        "            g.add_node(model_name)\n",
        "        if model_name in models:\n",
        "            continue\n",
        "        for instance in subnetlist[\"instances\"].values():\n",
        "            component = instance[\"component\"]\n",
        "            if (not component in missing_models) and (not component in models):\n",
        "                missing_models[component] = models.get(component, None)\n",
        "                missing_model_names.append(component)\n",
        "                g.add_node(component)\n",
        "            g.add_edge(model_name, component)\n",
        "    return missing_model_names"
      ]
    },
    {
      "cell_type": "code",
      "execution_count": null,
      "id": "99bb5c8f-8094-426d-a5d6-ceb73d80f706",
      "metadata": {
        "papermill": {
          "duration": null,
          "end_time": null,
          "exception": null,
          "start_time": null,
          "status": "completed"
        },
        "tags": []
      },
      "outputs": [],
      "source": [
        "get_required_circuit_models(recnet, models)"
      ]
    }
  ],
  "metadata": {
    "kernelspec": {
      "display_name": "sax",
      "language": "python",
      "name": "sax"
    },
    "papermill": {
      "default_parameters": {},
      "duration": 5.211421,
      "end_time": "2023-09-01T15:54:04.771286",
      "environment_variables": {},
      "exception": null,
      "input_path": "./nbs/07_circuit.ipynb",
      "output_path": "./nbs/07_circuit.ipynb",
      "parameters": {},
      "start_time": "2023-09-01T15:53:59.559865",
      "version": "2.4.0"
    }
  },
  "nbformat": 4,
  "nbformat_minor": 5
}