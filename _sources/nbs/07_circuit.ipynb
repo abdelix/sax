{
  "cells": [
    {
      "cell_type": "code",
      "execution_count": 1,
      "id": "d263d76ae974d90d",
      "metadata": {
        "execution": {
          "iopub.execute_input": "2023-07-01T03:33:42.346172Z",
          "iopub.status.busy": "2023-07-01T03:33:42.345919Z",
          "iopub.status.idle": "2023-07-01T03:33:42.350648Z",
          "shell.execute_reply": "2023-07-01T03:33:42.350128Z"
        },
        "papermill": {
          "duration": 0.014945,
          "end_time": "2023-07-01T03:33:42.352845",
          "exception": false,
          "start_time": "2023-07-01T03:33:42.337900",
          "status": "completed"
        },
        "tags": [
          "remove-cell"
        ]
      },
      "outputs": [],
      "source": []
    },
    {
      "cell_type": "markdown",
      "id": "2c9c99fe",
      "metadata": {
        "papermill": {
          "duration": 0.004957,
          "end_time": "2023-07-01T03:33:42.363085",
          "exception": false,
          "start_time": "2023-07-01T03:33:42.358128",
          "status": "completed"
        },
        "tags": []
      },
      "source": [
        "# Circuit\n",
        "\n",
        "> SAX Circuits"
      ]
    },
    {
      "cell_type": "markdown",
      "id": "0648dc6e-c0bd-45db-810a-d0c40af04837",
      "metadata": {
        "papermill": {
          "duration": 0.00476,
          "end_time": "2023-07-01T03:33:42.372963",
          "exception": false,
          "start_time": "2023-07-01T03:33:42.368203",
          "status": "completed"
        },
        "tags": []
      },
      "source": [
        "Let's start where we left off (see [Netlist](06_netlist.ipynb))."
      ]
    },
    {
      "cell_type": "code",
      "execution_count": 2,
      "id": "b25de2fb21660c25",
      "metadata": {
        "execution": {
          "iopub.execute_input": "2023-07-01T03:33:42.383434Z",
          "iopub.status.busy": "2023-07-01T03:33:42.383240Z",
          "iopub.status.idle": "2023-07-01T03:33:42.388403Z",
          "shell.execute_reply": "2023-07-01T03:33:42.387919Z"
        },
        "papermill": {
          "duration": 0.012515,
          "end_time": "2023-07-01T03:33:42.390189",
          "exception": false,
          "start_time": "2023-07-01T03:33:42.377674",
          "status": "completed"
        },
        "tags": [
          "remove-cell"
        ]
      },
      "outputs": [],
      "source": [
        "import os\n",
        "os.environ[\"LOGURU_LEVEL\"] = \"CRITICAL\"\n",
        "import warnings\n",
        "warnings.filterwarnings(\"ignore\")"
      ]
    },
    {
      "cell_type": "code",
      "execution_count": 3,
      "id": "93bc49f37740de7a",
      "metadata": {
        "execution": {
          "iopub.execute_input": "2023-07-01T03:33:42.400648Z",
          "iopub.status.busy": "2023-07-01T03:33:42.400462Z",
          "iopub.status.idle": "2023-07-01T03:33:43.197033Z",
          "shell.execute_reply": "2023-07-01T03:33:43.196470Z"
        },
        "papermill": {
          "duration": 0.803901,
          "end_time": "2023-07-01T03:33:43.198827",
          "exception": false,
          "start_time": "2023-07-01T03:33:42.394926",
          "status": "completed"
        },
        "tags": [
          "hide-input"
        ]
      },
      "outputs": [],
      "source": [
        "from __future__ import annotations\n",
        "\n",
        "import os\n",
        "import shutil\n",
        "import sys\n",
        "from functools import partial\n",
        "from typing import Any, Dict, List, NamedTuple, Optional, Tuple, TypedDict, Union\n",
        "\n",
        "import black\n",
        "import networkx as nx\n",
        "import numpy as np\n",
        "from pydantic import ValidationError\n",
        "from sax import reciprocal\n",
        "from sax.backends import circuit_backends\n",
        "from sax.multimode import multimode, singlemode\n",
        "from sax.netlist import Netlist, RecursiveNetlist\n",
        "from sax.netlist_cleaning import remove_unused_instances\n",
        "from sax.typing_ import Model, Settings, SType\n",
        "from sax.utils import _replace_kwargs, get_settings, merge_dicts, update_settings"
      ]
    },
    {
      "cell_type": "markdown",
      "id": "45ad2306-1ead-4b8c-b91e-c02ce4569b3a",
      "metadata": {
        "papermill": {
          "duration": 0.005268,
          "end_time": "2023-07-01T03:33:43.209326",
          "exception": false,
          "start_time": "2023-07-01T03:33:43.204058",
          "status": "completed"
        },
        "tags": []
      },
      "source": [
        "Let's start by creating a simple recursive netlist with gdsfactory.\n",
        "\n",
        ":::{note}\n",
        "We are using gdsfactory to create our netlist because it allows us to see the circuit we want to simulate and because we're striving to have a compatible netlist implementation in SAX.\n",
        "\n",
        "However... gdsfactory is not a dependency of SAX. You can also define your circuits by hand (see [SAX Quick Start](../examples/01_quick_start.ipynb) or you can use another tool to programmatically construct your netlists.\n",
        ":::"
      ]
    },
    {
      "cell_type": "code",
      "execution_count": 4,
      "id": "804a1c9b-c02b-4af6-ba3d-858f76634a69",
      "metadata": {
        "execution": {
          "iopub.execute_input": "2023-07-01T03:33:43.220260Z",
          "iopub.status.busy": "2023-07-01T03:33:43.219896Z",
          "iopub.status.idle": "2023-07-01T03:33:45.201648Z",
          "shell.execute_reply": "2023-07-01T03:33:45.201086Z"
        },
        "papermill": {
          "duration": 1.98923,
          "end_time": "2023-07-01T03:33:45.203386",
          "exception": false,
          "start_time": "2023-07-01T03:33:43.214156",
          "status": "completed"
        },
        "tags": []
      },
      "outputs": [
        {
          "name": "stdout",
          "output_type": "stream",
          "text": [
            "You can install `pip install gdsfactory[cad]` for better visualization\n",
            "You can install `pip install gdsfactory[full]` for better visualization\n"
          ]
        },
        {
          "data": {
            "image/png": "[encoded data removed]",
            "text/plain": [
              "<Figure size 640x480 with 1 Axes>"
            ]
          },
          "metadata": {},
          "output_type": "display_data"
        }
      ],
      "source": [
        "import gdsfactory as gf\n",
        "from IPython.display import display\n",
        "from gdsfactory.components import mzi\n",
        "from gdsfactory.get_netlist import get_netlist_recursive, get_netlist, get_netlist_yaml\n",
        "\n",
        "\n",
        "@gf.cell\n",
        "def twomzi():\n",
        "    c = gf.Component()\n",
        "\n",
        "    # instances\n",
        "    mzi1 = mzi(delta_length=10)\n",
        "    mzi2 = mzi(delta_length=20)\n",
        "\n",
        "    # references\n",
        "    mzi1_ = c << mzi1\n",
        "    mzi2_ = c << mzi2\n",
        "\n",
        "    # connections\n",
        "    mzi2_.connect(\"o1\", mzi1_.ports[\"o2\"])\n",
        "\n",
        "    # ports\n",
        "    c.add_port(\"o1\", port=mzi1_.ports[\"o1\"])\n",
        "    c.add_port(\"o2\", port=mzi2_.ports[\"o2\"])\n",
        "    return c\n",
        "\n",
        "\n",
        "comp = twomzi()\n",
        "display(comp)\n",
        "recnet = RecursiveNetlist.parse_obj(\n",
        "    get_netlist_recursive(\n",
        "        comp, get_netlist_func=partial(get_netlist, full_settings=True)\n",
        "    )\n",
        ")\n",
        "flatnet = recnet.__root__[\"mzi_delta_length10\"]"
      ]
    },
    {
      "cell_type": "markdown",
      "id": "2b2a38fb-c83e-4b71-b195-ecca485fb0a3",
      "metadata": {
        "papermill": {
          "duration": 0.005787,
          "end_time": "2023-07-01T03:33:45.214889",
          "exception": false,
          "start_time": "2023-07-01T03:33:45.209102",
          "status": "completed"
        },
        "tags": []
      },
      "source": [
        "To be able to model this device we'll need some SAX dummy models:"
      ]
    },
    {
      "cell_type": "code",
      "execution_count": 5,
      "id": "a6e12ec8cd6ea0ce",
      "metadata": {
        "execution": {
          "iopub.execute_input": "2023-07-01T03:33:45.227146Z",
          "iopub.status.busy": "2023-07-01T03:33:45.226609Z",
          "iopub.status.idle": "2023-07-01T03:33:45.230501Z",
          "shell.execute_reply": "2023-07-01T03:33:45.229894Z"
        },
        "papermill": {
          "duration": 0.011792,
          "end_time": "2023-07-01T03:33:45.232060",
          "exception": false,
          "start_time": "2023-07-01T03:33:45.220268",
          "status": "completed"
        },
        "tags": [
          "remove-cell"
        ]
      },
      "outputs": [],
      "source": [
        "def bend_euler(\n",
        "    angle=90.0,\n",
        "    p=0.5,\n",
        "    # cross_section=\"strip\",\n",
        "    # direction=\"ccw\",\n",
        "    # with_bbox=True,\n",
        "    # with_arc_floorplan=True,\n",
        "    # npoints=720,\n",
        "):\n",
        "    return reciprocal({\n",
        "        ('o1', 'o2'): 1.0\n",
        "    })"
      ]
    },
    {
      "cell_type": "code",
      "execution_count": 6,
      "id": "18066104eedf1c8c",
      "metadata": {
        "execution": {
          "iopub.execute_input": "2023-07-01T03:33:45.244178Z",
          "iopub.status.busy": "2023-07-01T03:33:45.243901Z",
          "iopub.status.idle": "2023-07-01T03:33:45.247602Z",
          "shell.execute_reply": "2023-07-01T03:33:45.247002Z"
        },
        "papermill": {
          "duration": 0.011178,
          "end_time": "2023-07-01T03:33:45.248979",
          "exception": false,
          "start_time": "2023-07-01T03:33:45.237801",
          "status": "completed"
        },
        "tags": [
          "remove-cell"
        ]
      },
      "outputs": [],
      "source": [
        "def mmi1x2(\n",
        "    width=0.5,\n",
        "    width_taper= 1.0,\n",
        "    length_taper= 10.0,\n",
        "    length_mmi= 5.5,\n",
        "    width_mmi= 2.5,\n",
        "    gap_mmi= 0.25,\n",
        "    # cross_section= strip,\n",
        "    # taper= {function= taper},\n",
        "    # with_bbox= True,\n",
        "):\n",
        "    return reciprocal({\n",
        "        ('o1', 'o2'): 0.45**0.5,\n",
        "        ('o1', 'o3'): 0.45**0.5,\n",
        "    })"
      ]
    },
    {
      "cell_type": "code",
      "execution_count": 7,
      "id": "50068c513075927a",
      "metadata": {
        "execution": {
          "iopub.execute_input": "2023-07-01T03:33:45.291900Z",
          "iopub.status.busy": "2023-07-01T03:33:45.291535Z",
          "iopub.status.idle": "2023-07-01T03:33:45.295808Z",
          "shell.execute_reply": "2023-07-01T03:33:45.295186Z"
        },
        "papermill": {
          "duration": 0.042933,
          "end_time": "2023-07-01T03:33:45.297191",
          "exception": false,
          "start_time": "2023-07-01T03:33:45.254258",
          "status": "completed"
        },
        "tags": [
          "remove-cell"
        ]
      },
      "outputs": [],
      "source": [
        "def mmi2x2(\n",
        "    width=0.5,\n",
        "    width_taper= 1.0,\n",
        "    length_taper= 10.0,\n",
        "    length_mmi= 5.5,\n",
        "    width_mmi= 2.5,\n",
        "    gap_mmi= 0.25,\n",
        "    # cross_section= strip,\n",
        "    # taper= {function= taper},\n",
        "    # with_bbox= True,\n",
        "):\n",
        "    return reciprocal({\n",
        "        ('o1', 'o3'): 0.45**0.5,\n",
        "        ('o1', 'o4'): 1j * 0.45**0.5,\n",
        "        ('o2', 'o3'): 1j * 0.45**0.5,\n",
        "        ('o2', 'o4'): 0.45**0.5,\n",
        "    })"
      ]
    },
    {
      "cell_type": "code",
      "execution_count": 8,
      "id": "9beb31eee73ba318",
      "metadata": {
        "execution": {
          "iopub.execute_input": "2023-07-01T03:33:45.309147Z",
          "iopub.status.busy": "2023-07-01T03:33:45.308861Z",
          "iopub.status.idle": "2023-07-01T03:33:45.312330Z",
          "shell.execute_reply": "2023-07-01T03:33:45.311718Z"
        },
        "papermill": {
          "duration": 0.011076,
          "end_time": "2023-07-01T03:33:45.313710",
          "exception": false,
          "start_time": "2023-07-01T03:33:45.302634",
          "status": "completed"
        },
        "tags": [
          "remove-cell"
        ]
      },
      "outputs": [],
      "source": [
        "def straight(\n",
        "    length=0.01,\n",
        "    #npoints=2,\n",
        "    #with_bbox=True,\n",
        "    #cross_section=...\n",
        "):\n",
        "    return reciprocal({\n",
        "        ('o1', 'o2'): 1.0\n",
        "    })"
      ]
    },
    {
      "cell_type": "markdown",
      "id": "8efe90e4-dfe6-40bd-aa0a-26c74738d688",
      "metadata": {
        "papermill": {
          "duration": 0.005391,
          "end_time": "2023-07-01T03:33:45.324569",
          "exception": false,
          "start_time": "2023-07-01T03:33:45.319178",
          "status": "completed"
        },
        "tags": []
      },
      "source": [
        "In SAX, we usually aggregate the available models in a models dictionary:"
      ]
    },
    {
      "cell_type": "code",
      "execution_count": 9,
      "id": "c1ac9132-0ee2-443b-98f4-f790234551b0",
      "metadata": {
        "execution": {
          "iopub.execute_input": "2023-07-01T03:33:45.336247Z",
          "iopub.status.busy": "2023-07-01T03:33:45.336037Z",
          "iopub.status.idle": "2023-07-01T03:33:45.339046Z",
          "shell.execute_reply": "2023-07-01T03:33:45.338405Z"
        },
        "papermill": {
          "duration": 0.010557,
          "end_time": "2023-07-01T03:33:45.340453",
          "exception": false,
          "start_time": "2023-07-01T03:33:45.329896",
          "status": "completed"
        },
        "tags": []
      },
      "outputs": [],
      "source": [
        "models = {\n",
        "    'straight': straight,\n",
        "    'bend_euler': bend_euler,\n",
        "    'mmi1x2': mmi1x2,\n",
        "}"
      ]
    },
    {
      "cell_type": "markdown",
      "id": "3df7d9b6-acbb-4406-a3c8-8a9ad09db768",
      "metadata": {
        "papermill": {
          "duration": 0.005399,
          "end_time": "2023-07-01T03:33:45.351180",
          "exception": false,
          "start_time": "2023-07-01T03:33:45.345781",
          "status": "completed"
        },
        "tags": []
      },
      "source": [
        "We can now represent our recursive netlist model as a Directed Acyclic Graph:"
      ]
    },
    {
      "cell_type": "markdown",
      "id": "31e60c5b83168fa4",
      "metadata": {},
      "source": [
        ":::{eval-rst}\n",
        ".. autofunction:: sax.circuit.create_dag\n",
        ":::\n"
      ]
    },
    {
      "cell_type": "code",
      "execution_count": 10,
      "id": "ac481527998b4685",
      "metadata": {
        "execution": {
          "iopub.execute_input": "2023-07-01T03:33:45.363087Z",
          "iopub.status.busy": "2023-07-01T03:33:45.362801Z",
          "iopub.status.idle": "2023-07-01T03:33:45.368222Z",
          "shell.execute_reply": "2023-07-01T03:33:45.367610Z"
        },
        "papermill": {
          "duration": 0.013356,
          "end_time": "2023-07-01T03:33:45.369888",
          "exception": false,
          "start_time": "2023-07-01T03:33:45.356532",
          "status": "completed"
        },
        "tags": [
          "hide-input"
        ]
      },
      "outputs": [],
      "source": [
        "def create_dag(\n",
        "    netlist: RecursiveNetlist,\n",
        "    models: Optional[Dict[str, Any]] = None,\n",
        "):\n",
        "    if models is None:\n",
        "        models = {}\n",
        "    assert isinstance(models, dict)\n",
        "\n",
        "    all_models = {}\n",
        "    g = nx.DiGraph()\n",
        "\n",
        "    for model_name, subnetlist in netlist.dict()[\"__root__\"].items():\n",
        "        if not model_name in all_models:\n",
        "            all_models[model_name] = models.get(model_name, subnetlist)\n",
        "            g.add_node(model_name)\n",
        "        if model_name in models:\n",
        "            continue\n",
        "        for instance in subnetlist[\"instances\"].values():\n",
        "            component = instance[\"component\"]\n",
        "            if not component in all_models:\n",
        "                all_models[component] = models.get(component, None)\n",
        "                g.add_node(component)\n",
        "            g.add_edge(model_name, component)\n",
        "\n",
        "    # we only need the nodes that depend on the parent...\n",
        "    parent_node = next(iter(netlist.__root__.keys()))\n",
        "    nodes = [parent_node, *nx.descendants(g, parent_node)]\n",
        "    g = nx.induced_subgraph(g, nodes)\n",
        "\n",
        "    return g"
      ]
    },
    {
      "cell_type": "markdown",
      "id": "9fd36d93e1c8449d",
      "metadata": {},
      "source": [
        ":::{eval-rst}\n",
        ".. autofunction:: sax.circuit.draw_dag\n",
        ":::\n"
      ]
    },
    {
      "cell_type": "code",
      "execution_count": 11,
      "id": "9f179f16e514346f",
      "metadata": {
        "execution": {
          "iopub.execute_input": "2023-07-01T03:33:45.381733Z",
          "iopub.status.busy": "2023-07-01T03:33:45.381525Z",
          "iopub.status.idle": "2023-07-01T03:33:45.389303Z",
          "shell.execute_reply": "2023-07-01T03:33:45.388716Z"
        },
        "papermill": {
          "duration": 0.015363,
          "end_time": "2023-07-01T03:33:45.390621",
          "exception": false,
          "start_time": "2023-07-01T03:33:45.375258",
          "status": "completed"
        },
        "tags": [
          "hide-input"
        ]
      },
      "outputs": [],
      "source": [
        "\n",
        "\n",
        "def draw_dag(dag, with_labels=True, **kwargs):\n",
        "    _patch_path()\n",
        "    if shutil.which(\"dot\"):\n",
        "        return nx.draw(\n",
        "            dag,\n",
        "            nx.nx_pydot.pydot_layout(dag, prog=\"dot\"),\n",
        "            with_labels=with_labels,\n",
        "            **kwargs\n",
        "        )\n",
        "    else:\n",
        "        return nx.draw(dag, _my_dag_pos(dag), with_labels=with_labels, **kwargs)\n",
        "\n",
        "\n",
        "def _patch_path():\n",
        "    os_paths = {p: None for p in os.environ.get(\"PATH\", \"\").split(os.pathsep)}\n",
        "    sys_paths = {p: None for p in sys.path}\n",
        "    other_paths = {os.path.dirname(sys.executable): None}\n",
        "    os.environ[\"PATH\"] = os.pathsep.join({**os_paths, **sys_paths, **other_paths})\n",
        "\n",
        "\n",
        "def _my_dag_pos(dag):\n",
        "    # inferior to pydot\n",
        "    in_degree = {}\n",
        "    for k, v in dag.in_degree():\n",
        "        if v not in in_degree:\n",
        "            in_degree[v] = []\n",
        "        in_degree[v].append(k)\n",
        "\n",
        "    widths = {k: len(vs) for k, vs in in_degree.items()}\n",
        "    width = max(widths.values())\n",
        "    height = max(widths) + 1\n",
        "\n",
        "    horizontal_pos = {\n",
        "        k: np.linspace(0, 1, w + 2)[1:-1] * width for k, w in widths.items()\n",
        "    }\n",
        "\n",
        "    pos = {}\n",
        "    for k, vs in in_degree.items():\n",
        "        for x, v in zip(horizontal_pos[k], vs):\n",
        "            pos[v] = (x, -k)\n",
        "    return pos"
      ]
    },
    {
      "cell_type": "code",
      "execution_count": 12,
      "id": "b6d6e06e-b501-4d3e-8eb6-0d7117abf8e8",
      "metadata": {
        "execution": {
          "iopub.execute_input": "2023-07-01T03:33:45.402967Z",
          "iopub.status.busy": "2023-07-01T03:33:45.402675Z",
          "iopub.status.idle": "2023-07-01T03:33:45.833867Z",
          "shell.execute_reply": "2023-07-01T03:33:45.833275Z"
        },
        "papermill": {
          "duration": 0.439438,
          "end_time": "2023-07-01T03:33:45.835561",
          "exception": false,
          "start_time": "2023-07-01T03:33:45.396123",
          "status": "completed"
        },
        "tags": []
      },
      "outputs": [
        {
          "data": {
            "image/png": "[encoded data removed]",
            "text/plain": [
              "<Figure size 640x480 with 1 Axes>"
            ]
          },
          "metadata": {},
          "output_type": "display_data"
        }
      ],
      "source": [
        "dag = create_dag(recnet, models)\n",
        "draw_dag(dag)"
      ]
    },
    {
      "cell_type": "markdown",
      "id": "d081c64c-c42c-467e-885d-6e8db2cf64cc",
      "metadata": {
        "papermill": {
          "duration": 0.006257,
          "end_time": "2023-07-01T03:33:45.848475",
          "exception": false,
          "start_time": "2023-07-01T03:33:45.842218",
          "status": "completed"
        },
        "tags": []
      },
      "source": [
        "Note that the DAG depends on the models we supply. We could for example stub one of the sub-netlists by a pre-defined model:"
      ]
    },
    {
      "cell_type": "code",
      "execution_count": 13,
      "id": "ebb11e68-ecc3-4d00-9870-b6682e06c39f",
      "metadata": {
        "execution": {
          "iopub.execute_input": "2023-07-01T03:33:45.861921Z",
          "iopub.status.busy": "2023-07-01T03:33:45.861621Z",
          "iopub.status.idle": "2023-07-01T03:33:46.069446Z",
          "shell.execute_reply": "2023-07-01T03:33:46.068883Z"
        },
        "papermill": {
          "duration": 0.216223,
          "end_time": "2023-07-01T03:33:46.070825",
          "exception": false,
          "start_time": "2023-07-01T03:33:45.854602",
          "status": "completed"
        },
        "tags": []
      },
      "outputs": [
        {
          "data": {
            "image/png": "[encoded data removed]",
            "text/plain": [
              "<Figure size 640x480 with 1 Axes>"
            ]
          },
          "metadata": {},
          "output_type": "display_data"
        }
      ],
      "source": [
        "dag_ = create_dag(recnet, {**models, 'mzi_delta_length10': mmi2x2})\n",
        "draw_dag(dag_, with_labels=True)"
      ]
    },
    {
      "cell_type": "markdown",
      "id": "b68c2f1a-f062-4f8a-89a5-8608524a5c06",
      "metadata": {
        "papermill": {
          "duration": 0.006622,
          "end_time": "2023-07-01T03:33:46.084383",
          "exception": false,
          "start_time": "2023-07-01T03:33:46.077761",
          "status": "completed"
        },
        "tags": []
      },
      "source": [
        "This is useful if we for example pre-calculated a certain model."
      ]
    },
    {
      "cell_type": "markdown",
      "id": "020381f6-872f-4aea-8822-ef1096553dc2",
      "metadata": {
        "papermill": {
          "duration": 0.006478,
          "end_time": "2023-07-01T03:33:46.097365",
          "exception": false,
          "start_time": "2023-07-01T03:33:46.090887",
          "status": "completed"
        },
        "tags": []
      },
      "source": [
        "We can easily find the root of the DAG:"
      ]
    },
    {
      "cell_type": "markdown",
      "id": "2a03603708b03a1a",
      "metadata": {},
      "source": [
        ":::{eval-rst}\n",
        ".. autofunction:: sax.circuit.find_root\n",
        ":::\n"
      ]
    },
    {
      "cell_type": "code",
      "execution_count": 14,
      "id": "5de1394277740e8f",
      "metadata": {
        "execution": {
          "iopub.execute_input": "2023-07-01T03:33:46.111576Z",
          "iopub.status.busy": "2023-07-01T03:33:46.111213Z",
          "iopub.status.idle": "2023-07-01T03:33:46.114738Z",
          "shell.execute_reply": "2023-07-01T03:33:46.114206Z"
        },
        "papermill": {
          "duration": 0.01201,
          "end_time": "2023-07-01T03:33:46.115847",
          "exception": false,
          "start_time": "2023-07-01T03:33:46.103837",
          "status": "completed"
        },
        "tags": [
          "hide-input"
        ]
      },
      "outputs": [],
      "source": [
        "def find_root(g):\n",
        "    nodes = [n for n, d in g.in_degree() if d == 0]\n",
        "    return nodes"
      ]
    },
    {
      "cell_type": "code",
      "execution_count": 15,
      "id": "11728146-6b54-48f2-acac-c8a5fa4e3b0f",
      "metadata": {
        "execution": {
          "iopub.execute_input": "2023-07-01T03:33:46.130228Z",
          "iopub.status.busy": "2023-07-01T03:33:46.129664Z",
          "iopub.status.idle": "2023-07-01T03:33:46.133578Z",
          "shell.execute_reply": "2023-07-01T03:33:46.133145Z"
        },
        "papermill": {
          "duration": 0.012364,
          "end_time": "2023-07-01T03:33:46.134695",
          "exception": false,
          "start_time": "2023-07-01T03:33:46.122331",
          "status": "completed"
        },
        "tags": []
      },
      "outputs": [
        {
          "data": {
            "text/plain": [
              "['twomzi']"
            ]
          },
          "execution_count": 15,
          "metadata": {},
          "output_type": "execute_result"
        }
      ],
      "source": [
        "find_root(dag)"
      ]
    },
    {
      "cell_type": "markdown",
      "id": "4e8065d2-19c8-444a-b1c2-ea3c62f90e0a",
      "metadata": {
        "papermill": {
          "duration": 0.00672,
          "end_time": "2023-07-01T03:33:46.147982",
          "exception": false,
          "start_time": "2023-07-01T03:33:46.141262",
          "status": "completed"
        },
        "tags": []
      },
      "source": [
        "Similarly we can find the leaves:"
      ]
    },
    {
      "cell_type": "markdown",
      "id": "3f11e14382c9fbee",
      "metadata": {},
      "source": [
        ":::{eval-rst}\n",
        ".. autofunction:: sax.circuit.find_leaves\n",
        ":::\n"
      ]
    },
    {
      "cell_type": "code",
      "execution_count": 16,
      "id": "995083deb219f926",
      "metadata": {
        "execution": {
          "iopub.execute_input": "2023-07-01T03:33:46.162494Z",
          "iopub.status.busy": "2023-07-01T03:33:46.162286Z",
          "iopub.status.idle": "2023-07-01T03:33:46.165191Z",
          "shell.execute_reply": "2023-07-01T03:33:46.164635Z"
        },
        "papermill": {
          "duration": 0.011603,
          "end_time": "2023-07-01T03:33:46.166353",
          "exception": false,
          "start_time": "2023-07-01T03:33:46.154750",
          "status": "completed"
        },
        "tags": [
          "hide-input"
        ]
      },
      "outputs": [],
      "source": [
        "def find_leaves(g):\n",
        "    nodes = [n for n, d in g.out_degree() if d == 0]\n",
        "    return nodes"
      ]
    },
    {
      "cell_type": "code",
      "execution_count": 17,
      "id": "7fa9afff-26b5-44cb-90bf-a32ef5e95bf5",
      "metadata": {
        "execution": {
          "iopub.execute_input": "2023-07-01T03:33:46.180572Z",
          "iopub.status.busy": "2023-07-01T03:33:46.180385Z",
          "iopub.status.idle": "2023-07-01T03:33:46.184063Z",
          "shell.execute_reply": "2023-07-01T03:33:46.183525Z"
        },
        "papermill": {
          "duration": 0.012645,
          "end_time": "2023-07-01T03:33:46.185612",
          "exception": false,
          "start_time": "2023-07-01T03:33:46.172967",
          "status": "completed"
        },
        "tags": []
      },
      "outputs": [
        {
          "data": {
            "text/plain": [
              "['bend_euler', 'mmi1x2', 'straight']"
            ]
          },
          "execution_count": 17,
          "metadata": {},
          "output_type": "execute_result"
        }
      ],
      "source": [
        "find_leaves(dag)"
      ]
    },
    {
      "cell_type": "markdown",
      "id": "59fb221d-951d-44df-a5d9-487a8b4dc4f8",
      "metadata": {
        "papermill": {
          "duration": 0.006776,
          "end_time": "2023-07-01T03:33:46.199277",
          "exception": false,
          "start_time": "2023-07-01T03:33:46.192501",
          "status": "completed"
        },
        "tags": []
      },
      "source": [
        "To be able to simulate the circuit, we need to supply a model for each of the leaves in the dependency DAG. Let's write a validator that checks this"
      ]
    },
    {
      "cell_type": "code",
      "execution_count": 18,
      "id": "e64002f9ca030b54",
      "metadata": {
        "execution": {
          "iopub.execute_input": "2023-07-01T03:33:46.214012Z",
          "iopub.status.busy": "2023-07-01T03:33:46.213512Z",
          "iopub.status.idle": "2023-07-01T03:33:46.218165Z",
          "shell.execute_reply": "2023-07-01T03:33:46.217635Z"
        },
        "papermill": {
          "duration": 0.013454,
          "end_time": "2023-07-01T03:33:46.219456",
          "exception": false,
          "start_time": "2023-07-01T03:33:46.206002",
          "status": "completed"
        },
        "tags": [
          "hide-input"
        ]
      },
      "outputs": [],
      "source": [
        "def _validate_models(models, dag):\n",
        "    required_models = find_leaves(dag)\n",
        "    missing_models = [m for m in required_models if m not in models]\n",
        "    if missing_models:\n",
        "        model_diff = {\n",
        "            \"Missing Models\": missing_models,\n",
        "            \"Given Models\": list(models),\n",
        "            \"Required Models\": required_models,\n",
        "        }\n",
        "        raise ValueError(\n",
        "            \"Missing models. The following models are still missing to build the circuit:\\n\"\n",
        "            f\"{black.format_str(repr(model_diff), mode=black.Mode())}\"\n",
        "        )\n",
        "    return {**models} # shallow copy"
      ]
    },
    {
      "cell_type": "code",
      "execution_count": 19,
      "id": "a97dbe93-a53f-4525-b721-2f329692cdc9",
      "metadata": {
        "execution": {
          "iopub.execute_input": "2023-07-01T03:33:46.234145Z",
          "iopub.status.busy": "2023-07-01T03:33:46.233673Z",
          "iopub.status.idle": "2023-07-01T03:33:46.237481Z",
          "shell.execute_reply": "2023-07-01T03:33:46.236814Z"
        },
        "papermill": {
          "duration": 0.012616,
          "end_time": "2023-07-01T03:33:46.238802",
          "exception": false,
          "start_time": "2023-07-01T03:33:46.226186",
          "status": "completed"
        },
        "tags": []
      },
      "outputs": [],
      "source": [
        "models = _validate_models(models, dag)"
      ]
    },
    {
      "cell_type": "markdown",
      "id": "e9f30a86-aa00-4f51-8b93-3440edc0b46b",
      "metadata": {
        "papermill": {
          "duration": 0.006799,
          "end_time": "2023-07-01T03:33:46.252344",
          "exception": false,
          "start_time": "2023-07-01T03:33:46.245545",
          "status": "completed"
        },
        "tags": []
      },
      "source": [
        "We can now dow a bottom-up simulation. Since at the bottom of the DAG, our circuit is always flat (i.e. not hierarchical) we can implement a minimal `_flat_circuit` definition, which only needs to work on a flat (non-hierarchical circuit):"
      ]
    },
    {
      "cell_type": "code",
      "execution_count": 20,
      "id": "8de5525f308a722d",
      "metadata": {
        "execution": {
          "iopub.execute_input": "2023-07-01T03:33:46.267163Z",
          "iopub.status.busy": "2023-07-01T03:33:46.266769Z",
          "iopub.status.idle": "2023-07-01T03:33:46.274001Z",
          "shell.execute_reply": "2023-07-01T03:33:46.273346Z"
        },
        "papermill": {
          "duration": 0.016027,
          "end_time": "2023-07-01T03:33:46.275170",
          "exception": false,
          "start_time": "2023-07-01T03:33:46.259143",
          "status": "completed"
        },
        "tags": [
          "hide-input"
        ]
      },
      "outputs": [],
      "source": [
        "def _flat_circuit(instances, connections, ports, models, backend):\n",
        "    evaluate_circuit = circuit_backends[backend]\n",
        "\n",
        "    inst2model = {k: models[inst.component] for k, inst in instances.items()}\n",
        "\n",
        "    model_settings = {name: get_settings(model) for name, model in inst2model.items()}\n",
        "    netlist_settings = {\n",
        "        name: {k: v for k, v in (inst.settings or {}).items() if k in model_settings[name]}\n",
        "        for name, inst in instances.items()\n",
        "    }\n",
        "    default_settings = merge_dicts(model_settings, netlist_settings)\n",
        "\n",
        "    def _circuit(**settings: Settings) -> SType:\n",
        "        settings = merge_dicts(default_settings, settings)\n",
        "        settings = _forward_global_settings(inst2model, settings)\n",
        "\n",
        "        instances: Dict[str, SType] = {}\n",
        "        for inst_name, model in inst2model.items():\n",
        "            instances[inst_name] = model(**settings.get(inst_name, {}))\n",
        "        #print(f\"{instances=}\")\n",
        "        #print(f\"{connections=}\")\n",
        "        #print(f\"{ports=}\")\n",
        "        S = evaluate_circuit(instances, connections, ports)\n",
        "        return S\n",
        "\n",
        "    _replace_kwargs(_circuit, **default_settings)\n",
        "\n",
        "    return _circuit\n",
        "\n",
        "def _forward_global_settings(instances, settings):\n",
        "    global_settings = {}\n",
        "    for k in list(settings.keys()):\n",
        "        if k in instances:\n",
        "            continue\n",
        "        global_settings[k] = settings.pop(k)\n",
        "    if global_settings:\n",
        "        settings = update_settings(settings, **global_settings)\n",
        "    return settings"
      ]
    },
    {
      "cell_type": "code",
      "execution_count": 21,
      "id": "1f415c32-70e4-4b40-a9e2-051fc187cbb9",
      "metadata": {
        "execution": {
          "iopub.execute_input": "2023-07-01T03:33:46.289929Z",
          "iopub.status.busy": "2023-07-01T03:33:46.289574Z",
          "iopub.status.idle": "2023-07-01T03:33:46.303838Z",
          "shell.execute_reply": "2023-07-01T03:33:46.303341Z"
        },
        "papermill": {
          "duration": 0.022942,
          "end_time": "2023-07-01T03:33:46.304935",
          "exception": false,
          "start_time": "2023-07-01T03:33:46.281993",
          "status": "completed"
        },
        "tags": []
      },
      "outputs": [
        {
          "name": "stderr",
          "output_type": "stream",
          "text": [
            "No GPU/TPU found, falling back to CPU. (Set TF_CPP_MIN_LOG_LEVEL=0 and rerun for more info.)\n"
          ]
        }
      ],
      "source": [
        "flatnet = recnet.__root__['mzi_delta_length10']\n",
        "single_mzi = _flat_circuit(flatnet.instances, flatnet.connections, flatnet.ports, models, \"default\")"
      ]
    },
    {
      "cell_type": "markdown",
      "id": "c4f3375c-baa3-433f-924a-eff50557bf9f",
      "metadata": {
        "papermill": {
          "duration": 0.00694,
          "end_time": "2023-07-01T03:33:46.318908",
          "exception": false,
          "start_time": "2023-07-01T03:33:46.311968",
          "status": "completed"
        },
        "tags": []
      },
      "source": [
        "The resulting circuit is just another SAX model (i.e. a python function) returing an SType:"
      ]
    },
    {
      "cell_type": "code",
      "execution_count": 22,
      "id": "058740c4-439b-4b00-91e7-15e3e7b6679c",
      "metadata": {
        "execution": {
          "iopub.execute_input": "2023-07-01T03:33:46.334234Z",
          "iopub.status.busy": "2023-07-01T03:33:46.333615Z",
          "iopub.status.idle": "2023-07-01T03:33:46.376113Z",
          "shell.execute_reply": "2023-07-01T03:33:46.375608Z"
        },
        "papermill": {
          "duration": 0.051592,
          "end_time": "2023-07-01T03:33:46.377416",
          "exception": false,
          "start_time": "2023-07-01T03:33:46.325824",
          "status": "completed"
        },
        "tags": []
      },
      "outputs": [],
      "source": [
        "single_mzi?"
      ]
    },
    {
      "cell_type": "markdown",
      "id": "2b2bbe9f-29ac-413a-b0a4-6c51da8689cb",
      "metadata": {
        "papermill": {
          "duration": 0.007143,
          "end_time": "2023-07-01T03:33:46.392578",
          "exception": false,
          "start_time": "2023-07-01T03:33:46.385435",
          "status": "completed"
        },
        "tags": []
      },
      "source": [
        "Let's 'execute' the circuit:"
      ]
    },
    {
      "cell_type": "code",
      "execution_count": 23,
      "id": "8784bf1b-933f-4dd6-b77b-bf47618168b4",
      "metadata": {
        "execution": {
          "iopub.execute_input": "2023-07-01T03:33:46.407776Z",
          "iopub.status.busy": "2023-07-01T03:33:46.407172Z",
          "iopub.status.idle": "2023-07-01T03:33:46.459828Z",
          "shell.execute_reply": "2023-07-01T03:33:46.459244Z"
        },
        "papermill": {
          "duration": 0.061542,
          "end_time": "2023-07-01T03:33:46.461072",
          "exception": false,
          "start_time": "2023-07-01T03:33:46.399530",
          "status": "completed"
        },
        "tags": []
      },
      "outputs": [
        {
          "data": {
            "text/plain": [
              "{('o1', 'o1'): Array(0., dtype=float32, weak_type=True),\n",
              " ('o2', 'o2'): Array(0., dtype=float32, weak_type=True),\n",
              " ('o1', 'o2'): Array(0.90000004, dtype=float32, weak_type=True),\n",
              " ('o2', 'o1'): Array(0.90000004, dtype=float32, weak_type=True)}"
            ]
          },
          "execution_count": 23,
          "metadata": {},
          "output_type": "execute_result"
        }
      ],
      "source": [
        "single_mzi()"
      ]
    },
    {
      "cell_type": "markdown",
      "id": "c852f384-c830-47f5-aa75-ee274abbcc35",
      "metadata": {
        "papermill": {
          "duration": 0.007332,
          "end_time": "2023-07-01T03:33:46.476586",
          "exception": false,
          "start_time": "2023-07-01T03:33:46.469254",
          "status": "completed"
        },
        "tags": []
      },
      "source": [
        "Now that we can handle flat circuits the extension to hierarchical circuits is not so difficult:"
      ]
    },
    {
      "cell_type": "markdown",
      "id": "277faea2871f7cd2",
      "metadata": {},
      "source": [
        ":::{eval-rst}\n",
        ".. autofunction:: sax.circuit.circuit\n",
        ":::\n"
      ]
    },
    {
      "cell_type": "code",
      "execution_count": 24,
      "id": "aa389f5302a492fa",
      "metadata": {
        "execution": {
          "iopub.execute_input": "2023-07-01T03:33:46.492517Z",
          "iopub.status.busy": "2023-07-01T03:33:46.492201Z",
          "iopub.status.idle": "2023-07-01T03:33:46.509264Z",
          "shell.execute_reply": "2023-07-01T03:33:46.508768Z"
        },
        "papermill": {
          "duration": 0.026709,
          "end_time": "2023-07-01T03:33:46.510715",
          "exception": false,
          "start_time": "2023-07-01T03:33:46.484006",
          "status": "completed"
        },
        "tags": [
          "hide-input"
        ]
      },
      "outputs": [],
      "source": [
        "\n",
        "def circuit(\n",
        "    netlist: Union[Netlist, NetlistDict, RecursiveNetlist, RecursiveNetlistDict],\n",
        "    models: Optional[Dict[str, Model]] = None,\n",
        "    modes: Optional[List[str]] = None,\n",
        "    backend: str = \"default\",\n",
        ") -> Tuple[Model, CircuitInfo]:\n",
        "    netlist = _ensure_recursive_netlist_dict(netlist)\n",
        "\n",
        "    # TODO: do the following two steps *after* recursive netlist parsing.\n",
        "    netlist = remove_unused_instances(netlist)\n",
        "    netlist, instance_models = _extract_instance_models(netlist)\n",
        "\n",
        "    recnet: RecursiveNetlist = _validate_net(netlist)\n",
        "    dependency_dag: nx.DiGraph = _validate_dag(\n",
        "        create_dag(recnet, models)\n",
        "    )  # directed acyclic graph\n",
        "    models = _validate_models({**(models or {}), **instance_models}, dependency_dag)\n",
        "    modes = _validate_modes(modes)\n",
        "    backend = _validate_circuit_backend(backend)\n",
        "\n",
        "    circuit = None\n",
        "    new_models = {}\n",
        "    current_models = {}\n",
        "    model_names = list(nx.topological_sort(dependency_dag))[::-1]\n",
        "    for model_name in model_names:\n",
        "        if model_name in models:\n",
        "            new_models[model_name] = models[model_name]\n",
        "            continue\n",
        "\n",
        "        flatnet = recnet.__root__[model_name]\n",
        "\n",
        "        connections, ports, new_models = _make_singlemode_or_multimode(\n",
        "            flatnet, modes, new_models\n",
        "        )\n",
        "        current_models.update(new_models)\n",
        "        new_models = {}\n",
        "\n",
        "        current_models[model_name] = circuit = _flat_circuit(\n",
        "            flatnet.instances, connections, ports, current_models, backend\n",
        "        )\n",
        "\n",
        "    assert circuit is not None\n",
        "    return circuit, CircuitInfo(dag=dependency_dag, models=current_models)\n",
        "\n",
        "\n",
        "class NetlistDict(TypedDict):\n",
        "    instances: Dict\n",
        "    connections: Dict[str, str]\n",
        "    ports: Dict[str, str]\n",
        "\n",
        "\n",
        "RecursiveNetlistDict = Dict[str, NetlistDict]\n",
        "\n",
        "\n",
        "class CircuitInfo(NamedTuple):\n",
        "    dag: nx.DiGraph\n",
        "    models: Dict[str, Model]\n",
        "\n",
        "\n",
        "def _ensure_recursive_netlist_dict(netlist):\n",
        "    if not isinstance(netlist, dict):\n",
        "        netlist = netlist.dict()\n",
        "    if \"__root__\" in netlist:\n",
        "        netlist = netlist[\"__root__\"]\n",
        "    if \"instances\" in netlist:\n",
        "        netlist = {\"top_level\": netlist}\n",
        "    netlist = {**netlist}\n",
        "    for k, v in netlist.items():\n",
        "        netlist[k] = {**v}\n",
        "    return netlist\n",
        "\n",
        "\n",
        "def _extract_instance_models(netlist):\n",
        "    models = {}\n",
        "    for netname, net in netlist.items():\n",
        "        net = {**net}\n",
        "        net[\"instances\"] = {**net[\"instances\"]}\n",
        "        for name, inst in net[\"instances\"].items():\n",
        "            if callable(inst):\n",
        "                settings = get_settings(inst)\n",
        "                if isinstance(inst, partial) and inst.args:\n",
        "                    raise ValueError(\n",
        "                        \"SAX circuits and netlists don't support partials with positional arguments.\"\n",
        "                    )\n",
        "                while isinstance(inst, partial):\n",
        "                    inst = inst.func\n",
        "                models[inst.__name__] = inst\n",
        "                net[\"instances\"][name] = {\n",
        "                    \"component\": inst.__name__,\n",
        "                    \"settings\": settings,\n",
        "                }\n",
        "        netlist[netname] = net\n",
        "    return netlist, models\n",
        "\n",
        "\n",
        "def _validate_circuit_backend(backend):\n",
        "    backend = backend.lower()\n",
        "    # assert valid circuit_backend\n",
        "    if backend not in circuit_backends:\n",
        "        raise KeyError(\n",
        "            f\"circuit backend {backend} not found. Allowed circuit backends: \"\n",
        "            f\"{', '.join(circuit_backends.keys())}.\"\n",
        "        )\n",
        "    return backend\n",
        "\n",
        "\n",
        "def _validate_modes(modes) -> List[str]:\n",
        "    if modes is None:\n",
        "        return [\"te\"]\n",
        "    elif not modes:\n",
        "        return [\"te\"]\n",
        "    elif isinstance(modes, str):\n",
        "        return [modes]\n",
        "    elif all(isinstance(m, str) for m in modes):\n",
        "        return modes\n",
        "    else:\n",
        "        raise ValueError(f\"Invalid modes given: {modes}\")\n",
        "\n",
        "\n",
        "def _validate_net(netlist: Union[Netlist, RecursiveNetlist]) -> RecursiveNetlist:\n",
        "    if isinstance(netlist, dict):\n",
        "        try:\n",
        "            netlist = Netlist.parse_obj(netlist)\n",
        "        except ValidationError:\n",
        "            netlist = RecursiveNetlist.parse_obj(netlist)\n",
        "    elif isinstance(netlist, Netlist):\n",
        "        netlist = RecursiveNetlist(__root__={\"top_level\": netlist})\n",
        "    return netlist\n",
        "\n",
        "\n",
        "def _validate_dag(dag):\n",
        "    nodes = find_root(dag)\n",
        "    if len(nodes) > 1:\n",
        "        raise ValueError(f\"Multiple top_levels found in netlist: {nodes}\")\n",
        "    if len(nodes) < 1:\n",
        "        raise ValueError(f\"Netlist does not contain any nodes.\")\n",
        "    if not dag.is_directed():\n",
        "        raise ValueError(\"Netlist dependency cycles detected!\")\n",
        "    return dag\n",
        "\n",
        "\n",
        "def _make_singlemode_or_multimode(netlist, modes, models):\n",
        "    if len(modes) == 1:\n",
        "        connections, ports, models = _make_singlemode(netlist, modes[0], models)\n",
        "    else:\n",
        "        connections, ports, models = _make_multimode(netlist, modes, models)\n",
        "    return connections, ports, models\n",
        "\n",
        "\n",
        "def _make_singlemode(netlist, mode, models):\n",
        "    models = {k: singlemode(m, mode=mode) for k, m in models.items()}\n",
        "    return netlist.connections, netlist.ports, models\n",
        "\n",
        "\n",
        "def _make_multimode(netlist, modes, models):\n",
        "    models = {k: multimode(m, modes=modes) for k, m in models.items()}\n",
        "    connections = {\n",
        "        f\"{p1}@{mode}\": f\"{p2}@{mode}\"\n",
        "        for p1, p2 in netlist.connections.items()\n",
        "        for mode in modes\n",
        "    }\n",
        "    ports = {\n",
        "        f\"{p1}@{mode}\": f\"{p2}@{mode}\"\n",
        "        for p1, p2 in netlist.ports.items()\n",
        "        for mode in modes\n",
        "    }\n",
        "    return connections, ports, models"
      ]
    },
    {
      "cell_type": "code",
      "execution_count": 25,
      "id": "6d133b49-6f26-4e01-bcd9-7ca1b76dc55d",
      "metadata": {
        "execution": {
          "iopub.execute_input": "2023-07-01T03:33:46.527358Z",
          "iopub.status.busy": "2023-07-01T03:33:46.526809Z",
          "iopub.status.idle": "2023-07-01T03:33:46.577890Z",
          "shell.execute_reply": "2023-07-01T03:33:46.577297Z"
        },
        "papermill": {
          "duration": 0.060343,
          "end_time": "2023-07-01T03:33:46.579249",
          "exception": false,
          "start_time": "2023-07-01T03:33:46.518906",
          "status": "completed"
        },
        "tags": []
      },
      "outputs": [
        {
          "data": {
            "text/plain": [
              "{('o1', 'o1'): Array(0., dtype=float32, weak_type=True),\n",
              " ('o2', 'o2'): Array(0., dtype=float32, weak_type=True),\n",
              " ('o2', 'o1'): Array(0.81000006, dtype=float32, weak_type=True),\n",
              " ('o1', 'o2'): Array(0.81000006, dtype=float32, weak_type=True)}"
            ]
          },
          "execution_count": 25,
          "metadata": {},
          "output_type": "execute_result"
        }
      ],
      "source": [
        "double_mzi, info = circuit(recnet, models)\n",
        "double_mzi()"
      ]
    },
    {
      "cell_type": "markdown",
      "id": "e621a2e3-6918-4cfb-8a55-4cc754356020",
      "metadata": {
        "papermill": {
          "duration": 0.007212,
          "end_time": "2023-07-01T03:33:46.593794",
          "exception": false,
          "start_time": "2023-07-01T03:33:46.586582",
          "status": "completed"
        },
        "tags": []
      },
      "source": [
        "sometimes it's useful to get the required circuit model names to be able to create the circuit:"
      ]
    },
    {
      "cell_type": "markdown",
      "id": "63906b3dab243389",
      "metadata": {},
      "source": [
        ":::{eval-rst}\n",
        ".. autofunction:: sax.circuit.get_required_circuit_models\n",
        ":::\n"
      ]
    },
    {
      "cell_type": "code",
      "execution_count": 26,
      "id": "339d4a4c380a43ff",
      "metadata": {
        "execution": {
          "iopub.execute_input": "2023-07-01T03:33:46.609593Z",
          "iopub.status.busy": "2023-07-01T03:33:46.609194Z",
          "iopub.status.idle": "2023-07-01T03:33:46.614583Z",
          "shell.execute_reply": "2023-07-01T03:33:46.613994Z"
        },
        "papermill": {
          "duration": 0.014625,
          "end_time": "2023-07-01T03:33:46.615740",
          "exception": false,
          "start_time": "2023-07-01T03:33:46.601115",
          "status": "completed"
        },
        "tags": [
          "hide-input"
        ]
      },
      "outputs": [],
      "source": [
        "\n",
        "def get_required_circuit_models(\n",
        "        netlist: Union[Netlist, NetlistDict, RecursiveNetlist, RecursiveNetlistDict],\n",
        "        models: Optional[Dict[str, Model]] = None,\n",
        ") -> List:\n",
        "    if models is None:\n",
        "        models = {}\n",
        "    assert isinstance(models, dict)\n",
        "    netlist = _ensure_recursive_netlist_dict(netlist)\n",
        "    # TODO: do the following two steps *after* recursive netlist parsing.\n",
        "    netlist = remove_unused_instances(netlist)\n",
        "    netlist, instance_models = _extract_instance_models(netlist)\n",
        "    recnet: RecursiveNetlist = _validate_net(netlist)\n",
        "\n",
        "    missing_models = {}\n",
        "    missing_model_names = []\n",
        "    g = nx.DiGraph()\n",
        "\n",
        "    for model_name, subnetlist in recnet.dict()[\"__root__\"].items():\n",
        "        if not model_name in missing_models:\n",
        "            missing_models[model_name] = models.get(model_name, subnetlist)\n",
        "            g.add_node(model_name)\n",
        "        if model_name in models:\n",
        "            continue\n",
        "        for instance in subnetlist[\"instances\"].values():\n",
        "            component = instance[\"component\"]\n",
        "            if not component in missing_models:\n",
        "                missing_models[component] = models.get(component, None)\n",
        "                missing_model_names.append(component)\n",
        "                g.add_node(component)\n",
        "            g.add_edge(model_name, component)\n",
        "    return missing_model_names"
      ]
    },
    {
      "cell_type": "code",
      "execution_count": 27,
      "id": "99bb5c8f-8094-426d-a5d6-ceb73d80f706",
      "metadata": {
        "execution": {
          "iopub.execute_input": "2023-07-01T03:33:46.631474Z",
          "iopub.status.busy": "2023-07-01T03:33:46.630976Z",
          "iopub.status.idle": "2023-07-01T03:33:46.647175Z",
          "shell.execute_reply": "2023-07-01T03:33:46.646636Z"
        },
        "papermill": {
          "duration": 0.025553,
          "end_time": "2023-07-01T03:33:46.648499",
          "exception": false,
          "start_time": "2023-07-01T03:33:46.622946",
          "status": "completed"
        },
        "tags": []
      },
      "outputs": [
        {
          "data": {
            "text/plain": [
              "['mzi_delta_length10',\n",
              " 'mzi_delta_length20',\n",
              " 'bend_euler',\n",
              " 'mmi1x2',\n",
              " 'straight']"
            ]
          },
          "execution_count": 27,
          "metadata": {},
          "output_type": "execute_result"
        }
      ],
      "source": [
        "get_required_circuit_models(recnet, models)"
      ]
    }
  ],
  "metadata": {
    "kernelspec": {
      "display_name": "sax",
      "language": "python",
      "name": "sax"
    },
    "language_info": {
      "codemirror_mode": {
        "name": "ipython",
        "version": 3
      },
      "file_extension": ".py",
      "mimetype": "text/x-python",
      "name": "python",
      "nbconvert_exporter": "python",
      "pygments_lexer": "ipython3",
      "version": "3.11.4"
    },
    "papermill": {
      "default_parameters": {},
      "duration": 6.366613,
      "end_time": "2023-07-01T03:33:47.373360",
      "environment_variables": {},
      "exception": null,
      "input_path": "./nbs/07_circuit.ipynb",
      "output_path": "./nbs/07_circuit.ipynb",
      "parameters": {},
      "start_time": "2023-07-01T03:33:41.006747",
      "version": "2.3.4"
    }
  },
  "nbformat": 4,
  "nbformat_minor": 5
}