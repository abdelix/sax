{
  "cells": [
    {
      "cell_type": "code",
      "execution_count": 1,
      "id": "1ef35fb3e7a6743b",
      "metadata": {
        "execution": {
          "iopub.execute_input": "2023-09-02T18:59:24.764332Z",
          "iopub.status.busy": "2023-09-02T18:59:24.763859Z",
          "iopub.status.idle": "2023-09-02T18:59:24.767103Z",
          "shell.execute_reply": "2023-09-02T18:59:24.766542Z"
        },
        "papermill": {
          "duration": 0.012581,
          "end_time": "2023-09-02T18:59:24.768257",
          "exception": false,
          "start_time": "2023-09-02T18:59:24.755676",
          "status": "completed"
        },
        "tags": [
          "remove-cell"
        ]
      },
      "outputs": [],
      "source": []
    },
    {
      "cell_type": "markdown",
      "id": "2c9c99fe",
      "metadata": {
        "papermill": {
          "duration": 0.02964,
          "end_time": "2023-09-02T18:59:24.805008",
          "exception": false,
          "start_time": "2023-09-02T18:59:24.775368",
          "status": "completed"
        },
        "tags": []
      },
      "source": [
        "# Circuit\n",
        "\n",
        "> SAX Circuits"
      ]
    },
    {
      "cell_type": "markdown",
      "id": "0648dc6e-c0bd-45db-810a-d0c40af04837",
      "metadata": {
        "papermill": {
          "duration": 0.005805,
          "end_time": "2023-09-02T18:59:24.816779",
          "exception": false,
          "start_time": "2023-09-02T18:59:24.810974",
          "status": "completed"
        },
        "tags": []
      },
      "source": [
        "Let's start where we left off (see [Netlist](06_netlist.ipynb))."
      ]
    },
    {
      "cell_type": "code",
      "execution_count": 2,
      "id": "f9441980cc88a1da",
      "metadata": {
        "execution": {
          "iopub.execute_input": "2023-09-02T18:59:24.829992Z",
          "iopub.status.busy": "2023-09-02T18:59:24.829358Z",
          "iopub.status.idle": "2023-09-02T18:59:25.247382Z",
          "shell.execute_reply": "2023-09-02T18:59:25.246826Z"
        },
        "papermill": {
          "duration": 0.426264,
          "end_time": "2023-09-02T18:59:25.248904",
          "exception": false,
          "start_time": "2023-09-02T18:59:24.822640",
          "status": "completed"
        },
        "tags": [
          "remove-cell"
        ]
      },
      "outputs": [],
      "source": [
        "import os\n",
        "import warnings\n",
        "\n",
        "try:\n",
        "    from jax import jit\n",
        "except ImportError:\n",
        "    jit = lambda x: x\n",
        "\n",
        "os.environ[\"LOGURU_LEVEL\"] = \"CRITICAL\"\n",
        "warnings.filterwarnings(\"ignore\")"
      ]
    },
    {
      "cell_type": "code",
      "execution_count": 3,
      "id": "1067034fb7fae808",
      "metadata": {
        "execution": {
          "iopub.execute_input": "2023-09-02T18:59:25.262496Z",
          "iopub.status.busy": "2023-09-02T18:59:25.262224Z",
          "iopub.status.idle": "2023-09-02T18:59:25.644057Z",
          "shell.execute_reply": "2023-09-02T18:59:25.643493Z"
        },
        "papermill": {
          "duration": 0.39054,
          "end_time": "2023-09-02T18:59:25.645697",
          "exception": false,
          "start_time": "2023-09-02T18:59:25.255157",
          "status": "completed"
        },
        "tags": [
          "hide-input"
        ]
      },
      "outputs": [],
      "source": [
        "from __future__ import annotations\n",
        "\n",
        "import os\n",
        "import shutil\n",
        "import sys\n",
        "from functools import partial\n",
        "from typing import Any, Dict, List, NamedTuple, Optional, Tuple, TypedDict, Union\n",
        "\n",
        "import black\n",
        "import networkx as nx\n",
        "import numpy as np\n",
        "from sax import reciprocal\n",
        "from sax.backends import circuit_backends\n",
        "from sax.multimode import multimode, singlemode\n",
        "from sax.netlist import Netlist, RecursiveNetlist\n",
        "from sax.netlist_cleaning import remove_unused_instances\n",
        "from sax.typing_ import Model, Settings, SType, sdict, sdense, scoo\n",
        "from sax.utils import (\n",
        "    _replace_kwargs,\n",
        "    get_ports,\n",
        "    get_settings,\n",
        "    merge_dicts,\n",
        "    update_settings,\n",
        ")"
      ]
    },
    {
      "cell_type": "code",
      "execution_count": 4,
      "id": "f283828b5a48afa4",
      "metadata": {
        "execution": {
          "iopub.execute_input": "2023-09-02T18:59:25.659540Z",
          "iopub.status.busy": "2023-09-02T18:59:25.659207Z",
          "iopub.status.idle": "2023-09-02T18:59:25.662223Z",
          "shell.execute_reply": "2023-09-02T18:59:25.661778Z"
        },
        "papermill": {
          "duration": 0.011342,
          "end_time": "2023-09-02T18:59:25.663296",
          "exception": false,
          "start_time": "2023-09-02T18:59:25.651954",
          "status": "completed"
        },
        "tags": [
          "hide-input"
        ]
      },
      "outputs": [],
      "source": [
        "try:\n",
        "    from pydantic.v1 import ValidationError\n",
        "except ImportError:\n",
        "    from pydantic import ValidationError"
      ]
    },
    {
      "cell_type": "markdown",
      "id": "45ad2306-1ead-4b8c-b91e-c02ce4569b3a",
      "metadata": {
        "papermill": {
          "duration": 0.00597,
          "end_time": "2023-09-02T18:59:25.675266",
          "exception": false,
          "start_time": "2023-09-02T18:59:25.669296",
          "status": "completed"
        },
        "tags": []
      },
      "source": [
        "Let's start by creating a simple recursive netlist with gdsfactory.\n",
        "\n",
        ":::{note}\n",
        "We are using gdsfactory to create our netlist because it allows us to see the circuit we want to simulate and because we're striving to have a compatible netlist implementation in SAX.\n",
        "\n",
        "However... gdsfactory is not a dependency of SAX. You can also define your circuits by hand (see [SAX Quick Start](../examples/01_quick_start.ipynb) or you can use another tool to programmatically construct your netlists.\n",
        ":::"
      ]
    },
    {
      "cell_type": "code",
      "execution_count": 5,
      "id": "804a1c9b-c02b-4af6-ba3d-858f76634a69",
      "metadata": {
        "execution": {
          "iopub.execute_input": "2023-09-02T18:59:25.689141Z",
          "iopub.status.busy": "2023-09-02T18:59:25.688608Z",
          "iopub.status.idle": "2023-09-02T18:59:27.002059Z",
          "shell.execute_reply": "2023-09-02T18:59:27.001456Z"
        },
        "papermill": {
          "duration": 1.322102,
          "end_time": "2023-09-02T18:59:27.003406",
          "exception": false,
          "start_time": "2023-09-02T18:59:25.681304",
          "status": "completed"
        },
        "tags": []
      },
      "outputs": [
        {
          "data": {
            "image/png": "[encoded data removed]",
            "text/plain": [
              "<Figure size 640x480 with 1 Axes>"
            ]
          },
          "metadata": {},
          "output_type": "display_data"
        }
      ],
      "source": [
        "import gdsfactory as gf\n",
        "from IPython.display import display\n",
        "from gdsfactory.components import mzi\n",
        "from gdsfactory.get_netlist import get_netlist_recursive, get_netlist, get_netlist_yaml\n",
        "from gdsfactory.quickplotter import quickplot\n",
        "\n",
        "\n",
        "@gf.cell\n",
        "def twomzi():\n",
        "    c = gf.Component()\n",
        "\n",
        "    # instances\n",
        "    mzi1 = mzi(delta_length=10)\n",
        "    mzi2 = mzi(delta_length=20)\n",
        "\n",
        "    # references\n",
        "    mzi1_ = c << mzi1\n",
        "    mzi2_ = c << mzi2\n",
        "\n",
        "    # connections\n",
        "    mzi2_.connect(\"o1\", mzi1_.ports[\"o2\"])\n",
        "\n",
        "    # ports\n",
        "    c.add_port(\"o1\", port=mzi1_.ports[\"o1\"])\n",
        "    c.add_port(\"o2\", port=mzi2_.ports[\"o2\"])\n",
        "    return c\n",
        "\n",
        "\n",
        "comp = twomzi()\n",
        "quickplot(comp)\n",
        "recnet = RecursiveNetlist.parse_obj(\n",
        "    get_netlist_recursive(\n",
        "        comp, get_netlist_func=partial(get_netlist, full_settings=True)\n",
        "    )\n",
        ")\n",
        "flatnet = recnet.__root__[\"mzi_delta_length10\"]"
      ]
    },
    {
      "cell_type": "markdown",
      "id": "2b2a38fb-c83e-4b71-b195-ecca485fb0a3",
      "metadata": {
        "papermill": {
          "duration": 0.00645,
          "end_time": "2023-09-02T18:59:27.016696",
          "exception": false,
          "start_time": "2023-09-02T18:59:27.010246",
          "status": "completed"
        },
        "tags": []
      },
      "source": [
        "To be able to model this device we'll need some SAX dummy models:"
      ]
    },
    {
      "cell_type": "code",
      "execution_count": 6,
      "id": "fa486fdc14275cfc",
      "metadata": {
        "execution": {
          "iopub.execute_input": "2023-09-02T18:59:27.030998Z",
          "iopub.status.busy": "2023-09-02T18:59:27.030384Z",
          "iopub.status.idle": "2023-09-02T18:59:27.034024Z",
          "shell.execute_reply": "2023-09-02T18:59:27.033450Z"
        },
        "papermill": {
          "duration": 0.012123,
          "end_time": "2023-09-02T18:59:27.035202",
          "exception": false,
          "start_time": "2023-09-02T18:59:27.023079",
          "status": "completed"
        },
        "tags": [
          "remove-cell"
        ]
      },
      "outputs": [],
      "source": [
        "def bend_euler(\n",
        "    angle=90.0,\n",
        "    p=0.5,\n",
        "    # cross_section=\"strip\",\n",
        "    # direction=\"ccw\",\n",
        "    # with_bbox=True,\n",
        "    # with_arc_floorplan=True,\n",
        "    # npoints=720,\n",
        "):\n",
        "    return reciprocal({\n",
        "        ('o1', 'o2'): 1.0\n",
        "    })"
      ]
    },
    {
      "cell_type": "code",
      "execution_count": 7,
      "id": "cabe33c41df90836",
      "metadata": {
        "execution": {
          "iopub.execute_input": "2023-09-02T18:59:27.049087Z",
          "iopub.status.busy": "2023-09-02T18:59:27.048713Z",
          "iopub.status.idle": "2023-09-02T18:59:27.052305Z",
          "shell.execute_reply": "2023-09-02T18:59:27.051778Z"
        },
        "papermill": {
          "duration": 0.011805,
          "end_time": "2023-09-02T18:59:27.053424",
          "exception": false,
          "start_time": "2023-09-02T18:59:27.041619",
          "status": "completed"
        },
        "tags": [
          "remove-cell"
        ]
      },
      "outputs": [],
      "source": [
        "def mmi1x2(\n",
        "    width=0.5,\n",
        "    width_taper= 1.0,\n",
        "    length_taper= 10.0,\n",
        "    length_mmi= 5.5,\n",
        "    width_mmi= 2.5,\n",
        "    gap_mmi= 0.25,\n",
        "    # cross_section= strip,\n",
        "    # taper= {function= taper},\n",
        "    # with_bbox= True,\n",
        "):\n",
        "    return reciprocal({\n",
        "        ('o1', 'o2'): 0.45**0.5,\n",
        "        ('o1', 'o3'): 0.45**0.5,\n",
        "    })"
      ]
    },
    {
      "cell_type": "code",
      "execution_count": 8,
      "id": "7b86b0756ca5ba57",
      "metadata": {
        "execution": {
          "iopub.execute_input": "2023-09-02T18:59:27.067469Z",
          "iopub.status.busy": "2023-09-02T18:59:27.067075Z",
          "iopub.status.idle": "2023-09-02T18:59:27.070974Z",
          "shell.execute_reply": "2023-09-02T18:59:27.070430Z"
        },
        "papermill": {
          "duration": 0.012154,
          "end_time": "2023-09-02T18:59:27.072045",
          "exception": false,
          "start_time": "2023-09-02T18:59:27.059891",
          "status": "completed"
        },
        "tags": [
          "remove-cell"
        ]
      },
      "outputs": [],
      "source": [
        "def mmi2x2(\n",
        "    width=0.5,\n",
        "    width_taper= 1.0,\n",
        "    length_taper= 10.0,\n",
        "    length_mmi= 5.5,\n",
        "    width_mmi= 2.5,\n",
        "    gap_mmi= 0.25,\n",
        "    # cross_section= strip,\n",
        "    # taper= {function= taper},\n",
        "    # with_bbox= True,\n",
        "):\n",
        "    return reciprocal({\n",
        "        ('o1', 'o3'): 0.45**0.5,\n",
        "        ('o1', 'o4'): 1j * 0.45**0.5,\n",
        "        ('o2', 'o3'): 1j * 0.45**0.5,\n",
        "        ('o2', 'o4'): 0.45**0.5,\n",
        "    })"
      ]
    },
    {
      "cell_type": "code",
      "execution_count": 9,
      "id": "829855e199279353",
      "metadata": {
        "execution": {
          "iopub.execute_input": "2023-09-02T18:59:27.086033Z",
          "iopub.status.busy": "2023-09-02T18:59:27.085556Z",
          "iopub.status.idle": "2023-09-02T18:59:27.088666Z",
          "shell.execute_reply": "2023-09-02T18:59:27.088157Z"
        },
        "papermill": {
          "duration": 0.011261,
          "end_time": "2023-09-02T18:59:27.089822",
          "exception": false,
          "start_time": "2023-09-02T18:59:27.078561",
          "status": "completed"
        },
        "tags": [
          "remove-cell"
        ]
      },
      "outputs": [],
      "source": [
        "def straight(\n",
        "    length=0.01,\n",
        "    #npoints=2,\n",
        "    #with_bbox=True,\n",
        "    #cross_section=...\n",
        "):\n",
        "    return reciprocal({\n",
        "        ('o1', 'o2'): 1.0\n",
        "    })"
      ]
    },
    {
      "cell_type": "markdown",
      "id": "8efe90e4-dfe6-40bd-aa0a-26c74738d688",
      "metadata": {
        "papermill": {
          "duration": 0.006388,
          "end_time": "2023-09-02T18:59:27.102659",
          "exception": false,
          "start_time": "2023-09-02T18:59:27.096271",
          "status": "completed"
        },
        "tags": []
      },
      "source": [
        "In SAX, we usually aggregate the available models in a models dictionary:"
      ]
    },
    {
      "cell_type": "code",
      "execution_count": 10,
      "id": "c1ac9132-0ee2-443b-98f4-f790234551b0",
      "metadata": {
        "execution": {
          "iopub.execute_input": "2023-09-02T18:59:27.116708Z",
          "iopub.status.busy": "2023-09-02T18:59:27.116197Z",
          "iopub.status.idle": "2023-09-02T18:59:27.119110Z",
          "shell.execute_reply": "2023-09-02T18:59:27.118596Z"
        },
        "papermill": {
          "duration": 0.011198,
          "end_time": "2023-09-02T18:59:27.120282",
          "exception": false,
          "start_time": "2023-09-02T18:59:27.109084",
          "status": "completed"
        },
        "tags": []
      },
      "outputs": [],
      "source": [
        "models = {\n",
        "    'straight': straight,\n",
        "    'bend_euler': bend_euler,\n",
        "    'mmi1x2': mmi1x2,\n",
        "}"
      ]
    },
    {
      "cell_type": "markdown",
      "id": "05c6a808-1fbf-446c-badd-03a36c76e438",
      "metadata": {
        "papermill": {
          "duration": 0.006415,
          "end_time": "2023-09-02T18:59:27.133310",
          "exception": false,
          "start_time": "2023-09-02T18:59:27.126895",
          "status": "completed"
        },
        "tags": []
      },
      "source": [
        "We can also create some dummy multimode models:"
      ]
    },
    {
      "cell_type": "code",
      "execution_count": 11,
      "id": "e1cff51a0eff6db7",
      "metadata": {
        "execution": {
          "iopub.execute_input": "2023-09-02T18:59:27.147530Z",
          "iopub.status.busy": "2023-09-02T18:59:27.146983Z",
          "iopub.status.idle": "2023-09-02T18:59:27.150463Z",
          "shell.execute_reply": "2023-09-02T18:59:27.149923Z"
        },
        "papermill": {
          "duration": 0.011819,
          "end_time": "2023-09-02T18:59:27.151603",
          "exception": false,
          "start_time": "2023-09-02T18:59:27.139784",
          "status": "completed"
        },
        "tags": [
          "remove-cell"
        ]
      },
      "outputs": [],
      "source": [
        "def bend_euler_mm(\n",
        "    angle=90.0,\n",
        "    p=0.5,\n",
        "    # cross_section=\"strip\",\n",
        "    # direction=\"ccw\",\n",
        "    # with_bbox=True,\n",
        "    # with_arc_floorplan=True,\n",
        "    # npoints=720,\n",
        "):\n",
        "    return reciprocal({\n",
        "        ('o1@TE', 'o2@TE'): 0.9**0.5,\n",
        "        #('o1@TE', 'o2@TM'): 0.01**0.5,\n",
        "        #('o1@TM', 'o2@TE'): 0.01**0.5,\n",
        "        ('o1@TM', 'o2@TM'): 0.8**0.5,\n",
        "    })"
      ]
    },
    {
      "cell_type": "code",
      "execution_count": 12,
      "id": "cf02d7c0e1eb431c",
      "metadata": {
        "execution": {
          "iopub.execute_input": "2023-09-02T18:59:27.165708Z",
          "iopub.status.busy": "2023-09-02T18:59:27.165238Z",
          "iopub.status.idle": "2023-09-02T18:59:27.169415Z",
          "shell.execute_reply": "2023-09-02T18:59:27.168831Z"
        },
        "papermill": {
          "duration": 0.012489,
          "end_time": "2023-09-02T18:59:27.170600",
          "exception": false,
          "start_time": "2023-09-02T18:59:27.158111",
          "status": "completed"
        },
        "tags": [
          "remove-cell"
        ]
      },
      "outputs": [],
      "source": [
        "def mmi1x2_mm(\n",
        "    width=0.5,\n",
        "    width_taper= 1.0,\n",
        "    length_taper= 10.0,\n",
        "    length_mmi= 5.5,\n",
        "    width_mmi= 2.5,\n",
        "    gap_mmi= 0.25,\n",
        "    # cross_section= strip,\n",
        "    # taper= {function= taper},\n",
        "    # with_bbox= True,\n",
        "):\n",
        "    return reciprocal({\n",
        "        ('o1@TE', 'o2@TE'): 0.45**0.5,\n",
        "        ('o1@TE', 'o3@TE'): 0.45**0.5,\n",
        "        ('o1@TM', 'o2@TM'): 0.41**0.5,\n",
        "        ('o1@TM', 'o3@TM'): 0.41**0.5,\n",
        "        ('o1@TE', 'o2@TM'): 0.01**0.5,\n",
        "        ('o1@TM', 'o2@TE'): 0.01**0.5,\n",
        "        ('o1@TE', 'o3@TM'): 0.02**0.5,\n",
        "        ('o1@TM', 'o3@TE'): 0.02**0.5,\n",
        "    })"
      ]
    },
    {
      "cell_type": "code",
      "execution_count": 13,
      "id": "7528efe169efaac9",
      "metadata": {
        "execution": {
          "iopub.execute_input": "2023-09-02T18:59:27.184775Z",
          "iopub.status.busy": "2023-09-02T18:59:27.184309Z",
          "iopub.status.idle": "2023-09-02T18:59:27.187507Z",
          "shell.execute_reply": "2023-09-02T18:59:27.186966Z"
        },
        "papermill": {
          "duration": 0.011535,
          "end_time": "2023-09-02T18:59:27.188640",
          "exception": false,
          "start_time": "2023-09-02T18:59:27.177105",
          "status": "completed"
        },
        "tags": [
          "remove-cell"
        ]
      },
      "outputs": [],
      "source": [
        "def straight_mm(\n",
        "    length=0.01,\n",
        "    #npoints=2,\n",
        "    #with_bbox=True,\n",
        "    #cross_section=...\n",
        "):\n",
        "    return reciprocal({\n",
        "        ('o1@TE', 'o2@TE'): 1.0,\n",
        "        ('o1@TM', 'o2@TM'): 1.0,\n",
        "    })"
      ]
    },
    {
      "cell_type": "code",
      "execution_count": 14,
      "id": "b9476eb5-94e0-45c3-8e7e-a82fead8807b",
      "metadata": {
        "execution": {
          "iopub.execute_input": "2023-09-02T18:59:27.202796Z",
          "iopub.status.busy": "2023-09-02T18:59:27.202336Z",
          "iopub.status.idle": "2023-09-02T18:59:27.205152Z",
          "shell.execute_reply": "2023-09-02T18:59:27.204637Z"
        },
        "papermill": {
          "duration": 0.011069,
          "end_time": "2023-09-02T18:59:27.206314",
          "exception": false,
          "start_time": "2023-09-02T18:59:27.195245",
          "status": "completed"
        },
        "tags": []
      },
      "outputs": [],
      "source": [
        "models_mm = {\n",
        "    'straight': straight_mm,\n",
        "    'bend_euler': bend_euler_mm,\n",
        "    'mmi1x2': mmi1x2_mm,\n",
        "}"
      ]
    },
    {
      "cell_type": "markdown",
      "id": "3df7d9b6-acbb-4406-a3c8-8a9ad09db768",
      "metadata": {
        "papermill": {
          "duration": 0.006511,
          "end_time": "2023-09-02T18:59:27.219370",
          "exception": false,
          "start_time": "2023-09-02T18:59:27.212859",
          "status": "completed"
        },
        "tags": []
      },
      "source": [
        "We can now represent our recursive netlist model as a Directed Acyclic Graph:"
      ]
    },
    {
      "cell_type": "markdown",
      "id": "121e9aea9113546d",
      "metadata": {},
      "source": [
        ":::{eval-rst}\n",
        ".. autofunction:: sax.circuit.create_dag\n",
        ":::\n"
      ]
    },
    {
      "cell_type": "code",
      "execution_count": 15,
      "id": "b98fd76e7fac087f",
      "metadata": {
        "execution": {
          "iopub.execute_input": "2023-09-02T18:59:27.233667Z",
          "iopub.status.busy": "2023-09-02T18:59:27.233169Z",
          "iopub.status.idle": "2023-09-02T18:59:27.238512Z",
          "shell.execute_reply": "2023-09-02T18:59:27.237999Z"
        },
        "papermill": {
          "duration": 0.013712,
          "end_time": "2023-09-02T18:59:27.239639",
          "exception": false,
          "start_time": "2023-09-02T18:59:27.225927",
          "status": "completed"
        },
        "tags": [
          "hide-input"
        ]
      },
      "outputs": [],
      "source": [
        "def create_dag(\n",
        "    netlist: RecursiveNetlist,\n",
        "    models: Optional[Dict[str, Any]] = None,\n",
        "):\n",
        "    if models is None:\n",
        "        models = {}\n",
        "    assert isinstance(models, dict)\n",
        "\n",
        "    all_models = {}\n",
        "    g = nx.DiGraph()\n",
        "\n",
        "    for model_name, subnetlist in netlist.dict()[\"__root__\"].items():\n",
        "        if not model_name in all_models:\n",
        "            all_models[model_name] = models.get(model_name, subnetlist)\n",
        "            g.add_node(model_name)\n",
        "        if model_name in models:\n",
        "            continue\n",
        "        for instance in subnetlist[\"instances\"].values():\n",
        "            component = instance[\"component\"]\n",
        "            if not component in all_models:\n",
        "                all_models[component] = models.get(component, None)\n",
        "                g.add_node(component)\n",
        "            g.add_edge(model_name, component)\n",
        "\n",
        "    # we only need the nodes that depend on the parent...\n",
        "    parent_node = next(iter(netlist.__root__.keys()))\n",
        "    nodes = [parent_node, *nx.descendants(g, parent_node)]\n",
        "    g = nx.induced_subgraph(g, nodes)\n",
        "\n",
        "    return g"
      ]
    },
    {
      "cell_type": "markdown",
      "id": "26e16ccc645ff3c9",
      "metadata": {},
      "source": [
        ":::{eval-rst}\n",
        ".. autofunction:: sax.circuit.draw_dag\n",
        ":::\n"
      ]
    },
    {
      "cell_type": "code",
      "execution_count": 16,
      "id": "35007aeccbd9f355",
      "metadata": {
        "execution": {
          "iopub.execute_input": "2023-09-02T18:59:27.254157Z",
          "iopub.status.busy": "2023-09-02T18:59:27.253670Z",
          "iopub.status.idle": "2023-09-02T18:59:27.260493Z",
          "shell.execute_reply": "2023-09-02T18:59:27.259975Z"
        },
        "papermill": {
          "duration": 0.015182,
          "end_time": "2023-09-02T18:59:27.261562",
          "exception": false,
          "start_time": "2023-09-02T18:59:27.246380",
          "status": "completed"
        },
        "tags": [
          "hide-input"
        ]
      },
      "outputs": [],
      "source": [
        "def draw_dag(dag, with_labels=True, **kwargs):\n",
        "    _patch_path()\n",
        "    if shutil.which(\"dot\"):\n",
        "        return nx.draw(\n",
        "            dag,\n",
        "            nx.nx_pydot.pydot_layout(dag, prog=\"dot\"),\n",
        "            with_labels=with_labels,\n",
        "            **kwargs\n",
        "        )\n",
        "    else:\n",
        "        return nx.draw(dag, _my_dag_pos(dag), with_labels=with_labels, **kwargs)\n",
        "\n",
        "\n",
        "def _patch_path():\n",
        "    os_paths = {p: None for p in os.environ.get(\"PATH\", \"\").split(os.pathsep)}\n",
        "    sys_paths = {p: None for p in sys.path}\n",
        "    other_paths = {os.path.dirname(sys.executable): None}\n",
        "    os.environ[\"PATH\"] = os.pathsep.join({**os_paths, **sys_paths, **other_paths})\n",
        "\n",
        "\n",
        "def _my_dag_pos(dag):\n",
        "    # inferior to pydot\n",
        "    in_degree = {}\n",
        "    for k, v in dag.in_degree():\n",
        "        if v not in in_degree:\n",
        "            in_degree[v] = []\n",
        "        in_degree[v].append(k)\n",
        "\n",
        "    widths = {k: len(vs) for k, vs in in_degree.items()}\n",
        "    width = max(widths.values())\n",
        "    height = max(widths) + 1\n",
        "\n",
        "    horizontal_pos = {\n",
        "        k: np.linspace(0, 1, w + 2)[1:-1] * width for k, w in widths.items()\n",
        "    }\n",
        "\n",
        "    pos = {}\n",
        "    for k, vs in in_degree.items():\n",
        "        for x, v in zip(horizontal_pos[k], vs):\n",
        "            pos[v] = (x, -k)\n",
        "    return pos"
      ]
    },
    {
      "cell_type": "code",
      "execution_count": 17,
      "id": "b6d6e06e-b501-4d3e-8eb6-0d7117abf8e8",
      "metadata": {
        "execution": {
          "iopub.execute_input": "2023-09-02T18:59:27.275954Z",
          "iopub.status.busy": "2023-09-02T18:59:27.275634Z",
          "iopub.status.idle": "2023-09-02T18:59:27.526912Z",
          "shell.execute_reply": "2023-09-02T18:59:27.526424Z"
        },
        "papermill": {
          "duration": 0.259789,
          "end_time": "2023-09-02T18:59:27.528081",
          "exception": false,
          "start_time": "2023-09-02T18:59:27.268292",
          "status": "completed"
        },
        "tags": []
      },
      "outputs": [
        {
          "data": {
            "image/png": "[encoded data removed]",
            "text/plain": [
              "<Figure size 640x480 with 1 Axes>"
            ]
          },
          "metadata": {},
          "output_type": "display_data"
        }
      ],
      "source": [
        "dag = create_dag(recnet, models)\n",
        "draw_dag(dag)"
      ]
    },
    {
      "cell_type": "markdown",
      "id": "d081c64c-c42c-467e-885d-6e8db2cf64cc",
      "metadata": {
        "papermill": {
          "duration": 0.007834,
          "end_time": "2023-09-02T18:59:27.543633",
          "exception": false,
          "start_time": "2023-09-02T18:59:27.535799",
          "status": "completed"
        },
        "tags": []
      },
      "source": [
        "Note that the DAG depends on the models we supply. We could for example stub one of the sub-netlists by a pre-defined model:"
      ]
    },
    {
      "cell_type": "code",
      "execution_count": 18,
      "id": "ebb11e68-ecc3-4d00-9870-b6682e06c39f",
      "metadata": {
        "execution": {
          "iopub.execute_input": "2023-09-02T18:59:27.559683Z",
          "iopub.status.busy": "2023-09-02T18:59:27.559264Z",
          "iopub.status.idle": "2023-09-02T18:59:27.750257Z",
          "shell.execute_reply": "2023-09-02T18:59:27.749778Z"
        },
        "papermill": {
          "duration": 0.200337,
          "end_time": "2023-09-02T18:59:27.751381",
          "exception": false,
          "start_time": "2023-09-02T18:59:27.551044",
          "status": "completed"
        },
        "tags": []
      },
      "outputs": [
        {
          "data": {
            "image/png": "[encoded data removed]",
            "text/plain": [
              "<Figure size 640x480 with 1 Axes>"
            ]
          },
          "metadata": {},
          "output_type": "display_data"
        }
      ],
      "source": [
        "dag_ = create_dag(recnet, {**models, 'mzi_delta_length10': mmi2x2})\n",
        "draw_dag(dag_, with_labels=True)"
      ]
    },
    {
      "cell_type": "markdown",
      "id": "b68c2f1a-f062-4f8a-89a5-8608524a5c06",
      "metadata": {
        "papermill": {
          "duration": 0.008368,
          "end_time": "2023-09-02T18:59:27.768004",
          "exception": false,
          "start_time": "2023-09-02T18:59:27.759636",
          "status": "completed"
        },
        "tags": []
      },
      "source": [
        "This is useful if we for example pre-calculated a certain model."
      ]
    },
    {
      "cell_type": "markdown",
      "id": "020381f6-872f-4aea-8822-ef1096553dc2",
      "metadata": {
        "papermill": {
          "duration": 0.007879,
          "end_time": "2023-09-02T18:59:27.783747",
          "exception": false,
          "start_time": "2023-09-02T18:59:27.775868",
          "status": "completed"
        },
        "tags": []
      },
      "source": [
        "We can easily find the root of the DAG:"
      ]
    },
    {
      "cell_type": "markdown",
      "id": "fe2b05bb428d51c3",
      "metadata": {},
      "source": [
        ":::{eval-rst}\n",
        ".. autofunction:: sax.circuit.find_root\n",
        ":::\n"
      ]
    },
    {
      "cell_type": "code",
      "execution_count": 19,
      "id": "b0df921556e92d4c",
      "metadata": {
        "execution": {
          "iopub.execute_input": "2023-09-02T18:59:27.801107Z",
          "iopub.status.busy": "2023-09-02T18:59:27.800351Z",
          "iopub.status.idle": "2023-09-02T18:59:27.803819Z",
          "shell.execute_reply": "2023-09-02T18:59:27.803314Z"
        },
        "papermill": {
          "duration": 0.013319,
          "end_time": "2023-09-02T18:59:27.804911",
          "exception": false,
          "start_time": "2023-09-02T18:59:27.791592",
          "status": "completed"
        },
        "tags": [
          "hide-input"
        ]
      },
      "outputs": [],
      "source": [
        "def find_root(g):\n",
        "    nodes = [n for n, d in g.in_degree() if d == 0]\n",
        "    return nodes"
      ]
    },
    {
      "cell_type": "code",
      "execution_count": 20,
      "id": "11728146-6b54-48f2-acac-c8a5fa4e3b0f",
      "metadata": {
        "execution": {
          "iopub.execute_input": "2023-09-02T18:59:27.821960Z",
          "iopub.status.busy": "2023-09-02T18:59:27.821374Z",
          "iopub.status.idle": "2023-09-02T18:59:27.825211Z",
          "shell.execute_reply": "2023-09-02T18:59:27.824800Z"
        },
        "papermill": {
          "duration": 0.013528,
          "end_time": "2023-09-02T18:59:27.826292",
          "exception": false,
          "start_time": "2023-09-02T18:59:27.812764",
          "status": "completed"
        },
        "tags": []
      },
      "outputs": [
        {
          "data": {
            "text/plain": [
              "['twomzi']"
            ]
          },
          "execution_count": 20,
          "metadata": {},
          "output_type": "execute_result"
        }
      ],
      "source": [
        "find_root(dag)"
      ]
    },
    {
      "cell_type": "markdown",
      "id": "4e8065d2-19c8-444a-b1c2-ea3c62f90e0a",
      "metadata": {
        "papermill": {
          "duration": 0.007974,
          "end_time": "2023-09-02T18:59:27.842329",
          "exception": false,
          "start_time": "2023-09-02T18:59:27.834355",
          "status": "completed"
        },
        "tags": []
      },
      "source": [
        "Similarly we can find the leaves:"
      ]
    },
    {
      "cell_type": "markdown",
      "id": "5507928a1d23dfb0",
      "metadata": {},
      "source": [
        ":::{eval-rst}\n",
        ".. autofunction:: sax.circuit.find_leaves\n",
        ":::\n"
      ]
    },
    {
      "cell_type": "code",
      "execution_count": 21,
      "id": "d9f1906a2c5ed132",
      "metadata": {
        "execution": {
          "iopub.execute_input": "2023-09-02T18:59:27.859592Z",
          "iopub.status.busy": "2023-09-02T18:59:27.859143Z",
          "iopub.status.idle": "2023-09-02T18:59:27.862360Z",
          "shell.execute_reply": "2023-09-02T18:59:27.861823Z"
        },
        "papermill": {
          "duration": 0.013246,
          "end_time": "2023-09-02T18:59:27.863526",
          "exception": false,
          "start_time": "2023-09-02T18:59:27.850280",
          "status": "completed"
        },
        "tags": [
          "hide-input"
        ]
      },
      "outputs": [],
      "source": [
        "def find_leaves(g):\n",
        "    nodes = [n for n, d in g.out_degree() if d == 0]\n",
        "    return nodes"
      ]
    },
    {
      "cell_type": "code",
      "execution_count": 22,
      "id": "7fa9afff-26b5-44cb-90bf-a32ef5e95bf5",
      "metadata": {
        "execution": {
          "iopub.execute_input": "2023-09-02T18:59:27.881765Z",
          "iopub.status.busy": "2023-09-02T18:59:27.881402Z",
          "iopub.status.idle": "2023-09-02T18:59:27.885162Z",
          "shell.execute_reply": "2023-09-02T18:59:27.884654Z"
        },
        "papermill": {
          "duration": 0.014218,
          "end_time": "2023-09-02T18:59:27.886326",
          "exception": false,
          "start_time": "2023-09-02T18:59:27.872108",
          "status": "completed"
        },
        "tags": []
      },
      "outputs": [
        {
          "data": {
            "text/plain": [
              "['bend_euler', 'mmi1x2', 'straight']"
            ]
          },
          "execution_count": 22,
          "metadata": {},
          "output_type": "execute_result"
        }
      ],
      "source": [
        "find_leaves(dag)"
      ]
    },
    {
      "cell_type": "markdown",
      "id": "59fb221d-951d-44df-a5d9-487a8b4dc4f8",
      "metadata": {
        "papermill": {
          "duration": 0.008068,
          "end_time": "2023-09-02T18:59:27.902445",
          "exception": false,
          "start_time": "2023-09-02T18:59:27.894377",
          "status": "completed"
        },
        "tags": []
      },
      "source": [
        "To be able to simulate the circuit, we need to supply a model for each of the leaves in the dependency DAG. Let's write a validator that checks this"
      ]
    },
    {
      "cell_type": "code",
      "execution_count": 23,
      "id": "ad9fb6e95587923a",
      "metadata": {
        "execution": {
          "iopub.execute_input": "2023-09-02T18:59:27.919591Z",
          "iopub.status.busy": "2023-09-02T18:59:27.919224Z",
          "iopub.status.idle": "2023-09-02T18:59:27.923171Z",
          "shell.execute_reply": "2023-09-02T18:59:27.922649Z"
        },
        "papermill": {
          "duration": 0.013761,
          "end_time": "2023-09-02T18:59:27.924233",
          "exception": false,
          "start_time": "2023-09-02T18:59:27.910472",
          "status": "completed"
        },
        "tags": [
          "hide-input"
        ]
      },
      "outputs": [],
      "source": [
        "def _validate_models(models, dag):\n",
        "    required_models = find_leaves(dag)\n",
        "    missing_models = [m for m in required_models if m not in models]\n",
        "    if missing_models:\n",
        "        model_diff = {\n",
        "            \"Missing Models\": missing_models,\n",
        "            \"Given Models\": list(models),\n",
        "            \"Required Models\": required_models,\n",
        "        }\n",
        "        raise ValueError(\n",
        "            \"Missing models. The following models are still missing to build the circuit:\\n\"\n",
        "            f\"{black.format_str(repr(model_diff), mode=black.Mode())}\"\n",
        "        )\n",
        "    return {**models} # shallow copy"
      ]
    },
    {
      "cell_type": "code",
      "execution_count": 24,
      "id": "a97dbe93-a53f-4525-b721-2f329692cdc9",
      "metadata": {
        "execution": {
          "iopub.execute_input": "2023-09-02T18:59:27.941411Z",
          "iopub.status.busy": "2023-09-02T18:59:27.941047Z",
          "iopub.status.idle": "2023-09-02T18:59:27.943885Z",
          "shell.execute_reply": "2023-09-02T18:59:27.943371Z"
        },
        "papermill": {
          "duration": 0.012659,
          "end_time": "2023-09-02T18:59:27.944947",
          "exception": false,
          "start_time": "2023-09-02T18:59:27.932288",
          "status": "completed"
        },
        "tags": []
      },
      "outputs": [],
      "source": [
        "models = _validate_models(models, dag)"
      ]
    },
    {
      "cell_type": "markdown",
      "id": "e9f30a86-aa00-4f51-8b93-3440edc0b46b",
      "metadata": {
        "papermill": {
          "duration": 0.008059,
          "end_time": "2023-09-02T18:59:27.961146",
          "exception": false,
          "start_time": "2023-09-02T18:59:27.953087",
          "status": "completed"
        },
        "tags": []
      },
      "source": [
        "We can now dow a bottom-up simulation. Since at the bottom of the DAG, our circuit is always flat (i.e. not hierarchical) we can implement a minimal `_flat_circuit` definition, which only needs to work on a flat (non-hierarchical circuit):"
      ]
    },
    {
      "cell_type": "code",
      "execution_count": 25,
      "id": "7482112d2ffccbe8",
      "metadata": {
        "execution": {
          "iopub.execute_input": "2023-09-02T18:59:27.978392Z",
          "iopub.status.busy": "2023-09-02T18:59:27.978216Z",
          "iopub.status.idle": "2023-09-02T18:59:27.989027Z",
          "shell.execute_reply": "2023-09-02T18:59:27.988556Z"
        },
        "papermill": {
          "duration": 0.020884,
          "end_time": "2023-09-02T18:59:27.990152",
          "exception": false,
          "start_time": "2023-09-02T18:59:27.969268",
          "status": "completed"
        },
        "tags": [
          "hide-input"
        ]
      },
      "outputs": [],
      "source": [
        "def _flat_circuit(instances, connections, ports, models, backend):\n",
        "    analyze_fn, evaluate_fn = circuit_backends[backend]\n",
        "\n",
        "    inst2model = {k: models[inst.component] for k, inst in instances.items()}\n",
        "    inst_port_mode = {\n",
        "        k: _port_modes_dict(get_ports(models[inst.component]))\n",
        "        for k, inst in instances.items()\n",
        "    }\n",
        "    connections = _get_multimode_connections(connections, inst_port_mode)\n",
        "    ports = _get_multimode_ports(ports, inst_port_mode)\n",
        "\n",
        "    model_settings = {name: get_settings(model) for name, model in inst2model.items()}\n",
        "    netlist_settings = {\n",
        "        name: {k: v for k, v in (inst.settings or {}).items() if k in model_settings[name]}\n",
        "        for name, inst in instances.items()\n",
        "    }\n",
        "    default_settings = merge_dicts(model_settings, netlist_settings)\n",
        "    analyzed = analyze_fn(connections, ports)\n",
        "\n",
        "    def _circuit(**settings: Settings) -> SType:\n",
        "        settings = merge_dicts(default_settings, settings)\n",
        "        settings = _forward_global_settings(inst2model, settings)\n",
        "\n",
        "        instances: Dict[str, SType] = {}\n",
        "        for inst_name, model in inst2model.items():\n",
        "            instances[inst_name] = model(**settings.get(inst_name, {}))\n",
        "\n",
        "        S = evaluate_fn(analyzed, instances)\n",
        "        return S\n",
        "\n",
        "    _replace_kwargs(_circuit, **default_settings)\n",
        "\n",
        "    return _circuit\n",
        "\n",
        "def _forward_global_settings(instances, settings):\n",
        "    global_settings = {}\n",
        "    for k in list(settings.keys()):\n",
        "        if k in instances:\n",
        "            continue\n",
        "        global_settings[k] = settings.pop(k)\n",
        "    if global_settings:\n",
        "        settings = update_settings(settings, **global_settings)\n",
        "    return settings\n",
        "\n",
        "def _port_modes_dict(port_modes):\n",
        "    result = {}\n",
        "    for port_mode in port_modes:\n",
        "        if \"@\" in port_mode:\n",
        "            port, mode = port_mode.split(\"@\")\n",
        "        else:\n",
        "            port, mode = port_mode, None\n",
        "        if not port in result:\n",
        "            result[port] = set()\n",
        "        if not mode is None:\n",
        "            result[port].add(mode)\n",
        "    return result\n",
        "\n",
        "def _get_multimode_connections(connections, inst_port_mode):\n",
        "    mm_connections = {}\n",
        "    for inst_port1, inst_port2 in connections.items():\n",
        "        inst1, port1 = inst_port1.split(\",\")\n",
        "        inst2, port2 = inst_port2.split(\",\")\n",
        "        modes1 = inst_port_mode[inst1][port1]\n",
        "        modes2 = inst_port_mode[inst2][port2]\n",
        "        if not modes1 and not modes2:\n",
        "            mm_connections[f\"{inst1},{port1}\"] = f\"{inst2},{port2}\"\n",
        "        elif (not modes1) or (not modes2):\n",
        "            raise ValueError(\n",
        "                \"trying to connect a multimode model to single mode model.\\n\"\n",
        "                \"Please update your models dictionary.\\n\"\n",
        "                f\"Problematic connection: '{inst_port1}':'{inst_port2}'\"\n",
        "            )\n",
        "        else:\n",
        "            common_modes = modes1.intersection(modes2)\n",
        "            for mode in sorted(common_modes):\n",
        "                mm_connections[f\"{inst1},{port1}@{mode}\"] = f\"{inst2},{port2}@{mode}\"\n",
        "    return mm_connections\n",
        "\n",
        "def _get_multimode_ports(ports, inst_port_mode):\n",
        "    mm_ports = {}\n",
        "    for port, inst_port2 in ports.items():\n",
        "        inst2, port2 = inst_port2.split(\",\")\n",
        "        modes2 = inst_port_mode[inst2][port2]\n",
        "        if not modes2:\n",
        "            mm_ports[port] = f\"{inst2},{port2}\"\n",
        "        else:\n",
        "            for mode in sorted(modes2):\n",
        "                mm_ports[f\"{port}@{mode}\"] = f\"{inst2},{port2}@{mode}\"\n",
        "    return mm_ports"
      ]
    },
    {
      "cell_type": "code",
      "execution_count": 26,
      "id": "1f415c32-70e4-4b40-a9e2-051fc187cbb9",
      "metadata": {
        "execution": {
          "iopub.execute_input": "2023-09-02T18:59:28.007790Z",
          "iopub.status.busy": "2023-09-02T18:59:28.007429Z",
          "iopub.status.idle": "2023-09-02T18:59:29.448700Z",
          "shell.execute_reply": "2023-09-02T18:59:29.448186Z"
        },
        "papermill": {
          "duration": 1.451515,
          "end_time": "2023-09-02T18:59:29.449931",
          "exception": false,
          "start_time": "2023-09-02T18:59:27.998416",
          "status": "completed"
        },
        "tags": []
      },
      "outputs": [
        {
          "data": {
            "text/plain": [
              "(Array([[0. +0.j, 0.9+0.j],\n",
              "        [0.9+0.j, 0. +0.j]], dtype=complex128),\n",
              " {'o1': Array(0, dtype=int64, weak_type=True),\n",
              "  'o2': Array(1, dtype=int64, weak_type=True)})"
            ]
          },
          "execution_count": 26,
          "metadata": {},
          "output_type": "execute_result"
        }
      ],
      "source": [
        "flatnet = recnet.__root__[\"mzi_delta_length10\"]\n",
        "single_mzi = jit(\n",
        "    _flat_circuit(\n",
        "        flatnet.instances,\n",
        "        flatnet.connections,\n",
        "        flatnet.ports,\n",
        "        models,\n",
        "        \"default\",\n",
        "    )\n",
        ")\n",
        "single_mzi()"
      ]
    },
    {
      "cell_type": "markdown",
      "id": "c4f3375c-baa3-433f-924a-eff50557bf9f",
      "metadata": {
        "papermill": {
          "duration": 0.008494,
          "end_time": "2023-09-02T18:59:29.466924",
          "exception": false,
          "start_time": "2023-09-02T18:59:29.458430",
          "status": "completed"
        },
        "tags": []
      },
      "source": [
        "The resulting circuit is just another SAX model (i.e. a python function) returing an SType:"
      ]
    },
    {
      "cell_type": "code",
      "execution_count": 27,
      "id": "058740c4-439b-4b00-91e7-15e3e7b6679c",
      "metadata": {
        "execution": {
          "iopub.execute_input": "2023-09-02T18:59:29.484928Z",
          "iopub.status.busy": "2023-09-02T18:59:29.484327Z",
          "iopub.status.idle": "2023-09-02T18:59:29.524097Z",
          "shell.execute_reply": "2023-09-02T18:59:29.523517Z"
        },
        "papermill": {
          "duration": 0.050389,
          "end_time": "2023-09-02T18:59:29.525593",
          "exception": false,
          "start_time": "2023-09-02T18:59:29.475204",
          "status": "completed"
        },
        "tags": []
      },
      "outputs": [],
      "source": [
        "single_mzi?"
      ]
    },
    {
      "cell_type": "markdown",
      "id": "2b2bbe9f-29ac-413a-b0a4-6c51da8689cb",
      "metadata": {
        "papermill": {
          "duration": 0.008276,
          "end_time": "2023-09-02T18:59:29.542342",
          "exception": false,
          "start_time": "2023-09-02T18:59:29.534066",
          "status": "completed"
        },
        "tags": []
      },
      "source": [
        "Let's 'execute' the circuit:"
      ]
    },
    {
      "cell_type": "markdown",
      "id": "42a86f56-ab16-4c04-8738-2480ad378008",
      "metadata": {
        "papermill": {
          "duration": 0.008462,
          "end_time": "2023-09-02T18:59:29.559214",
          "exception": false,
          "start_time": "2023-09-02T18:59:29.550752",
          "status": "completed"
        },
        "tags": []
      },
      "source": [
        "Note that we can also supply multimode models:"
      ]
    },
    {
      "cell_type": "code",
      "execution_count": 28,
      "id": "87bc9f40-e97c-4505-8362-311ce5770077",
      "metadata": {
        "execution": {
          "iopub.execute_input": "2023-09-02T18:59:29.577184Z",
          "iopub.status.busy": "2023-09-02T18:59:29.576631Z",
          "iopub.status.idle": "2023-09-02T18:59:30.969431Z",
          "shell.execute_reply": "2023-09-02T18:59:30.968903Z"
        },
        "papermill": {
          "duration": 1.403396,
          "end_time": "2023-09-02T18:59:30.970925",
          "exception": false,
          "start_time": "2023-09-02T18:59:29.567529",
          "status": "completed"
        },
        "tags": []
      },
      "outputs": [
        {
          "data": {
            "text/plain": [
              "(Array([[0.        +0.j, 0.        +0.j, 0.7482    +0.j, 0.23011426+0.j],\n",
              "        [0.        +0.j, 0.        +0.j, 0.23011426+0.j, 0.5491    +0.j],\n",
              "        [0.7482    +0.j, 0.23011426+0.j, 0.        +0.j, 0.        +0.j],\n",
              "        [0.23011426+0.j, 0.5491    +0.j, 0.        +0.j, 0.        +0.j]],      dtype=complex128),\n",
              " {'o1@TE': Array(0, dtype=int64, weak_type=True),\n",
              "  'o1@TM': Array(1, dtype=int64, weak_type=True),\n",
              "  'o2@TE': Array(2, dtype=int64, weak_type=True),\n",
              "  'o2@TM': Array(3, dtype=int64, weak_type=True)})"
            ]
          },
          "execution_count": 28,
          "metadata": {},
          "output_type": "execute_result"
        }
      ],
      "source": [
        "flatnet = recnet.__root__[\"mzi_delta_length10\"]\n",
        "single_mzi = jit(\n",
        "    _flat_circuit(\n",
        "        flatnet.instances,\n",
        "        flatnet.connections,\n",
        "        flatnet.ports,\n",
        "        models_mm,\n",
        "        \"default\",\n",
        "    )\n",
        ")\n",
        "single_mzi()"
      ]
    },
    {
      "cell_type": "markdown",
      "id": "c852f384-c830-47f5-aa75-ee274abbcc35",
      "metadata": {
        "papermill": {
          "duration": 0.008519,
          "end_time": "2023-09-02T18:59:30.988129",
          "exception": false,
          "start_time": "2023-09-02T18:59:30.979610",
          "status": "completed"
        },
        "tags": []
      },
      "source": [
        "Now that we can handle flat circuits the extension to hierarchical circuits is not so difficult:"
      ]
    },
    {
      "cell_type": "markdown",
      "id": "e5b3d064d789017a",
      "metadata": {},
      "source": [
        ":::{eval-rst}\n",
        ".. autofunction:: sax.circuit.circuit\n",
        ":::\n"
      ]
    },
    {
      "cell_type": "code",
      "execution_count": 29,
      "id": "18a8f135c088da2f",
      "metadata": {
        "execution": {
          "iopub.execute_input": "2023-09-02T18:59:31.006850Z",
          "iopub.status.busy": "2023-09-02T18:59:31.006604Z",
          "iopub.status.idle": "2023-09-02T18:59:31.022808Z",
          "shell.execute_reply": "2023-09-02T18:59:31.022221Z"
        },
        "papermill": {
          "duration": 0.027304,
          "end_time": "2023-09-02T18:59:31.024062",
          "exception": false,
          "start_time": "2023-09-02T18:59:30.996758",
          "status": "completed"
        },
        "tags": [
          "hide-input"
        ]
      },
      "outputs": [],
      "source": [
        "def circuit(\n",
        "    netlist: Union[Netlist, NetlistDict, RecursiveNetlist, RecursiveNetlistDict],\n",
        "    models: Optional[Dict[str, Model]] = None,\n",
        "    backend: str = \"default\",\n",
        "    return_type: str = \"sdict\",\n",
        ") -> Tuple[Model, CircuitInfo]:\n",
        "    netlist = _ensure_recursive_netlist_dict(netlist)\n",
        "\n",
        "    # TODO: do the following two steps *after* recursive netlist parsing.\n",
        "    netlist = remove_unused_instances(netlist)\n",
        "    netlist, instance_models = _extract_instance_models(netlist)\n",
        "\n",
        "    recnet: RecursiveNetlist = _validate_net(netlist)\n",
        "    dependency_dag: nx.DiGraph = _validate_dag(create_dag(recnet, models))\n",
        "    models = _validate_models({**(models or {}), **instance_models}, dependency_dag)\n",
        "    backend = _validate_circuit_backend(backend)\n",
        "\n",
        "    circuit = None\n",
        "    new_models = {}\n",
        "    current_models = {}\n",
        "    model_names = list(nx.topological_sort(dependency_dag))[::-1]\n",
        "    for model_name in model_names:\n",
        "        if model_name in models:\n",
        "            new_models[model_name] = models[model_name]\n",
        "            continue\n",
        "\n",
        "        flatnet = recnet.__root__[model_name]\n",
        "        current_models.update(new_models)\n",
        "        new_models = {}\n",
        "\n",
        "        current_models[model_name] = circuit = _flat_circuit(\n",
        "            flatnet.instances,\n",
        "            flatnet.connections,\n",
        "            flatnet.ports,\n",
        "            current_models,\n",
        "            backend,\n",
        "        )\n",
        "\n",
        "    assert circuit is not None\n",
        "    circuit = _enforce_return_type(circuit, return_type)\n",
        "    return circuit, CircuitInfo(dag=dependency_dag, models=current_models)\n",
        "\n",
        "\n",
        "class NetlistDict(TypedDict):\n",
        "    instances: Dict\n",
        "    connections: Dict[str, str]\n",
        "    ports: Dict[str, str]\n",
        "\n",
        "\n",
        "RecursiveNetlistDict = Dict[str, NetlistDict]\n",
        "\n",
        "\n",
        "class CircuitInfo(NamedTuple):\n",
        "    dag: nx.DiGraph\n",
        "    models: Dict[str, Model]\n",
        "\n",
        "def _enforce_return_type(model, return_type):\n",
        "    stype_func = {\n",
        "        \"default\": lambda x: x,\n",
        "        \"stype\": lambda x: x,\n",
        "        \"sdict\": sdict,\n",
        "        \"scoo\": scoo,\n",
        "        \"sdense\": sdense,\n",
        "    }[return_type]\n",
        "    return stype_func(model)\n",
        "\n",
        "def _ensure_recursive_netlist_dict(netlist):\n",
        "    if not isinstance(netlist, dict):\n",
        "        netlist = netlist.dict()\n",
        "    if \"__root__\" in netlist:\n",
        "        netlist = netlist[\"__root__\"]\n",
        "    if \"instances\" in netlist:\n",
        "        netlist = {\"top_level\": netlist}\n",
        "    netlist = {**netlist}\n",
        "    for k, v in netlist.items():\n",
        "        netlist[k] = {**v}\n",
        "    return netlist\n",
        "\n",
        "\n",
        "def _extract_instance_models(netlist):\n",
        "    models = {}\n",
        "    for netname, net in netlist.items():\n",
        "        net = {**net}\n",
        "        net[\"instances\"] = {**net[\"instances\"]}\n",
        "        for name, inst in net[\"instances\"].items():\n",
        "            if callable(inst):\n",
        "                settings = get_settings(inst)\n",
        "                if isinstance(inst, partial) and inst.args:\n",
        "                    raise ValueError(\n",
        "                        \"SAX circuits and netlists don't support partials with positional arguments.\"\n",
        "                    )\n",
        "                while isinstance(inst, partial):\n",
        "                    inst = inst.func\n",
        "                models[inst.__name__] = inst\n",
        "                net[\"instances\"][name] = {\n",
        "                    \"component\": inst.__name__,\n",
        "                    \"settings\": settings,\n",
        "                }\n",
        "        netlist[netname] = net\n",
        "    return netlist, models\n",
        "\n",
        "\n",
        "def _validate_circuit_backend(backend):\n",
        "    backend = backend.lower()\n",
        "    # assert valid circuit_backend\n",
        "    if backend not in circuit_backends:\n",
        "        raise KeyError(\n",
        "            f\"circuit backend {backend} not found. Allowed circuit backends: \"\n",
        "            f\"{', '.join(circuit_backends.keys())}.\"\n",
        "        )\n",
        "    return backend\n",
        "\n",
        "\n",
        "def _validate_net(netlist: Union[Netlist, RecursiveNetlist]) -> RecursiveNetlist:\n",
        "    if isinstance(netlist, dict):\n",
        "        try:\n",
        "            netlist = Netlist.parse_obj(netlist)\n",
        "        except ValidationError:\n",
        "            netlist = RecursiveNetlist.parse_obj(netlist)\n",
        "    elif isinstance(netlist, Netlist):\n",
        "        netlist = RecursiveNetlist(__root__={\"top_level\": netlist})\n",
        "    return netlist\n",
        "\n",
        "\n",
        "def _validate_dag(dag):\n",
        "    nodes = find_root(dag)\n",
        "    if len(nodes) > 1:\n",
        "        raise ValueError(f\"Multiple top_levels found in netlist: {nodes}\")\n",
        "    if len(nodes) < 1:\n",
        "        raise ValueError(f\"Netlist does not contain any nodes.\")\n",
        "    if not dag.is_directed():\n",
        "        raise ValueError(\"Netlist dependency cycles detected!\")\n",
        "    return dag\n",
        "\n",
        "\n",
        "def _make_singlemode_or_multimode(netlist, modes, models):\n",
        "    if len(modes) == 1:\n",
        "        connections, ports, models = _make_singlemode(netlist, modes[0], models)\n",
        "    else:\n",
        "        connections, ports, models = _make_multimode(netlist, modes, models)\n",
        "    return connections, ports, models\n",
        "\n",
        "\n",
        "def _make_singlemode(netlist, mode, models):\n",
        "    models = {k: singlemode(m, mode=mode) for k, m in models.items()}\n",
        "    return netlist.connections, netlist.ports, models\n",
        "\n",
        "\n",
        "def _make_multimode(netlist, modes, models):\n",
        "    models = {k: multimode(m, modes=modes) for k, m in models.items()}\n",
        "    connections = {\n",
        "        f\"{p1}@{mode}\": f\"{p2}@{mode}\"\n",
        "        for p1, p2 in netlist.connections.items()\n",
        "        for mode in modes\n",
        "    }\n",
        "    ports = {\n",
        "        f\"{p1}@{mode}\": f\"{p2}@{mode}\"\n",
        "        for p1, p2 in netlist.ports.items()\n",
        "        for mode in modes\n",
        "    }\n",
        "    return connections, ports, models"
      ]
    },
    {
      "cell_type": "markdown",
      "id": "10321c72-bc74-453b-a87a-d5f89295217b",
      "metadata": {
        "papermill": {
          "duration": 0.0085,
          "end_time": "2023-09-02T18:59:31.041172",
          "exception": false,
          "start_time": "2023-09-02T18:59:31.032672",
          "status": "completed"
        },
        "tags": []
      },
      "source": [
        "single mode simulation:"
      ]
    },
    {
      "cell_type": "code",
      "execution_count": 30,
      "id": "6d133b49-6f26-4e01-bcd9-7ca1b76dc55d",
      "metadata": {
        "execution": {
          "iopub.execute_input": "2023-09-02T18:59:31.059441Z",
          "iopub.status.busy": "2023-09-02T18:59:31.058911Z",
          "iopub.status.idle": "2023-09-02T18:59:32.890085Z",
          "shell.execute_reply": "2023-09-02T18:59:32.889512Z"
        },
        "papermill": {
          "duration": 1.842006,
          "end_time": "2023-09-02T18:59:32.891655",
          "exception": false,
          "start_time": "2023-09-02T18:59:31.049649",
          "status": "completed"
        },
        "tags": []
      },
      "outputs": [
        {
          "data": {
            "text/plain": [
              "{('o1', 'o1'): Array(0.+0.j, dtype=complex128),\n",
              " ('o1', 'o2'): Array(0.81+0.j, dtype=complex128),\n",
              " ('o2', 'o1'): Array(0.81+0.j, dtype=complex128),\n",
              " ('o2', 'o2'): Array(0.+0.j, dtype=complex128)}"
            ]
          },
          "execution_count": 30,
          "metadata": {},
          "output_type": "execute_result"
        }
      ],
      "source": [
        "double_mzi, info = circuit(recnet, models, backend='default')\n",
        "jit(double_mzi)()"
      ]
    },
    {
      "cell_type": "markdown",
      "id": "3f332edd-909e-452b-b7bd-3a68719a5c20",
      "metadata": {
        "papermill": {
          "duration": 0.008866,
          "end_time": "2023-09-02T18:59:32.909933",
          "exception": false,
          "start_time": "2023-09-02T18:59:32.901067",
          "status": "completed"
        },
        "tags": []
      },
      "source": [
        "multi mode simulation:"
      ]
    },
    {
      "cell_type": "code",
      "execution_count": 31,
      "id": "277ec069-4b46-4d5e-9580-1dd0c28cd9a6",
      "metadata": {
        "execution": {
          "iopub.execute_input": "2023-09-02T18:59:32.928566Z",
          "iopub.status.busy": "2023-09-02T18:59:32.927931Z",
          "iopub.status.idle": "2023-09-02T18:59:35.000958Z",
          "shell.execute_reply": "2023-09-02T18:59:35.000448Z"
        },
        "papermill": {
          "duration": 2.083769,
          "end_time": "2023-09-02T18:59:35.002235",
          "exception": false,
          "start_time": "2023-09-02T18:59:32.918466",
          "status": "completed"
        },
        "tags": []
      },
      "outputs": [
        {
          "data": {
            "text/plain": [
              "{('o1@TE', 'o1@TE'): Array(0.+0.j, dtype=complex128),\n",
              " ('o1@TE', 'o1@TM'): Array(0.+0.j, dtype=complex128),\n",
              " ('o1@TE', 'o2@TE'): Array(0.61275581+0.j, dtype=complex128),\n",
              " ('o1@TE', 'o2@TM'): Array(0.29852723+0.j, dtype=complex128),\n",
              " ('o1@TM', 'o1@TE'): Array(0.+0.j, dtype=complex128),\n",
              " ('o1@TM', 'o1@TM'): Array(0.+0.j, dtype=complex128),\n",
              " ('o1@TM', 'o2@TE'): Array(0.29852723+0.j, dtype=complex128),\n",
              " ('o1@TM', 'o2@TM'): Array(0.35446338+0.j, dtype=complex128),\n",
              " ('o2@TE', 'o1@TE'): Array(0.61275581+0.j, dtype=complex128),\n",
              " ('o2@TE', 'o1@TM'): Array(0.29852723+0.j, dtype=complex128),\n",
              " ('o2@TE', 'o2@TE'): Array(0.+0.j, dtype=complex128),\n",
              " ('o2@TE', 'o2@TM'): Array(0.+0.j, dtype=complex128),\n",
              " ('o2@TM', 'o1@TE'): Array(0.29852723+0.j, dtype=complex128),\n",
              " ('o2@TM', 'o1@TM'): Array(0.35446338+0.j, dtype=complex128),\n",
              " ('o2@TM', 'o2@TE'): Array(0.+0.j, dtype=complex128),\n",
              " ('o2@TM', 'o2@TM'): Array(0.+0.j, dtype=complex128)}"
            ]
          },
          "execution_count": 31,
          "metadata": {},
          "output_type": "execute_result"
        }
      ],
      "source": [
        "double_mzi, info = circuit(recnet, models_mm, backend='default', return_type='sdict')\n",
        "jit(double_mzi)()"
      ]
    },
    {
      "cell_type": "markdown",
      "id": "e621a2e3-6918-4cfb-8a55-4cc754356020",
      "metadata": {
        "papermill": {
          "duration": 0.00915,
          "end_time": "2023-09-02T18:59:35.020433",
          "exception": false,
          "start_time": "2023-09-02T18:59:35.011283",
          "status": "completed"
        },
        "tags": []
      },
      "source": [
        "sometimes it's useful to get the required circuit model names to be able to create the circuit:"
      ]
    },
    {
      "cell_type": "markdown",
      "id": "e2b0c8bf928c9fa3",
      "metadata": {},
      "source": [
        ":::{eval-rst}\n",
        ".. autofunction:: sax.circuit.get_required_circuit_models\n",
        ":::\n"
      ]
    },
    {
      "cell_type": "code",
      "execution_count": 32,
      "id": "76f7f326d47be957",
      "metadata": {
        "execution": {
          "iopub.execute_input": "2023-09-02T18:59:35.039221Z",
          "iopub.status.busy": "2023-09-02T18:59:35.038849Z",
          "iopub.status.idle": "2023-09-02T18:59:35.044706Z",
          "shell.execute_reply": "2023-09-02T18:59:35.044198Z"
        },
        "papermill": {
          "duration": 0.016608,
          "end_time": "2023-09-02T18:59:35.045765",
          "exception": false,
          "start_time": "2023-09-02T18:59:35.029157",
          "status": "completed"
        },
        "tags": [
          "hide-input"
        ]
      },
      "outputs": [],
      "source": [
        "def get_required_circuit_models(\n",
        "        netlist: Union[Netlist, NetlistDict, RecursiveNetlist, RecursiveNetlistDict],\n",
        "        models: Optional[Dict[str, Model]] = None,\n",
        ") -> List:\n",
        "    if models is None:\n",
        "        models = {}\n",
        "    assert isinstance(models, dict)\n",
        "    netlist = _ensure_recursive_netlist_dict(netlist)\n",
        "    # TODO: do the following two steps *after* recursive netlist parsing.\n",
        "    netlist = remove_unused_instances(netlist)\n",
        "    netlist, instance_models = _extract_instance_models(netlist)\n",
        "    recnet: RecursiveNetlist = _validate_net(netlist)\n",
        "\n",
        "    missing_models = {}\n",
        "    missing_model_names = []\n",
        "    g = nx.DiGraph()\n",
        "\n",
        "    for model_name, subnetlist in recnet.dict()[\"__root__\"].items():\n",
        "        if not model_name in missing_models:\n",
        "            missing_models[model_name] = models.get(model_name, subnetlist)\n",
        "            g.add_node(model_name)\n",
        "        if model_name in models:\n",
        "            continue\n",
        "        for instance in subnetlist[\"instances\"].values():\n",
        "            component = instance[\"component\"]\n",
        "            if (not component in missing_models) and (not component in models):\n",
        "                missing_models[component] = models.get(component, None)\n",
        "                missing_model_names.append(component)\n",
        "                g.add_node(component)\n",
        "            g.add_edge(model_name, component)\n",
        "    return missing_model_names"
      ]
    },
    {
      "cell_type": "code",
      "execution_count": 33,
      "id": "99bb5c8f-8094-426d-a5d6-ceb73d80f706",
      "metadata": {
        "execution": {
          "iopub.execute_input": "2023-09-02T18:59:35.064874Z",
          "iopub.status.busy": "2023-09-02T18:59:35.064533Z",
          "iopub.status.idle": "2023-09-02T18:59:35.076777Z",
          "shell.execute_reply": "2023-09-02T18:59:35.076259Z"
        },
        "papermill": {
          "duration": 0.023422,
          "end_time": "2023-09-02T18:59:35.077956",
          "exception": false,
          "start_time": "2023-09-02T18:59:35.054534",
          "status": "completed"
        },
        "tags": []
      },
      "outputs": [
        {
          "data": {
            "text/plain": [
              "['mzi_delta_length10', 'mzi_delta_length20']"
            ]
          },
          "execution_count": 33,
          "metadata": {},
          "output_type": "execute_result"
        }
      ],
      "source": [
        "get_required_circuit_models(recnet, models)"
      ]
    }
  ],
  "metadata": {
    "kernelspec": {
      "display_name": "sax",
      "language": "python",
      "name": "sax"
    },
    "language_info": {
      "codemirror_mode": {
        "name": "ipython",
        "version": 3
      },
      "file_extension": ".py",
      "mimetype": "text/x-python",
      "name": "python",
      "nbconvert_exporter": "python",
      "pygments_lexer": "ipython3",
      "version": "3.11.5"
    },
    "papermill": {
      "default_parameters": {},
      "duration": 12.268692,
      "end_time": "2023-09-02T18:59:35.705199",
      "environment_variables": {},
      "exception": null,
      "input_path": "./nbs/07_circuit.ipynb",
      "output_path": "./nbs/07_circuit.ipynb",
      "parameters": {},
      "start_time": "2023-09-02T18:59:23.436507",
      "version": "2.4.0"
    }
  },
  "nbformat": 4,
  "nbformat_minor": 5
}