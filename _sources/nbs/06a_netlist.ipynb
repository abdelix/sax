{
  "cells": [
    {
      "cell_type": "code",
      "execution_count": 1,
      "id": "e5f157f312ca4143",
      "metadata": {
        "execution": {
          "iopub.execute_input": "2023-09-01T15:54:48.427987Z",
          "iopub.status.busy": "2023-09-01T15:54:48.427525Z",
          "iopub.status.idle": "2023-09-01T15:54:48.431987Z",
          "shell.execute_reply": "2023-09-01T15:54:48.431291Z"
        },
        "papermill": {
          "duration": 0.012826,
          "end_time": "2023-09-01T15:54:48.433530",
          "exception": false,
          "start_time": "2023-09-01T15:54:48.420704",
          "status": "completed"
        },
        "tags": [
          "remove-cell"
        ]
      },
      "outputs": [],
      "source": []
    },
    {
      "cell_type": "markdown",
      "id": "8cc19e90-28bf-4078-814e-9f2a7576c0f8",
      "metadata": {
        "papermill": {
          "duration": 0.003969,
          "end_time": "2023-09-01T15:54:48.441767",
          "exception": false,
          "start_time": "2023-09-01T15:54:48.437798",
          "status": "completed"
        },
        "tags": []
      },
      "source": [
        "# Netlist\n",
        "\n",
        "> SAX Netlist Models"
      ]
    },
    {
      "cell_type": "markdown",
      "id": "20e13e2c-b9da-4fe7-b920-9399c5d86b40",
      "metadata": {
        "papermill": {
          "duration": 0.003787,
          "end_time": "2023-09-01T15:54:48.449378",
          "exception": false,
          "start_time": "2023-09-01T15:54:48.445591",
          "status": "completed"
        },
        "tags": []
      },
      "source": [
        "The best introduction to SAX netlists for a sample GDSFactory component."
      ]
    },
    {
      "cell_type": "code",
      "execution_count": 2,
      "id": "c7fd3c5c5066329f",
      "metadata": {
        "execution": {
          "iopub.execute_input": "2023-09-01T15:54:48.458727Z",
          "iopub.status.busy": "2023-09-01T15:54:48.458154Z",
          "iopub.status.idle": "2023-09-01T15:54:48.464761Z",
          "shell.execute_reply": "2023-09-01T15:54:48.464241Z"
        },
        "papermill": {
          "duration": 0.01296,
          "end_time": "2023-09-01T15:54:48.466102",
          "exception": false,
          "start_time": "2023-09-01T15:54:48.453142",
          "status": "completed"
        },
        "tags": [
          "remove-cell"
        ]
      },
      "outputs": [],
      "source": [
        "import os, sys; sys.stderr = open(os.devnull, \"w\")"
      ]
    },
    {
      "cell_type": "code",
      "execution_count": 3,
      "id": "724c81c4a54d891b",
      "metadata": {
        "execution": {
          "iopub.execute_input": "2023-09-01T15:54:48.476879Z",
          "iopub.status.busy": "2023-09-01T15:54:48.476178Z",
          "iopub.status.idle": "2023-09-01T15:54:49.493451Z",
          "shell.execute_reply": "2023-09-01T15:54:49.492687Z"
        },
        "papermill": {
          "duration": 1.025312,
          "end_time": "2023-09-01T15:54:49.495264",
          "exception": false,
          "start_time": "2023-09-01T15:54:48.469952",
          "status": "completed"
        },
        "tags": [
          "hide-input"
        ]
      },
      "outputs": [],
      "source": [
        "import os\n",
        "import re\n",
        "from enum import Enum\n",
        "from functools import lru_cache, partial\n",
        "from typing import Any, Callable, Dict, Optional, Union\n",
        "\n",
        "import black\n",
        "import numpy as np\n",
        "import yaml\n",
        "from sax.utils import clean_string, get_settings, hash_dict"
      ]
    },
    {
      "cell_type": "code",
      "execution_count": 4,
      "id": "729fd654f03bae48",
      "metadata": {
        "execution": {
          "iopub.execute_input": "2023-09-01T15:54:49.506182Z",
          "iopub.status.busy": "2023-09-01T15:54:49.505362Z",
          "iopub.status.idle": "2023-09-01T15:54:49.509299Z",
          "shell.execute_reply": "2023-09-01T15:54:49.508766Z"
        },
        "papermill": {
          "duration": 0.01137,
          "end_time": "2023-09-01T15:54:49.511011",
          "exception": false,
          "start_time": "2023-09-01T15:54:49.499641",
          "status": "completed"
        },
        "tags": [
          "hide-input"
        ]
      },
      "outputs": [],
      "source": [
        "try:\n",
        "    from pydantic.v1 import BaseModel as _BaseModel\n",
        "    from pydantic.v1 import Extra, Field, ValidationError, validator\n",
        "except ImportError:\n",
        "    from pydantic import BaseModel as _BaseModel\n",
        "    from pydantic import Extra, Field, ValidationError, validator"
      ]
    },
    {
      "cell_type": "code",
      "execution_count": 5,
      "id": "e2fe626f8e9e2e1f",
      "metadata": {
        "execution": {
          "iopub.execute_input": "2023-09-01T15:54:49.568106Z",
          "iopub.status.busy": "2023-09-01T15:54:49.567304Z",
          "iopub.status.idle": "2023-09-01T15:54:49.573296Z",
          "shell.execute_reply": "2023-09-01T15:54:49.572825Z"
        },
        "papermill": {
          "duration": 0.059486,
          "end_time": "2023-09-01T15:54:49.574568",
          "exception": false,
          "start_time": "2023-09-01T15:54:49.515082",
          "status": "completed"
        },
        "tags": [
          "remove-cell"
        ]
      },
      "outputs": [],
      "source": [
        "class BaseModel(_BaseModel):\n",
        "    class Config:\n",
        "        extra = Extra.ignore\n",
        "        allow_mutation = False\n",
        "        frozen = True\n",
        "        json_encoders = {np.ndarray: lambda arr: np.round(arr, 12).tolist()}\n",
        "\n",
        "    def __repr__(self):\n",
        "        s = super().__repr__()\n",
        "        s = black.format_str(s, mode=black.Mode())\n",
        "        return s\n",
        "\n",
        "    def __str__(self):\n",
        "        return self.__repr__()\n",
        "\n",
        "    def __hash__(self):\n",
        "        return hash_dict(self.dict())"
      ]
    },
    {
      "cell_type": "markdown",
      "id": "cfb92500-0389-4dd9-8a26-138f6f355318",
      "metadata": {
        "papermill": {
          "duration": 0.006148,
          "end_time": "2023-09-01T15:54:49.584956",
          "exception": false,
          "start_time": "2023-09-01T15:54:49.578808",
          "status": "completed"
        },
        "tags": []
      },
      "source": [
        "The models were generated as follows:"
      ]
    },
    {
      "cell_type": "code",
      "execution_count": 6,
      "id": "1fa8acfa-38a9-4460-8971-849b22c9a379",
      "metadata": {
        "execution": {
          "iopub.execute_input": "2023-09-01T15:54:49.596466Z",
          "iopub.status.busy": "2023-09-01T15:54:49.595651Z",
          "iopub.status.idle": "2023-09-01T15:54:50.082290Z",
          "shell.execute_reply": "2023-09-01T15:54:50.081597Z"
        },
        "papermill": {
          "duration": 0.494062,
          "end_time": "2023-09-01T15:54:50.084169",
          "exception": false,
          "start_time": "2023-09-01T15:54:49.590107",
          "status": "completed"
        },
        "tags": []
      },
      "outputs": [
        {
          "name": "stdout",
          "output_type": "stream",
          "text": [
            "# generated by datamodel-codegen:\n",
            "#   filename:  <stdin>\n",
            "#   timestamp: 2023-09-01T15:54:50+00:00\n",
            "\n",
            "from __future__ import annotations\n",
            "\n",
            "from enum import Enum\n",
            "from typing import Any, Dict, Optional, Union\n",
            "\n",
            "from pydantic import BaseModel, Extra, Field\n",
            "\n",
            "\n",
            "class Component(BaseModel):\n",
            "    class Config:\n",
            "        extra = Extra.ignore\n",
            "        allow_mutation = False\n",
            "        frozen = True\n",
            "        json_encoders = {np.ndarray: lambda arr: np.round(arr, 12).tolist()}\n",
            "\n",
            "    component: Union[str, Dict[str, Any]] = Field(..., title='Component')\n",
            "    settings: Optional[Dict[str, Any]] = Field(None, title='Settings')\n",
            "\n",
            "\n",
            "class PortEnum(Enum):\n",
            "    ce = 'ce'\n",
            "    cw = 'cw'\n",
            "    nc = 'nc'\n",
            "    ne = 'ne'\n",
            "    nw = 'nw'\n",
            "    sc = 'sc'\n",
            "    se = 'se'\n",
            "    sw = 'sw'\n",
            "    center = 'center'\n",
            "    cc = 'cc'\n",
            "\n",
            "\n",
            "class Placement(BaseModel):\n",
            "    class Config:\n",
            "        extra = Extra.ignore\n",
            "        allow_mutation = False\n",
            "        frozen = True\n",
            "        json_encoders = {np.ndarray: lambda arr: np.round(arr, 12).tolist()}\n",
            "\n",
            "    x: Optional[Union[str, float]] = Field(0, title='X')\n",
            "    y: Optional[Union[str, float]] = Field(0, title='Y')\n",
            "    xmin: Optional[Union[str, float]] = Field(None, title='Xmin')\n",
            "    ymin: Optional[Union[str, float]] = Field(None, title='Ymin')\n",
            "    xmax: Optional[Union[str, float]] = Field(None, title='Xmax')\n",
            "    ymax: Optional[Union[str, float]] = Field(None, title='Ymax')\n",
            "    dx: Optional[float] = Field(0, title='Dx')\n",
            "    dy: Optional[float] = Field(0, title='Dy')\n",
            "    port: Optional[Union[str, PortEnum]] = Field(None, title='Port')\n",
            "    rotation: Optional[int] = Field(0, title='Rotation')\n",
            "    mirror: Optional[bool] = Field(False, title='Mirror')\n",
            "\n",
            "\n",
            "class Route(BaseModel):\n",
            "    class Config:\n",
            "        extra = Extra.ignore\n",
            "        allow_mutation = False\n",
            "        frozen = True\n",
            "        json_encoders = {np.ndarray: lambda arr: np.round(arr, 12).tolist()}\n",
            "\n",
            "    links: Dict[str, str] = Field(..., title='Links')\n",
            "    settings: Optional[Dict[str, Any]] = Field(None, title='Settings')\n",
            "    routing_strategy: Optional[str] = Field(None, title='Routing Strategy')\n",
            "\n",
            "\n",
            "class Netlist(BaseModel):\n",
            "    class Config:\n",
            "        extra = Extra.ignore\n",
            "        allow_mutation = False\n",
            "        frozen = True\n",
            "        json_encoders = {np.ndarray: lambda arr: np.round(arr, 12).tolist()}\n",
            "\n",
            "    instances: Dict[str, Component] = Field(..., title='Instances')\n",
            "    placements: Optional[Dict[str, Placement]] = Field(None, title='Placements')\n",
            "    connections: Optional[Dict[str, str]] = Field(None, title='Connections')\n",
            "    routes: Optional[Dict[str, Route]] = Field(None, title='Routes')\n",
            "    name: Optional[str] = Field(None, title='Name')\n",
            "    info: Optional[Dict[str, Any]] = Field(None, title='Info')\n",
            "    settings: Optional[Dict[str, Any]] = Field(None, title='Settings')\n",
            "    pdk: Optional[str] = Field(None, title='Pdk')\n",
            "    ports: Optional[Dict[str, str]] = Field(None, title='Ports')\n",
            "\n"
          ]
        }
      ],
      "source": [
        "import io\n",
        "import json\n",
        "from contextlib import redirect_stdout\n",
        "from urllib.request import urlopen\n",
        "\n",
        "import datamodel_code_generator as dcg\n",
        "\n",
        "NETLIST_SCHEMA_URL = \"https://raw.githubusercontent.com/gdsfactory/gdsfactory/v6.3.5/gdsfactory/tests/schemas/netlist.json\" # TODO: update to latest gdsfactory version.\n",
        "\n",
        "\n",
        "def download_schema(url=NETLIST_SCHEMA_URL):\n",
        "    response = urlopen(url)\n",
        "    json_text = response.read().decode()\n",
        "    schema_dict = json.loads(json_text)\n",
        "    return schema_dict\n",
        "\n",
        "\n",
        "def generate_models():\n",
        "    schema_dict = download_schema()\n",
        "    json_text = json.dumps(schema_dict)\n",
        "    buf = io.StringIO()\n",
        "    with redirect_stdout(buf):\n",
        "        dcg.generate(input_=json_text)\n",
        "    content = buf.getvalue()\n",
        "    content = content.replace(\n",
        "        \"extra = Extra.forbid\",\n",
        "        (\n",
        "            \"extra = Extra.ignore\\n\"\n",
        "            \"        allow_mutation = False\\n\"\n",
        "            \"        frozen = True\\n\"\n",
        "            \"        json_encoders = {np.ndarray: lambda arr: np.round(arr, 12).tolist()}\"\n",
        "        ),\n",
        "    )\n",
        "    content = (\n",
        "        content.replace(\"ComponentModel\", \"Component\")\n",
        "        .replace(\"PlacemetModel\", \"Placement\")\n",
        "        .replace(\"RouteModel\", \"Route\")\n",
        "        .replace(\"NetlistModel\", \"Netlist\")\n",
        "        .replace(\"PlacementModel\", \"Placement\")\n",
        "    )\n",
        "    return content\n",
        "\n",
        "\n",
        "print(generate_models())"
      ]
    },
    {
      "cell_type": "markdown",
      "id": "2c13ef8c-e744-4af1-801e-d59f0a762ec8",
      "metadata": {
        "papermill": {
          "duration": 0.004417,
          "end_time": "2023-09-01T15:54:50.093144",
          "exception": false,
          "start_time": "2023-09-01T15:54:50.088727",
          "status": "completed"
        },
        "tags": []
      },
      "source": [
        "This was autogenerated from the gdsfactory netlist json spec. Only a few validators were added and a few irrelevant fields were disabled."
      ]
    },
    {
      "cell_type": "code",
      "execution_count": 7,
      "id": "804136006cf64dc7",
      "metadata": {
        "execution": {
          "iopub.execute_input": "2023-09-01T15:54:50.103213Z",
          "iopub.status.busy": "2023-09-01T15:54:50.102594Z",
          "iopub.status.idle": "2023-09-01T15:54:50.127725Z",
          "shell.execute_reply": "2023-09-01T15:54:50.127182Z"
        },
        "papermill": {
          "duration": 0.032389,
          "end_time": "2023-09-01T15:54:50.129574",
          "exception": false,
          "start_time": "2023-09-01T15:54:50.097185",
          "status": "completed"
        },
        "tags": [
          "hide-input"
        ]
      },
      "outputs": [],
      "source": [
        "\n",
        "class Component(BaseModel):\n",
        "    class Config:\n",
        "        extra = Extra.ignore\n",
        "        allow_mutation = False\n",
        "        frozen = True\n",
        "        json_encoders = {np.ndarray: lambda arr: np.round(arr, 12).tolist()}\n",
        "\n",
        "    component: Union[str, Dict[str, Any]] = Field(..., title=\"Component\")\n",
        "    settings: Optional[Dict[str, Any]] = Field(None, title=\"Settings\")\n",
        "\n",
        "    # this was added:\n",
        "    @validator(\"component\")\n",
        "    def validate_component_name(cls, value):\n",
        "        if \",\" in value:\n",
        "            raise ValueError(\n",
        "                f\"Invalid component string. Should not contain ','. Got: {value}\"\n",
        "            )\n",
        "        return clean_string(value)\n",
        "    \n",
        "\n",
        "class PortEnum(Enum):\n",
        "    ce = \"ce\"\n",
        "    cw = \"cw\"\n",
        "    nc = \"nc\"\n",
        "    ne = \"ne\"\n",
        "    nw = \"nw\"\n",
        "    sc = \"sc\"\n",
        "    se = \"se\"\n",
        "    sw = \"sw\"\n",
        "    center = \"center\"\n",
        "    cc = \"cc\"\n",
        "\n",
        "\n",
        "class Placement(BaseModel):\n",
        "    class Config:\n",
        "        extra = Extra.ignore\n",
        "        allow_mutation = False\n",
        "        frozen = True\n",
        "        json_encoders = {np.ndarray: lambda arr: np.round(arr, 12).tolist()}\n",
        "\n",
        "    x: Optional[Union[str, float]] = Field(0, title=\"X\")\n",
        "    y: Optional[Union[str, float]] = Field(0, title=\"Y\")\n",
        "    xmin: Optional[Union[str, float]] = Field(None, title=\"Xmin\")\n",
        "    ymin: Optional[Union[str, float]] = Field(None, title=\"Ymin\")\n",
        "    xmax: Optional[Union[str, float]] = Field(None, title=\"Xmax\")\n",
        "    ymax: Optional[Union[str, float]] = Field(None, title=\"Ymax\")\n",
        "    dx: Optional[float] = Field(0, title=\"Dx\")\n",
        "    dy: Optional[float] = Field(0, title=\"Dy\")\n",
        "    port: Optional[Union[str, PortEnum]] = Field(None, title=\"Port\")\n",
        "    rotation: Optional[int] = Field(0, title=\"Rotation\")\n",
        "    mirror: Optional[bool] = Field(False, title=\"Mirror\")\n",
        "\n",
        "\n",
        "class Route(BaseModel):\n",
        "    class Config:\n",
        "        extra = Extra.ignore\n",
        "        allow_mutation = False\n",
        "        frozen = True\n",
        "        json_encoders = {np.ndarray: lambda arr: np.round(arr, 12).tolist()}\n",
        "\n",
        "    links: Dict[str, str] = Field(..., title=\"Links\")\n",
        "    settings: Optional[Dict[str, Any]] = Field(None, title=\"Settings\")\n",
        "    routing_strategy: Optional[str] = Field(None, title=\"Routing Strategy\")\n",
        "\n",
        "\n",
        "class Netlist(BaseModel):\n",
        "    class Config:\n",
        "        extra = Extra.ignore\n",
        "        allow_mutation = False\n",
        "        frozen = True\n",
        "        json_encoders = {np.ndarray: lambda arr: np.round(arr, 12).tolist()}\n",
        "\n",
        "    instances: Dict[str, Component] = Field(..., title=\"Instances\")\n",
        "    connections: Optional[Dict[str, str]] = Field(None, title=\"Connections\")\n",
        "    ports: Optional[Dict[str, str]] = Field(None, title=\"Ports\")\n",
        "    placements: Optional[Dict[str, Placement]] = Field(None, title=\"Placements\")\n",
        "\n",
        "    # these were removed (irrelevant for SAX):\n",
        "\n",
        "    # routes: Optional[Dict[str, Route]] = Field(None, title='Routes')\n",
        "    # name: Optional[str] = Field(None, title='Name')\n",
        "    # info: Optional[Dict[str, Any]] = Field(None, title='Info')\n",
        "    # settings: Optional[Dict[str, Any]] = Field(None, title='Settings')\n",
        "    # pdk: Optional[str] = Field(None, title='Pdk')\n",
        "\n",
        "    # these are extra additions:\n",
        "\n",
        "    @validator(\"instances\", pre=True)\n",
        "    def coerce_different_type_instance_into_component_model(cls, instances):\n",
        "        new_instances = {}\n",
        "        for k, v in instances.items():\n",
        "            if isinstance(v, str):\n",
        "                v = {\n",
        "                    \"component\": v,\n",
        "                    \"settings\": {},\n",
        "                }\n",
        "            new_instances[k] = v\n",
        "                \n",
        "        return new_instances\n",
        "    \n",
        "    @staticmethod\n",
        "    def clean_instance_string(value):\n",
        "        if \",\" in value:\n",
        "            raise ValueError(\n",
        "                f\"Invalid instance string. Should not contain ','. Got: {value}\"\n",
        "            )\n",
        "        return clean_string(value)\n",
        "\n",
        "    @validator(\"instances\")\n",
        "    def validate_instance_names(cls, instances):\n",
        "        return {cls.clean_instance_string(k): v for k, v in instances.items()}\n",
        "\n",
        "    @validator(\"placements\")\n",
        "    def validate_placement_names(cls, placements):\n",
        "        return {cls.clean_instance_string(k): v for k, v in placements.items()}\n",
        "\n",
        "    @classmethod\n",
        "    def clean_connection_string(cls, value):\n",
        "        *comp, port = value.split(\",\")\n",
        "        comp = cls.clean_instance_string(\",\".join(comp))\n",
        "        return f\"{comp},{port}\"\n",
        "\n",
        "    @validator(\"connections\")\n",
        "    def validate_connection_names(cls, connections):\n",
        "        return {\n",
        "            cls.clean_connection_string(k): cls.clean_connection_string(v)\n",
        "            for k, v in connections.items()\n",
        "        }\n",
        "\n",
        "    @validator(\"ports\")\n",
        "    def validate_port_names(cls, ports):\n",
        "        return {\n",
        "            cls.clean_instance_string(k): cls.clean_connection_string(v)\n",
        "            for k, v in ports.items()\n",
        "        }"
      ]
    },
    {
      "cell_type": "markdown",
      "id": "c899c560-8ffd-4905-8307-7171a7679b7e",
      "metadata": {
        "papermill": {
          "duration": 0.004094,
          "end_time": "2023-09-01T15:54:50.138178",
          "exception": false,
          "start_time": "2023-09-01T15:54:50.134084",
          "status": "completed"
        },
        "tags": []
      },
      "source": [
        "We add an additional model to represent recursive netlists:"
      ]
    },
    {
      "cell_type": "code",
      "execution_count": 8,
      "id": "cb6ccaaca99801b2",
      "metadata": {
        "execution": {
          "iopub.execute_input": "2023-09-01T15:54:50.148230Z",
          "iopub.status.busy": "2023-09-01T15:54:50.147495Z",
          "iopub.status.idle": "2023-09-01T15:54:50.152153Z",
          "shell.execute_reply": "2023-09-01T15:54:50.151638Z"
        },
        "papermill": {
          "duration": 0.011252,
          "end_time": "2023-09-01T15:54:50.153602",
          "exception": false,
          "start_time": "2023-09-01T15:54:50.142350",
          "status": "completed"
        },
        "tags": [
          "hide-input"
        ]
      },
      "outputs": [],
      "source": [
        "    \n",
        "class RecursiveNetlist(BaseModel):\n",
        "    class Config:\n",
        "        extra = Extra.ignore\n",
        "        allow_mutation = False\n",
        "        frozen = True\n",
        "        \n",
        "    __root__: Dict[str, Netlist]"
      ]
    },
    {
      "cell_type": "markdown",
      "id": "30d9ed2b-7764-49b8-a3aa-a370374cbef1",
      "metadata": {
        "papermill": {
          "duration": 0.004099,
          "end_time": "2023-09-01T15:54:50.161825",
          "exception": false,
          "start_time": "2023-09-01T15:54:50.157726",
          "status": "completed"
        },
        "tags": []
      },
      "source": [
        "Let's create a simple recursive netlist with gdsfactory.\n",
        "\n",
        ":::{note}\n",
        "We are using gdsfactory to create our netlist because it allows us to see the circuit we want to simulate and because we're striving to have a compatible netlist implementation in SAX.\n",
        "\n",
        "However... gdsfactory is not a dependency of SAX. You can also define your circuits by hand (see [SAX Quick Start](../examples/01_quick_start.ipynb) or you can use another tool to programmatically construct your netlists.\n",
        ":::"
      ]
    },
    {
      "cell_type": "code",
      "execution_count": 9,
      "id": "53079a13-8dc0-4b53-879c-b5e05609f86e",
      "metadata": {
        "execution": {
          "iopub.execute_input": "2023-09-01T15:54:50.171997Z",
          "iopub.status.busy": "2023-09-01T15:54:50.171250Z",
          "iopub.status.idle": "2023-09-01T15:54:51.692935Z",
          "shell.execute_reply": "2023-09-01T15:54:51.692245Z"
        },
        "papermill": {
          "duration": 1.529239,
          "end_time": "2023-09-01T15:54:51.695233",
          "exception": false,
          "start_time": "2023-09-01T15:54:50.165994",
          "status": "completed"
        },
        "tags": []
      },
      "outputs": [],
      "source": [
        "import gdsfactory as gf\n",
        "from gdsfactory.components import mzi\n",
        "from gdsfactory.get_netlist import get_netlist_recursive, get_netlist\n",
        "from IPython.display import display\n",
        "\n",
        "@gf.cell\n",
        "def twomzi():\n",
        "    c = gf.Component()\n",
        "    \n",
        "    # instances\n",
        "    mzi1 = mzi(delta_length=10)\n",
        "    mzi2 = mzi(delta_length=20)\n",
        "    \n",
        "    # references\n",
        "    mzi1_ = (c << mzi1)\n",
        "    mzi2_ = (c << mzi2)\n",
        "    \n",
        "    # connections\n",
        "    mzi2_.connect('o1', mzi1_.ports['o2'])\n",
        "    \n",
        "    # ports\n",
        "    c.add_port('o1', port=mzi1_.ports['o1'])\n",
        "    c.add_port('o2', port=mzi2_.ports['o2'])\n",
        "    return c\n",
        "\n",
        "comp  = twomzi()\n",
        "display(comp)\n",
        "recnet = RecursiveNetlist.parse_obj(get_netlist_recursive(comp, get_netlist_func=partial(get_netlist, full_settings=True)))\n",
        "flatnet = recnet.__root__['mzi_delta_length10']"
      ]
    },
    {
      "cell_type": "markdown",
      "id": "377687ad-d27d-4335-8012-9e408bddb19c",
      "metadata": {
        "papermill": {
          "duration": 0.005351,
          "end_time": "2023-09-01T15:54:51.705428",
          "exception": false,
          "start_time": "2023-09-01T15:54:51.700077",
          "status": "completed"
        },
        "tags": []
      },
      "source": [
        "Which gives the recursive netlist (go on to [Circuit](07_circuit.ipynb) from here.):"
      ]
    },
    {
      "cell_type": "markdown",
      "id": "1411606f78b610e3",
      "metadata": {},
      "source": [
        ":::{eval-rst}\n",
        ".. autofunction:: sax.netlist.netlist\n",
        ":::\n"
      ]
    },
    {
      "cell_type": "code",
      "execution_count": 10,
      "id": "1da87cb769171736",
      "metadata": {
        "execution": {
          "iopub.execute_input": "2023-09-01T15:54:51.841393Z",
          "iopub.status.busy": "2023-09-01T15:54:51.840962Z",
          "iopub.status.idle": "2023-09-01T15:54:51.845773Z",
          "shell.execute_reply": "2023-09-01T15:54:51.845039Z"
        },
        "papermill": {
          "duration": 0.137713,
          "end_time": "2023-09-01T15:54:51.847477",
          "exception": false,
          "start_time": "2023-09-01T15:54:51.709764",
          "status": "completed"
        },
        "tags": [
          "hide-input"
        ]
      },
      "outputs": [],
      "source": [
        "\n",
        "def netlist(dic: Dict) -> RecursiveNetlist:\n",
        "    if isinstance(dic, RecursiveNetlist):\n",
        "        return dic\n",
        "    elif isinstance(dic, Netlist):\n",
        "        dic = dic.dict()\n",
        "    try:\n",
        "        flat_net = Netlist.parse_obj(dic)\n",
        "        net = RecursiveNetlist.parse_obj({'top_level': flat_net})\n",
        "    except ValidationError:\n",
        "        net = RecursiveNetlist.parse_obj(dic)\n",
        "    return net"
      ]
    },
    {
      "cell_type": "markdown",
      "id": "faaffb91-6e3a-4321-86e9-f115fd770a1e",
      "metadata": {
        "papermill": {
          "duration": 0.004361,
          "end_time": "2023-09-01T15:54:51.857131",
          "exception": false,
          "start_time": "2023-09-01T15:54:51.852770",
          "status": "completed"
        },
        "tags": []
      },
      "source": [
        "## Load Netlist from folder"
      ]
    },
    {
      "cell_type": "code",
      "execution_count": null,
      "id": "439b429a-ce25-4a22-8ad9-b164b83bfac7",
      "metadata": {
        "execution": {},
        "papermill": {
          "duration": 1.007208,
          "end_time": "2023-09-01T15:54:52.868604",
          "exception": false,
          "start_time": "2023-09-01T15:54:51.861396",
          "status": "completed"
        },
        "tags": []
      },
      "outputs": [],
      "source": [
        "path = \"/home/flaport/ProgrammingWin/OctansModeling/octans/assets/basic_b1/_wavemeter_help.ba.pic.yml\""
      ]
    },
    {
      "cell_type": "markdown",
      "id": "2ff9d0807ec2dee4",
      "metadata": {},
      "source": [
        ":::{eval-rst}\n",
        ".. autofunction:: sax.netlist.load_netlist\n",
        ":::\n"
      ]
    },
    {
      "cell_type": "code",
      "execution_count": null,
      "id": "3cc06df7c597742b",
      "metadata": {
        "papermill": {
          "duration": null,
          "end_time": null,
          "exception": null,
          "start_time": null,
          "status": "completed"
        },
        "tags": [
          "hide-input"
        ]
      },
      "outputs": [],
      "source": [
        "@lru_cache()\n",
        "def load_netlist(pic_path) -> Netlist:\n",
        "    with open(pic_path, \"r\") as file:\n",
        "        net = yaml.safe_load(file.read())\n",
        "    return Netlist.parse_obj(net)"
      ]
    },
    {
      "cell_type": "markdown",
      "id": "7f2a090554c7ec30",
      "metadata": {},
      "source": [
        ":::{eval-rst}\n",
        ".. autofunction:: sax.netlist.load_recursive_netlist\n",
        ":::\n"
      ]
    },
    {
      "cell_type": "code",
      "execution_count": null,
      "id": "fdcef95cbe42fb1f",
      "metadata": {
        "papermill": {
          "duration": null,
          "end_time": null,
          "exception": null,
          "start_time": null,
          "status": "completed"
        },
        "tags": [
          "hide-input"
        ]
      },
      "outputs": [],
      "source": [
        "@lru_cache()\n",
        "def load_recursive_netlist(pic_path, ext='.yml'):\n",
        "    folder_path = os.path.dirname(os.path.abspath(pic_path))\n",
        "    _clean_string = lambda path: clean_string(re.sub(ext, \"\", os.path.split(path)[-1]))\n",
        "    netlists = {_clean_string(pic_path): None} # the circuit we're interested in should come first.\n",
        "    for filename in os.listdir(folder_path):\n",
        "        path = os.path.join(folder_path, filename)\n",
        "        if not os.path.isfile(path) or not path.endswith(ext):\n",
        "            continue\n",
        "        netlists[_clean_string(path)] = load_netlist(path)\n",
        "    return RecursiveNetlist.parse_obj(netlists)"
      ]
    },
    {
      "cell_type": "markdown",
      "id": "946d08c43f5cc8d7",
      "metadata": {},
      "source": [
        ":::{eval-rst}\n",
        ".. autofunction:: sax.netlist.get_netlist_instances_by_prefix\n",
        ":::\n"
      ]
    },
    {
      "cell_type": "code",
      "execution_count": null,
      "id": "c973c54328441942",
      "metadata": {
        "papermill": {
          "duration": null,
          "end_time": null,
          "exception": null,
          "start_time": null,
          "status": "completed"
        },
        "tags": [
          "hide-input"
        ]
      },
      "outputs": [],
      "source": [
        "def get_netlist_instances_by_prefix(\n",
        "        recursive_netlist: RecursiveNetlist,\n",
        "        prefix: str,\n",
        "):\n",
        "    \"\"\"\n",
        "    Returns a list of all instances with a given prefix in a recursive netlist.\n",
        "\n",
        "    Args:\n",
        "        recursive_netlist: The recursive netlist to search.\n",
        "        prefix: The prefix to search for.\n",
        "\n",
        "    Returns:\n",
        "        A list of all instances with the given prefix.\n",
        "    \"\"\"\n",
        "    recursive_netlist_root = recursive_netlist.dict()[\"__root__\"]\n",
        "    result = []\n",
        "    for key in recursive_netlist_root.keys():\n",
        "        if key.startswith(prefix):\n",
        "            result.append(key)\n",
        "    return result"
      ]
    },
    {
      "cell_type": "markdown",
      "id": "ccd44fe8e21afab7",
      "metadata": {},
      "source": [
        ":::{eval-rst}\n",
        ".. autofunction:: sax.netlist.get_component_instances\n",
        ":::\n"
      ]
    },
    {
      "cell_type": "code",
      "execution_count": null,
      "id": "8972ee7a753e9d20",
      "metadata": {
        "papermill": {
          "duration": null,
          "end_time": null,
          "exception": null,
          "start_time": null,
          "status": "completed"
        },
        "tags": [
          "hide-input"
        ]
      },
      "outputs": [],
      "source": [
        "def get_component_instances(\n",
        "        recursive_netlist: RecursiveNetlist,\n",
        "        top_level_prefix: str,\n",
        "        component_name_prefix: str,\n",
        "):\n",
        "    \"\"\"\n",
        "    Returns a dictionary of all instances of a given component in a recursive netlist.\n",
        "\n",
        "    Args:\n",
        "        recursive_netlist: The recursive netlist to search.\n",
        "        top_level_prefix: The prefix of the top level instance.\n",
        "        component_name_prefix: The name of the component to search for.\n",
        "\n",
        "    Returns:\n",
        "        A dictionary of all instances of the given component.\n",
        "    \"\"\"\n",
        "    instance_names = []\n",
        "    recursive_netlist_root = recursive_netlist.dict()[\"__root__\"]\n",
        "    top_level_prefix = get_netlist_instances_by_prefix(recursive_netlist, prefix=top_level_prefix)[\n",
        "        0\n",
        "    ]  # Should only be one in a netlist-to-digraph. Can always be very specified.\n",
        "    for key in recursive_netlist_root[top_level_prefix][\"instances\"]:\n",
        "        if recursive_netlist_root[top_level_prefix][\"instances\"][key][\"component\"].startswith(component_name_prefix):\n",
        "            # Note priority encoding on match.\n",
        "            instance_names.append(key)\n",
        "    return {component_name_prefix: instance_names}"
      ]
    },
    {
      "cell_type": "markdown",
      "id": "528a4a90038d07b1",
      "metadata": {},
      "source": [
        ":::{eval-rst}\n",
        ".. autofunction:: sax.netlist.get_netlist_instances_by_prefix\n",
        ":::\n"
      ]
    },
    {
      "cell_type": "code",
      "execution_count": null,
      "id": "c5284a84bf9404ac",
      "metadata": {
        "papermill": {
          "duration": null,
          "end_time": null,
          "exception": null,
          "start_time": null,
          "status": "completed"
        },
        "tags": [
          "hide-input"
        ]
      },
      "outputs": [],
      "source": [
        "def get_netlist_instances_by_prefix(\n",
        "        recursive_netlist: RecursiveNetlist,\n",
        "        prefix: str,\n",
        "):\n",
        "    \"\"\"\n",
        "    Returns a list of all instances with a given prefix in a recursive netlist.\n",
        "\n",
        "    Args:\n",
        "        recursive_netlist: The recursive netlist to search.\n",
        "        prefix: The prefix to search for.\n",
        "\n",
        "    Returns:\n",
        "        A list of all instances with the given prefix.\n",
        "    \"\"\"\n",
        "    recursive_netlist_root = recursive_netlist.dict()[\"__root__\"]\n",
        "    result = []\n",
        "    for key in recursive_netlist_root.keys():\n",
        "        if key.startswith(prefix):\n",
        "            result.append(key)\n",
        "    return result"
      ]
    },
    {
      "cell_type": "markdown",
      "id": "2175ff9086239cab",
      "metadata": {},
      "source": [
        ":::{eval-rst}\n",
        ".. autofunction:: sax.netlist.get_component_instances\n",
        ":::\n"
      ]
    },
    {
      "cell_type": "code",
      "execution_count": null,
      "id": "55f41cccdb8b0e8b",
      "metadata": {
        "papermill": {
          "duration": null,
          "end_time": null,
          "exception": null,
          "start_time": null,
          "status": "completed"
        },
        "tags": [
          "hide-input"
        ]
      },
      "outputs": [],
      "source": [
        "def get_component_instances(\n",
        "        recursive_netlist: RecursiveNetlist,\n",
        "        top_level_prefix: str,\n",
        "        component_name_prefix: str,\n",
        "):\n",
        "    \"\"\"\n",
        "    Returns a dictionary of all instances of a given component in a recursive netlist.\n",
        "\n",
        "    Args:\n",
        "        recursive_netlist: The recursive netlist to search.\n",
        "        top_level_prefix: The prefix of the top level instance.\n",
        "        component_name_prefix: The name of the component to search for.\n",
        "\n",
        "    Returns:\n",
        "        A dictionary of all instances of the given component.\n",
        "    \"\"\"\n",
        "    instance_names = []\n",
        "    recursive_netlist_root = recursive_netlist.dict()[\"__root__\"]\n",
        "    top_level_prefix = get_netlist_instances_by_prefix(recursive_netlist, prefix=top_level_prefix)[\n",
        "        0\n",
        "    ]  # Should only be one in a netlist-to-digraph. Can always be very specified.\n",
        "    for key in recursive_netlist_root[top_level_prefix][\"instances\"]:\n",
        "        if recursive_netlist_root[top_level_prefix][\"instances\"][key][\"component\"].startswith(component_name_prefix):\n",
        "            # Note priority encoding on match.\n",
        "            instance_names.append(key)\n",
        "    return {component_name_prefix: instance_names}"
      ]
    }
  ],
  "metadata": {
    "kernelspec": {
      "display_name": "sax",
      "language": "python",
      "name": "sax"
    },
    "papermill": {
      "default_parameters": {},
      "duration": 5.772427,
      "end_time": "2023-09-01T15:54:52.875458",
      "environment_variables": {},
      "exception": null,
      "input_path": "./nbs/06a_netlist.ipynb",
      "output_path": "./nbs/06a_netlist.ipynb",
      "parameters": {},
      "start_time": "2023-09-01T15:54:47.103031",
      "version": "2.4.0"
    }
  },
  "nbformat": 4,
  "nbformat_minor": 5
}