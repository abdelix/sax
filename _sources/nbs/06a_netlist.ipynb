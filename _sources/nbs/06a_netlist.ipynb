{
  "cells": [
    {
      "cell_type": "code",
      "execution_count": 1,
      "id": "715d95a949738466",
      "metadata": {
        "execution": {
          "iopub.execute_input": "2023-09-01T18:13:24.260507Z",
          "iopub.status.busy": "2023-09-01T18:13:24.260033Z",
          "iopub.status.idle": "2023-09-01T18:13:24.263266Z",
          "shell.execute_reply": "2023-09-01T18:13:24.262701Z"
        },
        "papermill": {
          "duration": 0.009184,
          "end_time": "2023-09-01T18:13:24.264506",
          "exception": false,
          "start_time": "2023-09-01T18:13:24.255322",
          "status": "completed"
        },
        "tags": [
          "remove-cell"
        ]
      },
      "outputs": [],
      "source": []
    },
    {
      "cell_type": "markdown",
      "id": "8cc19e90-28bf-4078-814e-9f2a7576c0f8",
      "metadata": {
        "papermill": {
          "duration": 0.003122,
          "end_time": "2023-09-01T18:13:24.271034",
          "exception": false,
          "start_time": "2023-09-01T18:13:24.267912",
          "status": "completed"
        },
        "tags": []
      },
      "source": [
        "# Netlist\n",
        "\n",
        "> SAX Netlist Models"
      ]
    },
    {
      "cell_type": "markdown",
      "id": "20e13e2c-b9da-4fe7-b920-9399c5d86b40",
      "metadata": {
        "papermill": {
          "duration": 0.003108,
          "end_time": "2023-09-01T18:13:24.277348",
          "exception": false,
          "start_time": "2023-09-01T18:13:24.274240",
          "status": "completed"
        },
        "tags": []
      },
      "source": [
        "The best introduction to SAX netlists for a sample GDSFactory component."
      ]
    },
    {
      "cell_type": "code",
      "execution_count": 2,
      "id": "336db82852c45a9f",
      "metadata": {
        "execution": {
          "iopub.execute_input": "2023-09-01T18:13:24.284981Z",
          "iopub.status.busy": "2023-09-01T18:13:24.284767Z",
          "iopub.status.idle": "2023-09-01T18:13:24.289789Z",
          "shell.execute_reply": "2023-09-01T18:13:24.289362Z"
        },
        "papermill": {
          "duration": 0.010331,
          "end_time": "2023-09-01T18:13:24.290966",
          "exception": false,
          "start_time": "2023-09-01T18:13:24.280635",
          "status": "completed"
        },
        "tags": [
          "remove-cell"
        ]
      },
      "outputs": [],
      "source": [
        "import os, sys; sys.stderr = open(os.devnull, \"w\")"
      ]
    },
    {
      "cell_type": "code",
      "execution_count": 3,
      "id": "ee80b30bd88b3f29",
      "metadata": {
        "execution": {
          "iopub.execute_input": "2023-09-01T18:13:24.298376Z",
          "iopub.status.busy": "2023-09-01T18:13:24.297978Z",
          "iopub.status.idle": "2023-09-01T18:13:25.112984Z",
          "shell.execute_reply": "2023-09-01T18:13:25.112525Z"
        },
        "papermill": {
          "duration": 0.820403,
          "end_time": "2023-09-01T18:13:25.114630",
          "exception": false,
          "start_time": "2023-09-01T18:13:24.294227",
          "status": "completed"
        },
        "tags": [
          "hide-input"
        ]
      },
      "outputs": [],
      "source": [
        "import os\n",
        "import re\n",
        "from enum import Enum\n",
        "from functools import lru_cache, partial\n",
        "from typing import Any, Callable, Dict, Optional, Union\n",
        "\n",
        "import black\n",
        "import numpy as np\n",
        "import yaml\n",
        "from sax.utils import clean_string, get_settings, hash_dict"
      ]
    },
    {
      "cell_type": "code",
      "execution_count": 4,
      "id": "2e6fec41eb30eb03",
      "metadata": {
        "execution": {
          "iopub.execute_input": "2023-09-01T18:13:25.123654Z",
          "iopub.status.busy": "2023-09-01T18:13:25.123102Z",
          "iopub.status.idle": "2023-09-01T18:13:25.126290Z",
          "shell.execute_reply": "2023-09-01T18:13:25.125943Z"
        },
        "papermill": {
          "duration": 0.008514,
          "end_time": "2023-09-01T18:13:25.127386",
          "exception": false,
          "start_time": "2023-09-01T18:13:25.118872",
          "status": "completed"
        },
        "tags": [
          "hide-input"
        ]
      },
      "outputs": [],
      "source": [
        "try:\n",
        "    from pydantic.v1 import BaseModel as _BaseModel\n",
        "    from pydantic.v1 import Extra, Field, ValidationError, validator\n",
        "except ImportError:\n",
        "    from pydantic import BaseModel as _BaseModel\n",
        "    from pydantic import Extra, Field, ValidationError, validator"
      ]
    },
    {
      "cell_type": "code",
      "execution_count": 5,
      "id": "2eb355569f6f36c7",
      "metadata": {
        "execution": {
          "iopub.execute_input": "2023-09-01T18:13:25.134655Z",
          "iopub.status.busy": "2023-09-01T18:13:25.134250Z",
          "iopub.status.idle": "2023-09-01T18:13:25.138654Z",
          "shell.execute_reply": "2023-09-01T18:13:25.138230Z"
        },
        "papermill": {
          "duration": 0.009387,
          "end_time": "2023-09-01T18:13:25.139816",
          "exception": false,
          "start_time": "2023-09-01T18:13:25.130429",
          "status": "completed"
        },
        "tags": [
          "remove-cell"
        ]
      },
      "outputs": [],
      "source": [
        "class BaseModel(_BaseModel):\n",
        "    class Config:\n",
        "        extra = Extra.ignore\n",
        "        allow_mutation = False\n",
        "        frozen = True\n",
        "        json_encoders = {np.ndarray: lambda arr: np.round(arr, 12).tolist()}\n",
        "\n",
        "    def __repr__(self):\n",
        "        s = super().__repr__()\n",
        "        s = black.format_str(s, mode=black.Mode())\n",
        "        return s\n",
        "\n",
        "    def __str__(self):\n",
        "        return self.__repr__()\n",
        "\n",
        "    def __hash__(self):\n",
        "        return hash_dict(self.dict())"
      ]
    },
    {
      "cell_type": "code",
      "execution_count": 6,
      "id": "58d7226a1b7a0e0f",
      "metadata": {
        "execution": {
          "iopub.execute_input": "2023-09-01T18:13:25.174010Z",
          "iopub.status.busy": "2023-09-01T18:13:25.173408Z",
          "iopub.status.idle": "2023-09-01T18:13:25.176769Z",
          "shell.execute_reply": "2023-09-01T18:13:25.176317Z"
        },
        "papermill": {
          "duration": 0.00874,
          "end_time": "2023-09-01T18:13:25.177933",
          "exception": false,
          "start_time": "2023-09-01T18:13:25.169193",
          "status": "completed"
        },
        "tags": [
          "remove-cell"
        ]
      },
      "outputs": [],
      "source": [
        "\n",
        "# The models were generated as follows:\n",
        "\n",
        "# import io\n",
        "# import json\n",
        "# from contextlib import redirect_stdout\n",
        "# from urllib.request import urlopen\n",
        "# \n",
        "# import datamodel_code_generator as dcg\n",
        "# \n",
        "# NETLIST_SCHEMA_URL = \"https://raw.githubusercontent.com/gdsfactory/gdsfactory/v6.3.5/gdsfactory/tests/schemas/netlist.json\" # TODO: update to latest gdsfactory version.\n",
        "# \n",
        "# \n",
        "# def download_schema(url=NETLIST_SCHEMA_URL):\n",
        "#     response = urlopen(url)\n",
        "#     json_text = response.read().decode()\n",
        "#     schema_dict = json.loads(json_text)\n",
        "#     return schema_dict\n",
        "# \n",
        "# \n",
        "# def generate_models():\n",
        "#     schema_dict = download_schema()\n",
        "#     json_text = json.dumps(schema_dict)\n",
        "#     buf = io.StringIO()\n",
        "#     with redirect_stdout(buf):\n",
        "#         dcg.generate(input_=json_text)\n",
        "#     content = buf.getvalue()\n",
        "#     content = content.replace(\n",
        "#         \"extra = Extra.forbid\",\n",
        "#         (\n",
        "#             \"extra = Extra.ignore\\n\"\n",
        "#             \"        allow_mutation = False\\n\"\n",
        "#             \"        frozen = True\\n\"\n",
        "#             \"        json_encoders = {np.ndarray: lambda arr: np.round(arr, 12).tolist()}\"\n",
        "#         ),\n",
        "#     )\n",
        "#     content = (\n",
        "#         content.replace(\"ComponentModel\", \"Component\")\n",
        "#         .replace(\"PlacemetModel\", \"Placement\")\n",
        "#         .replace(\"RouteModel\", \"Route\")\n",
        "#         .replace(\"NetlistModel\", \"Netlist\")\n",
        "#         .replace(\"PlacementModel\", \"Placement\")\n",
        "#     )\n",
        "#     return content\n",
        "# \n",
        "# \n",
        "# print(generate_models())"
      ]
    },
    {
      "cell_type": "markdown",
      "id": "2c13ef8c-e744-4af1-801e-d59f0a762ec8",
      "metadata": {
        "papermill": {
          "duration": 0.003154,
          "end_time": "2023-09-01T18:13:25.184283",
          "exception": false,
          "start_time": "2023-09-01T18:13:25.181129",
          "status": "completed"
        },
        "tags": []
      },
      "source": [
        "This was autogenerated from the gdsfactory netlist json spec. Only a few validators were added and a few irrelevant fields were disabled."
      ]
    },
    {
      "cell_type": "code",
      "execution_count": 7,
      "id": "76116434aa619a3f",
      "metadata": {
        "execution": {
          "iopub.execute_input": "2023-09-01T18:13:25.191891Z",
          "iopub.status.busy": "2023-09-01T18:13:25.191444Z",
          "iopub.status.idle": "2023-09-01T18:13:25.211637Z",
          "shell.execute_reply": "2023-09-01T18:13:25.211182Z"
        },
        "papermill": {
          "duration": 0.025513,
          "end_time": "2023-09-01T18:13:25.212887",
          "exception": false,
          "start_time": "2023-09-01T18:13:25.187374",
          "status": "completed"
        },
        "tags": [
          "hide-input"
        ]
      },
      "outputs": [],
      "source": [
        "\n",
        "class Component(BaseModel):\n",
        "    class Config:\n",
        "        extra = Extra.ignore\n",
        "        allow_mutation = False\n",
        "        frozen = True\n",
        "        json_encoders = {np.ndarray: lambda arr: np.round(arr, 12).tolist()}\n",
        "\n",
        "    component: Union[str, Dict[str, Any]] = Field(..., title=\"Component\")\n",
        "    settings: Optional[Dict[str, Any]] = Field(None, title=\"Settings\")\n",
        "\n",
        "    # this was added:\n",
        "    @validator(\"component\")\n",
        "    def validate_component_name(cls, value):\n",
        "        if \",\" in value:\n",
        "            raise ValueError(\n",
        "                f\"Invalid component string. Should not contain ','. Got: {value}\"\n",
        "            )\n",
        "        return clean_string(value)\n",
        "    \n",
        "\n",
        "class PortEnum(Enum):\n",
        "    ce = \"ce\"\n",
        "    cw = \"cw\"\n",
        "    nc = \"nc\"\n",
        "    ne = \"ne\"\n",
        "    nw = \"nw\"\n",
        "    sc = \"sc\"\n",
        "    se = \"se\"\n",
        "    sw = \"sw\"\n",
        "    center = \"center\"\n",
        "    cc = \"cc\"\n",
        "\n",
        "\n",
        "class Placement(BaseModel):\n",
        "    class Config:\n",
        "        extra = Extra.ignore\n",
        "        allow_mutation = False\n",
        "        frozen = True\n",
        "        json_encoders = {np.ndarray: lambda arr: np.round(arr, 12).tolist()}\n",
        "\n",
        "    x: Optional[Union[str, float]] = Field(0, title=\"X\")\n",
        "    y: Optional[Union[str, float]] = Field(0, title=\"Y\")\n",
        "    xmin: Optional[Union[str, float]] = Field(None, title=\"Xmin\")\n",
        "    ymin: Optional[Union[str, float]] = Field(None, title=\"Ymin\")\n",
        "    xmax: Optional[Union[str, float]] = Field(None, title=\"Xmax\")\n",
        "    ymax: Optional[Union[str, float]] = Field(None, title=\"Ymax\")\n",
        "    dx: Optional[float] = Field(0, title=\"Dx\")\n",
        "    dy: Optional[float] = Field(0, title=\"Dy\")\n",
        "    port: Optional[Union[str, PortEnum]] = Field(None, title=\"Port\")\n",
        "    rotation: Optional[int] = Field(0, title=\"Rotation\")\n",
        "    mirror: Optional[bool] = Field(False, title=\"Mirror\")\n",
        "\n",
        "\n",
        "class Route(BaseModel):\n",
        "    class Config:\n",
        "        extra = Extra.ignore\n",
        "        allow_mutation = False\n",
        "        frozen = True\n",
        "        json_encoders = {np.ndarray: lambda arr: np.round(arr, 12).tolist()}\n",
        "\n",
        "    links: Dict[str, str] = Field(..., title=\"Links\")\n",
        "    settings: Optional[Dict[str, Any]] = Field(None, title=\"Settings\")\n",
        "    routing_strategy: Optional[str] = Field(None, title=\"Routing Strategy\")\n",
        "\n",
        "\n",
        "class Netlist(BaseModel):\n",
        "    class Config:\n",
        "        extra = Extra.ignore\n",
        "        allow_mutation = False\n",
        "        frozen = True\n",
        "        json_encoders = {np.ndarray: lambda arr: np.round(arr, 12).tolist()}\n",
        "\n",
        "    instances: Dict[str, Component] = Field(..., title=\"Instances\")\n",
        "    connections: Optional[Dict[str, str]] = Field(None, title=\"Connections\")\n",
        "    ports: Optional[Dict[str, str]] = Field(None, title=\"Ports\")\n",
        "    placements: Optional[Dict[str, Placement]] = Field(None, title=\"Placements\")\n",
        "\n",
        "    # these were removed (irrelevant for SAX):\n",
        "\n",
        "    # routes: Optional[Dict[str, Route]] = Field(None, title='Routes')\n",
        "    # name: Optional[str] = Field(None, title='Name')\n",
        "    # info: Optional[Dict[str, Any]] = Field(None, title='Info')\n",
        "    # settings: Optional[Dict[str, Any]] = Field(None, title='Settings')\n",
        "    # pdk: Optional[str] = Field(None, title='Pdk')\n",
        "\n",
        "    # these are extra additions:\n",
        "\n",
        "    @validator(\"instances\", pre=True)\n",
        "    def coerce_different_type_instance_into_component_model(cls, instances):\n",
        "        new_instances = {}\n",
        "        for k, v in instances.items():\n",
        "            if isinstance(v, str):\n",
        "                v = {\n",
        "                    \"component\": v,\n",
        "                    \"settings\": {},\n",
        "                }\n",
        "            new_instances[k] = v\n",
        "                \n",
        "        return new_instances\n",
        "    \n",
        "    @staticmethod\n",
        "    def clean_instance_string(value):\n",
        "        if \",\" in value:\n",
        "            raise ValueError(\n",
        "                f\"Invalid instance string. Should not contain ','. Got: {value}\"\n",
        "            )\n",
        "        return clean_string(value)\n",
        "\n",
        "    @validator(\"instances\")\n",
        "    def validate_instance_names(cls, instances):\n",
        "        return {cls.clean_instance_string(k): v for k, v in instances.items()}\n",
        "\n",
        "    @validator(\"placements\")\n",
        "    def validate_placement_names(cls, placements):\n",
        "        return {cls.clean_instance_string(k): v for k, v in placements.items()}\n",
        "\n",
        "    @classmethod\n",
        "    def clean_connection_string(cls, value):\n",
        "        *comp, port = value.split(\",\")\n",
        "        comp = cls.clean_instance_string(\",\".join(comp))\n",
        "        return f\"{comp},{port}\"\n",
        "\n",
        "    @validator(\"connections\")\n",
        "    def validate_connection_names(cls, connections):\n",
        "        return {\n",
        "            cls.clean_connection_string(k): cls.clean_connection_string(v)\n",
        "            for k, v in connections.items()\n",
        "        }\n",
        "\n",
        "    @validator(\"ports\")\n",
        "    def validate_port_names(cls, ports):\n",
        "        return {\n",
        "            cls.clean_instance_string(k): cls.clean_connection_string(v)\n",
        "            for k, v in ports.items()\n",
        "        }"
      ]
    },
    {
      "cell_type": "markdown",
      "id": "c899c560-8ffd-4905-8307-7171a7679b7e",
      "metadata": {
        "papermill": {
          "duration": 0.0032,
          "end_time": "2023-09-01T18:13:25.219383",
          "exception": false,
          "start_time": "2023-09-01T18:13:25.216183",
          "status": "completed"
        },
        "tags": []
      },
      "source": [
        "We add an additional model to represent recursive netlists:"
      ]
    },
    {
      "cell_type": "code",
      "execution_count": 8,
      "id": "44eecb9e89f9ed61",
      "metadata": {
        "execution": {
          "iopub.execute_input": "2023-09-01T18:13:25.227493Z",
          "iopub.status.busy": "2023-09-01T18:13:25.226930Z",
          "iopub.status.idle": "2023-09-01T18:13:25.230663Z",
          "shell.execute_reply": "2023-09-01T18:13:25.230308Z"
        },
        "papermill": {
          "duration": 0.00923,
          "end_time": "2023-09-01T18:13:25.231872",
          "exception": false,
          "start_time": "2023-09-01T18:13:25.222642",
          "status": "completed"
        },
        "tags": [
          "hide-input"
        ]
      },
      "outputs": [],
      "source": [
        "    \n",
        "class RecursiveNetlist(BaseModel):\n",
        "    class Config:\n",
        "        extra = Extra.ignore\n",
        "        allow_mutation = False\n",
        "        frozen = True\n",
        "        \n",
        "    __root__: Dict[str, Netlist]"
      ]
    },
    {
      "cell_type": "markdown",
      "id": "30d9ed2b-7764-49b8-a3aa-a370374cbef1",
      "metadata": {
        "papermill": {
          "duration": 0.003183,
          "end_time": "2023-09-01T18:13:25.238280",
          "exception": false,
          "start_time": "2023-09-01T18:13:25.235097",
          "status": "completed"
        },
        "tags": []
      },
      "source": [
        "Let's create a simple recursive netlist with gdsfactory.\n",
        "\n",
        ":::{note}\n",
        "We are using gdsfactory to create our netlist because it allows us to see the circuit we want to simulate and because we're striving to have a compatible netlist implementation in SAX.\n",
        "\n",
        "However... gdsfactory is not a dependency of SAX. You can also define your circuits by hand (see [SAX Quick Start](../examples/01_quick_start.ipynb) or you can use another tool to programmatically construct your netlists.\n",
        ":::"
      ]
    },
    {
      "cell_type": "code",
      "execution_count": 9,
      "id": "53079a13-8dc0-4b53-879c-b5e05609f86e",
      "metadata": {
        "execution": {
          "iopub.execute_input": "2023-09-01T18:13:25.246105Z",
          "iopub.status.busy": "2023-09-01T18:13:25.245678Z",
          "iopub.status.idle": "2023-09-01T18:13:26.500106Z",
          "shell.execute_reply": "2023-09-01T18:13:26.499636Z"
        },
        "papermill": {
          "duration": 1.260018,
          "end_time": "2023-09-01T18:13:26.501705",
          "exception": false,
          "start_time": "2023-09-01T18:13:25.241687",
          "status": "completed"
        },
        "tags": []
      },
      "outputs": [
        {
          "data": {
            "image/png": "[encoded data removed]",
            "text/plain": [
              "<Figure size 640x480 with 1 Axes>"
            ]
          },
          "metadata": {},
          "output_type": "display_data"
        }
      ],
      "source": [
        "import gdsfactory as gf\n",
        "from gdsfactory.components import mzi\n",
        "from gdsfactory.get_netlist import get_netlist_recursive, get_netlist\n",
        "from gdsfactory.quickplotter import quickplot\n",
        "from IPython.display import display\n",
        "\n",
        "@gf.cell\n",
        "def twomzi():\n",
        "    c = gf.Component()\n",
        "    \n",
        "    # instances\n",
        "    mzi1 = mzi(delta_length=10)\n",
        "    mzi2 = mzi(delta_length=20)\n",
        "    \n",
        "    # references\n",
        "    mzi1_ = (c << mzi1)\n",
        "    mzi2_ = (c << mzi2)\n",
        "    \n",
        "    # connections\n",
        "    mzi2_.connect('o1', mzi1_.ports['o2'])\n",
        "    \n",
        "    # ports\n",
        "    c.add_port('o1', port=mzi1_.ports['o1'])\n",
        "    c.add_port('o2', port=mzi2_.ports['o2'])\n",
        "    return c\n",
        "\n",
        "comp  = twomzi()\n",
        "quickplot(comp);\n",
        "recnet = RecursiveNetlist.parse_obj(get_netlist_recursive(comp, get_netlist_func=partial(get_netlist, full_settings=True)))\n",
        "flatnet = recnet.__root__['mzi_delta_length10']"
      ]
    },
    {
      "cell_type": "markdown",
      "id": "377687ad-d27d-4335-8012-9e408bddb19c",
      "metadata": {
        "papermill": {
          "duration": 0.003973,
          "end_time": "2023-09-01T18:13:26.509750",
          "exception": false,
          "start_time": "2023-09-01T18:13:26.505777",
          "status": "completed"
        },
        "tags": []
      },
      "source": [
        "Which gives the recursive netlist (go on to [Circuit](07_circuit.ipynb) from here.):"
      ]
    },
    {
      "cell_type": "markdown",
      "id": "b474dbbee8575990",
      "metadata": {},
      "source": [
        ":::{eval-rst}\n",
        ".. autofunction:: sax.netlist.netlist\n",
        ":::\n"
      ]
    },
    {
      "cell_type": "code",
      "execution_count": 10,
      "id": "da115b6a60434ded",
      "metadata": {
        "execution": {
          "iopub.execute_input": "2023-09-01T18:13:26.518510Z",
          "iopub.status.busy": "2023-09-01T18:13:26.517888Z",
          "iopub.status.idle": "2023-09-01T18:13:26.521815Z",
          "shell.execute_reply": "2023-09-01T18:13:26.521329Z"
        },
        "papermill": {
          "duration": 0.009847,
          "end_time": "2023-09-01T18:13:26.523208",
          "exception": false,
          "start_time": "2023-09-01T18:13:26.513361",
          "status": "completed"
        },
        "tags": [
          "hide-input"
        ]
      },
      "outputs": [],
      "source": [
        "\n",
        "def netlist(dic: Dict) -> RecursiveNetlist:\n",
        "    if isinstance(dic, RecursiveNetlist):\n",
        "        return dic\n",
        "    elif isinstance(dic, Netlist):\n",
        "        dic = dic.dict()\n",
        "    try:\n",
        "        flat_net = Netlist.parse_obj(dic)\n",
        "        net = RecursiveNetlist.parse_obj({'top_level': flat_net})\n",
        "    except ValidationError:\n",
        "        net = RecursiveNetlist.parse_obj(dic)\n",
        "    return net"
      ]
    },
    {
      "cell_type": "markdown",
      "id": "faaffb91-6e3a-4321-86e9-f115fd770a1e",
      "metadata": {
        "papermill": {
          "duration": 0.003728,
          "end_time": "2023-09-01T18:13:26.530661",
          "exception": false,
          "start_time": "2023-09-01T18:13:26.526933",
          "status": "completed"
        },
        "tags": []
      },
      "source": [
        "## Load Netlist from folder"
      ]
    },
    {
      "cell_type": "markdown",
      "id": "002c28326214ca19",
      "metadata": {},
      "source": [
        ":::{eval-rst}\n",
        ".. autofunction:: sax.netlist.load_netlist\n",
        ":::\n"
      ]
    },
    {
      "cell_type": "code",
      "execution_count": 11,
      "id": "74f4c99f441618d1",
      "metadata": {
        "execution": {
          "iopub.execute_input": "2023-09-01T18:13:26.539257Z",
          "iopub.status.busy": "2023-09-01T18:13:26.538795Z",
          "iopub.status.idle": "2023-09-01T18:13:26.541960Z",
          "shell.execute_reply": "2023-09-01T18:13:26.541561Z"
        },
        "papermill": {
          "duration": 0.008798,
          "end_time": "2023-09-01T18:13:26.543077",
          "exception": false,
          "start_time": "2023-09-01T18:13:26.534279",
          "status": "completed"
        },
        "tags": [
          "hide-input"
        ]
      },
      "outputs": [],
      "source": [
        "@lru_cache()\n",
        "def load_netlist(pic_path) -> Netlist:\n",
        "    with open(pic_path, \"r\") as file:\n",
        "        net = yaml.safe_load(file.read())\n",
        "    return Netlist.parse_obj(net)"
      ]
    },
    {
      "cell_type": "markdown",
      "id": "ea86ac37862457fa",
      "metadata": {},
      "source": [
        ":::{eval-rst}\n",
        ".. autofunction:: sax.netlist.load_recursive_netlist\n",
        ":::\n"
      ]
    },
    {
      "cell_type": "code",
      "execution_count": 12,
      "id": "e3a678e8c2226c45",
      "metadata": {
        "execution": {
          "iopub.execute_input": "2023-09-01T18:13:26.552124Z",
          "iopub.status.busy": "2023-09-01T18:13:26.551246Z",
          "iopub.status.idle": "2023-09-01T18:13:26.555956Z",
          "shell.execute_reply": "2023-09-01T18:13:26.555577Z"
        },
        "papermill": {
          "duration": 0.010284,
          "end_time": "2023-09-01T18:13:26.557103",
          "exception": false,
          "start_time": "2023-09-01T18:13:26.546819",
          "status": "completed"
        },
        "tags": [
          "hide-input"
        ]
      },
      "outputs": [],
      "source": [
        "@lru_cache()\n",
        "def load_recursive_netlist(pic_path, ext='.yml'):\n",
        "    folder_path = os.path.dirname(os.path.abspath(pic_path))\n",
        "    _clean_string = lambda path: clean_string(re.sub(ext, \"\", os.path.split(path)[-1]))\n",
        "    netlists = {_clean_string(pic_path): None} # the circuit we're interested in should come first.\n",
        "    for filename in os.listdir(folder_path):\n",
        "        path = os.path.join(folder_path, filename)\n",
        "        if not os.path.isfile(path) or not path.endswith(ext):\n",
        "            continue\n",
        "        netlists[_clean_string(path)] = load_netlist(path)\n",
        "    return RecursiveNetlist.parse_obj(netlists)"
      ]
    },
    {
      "cell_type": "markdown",
      "id": "f30c847f921caea5",
      "metadata": {},
      "source": [
        ":::{eval-rst}\n",
        ".. autofunction:: sax.netlist.get_netlist_instances_by_prefix\n",
        ":::\n"
      ]
    },
    {
      "cell_type": "code",
      "execution_count": 13,
      "id": "bde46d6386d4f7ce",
      "metadata": {
        "execution": {
          "iopub.execute_input": "2023-09-01T18:13:26.565784Z",
          "iopub.status.busy": "2023-09-01T18:13:26.565264Z",
          "iopub.status.idle": "2023-09-01T18:13:26.569435Z",
          "shell.execute_reply": "2023-09-01T18:13:26.569006Z"
        },
        "papermill": {
          "duration": 0.009749,
          "end_time": "2023-09-01T18:13:26.570582",
          "exception": false,
          "start_time": "2023-09-01T18:13:26.560833",
          "status": "completed"
        },
        "tags": [
          "hide-input"
        ]
      },
      "outputs": [],
      "source": [
        "def get_netlist_instances_by_prefix(\n",
        "        recursive_netlist: RecursiveNetlist,\n",
        "        prefix: str,\n",
        "):\n",
        "    \"\"\"\n",
        "    Returns a list of all instances with a given prefix in a recursive netlist.\n",
        "\n",
        "    Args:\n",
        "        recursive_netlist: The recursive netlist to search.\n",
        "        prefix: The prefix to search for.\n",
        "\n",
        "    Returns:\n",
        "        A list of all instances with the given prefix.\n",
        "    \"\"\"\n",
        "    recursive_netlist_root = recursive_netlist.dict()[\"__root__\"]\n",
        "    result = []\n",
        "    for key in recursive_netlist_root.keys():\n",
        "        if key.startswith(prefix):\n",
        "            result.append(key)\n",
        "    return result"
      ]
    },
    {
      "cell_type": "markdown",
      "id": "23b1e57b08c4e236",
      "metadata": {},
      "source": [
        ":::{eval-rst}\n",
        ".. autofunction:: sax.netlist.get_component_instances\n",
        ":::\n"
      ]
    },
    {
      "cell_type": "code",
      "execution_count": 14,
      "id": "f2e704dadf0e5c6b",
      "metadata": {
        "execution": {
          "iopub.execute_input": "2023-09-01T18:13:26.579833Z",
          "iopub.status.busy": "2023-09-01T18:13:26.579159Z",
          "iopub.status.idle": "2023-09-01T18:13:26.583455Z",
          "shell.execute_reply": "2023-09-01T18:13:26.583054Z"
        },
        "papermill": {
          "duration": 0.010202,
          "end_time": "2023-09-01T18:13:26.584667",
          "exception": false,
          "start_time": "2023-09-01T18:13:26.574465",
          "status": "completed"
        },
        "tags": [
          "hide-input"
        ]
      },
      "outputs": [],
      "source": [
        "def get_component_instances(\n",
        "        recursive_netlist: RecursiveNetlist,\n",
        "        top_level_prefix: str,\n",
        "        component_name_prefix: str,\n",
        "):\n",
        "    \"\"\"\n",
        "    Returns a dictionary of all instances of a given component in a recursive netlist.\n",
        "\n",
        "    Args:\n",
        "        recursive_netlist: The recursive netlist to search.\n",
        "        top_level_prefix: The prefix of the top level instance.\n",
        "        component_name_prefix: The name of the component to search for.\n",
        "\n",
        "    Returns:\n",
        "        A dictionary of all instances of the given component.\n",
        "    \"\"\"\n",
        "    instance_names = []\n",
        "    recursive_netlist_root = recursive_netlist.dict()[\"__root__\"]\n",
        "    top_level_prefix = get_netlist_instances_by_prefix(recursive_netlist, prefix=top_level_prefix)[\n",
        "        0\n",
        "    ]  # Should only be one in a netlist-to-digraph. Can always be very specified.\n",
        "    for key in recursive_netlist_root[top_level_prefix][\"instances\"]:\n",
        "        if recursive_netlist_root[top_level_prefix][\"instances\"][key][\"component\"].startswith(component_name_prefix):\n",
        "            # Note priority encoding on match.\n",
        "            instance_names.append(key)\n",
        "    return {component_name_prefix: instance_names}"
      ]
    },
    {
      "cell_type": "markdown",
      "id": "3e28f183cb560864",
      "metadata": {},
      "source": [
        ":::{eval-rst}\n",
        ".. autofunction:: sax.netlist.get_netlist_instances_by_prefix\n",
        ":::\n"
      ]
    },
    {
      "cell_type": "code",
      "execution_count": 15,
      "id": "23218a4e29918938",
      "metadata": {
        "execution": {
          "iopub.execute_input": "2023-09-01T18:13:26.593666Z",
          "iopub.status.busy": "2023-09-01T18:13:26.593088Z",
          "iopub.status.idle": "2023-09-01T18:13:26.596716Z",
          "shell.execute_reply": "2023-09-01T18:13:26.596292Z"
        },
        "papermill": {
          "duration": 0.009383,
          "end_time": "2023-09-01T18:13:26.597882",
          "exception": false,
          "start_time": "2023-09-01T18:13:26.588499",
          "status": "completed"
        },
        "tags": [
          "hide-input"
        ]
      },
      "outputs": [],
      "source": [
        "def get_netlist_instances_by_prefix(\n",
        "        recursive_netlist: RecursiveNetlist,\n",
        "        prefix: str,\n",
        "):\n",
        "    \"\"\"\n",
        "    Returns a list of all instances with a given prefix in a recursive netlist.\n",
        "\n",
        "    Args:\n",
        "        recursive_netlist: The recursive netlist to search.\n",
        "        prefix: The prefix to search for.\n",
        "\n",
        "    Returns:\n",
        "        A list of all instances with the given prefix.\n",
        "    \"\"\"\n",
        "    recursive_netlist_root = recursive_netlist.dict()[\"__root__\"]\n",
        "    result = []\n",
        "    for key in recursive_netlist_root.keys():\n",
        "        if key.startswith(prefix):\n",
        "            result.append(key)\n",
        "    return result"
      ]
    },
    {
      "cell_type": "markdown",
      "id": "8c44988fd297b4fd",
      "metadata": {},
      "source": [
        ":::{eval-rst}\n",
        ".. autofunction:: sax.netlist.get_component_instances\n",
        ":::\n"
      ]
    },
    {
      "cell_type": "code",
      "execution_count": 16,
      "id": "a4dd77a3044a2565",
      "metadata": {
        "execution": {
          "iopub.execute_input": "2023-09-01T18:13:26.606670Z",
          "iopub.status.busy": "2023-09-01T18:13:26.606274Z",
          "iopub.status.idle": "2023-09-01T18:13:26.610254Z",
          "shell.execute_reply": "2023-09-01T18:13:26.609859Z"
        },
        "papermill": {
          "duration": 0.009771,
          "end_time": "2023-09-01T18:13:26.611468",
          "exception": false,
          "start_time": "2023-09-01T18:13:26.601697",
          "status": "completed"
        },
        "tags": [
          "hide-input"
        ]
      },
      "outputs": [],
      "source": [
        "def get_component_instances(\n",
        "        recursive_netlist: RecursiveNetlist,\n",
        "        top_level_prefix: str,\n",
        "        component_name_prefix: str,\n",
        "):\n",
        "    \"\"\"\n",
        "    Returns a dictionary of all instances of a given component in a recursive netlist.\n",
        "\n",
        "    Args:\n",
        "        recursive_netlist: The recursive netlist to search.\n",
        "        top_level_prefix: The prefix of the top level instance.\n",
        "        component_name_prefix: The name of the component to search for.\n",
        "\n",
        "    Returns:\n",
        "        A dictionary of all instances of the given component.\n",
        "    \"\"\"\n",
        "    instance_names = []\n",
        "    recursive_netlist_root = recursive_netlist.dict()[\"__root__\"]\n",
        "    top_level_prefix = get_netlist_instances_by_prefix(recursive_netlist, prefix=top_level_prefix)[\n",
        "        0\n",
        "    ]  # Should only be one in a netlist-to-digraph. Can always be very specified.\n",
        "    for key in recursive_netlist_root[top_level_prefix][\"instances\"]:\n",
        "        if recursive_netlist_root[top_level_prefix][\"instances\"][key][\"component\"].startswith(component_name_prefix):\n",
        "            # Note priority encoding on match.\n",
        "            instance_names.append(key)\n",
        "    return {component_name_prefix: instance_names}"
      ]
    }
  ],
  "metadata": {
    "kernelspec": {
      "display_name": "sax",
      "language": "python",
      "name": "sax"
    },
    "language_info": {
      "codemirror_mode": {
        "name": "ipython",
        "version": 3
      },
      "file_extension": ".py",
      "mimetype": "text/x-python",
      "name": "python",
      "nbconvert_exporter": "python",
      "pygments_lexer": "ipython3",
      "version": "3.11.5"
    },
    "papermill": {
      "default_parameters": {},
      "duration": 4.198687,
      "end_time": "2023-09-01T18:13:27.132164",
      "environment_variables": {},
      "exception": null,
      "input_path": "./nbs/06a_netlist.ipynb",
      "output_path": "./nbs/06a_netlist.ipynb",
      "parameters": {},
      "start_time": "2023-09-01T18:13:22.933477",
      "version": "2.4.0"
    }
  },
  "nbformat": 4,
  "nbformat_minor": 5
}