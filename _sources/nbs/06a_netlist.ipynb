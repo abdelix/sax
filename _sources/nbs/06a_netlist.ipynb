{
  "cells": [
    {
      "cell_type": "code",
      "execution_count": 1,
      "id": "9f6770be579a9803",
      "metadata": {
        "execution": {
          "iopub.execute_input": "2023-06-01T21:49:55.857053Z",
          "iopub.status.busy": "2023-06-01T21:49:55.856634Z",
          "iopub.status.idle": "2023-06-01T21:49:55.859813Z",
          "shell.execute_reply": "2023-06-01T21:49:55.859340Z"
        },
        "papermill": {
          "duration": 0.009586,
          "end_time": "2023-06-01T21:49:55.861972",
          "exception": false,
          "start_time": "2023-06-01T21:49:55.852386",
          "status": "completed"
        },
        "tags": [
          "remove-cell"
        ]
      },
      "outputs": [],
      "source": []
    },
    {
      "cell_type": "markdown",
      "id": "8cc19e90-28bf-4078-814e-9f2a7576c0f8",
      "metadata": {
        "papermill": {
          "duration": 0.002583,
          "end_time": "2023-06-01T21:49:55.868477",
          "exception": false,
          "start_time": "2023-06-01T21:49:55.865894",
          "status": "completed"
        },
        "tags": []
      },
      "source": [
        "# Netlist\n",
        "\n",
        "> SAX Netlist Models"
      ]
    },
    {
      "cell_type": "markdown",
      "id": "20e13e2c-b9da-4fe7-b920-9399c5d86b40",
      "metadata": {
        "papermill": {
          "duration": 0.002505,
          "end_time": "2023-06-01T21:49:55.873523",
          "exception": false,
          "start_time": "2023-06-01T21:49:55.871018",
          "status": "completed"
        },
        "tags": []
      },
      "source": [
        "The best introduction to SAX netlists for a sample GDSFactory component."
      ]
    },
    {
      "cell_type": "code",
      "execution_count": 2,
      "id": "275c59b364b34c56",
      "metadata": {
        "execution": {
          "iopub.execute_input": "2023-06-01T21:49:55.879579Z",
          "iopub.status.busy": "2023-06-01T21:49:55.879370Z",
          "iopub.status.idle": "2023-06-01T21:49:55.884341Z",
          "shell.execute_reply": "2023-06-01T21:49:55.883978Z"
        },
        "papermill": {
          "duration": 0.010069,
          "end_time": "2023-06-01T21:49:55.886149",
          "exception": false,
          "start_time": "2023-06-01T21:49:55.876080",
          "status": "completed"
        },
        "tags": [
          "remove-cell"
        ]
      },
      "outputs": [],
      "source": [
        "import os, sys; sys.stderr = open(os.devnull, \"w\")"
      ]
    },
    {
      "cell_type": "code",
      "execution_count": 3,
      "id": "2aa9307888face9d",
      "metadata": {
        "execution": {
          "iopub.execute_input": "2023-06-01T21:49:55.892379Z",
          "iopub.status.busy": "2023-06-01T21:49:55.892197Z",
          "iopub.status.idle": "2023-06-01T21:49:56.656967Z",
          "shell.execute_reply": "2023-06-01T21:49:56.656532Z"
        },
        "papermill": {
          "duration": 0.769812,
          "end_time": "2023-06-01T21:49:56.658467",
          "exception": false,
          "start_time": "2023-06-01T21:49:55.888655",
          "status": "completed"
        },
        "tags": [
          "hide-input"
        ]
      },
      "outputs": [],
      "source": [
        "import os\n",
        "import re\n",
        "from enum import Enum\n",
        "from functools import lru_cache, partial\n",
        "from typing import Any, Callable, Dict, Optional, Union\n",
        "\n",
        "import black\n",
        "import numpy as np\n",
        "import yaml\n",
        "from pydantic import BaseModel as _BaseModel\n",
        "from pydantic import Extra, Field, ValidationError, validator\n",
        "from sax.utils import clean_string, get_settings, hash_dict"
      ]
    },
    {
      "cell_type": "code",
      "execution_count": 4,
      "id": "001efe01042db9e7",
      "metadata": {
        "execution": {
          "iopub.execute_input": "2023-06-01T21:49:56.665580Z",
          "iopub.status.busy": "2023-06-01T21:49:56.664905Z",
          "iopub.status.idle": "2023-06-01T21:49:56.670404Z",
          "shell.execute_reply": "2023-06-01T21:49:56.670054Z"
        },
        "papermill": {
          "duration": 0.010453,
          "end_time": "2023-06-01T21:49:56.671856",
          "exception": false,
          "start_time": "2023-06-01T21:49:56.661403",
          "status": "completed"
        },
        "tags": [
          "remove-cell"
        ]
      },
      "outputs": [],
      "source": [
        "class BaseModel(_BaseModel):\n",
        "    class Config:\n",
        "        extra = Extra.ignore\n",
        "        allow_mutation = False\n",
        "        frozen = True\n",
        "        json_encoders = {np.ndarray: lambda arr: np.round(arr, 12).tolist()}\n",
        "\n",
        "    def __repr__(self):\n",
        "        s = super().__repr__()\n",
        "        s = black.format_str(s, mode=black.Mode())\n",
        "        return s\n",
        "\n",
        "    def __str__(self):\n",
        "        return self.__repr__()\n",
        "\n",
        "    def __hash__(self):\n",
        "        return hash_dict(self.dict())"
      ]
    },
    {
      "cell_type": "markdown",
      "id": "cfb92500-0389-4dd9-8a26-138f6f355318",
      "metadata": {
        "papermill": {
          "duration": 0.00334,
          "end_time": "2023-06-01T21:49:56.678019",
          "exception": false,
          "start_time": "2023-06-01T21:49:56.674679",
          "status": "completed"
        },
        "tags": []
      },
      "source": [
        "The models were generated as follows:"
      ]
    },
    {
      "cell_type": "code",
      "execution_count": 5,
      "id": "1fa8acfa-38a9-4460-8971-849b22c9a379",
      "metadata": {
        "execution": {
          "iopub.execute_input": "2023-06-01T21:49:56.684392Z",
          "iopub.status.busy": "2023-06-01T21:49:56.684206Z",
          "iopub.status.idle": "2023-06-01T21:49:57.090752Z",
          "shell.execute_reply": "2023-06-01T21:49:57.090237Z"
        },
        "papermill": {
          "duration": 0.41156,
          "end_time": "2023-06-01T21:49:57.092202",
          "exception": false,
          "start_time": "2023-06-01T21:49:56.680642",
          "status": "completed"
        },
        "tags": []
      },
      "outputs": [
        {
          "name": "stdout",
          "output_type": "stream",
          "text": [
            "# generated by datamodel-codegen:\n",
            "#   filename:  <stdin>\n",
            "#   timestamp: 2023-06-01T21:49:57+00:00\n",
            "\n",
            "from __future__ import annotations\n",
            "\n",
            "from enum import Enum\n",
            "from typing import Any, Dict, Optional, Union\n",
            "\n",
            "from pydantic import BaseModel, Extra, Field\n",
            "\n",
            "\n",
            "class Component(BaseModel):\n",
            "    class Config:\n",
            "        extra = Extra.ignore\n",
            "        allow_mutation = False\n",
            "        frozen = True\n",
            "        json_encoders = {np.ndarray: lambda arr: np.round(arr, 12).tolist()}\n",
            "\n",
            "    component: Union[str, Dict[str, Any]] = Field(..., title='Component')\n",
            "    settings: Optional[Dict[str, Any]] = Field(None, title='Settings')\n",
            "\n",
            "\n",
            "class PortEnum(Enum):\n",
            "    ce = 'ce'\n",
            "    cw = 'cw'\n",
            "    nc = 'nc'\n",
            "    ne = 'ne'\n",
            "    nw = 'nw'\n",
            "    sc = 'sc'\n",
            "    se = 'se'\n",
            "    sw = 'sw'\n",
            "    center = 'center'\n",
            "    cc = 'cc'\n",
            "\n",
            "\n",
            "class Placement(BaseModel):\n",
            "    class Config:\n",
            "        extra = Extra.ignore\n",
            "        allow_mutation = False\n",
            "        frozen = True\n",
            "        json_encoders = {np.ndarray: lambda arr: np.round(arr, 12).tolist()}\n",
            "\n",
            "    x: Optional[Union[str, float]] = Field(0, title='X')\n",
            "    y: Optional[Union[str, float]] = Field(0, title='Y')\n",
            "    xmin: Optional[Union[str, float]] = Field(None, title='Xmin')\n",
            "    ymin: Optional[Union[str, float]] = Field(None, title='Ymin')\n",
            "    xmax: Optional[Union[str, float]] = Field(None, title='Xmax')\n",
            "    ymax: Optional[Union[str, float]] = Field(None, title='Ymax')\n",
            "    dx: Optional[float] = Field(0, title='Dx')\n",
            "    dy: Optional[float] = Field(0, title='Dy')\n",
            "    port: Optional[Union[str, PortEnum]] = Field(None, title='Port')\n",
            "    rotation: Optional[int] = Field(0, title='Rotation')\n",
            "    mirror: Optional[bool] = Field(False, title='Mirror')\n",
            "\n",
            "\n",
            "class Route(BaseModel):\n",
            "    class Config:\n",
            "        extra = Extra.ignore\n",
            "        allow_mutation = False\n",
            "        frozen = True\n",
            "        json_encoders = {np.ndarray: lambda arr: np.round(arr, 12).tolist()}\n",
            "\n",
            "    links: Dict[str, str] = Field(..., title='Links')\n",
            "    settings: Optional[Dict[str, Any]] = Field(None, title='Settings')\n",
            "    routing_strategy: Optional[str] = Field(None, title='Routing Strategy')\n",
            "\n",
            "\n",
            "class Netlist(BaseModel):\n",
            "    class Config:\n",
            "        extra = Extra.ignore\n",
            "        allow_mutation = False\n",
            "        frozen = True\n",
            "        json_encoders = {np.ndarray: lambda arr: np.round(arr, 12).tolist()}\n",
            "\n",
            "    instances: Dict[str, Component] = Field(..., title='Instances')\n",
            "    placements: Optional[Dict[str, Placement]] = Field(None, title='Placements')\n",
            "    connections: Optional[Dict[str, str]] = Field(None, title='Connections')\n",
            "    routes: Optional[Dict[str, Route]] = Field(None, title='Routes')\n",
            "    name: Optional[str] = Field(None, title='Name')\n",
            "    info: Optional[Dict[str, Any]] = Field(None, title='Info')\n",
            "    settings: Optional[Dict[str, Any]] = Field(None, title='Settings')\n",
            "    pdk: Optional[str] = Field(None, title='Pdk')\n",
            "    ports: Optional[Dict[str, str]] = Field(None, title='Ports')\n",
            "\n"
          ]
        }
      ],
      "source": [
        "import io\n",
        "import json\n",
        "from contextlib import redirect_stdout\n",
        "from urllib.request import urlopen\n",
        "\n",
        "import datamodel_code_generator as dcg\n",
        "\n",
        "NETLIST_SCHEMA_URL = \"https://raw.githubusercontent.com/gdsfactory/gdsfactory/v6.3.5/gdsfactory/tests/schemas/netlist.json\" # TODO: update to latest gdsfactory version.\n",
        "\n",
        "\n",
        "def download_schema(url=NETLIST_SCHEMA_URL):\n",
        "    response = urlopen(url)\n",
        "    json_text = response.read().decode()\n",
        "    schema_dict = json.loads(json_text)\n",
        "    return schema_dict\n",
        "\n",
        "\n",
        "def generate_models():\n",
        "    schema_dict = download_schema()\n",
        "    json_text = json.dumps(schema_dict)\n",
        "    buf = io.StringIO()\n",
        "    with redirect_stdout(buf):\n",
        "        dcg.generate(input_=json_text)\n",
        "    content = buf.getvalue()\n",
        "    content = content.replace(\n",
        "        \"extra = Extra.forbid\",\n",
        "        (\n",
        "            \"extra = Extra.ignore\\n\"\n",
        "            \"        allow_mutation = False\\n\"\n",
        "            \"        frozen = True\\n\"\n",
        "            \"        json_encoders = {np.ndarray: lambda arr: np.round(arr, 12).tolist()}\"\n",
        "        ),\n",
        "    )\n",
        "    content = (\n",
        "        content.replace(\"ComponentModel\", \"Component\")\n",
        "        .replace(\"PlacemetModel\", \"Placement\")\n",
        "        .replace(\"RouteModel\", \"Route\")\n",
        "        .replace(\"NetlistModel\", \"Netlist\")\n",
        "        .replace(\"PlacementModel\", \"Placement\")\n",
        "    )\n",
        "    return content\n",
        "\n",
        "\n",
        "print(generate_models())"
      ]
    },
    {
      "cell_type": "markdown",
      "id": "2c13ef8c-e744-4af1-801e-d59f0a762ec8",
      "metadata": {
        "papermill": {
          "duration": 0.003025,
          "end_time": "2023-06-01T21:49:57.098321",
          "exception": false,
          "start_time": "2023-06-01T21:49:57.095296",
          "status": "completed"
        },
        "tags": []
      },
      "source": [
        "This was autogenerated from the gdsfactory netlist json spec. Only a few validators were added and a few irrelevant fields were disabled."
      ]
    },
    {
      "cell_type": "code",
      "execution_count": 6,
      "id": "75dbc80c7c75d03b",
      "metadata": {
        "execution": {
          "iopub.execute_input": "2023-06-01T21:49:57.105210Z",
          "iopub.status.busy": "2023-06-01T21:49:57.104804Z",
          "iopub.status.idle": "2023-06-01T21:49:57.125939Z",
          "shell.execute_reply": "2023-06-01T21:49:57.125563Z"
        },
        "papermill": {
          "duration": 0.02611,
          "end_time": "2023-06-01T21:49:57.127240",
          "exception": false,
          "start_time": "2023-06-01T21:49:57.101130",
          "status": "completed"
        },
        "tags": [
          "hide-input"
        ]
      },
      "outputs": [],
      "source": [
        "\n",
        "class Component(BaseModel):\n",
        "    class Config:\n",
        "        extra = Extra.ignore\n",
        "        allow_mutation = False\n",
        "        frozen = True\n",
        "        json_encoders = {np.ndarray: lambda arr: np.round(arr, 12).tolist()}\n",
        "\n",
        "    component: Union[str, Dict[str, Any]] = Field(..., title=\"Component\")\n",
        "    settings: Optional[Dict[str, Any]] = Field(None, title=\"Settings\")\n",
        "\n",
        "    # this was added:\n",
        "    @validator(\"component\")\n",
        "    def validate_component_name(cls, value):\n",
        "        if \",\" in value:\n",
        "            raise ValueError(\n",
        "                f\"Invalid component string. Should not contain ','. Got: {value}\"\n",
        "            )\n",
        "        return clean_string(value)\n",
        "    \n",
        "\n",
        "class PortEnum(Enum):\n",
        "    ce = \"ce\"\n",
        "    cw = \"cw\"\n",
        "    nc = \"nc\"\n",
        "    ne = \"ne\"\n",
        "    nw = \"nw\"\n",
        "    sc = \"sc\"\n",
        "    se = \"se\"\n",
        "    sw = \"sw\"\n",
        "    center = \"center\"\n",
        "    cc = \"cc\"\n",
        "\n",
        "\n",
        "class Placement(BaseModel):\n",
        "    class Config:\n",
        "        extra = Extra.ignore\n",
        "        allow_mutation = False\n",
        "        frozen = True\n",
        "        json_encoders = {np.ndarray: lambda arr: np.round(arr, 12).tolist()}\n",
        "\n",
        "    x: Optional[Union[str, float]] = Field(0, title=\"X\")\n",
        "    y: Optional[Union[str, float]] = Field(0, title=\"Y\")\n",
        "    xmin: Optional[Union[str, float]] = Field(None, title=\"Xmin\")\n",
        "    ymin: Optional[Union[str, float]] = Field(None, title=\"Ymin\")\n",
        "    xmax: Optional[Union[str, float]] = Field(None, title=\"Xmax\")\n",
        "    ymax: Optional[Union[str, float]] = Field(None, title=\"Ymax\")\n",
        "    dx: Optional[float] = Field(0, title=\"Dx\")\n",
        "    dy: Optional[float] = Field(0, title=\"Dy\")\n",
        "    port: Optional[Union[str, PortEnum]] = Field(None, title=\"Port\")\n",
        "    rotation: Optional[int] = Field(0, title=\"Rotation\")\n",
        "    mirror: Optional[bool] = Field(False, title=\"Mirror\")\n",
        "\n",
        "\n",
        "class Route(BaseModel):\n",
        "    class Config:\n",
        "        extra = Extra.ignore\n",
        "        allow_mutation = False\n",
        "        frozen = True\n",
        "        json_encoders = {np.ndarray: lambda arr: np.round(arr, 12).tolist()}\n",
        "\n",
        "    links: Dict[str, str] = Field(..., title=\"Links\")\n",
        "    settings: Optional[Dict[str, Any]] = Field(None, title=\"Settings\")\n",
        "    routing_strategy: Optional[str] = Field(None, title=\"Routing Strategy\")\n",
        "\n",
        "\n",
        "class Netlist(BaseModel):\n",
        "    class Config:\n",
        "        extra = Extra.ignore\n",
        "        allow_mutation = False\n",
        "        frozen = True\n",
        "        json_encoders = {np.ndarray: lambda arr: np.round(arr, 12).tolist()}\n",
        "\n",
        "    instances: Dict[str, Component] = Field(..., title=\"Instances\")\n",
        "    connections: Optional[Dict[str, str]] = Field(None, title=\"Connections\")\n",
        "    ports: Optional[Dict[str, str]] = Field(None, title=\"Ports\")\n",
        "    placements: Optional[Dict[str, Placement]] = Field(None, title=\"Placements\")\n",
        "\n",
        "    # these were removed (irrelevant for SAX):\n",
        "\n",
        "    # routes: Optional[Dict[str, Route]] = Field(None, title='Routes')\n",
        "    # name: Optional[str] = Field(None, title='Name')\n",
        "    # info: Optional[Dict[str, Any]] = Field(None, title='Info')\n",
        "    # settings: Optional[Dict[str, Any]] = Field(None, title='Settings')\n",
        "    # pdk: Optional[str] = Field(None, title='Pdk')\n",
        "\n",
        "    # these are extra additions:\n",
        "\n",
        "    @validator(\"instances\", pre=True)\n",
        "    def coerce_different_type_instance_into_component_model(cls, instances):\n",
        "        new_instances = {}\n",
        "        for k, v in instances.items():\n",
        "            if isinstance(v, str):\n",
        "                v = {\n",
        "                    \"component\": v,\n",
        "                    \"settings\": {},\n",
        "                }\n",
        "            new_instances[k] = v\n",
        "                \n",
        "        return new_instances\n",
        "    \n",
        "    @staticmethod\n",
        "    def clean_instance_string(value):\n",
        "        if \",\" in value:\n",
        "            raise ValueError(\n",
        "                f\"Invalid instance string. Should not contain ','. Got: {value}\"\n",
        "            )\n",
        "        return clean_string(value)\n",
        "\n",
        "    @validator(\"instances\")\n",
        "    def validate_instance_names(cls, instances):\n",
        "        return {cls.clean_instance_string(k): v for k, v in instances.items()}\n",
        "\n",
        "    @validator(\"placements\")\n",
        "    def validate_placement_names(cls, placements):\n",
        "        return {cls.clean_instance_string(k): v for k, v in placements.items()}\n",
        "\n",
        "    @classmethod\n",
        "    def clean_connection_string(cls, value):\n",
        "        *comp, port = value.split(\",\")\n",
        "        comp = cls.clean_instance_string(\",\".join(comp))\n",
        "        return f\"{comp},{port}\"\n",
        "\n",
        "    @validator(\"connections\")\n",
        "    def validate_connection_names(cls, connections):\n",
        "        return {\n",
        "            cls.clean_connection_string(k): cls.clean_connection_string(v)\n",
        "            for k, v in connections.items()\n",
        "        }\n",
        "\n",
        "    @validator(\"ports\")\n",
        "    def validate_port_names(cls, ports):\n",
        "        return {\n",
        "            cls.clean_instance_string(k): cls.clean_connection_string(v)\n",
        "            for k, v in ports.items()\n",
        "        }"
      ]
    },
    {
      "cell_type": "markdown",
      "id": "c899c560-8ffd-4905-8307-7171a7679b7e",
      "metadata": {
        "papermill": {
          "duration": 0.002706,
          "end_time": "2023-06-01T21:49:57.132761",
          "exception": false,
          "start_time": "2023-06-01T21:49:57.130055",
          "status": "completed"
        },
        "tags": []
      },
      "source": [
        "We add an additional model to represent recursive netlists:"
      ]
    },
    {
      "cell_type": "code",
      "execution_count": 7,
      "id": "b6ad2fd12f584a36",
      "metadata": {
        "execution": {
          "iopub.execute_input": "2023-06-01T21:49:57.140099Z",
          "iopub.status.busy": "2023-06-01T21:49:57.139820Z",
          "iopub.status.idle": "2023-06-01T21:49:57.143568Z",
          "shell.execute_reply": "2023-06-01T21:49:57.143187Z"
        },
        "papermill": {
          "duration": 0.008902,
          "end_time": "2023-06-01T21:49:57.145106",
          "exception": false,
          "start_time": "2023-06-01T21:49:57.136204",
          "status": "completed"
        },
        "tags": [
          "hide-input"
        ]
      },
      "outputs": [],
      "source": [
        "    \n",
        "class RecursiveNetlist(BaseModel):\n",
        "    class Config:\n",
        "        extra = Extra.ignore\n",
        "        allow_mutation = False\n",
        "        frozen = True\n",
        "        \n",
        "    __root__: Dict[str, Netlist]"
      ]
    },
    {
      "cell_type": "markdown",
      "id": "30d9ed2b-7764-49b8-a3aa-a370374cbef1",
      "metadata": {
        "papermill": {
          "duration": 0.002723,
          "end_time": "2023-06-01T21:49:57.150611",
          "exception": false,
          "start_time": "2023-06-01T21:49:57.147888",
          "status": "completed"
        },
        "tags": []
      },
      "source": [
        "Let's create a simple recursive netlist with gdsfactory.\n",
        "\n",
        ":::{note}\n",
        "We are using gdsfactory to create our netlist because it allows us to see the circuit we want to simulate and because we're striving to have a compatible netlist implementation in SAX.\n",
        "\n",
        "However... gdsfactory is not a dependency of SAX. You can also define your circuits by hand (see [SAX Quick Start](../examples/01_quick_start.ipynb) or you can use another tool to programmatically construct your netlists.\n",
        ":::"
      ]
    },
    {
      "cell_type": "code",
      "execution_count": 8,
      "id": "53079a13-8dc0-4b53-879c-b5e05609f86e",
      "metadata": {
        "execution": {
          "iopub.execute_input": "2023-06-01T21:49:57.157160Z",
          "iopub.status.busy": "2023-06-01T21:49:57.156900Z",
          "iopub.status.idle": "2023-06-01T21:49:59.195498Z",
          "shell.execute_reply": "2023-06-01T21:49:59.195123Z"
        },
        "papermill": {
          "duration": 2.043396,
          "end_time": "2023-06-01T21:49:59.196851",
          "exception": false,
          "start_time": "2023-06-01T21:49:57.153455",
          "status": "completed"
        },
        "tags": []
      },
      "outputs": [
        {
          "name": "stdout",
          "output_type": "stream",
          "text": [
            "You can install `pip install gdsfactory[full]` for better visualization\n"
          ]
        },
        {
          "data": {
            "image/png": "[encoded data removed]",
            "text/plain": [
              "<Figure size 640x480 with 1 Axes>"
            ]
          },
          "metadata": {},
          "output_type": "display_data"
        },
        {
          "name": "stdout",
          "output_type": "stream",
          "text": [
            "twomzi: uid 3c8e6285, ports ['o1', 'o2'], references ['mzi_1', 'mzi_2'], 0 polygons\n"
          ]
        }
      ],
      "source": [
        "import gdsfactory as gf\n",
        "from gdsfactory.components import mzi\n",
        "from gdsfactory.get_netlist import get_netlist_recursive, get_netlist\n",
        "from IPython.display import display\n",
        "\n",
        "@gf.cell\n",
        "def twomzi():\n",
        "    c = gf.Component()\n",
        "    \n",
        "    # instances\n",
        "    mzi1 = mzi(delta_length=10)\n",
        "    mzi2 = mzi(delta_length=20)\n",
        "    \n",
        "    # references\n",
        "    mzi1_ = (c << mzi1)\n",
        "    mzi2_ = (c << mzi2)\n",
        "    \n",
        "    # connections\n",
        "    mzi2_.connect('o1', mzi1_.ports['o2'])\n",
        "    \n",
        "    # ports\n",
        "    c.add_port('o1', port=mzi1_.ports['o1'])\n",
        "    c.add_port('o2', port=mzi2_.ports['o2'])\n",
        "    return c\n",
        "\n",
        "comp  = twomzi()\n",
        "display(comp)\n",
        "recnet = RecursiveNetlist.parse_obj(get_netlist_recursive(comp, get_netlist_func=partial(get_netlist, full_settings=True)))\n",
        "flatnet = recnet.__root__['mzi_delta_length10']"
      ]
    },
    {
      "cell_type": "markdown",
      "id": "377687ad-d27d-4335-8012-9e408bddb19c",
      "metadata": {
        "papermill": {
          "duration": 0.003546,
          "end_time": "2023-06-01T21:49:59.204070",
          "exception": false,
          "start_time": "2023-06-01T21:49:59.200524",
          "status": "completed"
        },
        "tags": []
      },
      "source": [
        "Which gives the recursive netlist (go on to [Circuit](07_circuit.ipynb) from here.):"
      ]
    },
    {
      "cell_type": "markdown",
      "id": "3968c5ff3aba8a19",
      "metadata": {},
      "source": [
        ":::{eval-rst}\n",
        ".. autofunction:: sax.netlist.netlist\n",
        ":::\n"
      ]
    },
    {
      "cell_type": "code",
      "execution_count": 9,
      "id": "470469835e4a11e3",
      "metadata": {
        "execution": {
          "iopub.execute_input": "2023-06-01T21:49:59.212091Z",
          "iopub.status.busy": "2023-06-01T21:49:59.211611Z",
          "iopub.status.idle": "2023-06-01T21:49:59.215444Z",
          "shell.execute_reply": "2023-06-01T21:49:59.215014Z"
        },
        "papermill": {
          "duration": 0.009372,
          "end_time": "2023-06-01T21:49:59.216926",
          "exception": false,
          "start_time": "2023-06-01T21:49:59.207554",
          "status": "completed"
        },
        "tags": [
          "hide-input"
        ]
      },
      "outputs": [],
      "source": [
        "\n",
        "def netlist(dic: Dict) -> RecursiveNetlist:\n",
        "    if isinstance(dic, RecursiveNetlist):\n",
        "        return dic\n",
        "    elif isinstance(dic, Netlist):\n",
        "        dic = dic.dict()\n",
        "    try:\n",
        "        flat_net = Netlist.parse_obj(dic)\n",
        "        net = RecursiveNetlist.parse_obj({'top_level': flat_net})\n",
        "    except ValidationError:\n",
        "        net = RecursiveNetlist.parse_obj(dic)\n",
        "    return net"
      ]
    },
    {
      "cell_type": "markdown",
      "id": "faaffb91-6e3a-4321-86e9-f115fd770a1e",
      "metadata": {
        "papermill": {
          "duration": 0.003257,
          "end_time": "2023-06-01T21:49:59.223511",
          "exception": false,
          "start_time": "2023-06-01T21:49:59.220254",
          "status": "completed"
        },
        "tags": []
      },
      "source": [
        "## Load Netlist from folder"
      ]
    },
    {
      "cell_type": "code",
      "execution_count": 10,
      "id": "439b429a-ce25-4a22-8ad9-b164b83bfac7",
      "metadata": {
        "execution": {
          "iopub.execute_input": "2023-06-01T21:49:59.231182Z",
          "iopub.status.busy": "2023-06-01T21:49:59.230866Z",
          "iopub.status.idle": "2023-06-01T21:49:59.233359Z",
          "shell.execute_reply": "2023-06-01T21:49:59.232944Z"
        },
        "papermill": {
          "duration": 0.007976,
          "end_time": "2023-06-01T21:49:59.234832",
          "exception": false,
          "start_time": "2023-06-01T21:49:59.226856",
          "status": "completed"
        },
        "tags": []
      },
      "outputs": [],
      "source": [
        "path = \"/home/flaport/ProgrammingWin/OctansModeling/octans/assets/basic_b1/_wavemeter_help.ba.pic.yml\""
      ]
    },
    {
      "cell_type": "markdown",
      "id": "8c198fb566516bb6",
      "metadata": {},
      "source": [
        ":::{eval-rst}\n",
        ".. autofunction:: sax.netlist.load_netlist\n",
        ":::\n"
      ]
    },
    {
      "cell_type": "code",
      "execution_count": 11,
      "id": "c2d33e4e06c77f5b",
      "metadata": {
        "execution": {
          "iopub.execute_input": "2023-06-01T21:49:59.242724Z",
          "iopub.status.busy": "2023-06-01T21:49:59.242240Z",
          "iopub.status.idle": "2023-06-01T21:49:59.245321Z",
          "shell.execute_reply": "2023-06-01T21:49:59.244952Z"
        },
        "papermill": {
          "duration": 0.008546,
          "end_time": "2023-06-01T21:49:59.246793",
          "exception": false,
          "start_time": "2023-06-01T21:49:59.238247",
          "status": "completed"
        },
        "tags": [
          "hide-input"
        ]
      },
      "outputs": [],
      "source": [
        "@lru_cache()\n",
        "def load_netlist(pic_path) -> Netlist:\n",
        "    with open(pic_path, \"r\") as file:\n",
        "        net = yaml.safe_load(file.read())\n",
        "    return Netlist.parse_obj(net)"
      ]
    },
    {
      "cell_type": "markdown",
      "id": "3b6a42cb9fb19ff0",
      "metadata": {},
      "source": [
        ":::{eval-rst}\n",
        ".. autofunction:: sax.netlist.load_recursive_netlist\n",
        ":::\n"
      ]
    },
    {
      "cell_type": "code",
      "execution_count": 12,
      "id": "0bf9ab339f1f847d",
      "metadata": {
        "execution": {
          "iopub.execute_input": "2023-06-01T21:49:59.254415Z",
          "iopub.status.busy": "2023-06-01T21:49:59.254071Z",
          "iopub.status.idle": "2023-06-01T21:49:59.258101Z",
          "shell.execute_reply": "2023-06-01T21:49:59.257739Z"
        },
        "papermill": {
          "duration": 0.009588,
          "end_time": "2023-06-01T21:49:59.259716",
          "exception": false,
          "start_time": "2023-06-01T21:49:59.250128",
          "status": "completed"
        },
        "tags": [
          "hide-input"
        ]
      },
      "outputs": [],
      "source": [
        "@lru_cache()\n",
        "def load_recursive_netlist(pic_path, ext='.yml'):\n",
        "    folder_path = os.path.dirname(os.path.abspath(pic_path))\n",
        "    _clean_string = lambda path: clean_string(re.sub(ext, \"\", os.path.split(path)[-1]))\n",
        "    netlists = {_clean_string(pic_path): None} # the circuit we're interested in should come first.\n",
        "    for filename in os.listdir(folder_path):\n",
        "        path = os.path.join(folder_path, filename)\n",
        "        if not os.path.isfile(path) or not path.endswith(ext):\n",
        "            continue\n",
        "        netlists[_clean_string(path)] = load_netlist(path)\n",
        "    return RecursiveNetlist.parse_obj(netlists)"
      ]
    }
  ],
  "metadata": {
    "kernelspec": {
      "display_name": "sax",
      "language": "python",
      "name": "sax"
    },
    "language_info": {
      "codemirror_mode": {
        "name": "ipython",
        "version": 3
      },
      "file_extension": ".py",
      "mimetype": "text/x-python",
      "name": "python",
      "nbconvert_exporter": "python",
      "pygments_lexer": "ipython3",
      "version": "3.11.3"
    },
    "papermill": {
      "default_parameters": {},
      "duration": 5.377882,
      "end_time": "2023-06-01T21:49:59.980206",
      "environment_variables": {},
      "exception": null,
      "input_path": "./nbs/06a_netlist.ipynb",
      "output_path": "./nbs/06a_netlist.ipynb",
      "parameters": {},
      "start_time": "2023-06-01T21:49:54.602324",
      "version": "2.3.4"
    }
  },
  "nbformat": 4,
  "nbformat_minor": 5
}