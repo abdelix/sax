{
  "cells": [
    {
      "cell_type": "code",
      "execution_count": 1,
      "id": "6f803de095a7717f",
      "metadata": {
        "execution": {
          "iopub.execute_input": "2023-09-02T18:52:02.213770Z",
          "iopub.status.busy": "2023-09-02T18:52:02.213156Z",
          "iopub.status.idle": "2023-09-02T18:52:02.216774Z",
          "shell.execute_reply": "2023-09-02T18:52:02.216161Z"
        },
        "papermill": {
          "duration": 0.012931,
          "end_time": "2023-09-02T18:52:02.218084",
          "exception": false,
          "start_time": "2023-09-02T18:52:02.205153",
          "status": "completed"
        },
        "tags": [
          "remove-cell"
        ]
      },
      "outputs": [],
      "source": []
    },
    {
      "cell_type": "markdown",
      "id": "41e0d311",
      "metadata": {
        "papermill": {
          "duration": 0.006617,
          "end_time": "2023-09-02T18:52:02.230557",
          "exception": false,
          "start_time": "2023-09-02T18:52:02.223940",
          "status": "completed"
        },
        "tags": []
      },
      "source": [
        "# Backend - Filipsson Gunnar\n",
        "\n",
        "> Filipsson Gunnar Backend"
      ]
    },
    {
      "cell_type": "code",
      "execution_count": 2,
      "id": "9863fd4f491e2e93",
      "metadata": {
        "execution": {
          "iopub.execute_input": "2023-09-02T18:52:02.271269Z",
          "iopub.status.busy": "2023-09-02T18:52:02.270862Z",
          "iopub.status.idle": "2023-09-02T18:52:02.276744Z",
          "shell.execute_reply": "2023-09-02T18:52:02.276281Z"
        },
        "papermill": {
          "duration": 0.013898,
          "end_time": "2023-09-02T18:52:02.278079",
          "exception": false,
          "start_time": "2023-09-02T18:52:02.264181",
          "status": "completed"
        },
        "tags": [
          "remove-cell"
        ]
      },
      "outputs": [],
      "source": [
        "import os, sys; sys.stderr = open(os.devnull, \"w\")"
      ]
    },
    {
      "cell_type": "code",
      "execution_count": 3,
      "id": "3982aa9bdea78131",
      "metadata": {
        "execution": {
          "iopub.execute_input": "2023-09-02T18:52:02.290366Z",
          "iopub.status.busy": "2023-09-02T18:52:02.289988Z",
          "iopub.status.idle": "2023-09-02T18:52:03.120465Z",
          "shell.execute_reply": "2023-09-02T18:52:03.119938Z"
        },
        "papermill": {
          "duration": 0.838439,
          "end_time": "2023-09-02T18:52:03.122074",
          "exception": false,
          "start_time": "2023-09-02T18:52:02.283635",
          "status": "completed"
        },
        "tags": [
          "hide-input"
        ]
      },
      "outputs": [],
      "source": [
        "from __future__ import annotations\n",
        "\n",
        "import warnings\n",
        "from types import SimpleNamespace\n",
        "from typing import Any, Dict\n",
        "\n",
        "try:\n",
        "    import jax\n",
        "    import jax.numpy as jnp\n",
        "    JAX_AVAILABLE = True\n",
        "except ImportError:\n",
        "    import numpy as jnp\n",
        "    def jit(func, *args, **kwargs):\n",
        "        warnings.warn(\"[NO JAX] skipping jit! Please install JAX!\")\n",
        "        return func\n",
        "    \n",
        "    jax = SimpleNamespace(jit=jit)\n",
        "    JAX_AVAILABLE = False\n",
        "    \n",
        "from sax.typing_ import SDense, SDict, SType, sdict"
      ]
    },
    {
      "cell_type": "markdown",
      "id": "d8369d2f-9109-4375-8cb4-6d7ccabbd356",
      "metadata": {
        "papermill": {
          "duration": 0.006413,
          "end_time": "2023-09-02T18:52:03.135362",
          "exception": false,
          "start_time": "2023-09-02T18:52:03.128949",
          "status": "completed"
        },
        "tags": []
      },
      "source": [
        "## Citation\n",
        "The default SAX backend is based on the following paper:\n",
        "\n",
        "> Filipsson, Gunnar. \"*A new general computer algorithm for S-matrix calculation of interconnected multiports.*\" 11th European Microwave Conference. IEEE, 1981."
      ]
    },
    {
      "cell_type": "markdown",
      "id": "08081414-cd3c-4fd7-91c5-15c54ec4d153",
      "metadata": {
        "papermill": {
          "duration": 0.005534,
          "end_time": "2023-09-02T18:52:03.146455",
          "exception": false,
          "start_time": "2023-09-02T18:52:03.140921",
          "status": "completed"
        },
        "tags": []
      },
      "source": [
        "## Circuit Analyzation"
      ]
    },
    {
      "cell_type": "markdown",
      "id": "f49d087f0eb7919f",
      "metadata": {},
      "source": [
        ":::{eval-rst}\n",
        ".. autofunction:: sax.backends.filipsson_gunnar.analyze_circuit_fg\n",
        ":::\n"
      ]
    },
    {
      "cell_type": "code",
      "execution_count": 4,
      "id": "f44a4f678c43665f",
      "metadata": {
        "execution": {
          "iopub.execute_input": "2023-09-02T18:52:03.159060Z",
          "iopub.status.busy": "2023-09-02T18:52:03.158548Z",
          "iopub.status.idle": "2023-09-02T18:52:03.161741Z",
          "shell.execute_reply": "2023-09-02T18:52:03.161298Z"
        },
        "papermill": {
          "duration": 0.01104,
          "end_time": "2023-09-02T18:52:03.163095",
          "exception": false,
          "start_time": "2023-09-02T18:52:03.152055",
          "status": "completed"
        },
        "tags": [
          "hide-input"
        ]
      },
      "outputs": [],
      "source": [
        "\n",
        "def analyze_circuit_fg(connections: Dict[str, str], ports: Dict[str, str]) -> Any:\n",
        "    # skip analysis for now\n",
        "    return connections, ports"
      ]
    },
    {
      "cell_type": "markdown",
      "id": "feea9c4f-0528-44e0-8e87-91234c6d29cc",
      "metadata": {
        "papermill": {
          "duration": 0.005591,
          "end_time": "2023-09-02T18:52:03.174254",
          "exception": false,
          "start_time": "2023-09-02T18:52:03.168663",
          "status": "completed"
        },
        "tags": []
      },
      "source": [
        "## Circuit Evaluation"
      ]
    },
    {
      "cell_type": "markdown",
      "id": "17af18d20c739f17",
      "metadata": {},
      "source": [
        ":::{eval-rst}\n",
        ".. autofunction:: sax.backends.filipsson_gunnar.evaluate_circuit_fg\n",
        ":::\n"
      ]
    },
    {
      "cell_type": "code",
      "execution_count": 5,
      "id": "d4312db38198d3bd",
      "metadata": {
        "execution": {
          "iopub.execute_input": "2023-09-02T18:52:03.187117Z",
          "iopub.status.busy": "2023-09-02T18:52:03.186610Z",
          "iopub.status.idle": "2023-09-02T18:52:03.199078Z",
          "shell.execute_reply": "2023-09-02T18:52:03.198678Z"
        },
        "papermill": {
          "duration": 0.0205,
          "end_time": "2023-09-02T18:52:03.200335",
          "exception": false,
          "start_time": "2023-09-02T18:52:03.179835",
          "status": "completed"
        },
        "tags": [
          "hide-input"
        ]
      },
      "outputs": [],
      "source": [
        "\n",
        "def evaluate_circuit_fg(\n",
        "    analyzed: Any,\n",
        "    instances: Dict[str, SType],\n",
        ") -> SDict:\n",
        "    \"\"\"evaluate a circuit for the given sdicts.\"\"\"\n",
        "    connections, ports = analyzed\n",
        "    \n",
        "    # it's actually easier working w reverse:\n",
        "    reversed_ports = {v: k for k, v in ports.items()}\n",
        "\n",
        "    block_diag = {}\n",
        "    for name, S in instances.items():\n",
        "        block_diag.update(\n",
        "            {(f\"{name},{p1}\", f\"{name},{p2}\"): v for (p1, p2), v in sdict(S).items()}\n",
        "        )\n",
        "\n",
        "    sorted_connections = sorted(connections.items(), key=_connections_sort_key)\n",
        "    all_connected_instances = {k: {k} for k in instances}\n",
        "\n",
        "    for k, l in sorted_connections:\n",
        "        name1, _ = k.split(\",\")\n",
        "        name2, _ = l.split(\",\")\n",
        "\n",
        "        connected_instances = (\n",
        "            all_connected_instances[name1] | all_connected_instances[name2]\n",
        "        )\n",
        "        for name in connected_instances:\n",
        "            all_connected_instances[name] = connected_instances\n",
        "\n",
        "        current_ports = tuple(\n",
        "            p\n",
        "            for instance in connected_instances\n",
        "            for p in set([p for p, _ in block_diag] + [p for _, p in block_diag])\n",
        "            if p.startswith(f\"{instance},\")\n",
        "        )\n",
        "\n",
        "        block_diag.update(_interconnect_ports(block_diag, current_ports, k, l))\n",
        "\n",
        "        for i, j in list(block_diag.keys()):\n",
        "            is_connected = i == k or i == l or j == k or j == l\n",
        "            is_in_output_ports = i in reversed_ports and j in reversed_ports\n",
        "            if is_connected and not is_in_output_ports:\n",
        "                del block_diag[i, j]  # we're no longer interested in these port combinations\n",
        "\n",
        "    circuit_sdict: SDict = {\n",
        "        (reversed_ports[i], reversed_ports[j]): v\n",
        "        for (i, j), v in block_diag.items()\n",
        "        if i in reversed_ports and j in reversed_ports\n",
        "    }\n",
        "    return circuit_sdict\n",
        "\n",
        "\n",
        "def _connections_sort_key(connection):\n",
        "    \"\"\"sort key for sorting a connection dictionary \"\"\"\n",
        "    part1, part2 = connection\n",
        "    name1, _ = part1.split(\",\")\n",
        "    name2, _ = part2.split(\",\")\n",
        "    return (min(name1, name2), max(name1, name2))\n",
        "\n",
        "\n",
        "def _interconnect_ports(block_diag, current_ports, k, l):\n",
        "    \"\"\"interconnect two ports in a given model\n",
        "\n",
        "    > Note: the interconnect algorithm is based on equation 6 of 'Filipsson, Gunnar. \n",
        "      \"A new general computer algorithm for S-matrix calculation of interconnected \n",
        "      multiports.\" 11th European Microwave Conference. IEEE, 1981.'\n",
        "    \"\"\"\n",
        "    current_block_diag = {}\n",
        "    for i in current_ports:\n",
        "        for j in current_ports:\n",
        "            vij = _calculate_interconnected_value(\n",
        "                vij=block_diag.get((i, j), 0.0),\n",
        "                vik=block_diag.get((i, k), 0.0),\n",
        "                vil=block_diag.get((i, l), 0.0),\n",
        "                vkj=block_diag.get((k, j), 0.0),\n",
        "                vkk=block_diag.get((k, k), 0.0),\n",
        "                vkl=block_diag.get((k, l), 0.0),\n",
        "                vlj=block_diag.get((l, j), 0.0),\n",
        "                vlk=block_diag.get((l, k), 0.0),\n",
        "                vll=block_diag.get((l, l), 0.0),\n",
        "            )\n",
        "            current_block_diag[i, j] = vij\n",
        "    return current_block_diag\n",
        "\n",
        "\n",
        "@jax.jit\n",
        "def _calculate_interconnected_value(vij, vik, vil, vkj, vkk, vkl, vlj, vlk, vll):\n",
        "    \"\"\"Calculate an interconnected S-parameter value\n",
        "\n",
        "    Note:\n",
        "        The interconnect algorithm is based on equation 6 in the paper below::\n",
        "\n",
        "          Filipsson, Gunnar. \"A new general computer algorithm for S-matrix calculation\n",
        "          of interconnected multiports.\" 11th European Microwave Conference. IEEE, 1981.\n",
        "    \"\"\"\n",
        "    result = vij + (\n",
        "        vkj * vil * (1 - vlk)\n",
        "        + vlj * vik * (1 - vkl)\n",
        "        + vkj * vll * vik\n",
        "        + vlj * vkk * vil\n",
        "    ) / ((1 - vkl) * (1 - vlk) - vkk * vll)\n",
        "    return result"
      ]
    },
    {
      "cell_type": "markdown",
      "id": "9dabee38",
      "metadata": {
        "papermill": {
          "duration": 0.005551,
          "end_time": "2023-09-02T18:52:03.211571",
          "exception": false,
          "start_time": "2023-09-02T18:52:03.206020",
          "status": "completed"
        },
        "tags": []
      },
      "source": [
        "## Example"
      ]
    },
    {
      "cell_type": "code",
      "execution_count": 6,
      "id": "5ab7ea6c",
      "metadata": {
        "execution": {
          "iopub.execute_input": "2023-09-02T18:52:03.224274Z",
          "iopub.status.busy": "2023-09-02T18:52:03.223709Z",
          "iopub.status.idle": "2023-09-02T18:52:03.960346Z",
          "shell.execute_reply": "2023-09-02T18:52:03.959868Z"
        },
        "papermill": {
          "duration": 0.744567,
          "end_time": "2023-09-02T18:52:03.961703",
          "exception": false,
          "start_time": "2023-09-02T18:52:03.217136",
          "status": "completed"
        },
        "tags": []
      },
      "outputs": [
        {
          "data": {
            "text/plain": [
              "{('in0', 'in0'): Array(0.+0.j, dtype=complex128),\n",
              " ('in0', 'in1'): Array(0.+0.j, dtype=complex128),\n",
              " ('in1', 'in0'): Array(0.+0.j, dtype=complex128),\n",
              " ('in1', 'in1'): Array(0.+0.j, dtype=complex128),\n",
              " ('out0', 'out0'): Array(0.+0.j, dtype=complex128),\n",
              " ('out0', 'out1'): Array(0.+0.j, dtype=complex128),\n",
              " ('out1', 'out0'): Array(0.+0.j, dtype=complex128),\n",
              " ('out1', 'out1'): Array(0.+0.j, dtype=complex128),\n",
              " ('in0', 'out1'): Array(-0.433015+0.75j, dtype=complex128),\n",
              " ('in0', 'out0'): Array(-0.25+0.433015j, dtype=complex128),\n",
              " ('in1', 'out1'): Array(0.25-0.433015j, dtype=complex128),\n",
              " ('in1', 'out0'): Array(-0.433015+0.75j, dtype=complex128),\n",
              " ('out1', 'in0'): Array(-0.433015+0.75j, dtype=complex128),\n",
              " ('out1', 'in1'): Array(0.25-0.433015j, dtype=complex128),\n",
              " ('out0', 'in0'): Array(-0.25+0.433015j, dtype=complex128),\n",
              " ('out0', 'in1'): Array(-0.433015+0.75j, dtype=complex128)}"
            ]
          },
          "execution_count": 6,
          "metadata": {},
          "output_type": "execute_result"
        }
      ],
      "source": [
        "wg_sdict: SDict = {\n",
        "    (\"in0\", \"out0\"): 0.5 + 0.86603j,\n",
        "    (\"out0\", \"in0\"): 0.5 + 0.86603j,\n",
        "}\n",
        "\n",
        "\u03c4, \u03ba = 0.5 ** 0.5, 1j * 0.5 ** 0.5\n",
        "dc_sdense: SDense = (\n",
        "    jnp.array([[0, 0, \u03c4, \u03ba], \n",
        "               [0, 0, \u03ba, \u03c4], \n",
        "               [\u03c4, \u03ba, 0, 0], \n",
        "               [\u03ba, \u03c4, 0, 0]]),\n",
        "    {\"in0\": 0, \"in1\": 1, \"out0\": 2, \"out1\": 3},\n",
        ")\n",
        "\n",
        "instances={\n",
        "    \"dc1\": dc_sdense,\n",
        "    \"wg\": wg_sdict,\n",
        "    \"dc2\": dc_sdense,\n",
        "}\n",
        "connections={\n",
        "    \"dc1,out0\": \"wg,in0\",\n",
        "    \"wg,out0\": \"dc2,in0\",\n",
        "    \"dc1,out1\": \"dc2,in1\",\n",
        "}\n",
        "ports={\n",
        "    \"in0\": \"dc1,in0\",\n",
        "    \"in1\": \"dc1,in1\",\n",
        "    \"out0\": \"dc2,out0\",\n",
        "    \"out1\": \"dc2,out1\",\n",
        "}\n",
        "\n",
        "mzi_sdict: SDict = evaluate_circuit_fg(\n",
        "    analyze_circuit_fg(connections, ports),\n",
        "    instances,\n",
        ")\n",
        "\n",
        "mzi_sdict"
      ]
    },
    {
      "cell_type": "markdown",
      "id": "48950a3d",
      "metadata": {
        "papermill": {
          "duration": 0.006691,
          "end_time": "2023-09-02T18:52:03.975206",
          "exception": false,
          "start_time": "2023-09-02T18:52:03.968515",
          "status": "completed"
        },
        "tags": []
      },
      "source": [
        "## Algorithm Walkthrough\n",
        "\n",
        "> Note: This algorithm gets pretty slow for large circuits. I'd be [very interested in any improvements](#Algorithm-Improvements) that can be made here, especially because - as opposed to the currently faster [KLU backend](./08b_backends_klu.ipynb) - the algorithm discussed here is jittable, differentiable and can be used on GPUs."
      ]
    },
    {
      "cell_type": "markdown",
      "id": "81e28766",
      "metadata": {
        "papermill": {
          "duration": 0.005777,
          "end_time": "2023-09-02T18:52:03.986813",
          "exception": false,
          "start_time": "2023-09-02T18:52:03.981036",
          "status": "completed"
        },
        "tags": []
      },
      "source": [
        "Let's walk through all the steps of this algorithm. We'll do this for a simple MZI circuit, given by two directional couplers characterised by `dc_sdense` with a phase shifting waveguide in between `wg_sdict`:"
      ]
    },
    {
      "cell_type": "code",
      "execution_count": 7,
      "id": "e2bdfbf4",
      "metadata": {
        "execution": {
          "iopub.execute_input": "2023-09-02T18:52:03.999910Z",
          "iopub.status.busy": "2023-09-02T18:52:03.999409Z",
          "iopub.status.idle": "2023-09-02T18:52:04.003025Z",
          "shell.execute_reply": "2023-09-02T18:52:04.002535Z"
        },
        "papermill": {
          "duration": 0.011715,
          "end_time": "2023-09-02T18:52:04.004292",
          "exception": false,
          "start_time": "2023-09-02T18:52:03.992577",
          "status": "completed"
        },
        "tags": []
      },
      "outputs": [],
      "source": [
        "instances={\n",
        "    \"dc1\": dc_sdense,\n",
        "    \"wg\": wg_sdict,\n",
        "    \"dc2\": dc_sdense,\n",
        "}\n",
        "connections={\n",
        "    \"dc1,out0\": \"wg,in0\",\n",
        "    \"wg,out0\": \"dc2,in0\",\n",
        "    \"dc1,out1\": \"dc2,in1\",\n",
        "}\n",
        "ports={\n",
        "    \"in0\": \"dc1,in0\",\n",
        "    \"in1\": \"dc1,in1\",\n",
        "    \"out0\": \"dc2,out0\",\n",
        "    \"out1\": \"dc2,out1\",\n",
        "}"
      ]
    },
    {
      "cell_type": "markdown",
      "id": "6ef72161",
      "metadata": {
        "papermill": {
          "duration": 0.00575,
          "end_time": "2023-09-02T18:52:04.015805",
          "exception": false,
          "start_time": "2023-09-02T18:52:04.010055",
          "status": "completed"
        },
        "tags": []
      },
      "source": [
        "as a first step, we construct the `reversed_ports`, it's actually easier to work with `reversed_ports` (we chose the opposite convention in the netlist definition to adhere to the GDSFactory netlist convention):"
      ]
    },
    {
      "cell_type": "code",
      "execution_count": 8,
      "id": "70302612",
      "metadata": {
        "execution": {
          "iopub.execute_input": "2023-09-02T18:52:04.029007Z",
          "iopub.status.busy": "2023-09-02T18:52:04.028522Z",
          "iopub.status.idle": "2023-09-02T18:52:04.031633Z",
          "shell.execute_reply": "2023-09-02T18:52:04.031211Z"
        },
        "papermill": {
          "duration": 0.011141,
          "end_time": "2023-09-02T18:52:04.032770",
          "exception": false,
          "start_time": "2023-09-02T18:52:04.021629",
          "status": "completed"
        },
        "tags": []
      },
      "outputs": [],
      "source": [
        "reversed_ports = {v: k for k, v in ports.items()}"
      ]
    },
    {
      "cell_type": "markdown",
      "id": "78676045",
      "metadata": {
        "papermill": {
          "duration": 0.005853,
          "end_time": "2023-09-02T18:52:04.044528",
          "exception": false,
          "start_time": "2023-09-02T18:52:04.038675",
          "status": "completed"
        },
        "tags": []
      },
      "source": [
        "The first real step of the algorithm is to create the 'block diagonal sdict`:"
      ]
    },
    {
      "cell_type": "code",
      "execution_count": 9,
      "id": "0ff6149f",
      "metadata": {
        "execution": {
          "iopub.execute_input": "2023-09-02T18:52:04.057983Z",
          "iopub.status.busy": "2023-09-02T18:52:04.057362Z",
          "iopub.status.idle": "2023-09-02T18:52:04.085494Z",
          "shell.execute_reply": "2023-09-02T18:52:04.085022Z"
        },
        "papermill": {
          "duration": 0.036728,
          "end_time": "2023-09-02T18:52:04.087173",
          "exception": false,
          "start_time": "2023-09-02T18:52:04.050445",
          "status": "completed"
        },
        "tags": []
      },
      "outputs": [],
      "source": [
        "block_diag = {}\n",
        "for name, S in instances.items():\n",
        "    block_diag.update(\n",
        "        {(f\"{name},{p1}\", f\"{name},{p2}\"): v for (p1, p2), v in sdict(S).items()}\n",
        "    )\n"
      ]
    },
    {
      "cell_type": "markdown",
      "id": "c4721548",
      "metadata": {
        "papermill": {
          "duration": 0.005976,
          "end_time": "2023-09-02T18:52:04.099779",
          "exception": false,
          "start_time": "2023-09-02T18:52:04.093803",
          "status": "completed"
        },
        "tags": []
      },
      "source": [
        "we can optionally filter out zeros from the resulting block_diag representation. Just note that this will make the resuling function unjittable (the resulting 'shape' (i.e. keys) of the dictionary would depend on the data itself, which is not allowed in JAX jit). We're doing it here to avoid printing zeros but **internally this is not done by default**."
      ]
    },
    {
      "cell_type": "code",
      "execution_count": 10,
      "id": "cfce53c1",
      "metadata": {
        "execution": {
          "iopub.execute_input": "2023-09-02T18:52:04.113105Z",
          "iopub.status.busy": "2023-09-02T18:52:04.112492Z",
          "iopub.status.idle": "2023-09-02T18:52:04.168873Z",
          "shell.execute_reply": "2023-09-02T18:52:04.168395Z"
        },
        "papermill": {
          "duration": 0.065252,
          "end_time": "2023-09-02T18:52:04.170930",
          "exception": false,
          "start_time": "2023-09-02T18:52:04.105678",
          "status": "completed"
        },
        "tags": []
      },
      "outputs": [
        {
          "name": "stdout",
          "output_type": "stream",
          "text": [
            "18\n"
          ]
        },
        {
          "data": {
            "text/plain": [
              "{('dc1,in0', 'dc1,out0'): Array(0.70710678+0.j, dtype=complex128),\n",
              " ('dc1,in0', 'dc1,out1'): Array(0.+0.70710678j, dtype=complex128),\n",
              " ('dc1,in1', 'dc1,out0'): Array(0.+0.70710678j, dtype=complex128),\n",
              " ('dc1,in1', 'dc1,out1'): Array(0.70710678+0.j, dtype=complex128),\n",
              " ('dc1,out0', 'dc1,in0'): Array(0.70710678+0.j, dtype=complex128),\n",
              " ('dc1,out0', 'dc1,in1'): Array(0.+0.70710678j, dtype=complex128),\n",
              " ('dc1,out1', 'dc1,in0'): Array(0.+0.70710678j, dtype=complex128),\n",
              " ('dc1,out1', 'dc1,in1'): Array(0.70710678+0.j, dtype=complex128),\n",
              " ('wg,in0', 'wg,out0'): (0.5+0.86603j),\n",
              " ('wg,out0', 'wg,in0'): (0.5+0.86603j),\n",
              " ('dc2,in0', 'dc2,out0'): Array(0.70710678+0.j, dtype=complex128),\n",
              " ('dc2,in0', 'dc2,out1'): Array(0.+0.70710678j, dtype=complex128),\n",
              " ('dc2,in1', 'dc2,out0'): Array(0.+0.70710678j, dtype=complex128),\n",
              " ('dc2,in1', 'dc2,out1'): Array(0.70710678+0.j, dtype=complex128),\n",
              " ('dc2,out0', 'dc2,in0'): Array(0.70710678+0.j, dtype=complex128),\n",
              " ('dc2,out0', 'dc2,in1'): Array(0.+0.70710678j, dtype=complex128),\n",
              " ('dc2,out1', 'dc2,in0'): Array(0.+0.70710678j, dtype=complex128),\n",
              " ('dc2,out1', 'dc2,in1'): Array(0.70710678+0.j, dtype=complex128)}"
            ]
          },
          "execution_count": 10,
          "metadata": {},
          "output_type": "execute_result"
        }
      ],
      "source": [
        "block_diag = {k: v for k, v in block_diag.items() if jnp.abs(v) > 1e-10}\n",
        "print(len(block_diag))\n",
        "block_diag"
      ]
    },
    {
      "cell_type": "markdown",
      "id": "1963694a",
      "metadata": {
        "papermill": {
          "duration": 0.006136,
          "end_time": "2023-09-02T18:52:04.183418",
          "exception": false,
          "start_time": "2023-09-02T18:52:04.177282",
          "status": "completed"
        },
        "tags": []
      },
      "source": [
        "next, we sort the connections such that similar components are grouped together:"
      ]
    },
    {
      "cell_type": "code",
      "execution_count": 11,
      "id": "9859c2d4",
      "metadata": {
        "execution": {
          "iopub.execute_input": "2023-09-02T18:52:04.197140Z",
          "iopub.status.busy": "2023-09-02T18:52:04.196542Z",
          "iopub.status.idle": "2023-09-02T18:52:04.200491Z",
          "shell.execute_reply": "2023-09-02T18:52:04.200112Z"
        },
        "papermill": {
          "duration": 0.012152,
          "end_time": "2023-09-02T18:52:04.201662",
          "exception": false,
          "start_time": "2023-09-02T18:52:04.189510",
          "status": "completed"
        },
        "tags": []
      },
      "outputs": [
        {
          "data": {
            "text/plain": [
              "[('dc1,out1', 'dc2,in1'), ('dc1,out0', 'wg,in0'), ('wg,out0', 'dc2,in0')]"
            ]
          },
          "execution_count": 11,
          "metadata": {},
          "output_type": "execute_result"
        }
      ],
      "source": [
        "sorted_connections = sorted(connections.items(), key=_connections_sort_key)\n",
        "sorted_connections"
      ]
    },
    {
      "cell_type": "markdown",
      "id": "c75fbf65",
      "metadata": {
        "papermill": {
          "duration": 0.006181,
          "end_time": "2023-09-02T18:52:04.214143",
          "exception": false,
          "start_time": "2023-09-02T18:52:04.207962",
          "status": "completed"
        },
        "tags": []
      },
      "source": [
        "Now we iterate over the sorted connections and connect components as they come in. Connected components take over the name of the first component in the connection, but we keep a set of components belonging to that key in `all_connected_instances`.\n",
        "\n",
        "This is how this `all_connected_instances` dictionary looks initially."
      ]
    },
    {
      "cell_type": "code",
      "execution_count": 12,
      "id": "cf30668c",
      "metadata": {
        "execution": {
          "iopub.execute_input": "2023-09-02T18:52:04.227747Z",
          "iopub.status.busy": "2023-09-02T18:52:04.227201Z",
          "iopub.status.idle": "2023-09-02T18:52:04.231078Z",
          "shell.execute_reply": "2023-09-02T18:52:04.230708Z"
        },
        "papermill": {
          "duration": 0.011967,
          "end_time": "2023-09-02T18:52:04.232226",
          "exception": false,
          "start_time": "2023-09-02T18:52:04.220259",
          "status": "completed"
        },
        "tags": []
      },
      "outputs": [
        {
          "data": {
            "text/plain": [
              "{'dc1': {'dc1'}, 'wg': {'wg'}, 'dc2': {'dc2'}}"
            ]
          },
          "execution_count": 12,
          "metadata": {},
          "output_type": "execute_result"
        }
      ],
      "source": [
        "all_connected_instances = {k: {k} for k in instances}\n",
        "all_connected_instances"
      ]
    },
    {
      "cell_type": "markdown",
      "id": "1152056b",
      "metadata": {
        "papermill": {
          "duration": 0.006163,
          "end_time": "2023-09-02T18:52:04.244641",
          "exception": false,
          "start_time": "2023-09-02T18:52:04.238478",
          "status": "completed"
        },
        "tags": []
      },
      "source": [
        "Normally we would loop over every connection in `sorted_connections` now, but let's just go through it once at first:"
      ]
    },
    {
      "cell_type": "code",
      "execution_count": 13,
      "id": "65bbf9e7b6e885d7",
      "metadata": {
        "execution": {
          "iopub.execute_input": "2023-09-02T18:52:04.258672Z",
          "iopub.status.busy": "2023-09-02T18:52:04.258030Z",
          "iopub.status.idle": "2023-09-02T18:52:04.262044Z",
          "shell.execute_reply": "2023-09-02T18:52:04.261560Z"
        },
        "papermill": {
          "duration": 0.012452,
          "end_time": "2023-09-02T18:52:04.263300",
          "exception": false,
          "start_time": "2023-09-02T18:52:04.250848",
          "status": "completed"
        },
        "tags": []
      },
      "outputs": [
        {
          "data": {
            "text/plain": [
              "('dc1,out1', 'dc2,in1')"
            ]
          },
          "execution_count": 13,
          "metadata": {},
          "output_type": "execute_result"
        }
      ],
      "source": [
        "# for k, l in sorted_connections:\n",
        "k, l = sorted_connections[0]\n",
        "k, l"
      ]
    },
    {
      "cell_type": "markdown",
      "id": "16a2266c",
      "metadata": {
        "papermill": {
          "duration": 0.006303,
          "end_time": "2023-09-02T18:52:04.276116",
          "exception": false,
          "start_time": "2023-09-02T18:52:04.269813",
          "status": "completed"
        },
        "tags": []
      },
      "source": [
        "`k` and `l` are the S-matrix indices we're trying to connect. Note that in our sparse `SDict` notation these S-matrix indices are in fact equivalent with the port names `('dc1,out1', 'dc2,in1')`!"
      ]
    },
    {
      "cell_type": "markdown",
      "id": "0eaf4add",
      "metadata": {
        "papermill": {
          "duration": 0.006263,
          "end_time": "2023-09-02T18:52:04.288742",
          "exception": false,
          "start_time": "2023-09-02T18:52:04.282479",
          "status": "completed"
        },
        "tags": []
      },
      "source": [
        "first we split the connection string into an instance name and a port name (we don't use the port name yet):"
      ]
    },
    {
      "cell_type": "code",
      "execution_count": 14,
      "id": "667d1a3c",
      "metadata": {
        "execution": {
          "iopub.execute_input": "2023-09-02T18:52:04.302976Z",
          "iopub.status.busy": "2023-09-02T18:52:04.302364Z",
          "iopub.status.idle": "2023-09-02T18:52:04.305323Z",
          "shell.execute_reply": "2023-09-02T18:52:04.304867Z"
        },
        "papermill": {
          "duration": 0.011465,
          "end_time": "2023-09-02T18:52:04.306524",
          "exception": false,
          "start_time": "2023-09-02T18:52:04.295059",
          "status": "completed"
        },
        "tags": []
      },
      "outputs": [],
      "source": [
        "name1, _ = k.split(\",\")\n",
        "name2, _ = l.split(\",\")"
      ]
    },
    {
      "cell_type": "markdown",
      "id": "16e8bbe8",
      "metadata": {
        "papermill": {
          "duration": 0.006364,
          "end_time": "2023-09-02T18:52:04.319364",
          "exception": false,
          "start_time": "2023-09-02T18:52:04.313000",
          "status": "completed"
        },
        "tags": []
      },
      "source": [
        "We then obtain the new set of connected instances."
      ]
    },
    {
      "cell_type": "code",
      "execution_count": 15,
      "id": "51bf8615",
      "metadata": {
        "execution": {
          "iopub.execute_input": "2023-09-02T18:52:04.333467Z",
          "iopub.status.busy": "2023-09-02T18:52:04.332910Z",
          "iopub.status.idle": "2023-09-02T18:52:04.336711Z",
          "shell.execute_reply": "2023-09-02T18:52:04.336374Z"
        },
        "papermill": {
          "duration": 0.012146,
          "end_time": "2023-09-02T18:52:04.337837",
          "exception": false,
          "start_time": "2023-09-02T18:52:04.325691",
          "status": "completed"
        },
        "tags": []
      },
      "outputs": [
        {
          "data": {
            "text/plain": [
              "{'dc1', 'dc2'}"
            ]
          },
          "execution_count": 15,
          "metadata": {},
          "output_type": "execute_result"
        }
      ],
      "source": [
        "connected_instances = all_connected_instances[name1] | all_connected_instances[name2]\n",
        "connected_instances"
      ]
    },
    {
      "cell_type": "markdown",
      "id": "676c8d61",
      "metadata": {
        "papermill": {
          "duration": 0.006504,
          "end_time": "2023-09-02T18:52:04.350832",
          "exception": false,
          "start_time": "2023-09-02T18:52:04.344328",
          "status": "completed"
        },
        "tags": []
      },
      "source": [
        "We then iterate over each of the components in this set and make sure each of the component names in that set maps to that set (yes, I know... confusing). We do this to be able to keep track with which components each of the components in the circuit is currently already connected to."
      ]
    },
    {
      "cell_type": "code",
      "execution_count": 16,
      "id": "d322e86c",
      "metadata": {
        "execution": {
          "iopub.execute_input": "2023-09-02T18:52:04.365439Z",
          "iopub.status.busy": "2023-09-02T18:52:04.364832Z",
          "iopub.status.idle": "2023-09-02T18:52:04.368753Z",
          "shell.execute_reply": "2023-09-02T18:52:04.368390Z"
        },
        "papermill": {
          "duration": 0.012628,
          "end_time": "2023-09-02T18:52:04.369915",
          "exception": false,
          "start_time": "2023-09-02T18:52:04.357287",
          "status": "completed"
        },
        "tags": []
      },
      "outputs": [
        {
          "data": {
            "text/plain": [
              "{'dc1': {'dc1', 'dc2'}, 'wg': {'wg'}, 'dc2': {'dc1', 'dc2'}}"
            ]
          },
          "execution_count": 16,
          "metadata": {},
          "output_type": "execute_result"
        }
      ],
      "source": [
        "for name in connected_instances:\n",
        "    all_connected_instances[name] = connected_instances\n",
        "    \n",
        "all_connected_instances"
      ]
    },
    {
      "cell_type": "markdown",
      "id": "b79f49f8",
      "metadata": {
        "papermill": {
          "duration": 0.006611,
          "end_time": "2023-09-02T18:52:04.383114",
          "exception": false,
          "start_time": "2023-09-02T18:52:04.376503",
          "status": "completed"
        },
        "tags": []
      },
      "source": [
        "now we need to obtain all the ports of the currently connected instances."
      ]
    },
    {
      "cell_type": "code",
      "execution_count": 17,
      "id": "61b3cfab",
      "metadata": {
        "execution": {
          "iopub.execute_input": "2023-09-02T18:52:04.398054Z",
          "iopub.status.busy": "2023-09-02T18:52:04.397417Z",
          "iopub.status.idle": "2023-09-02T18:52:04.401966Z",
          "shell.execute_reply": "2023-09-02T18:52:04.401593Z"
        },
        "papermill": {
          "duration": 0.013473,
          "end_time": "2023-09-02T18:52:04.403178",
          "exception": false,
          "start_time": "2023-09-02T18:52:04.389705",
          "status": "completed"
        },
        "tags": []
      },
      "outputs": [
        {
          "data": {
            "text/plain": [
              "('dc1,out0',\n",
              " 'dc1,in0',\n",
              " 'dc1,out1',\n",
              " 'dc1,in1',\n",
              " 'dc2,in0',\n",
              " 'dc2,in1',\n",
              " 'dc2,out1',\n",
              " 'dc2,out0')"
            ]
          },
          "execution_count": 17,
          "metadata": {},
          "output_type": "execute_result"
        }
      ],
      "source": [
        "current_ports = tuple(\n",
        "    p\n",
        "    for instance in connected_instances\n",
        "    for p in set([p for p, _ in block_diag] + [p for _, p in block_diag])\n",
        "    if p.startswith(f\"{instance},\")\n",
        ")\n",
        "\n",
        "current_ports"
      ]
    },
    {
      "cell_type": "markdown",
      "id": "d0e87449",
      "metadata": {
        "papermill": {
          "duration": 0.00676,
          "end_time": "2023-09-02T18:52:04.416796",
          "exception": false,
          "start_time": "2023-09-02T18:52:04.410036",
          "status": "completed"
        },
        "tags": []
      },
      "source": [
        "Now the [Gunnar Algorithm](#citation) is used. Given a (block-diagonal) 'S-matrix' `block_diag` and a 'connection matrix' `current_ports` we can interconnect port `k` and `l` as follows:\n",
        "\n",
        "> Note: some creative freedom is used here. In SAX, the matrices we're talking about are in fact represented by a sparse dictionary (an `SDict`), i.e. similar to a COO sparse matrix for which the indices are the port names."
      ]
    },
    {
      "cell_type": "code",
      "execution_count": 18,
      "id": "431649e5",
      "metadata": {
        "execution": {
          "iopub.execute_input": "2023-09-02T18:52:04.431785Z",
          "iopub.status.busy": "2023-09-02T18:52:04.431321Z",
          "iopub.status.idle": "2023-09-02T18:52:04.923848Z",
          "shell.execute_reply": "2023-09-02T18:52:04.923356Z"
        },
        "papermill": {
          "duration": 0.501869,
          "end_time": "2023-09-02T18:52:04.925531",
          "exception": false,
          "start_time": "2023-09-02T18:52:04.423662",
          "status": "completed"
        },
        "tags": []
      },
      "outputs": [],
      "source": [
        "def _interconnect_ports(block_diag, current_ports, k, l):\n",
        "    current_block_diag = {}\n",
        "    for i in current_ports:\n",
        "        for j in current_ports:\n",
        "            vij = _calculate_interconnected_value(\n",
        "                vij=block_diag.get((i, j), 0.0),\n",
        "                vik=block_diag.get((i, k), 0.0),\n",
        "                vil=block_diag.get((i, l), 0.0),\n",
        "                vkj=block_diag.get((k, j), 0.0),\n",
        "                vkk=block_diag.get((k, k), 0.0),\n",
        "                vkl=block_diag.get((k, l), 0.0),\n",
        "                vlj=block_diag.get((l, j), 0.0),\n",
        "                vlk=block_diag.get((l, k), 0.0),\n",
        "                vll=block_diag.get((l, l), 0.0),\n",
        "            )\n",
        "            current_block_diag[i, j] = vij\n",
        "    return current_block_diag\n",
        "\n",
        "@jax.jit\n",
        "def _calculate_interconnected_value(vij, vik, vil, vkj, vkk, vkl, vlj, vlk, vll):\n",
        "    result = vij + (\n",
        "        vkj * vil * (1 - vlk)\n",
        "        + vlj * vik * (1 - vkl)\n",
        "        + vkj * vll * vik\n",
        "        + vlj * vkk * vil\n",
        "    ) / ((1 - vkl) * (1 - vlk) - vkk * vll)\n",
        "    return result\n",
        "\n",
        "block_diag.update(_interconnect_ports(block_diag, current_ports, k, l))"
      ]
    },
    {
      "cell_type": "markdown",
      "id": "988c08d9",
      "metadata": {
        "papermill": {
          "duration": 0.006983,
          "end_time": "2023-09-02T18:52:04.939972",
          "exception": false,
          "start_time": "2023-09-02T18:52:04.932989",
          "status": "completed"
        },
        "tags": []
      },
      "source": [
        "Just as before, we're filtering the zeros from the sparse representation (remember, internally this is **not done by default**)."
      ]
    },
    {
      "cell_type": "code",
      "execution_count": 19,
      "id": "e9ac8164",
      "metadata": {
        "execution": {
          "iopub.execute_input": "2023-09-02T18:52:04.955227Z",
          "iopub.status.busy": "2023-09-02T18:52:04.954533Z",
          "iopub.status.idle": "2023-09-02T18:52:04.977155Z",
          "shell.execute_reply": "2023-09-02T18:52:04.976801Z"
        },
        "papermill": {
          "duration": 0.031515,
          "end_time": "2023-09-02T18:52:04.978311",
          "exception": false,
          "start_time": "2023-09-02T18:52:04.946796",
          "status": "completed"
        },
        "tags": []
      },
      "outputs": [
        {
          "name": "stdout",
          "output_type": "stream",
          "text": [
            "26\n"
          ]
        },
        {
          "data": {
            "text/plain": [
              "{('dc1,in0', 'dc1,out0'): Array(0.70710678+0.j, dtype=complex128),\n",
              " ('dc1,in0', 'dc1,out1'): Array(0.+0.70710678j, dtype=complex128),\n",
              " ('dc1,in1', 'dc1,out0'): Array(0.+0.70710678j, dtype=complex128),\n",
              " ('dc1,in1', 'dc1,out1'): Array(0.70710678+0.j, dtype=complex128),\n",
              " ('dc1,out0', 'dc1,in0'): Array(0.70710678+0.j, dtype=complex128),\n",
              " ('dc1,out0', 'dc1,in1'): Array(0.+0.70710678j, dtype=complex128),\n",
              " ('dc1,out1', 'dc1,in0'): Array(0.+0.70710678j, dtype=complex128),\n",
              " ('dc1,out1', 'dc1,in1'): Array(0.70710678+0.j, dtype=complex128),\n",
              " ('wg,in0', 'wg,out0'): (0.5+0.86603j),\n",
              " ('wg,out0', 'wg,in0'): (0.5+0.86603j),\n",
              " ('dc2,in0', 'dc2,out0'): Array(0.70710678+0.j, dtype=complex128),\n",
              " ('dc2,in0', 'dc2,out1'): Array(0.+0.70710678j, dtype=complex128),\n",
              " ('dc2,in1', 'dc2,out0'): Array(0.+0.70710678j, dtype=complex128),\n",
              " ('dc2,in1', 'dc2,out1'): Array(0.70710678+0.j, dtype=complex128),\n",
              " ('dc2,out0', 'dc2,in0'): Array(0.70710678+0.j, dtype=complex128),\n",
              " ('dc2,out0', 'dc2,in1'): Array(0.+0.70710678j, dtype=complex128),\n",
              " ('dc2,out1', 'dc2,in0'): Array(0.+0.70710678j, dtype=complex128),\n",
              " ('dc2,out1', 'dc2,in1'): Array(0.70710678+0.j, dtype=complex128),\n",
              " ('dc1,in0', 'dc2,out1'): Array(0.+0.5j, dtype=complex128),\n",
              " ('dc1,in0', 'dc2,out0'): Array(-0.5+0.j, dtype=complex128),\n",
              " ('dc1,in1', 'dc2,out1'): Array(0.5+0.j, dtype=complex128),\n",
              " ('dc1,in1', 'dc2,out0'): Array(0.+0.5j, dtype=complex128),\n",
              " ('dc2,out1', 'dc1,in0'): Array(0.+0.5j, dtype=complex128),\n",
              " ('dc2,out1', 'dc1,in1'): Array(0.5+0.j, dtype=complex128),\n",
              " ('dc2,out0', 'dc1,in0'): Array(-0.5+0.j, dtype=complex128),\n",
              " ('dc2,out0', 'dc1,in1'): Array(0.+0.5j, dtype=complex128)}"
            ]
          },
          "execution_count": 19,
          "metadata": {},
          "output_type": "execute_result"
        }
      ],
      "source": [
        "block_diag = {k: v for k, v in block_diag.items() if jnp.abs(v) > 1e-10}\n",
        "print(len(block_diag))\n",
        "block_diag"
      ]
    },
    {
      "cell_type": "markdown",
      "id": "db0cd151",
      "metadata": {
        "papermill": {
          "duration": 0.007057,
          "end_time": "2023-09-02T18:52:04.992577",
          "exception": false,
          "start_time": "2023-09-02T18:52:04.985520",
          "status": "completed"
        },
        "tags": []
      },
      "source": [
        "This is the resulting block-diagonal matrix after interconnecting two ports (i.e. basically saying that those two ports are the same port). Because these ports are now connected we should actually remove them from the S-matrix representation (they are integrated into the S-parameters of the other connections):"
      ]
    },
    {
      "cell_type": "code",
      "execution_count": 20,
      "id": "311b034f",
      "metadata": {
        "execution": {
          "iopub.execute_input": "2023-09-02T18:52:05.007992Z",
          "iopub.status.busy": "2023-09-02T18:52:05.007528Z",
          "iopub.status.idle": "2023-09-02T18:52:05.015190Z",
          "shell.execute_reply": "2023-09-02T18:52:05.014851Z"
        },
        "papermill": {
          "duration": 0.016989,
          "end_time": "2023-09-02T18:52:05.016594",
          "exception": false,
          "start_time": "2023-09-02T18:52:04.999605",
          "status": "completed"
        },
        "tags": []
      },
      "outputs": [
        {
          "name": "stdout",
          "output_type": "stream",
          "text": [
            "18\n"
          ]
        },
        {
          "data": {
            "text/plain": [
              "{('dc1,in0', 'dc1,out0'): Array(0.70710678+0.j, dtype=complex128),\n",
              " ('dc1,in1', 'dc1,out0'): Array(0.+0.70710678j, dtype=complex128),\n",
              " ('dc1,out0', 'dc1,in0'): Array(0.70710678+0.j, dtype=complex128),\n",
              " ('dc1,out0', 'dc1,in1'): Array(0.+0.70710678j, dtype=complex128),\n",
              " ('wg,in0', 'wg,out0'): (0.5+0.86603j),\n",
              " ('wg,out0', 'wg,in0'): (0.5+0.86603j),\n",
              " ('dc2,in0', 'dc2,out0'): Array(0.70710678+0.j, dtype=complex128),\n",
              " ('dc2,in0', 'dc2,out1'): Array(0.+0.70710678j, dtype=complex128),\n",
              " ('dc2,out0', 'dc2,in0'): Array(0.70710678+0.j, dtype=complex128),\n",
              " ('dc2,out1', 'dc2,in0'): Array(0.+0.70710678j, dtype=complex128),\n",
              " ('dc1,in0', 'dc2,out1'): Array(0.+0.5j, dtype=complex128),\n",
              " ('dc1,in0', 'dc2,out0'): Array(-0.5+0.j, dtype=complex128),\n",
              " ('dc1,in1', 'dc2,out1'): Array(0.5+0.j, dtype=complex128),\n",
              " ('dc1,in1', 'dc2,out0'): Array(0.+0.5j, dtype=complex128),\n",
              " ('dc2,out1', 'dc1,in0'): Array(0.+0.5j, dtype=complex128),\n",
              " ('dc2,out1', 'dc1,in1'): Array(0.5+0.j, dtype=complex128),\n",
              " ('dc2,out0', 'dc1,in0'): Array(-0.5+0.j, dtype=complex128),\n",
              " ('dc2,out0', 'dc1,in1'): Array(0.+0.5j, dtype=complex128)}"
            ]
          },
          "execution_count": 20,
          "metadata": {},
          "output_type": "execute_result"
        }
      ],
      "source": [
        "for i, j in list(block_diag.keys()):\n",
        "    is_connected = i == k or i == l or j == k or j == l\n",
        "    is_in_output_ports = i in reversed_ports and j in reversed_ports\n",
        "    if is_connected and not is_in_output_ports:\n",
        "        del block_diag[i, j]  # we're no longer interested in these port combinations\n",
        "        \n",
        "print(len(block_diag))\n",
        "block_diag"
      ]
    },
    {
      "cell_type": "markdown",
      "id": "b6badcb7",
      "metadata": {
        "papermill": {
          "duration": 0.007436,
          "end_time": "2023-09-02T18:52:05.031328",
          "exception": false,
          "start_time": "2023-09-02T18:52:05.023892",
          "status": "completed"
        },
        "tags": []
      },
      "source": [
        "Note that this deletion of values **does NOT** make this operation un-jittable. The deletion depends on the ports of the dictionary (i.e. on the dictionary 'shape'), not on the values."
      ]
    },
    {
      "cell_type": "markdown",
      "id": "89e775cd",
      "metadata": {
        "papermill": {
          "duration": 0.007106,
          "end_time": "2023-09-02T18:52:05.045543",
          "exception": false,
          "start_time": "2023-09-02T18:52:05.038437",
          "status": "completed"
        },
        "tags": []
      },
      "source": [
        "We now basically have to do those steps again for all other connections:"
      ]
    },
    {
      "cell_type": "code",
      "execution_count": 21,
      "id": "608aeb8ffebbf458",
      "metadata": {
        "execution": {
          "iopub.execute_input": "2023-09-02T18:52:05.061690Z",
          "iopub.status.busy": "2023-09-02T18:52:05.061095Z",
          "iopub.status.idle": "2023-09-02T18:52:06.280794Z",
          "shell.execute_reply": "2023-09-02T18:52:06.280240Z"
        },
        "papermill": {
          "duration": 1.229627,
          "end_time": "2023-09-02T18:52:06.282381",
          "exception": false,
          "start_time": "2023-09-02T18:52:05.052754",
          "status": "completed"
        },
        "tags": []
      },
      "outputs": [],
      "source": [
        "#for k, l in sorted_connections: \n",
        "for k, l in sorted_connections[1:]: # we just did the first iteration of this loop above...\n",
        "    name1, _ = k.split(\",\")\n",
        "    name2, _ = l.split(\",\")\n",
        "    connected_instances = all_connected_instances[name1] | all_connected_instances[name2]\n",
        "    for name in connected_instances:\n",
        "        all_connected_instances[name] = connected_instances\n",
        "    current_ports = tuple(\n",
        "        p\n",
        "        for instance in connected_instances\n",
        "        for p in set([p for p, _ in block_diag] + [p for _, p in block_diag])\n",
        "        if p.startswith(f\"{instance},\")\n",
        "    )\n",
        "    block_diag.update(_interconnect_ports(block_diag, current_ports, k, l))\n",
        "    for i, j in list(block_diag.keys()):\n",
        "        is_connected = i == k or i == l or j == k or j == l\n",
        "        is_in_output_ports = i in reversed_ports and j in reversed_ports\n",
        "        if is_connected and not is_in_output_ports:\n",
        "            del block_diag[i, j]  # we're no longer interested in these port combinations"
      ]
    },
    {
      "cell_type": "markdown",
      "id": "36eb82fc",
      "metadata": {
        "papermill": {
          "duration": 0.00924,
          "end_time": "2023-09-02T18:52:06.300413",
          "exception": false,
          "start_time": "2023-09-02T18:52:06.291173",
          "status": "completed"
        },
        "tags": []
      },
      "source": [
        "This is the final MZI matrix we're getting:"
      ]
    },
    {
      "cell_type": "code",
      "execution_count": 22,
      "id": "d1c0367e",
      "metadata": {
        "execution": {
          "iopub.execute_input": "2023-09-02T18:52:06.318091Z",
          "iopub.status.busy": "2023-09-02T18:52:06.317475Z",
          "iopub.status.idle": "2023-09-02T18:52:06.324270Z",
          "shell.execute_reply": "2023-09-02T18:52:06.323922Z"
        },
        "papermill": {
          "duration": 0.017406,
          "end_time": "2023-09-02T18:52:06.325379",
          "exception": false,
          "start_time": "2023-09-02T18:52:06.307973",
          "status": "completed"
        },
        "tags": []
      },
      "outputs": [
        {
          "data": {
            "text/plain": [
              "{('dc1,in0', 'dc2,out1'): Array(-0.433015+0.75j, dtype=complex128),\n",
              " ('dc1,in0', 'dc2,out0'): Array(-0.25+0.433015j, dtype=complex128),\n",
              " ('dc1,in1', 'dc2,out1'): Array(0.25-0.433015j, dtype=complex128),\n",
              " ('dc1,in1', 'dc2,out0'): Array(-0.433015+0.75j, dtype=complex128),\n",
              " ('dc2,out1', 'dc1,in0'): Array(-0.433015+0.75j, dtype=complex128),\n",
              " ('dc2,out1', 'dc1,in1'): Array(0.25-0.433015j, dtype=complex128),\n",
              " ('dc2,out0', 'dc1,in0'): Array(-0.25+0.433015j, dtype=complex128),\n",
              " ('dc2,out0', 'dc1,in1'): Array(-0.433015+0.75j, dtype=complex128),\n",
              " ('dc1,in0', 'dc1,in0'): Array(0.+0.j, dtype=complex128),\n",
              " ('dc1,in0', 'dc1,in1'): Array(0.+0.j, dtype=complex128),\n",
              " ('dc1,in1', 'dc1,in0'): Array(0.+0.j, dtype=complex128),\n",
              " ('dc1,in1', 'dc1,in1'): Array(0.+0.j, dtype=complex128),\n",
              " ('dc2,out1', 'dc2,out1'): Array(0.+0.j, dtype=complex128),\n",
              " ('dc2,out1', 'dc2,out0'): Array(0.+0.j, dtype=complex128),\n",
              " ('dc2,out0', 'dc2,out1'): Array(0.+0.j, dtype=complex128),\n",
              " ('dc2,out0', 'dc2,out0'): Array(0.+0.j, dtype=complex128)}"
            ]
          },
          "execution_count": 22,
          "metadata": {},
          "output_type": "execute_result"
        }
      ],
      "source": [
        "block_diag"
      ]
    },
    {
      "cell_type": "markdown",
      "id": "03f67ec6",
      "metadata": {
        "papermill": {
          "duration": 0.00731,
          "end_time": "2023-09-02T18:52:06.340034",
          "exception": false,
          "start_time": "2023-09-02T18:52:06.332724",
          "status": "completed"
        },
        "tags": []
      },
      "source": [
        "All that's left is to rename these internal ports of the format `{instance},{port}` into output ports of the resulting circuit:"
      ]
    },
    {
      "cell_type": "code",
      "execution_count": 23,
      "id": "cf5ea4af",
      "metadata": {
        "execution": {
          "iopub.execute_input": "2023-09-02T18:52:06.356512Z",
          "iopub.status.busy": "2023-09-02T18:52:06.355911Z",
          "iopub.status.idle": "2023-09-02T18:52:06.362782Z",
          "shell.execute_reply": "2023-09-02T18:52:06.362382Z"
        },
        "papermill": {
          "duration": 0.016332,
          "end_time": "2023-09-02T18:52:06.363887",
          "exception": false,
          "start_time": "2023-09-02T18:52:06.347555",
          "status": "completed"
        },
        "tags": []
      },
      "outputs": [
        {
          "data": {
            "text/plain": [
              "{('in0', 'out1'): Array(-0.433015+0.75j, dtype=complex128),\n",
              " ('in0', 'out0'): Array(-0.25+0.433015j, dtype=complex128),\n",
              " ('in1', 'out1'): Array(0.25-0.433015j, dtype=complex128),\n",
              " ('in1', 'out0'): Array(-0.433015+0.75j, dtype=complex128),\n",
              " ('out1', 'in0'): Array(-0.433015+0.75j, dtype=complex128),\n",
              " ('out1', 'in1'): Array(0.25-0.433015j, dtype=complex128),\n",
              " ('out0', 'in0'): Array(-0.25+0.433015j, dtype=complex128),\n",
              " ('out0', 'in1'): Array(-0.433015+0.75j, dtype=complex128),\n",
              " ('in0', 'in0'): Array(0.+0.j, dtype=complex128),\n",
              " ('in0', 'in1'): Array(0.+0.j, dtype=complex128),\n",
              " ('in1', 'in0'): Array(0.+0.j, dtype=complex128),\n",
              " ('in1', 'in1'): Array(0.+0.j, dtype=complex128),\n",
              " ('out1', 'out1'): Array(0.+0.j, dtype=complex128),\n",
              " ('out1', 'out0'): Array(0.+0.j, dtype=complex128),\n",
              " ('out0', 'out1'): Array(0.+0.j, dtype=complex128),\n",
              " ('out0', 'out0'): Array(0.+0.j, dtype=complex128)}"
            ]
          },
          "execution_count": 23,
          "metadata": {},
          "output_type": "execute_result"
        }
      ],
      "source": [
        "circuit_sdict: SDict = {\n",
        "    (reversed_ports[i], reversed_ports[j]): v\n",
        "    for (i, j), v in block_diag.items()\n",
        "    if i in reversed_ports and j in reversed_ports\n",
        "}\n",
        "circuit_sdict"
      ]
    },
    {
      "cell_type": "markdown",
      "id": "7dc6505e",
      "metadata": {
        "papermill": {
          "duration": 0.007385,
          "end_time": "2023-09-02T18:52:06.378773",
          "exception": false,
          "start_time": "2023-09-02T18:52:06.371388",
          "status": "completed"
        },
        "tags": []
      },
      "source": [
        "And that's it. We evaluated the `SDict` of the full circuit."
      ]
    },
    {
      "cell_type": "markdown",
      "id": "170db10b",
      "metadata": {
        "papermill": {
          "duration": 0.007361,
          "end_time": "2023-09-02T18:52:06.393520",
          "exception": false,
          "start_time": "2023-09-02T18:52:06.386159",
          "status": "completed"
        },
        "tags": []
      },
      "source": [
        "## Algorithm Improvements"
      ]
    },
    {
      "cell_type": "markdown",
      "id": "4ed0e69a",
      "metadata": {
        "papermill": {
          "duration": 0.007387,
          "end_time": "2023-09-02T18:52:06.408289",
          "exception": false,
          "start_time": "2023-09-02T18:52:06.400902",
          "status": "completed"
        },
        "tags": []
      },
      "source": [
        "This algorithm is \n",
        "\n",
        "* pretty fast for small circuits \ud83d\ude42\n",
        "* jittable \ud83d\ude42\n",
        "* differentiable \ud83d\ude42\n",
        "* GPU-compatible \ud83d\ude42\n",
        "\n",
        "This algorithm is however:\n",
        "\n",
        "* **really slow** for large circuits \ud83d\ude25\n",
        "* **pretty slow** to jit the resulting circuit function \ud83d\ude25\n",
        "* **pretty slow** to differentiate the resulting circuit function \ud83d\ude25\n",
        "\n",
        "There are probably still plenty of improvements possible for this algorithm:\n",
        "\n",
        "* **\u00bf** Network analysis (ft. NetworkX ?) to obtain which ports of the block diagonal representation are relevant to obtain the output connection **?**\n",
        "* **\u00bf** Smarter ordering of connections to always have the minimum amount of ports in the intermediate block-diagonal representation **?**\n",
        "* **\u00bf** Using `jax.lax.scan` in stead of python native for-loops in `_interconnect_ports` **?**\n",
        "* **\u00bf** ... **?**\n",
        "\n",
        "Bottom line is... Do you know how to improve this algorithm or how to implement the above suggestions? Please open a Merge Request!"
      ]
    }
  ],
  "metadata": {
    "kernelspec": {
      "display_name": "sax",
      "language": "python",
      "name": "sax"
    },
    "language_info": {
      "codemirror_mode": {
        "name": "ipython",
        "version": 3
      },
      "file_extension": ".py",
      "mimetype": "text/x-python",
      "name": "python",
      "nbconvert_exporter": "python",
      "pygments_lexer": "ipython3",
      "version": "3.11.5"
    },
    "papermill": {
      "default_parameters": {},
      "duration": 5.95372,
      "end_time": "2023-09-02T18:52:06.832631",
      "environment_variables": {},
      "exception": null,
      "input_path": "./nbs/08a_backends_filipsson_gunnar.ipynb",
      "output_path": "./nbs/08a_backends_filipsson_gunnar.ipynb",
      "parameters": {},
      "start_time": "2023-09-02T18:52:00.878911",
      "version": "2.4.0"
    }
  },
  "nbformat": 4,
  "nbformat_minor": 5
}