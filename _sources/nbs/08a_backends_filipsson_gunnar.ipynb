{
  "cells": [
    {
      "cell_type": "code",
      "execution_count": 1,
      "id": "44fcd38140025eed",
      "metadata": {
        "execution": {
          "iopub.execute_input": "2023-09-02T18:59:52.352426Z",
          "iopub.status.busy": "2023-09-02T18:59:52.351946Z",
          "iopub.status.idle": "2023-09-02T18:59:52.355198Z",
          "shell.execute_reply": "2023-09-02T18:59:52.354644Z"
        },
        "papermill": {
          "duration": 0.011943,
          "end_time": "2023-09-02T18:59:52.356410",
          "exception": false,
          "start_time": "2023-09-02T18:59:52.344467",
          "status": "completed"
        },
        "tags": [
          "remove-cell"
        ]
      },
      "outputs": [],
      "source": []
    },
    {
      "cell_type": "markdown",
      "id": "41e0d311",
      "metadata": {
        "papermill": {
          "duration": 0.00631,
          "end_time": "2023-09-02T18:59:52.368586",
          "exception": false,
          "start_time": "2023-09-02T18:59:52.362276",
          "status": "completed"
        },
        "tags": []
      },
      "source": [
        "# Backend - Filipsson Gunnar\n",
        "\n",
        "> Filipsson Gunnar Backend"
      ]
    },
    {
      "cell_type": "code",
      "execution_count": 2,
      "id": "b191151a93c38216",
      "metadata": {
        "execution": {
          "iopub.execute_input": "2023-09-02T18:59:52.403069Z",
          "iopub.status.busy": "2023-09-02T18:59:52.402633Z",
          "iopub.status.idle": "2023-09-02T18:59:52.407939Z",
          "shell.execute_reply": "2023-09-02T18:59:52.407508Z"
        },
        "papermill": {
          "duration": 0.012879,
          "end_time": "2023-09-02T18:59:52.409075",
          "exception": false,
          "start_time": "2023-09-02T18:59:52.396196",
          "status": "completed"
        },
        "tags": [
          "remove-cell"
        ]
      },
      "outputs": [],
      "source": [
        "import os, sys; sys.stderr = open(os.devnull, \"w\")"
      ]
    },
    {
      "cell_type": "code",
      "execution_count": 3,
      "id": "acfccc185bc63e50",
      "metadata": {
        "execution": {
          "iopub.execute_input": "2023-09-02T18:59:52.421296Z",
          "iopub.status.busy": "2023-09-02T18:59:52.420927Z",
          "iopub.status.idle": "2023-09-02T18:59:53.202929Z",
          "shell.execute_reply": "2023-09-02T18:59:53.202475Z"
        },
        "papermill": {
          "duration": 0.789919,
          "end_time": "2023-09-02T18:59:53.204607",
          "exception": false,
          "start_time": "2023-09-02T18:59:52.414688",
          "status": "completed"
        },
        "tags": [
          "hide-input"
        ]
      },
      "outputs": [],
      "source": [
        "from __future__ import annotations\n",
        "\n",
        "import warnings\n",
        "from types import SimpleNamespace\n",
        "from typing import Any, Dict\n",
        "\n",
        "try:\n",
        "    import jax\n",
        "    import jax.numpy as jnp\n",
        "    JAX_AVAILABLE = True\n",
        "except ImportError:\n",
        "    import numpy as jnp\n",
        "    def jit(func, *args, **kwargs):\n",
        "        warnings.warn(\"[NO JAX] skipping jit! Please install JAX!\")\n",
        "        return func\n",
        "    \n",
        "    jax = SimpleNamespace(jit=jit)\n",
        "    JAX_AVAILABLE = False\n",
        "    \n",
        "from sax.typing_ import SDense, SDict, SType, sdict"
      ]
    },
    {
      "cell_type": "markdown",
      "id": "d8369d2f-9109-4375-8cb4-6d7ccabbd356",
      "metadata": {
        "papermill": {
          "duration": 0.005953,
          "end_time": "2023-09-02T18:59:53.216613",
          "exception": false,
          "start_time": "2023-09-02T18:59:53.210660",
          "status": "completed"
        },
        "tags": []
      },
      "source": [
        "## Citation\n",
        "The default SAX backend is based on the following paper:\n",
        "\n",
        "> Filipsson, Gunnar. \"*A new general computer algorithm for S-matrix calculation of interconnected multiports.*\" 11th European Microwave Conference. IEEE, 1981."
      ]
    },
    {
      "cell_type": "markdown",
      "id": "08081414-cd3c-4fd7-91c5-15c54ec4d153",
      "metadata": {
        "papermill": {
          "duration": 0.005516,
          "end_time": "2023-09-02T18:59:53.227758",
          "exception": false,
          "start_time": "2023-09-02T18:59:53.222242",
          "status": "completed"
        },
        "tags": []
      },
      "source": [
        "## Circuit Analyzation"
      ]
    },
    {
      "cell_type": "markdown",
      "id": "4f6d194364394270",
      "metadata": {},
      "source": [
        ":::{eval-rst}\n",
        ".. autofunction:: sax.backends.filipsson_gunnar.analyze_circuit_fg\n",
        ":::\n"
      ]
    },
    {
      "cell_type": "code",
      "execution_count": 4,
      "id": "0cf3bc52071fa88c",
      "metadata": {
        "execution": {
          "iopub.execute_input": "2023-09-02T18:59:53.240372Z",
          "iopub.status.busy": "2023-09-02T18:59:53.239802Z",
          "iopub.status.idle": "2023-09-02T18:59:53.242838Z",
          "shell.execute_reply": "2023-09-02T18:59:53.242489Z"
        },
        "papermill": {
          "duration": 0.010715,
          "end_time": "2023-09-02T18:59:53.244069",
          "exception": false,
          "start_time": "2023-09-02T18:59:53.233354",
          "status": "completed"
        },
        "tags": [
          "hide-input"
        ]
      },
      "outputs": [],
      "source": [
        "\n",
        "def analyze_circuit_fg(connections: Dict[str, str], ports: Dict[str, str]) -> Any:\n",
        "    # skip analysis for now\n",
        "    return connections, ports"
      ]
    },
    {
      "cell_type": "markdown",
      "id": "feea9c4f-0528-44e0-8e87-91234c6d29cc",
      "metadata": {
        "papermill": {
          "duration": 0.005624,
          "end_time": "2023-09-02T18:59:53.255350",
          "exception": false,
          "start_time": "2023-09-02T18:59:53.249726",
          "status": "completed"
        },
        "tags": []
      },
      "source": [
        "## Circuit Evaluation"
      ]
    },
    {
      "cell_type": "markdown",
      "id": "980575661613c992",
      "metadata": {},
      "source": [
        ":::{eval-rst}\n",
        ".. autofunction:: sax.backends.filipsson_gunnar.evaluate_circuit_fg\n",
        ":::\n"
      ]
    },
    {
      "cell_type": "code",
      "execution_count": 5,
      "id": "7cb13844a0cdc5f3",
      "metadata": {
        "execution": {
          "iopub.execute_input": "2023-09-02T18:59:53.267776Z",
          "iopub.status.busy": "2023-09-02T18:59:53.267585Z",
          "iopub.status.idle": "2023-09-02T18:59:53.278718Z",
          "shell.execute_reply": "2023-09-02T18:59:53.278343Z"
        },
        "papermill": {
          "duration": 0.018875,
          "end_time": "2023-09-02T18:59:53.279870",
          "exception": false,
          "start_time": "2023-09-02T18:59:53.260995",
          "status": "completed"
        },
        "tags": [
          "hide-input"
        ]
      },
      "outputs": [],
      "source": [
        "\n",
        "def evaluate_circuit_fg(\n",
        "    analyzed: Any,\n",
        "    instances: Dict[str, SType],\n",
        ") -> SDict:\n",
        "    \"\"\"evaluate a circuit for the given sdicts.\"\"\"\n",
        "    connections, ports = analyzed\n",
        "    \n",
        "    # it's actually easier working w reverse:\n",
        "    reversed_ports = {v: k for k, v in ports.items()}\n",
        "\n",
        "    block_diag = {}\n",
        "    for name, S in instances.items():\n",
        "        block_diag.update(\n",
        "            {(f\"{name},{p1}\", f\"{name},{p2}\"): v for (p1, p2), v in sdict(S).items()}\n",
        "        )\n",
        "\n",
        "    sorted_connections = sorted(connections.items(), key=_connections_sort_key)\n",
        "    all_connected_instances = {k: {k} for k in instances}\n",
        "\n",
        "    for k, l in sorted_connections:\n",
        "        name1, _ = k.split(\",\")\n",
        "        name2, _ = l.split(\",\")\n",
        "\n",
        "        connected_instances = (\n",
        "            all_connected_instances[name1] | all_connected_instances[name2]\n",
        "        )\n",
        "        for name in connected_instances:\n",
        "            all_connected_instances[name] = connected_instances\n",
        "\n",
        "        current_ports = tuple(\n",
        "            p\n",
        "            for instance in connected_instances\n",
        "            for p in set([p for p, _ in block_diag] + [p for _, p in block_diag])\n",
        "            if p.startswith(f\"{instance},\")\n",
        "        )\n",
        "\n",
        "        block_diag.update(_interconnect_ports(block_diag, current_ports, k, l))\n",
        "\n",
        "        for i, j in list(block_diag.keys()):\n",
        "            is_connected = i == k or i == l or j == k or j == l\n",
        "            is_in_output_ports = i in reversed_ports and j in reversed_ports\n",
        "            if is_connected and not is_in_output_ports:\n",
        "                del block_diag[i, j]  # we're no longer interested in these port combinations\n",
        "\n",
        "    circuit_sdict: SDict = {\n",
        "        (reversed_ports[i], reversed_ports[j]): v\n",
        "        for (i, j), v in block_diag.items()\n",
        "        if i in reversed_ports and j in reversed_ports\n",
        "    }\n",
        "    return circuit_sdict\n",
        "\n",
        "\n",
        "def _connections_sort_key(connection):\n",
        "    \"\"\"sort key for sorting a connection dictionary \"\"\"\n",
        "    part1, part2 = connection\n",
        "    name1, _ = part1.split(\",\")\n",
        "    name2, _ = part2.split(\",\")\n",
        "    return (min(name1, name2), max(name1, name2))\n",
        "\n",
        "\n",
        "def _interconnect_ports(block_diag, current_ports, k, l):\n",
        "    \"\"\"interconnect two ports in a given model\n",
        "\n",
        "    > Note: the interconnect algorithm is based on equation 6 of 'Filipsson, Gunnar. \n",
        "      \"A new general computer algorithm for S-matrix calculation of interconnected \n",
        "      multiports.\" 11th European Microwave Conference. IEEE, 1981.'\n",
        "    \"\"\"\n",
        "    current_block_diag = {}\n",
        "    for i in current_ports:\n",
        "        for j in current_ports:\n",
        "            vij = _calculate_interconnected_value(\n",
        "                vij=block_diag.get((i, j), 0.0),\n",
        "                vik=block_diag.get((i, k), 0.0),\n",
        "                vil=block_diag.get((i, l), 0.0),\n",
        "                vkj=block_diag.get((k, j), 0.0),\n",
        "                vkk=block_diag.get((k, k), 0.0),\n",
        "                vkl=block_diag.get((k, l), 0.0),\n",
        "                vlj=block_diag.get((l, j), 0.0),\n",
        "                vlk=block_diag.get((l, k), 0.0),\n",
        "                vll=block_diag.get((l, l), 0.0),\n",
        "            )\n",
        "            current_block_diag[i, j] = vij\n",
        "    return current_block_diag\n",
        "\n",
        "\n",
        "@jax.jit\n",
        "def _calculate_interconnected_value(vij, vik, vil, vkj, vkk, vkl, vlj, vlk, vll):\n",
        "    \"\"\"Calculate an interconnected S-parameter value\n",
        "\n",
        "    Note:\n",
        "        The interconnect algorithm is based on equation 6 in the paper below::\n",
        "\n",
        "          Filipsson, Gunnar. \"A new general computer algorithm for S-matrix calculation\n",
        "          of interconnected multiports.\" 11th European Microwave Conference. IEEE, 1981.\n",
        "    \"\"\"\n",
        "    result = vij + (\n",
        "        vkj * vil * (1 - vlk)\n",
        "        + vlj * vik * (1 - vkl)\n",
        "        + vkj * vll * vik\n",
        "        + vlj * vkk * vil\n",
        "    ) / ((1 - vkl) * (1 - vlk) - vkk * vll)\n",
        "    return result"
      ]
    },
    {
      "cell_type": "markdown",
      "id": "9dabee38",
      "metadata": {
        "papermill": {
          "duration": 0.005596,
          "end_time": "2023-09-02T18:59:53.291139",
          "exception": false,
          "start_time": "2023-09-02T18:59:53.285543",
          "status": "completed"
        },
        "tags": []
      },
      "source": [
        "## Example"
      ]
    },
    {
      "cell_type": "code",
      "execution_count": 6,
      "id": "5ab7ea6c",
      "metadata": {
        "execution": {
          "iopub.execute_input": "2023-09-02T18:59:53.303885Z",
          "iopub.status.busy": "2023-09-02T18:59:53.303395Z",
          "iopub.status.idle": "2023-09-02T18:59:54.020371Z",
          "shell.execute_reply": "2023-09-02T18:59:54.019974Z"
        },
        "papermill": {
          "duration": 0.724952,
          "end_time": "2023-09-02T18:59:54.021753",
          "exception": false,
          "start_time": "2023-09-02T18:59:53.296801",
          "status": "completed"
        },
        "tags": []
      },
      "outputs": [
        {
          "data": {
            "text/plain": [
              "{('in0', 'in0'): Array(0.+0.j, dtype=complex128),\n",
              " ('in0', 'in1'): Array(0.+0.j, dtype=complex128),\n",
              " ('in1', 'in0'): Array(0.+0.j, dtype=complex128),\n",
              " ('in1', 'in1'): Array(0.+0.j, dtype=complex128),\n",
              " ('out0', 'out0'): Array(0.+0.j, dtype=complex128),\n",
              " ('out0', 'out1'): Array(0.+0.j, dtype=complex128),\n",
              " ('out1', 'out0'): Array(0.+0.j, dtype=complex128),\n",
              " ('out1', 'out1'): Array(0.+0.j, dtype=complex128),\n",
              " ('in0', 'out1'): Array(-0.433015+0.75j, dtype=complex128),\n",
              " ('in0', 'out0'): Array(-0.25+0.433015j, dtype=complex128),\n",
              " ('in1', 'out1'): Array(0.25-0.433015j, dtype=complex128),\n",
              " ('in1', 'out0'): Array(-0.433015+0.75j, dtype=complex128),\n",
              " ('out1', 'in0'): Array(-0.433015+0.75j, dtype=complex128),\n",
              " ('out1', 'in1'): Array(0.25-0.433015j, dtype=complex128),\n",
              " ('out0', 'in0'): Array(-0.25+0.433015j, dtype=complex128),\n",
              " ('out0', 'in1'): Array(-0.433015+0.75j, dtype=complex128)}"
            ]
          },
          "execution_count": 6,
          "metadata": {},
          "output_type": "execute_result"
        }
      ],
      "source": [
        "wg_sdict: SDict = {\n",
        "    (\"in0\", \"out0\"): 0.5 + 0.86603j,\n",
        "    (\"out0\", \"in0\"): 0.5 + 0.86603j,\n",
        "}\n",
        "\n",
        "\u03c4, \u03ba = 0.5 ** 0.5, 1j * 0.5 ** 0.5\n",
        "dc_sdense: SDense = (\n",
        "    jnp.array([[0, 0, \u03c4, \u03ba], \n",
        "               [0, 0, \u03ba, \u03c4], \n",
        "               [\u03c4, \u03ba, 0, 0], \n",
        "               [\u03ba, \u03c4, 0, 0]]),\n",
        "    {\"in0\": 0, \"in1\": 1, \"out0\": 2, \"out1\": 3},\n",
        ")\n",
        "\n",
        "instances={\n",
        "    \"dc1\": dc_sdense,\n",
        "    \"wg\": wg_sdict,\n",
        "    \"dc2\": dc_sdense,\n",
        "}\n",
        "connections={\n",
        "    \"dc1,out0\": \"wg,in0\",\n",
        "    \"wg,out0\": \"dc2,in0\",\n",
        "    \"dc1,out1\": \"dc2,in1\",\n",
        "}\n",
        "ports={\n",
        "    \"in0\": \"dc1,in0\",\n",
        "    \"in1\": \"dc1,in1\",\n",
        "    \"out0\": \"dc2,out0\",\n",
        "    \"out1\": \"dc2,out1\",\n",
        "}\n",
        "\n",
        "mzi_sdict: SDict = evaluate_circuit_fg(\n",
        "    analyze_circuit_fg(connections, ports),\n",
        "    instances,\n",
        ")\n",
        "\n",
        "mzi_sdict"
      ]
    },
    {
      "cell_type": "markdown",
      "id": "48950a3d",
      "metadata": {
        "papermill": {
          "duration": 0.006039,
          "end_time": "2023-09-02T18:59:54.034052",
          "exception": false,
          "start_time": "2023-09-02T18:59:54.028013",
          "status": "completed"
        },
        "tags": []
      },
      "source": [
        "## Algorithm Walkthrough\n",
        "\n",
        "> Note: This algorithm gets pretty slow for large circuits. I'd be [very interested in any improvements](#Algorithm-Improvements) that can be made here, especially because - as opposed to the currently faster [KLU backend](./08b_backends_klu.ipynb) - the algorithm discussed here is jittable, differentiable and can be used on GPUs."
      ]
    },
    {
      "cell_type": "markdown",
      "id": "81e28766",
      "metadata": {
        "papermill": {
          "duration": 0.005725,
          "end_time": "2023-09-02T18:59:54.045595",
          "exception": false,
          "start_time": "2023-09-02T18:59:54.039870",
          "status": "completed"
        },
        "tags": []
      },
      "source": [
        "Let's walk through all the steps of this algorithm. We'll do this for a simple MZI circuit, given by two directional couplers characterised by `dc_sdense` with a phase shifting waveguide in between `wg_sdict`:"
      ]
    },
    {
      "cell_type": "code",
      "execution_count": 7,
      "id": "e2bdfbf4",
      "metadata": {
        "execution": {
          "iopub.execute_input": "2023-09-02T18:59:54.058802Z",
          "iopub.status.busy": "2023-09-02T18:59:54.058575Z",
          "iopub.status.idle": "2023-09-02T18:59:54.061836Z",
          "shell.execute_reply": "2023-09-02T18:59:54.061462Z"
        },
        "papermill": {
          "duration": 0.011553,
          "end_time": "2023-09-02T18:59:54.063010",
          "exception": false,
          "start_time": "2023-09-02T18:59:54.051457",
          "status": "completed"
        },
        "tags": []
      },
      "outputs": [],
      "source": [
        "instances={\n",
        "    \"dc1\": dc_sdense,\n",
        "    \"wg\": wg_sdict,\n",
        "    \"dc2\": dc_sdense,\n",
        "}\n",
        "connections={\n",
        "    \"dc1,out0\": \"wg,in0\",\n",
        "    \"wg,out0\": \"dc2,in0\",\n",
        "    \"dc1,out1\": \"dc2,in1\",\n",
        "}\n",
        "ports={\n",
        "    \"in0\": \"dc1,in0\",\n",
        "    \"in1\": \"dc1,in1\",\n",
        "    \"out0\": \"dc2,out0\",\n",
        "    \"out1\": \"dc2,out1\",\n",
        "}"
      ]
    },
    {
      "cell_type": "markdown",
      "id": "6ef72161",
      "metadata": {
        "papermill": {
          "duration": 0.005792,
          "end_time": "2023-09-02T18:59:54.074643",
          "exception": false,
          "start_time": "2023-09-02T18:59:54.068851",
          "status": "completed"
        },
        "tags": []
      },
      "source": [
        "as a first step, we construct the `reversed_ports`, it's actually easier to work with `reversed_ports` (we chose the opposite convention in the netlist definition to adhere to the GDSFactory netlist convention):"
      ]
    },
    {
      "cell_type": "code",
      "execution_count": 8,
      "id": "70302612",
      "metadata": {
        "execution": {
          "iopub.execute_input": "2023-09-02T18:59:54.087508Z",
          "iopub.status.busy": "2023-09-02T18:59:54.087094Z",
          "iopub.status.idle": "2023-09-02T18:59:54.089830Z",
          "shell.execute_reply": "2023-09-02T18:59:54.089445Z"
        },
        "papermill": {
          "duration": 0.010344,
          "end_time": "2023-09-02T18:59:54.090864",
          "exception": false,
          "start_time": "2023-09-02T18:59:54.080520",
          "status": "completed"
        },
        "tags": []
      },
      "outputs": [],
      "source": [
        "reversed_ports = {v: k for k, v in ports.items()}"
      ]
    },
    {
      "cell_type": "markdown",
      "id": "78676045",
      "metadata": {
        "papermill": {
          "duration": 0.005816,
          "end_time": "2023-09-02T18:59:54.102564",
          "exception": false,
          "start_time": "2023-09-02T18:59:54.096748",
          "status": "completed"
        },
        "tags": []
      },
      "source": [
        "The first real step of the algorithm is to create the 'block diagonal sdict`:"
      ]
    },
    {
      "cell_type": "code",
      "execution_count": 9,
      "id": "0ff6149f",
      "metadata": {
        "execution": {
          "iopub.execute_input": "2023-09-02T18:59:54.115294Z",
          "iopub.status.busy": "2023-09-02T18:59:54.114921Z",
          "iopub.status.idle": "2023-09-02T18:59:54.140081Z",
          "shell.execute_reply": "2023-09-02T18:59:54.139680Z"
        },
        "papermill": {
          "duration": 0.032796,
          "end_time": "2023-09-02T18:59:54.141242",
          "exception": false,
          "start_time": "2023-09-02T18:59:54.108446",
          "status": "completed"
        },
        "tags": []
      },
      "outputs": [],
      "source": [
        "block_diag = {}\n",
        "for name, S in instances.items():\n",
        "    block_diag.update(\n",
        "        {(f\"{name},{p1}\", f\"{name},{p2}\"): v for (p1, p2), v in sdict(S).items()}\n",
        "    )\n"
      ]
    },
    {
      "cell_type": "markdown",
      "id": "c4721548",
      "metadata": {
        "papermill": {
          "duration": 0.005863,
          "end_time": "2023-09-02T18:59:54.153195",
          "exception": false,
          "start_time": "2023-09-02T18:59:54.147332",
          "status": "completed"
        },
        "tags": []
      },
      "source": [
        "we can optionally filter out zeros from the resulting block_diag representation. Just note that this will make the resuling function unjittable (the resulting 'shape' (i.e. keys) of the dictionary would depend on the data itself, which is not allowed in JAX jit). We're doing it here to avoid printing zeros but **internally this is not done by default**."
      ]
    },
    {
      "cell_type": "code",
      "execution_count": 10,
      "id": "cfce53c1",
      "metadata": {
        "execution": {
          "iopub.execute_input": "2023-09-02T18:59:54.166205Z",
          "iopub.status.busy": "2023-09-02T18:59:54.165688Z",
          "iopub.status.idle": "2023-09-02T18:59:54.224907Z",
          "shell.execute_reply": "2023-09-02T18:59:54.224559Z"
        },
        "papermill": {
          "duration": 0.066905,
          "end_time": "2023-09-02T18:59:54.226016",
          "exception": false,
          "start_time": "2023-09-02T18:59:54.159111",
          "status": "completed"
        },
        "tags": []
      },
      "outputs": [
        {
          "name": "stdout",
          "output_type": "stream",
          "text": [
            "18\n"
          ]
        },
        {
          "data": {
            "text/plain": [
              "{('dc1,in0', 'dc1,out0'): Array(0.70710678+0.j, dtype=complex128),\n",
              " ('dc1,in0', 'dc1,out1'): Array(0.+0.70710678j, dtype=complex128),\n",
              " ('dc1,in1', 'dc1,out0'): Array(0.+0.70710678j, dtype=complex128),\n",
              " ('dc1,in1', 'dc1,out1'): Array(0.70710678+0.j, dtype=complex128),\n",
              " ('dc1,out0', 'dc1,in0'): Array(0.70710678+0.j, dtype=complex128),\n",
              " ('dc1,out0', 'dc1,in1'): Array(0.+0.70710678j, dtype=complex128),\n",
              " ('dc1,out1', 'dc1,in0'): Array(0.+0.70710678j, dtype=complex128),\n",
              " ('dc1,out1', 'dc1,in1'): Array(0.70710678+0.j, dtype=complex128),\n",
              " ('wg,in0', 'wg,out0'): (0.5+0.86603j),\n",
              " ('wg,out0', 'wg,in0'): (0.5+0.86603j),\n",
              " ('dc2,in0', 'dc2,out0'): Array(0.70710678+0.j, dtype=complex128),\n",
              " ('dc2,in0', 'dc2,out1'): Array(0.+0.70710678j, dtype=complex128),\n",
              " ('dc2,in1', 'dc2,out0'): Array(0.+0.70710678j, dtype=complex128),\n",
              " ('dc2,in1', 'dc2,out1'): Array(0.70710678+0.j, dtype=complex128),\n",
              " ('dc2,out0', 'dc2,in0'): Array(0.70710678+0.j, dtype=complex128),\n",
              " ('dc2,out0', 'dc2,in1'): Array(0.+0.70710678j, dtype=complex128),\n",
              " ('dc2,out1', 'dc2,in0'): Array(0.+0.70710678j, dtype=complex128),\n",
              " ('dc2,out1', 'dc2,in1'): Array(0.70710678+0.j, dtype=complex128)}"
            ]
          },
          "execution_count": 10,
          "metadata": {},
          "output_type": "execute_result"
        }
      ],
      "source": [
        "block_diag = {k: v for k, v in block_diag.items() if jnp.abs(v) > 1e-10}\n",
        "print(len(block_diag))\n",
        "block_diag"
      ]
    },
    {
      "cell_type": "markdown",
      "id": "1963694a",
      "metadata": {
        "papermill": {
          "duration": 0.006177,
          "end_time": "2023-09-02T18:59:54.238570",
          "exception": false,
          "start_time": "2023-09-02T18:59:54.232393",
          "status": "completed"
        },
        "tags": []
      },
      "source": [
        "next, we sort the connections such that similar components are grouped together:"
      ]
    },
    {
      "cell_type": "code",
      "execution_count": 11,
      "id": "9859c2d4",
      "metadata": {
        "execution": {
          "iopub.execute_input": "2023-09-02T18:59:54.251901Z",
          "iopub.status.busy": "2023-09-02T18:59:54.251493Z",
          "iopub.status.idle": "2023-09-02T18:59:54.254982Z",
          "shell.execute_reply": "2023-09-02T18:59:54.254632Z"
        },
        "papermill": {
          "duration": 0.011467,
          "end_time": "2023-09-02T18:59:54.256175",
          "exception": false,
          "start_time": "2023-09-02T18:59:54.244708",
          "status": "completed"
        },
        "tags": []
      },
      "outputs": [
        {
          "data": {
            "text/plain": [
              "[('dc1,out1', 'dc2,in1'), ('dc1,out0', 'wg,in0'), ('wg,out0', 'dc2,in0')]"
            ]
          },
          "execution_count": 11,
          "metadata": {},
          "output_type": "execute_result"
        }
      ],
      "source": [
        "sorted_connections = sorted(connections.items(), key=_connections_sort_key)\n",
        "sorted_connections"
      ]
    },
    {
      "cell_type": "markdown",
      "id": "c75fbf65",
      "metadata": {
        "papermill": {
          "duration": 0.006123,
          "end_time": "2023-09-02T18:59:54.268676",
          "exception": false,
          "start_time": "2023-09-02T18:59:54.262553",
          "status": "completed"
        },
        "tags": []
      },
      "source": [
        "Now we iterate over the sorted connections and connect components as they come in. Connected components take over the name of the first component in the connection, but we keep a set of components belonging to that key in `all_connected_instances`.\n",
        "\n",
        "This is how this `all_connected_instances` dictionary looks initially."
      ]
    },
    {
      "cell_type": "code",
      "execution_count": 12,
      "id": "cf30668c",
      "metadata": {
        "execution": {
          "iopub.execute_input": "2023-09-02T18:59:54.282400Z",
          "iopub.status.busy": "2023-09-02T18:59:54.281814Z",
          "iopub.status.idle": "2023-09-02T18:59:54.285397Z",
          "shell.execute_reply": "2023-09-02T18:59:54.285082Z"
        },
        "papermill": {
          "duration": 0.011565,
          "end_time": "2023-09-02T18:59:54.286483",
          "exception": false,
          "start_time": "2023-09-02T18:59:54.274918",
          "status": "completed"
        },
        "tags": []
      },
      "outputs": [
        {
          "data": {
            "text/plain": [
              "{'dc1': {'dc1'}, 'wg': {'wg'}, 'dc2': {'dc2'}}"
            ]
          },
          "execution_count": 12,
          "metadata": {},
          "output_type": "execute_result"
        }
      ],
      "source": [
        "all_connected_instances = {k: {k} for k in instances}\n",
        "all_connected_instances"
      ]
    },
    {
      "cell_type": "markdown",
      "id": "1152056b",
      "metadata": {
        "papermill": {
          "duration": 0.006276,
          "end_time": "2023-09-02T18:59:54.299145",
          "exception": false,
          "start_time": "2023-09-02T18:59:54.292869",
          "status": "completed"
        },
        "tags": []
      },
      "source": [
        "Normally we would loop over every connection in `sorted_connections` now, but let's just go through it once at first:"
      ]
    },
    {
      "cell_type": "code",
      "execution_count": 13,
      "id": "868dda4fae97f049",
      "metadata": {
        "execution": {
          "iopub.execute_input": "2023-09-02T18:59:54.313031Z",
          "iopub.status.busy": "2023-09-02T18:59:54.312528Z",
          "iopub.status.idle": "2023-09-02T18:59:54.315913Z",
          "shell.execute_reply": "2023-09-02T18:59:54.315611Z"
        },
        "papermill": {
          "duration": 0.011389,
          "end_time": "2023-09-02T18:59:54.316919",
          "exception": false,
          "start_time": "2023-09-02T18:59:54.305530",
          "status": "completed"
        },
        "tags": []
      },
      "outputs": [
        {
          "data": {
            "text/plain": [
              "('dc1,out1', 'dc2,in1')"
            ]
          },
          "execution_count": 13,
          "metadata": {},
          "output_type": "execute_result"
        }
      ],
      "source": [
        "# for k, l in sorted_connections:\n",
        "k, l = sorted_connections[0]\n",
        "k, l"
      ]
    },
    {
      "cell_type": "markdown",
      "id": "16a2266c",
      "metadata": {
        "papermill": {
          "duration": 0.006378,
          "end_time": "2023-09-02T18:59:54.329783",
          "exception": false,
          "start_time": "2023-09-02T18:59:54.323405",
          "status": "completed"
        },
        "tags": []
      },
      "source": [
        "`k` and `l` are the S-matrix indices we're trying to connect. Note that in our sparse `SDict` notation these S-matrix indices are in fact equivalent with the port names `('dc1,out1', 'dc2,in1')`!"
      ]
    },
    {
      "cell_type": "markdown",
      "id": "0eaf4add",
      "metadata": {
        "papermill": {
          "duration": 0.006354,
          "end_time": "2023-09-02T18:59:54.342604",
          "exception": false,
          "start_time": "2023-09-02T18:59:54.336250",
          "status": "completed"
        },
        "tags": []
      },
      "source": [
        "first we split the connection string into an instance name and a port name (we don't use the port name yet):"
      ]
    },
    {
      "cell_type": "code",
      "execution_count": 14,
      "id": "667d1a3c",
      "metadata": {
        "execution": {
          "iopub.execute_input": "2023-09-02T18:59:54.356497Z",
          "iopub.status.busy": "2023-09-02T18:59:54.356119Z",
          "iopub.status.idle": "2023-09-02T18:59:54.358661Z",
          "shell.execute_reply": "2023-09-02T18:59:54.358307Z"
        },
        "papermill": {
          "duration": 0.010792,
          "end_time": "2023-09-02T18:59:54.359838",
          "exception": false,
          "start_time": "2023-09-02T18:59:54.349046",
          "status": "completed"
        },
        "tags": []
      },
      "outputs": [],
      "source": [
        "name1, _ = k.split(\",\")\n",
        "name2, _ = l.split(\",\")"
      ]
    },
    {
      "cell_type": "markdown",
      "id": "16e8bbe8",
      "metadata": {
        "papermill": {
          "duration": 0.00641,
          "end_time": "2023-09-02T18:59:54.372903",
          "exception": false,
          "start_time": "2023-09-02T18:59:54.366493",
          "status": "completed"
        },
        "tags": []
      },
      "source": [
        "We then obtain the new set of connected instances."
      ]
    },
    {
      "cell_type": "code",
      "execution_count": 15,
      "id": "51bf8615",
      "metadata": {
        "execution": {
          "iopub.execute_input": "2023-09-02T18:59:54.387118Z",
          "iopub.status.busy": "2023-09-02T18:59:54.386596Z",
          "iopub.status.idle": "2023-09-02T18:59:54.390089Z",
          "shell.execute_reply": "2023-09-02T18:59:54.389756Z"
        },
        "papermill": {
          "duration": 0.011723,
          "end_time": "2023-09-02T18:59:54.391108",
          "exception": false,
          "start_time": "2023-09-02T18:59:54.379385",
          "status": "completed"
        },
        "tags": []
      },
      "outputs": [
        {
          "data": {
            "text/plain": [
              "{'dc1', 'dc2'}"
            ]
          },
          "execution_count": 15,
          "metadata": {},
          "output_type": "execute_result"
        }
      ],
      "source": [
        "connected_instances = all_connected_instances[name1] | all_connected_instances[name2]\n",
        "connected_instances"
      ]
    },
    {
      "cell_type": "markdown",
      "id": "676c8d61",
      "metadata": {
        "papermill": {
          "duration": 0.006564,
          "end_time": "2023-09-02T18:59:54.404470",
          "exception": false,
          "start_time": "2023-09-02T18:59:54.397906",
          "status": "completed"
        },
        "tags": []
      },
      "source": [
        "We then iterate over each of the components in this set and make sure each of the component names in that set maps to that set (yes, I know... confusing). We do this to be able to keep track with which components each of the components in the circuit is currently already connected to."
      ]
    },
    {
      "cell_type": "code",
      "execution_count": 16,
      "id": "d322e86c",
      "metadata": {
        "execution": {
          "iopub.execute_input": "2023-09-02T18:59:54.418833Z",
          "iopub.status.busy": "2023-09-02T18:59:54.418441Z",
          "iopub.status.idle": "2023-09-02T18:59:54.421960Z",
          "shell.execute_reply": "2023-09-02T18:59:54.421603Z"
        },
        "papermill": {
          "duration": 0.011949,
          "end_time": "2023-09-02T18:59:54.423057",
          "exception": false,
          "start_time": "2023-09-02T18:59:54.411108",
          "status": "completed"
        },
        "tags": []
      },
      "outputs": [
        {
          "data": {
            "text/plain": [
              "{'dc1': {'dc1', 'dc2'}, 'wg': {'wg'}, 'dc2': {'dc1', 'dc2'}}"
            ]
          },
          "execution_count": 16,
          "metadata": {},
          "output_type": "execute_result"
        }
      ],
      "source": [
        "for name in connected_instances:\n",
        "    all_connected_instances[name] = connected_instances\n",
        "    \n",
        "all_connected_instances"
      ]
    },
    {
      "cell_type": "markdown",
      "id": "b79f49f8",
      "metadata": {
        "papermill": {
          "duration": 0.006646,
          "end_time": "2023-09-02T18:59:54.436368",
          "exception": false,
          "start_time": "2023-09-02T18:59:54.429722",
          "status": "completed"
        },
        "tags": []
      },
      "source": [
        "now we need to obtain all the ports of the currently connected instances."
      ]
    },
    {
      "cell_type": "code",
      "execution_count": 17,
      "id": "61b3cfab",
      "metadata": {
        "execution": {
          "iopub.execute_input": "2023-09-02T18:59:54.450898Z",
          "iopub.status.busy": "2023-09-02T18:59:54.450517Z",
          "iopub.status.idle": "2023-09-02T18:59:54.454593Z",
          "shell.execute_reply": "2023-09-02T18:59:54.454282Z"
        },
        "papermill": {
          "duration": 0.012598,
          "end_time": "2023-09-02T18:59:54.455651",
          "exception": false,
          "start_time": "2023-09-02T18:59:54.443053",
          "status": "completed"
        },
        "tags": []
      },
      "outputs": [
        {
          "data": {
            "text/plain": [
              "('dc1,in0',\n",
              " 'dc1,out1',\n",
              " 'dc1,out0',\n",
              " 'dc1,in1',\n",
              " 'dc2,in0',\n",
              " 'dc2,out1',\n",
              " 'dc2,in1',\n",
              " 'dc2,out0')"
            ]
          },
          "execution_count": 17,
          "metadata": {},
          "output_type": "execute_result"
        }
      ],
      "source": [
        "current_ports = tuple(\n",
        "    p\n",
        "    for instance in connected_instances\n",
        "    for p in set([p for p, _ in block_diag] + [p for _, p in block_diag])\n",
        "    if p.startswith(f\"{instance},\")\n",
        ")\n",
        "\n",
        "current_ports"
      ]
    },
    {
      "cell_type": "markdown",
      "id": "d0e87449",
      "metadata": {
        "papermill": {
          "duration": 0.006771,
          "end_time": "2023-09-02T18:59:54.469246",
          "exception": false,
          "start_time": "2023-09-02T18:59:54.462475",
          "status": "completed"
        },
        "tags": []
      },
      "source": [
        "Now the [Gunnar Algorithm](#citation) is used. Given a (block-diagonal) 'S-matrix' `block_diag` and a 'connection matrix' `current_ports` we can interconnect port `k` and `l` as follows:\n",
        "\n",
        "> Note: some creative freedom is used here. In SAX, the matrices we're talking about are in fact represented by a sparse dictionary (an `SDict`), i.e. similar to a COO sparse matrix for which the indices are the port names."
      ]
    },
    {
      "cell_type": "code",
      "execution_count": 18,
      "id": "431649e5",
      "metadata": {
        "execution": {
          "iopub.execute_input": "2023-09-02T18:59:54.484195Z",
          "iopub.status.busy": "2023-09-02T18:59:54.483725Z",
          "iopub.status.idle": "2023-09-02T18:59:54.961449Z",
          "shell.execute_reply": "2023-09-02T18:59:54.961008Z"
        },
        "papermill": {
          "duration": 0.486839,
          "end_time": "2023-09-02T18:59:54.963016",
          "exception": false,
          "start_time": "2023-09-02T18:59:54.476177",
          "status": "completed"
        },
        "tags": []
      },
      "outputs": [],
      "source": [
        "def _interconnect_ports(block_diag, current_ports, k, l):\n",
        "    current_block_diag = {}\n",
        "    for i in current_ports:\n",
        "        for j in current_ports:\n",
        "            vij = _calculate_interconnected_value(\n",
        "                vij=block_diag.get((i, j), 0.0),\n",
        "                vik=block_diag.get((i, k), 0.0),\n",
        "                vil=block_diag.get((i, l), 0.0),\n",
        "                vkj=block_diag.get((k, j), 0.0),\n",
        "                vkk=block_diag.get((k, k), 0.0),\n",
        "                vkl=block_diag.get((k, l), 0.0),\n",
        "                vlj=block_diag.get((l, j), 0.0),\n",
        "                vlk=block_diag.get((l, k), 0.0),\n",
        "                vll=block_diag.get((l, l), 0.0),\n",
        "            )\n",
        "            current_block_diag[i, j] = vij\n",
        "    return current_block_diag\n",
        "\n",
        "@jax.jit\n",
        "def _calculate_interconnected_value(vij, vik, vil, vkj, vkk, vkl, vlj, vlk, vll):\n",
        "    result = vij + (\n",
        "        vkj * vil * (1 - vlk)\n",
        "        + vlj * vik * (1 - vkl)\n",
        "        + vkj * vll * vik\n",
        "        + vlj * vkk * vil\n",
        "    ) / ((1 - vkl) * (1 - vlk) - vkk * vll)\n",
        "    return result\n",
        "\n",
        "block_diag.update(_interconnect_ports(block_diag, current_ports, k, l))"
      ]
    },
    {
      "cell_type": "markdown",
      "id": "988c08d9",
      "metadata": {
        "papermill": {
          "duration": 0.006944,
          "end_time": "2023-09-02T18:59:54.977126",
          "exception": false,
          "start_time": "2023-09-02T18:59:54.970182",
          "status": "completed"
        },
        "tags": []
      },
      "source": [
        "Just as before, we're filtering the zeros from the sparse representation (remember, internally this is **not done by default**)."
      ]
    },
    {
      "cell_type": "code",
      "execution_count": 19,
      "id": "e9ac8164",
      "metadata": {
        "execution": {
          "iopub.execute_input": "2023-09-02T18:59:54.992009Z",
          "iopub.status.busy": "2023-09-02T18:59:54.991576Z",
          "iopub.status.idle": "2023-09-02T18:59:55.012568Z",
          "shell.execute_reply": "2023-09-02T18:59:55.012166Z"
        },
        "papermill": {
          "duration": 0.029949,
          "end_time": "2023-09-02T18:59:55.013929",
          "exception": false,
          "start_time": "2023-09-02T18:59:54.983980",
          "status": "completed"
        },
        "tags": []
      },
      "outputs": [
        {
          "name": "stdout",
          "output_type": "stream",
          "text": [
            "26\n"
          ]
        },
        {
          "data": {
            "text/plain": [
              "{('dc1,in0', 'dc1,out0'): Array(0.70710678+0.j, dtype=complex128),\n",
              " ('dc1,in0', 'dc1,out1'): Array(0.+0.70710678j, dtype=complex128),\n",
              " ('dc1,in1', 'dc1,out0'): Array(0.+0.70710678j, dtype=complex128),\n",
              " ('dc1,in1', 'dc1,out1'): Array(0.70710678+0.j, dtype=complex128),\n",
              " ('dc1,out0', 'dc1,in0'): Array(0.70710678+0.j, dtype=complex128),\n",
              " ('dc1,out0', 'dc1,in1'): Array(0.+0.70710678j, dtype=complex128),\n",
              " ('dc1,out1', 'dc1,in0'): Array(0.+0.70710678j, dtype=complex128),\n",
              " ('dc1,out1', 'dc1,in1'): Array(0.70710678+0.j, dtype=complex128),\n",
              " ('wg,in0', 'wg,out0'): (0.5+0.86603j),\n",
              " ('wg,out0', 'wg,in0'): (0.5+0.86603j),\n",
              " ('dc2,in0', 'dc2,out0'): Array(0.70710678+0.j, dtype=complex128),\n",
              " ('dc2,in0', 'dc2,out1'): Array(0.+0.70710678j, dtype=complex128),\n",
              " ('dc2,in1', 'dc2,out0'): Array(0.+0.70710678j, dtype=complex128),\n",
              " ('dc2,in1', 'dc2,out1'): Array(0.70710678+0.j, dtype=complex128),\n",
              " ('dc2,out0', 'dc2,in0'): Array(0.70710678+0.j, dtype=complex128),\n",
              " ('dc2,out0', 'dc2,in1'): Array(0.+0.70710678j, dtype=complex128),\n",
              " ('dc2,out1', 'dc2,in0'): Array(0.+0.70710678j, dtype=complex128),\n",
              " ('dc2,out1', 'dc2,in1'): Array(0.70710678+0.j, dtype=complex128),\n",
              " ('dc1,in0', 'dc2,out1'): Array(0.+0.5j, dtype=complex128),\n",
              " ('dc1,in0', 'dc2,out0'): Array(-0.5+0.j, dtype=complex128),\n",
              " ('dc1,in1', 'dc2,out1'): Array(0.5+0.j, dtype=complex128),\n",
              " ('dc1,in1', 'dc2,out0'): Array(0.+0.5j, dtype=complex128),\n",
              " ('dc2,out1', 'dc1,in0'): Array(0.+0.5j, dtype=complex128),\n",
              " ('dc2,out1', 'dc1,in1'): Array(0.5+0.j, dtype=complex128),\n",
              " ('dc2,out0', 'dc1,in0'): Array(-0.5+0.j, dtype=complex128),\n",
              " ('dc2,out0', 'dc1,in1'): Array(0.+0.5j, dtype=complex128)}"
            ]
          },
          "execution_count": 19,
          "metadata": {},
          "output_type": "execute_result"
        }
      ],
      "source": [
        "block_diag = {k: v for k, v in block_diag.items() if jnp.abs(v) > 1e-10}\n",
        "print(len(block_diag))\n",
        "block_diag"
      ]
    },
    {
      "cell_type": "markdown",
      "id": "db0cd151",
      "metadata": {
        "papermill": {
          "duration": 0.007741,
          "end_time": "2023-09-02T18:59:55.028734",
          "exception": false,
          "start_time": "2023-09-02T18:59:55.020993",
          "status": "completed"
        },
        "tags": []
      },
      "source": [
        "This is the resulting block-diagonal matrix after interconnecting two ports (i.e. basically saying that those two ports are the same port). Because these ports are now connected we should actually remove them from the S-matrix representation (they are integrated into the S-parameters of the other connections):"
      ]
    },
    {
      "cell_type": "code",
      "execution_count": 20,
      "id": "311b034f",
      "metadata": {
        "execution": {
          "iopub.execute_input": "2023-09-02T18:59:55.044130Z",
          "iopub.status.busy": "2023-09-02T18:59:55.043760Z",
          "iopub.status.idle": "2023-09-02T18:59:55.050710Z",
          "shell.execute_reply": "2023-09-02T18:59:55.050404Z"
        },
        "papermill": {
          "duration": 0.015765,
          "end_time": "2023-09-02T18:59:55.051837",
          "exception": false,
          "start_time": "2023-09-02T18:59:55.036072",
          "status": "completed"
        },
        "tags": []
      },
      "outputs": [
        {
          "name": "stdout",
          "output_type": "stream",
          "text": [
            "18\n"
          ]
        },
        {
          "data": {
            "text/plain": [
              "{('dc1,in0', 'dc1,out0'): Array(0.70710678+0.j, dtype=complex128),\n",
              " ('dc1,in1', 'dc1,out0'): Array(0.+0.70710678j, dtype=complex128),\n",
              " ('dc1,out0', 'dc1,in0'): Array(0.70710678+0.j, dtype=complex128),\n",
              " ('dc1,out0', 'dc1,in1'): Array(0.+0.70710678j, dtype=complex128),\n",
              " ('wg,in0', 'wg,out0'): (0.5+0.86603j),\n",
              " ('wg,out0', 'wg,in0'): (0.5+0.86603j),\n",
              " ('dc2,in0', 'dc2,out0'): Array(0.70710678+0.j, dtype=complex128),\n",
              " ('dc2,in0', 'dc2,out1'): Array(0.+0.70710678j, dtype=complex128),\n",
              " ('dc2,out0', 'dc2,in0'): Array(0.70710678+0.j, dtype=complex128),\n",
              " ('dc2,out1', 'dc2,in0'): Array(0.+0.70710678j, dtype=complex128),\n",
              " ('dc1,in0', 'dc2,out1'): Array(0.+0.5j, dtype=complex128),\n",
              " ('dc1,in0', 'dc2,out0'): Array(-0.5+0.j, dtype=complex128),\n",
              " ('dc1,in1', 'dc2,out1'): Array(0.5+0.j, dtype=complex128),\n",
              " ('dc1,in1', 'dc2,out0'): Array(0.+0.5j, dtype=complex128),\n",
              " ('dc2,out1', 'dc1,in0'): Array(0.+0.5j, dtype=complex128),\n",
              " ('dc2,out1', 'dc1,in1'): Array(0.5+0.j, dtype=complex128),\n",
              " ('dc2,out0', 'dc1,in0'): Array(-0.5+0.j, dtype=complex128),\n",
              " ('dc2,out0', 'dc1,in1'): Array(0.+0.5j, dtype=complex128)}"
            ]
          },
          "execution_count": 20,
          "metadata": {},
          "output_type": "execute_result"
        }
      ],
      "source": [
        "for i, j in list(block_diag.keys()):\n",
        "    is_connected = i == k or i == l or j == k or j == l\n",
        "    is_in_output_ports = i in reversed_ports and j in reversed_ports\n",
        "    if is_connected and not is_in_output_ports:\n",
        "        del block_diag[i, j]  # we're no longer interested in these port combinations\n",
        "        \n",
        "print(len(block_diag))\n",
        "block_diag"
      ]
    },
    {
      "cell_type": "markdown",
      "id": "b6badcb7",
      "metadata": {
        "papermill": {
          "duration": 0.007201,
          "end_time": "2023-09-02T18:59:55.066382",
          "exception": false,
          "start_time": "2023-09-02T18:59:55.059181",
          "status": "completed"
        },
        "tags": []
      },
      "source": [
        "Note that this deletion of values **does NOT** make this operation un-jittable. The deletion depends on the ports of the dictionary (i.e. on the dictionary 'shape'), not on the values."
      ]
    },
    {
      "cell_type": "markdown",
      "id": "89e775cd",
      "metadata": {
        "papermill": {
          "duration": 0.00719,
          "end_time": "2023-09-02T18:59:55.080759",
          "exception": false,
          "start_time": "2023-09-02T18:59:55.073569",
          "status": "completed"
        },
        "tags": []
      },
      "source": [
        "We now basically have to do those steps again for all other connections:"
      ]
    },
    {
      "cell_type": "code",
      "execution_count": 21,
      "id": "57cc548ce9c92cf5",
      "metadata": {
        "execution": {
          "iopub.execute_input": "2023-09-02T18:59:55.096533Z",
          "iopub.status.busy": "2023-09-02T18:59:55.096074Z",
          "iopub.status.idle": "2023-09-02T18:59:56.287441Z",
          "shell.execute_reply": "2023-09-02T18:59:56.286997Z"
        },
        "papermill": {
          "duration": 1.200977,
          "end_time": "2023-09-02T18:59:56.288958",
          "exception": false,
          "start_time": "2023-09-02T18:59:55.087981",
          "status": "completed"
        },
        "tags": []
      },
      "outputs": [],
      "source": [
        "#for k, l in sorted_connections: \n",
        "for k, l in sorted_connections[1:]: # we just did the first iteration of this loop above...\n",
        "    name1, _ = k.split(\",\")\n",
        "    name2, _ = l.split(\",\")\n",
        "    connected_instances = all_connected_instances[name1] | all_connected_instances[name2]\n",
        "    for name in connected_instances:\n",
        "        all_connected_instances[name] = connected_instances\n",
        "    current_ports = tuple(\n",
        "        p\n",
        "        for instance in connected_instances\n",
        "        for p in set([p for p, _ in block_diag] + [p for _, p in block_diag])\n",
        "        if p.startswith(f\"{instance},\")\n",
        "    )\n",
        "    block_diag.update(_interconnect_ports(block_diag, current_ports, k, l))\n",
        "    for i, j in list(block_diag.keys()):\n",
        "        is_connected = i == k or i == l or j == k or j == l\n",
        "        is_in_output_ports = i in reversed_ports and j in reversed_ports\n",
        "        if is_connected and not is_in_output_ports:\n",
        "            del block_diag[i, j]  # we're no longer interested in these port combinations"
      ]
    },
    {
      "cell_type": "markdown",
      "id": "36eb82fc",
      "metadata": {
        "papermill": {
          "duration": 0.007308,
          "end_time": "2023-09-02T18:59:56.303753",
          "exception": false,
          "start_time": "2023-09-02T18:59:56.296445",
          "status": "completed"
        },
        "tags": []
      },
      "source": [
        "This is the final MZI matrix we're getting:"
      ]
    },
    {
      "cell_type": "code",
      "execution_count": 22,
      "id": "d1c0367e",
      "metadata": {
        "execution": {
          "iopub.execute_input": "2023-09-02T18:59:56.319873Z",
          "iopub.status.busy": "2023-09-02T18:59:56.319660Z",
          "iopub.status.idle": "2023-09-02T18:59:56.325824Z",
          "shell.execute_reply": "2023-09-02T18:59:56.325435Z"
        },
        "papermill": {
          "duration": 0.016344,
          "end_time": "2023-09-02T18:59:56.327453",
          "exception": false,
          "start_time": "2023-09-02T18:59:56.311109",
          "status": "completed"
        },
        "tags": []
      },
      "outputs": [
        {
          "data": {
            "text/plain": [
              "{('dc1,in0', 'dc2,out1'): Array(-0.433015+0.75j, dtype=complex128),\n",
              " ('dc1,in0', 'dc2,out0'): Array(-0.25+0.433015j, dtype=complex128),\n",
              " ('dc1,in1', 'dc2,out1'): Array(0.25-0.433015j, dtype=complex128),\n",
              " ('dc1,in1', 'dc2,out0'): Array(-0.433015+0.75j, dtype=complex128),\n",
              " ('dc2,out1', 'dc1,in0'): Array(-0.433015+0.75j, dtype=complex128),\n",
              " ('dc2,out1', 'dc1,in1'): Array(0.25-0.433015j, dtype=complex128),\n",
              " ('dc2,out0', 'dc1,in0'): Array(-0.25+0.433015j, dtype=complex128),\n",
              " ('dc2,out0', 'dc1,in1'): Array(-0.433015+0.75j, dtype=complex128),\n",
              " ('dc1,in0', 'dc1,in0'): Array(0.+0.j, dtype=complex128),\n",
              " ('dc1,in0', 'dc1,in1'): Array(0.+0.j, dtype=complex128),\n",
              " ('dc1,in1', 'dc1,in0'): Array(0.+0.j, dtype=complex128),\n",
              " ('dc1,in1', 'dc1,in1'): Array(0.+0.j, dtype=complex128),\n",
              " ('dc2,out1', 'dc2,out1'): Array(0.+0.j, dtype=complex128),\n",
              " ('dc2,out1', 'dc2,out0'): Array(0.+0.j, dtype=complex128),\n",
              " ('dc2,out0', 'dc2,out1'): Array(0.+0.j, dtype=complex128),\n",
              " ('dc2,out0', 'dc2,out0'): Array(0.+0.j, dtype=complex128)}"
            ]
          },
          "execution_count": 22,
          "metadata": {},
          "output_type": "execute_result"
        }
      ],
      "source": [
        "block_diag"
      ]
    },
    {
      "cell_type": "markdown",
      "id": "03f67ec6",
      "metadata": {
        "papermill": {
          "duration": 0.007321,
          "end_time": "2023-09-02T18:59:56.342151",
          "exception": false,
          "start_time": "2023-09-02T18:59:56.334830",
          "status": "completed"
        },
        "tags": []
      },
      "source": [
        "All that's left is to rename these internal ports of the format `{instance},{port}` into output ports of the resulting circuit:"
      ]
    },
    {
      "cell_type": "code",
      "execution_count": 23,
      "id": "cf5ea4af",
      "metadata": {
        "execution": {
          "iopub.execute_input": "2023-09-02T18:59:56.357904Z",
          "iopub.status.busy": "2023-09-02T18:59:56.357505Z",
          "iopub.status.idle": "2023-09-02T18:59:56.363678Z",
          "shell.execute_reply": "2023-09-02T18:59:56.363360Z"
        },
        "papermill": {
          "duration": 0.015284,
          "end_time": "2023-09-02T18:59:56.364776",
          "exception": false,
          "start_time": "2023-09-02T18:59:56.349492",
          "status": "completed"
        },
        "tags": []
      },
      "outputs": [
        {
          "data": {
            "text/plain": [
              "{('in0', 'out1'): Array(-0.433015+0.75j, dtype=complex128),\n",
              " ('in0', 'out0'): Array(-0.25+0.433015j, dtype=complex128),\n",
              " ('in1', 'out1'): Array(0.25-0.433015j, dtype=complex128),\n",
              " ('in1', 'out0'): Array(-0.433015+0.75j, dtype=complex128),\n",
              " ('out1', 'in0'): Array(-0.433015+0.75j, dtype=complex128),\n",
              " ('out1', 'in1'): Array(0.25-0.433015j, dtype=complex128),\n",
              " ('out0', 'in0'): Array(-0.25+0.433015j, dtype=complex128),\n",
              " ('out0', 'in1'): Array(-0.433015+0.75j, dtype=complex128),\n",
              " ('in0', 'in0'): Array(0.+0.j, dtype=complex128),\n",
              " ('in0', 'in1'): Array(0.+0.j, dtype=complex128),\n",
              " ('in1', 'in0'): Array(0.+0.j, dtype=complex128),\n",
              " ('in1', 'in1'): Array(0.+0.j, dtype=complex128),\n",
              " ('out1', 'out1'): Array(0.+0.j, dtype=complex128),\n",
              " ('out1', 'out0'): Array(0.+0.j, dtype=complex128),\n",
              " ('out0', 'out1'): Array(0.+0.j, dtype=complex128),\n",
              " ('out0', 'out0'): Array(0.+0.j, dtype=complex128)}"
            ]
          },
          "execution_count": 23,
          "metadata": {},
          "output_type": "execute_result"
        }
      ],
      "source": [
        "circuit_sdict: SDict = {\n",
        "    (reversed_ports[i], reversed_ports[j]): v\n",
        "    for (i, j), v in block_diag.items()\n",
        "    if i in reversed_ports and j in reversed_ports\n",
        "}\n",
        "circuit_sdict"
      ]
    },
    {
      "cell_type": "markdown",
      "id": "7dc6505e",
      "metadata": {
        "papermill": {
          "duration": 0.007446,
          "end_time": "2023-09-02T18:59:56.379756",
          "exception": false,
          "start_time": "2023-09-02T18:59:56.372310",
          "status": "completed"
        },
        "tags": []
      },
      "source": [
        "And that's it. We evaluated the `SDict` of the full circuit."
      ]
    },
    {
      "cell_type": "markdown",
      "id": "170db10b",
      "metadata": {
        "papermill": {
          "duration": 0.007439,
          "end_time": "2023-09-02T18:59:56.394656",
          "exception": false,
          "start_time": "2023-09-02T18:59:56.387217",
          "status": "completed"
        },
        "tags": []
      },
      "source": [
        "## Algorithm Improvements"
      ]
    },
    {
      "cell_type": "markdown",
      "id": "4ed0e69a",
      "metadata": {
        "papermill": {
          "duration": 0.007457,
          "end_time": "2023-09-02T18:59:56.409771",
          "exception": false,
          "start_time": "2023-09-02T18:59:56.402314",
          "status": "completed"
        },
        "tags": []
      },
      "source": [
        "This algorithm is \n",
        "\n",
        "* pretty fast for small circuits \ud83d\ude42\n",
        "* jittable \ud83d\ude42\n",
        "* differentiable \ud83d\ude42\n",
        "* GPU-compatible \ud83d\ude42\n",
        "\n",
        "This algorithm is however:\n",
        "\n",
        "* **really slow** for large circuits \ud83d\ude25\n",
        "* **pretty slow** to jit the resulting circuit function \ud83d\ude25\n",
        "* **pretty slow** to differentiate the resulting circuit function \ud83d\ude25\n",
        "\n",
        "There are probably still plenty of improvements possible for this algorithm:\n",
        "\n",
        "* **\u00bf** Network analysis (ft. NetworkX ?) to obtain which ports of the block diagonal representation are relevant to obtain the output connection **?**\n",
        "* **\u00bf** Smarter ordering of connections to always have the minimum amount of ports in the intermediate block-diagonal representation **?**\n",
        "* **\u00bf** Using `jax.lax.scan` in stead of python native for-loops in `_interconnect_ports` **?**\n",
        "* **\u00bf** ... **?**\n",
        "\n",
        "Bottom line is... Do you know how to improve this algorithm or how to implement the above suggestions? Please open a Merge Request!"
      ]
    }
  ],
  "metadata": {
    "kernelspec": {
      "display_name": "sax",
      "language": "python",
      "name": "sax"
    },
    "language_info": {
      "codemirror_mode": {
        "name": "ipython",
        "version": 3
      },
      "file_extension": ".py",
      "mimetype": "text/x-python",
      "name": "python",
      "nbconvert_exporter": "python",
      "pygments_lexer": "ipython3",
      "version": "3.11.5"
    },
    "papermill": {
      "default_parameters": {},
      "duration": 5.809034,
      "end_time": "2023-09-02T18:59:56.834584",
      "environment_variables": {},
      "exception": null,
      "input_path": "./nbs/08a_backends_filipsson_gunnar.ipynb",
      "output_path": "./nbs/08a_backends_filipsson_gunnar.ipynb",
      "parameters": {},
      "start_time": "2023-09-02T18:59:51.025550",
      "version": "2.4.0"
    }
  },
  "nbformat": 4,
  "nbformat_minor": 5
}