{
  "cells": [
    {
      "cell_type": "code",
      "execution_count": 1,
      "id": "938f1a0a42ccfc20",
      "metadata": {
        "execution": {
          "iopub.execute_input": "2023-06-01T21:32:57.094899Z",
          "iopub.status.busy": "2023-06-01T21:32:57.094621Z",
          "iopub.status.idle": "2023-06-01T21:32:57.097861Z",
          "shell.execute_reply": "2023-06-01T21:32:57.097360Z"
        },
        "papermill": {
          "duration": 0.010265,
          "end_time": "2023-06-01T21:32:57.100085",
          "exception": false,
          "start_time": "2023-06-01T21:32:57.089820",
          "status": "completed"
        },
        "tags": [
          "remove-cell"
        ]
      },
      "outputs": [],
      "source": []
    },
    {
      "cell_type": "markdown",
      "id": "7f878cbc-3e90-4ceb-8633-79250de6d6b8",
      "metadata": {
        "papermill": {
          "duration": 0.002669,
          "end_time": "2023-06-01T21:32:57.106997",
          "exception": false,
          "start_time": "2023-06-01T21:32:57.104328",
          "status": "completed"
        },
        "tags": []
      },
      "source": [
        "# SAX make docs\n",
        "> CLI: build jupyter-books based docs"
      ]
    },
    {
      "cell_type": "code",
      "execution_count": 2,
      "id": "53db40d5d0e78e0f",
      "metadata": {
        "execution": {
          "iopub.execute_input": "2023-06-01T21:32:57.113310Z",
          "iopub.status.busy": "2023-06-01T21:32:57.113083Z",
          "iopub.status.idle": "2023-06-01T21:32:57.120526Z",
          "shell.execute_reply": "2023-06-01T21:32:57.120051Z"
        },
        "papermill": {
          "duration": 0.012292,
          "end_time": "2023-06-01T21:32:57.121868",
          "exception": false,
          "start_time": "2023-06-01T21:32:57.109576",
          "status": "completed"
        },
        "tags": [
          "remove-cell"
        ]
      },
      "outputs": [],
      "source": [
        "from __future__ import annotations\n",
        "\n",
        "import glob\n",
        "import json\n",
        "import os\n",
        "import re\n",
        "import secrets\n",
        "import shutil\n",
        "import subprocess\n",
        "import sys\n",
        "from typing import Dict, Union\n",
        "\n",
        "from fastcore.imports import IN_IPYTHON"
      ]
    },
    {
      "cell_type": "code",
      "execution_count": 3,
      "id": "3b821665e684bff7",
      "metadata": {
        "execution": {
          "iopub.execute_input": "2023-06-01T21:32:57.127972Z",
          "iopub.status.busy": "2023-06-01T21:32:57.127786Z",
          "iopub.status.idle": "2023-06-01T21:32:57.130669Z",
          "shell.execute_reply": "2023-06-01T21:32:57.130213Z"
        },
        "papermill": {
          "duration": 0.007904,
          "end_time": "2023-06-01T21:32:57.132385",
          "exception": false,
          "start_time": "2023-06-01T21:32:57.124481",
          "status": "completed"
        },
        "tags": [
          "hide-input"
        ]
      },
      "outputs": [],
      "source": [
        "MAGIC_COMMENTS = {\n",
        "    \"default_exp\": \"remove-cell\",\n",
        "    \"exporti\": \"remove-cell\",\n",
        "    \"export\": \"hide-input\",\n",
        "    \"exports\": None,\n",
        "    \"hide\": \"remove-cell\",\n",
        "    \"hide_input\": \"remove-input\",\n",
        "    \"hide_output\": \"remove-output\",\n",
        "    \"collapse_input\": \"hide-input\",\n",
        "    \"collapse_output\": \"hide-output\",\n",
        "}"
      ]
    },
    {
      "cell_type": "code",
      "execution_count": 4,
      "id": "d4c6b3b45c7d430a",
      "metadata": {
        "execution": {
          "iopub.execute_input": "2023-06-01T21:32:57.138397Z",
          "iopub.status.busy": "2023-06-01T21:32:57.138203Z",
          "iopub.status.idle": "2023-06-01T21:32:57.140942Z",
          "shell.execute_reply": "2023-06-01T21:32:57.140484Z"
        },
        "papermill": {
          "duration": 0.007757,
          "end_time": "2023-06-01T21:32:57.142683",
          "exception": false,
          "start_time": "2023-06-01T21:32:57.134926",
          "status": "completed"
        },
        "tags": [
          "hide-input"
        ]
      },
      "outputs": [],
      "source": [
        "if IN_IPYTHON:\n",
        "    ROOT = os.path.abspath('..')\n",
        "else:\n",
        "    ROOT = os.path.abspath('.')"
      ]
    },
    {
      "cell_type": "markdown",
      "id": "f8b4297fb05adcf1",
      "metadata": {},
      "source": [
        ":::{eval-rst}\n",
        ".. autofunction:: sax.make_docs.load_nb\n",
        ":::\n"
      ]
    },
    {
      "cell_type": "code",
      "execution_count": 5,
      "id": "4a0674ca5dd6a958",
      "metadata": {
        "execution": {
          "iopub.execute_input": "2023-06-01T21:32:57.148720Z",
          "iopub.status.busy": "2023-06-01T21:32:57.148542Z",
          "iopub.status.idle": "2023-06-01T21:32:57.151627Z",
          "shell.execute_reply": "2023-06-01T21:32:57.151176Z"
        },
        "papermill": {
          "duration": 0.008033,
          "end_time": "2023-06-01T21:32:57.153299",
          "exception": false,
          "start_time": "2023-06-01T21:32:57.145266",
          "status": "completed"
        },
        "tags": [
          "hide-input"
        ]
      },
      "outputs": [],
      "source": [
        "def load_nb(path: str) -> Dict:\n",
        "    \"\"\" load a jupyter notebook as dictionary\n",
        "\n",
        "    Args:\n",
        "        path: the path of the notebook to load\n",
        "\n",
        "    Returns:\n",
        "        the notebook represented as a dictionary\n",
        "    \"\"\"\n",
        "    with open(path, \"r\") as file:\n",
        "        nb = json.load(file)\n",
        "    return nb"
      ]
    },
    {
      "cell_type": "markdown",
      "id": "83b99dde9189659b",
      "metadata": {},
      "source": [
        ":::{eval-rst}\n",
        ".. autofunction:: sax.make_docs.repository_path\n",
        ":::\n"
      ]
    },
    {
      "cell_type": "code",
      "execution_count": 6,
      "id": "47fe88d15911303e",
      "metadata": {
        "execution": {
          "iopub.execute_input": "2023-06-01T21:32:57.159342Z",
          "iopub.status.busy": "2023-06-01T21:32:57.159159Z",
          "iopub.status.idle": "2023-06-01T21:32:57.163312Z",
          "shell.execute_reply": "2023-06-01T21:32:57.162867Z"
        },
        "papermill": {
          "duration": 0.009098,
          "end_time": "2023-06-01T21:32:57.164984",
          "exception": false,
          "start_time": "2023-06-01T21:32:57.155886",
          "status": "completed"
        },
        "tags": [
          "hide-input"
        ]
      },
      "outputs": [],
      "source": [
        "def repository_path(*path_parts: str, not_exist_ok: bool=False) -> str:\n",
        "    \"\"\" Get and validate a path in the modelbuild repository\n",
        "\n",
        "    Args:\n",
        "        *path_parts: the path parts that will be joined together\n",
        "            relative to the root of the repository.\n",
        "        not_exist_ok: skip validation if True\n",
        "\n",
        "    Returns:\n",
        "        the absolute path of the referenced file.\n",
        "    \"\"\"\n",
        "    if not (os.path.exists(path:=os.path.join(ROOT, \"docs\"))):\n",
        "        raise FileNotFoundError(f\"docs path {path!r} not found!\")\n",
        "    if not (os.path.exists(path:=os.path.join(ROOT, \"nbs\"))):\n",
        "        raise FileNotFoundError(f\"nbs path {path!r} not found!\")\n",
        "    if not (os.path.exists(path:=os.path.join(ROOT, \"sax\"))):\n",
        "        raise FileNotFoundError(f\"sax path {path!r} not found!\")\n",
        "\n",
        "    path = os.path.join(ROOT, *path_parts)\n",
        "    if not not_exist_ok and not os.path.exists(path):\n",
        "        raise FileNotFoundError(f\"Path {path!r} does not exist.\")\n",
        "\n",
        "    return path"
      ]
    },
    {
      "cell_type": "markdown",
      "id": "116f58bb2d378f5b",
      "metadata": {},
      "source": [
        ":::{eval-rst}\n",
        ".. autofunction:: sax.make_docs.docs_path\n",
        ":::\n"
      ]
    },
    {
      "cell_type": "code",
      "execution_count": 7,
      "id": "15c34c4b4c81f484",
      "metadata": {
        "execution": {
          "iopub.execute_input": "2023-06-01T21:32:57.171246Z",
          "iopub.status.busy": "2023-06-01T21:32:57.171069Z",
          "iopub.status.idle": "2023-06-01T21:32:57.173752Z",
          "shell.execute_reply": "2023-06-01T21:32:57.173300Z"
        },
        "papermill": {
          "duration": 0.007788,
          "end_time": "2023-06-01T21:32:57.175434",
          "exception": false,
          "start_time": "2023-06-01T21:32:57.167646",
          "status": "completed"
        },
        "tags": [
          "hide-input"
        ]
      },
      "outputs": [],
      "source": [
        "def docs_path(*path_parts: str, not_exist_ok: bool=False) -> str:\n",
        "    return repository_path('docs', *path_parts, not_exist_ok=not_exist_ok)"
      ]
    },
    {
      "cell_type": "markdown",
      "id": "37c1d9b7c1884224",
      "metadata": {},
      "source": [
        ":::{eval-rst}\n",
        ".. autofunction:: sax.make_docs.save_nb\n",
        ":::\n"
      ]
    },
    {
      "cell_type": "code",
      "execution_count": 8,
      "id": "cdf18c7db3e385c7",
      "metadata": {
        "execution": {
          "iopub.execute_input": "2023-06-01T21:32:57.181500Z",
          "iopub.status.busy": "2023-06-01T21:32:57.181316Z",
          "iopub.status.idle": "2023-06-01T21:32:57.184840Z",
          "shell.execute_reply": "2023-06-01T21:32:57.184393Z"
        },
        "papermill": {
          "duration": 0.008528,
          "end_time": "2023-06-01T21:32:57.186560",
          "exception": false,
          "start_time": "2023-06-01T21:32:57.178032",
          "status": "completed"
        },
        "tags": [
          "hide-input"
        ]
      },
      "outputs": [],
      "source": [
        "def save_nb(nb: Dict, path: str) -> str:\n",
        "    \"\"\" save a dictionary as a jupyter notebook\n",
        "\n",
        "    Args:\n",
        "        nb: the dictionary to convert into an ipynb file\n",
        "        path: the path to save the notebook under\n",
        "\n",
        "    Returns:\n",
        "        the path where the notebook was saved.\n",
        "    \"\"\"\n",
        "    path = os.path.abspath(path)\n",
        "    os.makedirs(os.path.dirname(path), exist_ok=True)\n",
        "    with open(path, \"w\") as file:\n",
        "        json.dump(nb, file, indent=2)\n",
        "    return path"
      ]
    },
    {
      "cell_type": "markdown",
      "id": "dbe7076887952241",
      "metadata": {},
      "source": [
        ":::{eval-rst}\n",
        ".. autofunction:: sax.make_docs.strip_metadata\n",
        ":::\n"
      ]
    },
    {
      "cell_type": "code",
      "execution_count": 9,
      "id": "86db70d4b7f676ee",
      "metadata": {
        "execution": {
          "iopub.execute_input": "2023-06-01T21:32:57.193965Z",
          "iopub.status.busy": "2023-06-01T21:32:57.193787Z",
          "iopub.status.idle": "2023-06-01T21:32:57.197115Z",
          "shell.execute_reply": "2023-06-01T21:32:57.196670Z"
        },
        "papermill": {
          "duration": 0.008318,
          "end_time": "2023-06-01T21:32:57.198802",
          "exception": false,
          "start_time": "2023-06-01T21:32:57.190484",
          "status": "completed"
        },
        "tags": [
          "hide-input"
        ]
      },
      "outputs": [],
      "source": [
        "def strip_metadata(nb: Union[Dict, str]) -> Union[Dict,str]:\n",
        "    path = ''\n",
        "    if isinstance(nb, str):\n",
        "        path = nb\n",
        "        nb = load_nb(nb)\n",
        "    for cell in nb['cells']:\n",
        "        if not 'metadata' in cell:\n",
        "            continue\n",
        "        cell['metadata'] = {}\n",
        "    if path:\n",
        "        return save_nb(nb, path)\n",
        "    return path"
      ]
    },
    {
      "cell_type": "code",
      "execution_count": 10,
      "id": "4efac189a2698c87",
      "metadata": {
        "execution": {
          "iopub.execute_input": "2023-06-01T21:32:57.204987Z",
          "iopub.status.busy": "2023-06-01T21:32:57.204818Z",
          "iopub.status.idle": "2023-06-01T21:32:57.207604Z",
          "shell.execute_reply": "2023-06-01T21:32:57.207158Z"
        },
        "papermill": {
          "duration": 0.007794,
          "end_time": "2023-06-01T21:32:57.209231",
          "exception": false,
          "start_time": "2023-06-01T21:32:57.201437",
          "status": "completed"
        },
        "tags": [
          "remove-cell"
        ]
      },
      "outputs": [],
      "source": [
        "def iter_code_cells(nb):\n",
        "    for cell in nb.get('cells', []):\n",
        "        if not cell.get(\"cell_type\", \"\") == \"code\":\n",
        "            continue\n",
        "        yield cell"
      ]
    },
    {
      "cell_type": "code",
      "execution_count": 11,
      "id": "90d0f15551d65a87",
      "metadata": {
        "execution": {
          "iopub.execute_input": "2023-06-01T21:32:57.215618Z",
          "iopub.status.busy": "2023-06-01T21:32:57.215447Z",
          "iopub.status.idle": "2023-06-01T21:32:57.218052Z",
          "shell.execute_reply": "2023-06-01T21:32:57.217610Z"
        },
        "papermill": {
          "duration": 0.00759,
          "end_time": "2023-06-01T21:32:57.219684",
          "exception": false,
          "start_time": "2023-06-01T21:32:57.212094",
          "status": "completed"
        },
        "tags": [
          "remove-cell"
        ]
      },
      "outputs": [],
      "source": [
        "def first_code_cell(nb):\n",
        "    try:\n",
        "        return next(iter_code_cells(nb))\n",
        "    except StopIteration:\n",
        "        return None"
      ]
    },
    {
      "cell_type": "code",
      "execution_count": 12,
      "id": "81d382d1362f61fa",
      "metadata": {
        "execution": {
          "iopub.execute_input": "2023-06-01T21:32:57.225865Z",
          "iopub.status.busy": "2023-06-01T21:32:57.225696Z",
          "iopub.status.idle": "2023-06-01T21:32:57.228660Z",
          "shell.execute_reply": "2023-06-01T21:32:57.228220Z"
        },
        "papermill": {
          "duration": 0.007936,
          "end_time": "2023-06-01T21:32:57.230311",
          "exception": false,
          "start_time": "2023-06-01T21:32:57.222375",
          "status": "completed"
        },
        "tags": [
          "remove-cell"
        ]
      },
      "outputs": [],
      "source": [
        "def get_default_exp(nb):\n",
        "    first_cell = first_code_cell(nb) or {}\n",
        "    first_source = first_cell.get('source', [])\n",
        "    first_line = \"\" if not first_source else first_source[0]\n",
        "    default_exp = first_line.split(\"default_exp\")[-1].strip()\n",
        "    return default_exp"
      ]
    },
    {
      "cell_type": "code",
      "execution_count": 13,
      "id": "f28fa95dd5b1b2d4",
      "metadata": {
        "execution": {
          "iopub.execute_input": "2023-06-01T21:32:57.236717Z",
          "iopub.status.busy": "2023-06-01T21:32:57.236400Z",
          "iopub.status.idle": "2023-06-01T21:32:57.239371Z",
          "shell.execute_reply": "2023-06-01T21:32:57.238931Z"
        },
        "papermill": {
          "duration": 0.007884,
          "end_time": "2023-06-01T21:32:57.240972",
          "exception": false,
          "start_time": "2023-06-01T21:32:57.233088",
          "status": "completed"
        },
        "tags": [
          "remove-cell"
        ]
      },
      "outputs": [],
      "source": [
        "def iter_function_names(source):\n",
        "    for line in source:\n",
        "        if not line.startswith(\"def \"):\n",
        "            continue\n",
        "        if line.startswith(\"def _\"):\n",
        "            continue\n",
        "        yield line.split(\"def \")[1].split(\"(\")[0]"
      ]
    },
    {
      "cell_type": "markdown",
      "id": "3f2ac3f29c5675bf",
      "metadata": {},
      "source": [
        ":::{eval-rst}\n",
        ".. autofunction:: sax.make_docs.docs_copy_nb\n",
        ":::\n"
      ]
    },
    {
      "cell_type": "code",
      "execution_count": 14,
      "id": "4a9d1b96cd807f83",
      "metadata": {
        "execution": {
          "iopub.execute_input": "2023-06-01T21:32:57.247292Z",
          "iopub.status.busy": "2023-06-01T21:32:57.247118Z",
          "iopub.status.idle": "2023-06-01T21:32:57.253996Z",
          "shell.execute_reply": "2023-06-01T21:32:57.253558Z"
        },
        "papermill": {
          "duration": 0.011559,
          "end_time": "2023-06-01T21:32:57.255265",
          "exception": false,
          "start_time": "2023-06-01T21:32:57.243706",
          "status": "completed"
        },
        "tags": [
          "hide-input"
        ]
      },
      "outputs": [],
      "source": [
        "def docs_copy_nb(relpath, docsrelpath=None):\n",
        "    \"\"\"copy a single notebook from src to dst with modified docs metadata.\"\"\"\n",
        "    src = repository_path(relpath)\n",
        "    dst = docs_path((docsrelpath or relpath), not_exist_ok=True)\n",
        "    nb = load_nb(src)\n",
        "    nb_new = {**nb}\n",
        "    nb_new[\"cells\"] = []\n",
        "    module = get_default_exp(nb)\n",
        "\n",
        "    for cell in nb.get('cells', []):\n",
        "        if not cell.get(\"cell_type\", \"\") == \"code\":\n",
        "            nb_new[\"cells\"].append(cell)\n",
        "            continue\n",
        "            \n",
        "        cell_tags = cell.get(\"metadata\", {}).get(\"tags\", [])\n",
        "        source = cell.get(\"source\") or [\"\"]\n",
        "        line = source[0].strip()\n",
        "        \n",
        "        if not line.startswith(\"#\"):\n",
        "            nb_new[\"cells\"].append(cell)\n",
        "            continue\n",
        "            \n",
        "        keys = [k.strip() for k in line.split(\" \")]\n",
        "        keys = [k for k in keys if k in MAGIC_COMMENTS]\n",
        "        if keys:\n",
        "            del source[0]\n",
        "        for key in keys:\n",
        "            tag = MAGIC_COMMENTS[key]\n",
        "            if tag:\n",
        "                cell_tags.append(tag)\n",
        "        if len(cell_tags) > 0:\n",
        "            cell[\"metadata\"][\"tags\"] = cell_tags\n",
        "\n",
        "        if not 'remove-cell' in cell_tags:\n",
        "            for function_name in iter_function_names(source):\n",
        "                extra_cell = {\n",
        "                    \"cell_type\": \"markdown\",\n",
        "                    \"id\": secrets.token_hex(8),\n",
        "                    \"metadata\": {},\n",
        "                    \"source\": [\n",
        "                        \":::{eval-rst}\\n\",\n",
        "                        f\".. autofunction:: sax.{module}.{function_name}\\n\",\n",
        "                        \":::\\n\"\n",
        "                    ],\n",
        "                }\n",
        "                nb_new[\"cells\"].append(extra_cell)\n",
        "\n",
        "        cell[\"id\"] = secrets.token_hex(8)\n",
        "        nb_new[\"cells\"].append(cell)\n",
        "\n",
        "    os.makedirs(os.path.dirname(dst), exist_ok=True)\n",
        "    save_nb(nb_new, dst)\n",
        "    return dst"
      ]
    },
    {
      "cell_type": "markdown",
      "id": "4a61f3a2f89e338b",
      "metadata": {},
      "source": [
        ":::{eval-rst}\n",
        ".. autofunction:: sax.make_docs.list_notebooks\n",
        ":::\n"
      ]
    },
    {
      "cell_type": "markdown",
      "id": "83b6d7442f1f213e",
      "metadata": {},
      "source": [
        ":::{eval-rst}\n",
        ".. autofunction:: sax.make_docs.list_zips\n",
        ":::\n"
      ]
    },
    {
      "cell_type": "code",
      "execution_count": 15,
      "id": "ad485d887f396f02",
      "metadata": {
        "execution": {
          "iopub.execute_input": "2023-06-01T21:32:57.261861Z",
          "iopub.status.busy": "2023-06-01T21:32:57.261692Z",
          "iopub.status.idle": "2023-06-01T21:32:57.264585Z",
          "shell.execute_reply": "2023-06-01T21:32:57.264141Z"
        },
        "papermill": {
          "duration": 0.008207,
          "end_time": "2023-06-01T21:32:57.266229",
          "exception": false,
          "start_time": "2023-06-01T21:32:57.258022",
          "status": "completed"
        },
        "tags": [
          "hide-input"
        ]
      },
      "outputs": [],
      "source": [
        "def list_notebooks(dir):\n",
        "    return glob.glob(os.path.join(dir, \"**/*.ipynb\"), recursive=True)\n",
        "\n",
        "def list_zips(dir):\n",
        "    return glob.glob(os.path.join(dir, \"**/*.zip\"), recursive=True)"
      ]
    },
    {
      "cell_type": "markdown",
      "id": "edb1572659d9c7e4",
      "metadata": {},
      "source": [
        ":::{eval-rst}\n",
        ".. autofunction:: sax.make_docs.docs_copy_dir\n",
        ":::\n"
      ]
    },
    {
      "cell_type": "code",
      "execution_count": 16,
      "id": "fb3a0c10088d25df",
      "metadata": {
        "execution": {
          "iopub.execute_input": "2023-06-01T21:32:57.272809Z",
          "iopub.status.busy": "2023-06-01T21:32:57.272637Z",
          "iopub.status.idle": "2023-06-01T21:32:57.276060Z",
          "shell.execute_reply": "2023-06-01T21:32:57.275619Z"
        },
        "papermill": {
          "duration": 0.008477,
          "end_time": "2023-06-01T21:32:57.277675",
          "exception": false,
          "start_time": "2023-06-01T21:32:57.269198",
          "status": "completed"
        },
        "tags": [
          "hide-input"
        ]
      },
      "outputs": [],
      "source": [
        "def docs_copy_dir(relpath):\n",
        "    main_src = repository_path(relpath)\n",
        "    for src in list_notebooks(main_src):\n",
        "        rel = os.path.relpath(src, repository_path())\n",
        "        docs_copy_nb(rel)\n",
        "    for src in list_zips(main_src):\n",
        "        rel = os.path.relpath(src, repository_path())\n",
        "        dst = docs_path(\"_build\", \"html\", rel, not_exist_ok=True)\n",
        "        os.makedirs(os.path.dirname(dst), exist_ok=True)\n",
        "        shutil.copy2(src, dst)"
      ]
    },
    {
      "cell_type": "markdown",
      "id": "95ced21e0d57978f",
      "metadata": {},
      "source": [
        ":::{eval-rst}\n",
        ".. autofunction:: sax.make_docs.docs_copy_simulations\n",
        ":::\n"
      ]
    },
    {
      "cell_type": "code",
      "execution_count": 17,
      "id": "e5943f08af2bc619",
      "metadata": {
        "execution": {
          "iopub.execute_input": "2023-06-01T21:32:57.284184Z",
          "iopub.status.busy": "2023-06-01T21:32:57.284004Z",
          "iopub.status.idle": "2023-06-01T21:32:57.288590Z",
          "shell.execute_reply": "2023-06-01T21:32:57.288147Z"
        },
        "papermill": {
          "duration": 0.009818,
          "end_time": "2023-06-01T21:32:57.290309",
          "exception": false,
          "start_time": "2023-06-01T21:32:57.280491",
          "status": "completed"
        },
        "tags": [
          "hide-input"
        ]
      },
      "outputs": [],
      "source": [
        "def docs_copy_simulations():\n",
        "    with_results, without_results = {}, {}\n",
        "    for fn in os.listdir(simulations_path()):\n",
        "        sim, ext = os.path.splitext(fn)\n",
        "        if ext != \".ipynb\":\n",
        "            continue\n",
        "        try:\n",
        "            with_results[sim] = get_nominal_result(sim)\n",
        "        except FileNotFoundError:\n",
        "            without_results[sim] = {'hash': None, 'params': get_default_params(simulations_path(f\"{sim}.ipynb\"))}\n",
        "        except ValueError:\n",
        "            without_results[sim] = {'hash': None, 'params': get_default_params(simulations_path(f\"{sim}.ipynb\"))}\n",
        "            #raise\n",
        "        \n",
        "    for k, r in with_results.items():\n",
        "        docs_copy_nb(f\"results/{k}/{r['hash']}/_simulated.ipynb\", f\"simulations/{k}.ipynb\")\n",
        "        \n",
        "    for k, r in without_results.items():\n",
        "        docs_copy_nb(f\"simulations/{k}.ipynb\", f\"simulations/{k}.ipynb\")\n",
        "        \n",
        "    shutil.copytree(simulations_path(\"img\"), docs_path(\"_build\", \"html\", \"simulations\", \"img\", not_exist_ok=True), dirs_exist_ok=True)\n",
        "    return with_results, without_results"
      ]
    },
    {
      "cell_type": "markdown",
      "id": "3375fc9b21790665",
      "metadata": {},
      "source": [
        ":::{eval-rst}\n",
        ".. autofunction:: sax.make_docs.get_toc_part\n",
        ":::\n"
      ]
    },
    {
      "cell_type": "code",
      "execution_count": 18,
      "id": "2ee282f652ba387f",
      "metadata": {
        "execution": {
          "iopub.execute_input": "2023-06-01T21:32:57.296966Z",
          "iopub.status.busy": "2023-06-01T21:32:57.296784Z",
          "iopub.status.idle": "2023-06-01T21:32:57.299829Z",
          "shell.execute_reply": "2023-06-01T21:32:57.299374Z"
        },
        "papermill": {
          "duration": 0.008288,
          "end_time": "2023-06-01T21:32:57.301480",
          "exception": false,
          "start_time": "2023-06-01T21:32:57.293192",
          "status": "completed"
        },
        "tags": [
          "hide-input"
        ]
      },
      "outputs": [],
      "source": [
        "def get_toc_part(toc, caption):\n",
        "    parts = [p for p in toc[\"parts\"] if caption == p[\"caption\"]]\n",
        "    try:\n",
        "        return parts[0]\n",
        "    except IndexError:\n",
        "        raise ValueError(f\"No TOC part with caption {caption!r} found.\")"
      ]
    },
    {
      "cell_type": "markdown",
      "id": "36674a1944681558",
      "metadata": {},
      "source": [
        ":::{eval-rst}\n",
        ".. autofunction:: sax.make_docs.make_docs\n",
        ":::\n"
      ]
    },
    {
      "cell_type": "code",
      "execution_count": 19,
      "id": "5f0a277c6184d48d",
      "metadata": {
        "execution": {
          "iopub.execute_input": "2023-06-01T21:32:57.308172Z",
          "iopub.status.busy": "2023-06-01T21:32:57.308000Z",
          "iopub.status.idle": "2023-06-01T21:32:57.310878Z",
          "shell.execute_reply": "2023-06-01T21:32:57.310426Z"
        },
        "papermill": {
          "duration": 0.008066,
          "end_time": "2023-06-01T21:32:57.312539",
          "exception": false,
          "start_time": "2023-06-01T21:32:57.304473",
          "status": "completed"
        },
        "tags": [
          "hide-input"
        ]
      },
      "outputs": [],
      "source": [
        "def make_docs():\n",
        "    docs_copy_nb(\"index.ipynb\")\n",
        "    docs_copy_dir(\"nbs\")\n",
        "    docs_copy_dir(\"examples\")\n",
        "    os.chdir(docs_path())\n",
        "    subprocess.check_call([sys.executable.replace(\"python\", \"jupyter-book\"), \"build\", \".\"])"
      ]
    },
    {
      "cell_type": "code",
      "execution_count": 20,
      "id": "262ba43fa59675fb",
      "metadata": {
        "execution": {
          "iopub.execute_input": "2023-06-01T21:32:57.319373Z",
          "iopub.status.busy": "2023-06-01T21:32:57.319198Z",
          "iopub.status.idle": "2023-06-01T21:32:57.321658Z",
          "shell.execute_reply": "2023-06-01T21:32:57.321207Z"
        },
        "papermill": {
          "duration": 0.007692,
          "end_time": "2023-06-01T21:32:57.323311",
          "exception": false,
          "start_time": "2023-06-01T21:32:57.315619",
          "status": "completed"
        },
        "tags": [
          "hide-input"
        ]
      },
      "outputs": [],
      "source": [
        "if __name__ == '__main__' and not IN_IPYTHON:\n",
        "    make_docs()"
      ]
    }
  ],
  "metadata": {
    "kernelspec": {
      "display_name": "sax",
      "language": "python",
      "name": "sax"
    },
    "language_info": {
      "codemirror_mode": {
        "name": "ipython",
        "version": 3
      },
      "file_extension": ".py",
      "mimetype": "text/x-python",
      "name": "python",
      "nbconvert_exporter": "python",
      "pygments_lexer": "ipython3",
      "version": "3.11.3"
    },
    "papermill": {
      "default_parameters": {},
      "duration": 1.72,
      "end_time": "2023-06-01T21:32:57.551441",
      "environment_variables": {},
      "exception": null,
      "input_path": "./nbs/98_make_docs.ipynb",
      "output_path": "./nbs/98_make_docs.ipynb",
      "parameters": {},
      "start_time": "2023-06-01T21:32:55.831441",
      "version": "2.3.4"
    }
  },
  "nbformat": 4,
  "nbformat_minor": 5
}