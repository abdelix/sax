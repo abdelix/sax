{
  "cells": [
    {
      "cell_type": "code",
      "execution_count": 1,
      "id": "ca5fe08de96ef9f0",
      "metadata": {
        "execution": {
          "iopub.execute_input": "2023-06-01T21:10:33.220487Z",
          "iopub.status.busy": "2023-06-01T21:10:33.220226Z",
          "iopub.status.idle": "2023-06-01T21:10:33.223374Z",
          "shell.execute_reply": "2023-06-01T21:10:33.222901Z"
        },
        "papermill": {
          "duration": 0.009979,
          "end_time": "2023-06-01T21:10:33.225485",
          "exception": false,
          "start_time": "2023-06-01T21:10:33.215506",
          "status": "completed"
        },
        "tags": [
          "remove-cell"
        ]
      },
      "outputs": [],
      "source": []
    },
    {
      "cell_type": "markdown",
      "id": "7f878cbc-3e90-4ceb-8633-79250de6d6b8",
      "metadata": {
        "papermill": {
          "duration": 0.002597,
          "end_time": "2023-06-01T21:10:33.232284",
          "exception": false,
          "start_time": "2023-06-01T21:10:33.229687",
          "status": "completed"
        },
        "tags": []
      },
      "source": [
        "# SAX make docs\n",
        "> CLI: build jupyter-books based docs"
      ]
    },
    {
      "cell_type": "code",
      "execution_count": 2,
      "id": "8781cefaf54afe68",
      "metadata": {
        "execution": {
          "iopub.execute_input": "2023-06-01T21:10:33.238518Z",
          "iopub.status.busy": "2023-06-01T21:10:33.238306Z",
          "iopub.status.idle": "2023-06-01T21:10:33.245445Z",
          "shell.execute_reply": "2023-06-01T21:10:33.244965Z"
        },
        "papermill": {
          "duration": 0.011829,
          "end_time": "2023-06-01T21:10:33.246802",
          "exception": false,
          "start_time": "2023-06-01T21:10:33.234973",
          "status": "completed"
        },
        "tags": [
          "remove-cell"
        ]
      },
      "outputs": [],
      "source": [
        "from __future__ import annotations\n",
        "\n",
        "import glob\n",
        "import json\n",
        "import os\n",
        "import re\n",
        "import secrets\n",
        "import shutil\n",
        "import subprocess\n",
        "import sys\n",
        "from typing import Dict, Union\n",
        "\n",
        "from fastcore.imports import IN_IPYTHON"
      ]
    },
    {
      "cell_type": "code",
      "execution_count": 3,
      "id": "a7b92dff91b45168",
      "metadata": {
        "execution": {
          "iopub.execute_input": "2023-06-01T21:10:33.253016Z",
          "iopub.status.busy": "2023-06-01T21:10:33.252813Z",
          "iopub.status.idle": "2023-06-01T21:10:33.255824Z",
          "shell.execute_reply": "2023-06-01T21:10:33.255356Z"
        },
        "papermill": {
          "duration": 0.008119,
          "end_time": "2023-06-01T21:10:33.257558",
          "exception": false,
          "start_time": "2023-06-01T21:10:33.249439",
          "status": "completed"
        },
        "tags": [
          "hide-input"
        ]
      },
      "outputs": [],
      "source": [
        "MAGIC_COMMENTS = {\n",
        "    \"default_exp\": \"remove-cell\",\n",
        "    \"exporti\": \"remove-cell\",\n",
        "    \"export\": \"hide-input\",\n",
        "    \"exports\": None,\n",
        "    \"hide\": \"remove-cell\",\n",
        "    \"hide_input\": \"remove-input\",\n",
        "    \"hide_output\": \"remove-output\",\n",
        "    \"collapse_input\": \"hide-input\",\n",
        "    \"collapse_output\": \"hide-output\",\n",
        "}"
      ]
    },
    {
      "cell_type": "code",
      "execution_count": 4,
      "id": "be8c9113529c1b3f",
      "metadata": {
        "execution": {
          "iopub.execute_input": "2023-06-01T21:10:33.263682Z",
          "iopub.status.busy": "2023-06-01T21:10:33.263493Z",
          "iopub.status.idle": "2023-06-01T21:10:33.266272Z",
          "shell.execute_reply": "2023-06-01T21:10:33.265806Z"
        },
        "papermill": {
          "duration": 0.00787,
          "end_time": "2023-06-01T21:10:33.268034",
          "exception": false,
          "start_time": "2023-06-01T21:10:33.260164",
          "status": "completed"
        },
        "tags": [
          "hide-input"
        ]
      },
      "outputs": [],
      "source": [
        "if IN_IPYTHON:\n",
        "    ROOT = os.path.abspath('..')\n",
        "else:\n",
        "    ROOT = os.path.abspath('.')"
      ]
    },
    {
      "cell_type": "markdown",
      "id": "e1637a53c4a1f3cb",
      "metadata": {},
      "source": [
        ":::{eval-rst}\n",
        ".. autofunction:: sax.make_docs.load_nb\n",
        ":::\n"
      ]
    },
    {
      "cell_type": "code",
      "execution_count": 5,
      "id": "286e243fc8ab1645",
      "metadata": {
        "execution": {
          "iopub.execute_input": "2023-06-01T21:10:33.274251Z",
          "iopub.status.busy": "2023-06-01T21:10:33.274066Z",
          "iopub.status.idle": "2023-06-01T21:10:33.277469Z",
          "shell.execute_reply": "2023-06-01T21:10:33.277017Z"
        },
        "papermill": {
          "duration": 0.008377,
          "end_time": "2023-06-01T21:10:33.279113",
          "exception": false,
          "start_time": "2023-06-01T21:10:33.270736",
          "status": "completed"
        },
        "tags": [
          "hide-input"
        ]
      },
      "outputs": [],
      "source": [
        "def load_nb(path: str) -> Dict:\n",
        "    \"\"\" load a jupyter notebook as dictionary\n",
        "\n",
        "    Args:\n",
        "        path: the path of the notebook to load\n",
        "\n",
        "    Returns:\n",
        "        the notebook represented as a dictionary\n",
        "    \"\"\"\n",
        "    with open(path, \"r\") as file:\n",
        "        nb = json.load(file)\n",
        "    return nb"
      ]
    },
    {
      "cell_type": "markdown",
      "id": "210961c3b9a541ab",
      "metadata": {},
      "source": [
        ":::{eval-rst}\n",
        ".. autofunction:: sax.make_docs.repository_path\n",
        ":::\n"
      ]
    },
    {
      "cell_type": "code",
      "execution_count": 6,
      "id": "8c4b6d7b95cc3719",
      "metadata": {
        "execution": {
          "iopub.execute_input": "2023-06-01T21:10:33.285148Z",
          "iopub.status.busy": "2023-06-01T21:10:33.284973Z",
          "iopub.status.idle": "2023-06-01T21:10:33.289149Z",
          "shell.execute_reply": "2023-06-01T21:10:33.288709Z"
        },
        "papermill": {
          "duration": 0.009162,
          "end_time": "2023-06-01T21:10:33.290839",
          "exception": false,
          "start_time": "2023-06-01T21:10:33.281677",
          "status": "completed"
        },
        "tags": [
          "hide-input"
        ]
      },
      "outputs": [],
      "source": [
        "def repository_path(*path_parts: str, not_exist_ok: bool=False) -> str:\n",
        "    \"\"\" Get and validate a path in the modelbuild repository\n",
        "\n",
        "    Args:\n",
        "        *path_parts: the path parts that will be joined together\n",
        "            relative to the root of the repository.\n",
        "        not_exist_ok: skip validation if True\n",
        "\n",
        "    Returns:\n",
        "        the absolute path of the referenced file.\n",
        "    \"\"\"\n",
        "    if not (os.path.exists(path:=os.path.join(ROOT, \"docs\"))):\n",
        "        raise FileNotFoundError(f\"docs path {path!r} not found!\")\n",
        "    if not (os.path.exists(path:=os.path.join(ROOT, \"nbs\"))):\n",
        "        raise FileNotFoundError(f\"nbs path {path!r} not found!\")\n",
        "    if not (os.path.exists(path:=os.path.join(ROOT, \"sax\"))):\n",
        "        raise FileNotFoundError(f\"sax path {path!r} not found!\")\n",
        "\n",
        "    path = os.path.join(ROOT, *path_parts)\n",
        "    if not not_exist_ok and not os.path.exists(path):\n",
        "        raise FileNotFoundError(f\"Path {path!r} does not exist.\")\n",
        "\n",
        "    return path"
      ]
    },
    {
      "cell_type": "markdown",
      "id": "b87d851435bcf2f5",
      "metadata": {},
      "source": [
        ":::{eval-rst}\n",
        ".. autofunction:: sax.make_docs.docs_path\n",
        ":::\n"
      ]
    },
    {
      "cell_type": "code",
      "execution_count": 7,
      "id": "4e48796c2938767c",
      "metadata": {
        "execution": {
          "iopub.execute_input": "2023-06-01T21:10:33.297016Z",
          "iopub.status.busy": "2023-06-01T21:10:33.296840Z",
          "iopub.status.idle": "2023-06-01T21:10:33.299560Z",
          "shell.execute_reply": "2023-06-01T21:10:33.299098Z"
        },
        "papermill": {
          "duration": 0.007749,
          "end_time": "2023-06-01T21:10:33.301248",
          "exception": false,
          "start_time": "2023-06-01T21:10:33.293499",
          "status": "completed"
        },
        "tags": [
          "hide-input"
        ]
      },
      "outputs": [],
      "source": [
        "def docs_path(*path_parts: str, not_exist_ok: bool=False) -> str:\n",
        "    return repository_path('docs', *path_parts, not_exist_ok=not_exist_ok)"
      ]
    },
    {
      "cell_type": "markdown",
      "id": "54832a15cb0ef6c1",
      "metadata": {},
      "source": [
        ":::{eval-rst}\n",
        ".. autofunction:: sax.make_docs.save_nb\n",
        ":::\n"
      ]
    },
    {
      "cell_type": "code",
      "execution_count": 8,
      "id": "e331a0555e563624",
      "metadata": {
        "execution": {
          "iopub.execute_input": "2023-06-01T21:10:33.307447Z",
          "iopub.status.busy": "2023-06-01T21:10:33.307263Z",
          "iopub.status.idle": "2023-06-01T21:10:33.310649Z",
          "shell.execute_reply": "2023-06-01T21:10:33.310182Z"
        },
        "papermill": {
          "duration": 0.008635,
          "end_time": "2023-06-01T21:10:33.312553",
          "exception": false,
          "start_time": "2023-06-01T21:10:33.303918",
          "status": "completed"
        },
        "tags": [
          "hide-input"
        ]
      },
      "outputs": [],
      "source": [
        "def save_nb(nb: Dict, path: str) -> str:\n",
        "    \"\"\" save a dictionary as a jupyter notebook\n",
        "\n",
        "    Args:\n",
        "        nb: the dictionary to convert into an ipynb file\n",
        "        path: the path to save the notebook under\n",
        "\n",
        "    Returns:\n",
        "        the path where the notebook was saved.\n",
        "    \"\"\"\n",
        "    path = os.path.abspath(path)\n",
        "    os.makedirs(os.path.dirname(path), exist_ok=True)\n",
        "    with open(path, \"w\") as file:\n",
        "        json.dump(nb, file, indent=2)\n",
        "    return path"
      ]
    },
    {
      "cell_type": "markdown",
      "id": "dc447ecf5174ab63",
      "metadata": {},
      "source": [
        ":::{eval-rst}\n",
        ".. autofunction:: sax.make_docs.strip_metadata\n",
        ":::\n"
      ]
    },
    {
      "cell_type": "code",
      "execution_count": 9,
      "id": "d1e98e8c916bbd56",
      "metadata": {
        "execution": {
          "iopub.execute_input": "2023-06-01T21:10:33.319124Z",
          "iopub.status.busy": "2023-06-01T21:10:33.318936Z",
          "iopub.status.idle": "2023-06-01T21:10:33.322365Z",
          "shell.execute_reply": "2023-06-01T21:10:33.321907Z"
        },
        "papermill": {
          "duration": 0.008542,
          "end_time": "2023-06-01T21:10:33.324038",
          "exception": false,
          "start_time": "2023-06-01T21:10:33.315496",
          "status": "completed"
        },
        "tags": [
          "hide-input"
        ]
      },
      "outputs": [],
      "source": [
        "def strip_metadata(nb: Union[Dict, str]) -> Union[Dict,str]:\n",
        "    path = ''\n",
        "    if isinstance(nb, str):\n",
        "        path = nb\n",
        "        nb = load_nb(nb)\n",
        "    for cell in nb['cells']:\n",
        "        if not 'metadata' in cell:\n",
        "            continue\n",
        "        cell['metadata'] = {}\n",
        "    if path:\n",
        "        return save_nb(nb, path)\n",
        "    return path"
      ]
    },
    {
      "cell_type": "code",
      "execution_count": 10,
      "id": "c2fc085ff25554e7",
      "metadata": {
        "execution": {
          "iopub.execute_input": "2023-06-01T21:10:33.330417Z",
          "iopub.status.busy": "2023-06-01T21:10:33.330243Z",
          "iopub.status.idle": "2023-06-01T21:10:33.333108Z",
          "shell.execute_reply": "2023-06-01T21:10:33.332660Z"
        },
        "papermill": {
          "duration": 0.007893,
          "end_time": "2023-06-01T21:10:33.334765",
          "exception": false,
          "start_time": "2023-06-01T21:10:33.326872",
          "status": "completed"
        },
        "tags": [
          "remove-cell"
        ]
      },
      "outputs": [],
      "source": [
        "def iter_code_cells(nb):\n",
        "    for cell in nb.get('cells', []):\n",
        "        if not cell.get(\"cell_type\", \"\") == \"code\":\n",
        "            continue\n",
        "        yield cell"
      ]
    },
    {
      "cell_type": "code",
      "execution_count": 11,
      "id": "1522ba19c3525a49",
      "metadata": {
        "execution": {
          "iopub.execute_input": "2023-06-01T21:10:33.341273Z",
          "iopub.status.busy": "2023-06-01T21:10:33.341084Z",
          "iopub.status.idle": "2023-06-01T21:10:33.343952Z",
          "shell.execute_reply": "2023-06-01T21:10:33.343505Z"
        },
        "papermill": {
          "duration": 0.007944,
          "end_time": "2023-06-01T21:10:33.345588",
          "exception": false,
          "start_time": "2023-06-01T21:10:33.337644",
          "status": "completed"
        },
        "tags": [
          "remove-cell"
        ]
      },
      "outputs": [],
      "source": [
        "def first_code_cell(nb):\n",
        "    try:\n",
        "        return next(iter_code_cells(nb))\n",
        "    except StopIteration:\n",
        "        return None"
      ]
    },
    {
      "cell_type": "code",
      "execution_count": 12,
      "id": "94f4f8702a5a25e4",
      "metadata": {
        "execution": {
          "iopub.execute_input": "2023-06-01T21:10:33.351960Z",
          "iopub.status.busy": "2023-06-01T21:10:33.351792Z",
          "iopub.status.idle": "2023-06-01T21:10:33.354821Z",
          "shell.execute_reply": "2023-06-01T21:10:33.354353Z"
        },
        "papermill": {
          "duration": 0.00816,
          "end_time": "2023-06-01T21:10:33.356450",
          "exception": false,
          "start_time": "2023-06-01T21:10:33.348290",
          "status": "completed"
        },
        "tags": [
          "remove-cell"
        ]
      },
      "outputs": [],
      "source": [
        "def get_default_exp(nb):\n",
        "    first_cell = first_code_cell(nb) or {}\n",
        "    first_source = first_cell.get('source', [])\n",
        "    first_line = \"\" if not first_source else first_source[0]\n",
        "    default_exp = first_line.split(\"default_exp\")[-1].strip()\n",
        "    return default_exp"
      ]
    },
    {
      "cell_type": "code",
      "execution_count": 13,
      "id": "4fc0668f9a78fda5",
      "metadata": {
        "execution": {
          "iopub.execute_input": "2023-06-01T21:10:33.362893Z",
          "iopub.status.busy": "2023-06-01T21:10:33.362636Z",
          "iopub.status.idle": "2023-06-01T21:10:33.365816Z",
          "shell.execute_reply": "2023-06-01T21:10:33.365370Z"
        },
        "papermill": {
          "duration": 0.008242,
          "end_time": "2023-06-01T21:10:33.367500",
          "exception": false,
          "start_time": "2023-06-01T21:10:33.359258",
          "status": "completed"
        },
        "tags": [
          "remove-cell"
        ]
      },
      "outputs": [],
      "source": [
        "def iter_function_names(source):\n",
        "    for line in source:\n",
        "        if not line.startswith(\"def \"):\n",
        "            continue\n",
        "        if line.startswith(\"def _\"):\n",
        "            continue\n",
        "        yield line.split(\"def \")[1].split(\"(\")[0]"
      ]
    },
    {
      "cell_type": "markdown",
      "id": "eb766ef1b4ebb186",
      "metadata": {},
      "source": [
        ":::{eval-rst}\n",
        ".. autofunction:: sax.make_docs.docs_copy_nb\n",
        ":::\n"
      ]
    },
    {
      "cell_type": "code",
      "execution_count": 14,
      "id": "ac2d2aee134c9e8f",
      "metadata": {
        "execution": {
          "iopub.execute_input": "2023-06-01T21:10:33.374290Z",
          "iopub.status.busy": "2023-06-01T21:10:33.373765Z",
          "iopub.status.idle": "2023-06-01T21:10:33.380563Z",
          "shell.execute_reply": "2023-06-01T21:10:33.380119Z"
        },
        "papermill": {
          "duration": 0.012093,
          "end_time": "2023-06-01T21:10:33.382324",
          "exception": false,
          "start_time": "2023-06-01T21:10:33.370231",
          "status": "completed"
        },
        "tags": [
          "hide-input"
        ]
      },
      "outputs": [],
      "source": [
        "def docs_copy_nb(relpath, docsrelpath=None):\n",
        "    \"\"\"copy a single notebook from src to dst with modified docs metadata.\"\"\"\n",
        "    src = repository_path(relpath)\n",
        "    dst = docs_path((docsrelpath or relpath), not_exist_ok=True)\n",
        "    nb = load_nb(src)\n",
        "    nb_new = {**nb}\n",
        "    nb_new[\"cells\"] = []\n",
        "    module = get_default_exp(nb)\n",
        "\n",
        "    for cell in nb.get('cells', []):\n",
        "        if not cell.get(\"cell_type\", \"\") == \"code\":\n",
        "            nb_new[\"cells\"].append(cell)\n",
        "            continue\n",
        "            \n",
        "        cell_tags = cell.get(\"metadata\", {}).get(\"tags\", [])\n",
        "        source = cell.get(\"source\") or [\"\"]\n",
        "        line = source[0].strip()\n",
        "        \n",
        "        if not line.startswith(\"#\"):\n",
        "            nb_new[\"cells\"].append(cell)\n",
        "            continue\n",
        "            \n",
        "        keys = [k.strip() for k in line.split(\" \")]\n",
        "        keys = [k for k in keys if k in MAGIC_COMMENTS]\n",
        "        if keys:\n",
        "            del source[0]\n",
        "        for key in keys:\n",
        "            tag = MAGIC_COMMENTS[key]\n",
        "            if tag:\n",
        "                cell_tags.append(tag)\n",
        "        if len(cell_tags) > 0:\n",
        "            cell[\"metadata\"][\"tags\"] = cell_tags\n",
        "\n",
        "        if not 'remove-cell' in cell_tags:\n",
        "            for function_name in iter_function_names(source):\n",
        "                extra_cell = {\n",
        "                    \"cell_type\": \"markdown\",\n",
        "                    \"id\": secrets.token_hex(8),\n",
        "                    \"metadata\": {},\n",
        "                    \"source\": [\n",
        "                        \":::{eval-rst}\\n\",\n",
        "                        f\".. autofunction:: sax.{module}.{function_name}\\n\",\n",
        "                        \":::\\n\"\n",
        "                    ],\n",
        "                }\n",
        "                nb_new[\"cells\"].append(extra_cell)\n",
        "\n",
        "        cell[\"id\"] = secrets.token_hex(8)\n",
        "        nb_new[\"cells\"].append(cell)\n",
        "\n",
        "    os.makedirs(os.path.dirname(dst), exist_ok=True)\n",
        "    save_nb(nb_new, dst)\n",
        "    return dst"
      ]
    },
    {
      "cell_type": "markdown",
      "id": "a25e882fa2d2fd53",
      "metadata": {},
      "source": [
        ":::{eval-rst}\n",
        ".. autofunction:: sax.make_docs.list_notebooks\n",
        ":::\n"
      ]
    },
    {
      "cell_type": "markdown",
      "id": "b90ca5b4f3d7649e",
      "metadata": {},
      "source": [
        ":::{eval-rst}\n",
        ".. autofunction:: sax.make_docs.list_zips\n",
        ":::\n"
      ]
    },
    {
      "cell_type": "code",
      "execution_count": 15,
      "id": "eb018cf32e6cd1c8",
      "metadata": {
        "execution": {
          "iopub.execute_input": "2023-06-01T21:10:33.388985Z",
          "iopub.status.busy": "2023-06-01T21:10:33.388744Z",
          "iopub.status.idle": "2023-06-01T21:10:33.391807Z",
          "shell.execute_reply": "2023-06-01T21:10:33.391360Z"
        },
        "papermill": {
          "duration": 0.008063,
          "end_time": "2023-06-01T21:10:33.393274",
          "exception": false,
          "start_time": "2023-06-01T21:10:33.385211",
          "status": "completed"
        },
        "tags": [
          "hide-input"
        ]
      },
      "outputs": [],
      "source": [
        "def list_notebooks(dir):\n",
        "    return glob.glob(os.path.join(dir, \"**/*.ipynb\"), recursive=True)\n",
        "\n",
        "def list_zips(dir):\n",
        "    return glob.glob(os.path.join(dir, \"**/*.zip\"), recursive=True)"
      ]
    },
    {
      "cell_type": "markdown",
      "id": "18fe3de789564bff",
      "metadata": {},
      "source": [
        ":::{eval-rst}\n",
        ".. autofunction:: sax.make_docs.docs_copy_dir\n",
        ":::\n"
      ]
    },
    {
      "cell_type": "code",
      "execution_count": 16,
      "id": "820ef9dfeafbc980",
      "metadata": {
        "execution": {
          "iopub.execute_input": "2023-06-01T21:10:33.400185Z",
          "iopub.status.busy": "2023-06-01T21:10:33.399926Z",
          "iopub.status.idle": "2023-06-01T21:10:33.403762Z",
          "shell.execute_reply": "2023-06-01T21:10:33.403323Z"
        },
        "papermill": {
          "duration": 0.009061,
          "end_time": "2023-06-01T21:10:33.405248",
          "exception": false,
          "start_time": "2023-06-01T21:10:33.396187",
          "status": "completed"
        },
        "tags": [
          "hide-input"
        ]
      },
      "outputs": [],
      "source": [
        "def docs_copy_dir(relpath):\n",
        "    main_src = repository_path(relpath)\n",
        "    for src in list_notebooks(main_src):\n",
        "        rel = os.path.relpath(src, repository_path())\n",
        "        docs_copy_nb(rel)\n",
        "    for src in list_zips(main_src):\n",
        "        rel = os.path.relpath(src, repository_path())\n",
        "        dst = docs_path(\"_build\", \"html\", rel, not_exist_ok=True)\n",
        "        os.makedirs(os.path.dirname(dst), exist_ok=True)\n",
        "        shutil.copy2(src, dst)"
      ]
    },
    {
      "cell_type": "markdown",
      "id": "2ac6d31e622c8ce5",
      "metadata": {},
      "source": [
        ":::{eval-rst}\n",
        ".. autofunction:: sax.make_docs.docs_copy_simulations\n",
        ":::\n"
      ]
    },
    {
      "cell_type": "code",
      "execution_count": 17,
      "id": "338b7c9bf7fbbac3",
      "metadata": {
        "execution": {
          "iopub.execute_input": "2023-06-01T21:10:33.413306Z",
          "iopub.status.busy": "2023-06-01T21:10:33.413060Z",
          "iopub.status.idle": "2023-06-01T21:10:33.418128Z",
          "shell.execute_reply": "2023-06-01T21:10:33.417690Z"
        },
        "papermill": {
          "duration": 0.011488,
          "end_time": "2023-06-01T21:10:33.419625",
          "exception": false,
          "start_time": "2023-06-01T21:10:33.408137",
          "status": "completed"
        },
        "tags": [
          "hide-input"
        ]
      },
      "outputs": [],
      "source": [
        "def docs_copy_simulations():\n",
        "    with_results, without_results = {}, {}\n",
        "    for fn in os.listdir(simulations_path()):\n",
        "        sim, ext = os.path.splitext(fn)\n",
        "        if ext != \".ipynb\":\n",
        "            continue\n",
        "        try:\n",
        "            with_results[sim] = get_nominal_result(sim)\n",
        "        except FileNotFoundError:\n",
        "            without_results[sim] = {'hash': None, 'params': get_default_params(simulations_path(f\"{sim}.ipynb\"))}\n",
        "        except ValueError:\n",
        "            without_results[sim] = {'hash': None, 'params': get_default_params(simulations_path(f\"{sim}.ipynb\"))}\n",
        "            #raise\n",
        "        \n",
        "    for k, r in with_results.items():\n",
        "        docs_copy_nb(f\"results/{k}/{r['hash']}/_simulated.ipynb\", f\"simulations/{k}.ipynb\")\n",
        "        \n",
        "    for k, r in without_results.items():\n",
        "        docs_copy_nb(f\"simulations/{k}.ipynb\", f\"simulations/{k}.ipynb\")\n",
        "        \n",
        "    shutil.copytree(simulations_path(\"img\"), docs_path(\"_build\", \"html\", \"simulations\", \"img\", not_exist_ok=True), dirs_exist_ok=True)\n",
        "    return with_results, without_results"
      ]
    },
    {
      "cell_type": "markdown",
      "id": "dda2417cd9e7cdb0",
      "metadata": {},
      "source": [
        ":::{eval-rst}\n",
        ".. autofunction:: sax.make_docs.get_toc_part\n",
        ":::\n"
      ]
    },
    {
      "cell_type": "code",
      "execution_count": 18,
      "id": "a2aed6e2c63cf2ba",
      "metadata": {
        "execution": {
          "iopub.execute_input": "2023-06-01T21:10:33.426704Z",
          "iopub.status.busy": "2023-06-01T21:10:33.426267Z",
          "iopub.status.idle": "2023-06-01T21:10:33.429453Z",
          "shell.execute_reply": "2023-06-01T21:10:33.429004Z"
        },
        "papermill": {
          "duration": 0.008129,
          "end_time": "2023-06-01T21:10:33.430754",
          "exception": false,
          "start_time": "2023-06-01T21:10:33.422625",
          "status": "completed"
        },
        "tags": [
          "hide-input"
        ]
      },
      "outputs": [],
      "source": [
        "def get_toc_part(toc, caption):\n",
        "    parts = [p for p in toc[\"parts\"] if caption == p[\"caption\"]]\n",
        "    try:\n",
        "        return parts[0]\n",
        "    except IndexError:\n",
        "        raise ValueError(f\"No TOC part with caption {caption!r} found.\")"
      ]
    },
    {
      "cell_type": "markdown",
      "id": "aa20c7a4f155b708",
      "metadata": {},
      "source": [
        ":::{eval-rst}\n",
        ".. autofunction:: sax.make_docs.make_docs\n",
        ":::\n"
      ]
    },
    {
      "cell_type": "code",
      "execution_count": 19,
      "id": "e2bc928c87875d7e",
      "metadata": {
        "execution": {
          "iopub.execute_input": "2023-06-01T21:10:33.437799Z",
          "iopub.status.busy": "2023-06-01T21:10:33.437259Z",
          "iopub.status.idle": "2023-06-01T21:10:33.440449Z",
          "shell.execute_reply": "2023-06-01T21:10:33.440004Z"
        },
        "papermill": {
          "duration": 0.007968,
          "end_time": "2023-06-01T21:10:33.441676",
          "exception": false,
          "start_time": "2023-06-01T21:10:33.433708",
          "status": "completed"
        },
        "tags": [
          "hide-input"
        ]
      },
      "outputs": [],
      "source": [
        "def make_docs():\n",
        "    docs_copy_nb(\"index.ipynb\")\n",
        "    docs_copy_dir(\"nbs\")\n",
        "    docs_copy_dir(\"examples\")\n",
        "    os.chdir(docs_path())\n",
        "    subprocess.check_call([sys.executable.replace(\"python\", \"jupyter-book\"), \"build\", \".\"])"
      ]
    },
    {
      "cell_type": "code",
      "execution_count": 20,
      "id": "c11f0874b623c213",
      "metadata": {
        "execution": {
          "iopub.execute_input": "2023-06-01T21:10:33.448706Z",
          "iopub.status.busy": "2023-06-01T21:10:33.448532Z",
          "iopub.status.idle": "2023-06-01T21:10:33.451030Z",
          "shell.execute_reply": "2023-06-01T21:10:33.450564Z"
        },
        "papermill": {
          "duration": 0.007652,
          "end_time": "2023-06-01T21:10:33.452631",
          "exception": false,
          "start_time": "2023-06-01T21:10:33.444979",
          "status": "completed"
        },
        "tags": [
          "hide-input"
        ]
      },
      "outputs": [],
      "source": [
        "if __name__ == '__main__' and not IN_IPYTHON:\n",
        "    make_docs()"
      ]
    }
  ],
  "metadata": {
    "kernelspec": {
      "display_name": "sax",
      "language": "python",
      "name": "sax"
    },
    "language_info": {
      "codemirror_mode": {
        "name": "ipython",
        "version": 3
      },
      "file_extension": ".py",
      "mimetype": "text/x-python",
      "name": "python",
      "nbconvert_exporter": "python",
      "pygments_lexer": "ipython3",
      "version": "3.11.3"
    },
    "papermill": {
      "default_parameters": {},
      "duration": 1.753555,
      "end_time": "2023-06-01T21:10:33.680562",
      "environment_variables": {},
      "exception": null,
      "input_path": "./nbs/98_make_docs.ipynb",
      "output_path": "./nbs/98_make_docs.ipynb",
      "parameters": {},
      "start_time": "2023-06-01T21:10:31.927007",
      "version": "2.3.4"
    }
  },
  "nbformat": 4,
  "nbformat_minor": 5
}