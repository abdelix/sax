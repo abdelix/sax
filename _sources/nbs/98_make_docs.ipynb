{
  "cells": [
    {
      "cell_type": "code",
      "execution_count": 1,
      "id": "92ef0ad1886a1947",
      "metadata": {
        "execution": {
          "iopub.execute_input": "2023-07-01T03:32:04.454532Z",
          "iopub.status.busy": "2023-07-01T03:32:04.453859Z",
          "iopub.status.idle": "2023-07-01T03:32:04.457241Z",
          "shell.execute_reply": "2023-07-01T03:32:04.456727Z"
        },
        "papermill": {
          "duration": 0.00898,
          "end_time": "2023-07-01T03:32:04.458436",
          "exception": false,
          "start_time": "2023-07-01T03:32:04.449456",
          "status": "completed"
        },
        "tags": [
          "remove-cell"
        ]
      },
      "outputs": [],
      "source": []
    },
    {
      "cell_type": "markdown",
      "id": "7f878cbc-3e90-4ceb-8633-79250de6d6b8",
      "metadata": {
        "papermill": {
          "duration": 0.003439,
          "end_time": "2023-07-01T03:32:04.464947",
          "exception": false,
          "start_time": "2023-07-01T03:32:04.461508",
          "status": "completed"
        },
        "tags": []
      },
      "source": [
        "# SAX make docs\n",
        "> CLI: build jupyter-books based docs"
      ]
    },
    {
      "cell_type": "code",
      "execution_count": 2,
      "id": "4333282ea341ac1f",
      "metadata": {
        "execution": {
          "iopub.execute_input": "2023-07-01T03:32:04.476130Z",
          "iopub.status.busy": "2023-07-01T03:32:04.475940Z",
          "iopub.status.idle": "2023-07-01T03:32:04.483409Z",
          "shell.execute_reply": "2023-07-01T03:32:04.482936Z"
        },
        "papermill": {
          "duration": 0.014922,
          "end_time": "2023-07-01T03:32:04.484533",
          "exception": false,
          "start_time": "2023-07-01T03:32:04.469611",
          "status": "completed"
        },
        "tags": [
          "remove-cell"
        ]
      },
      "outputs": [],
      "source": [
        "from __future__ import annotations\n",
        "\n",
        "import glob\n",
        "import json\n",
        "import os\n",
        "import re\n",
        "import secrets\n",
        "import shutil\n",
        "import subprocess\n",
        "import sys\n",
        "from typing import Dict, Union\n",
        "\n",
        "from fastcore.imports import IN_IPYTHON"
      ]
    },
    {
      "cell_type": "code",
      "execution_count": 3,
      "id": "233f7bba0ce297cc",
      "metadata": {
        "execution": {
          "iopub.execute_input": "2023-07-01T03:32:04.494367Z",
          "iopub.status.busy": "2023-07-01T03:32:04.494170Z",
          "iopub.status.idle": "2023-07-01T03:32:04.497057Z",
          "shell.execute_reply": "2023-07-01T03:32:04.496611Z"
        },
        "papermill": {
          "duration": 0.010499,
          "end_time": "2023-07-01T03:32:04.498196",
          "exception": false,
          "start_time": "2023-07-01T03:32:04.487697",
          "status": "completed"
        },
        "tags": [
          "hide-input"
        ]
      },
      "outputs": [],
      "source": [
        "MAGIC_COMMENTS = {\n",
        "    \"default_exp\": \"remove-cell\",\n",
        "    \"exporti\": \"remove-cell\",\n",
        "    \"export\": \"hide-input\",\n",
        "    \"exports\": None,\n",
        "    \"hide\": \"remove-cell\",\n",
        "    \"hide_input\": \"remove-input\",\n",
        "    \"hide_output\": \"remove-output\",\n",
        "    \"collapse_input\": \"hide-input\",\n",
        "    \"collapse_output\": \"hide-output\",\n",
        "}"
      ]
    },
    {
      "cell_type": "code",
      "execution_count": 4,
      "id": "a48b0474380fdfb0",
      "metadata": {
        "execution": {
          "iopub.execute_input": "2023-07-01T03:32:04.506589Z",
          "iopub.status.busy": "2023-07-01T03:32:04.506396Z",
          "iopub.status.idle": "2023-07-01T03:32:04.509089Z",
          "shell.execute_reply": "2023-07-01T03:32:04.508637Z"
        },
        "papermill": {
          "duration": 0.009705,
          "end_time": "2023-07-01T03:32:04.510582",
          "exception": false,
          "start_time": "2023-07-01T03:32:04.500877",
          "status": "completed"
        },
        "tags": [
          "hide-input"
        ]
      },
      "outputs": [],
      "source": [
        "if IN_IPYTHON:\n",
        "    ROOT = os.path.abspath('..')\n",
        "else:\n",
        "    ROOT = os.path.abspath('.')"
      ]
    },
    {
      "cell_type": "markdown",
      "id": "a6be19a0e591ba8c",
      "metadata": {},
      "source": [
        ":::{eval-rst}\n",
        ".. autofunction:: sax.make_docs.load_nb\n",
        ":::\n"
      ]
    },
    {
      "cell_type": "code",
      "execution_count": 5,
      "id": "bd7328eee24659ac",
      "metadata": {
        "execution": {
          "iopub.execute_input": "2023-07-01T03:32:04.522498Z",
          "iopub.status.busy": "2023-07-01T03:32:04.522309Z",
          "iopub.status.idle": "2023-07-01T03:32:04.525401Z",
          "shell.execute_reply": "2023-07-01T03:32:04.524950Z"
        },
        "papermill": {
          "duration": 0.013231,
          "end_time": "2023-07-01T03:32:04.526542",
          "exception": false,
          "start_time": "2023-07-01T03:32:04.513311",
          "status": "completed"
        },
        "tags": [
          "hide-input"
        ]
      },
      "outputs": [],
      "source": [
        "def load_nb(path: str) -> Dict:\n",
        "    \"\"\" load a jupyter notebook as dictionary\n",
        "\n",
        "    Args:\n",
        "        path: the path of the notebook to load\n",
        "\n",
        "    Returns:\n",
        "        the notebook represented as a dictionary\n",
        "    \"\"\"\n",
        "    with open(path, \"r\") as file:\n",
        "        nb = json.load(file)\n",
        "    return nb"
      ]
    },
    {
      "cell_type": "markdown",
      "id": "09a12179246a6981",
      "metadata": {},
      "source": [
        ":::{eval-rst}\n",
        ".. autofunction:: sax.make_docs.repository_path\n",
        ":::\n"
      ]
    },
    {
      "cell_type": "code",
      "execution_count": 6,
      "id": "9161bbade67ec465",
      "metadata": {
        "execution": {
          "iopub.execute_input": "2023-07-01T03:32:04.539329Z",
          "iopub.status.busy": "2023-07-01T03:32:04.539155Z",
          "iopub.status.idle": "2023-07-01T03:32:04.543358Z",
          "shell.execute_reply": "2023-07-01T03:32:04.542905Z"
        },
        "papermill": {
          "duration": 0.015191,
          "end_time": "2023-07-01T03:32:04.544429",
          "exception": false,
          "start_time": "2023-07-01T03:32:04.529238",
          "status": "completed"
        },
        "tags": [
          "hide-input"
        ]
      },
      "outputs": [],
      "source": [
        "def repository_path(*path_parts: str, not_exist_ok: bool=False) -> str:\n",
        "    \"\"\" Get and validate a path in the modelbuild repository\n",
        "\n",
        "    Args:\n",
        "        *path_parts: the path parts that will be joined together\n",
        "            relative to the root of the repository.\n",
        "        not_exist_ok: skip validation if True\n",
        "\n",
        "    Returns:\n",
        "        the absolute path of the referenced file.\n",
        "    \"\"\"\n",
        "    if not (os.path.exists(path:=os.path.join(ROOT, \"docs\"))):\n",
        "        raise FileNotFoundError(f\"docs path {path!r} not found!\")\n",
        "    if not (os.path.exists(path:=os.path.join(ROOT, \"nbs\"))):\n",
        "        raise FileNotFoundError(f\"nbs path {path!r} not found!\")\n",
        "    if not (os.path.exists(path:=os.path.join(ROOT, \"sax\"))):\n",
        "        raise FileNotFoundError(f\"sax path {path!r} not found!\")\n",
        "\n",
        "    path = os.path.join(ROOT, *path_parts)\n",
        "    if not not_exist_ok and not os.path.exists(path):\n",
        "        raise FileNotFoundError(f\"Path {path!r} does not exist.\")\n",
        "\n",
        "    return path"
      ]
    },
    {
      "cell_type": "markdown",
      "id": "7a4f4d4bcd440fda",
      "metadata": {},
      "source": [
        ":::{eval-rst}\n",
        ".. autofunction:: sax.make_docs.docs_path\n",
        ":::\n"
      ]
    },
    {
      "cell_type": "code",
      "execution_count": 7,
      "id": "615eb0ddab799b82",
      "metadata": {
        "execution": {
          "iopub.execute_input": "2023-07-01T03:32:04.554972Z",
          "iopub.status.busy": "2023-07-01T03:32:04.554791Z",
          "iopub.status.idle": "2023-07-01T03:32:04.557515Z",
          "shell.execute_reply": "2023-07-01T03:32:04.557052Z"
        },
        "papermill": {
          "duration": 0.011259,
          "end_time": "2023-07-01T03:32:04.558739",
          "exception": false,
          "start_time": "2023-07-01T03:32:04.547480",
          "status": "completed"
        },
        "tags": [
          "hide-input"
        ]
      },
      "outputs": [],
      "source": [
        "def docs_path(*path_parts: str, not_exist_ok: bool=False) -> str:\n",
        "    return repository_path('docs', *path_parts, not_exist_ok=not_exist_ok)"
      ]
    },
    {
      "cell_type": "markdown",
      "id": "bed9bf0aba26b7c3",
      "metadata": {},
      "source": [
        ":::{eval-rst}\n",
        ".. autofunction:: sax.make_docs.save_nb\n",
        ":::\n"
      ]
    },
    {
      "cell_type": "code",
      "execution_count": 8,
      "id": "329e817f45fa6c22",
      "metadata": {
        "execution": {
          "iopub.execute_input": "2023-07-01T03:32:04.570778Z",
          "iopub.status.busy": "2023-07-01T03:32:04.570603Z",
          "iopub.status.idle": "2023-07-01T03:32:04.573930Z",
          "shell.execute_reply": "2023-07-01T03:32:04.573482Z"
        },
        "papermill": {
          "duration": 0.013312,
          "end_time": "2023-07-01T03:32:04.574950",
          "exception": false,
          "start_time": "2023-07-01T03:32:04.561638",
          "status": "completed"
        },
        "tags": [
          "hide-input"
        ]
      },
      "outputs": [],
      "source": [
        "def save_nb(nb: Dict, path: str) -> str:\n",
        "    \"\"\" save a dictionary as a jupyter notebook\n",
        "\n",
        "    Args:\n",
        "        nb: the dictionary to convert into an ipynb file\n",
        "        path: the path to save the notebook under\n",
        "\n",
        "    Returns:\n",
        "        the path where the notebook was saved.\n",
        "    \"\"\"\n",
        "    path = os.path.abspath(path)\n",
        "    os.makedirs(os.path.dirname(path), exist_ok=True)\n",
        "    with open(path, \"w\") as file:\n",
        "        json.dump(nb, file, indent=2)\n",
        "    return path"
      ]
    },
    {
      "cell_type": "markdown",
      "id": "d9f6e2a7e8b83261",
      "metadata": {},
      "source": [
        ":::{eval-rst}\n",
        ".. autofunction:: sax.make_docs.strip_metadata\n",
        ":::\n"
      ]
    },
    {
      "cell_type": "code",
      "execution_count": 9,
      "id": "cc0ee5a94c60cddb",
      "metadata": {
        "execution": {
          "iopub.execute_input": "2023-07-01T03:32:04.585984Z",
          "iopub.status.busy": "2023-07-01T03:32:04.585801Z",
          "iopub.status.idle": "2023-07-01T03:32:04.589131Z",
          "shell.execute_reply": "2023-07-01T03:32:04.588689Z"
        },
        "papermill": {
          "duration": 0.012384,
          "end_time": "2023-07-01T03:32:04.590154",
          "exception": false,
          "start_time": "2023-07-01T03:32:04.577770",
          "status": "completed"
        },
        "tags": [
          "hide-input"
        ]
      },
      "outputs": [],
      "source": [
        "def strip_metadata(nb: Union[Dict, str]) -> Union[Dict,str]:\n",
        "    path = ''\n",
        "    if isinstance(nb, str):\n",
        "        path = nb\n",
        "        nb = load_nb(nb)\n",
        "    for cell in nb['cells']:\n",
        "        if not 'metadata' in cell:\n",
        "            continue\n",
        "        cell['metadata'] = {}\n",
        "    if path:\n",
        "        return save_nb(nb, path)\n",
        "    return path"
      ]
    },
    {
      "cell_type": "code",
      "execution_count": 10,
      "id": "b7cfd14155a9d77a",
      "metadata": {
        "execution": {
          "iopub.execute_input": "2023-07-01T03:32:04.601569Z",
          "iopub.status.busy": "2023-07-01T03:32:04.601390Z",
          "iopub.status.idle": "2023-07-01T03:32:04.604137Z",
          "shell.execute_reply": "2023-07-01T03:32:04.603713Z"
        },
        "papermill": {
          "duration": 0.012247,
          "end_time": "2023-07-01T03:32:04.605239",
          "exception": false,
          "start_time": "2023-07-01T03:32:04.592992",
          "status": "completed"
        },
        "tags": [
          "remove-cell"
        ]
      },
      "outputs": [],
      "source": [
        "def iter_code_cells(nb):\n",
        "    for cell in nb.get('cells', []):\n",
        "        if not cell.get(\"cell_type\", \"\") == \"code\":\n",
        "            continue\n",
        "        yield cell"
      ]
    },
    {
      "cell_type": "code",
      "execution_count": 11,
      "id": "92d52c7f499b626d",
      "metadata": {
        "execution": {
          "iopub.execute_input": "2023-07-01T03:32:04.614508Z",
          "iopub.status.busy": "2023-07-01T03:32:04.614327Z",
          "iopub.status.idle": "2023-07-01T03:32:04.616955Z",
          "shell.execute_reply": "2023-07-01T03:32:04.616514Z"
        },
        "papermill": {
          "duration": 0.010212,
          "end_time": "2023-07-01T03:32:04.618362",
          "exception": false,
          "start_time": "2023-07-01T03:32:04.608150",
          "status": "completed"
        },
        "tags": [
          "remove-cell"
        ]
      },
      "outputs": [],
      "source": [
        "def first_code_cell(nb):\n",
        "    try:\n",
        "        return next(iter_code_cells(nb))\n",
        "    except StopIteration:\n",
        "        return None"
      ]
    },
    {
      "cell_type": "code",
      "execution_count": 12,
      "id": "dd31cbe74454ad09",
      "metadata": {
        "execution": {
          "iopub.execute_input": "2023-07-01T03:32:04.626888Z",
          "iopub.status.busy": "2023-07-01T03:32:04.626652Z",
          "iopub.status.idle": "2023-07-01T03:32:04.629816Z",
          "shell.execute_reply": "2023-07-01T03:32:04.629367Z"
        },
        "papermill": {
          "duration": 0.00833,
          "end_time": "2023-07-01T03:32:04.631449",
          "exception": false,
          "start_time": "2023-07-01T03:32:04.623119",
          "status": "completed"
        },
        "tags": [
          "remove-cell"
        ]
      },
      "outputs": [],
      "source": [
        "def get_default_exp(nb):\n",
        "    first_cell = first_code_cell(nb) or {}\n",
        "    first_source = first_cell.get('source', [])\n",
        "    first_line = \"\" if not first_source else first_source[0]\n",
        "    default_exp = first_line.split(\"default_exp\")[-1].strip()\n",
        "    return default_exp"
      ]
    },
    {
      "cell_type": "code",
      "execution_count": 13,
      "id": "ae2fe6777e39e183",
      "metadata": {
        "execution": {
          "iopub.execute_input": "2023-07-01T03:32:04.638080Z",
          "iopub.status.busy": "2023-07-01T03:32:04.637911Z",
          "iopub.status.idle": "2023-07-01T03:32:04.640841Z",
          "shell.execute_reply": "2023-07-01T03:32:04.640391Z"
        },
        "papermill": {
          "duration": 0.008115,
          "end_time": "2023-07-01T03:32:04.642499",
          "exception": false,
          "start_time": "2023-07-01T03:32:04.634384",
          "status": "completed"
        },
        "tags": [
          "remove-cell"
        ]
      },
      "outputs": [],
      "source": [
        "def iter_function_names(source):\n",
        "    for line in source:\n",
        "        if not line.startswith(\"def \"):\n",
        "            continue\n",
        "        if line.startswith(\"def _\"):\n",
        "            continue\n",
        "        yield line.split(\"def \")[1].split(\"(\")[0]"
      ]
    },
    {
      "cell_type": "markdown",
      "id": "f8c242105204079b",
      "metadata": {},
      "source": [
        ":::{eval-rst}\n",
        ".. autofunction:: sax.make_docs.docs_copy_nb\n",
        ":::\n"
      ]
    },
    {
      "cell_type": "code",
      "execution_count": 14,
      "id": "4ef9dcee4ba96921",
      "metadata": {
        "execution": {
          "iopub.execute_input": "2023-07-01T03:32:04.649460Z",
          "iopub.status.busy": "2023-07-01T03:32:04.649291Z",
          "iopub.status.idle": "2023-07-01T03:32:04.656504Z",
          "shell.execute_reply": "2023-07-01T03:32:04.656055Z"
        },
        "papermill": {
          "duration": 0.012343,
          "end_time": "2023-07-01T03:32:04.657747",
          "exception": false,
          "start_time": "2023-07-01T03:32:04.645404",
          "status": "completed"
        },
        "tags": [
          "hide-input"
        ]
      },
      "outputs": [],
      "source": [
        "def docs_copy_nb(relpath, docsrelpath=None):\n",
        "    \"\"\"copy a single notebook from src to dst with modified docs metadata.\"\"\"\n",
        "    src = repository_path(relpath)\n",
        "    dst = docs_path((docsrelpath or relpath), not_exist_ok=True)\n",
        "    nb = load_nb(src)\n",
        "    nb_new = {**nb}\n",
        "    nb_new[\"cells\"] = []\n",
        "    module = get_default_exp(nb)\n",
        "\n",
        "    for cell in nb.get('cells', []):\n",
        "        if not cell.get(\"cell_type\", \"\") == \"code\":\n",
        "            nb_new[\"cells\"].append(cell)\n",
        "            continue\n",
        "            \n",
        "        cell_tags = cell.get(\"metadata\", {}).get(\"tags\", [])\n",
        "        source = cell.get(\"source\") or [\"\"]\n",
        "        line = source[0].strip()\n",
        "        \n",
        "        if not line.startswith(\"#\"):\n",
        "            nb_new[\"cells\"].append(cell)\n",
        "            continue\n",
        "            \n",
        "        keys = [k.strip() for k in line.split(\" \")]\n",
        "        keys = [k for k in keys if k in MAGIC_COMMENTS]\n",
        "        if keys:\n",
        "            del source[0]\n",
        "        for key in keys:\n",
        "            tag = MAGIC_COMMENTS[key]\n",
        "            if tag:\n",
        "                cell_tags.append(tag)\n",
        "        if len(cell_tags) > 0:\n",
        "            cell[\"metadata\"][\"tags\"] = cell_tags\n",
        "\n",
        "        if not 'remove-cell' in cell_tags:\n",
        "            for function_name in iter_function_names(source):\n",
        "                extra_cell = {\n",
        "                    \"cell_type\": \"markdown\",\n",
        "                    \"id\": secrets.token_hex(8),\n",
        "                    \"metadata\": {},\n",
        "                    \"source\": [\n",
        "                        \":::{eval-rst}\\n\",\n",
        "                        f\".. autofunction:: sax.{module}.{function_name}\\n\",\n",
        "                        \":::\\n\"\n",
        "                    ],\n",
        "                }\n",
        "                nb_new[\"cells\"].append(extra_cell)\n",
        "\n",
        "        cell[\"id\"] = secrets.token_hex(8)\n",
        "        nb_new[\"cells\"].append(cell)\n",
        "\n",
        "    os.makedirs(os.path.dirname(dst), exist_ok=True)\n",
        "    save_nb(nb_new, dst)\n",
        "    return dst"
      ]
    },
    {
      "cell_type": "markdown",
      "id": "3ea643cc5891e369",
      "metadata": {},
      "source": [
        ":::{eval-rst}\n",
        ".. autofunction:: sax.make_docs.list_notebooks\n",
        ":::\n"
      ]
    },
    {
      "cell_type": "markdown",
      "id": "19787006c50184ea",
      "metadata": {},
      "source": [
        ":::{eval-rst}\n",
        ".. autofunction:: sax.make_docs.list_zips\n",
        ":::\n"
      ]
    },
    {
      "cell_type": "code",
      "execution_count": 15,
      "id": "d433ee39105681af",
      "metadata": {
        "execution": {
          "iopub.execute_input": "2023-07-01T03:32:04.666060Z",
          "iopub.status.busy": "2023-07-01T03:32:04.665878Z",
          "iopub.status.idle": "2023-07-01T03:32:04.668814Z",
          "shell.execute_reply": "2023-07-01T03:32:04.668360Z"
        },
        "papermill": {
          "duration": 0.010842,
          "end_time": "2023-07-01T03:32:04.671557",
          "exception": false,
          "start_time": "2023-07-01T03:32:04.660715",
          "status": "completed"
        },
        "tags": [
          "hide-input"
        ]
      },
      "outputs": [],
      "source": [
        "def list_notebooks(dir):\n",
        "    return glob.glob(os.path.join(dir, \"**/*.ipynb\"), recursive=True)\n",
        "\n",
        "def list_zips(dir):\n",
        "    return glob.glob(os.path.join(dir, \"**/*.zip\"), recursive=True)"
      ]
    },
    {
      "cell_type": "markdown",
      "id": "58e41ffee5058a08",
      "metadata": {},
      "source": [
        ":::{eval-rst}\n",
        ".. autofunction:: sax.make_docs.docs_copy_dir\n",
        ":::\n"
      ]
    },
    {
      "cell_type": "code",
      "execution_count": 16,
      "id": "5b7199d88c4b0af1",
      "metadata": {
        "execution": {
          "iopub.execute_input": "2023-07-01T03:32:04.682600Z",
          "iopub.status.busy": "2023-07-01T03:32:04.682408Z",
          "iopub.status.idle": "2023-07-01T03:32:04.685902Z",
          "shell.execute_reply": "2023-07-01T03:32:04.685447Z"
        },
        "papermill": {
          "duration": 0.015788,
          "end_time": "2023-07-01T03:32:04.690542",
          "exception": false,
          "start_time": "2023-07-01T03:32:04.674754",
          "status": "completed"
        },
        "tags": [
          "hide-input"
        ]
      },
      "outputs": [],
      "source": [
        "def docs_copy_dir(relpath):\n",
        "    main_src = repository_path(relpath)\n",
        "    for src in list_notebooks(main_src):\n",
        "        rel = os.path.relpath(src, repository_path())\n",
        "        docs_copy_nb(rel)\n",
        "    for src in list_zips(main_src):\n",
        "        rel = os.path.relpath(src, repository_path())\n",
        "        dst = docs_path(\"_build\", \"html\", rel, not_exist_ok=True)\n",
        "        os.makedirs(os.path.dirname(dst), exist_ok=True)\n",
        "        shutil.copy2(src, dst)"
      ]
    },
    {
      "cell_type": "markdown",
      "id": "b0a9e8521b535a36",
      "metadata": {},
      "source": [
        ":::{eval-rst}\n",
        ".. autofunction:: sax.make_docs.docs_copy_simulations\n",
        ":::\n"
      ]
    },
    {
      "cell_type": "code",
      "execution_count": 17,
      "id": "d0f5ed0d4e0cfb39",
      "metadata": {
        "execution": {
          "iopub.execute_input": "2023-07-01T03:32:04.703222Z",
          "iopub.status.busy": "2023-07-01T03:32:04.703013Z",
          "iopub.status.idle": "2023-07-01T03:32:04.707909Z",
          "shell.execute_reply": "2023-07-01T03:32:04.707429Z"
        },
        "papermill": {
          "duration": 0.019856,
          "end_time": "2023-07-01T03:32:04.713441",
          "exception": false,
          "start_time": "2023-07-01T03:32:04.693585",
          "status": "completed"
        },
        "tags": [
          "hide-input"
        ]
      },
      "outputs": [],
      "source": [
        "def docs_copy_simulations():\n",
        "    with_results, without_results = {}, {}\n",
        "    for fn in os.listdir(simulations_path()):\n",
        "        sim, ext = os.path.splitext(fn)\n",
        "        if ext != \".ipynb\":\n",
        "            continue\n",
        "        try:\n",
        "            with_results[sim] = get_nominal_result(sim)\n",
        "        except FileNotFoundError:\n",
        "            without_results[sim] = {'hash': None, 'params': get_default_params(simulations_path(f\"{sim}.ipynb\"))}\n",
        "        except ValueError:\n",
        "            without_results[sim] = {'hash': None, 'params': get_default_params(simulations_path(f\"{sim}.ipynb\"))}\n",
        "            #raise\n",
        "        \n",
        "    for k, r in with_results.items():\n",
        "        docs_copy_nb(f\"results/{k}/{r['hash']}/_simulated.ipynb\", f\"simulations/{k}.ipynb\")\n",
        "        \n",
        "    for k, r in without_results.items():\n",
        "        docs_copy_nb(f\"simulations/{k}.ipynb\", f\"simulations/{k}.ipynb\")\n",
        "        \n",
        "    shutil.copytree(simulations_path(\"img\"), docs_path(\"_build\", \"html\", \"simulations\", \"img\", not_exist_ok=True), dirs_exist_ok=True)\n",
        "    return with_results, without_results"
      ]
    },
    {
      "cell_type": "markdown",
      "id": "62b46cdc8be84a59",
      "metadata": {},
      "source": [
        ":::{eval-rst}\n",
        ".. autofunction:: sax.make_docs.get_toc_part\n",
        ":::\n"
      ]
    },
    {
      "cell_type": "code",
      "execution_count": 18,
      "id": "5ef594c1e0ef9888",
      "metadata": {
        "execution": {
          "iopub.execute_input": "2023-07-01T03:32:04.726740Z",
          "iopub.status.busy": "2023-07-01T03:32:04.726548Z",
          "iopub.status.idle": "2023-07-01T03:32:04.729723Z",
          "shell.execute_reply": "2023-07-01T03:32:04.729206Z"
        },
        "papermill": {
          "duration": 0.016228,
          "end_time": "2023-07-01T03:32:04.732749",
          "exception": false,
          "start_time": "2023-07-01T03:32:04.716521",
          "status": "completed"
        },
        "tags": [
          "hide-input"
        ]
      },
      "outputs": [],
      "source": [
        "def get_toc_part(toc, caption):\n",
        "    parts = [p for p in toc[\"parts\"] if caption == p[\"caption\"]]\n",
        "    try:\n",
        "        return parts[0]\n",
        "    except IndexError:\n",
        "        raise ValueError(f\"No TOC part with caption {caption!r} found.\")"
      ]
    },
    {
      "cell_type": "markdown",
      "id": "1c7fb69fbb20b311",
      "metadata": {},
      "source": [
        ":::{eval-rst}\n",
        ".. autofunction:: sax.make_docs.make_docs\n",
        ":::\n"
      ]
    },
    {
      "cell_type": "code",
      "execution_count": 19,
      "id": "a5a92b168b3da97a",
      "metadata": {
        "execution": {
          "iopub.execute_input": "2023-07-01T03:32:04.743777Z",
          "iopub.status.busy": "2023-07-01T03:32:04.743599Z",
          "iopub.status.idle": "2023-07-01T03:32:04.746590Z",
          "shell.execute_reply": "2023-07-01T03:32:04.746088Z"
        },
        "papermill": {
          "duration": 0.012859,
          "end_time": "2023-07-01T03:32:04.752707",
          "exception": false,
          "start_time": "2023-07-01T03:32:04.739848",
          "status": "completed"
        },
        "tags": [
          "hide-input"
        ]
      },
      "outputs": [],
      "source": [
        "def make_docs():\n",
        "    docs_copy_nb(\"index.ipynb\")\n",
        "    docs_copy_dir(\"nbs\")\n",
        "    docs_copy_dir(\"examples\")\n",
        "    os.chdir(docs_path())\n",
        "    subprocess.check_call([sys.executable.replace(\"python\", \"jupyter-book\"), \"build\", \".\"])"
      ]
    },
    {
      "cell_type": "code",
      "execution_count": 20,
      "id": "beb3426003c238b6",
      "metadata": {
        "execution": {
          "iopub.execute_input": "2023-07-01T03:32:04.767895Z",
          "iopub.status.busy": "2023-07-01T03:32:04.767719Z",
          "iopub.status.idle": "2023-07-01T03:32:04.770238Z",
          "shell.execute_reply": "2023-07-01T03:32:04.769779Z"
        },
        "papermill": {
          "duration": 0.012311,
          "end_time": "2023-07-01T03:32:04.772252",
          "exception": false,
          "start_time": "2023-07-01T03:32:04.759941",
          "status": "completed"
        },
        "tags": [
          "hide-input"
        ]
      },
      "outputs": [],
      "source": [
        "if __name__ == '__main__' and not IN_IPYTHON:\n",
        "    make_docs()"
      ]
    }
  ],
  "metadata": {
    "kernelspec": {
      "display_name": "sax",
      "language": "python",
      "name": "sax"
    },
    "language_info": {
      "codemirror_mode": {
        "name": "ipython",
        "version": 3
      },
      "file_extension": ".py",
      "mimetype": "text/x-python",
      "name": "python",
      "nbconvert_exporter": "python",
      "pygments_lexer": "ipython3",
      "version": "3.11.4"
    },
    "papermill": {
      "default_parameters": {},
      "duration": 1.978122,
      "end_time": "2023-07-01T03:32:04.997026",
      "environment_variables": {},
      "exception": null,
      "input_path": "./nbs/98_make_docs.ipynb",
      "output_path": "./nbs/98_make_docs.ipynb",
      "parameters": {},
      "start_time": "2023-07-01T03:32:03.018904",
      "version": "2.3.4"
    }
  },
  "nbformat": 4,
  "nbformat_minor": 5
}