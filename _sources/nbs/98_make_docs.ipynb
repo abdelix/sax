{
  "cells": [
    {
      "cell_type": "code",
      "execution_count": 1,
      "id": "059a25721439c207",
      "metadata": {
        "execution": {
          "iopub.execute_input": "2023-06-01T21:50:13.916076Z",
          "iopub.status.busy": "2023-06-01T21:50:13.915648Z",
          "iopub.status.idle": "2023-06-01T21:50:13.918676Z",
          "shell.execute_reply": "2023-06-01T21:50:13.918229Z"
        },
        "papermill": {
          "duration": 0.009659,
          "end_time": "2023-06-01T21:50:13.920734",
          "exception": false,
          "start_time": "2023-06-01T21:50:13.911075",
          "status": "completed"
        },
        "tags": [
          "remove-cell"
        ]
      },
      "outputs": [],
      "source": []
    },
    {
      "cell_type": "markdown",
      "id": "7f878cbc-3e90-4ceb-8633-79250de6d6b8",
      "metadata": {
        "papermill": {
          "duration": 0.002678,
          "end_time": "2023-06-01T21:50:13.927393",
          "exception": false,
          "start_time": "2023-06-01T21:50:13.924715",
          "status": "completed"
        },
        "tags": []
      },
      "source": [
        "# SAX make docs\n",
        "> CLI: build jupyter-books based docs"
      ]
    },
    {
      "cell_type": "code",
      "execution_count": 2,
      "id": "a6e08e975556035b",
      "metadata": {
        "execution": {
          "iopub.execute_input": "2023-06-01T21:50:13.933562Z",
          "iopub.status.busy": "2023-06-01T21:50:13.933365Z",
          "iopub.status.idle": "2023-06-01T21:50:13.940220Z",
          "shell.execute_reply": "2023-06-01T21:50:13.939752Z"
        },
        "papermill": {
          "duration": 0.011453,
          "end_time": "2023-06-01T21:50:13.941485",
          "exception": false,
          "start_time": "2023-06-01T21:50:13.930032",
          "status": "completed"
        },
        "tags": [
          "remove-cell"
        ]
      },
      "outputs": [],
      "source": [
        "from __future__ import annotations\n",
        "\n",
        "import glob\n",
        "import json\n",
        "import os\n",
        "import re\n",
        "import secrets\n",
        "import shutil\n",
        "import subprocess\n",
        "import sys\n",
        "from typing import Dict, Union\n",
        "\n",
        "from fastcore.imports import IN_IPYTHON"
      ]
    },
    {
      "cell_type": "code",
      "execution_count": 3,
      "id": "7d9b5dd836e7e6ae",
      "metadata": {
        "execution": {
          "iopub.execute_input": "2023-06-01T21:50:13.947922Z",
          "iopub.status.busy": "2023-06-01T21:50:13.947736Z",
          "iopub.status.idle": "2023-06-01T21:50:13.950609Z",
          "shell.execute_reply": "2023-06-01T21:50:13.950147Z"
        },
        "papermill": {
          "duration": 0.008076,
          "end_time": "2023-06-01T21:50:13.952287",
          "exception": false,
          "start_time": "2023-06-01T21:50:13.944211",
          "status": "completed"
        },
        "tags": [
          "hide-input"
        ]
      },
      "outputs": [],
      "source": [
        "MAGIC_COMMENTS = {\n",
        "    \"default_exp\": \"remove-cell\",\n",
        "    \"exporti\": \"remove-cell\",\n",
        "    \"export\": \"hide-input\",\n",
        "    \"exports\": None,\n",
        "    \"hide\": \"remove-cell\",\n",
        "    \"hide_input\": \"remove-input\",\n",
        "    \"hide_output\": \"remove-output\",\n",
        "    \"collapse_input\": \"hide-input\",\n",
        "    \"collapse_output\": \"hide-output\",\n",
        "}"
      ]
    },
    {
      "cell_type": "code",
      "execution_count": 4,
      "id": "7045976a10d66c40",
      "metadata": {
        "execution": {
          "iopub.execute_input": "2023-06-01T21:50:13.958392Z",
          "iopub.status.busy": "2023-06-01T21:50:13.958212Z",
          "iopub.status.idle": "2023-06-01T21:50:13.960873Z",
          "shell.execute_reply": "2023-06-01T21:50:13.960433Z"
        },
        "papermill": {
          "duration": 0.007674,
          "end_time": "2023-06-01T21:50:13.962620",
          "exception": false,
          "start_time": "2023-06-01T21:50:13.954946",
          "status": "completed"
        },
        "tags": [
          "hide-input"
        ]
      },
      "outputs": [],
      "source": [
        "if IN_IPYTHON:\n",
        "    ROOT = os.path.abspath('..')\n",
        "else:\n",
        "    ROOT = os.path.abspath('.')"
      ]
    },
    {
      "cell_type": "markdown",
      "id": "bab35cafcacd930e",
      "metadata": {},
      "source": [
        ":::{eval-rst}\n",
        ".. autofunction:: sax.make_docs.load_nb\n",
        ":::\n"
      ]
    },
    {
      "cell_type": "code",
      "execution_count": 5,
      "id": "3b52d788e97a936b",
      "metadata": {
        "execution": {
          "iopub.execute_input": "2023-06-01T21:50:13.969173Z",
          "iopub.status.busy": "2023-06-01T21:50:13.968978Z",
          "iopub.status.idle": "2023-06-01T21:50:13.972240Z",
          "shell.execute_reply": "2023-06-01T21:50:13.971782Z"
        },
        "papermill": {
          "duration": 0.008771,
          "end_time": "2023-06-01T21:50:13.974142",
          "exception": false,
          "start_time": "2023-06-01T21:50:13.965371",
          "status": "completed"
        },
        "tags": [
          "hide-input"
        ]
      },
      "outputs": [],
      "source": [
        "def load_nb(path: str) -> Dict:\n",
        "    \"\"\" load a jupyter notebook as dictionary\n",
        "\n",
        "    Args:\n",
        "        path: the path of the notebook to load\n",
        "\n",
        "    Returns:\n",
        "        the notebook represented as a dictionary\n",
        "    \"\"\"\n",
        "    with open(path, \"r\") as file:\n",
        "        nb = json.load(file)\n",
        "    return nb"
      ]
    },
    {
      "cell_type": "markdown",
      "id": "d7f91747661d9dd3",
      "metadata": {},
      "source": [
        ":::{eval-rst}\n",
        ".. autofunction:: sax.make_docs.repository_path\n",
        ":::\n"
      ]
    },
    {
      "cell_type": "code",
      "execution_count": 6,
      "id": "3668c3479fb682f7",
      "metadata": {
        "execution": {
          "iopub.execute_input": "2023-06-01T21:50:13.980557Z",
          "iopub.status.busy": "2023-06-01T21:50:13.980367Z",
          "iopub.status.idle": "2023-06-01T21:50:13.984823Z",
          "shell.execute_reply": "2023-06-01T21:50:13.984369Z"
        },
        "papermill": {
          "duration": 0.009665,
          "end_time": "2023-06-01T21:50:13.986525",
          "exception": false,
          "start_time": "2023-06-01T21:50:13.976860",
          "status": "completed"
        },
        "tags": [
          "hide-input"
        ]
      },
      "outputs": [],
      "source": [
        "def repository_path(*path_parts: str, not_exist_ok: bool=False) -> str:\n",
        "    \"\"\" Get and validate a path in the modelbuild repository\n",
        "\n",
        "    Args:\n",
        "        *path_parts: the path parts that will be joined together\n",
        "            relative to the root of the repository.\n",
        "        not_exist_ok: skip validation if True\n",
        "\n",
        "    Returns:\n",
        "        the absolute path of the referenced file.\n",
        "    \"\"\"\n",
        "    if not (os.path.exists(path:=os.path.join(ROOT, \"docs\"))):\n",
        "        raise FileNotFoundError(f\"docs path {path!r} not found!\")\n",
        "    if not (os.path.exists(path:=os.path.join(ROOT, \"nbs\"))):\n",
        "        raise FileNotFoundError(f\"nbs path {path!r} not found!\")\n",
        "    if not (os.path.exists(path:=os.path.join(ROOT, \"sax\"))):\n",
        "        raise FileNotFoundError(f\"sax path {path!r} not found!\")\n",
        "\n",
        "    path = os.path.join(ROOT, *path_parts)\n",
        "    if not not_exist_ok and not os.path.exists(path):\n",
        "        raise FileNotFoundError(f\"Path {path!r} does not exist.\")\n",
        "\n",
        "    return path"
      ]
    },
    {
      "cell_type": "markdown",
      "id": "47a04994b0d5dad5",
      "metadata": {},
      "source": [
        ":::{eval-rst}\n",
        ".. autofunction:: sax.make_docs.docs_path\n",
        ":::\n"
      ]
    },
    {
      "cell_type": "code",
      "execution_count": 7,
      "id": "b0ad5b0d1fe5b890",
      "metadata": {
        "execution": {
          "iopub.execute_input": "2023-06-01T21:50:13.992814Z",
          "iopub.status.busy": "2023-06-01T21:50:13.992637Z",
          "iopub.status.idle": "2023-06-01T21:50:13.995455Z",
          "shell.execute_reply": "2023-06-01T21:50:13.994906Z"
        },
        "papermill": {
          "duration": 0.007816,
          "end_time": "2023-06-01T21:50:13.997121",
          "exception": false,
          "start_time": "2023-06-01T21:50:13.989305",
          "status": "completed"
        },
        "tags": [
          "hide-input"
        ]
      },
      "outputs": [],
      "source": [
        "def docs_path(*path_parts: str, not_exist_ok: bool=False) -> str:\n",
        "    return repository_path('docs', *path_parts, not_exist_ok=not_exist_ok)"
      ]
    },
    {
      "cell_type": "markdown",
      "id": "fb7e84a8d8faa5f4",
      "metadata": {},
      "source": [
        ":::{eval-rst}\n",
        ".. autofunction:: sax.make_docs.save_nb\n",
        ":::\n"
      ]
    },
    {
      "cell_type": "code",
      "execution_count": 8,
      "id": "f88a8bb3cf0a356c",
      "metadata": {
        "execution": {
          "iopub.execute_input": "2023-06-01T21:50:14.003482Z",
          "iopub.status.busy": "2023-06-01T21:50:14.003297Z",
          "iopub.status.idle": "2023-06-01T21:50:14.006680Z",
          "shell.execute_reply": "2023-06-01T21:50:14.006224Z"
        },
        "papermill": {
          "duration": 0.008559,
          "end_time": "2023-06-01T21:50:14.008448",
          "exception": false,
          "start_time": "2023-06-01T21:50:13.999889",
          "status": "completed"
        },
        "tags": [
          "hide-input"
        ]
      },
      "outputs": [],
      "source": [
        "def save_nb(nb: Dict, path: str) -> str:\n",
        "    \"\"\" save a dictionary as a jupyter notebook\n",
        "\n",
        "    Args:\n",
        "        nb: the dictionary to convert into an ipynb file\n",
        "        path: the path to save the notebook under\n",
        "\n",
        "    Returns:\n",
        "        the path where the notebook was saved.\n",
        "    \"\"\"\n",
        "    path = os.path.abspath(path)\n",
        "    os.makedirs(os.path.dirname(path), exist_ok=True)\n",
        "    with open(path, \"w\") as file:\n",
        "        json.dump(nb, file, indent=2)\n",
        "    return path"
      ]
    },
    {
      "cell_type": "markdown",
      "id": "212635f05d81a4cf",
      "metadata": {},
      "source": [
        ":::{eval-rst}\n",
        ".. autofunction:: sax.make_docs.strip_metadata\n",
        ":::\n"
      ]
    },
    {
      "cell_type": "code",
      "execution_count": 9,
      "id": "ca4c0e00fbeb3765",
      "metadata": {
        "execution": {
          "iopub.execute_input": "2023-06-01T21:50:14.014842Z",
          "iopub.status.busy": "2023-06-01T21:50:14.014663Z",
          "iopub.status.idle": "2023-06-01T21:50:14.018158Z",
          "shell.execute_reply": "2023-06-01T21:50:14.017708Z"
        },
        "papermill": {
          "duration": 0.008531,
          "end_time": "2023-06-01T21:50:14.019813",
          "exception": false,
          "start_time": "2023-06-01T21:50:14.011282",
          "status": "completed"
        },
        "tags": [
          "hide-input"
        ]
      },
      "outputs": [],
      "source": [
        "def strip_metadata(nb: Union[Dict, str]) -> Union[Dict,str]:\n",
        "    path = ''\n",
        "    if isinstance(nb, str):\n",
        "        path = nb\n",
        "        nb = load_nb(nb)\n",
        "    for cell in nb['cells']:\n",
        "        if not 'metadata' in cell:\n",
        "            continue\n",
        "        cell['metadata'] = {}\n",
        "    if path:\n",
        "        return save_nb(nb, path)\n",
        "    return path"
      ]
    },
    {
      "cell_type": "code",
      "execution_count": 10,
      "id": "98bf5c421337cce9",
      "metadata": {
        "execution": {
          "iopub.execute_input": "2023-06-01T21:50:14.026376Z",
          "iopub.status.busy": "2023-06-01T21:50:14.026202Z",
          "iopub.status.idle": "2023-06-01T21:50:14.028975Z",
          "shell.execute_reply": "2023-06-01T21:50:14.028542Z"
        },
        "papermill": {
          "duration": 0.008041,
          "end_time": "2023-06-01T21:50:14.030625",
          "exception": false,
          "start_time": "2023-06-01T21:50:14.022584",
          "status": "completed"
        },
        "tags": [
          "remove-cell"
        ]
      },
      "outputs": [],
      "source": [
        "def iter_code_cells(nb):\n",
        "    for cell in nb.get('cells', []):\n",
        "        if not cell.get(\"cell_type\", \"\") == \"code\":\n",
        "            continue\n",
        "        yield cell"
      ]
    },
    {
      "cell_type": "code",
      "execution_count": 11,
      "id": "6c2badfcc3aa8cc6",
      "metadata": {
        "execution": {
          "iopub.execute_input": "2023-06-01T21:50:14.037229Z",
          "iopub.status.busy": "2023-06-01T21:50:14.037051Z",
          "iopub.status.idle": "2023-06-01T21:50:14.039967Z",
          "shell.execute_reply": "2023-06-01T21:50:14.039526Z"
        },
        "papermill": {
          "duration": 0.007918,
          "end_time": "2023-06-01T21:50:14.041552",
          "exception": false,
          "start_time": "2023-06-01T21:50:14.033634",
          "status": "completed"
        },
        "tags": [
          "remove-cell"
        ]
      },
      "outputs": [],
      "source": [
        "def first_code_cell(nb):\n",
        "    try:\n",
        "        return next(iter_code_cells(nb))\n",
        "    except StopIteration:\n",
        "        return None"
      ]
    },
    {
      "cell_type": "code",
      "execution_count": 12,
      "id": "bd5f1b07bed8ea9b",
      "metadata": {
        "execution": {
          "iopub.execute_input": "2023-06-01T21:50:14.048152Z",
          "iopub.status.busy": "2023-06-01T21:50:14.047902Z",
          "iopub.status.idle": "2023-06-01T21:50:14.051189Z",
          "shell.execute_reply": "2023-06-01T21:50:14.050740Z"
        },
        "papermill": {
          "duration": 0.008351,
          "end_time": "2023-06-01T21:50:14.052750",
          "exception": false,
          "start_time": "2023-06-01T21:50:14.044399",
          "status": "completed"
        },
        "tags": [
          "remove-cell"
        ]
      },
      "outputs": [],
      "source": [
        "def get_default_exp(nb):\n",
        "    first_cell = first_code_cell(nb) or {}\n",
        "    first_source = first_cell.get('source', [])\n",
        "    first_line = \"\" if not first_source else first_source[0]\n",
        "    default_exp = first_line.split(\"default_exp\")[-1].strip()\n",
        "    return default_exp"
      ]
    },
    {
      "cell_type": "code",
      "execution_count": 13,
      "id": "2e505b9e0c41e572",
      "metadata": {
        "execution": {
          "iopub.execute_input": "2023-06-01T21:50:14.059411Z",
          "iopub.status.busy": "2023-06-01T21:50:14.059172Z",
          "iopub.status.idle": "2023-06-01T21:50:14.062448Z",
          "shell.execute_reply": "2023-06-01T21:50:14.061898Z"
        },
        "papermill": {
          "duration": 0.008036,
          "end_time": "2023-06-01T21:50:14.063745",
          "exception": false,
          "start_time": "2023-06-01T21:50:14.055709",
          "status": "completed"
        },
        "tags": [
          "remove-cell"
        ]
      },
      "outputs": [],
      "source": [
        "def iter_function_names(source):\n",
        "    for line in source:\n",
        "        if not line.startswith(\"def \"):\n",
        "            continue\n",
        "        if line.startswith(\"def _\"):\n",
        "            continue\n",
        "        yield line.split(\"def \")[1].split(\"(\")[0]"
      ]
    },
    {
      "cell_type": "markdown",
      "id": "842fb569bfa90e1c",
      "metadata": {},
      "source": [
        ":::{eval-rst}\n",
        ".. autofunction:: sax.make_docs.docs_copy_nb\n",
        ":::\n"
      ]
    },
    {
      "cell_type": "code",
      "execution_count": 14,
      "id": "f755c6b99adbd6cb",
      "metadata": {
        "execution": {
          "iopub.execute_input": "2023-06-01T21:50:14.070327Z",
          "iopub.status.busy": "2023-06-01T21:50:14.070147Z",
          "iopub.status.idle": "2023-06-01T21:50:14.078282Z",
          "shell.execute_reply": "2023-06-01T21:50:14.077766Z"
        },
        "papermill": {
          "duration": 0.013077,
          "end_time": "2023-06-01T21:50:14.079721",
          "exception": false,
          "start_time": "2023-06-01T21:50:14.066644",
          "status": "completed"
        },
        "tags": [
          "hide-input"
        ]
      },
      "outputs": [],
      "source": [
        "def docs_copy_nb(relpath, docsrelpath=None):\n",
        "    \"\"\"copy a single notebook from src to dst with modified docs metadata.\"\"\"\n",
        "    src = repository_path(relpath)\n",
        "    dst = docs_path((docsrelpath or relpath), not_exist_ok=True)\n",
        "    nb = load_nb(src)\n",
        "    nb_new = {**nb}\n",
        "    nb_new[\"cells\"] = []\n",
        "    module = get_default_exp(nb)\n",
        "\n",
        "    for cell in nb.get('cells', []):\n",
        "        if not cell.get(\"cell_type\", \"\") == \"code\":\n",
        "            nb_new[\"cells\"].append(cell)\n",
        "            continue\n",
        "            \n",
        "        cell_tags = cell.get(\"metadata\", {}).get(\"tags\", [])\n",
        "        source = cell.get(\"source\") or [\"\"]\n",
        "        line = source[0].strip()\n",
        "        \n",
        "        if not line.startswith(\"#\"):\n",
        "            nb_new[\"cells\"].append(cell)\n",
        "            continue\n",
        "            \n",
        "        keys = [k.strip() for k in line.split(\" \")]\n",
        "        keys = [k for k in keys if k in MAGIC_COMMENTS]\n",
        "        if keys:\n",
        "            del source[0]\n",
        "        for key in keys:\n",
        "            tag = MAGIC_COMMENTS[key]\n",
        "            if tag:\n",
        "                cell_tags.append(tag)\n",
        "        if len(cell_tags) > 0:\n",
        "            cell[\"metadata\"][\"tags\"] = cell_tags\n",
        "\n",
        "        if not 'remove-cell' in cell_tags:\n",
        "            for function_name in iter_function_names(source):\n",
        "                extra_cell = {\n",
        "                    \"cell_type\": \"markdown\",\n",
        "                    \"id\": secrets.token_hex(8),\n",
        "                    \"metadata\": {},\n",
        "                    \"source\": [\n",
        "                        \":::{eval-rst}\\n\",\n",
        "                        f\".. autofunction:: sax.{module}.{function_name}\\n\",\n",
        "                        \":::\\n\"\n",
        "                    ],\n",
        "                }\n",
        "                nb_new[\"cells\"].append(extra_cell)\n",
        "\n",
        "        cell[\"id\"] = secrets.token_hex(8)\n",
        "        nb_new[\"cells\"].append(cell)\n",
        "\n",
        "    os.makedirs(os.path.dirname(dst), exist_ok=True)\n",
        "    save_nb(nb_new, dst)\n",
        "    return dst"
      ]
    },
    {
      "cell_type": "markdown",
      "id": "eecfd0141963da91",
      "metadata": {},
      "source": [
        ":::{eval-rst}\n",
        ".. autofunction:: sax.make_docs.list_notebooks\n",
        ":::\n"
      ]
    },
    {
      "cell_type": "markdown",
      "id": "fc4d4148764917e9",
      "metadata": {},
      "source": [
        ":::{eval-rst}\n",
        ".. autofunction:: sax.make_docs.list_zips\n",
        ":::\n"
      ]
    },
    {
      "cell_type": "code",
      "execution_count": 15,
      "id": "0386b7546eaa0dc1",
      "metadata": {
        "execution": {
          "iopub.execute_input": "2023-06-01T21:50:14.086417Z",
          "iopub.status.busy": "2023-06-01T21:50:14.086235Z",
          "iopub.status.idle": "2023-06-01T21:50:14.089465Z",
          "shell.execute_reply": "2023-06-01T21:50:14.088927Z"
        },
        "papermill": {
          "duration": 0.008139,
          "end_time": "2023-06-01T21:50:14.090803",
          "exception": false,
          "start_time": "2023-06-01T21:50:14.082664",
          "status": "completed"
        },
        "tags": [
          "hide-input"
        ]
      },
      "outputs": [],
      "source": [
        "def list_notebooks(dir):\n",
        "    return glob.glob(os.path.join(dir, \"**/*.ipynb\"), recursive=True)\n",
        "\n",
        "def list_zips(dir):\n",
        "    return glob.glob(os.path.join(dir, \"**/*.zip\"), recursive=True)"
      ]
    },
    {
      "cell_type": "markdown",
      "id": "efd193b3107d969a",
      "metadata": {},
      "source": [
        ":::{eval-rst}\n",
        ".. autofunction:: sax.make_docs.docs_copy_dir\n",
        ":::\n"
      ]
    },
    {
      "cell_type": "code",
      "execution_count": 16,
      "id": "b091dfe02859c9ce",
      "metadata": {
        "execution": {
          "iopub.execute_input": "2023-06-01T21:50:14.097633Z",
          "iopub.status.busy": "2023-06-01T21:50:14.097435Z",
          "iopub.status.idle": "2023-06-01T21:50:14.101221Z",
          "shell.execute_reply": "2023-06-01T21:50:14.100700Z"
        },
        "papermill": {
          "duration": 0.008629,
          "end_time": "2023-06-01T21:50:14.102465",
          "exception": false,
          "start_time": "2023-06-01T21:50:14.093836",
          "status": "completed"
        },
        "tags": [
          "hide-input"
        ]
      },
      "outputs": [],
      "source": [
        "def docs_copy_dir(relpath):\n",
        "    main_src = repository_path(relpath)\n",
        "    for src in list_notebooks(main_src):\n",
        "        rel = os.path.relpath(src, repository_path())\n",
        "        docs_copy_nb(rel)\n",
        "    for src in list_zips(main_src):\n",
        "        rel = os.path.relpath(src, repository_path())\n",
        "        dst = docs_path(\"_build\", \"html\", rel, not_exist_ok=True)\n",
        "        os.makedirs(os.path.dirname(dst), exist_ok=True)\n",
        "        shutil.copy2(src, dst)"
      ]
    },
    {
      "cell_type": "markdown",
      "id": "c043e546a89c0d0d",
      "metadata": {},
      "source": [
        ":::{eval-rst}\n",
        ".. autofunction:: sax.make_docs.docs_copy_simulations\n",
        ":::\n"
      ]
    },
    {
      "cell_type": "code",
      "execution_count": 17,
      "id": "34ef1e87099beb71",
      "metadata": {
        "execution": {
          "iopub.execute_input": "2023-06-01T21:50:14.109192Z",
          "iopub.status.busy": "2023-06-01T21:50:14.109013Z",
          "iopub.status.idle": "2023-06-01T21:50:14.114124Z",
          "shell.execute_reply": "2023-06-01T21:50:14.113586Z"
        },
        "papermill": {
          "duration": 0.009951,
          "end_time": "2023-06-01T21:50:14.115354",
          "exception": false,
          "start_time": "2023-06-01T21:50:14.105403",
          "status": "completed"
        },
        "tags": [
          "hide-input"
        ]
      },
      "outputs": [],
      "source": [
        "def docs_copy_simulations():\n",
        "    with_results, without_results = {}, {}\n",
        "    for fn in os.listdir(simulations_path()):\n",
        "        sim, ext = os.path.splitext(fn)\n",
        "        if ext != \".ipynb\":\n",
        "            continue\n",
        "        try:\n",
        "            with_results[sim] = get_nominal_result(sim)\n",
        "        except FileNotFoundError:\n",
        "            without_results[sim] = {'hash': None, 'params': get_default_params(simulations_path(f\"{sim}.ipynb\"))}\n",
        "        except ValueError:\n",
        "            without_results[sim] = {'hash': None, 'params': get_default_params(simulations_path(f\"{sim}.ipynb\"))}\n",
        "            #raise\n",
        "        \n",
        "    for k, r in with_results.items():\n",
        "        docs_copy_nb(f\"results/{k}/{r['hash']}/_simulated.ipynb\", f\"simulations/{k}.ipynb\")\n",
        "        \n",
        "    for k, r in without_results.items():\n",
        "        docs_copy_nb(f\"simulations/{k}.ipynb\", f\"simulations/{k}.ipynb\")\n",
        "        \n",
        "    shutil.copytree(simulations_path(\"img\"), docs_path(\"_build\", \"html\", \"simulations\", \"img\", not_exist_ok=True), dirs_exist_ok=True)\n",
        "    return with_results, without_results"
      ]
    },
    {
      "cell_type": "markdown",
      "id": "fd2ff68da47b9c61",
      "metadata": {},
      "source": [
        ":::{eval-rst}\n",
        ".. autofunction:: sax.make_docs.get_toc_part\n",
        ":::\n"
      ]
    },
    {
      "cell_type": "code",
      "execution_count": 18,
      "id": "68ed64a455e0868b",
      "metadata": {
        "execution": {
          "iopub.execute_input": "2023-06-01T21:50:14.122304Z",
          "iopub.status.busy": "2023-06-01T21:50:14.122126Z",
          "iopub.status.idle": "2023-06-01T21:50:14.125479Z",
          "shell.execute_reply": "2023-06-01T21:50:14.124899Z"
        },
        "papermill": {
          "duration": 0.00822,
          "end_time": "2023-06-01T21:50:14.126710",
          "exception": false,
          "start_time": "2023-06-01T21:50:14.118490",
          "status": "completed"
        },
        "tags": [
          "hide-input"
        ]
      },
      "outputs": [],
      "source": [
        "def get_toc_part(toc, caption):\n",
        "    parts = [p for p in toc[\"parts\"] if caption == p[\"caption\"]]\n",
        "    try:\n",
        "        return parts[0]\n",
        "    except IndexError:\n",
        "        raise ValueError(f\"No TOC part with caption {caption!r} found.\")"
      ]
    },
    {
      "cell_type": "markdown",
      "id": "02d4f6e11528feae",
      "metadata": {},
      "source": [
        ":::{eval-rst}\n",
        ".. autofunction:: sax.make_docs.make_docs\n",
        ":::\n"
      ]
    },
    {
      "cell_type": "code",
      "execution_count": 19,
      "id": "b365069ada2be530",
      "metadata": {
        "execution": {
          "iopub.execute_input": "2023-06-01T21:50:14.133618Z",
          "iopub.status.busy": "2023-06-01T21:50:14.133423Z",
          "iopub.status.idle": "2023-06-01T21:50:14.136577Z",
          "shell.execute_reply": "2023-06-01T21:50:14.136052Z"
        },
        "papermill": {
          "duration": 0.008078,
          "end_time": "2023-06-01T21:50:14.137896",
          "exception": false,
          "start_time": "2023-06-01T21:50:14.129818",
          "status": "completed"
        },
        "tags": [
          "hide-input"
        ]
      },
      "outputs": [],
      "source": [
        "def make_docs():\n",
        "    docs_copy_nb(\"index.ipynb\")\n",
        "    docs_copy_dir(\"nbs\")\n",
        "    docs_copy_dir(\"examples\")\n",
        "    os.chdir(docs_path())\n",
        "    subprocess.check_call([sys.executable.replace(\"python\", \"jupyter-book\"), \"build\", \".\"])"
      ]
    },
    {
      "cell_type": "code",
      "execution_count": 20,
      "id": "71a1c13dd9812949",
      "metadata": {
        "execution": {
          "iopub.execute_input": "2023-06-01T21:50:14.144908Z",
          "iopub.status.busy": "2023-06-01T21:50:14.144730Z",
          "iopub.status.idle": "2023-06-01T21:50:14.147493Z",
          "shell.execute_reply": "2023-06-01T21:50:14.146962Z"
        },
        "papermill": {
          "duration": 0.007636,
          "end_time": "2023-06-01T21:50:14.148715",
          "exception": false,
          "start_time": "2023-06-01T21:50:14.141079",
          "status": "completed"
        },
        "tags": [
          "hide-input"
        ]
      },
      "outputs": [],
      "source": [
        "if __name__ == '__main__' and not IN_IPYTHON:\n",
        "    make_docs()"
      ]
    }
  ],
  "metadata": {
    "kernelspec": {
      "display_name": "sax",
      "language": "python",
      "name": "sax"
    },
    "language_info": {
      "codemirror_mode": {
        "name": "ipython",
        "version": 3
      },
      "file_extension": ".py",
      "mimetype": "text/x-python",
      "name": "python",
      "nbconvert_exporter": "python",
      "pygments_lexer": "ipython3",
      "version": "3.11.3"
    },
    "papermill": {
      "default_parameters": {},
      "duration": 1.859132,
      "end_time": "2023-06-01T21:50:14.369091",
      "environment_variables": {},
      "exception": null,
      "input_path": "./nbs/98_make_docs.ipynb",
      "output_path": "./nbs/98_make_docs.ipynb",
      "parameters": {},
      "start_time": "2023-06-01T21:50:12.509959",
      "version": "2.3.4"
    }
  },
  "nbformat": 4,
  "nbformat_minor": 5
}