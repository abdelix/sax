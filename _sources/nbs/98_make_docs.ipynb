{
  "cells": [
    {
      "cell_type": "code",
      "execution_count": 1,
      "id": "a074a937c5f35343",
      "metadata": {
        "execution": {
          "iopub.execute_input": "2023-09-02T18:59:11.336011Z",
          "iopub.status.busy": "2023-09-02T18:59:11.335529Z",
          "iopub.status.idle": "2023-09-02T18:59:11.338728Z",
          "shell.execute_reply": "2023-09-02T18:59:11.338180Z"
        },
        "papermill": {
          "duration": 0.009119,
          "end_time": "2023-09-02T18:59:11.339934",
          "exception": false,
          "start_time": "2023-09-02T18:59:11.330815",
          "status": "completed"
        },
        "tags": [
          "remove-cell"
        ]
      },
      "outputs": [],
      "source": []
    },
    {
      "cell_type": "markdown",
      "id": "7f878cbc-3e90-4ceb-8633-79250de6d6b8",
      "metadata": {
        "papermill": {
          "duration": 0.002887,
          "end_time": "2023-09-02T18:59:11.345892",
          "exception": false,
          "start_time": "2023-09-02T18:59:11.343005",
          "status": "completed"
        },
        "tags": []
      },
      "source": [
        "# SAX make docs\n",
        "> CLI: build jupyter-books based docs"
      ]
    },
    {
      "cell_type": "code",
      "execution_count": 2,
      "id": "5bb6cb7fb93fedf1",
      "metadata": {
        "execution": {
          "iopub.execute_input": "2023-09-02T18:59:11.352247Z",
          "iopub.status.busy": "2023-09-02T18:59:11.351868Z",
          "iopub.status.idle": "2023-09-02T18:59:11.358394Z",
          "shell.execute_reply": "2023-09-02T18:59:11.357910Z"
        },
        "papermill": {
          "duration": 0.010968,
          "end_time": "2023-09-02T18:59:11.359527",
          "exception": false,
          "start_time": "2023-09-02T18:59:11.348559",
          "status": "completed"
        },
        "tags": [
          "remove-cell"
        ]
      },
      "outputs": [],
      "source": [
        "from __future__ import annotations\n",
        "\n",
        "import glob\n",
        "import json\n",
        "import os\n",
        "import re\n",
        "import secrets\n",
        "import shutil\n",
        "import subprocess\n",
        "import sys\n",
        "from typing import Dict, Union\n",
        "\n",
        "from fastcore.imports import IN_IPYTHON"
      ]
    },
    {
      "cell_type": "code",
      "execution_count": 3,
      "id": "0308580d7bdb7f4c",
      "metadata": {
        "execution": {
          "iopub.execute_input": "2023-09-02T18:59:11.366074Z",
          "iopub.status.busy": "2023-09-02T18:59:11.365555Z",
          "iopub.status.idle": "2023-09-02T18:59:11.368935Z",
          "shell.execute_reply": "2023-09-02T18:59:11.368476Z"
        },
        "papermill": {
          "duration": 0.007792,
          "end_time": "2023-09-02T18:59:11.370094",
          "exception": false,
          "start_time": "2023-09-02T18:59:11.362302",
          "status": "completed"
        },
        "tags": [
          "hide-input"
        ]
      },
      "outputs": [],
      "source": [
        "MAGIC_COMMENTS = {\n",
        "    \"default_exp\": \"remove-cell\",\n",
        "    \"exporti\": \"remove-cell\",\n",
        "    \"export\": \"hide-input\",\n",
        "    \"exports\": None,\n",
        "    \"hide\": \"remove-cell\",\n",
        "    \"hide_input\": \"remove-input\",\n",
        "    \"hide_output\": \"remove-output\",\n",
        "    \"collapse_input\": \"hide-input\",\n",
        "    \"collapse_output\": \"hide-output\",\n",
        "}"
      ]
    },
    {
      "cell_type": "code",
      "execution_count": 4,
      "id": "39983d4a9222bac6",
      "metadata": {
        "execution": {
          "iopub.execute_input": "2023-09-02T18:59:11.376651Z",
          "iopub.status.busy": "2023-09-02T18:59:11.376224Z",
          "iopub.status.idle": "2023-09-02T18:59:11.379110Z",
          "shell.execute_reply": "2023-09-02T18:59:11.378598Z"
        },
        "papermill": {
          "duration": 0.007449,
          "end_time": "2023-09-02T18:59:11.380221",
          "exception": false,
          "start_time": "2023-09-02T18:59:11.372772",
          "status": "completed"
        },
        "tags": [
          "hide-input"
        ]
      },
      "outputs": [],
      "source": [
        "if IN_IPYTHON:\n",
        "    ROOT = os.path.abspath('..')\n",
        "else:\n",
        "    ROOT = os.path.abspath('.')"
      ]
    },
    {
      "cell_type": "markdown",
      "id": "c50333e273e9ea14",
      "metadata": {},
      "source": [
        ":::{eval-rst}\n",
        ".. autofunction:: sax.make_docs.load_nb\n",
        ":::\n"
      ]
    },
    {
      "cell_type": "code",
      "execution_count": 5,
      "id": "9a5ab898de675161",
      "metadata": {
        "execution": {
          "iopub.execute_input": "2023-09-02T18:59:11.387673Z",
          "iopub.status.busy": "2023-09-02T18:59:11.387210Z",
          "iopub.status.idle": "2023-09-02T18:59:11.390575Z",
          "shell.execute_reply": "2023-09-02T18:59:11.390049Z"
        },
        "papermill": {
          "duration": 0.007792,
          "end_time": "2023-09-02T18:59:11.391625",
          "exception": false,
          "start_time": "2023-09-02T18:59:11.383833",
          "status": "completed"
        },
        "tags": [
          "hide-input"
        ]
      },
      "outputs": [],
      "source": [
        "def load_nb(path: str) -> Dict:\n",
        "    \"\"\" load a jupyter notebook as dictionary\n",
        "\n",
        "    Args:\n",
        "        path: the path of the notebook to load\n",
        "\n",
        "    Returns:\n",
        "        the notebook represented as a dictionary\n",
        "    \"\"\"\n",
        "    with open(path, \"r\") as file:\n",
        "        nb = json.load(file)\n",
        "    return nb"
      ]
    },
    {
      "cell_type": "markdown",
      "id": "31168d8d00570452",
      "metadata": {},
      "source": [
        ":::{eval-rst}\n",
        ".. autofunction:: sax.make_docs.repository_path\n",
        ":::\n"
      ]
    },
    {
      "cell_type": "code",
      "execution_count": 6,
      "id": "6a6dcbda045178fa",
      "metadata": {
        "execution": {
          "iopub.execute_input": "2023-09-02T18:59:11.398209Z",
          "iopub.status.busy": "2023-09-02T18:59:11.397758Z",
          "iopub.status.idle": "2023-09-02T18:59:11.402240Z",
          "shell.execute_reply": "2023-09-02T18:59:11.401700Z"
        },
        "papermill": {
          "duration": 0.008896,
          "end_time": "2023-09-02T18:59:11.403286",
          "exception": false,
          "start_time": "2023-09-02T18:59:11.394390",
          "status": "completed"
        },
        "tags": [
          "hide-input"
        ]
      },
      "outputs": [],
      "source": [
        "def repository_path(*path_parts: str, not_exist_ok: bool=False) -> str:\n",
        "    \"\"\" Get and validate a path in the modelbuild repository\n",
        "\n",
        "    Args:\n",
        "        *path_parts: the path parts that will be joined together\n",
        "            relative to the root of the repository.\n",
        "        not_exist_ok: skip validation if True\n",
        "\n",
        "    Returns:\n",
        "        the absolute path of the referenced file.\n",
        "    \"\"\"\n",
        "    if not (os.path.exists(path:=os.path.join(ROOT, \"docs\"))):\n",
        "        raise FileNotFoundError(f\"docs path {path!r} not found!\")\n",
        "    if not (os.path.exists(path:=os.path.join(ROOT, \"nbs\"))):\n",
        "        raise FileNotFoundError(f\"nbs path {path!r} not found!\")\n",
        "    if not (os.path.exists(path:=os.path.join(ROOT, \"sax\"))):\n",
        "        raise FileNotFoundError(f\"sax path {path!r} not found!\")\n",
        "\n",
        "    path = os.path.join(ROOT, *path_parts)\n",
        "    if not not_exist_ok and not os.path.exists(path):\n",
        "        raise FileNotFoundError(f\"Path {path!r} does not exist.\")\n",
        "\n",
        "    return path"
      ]
    },
    {
      "cell_type": "markdown",
      "id": "309b13c147d6f0f3",
      "metadata": {},
      "source": [
        ":::{eval-rst}\n",
        ".. autofunction:: sax.make_docs.docs_path\n",
        ":::\n"
      ]
    },
    {
      "cell_type": "code",
      "execution_count": 7,
      "id": "0d8da9b2764a9e6d",
      "metadata": {
        "execution": {
          "iopub.execute_input": "2023-09-02T18:59:11.431606Z",
          "iopub.status.busy": "2023-09-02T18:59:11.431205Z",
          "iopub.status.idle": "2023-09-02T18:59:11.434260Z",
          "shell.execute_reply": "2023-09-02T18:59:11.433746Z"
        },
        "papermill": {
          "duration": 0.007785,
          "end_time": "2023-09-02T18:59:11.435391",
          "exception": false,
          "start_time": "2023-09-02T18:59:11.427606",
          "status": "completed"
        },
        "tags": [
          "hide-input"
        ]
      },
      "outputs": [],
      "source": [
        "def docs_path(*path_parts: str, not_exist_ok: bool=False) -> str:\n",
        "    return repository_path('docs', *path_parts, not_exist_ok=not_exist_ok)"
      ]
    },
    {
      "cell_type": "markdown",
      "id": "fb3e4d18766491d8",
      "metadata": {},
      "source": [
        ":::{eval-rst}\n",
        ".. autofunction:: sax.make_docs.save_nb\n",
        ":::\n"
      ]
    },
    {
      "cell_type": "code",
      "execution_count": 8,
      "id": "8673ebfed3a0cbe6",
      "metadata": {
        "execution": {
          "iopub.execute_input": "2023-09-02T18:59:11.442033Z",
          "iopub.status.busy": "2023-09-02T18:59:11.441580Z",
          "iopub.status.idle": "2023-09-02T18:59:11.445250Z",
          "shell.execute_reply": "2023-09-02T18:59:11.444752Z"
        },
        "papermill": {
          "duration": 0.008083,
          "end_time": "2023-09-02T18:59:11.446309",
          "exception": false,
          "start_time": "2023-09-02T18:59:11.438226",
          "status": "completed"
        },
        "tags": [
          "hide-input"
        ]
      },
      "outputs": [],
      "source": [
        "def save_nb(nb: Dict, path: str) -> str:\n",
        "    \"\"\" save a dictionary as a jupyter notebook\n",
        "\n",
        "    Args:\n",
        "        nb: the dictionary to convert into an ipynb file\n",
        "        path: the path to save the notebook under\n",
        "\n",
        "    Returns:\n",
        "        the path where the notebook was saved.\n",
        "    \"\"\"\n",
        "    path = os.path.abspath(path)\n",
        "    os.makedirs(os.path.dirname(path), exist_ok=True)\n",
        "    with open(path, \"w\") as file:\n",
        "        json.dump(nb, file, indent=2)\n",
        "    return path"
      ]
    },
    {
      "cell_type": "markdown",
      "id": "8db92b0a09791575",
      "metadata": {},
      "source": [
        ":::{eval-rst}\n",
        ".. autofunction:: sax.make_docs.strip_metadata\n",
        ":::\n"
      ]
    },
    {
      "cell_type": "code",
      "execution_count": 9,
      "id": "e50cfd46f71f6601",
      "metadata": {
        "execution": {
          "iopub.execute_input": "2023-09-02T18:59:11.453291Z",
          "iopub.status.busy": "2023-09-02T18:59:11.452859Z",
          "iopub.status.idle": "2023-09-02T18:59:11.456484Z",
          "shell.execute_reply": "2023-09-02T18:59:11.455976Z"
        },
        "papermill": {
          "duration": 0.008199,
          "end_time": "2023-09-02T18:59:11.457541",
          "exception": false,
          "start_time": "2023-09-02T18:59:11.449342",
          "status": "completed"
        },
        "tags": [
          "hide-input"
        ]
      },
      "outputs": [],
      "source": [
        "def strip_metadata(nb: Union[Dict, str]) -> Union[Dict,str]:\n",
        "    path = ''\n",
        "    if isinstance(nb, str):\n",
        "        path = nb\n",
        "        nb = load_nb(nb)\n",
        "    for cell in nb['cells']:\n",
        "        if not 'metadata' in cell:\n",
        "            continue\n",
        "        cell['metadata'] = {}\n",
        "    if path:\n",
        "        return save_nb(nb, path)\n",
        "    return path"
      ]
    },
    {
      "cell_type": "code",
      "execution_count": 10,
      "id": "b0e74182d5990400",
      "metadata": {
        "execution": {
          "iopub.execute_input": "2023-09-02T18:59:11.464209Z",
          "iopub.status.busy": "2023-09-02T18:59:11.463797Z",
          "iopub.status.idle": "2023-09-02T18:59:11.466806Z",
          "shell.execute_reply": "2023-09-02T18:59:11.466316Z"
        },
        "papermill": {
          "duration": 0.0075,
          "end_time": "2023-09-02T18:59:11.467899",
          "exception": false,
          "start_time": "2023-09-02T18:59:11.460399",
          "status": "completed"
        },
        "tags": [
          "remove-cell"
        ]
      },
      "outputs": [],
      "source": [
        "def iter_code_cells(nb):\n",
        "    for cell in nb.get('cells', []):\n",
        "        if not cell.get(\"cell_type\", \"\") == \"code\":\n",
        "            continue\n",
        "        yield cell"
      ]
    },
    {
      "cell_type": "code",
      "execution_count": 11,
      "id": "fcdb13110847453c",
      "metadata": {
        "execution": {
          "iopub.execute_input": "2023-09-02T18:59:11.474677Z",
          "iopub.status.busy": "2023-09-02T18:59:11.474259Z",
          "iopub.status.idle": "2023-09-02T18:59:11.477120Z",
          "shell.execute_reply": "2023-09-02T18:59:11.476611Z"
        },
        "papermill": {
          "duration": 0.007366,
          "end_time": "2023-09-02T18:59:11.478214",
          "exception": false,
          "start_time": "2023-09-02T18:59:11.470848",
          "status": "completed"
        },
        "tags": [
          "remove-cell"
        ]
      },
      "outputs": [],
      "source": [
        "def first_code_cell(nb):\n",
        "    try:\n",
        "        return next(iter_code_cells(nb))\n",
        "    except StopIteration:\n",
        "        return None"
      ]
    },
    {
      "cell_type": "code",
      "execution_count": 12,
      "id": "eda54ad8a5e6192e",
      "metadata": {
        "execution": {
          "iopub.execute_input": "2023-09-02T18:59:11.484946Z",
          "iopub.status.busy": "2023-09-02T18:59:11.484594Z",
          "iopub.status.idle": "2023-09-02T18:59:11.487810Z",
          "shell.execute_reply": "2023-09-02T18:59:11.487320Z"
        },
        "papermill": {
          "duration": 0.007728,
          "end_time": "2023-09-02T18:59:11.488861",
          "exception": false,
          "start_time": "2023-09-02T18:59:11.481133",
          "status": "completed"
        },
        "tags": [
          "remove-cell"
        ]
      },
      "outputs": [],
      "source": [
        "def get_default_exp(nb):\n",
        "    first_cell = first_code_cell(nb) or {}\n",
        "    first_source = first_cell.get('source', [])\n",
        "    first_line = \"\" if not first_source else first_source[0]\n",
        "    default_exp = first_line.split(\"default_exp\")[-1].strip()\n",
        "    return default_exp"
      ]
    },
    {
      "cell_type": "code",
      "execution_count": 13,
      "id": "e668d93bcf24eb95",
      "metadata": {
        "execution": {
          "iopub.execute_input": "2023-09-02T18:59:11.495762Z",
          "iopub.status.busy": "2023-09-02T18:59:11.495338Z",
          "iopub.status.idle": "2023-09-02T18:59:11.498489Z",
          "shell.execute_reply": "2023-09-02T18:59:11.498000Z"
        },
        "papermill": {
          "duration": 0.007739,
          "end_time": "2023-09-02T18:59:11.499608",
          "exception": false,
          "start_time": "2023-09-02T18:59:11.491869",
          "status": "completed"
        },
        "tags": [
          "remove-cell"
        ]
      },
      "outputs": [],
      "source": [
        "def iter_function_names(source):\n",
        "    for line in source:\n",
        "        if not line.startswith(\"def \"):\n",
        "            continue\n",
        "        if line.startswith(\"def _\"):\n",
        "            continue\n",
        "        yield line.split(\"def \")[1].split(\"(\")[0]"
      ]
    },
    {
      "cell_type": "markdown",
      "id": "9e683525ff0c7ed0",
      "metadata": {},
      "source": [
        ":::{eval-rst}\n",
        ".. autofunction:: sax.make_docs.docs_copy_nb\n",
        ":::\n"
      ]
    },
    {
      "cell_type": "code",
      "execution_count": 14,
      "id": "22dde2a5bc7b9873",
      "metadata": {
        "execution": {
          "iopub.execute_input": "2023-09-02T18:59:11.506371Z",
          "iopub.status.busy": "2023-09-02T18:59:11.506208Z",
          "iopub.status.idle": "2023-09-02T18:59:11.512846Z",
          "shell.execute_reply": "2023-09-02T18:59:11.512301Z"
        },
        "papermill": {
          "duration": 0.011407,
          "end_time": "2023-09-02T18:59:11.513997",
          "exception": false,
          "start_time": "2023-09-02T18:59:11.502590",
          "status": "completed"
        },
        "tags": [
          "hide-input"
        ]
      },
      "outputs": [],
      "source": [
        "def docs_copy_nb(relpath, docsrelpath=None):\n",
        "    \"\"\"copy a single notebook from src to dst with modified docs metadata.\"\"\"\n",
        "    src = repository_path(relpath)\n",
        "    dst = docs_path((docsrelpath or relpath), not_exist_ok=True)\n",
        "    nb = load_nb(src)\n",
        "    nb_new = {**nb}\n",
        "    nb_new[\"cells\"] = []\n",
        "    module = get_default_exp(nb)\n",
        "\n",
        "    for cell in nb.get('cells', []):\n",
        "        if not cell.get(\"cell_type\", \"\") == \"code\":\n",
        "            nb_new[\"cells\"].append(cell)\n",
        "            continue\n",
        "            \n",
        "        cell_tags = cell.get(\"metadata\", {}).get(\"tags\", [])\n",
        "        source = cell.get(\"source\") or [\"\"]\n",
        "        line = source[0].strip()\n",
        "        \n",
        "        if not line.startswith(\"#\"):\n",
        "            nb_new[\"cells\"].append(cell)\n",
        "            continue\n",
        "            \n",
        "        keys = [k.strip() for k in line.split(\" \")]\n",
        "        keys = [k for k in keys if k in MAGIC_COMMENTS]\n",
        "        if keys:\n",
        "            del source[0]\n",
        "        for key in keys:\n",
        "            tag = MAGIC_COMMENTS[key]\n",
        "            if tag:\n",
        "                cell_tags.append(tag)\n",
        "        if len(cell_tags) > 0:\n",
        "            cell[\"metadata\"][\"tags\"] = cell_tags\n",
        "\n",
        "        if not 'remove-cell' in cell_tags:\n",
        "            for function_name in iter_function_names(source):\n",
        "                extra_cell = {\n",
        "                    \"cell_type\": \"markdown\",\n",
        "                    \"id\": secrets.token_hex(8),\n",
        "                    \"metadata\": {},\n",
        "                    \"source\": [\n",
        "                        \":::{eval-rst}\\n\",\n",
        "                        f\".. autofunction:: sax.{module}.{function_name}\\n\",\n",
        "                        \":::\\n\"\n",
        "                    ],\n",
        "                }\n",
        "                nb_new[\"cells\"].append(extra_cell)\n",
        "\n",
        "        cell[\"id\"] = secrets.token_hex(8)\n",
        "        nb_new[\"cells\"].append(cell)\n",
        "\n",
        "    os.makedirs(os.path.dirname(dst), exist_ok=True)\n",
        "    save_nb(nb_new, dst)\n",
        "    return dst"
      ]
    },
    {
      "cell_type": "markdown",
      "id": "1e466e9915839985",
      "metadata": {},
      "source": [
        ":::{eval-rst}\n",
        ".. autofunction:: sax.make_docs.list_notebooks\n",
        ":::\n"
      ]
    },
    {
      "cell_type": "markdown",
      "id": "d149961877e3f5a4",
      "metadata": {},
      "source": [
        ":::{eval-rst}\n",
        ".. autofunction:: sax.make_docs.list_zips\n",
        ":::\n"
      ]
    },
    {
      "cell_type": "code",
      "execution_count": 15,
      "id": "5f1a046d065a0488",
      "metadata": {
        "execution": {
          "iopub.execute_input": "2023-09-02T18:59:11.521014Z",
          "iopub.status.busy": "2023-09-02T18:59:11.520585Z",
          "iopub.status.idle": "2023-09-02T18:59:11.523751Z",
          "shell.execute_reply": "2023-09-02T18:59:11.523240Z"
        },
        "papermill": {
          "duration": 0.00777,
          "end_time": "2023-09-02T18:59:11.524822",
          "exception": false,
          "start_time": "2023-09-02T18:59:11.517052",
          "status": "completed"
        },
        "tags": [
          "hide-input"
        ]
      },
      "outputs": [],
      "source": [
        "def list_notebooks(dir):\n",
        "    return glob.glob(os.path.join(dir, \"**/*.ipynb\"), recursive=True)\n",
        "\n",
        "def list_zips(dir):\n",
        "    return glob.glob(os.path.join(dir, \"**/*.zip\"), recursive=True)"
      ]
    },
    {
      "cell_type": "markdown",
      "id": "5839000e0fa8ce26",
      "metadata": {},
      "source": [
        ":::{eval-rst}\n",
        ".. autofunction:: sax.make_docs.docs_copy_dir\n",
        ":::\n"
      ]
    },
    {
      "cell_type": "code",
      "execution_count": 16,
      "id": "a35af6e29874f69b",
      "metadata": {
        "execution": {
          "iopub.execute_input": "2023-09-02T18:59:11.531820Z",
          "iopub.status.busy": "2023-09-02T18:59:11.531400Z",
          "iopub.status.idle": "2023-09-02T18:59:11.535059Z",
          "shell.execute_reply": "2023-09-02T18:59:11.534552Z"
        },
        "papermill": {
          "duration": 0.008274,
          "end_time": "2023-09-02T18:59:11.536148",
          "exception": false,
          "start_time": "2023-09-02T18:59:11.527874",
          "status": "completed"
        },
        "tags": [
          "hide-input"
        ]
      },
      "outputs": [],
      "source": [
        "def docs_copy_dir(relpath):\n",
        "    main_src = repository_path(relpath)\n",
        "    for src in list_notebooks(main_src):\n",
        "        rel = os.path.relpath(src, repository_path())\n",
        "        docs_copy_nb(rel)\n",
        "    for src in list_zips(main_src):\n",
        "        rel = os.path.relpath(src, repository_path())\n",
        "        dst = docs_path(\"_build\", \"html\", rel, not_exist_ok=True)\n",
        "        os.makedirs(os.path.dirname(dst), exist_ok=True)\n",
        "        shutil.copy2(src, dst)"
      ]
    },
    {
      "cell_type": "markdown",
      "id": "b403a05591b7cb5e",
      "metadata": {},
      "source": [
        ":::{eval-rst}\n",
        ".. autofunction:: sax.make_docs.docs_copy_simulations\n",
        ":::\n"
      ]
    },
    {
      "cell_type": "code",
      "execution_count": 17,
      "id": "67020332c445549e",
      "metadata": {
        "execution": {
          "iopub.execute_input": "2023-09-02T18:59:11.543656Z",
          "iopub.status.busy": "2023-09-02T18:59:11.543231Z",
          "iopub.status.idle": "2023-09-02T18:59:11.548240Z",
          "shell.execute_reply": "2023-09-02T18:59:11.547731Z"
        },
        "papermill": {
          "duration": 0.009987,
          "end_time": "2023-09-02T18:59:11.549263",
          "exception": false,
          "start_time": "2023-09-02T18:59:11.539276",
          "status": "completed"
        },
        "tags": [
          "hide-input"
        ]
      },
      "outputs": [],
      "source": [
        "def docs_copy_simulations():\n",
        "    with_results, without_results = {}, {}\n",
        "    for fn in os.listdir(simulations_path()):\n",
        "        sim, ext = os.path.splitext(fn)\n",
        "        if ext != \".ipynb\":\n",
        "            continue\n",
        "        try:\n",
        "            with_results[sim] = get_nominal_result(sim)\n",
        "        except FileNotFoundError:\n",
        "            without_results[sim] = {'hash': None, 'params': get_default_params(simulations_path(f\"{sim}.ipynb\"))}\n",
        "        except ValueError:\n",
        "            without_results[sim] = {'hash': None, 'params': get_default_params(simulations_path(f\"{sim}.ipynb\"))}\n",
        "            #raise\n",
        "        \n",
        "    for k, r in with_results.items():\n",
        "        docs_copy_nb(f\"results/{k}/{r['hash']}/_simulated.ipynb\", f\"simulations/{k}.ipynb\")\n",
        "        \n",
        "    for k, r in without_results.items():\n",
        "        docs_copy_nb(f\"simulations/{k}.ipynb\", f\"simulations/{k}.ipynb\")\n",
        "        \n",
        "    shutil.copytree(simulations_path(\"img\"), docs_path(\"_build\", \"html\", \"simulations\", \"img\", not_exist_ok=True), dirs_exist_ok=True)\n",
        "    return with_results, without_results"
      ]
    },
    {
      "cell_type": "markdown",
      "id": "5c6fd6761c271b8f",
      "metadata": {},
      "source": [
        ":::{eval-rst}\n",
        ".. autofunction:: sax.make_docs.get_toc_part\n",
        ":::\n"
      ]
    },
    {
      "cell_type": "code",
      "execution_count": 18,
      "id": "7baa5ead411cab74",
      "metadata": {
        "execution": {
          "iopub.execute_input": "2023-09-02T18:59:11.556495Z",
          "iopub.status.busy": "2023-09-02T18:59:11.556173Z",
          "iopub.status.idle": "2023-09-02T18:59:11.559320Z",
          "shell.execute_reply": "2023-09-02T18:59:11.558829Z"
        },
        "papermill": {
          "duration": 0.007921,
          "end_time": "2023-09-02T18:59:11.560397",
          "exception": false,
          "start_time": "2023-09-02T18:59:11.552476",
          "status": "completed"
        },
        "tags": [
          "hide-input"
        ]
      },
      "outputs": [],
      "source": [
        "def get_toc_part(toc, caption):\n",
        "    parts = [p for p in toc[\"parts\"] if caption == p[\"caption\"]]\n",
        "    try:\n",
        "        return parts[0]\n",
        "    except IndexError:\n",
        "        raise ValueError(f\"No TOC part with caption {caption!r} found.\")"
      ]
    },
    {
      "cell_type": "markdown",
      "id": "86d7f9ba5ee64041",
      "metadata": {},
      "source": [
        ":::{eval-rst}\n",
        ".. autofunction:: sax.make_docs.make_docs\n",
        ":::\n"
      ]
    },
    {
      "cell_type": "code",
      "execution_count": 19,
      "id": "32c6179d2efbe1e2",
      "metadata": {
        "execution": {
          "iopub.execute_input": "2023-09-02T18:59:11.567660Z",
          "iopub.status.busy": "2023-09-02T18:59:11.567204Z",
          "iopub.status.idle": "2023-09-02T18:59:11.570311Z",
          "shell.execute_reply": "2023-09-02T18:59:11.569815Z"
        },
        "papermill": {
          "duration": 0.007803,
          "end_time": "2023-09-02T18:59:11.571377",
          "exception": false,
          "start_time": "2023-09-02T18:59:11.563574",
          "status": "completed"
        },
        "tags": [
          "hide-input"
        ]
      },
      "outputs": [],
      "source": [
        "def make_docs():\n",
        "    docs_copy_nb(\"index.ipynb\")\n",
        "    docs_copy_dir(\"nbs\")\n",
        "    docs_copy_dir(\"examples\")\n",
        "    os.chdir(docs_path())\n",
        "    subprocess.check_call([sys.executable.replace(\"python\", \"jupyter-book\"), \"build\", \".\"])"
      ]
    },
    {
      "cell_type": "code",
      "execution_count": 20,
      "id": "d1dd862d0729f400",
      "metadata": {
        "execution": {
          "iopub.execute_input": "2023-09-02T18:59:11.578527Z",
          "iopub.status.busy": "2023-09-02T18:59:11.578130Z",
          "iopub.status.idle": "2023-09-02T18:59:11.580748Z",
          "shell.execute_reply": "2023-09-02T18:59:11.580269Z"
        },
        "papermill": {
          "duration": 0.007259,
          "end_time": "2023-09-02T18:59:11.581798",
          "exception": false,
          "start_time": "2023-09-02T18:59:11.574539",
          "status": "completed"
        },
        "tags": [
          "hide-input"
        ]
      },
      "outputs": [],
      "source": [
        "if __name__ == '__main__' and not IN_IPYTHON:\n",
        "    make_docs()"
      ]
    }
  ],
  "metadata": {
    "kernelspec": {
      "display_name": "sax",
      "language": "python",
      "name": "sax"
    },
    "language_info": {
      "codemirror_mode": {
        "name": "ipython",
        "version": 3
      },
      "file_extension": ".py",
      "mimetype": "text/x-python",
      "name": "python",
      "nbconvert_exporter": "python",
      "pygments_lexer": "ipython3",
      "version": "3.11.5"
    },
    "papermill": {
      "default_parameters": {},
      "duration": 1.68769,
      "end_time": "2023-09-02T18:59:11.700630",
      "environment_variables": {},
      "exception": null,
      "input_path": "./nbs/98_make_docs.ipynb",
      "output_path": "./nbs/98_make_docs.ipynb",
      "parameters": {},
      "start_time": "2023-09-02T18:59:10.012940",
      "version": "2.4.0"
    }
  },
  "nbformat": 4,
  "nbformat_minor": 5
}