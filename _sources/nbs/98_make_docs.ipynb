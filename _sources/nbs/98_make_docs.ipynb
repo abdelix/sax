{
  "cells": [
    {
      "cell_type": "code",
      "execution_count": 1,
      "id": "40cd4b30862cf91d",
      "metadata": {
        "execution": {
          "iopub.execute_input": "2023-09-01T18:12:08.205704Z",
          "iopub.status.busy": "2023-09-01T18:12:08.205070Z",
          "iopub.status.idle": "2023-09-01T18:12:08.209530Z",
          "shell.execute_reply": "2023-09-01T18:12:08.209038Z"
        },
        "papermill": {
          "duration": 0.010963,
          "end_time": "2023-09-01T18:12:08.210916",
          "exception": false,
          "start_time": "2023-09-01T18:12:08.199953",
          "status": "completed"
        },
        "tags": [
          "remove-cell"
        ]
      },
      "outputs": [],
      "source": []
    },
    {
      "cell_type": "markdown",
      "id": "7f878cbc-3e90-4ceb-8633-79250de6d6b8",
      "metadata": {
        "papermill": {
          "duration": 0.002948,
          "end_time": "2023-09-01T18:12:08.216990",
          "exception": false,
          "start_time": "2023-09-01T18:12:08.214042",
          "status": "completed"
        },
        "tags": []
      },
      "source": [
        "# SAX make docs\n",
        "> CLI: build jupyter-books based docs"
      ]
    },
    {
      "cell_type": "code",
      "execution_count": 2,
      "id": "e4b8fc4b93ca77e5",
      "metadata": {
        "execution": {
          "iopub.execute_input": "2023-09-01T18:12:08.223346Z",
          "iopub.status.busy": "2023-09-01T18:12:08.223138Z",
          "iopub.status.idle": "2023-09-01T18:12:08.229861Z",
          "shell.execute_reply": "2023-09-01T18:12:08.229375Z"
        },
        "papermill": {
          "duration": 0.011409,
          "end_time": "2023-09-01T18:12:08.231109",
          "exception": false,
          "start_time": "2023-09-01T18:12:08.219700",
          "status": "completed"
        },
        "tags": [
          "remove-cell"
        ]
      },
      "outputs": [],
      "source": [
        "from __future__ import annotations\n",
        "\n",
        "import glob\n",
        "import json\n",
        "import os\n",
        "import re\n",
        "import secrets\n",
        "import shutil\n",
        "import subprocess\n",
        "import sys\n",
        "from typing import Dict, Union\n",
        "\n",
        "from fastcore.imports import IN_IPYTHON"
      ]
    },
    {
      "cell_type": "code",
      "execution_count": 3,
      "id": "0de887e2eb14632a",
      "metadata": {
        "execution": {
          "iopub.execute_input": "2023-09-01T18:12:08.237996Z",
          "iopub.status.busy": "2023-09-01T18:12:08.237532Z",
          "iopub.status.idle": "2023-09-01T18:12:08.240735Z",
          "shell.execute_reply": "2023-09-01T18:12:08.240215Z"
        },
        "papermill": {
          "duration": 0.007949,
          "end_time": "2023-09-01T18:12:08.241847",
          "exception": false,
          "start_time": "2023-09-01T18:12:08.233898",
          "status": "completed"
        },
        "tags": [
          "hide-input"
        ]
      },
      "outputs": [],
      "source": [
        "MAGIC_COMMENTS = {\n",
        "    \"default_exp\": \"remove-cell\",\n",
        "    \"exporti\": \"remove-cell\",\n",
        "    \"export\": \"hide-input\",\n",
        "    \"exports\": None,\n",
        "    \"hide\": \"remove-cell\",\n",
        "    \"hide_input\": \"remove-input\",\n",
        "    \"hide_output\": \"remove-output\",\n",
        "    \"collapse_input\": \"hide-input\",\n",
        "    \"collapse_output\": \"hide-output\",\n",
        "}"
      ]
    },
    {
      "cell_type": "code",
      "execution_count": 4,
      "id": "74edf4edf69bdec8",
      "metadata": {
        "execution": {
          "iopub.execute_input": "2023-09-01T18:12:08.248474Z",
          "iopub.status.busy": "2023-09-01T18:12:08.247986Z",
          "iopub.status.idle": "2023-09-01T18:12:08.251073Z",
          "shell.execute_reply": "2023-09-01T18:12:08.250521Z"
        },
        "papermill": {
          "duration": 0.007649,
          "end_time": "2023-09-01T18:12:08.252231",
          "exception": false,
          "start_time": "2023-09-01T18:12:08.244582",
          "status": "completed"
        },
        "tags": [
          "hide-input"
        ]
      },
      "outputs": [],
      "source": [
        "if IN_IPYTHON:\n",
        "    ROOT = os.path.abspath('..')\n",
        "else:\n",
        "    ROOT = os.path.abspath('.')"
      ]
    },
    {
      "cell_type": "markdown",
      "id": "4b8efe603591d90f",
      "metadata": {},
      "source": [
        ":::{eval-rst}\n",
        ".. autofunction:: sax.make_docs.load_nb\n",
        ":::\n"
      ]
    },
    {
      "cell_type": "code",
      "execution_count": 5,
      "id": "78c860770fab381a",
      "metadata": {
        "execution": {
          "iopub.execute_input": "2023-09-01T18:12:08.259713Z",
          "iopub.status.busy": "2023-09-01T18:12:08.259265Z",
          "iopub.status.idle": "2023-09-01T18:12:08.262612Z",
          "shell.execute_reply": "2023-09-01T18:12:08.262129Z"
        },
        "papermill": {
          "duration": 0.007881,
          "end_time": "2023-09-01T18:12:08.263736",
          "exception": false,
          "start_time": "2023-09-01T18:12:08.255855",
          "status": "completed"
        },
        "tags": [
          "hide-input"
        ]
      },
      "outputs": [],
      "source": [
        "def load_nb(path: str) -> Dict:\n",
        "    \"\"\" load a jupyter notebook as dictionary\n",
        "\n",
        "    Args:\n",
        "        path: the path of the notebook to load\n",
        "\n",
        "    Returns:\n",
        "        the notebook represented as a dictionary\n",
        "    \"\"\"\n",
        "    with open(path, \"r\") as file:\n",
        "        nb = json.load(file)\n",
        "    return nb"
      ]
    },
    {
      "cell_type": "markdown",
      "id": "95f4e3ee0e78db19",
      "metadata": {},
      "source": [
        ":::{eval-rst}\n",
        ".. autofunction:: sax.make_docs.repository_path\n",
        ":::\n"
      ]
    },
    {
      "cell_type": "code",
      "execution_count": 6,
      "id": "93e5a36563d286b7",
      "metadata": {
        "execution": {
          "iopub.execute_input": "2023-09-01T18:12:08.270452Z",
          "iopub.status.busy": "2023-09-01T18:12:08.269988Z",
          "iopub.status.idle": "2023-09-01T18:12:08.274619Z",
          "shell.execute_reply": "2023-09-01T18:12:08.274083Z"
        },
        "papermill": {
          "duration": 0.009185,
          "end_time": "2023-09-01T18:12:08.275688",
          "exception": false,
          "start_time": "2023-09-01T18:12:08.266503",
          "status": "completed"
        },
        "tags": [
          "hide-input"
        ]
      },
      "outputs": [],
      "source": [
        "def repository_path(*path_parts: str, not_exist_ok: bool=False) -> str:\n",
        "    \"\"\" Get and validate a path in the modelbuild repository\n",
        "\n",
        "    Args:\n",
        "        *path_parts: the path parts that will be joined together\n",
        "            relative to the root of the repository.\n",
        "        not_exist_ok: skip validation if True\n",
        "\n",
        "    Returns:\n",
        "        the absolute path of the referenced file.\n",
        "    \"\"\"\n",
        "    if not (os.path.exists(path:=os.path.join(ROOT, \"docs\"))):\n",
        "        raise FileNotFoundError(f\"docs path {path!r} not found!\")\n",
        "    if not (os.path.exists(path:=os.path.join(ROOT, \"nbs\"))):\n",
        "        raise FileNotFoundError(f\"nbs path {path!r} not found!\")\n",
        "    if not (os.path.exists(path:=os.path.join(ROOT, \"sax\"))):\n",
        "        raise FileNotFoundError(f\"sax path {path!r} not found!\")\n",
        "\n",
        "    path = os.path.join(ROOT, *path_parts)\n",
        "    if not not_exist_ok and not os.path.exists(path):\n",
        "        raise FileNotFoundError(f\"Path {path!r} does not exist.\")\n",
        "\n",
        "    return path"
      ]
    },
    {
      "cell_type": "markdown",
      "id": "cbed224f349650dc",
      "metadata": {},
      "source": [
        ":::{eval-rst}\n",
        ".. autofunction:: sax.make_docs.docs_path\n",
        ":::\n"
      ]
    },
    {
      "cell_type": "code",
      "execution_count": 7,
      "id": "a8f92ca5a36f05ba",
      "metadata": {
        "execution": {
          "iopub.execute_input": "2023-09-01T18:12:08.308990Z",
          "iopub.status.busy": "2023-09-01T18:12:08.308395Z",
          "iopub.status.idle": "2023-09-01T18:12:08.311661Z",
          "shell.execute_reply": "2023-09-01T18:12:08.311122Z"
        },
        "papermill": {
          "duration": 0.008286,
          "end_time": "2023-09-01T18:12:08.312828",
          "exception": false,
          "start_time": "2023-09-01T18:12:08.304542",
          "status": "completed"
        },
        "tags": [
          "hide-input"
        ]
      },
      "outputs": [],
      "source": [
        "def docs_path(*path_parts: str, not_exist_ok: bool=False) -> str:\n",
        "    return repository_path('docs', *path_parts, not_exist_ok=not_exist_ok)"
      ]
    },
    {
      "cell_type": "markdown",
      "id": "6fed3d3276bb4666",
      "metadata": {},
      "source": [
        ":::{eval-rst}\n",
        ".. autofunction:: sax.make_docs.save_nb\n",
        ":::\n"
      ]
    },
    {
      "cell_type": "code",
      "execution_count": 8,
      "id": "f6f0c3a273f299c4",
      "metadata": {
        "execution": {
          "iopub.execute_input": "2023-09-01T18:12:08.319900Z",
          "iopub.status.busy": "2023-09-01T18:12:08.319529Z",
          "iopub.status.idle": "2023-09-01T18:12:08.323307Z",
          "shell.execute_reply": "2023-09-01T18:12:08.322730Z"
        },
        "papermill": {
          "duration": 0.008567,
          "end_time": "2023-09-01T18:12:08.324476",
          "exception": false,
          "start_time": "2023-09-01T18:12:08.315909",
          "status": "completed"
        },
        "tags": [
          "hide-input"
        ]
      },
      "outputs": [],
      "source": [
        "def save_nb(nb: Dict, path: str) -> str:\n",
        "    \"\"\" save a dictionary as a jupyter notebook\n",
        "\n",
        "    Args:\n",
        "        nb: the dictionary to convert into an ipynb file\n",
        "        path: the path to save the notebook under\n",
        "\n",
        "    Returns:\n",
        "        the path where the notebook was saved.\n",
        "    \"\"\"\n",
        "    path = os.path.abspath(path)\n",
        "    os.makedirs(os.path.dirname(path), exist_ok=True)\n",
        "    with open(path, \"w\") as file:\n",
        "        json.dump(nb, file, indent=2)\n",
        "    return path"
      ]
    },
    {
      "cell_type": "markdown",
      "id": "370b4d22c07208eb",
      "metadata": {},
      "source": [
        ":::{eval-rst}\n",
        ".. autofunction:: sax.make_docs.strip_metadata\n",
        ":::\n"
      ]
    },
    {
      "cell_type": "code",
      "execution_count": 9,
      "id": "93c25d439b95fecd",
      "metadata": {
        "execution": {
          "iopub.execute_input": "2023-09-01T18:12:08.331387Z",
          "iopub.status.busy": "2023-09-01T18:12:08.331029Z",
          "iopub.status.idle": "2023-09-01T18:12:08.334690Z",
          "shell.execute_reply": "2023-09-01T18:12:08.334191Z"
        },
        "papermill": {
          "duration": 0.008333,
          "end_time": "2023-09-01T18:12:08.335807",
          "exception": false,
          "start_time": "2023-09-01T18:12:08.327474",
          "status": "completed"
        },
        "tags": [
          "hide-input"
        ]
      },
      "outputs": [],
      "source": [
        "def strip_metadata(nb: Union[Dict, str]) -> Union[Dict,str]:\n",
        "    path = ''\n",
        "    if isinstance(nb, str):\n",
        "        path = nb\n",
        "        nb = load_nb(nb)\n",
        "    for cell in nb['cells']:\n",
        "        if not 'metadata' in cell:\n",
        "            continue\n",
        "        cell['metadata'] = {}\n",
        "    if path:\n",
        "        return save_nb(nb, path)\n",
        "    return path"
      ]
    },
    {
      "cell_type": "code",
      "execution_count": 10,
      "id": "3593e9028b9d74ac",
      "metadata": {
        "execution": {
          "iopub.execute_input": "2023-09-01T18:12:08.342499Z",
          "iopub.status.busy": "2023-09-01T18:12:08.342317Z",
          "iopub.status.idle": "2023-09-01T18:12:08.345218Z",
          "shell.execute_reply": "2023-09-01T18:12:08.344696Z"
        },
        "papermill": {
          "duration": 0.007623,
          "end_time": "2023-09-01T18:12:08.346319",
          "exception": false,
          "start_time": "2023-09-01T18:12:08.338696",
          "status": "completed"
        },
        "tags": [
          "remove-cell"
        ]
      },
      "outputs": [],
      "source": [
        "def iter_code_cells(nb):\n",
        "    for cell in nb.get('cells', []):\n",
        "        if not cell.get(\"cell_type\", \"\") == \"code\":\n",
        "            continue\n",
        "        yield cell"
      ]
    },
    {
      "cell_type": "code",
      "execution_count": 11,
      "id": "b19d70161b8352ac",
      "metadata": {
        "execution": {
          "iopub.execute_input": "2023-09-01T18:12:08.353733Z",
          "iopub.status.busy": "2023-09-01T18:12:08.353273Z",
          "iopub.status.idle": "2023-09-01T18:12:08.356283Z",
          "shell.execute_reply": "2023-09-01T18:12:08.355756Z"
        },
        "papermill": {
          "duration": 0.008068,
          "end_time": "2023-09-01T18:12:08.357409",
          "exception": false,
          "start_time": "2023-09-01T18:12:08.349341",
          "status": "completed"
        },
        "tags": [
          "remove-cell"
        ]
      },
      "outputs": [],
      "source": [
        "def first_code_cell(nb):\n",
        "    try:\n",
        "        return next(iter_code_cells(nb))\n",
        "    except StopIteration:\n",
        "        return None"
      ]
    },
    {
      "cell_type": "code",
      "execution_count": 12,
      "id": "53d1634e877318e1",
      "metadata": {
        "execution": {
          "iopub.execute_input": "2023-09-01T18:12:08.364487Z",
          "iopub.status.busy": "2023-09-01T18:12:08.364048Z",
          "iopub.status.idle": "2023-09-01T18:12:08.367422Z",
          "shell.execute_reply": "2023-09-01T18:12:08.366894Z"
        },
        "papermill": {
          "duration": 0.008153,
          "end_time": "2023-09-01T18:12:08.368531",
          "exception": false,
          "start_time": "2023-09-01T18:12:08.360378",
          "status": "completed"
        },
        "tags": [
          "remove-cell"
        ]
      },
      "outputs": [],
      "source": [
        "def get_default_exp(nb):\n",
        "    first_cell = first_code_cell(nb) or {}\n",
        "    first_source = first_cell.get('source', [])\n",
        "    first_line = \"\" if not first_source else first_source[0]\n",
        "    default_exp = first_line.split(\"default_exp\")[-1].strip()\n",
        "    return default_exp"
      ]
    },
    {
      "cell_type": "code",
      "execution_count": 13,
      "id": "cb3f36030ed9c36a",
      "metadata": {
        "execution": {
          "iopub.execute_input": "2023-09-01T18:12:08.375833Z",
          "iopub.status.busy": "2023-09-01T18:12:08.375339Z",
          "iopub.status.idle": "2023-09-01T18:12:08.378737Z",
          "shell.execute_reply": "2023-09-01T18:12:08.378205Z"
        },
        "papermill": {
          "duration": 0.008182,
          "end_time": "2023-09-01T18:12:08.379865",
          "exception": false,
          "start_time": "2023-09-01T18:12:08.371683",
          "status": "completed"
        },
        "tags": [
          "remove-cell"
        ]
      },
      "outputs": [],
      "source": [
        "def iter_function_names(source):\n",
        "    for line in source:\n",
        "        if not line.startswith(\"def \"):\n",
        "            continue\n",
        "        if line.startswith(\"def _\"):\n",
        "            continue\n",
        "        yield line.split(\"def \")[1].split(\"(\")[0]"
      ]
    },
    {
      "cell_type": "markdown",
      "id": "19dc54b9fdc8dcdd",
      "metadata": {},
      "source": [
        ":::{eval-rst}\n",
        ".. autofunction:: sax.make_docs.docs_copy_nb\n",
        ":::\n"
      ]
    },
    {
      "cell_type": "code",
      "execution_count": 14,
      "id": "64ad89e38a021b0b",
      "metadata": {
        "execution": {
          "iopub.execute_input": "2023-09-01T18:12:08.386921Z",
          "iopub.status.busy": "2023-09-01T18:12:08.386734Z",
          "iopub.status.idle": "2023-09-01T18:12:08.393554Z",
          "shell.execute_reply": "2023-09-01T18:12:08.393050Z"
        },
        "papermill": {
          "duration": 0.011688,
          "end_time": "2023-09-01T18:12:08.394610",
          "exception": false,
          "start_time": "2023-09-01T18:12:08.382922",
          "status": "completed"
        },
        "tags": [
          "hide-input"
        ]
      },
      "outputs": [],
      "source": [
        "def docs_copy_nb(relpath, docsrelpath=None):\n",
        "    \"\"\"copy a single notebook from src to dst with modified docs metadata.\"\"\"\n",
        "    src = repository_path(relpath)\n",
        "    dst = docs_path((docsrelpath or relpath), not_exist_ok=True)\n",
        "    nb = load_nb(src)\n",
        "    nb_new = {**nb}\n",
        "    nb_new[\"cells\"] = []\n",
        "    module = get_default_exp(nb)\n",
        "\n",
        "    for cell in nb.get('cells', []):\n",
        "        if not cell.get(\"cell_type\", \"\") == \"code\":\n",
        "            nb_new[\"cells\"].append(cell)\n",
        "            continue\n",
        "            \n",
        "        cell_tags = cell.get(\"metadata\", {}).get(\"tags\", [])\n",
        "        source = cell.get(\"source\") or [\"\"]\n",
        "        line = source[0].strip()\n",
        "        \n",
        "        if not line.startswith(\"#\"):\n",
        "            nb_new[\"cells\"].append(cell)\n",
        "            continue\n",
        "            \n",
        "        keys = [k.strip() for k in line.split(\" \")]\n",
        "        keys = [k for k in keys if k in MAGIC_COMMENTS]\n",
        "        if keys:\n",
        "            del source[0]\n",
        "        for key in keys:\n",
        "            tag = MAGIC_COMMENTS[key]\n",
        "            if tag:\n",
        "                cell_tags.append(tag)\n",
        "        if len(cell_tags) > 0:\n",
        "            cell[\"metadata\"][\"tags\"] = cell_tags\n",
        "\n",
        "        if not 'remove-cell' in cell_tags:\n",
        "            for function_name in iter_function_names(source):\n",
        "                extra_cell = {\n",
        "                    \"cell_type\": \"markdown\",\n",
        "                    \"id\": secrets.token_hex(8),\n",
        "                    \"metadata\": {},\n",
        "                    \"source\": [\n",
        "                        \":::{eval-rst}\\n\",\n",
        "                        f\".. autofunction:: sax.{module}.{function_name}\\n\",\n",
        "                        \":::\\n\"\n",
        "                    ],\n",
        "                }\n",
        "                nb_new[\"cells\"].append(extra_cell)\n",
        "\n",
        "        cell[\"id\"] = secrets.token_hex(8)\n",
        "        nb_new[\"cells\"].append(cell)\n",
        "\n",
        "    os.makedirs(os.path.dirname(dst), exist_ok=True)\n",
        "    save_nb(nb_new, dst)\n",
        "    return dst"
      ]
    },
    {
      "cell_type": "markdown",
      "id": "48f675f9510e6ba6",
      "metadata": {},
      "source": [
        ":::{eval-rst}\n",
        ".. autofunction:: sax.make_docs.list_notebooks\n",
        ":::\n"
      ]
    },
    {
      "cell_type": "markdown",
      "id": "039336e50b1ec32e",
      "metadata": {},
      "source": [
        ":::{eval-rst}\n",
        ".. autofunction:: sax.make_docs.list_zips\n",
        ":::\n"
      ]
    },
    {
      "cell_type": "code",
      "execution_count": 15,
      "id": "10d17b991fbc2609",
      "metadata": {
        "execution": {
          "iopub.execute_input": "2023-09-01T18:12:08.401991Z",
          "iopub.status.busy": "2023-09-01T18:12:08.401523Z",
          "iopub.status.idle": "2023-09-01T18:12:08.404855Z",
          "shell.execute_reply": "2023-09-01T18:12:08.404327Z"
        },
        "papermill": {
          "duration": 0.008221,
          "end_time": "2023-09-01T18:12:08.405990",
          "exception": false,
          "start_time": "2023-09-01T18:12:08.397769",
          "status": "completed"
        },
        "tags": [
          "hide-input"
        ]
      },
      "outputs": [],
      "source": [
        "def list_notebooks(dir):\n",
        "    return glob.glob(os.path.join(dir, \"**/*.ipynb\"), recursive=True)\n",
        "\n",
        "def list_zips(dir):\n",
        "    return glob.glob(os.path.join(dir, \"**/*.zip\"), recursive=True)"
      ]
    },
    {
      "cell_type": "markdown",
      "id": "6265c28991207fda",
      "metadata": {},
      "source": [
        ":::{eval-rst}\n",
        ".. autofunction:: sax.make_docs.docs_copy_dir\n",
        ":::\n"
      ]
    },
    {
      "cell_type": "code",
      "execution_count": 16,
      "id": "1ed49c8d2802e1de",
      "metadata": {
        "execution": {
          "iopub.execute_input": "2023-09-01T18:12:08.413296Z",
          "iopub.status.busy": "2023-09-01T18:12:08.412843Z",
          "iopub.status.idle": "2023-09-01T18:12:08.416794Z",
          "shell.execute_reply": "2023-09-01T18:12:08.416260Z"
        },
        "papermill": {
          "duration": 0.008743,
          "end_time": "2023-09-01T18:12:08.417851",
          "exception": false,
          "start_time": "2023-09-01T18:12:08.409108",
          "status": "completed"
        },
        "tags": [
          "hide-input"
        ]
      },
      "outputs": [],
      "source": [
        "def docs_copy_dir(relpath):\n",
        "    main_src = repository_path(relpath)\n",
        "    for src in list_notebooks(main_src):\n",
        "        rel = os.path.relpath(src, repository_path())\n",
        "        docs_copy_nb(rel)\n",
        "    for src in list_zips(main_src):\n",
        "        rel = os.path.relpath(src, repository_path())\n",
        "        dst = docs_path(\"_build\", \"html\", rel, not_exist_ok=True)\n",
        "        os.makedirs(os.path.dirname(dst), exist_ok=True)\n",
        "        shutil.copy2(src, dst)"
      ]
    },
    {
      "cell_type": "markdown",
      "id": "667eb91d22829e50",
      "metadata": {},
      "source": [
        ":::{eval-rst}\n",
        ".. autofunction:: sax.make_docs.docs_copy_simulations\n",
        ":::\n"
      ]
    },
    {
      "cell_type": "code",
      "execution_count": 17,
      "id": "f0d7095f3fd6a524",
      "metadata": {
        "execution": {
          "iopub.execute_input": "2023-09-01T18:12:08.425298Z",
          "iopub.status.busy": "2023-09-01T18:12:08.424947Z",
          "iopub.status.idle": "2023-09-01T18:12:08.429907Z",
          "shell.execute_reply": "2023-09-01T18:12:08.429397Z"
        },
        "papermill": {
          "duration": 0.009829,
          "end_time": "2023-09-01T18:12:08.431014",
          "exception": false,
          "start_time": "2023-09-01T18:12:08.421185",
          "status": "completed"
        },
        "tags": [
          "hide-input"
        ]
      },
      "outputs": [],
      "source": [
        "def docs_copy_simulations():\n",
        "    with_results, without_results = {}, {}\n",
        "    for fn in os.listdir(simulations_path()):\n",
        "        sim, ext = os.path.splitext(fn)\n",
        "        if ext != \".ipynb\":\n",
        "            continue\n",
        "        try:\n",
        "            with_results[sim] = get_nominal_result(sim)\n",
        "        except FileNotFoundError:\n",
        "            without_results[sim] = {'hash': None, 'params': get_default_params(simulations_path(f\"{sim}.ipynb\"))}\n",
        "        except ValueError:\n",
        "            without_results[sim] = {'hash': None, 'params': get_default_params(simulations_path(f\"{sim}.ipynb\"))}\n",
        "            #raise\n",
        "        \n",
        "    for k, r in with_results.items():\n",
        "        docs_copy_nb(f\"results/{k}/{r['hash']}/_simulated.ipynb\", f\"simulations/{k}.ipynb\")\n",
        "        \n",
        "    for k, r in without_results.items():\n",
        "        docs_copy_nb(f\"simulations/{k}.ipynb\", f\"simulations/{k}.ipynb\")\n",
        "        \n",
        "    shutil.copytree(simulations_path(\"img\"), docs_path(\"_build\", \"html\", \"simulations\", \"img\", not_exist_ok=True), dirs_exist_ok=True)\n",
        "    return with_results, without_results"
      ]
    },
    {
      "cell_type": "markdown",
      "id": "99a6a8bc232d24ca",
      "metadata": {},
      "source": [
        ":::{eval-rst}\n",
        ".. autofunction:: sax.make_docs.get_toc_part\n",
        ":::\n"
      ]
    },
    {
      "cell_type": "code",
      "execution_count": 18,
      "id": "e04fae6993707c61",
      "metadata": {
        "execution": {
          "iopub.execute_input": "2023-09-01T18:12:08.438295Z",
          "iopub.status.busy": "2023-09-01T18:12:08.437833Z",
          "iopub.status.idle": "2023-09-01T18:12:08.441273Z",
          "shell.execute_reply": "2023-09-01T18:12:08.440777Z"
        },
        "papermill": {
          "duration": 0.008199,
          "end_time": "2023-09-01T18:12:08.442315",
          "exception": false,
          "start_time": "2023-09-01T18:12:08.434116",
          "status": "completed"
        },
        "tags": [
          "hide-input"
        ]
      },
      "outputs": [],
      "source": [
        "def get_toc_part(toc, caption):\n",
        "    parts = [p for p in toc[\"parts\"] if caption == p[\"caption\"]]\n",
        "    try:\n",
        "        return parts[0]\n",
        "    except IndexError:\n",
        "        raise ValueError(f\"No TOC part with caption {caption!r} found.\")"
      ]
    },
    {
      "cell_type": "markdown",
      "id": "7eb5e521e3c6f921",
      "metadata": {},
      "source": [
        ":::{eval-rst}\n",
        ".. autofunction:: sax.make_docs.make_docs\n",
        ":::\n"
      ]
    },
    {
      "cell_type": "code",
      "execution_count": 19,
      "id": "c8e5feb499fc97e9",
      "metadata": {
        "execution": {
          "iopub.execute_input": "2023-09-01T18:12:08.449817Z",
          "iopub.status.busy": "2023-09-01T18:12:08.449366Z",
          "iopub.status.idle": "2023-09-01T18:12:08.452621Z",
          "shell.execute_reply": "2023-09-01T18:12:08.452095Z"
        },
        "papermill": {
          "duration": 0.008121,
          "end_time": "2023-09-01T18:12:08.453703",
          "exception": false,
          "start_time": "2023-09-01T18:12:08.445582",
          "status": "completed"
        },
        "tags": [
          "hide-input"
        ]
      },
      "outputs": [],
      "source": [
        "def make_docs():\n",
        "    docs_copy_nb(\"index.ipynb\")\n",
        "    docs_copy_dir(\"nbs\")\n",
        "    docs_copy_dir(\"examples\")\n",
        "    os.chdir(docs_path())\n",
        "    subprocess.check_call([sys.executable.replace(\"python\", \"jupyter-book\"), \"build\", \".\"])"
      ]
    },
    {
      "cell_type": "code",
      "execution_count": 20,
      "id": "82ebbcd38fbc31e4",
      "metadata": {
        "execution": {
          "iopub.execute_input": "2023-09-01T18:12:08.461056Z",
          "iopub.status.busy": "2023-09-01T18:12:08.460709Z",
          "iopub.status.idle": "2023-09-01T18:12:08.463436Z",
          "shell.execute_reply": "2023-09-01T18:12:08.462929Z"
        },
        "papermill": {
          "duration": 0.007606,
          "end_time": "2023-09-01T18:12:08.464540",
          "exception": false,
          "start_time": "2023-09-01T18:12:08.456934",
          "status": "completed"
        },
        "tags": [
          "hide-input"
        ]
      },
      "outputs": [],
      "source": [
        "if __name__ == '__main__' and not IN_IPYTHON:\n",
        "    make_docs()"
      ]
    }
  ],
  "metadata": {
    "kernelspec": {
      "display_name": "sax",
      "language": "python",
      "name": "sax"
    },
    "language_info": {
      "codemirror_mode": {
        "name": "ipython",
        "version": 3
      },
      "file_extension": ".py",
      "mimetype": "text/x-python",
      "name": "python",
      "nbconvert_exporter": "python",
      "pygments_lexer": "ipython3",
      "version": "3.11.5"
    },
    "papermill": {
      "default_parameters": {},
      "duration": 1.80588,
      "end_time": "2023-09-01T18:12:08.683865",
      "environment_variables": {},
      "exception": null,
      "input_path": "./nbs/98_make_docs.ipynb",
      "output_path": "./nbs/98_make_docs.ipynb",
      "parameters": {},
      "start_time": "2023-09-01T18:12:06.877985",
      "version": "2.4.0"
    }
  },
  "nbformat": 4,
  "nbformat_minor": 5
}