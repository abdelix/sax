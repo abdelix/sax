{
  "cells": [
    {
      "cell_type": "code",
      "execution_count": 1,
      "id": "622f1b880d1ec787",
      "metadata": {
        "execution": {
          "iopub.execute_input": "2023-09-02T18:51:20.185810Z",
          "iopub.status.busy": "2023-09-02T18:51:20.185154Z",
          "iopub.status.idle": "2023-09-02T18:51:20.188782Z",
          "shell.execute_reply": "2023-09-02T18:51:20.188194Z"
        },
        "papermill": {
          "duration": 0.009575,
          "end_time": "2023-09-02T18:51:20.190103",
          "exception": false,
          "start_time": "2023-09-02T18:51:20.180528",
          "status": "completed"
        },
        "tags": [
          "remove-cell"
        ]
      },
      "outputs": [],
      "source": []
    },
    {
      "cell_type": "markdown",
      "id": "7f878cbc-3e90-4ceb-8633-79250de6d6b8",
      "metadata": {
        "papermill": {
          "duration": 0.002692,
          "end_time": "2023-09-02T18:51:20.195992",
          "exception": false,
          "start_time": "2023-09-02T18:51:20.193300",
          "status": "completed"
        },
        "tags": []
      },
      "source": [
        "# SAX make docs\n",
        "> CLI: build jupyter-books based docs"
      ]
    },
    {
      "cell_type": "code",
      "execution_count": 2,
      "id": "5209df8b16af858a",
      "metadata": {
        "execution": {
          "iopub.execute_input": "2023-09-02T18:51:20.202998Z",
          "iopub.status.busy": "2023-09-02T18:51:20.202492Z",
          "iopub.status.idle": "2023-09-02T18:51:20.209312Z",
          "shell.execute_reply": "2023-09-02T18:51:20.208835Z"
        },
        "papermill": {
          "duration": 0.011526,
          "end_time": "2023-09-02T18:51:20.210546",
          "exception": false,
          "start_time": "2023-09-02T18:51:20.199020",
          "status": "completed"
        },
        "tags": [
          "remove-cell"
        ]
      },
      "outputs": [],
      "source": [
        "from __future__ import annotations\n",
        "\n",
        "import glob\n",
        "import json\n",
        "import os\n",
        "import re\n",
        "import secrets\n",
        "import shutil\n",
        "import subprocess\n",
        "import sys\n",
        "from typing import Dict, Union\n",
        "\n",
        "from fastcore.imports import IN_IPYTHON"
      ]
    },
    {
      "cell_type": "code",
      "execution_count": 3,
      "id": "df2b4febd1cc138b",
      "metadata": {
        "execution": {
          "iopub.execute_input": "2023-09-02T18:51:20.217482Z",
          "iopub.status.busy": "2023-09-02T18:51:20.216896Z",
          "iopub.status.idle": "2023-09-02T18:51:20.220381Z",
          "shell.execute_reply": "2023-09-02T18:51:20.219749Z"
        },
        "papermill": {
          "duration": 0.00816,
          "end_time": "2023-09-02T18:51:20.221583",
          "exception": false,
          "start_time": "2023-09-02T18:51:20.213423",
          "status": "completed"
        },
        "tags": [
          "hide-input"
        ]
      },
      "outputs": [],
      "source": [
        "MAGIC_COMMENTS = {\n",
        "    \"default_exp\": \"remove-cell\",\n",
        "    \"exporti\": \"remove-cell\",\n",
        "    \"export\": \"hide-input\",\n",
        "    \"exports\": None,\n",
        "    \"hide\": \"remove-cell\",\n",
        "    \"hide_input\": \"remove-input\",\n",
        "    \"hide_output\": \"remove-output\",\n",
        "    \"collapse_input\": \"hide-input\",\n",
        "    \"collapse_output\": \"hide-output\",\n",
        "}"
      ]
    },
    {
      "cell_type": "code",
      "execution_count": 4,
      "id": "f2346e2be5b44213",
      "metadata": {
        "execution": {
          "iopub.execute_input": "2023-09-02T18:51:20.228962Z",
          "iopub.status.busy": "2023-09-02T18:51:20.228383Z",
          "iopub.status.idle": "2023-09-02T18:51:20.231539Z",
          "shell.execute_reply": "2023-09-02T18:51:20.231054Z"
        },
        "papermill": {
          "duration": 0.008005,
          "end_time": "2023-09-02T18:51:20.232706",
          "exception": false,
          "start_time": "2023-09-02T18:51:20.224701",
          "status": "completed"
        },
        "tags": [
          "hide-input"
        ]
      },
      "outputs": [],
      "source": [
        "if IN_IPYTHON:\n",
        "    ROOT = os.path.abspath('..')\n",
        "else:\n",
        "    ROOT = os.path.abspath('.')"
      ]
    },
    {
      "cell_type": "markdown",
      "id": "abfac97ecabf169e",
      "metadata": {},
      "source": [
        ":::{eval-rst}\n",
        ".. autofunction:: sax.make_docs.load_nb\n",
        ":::\n"
      ]
    },
    {
      "cell_type": "code",
      "execution_count": 5,
      "id": "f8f2d9d878309c6b",
      "metadata": {
        "execution": {
          "iopub.execute_input": "2023-09-02T18:51:20.241413Z",
          "iopub.status.busy": "2023-09-02T18:51:20.240940Z",
          "iopub.status.idle": "2023-09-02T18:51:20.244526Z",
          "shell.execute_reply": "2023-09-02T18:51:20.243982Z"
        },
        "papermill": {
          "duration": 0.008569,
          "end_time": "2023-09-02T18:51:20.245651",
          "exception": false,
          "start_time": "2023-09-02T18:51:20.237082",
          "status": "completed"
        },
        "tags": [
          "hide-input"
        ]
      },
      "outputs": [],
      "source": [
        "def load_nb(path: str) -> Dict:\n",
        "    \"\"\" load a jupyter notebook as dictionary\n",
        "\n",
        "    Args:\n",
        "        path: the path of the notebook to load\n",
        "\n",
        "    Returns:\n",
        "        the notebook represented as a dictionary\n",
        "    \"\"\"\n",
        "    with open(path, \"r\") as file:\n",
        "        nb = json.load(file)\n",
        "    return nb"
      ]
    },
    {
      "cell_type": "markdown",
      "id": "8168df1525658457",
      "metadata": {},
      "source": [
        ":::{eval-rst}\n",
        ".. autofunction:: sax.make_docs.repository_path\n",
        ":::\n"
      ]
    },
    {
      "cell_type": "code",
      "execution_count": 6,
      "id": "0f1af102ec78efd0",
      "metadata": {
        "execution": {
          "iopub.execute_input": "2023-09-02T18:51:20.252215Z",
          "iopub.status.busy": "2023-09-02T18:51:20.251861Z",
          "iopub.status.idle": "2023-09-02T18:51:20.256323Z",
          "shell.execute_reply": "2023-09-02T18:51:20.255812Z"
        },
        "papermill": {
          "duration": 0.008967,
          "end_time": "2023-09-02T18:51:20.257400",
          "exception": false,
          "start_time": "2023-09-02T18:51:20.248433",
          "status": "completed"
        },
        "tags": [
          "hide-input"
        ]
      },
      "outputs": [],
      "source": [
        "def repository_path(*path_parts: str, not_exist_ok: bool=False) -> str:\n",
        "    \"\"\" Get and validate a path in the modelbuild repository\n",
        "\n",
        "    Args:\n",
        "        *path_parts: the path parts that will be joined together\n",
        "            relative to the root of the repository.\n",
        "        not_exist_ok: skip validation if True\n",
        "\n",
        "    Returns:\n",
        "        the absolute path of the referenced file.\n",
        "    \"\"\"\n",
        "    if not (os.path.exists(path:=os.path.join(ROOT, \"docs\"))):\n",
        "        raise FileNotFoundError(f\"docs path {path!r} not found!\")\n",
        "    if not (os.path.exists(path:=os.path.join(ROOT, \"nbs\"))):\n",
        "        raise FileNotFoundError(f\"nbs path {path!r} not found!\")\n",
        "    if not (os.path.exists(path:=os.path.join(ROOT, \"sax\"))):\n",
        "        raise FileNotFoundError(f\"sax path {path!r} not found!\")\n",
        "\n",
        "    path = os.path.join(ROOT, *path_parts)\n",
        "    if not not_exist_ok and not os.path.exists(path):\n",
        "        raise FileNotFoundError(f\"Path {path!r} does not exist.\")\n",
        "\n",
        "    return path"
      ]
    },
    {
      "cell_type": "markdown",
      "id": "b94459b547959a1b",
      "metadata": {},
      "source": [
        ":::{eval-rst}\n",
        ".. autofunction:: sax.make_docs.docs_path\n",
        ":::\n"
      ]
    },
    {
      "cell_type": "code",
      "execution_count": 7,
      "id": "fe6781e0fc6c0e8f",
      "metadata": {
        "execution": {
          "iopub.execute_input": "2023-09-02T18:51:20.295076Z",
          "iopub.status.busy": "2023-09-02T18:51:20.294684Z",
          "iopub.status.idle": "2023-09-02T18:51:20.298064Z",
          "shell.execute_reply": "2023-09-02T18:51:20.297542Z"
        },
        "papermill": {
          "duration": 0.008806,
          "end_time": "2023-09-02T18:51:20.299639",
          "exception": false,
          "start_time": "2023-09-02T18:51:20.290833",
          "status": "completed"
        },
        "tags": [
          "hide-input"
        ]
      },
      "outputs": [],
      "source": [
        "def docs_path(*path_parts: str, not_exist_ok: bool=False) -> str:\n",
        "    return repository_path('docs', *path_parts, not_exist_ok=not_exist_ok)"
      ]
    },
    {
      "cell_type": "markdown",
      "id": "2026826802c574ba",
      "metadata": {},
      "source": [
        ":::{eval-rst}\n",
        ".. autofunction:: sax.make_docs.save_nb\n",
        ":::\n"
      ]
    },
    {
      "cell_type": "code",
      "execution_count": 8,
      "id": "7adf16bab99458a7",
      "metadata": {
        "execution": {
          "iopub.execute_input": "2023-09-02T18:51:20.307213Z",
          "iopub.status.busy": "2023-09-02T18:51:20.306748Z",
          "iopub.status.idle": "2023-09-02T18:51:20.310628Z",
          "shell.execute_reply": "2023-09-02T18:51:20.310073Z"
        },
        "papermill": {
          "duration": 0.0092,
          "end_time": "2023-09-02T18:51:20.311801",
          "exception": false,
          "start_time": "2023-09-02T18:51:20.302601",
          "status": "completed"
        },
        "tags": [
          "hide-input"
        ]
      },
      "outputs": [],
      "source": [
        "def save_nb(nb: Dict, path: str) -> str:\n",
        "    \"\"\" save a dictionary as a jupyter notebook\n",
        "\n",
        "    Args:\n",
        "        nb: the dictionary to convert into an ipynb file\n",
        "        path: the path to save the notebook under\n",
        "\n",
        "    Returns:\n",
        "        the path where the notebook was saved.\n",
        "    \"\"\"\n",
        "    path = os.path.abspath(path)\n",
        "    os.makedirs(os.path.dirname(path), exist_ok=True)\n",
        "    with open(path, \"w\") as file:\n",
        "        json.dump(nb, file, indent=2)\n",
        "    return path"
      ]
    },
    {
      "cell_type": "markdown",
      "id": "9f4026df28223855",
      "metadata": {},
      "source": [
        ":::{eval-rst}\n",
        ".. autofunction:: sax.make_docs.strip_metadata\n",
        ":::\n"
      ]
    },
    {
      "cell_type": "code",
      "execution_count": 9,
      "id": "e19ae0b849011ae2",
      "metadata": {
        "execution": {
          "iopub.execute_input": "2023-09-02T18:51:20.318727Z",
          "iopub.status.busy": "2023-09-02T18:51:20.318274Z",
          "iopub.status.idle": "2023-09-02T18:51:20.321971Z",
          "shell.execute_reply": "2023-09-02T18:51:20.321441Z"
        },
        "papermill": {
          "duration": 0.008346,
          "end_time": "2023-09-02T18:51:20.323111",
          "exception": false,
          "start_time": "2023-09-02T18:51:20.314765",
          "status": "completed"
        },
        "tags": [
          "hide-input"
        ]
      },
      "outputs": [],
      "source": [
        "def strip_metadata(nb: Union[Dict, str]) -> Union[Dict,str]:\n",
        "    path = ''\n",
        "    if isinstance(nb, str):\n",
        "        path = nb\n",
        "        nb = load_nb(nb)\n",
        "    for cell in nb['cells']:\n",
        "        if not 'metadata' in cell:\n",
        "            continue\n",
        "        cell['metadata'] = {}\n",
        "    if path:\n",
        "        return save_nb(nb, path)\n",
        "    return path"
      ]
    },
    {
      "cell_type": "code",
      "execution_count": 10,
      "id": "3dd11e691cc2828a",
      "metadata": {
        "execution": {
          "iopub.execute_input": "2023-09-02T18:51:20.329891Z",
          "iopub.status.busy": "2023-09-02T18:51:20.329422Z",
          "iopub.status.idle": "2023-09-02T18:51:20.332476Z",
          "shell.execute_reply": "2023-09-02T18:51:20.332017Z"
        },
        "papermill": {
          "duration": 0.007683,
          "end_time": "2023-09-02T18:51:20.333616",
          "exception": false,
          "start_time": "2023-09-02T18:51:20.325933",
          "status": "completed"
        },
        "tags": [
          "remove-cell"
        ]
      },
      "outputs": [],
      "source": [
        "def iter_code_cells(nb):\n",
        "    for cell in nb.get('cells', []):\n",
        "        if not cell.get(\"cell_type\", \"\") == \"code\":\n",
        "            continue\n",
        "        yield cell"
      ]
    },
    {
      "cell_type": "code",
      "execution_count": 11,
      "id": "14b4075df25369ff",
      "metadata": {
        "execution": {
          "iopub.execute_input": "2023-09-02T18:51:20.340555Z",
          "iopub.status.busy": "2023-09-02T18:51:20.340219Z",
          "iopub.status.idle": "2023-09-02T18:51:20.343060Z",
          "shell.execute_reply": "2023-09-02T18:51:20.342558Z"
        },
        "papermill": {
          "duration": 0.007594,
          "end_time": "2023-09-02T18:51:20.344152",
          "exception": false,
          "start_time": "2023-09-02T18:51:20.336558",
          "status": "completed"
        },
        "tags": [
          "remove-cell"
        ]
      },
      "outputs": [],
      "source": [
        "def first_code_cell(nb):\n",
        "    try:\n",
        "        return next(iter_code_cells(nb))\n",
        "    except StopIteration:\n",
        "        return None"
      ]
    },
    {
      "cell_type": "code",
      "execution_count": 12,
      "id": "c9b0969e45d518cd",
      "metadata": {
        "execution": {
          "iopub.execute_input": "2023-09-02T18:51:20.351063Z",
          "iopub.status.busy": "2023-09-02T18:51:20.350611Z",
          "iopub.status.idle": "2023-09-02T18:51:20.354123Z",
          "shell.execute_reply": "2023-09-02T18:51:20.353559Z"
        },
        "papermill": {
          "duration": 0.008194,
          "end_time": "2023-09-02T18:51:20.355222",
          "exception": false,
          "start_time": "2023-09-02T18:51:20.347028",
          "status": "completed"
        },
        "tags": [
          "remove-cell"
        ]
      },
      "outputs": [],
      "source": [
        "def get_default_exp(nb):\n",
        "    first_cell = first_code_cell(nb) or {}\n",
        "    first_source = first_cell.get('source', [])\n",
        "    first_line = \"\" if not first_source else first_source[0]\n",
        "    default_exp = first_line.split(\"default_exp\")[-1].strip()\n",
        "    return default_exp"
      ]
    },
    {
      "cell_type": "code",
      "execution_count": 13,
      "id": "c71f3ba6a811a006",
      "metadata": {
        "execution": {
          "iopub.execute_input": "2023-09-02T18:51:20.362168Z",
          "iopub.status.busy": "2023-09-02T18:51:20.361707Z",
          "iopub.status.idle": "2023-09-02T18:51:20.364869Z",
          "shell.execute_reply": "2023-09-02T18:51:20.364363Z"
        },
        "papermill": {
          "duration": 0.00777,
          "end_time": "2023-09-02T18:51:20.365953",
          "exception": false,
          "start_time": "2023-09-02T18:51:20.358183",
          "status": "completed"
        },
        "tags": [
          "remove-cell"
        ]
      },
      "outputs": [],
      "source": [
        "def iter_function_names(source):\n",
        "    for line in source:\n",
        "        if not line.startswith(\"def \"):\n",
        "            continue\n",
        "        if line.startswith(\"def _\"):\n",
        "            continue\n",
        "        yield line.split(\"def \")[1].split(\"(\")[0]"
      ]
    },
    {
      "cell_type": "markdown",
      "id": "1ccb99a970a07ebf",
      "metadata": {},
      "source": [
        ":::{eval-rst}\n",
        ".. autofunction:: sax.make_docs.docs_copy_nb\n",
        ":::\n"
      ]
    },
    {
      "cell_type": "code",
      "execution_count": 14,
      "id": "126452479e19e0c5",
      "metadata": {
        "execution": {
          "iopub.execute_input": "2023-09-02T18:51:20.372930Z",
          "iopub.status.busy": "2023-09-02T18:51:20.372506Z",
          "iopub.status.idle": "2023-09-02T18:51:20.379462Z",
          "shell.execute_reply": "2023-09-02T18:51:20.378915Z"
        },
        "papermill": {
          "duration": 0.011763,
          "end_time": "2023-09-02T18:51:20.380614",
          "exception": false,
          "start_time": "2023-09-02T18:51:20.368851",
          "status": "completed"
        },
        "tags": [
          "hide-input"
        ]
      },
      "outputs": [],
      "source": [
        "def docs_copy_nb(relpath, docsrelpath=None):\n",
        "    \"\"\"copy a single notebook from src to dst with modified docs metadata.\"\"\"\n",
        "    src = repository_path(relpath)\n",
        "    dst = docs_path((docsrelpath or relpath), not_exist_ok=True)\n",
        "    nb = load_nb(src)\n",
        "    nb_new = {**nb}\n",
        "    nb_new[\"cells\"] = []\n",
        "    module = get_default_exp(nb)\n",
        "\n",
        "    for cell in nb.get('cells', []):\n",
        "        if not cell.get(\"cell_type\", \"\") == \"code\":\n",
        "            nb_new[\"cells\"].append(cell)\n",
        "            continue\n",
        "            \n",
        "        cell_tags = cell.get(\"metadata\", {}).get(\"tags\", [])\n",
        "        source = cell.get(\"source\") or [\"\"]\n",
        "        line = source[0].strip()\n",
        "        \n",
        "        if not line.startswith(\"#\"):\n",
        "            nb_new[\"cells\"].append(cell)\n",
        "            continue\n",
        "            \n",
        "        keys = [k.strip() for k in line.split(\" \")]\n",
        "        keys = [k for k in keys if k in MAGIC_COMMENTS]\n",
        "        if keys:\n",
        "            del source[0]\n",
        "        for key in keys:\n",
        "            tag = MAGIC_COMMENTS[key]\n",
        "            if tag:\n",
        "                cell_tags.append(tag)\n",
        "        if len(cell_tags) > 0:\n",
        "            cell[\"metadata\"][\"tags\"] = cell_tags\n",
        "\n",
        "        if not 'remove-cell' in cell_tags:\n",
        "            for function_name in iter_function_names(source):\n",
        "                extra_cell = {\n",
        "                    \"cell_type\": \"markdown\",\n",
        "                    \"id\": secrets.token_hex(8),\n",
        "                    \"metadata\": {},\n",
        "                    \"source\": [\n",
        "                        \":::{eval-rst}\\n\",\n",
        "                        f\".. autofunction:: sax.{module}.{function_name}\\n\",\n",
        "                        \":::\\n\"\n",
        "                    ],\n",
        "                }\n",
        "                nb_new[\"cells\"].append(extra_cell)\n",
        "\n",
        "        cell[\"id\"] = secrets.token_hex(8)\n",
        "        nb_new[\"cells\"].append(cell)\n",
        "\n",
        "    os.makedirs(os.path.dirname(dst), exist_ok=True)\n",
        "    save_nb(nb_new, dst)\n",
        "    return dst"
      ]
    },
    {
      "cell_type": "markdown",
      "id": "456029d2172d0822",
      "metadata": {},
      "source": [
        ":::{eval-rst}\n",
        ".. autofunction:: sax.make_docs.list_notebooks\n",
        ":::\n"
      ]
    },
    {
      "cell_type": "markdown",
      "id": "b395c4f234ab8b25",
      "metadata": {},
      "source": [
        ":::{eval-rst}\n",
        ".. autofunction:: sax.make_docs.list_zips\n",
        ":::\n"
      ]
    },
    {
      "cell_type": "code",
      "execution_count": 15,
      "id": "c68033bf6930692d",
      "metadata": {
        "execution": {
          "iopub.execute_input": "2023-09-02T18:51:20.387710Z",
          "iopub.status.busy": "2023-09-02T18:51:20.387272Z",
          "iopub.status.idle": "2023-09-02T18:51:20.390436Z",
          "shell.execute_reply": "2023-09-02T18:51:20.389899Z"
        },
        "papermill": {
          "duration": 0.007848,
          "end_time": "2023-09-02T18:51:20.391513",
          "exception": false,
          "start_time": "2023-09-02T18:51:20.383665",
          "status": "completed"
        },
        "tags": [
          "hide-input"
        ]
      },
      "outputs": [],
      "source": [
        "def list_notebooks(dir):\n",
        "    return glob.glob(os.path.join(dir, \"**/*.ipynb\"), recursive=True)\n",
        "\n",
        "def list_zips(dir):\n",
        "    return glob.glob(os.path.join(dir, \"**/*.zip\"), recursive=True)"
      ]
    },
    {
      "cell_type": "markdown",
      "id": "fdc2ef4a3e5f241c",
      "metadata": {},
      "source": [
        ":::{eval-rst}\n",
        ".. autofunction:: sax.make_docs.docs_copy_dir\n",
        ":::\n"
      ]
    },
    {
      "cell_type": "code",
      "execution_count": 16,
      "id": "8d36a3f15761ff29",
      "metadata": {
        "execution": {
          "iopub.execute_input": "2023-09-02T18:51:20.398584Z",
          "iopub.status.busy": "2023-09-02T18:51:20.398142Z",
          "iopub.status.idle": "2023-09-02T18:51:20.401942Z",
          "shell.execute_reply": "2023-09-02T18:51:20.401423Z"
        },
        "papermill": {
          "duration": 0.008572,
          "end_time": "2023-09-02T18:51:20.403076",
          "exception": false,
          "start_time": "2023-09-02T18:51:20.394504",
          "status": "completed"
        },
        "tags": [
          "hide-input"
        ]
      },
      "outputs": [],
      "source": [
        "def docs_copy_dir(relpath):\n",
        "    main_src = repository_path(relpath)\n",
        "    for src in list_notebooks(main_src):\n",
        "        rel = os.path.relpath(src, repository_path())\n",
        "        docs_copy_nb(rel)\n",
        "    for src in list_zips(main_src):\n",
        "        rel = os.path.relpath(src, repository_path())\n",
        "        dst = docs_path(\"_build\", \"html\", rel, not_exist_ok=True)\n",
        "        os.makedirs(os.path.dirname(dst), exist_ok=True)\n",
        "        shutil.copy2(src, dst)"
      ]
    },
    {
      "cell_type": "markdown",
      "id": "fb7f098eff165e71",
      "metadata": {},
      "source": [
        ":::{eval-rst}\n",
        ".. autofunction:: sax.make_docs.docs_copy_simulations\n",
        ":::\n"
      ]
    },
    {
      "cell_type": "code",
      "execution_count": 17,
      "id": "b4798e86c8427c15",
      "metadata": {
        "execution": {
          "iopub.execute_input": "2023-09-02T18:51:20.410632Z",
          "iopub.status.busy": "2023-09-02T18:51:20.410207Z",
          "iopub.status.idle": "2023-09-02T18:51:20.415067Z",
          "shell.execute_reply": "2023-09-02T18:51:20.414565Z"
        },
        "papermill": {
          "duration": 0.009877,
          "end_time": "2023-09-02T18:51:20.416176",
          "exception": false,
          "start_time": "2023-09-02T18:51:20.406299",
          "status": "completed"
        },
        "tags": [
          "hide-input"
        ]
      },
      "outputs": [],
      "source": [
        "def docs_copy_simulations():\n",
        "    with_results, without_results = {}, {}\n",
        "    for fn in os.listdir(simulations_path()):\n",
        "        sim, ext = os.path.splitext(fn)\n",
        "        if ext != \".ipynb\":\n",
        "            continue\n",
        "        try:\n",
        "            with_results[sim] = get_nominal_result(sim)\n",
        "        except FileNotFoundError:\n",
        "            without_results[sim] = {'hash': None, 'params': get_default_params(simulations_path(f\"{sim}.ipynb\"))}\n",
        "        except ValueError:\n",
        "            without_results[sim] = {'hash': None, 'params': get_default_params(simulations_path(f\"{sim}.ipynb\"))}\n",
        "            #raise\n",
        "        \n",
        "    for k, r in with_results.items():\n",
        "        docs_copy_nb(f\"results/{k}/{r['hash']}/_simulated.ipynb\", f\"simulations/{k}.ipynb\")\n",
        "        \n",
        "    for k, r in without_results.items():\n",
        "        docs_copy_nb(f\"simulations/{k}.ipynb\", f\"simulations/{k}.ipynb\")\n",
        "        \n",
        "    shutil.copytree(simulations_path(\"img\"), docs_path(\"_build\", \"html\", \"simulations\", \"img\", not_exist_ok=True), dirs_exist_ok=True)\n",
        "    return with_results, without_results"
      ]
    },
    {
      "cell_type": "markdown",
      "id": "13b996556232f724",
      "metadata": {},
      "source": [
        ":::{eval-rst}\n",
        ".. autofunction:: sax.make_docs.get_toc_part\n",
        ":::\n"
      ]
    },
    {
      "cell_type": "code",
      "execution_count": 18,
      "id": "65c657d476d9cfb2",
      "metadata": {
        "execution": {
          "iopub.execute_input": "2023-09-02T18:51:20.423380Z",
          "iopub.status.busy": "2023-09-02T18:51:20.422890Z",
          "iopub.status.idle": "2023-09-02T18:51:20.426247Z",
          "shell.execute_reply": "2023-09-02T18:51:20.425718Z"
        },
        "papermill": {
          "duration": 0.008072,
          "end_time": "2023-09-02T18:51:20.427300",
          "exception": false,
          "start_time": "2023-09-02T18:51:20.419228",
          "status": "completed"
        },
        "tags": [
          "hide-input"
        ]
      },
      "outputs": [],
      "source": [
        "def get_toc_part(toc, caption):\n",
        "    parts = [p for p in toc[\"parts\"] if caption == p[\"caption\"]]\n",
        "    try:\n",
        "        return parts[0]\n",
        "    except IndexError:\n",
        "        raise ValueError(f\"No TOC part with caption {caption!r} found.\")"
      ]
    },
    {
      "cell_type": "markdown",
      "id": "634635b0422677cc",
      "metadata": {},
      "source": [
        ":::{eval-rst}\n",
        ".. autofunction:: sax.make_docs.make_docs\n",
        ":::\n"
      ]
    },
    {
      "cell_type": "code",
      "execution_count": 19,
      "id": "732ff19f633df2a1",
      "metadata": {
        "execution": {
          "iopub.execute_input": "2023-09-02T18:51:20.434586Z",
          "iopub.status.busy": "2023-09-02T18:51:20.434152Z",
          "iopub.status.idle": "2023-09-02T18:51:20.437251Z",
          "shell.execute_reply": "2023-09-02T18:51:20.436719Z"
        },
        "papermill": {
          "duration": 0.00797,
          "end_time": "2023-09-02T18:51:20.438381",
          "exception": false,
          "start_time": "2023-09-02T18:51:20.430411",
          "status": "completed"
        },
        "tags": [
          "hide-input"
        ]
      },
      "outputs": [],
      "source": [
        "def make_docs():\n",
        "    docs_copy_nb(\"index.ipynb\")\n",
        "    docs_copy_dir(\"nbs\")\n",
        "    docs_copy_dir(\"examples\")\n",
        "    os.chdir(docs_path())\n",
        "    subprocess.check_call([sys.executable.replace(\"python\", \"jupyter-book\"), \"build\", \".\"])"
      ]
    },
    {
      "cell_type": "code",
      "execution_count": 20,
      "id": "65c18a2ba3a6cf47",
      "metadata": {
        "execution": {
          "iopub.execute_input": "2023-09-02T18:51:20.445635Z",
          "iopub.status.busy": "2023-09-02T18:51:20.445205Z",
          "iopub.status.idle": "2023-09-02T18:51:20.447903Z",
          "shell.execute_reply": "2023-09-02T18:51:20.447370Z"
        },
        "papermill": {
          "duration": 0.00752,
          "end_time": "2023-09-02T18:51:20.448964",
          "exception": false,
          "start_time": "2023-09-02T18:51:20.441444",
          "status": "completed"
        },
        "tags": [
          "hide-input"
        ]
      },
      "outputs": [],
      "source": [
        "if __name__ == '__main__' and not IN_IPYTHON:\n",
        "    make_docs()"
      ]
    }
  ],
  "metadata": {
    "kernelspec": {
      "display_name": "sax",
      "language": "python",
      "name": "sax"
    },
    "language_info": {
      "codemirror_mode": {
        "name": "ipython",
        "version": 3
      },
      "file_extension": ".py",
      "mimetype": "text/x-python",
      "name": "python",
      "nbconvert_exporter": "python",
      "pygments_lexer": "ipython3",
      "version": "3.11.5"
    },
    "papermill": {
      "default_parameters": {},
      "duration": 1.815554,
      "end_time": "2023-09-02T18:51:20.667889",
      "environment_variables": {},
      "exception": null,
      "input_path": "./nbs/98_make_docs.ipynb",
      "output_path": "./nbs/98_make_docs.ipynb",
      "parameters": {},
      "start_time": "2023-09-02T18:51:18.852335",
      "version": "2.4.0"
    }
  },
  "nbformat": 4,
  "nbformat_minor": 5
}