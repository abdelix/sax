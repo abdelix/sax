{
  "cells": [
    {
      "cell_type": "code",
      "execution_count": 1,
      "id": "f70eb8fbb89fa18e",
      "metadata": {
        "execution": {
          "iopub.execute_input": "2023-09-01T15:53:44.689561Z",
          "iopub.status.busy": "2023-09-01T15:53:44.688683Z",
          "iopub.status.idle": "2023-09-01T15:53:44.693826Z",
          "shell.execute_reply": "2023-09-01T15:53:44.693115Z"
        },
        "papermill": {
          "duration": 0.014214,
          "end_time": "2023-09-01T15:53:44.695321",
          "exception": false,
          "start_time": "2023-09-01T15:53:44.681107",
          "status": "completed"
        },
        "tags": [
          "remove-cell"
        ]
      },
      "outputs": [],
      "source": []
    },
    {
      "cell_type": "markdown",
      "id": "7f878cbc-3e90-4ceb-8633-79250de6d6b8",
      "metadata": {
        "papermill": {
          "duration": 0.003346,
          "end_time": "2023-09-01T15:53:44.702627",
          "exception": false,
          "start_time": "2023-09-01T15:53:44.699281",
          "status": "completed"
        },
        "tags": []
      },
      "source": [
        "# SAX make docs\n",
        "> CLI: build jupyter-books based docs"
      ]
    },
    {
      "cell_type": "code",
      "execution_count": 2,
      "id": "28681b477fcd9f69",
      "metadata": {
        "execution": {
          "iopub.execute_input": "2023-09-01T15:53:44.710729Z",
          "iopub.status.busy": "2023-09-01T15:53:44.710234Z",
          "iopub.status.idle": "2023-09-01T15:53:44.718076Z",
          "shell.execute_reply": "2023-09-01T15:53:44.717457Z"
        },
        "papermill": {
          "duration": 0.013581,
          "end_time": "2023-09-01T15:53:44.719436",
          "exception": false,
          "start_time": "2023-09-01T15:53:44.705855",
          "status": "completed"
        },
        "tags": [
          "remove-cell"
        ]
      },
      "outputs": [],
      "source": [
        "from __future__ import annotations\n",
        "\n",
        "import glob\n",
        "import json\n",
        "import os\n",
        "import re\n",
        "import secrets\n",
        "import shutil\n",
        "import subprocess\n",
        "import sys\n",
        "from typing import Dict, Union\n",
        "\n",
        "from fastcore.imports import IN_IPYTHON"
      ]
    },
    {
      "cell_type": "code",
      "execution_count": 3,
      "id": "72db90f96d78e473",
      "metadata": {
        "execution": {
          "iopub.execute_input": "2023-09-01T15:53:44.727336Z",
          "iopub.status.busy": "2023-09-01T15:53:44.726869Z",
          "iopub.status.idle": "2023-09-01T15:53:44.730621Z",
          "shell.execute_reply": "2023-09-01T15:53:44.729983Z"
        },
        "papermill": {
          "duration": 0.009255,
          "end_time": "2023-09-01T15:53:44.732032",
          "exception": false,
          "start_time": "2023-09-01T15:53:44.722777",
          "status": "completed"
        },
        "tags": [
          "hide-input"
        ]
      },
      "outputs": [],
      "source": [
        "MAGIC_COMMENTS = {\n",
        "    \"default_exp\": \"remove-cell\",\n",
        "    \"exporti\": \"remove-cell\",\n",
        "    \"export\": \"hide-input\",\n",
        "    \"exports\": None,\n",
        "    \"hide\": \"remove-cell\",\n",
        "    \"hide_input\": \"remove-input\",\n",
        "    \"hide_output\": \"remove-output\",\n",
        "    \"collapse_input\": \"hide-input\",\n",
        "    \"collapse_output\": \"hide-output\",\n",
        "}"
      ]
    },
    {
      "cell_type": "code",
      "execution_count": 4,
      "id": "2844deef0fff0144",
      "metadata": {
        "execution": {
          "iopub.execute_input": "2023-09-01T15:53:44.740051Z",
          "iopub.status.busy": "2023-09-01T15:53:44.739477Z",
          "iopub.status.idle": "2023-09-01T15:53:44.743035Z",
          "shell.execute_reply": "2023-09-01T15:53:44.742401Z"
        },
        "papermill": {
          "duration": 0.009207,
          "end_time": "2023-09-01T15:53:44.744476",
          "exception": false,
          "start_time": "2023-09-01T15:53:44.735269",
          "status": "completed"
        },
        "tags": [
          "hide-input"
        ]
      },
      "outputs": [],
      "source": [
        "if IN_IPYTHON:\n",
        "    ROOT = os.path.abspath('..')\n",
        "else:\n",
        "    ROOT = os.path.abspath('.')"
      ]
    },
    {
      "cell_type": "markdown",
      "id": "aee002824fd63b3b",
      "metadata": {},
      "source": [
        ":::{eval-rst}\n",
        ".. autofunction:: sax.make_docs.load_nb\n",
        ":::\n"
      ]
    },
    {
      "cell_type": "code",
      "execution_count": 5,
      "id": "22ef8d2df2ce4378",
      "metadata": {
        "execution": {
          "iopub.execute_input": "2023-09-01T15:53:44.753680Z",
          "iopub.status.busy": "2023-09-01T15:53:44.753291Z",
          "iopub.status.idle": "2023-09-01T15:53:44.757384Z",
          "shell.execute_reply": "2023-09-01T15:53:44.756718Z"
        },
        "papermill": {
          "duration": 0.009778,
          "end_time": "2023-09-01T15:53:44.758860",
          "exception": false,
          "start_time": "2023-09-01T15:53:44.749082",
          "status": "completed"
        },
        "tags": [
          "hide-input"
        ]
      },
      "outputs": [],
      "source": [
        "def load_nb(path: str) -> Dict:\n",
        "    \"\"\" load a jupyter notebook as dictionary\n",
        "\n",
        "    Args:\n",
        "        path: the path of the notebook to load\n",
        "\n",
        "    Returns:\n",
        "        the notebook represented as a dictionary\n",
        "    \"\"\"\n",
        "    with open(path, \"r\") as file:\n",
        "        nb = json.load(file)\n",
        "    return nb"
      ]
    },
    {
      "cell_type": "markdown",
      "id": "006fe21da78e1a8b",
      "metadata": {},
      "source": [
        ":::{eval-rst}\n",
        ".. autofunction:: sax.make_docs.repository_path\n",
        ":::\n"
      ]
    },
    {
      "cell_type": "code",
      "execution_count": 6,
      "id": "31ea6aa64c5b9481",
      "metadata": {
        "execution": {
          "iopub.execute_input": "2023-09-01T15:53:44.767048Z",
          "iopub.status.busy": "2023-09-01T15:53:44.766485Z",
          "iopub.status.idle": "2023-09-01T15:53:44.772004Z",
          "shell.execute_reply": "2023-09-01T15:53:44.771363Z"
        },
        "papermill": {
          "duration": 0.01115,
          "end_time": "2023-09-01T15:53:44.773434",
          "exception": false,
          "start_time": "2023-09-01T15:53:44.762284",
          "status": "completed"
        },
        "tags": [
          "hide-input"
        ]
      },
      "outputs": [],
      "source": [
        "def repository_path(*path_parts: str, not_exist_ok: bool=False) -> str:\n",
        "    \"\"\" Get and validate a path in the modelbuild repository\n",
        "\n",
        "    Args:\n",
        "        *path_parts: the path parts that will be joined together\n",
        "            relative to the root of the repository.\n",
        "        not_exist_ok: skip validation if True\n",
        "\n",
        "    Returns:\n",
        "        the absolute path of the referenced file.\n",
        "    \"\"\"\n",
        "    if not (os.path.exists(path:=os.path.join(ROOT, \"docs\"))):\n",
        "        raise FileNotFoundError(f\"docs path {path!r} not found!\")\n",
        "    if not (os.path.exists(path:=os.path.join(ROOT, \"nbs\"))):\n",
        "        raise FileNotFoundError(f\"nbs path {path!r} not found!\")\n",
        "    if not (os.path.exists(path:=os.path.join(ROOT, \"sax\"))):\n",
        "        raise FileNotFoundError(f\"sax path {path!r} not found!\")\n",
        "\n",
        "    path = os.path.join(ROOT, *path_parts)\n",
        "    if not not_exist_ok and not os.path.exists(path):\n",
        "        raise FileNotFoundError(f\"Path {path!r} does not exist.\")\n",
        "\n",
        "    return path"
      ]
    },
    {
      "cell_type": "markdown",
      "id": "7f262f65571e257a",
      "metadata": {},
      "source": [
        ":::{eval-rst}\n",
        ".. autofunction:: sax.make_docs.docs_path\n",
        ":::\n"
      ]
    },
    {
      "cell_type": "code",
      "execution_count": 7,
      "id": "ae73aecda7a0ca10",
      "metadata": {
        "execution": {
          "iopub.execute_input": "2023-09-01T15:53:44.822711Z",
          "iopub.status.busy": "2023-09-01T15:53:44.821894Z",
          "iopub.status.idle": "2023-09-01T15:53:44.827312Z",
          "shell.execute_reply": "2023-09-01T15:53:44.826758Z"
        },
        "papermill": {
          "duration": 0.012355,
          "end_time": "2023-09-01T15:53:44.829032",
          "exception": false,
          "start_time": "2023-09-01T15:53:44.816677",
          "status": "completed"
        },
        "tags": [
          "hide-input"
        ]
      },
      "outputs": [],
      "source": [
        "def docs_path(*path_parts: str, not_exist_ok: bool=False) -> str:\n",
        "    return repository_path('docs', *path_parts, not_exist_ok=not_exist_ok)"
      ]
    },
    {
      "cell_type": "markdown",
      "id": "fa24507858752d43",
      "metadata": {},
      "source": [
        ":::{eval-rst}\n",
        ".. autofunction:: sax.make_docs.save_nb\n",
        ":::\n"
      ]
    },
    {
      "cell_type": "code",
      "execution_count": 8,
      "id": "5af8a8148475e51b",
      "metadata": {
        "execution": {
          "iopub.execute_input": "2023-09-01T15:53:44.837149Z",
          "iopub.status.busy": "2023-09-01T15:53:44.836896Z",
          "iopub.status.idle": "2023-09-01T15:53:44.841749Z",
          "shell.execute_reply": "2023-09-01T15:53:44.840986Z"
        },
        "papermill": {
          "duration": 0.010731,
          "end_time": "2023-09-01T15:53:44.843231",
          "exception": false,
          "start_time": "2023-09-01T15:53:44.832500",
          "status": "completed"
        },
        "tags": [
          "hide-input"
        ]
      },
      "outputs": [],
      "source": [
        "def save_nb(nb: Dict, path: str) -> str:\n",
        "    \"\"\" save a dictionary as a jupyter notebook\n",
        "\n",
        "    Args:\n",
        "        nb: the dictionary to convert into an ipynb file\n",
        "        path: the path to save the notebook under\n",
        "\n",
        "    Returns:\n",
        "        the path where the notebook was saved.\n",
        "    \"\"\"\n",
        "    path = os.path.abspath(path)\n",
        "    os.makedirs(os.path.dirname(path), exist_ok=True)\n",
        "    with open(path, \"w\") as file:\n",
        "        json.dump(nb, file, indent=2)\n",
        "    return path"
      ]
    },
    {
      "cell_type": "markdown",
      "id": "bacbf1e0818e64d5",
      "metadata": {},
      "source": [
        ":::{eval-rst}\n",
        ".. autofunction:: sax.make_docs.strip_metadata\n",
        ":::\n"
      ]
    },
    {
      "cell_type": "code",
      "execution_count": 9,
      "id": "f327a2be95b0d8ee",
      "metadata": {
        "execution": {
          "iopub.execute_input": "2023-09-01T15:53:44.851944Z",
          "iopub.status.busy": "2023-09-01T15:53:44.851352Z",
          "iopub.status.idle": "2023-09-01T15:53:44.856037Z",
          "shell.execute_reply": "2023-09-01T15:53:44.855477Z"
        },
        "papermill": {
          "duration": 0.010792,
          "end_time": "2023-09-01T15:53:44.857638",
          "exception": false,
          "start_time": "2023-09-01T15:53:44.846846",
          "status": "completed"
        },
        "tags": [
          "hide-input"
        ]
      },
      "outputs": [],
      "source": [
        "def strip_metadata(nb: Union[Dict, str]) -> Union[Dict,str]:\n",
        "    path = ''\n",
        "    if isinstance(nb, str):\n",
        "        path = nb\n",
        "        nb = load_nb(nb)\n",
        "    for cell in nb['cells']:\n",
        "        if not 'metadata' in cell:\n",
        "            continue\n",
        "        cell['metadata'] = {}\n",
        "    if path:\n",
        "        return save_nb(nb, path)\n",
        "    return path"
      ]
    },
    {
      "cell_type": "code",
      "execution_count": 10,
      "id": "247bf931057ab8b2",
      "metadata": {
        "execution": {
          "iopub.execute_input": "2023-09-01T15:53:44.866290Z",
          "iopub.status.busy": "2023-09-01T15:53:44.865780Z",
          "iopub.status.idle": "2023-09-01T15:53:44.869635Z",
          "shell.execute_reply": "2023-09-01T15:53:44.868972Z"
        },
        "papermill": {
          "duration": 0.009835,
          "end_time": "2023-09-01T15:53:44.871039",
          "exception": false,
          "start_time": "2023-09-01T15:53:44.861204",
          "status": "completed"
        },
        "tags": [
          "remove-cell"
        ]
      },
      "outputs": [],
      "source": [
        "def iter_code_cells(nb):\n",
        "    for cell in nb.get('cells', []):\n",
        "        if not cell.get(\"cell_type\", \"\") == \"code\":\n",
        "            continue\n",
        "        yield cell"
      ]
    },
    {
      "cell_type": "code",
      "execution_count": 11,
      "id": "a5c3cc673c0f8979",
      "metadata": {
        "execution": {
          "iopub.execute_input": "2023-09-01T15:53:44.879807Z",
          "iopub.status.busy": "2023-09-01T15:53:44.879208Z",
          "iopub.status.idle": "2023-09-01T15:53:44.883012Z",
          "shell.execute_reply": "2023-09-01T15:53:44.882341Z"
        },
        "papermill": {
          "duration": 0.009634,
          "end_time": "2023-09-01T15:53:44.884360",
          "exception": false,
          "start_time": "2023-09-01T15:53:44.874726",
          "status": "completed"
        },
        "tags": [
          "remove-cell"
        ]
      },
      "outputs": [],
      "source": [
        "def first_code_cell(nb):\n",
        "    try:\n",
        "        return next(iter_code_cells(nb))\n",
        "    except StopIteration:\n",
        "        return None"
      ]
    },
    {
      "cell_type": "code",
      "execution_count": 12,
      "id": "ccff5aeddbfc4bf2",
      "metadata": {
        "execution": {
          "iopub.execute_input": "2023-09-01T15:53:44.893275Z",
          "iopub.status.busy": "2023-09-01T15:53:44.892495Z",
          "iopub.status.idle": "2023-09-01T15:53:44.897784Z",
          "shell.execute_reply": "2023-09-01T15:53:44.896520Z"
        },
        "papermill": {
          "duration": 0.011266,
          "end_time": "2023-09-01T15:53:44.899257",
          "exception": false,
          "start_time": "2023-09-01T15:53:44.887991",
          "status": "completed"
        },
        "tags": [
          "remove-cell"
        ]
      },
      "outputs": [],
      "source": [
        "def get_default_exp(nb):\n",
        "    first_cell = first_code_cell(nb) or {}\n",
        "    first_source = first_cell.get('source', [])\n",
        "    first_line = \"\" if not first_source else first_source[0]\n",
        "    default_exp = first_line.split(\"default_exp\")[-1].strip()\n",
        "    return default_exp"
      ]
    },
    {
      "cell_type": "code",
      "execution_count": 13,
      "id": "431a007fd4f5c482",
      "metadata": {
        "execution": {
          "iopub.execute_input": "2023-09-01T15:53:44.908109Z",
          "iopub.status.busy": "2023-09-01T15:53:44.907611Z",
          "iopub.status.idle": "2023-09-01T15:53:44.911776Z",
          "shell.execute_reply": "2023-09-01T15:53:44.911082Z"
        },
        "papermill": {
          "duration": 0.010163,
          "end_time": "2023-09-01T15:53:44.913156",
          "exception": false,
          "start_time": "2023-09-01T15:53:44.902993",
          "status": "completed"
        },
        "tags": [
          "remove-cell"
        ]
      },
      "outputs": [],
      "source": [
        "def iter_function_names(source):\n",
        "    for line in source:\n",
        "        if not line.startswith(\"def \"):\n",
        "            continue\n",
        "        if line.startswith(\"def _\"):\n",
        "            continue\n",
        "        yield line.split(\"def \")[1].split(\"(\")[0]"
      ]
    },
    {
      "cell_type": "markdown",
      "id": "f4849925a086989f",
      "metadata": {},
      "source": [
        ":::{eval-rst}\n",
        ".. autofunction:: sax.make_docs.docs_copy_nb\n",
        ":::\n"
      ]
    },
    {
      "cell_type": "code",
      "execution_count": 14,
      "id": "9148b99086efe625",
      "metadata": {
        "execution": {
          "iopub.execute_input": "2023-09-01T15:53:44.922205Z",
          "iopub.status.busy": "2023-09-01T15:53:44.921963Z",
          "iopub.status.idle": "2023-09-01T15:53:44.932756Z",
          "shell.execute_reply": "2023-09-01T15:53:44.932168Z"
        },
        "papermill": {
          "duration": 0.017317,
          "end_time": "2023-09-01T15:53:44.934259",
          "exception": false,
          "start_time": "2023-09-01T15:53:44.916942",
          "status": "completed"
        },
        "tags": [
          "hide-input"
        ]
      },
      "outputs": [],
      "source": [
        "def docs_copy_nb(relpath, docsrelpath=None):\n",
        "    \"\"\"copy a single notebook from src to dst with modified docs metadata.\"\"\"\n",
        "    src = repository_path(relpath)\n",
        "    dst = docs_path((docsrelpath or relpath), not_exist_ok=True)\n",
        "    nb = load_nb(src)\n",
        "    nb_new = {**nb}\n",
        "    nb_new[\"cells\"] = []\n",
        "    module = get_default_exp(nb)\n",
        "\n",
        "    for cell in nb.get('cells', []):\n",
        "        if not cell.get(\"cell_type\", \"\") == \"code\":\n",
        "            nb_new[\"cells\"].append(cell)\n",
        "            continue\n",
        "            \n",
        "        cell_tags = cell.get(\"metadata\", {}).get(\"tags\", [])\n",
        "        source = cell.get(\"source\") or [\"\"]\n",
        "        line = source[0].strip()\n",
        "        \n",
        "        if not line.startswith(\"#\"):\n",
        "            nb_new[\"cells\"].append(cell)\n",
        "            continue\n",
        "            \n",
        "        keys = [k.strip() for k in line.split(\" \")]\n",
        "        keys = [k for k in keys if k in MAGIC_COMMENTS]\n",
        "        if keys:\n",
        "            del source[0]\n",
        "        for key in keys:\n",
        "            tag = MAGIC_COMMENTS[key]\n",
        "            if tag:\n",
        "                cell_tags.append(tag)\n",
        "        if len(cell_tags) > 0:\n",
        "            cell[\"metadata\"][\"tags\"] = cell_tags\n",
        "\n",
        "        if not 'remove-cell' in cell_tags:\n",
        "            for function_name in iter_function_names(source):\n",
        "                extra_cell = {\n",
        "                    \"cell_type\": \"markdown\",\n",
        "                    \"id\": secrets.token_hex(8),\n",
        "                    \"metadata\": {},\n",
        "                    \"source\": [\n",
        "                        \":::{eval-rst}\\n\",\n",
        "                        f\".. autofunction:: sax.{module}.{function_name}\\n\",\n",
        "                        \":::\\n\"\n",
        "                    ],\n",
        "                }\n",
        "                nb_new[\"cells\"].append(extra_cell)\n",
        "\n",
        "        cell[\"id\"] = secrets.token_hex(8)\n",
        "        nb_new[\"cells\"].append(cell)\n",
        "\n",
        "    os.makedirs(os.path.dirname(dst), exist_ok=True)\n",
        "    save_nb(nb_new, dst)\n",
        "    return dst"
      ]
    },
    {
      "cell_type": "markdown",
      "id": "064cf1f4eb039308",
      "metadata": {},
      "source": [
        ":::{eval-rst}\n",
        ".. autofunction:: sax.make_docs.list_notebooks\n",
        ":::\n"
      ]
    },
    {
      "cell_type": "markdown",
      "id": "15d41ac54a8eee11",
      "metadata": {},
      "source": [
        ":::{eval-rst}\n",
        ".. autofunction:: sax.make_docs.list_zips\n",
        ":::\n"
      ]
    },
    {
      "cell_type": "code",
      "execution_count": 15,
      "id": "08ccd328762aec6a",
      "metadata": {
        "execution": {
          "iopub.execute_input": "2023-09-01T15:53:44.943561Z",
          "iopub.status.busy": "2023-09-01T15:53:44.942839Z",
          "iopub.status.idle": "2023-09-01T15:53:44.946971Z",
          "shell.execute_reply": "2023-09-01T15:53:44.946341Z"
        },
        "papermill": {
          "duration": 0.010184,
          "end_time": "2023-09-01T15:53:44.948316",
          "exception": false,
          "start_time": "2023-09-01T15:53:44.938132",
          "status": "completed"
        },
        "tags": [
          "hide-input"
        ]
      },
      "outputs": [],
      "source": [
        "def list_notebooks(dir):\n",
        "    return glob.glob(os.path.join(dir, \"**/*.ipynb\"), recursive=True)\n",
        "\n",
        "def list_zips(dir):\n",
        "    return glob.glob(os.path.join(dir, \"**/*.zip\"), recursive=True)"
      ]
    },
    {
      "cell_type": "markdown",
      "id": "b6cd3ea66897844a",
      "metadata": {},
      "source": [
        ":::{eval-rst}\n",
        ".. autofunction:: sax.make_docs.docs_copy_dir\n",
        ":::\n"
      ]
    },
    {
      "cell_type": "code",
      "execution_count": 16,
      "id": "29df393ec6180799",
      "metadata": {
        "execution": {
          "iopub.execute_input": "2023-09-01T15:53:44.957688Z",
          "iopub.status.busy": "2023-09-01T15:53:44.956848Z",
          "iopub.status.idle": "2023-09-01T15:53:44.962015Z",
          "shell.execute_reply": "2023-09-01T15:53:44.961158Z"
        },
        "papermill": {
          "duration": 0.011518,
          "end_time": "2023-09-01T15:53:44.963530",
          "exception": false,
          "start_time": "2023-09-01T15:53:44.952012",
          "status": "completed"
        },
        "tags": [
          "hide-input"
        ]
      },
      "outputs": [],
      "source": [
        "def docs_copy_dir(relpath):\n",
        "    main_src = repository_path(relpath)\n",
        "    for src in list_notebooks(main_src):\n",
        "        rel = os.path.relpath(src, repository_path())\n",
        "        docs_copy_nb(rel)\n",
        "    for src in list_zips(main_src):\n",
        "        rel = os.path.relpath(src, repository_path())\n",
        "        dst = docs_path(\"_build\", \"html\", rel, not_exist_ok=True)\n",
        "        os.makedirs(os.path.dirname(dst), exist_ok=True)\n",
        "        shutil.copy2(src, dst)"
      ]
    },
    {
      "cell_type": "markdown",
      "id": "e1f567246f49ab28",
      "metadata": {},
      "source": [
        ":::{eval-rst}\n",
        ".. autofunction:: sax.make_docs.docs_copy_simulations\n",
        ":::\n"
      ]
    },
    {
      "cell_type": "code",
      "execution_count": 17,
      "id": "f10a9dc5bd8e03b7",
      "metadata": {
        "execution": {
          "iopub.execute_input": "2023-09-01T15:53:44.972755Z",
          "iopub.status.busy": "2023-09-01T15:53:44.972314Z",
          "iopub.status.idle": "2023-09-01T15:53:44.978423Z",
          "shell.execute_reply": "2023-09-01T15:53:44.977579Z"
        },
        "papermill": {
          "duration": 0.011989,
          "end_time": "2023-09-01T15:53:44.979814",
          "exception": false,
          "start_time": "2023-09-01T15:53:44.967825",
          "status": "completed"
        },
        "tags": [
          "hide-input"
        ]
      },
      "outputs": [],
      "source": [
        "def docs_copy_simulations():\n",
        "    with_results, without_results = {}, {}\n",
        "    for fn in os.listdir(simulations_path()):\n",
        "        sim, ext = os.path.splitext(fn)\n",
        "        if ext != \".ipynb\":\n",
        "            continue\n",
        "        try:\n",
        "            with_results[sim] = get_nominal_result(sim)\n",
        "        except FileNotFoundError:\n",
        "            without_results[sim] = {'hash': None, 'params': get_default_params(simulations_path(f\"{sim}.ipynb\"))}\n",
        "        except ValueError:\n",
        "            without_results[sim] = {'hash': None, 'params': get_default_params(simulations_path(f\"{sim}.ipynb\"))}\n",
        "            #raise\n",
        "        \n",
        "    for k, r in with_results.items():\n",
        "        docs_copy_nb(f\"results/{k}/{r['hash']}/_simulated.ipynb\", f\"simulations/{k}.ipynb\")\n",
        "        \n",
        "    for k, r in without_results.items():\n",
        "        docs_copy_nb(f\"simulations/{k}.ipynb\", f\"simulations/{k}.ipynb\")\n",
        "        \n",
        "    shutil.copytree(simulations_path(\"img\"), docs_path(\"_build\", \"html\", \"simulations\", \"img\", not_exist_ok=True), dirs_exist_ok=True)\n",
        "    return with_results, without_results"
      ]
    },
    {
      "cell_type": "markdown",
      "id": "bfe4744deaf0edba",
      "metadata": {},
      "source": [
        ":::{eval-rst}\n",
        ".. autofunction:: sax.make_docs.get_toc_part\n",
        ":::\n"
      ]
    },
    {
      "cell_type": "code",
      "execution_count": 18,
      "id": "c76d1e5c3618967f",
      "metadata": {
        "execution": {
          "iopub.execute_input": "2023-09-01T15:53:44.988704Z",
          "iopub.status.busy": "2023-09-01T15:53:44.988132Z",
          "iopub.status.idle": "2023-09-01T15:53:44.992316Z",
          "shell.execute_reply": "2023-09-01T15:53:44.991604Z"
        },
        "papermill": {
          "duration": 0.010191,
          "end_time": "2023-09-01T15:53:44.993728",
          "exception": false,
          "start_time": "2023-09-01T15:53:44.983537",
          "status": "completed"
        },
        "tags": [
          "hide-input"
        ]
      },
      "outputs": [],
      "source": [
        "def get_toc_part(toc, caption):\n",
        "    parts = [p for p in toc[\"parts\"] if caption == p[\"caption\"]]\n",
        "    try:\n",
        "        return parts[0]\n",
        "    except IndexError:\n",
        "        raise ValueError(f\"No TOC part with caption {caption!r} found.\")"
      ]
    },
    {
      "cell_type": "markdown",
      "id": "021577b4a5280308",
      "metadata": {},
      "source": [
        ":::{eval-rst}\n",
        ".. autofunction:: sax.make_docs.make_docs\n",
        ":::\n"
      ]
    },
    {
      "cell_type": "code",
      "execution_count": 19,
      "id": "e7d9626f84be8357",
      "metadata": {
        "execution": {
          "iopub.execute_input": "2023-09-01T15:53:45.002702Z",
          "iopub.status.busy": "2023-09-01T15:53:45.002258Z",
          "iopub.status.idle": "2023-09-01T15:53:45.006061Z",
          "shell.execute_reply": "2023-09-01T15:53:45.005386Z"
        },
        "papermill": {
          "duration": 0.009908,
          "end_time": "2023-09-01T15:53:45.007453",
          "exception": false,
          "start_time": "2023-09-01T15:53:44.997545",
          "status": "completed"
        },
        "tags": [
          "hide-input"
        ]
      },
      "outputs": [],
      "source": [
        "def make_docs():\n",
        "    docs_copy_nb(\"index.ipynb\")\n",
        "    docs_copy_dir(\"nbs\")\n",
        "    docs_copy_dir(\"examples\")\n",
        "    os.chdir(docs_path())\n",
        "    subprocess.check_call([sys.executable.replace(\"python\", \"jupyter-book\"), \"build\", \".\"])"
      ]
    },
    {
      "cell_type": "code",
      "execution_count": 20,
      "id": "85fb648ecb351e4a",
      "metadata": {
        "execution": {
          "iopub.execute_input": "2023-09-01T15:53:45.016411Z",
          "iopub.status.busy": "2023-09-01T15:53:45.015843Z",
          "iopub.status.idle": "2023-09-01T15:53:45.019175Z",
          "shell.execute_reply": "2023-09-01T15:53:45.018560Z"
        },
        "papermill": {
          "duration": 0.009316,
          "end_time": "2023-09-01T15:53:45.020558",
          "exception": false,
          "start_time": "2023-09-01T15:53:45.011242",
          "status": "completed"
        },
        "tags": [
          "hide-input"
        ]
      },
      "outputs": [],
      "source": [
        "if __name__ == '__main__' and not IN_IPYTHON:\n",
        "    make_docs()"
      ]
    }
  ],
  "metadata": {
    "kernelspec": {
      "display_name": "sax",
      "language": "python",
      "name": "sax"
    },
    "language_info": {
      "codemirror_mode": {
        "name": "ipython",
        "version": 3
      },
      "file_extension": ".py",
      "mimetype": "text/x-python",
      "name": "python",
      "nbconvert_exporter": "python",
      "pygments_lexer": "ipython3",
      "version": "3.11.5"
    },
    "papermill": {
      "default_parameters": {},
      "duration": 1.875106,
      "end_time": "2023-09-01T15:53:45.243167",
      "environment_variables": {},
      "exception": null,
      "input_path": "./nbs/98_make_docs.ipynb",
      "output_path": "./nbs/98_make_docs.ipynb",
      "parameters": {},
      "start_time": "2023-09-01T15:53:43.368061",
      "version": "2.4.0"
    }
  },
  "nbformat": 4,
  "nbformat_minor": 5
}