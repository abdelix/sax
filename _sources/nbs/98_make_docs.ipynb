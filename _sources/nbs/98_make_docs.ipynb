{
  "cells": [
    {
      "cell_type": "code",
      "execution_count": 1,
      "id": "e399af3932998ee1",
      "metadata": {
        "execution": {
          "iopub.execute_input": "2023-09-01T16:50:34.298719Z",
          "iopub.status.busy": "2023-09-01T16:50:34.298110Z",
          "iopub.status.idle": "2023-09-01T16:50:34.301654Z",
          "shell.execute_reply": "2023-09-01T16:50:34.301049Z"
        },
        "papermill": {
          "duration": 0.009222,
          "end_time": "2023-09-01T16:50:34.302993",
          "exception": false,
          "start_time": "2023-09-01T16:50:34.293771",
          "status": "completed"
        },
        "tags": [
          "remove-cell"
        ]
      },
      "outputs": [],
      "source": []
    },
    {
      "cell_type": "markdown",
      "id": "7f878cbc-3e90-4ceb-8633-79250de6d6b8",
      "metadata": {
        "papermill": {
          "duration": 0.002946,
          "end_time": "2023-09-01T16:50:34.309177",
          "exception": false,
          "start_time": "2023-09-01T16:50:34.306231",
          "status": "completed"
        },
        "tags": []
      },
      "source": [
        "# SAX make docs\n",
        "> CLI: build jupyter-books based docs"
      ]
    },
    {
      "cell_type": "code",
      "execution_count": 2,
      "id": "5f881d5c8ec573aa",
      "metadata": {
        "execution": {
          "iopub.execute_input": "2023-09-01T16:50:34.316067Z",
          "iopub.status.busy": "2023-09-01T16:50:34.315415Z",
          "iopub.status.idle": "2023-09-01T16:50:34.322000Z",
          "shell.execute_reply": "2023-09-01T16:50:34.321519Z"
        },
        "papermill": {
          "duration": 0.011263,
          "end_time": "2023-09-01T16:50:34.323151",
          "exception": false,
          "start_time": "2023-09-01T16:50:34.311888",
          "status": "completed"
        },
        "tags": [
          "remove-cell"
        ]
      },
      "outputs": [],
      "source": [
        "from __future__ import annotations\n",
        "\n",
        "import glob\n",
        "import json\n",
        "import os\n",
        "import re\n",
        "import secrets\n",
        "import shutil\n",
        "import subprocess\n",
        "import sys\n",
        "from typing import Dict, Union\n",
        "\n",
        "from fastcore.imports import IN_IPYTHON"
      ]
    },
    {
      "cell_type": "code",
      "execution_count": 3,
      "id": "10ad6c1ead0c95d0",
      "metadata": {
        "execution": {
          "iopub.execute_input": "2023-09-01T16:50:34.329721Z",
          "iopub.status.busy": "2023-09-01T16:50:34.329340Z",
          "iopub.status.idle": "2023-09-01T16:50:34.332656Z",
          "shell.execute_reply": "2023-09-01T16:50:34.332145Z"
        },
        "papermill": {
          "duration": 0.007828,
          "end_time": "2023-09-01T16:50:34.333774",
          "exception": false,
          "start_time": "2023-09-01T16:50:34.325946",
          "status": "completed"
        },
        "tags": [
          "hide-input"
        ]
      },
      "outputs": [],
      "source": [
        "MAGIC_COMMENTS = {\n",
        "    \"default_exp\": \"remove-cell\",\n",
        "    \"exporti\": \"remove-cell\",\n",
        "    \"export\": \"hide-input\",\n",
        "    \"exports\": None,\n",
        "    \"hide\": \"remove-cell\",\n",
        "    \"hide_input\": \"remove-input\",\n",
        "    \"hide_output\": \"remove-output\",\n",
        "    \"collapse_input\": \"hide-input\",\n",
        "    \"collapse_output\": \"hide-output\",\n",
        "}"
      ]
    },
    {
      "cell_type": "code",
      "execution_count": 4,
      "id": "f455fadc02fb1b57",
      "metadata": {
        "execution": {
          "iopub.execute_input": "2023-09-01T16:50:34.340354Z",
          "iopub.status.busy": "2023-09-01T16:50:34.340044Z",
          "iopub.status.idle": "2023-09-01T16:50:34.343099Z",
          "shell.execute_reply": "2023-09-01T16:50:34.342536Z"
        },
        "papermill": {
          "duration": 0.007606,
          "end_time": "2023-09-01T16:50:34.344212",
          "exception": false,
          "start_time": "2023-09-01T16:50:34.336606",
          "status": "completed"
        },
        "tags": [
          "hide-input"
        ]
      },
      "outputs": [],
      "source": [
        "if IN_IPYTHON:\n",
        "    ROOT = os.path.abspath('..')\n",
        "else:\n",
        "    ROOT = os.path.abspath('.')"
      ]
    },
    {
      "cell_type": "markdown",
      "id": "1622335100176e4e",
      "metadata": {},
      "source": [
        ":::{eval-rst}\n",
        ".. autofunction:: sax.make_docs.load_nb\n",
        ":::\n"
      ]
    },
    {
      "cell_type": "code",
      "execution_count": 5,
      "id": "79e5253e066a2397",
      "metadata": {
        "execution": {
          "iopub.execute_input": "2023-09-01T16:50:34.351650Z",
          "iopub.status.busy": "2023-09-01T16:50:34.351214Z",
          "iopub.status.idle": "2023-09-01T16:50:34.354597Z",
          "shell.execute_reply": "2023-09-01T16:50:34.354070Z"
        },
        "papermill": {
          "duration": 0.007852,
          "end_time": "2023-09-01T16:50:34.355705",
          "exception": false,
          "start_time": "2023-09-01T16:50:34.347853",
          "status": "completed"
        },
        "tags": [
          "hide-input"
        ]
      },
      "outputs": [],
      "source": [
        "def load_nb(path: str) -> Dict:\n",
        "    \"\"\" load a jupyter notebook as dictionary\n",
        "\n",
        "    Args:\n",
        "        path: the path of the notebook to load\n",
        "\n",
        "    Returns:\n",
        "        the notebook represented as a dictionary\n",
        "    \"\"\"\n",
        "    with open(path, \"r\") as file:\n",
        "        nb = json.load(file)\n",
        "    return nb"
      ]
    },
    {
      "cell_type": "markdown",
      "id": "b5371bfb382c3539",
      "metadata": {},
      "source": [
        ":::{eval-rst}\n",
        ".. autofunction:: sax.make_docs.repository_path\n",
        ":::\n"
      ]
    },
    {
      "cell_type": "code",
      "execution_count": 6,
      "id": "d017085e2da89c3f",
      "metadata": {
        "execution": {
          "iopub.execute_input": "2023-09-01T16:50:34.362147Z",
          "iopub.status.busy": "2023-09-01T16:50:34.361968Z",
          "iopub.status.idle": "2023-09-01T16:50:34.366243Z",
          "shell.execute_reply": "2023-09-01T16:50:34.365709Z"
        },
        "papermill": {
          "duration": 0.008948,
          "end_time": "2023-09-01T16:50:34.367406",
          "exception": false,
          "start_time": "2023-09-01T16:50:34.358458",
          "status": "completed"
        },
        "tags": [
          "hide-input"
        ]
      },
      "outputs": [],
      "source": [
        "def repository_path(*path_parts: str, not_exist_ok: bool=False) -> str:\n",
        "    \"\"\" Get and validate a path in the modelbuild repository\n",
        "\n",
        "    Args:\n",
        "        *path_parts: the path parts that will be joined together\n",
        "            relative to the root of the repository.\n",
        "        not_exist_ok: skip validation if True\n",
        "\n",
        "    Returns:\n",
        "        the absolute path of the referenced file.\n",
        "    \"\"\"\n",
        "    if not (os.path.exists(path:=os.path.join(ROOT, \"docs\"))):\n",
        "        raise FileNotFoundError(f\"docs path {path!r} not found!\")\n",
        "    if not (os.path.exists(path:=os.path.join(ROOT, \"nbs\"))):\n",
        "        raise FileNotFoundError(f\"nbs path {path!r} not found!\")\n",
        "    if not (os.path.exists(path:=os.path.join(ROOT, \"sax\"))):\n",
        "        raise FileNotFoundError(f\"sax path {path!r} not found!\")\n",
        "\n",
        "    path = os.path.join(ROOT, *path_parts)\n",
        "    if not not_exist_ok and not os.path.exists(path):\n",
        "        raise FileNotFoundError(f\"Path {path!r} does not exist.\")\n",
        "\n",
        "    return path"
      ]
    },
    {
      "cell_type": "markdown",
      "id": "db88217b161bcbc9",
      "metadata": {},
      "source": [
        ":::{eval-rst}\n",
        ".. autofunction:: sax.make_docs.docs_path\n",
        ":::\n"
      ]
    },
    {
      "cell_type": "code",
      "execution_count": 7,
      "id": "c8054b273b37c155",
      "metadata": {
        "execution": {
          "iopub.execute_input": "2023-09-01T16:50:34.399027Z",
          "iopub.status.busy": "2023-09-01T16:50:34.398644Z",
          "iopub.status.idle": "2023-09-01T16:50:34.401832Z",
          "shell.execute_reply": "2023-09-01T16:50:34.401304Z"
        },
        "papermill": {
          "duration": 0.008082,
          "end_time": "2023-09-01T16:50:34.402980",
          "exception": false,
          "start_time": "2023-09-01T16:50:34.394898",
          "status": "completed"
        },
        "tags": [
          "hide-input"
        ]
      },
      "outputs": [],
      "source": [
        "def docs_path(*path_parts: str, not_exist_ok: bool=False) -> str:\n",
        "    return repository_path('docs', *path_parts, not_exist_ok=not_exist_ok)"
      ]
    },
    {
      "cell_type": "markdown",
      "id": "2512e891de19d506",
      "metadata": {},
      "source": [
        ":::{eval-rst}\n",
        ".. autofunction:: sax.make_docs.save_nb\n",
        ":::\n"
      ]
    },
    {
      "cell_type": "code",
      "execution_count": 8,
      "id": "c061b9c13c17c767",
      "metadata": {
        "execution": {
          "iopub.execute_input": "2023-09-01T16:50:34.409869Z",
          "iopub.status.busy": "2023-09-01T16:50:34.409474Z",
          "iopub.status.idle": "2023-09-01T16:50:34.413260Z",
          "shell.execute_reply": "2023-09-01T16:50:34.412739Z"
        },
        "papermill": {
          "duration": 0.008488,
          "end_time": "2023-09-01T16:50:34.414368",
          "exception": false,
          "start_time": "2023-09-01T16:50:34.405880",
          "status": "completed"
        },
        "tags": [
          "hide-input"
        ]
      },
      "outputs": [],
      "source": [
        "def save_nb(nb: Dict, path: str) -> str:\n",
        "    \"\"\" save a dictionary as a jupyter notebook\n",
        "\n",
        "    Args:\n",
        "        nb: the dictionary to convert into an ipynb file\n",
        "        path: the path to save the notebook under\n",
        "\n",
        "    Returns:\n",
        "        the path where the notebook was saved.\n",
        "    \"\"\"\n",
        "    path = os.path.abspath(path)\n",
        "    os.makedirs(os.path.dirname(path), exist_ok=True)\n",
        "    with open(path, \"w\") as file:\n",
        "        json.dump(nb, file, indent=2)\n",
        "    return path"
      ]
    },
    {
      "cell_type": "markdown",
      "id": "475e5562f213a65c",
      "metadata": {},
      "source": [
        ":::{eval-rst}\n",
        ".. autofunction:: sax.make_docs.strip_metadata\n",
        ":::\n"
      ]
    },
    {
      "cell_type": "code",
      "execution_count": 9,
      "id": "52338ab99cd3a4c9",
      "metadata": {
        "execution": {
          "iopub.execute_input": "2023-09-01T16:50:34.421433Z",
          "iopub.status.busy": "2023-09-01T16:50:34.421145Z",
          "iopub.status.idle": "2023-09-01T16:50:34.425691Z",
          "shell.execute_reply": "2023-09-01T16:50:34.425254Z"
        },
        "papermill": {
          "duration": 0.00939,
          "end_time": "2023-09-01T16:50:34.426871",
          "exception": false,
          "start_time": "2023-09-01T16:50:34.417481",
          "status": "completed"
        },
        "tags": [
          "hide-input"
        ]
      },
      "outputs": [],
      "source": [
        "def strip_metadata(nb: Union[Dict, str]) -> Union[Dict,str]:\n",
        "    path = ''\n",
        "    if isinstance(nb, str):\n",
        "        path = nb\n",
        "        nb = load_nb(nb)\n",
        "    for cell in nb['cells']:\n",
        "        if not 'metadata' in cell:\n",
        "            continue\n",
        "        cell['metadata'] = {}\n",
        "    if path:\n",
        "        return save_nb(nb, path)\n",
        "    return path"
      ]
    },
    {
      "cell_type": "code",
      "execution_count": 10,
      "id": "df471fd6c37af200",
      "metadata": {
        "execution": {
          "iopub.execute_input": "2023-09-01T16:50:34.433631Z",
          "iopub.status.busy": "2023-09-01T16:50:34.433325Z",
          "iopub.status.idle": "2023-09-01T16:50:34.436170Z",
          "shell.execute_reply": "2023-09-01T16:50:34.435753Z"
        },
        "papermill": {
          "duration": 0.007411,
          "end_time": "2023-09-01T16:50:34.437204",
          "exception": false,
          "start_time": "2023-09-01T16:50:34.429793",
          "status": "completed"
        },
        "tags": [
          "remove-cell"
        ]
      },
      "outputs": [],
      "source": [
        "def iter_code_cells(nb):\n",
        "    for cell in nb.get('cells', []):\n",
        "        if not cell.get(\"cell_type\", \"\") == \"code\":\n",
        "            continue\n",
        "        yield cell"
      ]
    },
    {
      "cell_type": "code",
      "execution_count": 11,
      "id": "2dc18c7d41f465fa",
      "metadata": {
        "execution": {
          "iopub.execute_input": "2023-09-01T16:50:34.444089Z",
          "iopub.status.busy": "2023-09-01T16:50:34.443779Z",
          "iopub.status.idle": "2023-09-01T16:50:34.446427Z",
          "shell.execute_reply": "2023-09-01T16:50:34.446029Z"
        },
        "papermill": {
          "duration": 0.007225,
          "end_time": "2023-09-01T16:50:34.447428",
          "exception": false,
          "start_time": "2023-09-01T16:50:34.440203",
          "status": "completed"
        },
        "tags": [
          "remove-cell"
        ]
      },
      "outputs": [],
      "source": [
        "def first_code_cell(nb):\n",
        "    try:\n",
        "        return next(iter_code_cells(nb))\n",
        "    except StopIteration:\n",
        "        return None"
      ]
    },
    {
      "cell_type": "code",
      "execution_count": 12,
      "id": "d73dbbc86039671d",
      "metadata": {
        "execution": {
          "iopub.execute_input": "2023-09-01T16:50:34.454290Z",
          "iopub.status.busy": "2023-09-01T16:50:34.453963Z",
          "iopub.status.idle": "2023-09-01T16:50:34.457037Z",
          "shell.execute_reply": "2023-09-01T16:50:34.456628Z"
        },
        "papermill": {
          "duration": 0.007666,
          "end_time": "2023-09-01T16:50:34.458029",
          "exception": false,
          "start_time": "2023-09-01T16:50:34.450363",
          "status": "completed"
        },
        "tags": [
          "remove-cell"
        ]
      },
      "outputs": [],
      "source": [
        "def get_default_exp(nb):\n",
        "    first_cell = first_code_cell(nb) or {}\n",
        "    first_source = first_cell.get('source', [])\n",
        "    first_line = \"\" if not first_source else first_source[0]\n",
        "    default_exp = first_line.split(\"default_exp\")[-1].strip()\n",
        "    return default_exp"
      ]
    },
    {
      "cell_type": "code",
      "execution_count": 13,
      "id": "8c5380a13d884ddd",
      "metadata": {
        "execution": {
          "iopub.execute_input": "2023-09-01T16:50:34.464978Z",
          "iopub.status.busy": "2023-09-01T16:50:34.464646Z",
          "iopub.status.idle": "2023-09-01T16:50:34.467600Z",
          "shell.execute_reply": "2023-09-01T16:50:34.467203Z"
        },
        "papermill": {
          "duration": 0.007545,
          "end_time": "2023-09-01T16:50:34.468608",
          "exception": false,
          "start_time": "2023-09-01T16:50:34.461063",
          "status": "completed"
        },
        "tags": [
          "remove-cell"
        ]
      },
      "outputs": [],
      "source": [
        "def iter_function_names(source):\n",
        "    for line in source:\n",
        "        if not line.startswith(\"def \"):\n",
        "            continue\n",
        "        if line.startswith(\"def _\"):\n",
        "            continue\n",
        "        yield line.split(\"def \")[1].split(\"(\")[0]"
      ]
    },
    {
      "cell_type": "markdown",
      "id": "a90468a33ee091b8",
      "metadata": {},
      "source": [
        ":::{eval-rst}\n",
        ".. autofunction:: sax.make_docs.docs_copy_nb\n",
        ":::\n"
      ]
    },
    {
      "cell_type": "code",
      "execution_count": 14,
      "id": "530e0cc636c964b4",
      "metadata": {
        "execution": {
          "iopub.execute_input": "2023-09-01T16:50:34.475647Z",
          "iopub.status.busy": "2023-09-01T16:50:34.475311Z",
          "iopub.status.idle": "2023-09-01T16:50:34.482250Z",
          "shell.execute_reply": "2023-09-01T16:50:34.481770Z"
        },
        "papermill": {
          "duration": 0.011832,
          "end_time": "2023-09-01T16:50:34.483445",
          "exception": false,
          "start_time": "2023-09-01T16:50:34.471613",
          "status": "completed"
        },
        "tags": [
          "hide-input"
        ]
      },
      "outputs": [],
      "source": [
        "def docs_copy_nb(relpath, docsrelpath=None):\n",
        "    \"\"\"copy a single notebook from src to dst with modified docs metadata.\"\"\"\n",
        "    src = repository_path(relpath)\n",
        "    dst = docs_path((docsrelpath or relpath), not_exist_ok=True)\n",
        "    nb = load_nb(src)\n",
        "    nb_new = {**nb}\n",
        "    nb_new[\"cells\"] = []\n",
        "    module = get_default_exp(nb)\n",
        "\n",
        "    for cell in nb.get('cells', []):\n",
        "        if not cell.get(\"cell_type\", \"\") == \"code\":\n",
        "            nb_new[\"cells\"].append(cell)\n",
        "            continue\n",
        "            \n",
        "        cell_tags = cell.get(\"metadata\", {}).get(\"tags\", [])\n",
        "        source = cell.get(\"source\") or [\"\"]\n",
        "        line = source[0].strip()\n",
        "        \n",
        "        if not line.startswith(\"#\"):\n",
        "            nb_new[\"cells\"].append(cell)\n",
        "            continue\n",
        "            \n",
        "        keys = [k.strip() for k in line.split(\" \")]\n",
        "        keys = [k for k in keys if k in MAGIC_COMMENTS]\n",
        "        if keys:\n",
        "            del source[0]\n",
        "        for key in keys:\n",
        "            tag = MAGIC_COMMENTS[key]\n",
        "            if tag:\n",
        "                cell_tags.append(tag)\n",
        "        if len(cell_tags) > 0:\n",
        "            cell[\"metadata\"][\"tags\"] = cell_tags\n",
        "\n",
        "        if not 'remove-cell' in cell_tags:\n",
        "            for function_name in iter_function_names(source):\n",
        "                extra_cell = {\n",
        "                    \"cell_type\": \"markdown\",\n",
        "                    \"id\": secrets.token_hex(8),\n",
        "                    \"metadata\": {},\n",
        "                    \"source\": [\n",
        "                        \":::{eval-rst}\\n\",\n",
        "                        f\".. autofunction:: sax.{module}.{function_name}\\n\",\n",
        "                        \":::\\n\"\n",
        "                    ],\n",
        "                }\n",
        "                nb_new[\"cells\"].append(extra_cell)\n",
        "\n",
        "        cell[\"id\"] = secrets.token_hex(8)\n",
        "        nb_new[\"cells\"].append(cell)\n",
        "\n",
        "    os.makedirs(os.path.dirname(dst), exist_ok=True)\n",
        "    save_nb(nb_new, dst)\n",
        "    return dst"
      ]
    },
    {
      "cell_type": "markdown",
      "id": "b0346ad64153bccb",
      "metadata": {},
      "source": [
        ":::{eval-rst}\n",
        ".. autofunction:: sax.make_docs.list_notebooks\n",
        ":::\n"
      ]
    },
    {
      "cell_type": "markdown",
      "id": "39d863c4ff77583c",
      "metadata": {},
      "source": [
        ":::{eval-rst}\n",
        ".. autofunction:: sax.make_docs.list_zips\n",
        ":::\n"
      ]
    },
    {
      "cell_type": "code",
      "execution_count": 15,
      "id": "3fc82188e83df4c2",
      "metadata": {
        "execution": {
          "iopub.execute_input": "2023-09-01T16:50:34.490739Z",
          "iopub.status.busy": "2023-09-01T16:50:34.490334Z",
          "iopub.status.idle": "2023-09-01T16:50:34.493577Z",
          "shell.execute_reply": "2023-09-01T16:50:34.493075Z"
        },
        "papermill": {
          "duration": 0.008027,
          "end_time": "2023-09-01T16:50:34.494717",
          "exception": false,
          "start_time": "2023-09-01T16:50:34.486690",
          "status": "completed"
        },
        "tags": [
          "hide-input"
        ]
      },
      "outputs": [],
      "source": [
        "def list_notebooks(dir):\n",
        "    return glob.glob(os.path.join(dir, \"**/*.ipynb\"), recursive=True)\n",
        "\n",
        "def list_zips(dir):\n",
        "    return glob.glob(os.path.join(dir, \"**/*.zip\"), recursive=True)"
      ]
    },
    {
      "cell_type": "markdown",
      "id": "e5f74028e17025b0",
      "metadata": {},
      "source": [
        ":::{eval-rst}\n",
        ".. autofunction:: sax.make_docs.docs_copy_dir\n",
        ":::\n"
      ]
    },
    {
      "cell_type": "code",
      "execution_count": 16,
      "id": "a428f9ed192f37fa",
      "metadata": {
        "execution": {
          "iopub.execute_input": "2023-09-01T16:50:34.501730Z",
          "iopub.status.busy": "2023-09-01T16:50:34.501381Z",
          "iopub.status.idle": "2023-09-01T16:50:34.505160Z",
          "shell.execute_reply": "2023-09-01T16:50:34.504667Z"
        },
        "papermill": {
          "duration": 0.008523,
          "end_time": "2023-09-01T16:50:34.506292",
          "exception": false,
          "start_time": "2023-09-01T16:50:34.497769",
          "status": "completed"
        },
        "tags": [
          "hide-input"
        ]
      },
      "outputs": [],
      "source": [
        "def docs_copy_dir(relpath):\n",
        "    main_src = repository_path(relpath)\n",
        "    for src in list_notebooks(main_src):\n",
        "        rel = os.path.relpath(src, repository_path())\n",
        "        docs_copy_nb(rel)\n",
        "    for src in list_zips(main_src):\n",
        "        rel = os.path.relpath(src, repository_path())\n",
        "        dst = docs_path(\"_build\", \"html\", rel, not_exist_ok=True)\n",
        "        os.makedirs(os.path.dirname(dst), exist_ok=True)\n",
        "        shutil.copy2(src, dst)"
      ]
    },
    {
      "cell_type": "markdown",
      "id": "edc04eb92f6c52dc",
      "metadata": {},
      "source": [
        ":::{eval-rst}\n",
        ".. autofunction:: sax.make_docs.docs_copy_simulations\n",
        ":::\n"
      ]
    },
    {
      "cell_type": "code",
      "execution_count": 17,
      "id": "07efe3afade429d3",
      "metadata": {
        "execution": {
          "iopub.execute_input": "2023-09-01T16:50:34.513532Z",
          "iopub.status.busy": "2023-09-01T16:50:34.513103Z",
          "iopub.status.idle": "2023-09-01T16:50:34.518009Z",
          "shell.execute_reply": "2023-09-01T16:50:34.517520Z"
        },
        "papermill": {
          "duration": 0.009597,
          "end_time": "2023-09-01T16:50:34.519065",
          "exception": false,
          "start_time": "2023-09-01T16:50:34.509468",
          "status": "completed"
        },
        "tags": [
          "hide-input"
        ]
      },
      "outputs": [],
      "source": [
        "def docs_copy_simulations():\n",
        "    with_results, without_results = {}, {}\n",
        "    for fn in os.listdir(simulations_path()):\n",
        "        sim, ext = os.path.splitext(fn)\n",
        "        if ext != \".ipynb\":\n",
        "            continue\n",
        "        try:\n",
        "            with_results[sim] = get_nominal_result(sim)\n",
        "        except FileNotFoundError:\n",
        "            without_results[sim] = {'hash': None, 'params': get_default_params(simulations_path(f\"{sim}.ipynb\"))}\n",
        "        except ValueError:\n",
        "            without_results[sim] = {'hash': None, 'params': get_default_params(simulations_path(f\"{sim}.ipynb\"))}\n",
        "            #raise\n",
        "        \n",
        "    for k, r in with_results.items():\n",
        "        docs_copy_nb(f\"results/{k}/{r['hash']}/_simulated.ipynb\", f\"simulations/{k}.ipynb\")\n",
        "        \n",
        "    for k, r in without_results.items():\n",
        "        docs_copy_nb(f\"simulations/{k}.ipynb\", f\"simulations/{k}.ipynb\")\n",
        "        \n",
        "    shutil.copytree(simulations_path(\"img\"), docs_path(\"_build\", \"html\", \"simulations\", \"img\", not_exist_ok=True), dirs_exist_ok=True)\n",
        "    return with_results, without_results"
      ]
    },
    {
      "cell_type": "markdown",
      "id": "23ae88fd7c897a65",
      "metadata": {},
      "source": [
        ":::{eval-rst}\n",
        ".. autofunction:: sax.make_docs.get_toc_part\n",
        ":::\n"
      ]
    },
    {
      "cell_type": "code",
      "execution_count": 18,
      "id": "0e6c0cd4d9d169cf",
      "metadata": {
        "execution": {
          "iopub.execute_input": "2023-09-01T16:50:34.526636Z",
          "iopub.status.busy": "2023-09-01T16:50:34.526183Z",
          "iopub.status.idle": "2023-09-01T16:50:34.529453Z",
          "shell.execute_reply": "2023-09-01T16:50:34.528971Z"
        },
        "papermill": {
          "duration": 0.008264,
          "end_time": "2023-09-01T16:50:34.530553",
          "exception": false,
          "start_time": "2023-09-01T16:50:34.522289",
          "status": "completed"
        },
        "tags": [
          "hide-input"
        ]
      },
      "outputs": [],
      "source": [
        "def get_toc_part(toc, caption):\n",
        "    parts = [p for p in toc[\"parts\"] if caption == p[\"caption\"]]\n",
        "    try:\n",
        "        return parts[0]\n",
        "    except IndexError:\n",
        "        raise ValueError(f\"No TOC part with caption {caption!r} found.\")"
      ]
    },
    {
      "cell_type": "markdown",
      "id": "39b64dcccd153a4d",
      "metadata": {},
      "source": [
        ":::{eval-rst}\n",
        ".. autofunction:: sax.make_docs.make_docs\n",
        ":::\n"
      ]
    },
    {
      "cell_type": "code",
      "execution_count": 19,
      "id": "ce560dce3ce56c98",
      "metadata": {
        "execution": {
          "iopub.execute_input": "2023-09-01T16:50:34.537887Z",
          "iopub.status.busy": "2023-09-01T16:50:34.537441Z",
          "iopub.status.idle": "2023-09-01T16:50:34.540672Z",
          "shell.execute_reply": "2023-09-01T16:50:34.540156Z"
        },
        "papermill": {
          "duration": 0.007952,
          "end_time": "2023-09-01T16:50:34.541712",
          "exception": false,
          "start_time": "2023-09-01T16:50:34.533760",
          "status": "completed"
        },
        "tags": [
          "hide-input"
        ]
      },
      "outputs": [],
      "source": [
        "def make_docs():\n",
        "    docs_copy_nb(\"index.ipynb\")\n",
        "    docs_copy_dir(\"nbs\")\n",
        "    docs_copy_dir(\"examples\")\n",
        "    os.chdir(docs_path())\n",
        "    subprocess.check_call([sys.executable.replace(\"python\", \"jupyter-book\"), \"build\", \".\"])"
      ]
    },
    {
      "cell_type": "code",
      "execution_count": 20,
      "id": "c8772bed7acb4f45",
      "metadata": {
        "execution": {
          "iopub.execute_input": "2023-09-01T16:50:34.548992Z",
          "iopub.status.busy": "2023-09-01T16:50:34.548551Z",
          "iopub.status.idle": "2023-09-01T16:50:34.551296Z",
          "shell.execute_reply": "2023-09-01T16:50:34.550773Z"
        },
        "papermill": {
          "duration": 0.007489,
          "end_time": "2023-09-01T16:50:34.552392",
          "exception": false,
          "start_time": "2023-09-01T16:50:34.544903",
          "status": "completed"
        },
        "tags": [
          "hide-input"
        ]
      },
      "outputs": [],
      "source": [
        "if __name__ == '__main__' and not IN_IPYTHON:\n",
        "    make_docs()"
      ]
    }
  ],
  "metadata": {
    "kernelspec": {
      "display_name": "sax",
      "language": "python",
      "name": "sax"
    },
    "language_info": {
      "codemirror_mode": {
        "name": "ipython",
        "version": 3
      },
      "file_extension": ".py",
      "mimetype": "text/x-python",
      "name": "python",
      "nbconvert_exporter": "python",
      "pygments_lexer": "ipython3",
      "version": "3.11.5"
    },
    "papermill": {
      "default_parameters": {},
      "duration": 1.691471,
      "end_time": "2023-09-01T16:50:34.670372",
      "environment_variables": {},
      "exception": null,
      "input_path": "./nbs/98_make_docs.ipynb",
      "output_path": "./nbs/98_make_docs.ipynb",
      "parameters": {},
      "start_time": "2023-09-01T16:50:32.978901",
      "version": "2.4.0"
    }
  },
  "nbformat": 4,
  "nbformat_minor": 5
}