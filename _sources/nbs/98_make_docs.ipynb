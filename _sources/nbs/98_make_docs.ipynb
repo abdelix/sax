{
  "cells": [
    {
      "cell_type": "code",
      "execution_count": 1,
      "id": "3a82a72a9f32bf49",
      "metadata": {
        "execution": {
          "iopub.execute_input": "2023-07-01T03:31:37.919016Z",
          "iopub.status.busy": "2023-07-01T03:31:37.918794Z",
          "iopub.status.idle": "2023-07-01T03:31:37.923017Z",
          "shell.execute_reply": "2023-07-01T03:31:37.922525Z"
        },
        "papermill": {
          "duration": 0.009746,
          "end_time": "2023-07-01T03:31:37.924305",
          "exception": false,
          "start_time": "2023-07-01T03:31:37.914559",
          "status": "completed"
        },
        "tags": [
          "remove-cell"
        ]
      },
      "outputs": [],
      "source": []
    },
    {
      "cell_type": "markdown",
      "id": "7f878cbc-3e90-4ceb-8633-79250de6d6b8",
      "metadata": {
        "papermill": {
          "duration": 0.002632,
          "end_time": "2023-07-01T03:31:37.930000",
          "exception": false,
          "start_time": "2023-07-01T03:31:37.927368",
          "status": "completed"
        },
        "tags": []
      },
      "source": [
        "# SAX make docs\n",
        "> CLI: build jupyter-books based docs"
      ]
    },
    {
      "cell_type": "code",
      "execution_count": 2,
      "id": "f90e71901a376c7b",
      "metadata": {
        "execution": {
          "iopub.execute_input": "2023-07-01T03:31:37.940664Z",
          "iopub.status.busy": "2023-07-01T03:31:37.940490Z",
          "iopub.status.idle": "2023-07-01T03:31:37.946799Z",
          "shell.execute_reply": "2023-07-01T03:31:37.946344Z"
        },
        "papermill": {
          "duration": 0.011977,
          "end_time": "2023-07-01T03:31:37.947921",
          "exception": false,
          "start_time": "2023-07-01T03:31:37.935944",
          "status": "completed"
        },
        "tags": [
          "remove-cell"
        ]
      },
      "outputs": [],
      "source": [
        "from __future__ import annotations\n",
        "\n",
        "import glob\n",
        "import json\n",
        "import os\n",
        "import re\n",
        "import secrets\n",
        "import shutil\n",
        "import subprocess\n",
        "import sys\n",
        "from typing import Dict, Union\n",
        "\n",
        "from fastcore.imports import IN_IPYTHON"
      ]
    },
    {
      "cell_type": "code",
      "execution_count": 3,
      "id": "1e168863a4a92ad4",
      "metadata": {
        "execution": {
          "iopub.execute_input": "2023-07-01T03:31:37.958763Z",
          "iopub.status.busy": "2023-07-01T03:31:37.958578Z",
          "iopub.status.idle": "2023-07-01T03:31:37.961431Z",
          "shell.execute_reply": "2023-07-01T03:31:37.960978Z"
        },
        "papermill": {
          "duration": 0.011997,
          "end_time": "2023-07-01T03:31:37.962648",
          "exception": false,
          "start_time": "2023-07-01T03:31:37.950651",
          "status": "completed"
        },
        "tags": [
          "hide-input"
        ]
      },
      "outputs": [],
      "source": [
        "MAGIC_COMMENTS = {\n",
        "    \"default_exp\": \"remove-cell\",\n",
        "    \"exporti\": \"remove-cell\",\n",
        "    \"export\": \"hide-input\",\n",
        "    \"exports\": None,\n",
        "    \"hide\": \"remove-cell\",\n",
        "    \"hide_input\": \"remove-input\",\n",
        "    \"hide_output\": \"remove-output\",\n",
        "    \"collapse_input\": \"hide-input\",\n",
        "    \"collapse_output\": \"hide-output\",\n",
        "}"
      ]
    },
    {
      "cell_type": "code",
      "execution_count": 4,
      "id": "bdea00d2dc22a302",
      "metadata": {
        "execution": {
          "iopub.execute_input": "2023-07-01T03:31:37.973582Z",
          "iopub.status.busy": "2023-07-01T03:31:37.973417Z",
          "iopub.status.idle": "2023-07-01T03:31:37.976059Z",
          "shell.execute_reply": "2023-07-01T03:31:37.975628Z"
        },
        "papermill": {
          "duration": 0.011866,
          "end_time": "2023-07-01T03:31:37.977194",
          "exception": false,
          "start_time": "2023-07-01T03:31:37.965328",
          "status": "completed"
        },
        "tags": [
          "hide-input"
        ]
      },
      "outputs": [],
      "source": [
        "if IN_IPYTHON:\n",
        "    ROOT = os.path.abspath('..')\n",
        "else:\n",
        "    ROOT = os.path.abspath('.')"
      ]
    },
    {
      "cell_type": "markdown",
      "id": "aa1ad2deae9ddde7",
      "metadata": {},
      "source": [
        ":::{eval-rst}\n",
        ".. autofunction:: sax.make_docs.load_nb\n",
        ":::\n"
      ]
    },
    {
      "cell_type": "code",
      "execution_count": 5,
      "id": "e06087bce41f56a5",
      "metadata": {
        "execution": {
          "iopub.execute_input": "2023-07-01T03:31:37.985767Z",
          "iopub.status.busy": "2023-07-01T03:31:37.985602Z",
          "iopub.status.idle": "2023-07-01T03:31:37.988666Z",
          "shell.execute_reply": "2023-07-01T03:31:37.988227Z"
        },
        "papermill": {
          "duration": 0.010061,
          "end_time": "2023-07-01T03:31:37.990027",
          "exception": false,
          "start_time": "2023-07-01T03:31:37.979966",
          "status": "completed"
        },
        "tags": [
          "hide-input"
        ]
      },
      "outputs": [],
      "source": [
        "def load_nb(path: str) -> Dict:\n",
        "    \"\"\" load a jupyter notebook as dictionary\n",
        "\n",
        "    Args:\n",
        "        path: the path of the notebook to load\n",
        "\n",
        "    Returns:\n",
        "        the notebook represented as a dictionary\n",
        "    \"\"\"\n",
        "    with open(path, \"r\") as file:\n",
        "        nb = json.load(file)\n",
        "    return nb"
      ]
    },
    {
      "cell_type": "markdown",
      "id": "e78f4309fa1f7d69",
      "metadata": {},
      "source": [
        ":::{eval-rst}\n",
        ".. autofunction:: sax.make_docs.repository_path\n",
        ":::\n"
      ]
    },
    {
      "cell_type": "code",
      "execution_count": 6,
      "id": "c88bbbd4ae1054a2",
      "metadata": {
        "execution": {
          "iopub.execute_input": "2023-07-01T03:31:38.003340Z",
          "iopub.status.busy": "2023-07-01T03:31:38.003172Z",
          "iopub.status.idle": "2023-07-01T03:31:38.007337Z",
          "shell.execute_reply": "2023-07-01T03:31:38.006907Z"
        },
        "papermill": {
          "duration": 0.015643,
          "end_time": "2023-07-01T03:31:38.008388",
          "exception": false,
          "start_time": "2023-07-01T03:31:37.992745",
          "status": "completed"
        },
        "tags": [
          "hide-input"
        ]
      },
      "outputs": [],
      "source": [
        "def repository_path(*path_parts: str, not_exist_ok: bool=False) -> str:\n",
        "    \"\"\" Get and validate a path in the modelbuild repository\n",
        "\n",
        "    Args:\n",
        "        *path_parts: the path parts that will be joined together\n",
        "            relative to the root of the repository.\n",
        "        not_exist_ok: skip validation if True\n",
        "\n",
        "    Returns:\n",
        "        the absolute path of the referenced file.\n",
        "    \"\"\"\n",
        "    if not (os.path.exists(path:=os.path.join(ROOT, \"docs\"))):\n",
        "        raise FileNotFoundError(f\"docs path {path!r} not found!\")\n",
        "    if not (os.path.exists(path:=os.path.join(ROOT, \"nbs\"))):\n",
        "        raise FileNotFoundError(f\"nbs path {path!r} not found!\")\n",
        "    if not (os.path.exists(path:=os.path.join(ROOT, \"sax\"))):\n",
        "        raise FileNotFoundError(f\"sax path {path!r} not found!\")\n",
        "\n",
        "    path = os.path.join(ROOT, *path_parts)\n",
        "    if not not_exist_ok and not os.path.exists(path):\n",
        "        raise FileNotFoundError(f\"Path {path!r} does not exist.\")\n",
        "\n",
        "    return path"
      ]
    },
    {
      "cell_type": "markdown",
      "id": "9379c407513bb76b",
      "metadata": {},
      "source": [
        ":::{eval-rst}\n",
        ".. autofunction:: sax.make_docs.docs_path\n",
        ":::\n"
      ]
    },
    {
      "cell_type": "code",
      "execution_count": 7,
      "id": "111e550418d4d22d",
      "metadata": {
        "execution": {
          "iopub.execute_input": "2023-07-01T03:31:38.022539Z",
          "iopub.status.busy": "2023-07-01T03:31:38.022357Z",
          "iopub.status.idle": "2023-07-01T03:31:38.025117Z",
          "shell.execute_reply": "2023-07-01T03:31:38.024666Z"
        },
        "papermill": {
          "duration": 0.015054,
          "end_time": "2023-07-01T03:31:38.026280",
          "exception": false,
          "start_time": "2023-07-01T03:31:38.011226",
          "status": "completed"
        },
        "tags": [
          "hide-input"
        ]
      },
      "outputs": [],
      "source": [
        "def docs_path(*path_parts: str, not_exist_ok: bool=False) -> str:\n",
        "    return repository_path('docs', *path_parts, not_exist_ok=not_exist_ok)"
      ]
    },
    {
      "cell_type": "markdown",
      "id": "5302aa01ab4cd608",
      "metadata": {},
      "source": [
        ":::{eval-rst}\n",
        ".. autofunction:: sax.make_docs.save_nb\n",
        ":::\n"
      ]
    },
    {
      "cell_type": "code",
      "execution_count": 8,
      "id": "ab12fe110b956551",
      "metadata": {
        "execution": {
          "iopub.execute_input": "2023-07-01T03:31:38.034580Z",
          "iopub.status.busy": "2023-07-01T03:31:38.034382Z",
          "iopub.status.idle": "2023-07-01T03:31:38.037739Z",
          "shell.execute_reply": "2023-07-01T03:31:38.037308Z"
        },
        "papermill": {
          "duration": 0.009534,
          "end_time": "2023-07-01T03:31:38.038761",
          "exception": false,
          "start_time": "2023-07-01T03:31:38.029227",
          "status": "completed"
        },
        "tags": [
          "hide-input"
        ]
      },
      "outputs": [],
      "source": [
        "def save_nb(nb: Dict, path: str) -> str:\n",
        "    \"\"\" save a dictionary as a jupyter notebook\n",
        "\n",
        "    Args:\n",
        "        nb: the dictionary to convert into an ipynb file\n",
        "        path: the path to save the notebook under\n",
        "\n",
        "    Returns:\n",
        "        the path where the notebook was saved.\n",
        "    \"\"\"\n",
        "    path = os.path.abspath(path)\n",
        "    os.makedirs(os.path.dirname(path), exist_ok=True)\n",
        "    with open(path, \"w\") as file:\n",
        "        json.dump(nb, file, indent=2)\n",
        "    return path"
      ]
    },
    {
      "cell_type": "markdown",
      "id": "a8c9277ce8535545",
      "metadata": {},
      "source": [
        ":::{eval-rst}\n",
        ".. autofunction:: sax.make_docs.strip_metadata\n",
        ":::\n"
      ]
    },
    {
      "cell_type": "code",
      "execution_count": 9,
      "id": "583645127ff941a1",
      "metadata": {
        "execution": {
          "iopub.execute_input": "2023-07-01T03:31:38.051345Z",
          "iopub.status.busy": "2023-07-01T03:31:38.051186Z",
          "iopub.status.idle": "2023-07-01T03:31:38.054487Z",
          "shell.execute_reply": "2023-07-01T03:31:38.054037Z"
        },
        "papermill": {
          "duration": 0.01387,
          "end_time": "2023-07-01T03:31:38.055490",
          "exception": false,
          "start_time": "2023-07-01T03:31:38.041620",
          "status": "completed"
        },
        "tags": [
          "hide-input"
        ]
      },
      "outputs": [],
      "source": [
        "def strip_metadata(nb: Union[Dict, str]) -> Union[Dict,str]:\n",
        "    path = ''\n",
        "    if isinstance(nb, str):\n",
        "        path = nb\n",
        "        nb = load_nb(nb)\n",
        "    for cell in nb['cells']:\n",
        "        if not 'metadata' in cell:\n",
        "            continue\n",
        "        cell['metadata'] = {}\n",
        "    if path:\n",
        "        return save_nb(nb, path)\n",
        "    return path"
      ]
    },
    {
      "cell_type": "code",
      "execution_count": 10,
      "id": "c03514a5e20c54bd",
      "metadata": {
        "execution": {
          "iopub.execute_input": "2023-07-01T03:31:38.066706Z",
          "iopub.status.busy": "2023-07-01T03:31:38.066544Z",
          "iopub.status.idle": "2023-07-01T03:31:38.069270Z",
          "shell.execute_reply": "2023-07-01T03:31:38.068861Z"
        },
        "papermill": {
          "duration": 0.012008,
          "end_time": "2023-07-01T03:31:38.070353",
          "exception": false,
          "start_time": "2023-07-01T03:31:38.058345",
          "status": "completed"
        },
        "tags": [
          "remove-cell"
        ]
      },
      "outputs": [],
      "source": [
        "def iter_code_cells(nb):\n",
        "    for cell in nb.get('cells', []):\n",
        "        if not cell.get(\"cell_type\", \"\") == \"code\":\n",
        "            continue\n",
        "        yield cell"
      ]
    },
    {
      "cell_type": "code",
      "execution_count": 11,
      "id": "f484e18e0dda94f8",
      "metadata": {
        "execution": {
          "iopub.execute_input": "2023-07-01T03:31:38.079067Z",
          "iopub.status.busy": "2023-07-01T03:31:38.078908Z",
          "iopub.status.idle": "2023-07-01T03:31:38.081482Z",
          "shell.execute_reply": "2023-07-01T03:31:38.081061Z"
        },
        "papermill": {
          "duration": 0.009661,
          "end_time": "2023-07-01T03:31:38.082936",
          "exception": false,
          "start_time": "2023-07-01T03:31:38.073275",
          "status": "completed"
        },
        "tags": [
          "remove-cell"
        ]
      },
      "outputs": [],
      "source": [
        "def first_code_cell(nb):\n",
        "    try:\n",
        "        return next(iter_code_cells(nb))\n",
        "    except StopIteration:\n",
        "        return None"
      ]
    },
    {
      "cell_type": "code",
      "execution_count": 12,
      "id": "de0c26c75557598a",
      "metadata": {
        "execution": {
          "iopub.execute_input": "2023-07-01T03:31:38.097316Z",
          "iopub.status.busy": "2023-07-01T03:31:38.097147Z",
          "iopub.status.idle": "2023-07-01T03:31:38.100123Z",
          "shell.execute_reply": "2023-07-01T03:31:38.099718Z"
        },
        "papermill": {
          "duration": 0.015401,
          "end_time": "2023-07-01T03:31:38.101207",
          "exception": false,
          "start_time": "2023-07-01T03:31:38.085806",
          "status": "completed"
        },
        "tags": [
          "remove-cell"
        ]
      },
      "outputs": [],
      "source": [
        "def get_default_exp(nb):\n",
        "    first_cell = first_code_cell(nb) or {}\n",
        "    first_source = first_cell.get('source', [])\n",
        "    first_line = \"\" if not first_source else first_source[0]\n",
        "    default_exp = first_line.split(\"default_exp\")[-1].strip()\n",
        "    return default_exp"
      ]
    },
    {
      "cell_type": "code",
      "execution_count": 13,
      "id": "a8f0dfce0cd6d756",
      "metadata": {
        "execution": {
          "iopub.execute_input": "2023-07-01T03:31:38.113157Z",
          "iopub.status.busy": "2023-07-01T03:31:38.112998Z",
          "iopub.status.idle": "2023-07-01T03:31:38.115898Z",
          "shell.execute_reply": "2023-07-01T03:31:38.115486Z"
        },
        "papermill": {
          "duration": 0.012792,
          "end_time": "2023-07-01T03:31:38.116993",
          "exception": false,
          "start_time": "2023-07-01T03:31:38.104201",
          "status": "completed"
        },
        "tags": [
          "remove-cell"
        ]
      },
      "outputs": [],
      "source": [
        "def iter_function_names(source):\n",
        "    for line in source:\n",
        "        if not line.startswith(\"def \"):\n",
        "            continue\n",
        "        if line.startswith(\"def _\"):\n",
        "            continue\n",
        "        yield line.split(\"def \")[1].split(\"(\")[0]"
      ]
    },
    {
      "cell_type": "markdown",
      "id": "a867718deeee21d2",
      "metadata": {},
      "source": [
        ":::{eval-rst}\n",
        ".. autofunction:: sax.make_docs.docs_copy_nb\n",
        ":::\n"
      ]
    },
    {
      "cell_type": "code",
      "execution_count": 14,
      "id": "45c084a118eda2d5",
      "metadata": {
        "execution": {
          "iopub.execute_input": "2023-07-01T03:31:38.130253Z",
          "iopub.status.busy": "2023-07-01T03:31:38.130073Z",
          "iopub.status.idle": "2023-07-01T03:31:38.136639Z",
          "shell.execute_reply": "2023-07-01T03:31:38.136220Z"
        },
        "papermill": {
          "duration": 0.016086,
          "end_time": "2023-07-01T03:31:38.137645",
          "exception": false,
          "start_time": "2023-07-01T03:31:38.121559",
          "status": "completed"
        },
        "tags": [
          "hide-input"
        ]
      },
      "outputs": [],
      "source": [
        "def docs_copy_nb(relpath, docsrelpath=None):\n",
        "    \"\"\"copy a single notebook from src to dst with modified docs metadata.\"\"\"\n",
        "    src = repository_path(relpath)\n",
        "    dst = docs_path((docsrelpath or relpath), not_exist_ok=True)\n",
        "    nb = load_nb(src)\n",
        "    nb_new = {**nb}\n",
        "    nb_new[\"cells\"] = []\n",
        "    module = get_default_exp(nb)\n",
        "\n",
        "    for cell in nb.get('cells', []):\n",
        "        if not cell.get(\"cell_type\", \"\") == \"code\":\n",
        "            nb_new[\"cells\"].append(cell)\n",
        "            continue\n",
        "            \n",
        "        cell_tags = cell.get(\"metadata\", {}).get(\"tags\", [])\n",
        "        source = cell.get(\"source\") or [\"\"]\n",
        "        line = source[0].strip()\n",
        "        \n",
        "        if not line.startswith(\"#\"):\n",
        "            nb_new[\"cells\"].append(cell)\n",
        "            continue\n",
        "            \n",
        "        keys = [k.strip() for k in line.split(\" \")]\n",
        "        keys = [k for k in keys if k in MAGIC_COMMENTS]\n",
        "        if keys:\n",
        "            del source[0]\n",
        "        for key in keys:\n",
        "            tag = MAGIC_COMMENTS[key]\n",
        "            if tag:\n",
        "                cell_tags.append(tag)\n",
        "        if len(cell_tags) > 0:\n",
        "            cell[\"metadata\"][\"tags\"] = cell_tags\n",
        "\n",
        "        if not 'remove-cell' in cell_tags:\n",
        "            for function_name in iter_function_names(source):\n",
        "                extra_cell = {\n",
        "                    \"cell_type\": \"markdown\",\n",
        "                    \"id\": secrets.token_hex(8),\n",
        "                    \"metadata\": {},\n",
        "                    \"source\": [\n",
        "                        \":::{eval-rst}\\n\",\n",
        "                        f\".. autofunction:: sax.{module}.{function_name}\\n\",\n",
        "                        \":::\\n\"\n",
        "                    ],\n",
        "                }\n",
        "                nb_new[\"cells\"].append(extra_cell)\n",
        "\n",
        "        cell[\"id\"] = secrets.token_hex(8)\n",
        "        nb_new[\"cells\"].append(cell)\n",
        "\n",
        "    os.makedirs(os.path.dirname(dst), exist_ok=True)\n",
        "    save_nb(nb_new, dst)\n",
        "    return dst"
      ]
    },
    {
      "cell_type": "markdown",
      "id": "f647ffedac667a60",
      "metadata": {},
      "source": [
        ":::{eval-rst}\n",
        ".. autofunction:: sax.make_docs.list_notebooks\n",
        ":::\n"
      ]
    },
    {
      "cell_type": "markdown",
      "id": "11223d44dea0fc1f",
      "metadata": {},
      "source": [
        ":::{eval-rst}\n",
        ".. autofunction:: sax.make_docs.list_zips\n",
        ":::\n"
      ]
    },
    {
      "cell_type": "code",
      "execution_count": 15,
      "id": "ec5a25aee056f34e",
      "metadata": {
        "execution": {
          "iopub.execute_input": "2023-07-01T03:31:38.145090Z",
          "iopub.status.busy": "2023-07-01T03:31:38.144930Z",
          "iopub.status.idle": "2023-07-01T03:31:38.147792Z",
          "shell.execute_reply": "2023-07-01T03:31:38.147372Z"
        },
        "papermill": {
          "duration": 0.008151,
          "end_time": "2023-07-01T03:31:38.148894",
          "exception": false,
          "start_time": "2023-07-01T03:31:38.140743",
          "status": "completed"
        },
        "tags": [
          "hide-input"
        ]
      },
      "outputs": [],
      "source": [
        "def list_notebooks(dir):\n",
        "    return glob.glob(os.path.join(dir, \"**/*.ipynb\"), recursive=True)\n",
        "\n",
        "def list_zips(dir):\n",
        "    return glob.glob(os.path.join(dir, \"**/*.zip\"), recursive=True)"
      ]
    },
    {
      "cell_type": "markdown",
      "id": "e641892fb73710fb",
      "metadata": {},
      "source": [
        ":::{eval-rst}\n",
        ".. autofunction:: sax.make_docs.docs_copy_dir\n",
        ":::\n"
      ]
    },
    {
      "cell_type": "code",
      "execution_count": 16,
      "id": "7fac4ddf88459524",
      "metadata": {
        "execution": {
          "iopub.execute_input": "2023-07-01T03:31:38.162057Z",
          "iopub.status.busy": "2023-07-01T03:31:38.161898Z",
          "iopub.status.idle": "2023-07-01T03:31:38.165310Z",
          "shell.execute_reply": "2023-07-01T03:31:38.164897Z"
        },
        "papermill": {
          "duration": 0.012674,
          "end_time": "2023-07-01T03:31:38.166263",
          "exception": false,
          "start_time": "2023-07-01T03:31:38.153589",
          "status": "completed"
        },
        "tags": [
          "hide-input"
        ]
      },
      "outputs": [],
      "source": [
        "def docs_copy_dir(relpath):\n",
        "    main_src = repository_path(relpath)\n",
        "    for src in list_notebooks(main_src):\n",
        "        rel = os.path.relpath(src, repository_path())\n",
        "        docs_copy_nb(rel)\n",
        "    for src in list_zips(main_src):\n",
        "        rel = os.path.relpath(src, repository_path())\n",
        "        dst = docs_path(\"_build\", \"html\", rel, not_exist_ok=True)\n",
        "        os.makedirs(os.path.dirname(dst), exist_ok=True)\n",
        "        shutil.copy2(src, dst)"
      ]
    },
    {
      "cell_type": "markdown",
      "id": "f09987326ba1c1df",
      "metadata": {},
      "source": [
        ":::{eval-rst}\n",
        ".. autofunction:: sax.make_docs.docs_copy_simulations\n",
        ":::\n"
      ]
    },
    {
      "cell_type": "code",
      "execution_count": 17,
      "id": "7cb881b9359a2bc8",
      "metadata": {
        "execution": {
          "iopub.execute_input": "2023-07-01T03:31:38.179028Z",
          "iopub.status.busy": "2023-07-01T03:31:38.178869Z",
          "iopub.status.idle": "2023-07-01T03:31:38.183390Z",
          "shell.execute_reply": "2023-07-01T03:31:38.182973Z"
        },
        "papermill": {
          "duration": 0.015152,
          "end_time": "2023-07-01T03:31:38.184429",
          "exception": false,
          "start_time": "2023-07-01T03:31:38.169277",
          "status": "completed"
        },
        "tags": [
          "hide-input"
        ]
      },
      "outputs": [],
      "source": [
        "def docs_copy_simulations():\n",
        "    with_results, without_results = {}, {}\n",
        "    for fn in os.listdir(simulations_path()):\n",
        "        sim, ext = os.path.splitext(fn)\n",
        "        if ext != \".ipynb\":\n",
        "            continue\n",
        "        try:\n",
        "            with_results[sim] = get_nominal_result(sim)\n",
        "        except FileNotFoundError:\n",
        "            without_results[sim] = {'hash': None, 'params': get_default_params(simulations_path(f\"{sim}.ipynb\"))}\n",
        "        except ValueError:\n",
        "            without_results[sim] = {'hash': None, 'params': get_default_params(simulations_path(f\"{sim}.ipynb\"))}\n",
        "            #raise\n",
        "        \n",
        "    for k, r in with_results.items():\n",
        "        docs_copy_nb(f\"results/{k}/{r['hash']}/_simulated.ipynb\", f\"simulations/{k}.ipynb\")\n",
        "        \n",
        "    for k, r in without_results.items():\n",
        "        docs_copy_nb(f\"simulations/{k}.ipynb\", f\"simulations/{k}.ipynb\")\n",
        "        \n",
        "    shutil.copytree(simulations_path(\"img\"), docs_path(\"_build\", \"html\", \"simulations\", \"img\", not_exist_ok=True), dirs_exist_ok=True)\n",
        "    return with_results, without_results"
      ]
    },
    {
      "cell_type": "markdown",
      "id": "f6e2db23702fa935",
      "metadata": {},
      "source": [
        ":::{eval-rst}\n",
        ".. autofunction:: sax.make_docs.get_toc_part\n",
        ":::\n"
      ]
    },
    {
      "cell_type": "code",
      "execution_count": 18,
      "id": "22856b77b7fa850a",
      "metadata": {
        "execution": {
          "iopub.execute_input": "2023-07-01T03:31:38.191985Z",
          "iopub.status.busy": "2023-07-01T03:31:38.191827Z",
          "iopub.status.idle": "2023-07-01T03:31:38.194748Z",
          "shell.execute_reply": "2023-07-01T03:31:38.194323Z"
        },
        "papermill": {
          "duration": 0.008575,
          "end_time": "2023-07-01T03:31:38.196087",
          "exception": false,
          "start_time": "2023-07-01T03:31:38.187512",
          "status": "completed"
        },
        "tags": [
          "hide-input"
        ]
      },
      "outputs": [],
      "source": [
        "def get_toc_part(toc, caption):\n",
        "    parts = [p for p in toc[\"parts\"] if caption == p[\"caption\"]]\n",
        "    try:\n",
        "        return parts[0]\n",
        "    except IndexError:\n",
        "        raise ValueError(f\"No TOC part with caption {caption!r} found.\")"
      ]
    },
    {
      "cell_type": "markdown",
      "id": "80a942d4e41f2c95",
      "metadata": {},
      "source": [
        ":::{eval-rst}\n",
        ".. autofunction:: sax.make_docs.make_docs\n",
        ":::\n"
      ]
    },
    {
      "cell_type": "code",
      "execution_count": 19,
      "id": "0c3fa16a3407da58",
      "metadata": {
        "execution": {
          "iopub.execute_input": "2023-07-01T03:31:38.211721Z",
          "iopub.status.busy": "2023-07-01T03:31:38.211557Z",
          "iopub.status.idle": "2023-07-01T03:31:38.214413Z",
          "shell.execute_reply": "2023-07-01T03:31:38.213980Z"
        },
        "papermill": {
          "duration": 0.01626,
          "end_time": "2023-07-01T03:31:38.215521",
          "exception": false,
          "start_time": "2023-07-01T03:31:38.199261",
          "status": "completed"
        },
        "tags": [
          "hide-input"
        ]
      },
      "outputs": [],
      "source": [
        "def make_docs():\n",
        "    docs_copy_nb(\"index.ipynb\")\n",
        "    docs_copy_dir(\"nbs\")\n",
        "    docs_copy_dir(\"examples\")\n",
        "    os.chdir(docs_path())\n",
        "    subprocess.check_call([sys.executable.replace(\"python\", \"jupyter-book\"), \"build\", \".\"])"
      ]
    },
    {
      "cell_type": "code",
      "execution_count": 20,
      "id": "7ca2ae36203702e0",
      "metadata": {
        "execution": {
          "iopub.execute_input": "2023-07-01T03:31:38.229995Z",
          "iopub.status.busy": "2023-07-01T03:31:38.229831Z",
          "iopub.status.idle": "2023-07-01T03:31:38.232261Z",
          "shell.execute_reply": "2023-07-01T03:31:38.231856Z"
        },
        "papermill": {
          "duration": 0.021157,
          "end_time": "2023-07-01T03:31:38.239831",
          "exception": false,
          "start_time": "2023-07-01T03:31:38.218674",
          "status": "completed"
        },
        "tags": [
          "hide-input"
        ]
      },
      "outputs": [],
      "source": [
        "if __name__ == '__main__' and not IN_IPYTHON:\n",
        "    make_docs()"
      ]
    }
  ],
  "metadata": {
    "kernelspec": {
      "display_name": "sax",
      "language": "python",
      "name": "sax"
    },
    "language_info": {
      "codemirror_mode": {
        "name": "ipython",
        "version": 3
      },
      "file_extension": ".py",
      "mimetype": "text/x-python",
      "name": "python",
      "nbconvert_exporter": "python",
      "pygments_lexer": "ipython3",
      "version": "3.11.4"
    },
    "papermill": {
      "default_parameters": {},
      "duration": 1.964465,
      "end_time": "2023-07-01T03:31:38.458546",
      "environment_variables": {},
      "exception": null,
      "input_path": "./nbs/98_make_docs.ipynb",
      "output_path": "./nbs/98_make_docs.ipynb",
      "parameters": {},
      "start_time": "2023-07-01T03:31:36.494081",
      "version": "2.3.4"
    }
  },
  "nbformat": 4,
  "nbformat_minor": 5
}