{
  "cells": [
    {
      "cell_type": "code",
      "execution_count": 1,
      "id": "2ccdbab8d4e5b11e",
      "metadata": {
        "execution": {
          "iopub.execute_input": "2023-09-01T18:13:08.678238Z",
          "iopub.status.busy": "2023-09-01T18:13:08.677757Z",
          "iopub.status.idle": "2023-09-01T18:13:08.681005Z",
          "shell.execute_reply": "2023-09-01T18:13:08.680449Z"
        },
        "papermill": {
          "duration": 0.009426,
          "end_time": "2023-09-01T18:13:08.682239",
          "exception": false,
          "start_time": "2023-09-01T18:13:08.672813",
          "status": "completed"
        },
        "tags": [
          "remove-cell"
        ]
      },
      "outputs": [],
      "source": []
    },
    {
      "cell_type": "markdown",
      "id": "ca1899a9",
      "metadata": {
        "papermill": {
          "duration": 0.003198,
          "end_time": "2023-09-01T18:13:08.688885",
          "exception": false,
          "start_time": "2023-09-01T18:13:08.685687",
          "status": "completed"
        },
        "tags": []
      },
      "source": [
        "# Backend - additive\n",
        "\n",
        "> Additive SAX Backend\n",
        "\n",
        "Sometimes we would like to calculate circuit path lengths or time delays within a circuit. We could obviously simulate these things with a time domain simulator, but in many cases a simple additive backend (as opposed to the default multiplicative backend) can suffice."
      ]
    },
    {
      "cell_type": "code",
      "execution_count": 2,
      "id": "185d798bcad461d3",
      "metadata": {
        "execution": {
          "iopub.execute_input": "2023-09-01T18:13:08.696110Z",
          "iopub.status.busy": "2023-09-01T18:13:08.695668Z",
          "iopub.status.idle": "2023-09-01T18:13:08.700963Z",
          "shell.execute_reply": "2023-09-01T18:13:08.700549Z"
        },
        "papermill": {
          "duration": 0.010267,
          "end_time": "2023-09-01T18:13:08.702134",
          "exception": false,
          "start_time": "2023-09-01T18:13:08.691867",
          "status": "completed"
        },
        "tags": [
          "remove-cell"
        ]
      },
      "outputs": [],
      "source": [
        "import os, sys; sys.stderr = open(os.devnull, \"w\")"
      ]
    },
    {
      "cell_type": "code",
      "execution_count": 3,
      "id": "e7a41496562db692",
      "metadata": {
        "execution": {
          "iopub.execute_input": "2023-09-01T18:13:08.709558Z",
          "iopub.status.busy": "2023-09-01T18:13:08.709096Z",
          "iopub.status.idle": "2023-09-01T18:13:09.508253Z",
          "shell.execute_reply": "2023-09-01T18:13:09.507804Z"
        },
        "papermill": {
          "duration": 0.804496,
          "end_time": "2023-09-01T18:13:09.509704",
          "exception": false,
          "start_time": "2023-09-01T18:13:08.705208",
          "status": "completed"
        },
        "tags": [
          "hide-input"
        ]
      },
      "outputs": [],
      "source": [
        "from __future__ import annotations\n",
        "\n",
        "from typing import Dict, Tuple\n",
        "\n",
        "import networkx as nx\n",
        "from sax.typing_ import SDict, SType, sdict\n",
        "\n",
        "try:\n",
        "    import jax.numpy as jnp\n",
        "    JAX_AVAILABLE = True\n",
        "except ImportError:\n",
        "    import numpy as jnp\n",
        "    JAX_AVAILABLE = False"
      ]
    },
    {
      "cell_type": "markdown",
      "id": "0e3cd2e819797989",
      "metadata": {},
      "source": [
        ":::{eval-rst}\n",
        ".. autofunction:: sax.backends.additive.split_port\n",
        ":::\n"
      ]
    },
    {
      "cell_type": "code",
      "execution_count": 4,
      "id": "8e09a61aa4650941",
      "metadata": {
        "execution": {
          "iopub.execute_input": "2023-09-01T18:13:09.518806Z",
          "iopub.status.busy": "2023-09-01T18:13:09.518265Z",
          "iopub.status.idle": "2023-09-01T18:13:09.521589Z",
          "shell.execute_reply": "2023-09-01T18:13:09.521180Z"
        },
        "papermill": {
          "duration": 0.009666,
          "end_time": "2023-09-01T18:13:09.522743",
          "exception": false,
          "start_time": "2023-09-01T18:13:09.513077",
          "status": "completed"
        },
        "tags": [
          "hide-input"
        ]
      },
      "outputs": [],
      "source": [
        "def split_port(port: str) -> Tuple[str, str]:\n",
        "    try:\n",
        "        instance, port = port.split(\",\")\n",
        "    except ValueError:\n",
        "        (port,) = port.split(\",\")\n",
        "        instance = \"\"\n",
        "    return instance, port"
      ]
    },
    {
      "cell_type": "code",
      "execution_count": 5,
      "id": "345aaa5b-cefe-49ec-9213-70c73b8c741b",
      "metadata": {
        "execution": {
          "iopub.execute_input": "2023-09-01T18:13:09.529772Z",
          "iopub.status.busy": "2023-09-01T18:13:09.529563Z",
          "iopub.status.idle": "2023-09-01T18:13:09.532100Z",
          "shell.execute_reply": "2023-09-01T18:13:09.531696Z"
        },
        "papermill": {
          "duration": 0.007514,
          "end_time": "2023-09-01T18:13:09.533320",
          "exception": false,
          "start_time": "2023-09-01T18:13:09.525806",
          "status": "completed"
        },
        "tags": []
      },
      "outputs": [],
      "source": [
        "assert split_port(\"wg,in0\") == ('wg', 'in0') # internal circuit port\n",
        "assert split_port(\"out0\") == ('', 'out0') # external circuit port"
      ]
    },
    {
      "cell_type": "markdown",
      "id": "6f1a91513a3d446c",
      "metadata": {},
      "source": [
        ":::{eval-rst}\n",
        ".. autofunction:: sax.backends.additive.graph_edges\n",
        ":::\n"
      ]
    },
    {
      "cell_type": "code",
      "execution_count": 6,
      "id": "b8b021b82f5c9414",
      "metadata": {
        "execution": {
          "iopub.execute_input": "2023-09-01T18:13:09.565166Z",
          "iopub.status.busy": "2023-09-01T18:13:09.564707Z",
          "iopub.status.idle": "2023-09-01T18:13:09.571154Z",
          "shell.execute_reply": "2023-09-01T18:13:09.570685Z"
        },
        "papermill": {
          "duration": 0.012168,
          "end_time": "2023-09-01T18:13:09.572725",
          "exception": false,
          "start_time": "2023-09-01T18:13:09.560557",
          "status": "completed"
        },
        "tags": [
          "hide-input"
        ]
      },
      "outputs": [],
      "source": [
        "def graph_edges(\n",
        "    instances: Dict[str, SType], connections: Dict[str, str], ports: Dict[str, str]\n",
        "):\n",
        "    zero = jnp.array([0.0], dtype=float)\n",
        "    edges = {}\n",
        "    edges.update({split_port(k): split_port(v) for k, v in connections.items()})\n",
        "    edges.update({split_port(v): split_port(k) for k, v in connections.items()})\n",
        "    edges.update({split_port(k): split_port(v) for k, v in ports.items()})\n",
        "    edges.update({split_port(v): split_port(k) for k, v in ports.items()})\n",
        "    edges = [(n1, n2, {\"type\": \"C\", \"length\": zero}) for n1, n2 in edges.items()]\n",
        "\n",
        "    _instances = {\n",
        "        **{i1: None for (i1, _), (_, _), _ in edges},\n",
        "        **{i2: None for (_, _), (i2, _), _ in edges},\n",
        "    }\n",
        "    del _instances[\"\"] # external ports don't belong to an instance\n",
        "\n",
        "    for instance in _instances:\n",
        "        s = instances[instance]\n",
        "        edges += [\n",
        "            ((instance, p1), (instance, p2), {\"type\": \"S\", \"length\": jnp.asarray(length, dtype=float).ravel()})\n",
        "            for (p1, p2), length in sdict(s).items()\n",
        "        ]\n",
        "\n",
        "    return edges"
      ]
    },
    {
      "cell_type": "markdown",
      "id": "bc6e5237-5517-4776-b23f-9bac3200cdfa",
      "metadata": {
        "papermill": {
          "duration": 0.003115,
          "end_time": "2023-09-01T18:13:09.579144",
          "exception": false,
          "start_time": "2023-09-01T18:13:09.576029",
          "status": "completed"
        },
        "tags": []
      },
      "source": [
        "> Example\n",
        "\n",
        "> Note: in stead of S-parameters the stypes need to contain *additive* parameters, such as length or time delay."
      ]
    },
    {
      "cell_type": "code",
      "execution_count": 7,
      "id": "d9a7bed0-c4b2-42b9-aac6-f8371cad3e6b",
      "metadata": {
        "execution": {
          "iopub.execute_input": "2023-09-01T18:13:09.586281Z",
          "iopub.status.busy": "2023-09-01T18:13:09.585911Z",
          "iopub.status.idle": "2023-09-01T18:13:09.597132Z",
          "shell.execute_reply": "2023-09-01T18:13:09.596781Z"
        },
        "papermill": {
          "duration": 0.01601,
          "end_time": "2023-09-01T18:13:09.598203",
          "exception": false,
          "start_time": "2023-09-01T18:13:09.582193",
          "status": "completed"
        },
        "tags": []
      },
      "outputs": [],
      "source": [
        "wg_sdict = {\n",
        "    (\"in0\", \"out0\"): jnp.array([100.0, 200.0, 300.0]), # assume for now there are three possible paths between these two ports.\n",
        "    (\"out0\", \"in0\"): jnp.array([100.0, 200.0, 300.0]), # assume for now there are three possible paths between these two ports.\n",
        "}\n",
        "\n",
        "dc_sdict = {\n",
        "    (\"in0\", \"out0\"): jnp.array([10.0, 20.0]), # assume for now there are two possible paths between these two ports.\n",
        "    (\"in0\", \"out1\"): 15.0,\n",
        "    (\"in1\", \"out0\"): 15.0,\n",
        "    (\"in1\", \"out1\"): jnp.array([10.0, 20.0]), # assume for now there are two possible paths between these two ports.\n",
        "}\n",
        "\n",
        "instances= {\n",
        "    \"dc1\": dc_sdict,\n",
        "    \"wg\": wg_sdict,\n",
        "    \"dc2\": dc_sdict,\n",
        "}\n",
        "connections= {\n",
        "    \"dc1,out0\": \"wg,in0\",\n",
        "    \"wg,out0\": \"dc2,in0\",\n",
        "    \"dc1,out1\": \"dc2,in1\",\n",
        "}\n",
        "ports= {\n",
        "    \"in0\": \"dc1,in0\",\n",
        "    \"in1\": \"dc1,in1\",\n",
        "    \"out0\": \"dc2,out0\",\n",
        "    \"out1\": \"dc2,out1\",\n",
        "}"
      ]
    },
    {
      "cell_type": "markdown",
      "id": "7aaff527-a216-472b-891d-9c56901af914",
      "metadata": {
        "papermill": {
          "duration": 0.003077,
          "end_time": "2023-09-01T18:13:09.604538",
          "exception": false,
          "start_time": "2023-09-01T18:13:09.601461",
          "status": "completed"
        },
        "tags": []
      },
      "source": [
        "> Note: it is recommended to **not** use an `SDense` representation for the additive backend. Very often an `SDense` representation will introduce **zeros** which will be interpreted as an **existing connection with zero length**. Conversely, in a sparse representation like `SDict` or `SCoo`, non-existing elements will be just that: they will not be present in the internal graph."
      ]
    },
    {
      "cell_type": "code",
      "execution_count": 8,
      "id": "3a8ed72a-bb73-46aa-8a78-5dea087d7fc7",
      "metadata": {
        "execution": {
          "iopub.execute_input": "2023-09-01T18:13:09.611936Z",
          "iopub.status.busy": "2023-09-01T18:13:09.611406Z",
          "iopub.status.idle": "2023-09-01T18:13:09.643559Z",
          "shell.execute_reply": "2023-09-01T18:13:09.643139Z"
        },
        "papermill": {
          "duration": 0.037048,
          "end_time": "2023-09-01T18:13:09.644690",
          "exception": false,
          "start_time": "2023-09-01T18:13:09.607642",
          "status": "completed"
        },
        "tags": []
      },
      "outputs": [
        {
          "data": {
            "text/plain": [
              "[(('dc1', 'out0'),\n",
              "  ('wg', 'in0'),\n",
              "  {'type': 'C', 'length': Array([0.], dtype=float64)}),\n",
              " (('wg', 'out0'),\n",
              "  ('dc2', 'in0'),\n",
              "  {'type': 'C', 'length': Array([0.], dtype=float64)}),\n",
              " (('dc1', 'out1'),\n",
              "  ('dc2', 'in1'),\n",
              "  {'type': 'C', 'length': Array([0.], dtype=float64)}),\n",
              " (('wg', 'in0'),\n",
              "  ('dc1', 'out0'),\n",
              "  {'type': 'C', 'length': Array([0.], dtype=float64)}),\n",
              " (('dc2', 'in0'),\n",
              "  ('wg', 'out0'),\n",
              "  {'type': 'C', 'length': Array([0.], dtype=float64)}),\n",
              " (('dc2', 'in1'),\n",
              "  ('dc1', 'out1'),\n",
              "  {'type': 'C', 'length': Array([0.], dtype=float64)}),\n",
              " (('', 'in0'),\n",
              "  ('dc1', 'in0'),\n",
              "  {'type': 'C', 'length': Array([0.], dtype=float64)}),\n",
              " (('', 'in1'),\n",
              "  ('dc1', 'in1'),\n",
              "  {'type': 'C', 'length': Array([0.], dtype=float64)}),\n",
              " (('', 'out0'),\n",
              "  ('dc2', 'out0'),\n",
              "  {'type': 'C', 'length': Array([0.], dtype=float64)}),\n",
              " (('', 'out1'),\n",
              "  ('dc2', 'out1'),\n",
              "  {'type': 'C', 'length': Array([0.], dtype=float64)}),\n",
              " (('dc1', 'in0'),\n",
              "  ('', 'in0'),\n",
              "  {'type': 'C', 'length': Array([0.], dtype=float64)}),\n",
              " (('dc1', 'in1'),\n",
              "  ('', 'in1'),\n",
              "  {'type': 'C', 'length': Array([0.], dtype=float64)}),\n",
              " (('dc2', 'out0'),\n",
              "  ('', 'out0'),\n",
              "  {'type': 'C', 'length': Array([0.], dtype=float64)}),\n",
              " (('dc2', 'out1'),\n",
              "  ('', 'out1'),\n",
              "  {'type': 'C', 'length': Array([0.], dtype=float64)}),\n",
              " (('dc1', 'in0'),\n",
              "  ('dc1', 'out0'),\n",
              "  {'type': 'S', 'length': Array([10., 20.], dtype=float64)}),\n",
              " (('dc1', 'in0'),\n",
              "  ('dc1', 'out1'),\n",
              "  {'type': 'S', 'length': Array([15.], dtype=float64)}),\n",
              " (('dc1', 'in1'),\n",
              "  ('dc1', 'out0'),\n",
              "  {'type': 'S', 'length': Array([15.], dtype=float64)}),\n",
              " (('dc1', 'in1'),\n",
              "  ('dc1', 'out1'),\n",
              "  {'type': 'S', 'length': Array([10., 20.], dtype=float64)}),\n",
              " (('wg', 'in0'),\n",
              "  ('wg', 'out0'),\n",
              "  {'type': 'S', 'length': Array([100., 200., 300.], dtype=float64)}),\n",
              " (('wg', 'out0'),\n",
              "  ('wg', 'in0'),\n",
              "  {'type': 'S', 'length': Array([100., 200., 300.], dtype=float64)}),\n",
              " (('dc2', 'in0'),\n",
              "  ('dc2', 'out0'),\n",
              "  {'type': 'S', 'length': Array([10., 20.], dtype=float64)}),\n",
              " (('dc2', 'in0'),\n",
              "  ('dc2', 'out1'),\n",
              "  {'type': 'S', 'length': Array([15.], dtype=float64)}),\n",
              " (('dc2', 'in1'),\n",
              "  ('dc2', 'out0'),\n",
              "  {'type': 'S', 'length': Array([15.], dtype=float64)}),\n",
              " (('dc2', 'in1'),\n",
              "  ('dc2', 'out1'),\n",
              "  {'type': 'S', 'length': Array([10., 20.], dtype=float64)})]"
            ]
          },
          "execution_count": 8,
          "metadata": {},
          "output_type": "execute_result"
        }
      ],
      "source": [
        "edges = graph_edges(instances, connections, ports)\n",
        "edges"
      ]
    },
    {
      "cell_type": "markdown",
      "id": "d87a25be-b4bb-458c-9bd2-0f5630524c82",
      "metadata": {
        "papermill": {
          "duration": 0.003413,
          "end_time": "2023-09-01T18:13:09.651769",
          "exception": false,
          "start_time": "2023-09-01T18:13:09.648356",
          "status": "completed"
        },
        "tags": []
      },
      "source": [
        "We made a difference here between edges of 'S'-type (connections through the S-matrix) and edges of 'C'-type (connections through the connection matrix). Connections of 'C'-type obviously always have length zero as they signify per definition the equality of two ports."
      ]
    },
    {
      "cell_type": "markdown",
      "id": "12c3c744-7fdc-400c-9612-c50fb8214819",
      "metadata": {
        "papermill": {
          "duration": 0.003272,
          "end_time": "2023-09-01T18:13:09.658471",
          "exception": false,
          "start_time": "2023-09-01T18:13:09.655199",
          "status": "completed"
        },
        "tags": []
      },
      "source": [
        "We can create a NetworkX graph from these edges:"
      ]
    },
    {
      "cell_type": "code",
      "execution_count": 9,
      "id": "bef4c710-10c4-480c-b28e-897e2672136f",
      "metadata": {
        "execution": {
          "iopub.execute_input": "2023-09-01T18:13:09.666623Z",
          "iopub.status.busy": "2023-09-01T18:13:09.666002Z",
          "iopub.status.idle": "2023-09-01T18:13:10.196676Z",
          "shell.execute_reply": "2023-09-01T18:13:10.196301Z"
        },
        "papermill": {
          "duration": 0.53624,
          "end_time": "2023-09-01T18:13:10.198019",
          "exception": false,
          "start_time": "2023-09-01T18:13:09.661779",
          "status": "completed"
        },
        "tags": []
      },
      "outputs": [
        {
          "data": {
            "image/png": "[encoded data removed]",
            "text/plain": [
              "<Figure size 640x480 with 1 Axes>"
            ]
          },
          "metadata": {},
          "output_type": "display_data"
        }
      ],
      "source": [
        "graph = nx.Graph()\n",
        "graph.add_edges_from(edges)\n",
        "nx.draw_kamada_kawai(graph, with_labels=True)"
      ]
    },
    {
      "cell_type": "markdown",
      "id": "aba9507d4ff73d0a",
      "metadata": {},
      "source": [
        ":::{eval-rst}\n",
        ".. autofunction:: sax.backends.additive.prune_internal_output_nodes\n",
        ":::\n"
      ]
    },
    {
      "cell_type": "code",
      "execution_count": 10,
      "id": "8cfdd96d4d9a2171",
      "metadata": {
        "execution": {
          "iopub.execute_input": "2023-09-01T18:13:10.208281Z",
          "iopub.status.busy": "2023-09-01T18:13:10.207569Z",
          "iopub.status.idle": "2023-09-01T18:13:10.211792Z",
          "shell.execute_reply": "2023-09-01T18:13:10.211452Z"
        },
        "papermill": {
          "duration": 0.010457,
          "end_time": "2023-09-01T18:13:10.212846",
          "exception": false,
          "start_time": "2023-09-01T18:13:10.202389",
          "status": "completed"
        },
        "tags": [
          "hide-input"
        ]
      },
      "outputs": [],
      "source": [
        "def prune_internal_output_nodes(graph):\n",
        "    broken = True\n",
        "    while broken:\n",
        "        broken = False\n",
        "        for (i, p), dic in list(graph.adjacency()):\n",
        "            if (\n",
        "                i != \"\"\n",
        "                and len(dic) == 2\n",
        "                and all(prop.get(\"type\", \"C\") == \"C\" for prop in dic.values())\n",
        "            ):\n",
        "                graph.remove_node((i, p))\n",
        "                graph.add_edge(*dic.keys(), type=\"C\", length=0.0)\n",
        "                broken = True\n",
        "                break\n",
        "    return graph"
      ]
    },
    {
      "cell_type": "code",
      "execution_count": 11,
      "id": "34163540-3f11-467b-8f39-dba25e469da9",
      "metadata": {
        "execution": {
          "iopub.execute_input": "2023-09-01T18:13:10.222254Z",
          "iopub.status.busy": "2023-09-01T18:13:10.221724Z",
          "iopub.status.idle": "2023-09-01T18:13:10.352454Z",
          "shell.execute_reply": "2023-09-01T18:13:10.352069Z"
        },
        "papermill": {
          "duration": 0.136586,
          "end_time": "2023-09-01T18:13:10.353599",
          "exception": false,
          "start_time": "2023-09-01T18:13:10.217013",
          "status": "completed"
        },
        "tags": []
      },
      "outputs": [
        {
          "data": {
            "image/png": "[encoded data removed]",
            "text/plain": [
              "<Figure size 640x480 with 1 Axes>"
            ]
          },
          "metadata": {},
          "output_type": "display_data"
        }
      ],
      "source": [
        "graph = prune_internal_output_nodes(graph)\n",
        "nx.draw_kamada_kawai(graph, with_labels=True)"
      ]
    },
    {
      "cell_type": "markdown",
      "id": "ae4c42c4-2500-4b47-b2ed-701ab271950e",
      "metadata": {
        "papermill": {
          "duration": 0.005057,
          "end_time": "2023-09-01T18:13:10.363850",
          "exception": false,
          "start_time": "2023-09-01T18:13:10.358793",
          "status": "completed"
        },
        "tags": []
      },
      "source": [
        "We can now get a list of all possible paths in the network. Note that these paths **must** alternate between an S-edge and a C-edge:"
      ]
    },
    {
      "cell_type": "markdown",
      "id": "f18cda419c7fa428",
      "metadata": {},
      "source": [
        ":::{eval-rst}\n",
        ".. autofunction:: sax.backends.additive.get_possible_paths\n",
        ":::\n"
      ]
    },
    {
      "cell_type": "code",
      "execution_count": 12,
      "id": "99a479481d03b2e8",
      "metadata": {
        "execution": {
          "iopub.execute_input": "2023-09-01T18:13:10.374952Z",
          "iopub.status.busy": "2023-09-01T18:13:10.374315Z",
          "iopub.status.idle": "2023-09-01T18:13:10.378331Z",
          "shell.execute_reply": "2023-09-01T18:13:10.377966Z"
        },
        "papermill": {
          "duration": 0.010867,
          "end_time": "2023-09-01T18:13:10.379453",
          "exception": false,
          "start_time": "2023-09-01T18:13:10.368586",
          "status": "completed"
        },
        "tags": [
          "hide-input"
        ]
      },
      "outputs": [],
      "source": [
        "def get_possible_paths(graph, source, target):\n",
        "    paths = []\n",
        "    default_props = {\"type\": \"C\", \"length\": 0.0}\n",
        "    for path in nx.all_simple_edge_paths(graph, source, target):\n",
        "        prevtype = \"C\"\n",
        "        for n1, n2 in path:\n",
        "            curtype = graph.get_edge_data(n1, n2, default_props)[\"type\"]\n",
        "            if curtype == prevtype == \"S\":\n",
        "                break\n",
        "            else:\n",
        "                prevtype = curtype\n",
        "        else:\n",
        "            paths.append(path)\n",
        "    return paths"
      ]
    },
    {
      "cell_type": "code",
      "execution_count": 13,
      "id": "7e769550-89a9-4f6b-88c1-916ec40c7a9f",
      "metadata": {
        "execution": {
          "iopub.execute_input": "2023-09-01T18:13:10.390552Z",
          "iopub.status.busy": "2023-09-01T18:13:10.389990Z",
          "iopub.status.idle": "2023-09-01T18:13:10.394488Z",
          "shell.execute_reply": "2023-09-01T18:13:10.394164Z"
        },
        "papermill": {
          "duration": 0.011254,
          "end_time": "2023-09-01T18:13:10.395575",
          "exception": false,
          "start_time": "2023-09-01T18:13:10.384321",
          "status": "completed"
        },
        "tags": []
      },
      "outputs": [
        {
          "data": {
            "text/plain": [
              "[[(('', 'in0'), ('dc1', 'in0')),\n",
              "  (('dc1', 'in0'), ('dc1', 'out0')),\n",
              "  (('dc1', 'out0'), ('wg', 'in0')),\n",
              "  (('wg', 'in0'), ('wg', 'out0')),\n",
              "  (('wg', 'out0'), ('dc2', 'in0')),\n",
              "  (('dc2', 'in0'), ('dc2', 'out0')),\n",
              "  (('dc2', 'out0'), ('', 'out0'))],\n",
              " [(('', 'in0'), ('dc1', 'in0')),\n",
              "  (('dc1', 'in0'), ('dc1', 'out1')),\n",
              "  (('dc1', 'out1'), ('dc2', 'in1')),\n",
              "  (('dc2', 'in1'), ('dc2', 'out0')),\n",
              "  (('dc2', 'out0'), ('', 'out0'))]]"
            ]
          },
          "execution_count": 13,
          "metadata": {},
          "output_type": "execute_result"
        }
      ],
      "source": [
        "paths = get_possible_paths(graph, (\"\", \"in0\"), (\"\", \"out0\"))\n",
        "paths"
      ]
    },
    {
      "cell_type": "markdown",
      "id": "01f7a5f4-8ea4-4578-b561-b12506b79dd3",
      "metadata": {
        "papermill": {
          "duration": 0.004977,
          "end_time": "2023-09-01T18:13:10.405556",
          "exception": false,
          "start_time": "2023-09-01T18:13:10.400579",
          "status": "completed"
        },
        "tags": []
      },
      "source": [
        "And the path lengths of those paths can be calculated as follows:"
      ]
    },
    {
      "cell_type": "markdown",
      "id": "52323860dbd05532",
      "metadata": {},
      "source": [
        ":::{eval-rst}\n",
        ".. autofunction:: sax.backends.additive.path_lengths\n",
        ":::\n"
      ]
    },
    {
      "cell_type": "code",
      "execution_count": 14,
      "id": "4250ef472d61d9ed",
      "metadata": {
        "execution": {
          "iopub.execute_input": "2023-09-01T18:13:10.416815Z",
          "iopub.status.busy": "2023-09-01T18:13:10.416301Z",
          "iopub.status.idle": "2023-09-01T18:13:10.420330Z",
          "shell.execute_reply": "2023-09-01T18:13:10.419963Z"
        },
        "papermill": {
          "duration": 0.011009,
          "end_time": "2023-09-01T18:13:10.421421",
          "exception": false,
          "start_time": "2023-09-01T18:13:10.410412",
          "status": "completed"
        },
        "tags": [
          "hide-input"
        ]
      },
      "outputs": [],
      "source": [
        "def path_lengths(graph, paths):\n",
        "    lengths = []\n",
        "    for path in paths:\n",
        "        length = zero = jnp.array([0.0], dtype=float)\n",
        "        default_edge_data = {\"type\": \"C\", \"length\": zero}\n",
        "        for edge in path:\n",
        "            edge_data = graph.get_edge_data(*edge, default_edge_data)\n",
        "            length = (length[None,:] + edge_data.get(\"length\", zero)[:, None]).ravel()\n",
        "        lengths.append(length)\n",
        "    return lengths"
      ]
    },
    {
      "cell_type": "code",
      "execution_count": 15,
      "id": "a445e1c2-af3f-4953-824d-6fbc89df1499",
      "metadata": {
        "execution": {
          "iopub.execute_input": "2023-09-01T18:13:10.432927Z",
          "iopub.status.busy": "2023-09-01T18:13:10.432339Z",
          "iopub.status.idle": "2023-09-01T18:13:10.688944Z",
          "shell.execute_reply": "2023-09-01T18:13:10.688514Z"
        },
        "papermill": {
          "duration": 0.263816,
          "end_time": "2023-09-01T18:13:10.690258",
          "exception": false,
          "start_time": "2023-09-01T18:13:10.426442",
          "status": "completed"
        },
        "tags": []
      },
      "outputs": [
        {
          "data": {
            "text/plain": [
              "[Array([120., 130., 220., 230., 320., 330., 130., 140., 230., 240., 330.,\n",
              "        340.], dtype=float64),\n",
              " Array([30.], dtype=float64)]"
            ]
          },
          "execution_count": 15,
          "metadata": {},
          "output_type": "execute_result"
        }
      ],
      "source": [
        "path_lengths(graph, paths)"
      ]
    },
    {
      "cell_type": "markdown",
      "id": "1c963377-0e97-4396-acc6-469517e1afcf",
      "metadata": {
        "papermill": {
          "duration": 0.005473,
          "end_time": "2023-09-01T18:13:10.701039",
          "exception": false,
          "start_time": "2023-09-01T18:13:10.695566",
          "status": "completed"
        },
        "tags": []
      },
      "source": [
        "This is all brought together in the additive KLU backend:"
      ]
    },
    {
      "cell_type": "markdown",
      "id": "5b8e0bdccd34e2f2",
      "metadata": {},
      "source": [
        ":::{eval-rst}\n",
        ".. autofunction:: sax.backends.additive.analyze_circuit_additive\n",
        ":::\n"
      ]
    },
    {
      "cell_type": "markdown",
      "id": "9476b45e024026ef",
      "metadata": {},
      "source": [
        ":::{eval-rst}\n",
        ".. autofunction:: sax.backends.additive.evaluate_circuit_additive\n",
        ":::\n"
      ]
    },
    {
      "cell_type": "code",
      "execution_count": 16,
      "id": "6f1756b1ef9a42df",
      "metadata": {
        "execution": {
          "iopub.execute_input": "2023-09-01T18:13:10.712965Z",
          "iopub.status.busy": "2023-09-01T18:13:10.712408Z",
          "iopub.status.idle": "2023-09-01T18:13:10.717125Z",
          "shell.execute_reply": "2023-09-01T18:13:10.716780Z"
        },
        "papermill": {
          "duration": 0.012152,
          "end_time": "2023-09-01T18:13:10.718187",
          "exception": false,
          "start_time": "2023-09-01T18:13:10.706035",
          "status": "completed"
        },
        "tags": [
          "hide-input"
        ]
      },
      "outputs": [],
      "source": [
        "def analyze_circuit_additive(\n",
        "    connections: Dict[str, str],\n",
        "    ports: Dict[str, str],\n",
        "):\n",
        "    return connections, ports\n",
        "    \n",
        "def evaluate_circuit_additive(\n",
        "    analyzed,\n",
        "    instances: Dict[str, SDict],\n",
        "):\n",
        "    \"\"\"evaluate a circuit for the given sdicts.\"\"\"\n",
        "    connections, ports = analyzed\n",
        "    edges = graph_edges(instances, connections, ports)\n",
        "\n",
        "    graph = nx.Graph()\n",
        "    graph.add_edges_from(edges)\n",
        "    prune_internal_output_nodes(graph)\n",
        "\n",
        "    sdict = {}\n",
        "    for source in ports:\n",
        "        for target in ports:\n",
        "            paths = get_possible_paths(graph, source=(\"\", source), target=(\"\", target))\n",
        "            if not paths:\n",
        "                continue\n",
        "            sdict[source, target] = path_lengths(graph, paths)\n",
        "\n",
        "    return sdict"
      ]
    },
    {
      "cell_type": "code",
      "execution_count": 17,
      "id": "6ec2aaf0-1545-49a8-9203-1b86d36b3e84",
      "metadata": {
        "execution": {
          "iopub.execute_input": "2023-09-01T18:13:10.729296Z",
          "iopub.status.busy": "2023-09-01T18:13:10.728986Z",
          "iopub.status.idle": "2023-09-01T18:13:10.911964Z",
          "shell.execute_reply": "2023-09-01T18:13:10.911499Z"
        },
        "papermill": {
          "duration": 0.190022,
          "end_time": "2023-09-01T18:13:10.913292",
          "exception": false,
          "start_time": "2023-09-01T18:13:10.723270",
          "status": "completed"
        },
        "tags": []
      },
      "outputs": [
        {
          "data": {
            "text/plain": [
              "{('in0',\n",
              "  'out0'): [Array([120., 130., 220., 230., 320., 330., 130., 140., 230., 240., 330.,\n",
              "         340.], dtype=float64), Array([30.], dtype=float64)],\n",
              " ('in0', 'out1'): [Array([125., 135., 225., 235., 325., 335.], dtype=float64),\n",
              "  Array([25., 35.], dtype=float64)],\n",
              " ('in1', 'out0'): [Array([125., 225., 325., 135., 235., 335.], dtype=float64),\n",
              "  Array([25., 35.], dtype=float64)],\n",
              " ('in1', 'out1'): [Array([130., 230., 330.], dtype=float64),\n",
              "  Array([20., 30., 30., 40.], dtype=float64)],\n",
              " ('out0',\n",
              "  'in0'): [Array([120., 130., 220., 230., 320., 330., 130., 140., 230., 240., 330.,\n",
              "         340.], dtype=float64), Array([30.], dtype=float64)],\n",
              " ('out0', 'in1'): [Array([125., 135., 225., 235., 325., 335.], dtype=float64),\n",
              "  Array([25., 35.], dtype=float64)],\n",
              " ('out1', 'in0'): [Array([125., 225., 325., 135., 235., 335.], dtype=float64),\n",
              "  Array([25., 35.], dtype=float64)],\n",
              " ('out1', 'in1'): [Array([130., 230., 330.], dtype=float64),\n",
              "  Array([20., 30., 30., 40.], dtype=float64)]}"
            ]
          },
          "execution_count": 17,
          "metadata": {},
          "output_type": "execute_result"
        }
      ],
      "source": [
        "evaluate_circuit_additive(analyze_circuit_additive(connections, ports), instances)"
      ]
    }
  ],
  "metadata": {
    "kernelspec": {
      "display_name": "sax",
      "language": "python",
      "name": "sax"
    },
    "language_info": {
      "codemirror_mode": {
        "name": "ipython",
        "version": 3
      },
      "file_extension": ".py",
      "mimetype": "text/x-python",
      "name": "python",
      "nbconvert_exporter": "python",
      "pygments_lexer": "ipython3",
      "version": "3.11.5"
    },
    "papermill": {
      "default_parameters": {},
      "duration": 3.983882,
      "end_time": "2023-09-01T18:13:11.334966",
      "environment_variables": {},
      "exception": null,
      "input_path": "./nbs/08c_backends_additive.ipynb",
      "output_path": "./nbs/08c_backends_additive.ipynb",
      "parameters": {},
      "start_time": "2023-09-01T18:13:07.351084",
      "version": "2.4.0"
    }
  },
  "nbformat": 4,
  "nbformat_minor": 5
}