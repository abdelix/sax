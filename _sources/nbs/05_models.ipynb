{
  "cells": [
    {
      "cell_type": "code",
      "execution_count": 1,
      "id": "f7afdd14a2bb4073",
      "metadata": {
        "execution": {
          "iopub.execute_input": "2023-06-01T21:09:59.635138Z",
          "iopub.status.busy": "2023-06-01T21:09:59.634885Z",
          "iopub.status.idle": "2023-06-01T21:09:59.638018Z",
          "shell.execute_reply": "2023-06-01T21:09:59.637540Z"
        },
        "papermill": {
          "duration": 0.011449,
          "end_time": "2023-06-01T21:09:59.640149",
          "exception": false,
          "start_time": "2023-06-01T21:09:59.628700",
          "status": "completed"
        },
        "tags": [
          "remove-cell"
        ]
      },
      "outputs": [],
      "source": []
    },
    {
      "cell_type": "markdown",
      "id": "986cb864",
      "metadata": {
        "papermill": {
          "duration": 0.004025,
          "end_time": "2023-06-01T21:09:59.648471",
          "exception": false,
          "start_time": "2023-06-01T21:09:59.644446",
          "status": "completed"
        },
        "tags": []
      },
      "source": [
        "# Models\n",
        "\n",
        "> Default SAX Models"
      ]
    },
    {
      "cell_type": "code",
      "execution_count": 2,
      "id": "a2ef332bd99ce650",
      "metadata": {
        "execution": {
          "iopub.execute_input": "2023-06-01T21:09:59.657481Z",
          "iopub.status.busy": "2023-06-01T21:09:59.657281Z",
          "iopub.status.idle": "2023-06-01T21:09:59.662155Z",
          "shell.execute_reply": "2023-06-01T21:09:59.661799Z"
        },
        "papermill": {
          "duration": 0.011445,
          "end_time": "2023-06-01T21:09:59.663933",
          "exception": false,
          "start_time": "2023-06-01T21:09:59.652488",
          "status": "completed"
        },
        "tags": [
          "remove-cell"
        ]
      },
      "outputs": [],
      "source": [
        "import os, sys; sys.stderr = open(os.devnull, \"w\")"
      ]
    },
    {
      "cell_type": "code",
      "execution_count": 3,
      "id": "8a2162a841a41ef0",
      "metadata": {
        "execution": {
          "iopub.execute_input": "2023-06-01T21:09:59.672790Z",
          "iopub.status.busy": "2023-06-01T21:09:59.672609Z",
          "iopub.status.idle": "2023-06-01T21:10:00.450866Z",
          "shell.execute_reply": "2023-06-01T21:10:00.450379Z"
        },
        "papermill": {
          "duration": 0.78454,
          "end_time": "2023-06-01T21:10:00.452410",
          "exception": false,
          "start_time": "2023-06-01T21:09:59.667870",
          "status": "completed"
        },
        "tags": [
          "hide-input"
        ]
      },
      "outputs": [],
      "source": [
        "from __future__ import annotations\n",
        "\n",
        "import warnings\n",
        "from functools import lru_cache as cache\n",
        "from types import SimpleNamespace\n",
        "from typing import Optional, Tuple\n",
        "\n",
        "import sax\n",
        "from sax.typing_ import Model, SCoo, SDict\n",
        "from sax.utils import get_inputs_outputs, reciprocal\n",
        "\n",
        "try:\n",
        "    import jax\n",
        "    import jax.numpy as jnp\n",
        "    JAX_AVAILABLE = True\n",
        "except ImportError:\n",
        "    import numpy as jnp\n",
        "    \n",
        "    def jit(func, *args, **kwargs):\n",
        "        warnings.warn(\"[NO JAX] skipping jit! Please install JAX!\")\n",
        "        return func\n",
        "    \n",
        "    jax = SimpleNamespace(jit=jit)\n",
        "    \n",
        "    JAX_AVAILABLE = False"
      ]
    },
    {
      "cell_type": "markdown",
      "id": "efa9b619",
      "metadata": {
        "papermill": {
          "duration": 0.004156,
          "end_time": "2023-06-01T21:10:00.460910",
          "exception": false,
          "start_time": "2023-06-01T21:10:00.456754",
          "status": "completed"
        },
        "tags": []
      },
      "source": [
        "## Standard Models"
      ]
    },
    {
      "cell_type": "markdown",
      "id": "e02d000bb6d14230",
      "metadata": {},
      "source": [
        ":::{eval-rst}\n",
        ".. autofunction:: sax.models.straight\n",
        ":::\n"
      ]
    },
    {
      "cell_type": "code",
      "execution_count": 4,
      "id": "749a0732f37a1f43",
      "metadata": {
        "execution": {
          "iopub.execute_input": "2023-06-01T21:10:00.470600Z",
          "iopub.status.busy": "2023-06-01T21:10:00.469870Z",
          "iopub.status.idle": "2023-06-01T21:10:00.474569Z",
          "shell.execute_reply": "2023-06-01T21:10:00.474200Z"
        },
        "papermill": {
          "duration": 0.01131,
          "end_time": "2023-06-01T21:10:00.476257",
          "exception": false,
          "start_time": "2023-06-01T21:10:00.464947",
          "status": "completed"
        },
        "tags": [
          "hide-input"
        ]
      },
      "outputs": [],
      "source": [
        "\n",
        "def straight(\n",
        "    *,\n",
        "    wl: float = 1.55,\n",
        "    wl0: float = 1.55,\n",
        "    neff: float = 2.34,\n",
        "    ng: float = 3.4,\n",
        "    length: float = 10.0,\n",
        "    loss: float = 0.0\n",
        ") -> SDict:\n",
        "    \"\"\"a simple straight waveguide model\"\"\"\n",
        "    dwl = wl - wl0\n",
        "    dneff_dwl = (ng - neff) / wl0\n",
        "    neff = neff - dwl * dneff_dwl\n",
        "    phase = 2 * jnp.pi * neff * length / wl\n",
        "    amplitude = jnp.asarray(10 ** (-loss * length / 20), dtype=complex)\n",
        "    transmission =  amplitude * jnp.exp(1j * phase)\n",
        "    sdict = reciprocal(\n",
        "        {\n",
        "            (\"in0\", \"out0\"): transmission,\n",
        "        }\n",
        "    )\n",
        "    return sdict"
      ]
    },
    {
      "cell_type": "code",
      "execution_count": 5,
      "id": "a99cec57",
      "metadata": {
        "execution": {
          "iopub.execute_input": "2023-06-01T21:10:00.485201Z",
          "iopub.status.busy": "2023-06-01T21:10:00.485011Z",
          "iopub.status.idle": "2023-06-01T21:10:00.531260Z",
          "shell.execute_reply": "2023-06-01T21:10:00.530866Z"
        },
        "papermill": {
          "duration": 0.052431,
          "end_time": "2023-06-01T21:10:00.532667",
          "exception": false,
          "start_time": "2023-06-01T21:10:00.480236",
          "status": "completed"
        },
        "tags": []
      },
      "outputs": [
        {
          "data": {
            "text/plain": [
              "{('in0', 'out0'): Array(0.82076484+0.5712662j, dtype=complex64),\n",
              " ('out0', 'in0'): Array(0.82076484+0.5712662j, dtype=complex64)}"
            ]
          },
          "execution_count": 5,
          "metadata": {},
          "output_type": "execute_result"
        }
      ],
      "source": [
        "straight()"
      ]
    },
    {
      "cell_type": "markdown",
      "id": "4b52044d52f2f0e0",
      "metadata": {},
      "source": [
        ":::{eval-rst}\n",
        ".. autofunction:: sax.models.coupler\n",
        ":::\n"
      ]
    },
    {
      "cell_type": "code",
      "execution_count": 6,
      "id": "8056d80e1af1e485",
      "metadata": {
        "execution": {
          "iopub.execute_input": "2023-06-01T21:10:00.543219Z",
          "iopub.status.busy": "2023-06-01T21:10:00.542719Z",
          "iopub.status.idle": "2023-06-01T21:10:00.546122Z",
          "shell.execute_reply": "2023-06-01T21:10:00.545762Z"
        },
        "papermill": {
          "duration": 0.010767,
          "end_time": "2023-06-01T21:10:00.547844",
          "exception": false,
          "start_time": "2023-06-01T21:10:00.537077",
          "status": "completed"
        },
        "tags": [
          "hide-input"
        ]
      },
      "outputs": [],
      "source": [
        "\n",
        "def coupler(*, coupling: float = 0.5) -> SDict:\n",
        "    \"\"\"a simple coupler model\"\"\"\n",
        "    kappa = coupling ** 0.5\n",
        "    tau = (1 - coupling) ** 0.5\n",
        "    sdict = reciprocal(\n",
        "        {\n",
        "            (\"in0\", \"out0\"): tau,\n",
        "            (\"in0\", \"out1\"): 1j * kappa,\n",
        "            (\"in1\", \"out0\"): 1j * kappa,\n",
        "            (\"in1\", \"out1\"): tau,\n",
        "        }\n",
        "    )\n",
        "    return sdict"
      ]
    },
    {
      "cell_type": "code",
      "execution_count": 7,
      "id": "5fd87a22",
      "metadata": {
        "execution": {
          "iopub.execute_input": "2023-06-01T21:10:00.557156Z",
          "iopub.status.busy": "2023-06-01T21:10:00.556971Z",
          "iopub.status.idle": "2023-06-01T21:10:00.560322Z",
          "shell.execute_reply": "2023-06-01T21:10:00.559960Z"
        },
        "papermill": {
          "duration": 0.010622,
          "end_time": "2023-06-01T21:10:00.562631",
          "exception": false,
          "start_time": "2023-06-01T21:10:00.552009",
          "status": "completed"
        },
        "tags": []
      },
      "outputs": [
        {
          "data": {
            "text/plain": [
              "{('in0', 'out0'): 0.7071067811865476,\n",
              " ('in0', 'out1'): 0.7071067811865476j,\n",
              " ('in1', 'out0'): 0.7071067811865476j,\n",
              " ('in1', 'out1'): 0.7071067811865476,\n",
              " ('out0', 'in0'): 0.7071067811865476,\n",
              " ('out1', 'in0'): 0.7071067811865476j,\n",
              " ('out0', 'in1'): 0.7071067811865476j,\n",
              " ('out1', 'in1'): 0.7071067811865476}"
            ]
          },
          "execution_count": 7,
          "metadata": {},
          "output_type": "execute_result"
        }
      ],
      "source": [
        "coupler()"
      ]
    },
    {
      "cell_type": "markdown",
      "id": "ca06c12f",
      "metadata": {
        "papermill": {
          "duration": 0.004252,
          "end_time": "2023-06-01T21:10:00.571273",
          "exception": false,
          "start_time": "2023-06-01T21:10:00.567021",
          "status": "completed"
        },
        "tags": []
      },
      "source": [
        "## Model Factories"
      ]
    },
    {
      "cell_type": "code",
      "execution_count": 8,
      "id": "562eeaa325e7bb56",
      "metadata": {
        "execution": {
          "iopub.execute_input": "2023-06-01T21:10:00.580727Z",
          "iopub.status.busy": "2023-06-01T21:10:00.580532Z",
          "iopub.status.idle": "2023-06-01T21:10:00.587192Z",
          "shell.execute_reply": "2023-06-01T21:10:00.586830Z"
        },
        "papermill": {
          "duration": 0.012859,
          "end_time": "2023-06-01T21:10:00.588438",
          "exception": false,
          "start_time": "2023-06-01T21:10:00.575579",
          "status": "completed"
        },
        "tags": [
          "remove-cell"
        ]
      },
      "outputs": [],
      "source": [
        "\n",
        "def _validate_ports(ports, num_inputs, num_outputs, diagonal) -> Tuple[Tuple[str,...], Tuple[str,...], int, int]:\n",
        "    if ports is None:\n",
        "        if num_inputs is None or num_outputs is None:\n",
        "            raise ValueError(\n",
        "                \"if not ports given, you must specify how many input ports \"\n",
        "                \"and how many output ports a model has.\"\n",
        "            )\n",
        "        input_ports = [f\"in{i}\" for i in range(num_inputs)]\n",
        "        output_ports = [f\"out{i}\" for i in range(num_outputs)]\n",
        "    else:\n",
        "        if num_inputs is not None:\n",
        "            if num_outputs is None:\n",
        "                raise ValueError(\n",
        "                    \"if num_inputs is given, num_outputs should be given as well.\"\n",
        "                )\n",
        "        if num_outputs is not None:\n",
        "            if num_inputs is None:\n",
        "                raise ValueError(\n",
        "                    \"if num_outputs is given, num_inputs should be given as well.\"\n",
        "                )\n",
        "        if num_inputs is not None and num_outputs is not None:\n",
        "            if num_inputs + num_outputs != len(ports):\n",
        "                raise ValueError(\"num_inputs + num_outputs != len(ports)\")\n",
        "            input_ports = ports[:num_inputs]\n",
        "            output_ports = ports[num_inputs:]\n",
        "        else:\n",
        "            input_ports, output_ports = get_inputs_outputs(ports)\n",
        "            num_inputs = len(input_ports)\n",
        "            num_outputs = len(output_ports)\n",
        "            \n",
        "    if diagonal:\n",
        "        if num_inputs != num_outputs:\n",
        "            raise ValueError(\n",
        "                \"Can only have a diagonal passthru if number of input ports equals the number of output ports!\"\n",
        "            )\n",
        "    return input_ports, output_ports, num_inputs, num_outputs"
      ]
    },
    {
      "cell_type": "markdown",
      "id": "3a8e24b9d6788745",
      "metadata": {},
      "source": [
        ":::{eval-rst}\n",
        ".. autofunction:: sax.models.unitary\n",
        ":::\n"
      ]
    },
    {
      "cell_type": "code",
      "execution_count": 9,
      "id": "30d266d9ef48d40d",
      "metadata": {
        "execution": {
          "iopub.execute_input": "2023-06-01T21:10:00.598050Z",
          "iopub.status.busy": "2023-06-01T21:10:00.597858Z",
          "iopub.status.idle": "2023-06-01T21:10:00.607434Z",
          "shell.execute_reply": "2023-06-01T21:10:00.607095Z"
        },
        "papermill": {
          "duration": 0.016043,
          "end_time": "2023-06-01T21:10:00.608755",
          "exception": false,
          "start_time": "2023-06-01T21:10:00.592712",
          "status": "completed"
        },
        "tags": [
          "hide-input"
        ]
      },
      "outputs": [],
      "source": [
        "\n",
        "@cache\n",
        "def unitary(\n",
        "    num_inputs: Optional[int] = None,\n",
        "    num_outputs: Optional[int] = None,\n",
        "    ports: Optional[Tuple[str, ...]] = None,\n",
        "    *,\n",
        "    jit=True,\n",
        "    reciprocal=True,\n",
        "    diagonal=False,\n",
        ") -> Model:\n",
        "    input_ports, output_ports, num_inputs, num_outputs = _validate_ports(ports, num_inputs, num_outputs, diagonal)\n",
        "    assert num_inputs is not None and num_outputs is not None\n",
        "    \n",
        "    # let's create the squared S-matrix:\n",
        "    N = max(num_inputs, num_outputs)\n",
        "    S = jnp.zeros((2*N, 2*N), dtype=float)\n",
        "\n",
        "    if not diagonal:\n",
        "        if JAX_AVAILABLE:\n",
        "            S = S.at[:N, N:].set(1)\n",
        "        else:\n",
        "            S[:N, N:] = 1\n",
        "    else:\n",
        "        r = jnp.arange(N, dtype=int) # reciprocal only works if num_inputs == num_outputs!\n",
        "        if JAX_AVAILABLE:\n",
        "            S = S.at[r, N+r].set(1)\n",
        "        else:\n",
        "            S[r, N+r] = 1\n",
        "\n",
        "    if reciprocal:\n",
        "        if not diagonal:\n",
        "            if JAX_AVAILABLE:\n",
        "                S = S.at[N:, :N].set(1)\n",
        "            else:\n",
        "                S[N:, :N] = 1\n",
        "        else:\n",
        "            r = jnp.arange(N, dtype=int) # reciprocal only works if num_inputs == num_outputs!\n",
        "            if JAX_AVAILABLE:\n",
        "                S = S.at[N+r, r].set(1)\n",
        "            else:\n",
        "                S[N+r, r] = 1\n",
        "\n",
        "    # Now we need to normalize the squared S-matrix\n",
        "    U, s, V = jnp.linalg.svd(S, full_matrices=False)\n",
        "    S = jnp.sqrt(U@jnp.diag(jnp.where(s > 1e-12, 1, 0))@V)\n",
        "    \n",
        "    # Now create subset of this matrix we're interested in:\n",
        "    r = jnp.concatenate([jnp.arange(num_inputs, dtype=int), N+jnp.arange(num_outputs, dtype=int)], 0)\n",
        "    S = S[r, :][:, r]\n",
        "\n",
        "    # let's convert it in SCOO format:\n",
        "    Si, Sj = jnp.where(S > 1e-6)\n",
        "    Sx = S[Si, Sj]\n",
        "    \n",
        "    # the last missing piece is a port map:\n",
        "    pm = {\n",
        "        **{p: i for i, p in enumerate(input_ports)},\n",
        "        **{p: i + num_inputs for i, p in enumerate(output_ports)},\n",
        "    }\n",
        "    \n",
        "    def func(wl: float = 1.5) -> SCoo:\n",
        "        wl_ = jnp.asarray(wl)\n",
        "        Sx_ = jnp.broadcast_to(Sx, (*wl_.shape, *Sx.shape))\n",
        "        return Si, Sj, Sx_, pm\n",
        "\n",
        "    func.__name__ = f\"unitary_{num_inputs}_{num_outputs}\"\n",
        "    func.__qualname__ = f\"unitary_{num_inputs}_{num_outputs}\"\n",
        "    if jit:\n",
        "        return jax.jit(func)\n",
        "    return func"
      ]
    },
    {
      "cell_type": "markdown",
      "id": "327febf2-70d5-48ed-8b39-bac2d9727db5",
      "metadata": {
        "papermill": {
          "duration": 0.004399,
          "end_time": "2023-06-01T21:10:00.617986",
          "exception": false,
          "start_time": "2023-06-01T21:10:00.613587",
          "status": "completed"
        },
        "tags": []
      },
      "source": [
        "A unitary model returns an `SCoo` by default:"
      ]
    },
    {
      "cell_type": "code",
      "execution_count": 10,
      "id": "e95bacdd",
      "metadata": {
        "execution": {
          "iopub.execute_input": "2023-06-01T21:10:00.628096Z",
          "iopub.status.busy": "2023-06-01T21:10:00.627856Z",
          "iopub.status.idle": "2023-06-01T21:10:01.371481Z",
          "shell.execute_reply": "2023-06-01T21:10:01.371097Z"
        },
        "papermill": {
          "duration": 0.75044,
          "end_time": "2023-06-01T21:10:01.372930",
          "exception": false,
          "start_time": "2023-06-01T21:10:00.622490",
          "status": "completed"
        },
        "tags": []
      },
      "outputs": [
        {
          "data": {
            "text/plain": [
              "(Array([0, 0, 0, 1, 1, 1, 2, 2, 3, 3, 3], dtype=int32),\n",
              " Array([0, 2, 3, 1, 2, 3, 0, 1, 0, 1, 3], dtype=int32),\n",
              " Array([4.9899316e-01, 9.6622545e-01, 2.5769809e-01, 4.9899325e-01,\n",
              "        2.5769782e-01, 9.6622556e-01, 7.0710677e-01, 7.0710677e-01,\n",
              "        7.0710677e-01, 7.0710677e-01, 2.2561848e-04], dtype=float32),\n",
              " {'in0': Array(0, dtype=int32, weak_type=True),\n",
              "  'in1': Array(1, dtype=int32, weak_type=True),\n",
              "  'out0': Array(2, dtype=int32, weak_type=True),\n",
              "  'out1': Array(3, dtype=int32, weak_type=True)})"
            ]
          },
          "execution_count": 10,
          "metadata": {},
          "output_type": "execute_result"
        }
      ],
      "source": [
        "unitary_model = unitary(2, 2)\n",
        "unitary_model() # a unitary model returns an SCoo by default"
      ]
    },
    {
      "cell_type": "markdown",
      "id": "01ff2567-9b0e-4686-acb4-47cfb11b06ce",
      "metadata": {
        "papermill": {
          "duration": 0.004875,
          "end_time": "2023-06-01T21:10:01.382640",
          "exception": false,
          "start_time": "2023-06-01T21:10:01.377765",
          "status": "completed"
        },
        "tags": []
      },
      "source": [
        "As you probably already know, it's very easy to convert a model returning any `Stype` into a model returning an `SDict` as follows:"
      ]
    },
    {
      "cell_type": "code",
      "execution_count": 11,
      "id": "260dda8c-7e44-4f3f-b96c-e742daaf2885",
      "metadata": {
        "execution": {
          "iopub.execute_input": "2023-06-01T21:10:01.393013Z",
          "iopub.status.busy": "2023-06-01T21:10:01.392673Z",
          "iopub.status.idle": "2023-06-01T21:10:01.441368Z",
          "shell.execute_reply": "2023-06-01T21:10:01.440981Z"
        },
        "papermill": {
          "duration": 0.05557,
          "end_time": "2023-06-01T21:10:01.442793",
          "exception": false,
          "start_time": "2023-06-01T21:10:01.387223",
          "status": "completed"
        },
        "tags": []
      },
      "outputs": [
        {
          "data": {
            "text/plain": [
              "{('in0', 'in0'): Array(0.49899316, dtype=float32),\n",
              " ('in0', 'out0'): Array(0.96622545, dtype=float32),\n",
              " ('in0', 'out1'): Array(0.2576981, dtype=float32),\n",
              " ('in1', 'in1'): Array(0.49899325, dtype=float32),\n",
              " ('in1', 'out0'): Array(0.25769782, dtype=float32),\n",
              " ('in1', 'out1'): Array(0.96622556, dtype=float32),\n",
              " ('out0', 'in0'): Array(0.70710677, dtype=float32),\n",
              " ('out0', 'in1'): Array(0.70710677, dtype=float32),\n",
              " ('out1', 'in0'): Array(0.70710677, dtype=float32),\n",
              " ('out1', 'in1'): Array(0.70710677, dtype=float32),\n",
              " ('out1', 'out1'): Array(0.00022562, dtype=float32)}"
            ]
          },
          "execution_count": 11,
          "metadata": {},
          "output_type": "execute_result"
        }
      ],
      "source": [
        "unitary_sdict_model = sax.sdict(unitary_model)\n",
        "unitary_sdict_model()"
      ]
    },
    {
      "cell_type": "markdown",
      "id": "e9a1a46b-b10a-471b-b835-7b6d8d49175a",
      "metadata": {
        "papermill": {
          "duration": 0.004938,
          "end_time": "2023-06-01T21:10:01.452567",
          "exception": false,
          "start_time": "2023-06-01T21:10:01.447629",
          "status": "completed"
        },
        "tags": []
      },
      "source": [
        "If we need custom port names, we can also just specify them explicitly:"
      ]
    },
    {
      "cell_type": "code",
      "execution_count": 12,
      "id": "66abe9b0",
      "metadata": {
        "execution": {
          "iopub.execute_input": "2023-06-01T21:10:01.462965Z",
          "iopub.status.busy": "2023-06-01T21:10:01.462627Z",
          "iopub.status.idle": "2023-06-01T21:10:01.483100Z",
          "shell.execute_reply": "2023-06-01T21:10:01.482610Z"
        },
        "papermill": {
          "duration": 0.027196,
          "end_time": "2023-06-01T21:10:01.484338",
          "exception": false,
          "start_time": "2023-06-01T21:10:01.457142",
          "status": "completed"
        },
        "tags": []
      },
      "outputs": [
        {
          "data": {
            "text/plain": [
              "(Array([0, 0, 0, 1, 1, 1, 2, 2, 3, 3, 3], dtype=int32),\n",
              " Array([0, 2, 3, 1, 2, 3, 0, 1, 0, 1, 3], dtype=int32),\n",
              " Array([4.9899316e-01, 9.6622545e-01, 2.5769809e-01, 4.9899325e-01,\n",
              "        2.5769782e-01, 9.6622556e-01, 7.0710677e-01, 7.0710677e-01,\n",
              "        7.0710677e-01, 7.0710677e-01, 2.2561848e-04], dtype=float32),\n",
              " {'in0': Array(0, dtype=int32, weak_type=True),\n",
              "  'in1': Array(1, dtype=int32, weak_type=True),\n",
              "  'out0': Array(2, dtype=int32, weak_type=True),\n",
              "  'out1': Array(3, dtype=int32, weak_type=True)})"
            ]
          },
          "execution_count": 12,
          "metadata": {},
          "output_type": "execute_result"
        }
      ],
      "source": [
        "unitary_model = unitary(ports=(\"in0\", \"in1\", \"out0\", \"out1\"))\n",
        "unitary_model()"
      ]
    },
    {
      "cell_type": "markdown",
      "id": "ebf14c1c-ccfb-44e6-8572-18b366ffab91",
      "metadata": {
        "papermill": {
          "duration": 0.004785,
          "end_time": "2023-06-01T21:10:01.494068",
          "exception": false,
          "start_time": "2023-06-01T21:10:01.489283",
          "status": "completed"
        },
        "tags": []
      },
      "source": [
        "A unitary model will by default split a signal at an input port equally over all output ports. However, if there are an equal number of input ports as output ports we can in stead create a passthru by setting the `diagonal` flag to `True`:"
      ]
    },
    {
      "cell_type": "code",
      "execution_count": 13,
      "id": "7c1d61a3",
      "metadata": {
        "execution": {
          "iopub.execute_input": "2023-06-01T21:10:01.505349Z",
          "iopub.status.busy": "2023-06-01T21:10:01.505035Z",
          "iopub.status.idle": "2023-06-01T21:10:01.787624Z",
          "shell.execute_reply": "2023-06-01T21:10:01.787119Z"
        },
        "papermill": {
          "duration": 0.289804,
          "end_time": "2023-06-01T21:10:01.788954",
          "exception": false,
          "start_time": "2023-06-01T21:10:01.499150",
          "status": "completed"
        },
        "tags": []
      },
      "outputs": [
        {
          "data": {
            "text/plain": [
              "{('in0', 'out0'): Array(1., dtype=float32),\n",
              " ('in1', 'out1'): Array(1., dtype=float32),\n",
              " ('out0', 'in0'): Array(1., dtype=float32),\n",
              " ('out1', 'in1'): Array(1., dtype=float32)}"
            ]
          },
          "execution_count": 13,
          "metadata": {},
          "output_type": "execute_result"
        }
      ],
      "source": [
        "passthru_model = unitary(2, 2, diagonal=True)\n",
        "sax.sdict(passthru_model())"
      ]
    },
    {
      "cell_type": "code",
      "execution_count": 14,
      "id": "7f93b145",
      "metadata": {
        "execution": {
          "iopub.execute_input": "2023-06-01T21:10:01.800411Z",
          "iopub.status.busy": "2023-06-01T21:10:01.800129Z",
          "iopub.status.idle": "2023-06-01T21:10:02.573365Z",
          "shell.execute_reply": "2023-06-01T21:10:02.572878Z"
        },
        "papermill": {
          "duration": 0.780812,
          "end_time": "2023-06-01T21:10:02.574705",
          "exception": false,
          "start_time": "2023-06-01T21:10:01.793893",
          "status": "completed"
        },
        "tags": []
      },
      "outputs": [
        {
          "data": {
            "text/plain": [
              "{('in0', 'in0'): Array(0.89409053, dtype=float32),\n",
              " ('in0', 'out0'): Array(0.44721356, dtype=float32),\n",
              " ('in0', 'out1'): Array(0.44721356, dtype=float32),\n",
              " ('in0', 'out2'): Array(0.44721356, dtype=float32),\n",
              " ('in0', 'out3'): Array(0.44721356, dtype=float32),\n",
              " ('in0', 'out4'): Array(0.44721356, dtype=float32),\n",
              " ('out0', 'in0'): Array(0.45508003, dtype=float32),\n",
              " ('out0', 'out0'): Array(6.8863876e-05, dtype=float32),\n",
              " ('out0', 'out1'): Array(6.8863876e-05, dtype=float32),\n",
              " ('out0', 'out2'): Array(6.8863876e-05, dtype=float32),\n",
              " ('out0', 'out3'): Array(6.8863876e-05, dtype=float32),\n",
              " ('out0', 'out4'): Array(6.8863876e-05, dtype=float32),\n",
              " ('out1', 'in0'): Array(0.45508003, dtype=float32),\n",
              " ('out1', 'out0'): Array(6.8863876e-05, dtype=float32),\n",
              " ('out1', 'out1'): Array(6.8863876e-05, dtype=float32),\n",
              " ('out1', 'out2'): Array(6.8863876e-05, dtype=float32),\n",
              " ('out1', 'out3'): Array(6.8863876e-05, dtype=float32),\n",
              " ('out1', 'out4'): Array(6.8863876e-05, dtype=float32),\n",
              " ('out2', 'in0'): Array(0.45508003, dtype=float32),\n",
              " ('out2', 'out0'): Array(6.8863876e-05, dtype=float32),\n",
              " ('out2', 'out1'): Array(6.8863876e-05, dtype=float32),\n",
              " ('out2', 'out2'): Array(6.8863876e-05, dtype=float32),\n",
              " ('out2', 'out3'): Array(6.8863876e-05, dtype=float32),\n",
              " ('out2', 'out4'): Array(6.8863876e-05, dtype=float32),\n",
              " ('out3', 'in0'): Array(0.45508003, dtype=float32),\n",
              " ('out3', 'out0'): Array(6.8863876e-05, dtype=float32),\n",
              " ('out3', 'out1'): Array(6.8863876e-05, dtype=float32),\n",
              " ('out3', 'out2'): Array(6.8863876e-05, dtype=float32),\n",
              " ('out3', 'out3'): Array(6.8863876e-05, dtype=float32),\n",
              " ('out3', 'out4'): Array(6.8863876e-05, dtype=float32),\n",
              " ('out4', 'in0'): Array(0.4142568, dtype=float32),\n",
              " ('out4', 'out0'): Array(0.00012883, dtype=float32),\n",
              " ('out4', 'out1'): Array(0.00012883, dtype=float32),\n",
              " ('out4', 'out2'): Array(0.00012883, dtype=float32),\n",
              " ('out4', 'out3'): Array(0.00012883, dtype=float32),\n",
              " ('out4', 'out4'): Array(0.00012883, dtype=float32)}"
            ]
          },
          "execution_count": 14,
          "metadata": {},
          "output_type": "execute_result"
        }
      ],
      "source": [
        "ports_in=['in0']\n",
        "ports_out=['out0', 'out1', 'out2', 'out3', 'out4']\n",
        "model = unitary(\n",
        "    ports=tuple(ports_in+ports_out), jit=True, reciprocal=True\n",
        ")\n",
        "model = sax.sdict(model)\n",
        "model()"
      ]
    },
    {
      "cell_type": "markdown",
      "id": "8b149d44-5487-4e50-a2f2-1ad0aca99dac",
      "metadata": {
        "papermill": {
          "duration": 0.005267,
          "end_time": "2023-06-01T21:10:02.585208",
          "exception": false,
          "start_time": "2023-06-01T21:10:02.579941",
          "status": "completed"
        },
        "tags": []
      },
      "source": [
        "Because this is a pretty common usecase we have a dedicated model factory for this as well. This passthru component just takes the number of links (`'in{i}' -> 'out{i]'`) as input. Alternatively, as before, one can also specify the port names directly but one needs to ensure that `len(ports) == 2*num_links`."
      ]
    },
    {
      "cell_type": "markdown",
      "id": "71395dae714d1807",
      "metadata": {},
      "source": [
        ":::{eval-rst}\n",
        ".. autofunction:: sax.models.passthru\n",
        ":::\n"
      ]
    },
    {
      "cell_type": "code",
      "execution_count": 15,
      "id": "43d1d91c3d5f51fa",
      "metadata": {
        "execution": {
          "iopub.execute_input": "2023-06-01T21:10:02.596019Z",
          "iopub.status.busy": "2023-06-01T21:10:02.595740Z",
          "iopub.status.idle": "2023-06-01T21:10:02.599458Z",
          "shell.execute_reply": "2023-06-01T21:10:02.599015Z"
        },
        "papermill": {
          "duration": 0.010775,
          "end_time": "2023-06-01T21:10:02.600809",
          "exception": false,
          "start_time": "2023-06-01T21:10:02.590034",
          "status": "completed"
        },
        "tags": [
          "hide-input"
        ]
      },
      "outputs": [],
      "source": [
        "@cache\n",
        "def passthru(\n",
        "    num_links: Optional[int] = None,\n",
        "    ports: Optional[Tuple[str, ...]] = None,\n",
        "    *,\n",
        "    jit=True,\n",
        "    reciprocal=True,\n",
        ") -> Model:\n",
        "    passthru = unitary(num_links, num_links, ports, jit=jit, reciprocal=reciprocal, diagonal=True)\n",
        "    passthru.__name__ = f\"passthru_{num_links}_{num_links}\"\n",
        "    passthru.__qualname__ = f\"passthru_{num_links}_{num_links}\"\n",
        "    if jit:\n",
        "        return jax.jit(passthru)\n",
        "    return passthru"
      ]
    },
    {
      "cell_type": "code",
      "execution_count": 16,
      "id": "9e8b6cd7-56d4-4697-9a6e-33c929f3d853",
      "metadata": {
        "execution": {
          "iopub.execute_input": "2023-06-01T21:10:02.611546Z",
          "iopub.status.busy": "2023-06-01T21:10:02.611290Z",
          "iopub.status.idle": "2023-06-01T21:10:03.118652Z",
          "shell.execute_reply": "2023-06-01T21:10:03.118139Z"
        },
        "papermill": {
          "duration": 0.514315,
          "end_time": "2023-06-01T21:10:03.120029",
          "exception": false,
          "start_time": "2023-06-01T21:10:02.605714",
          "status": "completed"
        },
        "tags": []
      },
      "outputs": [
        {
          "data": {
            "text/plain": [
              "{('in0', 'out0'): Array(1., dtype=float32),\n",
              " ('in1', 'out1'): Array(1., dtype=float32),\n",
              " ('in2', 'out2'): Array(1., dtype=float32),\n",
              " ('out0', 'in0'): Array(1., dtype=float32),\n",
              " ('out1', 'in1'): Array(1., dtype=float32),\n",
              " ('out2', 'in2'): Array(1., dtype=float32)}"
            ]
          },
          "execution_count": 16,
          "metadata": {},
          "output_type": "execute_result"
        }
      ],
      "source": [
        "passthru_model = passthru(3)\n",
        "passthru_sdict_model = sax.sdict(passthru_model)\n",
        "passthru_sdict_model()"
      ]
    },
    {
      "cell_type": "code",
      "execution_count": 17,
      "id": "690e718c-2d84-4177-b8ad-ff39cf8c4691",
      "metadata": {
        "execution": {
          "iopub.execute_input": "2023-06-01T21:10:03.132135Z",
          "iopub.status.busy": "2023-06-01T21:10:03.131827Z",
          "iopub.status.idle": "2023-06-01T21:10:04.575246Z",
          "shell.execute_reply": "2023-06-01T21:10:04.574742Z"
        },
        "papermill": {
          "duration": 1.451082,
          "end_time": "2023-06-01T21:10:04.576610",
          "exception": false,
          "start_time": "2023-06-01T21:10:03.125528",
          "status": "completed"
        },
        "tags": []
      },
      "outputs": [
        {
          "data": {
            "text/plain": [
              "{('in0', 'in0'): Array(0.49903426, dtype=float32),\n",
              " ('out0', 'out0'): Array(0.49903426, dtype=float32),\n",
              " ('in0', 'out0'): Array(0.86544466, dtype=float32),\n",
              " ('out0', 'in0'): Array(0.86544466, dtype=float32)}"
            ]
          },
          "execution_count": 17,
          "metadata": {},
          "output_type": "execute_result"
        }
      ],
      "source": [
        "mzi, _ = sax.circuit(\n",
        "    netlist={\n",
        "        \"instances\": {\n",
        "            \"lft\": 'u12',\n",
        "            \"top\": 'u11',\n",
        "            \"rgt\": 'u12',\n",
        "        },\n",
        "        \"connections\": {\n",
        "            \"lft,out0\": \"rgt,out0\",\n",
        "            \"lft,out1\": \"top,in0\",\n",
        "            \"top,out0\": \"rgt,out1\",\n",
        "        },\n",
        "        \"ports\": {\n",
        "            \"in0\": \"lft,in0\",\n",
        "            \"out0\": \"rgt,in0\",\n",
        "        },\n",
        "    },\n",
        "    models={\n",
        "        'u12': unitary(1, 2),\n",
        "        'u11': unitary(1, 1),\n",
        "    },\n",
        ")\n",
        "mzi()"
      ]
    },
    {
      "cell_type": "markdown",
      "id": "e36e7d235b9077ae",
      "metadata": {},
      "source": [
        ":::{eval-rst}\n",
        ".. autofunction:: sax.models.copier\n",
        ":::\n"
      ]
    },
    {
      "cell_type": "code",
      "execution_count": 18,
      "id": "410ca8a338a7566d",
      "metadata": {
        "execution": {
          "iopub.execute_input": "2023-06-01T21:10:04.588807Z",
          "iopub.status.busy": "2023-06-01T21:10:04.588491Z",
          "iopub.status.idle": "2023-06-01T21:10:04.597593Z",
          "shell.execute_reply": "2023-06-01T21:10:04.597139Z"
        },
        "papermill": {
          "duration": 0.016898,
          "end_time": "2023-06-01T21:10:04.598919",
          "exception": false,
          "start_time": "2023-06-01T21:10:04.582021",
          "status": "completed"
        },
        "tags": [
          "hide-input"
        ]
      },
      "outputs": [],
      "source": [
        "\n",
        "@cache\n",
        "def copier(\n",
        "    num_inputs: Optional[int] = None,\n",
        "    num_outputs: Optional[int] = None,\n",
        "    ports: Optional[Tuple[str, ...]] = None,\n",
        "    *,\n",
        "    jit=True,\n",
        "    reciprocal=True,\n",
        "    diagonal=False,\n",
        ") -> Model:\n",
        "        \n",
        "    input_ports, output_ports, num_inputs, num_outputs = _validate_ports(ports, num_inputs, num_outputs, diagonal)\n",
        "    assert num_inputs is not None and num_outputs is not None\n",
        "    \n",
        "    # let's create the squared S-matrix:\n",
        "    S = jnp.zeros((num_inputs+num_outputs, num_inputs+num_outputs), dtype=float)\n",
        "\n",
        "    if not diagonal:\n",
        "        if JAX_AVAILABLE:\n",
        "            S = S.at[:num_inputs, num_inputs:].set(1)\n",
        "        else:\n",
        "            S[:num_inputs, num_inputs:] = 1\n",
        "    else:\n",
        "        r = jnp.arange(num_inputs, dtype=int) # == range(num_outputs) # reciprocal only works if num_inputs == num_outputs!\n",
        "        if JAX_AVAILABLE:\n",
        "            S = S.at[r, num_inputs+r].set(1)\n",
        "        else:\n",
        "            S[r, num_inputs+r] = 1\n",
        "\n",
        "    if reciprocal:\n",
        "        if not diagonal:\n",
        "            if JAX_AVAILABLE:\n",
        "                S = S.at[num_inputs:, :num_inputs].set(1)\n",
        "            else:\n",
        "                S[num_inputs:, :num_inputs] = 1\n",
        "        else:\n",
        "            r = jnp.arange(num_inputs, dtype=int) # == range(num_outputs) # reciprocal only works if num_inputs == num_outputs!\n",
        "            if JAX_AVAILABLE:\n",
        "                S = S.at[num_inputs+r, r].set(1)\n",
        "            else:\n",
        "                S[num_inputs+r, r] = 1\n",
        "\n",
        "    # let's convert it in SCOO format:\n",
        "    Si, Sj = jnp.where(S > 1e-6)\n",
        "    Sx = S[Si, Sj]\n",
        "    \n",
        "    # the last missing piece is a port map:\n",
        "    pm = {\n",
        "        **{p: i for i, p in enumerate(input_ports)},\n",
        "        **{p: i + num_inputs for i, p in enumerate(output_ports)},\n",
        "    }\n",
        "    \n",
        "    def func(wl: float = 1.5) -> SCoo:\n",
        "        wl_ = jnp.asarray(wl)\n",
        "        Sx_ = jnp.broadcast_to(Sx, (*wl_.shape, *Sx.shape))\n",
        "        return Si, Sj, Sx_, pm\n",
        "\n",
        "    func.__name__ = f\"unitary_{num_inputs}_{num_outputs}\"\n",
        "    func.__qualname__ = f\"unitary_{num_inputs}_{num_outputs}\"\n",
        "    if jit:\n",
        "        return jax.jit(func)\n",
        "    return func"
      ]
    },
    {
      "cell_type": "markdown",
      "id": "77014d0f-1a08-4b4b-a011-cf11cd9684b8",
      "metadata": {
        "papermill": {
          "duration": 0.00514,
          "end_time": "2023-06-01T21:10:04.609415",
          "exception": false,
          "start_time": "2023-06-01T21:10:04.604275",
          "status": "completed"
        },
        "tags": []
      },
      "source": [
        "A copier model is like a unitary model, but copies the input signal over all output signals. Hence, if the model has multiple output ports, this model can be considered to introduce gain. That said, it can sometimes be a useful component."
      ]
    },
    {
      "cell_type": "code",
      "execution_count": 19,
      "id": "c2a61a9f-51ea-455f-a66f-94719b43520e",
      "metadata": {
        "execution": {
          "iopub.execute_input": "2023-06-01T21:10:04.620935Z",
          "iopub.status.busy": "2023-06-01T21:10:04.620628Z",
          "iopub.status.idle": "2023-06-01T21:10:04.829693Z",
          "shell.execute_reply": "2023-06-01T21:10:04.829180Z"
        },
        "papermill": {
          "duration": 0.216515,
          "end_time": "2023-06-01T21:10:04.831083",
          "exception": false,
          "start_time": "2023-06-01T21:10:04.614568",
          "status": "completed"
        },
        "tags": []
      },
      "outputs": [
        {
          "data": {
            "text/plain": [
              "(Array([0, 0, 1, 1, 2, 2, 3, 3], dtype=int32),\n",
              " Array([2, 3, 2, 3, 0, 1, 0, 1], dtype=int32),\n",
              " Array([1., 1., 1., 1., 1., 1., 1., 1.], dtype=float32),\n",
              " {'in0': Array(0, dtype=int32, weak_type=True),\n",
              "  'in1': Array(1, dtype=int32, weak_type=True),\n",
              "  'out0': Array(2, dtype=int32, weak_type=True),\n",
              "  'out1': Array(3, dtype=int32, weak_type=True)})"
            ]
          },
          "execution_count": 19,
          "metadata": {},
          "output_type": "execute_result"
        }
      ],
      "source": [
        "copier_model = copier(2, 2)\n",
        "copier_model() # a copier model returns an SCoo by default"
      ]
    },
    {
      "cell_type": "markdown",
      "id": "fbd51c6c-c059-4717-9dae-447becc7e8d5",
      "metadata": {
        "papermill": {
          "duration": 0.005504,
          "end_time": "2023-06-01T21:10:04.842245",
          "exception": false,
          "start_time": "2023-06-01T21:10:04.836741",
          "status": "completed"
        },
        "tags": []
      },
      "source": [
        "As you probably already know, it's very easy to convert a model returning any `Stype` into a model returning an `SDict` as follows:"
      ]
    },
    {
      "cell_type": "code",
      "execution_count": 20,
      "id": "becda099-b5d9-494c-a6b2-9828be10c4a5",
      "metadata": {
        "execution": {
          "iopub.execute_input": "2023-06-01T21:10:04.853797Z",
          "iopub.status.busy": "2023-06-01T21:10:04.853499Z",
          "iopub.status.idle": "2023-06-01T21:10:04.896913Z",
          "shell.execute_reply": "2023-06-01T21:10:04.896443Z"
        },
        "papermill": {
          "duration": 0.050714,
          "end_time": "2023-06-01T21:10:04.898205",
          "exception": false,
          "start_time": "2023-06-01T21:10:04.847491",
          "status": "completed"
        },
        "tags": []
      },
      "outputs": [
        {
          "data": {
            "text/plain": [
              "{('in0', 'out0'): Array(1., dtype=float32),\n",
              " ('in0', 'out1'): Array(1., dtype=float32),\n",
              " ('in1', 'out0'): Array(1., dtype=float32),\n",
              " ('in1', 'out1'): Array(1., dtype=float32),\n",
              " ('out0', 'in0'): Array(1., dtype=float32),\n",
              " ('out0', 'in1'): Array(1., dtype=float32),\n",
              " ('out1', 'in0'): Array(1., dtype=float32),\n",
              " ('out1', 'in1'): Array(1., dtype=float32)}"
            ]
          },
          "execution_count": 20,
          "metadata": {},
          "output_type": "execute_result"
        }
      ],
      "source": [
        "copier_sdict_model = sax.sdict(copier_model)\n",
        "copier_sdict_model()"
      ]
    },
    {
      "cell_type": "markdown",
      "id": "1ad16d1b-f685-4ab9-a8c4-41efbbdae4fa",
      "metadata": {
        "papermill": {
          "duration": 0.005711,
          "end_time": "2023-06-01T21:10:04.909562",
          "exception": false,
          "start_time": "2023-06-01T21:10:04.903851",
          "status": "completed"
        },
        "tags": []
      },
      "source": [
        "If we need custom port names, we can also just specify them explicitly:"
      ]
    },
    {
      "cell_type": "code",
      "execution_count": 21,
      "id": "297d1e45-b881-440b-b887-b38c5517596e",
      "metadata": {
        "execution": {
          "iopub.execute_input": "2023-06-01T21:10:04.921455Z",
          "iopub.status.busy": "2023-06-01T21:10:04.921160Z",
          "iopub.status.idle": "2023-06-01T21:10:04.937535Z",
          "shell.execute_reply": "2023-06-01T21:10:04.937079Z"
        },
        "papermill": {
          "duration": 0.023791,
          "end_time": "2023-06-01T21:10:04.938753",
          "exception": false,
          "start_time": "2023-06-01T21:10:04.914962",
          "status": "completed"
        },
        "tags": []
      },
      "outputs": [
        {
          "data": {
            "text/plain": [
              "(Array([0, 0, 1, 1, 2, 2, 3, 3], dtype=int32),\n",
              " Array([2, 3, 2, 3, 0, 1, 0, 1], dtype=int32),\n",
              " Array([1., 1., 1., 1., 1., 1., 1., 1.], dtype=float32),\n",
              " {'in0': Array(0, dtype=int32, weak_type=True),\n",
              "  'in1': Array(1, dtype=int32, weak_type=True),\n",
              "  'out0': Array(2, dtype=int32, weak_type=True),\n",
              "  'out1': Array(3, dtype=int32, weak_type=True)})"
            ]
          },
          "execution_count": 21,
          "metadata": {},
          "output_type": "execute_result"
        }
      ],
      "source": [
        "copier_model = copier(ports=(\"in0\", \"in1\", \"out0\", \"out1\"))\n",
        "copier_model()"
      ]
    },
    {
      "cell_type": "code",
      "execution_count": 22,
      "id": "608d7114-03ac-4f5f-9790-cf65379d81dd",
      "metadata": {
        "execution": {
          "iopub.execute_input": "2023-06-01T21:10:04.950870Z",
          "iopub.status.busy": "2023-06-01T21:10:04.950600Z",
          "iopub.status.idle": "2023-06-01T21:10:04.979716Z",
          "shell.execute_reply": "2023-06-01T21:10:04.979285Z"
        },
        "papermill": {
          "duration": 0.036515,
          "end_time": "2023-06-01T21:10:04.980852",
          "exception": false,
          "start_time": "2023-06-01T21:10:04.944337",
          "status": "completed"
        },
        "tags": []
      },
      "outputs": [
        {
          "data": {
            "text/plain": [
              "{('in0', 'in0'): Array(0.89409053, dtype=float32),\n",
              " ('in0', 'out0'): Array(0.44721356, dtype=float32),\n",
              " ('in0', 'out1'): Array(0.44721356, dtype=float32),\n",
              " ('in0', 'out2'): Array(0.44721356, dtype=float32),\n",
              " ('in0', 'out3'): Array(0.44721356, dtype=float32),\n",
              " ('in0', 'out4'): Array(0.44721356, dtype=float32),\n",
              " ('out0', 'in0'): Array(0.45508003, dtype=float32),\n",
              " ('out0', 'out0'): Array(6.8863876e-05, dtype=float32),\n",
              " ('out0', 'out1'): Array(6.8863876e-05, dtype=float32),\n",
              " ('out0', 'out2'): Array(6.8863876e-05, dtype=float32),\n",
              " ('out0', 'out3'): Array(6.8863876e-05, dtype=float32),\n",
              " ('out0', 'out4'): Array(6.8863876e-05, dtype=float32),\n",
              " ('out1', 'in0'): Array(0.45508003, dtype=float32),\n",
              " ('out1', 'out0'): Array(6.8863876e-05, dtype=float32),\n",
              " ('out1', 'out1'): Array(6.8863876e-05, dtype=float32),\n",
              " ('out1', 'out2'): Array(6.8863876e-05, dtype=float32),\n",
              " ('out1', 'out3'): Array(6.8863876e-05, dtype=float32),\n",
              " ('out1', 'out4'): Array(6.8863876e-05, dtype=float32),\n",
              " ('out2', 'in0'): Array(0.45508003, dtype=float32),\n",
              " ('out2', 'out0'): Array(6.8863876e-05, dtype=float32),\n",
              " ('out2', 'out1'): Array(6.8863876e-05, dtype=float32),\n",
              " ('out2', 'out2'): Array(6.8863876e-05, dtype=float32),\n",
              " ('out2', 'out3'): Array(6.8863876e-05, dtype=float32),\n",
              " ('out2', 'out4'): Array(6.8863876e-05, dtype=float32),\n",
              " ('out3', 'in0'): Array(0.45508003, dtype=float32),\n",
              " ('out3', 'out0'): Array(6.8863876e-05, dtype=float32),\n",
              " ('out3', 'out1'): Array(6.8863876e-05, dtype=float32),\n",
              " ('out3', 'out2'): Array(6.8863876e-05, dtype=float32),\n",
              " ('out3', 'out3'): Array(6.8863876e-05, dtype=float32),\n",
              " ('out3', 'out4'): Array(6.8863876e-05, dtype=float32),\n",
              " ('out4', 'in0'): Array(0.4142568, dtype=float32),\n",
              " ('out4', 'out0'): Array(0.00012883, dtype=float32),\n",
              " ('out4', 'out1'): Array(0.00012883, dtype=float32),\n",
              " ('out4', 'out2'): Array(0.00012883, dtype=float32),\n",
              " ('out4', 'out3'): Array(0.00012883, dtype=float32),\n",
              " ('out4', 'out4'): Array(0.00012883, dtype=float32)}"
            ]
          },
          "execution_count": 22,
          "metadata": {},
          "output_type": "execute_result"
        }
      ],
      "source": [
        "ports_in=['in0']\n",
        "ports_out=['out0', 'out1', 'out2', 'out3', 'out4']\n",
        "model = unitary(\n",
        "    ports=tuple(ports_in+ports_out), jit=True, reciprocal=True\n",
        ")\n",
        "model = sax.sdict(model)\n",
        "model()"
      ]
    },
    {
      "cell_type": "markdown",
      "id": "6d024e5b-95a9-44e5-9dbc-4980249e73a7",
      "metadata": {
        "papermill": {
          "duration": 0.00576,
          "end_time": "2023-06-01T21:10:04.992276",
          "exception": false,
          "start_time": "2023-06-01T21:10:04.986516",
          "status": "completed"
        },
        "tags": []
      },
      "source": [
        "Because this is a pretty common usecase we have a dedicated model factory for this as well. This passthru component just takes the number of links (`'in{i}' -> 'out{i]'`) as input. Alternatively, as before, one can also specify the port names directly but one needs to ensure that `len(ports) == 2*num_links`."
      ]
    },
    {
      "cell_type": "markdown",
      "id": "721b35e67a20d480",
      "metadata": {},
      "source": [
        ":::{eval-rst}\n",
        ".. autofunction:: sax.models.passthru\n",
        ":::\n"
      ]
    },
    {
      "cell_type": "code",
      "execution_count": 23,
      "id": "37859500e85ab7e2",
      "metadata": {
        "execution": {
          "iopub.execute_input": "2023-06-01T21:10:05.005335Z",
          "iopub.status.busy": "2023-06-01T21:10:05.005042Z",
          "iopub.status.idle": "2023-06-01T21:10:05.009042Z",
          "shell.execute_reply": "2023-06-01T21:10:05.008600Z"
        },
        "papermill": {
          "duration": 0.012511,
          "end_time": "2023-06-01T21:10:05.010429",
          "exception": false,
          "start_time": "2023-06-01T21:10:04.997918",
          "status": "completed"
        },
        "tags": [
          "hide-input"
        ]
      },
      "outputs": [],
      "source": [
        "@cache\n",
        "def passthru(\n",
        "    num_links: Optional[int] = None,\n",
        "    ports: Optional[Tuple[str, ...]] = None,\n",
        "    *,\n",
        "    jit=True,\n",
        "    reciprocal=True,\n",
        ") -> Model:\n",
        "    passthru = unitary(num_links, num_links, ports, jit=jit, reciprocal=reciprocal, diagonal=True)\n",
        "    passthru.__name__ = f\"passthru_{num_links}_{num_links}\"\n",
        "    passthru.__qualname__ = f\"passthru_{num_links}_{num_links}\"\n",
        "    if jit:\n",
        "        return jax.jit(passthru)\n",
        "    return passthru"
      ]
    },
    {
      "cell_type": "code",
      "execution_count": 24,
      "id": "4a063810-224b-446c-a59d-12a20b56e82e",
      "metadata": {
        "execution": {
          "iopub.execute_input": "2023-06-01T21:10:05.022661Z",
          "iopub.status.busy": "2023-06-01T21:10:05.022387Z",
          "iopub.status.idle": "2023-06-01T21:10:05.032591Z",
          "shell.execute_reply": "2023-06-01T21:10:05.032158Z"
        },
        "papermill": {
          "duration": 0.017806,
          "end_time": "2023-06-01T21:10:05.033834",
          "exception": false,
          "start_time": "2023-06-01T21:10:05.016028",
          "status": "completed"
        },
        "tags": []
      },
      "outputs": [
        {
          "data": {
            "text/plain": [
              "{('in0', 'out0'): Array(1., dtype=float32),\n",
              " ('in1', 'out1'): Array(1., dtype=float32),\n",
              " ('in2', 'out2'): Array(1., dtype=float32),\n",
              " ('out0', 'in0'): Array(1., dtype=float32),\n",
              " ('out1', 'in1'): Array(1., dtype=float32),\n",
              " ('out2', 'in2'): Array(1., dtype=float32)}"
            ]
          },
          "execution_count": 24,
          "metadata": {},
          "output_type": "execute_result"
        }
      ],
      "source": [
        "passthru_model = passthru(3)\n",
        "passthru_sdict_model = sax.sdict(passthru_model)\n",
        "passthru_sdict_model()"
      ]
    },
    {
      "cell_type": "markdown",
      "id": "bb6e94aa",
      "metadata": {
        "papermill": {
          "duration": 0.00569,
          "end_time": "2023-06-01T21:10:05.045706",
          "exception": false,
          "start_time": "2023-06-01T21:10:05.040016",
          "status": "completed"
        },
        "tags": []
      },
      "source": [
        "## All Models"
      ]
    },
    {
      "cell_type": "markdown",
      "id": "d373bd64ee5c1079",
      "metadata": {},
      "source": [
        ":::{eval-rst}\n",
        ".. autofunction:: sax.models.get_models\n",
        ":::\n"
      ]
    },
    {
      "cell_type": "code",
      "execution_count": 25,
      "id": "bcb49528d4966c62",
      "metadata": {
        "execution": {
          "iopub.execute_input": "2023-06-01T21:10:05.058429Z",
          "iopub.status.busy": "2023-06-01T21:10:05.058122Z",
          "iopub.status.idle": "2023-06-01T21:10:05.061415Z",
          "shell.execute_reply": "2023-06-01T21:10:05.060955Z"
        },
        "papermill": {
          "duration": 0.011301,
          "end_time": "2023-06-01T21:10:05.062822",
          "exception": false,
          "start_time": "2023-06-01T21:10:05.051521",
          "status": "completed"
        },
        "tags": []
      },
      "outputs": [],
      "source": [
        "\n",
        "models = {\n",
        "    \"copier\": copier,\n",
        "    \"coupler\": coupler,\n",
        "    \"passthru\": passthru,\n",
        "    \"straight\": straight,\n",
        "    \"unitary\": unitary,\n",
        "}\n",
        "\n",
        "def get_models(copy: bool=True):\n",
        "    if copy:\n",
        "        return {**models}\n",
        "    return models"
      ]
    }
  ],
  "metadata": {
    "kernelspec": {
      "display_name": "sax",
      "language": "python",
      "name": "sax"
    },
    "language_info": {
      "codemirror_mode": {
        "name": "ipython",
        "version": 3
      },
      "file_extension": ".py",
      "mimetype": "text/x-python",
      "name": "python",
      "nbconvert_exporter": "python",
      "pygments_lexer": "ipython3",
      "version": "3.11.3"
    },
    "papermill": {
      "default_parameters": {},
      "duration": 7.21734,
      "end_time": "2023-06-01T21:10:05.585680",
      "environment_variables": {},
      "exception": null,
      "input_path": "./nbs/05_models.ipynb",
      "output_path": "./nbs/05_models.ipynb",
      "parameters": {},
      "start_time": "2023-06-01T21:09:58.368340",
      "version": "2.3.4"
    }
  },
  "nbformat": 4,
  "nbformat_minor": 5
}