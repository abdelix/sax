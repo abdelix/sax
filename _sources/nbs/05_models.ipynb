{
  "cells": [
    {
      "cell_type": "code",
      "execution_count": 1,
      "id": "4a94542657491e60",
      "metadata": {
        "execution": {
          "iopub.execute_input": "2023-06-01T21:32:26.544169Z",
          "iopub.status.busy": "2023-06-01T21:32:26.543910Z",
          "iopub.status.idle": "2023-06-01T21:32:26.547068Z",
          "shell.execute_reply": "2023-06-01T21:32:26.546578Z"
        },
        "papermill": {
          "duration": 0.012059,
          "end_time": "2023-06-01T21:32:26.549209",
          "exception": false,
          "start_time": "2023-06-01T21:32:26.537150",
          "status": "completed"
        },
        "tags": [
          "remove-cell"
        ]
      },
      "outputs": [],
      "source": []
    },
    {
      "cell_type": "markdown",
      "id": "986cb864",
      "metadata": {
        "papermill": {
          "duration": 0.004099,
          "end_time": "2023-06-01T21:32:26.557638",
          "exception": false,
          "start_time": "2023-06-01T21:32:26.553539",
          "status": "completed"
        },
        "tags": []
      },
      "source": [
        "# Models\n",
        "\n",
        "> Default SAX Models"
      ]
    },
    {
      "cell_type": "code",
      "execution_count": 2,
      "id": "7e104d918fe19533",
      "metadata": {
        "execution": {
          "iopub.execute_input": "2023-06-01T21:32:26.566891Z",
          "iopub.status.busy": "2023-06-01T21:32:26.566678Z",
          "iopub.status.idle": "2023-06-01T21:32:26.571615Z",
          "shell.execute_reply": "2023-06-01T21:32:26.571225Z"
        },
        "papermill": {
          "duration": 0.011814,
          "end_time": "2023-06-01T21:32:26.573528",
          "exception": false,
          "start_time": "2023-06-01T21:32:26.561714",
          "status": "completed"
        },
        "tags": [
          "remove-cell"
        ]
      },
      "outputs": [],
      "source": [
        "import os, sys; sys.stderr = open(os.devnull, \"w\")"
      ]
    },
    {
      "cell_type": "code",
      "execution_count": 3,
      "id": "d58d4774e79b01b3",
      "metadata": {
        "execution": {
          "iopub.execute_input": "2023-06-01T21:32:26.582985Z",
          "iopub.status.busy": "2023-06-01T21:32:26.582767Z",
          "iopub.status.idle": "2023-06-01T21:32:27.342207Z",
          "shell.execute_reply": "2023-06-01T21:32:27.341742Z"
        },
        "papermill": {
          "duration": 0.766493,
          "end_time": "2023-06-01T21:32:27.344118",
          "exception": false,
          "start_time": "2023-06-01T21:32:26.577625",
          "status": "completed"
        },
        "tags": [
          "hide-input"
        ]
      },
      "outputs": [],
      "source": [
        "from __future__ import annotations\n",
        "\n",
        "import warnings\n",
        "from functools import lru_cache as cache\n",
        "from types import SimpleNamespace\n",
        "from typing import Optional, Tuple\n",
        "\n",
        "import sax\n",
        "from sax.typing_ import Model, SCoo, SDict\n",
        "from sax.utils import get_inputs_outputs, reciprocal\n",
        "\n",
        "try:\n",
        "    import jax\n",
        "    import jax.numpy as jnp\n",
        "    JAX_AVAILABLE = True\n",
        "except ImportError:\n",
        "    import numpy as jnp\n",
        "    \n",
        "    def jit(func, *args, **kwargs):\n",
        "        warnings.warn(\"[NO JAX] skipping jit! Please install JAX!\")\n",
        "        return func\n",
        "    \n",
        "    jax = SimpleNamespace(jit=jit)\n",
        "    \n",
        "    JAX_AVAILABLE = False"
      ]
    },
    {
      "cell_type": "markdown",
      "id": "efa9b619",
      "metadata": {
        "papermill": {
          "duration": 0.004547,
          "end_time": "2023-06-01T21:32:27.353036",
          "exception": false,
          "start_time": "2023-06-01T21:32:27.348489",
          "status": "completed"
        },
        "tags": []
      },
      "source": [
        "## Standard Models"
      ]
    },
    {
      "cell_type": "markdown",
      "id": "ced80b15de99473d",
      "metadata": {},
      "source": [
        ":::{eval-rst}\n",
        ".. autofunction:: sax.models.straight\n",
        ":::\n"
      ]
    },
    {
      "cell_type": "code",
      "execution_count": 4,
      "id": "2bb554632a5f0650",
      "metadata": {
        "execution": {
          "iopub.execute_input": "2023-06-01T21:32:27.362332Z",
          "iopub.status.busy": "2023-06-01T21:32:27.361979Z",
          "iopub.status.idle": "2023-06-01T21:32:27.366423Z",
          "shell.execute_reply": "2023-06-01T21:32:27.366037Z"
        },
        "papermill": {
          "duration": 0.011083,
          "end_time": "2023-06-01T21:32:27.368174",
          "exception": false,
          "start_time": "2023-06-01T21:32:27.357091",
          "status": "completed"
        },
        "tags": [
          "hide-input"
        ]
      },
      "outputs": [],
      "source": [
        "\n",
        "def straight(\n",
        "    *,\n",
        "    wl: float = 1.55,\n",
        "    wl0: float = 1.55,\n",
        "    neff: float = 2.34,\n",
        "    ng: float = 3.4,\n",
        "    length: float = 10.0,\n",
        "    loss: float = 0.0\n",
        ") -> SDict:\n",
        "    \"\"\"a simple straight waveguide model\"\"\"\n",
        "    dwl = wl - wl0\n",
        "    dneff_dwl = (ng - neff) / wl0\n",
        "    neff = neff - dwl * dneff_dwl\n",
        "    phase = 2 * jnp.pi * neff * length / wl\n",
        "    amplitude = jnp.asarray(10 ** (-loss * length / 20), dtype=complex)\n",
        "    transmission =  amplitude * jnp.exp(1j * phase)\n",
        "    sdict = reciprocal(\n",
        "        {\n",
        "            (\"in0\", \"out0\"): transmission,\n",
        "        }\n",
        "    )\n",
        "    return sdict"
      ]
    },
    {
      "cell_type": "code",
      "execution_count": 5,
      "id": "a99cec57",
      "metadata": {
        "execution": {
          "iopub.execute_input": "2023-06-01T21:32:27.377161Z",
          "iopub.status.busy": "2023-06-01T21:32:27.376976Z",
          "iopub.status.idle": "2023-06-01T21:32:27.423092Z",
          "shell.execute_reply": "2023-06-01T21:32:27.422704Z"
        },
        "papermill": {
          "duration": 0.052316,
          "end_time": "2023-06-01T21:32:27.424501",
          "exception": false,
          "start_time": "2023-06-01T21:32:27.372185",
          "status": "completed"
        },
        "tags": []
      },
      "outputs": [
        {
          "data": {
            "text/plain": [
              "{('in0', 'out0'): Array(0.82076484+0.5712662j, dtype=complex64),\n",
              " ('out0', 'in0'): Array(0.82076484+0.5712662j, dtype=complex64)}"
            ]
          },
          "execution_count": 5,
          "metadata": {},
          "output_type": "execute_result"
        }
      ],
      "source": [
        "straight()"
      ]
    },
    {
      "cell_type": "markdown",
      "id": "9a5a1ac7fc286c12",
      "metadata": {},
      "source": [
        ":::{eval-rst}\n",
        ".. autofunction:: sax.models.coupler\n",
        ":::\n"
      ]
    },
    {
      "cell_type": "code",
      "execution_count": 6,
      "id": "0e0f1784a4629d7d",
      "metadata": {
        "execution": {
          "iopub.execute_input": "2023-06-01T21:32:27.434843Z",
          "iopub.status.busy": "2023-06-01T21:32:27.434351Z",
          "iopub.status.idle": "2023-06-01T21:32:27.437769Z",
          "shell.execute_reply": "2023-06-01T21:32:27.437412Z"
        },
        "papermill": {
          "duration": 0.010549,
          "end_time": "2023-06-01T21:32:27.439488",
          "exception": false,
          "start_time": "2023-06-01T21:32:27.428939",
          "status": "completed"
        },
        "tags": [
          "hide-input"
        ]
      },
      "outputs": [],
      "source": [
        "\n",
        "def coupler(*, coupling: float = 0.5) -> SDict:\n",
        "    \"\"\"a simple coupler model\"\"\"\n",
        "    kappa = coupling ** 0.5\n",
        "    tau = (1 - coupling) ** 0.5\n",
        "    sdict = reciprocal(\n",
        "        {\n",
        "            (\"in0\", \"out0\"): tau,\n",
        "            (\"in0\", \"out1\"): 1j * kappa,\n",
        "            (\"in1\", \"out0\"): 1j * kappa,\n",
        "            (\"in1\", \"out1\"): tau,\n",
        "        }\n",
        "    )\n",
        "    return sdict"
      ]
    },
    {
      "cell_type": "code",
      "execution_count": 7,
      "id": "5fd87a22",
      "metadata": {
        "execution": {
          "iopub.execute_input": "2023-06-01T21:32:27.448872Z",
          "iopub.status.busy": "2023-06-01T21:32:27.448687Z",
          "iopub.status.idle": "2023-06-01T21:32:27.452084Z",
          "shell.execute_reply": "2023-06-01T21:32:27.451714Z"
        },
        "papermill": {
          "duration": 0.010753,
          "end_time": "2023-06-01T21:32:27.454448",
          "exception": false,
          "start_time": "2023-06-01T21:32:27.443695",
          "status": "completed"
        },
        "tags": []
      },
      "outputs": [
        {
          "data": {
            "text/plain": [
              "{('in0', 'out0'): 0.7071067811865476,\n",
              " ('in0', 'out1'): 0.7071067811865476j,\n",
              " ('in1', 'out0'): 0.7071067811865476j,\n",
              " ('in1', 'out1'): 0.7071067811865476,\n",
              " ('out0', 'in0'): 0.7071067811865476,\n",
              " ('out1', 'in0'): 0.7071067811865476j,\n",
              " ('out0', 'in1'): 0.7071067811865476j,\n",
              " ('out1', 'in1'): 0.7071067811865476}"
            ]
          },
          "execution_count": 7,
          "metadata": {},
          "output_type": "execute_result"
        }
      ],
      "source": [
        "coupler()"
      ]
    },
    {
      "cell_type": "markdown",
      "id": "ca06c12f",
      "metadata": {
        "papermill": {
          "duration": 0.004304,
          "end_time": "2023-06-01T21:32:27.463195",
          "exception": false,
          "start_time": "2023-06-01T21:32:27.458891",
          "status": "completed"
        },
        "tags": []
      },
      "source": [
        "## Model Factories"
      ]
    },
    {
      "cell_type": "code",
      "execution_count": 8,
      "id": "fb5859d0fe70e690",
      "metadata": {
        "execution": {
          "iopub.execute_input": "2023-06-01T21:32:27.472825Z",
          "iopub.status.busy": "2023-06-01T21:32:27.472619Z",
          "iopub.status.idle": "2023-06-01T21:32:27.479492Z",
          "shell.execute_reply": "2023-06-01T21:32:27.479119Z"
        },
        "papermill": {
          "duration": 0.013245,
          "end_time": "2023-06-01T21:32:27.480789",
          "exception": false,
          "start_time": "2023-06-01T21:32:27.467544",
          "status": "completed"
        },
        "tags": [
          "remove-cell"
        ]
      },
      "outputs": [],
      "source": [
        "\n",
        "def _validate_ports(ports, num_inputs, num_outputs, diagonal) -> Tuple[Tuple[str,...], Tuple[str,...], int, int]:\n",
        "    if ports is None:\n",
        "        if num_inputs is None or num_outputs is None:\n",
        "            raise ValueError(\n",
        "                \"if not ports given, you must specify how many input ports \"\n",
        "                \"and how many output ports a model has.\"\n",
        "            )\n",
        "        input_ports = [f\"in{i}\" for i in range(num_inputs)]\n",
        "        output_ports = [f\"out{i}\" for i in range(num_outputs)]\n",
        "    else:\n",
        "        if num_inputs is not None:\n",
        "            if num_outputs is None:\n",
        "                raise ValueError(\n",
        "                    \"if num_inputs is given, num_outputs should be given as well.\"\n",
        "                )\n",
        "        if num_outputs is not None:\n",
        "            if num_inputs is None:\n",
        "                raise ValueError(\n",
        "                    \"if num_outputs is given, num_inputs should be given as well.\"\n",
        "                )\n",
        "        if num_inputs is not None and num_outputs is not None:\n",
        "            if num_inputs + num_outputs != len(ports):\n",
        "                raise ValueError(\"num_inputs + num_outputs != len(ports)\")\n",
        "            input_ports = ports[:num_inputs]\n",
        "            output_ports = ports[num_inputs:]\n",
        "        else:\n",
        "            input_ports, output_ports = get_inputs_outputs(ports)\n",
        "            num_inputs = len(input_ports)\n",
        "            num_outputs = len(output_ports)\n",
        "            \n",
        "    if diagonal:\n",
        "        if num_inputs != num_outputs:\n",
        "            raise ValueError(\n",
        "                \"Can only have a diagonal passthru if number of input ports equals the number of output ports!\"\n",
        "            )\n",
        "    return input_ports, output_ports, num_inputs, num_outputs"
      ]
    },
    {
      "cell_type": "markdown",
      "id": "bd86431f5e948c07",
      "metadata": {},
      "source": [
        ":::{eval-rst}\n",
        ".. autofunction:: sax.models.unitary\n",
        ":::\n"
      ]
    },
    {
      "cell_type": "code",
      "execution_count": 9,
      "id": "abf2b9d351a992e3",
      "metadata": {
        "execution": {
          "iopub.execute_input": "2023-06-01T21:32:27.490560Z",
          "iopub.status.busy": "2023-06-01T21:32:27.490360Z",
          "iopub.status.idle": "2023-06-01T21:32:27.499753Z",
          "shell.execute_reply": "2023-06-01T21:32:27.499423Z"
        },
        "papermill": {
          "duration": 0.015836,
          "end_time": "2023-06-01T21:32:27.501040",
          "exception": false,
          "start_time": "2023-06-01T21:32:27.485204",
          "status": "completed"
        },
        "tags": [
          "hide-input"
        ]
      },
      "outputs": [],
      "source": [
        "\n",
        "@cache\n",
        "def unitary(\n",
        "    num_inputs: Optional[int] = None,\n",
        "    num_outputs: Optional[int] = None,\n",
        "    ports: Optional[Tuple[str, ...]] = None,\n",
        "    *,\n",
        "    jit=True,\n",
        "    reciprocal=True,\n",
        "    diagonal=False,\n",
        ") -> Model:\n",
        "    input_ports, output_ports, num_inputs, num_outputs = _validate_ports(ports, num_inputs, num_outputs, diagonal)\n",
        "    assert num_inputs is not None and num_outputs is not None\n",
        "    \n",
        "    # let's create the squared S-matrix:\n",
        "    N = max(num_inputs, num_outputs)\n",
        "    S = jnp.zeros((2*N, 2*N), dtype=float)\n",
        "\n",
        "    if not diagonal:\n",
        "        if JAX_AVAILABLE:\n",
        "            S = S.at[:N, N:].set(1)\n",
        "        else:\n",
        "            S[:N, N:] = 1\n",
        "    else:\n",
        "        r = jnp.arange(N, dtype=int) # reciprocal only works if num_inputs == num_outputs!\n",
        "        if JAX_AVAILABLE:\n",
        "            S = S.at[r, N+r].set(1)\n",
        "        else:\n",
        "            S[r, N+r] = 1\n",
        "\n",
        "    if reciprocal:\n",
        "        if not diagonal:\n",
        "            if JAX_AVAILABLE:\n",
        "                S = S.at[N:, :N].set(1)\n",
        "            else:\n",
        "                S[N:, :N] = 1\n",
        "        else:\n",
        "            r = jnp.arange(N, dtype=int) # reciprocal only works if num_inputs == num_outputs!\n",
        "            if JAX_AVAILABLE:\n",
        "                S = S.at[N+r, r].set(1)\n",
        "            else:\n",
        "                S[N+r, r] = 1\n",
        "\n",
        "    # Now we need to normalize the squared S-matrix\n",
        "    U, s, V = jnp.linalg.svd(S, full_matrices=False)\n",
        "    S = jnp.sqrt(U@jnp.diag(jnp.where(s > 1e-12, 1, 0))@V)\n",
        "    \n",
        "    # Now create subset of this matrix we're interested in:\n",
        "    r = jnp.concatenate([jnp.arange(num_inputs, dtype=int), N+jnp.arange(num_outputs, dtype=int)], 0)\n",
        "    S = S[r, :][:, r]\n",
        "\n",
        "    # let's convert it in SCOO format:\n",
        "    Si, Sj = jnp.where(S > 1e-6)\n",
        "    Sx = S[Si, Sj]\n",
        "    \n",
        "    # the last missing piece is a port map:\n",
        "    pm = {\n",
        "        **{p: i for i, p in enumerate(input_ports)},\n",
        "        **{p: i + num_inputs for i, p in enumerate(output_ports)},\n",
        "    }\n",
        "    \n",
        "    def func(wl: float = 1.5) -> SCoo:\n",
        "        wl_ = jnp.asarray(wl)\n",
        "        Sx_ = jnp.broadcast_to(Sx, (*wl_.shape, *Sx.shape))\n",
        "        return Si, Sj, Sx_, pm\n",
        "\n",
        "    func.__name__ = f\"unitary_{num_inputs}_{num_outputs}\"\n",
        "    func.__qualname__ = f\"unitary_{num_inputs}_{num_outputs}\"\n",
        "    if jit:\n",
        "        return jax.jit(func)\n",
        "    return func"
      ]
    },
    {
      "cell_type": "markdown",
      "id": "327febf2-70d5-48ed-8b39-bac2d9727db5",
      "metadata": {
        "papermill": {
          "duration": 0.00433,
          "end_time": "2023-06-01T21:32:27.509747",
          "exception": false,
          "start_time": "2023-06-01T21:32:27.505417",
          "status": "completed"
        },
        "tags": []
      },
      "source": [
        "A unitary model returns an `SCoo` by default:"
      ]
    },
    {
      "cell_type": "code",
      "execution_count": 10,
      "id": "e95bacdd",
      "metadata": {
        "execution": {
          "iopub.execute_input": "2023-06-01T21:32:27.519695Z",
          "iopub.status.busy": "2023-06-01T21:32:27.519503Z",
          "iopub.status.idle": "2023-06-01T21:32:28.280275Z",
          "shell.execute_reply": "2023-06-01T21:32:28.279892Z"
        },
        "papermill": {
          "duration": 0.767199,
          "end_time": "2023-06-01T21:32:28.281692",
          "exception": false,
          "start_time": "2023-06-01T21:32:27.514493",
          "status": "completed"
        },
        "tags": []
      },
      "outputs": [
        {
          "data": {
            "text/plain": [
              "(Array([0, 0, 0, 1, 1, 1, 2, 2, 3, 3, 3], dtype=int32),\n",
              " Array([0, 2, 3, 1, 2, 3, 0, 1, 0, 1, 3], dtype=int32),\n",
              " Array([4.9899316e-01, 9.6622545e-01, 2.5769809e-01, 4.9899325e-01,\n",
              "        2.5769782e-01, 9.6622556e-01, 7.0710677e-01, 7.0710677e-01,\n",
              "        7.0710677e-01, 7.0710677e-01, 2.2561848e-04], dtype=float32),\n",
              " {'in0': Array(0, dtype=int32, weak_type=True),\n",
              "  'in1': Array(1, dtype=int32, weak_type=True),\n",
              "  'out0': Array(2, dtype=int32, weak_type=True),\n",
              "  'out1': Array(3, dtype=int32, weak_type=True)})"
            ]
          },
          "execution_count": 10,
          "metadata": {},
          "output_type": "execute_result"
        }
      ],
      "source": [
        "unitary_model = unitary(2, 2)\n",
        "unitary_model() # a unitary model returns an SCoo by default"
      ]
    },
    {
      "cell_type": "markdown",
      "id": "01ff2567-9b0e-4686-acb4-47cfb11b06ce",
      "metadata": {
        "papermill": {
          "duration": 0.004892,
          "end_time": "2023-06-01T21:32:28.291404",
          "exception": false,
          "start_time": "2023-06-01T21:32:28.286512",
          "status": "completed"
        },
        "tags": []
      },
      "source": [
        "As you probably already know, it's very easy to convert a model returning any `Stype` into a model returning an `SDict` as follows:"
      ]
    },
    {
      "cell_type": "code",
      "execution_count": 11,
      "id": "260dda8c-7e44-4f3f-b96c-e742daaf2885",
      "metadata": {
        "execution": {
          "iopub.execute_input": "2023-06-01T21:32:28.301417Z",
          "iopub.status.busy": "2023-06-01T21:32:28.301212Z",
          "iopub.status.idle": "2023-06-01T21:32:28.347014Z",
          "shell.execute_reply": "2023-06-01T21:32:28.346646Z"
        },
        "papermill": {
          "duration": 0.052506,
          "end_time": "2023-06-01T21:32:28.348386",
          "exception": false,
          "start_time": "2023-06-01T21:32:28.295880",
          "status": "completed"
        },
        "tags": []
      },
      "outputs": [
        {
          "data": {
            "text/plain": [
              "{('in0', 'in0'): Array(0.49899316, dtype=float32),\n",
              " ('in0', 'out0'): Array(0.96622545, dtype=float32),\n",
              " ('in0', 'out1'): Array(0.2576981, dtype=float32),\n",
              " ('in1', 'in1'): Array(0.49899325, dtype=float32),\n",
              " ('in1', 'out0'): Array(0.25769782, dtype=float32),\n",
              " ('in1', 'out1'): Array(0.96622556, dtype=float32),\n",
              " ('out0', 'in0'): Array(0.70710677, dtype=float32),\n",
              " ('out0', 'in1'): Array(0.70710677, dtype=float32),\n",
              " ('out1', 'in0'): Array(0.70710677, dtype=float32),\n",
              " ('out1', 'in1'): Array(0.70710677, dtype=float32),\n",
              " ('out1', 'out1'): Array(0.00022562, dtype=float32)}"
            ]
          },
          "execution_count": 11,
          "metadata": {},
          "output_type": "execute_result"
        }
      ],
      "source": [
        "unitary_sdict_model = sax.sdict(unitary_model)\n",
        "unitary_sdict_model()"
      ]
    },
    {
      "cell_type": "markdown",
      "id": "e9a1a46b-b10a-471b-b835-7b6d8d49175a",
      "metadata": {
        "papermill": {
          "duration": 0.004622,
          "end_time": "2023-06-01T21:32:28.358055",
          "exception": false,
          "start_time": "2023-06-01T21:32:28.353433",
          "status": "completed"
        },
        "tags": []
      },
      "source": [
        "If we need custom port names, we can also just specify them explicitly:"
      ]
    },
    {
      "cell_type": "code",
      "execution_count": 12,
      "id": "66abe9b0",
      "metadata": {
        "execution": {
          "iopub.execute_input": "2023-06-01T21:32:28.368457Z",
          "iopub.status.busy": "2023-06-01T21:32:28.368256Z",
          "iopub.status.idle": "2023-06-01T21:32:28.387355Z",
          "shell.execute_reply": "2023-06-01T21:32:28.387001Z"
        },
        "papermill": {
          "duration": 0.025793,
          "end_time": "2023-06-01T21:32:28.388668",
          "exception": false,
          "start_time": "2023-06-01T21:32:28.362875",
          "status": "completed"
        },
        "tags": []
      },
      "outputs": [
        {
          "data": {
            "text/plain": [
              "(Array([0, 0, 0, 1, 1, 1, 2, 2, 3, 3, 3], dtype=int32),\n",
              " Array([0, 2, 3, 1, 2, 3, 0, 1, 0, 1, 3], dtype=int32),\n",
              " Array([4.9899316e-01, 9.6622545e-01, 2.5769809e-01, 4.9899325e-01,\n",
              "        2.5769782e-01, 9.6622556e-01, 7.0710677e-01, 7.0710677e-01,\n",
              "        7.0710677e-01, 7.0710677e-01, 2.2561848e-04], dtype=float32),\n",
              " {'in0': Array(0, dtype=int32, weak_type=True),\n",
              "  'in1': Array(1, dtype=int32, weak_type=True),\n",
              "  'out0': Array(2, dtype=int32, weak_type=True),\n",
              "  'out1': Array(3, dtype=int32, weak_type=True)})"
            ]
          },
          "execution_count": 12,
          "metadata": {},
          "output_type": "execute_result"
        }
      ],
      "source": [
        "unitary_model = unitary(ports=(\"in0\", \"in1\", \"out0\", \"out1\"))\n",
        "unitary_model()"
      ]
    },
    {
      "cell_type": "markdown",
      "id": "ebf14c1c-ccfb-44e6-8572-18b366ffab91",
      "metadata": {
        "papermill": {
          "duration": 0.005235,
          "end_time": "2023-06-01T21:32:28.398782",
          "exception": false,
          "start_time": "2023-06-01T21:32:28.393547",
          "status": "completed"
        },
        "tags": []
      },
      "source": [
        "A unitary model will by default split a signal at an input port equally over all output ports. However, if there are an equal number of input ports as output ports we can in stead create a passthru by setting the `diagonal` flag to `True`:"
      ]
    },
    {
      "cell_type": "code",
      "execution_count": 13,
      "id": "7c1d61a3",
      "metadata": {
        "execution": {
          "iopub.execute_input": "2023-06-01T21:32:28.409185Z",
          "iopub.status.busy": "2023-06-01T21:32:28.408982Z",
          "iopub.status.idle": "2023-06-01T21:32:28.689672Z",
          "shell.execute_reply": "2023-06-01T21:32:28.689108Z"
        },
        "papermill": {
          "duration": 0.287792,
          "end_time": "2023-06-01T21:32:28.691326",
          "exception": false,
          "start_time": "2023-06-01T21:32:28.403534",
          "status": "completed"
        },
        "tags": []
      },
      "outputs": [
        {
          "data": {
            "text/plain": [
              "{('in0', 'out0'): Array(1., dtype=float32),\n",
              " ('in1', 'out1'): Array(1., dtype=float32),\n",
              " ('out0', 'in0'): Array(1., dtype=float32),\n",
              " ('out1', 'in1'): Array(1., dtype=float32)}"
            ]
          },
          "execution_count": 13,
          "metadata": {},
          "output_type": "execute_result"
        }
      ],
      "source": [
        "passthru_model = unitary(2, 2, diagonal=True)\n",
        "sax.sdict(passthru_model())"
      ]
    },
    {
      "cell_type": "code",
      "execution_count": 14,
      "id": "7f93b145",
      "metadata": {
        "execution": {
          "iopub.execute_input": "2023-06-01T21:32:28.702716Z",
          "iopub.status.busy": "2023-06-01T21:32:28.702499Z",
          "iopub.status.idle": "2023-06-01T21:32:29.463827Z",
          "shell.execute_reply": "2023-06-01T21:32:29.463416Z"
        },
        "papermill": {
          "duration": 0.768947,
          "end_time": "2023-06-01T21:32:29.465279",
          "exception": false,
          "start_time": "2023-06-01T21:32:28.696332",
          "status": "completed"
        },
        "tags": []
      },
      "outputs": [
        {
          "data": {
            "text/plain": [
              "{('in0', 'in0'): Array(0.89409053, dtype=float32),\n",
              " ('in0', 'out0'): Array(0.44721356, dtype=float32),\n",
              " ('in0', 'out1'): Array(0.44721356, dtype=float32),\n",
              " ('in0', 'out2'): Array(0.44721356, dtype=float32),\n",
              " ('in0', 'out3'): Array(0.44721356, dtype=float32),\n",
              " ('in0', 'out4'): Array(0.44721356, dtype=float32),\n",
              " ('out0', 'in0'): Array(0.45508003, dtype=float32),\n",
              " ('out0', 'out0'): Array(6.8863876e-05, dtype=float32),\n",
              " ('out0', 'out1'): Array(6.8863876e-05, dtype=float32),\n",
              " ('out0', 'out2'): Array(6.8863876e-05, dtype=float32),\n",
              " ('out0', 'out3'): Array(6.8863876e-05, dtype=float32),\n",
              " ('out0', 'out4'): Array(6.8863876e-05, dtype=float32),\n",
              " ('out1', 'in0'): Array(0.45508003, dtype=float32),\n",
              " ('out1', 'out0'): Array(6.8863876e-05, dtype=float32),\n",
              " ('out1', 'out1'): Array(6.8863876e-05, dtype=float32),\n",
              " ('out1', 'out2'): Array(6.8863876e-05, dtype=float32),\n",
              " ('out1', 'out3'): Array(6.8863876e-05, dtype=float32),\n",
              " ('out1', 'out4'): Array(6.8863876e-05, dtype=float32),\n",
              " ('out2', 'in0'): Array(0.45508003, dtype=float32),\n",
              " ('out2', 'out0'): Array(6.8863876e-05, dtype=float32),\n",
              " ('out2', 'out1'): Array(6.8863876e-05, dtype=float32),\n",
              " ('out2', 'out2'): Array(6.8863876e-05, dtype=float32),\n",
              " ('out2', 'out3'): Array(6.8863876e-05, dtype=float32),\n",
              " ('out2', 'out4'): Array(6.8863876e-05, dtype=float32),\n",
              " ('out3', 'in0'): Array(0.45508003, dtype=float32),\n",
              " ('out3', 'out0'): Array(6.8863876e-05, dtype=float32),\n",
              " ('out3', 'out1'): Array(6.8863876e-05, dtype=float32),\n",
              " ('out3', 'out2'): Array(6.8863876e-05, dtype=float32),\n",
              " ('out3', 'out3'): Array(6.8863876e-05, dtype=float32),\n",
              " ('out3', 'out4'): Array(6.8863876e-05, dtype=float32),\n",
              " ('out4', 'in0'): Array(0.4142568, dtype=float32),\n",
              " ('out4', 'out0'): Array(0.00012883, dtype=float32),\n",
              " ('out4', 'out1'): Array(0.00012883, dtype=float32),\n",
              " ('out4', 'out2'): Array(0.00012883, dtype=float32),\n",
              " ('out4', 'out3'): Array(0.00012883, dtype=float32),\n",
              " ('out4', 'out4'): Array(0.00012883, dtype=float32)}"
            ]
          },
          "execution_count": 14,
          "metadata": {},
          "output_type": "execute_result"
        }
      ],
      "source": [
        "ports_in=['in0']\n",
        "ports_out=['out0', 'out1', 'out2', 'out3', 'out4']\n",
        "model = unitary(\n",
        "    ports=tuple(ports_in+ports_out), jit=True, reciprocal=True\n",
        ")\n",
        "model = sax.sdict(model)\n",
        "model()"
      ]
    },
    {
      "cell_type": "markdown",
      "id": "8b149d44-5487-4e50-a2f2-1ad0aca99dac",
      "metadata": {
        "papermill": {
          "duration": 0.005384,
          "end_time": "2023-06-01T21:32:29.475948",
          "exception": false,
          "start_time": "2023-06-01T21:32:29.470564",
          "status": "completed"
        },
        "tags": []
      },
      "source": [
        "Because this is a pretty common usecase we have a dedicated model factory for this as well. This passthru component just takes the number of links (`'in{i}' -> 'out{i]'`) as input. Alternatively, as before, one can also specify the port names directly but one needs to ensure that `len(ports) == 2*num_links`."
      ]
    },
    {
      "cell_type": "markdown",
      "id": "a6eac83c384ea3f0",
      "metadata": {},
      "source": [
        ":::{eval-rst}\n",
        ".. autofunction:: sax.models.passthru\n",
        ":::\n"
      ]
    },
    {
      "cell_type": "code",
      "execution_count": 15,
      "id": "c8374a7f3993453a",
      "metadata": {
        "execution": {
          "iopub.execute_input": "2023-06-01T21:32:29.487135Z",
          "iopub.status.busy": "2023-06-01T21:32:29.486900Z",
          "iopub.status.idle": "2023-06-01T21:32:29.490628Z",
          "shell.execute_reply": "2023-06-01T21:32:29.490226Z"
        },
        "papermill": {
          "duration": 0.011652,
          "end_time": "2023-06-01T21:32:29.492541",
          "exception": false,
          "start_time": "2023-06-01T21:32:29.480889",
          "status": "completed"
        },
        "tags": [
          "hide-input"
        ]
      },
      "outputs": [],
      "source": [
        "@cache\n",
        "def passthru(\n",
        "    num_links: Optional[int] = None,\n",
        "    ports: Optional[Tuple[str, ...]] = None,\n",
        "    *,\n",
        "    jit=True,\n",
        "    reciprocal=True,\n",
        ") -> Model:\n",
        "    passthru = unitary(num_links, num_links, ports, jit=jit, reciprocal=reciprocal, diagonal=True)\n",
        "    passthru.__name__ = f\"passthru_{num_links}_{num_links}\"\n",
        "    passthru.__qualname__ = f\"passthru_{num_links}_{num_links}\"\n",
        "    if jit:\n",
        "        return jax.jit(passthru)\n",
        "    return passthru"
      ]
    },
    {
      "cell_type": "code",
      "execution_count": 16,
      "id": "9e8b6cd7-56d4-4697-9a6e-33c929f3d853",
      "metadata": {
        "execution": {
          "iopub.execute_input": "2023-06-01T21:32:29.503766Z",
          "iopub.status.busy": "2023-06-01T21:32:29.503552Z",
          "iopub.status.idle": "2023-06-01T21:32:30.029411Z",
          "shell.execute_reply": "2023-06-01T21:32:30.028997Z"
        },
        "papermill": {
          "duration": 0.533257,
          "end_time": "2023-06-01T21:32:30.030938",
          "exception": false,
          "start_time": "2023-06-01T21:32:29.497681",
          "status": "completed"
        },
        "tags": []
      },
      "outputs": [
        {
          "data": {
            "text/plain": [
              "{('in0', 'out0'): Array(1., dtype=float32),\n",
              " ('in1', 'out1'): Array(1., dtype=float32),\n",
              " ('in2', 'out2'): Array(1., dtype=float32),\n",
              " ('out0', 'in0'): Array(1., dtype=float32),\n",
              " ('out1', 'in1'): Array(1., dtype=float32),\n",
              " ('out2', 'in2'): Array(1., dtype=float32)}"
            ]
          },
          "execution_count": 16,
          "metadata": {},
          "output_type": "execute_result"
        }
      ],
      "source": [
        "passthru_model = passthru(3)\n",
        "passthru_sdict_model = sax.sdict(passthru_model)\n",
        "passthru_sdict_model()"
      ]
    },
    {
      "cell_type": "code",
      "execution_count": 17,
      "id": "690e718c-2d84-4177-b8ad-ff39cf8c4691",
      "metadata": {
        "execution": {
          "iopub.execute_input": "2023-06-01T21:32:30.042837Z",
          "iopub.status.busy": "2023-06-01T21:32:30.042629Z",
          "iopub.status.idle": "2023-06-01T21:32:31.485121Z",
          "shell.execute_reply": "2023-06-01T21:32:31.484721Z"
        },
        "papermill": {
          "duration": 1.450134,
          "end_time": "2023-06-01T21:32:31.486587",
          "exception": false,
          "start_time": "2023-06-01T21:32:30.036453",
          "status": "completed"
        },
        "tags": []
      },
      "outputs": [
        {
          "data": {
            "text/plain": [
              "{('in0', 'in0'): Array(0.49903426, dtype=float32),\n",
              " ('out0', 'out0'): Array(0.49903426, dtype=float32),\n",
              " ('in0', 'out0'): Array(0.86544466, dtype=float32),\n",
              " ('out0', 'in0'): Array(0.86544466, dtype=float32)}"
            ]
          },
          "execution_count": 17,
          "metadata": {},
          "output_type": "execute_result"
        }
      ],
      "source": [
        "mzi, _ = sax.circuit(\n",
        "    netlist={\n",
        "        \"instances\": {\n",
        "            \"lft\": 'u12',\n",
        "            \"top\": 'u11',\n",
        "            \"rgt\": 'u12',\n",
        "        },\n",
        "        \"connections\": {\n",
        "            \"lft,out0\": \"rgt,out0\",\n",
        "            \"lft,out1\": \"top,in0\",\n",
        "            \"top,out0\": \"rgt,out1\",\n",
        "        },\n",
        "        \"ports\": {\n",
        "            \"in0\": \"lft,in0\",\n",
        "            \"out0\": \"rgt,in0\",\n",
        "        },\n",
        "    },\n",
        "    models={\n",
        "        'u12': unitary(1, 2),\n",
        "        'u11': unitary(1, 1),\n",
        "    },\n",
        ")\n",
        "mzi()"
      ]
    },
    {
      "cell_type": "markdown",
      "id": "7bd583d7d532173d",
      "metadata": {},
      "source": [
        ":::{eval-rst}\n",
        ".. autofunction:: sax.models.copier\n",
        ":::\n"
      ]
    },
    {
      "cell_type": "code",
      "execution_count": 18,
      "id": "66d9bb50508e9fad",
      "metadata": {
        "execution": {
          "iopub.execute_input": "2023-06-01T21:32:31.498637Z",
          "iopub.status.busy": "2023-06-01T21:32:31.498431Z",
          "iopub.status.idle": "2023-06-01T21:32:31.507323Z",
          "shell.execute_reply": "2023-06-01T21:32:31.506957Z"
        },
        "papermill": {
          "duration": 0.016386,
          "end_time": "2023-06-01T21:32:31.508483",
          "exception": false,
          "start_time": "2023-06-01T21:32:31.492097",
          "status": "completed"
        },
        "tags": [
          "hide-input"
        ]
      },
      "outputs": [],
      "source": [
        "\n",
        "@cache\n",
        "def copier(\n",
        "    num_inputs: Optional[int] = None,\n",
        "    num_outputs: Optional[int] = None,\n",
        "    ports: Optional[Tuple[str, ...]] = None,\n",
        "    *,\n",
        "    jit=True,\n",
        "    reciprocal=True,\n",
        "    diagonal=False,\n",
        ") -> Model:\n",
        "        \n",
        "    input_ports, output_ports, num_inputs, num_outputs = _validate_ports(ports, num_inputs, num_outputs, diagonal)\n",
        "    assert num_inputs is not None and num_outputs is not None\n",
        "    \n",
        "    # let's create the squared S-matrix:\n",
        "    S = jnp.zeros((num_inputs+num_outputs, num_inputs+num_outputs), dtype=float)\n",
        "\n",
        "    if not diagonal:\n",
        "        if JAX_AVAILABLE:\n",
        "            S = S.at[:num_inputs, num_inputs:].set(1)\n",
        "        else:\n",
        "            S[:num_inputs, num_inputs:] = 1\n",
        "    else:\n",
        "        r = jnp.arange(num_inputs, dtype=int) # == range(num_outputs) # reciprocal only works if num_inputs == num_outputs!\n",
        "        if JAX_AVAILABLE:\n",
        "            S = S.at[r, num_inputs+r].set(1)\n",
        "        else:\n",
        "            S[r, num_inputs+r] = 1\n",
        "\n",
        "    if reciprocal:\n",
        "        if not diagonal:\n",
        "            if JAX_AVAILABLE:\n",
        "                S = S.at[num_inputs:, :num_inputs].set(1)\n",
        "            else:\n",
        "                S[num_inputs:, :num_inputs] = 1\n",
        "        else:\n",
        "            r = jnp.arange(num_inputs, dtype=int) # == range(num_outputs) # reciprocal only works if num_inputs == num_outputs!\n",
        "            if JAX_AVAILABLE:\n",
        "                S = S.at[num_inputs+r, r].set(1)\n",
        "            else:\n",
        "                S[num_inputs+r, r] = 1\n",
        "\n",
        "    # let's convert it in SCOO format:\n",
        "    Si, Sj = jnp.where(S > 1e-6)\n",
        "    Sx = S[Si, Sj]\n",
        "    \n",
        "    # the last missing piece is a port map:\n",
        "    pm = {\n",
        "        **{p: i for i, p in enumerate(input_ports)},\n",
        "        **{p: i + num_inputs for i, p in enumerate(output_ports)},\n",
        "    }\n",
        "    \n",
        "    def func(wl: float = 1.5) -> SCoo:\n",
        "        wl_ = jnp.asarray(wl)\n",
        "        Sx_ = jnp.broadcast_to(Sx, (*wl_.shape, *Sx.shape))\n",
        "        return Si, Sj, Sx_, pm\n",
        "\n",
        "    func.__name__ = f\"unitary_{num_inputs}_{num_outputs}\"\n",
        "    func.__qualname__ = f\"unitary_{num_inputs}_{num_outputs}\"\n",
        "    if jit:\n",
        "        return jax.jit(func)\n",
        "    return func"
      ]
    },
    {
      "cell_type": "markdown",
      "id": "77014d0f-1a08-4b4b-a011-cf11cd9684b8",
      "metadata": {
        "papermill": {
          "duration": 0.005388,
          "end_time": "2023-06-01T21:32:31.519243",
          "exception": false,
          "start_time": "2023-06-01T21:32:31.513855",
          "status": "completed"
        },
        "tags": []
      },
      "source": [
        "A copier model is like a unitary model, but copies the input signal over all output signals. Hence, if the model has multiple output ports, this model can be considered to introduce gain. That said, it can sometimes be a useful component."
      ]
    },
    {
      "cell_type": "code",
      "execution_count": 19,
      "id": "c2a61a9f-51ea-455f-a66f-94719b43520e",
      "metadata": {
        "execution": {
          "iopub.execute_input": "2023-06-01T21:32:31.530411Z",
          "iopub.status.busy": "2023-06-01T21:32:31.530224Z",
          "iopub.status.idle": "2023-06-01T21:32:31.737896Z",
          "shell.execute_reply": "2023-06-01T21:32:31.737484Z"
        },
        "papermill": {
          "duration": 0.215021,
          "end_time": "2023-06-01T21:32:31.739438",
          "exception": false,
          "start_time": "2023-06-01T21:32:31.524417",
          "status": "completed"
        },
        "tags": []
      },
      "outputs": [
        {
          "data": {
            "text/plain": [
              "(Array([0, 0, 1, 1, 2, 2, 3, 3], dtype=int32),\n",
              " Array([2, 3, 2, 3, 0, 1, 0, 1], dtype=int32),\n",
              " Array([1., 1., 1., 1., 1., 1., 1., 1.], dtype=float32),\n",
              " {'in0': Array(0, dtype=int32, weak_type=True),\n",
              "  'in1': Array(1, dtype=int32, weak_type=True),\n",
              "  'out0': Array(2, dtype=int32, weak_type=True),\n",
              "  'out1': Array(3, dtype=int32, weak_type=True)})"
            ]
          },
          "execution_count": 19,
          "metadata": {},
          "output_type": "execute_result"
        }
      ],
      "source": [
        "copier_model = copier(2, 2)\n",
        "copier_model() # a copier model returns an SCoo by default"
      ]
    },
    {
      "cell_type": "markdown",
      "id": "fbd51c6c-c059-4717-9dae-447becc7e8d5",
      "metadata": {
        "papermill": {
          "duration": 0.005703,
          "end_time": "2023-06-01T21:32:31.750853",
          "exception": false,
          "start_time": "2023-06-01T21:32:31.745150",
          "status": "completed"
        },
        "tags": []
      },
      "source": [
        "As you probably already know, it's very easy to convert a model returning any `Stype` into a model returning an `SDict` as follows:"
      ]
    },
    {
      "cell_type": "code",
      "execution_count": 20,
      "id": "becda099-b5d9-494c-a6b2-9828be10c4a5",
      "metadata": {
        "execution": {
          "iopub.execute_input": "2023-06-01T21:32:31.762695Z",
          "iopub.status.busy": "2023-06-01T21:32:31.762418Z",
          "iopub.status.idle": "2023-06-01T21:32:31.806278Z",
          "shell.execute_reply": "2023-06-01T21:32:31.805861Z"
        },
        "papermill": {
          "duration": 0.051395,
          "end_time": "2023-06-01T21:32:31.807709",
          "exception": false,
          "start_time": "2023-06-01T21:32:31.756314",
          "status": "completed"
        },
        "tags": []
      },
      "outputs": [
        {
          "data": {
            "text/plain": [
              "{('in0', 'out0'): Array(1., dtype=float32),\n",
              " ('in0', 'out1'): Array(1., dtype=float32),\n",
              " ('in1', 'out0'): Array(1., dtype=float32),\n",
              " ('in1', 'out1'): Array(1., dtype=float32),\n",
              " ('out0', 'in0'): Array(1., dtype=float32),\n",
              " ('out0', 'in1'): Array(1., dtype=float32),\n",
              " ('out1', 'in0'): Array(1., dtype=float32),\n",
              " ('out1', 'in1'): Array(1., dtype=float32)}"
            ]
          },
          "execution_count": 20,
          "metadata": {},
          "output_type": "execute_result"
        }
      ],
      "source": [
        "copier_sdict_model = sax.sdict(copier_model)\n",
        "copier_sdict_model()"
      ]
    },
    {
      "cell_type": "markdown",
      "id": "1ad16d1b-f685-4ab9-a8c4-41efbbdae4fa",
      "metadata": {
        "papermill": {
          "duration": 0.005737,
          "end_time": "2023-06-01T21:32:31.819089",
          "exception": false,
          "start_time": "2023-06-01T21:32:31.813352",
          "status": "completed"
        },
        "tags": []
      },
      "source": [
        "If we need custom port names, we can also just specify them explicitly:"
      ]
    },
    {
      "cell_type": "code",
      "execution_count": 21,
      "id": "297d1e45-b881-440b-b887-b38c5517596e",
      "metadata": {
        "execution": {
          "iopub.execute_input": "2023-06-01T21:32:31.830784Z",
          "iopub.status.busy": "2023-06-01T21:32:31.830583Z",
          "iopub.status.idle": "2023-06-01T21:32:31.846645Z",
          "shell.execute_reply": "2023-06-01T21:32:31.846303Z"
        },
        "papermill": {
          "duration": 0.023441,
          "end_time": "2023-06-01T21:32:31.847929",
          "exception": false,
          "start_time": "2023-06-01T21:32:31.824488",
          "status": "completed"
        },
        "tags": []
      },
      "outputs": [
        {
          "data": {
            "text/plain": [
              "(Array([0, 0, 1, 1, 2, 2, 3, 3], dtype=int32),\n",
              " Array([2, 3, 2, 3, 0, 1, 0, 1], dtype=int32),\n",
              " Array([1., 1., 1., 1., 1., 1., 1., 1.], dtype=float32),\n",
              " {'in0': Array(0, dtype=int32, weak_type=True),\n",
              "  'in1': Array(1, dtype=int32, weak_type=True),\n",
              "  'out0': Array(2, dtype=int32, weak_type=True),\n",
              "  'out1': Array(3, dtype=int32, weak_type=True)})"
            ]
          },
          "execution_count": 21,
          "metadata": {},
          "output_type": "execute_result"
        }
      ],
      "source": [
        "copier_model = copier(ports=(\"in0\", \"in1\", \"out0\", \"out1\"))\n",
        "copier_model()"
      ]
    },
    {
      "cell_type": "code",
      "execution_count": 22,
      "id": "608d7114-03ac-4f5f-9790-cf65379d81dd",
      "metadata": {
        "execution": {
          "iopub.execute_input": "2023-06-01T21:32:31.860106Z",
          "iopub.status.busy": "2023-06-01T21:32:31.859926Z",
          "iopub.status.idle": "2023-06-01T21:32:31.890161Z",
          "shell.execute_reply": "2023-06-01T21:32:31.889801Z"
        },
        "papermill": {
          "duration": 0.037698,
          "end_time": "2023-06-01T21:32:31.891531",
          "exception": false,
          "start_time": "2023-06-01T21:32:31.853833",
          "status": "completed"
        },
        "tags": []
      },
      "outputs": [
        {
          "data": {
            "text/plain": [
              "{('in0', 'in0'): Array(0.89409053, dtype=float32),\n",
              " ('in0', 'out0'): Array(0.44721356, dtype=float32),\n",
              " ('in0', 'out1'): Array(0.44721356, dtype=float32),\n",
              " ('in0', 'out2'): Array(0.44721356, dtype=float32),\n",
              " ('in0', 'out3'): Array(0.44721356, dtype=float32),\n",
              " ('in0', 'out4'): Array(0.44721356, dtype=float32),\n",
              " ('out0', 'in0'): Array(0.45508003, dtype=float32),\n",
              " ('out0', 'out0'): Array(6.8863876e-05, dtype=float32),\n",
              " ('out0', 'out1'): Array(6.8863876e-05, dtype=float32),\n",
              " ('out0', 'out2'): Array(6.8863876e-05, dtype=float32),\n",
              " ('out0', 'out3'): Array(6.8863876e-05, dtype=float32),\n",
              " ('out0', 'out4'): Array(6.8863876e-05, dtype=float32),\n",
              " ('out1', 'in0'): Array(0.45508003, dtype=float32),\n",
              " ('out1', 'out0'): Array(6.8863876e-05, dtype=float32),\n",
              " ('out1', 'out1'): Array(6.8863876e-05, dtype=float32),\n",
              " ('out1', 'out2'): Array(6.8863876e-05, dtype=float32),\n",
              " ('out1', 'out3'): Array(6.8863876e-05, dtype=float32),\n",
              " ('out1', 'out4'): Array(6.8863876e-05, dtype=float32),\n",
              " ('out2', 'in0'): Array(0.45508003, dtype=float32),\n",
              " ('out2', 'out0'): Array(6.8863876e-05, dtype=float32),\n",
              " ('out2', 'out1'): Array(6.8863876e-05, dtype=float32),\n",
              " ('out2', 'out2'): Array(6.8863876e-05, dtype=float32),\n",
              " ('out2', 'out3'): Array(6.8863876e-05, dtype=float32),\n",
              " ('out2', 'out4'): Array(6.8863876e-05, dtype=float32),\n",
              " ('out3', 'in0'): Array(0.45508003, dtype=float32),\n",
              " ('out3', 'out0'): Array(6.8863876e-05, dtype=float32),\n",
              " ('out3', 'out1'): Array(6.8863876e-05, dtype=float32),\n",
              " ('out3', 'out2'): Array(6.8863876e-05, dtype=float32),\n",
              " ('out3', 'out3'): Array(6.8863876e-05, dtype=float32),\n",
              " ('out3', 'out4'): Array(6.8863876e-05, dtype=float32),\n",
              " ('out4', 'in0'): Array(0.4142568, dtype=float32),\n",
              " ('out4', 'out0'): Array(0.00012883, dtype=float32),\n",
              " ('out4', 'out1'): Array(0.00012883, dtype=float32),\n",
              " ('out4', 'out2'): Array(0.00012883, dtype=float32),\n",
              " ('out4', 'out3'): Array(0.00012883, dtype=float32),\n",
              " ('out4', 'out4'): Array(0.00012883, dtype=float32)}"
            ]
          },
          "execution_count": 22,
          "metadata": {},
          "output_type": "execute_result"
        }
      ],
      "source": [
        "ports_in=['in0']\n",
        "ports_out=['out0', 'out1', 'out2', 'out3', 'out4']\n",
        "model = unitary(\n",
        "    ports=tuple(ports_in+ports_out), jit=True, reciprocal=True\n",
        ")\n",
        "model = sax.sdict(model)\n",
        "model()"
      ]
    },
    {
      "cell_type": "markdown",
      "id": "6d024e5b-95a9-44e5-9dbc-4980249e73a7",
      "metadata": {
        "papermill": {
          "duration": 0.005902,
          "end_time": "2023-06-01T21:32:31.903174",
          "exception": false,
          "start_time": "2023-06-01T21:32:31.897272",
          "status": "completed"
        },
        "tags": []
      },
      "source": [
        "Because this is a pretty common usecase we have a dedicated model factory for this as well. This passthru component just takes the number of links (`'in{i}' -> 'out{i]'`) as input. Alternatively, as before, one can also specify the port names directly but one needs to ensure that `len(ports) == 2*num_links`."
      ]
    },
    {
      "cell_type": "markdown",
      "id": "c1ee00cc1807a66e",
      "metadata": {},
      "source": [
        ":::{eval-rst}\n",
        ".. autofunction:: sax.models.passthru\n",
        ":::\n"
      ]
    },
    {
      "cell_type": "code",
      "execution_count": 23,
      "id": "7ca14858743fef1f",
      "metadata": {
        "execution": {
          "iopub.execute_input": "2023-06-01T21:32:31.915310Z",
          "iopub.status.busy": "2023-06-01T21:32:31.915106Z",
          "iopub.status.idle": "2023-06-01T21:32:31.918588Z",
          "shell.execute_reply": "2023-06-01T21:32:31.918213Z"
        },
        "papermill": {
          "duration": 0.011561,
          "end_time": "2023-06-01T21:32:31.920350",
          "exception": false,
          "start_time": "2023-06-01T21:32:31.908789",
          "status": "completed"
        },
        "tags": [
          "hide-input"
        ]
      },
      "outputs": [],
      "source": [
        "@cache\n",
        "def passthru(\n",
        "    num_links: Optional[int] = None,\n",
        "    ports: Optional[Tuple[str, ...]] = None,\n",
        "    *,\n",
        "    jit=True,\n",
        "    reciprocal=True,\n",
        ") -> Model:\n",
        "    passthru = unitary(num_links, num_links, ports, jit=jit, reciprocal=reciprocal, diagonal=True)\n",
        "    passthru.__name__ = f\"passthru_{num_links}_{num_links}\"\n",
        "    passthru.__qualname__ = f\"passthru_{num_links}_{num_links}\"\n",
        "    if jit:\n",
        "        return jax.jit(passthru)\n",
        "    return passthru"
      ]
    },
    {
      "cell_type": "code",
      "execution_count": 24,
      "id": "4a063810-224b-446c-a59d-12a20b56e82e",
      "metadata": {
        "execution": {
          "iopub.execute_input": "2023-06-01T21:32:31.932328Z",
          "iopub.status.busy": "2023-06-01T21:32:31.932125Z",
          "iopub.status.idle": "2023-06-01T21:32:31.941899Z",
          "shell.execute_reply": "2023-06-01T21:32:31.941500Z"
        },
        "papermill": {
          "duration": 0.017345,
          "end_time": "2023-06-01T21:32:31.943286",
          "exception": false,
          "start_time": "2023-06-01T21:32:31.925941",
          "status": "completed"
        },
        "tags": []
      },
      "outputs": [
        {
          "data": {
            "text/plain": [
              "{('in0', 'out0'): Array(1., dtype=float32),\n",
              " ('in1', 'out1'): Array(1., dtype=float32),\n",
              " ('in2', 'out2'): Array(1., dtype=float32),\n",
              " ('out0', 'in0'): Array(1., dtype=float32),\n",
              " ('out1', 'in1'): Array(1., dtype=float32),\n",
              " ('out2', 'in2'): Array(1., dtype=float32)}"
            ]
          },
          "execution_count": 24,
          "metadata": {},
          "output_type": "execute_result"
        }
      ],
      "source": [
        "passthru_model = passthru(3)\n",
        "passthru_sdict_model = sax.sdict(passthru_model)\n",
        "passthru_sdict_model()"
      ]
    },
    {
      "cell_type": "markdown",
      "id": "bb6e94aa",
      "metadata": {
        "papermill": {
          "duration": 0.005669,
          "end_time": "2023-06-01T21:32:31.954918",
          "exception": false,
          "start_time": "2023-06-01T21:32:31.949249",
          "status": "completed"
        },
        "tags": []
      },
      "source": [
        "## All Models"
      ]
    },
    {
      "cell_type": "markdown",
      "id": "976909a59c00219f",
      "metadata": {},
      "source": [
        ":::{eval-rst}\n",
        ".. autofunction:: sax.models.get_models\n",
        ":::\n"
      ]
    },
    {
      "cell_type": "code",
      "execution_count": 25,
      "id": "2fd86e8ebc49ce0d",
      "metadata": {
        "execution": {
          "iopub.execute_input": "2023-06-01T21:32:31.967418Z",
          "iopub.status.busy": "2023-06-01T21:32:31.967154Z",
          "iopub.status.idle": "2023-06-01T21:32:31.969934Z",
          "shell.execute_reply": "2023-06-01T21:32:31.969514Z"
        },
        "papermill": {
          "duration": 0.010763,
          "end_time": "2023-06-01T21:32:31.971515",
          "exception": false,
          "start_time": "2023-06-01T21:32:31.960752",
          "status": "completed"
        },
        "tags": []
      },
      "outputs": [],
      "source": [
        "\n",
        "models = {\n",
        "    \"copier\": copier,\n",
        "    \"coupler\": coupler,\n",
        "    \"passthru\": passthru,\n",
        "    \"straight\": straight,\n",
        "    \"unitary\": unitary,\n",
        "}\n",
        "\n",
        "def get_models(copy: bool=True):\n",
        "    if copy:\n",
        "        return {**models}\n",
        "    return models"
      ]
    }
  ],
  "metadata": {
    "kernelspec": {
      "display_name": "sax",
      "language": "python",
      "name": "sax"
    },
    "language_info": {
      "codemirror_mode": {
        "name": "ipython",
        "version": 3
      },
      "file_extension": ".py",
      "mimetype": "text/x-python",
      "name": "python",
      "nbconvert_exporter": "python",
      "pygments_lexer": "ipython3",
      "version": "3.11.3"
    },
    "papermill": {
      "default_parameters": {},
      "duration": 7.235581,
      "end_time": "2023-06-01T21:32:32.493743",
      "environment_variables": {},
      "exception": null,
      "input_path": "./nbs/05_models.ipynb",
      "output_path": "./nbs/05_models.ipynb",
      "parameters": {},
      "start_time": "2023-06-01T21:32:25.258162",
      "version": "2.3.4"
    }
  },
  "nbformat": 4,
  "nbformat_minor": 5
}