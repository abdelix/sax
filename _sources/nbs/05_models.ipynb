{
  "cells": [
    {
      "cell_type": "code",
      "execution_count": 1,
      "id": "22111db358cd61c9",
      "metadata": {
        "execution": {
          "iopub.execute_input": "2023-09-01T16:51:17.055392Z",
          "iopub.status.busy": "2023-09-01T16:51:17.054910Z",
          "iopub.status.idle": "2023-09-01T16:51:17.058105Z",
          "shell.execute_reply": "2023-09-01T16:51:17.057560Z"
        },
        "papermill": {
          "duration": 0.010785,
          "end_time": "2023-09-01T16:51:17.059337",
          "exception": false,
          "start_time": "2023-09-01T16:51:17.048552",
          "status": "completed"
        },
        "tags": [
          "remove-cell"
        ]
      },
      "outputs": [],
      "source": []
    },
    {
      "cell_type": "markdown",
      "id": "986cb864",
      "metadata": {
        "papermill": {
          "duration": 0.004463,
          "end_time": "2023-09-01T16:51:17.068444",
          "exception": false,
          "start_time": "2023-09-01T16:51:17.063981",
          "status": "completed"
        },
        "tags": []
      },
      "source": [
        "# Models\n",
        "\n",
        "> Default SAX Models"
      ]
    },
    {
      "cell_type": "code",
      "execution_count": 2,
      "id": "6d74bf385c9483d1",
      "metadata": {
        "execution": {
          "iopub.execute_input": "2023-09-01T16:51:17.079140Z",
          "iopub.status.busy": "2023-09-01T16:51:17.078599Z",
          "iopub.status.idle": "2023-09-01T16:51:17.083796Z",
          "shell.execute_reply": "2023-09-01T16:51:17.083357Z"
        },
        "papermill": {
          "duration": 0.011399,
          "end_time": "2023-09-01T16:51:17.084980",
          "exception": false,
          "start_time": "2023-09-01T16:51:17.073581",
          "status": "completed"
        },
        "tags": [
          "remove-cell"
        ]
      },
      "outputs": [],
      "source": [
        "import os, sys; sys.stderr = open(os.devnull, \"w\")"
      ]
    },
    {
      "cell_type": "code",
      "execution_count": 3,
      "id": "b3f6ede1e5e6da13",
      "metadata": {
        "execution": {
          "iopub.execute_input": "2023-09-01T16:51:17.117771Z",
          "iopub.status.busy": "2023-09-01T16:51:17.117201Z",
          "iopub.status.idle": "2023-09-01T16:51:17.912440Z",
          "shell.execute_reply": "2023-09-01T16:51:17.911985Z"
        },
        "papermill": {
          "duration": 0.802055,
          "end_time": "2023-09-01T16:51:17.913946",
          "exception": false,
          "start_time": "2023-09-01T16:51:17.111891",
          "status": "completed"
        },
        "tags": [
          "hide-input"
        ]
      },
      "outputs": [],
      "source": [
        "from __future__ import annotations\n",
        "\n",
        "import warnings\n",
        "from functools import lru_cache as cache\n",
        "from types import SimpleNamespace\n",
        "from typing import Optional, Tuple\n",
        "\n",
        "import sax\n",
        "from sax.typing_ import Model, SCoo, SDict\n",
        "from sax.utils import get_inputs_outputs, reciprocal\n",
        "\n",
        "try:\n",
        "    import jax\n",
        "    import jax.numpy as jnp\n",
        "    JAX_AVAILABLE = True\n",
        "except ImportError:\n",
        "    import numpy as jnp\n",
        "    \n",
        "    def jit(func, *args, **kwargs):\n",
        "        warnings.warn(\"[NO JAX] skipping jit! Please install JAX!\")\n",
        "        return func\n",
        "    \n",
        "    jax = SimpleNamespace(jit=jit)\n",
        "    \n",
        "    JAX_AVAILABLE = False"
      ]
    },
    {
      "cell_type": "markdown",
      "id": "efa9b619",
      "metadata": {
        "papermill": {
          "duration": 0.004682,
          "end_time": "2023-09-01T16:51:17.923435",
          "exception": false,
          "start_time": "2023-09-01T16:51:17.918753",
          "status": "completed"
        },
        "tags": []
      },
      "source": [
        "## Standard Models"
      ]
    },
    {
      "cell_type": "markdown",
      "id": "72b5daf0f1bcdf85",
      "metadata": {},
      "source": [
        ":::{eval-rst}\n",
        ".. autofunction:: sax.models.straight\n",
        ":::\n"
      ]
    },
    {
      "cell_type": "code",
      "execution_count": 4,
      "id": "bfe71778a51ea4ee",
      "metadata": {
        "execution": {
          "iopub.execute_input": "2023-09-01T16:51:17.933604Z",
          "iopub.status.busy": "2023-09-01T16:51:17.933256Z",
          "iopub.status.idle": "2023-09-01T16:51:17.937961Z",
          "shell.execute_reply": "2023-09-01T16:51:17.937505Z"
        },
        "papermill": {
          "duration": 0.011535,
          "end_time": "2023-09-01T16:51:17.939393",
          "exception": false,
          "start_time": "2023-09-01T16:51:17.927858",
          "status": "completed"
        },
        "tags": [
          "hide-input"
        ]
      },
      "outputs": [],
      "source": [
        "\n",
        "def straight(\n",
        "    *,\n",
        "    wl: float = 1.55,\n",
        "    wl0: float = 1.55,\n",
        "    neff: float = 2.34,\n",
        "    ng: float = 3.4,\n",
        "    length: float = 10.0,\n",
        "    loss: float = 0.0\n",
        ") -> SDict:\n",
        "    \"\"\"a simple straight waveguide model\"\"\"\n",
        "    dwl = wl - wl0\n",
        "    dneff_dwl = (ng - neff) / wl0\n",
        "    neff = neff - dwl * dneff_dwl\n",
        "    phase = 2 * jnp.pi * neff * length / wl\n",
        "    amplitude = jnp.asarray(10 ** (-loss * length / 20), dtype=complex)\n",
        "    transmission =  amplitude * jnp.exp(1j * phase)\n",
        "    sdict = reciprocal(\n",
        "        {\n",
        "            (\"in0\", \"out0\"): transmission,\n",
        "        }\n",
        "    )\n",
        "    return sdict"
      ]
    },
    {
      "cell_type": "code",
      "execution_count": 5,
      "id": "a99cec57",
      "metadata": {
        "execution": {
          "iopub.execute_input": "2023-09-01T16:51:17.949475Z",
          "iopub.status.busy": "2023-09-01T16:51:17.949265Z",
          "iopub.status.idle": "2023-09-01T16:51:17.992311Z",
          "shell.execute_reply": "2023-09-01T16:51:17.991260Z"
        },
        "papermill": {
          "duration": 0.049602,
          "end_time": "2023-09-01T16:51:17.993579",
          "exception": false,
          "start_time": "2023-09-01T16:51:17.943977",
          "status": "completed"
        },
        "tags": []
      },
      "outputs": [
        {
          "data": {
            "text/plain": [
              "{('in0', 'out0'): Array(0.82076344+0.57126822j, dtype=complex128),\n",
              " ('out0', 'in0'): Array(0.82076344+0.57126822j, dtype=complex128)}"
            ]
          },
          "execution_count": 5,
          "metadata": {},
          "output_type": "execute_result"
        }
      ],
      "source": [
        "straight()"
      ]
    },
    {
      "cell_type": "markdown",
      "id": "e180076d097bcb3f",
      "metadata": {},
      "source": [
        ":::{eval-rst}\n",
        ".. autofunction:: sax.models.coupler\n",
        ":::\n"
      ]
    },
    {
      "cell_type": "code",
      "execution_count": 6,
      "id": "34b25a3b1a87dd93",
      "metadata": {
        "execution": {
          "iopub.execute_input": "2023-09-01T16:51:18.004404Z",
          "iopub.status.busy": "2023-09-01T16:51:18.004179Z",
          "iopub.status.idle": "2023-09-01T16:51:18.007633Z",
          "shell.execute_reply": "2023-09-01T16:51:18.007257Z"
        },
        "papermill": {
          "duration": 0.010306,
          "end_time": "2023-09-01T16:51:18.008683",
          "exception": false,
          "start_time": "2023-09-01T16:51:17.998377",
          "status": "completed"
        },
        "tags": [
          "hide-input"
        ]
      },
      "outputs": [],
      "source": [
        "\n",
        "def coupler(*, coupling: float = 0.5) -> SDict:\n",
        "    \"\"\"a simple coupler model\"\"\"\n",
        "    kappa = coupling ** 0.5\n",
        "    tau = (1 - coupling) ** 0.5\n",
        "    sdict = reciprocal(\n",
        "        {\n",
        "            (\"in0\", \"out0\"): tau,\n",
        "            (\"in0\", \"out1\"): 1j * kappa,\n",
        "            (\"in1\", \"out0\"): 1j * kappa,\n",
        "            (\"in1\", \"out1\"): tau,\n",
        "        }\n",
        "    )\n",
        "    return sdict"
      ]
    },
    {
      "cell_type": "code",
      "execution_count": 7,
      "id": "5fd87a22",
      "metadata": {
        "execution": {
          "iopub.execute_input": "2023-09-01T16:51:18.019688Z",
          "iopub.status.busy": "2023-09-01T16:51:18.019210Z",
          "iopub.status.idle": "2023-09-01T16:51:18.023093Z",
          "shell.execute_reply": "2023-09-01T16:51:18.022742Z"
        },
        "papermill": {
          "duration": 0.010624,
          "end_time": "2023-09-01T16:51:18.024149",
          "exception": false,
          "start_time": "2023-09-01T16:51:18.013525",
          "status": "completed"
        },
        "tags": []
      },
      "outputs": [
        {
          "data": {
            "text/plain": [
              "{('in0', 'out0'): 0.7071067811865476,\n",
              " ('in0', 'out1'): 0.7071067811865476j,\n",
              " ('in1', 'out0'): 0.7071067811865476j,\n",
              " ('in1', 'out1'): 0.7071067811865476,\n",
              " ('out0', 'in0'): 0.7071067811865476,\n",
              " ('out1', 'in0'): 0.7071067811865476j,\n",
              " ('out0', 'in1'): 0.7071067811865476j,\n",
              " ('out1', 'in1'): 0.7071067811865476}"
            ]
          },
          "execution_count": 7,
          "metadata": {},
          "output_type": "execute_result"
        }
      ],
      "source": [
        "coupler()"
      ]
    },
    {
      "cell_type": "markdown",
      "id": "ca06c12f",
      "metadata": {
        "papermill": {
          "duration": 0.004967,
          "end_time": "2023-09-01T16:51:18.034244",
          "exception": false,
          "start_time": "2023-09-01T16:51:18.029277",
          "status": "completed"
        },
        "tags": []
      },
      "source": [
        "## Model Factories"
      ]
    },
    {
      "cell_type": "code",
      "execution_count": 8,
      "id": "53738cdc1c3c00f4",
      "metadata": {
        "execution": {
          "iopub.execute_input": "2023-09-01T16:51:18.044971Z",
          "iopub.status.busy": "2023-09-01T16:51:18.044584Z",
          "iopub.status.idle": "2023-09-01T16:51:18.050047Z",
          "shell.execute_reply": "2023-09-01T16:51:18.049698Z"
        },
        "papermill": {
          "duration": 0.01229,
          "end_time": "2023-09-01T16:51:18.051205",
          "exception": false,
          "start_time": "2023-09-01T16:51:18.038915",
          "status": "completed"
        },
        "tags": [
          "remove-cell"
        ]
      },
      "outputs": [],
      "source": [
        "\n",
        "def _validate_ports(ports, num_inputs, num_outputs, diagonal) -> Tuple[Tuple[str,...], Tuple[str,...], int, int]:\n",
        "    if ports is None:\n",
        "        if num_inputs is None or num_outputs is None:\n",
        "            raise ValueError(\n",
        "                \"if not ports given, you must specify how many input ports \"\n",
        "                \"and how many output ports a model has.\"\n",
        "            )\n",
        "        input_ports = [f\"in{i}\" for i in range(num_inputs)]\n",
        "        output_ports = [f\"out{i}\" for i in range(num_outputs)]\n",
        "    else:\n",
        "        if num_inputs is not None:\n",
        "            if num_outputs is None:\n",
        "                raise ValueError(\n",
        "                    \"if num_inputs is given, num_outputs should be given as well.\"\n",
        "                )\n",
        "        if num_outputs is not None:\n",
        "            if num_inputs is None:\n",
        "                raise ValueError(\n",
        "                    \"if num_outputs is given, num_inputs should be given as well.\"\n",
        "                )\n",
        "        if num_inputs is not None and num_outputs is not None:\n",
        "            if num_inputs + num_outputs != len(ports):\n",
        "                raise ValueError(\"num_inputs + num_outputs != len(ports)\")\n",
        "            input_ports = ports[:num_inputs]\n",
        "            output_ports = ports[num_inputs:]\n",
        "        else:\n",
        "            input_ports, output_ports = get_inputs_outputs(ports)\n",
        "            num_inputs = len(input_ports)\n",
        "            num_outputs = len(output_ports)\n",
        "            \n",
        "    if diagonal:\n",
        "        if num_inputs != num_outputs:\n",
        "            raise ValueError(\n",
        "                \"Can only have a diagonal passthru if number of input ports equals the number of output ports!\"\n",
        "            )\n",
        "    return input_ports, output_ports, num_inputs, num_outputs"
      ]
    },
    {
      "cell_type": "markdown",
      "id": "6815a42b69329380",
      "metadata": {},
      "source": [
        ":::{eval-rst}\n",
        ".. autofunction:: sax.models.unitary\n",
        ":::\n"
      ]
    },
    {
      "cell_type": "code",
      "execution_count": 9,
      "id": "cc500b1c9df1149a",
      "metadata": {
        "execution": {
          "iopub.execute_input": "2023-09-01T16:51:18.061763Z",
          "iopub.status.busy": "2023-09-01T16:51:18.061441Z",
          "iopub.status.idle": "2023-09-01T16:51:18.069881Z",
          "shell.execute_reply": "2023-09-01T16:51:18.069543Z"
        },
        "papermill": {
          "duration": 0.015002,
          "end_time": "2023-09-01T16:51:18.070971",
          "exception": false,
          "start_time": "2023-09-01T16:51:18.055969",
          "status": "completed"
        },
        "tags": [
          "hide-input"
        ]
      },
      "outputs": [],
      "source": [
        "\n",
        "@cache\n",
        "def unitary(\n",
        "    num_inputs: Optional[int] = None,\n",
        "    num_outputs: Optional[int] = None,\n",
        "    ports: Optional[Tuple[str, ...]] = None,\n",
        "    *,\n",
        "    jit=True,\n",
        "    reciprocal=True,\n",
        "    diagonal=False,\n",
        ") -> Model:\n",
        "    input_ports, output_ports, num_inputs, num_outputs = _validate_ports(ports, num_inputs, num_outputs, diagonal)\n",
        "    assert num_inputs is not None and num_outputs is not None\n",
        "    \n",
        "    # let's create the squared S-matrix:\n",
        "    N = max(num_inputs, num_outputs)\n",
        "    S = jnp.zeros((2*N, 2*N), dtype=float)\n",
        "\n",
        "    if not diagonal:\n",
        "        if JAX_AVAILABLE:\n",
        "            S = S.at[:N, N:].set(1)\n",
        "        else:\n",
        "            S[:N, N:] = 1\n",
        "    else:\n",
        "        r = jnp.arange(N, dtype=int) # reciprocal only works if num_inputs == num_outputs!\n",
        "        if JAX_AVAILABLE:\n",
        "            S = S.at[r, N+r].set(1)\n",
        "        else:\n",
        "            S[r, N+r] = 1\n",
        "\n",
        "    if reciprocal:\n",
        "        if not diagonal:\n",
        "            if JAX_AVAILABLE:\n",
        "                S = S.at[N:, :N].set(1)\n",
        "            else:\n",
        "                S[N:, :N] = 1\n",
        "        else:\n",
        "            r = jnp.arange(N, dtype=int) # reciprocal only works if num_inputs == num_outputs!\n",
        "            if JAX_AVAILABLE:\n",
        "                S = S.at[N+r, r].set(1)\n",
        "            else:\n",
        "                S[N+r, r] = 1\n",
        "\n",
        "    # Now we need to normalize the squared S-matrix\n",
        "    U, s, V = jnp.linalg.svd(S, full_matrices=False)\n",
        "    S = jnp.sqrt(U@jnp.diag(jnp.where(s > 1e-12, 1, 0))@V)\n",
        "    \n",
        "    # Now create subset of this matrix we're interested in:\n",
        "    r = jnp.concatenate([jnp.arange(num_inputs, dtype=int), N+jnp.arange(num_outputs, dtype=int)], 0)\n",
        "    S = S[r, :][:, r]\n",
        "\n",
        "    # let's convert it in SCOO format:\n",
        "    Si, Sj = jnp.where(S > 1e-6)\n",
        "    Sx = S[Si, Sj]\n",
        "    \n",
        "    # the last missing piece is a port map:\n",
        "    pm = {\n",
        "        **{p: i for i, p in enumerate(input_ports)},\n",
        "        **{p: i + num_inputs for i, p in enumerate(output_ports)},\n",
        "    }\n",
        "    \n",
        "    def func(wl: float = 1.5) -> SCoo:\n",
        "        wl_ = jnp.asarray(wl)\n",
        "        Sx_ = jnp.broadcast_to(Sx, (*wl_.shape, *Sx.shape))\n",
        "        return Si, Sj, Sx_, pm\n",
        "\n",
        "    func.__name__ = f\"unitary_{num_inputs}_{num_outputs}\"\n",
        "    func.__qualname__ = f\"unitary_{num_inputs}_{num_outputs}\"\n",
        "    if jit:\n",
        "        return jax.jit(func)\n",
        "    return func"
      ]
    },
    {
      "cell_type": "markdown",
      "id": "327febf2-70d5-48ed-8b39-bac2d9727db5",
      "metadata": {
        "papermill": {
          "duration": 0.004802,
          "end_time": "2023-09-01T16:51:18.080600",
          "exception": false,
          "start_time": "2023-09-01T16:51:18.075798",
          "status": "completed"
        },
        "tags": []
      },
      "source": [
        "A unitary model returns an `SCoo` by default:"
      ]
    },
    {
      "cell_type": "code",
      "execution_count": 10,
      "id": "e95bacdd",
      "metadata": {
        "execution": {
          "iopub.execute_input": "2023-09-01T16:51:18.091416Z",
          "iopub.status.busy": "2023-09-01T16:51:18.091028Z",
          "iopub.status.idle": "2023-09-01T16:51:18.861809Z",
          "shell.execute_reply": "2023-09-01T16:51:18.861142Z"
        },
        "papermill": {
          "duration": 0.777572,
          "end_time": "2023-09-01T16:51:18.863093",
          "exception": false,
          "start_time": "2023-09-01T16:51:18.085521",
          "status": "completed"
        },
        "tags": []
      },
      "outputs": [
        {
          "data": {
            "text/plain": [
              "(Array([0, 0, 1, 1, 2, 2, 3, 3], dtype=int64),\n",
              " Array([2, 3, 2, 3, 0, 1, 0, 1], dtype=int64),\n",
              " Array([0.70710678, 0.70710678, 0.70710678, 0.70710678, 0.70710678,\n",
              "        0.70710678, 0.70710678, 0.70710678], dtype=float64),\n",
              " {'in0': Array(0, dtype=int64, weak_type=True),\n",
              "  'in1': Array(1, dtype=int64, weak_type=True),\n",
              "  'out0': Array(2, dtype=int64, weak_type=True),\n",
              "  'out1': Array(3, dtype=int64, weak_type=True)})"
            ]
          },
          "execution_count": 10,
          "metadata": {},
          "output_type": "execute_result"
        }
      ],
      "source": [
        "unitary_model = unitary(2, 2)\n",
        "unitary_model() # a unitary model returns an SCoo by default"
      ]
    },
    {
      "cell_type": "markdown",
      "id": "01ff2567-9b0e-4686-acb4-47cfb11b06ce",
      "metadata": {
        "papermill": {
          "duration": 0.005254,
          "end_time": "2023-09-01T16:51:18.873617",
          "exception": false,
          "start_time": "2023-09-01T16:51:18.868363",
          "status": "completed"
        },
        "tags": []
      },
      "source": [
        "As you probably already know, it's very easy to convert a model returning any `Stype` into a model returning an `SDict` as follows:"
      ]
    },
    {
      "cell_type": "code",
      "execution_count": 11,
      "id": "260dda8c-7e44-4f3f-b96c-e742daaf2885",
      "metadata": {
        "execution": {
          "iopub.execute_input": "2023-09-01T16:51:18.884594Z",
          "iopub.status.busy": "2023-09-01T16:51:18.884383Z",
          "iopub.status.idle": "2023-09-01T16:51:18.927144Z",
          "shell.execute_reply": "2023-09-01T16:51:18.926760Z"
        },
        "papermill": {
          "duration": 0.049887,
          "end_time": "2023-09-01T16:51:18.928405",
          "exception": false,
          "start_time": "2023-09-01T16:51:18.878518",
          "status": "completed"
        },
        "tags": []
      },
      "outputs": [
        {
          "data": {
            "text/plain": [
              "{('in0', 'out0'): Array(0.70710678, dtype=float64),\n",
              " ('in0', 'out1'): Array(0.70710678, dtype=float64),\n",
              " ('in1', 'out0'): Array(0.70710678, dtype=float64),\n",
              " ('in1', 'out1'): Array(0.70710678, dtype=float64),\n",
              " ('out0', 'in0'): Array(0.70710678, dtype=float64),\n",
              " ('out0', 'in1'): Array(0.70710678, dtype=float64),\n",
              " ('out1', 'in0'): Array(0.70710678, dtype=float64),\n",
              " ('out1', 'in1'): Array(0.70710678, dtype=float64)}"
            ]
          },
          "execution_count": 11,
          "metadata": {},
          "output_type": "execute_result"
        }
      ],
      "source": [
        "unitary_sdict_model = sax.sdict(unitary_model)\n",
        "unitary_sdict_model()"
      ]
    },
    {
      "cell_type": "markdown",
      "id": "e9a1a46b-b10a-471b-b835-7b6d8d49175a",
      "metadata": {
        "papermill": {
          "duration": 0.004992,
          "end_time": "2023-09-01T16:51:18.938527",
          "exception": false,
          "start_time": "2023-09-01T16:51:18.933535",
          "status": "completed"
        },
        "tags": []
      },
      "source": [
        "If we need custom port names, we can also just specify them explicitly:"
      ]
    },
    {
      "cell_type": "code",
      "execution_count": 12,
      "id": "66abe9b0",
      "metadata": {
        "execution": {
          "iopub.execute_input": "2023-09-01T16:51:18.949698Z",
          "iopub.status.busy": "2023-09-01T16:51:18.949280Z",
          "iopub.status.idle": "2023-09-01T16:51:18.966380Z",
          "shell.execute_reply": "2023-09-01T16:51:18.965937Z"
        },
        "papermill": {
          "duration": 0.024079,
          "end_time": "2023-09-01T16:51:18.967658",
          "exception": false,
          "start_time": "2023-09-01T16:51:18.943579",
          "status": "completed"
        },
        "tags": []
      },
      "outputs": [
        {
          "data": {
            "text/plain": [
              "(Array([0, 0, 1, 1, 2, 2, 3, 3], dtype=int64),\n",
              " Array([2, 3, 2, 3, 0, 1, 0, 1], dtype=int64),\n",
              " Array([0.70710678, 0.70710678, 0.70710678, 0.70710678, 0.70710678,\n",
              "        0.70710678, 0.70710678, 0.70710678], dtype=float64),\n",
              " {'in0': Array(0, dtype=int64, weak_type=True),\n",
              "  'in1': Array(1, dtype=int64, weak_type=True),\n",
              "  'out0': Array(2, dtype=int64, weak_type=True),\n",
              "  'out1': Array(3, dtype=int64, weak_type=True)})"
            ]
          },
          "execution_count": 12,
          "metadata": {},
          "output_type": "execute_result"
        }
      ],
      "source": [
        "unitary_model = unitary(ports=(\"in0\", \"in1\", \"out0\", \"out1\"))\n",
        "unitary_model()"
      ]
    },
    {
      "cell_type": "markdown",
      "id": "ebf14c1c-ccfb-44e6-8572-18b366ffab91",
      "metadata": {
        "papermill": {
          "duration": 0.005442,
          "end_time": "2023-09-01T16:51:18.978321",
          "exception": false,
          "start_time": "2023-09-01T16:51:18.972879",
          "status": "completed"
        },
        "tags": []
      },
      "source": [
        "A unitary model will by default split a signal at an input port equally over all output ports. However, if there are an equal number of input ports as output ports we can in stead create a passthru by setting the `diagonal` flag to `True`:"
      ]
    },
    {
      "cell_type": "code",
      "execution_count": 13,
      "id": "7c1d61a3",
      "metadata": {
        "execution": {
          "iopub.execute_input": "2023-09-01T16:51:18.989649Z",
          "iopub.status.busy": "2023-09-01T16:51:18.989130Z",
          "iopub.status.idle": "2023-09-01T16:51:19.291257Z",
          "shell.execute_reply": "2023-09-01T16:51:19.290872Z"
        },
        "papermill": {
          "duration": 0.309018,
          "end_time": "2023-09-01T16:51:19.292413",
          "exception": false,
          "start_time": "2023-09-01T16:51:18.983395",
          "status": "completed"
        },
        "tags": []
      },
      "outputs": [
        {
          "data": {
            "text/plain": [
              "{('in0', 'out0'): Array(1., dtype=float64),\n",
              " ('in1', 'out1'): Array(1., dtype=float64),\n",
              " ('out0', 'in0'): Array(1., dtype=float64),\n",
              " ('out1', 'in1'): Array(1., dtype=float64)}"
            ]
          },
          "execution_count": 13,
          "metadata": {},
          "output_type": "execute_result"
        }
      ],
      "source": [
        "passthru_model = unitary(2, 2, diagonal=True)\n",
        "sax.sdict(passthru_model())"
      ]
    },
    {
      "cell_type": "code",
      "execution_count": 14,
      "id": "7f93b145",
      "metadata": {
        "execution": {
          "iopub.execute_input": "2023-09-01T16:51:19.304126Z",
          "iopub.status.busy": "2023-09-01T16:51:19.303731Z",
          "iopub.status.idle": "2023-09-01T16:51:20.143834Z",
          "shell.execute_reply": "2023-09-01T16:51:20.143417Z"
        },
        "papermill": {
          "duration": 0.847217,
          "end_time": "2023-09-01T16:51:20.145035",
          "exception": false,
          "start_time": "2023-09-01T16:51:19.297818",
          "status": "completed"
        },
        "tags": []
      },
      "outputs": [
        {
          "data": {
            "text/plain": [
              "{('in0', 'out0'): Array(0.4472136, dtype=float64),\n",
              " ('in0', 'out1'): Array(0.4472136, dtype=float64),\n",
              " ('in0', 'out2'): Array(0.4472136, dtype=float64),\n",
              " ('in0', 'out3'): Array(0.4472136, dtype=float64),\n",
              " ('in0', 'out4'): Array(0.4472136, dtype=float64),\n",
              " ('out0', 'in0'): Array(0.4472136, dtype=float64),\n",
              " ('out1', 'in0'): Array(0.4472136, dtype=float64),\n",
              " ('out2', 'in0'): Array(0.4472136, dtype=float64),\n",
              " ('out3', 'in0'): Array(0.4472136, dtype=float64),\n",
              " ('out4', 'in0'): Array(0.4472136, dtype=float64)}"
            ]
          },
          "execution_count": 14,
          "metadata": {},
          "output_type": "execute_result"
        }
      ],
      "source": [
        "ports_in=['in0']\n",
        "ports_out=['out0', 'out1', 'out2', 'out3', 'out4']\n",
        "model = unitary(\n",
        "    ports=tuple(ports_in+ports_out), jit=True, reciprocal=True\n",
        ")\n",
        "model = sax.sdict(model)\n",
        "model()"
      ]
    },
    {
      "cell_type": "markdown",
      "id": "8b149d44-5487-4e50-a2f2-1ad0aca99dac",
      "metadata": {
        "papermill": {
          "duration": 0.005483,
          "end_time": "2023-09-01T16:51:20.156280",
          "exception": false,
          "start_time": "2023-09-01T16:51:20.150797",
          "status": "completed"
        },
        "tags": []
      },
      "source": [
        "Because this is a pretty common usecase we have a dedicated model factory for this as well. This passthru component just takes the number of links (`'in{i}' -> 'out{i]'`) as input. Alternatively, as before, one can also specify the port names directly but one needs to ensure that `len(ports) == 2*num_links`."
      ]
    },
    {
      "cell_type": "markdown",
      "id": "0498e78bc4880d2c",
      "metadata": {},
      "source": [
        ":::{eval-rst}\n",
        ".. autofunction:: sax.models.passthru\n",
        ":::\n"
      ]
    },
    {
      "cell_type": "code",
      "execution_count": 15,
      "id": "049a37bfc9635df3",
      "metadata": {
        "execution": {
          "iopub.execute_input": "2023-09-01T16:51:20.168388Z",
          "iopub.status.busy": "2023-09-01T16:51:20.167927Z",
          "iopub.status.idle": "2023-09-01T16:51:20.171862Z",
          "shell.execute_reply": "2023-09-01T16:51:20.171411Z"
        },
        "papermill": {
          "duration": 0.011574,
          "end_time": "2023-09-01T16:51:20.173176",
          "exception": false,
          "start_time": "2023-09-01T16:51:20.161602",
          "status": "completed"
        },
        "tags": [
          "hide-input"
        ]
      },
      "outputs": [],
      "source": [
        "@cache\n",
        "def passthru(\n",
        "    num_links: Optional[int] = None,\n",
        "    ports: Optional[Tuple[str, ...]] = None,\n",
        "    *,\n",
        "    jit=True,\n",
        "    reciprocal=True,\n",
        ") -> Model:\n",
        "    passthru = unitary(num_links, num_links, ports, jit=jit, reciprocal=reciprocal, diagonal=True)\n",
        "    passthru.__name__ = f\"passthru_{num_links}_{num_links}\"\n",
        "    passthru.__qualname__ = f\"passthru_{num_links}_{num_links}\"\n",
        "    if jit:\n",
        "        return jax.jit(passthru)\n",
        "    return passthru"
      ]
    },
    {
      "cell_type": "code",
      "execution_count": 16,
      "id": "9e8b6cd7-56d4-4697-9a6e-33c929f3d853",
      "metadata": {
        "execution": {
          "iopub.execute_input": "2023-09-01T16:51:20.184987Z",
          "iopub.status.busy": "2023-09-01T16:51:20.184658Z",
          "iopub.status.idle": "2023-09-01T16:51:20.763773Z",
          "shell.execute_reply": "2023-09-01T16:51:20.763370Z"
        },
        "papermill": {
          "duration": 0.586537,
          "end_time": "2023-09-01T16:51:20.765088",
          "exception": false,
          "start_time": "2023-09-01T16:51:20.178551",
          "status": "completed"
        },
        "tags": []
      },
      "outputs": [
        {
          "data": {
            "text/plain": [
              "{('in0', 'out0'): Array(1., dtype=float64),\n",
              " ('in1', 'out1'): Array(1., dtype=float64),\n",
              " ('in2', 'out2'): Array(1., dtype=float64),\n",
              " ('out0', 'in0'): Array(1., dtype=float64),\n",
              " ('out1', 'in1'): Array(1., dtype=float64),\n",
              " ('out2', 'in2'): Array(1., dtype=float64)}"
            ]
          },
          "execution_count": 16,
          "metadata": {},
          "output_type": "execute_result"
        }
      ],
      "source": [
        "passthru_model = passthru(3)\n",
        "passthru_sdict_model = sax.sdict(passthru_model)\n",
        "passthru_sdict_model()"
      ]
    },
    {
      "cell_type": "code",
      "execution_count": 17,
      "id": "690e718c-2d84-4177-b8ad-ff39cf8c4691",
      "metadata": {
        "execution": {
          "iopub.execute_input": "2023-09-01T16:51:20.777932Z",
          "iopub.status.busy": "2023-09-01T16:51:20.777516Z",
          "iopub.status.idle": "2023-09-01T16:51:21.996593Z",
          "shell.execute_reply": "2023-09-01T16:51:21.996208Z"
        },
        "papermill": {
          "duration": 1.226997,
          "end_time": "2023-09-01T16:51:21.997882",
          "exception": false,
          "start_time": "2023-09-01T16:51:20.770885",
          "status": "completed"
        },
        "tags": []
      },
      "outputs": [
        {
          "data": {
            "text/plain": [
              "{('in0', 'in0'): Array(0., dtype=float64),\n",
              " ('in0', 'out0'): Array(1., dtype=float64),\n",
              " ('out0', 'in0'): Array(1., dtype=float64),\n",
              " ('out0', 'out0'): Array(0., dtype=float64)}"
            ]
          },
          "execution_count": 17,
          "metadata": {},
          "output_type": "execute_result"
        }
      ],
      "source": [
        "mzi, _ = sax.circuit(\n",
        "    netlist={\n",
        "        \"instances\": {\n",
        "            \"lft\": 'u12',\n",
        "            \"top\": 'u11',\n",
        "            \"rgt\": 'u12',\n",
        "        },\n",
        "        \"connections\": {\n",
        "            \"lft,out0\": \"rgt,out0\",\n",
        "            \"lft,out1\": \"top,in0\",\n",
        "            \"top,out0\": \"rgt,out1\",\n",
        "        },\n",
        "        \"ports\": {\n",
        "            \"in0\": \"lft,in0\",\n",
        "            \"out0\": \"rgt,in0\",\n",
        "        },\n",
        "    },\n",
        "    models={\n",
        "        'u12': unitary(1, 2),\n",
        "        'u11': unitary(1, 1),\n",
        "    },\n",
        ")\n",
        "mzi()"
      ]
    },
    {
      "cell_type": "markdown",
      "id": "3edb0ebadf84e27a",
      "metadata": {},
      "source": [
        ":::{eval-rst}\n",
        ".. autofunction:: sax.models.copier\n",
        ":::\n"
      ]
    },
    {
      "cell_type": "code",
      "execution_count": 18,
      "id": "85ee220918f23ac8",
      "metadata": {
        "execution": {
          "iopub.execute_input": "2023-09-01T16:51:22.010441Z",
          "iopub.status.busy": "2023-09-01T16:51:22.010240Z",
          "iopub.status.idle": "2023-09-01T16:51:22.018128Z",
          "shell.execute_reply": "2023-09-01T16:51:22.017682Z"
        },
        "papermill": {
          "duration": 0.015696,
          "end_time": "2023-09-01T16:51:22.019294",
          "exception": false,
          "start_time": "2023-09-01T16:51:22.003598",
          "status": "completed"
        },
        "tags": [
          "hide-input"
        ]
      },
      "outputs": [],
      "source": [
        "\n",
        "@cache\n",
        "def copier(\n",
        "    num_inputs: Optional[int] = None,\n",
        "    num_outputs: Optional[int] = None,\n",
        "    ports: Optional[Tuple[str, ...]] = None,\n",
        "    *,\n",
        "    jit=True,\n",
        "    reciprocal=True,\n",
        "    diagonal=False,\n",
        ") -> Model:\n",
        "        \n",
        "    input_ports, output_ports, num_inputs, num_outputs = _validate_ports(ports, num_inputs, num_outputs, diagonal)\n",
        "    assert num_inputs is not None and num_outputs is not None\n",
        "    \n",
        "    # let's create the squared S-matrix:\n",
        "    S = jnp.zeros((num_inputs+num_outputs, num_inputs+num_outputs), dtype=float)\n",
        "\n",
        "    if not diagonal:\n",
        "        if JAX_AVAILABLE:\n",
        "            S = S.at[:num_inputs, num_inputs:].set(1)\n",
        "        else:\n",
        "            S[:num_inputs, num_inputs:] = 1\n",
        "    else:\n",
        "        r = jnp.arange(num_inputs, dtype=int) # == range(num_outputs) # reciprocal only works if num_inputs == num_outputs!\n",
        "        if JAX_AVAILABLE:\n",
        "            S = S.at[r, num_inputs+r].set(1)\n",
        "        else:\n",
        "            S[r, num_inputs+r] = 1\n",
        "\n",
        "    if reciprocal:\n",
        "        if not diagonal:\n",
        "            if JAX_AVAILABLE:\n",
        "                S = S.at[num_inputs:, :num_inputs].set(1)\n",
        "            else:\n",
        "                S[num_inputs:, :num_inputs] = 1\n",
        "        else:\n",
        "            r = jnp.arange(num_inputs, dtype=int) # == range(num_outputs) # reciprocal only works if num_inputs == num_outputs!\n",
        "            if JAX_AVAILABLE:\n",
        "                S = S.at[num_inputs+r, r].set(1)\n",
        "            else:\n",
        "                S[num_inputs+r, r] = 1\n",
        "\n",
        "    # let's convert it in SCOO format:\n",
        "    Si, Sj = jnp.where(S > 1e-6)\n",
        "    Sx = S[Si, Sj]\n",
        "    \n",
        "    # the last missing piece is a port map:\n",
        "    pm = {\n",
        "        **{p: i for i, p in enumerate(input_ports)},\n",
        "        **{p: i + num_inputs for i, p in enumerate(output_ports)},\n",
        "    }\n",
        "    \n",
        "    def func(wl: float = 1.5) -> SCoo:\n",
        "        wl_ = jnp.asarray(wl)\n",
        "        Sx_ = jnp.broadcast_to(Sx, (*wl_.shape, *Sx.shape))\n",
        "        return Si, Sj, Sx_, pm\n",
        "\n",
        "    func.__name__ = f\"unitary_{num_inputs}_{num_outputs}\"\n",
        "    func.__qualname__ = f\"unitary_{num_inputs}_{num_outputs}\"\n",
        "    if jit:\n",
        "        return jax.jit(func)\n",
        "    return func"
      ]
    },
    {
      "cell_type": "markdown",
      "id": "77014d0f-1a08-4b4b-a011-cf11cd9684b8",
      "metadata": {
        "papermill": {
          "duration": 0.005841,
          "end_time": "2023-09-01T16:51:22.030956",
          "exception": false,
          "start_time": "2023-09-01T16:51:22.025115",
          "status": "completed"
        },
        "tags": []
      },
      "source": [
        "A copier model is like a unitary model, but copies the input signal over all output signals. Hence, if the model has multiple output ports, this model can be considered to introduce gain. That said, it can sometimes be a useful component."
      ]
    },
    {
      "cell_type": "code",
      "execution_count": 19,
      "id": "c2a61a9f-51ea-455f-a66f-94719b43520e",
      "metadata": {
        "execution": {
          "iopub.execute_input": "2023-09-01T16:51:22.043162Z",
          "iopub.status.busy": "2023-09-01T16:51:22.042737Z",
          "iopub.status.idle": "2023-09-01T16:51:22.056845Z",
          "shell.execute_reply": "2023-09-01T16:51:22.056454Z"
        },
        "papermill": {
          "duration": 0.021517,
          "end_time": "2023-09-01T16:51:22.057964",
          "exception": false,
          "start_time": "2023-09-01T16:51:22.036447",
          "status": "completed"
        },
        "tags": []
      },
      "outputs": [
        {
          "data": {
            "text/plain": [
              "(Array([0, 0, 1, 1, 2, 2, 3, 3], dtype=int64),\n",
              " Array([2, 3, 2, 3, 0, 1, 0, 1], dtype=int64),\n",
              " Array([1., 1., 1., 1., 1., 1., 1., 1.], dtype=float64),\n",
              " {'in0': Array(0, dtype=int64, weak_type=True),\n",
              "  'in1': Array(1, dtype=int64, weak_type=True),\n",
              "  'out0': Array(2, dtype=int64, weak_type=True),\n",
              "  'out1': Array(3, dtype=int64, weak_type=True)})"
            ]
          },
          "execution_count": 19,
          "metadata": {},
          "output_type": "execute_result"
        }
      ],
      "source": [
        "copier_model = copier(2, 2)\n",
        "copier_model() # a copier model returns an SCoo by default"
      ]
    },
    {
      "cell_type": "markdown",
      "id": "fbd51c6c-c059-4717-9dae-447becc7e8d5",
      "metadata": {
        "papermill": {
          "duration": 0.00585,
          "end_time": "2023-09-01T16:51:22.069549",
          "exception": false,
          "start_time": "2023-09-01T16:51:22.063699",
          "status": "completed"
        },
        "tags": []
      },
      "source": [
        "As you probably already know, it's very easy to convert a model returning any `Stype` into a model returning an `SDict` as follows:"
      ]
    },
    {
      "cell_type": "code",
      "execution_count": 20,
      "id": "becda099-b5d9-494c-a6b2-9828be10c4a5",
      "metadata": {
        "execution": {
          "iopub.execute_input": "2023-09-01T16:51:22.083204Z",
          "iopub.status.busy": "2023-09-01T16:51:22.082628Z",
          "iopub.status.idle": "2023-09-01T16:51:22.092480Z",
          "shell.execute_reply": "2023-09-01T16:51:22.092090Z"
        },
        "papermill": {
          "duration": 0.017865,
          "end_time": "2023-09-01T16:51:22.093596",
          "exception": false,
          "start_time": "2023-09-01T16:51:22.075731",
          "status": "completed"
        },
        "tags": []
      },
      "outputs": [
        {
          "data": {
            "text/plain": [
              "{('in0', 'out0'): Array(1., dtype=float64),\n",
              " ('in0', 'out1'): Array(1., dtype=float64),\n",
              " ('in1', 'out0'): Array(1., dtype=float64),\n",
              " ('in1', 'out1'): Array(1., dtype=float64),\n",
              " ('out0', 'in0'): Array(1., dtype=float64),\n",
              " ('out0', 'in1'): Array(1., dtype=float64),\n",
              " ('out1', 'in0'): Array(1., dtype=float64),\n",
              " ('out1', 'in1'): Array(1., dtype=float64)}"
            ]
          },
          "execution_count": 20,
          "metadata": {},
          "output_type": "execute_result"
        }
      ],
      "source": [
        "copier_sdict_model = sax.sdict(copier_model)\n",
        "copier_sdict_model()"
      ]
    },
    {
      "cell_type": "markdown",
      "id": "1ad16d1b-f685-4ab9-a8c4-41efbbdae4fa",
      "metadata": {
        "papermill": {
          "duration": 0.005848,
          "end_time": "2023-09-01T16:51:22.105273",
          "exception": false,
          "start_time": "2023-09-01T16:51:22.099425",
          "status": "completed"
        },
        "tags": []
      },
      "source": [
        "If we need custom port names, we can also just specify them explicitly:"
      ]
    },
    {
      "cell_type": "code",
      "execution_count": 21,
      "id": "297d1e45-b881-440b-b887-b38c5517596e",
      "metadata": {
        "execution": {
          "iopub.execute_input": "2023-09-01T16:51:22.118109Z",
          "iopub.status.busy": "2023-09-01T16:51:22.117587Z",
          "iopub.status.idle": "2023-09-01T16:51:22.133403Z",
          "shell.execute_reply": "2023-09-01T16:51:22.133067Z"
        },
        "papermill": {
          "duration": 0.023674,
          "end_time": "2023-09-01T16:51:22.134711",
          "exception": false,
          "start_time": "2023-09-01T16:51:22.111037",
          "status": "completed"
        },
        "tags": []
      },
      "outputs": [
        {
          "data": {
            "text/plain": [
              "(Array([0, 0, 1, 1, 2, 2, 3, 3], dtype=int64),\n",
              " Array([2, 3, 2, 3, 0, 1, 0, 1], dtype=int64),\n",
              " Array([1., 1., 1., 1., 1., 1., 1., 1.], dtype=float64),\n",
              " {'in0': Array(0, dtype=int64, weak_type=True),\n",
              "  'in1': Array(1, dtype=int64, weak_type=True),\n",
              "  'out0': Array(2, dtype=int64, weak_type=True),\n",
              "  'out1': Array(3, dtype=int64, weak_type=True)})"
            ]
          },
          "execution_count": 21,
          "metadata": {},
          "output_type": "execute_result"
        }
      ],
      "source": [
        "copier_model = copier(ports=(\"in0\", \"in1\", \"out0\", \"out1\"))\n",
        "copier_model()"
      ]
    },
    {
      "cell_type": "code",
      "execution_count": 22,
      "id": "608d7114-03ac-4f5f-9790-cf65379d81dd",
      "metadata": {
        "execution": {
          "iopub.execute_input": "2023-09-01T16:51:22.148263Z",
          "iopub.status.busy": "2023-09-01T16:51:22.147727Z",
          "iopub.status.idle": "2023-09-01T16:51:22.159216Z",
          "shell.execute_reply": "2023-09-01T16:51:22.158813Z"
        },
        "papermill": {
          "duration": 0.019391,
          "end_time": "2023-09-01T16:51:22.160309",
          "exception": false,
          "start_time": "2023-09-01T16:51:22.140918",
          "status": "completed"
        },
        "tags": []
      },
      "outputs": [
        {
          "data": {
            "text/plain": [
              "{('in0', 'out0'): Array(0.4472136, dtype=float64),\n",
              " ('in0', 'out1'): Array(0.4472136, dtype=float64),\n",
              " ('in0', 'out2'): Array(0.4472136, dtype=float64),\n",
              " ('in0', 'out3'): Array(0.4472136, dtype=float64),\n",
              " ('in0', 'out4'): Array(0.4472136, dtype=float64),\n",
              " ('out0', 'in0'): Array(0.4472136, dtype=float64),\n",
              " ('out1', 'in0'): Array(0.4472136, dtype=float64),\n",
              " ('out2', 'in0'): Array(0.4472136, dtype=float64),\n",
              " ('out3', 'in0'): Array(0.4472136, dtype=float64),\n",
              " ('out4', 'in0'): Array(0.4472136, dtype=float64)}"
            ]
          },
          "execution_count": 22,
          "metadata": {},
          "output_type": "execute_result"
        }
      ],
      "source": [
        "ports_in=['in0']\n",
        "ports_out=['out0', 'out1', 'out2', 'out3', 'out4']\n",
        "model = unitary(\n",
        "    ports=tuple(ports_in+ports_out), jit=True, reciprocal=True\n",
        ")\n",
        "model = sax.sdict(model)\n",
        "model()"
      ]
    },
    {
      "cell_type": "markdown",
      "id": "6d024e5b-95a9-44e5-9dbc-4980249e73a7",
      "metadata": {
        "papermill": {
          "duration": 0.006064,
          "end_time": "2023-09-01T16:51:22.172457",
          "exception": false,
          "start_time": "2023-09-01T16:51:22.166393",
          "status": "completed"
        },
        "tags": []
      },
      "source": [
        "Because this is a pretty common usecase we have a dedicated model factory for this as well. This passthru component just takes the number of links (`'in{i}' -> 'out{i]'`) as input. Alternatively, as before, one can also specify the port names directly but one needs to ensure that `len(ports) == 2*num_links`."
      ]
    },
    {
      "cell_type": "markdown",
      "id": "625ba6a0cd9e0974",
      "metadata": {},
      "source": [
        ":::{eval-rst}\n",
        ".. autofunction:: sax.models.passthru\n",
        ":::\n"
      ]
    },
    {
      "cell_type": "code",
      "execution_count": 23,
      "id": "10770588b4f59f70",
      "metadata": {
        "execution": {
          "iopub.execute_input": "2023-09-01T16:51:22.185603Z",
          "iopub.status.busy": "2023-09-01T16:51:22.185189Z",
          "iopub.status.idle": "2023-09-01T16:51:22.188895Z",
          "shell.execute_reply": "2023-09-01T16:51:22.188490Z"
        },
        "papermill": {
          "duration": 0.0116,
          "end_time": "2023-09-01T16:51:22.190052",
          "exception": false,
          "start_time": "2023-09-01T16:51:22.178452",
          "status": "completed"
        },
        "tags": [
          "hide-input"
        ]
      },
      "outputs": [],
      "source": [
        "@cache\n",
        "def passthru(\n",
        "    num_links: Optional[int] = None,\n",
        "    ports: Optional[Tuple[str, ...]] = None,\n",
        "    *,\n",
        "    jit=True,\n",
        "    reciprocal=True,\n",
        ") -> Model:\n",
        "    passthru = unitary(num_links, num_links, ports, jit=jit, reciprocal=reciprocal, diagonal=True)\n",
        "    passthru.__name__ = f\"passthru_{num_links}_{num_links}\"\n",
        "    passthru.__qualname__ = f\"passthru_{num_links}_{num_links}\"\n",
        "    if jit:\n",
        "        return jax.jit(passthru)\n",
        "    return passthru"
      ]
    },
    {
      "cell_type": "code",
      "execution_count": 24,
      "id": "4a063810-224b-446c-a59d-12a20b56e82e",
      "metadata": {
        "execution": {
          "iopub.execute_input": "2023-09-01T16:51:22.203004Z",
          "iopub.status.busy": "2023-09-01T16:51:22.202809Z",
          "iopub.status.idle": "2023-09-01T16:51:22.210921Z",
          "shell.execute_reply": "2023-09-01T16:51:22.210509Z"
        },
        "papermill": {
          "duration": 0.016464,
          "end_time": "2023-09-01T16:51:22.212550",
          "exception": false,
          "start_time": "2023-09-01T16:51:22.196086",
          "status": "completed"
        },
        "tags": []
      },
      "outputs": [
        {
          "data": {
            "text/plain": [
              "{('in0', 'out0'): Array(1., dtype=float64),\n",
              " ('in1', 'out1'): Array(1., dtype=float64),\n",
              " ('in2', 'out2'): Array(1., dtype=float64),\n",
              " ('out0', 'in0'): Array(1., dtype=float64),\n",
              " ('out1', 'in1'): Array(1., dtype=float64),\n",
              " ('out2', 'in2'): Array(1., dtype=float64)}"
            ]
          },
          "execution_count": 24,
          "metadata": {},
          "output_type": "execute_result"
        }
      ],
      "source": [
        "passthru_model = passthru(3)\n",
        "passthru_sdict_model = sax.sdict(passthru_model)\n",
        "passthru_sdict_model()"
      ]
    },
    {
      "cell_type": "markdown",
      "id": "bb6e94aa",
      "metadata": {
        "papermill": {
          "duration": 0.006168,
          "end_time": "2023-09-01T16:51:22.224877",
          "exception": false,
          "start_time": "2023-09-01T16:51:22.218709",
          "status": "completed"
        },
        "tags": []
      },
      "source": [
        "## All Models"
      ]
    },
    {
      "cell_type": "markdown",
      "id": "2bf180892d9be794",
      "metadata": {},
      "source": [
        ":::{eval-rst}\n",
        ".. autofunction:: sax.models.get_models\n",
        ":::\n"
      ]
    },
    {
      "cell_type": "code",
      "execution_count": 25,
      "id": "46efc18a38fc9f68",
      "metadata": {
        "execution": {
          "iopub.execute_input": "2023-09-01T16:51:22.238570Z",
          "iopub.status.busy": "2023-09-01T16:51:22.238028Z",
          "iopub.status.idle": "2023-09-01T16:51:22.242248Z",
          "shell.execute_reply": "2023-09-01T16:51:22.241832Z"
        },
        "papermill": {
          "duration": 0.012465,
          "end_time": "2023-09-01T16:51:22.243457",
          "exception": false,
          "start_time": "2023-09-01T16:51:22.230992",
          "status": "completed"
        },
        "tags": []
      },
      "outputs": [],
      "source": [
        "\n",
        "models = {\n",
        "    \"copier\": copier,\n",
        "    \"coupler\": coupler,\n",
        "    \"passthru\": passthru,\n",
        "    \"straight\": straight,\n",
        "    \"unitary\": unitary,\n",
        "}\n",
        "\n",
        "def get_models(copy: bool=True):\n",
        "    if copy:\n",
        "        return {**models}\n",
        "    return models"
      ]
    }
  ],
  "metadata": {
    "kernelspec": {
      "display_name": "sax",
      "language": "python",
      "name": "sax"
    },
    "language_info": {
      "codemirror_mode": {
        "name": "ipython",
        "version": 3
      },
      "file_extension": ".py",
      "mimetype": "text/x-python",
      "name": "python",
      "nbconvert_exporter": "python",
      "pygments_lexer": "ipython3",
      "version": "3.11.5"
    },
    "papermill": {
      "default_parameters": {},
      "duration": 6.935431,
      "end_time": "2023-09-01T16:51:22.666491",
      "environment_variables": {},
      "exception": null,
      "input_path": "./nbs/05_models.ipynb",
      "output_path": "./nbs/05_models.ipynb",
      "parameters": {},
      "start_time": "2023-09-01T16:51:15.731060",
      "version": "2.4.0"
    }
  },
  "nbformat": 4,
  "nbformat_minor": 5
}