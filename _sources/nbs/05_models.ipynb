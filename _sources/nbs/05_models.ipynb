{
  "cells": [
    {
      "cell_type": "code",
      "execution_count": 1,
      "id": "f0c8987997efd86f",
      "metadata": {
        "execution": {
          "iopub.execute_input": "2023-07-01T03:32:00.675223Z",
          "iopub.status.busy": "2023-07-01T03:32:00.675002Z",
          "iopub.status.idle": "2023-07-01T03:32:00.679229Z",
          "shell.execute_reply": "2023-07-01T03:32:00.678766Z"
        },
        "papermill": {
          "duration": 0.012956,
          "end_time": "2023-07-01T03:32:00.680461",
          "exception": false,
          "start_time": "2023-07-01T03:32:00.667505",
          "status": "completed"
        },
        "tags": [
          "remove-cell"
        ]
      },
      "outputs": [],
      "source": []
    },
    {
      "cell_type": "markdown",
      "id": "986cb864",
      "metadata": {
        "papermill": {
          "duration": 0.01347,
          "end_time": "2023-07-01T03:32:00.698575",
          "exception": false,
          "start_time": "2023-07-01T03:32:00.685105",
          "status": "completed"
        },
        "tags": []
      },
      "source": [
        "# Models\n",
        "\n",
        "> Default SAX Models"
      ]
    },
    {
      "cell_type": "code",
      "execution_count": 2,
      "id": "df69ee0a431fc770",
      "metadata": {
        "execution": {
          "iopub.execute_input": "2023-07-01T03:32:00.715038Z",
          "iopub.status.busy": "2023-07-01T03:32:00.714839Z",
          "iopub.status.idle": "2023-07-01T03:32:00.719733Z",
          "shell.execute_reply": "2023-07-01T03:32:00.719385Z"
        },
        "papermill": {
          "duration": 0.01788,
          "end_time": "2023-07-01T03:32:00.720820",
          "exception": false,
          "start_time": "2023-07-01T03:32:00.702940",
          "status": "completed"
        },
        "tags": [
          "remove-cell"
        ]
      },
      "outputs": [],
      "source": [
        "import os, sys; sys.stderr = open(os.devnull, \"w\")"
      ]
    },
    {
      "cell_type": "code",
      "execution_count": 3,
      "id": "f2421d9b7d030524",
      "metadata": {
        "execution": {
          "iopub.execute_input": "2023-07-01T03:32:00.735427Z",
          "iopub.status.busy": "2023-07-01T03:32:00.735245Z",
          "iopub.status.idle": "2023-07-01T03:32:01.840041Z",
          "shell.execute_reply": "2023-07-01T03:32:01.839616Z"
        },
        "papermill": {
          "duration": 1.116304,
          "end_time": "2023-07-01T03:32:01.841446",
          "exception": false,
          "start_time": "2023-07-01T03:32:00.725142",
          "status": "completed"
        },
        "tags": [
          "hide-input"
        ]
      },
      "outputs": [],
      "source": [
        "from __future__ import annotations\n",
        "\n",
        "import warnings\n",
        "from functools import lru_cache as cache\n",
        "from types import SimpleNamespace\n",
        "from typing import Optional, Tuple\n",
        "\n",
        "import sax\n",
        "from sax.typing_ import Model, SCoo, SDict\n",
        "from sax.utils import get_inputs_outputs, reciprocal\n",
        "\n",
        "try:\n",
        "    import jax\n",
        "    import jax.numpy as jnp\n",
        "    JAX_AVAILABLE = True\n",
        "except ImportError:\n",
        "    import numpy as jnp\n",
        "    \n",
        "    def jit(func, *args, **kwargs):\n",
        "        warnings.warn(\"[NO JAX] skipping jit! Please install JAX!\")\n",
        "        return func\n",
        "    \n",
        "    jax = SimpleNamespace(jit=jit)\n",
        "    \n",
        "    JAX_AVAILABLE = False"
      ]
    },
    {
      "cell_type": "markdown",
      "id": "efa9b619",
      "metadata": {
        "papermill": {
          "duration": 0.006396,
          "end_time": "2023-07-01T03:32:01.852493",
          "exception": false,
          "start_time": "2023-07-01T03:32:01.846097",
          "status": "completed"
        },
        "tags": []
      },
      "source": [
        "## Standard Models"
      ]
    },
    {
      "cell_type": "markdown",
      "id": "2f8728786d859703",
      "metadata": {},
      "source": [
        ":::{eval-rst}\n",
        ".. autofunction:: sax.models.straight\n",
        ":::\n"
      ]
    },
    {
      "cell_type": "code",
      "execution_count": 4,
      "id": "4a03095039847a2a",
      "metadata": {
        "execution": {
          "iopub.execute_input": "2023-07-01T03:32:01.872322Z",
          "iopub.status.busy": "2023-07-01T03:32:01.871986Z",
          "iopub.status.idle": "2023-07-01T03:32:01.876533Z",
          "shell.execute_reply": "2023-07-01T03:32:01.876163Z"
        },
        "papermill": {
          "duration": 0.016524,
          "end_time": "2023-07-01T03:32:01.878070",
          "exception": false,
          "start_time": "2023-07-01T03:32:01.861546",
          "status": "completed"
        },
        "tags": [
          "hide-input"
        ]
      },
      "outputs": [],
      "source": [
        "\n",
        "def straight(\n",
        "    *,\n",
        "    wl: float = 1.55,\n",
        "    wl0: float = 1.55,\n",
        "    neff: float = 2.34,\n",
        "    ng: float = 3.4,\n",
        "    length: float = 10.0,\n",
        "    loss: float = 0.0\n",
        ") -> SDict:\n",
        "    \"\"\"a simple straight waveguide model\"\"\"\n",
        "    dwl = wl - wl0\n",
        "    dneff_dwl = (ng - neff) / wl0\n",
        "    neff = neff - dwl * dneff_dwl\n",
        "    phase = 2 * jnp.pi * neff * length / wl\n",
        "    amplitude = jnp.asarray(10 ** (-loss * length / 20), dtype=complex)\n",
        "    transmission =  amplitude * jnp.exp(1j * phase)\n",
        "    sdict = reciprocal(\n",
        "        {\n",
        "            (\"in0\", \"out0\"): transmission,\n",
        "        }\n",
        "    )\n",
        "    return sdict"
      ]
    },
    {
      "cell_type": "code",
      "execution_count": 5,
      "id": "a99cec57",
      "metadata": {
        "execution": {
          "iopub.execute_input": "2023-07-01T03:32:01.895265Z",
          "iopub.status.busy": "2023-07-01T03:32:01.895056Z",
          "iopub.status.idle": "2023-07-01T03:32:01.970577Z",
          "shell.execute_reply": "2023-07-01T03:32:01.970209Z"
        },
        "papermill": {
          "duration": 0.086948,
          "end_time": "2023-07-01T03:32:01.971841",
          "exception": false,
          "start_time": "2023-07-01T03:32:01.884893",
          "status": "completed"
        },
        "tags": []
      },
      "outputs": [
        {
          "data": {
            "text/plain": [
              "{('in0', 'out0'): Array(0.82076484+0.5712662j, dtype=complex64),\n",
              " ('out0', 'in0'): Array(0.82076484+0.5712662j, dtype=complex64)}"
            ]
          },
          "execution_count": 5,
          "metadata": {},
          "output_type": "execute_result"
        }
      ],
      "source": [
        "straight()"
      ]
    },
    {
      "cell_type": "markdown",
      "id": "4a877ff97bdf4653",
      "metadata": {},
      "source": [
        ":::{eval-rst}\n",
        ".. autofunction:: sax.models.coupler\n",
        ":::\n"
      ]
    },
    {
      "cell_type": "code",
      "execution_count": 6,
      "id": "0f1b70a055c00436",
      "metadata": {
        "execution": {
          "iopub.execute_input": "2023-07-01T03:32:01.986342Z",
          "iopub.status.busy": "2023-07-01T03:32:01.986120Z",
          "iopub.status.idle": "2023-07-01T03:32:01.989442Z",
          "shell.execute_reply": "2023-07-01T03:32:01.989059Z"
        },
        "papermill": {
          "duration": 0.013886,
          "end_time": "2023-07-01T03:32:01.990536",
          "exception": false,
          "start_time": "2023-07-01T03:32:01.976650",
          "status": "completed"
        },
        "tags": [
          "hide-input"
        ]
      },
      "outputs": [],
      "source": [
        "\n",
        "def coupler(*, coupling: float = 0.5) -> SDict:\n",
        "    \"\"\"a simple coupler model\"\"\"\n",
        "    kappa = coupling ** 0.5\n",
        "    tau = (1 - coupling) ** 0.5\n",
        "    sdict = reciprocal(\n",
        "        {\n",
        "            (\"in0\", \"out0\"): tau,\n",
        "            (\"in0\", \"out1\"): 1j * kappa,\n",
        "            (\"in1\", \"out0\"): 1j * kappa,\n",
        "            (\"in1\", \"out1\"): tau,\n",
        "        }\n",
        "    )\n",
        "    return sdict"
      ]
    },
    {
      "cell_type": "code",
      "execution_count": 7,
      "id": "5fd87a22",
      "metadata": {
        "execution": {
          "iopub.execute_input": "2023-07-01T03:32:02.009264Z",
          "iopub.status.busy": "2023-07-01T03:32:02.009063Z",
          "iopub.status.idle": "2023-07-01T03:32:02.012658Z",
          "shell.execute_reply": "2023-07-01T03:32:02.012310Z"
        },
        "papermill": {
          "duration": 0.015598,
          "end_time": "2023-07-01T03:32:02.013710",
          "exception": false,
          "start_time": "2023-07-01T03:32:01.998112",
          "status": "completed"
        },
        "tags": []
      },
      "outputs": [
        {
          "data": {
            "text/plain": [
              "{('in0', 'out0'): 0.7071067811865476,\n",
              " ('in0', 'out1'): 0.7071067811865476j,\n",
              " ('in1', 'out0'): 0.7071067811865476j,\n",
              " ('in1', 'out1'): 0.7071067811865476,\n",
              " ('out0', 'in0'): 0.7071067811865476,\n",
              " ('out1', 'in0'): 0.7071067811865476j,\n",
              " ('out0', 'in1'): 0.7071067811865476j,\n",
              " ('out1', 'in1'): 0.7071067811865476}"
            ]
          },
          "execution_count": 7,
          "metadata": {},
          "output_type": "execute_result"
        }
      ],
      "source": [
        "coupler()"
      ]
    },
    {
      "cell_type": "markdown",
      "id": "ca06c12f",
      "metadata": {
        "papermill": {
          "duration": 0.00499,
          "end_time": "2023-07-01T03:32:02.028111",
          "exception": false,
          "start_time": "2023-07-01T03:32:02.023121",
          "status": "completed"
        },
        "tags": []
      },
      "source": [
        "## Model Factories"
      ]
    },
    {
      "cell_type": "code",
      "execution_count": 8,
      "id": "c42e677b014f2608",
      "metadata": {
        "execution": {
          "iopub.execute_input": "2023-07-01T03:32:02.053243Z",
          "iopub.status.busy": "2023-07-01T03:32:02.053017Z",
          "iopub.status.idle": "2023-07-01T03:32:02.058634Z",
          "shell.execute_reply": "2023-07-01T03:32:02.058256Z"
        },
        "papermill": {
          "duration": 0.021891,
          "end_time": "2023-07-01T03:32:02.059680",
          "exception": false,
          "start_time": "2023-07-01T03:32:02.037789",
          "status": "completed"
        },
        "tags": [
          "remove-cell"
        ]
      },
      "outputs": [],
      "source": [
        "\n",
        "def _validate_ports(ports, num_inputs, num_outputs, diagonal) -> Tuple[Tuple[str,...], Tuple[str,...], int, int]:\n",
        "    if ports is None:\n",
        "        if num_inputs is None or num_outputs is None:\n",
        "            raise ValueError(\n",
        "                \"if not ports given, you must specify how many input ports \"\n",
        "                \"and how many output ports a model has.\"\n",
        "            )\n",
        "        input_ports = [f\"in{i}\" for i in range(num_inputs)]\n",
        "        output_ports = [f\"out{i}\" for i in range(num_outputs)]\n",
        "    else:\n",
        "        if num_inputs is not None:\n",
        "            if num_outputs is None:\n",
        "                raise ValueError(\n",
        "                    \"if num_inputs is given, num_outputs should be given as well.\"\n",
        "                )\n",
        "        if num_outputs is not None:\n",
        "            if num_inputs is None:\n",
        "                raise ValueError(\n",
        "                    \"if num_outputs is given, num_inputs should be given as well.\"\n",
        "                )\n",
        "        if num_inputs is not None and num_outputs is not None:\n",
        "            if num_inputs + num_outputs != len(ports):\n",
        "                raise ValueError(\"num_inputs + num_outputs != len(ports)\")\n",
        "            input_ports = ports[:num_inputs]\n",
        "            output_ports = ports[num_inputs:]\n",
        "        else:\n",
        "            input_ports, output_ports = get_inputs_outputs(ports)\n",
        "            num_inputs = len(input_ports)\n",
        "            num_outputs = len(output_ports)\n",
        "            \n",
        "    if diagonal:\n",
        "        if num_inputs != num_outputs:\n",
        "            raise ValueError(\n",
        "                \"Can only have a diagonal passthru if number of input ports equals the number of output ports!\"\n",
        "            )\n",
        "    return input_ports, output_ports, num_inputs, num_outputs"
      ]
    },
    {
      "cell_type": "markdown",
      "id": "17757d3a2d4e0cb7",
      "metadata": {},
      "source": [
        ":::{eval-rst}\n",
        ".. autofunction:: sax.models.unitary\n",
        ":::\n"
      ]
    },
    {
      "cell_type": "code",
      "execution_count": 9,
      "id": "11a26e88122f2094",
      "metadata": {
        "execution": {
          "iopub.execute_input": "2023-07-01T03:32:02.118541Z",
          "iopub.status.busy": "2023-07-01T03:32:02.118117Z",
          "iopub.status.idle": "2023-07-01T03:32:02.128019Z",
          "shell.execute_reply": "2023-07-01T03:32:02.127616Z"
        },
        "papermill": {
          "duration": 0.064799,
          "end_time": "2023-07-01T03:32:02.129306",
          "exception": false,
          "start_time": "2023-07-01T03:32:02.064507",
          "status": "completed"
        },
        "tags": [
          "hide-input"
        ]
      },
      "outputs": [],
      "source": [
        "\n",
        "@cache\n",
        "def unitary(\n",
        "    num_inputs: Optional[int] = None,\n",
        "    num_outputs: Optional[int] = None,\n",
        "    ports: Optional[Tuple[str, ...]] = None,\n",
        "    *,\n",
        "    jit=True,\n",
        "    reciprocal=True,\n",
        "    diagonal=False,\n",
        ") -> Model:\n",
        "    input_ports, output_ports, num_inputs, num_outputs = _validate_ports(ports, num_inputs, num_outputs, diagonal)\n",
        "    assert num_inputs is not None and num_outputs is not None\n",
        "    \n",
        "    # let's create the squared S-matrix:\n",
        "    N = max(num_inputs, num_outputs)\n",
        "    S = jnp.zeros((2*N, 2*N), dtype=float)\n",
        "\n",
        "    if not diagonal:\n",
        "        if JAX_AVAILABLE:\n",
        "            S = S.at[:N, N:].set(1)\n",
        "        else:\n",
        "            S[:N, N:] = 1\n",
        "    else:\n",
        "        r = jnp.arange(N, dtype=int) # reciprocal only works if num_inputs == num_outputs!\n",
        "        if JAX_AVAILABLE:\n",
        "            S = S.at[r, N+r].set(1)\n",
        "        else:\n",
        "            S[r, N+r] = 1\n",
        "\n",
        "    if reciprocal:\n",
        "        if not diagonal:\n",
        "            if JAX_AVAILABLE:\n",
        "                S = S.at[N:, :N].set(1)\n",
        "            else:\n",
        "                S[N:, :N] = 1\n",
        "        else:\n",
        "            r = jnp.arange(N, dtype=int) # reciprocal only works if num_inputs == num_outputs!\n",
        "            if JAX_AVAILABLE:\n",
        "                S = S.at[N+r, r].set(1)\n",
        "            else:\n",
        "                S[N+r, r] = 1\n",
        "\n",
        "    # Now we need to normalize the squared S-matrix\n",
        "    U, s, V = jnp.linalg.svd(S, full_matrices=False)\n",
        "    S = jnp.sqrt(U@jnp.diag(jnp.where(s > 1e-12, 1, 0))@V)\n",
        "    \n",
        "    # Now create subset of this matrix we're interested in:\n",
        "    r = jnp.concatenate([jnp.arange(num_inputs, dtype=int), N+jnp.arange(num_outputs, dtype=int)], 0)\n",
        "    S = S[r, :][:, r]\n",
        "\n",
        "    # let's convert it in SCOO format:\n",
        "    Si, Sj = jnp.where(S > 1e-6)\n",
        "    Sx = S[Si, Sj]\n",
        "    \n",
        "    # the last missing piece is a port map:\n",
        "    pm = {\n",
        "        **{p: i for i, p in enumerate(input_ports)},\n",
        "        **{p: i + num_inputs for i, p in enumerate(output_ports)},\n",
        "    }\n",
        "    \n",
        "    def func(wl: float = 1.5) -> SCoo:\n",
        "        wl_ = jnp.asarray(wl)\n",
        "        Sx_ = jnp.broadcast_to(Sx, (*wl_.shape, *Sx.shape))\n",
        "        return Si, Sj, Sx_, pm\n",
        "\n",
        "    func.__name__ = f\"unitary_{num_inputs}_{num_outputs}\"\n",
        "    func.__qualname__ = f\"unitary_{num_inputs}_{num_outputs}\"\n",
        "    if jit:\n",
        "        return jax.jit(func)\n",
        "    return func"
      ]
    },
    {
      "cell_type": "markdown",
      "id": "327febf2-70d5-48ed-8b39-bac2d9727db5",
      "metadata": {
        "papermill": {
          "duration": 0.004793,
          "end_time": "2023-07-01T03:32:02.139307",
          "exception": false,
          "start_time": "2023-07-01T03:32:02.134514",
          "status": "completed"
        },
        "tags": []
      },
      "source": [
        "A unitary model returns an `SCoo` by default:"
      ]
    },
    {
      "cell_type": "code",
      "execution_count": 10,
      "id": "e95bacdd",
      "metadata": {
        "execution": {
          "iopub.execute_input": "2023-07-01T03:32:02.149773Z",
          "iopub.status.busy": "2023-07-01T03:32:02.149542Z",
          "iopub.status.idle": "2023-07-01T03:32:03.491685Z",
          "shell.execute_reply": "2023-07-01T03:32:03.490965Z"
        },
        "papermill": {
          "duration": 1.349046,
          "end_time": "2023-07-01T03:32:03.493117",
          "exception": false,
          "start_time": "2023-07-01T03:32:02.144071",
          "status": "completed"
        },
        "tags": []
      },
      "outputs": [
        {
          "data": {
            "text/plain": [
              "(Array([0, 0, 0, 1, 1, 1, 2, 2, 3, 3, 3], dtype=int32),\n",
              " Array([0, 2, 3, 1, 2, 3, 0, 1, 0, 1, 3], dtype=int32),\n",
              " Array([4.9899322e-01, 9.6622550e-01, 2.5769794e-01, 4.9899328e-01,\n",
              "        2.5769794e-01, 9.6622562e-01, 7.0710677e-01, 7.0710677e-01,\n",
              "        7.0710677e-01, 7.0710677e-01, 2.3246315e-04], dtype=float32),\n",
              " {'in0': Array(0, dtype=int32, weak_type=True),\n",
              "  'in1': Array(1, dtype=int32, weak_type=True),\n",
              "  'out0': Array(2, dtype=int32, weak_type=True),\n",
              "  'out1': Array(3, dtype=int32, weak_type=True)})"
            ]
          },
          "execution_count": 10,
          "metadata": {},
          "output_type": "execute_result"
        }
      ],
      "source": [
        "unitary_model = unitary(2, 2)\n",
        "unitary_model() # a unitary model returns an SCoo by default"
      ]
    },
    {
      "cell_type": "markdown",
      "id": "01ff2567-9b0e-4686-acb4-47cfb11b06ce",
      "metadata": {
        "papermill": {
          "duration": 0.004897,
          "end_time": "2023-07-01T03:32:03.503105",
          "exception": false,
          "start_time": "2023-07-01T03:32:03.498208",
          "status": "completed"
        },
        "tags": []
      },
      "source": [
        "As you probably already know, it's very easy to convert a model returning any `Stype` into a model returning an `SDict` as follows:"
      ]
    },
    {
      "cell_type": "code",
      "execution_count": 11,
      "id": "260dda8c-7e44-4f3f-b96c-e742daaf2885",
      "metadata": {
        "execution": {
          "iopub.execute_input": "2023-07-01T03:32:03.525122Z",
          "iopub.status.busy": "2023-07-01T03:32:03.524818Z",
          "iopub.status.idle": "2023-07-01T03:32:03.606760Z",
          "shell.execute_reply": "2023-07-01T03:32:03.606125Z"
        },
        "papermill": {
          "duration": 0.092074,
          "end_time": "2023-07-01T03:32:03.608043",
          "exception": false,
          "start_time": "2023-07-01T03:32:03.515969",
          "status": "completed"
        },
        "tags": []
      },
      "outputs": [
        {
          "data": {
            "text/plain": [
              "{('in0', 'in0'): Array(0.49899322, dtype=float32),\n",
              " ('in0', 'out0'): Array(0.9662255, dtype=float32),\n",
              " ('in0', 'out1'): Array(0.25769794, dtype=float32),\n",
              " ('in1', 'in1'): Array(0.49899328, dtype=float32),\n",
              " ('in1', 'out0'): Array(0.25769794, dtype=float32),\n",
              " ('in1', 'out1'): Array(0.9662256, dtype=float32),\n",
              " ('out0', 'in0'): Array(0.70710677, dtype=float32),\n",
              " ('out0', 'in1'): Array(0.70710677, dtype=float32),\n",
              " ('out1', 'in0'): Array(0.70710677, dtype=float32),\n",
              " ('out1', 'in1'): Array(0.70710677, dtype=float32),\n",
              " ('out1', 'out1'): Array(0.00023246, dtype=float32)}"
            ]
          },
          "execution_count": 11,
          "metadata": {},
          "output_type": "execute_result"
        }
      ],
      "source": [
        "unitary_sdict_model = sax.sdict(unitary_model)\n",
        "unitary_sdict_model()"
      ]
    },
    {
      "cell_type": "markdown",
      "id": "e9a1a46b-b10a-471b-b835-7b6d8d49175a",
      "metadata": {
        "papermill": {
          "duration": 0.005137,
          "end_time": "2023-07-01T03:32:03.618398",
          "exception": false,
          "start_time": "2023-07-01T03:32:03.613261",
          "status": "completed"
        },
        "tags": []
      },
      "source": [
        "If we need custom port names, we can also just specify them explicitly:"
      ]
    },
    {
      "cell_type": "code",
      "execution_count": 12,
      "id": "66abe9b0",
      "metadata": {
        "execution": {
          "iopub.execute_input": "2023-07-01T03:32:03.643278Z",
          "iopub.status.busy": "2023-07-01T03:32:03.642920Z",
          "iopub.status.idle": "2023-07-01T03:32:03.668389Z",
          "shell.execute_reply": "2023-07-01T03:32:03.667947Z"
        },
        "papermill": {
          "duration": 0.038366,
          "end_time": "2023-07-01T03:32:03.669719",
          "exception": false,
          "start_time": "2023-07-01T03:32:03.631353",
          "status": "completed"
        },
        "tags": []
      },
      "outputs": [
        {
          "data": {
            "text/plain": [
              "(Array([0, 0, 0, 1, 1, 1, 2, 2, 3, 3, 3], dtype=int32),\n",
              " Array([0, 2, 3, 1, 2, 3, 0, 1, 0, 1, 3], dtype=int32),\n",
              " Array([4.9899322e-01, 9.6622550e-01, 2.5769794e-01, 4.9899328e-01,\n",
              "        2.5769794e-01, 9.6622562e-01, 7.0710677e-01, 7.0710677e-01,\n",
              "        7.0710677e-01, 7.0710677e-01, 2.3246315e-04], dtype=float32),\n",
              " {'in0': Array(0, dtype=int32, weak_type=True),\n",
              "  'in1': Array(1, dtype=int32, weak_type=True),\n",
              "  'out0': Array(2, dtype=int32, weak_type=True),\n",
              "  'out1': Array(3, dtype=int32, weak_type=True)})"
            ]
          },
          "execution_count": 12,
          "metadata": {},
          "output_type": "execute_result"
        }
      ],
      "source": [
        "unitary_model = unitary(ports=(\"in0\", \"in1\", \"out0\", \"out1\"))\n",
        "unitary_model()"
      ]
    },
    {
      "cell_type": "markdown",
      "id": "ebf14c1c-ccfb-44e6-8572-18b366ffab91",
      "metadata": {
        "papermill": {
          "duration": 0.007318,
          "end_time": "2023-07-01T03:32:03.682216",
          "exception": false,
          "start_time": "2023-07-01T03:32:03.674898",
          "status": "completed"
        },
        "tags": []
      },
      "source": [
        "A unitary model will by default split a signal at an input port equally over all output ports. However, if there are an equal number of input ports as output ports we can in stead create a passthru by setting the `diagonal` flag to `True`:"
      ]
    },
    {
      "cell_type": "code",
      "execution_count": 13,
      "id": "7c1d61a3",
      "metadata": {
        "execution": {
          "iopub.execute_input": "2023-07-01T03:32:03.705626Z",
          "iopub.status.busy": "2023-07-01T03:32:03.705331Z",
          "iopub.status.idle": "2023-07-01T03:32:04.114172Z",
          "shell.execute_reply": "2023-07-01T03:32:04.113789Z"
        },
        "papermill": {
          "duration": 0.422388,
          "end_time": "2023-07-01T03:32:04.115629",
          "exception": false,
          "start_time": "2023-07-01T03:32:03.693241",
          "status": "completed"
        },
        "tags": []
      },
      "outputs": [
        {
          "data": {
            "text/plain": [
              "{('in0', 'out0'): Array(1., dtype=float32),\n",
              " ('in1', 'out1'): Array(1., dtype=float32),\n",
              " ('out0', 'in0'): Array(1., dtype=float32),\n",
              " ('out1', 'in1'): Array(1., dtype=float32)}"
            ]
          },
          "execution_count": 13,
          "metadata": {},
          "output_type": "execute_result"
        }
      ],
      "source": [
        "passthru_model = unitary(2, 2, diagonal=True)\n",
        "sax.sdict(passthru_model())"
      ]
    },
    {
      "cell_type": "code",
      "execution_count": 14,
      "id": "7f93b145",
      "metadata": {
        "execution": {
          "iopub.execute_input": "2023-07-01T03:32:04.132614Z",
          "iopub.status.busy": "2023-07-01T03:32:04.132223Z",
          "iopub.status.idle": "2023-07-01T03:32:05.413880Z",
          "shell.execute_reply": "2023-07-01T03:32:05.413416Z"
        },
        "papermill": {
          "duration": 1.294231,
          "end_time": "2023-07-01T03:32:05.415417",
          "exception": false,
          "start_time": "2023-07-01T03:32:04.121186",
          "status": "completed"
        },
        "tags": []
      },
      "outputs": [
        {
          "data": {
            "text/plain": [
              "{('in0', 'in0'): Array(0.8940905, dtype=float32),\n",
              " ('in0', 'out0'): Array(0.44721356, dtype=float32),\n",
              " ('in0', 'out1'): Array(0.44721356, dtype=float32),\n",
              " ('in0', 'out2'): Array(0.44721356, dtype=float32),\n",
              " ('in0', 'out3'): Array(0.44721356, dtype=float32),\n",
              " ('in0', 'out4'): Array(0.44721356, dtype=float32),\n",
              " ('out0', 'in0'): Array(0.45508003, dtype=float32),\n",
              " ('out0', 'out0'): Array(7.339057e-05, dtype=float32),\n",
              " ('out0', 'out1'): Array(7.339057e-05, dtype=float32),\n",
              " ('out0', 'out2'): Array(7.339057e-05, dtype=float32),\n",
              " ('out0', 'out3'): Array(7.339057e-05, dtype=float32),\n",
              " ('out0', 'out4'): Array(7.339057e-05, dtype=float32),\n",
              " ('out1', 'in0'): Array(0.45508003, dtype=float32),\n",
              " ('out1', 'out0'): Array(7.339057e-05, dtype=float32),\n",
              " ('out1', 'out1'): Array(7.339057e-05, dtype=float32),\n",
              " ('out1', 'out2'): Array(7.339057e-05, dtype=float32),\n",
              " ('out1', 'out3'): Array(7.339057e-05, dtype=float32),\n",
              " ('out1', 'out4'): Array(7.339057e-05, dtype=float32),\n",
              " ('out2', 'in0'): Array(0.45508003, dtype=float32),\n",
              " ('out2', 'out0'): Array(7.339057e-05, dtype=float32),\n",
              " ('out2', 'out1'): Array(7.339057e-05, dtype=float32),\n",
              " ('out2', 'out2'): Array(7.339057e-05, dtype=float32),\n",
              " ('out2', 'out3'): Array(7.339057e-05, dtype=float32),\n",
              " ('out2', 'out4'): Array(7.339057e-05, dtype=float32),\n",
              " ('out3', 'in0'): Array(0.45508003, dtype=float32),\n",
              " ('out3', 'out0'): Array(7.339057e-05, dtype=float32),\n",
              " ('out3', 'out1'): Array(7.339057e-05, dtype=float32),\n",
              " ('out3', 'out2'): Array(7.339057e-05, dtype=float32),\n",
              " ('out3', 'out3'): Array(7.339057e-05, dtype=float32),\n",
              " ('out3', 'out4'): Array(7.339057e-05, dtype=float32),\n",
              " ('out4', 'in0'): Array(0.4142568, dtype=float32),\n",
              " ('out4', 'out0'): Array(0.00011842, dtype=float32),\n",
              " ('out4', 'out1'): Array(0.00011842, dtype=float32),\n",
              " ('out4', 'out2'): Array(0.00011842, dtype=float32),\n",
              " ('out4', 'out3'): Array(0.00011842, dtype=float32),\n",
              " ('out4', 'out4'): Array(0.00011842, dtype=float32)}"
            ]
          },
          "execution_count": 14,
          "metadata": {},
          "output_type": "execute_result"
        }
      ],
      "source": [
        "ports_in=['in0']\n",
        "ports_out=['out0', 'out1', 'out2', 'out3', 'out4']\n",
        "model = unitary(\n",
        "    ports=tuple(ports_in+ports_out), jit=True, reciprocal=True\n",
        ")\n",
        "model = sax.sdict(model)\n",
        "model()"
      ]
    },
    {
      "cell_type": "markdown",
      "id": "8b149d44-5487-4e50-a2f2-1ad0aca99dac",
      "metadata": {
        "papermill": {
          "duration": 0.005666,
          "end_time": "2023-07-01T03:32:05.426617",
          "exception": false,
          "start_time": "2023-07-01T03:32:05.420951",
          "status": "completed"
        },
        "tags": []
      },
      "source": [
        "Because this is a pretty common usecase we have a dedicated model factory for this as well. This passthru component just takes the number of links (`'in{i}' -> 'out{i]'`) as input. Alternatively, as before, one can also specify the port names directly but one needs to ensure that `len(ports) == 2*num_links`."
      ]
    },
    {
      "cell_type": "markdown",
      "id": "28308d4ce52d26bd",
      "metadata": {},
      "source": [
        ":::{eval-rst}\n",
        ".. autofunction:: sax.models.passthru\n",
        ":::\n"
      ]
    },
    {
      "cell_type": "code",
      "execution_count": 15,
      "id": "f4b789a06af43ce7",
      "metadata": {
        "execution": {
          "iopub.execute_input": "2023-07-01T03:32:05.438345Z",
          "iopub.status.busy": "2023-07-01T03:32:05.438055Z",
          "iopub.status.idle": "2023-07-01T03:32:05.441683Z",
          "shell.execute_reply": "2023-07-01T03:32:05.441258Z"
        },
        "papermill": {
          "duration": 0.011196,
          "end_time": "2023-07-01T03:32:05.443204",
          "exception": false,
          "start_time": "2023-07-01T03:32:05.432008",
          "status": "completed"
        },
        "tags": [
          "hide-input"
        ]
      },
      "outputs": [],
      "source": [
        "@cache\n",
        "def passthru(\n",
        "    num_links: Optional[int] = None,\n",
        "    ports: Optional[Tuple[str, ...]] = None,\n",
        "    *,\n",
        "    jit=True,\n",
        "    reciprocal=True,\n",
        ") -> Model:\n",
        "    passthru = unitary(num_links, num_links, ports, jit=jit, reciprocal=reciprocal, diagonal=True)\n",
        "    passthru.__name__ = f\"passthru_{num_links}_{num_links}\"\n",
        "    passthru.__qualname__ = f\"passthru_{num_links}_{num_links}\"\n",
        "    if jit:\n",
        "        return jax.jit(passthru)\n",
        "    return passthru"
      ]
    },
    {
      "cell_type": "code",
      "execution_count": 16,
      "id": "9e8b6cd7-56d4-4697-9a6e-33c929f3d853",
      "metadata": {
        "execution": {
          "iopub.execute_input": "2023-07-01T03:32:05.454789Z",
          "iopub.status.busy": "2023-07-01T03:32:05.454543Z",
          "iopub.status.idle": "2023-07-01T03:32:06.136137Z",
          "shell.execute_reply": "2023-07-01T03:32:06.135787Z"
        },
        "papermill": {
          "duration": 0.688897,
          "end_time": "2023-07-01T03:32:06.137409",
          "exception": false,
          "start_time": "2023-07-01T03:32:05.448512",
          "status": "completed"
        },
        "tags": []
      },
      "outputs": [
        {
          "data": {
            "text/plain": [
              "{('in0', 'out0'): Array(1., dtype=float32),\n",
              " ('in1', 'out1'): Array(1., dtype=float32),\n",
              " ('in2', 'out2'): Array(1., dtype=float32),\n",
              " ('out0', 'in0'): Array(1., dtype=float32),\n",
              " ('out1', 'in1'): Array(1., dtype=float32),\n",
              " ('out2', 'in2'): Array(1., dtype=float32)}"
            ]
          },
          "execution_count": 16,
          "metadata": {},
          "output_type": "execute_result"
        }
      ],
      "source": [
        "passthru_model = passthru(3)\n",
        "passthru_sdict_model = sax.sdict(passthru_model)\n",
        "passthru_sdict_model()"
      ]
    },
    {
      "cell_type": "code",
      "execution_count": 17,
      "id": "690e718c-2d84-4177-b8ad-ff39cf8c4691",
      "metadata": {
        "execution": {
          "iopub.execute_input": "2023-07-01T03:32:06.155092Z",
          "iopub.status.busy": "2023-07-01T03:32:06.154891Z",
          "iopub.status.idle": "2023-07-01T03:32:08.096576Z",
          "shell.execute_reply": "2023-07-01T03:32:08.096220Z"
        },
        "papermill": {
          "duration": 1.954558,
          "end_time": "2023-07-01T03:32:08.097811",
          "exception": false,
          "start_time": "2023-07-01T03:32:06.143253",
          "status": "completed"
        },
        "tags": []
      },
      "outputs": [
        {
          "data": {
            "text/plain": [
              "{('in0', 'in0'): Array(0.49903557, dtype=float32),\n",
              " ('out0', 'out0'): Array(0.49903557, dtype=float32),\n",
              " ('out0', 'in0'): Array(0.8654446, dtype=float32),\n",
              " ('in0', 'out0'): Array(0.8654446, dtype=float32)}"
            ]
          },
          "execution_count": 17,
          "metadata": {},
          "output_type": "execute_result"
        }
      ],
      "source": [
        "mzi, _ = sax.circuit(\n",
        "    netlist={\n",
        "        \"instances\": {\n",
        "            \"lft\": 'u12',\n",
        "            \"top\": 'u11',\n",
        "            \"rgt\": 'u12',\n",
        "        },\n",
        "        \"connections\": {\n",
        "            \"lft,out0\": \"rgt,out0\",\n",
        "            \"lft,out1\": \"top,in0\",\n",
        "            \"top,out0\": \"rgt,out1\",\n",
        "        },\n",
        "        \"ports\": {\n",
        "            \"in0\": \"lft,in0\",\n",
        "            \"out0\": \"rgt,in0\",\n",
        "        },\n",
        "    },\n",
        "    models={\n",
        "        'u12': unitary(1, 2),\n",
        "        'u11': unitary(1, 1),\n",
        "    },\n",
        ")\n",
        "mzi()"
      ]
    },
    {
      "cell_type": "markdown",
      "id": "f1ca54bbaeca3ec9",
      "metadata": {},
      "source": [
        ":::{eval-rst}\n",
        ".. autofunction:: sax.models.copier\n",
        ":::\n"
      ]
    },
    {
      "cell_type": "code",
      "execution_count": 18,
      "id": "b562555e083dabd5",
      "metadata": {
        "execution": {
          "iopub.execute_input": "2023-07-01T03:32:08.116290Z",
          "iopub.status.busy": "2023-07-01T03:32:08.116068Z",
          "iopub.status.idle": "2023-07-01T03:32:08.124202Z",
          "shell.execute_reply": "2023-07-01T03:32:08.123835Z"
        },
        "papermill": {
          "duration": 0.021573,
          "end_time": "2023-07-01T03:32:08.125243",
          "exception": false,
          "start_time": "2023-07-01T03:32:08.103670",
          "status": "completed"
        },
        "tags": [
          "hide-input"
        ]
      },
      "outputs": [],
      "source": [
        "\n",
        "@cache\n",
        "def copier(\n",
        "    num_inputs: Optional[int] = None,\n",
        "    num_outputs: Optional[int] = None,\n",
        "    ports: Optional[Tuple[str, ...]] = None,\n",
        "    *,\n",
        "    jit=True,\n",
        "    reciprocal=True,\n",
        "    diagonal=False,\n",
        ") -> Model:\n",
        "        \n",
        "    input_ports, output_ports, num_inputs, num_outputs = _validate_ports(ports, num_inputs, num_outputs, diagonal)\n",
        "    assert num_inputs is not None and num_outputs is not None\n",
        "    \n",
        "    # let's create the squared S-matrix:\n",
        "    S = jnp.zeros((num_inputs+num_outputs, num_inputs+num_outputs), dtype=float)\n",
        "\n",
        "    if not diagonal:\n",
        "        if JAX_AVAILABLE:\n",
        "            S = S.at[:num_inputs, num_inputs:].set(1)\n",
        "        else:\n",
        "            S[:num_inputs, num_inputs:] = 1\n",
        "    else:\n",
        "        r = jnp.arange(num_inputs, dtype=int) # == range(num_outputs) # reciprocal only works if num_inputs == num_outputs!\n",
        "        if JAX_AVAILABLE:\n",
        "            S = S.at[r, num_inputs+r].set(1)\n",
        "        else:\n",
        "            S[r, num_inputs+r] = 1\n",
        "\n",
        "    if reciprocal:\n",
        "        if not diagonal:\n",
        "            if JAX_AVAILABLE:\n",
        "                S = S.at[num_inputs:, :num_inputs].set(1)\n",
        "            else:\n",
        "                S[num_inputs:, :num_inputs] = 1\n",
        "        else:\n",
        "            r = jnp.arange(num_inputs, dtype=int) # == range(num_outputs) # reciprocal only works if num_inputs == num_outputs!\n",
        "            if JAX_AVAILABLE:\n",
        "                S = S.at[num_inputs+r, r].set(1)\n",
        "            else:\n",
        "                S[num_inputs+r, r] = 1\n",
        "\n",
        "    # let's convert it in SCOO format:\n",
        "    Si, Sj = jnp.where(S > 1e-6)\n",
        "    Sx = S[Si, Sj]\n",
        "    \n",
        "    # the last missing piece is a port map:\n",
        "    pm = {\n",
        "        **{p: i for i, p in enumerate(input_ports)},\n",
        "        **{p: i + num_inputs for i, p in enumerate(output_ports)},\n",
        "    }\n",
        "    \n",
        "    def func(wl: float = 1.5) -> SCoo:\n",
        "        wl_ = jnp.asarray(wl)\n",
        "        Sx_ = jnp.broadcast_to(Sx, (*wl_.shape, *Sx.shape))\n",
        "        return Si, Sj, Sx_, pm\n",
        "\n",
        "    func.__name__ = f\"unitary_{num_inputs}_{num_outputs}\"\n",
        "    func.__qualname__ = f\"unitary_{num_inputs}_{num_outputs}\"\n",
        "    if jit:\n",
        "        return jax.jit(func)\n",
        "    return func"
      ]
    },
    {
      "cell_type": "markdown",
      "id": "77014d0f-1a08-4b4b-a011-cf11cd9684b8",
      "metadata": {
        "papermill": {
          "duration": 0.008687,
          "end_time": "2023-07-01T03:32:08.139517",
          "exception": false,
          "start_time": "2023-07-01T03:32:08.130830",
          "status": "completed"
        },
        "tags": []
      },
      "source": [
        "A copier model is like a unitary model, but copies the input signal over all output signals. Hence, if the model has multiple output ports, this model can be considered to introduce gain. That said, it can sometimes be a useful component."
      ]
    },
    {
      "cell_type": "code",
      "execution_count": 19,
      "id": "c2a61a9f-51ea-455f-a66f-94719b43520e",
      "metadata": {
        "execution": {
          "iopub.execute_input": "2023-07-01T03:32:08.164522Z",
          "iopub.status.busy": "2023-07-01T03:32:08.164327Z",
          "iopub.status.idle": "2023-07-01T03:32:08.566468Z",
          "shell.execute_reply": "2023-07-01T03:32:08.566081Z"
        },
        "papermill": {
          "duration": 0.419885,
          "end_time": "2023-07-01T03:32:08.567659",
          "exception": false,
          "start_time": "2023-07-01T03:32:08.147774",
          "status": "completed"
        },
        "tags": []
      },
      "outputs": [
        {
          "data": {
            "text/plain": [
              "(Array([0, 0, 1, 1, 2, 2, 3, 3], dtype=int32),\n",
              " Array([2, 3, 2, 3, 0, 1, 0, 1], dtype=int32),\n",
              " Array([1., 1., 1., 1., 1., 1., 1., 1.], dtype=float32),\n",
              " {'in0': Array(0, dtype=int32, weak_type=True),\n",
              "  'in1': Array(1, dtype=int32, weak_type=True),\n",
              "  'out0': Array(2, dtype=int32, weak_type=True),\n",
              "  'out1': Array(3, dtype=int32, weak_type=True)})"
            ]
          },
          "execution_count": 19,
          "metadata": {},
          "output_type": "execute_result"
        }
      ],
      "source": [
        "copier_model = copier(2, 2)\n",
        "copier_model() # a copier model returns an SCoo by default"
      ]
    },
    {
      "cell_type": "markdown",
      "id": "fbd51c6c-c059-4717-9dae-447becc7e8d5",
      "metadata": {
        "papermill": {
          "duration": 0.005797,
          "end_time": "2023-07-01T03:32:08.579420",
          "exception": false,
          "start_time": "2023-07-01T03:32:08.573623",
          "status": "completed"
        },
        "tags": []
      },
      "source": [
        "As you probably already know, it's very easy to convert a model returning any `Stype` into a model returning an `SDict` as follows:"
      ]
    },
    {
      "cell_type": "code",
      "execution_count": 20,
      "id": "becda099-b5d9-494c-a6b2-9828be10c4a5",
      "metadata": {
        "execution": {
          "iopub.execute_input": "2023-07-01T03:32:08.608796Z",
          "iopub.status.busy": "2023-07-01T03:32:08.608591Z",
          "iopub.status.idle": "2023-07-01T03:32:08.679766Z",
          "shell.execute_reply": "2023-07-01T03:32:08.679399Z"
        },
        "papermill": {
          "duration": 0.084944,
          "end_time": "2023-07-01T03:32:08.680924",
          "exception": false,
          "start_time": "2023-07-01T03:32:08.595980",
          "status": "completed"
        },
        "tags": []
      },
      "outputs": [
        {
          "data": {
            "text/plain": [
              "{('in0', 'out0'): Array(1., dtype=float32),\n",
              " ('in0', 'out1'): Array(1., dtype=float32),\n",
              " ('in1', 'out0'): Array(1., dtype=float32),\n",
              " ('in1', 'out1'): Array(1., dtype=float32),\n",
              " ('out0', 'in0'): Array(1., dtype=float32),\n",
              " ('out0', 'in1'): Array(1., dtype=float32),\n",
              " ('out1', 'in0'): Array(1., dtype=float32),\n",
              " ('out1', 'in1'): Array(1., dtype=float32)}"
            ]
          },
          "execution_count": 20,
          "metadata": {},
          "output_type": "execute_result"
        }
      ],
      "source": [
        "copier_sdict_model = sax.sdict(copier_model)\n",
        "copier_sdict_model()"
      ]
    },
    {
      "cell_type": "markdown",
      "id": "1ad16d1b-f685-4ab9-a8c4-41efbbdae4fa",
      "metadata": {
        "papermill": {
          "duration": 0.008426,
          "end_time": "2023-07-01T03:32:08.695485",
          "exception": false,
          "start_time": "2023-07-01T03:32:08.687059",
          "status": "completed"
        },
        "tags": []
      },
      "source": [
        "If we need custom port names, we can also just specify them explicitly:"
      ]
    },
    {
      "cell_type": "code",
      "execution_count": 21,
      "id": "297d1e45-b881-440b-b887-b38c5517596e",
      "metadata": {
        "execution": {
          "iopub.execute_input": "2023-07-01T03:32:08.723188Z",
          "iopub.status.busy": "2023-07-01T03:32:08.722976Z",
          "iopub.status.idle": "2023-07-01T03:32:08.742294Z",
          "shell.execute_reply": "2023-07-01T03:32:08.741917Z"
        },
        "papermill": {
          "duration": 0.035355,
          "end_time": "2023-07-01T03:32:08.743372",
          "exception": false,
          "start_time": "2023-07-01T03:32:08.708017",
          "status": "completed"
        },
        "tags": []
      },
      "outputs": [
        {
          "data": {
            "text/plain": [
              "(Array([0, 0, 1, 1, 2, 2, 3, 3], dtype=int32),\n",
              " Array([2, 3, 2, 3, 0, 1, 0, 1], dtype=int32),\n",
              " Array([1., 1., 1., 1., 1., 1., 1., 1.], dtype=float32),\n",
              " {'in0': Array(0, dtype=int32, weak_type=True),\n",
              "  'in1': Array(1, dtype=int32, weak_type=True),\n",
              "  'out0': Array(2, dtype=int32, weak_type=True),\n",
              "  'out1': Array(3, dtype=int32, weak_type=True)})"
            ]
          },
          "execution_count": 21,
          "metadata": {},
          "output_type": "execute_result"
        }
      ],
      "source": [
        "copier_model = copier(ports=(\"in0\", \"in1\", \"out0\", \"out1\"))\n",
        "copier_model()"
      ]
    },
    {
      "cell_type": "code",
      "execution_count": 22,
      "id": "608d7114-03ac-4f5f-9790-cf65379d81dd",
      "metadata": {
        "execution": {
          "iopub.execute_input": "2023-07-01T03:32:08.755981Z",
          "iopub.status.busy": "2023-07-01T03:32:08.755800Z",
          "iopub.status.idle": "2023-07-01T03:32:08.799066Z",
          "shell.execute_reply": "2023-07-01T03:32:08.798701Z"
        },
        "papermill": {
          "duration": 0.050887,
          "end_time": "2023-07-01T03:32:08.800137",
          "exception": false,
          "start_time": "2023-07-01T03:32:08.749250",
          "status": "completed"
        },
        "tags": []
      },
      "outputs": [
        {
          "data": {
            "text/plain": [
              "{('in0', 'in0'): Array(0.8940905, dtype=float32),\n",
              " ('in0', 'out0'): Array(0.44721356, dtype=float32),\n",
              " ('in0', 'out1'): Array(0.44721356, dtype=float32),\n",
              " ('in0', 'out2'): Array(0.44721356, dtype=float32),\n",
              " ('in0', 'out3'): Array(0.44721356, dtype=float32),\n",
              " ('in0', 'out4'): Array(0.44721356, dtype=float32),\n",
              " ('out0', 'in0'): Array(0.45508003, dtype=float32),\n",
              " ('out0', 'out0'): Array(7.339057e-05, dtype=float32),\n",
              " ('out0', 'out1'): Array(7.339057e-05, dtype=float32),\n",
              " ('out0', 'out2'): Array(7.339057e-05, dtype=float32),\n",
              " ('out0', 'out3'): Array(7.339057e-05, dtype=float32),\n",
              " ('out0', 'out4'): Array(7.339057e-05, dtype=float32),\n",
              " ('out1', 'in0'): Array(0.45508003, dtype=float32),\n",
              " ('out1', 'out0'): Array(7.339057e-05, dtype=float32),\n",
              " ('out1', 'out1'): Array(7.339057e-05, dtype=float32),\n",
              " ('out1', 'out2'): Array(7.339057e-05, dtype=float32),\n",
              " ('out1', 'out3'): Array(7.339057e-05, dtype=float32),\n",
              " ('out1', 'out4'): Array(7.339057e-05, dtype=float32),\n",
              " ('out2', 'in0'): Array(0.45508003, dtype=float32),\n",
              " ('out2', 'out0'): Array(7.339057e-05, dtype=float32),\n",
              " ('out2', 'out1'): Array(7.339057e-05, dtype=float32),\n",
              " ('out2', 'out2'): Array(7.339057e-05, dtype=float32),\n",
              " ('out2', 'out3'): Array(7.339057e-05, dtype=float32),\n",
              " ('out2', 'out4'): Array(7.339057e-05, dtype=float32),\n",
              " ('out3', 'in0'): Array(0.45508003, dtype=float32),\n",
              " ('out3', 'out0'): Array(7.339057e-05, dtype=float32),\n",
              " ('out3', 'out1'): Array(7.339057e-05, dtype=float32),\n",
              " ('out3', 'out2'): Array(7.339057e-05, dtype=float32),\n",
              " ('out3', 'out3'): Array(7.339057e-05, dtype=float32),\n",
              " ('out3', 'out4'): Array(7.339057e-05, dtype=float32),\n",
              " ('out4', 'in0'): Array(0.4142568, dtype=float32),\n",
              " ('out4', 'out0'): Array(0.00011842, dtype=float32),\n",
              " ('out4', 'out1'): Array(0.00011842, dtype=float32),\n",
              " ('out4', 'out2'): Array(0.00011842, dtype=float32),\n",
              " ('out4', 'out3'): Array(0.00011842, dtype=float32),\n",
              " ('out4', 'out4'): Array(0.00011842, dtype=float32)}"
            ]
          },
          "execution_count": 22,
          "metadata": {},
          "output_type": "execute_result"
        }
      ],
      "source": [
        "ports_in=['in0']\n",
        "ports_out=['out0', 'out1', 'out2', 'out3', 'out4']\n",
        "model = unitary(\n",
        "    ports=tuple(ports_in+ports_out), jit=True, reciprocal=True\n",
        ")\n",
        "model = sax.sdict(model)\n",
        "model()"
      ]
    },
    {
      "cell_type": "markdown",
      "id": "6d024e5b-95a9-44e5-9dbc-4980249e73a7",
      "metadata": {
        "papermill": {
          "duration": 0.006012,
          "end_time": "2023-07-01T03:32:08.812367",
          "exception": false,
          "start_time": "2023-07-01T03:32:08.806355",
          "status": "completed"
        },
        "tags": []
      },
      "source": [
        "Because this is a pretty common usecase we have a dedicated model factory for this as well. This passthru component just takes the number of links (`'in{i}' -> 'out{i]'`) as input. Alternatively, as before, one can also specify the port names directly but one needs to ensure that `len(ports) == 2*num_links`."
      ]
    },
    {
      "cell_type": "markdown",
      "id": "880308941d690c49",
      "metadata": {},
      "source": [
        ":::{eval-rst}\n",
        ".. autofunction:: sax.models.passthru\n",
        ":::\n"
      ]
    },
    {
      "cell_type": "code",
      "execution_count": 23,
      "id": "9cb2526bd126f314",
      "metadata": {
        "execution": {
          "iopub.execute_input": "2023-07-01T03:32:08.842974Z",
          "iopub.status.busy": "2023-07-01T03:32:08.842759Z",
          "iopub.status.idle": "2023-07-01T03:32:08.846393Z",
          "shell.execute_reply": "2023-07-01T03:32:08.846010Z"
        },
        "papermill": {
          "duration": 0.023223,
          "end_time": "2023-07-01T03:32:08.847437",
          "exception": false,
          "start_time": "2023-07-01T03:32:08.824214",
          "status": "completed"
        },
        "tags": [
          "hide-input"
        ]
      },
      "outputs": [],
      "source": [
        "@cache\n",
        "def passthru(\n",
        "    num_links: Optional[int] = None,\n",
        "    ports: Optional[Tuple[str, ...]] = None,\n",
        "    *,\n",
        "    jit=True,\n",
        "    reciprocal=True,\n",
        ") -> Model:\n",
        "    passthru = unitary(num_links, num_links, ports, jit=jit, reciprocal=reciprocal, diagonal=True)\n",
        "    passthru.__name__ = f\"passthru_{num_links}_{num_links}\"\n",
        "    passthru.__qualname__ = f\"passthru_{num_links}_{num_links}\"\n",
        "    if jit:\n",
        "        return jax.jit(passthru)\n",
        "    return passthru"
      ]
    },
    {
      "cell_type": "code",
      "execution_count": 24,
      "id": "4a063810-224b-446c-a59d-12a20b56e82e",
      "metadata": {
        "execution": {
          "iopub.execute_input": "2023-07-01T03:32:08.871498Z",
          "iopub.status.busy": "2023-07-01T03:32:08.871313Z",
          "iopub.status.idle": "2023-07-01T03:32:08.880070Z",
          "shell.execute_reply": "2023-07-01T03:32:08.879728Z"
        },
        "papermill": {
          "duration": 0.027701,
          "end_time": "2023-07-01T03:32:08.881113",
          "exception": false,
          "start_time": "2023-07-01T03:32:08.853412",
          "status": "completed"
        },
        "tags": []
      },
      "outputs": [
        {
          "data": {
            "text/plain": [
              "{('in0', 'out0'): Array(1., dtype=float32),\n",
              " ('in1', 'out1'): Array(1., dtype=float32),\n",
              " ('in2', 'out2'): Array(1., dtype=float32),\n",
              " ('out0', 'in0'): Array(1., dtype=float32),\n",
              " ('out1', 'in1'): Array(1., dtype=float32),\n",
              " ('out2', 'in2'): Array(1., dtype=float32)}"
            ]
          },
          "execution_count": 24,
          "metadata": {},
          "output_type": "execute_result"
        }
      ],
      "source": [
        "passthru_model = passthru(3)\n",
        "passthru_sdict_model = sax.sdict(passthru_model)\n",
        "passthru_sdict_model()"
      ]
    },
    {
      "cell_type": "markdown",
      "id": "bb6e94aa",
      "metadata": {
        "papermill": {
          "duration": 0.008829,
          "end_time": "2023-07-01T03:32:08.896173",
          "exception": false,
          "start_time": "2023-07-01T03:32:08.887344",
          "status": "completed"
        },
        "tags": []
      },
      "source": [
        "## All Models"
      ]
    },
    {
      "cell_type": "markdown",
      "id": "abe8ecf194acde90",
      "metadata": {},
      "source": [
        ":::{eval-rst}\n",
        ".. autofunction:: sax.models.get_models\n",
        ":::\n"
      ]
    },
    {
      "cell_type": "code",
      "execution_count": 25,
      "id": "823599d74280df2a",
      "metadata": {
        "execution": {
          "iopub.execute_input": "2023-07-01T03:32:08.925581Z",
          "iopub.status.busy": "2023-07-01T03:32:08.925352Z",
          "iopub.status.idle": "2023-07-01T03:32:08.928579Z",
          "shell.execute_reply": "2023-07-01T03:32:08.928171Z"
        },
        "papermill": {
          "duration": 0.020413,
          "end_time": "2023-07-01T03:32:08.933034",
          "exception": false,
          "start_time": "2023-07-01T03:32:08.912621",
          "status": "completed"
        },
        "tags": []
      },
      "outputs": [],
      "source": [
        "\n",
        "models = {\n",
        "    \"copier\": copier,\n",
        "    \"coupler\": coupler,\n",
        "    \"passthru\": passthru,\n",
        "    \"straight\": straight,\n",
        "    \"unitary\": unitary,\n",
        "}\n",
        "\n",
        "def get_models(copy: bool=True):\n",
        "    if copy:\n",
        "        return {**models}\n",
        "    return models"
      ]
    }
  ],
  "metadata": {
    "kernelspec": {
      "display_name": "sax",
      "language": "python",
      "name": "sax"
    },
    "language_info": {
      "codemirror_mode": {
        "name": "ipython",
        "version": 3
      },
      "file_extension": ".py",
      "mimetype": "text/x-python",
      "name": "python",
      "nbconvert_exporter": "python",
      "pygments_lexer": "ipython3",
      "version": "3.11.4"
    },
    "papermill": {
      "default_parameters": {},
      "duration": 10.505563,
      "end_time": "2023-07-01T03:32:09.678578",
      "environment_variables": {},
      "exception": null,
      "input_path": "./nbs/05_models.ipynb",
      "output_path": "./nbs/05_models.ipynb",
      "parameters": {},
      "start_time": "2023-07-01T03:31:59.173015",
      "version": "2.3.4"
    }
  },
  "nbformat": 4,
  "nbformat_minor": 5
}