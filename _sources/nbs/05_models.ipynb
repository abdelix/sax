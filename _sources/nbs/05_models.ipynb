{
  "cells": [
    {
      "cell_type": "code",
      "execution_count": 1,
      "id": "2b51aa34e55ca4b9",
      "metadata": {
        "execution": {
          "iopub.execute_input": "2023-06-01T21:49:41.558277Z",
          "iopub.status.busy": "2023-06-01T21:49:41.558043Z",
          "iopub.status.idle": "2023-06-01T21:49:41.561092Z",
          "shell.execute_reply": "2023-06-01T21:49:41.560628Z"
        },
        "papermill": {
          "duration": 0.011227,
          "end_time": "2023-06-01T21:49:41.563309",
          "exception": false,
          "start_time": "2023-06-01T21:49:41.552082",
          "status": "completed"
        },
        "tags": [
          "remove-cell"
        ]
      },
      "outputs": [],
      "source": []
    },
    {
      "cell_type": "markdown",
      "id": "986cb864",
      "metadata": {
        "papermill": {
          "duration": 0.004221,
          "end_time": "2023-06-01T21:49:41.572062",
          "exception": false,
          "start_time": "2023-06-01T21:49:41.567841",
          "status": "completed"
        },
        "tags": []
      },
      "source": [
        "# Models\n",
        "\n",
        "> Default SAX Models"
      ]
    },
    {
      "cell_type": "code",
      "execution_count": 2,
      "id": "79bcb301f410796c",
      "metadata": {
        "execution": {
          "iopub.execute_input": "2023-06-01T21:49:41.581496Z",
          "iopub.status.busy": "2023-06-01T21:49:41.581277Z",
          "iopub.status.idle": "2023-06-01T21:49:41.586341Z",
          "shell.execute_reply": "2023-06-01T21:49:41.585901Z"
        },
        "papermill": {
          "duration": 0.012003,
          "end_time": "2023-06-01T21:49:41.588256",
          "exception": false,
          "start_time": "2023-06-01T21:49:41.576253",
          "status": "completed"
        },
        "tags": [
          "remove-cell"
        ]
      },
      "outputs": [],
      "source": [
        "import os, sys; sys.stderr = open(os.devnull, \"w\")"
      ]
    },
    {
      "cell_type": "code",
      "execution_count": 3,
      "id": "07c5d77f6ca08780",
      "metadata": {
        "execution": {
          "iopub.execute_input": "2023-06-01T21:49:41.597595Z",
          "iopub.status.busy": "2023-06-01T21:49:41.597400Z",
          "iopub.status.idle": "2023-06-01T21:49:42.344725Z",
          "shell.execute_reply": "2023-06-01T21:49:42.344336Z"
        },
        "papermill": {
          "duration": 0.753996,
          "end_time": "2023-06-01T21:49:42.346406",
          "exception": false,
          "start_time": "2023-06-01T21:49:41.592410",
          "status": "completed"
        },
        "tags": [
          "hide-input"
        ]
      },
      "outputs": [],
      "source": [
        "from __future__ import annotations\n",
        "\n",
        "import warnings\n",
        "from functools import lru_cache as cache\n",
        "from types import SimpleNamespace\n",
        "from typing import Optional, Tuple\n",
        "\n",
        "import sax\n",
        "from sax.typing_ import Model, SCoo, SDict\n",
        "from sax.utils import get_inputs_outputs, reciprocal\n",
        "\n",
        "try:\n",
        "    import jax\n",
        "    import jax.numpy as jnp\n",
        "    JAX_AVAILABLE = True\n",
        "except ImportError:\n",
        "    import numpy as jnp\n",
        "    \n",
        "    def jit(func, *args, **kwargs):\n",
        "        warnings.warn(\"[NO JAX] skipping jit! Please install JAX!\")\n",
        "        return func\n",
        "    \n",
        "    jax = SimpleNamespace(jit=jit)\n",
        "    \n",
        "    JAX_AVAILABLE = False"
      ]
    },
    {
      "cell_type": "markdown",
      "id": "efa9b619",
      "metadata": {
        "papermill": {
          "duration": 0.004577,
          "end_time": "2023-06-01T21:49:42.356152",
          "exception": false,
          "start_time": "2023-06-01T21:49:42.351575",
          "status": "completed"
        },
        "tags": []
      },
      "source": [
        "## Standard Models"
      ]
    },
    {
      "cell_type": "markdown",
      "id": "5d4f7365757bb3a0",
      "metadata": {},
      "source": [
        ":::{eval-rst}\n",
        ".. autofunction:: sax.models.straight\n",
        ":::\n"
      ]
    },
    {
      "cell_type": "code",
      "execution_count": 4,
      "id": "900ea94df252d6d1",
      "metadata": {
        "execution": {
          "iopub.execute_input": "2023-06-01T21:49:42.366664Z",
          "iopub.status.busy": "2023-06-01T21:49:42.366349Z",
          "iopub.status.idle": "2023-06-01T21:49:42.370730Z",
          "shell.execute_reply": "2023-06-01T21:49:42.370357Z"
        },
        "papermill": {
          "duration": 0.011542,
          "end_time": "2023-06-01T21:49:42.372546",
          "exception": false,
          "start_time": "2023-06-01T21:49:42.361004",
          "status": "completed"
        },
        "tags": [
          "hide-input"
        ]
      },
      "outputs": [],
      "source": [
        "\n",
        "def straight(\n",
        "    *,\n",
        "    wl: float = 1.55,\n",
        "    wl0: float = 1.55,\n",
        "    neff: float = 2.34,\n",
        "    ng: float = 3.4,\n",
        "    length: float = 10.0,\n",
        "    loss: float = 0.0\n",
        ") -> SDict:\n",
        "    \"\"\"a simple straight waveguide model\"\"\"\n",
        "    dwl = wl - wl0\n",
        "    dneff_dwl = (ng - neff) / wl0\n",
        "    neff = neff - dwl * dneff_dwl\n",
        "    phase = 2 * jnp.pi * neff * length / wl\n",
        "    amplitude = jnp.asarray(10 ** (-loss * length / 20), dtype=complex)\n",
        "    transmission =  amplitude * jnp.exp(1j * phase)\n",
        "    sdict = reciprocal(\n",
        "        {\n",
        "            (\"in0\", \"out0\"): transmission,\n",
        "        }\n",
        "    )\n",
        "    return sdict"
      ]
    },
    {
      "cell_type": "code",
      "execution_count": 5,
      "id": "a99cec57",
      "metadata": {
        "execution": {
          "iopub.execute_input": "2023-06-01T21:49:42.381840Z",
          "iopub.status.busy": "2023-06-01T21:49:42.381650Z",
          "iopub.status.idle": "2023-06-01T21:49:42.426727Z",
          "shell.execute_reply": "2023-06-01T21:49:42.426375Z"
        },
        "papermill": {
          "duration": 0.051394,
          "end_time": "2023-06-01T21:49:42.428102",
          "exception": false,
          "start_time": "2023-06-01T21:49:42.376708",
          "status": "completed"
        },
        "tags": []
      },
      "outputs": [
        {
          "data": {
            "text/plain": [
              "{('in0', 'out0'): Array(0.82076484+0.5712662j, dtype=complex64),\n",
              " ('out0', 'in0'): Array(0.82076484+0.5712662j, dtype=complex64)}"
            ]
          },
          "execution_count": 5,
          "metadata": {},
          "output_type": "execute_result"
        }
      ],
      "source": [
        "straight()"
      ]
    },
    {
      "cell_type": "markdown",
      "id": "88eeb7e8c946afae",
      "metadata": {},
      "source": [
        ":::{eval-rst}\n",
        ".. autofunction:: sax.models.coupler\n",
        ":::\n"
      ]
    },
    {
      "cell_type": "code",
      "execution_count": 6,
      "id": "b10ac4c9c81f8a28",
      "metadata": {
        "execution": {
          "iopub.execute_input": "2023-06-01T21:49:42.438154Z",
          "iopub.status.busy": "2023-06-01T21:49:42.437880Z",
          "iopub.status.idle": "2023-06-01T21:49:42.441254Z",
          "shell.execute_reply": "2023-06-01T21:49:42.440838Z"
        },
        "papermill": {
          "duration": 0.014149,
          "end_time": "2023-06-01T21:49:42.446754",
          "exception": false,
          "start_time": "2023-06-01T21:49:42.432605",
          "status": "completed"
        },
        "tags": [
          "hide-input"
        ]
      },
      "outputs": [],
      "source": [
        "\n",
        "def coupler(*, coupling: float = 0.5) -> SDict:\n",
        "    \"\"\"a simple coupler model\"\"\"\n",
        "    kappa = coupling ** 0.5\n",
        "    tau = (1 - coupling) ** 0.5\n",
        "    sdict = reciprocal(\n",
        "        {\n",
        "            (\"in0\", \"out0\"): tau,\n",
        "            (\"in0\", \"out1\"): 1j * kappa,\n",
        "            (\"in1\", \"out0\"): 1j * kappa,\n",
        "            (\"in1\", \"out1\"): tau,\n",
        "        }\n",
        "    )\n",
        "    return sdict"
      ]
    },
    {
      "cell_type": "code",
      "execution_count": 7,
      "id": "5fd87a22",
      "metadata": {
        "execution": {
          "iopub.execute_input": "2023-06-01T21:49:42.456458Z",
          "iopub.status.busy": "2023-06-01T21:49:42.456197Z",
          "iopub.status.idle": "2023-06-01T21:49:42.459794Z",
          "shell.execute_reply": "2023-06-01T21:49:42.459380Z"
        },
        "papermill": {
          "duration": 0.010645,
          "end_time": "2023-06-01T21:49:42.461767",
          "exception": false,
          "start_time": "2023-06-01T21:49:42.451122",
          "status": "completed"
        },
        "tags": []
      },
      "outputs": [
        {
          "data": {
            "text/plain": [
              "{('in0', 'out0'): 0.7071067811865476,\n",
              " ('in0', 'out1'): 0.7071067811865476j,\n",
              " ('in1', 'out0'): 0.7071067811865476j,\n",
              " ('in1', 'out1'): 0.7071067811865476,\n",
              " ('out0', 'in0'): 0.7071067811865476,\n",
              " ('out1', 'in0'): 0.7071067811865476j,\n",
              " ('out0', 'in1'): 0.7071067811865476j,\n",
              " ('out1', 'in1'): 0.7071067811865476}"
            ]
          },
          "execution_count": 7,
          "metadata": {},
          "output_type": "execute_result"
        }
      ],
      "source": [
        "coupler()"
      ]
    },
    {
      "cell_type": "markdown",
      "id": "ca06c12f",
      "metadata": {
        "papermill": {
          "duration": 0.004437,
          "end_time": "2023-06-01T21:49:42.470789",
          "exception": false,
          "start_time": "2023-06-01T21:49:42.466352",
          "status": "completed"
        },
        "tags": []
      },
      "source": [
        "## Model Factories"
      ]
    },
    {
      "cell_type": "code",
      "execution_count": 8,
      "id": "eec8043d67075a7e",
      "metadata": {
        "execution": {
          "iopub.execute_input": "2023-06-01T21:49:42.480535Z",
          "iopub.status.busy": "2023-06-01T21:49:42.480224Z",
          "iopub.status.idle": "2023-06-01T21:49:42.486535Z",
          "shell.execute_reply": "2023-06-01T21:49:42.486116Z"
        },
        "papermill": {
          "duration": 0.012563,
          "end_time": "2023-06-01T21:49:42.487804",
          "exception": false,
          "start_time": "2023-06-01T21:49:42.475241",
          "status": "completed"
        },
        "tags": [
          "remove-cell"
        ]
      },
      "outputs": [],
      "source": [
        "\n",
        "def _validate_ports(ports, num_inputs, num_outputs, diagonal) -> Tuple[Tuple[str,...], Tuple[str,...], int, int]:\n",
        "    if ports is None:\n",
        "        if num_inputs is None or num_outputs is None:\n",
        "            raise ValueError(\n",
        "                \"if not ports given, you must specify how many input ports \"\n",
        "                \"and how many output ports a model has.\"\n",
        "            )\n",
        "        input_ports = [f\"in{i}\" for i in range(num_inputs)]\n",
        "        output_ports = [f\"out{i}\" for i in range(num_outputs)]\n",
        "    else:\n",
        "        if num_inputs is not None:\n",
        "            if num_outputs is None:\n",
        "                raise ValueError(\n",
        "                    \"if num_inputs is given, num_outputs should be given as well.\"\n",
        "                )\n",
        "        if num_outputs is not None:\n",
        "            if num_inputs is None:\n",
        "                raise ValueError(\n",
        "                    \"if num_outputs is given, num_inputs should be given as well.\"\n",
        "                )\n",
        "        if num_inputs is not None and num_outputs is not None:\n",
        "            if num_inputs + num_outputs != len(ports):\n",
        "                raise ValueError(\"num_inputs + num_outputs != len(ports)\")\n",
        "            input_ports = ports[:num_inputs]\n",
        "            output_ports = ports[num_inputs:]\n",
        "        else:\n",
        "            input_ports, output_ports = get_inputs_outputs(ports)\n",
        "            num_inputs = len(input_ports)\n",
        "            num_outputs = len(output_ports)\n",
        "            \n",
        "    if diagonal:\n",
        "        if num_inputs != num_outputs:\n",
        "            raise ValueError(\n",
        "                \"Can only have a diagonal passthru if number of input ports equals the number of output ports!\"\n",
        "            )\n",
        "    return input_ports, output_ports, num_inputs, num_outputs"
      ]
    },
    {
      "cell_type": "markdown",
      "id": "08f9cbf150ccf681",
      "metadata": {},
      "source": [
        ":::{eval-rst}\n",
        ".. autofunction:: sax.models.unitary\n",
        ":::\n"
      ]
    },
    {
      "cell_type": "code",
      "execution_count": 9,
      "id": "bb233c10e113fca9",
      "metadata": {
        "execution": {
          "iopub.execute_input": "2023-06-01T21:49:42.497873Z",
          "iopub.status.busy": "2023-06-01T21:49:42.497533Z",
          "iopub.status.idle": "2023-06-01T21:49:42.506892Z",
          "shell.execute_reply": "2023-06-01T21:49:42.506467Z"
        },
        "papermill": {
          "duration": 0.015728,
          "end_time": "2023-06-01T21:49:42.508007",
          "exception": false,
          "start_time": "2023-06-01T21:49:42.492279",
          "status": "completed"
        },
        "tags": [
          "hide-input"
        ]
      },
      "outputs": [],
      "source": [
        "\n",
        "@cache\n",
        "def unitary(\n",
        "    num_inputs: Optional[int] = None,\n",
        "    num_outputs: Optional[int] = None,\n",
        "    ports: Optional[Tuple[str, ...]] = None,\n",
        "    *,\n",
        "    jit=True,\n",
        "    reciprocal=True,\n",
        "    diagonal=False,\n",
        ") -> Model:\n",
        "    input_ports, output_ports, num_inputs, num_outputs = _validate_ports(ports, num_inputs, num_outputs, diagonal)\n",
        "    assert num_inputs is not None and num_outputs is not None\n",
        "    \n",
        "    # let's create the squared S-matrix:\n",
        "    N = max(num_inputs, num_outputs)\n",
        "    S = jnp.zeros((2*N, 2*N), dtype=float)\n",
        "\n",
        "    if not diagonal:\n",
        "        if JAX_AVAILABLE:\n",
        "            S = S.at[:N, N:].set(1)\n",
        "        else:\n",
        "            S[:N, N:] = 1\n",
        "    else:\n",
        "        r = jnp.arange(N, dtype=int) # reciprocal only works if num_inputs == num_outputs!\n",
        "        if JAX_AVAILABLE:\n",
        "            S = S.at[r, N+r].set(1)\n",
        "        else:\n",
        "            S[r, N+r] = 1\n",
        "\n",
        "    if reciprocal:\n",
        "        if not diagonal:\n",
        "            if JAX_AVAILABLE:\n",
        "                S = S.at[N:, :N].set(1)\n",
        "            else:\n",
        "                S[N:, :N] = 1\n",
        "        else:\n",
        "            r = jnp.arange(N, dtype=int) # reciprocal only works if num_inputs == num_outputs!\n",
        "            if JAX_AVAILABLE:\n",
        "                S = S.at[N+r, r].set(1)\n",
        "            else:\n",
        "                S[N+r, r] = 1\n",
        "\n",
        "    # Now we need to normalize the squared S-matrix\n",
        "    U, s, V = jnp.linalg.svd(S, full_matrices=False)\n",
        "    S = jnp.sqrt(U@jnp.diag(jnp.where(s > 1e-12, 1, 0))@V)\n",
        "    \n",
        "    # Now create subset of this matrix we're interested in:\n",
        "    r = jnp.concatenate([jnp.arange(num_inputs, dtype=int), N+jnp.arange(num_outputs, dtype=int)], 0)\n",
        "    S = S[r, :][:, r]\n",
        "\n",
        "    # let's convert it in SCOO format:\n",
        "    Si, Sj = jnp.where(S > 1e-6)\n",
        "    Sx = S[Si, Sj]\n",
        "    \n",
        "    # the last missing piece is a port map:\n",
        "    pm = {\n",
        "        **{p: i for i, p in enumerate(input_ports)},\n",
        "        **{p: i + num_inputs for i, p in enumerate(output_ports)},\n",
        "    }\n",
        "    \n",
        "    def func(wl: float = 1.5) -> SCoo:\n",
        "        wl_ = jnp.asarray(wl)\n",
        "        Sx_ = jnp.broadcast_to(Sx, (*wl_.shape, *Sx.shape))\n",
        "        return Si, Sj, Sx_, pm\n",
        "\n",
        "    func.__name__ = f\"unitary_{num_inputs}_{num_outputs}\"\n",
        "    func.__qualname__ = f\"unitary_{num_inputs}_{num_outputs}\"\n",
        "    if jit:\n",
        "        return jax.jit(func)\n",
        "    return func"
      ]
    },
    {
      "cell_type": "markdown",
      "id": "327febf2-70d5-48ed-8b39-bac2d9727db5",
      "metadata": {
        "papermill": {
          "duration": 0.004416,
          "end_time": "2023-06-01T21:49:42.517151",
          "exception": false,
          "start_time": "2023-06-01T21:49:42.512735",
          "status": "completed"
        },
        "tags": []
      },
      "source": [
        "A unitary model returns an `SCoo` by default:"
      ]
    },
    {
      "cell_type": "code",
      "execution_count": 10,
      "id": "e95bacdd",
      "metadata": {
        "execution": {
          "iopub.execute_input": "2023-06-01T21:49:42.527047Z",
          "iopub.status.busy": "2023-06-01T21:49:42.526796Z",
          "iopub.status.idle": "2023-06-01T21:49:43.266997Z",
          "shell.execute_reply": "2023-06-01T21:49:43.266636Z"
        },
        "papermill": {
          "duration": 0.746614,
          "end_time": "2023-06-01T21:49:43.268359",
          "exception": false,
          "start_time": "2023-06-01T21:49:42.521745",
          "status": "completed"
        },
        "tags": []
      },
      "outputs": [
        {
          "data": {
            "text/plain": [
              "(Array([0, 0, 0, 1, 1, 1, 2, 2, 3, 3, 3], dtype=int32),\n",
              " Array([0, 2, 3, 1, 2, 3, 0, 1, 0, 1, 3], dtype=int32),\n",
              " Array([4.9899316e-01, 9.6622545e-01, 2.5769809e-01, 4.9899325e-01,\n",
              "        2.5769782e-01, 9.6622556e-01, 7.0710677e-01, 7.0710677e-01,\n",
              "        7.0710677e-01, 7.0710677e-01, 2.2561848e-04], dtype=float32),\n",
              " {'in0': Array(0, dtype=int32, weak_type=True),\n",
              "  'in1': Array(1, dtype=int32, weak_type=True),\n",
              "  'out0': Array(2, dtype=int32, weak_type=True),\n",
              "  'out1': Array(3, dtype=int32, weak_type=True)})"
            ]
          },
          "execution_count": 10,
          "metadata": {},
          "output_type": "execute_result"
        }
      ],
      "source": [
        "unitary_model = unitary(2, 2)\n",
        "unitary_model() # a unitary model returns an SCoo by default"
      ]
    },
    {
      "cell_type": "markdown",
      "id": "01ff2567-9b0e-4686-acb4-47cfb11b06ce",
      "metadata": {
        "papermill": {
          "duration": 0.005016,
          "end_time": "2023-06-01T21:49:43.278304",
          "exception": false,
          "start_time": "2023-06-01T21:49:43.273288",
          "status": "completed"
        },
        "tags": []
      },
      "source": [
        "As you probably already know, it's very easy to convert a model returning any `Stype` into a model returning an `SDict` as follows:"
      ]
    },
    {
      "cell_type": "code",
      "execution_count": 11,
      "id": "260dda8c-7e44-4f3f-b96c-e742daaf2885",
      "metadata": {
        "execution": {
          "iopub.execute_input": "2023-06-01T21:49:43.288668Z",
          "iopub.status.busy": "2023-06-01T21:49:43.288358Z",
          "iopub.status.idle": "2023-06-01T21:49:43.335700Z",
          "shell.execute_reply": "2023-06-01T21:49:43.335237Z"
        },
        "papermill": {
          "duration": 0.054147,
          "end_time": "2023-06-01T21:49:43.337095",
          "exception": false,
          "start_time": "2023-06-01T21:49:43.282948",
          "status": "completed"
        },
        "tags": []
      },
      "outputs": [
        {
          "data": {
            "text/plain": [
              "{('in0', 'in0'): Array(0.49899316, dtype=float32),\n",
              " ('in0', 'out0'): Array(0.96622545, dtype=float32),\n",
              " ('in0', 'out1'): Array(0.2576981, dtype=float32),\n",
              " ('in1', 'in1'): Array(0.49899325, dtype=float32),\n",
              " ('in1', 'out0'): Array(0.25769782, dtype=float32),\n",
              " ('in1', 'out1'): Array(0.96622556, dtype=float32),\n",
              " ('out0', 'in0'): Array(0.70710677, dtype=float32),\n",
              " ('out0', 'in1'): Array(0.70710677, dtype=float32),\n",
              " ('out1', 'in0'): Array(0.70710677, dtype=float32),\n",
              " ('out1', 'in1'): Array(0.70710677, dtype=float32),\n",
              " ('out1', 'out1'): Array(0.00022562, dtype=float32)}"
            ]
          },
          "execution_count": 11,
          "metadata": {},
          "output_type": "execute_result"
        }
      ],
      "source": [
        "unitary_sdict_model = sax.sdict(unitary_model)\n",
        "unitary_sdict_model()"
      ]
    },
    {
      "cell_type": "markdown",
      "id": "e9a1a46b-b10a-471b-b835-7b6d8d49175a",
      "metadata": {
        "papermill": {
          "duration": 0.004937,
          "end_time": "2023-06-01T21:49:43.347009",
          "exception": false,
          "start_time": "2023-06-01T21:49:43.342072",
          "status": "completed"
        },
        "tags": []
      },
      "source": [
        "If we need custom port names, we can also just specify them explicitly:"
      ]
    },
    {
      "cell_type": "code",
      "execution_count": 12,
      "id": "66abe9b0",
      "metadata": {
        "execution": {
          "iopub.execute_input": "2023-06-01T21:49:43.357420Z",
          "iopub.status.busy": "2023-06-01T21:49:43.357144Z",
          "iopub.status.idle": "2023-06-01T21:49:43.375043Z",
          "shell.execute_reply": "2023-06-01T21:49:43.374625Z"
        },
        "papermill": {
          "duration": 0.024522,
          "end_time": "2023-06-01T21:49:43.376206",
          "exception": false,
          "start_time": "2023-06-01T21:49:43.351684",
          "status": "completed"
        },
        "tags": []
      },
      "outputs": [
        {
          "data": {
            "text/plain": [
              "(Array([0, 0, 0, 1, 1, 1, 2, 2, 3, 3, 3], dtype=int32),\n",
              " Array([0, 2, 3, 1, 2, 3, 0, 1, 0, 1, 3], dtype=int32),\n",
              " Array([4.9899316e-01, 9.6622545e-01, 2.5769809e-01, 4.9899325e-01,\n",
              "        2.5769782e-01, 9.6622556e-01, 7.0710677e-01, 7.0710677e-01,\n",
              "        7.0710677e-01, 7.0710677e-01, 2.2561848e-04], dtype=float32),\n",
              " {'in0': Array(0, dtype=int32, weak_type=True),\n",
              "  'in1': Array(1, dtype=int32, weak_type=True),\n",
              "  'out0': Array(2, dtype=int32, weak_type=True),\n",
              "  'out1': Array(3, dtype=int32, weak_type=True)})"
            ]
          },
          "execution_count": 12,
          "metadata": {},
          "output_type": "execute_result"
        }
      ],
      "source": [
        "unitary_model = unitary(ports=(\"in0\", \"in1\", \"out0\", \"out1\"))\n",
        "unitary_model()"
      ]
    },
    {
      "cell_type": "markdown",
      "id": "ebf14c1c-ccfb-44e6-8572-18b366ffab91",
      "metadata": {
        "papermill": {
          "duration": 0.00477,
          "end_time": "2023-06-01T21:49:43.385920",
          "exception": false,
          "start_time": "2023-06-01T21:49:43.381150",
          "status": "completed"
        },
        "tags": []
      },
      "source": [
        "A unitary model will by default split a signal at an input port equally over all output ports. However, if there are an equal number of input ports as output ports we can in stead create a passthru by setting the `diagonal` flag to `True`:"
      ]
    },
    {
      "cell_type": "code",
      "execution_count": 13,
      "id": "7c1d61a3",
      "metadata": {
        "execution": {
          "iopub.execute_input": "2023-06-01T21:49:43.396693Z",
          "iopub.status.busy": "2023-06-01T21:49:43.396372Z",
          "iopub.status.idle": "2023-06-01T21:49:43.666323Z",
          "shell.execute_reply": "2023-06-01T21:49:43.665843Z"
        },
        "papermill": {
          "duration": 0.276701,
          "end_time": "2023-06-01T21:49:43.667629",
          "exception": false,
          "start_time": "2023-06-01T21:49:43.390928",
          "status": "completed"
        },
        "tags": []
      },
      "outputs": [
        {
          "data": {
            "text/plain": [
              "{('in0', 'out0'): Array(1., dtype=float32),\n",
              " ('in1', 'out1'): Array(1., dtype=float32),\n",
              " ('out0', 'in0'): Array(1., dtype=float32),\n",
              " ('out1', 'in1'): Array(1., dtype=float32)}"
            ]
          },
          "execution_count": 13,
          "metadata": {},
          "output_type": "execute_result"
        }
      ],
      "source": [
        "passthru_model = unitary(2, 2, diagonal=True)\n",
        "sax.sdict(passthru_model())"
      ]
    },
    {
      "cell_type": "code",
      "execution_count": 14,
      "id": "7f93b145",
      "metadata": {
        "execution": {
          "iopub.execute_input": "2023-06-01T21:49:43.679084Z",
          "iopub.status.busy": "2023-06-01T21:49:43.678805Z",
          "iopub.status.idle": "2023-06-01T21:49:44.454016Z",
          "shell.execute_reply": "2023-06-01T21:49:44.453657Z"
        },
        "papermill": {
          "duration": 0.782685,
          "end_time": "2023-06-01T21:49:44.455430",
          "exception": false,
          "start_time": "2023-06-01T21:49:43.672745",
          "status": "completed"
        },
        "tags": []
      },
      "outputs": [
        {
          "data": {
            "text/plain": [
              "{('in0', 'in0'): Array(0.89409053, dtype=float32),\n",
              " ('in0', 'out0'): Array(0.44721356, dtype=float32),\n",
              " ('in0', 'out1'): Array(0.44721356, dtype=float32),\n",
              " ('in0', 'out2'): Array(0.44721356, dtype=float32),\n",
              " ('in0', 'out3'): Array(0.44721356, dtype=float32),\n",
              " ('in0', 'out4'): Array(0.44721356, dtype=float32),\n",
              " ('out0', 'in0'): Array(0.45508003, dtype=float32),\n",
              " ('out0', 'out0'): Array(6.8863876e-05, dtype=float32),\n",
              " ('out0', 'out1'): Array(6.8863876e-05, dtype=float32),\n",
              " ('out0', 'out2'): Array(6.8863876e-05, dtype=float32),\n",
              " ('out0', 'out3'): Array(6.8863876e-05, dtype=float32),\n",
              " ('out0', 'out4'): Array(6.8863876e-05, dtype=float32),\n",
              " ('out1', 'in0'): Array(0.45508003, dtype=float32),\n",
              " ('out1', 'out0'): Array(6.8863876e-05, dtype=float32),\n",
              " ('out1', 'out1'): Array(6.8863876e-05, dtype=float32),\n",
              " ('out1', 'out2'): Array(6.8863876e-05, dtype=float32),\n",
              " ('out1', 'out3'): Array(6.8863876e-05, dtype=float32),\n",
              " ('out1', 'out4'): Array(6.8863876e-05, dtype=float32),\n",
              " ('out2', 'in0'): Array(0.45508003, dtype=float32),\n",
              " ('out2', 'out0'): Array(6.8863876e-05, dtype=float32),\n",
              " ('out2', 'out1'): Array(6.8863876e-05, dtype=float32),\n",
              " ('out2', 'out2'): Array(6.8863876e-05, dtype=float32),\n",
              " ('out2', 'out3'): Array(6.8863876e-05, dtype=float32),\n",
              " ('out2', 'out4'): Array(6.8863876e-05, dtype=float32),\n",
              " ('out3', 'in0'): Array(0.45508003, dtype=float32),\n",
              " ('out3', 'out0'): Array(6.8863876e-05, dtype=float32),\n",
              " ('out3', 'out1'): Array(6.8863876e-05, dtype=float32),\n",
              " ('out3', 'out2'): Array(6.8863876e-05, dtype=float32),\n",
              " ('out3', 'out3'): Array(6.8863876e-05, dtype=float32),\n",
              " ('out3', 'out4'): Array(6.8863876e-05, dtype=float32),\n",
              " ('out4', 'in0'): Array(0.4142568, dtype=float32),\n",
              " ('out4', 'out0'): Array(0.00012883, dtype=float32),\n",
              " ('out4', 'out1'): Array(0.00012883, dtype=float32),\n",
              " ('out4', 'out2'): Array(0.00012883, dtype=float32),\n",
              " ('out4', 'out3'): Array(0.00012883, dtype=float32),\n",
              " ('out4', 'out4'): Array(0.00012883, dtype=float32)}"
            ]
          },
          "execution_count": 14,
          "metadata": {},
          "output_type": "execute_result"
        }
      ],
      "source": [
        "ports_in=['in0']\n",
        "ports_out=['out0', 'out1', 'out2', 'out3', 'out4']\n",
        "model = unitary(\n",
        "    ports=tuple(ports_in+ports_out), jit=True, reciprocal=True\n",
        ")\n",
        "model = sax.sdict(model)\n",
        "model()"
      ]
    },
    {
      "cell_type": "markdown",
      "id": "8b149d44-5487-4e50-a2f2-1ad0aca99dac",
      "metadata": {
        "papermill": {
          "duration": 0.005452,
          "end_time": "2023-06-01T21:49:44.466271",
          "exception": false,
          "start_time": "2023-06-01T21:49:44.460819",
          "status": "completed"
        },
        "tags": []
      },
      "source": [
        "Because this is a pretty common usecase we have a dedicated model factory for this as well. This passthru component just takes the number of links (`'in{i}' -> 'out{i]'`) as input. Alternatively, as before, one can also specify the port names directly but one needs to ensure that `len(ports) == 2*num_links`."
      ]
    },
    {
      "cell_type": "markdown",
      "id": "a56d1ac66c206647",
      "metadata": {},
      "source": [
        ":::{eval-rst}\n",
        ".. autofunction:: sax.models.passthru\n",
        ":::\n"
      ]
    },
    {
      "cell_type": "code",
      "execution_count": 15,
      "id": "896a21bfef94f990",
      "metadata": {
        "execution": {
          "iopub.execute_input": "2023-06-01T21:49:44.477420Z",
          "iopub.status.busy": "2023-06-01T21:49:44.477108Z",
          "iopub.status.idle": "2023-06-01T21:49:44.481121Z",
          "shell.execute_reply": "2023-06-01T21:49:44.480681Z"
        },
        "papermill": {
          "duration": 0.011187,
          "end_time": "2023-06-01T21:49:44.482551",
          "exception": false,
          "start_time": "2023-06-01T21:49:44.471364",
          "status": "completed"
        },
        "tags": [
          "hide-input"
        ]
      },
      "outputs": [],
      "source": [
        "@cache\n",
        "def passthru(\n",
        "    num_links: Optional[int] = None,\n",
        "    ports: Optional[Tuple[str, ...]] = None,\n",
        "    *,\n",
        "    jit=True,\n",
        "    reciprocal=True,\n",
        ") -> Model:\n",
        "    passthru = unitary(num_links, num_links, ports, jit=jit, reciprocal=reciprocal, diagonal=True)\n",
        "    passthru.__name__ = f\"passthru_{num_links}_{num_links}\"\n",
        "    passthru.__qualname__ = f\"passthru_{num_links}_{num_links}\"\n",
        "    if jit:\n",
        "        return jax.jit(passthru)\n",
        "    return passthru"
      ]
    },
    {
      "cell_type": "code",
      "execution_count": 16,
      "id": "9e8b6cd7-56d4-4697-9a6e-33c929f3d853",
      "metadata": {
        "execution": {
          "iopub.execute_input": "2023-06-01T21:49:44.493665Z",
          "iopub.status.busy": "2023-06-01T21:49:44.493345Z",
          "iopub.status.idle": "2023-06-01T21:49:44.987741Z",
          "shell.execute_reply": "2023-06-01T21:49:44.987367Z"
        },
        "papermill": {
          "duration": 0.501437,
          "end_time": "2023-06-01T21:49:44.989121",
          "exception": false,
          "start_time": "2023-06-01T21:49:44.487684",
          "status": "completed"
        },
        "tags": []
      },
      "outputs": [
        {
          "data": {
            "text/plain": [
              "{('in0', 'out0'): Array(1., dtype=float32),\n",
              " ('in1', 'out1'): Array(1., dtype=float32),\n",
              " ('in2', 'out2'): Array(1., dtype=float32),\n",
              " ('out0', 'in0'): Array(1., dtype=float32),\n",
              " ('out1', 'in1'): Array(1., dtype=float32),\n",
              " ('out2', 'in2'): Array(1., dtype=float32)}"
            ]
          },
          "execution_count": 16,
          "metadata": {},
          "output_type": "execute_result"
        }
      ],
      "source": [
        "passthru_model = passthru(3)\n",
        "passthru_sdict_model = sax.sdict(passthru_model)\n",
        "passthru_sdict_model()"
      ]
    },
    {
      "cell_type": "code",
      "execution_count": 17,
      "id": "690e718c-2d84-4177-b8ad-ff39cf8c4691",
      "metadata": {
        "execution": {
          "iopub.execute_input": "2023-06-01T21:49:45.001249Z",
          "iopub.status.busy": "2023-06-01T21:49:45.000952Z",
          "iopub.status.idle": "2023-06-01T21:49:46.370096Z",
          "shell.execute_reply": "2023-06-01T21:49:46.369709Z"
        },
        "papermill": {
          "duration": 1.376738,
          "end_time": "2023-06-01T21:49:46.371476",
          "exception": false,
          "start_time": "2023-06-01T21:49:44.994738",
          "status": "completed"
        },
        "tags": []
      },
      "outputs": [
        {
          "data": {
            "text/plain": [
              "{('in0', 'in0'): Array(0.49903426, dtype=float32),\n",
              " ('out0', 'out0'): Array(0.49903426, dtype=float32),\n",
              " ('in0', 'out0'): Array(0.86544466, dtype=float32),\n",
              " ('out0', 'in0'): Array(0.86544466, dtype=float32)}"
            ]
          },
          "execution_count": 17,
          "metadata": {},
          "output_type": "execute_result"
        }
      ],
      "source": [
        "mzi, _ = sax.circuit(\n",
        "    netlist={\n",
        "        \"instances\": {\n",
        "            \"lft\": 'u12',\n",
        "            \"top\": 'u11',\n",
        "            \"rgt\": 'u12',\n",
        "        },\n",
        "        \"connections\": {\n",
        "            \"lft,out0\": \"rgt,out0\",\n",
        "            \"lft,out1\": \"top,in0\",\n",
        "            \"top,out0\": \"rgt,out1\",\n",
        "        },\n",
        "        \"ports\": {\n",
        "            \"in0\": \"lft,in0\",\n",
        "            \"out0\": \"rgt,in0\",\n",
        "        },\n",
        "    },\n",
        "    models={\n",
        "        'u12': unitary(1, 2),\n",
        "        'u11': unitary(1, 1),\n",
        "    },\n",
        ")\n",
        "mzi()"
      ]
    },
    {
      "cell_type": "markdown",
      "id": "b1c33d416b1fedf5",
      "metadata": {},
      "source": [
        ":::{eval-rst}\n",
        ".. autofunction:: sax.models.copier\n",
        ":::\n"
      ]
    },
    {
      "cell_type": "code",
      "execution_count": 18,
      "id": "e784b84b33c072fa",
      "metadata": {
        "execution": {
          "iopub.execute_input": "2023-06-01T21:49:46.384057Z",
          "iopub.status.busy": "2023-06-01T21:49:46.383566Z",
          "iopub.status.idle": "2023-06-01T21:49:46.392594Z",
          "shell.execute_reply": "2023-06-01T21:49:46.392167Z"
        },
        "papermill": {
          "duration": 0.016742,
          "end_time": "2023-06-01T21:49:46.393788",
          "exception": false,
          "start_time": "2023-06-01T21:49:46.377046",
          "status": "completed"
        },
        "tags": [
          "hide-input"
        ]
      },
      "outputs": [],
      "source": [
        "\n",
        "@cache\n",
        "def copier(\n",
        "    num_inputs: Optional[int] = None,\n",
        "    num_outputs: Optional[int] = None,\n",
        "    ports: Optional[Tuple[str, ...]] = None,\n",
        "    *,\n",
        "    jit=True,\n",
        "    reciprocal=True,\n",
        "    diagonal=False,\n",
        ") -> Model:\n",
        "        \n",
        "    input_ports, output_ports, num_inputs, num_outputs = _validate_ports(ports, num_inputs, num_outputs, diagonal)\n",
        "    assert num_inputs is not None and num_outputs is not None\n",
        "    \n",
        "    # let's create the squared S-matrix:\n",
        "    S = jnp.zeros((num_inputs+num_outputs, num_inputs+num_outputs), dtype=float)\n",
        "\n",
        "    if not diagonal:\n",
        "        if JAX_AVAILABLE:\n",
        "            S = S.at[:num_inputs, num_inputs:].set(1)\n",
        "        else:\n",
        "            S[:num_inputs, num_inputs:] = 1\n",
        "    else:\n",
        "        r = jnp.arange(num_inputs, dtype=int) # == range(num_outputs) # reciprocal only works if num_inputs == num_outputs!\n",
        "        if JAX_AVAILABLE:\n",
        "            S = S.at[r, num_inputs+r].set(1)\n",
        "        else:\n",
        "            S[r, num_inputs+r] = 1\n",
        "\n",
        "    if reciprocal:\n",
        "        if not diagonal:\n",
        "            if JAX_AVAILABLE:\n",
        "                S = S.at[num_inputs:, :num_inputs].set(1)\n",
        "            else:\n",
        "                S[num_inputs:, :num_inputs] = 1\n",
        "        else:\n",
        "            r = jnp.arange(num_inputs, dtype=int) # == range(num_outputs) # reciprocal only works if num_inputs == num_outputs!\n",
        "            if JAX_AVAILABLE:\n",
        "                S = S.at[num_inputs+r, r].set(1)\n",
        "            else:\n",
        "                S[num_inputs+r, r] = 1\n",
        "\n",
        "    # let's convert it in SCOO format:\n",
        "    Si, Sj = jnp.where(S > 1e-6)\n",
        "    Sx = S[Si, Sj]\n",
        "    \n",
        "    # the last missing piece is a port map:\n",
        "    pm = {\n",
        "        **{p: i for i, p in enumerate(input_ports)},\n",
        "        **{p: i + num_inputs for i, p in enumerate(output_ports)},\n",
        "    }\n",
        "    \n",
        "    def func(wl: float = 1.5) -> SCoo:\n",
        "        wl_ = jnp.asarray(wl)\n",
        "        Sx_ = jnp.broadcast_to(Sx, (*wl_.shape, *Sx.shape))\n",
        "        return Si, Sj, Sx_, pm\n",
        "\n",
        "    func.__name__ = f\"unitary_{num_inputs}_{num_outputs}\"\n",
        "    func.__qualname__ = f\"unitary_{num_inputs}_{num_outputs}\"\n",
        "    if jit:\n",
        "        return jax.jit(func)\n",
        "    return func"
      ]
    },
    {
      "cell_type": "markdown",
      "id": "77014d0f-1a08-4b4b-a011-cf11cd9684b8",
      "metadata": {
        "papermill": {
          "duration": 0.005556,
          "end_time": "2023-06-01T21:49:46.404892",
          "exception": false,
          "start_time": "2023-06-01T21:49:46.399336",
          "status": "completed"
        },
        "tags": []
      },
      "source": [
        "A copier model is like a unitary model, but copies the input signal over all output signals. Hence, if the model has multiple output ports, this model can be considered to introduce gain. That said, it can sometimes be a useful component."
      ]
    },
    {
      "cell_type": "code",
      "execution_count": 19,
      "id": "c2a61a9f-51ea-455f-a66f-94719b43520e",
      "metadata": {
        "execution": {
          "iopub.execute_input": "2023-06-01T21:49:46.416513Z",
          "iopub.status.busy": "2023-06-01T21:49:46.416232Z",
          "iopub.status.idle": "2023-06-01T21:49:46.627798Z",
          "shell.execute_reply": "2023-06-01T21:49:46.627426Z"
        },
        "papermill": {
          "duration": 0.21893,
          "end_time": "2023-06-01T21:49:46.629186",
          "exception": false,
          "start_time": "2023-06-01T21:49:46.410256",
          "status": "completed"
        },
        "tags": []
      },
      "outputs": [
        {
          "data": {
            "text/plain": [
              "(Array([0, 0, 1, 1, 2, 2, 3, 3], dtype=int32),\n",
              " Array([2, 3, 2, 3, 0, 1, 0, 1], dtype=int32),\n",
              " Array([1., 1., 1., 1., 1., 1., 1., 1.], dtype=float32),\n",
              " {'in0': Array(0, dtype=int32, weak_type=True),\n",
              "  'in1': Array(1, dtype=int32, weak_type=True),\n",
              "  'out0': Array(2, dtype=int32, weak_type=True),\n",
              "  'out1': Array(3, dtype=int32, weak_type=True)})"
            ]
          },
          "execution_count": 19,
          "metadata": {},
          "output_type": "execute_result"
        }
      ],
      "source": [
        "copier_model = copier(2, 2)\n",
        "copier_model() # a copier model returns an SCoo by default"
      ]
    },
    {
      "cell_type": "markdown",
      "id": "fbd51c6c-c059-4717-9dae-447becc7e8d5",
      "metadata": {
        "papermill": {
          "duration": 0.005694,
          "end_time": "2023-06-01T21:49:46.640689",
          "exception": false,
          "start_time": "2023-06-01T21:49:46.634995",
          "status": "completed"
        },
        "tags": []
      },
      "source": [
        "As you probably already know, it's very easy to convert a model returning any `Stype` into a model returning an `SDict` as follows:"
      ]
    },
    {
      "cell_type": "code",
      "execution_count": 20,
      "id": "becda099-b5d9-494c-a6b2-9828be10c4a5",
      "metadata": {
        "execution": {
          "iopub.execute_input": "2023-06-01T21:49:46.652568Z",
          "iopub.status.busy": "2023-06-01T21:49:46.652264Z",
          "iopub.status.idle": "2023-06-01T21:49:46.694259Z",
          "shell.execute_reply": "2023-06-01T21:49:46.693891Z"
        },
        "papermill": {
          "duration": 0.049401,
          "end_time": "2023-06-01T21:49:46.695569",
          "exception": false,
          "start_time": "2023-06-01T21:49:46.646168",
          "status": "completed"
        },
        "tags": []
      },
      "outputs": [
        {
          "data": {
            "text/plain": [
              "{('in0', 'out0'): Array(1., dtype=float32),\n",
              " ('in0', 'out1'): Array(1., dtype=float32),\n",
              " ('in1', 'out0'): Array(1., dtype=float32),\n",
              " ('in1', 'out1'): Array(1., dtype=float32),\n",
              " ('out0', 'in0'): Array(1., dtype=float32),\n",
              " ('out0', 'in1'): Array(1., dtype=float32),\n",
              " ('out1', 'in0'): Array(1., dtype=float32),\n",
              " ('out1', 'in1'): Array(1., dtype=float32)}"
            ]
          },
          "execution_count": 20,
          "metadata": {},
          "output_type": "execute_result"
        }
      ],
      "source": [
        "copier_sdict_model = sax.sdict(copier_model)\n",
        "copier_sdict_model()"
      ]
    },
    {
      "cell_type": "markdown",
      "id": "1ad16d1b-f685-4ab9-a8c4-41efbbdae4fa",
      "metadata": {
        "papermill": {
          "duration": 0.005797,
          "end_time": "2023-06-01T21:49:46.707096",
          "exception": false,
          "start_time": "2023-06-01T21:49:46.701299",
          "status": "completed"
        },
        "tags": []
      },
      "source": [
        "If we need custom port names, we can also just specify them explicitly:"
      ]
    },
    {
      "cell_type": "code",
      "execution_count": 21,
      "id": "297d1e45-b881-440b-b887-b38c5517596e",
      "metadata": {
        "execution": {
          "iopub.execute_input": "2023-06-01T21:49:46.719314Z",
          "iopub.status.busy": "2023-06-01T21:49:46.719019Z",
          "iopub.status.idle": "2023-06-01T21:49:46.735270Z",
          "shell.execute_reply": "2023-06-01T21:49:46.734826Z"
        },
        "papermill": {
          "duration": 0.023694,
          "end_time": "2023-06-01T21:49:46.736439",
          "exception": false,
          "start_time": "2023-06-01T21:49:46.712745",
          "status": "completed"
        },
        "tags": []
      },
      "outputs": [
        {
          "data": {
            "text/plain": [
              "(Array([0, 0, 1, 1, 2, 2, 3, 3], dtype=int32),\n",
              " Array([2, 3, 2, 3, 0, 1, 0, 1], dtype=int32),\n",
              " Array([1., 1., 1., 1., 1., 1., 1., 1.], dtype=float32),\n",
              " {'in0': Array(0, dtype=int32, weak_type=True),\n",
              "  'in1': Array(1, dtype=int32, weak_type=True),\n",
              "  'out0': Array(2, dtype=int32, weak_type=True),\n",
              "  'out1': Array(3, dtype=int32, weak_type=True)})"
            ]
          },
          "execution_count": 21,
          "metadata": {},
          "output_type": "execute_result"
        }
      ],
      "source": [
        "copier_model = copier(ports=(\"in0\", \"in1\", \"out0\", \"out1\"))\n",
        "copier_model()"
      ]
    },
    {
      "cell_type": "code",
      "execution_count": 22,
      "id": "608d7114-03ac-4f5f-9790-cf65379d81dd",
      "metadata": {
        "execution": {
          "iopub.execute_input": "2023-06-01T21:49:46.749333Z",
          "iopub.status.busy": "2023-06-01T21:49:46.749070Z",
          "iopub.status.idle": "2023-06-01T21:49:46.777002Z",
          "shell.execute_reply": "2023-06-01T21:49:46.776567Z"
        },
        "papermill": {
          "duration": 0.035441,
          "end_time": "2023-06-01T21:49:46.778179",
          "exception": false,
          "start_time": "2023-06-01T21:49:46.742738",
          "status": "completed"
        },
        "tags": []
      },
      "outputs": [
        {
          "data": {
            "text/plain": [
              "{('in0', 'in0'): Array(0.89409053, dtype=float32),\n",
              " ('in0', 'out0'): Array(0.44721356, dtype=float32),\n",
              " ('in0', 'out1'): Array(0.44721356, dtype=float32),\n",
              " ('in0', 'out2'): Array(0.44721356, dtype=float32),\n",
              " ('in0', 'out3'): Array(0.44721356, dtype=float32),\n",
              " ('in0', 'out4'): Array(0.44721356, dtype=float32),\n",
              " ('out0', 'in0'): Array(0.45508003, dtype=float32),\n",
              " ('out0', 'out0'): Array(6.8863876e-05, dtype=float32),\n",
              " ('out0', 'out1'): Array(6.8863876e-05, dtype=float32),\n",
              " ('out0', 'out2'): Array(6.8863876e-05, dtype=float32),\n",
              " ('out0', 'out3'): Array(6.8863876e-05, dtype=float32),\n",
              " ('out0', 'out4'): Array(6.8863876e-05, dtype=float32),\n",
              " ('out1', 'in0'): Array(0.45508003, dtype=float32),\n",
              " ('out1', 'out0'): Array(6.8863876e-05, dtype=float32),\n",
              " ('out1', 'out1'): Array(6.8863876e-05, dtype=float32),\n",
              " ('out1', 'out2'): Array(6.8863876e-05, dtype=float32),\n",
              " ('out1', 'out3'): Array(6.8863876e-05, dtype=float32),\n",
              " ('out1', 'out4'): Array(6.8863876e-05, dtype=float32),\n",
              " ('out2', 'in0'): Array(0.45508003, dtype=float32),\n",
              " ('out2', 'out0'): Array(6.8863876e-05, dtype=float32),\n",
              " ('out2', 'out1'): Array(6.8863876e-05, dtype=float32),\n",
              " ('out2', 'out2'): Array(6.8863876e-05, dtype=float32),\n",
              " ('out2', 'out3'): Array(6.8863876e-05, dtype=float32),\n",
              " ('out2', 'out4'): Array(6.8863876e-05, dtype=float32),\n",
              " ('out3', 'in0'): Array(0.45508003, dtype=float32),\n",
              " ('out3', 'out0'): Array(6.8863876e-05, dtype=float32),\n",
              " ('out3', 'out1'): Array(6.8863876e-05, dtype=float32),\n",
              " ('out3', 'out2'): Array(6.8863876e-05, dtype=float32),\n",
              " ('out3', 'out3'): Array(6.8863876e-05, dtype=float32),\n",
              " ('out3', 'out4'): Array(6.8863876e-05, dtype=float32),\n",
              " ('out4', 'in0'): Array(0.4142568, dtype=float32),\n",
              " ('out4', 'out0'): Array(0.00012883, dtype=float32),\n",
              " ('out4', 'out1'): Array(0.00012883, dtype=float32),\n",
              " ('out4', 'out2'): Array(0.00012883, dtype=float32),\n",
              " ('out4', 'out3'): Array(0.00012883, dtype=float32),\n",
              " ('out4', 'out4'): Array(0.00012883, dtype=float32)}"
            ]
          },
          "execution_count": 22,
          "metadata": {},
          "output_type": "execute_result"
        }
      ],
      "source": [
        "ports_in=['in0']\n",
        "ports_out=['out0', 'out1', 'out2', 'out3', 'out4']\n",
        "model = unitary(\n",
        "    ports=tuple(ports_in+ports_out), jit=True, reciprocal=True\n",
        ")\n",
        "model = sax.sdict(model)\n",
        "model()"
      ]
    },
    {
      "cell_type": "markdown",
      "id": "6d024e5b-95a9-44e5-9dbc-4980249e73a7",
      "metadata": {
        "papermill": {
          "duration": 0.005912,
          "end_time": "2023-06-01T21:49:46.789935",
          "exception": false,
          "start_time": "2023-06-01T21:49:46.784023",
          "status": "completed"
        },
        "tags": []
      },
      "source": [
        "Because this is a pretty common usecase we have a dedicated model factory for this as well. This passthru component just takes the number of links (`'in{i}' -> 'out{i]'`) as input. Alternatively, as before, one can also specify the port names directly but one needs to ensure that `len(ports) == 2*num_links`."
      ]
    },
    {
      "cell_type": "markdown",
      "id": "b8b680e06049b4ec",
      "metadata": {},
      "source": [
        ":::{eval-rst}\n",
        ".. autofunction:: sax.models.passthru\n",
        ":::\n"
      ]
    },
    {
      "cell_type": "code",
      "execution_count": 23,
      "id": "84fffb4f7bdc6afb",
      "metadata": {
        "execution": {
          "iopub.execute_input": "2023-06-01T21:49:46.802283Z",
          "iopub.status.busy": "2023-06-01T21:49:46.802017Z",
          "iopub.status.idle": "2023-06-01T21:49:46.805574Z",
          "shell.execute_reply": "2023-06-01T21:49:46.805138Z"
        },
        "papermill": {
          "duration": 0.01136,
          "end_time": "2023-06-01T21:49:46.807049",
          "exception": false,
          "start_time": "2023-06-01T21:49:46.795689",
          "status": "completed"
        },
        "tags": [
          "hide-input"
        ]
      },
      "outputs": [],
      "source": [
        "@cache\n",
        "def passthru(\n",
        "    num_links: Optional[int] = None,\n",
        "    ports: Optional[Tuple[str, ...]] = None,\n",
        "    *,\n",
        "    jit=True,\n",
        "    reciprocal=True,\n",
        ") -> Model:\n",
        "    passthru = unitary(num_links, num_links, ports, jit=jit, reciprocal=reciprocal, diagonal=True)\n",
        "    passthru.__name__ = f\"passthru_{num_links}_{num_links}\"\n",
        "    passthru.__qualname__ = f\"passthru_{num_links}_{num_links}\"\n",
        "    if jit:\n",
        "        return jax.jit(passthru)\n",
        "    return passthru"
      ]
    },
    {
      "cell_type": "code",
      "execution_count": 24,
      "id": "4a063810-224b-446c-a59d-12a20b56e82e",
      "metadata": {
        "execution": {
          "iopub.execute_input": "2023-06-01T21:49:46.819540Z",
          "iopub.status.busy": "2023-06-01T21:49:46.819237Z",
          "iopub.status.idle": "2023-06-01T21:49:46.828777Z",
          "shell.execute_reply": "2023-06-01T21:49:46.828355Z"
        },
        "papermill": {
          "duration": 0.017285,
          "end_time": "2023-06-01T21:49:46.830131",
          "exception": false,
          "start_time": "2023-06-01T21:49:46.812846",
          "status": "completed"
        },
        "tags": []
      },
      "outputs": [
        {
          "data": {
            "text/plain": [
              "{('in0', 'out0'): Array(1., dtype=float32),\n",
              " ('in1', 'out1'): Array(1., dtype=float32),\n",
              " ('in2', 'out2'): Array(1., dtype=float32),\n",
              " ('out0', 'in0'): Array(1., dtype=float32),\n",
              " ('out1', 'in1'): Array(1., dtype=float32),\n",
              " ('out2', 'in2'): Array(1., dtype=float32)}"
            ]
          },
          "execution_count": 24,
          "metadata": {},
          "output_type": "execute_result"
        }
      ],
      "source": [
        "passthru_model = passthru(3)\n",
        "passthru_sdict_model = sax.sdict(passthru_model)\n",
        "passthru_sdict_model()"
      ]
    },
    {
      "cell_type": "markdown",
      "id": "bb6e94aa",
      "metadata": {
        "papermill": {
          "duration": 0.005794,
          "end_time": "2023-06-01T21:49:46.841842",
          "exception": false,
          "start_time": "2023-06-01T21:49:46.836048",
          "status": "completed"
        },
        "tags": []
      },
      "source": [
        "## All Models"
      ]
    },
    {
      "cell_type": "markdown",
      "id": "a53ba0c717da0687",
      "metadata": {},
      "source": [
        ":::{eval-rst}\n",
        ".. autofunction:: sax.models.get_models\n",
        ":::\n"
      ]
    },
    {
      "cell_type": "code",
      "execution_count": 25,
      "id": "76eb4d3f32720d09",
      "metadata": {
        "execution": {
          "iopub.execute_input": "2023-06-01T21:49:46.854571Z",
          "iopub.status.busy": "2023-06-01T21:49:46.854311Z",
          "iopub.status.idle": "2023-06-01T21:49:46.857272Z",
          "shell.execute_reply": "2023-06-01T21:49:46.856845Z"
        },
        "papermill": {
          "duration": 0.010838,
          "end_time": "2023-06-01T21:49:46.858686",
          "exception": false,
          "start_time": "2023-06-01T21:49:46.847848",
          "status": "completed"
        },
        "tags": []
      },
      "outputs": [],
      "source": [
        "\n",
        "models = {\n",
        "    \"copier\": copier,\n",
        "    \"coupler\": coupler,\n",
        "    \"passthru\": passthru,\n",
        "    \"straight\": straight,\n",
        "    \"unitary\": unitary,\n",
        "}\n",
        "\n",
        "def get_models(copy: bool=True):\n",
        "    if copy:\n",
        "        return {**models}\n",
        "    return models"
      ]
    }
  ],
  "metadata": {
    "kernelspec": {
      "display_name": "sax",
      "language": "python",
      "name": "sax"
    },
    "language_info": {
      "codemirror_mode": {
        "name": "ipython",
        "version": 3
      },
      "file_extension": ".py",
      "mimetype": "text/x-python",
      "name": "python",
      "nbconvert_exporter": "python",
      "pygments_lexer": "ipython3",
      "version": "3.11.3"
    },
    "papermill": {
      "default_parameters": {},
      "duration": 6.974131,
      "end_time": "2023-06-01T21:49:47.290590",
      "environment_variables": {},
      "exception": null,
      "input_path": "./nbs/05_models.ipynb",
      "output_path": "./nbs/05_models.ipynb",
      "parameters": {},
      "start_time": "2023-06-01T21:49:40.316459",
      "version": "2.3.4"
    }
  },
  "nbformat": 4,
  "nbformat_minor": 5
}