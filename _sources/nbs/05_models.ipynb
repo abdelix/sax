{
  "cells": [
    {
      "cell_type": "code",
      "execution_count": 1,
      "id": "c37a878f063f29c4",
      "metadata": {
        "execution": {
          "iopub.execute_input": "2023-07-01T03:32:27.372545Z",
          "iopub.status.busy": "2023-07-01T03:32:27.372294Z",
          "iopub.status.idle": "2023-07-01T03:32:27.377064Z",
          "shell.execute_reply": "2023-07-01T03:32:27.376558Z"
        },
        "papermill": {
          "duration": 0.013376,
          "end_time": "2023-07-01T03:32:27.379394",
          "exception": false,
          "start_time": "2023-07-01T03:32:27.366018",
          "status": "completed"
        },
        "tags": [
          "remove-cell"
        ]
      },
      "outputs": [],
      "source": []
    },
    {
      "cell_type": "markdown",
      "id": "986cb864",
      "metadata": {
        "papermill": {
          "duration": 0.006834,
          "end_time": "2023-07-01T03:32:27.395472",
          "exception": false,
          "start_time": "2023-07-01T03:32:27.388638",
          "status": "completed"
        },
        "tags": []
      },
      "source": [
        "# Models\n",
        "\n",
        "> Default SAX Models"
      ]
    },
    {
      "cell_type": "code",
      "execution_count": 2,
      "id": "6f478aea4e73fab9",
      "metadata": {
        "execution": {
          "iopub.execute_input": "2023-07-01T03:32:27.411902Z",
          "iopub.status.busy": "2023-07-01T03:32:27.411704Z",
          "iopub.status.idle": "2023-07-01T03:32:27.416484Z",
          "shell.execute_reply": "2023-07-01T03:32:27.416106Z"
        },
        "papermill": {
          "duration": 0.011929,
          "end_time": "2023-07-01T03:32:27.418653",
          "exception": false,
          "start_time": "2023-07-01T03:32:27.406724",
          "status": "completed"
        },
        "tags": [
          "remove-cell"
        ]
      },
      "outputs": [],
      "source": [
        "import os, sys; sys.stderr = open(os.devnull, \"w\")"
      ]
    },
    {
      "cell_type": "code",
      "execution_count": 3,
      "id": "c39a7bc292feb398",
      "metadata": {
        "execution": {
          "iopub.execute_input": "2023-07-01T03:32:27.436344Z",
          "iopub.status.busy": "2023-07-01T03:32:27.436141Z",
          "iopub.status.idle": "2023-07-01T03:32:28.514700Z",
          "shell.execute_reply": "2023-07-01T03:32:28.514119Z"
        },
        "papermill": {
          "duration": 1.089076,
          "end_time": "2023-07-01T03:32:28.516693",
          "exception": false,
          "start_time": "2023-07-01T03:32:27.427617",
          "status": "completed"
        },
        "tags": [
          "hide-input"
        ]
      },
      "outputs": [],
      "source": [
        "from __future__ import annotations\n",
        "\n",
        "import warnings\n",
        "from functools import lru_cache as cache\n",
        "from types import SimpleNamespace\n",
        "from typing import Optional, Tuple\n",
        "\n",
        "import sax\n",
        "from sax.typing_ import Model, SCoo, SDict\n",
        "from sax.utils import get_inputs_outputs, reciprocal\n",
        "\n",
        "try:\n",
        "    import jax\n",
        "    import jax.numpy as jnp\n",
        "    JAX_AVAILABLE = True\n",
        "except ImportError:\n",
        "    import numpy as jnp\n",
        "    \n",
        "    def jit(func, *args, **kwargs):\n",
        "        warnings.warn(\"[NO JAX] skipping jit! Please install JAX!\")\n",
        "        return func\n",
        "    \n",
        "    jax = SimpleNamespace(jit=jit)\n",
        "    \n",
        "    JAX_AVAILABLE = False"
      ]
    },
    {
      "cell_type": "markdown",
      "id": "efa9b619",
      "metadata": {
        "papermill": {
          "duration": 0.004453,
          "end_time": "2023-07-01T03:32:28.526346",
          "exception": false,
          "start_time": "2023-07-01T03:32:28.521893",
          "status": "completed"
        },
        "tags": []
      },
      "source": [
        "## Standard Models"
      ]
    },
    {
      "cell_type": "markdown",
      "id": "132ad2cd1a77fb03",
      "metadata": {},
      "source": [
        ":::{eval-rst}\n",
        ".. autofunction:: sax.models.straight\n",
        ":::\n"
      ]
    },
    {
      "cell_type": "code",
      "execution_count": 4,
      "id": "9868f45379b209e9",
      "metadata": {
        "execution": {
          "iopub.execute_input": "2023-07-01T03:32:28.546681Z",
          "iopub.status.busy": "2023-07-01T03:32:28.546121Z",
          "iopub.status.idle": "2023-07-01T03:32:28.550909Z",
          "shell.execute_reply": "2023-07-01T03:32:28.550430Z"
        },
        "papermill": {
          "duration": 0.016657,
          "end_time": "2023-07-01T03:32:28.553300",
          "exception": false,
          "start_time": "2023-07-01T03:32:28.536643",
          "status": "completed"
        },
        "tags": [
          "hide-input"
        ]
      },
      "outputs": [],
      "source": [
        "\n",
        "def straight(\n",
        "    *,\n",
        "    wl: float = 1.55,\n",
        "    wl0: float = 1.55,\n",
        "    neff: float = 2.34,\n",
        "    ng: float = 3.4,\n",
        "    length: float = 10.0,\n",
        "    loss: float = 0.0\n",
        ") -> SDict:\n",
        "    \"\"\"a simple straight waveguide model\"\"\"\n",
        "    dwl = wl - wl0\n",
        "    dneff_dwl = (ng - neff) / wl0\n",
        "    neff = neff - dwl * dneff_dwl\n",
        "    phase = 2 * jnp.pi * neff * length / wl\n",
        "    amplitude = jnp.asarray(10 ** (-loss * length / 20), dtype=complex)\n",
        "    transmission =  amplitude * jnp.exp(1j * phase)\n",
        "    sdict = reciprocal(\n",
        "        {\n",
        "            (\"in0\", \"out0\"): transmission,\n",
        "        }\n",
        "    )\n",
        "    return sdict"
      ]
    },
    {
      "cell_type": "code",
      "execution_count": 5,
      "id": "a99cec57",
      "metadata": {
        "execution": {
          "iopub.execute_input": "2023-07-01T03:32:28.571300Z",
          "iopub.status.busy": "2023-07-01T03:32:28.570908Z",
          "iopub.status.idle": "2023-07-01T03:32:28.647620Z",
          "shell.execute_reply": "2023-07-01T03:32:28.647128Z"
        },
        "papermill": {
          "duration": 0.088639,
          "end_time": "2023-07-01T03:32:28.649348",
          "exception": false,
          "start_time": "2023-07-01T03:32:28.560709",
          "status": "completed"
        },
        "tags": []
      },
      "outputs": [
        {
          "data": {
            "text/plain": [
              "{('in0', 'out0'): Array(0.82076484+0.5712662j, dtype=complex64),\n",
              " ('out0', 'in0'): Array(0.82076484+0.5712662j, dtype=complex64)}"
            ]
          },
          "execution_count": 5,
          "metadata": {},
          "output_type": "execute_result"
        }
      ],
      "source": [
        "straight()"
      ]
    },
    {
      "cell_type": "markdown",
      "id": "5c4410c22d3252d0",
      "metadata": {},
      "source": [
        ":::{eval-rst}\n",
        ".. autofunction:: sax.models.coupler\n",
        ":::\n"
      ]
    },
    {
      "cell_type": "code",
      "execution_count": 6,
      "id": "b4eb627de4107c63",
      "metadata": {
        "execution": {
          "iopub.execute_input": "2023-07-01T03:32:28.660254Z",
          "iopub.status.busy": "2023-07-01T03:32:28.659508Z",
          "iopub.status.idle": "2023-07-01T03:32:28.666116Z",
          "shell.execute_reply": "2023-07-01T03:32:28.665639Z"
        },
        "papermill": {
          "duration": 0.014097,
          "end_time": "2023-07-01T03:32:28.668262",
          "exception": false,
          "start_time": "2023-07-01T03:32:28.654165",
          "status": "completed"
        },
        "tags": [
          "hide-input"
        ]
      },
      "outputs": [],
      "source": [
        "\n",
        "def coupler(*, coupling: float = 0.5) -> SDict:\n",
        "    \"\"\"a simple coupler model\"\"\"\n",
        "    kappa = coupling ** 0.5\n",
        "    tau = (1 - coupling) ** 0.5\n",
        "    sdict = reciprocal(\n",
        "        {\n",
        "            (\"in0\", \"out0\"): tau,\n",
        "            (\"in0\", \"out1\"): 1j * kappa,\n",
        "            (\"in1\", \"out0\"): 1j * kappa,\n",
        "            (\"in1\", \"out1\"): tau,\n",
        "        }\n",
        "    )\n",
        "    return sdict"
      ]
    },
    {
      "cell_type": "code",
      "execution_count": 7,
      "id": "5fd87a22",
      "metadata": {
        "execution": {
          "iopub.execute_input": "2023-07-01T03:32:28.686376Z",
          "iopub.status.busy": "2023-07-01T03:32:28.686006Z",
          "iopub.status.idle": "2023-07-01T03:32:28.689707Z",
          "shell.execute_reply": "2023-07-01T03:32:28.689270Z"
        },
        "papermill": {
          "duration": 0.017337,
          "end_time": "2023-07-01T03:32:28.693201",
          "exception": false,
          "start_time": "2023-07-01T03:32:28.675864",
          "status": "completed"
        },
        "tags": []
      },
      "outputs": [
        {
          "data": {
            "text/plain": [
              "{('in0', 'out0'): 0.7071067811865476,\n",
              " ('in0', 'out1'): 0.7071067811865476j,\n",
              " ('in1', 'out0'): 0.7071067811865476j,\n",
              " ('in1', 'out1'): 0.7071067811865476,\n",
              " ('out0', 'in0'): 0.7071067811865476,\n",
              " ('out1', 'in0'): 0.7071067811865476j,\n",
              " ('out0', 'in1'): 0.7071067811865476j,\n",
              " ('out1', 'in1'): 0.7071067811865476}"
            ]
          },
          "execution_count": 7,
          "metadata": {},
          "output_type": "execute_result"
        }
      ],
      "source": [
        "coupler()"
      ]
    },
    {
      "cell_type": "markdown",
      "id": "ca06c12f",
      "metadata": {
        "papermill": {
          "duration": 0.008989,
          "end_time": "2023-07-01T03:32:28.710333",
          "exception": false,
          "start_time": "2023-07-01T03:32:28.701344",
          "status": "completed"
        },
        "tags": []
      },
      "source": [
        "## Model Factories"
      ]
    },
    {
      "cell_type": "code",
      "execution_count": 8,
      "id": "f0cb9f5c4f9496a5",
      "metadata": {
        "execution": {
          "iopub.execute_input": "2023-07-01T03:32:28.732506Z",
          "iopub.status.busy": "2023-07-01T03:32:28.732135Z",
          "iopub.status.idle": "2023-07-01T03:32:28.737570Z",
          "shell.execute_reply": "2023-07-01T03:32:28.737147Z"
        },
        "papermill": {
          "duration": 0.016201,
          "end_time": "2023-07-01T03:32:28.739564",
          "exception": false,
          "start_time": "2023-07-01T03:32:28.723363",
          "status": "completed"
        },
        "tags": [
          "remove-cell"
        ]
      },
      "outputs": [],
      "source": [
        "\n",
        "def _validate_ports(ports, num_inputs, num_outputs, diagonal) -> Tuple[Tuple[str,...], Tuple[str,...], int, int]:\n",
        "    if ports is None:\n",
        "        if num_inputs is None or num_outputs is None:\n",
        "            raise ValueError(\n",
        "                \"if not ports given, you must specify how many input ports \"\n",
        "                \"and how many output ports a model has.\"\n",
        "            )\n",
        "        input_ports = [f\"in{i}\" for i in range(num_inputs)]\n",
        "        output_ports = [f\"out{i}\" for i in range(num_outputs)]\n",
        "    else:\n",
        "        if num_inputs is not None:\n",
        "            if num_outputs is None:\n",
        "                raise ValueError(\n",
        "                    \"if num_inputs is given, num_outputs should be given as well.\"\n",
        "                )\n",
        "        if num_outputs is not None:\n",
        "            if num_inputs is None:\n",
        "                raise ValueError(\n",
        "                    \"if num_outputs is given, num_inputs should be given as well.\"\n",
        "                )\n",
        "        if num_inputs is not None and num_outputs is not None:\n",
        "            if num_inputs + num_outputs != len(ports):\n",
        "                raise ValueError(\"num_inputs + num_outputs != len(ports)\")\n",
        "            input_ports = ports[:num_inputs]\n",
        "            output_ports = ports[num_inputs:]\n",
        "        else:\n",
        "            input_ports, output_ports = get_inputs_outputs(ports)\n",
        "            num_inputs = len(input_ports)\n",
        "            num_outputs = len(output_ports)\n",
        "            \n",
        "    if diagonal:\n",
        "        if num_inputs != num_outputs:\n",
        "            raise ValueError(\n",
        "                \"Can only have a diagonal passthru if number of input ports equals the number of output ports!\"\n",
        "            )\n",
        "    return input_ports, output_ports, num_inputs, num_outputs"
      ]
    },
    {
      "cell_type": "markdown",
      "id": "92f93221f5682515",
      "metadata": {},
      "source": [
        ":::{eval-rst}\n",
        ".. autofunction:: sax.models.unitary\n",
        ":::\n"
      ]
    },
    {
      "cell_type": "code",
      "execution_count": 9,
      "id": "333da1c81da7ace0",
      "metadata": {
        "execution": {
          "iopub.execute_input": "2023-07-01T03:32:28.821487Z",
          "iopub.status.busy": "2023-07-01T03:32:28.821146Z",
          "iopub.status.idle": "2023-07-01T03:32:28.830369Z",
          "shell.execute_reply": "2023-07-01T03:32:28.829983Z"
        },
        "papermill": {
          "duration": 0.082951,
          "end_time": "2023-07-01T03:32:28.831510",
          "exception": false,
          "start_time": "2023-07-01T03:32:28.748559",
          "status": "completed"
        },
        "tags": [
          "hide-input"
        ]
      },
      "outputs": [],
      "source": [
        "\n",
        "@cache\n",
        "def unitary(\n",
        "    num_inputs: Optional[int] = None,\n",
        "    num_outputs: Optional[int] = None,\n",
        "    ports: Optional[Tuple[str, ...]] = None,\n",
        "    *,\n",
        "    jit=True,\n",
        "    reciprocal=True,\n",
        "    diagonal=False,\n",
        ") -> Model:\n",
        "    input_ports, output_ports, num_inputs, num_outputs = _validate_ports(ports, num_inputs, num_outputs, diagonal)\n",
        "    assert num_inputs is not None and num_outputs is not None\n",
        "    \n",
        "    # let's create the squared S-matrix:\n",
        "    N = max(num_inputs, num_outputs)\n",
        "    S = jnp.zeros((2*N, 2*N), dtype=float)\n",
        "\n",
        "    if not diagonal:\n",
        "        if JAX_AVAILABLE:\n",
        "            S = S.at[:N, N:].set(1)\n",
        "        else:\n",
        "            S[:N, N:] = 1\n",
        "    else:\n",
        "        r = jnp.arange(N, dtype=int) # reciprocal only works if num_inputs == num_outputs!\n",
        "        if JAX_AVAILABLE:\n",
        "            S = S.at[r, N+r].set(1)\n",
        "        else:\n",
        "            S[r, N+r] = 1\n",
        "\n",
        "    if reciprocal:\n",
        "        if not diagonal:\n",
        "            if JAX_AVAILABLE:\n",
        "                S = S.at[N:, :N].set(1)\n",
        "            else:\n",
        "                S[N:, :N] = 1\n",
        "        else:\n",
        "            r = jnp.arange(N, dtype=int) # reciprocal only works if num_inputs == num_outputs!\n",
        "            if JAX_AVAILABLE:\n",
        "                S = S.at[N+r, r].set(1)\n",
        "            else:\n",
        "                S[N+r, r] = 1\n",
        "\n",
        "    # Now we need to normalize the squared S-matrix\n",
        "    U, s, V = jnp.linalg.svd(S, full_matrices=False)\n",
        "    S = jnp.sqrt(U@jnp.diag(jnp.where(s > 1e-12, 1, 0))@V)\n",
        "    \n",
        "    # Now create subset of this matrix we're interested in:\n",
        "    r = jnp.concatenate([jnp.arange(num_inputs, dtype=int), N+jnp.arange(num_outputs, dtype=int)], 0)\n",
        "    S = S[r, :][:, r]\n",
        "\n",
        "    # let's convert it in SCOO format:\n",
        "    Si, Sj = jnp.where(S > 1e-6)\n",
        "    Sx = S[Si, Sj]\n",
        "    \n",
        "    # the last missing piece is a port map:\n",
        "    pm = {\n",
        "        **{p: i for i, p in enumerate(input_ports)},\n",
        "        **{p: i + num_inputs for i, p in enumerate(output_ports)},\n",
        "    }\n",
        "    \n",
        "    def func(wl: float = 1.5) -> SCoo:\n",
        "        wl_ = jnp.asarray(wl)\n",
        "        Sx_ = jnp.broadcast_to(Sx, (*wl_.shape, *Sx.shape))\n",
        "        return Si, Sj, Sx_, pm\n",
        "\n",
        "    func.__name__ = f\"unitary_{num_inputs}_{num_outputs}\"\n",
        "    func.__qualname__ = f\"unitary_{num_inputs}_{num_outputs}\"\n",
        "    if jit:\n",
        "        return jax.jit(func)\n",
        "    return func"
      ]
    },
    {
      "cell_type": "markdown",
      "id": "327febf2-70d5-48ed-8b39-bac2d9727db5",
      "metadata": {
        "papermill": {
          "duration": 0.00473,
          "end_time": "2023-07-01T03:32:28.841064",
          "exception": false,
          "start_time": "2023-07-01T03:32:28.836334",
          "status": "completed"
        },
        "tags": []
      },
      "source": [
        "A unitary model returns an `SCoo` by default:"
      ]
    },
    {
      "cell_type": "code",
      "execution_count": 10,
      "id": "e95bacdd",
      "metadata": {
        "execution": {
          "iopub.execute_input": "2023-07-01T03:32:28.865808Z",
          "iopub.status.busy": "2023-07-01T03:32:28.865505Z",
          "iopub.status.idle": "2023-07-01T03:32:30.090650Z",
          "shell.execute_reply": "2023-07-01T03:32:30.090217Z"
        },
        "papermill": {
          "duration": 1.24096,
          "end_time": "2023-07-01T03:32:30.091913",
          "exception": false,
          "start_time": "2023-07-01T03:32:28.850953",
          "status": "completed"
        },
        "tags": []
      },
      "outputs": [
        {
          "data": {
            "text/plain": [
              "(Array([0, 0, 0, 1, 1, 1, 2, 2, 3, 3, 3], dtype=int32),\n",
              " Array([0, 2, 3, 1, 2, 3, 0, 1, 0, 1, 3], dtype=int32),\n",
              " Array([4.9899322e-01, 9.6622550e-01, 2.5769794e-01, 4.9899328e-01,\n",
              "        2.5769794e-01, 9.6622562e-01, 7.0710677e-01, 7.0710677e-01,\n",
              "        7.0710677e-01, 7.0710677e-01, 2.3246315e-04], dtype=float32),\n",
              " {'in0': Array(0, dtype=int32, weak_type=True),\n",
              "  'in1': Array(1, dtype=int32, weak_type=True),\n",
              "  'out0': Array(2, dtype=int32, weak_type=True),\n",
              "  'out1': Array(3, dtype=int32, weak_type=True)})"
            ]
          },
          "execution_count": 10,
          "metadata": {},
          "output_type": "execute_result"
        }
      ],
      "source": [
        "unitary_model = unitary(2, 2)\n",
        "unitary_model() # a unitary model returns an SCoo by default"
      ]
    },
    {
      "cell_type": "markdown",
      "id": "01ff2567-9b0e-4686-acb4-47cfb11b06ce",
      "metadata": {
        "papermill": {
          "duration": 0.004893,
          "end_time": "2023-07-01T03:32:30.101884",
          "exception": false,
          "start_time": "2023-07-01T03:32:30.096991",
          "status": "completed"
        },
        "tags": []
      },
      "source": [
        "As you probably already know, it's very easy to convert a model returning any `Stype` into a model returning an `SDict` as follows:"
      ]
    },
    {
      "cell_type": "code",
      "execution_count": 11,
      "id": "260dda8c-7e44-4f3f-b96c-e742daaf2885",
      "metadata": {
        "execution": {
          "iopub.execute_input": "2023-07-01T03:32:30.121270Z",
          "iopub.status.busy": "2023-07-01T03:32:30.121048Z",
          "iopub.status.idle": "2023-07-01T03:32:30.205915Z",
          "shell.execute_reply": "2023-07-01T03:32:30.205137Z"
        },
        "papermill": {
          "duration": 0.095919,
          "end_time": "2023-07-01T03:32:30.207291",
          "exception": false,
          "start_time": "2023-07-01T03:32:30.111372",
          "status": "completed"
        },
        "tags": []
      },
      "outputs": [
        {
          "data": {
            "text/plain": [
              "{('in0', 'in0'): Array(0.49899322, dtype=float32),\n",
              " ('in0', 'out0'): Array(0.9662255, dtype=float32),\n",
              " ('in0', 'out1'): Array(0.25769794, dtype=float32),\n",
              " ('in1', 'in1'): Array(0.49899328, dtype=float32),\n",
              " ('in1', 'out0'): Array(0.25769794, dtype=float32),\n",
              " ('in1', 'out1'): Array(0.9662256, dtype=float32),\n",
              " ('out0', 'in0'): Array(0.70710677, dtype=float32),\n",
              " ('out0', 'in1'): Array(0.70710677, dtype=float32),\n",
              " ('out1', 'in0'): Array(0.70710677, dtype=float32),\n",
              " ('out1', 'in1'): Array(0.70710677, dtype=float32),\n",
              " ('out1', 'out1'): Array(0.00023246, dtype=float32)}"
            ]
          },
          "execution_count": 11,
          "metadata": {},
          "output_type": "execute_result"
        }
      ],
      "source": [
        "unitary_sdict_model = sax.sdict(unitary_model)\n",
        "unitary_sdict_model()"
      ]
    },
    {
      "cell_type": "markdown",
      "id": "e9a1a46b-b10a-471b-b835-7b6d8d49175a",
      "metadata": {
        "papermill": {
          "duration": 0.006084,
          "end_time": "2023-07-01T03:32:30.218552",
          "exception": false,
          "start_time": "2023-07-01T03:32:30.212468",
          "status": "completed"
        },
        "tags": []
      },
      "source": [
        "If we need custom port names, we can also just specify them explicitly:"
      ]
    },
    {
      "cell_type": "code",
      "execution_count": 12,
      "id": "66abe9b0",
      "metadata": {
        "execution": {
          "iopub.execute_input": "2023-07-01T03:32:30.239230Z",
          "iopub.status.busy": "2023-07-01T03:32:30.238881Z",
          "iopub.status.idle": "2023-07-01T03:32:30.265876Z",
          "shell.execute_reply": "2023-07-01T03:32:30.265402Z"
        },
        "papermill": {
          "duration": 0.038605,
          "end_time": "2023-07-01T03:32:30.267344",
          "exception": false,
          "start_time": "2023-07-01T03:32:30.228739",
          "status": "completed"
        },
        "tags": []
      },
      "outputs": [
        {
          "data": {
            "text/plain": [
              "(Array([0, 0, 0, 1, 1, 1, 2, 2, 3, 3, 3], dtype=int32),\n",
              " Array([0, 2, 3, 1, 2, 3, 0, 1, 0, 1, 3], dtype=int32),\n",
              " Array([4.9899322e-01, 9.6622550e-01, 2.5769794e-01, 4.9899328e-01,\n",
              "        2.5769794e-01, 9.6622562e-01, 7.0710677e-01, 7.0710677e-01,\n",
              "        7.0710677e-01, 7.0710677e-01, 2.3246315e-04], dtype=float32),\n",
              " {'in0': Array(0, dtype=int32, weak_type=True),\n",
              "  'in1': Array(1, dtype=int32, weak_type=True),\n",
              "  'out0': Array(2, dtype=int32, weak_type=True),\n",
              "  'out1': Array(3, dtype=int32, weak_type=True)})"
            ]
          },
          "execution_count": 12,
          "metadata": {},
          "output_type": "execute_result"
        }
      ],
      "source": [
        "unitary_model = unitary(ports=(\"in0\", \"in1\", \"out0\", \"out1\"))\n",
        "unitary_model()"
      ]
    },
    {
      "cell_type": "markdown",
      "id": "ebf14c1c-ccfb-44e6-8572-18b366ffab91",
      "metadata": {
        "papermill": {
          "duration": 0.005889,
          "end_time": "2023-07-01T03:32:30.278263",
          "exception": false,
          "start_time": "2023-07-01T03:32:30.272374",
          "status": "completed"
        },
        "tags": []
      },
      "source": [
        "A unitary model will by default split a signal at an input port equally over all output ports. However, if there are an equal number of input ports as output ports we can in stead create a passthru by setting the `diagonal` flag to `True`:"
      ]
    },
    {
      "cell_type": "code",
      "execution_count": 13,
      "id": "7c1d61a3",
      "metadata": {
        "execution": {
          "iopub.execute_input": "2023-07-01T03:32:30.301635Z",
          "iopub.status.busy": "2023-07-01T03:32:30.301246Z",
          "iopub.status.idle": "2023-07-01T03:32:30.608902Z",
          "shell.execute_reply": "2023-07-01T03:32:30.608442Z"
        },
        "papermill": {
          "duration": 0.319683,
          "end_time": "2023-07-01T03:32:30.610226",
          "exception": false,
          "start_time": "2023-07-01T03:32:30.290543",
          "status": "completed"
        },
        "tags": []
      },
      "outputs": [
        {
          "data": {
            "text/plain": [
              "{('in0', 'out0'): Array(1., dtype=float32),\n",
              " ('in1', 'out1'): Array(1., dtype=float32),\n",
              " ('out0', 'in0'): Array(1., dtype=float32),\n",
              " ('out1', 'in1'): Array(1., dtype=float32)}"
            ]
          },
          "execution_count": 13,
          "metadata": {},
          "output_type": "execute_result"
        }
      ],
      "source": [
        "passthru_model = unitary(2, 2, diagonal=True)\n",
        "sax.sdict(passthru_model())"
      ]
    },
    {
      "cell_type": "code",
      "execution_count": 14,
      "id": "7f93b145",
      "metadata": {
        "execution": {
          "iopub.execute_input": "2023-07-01T03:32:30.626087Z",
          "iopub.status.busy": "2023-07-01T03:32:30.625774Z",
          "iopub.status.idle": "2023-07-01T03:32:31.917109Z",
          "shell.execute_reply": "2023-07-01T03:32:31.916704Z"
        },
        "papermill": {
          "duration": 1.302882,
          "end_time": "2023-07-01T03:32:31.918611",
          "exception": false,
          "start_time": "2023-07-01T03:32:30.615729",
          "status": "completed"
        },
        "tags": []
      },
      "outputs": [
        {
          "data": {
            "text/plain": [
              "{('in0', 'in0'): Array(0.8940905, dtype=float32),\n",
              " ('in0', 'out0'): Array(0.44721356, dtype=float32),\n",
              " ('in0', 'out1'): Array(0.44721356, dtype=float32),\n",
              " ('in0', 'out2'): Array(0.44721356, dtype=float32),\n",
              " ('in0', 'out3'): Array(0.44721356, dtype=float32),\n",
              " ('in0', 'out4'): Array(0.44721356, dtype=float32),\n",
              " ('out0', 'in0'): Array(0.45508003, dtype=float32),\n",
              " ('out0', 'out0'): Array(7.339057e-05, dtype=float32),\n",
              " ('out0', 'out1'): Array(7.339057e-05, dtype=float32),\n",
              " ('out0', 'out2'): Array(7.339057e-05, dtype=float32),\n",
              " ('out0', 'out3'): Array(7.339057e-05, dtype=float32),\n",
              " ('out0', 'out4'): Array(7.339057e-05, dtype=float32),\n",
              " ('out1', 'in0'): Array(0.45508003, dtype=float32),\n",
              " ('out1', 'out0'): Array(7.339057e-05, dtype=float32),\n",
              " ('out1', 'out1'): Array(7.339057e-05, dtype=float32),\n",
              " ('out1', 'out2'): Array(7.339057e-05, dtype=float32),\n",
              " ('out1', 'out3'): Array(7.339057e-05, dtype=float32),\n",
              " ('out1', 'out4'): Array(7.339057e-05, dtype=float32),\n",
              " ('out2', 'in0'): Array(0.45508003, dtype=float32),\n",
              " ('out2', 'out0'): Array(7.339057e-05, dtype=float32),\n",
              " ('out2', 'out1'): Array(7.339057e-05, dtype=float32),\n",
              " ('out2', 'out2'): Array(7.339057e-05, dtype=float32),\n",
              " ('out2', 'out3'): Array(7.339057e-05, dtype=float32),\n",
              " ('out2', 'out4'): Array(7.339057e-05, dtype=float32),\n",
              " ('out3', 'in0'): Array(0.45508003, dtype=float32),\n",
              " ('out3', 'out0'): Array(7.339057e-05, dtype=float32),\n",
              " ('out3', 'out1'): Array(7.339057e-05, dtype=float32),\n",
              " ('out3', 'out2'): Array(7.339057e-05, dtype=float32),\n",
              " ('out3', 'out3'): Array(7.339057e-05, dtype=float32),\n",
              " ('out3', 'out4'): Array(7.339057e-05, dtype=float32),\n",
              " ('out4', 'in0'): Array(0.4142568, dtype=float32),\n",
              " ('out4', 'out0'): Array(0.00011842, dtype=float32),\n",
              " ('out4', 'out1'): Array(0.00011842, dtype=float32),\n",
              " ('out4', 'out2'): Array(0.00011842, dtype=float32),\n",
              " ('out4', 'out3'): Array(0.00011842, dtype=float32),\n",
              " ('out4', 'out4'): Array(0.00011842, dtype=float32)}"
            ]
          },
          "execution_count": 14,
          "metadata": {},
          "output_type": "execute_result"
        }
      ],
      "source": [
        "ports_in=['in0']\n",
        "ports_out=['out0', 'out1', 'out2', 'out3', 'out4']\n",
        "model = unitary(\n",
        "    ports=tuple(ports_in+ports_out), jit=True, reciprocal=True\n",
        ")\n",
        "model = sax.sdict(model)\n",
        "model()"
      ]
    },
    {
      "cell_type": "markdown",
      "id": "8b149d44-5487-4e50-a2f2-1ad0aca99dac",
      "metadata": {
        "papermill": {
          "duration": 0.005277,
          "end_time": "2023-07-01T03:32:31.929626",
          "exception": false,
          "start_time": "2023-07-01T03:32:31.924349",
          "status": "completed"
        },
        "tags": []
      },
      "source": [
        "Because this is a pretty common usecase we have a dedicated model factory for this as well. This passthru component just takes the number of links (`'in{i}' -> 'out{i]'`) as input. Alternatively, as before, one can also specify the port names directly but one needs to ensure that `len(ports) == 2*num_links`."
      ]
    },
    {
      "cell_type": "markdown",
      "id": "79495b1aad96f6d5",
      "metadata": {},
      "source": [
        ":::{eval-rst}\n",
        ".. autofunction:: sax.models.passthru\n",
        ":::\n"
      ]
    },
    {
      "cell_type": "code",
      "execution_count": 15,
      "id": "3e81e57784fe199c",
      "metadata": {
        "execution": {
          "iopub.execute_input": "2023-07-01T03:32:31.941211Z",
          "iopub.status.busy": "2023-07-01T03:32:31.940983Z",
          "iopub.status.idle": "2023-07-01T03:32:31.944696Z",
          "shell.execute_reply": "2023-07-01T03:32:31.944300Z"
        },
        "papermill": {
          "duration": 0.01159,
          "end_time": "2023-07-01T03:32:31.946521",
          "exception": false,
          "start_time": "2023-07-01T03:32:31.934931",
          "status": "completed"
        },
        "tags": [
          "hide-input"
        ]
      },
      "outputs": [],
      "source": [
        "@cache\n",
        "def passthru(\n",
        "    num_links: Optional[int] = None,\n",
        "    ports: Optional[Tuple[str, ...]] = None,\n",
        "    *,\n",
        "    jit=True,\n",
        "    reciprocal=True,\n",
        ") -> Model:\n",
        "    passthru = unitary(num_links, num_links, ports, jit=jit, reciprocal=reciprocal, diagonal=True)\n",
        "    passthru.__name__ = f\"passthru_{num_links}_{num_links}\"\n",
        "    passthru.__qualname__ = f\"passthru_{num_links}_{num_links}\"\n",
        "    if jit:\n",
        "        return jax.jit(passthru)\n",
        "    return passthru"
      ]
    },
    {
      "cell_type": "code",
      "execution_count": 16,
      "id": "9e8b6cd7-56d4-4697-9a6e-33c929f3d853",
      "metadata": {
        "execution": {
          "iopub.execute_input": "2023-07-01T03:32:31.957972Z",
          "iopub.status.busy": "2023-07-01T03:32:31.957756Z",
          "iopub.status.idle": "2023-07-01T03:32:32.669027Z",
          "shell.execute_reply": "2023-07-01T03:32:32.668633Z"
        },
        "papermill": {
          "duration": 0.718814,
          "end_time": "2023-07-01T03:32:32.670532",
          "exception": false,
          "start_time": "2023-07-01T03:32:31.951718",
          "status": "completed"
        },
        "tags": []
      },
      "outputs": [
        {
          "data": {
            "text/plain": [
              "{('in0', 'out0'): Array(1., dtype=float32),\n",
              " ('in1', 'out1'): Array(1., dtype=float32),\n",
              " ('in2', 'out2'): Array(1., dtype=float32),\n",
              " ('out0', 'in0'): Array(1., dtype=float32),\n",
              " ('out1', 'in1'): Array(1., dtype=float32),\n",
              " ('out2', 'in2'): Array(1., dtype=float32)}"
            ]
          },
          "execution_count": 16,
          "metadata": {},
          "output_type": "execute_result"
        }
      ],
      "source": [
        "passthru_model = passthru(3)\n",
        "passthru_sdict_model = sax.sdict(passthru_model)\n",
        "passthru_sdict_model()"
      ]
    },
    {
      "cell_type": "code",
      "execution_count": 17,
      "id": "690e718c-2d84-4177-b8ad-ff39cf8c4691",
      "metadata": {
        "execution": {
          "iopub.execute_input": "2023-07-01T03:32:32.682940Z",
          "iopub.status.busy": "2023-07-01T03:32:32.682731Z",
          "iopub.status.idle": "2023-07-01T03:32:34.777555Z",
          "shell.execute_reply": "2023-07-01T03:32:34.777156Z"
        },
        "papermill": {
          "duration": 2.10282,
          "end_time": "2023-07-01T03:32:34.779067",
          "exception": false,
          "start_time": "2023-07-01T03:32:32.676247",
          "status": "completed"
        },
        "tags": []
      },
      "outputs": [
        {
          "data": {
            "text/plain": [
              "{('in0', 'in0'): Array(0.49903557, dtype=float32),\n",
              " ('out0', 'out0'): Array(0.49903557, dtype=float32),\n",
              " ('out0', 'in0'): Array(0.8654446, dtype=float32),\n",
              " ('in0', 'out0'): Array(0.8654446, dtype=float32)}"
            ]
          },
          "execution_count": 17,
          "metadata": {},
          "output_type": "execute_result"
        }
      ],
      "source": [
        "mzi, _ = sax.circuit(\n",
        "    netlist={\n",
        "        \"instances\": {\n",
        "            \"lft\": 'u12',\n",
        "            \"top\": 'u11',\n",
        "            \"rgt\": 'u12',\n",
        "        },\n",
        "        \"connections\": {\n",
        "            \"lft,out0\": \"rgt,out0\",\n",
        "            \"lft,out1\": \"top,in0\",\n",
        "            \"top,out0\": \"rgt,out1\",\n",
        "        },\n",
        "        \"ports\": {\n",
        "            \"in0\": \"lft,in0\",\n",
        "            \"out0\": \"rgt,in0\",\n",
        "        },\n",
        "    },\n",
        "    models={\n",
        "        'u12': unitary(1, 2),\n",
        "        'u11': unitary(1, 1),\n",
        "    },\n",
        ")\n",
        "mzi()"
      ]
    },
    {
      "cell_type": "markdown",
      "id": "cae887bb41d96765",
      "metadata": {},
      "source": [
        ":::{eval-rst}\n",
        ".. autofunction:: sax.models.copier\n",
        ":::\n"
      ]
    },
    {
      "cell_type": "code",
      "execution_count": 18,
      "id": "f9b054374d268d70",
      "metadata": {
        "execution": {
          "iopub.execute_input": "2023-07-01T03:32:34.791777Z",
          "iopub.status.busy": "2023-07-01T03:32:34.791567Z",
          "iopub.status.idle": "2023-07-01T03:32:34.800710Z",
          "shell.execute_reply": "2023-07-01T03:32:34.800330Z"
        },
        "papermill": {
          "duration": 0.01724,
          "end_time": "2023-07-01T03:32:34.802193",
          "exception": false,
          "start_time": "2023-07-01T03:32:34.784953",
          "status": "completed"
        },
        "tags": [
          "hide-input"
        ]
      },
      "outputs": [],
      "source": [
        "\n",
        "@cache\n",
        "def copier(\n",
        "    num_inputs: Optional[int] = None,\n",
        "    num_outputs: Optional[int] = None,\n",
        "    ports: Optional[Tuple[str, ...]] = None,\n",
        "    *,\n",
        "    jit=True,\n",
        "    reciprocal=True,\n",
        "    diagonal=False,\n",
        ") -> Model:\n",
        "        \n",
        "    input_ports, output_ports, num_inputs, num_outputs = _validate_ports(ports, num_inputs, num_outputs, diagonal)\n",
        "    assert num_inputs is not None and num_outputs is not None\n",
        "    \n",
        "    # let's create the squared S-matrix:\n",
        "    S = jnp.zeros((num_inputs+num_outputs, num_inputs+num_outputs), dtype=float)\n",
        "\n",
        "    if not diagonal:\n",
        "        if JAX_AVAILABLE:\n",
        "            S = S.at[:num_inputs, num_inputs:].set(1)\n",
        "        else:\n",
        "            S[:num_inputs, num_inputs:] = 1\n",
        "    else:\n",
        "        r = jnp.arange(num_inputs, dtype=int) # == range(num_outputs) # reciprocal only works if num_inputs == num_outputs!\n",
        "        if JAX_AVAILABLE:\n",
        "            S = S.at[r, num_inputs+r].set(1)\n",
        "        else:\n",
        "            S[r, num_inputs+r] = 1\n",
        "\n",
        "    if reciprocal:\n",
        "        if not diagonal:\n",
        "            if JAX_AVAILABLE:\n",
        "                S = S.at[num_inputs:, :num_inputs].set(1)\n",
        "            else:\n",
        "                S[num_inputs:, :num_inputs] = 1\n",
        "        else:\n",
        "            r = jnp.arange(num_inputs, dtype=int) # == range(num_outputs) # reciprocal only works if num_inputs == num_outputs!\n",
        "            if JAX_AVAILABLE:\n",
        "                S = S.at[num_inputs+r, r].set(1)\n",
        "            else:\n",
        "                S[num_inputs+r, r] = 1\n",
        "\n",
        "    # let's convert it in SCOO format:\n",
        "    Si, Sj = jnp.where(S > 1e-6)\n",
        "    Sx = S[Si, Sj]\n",
        "    \n",
        "    # the last missing piece is a port map:\n",
        "    pm = {\n",
        "        **{p: i for i, p in enumerate(input_ports)},\n",
        "        **{p: i + num_inputs for i, p in enumerate(output_ports)},\n",
        "    }\n",
        "    \n",
        "    def func(wl: float = 1.5) -> SCoo:\n",
        "        wl_ = jnp.asarray(wl)\n",
        "        Sx_ = jnp.broadcast_to(Sx, (*wl_.shape, *Sx.shape))\n",
        "        return Si, Sj, Sx_, pm\n",
        "\n",
        "    func.__name__ = f\"unitary_{num_inputs}_{num_outputs}\"\n",
        "    func.__qualname__ = f\"unitary_{num_inputs}_{num_outputs}\"\n",
        "    if jit:\n",
        "        return jax.jit(func)\n",
        "    return func"
      ]
    },
    {
      "cell_type": "markdown",
      "id": "77014d0f-1a08-4b4b-a011-cf11cd9684b8",
      "metadata": {
        "papermill": {
          "duration": 0.015117,
          "end_time": "2023-07-01T03:32:34.823071",
          "exception": false,
          "start_time": "2023-07-01T03:32:34.807954",
          "status": "completed"
        },
        "tags": []
      },
      "source": [
        "A copier model is like a unitary model, but copies the input signal over all output signals. Hence, if the model has multiple output ports, this model can be considered to introduce gain. That said, it can sometimes be a useful component."
      ]
    },
    {
      "cell_type": "code",
      "execution_count": 19,
      "id": "c2a61a9f-51ea-455f-a66f-94719b43520e",
      "metadata": {
        "execution": {
          "iopub.execute_input": "2023-07-01T03:32:34.846204Z",
          "iopub.status.busy": "2023-07-01T03:32:34.845994Z",
          "iopub.status.idle": "2023-07-01T03:32:35.252219Z",
          "shell.execute_reply": "2023-07-01T03:32:35.250605Z"
        },
        "papermill": {
          "duration": 0.421437,
          "end_time": "2023-07-01T03:32:35.253674",
          "exception": false,
          "start_time": "2023-07-01T03:32:34.832237",
          "status": "completed"
        },
        "tags": []
      },
      "outputs": [
        {
          "data": {
            "text/plain": [
              "(Array([0, 0, 1, 1, 2, 2, 3, 3], dtype=int32),\n",
              " Array([2, 3, 2, 3, 0, 1, 0, 1], dtype=int32),\n",
              " Array([1., 1., 1., 1., 1., 1., 1., 1.], dtype=float32),\n",
              " {'in0': Array(0, dtype=int32, weak_type=True),\n",
              "  'in1': Array(1, dtype=int32, weak_type=True),\n",
              "  'out0': Array(2, dtype=int32, weak_type=True),\n",
              "  'out1': Array(3, dtype=int32, weak_type=True)})"
            ]
          },
          "execution_count": 19,
          "metadata": {},
          "output_type": "execute_result"
        }
      ],
      "source": [
        "copier_model = copier(2, 2)\n",
        "copier_model() # a copier model returns an SCoo by default"
      ]
    },
    {
      "cell_type": "markdown",
      "id": "fbd51c6c-c059-4717-9dae-447becc7e8d5",
      "metadata": {
        "papermill": {
          "duration": 0.007502,
          "end_time": "2023-07-01T03:32:35.267272",
          "exception": false,
          "start_time": "2023-07-01T03:32:35.259770",
          "status": "completed"
        },
        "tags": []
      },
      "source": [
        "As you probably already know, it's very easy to convert a model returning any `Stype` into a model returning an `SDict` as follows:"
      ]
    },
    {
      "cell_type": "code",
      "execution_count": 20,
      "id": "becda099-b5d9-494c-a6b2-9828be10c4a5",
      "metadata": {
        "execution": {
          "iopub.execute_input": "2023-07-01T03:32:35.293118Z",
          "iopub.status.busy": "2023-07-01T03:32:35.292707Z",
          "iopub.status.idle": "2023-07-01T03:32:35.366770Z",
          "shell.execute_reply": "2023-07-01T03:32:35.366104Z"
        },
        "papermill": {
          "duration": 0.092324,
          "end_time": "2023-07-01T03:32:35.368492",
          "exception": false,
          "start_time": "2023-07-01T03:32:35.276168",
          "status": "completed"
        },
        "tags": []
      },
      "outputs": [
        {
          "data": {
            "text/plain": [
              "{('in0', 'out0'): Array(1., dtype=float32),\n",
              " ('in0', 'out1'): Array(1., dtype=float32),\n",
              " ('in1', 'out0'): Array(1., dtype=float32),\n",
              " ('in1', 'out1'): Array(1., dtype=float32),\n",
              " ('out0', 'in0'): Array(1., dtype=float32),\n",
              " ('out0', 'in1'): Array(1., dtype=float32),\n",
              " ('out1', 'in0'): Array(1., dtype=float32),\n",
              " ('out1', 'in1'): Array(1., dtype=float32)}"
            ]
          },
          "execution_count": 20,
          "metadata": {},
          "output_type": "execute_result"
        }
      ],
      "source": [
        "copier_sdict_model = sax.sdict(copier_model)\n",
        "copier_sdict_model()"
      ]
    },
    {
      "cell_type": "markdown",
      "id": "1ad16d1b-f685-4ab9-a8c4-41efbbdae4fa",
      "metadata": {
        "papermill": {
          "duration": 0.005687,
          "end_time": "2023-07-01T03:32:35.380230",
          "exception": false,
          "start_time": "2023-07-01T03:32:35.374543",
          "status": "completed"
        },
        "tags": []
      },
      "source": [
        "If we need custom port names, we can also just specify them explicitly:"
      ]
    },
    {
      "cell_type": "code",
      "execution_count": 21,
      "id": "297d1e45-b881-440b-b887-b38c5517596e",
      "metadata": {
        "execution": {
          "iopub.execute_input": "2023-07-01T03:32:35.410698Z",
          "iopub.status.busy": "2023-07-01T03:32:35.410263Z",
          "iopub.status.idle": "2023-07-01T03:32:35.431990Z",
          "shell.execute_reply": "2023-07-01T03:32:35.431577Z"
        },
        "papermill": {
          "duration": 0.038995,
          "end_time": "2023-07-01T03:32:35.433411",
          "exception": false,
          "start_time": "2023-07-01T03:32:35.394416",
          "status": "completed"
        },
        "tags": []
      },
      "outputs": [
        {
          "data": {
            "text/plain": [
              "(Array([0, 0, 1, 1, 2, 2, 3, 3], dtype=int32),\n",
              " Array([2, 3, 2, 3, 0, 1, 0, 1], dtype=int32),\n",
              " Array([1., 1., 1., 1., 1., 1., 1., 1.], dtype=float32),\n",
              " {'in0': Array(0, dtype=int32, weak_type=True),\n",
              "  'in1': Array(1, dtype=int32, weak_type=True),\n",
              "  'out0': Array(2, dtype=int32, weak_type=True),\n",
              "  'out1': Array(3, dtype=int32, weak_type=True)})"
            ]
          },
          "execution_count": 21,
          "metadata": {},
          "output_type": "execute_result"
        }
      ],
      "source": [
        "copier_model = copier(ports=(\"in0\", \"in1\", \"out0\", \"out1\"))\n",
        "copier_model()"
      ]
    },
    {
      "cell_type": "code",
      "execution_count": 22,
      "id": "608d7114-03ac-4f5f-9790-cf65379d81dd",
      "metadata": {
        "execution": {
          "iopub.execute_input": "2023-07-01T03:32:35.448781Z",
          "iopub.status.busy": "2023-07-01T03:32:35.448396Z",
          "iopub.status.idle": "2023-07-01T03:32:35.496708Z",
          "shell.execute_reply": "2023-07-01T03:32:35.496251Z"
        },
        "papermill": {
          "duration": 0.058908,
          "end_time": "2023-07-01T03:32:35.498135",
          "exception": false,
          "start_time": "2023-07-01T03:32:35.439227",
          "status": "completed"
        },
        "tags": []
      },
      "outputs": [
        {
          "data": {
            "text/plain": [
              "{('in0', 'in0'): Array(0.8940905, dtype=float32),\n",
              " ('in0', 'out0'): Array(0.44721356, dtype=float32),\n",
              " ('in0', 'out1'): Array(0.44721356, dtype=float32),\n",
              " ('in0', 'out2'): Array(0.44721356, dtype=float32),\n",
              " ('in0', 'out3'): Array(0.44721356, dtype=float32),\n",
              " ('in0', 'out4'): Array(0.44721356, dtype=float32),\n",
              " ('out0', 'in0'): Array(0.45508003, dtype=float32),\n",
              " ('out0', 'out0'): Array(7.339057e-05, dtype=float32),\n",
              " ('out0', 'out1'): Array(7.339057e-05, dtype=float32),\n",
              " ('out0', 'out2'): Array(7.339057e-05, dtype=float32),\n",
              " ('out0', 'out3'): Array(7.339057e-05, dtype=float32),\n",
              " ('out0', 'out4'): Array(7.339057e-05, dtype=float32),\n",
              " ('out1', 'in0'): Array(0.45508003, dtype=float32),\n",
              " ('out1', 'out0'): Array(7.339057e-05, dtype=float32),\n",
              " ('out1', 'out1'): Array(7.339057e-05, dtype=float32),\n",
              " ('out1', 'out2'): Array(7.339057e-05, dtype=float32),\n",
              " ('out1', 'out3'): Array(7.339057e-05, dtype=float32),\n",
              " ('out1', 'out4'): Array(7.339057e-05, dtype=float32),\n",
              " ('out2', 'in0'): Array(0.45508003, dtype=float32),\n",
              " ('out2', 'out0'): Array(7.339057e-05, dtype=float32),\n",
              " ('out2', 'out1'): Array(7.339057e-05, dtype=float32),\n",
              " ('out2', 'out2'): Array(7.339057e-05, dtype=float32),\n",
              " ('out2', 'out3'): Array(7.339057e-05, dtype=float32),\n",
              " ('out2', 'out4'): Array(7.339057e-05, dtype=float32),\n",
              " ('out3', 'in0'): Array(0.45508003, dtype=float32),\n",
              " ('out3', 'out0'): Array(7.339057e-05, dtype=float32),\n",
              " ('out3', 'out1'): Array(7.339057e-05, dtype=float32),\n",
              " ('out3', 'out2'): Array(7.339057e-05, dtype=float32),\n",
              " ('out3', 'out3'): Array(7.339057e-05, dtype=float32),\n",
              " ('out3', 'out4'): Array(7.339057e-05, dtype=float32),\n",
              " ('out4', 'in0'): Array(0.4142568, dtype=float32),\n",
              " ('out4', 'out0'): Array(0.00011842, dtype=float32),\n",
              " ('out4', 'out1'): Array(0.00011842, dtype=float32),\n",
              " ('out4', 'out2'): Array(0.00011842, dtype=float32),\n",
              " ('out4', 'out3'): Array(0.00011842, dtype=float32),\n",
              " ('out4', 'out4'): Array(0.00011842, dtype=float32)}"
            ]
          },
          "execution_count": 22,
          "metadata": {},
          "output_type": "execute_result"
        }
      ],
      "source": [
        "ports_in=['in0']\n",
        "ports_out=['out0', 'out1', 'out2', 'out3', 'out4']\n",
        "model = unitary(\n",
        "    ports=tuple(ports_in+ports_out), jit=True, reciprocal=True\n",
        ")\n",
        "model = sax.sdict(model)\n",
        "model()"
      ]
    },
    {
      "cell_type": "markdown",
      "id": "6d024e5b-95a9-44e5-9dbc-4980249e73a7",
      "metadata": {
        "papermill": {
          "duration": 0.007654,
          "end_time": "2023-07-01T03:32:35.512094",
          "exception": false,
          "start_time": "2023-07-01T03:32:35.504440",
          "status": "completed"
        },
        "tags": []
      },
      "source": [
        "Because this is a pretty common usecase we have a dedicated model factory for this as well. This passthru component just takes the number of links (`'in{i}' -> 'out{i]'`) as input. Alternatively, as before, one can also specify the port names directly but one needs to ensure that `len(ports) == 2*num_links`."
      ]
    },
    {
      "cell_type": "markdown",
      "id": "ac8a9919d659d6aa",
      "metadata": {},
      "source": [
        ":::{eval-rst}\n",
        ".. autofunction:: sax.models.passthru\n",
        ":::\n"
      ]
    },
    {
      "cell_type": "code",
      "execution_count": 23,
      "id": "8d217990de924f4e",
      "metadata": {
        "execution": {
          "iopub.execute_input": "2023-07-01T03:32:35.535247Z",
          "iopub.status.busy": "2023-07-01T03:32:35.534917Z",
          "iopub.status.idle": "2023-07-01T03:32:35.538654Z",
          "shell.execute_reply": "2023-07-01T03:32:35.538201Z"
        },
        "papermill": {
          "duration": 0.018718,
          "end_time": "2023-07-01T03:32:35.544787",
          "exception": false,
          "start_time": "2023-07-01T03:32:35.526069",
          "status": "completed"
        },
        "tags": [
          "hide-input"
        ]
      },
      "outputs": [],
      "source": [
        "@cache\n",
        "def passthru(\n",
        "    num_links: Optional[int] = None,\n",
        "    ports: Optional[Tuple[str, ...]] = None,\n",
        "    *,\n",
        "    jit=True,\n",
        "    reciprocal=True,\n",
        ") -> Model:\n",
        "    passthru = unitary(num_links, num_links, ports, jit=jit, reciprocal=reciprocal, diagonal=True)\n",
        "    passthru.__name__ = f\"passthru_{num_links}_{num_links}\"\n",
        "    passthru.__qualname__ = f\"passthru_{num_links}_{num_links}\"\n",
        "    if jit:\n",
        "        return jax.jit(passthru)\n",
        "    return passthru"
      ]
    },
    {
      "cell_type": "code",
      "execution_count": 24,
      "id": "4a063810-224b-446c-a59d-12a20b56e82e",
      "metadata": {
        "execution": {
          "iopub.execute_input": "2023-07-01T03:32:35.567849Z",
          "iopub.status.busy": "2023-07-01T03:32:35.567512Z",
          "iopub.status.idle": "2023-07-01T03:32:35.576090Z",
          "shell.execute_reply": "2023-07-01T03:32:35.575742Z"
        },
        "papermill": {
          "duration": 0.024342,
          "end_time": "2023-07-01T03:32:35.577187",
          "exception": false,
          "start_time": "2023-07-01T03:32:35.552845",
          "status": "completed"
        },
        "tags": []
      },
      "outputs": [
        {
          "data": {
            "text/plain": [
              "{('in0', 'out0'): Array(1., dtype=float32),\n",
              " ('in1', 'out1'): Array(1., dtype=float32),\n",
              " ('in2', 'out2'): Array(1., dtype=float32),\n",
              " ('out0', 'in0'): Array(1., dtype=float32),\n",
              " ('out1', 'in1'): Array(1., dtype=float32),\n",
              " ('out2', 'in2'): Array(1., dtype=float32)}"
            ]
          },
          "execution_count": 24,
          "metadata": {},
          "output_type": "execute_result"
        }
      ],
      "source": [
        "passthru_model = passthru(3)\n",
        "passthru_sdict_model = sax.sdict(passthru_model)\n",
        "passthru_sdict_model()"
      ]
    },
    {
      "cell_type": "markdown",
      "id": "bb6e94aa",
      "metadata": {
        "papermill": {
          "duration": 0.014127,
          "end_time": "2023-07-01T03:32:35.597337",
          "exception": false,
          "start_time": "2023-07-01T03:32:35.583210",
          "status": "completed"
        },
        "tags": []
      },
      "source": [
        "## All Models"
      ]
    },
    {
      "cell_type": "markdown",
      "id": "8a4b2c61251e82aa",
      "metadata": {},
      "source": [
        ":::{eval-rst}\n",
        ".. autofunction:: sax.models.get_models\n",
        ":::\n"
      ]
    },
    {
      "cell_type": "code",
      "execution_count": 25,
      "id": "358d20857d02ed88",
      "metadata": {
        "execution": {
          "iopub.execute_input": "2023-07-01T03:32:35.622695Z",
          "iopub.status.busy": "2023-07-01T03:32:35.622061Z",
          "iopub.status.idle": "2023-07-01T03:32:35.625233Z",
          "shell.execute_reply": "2023-07-01T03:32:35.624863Z"
        },
        "papermill": {
          "duration": 0.015758,
          "end_time": "2023-07-01T03:32:35.627330",
          "exception": false,
          "start_time": "2023-07-01T03:32:35.611572",
          "status": "completed"
        },
        "tags": []
      },
      "outputs": [],
      "source": [
        "\n",
        "models = {\n",
        "    \"copier\": copier,\n",
        "    \"coupler\": coupler,\n",
        "    \"passthru\": passthru,\n",
        "    \"straight\": straight,\n",
        "    \"unitary\": unitary,\n",
        "}\n",
        "\n",
        "def get_models(copy: bool=True):\n",
        "    if copy:\n",
        "        return {**models}\n",
        "    return models"
      ]
    }
  ],
  "metadata": {
    "kernelspec": {
      "display_name": "sax",
      "language": "python",
      "name": "sax"
    },
    "language_info": {
      "codemirror_mode": {
        "name": "ipython",
        "version": 3
      },
      "file_extension": ".py",
      "mimetype": "text/x-python",
      "name": "python",
      "nbconvert_exporter": "python",
      "pygments_lexer": "ipython3",
      "version": "3.11.4"
    },
    "papermill": {
      "default_parameters": {},
      "duration": 10.474827,
      "end_time": "2023-07-01T03:32:36.459778",
      "environment_variables": {},
      "exception": null,
      "input_path": "./nbs/05_models.ipynb",
      "output_path": "./nbs/05_models.ipynb",
      "parameters": {},
      "start_time": "2023-07-01T03:32:25.984951",
      "version": "2.3.4"
    }
  },
  "nbformat": 4,
  "nbformat_minor": 5
}