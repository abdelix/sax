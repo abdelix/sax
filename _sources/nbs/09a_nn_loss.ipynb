{
  "cells": [
    {
      "cell_type": "code",
      "execution_count": 1,
      "id": "12e316debeb57a19",
      "metadata": {
        "execution": {
          "iopub.execute_input": "2023-06-01T21:10:25.462667Z",
          "iopub.status.busy": "2023-06-01T21:10:25.462055Z",
          "iopub.status.idle": "2023-06-01T21:10:25.466074Z",
          "shell.execute_reply": "2023-06-01T21:10:25.465608Z"
        },
        "papermill": {
          "duration": 0.0083,
          "end_time": "2023-06-01T21:10:25.467460",
          "exception": false,
          "start_time": "2023-06-01T21:10:25.459160",
          "status": "completed"
        },
        "tags": [
          "remove-cell"
        ]
      },
      "outputs": [],
      "source": []
    },
    {
      "cell_type": "markdown",
      "id": "3cf6720e",
      "metadata": {
        "papermill": {
          "duration": 0.001304,
          "end_time": "2023-06-01T21:10:25.470359",
          "exception": false,
          "start_time": "2023-06-01T21:10:25.469055",
          "status": "completed"
        },
        "tags": []
      },
      "source": [
        "# Loss\n",
        "\n",
        "> loss functions and utilitites for SAX neural networks"
      ]
    },
    {
      "cell_type": "code",
      "execution_count": 2,
      "id": "dc890bfb77721a1c",
      "metadata": {
        "execution": {
          "iopub.execute_input": "2023-06-01T21:10:25.475147Z",
          "iopub.status.busy": "2023-06-01T21:10:25.474964Z",
          "iopub.status.idle": "2023-06-01T21:10:25.949308Z",
          "shell.execute_reply": "2023-06-01T21:10:25.948864Z"
        },
        "papermill": {
          "duration": 0.477787,
          "end_time": "2023-06-01T21:10:25.950743",
          "exception": false,
          "start_time": "2023-06-01T21:10:25.472956",
          "status": "completed"
        },
        "tags": [
          "remove-cell"
        ]
      },
      "outputs": [],
      "source": [
        "import matplotlib.pyplot as plt\n",
        "from fastcore.test import test_eq\n",
        "from pytest import approx, raises\n",
        "\n",
        "import os, sys; sys.stderr = open(os.devnull, \"w\")"
      ]
    },
    {
      "cell_type": "code",
      "execution_count": 3,
      "id": "e1a0b99749e46d02",
      "metadata": {
        "execution": {
          "iopub.execute_input": "2023-06-01T21:10:25.956023Z",
          "iopub.status.busy": "2023-06-01T21:10:25.954979Z",
          "iopub.status.idle": "2023-06-01T21:10:26.699932Z",
          "shell.execute_reply": "2023-06-01T21:10:26.699514Z"
        },
        "papermill": {
          "duration": 0.749191,
          "end_time": "2023-06-01T21:10:26.701597",
          "exception": false,
          "start_time": "2023-06-01T21:10:25.952406",
          "status": "completed"
        },
        "tags": [
          "hide-input"
        ]
      },
      "outputs": [],
      "source": [
        "from __future__ import annotations\n",
        "\n",
        "from typing import Dict\n",
        "\n",
        "import jax.numpy as jnp\n",
        "from sax.typing_ import ComplexFloat"
      ]
    },
    {
      "cell_type": "markdown",
      "id": "c1be18dfdca2056d",
      "metadata": {},
      "source": [
        ":::{eval-rst}\n",
        ".. autofunction:: sax.nn.loss.mse\n",
        ":::\n"
      ]
    },
    {
      "cell_type": "code",
      "execution_count": 4,
      "id": "81d6fdcecdfc0977",
      "metadata": {
        "execution": {
          "iopub.execute_input": "2023-06-01T21:10:26.706937Z",
          "iopub.status.busy": "2023-06-01T21:10:26.705870Z",
          "iopub.status.idle": "2023-06-01T21:10:26.709954Z",
          "shell.execute_reply": "2023-06-01T21:10:26.709634Z"
        },
        "papermill": {
          "duration": 0.00811,
          "end_time": "2023-06-01T21:10:26.711312",
          "exception": false,
          "start_time": "2023-06-01T21:10:26.703202",
          "status": "completed"
        },
        "tags": [
          "hide-input"
        ]
      },
      "outputs": [],
      "source": [
        "\n",
        "def mse(x: ComplexFloat, y: ComplexFloat) -> float:\n",
        "    \"\"\"mean squared error\"\"\"\n",
        "    return ((x - y) ** 2).mean()"
      ]
    },
    {
      "cell_type": "markdown",
      "id": "5c6931ad19bb76cc",
      "metadata": {},
      "source": [
        ":::{eval-rst}\n",
        ".. autofunction:: sax.nn.loss.huber_loss\n",
        ":::\n"
      ]
    },
    {
      "cell_type": "code",
      "execution_count": 5,
      "id": "db470bdcb7204c29",
      "metadata": {
        "execution": {
          "iopub.execute_input": "2023-06-01T21:10:26.715994Z",
          "iopub.status.busy": "2023-06-01T21:10:26.714933Z",
          "iopub.status.idle": "2023-06-01T21:10:26.719039Z",
          "shell.execute_reply": "2023-06-01T21:10:26.718704Z"
        },
        "papermill": {
          "duration": 0.007677,
          "end_time": "2023-06-01T21:10:26.720319",
          "exception": false,
          "start_time": "2023-06-01T21:10:26.712642",
          "status": "completed"
        },
        "tags": [
          "hide-input"
        ]
      },
      "outputs": [],
      "source": [
        "\n",
        "def huber_loss(x: ComplexFloat, y: ComplexFloat, delta: float=0.5) -> float:\n",
        "    \"\"\"huber loss\"\"\"\n",
        "    return ((delta ** 2) * ((1.0 + ((x - y) / delta) ** 2) ** 0.5 - 1.0)).mean()"
      ]
    },
    {
      "cell_type": "markdown",
      "id": "98d84861",
      "metadata": {
        "papermill": {
          "duration": 0.001531,
          "end_time": "2023-06-01T21:10:26.723202",
          "exception": false,
          "start_time": "2023-06-01T21:10:26.721671",
          "status": "completed"
        },
        "tags": []
      },
      "source": [
        "The huber loss is like the mean squared error close to zero and mean\n",
        "absolute error for outliers"
      ]
    },
    {
      "cell_type": "markdown",
      "id": "17609eea849488f3",
      "metadata": {},
      "source": [
        ":::{eval-rst}\n",
        ".. autofunction:: sax.nn.loss.l2_reg\n",
        ":::\n"
      ]
    },
    {
      "cell_type": "code",
      "execution_count": 6,
      "id": "fd26f7cde6339d41",
      "metadata": {
        "execution": {
          "iopub.execute_input": "2023-06-01T21:10:26.726928Z",
          "iopub.status.busy": "2023-06-01T21:10:26.726734Z",
          "iopub.status.idle": "2023-06-01T21:10:26.730138Z",
          "shell.execute_reply": "2023-06-01T21:10:26.729776Z"
        },
        "papermill": {
          "duration": 0.007222,
          "end_time": "2023-06-01T21:10:26.731835",
          "exception": false,
          "start_time": "2023-06-01T21:10:26.724613",
          "status": "completed"
        },
        "tags": [
          "hide-input"
        ]
      },
      "outputs": [],
      "source": [
        "\n",
        "def l2_reg(weights: Dict[str, ComplexFloat]) -> float:\n",
        "    \"\"\"L2 regularization loss\"\"\"\n",
        "    numel = 0\n",
        "    loss = 0.0\n",
        "    for w in (v for k, v in weights.items() if k[0] in (\"w\", \"b\")):\n",
        "        numel = numel + w.size\n",
        "        loss = loss + (jnp.abs(w) ** 2).sum()\n",
        "    return loss / numel"
      ]
    }
  ],
  "metadata": {
    "kernelspec": {
      "display_name": "sax",
      "language": "python",
      "name": "sax"
    },
    "language_info": {
      "codemirror_mode": {
        "name": "ipython",
        "version": 3
      },
      "file_extension": ".py",
      "mimetype": "text/x-python",
      "name": "python",
      "nbconvert_exporter": "python",
      "pygments_lexer": "ipython3",
      "version": "3.11.3"
    },
    "papermill": {
      "default_parameters": {},
      "duration": 3.251002,
      "end_time": "2023-06-01T21:10:27.260179",
      "environment_variables": {},
      "exception": null,
      "input_path": "./nbs/09a_nn_loss.ipynb",
      "output_path": "./nbs/09a_nn_loss.ipynb",
      "parameters": {},
      "start_time": "2023-06-01T21:10:24.009177",
      "version": "2.3.4"
    }
  },
  "nbformat": 4,
  "nbformat_minor": 5
}