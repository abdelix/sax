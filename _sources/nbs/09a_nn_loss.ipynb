{
  "cells": [
    {
      "cell_type": "code",
      "execution_count": 1,
      "id": "45c6499caa006eca",
      "metadata": {
        "execution": {
          "iopub.execute_input": "2023-06-01T21:50:06.298909Z",
          "iopub.status.busy": "2023-06-01T21:50:06.298679Z",
          "iopub.status.idle": "2023-06-01T21:50:06.302158Z",
          "shell.execute_reply": "2023-06-01T21:50:06.301660Z"
        },
        "papermill": {
          "duration": 0.00794,
          "end_time": "2023-06-01T21:50:06.303847",
          "exception": false,
          "start_time": "2023-06-01T21:50:06.295907",
          "status": "completed"
        },
        "tags": [
          "remove-cell"
        ]
      },
      "outputs": [],
      "source": []
    },
    {
      "cell_type": "markdown",
      "id": "3cf6720e",
      "metadata": {
        "papermill": {
          "duration": 0.001356,
          "end_time": "2023-06-01T21:50:06.306821",
          "exception": false,
          "start_time": "2023-06-01T21:50:06.305465",
          "status": "completed"
        },
        "tags": []
      },
      "source": [
        "# Loss\n",
        "\n",
        "> loss functions and utilitites for SAX neural networks"
      ]
    },
    {
      "cell_type": "code",
      "execution_count": 2,
      "id": "284fb81b3d80a5b7",
      "metadata": {
        "execution": {
          "iopub.execute_input": "2023-06-01T21:50:06.311458Z",
          "iopub.status.busy": "2023-06-01T21:50:06.311262Z",
          "iopub.status.idle": "2023-06-01T21:50:06.762396Z",
          "shell.execute_reply": "2023-06-01T21:50:06.761995Z"
        },
        "papermill": {
          "duration": 0.454866,
          "end_time": "2023-06-01T21:50:06.764051",
          "exception": false,
          "start_time": "2023-06-01T21:50:06.309185",
          "status": "completed"
        },
        "tags": [
          "remove-cell"
        ]
      },
      "outputs": [],
      "source": [
        "import matplotlib.pyplot as plt\n",
        "from fastcore.test import test_eq\n",
        "from pytest import approx, raises\n",
        "\n",
        "import os, sys; sys.stderr = open(os.devnull, \"w\")"
      ]
    },
    {
      "cell_type": "code",
      "execution_count": 3,
      "id": "941f52e1585f3d99",
      "metadata": {
        "execution": {
          "iopub.execute_input": "2023-06-01T21:50:06.769464Z",
          "iopub.status.busy": "2023-06-01T21:50:06.768388Z",
          "iopub.status.idle": "2023-06-01T21:50:07.467693Z",
          "shell.execute_reply": "2023-06-01T21:50:07.467303Z"
        },
        "papermill": {
          "duration": 0.703621,
          "end_time": "2023-06-01T21:50:07.469322",
          "exception": false,
          "start_time": "2023-06-01T21:50:06.765701",
          "status": "completed"
        },
        "tags": [
          "hide-input"
        ]
      },
      "outputs": [],
      "source": [
        "from __future__ import annotations\n",
        "\n",
        "from typing import Dict\n",
        "\n",
        "import jax.numpy as jnp\n",
        "from sax.typing_ import ComplexFloat"
      ]
    },
    {
      "cell_type": "markdown",
      "id": "91bcd17fe97c1b21",
      "metadata": {},
      "source": [
        ":::{eval-rst}\n",
        ".. autofunction:: sax.nn.loss.mse\n",
        ":::\n"
      ]
    },
    {
      "cell_type": "code",
      "execution_count": 4,
      "id": "db9749cfd613a080",
      "metadata": {
        "execution": {
          "iopub.execute_input": "2023-06-01T21:50:07.475024Z",
          "iopub.status.busy": "2023-06-01T21:50:07.473953Z",
          "iopub.status.idle": "2023-06-01T21:50:07.478054Z",
          "shell.execute_reply": "2023-06-01T21:50:07.477729Z"
        },
        "papermill": {
          "duration": 0.008186,
          "end_time": "2023-06-01T21:50:07.479362",
          "exception": false,
          "start_time": "2023-06-01T21:50:07.471176",
          "status": "completed"
        },
        "tags": [
          "hide-input"
        ]
      },
      "outputs": [],
      "source": [
        "\n",
        "def mse(x: ComplexFloat, y: ComplexFloat) -> float:\n",
        "    \"\"\"mean squared error\"\"\"\n",
        "    return ((x - y) ** 2).mean()"
      ]
    },
    {
      "cell_type": "markdown",
      "id": "68cae405e4dbd27e",
      "metadata": {},
      "source": [
        ":::{eval-rst}\n",
        ".. autofunction:: sax.nn.loss.huber_loss\n",
        ":::\n"
      ]
    },
    {
      "cell_type": "code",
      "execution_count": 5,
      "id": "214e1d08846246dc",
      "metadata": {
        "execution": {
          "iopub.execute_input": "2023-06-01T21:50:07.484084Z",
          "iopub.status.busy": "2023-06-01T21:50:07.482980Z",
          "iopub.status.idle": "2023-06-01T21:50:07.487160Z",
          "shell.execute_reply": "2023-06-01T21:50:07.486838Z"
        },
        "papermill": {
          "duration": 0.007679,
          "end_time": "2023-06-01T21:50:07.488405",
          "exception": false,
          "start_time": "2023-06-01T21:50:07.480726",
          "status": "completed"
        },
        "tags": [
          "hide-input"
        ]
      },
      "outputs": [],
      "source": [
        "\n",
        "def huber_loss(x: ComplexFloat, y: ComplexFloat, delta: float=0.5) -> float:\n",
        "    \"\"\"huber loss\"\"\"\n",
        "    return ((delta ** 2) * ((1.0 + ((x - y) / delta) ** 2) ** 0.5 - 1.0)).mean()"
      ]
    },
    {
      "cell_type": "markdown",
      "id": "98d84861",
      "metadata": {
        "papermill": {
          "duration": 0.001338,
          "end_time": "2023-06-01T21:50:07.491332",
          "exception": false,
          "start_time": "2023-06-01T21:50:07.489994",
          "status": "completed"
        },
        "tags": []
      },
      "source": [
        "The huber loss is like the mean squared error close to zero and mean\n",
        "absolute error for outliers"
      ]
    },
    {
      "cell_type": "markdown",
      "id": "6141e92f1f73ebd1",
      "metadata": {},
      "source": [
        ":::{eval-rst}\n",
        ".. autofunction:: sax.nn.loss.l2_reg\n",
        ":::\n"
      ]
    },
    {
      "cell_type": "code",
      "execution_count": 6,
      "id": "33e9173ad0bf9881",
      "metadata": {
        "execution": {
          "iopub.execute_input": "2023-06-01T21:50:07.494985Z",
          "iopub.status.busy": "2023-06-01T21:50:07.494797Z",
          "iopub.status.idle": "2023-06-01T21:50:07.498155Z",
          "shell.execute_reply": "2023-06-01T21:50:07.497791Z"
        },
        "papermill": {
          "duration": 0.007132,
          "end_time": "2023-06-01T21:50:07.499852",
          "exception": false,
          "start_time": "2023-06-01T21:50:07.492720",
          "status": "completed"
        },
        "tags": [
          "hide-input"
        ]
      },
      "outputs": [],
      "source": [
        "\n",
        "def l2_reg(weights: Dict[str, ComplexFloat]) -> float:\n",
        "    \"\"\"L2 regularization loss\"\"\"\n",
        "    numel = 0\n",
        "    loss = 0.0\n",
        "    for w in (v for k, v in weights.items() if k[0] in (\"w\", \"b\")):\n",
        "        numel = numel + w.size\n",
        "        loss = loss + (jnp.abs(w) ** 2).sum()\n",
        "    return loss / numel"
      ]
    }
  ],
  "metadata": {
    "kernelspec": {
      "display_name": "sax",
      "language": "python",
      "name": "sax"
    },
    "language_info": {
      "codemirror_mode": {
        "name": "ipython",
        "version": 3
      },
      "file_extension": ".py",
      "mimetype": "text/x-python",
      "name": "python",
      "nbconvert_exporter": "python",
      "pygments_lexer": "ipython3",
      "version": "3.11.3"
    },
    "papermill": {
      "default_parameters": {},
      "duration": 3.028305,
      "end_time": "2023-06-01T21:50:07.926842",
      "environment_variables": {},
      "exception": null,
      "input_path": "./nbs/09a_nn_loss.ipynb",
      "output_path": "./nbs/09a_nn_loss.ipynb",
      "parameters": {},
      "start_time": "2023-06-01T21:50:04.898537",
      "version": "2.3.4"
    }
  },
  "nbformat": 4,
  "nbformat_minor": 5
}