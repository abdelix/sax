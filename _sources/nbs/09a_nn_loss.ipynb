{
  "cells": [
    {
      "cell_type": "code",
      "execution_count": 1,
      "id": "56b8f9f512c3116c",
      "metadata": {
        "execution": {
          "iopub.execute_input": "2023-06-01T21:32:51.297211Z",
          "iopub.status.busy": "2023-06-01T21:32:51.296601Z",
          "iopub.status.idle": "2023-06-01T21:32:51.300103Z",
          "shell.execute_reply": "2023-06-01T21:32:51.299522Z"
        },
        "papermill": {
          "duration": 0.007952,
          "end_time": "2023-06-01T21:32:51.301361",
          "exception": false,
          "start_time": "2023-06-01T21:32:51.293409",
          "status": "completed"
        },
        "tags": [
          "remove-cell"
        ]
      },
      "outputs": [],
      "source": []
    },
    {
      "cell_type": "markdown",
      "id": "3cf6720e",
      "metadata": {
        "papermill": {
          "duration": 0.001285,
          "end_time": "2023-06-01T21:32:51.304245",
          "exception": false,
          "start_time": "2023-06-01T21:32:51.302960",
          "status": "completed"
        },
        "tags": []
      },
      "source": [
        "# Loss\n",
        "\n",
        "> loss functions and utilitites for SAX neural networks"
      ]
    },
    {
      "cell_type": "code",
      "execution_count": 2,
      "id": "b470dd012d4b8ab0",
      "metadata": {
        "execution": {
          "iopub.execute_input": "2023-06-01T21:32:51.309873Z",
          "iopub.status.busy": "2023-06-01T21:32:51.309487Z",
          "iopub.status.idle": "2023-06-01T21:32:51.762431Z",
          "shell.execute_reply": "2023-06-01T21:32:51.761984Z"
        },
        "papermill": {
          "duration": 0.456389,
          "end_time": "2023-06-01T21:32:51.763944",
          "exception": false,
          "start_time": "2023-06-01T21:32:51.307555",
          "status": "completed"
        },
        "tags": [
          "remove-cell"
        ]
      },
      "outputs": [],
      "source": [
        "import matplotlib.pyplot as plt\n",
        "from fastcore.test import test_eq\n",
        "from pytest import approx, raises\n",
        "\n",
        "import os, sys; sys.stderr = open(os.devnull, \"w\")"
      ]
    },
    {
      "cell_type": "code",
      "execution_count": 3,
      "id": "be92556f8469952a",
      "metadata": {
        "execution": {
          "iopub.execute_input": "2023-06-01T21:32:51.769196Z",
          "iopub.status.busy": "2023-06-01T21:32:51.768151Z",
          "iopub.status.idle": "2023-06-01T21:32:52.472576Z",
          "shell.execute_reply": "2023-06-01T21:32:52.472091Z"
        },
        "papermill": {
          "duration": 0.708605,
          "end_time": "2023-06-01T21:32:52.474135",
          "exception": false,
          "start_time": "2023-06-01T21:32:51.765530",
          "status": "completed"
        },
        "tags": [
          "hide-input"
        ]
      },
      "outputs": [],
      "source": [
        "from __future__ import annotations\n",
        "\n",
        "from typing import Dict\n",
        "\n",
        "import jax.numpy as jnp\n",
        "from sax.typing_ import ComplexFloat"
      ]
    },
    {
      "cell_type": "markdown",
      "id": "22982d06092658b2",
      "metadata": {},
      "source": [
        ":::{eval-rst}\n",
        ".. autofunction:: sax.nn.loss.mse\n",
        ":::\n"
      ]
    },
    {
      "cell_type": "code",
      "execution_count": 4,
      "id": "9f54167383143e48",
      "metadata": {
        "execution": {
          "iopub.execute_input": "2023-06-01T21:32:52.478547Z",
          "iopub.status.busy": "2023-06-01T21:32:52.477898Z",
          "iopub.status.idle": "2023-06-01T21:32:52.481260Z",
          "shell.execute_reply": "2023-06-01T21:32:52.480859Z"
        },
        "papermill": {
          "duration": 0.006796,
          "end_time": "2023-06-01T21:32:52.482506",
          "exception": false,
          "start_time": "2023-06-01T21:32:52.475710",
          "status": "completed"
        },
        "tags": [
          "hide-input"
        ]
      },
      "outputs": [],
      "source": [
        "\n",
        "def mse(x: ComplexFloat, y: ComplexFloat) -> float:\n",
        "    \"\"\"mean squared error\"\"\"\n",
        "    return ((x - y) ** 2).mean()"
      ]
    },
    {
      "cell_type": "markdown",
      "id": "f84c9a23729b547e",
      "metadata": {},
      "source": [
        ":::{eval-rst}\n",
        ".. autofunction:: sax.nn.loss.huber_loss\n",
        ":::\n"
      ]
    },
    {
      "cell_type": "code",
      "execution_count": 5,
      "id": "6e356fcee212e248",
      "metadata": {
        "execution": {
          "iopub.execute_input": "2023-06-01T21:32:52.486027Z",
          "iopub.status.busy": "2023-06-01T21:32:52.485782Z",
          "iopub.status.idle": "2023-06-01T21:32:52.489705Z",
          "shell.execute_reply": "2023-06-01T21:32:52.489382Z"
        },
        "papermill": {
          "duration": 0.007189,
          "end_time": "2023-06-01T21:32:52.491000",
          "exception": false,
          "start_time": "2023-06-01T21:32:52.483811",
          "status": "completed"
        },
        "tags": [
          "hide-input"
        ]
      },
      "outputs": [],
      "source": [
        "\n",
        "def huber_loss(x: ComplexFloat, y: ComplexFloat, delta: float=0.5) -> float:\n",
        "    \"\"\"huber loss\"\"\"\n",
        "    return ((delta ** 2) * ((1.0 + ((x - y) / delta) ** 2) ** 0.5 - 1.0)).mean()"
      ]
    },
    {
      "cell_type": "markdown",
      "id": "98d84861",
      "metadata": {
        "papermill": {
          "duration": 0.001315,
          "end_time": "2023-06-01T21:32:52.493623",
          "exception": false,
          "start_time": "2023-06-01T21:32:52.492308",
          "status": "completed"
        },
        "tags": []
      },
      "source": [
        "The huber loss is like the mean squared error close to zero and mean\n",
        "absolute error for outliers"
      ]
    },
    {
      "cell_type": "markdown",
      "id": "c2501e5c4ff3f9f6",
      "metadata": {},
      "source": [
        ":::{eval-rst}\n",
        ".. autofunction:: sax.nn.loss.l2_reg\n",
        ":::\n"
      ]
    },
    {
      "cell_type": "code",
      "execution_count": 6,
      "id": "c45cb305f033c3cf",
      "metadata": {
        "execution": {
          "iopub.execute_input": "2023-06-01T21:32:52.497195Z",
          "iopub.status.busy": "2023-06-01T21:32:52.497017Z",
          "iopub.status.idle": "2023-06-01T21:32:52.500472Z",
          "shell.execute_reply": "2023-06-01T21:32:52.499936Z"
        },
        "papermill": {
          "duration": 0.008016,
          "end_time": "2023-06-01T21:32:52.503047",
          "exception": false,
          "start_time": "2023-06-01T21:32:52.495031",
          "status": "completed"
        },
        "tags": [
          "hide-input"
        ]
      },
      "outputs": [],
      "source": [
        "\n",
        "def l2_reg(weights: Dict[str, ComplexFloat]) -> float:\n",
        "    \"\"\"L2 regularization loss\"\"\"\n",
        "    numel = 0\n",
        "    loss = 0.0\n",
        "    for w in (v for k, v in weights.items() if k[0] in (\"w\", \"b\")):\n",
        "        numel = numel + w.size\n",
        "        loss = loss + (jnp.abs(w) ** 2).sum()\n",
        "    return loss / numel"
      ]
    }
  ],
  "metadata": {
    "kernelspec": {
      "display_name": "sax",
      "language": "python",
      "name": "sax"
    },
    "language_info": {
      "codemirror_mode": {
        "name": "ipython",
        "version": 3
      },
      "file_extension": ".py",
      "mimetype": "text/x-python",
      "name": "python",
      "nbconvert_exporter": "python",
      "pygments_lexer": "ipython3",
      "version": "3.11.3"
    },
    "papermill": {
      "default_parameters": {},
      "duration": 2.985016,
      "end_time": "2023-06-01T21:32:53.031513",
      "environment_variables": {},
      "exception": null,
      "input_path": "./nbs/09a_nn_loss.ipynb",
      "output_path": "./nbs/09a_nn_loss.ipynb",
      "parameters": {},
      "start_time": "2023-06-01T21:32:50.046497",
      "version": "2.3.4"
    }
  },
  "nbformat": 4,
  "nbformat_minor": 5
}