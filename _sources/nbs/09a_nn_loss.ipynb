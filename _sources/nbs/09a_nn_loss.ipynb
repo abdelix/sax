{
  "cells": [
    {
      "cell_type": "code",
      "execution_count": 1,
      "id": "0d1285b2c79a2689",
      "metadata": {
        "execution": {
          "iopub.execute_input": "2023-09-02T18:59:21.254441Z",
          "iopub.status.busy": "2023-09-02T18:59:21.254207Z",
          "iopub.status.idle": "2023-09-02T18:59:21.257235Z",
          "shell.execute_reply": "2023-09-02T18:59:21.256682Z"
        },
        "papermill": {
          "duration": 0.007472,
          "end_time": "2023-09-02T18:59:21.258517",
          "exception": false,
          "start_time": "2023-09-02T18:59:21.251045",
          "status": "completed"
        },
        "tags": [
          "remove-cell"
        ]
      },
      "outputs": [],
      "source": []
    },
    {
      "cell_type": "markdown",
      "id": "3cf6720e",
      "metadata": {
        "papermill": {
          "duration": 0.00149,
          "end_time": "2023-09-02T18:59:21.261612",
          "exception": false,
          "start_time": "2023-09-02T18:59:21.260122",
          "status": "completed"
        },
        "tags": []
      },
      "source": [
        "# Loss\n",
        "\n",
        "> loss functions and utilitites for SAX neural networks"
      ]
    },
    {
      "cell_type": "code",
      "execution_count": 2,
      "id": "6949667ef2dfb549",
      "metadata": {
        "execution": {
          "iopub.execute_input": "2023-09-02T18:59:21.265383Z",
          "iopub.status.busy": "2023-09-02T18:59:21.264922Z",
          "iopub.status.idle": "2023-09-02T18:59:21.681196Z",
          "shell.execute_reply": "2023-09-02T18:59:21.680760Z"
        },
        "papermill": {
          "duration": 0.419738,
          "end_time": "2023-09-02T18:59:21.682689",
          "exception": false,
          "start_time": "2023-09-02T18:59:21.262951",
          "status": "completed"
        },
        "tags": [
          "remove-cell"
        ]
      },
      "outputs": [],
      "source": [
        "import matplotlib.pyplot as plt\n",
        "from fastcore.test import test_eq\n",
        "from pytest import approx, raises\n",
        "\n",
        "import os, sys; sys.stderr = open(os.devnull, \"w\")"
      ]
    },
    {
      "cell_type": "code",
      "execution_count": 3,
      "id": "03849f3e124f5f24",
      "metadata": {
        "execution": {
          "iopub.execute_input": "2023-09-02T18:59:21.687725Z",
          "iopub.status.busy": "2023-09-02T18:59:21.687263Z",
          "iopub.status.idle": "2023-09-02T18:59:22.436912Z",
          "shell.execute_reply": "2023-09-02T18:59:22.436486Z"
        },
        "papermill": {
          "duration": 0.753609,
          "end_time": "2023-09-02T18:59:22.438504",
          "exception": false,
          "start_time": "2023-09-02T18:59:21.684895",
          "status": "completed"
        },
        "tags": [
          "hide-input"
        ]
      },
      "outputs": [],
      "source": [
        "from __future__ import annotations\n",
        "\n",
        "from typing import Dict\n",
        "\n",
        "import jax.numpy as jnp\n",
        "from sax.typing_ import ComplexFloat"
      ]
    },
    {
      "cell_type": "markdown",
      "id": "05a77e0729d16558",
      "metadata": {},
      "source": [
        ":::{eval-rst}\n",
        ".. autofunction:: sax.nn.loss.mse\n",
        ":::\n"
      ]
    },
    {
      "cell_type": "code",
      "execution_count": 4,
      "id": "7d1815e7634d65ba",
      "metadata": {
        "execution": {
          "iopub.execute_input": "2023-09-02T18:59:22.443303Z",
          "iopub.status.busy": "2023-09-02T18:59:22.442794Z",
          "iopub.status.idle": "2023-09-02T18:59:22.445944Z",
          "shell.execute_reply": "2023-09-02T18:59:22.445532Z"
        },
        "papermill": {
          "duration": 0.006927,
          "end_time": "2023-09-02T18:59:22.447152",
          "exception": false,
          "start_time": "2023-09-02T18:59:22.440225",
          "status": "completed"
        },
        "tags": [
          "hide-input"
        ]
      },
      "outputs": [],
      "source": [
        "\n",
        "def mse(x: ComplexFloat, y: ComplexFloat) -> float:\n",
        "    \"\"\"mean squared error\"\"\"\n",
        "    return ((x - y) ** 2).mean()"
      ]
    },
    {
      "cell_type": "markdown",
      "id": "895ff46bc8bf90d8",
      "metadata": {},
      "source": [
        ":::{eval-rst}\n",
        ".. autofunction:: sax.nn.loss.huber_loss\n",
        ":::\n"
      ]
    },
    {
      "cell_type": "code",
      "execution_count": 5,
      "id": "f817240904412e15",
      "metadata": {
        "execution": {
          "iopub.execute_input": "2023-09-02T18:59:22.451014Z",
          "iopub.status.busy": "2023-09-02T18:59:22.450594Z",
          "iopub.status.idle": "2023-09-02T18:59:22.453557Z",
          "shell.execute_reply": "2023-09-02T18:59:22.453146Z"
        },
        "papermill": {
          "duration": 0.006225,
          "end_time": "2023-09-02T18:59:22.454782",
          "exception": false,
          "start_time": "2023-09-02T18:59:22.448557",
          "status": "completed"
        },
        "tags": [
          "hide-input"
        ]
      },
      "outputs": [],
      "source": [
        "\n",
        "def huber_loss(x: ComplexFloat, y: ComplexFloat, delta: float=0.5) -> float:\n",
        "    \"\"\"huber loss\"\"\"\n",
        "    return ((delta ** 2) * ((1.0 + ((x - y) / delta) ** 2) ** 0.5 - 1.0)).mean()"
      ]
    },
    {
      "cell_type": "markdown",
      "id": "98d84861",
      "metadata": {
        "papermill": {
          "duration": 0.00135,
          "end_time": "2023-09-02T18:59:22.457558",
          "exception": false,
          "start_time": "2023-09-02T18:59:22.456208",
          "status": "completed"
        },
        "tags": []
      },
      "source": [
        "The huber loss is like the mean squared error close to zero and mean\n",
        "absolute error for outliers"
      ]
    },
    {
      "cell_type": "markdown",
      "id": "4112b7b20a977af4",
      "metadata": {},
      "source": [
        ":::{eval-rst}\n",
        ".. autofunction:: sax.nn.loss.l2_reg\n",
        ":::\n"
      ]
    },
    {
      "cell_type": "code",
      "execution_count": 6,
      "id": "b01b9484e9e40156",
      "metadata": {
        "execution": {
          "iopub.execute_input": "2023-09-02T18:59:22.461408Z",
          "iopub.status.busy": "2023-09-02T18:59:22.460979Z",
          "iopub.status.idle": "2023-09-02T18:59:22.465138Z",
          "shell.execute_reply": "2023-09-02T18:59:22.464715Z"
        },
        "papermill": {
          "duration": 0.007408,
          "end_time": "2023-09-02T18:59:22.466360",
          "exception": false,
          "start_time": "2023-09-02T18:59:22.458952",
          "status": "completed"
        },
        "tags": [
          "hide-input"
        ]
      },
      "outputs": [],
      "source": [
        "\n",
        "def l2_reg(weights: Dict[str, ComplexFloat]) -> float:\n",
        "    \"\"\"L2 regularization loss\"\"\"\n",
        "    numel = 0\n",
        "    loss = 0.0\n",
        "    for w in (v for k, v in weights.items() if k[0] in (\"w\", \"b\")):\n",
        "        numel = numel + w.size\n",
        "        loss = loss + (jnp.abs(w) ** 2).sum()\n",
        "    return loss / numel"
      ]
    }
  ],
  "metadata": {
    "kernelspec": {
      "display_name": "sax",
      "language": "python",
      "name": "sax"
    },
    "language_info": {
      "codemirror_mode": {
        "name": "ipython",
        "version": 3
      },
      "file_extension": ".py",
      "mimetype": "text/x-python",
      "name": "python",
      "nbconvert_exporter": "python",
      "pygments_lexer": "ipython3",
      "version": "3.11.5"
    },
    "papermill": {
      "default_parameters": {},
      "duration": 2.951501,
      "end_time": "2023-09-02T18:59:22.883654",
      "environment_variables": {},
      "exception": null,
      "input_path": "./nbs/09a_nn_loss.ipynb",
      "output_path": "./nbs/09a_nn_loss.ipynb",
      "parameters": {},
      "start_time": "2023-09-02T18:59:19.932153",
      "version": "2.4.0"
    }
  },
  "nbformat": 4,
  "nbformat_minor": 5
}