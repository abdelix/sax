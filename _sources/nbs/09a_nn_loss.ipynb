{
  "cells": [
    {
      "cell_type": "code",
      "execution_count": 1,
      "id": "509b8e412a4d70ea",
      "metadata": {
        "execution": {
          "iopub.execute_input": "2023-09-01T15:53:56.652607Z",
          "iopub.status.busy": "2023-09-01T15:53:56.652103Z",
          "iopub.status.idle": "2023-09-01T15:53:56.656301Z",
          "shell.execute_reply": "2023-09-01T15:53:56.655428Z"
        },
        "papermill": {
          "duration": 0.009895,
          "end_time": "2023-09-01T15:53:56.657992",
          "exception": false,
          "start_time": "2023-09-01T15:53:56.648097",
          "status": "completed"
        },
        "tags": [
          "remove-cell"
        ]
      },
      "outputs": [],
      "source": []
    },
    {
      "cell_type": "markdown",
      "id": "3cf6720e",
      "metadata": {
        "papermill": {
          "duration": 0.002118,
          "end_time": "2023-09-01T15:53:56.662172",
          "exception": false,
          "start_time": "2023-09-01T15:53:56.660054",
          "status": "completed"
        },
        "tags": []
      },
      "source": [
        "# Loss\n",
        "\n",
        "> loss functions and utilitites for SAX neural networks"
      ]
    },
    {
      "cell_type": "code",
      "execution_count": 2,
      "id": "47fc9bf47cd16c82",
      "metadata": {
        "execution": {
          "iopub.execute_input": "2023-09-01T15:53:56.667128Z",
          "iopub.status.busy": "2023-09-01T15:53:56.666624Z",
          "iopub.status.idle": "2023-09-01T15:53:57.196553Z",
          "shell.execute_reply": "2023-09-01T15:53:57.195916Z"
        },
        "papermill": {
          "duration": 0.534999,
          "end_time": "2023-09-01T15:53:57.198856",
          "exception": false,
          "start_time": "2023-09-01T15:53:56.663857",
          "status": "completed"
        },
        "tags": [
          "remove-cell"
        ]
      },
      "outputs": [],
      "source": [
        "import matplotlib.pyplot as plt\n",
        "from fastcore.test import test_eq\n",
        "from pytest import approx, raises\n",
        "\n",
        "import os, sys; sys.stderr = open(os.devnull, \"w\")"
      ]
    },
    {
      "cell_type": "code",
      "execution_count": 3,
      "id": "d149dd5952783faf",
      "metadata": {
        "execution": {
          "iopub.execute_input": "2023-09-01T15:53:57.206360Z",
          "iopub.status.busy": "2023-09-01T15:53:57.205755Z",
          "iopub.status.idle": "2023-09-01T15:53:58.169927Z",
          "shell.execute_reply": "2023-09-01T15:53:58.169303Z"
        },
        "papermill": {
          "duration": 0.970342,
          "end_time": "2023-09-01T15:53:58.172092",
          "exception": false,
          "start_time": "2023-09-01T15:53:57.201750",
          "status": "completed"
        },
        "tags": [
          "hide-input"
        ]
      },
      "outputs": [],
      "source": [
        "from __future__ import annotations\n",
        "\n",
        "from typing import Dict\n",
        "\n",
        "import jax.numpy as jnp\n",
        "from sax.typing_ import ComplexFloat"
      ]
    },
    {
      "cell_type": "markdown",
      "id": "73db5da6f3ec2cd1",
      "metadata": {},
      "source": [
        ":::{eval-rst}\n",
        ".. autofunction:: sax.nn.loss.mse\n",
        ":::\n"
      ]
    },
    {
      "cell_type": "code",
      "execution_count": 4,
      "id": "6d4ec5df2c036649",
      "metadata": {
        "execution": {
          "iopub.execute_input": "2023-09-01T15:53:58.180620Z",
          "iopub.status.busy": "2023-09-01T15:53:58.179934Z",
          "iopub.status.idle": "2023-09-01T15:53:58.183958Z",
          "shell.execute_reply": "2023-09-01T15:53:58.183543Z"
        },
        "papermill": {
          "duration": 0.009737,
          "end_time": "2023-09-01T15:53:58.185257",
          "exception": false,
          "start_time": "2023-09-01T15:53:58.175520",
          "status": "completed"
        },
        "tags": [
          "hide-input"
        ]
      },
      "outputs": [],
      "source": [
        "\n",
        "def mse(x: ComplexFloat, y: ComplexFloat) -> float:\n",
        "    \"\"\"mean squared error\"\"\"\n",
        "    return ((x - y) ** 2).mean()"
      ]
    },
    {
      "cell_type": "markdown",
      "id": "1fcda868ca8edaf7",
      "metadata": {},
      "source": [
        ":::{eval-rst}\n",
        ".. autofunction:: sax.nn.loss.huber_loss\n",
        ":::\n"
      ]
    },
    {
      "cell_type": "code",
      "execution_count": 5,
      "id": "7a222f90b206b97b",
      "metadata": {
        "execution": {
          "iopub.execute_input": "2023-09-01T15:53:58.190171Z",
          "iopub.status.busy": "2023-09-01T15:53:58.189519Z",
          "iopub.status.idle": "2023-09-01T15:53:58.193357Z",
          "shell.execute_reply": "2023-09-01T15:53:58.192828Z"
        },
        "papermill": {
          "duration": 0.007995,
          "end_time": "2023-09-01T15:53:58.194957",
          "exception": false,
          "start_time": "2023-09-01T15:53:58.186962",
          "status": "completed"
        },
        "tags": [
          "hide-input"
        ]
      },
      "outputs": [],
      "source": [
        "\n",
        "def huber_loss(x: ComplexFloat, y: ComplexFloat, delta: float=0.5) -> float:\n",
        "    \"\"\"huber loss\"\"\"\n",
        "    return ((delta ** 2) * ((1.0 + ((x - y) / delta) ** 2) ** 0.5 - 1.0)).mean()"
      ]
    },
    {
      "cell_type": "markdown",
      "id": "98d84861",
      "metadata": {
        "papermill": {
          "duration": 0.001668,
          "end_time": "2023-09-01T15:53:58.198368",
          "exception": false,
          "start_time": "2023-09-01T15:53:58.196700",
          "status": "completed"
        },
        "tags": []
      },
      "source": [
        "The huber loss is like the mean squared error close to zero and mean\n",
        "absolute error for outliers"
      ]
    },
    {
      "cell_type": "markdown",
      "id": "f30b558f8bd35d1f",
      "metadata": {},
      "source": [
        ":::{eval-rst}\n",
        ".. autofunction:: sax.nn.loss.l2_reg\n",
        ":::\n"
      ]
    },
    {
      "cell_type": "code",
      "execution_count": 6,
      "id": "4e2058144bdbe419",
      "metadata": {
        "execution": {
          "iopub.execute_input": "2023-09-01T15:53:58.202965Z",
          "iopub.status.busy": "2023-09-01T15:53:58.202586Z",
          "iopub.status.idle": "2023-09-01T15:53:58.208047Z",
          "shell.execute_reply": "2023-09-01T15:53:58.207542Z"
        },
        "papermill": {
          "duration": 0.009937,
          "end_time": "2023-09-01T15:53:58.209980",
          "exception": false,
          "start_time": "2023-09-01T15:53:58.200043",
          "status": "completed"
        },
        "tags": [
          "hide-input"
        ]
      },
      "outputs": [],
      "source": [
        "\n",
        "def l2_reg(weights: Dict[str, ComplexFloat]) -> float:\n",
        "    \"\"\"L2 regularization loss\"\"\"\n",
        "    numel = 0\n",
        "    loss = 0.0\n",
        "    for w in (v for k, v in weights.items() if k[0] in (\"w\", \"b\")):\n",
        "        numel = numel + w.size\n",
        "        loss = loss + (jnp.abs(w) ** 2).sum()\n",
        "    return loss / numel"
      ]
    }
  ],
  "metadata": {
    "kernelspec": {
      "display_name": "sax",
      "language": "python",
      "name": "sax"
    },
    "language_info": {
      "codemirror_mode": {
        "name": "ipython",
        "version": 3
      },
      "file_extension": ".py",
      "mimetype": "text/x-python",
      "name": "python",
      "nbconvert_exporter": "python",
      "pygments_lexer": "ipython3",
      "version": "3.11.5"
    },
    "papermill": {
      "default_parameters": {},
      "duration": 3.487299,
      "end_time": "2023-09-01T15:53:58.830408",
      "environment_variables": {},
      "exception": null,
      "input_path": "./nbs/09a_nn_loss.ipynb",
      "output_path": "./nbs/09a_nn_loss.ipynb",
      "parameters": {},
      "start_time": "2023-09-01T15:53:55.343109",
      "version": "2.4.0"
    }
  },
  "nbformat": 4,
  "nbformat_minor": 5
}