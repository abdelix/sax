{
  "cells": [
    {
      "cell_type": "code",
      "execution_count": 1,
      "id": "138a947f7c493450",
      "metadata": {
        "execution": {
          "iopub.execute_input": "2023-07-01T03:32:47.839342Z",
          "iopub.status.busy": "2023-07-01T03:32:47.838912Z",
          "iopub.status.idle": "2023-07-01T03:32:47.842853Z",
          "shell.execute_reply": "2023-07-01T03:32:47.842321Z"
        },
        "papermill": {
          "duration": 0.008499,
          "end_time": "2023-07-01T03:32:47.844271",
          "exception": false,
          "start_time": "2023-07-01T03:32:47.835772",
          "status": "completed"
        },
        "tags": [
          "remove-cell"
        ]
      },
      "outputs": [],
      "source": []
    },
    {
      "cell_type": "markdown",
      "id": "3cf6720e",
      "metadata": {
        "papermill": {
          "duration": 0.001322,
          "end_time": "2023-07-01T03:32:47.847384",
          "exception": false,
          "start_time": "2023-07-01T03:32:47.846062",
          "status": "completed"
        },
        "tags": []
      },
      "source": [
        "# Loss\n",
        "\n",
        "> loss functions and utilitites for SAX neural networks"
      ]
    },
    {
      "cell_type": "code",
      "execution_count": 2,
      "id": "ee9c92d05dcd6526",
      "metadata": {
        "execution": {
          "iopub.execute_input": "2023-07-01T03:32:47.850916Z",
          "iopub.status.busy": "2023-07-01T03:32:47.850721Z",
          "iopub.status.idle": "2023-07-01T03:32:48.331412Z",
          "shell.execute_reply": "2023-07-01T03:32:48.330934Z"
        },
        "papermill": {
          "duration": 0.484257,
          "end_time": "2023-07-01T03:32:48.332936",
          "exception": false,
          "start_time": "2023-07-01T03:32:47.848679",
          "status": "completed"
        },
        "tags": [
          "remove-cell"
        ]
      },
      "outputs": [],
      "source": [
        "import matplotlib.pyplot as plt\n",
        "from fastcore.test import test_eq\n",
        "from pytest import approx, raises\n",
        "\n",
        "import os, sys; sys.stderr = open(os.devnull, \"w\")"
      ]
    },
    {
      "cell_type": "code",
      "execution_count": 3,
      "id": "4aae451603aabe5e",
      "metadata": {
        "execution": {
          "iopub.execute_input": "2023-07-01T03:32:48.338383Z",
          "iopub.status.busy": "2023-07-01T03:32:48.337322Z",
          "iopub.status.idle": "2023-07-01T03:32:49.066489Z",
          "shell.execute_reply": "2023-07-01T03:32:49.066047Z"
        },
        "papermill": {
          "duration": 0.733404,
          "end_time": "2023-07-01T03:32:49.068148",
          "exception": false,
          "start_time": "2023-07-01T03:32:48.334744",
          "status": "completed"
        },
        "tags": [
          "hide-input"
        ]
      },
      "outputs": [],
      "source": [
        "from __future__ import annotations\n",
        "\n",
        "from typing import Dict\n",
        "\n",
        "import jax.numpy as jnp\n",
        "from sax.typing_ import ComplexFloat"
      ]
    },
    {
      "cell_type": "markdown",
      "id": "8f5ac5ef0b7cff3b",
      "metadata": {},
      "source": [
        ":::{eval-rst}\n",
        ".. autofunction:: sax.nn.loss.mse\n",
        ":::\n"
      ]
    },
    {
      "cell_type": "code",
      "execution_count": 4,
      "id": "76d9619db500e6f7",
      "metadata": {
        "execution": {
          "iopub.execute_input": "2023-07-01T03:32:49.073636Z",
          "iopub.status.busy": "2023-07-01T03:32:49.072538Z",
          "iopub.status.idle": "2023-07-01T03:32:49.076797Z",
          "shell.execute_reply": "2023-07-01T03:32:49.076453Z"
        },
        "papermill": {
          "duration": 0.00833,
          "end_time": "2023-07-01T03:32:49.078120",
          "exception": false,
          "start_time": "2023-07-01T03:32:49.069790",
          "status": "completed"
        },
        "tags": [
          "hide-input"
        ]
      },
      "outputs": [],
      "source": [
        "\n",
        "def mse(x: ComplexFloat, y: ComplexFloat) -> float:\n",
        "    \"\"\"mean squared error\"\"\"\n",
        "    return ((x - y) ** 2).mean()"
      ]
    },
    {
      "cell_type": "markdown",
      "id": "793c43470050b2d5",
      "metadata": {},
      "source": [
        ":::{eval-rst}\n",
        ".. autofunction:: sax.nn.loss.huber_loss\n",
        ":::\n"
      ]
    },
    {
      "cell_type": "code",
      "execution_count": 5,
      "id": "31ec8e5fcf290c9c",
      "metadata": {
        "execution": {
          "iopub.execute_input": "2023-07-01T03:32:49.082471Z",
          "iopub.status.busy": "2023-07-01T03:32:49.082092Z",
          "iopub.status.idle": "2023-07-01T03:32:49.086085Z",
          "shell.execute_reply": "2023-07-01T03:32:49.085748Z"
        },
        "papermill": {
          "duration": 0.007742,
          "end_time": "2023-07-01T03:32:49.087428",
          "exception": false,
          "start_time": "2023-07-01T03:32:49.079686",
          "status": "completed"
        },
        "tags": [
          "hide-input"
        ]
      },
      "outputs": [],
      "source": [
        "\n",
        "def huber_loss(x: ComplexFloat, y: ComplexFloat, delta: float=0.5) -> float:\n",
        "    \"\"\"huber loss\"\"\"\n",
        "    return ((delta ** 2) * ((1.0 + ((x - y) / delta) ** 2) ** 0.5 - 1.0)).mean()"
      ]
    },
    {
      "cell_type": "markdown",
      "id": "98d84861",
      "metadata": {
        "papermill": {
          "duration": 0.001601,
          "end_time": "2023-07-01T03:32:49.090455",
          "exception": false,
          "start_time": "2023-07-01T03:32:49.088854",
          "status": "completed"
        },
        "tags": []
      },
      "source": [
        "The huber loss is like the mean squared error close to zero and mean\n",
        "absolute error for outliers"
      ]
    },
    {
      "cell_type": "markdown",
      "id": "e79eb1e044cc4972",
      "metadata": {},
      "source": [
        ":::{eval-rst}\n",
        ".. autofunction:: sax.nn.loss.l2_reg\n",
        ":::\n"
      ]
    },
    {
      "cell_type": "code",
      "execution_count": 6,
      "id": "2b7a2d30b8255f0d",
      "metadata": {
        "execution": {
          "iopub.execute_input": "2023-07-01T03:32:49.094140Z",
          "iopub.status.busy": "2023-07-01T03:32:49.093953Z",
          "iopub.status.idle": "2023-07-01T03:32:49.097290Z",
          "shell.execute_reply": "2023-07-01T03:32:49.096923Z"
        },
        "papermill": {
          "duration": 0.007146,
          "end_time": "2023-07-01T03:32:49.099035",
          "exception": false,
          "start_time": "2023-07-01T03:32:49.091889",
          "status": "completed"
        },
        "tags": [
          "hide-input"
        ]
      },
      "outputs": [],
      "source": [
        "\n",
        "def l2_reg(weights: Dict[str, ComplexFloat]) -> float:\n",
        "    \"\"\"L2 regularization loss\"\"\"\n",
        "    numel = 0\n",
        "    loss = 0.0\n",
        "    for w in (v for k, v in weights.items() if k[0] in (\"w\", \"b\")):\n",
        "        numel = numel + w.size\n",
        "        loss = loss + (jnp.abs(w) ** 2).sum()\n",
        "    return loss / numel"
      ]
    }
  ],
  "metadata": {
    "kernelspec": {
      "display_name": "sax",
      "language": "python",
      "name": "sax"
    },
    "language_info": {
      "codemirror_mode": {
        "name": "ipython",
        "version": 3
      },
      "file_extension": ".py",
      "mimetype": "text/x-python",
      "name": "python",
      "nbconvert_exporter": "python",
      "pygments_lexer": "ipython3",
      "version": "3.11.4"
    },
    "papermill": {
      "default_parameters": {},
      "duration": 2.871072,
      "end_time": "2023-07-01T03:32:49.526301",
      "environment_variables": {},
      "exception": null,
      "input_path": "./nbs/09a_nn_loss.ipynb",
      "output_path": "./nbs/09a_nn_loss.ipynb",
      "parameters": {},
      "start_time": "2023-07-01T03:32:46.655229",
      "version": "2.3.4"
    }
  },
  "nbformat": 4,
  "nbformat_minor": 5
}