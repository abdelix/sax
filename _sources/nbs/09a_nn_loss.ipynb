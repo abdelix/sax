{
  "cells": [
    {
      "cell_type": "code",
      "execution_count": 1,
      "id": "20caf2947ab83a51",
      "metadata": {
        "execution": {
          "iopub.execute_input": "2023-09-02T18:51:30.538137Z",
          "iopub.status.busy": "2023-09-02T18:51:30.537688Z",
          "iopub.status.idle": "2023-09-02T18:51:30.541301Z",
          "shell.execute_reply": "2023-09-02T18:51:30.540733Z"
        },
        "papermill": {
          "duration": 0.008361,
          "end_time": "2023-09-02T18:51:30.542606",
          "exception": false,
          "start_time": "2023-09-02T18:51:30.534245",
          "status": "completed"
        },
        "tags": [
          "remove-cell"
        ]
      },
      "outputs": [],
      "source": []
    },
    {
      "cell_type": "markdown",
      "id": "3cf6720e",
      "metadata": {
        "papermill": {
          "duration": 0.001458,
          "end_time": "2023-09-02T18:51:30.545761",
          "exception": false,
          "start_time": "2023-09-02T18:51:30.544303",
          "status": "completed"
        },
        "tags": []
      },
      "source": [
        "# Loss\n",
        "\n",
        "> loss functions and utilitites for SAX neural networks"
      ]
    },
    {
      "cell_type": "code",
      "execution_count": 2,
      "id": "73a3c8ad2eb131fe",
      "metadata": {
        "execution": {
          "iopub.execute_input": "2023-09-02T18:51:30.549952Z",
          "iopub.status.busy": "2023-09-02T18:51:30.549281Z",
          "iopub.status.idle": "2023-09-02T18:51:30.977941Z",
          "shell.execute_reply": "2023-09-02T18:51:30.977448Z"
        },
        "papermill": {
          "duration": 0.43252,
          "end_time": "2023-09-02T18:51:30.979653",
          "exception": false,
          "start_time": "2023-09-02T18:51:30.547133",
          "status": "completed"
        },
        "tags": [
          "remove-cell"
        ]
      },
      "outputs": [],
      "source": [
        "import matplotlib.pyplot as plt\n",
        "from fastcore.test import test_eq\n",
        "from pytest import approx, raises\n",
        "\n",
        "import os, sys; sys.stderr = open(os.devnull, \"w\")"
      ]
    },
    {
      "cell_type": "code",
      "execution_count": 3,
      "id": "bdb1f2a8fd696d8d",
      "metadata": {
        "execution": {
          "iopub.execute_input": "2023-09-02T18:51:30.985383Z",
          "iopub.status.busy": "2023-09-02T18:51:30.984749Z",
          "iopub.status.idle": "2023-09-02T18:51:31.770377Z",
          "shell.execute_reply": "2023-09-02T18:51:31.769595Z"
        },
        "papermill": {
          "duration": 0.790643,
          "end_time": "2023-09-02T18:51:31.772203",
          "exception": false,
          "start_time": "2023-09-02T18:51:30.981560",
          "status": "completed"
        },
        "tags": [
          "hide-input"
        ]
      },
      "outputs": [],
      "source": [
        "from __future__ import annotations\n",
        "\n",
        "from typing import Dict\n",
        "\n",
        "import jax.numpy as jnp\n",
        "from sax.typing_ import ComplexFloat"
      ]
    },
    {
      "cell_type": "markdown",
      "id": "b5d72c0824a4545e",
      "metadata": {},
      "source": [
        ":::{eval-rst}\n",
        ".. autofunction:: sax.nn.loss.mse\n",
        ":::\n"
      ]
    },
    {
      "cell_type": "code",
      "execution_count": 4,
      "id": "865ab3f569ad01b1",
      "metadata": {
        "execution": {
          "iopub.execute_input": "2023-09-02T18:51:31.777530Z",
          "iopub.status.busy": "2023-09-02T18:51:31.776976Z",
          "iopub.status.idle": "2023-09-02T18:51:31.780403Z",
          "shell.execute_reply": "2023-09-02T18:51:31.779965Z"
        },
        "papermill": {
          "duration": 0.007379,
          "end_time": "2023-09-02T18:51:31.781572",
          "exception": false,
          "start_time": "2023-09-02T18:51:31.774193",
          "status": "completed"
        },
        "tags": [
          "hide-input"
        ]
      },
      "outputs": [],
      "source": [
        "\n",
        "def mse(x: ComplexFloat, y: ComplexFloat) -> float:\n",
        "    \"\"\"mean squared error\"\"\"\n",
        "    return ((x - y) ** 2).mean()"
      ]
    },
    {
      "cell_type": "markdown",
      "id": "f6df8e95e065c2f6",
      "metadata": {},
      "source": [
        ":::{eval-rst}\n",
        ".. autofunction:: sax.nn.loss.huber_loss\n",
        ":::\n"
      ]
    },
    {
      "cell_type": "code",
      "execution_count": 5,
      "id": "18162c6a7a554f11",
      "metadata": {
        "execution": {
          "iopub.execute_input": "2023-09-02T18:51:31.785578Z",
          "iopub.status.busy": "2023-09-02T18:51:31.785123Z",
          "iopub.status.idle": "2023-09-02T18:51:31.788232Z",
          "shell.execute_reply": "2023-09-02T18:51:31.787822Z"
        },
        "papermill": {
          "duration": 0.006459,
          "end_time": "2023-09-02T18:51:31.789470",
          "exception": false,
          "start_time": "2023-09-02T18:51:31.783011",
          "status": "completed"
        },
        "tags": [
          "hide-input"
        ]
      },
      "outputs": [],
      "source": [
        "\n",
        "def huber_loss(x: ComplexFloat, y: ComplexFloat, delta: float=0.5) -> float:\n",
        "    \"\"\"huber loss\"\"\"\n",
        "    return ((delta ** 2) * ((1.0 + ((x - y) / delta) ** 2) ** 0.5 - 1.0)).mean()"
      ]
    },
    {
      "cell_type": "markdown",
      "id": "98d84861",
      "metadata": {
        "papermill": {
          "duration": 0.001396,
          "end_time": "2023-09-02T18:51:31.792323",
          "exception": false,
          "start_time": "2023-09-02T18:51:31.790927",
          "status": "completed"
        },
        "tags": []
      },
      "source": [
        "The huber loss is like the mean squared error close to zero and mean\n",
        "absolute error for outliers"
      ]
    },
    {
      "cell_type": "markdown",
      "id": "f708bc0388d089c4",
      "metadata": {},
      "source": [
        ":::{eval-rst}\n",
        ".. autofunction:: sax.nn.loss.l2_reg\n",
        ":::\n"
      ]
    },
    {
      "cell_type": "code",
      "execution_count": 6,
      "id": "cd49955860d85d7f",
      "metadata": {
        "execution": {
          "iopub.execute_input": "2023-09-02T18:51:31.796389Z",
          "iopub.status.busy": "2023-09-02T18:51:31.795928Z",
          "iopub.status.idle": "2023-09-02T18:51:31.800492Z",
          "shell.execute_reply": "2023-09-02T18:51:31.800101Z"
        },
        "papermill": {
          "duration": 0.008055,
          "end_time": "2023-09-02T18:51:31.801804",
          "exception": false,
          "start_time": "2023-09-02T18:51:31.793749",
          "status": "completed"
        },
        "tags": [
          "hide-input"
        ]
      },
      "outputs": [],
      "source": [
        "\n",
        "def l2_reg(weights: Dict[str, ComplexFloat]) -> float:\n",
        "    \"\"\"L2 regularization loss\"\"\"\n",
        "    numel = 0\n",
        "    loss = 0.0\n",
        "    for w in (v for k, v in weights.items() if k[0] in (\"w\", \"b\")):\n",
        "        numel = numel + w.size\n",
        "        loss = loss + (jnp.abs(w) ** 2).sum()\n",
        "    return loss / numel"
      ]
    }
  ],
  "metadata": {
    "kernelspec": {
      "display_name": "sax",
      "language": "python",
      "name": "sax"
    },
    "language_info": {
      "codemirror_mode": {
        "name": "ipython",
        "version": 3
      },
      "file_extension": ".py",
      "mimetype": "text/x-python",
      "name": "python",
      "nbconvert_exporter": "python",
      "pygments_lexer": "ipython3",
      "version": "3.11.5"
    },
    "papermill": {
      "default_parameters": {},
      "duration": 3.106301,
      "end_time": "2023-09-02T18:51:32.319713",
      "environment_variables": {},
      "exception": null,
      "input_path": "./nbs/09a_nn_loss.ipynb",
      "output_path": "./nbs/09a_nn_loss.ipynb",
      "parameters": {},
      "start_time": "2023-09-02T18:51:29.213412",
      "version": "2.4.0"
    }
  },
  "nbformat": 4,
  "nbformat_minor": 5
}