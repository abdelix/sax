{
  "cells": [
    {
      "cell_type": "code",
      "execution_count": 1,
      "id": "06341ce216efeb84",
      "metadata": {
        "execution": {
          "iopub.execute_input": "2023-09-01T18:12:18.399530Z",
          "iopub.status.busy": "2023-09-01T18:12:18.398856Z",
          "iopub.status.idle": "2023-09-01T18:12:18.402207Z",
          "shell.execute_reply": "2023-09-01T18:12:18.401720Z"
        },
        "papermill": {
          "duration": 0.007703,
          "end_time": "2023-09-01T18:12:18.403443",
          "exception": false,
          "start_time": "2023-09-01T18:12:18.395740",
          "status": "completed"
        },
        "tags": [
          "remove-cell"
        ]
      },
      "outputs": [],
      "source": []
    },
    {
      "cell_type": "markdown",
      "id": "3cf6720e",
      "metadata": {
        "papermill": {
          "duration": 0.001442,
          "end_time": "2023-09-01T18:12:18.406504",
          "exception": false,
          "start_time": "2023-09-01T18:12:18.405062",
          "status": "completed"
        },
        "tags": []
      },
      "source": [
        "# Loss\n",
        "\n",
        "> loss functions and utilitites for SAX neural networks"
      ]
    },
    {
      "cell_type": "code",
      "execution_count": 2,
      "id": "495f9506024f3fdc",
      "metadata": {
        "execution": {
          "iopub.execute_input": "2023-09-01T18:12:18.410278Z",
          "iopub.status.busy": "2023-09-01T18:12:18.409819Z",
          "iopub.status.idle": "2023-09-01T18:12:18.836726Z",
          "shell.execute_reply": "2023-09-01T18:12:18.836271Z"
        },
        "papermill": {
          "duration": 0.430386,
          "end_time": "2023-09-01T18:12:18.838231",
          "exception": false,
          "start_time": "2023-09-01T18:12:18.407845",
          "status": "completed"
        },
        "tags": [
          "remove-cell"
        ]
      },
      "outputs": [],
      "source": [
        "import matplotlib.pyplot as plt\n",
        "from fastcore.test import test_eq\n",
        "from pytest import approx, raises\n",
        "\n",
        "import os, sys; sys.stderr = open(os.devnull, \"w\")"
      ]
    },
    {
      "cell_type": "code",
      "execution_count": 3,
      "id": "85eedc211982b0e0",
      "metadata": {
        "execution": {
          "iopub.execute_input": "2023-09-01T18:12:18.842870Z",
          "iopub.status.busy": "2023-09-01T18:12:18.842461Z",
          "iopub.status.idle": "2023-09-01T18:12:19.620653Z",
          "shell.execute_reply": "2023-09-01T18:12:19.620182Z"
        },
        "papermill": {
          "duration": 0.782238,
          "end_time": "2023-09-01T18:12:19.622245",
          "exception": false,
          "start_time": "2023-09-01T18:12:18.840007",
          "status": "completed"
        },
        "tags": [
          "hide-input"
        ]
      },
      "outputs": [],
      "source": [
        "from __future__ import annotations\n",
        "\n",
        "from typing import Dict\n",
        "\n",
        "import jax.numpy as jnp\n",
        "from sax.typing_ import ComplexFloat"
      ]
    },
    {
      "cell_type": "markdown",
      "id": "b41353f7ab48aac9",
      "metadata": {},
      "source": [
        ":::{eval-rst}\n",
        ".. autofunction:: sax.nn.loss.mse\n",
        ":::\n"
      ]
    },
    {
      "cell_type": "code",
      "execution_count": 4,
      "id": "0b239f9111caa75d",
      "metadata": {
        "execution": {
          "iopub.execute_input": "2023-09-01T18:12:19.627163Z",
          "iopub.status.busy": "2023-09-01T18:12:19.626593Z",
          "iopub.status.idle": "2023-09-01T18:12:19.629865Z",
          "shell.execute_reply": "2023-09-01T18:12:19.629442Z"
        },
        "papermill": {
          "duration": 0.007178,
          "end_time": "2023-09-01T18:12:19.631163",
          "exception": false,
          "start_time": "2023-09-01T18:12:19.623985",
          "status": "completed"
        },
        "tags": [
          "hide-input"
        ]
      },
      "outputs": [],
      "source": [
        "\n",
        "def mse(x: ComplexFloat, y: ComplexFloat) -> float:\n",
        "    \"\"\"mean squared error\"\"\"\n",
        "    return ((x - y) ** 2).mean()"
      ]
    },
    {
      "cell_type": "markdown",
      "id": "ac4fd1bf19fc5f7c",
      "metadata": {},
      "source": [
        ":::{eval-rst}\n",
        ".. autofunction:: sax.nn.loss.huber_loss\n",
        ":::\n"
      ]
    },
    {
      "cell_type": "code",
      "execution_count": 5,
      "id": "c458b3983f733124",
      "metadata": {
        "execution": {
          "iopub.execute_input": "2023-09-01T18:12:19.635046Z",
          "iopub.status.busy": "2023-09-01T18:12:19.634730Z",
          "iopub.status.idle": "2023-09-01T18:12:19.637628Z",
          "shell.execute_reply": "2023-09-01T18:12:19.637202Z"
        },
        "papermill": {
          "duration": 0.006415,
          "end_time": "2023-09-01T18:12:19.639019",
          "exception": false,
          "start_time": "2023-09-01T18:12:19.632604",
          "status": "completed"
        },
        "tags": [
          "hide-input"
        ]
      },
      "outputs": [],
      "source": [
        "\n",
        "def huber_loss(x: ComplexFloat, y: ComplexFloat, delta: float=0.5) -> float:\n",
        "    \"\"\"huber loss\"\"\"\n",
        "    return ((delta ** 2) * ((1.0 + ((x - y) / delta) ** 2) ** 0.5 - 1.0)).mean()"
      ]
    },
    {
      "cell_type": "markdown",
      "id": "98d84861",
      "metadata": {
        "papermill": {
          "duration": 0.001362,
          "end_time": "2023-09-01T18:12:19.641840",
          "exception": false,
          "start_time": "2023-09-01T18:12:19.640478",
          "status": "completed"
        },
        "tags": []
      },
      "source": [
        "The huber loss is like the mean squared error close to zero and mean\n",
        "absolute error for outliers"
      ]
    },
    {
      "cell_type": "markdown",
      "id": "49877601d52a9640",
      "metadata": {},
      "source": [
        ":::{eval-rst}\n",
        ".. autofunction:: sax.nn.loss.l2_reg\n",
        ":::\n"
      ]
    },
    {
      "cell_type": "code",
      "execution_count": 6,
      "id": "e05b802645cdfd24",
      "metadata": {
        "execution": {
          "iopub.execute_input": "2023-09-01T18:12:19.645674Z",
          "iopub.status.busy": "2023-09-01T18:12:19.645372Z",
          "iopub.status.idle": "2023-09-01T18:12:19.649779Z",
          "shell.execute_reply": "2023-09-01T18:12:19.649348Z"
        },
        "papermill": {
          "duration": 0.007664,
          "end_time": "2023-09-01T18:12:19.650925",
          "exception": false,
          "start_time": "2023-09-01T18:12:19.643261",
          "status": "completed"
        },
        "tags": [
          "hide-input"
        ]
      },
      "outputs": [],
      "source": [
        "\n",
        "def l2_reg(weights: Dict[str, ComplexFloat]) -> float:\n",
        "    \"\"\"L2 regularization loss\"\"\"\n",
        "    numel = 0\n",
        "    loss = 0.0\n",
        "    for w in (v for k, v in weights.items() if k[0] in (\"w\", \"b\")):\n",
        "        numel = numel + w.size\n",
        "        loss = loss + (jnp.abs(w) ** 2).sum()\n",
        "    return loss / numel"
      ]
    }
  ],
  "metadata": {
    "kernelspec": {
      "display_name": "sax",
      "language": "python",
      "name": "sax"
    },
    "language_info": {
      "codemirror_mode": {
        "name": "ipython",
        "version": 3
      },
      "file_extension": ".py",
      "mimetype": "text/x-python",
      "name": "python",
      "nbconvert_exporter": "python",
      "pygments_lexer": "ipython3",
      "version": "3.11.5"
    },
    "papermill": {
      "default_parameters": {},
      "duration": 2.990221,
      "end_time": "2023-09-01T18:12:20.068182",
      "environment_variables": {},
      "exception": null,
      "input_path": "./nbs/09a_nn_loss.ipynb",
      "output_path": "./nbs/09a_nn_loss.ipynb",
      "parameters": {},
      "start_time": "2023-09-01T18:12:17.077961",
      "version": "2.4.0"
    }
  },
  "nbformat": 4,
  "nbformat_minor": 5
}