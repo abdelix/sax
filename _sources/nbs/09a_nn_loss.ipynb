{
  "cells": [
    {
      "cell_type": "code",
      "execution_count": 1,
      "id": "766a3dfa2e0f3dcb",
      "metadata": {
        "execution": {
          "iopub.execute_input": "2023-09-01T16:50:44.477854Z",
          "iopub.status.busy": "2023-09-01T16:50:44.477349Z",
          "iopub.status.idle": "2023-09-01T16:50:44.483308Z",
          "shell.execute_reply": "2023-09-01T16:50:44.482685Z"
        },
        "papermill": {
          "duration": 0.010333,
          "end_time": "2023-09-01T16:50:44.484569",
          "exception": false,
          "start_time": "2023-09-01T16:50:44.474236",
          "status": "completed"
        },
        "tags": [
          "remove-cell"
        ]
      },
      "outputs": [],
      "source": []
    },
    {
      "cell_type": "markdown",
      "id": "3cf6720e",
      "metadata": {
        "papermill": {
          "duration": 0.001622,
          "end_time": "2023-09-01T16:50:44.488016",
          "exception": false,
          "start_time": "2023-09-01T16:50:44.486394",
          "status": "completed"
        },
        "tags": []
      },
      "source": [
        "# Loss\n",
        "\n",
        "> loss functions and utilitites for SAX neural networks"
      ]
    },
    {
      "cell_type": "code",
      "execution_count": 2,
      "id": "7dfdfb9a63e128f9",
      "metadata": {
        "execution": {
          "iopub.execute_input": "2023-09-01T16:50:44.492260Z",
          "iopub.status.busy": "2023-09-01T16:50:44.491588Z",
          "iopub.status.idle": "2023-09-01T16:50:44.931116Z",
          "shell.execute_reply": "2023-09-01T16:50:44.930634Z"
        },
        "papermill": {
          "duration": 0.44328,
          "end_time": "2023-09-01T16:50:44.932649",
          "exception": false,
          "start_time": "2023-09-01T16:50:44.489369",
          "status": "completed"
        },
        "tags": [
          "remove-cell"
        ]
      },
      "outputs": [],
      "source": [
        "import matplotlib.pyplot as plt\n",
        "from fastcore.test import test_eq\n",
        "from pytest import approx, raises\n",
        "\n",
        "import os, sys; sys.stderr = open(os.devnull, \"w\")"
      ]
    },
    {
      "cell_type": "code",
      "execution_count": 3,
      "id": "a35f38805970e92d",
      "metadata": {
        "execution": {
          "iopub.execute_input": "2023-09-01T16:50:44.937775Z",
          "iopub.status.busy": "2023-09-01T16:50:44.937189Z",
          "iopub.status.idle": "2023-09-01T16:50:45.733639Z",
          "shell.execute_reply": "2023-09-01T16:50:45.733153Z"
        },
        "papermill": {
          "duration": 0.800833,
          "end_time": "2023-09-01T16:50:45.735301",
          "exception": false,
          "start_time": "2023-09-01T16:50:44.934468",
          "status": "completed"
        },
        "tags": [
          "hide-input"
        ]
      },
      "outputs": [],
      "source": [
        "from __future__ import annotations\n",
        "\n",
        "from typing import Dict\n",
        "\n",
        "import jax.numpy as jnp\n",
        "from sax.typing_ import ComplexFloat"
      ]
    },
    {
      "cell_type": "markdown",
      "id": "bff5d84f39229057",
      "metadata": {},
      "source": [
        ":::{eval-rst}\n",
        ".. autofunction:: sax.nn.loss.mse\n",
        ":::\n"
      ]
    },
    {
      "cell_type": "code",
      "execution_count": 4,
      "id": "371c921622ab9cba",
      "metadata": {
        "execution": {
          "iopub.execute_input": "2023-09-01T16:50:45.740665Z",
          "iopub.status.busy": "2023-09-01T16:50:45.740034Z",
          "iopub.status.idle": "2023-09-01T16:50:45.743531Z",
          "shell.execute_reply": "2023-09-01T16:50:45.743050Z"
        },
        "papermill": {
          "duration": 0.007615,
          "end_time": "2023-09-01T16:50:45.744706",
          "exception": false,
          "start_time": "2023-09-01T16:50:45.737091",
          "status": "completed"
        },
        "tags": [
          "hide-input"
        ]
      },
      "outputs": [],
      "source": [
        "\n",
        "def mse(x: ComplexFloat, y: ComplexFloat) -> float:\n",
        "    \"\"\"mean squared error\"\"\"\n",
        "    return ((x - y) ** 2).mean()"
      ]
    },
    {
      "cell_type": "markdown",
      "id": "4585a637ec47d2fa",
      "metadata": {},
      "source": [
        ":::{eval-rst}\n",
        ".. autofunction:: sax.nn.loss.huber_loss\n",
        ":::\n"
      ]
    },
    {
      "cell_type": "code",
      "execution_count": 5,
      "id": "baa89847f0289176",
      "metadata": {
        "execution": {
          "iopub.execute_input": "2023-09-01T16:50:45.748838Z",
          "iopub.status.busy": "2023-09-01T16:50:45.748439Z",
          "iopub.status.idle": "2023-09-01T16:50:45.751580Z",
          "shell.execute_reply": "2023-09-01T16:50:45.751142Z"
        },
        "papermill": {
          "duration": 0.006621,
          "end_time": "2023-09-01T16:50:45.752859",
          "exception": false,
          "start_time": "2023-09-01T16:50:45.746238",
          "status": "completed"
        },
        "tags": [
          "hide-input"
        ]
      },
      "outputs": [],
      "source": [
        "\n",
        "def huber_loss(x: ComplexFloat, y: ComplexFloat, delta: float=0.5) -> float:\n",
        "    \"\"\"huber loss\"\"\"\n",
        "    return ((delta ** 2) * ((1.0 + ((x - y) / delta) ** 2) ** 0.5 - 1.0)).mean()"
      ]
    },
    {
      "cell_type": "markdown",
      "id": "98d84861",
      "metadata": {
        "papermill": {
          "duration": 0.001421,
          "end_time": "2023-09-01T16:50:45.755766",
          "exception": false,
          "start_time": "2023-09-01T16:50:45.754345",
          "status": "completed"
        },
        "tags": []
      },
      "source": [
        "The huber loss is like the mean squared error close to zero and mean\n",
        "absolute error for outliers"
      ]
    },
    {
      "cell_type": "markdown",
      "id": "469caf591fd56a1f",
      "metadata": {},
      "source": [
        ":::{eval-rst}\n",
        ".. autofunction:: sax.nn.loss.l2_reg\n",
        ":::\n"
      ]
    },
    {
      "cell_type": "code",
      "execution_count": 6,
      "id": "5c82212fe3b35dfe",
      "metadata": {
        "execution": {
          "iopub.execute_input": "2023-09-01T16:50:45.759850Z",
          "iopub.status.busy": "2023-09-01T16:50:45.759380Z",
          "iopub.status.idle": "2023-09-01T16:50:45.763888Z",
          "shell.execute_reply": "2023-09-01T16:50:45.763458Z"
        },
        "papermill": {
          "duration": 0.007975,
          "end_time": "2023-09-01T16:50:45.765141",
          "exception": false,
          "start_time": "2023-09-01T16:50:45.757166",
          "status": "completed"
        },
        "tags": [
          "hide-input"
        ]
      },
      "outputs": [],
      "source": [
        "\n",
        "def l2_reg(weights: Dict[str, ComplexFloat]) -> float:\n",
        "    \"\"\"L2 regularization loss\"\"\"\n",
        "    numel = 0\n",
        "    loss = 0.0\n",
        "    for w in (v for k, v in weights.items() if k[0] in (\"w\", \"b\")):\n",
        "        numel = numel + w.size\n",
        "        loss = loss + (jnp.abs(w) ** 2).sum()\n",
        "    return loss / numel"
      ]
    }
  ],
  "metadata": {
    "kernelspec": {
      "display_name": "sax",
      "language": "python",
      "name": "sax"
    },
    "language_info": {
      "codemirror_mode": {
        "name": "ipython",
        "version": 3
      },
      "file_extension": ".py",
      "mimetype": "text/x-python",
      "name": "python",
      "nbconvert_exporter": "python",
      "pygments_lexer": "ipython3",
      "version": "3.11.5"
    },
    "papermill": {
      "default_parameters": {},
      "duration": 3.030753,
      "end_time": "2023-09-01T16:50:46.183913",
      "environment_variables": {},
      "exception": null,
      "input_path": "./nbs/09a_nn_loss.ipynb",
      "output_path": "./nbs/09a_nn_loss.ipynb",
      "parameters": {},
      "start_time": "2023-09-01T16:50:43.153160",
      "version": "2.4.0"
    }
  },
  "nbformat": 4,
  "nbformat_minor": 5
}