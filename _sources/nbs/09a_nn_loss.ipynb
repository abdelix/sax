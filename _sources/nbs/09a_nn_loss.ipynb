{
  "cells": [
    {
      "cell_type": "code",
      "execution_count": 1,
      "id": "25aeaee18d9dac19",
      "metadata": {
        "execution": {
          "iopub.execute_input": "2023-07-01T03:33:13.661673Z",
          "iopub.status.busy": "2023-07-01T03:33:13.661154Z",
          "iopub.status.idle": "2023-07-01T03:33:13.665545Z",
          "shell.execute_reply": "2023-07-01T03:33:13.665046Z"
        },
        "papermill": {
          "duration": 0.009196,
          "end_time": "2023-07-01T03:33:13.666977",
          "exception": false,
          "start_time": "2023-07-01T03:33:13.657781",
          "status": "completed"
        },
        "tags": [
          "remove-cell"
        ]
      },
      "outputs": [],
      "source": []
    },
    {
      "cell_type": "markdown",
      "id": "3cf6720e",
      "metadata": {
        "papermill": {
          "duration": 0.001339,
          "end_time": "2023-07-01T03:33:13.670032",
          "exception": false,
          "start_time": "2023-07-01T03:33:13.668693",
          "status": "completed"
        },
        "tags": []
      },
      "source": [
        "# Loss\n",
        "\n",
        "> loss functions and utilitites for SAX neural networks"
      ]
    },
    {
      "cell_type": "code",
      "execution_count": 2,
      "id": "a9492cc1c302c5b7",
      "metadata": {
        "execution": {
          "iopub.execute_input": "2023-07-01T03:33:13.673850Z",
          "iopub.status.busy": "2023-07-01T03:33:13.673668Z",
          "iopub.status.idle": "2023-07-01T03:33:14.156985Z",
          "shell.execute_reply": "2023-07-01T03:33:14.156539Z"
        },
        "papermill": {
          "duration": 0.487042,
          "end_time": "2023-07-01T03:33:14.158446",
          "exception": false,
          "start_time": "2023-07-01T03:33:13.671404",
          "status": "completed"
        },
        "tags": [
          "remove-cell"
        ]
      },
      "outputs": [],
      "source": [
        "import matplotlib.pyplot as plt\n",
        "from fastcore.test import test_eq\n",
        "from pytest import approx, raises\n",
        "\n",
        "import os, sys; sys.stderr = open(os.devnull, \"w\")"
      ]
    },
    {
      "cell_type": "code",
      "execution_count": 3,
      "id": "fd6ce4970533edb4",
      "metadata": {
        "execution": {
          "iopub.execute_input": "2023-07-01T03:33:14.163258Z",
          "iopub.status.busy": "2023-07-01T03:33:14.162518Z",
          "iopub.status.idle": "2023-07-01T03:33:14.945019Z",
          "shell.execute_reply": "2023-07-01T03:33:14.944488Z"
        },
        "papermill": {
          "duration": 0.786512,
          "end_time": "2023-07-01T03:33:14.946646",
          "exception": false,
          "start_time": "2023-07-01T03:33:14.160134",
          "status": "completed"
        },
        "tags": [
          "hide-input"
        ]
      },
      "outputs": [],
      "source": [
        "from __future__ import annotations\n",
        "\n",
        "from typing import Dict\n",
        "\n",
        "import jax.numpy as jnp\n",
        "from sax.typing_ import ComplexFloat"
      ]
    },
    {
      "cell_type": "markdown",
      "id": "e8258de2cb06eb48",
      "metadata": {},
      "source": [
        ":::{eval-rst}\n",
        ".. autofunction:: sax.nn.loss.mse\n",
        ":::\n"
      ]
    },
    {
      "cell_type": "code",
      "execution_count": 4,
      "id": "9518a171b06254d5",
      "metadata": {
        "execution": {
          "iopub.execute_input": "2023-07-01T03:33:14.951156Z",
          "iopub.status.busy": "2023-07-01T03:33:14.950749Z",
          "iopub.status.idle": "2023-07-01T03:33:14.954859Z",
          "shell.execute_reply": "2023-07-01T03:33:14.954507Z"
        },
        "papermill": {
          "duration": 0.007844,
          "end_time": "2023-07-01T03:33:14.956167",
          "exception": false,
          "start_time": "2023-07-01T03:33:14.948323",
          "status": "completed"
        },
        "tags": [
          "hide-input"
        ]
      },
      "outputs": [],
      "source": [
        "\n",
        "def mse(x: ComplexFloat, y: ComplexFloat) -> float:\n",
        "    \"\"\"mean squared error\"\"\"\n",
        "    return ((x - y) ** 2).mean()"
      ]
    },
    {
      "cell_type": "markdown",
      "id": "069fb049265475c9",
      "metadata": {},
      "source": [
        ":::{eval-rst}\n",
        ".. autofunction:: sax.nn.loss.huber_loss\n",
        ":::\n"
      ]
    },
    {
      "cell_type": "code",
      "execution_count": 5,
      "id": "9622d97fbf5a2b87",
      "metadata": {
        "execution": {
          "iopub.execute_input": "2023-07-01T03:33:14.960176Z",
          "iopub.status.busy": "2023-07-01T03:33:14.959721Z",
          "iopub.status.idle": "2023-07-01T03:33:14.962741Z",
          "shell.execute_reply": "2023-07-01T03:33:14.962363Z"
        },
        "papermill": {
          "duration": 0.006826,
          "end_time": "2023-07-01T03:33:14.964456",
          "exception": false,
          "start_time": "2023-07-01T03:33:14.957630",
          "status": "completed"
        },
        "tags": [
          "hide-input"
        ]
      },
      "outputs": [],
      "source": [
        "\n",
        "def huber_loss(x: ComplexFloat, y: ComplexFloat, delta: float=0.5) -> float:\n",
        "    \"\"\"huber loss\"\"\"\n",
        "    return ((delta ** 2) * ((1.0 + ((x - y) / delta) ** 2) ** 0.5 - 1.0)).mean()"
      ]
    },
    {
      "cell_type": "markdown",
      "id": "98d84861",
      "metadata": {
        "papermill": {
          "duration": 0.001379,
          "end_time": "2023-07-01T03:33:14.967221",
          "exception": false,
          "start_time": "2023-07-01T03:33:14.965842",
          "status": "completed"
        },
        "tags": []
      },
      "source": [
        "The huber loss is like the mean squared error close to zero and mean\n",
        "absolute error for outliers"
      ]
    },
    {
      "cell_type": "markdown",
      "id": "95a6b705752537cd",
      "metadata": {},
      "source": [
        ":::{eval-rst}\n",
        ".. autofunction:: sax.nn.loss.l2_reg\n",
        ":::\n"
      ]
    },
    {
      "cell_type": "code",
      "execution_count": 6,
      "id": "36b35907a49c4112",
      "metadata": {
        "execution": {
          "iopub.execute_input": "2023-07-01T03:33:14.970847Z",
          "iopub.status.busy": "2023-07-01T03:33:14.970663Z",
          "iopub.status.idle": "2023-07-01T03:33:14.973909Z",
          "shell.execute_reply": "2023-07-01T03:33:14.973532Z"
        },
        "papermill": {
          "duration": 0.007014,
          "end_time": "2023-07-01T03:33:14.975659",
          "exception": false,
          "start_time": "2023-07-01T03:33:14.968645",
          "status": "completed"
        },
        "tags": [
          "hide-input"
        ]
      },
      "outputs": [],
      "source": [
        "\n",
        "def l2_reg(weights: Dict[str, ComplexFloat]) -> float:\n",
        "    \"\"\"L2 regularization loss\"\"\"\n",
        "    numel = 0\n",
        "    loss = 0.0\n",
        "    for w in (v for k, v in weights.items() if k[0] in (\"w\", \"b\")):\n",
        "        numel = numel + w.size\n",
        "        loss = loss + (jnp.abs(w) ** 2).sum()\n",
        "    return loss / numel"
      ]
    }
  ],
  "metadata": {
    "kernelspec": {
      "display_name": "sax",
      "language": "python",
      "name": "sax"
    },
    "language_info": {
      "codemirror_mode": {
        "name": "ipython",
        "version": 3
      },
      "file_extension": ".py",
      "mimetype": "text/x-python",
      "name": "python",
      "nbconvert_exporter": "python",
      "pygments_lexer": "ipython3",
      "version": "3.11.4"
    },
    "papermill": {
      "default_parameters": {},
      "duration": 2.938072,
      "end_time": "2023-07-01T03:33:15.403830",
      "environment_variables": {},
      "exception": null,
      "input_path": "./nbs/09a_nn_loss.ipynb",
      "output_path": "./nbs/09a_nn_loss.ipynb",
      "parameters": {},
      "start_time": "2023-07-01T03:33:12.465758",
      "version": "2.3.4"
    }
  },
  "nbformat": 4,
  "nbformat_minor": 5
}