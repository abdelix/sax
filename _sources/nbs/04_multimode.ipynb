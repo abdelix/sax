{
  "cells": [
    {
      "cell_type": "code",
      "execution_count": 1,
      "id": "74d8d994258a169d",
      "metadata": {
        "execution": {
          "iopub.execute_input": "2023-06-01T21:50:20.066903Z",
          "iopub.status.busy": "2023-06-01T21:50:20.066674Z",
          "iopub.status.idle": "2023-06-01T21:50:20.070159Z",
          "shell.execute_reply": "2023-06-01T21:50:20.069650Z"
        },
        "papermill": {
          "duration": 0.008698,
          "end_time": "2023-06-01T21:50:20.071870",
          "exception": false,
          "start_time": "2023-06-01T21:50:20.063172",
          "status": "completed"
        },
        "tags": [
          "remove-cell"
        ]
      },
      "outputs": [],
      "source": []
    },
    {
      "cell_type": "markdown",
      "id": "60e8c162",
      "metadata": {
        "papermill": {
          "duration": 0.002013,
          "end_time": "2023-06-01T21:50:20.077270",
          "exception": false,
          "start_time": "2023-06-01T21:50:20.075257",
          "status": "completed"
        },
        "tags": []
      },
      "source": [
        "# Multimode\n",
        "\n",
        "> SAX Multimode utils"
      ]
    },
    {
      "cell_type": "code",
      "execution_count": 2,
      "id": "8f38027334b99a6c",
      "metadata": {
        "execution": {
          "iopub.execute_input": "2023-06-01T21:50:20.082180Z",
          "iopub.status.busy": "2023-06-01T21:50:20.081988Z",
          "iopub.status.idle": "2023-06-01T21:50:20.088344Z",
          "shell.execute_reply": "2023-06-01T21:50:20.087990Z"
        },
        "papermill": {
          "duration": 0.010415,
          "end_time": "2023-06-01T21:50:20.089693",
          "exception": false,
          "start_time": "2023-06-01T21:50:20.079278",
          "status": "completed"
        },
        "tags": [
          "remove-cell"
        ]
      },
      "outputs": [],
      "source": [
        "from fastcore.test import test_eq\n",
        "\n",
        "import os, sys; sys.stderr = open(os.devnull, \"w\")"
      ]
    },
    {
      "cell_type": "code",
      "execution_count": 3,
      "id": "ba9c40ebcb357aa9",
      "metadata": {
        "execution": {
          "iopub.execute_input": "2023-06-01T21:50:20.094868Z",
          "iopub.status.busy": "2023-06-01T21:50:20.094685Z",
          "iopub.status.idle": "2023-06-01T21:50:20.854395Z",
          "shell.execute_reply": "2023-06-01T21:50:20.853958Z"
        },
        "papermill": {
          "duration": 0.763907,
          "end_time": "2023-06-01T21:50:20.855854",
          "exception": false,
          "start_time": "2023-06-01T21:50:20.091947",
          "status": "completed"
        },
        "tags": [
          "hide-input"
        ]
      },
      "outputs": [],
      "source": [
        "from __future__ import annotations\n",
        "\n",
        "from functools import wraps\n",
        "from typing import Dict, Tuple, Union, cast, overload\n",
        "\n",
        "from sax.typing_ import (\n",
        "    Model,\n",
        "    SCoo,\n",
        "    SDense,\n",
        "    SDict,\n",
        "    SType,\n",
        "    is_model,\n",
        "    is_multimode,\n",
        "    is_scoo,\n",
        "    is_sdense,\n",
        "    is_sdict,\n",
        "    is_singlemode,\n",
        "    _consolidate_sdense,\n",
        ")\n",
        "from sax.utils import (\n",
        "    block_diag,\n",
        "    mode_combinations,\n",
        "    validate_multimode,\n",
        "    validate_not_mixedmode,\n",
        ")\n",
        "\n",
        "try:\n",
        "    import jax.numpy as jnp\n",
        "    JAX_AVAILABLE = True\n",
        "except ImportError:\n",
        "    import numpy as jnp\n",
        "    JAX_AVAILABLE = False"
      ]
    },
    {
      "cell_type": "code",
      "execution_count": 4,
      "id": "c92b3409cd62f47f",
      "metadata": {
        "execution": {
          "iopub.execute_input": "2023-06-01T21:50:20.861598Z",
          "iopub.status.busy": "2023-06-01T21:50:20.861107Z",
          "iopub.status.idle": "2023-06-01T21:50:20.865240Z",
          "shell.execute_reply": "2023-06-01T21:50:20.864828Z"
        },
        "papermill": {
          "duration": 0.008258,
          "end_time": "2023-06-01T21:50:20.866525",
          "exception": false,
          "start_time": "2023-06-01T21:50:20.858267",
          "status": "completed"
        },
        "tags": [
          "remove-cell"
        ]
      },
      "outputs": [],
      "source": [
        "\n",
        "@overload\n",
        "def multimode(S: Model, modes: Tuple[str, ...] = (\"te\", \"tm\")) -> Model:\n",
        "    ...\n",
        "\n",
        "\n",
        "@overload\n",
        "def multimode(S: SDict, modes: Tuple[str, ...] = (\"te\", \"tm\")) -> SDict:\n",
        "    ...\n",
        "\n",
        "\n",
        "@overload\n",
        "def multimode(S: SCoo, modes: Tuple[str, ...] = (\"te\", \"tm\")) -> SCoo:\n",
        "    ...\n",
        "\n",
        "\n",
        "@overload\n",
        "def multimode(S: SDense, modes: Tuple[str, ...] = (\"te\", \"tm\")) -> SDense:\n",
        "    ..."
      ]
    },
    {
      "cell_type": "markdown",
      "id": "b0685c1ea094862e",
      "metadata": {},
      "source": [
        ":::{eval-rst}\n",
        ".. autofunction:: sax.multimode.multimode\n",
        ":::\n"
      ]
    },
    {
      "cell_type": "code",
      "execution_count": 5,
      "id": "ebcfe9216affabdc",
      "metadata": {
        "execution": {
          "iopub.execute_input": "2023-06-01T21:50:20.871785Z",
          "iopub.status.busy": "2023-06-01T21:50:20.871453Z",
          "iopub.status.idle": "2023-06-01T21:50:20.882269Z",
          "shell.execute_reply": "2023-06-01T21:50:20.881888Z"
        },
        "papermill": {
          "duration": 0.014909,
          "end_time": "2023-06-01T21:50:20.883485",
          "exception": false,
          "start_time": "2023-06-01T21:50:20.868576",
          "status": "completed"
        },
        "tags": [
          "hide-input"
        ]
      },
      "outputs": [],
      "source": [
        "\n",
        "def multimode(\n",
        "    S: Union[SType, Model], modes: Tuple[str, ...] = (\"te\", \"tm\")\n",
        ") -> Union[SType, Model]:\n",
        "    \"\"\"Convert a single mode model to a multimode model\"\"\"\n",
        "    if is_model(S):\n",
        "        model = cast(Model, S)\n",
        "\n",
        "        @wraps(model)\n",
        "        def new_model(**params):\n",
        "            return multimode(model(**params), modes=modes)\n",
        "\n",
        "        return cast(Model, new_model)\n",
        "\n",
        "    S = cast(SType, S)\n",
        "\n",
        "    validate_not_mixedmode(S)\n",
        "    if is_multimode(S):\n",
        "        validate_multimode(S, modes=modes)\n",
        "        return S\n",
        "\n",
        "    if is_sdict(S):\n",
        "        return _multimode_sdict(cast(SDict, S), modes=modes)\n",
        "    elif is_scoo(S):\n",
        "        return _multimode_scoo(cast(SCoo, S), modes=modes)\n",
        "    elif is_sdense(S):\n",
        "        return _multimode_sdense(cast(SDense, S), modes=modes)\n",
        "    else:\n",
        "        raise ValueError(\"cannot convert to multimode. Unknown stype.\")\n",
        "\n",
        "\n",
        "def _multimode_sdict(sdict: SDict, modes: Tuple[str, ...] = (\"te\", \"tm\")) -> SDict:\n",
        "    multimode_sdict = {}\n",
        "    _mode_combinations = mode_combinations(modes)\n",
        "    for (p1, p2), value in sdict.items():\n",
        "        for (m1, m2) in _mode_combinations:\n",
        "            multimode_sdict[f\"{p1}@{m1}\", f\"{p2}@{m2}\"] = value\n",
        "    return multimode_sdict\n",
        "\n",
        "\n",
        "def _multimode_scoo(scoo: SCoo, modes: Tuple[str, ...] = (\"te\", \"tm\")) -> SCoo:\n",
        "\n",
        "    Si, Sj, Sx, port_map = scoo\n",
        "    num_ports = len(port_map)\n",
        "    mode_map = (\n",
        "        {mode: i for i, mode in enumerate(modes)}\n",
        "        if not isinstance(modes, dict)\n",
        "        else cast(Dict, modes)\n",
        "    )\n",
        "\n",
        "    _mode_combinations = mode_combinations(modes)\n",
        "\n",
        "    Si_m = jnp.concatenate(\n",
        "        [Si + mode_map[m] * num_ports for m, _ in _mode_combinations], -1\n",
        "    )\n",
        "    Sj_m = jnp.concatenate(\n",
        "        [Sj + mode_map[m] * num_ports for _, m in _mode_combinations], -1\n",
        "    )\n",
        "    Sx_m = jnp.concatenate([Sx for _ in _mode_combinations], -1)\n",
        "    port_map_m = {\n",
        "        f\"{port}@{mode}\": idx + mode_map[mode] * num_ports\n",
        "        for mode in modes\n",
        "        for port, idx in port_map.items()\n",
        "    }\n",
        "\n",
        "    return Si_m, Sj_m, Sx_m, port_map_m\n",
        "\n",
        "\n",
        "def _multimode_sdense(sdense, modes=(\"te\", \"tm\")):\n",
        "\n",
        "    Sx, port_map = sdense\n",
        "    num_ports = len(port_map)\n",
        "    mode_map = (\n",
        "        {mode: i for i, mode in enumerate(modes)}\n",
        "        if not isinstance(modes, dict)\n",
        "        else modes\n",
        "    )\n",
        "\n",
        "    Sx_m = block_diag(*(Sx for _ in modes))\n",
        "\n",
        "    port_map_m = {\n",
        "        f\"{port}@{mode}\": idx + mode_map[mode] * num_ports\n",
        "        for mode in modes\n",
        "        for port, idx in port_map.items()\n",
        "    }\n",
        "\n",
        "    return Sx_m, port_map_m"
      ]
    },
    {
      "cell_type": "code",
      "execution_count": 6,
      "id": "e4547870",
      "metadata": {
        "execution": {
          "iopub.execute_input": "2023-06-01T21:50:20.888662Z",
          "iopub.status.busy": "2023-06-01T21:50:20.888296Z",
          "iopub.status.idle": "2023-06-01T21:50:20.891642Z",
          "shell.execute_reply": "2023-06-01T21:50:20.891027Z"
        },
        "papermill": {
          "duration": 0.007118,
          "end_time": "2023-06-01T21:50:20.892660",
          "exception": false,
          "start_time": "2023-06-01T21:50:20.885542",
          "status": "completed"
        },
        "tags": []
      },
      "outputs": [],
      "source": [
        "sdict_s = {(\"in0\", \"out0\"): 1.0}\n",
        "sdict_m = multimode(sdict_s)\n",
        "assert sdict_m == {(\"in0@te\", \"out0@te\"): 1.0, (\"in0@tm\", \"out0@tm\"): 1.0}"
      ]
    },
    {
      "cell_type": "code",
      "execution_count": 7,
      "id": "95dab5a3",
      "metadata": {
        "execution": {
          "iopub.execute_input": "2023-06-01T21:50:20.897957Z",
          "iopub.status.busy": "2023-06-01T21:50:20.897474Z",
          "iopub.status.idle": "2023-06-01T21:50:21.029080Z",
          "shell.execute_reply": "2023-06-01T21:50:21.028678Z"
        },
        "papermill": {
          "duration": 0.135714,
          "end_time": "2023-06-01T21:50:21.030567",
          "exception": false,
          "start_time": "2023-06-01T21:50:20.894853",
          "status": "completed"
        },
        "tags": []
      },
      "outputs": [],
      "source": [
        "from sax.typing_ import scoo\n",
        "scoo_s = scoo(sdict_s)\n",
        "scoo_m = multimode(scoo_s)\n",
        "test_eq(scoo_m[0], jnp.array([0, 2], dtype=int))\n",
        "test_eq(scoo_m[1], jnp.array([1, 3], dtype=int))\n",
        "test_eq(scoo_m[2], jnp.array([1.0, 1.0], dtype=float))\n",
        "test_eq(scoo_m[3], {\"in0@te\": 0, \"out0@te\": 1, \"in0@tm\": 2, \"out0@tm\": 3})"
      ]
    },
    {
      "cell_type": "code",
      "execution_count": 8,
      "id": "3e5474e1",
      "metadata": {
        "execution": {
          "iopub.execute_input": "2023-06-01T21:50:21.037428Z",
          "iopub.status.busy": "2023-06-01T21:50:21.037063Z",
          "iopub.status.idle": "2023-06-01T21:50:21.297980Z",
          "shell.execute_reply": "2023-06-01T21:50:21.297568Z"
        },
        "papermill": {
          "duration": 0.266589,
          "end_time": "2023-06-01T21:50:21.299641",
          "exception": false,
          "start_time": "2023-06-01T21:50:21.033052",
          "status": "completed"
        },
        "tags": []
      },
      "outputs": [],
      "source": [
        "from sax.typing_ import sdense\n",
        "sdense_s = sdense(sdict_s)\n",
        "sdense_m = multimode(sdense_s)\n",
        "test_eq(\n",
        "    sdense_m[0],\n",
        "    [[0.0 + 0.0j, 1.0 + 0.0j, 0.0 + 0.0j, 0.0 + 0.0j],\n",
        "     [0.0 + 0.0j, 0.0 + 0.0j, 0.0 + 0.0j, 0.0 + 0.0j],\n",
        "     [0.0 + 0.0j, 0.0 + 0.0j, 0.0 + 0.0j, 1.0 + 0.0j],\n",
        "     [0.0 + 0.0j, 0.0 + 0.0j, 0.0 + 0.0j, 0.0 + 0.0j]],\n",
        ")\n",
        "test_eq(sdense_m[1], {\"in0@te\": 0, \"out0@te\": 1, \"in0@tm\": 2, \"out0@tm\": 3})"
      ]
    },
    {
      "cell_type": "code",
      "execution_count": 9,
      "id": "5a8fb10313e67d62",
      "metadata": {
        "execution": {
          "iopub.execute_input": "2023-06-01T21:50:21.306285Z",
          "iopub.status.busy": "2023-06-01T21:50:21.305332Z",
          "iopub.status.idle": "2023-06-01T21:50:21.309779Z",
          "shell.execute_reply": "2023-06-01T21:50:21.309429Z"
        },
        "papermill": {
          "duration": 0.009066,
          "end_time": "2023-06-01T21:50:21.311061",
          "exception": false,
          "start_time": "2023-06-01T21:50:21.301995",
          "status": "completed"
        },
        "tags": [
          "remove-cell"
        ]
      },
      "outputs": [],
      "source": [
        "\n",
        "@overload\n",
        "def singlemode(S: Model, mode: str = \"te\") -> Model:\n",
        "    ...\n",
        "\n",
        "\n",
        "@overload\n",
        "def singlemode(S: SDict, mode: str = \"te\") -> SDict:\n",
        "    ...\n",
        "\n",
        "\n",
        "@overload\n",
        "def singlemode(S: SCoo, mode: str = \"te\") -> SCoo:\n",
        "    ...\n",
        "\n",
        "\n",
        "@overload\n",
        "def singlemode(S: SDense, mode: str = \"te\") -> SDense:\n",
        "    ..."
      ]
    },
    {
      "cell_type": "markdown",
      "id": "d4213348db19b40d",
      "metadata": {},
      "source": [
        ":::{eval-rst}\n",
        ".. autofunction:: sax.multimode.singlemode\n",
        ":::\n"
      ]
    },
    {
      "cell_type": "code",
      "execution_count": 10,
      "id": "33f0b669689eda55",
      "metadata": {
        "execution": {
          "iopub.execute_input": "2023-06-01T21:50:21.316862Z",
          "iopub.status.busy": "2023-06-01T21:50:21.316524Z",
          "iopub.status.idle": "2023-06-01T21:50:21.324778Z",
          "shell.execute_reply": "2023-06-01T21:50:21.324442Z"
        },
        "papermill": {
          "duration": 0.01259,
          "end_time": "2023-06-01T21:50:21.326051",
          "exception": false,
          "start_time": "2023-06-01T21:50:21.313461",
          "status": "completed"
        },
        "tags": [
          "hide-input"
        ]
      },
      "outputs": [],
      "source": [
        "\n",
        "def singlemode(S: Union[SType, Model], mode: str = \"te\") -> Union[SType, Model]:\n",
        "    \"\"\"Convert multimode model to a singlemode model\"\"\"\n",
        "    if is_model(S):\n",
        "        model = cast(Model, S)\n",
        "\n",
        "        @wraps(model)\n",
        "        def new_model(**params):\n",
        "            return singlemode(model(**params), mode=mode)\n",
        "\n",
        "        return cast(Model, new_model)\n",
        "\n",
        "    S = cast(SType, S)\n",
        "\n",
        "    validate_not_mixedmode(S)\n",
        "    if is_singlemode(S):\n",
        "        return S\n",
        "    if is_sdict(S):\n",
        "        return _singlemode_sdict(cast(SDict, S), mode=mode)\n",
        "    elif is_scoo(S):\n",
        "        return _singlemode_scoo(cast(SCoo, S), mode=mode)\n",
        "    elif is_sdense(S):\n",
        "        return _singlemode_sdense(cast(SDense, S), mode=mode)\n",
        "    else:\n",
        "        raise ValueError(\"cannot convert to multimode. Unknown stype.\")\n",
        "\n",
        "\n",
        "def _singlemode_sdict(sdict: SDict, mode: str = \"te\") -> SDict:\n",
        "    singlemode_sdict = {}\n",
        "    for (p1, p2), value in sdict.items():\n",
        "        if p1.endswith(f\"@{mode}\") and p2.endswith(f\"@{mode}\"):\n",
        "            p1, _ = p1.split(\"@\")\n",
        "            p2, _ = p2.split(\"@\")\n",
        "            singlemode_sdict[p1, p2] = value\n",
        "    return singlemode_sdict\n",
        "\n",
        "\n",
        "def _singlemode_scoo(scoo: SCoo, mode: str = \"te\") -> SCoo:\n",
        "    Si, Sj, Sx, port_map = scoo\n",
        "    # no need to touch the data...\n",
        "    # just removing some ports from the port map should be enough\n",
        "    port_map = {\n",
        "        port.split(\"@\")[0]: idx\n",
        "        for port, idx in port_map.items()\n",
        "        if port.endswith(f\"@{mode}\")\n",
        "    }\n",
        "    return Si, Sj, Sx, port_map\n",
        "\n",
        "\n",
        "def _singlemode_sdense(sdense: SDense, mode: str = \"te\") -> SDense:\n",
        "    Sx, port_map = sdense\n",
        "    # no need to touch the data...\n",
        "    # just removing some ports from the port map should be enough\n",
        "    port_map = {\n",
        "        port.split(\"@\")[0]: idx\n",
        "        for port, idx in port_map.items()\n",
        "        if port.endswith(f\"@{mode}\")\n",
        "    }\n",
        "    return _consolidate_sdense(Sx, port_map)"
      ]
    },
    {
      "cell_type": "code",
      "execution_count": 11,
      "id": "2215f7c9",
      "metadata": {
        "execution": {
          "iopub.execute_input": "2023-06-01T21:50:21.331661Z",
          "iopub.status.busy": "2023-06-01T21:50:21.331330Z",
          "iopub.status.idle": "2023-06-01T21:50:21.334542Z",
          "shell.execute_reply": "2023-06-01T21:50:21.334188Z"
        },
        "papermill": {
          "duration": 0.007507,
          "end_time": "2023-06-01T21:50:21.335793",
          "exception": false,
          "start_time": "2023-06-01T21:50:21.328286",
          "status": "completed"
        },
        "tags": []
      },
      "outputs": [],
      "source": [
        "sdict_s = singlemode(sdict_m)\n",
        "assert sdict_s == {(\"in0\", \"out0\"): 1.0}"
      ]
    },
    {
      "cell_type": "code",
      "execution_count": 12,
      "id": "3f57f37b",
      "metadata": {
        "execution": {
          "iopub.execute_input": "2023-06-01T21:50:21.341053Z",
          "iopub.status.busy": "2023-06-01T21:50:21.340875Z",
          "iopub.status.idle": "2023-06-01T21:50:21.379504Z",
          "shell.execute_reply": "2023-06-01T21:50:21.379117Z"
        },
        "papermill": {
          "duration": 0.043076,
          "end_time": "2023-06-01T21:50:21.381092",
          "exception": false,
          "start_time": "2023-06-01T21:50:21.338016",
          "status": "completed"
        },
        "tags": []
      },
      "outputs": [],
      "source": [
        "scoo_s = singlemode(scoo_s)\n",
        "test_eq(scoo_s[0], jnp.array([0], dtype=int))\n",
        "test_eq(scoo_s[1], jnp.array([1], dtype=int))\n",
        "test_eq(scoo_s[2], jnp.array([1.0], dtype=float))\n",
        "test_eq(scoo_s[3], {'in0': 0, 'out0': 1})"
      ]
    },
    {
      "cell_type": "code",
      "execution_count": 13,
      "id": "94bc44fb",
      "metadata": {
        "execution": {
          "iopub.execute_input": "2023-06-01T21:50:21.387839Z",
          "iopub.status.busy": "2023-06-01T21:50:21.386913Z",
          "iopub.status.idle": "2023-06-01T21:50:21.497444Z",
          "shell.execute_reply": "2023-06-01T21:50:21.497024Z"
        },
        "papermill": {
          "duration": 0.115575,
          "end_time": "2023-06-01T21:50:21.499100",
          "exception": false,
          "start_time": "2023-06-01T21:50:21.383525",
          "status": "completed"
        },
        "tags": []
      },
      "outputs": [],
      "source": [
        "sdense_s = singlemode(sdense_m)\n",
        "test_eq(\n",
        "    sdense_s[0],\n",
        "    [[0.0 + 0.0j, 1.0 + 0.0j],\n",
        "     [0.0 + 0.0j, 0.0 + 0.0j]]\n",
        ")\n",
        "test_eq(sdense_s[1], {'in0': 0, 'out0': 1})"
      ]
    }
  ],
  "metadata": {
    "kernelspec": {
      "display_name": "Python 3 (ipykernel)",
      "language": "python",
      "name": "python3"
    },
    "language_info": {
      "codemirror_mode": {
        "name": "ipython",
        "version": 3
      },
      "file_extension": ".py",
      "mimetype": "text/x-python",
      "name": "python",
      "nbconvert_exporter": "python",
      "pygments_lexer": "ipython3",
      "version": "3.11.3"
    },
    "papermill": {
      "default_parameters": {},
      "duration": 3.17642,
      "end_time": "2023-06-01T21:50:21.823447",
      "environment_variables": {},
      "exception": null,
      "input_path": "./nbs/04_multimode.ipynb",
      "output_path": "./nbs/04_multimode.ipynb",
      "parameters": {},
      "start_time": "2023-06-01T21:50:18.647027",
      "version": "2.3.4"
    }
  },
  "nbformat": 4,
  "nbformat_minor": 5
}