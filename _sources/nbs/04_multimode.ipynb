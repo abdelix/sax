{
  "cells": [
    {
      "cell_type": "code",
      "execution_count": 1,
      "id": "0519720580fa2283",
      "metadata": {
        "execution": {
          "iopub.execute_input": "2023-07-01T03:33:11.612871Z",
          "iopub.status.busy": "2023-07-01T03:33:11.612442Z",
          "iopub.status.idle": "2023-07-01T03:33:11.616304Z",
          "shell.execute_reply": "2023-07-01T03:33:11.615795Z"
        },
        "papermill": {
          "duration": 0.008918,
          "end_time": "2023-07-01T03:33:11.617703",
          "exception": false,
          "start_time": "2023-07-01T03:33:11.608785",
          "status": "completed"
        },
        "tags": [
          "remove-cell"
        ]
      },
      "outputs": [],
      "source": []
    },
    {
      "cell_type": "markdown",
      "id": "60e8c162",
      "metadata": {
        "papermill": {
          "duration": 0.00199,
          "end_time": "2023-07-01T03:33:11.622083",
          "exception": false,
          "start_time": "2023-07-01T03:33:11.620093",
          "status": "completed"
        },
        "tags": []
      },
      "source": [
        "# Multimode\n",
        "\n",
        "> SAX Multimode utils"
      ]
    },
    {
      "cell_type": "code",
      "execution_count": 2,
      "id": "a73b10e2461f79f2",
      "metadata": {
        "execution": {
          "iopub.execute_input": "2023-07-01T03:33:11.627056Z",
          "iopub.status.busy": "2023-07-01T03:33:11.626864Z",
          "iopub.status.idle": "2023-07-01T03:33:11.634425Z",
          "shell.execute_reply": "2023-07-01T03:33:11.634017Z"
        },
        "papermill": {
          "duration": 0.011615,
          "end_time": "2023-07-01T03:33:11.635718",
          "exception": false,
          "start_time": "2023-07-01T03:33:11.624103",
          "status": "completed"
        },
        "tags": [
          "remove-cell"
        ]
      },
      "outputs": [],
      "source": [
        "from fastcore.test import test_eq\n",
        "\n",
        "import os, sys; sys.stderr = open(os.devnull, \"w\")"
      ]
    },
    {
      "cell_type": "code",
      "execution_count": 3,
      "id": "3877b9e081712cdf",
      "metadata": {
        "execution": {
          "iopub.execute_input": "2023-07-01T03:33:11.640792Z",
          "iopub.status.busy": "2023-07-01T03:33:11.640610Z",
          "iopub.status.idle": "2023-07-01T03:33:12.423226Z",
          "shell.execute_reply": "2023-07-01T03:33:12.422532Z"
        },
        "papermill": {
          "duration": 0.787392,
          "end_time": "2023-07-01T03:33:12.425136",
          "exception": false,
          "start_time": "2023-07-01T03:33:11.637744",
          "status": "completed"
        },
        "tags": [
          "hide-input"
        ]
      },
      "outputs": [],
      "source": [
        "from __future__ import annotations\n",
        "\n",
        "from functools import wraps\n",
        "from typing import Dict, Tuple, Union, cast, overload\n",
        "\n",
        "from sax.typing_ import (\n",
        "    Model,\n",
        "    SCoo,\n",
        "    SDense,\n",
        "    SDict,\n",
        "    SType,\n",
        "    is_model,\n",
        "    is_multimode,\n",
        "    is_scoo,\n",
        "    is_sdense,\n",
        "    is_sdict,\n",
        "    is_singlemode,\n",
        "    _consolidate_sdense,\n",
        ")\n",
        "from sax.utils import (\n",
        "    block_diag,\n",
        "    mode_combinations,\n",
        "    validate_multimode,\n",
        "    validate_not_mixedmode,\n",
        ")\n",
        "\n",
        "try:\n",
        "    import jax.numpy as jnp\n",
        "    JAX_AVAILABLE = True\n",
        "except ImportError:\n",
        "    import numpy as jnp\n",
        "    JAX_AVAILABLE = False"
      ]
    },
    {
      "cell_type": "code",
      "execution_count": 4,
      "id": "6fae5fd5a79c6387",
      "metadata": {
        "execution": {
          "iopub.execute_input": "2023-07-01T03:33:12.431949Z",
          "iopub.status.busy": "2023-07-01T03:33:12.430901Z",
          "iopub.status.idle": "2023-07-01T03:33:12.435887Z",
          "shell.execute_reply": "2023-07-01T03:33:12.435553Z"
        },
        "papermill": {
          "duration": 0.00969,
          "end_time": "2023-07-01T03:33:12.437198",
          "exception": false,
          "start_time": "2023-07-01T03:33:12.427508",
          "status": "completed"
        },
        "tags": [
          "remove-cell"
        ]
      },
      "outputs": [],
      "source": [
        "\n",
        "@overload\n",
        "def multimode(S: Model, modes: Tuple[str, ...] = (\"te\", \"tm\")) -> Model:\n",
        "    ...\n",
        "\n",
        "\n",
        "@overload\n",
        "def multimode(S: SDict, modes: Tuple[str, ...] = (\"te\", \"tm\")) -> SDict:\n",
        "    ...\n",
        "\n",
        "\n",
        "@overload\n",
        "def multimode(S: SCoo, modes: Tuple[str, ...] = (\"te\", \"tm\")) -> SCoo:\n",
        "    ...\n",
        "\n",
        "\n",
        "@overload\n",
        "def multimode(S: SDense, modes: Tuple[str, ...] = (\"te\", \"tm\")) -> SDense:\n",
        "    ..."
      ]
    },
    {
      "cell_type": "markdown",
      "id": "30ad6c3227b63067",
      "metadata": {},
      "source": [
        ":::{eval-rst}\n",
        ".. autofunction:: sax.multimode.multimode\n",
        ":::\n"
      ]
    },
    {
      "cell_type": "code",
      "execution_count": 5,
      "id": "1a02247e240fdef7",
      "metadata": {
        "execution": {
          "iopub.execute_input": "2023-07-01T03:33:12.442773Z",
          "iopub.status.busy": "2023-07-01T03:33:12.442434Z",
          "iopub.status.idle": "2023-07-01T03:33:12.453058Z",
          "shell.execute_reply": "2023-07-01T03:33:12.452723Z"
        },
        "papermill": {
          "duration": 0.015071,
          "end_time": "2023-07-01T03:33:12.454359",
          "exception": false,
          "start_time": "2023-07-01T03:33:12.439288",
          "status": "completed"
        },
        "tags": [
          "hide-input"
        ]
      },
      "outputs": [],
      "source": [
        "\n",
        "def multimode(\n",
        "    S: Union[SType, Model], modes: Tuple[str, ...] = (\"te\", \"tm\")\n",
        ") -> Union[SType, Model]:\n",
        "    \"\"\"Convert a single mode model to a multimode model\"\"\"\n",
        "    if is_model(S):\n",
        "        model = cast(Model, S)\n",
        "\n",
        "        @wraps(model)\n",
        "        def new_model(**params):\n",
        "            return multimode(model(**params), modes=modes)\n",
        "\n",
        "        return cast(Model, new_model)\n",
        "\n",
        "    S = cast(SType, S)\n",
        "\n",
        "    validate_not_mixedmode(S)\n",
        "    if is_multimode(S):\n",
        "        validate_multimode(S, modes=modes)\n",
        "        return S\n",
        "\n",
        "    if is_sdict(S):\n",
        "        return _multimode_sdict(cast(SDict, S), modes=modes)\n",
        "    elif is_scoo(S):\n",
        "        return _multimode_scoo(cast(SCoo, S), modes=modes)\n",
        "    elif is_sdense(S):\n",
        "        return _multimode_sdense(cast(SDense, S), modes=modes)\n",
        "    else:\n",
        "        raise ValueError(\"cannot convert to multimode. Unknown stype.\")\n",
        "\n",
        "\n",
        "def _multimode_sdict(sdict: SDict, modes: Tuple[str, ...] = (\"te\", \"tm\")) -> SDict:\n",
        "    multimode_sdict = {}\n",
        "    _mode_combinations = mode_combinations(modes)\n",
        "    for (p1, p2), value in sdict.items():\n",
        "        for (m1, m2) in _mode_combinations:\n",
        "            multimode_sdict[f\"{p1}@{m1}\", f\"{p2}@{m2}\"] = value\n",
        "    return multimode_sdict\n",
        "\n",
        "\n",
        "def _multimode_scoo(scoo: SCoo, modes: Tuple[str, ...] = (\"te\", \"tm\")) -> SCoo:\n",
        "\n",
        "    Si, Sj, Sx, port_map = scoo\n",
        "    num_ports = len(port_map)\n",
        "    mode_map = (\n",
        "        {mode: i for i, mode in enumerate(modes)}\n",
        "        if not isinstance(modes, dict)\n",
        "        else cast(Dict, modes)\n",
        "    )\n",
        "\n",
        "    _mode_combinations = mode_combinations(modes)\n",
        "\n",
        "    Si_m = jnp.concatenate(\n",
        "        [Si + mode_map[m] * num_ports for m, _ in _mode_combinations], -1\n",
        "    )\n",
        "    Sj_m = jnp.concatenate(\n",
        "        [Sj + mode_map[m] * num_ports for _, m in _mode_combinations], -1\n",
        "    )\n",
        "    Sx_m = jnp.concatenate([Sx for _ in _mode_combinations], -1)\n",
        "    port_map_m = {\n",
        "        f\"{port}@{mode}\": idx + mode_map[mode] * num_ports\n",
        "        for mode in modes\n",
        "        for port, idx in port_map.items()\n",
        "    }\n",
        "\n",
        "    return Si_m, Sj_m, Sx_m, port_map_m\n",
        "\n",
        "\n",
        "def _multimode_sdense(sdense, modes=(\"te\", \"tm\")):\n",
        "\n",
        "    Sx, port_map = sdense\n",
        "    num_ports = len(port_map)\n",
        "    mode_map = (\n",
        "        {mode: i for i, mode in enumerate(modes)}\n",
        "        if not isinstance(modes, dict)\n",
        "        else modes\n",
        "    )\n",
        "\n",
        "    Sx_m = block_diag(*(Sx for _ in modes))\n",
        "\n",
        "    port_map_m = {\n",
        "        f\"{port}@{mode}\": idx + mode_map[mode] * num_ports\n",
        "        for mode in modes\n",
        "        for port, idx in port_map.items()\n",
        "    }\n",
        "\n",
        "    return Sx_m, port_map_m"
      ]
    },
    {
      "cell_type": "code",
      "execution_count": 6,
      "id": "e4547870",
      "metadata": {
        "execution": {
          "iopub.execute_input": "2023-07-01T03:33:12.460587Z",
          "iopub.status.busy": "2023-07-01T03:33:12.459703Z",
          "iopub.status.idle": "2023-07-01T03:33:12.463802Z",
          "shell.execute_reply": "2023-07-01T03:33:12.463478Z"
        },
        "papermill": {
          "duration": 0.008654,
          "end_time": "2023-07-01T03:33:12.465105",
          "exception": false,
          "start_time": "2023-07-01T03:33:12.456451",
          "status": "completed"
        },
        "tags": []
      },
      "outputs": [],
      "source": [
        "sdict_s = {(\"in0\", \"out0\"): 1.0}\n",
        "sdict_m = multimode(sdict_s)\n",
        "assert sdict_m == {(\"in0@te\", \"out0@te\"): 1.0, (\"in0@tm\", \"out0@tm\"): 1.0}"
      ]
    },
    {
      "cell_type": "code",
      "execution_count": 7,
      "id": "95dab5a3",
      "metadata": {
        "execution": {
          "iopub.execute_input": "2023-07-01T03:33:12.470712Z",
          "iopub.status.busy": "2023-07-01T03:33:12.470367Z",
          "iopub.status.idle": "2023-07-01T03:33:12.586686Z",
          "shell.execute_reply": "2023-07-01T03:33:12.586256Z"
        },
        "papermill": {
          "duration": 0.121095,
          "end_time": "2023-07-01T03:33:12.588337",
          "exception": false,
          "start_time": "2023-07-01T03:33:12.467242",
          "status": "completed"
        },
        "tags": []
      },
      "outputs": [],
      "source": [
        "from sax.typing_ import scoo\n",
        "scoo_s = scoo(sdict_s)\n",
        "scoo_m = multimode(scoo_s)\n",
        "test_eq(scoo_m[0], jnp.array([0, 2], dtype=int))\n",
        "test_eq(scoo_m[1], jnp.array([1, 3], dtype=int))\n",
        "test_eq(scoo_m[2], jnp.array([1.0, 1.0], dtype=float))\n",
        "test_eq(scoo_m[3], {\"in0@te\": 0, \"out0@te\": 1, \"in0@tm\": 2, \"out0@tm\": 3})"
      ]
    },
    {
      "cell_type": "code",
      "execution_count": 8,
      "id": "3e5474e1",
      "metadata": {
        "execution": {
          "iopub.execute_input": "2023-07-01T03:33:12.595371Z",
          "iopub.status.busy": "2023-07-01T03:33:12.594407Z",
          "iopub.status.idle": "2023-07-01T03:33:12.807316Z",
          "shell.execute_reply": "2023-07-01T03:33:12.806900Z"
        },
        "papermill": {
          "duration": 0.218153,
          "end_time": "2023-07-01T03:33:12.808966",
          "exception": false,
          "start_time": "2023-07-01T03:33:12.590813",
          "status": "completed"
        },
        "tags": []
      },
      "outputs": [],
      "source": [
        "from sax.typing_ import sdense\n",
        "sdense_s = sdense(sdict_s)\n",
        "sdense_m = multimode(sdense_s)\n",
        "test_eq(\n",
        "    sdense_m[0],\n",
        "    [[0.0 + 0.0j, 1.0 + 0.0j, 0.0 + 0.0j, 0.0 + 0.0j],\n",
        "     [0.0 + 0.0j, 0.0 + 0.0j, 0.0 + 0.0j, 0.0 + 0.0j],\n",
        "     [0.0 + 0.0j, 0.0 + 0.0j, 0.0 + 0.0j, 1.0 + 0.0j],\n",
        "     [0.0 + 0.0j, 0.0 + 0.0j, 0.0 + 0.0j, 0.0 + 0.0j]],\n",
        ")\n",
        "test_eq(sdense_m[1], {\"in0@te\": 0, \"out0@te\": 1, \"in0@tm\": 2, \"out0@tm\": 3})"
      ]
    },
    {
      "cell_type": "code",
      "execution_count": 9,
      "id": "ad3a312c9025e6a7",
      "metadata": {
        "execution": {
          "iopub.execute_input": "2023-07-01T03:33:12.815959Z",
          "iopub.status.busy": "2023-07-01T03:33:12.814985Z",
          "iopub.status.idle": "2023-07-01T03:33:12.819758Z",
          "shell.execute_reply": "2023-07-01T03:33:12.819419Z"
        },
        "papermill": {
          "duration": 0.009685,
          "end_time": "2023-07-01T03:33:12.821047",
          "exception": false,
          "start_time": "2023-07-01T03:33:12.811362",
          "status": "completed"
        },
        "tags": [
          "remove-cell"
        ]
      },
      "outputs": [],
      "source": [
        "\n",
        "@overload\n",
        "def singlemode(S: Model, mode: str = \"te\") -> Model:\n",
        "    ...\n",
        "\n",
        "\n",
        "@overload\n",
        "def singlemode(S: SDict, mode: str = \"te\") -> SDict:\n",
        "    ...\n",
        "\n",
        "\n",
        "@overload\n",
        "def singlemode(S: SCoo, mode: str = \"te\") -> SCoo:\n",
        "    ...\n",
        "\n",
        "\n",
        "@overload\n",
        "def singlemode(S: SDense, mode: str = \"te\") -> SDense:\n",
        "    ..."
      ]
    },
    {
      "cell_type": "markdown",
      "id": "67a42199795a9b81",
      "metadata": {},
      "source": [
        ":::{eval-rst}\n",
        ".. autofunction:: sax.multimode.singlemode\n",
        ":::\n"
      ]
    },
    {
      "cell_type": "code",
      "execution_count": 10,
      "id": "8ebfb425496e9005",
      "metadata": {
        "execution": {
          "iopub.execute_input": "2023-07-01T03:33:12.827011Z",
          "iopub.status.busy": "2023-07-01T03:33:12.826666Z",
          "iopub.status.idle": "2023-07-01T03:33:12.835658Z",
          "shell.execute_reply": "2023-07-01T03:33:12.835321Z"
        },
        "papermill": {
          "duration": 0.013314,
          "end_time": "2023-07-01T03:33:12.836964",
          "exception": false,
          "start_time": "2023-07-01T03:33:12.823650",
          "status": "completed"
        },
        "tags": [
          "hide-input"
        ]
      },
      "outputs": [],
      "source": [
        "\n",
        "def singlemode(S: Union[SType, Model], mode: str = \"te\") -> Union[SType, Model]:\n",
        "    \"\"\"Convert multimode model to a singlemode model\"\"\"\n",
        "    if is_model(S):\n",
        "        model = cast(Model, S)\n",
        "\n",
        "        @wraps(model)\n",
        "        def new_model(**params):\n",
        "            return singlemode(model(**params), mode=mode)\n",
        "\n",
        "        return cast(Model, new_model)\n",
        "\n",
        "    S = cast(SType, S)\n",
        "\n",
        "    validate_not_mixedmode(S)\n",
        "    if is_singlemode(S):\n",
        "        return S\n",
        "    if is_sdict(S):\n",
        "        return _singlemode_sdict(cast(SDict, S), mode=mode)\n",
        "    elif is_scoo(S):\n",
        "        return _singlemode_scoo(cast(SCoo, S), mode=mode)\n",
        "    elif is_sdense(S):\n",
        "        return _singlemode_sdense(cast(SDense, S), mode=mode)\n",
        "    else:\n",
        "        raise ValueError(\"cannot convert to multimode. Unknown stype.\")\n",
        "\n",
        "\n",
        "def _singlemode_sdict(sdict: SDict, mode: str = \"te\") -> SDict:\n",
        "    singlemode_sdict = {}\n",
        "    for (p1, p2), value in sdict.items():\n",
        "        if p1.endswith(f\"@{mode}\") and p2.endswith(f\"@{mode}\"):\n",
        "            p1, _ = p1.split(\"@\")\n",
        "            p2, _ = p2.split(\"@\")\n",
        "            singlemode_sdict[p1, p2] = value\n",
        "    return singlemode_sdict\n",
        "\n",
        "\n",
        "def _singlemode_scoo(scoo: SCoo, mode: str = \"te\") -> SCoo:\n",
        "    Si, Sj, Sx, port_map = scoo\n",
        "    # no need to touch the data...\n",
        "    # just removing some ports from the port map should be enough\n",
        "    port_map = {\n",
        "        port.split(\"@\")[0]: idx\n",
        "        for port, idx in port_map.items()\n",
        "        if port.endswith(f\"@{mode}\")\n",
        "    }\n",
        "    return Si, Sj, Sx, port_map\n",
        "\n",
        "\n",
        "def _singlemode_sdense(sdense: SDense, mode: str = \"te\") -> SDense:\n",
        "    Sx, port_map = sdense\n",
        "    # no need to touch the data...\n",
        "    # just removing some ports from the port map should be enough\n",
        "    port_map = {\n",
        "        port.split(\"@\")[0]: idx\n",
        "        for port, idx in port_map.items()\n",
        "        if port.endswith(f\"@{mode}\")\n",
        "    }\n",
        "    return _consolidate_sdense(Sx, port_map)"
      ]
    },
    {
      "cell_type": "code",
      "execution_count": 11,
      "id": "2215f7c9",
      "metadata": {
        "execution": {
          "iopub.execute_input": "2023-07-01T03:33:12.851383Z",
          "iopub.status.busy": "2023-07-01T03:33:12.851001Z",
          "iopub.status.idle": "2023-07-01T03:33:12.855329Z",
          "shell.execute_reply": "2023-07-01T03:33:12.854960Z"
        },
        "papermill": {
          "duration": 0.018029,
          "end_time": "2023-07-01T03:33:12.857265",
          "exception": false,
          "start_time": "2023-07-01T03:33:12.839236",
          "status": "completed"
        },
        "tags": []
      },
      "outputs": [],
      "source": [
        "sdict_s = singlemode(sdict_m)\n",
        "assert sdict_s == {(\"in0\", \"out0\"): 1.0}"
      ]
    },
    {
      "cell_type": "code",
      "execution_count": 12,
      "id": "3f57f37b",
      "metadata": {
        "execution": {
          "iopub.execute_input": "2023-07-01T03:33:12.862718Z",
          "iopub.status.busy": "2023-07-01T03:33:12.862543Z",
          "iopub.status.idle": "2023-07-01T03:33:12.900994Z",
          "shell.execute_reply": "2023-07-01T03:33:12.900594Z"
        },
        "papermill": {
          "duration": 0.043011,
          "end_time": "2023-07-01T03:33:12.902671",
          "exception": false,
          "start_time": "2023-07-01T03:33:12.859660",
          "status": "completed"
        },
        "tags": []
      },
      "outputs": [],
      "source": [
        "scoo_s = singlemode(scoo_s)\n",
        "test_eq(scoo_s[0], jnp.array([0], dtype=int))\n",
        "test_eq(scoo_s[1], jnp.array([1], dtype=int))\n",
        "test_eq(scoo_s[2], jnp.array([1.0], dtype=float))\n",
        "test_eq(scoo_s[3], {'in0': 0, 'out0': 1})"
      ]
    },
    {
      "cell_type": "code",
      "execution_count": 13,
      "id": "94bc44fb",
      "metadata": {
        "execution": {
          "iopub.execute_input": "2023-07-01T03:33:12.909840Z",
          "iopub.status.busy": "2023-07-01T03:33:12.908860Z",
          "iopub.status.idle": "2023-07-01T03:33:13.014213Z",
          "shell.execute_reply": "2023-07-01T03:33:13.013806Z"
        },
        "papermill": {
          "duration": 0.110715,
          "end_time": "2023-07-01T03:33:13.015902",
          "exception": false,
          "start_time": "2023-07-01T03:33:12.905187",
          "status": "completed"
        },
        "tags": []
      },
      "outputs": [],
      "source": [
        "sdense_s = singlemode(sdense_m)\n",
        "test_eq(\n",
        "    sdense_s[0],\n",
        "    [[0.0 + 0.0j, 1.0 + 0.0j],\n",
        "     [0.0 + 0.0j, 0.0 + 0.0j]]\n",
        ")\n",
        "test_eq(sdense_s[1], {'in0': 0, 'out0': 1})"
      ]
    }
  ],
  "metadata": {
    "kernelspec": {
      "display_name": "Python 3 (ipykernel)",
      "language": "python",
      "name": "python3"
    },
    "language_info": {
      "codemirror_mode": {
        "name": "ipython",
        "version": 3
      },
      "file_extension": ".py",
      "mimetype": "text/x-python",
      "name": "python",
      "nbconvert_exporter": "python",
      "pygments_lexer": "ipython3",
      "version": "3.11.4"
    },
    "papermill": {
      "default_parameters": {},
      "duration": 2.910172,
      "end_time": "2023-07-01T03:33:13.337641",
      "environment_variables": {},
      "exception": null,
      "input_path": "./nbs/04_multimode.ipynb",
      "output_path": "./nbs/04_multimode.ipynb",
      "parameters": {},
      "start_time": "2023-07-01T03:33:10.427469",
      "version": "2.3.4"
    }
  },
  "nbformat": 4,
  "nbformat_minor": 5
}