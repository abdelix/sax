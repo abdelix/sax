{
  "cells": [
    {
      "cell_type": "code",
      "execution_count": 1,
      "id": "addb74c037877d3b",
      "metadata": {
        "execution": {
          "iopub.execute_input": "2023-09-01T16:51:39.840857Z",
          "iopub.status.busy": "2023-09-01T16:51:39.840261Z",
          "iopub.status.idle": "2023-09-01T16:51:39.843588Z",
          "shell.execute_reply": "2023-09-01T16:51:39.843018Z"
        },
        "papermill": {
          "duration": 0.043059,
          "end_time": "2023-09-01T16:51:39.844824",
          "exception": false,
          "start_time": "2023-09-01T16:51:39.801765",
          "status": "completed"
        },
        "tags": [
          "remove-cell"
        ]
      },
      "outputs": [],
      "source": []
    },
    {
      "cell_type": "markdown",
      "id": "27c3489e",
      "metadata": {
        "papermill": {
          "duration": 0.011032,
          "end_time": "2023-09-01T16:51:39.867239",
          "exception": false,
          "start_time": "2023-09-01T16:51:39.856207",
          "status": "completed"
        },
        "tags": []
      },
      "source": [
        "# Backend - KLU\n",
        "\n",
        "> SAX KLU Backend"
      ]
    },
    {
      "cell_type": "code",
      "execution_count": 2,
      "id": "307d39efe29525f2",
      "metadata": {
        "execution": {
          "iopub.execute_input": "2023-09-01T16:51:39.890314Z",
          "iopub.status.busy": "2023-09-01T16:51:39.889936Z",
          "iopub.status.idle": "2023-09-01T16:51:41.474629Z",
          "shell.execute_reply": "2023-09-01T16:51:41.474093Z"
        },
        "papermill": {
          "duration": 1.598087,
          "end_time": "2023-09-01T16:51:41.476192",
          "exception": false,
          "start_time": "2023-09-01T16:51:39.878105",
          "status": "completed"
        },
        "tags": [
          "remove-cell"
        ]
      },
      "outputs": [],
      "source": [
        "import sax\n",
        "import matplotlib.pyplot as plt\n",
        "from fastcore.test import test_eq\n",
        "from pytest import approx, raises\n",
        "from nbdev import show_doc\n",
        "from sax.backends import analyze_circuit, evaluate_circuit\n",
        "\n",
        "import os, sys; sys.stderr = open(os.devnull, \"w\")"
      ]
    },
    {
      "cell_type": "code",
      "execution_count": 3,
      "id": "a01d884b1b47d6e1",
      "metadata": {
        "execution": {
          "iopub.execute_input": "2023-09-01T16:51:41.500324Z",
          "iopub.status.busy": "2023-09-01T16:51:41.499936Z",
          "iopub.status.idle": "2023-09-01T16:51:41.503193Z",
          "shell.execute_reply": "2023-09-01T16:51:41.502826Z"
        },
        "papermill": {
          "duration": 0.016659,
          "end_time": "2023-09-01T16:51:41.504352",
          "exception": false,
          "start_time": "2023-09-01T16:51:41.487693",
          "status": "completed"
        },
        "tags": [
          "hide-input"
        ]
      },
      "outputs": [],
      "source": [
        "from __future__ import annotations\n",
        "\n",
        "from functools import partial\n",
        "from typing import Dict\n",
        "\n",
        "import jax\n",
        "import jax.numpy as jnp\n",
        "import klujax\n",
        "from natsort import natsorted\n",
        "from sax.typing_ import SDense, SDict, SType, scoo, sdense, sdict"
      ]
    },
    {
      "cell_type": "markdown",
      "id": "64e42767",
      "metadata": {
        "papermill": {
          "duration": 0.011057,
          "end_time": "2023-09-01T16:51:41.526385",
          "exception": false,
          "start_time": "2023-09-01T16:51:41.515328",
          "status": "completed"
        },
        "tags": []
      },
      "source": [
        "## Citation\n",
        "The KLU backend is using `klujax`, which uses the [SuiteSparse](https://github.com/DrTimothyAldenDavis/SuiteSparse) C++ libraries for sparse matrix evaluations to evaluate the circuit insanely fast on a CPU. The specific algorith being used in question is the KLU algorithm:\n",
        "\n",
        "> Ekanathan Palamadai Natariajan. \"*KLU - A high performance sparse linear solver for circuit simulation problems.*\""
      ]
    },
    {
      "cell_type": "markdown",
      "id": "2db5821c",
      "metadata": {
        "papermill": {
          "duration": 0.010954,
          "end_time": "2023-09-01T16:51:41.548324",
          "exception": false,
          "start_time": "2023-09-01T16:51:41.537370",
          "status": "completed"
        },
        "tags": []
      },
      "source": [
        "## Theoretical Background"
      ]
    },
    {
      "cell_type": "markdown",
      "id": "3d4d4a4c",
      "metadata": {
        "papermill": {
          "duration": 0.011191,
          "end_time": "2023-09-01T16:51:41.570434",
          "exception": false,
          "start_time": "2023-09-01T16:51:41.559243",
          "status": "completed"
        },
        "tags": []
      },
      "source": [
        "The core of the KLU algorithm is supported by `klujax`, which internally uses the Suitesparse libraries to solve the sparse system `Ax = b`, in which A is a sparse matrix."
      ]
    },
    {
      "cell_type": "markdown",
      "id": "a1985f58",
      "metadata": {
        "papermill": {
          "duration": 0.010875,
          "end_time": "2023-09-01T16:51:41.592232",
          "exception": false,
          "start_time": "2023-09-01T16:51:41.581357",
          "status": "completed"
        },
        "tags": []
      },
      "source": [
        "Now it only comes down to shoehorn our circuit evaluation into a sparse linear system of equations $Ax=b$ where we need to solve for $x$ using `klujax`. \n",
        "Consider the block diagonal matrix $S_{bd}$ of all components in the circuit acting on the fields $x_{in}$ at each of the individual ports of each of the component integrated in $S^{bd}$. The output fields $x^{out}$ at each of those ports is then given by:\n",
        "\n",
        "$$\n",
        "x^{out} = S_{bd} x^{in}\n",
        "$$"
      ]
    },
    {
      "cell_type": "markdown",
      "id": "9c26c04a",
      "metadata": {
        "papermill": {
          "duration": 0.011,
          "end_time": "2023-09-01T16:51:41.614246",
          "exception": false,
          "start_time": "2023-09-01T16:51:41.603246",
          "status": "completed"
        },
        "tags": []
      },
      "source": [
        "However, $S_{bd}$ is not the S-matrix of the circuit as it does not encode any connectivity *between* the components. Connecting two component ports basically comes down to enforcing equality between the output fields at one port of a component with the input fields at another port of another (or maybe even the same) component. This equality can be enforced by creating an internal connection matrix, connecting all internal ports of the circuit:\n",
        "\n",
        "$$\n",
        "x^{in} = C_{int} x^{out}\n",
        "$$"
      ]
    },
    {
      "cell_type": "markdown",
      "id": "16b3fdad",
      "metadata": {
        "papermill": {
          "duration": 0.010849,
          "end_time": "2023-09-01T16:51:41.635945",
          "exception": false,
          "start_time": "2023-09-01T16:51:41.625096",
          "status": "completed"
        },
        "tags": []
      },
      "source": [
        "We can thus write the following combined equation:\n",
        "\n",
        "$$\n",
        "x^{in} = C_{int} S_{bd} x^{in}\n",
        "$$"
      ]
    },
    {
      "cell_type": "markdown",
      "id": "f5ceb9a2",
      "metadata": {
        "papermill": {
          "duration": 0.010906,
          "end_time": "2023-09-01T16:51:41.657817",
          "exception": false,
          "start_time": "2023-09-01T16:51:41.646911",
          "status": "completed"
        },
        "tags": []
      },
      "source": [
        "But this is not the complete story... Some component ports will *not* be *interconnected* with other ports: they will become the new *external ports* (or output ports) of the combined circuit. We can include those external ports into the above equation as follows:\n",
        "\n",
        "$$\n",
        "\\begin{pmatrix} x^{in} \\\\ x^{out}_{ext} \\end{pmatrix} = \\begin{pmatrix} C_{int} & C_{ext} \\\\ C_{ext}^T & 0 \\end{pmatrix} \\begin{pmatrix} S_{bd} x^{in} \\\\ x_{ext}^{in} \\end{pmatrix} \n",
        "$$"
      ]
    },
    {
      "cell_type": "markdown",
      "id": "6382a242",
      "metadata": {
        "papermill": {
          "duration": 0.011022,
          "end_time": "2023-09-01T16:51:41.679763",
          "exception": false,
          "start_time": "2023-09-01T16:51:41.668741",
          "status": "completed"
        },
        "tags": []
      },
      "source": [
        "Note that $C_{ext}$ is obviously **not** a square matrix. Eliminating $x^{in}$ from the equation above finally yields:\n",
        "\n",
        "$$\n",
        "x^{out}_{ext} = C^T_{ext} S_{bd} (\\mathbb{1} - C_{int}S_{bd})^{-1} C_{ext}x_{ext}^{in}\n",
        "$$"
      ]
    },
    {
      "cell_type": "markdown",
      "id": "5f15bdcd",
      "metadata": {
        "papermill": {
          "duration": 0.010995,
          "end_time": "2023-09-01T16:51:41.701778",
          "exception": false,
          "start_time": "2023-09-01T16:51:41.690783",
          "status": "completed"
        },
        "tags": []
      },
      "source": [
        "We basically found a representation of the circuit S-matrix:\n",
        "\n",
        "$$\n",
        "S = C^T_{ext} S_{bd} (\\mathbb{1} - C_{int}S_{bd})^{-1} C_{ext}\n",
        "$$"
      ]
    },
    {
      "cell_type": "markdown",
      "id": "40ad83b8",
      "metadata": {
        "papermill": {
          "duration": 0.011068,
          "end_time": "2023-09-01T16:51:41.723936",
          "exception": false,
          "start_time": "2023-09-01T16:51:41.712868",
          "status": "completed"
        },
        "tags": []
      },
      "source": [
        "Obviously, we won't want to calculate the inverse $(\\mathbb{1} - C_{int}S_{bd})^{-1}$, which is the inverse of a very sparse matrix (a connection matrix only has a single 1 per line), which very often is not even sparse itself. In stead we'll use the `solve_klu` function:\n",
        "\n",
        "$$\n",
        "S = C^T_{ext} S_{bd} \\texttt{solve}\\_\\texttt{klu}\\left((\\mathbb{1} - C_{int}S_{bd}), C_{ext}\\right)\n",
        "$$"
      ]
    },
    {
      "cell_type": "markdown",
      "id": "018fab3d",
      "metadata": {
        "papermill": {
          "duration": 0.010836,
          "end_time": "2023-09-01T16:51:41.745687",
          "exception": false,
          "start_time": "2023-09-01T16:51:41.734851",
          "status": "completed"
        },
        "tags": []
      },
      "source": [
        "Moreover, $C_{ext}^TS_{bd}$ is also a sparse matrix, therefore we'll also need a `mul_coo` routine:\n",
        "\n",
        "$$\n",
        "S = C^T_{ext} \\texttt{mul}\\_\\texttt{coo}\\left(S_{bd},~~\\texttt{solve}\\_\\texttt{klu}\\left((\\mathbb{1} - C_{int}S_{bd}),~C_{ext}\\right)\\right)\n",
        "$$"
      ]
    },
    {
      "cell_type": "markdown",
      "id": "d9b78852",
      "metadata": {
        "papermill": {
          "duration": 0.01094,
          "end_time": "2023-09-01T16:51:41.767547",
          "exception": false,
          "start_time": "2023-09-01T16:51:41.756607",
          "status": "completed"
        },
        "tags": []
      },
      "source": [
        "## Sparse Helper Functions"
      ]
    },
    {
      "cell_type": "code",
      "execution_count": 4,
      "id": "2ce48c01f3945316",
      "metadata": {
        "execution": {
          "iopub.execute_input": "2023-09-01T16:51:41.790948Z",
          "iopub.status.busy": "2023-09-01T16:51:41.790437Z",
          "iopub.status.idle": "2023-09-01T16:51:41.797719Z",
          "shell.execute_reply": "2023-09-01T16:51:41.797382Z"
        },
        "papermill": {
          "duration": 0.020371,
          "end_time": "2023-09-01T16:51:41.798860",
          "exception": false,
          "start_time": "2023-09-01T16:51:41.778489",
          "status": "completed"
        },
        "tags": [
          "remove-input"
        ]
      },
      "outputs": [
        {
          "data": {
            "text/markdown": [
              "<h4 id=\"klujax.solve\" class=\"doc_header\"><code>klujax.solve</code><a href=\"klujax.py#L97\" class=\"source_link\" style=\"float:right\">[source]</a></h4>\n",
              "\n",
              "> <code>klujax.solve</code>(**`Ai`**, **`Aj`**, **`Ax`**, **`b`**)\n",
              "\n"
            ],
            "text/plain": [
              "<IPython.core.display.Markdown object>"
            ]
          },
          "metadata": {},
          "output_type": "display_data"
        }
      ],
      "source": [
        "show_doc(klujax.solve, doc_string=False, name=\"klujax.solve\")"
      ]
    },
    {
      "cell_type": "markdown",
      "id": "01299d5d",
      "metadata": {
        "papermill": {
          "duration": 0.011118,
          "end_time": "2023-09-01T16:51:41.821272",
          "exception": false,
          "start_time": "2023-09-01T16:51:41.810154",
          "status": "completed"
        },
        "tags": []
      },
      "source": [
        "`klujax.solve` solves the sparse system of equations `Ax=b` for `x`. Where `A` is represented by in [COO-format](https://en.wikipedia.org/wiki/Sparse_matrix#Coordinate_list_(COO)) as (`Ai`, `Aj`, `Ax`).\n",
        "\n",
        "> Example"
      ]
    },
    {
      "cell_type": "code",
      "execution_count": 5,
      "id": "63e7977a",
      "metadata": {
        "execution": {
          "iopub.execute_input": "2023-09-01T16:51:41.845451Z",
          "iopub.status.busy": "2023-09-01T16:51:41.844880Z",
          "iopub.status.idle": "2023-09-01T16:51:41.970058Z",
          "shell.execute_reply": "2023-09-01T16:51:41.969626Z"
        },
        "papermill": {
          "duration": 0.138704,
          "end_time": "2023-09-01T16:51:41.971223",
          "exception": false,
          "start_time": "2023-09-01T16:51:41.832519",
          "status": "completed"
        },
        "tags": []
      },
      "outputs": [
        {
          "data": {
            "text/plain": [
              "Array([6. , 1. , 0.5, 0.5, 2. ], dtype=float64)"
            ]
          },
          "execution_count": 5,
          "metadata": {},
          "output_type": "execute_result"
        }
      ],
      "source": [
        "Ai = jnp.array([0, 1, 2, 3, 4])\n",
        "Aj = jnp.array([1, 3, 4, 0, 2])\n",
        "Ax = jnp.array([5, 6, 1, 1, 2])\n",
        "b = jnp.array([5, 3, 2, 6, 1])\n",
        "x = klujax.solve(Ai, Aj, Ax, b)\n",
        "x"
      ]
    },
    {
      "cell_type": "markdown",
      "id": "3233b04c",
      "metadata": {
        "papermill": {
          "duration": 0.011291,
          "end_time": "2023-09-01T16:51:41.993922",
          "exception": false,
          "start_time": "2023-09-01T16:51:41.982631",
          "status": "completed"
        },
        "tags": []
      },
      "source": [
        "This result is indeed correct:"
      ]
    },
    {
      "cell_type": "code",
      "execution_count": 6,
      "id": "629bbc71",
      "metadata": {
        "execution": {
          "iopub.execute_input": "2023-09-01T16:51:42.017732Z",
          "iopub.status.busy": "2023-09-01T16:51:42.017252Z",
          "iopub.status.idle": "2023-09-01T16:51:42.175680Z",
          "shell.execute_reply": "2023-09-01T16:51:42.175300Z"
        },
        "papermill": {
          "duration": 0.171732,
          "end_time": "2023-09-01T16:51:42.176797",
          "exception": false,
          "start_time": "2023-09-01T16:51:42.005065",
          "status": "completed"
        },
        "tags": []
      },
      "outputs": [
        {
          "name": "stdout",
          "output_type": "stream",
          "text": [
            "[[0. 5. 0. 0. 0.]\n",
            " [0. 0. 0. 6. 0.]\n",
            " [0. 0. 0. 0. 1.]\n",
            " [1. 0. 0. 0. 0.]\n",
            " [0. 0. 2. 0. 0.]]\n",
            "[5. 3. 2. 6. 1.]\n"
          ]
        }
      ],
      "source": [
        "A = jnp.zeros((5, 5)).at[Ai, Aj].set(Ax)\n",
        "print(A)\n",
        "print(A@x)"
      ]
    },
    {
      "cell_type": "markdown",
      "id": "c7fe6547",
      "metadata": {
        "papermill": {
          "duration": 0.011316,
          "end_time": "2023-09-01T16:51:42.199747",
          "exception": false,
          "start_time": "2023-09-01T16:51:42.188431",
          "status": "completed"
        },
        "tags": []
      },
      "source": [
        "However, to use this function effectively, we probably need an extra dimension for `Ax`. Indeed, we would like to solve this equation for multiple wavelengths (or more general, for multiple circuit configurations) at once. For this we can use `jax.vmap` to expose `klujax.solve` to more dimensions for `Ax`:"
      ]
    },
    {
      "cell_type": "code",
      "execution_count": 7,
      "id": "ab27f7d19ebad6cd",
      "metadata": {
        "execution": {
          "iopub.execute_input": "2023-09-01T16:51:42.224156Z",
          "iopub.status.busy": "2023-09-01T16:51:42.223713Z",
          "iopub.status.idle": "2023-09-01T16:51:42.226486Z",
          "shell.execute_reply": "2023-09-01T16:51:42.226110Z"
        },
        "papermill": {
          "duration": 0.016524,
          "end_time": "2023-09-01T16:51:42.227687",
          "exception": false,
          "start_time": "2023-09-01T16:51:42.211163",
          "status": "completed"
        },
        "tags": []
      },
      "outputs": [],
      "source": [
        "solve_klu = jax.vmap(klujax.solve, (None, None, 0, None), 0)"
      ]
    },
    {
      "cell_type": "code",
      "execution_count": 8,
      "id": "b8f671f1ad36a913",
      "metadata": {
        "execution": {
          "iopub.execute_input": "2023-09-01T16:51:42.251822Z",
          "iopub.status.busy": "2023-09-01T16:51:42.251363Z",
          "iopub.status.idle": "2023-09-01T16:51:42.260964Z",
          "shell.execute_reply": "2023-09-01T16:51:42.260485Z"
        },
        "papermill": {
          "duration": 0.023109,
          "end_time": "2023-09-01T16:51:42.262170",
          "exception": false,
          "start_time": "2023-09-01T16:51:42.239061",
          "status": "completed"
        },
        "tags": [
          "remove-input"
        ]
      },
      "outputs": [
        {
          "data": {
            "text/markdown": [
              "<h4 id=\"solve_klu\" class=\"doc_header\"><code>solve_klu</code><a href=\"klujax.py#L97\" class=\"source_link\" style=\"float:right\">[source]</a></h4>\n",
              "\n",
              "> <code>solve_klu</code>(**`Ai`**, **`Aj`**, **`Ax`**, **`b`**)\n",
              "\n",
              "\n",
              "\n",
              "||Type|Default|Details|\n",
              "|---|---|---|---|\n",
              "|**`Ai`**|||*No Content*|\n",
              "|**`Aj`**|||*No Content*|\n",
              "|**`Ax`**|||*No Content*|\n",
              "|**`b`**|||jitting by default allows for empty implementation definitions|\n"
            ],
            "text/plain": [
              "<IPython.core.display.Markdown object>"
            ]
          },
          "metadata": {},
          "output_type": "display_data"
        }
      ],
      "source": [
        "show_doc(solve_klu, doc_string=False, name=\"solve_klu\")"
      ]
    },
    {
      "cell_type": "markdown",
      "id": "6707049d",
      "metadata": {
        "papermill": {
          "duration": 0.011595,
          "end_time": "2023-09-01T16:51:42.285520",
          "exception": false,
          "start_time": "2023-09-01T16:51:42.273925",
          "status": "completed"
        },
        "tags": []
      },
      "source": [
        "Let's now redefine `Ax` and see what it gives:"
      ]
    },
    {
      "cell_type": "code",
      "execution_count": 9,
      "id": "d4d7b6f9",
      "metadata": {
        "execution": {
          "iopub.execute_input": "2023-09-01T16:51:42.309783Z",
          "iopub.status.busy": "2023-09-01T16:51:42.309320Z",
          "iopub.status.idle": "2023-09-01T16:51:42.349073Z",
          "shell.execute_reply": "2023-09-01T16:51:42.348688Z"
        },
        "papermill": {
          "duration": 0.053245,
          "end_time": "2023-09-01T16:51:42.350245",
          "exception": false,
          "start_time": "2023-09-01T16:51:42.297000",
          "status": "completed"
        },
        "tags": []
      },
      "outputs": [
        {
          "data": {
            "text/plain": [
              "Array([[6.        , 1.        , 0.5       , 0.5       , 2.        ],\n",
              "       [3.        , 1.        , 1.        , 0.75      , 0.66666667],\n",
              "       [1.5       , 5.        , 0.2       , 1.5       , 0.66666667]],      dtype=float64)"
            ]
          },
          "execution_count": 9,
          "metadata": {},
          "output_type": "execute_result"
        }
      ],
      "source": [
        "Ai = jnp.array([0, 1, 2, 3, 4])\n",
        "Aj = jnp.array([1, 3, 4, 0, 2])\n",
        "Ax = jnp.array([[5, 6, 1, 1, 2], [5, 4, 3, 2, 1], [1, 2, 3, 4, 5]])\n",
        "b = jnp.array([5, 3, 2, 6, 1])\n",
        "x = solve_klu(Ai, Aj, Ax, b)\n",
        "x"
      ]
    },
    {
      "cell_type": "markdown",
      "id": "5f342c6f",
      "metadata": {
        "papermill": {
          "duration": 0.011729,
          "end_time": "2023-09-01T16:51:42.374113",
          "exception": false,
          "start_time": "2023-09-01T16:51:42.362384",
          "status": "completed"
        },
        "tags": []
      },
      "source": [
        "This result is indeed correct:"
      ]
    },
    {
      "cell_type": "code",
      "execution_count": 10,
      "id": "0afefaa6",
      "metadata": {
        "execution": {
          "iopub.execute_input": "2023-09-01T16:51:42.398664Z",
          "iopub.status.busy": "2023-09-01T16:51:42.398188Z",
          "iopub.status.idle": "2023-09-01T16:51:42.497014Z",
          "shell.execute_reply": "2023-09-01T16:51:42.496540Z"
        },
        "papermill": {
          "duration": 0.112541,
          "end_time": "2023-09-01T16:51:42.498259",
          "exception": false,
          "start_time": "2023-09-01T16:51:42.385718",
          "status": "completed"
        },
        "tags": []
      },
      "outputs": [
        {
          "data": {
            "text/plain": [
              "Array([[5., 3., 2., 6., 1.],\n",
              "       [5., 3., 2., 6., 1.],\n",
              "       [5., 3., 2., 6., 1.]], dtype=float64)"
            ]
          },
          "execution_count": 10,
          "metadata": {},
          "output_type": "execute_result"
        }
      ],
      "source": [
        "A = jnp.zeros((3, 5, 5)).at[:, Ai, Aj].set(Ax)\n",
        "jnp.einsum(\"ijk,ik->ij\", A, x)"
      ]
    },
    {
      "cell_type": "markdown",
      "id": "7ed8f62d",
      "metadata": {
        "papermill": {
          "duration": 0.011804,
          "end_time": "2023-09-01T16:51:42.522101",
          "exception": false,
          "start_time": "2023-09-01T16:51:42.510297",
          "status": "completed"
        },
        "tags": []
      },
      "source": [
        "Additionally, we need a way to multiply a sparse COO-matrix with a dense vector. This can be done with `klujax.coo_mul_vec`:"
      ]
    },
    {
      "cell_type": "code",
      "execution_count": 11,
      "id": "d8d40f6c8465d40a",
      "metadata": {
        "execution": {
          "iopub.execute_input": "2023-09-01T16:51:42.547887Z",
          "iopub.status.busy": "2023-09-01T16:51:42.547063Z",
          "iopub.status.idle": "2023-09-01T16:51:42.551486Z",
          "shell.execute_reply": "2023-09-01T16:51:42.551153Z"
        },
        "papermill": {
          "duration": 0.018511,
          "end_time": "2023-09-01T16:51:42.552550",
          "exception": false,
          "start_time": "2023-09-01T16:51:42.534039",
          "status": "completed"
        },
        "tags": [
          "remove-input"
        ]
      },
      "outputs": [
        {
          "data": {
            "text/markdown": [
              "<h4 id=\"klujax.coo_mul_vec\" class=\"doc_header\"><code>klujax.coo_mul_vec</code><a href=\"klujax.py#L116\" class=\"source_link\" style=\"float:right\">[source]</a></h4>\n",
              "\n",
              "> <code>klujax.coo_mul_vec</code>(**`Ai`**, **`Aj`**, **`Ax`**, **`b`**)\n",
              "\n"
            ],
            "text/plain": [
              "<IPython.core.display.Markdown object>"
            ]
          },
          "metadata": {},
          "output_type": "display_data"
        }
      ],
      "source": [
        "\n",
        "show_doc(klujax.coo_mul_vec, doc_string=False, name=\"klujax.coo_mul_vec\")"
      ]
    },
    {
      "cell_type": "markdown",
      "id": "7f57c443",
      "metadata": {
        "papermill": {
          "duration": 0.011836,
          "end_time": "2023-09-01T16:51:42.576422",
          "exception": false,
          "start_time": "2023-09-01T16:51:42.564586",
          "status": "completed"
        },
        "tags": []
      },
      "source": [
        "However, it's useful to allow a batch dimension, this time *both* in `Ax` and in `b`:"
      ]
    },
    {
      "cell_type": "code",
      "execution_count": 12,
      "id": "260fc9ba40945ce2",
      "metadata": {
        "execution": {
          "iopub.execute_input": "2023-09-01T16:51:42.601599Z",
          "iopub.status.busy": "2023-09-01T16:51:42.601041Z",
          "iopub.status.idle": "2023-09-01T16:51:42.603935Z",
          "shell.execute_reply": "2023-09-01T16:51:42.603613Z"
        },
        "papermill": {
          "duration": 0.016705,
          "end_time": "2023-09-01T16:51:42.604956",
          "exception": false,
          "start_time": "2023-09-01T16:51:42.588251",
          "status": "completed"
        },
        "tags": []
      },
      "outputs": [],
      "source": [
        "mul_coo = None \n",
        "mul_coo = jax.vmap(klujax.coo_mul_vec, (None, None, 0, 0), 0)"
      ]
    },
    {
      "cell_type": "code",
      "execution_count": 13,
      "id": "e81deedaf232a6d7",
      "metadata": {
        "execution": {
          "iopub.execute_input": "2023-09-01T16:51:42.629941Z",
          "iopub.status.busy": "2023-09-01T16:51:42.629436Z",
          "iopub.status.idle": "2023-09-01T16:51:42.638884Z",
          "shell.execute_reply": "2023-09-01T16:51:42.638434Z"
        },
        "papermill": {
          "duration": 0.023132,
          "end_time": "2023-09-01T16:51:42.640076",
          "exception": false,
          "start_time": "2023-09-01T16:51:42.616944",
          "status": "completed"
        },
        "tags": [
          "remove-input"
        ]
      },
      "outputs": [
        {
          "data": {
            "text/markdown": [
              "<h4 id=\"mul_coo\" class=\"doc_header\"><code>mul_coo</code><a href=\"klujax.py#L116\" class=\"source_link\" style=\"float:right\">[source]</a></h4>\n",
              "\n",
              "> <code>mul_coo</code>(**`Ai`**, **`Aj`**, **`Ax`**, **`b`**)\n",
              "\n",
              "\n",
              "\n",
              "||Type|Default|Details|\n",
              "|---|---|---|---|\n",
              "|**`Ai`**|||*No Content*|\n",
              "|**`Aj`**|||*No Content*|\n",
              "|**`Ax`**|||*No Content*|\n",
              "|**`b`**|||jitting by default allows for empty implementation definitions|\n"
            ],
            "text/plain": [
              "<IPython.core.display.Markdown object>"
            ]
          },
          "metadata": {},
          "output_type": "display_data"
        }
      ],
      "source": [
        "show_doc(mul_coo, doc_string=False, name=\"mul_coo\")"
      ]
    },
    {
      "cell_type": "markdown",
      "id": "d26cc3d9",
      "metadata": {
        "papermill": {
          "duration": 0.012231,
          "end_time": "2023-09-01T16:51:42.664554",
          "exception": false,
          "start_time": "2023-09-01T16:51:42.652323",
          "status": "completed"
        },
        "tags": []
      },
      "source": [
        "Let's confirm this does the right thing:"
      ]
    },
    {
      "cell_type": "code",
      "execution_count": 14,
      "id": "bd868973",
      "metadata": {
        "execution": {
          "iopub.execute_input": "2023-09-01T16:51:42.689896Z",
          "iopub.status.busy": "2023-09-01T16:51:42.689431Z",
          "iopub.status.idle": "2023-09-01T16:51:42.722743Z",
          "shell.execute_reply": "2023-09-01T16:51:42.722329Z"
        },
        "papermill": {
          "duration": 0.04741,
          "end_time": "2023-09-01T16:51:42.723922",
          "exception": false,
          "start_time": "2023-09-01T16:51:42.676512",
          "status": "completed"
        },
        "tags": []
      },
      "outputs": [
        {
          "data": {
            "text/plain": [
              "Array([[5., 3., 2., 6., 1.],\n",
              "       [5., 3., 2., 6., 1.],\n",
              "       [5., 3., 2., 6., 1.]], dtype=float64)"
            ]
          },
          "execution_count": 14,
          "metadata": {},
          "output_type": "execute_result"
        }
      ],
      "source": [
        "result = mul_coo(Ai, Aj, Ax, x)\n",
        "result"
      ]
    },
    {
      "cell_type": "markdown",
      "id": "7729408c-7977-49b4-8be5-b3a8be6cc1ed",
      "metadata": {
        "papermill": {
          "duration": 0.012253,
          "end_time": "2023-09-01T16:51:42.748584",
          "exception": false,
          "start_time": "2023-09-01T16:51:42.736331",
          "status": "completed"
        },
        "tags": []
      },
      "source": [
        "## Circuit Analyzation"
      ]
    },
    {
      "cell_type": "code",
      "execution_count": 15,
      "id": "665c856d",
      "metadata": {
        "execution": {
          "iopub.execute_input": "2023-09-01T16:51:42.774665Z",
          "iopub.status.busy": "2023-09-01T16:51:42.774082Z",
          "iopub.status.idle": "2023-09-01T16:51:42.780528Z",
          "shell.execute_reply": "2023-09-01T16:51:42.780117Z"
        },
        "papermill": {
          "duration": 0.020816,
          "end_time": "2023-09-01T16:51:42.781724",
          "exception": false,
          "start_time": "2023-09-01T16:51:42.760908",
          "status": "completed"
        },
        "tags": []
      },
      "outputs": [],
      "source": [
        "wg_sdict: SDict = {\n",
        "    (\"in0\", \"out0\"): 0.5 + 0.86603j,\n",
        "    (\"out0\", \"in0\"): 0.5 + 0.86603j,\n",
        "}\n",
        "\n",
        "\u03c4, \u03ba = 0.5 ** 0.5, 1j * 0.5 ** 0.5\n",
        "dc_sdense: SDense = (\n",
        "    jnp.array([[0, 0, \u03c4, \u03ba], \n",
        "               [0, 0, \u03ba, \u03c4], \n",
        "               [\u03c4, \u03ba, 0, 0], \n",
        "               [\u03ba, \u03c4, 0, 0]]),\n",
        "    {\"out0\": 0, \"out1\": 1, \"in0\": 2, \"in1\": 3},\n",
        ")\n",
        "\n",
        "instances={\n",
        "    \"dc1\": dc_sdense,\n",
        "    \"wg\": wg_sdict,\n",
        "    \"dc2\": dc_sdense,\n",
        "}\n",
        "connections={\n",
        "    \"dc1,out0\": \"wg,in0\",\n",
        "    \"wg,out0\": \"dc2,in0\",\n",
        "    \"dc1,out1\": \"dc2,in1\",\n",
        "}\n",
        "ports={\n",
        "    \"in0\": \"dc1,in0\",\n",
        "    \"in1\": \"dc1,in1\",\n",
        "    \"out0\": \"dc2,out0\",\n",
        "    \"out1\": \"dc2,out1\",\n",
        "}"
      ]
    },
    {
      "cell_type": "markdown",
      "id": "3f6e1234d8cc6a61",
      "metadata": {},
      "source": [
        ":::{eval-rst}\n",
        ".. autofunction:: sax.backends.klu.get_instance_ports\n",
        ":::\n"
      ]
    },
    {
      "cell_type": "code",
      "execution_count": 16,
      "id": "76c22e96a2c0801f",
      "metadata": {
        "execution": {
          "iopub.execute_input": "2023-09-01T16:51:42.807297Z",
          "iopub.status.busy": "2023-09-01T16:51:42.806802Z",
          "iopub.status.idle": "2023-09-01T16:51:42.810874Z",
          "shell.execute_reply": "2023-09-01T16:51:42.810531Z"
        },
        "papermill": {
          "duration": 0.018167,
          "end_time": "2023-09-01T16:51:42.812059",
          "exception": false,
          "start_time": "2023-09-01T16:51:42.793892",
          "status": "completed"
        },
        "tags": [
          "hide-input"
        ]
      },
      "outputs": [],
      "source": [
        "def get_instance_ports(connections, ports):\n",
        "    instance_ports = {}\n",
        "    for connection in connections.items():\n",
        "        for ip in connection:\n",
        "            i, p = ip.split(\",\")\n",
        "            if not i in instance_ports:\n",
        "                instance_ports[i] = set()\n",
        "            instance_ports[i].add(p)\n",
        "    for ip in ports.values():\n",
        "        i, p = ip.split(\",\")\n",
        "        if not i in instance_ports:\n",
        "            instance_ports[i] = set()\n",
        "        instance_ports[i].add(p)\n",
        "    return {k: natsorted(v) for k, v in instance_ports.items()}"
      ]
    },
    {
      "cell_type": "markdown",
      "id": "a5f8f624b6451339",
      "metadata": {},
      "source": [
        ":::{eval-rst}\n",
        ".. autofunction:: sax.backends.klu.get_dummy_instances\n",
        ":::\n"
      ]
    },
    {
      "cell_type": "code",
      "execution_count": 17,
      "id": "d2ca83d32fc4f3ed",
      "metadata": {
        "execution": {
          "iopub.execute_input": "2023-09-01T16:51:42.837792Z",
          "iopub.status.busy": "2023-09-01T16:51:42.837258Z",
          "iopub.status.idle": "2023-09-01T16:51:42.841097Z",
          "shell.execute_reply": "2023-09-01T16:51:42.840665Z"
        },
        "papermill": {
          "duration": 0.017951,
          "end_time": "2023-09-01T16:51:42.842227",
          "exception": false,
          "start_time": "2023-09-01T16:51:42.824276",
          "status": "completed"
        },
        "tags": [
          "hide-input"
        ]
      },
      "outputs": [],
      "source": [
        "def get_dummy_instances(connections, ports):\n",
        "    instance_ports = get_instance_ports(connections, ports)\n",
        "    dummy_instances = {}\n",
        "    for name, ports in instance_ports.items():\n",
        "        num_ports = len(ports)\n",
        "        pm = {p: i for i, p in enumerate(ports)}\n",
        "        S = jnp.ones((num_ports, num_ports), dtype=complex)\n",
        "        dummy_instances[name] = (S, pm)\n",
        "    return dummy_instances"
      ]
    },
    {
      "cell_type": "code",
      "execution_count": 18,
      "id": "cca73fa1-f945-4846-82e1-8c2733db5ba5",
      "metadata": {
        "execution": {
          "iopub.execute_input": "2023-09-01T16:51:42.868392Z",
          "iopub.status.busy": "2023-09-01T16:51:42.868046Z",
          "iopub.status.idle": "2023-09-01T16:51:42.902536Z",
          "shell.execute_reply": "2023-09-01T16:51:42.902084Z"
        },
        "papermill": {
          "duration": 0.04907,
          "end_time": "2023-09-01T16:51:42.903931",
          "exception": false,
          "start_time": "2023-09-01T16:51:42.854861",
          "status": "completed"
        },
        "tags": []
      },
      "outputs": [
        {
          "data": {
            "text/plain": [
              "{'dc1': (Array([[1.+0.j, 1.+0.j, 1.+0.j, 1.+0.j],\n",
              "         [1.+0.j, 1.+0.j, 1.+0.j, 1.+0.j],\n",
              "         [1.+0.j, 1.+0.j, 1.+0.j, 1.+0.j],\n",
              "         [1.+0.j, 1.+0.j, 1.+0.j, 1.+0.j]], dtype=complex128),\n",
              "  {'in0': 0, 'in1': 1, 'out0': 2, 'out1': 3}),\n",
              " 'wg': (Array([[1.+0.j, 1.+0.j],\n",
              "         [1.+0.j, 1.+0.j]], dtype=complex128),\n",
              "  {'in0': 0, 'out0': 1}),\n",
              " 'dc2': (Array([[1.+0.j, 1.+0.j, 1.+0.j, 1.+0.j],\n",
              "         [1.+0.j, 1.+0.j, 1.+0.j, 1.+0.j],\n",
              "         [1.+0.j, 1.+0.j, 1.+0.j, 1.+0.j],\n",
              "         [1.+0.j, 1.+0.j, 1.+0.j, 1.+0.j]], dtype=complex128),\n",
              "  {'in0': 0, 'in1': 1, 'out0': 2, 'out1': 3})}"
            ]
          },
          "execution_count": 18,
          "metadata": {},
          "output_type": "execute_result"
        }
      ],
      "source": [
        "get_dummy_instances(connections, ports)"
      ]
    },
    {
      "cell_type": "markdown",
      "id": "faedd13b59bf852e",
      "metadata": {},
      "source": [
        ":::{eval-rst}\n",
        ".. autofunction:: sax.backends.klu.analyze_circuit_klu\n",
        ":::\n"
      ]
    },
    {
      "cell_type": "code",
      "execution_count": 19,
      "id": "ffcfc701b8fdb758",
      "metadata": {
        "execution": {
          "iopub.execute_input": "2023-09-01T16:51:42.930937Z",
          "iopub.status.busy": "2023-09-01T16:51:42.930712Z",
          "iopub.status.idle": "2023-09-01T16:51:42.939517Z",
          "shell.execute_reply": "2023-09-01T16:51:42.939078Z"
        },
        "papermill": {
          "duration": 0.02389,
          "end_time": "2023-09-01T16:51:42.940895",
          "exception": false,
          "start_time": "2023-09-01T16:51:42.917005",
          "status": "completed"
        },
        "tags": [
          "hide-input"
        ]
      },
      "outputs": [],
      "source": [
        "def analyze_circuit_klu(\n",
        "    connections: Dict[str, str],\n",
        "    ports: Dict[str, str],\n",
        "):\n",
        "    connections = {**connections, **{v: k for k, v in connections.items()}}\n",
        "    instances = get_dummy_instances(connections, ports)\n",
        "    inverse_ports = {v: k for k, v in ports.items()}\n",
        "    port_map = {k: i for i, k in enumerate(ports)}\n",
        "\n",
        "    idx, Si, Sj, Sx, instance_ports = 0, [], [], [], {}\n",
        "    for name, instance in instances.items():\n",
        "        si, sj, sx, ports_map = scoo(instance)\n",
        "        Si.append(si + idx)\n",
        "        Sj.append(sj + idx)\n",
        "        Sx.append(sx)\n",
        "        instance_ports.update({f\"{name},{p}\": i + idx for p, i in ports_map.items()})\n",
        "        idx += len(ports_map)\n",
        "        \n",
        "    n_col = idx\n",
        "    n_rhs = len(port_map)\n",
        "    \n",
        "    Si = jnp.concatenate(Si, -1)\n",
        "    Sj = jnp.concatenate(Sj, -1)\n",
        "\n",
        "    Cmap = {int(instance_ports[k]): int(instance_ports[v]) for k, v in connections.items()} # fmt: skip\n",
        "    Ci = jnp.array(list(Cmap.keys()), dtype=jnp.int32)\n",
        "    Cj = jnp.array(list(Cmap.values()), dtype=jnp.int32)\n",
        "\n",
        "    Cextmap = {int(instance_ports[k]): int(port_map[v]) for k, v in inverse_ports.items()}\n",
        "    Cexti = jnp.stack(list(Cextmap.keys()), 0)\n",
        "    Cextj = jnp.stack(list(Cextmap.values()), 0)\n",
        "    Cext = jnp.zeros((n_col, n_rhs), dtype=complex).at[Cexti, Cextj].set(1.0)\n",
        "    \n",
        "    mask = Cj[None,:] == Si[:, None]\n",
        "    CSi = jnp.broadcast_to(Ci[None, :], mask.shape)[mask]\n",
        "    \n",
        "    mask = (Cj[:, None] == Si[None, :]).any(0)\n",
        "    CSj = Sj[mask]\n",
        "    \n",
        "    Ii = Ij = jnp.arange(n_col)\n",
        "    I_CSi = jnp.concatenate([CSi, Ii], -1)\n",
        "    I_CSj = jnp.concatenate([CSj, Ij], -1)\n",
        "    return n_col, mask, Si, Sj, Cext, Cexti, Cextj, I_CSi, I_CSj, tuple((k, v[1]) for k, v in instances.items()), tuple(port_map)"
      ]
    },
    {
      "cell_type": "markdown",
      "id": "8fc277a4-b258-4f44-bf61-e1aba7f64170",
      "metadata": {
        "papermill": {
          "duration": 0.012409,
          "end_time": "2023-09-01T16:51:42.965818",
          "exception": false,
          "start_time": "2023-09-01T16:51:42.953409",
          "status": "completed"
        },
        "tags": []
      },
      "source": [
        "## Circuit Evaluation"
      ]
    },
    {
      "cell_type": "markdown",
      "id": "68548888181089c6",
      "metadata": {},
      "source": [
        ":::{eval-rst}\n",
        ".. autofunction:: sax.backends.klu.evaluate_circuit_klu\n",
        ":::\n"
      ]
    },
    {
      "cell_type": "code",
      "execution_count": 20,
      "id": "936b52064ab354a4",
      "metadata": {
        "execution": {
          "iopub.execute_input": "2023-09-01T16:51:42.992006Z",
          "iopub.status.busy": "2023-09-01T16:51:42.991458Z",
          "iopub.status.idle": "2023-09-01T16:51:42.998396Z",
          "shell.execute_reply": "2023-09-01T16:51:42.998007Z"
        },
        "papermill": {
          "duration": 0.021415,
          "end_time": "2023-09-01T16:51:42.999566",
          "exception": false,
          "start_time": "2023-09-01T16:51:42.978151",
          "status": "completed"
        },
        "tags": [
          "hide-input"
        ]
      },
      "outputs": [],
      "source": [
        "def evaluate_circuit_klu(analyzed, instances):\n",
        "    n_col, mask, Si, Sj, Cext, Cexti, Cextj, I_CSi, I_CSj, dummy_pms, port_map = analyzed\n",
        "    \n",
        "    idx = 0\n",
        "    Sx = []\n",
        "    batch_shape = ()\n",
        "    for name, pm_ in dummy_pms:\n",
        "        S, pm = sdense(instances[name])\n",
        "        perm = [pm[k] for k in pm_]\n",
        "        S = S[..., perm, :][..., :, perm]\n",
        "        _, _, sx, ports_map = scoo((S, pm_))\n",
        "        Sx.append(sx)\n",
        "        if len(sx.shape[:-1]) > len(batch_shape):\n",
        "            batch_shape = sx.shape[:-1]\n",
        "        idx += len(ports_map)\n",
        "        \n",
        "    Sx = jnp.concatenate([jnp.broadcast_to(sx, (*batch_shape, sx.shape[-1])) for sx in Sx], -1) # fmt: skip\n",
        "    CSx = Sx[..., mask]\n",
        "    Ix = jnp.ones((*batch_shape, n_col))\n",
        "    I_CSx = jnp.concatenate([-CSx, Ix], -1)\n",
        "    \n",
        "    Sx = Sx.reshape(-1, Sx.shape[-1]) # n_lhs x N\n",
        "    I_CSx = I_CSx.reshape(-1, I_CSx.shape[-1]) # n_lhs x M\n",
        "    inv_I_CS_Cext = solve_klu(I_CSi, I_CSj, I_CSx, Cext)\n",
        "    S_inv_I_CS_Cext = mul_coo(Si, Sj, Sx, inv_I_CS_Cext)\n",
        "    \n",
        "    CextT_S_inv_I_CS_Cext = S_inv_I_CS_Cext[..., Cexti, :][..., :, Cextj]\n",
        "    \n",
        "    _, n, _ = CextT_S_inv_I_CS_Cext.shape\n",
        "    S = CextT_S_inv_I_CS_Cext.reshape(*batch_shape, n, n)\n",
        "\n",
        "    return S, {p: i for i, p in enumerate(port_map)}"
      ]
    },
    {
      "cell_type": "markdown",
      "id": "dce9d8ca",
      "metadata": {
        "papermill": {
          "duration": 0.012484,
          "end_time": "2023-09-01T16:51:43.024440",
          "exception": false,
          "start_time": "2023-09-01T16:51:43.011956",
          "status": "completed"
        },
        "tags": []
      },
      "source": [
        "## Example"
      ]
    },
    {
      "cell_type": "code",
      "execution_count": 21,
      "id": "e28521dd-aa9f-463c-820d-bd87789c64e5",
      "metadata": {
        "execution": {
          "iopub.execute_input": "2023-09-01T16:51:43.051333Z",
          "iopub.status.busy": "2023-09-01T16:51:43.050680Z",
          "iopub.status.idle": "2023-09-01T16:51:44.127955Z",
          "shell.execute_reply": "2023-09-01T16:51:44.127273Z"
        },
        "papermill": {
          "duration": 1.092344,
          "end_time": "2023-09-01T16:51:44.129407",
          "exception": false,
          "start_time": "2023-09-01T16:51:43.037063",
          "status": "completed"
        },
        "tags": []
      },
      "outputs": [
        {
          "name": "stdout",
          "output_type": "stream",
          "text": [
            "[[ 0.      +0.j        0.      +0.j       -0.25    +0.433015j\n",
            "  -0.433015+0.75j    ]\n",
            " [ 0.      +0.j        0.      +0.j       -0.433015+0.75j\n",
            "   0.25    -0.433015j]\n",
            " [-0.25    +0.433015j -0.433015+0.75j      0.      +0.j\n",
            "   0.      +0.j      ]\n",
            " [-0.433015+0.75j      0.25    -0.433015j  0.      +0.j\n",
            "   0.      +0.j      ]]\n",
            "{'in0': 0, 'in1': 1, 'out0': 2, 'out1': 3}\n"
          ]
        }
      ],
      "source": [
        "preprocessed = analyze_circuit_klu(connections, ports)\n",
        "S, pm = evaluate_circuit_klu(preprocessed, instances)\n",
        "print(S)\n",
        "print(pm)"
      ]
    },
    {
      "cell_type": "markdown",
      "id": "60b6d1e6",
      "metadata": {
        "papermill": {
          "duration": 0.012428,
          "end_time": "2023-09-01T16:51:44.154575",
          "exception": false,
          "start_time": "2023-09-01T16:51:44.142147",
          "status": "completed"
        },
        "tags": []
      },
      "source": [
        "the KLU backend yields `SDense` results by default:"
      ]
    },
    {
      "cell_type": "code",
      "execution_count": 22,
      "id": "ecc3115e",
      "metadata": {
        "execution": {
          "iopub.execute_input": "2023-09-01T16:51:44.180869Z",
          "iopub.status.busy": "2023-09-01T16:51:44.180396Z",
          "iopub.status.idle": "2023-09-01T16:51:44.184504Z",
          "shell.execute_reply": "2023-09-01T16:51:44.184174Z"
        },
        "papermill": {
          "duration": 0.018494,
          "end_time": "2023-09-01T16:51:44.185526",
          "exception": false,
          "start_time": "2023-09-01T16:51:44.167032",
          "status": "completed"
        },
        "tags": []
      },
      "outputs": [
        {
          "data": {
            "text/plain": [
              "(Array([[ 0.      +0.j      ,  0.      +0.j      , -0.25    +0.433015j,\n",
              "         -0.433015+0.75j    ],\n",
              "        [ 0.      +0.j      ,  0.      +0.j      , -0.433015+0.75j    ,\n",
              "          0.25    -0.433015j],\n",
              "        [-0.25    +0.433015j, -0.433015+0.75j    ,  0.      +0.j      ,\n",
              "          0.      +0.j      ],\n",
              "        [-0.433015+0.75j    ,  0.25    -0.433015j,  0.      +0.j      ,\n",
              "          0.      +0.j      ]], dtype=complex128),\n",
              " {'in0': 0, 'in1': 1, 'out0': 2, 'out1': 3})"
            ]
          },
          "execution_count": 22,
          "metadata": {},
          "output_type": "execute_result"
        }
      ],
      "source": [
        "mzi_sdense = (S, pm)\n",
        "mzi_sdense"
      ]
    },
    {
      "cell_type": "markdown",
      "id": "4b8e87f3",
      "metadata": {
        "papermill": {
          "duration": 0.012721,
          "end_time": "2023-09-01T16:51:44.211011",
          "exception": false,
          "start_time": "2023-09-01T16:51:44.198290",
          "status": "completed"
        },
        "tags": []
      },
      "source": [
        "An `SDense` is returned for perfomance reasons. By returning an `SDense` by default we prevent any internal `SDict -> SDense` conversions in deeply hierarchical circuits. It's however very easy to convert `SDense` to `SDict` as a final step. To do this, wrap the result (or the function generating the result) with `sdict`:"
      ]
    },
    {
      "cell_type": "code",
      "execution_count": 23,
      "id": "7202ab1e",
      "metadata": {
        "execution": {
          "iopub.execute_input": "2023-09-01T16:51:44.237688Z",
          "iopub.status.busy": "2023-09-01T16:51:44.237101Z",
          "iopub.status.idle": "2023-09-01T16:51:44.290935Z",
          "shell.execute_reply": "2023-09-01T16:51:44.290545Z"
        },
        "papermill": {
          "duration": 0.06853,
          "end_time": "2023-09-01T16:51:44.292121",
          "exception": false,
          "start_time": "2023-09-01T16:51:44.223591",
          "status": "completed"
        },
        "tags": []
      },
      "outputs": [
        {
          "data": {
            "text/plain": [
              "{('in0', 'in0'): Array(0.+0.j, dtype=complex128),\n",
              " ('in0', 'in1'): Array(0.+0.j, dtype=complex128),\n",
              " ('in0', 'out0'): Array(-0.25+0.433015j, dtype=complex128),\n",
              " ('in0', 'out1'): Array(-0.433015+0.75j, dtype=complex128),\n",
              " ('in1', 'in0'): Array(0.+0.j, dtype=complex128),\n",
              " ('in1', 'in1'): Array(0.+0.j, dtype=complex128),\n",
              " ('in1', 'out0'): Array(-0.433015+0.75j, dtype=complex128),\n",
              " ('in1', 'out1'): Array(0.25-0.433015j, dtype=complex128),\n",
              " ('out0', 'in0'): Array(-0.25+0.433015j, dtype=complex128),\n",
              " ('out0', 'in1'): Array(-0.433015+0.75j, dtype=complex128),\n",
              " ('out0', 'out0'): Array(0.+0.j, dtype=complex128),\n",
              " ('out0', 'out1'): Array(0.+0.j, dtype=complex128),\n",
              " ('out1', 'in0'): Array(-0.433015+0.75j, dtype=complex128),\n",
              " ('out1', 'in1'): Array(0.25-0.433015j, dtype=complex128),\n",
              " ('out1', 'out0'): Array(0.+0.j, dtype=complex128),\n",
              " ('out1', 'out1'): Array(0.+0.j, dtype=complex128)}"
            ]
          },
          "execution_count": 23,
          "metadata": {},
          "output_type": "execute_result"
        }
      ],
      "source": [
        "sax.sdict(mzi_sdense)"
      ]
    },
    {
      "cell_type": "markdown",
      "id": "9f8cd5ea",
      "metadata": {
        "papermill": {
          "duration": 0.0129,
          "end_time": "2023-09-01T16:51:44.318037",
          "exception": false,
          "start_time": "2023-09-01T16:51:44.305137",
          "status": "completed"
        },
        "tags": []
      },
      "source": [
        "## Algorithm Walkthrough"
      ]
    },
    {
      "cell_type": "markdown",
      "id": "b5bf5188",
      "metadata": {
        "papermill": {
          "duration": 0.013102,
          "end_time": "2023-09-01T16:51:44.344322",
          "exception": false,
          "start_time": "2023-09-01T16:51:44.331220",
          "status": "completed"
        },
        "tags": []
      },
      "source": [
        "Let's first enforce $C^T = C$:"
      ]
    },
    {
      "cell_type": "code",
      "execution_count": 24,
      "id": "6d7d4c39",
      "metadata": {
        "execution": {
          "iopub.execute_input": "2023-09-01T16:51:44.371076Z",
          "iopub.status.busy": "2023-09-01T16:51:44.370610Z",
          "iopub.status.idle": "2023-09-01T16:51:44.374357Z",
          "shell.execute_reply": "2023-09-01T16:51:44.374043Z"
        },
        "papermill": {
          "duration": 0.018445,
          "end_time": "2023-09-01T16:51:44.375437",
          "exception": false,
          "start_time": "2023-09-01T16:51:44.356992",
          "status": "completed"
        },
        "tags": []
      },
      "outputs": [
        {
          "data": {
            "text/plain": [
              "{'dc1,out0': 'wg,in0',\n",
              " 'wg,out0': 'dc2,in0',\n",
              " 'dc1,out1': 'dc2,in1',\n",
              " 'wg,in0': 'dc1,out0',\n",
              " 'dc2,in0': 'wg,out0',\n",
              " 'dc2,in1': 'dc1,out1'}"
            ]
          },
          "execution_count": 24,
          "metadata": {},
          "output_type": "execute_result"
        }
      ],
      "source": [
        "connections = {**connections, **{v: k for k, v in connections.items()}}\n",
        "connections"
      ]
    },
    {
      "cell_type": "markdown",
      "id": "a41250ec",
      "metadata": {
        "papermill": {
          "duration": 0.012863,
          "end_time": "2023-09-01T16:51:44.401023",
          "exception": false,
          "start_time": "2023-09-01T16:51:44.388160",
          "status": "completed"
        },
        "tags": []
      },
      "source": [
        "We'll also need the reversed ports:"
      ]
    },
    {
      "cell_type": "code",
      "execution_count": 25,
      "id": "9a70463f",
      "metadata": {
        "execution": {
          "iopub.execute_input": "2023-09-01T16:51:44.427909Z",
          "iopub.status.busy": "2023-09-01T16:51:44.427388Z",
          "iopub.status.idle": "2023-09-01T16:51:44.430953Z",
          "shell.execute_reply": "2023-09-01T16:51:44.430635Z"
        },
        "papermill": {
          "duration": 0.01834,
          "end_time": "2023-09-01T16:51:44.432178",
          "exception": false,
          "start_time": "2023-09-01T16:51:44.413838",
          "status": "completed"
        },
        "tags": []
      },
      "outputs": [
        {
          "data": {
            "text/plain": [
              "{'dc1,in0': 'in0', 'dc1,in1': 'in1', 'dc2,out0': 'out0', 'dc2,out1': 'out1'}"
            ]
          },
          "execution_count": 25,
          "metadata": {},
          "output_type": "execute_result"
        }
      ],
      "source": [
        "inverse_ports = {v: k for k, v in ports.items()}\n",
        "inverse_ports"
      ]
    },
    {
      "cell_type": "markdown",
      "id": "1e96443b",
      "metadata": {
        "papermill": {
          "duration": 0.012963,
          "end_time": "2023-09-01T16:51:44.458111",
          "exception": false,
          "start_time": "2023-09-01T16:51:44.445148",
          "status": "completed"
        },
        "tags": []
      },
      "source": [
        "An the port indices"
      ]
    },
    {
      "cell_type": "code",
      "execution_count": 26,
      "id": "8e18d182",
      "metadata": {
        "execution": {
          "iopub.execute_input": "2023-09-01T16:51:44.485049Z",
          "iopub.status.busy": "2023-09-01T16:51:44.484592Z",
          "iopub.status.idle": "2023-09-01T16:51:44.488234Z",
          "shell.execute_reply": "2023-09-01T16:51:44.487911Z"
        },
        "papermill": {
          "duration": 0.018437,
          "end_time": "2023-09-01T16:51:44.489325",
          "exception": false,
          "start_time": "2023-09-01T16:51:44.470888",
          "status": "completed"
        },
        "tags": []
      },
      "outputs": [
        {
          "data": {
            "text/plain": [
              "{'in0': 0, 'in1': 1, 'out0': 2, 'out1': 3}"
            ]
          },
          "execution_count": 26,
          "metadata": {},
          "output_type": "execute_result"
        }
      ],
      "source": [
        "port_map = {k: i for i, k in enumerate(ports)}\n",
        "port_map"
      ]
    },
    {
      "cell_type": "markdown",
      "id": "70924074",
      "metadata": {
        "papermill": {
          "duration": 0.012924,
          "end_time": "2023-09-01T16:51:44.515182",
          "exception": false,
          "start_time": "2023-09-01T16:51:44.502258",
          "status": "completed"
        },
        "tags": []
      },
      "source": [
        "Let's now create the COO-representation of our block diagonal S-matrix $S_{bd}$:"
      ]
    },
    {
      "cell_type": "code",
      "execution_count": 27,
      "id": "835deb8f",
      "metadata": {
        "execution": {
          "iopub.execute_input": "2023-09-01T16:51:44.543035Z",
          "iopub.status.busy": "2023-09-01T16:51:44.542424Z",
          "iopub.status.idle": "2023-09-01T16:51:44.598091Z",
          "shell.execute_reply": "2023-09-01T16:51:44.597626Z"
        },
        "papermill": {
          "duration": 0.071169,
          "end_time": "2023-09-01T16:51:44.599453",
          "exception": false,
          "start_time": "2023-09-01T16:51:44.528284",
          "status": "completed"
        },
        "tags": []
      },
      "outputs": [
        {
          "name": "stdout",
          "output_type": "stream",
          "text": [
            "[0 0 0 0 1 1 1 1 2 2 2 2 3 3 3 3 4 5 6 6 6 6 7 7 7 7 8 8 8 8 9 9 9 9]\n",
            "[0 1 2 3 0 1 2 3 0 1 2 3 0 1 2 3 5 4 6 7 8 9 6 7 8 9 6 7 8 9 6 7 8 9]\n",
            "[0.        +0.j         0.        +0.j         0.70710678+0.j\n",
            " 0.        +0.70710678j 0.        +0.j         0.        +0.j\n",
            " 0.        +0.70710678j 0.70710678+0.j         0.70710678+0.j\n",
            " 0.        +0.70710678j 0.        +0.j         0.        +0.j\n",
            " 0.        +0.70710678j 0.70710678+0.j         0.        +0.j\n",
            " 0.        +0.j         0.5       +0.86603j    0.5       +0.86603j\n",
            " 0.        +0.j         0.        +0.j         0.70710678+0.j\n",
            " 0.        +0.70710678j 0.        +0.j         0.        +0.j\n",
            " 0.        +0.70710678j 0.70710678+0.j         0.70710678+0.j\n",
            " 0.        +0.70710678j 0.        +0.j         0.        +0.j\n",
            " 0.        +0.70710678j 0.70710678+0.j         0.        +0.j\n",
            " 0.        +0.j        ]\n"
          ]
        }
      ],
      "source": [
        "idx, Si, Sj, Sx, instance_ports = 0, [], [], [], {}\n",
        "batch_shape = ()\n",
        "for name, instance in instances.items():\n",
        "    si, sj, sx, ports_map = scoo(instance)\n",
        "    Si.append(si + idx)\n",
        "    Sj.append(sj + idx)\n",
        "    Sx.append(sx)\n",
        "    if len(sx.shape[:-1]) > len(batch_shape):\n",
        "        batch_shape = sx.shape[:-1]\n",
        "    instance_ports.update({f\"{name},{p}\": i + idx for p, i in ports_map.items()})\n",
        "    idx += len(ports_map)\n",
        "Si = jnp.concatenate(Si, -1)\n",
        "Sj = jnp.concatenate(Sj, -1)\n",
        "Sx = jnp.concatenate([jnp.broadcast_to(sx, (*batch_shape, sx.shape[-1])) for sx in Sx], -1)\n",
        "\n",
        "print(Si)\n",
        "print(Sj)\n",
        "print(Sx)"
      ]
    },
    {
      "cell_type": "markdown",
      "id": "a8edefa1",
      "metadata": {
        "papermill": {
          "duration": 0.013275,
          "end_time": "2023-09-01T16:51:44.626173",
          "exception": false,
          "start_time": "2023-09-01T16:51:44.612898",
          "status": "completed"
        },
        "tags": []
      },
      "source": [
        "note that we also kept track of the `batch_shape`, i.e. the number of independent simulations (usually number of wavelengths). In the example being used here we don't have a batch dimension (all elements of the `SDict` are `0D`):"
      ]
    },
    {
      "cell_type": "code",
      "execution_count": 28,
      "id": "7513759a",
      "metadata": {
        "execution": {
          "iopub.execute_input": "2023-09-01T16:51:44.653532Z",
          "iopub.status.busy": "2023-09-01T16:51:44.653304Z",
          "iopub.status.idle": "2023-09-01T16:51:44.657212Z",
          "shell.execute_reply": "2023-09-01T16:51:44.656869Z"
        },
        "papermill": {
          "duration": 0.019006,
          "end_time": "2023-09-01T16:51:44.658273",
          "exception": false,
          "start_time": "2023-09-01T16:51:44.639267",
          "status": "completed"
        },
        "tags": []
      },
      "outputs": [
        {
          "data": {
            "text/plain": [
              "()"
            ]
          },
          "execution_count": 28,
          "metadata": {},
          "output_type": "execute_result"
        }
      ],
      "source": [
        "batch_shape"
      ]
    },
    {
      "cell_type": "markdown",
      "id": "c63b14d7",
      "metadata": {
        "papermill": {
          "duration": 0.01323,
          "end_time": "2023-09-01T16:51:44.684761",
          "exception": false,
          "start_time": "2023-09-01T16:51:44.671531",
          "status": "completed"
        },
        "tags": []
      },
      "source": [
        "We'll also keep track of the number of columns"
      ]
    },
    {
      "cell_type": "code",
      "execution_count": 29,
      "id": "89000432",
      "metadata": {
        "execution": {
          "iopub.execute_input": "2023-09-01T16:51:44.712511Z",
          "iopub.status.busy": "2023-09-01T16:51:44.711946Z",
          "iopub.status.idle": "2023-09-01T16:51:44.715289Z",
          "shell.execute_reply": "2023-09-01T16:51:44.714974Z"
        },
        "papermill": {
          "duration": 0.018381,
          "end_time": "2023-09-01T16:51:44.716276",
          "exception": false,
          "start_time": "2023-09-01T16:51:44.697895",
          "status": "completed"
        },
        "tags": []
      },
      "outputs": [
        {
          "data": {
            "text/plain": [
              "10"
            ]
          },
          "execution_count": 29,
          "metadata": {},
          "output_type": "execute_result"
        }
      ],
      "source": [
        "n_col = idx\n",
        "n_col"
      ]
    },
    {
      "cell_type": "markdown",
      "id": "7b0f95da",
      "metadata": {
        "papermill": {
          "duration": 0.013687,
          "end_time": "2023-09-01T16:51:44.743315",
          "exception": false,
          "start_time": "2023-09-01T16:51:44.729628",
          "status": "completed"
        },
        "tags": []
      },
      "source": [
        "And we'll need to solve the circuit for each output port, i.e. we need to solve `n_rhs` number of equations:"
      ]
    },
    {
      "cell_type": "code",
      "execution_count": 30,
      "id": "27902354",
      "metadata": {
        "execution": {
          "iopub.execute_input": "2023-09-01T16:51:44.771264Z",
          "iopub.status.busy": "2023-09-01T16:51:44.770832Z",
          "iopub.status.idle": "2023-09-01T16:51:44.774165Z",
          "shell.execute_reply": "2023-09-01T16:51:44.773848Z"
        },
        "papermill": {
          "duration": 0.018614,
          "end_time": "2023-09-01T16:51:44.775226",
          "exception": false,
          "start_time": "2023-09-01T16:51:44.756612",
          "status": "completed"
        },
        "tags": []
      },
      "outputs": [
        {
          "data": {
            "text/plain": [
              "4"
            ]
          },
          "execution_count": 30,
          "metadata": {},
          "output_type": "execute_result"
        }
      ],
      "source": [
        "n_rhs = len(port_map)\n",
        "n_rhs"
      ]
    },
    {
      "cell_type": "markdown",
      "id": "05056b46",
      "metadata": {
        "papermill": {
          "duration": 0.013624,
          "end_time": "2023-09-01T16:51:44.802240",
          "exception": false,
          "start_time": "2023-09-01T16:51:44.788616",
          "status": "completed"
        },
        "tags": []
      },
      "source": [
        "We can represent the internal connection matrix $C_{int}$ as a mapping between port indices:"
      ]
    },
    {
      "cell_type": "code",
      "execution_count": 31,
      "id": "f3ff1fa7",
      "metadata": {
        "execution": {
          "iopub.execute_input": "2023-09-01T16:51:44.830512Z",
          "iopub.status.busy": "2023-09-01T16:51:44.830157Z",
          "iopub.status.idle": "2023-09-01T16:51:44.833906Z",
          "shell.execute_reply": "2023-09-01T16:51:44.833592Z"
        },
        "papermill": {
          "duration": 0.019281,
          "end_time": "2023-09-01T16:51:44.835113",
          "exception": false,
          "start_time": "2023-09-01T16:51:44.815832",
          "status": "completed"
        },
        "tags": []
      },
      "outputs": [
        {
          "data": {
            "text/plain": [
              "{0: 4, 5: 8, 1: 9, 4: 0, 8: 5, 9: 1}"
            ]
          },
          "execution_count": 31,
          "metadata": {},
          "output_type": "execute_result"
        }
      ],
      "source": [
        "Cmap = {int(instance_ports[k]): int(instance_ports[v]) for k, v in connections.items()}\n",
        "Cmap"
      ]
    },
    {
      "cell_type": "markdown",
      "id": "999164af",
      "metadata": {
        "papermill": {
          "duration": 0.014055,
          "end_time": "2023-09-01T16:51:44.862939",
          "exception": false,
          "start_time": "2023-09-01T16:51:44.848884",
          "status": "completed"
        },
        "tags": []
      },
      "source": [
        "Therefore, the COO-representation of this connection matrix can be obtained as follows (note that an array of values Cx is not necessary, all non-zero elements in a connection matrix are 1)"
      ]
    },
    {
      "cell_type": "code",
      "execution_count": 32,
      "id": "9e4f1728",
      "metadata": {
        "execution": {
          "iopub.execute_input": "2023-09-01T16:51:44.891722Z",
          "iopub.status.busy": "2023-09-01T16:51:44.891116Z",
          "iopub.status.idle": "2023-09-01T16:51:44.895294Z",
          "shell.execute_reply": "2023-09-01T16:51:44.894960Z"
        },
        "papermill": {
          "duration": 0.020257,
          "end_time": "2023-09-01T16:51:44.896744",
          "exception": false,
          "start_time": "2023-09-01T16:51:44.876487",
          "status": "completed"
        },
        "tags": []
      },
      "outputs": [
        {
          "name": "stdout",
          "output_type": "stream",
          "text": [
            "[0 5 1 4 8 9]\n",
            "[4 8 9 0 5 1]\n"
          ]
        }
      ],
      "source": [
        "Ci = jnp.array(list(Cmap.keys()), dtype=jnp.int32)\n",
        "Cj = jnp.array(list(Cmap.values()), dtype=jnp.int32)\n",
        "print(Ci)\n",
        "print(Cj)"
      ]
    },
    {
      "cell_type": "markdown",
      "id": "47d5ed60",
      "metadata": {
        "papermill": {
          "duration": 0.013558,
          "end_time": "2023-09-01T16:51:44.924242",
          "exception": false,
          "start_time": "2023-09-01T16:51:44.910684",
          "status": "completed"
        },
        "tags": []
      },
      "source": [
        "We can represent the external connection matrix $C_{ext}$ as a map between internal port indices and external port indices:"
      ]
    },
    {
      "cell_type": "code",
      "execution_count": 33,
      "id": "f56ae166",
      "metadata": {
        "execution": {
          "iopub.execute_input": "2023-09-01T16:51:44.952812Z",
          "iopub.status.busy": "2023-09-01T16:51:44.952349Z",
          "iopub.status.idle": "2023-09-01T16:51:44.956197Z",
          "shell.execute_reply": "2023-09-01T16:51:44.955860Z"
        },
        "papermill": {
          "duration": 0.019455,
          "end_time": "2023-09-01T16:51:44.957250",
          "exception": false,
          "start_time": "2023-09-01T16:51:44.937795",
          "status": "completed"
        },
        "tags": []
      },
      "outputs": [
        {
          "data": {
            "text/plain": [
              "{2: 0, 3: 1, 6: 2, 7: 3}"
            ]
          },
          "execution_count": 33,
          "metadata": {},
          "output_type": "execute_result"
        }
      ],
      "source": [
        "Cextmap = {int(instance_ports[k]): int(port_map[v]) for k, v in inverse_ports.items()}\n",
        "Cextmap"
      ]
    },
    {
      "cell_type": "markdown",
      "id": "2485c01d",
      "metadata": {
        "papermill": {
          "duration": 0.013752,
          "end_time": "2023-09-01T16:51:44.984849",
          "exception": false,
          "start_time": "2023-09-01T16:51:44.971097",
          "status": "completed"
        },
        "tags": []
      },
      "source": [
        "Just as for the internal matrix we can represent this external connection matrix in COO-format:"
      ]
    },
    {
      "cell_type": "code",
      "execution_count": 34,
      "id": "cfb419ac",
      "metadata": {
        "execution": {
          "iopub.execute_input": "2023-09-01T16:51:45.013540Z",
          "iopub.status.busy": "2023-09-01T16:51:45.012963Z",
          "iopub.status.idle": "2023-09-01T16:51:45.018625Z",
          "shell.execute_reply": "2023-09-01T16:51:45.018188Z"
        },
        "papermill": {
          "duration": 0.021321,
          "end_time": "2023-09-01T16:51:45.019765",
          "exception": false,
          "start_time": "2023-09-01T16:51:44.998444",
          "status": "completed"
        },
        "tags": []
      },
      "outputs": [
        {
          "name": "stdout",
          "output_type": "stream",
          "text": [
            "[2 3 6 7]\n",
            "[0 1 2 3]\n"
          ]
        }
      ],
      "source": [
        "Cexti = jnp.stack(list(Cextmap.keys()), 0)\n",
        "Cextj = jnp.stack(list(Cextmap.values()), 0)\n",
        "print(Cexti)\n",
        "print(Cextj)"
      ]
    },
    {
      "cell_type": "markdown",
      "id": "e46d609c",
      "metadata": {
        "papermill": {
          "duration": 0.013786,
          "end_time": "2023-09-01T16:51:45.047430",
          "exception": false,
          "start_time": "2023-09-01T16:51:45.033644",
          "status": "completed"
        },
        "tags": []
      },
      "source": [
        "However, we actually need it as a dense representation:\n",
        "\n",
        "> help needed: can we find a way later on to keep this sparse?"
      ]
    },
    {
      "cell_type": "code",
      "execution_count": 35,
      "id": "25c4ec6e",
      "metadata": {
        "execution": {
          "iopub.execute_input": "2023-09-01T16:51:45.076441Z",
          "iopub.status.busy": "2023-09-01T16:51:45.075869Z",
          "iopub.status.idle": "2023-09-01T16:51:45.083684Z",
          "shell.execute_reply": "2023-09-01T16:51:45.083286Z"
        },
        "papermill": {
          "duration": 0.023686,
          "end_time": "2023-09-01T16:51:45.084832",
          "exception": false,
          "start_time": "2023-09-01T16:51:45.061146",
          "status": "completed"
        },
        "tags": []
      },
      "outputs": [
        {
          "data": {
            "text/plain": [
              "Array([[0.+0.j, 0.+0.j, 0.+0.j, 0.+0.j],\n",
              "       [0.+0.j, 0.+0.j, 0.+0.j, 0.+0.j],\n",
              "       [1.+0.j, 0.+0.j, 0.+0.j, 0.+0.j],\n",
              "       [0.+0.j, 1.+0.j, 0.+0.j, 0.+0.j],\n",
              "       [0.+0.j, 0.+0.j, 0.+0.j, 0.+0.j],\n",
              "       [0.+0.j, 0.+0.j, 0.+0.j, 0.+0.j],\n",
              "       [0.+0.j, 0.+0.j, 1.+0.j, 0.+0.j],\n",
              "       [0.+0.j, 0.+0.j, 0.+0.j, 1.+0.j],\n",
              "       [0.+0.j, 0.+0.j, 0.+0.j, 0.+0.j],\n",
              "       [0.+0.j, 0.+0.j, 0.+0.j, 0.+0.j]], dtype=complex128)"
            ]
          },
          "execution_count": 35,
          "metadata": {},
          "output_type": "execute_result"
        }
      ],
      "source": [
        "Cext = jnp.zeros((n_col, n_rhs), dtype=complex).at[Cexti, Cextj].set(1.0)\n",
        "Cext"
      ]
    },
    {
      "cell_type": "markdown",
      "id": "b31cc279",
      "metadata": {
        "papermill": {
          "duration": 0.013886,
          "end_time": "2023-09-01T16:51:45.112695",
          "exception": false,
          "start_time": "2023-09-01T16:51:45.098809",
          "status": "completed"
        },
        "tags": []
      },
      "source": [
        "We'll now calculate the row index `CSi` of $C_{int}S_{bd}$ in COO-format:"
      ]
    },
    {
      "cell_type": "code",
      "execution_count": 36,
      "id": "618b35724b623f11",
      "metadata": {
        "execution": {
          "iopub.execute_input": "2023-09-01T16:51:45.141628Z",
          "iopub.status.busy": "2023-09-01T16:51:45.141191Z",
          "iopub.status.idle": "2023-09-01T16:51:45.285613Z",
          "shell.execute_reply": "2023-09-01T16:51:45.285175Z"
        },
        "papermill": {
          "duration": 0.160288,
          "end_time": "2023-09-01T16:51:45.286796",
          "exception": false,
          "start_time": "2023-09-01T16:51:45.126508",
          "status": "completed"
        },
        "tags": []
      },
      "outputs": [
        {
          "data": {
            "text/plain": [
              "Array([4, 4, 4, 4, 9, 9, 9, 9, 0, 8, 5, 5, 5, 5, 1, 1, 1, 1], dtype=int32)"
            ]
          },
          "execution_count": 36,
          "metadata": {},
          "output_type": "execute_result"
        }
      ],
      "source": [
        "# TODO: make this block jittable...\n",
        "Ix = jnp.ones((*batch_shape, n_col))\n",
        "Ii = Ij = jnp.arange(n_col)\n",
        "mask = Cj[None,:] == Si[:, None]\n",
        "CSi = jnp.broadcast_to(Ci[None, :], mask.shape)[mask]\n",
        "CSi"
      ]
    },
    {
      "cell_type": "markdown",
      "id": "a2657582",
      "metadata": {
        "papermill": {
          "duration": 0.014147,
          "end_time": "2023-09-01T16:51:45.315216",
          "exception": false,
          "start_time": "2023-09-01T16:51:45.301069",
          "status": "completed"
        },
        "tags": []
      },
      "source": [
        "> `CSi`: possible jittable alternative? how do we remove the zeros?"
      ]
    },
    {
      "cell_type": "code",
      "execution_count": 37,
      "id": "d4ea2cb5",
      "metadata": {
        "execution": {
          "iopub.execute_input": "2023-09-01T16:51:45.345019Z",
          "iopub.status.busy": "2023-09-01T16:51:45.344365Z",
          "iopub.status.idle": "2023-09-01T16:51:45.385765Z",
          "shell.execute_reply": "2023-09-01T16:51:45.385359Z"
        },
        "papermill": {
          "duration": 0.057591,
          "end_time": "2023-09-01T16:51:45.386891",
          "exception": false,
          "start_time": "2023-09-01T16:51:45.329300",
          "status": "completed"
        },
        "tags": []
      },
      "outputs": [
        {
          "data": {
            "text/plain": [
              "Array([4, 4, 4, 4, 9, 9, 9, 9, 0, 0, 0, 0, 0, 0, 0, 0, 0, 8, 0, 0, 0, 0,\n",
              "       0, 0, 0, 0, 5, 5, 5, 5, 1, 1, 1, 1], dtype=int64)"
            ]
          },
          "execution_count": 37,
          "metadata": {},
          "output_type": "execute_result"
        }
      ],
      "source": [
        "CSi_ = jnp.where(Cj[None, :] == Si[:, None], Ci[None, :], 0).sum(1) # not used\n",
        "CSi_ # not used"
      ]
    },
    {
      "cell_type": "markdown",
      "id": "44fc620e",
      "metadata": {
        "papermill": {
          "duration": 0.014334,
          "end_time": "2023-09-01T16:51:45.415804",
          "exception": false,
          "start_time": "2023-09-01T16:51:45.401470",
          "status": "completed"
        },
        "tags": []
      },
      "source": [
        "The column index `CSj` of $C_{int}S_{bd}$ can more easily be obtained:"
      ]
    },
    {
      "cell_type": "code",
      "execution_count": 38,
      "id": "f71fdd7c",
      "metadata": {
        "execution": {
          "iopub.execute_input": "2023-09-01T16:51:45.445388Z",
          "iopub.status.busy": "2023-09-01T16:51:45.444940Z",
          "iopub.status.idle": "2023-09-01T16:51:45.510029Z",
          "shell.execute_reply": "2023-09-01T16:51:45.509568Z"
        },
        "papermill": {
          "duration": 0.081346,
          "end_time": "2023-09-01T16:51:45.511314",
          "exception": false,
          "start_time": "2023-09-01T16:51:45.429968",
          "status": "completed"
        },
        "tags": []
      },
      "outputs": [
        {
          "data": {
            "text/plain": [
              "Array([0, 1, 2, 3, 0, 1, 2, 3, 5, 4, 6, 7, 8, 9, 6, 7, 8, 9], dtype=int64)"
            ]
          },
          "execution_count": 38,
          "metadata": {},
          "output_type": "execute_result"
        }
      ],
      "source": [
        "mask = (Cj[:, None] == Si[None, :]).any(0)\n",
        "CSj = Sj[mask]\n",
        "CSj"
      ]
    },
    {
      "cell_type": "markdown",
      "id": "99bf7684",
      "metadata": {
        "papermill": {
          "duration": 0.014406,
          "end_time": "2023-09-01T16:51:45.540161",
          "exception": false,
          "start_time": "2023-09-01T16:51:45.525755",
          "status": "completed"
        },
        "tags": []
      },
      "source": [
        "> `CSj`: possible jittable alternative? how do we remove the zeros?"
      ]
    },
    {
      "cell_type": "code",
      "execution_count": 39,
      "id": "ffa7bc82",
      "metadata": {
        "execution": {
          "iopub.execute_input": "2023-09-01T16:51:45.570374Z",
          "iopub.status.busy": "2023-09-01T16:51:45.569913Z",
          "iopub.status.idle": "2023-09-01T16:51:45.592436Z",
          "shell.execute_reply": "2023-09-01T16:51:45.592005Z"
        },
        "papermill": {
          "duration": 0.039227,
          "end_time": "2023-09-01T16:51:45.593787",
          "exception": false,
          "start_time": "2023-09-01T16:51:45.554560",
          "status": "completed"
        },
        "tags": []
      },
      "outputs": [
        {
          "data": {
            "text/plain": [
              "Array([0, 1, 2, 3, 0, 1, 2, 3, 0, 0, 0, 0, 0, 0, 0, 0, 5, 4, 0, 0, 0, 0,\n",
              "       0, 0, 0, 0, 6, 7, 8, 9, 6, 7, 8, 9], dtype=int64)"
            ]
          },
          "execution_count": 39,
          "metadata": {},
          "output_type": "execute_result"
        }
      ],
      "source": [
        "CSj_ = jnp.where(mask, Sj, 0) # not used\n",
        "CSj_ # not used"
      ]
    },
    {
      "cell_type": "markdown",
      "id": "e0fc6d02",
      "metadata": {
        "papermill": {
          "duration": 0.014628,
          "end_time": "2023-09-01T16:51:45.623147",
          "exception": false,
          "start_time": "2023-09-01T16:51:45.608519",
          "status": "completed"
        },
        "tags": []
      },
      "source": [
        "Finally, the values `CSx` of $C_{int}S_{bd}$ can be obtained as follows:"
      ]
    },
    {
      "cell_type": "code",
      "execution_count": 40,
      "id": "59d2e1b2",
      "metadata": {
        "execution": {
          "iopub.execute_input": "2023-09-01T16:51:45.653649Z",
          "iopub.status.busy": "2023-09-01T16:51:45.653192Z",
          "iopub.status.idle": "2023-09-01T16:51:45.676725Z",
          "shell.execute_reply": "2023-09-01T16:51:45.676308Z"
        },
        "papermill": {
          "duration": 0.040118,
          "end_time": "2023-09-01T16:51:45.677815",
          "exception": false,
          "start_time": "2023-09-01T16:51:45.637697",
          "status": "completed"
        },
        "tags": []
      },
      "outputs": [
        {
          "data": {
            "text/plain": [
              "Array([0.        +0.j        , 0.        +0.j        ,\n",
              "       0.70710678+0.j        , 0.        +0.70710678j,\n",
              "       0.        +0.j        , 0.        +0.j        ,\n",
              "       0.        +0.70710678j, 0.70710678+0.j        ,\n",
              "       0.5       +0.86603j   , 0.5       +0.86603j   ,\n",
              "       0.70710678+0.j        , 0.        +0.70710678j,\n",
              "       0.        +0.j        , 0.        +0.j        ,\n",
              "       0.        +0.70710678j, 0.70710678+0.j        ,\n",
              "       0.        +0.j        , 0.        +0.j        ], dtype=complex128)"
            ]
          },
          "execution_count": 40,
          "metadata": {},
          "output_type": "execute_result"
        }
      ],
      "source": [
        "CSx = Sx[..., mask]\n",
        "CSx"
      ]
    },
    {
      "cell_type": "markdown",
      "id": "c02035bd",
      "metadata": {
        "papermill": {
          "duration": 0.015003,
          "end_time": "2023-09-01T16:51:45.707597",
          "exception": false,
          "start_time": "2023-09-01T16:51:45.692594",
          "status": "completed"
        },
        "tags": []
      },
      "source": [
        "> `CSx`: possible jittable alternative? how do we remove the zeros?"
      ]
    },
    {
      "cell_type": "code",
      "execution_count": 41,
      "id": "107e9e80",
      "metadata": {
        "execution": {
          "iopub.execute_input": "2023-09-01T16:51:45.738217Z",
          "iopub.status.busy": "2023-09-01T16:51:45.737631Z",
          "iopub.status.idle": "2023-09-01T16:51:45.759801Z",
          "shell.execute_reply": "2023-09-01T16:51:45.759432Z"
        },
        "papermill": {
          "duration": 0.038812,
          "end_time": "2023-09-01T16:51:45.760975",
          "exception": false,
          "start_time": "2023-09-01T16:51:45.722163",
          "status": "completed"
        },
        "tags": []
      },
      "outputs": [
        {
          "data": {
            "text/plain": [
              "Array([0.        +0.j        , 0.        +0.j        ,\n",
              "       0.70710678+0.j        , 0.        +0.70710678j,\n",
              "       0.        +0.j        , 0.        +0.j        ,\n",
              "       0.        +0.70710678j, 0.70710678+0.j        ,\n",
              "       0.        +0.j        , 0.        +0.j        ,\n",
              "       0.        +0.j        , 0.        +0.j        ,\n",
              "       0.        +0.j        , 0.        +0.j        ,\n",
              "       0.        +0.j        , 0.        +0.j        ,\n",
              "       0.5       +0.86603j   , 0.5       +0.86603j   ,\n",
              "       0.        +0.j        , 0.        +0.j        ,\n",
              "       0.        +0.j        , 0.        +0.j        ,\n",
              "       0.        +0.j        , 0.        +0.j        ,\n",
              "       0.        +0.j        , 0.        +0.j        ,\n",
              "       0.70710678+0.j        , 0.        +0.70710678j,\n",
              "       0.        +0.j        , 0.        +0.j        ,\n",
              "       0.        +0.70710678j, 0.70710678+0.j        ,\n",
              "       0.        +0.j        , 0.        +0.j        ], dtype=complex128)"
            ]
          },
          "execution_count": 41,
          "metadata": {},
          "output_type": "execute_result"
        }
      ],
      "source": [
        "CSx_ = jnp.where(mask, Sx, 0.0) # not used\n",
        "CSx_ # not used"
      ]
    },
    {
      "cell_type": "markdown",
      "id": "9411edf5",
      "metadata": {
        "papermill": {
          "duration": 0.014703,
          "end_time": "2023-09-01T16:51:45.790508",
          "exception": false,
          "start_time": "2023-09-01T16:51:45.775805",
          "status": "completed"
        },
        "tags": []
      },
      "source": [
        "Now we calculate $\\mathbb{1} - C_{int}S_{bd}$ in an *uncoalesced* way (we might have duplicate indices on the diagonal):\n",
        "\n",
        "> **uncoalesced**: having duplicate index combinations (i, j) in the representation possibly with different corresponding values. This is usually not a problem as in linear operations these values will end up to be summed, usually the behavior you want:"
      ]
    },
    {
      "cell_type": "code",
      "execution_count": 42,
      "id": "53c3f4ab",
      "metadata": {
        "execution": {
          "iopub.execute_input": "2023-09-01T16:51:45.821662Z",
          "iopub.status.busy": "2023-09-01T16:51:45.821210Z",
          "iopub.status.idle": "2023-09-01T16:51:45.878809Z",
          "shell.execute_reply": "2023-09-01T16:51:45.878295Z"
        },
        "papermill": {
          "duration": 0.074854,
          "end_time": "2023-09-01T16:51:45.880182",
          "exception": false,
          "start_time": "2023-09-01T16:51:45.805328",
          "status": "completed"
        },
        "tags": []
      },
      "outputs": [
        {
          "name": "stdout",
          "output_type": "stream",
          "text": [
            "[4 4 4 4 9 9 9 9 0 8 5 5 5 5 1 1 1 1 0 1 2 3 4 5 6 7 8 9]\n",
            "[0 1 2 3 0 1 2 3 5 4 6 7 8 9 6 7 8 9 0 1 2 3 4 5 6 7 8 9]\n",
            "[-0.        -0.j         -0.        -0.j         -0.70710678-0.j\n",
            " -0.        -0.70710678j -0.        -0.j         -0.        -0.j\n",
            " -0.        -0.70710678j -0.70710678-0.j         -0.5       -0.86603j\n",
            " -0.5       -0.86603j    -0.70710678-0.j         -0.        -0.70710678j\n",
            " -0.        -0.j         -0.        -0.j         -0.        -0.70710678j\n",
            " -0.70710678-0.j         -0.        -0.j         -0.        -0.j\n",
            "  1.        +0.j          1.        +0.j          1.        +0.j\n",
            "  1.        +0.j          1.        +0.j          1.        +0.j\n",
            "  1.        +0.j          1.        +0.j          1.        +0.j\n",
            "  1.        +0.j        ]\n"
          ]
        }
      ],
      "source": [
        "I_CSi = jnp.concatenate([CSi, Ii], -1)\n",
        "I_CSj = jnp.concatenate([CSj, Ij], -1)\n",
        "I_CSx = jnp.concatenate([-CSx, Ix], -1)\n",
        "print(I_CSi)\n",
        "print(I_CSj)\n",
        "print(I_CSx)"
      ]
    },
    {
      "cell_type": "code",
      "execution_count": 43,
      "id": "188e4606",
      "metadata": {
        "execution": {
          "iopub.execute_input": "2023-09-01T16:51:45.912301Z",
          "iopub.status.busy": "2023-09-01T16:51:45.911679Z",
          "iopub.status.idle": "2023-09-01T16:51:45.914749Z",
          "shell.execute_reply": "2023-09-01T16:51:45.914365Z"
        },
        "papermill": {
          "duration": 0.020798,
          "end_time": "2023-09-01T16:51:45.916105",
          "exception": false,
          "start_time": "2023-09-01T16:51:45.895307",
          "status": "completed"
        },
        "tags": []
      },
      "outputs": [
        {
          "name": "stdout",
          "output_type": "stream",
          "text": [
            "10 4\n"
          ]
        }
      ],
      "source": [
        "n_col, n_rhs = Cext.shape\n",
        "print(n_col, n_rhs)"
      ]
    },
    {
      "cell_type": "markdown",
      "id": "e018c515",
      "metadata": {
        "papermill": {
          "duration": 0.014791,
          "end_time": "2023-09-01T16:51:45.945817",
          "exception": false,
          "start_time": "2023-09-01T16:51:45.931026",
          "status": "completed"
        },
        "tags": []
      },
      "source": [
        "The batch shape dimension can generally speaking be anything (in the example here 0D). We need to do the necessary reshapings to make the batch shape 1D:"
      ]
    },
    {
      "cell_type": "code",
      "execution_count": 44,
      "id": "dad259e7",
      "metadata": {
        "execution": {
          "iopub.execute_input": "2023-09-01T16:51:45.977142Z",
          "iopub.status.busy": "2023-09-01T16:51:45.976691Z",
          "iopub.status.idle": "2023-09-01T16:51:45.993232Z",
          "shell.execute_reply": "2023-09-01T16:51:45.992787Z"
        },
        "papermill": {
          "duration": 0.033564,
          "end_time": "2023-09-01T16:51:45.994319",
          "exception": false,
          "start_time": "2023-09-01T16:51:45.960755",
          "status": "completed"
        },
        "tags": []
      },
      "outputs": [
        {
          "name": "stdout",
          "output_type": "stream",
          "text": [
            "1\n"
          ]
        }
      ],
      "source": [
        "n_lhs = jnp.prod(jnp.array(batch_shape, dtype=jnp.int32))\n",
        "print(n_lhs)"
      ]
    },
    {
      "cell_type": "code",
      "execution_count": 45,
      "id": "9cf69da7",
      "metadata": {
        "execution": {
          "iopub.execute_input": "2023-09-01T16:51:46.025593Z",
          "iopub.status.busy": "2023-09-01T16:51:46.025051Z",
          "iopub.status.idle": "2023-09-01T16:51:46.041381Z",
          "shell.execute_reply": "2023-09-01T16:51:46.040926Z"
        },
        "papermill": {
          "duration": 0.033457,
          "end_time": "2023-09-01T16:51:46.042729",
          "exception": false,
          "start_time": "2023-09-01T16:51:46.009272",
          "status": "completed"
        },
        "tags": []
      },
      "outputs": [
        {
          "data": {
            "text/plain": [
              "(1, 34)"
            ]
          },
          "execution_count": 45,
          "metadata": {},
          "output_type": "execute_result"
        }
      ],
      "source": [
        "Sx = Sx.reshape(n_lhs, -1)\n",
        "Sx.shape"
      ]
    },
    {
      "cell_type": "code",
      "execution_count": 46,
      "id": "788294fa",
      "metadata": {
        "execution": {
          "iopub.execute_input": "2023-09-01T16:51:46.074307Z",
          "iopub.status.busy": "2023-09-01T16:51:46.073650Z",
          "iopub.status.idle": "2023-09-01T16:51:46.089138Z",
          "shell.execute_reply": "2023-09-01T16:51:46.088731Z"
        },
        "papermill": {
          "duration": 0.032462,
          "end_time": "2023-09-01T16:51:46.090277",
          "exception": false,
          "start_time": "2023-09-01T16:51:46.057815",
          "status": "completed"
        },
        "tags": []
      },
      "outputs": [
        {
          "data": {
            "text/plain": [
              "(1, 28)"
            ]
          },
          "execution_count": 46,
          "metadata": {},
          "output_type": "execute_result"
        }
      ],
      "source": [
        "I_CSx = I_CSx.reshape(n_lhs, -1)\n",
        "I_CSx.shape"
      ]
    },
    {
      "cell_type": "markdown",
      "id": "ec741031",
      "metadata": {
        "papermill": {
          "duration": 0.015491,
          "end_time": "2023-09-01T16:51:46.121207",
          "exception": false,
          "start_time": "2023-09-01T16:51:46.105716",
          "status": "completed"
        },
        "tags": []
      },
      "source": [
        "We're finally ready to do the most important part of the calculation, which we conveniently leave to `klujax` and `SuiteSparse`:"
      ]
    },
    {
      "cell_type": "code",
      "execution_count": 47,
      "id": "9c1d8644",
      "metadata": {
        "execution": {
          "iopub.execute_input": "2023-09-01T16:51:46.152968Z",
          "iopub.status.busy": "2023-09-01T16:51:46.152505Z",
          "iopub.status.idle": "2023-09-01T16:51:46.188727Z",
          "shell.execute_reply": "2023-09-01T16:51:46.188294Z"
        },
        "papermill": {
          "duration": 0.053724,
          "end_time": "2023-09-01T16:51:46.190086",
          "exception": false,
          "start_time": "2023-09-01T16:51:46.136362",
          "status": "completed"
        },
        "tags": []
      },
      "outputs": [],
      "source": [
        "inv_I_CS_Cext = solve_klu(I_CSi, I_CSj, I_CSx, Cext)"
      ]
    },
    {
      "cell_type": "markdown",
      "id": "e51487df",
      "metadata": {
        "papermill": {
          "duration": 0.015223,
          "end_time": "2023-09-01T16:51:46.220733",
          "exception": false,
          "start_time": "2023-09-01T16:51:46.205510",
          "status": "completed"
        },
        "tags": []
      },
      "source": [
        "one more sparse multiplication:"
      ]
    },
    {
      "cell_type": "code",
      "execution_count": 48,
      "id": "cccda072",
      "metadata": {
        "execution": {
          "iopub.execute_input": "2023-09-01T16:51:46.252708Z",
          "iopub.status.busy": "2023-09-01T16:51:46.252126Z",
          "iopub.status.idle": "2023-09-01T16:51:46.289120Z",
          "shell.execute_reply": "2023-09-01T16:51:46.288705Z"
        },
        "papermill": {
          "duration": 0.054505,
          "end_time": "2023-09-01T16:51:46.290543",
          "exception": false,
          "start_time": "2023-09-01T16:51:46.236038",
          "status": "completed"
        },
        "tags": []
      },
      "outputs": [],
      "source": [
        "S_inv_I_CS_Cext = mul_coo(Si, Sj, Sx, inv_I_CS_Cext)"
      ]
    },
    {
      "cell_type": "markdown",
      "id": "627a98f7",
      "metadata": {
        "papermill": {
          "duration": 0.015123,
          "end_time": "2023-09-01T16:51:46.320996",
          "exception": false,
          "start_time": "2023-09-01T16:51:46.305873",
          "status": "completed"
        },
        "tags": []
      },
      "source": [
        "And one more $C_{ext}$ multiplication which we do by clever indexing:"
      ]
    },
    {
      "cell_type": "code",
      "execution_count": 49,
      "id": "12ff877c",
      "metadata": {
        "execution": {
          "iopub.execute_input": "2023-09-01T16:51:46.352560Z",
          "iopub.status.busy": "2023-09-01T16:51:46.352004Z",
          "iopub.status.idle": "2023-09-01T16:51:46.359495Z",
          "shell.execute_reply": "2023-09-01T16:51:46.359107Z"
        },
        "papermill": {
          "duration": 0.024514,
          "end_time": "2023-09-01T16:51:46.360597",
          "exception": false,
          "start_time": "2023-09-01T16:51:46.336083",
          "status": "completed"
        },
        "tags": []
      },
      "outputs": [
        {
          "data": {
            "text/plain": [
              "Array([[[ 0.      +0.j      ,  0.      +0.j      , -0.25    +0.433015j,\n",
              "         -0.433015+0.75j    ],\n",
              "        [ 0.      +0.j      ,  0.      +0.j      , -0.433015+0.75j    ,\n",
              "          0.25    -0.433015j],\n",
              "        [-0.25    +0.433015j, -0.433015+0.75j    ,  0.      +0.j      ,\n",
              "          0.      +0.j      ],\n",
              "        [-0.433015+0.75j    ,  0.25    -0.433015j,  0.      +0.j      ,\n",
              "          0.      +0.j      ]]], dtype=complex128)"
            ]
          },
          "execution_count": 49,
          "metadata": {},
          "output_type": "execute_result"
        }
      ],
      "source": [
        "CextT_S_inv_I_CS_Cext = S_inv_I_CS_Cext[..., Cexti, :][..., :, Cextj]\n",
        "CextT_S_inv_I_CS_Cext"
      ]
    },
    {
      "cell_type": "markdown",
      "id": "3e1c75b2",
      "metadata": {
        "papermill": {
          "duration": 0.015394,
          "end_time": "2023-09-01T16:51:46.391336",
          "exception": false,
          "start_time": "2023-09-01T16:51:46.375942",
          "status": "completed"
        },
        "tags": []
      },
      "source": [
        "That's it! We found the S-matrix of the circuit. We just need to reshape the batch dimension back into the matrix:"
      ]
    },
    {
      "cell_type": "code",
      "execution_count": 50,
      "id": "cbf962af",
      "metadata": {
        "execution": {
          "iopub.execute_input": "2023-09-01T16:51:46.423543Z",
          "iopub.status.busy": "2023-09-01T16:51:46.423087Z",
          "iopub.status.idle": "2023-09-01T16:51:46.427561Z",
          "shell.execute_reply": "2023-09-01T16:51:46.427235Z"
        },
        "papermill": {
          "duration": 0.021517,
          "end_time": "2023-09-01T16:51:46.428563",
          "exception": false,
          "start_time": "2023-09-01T16:51:46.407046",
          "status": "completed"
        },
        "tags": []
      },
      "outputs": [
        {
          "data": {
            "text/plain": [
              "Array([[ 0.      +0.j      ,  0.      +0.j      , -0.25    +0.433015j,\n",
              "        -0.433015+0.75j    ],\n",
              "       [ 0.      +0.j      ,  0.      +0.j      , -0.433015+0.75j    ,\n",
              "         0.25    -0.433015j],\n",
              "       [-0.25    +0.433015j, -0.433015+0.75j    ,  0.      +0.j      ,\n",
              "         0.      +0.j      ],\n",
              "       [-0.433015+0.75j    ,  0.25    -0.433015j,  0.      +0.j      ,\n",
              "         0.      +0.j      ]], dtype=complex128)"
            ]
          },
          "execution_count": 50,
          "metadata": {},
          "output_type": "execute_result"
        }
      ],
      "source": [
        "_, n, _ = CextT_S_inv_I_CS_Cext.shape\n",
        "S = CextT_S_inv_I_CS_Cext.reshape(*batch_shape, n, n)\n",
        "S"
      ]
    },
    {
      "cell_type": "markdown",
      "id": "1f6dea4c",
      "metadata": {
        "papermill": {
          "duration": 0.015359,
          "end_time": "2023-09-01T16:51:46.459311",
          "exception": false,
          "start_time": "2023-09-01T16:51:46.443952",
          "status": "completed"
        },
        "tags": []
      },
      "source": [
        "Oh and to complete the `SDense` representation we need to specify the port map as well:"
      ]
    },
    {
      "cell_type": "code",
      "execution_count": 51,
      "id": "21098a45",
      "metadata": {
        "execution": {
          "iopub.execute_input": "2023-09-01T16:51:46.491225Z",
          "iopub.status.busy": "2023-09-01T16:51:46.490788Z",
          "iopub.status.idle": "2023-09-01T16:51:46.494104Z",
          "shell.execute_reply": "2023-09-01T16:51:46.493789Z"
        },
        "papermill": {
          "duration": 0.020549,
          "end_time": "2023-09-01T16:51:46.495173",
          "exception": false,
          "start_time": "2023-09-01T16:51:46.474624",
          "status": "completed"
        },
        "tags": []
      },
      "outputs": [
        {
          "data": {
            "text/plain": [
              "{'in0': 0, 'in1': 1, 'out0': 2, 'out1': 3}"
            ]
          },
          "execution_count": 51,
          "metadata": {},
          "output_type": "execute_result"
        }
      ],
      "source": [
        "port_map"
      ]
    },
    {
      "cell_type": "markdown",
      "id": "0cfee3cf",
      "metadata": {
        "papermill": {
          "duration": 0.015588,
          "end_time": "2023-09-01T16:51:46.526434",
          "exception": false,
          "start_time": "2023-09-01T16:51:46.510846",
          "status": "completed"
        },
        "tags": []
      },
      "source": [
        "## Algorithm Improvements"
      ]
    },
    {
      "cell_type": "markdown",
      "id": "26b70270",
      "metadata": {
        "papermill": {
          "duration": 0.015558,
          "end_time": "2023-09-01T16:51:46.557560",
          "exception": false,
          "start_time": "2023-09-01T16:51:46.542002",
          "status": "completed"
        },
        "tags": []
      },
      "source": [
        "This algorithm is \n",
        "\n",
        "* very fast for large circuits \ud83d\ude42\n",
        "\n",
        "This algorithm is however:\n",
        "\n",
        "* **not** jittable \ud83d\ude25\n",
        "* **not** differentiable \ud83d\ude25\n",
        "* **not** GPU-compatible \ud83d\ude42\n",
        "\n",
        "There are probably still plenty of improvements possible for this algorithm:\n",
        "\n",
        "* **\u00bf** make it jittable **?**\n",
        "* **\u00bf** make it differentiable (requires making klujax differentiable first) **?**\n",
        "* **\u00bf** make it GPU compatible (requires making suitesparse GPU compatible... probably not gonna happen)**?**\n",
        "\n",
        "Bottom line is... Do you know how to improve this algorithm or how to implement the above suggestions? Please open a Merge Request!"
      ]
    },
    {
      "cell_type": "markdown",
      "id": "7578c842-033b-4d1f-a84f-e5ad486d4a88",
      "metadata": {
        "papermill": {
          "duration": 0.015484,
          "end_time": "2023-09-01T16:51:46.588574",
          "exception": false,
          "start_time": "2023-09-01T16:51:46.573090",
          "status": "completed"
        },
        "tags": []
      },
      "source": [
        "## Debug"
      ]
    },
    {
      "cell_type": "code",
      "execution_count": 52,
      "id": "8764ab09-12b9-4b3d-9d83-9a0872924077",
      "metadata": {
        "execution": {
          "iopub.execute_input": "2023-09-01T16:51:46.621182Z",
          "iopub.status.busy": "2023-09-01T16:51:46.620948Z",
          "iopub.status.idle": "2023-09-01T16:51:46.628987Z",
          "shell.execute_reply": "2023-09-01T16:51:46.628587Z"
        },
        "papermill": {
          "duration": 0.026004,
          "end_time": "2023-09-01T16:51:46.630145",
          "exception": false,
          "start_time": "2023-09-01T16:51:46.604141",
          "status": "completed"
        },
        "tags": []
      },
      "outputs": [],
      "source": [
        "instances = {\n",
        "    \"lft\": (\n",
        "        jnp.array(\n",
        "            [\n",
        "                [\n",
        "                    5.19688622e-06 - 1.19777138e-05j,\n",
        "                    6.30595625e-16 - 1.48061189e-17j,\n",
        "                    -3.38542541e-01 - 6.15711852e-01j,\n",
        "                    5.80662654e-03 - 1.11068866e-02j,\n",
        "                    -3.38542542e-01 - 6.15711852e-01j,\n",
        "                    -5.80662660e-03 + 1.11068866e-02j,\n",
        "                ],\n",
        "                [\n",
        "                    8.59445189e-16 - 8.29783014e-16j,\n",
        "                    -2.08640825e-06 + 8.17315497e-06j,\n",
        "                    2.03847666e-03 - 2.10649131e-03j,\n",
        "                    5.30509661e-01 + 4.62504708e-01j,\n",
        "                    -2.03847666e-03 + 2.10649129e-03j,\n",
        "                    5.30509662e-01 + 4.62504708e-01j,\n",
        "                ],\n",
        "                [\n",
        "                    -3.38542541e-01 - 6.15711852e-01j,\n",
        "                    2.03847660e-03 - 2.10649129e-03j,\n",
        "                    7.60088070e-06 + 9.07340423e-07j,\n",
        "                    2.79292426e-09 + 2.79093547e-07j,\n",
        "                    5.07842364e-06 + 2.16385350e-06j,\n",
        "                    -6.84244232e-08 - 5.00486817e-07j,\n",
        "                ],\n",
        "                [\n",
        "                    5.80662707e-03 - 1.11068869e-02j,\n",
        "                    5.30509661e-01 + 4.62504708e-01j,\n",
        "                    2.79291895e-09 + 2.79093540e-07j,\n",
        "                    -4.55645798e-06 + 1.50570403e-06j,\n",
        "                    6.84244128e-08 + 5.00486817e-07j,\n",
        "                    -3.55812153e-06 + 4.59781091e-07j,\n",
        "                ],\n",
        "                [\n",
        "                    -3.38542541e-01 - 6.15711852e-01j,\n",
        "                    -2.03847672e-03 + 2.10649131e-03j,\n",
        "                    5.07842364e-06 + 2.16385349e-06j,\n",
        "                    6.84244230e-08 + 5.00486816e-07j,\n",
        "                    7.60088070e-06 + 9.07340425e-07j,\n",
        "                    -2.79292467e-09 - 2.79093547e-07j,\n",
        "                ],\n",
        "                [\n",
        "                    -5.80662607e-03 + 1.11068863e-02j,\n",
        "                    5.30509662e-01 + 4.62504708e-01j,\n",
        "                    -6.84244296e-08 - 5.00486825e-07j,\n",
        "                    -3.55812153e-06 + 4.59781093e-07j,\n",
        "                    -2.79293217e-09 - 2.79093547e-07j,\n",
        "                    -4.55645798e-06 + 1.50570403e-06j,\n",
        "                ],\n",
        "            ]\n",
        "        ),\n",
        "        {\"in0\": 0, \"out0\": 2, \"out1\": 4},\n",
        "    ),\n",
        "    \"top\": {(\"in0\", \"out0\"): -0.99477 - 0.10211j, (\"out0\", \"in0\"): -0.99477 - 0.10211j},\n",
        "    \"rgt\": {\n",
        "        (\"in0\", \"out0\"): 0.7071067811865476,\n",
        "        (\"in0\", \"out1\"): 0.7071067811865476j,\n",
        "        (\"in1\", \"out0\"): 0.7071067811865476j,\n",
        "        (\"in1\", \"out1\"): 0.7071067811865476,\n",
        "        (\"out0\", \"in0\"): 0.7071067811865476,\n",
        "        (\"out1\", \"in0\"): 0.7071067811865476j,\n",
        "        (\"out0\", \"in1\"): 0.7071067811865476j,\n",
        "        (\"out1\", \"in1\"): 0.7071067811865476,\n",
        "    },\n",
        "}\n",
        "connections = {\"lft,out0\": \"rgt,in0\", \"lft,out1\": \"top,in0\", \"top,out0\": \"rgt,in1\"}\n",
        "ports = {\"in0\": \"lft,in0\", \"out0\": \"rgt,out0\"}"
      ]
    },
    {
      "cell_type": "code",
      "execution_count": 53,
      "id": "20de2839-e848-49a4-b70a-bf192744c344",
      "metadata": {
        "execution": {
          "iopub.execute_input": "2023-09-01T16:51:46.663078Z",
          "iopub.status.busy": "2023-09-01T16:51:46.662630Z",
          "iopub.status.idle": "2023-09-01T16:51:47.270697Z",
          "shell.execute_reply": "2023-09-01T16:51:47.270216Z"
        },
        "papermill": {
          "duration": 0.625908,
          "end_time": "2023-09-01T16:51:47.271976",
          "exception": false,
          "start_time": "2023-09-01T16:51:46.646068",
          "status": "completed"
        },
        "tags": []
      },
      "outputs": [
        {
          "data": {
            "text/plain": [
              "{('in0', 'in0'): Array(5.19688622e-06-1.19777138e-05j, dtype=complex128),\n",
              " ('in0', 'out0'): Array(-0.69692642-0.24169633j, dtype=complex128),\n",
              " ('out0', 'in0'): Array(-0.69692642-0.24169633j, dtype=complex128),\n",
              " ('out0', 'out0'): Array(2.84253212e-06-5.59351604e-06j, dtype=complex128)}"
            ]
          },
          "execution_count": 53,
          "metadata": {},
          "output_type": "execute_result"
        }
      ],
      "source": [
        "sax.sdict(evaluate_circuit(analyze_circuit(connections, ports), instances))"
      ]
    },
    {
      "cell_type": "code",
      "execution_count": 54,
      "id": "fc7b3ac4-4599-4748-a4b8-ec0a2e3927c8",
      "metadata": {
        "execution": {
          "iopub.execute_input": "2023-09-01T16:51:47.304864Z",
          "iopub.status.busy": "2023-09-01T16:51:47.304249Z",
          "iopub.status.idle": "2023-09-01T16:51:48.334393Z",
          "shell.execute_reply": "2023-09-01T16:51:48.333992Z"
        },
        "papermill": {
          "duration": 1.048158,
          "end_time": "2023-09-01T16:51:48.335968",
          "exception": false,
          "start_time": "2023-09-01T16:51:47.287810",
          "status": "completed"
        },
        "tags": []
      },
      "outputs": [
        {
          "data": {
            "text/plain": [
              "{('in0', 'in0'): Array(5.19688622e-06-1.19777138e-05j, dtype=complex128),\n",
              " ('in0', 'out0'): Array(-0.69692642-0.24169633j, dtype=complex128),\n",
              " ('out0', 'in0'): Array(-0.69692642-0.24169633j, dtype=complex128),\n",
              " ('out0', 'out0'): Array(2.84253212e-06-5.59351604e-06j, dtype=complex128)}"
            ]
          },
          "execution_count": 54,
          "metadata": {},
          "output_type": "execute_result"
        }
      ],
      "source": [
        "sax.sdict(evaluate_circuit_klu(analyze_circuit_klu(connections, ports), instances))"
      ]
    }
  ],
  "metadata": {
    "kernelspec": {
      "display_name": "sax",
      "language": "python",
      "name": "sax"
    },
    "language_info": {
      "codemirror_mode": {
        "name": "ipython",
        "version": 3
      },
      "file_extension": ".py",
      "mimetype": "text/x-python",
      "name": "python",
      "nbconvert_exporter": "python",
      "pygments_lexer": "ipython3",
      "version": "3.11.5"
    },
    "papermill": {
      "default_parameters": {},
      "duration": 10.497838,
      "end_time": "2023-09-01T16:51:48.970278",
      "environment_variables": {},
      "exception": null,
      "input_path": "./nbs/08b_backends_klu.ipynb",
      "output_path": "./nbs/08b_backends_klu.ipynb",
      "parameters": {},
      "start_time": "2023-09-01T16:51:38.472440",
      "version": "2.4.0"
    }
  },
  "nbformat": 4,
  "nbformat_minor": 5
}