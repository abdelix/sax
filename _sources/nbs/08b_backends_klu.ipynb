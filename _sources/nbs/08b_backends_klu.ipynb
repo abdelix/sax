{
  "cells": [
    {
      "cell_type": "code",
      "execution_count": 1,
      "id": "21aa754bea4aad4c",
      "metadata": {
        "execution": {
          "iopub.execute_input": "2023-07-01T03:32:37.569370Z",
          "iopub.status.busy": "2023-07-01T03:32:37.569131Z",
          "iopub.status.idle": "2023-07-01T03:32:37.573439Z",
          "shell.execute_reply": "2023-07-01T03:32:37.572975Z"
        },
        "papermill": {
          "duration": 0.023747,
          "end_time": "2023-07-01T03:32:37.579238",
          "exception": false,
          "start_time": "2023-07-01T03:32:37.555491",
          "status": "completed"
        },
        "tags": [
          "remove-cell"
        ]
      },
      "outputs": [],
      "source": []
    },
    {
      "cell_type": "markdown",
      "id": "27c3489e",
      "metadata": {
        "papermill": {
          "duration": 0.072911,
          "end_time": "2023-07-01T03:32:37.673526",
          "exception": false,
          "start_time": "2023-07-01T03:32:37.600615",
          "status": "completed"
        },
        "tags": []
      },
      "source": [
        "# Backend - KLU\n",
        "\n",
        "> SAX KLU Backend"
      ]
    },
    {
      "cell_type": "code",
      "execution_count": 2,
      "id": "3a48259438612cdd",
      "metadata": {
        "execution": {
          "iopub.execute_input": "2023-07-01T03:32:37.718917Z",
          "iopub.status.busy": "2023-07-01T03:32:37.718681Z",
          "iopub.status.idle": "2023-07-01T03:32:39.655319Z",
          "shell.execute_reply": "2023-07-01T03:32:39.654905Z"
        },
        "papermill": {
          "duration": 1.967843,
          "end_time": "2023-07-01T03:32:39.656970",
          "exception": false,
          "start_time": "2023-07-01T03:32:37.689127",
          "status": "completed"
        },
        "tags": [
          "remove-cell"
        ]
      },
      "outputs": [],
      "source": [
        "import sax\n",
        "import matplotlib.pyplot as plt\n",
        "from fastcore.test import test_eq\n",
        "from pytest import approx, raises\n",
        "from nbdev import show_doc\n",
        "\n",
        "import os, sys; sys.stderr = open(os.devnull, \"w\")"
      ]
    },
    {
      "cell_type": "code",
      "execution_count": 3,
      "id": "feb513d440f489bf",
      "metadata": {
        "execution": {
          "iopub.execute_input": "2023-07-01T03:32:39.680915Z",
          "iopub.status.busy": "2023-07-01T03:32:39.680456Z",
          "iopub.status.idle": "2023-07-01T03:32:39.684541Z",
          "shell.execute_reply": "2023-07-01T03:32:39.684151Z"
        },
        "papermill": {
          "duration": 0.018082,
          "end_time": "2023-07-01T03:32:39.686501",
          "exception": false,
          "start_time": "2023-07-01T03:32:39.668419",
          "status": "completed"
        },
        "tags": [
          "hide-input"
        ]
      },
      "outputs": [],
      "source": [
        "from __future__ import annotations\n",
        "\n",
        "from typing import Dict\n",
        "\n",
        "    \n",
        "from sax.typing_ import SDense, SDict, SType, scoo\n",
        "from sax.backends import evaluate_circuit\n",
        "\n",
        "try:\n",
        "    import klujax\n",
        "except ImportError:\n",
        "    klujax = None\n",
        "    \n",
        "try:\n",
        "    import jax\n",
        "    import jax.numpy as jnp\n",
        "    JAX_AVAILABLE = True\n",
        "except ImportError:\n",
        "    import numpy as jnp\n",
        "    JAX_AVAILABLE = False"
      ]
    },
    {
      "cell_type": "markdown",
      "id": "64e42767",
      "metadata": {
        "papermill": {
          "duration": 0.010919,
          "end_time": "2023-07-01T03:32:39.708334",
          "exception": false,
          "start_time": "2023-07-01T03:32:39.697415",
          "status": "completed"
        },
        "tags": []
      },
      "source": [
        "## Citation\n",
        "The KLU backend is using `klujax`, which uses the [SuiteSparse](https://github.com/DrTimothyAldenDavis/SuiteSparse) C++ libraries for sparse matrix evaluations to evaluate the circuit insanely fast on a CPU. The specific algorith being used in question is the KLU algorithm:\n",
        "\n",
        "> Ekanathan Palamadai Natariajan. \"*KLU - A high performance sparse linear solver for circuit simulation problems.*\""
      ]
    },
    {
      "cell_type": "markdown",
      "id": "2db5821c",
      "metadata": {
        "papermill": {
          "duration": 0.018198,
          "end_time": "2023-07-01T03:32:39.737331",
          "exception": false,
          "start_time": "2023-07-01T03:32:39.719133",
          "status": "completed"
        },
        "tags": []
      },
      "source": [
        "## Theoretical Background"
      ]
    },
    {
      "cell_type": "markdown",
      "id": "3d4d4a4c",
      "metadata": {
        "papermill": {
          "duration": 0.027204,
          "end_time": "2023-07-01T03:32:39.780375",
          "exception": false,
          "start_time": "2023-07-01T03:32:39.753171",
          "status": "completed"
        },
        "tags": []
      },
      "source": [
        "The core of the KLU algorithm is supported by `klujax`, which internally uses the Suitesparse libraries to solve the sparse system `Ax = b`, in which A is a sparse matrix."
      ]
    },
    {
      "cell_type": "markdown",
      "id": "a1985f58",
      "metadata": {
        "papermill": {
          "duration": 0.028319,
          "end_time": "2023-07-01T03:32:39.825547",
          "exception": false,
          "start_time": "2023-07-01T03:32:39.797228",
          "status": "completed"
        },
        "tags": []
      },
      "source": [
        "Now it only comes down to shoehorn our circuit evaluation into a sparse linear system of equations $Ax=b$ where we need to solve for $x$ using `klujax`. \n",
        "Consider the block diagonal matrix $S_{bd}$ of all components in the circuit acting on the fields $x_{in}$ at each of the individual ports of each of the component integrated in $S^{bd}$. The output fields $x^{out}$ at each of those ports is then given by:\n",
        "\n",
        "$$\n",
        "x^{out} = S_{bd} x^{in}\n",
        "$$"
      ]
    },
    {
      "cell_type": "markdown",
      "id": "9c26c04a",
      "metadata": {
        "papermill": {
          "duration": 0.021008,
          "end_time": "2023-07-01T03:32:39.867683",
          "exception": false,
          "start_time": "2023-07-01T03:32:39.846675",
          "status": "completed"
        },
        "tags": []
      },
      "source": [
        "However, $S_{bd}$ is not the S-matrix of the circuit as it does not encode any connectivity *between* the components. Connecting two component ports basically comes down to enforcing equality between the output fields at one port of a component with the input fields at another port of another (or maybe even the same) component. This equality can be enforced by creating an internal connection matrix, connecting all internal ports of the circuit:\n",
        "\n",
        "$$\n",
        "x^{in} = C_{int} x^{out}\n",
        "$$"
      ]
    },
    {
      "cell_type": "markdown",
      "id": "16b3fdad",
      "metadata": {
        "papermill": {
          "duration": 0.02091,
          "end_time": "2023-07-01T03:32:39.912917",
          "exception": false,
          "start_time": "2023-07-01T03:32:39.892007",
          "status": "completed"
        },
        "tags": []
      },
      "source": [
        "We can thus write the following combined equation:\n",
        "\n",
        "$$\n",
        "x^{in} = C_{int} S_{bd} x^{in}\n",
        "$$"
      ]
    },
    {
      "cell_type": "markdown",
      "id": "f5ceb9a2",
      "metadata": {
        "papermill": {
          "duration": 0.021173,
          "end_time": "2023-07-01T03:32:39.954292",
          "exception": false,
          "start_time": "2023-07-01T03:32:39.933119",
          "status": "completed"
        },
        "tags": []
      },
      "source": [
        "But this is not the complete story... Some component ports will *not* be *interconnected* with other ports: they will become the new *external ports* (or output ports) of the combined circuit. We can include those external ports into the above equation as follows:\n",
        "\n",
        "$$\n",
        "\\begin{pmatrix} x^{in} \\\\ x^{out}_{ext} \\end{pmatrix} = \\begin{pmatrix} C_{int} & C_{ext} \\\\ C_{ext}^T & 0 \\end{pmatrix} \\begin{pmatrix} S_{bd} x^{in} \\\\ x_{ext}^{in} \\end{pmatrix} \n",
        "$$"
      ]
    },
    {
      "cell_type": "markdown",
      "id": "6382a242",
      "metadata": {
        "papermill": {
          "duration": 0.025191,
          "end_time": "2023-07-01T03:32:39.999203",
          "exception": false,
          "start_time": "2023-07-01T03:32:39.974012",
          "status": "completed"
        },
        "tags": []
      },
      "source": [
        "Note that $C_{ext}$ is obviously **not** a square matrix. Eliminating $x^{in}$ from the equation above finally yields:\n",
        "\n",
        "$$\n",
        "x^{out}_{ext} = C^T_{ext} S_{bd} (\\mathbb{1} - C_{int}S_{bd})^{-1} C_{ext}x_{ext}^{in}\n",
        "$$"
      ]
    },
    {
      "cell_type": "markdown",
      "id": "5f15bdcd",
      "metadata": {
        "papermill": {
          "duration": 0.021982,
          "end_time": "2023-07-01T03:32:40.044160",
          "exception": false,
          "start_time": "2023-07-01T03:32:40.022178",
          "status": "completed"
        },
        "tags": []
      },
      "source": [
        "We basically found a representation of the circuit S-matrix:\n",
        "\n",
        "$$\n",
        "S = C^T_{ext} S_{bd} (\\mathbb{1} - C_{int}S_{bd})^{-1} C_{ext}\n",
        "$$"
      ]
    },
    {
      "cell_type": "markdown",
      "id": "40ad83b8",
      "metadata": {
        "papermill": {
          "duration": 0.010734,
          "end_time": "2023-07-01T03:32:40.068498",
          "exception": false,
          "start_time": "2023-07-01T03:32:40.057764",
          "status": "completed"
        },
        "tags": []
      },
      "source": [
        "Obviously, we won't want to calculate the inverse $(\\mathbb{1} - C_{int}S_{bd})^{-1}$, which is the inverse of a very sparse matrix (a connection matrix only has a single 1 per line), which very often is not even sparse itself. In stead we'll use the `solve_klu` function:\n",
        "\n",
        "$$\n",
        "S = C^T_{ext} S_{bd} \\texttt{solve}\\_\\texttt{klu}\\left((\\mathbb{1} - C_{int}S_{bd}), C_{ext}\\right)\n",
        "$$"
      ]
    },
    {
      "cell_type": "markdown",
      "id": "018fab3d",
      "metadata": {
        "papermill": {
          "duration": 0.010658,
          "end_time": "2023-07-01T03:32:40.089810",
          "exception": false,
          "start_time": "2023-07-01T03:32:40.079152",
          "status": "completed"
        },
        "tags": []
      },
      "source": [
        "Moreover, $C_{ext}^TS_{bd}$ is also a sparse matrix, therefore we'll also need a `mul_coo` routine:\n",
        "\n",
        "$$\n",
        "S = C^T_{ext} \\texttt{mul}\\_\\texttt{coo}\\left(S_{bd},~~\\texttt{solve}\\_\\texttt{klu}\\left((\\mathbb{1} - C_{int}S_{bd}),~C_{ext}\\right)\\right)\n",
        "$$"
      ]
    },
    {
      "cell_type": "markdown",
      "id": "d9b78852",
      "metadata": {
        "papermill": {
          "duration": 0.010667,
          "end_time": "2023-07-01T03:32:40.111131",
          "exception": false,
          "start_time": "2023-07-01T03:32:40.100464",
          "status": "completed"
        },
        "tags": []
      },
      "source": [
        "## Sparse Helper Functions"
      ]
    },
    {
      "cell_type": "code",
      "execution_count": 4,
      "id": "f4eda16dac3473ff",
      "metadata": {
        "execution": {
          "iopub.execute_input": "2023-07-01T03:32:40.133612Z",
          "iopub.status.busy": "2023-07-01T03:32:40.133365Z",
          "iopub.status.idle": "2023-07-01T03:32:40.136219Z",
          "shell.execute_reply": "2023-07-01T03:32:40.135818Z"
        },
        "papermill": {
          "duration": 0.01641,
          "end_time": "2023-07-01T03:32:40.138131",
          "exception": false,
          "start_time": "2023-07-01T03:32:40.121721",
          "status": "completed"
        },
        "tags": [
          "remove-input"
        ]
      },
      "outputs": [],
      "source": [
        "if klujax is not None:\n",
        "    show_doc(klujax.solve, doc_string=False, name=\"klujax.solve\")"
      ]
    },
    {
      "cell_type": "markdown",
      "id": "01299d5d",
      "metadata": {
        "papermill": {
          "duration": 0.010756,
          "end_time": "2023-07-01T03:32:40.159662",
          "exception": false,
          "start_time": "2023-07-01T03:32:40.148906",
          "status": "completed"
        },
        "tags": []
      },
      "source": [
        "`klujax.solve` solves the sparse system of equations `Ax=b` for `x`. Where `A` is represented by in [COO-format](https://en.wikipedia.org/wiki/Sparse_matrix#Coordinate_list_(COO)) as (`Ai`, `Aj`, `Ax`).\n",
        "\n",
        "> Example"
      ]
    },
    {
      "cell_type": "code",
      "execution_count": 5,
      "id": "63e7977a",
      "metadata": {
        "execution": {
          "iopub.execute_input": "2023-07-01T03:32:40.182362Z",
          "iopub.status.busy": "2023-07-01T03:32:40.182115Z",
          "iopub.status.idle": "2023-07-01T03:32:40.199052Z",
          "shell.execute_reply": "2023-07-01T03:32:40.198686Z"
        },
        "papermill": {
          "duration": 0.029893,
          "end_time": "2023-07-01T03:32:40.200432",
          "exception": false,
          "start_time": "2023-07-01T03:32:40.170539",
          "status": "completed"
        },
        "tags": []
      },
      "outputs": [
        {
          "data": {
            "text/plain": [
              "Array([6. , 1. , 0.5, 0.5, 2. ], dtype=float32)"
            ]
          },
          "execution_count": 5,
          "metadata": {},
          "output_type": "execute_result"
        }
      ],
      "source": [
        "Ai = jnp.array([0, 1, 2, 3, 4])\n",
        "Aj = jnp.array([1, 3, 4, 0, 2])\n",
        "Ax = jnp.array([5, 6, 1, 1, 2])\n",
        "b = jnp.array([5, 3, 2, 6, 1])\n",
        "\n",
        "if klujax is not None:\n",
        "    x = klujax.solve(Ai, Aj, Ax, b)\n",
        "else:\n",
        "    x = jnp.array([6.0, 1.0, 0.5, 0.5, 2.0])\n",
        "\n",
        "x"
      ]
    },
    {
      "cell_type": "markdown",
      "id": "3233b04c",
      "metadata": {
        "papermill": {
          "duration": 0.011069,
          "end_time": "2023-07-01T03:32:40.222879",
          "exception": false,
          "start_time": "2023-07-01T03:32:40.211810",
          "status": "completed"
        },
        "tags": []
      },
      "source": [
        "This result is indeed correct:"
      ]
    },
    {
      "cell_type": "code",
      "execution_count": 6,
      "id": "629bbc71",
      "metadata": {
        "execution": {
          "iopub.execute_input": "2023-07-01T03:32:40.246096Z",
          "iopub.status.busy": "2023-07-01T03:32:40.245863Z",
          "iopub.status.idle": "2023-07-01T03:32:40.428465Z",
          "shell.execute_reply": "2023-07-01T03:32:40.428040Z"
        },
        "papermill": {
          "duration": 0.196208,
          "end_time": "2023-07-01T03:32:40.429931",
          "exception": false,
          "start_time": "2023-07-01T03:32:40.233723",
          "status": "completed"
        },
        "tags": []
      },
      "outputs": [
        {
          "name": "stdout",
          "output_type": "stream",
          "text": [
            "[[0. 5. 0. 0. 0.]\n",
            " [0. 0. 0. 6. 0.]\n",
            " [0. 0. 0. 0. 1.]\n",
            " [1. 0. 0. 0. 0.]\n",
            " [0. 0. 2. 0. 0.]]\n",
            "[5. 3. 2. 6. 1.]\n"
          ]
        }
      ],
      "source": [
        "if JAX_AVAILABLE:\n",
        "    A = jnp.zeros((5, 5)).at[Ai, Aj].set(Ax)\n",
        "    print(A)\n",
        "    print(A@x)"
      ]
    },
    {
      "cell_type": "markdown",
      "id": "c7fe6547",
      "metadata": {
        "papermill": {
          "duration": 0.024524,
          "end_time": "2023-07-01T03:32:40.467734",
          "exception": false,
          "start_time": "2023-07-01T03:32:40.443210",
          "status": "completed"
        },
        "tags": []
      },
      "source": [
        "However, to use this function effectively, we probably need an extra dimension for `Ax`. Indeed, we would like to solve this equation for multiple wavelengths (or more general, for multiple circuit configurations) at once. For this we can use `jax.vmap` to expose `klujax.solve` to more dimensions for `Ax`:"
      ]
    },
    {
      "cell_type": "code",
      "execution_count": 7,
      "id": "4e255ec8893cde08",
      "metadata": {
        "execution": {
          "iopub.execute_input": "2023-07-01T03:32:40.514640Z",
          "iopub.status.busy": "2023-07-01T03:32:40.514397Z",
          "iopub.status.idle": "2023-07-01T03:32:40.517276Z",
          "shell.execute_reply": "2023-07-01T03:32:40.516874Z"
        },
        "papermill": {
          "duration": 0.02836,
          "end_time": "2023-07-01T03:32:40.520430",
          "exception": false,
          "start_time": "2023-07-01T03:32:40.492070",
          "status": "completed"
        },
        "tags": []
      },
      "outputs": [],
      "source": [
        "solve_klu = None\n",
        "if klujax is not None:\n",
        "    solve_klu = jax.vmap(klujax.solve, (None, None, 0, None), 0)"
      ]
    },
    {
      "cell_type": "code",
      "execution_count": 8,
      "id": "f7f0f935287cfcdf",
      "metadata": {
        "execution": {
          "iopub.execute_input": "2023-07-01T03:32:40.559046Z",
          "iopub.status.busy": "2023-07-01T03:32:40.558729Z",
          "iopub.status.idle": "2023-07-01T03:32:40.562984Z",
          "shell.execute_reply": "2023-07-01T03:32:40.562613Z"
        },
        "papermill": {
          "duration": 0.021745,
          "end_time": "2023-07-01T03:32:40.565472",
          "exception": false,
          "start_time": "2023-07-01T03:32:40.543727",
          "status": "completed"
        },
        "tags": [
          "remove-input"
        ]
      },
      "outputs": [
        {
          "data": {
            "text/markdown": [
              "<h4 id=\"solve_klu\" class=\"doc_header\"><code>solve_klu</code><a href=\"\" class=\"source_link\" style=\"float:right\">[source]</a></h4>\n",
              "\n"
            ],
            "text/plain": [
              "<IPython.core.display.Markdown object>"
            ]
          },
          "metadata": {},
          "output_type": "display_data"
        }
      ],
      "source": [
        "show_doc(solve_klu, doc_string=False, name=\"solve_klu\")"
      ]
    },
    {
      "cell_type": "markdown",
      "id": "6707049d",
      "metadata": {
        "papermill": {
          "duration": 0.011127,
          "end_time": "2023-07-01T03:32:40.587847",
          "exception": false,
          "start_time": "2023-07-01T03:32:40.576720",
          "status": "completed"
        },
        "tags": []
      },
      "source": [
        "Let's now redefine `Ax` and see what it gives:"
      ]
    },
    {
      "cell_type": "code",
      "execution_count": 9,
      "id": "d4d7b6f9",
      "metadata": {
        "execution": {
          "iopub.execute_input": "2023-07-01T03:32:40.610821Z",
          "iopub.status.busy": "2023-07-01T03:32:40.610630Z",
          "iopub.status.idle": "2023-07-01T03:32:40.619668Z",
          "shell.execute_reply": "2023-07-01T03:32:40.619308Z"
        },
        "papermill": {
          "duration": 0.022028,
          "end_time": "2023-07-01T03:32:40.620950",
          "exception": false,
          "start_time": "2023-07-01T03:32:40.598922",
          "status": "completed"
        },
        "tags": []
      },
      "outputs": [
        {
          "data": {
            "text/plain": [
              "Array([[6.       , 1.       , 0.5      , 0.5      , 2.       ],\n",
              "       [3.       , 1.       , 1.       , 0.75     , 0.6666667],\n",
              "       [1.5      , 5.       , 0.2      , 1.5      , 0.6666667]],      dtype=float32)"
            ]
          },
          "execution_count": 9,
          "metadata": {},
          "output_type": "execute_result"
        }
      ],
      "source": [
        "Ai = jnp.array([0, 1, 2, 3, 4])\n",
        "Aj = jnp.array([1, 3, 4, 0, 2])\n",
        "Ax = jnp.array([[5, 6, 1, 1, 2], [5, 4, 3, 2, 1], [1, 2, 3, 4, 5]])\n",
        "b = jnp.array([5, 3, 2, 6, 1])\n",
        "if klujax is not None:\n",
        "    x = solve_klu(Ai, Aj, Ax, b)\n",
        "else:\n",
        "    x = jnp.array([\n",
        "        [6.0, 1.0, 0.5, 0.5, 2.0],\n",
        "        [3.0, 1.0, 1.0, 0.75, 0.66666667],\n",
        "        [1.5, 5.0, 0.2, 1.5, 0.66666667],\n",
        "    ])\n",
        "    \n",
        "x"
      ]
    },
    {
      "cell_type": "markdown",
      "id": "5f342c6f",
      "metadata": {
        "papermill": {
          "duration": 0.011194,
          "end_time": "2023-07-01T03:32:40.643374",
          "exception": false,
          "start_time": "2023-07-01T03:32:40.632180",
          "status": "completed"
        },
        "tags": []
      },
      "source": [
        "This result is indeed correct:"
      ]
    },
    {
      "cell_type": "code",
      "execution_count": 10,
      "id": "0afefaa6",
      "metadata": {
        "execution": {
          "iopub.execute_input": "2023-07-01T03:32:40.666851Z",
          "iopub.status.busy": "2023-07-01T03:32:40.666636Z",
          "iopub.status.idle": "2023-07-01T03:32:40.762374Z",
          "shell.execute_reply": "2023-07-01T03:32:40.761869Z"
        },
        "papermill": {
          "duration": 0.109424,
          "end_time": "2023-07-01T03:32:40.764052",
          "exception": false,
          "start_time": "2023-07-01T03:32:40.654628",
          "status": "completed"
        },
        "tags": []
      },
      "outputs": [],
      "source": [
        "if JAX_AVAILABLE:\n",
        "    A = jnp.zeros((3, 5, 5)).at[:, Ai, Aj].set(Ax)\n",
        "    jnp.einsum(\"ijk,ik->ij\", A, x)"
      ]
    },
    {
      "cell_type": "markdown",
      "id": "7ed8f62d",
      "metadata": {
        "papermill": {
          "duration": 0.026003,
          "end_time": "2023-07-01T03:32:40.802679",
          "exception": false,
          "start_time": "2023-07-01T03:32:40.776676",
          "status": "completed"
        },
        "tags": []
      },
      "source": [
        "Additionally, we need a way to multiply a sparse COO-matrix with a dense vector. This can be done with `klujax.coo_mul_vec`:"
      ]
    },
    {
      "cell_type": "code",
      "execution_count": 11,
      "id": "60a8fbb32d30b344",
      "metadata": {
        "execution": {
          "iopub.execute_input": "2023-07-01T03:32:40.851531Z",
          "iopub.status.busy": "2023-07-01T03:32:40.851300Z",
          "iopub.status.idle": "2023-07-01T03:32:40.854014Z",
          "shell.execute_reply": "2023-07-01T03:32:40.853634Z"
        },
        "papermill": {
          "duration": 0.030892,
          "end_time": "2023-07-01T03:32:40.857520",
          "exception": false,
          "start_time": "2023-07-01T03:32:40.826628",
          "status": "completed"
        },
        "tags": [
          "remove-input"
        ]
      },
      "outputs": [],
      "source": [
        "\n",
        "if klujax is not None:\n",
        "    show_doc(klujax.coo_mul_vec, doc_string=False, name=\"klujax.coo_mul_vec\")"
      ]
    },
    {
      "cell_type": "markdown",
      "id": "7f57c443",
      "metadata": {
        "papermill": {
          "duration": 0.020262,
          "end_time": "2023-07-01T03:32:40.901519",
          "exception": false,
          "start_time": "2023-07-01T03:32:40.881257",
          "status": "completed"
        },
        "tags": []
      },
      "source": [
        "However, it's useful to allow a batch dimension, this time *both* in `Ax` and in `b`:"
      ]
    },
    {
      "cell_type": "code",
      "execution_count": 12,
      "id": "0de9d093bcf21f88",
      "metadata": {
        "execution": {
          "iopub.execute_input": "2023-07-01T03:32:40.950911Z",
          "iopub.status.busy": "2023-07-01T03:32:40.950677Z",
          "iopub.status.idle": "2023-07-01T03:32:40.953020Z",
          "shell.execute_reply": "2023-07-01T03:32:40.952648Z"
        },
        "papermill": {
          "duration": 0.029577,
          "end_time": "2023-07-01T03:32:40.955723",
          "exception": false,
          "start_time": "2023-07-01T03:32:40.926146",
          "status": "completed"
        },
        "tags": [
          "remove-cell"
        ]
      },
      "outputs": [],
      "source": [
        "\n",
        "# @jax.jit  # TODO: make this available to autograd\n",
        "# def mul_coo(Ai, Aj, Ax, b):\n",
        "#     result = jnp.zeros_like(b).at[..., Ai, :].add(Ax[..., :, None] * b[..., Aj, :])\n",
        "#     return result"
      ]
    },
    {
      "cell_type": "code",
      "execution_count": 13,
      "id": "a41d6bb41f6e1357",
      "metadata": {
        "execution": {
          "iopub.execute_input": "2023-07-01T03:32:41.005280Z",
          "iopub.status.busy": "2023-07-01T03:32:41.005059Z",
          "iopub.status.idle": "2023-07-01T03:32:41.007817Z",
          "shell.execute_reply": "2023-07-01T03:32:41.007456Z"
        },
        "papermill": {
          "duration": 0.035216,
          "end_time": "2023-07-01T03:32:41.008898",
          "exception": false,
          "start_time": "2023-07-01T03:32:40.973682",
          "status": "completed"
        },
        "tags": []
      },
      "outputs": [],
      "source": [
        "mul_coo = None \n",
        "if klujax is not None:\n",
        "    mul_coo = jax.vmap(klujax.coo_mul_vec, (None, None, 0, 0), 0)"
      ]
    },
    {
      "cell_type": "code",
      "execution_count": 14,
      "id": "37cae58869835598",
      "metadata": {
        "execution": {
          "iopub.execute_input": "2023-07-01T03:32:41.037805Z",
          "iopub.status.busy": "2023-07-01T03:32:41.037575Z",
          "iopub.status.idle": "2023-07-01T03:32:41.040940Z",
          "shell.execute_reply": "2023-07-01T03:32:41.040582Z"
        },
        "papermill": {
          "duration": 0.016775,
          "end_time": "2023-07-01T03:32:41.042129",
          "exception": false,
          "start_time": "2023-07-01T03:32:41.025354",
          "status": "completed"
        },
        "tags": [
          "remove-input"
        ]
      },
      "outputs": [
        {
          "data": {
            "text/markdown": [
              "<h4 id=\"mul_coo\" class=\"doc_header\"><code>mul_coo</code><a href=\"\" class=\"source_link\" style=\"float:right\">[source]</a></h4>\n",
              "\n"
            ],
            "text/plain": [
              "<IPython.core.display.Markdown object>"
            ]
          },
          "metadata": {},
          "output_type": "display_data"
        }
      ],
      "source": [
        "show_doc(mul_coo, doc_string=False, name=\"mul_coo\")"
      ]
    },
    {
      "cell_type": "markdown",
      "id": "d26cc3d9",
      "metadata": {
        "papermill": {
          "duration": 0.021713,
          "end_time": "2023-07-01T03:32:41.081680",
          "exception": false,
          "start_time": "2023-07-01T03:32:41.059967",
          "status": "completed"
        },
        "tags": []
      },
      "source": [
        "Let's confirm this does the right thing:"
      ]
    },
    {
      "cell_type": "code",
      "execution_count": 15,
      "id": "bd868973",
      "metadata": {
        "execution": {
          "iopub.execute_input": "2023-07-01T03:32:41.130850Z",
          "iopub.status.busy": "2023-07-01T03:32:41.130622Z",
          "iopub.status.idle": "2023-07-01T03:32:41.135567Z",
          "shell.execute_reply": "2023-07-01T03:32:41.135211Z"
        },
        "papermill": {
          "duration": 0.03224,
          "end_time": "2023-07-01T03:32:41.138035",
          "exception": false,
          "start_time": "2023-07-01T03:32:41.105795",
          "status": "completed"
        },
        "tags": []
      },
      "outputs": [
        {
          "data": {
            "text/plain": [
              "Array([[5., 3., 2., 6., 1.],\n",
              "       [5., 3., 2., 6., 1.],\n",
              "       [5., 3., 2., 6., 1.]], dtype=float32)"
            ]
          },
          "execution_count": 15,
          "metadata": {},
          "output_type": "execute_result"
        }
      ],
      "source": [
        "if klujax is not None:\n",
        "    result = mul_coo(Ai, Aj, Ax, x)\n",
        "else:\n",
        "    result = jnp.array([\n",
        "        [5.0, 3.0, 2.0, 6.0, 1.0],\n",
        "        [5.0, 3.0, 2.00000001, 6.0, 1.0],\n",
        "        [5.0, 3.0, 2.00000001, 6.0, 1.0],\n",
        "    ])\n",
        "    \n",
        "result"
      ]
    },
    {
      "cell_type": "markdown",
      "id": "d71e89fa",
      "metadata": {
        "papermill": {
          "duration": 0.011509,
          "end_time": "2023-07-01T03:32:41.161218",
          "exception": false,
          "start_time": "2023-07-01T03:32:41.149709",
          "status": "completed"
        },
        "tags": []
      },
      "source": [
        "## Circuit Evaluation"
      ]
    },
    {
      "cell_type": "markdown",
      "id": "c44fd7d04276d521",
      "metadata": {},
      "source": [
        ":::{eval-rst}\n",
        ".. autofunction:: sax.backends.klu.evaluate_circuit_klu\n",
        ":::\n"
      ]
    },
    {
      "cell_type": "code",
      "execution_count": 16,
      "id": "ed0b00a07347ad4f",
      "metadata": {
        "execution": {
          "iopub.execute_input": "2023-07-01T03:32:41.185499Z",
          "iopub.status.busy": "2023-07-01T03:32:41.185278Z",
          "iopub.status.idle": "2023-07-01T03:32:41.198997Z",
          "shell.execute_reply": "2023-07-01T03:32:41.198648Z"
        },
        "papermill": {
          "duration": 0.027415,
          "end_time": "2023-07-01T03:32:41.200336",
          "exception": false,
          "start_time": "2023-07-01T03:32:41.172921",
          "status": "completed"
        },
        "tags": [
          "hide-input"
        ]
      },
      "outputs": [],
      "source": [
        "def evaluate_circuit_klu(\n",
        "    instances: Dict[str, SType],\n",
        "    connections: Dict[str, str],\n",
        "    ports: Dict[str, str],\n",
        "):\n",
        "    \"\"\"evaluate a circuit using KLU for the given sdicts. \"\"\"\n",
        "\n",
        "    if klujax is None:\n",
        "        raise ImportError(\n",
        "            \"Could not import 'klujax'. \"\n",
        "            \"Please install it first before using backend method 'klu'\"\n",
        "        )\n",
        "\n",
        "    assert solve_klu is not None\n",
        "    assert mul_coo is not None\n",
        "\n",
        "    connections = {**connections, **{v: k for k, v in connections.items()}}\n",
        "    inverse_ports = {v: k for k, v in ports.items()}\n",
        "    port_map = {k: i for i, k in enumerate(ports)}\n",
        "\n",
        "    idx, Si, Sj, Sx, instance_ports = 0, [], [], [], {}\n",
        "    batch_shape = ()\n",
        "    for name, instance in instances.items():\n",
        "        si, sj, sx, ports_map = scoo(instance)\n",
        "        Si.append(si + idx)\n",
        "        Sj.append(sj + idx)\n",
        "        Sx.append(sx)\n",
        "        if len(sx.shape[:-1]) > len(batch_shape):\n",
        "            batch_shape = sx.shape[:-1]\n",
        "        instance_ports.update({f\"{name},{p}\": i + idx for p, i in ports_map.items()})\n",
        "        idx += len(ports_map)\n",
        "\n",
        "    Si = jnp.concatenate(Si, -1)\n",
        "    Sj = jnp.concatenate(Sj, -1)\n",
        "    Sx = jnp.concatenate(\n",
        "        [jnp.broadcast_to(sx, (*batch_shape, sx.shape[-1])) for sx in Sx], -1\n",
        "    )\n",
        "\n",
        "    n_col = idx\n",
        "    n_rhs = len(port_map)\n",
        "\n",
        "    Cmap = {\n",
        "        int(instance_ports[k]): int(instance_ports[v]) for k, v in connections.items()\n",
        "    }\n",
        "    Ci = jnp.array(list(Cmap.keys()), dtype=jnp.int32)\n",
        "    Cj = jnp.array(list(Cmap.values()), dtype=jnp.int32)\n",
        "\n",
        "    Cextmap = {int(instance_ports[k]): int(port_map[v]) for k, v in inverse_ports.items()}\n",
        "    Cexti = jnp.stack(list(Cextmap.keys()), 0)\n",
        "    Cextj = jnp.stack(list(Cextmap.values()), 0)\n",
        "    Cext = jnp.zeros((n_col, n_rhs), dtype=complex).at[Cexti, Cextj].set(1.0)\n",
        "\n",
        "    # TODO: make this block jittable...\n",
        "    Ix = jnp.ones((*batch_shape, n_col))\n",
        "    Ii = Ij = jnp.arange(n_col)\n",
        "    mask = Cj[None,:] == Si[:, None]\n",
        "    CSi = jnp.broadcast_to(Ci[None, :], mask.shape)[mask]\n",
        "\n",
        "    # CSi = jnp.where(Cj[None, :] == Si[:, None], Ci[None, :], 0).sum(1)\n",
        "    mask = (Cj[:, None] == Si[None, :]).any(0)\n",
        "    CSj = Sj[mask]\n",
        "    \n",
        "    if Sx.ndim > 1: # bug in JAX... see https://github.com/google/jax/issues/9050\n",
        "        CSx = Sx[..., mask]\n",
        "    else:\n",
        "        CSx = Sx[mask]\n",
        "        \n",
        "    # CSj = jnp.where(mask, Sj, 0)\n",
        "    # CSx = jnp.where(mask, Sx, 0.0)\n",
        "\n",
        "    I_CSi = jnp.concatenate([CSi, Ii], -1)\n",
        "    I_CSj = jnp.concatenate([CSj, Ij], -1)\n",
        "    I_CSx = jnp.concatenate([-CSx, Ix], -1)\n",
        "\n",
        "    n_col, n_rhs = Cext.shape\n",
        "    n_lhs = jnp.prod(jnp.array(batch_shape, dtype=jnp.int32))\n",
        "    Sx = Sx.reshape(n_lhs, -1)\n",
        "    I_CSx = I_CSx.reshape(n_lhs, -1)\n",
        "\n",
        "    inv_I_CS_Cext = solve_klu(I_CSi, I_CSj, I_CSx, Cext)\n",
        "    S_inv_I_CS_Cext = mul_coo(Si, Sj, Sx, inv_I_CS_Cext)\n",
        "\n",
        "    CextT_S_inv_I_CS_Cext = S_inv_I_CS_Cext[..., Cexti, :][..., :, Cextj]\n",
        "    \n",
        "    _, n, _ = CextT_S_inv_I_CS_Cext.shape\n",
        "    S = CextT_S_inv_I_CS_Cext.reshape(*batch_shape, n, n)\n",
        "\n",
        "    return S, port_map"
      ]
    },
    {
      "cell_type": "markdown",
      "id": "dce9d8ca",
      "metadata": {
        "papermill": {
          "duration": 0.011571,
          "end_time": "2023-07-01T03:32:41.223777",
          "exception": false,
          "start_time": "2023-07-01T03:32:41.212206",
          "status": "completed"
        },
        "tags": []
      },
      "source": [
        "## Example"
      ]
    },
    {
      "cell_type": "code",
      "execution_count": 17,
      "id": "874aedb56c6f232c",
      "metadata": {
        "execution": {
          "iopub.execute_input": "2023-07-01T03:32:41.248209Z",
          "iopub.status.busy": "2023-07-01T03:32:41.247999Z",
          "iopub.status.idle": "2023-07-01T03:32:41.251034Z",
          "shell.execute_reply": "2023-07-01T03:32:41.250653Z"
        },
        "papermill": {
          "duration": 0.01741,
          "end_time": "2023-07-01T03:32:41.252778",
          "exception": false,
          "start_time": "2023-07-01T03:32:41.235368",
          "status": "completed"
        },
        "tags": [
          "remove-cell"
        ]
      },
      "outputs": [],
      "source": [
        "if klujax is None:\n",
        "    def evaluate_circuit_klu(\n",
        "        instances: Dict[str, SType],\n",
        "        connections: Dict[str, str],\n",
        "        ports: Dict[str, str],\n",
        "    ):\n",
        "        sdict = evaluate_circuit(instances, connections, ports)\n",
        "        sdense = sax.sdense(sdict)\n",
        "        return sdense"
      ]
    },
    {
      "cell_type": "code",
      "execution_count": 18,
      "id": "f577522a",
      "metadata": {
        "execution": {
          "iopub.execute_input": "2023-07-01T03:32:41.291038Z",
          "iopub.status.busy": "2023-07-01T03:32:41.290832Z",
          "iopub.status.idle": "2023-07-01T03:32:42.545351Z",
          "shell.execute_reply": "2023-07-01T03:32:42.544927Z"
        },
        "papermill": {
          "duration": 1.274374,
          "end_time": "2023-07-01T03:32:42.546819",
          "exception": false,
          "start_time": "2023-07-01T03:32:41.272445",
          "status": "completed"
        },
        "tags": []
      },
      "outputs": [],
      "source": [
        "wg_sdict: SDict = {\n",
        "    (\"in0\", \"out0\"): 0.5 + 0.86603j,\n",
        "    (\"out0\", \"in0\"): 0.5 + 0.86603j,\n",
        "}\n",
        "\n",
        "\u03c4, \u03ba = 0.5 ** 0.5, 1j * 0.5 ** 0.5\n",
        "dc_sdense: SDense = (\n",
        "    jnp.array([[0, 0, \u03c4, \u03ba], \n",
        "               [0, 0, \u03ba, \u03c4], \n",
        "               [\u03c4, \u03ba, 0, 0], \n",
        "               [\u03ba, \u03c4, 0, 0]]),\n",
        "    {\"in0\": 0, \"in1\": 1, \"out0\": 2, \"out1\": 3},\n",
        ")\n",
        "\n",
        "mzi_sdense: SDense = evaluate_circuit_klu(\n",
        "    instances={\n",
        "        \"dc1\": dc_sdense,\n",
        "        \"wg\": wg_sdict,\n",
        "        \"dc2\": dc_sdense,\n",
        "    },\n",
        "    connections={\n",
        "        \"dc1,out0\": \"wg,in0\",\n",
        "        \"wg,out0\": \"dc2,in0\",\n",
        "        \"dc1,out1\": \"dc2,in1\",\n",
        "    },\n",
        "    ports={\n",
        "        \"in0\": \"dc1,in0\",\n",
        "        \"in1\": \"dc1,in1\",\n",
        "        \"out0\": \"dc2,out0\",\n",
        "        \"out1\": \"dc2,out1\",\n",
        "    }\n",
        ")"
      ]
    },
    {
      "cell_type": "markdown",
      "id": "60b6d1e6",
      "metadata": {
        "papermill": {
          "duration": 0.011747,
          "end_time": "2023-07-01T03:32:42.571065",
          "exception": false,
          "start_time": "2023-07-01T03:32:42.559318",
          "status": "completed"
        },
        "tags": []
      },
      "source": [
        "the KLU backend yields `SDense` results by default:"
      ]
    },
    {
      "cell_type": "code",
      "execution_count": 19,
      "id": "ecc3115e",
      "metadata": {
        "execution": {
          "iopub.execute_input": "2023-07-01T03:32:42.595744Z",
          "iopub.status.busy": "2023-07-01T03:32:42.595429Z",
          "iopub.status.idle": "2023-07-01T03:32:42.599694Z",
          "shell.execute_reply": "2023-07-01T03:32:42.599255Z"
        },
        "papermill": {
          "duration": 0.018577,
          "end_time": "2023-07-01T03:32:42.601387",
          "exception": false,
          "start_time": "2023-07-01T03:32:42.582810",
          "status": "completed"
        },
        "tags": []
      },
      "outputs": [
        {
          "data": {
            "text/plain": [
              "(Array([[ 0.        +0.j        ,  0.        +0.j        ,\n",
              "         -0.24999999+0.433015j  , -0.433015  +0.74999994j],\n",
              "        [ 0.        +0.j        ,  0.        +0.j        ,\n",
              "         -0.433015  +0.74999994j,  0.24999999-0.433015j  ],\n",
              "        [-0.24999999+0.433015j  , -0.433015  +0.74999994j,\n",
              "          0.        +0.j        ,  0.        +0.j        ],\n",
              "        [-0.433015  +0.74999994j,  0.24999999-0.433015j  ,\n",
              "          0.        +0.j        ,  0.        +0.j        ]],      dtype=complex64),\n",
              " {'in0': 0, 'in1': 1, 'out0': 2, 'out1': 3})"
            ]
          },
          "execution_count": 19,
          "metadata": {},
          "output_type": "execute_result"
        }
      ],
      "source": [
        "mzi_sdense"
      ]
    },
    {
      "cell_type": "markdown",
      "id": "4b8e87f3",
      "metadata": {
        "papermill": {
          "duration": 0.01182,
          "end_time": "2023-07-01T03:32:42.625103",
          "exception": false,
          "start_time": "2023-07-01T03:32:42.613283",
          "status": "completed"
        },
        "tags": []
      },
      "source": [
        "An `SDense` is returned for perfomance reasons. By returning an `SDense` by default we prevent any internal `SDict -> SDense` conversions in deeply hierarchical circuits. It's however very easy to convert `SDense` to `SDict` as a final step. To do this, wrap the result (or the function generating the result) with `sdict`:"
      ]
    },
    {
      "cell_type": "code",
      "execution_count": 20,
      "id": "7202ab1e",
      "metadata": {
        "execution": {
          "iopub.execute_input": "2023-07-01T03:32:42.649968Z",
          "iopub.status.busy": "2023-07-01T03:32:42.649659Z",
          "iopub.status.idle": "2023-07-01T03:32:42.668957Z",
          "shell.execute_reply": "2023-07-01T03:32:42.668493Z"
        },
        "papermill": {
          "duration": 0.033233,
          "end_time": "2023-07-01T03:32:42.670167",
          "exception": false,
          "start_time": "2023-07-01T03:32:42.636934",
          "status": "completed"
        },
        "tags": []
      },
      "outputs": [
        {
          "data": {
            "text/plain": [
              "{('in0', 'in0'): Array(0.+0.j, dtype=complex64),\n",
              " ('in0', 'in1'): Array(0.+0.j, dtype=complex64),\n",
              " ('in0', 'out0'): Array(-0.24999999+0.433015j, dtype=complex64),\n",
              " ('in0', 'out1'): Array(-0.433015+0.74999994j, dtype=complex64),\n",
              " ('in1', 'in0'): Array(0.+0.j, dtype=complex64),\n",
              " ('in1', 'in1'): Array(0.+0.j, dtype=complex64),\n",
              " ('in1', 'out0'): Array(-0.433015+0.74999994j, dtype=complex64),\n",
              " ('in1', 'out1'): Array(0.24999999-0.433015j, dtype=complex64),\n",
              " ('out0', 'in0'): Array(-0.24999999+0.433015j, dtype=complex64),\n",
              " ('out0', 'in1'): Array(-0.433015+0.74999994j, dtype=complex64),\n",
              " ('out0', 'out0'): Array(0.+0.j, dtype=complex64),\n",
              " ('out0', 'out1'): Array(0.+0.j, dtype=complex64),\n",
              " ('out1', 'in0'): Array(-0.433015+0.74999994j, dtype=complex64),\n",
              " ('out1', 'in1'): Array(0.24999999-0.433015j, dtype=complex64),\n",
              " ('out1', 'out0'): Array(0.+0.j, dtype=complex64),\n",
              " ('out1', 'out1'): Array(0.+0.j, dtype=complex64)}"
            ]
          },
          "execution_count": 20,
          "metadata": {},
          "output_type": "execute_result"
        }
      ],
      "source": [
        "sax.sdict(mzi_sdense)"
      ]
    },
    {
      "cell_type": "markdown",
      "id": "9f8cd5ea",
      "metadata": {
        "papermill": {
          "duration": 0.012106,
          "end_time": "2023-07-01T03:32:42.695134",
          "exception": false,
          "start_time": "2023-07-01T03:32:42.683028",
          "status": "completed"
        },
        "tags": []
      },
      "source": [
        "## Algorithm Walkthrough"
      ]
    },
    {
      "cell_type": "code",
      "execution_count": 21,
      "id": "665c856d",
      "metadata": {
        "execution": {
          "iopub.execute_input": "2023-07-01T03:32:42.720670Z",
          "iopub.status.busy": "2023-07-01T03:32:42.720346Z",
          "iopub.status.idle": "2023-07-01T03:32:42.723580Z",
          "shell.execute_reply": "2023-07-01T03:32:42.723120Z"
        },
        "papermill": {
          "duration": 0.017872,
          "end_time": "2023-07-01T03:32:42.725132",
          "exception": false,
          "start_time": "2023-07-01T03:32:42.707260",
          "status": "completed"
        },
        "tags": []
      },
      "outputs": [],
      "source": [
        "instances={\n",
        "    \"dc1\": dc_sdense,\n",
        "    \"wg\": wg_sdict,\n",
        "    \"dc2\": dc_sdense,\n",
        "}\n",
        "connections={\n",
        "    \"dc1,out0\": \"wg,in0\",\n",
        "    \"wg,out0\": \"dc2,in0\",\n",
        "    \"dc1,out1\": \"dc2,in1\",\n",
        "}\n",
        "ports={\n",
        "    \"in0\": \"dc1,in0\",\n",
        "    \"in1\": \"dc1,in1\",\n",
        "    \"out0\": \"dc2,out0\",\n",
        "    \"out1\": \"dc2,out1\",\n",
        "}"
      ]
    },
    {
      "cell_type": "markdown",
      "id": "b5bf5188",
      "metadata": {
        "papermill": {
          "duration": 0.012,
          "end_time": "2023-07-01T03:32:42.749186",
          "exception": false,
          "start_time": "2023-07-01T03:32:42.737186",
          "status": "completed"
        },
        "tags": []
      },
      "source": [
        "Let's first enforce $C^T = C$:"
      ]
    },
    {
      "cell_type": "code",
      "execution_count": 22,
      "id": "6d7d4c39",
      "metadata": {
        "execution": {
          "iopub.execute_input": "2023-07-01T03:32:42.774620Z",
          "iopub.status.busy": "2023-07-01T03:32:42.774310Z",
          "iopub.status.idle": "2023-07-01T03:32:42.778338Z",
          "shell.execute_reply": "2023-07-01T03:32:42.777879Z"
        },
        "papermill": {
          "duration": 0.018926,
          "end_time": "2023-07-01T03:32:42.780114",
          "exception": false,
          "start_time": "2023-07-01T03:32:42.761188",
          "status": "completed"
        },
        "tags": []
      },
      "outputs": [
        {
          "data": {
            "text/plain": [
              "{'dc1,out0': 'wg,in0',\n",
              " 'wg,out0': 'dc2,in0',\n",
              " 'dc1,out1': 'dc2,in1',\n",
              " 'wg,in0': 'dc1,out0',\n",
              " 'dc2,in0': 'wg,out0',\n",
              " 'dc2,in1': 'dc1,out1'}"
            ]
          },
          "execution_count": 22,
          "metadata": {},
          "output_type": "execute_result"
        }
      ],
      "source": [
        "connections = {**connections, **{v: k for k, v in connections.items()}}\n",
        "connections"
      ]
    },
    {
      "cell_type": "markdown",
      "id": "a41250ec",
      "metadata": {
        "papermill": {
          "duration": 0.01204,
          "end_time": "2023-07-01T03:32:42.804348",
          "exception": false,
          "start_time": "2023-07-01T03:32:42.792308",
          "status": "completed"
        },
        "tags": []
      },
      "source": [
        "We'll also need the reversed ports:"
      ]
    },
    {
      "cell_type": "code",
      "execution_count": 23,
      "id": "9a70463f",
      "metadata": {
        "execution": {
          "iopub.execute_input": "2023-07-01T03:32:42.829736Z",
          "iopub.status.busy": "2023-07-01T03:32:42.829440Z",
          "iopub.status.idle": "2023-07-01T03:32:42.833029Z",
          "shell.execute_reply": "2023-07-01T03:32:42.832663Z"
        },
        "papermill": {
          "duration": 0.018802,
          "end_time": "2023-07-01T03:32:42.835257",
          "exception": false,
          "start_time": "2023-07-01T03:32:42.816455",
          "status": "completed"
        },
        "tags": []
      },
      "outputs": [
        {
          "data": {
            "text/plain": [
              "{'dc1,in0': 'in0', 'dc1,in1': 'in1', 'dc2,out0': 'out0', 'dc2,out1': 'out1'}"
            ]
          },
          "execution_count": 23,
          "metadata": {},
          "output_type": "execute_result"
        }
      ],
      "source": [
        "inverse_ports = {v: k for k, v in ports.items()}\n",
        "inverse_ports"
      ]
    },
    {
      "cell_type": "markdown",
      "id": "1e96443b",
      "metadata": {
        "papermill": {
          "duration": 0.012167,
          "end_time": "2023-07-01T03:32:42.859597",
          "exception": false,
          "start_time": "2023-07-01T03:32:42.847430",
          "status": "completed"
        },
        "tags": []
      },
      "source": [
        "An the port indices"
      ]
    },
    {
      "cell_type": "code",
      "execution_count": 24,
      "id": "8e18d182",
      "metadata": {
        "execution": {
          "iopub.execute_input": "2023-07-01T03:32:42.885151Z",
          "iopub.status.busy": "2023-07-01T03:32:42.884839Z",
          "iopub.status.idle": "2023-07-01T03:32:42.888655Z",
          "shell.execute_reply": "2023-07-01T03:32:42.888280Z"
        },
        "papermill": {
          "duration": 0.019051,
          "end_time": "2023-07-01T03:32:42.890849",
          "exception": false,
          "start_time": "2023-07-01T03:32:42.871798",
          "status": "completed"
        },
        "tags": []
      },
      "outputs": [
        {
          "data": {
            "text/plain": [
              "{'in0': 0, 'in1': 1, 'out0': 2, 'out1': 3}"
            ]
          },
          "execution_count": 24,
          "metadata": {},
          "output_type": "execute_result"
        }
      ],
      "source": [
        "port_map = {k: i for i, k in enumerate(ports)}\n",
        "port_map"
      ]
    },
    {
      "cell_type": "markdown",
      "id": "70924074",
      "metadata": {
        "papermill": {
          "duration": 0.013412,
          "end_time": "2023-07-01T03:32:42.916748",
          "exception": false,
          "start_time": "2023-07-01T03:32:42.903336",
          "status": "completed"
        },
        "tags": []
      },
      "source": [
        "Let's now create the COO-representation of our block diagonal S-matrix $S_{bd}$:"
      ]
    },
    {
      "cell_type": "code",
      "execution_count": 25,
      "id": "835deb8f",
      "metadata": {
        "execution": {
          "iopub.execute_input": "2023-07-01T03:32:42.942784Z",
          "iopub.status.busy": "2023-07-01T03:32:42.942465Z",
          "iopub.status.idle": "2023-07-01T03:32:43.249309Z",
          "shell.execute_reply": "2023-07-01T03:32:43.248965Z"
        },
        "papermill": {
          "duration": 0.321559,
          "end_time": "2023-07-01T03:32:43.250667",
          "exception": false,
          "start_time": "2023-07-01T03:32:42.929108",
          "status": "completed"
        },
        "tags": []
      },
      "outputs": [
        {
          "name": "stdout",
          "output_type": "stream",
          "text": [
            "[0 0 0 0 1 1 1 1 2 2 2 2 3 3 3 3 4 5 6 6 6 6 7 7 7 7 8 8 8 8 9 9 9 9]\n",
            "[0 1 2 3 0 1 2 3 0 1 2 3 0 1 2 3 5 4 6 7 8 9 6 7 8 9 6 7 8 9 6 7 8 9]\n",
            "[0.        +0.j         0.        +0.j         0.70710677+0.j\n",
            " 0.        +0.70710677j 0.        +0.j         0.        +0.j\n",
            " 0.        +0.70710677j 0.70710677+0.j         0.70710677+0.j\n",
            " 0.        +0.70710677j 0.        +0.j         0.        +0.j\n",
            " 0.        +0.70710677j 0.70710677+0.j         0.        +0.j\n",
            " 0.        +0.j         0.5       +0.86603j    0.5       +0.86603j\n",
            " 0.        +0.j         0.        +0.j         0.70710677+0.j\n",
            " 0.        +0.70710677j 0.        +0.j         0.        +0.j\n",
            " 0.        +0.70710677j 0.70710677+0.j         0.70710677+0.j\n",
            " 0.        +0.70710677j 0.        +0.j         0.        +0.j\n",
            " 0.        +0.70710677j 0.70710677+0.j         0.        +0.j\n",
            " 0.        +0.j        ]\n"
          ]
        }
      ],
      "source": [
        "idx, Si, Sj, Sx, instance_ports = 0, [], [], [], {}\n",
        "batch_shape = ()\n",
        "for name, instance in instances.items():\n",
        "    si, sj, sx, ports_map = scoo(instance)\n",
        "    Si.append(si + idx)\n",
        "    Sj.append(sj + idx)\n",
        "    Sx.append(sx)\n",
        "    if len(sx.shape[:-1]) > len(batch_shape):\n",
        "        batch_shape = sx.shape[:-1]\n",
        "    instance_ports.update({f\"{name},{p}\": i + idx for p, i in ports_map.items()})\n",
        "    idx += len(ports_map)\n",
        "Si = jnp.concatenate(Si, -1)\n",
        "Sj = jnp.concatenate(Sj, -1)\n",
        "Sx = jnp.concatenate([jnp.broadcast_to(sx, (*batch_shape, sx.shape[-1])) for sx in Sx], -1)\n",
        "\n",
        "print(Si)\n",
        "print(Sj)\n",
        "print(Sx)"
      ]
    },
    {
      "cell_type": "markdown",
      "id": "a8edefa1",
      "metadata": {
        "papermill": {
          "duration": 0.012452,
          "end_time": "2023-07-01T03:32:43.275765",
          "exception": false,
          "start_time": "2023-07-01T03:32:43.263313",
          "status": "completed"
        },
        "tags": []
      },
      "source": [
        "note that we also kept track of the `batch_shape`, i.e. the number of independent simulations (usually number of wavelengths). In the example being used here we don't have a batch dimension (all elements of the `SDict` are `0D`):"
      ]
    },
    {
      "cell_type": "code",
      "execution_count": 26,
      "id": "7513759a",
      "metadata": {
        "execution": {
          "iopub.execute_input": "2023-07-01T03:32:43.302251Z",
          "iopub.status.busy": "2023-07-01T03:32:43.301913Z",
          "iopub.status.idle": "2023-07-01T03:32:43.305439Z",
          "shell.execute_reply": "2023-07-01T03:32:43.305070Z"
        },
        "papermill": {
          "duration": 0.019459,
          "end_time": "2023-07-01T03:32:43.307802",
          "exception": false,
          "start_time": "2023-07-01T03:32:43.288343",
          "status": "completed"
        },
        "tags": []
      },
      "outputs": [
        {
          "data": {
            "text/plain": [
              "()"
            ]
          },
          "execution_count": 26,
          "metadata": {},
          "output_type": "execute_result"
        }
      ],
      "source": [
        "batch_shape"
      ]
    },
    {
      "cell_type": "markdown",
      "id": "c63b14d7",
      "metadata": {
        "papermill": {
          "duration": 0.020633,
          "end_time": "2023-07-01T03:32:43.341139",
          "exception": false,
          "start_time": "2023-07-01T03:32:43.320506",
          "status": "completed"
        },
        "tags": []
      },
      "source": [
        "We'll also keep track of the number of columns"
      ]
    },
    {
      "cell_type": "code",
      "execution_count": 27,
      "id": "89000432",
      "metadata": {
        "execution": {
          "iopub.execute_input": "2023-07-01T03:32:43.367432Z",
          "iopub.status.busy": "2023-07-01T03:32:43.367198Z",
          "iopub.status.idle": "2023-07-01T03:32:43.370434Z",
          "shell.execute_reply": "2023-07-01T03:32:43.370063Z"
        },
        "papermill": {
          "duration": 0.019095,
          "end_time": "2023-07-01T03:32:43.372859",
          "exception": false,
          "start_time": "2023-07-01T03:32:43.353764",
          "status": "completed"
        },
        "tags": []
      },
      "outputs": [
        {
          "data": {
            "text/plain": [
              "10"
            ]
          },
          "execution_count": 27,
          "metadata": {},
          "output_type": "execute_result"
        }
      ],
      "source": [
        "n_col = idx\n",
        "n_col"
      ]
    },
    {
      "cell_type": "markdown",
      "id": "7b0f95da",
      "metadata": {
        "papermill": {
          "duration": 0.012607,
          "end_time": "2023-07-01T03:32:43.398602",
          "exception": false,
          "start_time": "2023-07-01T03:32:43.385995",
          "status": "completed"
        },
        "tags": []
      },
      "source": [
        "And we'll need to solve the circuit for each output port, i.e. we need to solve `n_rhs` number of equations:"
      ]
    },
    {
      "cell_type": "code",
      "execution_count": 28,
      "id": "27902354",
      "metadata": {
        "execution": {
          "iopub.execute_input": "2023-07-01T03:32:43.424941Z",
          "iopub.status.busy": "2023-07-01T03:32:43.424717Z",
          "iopub.status.idle": "2023-07-01T03:32:43.427931Z",
          "shell.execute_reply": "2023-07-01T03:32:43.427566Z"
        },
        "papermill": {
          "duration": 0.018966,
          "end_time": "2023-07-01T03:32:43.430297",
          "exception": false,
          "start_time": "2023-07-01T03:32:43.411331",
          "status": "completed"
        },
        "tags": []
      },
      "outputs": [
        {
          "data": {
            "text/plain": [
              "4"
            ]
          },
          "execution_count": 28,
          "metadata": {},
          "output_type": "execute_result"
        }
      ],
      "source": [
        "n_rhs = len(port_map)\n",
        "n_rhs"
      ]
    },
    {
      "cell_type": "markdown",
      "id": "05056b46",
      "metadata": {
        "papermill": {
          "duration": 0.012656,
          "end_time": "2023-07-01T03:32:43.455626",
          "exception": false,
          "start_time": "2023-07-01T03:32:43.442970",
          "status": "completed"
        },
        "tags": []
      },
      "source": [
        "We can represent the internal connection matrix $C_{int}$ as a mapping between port indices:"
      ]
    },
    {
      "cell_type": "code",
      "execution_count": 29,
      "id": "f3ff1fa7",
      "metadata": {
        "execution": {
          "iopub.execute_input": "2023-07-01T03:32:43.481828Z",
          "iopub.status.busy": "2023-07-01T03:32:43.481610Z",
          "iopub.status.idle": "2023-07-01T03:32:43.485304Z",
          "shell.execute_reply": "2023-07-01T03:32:43.484929Z"
        },
        "papermill": {
          "duration": 0.01948,
          "end_time": "2023-07-01T03:32:43.487738",
          "exception": false,
          "start_time": "2023-07-01T03:32:43.468258",
          "status": "completed"
        },
        "tags": []
      },
      "outputs": [
        {
          "data": {
            "text/plain": [
              "{2: 4, 5: 6, 3: 7, 4: 2, 6: 5, 7: 3}"
            ]
          },
          "execution_count": 29,
          "metadata": {},
          "output_type": "execute_result"
        }
      ],
      "source": [
        "Cmap = {int(instance_ports[k]): int(instance_ports[v]) for k, v in connections.items()}\n",
        "Cmap"
      ]
    },
    {
      "cell_type": "markdown",
      "id": "999164af",
      "metadata": {
        "papermill": {
          "duration": 0.0128,
          "end_time": "2023-07-01T03:32:43.513365",
          "exception": false,
          "start_time": "2023-07-01T03:32:43.500565",
          "status": "completed"
        },
        "tags": []
      },
      "source": [
        "Therefore, the COO-representation of this connection matrix can be obtained as follows (note that an array of values Cx is not necessary, all non-zero elements in a connection matrix are 1)"
      ]
    },
    {
      "cell_type": "code",
      "execution_count": 30,
      "id": "9e4f1728",
      "metadata": {
        "execution": {
          "iopub.execute_input": "2023-07-01T03:32:43.540239Z",
          "iopub.status.busy": "2023-07-01T03:32:43.540011Z",
          "iopub.status.idle": "2023-07-01T03:32:43.544785Z",
          "shell.execute_reply": "2023-07-01T03:32:43.544408Z"
        },
        "papermill": {
          "duration": 0.020805,
          "end_time": "2023-07-01T03:32:43.547195",
          "exception": false,
          "start_time": "2023-07-01T03:32:43.526390",
          "status": "completed"
        },
        "tags": []
      },
      "outputs": [
        {
          "name": "stdout",
          "output_type": "stream",
          "text": [
            "[2 5 3 4 6 7]\n",
            "[4 6 7 2 5 3]\n"
          ]
        }
      ],
      "source": [
        "Ci = jnp.array(list(Cmap.keys()), dtype=jnp.int32)\n",
        "Cj = jnp.array(list(Cmap.values()), dtype=jnp.int32)\n",
        "print(Ci)\n",
        "print(Cj)"
      ]
    },
    {
      "cell_type": "markdown",
      "id": "47d5ed60",
      "metadata": {
        "papermill": {
          "duration": 0.012873,
          "end_time": "2023-07-01T03:32:43.573019",
          "exception": false,
          "start_time": "2023-07-01T03:32:43.560146",
          "status": "completed"
        },
        "tags": []
      },
      "source": [
        "We can represent the external connection matrix $C_{ext}$ as a map between internal port indices and external port indices:"
      ]
    },
    {
      "cell_type": "code",
      "execution_count": 31,
      "id": "f56ae166",
      "metadata": {
        "execution": {
          "iopub.execute_input": "2023-07-01T03:32:43.599862Z",
          "iopub.status.busy": "2023-07-01T03:32:43.599624Z",
          "iopub.status.idle": "2023-07-01T03:32:43.603330Z",
          "shell.execute_reply": "2023-07-01T03:32:43.602963Z"
        },
        "papermill": {
          "duration": 0.019818,
          "end_time": "2023-07-01T03:32:43.605742",
          "exception": false,
          "start_time": "2023-07-01T03:32:43.585924",
          "status": "completed"
        },
        "tags": []
      },
      "outputs": [
        {
          "data": {
            "text/plain": [
              "{0: 0, 1: 1, 8: 2, 9: 3}"
            ]
          },
          "execution_count": 31,
          "metadata": {},
          "output_type": "execute_result"
        }
      ],
      "source": [
        "Cextmap = {int(instance_ports[k]): int(port_map[v]) for k, v in inverse_ports.items()}\n",
        "Cextmap"
      ]
    },
    {
      "cell_type": "markdown",
      "id": "2485c01d",
      "metadata": {
        "papermill": {
          "duration": 0.012931,
          "end_time": "2023-07-01T03:32:43.631632",
          "exception": false,
          "start_time": "2023-07-01T03:32:43.618701",
          "status": "completed"
        },
        "tags": []
      },
      "source": [
        "Just as for the internal matrix we can represent this external connection matrix in COO-format:"
      ]
    },
    {
      "cell_type": "code",
      "execution_count": 32,
      "id": "cfb419ac",
      "metadata": {
        "execution": {
          "iopub.execute_input": "2023-07-01T03:32:43.658938Z",
          "iopub.status.busy": "2023-07-01T03:32:43.658714Z",
          "iopub.status.idle": "2023-07-01T03:32:43.688182Z",
          "shell.execute_reply": "2023-07-01T03:32:43.687797Z"
        },
        "papermill": {
          "duration": 0.044672,
          "end_time": "2023-07-01T03:32:43.689535",
          "exception": false,
          "start_time": "2023-07-01T03:32:43.644863",
          "status": "completed"
        },
        "tags": []
      },
      "outputs": [
        {
          "name": "stdout",
          "output_type": "stream",
          "text": [
            "[0 1 8 9]\n",
            "[0 1 2 3]\n"
          ]
        }
      ],
      "source": [
        "Cexti = jnp.stack(list(Cextmap.keys()), 0)\n",
        "Cextj = jnp.stack(list(Cextmap.values()), 0)\n",
        "print(Cexti)\n",
        "print(Cextj)"
      ]
    },
    {
      "cell_type": "markdown",
      "id": "e46d609c",
      "metadata": {
        "papermill": {
          "duration": 0.013331,
          "end_time": "2023-07-01T03:32:43.717542",
          "exception": false,
          "start_time": "2023-07-01T03:32:43.704211",
          "status": "completed"
        },
        "tags": []
      },
      "source": [
        "However, we actually need it as a dense representation:\n",
        "\n",
        "> help needed: can we find a way later on to keep this sparse?"
      ]
    },
    {
      "cell_type": "code",
      "execution_count": 33,
      "id": "25c4ec6e",
      "metadata": {
        "execution": {
          "iopub.execute_input": "2023-07-01T03:32:43.746317Z",
          "iopub.status.busy": "2023-07-01T03:32:43.745990Z",
          "iopub.status.idle": "2023-07-01T03:32:43.874535Z",
          "shell.execute_reply": "2023-07-01T03:32:43.874009Z"
        },
        "papermill": {
          "duration": 0.144108,
          "end_time": "2023-07-01T03:32:43.876009",
          "exception": false,
          "start_time": "2023-07-01T03:32:43.731901",
          "status": "completed"
        },
        "tags": []
      },
      "outputs": [],
      "source": [
        "if JAX_AVAILABLE:\n",
        "    Cext = jnp.zeros((n_col, n_rhs), dtype=complex).at[Cexti, Cextj].set(1.0)\n",
        "    Cext"
      ]
    },
    {
      "cell_type": "markdown",
      "id": "b31cc279",
      "metadata": {
        "papermill": {
          "duration": 0.01319,
          "end_time": "2023-07-01T03:32:43.903409",
          "exception": false,
          "start_time": "2023-07-01T03:32:43.890219",
          "status": "completed"
        },
        "tags": []
      },
      "source": [
        "We'll now calculate the row index `CSi` of $C_{int}S_{bd}$ in COO-format:"
      ]
    },
    {
      "cell_type": "code",
      "execution_count": 34,
      "id": "2c2190aefddeccae",
      "metadata": {
        "execution": {
          "iopub.execute_input": "2023-07-01T03:32:43.931375Z",
          "iopub.status.busy": "2023-07-01T03:32:43.931056Z",
          "iopub.status.idle": "2023-07-01T03:32:44.104647Z",
          "shell.execute_reply": "2023-07-01T03:32:44.104180Z"
        },
        "papermill": {
          "duration": 0.18897,
          "end_time": "2023-07-01T03:32:44.105844",
          "exception": false,
          "start_time": "2023-07-01T03:32:43.916874",
          "status": "completed"
        },
        "tags": []
      },
      "outputs": [
        {
          "data": {
            "text/plain": [
              "Array([4, 4, 4, 4, 7, 7, 7, 7, 2, 6, 5, 5, 5, 5, 3, 3, 3, 3], dtype=int32)"
            ]
          },
          "execution_count": 34,
          "metadata": {},
          "output_type": "execute_result"
        }
      ],
      "source": [
        "# TODO: make this block jittable...\n",
        "Ix = jnp.ones((*batch_shape, n_col))\n",
        "Ii = Ij = jnp.arange(n_col)\n",
        "mask = Cj[None,:] == Si[:, None]\n",
        "CSi = jnp.broadcast_to(Ci[None, :], mask.shape)[mask]\n",
        "CSi"
      ]
    },
    {
      "cell_type": "markdown",
      "id": "a2657582",
      "metadata": {
        "papermill": {
          "duration": 0.01427,
          "end_time": "2023-07-01T03:32:44.134046",
          "exception": false,
          "start_time": "2023-07-01T03:32:44.119776",
          "status": "completed"
        },
        "tags": []
      },
      "source": [
        "> `CSi`: possible jittable alternative? how do we remove the zeros?"
      ]
    },
    {
      "cell_type": "code",
      "execution_count": 35,
      "id": "d4ea2cb5",
      "metadata": {
        "execution": {
          "iopub.execute_input": "2023-07-01T03:32:44.161575Z",
          "iopub.status.busy": "2023-07-01T03:32:44.161268Z",
          "iopub.status.idle": "2023-07-01T03:32:44.201751Z",
          "shell.execute_reply": "2023-07-01T03:32:44.201266Z"
        },
        "papermill": {
          "duration": 0.055802,
          "end_time": "2023-07-01T03:32:44.203047",
          "exception": false,
          "start_time": "2023-07-01T03:32:44.147245",
          "status": "completed"
        },
        "tags": []
      },
      "outputs": [
        {
          "data": {
            "text/plain": [
              "Array([0, 0, 0, 0, 0, 0, 0, 0, 4, 4, 4, 4, 7, 7, 7, 7, 2, 6, 5, 5, 5, 5,\n",
              "       3, 3, 3, 3, 0, 0, 0, 0, 0, 0, 0, 0], dtype=int32)"
            ]
          },
          "execution_count": 35,
          "metadata": {},
          "output_type": "execute_result"
        }
      ],
      "source": [
        "CSi_ = jnp.where(Cj[None, :] == Si[:, None], Ci[None, :], 0).sum(1) # not used\n",
        "CSi_ # not used"
      ]
    },
    {
      "cell_type": "markdown",
      "id": "44fc620e",
      "metadata": {
        "papermill": {
          "duration": 0.013559,
          "end_time": "2023-07-01T03:32:44.230601",
          "exception": false,
          "start_time": "2023-07-01T03:32:44.217042",
          "status": "completed"
        },
        "tags": []
      },
      "source": [
        "The column index `CSj` of $C_{int}S_{bd}$ can more easily be obtained:"
      ]
    },
    {
      "cell_type": "code",
      "execution_count": 36,
      "id": "f71fdd7c",
      "metadata": {
        "execution": {
          "iopub.execute_input": "2023-07-01T03:32:44.259154Z",
          "iopub.status.busy": "2023-07-01T03:32:44.258830Z",
          "iopub.status.idle": "2023-07-01T03:32:44.333274Z",
          "shell.execute_reply": "2023-07-01T03:32:44.332907Z"
        },
        "papermill": {
          "duration": 0.090456,
          "end_time": "2023-07-01T03:32:44.334645",
          "exception": false,
          "start_time": "2023-07-01T03:32:44.244189",
          "status": "completed"
        },
        "tags": []
      },
      "outputs": [
        {
          "data": {
            "text/plain": [
              "Array([0, 1, 2, 3, 0, 1, 2, 3, 5, 4, 6, 7, 8, 9, 6, 7, 8, 9], dtype=int32)"
            ]
          },
          "execution_count": 36,
          "metadata": {},
          "output_type": "execute_result"
        }
      ],
      "source": [
        "mask = (Cj[:, None] == Si[None, :]).any(0)\n",
        "CSj = Sj[mask]\n",
        "CSj"
      ]
    },
    {
      "cell_type": "markdown",
      "id": "99bf7684",
      "metadata": {
        "papermill": {
          "duration": 0.013647,
          "end_time": "2023-07-01T03:32:44.362262",
          "exception": false,
          "start_time": "2023-07-01T03:32:44.348615",
          "status": "completed"
        },
        "tags": []
      },
      "source": [
        "> `CSj`: possible jittable alternative? how do we remove the zeros?"
      ]
    },
    {
      "cell_type": "code",
      "execution_count": 37,
      "id": "ffa7bc82",
      "metadata": {
        "execution": {
          "iopub.execute_input": "2023-07-01T03:32:44.390604Z",
          "iopub.status.busy": "2023-07-01T03:32:44.390292Z",
          "iopub.status.idle": "2023-07-01T03:32:44.413665Z",
          "shell.execute_reply": "2023-07-01T03:32:44.413308Z"
        },
        "papermill": {
          "duration": 0.039078,
          "end_time": "2023-07-01T03:32:44.414988",
          "exception": false,
          "start_time": "2023-07-01T03:32:44.375910",
          "status": "completed"
        },
        "tags": []
      },
      "outputs": [
        {
          "data": {
            "text/plain": [
              "Array([0, 0, 0, 0, 0, 0, 0, 0, 0, 1, 2, 3, 0, 1, 2, 3, 5, 4, 6, 7, 8, 9,\n",
              "       6, 7, 8, 9, 0, 0, 0, 0, 0, 0, 0, 0], dtype=int32)"
            ]
          },
          "execution_count": 37,
          "metadata": {},
          "output_type": "execute_result"
        }
      ],
      "source": [
        "CSj_ = jnp.where(mask, Sj, 0) # not used\n",
        "CSj_ # not used"
      ]
    },
    {
      "cell_type": "markdown",
      "id": "e0fc6d02",
      "metadata": {
        "papermill": {
          "duration": 0.014152,
          "end_time": "2023-07-01T03:32:44.443019",
          "exception": false,
          "start_time": "2023-07-01T03:32:44.428867",
          "status": "completed"
        },
        "tags": []
      },
      "source": [
        "Finally, the values `CSx` of $C_{int}S_{bd}$ can be obtained as follows:"
      ]
    },
    {
      "cell_type": "code",
      "execution_count": 38,
      "id": "59d2e1b2",
      "metadata": {
        "execution": {
          "iopub.execute_input": "2023-07-01T03:32:44.471382Z",
          "iopub.status.busy": "2023-07-01T03:32:44.471135Z",
          "iopub.status.idle": "2023-07-01T03:32:44.496549Z",
          "shell.execute_reply": "2023-07-01T03:32:44.496180Z"
        },
        "papermill": {
          "duration": 0.041274,
          "end_time": "2023-07-01T03:32:44.497861",
          "exception": false,
          "start_time": "2023-07-01T03:32:44.456587",
          "status": "completed"
        },
        "tags": []
      },
      "outputs": [
        {
          "data": {
            "text/plain": [
              "Array([0.70710677+0.j        , 0.        +0.70710677j,\n",
              "       0.        +0.j        , 0.        +0.j        ,\n",
              "       0.        +0.70710677j, 0.70710677+0.j        ,\n",
              "       0.        +0.j        , 0.        +0.j        ,\n",
              "       0.5       +0.86603j   , 0.5       +0.86603j   ,\n",
              "       0.        +0.j        , 0.        +0.j        ,\n",
              "       0.70710677+0.j        , 0.        +0.70710677j,\n",
              "       0.        +0.j        , 0.        +0.j        ,\n",
              "       0.        +0.70710677j, 0.70710677+0.j        ], dtype=complex64)"
            ]
          },
          "execution_count": 38,
          "metadata": {},
          "output_type": "execute_result"
        }
      ],
      "source": [
        "if Sx.ndim > 1:\n",
        "    CSx = Sx[..., mask] # normally this should be enough\n",
        "else:\n",
        "    CSx = Sx[mask] # need separate case bc bug in JAX... see https://github.com/google/jax/issues/9050\n",
        "   \n",
        "CSx"
      ]
    },
    {
      "cell_type": "markdown",
      "id": "c02035bd",
      "metadata": {
        "papermill": {
          "duration": 0.013763,
          "end_time": "2023-07-01T03:32:44.525880",
          "exception": false,
          "start_time": "2023-07-01T03:32:44.512117",
          "status": "completed"
        },
        "tags": []
      },
      "source": [
        "> `CSx`: possible jittable alternative? how do we remove the zeros?"
      ]
    },
    {
      "cell_type": "code",
      "execution_count": 39,
      "id": "107e9e80",
      "metadata": {
        "execution": {
          "iopub.execute_input": "2023-07-01T03:32:44.554367Z",
          "iopub.status.busy": "2023-07-01T03:32:44.554025Z",
          "iopub.status.idle": "2023-07-01T03:32:44.576457Z",
          "shell.execute_reply": "2023-07-01T03:32:44.576100Z"
        },
        "papermill": {
          "duration": 0.038218,
          "end_time": "2023-07-01T03:32:44.577760",
          "exception": false,
          "start_time": "2023-07-01T03:32:44.539542",
          "status": "completed"
        },
        "tags": []
      },
      "outputs": [
        {
          "data": {
            "text/plain": [
              "Array([0.        +0.j        , 0.        +0.j        ,\n",
              "       0.        +0.j        , 0.        +0.j        ,\n",
              "       0.        +0.j        , 0.        +0.j        ,\n",
              "       0.        +0.j        , 0.        +0.j        ,\n",
              "       0.70710677+0.j        , 0.        +0.70710677j,\n",
              "       0.        +0.j        , 0.        +0.j        ,\n",
              "       0.        +0.70710677j, 0.70710677+0.j        ,\n",
              "       0.        +0.j        , 0.        +0.j        ,\n",
              "       0.5       +0.86603j   , 0.5       +0.86603j   ,\n",
              "       0.        +0.j        , 0.        +0.j        ,\n",
              "       0.70710677+0.j        , 0.        +0.70710677j,\n",
              "       0.        +0.j        , 0.        +0.j        ,\n",
              "       0.        +0.70710677j, 0.70710677+0.j        ,\n",
              "       0.        +0.j        , 0.        +0.j        ,\n",
              "       0.        +0.j        , 0.        +0.j        ,\n",
              "       0.        +0.j        , 0.        +0.j        ,\n",
              "       0.        +0.j        , 0.        +0.j        ], dtype=complex64)"
            ]
          },
          "execution_count": 39,
          "metadata": {},
          "output_type": "execute_result"
        }
      ],
      "source": [
        "CSx_ = jnp.where(mask, Sx, 0.0) # not used\n",
        "CSx_ # not used"
      ]
    },
    {
      "cell_type": "markdown",
      "id": "9411edf5",
      "metadata": {
        "papermill": {
          "duration": 0.013876,
          "end_time": "2023-07-01T03:32:44.605894",
          "exception": false,
          "start_time": "2023-07-01T03:32:44.592018",
          "status": "completed"
        },
        "tags": []
      },
      "source": [
        "Now we calculate $\\mathbb{1} - C_{int}S_{bd}$ in an *uncoalesced* way (we might have duplicate indices on the diagonal):\n",
        "\n",
        "> **uncoalesced**: having duplicate index combinations (i, j) in the representation possibly with different corresponding values. This is usually not a problem as in linear operations these values will end up to be summed, usually the behavior you want:"
      ]
    },
    {
      "cell_type": "code",
      "execution_count": 40,
      "id": "53c3f4ab",
      "metadata": {
        "execution": {
          "iopub.execute_input": "2023-07-01T03:32:44.634993Z",
          "iopub.status.busy": "2023-07-01T03:32:44.634670Z",
          "iopub.status.idle": "2023-07-01T03:32:44.688066Z",
          "shell.execute_reply": "2023-07-01T03:32:44.687573Z"
        },
        "papermill": {
          "duration": 0.069421,
          "end_time": "2023-07-01T03:32:44.689276",
          "exception": false,
          "start_time": "2023-07-01T03:32:44.619855",
          "status": "completed"
        },
        "tags": []
      },
      "outputs": [
        {
          "name": "stdout",
          "output_type": "stream",
          "text": [
            "[4 4 4 4 7 7 7 7 2 6 5 5 5 5 3 3 3 3 0 1 2 3 4 5 6 7 8 9]\n",
            "[0 1 2 3 0 1 2 3 5 4 6 7 8 9 6 7 8 9 0 1 2 3 4 5 6 7 8 9]\n",
            "[-0.70710677-0.j         -0.        -0.70710677j -0.        -0.j\n",
            " -0.        -0.j         -0.        -0.70710677j -0.70710677-0.j\n",
            " -0.        -0.j         -0.        -0.j         -0.5       -0.86603j\n",
            " -0.5       -0.86603j    -0.        -0.j         -0.        -0.j\n",
            " -0.70710677-0.j         -0.        -0.70710677j -0.        -0.j\n",
            " -0.        -0.j         -0.        -0.70710677j -0.70710677-0.j\n",
            "  1.        +0.j          1.        +0.j          1.        +0.j\n",
            "  1.        +0.j          1.        +0.j          1.        +0.j\n",
            "  1.        +0.j          1.        +0.j          1.        +0.j\n",
            "  1.        +0.j        ]\n"
          ]
        }
      ],
      "source": [
        "I_CSi = jnp.concatenate([CSi, Ii], -1)\n",
        "I_CSj = jnp.concatenate([CSj, Ij], -1)\n",
        "I_CSx = jnp.concatenate([-CSx, Ix], -1)\n",
        "print(I_CSi)\n",
        "print(I_CSj)\n",
        "print(I_CSx)"
      ]
    },
    {
      "cell_type": "code",
      "execution_count": 41,
      "id": "188e4606",
      "metadata": {
        "execution": {
          "iopub.execute_input": "2023-07-01T03:32:44.719034Z",
          "iopub.status.busy": "2023-07-01T03:32:44.718669Z",
          "iopub.status.idle": "2023-07-01T03:32:44.721660Z",
          "shell.execute_reply": "2023-07-01T03:32:44.721273Z"
        },
        "papermill": {
          "duration": 0.020007,
          "end_time": "2023-07-01T03:32:44.723718",
          "exception": false,
          "start_time": "2023-07-01T03:32:44.703711",
          "status": "completed"
        },
        "tags": []
      },
      "outputs": [
        {
          "name": "stdout",
          "output_type": "stream",
          "text": [
            "10 4\n"
          ]
        }
      ],
      "source": [
        "if JAX_AVAILABLE:\n",
        "    n_col, n_rhs = Cext.shape\n",
        "    print(n_col, n_rhs)"
      ]
    },
    {
      "cell_type": "markdown",
      "id": "e018c515",
      "metadata": {
        "papermill": {
          "duration": 0.01401,
          "end_time": "2023-07-01T03:32:44.751836",
          "exception": false,
          "start_time": "2023-07-01T03:32:44.737826",
          "status": "completed"
        },
        "tags": []
      },
      "source": [
        "The batch shape dimension can generally speaking be anything (in the example here 0D). We need to do the necessary reshapings to make the batch shape 1D:"
      ]
    },
    {
      "cell_type": "code",
      "execution_count": 42,
      "id": "dad259e7",
      "metadata": {
        "execution": {
          "iopub.execute_input": "2023-07-01T03:32:44.781474Z",
          "iopub.status.busy": "2023-07-01T03:32:44.781165Z",
          "iopub.status.idle": "2023-07-01T03:32:44.798429Z",
          "shell.execute_reply": "2023-07-01T03:32:44.798019Z"
        },
        "papermill": {
          "duration": 0.033823,
          "end_time": "2023-07-01T03:32:44.799697",
          "exception": false,
          "start_time": "2023-07-01T03:32:44.765874",
          "status": "completed"
        },
        "tags": []
      },
      "outputs": [
        {
          "name": "stdout",
          "output_type": "stream",
          "text": [
            "1\n"
          ]
        }
      ],
      "source": [
        "n_lhs = jnp.prod(jnp.array(batch_shape, dtype=jnp.int32))\n",
        "print(n_lhs)"
      ]
    },
    {
      "cell_type": "code",
      "execution_count": 43,
      "id": "9cf69da7",
      "metadata": {
        "execution": {
          "iopub.execute_input": "2023-07-01T03:32:44.829564Z",
          "iopub.status.busy": "2023-07-01T03:32:44.829257Z",
          "iopub.status.idle": "2023-07-01T03:32:44.845898Z",
          "shell.execute_reply": "2023-07-01T03:32:44.845549Z"
        },
        "papermill": {
          "duration": 0.033102,
          "end_time": "2023-07-01T03:32:44.847193",
          "exception": false,
          "start_time": "2023-07-01T03:32:44.814091",
          "status": "completed"
        },
        "tags": []
      },
      "outputs": [
        {
          "data": {
            "text/plain": [
              "(1, 34)"
            ]
          },
          "execution_count": 43,
          "metadata": {},
          "output_type": "execute_result"
        }
      ],
      "source": [
        "Sx = Sx.reshape(n_lhs, -1)\n",
        "Sx.shape"
      ]
    },
    {
      "cell_type": "code",
      "execution_count": 44,
      "id": "788294fa",
      "metadata": {
        "execution": {
          "iopub.execute_input": "2023-07-01T03:32:44.877409Z",
          "iopub.status.busy": "2023-07-01T03:32:44.877097Z",
          "iopub.status.idle": "2023-07-01T03:32:44.894202Z",
          "shell.execute_reply": "2023-07-01T03:32:44.893841Z"
        },
        "papermill": {
          "duration": 0.033681,
          "end_time": "2023-07-01T03:32:44.895490",
          "exception": false,
          "start_time": "2023-07-01T03:32:44.861809",
          "status": "completed"
        },
        "tags": []
      },
      "outputs": [
        {
          "data": {
            "text/plain": [
              "(1, 28)"
            ]
          },
          "execution_count": 44,
          "metadata": {},
          "output_type": "execute_result"
        }
      ],
      "source": [
        "I_CSx = I_CSx.reshape(n_lhs, -1)\n",
        "I_CSx.shape"
      ]
    },
    {
      "cell_type": "markdown",
      "id": "ec741031",
      "metadata": {
        "papermill": {
          "duration": 0.014556,
          "end_time": "2023-07-01T03:32:44.924918",
          "exception": false,
          "start_time": "2023-07-01T03:32:44.910362",
          "status": "completed"
        },
        "tags": []
      },
      "source": [
        "We're finally ready to do the most important part of the calculation, which we conveniently leave to `klujax` and `SuiteSparse`:"
      ]
    },
    {
      "cell_type": "code",
      "execution_count": 45,
      "id": "9c1d8644",
      "metadata": {
        "execution": {
          "iopub.execute_input": "2023-07-01T03:32:44.954844Z",
          "iopub.status.busy": "2023-07-01T03:32:44.954529Z",
          "iopub.status.idle": "2023-07-01T03:32:44.960917Z",
          "shell.execute_reply": "2023-07-01T03:32:44.960530Z"
        },
        "papermill": {
          "duration": 0.02282,
          "end_time": "2023-07-01T03:32:44.962119",
          "exception": false,
          "start_time": "2023-07-01T03:32:44.939299",
          "status": "completed"
        },
        "tags": []
      },
      "outputs": [],
      "source": [
        "if klujax is not None:\n",
        "    inv_I_CS_Cext = solve_klu(I_CSi, I_CSj, I_CSx, Cext)\n",
        "else:\n",
        "    inv_I_CS_Cext = jnp.array([[[1.0 + 0.0j, 0.0 + 0.0j, 0.0 + 0.0j, 0.0 + 0.0j], [0.0 + 0.0j, 1.0 + 0.0j, 0.0 + 0.0j, 0.0 + 0.0j], [ -0.0 + 0.0j, -0.0 + 0.0j, 0.35355339 + 0.61237569j, -0.61237569 + 0.35355339j, ], [0.0 + 0.0j, 0.0 + 0.0j, 0.0 + 0.70710678j, 0.70710678 + 0.0j], [0.70710678 - 0.0j, -0.0 + 0.70710678j, -0.0 - 0.0j, -0.0 - 0.0j], [-0.0 - 0.0j, -0.0 - 0.0j, 0.70710678 - 0.0j, -0.0 + 0.70710678j], [ 0.35355339 + 0.61237569j, -0.61237569 + 0.35355339j, -0.0 + 0.0j, -0.0 + 0.0j, ], [0.0 + 0.70710678j, 0.70710678 + 0.0j, 0.0 + 0.0j, 0.0 + 0.0j], [0.0 + 0.0j, 0.0 + 0.0j, 1.0 + 0.0j, 0.0 + 0.0j], [0.0 + 0.0j, 0.0 + 0.0j, 0.0 + 0.0j, 1.0 + 0.0j]]])"
      ]
    },
    {
      "cell_type": "markdown",
      "id": "e51487df",
      "metadata": {
        "papermill": {
          "duration": 0.014345,
          "end_time": "2023-07-01T03:32:44.990860",
          "exception": false,
          "start_time": "2023-07-01T03:32:44.976515",
          "status": "completed"
        },
        "tags": []
      },
      "source": [
        "one more sparse multiplication:"
      ]
    },
    {
      "cell_type": "code",
      "execution_count": 46,
      "id": "cccda072",
      "metadata": {
        "execution": {
          "iopub.execute_input": "2023-07-01T03:32:45.020940Z",
          "iopub.status.busy": "2023-07-01T03:32:45.020623Z",
          "iopub.status.idle": "2023-07-01T03:32:45.025819Z",
          "shell.execute_reply": "2023-07-01T03:32:45.025434Z"
        },
        "papermill": {
          "duration": 0.022124,
          "end_time": "2023-07-01T03:32:45.027434",
          "exception": false,
          "start_time": "2023-07-01T03:32:45.005310",
          "status": "completed"
        },
        "tags": []
      },
      "outputs": [],
      "source": [
        "if klujax is not None:\n",
        "    S_inv_I_CS_Cext = mul_coo(Si, Sj, Sx, inv_I_CS_Cext)\n",
        "else:\n",
        "    S_inv_I_CS_Cext = jnp.array([[[0.0 + 0.0j, 0.0 + 0.0j, -0.25 + 0.433015j, -0.433015 + 0.75j], [0.0 + 0.0j, 0.0 + 0.0j, -0.433015 + 0.75j, 0.25 - 0.433015j], [0.70710678 + 0.0j, 0.0 + 0.70710678j, 0.0 + 0.0j, 0.0 + 0.0j], [0.0 + 0.70710678j, 0.70710678 + 0.0j, 0.0 + 0.0j, 0.0 + 0.0j], [ 0.0 + 0.0j, 0.0 + 0.0j, 0.35355339 + 0.61237569j, -0.61237569 + 0.35355339j, ], [ 0.35355339 + 0.61237569j, -0.61237569 + 0.35355339j, 0.0 + 0.0j, 0.0 + 0.0j, ], [0.0 + 0.0j, 0.0 + 0.0j, 0.70710678 + 0.0j, 0.0 + 0.70710678j], [0.0 + 0.0j, 0.0 + 0.0j, 0.0 + 0.70710678j, 0.70710678 + 0.0j], [-0.25 + 0.433015j, -0.433015 + 0.75j, 0.0 + 0.0j, 0.0 + 0.0j], [-0.433015 + 0.75j, 0.25 - 0.433015j, 0.0 + 0.0j, 0.0 + 0.0j]]])"
      ]
    },
    {
      "cell_type": "markdown",
      "id": "627a98f7",
      "metadata": {
        "papermill": {
          "duration": 0.01436,
          "end_time": "2023-07-01T03:32:45.056228",
          "exception": false,
          "start_time": "2023-07-01T03:32:45.041868",
          "status": "completed"
        },
        "tags": []
      },
      "source": [
        "And one more $C_{ext}$ multiplication which we do by clever indexing:"
      ]
    },
    {
      "cell_type": "code",
      "execution_count": 47,
      "id": "12ff877c",
      "metadata": {
        "execution": {
          "iopub.execute_input": "2023-07-01T03:32:45.086282Z",
          "iopub.status.busy": "2023-07-01T03:32:45.085932Z",
          "iopub.status.idle": "2023-07-01T03:32:45.093512Z",
          "shell.execute_reply": "2023-07-01T03:32:45.093107Z"
        },
        "papermill": {
          "duration": 0.024215,
          "end_time": "2023-07-01T03:32:45.094783",
          "exception": false,
          "start_time": "2023-07-01T03:32:45.070568",
          "status": "completed"
        },
        "tags": []
      },
      "outputs": [
        {
          "data": {
            "text/plain": [
              "Array([[[ 0.      +0.j      ,  0.      +0.j      , -0.25    +0.433015j,\n",
              "         -0.433015+0.75j    ],\n",
              "        [ 0.      +0.j      ,  0.      +0.j      , -0.433015+0.75j    ,\n",
              "          0.25    -0.433015j],\n",
              "        [-0.25    +0.433015j, -0.433015+0.75j    ,  0.      +0.j      ,\n",
              "          0.      +0.j      ],\n",
              "        [-0.433015+0.75j    ,  0.25    -0.433015j,  0.      +0.j      ,\n",
              "          0.      +0.j      ]]], dtype=complex64)"
            ]
          },
          "execution_count": 47,
          "metadata": {},
          "output_type": "execute_result"
        }
      ],
      "source": [
        "if klujax is not None:\n",
        "    CextT_S_inv_I_CS_Cext = S_inv_I_CS_Cext[..., Cexti, :][..., :, Cextj]\n",
        "else:\n",
        "    CextT_S_inv_I_CS_Cext = jnp.array([[[0.0 + 0.0j, 0.0 + 0.0j, -0.25 + 0.433015j, -0.433015 + 0.75j], [0.0 + 0.0j, 0.0 + 0.0j, -0.433015 + 0.75j, 0.25 - 0.433015j], [-0.25 + 0.433015j, -0.433015 + 0.75j, 0.0 + 0.0j, 0.0 + 0.0j], [-0.433015 + 0.75j, 0.25 - 0.433015j, 0.0 + 0.0j, 0.0 + 0.0j]]])\n",
        "CextT_S_inv_I_CS_Cext"
      ]
    },
    {
      "cell_type": "markdown",
      "id": "3e1c75b2",
      "metadata": {
        "papermill": {
          "duration": 0.014433,
          "end_time": "2023-07-01T03:32:45.124993",
          "exception": false,
          "start_time": "2023-07-01T03:32:45.110560",
          "status": "completed"
        },
        "tags": []
      },
      "source": [
        "That's it! We found the S-matrix of the circuit. We just need to reshape the batch dimension back into the matrix:"
      ]
    },
    {
      "cell_type": "code",
      "execution_count": 48,
      "id": "cbf962af",
      "metadata": {
        "execution": {
          "iopub.execute_input": "2023-07-01T03:32:45.155208Z",
          "iopub.status.busy": "2023-07-01T03:32:45.154883Z",
          "iopub.status.idle": "2023-07-01T03:32:45.172148Z",
          "shell.execute_reply": "2023-07-01T03:32:45.171798Z"
        },
        "papermill": {
          "duration": 0.034007,
          "end_time": "2023-07-01T03:32:45.173426",
          "exception": false,
          "start_time": "2023-07-01T03:32:45.139419",
          "status": "completed"
        },
        "tags": []
      },
      "outputs": [
        {
          "data": {
            "text/plain": [
              "Array([[ 0.      +0.j      ,  0.      +0.j      , -0.25    +0.433015j,\n",
              "        -0.433015+0.75j    ],\n",
              "       [ 0.      +0.j      ,  0.      +0.j      , -0.433015+0.75j    ,\n",
              "         0.25    -0.433015j],\n",
              "       [-0.25    +0.433015j, -0.433015+0.75j    ,  0.      +0.j      ,\n",
              "         0.      +0.j      ],\n",
              "       [-0.433015+0.75j    ,  0.25    -0.433015j,  0.      +0.j      ,\n",
              "         0.      +0.j      ]], dtype=complex64)"
            ]
          },
          "execution_count": 48,
          "metadata": {},
          "output_type": "execute_result"
        }
      ],
      "source": [
        "_, n, _ = CextT_S_inv_I_CS_Cext.shape\n",
        "S = CextT_S_inv_I_CS_Cext.reshape(*batch_shape, n, n)\n",
        "S"
      ]
    },
    {
      "cell_type": "markdown",
      "id": "1f6dea4c",
      "metadata": {
        "papermill": {
          "duration": 0.01474,
          "end_time": "2023-07-01T03:32:45.203233",
          "exception": false,
          "start_time": "2023-07-01T03:32:45.188493",
          "status": "completed"
        },
        "tags": []
      },
      "source": [
        "Oh and to complete the `SDense` representation we need to specify the port map as well:"
      ]
    },
    {
      "cell_type": "code",
      "execution_count": 49,
      "id": "21098a45",
      "metadata": {
        "execution": {
          "iopub.execute_input": "2023-07-01T03:32:45.233998Z",
          "iopub.status.busy": "2023-07-01T03:32:45.233669Z",
          "iopub.status.idle": "2023-07-01T03:32:45.237138Z",
          "shell.execute_reply": "2023-07-01T03:32:45.236779Z"
        },
        "papermill": {
          "duration": 0.021397,
          "end_time": "2023-07-01T03:32:45.239340",
          "exception": false,
          "start_time": "2023-07-01T03:32:45.217943",
          "status": "completed"
        },
        "tags": []
      },
      "outputs": [
        {
          "data": {
            "text/plain": [
              "{'in0': 0, 'in1': 1, 'out0': 2, 'out1': 3}"
            ]
          },
          "execution_count": 49,
          "metadata": {},
          "output_type": "execute_result"
        }
      ],
      "source": [
        "port_map"
      ]
    },
    {
      "cell_type": "markdown",
      "id": "0cfee3cf",
      "metadata": {
        "papermill": {
          "duration": 0.014882,
          "end_time": "2023-07-01T03:32:45.268956",
          "exception": false,
          "start_time": "2023-07-01T03:32:45.254074",
          "status": "completed"
        },
        "tags": []
      },
      "source": [
        "## Algorithm Improvements"
      ]
    },
    {
      "cell_type": "markdown",
      "id": "26b70270",
      "metadata": {
        "papermill": {
          "duration": 0.014706,
          "end_time": "2023-07-01T03:32:45.298343",
          "exception": false,
          "start_time": "2023-07-01T03:32:45.283637",
          "status": "completed"
        },
        "tags": []
      },
      "source": [
        "This algorithm is \n",
        "\n",
        "* very fast for large circuits \ud83d\ude42\n",
        "\n",
        "This algorithm is however:\n",
        "\n",
        "* **not** jittable \ud83d\ude25\n",
        "* **not** differentiable \ud83d\ude25\n",
        "* **not** GPU-compatible \ud83d\ude42\n",
        "\n",
        "There are probably still plenty of improvements possible for this algorithm:\n",
        "\n",
        "* **\u00bf** make it jittable **?**\n",
        "* **\u00bf** make it differentiable (requires making klujax differentiable first) **?**\n",
        "* **\u00bf** make it GPU compatible (requires making suitesparse GPU compatible... probably not gonna happen)**?**\n",
        "\n",
        "Bottom line is... Do you know how to improve this algorithm or how to implement the above suggestions? Please open a Merge Request!"
      ]
    },
    {
      "cell_type": "markdown",
      "id": "7578c842-033b-4d1f-a84f-e5ad486d4a88",
      "metadata": {
        "papermill": {
          "duration": 0.014654,
          "end_time": "2023-07-01T03:32:45.327761",
          "exception": false,
          "start_time": "2023-07-01T03:32:45.313107",
          "status": "completed"
        },
        "tags": []
      },
      "source": [
        "## Debug"
      ]
    },
    {
      "cell_type": "code",
      "execution_count": 50,
      "id": "8764ab09-12b9-4b3d-9d83-9a0872924077",
      "metadata": {
        "execution": {
          "iopub.execute_input": "2023-07-01T03:32:45.358897Z",
          "iopub.status.busy": "2023-07-01T03:32:45.358267Z",
          "iopub.status.idle": "2023-07-01T03:32:45.366106Z",
          "shell.execute_reply": "2023-07-01T03:32:45.365768Z"
        },
        "papermill": {
          "duration": 0.024731,
          "end_time": "2023-07-01T03:32:45.367252",
          "exception": false,
          "start_time": "2023-07-01T03:32:45.342521",
          "status": "completed"
        },
        "tags": []
      },
      "outputs": [],
      "source": [
        "instances = {\n",
        "    \"lft\": (\n",
        "        jnp.array(\n",
        "            [\n",
        "                [\n",
        "                    5.19688622e-06 - 1.19777138e-05j,\n",
        "                    6.30595625e-16 - 1.48061189e-17j,\n",
        "                    -3.38542541e-01 - 6.15711852e-01j,\n",
        "                    5.80662654e-03 - 1.11068866e-02j,\n",
        "                    -3.38542542e-01 - 6.15711852e-01j,\n",
        "                    -5.80662660e-03 + 1.11068866e-02j,\n",
        "                ],\n",
        "                [\n",
        "                    8.59445189e-16 - 8.29783014e-16j,\n",
        "                    -2.08640825e-06 + 8.17315497e-06j,\n",
        "                    2.03847666e-03 - 2.10649131e-03j,\n",
        "                    5.30509661e-01 + 4.62504708e-01j,\n",
        "                    -2.03847666e-03 + 2.10649129e-03j,\n",
        "                    5.30509662e-01 + 4.62504708e-01j,\n",
        "                ],\n",
        "                [\n",
        "                    -3.38542541e-01 - 6.15711852e-01j,\n",
        "                    2.03847660e-03 - 2.10649129e-03j,\n",
        "                    7.60088070e-06 + 9.07340423e-07j,\n",
        "                    2.79292426e-09 + 2.79093547e-07j,\n",
        "                    5.07842364e-06 + 2.16385350e-06j,\n",
        "                    -6.84244232e-08 - 5.00486817e-07j,\n",
        "                ],\n",
        "                [\n",
        "                    5.80662707e-03 - 1.11068869e-02j,\n",
        "                    5.30509661e-01 + 4.62504708e-01j,\n",
        "                    2.79291895e-09 + 2.79093540e-07j,\n",
        "                    -4.55645798e-06 + 1.50570403e-06j,\n",
        "                    6.84244128e-08 + 5.00486817e-07j,\n",
        "                    -3.55812153e-06 + 4.59781091e-07j,\n",
        "                ],\n",
        "                [\n",
        "                    -3.38542541e-01 - 6.15711852e-01j,\n",
        "                    -2.03847672e-03 + 2.10649131e-03j,\n",
        "                    5.07842364e-06 + 2.16385349e-06j,\n",
        "                    6.84244230e-08 + 5.00486816e-07j,\n",
        "                    7.60088070e-06 + 9.07340425e-07j,\n",
        "                    -2.79292467e-09 - 2.79093547e-07j,\n",
        "                ],\n",
        "                [\n",
        "                    -5.80662607e-03 + 1.11068863e-02j,\n",
        "                    5.30509662e-01 + 4.62504708e-01j,\n",
        "                    -6.84244296e-08 - 5.00486825e-07j,\n",
        "                    -3.55812153e-06 + 4.59781093e-07j,\n",
        "                    -2.79293217e-09 - 2.79093547e-07j,\n",
        "                    -4.55645798e-06 + 1.50570403e-06j,\n",
        "                ],\n",
        "            ]\n",
        "        ),\n",
        "        {\"in0\": 0, \"out0\": 2, \"out1\": 4},\n",
        "    ),\n",
        "    \"top\": {(\"in0\", \"out0\"): -0.99477 - 0.10211j, (\"out0\", \"in0\"): -0.99477 - 0.10211j},\n",
        "    \"rgt\": {\n",
        "        (\"in0\", \"out0\"): 0.7071067811865476,\n",
        "        (\"in0\", \"out1\"): 0.7071067811865476j,\n",
        "        (\"in1\", \"out0\"): 0.7071067811865476j,\n",
        "        (\"in1\", \"out1\"): 0.7071067811865476,\n",
        "        (\"out0\", \"in0\"): 0.7071067811865476,\n",
        "        (\"out1\", \"in0\"): 0.7071067811865476j,\n",
        "        (\"out0\", \"in1\"): 0.7071067811865476j,\n",
        "        (\"out1\", \"in1\"): 0.7071067811865476,\n",
        "    },\n",
        "}\n",
        "connections = {\"lft,out0\": \"rgt,in0\", \"lft,out1\": \"top,in0\", \"top,out0\": \"rgt,in1\"}\n",
        "ports = {\"in0\": \"lft,in0\", \"out0\": \"rgt,out0\"}"
      ]
    },
    {
      "cell_type": "code",
      "execution_count": 51,
      "id": "20de2839-e848-49a4-b70a-bf192744c344",
      "metadata": {
        "execution": {
          "iopub.execute_input": "2023-07-01T03:32:45.397616Z",
          "iopub.status.busy": "2023-07-01T03:32:45.397404Z",
          "iopub.status.idle": "2023-07-01T03:32:45.550009Z",
          "shell.execute_reply": "2023-07-01T03:32:45.549644Z"
        },
        "papermill": {
          "duration": 0.169272,
          "end_time": "2023-07-01T03:32:45.551179",
          "exception": false,
          "start_time": "2023-07-01T03:32:45.381907",
          "status": "completed"
        },
        "tags": []
      },
      "outputs": [
        {
          "data": {
            "text/plain": [
              "{('in0', 'in0'): Array(5.1968864e-06-1.1977714e-05j, dtype=complex64),\n",
              " ('in0', 'out0'): Array(-0.6969264-0.24169631j, dtype=complex64),\n",
              " ('out0', 'in0'): Array(-0.6969264-0.24169631j, dtype=complex64),\n",
              " ('out0', 'out0'): Array(2.842532e-06-5.5935166e-06j, dtype=complex64)}"
            ]
          },
          "execution_count": 51,
          "metadata": {},
          "output_type": "execute_result"
        }
      ],
      "source": [
        "sax.sdict(evaluate_circuit(instances, connections, ports))"
      ]
    },
    {
      "cell_type": "code",
      "execution_count": 52,
      "id": "fc7b3ac4-4599-4748-a4b8-ec0a2e3927c8",
      "metadata": {
        "execution": {
          "iopub.execute_input": "2023-07-01T03:32:45.582608Z",
          "iopub.status.busy": "2023-07-01T03:32:45.582374Z",
          "iopub.status.idle": "2023-07-01T03:32:45.663888Z",
          "shell.execute_reply": "2023-07-01T03:32:45.663524Z"
        },
        "papermill": {
          "duration": 0.098548,
          "end_time": "2023-07-01T03:32:45.665058",
          "exception": false,
          "start_time": "2023-07-01T03:32:45.566510",
          "status": "completed"
        },
        "tags": []
      },
      "outputs": [
        {
          "data": {
            "text/plain": [
              "{('in0', 'in0'): Array(5.1968864e-06-1.1977714e-05j, dtype=complex64),\n",
              " ('in0', 'out0'): Array(-0.6969264-0.24169631j, dtype=complex64),\n",
              " ('out0', 'in0'): Array(-0.6969264-0.24169631j, dtype=complex64),\n",
              " ('out0', 'out0'): Array(2.842532e-06-5.5935166e-06j, dtype=complex64)}"
            ]
          },
          "execution_count": 52,
          "metadata": {},
          "output_type": "execute_result"
        }
      ],
      "source": [
        "sax.sdict(evaluate_circuit_klu(instances, connections, ports))"
      ]
    }
  ],
  "metadata": {
    "kernelspec": {
      "display_name": "octans",
      "language": "python",
      "name": "octans"
    },
    "language_info": {
      "codemirror_mode": {
        "name": "ipython",
        "version": 3
      },
      "file_extension": ".py",
      "mimetype": "text/x-python",
      "name": "python",
      "nbconvert_exporter": "python",
      "pygments_lexer": "ipython3",
      "version": "3.11.4"
    },
    "papermill": {
      "default_parameters": {},
      "duration": 10.349969,
      "end_time": "2023-07-01T03:32:46.108770",
      "environment_variables": {},
      "exception": null,
      "input_path": "./nbs/08b_backends_klu.ipynb",
      "output_path": "./nbs/08b_backends_klu.ipynb",
      "parameters": {},
      "start_time": "2023-07-01T03:32:35.758801",
      "version": "2.3.4"
    }
  },
  "nbformat": 4,
  "nbformat_minor": 5
}