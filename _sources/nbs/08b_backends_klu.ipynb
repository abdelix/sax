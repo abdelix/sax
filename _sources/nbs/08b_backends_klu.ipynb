{
  "cells": [
    {
      "cell_type": "code",
      "execution_count": 1,
      "id": "6644e0e1c3fef4d2",
      "metadata": {
        "execution": {
          "iopub.execute_input": "2023-06-01T21:09:50.479862Z",
          "iopub.status.busy": "2023-06-01T21:09:50.479621Z",
          "iopub.status.idle": "2023-06-01T21:09:50.482728Z",
          "shell.execute_reply": "2023-06-01T21:09:50.482218Z"
        },
        "papermill": {
          "duration": 0.018561,
          "end_time": "2023-06-01T21:09:50.484777",
          "exception": false,
          "start_time": "2023-06-01T21:09:50.466216",
          "status": "completed"
        },
        "tags": [
          "remove-cell"
        ]
      },
      "outputs": [],
      "source": []
    },
    {
      "cell_type": "markdown",
      "id": "27c3489e",
      "metadata": {
        "papermill": {
          "duration": 0.010454,
          "end_time": "2023-06-01T21:09:50.505514",
          "exception": false,
          "start_time": "2023-06-01T21:09:50.495060",
          "status": "completed"
        },
        "tags": []
      },
      "source": [
        "# Backend - KLU\n",
        "\n",
        "> SAX KLU Backend"
      ]
    },
    {
      "cell_type": "code",
      "execution_count": 2,
      "id": "375c24db1a113046",
      "metadata": {
        "execution": {
          "iopub.execute_input": "2023-06-01T21:09:50.527116Z",
          "iopub.status.busy": "2023-06-01T21:09:50.526884Z",
          "iopub.status.idle": "2023-06-01T21:09:52.081431Z",
          "shell.execute_reply": "2023-06-01T21:09:52.081003Z"
        },
        "papermill": {
          "duration": 1.567255,
          "end_time": "2023-06-01T21:09:52.083178",
          "exception": false,
          "start_time": "2023-06-01T21:09:50.515923",
          "status": "completed"
        },
        "tags": [
          "remove-cell"
        ]
      },
      "outputs": [],
      "source": [
        "import sax\n",
        "import matplotlib.pyplot as plt\n",
        "from fastcore.test import test_eq\n",
        "from pytest import approx, raises\n",
        "from nbdev import show_doc\n",
        "\n",
        "import os, sys; sys.stderr = open(os.devnull, \"w\")"
      ]
    },
    {
      "cell_type": "code",
      "execution_count": 3,
      "id": "2aca0986ff52719b",
      "metadata": {
        "execution": {
          "iopub.execute_input": "2023-06-01T21:09:52.105543Z",
          "iopub.status.busy": "2023-06-01T21:09:52.105125Z",
          "iopub.status.idle": "2023-06-01T21:09:52.108947Z",
          "shell.execute_reply": "2023-06-01T21:09:52.108571Z"
        },
        "papermill": {
          "duration": 0.016568,
          "end_time": "2023-06-01T21:09:52.110793",
          "exception": false,
          "start_time": "2023-06-01T21:09:52.094225",
          "status": "completed"
        },
        "tags": [
          "hide-input"
        ]
      },
      "outputs": [],
      "source": [
        "from __future__ import annotations\n",
        "\n",
        "from typing import Dict\n",
        "\n",
        "    \n",
        "from sax.typing_ import SDense, SDict, SType, scoo\n",
        "from sax.backends import evaluate_circuit\n",
        "\n",
        "try:\n",
        "    import klujax\n",
        "except ImportError:\n",
        "    klujax = None\n",
        "    \n",
        "try:\n",
        "    import jax\n",
        "    import jax.numpy as jnp\n",
        "    JAX_AVAILABLE = True\n",
        "except ImportError:\n",
        "    import numpy as jnp\n",
        "    JAX_AVAILABLE = False"
      ]
    },
    {
      "cell_type": "markdown",
      "id": "64e42767",
      "metadata": {
        "papermill": {
          "duration": 0.010082,
          "end_time": "2023-06-01T21:09:52.130841",
          "exception": false,
          "start_time": "2023-06-01T21:09:52.120759",
          "status": "completed"
        },
        "tags": []
      },
      "source": [
        "## Citation\n",
        "The KLU backend is using `klujax`, which uses the [SuiteSparse](https://github.com/DrTimothyAldenDavis/SuiteSparse) C++ libraries for sparse matrix evaluations to evaluate the circuit insanely fast on a CPU. The specific algorith being used in question is the KLU algorithm:\n",
        "\n",
        "> Ekanathan Palamadai Natariajan. \"*KLU - A high performance sparse linear solver for circuit simulation problems.*\""
      ]
    },
    {
      "cell_type": "markdown",
      "id": "2db5821c",
      "metadata": {
        "papermill": {
          "duration": 0.010091,
          "end_time": "2023-06-01T21:09:52.150880",
          "exception": false,
          "start_time": "2023-06-01T21:09:52.140789",
          "status": "completed"
        },
        "tags": []
      },
      "source": [
        "## Theoretical Background"
      ]
    },
    {
      "cell_type": "markdown",
      "id": "3d4d4a4c",
      "metadata": {
        "papermill": {
          "duration": 0.009886,
          "end_time": "2023-06-01T21:09:52.170624",
          "exception": false,
          "start_time": "2023-06-01T21:09:52.160738",
          "status": "completed"
        },
        "tags": []
      },
      "source": [
        "The core of the KLU algorithm is supported by `klujax`, which internally uses the Suitesparse libraries to solve the sparse system `Ax = b`, in which A is a sparse matrix."
      ]
    },
    {
      "cell_type": "markdown",
      "id": "a1985f58",
      "metadata": {
        "papermill": {
          "duration": 0.009868,
          "end_time": "2023-06-01T21:09:52.190403",
          "exception": false,
          "start_time": "2023-06-01T21:09:52.180535",
          "status": "completed"
        },
        "tags": []
      },
      "source": [
        "Now it only comes down to shoehorn our circuit evaluation into a sparse linear system of equations $Ax=b$ where we need to solve for $x$ using `klujax`. \n",
        "Consider the block diagonal matrix $S_{bd}$ of all components in the circuit acting on the fields $x_{in}$ at each of the individual ports of each of the component integrated in $S^{bd}$. The output fields $x^{out}$ at each of those ports is then given by:\n",
        "\n",
        "$$\n",
        "x^{out} = S_{bd} x^{in}\n",
        "$$"
      ]
    },
    {
      "cell_type": "markdown",
      "id": "9c26c04a",
      "metadata": {
        "papermill": {
          "duration": 0.009867,
          "end_time": "2023-06-01T21:09:52.210284",
          "exception": false,
          "start_time": "2023-06-01T21:09:52.200417",
          "status": "completed"
        },
        "tags": []
      },
      "source": [
        "However, $S_{bd}$ is not the S-matrix of the circuit as it does not encode any connectivity *between* the components. Connecting two component ports basically comes down to enforcing equality between the output fields at one port of a component with the input fields at another port of another (or maybe even the same) component. This equality can be enforced by creating an internal connection matrix, connecting all internal ports of the circuit:\n",
        "\n",
        "$$\n",
        "x^{in} = C_{int} x^{out}\n",
        "$$"
      ]
    },
    {
      "cell_type": "markdown",
      "id": "16b3fdad",
      "metadata": {
        "papermill": {
          "duration": 0.009928,
          "end_time": "2023-06-01T21:09:52.230079",
          "exception": false,
          "start_time": "2023-06-01T21:09:52.220151",
          "status": "completed"
        },
        "tags": []
      },
      "source": [
        "We can thus write the following combined equation:\n",
        "\n",
        "$$\n",
        "x^{in} = C_{int} S_{bd} x^{in}\n",
        "$$"
      ]
    },
    {
      "cell_type": "markdown",
      "id": "f5ceb9a2",
      "metadata": {
        "papermill": {
          "duration": 0.00984,
          "end_time": "2023-06-01T21:09:52.249784",
          "exception": false,
          "start_time": "2023-06-01T21:09:52.239944",
          "status": "completed"
        },
        "tags": []
      },
      "source": [
        "But this is not the complete story... Some component ports will *not* be *interconnected* with other ports: they will become the new *external ports* (or output ports) of the combined circuit. We can include those external ports into the above equation as follows:\n",
        "\n",
        "$$\n",
        "\\begin{pmatrix} x^{in} \\\\ x^{out}_{ext} \\end{pmatrix} = \\begin{pmatrix} C_{int} & C_{ext} \\\\ C_{ext}^T & 0 \\end{pmatrix} \\begin{pmatrix} S_{bd} x^{in} \\\\ x_{ext}^{in} \\end{pmatrix} \n",
        "$$"
      ]
    },
    {
      "cell_type": "markdown",
      "id": "6382a242",
      "metadata": {
        "papermill": {
          "duration": 0.010112,
          "end_time": "2023-06-01T21:09:52.269797",
          "exception": false,
          "start_time": "2023-06-01T21:09:52.259685",
          "status": "completed"
        },
        "tags": []
      },
      "source": [
        "Note that $C_{ext}$ is obviously **not** a square matrix. Eliminating $x^{in}$ from the equation above finally yields:\n",
        "\n",
        "$$\n",
        "x^{out}_{ext} = C^T_{ext} S_{bd} (\\mathbb{1} - C_{int}S_{bd})^{-1} C_{ext}x_{ext}^{in}\n",
        "$$"
      ]
    },
    {
      "cell_type": "markdown",
      "id": "5f15bdcd",
      "metadata": {
        "papermill": {
          "duration": 0.0099,
          "end_time": "2023-06-01T21:09:52.289598",
          "exception": false,
          "start_time": "2023-06-01T21:09:52.279698",
          "status": "completed"
        },
        "tags": []
      },
      "source": [
        "We basically found a representation of the circuit S-matrix:\n",
        "\n",
        "$$\n",
        "S = C^T_{ext} S_{bd} (\\mathbb{1} - C_{int}S_{bd})^{-1} C_{ext}\n",
        "$$"
      ]
    },
    {
      "cell_type": "markdown",
      "id": "40ad83b8",
      "metadata": {
        "papermill": {
          "duration": 0.010285,
          "end_time": "2023-06-01T21:09:52.309815",
          "exception": false,
          "start_time": "2023-06-01T21:09:52.299530",
          "status": "completed"
        },
        "tags": []
      },
      "source": [
        "Obviously, we won't want to calculate the inverse $(\\mathbb{1} - C_{int}S_{bd})^{-1}$, which is the inverse of a very sparse matrix (a connection matrix only has a single 1 per line), which very often is not even sparse itself. In stead we'll use the `solve_klu` function:\n",
        "\n",
        "$$\n",
        "S = C^T_{ext} S_{bd} \\texttt{solve}\\_\\texttt{klu}\\left((\\mathbb{1} - C_{int}S_{bd}), C_{ext}\\right)\n",
        "$$"
      ]
    },
    {
      "cell_type": "markdown",
      "id": "018fab3d",
      "metadata": {
        "papermill": {
          "duration": 0.009884,
          "end_time": "2023-06-01T21:09:52.329731",
          "exception": false,
          "start_time": "2023-06-01T21:09:52.319847",
          "status": "completed"
        },
        "tags": []
      },
      "source": [
        "Moreover, $C_{ext}^TS_{bd}$ is also a sparse matrix, therefore we'll also need a `mul_coo` routine:\n",
        "\n",
        "$$\n",
        "S = C^T_{ext} \\texttt{mul}\\_\\texttt{coo}\\left(S_{bd},~~\\texttt{solve}\\_\\texttt{klu}\\left((\\mathbb{1} - C_{int}S_{bd}),~C_{ext}\\right)\\right)\n",
        "$$"
      ]
    },
    {
      "cell_type": "markdown",
      "id": "d9b78852",
      "metadata": {
        "papermill": {
          "duration": 0.009868,
          "end_time": "2023-06-01T21:09:52.349792",
          "exception": false,
          "start_time": "2023-06-01T21:09:52.339924",
          "status": "completed"
        },
        "tags": []
      },
      "source": [
        "## Sparse Helper Functions"
      ]
    },
    {
      "cell_type": "code",
      "execution_count": 4,
      "id": "0615c4cff90aa0a3",
      "metadata": {
        "execution": {
          "iopub.execute_input": "2023-06-01T21:09:52.371015Z",
          "iopub.status.busy": "2023-06-01T21:09:52.370756Z",
          "iopub.status.idle": "2023-06-01T21:09:52.373538Z",
          "shell.execute_reply": "2023-06-01T21:09:52.373146Z"
        },
        "papermill": {
          "duration": 0.015651,
          "end_time": "2023-06-01T21:09:52.375418",
          "exception": false,
          "start_time": "2023-06-01T21:09:52.359767",
          "status": "completed"
        },
        "tags": [
          "remove-input"
        ]
      },
      "outputs": [],
      "source": [
        "if klujax is not None:\n",
        "    show_doc(klujax.solve, doc_string=False, name=\"klujax.solve\")"
      ]
    },
    {
      "cell_type": "markdown",
      "id": "01299d5d",
      "metadata": {
        "papermill": {
          "duration": 0.009918,
          "end_time": "2023-06-01T21:09:52.395282",
          "exception": false,
          "start_time": "2023-06-01T21:09:52.385364",
          "status": "completed"
        },
        "tags": []
      },
      "source": [
        "`klujax.solve` solves the sparse system of equations `Ax=b` for `x`. Where `A` is represented by in [COO-format](https://en.wikipedia.org/wiki/Sparse_matrix#Coordinate_list_(COO)) as (`Ai`, `Aj`, `Ax`).\n",
        "\n",
        "> Example"
      ]
    },
    {
      "cell_type": "code",
      "execution_count": 5,
      "id": "63e7977a",
      "metadata": {
        "execution": {
          "iopub.execute_input": "2023-06-01T21:09:52.416412Z",
          "iopub.status.busy": "2023-06-01T21:09:52.416169Z",
          "iopub.status.idle": "2023-06-01T21:09:52.438099Z",
          "shell.execute_reply": "2023-06-01T21:09:52.437733Z"
        },
        "papermill": {
          "duration": 0.034224,
          "end_time": "2023-06-01T21:09:52.439485",
          "exception": false,
          "start_time": "2023-06-01T21:09:52.405261",
          "status": "completed"
        },
        "tags": []
      },
      "outputs": [
        {
          "data": {
            "text/plain": [
              "Array([6. , 1. , 0.5, 0.5, 2. ], dtype=float32)"
            ]
          },
          "execution_count": 5,
          "metadata": {},
          "output_type": "execute_result"
        }
      ],
      "source": [
        "Ai = jnp.array([0, 1, 2, 3, 4])\n",
        "Aj = jnp.array([1, 3, 4, 0, 2])\n",
        "Ax = jnp.array([5, 6, 1, 1, 2])\n",
        "b = jnp.array([5, 3, 2, 6, 1])\n",
        "\n",
        "if klujax is not None:\n",
        "    x = klujax.solve(Ai, Aj, Ax, b)\n",
        "else:\n",
        "    x = jnp.array([6.0, 1.0, 0.5, 0.5, 2.0])\n",
        "\n",
        "x"
      ]
    },
    {
      "cell_type": "markdown",
      "id": "3233b04c",
      "metadata": {
        "papermill": {
          "duration": 0.010104,
          "end_time": "2023-06-01T21:09:52.460203",
          "exception": false,
          "start_time": "2023-06-01T21:09:52.450099",
          "status": "completed"
        },
        "tags": []
      },
      "source": [
        "This result is indeed correct:"
      ]
    },
    {
      "cell_type": "code",
      "execution_count": 6,
      "id": "629bbc71",
      "metadata": {
        "execution": {
          "iopub.execute_input": "2023-06-01T21:09:52.481357Z",
          "iopub.status.busy": "2023-06-01T21:09:52.481140Z",
          "iopub.status.idle": "2023-06-01T21:09:52.626638Z",
          "shell.execute_reply": "2023-06-01T21:09:52.626212Z"
        },
        "papermill": {
          "duration": 0.157891,
          "end_time": "2023-06-01T21:09:52.628094",
          "exception": false,
          "start_time": "2023-06-01T21:09:52.470203",
          "status": "completed"
        },
        "tags": []
      },
      "outputs": [
        {
          "name": "stdout",
          "output_type": "stream",
          "text": [
            "[[0. 5. 0. 0. 0.]\n",
            " [0. 0. 0. 6. 0.]\n",
            " [0. 0. 0. 0. 1.]\n",
            " [1. 0. 0. 0. 0.]\n",
            " [0. 0. 2. 0. 0.]]\n",
            "[5. 3. 2. 6. 1.]\n"
          ]
        }
      ],
      "source": [
        "if JAX_AVAILABLE:\n",
        "    A = jnp.zeros((5, 5)).at[Ai, Aj].set(Ax)\n",
        "    print(A)\n",
        "    print(A@x)"
      ]
    },
    {
      "cell_type": "markdown",
      "id": "c7fe6547",
      "metadata": {
        "papermill": {
          "duration": 0.010244,
          "end_time": "2023-06-01T21:09:52.649326",
          "exception": false,
          "start_time": "2023-06-01T21:09:52.639082",
          "status": "completed"
        },
        "tags": []
      },
      "source": [
        "However, to use this function effectively, we probably need an extra dimension for `Ax`. Indeed, we would like to solve this equation for multiple wavelengths (or more general, for multiple circuit configurations) at once. For this we can use `jax.vmap` to expose `klujax.solve` to more dimensions for `Ax`:"
      ]
    },
    {
      "cell_type": "code",
      "execution_count": 7,
      "id": "2d6d2081a0075ef0",
      "metadata": {
        "execution": {
          "iopub.execute_input": "2023-06-01T21:09:52.670835Z",
          "iopub.status.busy": "2023-06-01T21:09:52.670573Z",
          "iopub.status.idle": "2023-06-01T21:09:52.673801Z",
          "shell.execute_reply": "2023-06-01T21:09:52.673406Z"
        },
        "papermill": {
          "duration": 0.016098,
          "end_time": "2023-06-01T21:09:52.675622",
          "exception": false,
          "start_time": "2023-06-01T21:09:52.659524",
          "status": "completed"
        },
        "tags": []
      },
      "outputs": [],
      "source": [
        "solve_klu = None\n",
        "if klujax is not None:\n",
        "    solve_klu = jax.vmap(klujax.solve, (None, None, 0, None), 0)"
      ]
    },
    {
      "cell_type": "code",
      "execution_count": 8,
      "id": "0f191659d9a999c4",
      "metadata": {
        "execution": {
          "iopub.execute_input": "2023-06-01T21:09:52.697108Z",
          "iopub.status.busy": "2023-06-01T21:09:52.696896Z",
          "iopub.status.idle": "2023-06-01T21:09:52.701069Z",
          "shell.execute_reply": "2023-06-01T21:09:52.700699Z"
        },
        "papermill": {
          "duration": 0.017642,
          "end_time": "2023-06-01T21:09:52.703575",
          "exception": false,
          "start_time": "2023-06-01T21:09:52.685933",
          "status": "completed"
        },
        "tags": [
          "remove-input"
        ]
      },
      "outputs": [
        {
          "data": {
            "text/markdown": [
              "<h4 id=\"solve_klu\" class=\"doc_header\"><code>solve_klu</code><a href=\"\" class=\"source_link\" style=\"float:right\">[source]</a></h4>\n",
              "\n"
            ],
            "text/plain": [
              "<IPython.core.display.Markdown object>"
            ]
          },
          "metadata": {},
          "output_type": "display_data"
        }
      ],
      "source": [
        "show_doc(solve_klu, doc_string=False, name=\"solve_klu\")"
      ]
    },
    {
      "cell_type": "markdown",
      "id": "6707049d",
      "metadata": {
        "papermill": {
          "duration": 0.010384,
          "end_time": "2023-06-01T21:09:52.724225",
          "exception": false,
          "start_time": "2023-06-01T21:09:52.713841",
          "status": "completed"
        },
        "tags": []
      },
      "source": [
        "Let's now redefine `Ax` and see what it gives:"
      ]
    },
    {
      "cell_type": "code",
      "execution_count": 9,
      "id": "d4d7b6f9",
      "metadata": {
        "execution": {
          "iopub.execute_input": "2023-06-01T21:09:52.754886Z",
          "iopub.status.busy": "2023-06-01T21:09:52.754593Z",
          "iopub.status.idle": "2023-06-01T21:09:52.765063Z",
          "shell.execute_reply": "2023-06-01T21:09:52.764707Z"
        },
        "papermill": {
          "duration": 0.023027,
          "end_time": "2023-06-01T21:09:52.766349",
          "exception": false,
          "start_time": "2023-06-01T21:09:52.743322",
          "status": "completed"
        },
        "tags": []
      },
      "outputs": [
        {
          "data": {
            "text/plain": [
              "Array([[6.       , 1.       , 0.5      , 0.5      , 2.       ],\n",
              "       [3.       , 1.       , 1.       , 0.75     , 0.6666667],\n",
              "       [1.5      , 5.       , 0.2      , 1.5      , 0.6666667]],      dtype=float32)"
            ]
          },
          "execution_count": 9,
          "metadata": {},
          "output_type": "execute_result"
        }
      ],
      "source": [
        "Ai = jnp.array([0, 1, 2, 3, 4])\n",
        "Aj = jnp.array([1, 3, 4, 0, 2])\n",
        "Ax = jnp.array([[5, 6, 1, 1, 2], [5, 4, 3, 2, 1], [1, 2, 3, 4, 5]])\n",
        "b = jnp.array([5, 3, 2, 6, 1])\n",
        "if klujax is not None:\n",
        "    x = solve_klu(Ai, Aj, Ax, b)\n",
        "else:\n",
        "    x = jnp.array([\n",
        "        [6.0, 1.0, 0.5, 0.5, 2.0],\n",
        "        [3.0, 1.0, 1.0, 0.75, 0.66666667],\n",
        "        [1.5, 5.0, 0.2, 1.5, 0.66666667],\n",
        "    ])\n",
        "    \n",
        "x"
      ]
    },
    {
      "cell_type": "markdown",
      "id": "5f342c6f",
      "metadata": {
        "papermill": {
          "duration": 0.010407,
          "end_time": "2023-06-01T21:09:52.787251",
          "exception": false,
          "start_time": "2023-06-01T21:09:52.776844",
          "status": "completed"
        },
        "tags": []
      },
      "source": [
        "This result is indeed correct:"
      ]
    },
    {
      "cell_type": "code",
      "execution_count": 10,
      "id": "0afefaa6",
      "metadata": {
        "execution": {
          "iopub.execute_input": "2023-06-01T21:09:52.809427Z",
          "iopub.status.busy": "2023-06-01T21:09:52.809218Z",
          "iopub.status.idle": "2023-06-01T21:09:52.901333Z",
          "shell.execute_reply": "2023-06-01T21:09:52.900905Z"
        },
        "papermill": {
          "duration": 0.105304,
          "end_time": "2023-06-01T21:09:52.903038",
          "exception": false,
          "start_time": "2023-06-01T21:09:52.797734",
          "status": "completed"
        },
        "tags": []
      },
      "outputs": [],
      "source": [
        "if JAX_AVAILABLE:\n",
        "    A = jnp.zeros((3, 5, 5)).at[:, Ai, Aj].set(Ax)\n",
        "    jnp.einsum(\"ijk,ik->ij\", A, x)"
      ]
    },
    {
      "cell_type": "markdown",
      "id": "7ed8f62d",
      "metadata": {
        "papermill": {
          "duration": 0.011035,
          "end_time": "2023-06-01T21:09:52.924894",
          "exception": false,
          "start_time": "2023-06-01T21:09:52.913859",
          "status": "completed"
        },
        "tags": []
      },
      "source": [
        "Additionally, we need a way to multiply a sparse COO-matrix with a dense vector. This can be done with `klujax.coo_mul_vec`:"
      ]
    },
    {
      "cell_type": "code",
      "execution_count": 11,
      "id": "9a30fd6e2db2c5fd",
      "metadata": {
        "execution": {
          "iopub.execute_input": "2023-06-01T21:09:52.946919Z",
          "iopub.status.busy": "2023-06-01T21:09:52.946656Z",
          "iopub.status.idle": "2023-06-01T21:09:52.949361Z",
          "shell.execute_reply": "2023-06-01T21:09:52.948981Z"
        },
        "papermill": {
          "duration": 0.015769,
          "end_time": "2023-06-01T21:09:52.951144",
          "exception": false,
          "start_time": "2023-06-01T21:09:52.935375",
          "status": "completed"
        },
        "tags": [
          "remove-input"
        ]
      },
      "outputs": [],
      "source": [
        "\n",
        "if klujax is not None:\n",
        "    show_doc(klujax.coo_mul_vec, doc_string=False, name=\"klujax.coo_mul_vec\")"
      ]
    },
    {
      "cell_type": "markdown",
      "id": "7f57c443",
      "metadata": {
        "papermill": {
          "duration": 0.010377,
          "end_time": "2023-06-01T21:09:52.971850",
          "exception": false,
          "start_time": "2023-06-01T21:09:52.961473",
          "status": "completed"
        },
        "tags": []
      },
      "source": [
        "However, it's useful to allow a batch dimension, this time *both* in `Ax` and in `b`:"
      ]
    },
    {
      "cell_type": "code",
      "execution_count": 12,
      "id": "ac350c8b5f4c3b98",
      "metadata": {
        "execution": {
          "iopub.execute_input": "2023-06-01T21:09:52.993841Z",
          "iopub.status.busy": "2023-06-01T21:09:52.993644Z",
          "iopub.status.idle": "2023-06-01T21:09:52.995968Z",
          "shell.execute_reply": "2023-06-01T21:09:52.995601Z"
        },
        "papermill": {
          "duration": 0.015127,
          "end_time": "2023-06-01T21:09:52.997620",
          "exception": false,
          "start_time": "2023-06-01T21:09:52.982493",
          "status": "completed"
        },
        "tags": [
          "remove-cell"
        ]
      },
      "outputs": [],
      "source": [
        "\n",
        "# @jax.jit  # TODO: make this available to autograd\n",
        "# def mul_coo(Ai, Aj, Ax, b):\n",
        "#     result = jnp.zeros_like(b).at[..., Ai, :].add(Ax[..., :, None] * b[..., Aj, :])\n",
        "#     return result"
      ]
    },
    {
      "cell_type": "code",
      "execution_count": 13,
      "id": "a64cf1c8ef728485",
      "metadata": {
        "execution": {
          "iopub.execute_input": "2023-06-01T21:09:53.020382Z",
          "iopub.status.busy": "2023-06-01T21:09:53.020191Z",
          "iopub.status.idle": "2023-06-01T21:09:53.022768Z",
          "shell.execute_reply": "2023-06-01T21:09:53.022385Z"
        },
        "papermill": {
          "duration": 0.015349,
          "end_time": "2023-06-01T21:09:53.024410",
          "exception": false,
          "start_time": "2023-06-01T21:09:53.009061",
          "status": "completed"
        },
        "tags": []
      },
      "outputs": [],
      "source": [
        "mul_coo = None \n",
        "if klujax is not None:\n",
        "    mul_coo = jax.vmap(klujax.coo_mul_vec, (None, None, 0, 0), 0)"
      ]
    },
    {
      "cell_type": "code",
      "execution_count": 14,
      "id": "12fe88f9ab5d2357",
      "metadata": {
        "execution": {
          "iopub.execute_input": "2023-06-01T21:09:53.046637Z",
          "iopub.status.busy": "2023-06-01T21:09:53.046446Z",
          "iopub.status.idle": "2023-06-01T21:09:53.049704Z",
          "shell.execute_reply": "2023-06-01T21:09:53.049353Z"
        },
        "papermill": {
          "duration": 0.017152,
          "end_time": "2023-06-01T21:09:53.052089",
          "exception": false,
          "start_time": "2023-06-01T21:09:53.034937",
          "status": "completed"
        },
        "tags": [
          "remove-input"
        ]
      },
      "outputs": [
        {
          "data": {
            "text/markdown": [
              "<h4 id=\"mul_coo\" class=\"doc_header\"><code>mul_coo</code><a href=\"\" class=\"source_link\" style=\"float:right\">[source]</a></h4>\n",
              "\n"
            ],
            "text/plain": [
              "<IPython.core.display.Markdown object>"
            ]
          },
          "metadata": {},
          "output_type": "display_data"
        }
      ],
      "source": [
        "show_doc(mul_coo, doc_string=False, name=\"mul_coo\")"
      ]
    },
    {
      "cell_type": "markdown",
      "id": "d26cc3d9",
      "metadata": {
        "papermill": {
          "duration": 0.01058,
          "end_time": "2023-06-01T21:09:53.073233",
          "exception": false,
          "start_time": "2023-06-01T21:09:53.062653",
          "status": "completed"
        },
        "tags": []
      },
      "source": [
        "Let's confirm this does the right thing:"
      ]
    },
    {
      "cell_type": "code",
      "execution_count": 15,
      "id": "bd868973",
      "metadata": {
        "execution": {
          "iopub.execute_input": "2023-06-01T21:09:53.095575Z",
          "iopub.status.busy": "2023-06-01T21:09:53.095364Z",
          "iopub.status.idle": "2023-06-01T21:09:53.100306Z",
          "shell.execute_reply": "2023-06-01T21:09:53.099946Z"
        },
        "papermill": {
          "duration": 0.018742,
          "end_time": "2023-06-01T21:09:53.102677",
          "exception": false,
          "start_time": "2023-06-01T21:09:53.083935",
          "status": "completed"
        },
        "tags": []
      },
      "outputs": [
        {
          "data": {
            "text/plain": [
              "Array([[5., 3., 2., 6., 1.],\n",
              "       [5., 3., 2., 6., 1.],\n",
              "       [5., 3., 2., 6., 1.]], dtype=float32)"
            ]
          },
          "execution_count": 15,
          "metadata": {},
          "output_type": "execute_result"
        }
      ],
      "source": [
        "if klujax is not None:\n",
        "    result = mul_coo(Ai, Aj, Ax, x)\n",
        "else:\n",
        "    result = jnp.array([\n",
        "        [5.0, 3.0, 2.0, 6.0, 1.0],\n",
        "        [5.0, 3.0, 2.00000001, 6.0, 1.0],\n",
        "        [5.0, 3.0, 2.00000001, 6.0, 1.0],\n",
        "    ])\n",
        "    \n",
        "result"
      ]
    },
    {
      "cell_type": "markdown",
      "id": "d71e89fa",
      "metadata": {
        "papermill": {
          "duration": 0.010701,
          "end_time": "2023-06-01T21:09:53.124108",
          "exception": false,
          "start_time": "2023-06-01T21:09:53.113407",
          "status": "completed"
        },
        "tags": []
      },
      "source": [
        "## Circuit Evaluation"
      ]
    },
    {
      "cell_type": "markdown",
      "id": "29bdcc0e2983d978",
      "metadata": {},
      "source": [
        ":::{eval-rst}\n",
        ".. autofunction:: sax.backends.klu.evaluate_circuit_klu\n",
        ":::\n"
      ]
    },
    {
      "cell_type": "code",
      "execution_count": 16,
      "id": "a552e05bcc8a80f3",
      "metadata": {
        "execution": {
          "iopub.execute_input": "2023-06-01T21:09:53.146739Z",
          "iopub.status.busy": "2023-06-01T21:09:53.146502Z",
          "iopub.status.idle": "2023-06-01T21:09:53.248756Z",
          "shell.execute_reply": "2023-06-01T21:09:53.248354Z"
        },
        "papermill": {
          "duration": 0.115498,
          "end_time": "2023-06-01T21:09:53.250380",
          "exception": false,
          "start_time": "2023-06-01T21:09:53.134882",
          "status": "completed"
        },
        "tags": [
          "hide-input"
        ]
      },
      "outputs": [],
      "source": [
        "def evaluate_circuit_klu(\n",
        "    instances: Dict[str, SType],\n",
        "    connections: Dict[str, str],\n",
        "    ports: Dict[str, str],\n",
        "):\n",
        "    \"\"\"evaluate a circuit using KLU for the given sdicts. \"\"\"\n",
        "\n",
        "    if klujax is None:\n",
        "        raise ImportError(\n",
        "            \"Could not import 'klujax'. \"\n",
        "            \"Please install it first before using backend method 'klu'\"\n",
        "        )\n",
        "\n",
        "    assert solve_klu is not None\n",
        "    assert mul_coo is not None\n",
        "\n",
        "    connections = {**connections, **{v: k for k, v in connections.items()}}\n",
        "    inverse_ports = {v: k for k, v in ports.items()}\n",
        "    port_map = {k: i for i, k in enumerate(ports)}\n",
        "\n",
        "    idx, Si, Sj, Sx, instance_ports = 0, [], [], [], {}\n",
        "    batch_shape = ()\n",
        "    for name, instance in instances.items():\n",
        "        si, sj, sx, ports_map = scoo(instance)\n",
        "        Si.append(si + idx)\n",
        "        Sj.append(sj + idx)\n",
        "        Sx.append(sx)\n",
        "        if len(sx.shape[:-1]) > len(batch_shape):\n",
        "            batch_shape = sx.shape[:-1]\n",
        "        instance_ports.update({f\"{name},{p}\": i + idx for p, i in ports_map.items()})\n",
        "        idx += len(ports_map)\n",
        "\n",
        "    Si = jnp.concatenate(Si, -1)\n",
        "    Sj = jnp.concatenate(Sj, -1)\n",
        "    Sx = jnp.concatenate(\n",
        "        [jnp.broadcast_to(sx, (*batch_shape, sx.shape[-1])) for sx in Sx], -1\n",
        "    )\n",
        "\n",
        "    n_col = idx\n",
        "    n_rhs = len(port_map)\n",
        "\n",
        "    Cmap = {\n",
        "        int(instance_ports[k]): int(instance_ports[v]) for k, v in connections.items()\n",
        "    }\n",
        "    Ci = jnp.array(list(Cmap.keys()), dtype=jnp.int32)\n",
        "    Cj = jnp.array(list(Cmap.values()), dtype=jnp.int32)\n",
        "\n",
        "    Cextmap = {int(instance_ports[k]): int(port_map[v]) for k, v in inverse_ports.items()}\n",
        "    Cexti = jnp.stack(list(Cextmap.keys()), 0)\n",
        "    Cextj = jnp.stack(list(Cextmap.values()), 0)\n",
        "    Cext = jnp.zeros((n_col, n_rhs), dtype=complex).at[Cexti, Cextj].set(1.0)\n",
        "\n",
        "    # TODO: make this block jittable...\n",
        "    Ix = jnp.ones((*batch_shape, n_col))\n",
        "    Ii = Ij = jnp.arange(n_col)\n",
        "    mask = Cj[None,:] == Si[:, None]\n",
        "    CSi = jnp.broadcast_to(Ci[None, :], mask.shape)[mask]\n",
        "\n",
        "    # CSi = jnp.where(Cj[None, :] == Si[:, None], Ci[None, :], 0).sum(1)\n",
        "    mask = (Cj[:, None] == Si[None, :]).any(0)\n",
        "    CSj = Sj[mask]\n",
        "    \n",
        "    if Sx.ndim > 1: # bug in JAX... see https://github.com/google/jax/issues/9050\n",
        "        CSx = Sx[..., mask]\n",
        "    else:\n",
        "        CSx = Sx[mask]\n",
        "        \n",
        "    # CSj = jnp.where(mask, Sj, 0)\n",
        "    # CSx = jnp.where(mask, Sx, 0.0)\n",
        "\n",
        "    I_CSi = jnp.concatenate([CSi, Ii], -1)\n",
        "    I_CSj = jnp.concatenate([CSj, Ij], -1)\n",
        "    I_CSx = jnp.concatenate([-CSx, Ix], -1)\n",
        "\n",
        "    n_col, n_rhs = Cext.shape\n",
        "    n_lhs = jnp.prod(jnp.array(batch_shape, dtype=jnp.int32))\n",
        "    Sx = Sx.reshape(n_lhs, -1)\n",
        "    I_CSx = I_CSx.reshape(n_lhs, -1)\n",
        "\n",
        "    inv_I_CS_Cext = solve_klu(I_CSi, I_CSj, I_CSx, Cext)\n",
        "    S_inv_I_CS_Cext = mul_coo(Si, Sj, Sx, inv_I_CS_Cext)\n",
        "\n",
        "    CextT_S_inv_I_CS_Cext = S_inv_I_CS_Cext[..., Cexti, :][..., :, Cextj]\n",
        "    \n",
        "    _, n, _ = CextT_S_inv_I_CS_Cext.shape\n",
        "    S = CextT_S_inv_I_CS_Cext.reshape(*batch_shape, n, n)\n",
        "\n",
        "    return S, port_map"
      ]
    },
    {
      "cell_type": "markdown",
      "id": "dce9d8ca",
      "metadata": {
        "papermill": {
          "duration": 0.011059,
          "end_time": "2023-06-01T21:09:53.272778",
          "exception": false,
          "start_time": "2023-06-01T21:09:53.261719",
          "status": "completed"
        },
        "tags": []
      },
      "source": [
        "## Example"
      ]
    },
    {
      "cell_type": "code",
      "execution_count": 17,
      "id": "a95658e3a77e778d",
      "metadata": {
        "execution": {
          "iopub.execute_input": "2023-06-01T21:09:53.295720Z",
          "iopub.status.busy": "2023-06-01T21:09:53.295484Z",
          "iopub.status.idle": "2023-06-01T21:09:53.298736Z",
          "shell.execute_reply": "2023-06-01T21:09:53.298309Z"
        },
        "papermill": {
          "duration": 0.016721,
          "end_time": "2023-06-01T21:09:53.300556",
          "exception": false,
          "start_time": "2023-06-01T21:09:53.283835",
          "status": "completed"
        },
        "tags": [
          "remove-cell"
        ]
      },
      "outputs": [],
      "source": [
        "if klujax is None:\n",
        "    def evaluate_circuit_klu(\n",
        "        instances: Dict[str, SType],\n",
        "        connections: Dict[str, str],\n",
        "        ports: Dict[str, str],\n",
        "    ):\n",
        "        sdict = evaluate_circuit(instances, connections, ports)\n",
        "        sdense = sax.sdense(sdict)\n",
        "        return sdense"
      ]
    },
    {
      "cell_type": "code",
      "execution_count": 18,
      "id": "f577522a",
      "metadata": {
        "execution": {
          "iopub.execute_input": "2023-06-01T21:09:53.323527Z",
          "iopub.status.busy": "2023-06-01T21:09:53.323323Z",
          "iopub.status.idle": "2023-06-01T21:09:54.206094Z",
          "shell.execute_reply": "2023-06-01T21:09:54.205633Z"
        },
        "papermill": {
          "duration": 0.896196,
          "end_time": "2023-06-01T21:09:54.207916",
          "exception": false,
          "start_time": "2023-06-01T21:09:53.311720",
          "status": "completed"
        },
        "tags": []
      },
      "outputs": [],
      "source": [
        "wg_sdict: SDict = {\n",
        "    (\"in0\", \"out0\"): 0.5 + 0.86603j,\n",
        "    (\"out0\", \"in0\"): 0.5 + 0.86603j,\n",
        "}\n",
        "\n",
        "\u03c4, \u03ba = 0.5 ** 0.5, 1j * 0.5 ** 0.5\n",
        "dc_sdense: SDense = (\n",
        "    jnp.array([[0, 0, \u03c4, \u03ba], \n",
        "               [0, 0, \u03ba, \u03c4], \n",
        "               [\u03c4, \u03ba, 0, 0], \n",
        "               [\u03ba, \u03c4, 0, 0]]),\n",
        "    {\"in0\": 0, \"in1\": 1, \"out0\": 2, \"out1\": 3},\n",
        ")\n",
        "\n",
        "mzi_sdense: SDense = evaluate_circuit_klu(\n",
        "    instances={\n",
        "        \"dc1\": dc_sdense,\n",
        "        \"wg\": wg_sdict,\n",
        "        \"dc2\": dc_sdense,\n",
        "    },\n",
        "    connections={\n",
        "        \"dc1,out0\": \"wg,in0\",\n",
        "        \"wg,out0\": \"dc2,in0\",\n",
        "        \"dc1,out1\": \"dc2,in1\",\n",
        "    },\n",
        "    ports={\n",
        "        \"in0\": \"dc1,in0\",\n",
        "        \"in1\": \"dc1,in1\",\n",
        "        \"out0\": \"dc2,out0\",\n",
        "        \"out1\": \"dc2,out1\",\n",
        "    }\n",
        ")"
      ]
    },
    {
      "cell_type": "markdown",
      "id": "60b6d1e6",
      "metadata": {
        "papermill": {
          "duration": 0.01103,
          "end_time": "2023-06-01T21:09:54.231017",
          "exception": false,
          "start_time": "2023-06-01T21:09:54.219987",
          "status": "completed"
        },
        "tags": []
      },
      "source": [
        "the KLU backend yields `SDense` results by default:"
      ]
    },
    {
      "cell_type": "code",
      "execution_count": 19,
      "id": "ecc3115e",
      "metadata": {
        "execution": {
          "iopub.execute_input": "2023-06-01T21:09:54.254171Z",
          "iopub.status.busy": "2023-06-01T21:09:54.253923Z",
          "iopub.status.idle": "2023-06-01T21:09:54.258107Z",
          "shell.execute_reply": "2023-06-01T21:09:54.257733Z"
        },
        "papermill": {
          "duration": 0.018495,
          "end_time": "2023-06-01T21:09:54.260572",
          "exception": false,
          "start_time": "2023-06-01T21:09:54.242077",
          "status": "completed"
        },
        "tags": []
      },
      "outputs": [
        {
          "data": {
            "text/plain": [
              "(Array([[ 0.        +0.j        ,  0.        +0.j        ,\n",
              "         -0.24999999+0.433015j  , -0.433015  +0.74999994j],\n",
              "        [ 0.        +0.j        ,  0.        +0.j        ,\n",
              "         -0.433015  +0.74999994j,  0.24999999-0.433015j  ],\n",
              "        [-0.24999999+0.433015j  , -0.433015  +0.74999994j,\n",
              "          0.        +0.j        ,  0.        +0.j        ],\n",
              "        [-0.433015  +0.74999994j,  0.24999999-0.433015j  ,\n",
              "          0.        +0.j        ,  0.        +0.j        ]],      dtype=complex64),\n",
              " {'in0': 0, 'in1': 1, 'out0': 2, 'out1': 3})"
            ]
          },
          "execution_count": 19,
          "metadata": {},
          "output_type": "execute_result"
        }
      ],
      "source": [
        "mzi_sdense"
      ]
    },
    {
      "cell_type": "markdown",
      "id": "4b8e87f3",
      "metadata": {
        "papermill": {
          "duration": 0.010924,
          "end_time": "2023-06-01T21:09:54.282401",
          "exception": false,
          "start_time": "2023-06-01T21:09:54.271477",
          "status": "completed"
        },
        "tags": []
      },
      "source": [
        "An `SDense` is returned for perfomance reasons. By returning an `SDense` by default we prevent any internal `SDict -> SDense` conversions in deeply hierarchical circuits. It's however very easy to convert `SDense` to `SDict` as a final step. To do this, wrap the result (or the function generating the result) with `sdict`:"
      ]
    },
    {
      "cell_type": "code",
      "execution_count": 20,
      "id": "7202ab1e",
      "metadata": {
        "execution": {
          "iopub.execute_input": "2023-06-01T21:09:54.305763Z",
          "iopub.status.busy": "2023-06-01T21:09:54.305546Z",
          "iopub.status.idle": "2023-06-01T21:09:54.326775Z",
          "shell.execute_reply": "2023-06-01T21:09:54.326397Z"
        },
        "papermill": {
          "duration": 0.034753,
          "end_time": "2023-06-01T21:09:54.328086",
          "exception": false,
          "start_time": "2023-06-01T21:09:54.293333",
          "status": "completed"
        },
        "tags": []
      },
      "outputs": [
        {
          "data": {
            "text/plain": [
              "{('in0', 'in0'): Array(0.+0.j, dtype=complex64),\n",
              " ('in0', 'in1'): Array(0.+0.j, dtype=complex64),\n",
              " ('in0', 'out0'): Array(-0.24999999+0.433015j, dtype=complex64),\n",
              " ('in0', 'out1'): Array(-0.433015+0.74999994j, dtype=complex64),\n",
              " ('in1', 'in0'): Array(0.+0.j, dtype=complex64),\n",
              " ('in1', 'in1'): Array(0.+0.j, dtype=complex64),\n",
              " ('in1', 'out0'): Array(-0.433015+0.74999994j, dtype=complex64),\n",
              " ('in1', 'out1'): Array(0.24999999-0.433015j, dtype=complex64),\n",
              " ('out0', 'in0'): Array(-0.24999999+0.433015j, dtype=complex64),\n",
              " ('out0', 'in1'): Array(-0.433015+0.74999994j, dtype=complex64),\n",
              " ('out0', 'out0'): Array(0.+0.j, dtype=complex64),\n",
              " ('out0', 'out1'): Array(0.+0.j, dtype=complex64),\n",
              " ('out1', 'in0'): Array(-0.433015+0.74999994j, dtype=complex64),\n",
              " ('out1', 'in1'): Array(0.24999999-0.433015j, dtype=complex64),\n",
              " ('out1', 'out0'): Array(0.+0.j, dtype=complex64),\n",
              " ('out1', 'out1'): Array(0.+0.j, dtype=complex64)}"
            ]
          },
          "execution_count": 20,
          "metadata": {},
          "output_type": "execute_result"
        }
      ],
      "source": [
        "sax.sdict(mzi_sdense)"
      ]
    },
    {
      "cell_type": "markdown",
      "id": "9f8cd5ea",
      "metadata": {
        "papermill": {
          "duration": 0.011158,
          "end_time": "2023-06-01T21:09:54.350781",
          "exception": false,
          "start_time": "2023-06-01T21:09:54.339623",
          "status": "completed"
        },
        "tags": []
      },
      "source": [
        "## Algorithm Walkthrough"
      ]
    },
    {
      "cell_type": "code",
      "execution_count": 21,
      "id": "665c856d",
      "metadata": {
        "execution": {
          "iopub.execute_input": "2023-06-01T21:09:54.374450Z",
          "iopub.status.busy": "2023-06-01T21:09:54.374225Z",
          "iopub.status.idle": "2023-06-01T21:09:54.377272Z",
          "shell.execute_reply": "2023-06-01T21:09:54.376888Z"
        },
        "papermill": {
          "duration": 0.016911,
          "end_time": "2023-06-01T21:09:54.379169",
          "exception": false,
          "start_time": "2023-06-01T21:09:54.362258",
          "status": "completed"
        },
        "tags": []
      },
      "outputs": [],
      "source": [
        "instances={\n",
        "    \"dc1\": dc_sdense,\n",
        "    \"wg\": wg_sdict,\n",
        "    \"dc2\": dc_sdense,\n",
        "}\n",
        "connections={\n",
        "    \"dc1,out0\": \"wg,in0\",\n",
        "    \"wg,out0\": \"dc2,in0\",\n",
        "    \"dc1,out1\": \"dc2,in1\",\n",
        "}\n",
        "ports={\n",
        "    \"in0\": \"dc1,in0\",\n",
        "    \"in1\": \"dc1,in1\",\n",
        "    \"out0\": \"dc2,out0\",\n",
        "    \"out1\": \"dc2,out1\",\n",
        "}"
      ]
    },
    {
      "cell_type": "markdown",
      "id": "b5bf5188",
      "metadata": {
        "papermill": {
          "duration": 0.011073,
          "end_time": "2023-06-01T21:09:54.401269",
          "exception": false,
          "start_time": "2023-06-01T21:09:54.390196",
          "status": "completed"
        },
        "tags": []
      },
      "source": [
        "Let's first enforce $C^T = C$:"
      ]
    },
    {
      "cell_type": "code",
      "execution_count": 22,
      "id": "6d7d4c39",
      "metadata": {
        "execution": {
          "iopub.execute_input": "2023-06-01T21:09:54.424511Z",
          "iopub.status.busy": "2023-06-01T21:09:54.424282Z",
          "iopub.status.idle": "2023-06-01T21:09:54.427980Z",
          "shell.execute_reply": "2023-06-01T21:09:54.427613Z"
        },
        "papermill": {
          "duration": 0.01808,
          "end_time": "2023-06-01T21:09:54.430403",
          "exception": false,
          "start_time": "2023-06-01T21:09:54.412323",
          "status": "completed"
        },
        "tags": []
      },
      "outputs": [
        {
          "data": {
            "text/plain": [
              "{'dc1,out0': 'wg,in0',\n",
              " 'wg,out0': 'dc2,in0',\n",
              " 'dc1,out1': 'dc2,in1',\n",
              " 'wg,in0': 'dc1,out0',\n",
              " 'dc2,in0': 'wg,out0',\n",
              " 'dc2,in1': 'dc1,out1'}"
            ]
          },
          "execution_count": 22,
          "metadata": {},
          "output_type": "execute_result"
        }
      ],
      "source": [
        "connections = {**connections, **{v: k for k, v in connections.items()}}\n",
        "connections"
      ]
    },
    {
      "cell_type": "markdown",
      "id": "a41250ec",
      "metadata": {
        "papermill": {
          "duration": 0.011233,
          "end_time": "2023-06-01T21:09:54.452836",
          "exception": false,
          "start_time": "2023-06-01T21:09:54.441603",
          "status": "completed"
        },
        "tags": []
      },
      "source": [
        "We'll also need the reversed ports:"
      ]
    },
    {
      "cell_type": "code",
      "execution_count": 23,
      "id": "9a70463f",
      "metadata": {
        "execution": {
          "iopub.execute_input": "2023-06-01T21:09:54.476472Z",
          "iopub.status.busy": "2023-06-01T21:09:54.476235Z",
          "iopub.status.idle": "2023-06-01T21:09:54.479832Z",
          "shell.execute_reply": "2023-06-01T21:09:54.479462Z"
        },
        "papermill": {
          "duration": 0.018027,
          "end_time": "2023-06-01T21:09:54.482198",
          "exception": false,
          "start_time": "2023-06-01T21:09:54.464171",
          "status": "completed"
        },
        "tags": []
      },
      "outputs": [
        {
          "data": {
            "text/plain": [
              "{'dc1,in0': 'in0', 'dc1,in1': 'in1', 'dc2,out0': 'out0', 'dc2,out1': 'out1'}"
            ]
          },
          "execution_count": 23,
          "metadata": {},
          "output_type": "execute_result"
        }
      ],
      "source": [
        "inverse_ports = {v: k for k, v in ports.items()}\n",
        "inverse_ports"
      ]
    },
    {
      "cell_type": "markdown",
      "id": "1e96443b",
      "metadata": {
        "papermill": {
          "duration": 0.01163,
          "end_time": "2023-06-01T21:09:54.505058",
          "exception": false,
          "start_time": "2023-06-01T21:09:54.493428",
          "status": "completed"
        },
        "tags": []
      },
      "source": [
        "An the port indices"
      ]
    },
    {
      "cell_type": "code",
      "execution_count": 24,
      "id": "8e18d182",
      "metadata": {
        "execution": {
          "iopub.execute_input": "2023-06-01T21:09:54.529213Z",
          "iopub.status.busy": "2023-06-01T21:09:54.528995Z",
          "iopub.status.idle": "2023-06-01T21:09:54.532488Z",
          "shell.execute_reply": "2023-06-01T21:09:54.532121Z"
        },
        "papermill": {
          "duration": 0.018169,
          "end_time": "2023-06-01T21:09:54.534832",
          "exception": false,
          "start_time": "2023-06-01T21:09:54.516663",
          "status": "completed"
        },
        "tags": []
      },
      "outputs": [
        {
          "data": {
            "text/plain": [
              "{'in0': 0, 'in1': 1, 'out0': 2, 'out1': 3}"
            ]
          },
          "execution_count": 24,
          "metadata": {},
          "output_type": "execute_result"
        }
      ],
      "source": [
        "port_map = {k: i for i, k in enumerate(ports)}\n",
        "port_map"
      ]
    },
    {
      "cell_type": "markdown",
      "id": "70924074",
      "metadata": {
        "papermill": {
          "duration": 0.011354,
          "end_time": "2023-06-01T21:09:54.557827",
          "exception": false,
          "start_time": "2023-06-01T21:09:54.546473",
          "status": "completed"
        },
        "tags": []
      },
      "source": [
        "Let's now create the COO-representation of our block diagonal S-matrix $S_{bd}$:"
      ]
    },
    {
      "cell_type": "code",
      "execution_count": 25,
      "id": "835deb8f",
      "metadata": {
        "execution": {
          "iopub.execute_input": "2023-06-01T21:09:54.581780Z",
          "iopub.status.busy": "2023-06-01T21:09:54.581552Z",
          "iopub.status.idle": "2023-06-01T21:09:54.804235Z",
          "shell.execute_reply": "2023-06-01T21:09:54.803832Z"
        },
        "papermill": {
          "duration": 0.236384,
          "end_time": "2023-06-01T21:09:54.805677",
          "exception": false,
          "start_time": "2023-06-01T21:09:54.569293",
          "status": "completed"
        },
        "tags": []
      },
      "outputs": [
        {
          "name": "stdout",
          "output_type": "stream",
          "text": [
            "[0 0 0 0 1 1 1 1 2 2 2 2 3 3 3 3 4 5 6 6 6 6 7 7 7 7 8 8 8 8 9 9 9 9]\n",
            "[0 1 2 3 0 1 2 3 0 1 2 3 0 1 2 3 5 4 6 7 8 9 6 7 8 9 6 7 8 9 6 7 8 9]\n",
            "[0.        +0.j         0.        +0.j         0.70710677+0.j\n",
            " 0.        +0.70710677j 0.        +0.j         0.        +0.j\n",
            " 0.        +0.70710677j 0.70710677+0.j         0.70710677+0.j\n",
            " 0.        +0.70710677j 0.        +0.j         0.        +0.j\n",
            " 0.        +0.70710677j 0.70710677+0.j         0.        +0.j\n",
            " 0.        +0.j         0.5       +0.86603j    0.5       +0.86603j\n",
            " 0.        +0.j         0.        +0.j         0.70710677+0.j\n",
            " 0.        +0.70710677j 0.        +0.j         0.        +0.j\n",
            " 0.        +0.70710677j 0.70710677+0.j         0.70710677+0.j\n",
            " 0.        +0.70710677j 0.        +0.j         0.        +0.j\n",
            " 0.        +0.70710677j 0.70710677+0.j         0.        +0.j\n",
            " 0.        +0.j        ]\n"
          ]
        }
      ],
      "source": [
        "idx, Si, Sj, Sx, instance_ports = 0, [], [], [], {}\n",
        "batch_shape = ()\n",
        "for name, instance in instances.items():\n",
        "    si, sj, sx, ports_map = scoo(instance)\n",
        "    Si.append(si + idx)\n",
        "    Sj.append(sj + idx)\n",
        "    Sx.append(sx)\n",
        "    if len(sx.shape[:-1]) > len(batch_shape):\n",
        "        batch_shape = sx.shape[:-1]\n",
        "    instance_ports.update({f\"{name},{p}\": i + idx for p, i in ports_map.items()})\n",
        "    idx += len(ports_map)\n",
        "Si = jnp.concatenate(Si, -1)\n",
        "Sj = jnp.concatenate(Sj, -1)\n",
        "Sx = jnp.concatenate([jnp.broadcast_to(sx, (*batch_shape, sx.shape[-1])) for sx in Sx], -1)\n",
        "\n",
        "print(Si)\n",
        "print(Sj)\n",
        "print(Sx)"
      ]
    },
    {
      "cell_type": "markdown",
      "id": "a8edefa1",
      "metadata": {
        "papermill": {
          "duration": 0.011745,
          "end_time": "2023-06-01T21:09:54.829546",
          "exception": false,
          "start_time": "2023-06-01T21:09:54.817801",
          "status": "completed"
        },
        "tags": []
      },
      "source": [
        "note that we also kept track of the `batch_shape`, i.e. the number of independent simulations (usually number of wavelengths). In the example being used here we don't have a batch dimension (all elements of the `SDict` are `0D`):"
      ]
    },
    {
      "cell_type": "code",
      "execution_count": 26,
      "id": "7513759a",
      "metadata": {
        "execution": {
          "iopub.execute_input": "2023-06-01T21:09:54.853963Z",
          "iopub.status.busy": "2023-06-01T21:09:54.853719Z",
          "iopub.status.idle": "2023-06-01T21:09:54.857060Z",
          "shell.execute_reply": "2023-06-01T21:09:54.856673Z"
        },
        "papermill": {
          "duration": 0.018353,
          "end_time": "2023-06-01T21:09:54.859516",
          "exception": false,
          "start_time": "2023-06-01T21:09:54.841163",
          "status": "completed"
        },
        "tags": []
      },
      "outputs": [
        {
          "data": {
            "text/plain": [
              "()"
            ]
          },
          "execution_count": 26,
          "metadata": {},
          "output_type": "execute_result"
        }
      ],
      "source": [
        "batch_shape"
      ]
    },
    {
      "cell_type": "markdown",
      "id": "c63b14d7",
      "metadata": {
        "papermill": {
          "duration": 0.011706,
          "end_time": "2023-06-01T21:09:54.882886",
          "exception": false,
          "start_time": "2023-06-01T21:09:54.871180",
          "status": "completed"
        },
        "tags": []
      },
      "source": [
        "We'll also keep track of the number of columns"
      ]
    },
    {
      "cell_type": "code",
      "execution_count": 27,
      "id": "89000432",
      "metadata": {
        "execution": {
          "iopub.execute_input": "2023-06-01T21:09:54.907314Z",
          "iopub.status.busy": "2023-06-01T21:09:54.907091Z",
          "iopub.status.idle": "2023-06-01T21:09:54.910275Z",
          "shell.execute_reply": "2023-06-01T21:09:54.909900Z"
        },
        "papermill": {
          "duration": 0.018144,
          "end_time": "2023-06-01T21:09:54.912684",
          "exception": false,
          "start_time": "2023-06-01T21:09:54.894540",
          "status": "completed"
        },
        "tags": []
      },
      "outputs": [
        {
          "data": {
            "text/plain": [
              "10"
            ]
          },
          "execution_count": 27,
          "metadata": {},
          "output_type": "execute_result"
        }
      ],
      "source": [
        "n_col = idx\n",
        "n_col"
      ]
    },
    {
      "cell_type": "markdown",
      "id": "7b0f95da",
      "metadata": {
        "papermill": {
          "duration": 0.011704,
          "end_time": "2023-06-01T21:09:54.936116",
          "exception": false,
          "start_time": "2023-06-01T21:09:54.924412",
          "status": "completed"
        },
        "tags": []
      },
      "source": [
        "And we'll need to solve the circuit for each output port, i.e. we need to solve `n_rhs` number of equations:"
      ]
    },
    {
      "cell_type": "code",
      "execution_count": 28,
      "id": "27902354",
      "metadata": {
        "execution": {
          "iopub.execute_input": "2023-06-01T21:09:54.963591Z",
          "iopub.status.busy": "2023-06-01T21:09:54.963352Z",
          "iopub.status.idle": "2023-06-01T21:09:54.966660Z",
          "shell.execute_reply": "2023-06-01T21:09:54.966280Z"
        },
        "papermill": {
          "duration": 0.019104,
          "end_time": "2023-06-01T21:09:54.969121",
          "exception": false,
          "start_time": "2023-06-01T21:09:54.950017",
          "status": "completed"
        },
        "tags": []
      },
      "outputs": [
        {
          "data": {
            "text/plain": [
              "4"
            ]
          },
          "execution_count": 28,
          "metadata": {},
          "output_type": "execute_result"
        }
      ],
      "source": [
        "n_rhs = len(port_map)\n",
        "n_rhs"
      ]
    },
    {
      "cell_type": "markdown",
      "id": "05056b46",
      "metadata": {
        "papermill": {
          "duration": 0.011826,
          "end_time": "2023-06-01T21:09:54.992793",
          "exception": false,
          "start_time": "2023-06-01T21:09:54.980967",
          "status": "completed"
        },
        "tags": []
      },
      "source": [
        "We can represent the internal connection matrix $C_{int}$ as a mapping between port indices:"
      ]
    },
    {
      "cell_type": "code",
      "execution_count": 29,
      "id": "f3ff1fa7",
      "metadata": {
        "execution": {
          "iopub.execute_input": "2023-06-01T21:09:55.018802Z",
          "iopub.status.busy": "2023-06-01T21:09:55.018528Z",
          "iopub.status.idle": "2023-06-01T21:09:55.022359Z",
          "shell.execute_reply": "2023-06-01T21:09:55.021987Z"
        },
        "papermill": {
          "duration": 0.019556,
          "end_time": "2023-06-01T21:09:55.025186",
          "exception": false,
          "start_time": "2023-06-01T21:09:55.005630",
          "status": "completed"
        },
        "tags": []
      },
      "outputs": [
        {
          "data": {
            "text/plain": [
              "{2: 4, 5: 6, 3: 7, 4: 2, 6: 5, 7: 3}"
            ]
          },
          "execution_count": 29,
          "metadata": {},
          "output_type": "execute_result"
        }
      ],
      "source": [
        "Cmap = {int(instance_ports[k]): int(instance_ports[v]) for k, v in connections.items()}\n",
        "Cmap"
      ]
    },
    {
      "cell_type": "markdown",
      "id": "999164af",
      "metadata": {
        "papermill": {
          "duration": 0.012308,
          "end_time": "2023-06-01T21:09:55.049524",
          "exception": false,
          "start_time": "2023-06-01T21:09:55.037216",
          "status": "completed"
        },
        "tags": []
      },
      "source": [
        "Therefore, the COO-representation of this connection matrix can be obtained as follows (note that an array of values Cx is not necessary, all non-zero elements in a connection matrix are 1)"
      ]
    },
    {
      "cell_type": "code",
      "execution_count": 30,
      "id": "9e4f1728",
      "metadata": {
        "execution": {
          "iopub.execute_input": "2023-06-01T21:09:55.074465Z",
          "iopub.status.busy": "2023-06-01T21:09:55.074230Z",
          "iopub.status.idle": "2023-06-01T21:09:55.079198Z",
          "shell.execute_reply": "2023-06-01T21:09:55.078721Z"
        },
        "papermill": {
          "duration": 0.01984,
          "end_time": "2023-06-01T21:09:55.081228",
          "exception": false,
          "start_time": "2023-06-01T21:09:55.061388",
          "status": "completed"
        },
        "tags": []
      },
      "outputs": [
        {
          "name": "stdout",
          "output_type": "stream",
          "text": [
            "[2 5 3 4 6 7]\n",
            "[4 6 7 2 5 3]\n"
          ]
        }
      ],
      "source": [
        "Ci = jnp.array(list(Cmap.keys()), dtype=jnp.int32)\n",
        "Cj = jnp.array(list(Cmap.values()), dtype=jnp.int32)\n",
        "print(Ci)\n",
        "print(Cj)"
      ]
    },
    {
      "cell_type": "markdown",
      "id": "47d5ed60",
      "metadata": {
        "papermill": {
          "duration": 0.011937,
          "end_time": "2023-06-01T21:09:55.105142",
          "exception": false,
          "start_time": "2023-06-01T21:09:55.093205",
          "status": "completed"
        },
        "tags": []
      },
      "source": [
        "We can represent the external connection matrix $C_{ext}$ as a map between internal port indices and external port indices:"
      ]
    },
    {
      "cell_type": "code",
      "execution_count": 31,
      "id": "f56ae166",
      "metadata": {
        "execution": {
          "iopub.execute_input": "2023-06-01T21:09:55.130491Z",
          "iopub.status.busy": "2023-06-01T21:09:55.130160Z",
          "iopub.status.idle": "2023-06-01T21:09:55.134201Z",
          "shell.execute_reply": "2023-06-01T21:09:55.133749Z"
        },
        "papermill": {
          "duration": 0.018964,
          "end_time": "2023-06-01T21:09:55.136176",
          "exception": false,
          "start_time": "2023-06-01T21:09:55.117212",
          "status": "completed"
        },
        "tags": []
      },
      "outputs": [
        {
          "data": {
            "text/plain": [
              "{0: 0, 1: 1, 8: 2, 9: 3}"
            ]
          },
          "execution_count": 31,
          "metadata": {},
          "output_type": "execute_result"
        }
      ],
      "source": [
        "Cextmap = {int(instance_ports[k]): int(port_map[v]) for k, v in inverse_ports.items()}\n",
        "Cextmap"
      ]
    },
    {
      "cell_type": "markdown",
      "id": "2485c01d",
      "metadata": {
        "papermill": {
          "duration": 0.012064,
          "end_time": "2023-06-01T21:09:55.160275",
          "exception": false,
          "start_time": "2023-06-01T21:09:55.148211",
          "status": "completed"
        },
        "tags": []
      },
      "source": [
        "Just as for the internal matrix we can represent this external connection matrix in COO-format:"
      ]
    },
    {
      "cell_type": "code",
      "execution_count": 32,
      "id": "cfb419ac",
      "metadata": {
        "execution": {
          "iopub.execute_input": "2023-06-01T21:09:55.185800Z",
          "iopub.status.busy": "2023-06-01T21:09:55.185476Z",
          "iopub.status.idle": "2023-06-01T21:09:55.214896Z",
          "shell.execute_reply": "2023-06-01T21:09:55.214335Z"
        },
        "papermill": {
          "duration": 0.043809,
          "end_time": "2023-06-01T21:09:55.216177",
          "exception": false,
          "start_time": "2023-06-01T21:09:55.172368",
          "status": "completed"
        },
        "tags": []
      },
      "outputs": [
        {
          "name": "stdout",
          "output_type": "stream",
          "text": [
            "[0 1 8 9]\n",
            "[0 1 2 3]\n"
          ]
        }
      ],
      "source": [
        "Cexti = jnp.stack(list(Cextmap.keys()), 0)\n",
        "Cextj = jnp.stack(list(Cextmap.values()), 0)\n",
        "print(Cexti)\n",
        "print(Cextj)"
      ]
    },
    {
      "cell_type": "markdown",
      "id": "e46d609c",
      "metadata": {
        "papermill": {
          "duration": 0.01257,
          "end_time": "2023-06-01T21:09:55.241306",
          "exception": false,
          "start_time": "2023-06-01T21:09:55.228736",
          "status": "completed"
        },
        "tags": []
      },
      "source": [
        "However, we actually need it as a dense representation:\n",
        "\n",
        "> help needed: can we find a way later on to keep this sparse?"
      ]
    },
    {
      "cell_type": "code",
      "execution_count": 33,
      "id": "25c4ec6e",
      "metadata": {
        "execution": {
          "iopub.execute_input": "2023-06-01T21:09:55.267252Z",
          "iopub.status.busy": "2023-06-01T21:09:55.266920Z",
          "iopub.status.idle": "2023-06-01T21:09:55.397120Z",
          "shell.execute_reply": "2023-06-01T21:09:55.396585Z"
        },
        "papermill": {
          "duration": 0.145054,
          "end_time": "2023-06-01T21:09:55.398717",
          "exception": false,
          "start_time": "2023-06-01T21:09:55.253663",
          "status": "completed"
        },
        "tags": []
      },
      "outputs": [],
      "source": [
        "if JAX_AVAILABLE:\n",
        "    Cext = jnp.zeros((n_col, n_rhs), dtype=complex).at[Cexti, Cextj].set(1.0)\n",
        "    Cext"
      ]
    },
    {
      "cell_type": "markdown",
      "id": "b31cc279",
      "metadata": {
        "papermill": {
          "duration": 0.012397,
          "end_time": "2023-06-01T21:09:55.424258",
          "exception": false,
          "start_time": "2023-06-01T21:09:55.411861",
          "status": "completed"
        },
        "tags": []
      },
      "source": [
        "We'll now calculate the row index `CSi` of $C_{int}S_{bd}$ in COO-format:"
      ]
    },
    {
      "cell_type": "code",
      "execution_count": 34,
      "id": "dfef94bd52e5a0b5",
      "metadata": {
        "execution": {
          "iopub.execute_input": "2023-06-01T21:09:55.450425Z",
          "iopub.status.busy": "2023-06-01T21:09:55.450077Z",
          "iopub.status.idle": "2023-06-01T21:09:55.621782Z",
          "shell.execute_reply": "2023-06-01T21:09:55.621273Z"
        },
        "papermill": {
          "duration": 0.186467,
          "end_time": "2023-06-01T21:09:55.623075",
          "exception": false,
          "start_time": "2023-06-01T21:09:55.436608",
          "status": "completed"
        },
        "tags": []
      },
      "outputs": [
        {
          "data": {
            "text/plain": [
              "Array([4, 4, 4, 4, 7, 7, 7, 7, 2, 6, 5, 5, 5, 5, 3, 3, 3, 3], dtype=int32)"
            ]
          },
          "execution_count": 34,
          "metadata": {},
          "output_type": "execute_result"
        }
      ],
      "source": [
        "# TODO: make this block jittable...\n",
        "Ix = jnp.ones((*batch_shape, n_col))\n",
        "Ii = Ij = jnp.arange(n_col)\n",
        "mask = Cj[None,:] == Si[:, None]\n",
        "CSi = jnp.broadcast_to(Ci[None, :], mask.shape)[mask]\n",
        "CSi"
      ]
    },
    {
      "cell_type": "markdown",
      "id": "a2657582",
      "metadata": {
        "papermill": {
          "duration": 0.012416,
          "end_time": "2023-06-01T21:09:55.648546",
          "exception": false,
          "start_time": "2023-06-01T21:09:55.636130",
          "status": "completed"
        },
        "tags": []
      },
      "source": [
        "> `CSi`: possible jittable alternative? how do we remove the zeros?"
      ]
    },
    {
      "cell_type": "code",
      "execution_count": 35,
      "id": "d4ea2cb5",
      "metadata": {
        "execution": {
          "iopub.execute_input": "2023-06-01T21:09:55.674891Z",
          "iopub.status.busy": "2023-06-01T21:09:55.674516Z",
          "iopub.status.idle": "2023-06-01T21:09:55.716335Z",
          "shell.execute_reply": "2023-06-01T21:09:55.715862Z"
        },
        "papermill": {
          "duration": 0.056456,
          "end_time": "2023-06-01T21:09:55.717613",
          "exception": false,
          "start_time": "2023-06-01T21:09:55.661157",
          "status": "completed"
        },
        "tags": []
      },
      "outputs": [
        {
          "data": {
            "text/plain": [
              "Array([0, 0, 0, 0, 0, 0, 0, 0, 4, 4, 4, 4, 7, 7, 7, 7, 2, 6, 5, 5, 5, 5,\n",
              "       3, 3, 3, 3, 0, 0, 0, 0, 0, 0, 0, 0], dtype=int32)"
            ]
          },
          "execution_count": 35,
          "metadata": {},
          "output_type": "execute_result"
        }
      ],
      "source": [
        "CSi_ = jnp.where(Cj[None, :] == Si[:, None], Ci[None, :], 0).sum(1) # not used\n",
        "CSi_ # not used"
      ]
    },
    {
      "cell_type": "markdown",
      "id": "44fc620e",
      "metadata": {
        "papermill": {
          "duration": 0.012488,
          "end_time": "2023-06-01T21:09:55.743109",
          "exception": false,
          "start_time": "2023-06-01T21:09:55.730621",
          "status": "completed"
        },
        "tags": []
      },
      "source": [
        "The column index `CSj` of $C_{int}S_{bd}$ can more easily be obtained:"
      ]
    },
    {
      "cell_type": "code",
      "execution_count": 36,
      "id": "f71fdd7c",
      "metadata": {
        "execution": {
          "iopub.execute_input": "2023-06-01T21:09:55.769476Z",
          "iopub.status.busy": "2023-06-01T21:09:55.769145Z",
          "iopub.status.idle": "2023-06-01T21:09:55.841949Z",
          "shell.execute_reply": "2023-06-01T21:09:55.841565Z"
        },
        "papermill": {
          "duration": 0.087459,
          "end_time": "2023-06-01T21:09:55.843197",
          "exception": false,
          "start_time": "2023-06-01T21:09:55.755738",
          "status": "completed"
        },
        "tags": []
      },
      "outputs": [
        {
          "data": {
            "text/plain": [
              "Array([0, 1, 2, 3, 0, 1, 2, 3, 5, 4, 6, 7, 8, 9, 6, 7, 8, 9], dtype=int32)"
            ]
          },
          "execution_count": 36,
          "metadata": {},
          "output_type": "execute_result"
        }
      ],
      "source": [
        "mask = (Cj[:, None] == Si[None, :]).any(0)\n",
        "CSj = Sj[mask]\n",
        "CSj"
      ]
    },
    {
      "cell_type": "markdown",
      "id": "99bf7684",
      "metadata": {
        "papermill": {
          "duration": 0.012672,
          "end_time": "2023-06-01T21:09:55.869231",
          "exception": false,
          "start_time": "2023-06-01T21:09:55.856559",
          "status": "completed"
        },
        "tags": []
      },
      "source": [
        "> `CSj`: possible jittable alternative? how do we remove the zeros?"
      ]
    },
    {
      "cell_type": "code",
      "execution_count": 37,
      "id": "ffa7bc82",
      "metadata": {
        "execution": {
          "iopub.execute_input": "2023-06-01T21:09:55.895960Z",
          "iopub.status.busy": "2023-06-01T21:09:55.895609Z",
          "iopub.status.idle": "2023-06-01T21:09:55.919931Z",
          "shell.execute_reply": "2023-06-01T21:09:55.919559Z"
        },
        "papermill": {
          "duration": 0.039127,
          "end_time": "2023-06-01T21:09:55.921073",
          "exception": false,
          "start_time": "2023-06-01T21:09:55.881946",
          "status": "completed"
        },
        "tags": []
      },
      "outputs": [
        {
          "data": {
            "text/plain": [
              "Array([0, 0, 0, 0, 0, 0, 0, 0, 0, 1, 2, 3, 0, 1, 2, 3, 5, 4, 6, 7, 8, 9,\n",
              "       6, 7, 8, 9, 0, 0, 0, 0, 0, 0, 0, 0], dtype=int32)"
            ]
          },
          "execution_count": 37,
          "metadata": {},
          "output_type": "execute_result"
        }
      ],
      "source": [
        "CSj_ = jnp.where(mask, Sj, 0) # not used\n",
        "CSj_ # not used"
      ]
    },
    {
      "cell_type": "markdown",
      "id": "e0fc6d02",
      "metadata": {
        "papermill": {
          "duration": 0.012742,
          "end_time": "2023-06-01T21:09:55.946981",
          "exception": false,
          "start_time": "2023-06-01T21:09:55.934239",
          "status": "completed"
        },
        "tags": []
      },
      "source": [
        "Finally, the values `CSx` of $C_{int}S_{bd}$ can be obtained as follows:"
      ]
    },
    {
      "cell_type": "code",
      "execution_count": 38,
      "id": "59d2e1b2",
      "metadata": {
        "execution": {
          "iopub.execute_input": "2023-06-01T21:09:55.973631Z",
          "iopub.status.busy": "2023-06-01T21:09:55.973297Z",
          "iopub.status.idle": "2023-06-01T21:09:55.999275Z",
          "shell.execute_reply": "2023-06-01T21:09:55.998901Z"
        },
        "papermill": {
          "duration": 0.041594,
          "end_time": "2023-06-01T21:09:56.001286",
          "exception": false,
          "start_time": "2023-06-01T21:09:55.959692",
          "status": "completed"
        },
        "tags": []
      },
      "outputs": [
        {
          "data": {
            "text/plain": [
              "Array([0.70710677+0.j        , 0.        +0.70710677j,\n",
              "       0.        +0.j        , 0.        +0.j        ,\n",
              "       0.        +0.70710677j, 0.70710677+0.j        ,\n",
              "       0.        +0.j        , 0.        +0.j        ,\n",
              "       0.5       +0.86603j   , 0.5       +0.86603j   ,\n",
              "       0.        +0.j        , 0.        +0.j        ,\n",
              "       0.70710677+0.j        , 0.        +0.70710677j,\n",
              "       0.        +0.j        , 0.        +0.j        ,\n",
              "       0.        +0.70710677j, 0.70710677+0.j        ], dtype=complex64)"
            ]
          },
          "execution_count": 38,
          "metadata": {},
          "output_type": "execute_result"
        }
      ],
      "source": [
        "if Sx.ndim > 1:\n",
        "    CSx = Sx[..., mask] # normally this should be enough\n",
        "else:\n",
        "    CSx = Sx[mask] # need separate case bc bug in JAX... see https://github.com/google/jax/issues/9050\n",
        "   \n",
        "CSx"
      ]
    },
    {
      "cell_type": "markdown",
      "id": "c02035bd",
      "metadata": {
        "papermill": {
          "duration": 0.012883,
          "end_time": "2023-06-01T21:09:56.027449",
          "exception": false,
          "start_time": "2023-06-01T21:09:56.014566",
          "status": "completed"
        },
        "tags": []
      },
      "source": [
        "> `CSx`: possible jittable alternative? how do we remove the zeros?"
      ]
    },
    {
      "cell_type": "code",
      "execution_count": 39,
      "id": "107e9e80",
      "metadata": {
        "execution": {
          "iopub.execute_input": "2023-06-01T21:09:56.054901Z",
          "iopub.status.busy": "2023-06-01T21:09:56.054543Z",
          "iopub.status.idle": "2023-06-01T21:09:56.077441Z",
          "shell.execute_reply": "2023-06-01T21:09:56.077079Z"
        },
        "papermill": {
          "duration": 0.037757,
          "end_time": "2023-06-01T21:09:56.078563",
          "exception": false,
          "start_time": "2023-06-01T21:09:56.040806",
          "status": "completed"
        },
        "tags": []
      },
      "outputs": [
        {
          "data": {
            "text/plain": [
              "Array([0.        +0.j        , 0.        +0.j        ,\n",
              "       0.        +0.j        , 0.        +0.j        ,\n",
              "       0.        +0.j        , 0.        +0.j        ,\n",
              "       0.        +0.j        , 0.        +0.j        ,\n",
              "       0.70710677+0.j        , 0.        +0.70710677j,\n",
              "       0.        +0.j        , 0.        +0.j        ,\n",
              "       0.        +0.70710677j, 0.70710677+0.j        ,\n",
              "       0.        +0.j        , 0.        +0.j        ,\n",
              "       0.5       +0.86603j   , 0.5       +0.86603j   ,\n",
              "       0.        +0.j        , 0.        +0.j        ,\n",
              "       0.70710677+0.j        , 0.        +0.70710677j,\n",
              "       0.        +0.j        , 0.        +0.j        ,\n",
              "       0.        +0.70710677j, 0.70710677+0.j        ,\n",
              "       0.        +0.j        , 0.        +0.j        ,\n",
              "       0.        +0.j        , 0.        +0.j        ,\n",
              "       0.        +0.j        , 0.        +0.j        ,\n",
              "       0.        +0.j        , 0.        +0.j        ], dtype=complex64)"
            ]
          },
          "execution_count": 39,
          "metadata": {},
          "output_type": "execute_result"
        }
      ],
      "source": [
        "CSx_ = jnp.where(mask, Sx, 0.0) # not used\n",
        "CSx_ # not used"
      ]
    },
    {
      "cell_type": "markdown",
      "id": "9411edf5",
      "metadata": {
        "papermill": {
          "duration": 0.012894,
          "end_time": "2023-06-01T21:09:56.105013",
          "exception": false,
          "start_time": "2023-06-01T21:09:56.092119",
          "status": "completed"
        },
        "tags": []
      },
      "source": [
        "Now we calculate $\\mathbb{1} - C_{int}S_{bd}$ in an *uncoalesced* way (we might have duplicate indices on the diagonal):\n",
        "\n",
        "> **uncoalesced**: having duplicate index combinations (i, j) in the representation possibly with different corresponding values. This is usually not a problem as in linear operations these values will end up to be summed, usually the behavior you want:"
      ]
    },
    {
      "cell_type": "code",
      "execution_count": 40,
      "id": "53c3f4ab",
      "metadata": {
        "execution": {
          "iopub.execute_input": "2023-06-01T21:09:56.131946Z",
          "iopub.status.busy": "2023-06-01T21:09:56.131615Z",
          "iopub.status.idle": "2023-06-01T21:09:56.187127Z",
          "shell.execute_reply": "2023-06-01T21:09:56.186705Z"
        },
        "papermill": {
          "duration": 0.07069,
          "end_time": "2023-06-01T21:09:56.188485",
          "exception": false,
          "start_time": "2023-06-01T21:09:56.117795",
          "status": "completed"
        },
        "tags": []
      },
      "outputs": [
        {
          "name": "stdout",
          "output_type": "stream",
          "text": [
            "[4 4 4 4 7 7 7 7 2 6 5 5 5 5 3 3 3 3 0 1 2 3 4 5 6 7 8 9]\n",
            "[0 1 2 3 0 1 2 3 5 4 6 7 8 9 6 7 8 9 0 1 2 3 4 5 6 7 8 9]\n",
            "[-0.70710677-0.j         -0.        -0.70710677j -0.        -0.j\n",
            " -0.        -0.j         -0.        -0.70710677j -0.70710677-0.j\n",
            " -0.        -0.j         -0.        -0.j         -0.5       -0.86603j\n",
            " -0.5       -0.86603j    -0.        -0.j         -0.        -0.j\n",
            " -0.70710677-0.j         -0.        -0.70710677j -0.        -0.j\n",
            " -0.        -0.j         -0.        -0.70710677j -0.70710677-0.j\n",
            "  1.        +0.j          1.        +0.j          1.        +0.j\n",
            "  1.        +0.j          1.        +0.j          1.        +0.j\n",
            "  1.        +0.j          1.        +0.j          1.        +0.j\n",
            "  1.        +0.j        ]\n"
          ]
        }
      ],
      "source": [
        "I_CSi = jnp.concatenate([CSi, Ii], -1)\n",
        "I_CSj = jnp.concatenate([CSj, Ij], -1)\n",
        "I_CSx = jnp.concatenate([-CSx, Ix], -1)\n",
        "print(I_CSi)\n",
        "print(I_CSj)\n",
        "print(I_CSx)"
      ]
    },
    {
      "cell_type": "code",
      "execution_count": 41,
      "id": "188e4606",
      "metadata": {
        "execution": {
          "iopub.execute_input": "2023-06-01T21:09:56.216196Z",
          "iopub.status.busy": "2023-06-01T21:09:56.215884Z",
          "iopub.status.idle": "2023-06-01T21:09:56.218987Z",
          "shell.execute_reply": "2023-06-01T21:09:56.218528Z"
        },
        "papermill": {
          "duration": 0.019184,
          "end_time": "2023-06-01T21:09:56.221082",
          "exception": false,
          "start_time": "2023-06-01T21:09:56.201898",
          "status": "completed"
        },
        "tags": []
      },
      "outputs": [
        {
          "name": "stdout",
          "output_type": "stream",
          "text": [
            "10 4\n"
          ]
        }
      ],
      "source": [
        "if JAX_AVAILABLE:\n",
        "    n_col, n_rhs = Cext.shape\n",
        "    print(n_col, n_rhs)"
      ]
    },
    {
      "cell_type": "markdown",
      "id": "e018c515",
      "metadata": {
        "papermill": {
          "duration": 0.012971,
          "end_time": "2023-06-01T21:09:56.247185",
          "exception": false,
          "start_time": "2023-06-01T21:09:56.234214",
          "status": "completed"
        },
        "tags": []
      },
      "source": [
        "The batch shape dimension can generally speaking be anything (in the example here 0D). We need to do the necessary reshapings to make the batch shape 1D:"
      ]
    },
    {
      "cell_type": "code",
      "execution_count": 42,
      "id": "dad259e7",
      "metadata": {
        "execution": {
          "iopub.execute_input": "2023-06-01T21:09:56.274385Z",
          "iopub.status.busy": "2023-06-01T21:09:56.274051Z",
          "iopub.status.idle": "2023-06-01T21:09:56.291736Z",
          "shell.execute_reply": "2023-06-01T21:09:56.291247Z"
        },
        "papermill": {
          "duration": 0.032855,
          "end_time": "2023-06-01T21:09:56.292966",
          "exception": false,
          "start_time": "2023-06-01T21:09:56.260111",
          "status": "completed"
        },
        "tags": []
      },
      "outputs": [
        {
          "name": "stdout",
          "output_type": "stream",
          "text": [
            "1\n"
          ]
        }
      ],
      "source": [
        "n_lhs = jnp.prod(jnp.array(batch_shape, dtype=jnp.int32))\n",
        "print(n_lhs)"
      ]
    },
    {
      "cell_type": "code",
      "execution_count": 43,
      "id": "9cf69da7",
      "metadata": {
        "execution": {
          "iopub.execute_input": "2023-06-01T21:09:56.321476Z",
          "iopub.status.busy": "2023-06-01T21:09:56.321147Z",
          "iopub.status.idle": "2023-06-01T21:09:56.338219Z",
          "shell.execute_reply": "2023-06-01T21:09:56.337744Z"
        },
        "papermill": {
          "duration": 0.032543,
          "end_time": "2023-06-01T21:09:56.339479",
          "exception": false,
          "start_time": "2023-06-01T21:09:56.306936",
          "status": "completed"
        },
        "tags": []
      },
      "outputs": [
        {
          "data": {
            "text/plain": [
              "(1, 34)"
            ]
          },
          "execution_count": 43,
          "metadata": {},
          "output_type": "execute_result"
        }
      ],
      "source": [
        "Sx = Sx.reshape(n_lhs, -1)\n",
        "Sx.shape"
      ]
    },
    {
      "cell_type": "code",
      "execution_count": 44,
      "id": "788294fa",
      "metadata": {
        "execution": {
          "iopub.execute_input": "2023-06-01T21:09:56.367672Z",
          "iopub.status.busy": "2023-06-01T21:09:56.367387Z",
          "iopub.status.idle": "2023-06-01T21:09:56.384577Z",
          "shell.execute_reply": "2023-06-01T21:09:56.384139Z"
        },
        "papermill": {
          "duration": 0.032518,
          "end_time": "2023-06-01T21:09:56.385814",
          "exception": false,
          "start_time": "2023-06-01T21:09:56.353296",
          "status": "completed"
        },
        "tags": []
      },
      "outputs": [
        {
          "data": {
            "text/plain": [
              "(1, 28)"
            ]
          },
          "execution_count": 44,
          "metadata": {},
          "output_type": "execute_result"
        }
      ],
      "source": [
        "I_CSx = I_CSx.reshape(n_lhs, -1)\n",
        "I_CSx.shape"
      ]
    },
    {
      "cell_type": "markdown",
      "id": "ec741031",
      "metadata": {
        "papermill": {
          "duration": 0.013256,
          "end_time": "2023-06-01T21:09:56.412999",
          "exception": false,
          "start_time": "2023-06-01T21:09:56.399743",
          "status": "completed"
        },
        "tags": []
      },
      "source": [
        "We're finally ready to do the most important part of the calculation, which we conveniently leave to `klujax` and `SuiteSparse`:"
      ]
    },
    {
      "cell_type": "code",
      "execution_count": 45,
      "id": "9c1d8644",
      "metadata": {
        "execution": {
          "iopub.execute_input": "2023-06-01T21:09:56.441326Z",
          "iopub.status.busy": "2023-06-01T21:09:56.440977Z",
          "iopub.status.idle": "2023-06-01T21:09:56.447672Z",
          "shell.execute_reply": "2023-06-01T21:09:56.447216Z"
        },
        "papermill": {
          "duration": 0.022577,
          "end_time": "2023-06-01T21:09:56.448995",
          "exception": false,
          "start_time": "2023-06-01T21:09:56.426418",
          "status": "completed"
        },
        "tags": []
      },
      "outputs": [],
      "source": [
        "if klujax is not None:\n",
        "    inv_I_CS_Cext = solve_klu(I_CSi, I_CSj, I_CSx, Cext)\n",
        "else:\n",
        "    inv_I_CS_Cext = jnp.array([[[1.0 + 0.0j, 0.0 + 0.0j, 0.0 + 0.0j, 0.0 + 0.0j], [0.0 + 0.0j, 1.0 + 0.0j, 0.0 + 0.0j, 0.0 + 0.0j], [ -0.0 + 0.0j, -0.0 + 0.0j, 0.35355339 + 0.61237569j, -0.61237569 + 0.35355339j, ], [0.0 + 0.0j, 0.0 + 0.0j, 0.0 + 0.70710678j, 0.70710678 + 0.0j], [0.70710678 - 0.0j, -0.0 + 0.70710678j, -0.0 - 0.0j, -0.0 - 0.0j], [-0.0 - 0.0j, -0.0 - 0.0j, 0.70710678 - 0.0j, -0.0 + 0.70710678j], [ 0.35355339 + 0.61237569j, -0.61237569 + 0.35355339j, -0.0 + 0.0j, -0.0 + 0.0j, ], [0.0 + 0.70710678j, 0.70710678 + 0.0j, 0.0 + 0.0j, 0.0 + 0.0j], [0.0 + 0.0j, 0.0 + 0.0j, 1.0 + 0.0j, 0.0 + 0.0j], [0.0 + 0.0j, 0.0 + 0.0j, 0.0 + 0.0j, 1.0 + 0.0j]]])"
      ]
    },
    {
      "cell_type": "markdown",
      "id": "e51487df",
      "metadata": {
        "papermill": {
          "duration": 0.013345,
          "end_time": "2023-06-01T21:09:56.475952",
          "exception": false,
          "start_time": "2023-06-01T21:09:56.462607",
          "status": "completed"
        },
        "tags": []
      },
      "source": [
        "one more sparse multiplication:"
      ]
    },
    {
      "cell_type": "code",
      "execution_count": 46,
      "id": "cccda072",
      "metadata": {
        "execution": {
          "iopub.execute_input": "2023-06-01T21:09:56.504264Z",
          "iopub.status.busy": "2023-06-01T21:09:56.503930Z",
          "iopub.status.idle": "2023-06-01T21:09:56.509991Z",
          "shell.execute_reply": "2023-06-01T21:09:56.509556Z"
        },
        "papermill": {
          "duration": 0.022018,
          "end_time": "2023-06-01T21:09:56.511304",
          "exception": false,
          "start_time": "2023-06-01T21:09:56.489286",
          "status": "completed"
        },
        "tags": []
      },
      "outputs": [],
      "source": [
        "if klujax is not None:\n",
        "    S_inv_I_CS_Cext = mul_coo(Si, Sj, Sx, inv_I_CS_Cext)\n",
        "else:\n",
        "    S_inv_I_CS_Cext = jnp.array([[[0.0 + 0.0j, 0.0 + 0.0j, -0.25 + 0.433015j, -0.433015 + 0.75j], [0.0 + 0.0j, 0.0 + 0.0j, -0.433015 + 0.75j, 0.25 - 0.433015j], [0.70710678 + 0.0j, 0.0 + 0.70710678j, 0.0 + 0.0j, 0.0 + 0.0j], [0.0 + 0.70710678j, 0.70710678 + 0.0j, 0.0 + 0.0j, 0.0 + 0.0j], [ 0.0 + 0.0j, 0.0 + 0.0j, 0.35355339 + 0.61237569j, -0.61237569 + 0.35355339j, ], [ 0.35355339 + 0.61237569j, -0.61237569 + 0.35355339j, 0.0 + 0.0j, 0.0 + 0.0j, ], [0.0 + 0.0j, 0.0 + 0.0j, 0.70710678 + 0.0j, 0.0 + 0.70710678j], [0.0 + 0.0j, 0.0 + 0.0j, 0.0 + 0.70710678j, 0.70710678 + 0.0j], [-0.25 + 0.433015j, -0.433015 + 0.75j, 0.0 + 0.0j, 0.0 + 0.0j], [-0.433015 + 0.75j, 0.25 - 0.433015j, 0.0 + 0.0j, 0.0 + 0.0j]]])"
      ]
    },
    {
      "cell_type": "markdown",
      "id": "627a98f7",
      "metadata": {
        "papermill": {
          "duration": 0.013253,
          "end_time": "2023-06-01T21:09:56.538231",
          "exception": false,
          "start_time": "2023-06-01T21:09:56.524978",
          "status": "completed"
        },
        "tags": []
      },
      "source": [
        "And one more $C_{ext}$ multiplication which we do by clever indexing:"
      ]
    },
    {
      "cell_type": "code",
      "execution_count": 47,
      "id": "12ff877c",
      "metadata": {
        "execution": {
          "iopub.execute_input": "2023-06-01T21:09:56.566395Z",
          "iopub.status.busy": "2023-06-01T21:09:56.566064Z",
          "iopub.status.idle": "2023-06-01T21:09:56.573593Z",
          "shell.execute_reply": "2023-06-01T21:09:56.573061Z"
        },
        "papermill": {
          "duration": 0.023162,
          "end_time": "2023-06-01T21:09:56.574968",
          "exception": false,
          "start_time": "2023-06-01T21:09:56.551806",
          "status": "completed"
        },
        "tags": []
      },
      "outputs": [
        {
          "data": {
            "text/plain": [
              "Array([[[ 0.      +0.j      ,  0.      +0.j      , -0.25    +0.433015j,\n",
              "         -0.433015+0.75j    ],\n",
              "        [ 0.      +0.j      ,  0.      +0.j      , -0.433015+0.75j    ,\n",
              "          0.25    -0.433015j],\n",
              "        [-0.25    +0.433015j, -0.433015+0.75j    ,  0.      +0.j      ,\n",
              "          0.      +0.j      ],\n",
              "        [-0.433015+0.75j    ,  0.25    -0.433015j,  0.      +0.j      ,\n",
              "          0.      +0.j      ]]], dtype=complex64)"
            ]
          },
          "execution_count": 47,
          "metadata": {},
          "output_type": "execute_result"
        }
      ],
      "source": [
        "if klujax is not None:\n",
        "    CextT_S_inv_I_CS_Cext = S_inv_I_CS_Cext[..., Cexti, :][..., :, Cextj]\n",
        "else:\n",
        "    CextT_S_inv_I_CS_Cext = jnp.array([[[0.0 + 0.0j, 0.0 + 0.0j, -0.25 + 0.433015j, -0.433015 + 0.75j], [0.0 + 0.0j, 0.0 + 0.0j, -0.433015 + 0.75j, 0.25 - 0.433015j], [-0.25 + 0.433015j, -0.433015 + 0.75j, 0.0 + 0.0j, 0.0 + 0.0j], [-0.433015 + 0.75j, 0.25 - 0.433015j, 0.0 + 0.0j, 0.0 + 0.0j]]])\n",
        "CextT_S_inv_I_CS_Cext"
      ]
    },
    {
      "cell_type": "markdown",
      "id": "3e1c75b2",
      "metadata": {
        "papermill": {
          "duration": 0.013313,
          "end_time": "2023-06-01T21:09:56.601748",
          "exception": false,
          "start_time": "2023-06-01T21:09:56.588435",
          "status": "completed"
        },
        "tags": []
      },
      "source": [
        "That's it! We found the S-matrix of the circuit. We just need to reshape the batch dimension back into the matrix:"
      ]
    },
    {
      "cell_type": "code",
      "execution_count": 48,
      "id": "cbf962af",
      "metadata": {
        "execution": {
          "iopub.execute_input": "2023-06-01T21:09:56.629834Z",
          "iopub.status.busy": "2023-06-01T21:09:56.629500Z",
          "iopub.status.idle": "2023-06-01T21:09:56.646833Z",
          "shell.execute_reply": "2023-06-01T21:09:56.646361Z"
        },
        "papermill": {
          "duration": 0.032919,
          "end_time": "2023-06-01T21:09:56.648067",
          "exception": false,
          "start_time": "2023-06-01T21:09:56.615148",
          "status": "completed"
        },
        "tags": []
      },
      "outputs": [
        {
          "data": {
            "text/plain": [
              "Array([[ 0.      +0.j      ,  0.      +0.j      , -0.25    +0.433015j,\n",
              "        -0.433015+0.75j    ],\n",
              "       [ 0.      +0.j      ,  0.      +0.j      , -0.433015+0.75j    ,\n",
              "         0.25    -0.433015j],\n",
              "       [-0.25    +0.433015j, -0.433015+0.75j    ,  0.      +0.j      ,\n",
              "         0.      +0.j      ],\n",
              "       [-0.433015+0.75j    ,  0.25    -0.433015j,  0.      +0.j      ,\n",
              "         0.      +0.j      ]], dtype=complex64)"
            ]
          },
          "execution_count": 48,
          "metadata": {},
          "output_type": "execute_result"
        }
      ],
      "source": [
        "_, n, _ = CextT_S_inv_I_CS_Cext.shape\n",
        "S = CextT_S_inv_I_CS_Cext.reshape(*batch_shape, n, n)\n",
        "S"
      ]
    },
    {
      "cell_type": "markdown",
      "id": "1f6dea4c",
      "metadata": {
        "papermill": {
          "duration": 0.013813,
          "end_time": "2023-06-01T21:09:56.675633",
          "exception": false,
          "start_time": "2023-06-01T21:09:56.661820",
          "status": "completed"
        },
        "tags": []
      },
      "source": [
        "Oh and to complete the `SDense` representation we need to specify the port map as well:"
      ]
    },
    {
      "cell_type": "code",
      "execution_count": 49,
      "id": "21098a45",
      "metadata": {
        "execution": {
          "iopub.execute_input": "2023-06-01T21:09:56.704573Z",
          "iopub.status.busy": "2023-06-01T21:09:56.704245Z",
          "iopub.status.idle": "2023-06-01T21:09:56.707910Z",
          "shell.execute_reply": "2023-06-01T21:09:56.707462Z"
        },
        "papermill": {
          "duration": 0.020314,
          "end_time": "2023-06-01T21:09:56.709666",
          "exception": false,
          "start_time": "2023-06-01T21:09:56.689352",
          "status": "completed"
        },
        "tags": []
      },
      "outputs": [
        {
          "data": {
            "text/plain": [
              "{'in0': 0, 'in1': 1, 'out0': 2, 'out1': 3}"
            ]
          },
          "execution_count": 49,
          "metadata": {},
          "output_type": "execute_result"
        }
      ],
      "source": [
        "port_map"
      ]
    },
    {
      "cell_type": "markdown",
      "id": "0cfee3cf",
      "metadata": {
        "papermill": {
          "duration": 0.013621,
          "end_time": "2023-06-01T21:09:56.736859",
          "exception": false,
          "start_time": "2023-06-01T21:09:56.723238",
          "status": "completed"
        },
        "tags": []
      },
      "source": [
        "## Algorithm Improvements"
      ]
    },
    {
      "cell_type": "markdown",
      "id": "26b70270",
      "metadata": {
        "papermill": {
          "duration": 0.013788,
          "end_time": "2023-06-01T21:09:56.764220",
          "exception": false,
          "start_time": "2023-06-01T21:09:56.750432",
          "status": "completed"
        },
        "tags": []
      },
      "source": [
        "This algorithm is \n",
        "\n",
        "* very fast for large circuits \ud83d\ude42\n",
        "\n",
        "This algorithm is however:\n",
        "\n",
        "* **not** jittable \ud83d\ude25\n",
        "* **not** differentiable \ud83d\ude25\n",
        "* **not** GPU-compatible \ud83d\ude42\n",
        "\n",
        "There are probably still plenty of improvements possible for this algorithm:\n",
        "\n",
        "* **\u00bf** make it jittable **?**\n",
        "* **\u00bf** make it differentiable (requires making klujax differentiable first) **?**\n",
        "* **\u00bf** make it GPU compatible (requires making suitesparse GPU compatible... probably not gonna happen)**?**\n",
        "\n",
        "Bottom line is... Do you know how to improve this algorithm or how to implement the above suggestions? Please open a Merge Request!"
      ]
    },
    {
      "cell_type": "markdown",
      "id": "7578c842-033b-4d1f-a84f-e5ad486d4a88",
      "metadata": {
        "papermill": {
          "duration": 0.013576,
          "end_time": "2023-06-01T21:09:56.791394",
          "exception": false,
          "start_time": "2023-06-01T21:09:56.777818",
          "status": "completed"
        },
        "tags": []
      },
      "source": [
        "## Debug"
      ]
    },
    {
      "cell_type": "code",
      "execution_count": 50,
      "id": "8764ab09-12b9-4b3d-9d83-9a0872924077",
      "metadata": {
        "execution": {
          "iopub.execute_input": "2023-06-01T21:09:56.820186Z",
          "iopub.status.busy": "2023-06-01T21:09:56.819836Z",
          "iopub.status.idle": "2023-06-01T21:09:56.828646Z",
          "shell.execute_reply": "2023-06-01T21:09:56.828274Z"
        },
        "papermill": {
          "duration": 0.02479,
          "end_time": "2023-06-01T21:09:56.829846",
          "exception": false,
          "start_time": "2023-06-01T21:09:56.805056",
          "status": "completed"
        },
        "tags": []
      },
      "outputs": [],
      "source": [
        "instances = {\n",
        "    \"lft\": (\n",
        "        jnp.array(\n",
        "            [\n",
        "                [\n",
        "                    5.19688622e-06 - 1.19777138e-05j,\n",
        "                    6.30595625e-16 - 1.48061189e-17j,\n",
        "                    -3.38542541e-01 - 6.15711852e-01j,\n",
        "                    5.80662654e-03 - 1.11068866e-02j,\n",
        "                    -3.38542542e-01 - 6.15711852e-01j,\n",
        "                    -5.80662660e-03 + 1.11068866e-02j,\n",
        "                ],\n",
        "                [\n",
        "                    8.59445189e-16 - 8.29783014e-16j,\n",
        "                    -2.08640825e-06 + 8.17315497e-06j,\n",
        "                    2.03847666e-03 - 2.10649131e-03j,\n",
        "                    5.30509661e-01 + 4.62504708e-01j,\n",
        "                    -2.03847666e-03 + 2.10649129e-03j,\n",
        "                    5.30509662e-01 + 4.62504708e-01j,\n",
        "                ],\n",
        "                [\n",
        "                    -3.38542541e-01 - 6.15711852e-01j,\n",
        "                    2.03847660e-03 - 2.10649129e-03j,\n",
        "                    7.60088070e-06 + 9.07340423e-07j,\n",
        "                    2.79292426e-09 + 2.79093547e-07j,\n",
        "                    5.07842364e-06 + 2.16385350e-06j,\n",
        "                    -6.84244232e-08 - 5.00486817e-07j,\n",
        "                ],\n",
        "                [\n",
        "                    5.80662707e-03 - 1.11068869e-02j,\n",
        "                    5.30509661e-01 + 4.62504708e-01j,\n",
        "                    2.79291895e-09 + 2.79093540e-07j,\n",
        "                    -4.55645798e-06 + 1.50570403e-06j,\n",
        "                    6.84244128e-08 + 5.00486817e-07j,\n",
        "                    -3.55812153e-06 + 4.59781091e-07j,\n",
        "                ],\n",
        "                [\n",
        "                    -3.38542541e-01 - 6.15711852e-01j,\n",
        "                    -2.03847672e-03 + 2.10649131e-03j,\n",
        "                    5.07842364e-06 + 2.16385349e-06j,\n",
        "                    6.84244230e-08 + 5.00486816e-07j,\n",
        "                    7.60088070e-06 + 9.07340425e-07j,\n",
        "                    -2.79292467e-09 - 2.79093547e-07j,\n",
        "                ],\n",
        "                [\n",
        "                    -5.80662607e-03 + 1.11068863e-02j,\n",
        "                    5.30509662e-01 + 4.62504708e-01j,\n",
        "                    -6.84244296e-08 - 5.00486825e-07j,\n",
        "                    -3.55812153e-06 + 4.59781093e-07j,\n",
        "                    -2.79293217e-09 - 2.79093547e-07j,\n",
        "                    -4.55645798e-06 + 1.50570403e-06j,\n",
        "                ],\n",
        "            ]\n",
        "        ),\n",
        "        {\"in0\": 0, \"out0\": 2, \"out1\": 4},\n",
        "    ),\n",
        "    \"top\": {(\"in0\", \"out0\"): -0.99477 - 0.10211j, (\"out0\", \"in0\"): -0.99477 - 0.10211j},\n",
        "    \"rgt\": {\n",
        "        (\"in0\", \"out0\"): 0.7071067811865476,\n",
        "        (\"in0\", \"out1\"): 0.7071067811865476j,\n",
        "        (\"in1\", \"out0\"): 0.7071067811865476j,\n",
        "        (\"in1\", \"out1\"): 0.7071067811865476,\n",
        "        (\"out0\", \"in0\"): 0.7071067811865476,\n",
        "        (\"out1\", \"in0\"): 0.7071067811865476j,\n",
        "        (\"out0\", \"in1\"): 0.7071067811865476j,\n",
        "        (\"out1\", \"in1\"): 0.7071067811865476,\n",
        "    },\n",
        "}\n",
        "connections = {\"lft,out0\": \"rgt,in0\", \"lft,out1\": \"top,in0\", \"top,out0\": \"rgt,in1\"}\n",
        "ports = {\"in0\": \"lft,in0\", \"out0\": \"rgt,out0\"}"
      ]
    },
    {
      "cell_type": "code",
      "execution_count": 51,
      "id": "20de2839-e848-49a4-b70a-bf192744c344",
      "metadata": {
        "execution": {
          "iopub.execute_input": "2023-06-01T21:09:56.858578Z",
          "iopub.status.busy": "2023-06-01T21:09:56.858245Z",
          "iopub.status.idle": "2023-06-01T21:09:57.018135Z",
          "shell.execute_reply": "2023-06-01T21:09:57.017747Z"
        },
        "papermill": {
          "duration": 0.175812,
          "end_time": "2023-06-01T21:09:57.019339",
          "exception": false,
          "start_time": "2023-06-01T21:09:56.843527",
          "status": "completed"
        },
        "tags": []
      },
      "outputs": [
        {
          "data": {
            "text/plain": [
              "{('in0', 'in0'): Array(5.1968864e-06-1.1977714e-05j, dtype=complex64),\n",
              " ('in0', 'out0'): Array(-0.6969264-0.24169631j, dtype=complex64),\n",
              " ('out0', 'in0'): Array(-0.6969264-0.24169631j, dtype=complex64),\n",
              " ('out0', 'out0'): Array(2.842532e-06-5.5935166e-06j, dtype=complex64)}"
            ]
          },
          "execution_count": 51,
          "metadata": {},
          "output_type": "execute_result"
        }
      ],
      "source": [
        "sax.sdict(evaluate_circuit(instances, connections, ports))"
      ]
    },
    {
      "cell_type": "code",
      "execution_count": 52,
      "id": "fc7b3ac4-4599-4748-a4b8-ec0a2e3927c8",
      "metadata": {
        "execution": {
          "iopub.execute_input": "2023-06-01T21:09:57.049765Z",
          "iopub.status.busy": "2023-06-01T21:09:57.049436Z",
          "iopub.status.idle": "2023-06-01T21:09:57.136945Z",
          "shell.execute_reply": "2023-06-01T21:09:57.136557Z"
        },
        "papermill": {
          "duration": 0.104409,
          "end_time": "2023-06-01T21:09:57.138127",
          "exception": false,
          "start_time": "2023-06-01T21:09:57.033718",
          "status": "completed"
        },
        "tags": []
      },
      "outputs": [
        {
          "data": {
            "text/plain": [
              "{('in0', 'in0'): Array(5.1968864e-06-1.1977714e-05j, dtype=complex64),\n",
              " ('in0', 'out0'): Array(-0.6969264-0.24169631j, dtype=complex64),\n",
              " ('out0', 'in0'): Array(-0.6969264-0.24169631j, dtype=complex64),\n",
              " ('out0', 'out0'): Array(2.842532e-06-5.5935166e-06j, dtype=complex64)}"
            ]
          },
          "execution_count": 52,
          "metadata": {},
          "output_type": "execute_result"
        }
      ],
      "source": [
        "sax.sdict(evaluate_circuit_klu(instances, connections, ports))"
      ]
    }
  ],
  "metadata": {
    "kernelspec": {
      "display_name": "octans",
      "language": "python",
      "name": "octans"
    },
    "language_info": {
      "codemirror_mode": {
        "name": "ipython",
        "version": 3
      },
      "file_extension": ".py",
      "mimetype": "text/x-python",
      "name": "python",
      "nbconvert_exporter": "python",
      "pygments_lexer": "ipython3",
      "version": "3.11.3"
    },
    "papermill": {
      "default_parameters": {},
      "duration": 8.697853,
      "end_time": "2023-06-01T21:09:57.769442",
      "environment_variables": {},
      "exception": null,
      "input_path": "./nbs/08b_backends_klu.ipynb",
      "output_path": "./nbs/08b_backends_klu.ipynb",
      "parameters": {},
      "start_time": "2023-06-01T21:09:49.071589",
      "version": "2.3.4"
    }
  },
  "nbformat": 4,
  "nbformat_minor": 5
}