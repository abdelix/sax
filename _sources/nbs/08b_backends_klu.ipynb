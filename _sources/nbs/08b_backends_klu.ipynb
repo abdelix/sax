{
  "cells": [
    {
      "cell_type": "code",
      "execution_count": 1,
      "id": "b57d0873999673b2",
      "metadata": {
        "execution": {
          "iopub.execute_input": "2023-09-01T15:54:34.975485Z",
          "iopub.status.busy": "2023-09-01T15:54:34.974886Z",
          "iopub.status.idle": "2023-09-01T15:54:34.978840Z",
          "shell.execute_reply": "2023-09-01T15:54:34.978144Z"
        },
        "papermill": {
          "duration": 0.065829,
          "end_time": "2023-09-01T15:54:34.980389",
          "exception": false,
          "start_time": "2023-09-01T15:54:34.914560",
          "status": "completed"
        },
        "tags": [
          "remove-cell"
        ]
      },
      "outputs": [],
      "source": []
    },
    {
      "cell_type": "markdown",
      "id": "27c3489e",
      "metadata": {
        "papermill": {
          "duration": 0.013315,
          "end_time": "2023-09-01T15:54:35.007244",
          "exception": false,
          "start_time": "2023-09-01T15:54:34.993929",
          "status": "completed"
        },
        "tags": []
      },
      "source": [
        "# Backend - KLU\n",
        "\n",
        "> SAX KLU Backend"
      ]
    },
    {
      "cell_type": "code",
      "execution_count": 2,
      "id": "72f2c0b62987774d",
      "metadata": {
        "execution": {
          "iopub.execute_input": "2023-09-01T15:54:35.036452Z",
          "iopub.status.busy": "2023-09-01T15:54:35.035585Z",
          "iopub.status.idle": "2023-09-01T15:54:37.020252Z",
          "shell.execute_reply": "2023-09-01T15:54:37.019595Z"
        },
        "papermill": {
          "duration": 2.003058,
          "end_time": "2023-09-01T15:54:37.023511",
          "exception": false,
          "start_time": "2023-09-01T15:54:35.020453",
          "status": "completed"
        },
        "tags": [
          "remove-cell"
        ]
      },
      "outputs": [],
      "source": [
        "import sax\n",
        "import matplotlib.pyplot as plt\n",
        "from fastcore.test import test_eq\n",
        "from pytest import approx, raises\n",
        "from nbdev import show_doc\n",
        "from sax.backends import analyze_circuit, evaluate_circuit\n",
        "\n",
        "import os, sys; sys.stderr = open(os.devnull, \"w\")"
      ]
    },
    {
      "cell_type": "code",
      "execution_count": 3,
      "id": "db8f39957d91608c",
      "metadata": {
        "execution": {
          "iopub.execute_input": "2023-09-01T15:54:37.054250Z",
          "iopub.status.busy": "2023-09-01T15:54:37.053102Z",
          "iopub.status.idle": "2023-09-01T15:54:37.058198Z",
          "shell.execute_reply": "2023-09-01T15:54:37.057584Z"
        },
        "papermill": {
          "duration": 0.021947,
          "end_time": "2023-09-01T15:54:37.059647",
          "exception": false,
          "start_time": "2023-09-01T15:54:37.037700",
          "status": "completed"
        },
        "tags": [
          "hide-input"
        ]
      },
      "outputs": [],
      "source": [
        "from __future__ import annotations\n",
        "\n",
        "from functools import partial\n",
        "from typing import Dict\n",
        "\n",
        "import jax\n",
        "import jax.numpy as jnp\n",
        "import klujax\n",
        "from natsort import natsorted\n",
        "from sax.typing_ import SDense, SDict, SType, scoo, sdense, sdict"
      ]
    },
    {
      "cell_type": "markdown",
      "id": "64e42767",
      "metadata": {
        "papermill": {
          "duration": 0.013466,
          "end_time": "2023-09-01T15:54:37.086579",
          "exception": false,
          "start_time": "2023-09-01T15:54:37.073113",
          "status": "completed"
        },
        "tags": []
      },
      "source": [
        "## Citation\n",
        "The KLU backend is using `klujax`, which uses the [SuiteSparse](https://github.com/DrTimothyAldenDavis/SuiteSparse) C++ libraries for sparse matrix evaluations to evaluate the circuit insanely fast on a CPU. The specific algorith being used in question is the KLU algorithm:\n",
        "\n",
        "> Ekanathan Palamadai Natariajan. \"*KLU - A high performance sparse linear solver for circuit simulation problems.*\""
      ]
    },
    {
      "cell_type": "markdown",
      "id": "2db5821c",
      "metadata": {
        "papermill": {
          "duration": 0.0133,
          "end_time": "2023-09-01T15:54:37.113166",
          "exception": false,
          "start_time": "2023-09-01T15:54:37.099866",
          "status": "completed"
        },
        "tags": []
      },
      "source": [
        "## Theoretical Background"
      ]
    },
    {
      "cell_type": "markdown",
      "id": "3d4d4a4c",
      "metadata": {
        "papermill": {
          "duration": 0.013119,
          "end_time": "2023-09-01T15:54:37.139477",
          "exception": false,
          "start_time": "2023-09-01T15:54:37.126358",
          "status": "completed"
        },
        "tags": []
      },
      "source": [
        "The core of the KLU algorithm is supported by `klujax`, which internally uses the Suitesparse libraries to solve the sparse system `Ax = b`, in which A is a sparse matrix."
      ]
    },
    {
      "cell_type": "markdown",
      "id": "a1985f58",
      "metadata": {
        "papermill": {
          "duration": 0.013755,
          "end_time": "2023-09-01T15:54:37.166669",
          "exception": false,
          "start_time": "2023-09-01T15:54:37.152914",
          "status": "completed"
        },
        "tags": []
      },
      "source": [
        "Now it only comes down to shoehorn our circuit evaluation into a sparse linear system of equations $Ax=b$ where we need to solve for $x$ using `klujax`. \n",
        "Consider the block diagonal matrix $S_{bd}$ of all components in the circuit acting on the fields $x_{in}$ at each of the individual ports of each of the component integrated in $S^{bd}$. The output fields $x^{out}$ at each of those ports is then given by:\n",
        "\n",
        "$$\n",
        "x^{out} = S_{bd} x^{in}\n",
        "$$"
      ]
    },
    {
      "cell_type": "markdown",
      "id": "9c26c04a",
      "metadata": {
        "papermill": {
          "duration": 0.01319,
          "end_time": "2023-09-01T15:54:37.193036",
          "exception": false,
          "start_time": "2023-09-01T15:54:37.179846",
          "status": "completed"
        },
        "tags": []
      },
      "source": [
        "However, $S_{bd}$ is not the S-matrix of the circuit as it does not encode any connectivity *between* the components. Connecting two component ports basically comes down to enforcing equality between the output fields at one port of a component with the input fields at another port of another (or maybe even the same) component. This equality can be enforced by creating an internal connection matrix, connecting all internal ports of the circuit:\n",
        "\n",
        "$$\n",
        "x^{in} = C_{int} x^{out}\n",
        "$$"
      ]
    },
    {
      "cell_type": "markdown",
      "id": "16b3fdad",
      "metadata": {
        "papermill": {
          "duration": 0.01305,
          "end_time": "2023-09-01T15:54:37.219279",
          "exception": false,
          "start_time": "2023-09-01T15:54:37.206229",
          "status": "completed"
        },
        "tags": []
      },
      "source": [
        "We can thus write the following combined equation:\n",
        "\n",
        "$$\n",
        "x^{in} = C_{int} S_{bd} x^{in}\n",
        "$$"
      ]
    },
    {
      "cell_type": "markdown",
      "id": "f5ceb9a2",
      "metadata": {
        "papermill": {
          "duration": 0.013209,
          "end_time": "2023-09-01T15:54:37.245682",
          "exception": false,
          "start_time": "2023-09-01T15:54:37.232473",
          "status": "completed"
        },
        "tags": []
      },
      "source": [
        "But this is not the complete story... Some component ports will *not* be *interconnected* with other ports: they will become the new *external ports* (or output ports) of the combined circuit. We can include those external ports into the above equation as follows:\n",
        "\n",
        "$$\n",
        "\\begin{pmatrix} x^{in} \\\\ x^{out}_{ext} \\end{pmatrix} = \\begin{pmatrix} C_{int} & C_{ext} \\\\ C_{ext}^T & 0 \\end{pmatrix} \\begin{pmatrix} S_{bd} x^{in} \\\\ x_{ext}^{in} \\end{pmatrix} \n",
        "$$"
      ]
    },
    {
      "cell_type": "markdown",
      "id": "6382a242",
      "metadata": {
        "papermill": {
          "duration": 0.013241,
          "end_time": "2023-09-01T15:54:37.272190",
          "exception": false,
          "start_time": "2023-09-01T15:54:37.258949",
          "status": "completed"
        },
        "tags": []
      },
      "source": [
        "Note that $C_{ext}$ is obviously **not** a square matrix. Eliminating $x^{in}$ from the equation above finally yields:\n",
        "\n",
        "$$\n",
        "x^{out}_{ext} = C^T_{ext} S_{bd} (\\mathbb{1} - C_{int}S_{bd})^{-1} C_{ext}x_{ext}^{in}\n",
        "$$"
      ]
    },
    {
      "cell_type": "markdown",
      "id": "5f15bdcd",
      "metadata": {
        "papermill": {
          "duration": 0.013189,
          "end_time": "2023-09-01T15:54:37.298524",
          "exception": false,
          "start_time": "2023-09-01T15:54:37.285335",
          "status": "completed"
        },
        "tags": []
      },
      "source": [
        "We basically found a representation of the circuit S-matrix:\n",
        "\n",
        "$$\n",
        "S = C^T_{ext} S_{bd} (\\mathbb{1} - C_{int}S_{bd})^{-1} C_{ext}\n",
        "$$"
      ]
    },
    {
      "cell_type": "markdown",
      "id": "40ad83b8",
      "metadata": {
        "papermill": {
          "duration": 0.013083,
          "end_time": "2023-09-01T15:54:37.324782",
          "exception": false,
          "start_time": "2023-09-01T15:54:37.311699",
          "status": "completed"
        },
        "tags": []
      },
      "source": [
        "Obviously, we won't want to calculate the inverse $(\\mathbb{1} - C_{int}S_{bd})^{-1}$, which is the inverse of a very sparse matrix (a connection matrix only has a single 1 per line), which very often is not even sparse itself. In stead we'll use the `solve_klu` function:\n",
        "\n",
        "$$\n",
        "S = C^T_{ext} S_{bd} \\texttt{solve}\\_\\texttt{klu}\\left((\\mathbb{1} - C_{int}S_{bd}), C_{ext}\\right)\n",
        "$$"
      ]
    },
    {
      "cell_type": "markdown",
      "id": "018fab3d",
      "metadata": {
        "papermill": {
          "duration": 0.01325,
          "end_time": "2023-09-01T15:54:37.351226",
          "exception": false,
          "start_time": "2023-09-01T15:54:37.337976",
          "status": "completed"
        },
        "tags": []
      },
      "source": [
        "Moreover, $C_{ext}^TS_{bd}$ is also a sparse matrix, therefore we'll also need a `mul_coo` routine:\n",
        "\n",
        "$$\n",
        "S = C^T_{ext} \\texttt{mul}\\_\\texttt{coo}\\left(S_{bd},~~\\texttt{solve}\\_\\texttt{klu}\\left((\\mathbb{1} - C_{int}S_{bd}),~C_{ext}\\right)\\right)\n",
        "$$"
      ]
    },
    {
      "cell_type": "markdown",
      "id": "d9b78852",
      "metadata": {
        "papermill": {
          "duration": 0.013315,
          "end_time": "2023-09-01T15:54:37.378089",
          "exception": false,
          "start_time": "2023-09-01T15:54:37.364774",
          "status": "completed"
        },
        "tags": []
      },
      "source": [
        "## Sparse Helper Functions"
      ]
    },
    {
      "cell_type": "code",
      "execution_count": 4,
      "id": "35e3a2baeac4e663",
      "metadata": {
        "execution": {
          "iopub.execute_input": "2023-09-01T15:54:37.406964Z",
          "iopub.status.busy": "2023-09-01T15:54:37.406118Z",
          "iopub.status.idle": "2023-09-01T15:54:37.417423Z",
          "shell.execute_reply": "2023-09-01T15:54:37.416950Z"
        },
        "papermill": {
          "duration": 0.027651,
          "end_time": "2023-09-01T15:54:37.418924",
          "exception": false,
          "start_time": "2023-09-01T15:54:37.391273",
          "status": "completed"
        },
        "tags": [
          "remove-input"
        ]
      },
      "outputs": [
        {
          "data": {
            "text/markdown": [
              "<h4 id=\"klujax.solve\" class=\"doc_header\"><code>klujax.solve</code><a href=\"klujax.py#L97\" class=\"source_link\" style=\"float:right\">[source]</a></h4>\n",
              "\n",
              "> <code>klujax.solve</code>(**`Ai`**, **`Aj`**, **`Ax`**, **`b`**)\n",
              "\n"
            ],
            "text/plain": [
              "<IPython.core.display.Markdown object>"
            ]
          },
          "metadata": {},
          "output_type": "display_data"
        }
      ],
      "source": [
        "show_doc(klujax.solve, doc_string=False, name=\"klujax.solve\")"
      ]
    },
    {
      "cell_type": "markdown",
      "id": "01299d5d",
      "metadata": {
        "papermill": {
          "duration": 0.013496,
          "end_time": "2023-09-01T15:54:37.445950",
          "exception": false,
          "start_time": "2023-09-01T15:54:37.432454",
          "status": "completed"
        },
        "tags": []
      },
      "source": [
        "`klujax.solve` solves the sparse system of equations `Ax=b` for `x`. Where `A` is represented by in [COO-format](https://en.wikipedia.org/wiki/Sparse_matrix#Coordinate_list_(COO)) as (`Ai`, `Aj`, `Ax`).\n",
        "\n",
        "> Example"
      ]
    },
    {
      "cell_type": "code",
      "execution_count": 5,
      "id": "63e7977a",
      "metadata": {
        "execution": {
          "iopub.execute_input": "2023-09-01T15:54:37.475313Z",
          "iopub.status.busy": "2023-09-01T15:54:37.474522Z",
          "iopub.status.idle": "2023-09-01T15:54:37.646714Z",
          "shell.execute_reply": "2023-09-01T15:54:37.646008Z"
        },
        "papermill": {
          "duration": 0.189085,
          "end_time": "2023-09-01T15:54:37.648443",
          "exception": false,
          "start_time": "2023-09-01T15:54:37.459358",
          "status": "completed"
        },
        "tags": []
      },
      "outputs": [
        {
          "data": {
            "text/plain": [
              "Array([6. , 1. , 0.5, 0.5, 2. ], dtype=float64)"
            ]
          },
          "execution_count": 5,
          "metadata": {},
          "output_type": "execute_result"
        }
      ],
      "source": [
        "Ai = jnp.array([0, 1, 2, 3, 4])\n",
        "Aj = jnp.array([1, 3, 4, 0, 2])\n",
        "Ax = jnp.array([5, 6, 1, 1, 2])\n",
        "b = jnp.array([5, 3, 2, 6, 1])\n",
        "x = klujax.solve(Ai, Aj, Ax, b)\n",
        "x"
      ]
    },
    {
      "cell_type": "markdown",
      "id": "3233b04c",
      "metadata": {
        "papermill": {
          "duration": 0.013752,
          "end_time": "2023-09-01T15:54:37.676309",
          "exception": false,
          "start_time": "2023-09-01T15:54:37.662557",
          "status": "completed"
        },
        "tags": []
      },
      "source": [
        "This result is indeed correct:"
      ]
    },
    {
      "cell_type": "code",
      "execution_count": 6,
      "id": "629bbc71",
      "metadata": {
        "execution": {
          "iopub.execute_input": "2023-09-01T15:54:37.705233Z",
          "iopub.status.busy": "2023-09-01T15:54:37.704923Z",
          "iopub.status.idle": "2023-09-01T15:54:37.899329Z",
          "shell.execute_reply": "2023-09-01T15:54:37.898671Z"
        },
        "papermill": {
          "duration": 0.211312,
          "end_time": "2023-09-01T15:54:37.901175",
          "exception": false,
          "start_time": "2023-09-01T15:54:37.689863",
          "status": "completed"
        },
        "tags": []
      },
      "outputs": [
        {
          "name": "stdout",
          "output_type": "stream",
          "text": [
            "[[0. 5. 0. 0. 0.]\n",
            " [0. 0. 0. 6. 0.]\n",
            " [0. 0. 0. 0. 1.]\n",
            " [1. 0. 0. 0. 0.]\n",
            " [0. 0. 2. 0. 0.]]\n",
            "[5. 3. 2. 6. 1.]\n"
          ]
        }
      ],
      "source": [
        "A = jnp.zeros((5, 5)).at[Ai, Aj].set(Ax)\n",
        "print(A)\n",
        "print(A@x)"
      ]
    },
    {
      "cell_type": "markdown",
      "id": "c7fe6547",
      "metadata": {
        "papermill": {
          "duration": 0.013712,
          "end_time": "2023-09-01T15:54:37.928824",
          "exception": false,
          "start_time": "2023-09-01T15:54:37.915112",
          "status": "completed"
        },
        "tags": []
      },
      "source": [
        "However, to use this function effectively, we probably need an extra dimension for `Ax`. Indeed, we would like to solve this equation for multiple wavelengths (or more general, for multiple circuit configurations) at once. For this we can use `jax.vmap` to expose `klujax.solve` to more dimensions for `Ax`:"
      ]
    },
    {
      "cell_type": "code",
      "execution_count": 7,
      "id": "2967f3be1a64ff5b",
      "metadata": {
        "execution": {
          "iopub.execute_input": "2023-09-01T15:54:37.958780Z",
          "iopub.status.busy": "2023-09-01T15:54:37.957962Z",
          "iopub.status.idle": "2023-09-01T15:54:37.961933Z",
          "shell.execute_reply": "2023-09-01T15:54:37.961347Z"
        },
        "papermill": {
          "duration": 0.020863,
          "end_time": "2023-09-01T15:54:37.963518",
          "exception": false,
          "start_time": "2023-09-01T15:54:37.942655",
          "status": "completed"
        },
        "tags": []
      },
      "outputs": [],
      "source": [
        "solve_klu = jax.vmap(klujax.solve, (None, None, 0, None), 0)"
      ]
    },
    {
      "cell_type": "code",
      "execution_count": 8,
      "id": "b7bc9f54f56ee247",
      "metadata": {
        "execution": {
          "iopub.execute_input": "2023-09-01T15:54:37.993220Z",
          "iopub.status.busy": "2023-09-01T15:54:37.992216Z",
          "iopub.status.idle": "2023-09-01T15:54:38.005080Z",
          "shell.execute_reply": "2023-09-01T15:54:38.004259Z"
        },
        "papermill": {
          "duration": 0.029391,
          "end_time": "2023-09-01T15:54:38.006476",
          "exception": false,
          "start_time": "2023-09-01T15:54:37.977085",
          "status": "completed"
        },
        "tags": [
          "remove-input"
        ]
      },
      "outputs": [
        {
          "data": {
            "text/markdown": [
              "<h4 id=\"solve_klu\" class=\"doc_header\"><code>solve_klu</code><a href=\"klujax.py#L97\" class=\"source_link\" style=\"float:right\">[source]</a></h4>\n",
              "\n",
              "> <code>solve_klu</code>(**`Ai`**, **`Aj`**, **`Ax`**, **`b`**)\n",
              "\n",
              "\n",
              "\n",
              "||Type|Default|Details|\n",
              "|---|---|---|---|\n",
              "|**`Ai`**|||*No Content*|\n",
              "|**`Aj`**|||*No Content*|\n",
              "|**`Ax`**|||*No Content*|\n",
              "|**`b`**|||jitting by default allows for empty implementation definitions|\n"
            ],
            "text/plain": [
              "<IPython.core.display.Markdown object>"
            ]
          },
          "metadata": {},
          "output_type": "display_data"
        }
      ],
      "source": [
        "show_doc(solve_klu, doc_string=False, name=\"solve_klu\")"
      ]
    },
    {
      "cell_type": "markdown",
      "id": "6707049d",
      "metadata": {
        "papermill": {
          "duration": 0.014013,
          "end_time": "2023-09-01T15:54:38.034599",
          "exception": false,
          "start_time": "2023-09-01T15:54:38.020586",
          "status": "completed"
        },
        "tags": []
      },
      "source": [
        "Let's now redefine `Ax` and see what it gives:"
      ]
    },
    {
      "cell_type": "code",
      "execution_count": 9,
      "id": "d4d7b6f9",
      "metadata": {
        "execution": {
          "iopub.execute_input": "2023-09-01T15:54:38.066517Z",
          "iopub.status.busy": "2023-09-01T15:54:38.064776Z",
          "iopub.status.idle": "2023-09-01T15:54:38.118856Z",
          "shell.execute_reply": "2023-09-01T15:54:38.118308Z"
        },
        "papermill": {
          "duration": 0.071577,
          "end_time": "2023-09-01T15:54:38.120720",
          "exception": false,
          "start_time": "2023-09-01T15:54:38.049143",
          "status": "completed"
        },
        "tags": []
      },
      "outputs": [
        {
          "data": {
            "text/plain": [
              "Array([[6.        , 1.        , 0.5       , 0.5       , 2.        ],\n",
              "       [3.        , 1.        , 1.        , 0.75      , 0.66666667],\n",
              "       [1.5       , 5.        , 0.2       , 1.5       , 0.66666667]],      dtype=float64)"
            ]
          },
          "execution_count": 9,
          "metadata": {},
          "output_type": "execute_result"
        }
      ],
      "source": [
        "Ai = jnp.array([0, 1, 2, 3, 4])\n",
        "Aj = jnp.array([1, 3, 4, 0, 2])\n",
        "Ax = jnp.array([[5, 6, 1, 1, 2], [5, 4, 3, 2, 1], [1, 2, 3, 4, 5]])\n",
        "b = jnp.array([5, 3, 2, 6, 1])\n",
        "x = solve_klu(Ai, Aj, Ax, b)\n",
        "x"
      ]
    },
    {
      "cell_type": "markdown",
      "id": "5f342c6f",
      "metadata": {
        "papermill": {
          "duration": 0.014358,
          "end_time": "2023-09-01T15:54:38.150765",
          "exception": false,
          "start_time": "2023-09-01T15:54:38.136407",
          "status": "completed"
        },
        "tags": []
      },
      "source": [
        "This result is indeed correct:"
      ]
    },
    {
      "cell_type": "code",
      "execution_count": 10,
      "id": "0afefaa6",
      "metadata": {
        "execution": {
          "iopub.execute_input": "2023-09-01T15:54:38.182462Z",
          "iopub.status.busy": "2023-09-01T15:54:38.181389Z",
          "iopub.status.idle": "2023-09-01T15:54:38.305268Z",
          "shell.execute_reply": "2023-09-01T15:54:38.304442Z"
        },
        "papermill": {
          "duration": 0.143689,
          "end_time": "2023-09-01T15:54:38.308661",
          "exception": false,
          "start_time": "2023-09-01T15:54:38.164972",
          "status": "completed"
        },
        "tags": []
      },
      "outputs": [
        {
          "data": {
            "text/plain": [
              "Array([[5., 3., 2., 6., 1.],\n",
              "       [5., 3., 2., 6., 1.],\n",
              "       [5., 3., 2., 6., 1.]], dtype=float64)"
            ]
          },
          "execution_count": 10,
          "metadata": {},
          "output_type": "execute_result"
        }
      ],
      "source": [
        "A = jnp.zeros((3, 5, 5)).at[:, Ai, Aj].set(Ax)\n",
        "jnp.einsum(\"ijk,ik->ij\", A, x)"
      ]
    },
    {
      "cell_type": "markdown",
      "id": "7ed8f62d",
      "metadata": {
        "papermill": {
          "duration": 0.01443,
          "end_time": "2023-09-01T15:54:38.337524",
          "exception": false,
          "start_time": "2023-09-01T15:54:38.323094",
          "status": "completed"
        },
        "tags": []
      },
      "source": [
        "Additionally, we need a way to multiply a sparse COO-matrix with a dense vector. This can be done with `klujax.coo_mul_vec`:"
      ]
    },
    {
      "cell_type": "code",
      "execution_count": 11,
      "id": "6128188c37e0672e",
      "metadata": {
        "execution": {
          "iopub.execute_input": "2023-09-01T15:54:38.368126Z",
          "iopub.status.busy": "2023-09-01T15:54:38.367275Z",
          "iopub.status.idle": "2023-09-01T15:54:38.376132Z",
          "shell.execute_reply": "2023-09-01T15:54:38.375575Z"
        },
        "papermill": {
          "duration": 0.025899,
          "end_time": "2023-09-01T15:54:38.377569",
          "exception": false,
          "start_time": "2023-09-01T15:54:38.351670",
          "status": "completed"
        },
        "tags": [
          "remove-input"
        ]
      },
      "outputs": [
        {
          "data": {
            "text/markdown": [
              "<h4 id=\"klujax.coo_mul_vec\" class=\"doc_header\"><code>klujax.coo_mul_vec</code><a href=\"klujax.py#L116\" class=\"source_link\" style=\"float:right\">[source]</a></h4>\n",
              "\n",
              "> <code>klujax.coo_mul_vec</code>(**`Ai`**, **`Aj`**, **`Ax`**, **`b`**)\n",
              "\n"
            ],
            "text/plain": [
              "<IPython.core.display.Markdown object>"
            ]
          },
          "metadata": {},
          "output_type": "display_data"
        }
      ],
      "source": [
        "\n",
        "show_doc(klujax.coo_mul_vec, doc_string=False, name=\"klujax.coo_mul_vec\")"
      ]
    },
    {
      "cell_type": "markdown",
      "id": "7f57c443",
      "metadata": {
        "papermill": {
          "duration": 0.014324,
          "end_time": "2023-09-01T15:54:38.406288",
          "exception": false,
          "start_time": "2023-09-01T15:54:38.391964",
          "status": "completed"
        },
        "tags": []
      },
      "source": [
        "However, it's useful to allow a batch dimension, this time *both* in `Ax` and in `b`:"
      ]
    },
    {
      "cell_type": "code",
      "execution_count": 12,
      "id": "2ee51efd4ddbab62",
      "metadata": {
        "execution": {
          "iopub.execute_input": "2023-09-01T15:54:38.437478Z",
          "iopub.status.busy": "2023-09-01T15:54:38.436433Z",
          "iopub.status.idle": "2023-09-01T15:54:38.441890Z",
          "shell.execute_reply": "2023-09-01T15:54:38.441155Z"
        },
        "papermill": {
          "duration": 0.022924,
          "end_time": "2023-09-01T15:54:38.443539",
          "exception": false,
          "start_time": "2023-09-01T15:54:38.420615",
          "status": "completed"
        },
        "tags": []
      },
      "outputs": [],
      "source": [
        "mul_coo = None \n",
        "mul_coo = jax.vmap(klujax.coo_mul_vec, (None, None, 0, 0), 0)"
      ]
    },
    {
      "cell_type": "code",
      "execution_count": 13,
      "id": "1d692a9185903782",
      "metadata": {
        "execution": {
          "iopub.execute_input": "2023-09-01T15:54:38.474490Z",
          "iopub.status.busy": "2023-09-01T15:54:38.473748Z",
          "iopub.status.idle": "2023-09-01T15:54:38.486200Z",
          "shell.execute_reply": "2023-09-01T15:54:38.485617Z"
        },
        "papermill": {
          "duration": 0.029845,
          "end_time": "2023-09-01T15:54:38.487879",
          "exception": false,
          "start_time": "2023-09-01T15:54:38.458034",
          "status": "completed"
        },
        "tags": [
          "remove-input"
        ]
      },
      "outputs": [
        {
          "data": {
            "text/markdown": [
              "<h4 id=\"mul_coo\" class=\"doc_header\"><code>mul_coo</code><a href=\"klujax.py#L116\" class=\"source_link\" style=\"float:right\">[source]</a></h4>\n",
              "\n",
              "> <code>mul_coo</code>(**`Ai`**, **`Aj`**, **`Ax`**, **`b`**)\n",
              "\n",
              "\n",
              "\n",
              "||Type|Default|Details|\n",
              "|---|---|---|---|\n",
              "|**`Ai`**|||*No Content*|\n",
              "|**`Aj`**|||*No Content*|\n",
              "|**`Ax`**|||*No Content*|\n",
              "|**`b`**|||jitting by default allows for empty implementation definitions|\n"
            ],
            "text/plain": [
              "<IPython.core.display.Markdown object>"
            ]
          },
          "metadata": {},
          "output_type": "display_data"
        }
      ],
      "source": [
        "show_doc(mul_coo, doc_string=False, name=\"mul_coo\")"
      ]
    },
    {
      "cell_type": "markdown",
      "id": "d26cc3d9",
      "metadata": {
        "papermill": {
          "duration": 0.014514,
          "end_time": "2023-09-01T15:54:38.516894",
          "exception": false,
          "start_time": "2023-09-01T15:54:38.502380",
          "status": "completed"
        },
        "tags": []
      },
      "source": [
        "Let's confirm this does the right thing:"
      ]
    },
    {
      "cell_type": "code",
      "execution_count": 14,
      "id": "bd868973",
      "metadata": {
        "execution": {
          "iopub.execute_input": "2023-09-01T15:54:38.548608Z",
          "iopub.status.busy": "2023-09-01T15:54:38.547784Z",
          "iopub.status.idle": "2023-09-01T15:54:38.588557Z",
          "shell.execute_reply": "2023-09-01T15:54:38.587962Z"
        },
        "papermill": {
          "duration": 0.058805,
          "end_time": "2023-09-01T15:54:38.590191",
          "exception": false,
          "start_time": "2023-09-01T15:54:38.531386",
          "status": "completed"
        },
        "tags": []
      },
      "outputs": [
        {
          "data": {
            "text/plain": [
              "Array([[5., 3., 2., 6., 1.],\n",
              "       [5., 3., 2., 6., 1.],\n",
              "       [5., 3., 2., 6., 1.]], dtype=float64)"
            ]
          },
          "execution_count": 14,
          "metadata": {},
          "output_type": "execute_result"
        }
      ],
      "source": [
        "result = mul_coo(Ai, Aj, Ax, x)\n",
        "result"
      ]
    },
    {
      "cell_type": "markdown",
      "id": "7729408c-7977-49b4-8be5-b3a8be6cc1ed",
      "metadata": {
        "papermill": {
          "duration": 0.014737,
          "end_time": "2023-09-01T15:54:38.619827",
          "exception": false,
          "start_time": "2023-09-01T15:54:38.605090",
          "status": "completed"
        },
        "tags": []
      },
      "source": [
        "## Circuit Analyzation"
      ]
    },
    {
      "cell_type": "code",
      "execution_count": 15,
      "id": "665c856d",
      "metadata": {
        "execution": {
          "iopub.execute_input": "2023-09-01T15:54:38.651410Z",
          "iopub.status.busy": "2023-09-01T15:54:38.650554Z",
          "iopub.status.idle": "2023-09-01T15:54:38.658008Z",
          "shell.execute_reply": "2023-09-01T15:54:38.657384Z"
        },
        "papermill": {
          "duration": 0.025127,
          "end_time": "2023-09-01T15:54:38.659479",
          "exception": false,
          "start_time": "2023-09-01T15:54:38.634352",
          "status": "completed"
        },
        "tags": []
      },
      "outputs": [],
      "source": [
        "wg_sdict: SDict = {\n",
        "    (\"in0\", \"out0\"): 0.5 + 0.86603j,\n",
        "    (\"out0\", \"in0\"): 0.5 + 0.86603j,\n",
        "}\n",
        "\n",
        "\u03c4, \u03ba = 0.5 ** 0.5, 1j * 0.5 ** 0.5\n",
        "dc_sdense: SDense = (\n",
        "    jnp.array([[0, 0, \u03c4, \u03ba], \n",
        "               [0, 0, \u03ba, \u03c4], \n",
        "               [\u03c4, \u03ba, 0, 0], \n",
        "               [\u03ba, \u03c4, 0, 0]]),\n",
        "    {\"out0\": 0, \"out1\": 1, \"in0\": 2, \"in1\": 3},\n",
        ")\n",
        "\n",
        "instances={\n",
        "    \"dc1\": dc_sdense,\n",
        "    \"wg\": wg_sdict,\n",
        "    \"dc2\": dc_sdense,\n",
        "}\n",
        "connections={\n",
        "    \"dc1,out0\": \"wg,in0\",\n",
        "    \"wg,out0\": \"dc2,in0\",\n",
        "    \"dc1,out1\": \"dc2,in1\",\n",
        "}\n",
        "ports={\n",
        "    \"in0\": \"dc1,in0\",\n",
        "    \"in1\": \"dc1,in1\",\n",
        "    \"out0\": \"dc2,out0\",\n",
        "    \"out1\": \"dc2,out1\",\n",
        "}"
      ]
    },
    {
      "cell_type": "markdown",
      "id": "d65a86788d9a62cf",
      "metadata": {},
      "source": [
        ":::{eval-rst}\n",
        ".. autofunction:: sax.backends.klu.get_instance_ports\n",
        ":::\n"
      ]
    },
    {
      "cell_type": "code",
      "execution_count": 16,
      "id": "87e63d86c477dd7c",
      "metadata": {
        "execution": {
          "iopub.execute_input": "2023-09-01T15:54:38.691046Z",
          "iopub.status.busy": "2023-09-01T15:54:38.690287Z",
          "iopub.status.idle": "2023-09-01T15:54:38.695831Z",
          "shell.execute_reply": "2023-09-01T15:54:38.695233Z"
        },
        "papermill": {
          "duration": 0.023143,
          "end_time": "2023-09-01T15:54:38.697322",
          "exception": false,
          "start_time": "2023-09-01T15:54:38.674179",
          "status": "completed"
        },
        "tags": [
          "hide-input"
        ]
      },
      "outputs": [],
      "source": [
        "def get_instance_ports(connections, ports):\n",
        "    instance_ports = {}\n",
        "    for connection in connections.items():\n",
        "        for ip in connection:\n",
        "            i, p = ip.split(\",\")\n",
        "            if not i in instance_ports:\n",
        "                instance_ports[i] = set()\n",
        "            instance_ports[i].add(p)\n",
        "    for ip in ports.values():\n",
        "        i, p = ip.split(\",\")\n",
        "        if not i in instance_ports:\n",
        "            instance_ports[i] = set()\n",
        "        instance_ports[i].add(p)\n",
        "    return {k: natsorted(v) for k, v in instance_ports.items()}"
      ]
    },
    {
      "cell_type": "markdown",
      "id": "6770172252ab23a5",
      "metadata": {},
      "source": [
        ":::{eval-rst}\n",
        ".. autofunction:: sax.backends.klu.get_dummy_instances\n",
        ":::\n"
      ]
    },
    {
      "cell_type": "code",
      "execution_count": 17,
      "id": "0b978a22c09eb390",
      "metadata": {
        "execution": {
          "iopub.execute_input": "2023-09-01T15:54:38.729139Z",
          "iopub.status.busy": "2023-09-01T15:54:38.728267Z",
          "iopub.status.idle": "2023-09-01T15:54:38.732911Z",
          "shell.execute_reply": "2023-09-01T15:54:38.732408Z"
        },
        "papermill": {
          "duration": 0.022736,
          "end_time": "2023-09-01T15:54:38.734879",
          "exception": false,
          "start_time": "2023-09-01T15:54:38.712143",
          "status": "completed"
        },
        "tags": [
          "hide-input"
        ]
      },
      "outputs": [],
      "source": [
        "def get_dummy_instances(connections, ports):\n",
        "    instance_ports = get_instance_ports(connections, ports)\n",
        "    dummy_instances = {}\n",
        "    for name, ports in instance_ports.items():\n",
        "        num_ports = len(ports)\n",
        "        pm = {p: i for i, p in enumerate(ports)}\n",
        "        S = jnp.ones((num_ports, num_ports), dtype=complex)\n",
        "        dummy_instances[name] = (S, pm)\n",
        "    return dummy_instances"
      ]
    },
    {
      "cell_type": "code",
      "execution_count": 18,
      "id": "cca73fa1-f945-4846-82e1-8c2733db5ba5",
      "metadata": {
        "execution": {
          "iopub.execute_input": "2023-09-01T15:54:38.769782Z",
          "iopub.status.busy": "2023-09-01T15:54:38.768994Z",
          "iopub.status.idle": "2023-09-01T15:54:38.812589Z",
          "shell.execute_reply": "2023-09-01T15:54:38.812034Z"
        },
        "papermill": {
          "duration": 0.061632,
          "end_time": "2023-09-01T15:54:38.814056",
          "exception": false,
          "start_time": "2023-09-01T15:54:38.752424",
          "status": "completed"
        },
        "tags": []
      },
      "outputs": [
        {
          "data": {
            "text/plain": [
              "{'dc1': (Array([[1.+0.j, 1.+0.j, 1.+0.j, 1.+0.j],\n",
              "         [1.+0.j, 1.+0.j, 1.+0.j, 1.+0.j],\n",
              "         [1.+0.j, 1.+0.j, 1.+0.j, 1.+0.j],\n",
              "         [1.+0.j, 1.+0.j, 1.+0.j, 1.+0.j]], dtype=complex128),\n",
              "  {'in0': 0, 'in1': 1, 'out0': 2, 'out1': 3}),\n",
              " 'wg': (Array([[1.+0.j, 1.+0.j],\n",
              "         [1.+0.j, 1.+0.j]], dtype=complex128),\n",
              "  {'in0': 0, 'out0': 1}),\n",
              " 'dc2': (Array([[1.+0.j, 1.+0.j, 1.+0.j, 1.+0.j],\n",
              "         [1.+0.j, 1.+0.j, 1.+0.j, 1.+0.j],\n",
              "         [1.+0.j, 1.+0.j, 1.+0.j, 1.+0.j],\n",
              "         [1.+0.j, 1.+0.j, 1.+0.j, 1.+0.j]], dtype=complex128),\n",
              "  {'in0': 0, 'in1': 1, 'out0': 2, 'out1': 3})}"
            ]
          },
          "execution_count": 18,
          "metadata": {},
          "output_type": "execute_result"
        }
      ],
      "source": [
        "get_dummy_instances(connections, ports)"
      ]
    },
    {
      "cell_type": "markdown",
      "id": "d48c281ef9917085",
      "metadata": {},
      "source": [
        ":::{eval-rst}\n",
        ".. autofunction:: sax.backends.klu.analyze_circuit_klu\n",
        ":::\n"
      ]
    },
    {
      "cell_type": "code",
      "execution_count": 19,
      "id": "6a3c3e99321c1455",
      "metadata": {
        "execution": {
          "iopub.execute_input": "2023-09-01T15:54:38.847749Z",
          "iopub.status.busy": "2023-09-01T15:54:38.846874Z",
          "iopub.status.idle": "2023-09-01T15:54:38.858460Z",
          "shell.execute_reply": "2023-09-01T15:54:38.858015Z"
        },
        "papermill": {
          "duration": 0.030505,
          "end_time": "2023-09-01T15:54:38.860008",
          "exception": false,
          "start_time": "2023-09-01T15:54:38.829503",
          "status": "completed"
        },
        "tags": [
          "hide-input"
        ]
      },
      "outputs": [],
      "source": [
        "def analyze_circuit_klu(\n",
        "    connections: Dict[str, str],\n",
        "    ports: Dict[str, str],\n",
        "):\n",
        "    connections = {**connections, **{v: k for k, v in connections.items()}}\n",
        "    instances = get_dummy_instances(connections, ports)\n",
        "    inverse_ports = {v: k for k, v in ports.items()}\n",
        "    port_map = {k: i for i, k in enumerate(ports)}\n",
        "\n",
        "    idx, Si, Sj, Sx, instance_ports = 0, [], [], [], {}\n",
        "    for name, instance in instances.items():\n",
        "        si, sj, sx, ports_map = scoo(instance)\n",
        "        Si.append(si + idx)\n",
        "        Sj.append(sj + idx)\n",
        "        Sx.append(sx)\n",
        "        instance_ports.update({f\"{name},{p}\": i + idx for p, i in ports_map.items()})\n",
        "        idx += len(ports_map)\n",
        "        \n",
        "    n_col = idx\n",
        "    n_rhs = len(port_map)\n",
        "    \n",
        "    Si = jnp.concatenate(Si, -1)\n",
        "    Sj = jnp.concatenate(Sj, -1)\n",
        "\n",
        "    Cmap = {int(instance_ports[k]): int(instance_ports[v]) for k, v in connections.items()} # fmt: skip\n",
        "    Ci = jnp.array(list(Cmap.keys()), dtype=jnp.int32)\n",
        "    Cj = jnp.array(list(Cmap.values()), dtype=jnp.int32)\n",
        "\n",
        "    Cextmap = {int(instance_ports[k]): int(port_map[v]) for k, v in inverse_ports.items()}\n",
        "    Cexti = jnp.stack(list(Cextmap.keys()), 0)\n",
        "    Cextj = jnp.stack(list(Cextmap.values()), 0)\n",
        "    Cext = jnp.zeros((n_col, n_rhs), dtype=complex).at[Cexti, Cextj].set(1.0)\n",
        "    \n",
        "    mask = Cj[None,:] == Si[:, None]\n",
        "    CSi = jnp.broadcast_to(Ci[None, :], mask.shape)[mask]\n",
        "    \n",
        "    mask = (Cj[:, None] == Si[None, :]).any(0)\n",
        "    CSj = Sj[mask]\n",
        "    \n",
        "    Ii = Ij = jnp.arange(n_col)\n",
        "    I_CSi = jnp.concatenate([CSi, Ii], -1)\n",
        "    I_CSj = jnp.concatenate([CSj, Ij], -1)\n",
        "    return n_col, mask, Si, Sj, Cext, Cexti, Cextj, I_CSi, I_CSj, tuple((k, v[1]) for k, v in instances.items()), tuple(port_map)"
      ]
    },
    {
      "cell_type": "markdown",
      "id": "8fc277a4-b258-4f44-bf61-e1aba7f64170",
      "metadata": {
        "papermill": {
          "duration": 0.015106,
          "end_time": "2023-09-01T15:54:38.890779",
          "exception": false,
          "start_time": "2023-09-01T15:54:38.875673",
          "status": "completed"
        },
        "tags": []
      },
      "source": [
        "## Circuit Evaluation"
      ]
    },
    {
      "cell_type": "markdown",
      "id": "35079a36d1859d03",
      "metadata": {},
      "source": [
        ":::{eval-rst}\n",
        ".. autofunction:: sax.backends.klu.evaluate_circuit_klu\n",
        ":::\n"
      ]
    },
    {
      "cell_type": "code",
      "execution_count": 20,
      "id": "6ff79f4bde3338b4",
      "metadata": {
        "execution": {
          "iopub.execute_input": "2023-09-01T15:54:38.923142Z",
          "iopub.status.busy": "2023-09-01T15:54:38.922250Z",
          "iopub.status.idle": "2023-09-01T15:54:38.934071Z",
          "shell.execute_reply": "2023-09-01T15:54:38.933502Z"
        },
        "papermill": {
          "duration": 0.02985,
          "end_time": "2023-09-01T15:54:38.935523",
          "exception": false,
          "start_time": "2023-09-01T15:54:38.905673",
          "status": "completed"
        },
        "tags": [
          "hide-input"
        ]
      },
      "outputs": [],
      "source": [
        "def evaluate_circuit_klu(analyzed, instances):\n",
        "    n_col, mask, Si, Sj, Cext, Cexti, Cextj, I_CSi, I_CSj, dummy_pms, port_map = analyzed\n",
        "    \n",
        "    idx = 0\n",
        "    Sx = []\n",
        "    batch_shape = ()\n",
        "    for name, pm_ in dummy_pms:\n",
        "        S, pm = sdense(instances[name])\n",
        "        perm = [pm[k] for k in pm_]\n",
        "        S = S[..., perm, :][..., :, perm]\n",
        "        _, _, sx, ports_map = scoo((S, pm_))\n",
        "        Sx.append(sx)\n",
        "        if len(sx.shape[:-1]) > len(batch_shape):\n",
        "            batch_shape = sx.shape[:-1]\n",
        "        idx += len(ports_map)\n",
        "        \n",
        "    Sx = jnp.concatenate([jnp.broadcast_to(sx, (*batch_shape, sx.shape[-1])) for sx in Sx], -1) # fmt: skip\n",
        "    CSx = Sx[..., mask]\n",
        "    Ix = jnp.ones((*batch_shape, n_col))\n",
        "    I_CSx = jnp.concatenate([-CSx, Ix], -1)\n",
        "    \n",
        "    Sx = Sx.reshape(-1, Sx.shape[-1]) # n_lhs x N\n",
        "    I_CSx = I_CSx.reshape(-1, I_CSx.shape[-1]) # n_lhs x M\n",
        "    inv_I_CS_Cext = solve_klu(I_CSi, I_CSj, I_CSx, Cext)\n",
        "    S_inv_I_CS_Cext = mul_coo(Si, Sj, Sx, inv_I_CS_Cext)\n",
        "    \n",
        "    CextT_S_inv_I_CS_Cext = S_inv_I_CS_Cext[..., Cexti, :][..., :, Cextj]\n",
        "    \n",
        "    _, n, _ = CextT_S_inv_I_CS_Cext.shape\n",
        "    S = CextT_S_inv_I_CS_Cext.reshape(*batch_shape, n, n)\n",
        "\n",
        "    return S, {p: i for i, p in enumerate(port_map)}"
      ]
    },
    {
      "cell_type": "markdown",
      "id": "dce9d8ca",
      "metadata": {
        "papermill": {
          "duration": 0.014958,
          "end_time": "2023-09-01T15:54:38.965531",
          "exception": false,
          "start_time": "2023-09-01T15:54:38.950573",
          "status": "completed"
        },
        "tags": []
      },
      "source": [
        "## Example"
      ]
    },
    {
      "cell_type": "code",
      "execution_count": 21,
      "id": "e28521dd-aa9f-463c-820d-bd87789c64e5",
      "metadata": {
        "execution": {
          "iopub.execute_input": "2023-09-01T15:54:38.998169Z",
          "iopub.status.busy": "2023-09-01T15:54:38.997414Z",
          "iopub.status.idle": "2023-09-01T15:54:40.288753Z",
          "shell.execute_reply": "2023-09-01T15:54:40.287253Z"
        },
        "papermill": {
          "duration": 1.310332,
          "end_time": "2023-09-01T15:54:40.290939",
          "exception": false,
          "start_time": "2023-09-01T15:54:38.980607",
          "status": "completed"
        },
        "tags": []
      },
      "outputs": [
        {
          "name": "stdout",
          "output_type": "stream",
          "text": [
            "[[ 0.      +0.j        0.      +0.j       -0.25    +0.433015j\n",
            "  -0.433015+0.75j    ]\n",
            " [ 0.      +0.j        0.      +0.j       -0.433015+0.75j\n",
            "   0.25    -0.433015j]\n",
            " [-0.25    +0.433015j -0.433015+0.75j      0.      +0.j\n",
            "   0.      +0.j      ]\n",
            " [-0.433015+0.75j      0.25    -0.433015j  0.      +0.j\n",
            "   0.      +0.j      ]]\n",
            "{'in0': 0, 'in1': 1, 'out0': 2, 'out1': 3}\n"
          ]
        }
      ],
      "source": [
        "preprocessed = analyze_circuit_klu(connections, ports)\n",
        "S, pm = evaluate_circuit_klu(preprocessed, instances)\n",
        "print(S)\n",
        "print(pm)"
      ]
    },
    {
      "cell_type": "markdown",
      "id": "60b6d1e6",
      "metadata": {
        "papermill": {
          "duration": 0.015842,
          "end_time": "2023-09-01T15:54:40.327122",
          "exception": false,
          "start_time": "2023-09-01T15:54:40.311280",
          "status": "completed"
        },
        "tags": []
      },
      "source": [
        "the KLU backend yields `SDense` results by default:"
      ]
    },
    {
      "cell_type": "code",
      "execution_count": 22,
      "id": "ecc3115e",
      "metadata": {
        "execution": {
          "iopub.execute_input": "2023-09-01T15:54:40.359720Z",
          "iopub.status.busy": "2023-09-01T15:54:40.359159Z",
          "iopub.status.idle": "2023-09-01T15:54:40.364193Z",
          "shell.execute_reply": "2023-09-01T15:54:40.363752Z"
        },
        "papermill": {
          "duration": 0.023106,
          "end_time": "2023-09-01T15:54:40.365533",
          "exception": false,
          "start_time": "2023-09-01T15:54:40.342427",
          "status": "completed"
        },
        "tags": []
      },
      "outputs": [
        {
          "data": {
            "text/plain": [
              "(Array([[ 0.      +0.j      ,  0.      +0.j      , -0.25    +0.433015j,\n",
              "         -0.433015+0.75j    ],\n",
              "        [ 0.      +0.j      ,  0.      +0.j      , -0.433015+0.75j    ,\n",
              "          0.25    -0.433015j],\n",
              "        [-0.25    +0.433015j, -0.433015+0.75j    ,  0.      +0.j      ,\n",
              "          0.      +0.j      ],\n",
              "        [-0.433015+0.75j    ,  0.25    -0.433015j,  0.      +0.j      ,\n",
              "          0.      +0.j      ]], dtype=complex128),\n",
              " {'in0': 0, 'in1': 1, 'out0': 2, 'out1': 3})"
            ]
          },
          "execution_count": 22,
          "metadata": {},
          "output_type": "execute_result"
        }
      ],
      "source": [
        "mzi_sdense = (S, pm)\n",
        "mzi_sdense"
      ]
    },
    {
      "cell_type": "markdown",
      "id": "4b8e87f3",
      "metadata": {
        "papermill": {
          "duration": 0.016597,
          "end_time": "2023-09-01T15:54:40.399885",
          "exception": false,
          "start_time": "2023-09-01T15:54:40.383288",
          "status": "completed"
        },
        "tags": []
      },
      "source": [
        "An `SDense` is returned for perfomance reasons. By returning an `SDense` by default we prevent any internal `SDict -> SDense` conversions in deeply hierarchical circuits. It's however very easy to convert `SDense` to `SDict` as a final step. To do this, wrap the result (or the function generating the result) with `sdict`:"
      ]
    },
    {
      "cell_type": "code",
      "execution_count": 23,
      "id": "7202ab1e",
      "metadata": {
        "execution": {
          "iopub.execute_input": "2023-09-01T15:54:40.432996Z",
          "iopub.status.busy": "2023-09-01T15:54:40.432494Z",
          "iopub.status.idle": "2023-09-01T15:54:40.499512Z",
          "shell.execute_reply": "2023-09-01T15:54:40.498922Z"
        },
        "papermill": {
          "duration": 0.085995,
          "end_time": "2023-09-01T15:54:40.501249",
          "exception": false,
          "start_time": "2023-09-01T15:54:40.415254",
          "status": "completed"
        },
        "tags": []
      },
      "outputs": [
        {
          "data": {
            "text/plain": [
              "{('in0', 'in0'): Array(0.+0.j, dtype=complex128),\n",
              " ('in0', 'in1'): Array(0.+0.j, dtype=complex128),\n",
              " ('in0', 'out0'): Array(-0.25+0.433015j, dtype=complex128),\n",
              " ('in0', 'out1'): Array(-0.433015+0.75j, dtype=complex128),\n",
              " ('in1', 'in0'): Array(0.+0.j, dtype=complex128),\n",
              " ('in1', 'in1'): Array(0.+0.j, dtype=complex128),\n",
              " ('in1', 'out0'): Array(-0.433015+0.75j, dtype=complex128),\n",
              " ('in1', 'out1'): Array(0.25-0.433015j, dtype=complex128),\n",
              " ('out0', 'in0'): Array(-0.25+0.433015j, dtype=complex128),\n",
              " ('out0', 'in1'): Array(-0.433015+0.75j, dtype=complex128),\n",
              " ('out0', 'out0'): Array(0.+0.j, dtype=complex128),\n",
              " ('out0', 'out1'): Array(0.+0.j, dtype=complex128),\n",
              " ('out1', 'in0'): Array(-0.433015+0.75j, dtype=complex128),\n",
              " ('out1', 'in1'): Array(0.25-0.433015j, dtype=complex128),\n",
              " ('out1', 'out0'): Array(0.+0.j, dtype=complex128),\n",
              " ('out1', 'out1'): Array(0.+0.j, dtype=complex128)}"
            ]
          },
          "execution_count": 23,
          "metadata": {},
          "output_type": "execute_result"
        }
      ],
      "source": [
        "sax.sdict(mzi_sdense)"
      ]
    },
    {
      "cell_type": "markdown",
      "id": "9f8cd5ea",
      "metadata": {
        "papermill": {
          "duration": 0.015588,
          "end_time": "2023-09-01T15:54:40.532975",
          "exception": false,
          "start_time": "2023-09-01T15:54:40.517387",
          "status": "completed"
        },
        "tags": []
      },
      "source": [
        "## Algorithm Walkthrough"
      ]
    },
    {
      "cell_type": "markdown",
      "id": "b5bf5188",
      "metadata": {
        "papermill": {
          "duration": 0.015604,
          "end_time": "2023-09-01T15:54:40.564054",
          "exception": false,
          "start_time": "2023-09-01T15:54:40.548450",
          "status": "completed"
        },
        "tags": []
      },
      "source": [
        "Let's first enforce $C^T = C$:"
      ]
    },
    {
      "cell_type": "code",
      "execution_count": 24,
      "id": "6d7d4c39",
      "metadata": {
        "execution": {
          "iopub.execute_input": "2023-09-01T15:54:40.597544Z",
          "iopub.status.busy": "2023-09-01T15:54:40.596985Z",
          "iopub.status.idle": "2023-09-01T15:54:40.601583Z",
          "shell.execute_reply": "2023-09-01T15:54:40.601180Z"
        },
        "papermill": {
          "duration": 0.023036,
          "end_time": "2023-09-01T15:54:40.602832",
          "exception": false,
          "start_time": "2023-09-01T15:54:40.579796",
          "status": "completed"
        },
        "tags": []
      },
      "outputs": [
        {
          "data": {
            "text/plain": [
              "{'dc1,out0': 'wg,in0',\n",
              " 'wg,out0': 'dc2,in0',\n",
              " 'dc1,out1': 'dc2,in1',\n",
              " 'wg,in0': 'dc1,out0',\n",
              " 'dc2,in0': 'wg,out0',\n",
              " 'dc2,in1': 'dc1,out1'}"
            ]
          },
          "execution_count": 24,
          "metadata": {},
          "output_type": "execute_result"
        }
      ],
      "source": [
        "connections = {**connections, **{v: k for k, v in connections.items()}}\n",
        "connections"
      ]
    },
    {
      "cell_type": "markdown",
      "id": "a41250ec",
      "metadata": {
        "papermill": {
          "duration": 0.015382,
          "end_time": "2023-09-01T15:54:40.633768",
          "exception": false,
          "start_time": "2023-09-01T15:54:40.618386",
          "status": "completed"
        },
        "tags": []
      },
      "source": [
        "We'll also need the reversed ports:"
      ]
    },
    {
      "cell_type": "code",
      "execution_count": 25,
      "id": "9a70463f",
      "metadata": {
        "execution": {
          "iopub.execute_input": "2023-09-01T15:54:40.666691Z",
          "iopub.status.busy": "2023-09-01T15:54:40.665946Z",
          "iopub.status.idle": "2023-09-01T15:54:40.670330Z",
          "shell.execute_reply": "2023-09-01T15:54:40.669929Z"
        },
        "papermill": {
          "duration": 0.02293,
          "end_time": "2023-09-01T15:54:40.671954",
          "exception": false,
          "start_time": "2023-09-01T15:54:40.649024",
          "status": "completed"
        },
        "tags": []
      },
      "outputs": [
        {
          "data": {
            "text/plain": [
              "{'dc1,in0': 'in0', 'dc1,in1': 'in1', 'dc2,out0': 'out0', 'dc2,out1': 'out1'}"
            ]
          },
          "execution_count": 25,
          "metadata": {},
          "output_type": "execute_result"
        }
      ],
      "source": [
        "inverse_ports = {v: k for k, v in ports.items()}\n",
        "inverse_ports"
      ]
    },
    {
      "cell_type": "markdown",
      "id": "1e96443b",
      "metadata": {
        "papermill": {
          "duration": 0.02301,
          "end_time": "2023-09-01T15:54:40.714129",
          "exception": false,
          "start_time": "2023-09-01T15:54:40.691119",
          "status": "completed"
        },
        "tags": []
      },
      "source": [
        "An the port indices"
      ]
    },
    {
      "cell_type": "code",
      "execution_count": 26,
      "id": "8e18d182",
      "metadata": {
        "execution": {
          "iopub.execute_input": "2023-09-01T15:54:40.747656Z",
          "iopub.status.busy": "2023-09-01T15:54:40.746808Z",
          "iopub.status.idle": "2023-09-01T15:54:40.751503Z",
          "shell.execute_reply": "2023-09-01T15:54:40.750958Z"
        },
        "papermill": {
          "duration": 0.023119,
          "end_time": "2023-09-01T15:54:40.752911",
          "exception": false,
          "start_time": "2023-09-01T15:54:40.729792",
          "status": "completed"
        },
        "tags": []
      },
      "outputs": [
        {
          "data": {
            "text/plain": [
              "{'in0': 0, 'in1': 1, 'out0': 2, 'out1': 3}"
            ]
          },
          "execution_count": 26,
          "metadata": {},
          "output_type": "execute_result"
        }
      ],
      "source": [
        "port_map = {k: i for i, k in enumerate(ports)}\n",
        "port_map"
      ]
    },
    {
      "cell_type": "markdown",
      "id": "70924074",
      "metadata": {
        "papermill": {
          "duration": 0.015622,
          "end_time": "2023-09-01T15:54:40.783994",
          "exception": false,
          "start_time": "2023-09-01T15:54:40.768372",
          "status": "completed"
        },
        "tags": []
      },
      "source": [
        "Let's now create the COO-representation of our block diagonal S-matrix $S_{bd}$:"
      ]
    },
    {
      "cell_type": "code",
      "execution_count": 27,
      "id": "835deb8f",
      "metadata": {
        "execution": {
          "iopub.execute_input": "2023-09-01T15:54:40.817329Z",
          "iopub.status.busy": "2023-09-01T15:54:40.816845Z",
          "iopub.status.idle": "2023-09-01T15:54:40.887256Z",
          "shell.execute_reply": "2023-09-01T15:54:40.886770Z"
        },
        "papermill": {
          "duration": 0.089377,
          "end_time": "2023-09-01T15:54:40.888955",
          "exception": false,
          "start_time": "2023-09-01T15:54:40.799578",
          "status": "completed"
        },
        "tags": []
      },
      "outputs": [
        {
          "name": "stdout",
          "output_type": "stream",
          "text": [
            "[0 0 0 0 1 1 1 1 2 2 2 2 3 3 3 3 4 5 6 6 6 6 7 7 7 7 8 8 8 8 9 9 9 9]\n",
            "[0 1 2 3 0 1 2 3 0 1 2 3 0 1 2 3 5 4 6 7 8 9 6 7 8 9 6 7 8 9 6 7 8 9]\n",
            "[0.        +0.j         0.        +0.j         0.70710678+0.j\n",
            " 0.        +0.70710678j 0.        +0.j         0.        +0.j\n",
            " 0.        +0.70710678j 0.70710678+0.j         0.70710678+0.j\n",
            " 0.        +0.70710678j 0.        +0.j         0.        +0.j\n",
            " 0.        +0.70710678j 0.70710678+0.j         0.        +0.j\n",
            " 0.        +0.j         0.5       +0.86603j    0.5       +0.86603j\n",
            " 0.        +0.j         0.        +0.j         0.70710678+0.j\n",
            " 0.        +0.70710678j 0.        +0.j         0.        +0.j\n",
            " 0.        +0.70710678j 0.70710678+0.j         0.70710678+0.j\n",
            " 0.        +0.70710678j 0.        +0.j         0.        +0.j\n",
            " 0.        +0.70710678j 0.70710678+0.j         0.        +0.j\n",
            " 0.        +0.j        ]\n"
          ]
        }
      ],
      "source": [
        "idx, Si, Sj, Sx, instance_ports = 0, [], [], [], {}\n",
        "batch_shape = ()\n",
        "for name, instance in instances.items():\n",
        "    si, sj, sx, ports_map = scoo(instance)\n",
        "    Si.append(si + idx)\n",
        "    Sj.append(sj + idx)\n",
        "    Sx.append(sx)\n",
        "    if len(sx.shape[:-1]) > len(batch_shape):\n",
        "        batch_shape = sx.shape[:-1]\n",
        "    instance_ports.update({f\"{name},{p}\": i + idx for p, i in ports_map.items()})\n",
        "    idx += len(ports_map)\n",
        "Si = jnp.concatenate(Si, -1)\n",
        "Sj = jnp.concatenate(Sj, -1)\n",
        "Sx = jnp.concatenate([jnp.broadcast_to(sx, (*batch_shape, sx.shape[-1])) for sx in Sx], -1)\n",
        "\n",
        "print(Si)\n",
        "print(Sj)\n",
        "print(Sx)"
      ]
    },
    {
      "cell_type": "markdown",
      "id": "a8edefa1",
      "metadata": {
        "papermill": {
          "duration": 0.016118,
          "end_time": "2023-09-01T15:54:40.921306",
          "exception": false,
          "start_time": "2023-09-01T15:54:40.905188",
          "status": "completed"
        },
        "tags": []
      },
      "source": [
        "note that we also kept track of the `batch_shape`, i.e. the number of independent simulations (usually number of wavelengths). In the example being used here we don't have a batch dimension (all elements of the `SDict` are `0D`):"
      ]
    },
    {
      "cell_type": "code",
      "execution_count": 28,
      "id": "7513759a",
      "metadata": {
        "execution": {
          "iopub.execute_input": "2023-09-01T15:54:40.955122Z",
          "iopub.status.busy": "2023-09-01T15:54:40.954128Z",
          "iopub.status.idle": "2023-09-01T15:54:40.959330Z",
          "shell.execute_reply": "2023-09-01T15:54:40.958905Z"
        },
        "papermill": {
          "duration": 0.026015,
          "end_time": "2023-09-01T15:54:40.963169",
          "exception": false,
          "start_time": "2023-09-01T15:54:40.937154",
          "status": "completed"
        },
        "tags": []
      },
      "outputs": [
        {
          "data": {
            "text/plain": [
              "()"
            ]
          },
          "execution_count": 28,
          "metadata": {},
          "output_type": "execute_result"
        }
      ],
      "source": [
        "batch_shape"
      ]
    },
    {
      "cell_type": "markdown",
      "id": "c63b14d7",
      "metadata": {
        "papermill": {
          "duration": 0.01667,
          "end_time": "2023-09-01T15:54:40.996845",
          "exception": false,
          "start_time": "2023-09-01T15:54:40.980175",
          "status": "completed"
        },
        "tags": []
      },
      "source": [
        "We'll also keep track of the number of columns"
      ]
    },
    {
      "cell_type": "code",
      "execution_count": 29,
      "id": "89000432",
      "metadata": {
        "execution": {
          "iopub.execute_input": "2023-09-01T15:54:41.031139Z",
          "iopub.status.busy": "2023-09-01T15:54:41.030570Z",
          "iopub.status.idle": "2023-09-01T15:54:41.034534Z",
          "shell.execute_reply": "2023-09-01T15:54:41.034137Z"
        },
        "papermill": {
          "duration": 0.022743,
          "end_time": "2023-09-01T15:54:41.035843",
          "exception": false,
          "start_time": "2023-09-01T15:54:41.013100",
          "status": "completed"
        },
        "tags": []
      },
      "outputs": [
        {
          "data": {
            "text/plain": [
              "10"
            ]
          },
          "execution_count": 29,
          "metadata": {},
          "output_type": "execute_result"
        }
      ],
      "source": [
        "n_col = idx\n",
        "n_col"
      ]
    },
    {
      "cell_type": "markdown",
      "id": "7b0f95da",
      "metadata": {
        "papermill": {
          "duration": 0.016332,
          "end_time": "2023-09-01T15:54:41.068713",
          "exception": false,
          "start_time": "2023-09-01T15:54:41.052381",
          "status": "completed"
        },
        "tags": []
      },
      "source": [
        "And we'll need to solve the circuit for each output port, i.e. we need to solve `n_rhs` number of equations:"
      ]
    },
    {
      "cell_type": "code",
      "execution_count": 30,
      "id": "27902354",
      "metadata": {
        "execution": {
          "iopub.execute_input": "2023-09-01T15:54:41.102954Z",
          "iopub.status.busy": "2023-09-01T15:54:41.102384Z",
          "iopub.status.idle": "2023-09-01T15:54:41.106592Z",
          "shell.execute_reply": "2023-09-01T15:54:41.106173Z"
        },
        "papermill": {
          "duration": 0.02305,
          "end_time": "2023-09-01T15:54:41.107971",
          "exception": false,
          "start_time": "2023-09-01T15:54:41.084921",
          "status": "completed"
        },
        "tags": []
      },
      "outputs": [
        {
          "data": {
            "text/plain": [
              "4"
            ]
          },
          "execution_count": 30,
          "metadata": {},
          "output_type": "execute_result"
        }
      ],
      "source": [
        "n_rhs = len(port_map)\n",
        "n_rhs"
      ]
    },
    {
      "cell_type": "markdown",
      "id": "05056b46",
      "metadata": {
        "papermill": {
          "duration": 0.016193,
          "end_time": "2023-09-01T15:54:41.140659",
          "exception": false,
          "start_time": "2023-09-01T15:54:41.124466",
          "status": "completed"
        },
        "tags": []
      },
      "source": [
        "We can represent the internal connection matrix $C_{int}$ as a mapping between port indices:"
      ]
    },
    {
      "cell_type": "code",
      "execution_count": 31,
      "id": "f3ff1fa7",
      "metadata": {
        "execution": {
          "iopub.execute_input": "2023-09-01T15:54:41.174840Z",
          "iopub.status.busy": "2023-09-01T15:54:41.174265Z",
          "iopub.status.idle": "2023-09-01T15:54:41.179024Z",
          "shell.execute_reply": "2023-09-01T15:54:41.178568Z"
        },
        "papermill": {
          "duration": 0.023515,
          "end_time": "2023-09-01T15:54:41.180379",
          "exception": false,
          "start_time": "2023-09-01T15:54:41.156864",
          "status": "completed"
        },
        "tags": []
      },
      "outputs": [
        {
          "data": {
            "text/plain": [
              "{0: 4, 5: 8, 1: 9, 4: 0, 8: 5, 9: 1}"
            ]
          },
          "execution_count": 31,
          "metadata": {},
          "output_type": "execute_result"
        }
      ],
      "source": [
        "Cmap = {int(instance_ports[k]): int(instance_ports[v]) for k, v in connections.items()}\n",
        "Cmap"
      ]
    },
    {
      "cell_type": "markdown",
      "id": "999164af",
      "metadata": {
        "papermill": {
          "duration": 0.016449,
          "end_time": "2023-09-01T15:54:41.213321",
          "exception": false,
          "start_time": "2023-09-01T15:54:41.196872",
          "status": "completed"
        },
        "tags": []
      },
      "source": [
        "Therefore, the COO-representation of this connection matrix can be obtained as follows (note that an array of values Cx is not necessary, all non-zero elements in a connection matrix are 1)"
      ]
    },
    {
      "cell_type": "code",
      "execution_count": 32,
      "id": "9e4f1728",
      "metadata": {
        "execution": {
          "iopub.execute_input": "2023-09-01T15:54:41.247984Z",
          "iopub.status.busy": "2023-09-01T15:54:41.247423Z",
          "iopub.status.idle": "2023-09-01T15:54:41.252926Z",
          "shell.execute_reply": "2023-09-01T15:54:41.252421Z"
        },
        "papermill": {
          "duration": 0.026978,
          "end_time": "2023-09-01T15:54:41.256773",
          "exception": false,
          "start_time": "2023-09-01T15:54:41.229795",
          "status": "completed"
        },
        "tags": []
      },
      "outputs": [
        {
          "name": "stdout",
          "output_type": "stream",
          "text": [
            "[0 5 1 4 8 9]\n",
            "[4 8 9 0 5 1]\n"
          ]
        }
      ],
      "source": [
        "Ci = jnp.array(list(Cmap.keys()), dtype=jnp.int32)\n",
        "Cj = jnp.array(list(Cmap.values()), dtype=jnp.int32)\n",
        "print(Ci)\n",
        "print(Cj)"
      ]
    },
    {
      "cell_type": "markdown",
      "id": "47d5ed60",
      "metadata": {
        "papermill": {
          "duration": 0.016492,
          "end_time": "2023-09-01T15:54:41.289847",
          "exception": false,
          "start_time": "2023-09-01T15:54:41.273355",
          "status": "completed"
        },
        "tags": []
      },
      "source": [
        "We can represent the external connection matrix $C_{ext}$ as a map between internal port indices and external port indices:"
      ]
    },
    {
      "cell_type": "code",
      "execution_count": 33,
      "id": "f56ae166",
      "metadata": {
        "execution": {
          "iopub.execute_input": "2023-09-01T15:54:41.324793Z",
          "iopub.status.busy": "2023-09-01T15:54:41.324144Z",
          "iopub.status.idle": "2023-09-01T15:54:41.329349Z",
          "shell.execute_reply": "2023-09-01T15:54:41.328671Z"
        },
        "papermill": {
          "duration": 0.024522,
          "end_time": "2023-09-01T15:54:41.330809",
          "exception": false,
          "start_time": "2023-09-01T15:54:41.306287",
          "status": "completed"
        },
        "tags": []
      },
      "outputs": [
        {
          "data": {
            "text/plain": [
              "{2: 0, 3: 1, 6: 2, 7: 3}"
            ]
          },
          "execution_count": 33,
          "metadata": {},
          "output_type": "execute_result"
        }
      ],
      "source": [
        "Cextmap = {int(instance_ports[k]): int(port_map[v]) for k, v in inverse_ports.items()}\n",
        "Cextmap"
      ]
    },
    {
      "cell_type": "markdown",
      "id": "2485c01d",
      "metadata": {
        "papermill": {
          "duration": 0.016648,
          "end_time": "2023-09-01T15:54:41.364308",
          "exception": false,
          "start_time": "2023-09-01T15:54:41.347660",
          "status": "completed"
        },
        "tags": []
      },
      "source": [
        "Just as for the internal matrix we can represent this external connection matrix in COO-format:"
      ]
    },
    {
      "cell_type": "code",
      "execution_count": 34,
      "id": "cfb419ac",
      "metadata": {
        "execution": {
          "iopub.execute_input": "2023-09-01T15:54:41.399620Z",
          "iopub.status.busy": "2023-09-01T15:54:41.399062Z",
          "iopub.status.idle": "2023-09-01T15:54:41.406117Z",
          "shell.execute_reply": "2023-09-01T15:54:41.405567Z"
        },
        "papermill": {
          "duration": 0.02663,
          "end_time": "2023-09-01T15:54:41.407554",
          "exception": false,
          "start_time": "2023-09-01T15:54:41.380924",
          "status": "completed"
        },
        "tags": []
      },
      "outputs": [
        {
          "name": "stdout",
          "output_type": "stream",
          "text": [
            "[2 3 6 7]\n",
            "[0 1 2 3]\n"
          ]
        }
      ],
      "source": [
        "Cexti = jnp.stack(list(Cextmap.keys()), 0)\n",
        "Cextj = jnp.stack(list(Cextmap.values()), 0)\n",
        "print(Cexti)\n",
        "print(Cextj)"
      ]
    },
    {
      "cell_type": "markdown",
      "id": "e46d609c",
      "metadata": {
        "papermill": {
          "duration": 0.016793,
          "end_time": "2023-09-01T15:54:41.441183",
          "exception": false,
          "start_time": "2023-09-01T15:54:41.424390",
          "status": "completed"
        },
        "tags": []
      },
      "source": [
        "However, we actually need it as a dense representation:\n",
        "\n",
        "> help needed: can we find a way later on to keep this sparse?"
      ]
    },
    {
      "cell_type": "code",
      "execution_count": 35,
      "id": "25c4ec6e",
      "metadata": {
        "execution": {
          "iopub.execute_input": "2023-09-01T15:54:41.476578Z",
          "iopub.status.busy": "2023-09-01T15:54:41.476057Z",
          "iopub.status.idle": "2023-09-01T15:54:41.486786Z",
          "shell.execute_reply": "2023-09-01T15:54:41.486327Z"
        },
        "papermill": {
          "duration": 0.030204,
          "end_time": "2023-09-01T15:54:41.488263",
          "exception": false,
          "start_time": "2023-09-01T15:54:41.458059",
          "status": "completed"
        },
        "tags": []
      },
      "outputs": [
        {
          "data": {
            "text/plain": [
              "Array([[0.+0.j, 0.+0.j, 0.+0.j, 0.+0.j],\n",
              "       [0.+0.j, 0.+0.j, 0.+0.j, 0.+0.j],\n",
              "       [1.+0.j, 0.+0.j, 0.+0.j, 0.+0.j],\n",
              "       [0.+0.j, 1.+0.j, 0.+0.j, 0.+0.j],\n",
              "       [0.+0.j, 0.+0.j, 0.+0.j, 0.+0.j],\n",
              "       [0.+0.j, 0.+0.j, 0.+0.j, 0.+0.j],\n",
              "       [0.+0.j, 0.+0.j, 1.+0.j, 0.+0.j],\n",
              "       [0.+0.j, 0.+0.j, 0.+0.j, 1.+0.j],\n",
              "       [0.+0.j, 0.+0.j, 0.+0.j, 0.+0.j],\n",
              "       [0.+0.j, 0.+0.j, 0.+0.j, 0.+0.j]], dtype=complex128)"
            ]
          },
          "execution_count": 35,
          "metadata": {},
          "output_type": "execute_result"
        }
      ],
      "source": [
        "Cext = jnp.zeros((n_col, n_rhs), dtype=complex).at[Cexti, Cextj].set(1.0)\n",
        "Cext"
      ]
    },
    {
      "cell_type": "markdown",
      "id": "b31cc279",
      "metadata": {
        "papermill": {
          "duration": 0.016606,
          "end_time": "2023-09-01T15:54:41.521710",
          "exception": false,
          "start_time": "2023-09-01T15:54:41.505104",
          "status": "completed"
        },
        "tags": []
      },
      "source": [
        "We'll now calculate the row index `CSi` of $C_{int}S_{bd}$ in COO-format:"
      ]
    },
    {
      "cell_type": "code",
      "execution_count": 36,
      "id": "5e17dc9dce6c0019",
      "metadata": {
        "execution": {
          "iopub.execute_input": "2023-09-01T15:54:41.557211Z",
          "iopub.status.busy": "2023-09-01T15:54:41.556661Z",
          "iopub.status.idle": "2023-09-01T15:54:41.739805Z",
          "shell.execute_reply": "2023-09-01T15:54:41.739230Z"
        },
        "papermill": {
          "duration": 0.203049,
          "end_time": "2023-09-01T15:54:41.741461",
          "exception": false,
          "start_time": "2023-09-01T15:54:41.538412",
          "status": "completed"
        },
        "tags": []
      },
      "outputs": [
        {
          "data": {
            "text/plain": [
              "Array([4, 4, 4, 4, 9, 9, 9, 9, 0, 8, 5, 5, 5, 5, 1, 1, 1, 1], dtype=int32)"
            ]
          },
          "execution_count": 36,
          "metadata": {},
          "output_type": "execute_result"
        }
      ],
      "source": [
        "# TODO: make this block jittable...\n",
        "Ix = jnp.ones((*batch_shape, n_col))\n",
        "Ii = Ij = jnp.arange(n_col)\n",
        "mask = Cj[None,:] == Si[:, None]\n",
        "CSi = jnp.broadcast_to(Ci[None, :], mask.shape)[mask]\n",
        "CSi"
      ]
    },
    {
      "cell_type": "markdown",
      "id": "a2657582",
      "metadata": {
        "papermill": {
          "duration": 0.017509,
          "end_time": "2023-09-01T15:54:41.778678",
          "exception": false,
          "start_time": "2023-09-01T15:54:41.761169",
          "status": "completed"
        },
        "tags": []
      },
      "source": [
        "> `CSi`: possible jittable alternative? how do we remove the zeros?"
      ]
    },
    {
      "cell_type": "code",
      "execution_count": 37,
      "id": "d4ea2cb5",
      "metadata": {
        "execution": {
          "iopub.execute_input": "2023-09-01T15:54:41.815743Z",
          "iopub.status.busy": "2023-09-01T15:54:41.815145Z",
          "iopub.status.idle": "2023-09-01T15:54:41.865079Z",
          "shell.execute_reply": "2023-09-01T15:54:41.864485Z"
        },
        "papermill": {
          "duration": 0.071254,
          "end_time": "2023-09-01T15:54:41.867377",
          "exception": false,
          "start_time": "2023-09-01T15:54:41.796123",
          "status": "completed"
        },
        "tags": []
      },
      "outputs": [
        {
          "data": {
            "text/plain": [
              "Array([4, 4, 4, 4, 9, 9, 9, 9, 0, 0, 0, 0, 0, 0, 0, 0, 0, 8, 0, 0, 0, 0,\n",
              "       0, 0, 0, 0, 5, 5, 5, 5, 1, 1, 1, 1], dtype=int64)"
            ]
          },
          "execution_count": 37,
          "metadata": {},
          "output_type": "execute_result"
        }
      ],
      "source": [
        "CSi_ = jnp.where(Cj[None, :] == Si[:, None], Ci[None, :], 0).sum(1) # not used\n",
        "CSi_ # not used"
      ]
    },
    {
      "cell_type": "markdown",
      "id": "44fc620e",
      "metadata": {
        "papermill": {
          "duration": 0.017178,
          "end_time": "2023-09-01T15:54:41.902451",
          "exception": false,
          "start_time": "2023-09-01T15:54:41.885273",
          "status": "completed"
        },
        "tags": []
      },
      "source": [
        "The column index `CSj` of $C_{int}S_{bd}$ can more easily be obtained:"
      ]
    },
    {
      "cell_type": "code",
      "execution_count": 38,
      "id": "f71fdd7c",
      "metadata": {
        "execution": {
          "iopub.execute_input": "2023-09-01T15:54:41.940176Z",
          "iopub.status.busy": "2023-09-01T15:54:41.939389Z",
          "iopub.status.idle": "2023-09-01T15:54:42.024134Z",
          "shell.execute_reply": "2023-09-01T15:54:42.023366Z"
        },
        "papermill": {
          "duration": 0.10657,
          "end_time": "2023-09-01T15:54:42.026885",
          "exception": false,
          "start_time": "2023-09-01T15:54:41.920315",
          "status": "completed"
        },
        "tags": []
      },
      "outputs": [
        {
          "data": {
            "text/plain": [
              "Array([0, 1, 2, 3, 0, 1, 2, 3, 5, 4, 6, 7, 8, 9, 6, 7, 8, 9], dtype=int64)"
            ]
          },
          "execution_count": 38,
          "metadata": {},
          "output_type": "execute_result"
        }
      ],
      "source": [
        "mask = (Cj[:, None] == Si[None, :]).any(0)\n",
        "CSj = Sj[mask]\n",
        "CSj"
      ]
    },
    {
      "cell_type": "markdown",
      "id": "99bf7684",
      "metadata": {
        "papermill": {
          "duration": 0.019634,
          "end_time": "2023-09-01T15:54:42.065552",
          "exception": false,
          "start_time": "2023-09-01T15:54:42.045918",
          "status": "completed"
        },
        "tags": []
      },
      "source": [
        "> `CSj`: possible jittable alternative? how do we remove the zeros?"
      ]
    },
    {
      "cell_type": "code",
      "execution_count": 39,
      "id": "ffa7bc82",
      "metadata": {
        "execution": {
          "iopub.execute_input": "2023-09-01T15:54:42.102577Z",
          "iopub.status.busy": "2023-09-01T15:54:42.101731Z",
          "iopub.status.idle": "2023-09-01T15:54:42.129767Z",
          "shell.execute_reply": "2023-09-01T15:54:42.129173Z"
        },
        "papermill": {
          "duration": 0.048508,
          "end_time": "2023-09-01T15:54:42.131361",
          "exception": false,
          "start_time": "2023-09-01T15:54:42.082853",
          "status": "completed"
        },
        "tags": []
      },
      "outputs": [
        {
          "data": {
            "text/plain": [
              "Array([0, 1, 2, 3, 0, 1, 2, 3, 0, 0, 0, 0, 0, 0, 0, 0, 5, 4, 0, 0, 0, 0,\n",
              "       0, 0, 0, 0, 6, 7, 8, 9, 6, 7, 8, 9], dtype=int64)"
            ]
          },
          "execution_count": 39,
          "metadata": {},
          "output_type": "execute_result"
        }
      ],
      "source": [
        "CSj_ = jnp.where(mask, Sj, 0) # not used\n",
        "CSj_ # not used"
      ]
    },
    {
      "cell_type": "markdown",
      "id": "e0fc6d02",
      "metadata": {
        "papermill": {
          "duration": 0.017731,
          "end_time": "2023-09-01T15:54:42.166857",
          "exception": false,
          "start_time": "2023-09-01T15:54:42.149126",
          "status": "completed"
        },
        "tags": []
      },
      "source": [
        "Finally, the values `CSx` of $C_{int}S_{bd}$ can be obtained as follows:"
      ]
    },
    {
      "cell_type": "code",
      "execution_count": 40,
      "id": "59d2e1b2",
      "metadata": {
        "execution": {
          "iopub.execute_input": "2023-09-01T15:54:42.203556Z",
          "iopub.status.busy": "2023-09-01T15:54:42.203009Z",
          "iopub.status.idle": "2023-09-01T15:54:42.237645Z",
          "shell.execute_reply": "2023-09-01T15:54:42.237150Z"
        },
        "papermill": {
          "duration": 0.054794,
          "end_time": "2023-09-01T15:54:42.239043",
          "exception": false,
          "start_time": "2023-09-01T15:54:42.184249",
          "status": "completed"
        },
        "tags": []
      },
      "outputs": [
        {
          "data": {
            "text/plain": [
              "Array([0.        +0.j        , 0.        +0.j        ,\n",
              "       0.70710678+0.j        , 0.        +0.70710678j,\n",
              "       0.        +0.j        , 0.        +0.j        ,\n",
              "       0.        +0.70710678j, 0.70710678+0.j        ,\n",
              "       0.5       +0.86603j   , 0.5       +0.86603j   ,\n",
              "       0.70710678+0.j        , 0.        +0.70710678j,\n",
              "       0.        +0.j        , 0.        +0.j        ,\n",
              "       0.        +0.70710678j, 0.70710678+0.j        ,\n",
              "       0.        +0.j        , 0.        +0.j        ], dtype=complex128)"
            ]
          },
          "execution_count": 40,
          "metadata": {},
          "output_type": "execute_result"
        }
      ],
      "source": [
        "CSx = Sx[..., mask]\n",
        "CSx"
      ]
    },
    {
      "cell_type": "markdown",
      "id": "c02035bd",
      "metadata": {
        "papermill": {
          "duration": 0.017721,
          "end_time": "2023-09-01T15:54:42.274858",
          "exception": false,
          "start_time": "2023-09-01T15:54:42.257137",
          "status": "completed"
        },
        "tags": []
      },
      "source": [
        "> `CSx`: possible jittable alternative? how do we remove the zeros?"
      ]
    },
    {
      "cell_type": "code",
      "execution_count": 41,
      "id": "107e9e80",
      "metadata": {
        "execution": {
          "iopub.execute_input": "2023-09-01T15:54:42.312051Z",
          "iopub.status.busy": "2023-09-01T15:54:42.311294Z",
          "iopub.status.idle": "2023-09-01T15:54:42.338149Z",
          "shell.execute_reply": "2023-09-01T15:54:42.337553Z"
        },
        "papermill": {
          "duration": 0.047658,
          "end_time": "2023-09-01T15:54:42.339961",
          "exception": false,
          "start_time": "2023-09-01T15:54:42.292303",
          "status": "completed"
        },
        "tags": []
      },
      "outputs": [
        {
          "data": {
            "text/plain": [
              "Array([0.        +0.j        , 0.        +0.j        ,\n",
              "       0.70710678+0.j        , 0.        +0.70710678j,\n",
              "       0.        +0.j        , 0.        +0.j        ,\n",
              "       0.        +0.70710678j, 0.70710678+0.j        ,\n",
              "       0.        +0.j        , 0.        +0.j        ,\n",
              "       0.        +0.j        , 0.        +0.j        ,\n",
              "       0.        +0.j        , 0.        +0.j        ,\n",
              "       0.        +0.j        , 0.        +0.j        ,\n",
              "       0.5       +0.86603j   , 0.5       +0.86603j   ,\n",
              "       0.        +0.j        , 0.        +0.j        ,\n",
              "       0.        +0.j        , 0.        +0.j        ,\n",
              "       0.        +0.j        , 0.        +0.j        ,\n",
              "       0.        +0.j        , 0.        +0.j        ,\n",
              "       0.70710678+0.j        , 0.        +0.70710678j,\n",
              "       0.        +0.j        , 0.        +0.j        ,\n",
              "       0.        +0.70710678j, 0.70710678+0.j        ,\n",
              "       0.        +0.j        , 0.        +0.j        ], dtype=complex128)"
            ]
          },
          "execution_count": 41,
          "metadata": {},
          "output_type": "execute_result"
        }
      ],
      "source": [
        "CSx_ = jnp.where(mask, Sx, 0.0) # not used\n",
        "CSx_ # not used"
      ]
    },
    {
      "cell_type": "markdown",
      "id": "9411edf5",
      "metadata": {
        "papermill": {
          "duration": 0.017778,
          "end_time": "2023-09-01T15:54:42.377090",
          "exception": false,
          "start_time": "2023-09-01T15:54:42.359312",
          "status": "completed"
        },
        "tags": []
      },
      "source": [
        "Now we calculate $\\mathbb{1} - C_{int}S_{bd}$ in an *uncoalesced* way (we might have duplicate indices on the diagonal):\n",
        "\n",
        "> **uncoalesced**: having duplicate index combinations (i, j) in the representation possibly with different corresponding values. This is usually not a problem as in linear operations these values will end up to be summed, usually the behavior you want:"
      ]
    },
    {
      "cell_type": "code",
      "execution_count": 42,
      "id": "53c3f4ab",
      "metadata": {
        "execution": {
          "iopub.execute_input": "2023-09-01T15:54:42.415147Z",
          "iopub.status.busy": "2023-09-01T15:54:42.414187Z",
          "iopub.status.idle": "2023-09-01T15:54:42.485525Z",
          "shell.execute_reply": "2023-09-01T15:54:42.484924Z"
        },
        "papermill": {
          "duration": 0.092459,
          "end_time": "2023-09-01T15:54:42.487260",
          "exception": false,
          "start_time": "2023-09-01T15:54:42.394801",
          "status": "completed"
        },
        "tags": []
      },
      "outputs": [
        {
          "name": "stdout",
          "output_type": "stream",
          "text": [
            "[4 4 4 4 9 9 9 9 0 8 5 5 5 5 1 1 1 1 0 1 2 3 4 5 6 7 8 9]\n",
            "[0 1 2 3 0 1 2 3 5 4 6 7 8 9 6 7 8 9 0 1 2 3 4 5 6 7 8 9]\n",
            "[-0.        -0.j         -0.        -0.j         -0.70710678-0.j\n",
            " -0.        -0.70710678j -0.        -0.j         -0.        -0.j\n",
            " -0.        -0.70710678j -0.70710678-0.j         -0.5       -0.86603j\n",
            " -0.5       -0.86603j    -0.70710678-0.j         -0.        -0.70710678j\n",
            " -0.        -0.j         -0.        -0.j         -0.        -0.70710678j\n",
            " -0.70710678-0.j         -0.        -0.j         -0.        -0.j\n",
            "  1.        +0.j          1.        +0.j          1.        +0.j\n",
            "  1.        +0.j          1.        +0.j          1.        +0.j\n",
            "  1.        +0.j          1.        +0.j          1.        +0.j\n",
            "  1.        +0.j        ]\n"
          ]
        }
      ],
      "source": [
        "I_CSi = jnp.concatenate([CSi, Ii], -1)\n",
        "I_CSj = jnp.concatenate([CSj, Ij], -1)\n",
        "I_CSx = jnp.concatenate([-CSx, Ix], -1)\n",
        "print(I_CSi)\n",
        "print(I_CSj)\n",
        "print(I_CSx)"
      ]
    },
    {
      "cell_type": "code",
      "execution_count": 43,
      "id": "188e4606",
      "metadata": {
        "execution": {
          "iopub.execute_input": "2023-09-01T15:54:42.527258Z",
          "iopub.status.busy": "2023-09-01T15:54:42.526686Z",
          "iopub.status.idle": "2023-09-01T15:54:42.530107Z",
          "shell.execute_reply": "2023-09-01T15:54:42.529680Z"
        },
        "papermill": {
          "duration": 0.025779,
          "end_time": "2023-09-01T15:54:42.531844",
          "exception": false,
          "start_time": "2023-09-01T15:54:42.506065",
          "status": "completed"
        },
        "tags": []
      },
      "outputs": [
        {
          "name": "stdout",
          "output_type": "stream",
          "text": [
            "10 4\n"
          ]
        }
      ],
      "source": [
        "n_col, n_rhs = Cext.shape\n",
        "print(n_col, n_rhs)"
      ]
    },
    {
      "cell_type": "markdown",
      "id": "e018c515",
      "metadata": {
        "papermill": {
          "duration": 0.018528,
          "end_time": "2023-09-01T15:54:42.569458",
          "exception": false,
          "start_time": "2023-09-01T15:54:42.550930",
          "status": "completed"
        },
        "tags": []
      },
      "source": [
        "The batch shape dimension can generally speaking be anything (in the example here 0D). We need to do the necessary reshapings to make the batch shape 1D:"
      ]
    },
    {
      "cell_type": "code",
      "execution_count": 44,
      "id": "dad259e7",
      "metadata": {
        "execution": {
          "iopub.execute_input": "2023-09-01T15:54:42.608206Z",
          "iopub.status.busy": "2023-09-01T15:54:42.607284Z",
          "iopub.status.idle": "2023-09-01T15:54:42.627890Z",
          "shell.execute_reply": "2023-09-01T15:54:42.627254Z"
        },
        "papermill": {
          "duration": 0.041834,
          "end_time": "2023-09-01T15:54:42.629389",
          "exception": false,
          "start_time": "2023-09-01T15:54:42.587555",
          "status": "completed"
        },
        "tags": []
      },
      "outputs": [
        {
          "name": "stdout",
          "output_type": "stream",
          "text": [
            "1\n"
          ]
        }
      ],
      "source": [
        "n_lhs = jnp.prod(jnp.array(batch_shape, dtype=jnp.int32))\n",
        "print(n_lhs)"
      ]
    },
    {
      "cell_type": "code",
      "execution_count": 45,
      "id": "9cf69da7",
      "metadata": {
        "execution": {
          "iopub.execute_input": "2023-09-01T15:54:42.668495Z",
          "iopub.status.busy": "2023-09-01T15:54:42.667842Z",
          "iopub.status.idle": "2023-09-01T15:54:42.686799Z",
          "shell.execute_reply": "2023-09-01T15:54:42.686315Z"
        },
        "papermill": {
          "duration": 0.040236,
          "end_time": "2023-09-01T15:54:42.688230",
          "exception": false,
          "start_time": "2023-09-01T15:54:42.647994",
          "status": "completed"
        },
        "tags": []
      },
      "outputs": [
        {
          "data": {
            "text/plain": [
              "(1, 34)"
            ]
          },
          "execution_count": 45,
          "metadata": {},
          "output_type": "execute_result"
        }
      ],
      "source": [
        "Sx = Sx.reshape(n_lhs, -1)\n",
        "Sx.shape"
      ]
    },
    {
      "cell_type": "code",
      "execution_count": 46,
      "id": "788294fa",
      "metadata": {
        "execution": {
          "iopub.execute_input": "2023-09-01T15:54:42.727723Z",
          "iopub.status.busy": "2023-09-01T15:54:42.727091Z",
          "iopub.status.idle": "2023-09-01T15:54:42.748328Z",
          "shell.execute_reply": "2023-09-01T15:54:42.747841Z"
        },
        "papermill": {
          "duration": 0.042876,
          "end_time": "2023-09-01T15:54:42.749884",
          "exception": false,
          "start_time": "2023-09-01T15:54:42.707008",
          "status": "completed"
        },
        "tags": []
      },
      "outputs": [
        {
          "data": {
            "text/plain": [
              "(1, 28)"
            ]
          },
          "execution_count": 46,
          "metadata": {},
          "output_type": "execute_result"
        }
      ],
      "source": [
        "I_CSx = I_CSx.reshape(n_lhs, -1)\n",
        "I_CSx.shape"
      ]
    },
    {
      "cell_type": "markdown",
      "id": "ec741031",
      "metadata": {
        "papermill": {
          "duration": 0.018627,
          "end_time": "2023-09-01T15:54:42.787477",
          "exception": false,
          "start_time": "2023-09-01T15:54:42.768850",
          "status": "completed"
        },
        "tags": []
      },
      "source": [
        "We're finally ready to do the most important part of the calculation, which we conveniently leave to `klujax` and `SuiteSparse`:"
      ]
    },
    {
      "cell_type": "code",
      "execution_count": 47,
      "id": "9c1d8644",
      "metadata": {
        "execution": {
          "iopub.execute_input": "2023-09-01T15:54:42.827154Z",
          "iopub.status.busy": "2023-09-01T15:54:42.826223Z",
          "iopub.status.idle": "2023-09-01T15:54:42.875079Z",
          "shell.execute_reply": "2023-09-01T15:54:42.874238Z"
        },
        "papermill": {
          "duration": 0.071166,
          "end_time": "2023-09-01T15:54:42.877022",
          "exception": false,
          "start_time": "2023-09-01T15:54:42.805856",
          "status": "completed"
        },
        "tags": []
      },
      "outputs": [],
      "source": [
        "inv_I_CS_Cext = solve_klu(I_CSi, I_CSj, I_CSx, Cext)"
      ]
    },
    {
      "cell_type": "markdown",
      "id": "e51487df",
      "metadata": {
        "papermill": {
          "duration": 0.018844,
          "end_time": "2023-09-01T15:54:42.915764",
          "exception": false,
          "start_time": "2023-09-01T15:54:42.896920",
          "status": "completed"
        },
        "tags": []
      },
      "source": [
        "one more sparse multiplication:"
      ]
    },
    {
      "cell_type": "code",
      "execution_count": 48,
      "id": "cccda072",
      "metadata": {
        "execution": {
          "iopub.execute_input": "2023-09-01T15:54:42.955678Z",
          "iopub.status.busy": "2023-09-01T15:54:42.954857Z",
          "iopub.status.idle": "2023-09-01T15:54:43.001970Z",
          "shell.execute_reply": "2023-09-01T15:54:43.001351Z"
        },
        "papermill": {
          "duration": 0.069388,
          "end_time": "2023-09-01T15:54:43.003852",
          "exception": false,
          "start_time": "2023-09-01T15:54:42.934464",
          "status": "completed"
        },
        "tags": []
      },
      "outputs": [],
      "source": [
        "S_inv_I_CS_Cext = mul_coo(Si, Sj, Sx, inv_I_CS_Cext)"
      ]
    },
    {
      "cell_type": "markdown",
      "id": "627a98f7",
      "metadata": {
        "papermill": {
          "duration": 0.018776,
          "end_time": "2023-09-01T15:54:43.042477",
          "exception": false,
          "start_time": "2023-09-01T15:54:43.023701",
          "status": "completed"
        },
        "tags": []
      },
      "source": [
        "And one more $C_{ext}$ multiplication which we do by clever indexing:"
      ]
    },
    {
      "cell_type": "code",
      "execution_count": 49,
      "id": "12ff877c",
      "metadata": {
        "execution": {
          "iopub.execute_input": "2023-09-01T15:54:43.083442Z",
          "iopub.status.busy": "2023-09-01T15:54:43.082862Z",
          "iopub.status.idle": "2023-09-01T15:54:43.092676Z",
          "shell.execute_reply": "2023-09-01T15:54:43.092202Z"
        },
        "papermill": {
          "duration": 0.032937,
          "end_time": "2023-09-01T15:54:43.094542",
          "exception": false,
          "start_time": "2023-09-01T15:54:43.061605",
          "status": "completed"
        },
        "tags": []
      },
      "outputs": [
        {
          "data": {
            "text/plain": [
              "Array([[[ 0.      +0.j      ,  0.      +0.j      , -0.25    +0.433015j,\n",
              "         -0.433015+0.75j    ],\n",
              "        [ 0.      +0.j      ,  0.      +0.j      , -0.433015+0.75j    ,\n",
              "          0.25    -0.433015j],\n",
              "        [-0.25    +0.433015j, -0.433015+0.75j    ,  0.      +0.j      ,\n",
              "          0.      +0.j      ],\n",
              "        [-0.433015+0.75j    ,  0.25    -0.433015j,  0.      +0.j      ,\n",
              "          0.      +0.j      ]]], dtype=complex128)"
            ]
          },
          "execution_count": 49,
          "metadata": {},
          "output_type": "execute_result"
        }
      ],
      "source": [
        "CextT_S_inv_I_CS_Cext = S_inv_I_CS_Cext[..., Cexti, :][..., :, Cextj]\n",
        "CextT_S_inv_I_CS_Cext"
      ]
    },
    {
      "cell_type": "markdown",
      "id": "3e1c75b2",
      "metadata": {
        "papermill": {
          "duration": 0.018384,
          "end_time": "2023-09-01T15:54:43.132794",
          "exception": false,
          "start_time": "2023-09-01T15:54:43.114410",
          "status": "completed"
        },
        "tags": []
      },
      "source": [
        "That's it! We found the S-matrix of the circuit. We just need to reshape the batch dimension back into the matrix:"
      ]
    },
    {
      "cell_type": "code",
      "execution_count": 50,
      "id": "cbf962af",
      "metadata": {
        "execution": {
          "iopub.execute_input": "2023-09-01T15:54:43.172320Z",
          "iopub.status.busy": "2023-09-01T15:54:43.171298Z",
          "iopub.status.idle": "2023-09-01T15:54:43.177648Z",
          "shell.execute_reply": "2023-09-01T15:54:43.177186Z"
        },
        "papermill": {
          "duration": 0.027575,
          "end_time": "2023-09-01T15:54:43.178973",
          "exception": false,
          "start_time": "2023-09-01T15:54:43.151398",
          "status": "completed"
        },
        "tags": []
      },
      "outputs": [
        {
          "data": {
            "text/plain": [
              "Array([[ 0.      +0.j      ,  0.      +0.j      , -0.25    +0.433015j,\n",
              "        -0.433015+0.75j    ],\n",
              "       [ 0.      +0.j      ,  0.      +0.j      , -0.433015+0.75j    ,\n",
              "         0.25    -0.433015j],\n",
              "       [-0.25    +0.433015j, -0.433015+0.75j    ,  0.      +0.j      ,\n",
              "         0.      +0.j      ],\n",
              "       [-0.433015+0.75j    ,  0.25    -0.433015j,  0.      +0.j      ,\n",
              "         0.      +0.j      ]], dtype=complex128)"
            ]
          },
          "execution_count": 50,
          "metadata": {},
          "output_type": "execute_result"
        }
      ],
      "source": [
        "_, n, _ = CextT_S_inv_I_CS_Cext.shape\n",
        "S = CextT_S_inv_I_CS_Cext.reshape(*batch_shape, n, n)\n",
        "S"
      ]
    },
    {
      "cell_type": "markdown",
      "id": "1f6dea4c",
      "metadata": {
        "papermill": {
          "duration": 0.018504,
          "end_time": "2023-09-01T15:54:43.216279",
          "exception": false,
          "start_time": "2023-09-01T15:54:43.197775",
          "status": "completed"
        },
        "tags": []
      },
      "source": [
        "Oh and to complete the `SDense` representation we need to specify the port map as well:"
      ]
    },
    {
      "cell_type": "code",
      "execution_count": 51,
      "id": "21098a45",
      "metadata": {
        "execution": {
          "iopub.execute_input": "2023-09-01T15:54:43.255080Z",
          "iopub.status.busy": "2023-09-01T15:54:43.254493Z",
          "iopub.status.idle": "2023-09-01T15:54:43.258608Z",
          "shell.execute_reply": "2023-09-01T15:54:43.258209Z"
        },
        "papermill": {
          "duration": 0.025116,
          "end_time": "2023-09-01T15:54:43.259870",
          "exception": false,
          "start_time": "2023-09-01T15:54:43.234754",
          "status": "completed"
        },
        "tags": []
      },
      "outputs": [
        {
          "data": {
            "text/plain": [
              "{'in0': 0, 'in1': 1, 'out0': 2, 'out1': 3}"
            ]
          },
          "execution_count": 51,
          "metadata": {},
          "output_type": "execute_result"
        }
      ],
      "source": [
        "port_map"
      ]
    },
    {
      "cell_type": "markdown",
      "id": "0cfee3cf",
      "metadata": {
        "papermill": {
          "duration": 0.018714,
          "end_time": "2023-09-01T15:54:43.298316",
          "exception": false,
          "start_time": "2023-09-01T15:54:43.279602",
          "status": "completed"
        },
        "tags": []
      },
      "source": [
        "## Algorithm Improvements"
      ]
    },
    {
      "cell_type": "markdown",
      "id": "26b70270",
      "metadata": {
        "papermill": {
          "duration": 0.018542,
          "end_time": "2023-09-01T15:54:43.335464",
          "exception": false,
          "start_time": "2023-09-01T15:54:43.316922",
          "status": "completed"
        },
        "tags": []
      },
      "source": [
        "This algorithm is \n",
        "\n",
        "* very fast for large circuits \ud83d\ude42\n",
        "\n",
        "This algorithm is however:\n",
        "\n",
        "* **not** jittable \ud83d\ude25\n",
        "* **not** differentiable \ud83d\ude25\n",
        "* **not** GPU-compatible \ud83d\ude42\n",
        "\n",
        "There are probably still plenty of improvements possible for this algorithm:\n",
        "\n",
        "* **\u00bf** make it jittable **?**\n",
        "* **\u00bf** make it differentiable (requires making klujax differentiable first) **?**\n",
        "* **\u00bf** make it GPU compatible (requires making suitesparse GPU compatible... probably not gonna happen)**?**\n",
        "\n",
        "Bottom line is... Do you know how to improve this algorithm or how to implement the above suggestions? Please open a Merge Request!"
      ]
    },
    {
      "cell_type": "markdown",
      "id": "7578c842-033b-4d1f-a84f-e5ad486d4a88",
      "metadata": {
        "papermill": {
          "duration": 0.018731,
          "end_time": "2023-09-01T15:54:43.372876",
          "exception": false,
          "start_time": "2023-09-01T15:54:43.354145",
          "status": "completed"
        },
        "tags": []
      },
      "source": [
        "## Debug"
      ]
    },
    {
      "cell_type": "code",
      "execution_count": 52,
      "id": "8764ab09-12b9-4b3d-9d83-9a0872924077",
      "metadata": {
        "execution": {
          "iopub.execute_input": "2023-09-01T15:54:43.412239Z",
          "iopub.status.busy": "2023-09-01T15:54:43.411740Z",
          "iopub.status.idle": "2023-09-01T15:54:43.421735Z",
          "shell.execute_reply": "2023-09-01T15:54:43.421252Z"
        },
        "papermill": {
          "duration": 0.031866,
          "end_time": "2023-09-01T15:54:43.423464",
          "exception": false,
          "start_time": "2023-09-01T15:54:43.391598",
          "status": "completed"
        },
        "tags": []
      },
      "outputs": [],
      "source": [
        "instances = {\n",
        "    \"lft\": (\n",
        "        jnp.array(\n",
        "            [\n",
        "                [\n",
        "                    5.19688622e-06 - 1.19777138e-05j,\n",
        "                    6.30595625e-16 - 1.48061189e-17j,\n",
        "                    -3.38542541e-01 - 6.15711852e-01j,\n",
        "                    5.80662654e-03 - 1.11068866e-02j,\n",
        "                    -3.38542542e-01 - 6.15711852e-01j,\n",
        "                    -5.80662660e-03 + 1.11068866e-02j,\n",
        "                ],\n",
        "                [\n",
        "                    8.59445189e-16 - 8.29783014e-16j,\n",
        "                    -2.08640825e-06 + 8.17315497e-06j,\n",
        "                    2.03847666e-03 - 2.10649131e-03j,\n",
        "                    5.30509661e-01 + 4.62504708e-01j,\n",
        "                    -2.03847666e-03 + 2.10649129e-03j,\n",
        "                    5.30509662e-01 + 4.62504708e-01j,\n",
        "                ],\n",
        "                [\n",
        "                    -3.38542541e-01 - 6.15711852e-01j,\n",
        "                    2.03847660e-03 - 2.10649129e-03j,\n",
        "                    7.60088070e-06 + 9.07340423e-07j,\n",
        "                    2.79292426e-09 + 2.79093547e-07j,\n",
        "                    5.07842364e-06 + 2.16385350e-06j,\n",
        "                    -6.84244232e-08 - 5.00486817e-07j,\n",
        "                ],\n",
        "                [\n",
        "                    5.80662707e-03 - 1.11068869e-02j,\n",
        "                    5.30509661e-01 + 4.62504708e-01j,\n",
        "                    2.79291895e-09 + 2.79093540e-07j,\n",
        "                    -4.55645798e-06 + 1.50570403e-06j,\n",
        "                    6.84244128e-08 + 5.00486817e-07j,\n",
        "                    -3.55812153e-06 + 4.59781091e-07j,\n",
        "                ],\n",
        "                [\n",
        "                    -3.38542541e-01 - 6.15711852e-01j,\n",
        "                    -2.03847672e-03 + 2.10649131e-03j,\n",
        "                    5.07842364e-06 + 2.16385349e-06j,\n",
        "                    6.84244230e-08 + 5.00486816e-07j,\n",
        "                    7.60088070e-06 + 9.07340425e-07j,\n",
        "                    -2.79292467e-09 - 2.79093547e-07j,\n",
        "                ],\n",
        "                [\n",
        "                    -5.80662607e-03 + 1.11068863e-02j,\n",
        "                    5.30509662e-01 + 4.62504708e-01j,\n",
        "                    -6.84244296e-08 - 5.00486825e-07j,\n",
        "                    -3.55812153e-06 + 4.59781093e-07j,\n",
        "                    -2.79293217e-09 - 2.79093547e-07j,\n",
        "                    -4.55645798e-06 + 1.50570403e-06j,\n",
        "                ],\n",
        "            ]\n",
        "        ),\n",
        "        {\"in0\": 0, \"out0\": 2, \"out1\": 4},\n",
        "    ),\n",
        "    \"top\": {(\"in0\", \"out0\"): -0.99477 - 0.10211j, (\"out0\", \"in0\"): -0.99477 - 0.10211j},\n",
        "    \"rgt\": {\n",
        "        (\"in0\", \"out0\"): 0.7071067811865476,\n",
        "        (\"in0\", \"out1\"): 0.7071067811865476j,\n",
        "        (\"in1\", \"out0\"): 0.7071067811865476j,\n",
        "        (\"in1\", \"out1\"): 0.7071067811865476,\n",
        "        (\"out0\", \"in0\"): 0.7071067811865476,\n",
        "        (\"out1\", \"in0\"): 0.7071067811865476j,\n",
        "        (\"out0\", \"in1\"): 0.7071067811865476j,\n",
        "        (\"out1\", \"in1\"): 0.7071067811865476,\n",
        "    },\n",
        "}\n",
        "connections = {\"lft,out0\": \"rgt,in0\", \"lft,out1\": \"top,in0\", \"top,out0\": \"rgt,in1\"}\n",
        "ports = {\"in0\": \"lft,in0\", \"out0\": \"rgt,out0\"}"
      ]
    },
    {
      "cell_type": "code",
      "execution_count": 53,
      "id": "20de2839-e848-49a4-b70a-bf192744c344",
      "metadata": {
        "execution": {
          "iopub.execute_input": "2023-09-01T15:54:43.462967Z",
          "iopub.status.busy": "2023-09-01T15:54:43.462507Z",
          "iopub.status.idle": "2023-09-01T15:54:44.207289Z",
          "shell.execute_reply": "2023-09-01T15:54:44.206499Z"
        },
        "papermill": {
          "duration": 0.766398,
          "end_time": "2023-09-01T15:54:44.208868",
          "exception": false,
          "start_time": "2023-09-01T15:54:43.442470",
          "status": "completed"
        },
        "tags": []
      },
      "outputs": [
        {
          "data": {
            "text/plain": [
              "{('in0', 'in0'): Array(5.19688622e-06-1.19777138e-05j, dtype=complex128),\n",
              " ('out0', 'out0'): Array(2.84253212e-06-5.59351604e-06j, dtype=complex128),\n",
              " ('out0', 'in0'): Array(-0.69692642-0.24169633j, dtype=complex128),\n",
              " ('in0', 'out0'): Array(-0.69692642-0.24169633j, dtype=complex128)}"
            ]
          },
          "execution_count": 53,
          "metadata": {},
          "output_type": "execute_result"
        }
      ],
      "source": [
        "sax.sdict(evaluate_circuit(analyze_circuit(connections, ports), instances))"
      ]
    },
    {
      "cell_type": "code",
      "execution_count": 54,
      "id": "fc7b3ac4-4599-4748-a4b8-ec0a2e3927c8",
      "metadata": {
        "execution": {
          "iopub.execute_input": "2023-09-01T15:54:44.251016Z",
          "iopub.status.busy": "2023-09-01T15:54:44.250710Z",
          "iopub.status.idle": "2023-09-01T15:54:45.484545Z",
          "shell.execute_reply": "2023-09-01T15:54:45.484032Z"
        },
        "papermill": {
          "duration": 1.257047,
          "end_time": "2023-09-01T15:54:45.485951",
          "exception": false,
          "start_time": "2023-09-01T15:54:44.228904",
          "status": "completed"
        },
        "tags": []
      },
      "outputs": [
        {
          "data": {
            "text/plain": [
              "{('in0', 'in0'): Array(5.19688622e-06-1.19777138e-05j, dtype=complex128),\n",
              " ('in0', 'out0'): Array(-0.69692642-0.24169633j, dtype=complex128),\n",
              " ('out0', 'in0'): Array(-0.69692642-0.24169633j, dtype=complex128),\n",
              " ('out0', 'out0'): Array(2.84253212e-06-5.59351604e-06j, dtype=complex128)}"
            ]
          },
          "execution_count": 54,
          "metadata": {},
          "output_type": "execute_result"
        }
      ],
      "source": [
        "sax.sdict(evaluate_circuit_klu(analyze_circuit_klu(connections, ports), instances))"
      ]
    }
  ],
  "metadata": {
    "kernelspec": {
      "display_name": "sax",
      "language": "python",
      "name": "sax"
    },
    "language_info": {
      "codemirror_mode": {
        "name": "ipython",
        "version": 3
      },
      "file_extension": ".py",
      "mimetype": "text/x-python",
      "name": "python",
      "nbconvert_exporter": "python",
      "pygments_lexer": "ipython3",
      "version": "3.11.5"
    },
    "papermill": {
      "default_parameters": {},
      "duration": 12.742255,
      "end_time": "2023-09-01T15:54:46.328311",
      "environment_variables": {},
      "exception": null,
      "input_path": "./nbs/08b_backends_klu.ipynb",
      "output_path": "./nbs/08b_backends_klu.ipynb",
      "parameters": {},
      "start_time": "2023-09-01T15:54:33.586056",
      "version": "2.4.0"
    }
  },
  "nbformat": 4,
  "nbformat_minor": 5
}