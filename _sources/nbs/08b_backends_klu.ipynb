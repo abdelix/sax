{
  "cells": [
    {
      "cell_type": "code",
      "execution_count": 1,
      "id": "5ecfb93dde4abe5a",
      "metadata": {
        "execution": {
          "iopub.execute_input": "2023-09-02T19:00:06.916881Z",
          "iopub.status.busy": "2023-09-02T19:00:06.916286Z",
          "iopub.status.idle": "2023-09-02T19:00:06.919672Z",
          "shell.execute_reply": "2023-09-02T19:00:06.919106Z"
        },
        "papermill": {
          "duration": 0.040957,
          "end_time": "2023-09-02T19:00:06.920981",
          "exception": false,
          "start_time": "2023-09-02T19:00:06.880024",
          "status": "completed"
        },
        "tags": [
          "remove-cell"
        ]
      },
      "outputs": [],
      "source": []
    },
    {
      "cell_type": "markdown",
      "id": "27c3489e",
      "metadata": {
        "papermill": {
          "duration": 0.011144,
          "end_time": "2023-09-02T19:00:06.943593",
          "exception": false,
          "start_time": "2023-09-02T19:00:06.932449",
          "status": "completed"
        },
        "tags": []
      },
      "source": [
        "# Backend - KLU\n",
        "\n",
        "> SAX KLU Backend"
      ]
    },
    {
      "cell_type": "code",
      "execution_count": 2,
      "id": "eeda1e62990a83e1",
      "metadata": {
        "execution": {
          "iopub.execute_input": "2023-09-02T19:00:06.967373Z",
          "iopub.status.busy": "2023-09-02T19:00:06.966552Z",
          "iopub.status.idle": "2023-09-02T19:00:08.574344Z",
          "shell.execute_reply": "2023-09-02T19:00:08.573891Z"
        },
        "papermill": {
          "duration": 1.621278,
          "end_time": "2023-09-02T19:00:08.575900",
          "exception": false,
          "start_time": "2023-09-02T19:00:06.954622",
          "status": "completed"
        },
        "tags": [
          "remove-cell"
        ]
      },
      "outputs": [],
      "source": [
        "import sax\n",
        "import matplotlib.pyplot as plt\n",
        "from fastcore.test import test_eq\n",
        "from pytest import approx, raises\n",
        "from nbdev import show_doc\n",
        "from sax.backends import analyze_circuit, evaluate_circuit\n",
        "\n",
        "import os, sys; sys.stderr = open(os.devnull, \"w\")"
      ]
    },
    {
      "cell_type": "code",
      "execution_count": 3,
      "id": "10e541621482b973",
      "metadata": {
        "execution": {
          "iopub.execute_input": "2023-09-02T19:00:08.600565Z",
          "iopub.status.busy": "2023-09-02T19:00:08.599815Z",
          "iopub.status.idle": "2023-09-02T19:00:08.603390Z",
          "shell.execute_reply": "2023-09-02T19:00:08.602976Z"
        },
        "papermill": {
          "duration": 0.01719,
          "end_time": "2023-09-02T19:00:08.604514",
          "exception": false,
          "start_time": "2023-09-02T19:00:08.587324",
          "status": "completed"
        },
        "tags": [
          "hide-input"
        ]
      },
      "outputs": [],
      "source": [
        "from __future__ import annotations\n",
        "\n",
        "from functools import partial\n",
        "from typing import Any, Dict\n",
        "\n",
        "import jax\n",
        "import jax.numpy as jnp\n",
        "import klujax\n",
        "from natsort import natsorted\n",
        "from sax.typing_ import SDense, SDict, SType, scoo, sdense, sdict"
      ]
    },
    {
      "cell_type": "markdown",
      "id": "64e42767",
      "metadata": {
        "papermill": {
          "duration": 0.010964,
          "end_time": "2023-09-02T19:00:08.626529",
          "exception": false,
          "start_time": "2023-09-02T19:00:08.615565",
          "status": "completed"
        },
        "tags": []
      },
      "source": [
        "## Citation\n",
        "The KLU backend is using `klujax`, which uses the [SuiteSparse](https://github.com/DrTimothyAldenDavis/SuiteSparse) C++ libraries for sparse matrix evaluations to evaluate the circuit insanely fast on a CPU. The specific algorith being used in question is the KLU algorithm:\n",
        "\n",
        "> Ekanathan Palamadai Natariajan. \"*KLU - A high performance sparse linear solver for circuit simulation problems.*\""
      ]
    },
    {
      "cell_type": "markdown",
      "id": "2db5821c",
      "metadata": {
        "papermill": {
          "duration": 0.010893,
          "end_time": "2023-09-02T19:00:08.648352",
          "exception": false,
          "start_time": "2023-09-02T19:00:08.637459",
          "status": "completed"
        },
        "tags": []
      },
      "source": [
        "## Theoretical Background"
      ]
    },
    {
      "cell_type": "markdown",
      "id": "3d4d4a4c",
      "metadata": {
        "papermill": {
          "duration": 0.010848,
          "end_time": "2023-09-02T19:00:08.670135",
          "exception": false,
          "start_time": "2023-09-02T19:00:08.659287",
          "status": "completed"
        },
        "tags": []
      },
      "source": [
        "The core of the KLU algorithm is supported by `klujax`, which internally uses the Suitesparse libraries to solve the sparse system `Ax = b`, in which A is a sparse matrix."
      ]
    },
    {
      "cell_type": "markdown",
      "id": "a1985f58",
      "metadata": {
        "papermill": {
          "duration": 0.01083,
          "end_time": "2023-09-02T19:00:08.691790",
          "exception": false,
          "start_time": "2023-09-02T19:00:08.680960",
          "status": "completed"
        },
        "tags": []
      },
      "source": [
        "Now it only comes down to shoehorn our circuit evaluation into a sparse linear system of equations $Ax=b$ where we need to solve for $x$ using `klujax`. \n",
        "Consider the block diagonal matrix $S_{bd}$ of all components in the circuit acting on the fields $x_{in}$ at each of the individual ports of each of the component integrated in $S^{bd}$. The output fields $x^{out}$ at each of those ports is then given by:\n",
        "\n",
        "$$\n",
        "x^{out} = S_{bd} x^{in}\n",
        "$$"
      ]
    },
    {
      "cell_type": "markdown",
      "id": "9c26c04a",
      "metadata": {
        "papermill": {
          "duration": 0.010817,
          "end_time": "2023-09-02T19:00:08.713628",
          "exception": false,
          "start_time": "2023-09-02T19:00:08.702811",
          "status": "completed"
        },
        "tags": []
      },
      "source": [
        "However, $S_{bd}$ is not the S-matrix of the circuit as it does not encode any connectivity *between* the components. Connecting two component ports basically comes down to enforcing equality between the output fields at one port of a component with the input fields at another port of another (or maybe even the same) component. This equality can be enforced by creating an internal connection matrix, connecting all internal ports of the circuit:\n",
        "\n",
        "$$\n",
        "x^{in} = C_{int} x^{out}\n",
        "$$"
      ]
    },
    {
      "cell_type": "markdown",
      "id": "16b3fdad",
      "metadata": {
        "papermill": {
          "duration": 0.010852,
          "end_time": "2023-09-02T19:00:08.735338",
          "exception": false,
          "start_time": "2023-09-02T19:00:08.724486",
          "status": "completed"
        },
        "tags": []
      },
      "source": [
        "We can thus write the following combined equation:\n",
        "\n",
        "$$\n",
        "x^{in} = C_{int} S_{bd} x^{in}\n",
        "$$"
      ]
    },
    {
      "cell_type": "markdown",
      "id": "f5ceb9a2",
      "metadata": {
        "papermill": {
          "duration": 0.010841,
          "end_time": "2023-09-02T19:00:08.757059",
          "exception": false,
          "start_time": "2023-09-02T19:00:08.746218",
          "status": "completed"
        },
        "tags": []
      },
      "source": [
        "But this is not the complete story... Some component ports will *not* be *interconnected* with other ports: they will become the new *external ports* (or output ports) of the combined circuit. We can include those external ports into the above equation as follows:\n",
        "\n",
        "$$\n",
        "\\begin{pmatrix} x^{in} \\\\ x^{out}_{ext} \\end{pmatrix} = \\begin{pmatrix} C_{int} & C_{ext} \\\\ C_{ext}^T & 0 \\end{pmatrix} \\begin{pmatrix} S_{bd} x^{in} \\\\ x_{ext}^{in} \\end{pmatrix} \n",
        "$$"
      ]
    },
    {
      "cell_type": "markdown",
      "id": "6382a242",
      "metadata": {
        "papermill": {
          "duration": 0.010797,
          "end_time": "2023-09-02T19:00:08.778739",
          "exception": false,
          "start_time": "2023-09-02T19:00:08.767942",
          "status": "completed"
        },
        "tags": []
      },
      "source": [
        "Note that $C_{ext}$ is obviously **not** a square matrix. Eliminating $x^{in}$ from the equation above finally yields:\n",
        "\n",
        "$$\n",
        "x^{out}_{ext} = C^T_{ext} S_{bd} (\\mathbb{1} - C_{int}S_{bd})^{-1} C_{ext}x_{ext}^{in}\n",
        "$$"
      ]
    },
    {
      "cell_type": "markdown",
      "id": "5f15bdcd",
      "metadata": {
        "papermill": {
          "duration": 0.010891,
          "end_time": "2023-09-02T19:00:08.800490",
          "exception": false,
          "start_time": "2023-09-02T19:00:08.789599",
          "status": "completed"
        },
        "tags": []
      },
      "source": [
        "We basically found a representation of the circuit S-matrix:\n",
        "\n",
        "$$\n",
        "S = C^T_{ext} S_{bd} (\\mathbb{1} - C_{int}S_{bd})^{-1} C_{ext}\n",
        "$$"
      ]
    },
    {
      "cell_type": "markdown",
      "id": "40ad83b8",
      "metadata": {
        "papermill": {
          "duration": 0.01096,
          "end_time": "2023-09-02T19:00:08.822541",
          "exception": false,
          "start_time": "2023-09-02T19:00:08.811581",
          "status": "completed"
        },
        "tags": []
      },
      "source": [
        "Obviously, we won't want to calculate the inverse $(\\mathbb{1} - C_{int}S_{bd})^{-1}$, which is the inverse of a very sparse matrix (a connection matrix only has a single 1 per line), which very often is not even sparse itself. In stead we'll use the `solve_klu` function:\n",
        "\n",
        "$$\n",
        "S = C^T_{ext} S_{bd} \\texttt{solve}\\_\\texttt{klu}\\left((\\mathbb{1} - C_{int}S_{bd}), C_{ext}\\right)\n",
        "$$"
      ]
    },
    {
      "cell_type": "markdown",
      "id": "018fab3d",
      "metadata": {
        "papermill": {
          "duration": 0.010853,
          "end_time": "2023-09-02T19:00:08.844307",
          "exception": false,
          "start_time": "2023-09-02T19:00:08.833454",
          "status": "completed"
        },
        "tags": []
      },
      "source": [
        "Moreover, $C_{ext}^TS_{bd}$ is also a sparse matrix, therefore we'll also need a `mul_coo` routine:\n",
        "\n",
        "$$\n",
        "S = C^T_{ext} \\texttt{mul}\\_\\texttt{coo}\\left(S_{bd},~~\\texttt{solve}\\_\\texttt{klu}\\left((\\mathbb{1} - C_{int}S_{bd}),~C_{ext}\\right)\\right)\n",
        "$$"
      ]
    },
    {
      "cell_type": "markdown",
      "id": "d9b78852",
      "metadata": {
        "papermill": {
          "duration": 0.011014,
          "end_time": "2023-09-02T19:00:08.866300",
          "exception": false,
          "start_time": "2023-09-02T19:00:08.855286",
          "status": "completed"
        },
        "tags": []
      },
      "source": [
        "## Sparse Helper Functions"
      ]
    },
    {
      "cell_type": "code",
      "execution_count": 4,
      "id": "97d5d16e9f042898",
      "metadata": {
        "execution": {
          "iopub.execute_input": "2023-09-02T19:00:08.889706Z",
          "iopub.status.busy": "2023-09-02T19:00:08.889217Z",
          "iopub.status.idle": "2023-09-02T19:00:08.896493Z",
          "shell.execute_reply": "2023-09-02T19:00:08.896124Z"
        },
        "papermill": {
          "duration": 0.020352,
          "end_time": "2023-09-02T19:00:08.897590",
          "exception": false,
          "start_time": "2023-09-02T19:00:08.877238",
          "status": "completed"
        },
        "tags": [
          "remove-input"
        ]
      },
      "outputs": [
        {
          "data": {
            "text/markdown": [
              "<h4 id=\"klujax.solve\" class=\"doc_header\"><code>klujax.solve</code><a href=\"klujax.py#L97\" class=\"source_link\" style=\"float:right\">[source]</a></h4>\n",
              "\n",
              "> <code>klujax.solve</code>(**`Ai`**, **`Aj`**, **`Ax`**, **`b`**)\n",
              "\n"
            ],
            "text/plain": [
              "<IPython.core.display.Markdown object>"
            ]
          },
          "metadata": {},
          "output_type": "display_data"
        }
      ],
      "source": [
        "show_doc(klujax.solve, doc_string=False, name=\"klujax.solve\")"
      ]
    },
    {
      "cell_type": "markdown",
      "id": "01299d5d",
      "metadata": {
        "papermill": {
          "duration": 0.011996,
          "end_time": "2023-09-02T19:00:08.920920",
          "exception": false,
          "start_time": "2023-09-02T19:00:08.908924",
          "status": "completed"
        },
        "tags": []
      },
      "source": [
        "`klujax.solve` solves the sparse system of equations `Ax=b` for `x`. Where `A` is represented by in [COO-format](https://en.wikipedia.org/wiki/Sparse_matrix#Coordinate_list_(COO)) as (`Ai`, `Aj`, `Ax`).\n",
        "\n",
        "> Example"
      ]
    },
    {
      "cell_type": "code",
      "execution_count": 5,
      "id": "63e7977a",
      "metadata": {
        "execution": {
          "iopub.execute_input": "2023-09-02T19:00:08.945295Z",
          "iopub.status.busy": "2023-09-02T19:00:08.944653Z",
          "iopub.status.idle": "2023-09-02T19:00:09.068072Z",
          "shell.execute_reply": "2023-09-02T19:00:09.067641Z"
        },
        "papermill": {
          "duration": 0.137139,
          "end_time": "2023-09-02T19:00:09.069571",
          "exception": false,
          "start_time": "2023-09-02T19:00:08.932432",
          "status": "completed"
        },
        "tags": []
      },
      "outputs": [
        {
          "data": {
            "text/plain": [
              "Array([6. , 1. , 0.5, 0.5, 2. ], dtype=float64)"
            ]
          },
          "execution_count": 5,
          "metadata": {},
          "output_type": "execute_result"
        }
      ],
      "source": [
        "Ai = jnp.array([0, 1, 2, 3, 4])\n",
        "Aj = jnp.array([1, 3, 4, 0, 2])\n",
        "Ax = jnp.array([5, 6, 1, 1, 2])\n",
        "b = jnp.array([5, 3, 2, 6, 1])\n",
        "x = klujax.solve(Ai, Aj, Ax, b)\n",
        "x"
      ]
    },
    {
      "cell_type": "markdown",
      "id": "3233b04c",
      "metadata": {
        "papermill": {
          "duration": 0.011363,
          "end_time": "2023-09-02T19:00:09.092471",
          "exception": false,
          "start_time": "2023-09-02T19:00:09.081108",
          "status": "completed"
        },
        "tags": []
      },
      "source": [
        "This result is indeed correct:"
      ]
    },
    {
      "cell_type": "code",
      "execution_count": 6,
      "id": "629bbc71",
      "metadata": {
        "execution": {
          "iopub.execute_input": "2023-09-02T19:00:09.116766Z",
          "iopub.status.busy": "2023-09-02T19:00:09.116163Z",
          "iopub.status.idle": "2023-09-02T19:00:09.277649Z",
          "shell.execute_reply": "2023-09-02T19:00:09.277265Z"
        },
        "papermill": {
          "duration": 0.174951,
          "end_time": "2023-09-02T19:00:09.278793",
          "exception": false,
          "start_time": "2023-09-02T19:00:09.103842",
          "status": "completed"
        },
        "tags": []
      },
      "outputs": [
        {
          "name": "stdout",
          "output_type": "stream",
          "text": [
            "[[0. 5. 0. 0. 0.]\n",
            " [0. 0. 0. 6. 0.]\n",
            " [0. 0. 0. 0. 1.]\n",
            " [1. 0. 0. 0. 0.]\n",
            " [0. 0. 2. 0. 0.]]\n",
            "[5. 3. 2. 6. 1.]\n"
          ]
        }
      ],
      "source": [
        "A = jnp.zeros((5, 5)).at[Ai, Aj].set(Ax)\n",
        "print(A)\n",
        "print(A@x)"
      ]
    },
    {
      "cell_type": "markdown",
      "id": "c7fe6547",
      "metadata": {
        "papermill": {
          "duration": 0.011476,
          "end_time": "2023-09-02T19:00:09.301863",
          "exception": false,
          "start_time": "2023-09-02T19:00:09.290387",
          "status": "completed"
        },
        "tags": []
      },
      "source": [
        "However, to use this function effectively, we probably need an extra dimension for `Ax`. Indeed, we would like to solve this equation for multiple wavelengths (or more general, for multiple circuit configurations) at once. For this we can use `jax.vmap` to expose `klujax.solve` to more dimensions for `Ax`:"
      ]
    },
    {
      "cell_type": "code",
      "execution_count": 7,
      "id": "637cfeeebb63957a",
      "metadata": {
        "execution": {
          "iopub.execute_input": "2023-09-02T19:00:09.326299Z",
          "iopub.status.busy": "2023-09-02T19:00:09.325645Z",
          "iopub.status.idle": "2023-09-02T19:00:09.328654Z",
          "shell.execute_reply": "2023-09-02T19:00:09.328285Z"
        },
        "papermill": {
          "duration": 0.016504,
          "end_time": "2023-09-02T19:00:09.329848",
          "exception": false,
          "start_time": "2023-09-02T19:00:09.313344",
          "status": "completed"
        },
        "tags": []
      },
      "outputs": [],
      "source": [
        "solve_klu = jax.vmap(klujax.solve, (None, None, 0, None), 0)"
      ]
    },
    {
      "cell_type": "code",
      "execution_count": 8,
      "id": "235c07d1a446cda8",
      "metadata": {
        "execution": {
          "iopub.execute_input": "2023-09-02T19:00:09.353844Z",
          "iopub.status.busy": "2023-09-02T19:00:09.353339Z",
          "iopub.status.idle": "2023-09-02T19:00:09.363481Z",
          "shell.execute_reply": "2023-09-02T19:00:09.363068Z"
        },
        "papermill": {
          "duration": 0.023357,
          "end_time": "2023-09-02T19:00:09.364607",
          "exception": false,
          "start_time": "2023-09-02T19:00:09.341250",
          "status": "completed"
        },
        "tags": [
          "remove-input"
        ]
      },
      "outputs": [
        {
          "data": {
            "text/markdown": [
              "<h4 id=\"solve_klu\" class=\"doc_header\"><code>solve_klu</code><a href=\"klujax.py#L97\" class=\"source_link\" style=\"float:right\">[source]</a></h4>\n",
              "\n",
              "> <code>solve_klu</code>(**`Ai`**, **`Aj`**, **`Ax`**, **`b`**)\n",
              "\n",
              "\n",
              "\n",
              "||Type|Default|Details|\n",
              "|---|---|---|---|\n",
              "|**`Ai`**|||*No Content*|\n",
              "|**`Aj`**|||*No Content*|\n",
              "|**`Ax`**|||*No Content*|\n",
              "|**`b`**|||jitting by default allows for empty implementation definitions|\n"
            ],
            "text/plain": [
              "<IPython.core.display.Markdown object>"
            ]
          },
          "metadata": {},
          "output_type": "display_data"
        }
      ],
      "source": [
        "show_doc(solve_klu, doc_string=False, name=\"solve_klu\")"
      ]
    },
    {
      "cell_type": "markdown",
      "id": "6707049d",
      "metadata": {
        "papermill": {
          "duration": 0.011466,
          "end_time": "2023-09-02T19:00:09.387590",
          "exception": false,
          "start_time": "2023-09-02T19:00:09.376124",
          "status": "completed"
        },
        "tags": []
      },
      "source": [
        "Let's now redefine `Ax` and see what it gives:"
      ]
    },
    {
      "cell_type": "code",
      "execution_count": 9,
      "id": "d4d7b6f9",
      "metadata": {
        "execution": {
          "iopub.execute_input": "2023-09-02T19:00:09.411929Z",
          "iopub.status.busy": "2023-09-02T19:00:09.411486Z",
          "iopub.status.idle": "2023-09-02T19:00:09.450015Z",
          "shell.execute_reply": "2023-09-02T19:00:09.449494Z"
        },
        "papermill": {
          "duration": 0.05211,
          "end_time": "2023-09-02T19:00:09.451227",
          "exception": false,
          "start_time": "2023-09-02T19:00:09.399117",
          "status": "completed"
        },
        "tags": []
      },
      "outputs": [
        {
          "data": {
            "text/plain": [
              "Array([[6.        , 1.        , 0.5       , 0.5       , 2.        ],\n",
              "       [3.        , 1.        , 1.        , 0.75      , 0.66666667],\n",
              "       [1.5       , 5.        , 0.2       , 1.5       , 0.66666667]],      dtype=float64)"
            ]
          },
          "execution_count": 9,
          "metadata": {},
          "output_type": "execute_result"
        }
      ],
      "source": [
        "Ai = jnp.array([0, 1, 2, 3, 4])\n",
        "Aj = jnp.array([1, 3, 4, 0, 2])\n",
        "Ax = jnp.array([[5, 6, 1, 1, 2], [5, 4, 3, 2, 1], [1, 2, 3, 4, 5]])\n",
        "b = jnp.array([5, 3, 2, 6, 1])\n",
        "x = solve_klu(Ai, Aj, Ax, b)\n",
        "x"
      ]
    },
    {
      "cell_type": "markdown",
      "id": "5f342c6f",
      "metadata": {
        "papermill": {
          "duration": 0.011766,
          "end_time": "2023-09-02T19:00:09.474979",
          "exception": false,
          "start_time": "2023-09-02T19:00:09.463213",
          "status": "completed"
        },
        "tags": []
      },
      "source": [
        "This result is indeed correct:"
      ]
    },
    {
      "cell_type": "code",
      "execution_count": 10,
      "id": "0afefaa6",
      "metadata": {
        "execution": {
          "iopub.execute_input": "2023-09-02T19:00:09.499263Z",
          "iopub.status.busy": "2023-09-02T19:00:09.498862Z",
          "iopub.status.idle": "2023-09-02T19:00:09.593777Z",
          "shell.execute_reply": "2023-09-02T19:00:09.593397Z"
        },
        "papermill": {
          "duration": 0.108421,
          "end_time": "2023-09-02T19:00:09.594969",
          "exception": false,
          "start_time": "2023-09-02T19:00:09.486548",
          "status": "completed"
        },
        "tags": []
      },
      "outputs": [
        {
          "data": {
            "text/plain": [
              "Array([[5., 3., 2., 6., 1.],\n",
              "       [5., 3., 2., 6., 1.],\n",
              "       [5., 3., 2., 6., 1.]], dtype=float64)"
            ]
          },
          "execution_count": 10,
          "metadata": {},
          "output_type": "execute_result"
        }
      ],
      "source": [
        "A = jnp.zeros((3, 5, 5)).at[:, Ai, Aj].set(Ax)\n",
        "jnp.einsum(\"ijk,ik->ij\", A, x)"
      ]
    },
    {
      "cell_type": "markdown",
      "id": "7ed8f62d",
      "metadata": {
        "papermill": {
          "duration": 0.011749,
          "end_time": "2023-09-02T19:00:09.618678",
          "exception": false,
          "start_time": "2023-09-02T19:00:09.606929",
          "status": "completed"
        },
        "tags": []
      },
      "source": [
        "Additionally, we need a way to multiply a sparse COO-matrix with a dense vector. This can be done with `klujax.coo_mul_vec`:"
      ]
    },
    {
      "cell_type": "code",
      "execution_count": 11,
      "id": "e74573cdc9068ae0",
      "metadata": {
        "execution": {
          "iopub.execute_input": "2023-09-02T19:00:09.644045Z",
          "iopub.status.busy": "2023-09-02T19:00:09.643467Z",
          "iopub.status.idle": "2023-09-02T19:00:09.647713Z",
          "shell.execute_reply": "2023-09-02T19:00:09.647362Z"
        },
        "papermill": {
          "duration": 0.018288,
          "end_time": "2023-09-02T19:00:09.648858",
          "exception": false,
          "start_time": "2023-09-02T19:00:09.630570",
          "status": "completed"
        },
        "tags": [
          "remove-input"
        ]
      },
      "outputs": [
        {
          "data": {
            "text/markdown": [
              "<h4 id=\"klujax.coo_mul_vec\" class=\"doc_header\"><code>klujax.coo_mul_vec</code><a href=\"klujax.py#L116\" class=\"source_link\" style=\"float:right\">[source]</a></h4>\n",
              "\n",
              "> <code>klujax.coo_mul_vec</code>(**`Ai`**, **`Aj`**, **`Ax`**, **`b`**)\n",
              "\n"
            ],
            "text/plain": [
              "<IPython.core.display.Markdown object>"
            ]
          },
          "metadata": {},
          "output_type": "display_data"
        }
      ],
      "source": [
        "\n",
        "show_doc(klujax.coo_mul_vec, doc_string=False, name=\"klujax.coo_mul_vec\")"
      ]
    },
    {
      "cell_type": "markdown",
      "id": "7f57c443",
      "metadata": {
        "papermill": {
          "duration": 0.011796,
          "end_time": "2023-09-02T19:00:09.672529",
          "exception": false,
          "start_time": "2023-09-02T19:00:09.660733",
          "status": "completed"
        },
        "tags": []
      },
      "source": [
        "However, it's useful to allow a batch dimension, this time *both* in `Ax` and in `b`:"
      ]
    },
    {
      "cell_type": "code",
      "execution_count": 12,
      "id": "000e981adb05393d",
      "metadata": {
        "execution": {
          "iopub.execute_input": "2023-09-02T19:00:09.697616Z",
          "iopub.status.busy": "2023-09-02T19:00:09.697104Z",
          "iopub.status.idle": "2023-09-02T19:00:09.700032Z",
          "shell.execute_reply": "2023-09-02T19:00:09.699690Z"
        },
        "papermill": {
          "duration": 0.016768,
          "end_time": "2023-09-02T19:00:09.701132",
          "exception": false,
          "start_time": "2023-09-02T19:00:09.684364",
          "status": "completed"
        },
        "tags": []
      },
      "outputs": [],
      "source": [
        "mul_coo = None \n",
        "mul_coo = jax.vmap(klujax.coo_mul_vec, (None, None, 0, 0), 0)"
      ]
    },
    {
      "cell_type": "code",
      "execution_count": 13,
      "id": "72a7ebf70c75aecb",
      "metadata": {
        "execution": {
          "iopub.execute_input": "2023-09-02T19:00:09.726136Z",
          "iopub.status.busy": "2023-09-02T19:00:09.725559Z",
          "iopub.status.idle": "2023-09-02T19:00:09.734222Z",
          "shell.execute_reply": "2023-09-02T19:00:09.733825Z"
        },
        "papermill": {
          "duration": 0.022344,
          "end_time": "2023-09-02T19:00:09.735333",
          "exception": false,
          "start_time": "2023-09-02T19:00:09.712989",
          "status": "completed"
        },
        "tags": [
          "remove-input"
        ]
      },
      "outputs": [
        {
          "data": {
            "text/markdown": [
              "<h4 id=\"mul_coo\" class=\"doc_header\"><code>mul_coo</code><a href=\"klujax.py#L116\" class=\"source_link\" style=\"float:right\">[source]</a></h4>\n",
              "\n",
              "> <code>mul_coo</code>(**`Ai`**, **`Aj`**, **`Ax`**, **`b`**)\n",
              "\n",
              "\n",
              "\n",
              "||Type|Default|Details|\n",
              "|---|---|---|---|\n",
              "|**`Ai`**|||*No Content*|\n",
              "|**`Aj`**|||*No Content*|\n",
              "|**`Ax`**|||*No Content*|\n",
              "|**`b`**|||jitting by default allows for empty implementation definitions|\n"
            ],
            "text/plain": [
              "<IPython.core.display.Markdown object>"
            ]
          },
          "metadata": {},
          "output_type": "display_data"
        }
      ],
      "source": [
        "show_doc(mul_coo, doc_string=False, name=\"mul_coo\")"
      ]
    },
    {
      "cell_type": "markdown",
      "id": "d26cc3d9",
      "metadata": {
        "papermill": {
          "duration": 0.01212,
          "end_time": "2023-09-02T19:00:09.759601",
          "exception": false,
          "start_time": "2023-09-02T19:00:09.747481",
          "status": "completed"
        },
        "tags": []
      },
      "source": [
        "Let's confirm this does the right thing:"
      ]
    },
    {
      "cell_type": "code",
      "execution_count": 14,
      "id": "bd868973",
      "metadata": {
        "execution": {
          "iopub.execute_input": "2023-09-02T19:00:09.784816Z",
          "iopub.status.busy": "2023-09-02T19:00:09.784381Z",
          "iopub.status.idle": "2023-09-02T19:00:09.816802Z",
          "shell.execute_reply": "2023-09-02T19:00:09.816419Z"
        },
        "papermill": {
          "duration": 0.046549,
          "end_time": "2023-09-02T19:00:09.818110",
          "exception": false,
          "start_time": "2023-09-02T19:00:09.771561",
          "status": "completed"
        },
        "tags": []
      },
      "outputs": [
        {
          "data": {
            "text/plain": [
              "Array([[5., 3., 2., 6., 1.],\n",
              "       [5., 3., 2., 6., 1.],\n",
              "       [5., 3., 2., 6., 1.]], dtype=float64)"
            ]
          },
          "execution_count": 14,
          "metadata": {},
          "output_type": "execute_result"
        }
      ],
      "source": [
        "result = mul_coo(Ai, Aj, Ax, x)\n",
        "result"
      ]
    },
    {
      "cell_type": "markdown",
      "id": "7729408c-7977-49b4-8be5-b3a8be6cc1ed",
      "metadata": {
        "papermill": {
          "duration": 0.01218,
          "end_time": "2023-09-02T19:00:09.842635",
          "exception": false,
          "start_time": "2023-09-02T19:00:09.830455",
          "status": "completed"
        },
        "tags": []
      },
      "source": [
        "## Circuit Analyzation"
      ]
    },
    {
      "cell_type": "code",
      "execution_count": 15,
      "id": "665c856d",
      "metadata": {
        "execution": {
          "iopub.execute_input": "2023-09-02T19:00:09.868552Z",
          "iopub.status.busy": "2023-09-02T19:00:09.868013Z",
          "iopub.status.idle": "2023-09-02T19:00:09.874318Z",
          "shell.execute_reply": "2023-09-02T19:00:09.873908Z"
        },
        "papermill": {
          "duration": 0.020631,
          "end_time": "2023-09-02T19:00:09.875516",
          "exception": false,
          "start_time": "2023-09-02T19:00:09.854885",
          "status": "completed"
        },
        "tags": []
      },
      "outputs": [],
      "source": [
        "wg_sdict: SDict = {\n",
        "    (\"in0\", \"out0\"): 0.5 + 0.86603j,\n",
        "    (\"out0\", \"in0\"): 0.5 + 0.86603j,\n",
        "}\n",
        "\n",
        "\u03c4, \u03ba = 0.5 ** 0.5, 1j * 0.5 ** 0.5\n",
        "dc_sdense: SDense = (\n",
        "    jnp.array([[0, 0, \u03c4, \u03ba], \n",
        "               [0, 0, \u03ba, \u03c4], \n",
        "               [\u03c4, \u03ba, 0, 0], \n",
        "               [\u03ba, \u03c4, 0, 0]]),\n",
        "    {\"out0\": 0, \"out1\": 1, \"in0\": 2, \"in1\": 3},\n",
        ")\n",
        "\n",
        "instances={\n",
        "    \"dc1\": dc_sdense,\n",
        "    \"wg\": wg_sdict,\n",
        "    \"dc2\": dc_sdense,\n",
        "}\n",
        "connections={\n",
        "    \"dc1,out0\": \"wg,in0\",\n",
        "    \"wg,out0\": \"dc2,in0\",\n",
        "    \"dc1,out1\": \"dc2,in1\",\n",
        "}\n",
        "ports={\n",
        "    \"in0\": \"dc1,in0\",\n",
        "    \"in1\": \"dc1,in1\",\n",
        "    \"out0\": \"dc2,out0\",\n",
        "    \"out1\": \"dc2,out1\",\n",
        "}"
      ]
    },
    {
      "cell_type": "markdown",
      "id": "1056b6af80f2c3fc",
      "metadata": {},
      "source": [
        ":::{eval-rst}\n",
        ".. autofunction:: sax.backends.klu.get_instance_ports\n",
        ":::\n"
      ]
    },
    {
      "cell_type": "code",
      "execution_count": 16,
      "id": "5c9599dbd1c81bd6",
      "metadata": {
        "execution": {
          "iopub.execute_input": "2023-09-02T19:00:09.901088Z",
          "iopub.status.busy": "2023-09-02T19:00:09.900573Z",
          "iopub.status.idle": "2023-09-02T19:00:09.904806Z",
          "shell.execute_reply": "2023-09-02T19:00:09.904408Z"
        },
        "papermill": {
          "duration": 0.01833,
          "end_time": "2023-09-02T19:00:09.905951",
          "exception": false,
          "start_time": "2023-09-02T19:00:09.887621",
          "status": "completed"
        },
        "tags": [
          "hide-input"
        ]
      },
      "outputs": [],
      "source": [
        "def get_instance_ports(connections: Dict[str, str], ports: Dict[str, str]):\n",
        "    instance_ports = {}\n",
        "    for connection in connections.items():\n",
        "        for ip in connection:\n",
        "            i, p = ip.split(\",\")\n",
        "            if not i in instance_ports:\n",
        "                instance_ports[i] = set()\n",
        "            instance_ports[i].add(p)\n",
        "    for ip in ports.values():\n",
        "        i, p = ip.split(\",\")\n",
        "        if not i in instance_ports:\n",
        "            instance_ports[i] = set()\n",
        "        instance_ports[i].add(p)\n",
        "    return {k: natsorted(v) for k, v in instance_ports.items()}"
      ]
    },
    {
      "cell_type": "markdown",
      "id": "1a10fa0182c91bdc",
      "metadata": {},
      "source": [
        ":::{eval-rst}\n",
        ".. autofunction:: sax.backends.klu.get_dummy_instances\n",
        ":::\n"
      ]
    },
    {
      "cell_type": "code",
      "execution_count": 17,
      "id": "6ef392b643a57b93",
      "metadata": {
        "execution": {
          "iopub.execute_input": "2023-09-02T19:00:09.932161Z",
          "iopub.status.busy": "2023-09-02T19:00:09.931555Z",
          "iopub.status.idle": "2023-09-02T19:00:09.935309Z",
          "shell.execute_reply": "2023-09-02T19:00:09.934946Z"
        },
        "papermill": {
          "duration": 0.018346,
          "end_time": "2023-09-02T19:00:09.936468",
          "exception": false,
          "start_time": "2023-09-02T19:00:09.918122",
          "status": "completed"
        },
        "tags": [
          "hide-input"
        ]
      },
      "outputs": [],
      "source": [
        "def get_dummy_instances(connections, ports):\n",
        "    instance_ports = get_instance_ports(connections, ports)\n",
        "    dummy_instances = {}\n",
        "    for name, ports in instance_ports.items():\n",
        "        num_ports = len(ports)\n",
        "        pm = {p: i for i, p in enumerate(ports)}\n",
        "        S = jnp.ones((num_ports, num_ports), dtype=complex)\n",
        "        dummy_instances[name] = (S, pm)\n",
        "    return dummy_instances"
      ]
    },
    {
      "cell_type": "code",
      "execution_count": 18,
      "id": "cca73fa1-f945-4846-82e1-8c2733db5ba5",
      "metadata": {
        "execution": {
          "iopub.execute_input": "2023-09-02T19:00:09.962205Z",
          "iopub.status.busy": "2023-09-02T19:00:09.961784Z",
          "iopub.status.idle": "2023-09-02T19:00:09.994855Z",
          "shell.execute_reply": "2023-09-02T19:00:09.994399Z"
        },
        "papermill": {
          "duration": 0.047222,
          "end_time": "2023-09-02T19:00:09.996004",
          "exception": false,
          "start_time": "2023-09-02T19:00:09.948782",
          "status": "completed"
        },
        "tags": []
      },
      "outputs": [
        {
          "data": {
            "text/plain": [
              "{'dc1': (Array([[1.+0.j, 1.+0.j, 1.+0.j, 1.+0.j],\n",
              "         [1.+0.j, 1.+0.j, 1.+0.j, 1.+0.j],\n",
              "         [1.+0.j, 1.+0.j, 1.+0.j, 1.+0.j],\n",
              "         [1.+0.j, 1.+0.j, 1.+0.j, 1.+0.j]], dtype=complex128),\n",
              "  {'in0': 0, 'in1': 1, 'out0': 2, 'out1': 3}),\n",
              " 'wg': (Array([[1.+0.j, 1.+0.j],\n",
              "         [1.+0.j, 1.+0.j]], dtype=complex128),\n",
              "  {'in0': 0, 'out0': 1}),\n",
              " 'dc2': (Array([[1.+0.j, 1.+0.j, 1.+0.j, 1.+0.j],\n",
              "         [1.+0.j, 1.+0.j, 1.+0.j, 1.+0.j],\n",
              "         [1.+0.j, 1.+0.j, 1.+0.j, 1.+0.j],\n",
              "         [1.+0.j, 1.+0.j, 1.+0.j, 1.+0.j]], dtype=complex128),\n",
              "  {'in0': 0, 'in1': 1, 'out0': 2, 'out1': 3})}"
            ]
          },
          "execution_count": 18,
          "metadata": {},
          "output_type": "execute_result"
        }
      ],
      "source": [
        "get_dummy_instances(connections, ports)"
      ]
    },
    {
      "cell_type": "markdown",
      "id": "bfe4c2a7de04fe35",
      "metadata": {},
      "source": [
        ":::{eval-rst}\n",
        ".. autofunction:: sax.backends.klu.analyze_circuit_klu\n",
        ":::\n"
      ]
    },
    {
      "cell_type": "code",
      "execution_count": 19,
      "id": "24aff71c733114c7",
      "metadata": {
        "execution": {
          "iopub.execute_input": "2023-09-02T19:00:10.022605Z",
          "iopub.status.busy": "2023-09-02T19:00:10.022192Z",
          "iopub.status.idle": "2023-09-02T19:00:10.030975Z",
          "shell.execute_reply": "2023-09-02T19:00:10.030560Z"
        },
        "papermill": {
          "duration": 0.023388,
          "end_time": "2023-09-02T19:00:10.032089",
          "exception": false,
          "start_time": "2023-09-02T19:00:10.008701",
          "status": "completed"
        },
        "tags": [
          "hide-input"
        ]
      },
      "outputs": [],
      "source": [
        "def analyze_circuit_klu(\n",
        "    connections: Dict[str, str],\n",
        "    ports: Dict[str, str],\n",
        ") -> Any:\n",
        "    connections = {**connections, **{v: k for k, v in connections.items()}}\n",
        "    instances = get_dummy_instances(connections, ports)\n",
        "    inverse_ports = {v: k for k, v in ports.items()}\n",
        "    port_map = {k: i for i, k in enumerate(ports)}\n",
        "\n",
        "    idx, Si, Sj, Sx, instance_ports = 0, [], [], [], {}\n",
        "    for name, instance in instances.items():\n",
        "        si, sj, sx, ports_map = scoo(instance)\n",
        "        Si.append(si + idx)\n",
        "        Sj.append(sj + idx)\n",
        "        Sx.append(sx)\n",
        "        instance_ports.update({f\"{name},{p}\": i + idx for p, i in ports_map.items()})\n",
        "        idx += len(ports_map)\n",
        "        \n",
        "    n_col = idx\n",
        "    n_rhs = len(port_map)\n",
        "    \n",
        "    Si = jnp.concatenate(Si, -1)\n",
        "    Sj = jnp.concatenate(Sj, -1)\n",
        "\n",
        "    Cmap = {int(instance_ports[k]): int(instance_ports[v]) for k, v in connections.items()} # fmt: skip\n",
        "    Ci = jnp.array(list(Cmap.keys()), dtype=jnp.int32)\n",
        "    Cj = jnp.array(list(Cmap.values()), dtype=jnp.int32)\n",
        "\n",
        "    Cextmap = {int(instance_ports[k]): int(port_map[v]) for k, v in inverse_ports.items()}\n",
        "    Cexti = jnp.stack(list(Cextmap.keys()), 0)\n",
        "    Cextj = jnp.stack(list(Cextmap.values()), 0)\n",
        "    Cext = jnp.zeros((n_col, n_rhs), dtype=complex).at[Cexti, Cextj].set(1.0)\n",
        "    \n",
        "    mask = Cj[None,:] == Si[:, None]\n",
        "    CSi = jnp.broadcast_to(Ci[None, :], mask.shape)[mask]\n",
        "    \n",
        "    mask = (Cj[:, None] == Si[None, :]).any(0)\n",
        "    CSj = Sj[mask]\n",
        "    \n",
        "    Ii = Ij = jnp.arange(n_col)\n",
        "    I_CSi = jnp.concatenate([CSi, Ii], -1)\n",
        "    I_CSj = jnp.concatenate([CSj, Ij], -1)\n",
        "    return n_col, mask, Si, Sj, Cext, Cexti, Cextj, I_CSi, I_CSj, tuple((k, v[1]) for k, v in instances.items()), tuple(port_map)"
      ]
    },
    {
      "cell_type": "markdown",
      "id": "8fc277a4-b258-4f44-bf61-e1aba7f64170",
      "metadata": {
        "papermill": {
          "duration": 0.012458,
          "end_time": "2023-09-02T19:00:10.056951",
          "exception": false,
          "start_time": "2023-09-02T19:00:10.044493",
          "status": "completed"
        },
        "tags": []
      },
      "source": [
        "## Circuit Evaluation"
      ]
    },
    {
      "cell_type": "markdown",
      "id": "b2e5ad578f76e424",
      "metadata": {},
      "source": [
        ":::{eval-rst}\n",
        ".. autofunction:: sax.backends.klu.evaluate_circuit_klu\n",
        ":::\n"
      ]
    },
    {
      "cell_type": "code",
      "execution_count": 20,
      "id": "fab9e644b90e9b5d",
      "metadata": {
        "execution": {
          "iopub.execute_input": "2023-09-02T19:00:10.083444Z",
          "iopub.status.busy": "2023-09-02T19:00:10.082872Z",
          "iopub.status.idle": "2023-09-02T19:00:10.089390Z",
          "shell.execute_reply": "2023-09-02T19:00:10.089034Z"
        },
        "papermill": {
          "duration": 0.021072,
          "end_time": "2023-09-02T19:00:10.090520",
          "exception": false,
          "start_time": "2023-09-02T19:00:10.069448",
          "status": "completed"
        },
        "tags": [
          "hide-input"
        ]
      },
      "outputs": [],
      "source": [
        "def evaluate_circuit_klu(analyzed: Any, instances: Dict[str, SType]) -> SDense:\n",
        "    n_col, mask, Si, Sj, Cext, Cexti, Cextj, I_CSi, I_CSj, dummy_pms, port_map = analyzed\n",
        "    \n",
        "    idx = 0\n",
        "    Sx = []\n",
        "    batch_shape = ()\n",
        "    for name, pm_ in dummy_pms:\n",
        "        S, pm = sdense(instances[name])\n",
        "        perm = [pm[k] for k in pm_]\n",
        "        S = S[..., perm, :][..., :, perm]\n",
        "        _, _, sx, ports_map = scoo((S, pm_))\n",
        "        Sx.append(sx)\n",
        "        if len(sx.shape[:-1]) > len(batch_shape):\n",
        "            batch_shape = sx.shape[:-1]\n",
        "        idx += len(ports_map)\n",
        "        \n",
        "    Sx = jnp.concatenate([jnp.broadcast_to(sx, (*batch_shape, sx.shape[-1])) for sx in Sx], -1) # fmt: skip\n",
        "    CSx = Sx[..., mask]\n",
        "    Ix = jnp.ones((*batch_shape, n_col))\n",
        "    I_CSx = jnp.concatenate([-CSx, Ix], -1)\n",
        "    \n",
        "    Sx = Sx.reshape(-1, Sx.shape[-1]) # n_lhs x N\n",
        "    I_CSx = I_CSx.reshape(-1, I_CSx.shape[-1]) # n_lhs x M\n",
        "    inv_I_CS_Cext = solve_klu(I_CSi, I_CSj, I_CSx, Cext)\n",
        "    S_inv_I_CS_Cext = mul_coo(Si, Sj, Sx, inv_I_CS_Cext)\n",
        "    \n",
        "    CextT_S_inv_I_CS_Cext = S_inv_I_CS_Cext[..., Cexti, :][..., :, Cextj]\n",
        "    \n",
        "    _, n, _ = CextT_S_inv_I_CS_Cext.shape\n",
        "    S = CextT_S_inv_I_CS_Cext.reshape(*batch_shape, n, n)\n",
        "\n",
        "    return S, {p: i for i, p in enumerate(port_map)}"
      ]
    },
    {
      "cell_type": "markdown",
      "id": "dce9d8ca",
      "metadata": {
        "papermill": {
          "duration": 0.012442,
          "end_time": "2023-09-02T19:00:10.115437",
          "exception": false,
          "start_time": "2023-09-02T19:00:10.102995",
          "status": "completed"
        },
        "tags": []
      },
      "source": [
        "## Example"
      ]
    },
    {
      "cell_type": "code",
      "execution_count": 21,
      "id": "e28521dd-aa9f-463c-820d-bd87789c64e5",
      "metadata": {
        "execution": {
          "iopub.execute_input": "2023-09-02T19:00:10.141794Z",
          "iopub.status.busy": "2023-09-02T19:00:10.141231Z",
          "iopub.status.idle": "2023-09-02T19:00:11.180486Z",
          "shell.execute_reply": "2023-09-02T19:00:11.179848Z"
        },
        "papermill": {
          "duration": 1.053795,
          "end_time": "2023-09-02T19:00:11.181740",
          "exception": false,
          "start_time": "2023-09-02T19:00:10.127945",
          "status": "completed"
        },
        "tags": []
      },
      "outputs": [
        {
          "name": "stdout",
          "output_type": "stream",
          "text": [
            "[[ 0.      +0.j        0.      +0.j       -0.25    +0.433015j\n",
            "  -0.433015+0.75j    ]\n",
            " [ 0.      +0.j        0.      +0.j       -0.433015+0.75j\n",
            "   0.25    -0.433015j]\n",
            " [-0.25    +0.433015j -0.433015+0.75j      0.      +0.j\n",
            "   0.      +0.j      ]\n",
            " [-0.433015+0.75j      0.25    -0.433015j  0.      +0.j\n",
            "   0.      +0.j      ]]\n",
            "{'in0': 0, 'in1': 1, 'out0': 2, 'out1': 3}\n"
          ]
        }
      ],
      "source": [
        "preprocessed = analyze_circuit_klu(connections, ports)\n",
        "S, pm = evaluate_circuit_klu(preprocessed, instances)\n",
        "print(S)\n",
        "print(pm)"
      ]
    },
    {
      "cell_type": "markdown",
      "id": "60b6d1e6",
      "metadata": {
        "papermill": {
          "duration": 0.01273,
          "end_time": "2023-09-02T19:00:11.207167",
          "exception": false,
          "start_time": "2023-09-02T19:00:11.194437",
          "status": "completed"
        },
        "tags": []
      },
      "source": [
        "the KLU backend yields `SDense` results by default:"
      ]
    },
    {
      "cell_type": "code",
      "execution_count": 22,
      "id": "ecc3115e",
      "metadata": {
        "execution": {
          "iopub.execute_input": "2023-09-02T19:00:11.233414Z",
          "iopub.status.busy": "2023-09-02T19:00:11.232881Z",
          "iopub.status.idle": "2023-09-02T19:00:11.236972Z",
          "shell.execute_reply": "2023-09-02T19:00:11.236653Z"
        },
        "papermill": {
          "duration": 0.018545,
          "end_time": "2023-09-02T19:00:11.238171",
          "exception": false,
          "start_time": "2023-09-02T19:00:11.219626",
          "status": "completed"
        },
        "tags": []
      },
      "outputs": [
        {
          "data": {
            "text/plain": [
              "(Array([[ 0.      +0.j      ,  0.      +0.j      , -0.25    +0.433015j,\n",
              "         -0.433015+0.75j    ],\n",
              "        [ 0.      +0.j      ,  0.      +0.j      , -0.433015+0.75j    ,\n",
              "          0.25    -0.433015j],\n",
              "        [-0.25    +0.433015j, -0.433015+0.75j    ,  0.      +0.j      ,\n",
              "          0.      +0.j      ],\n",
              "        [-0.433015+0.75j    ,  0.25    -0.433015j,  0.      +0.j      ,\n",
              "          0.      +0.j      ]], dtype=complex128),\n",
              " {'in0': 0, 'in1': 1, 'out0': 2, 'out1': 3})"
            ]
          },
          "execution_count": 22,
          "metadata": {},
          "output_type": "execute_result"
        }
      ],
      "source": [
        "mzi_sdense = (S, pm)\n",
        "mzi_sdense"
      ]
    },
    {
      "cell_type": "markdown",
      "id": "4b8e87f3",
      "metadata": {
        "papermill": {
          "duration": 0.013001,
          "end_time": "2023-09-02T19:00:11.263869",
          "exception": false,
          "start_time": "2023-09-02T19:00:11.250868",
          "status": "completed"
        },
        "tags": []
      },
      "source": [
        "An `SDense` is returned for perfomance reasons. By returning an `SDense` by default we prevent any internal `SDict -> SDense` conversions in deeply hierarchical circuits. It's however very easy to convert `SDense` to `SDict` as a final step. To do this, wrap the result (or the function generating the result) with `sdict`:"
      ]
    },
    {
      "cell_type": "code",
      "execution_count": 23,
      "id": "7202ab1e",
      "metadata": {
        "execution": {
          "iopub.execute_input": "2023-09-02T19:00:11.290383Z",
          "iopub.status.busy": "2023-09-02T19:00:11.289746Z",
          "iopub.status.idle": "2023-09-02T19:00:11.342148Z",
          "shell.execute_reply": "2023-09-02T19:00:11.341724Z"
        },
        "papermill": {
          "duration": 0.066934,
          "end_time": "2023-09-02T19:00:11.343334",
          "exception": false,
          "start_time": "2023-09-02T19:00:11.276400",
          "status": "completed"
        },
        "tags": []
      },
      "outputs": [
        {
          "data": {
            "text/plain": [
              "{('in0', 'in0'): Array(0.+0.j, dtype=complex128),\n",
              " ('in0', 'in1'): Array(0.+0.j, dtype=complex128),\n",
              " ('in0', 'out0'): Array(-0.25+0.433015j, dtype=complex128),\n",
              " ('in0', 'out1'): Array(-0.433015+0.75j, dtype=complex128),\n",
              " ('in1', 'in0'): Array(0.+0.j, dtype=complex128),\n",
              " ('in1', 'in1'): Array(0.+0.j, dtype=complex128),\n",
              " ('in1', 'out0'): Array(-0.433015+0.75j, dtype=complex128),\n",
              " ('in1', 'out1'): Array(0.25-0.433015j, dtype=complex128),\n",
              " ('out0', 'in0'): Array(-0.25+0.433015j, dtype=complex128),\n",
              " ('out0', 'in1'): Array(-0.433015+0.75j, dtype=complex128),\n",
              " ('out0', 'out0'): Array(0.+0.j, dtype=complex128),\n",
              " ('out0', 'out1'): Array(0.+0.j, dtype=complex128),\n",
              " ('out1', 'in0'): Array(-0.433015+0.75j, dtype=complex128),\n",
              " ('out1', 'in1'): Array(0.25-0.433015j, dtype=complex128),\n",
              " ('out1', 'out0'): Array(0.+0.j, dtype=complex128),\n",
              " ('out1', 'out1'): Array(0.+0.j, dtype=complex128)}"
            ]
          },
          "execution_count": 23,
          "metadata": {},
          "output_type": "execute_result"
        }
      ],
      "source": [
        "sax.sdict(mzi_sdense)"
      ]
    },
    {
      "cell_type": "markdown",
      "id": "9f8cd5ea",
      "metadata": {
        "papermill": {
          "duration": 0.012742,
          "end_time": "2023-09-02T19:00:11.368911",
          "exception": false,
          "start_time": "2023-09-02T19:00:11.356169",
          "status": "completed"
        },
        "tags": []
      },
      "source": [
        "## Algorithm Walkthrough"
      ]
    },
    {
      "cell_type": "markdown",
      "id": "b5bf5188",
      "metadata": {
        "papermill": {
          "duration": 0.012663,
          "end_time": "2023-09-02T19:00:11.394398",
          "exception": false,
          "start_time": "2023-09-02T19:00:11.381735",
          "status": "completed"
        },
        "tags": []
      },
      "source": [
        "Let's first enforce $C^T = C$:"
      ]
    },
    {
      "cell_type": "code",
      "execution_count": 24,
      "id": "6d7d4c39",
      "metadata": {
        "execution": {
          "iopub.execute_input": "2023-09-02T19:00:11.420952Z",
          "iopub.status.busy": "2023-09-02T19:00:11.420514Z",
          "iopub.status.idle": "2023-09-02T19:00:11.424314Z",
          "shell.execute_reply": "2023-09-02T19:00:11.423994Z"
        },
        "papermill": {
          "duration": 0.018289,
          "end_time": "2023-09-02T19:00:11.425323",
          "exception": false,
          "start_time": "2023-09-02T19:00:11.407034",
          "status": "completed"
        },
        "tags": []
      },
      "outputs": [
        {
          "data": {
            "text/plain": [
              "{'dc1,out0': 'wg,in0',\n",
              " 'wg,out0': 'dc2,in0',\n",
              " 'dc1,out1': 'dc2,in1',\n",
              " 'wg,in0': 'dc1,out0',\n",
              " 'dc2,in0': 'wg,out0',\n",
              " 'dc2,in1': 'dc1,out1'}"
            ]
          },
          "execution_count": 24,
          "metadata": {},
          "output_type": "execute_result"
        }
      ],
      "source": [
        "connections = {**connections, **{v: k for k, v in connections.items()}}\n",
        "connections"
      ]
    },
    {
      "cell_type": "markdown",
      "id": "a41250ec",
      "metadata": {
        "papermill": {
          "duration": 0.012732,
          "end_time": "2023-09-02T19:00:11.450869",
          "exception": false,
          "start_time": "2023-09-02T19:00:11.438137",
          "status": "completed"
        },
        "tags": []
      },
      "source": [
        "We'll also need the reversed ports:"
      ]
    },
    {
      "cell_type": "code",
      "execution_count": 25,
      "id": "9a70463f",
      "metadata": {
        "execution": {
          "iopub.execute_input": "2023-09-02T19:00:11.477927Z",
          "iopub.status.busy": "2023-09-02T19:00:11.477350Z",
          "iopub.status.idle": "2023-09-02T19:00:11.480945Z",
          "shell.execute_reply": "2023-09-02T19:00:11.480638Z"
        },
        "papermill": {
          "duration": 0.018377,
          "end_time": "2023-09-02T19:00:11.482046",
          "exception": false,
          "start_time": "2023-09-02T19:00:11.463669",
          "status": "completed"
        },
        "tags": []
      },
      "outputs": [
        {
          "data": {
            "text/plain": [
              "{'dc1,in0': 'in0', 'dc1,in1': 'in1', 'dc2,out0': 'out0', 'dc2,out1': 'out1'}"
            ]
          },
          "execution_count": 25,
          "metadata": {},
          "output_type": "execute_result"
        }
      ],
      "source": [
        "inverse_ports = {v: k for k, v in ports.items()}\n",
        "inverse_ports"
      ]
    },
    {
      "cell_type": "markdown",
      "id": "1e96443b",
      "metadata": {
        "papermill": {
          "duration": 0.013106,
          "end_time": "2023-09-02T19:00:11.508242",
          "exception": false,
          "start_time": "2023-09-02T19:00:11.495136",
          "status": "completed"
        },
        "tags": []
      },
      "source": [
        "An the port indices"
      ]
    },
    {
      "cell_type": "code",
      "execution_count": 26,
      "id": "8e18d182",
      "metadata": {
        "execution": {
          "iopub.execute_input": "2023-09-02T19:00:11.535470Z",
          "iopub.status.busy": "2023-09-02T19:00:11.534918Z",
          "iopub.status.idle": "2023-09-02T19:00:11.538535Z",
          "shell.execute_reply": "2023-09-02T19:00:11.538225Z"
        },
        "papermill": {
          "duration": 0.018547,
          "end_time": "2023-09-02T19:00:11.539693",
          "exception": false,
          "start_time": "2023-09-02T19:00:11.521146",
          "status": "completed"
        },
        "tags": []
      },
      "outputs": [
        {
          "data": {
            "text/plain": [
              "{'in0': 0, 'in1': 1, 'out0': 2, 'out1': 3}"
            ]
          },
          "execution_count": 26,
          "metadata": {},
          "output_type": "execute_result"
        }
      ],
      "source": [
        "port_map = {k: i for i, k in enumerate(ports)}\n",
        "port_map"
      ]
    },
    {
      "cell_type": "markdown",
      "id": "70924074",
      "metadata": {
        "papermill": {
          "duration": 0.013016,
          "end_time": "2023-09-02T19:00:11.565771",
          "exception": false,
          "start_time": "2023-09-02T19:00:11.552755",
          "status": "completed"
        },
        "tags": []
      },
      "source": [
        "Let's now create the COO-representation of our block diagonal S-matrix $S_{bd}$:"
      ]
    },
    {
      "cell_type": "code",
      "execution_count": 27,
      "id": "835deb8f",
      "metadata": {
        "execution": {
          "iopub.execute_input": "2023-09-02T19:00:11.593097Z",
          "iopub.status.busy": "2023-09-02T19:00:11.592582Z",
          "iopub.status.idle": "2023-09-02T19:00:11.648699Z",
          "shell.execute_reply": "2023-09-02T19:00:11.648364Z"
        },
        "papermill": {
          "duration": 0.071096,
          "end_time": "2023-09-02T19:00:11.649872",
          "exception": false,
          "start_time": "2023-09-02T19:00:11.578776",
          "status": "completed"
        },
        "tags": []
      },
      "outputs": [
        {
          "name": "stdout",
          "output_type": "stream",
          "text": [
            "[0 0 0 0 1 1 1 1 2 2 2 2 3 3 3 3 4 5 6 6 6 6 7 7 7 7 8 8 8 8 9 9 9 9]\n",
            "[0 1 2 3 0 1 2 3 0 1 2 3 0 1 2 3 5 4 6 7 8 9 6 7 8 9 6 7 8 9 6 7 8 9]\n",
            "[0.        +0.j         0.        +0.j         0.70710678+0.j\n",
            " 0.        +0.70710678j 0.        +0.j         0.        +0.j\n",
            " 0.        +0.70710678j 0.70710678+0.j         0.70710678+0.j\n",
            " 0.        +0.70710678j 0.        +0.j         0.        +0.j\n",
            " 0.        +0.70710678j 0.70710678+0.j         0.        +0.j\n",
            " 0.        +0.j         0.5       +0.86603j    0.5       +0.86603j\n",
            " 0.        +0.j         0.        +0.j         0.70710678+0.j\n",
            " 0.        +0.70710678j 0.        +0.j         0.        +0.j\n",
            " 0.        +0.70710678j 0.70710678+0.j         0.70710678+0.j\n",
            " 0.        +0.70710678j 0.        +0.j         0.        +0.j\n",
            " 0.        +0.70710678j 0.70710678+0.j         0.        +0.j\n",
            " 0.        +0.j        ]\n"
          ]
        }
      ],
      "source": [
        "idx, Si, Sj, Sx, instance_ports = 0, [], [], [], {}\n",
        "batch_shape = ()\n",
        "for name, instance in instances.items():\n",
        "    si, sj, sx, ports_map = scoo(instance)\n",
        "    Si.append(si + idx)\n",
        "    Sj.append(sj + idx)\n",
        "    Sx.append(sx)\n",
        "    if len(sx.shape[:-1]) > len(batch_shape):\n",
        "        batch_shape = sx.shape[:-1]\n",
        "    instance_ports.update({f\"{name},{p}\": i + idx for p, i in ports_map.items()})\n",
        "    idx += len(ports_map)\n",
        "Si = jnp.concatenate(Si, -1)\n",
        "Sj = jnp.concatenate(Sj, -1)\n",
        "Sx = jnp.concatenate([jnp.broadcast_to(sx, (*batch_shape, sx.shape[-1])) for sx in Sx], -1)\n",
        "\n",
        "print(Si)\n",
        "print(Sj)\n",
        "print(Sx)"
      ]
    },
    {
      "cell_type": "markdown",
      "id": "a8edefa1",
      "metadata": {
        "papermill": {
          "duration": 0.013481,
          "end_time": "2023-09-02T19:00:11.676951",
          "exception": false,
          "start_time": "2023-09-02T19:00:11.663470",
          "status": "completed"
        },
        "tags": []
      },
      "source": [
        "note that we also kept track of the `batch_shape`, i.e. the number of independent simulations (usually number of wavelengths). In the example being used here we don't have a batch dimension (all elements of the `SDict` are `0D`):"
      ]
    },
    {
      "cell_type": "code",
      "execution_count": 28,
      "id": "7513759a",
      "metadata": {
        "execution": {
          "iopub.execute_input": "2023-09-02T19:00:11.704883Z",
          "iopub.status.busy": "2023-09-02T19:00:11.704300Z",
          "iopub.status.idle": "2023-09-02T19:00:11.707611Z",
          "shell.execute_reply": "2023-09-02T19:00:11.707298Z"
        },
        "papermill": {
          "duration": 0.018624,
          "end_time": "2023-09-02T19:00:11.708843",
          "exception": false,
          "start_time": "2023-09-02T19:00:11.690219",
          "status": "completed"
        },
        "tags": []
      },
      "outputs": [
        {
          "data": {
            "text/plain": [
              "()"
            ]
          },
          "execution_count": 28,
          "metadata": {},
          "output_type": "execute_result"
        }
      ],
      "source": [
        "batch_shape"
      ]
    },
    {
      "cell_type": "markdown",
      "id": "c63b14d7",
      "metadata": {
        "papermill": {
          "duration": 0.013158,
          "end_time": "2023-09-02T19:00:11.735260",
          "exception": false,
          "start_time": "2023-09-02T19:00:11.722102",
          "status": "completed"
        },
        "tags": []
      },
      "source": [
        "We'll also keep track of the number of columns"
      ]
    },
    {
      "cell_type": "code",
      "execution_count": 29,
      "id": "89000432",
      "metadata": {
        "execution": {
          "iopub.execute_input": "2023-09-02T19:00:11.762846Z",
          "iopub.status.busy": "2023-09-02T19:00:11.762504Z",
          "iopub.status.idle": "2023-09-02T19:00:11.765640Z",
          "shell.execute_reply": "2023-09-02T19:00:11.765326Z"
        },
        "papermill": {
          "duration": 0.018304,
          "end_time": "2023-09-02T19:00:11.766735",
          "exception": false,
          "start_time": "2023-09-02T19:00:11.748431",
          "status": "completed"
        },
        "tags": []
      },
      "outputs": [
        {
          "data": {
            "text/plain": [
              "10"
            ]
          },
          "execution_count": 29,
          "metadata": {},
          "output_type": "execute_result"
        }
      ],
      "source": [
        "n_col = idx\n",
        "n_col"
      ]
    },
    {
      "cell_type": "markdown",
      "id": "7b0f95da",
      "metadata": {
        "papermill": {
          "duration": 0.013416,
          "end_time": "2023-09-02T19:00:11.793635",
          "exception": false,
          "start_time": "2023-09-02T19:00:11.780219",
          "status": "completed"
        },
        "tags": []
      },
      "source": [
        "And we'll need to solve the circuit for each output port, i.e. we need to solve `n_rhs` number of equations:"
      ]
    },
    {
      "cell_type": "code",
      "execution_count": 30,
      "id": "27902354",
      "metadata": {
        "execution": {
          "iopub.execute_input": "2023-09-02T19:00:11.821549Z",
          "iopub.status.busy": "2023-09-02T19:00:11.821020Z",
          "iopub.status.idle": "2023-09-02T19:00:11.824304Z",
          "shell.execute_reply": "2023-09-02T19:00:11.824009Z"
        },
        "papermill": {
          "duration": 0.018633,
          "end_time": "2023-09-02T19:00:11.825532",
          "exception": false,
          "start_time": "2023-09-02T19:00:11.806899",
          "status": "completed"
        },
        "tags": []
      },
      "outputs": [
        {
          "data": {
            "text/plain": [
              "4"
            ]
          },
          "execution_count": 30,
          "metadata": {},
          "output_type": "execute_result"
        }
      ],
      "source": [
        "n_rhs = len(port_map)\n",
        "n_rhs"
      ]
    },
    {
      "cell_type": "markdown",
      "id": "05056b46",
      "metadata": {
        "papermill": {
          "duration": 0.013388,
          "end_time": "2023-09-02T19:00:11.852436",
          "exception": false,
          "start_time": "2023-09-02T19:00:11.839048",
          "status": "completed"
        },
        "tags": []
      },
      "source": [
        "We can represent the internal connection matrix $C_{int}$ as a mapping between port indices:"
      ]
    },
    {
      "cell_type": "code",
      "execution_count": 31,
      "id": "f3ff1fa7",
      "metadata": {
        "execution": {
          "iopub.execute_input": "2023-09-02T19:00:11.880552Z",
          "iopub.status.busy": "2023-09-02T19:00:11.880129Z",
          "iopub.status.idle": "2023-09-02T19:00:11.883999Z",
          "shell.execute_reply": "2023-09-02T19:00:11.883665Z"
        },
        "papermill": {
          "duration": 0.01918,
          "end_time": "2023-09-02T19:00:11.885084",
          "exception": false,
          "start_time": "2023-09-02T19:00:11.865904",
          "status": "completed"
        },
        "tags": []
      },
      "outputs": [
        {
          "data": {
            "text/plain": [
              "{0: 4, 5: 8, 1: 9, 4: 0, 8: 5, 9: 1}"
            ]
          },
          "execution_count": 31,
          "metadata": {},
          "output_type": "execute_result"
        }
      ],
      "source": [
        "Cmap = {int(instance_ports[k]): int(instance_ports[v]) for k, v in connections.items()}\n",
        "Cmap"
      ]
    },
    {
      "cell_type": "markdown",
      "id": "999164af",
      "metadata": {
        "papermill": {
          "duration": 0.013706,
          "end_time": "2023-09-02T19:00:11.912717",
          "exception": false,
          "start_time": "2023-09-02T19:00:11.899011",
          "status": "completed"
        },
        "tags": []
      },
      "source": [
        "Therefore, the COO-representation of this connection matrix can be obtained as follows (note that an array of values Cx is not necessary, all non-zero elements in a connection matrix are 1)"
      ]
    },
    {
      "cell_type": "code",
      "execution_count": 32,
      "id": "9e4f1728",
      "metadata": {
        "execution": {
          "iopub.execute_input": "2023-09-02T19:00:11.941286Z",
          "iopub.status.busy": "2023-09-02T19:00:11.940871Z",
          "iopub.status.idle": "2023-09-02T19:00:11.945328Z",
          "shell.execute_reply": "2023-09-02T19:00:11.944916Z"
        },
        "papermill": {
          "duration": 0.020154,
          "end_time": "2023-09-02T19:00:11.946437",
          "exception": false,
          "start_time": "2023-09-02T19:00:11.926283",
          "status": "completed"
        },
        "tags": []
      },
      "outputs": [
        {
          "name": "stdout",
          "output_type": "stream",
          "text": [
            "[0 5 1 4 8 9]\n",
            "[4 8 9 0 5 1]\n"
          ]
        }
      ],
      "source": [
        "Ci = jnp.array(list(Cmap.keys()), dtype=jnp.int32)\n",
        "Cj = jnp.array(list(Cmap.values()), dtype=jnp.int32)\n",
        "print(Ci)\n",
        "print(Cj)"
      ]
    },
    {
      "cell_type": "markdown",
      "id": "47d5ed60",
      "metadata": {
        "papermill": {
          "duration": 0.013545,
          "end_time": "2023-09-02T19:00:11.973634",
          "exception": false,
          "start_time": "2023-09-02T19:00:11.960089",
          "status": "completed"
        },
        "tags": []
      },
      "source": [
        "We can represent the external connection matrix $C_{ext}$ as a map between internal port indices and external port indices:"
      ]
    },
    {
      "cell_type": "code",
      "execution_count": 33,
      "id": "f56ae166",
      "metadata": {
        "execution": {
          "iopub.execute_input": "2023-09-02T19:00:12.002222Z",
          "iopub.status.busy": "2023-09-02T19:00:12.001674Z",
          "iopub.status.idle": "2023-09-02T19:00:12.005562Z",
          "shell.execute_reply": "2023-09-02T19:00:12.005154Z"
        },
        "papermill": {
          "duration": 0.019459,
          "end_time": "2023-09-02T19:00:12.006691",
          "exception": false,
          "start_time": "2023-09-02T19:00:11.987232",
          "status": "completed"
        },
        "tags": []
      },
      "outputs": [
        {
          "data": {
            "text/plain": [
              "{2: 0, 3: 1, 6: 2, 7: 3}"
            ]
          },
          "execution_count": 33,
          "metadata": {},
          "output_type": "execute_result"
        }
      ],
      "source": [
        "Cextmap = {int(instance_ports[k]): int(port_map[v]) for k, v in inverse_ports.items()}\n",
        "Cextmap"
      ]
    },
    {
      "cell_type": "markdown",
      "id": "2485c01d",
      "metadata": {
        "papermill": {
          "duration": 0.01395,
          "end_time": "2023-09-02T19:00:12.034540",
          "exception": false,
          "start_time": "2023-09-02T19:00:12.020590",
          "status": "completed"
        },
        "tags": []
      },
      "source": [
        "Just as for the internal matrix we can represent this external connection matrix in COO-format:"
      ]
    },
    {
      "cell_type": "code",
      "execution_count": 34,
      "id": "cfb419ac",
      "metadata": {
        "execution": {
          "iopub.execute_input": "2023-09-02T19:00:12.063570Z",
          "iopub.status.busy": "2023-09-02T19:00:12.062997Z",
          "iopub.status.idle": "2023-09-02T19:00:12.068475Z",
          "shell.execute_reply": "2023-09-02T19:00:12.068024Z"
        },
        "papermill": {
          "duration": 0.021274,
          "end_time": "2023-09-02T19:00:12.069617",
          "exception": false,
          "start_time": "2023-09-02T19:00:12.048343",
          "status": "completed"
        },
        "tags": []
      },
      "outputs": [
        {
          "name": "stdout",
          "output_type": "stream",
          "text": [
            "[2 3 6 7]\n",
            "[0 1 2 3]\n"
          ]
        }
      ],
      "source": [
        "Cexti = jnp.stack(list(Cextmap.keys()), 0)\n",
        "Cextj = jnp.stack(list(Cextmap.values()), 0)\n",
        "print(Cexti)\n",
        "print(Cextj)"
      ]
    },
    {
      "cell_type": "markdown",
      "id": "e46d609c",
      "metadata": {
        "papermill": {
          "duration": 0.013826,
          "end_time": "2023-09-02T19:00:12.097380",
          "exception": false,
          "start_time": "2023-09-02T19:00:12.083554",
          "status": "completed"
        },
        "tags": []
      },
      "source": [
        "However, we actually need it as a dense representation:\n",
        "\n",
        "> help needed: can we find a way later on to keep this sparse?"
      ]
    },
    {
      "cell_type": "code",
      "execution_count": 35,
      "id": "25c4ec6e",
      "metadata": {
        "execution": {
          "iopub.execute_input": "2023-09-02T19:00:12.126408Z",
          "iopub.status.busy": "2023-09-02T19:00:12.125974Z",
          "iopub.status.idle": "2023-09-02T19:00:12.133706Z",
          "shell.execute_reply": "2023-09-02T19:00:12.133298Z"
        },
        "papermill": {
          "duration": 0.023603,
          "end_time": "2023-09-02T19:00:12.134885",
          "exception": false,
          "start_time": "2023-09-02T19:00:12.111282",
          "status": "completed"
        },
        "tags": []
      },
      "outputs": [
        {
          "data": {
            "text/plain": [
              "Array([[0.+0.j, 0.+0.j, 0.+0.j, 0.+0.j],\n",
              "       [0.+0.j, 0.+0.j, 0.+0.j, 0.+0.j],\n",
              "       [1.+0.j, 0.+0.j, 0.+0.j, 0.+0.j],\n",
              "       [0.+0.j, 1.+0.j, 0.+0.j, 0.+0.j],\n",
              "       [0.+0.j, 0.+0.j, 0.+0.j, 0.+0.j],\n",
              "       [0.+0.j, 0.+0.j, 0.+0.j, 0.+0.j],\n",
              "       [0.+0.j, 0.+0.j, 1.+0.j, 0.+0.j],\n",
              "       [0.+0.j, 0.+0.j, 0.+0.j, 1.+0.j],\n",
              "       [0.+0.j, 0.+0.j, 0.+0.j, 0.+0.j],\n",
              "       [0.+0.j, 0.+0.j, 0.+0.j, 0.+0.j]], dtype=complex128)"
            ]
          },
          "execution_count": 35,
          "metadata": {},
          "output_type": "execute_result"
        }
      ],
      "source": [
        "Cext = jnp.zeros((n_col, n_rhs), dtype=complex).at[Cexti, Cextj].set(1.0)\n",
        "Cext"
      ]
    },
    {
      "cell_type": "markdown",
      "id": "b31cc279",
      "metadata": {
        "papermill": {
          "duration": 0.014027,
          "end_time": "2023-09-02T19:00:12.163067",
          "exception": false,
          "start_time": "2023-09-02T19:00:12.149040",
          "status": "completed"
        },
        "tags": []
      },
      "source": [
        "We'll now calculate the row index `CSi` of $C_{int}S_{bd}$ in COO-format:"
      ]
    },
    {
      "cell_type": "code",
      "execution_count": 36,
      "id": "f7cf9f9e058717aa",
      "metadata": {
        "execution": {
          "iopub.execute_input": "2023-09-02T19:00:12.192331Z",
          "iopub.status.busy": "2023-09-02T19:00:12.191787Z",
          "iopub.status.idle": "2023-09-02T19:00:12.338209Z",
          "shell.execute_reply": "2023-09-02T19:00:12.337733Z"
        },
        "papermill": {
          "duration": 0.162446,
          "end_time": "2023-09-02T19:00:12.339447",
          "exception": false,
          "start_time": "2023-09-02T19:00:12.177001",
          "status": "completed"
        },
        "tags": []
      },
      "outputs": [
        {
          "data": {
            "text/plain": [
              "Array([4, 4, 4, 4, 9, 9, 9, 9, 0, 8, 5, 5, 5, 5, 1, 1, 1, 1], dtype=int32)"
            ]
          },
          "execution_count": 36,
          "metadata": {},
          "output_type": "execute_result"
        }
      ],
      "source": [
        "# TODO: make this block jittable...\n",
        "Ix = jnp.ones((*batch_shape, n_col))\n",
        "Ii = Ij = jnp.arange(n_col)\n",
        "mask = Cj[None,:] == Si[:, None]\n",
        "CSi = jnp.broadcast_to(Ci[None, :], mask.shape)[mask]\n",
        "CSi"
      ]
    },
    {
      "cell_type": "markdown",
      "id": "a2657582",
      "metadata": {
        "papermill": {
          "duration": 0.014158,
          "end_time": "2023-09-02T19:00:12.367954",
          "exception": false,
          "start_time": "2023-09-02T19:00:12.353796",
          "status": "completed"
        },
        "tags": []
      },
      "source": [
        "> `CSi`: possible jittable alternative? how do we remove the zeros?"
      ]
    },
    {
      "cell_type": "code",
      "execution_count": 37,
      "id": "d4ea2cb5",
      "metadata": {
        "execution": {
          "iopub.execute_input": "2023-09-02T19:00:12.397490Z",
          "iopub.status.busy": "2023-09-02T19:00:12.397124Z",
          "iopub.status.idle": "2023-09-02T19:00:12.439314Z",
          "shell.execute_reply": "2023-09-02T19:00:12.438876Z"
        },
        "papermill": {
          "duration": 0.058511,
          "end_time": "2023-09-02T19:00:12.440550",
          "exception": false,
          "start_time": "2023-09-02T19:00:12.382039",
          "status": "completed"
        },
        "tags": []
      },
      "outputs": [
        {
          "data": {
            "text/plain": [
              "Array([4, 4, 4, 4, 9, 9, 9, 9, 0, 0, 0, 0, 0, 0, 0, 0, 0, 8, 0, 0, 0, 0,\n",
              "       0, 0, 0, 0, 5, 5, 5, 5, 1, 1, 1, 1], dtype=int64)"
            ]
          },
          "execution_count": 37,
          "metadata": {},
          "output_type": "execute_result"
        }
      ],
      "source": [
        "CSi_ = jnp.where(Cj[None, :] == Si[:, None], Ci[None, :], 0).sum(1) # not used\n",
        "CSi_ # not used"
      ]
    },
    {
      "cell_type": "markdown",
      "id": "44fc620e",
      "metadata": {
        "papermill": {
          "duration": 0.014365,
          "end_time": "2023-09-02T19:00:12.469592",
          "exception": false,
          "start_time": "2023-09-02T19:00:12.455227",
          "status": "completed"
        },
        "tags": []
      },
      "source": [
        "The column index `CSj` of $C_{int}S_{bd}$ can more easily be obtained:"
      ]
    },
    {
      "cell_type": "code",
      "execution_count": 38,
      "id": "f71fdd7c",
      "metadata": {
        "execution": {
          "iopub.execute_input": "2023-09-02T19:00:12.499515Z",
          "iopub.status.busy": "2023-09-02T19:00:12.499073Z",
          "iopub.status.idle": "2023-09-02T19:00:12.565042Z",
          "shell.execute_reply": "2023-09-02T19:00:12.564649Z"
        },
        "papermill": {
          "duration": 0.082715,
          "end_time": "2023-09-02T19:00:12.566551",
          "exception": false,
          "start_time": "2023-09-02T19:00:12.483836",
          "status": "completed"
        },
        "tags": []
      },
      "outputs": [
        {
          "data": {
            "text/plain": [
              "Array([0, 1, 2, 3, 0, 1, 2, 3, 5, 4, 6, 7, 8, 9, 6, 7, 8, 9], dtype=int64)"
            ]
          },
          "execution_count": 38,
          "metadata": {},
          "output_type": "execute_result"
        }
      ],
      "source": [
        "mask = (Cj[:, None] == Si[None, :]).any(0)\n",
        "CSj = Sj[mask]\n",
        "CSj"
      ]
    },
    {
      "cell_type": "markdown",
      "id": "99bf7684",
      "metadata": {
        "papermill": {
          "duration": 0.014485,
          "end_time": "2023-09-02T19:00:12.595638",
          "exception": false,
          "start_time": "2023-09-02T19:00:12.581153",
          "status": "completed"
        },
        "tags": []
      },
      "source": [
        "> `CSj`: possible jittable alternative? how do we remove the zeros?"
      ]
    },
    {
      "cell_type": "code",
      "execution_count": 39,
      "id": "ffa7bc82",
      "metadata": {
        "execution": {
          "iopub.execute_input": "2023-09-02T19:00:12.626623Z",
          "iopub.status.busy": "2023-09-02T19:00:12.626108Z",
          "iopub.status.idle": "2023-09-02T19:00:12.648482Z",
          "shell.execute_reply": "2023-09-02T19:00:12.648050Z"
        },
        "papermill": {
          "duration": 0.03925,
          "end_time": "2023-09-02T19:00:12.649583",
          "exception": false,
          "start_time": "2023-09-02T19:00:12.610333",
          "status": "completed"
        },
        "tags": []
      },
      "outputs": [
        {
          "data": {
            "text/plain": [
              "Array([0, 1, 2, 3, 0, 1, 2, 3, 0, 0, 0, 0, 0, 0, 0, 0, 5, 4, 0, 0, 0, 0,\n",
              "       0, 0, 0, 0, 6, 7, 8, 9, 6, 7, 8, 9], dtype=int64)"
            ]
          },
          "execution_count": 39,
          "metadata": {},
          "output_type": "execute_result"
        }
      ],
      "source": [
        "CSj_ = jnp.where(mask, Sj, 0) # not used\n",
        "CSj_ # not used"
      ]
    },
    {
      "cell_type": "markdown",
      "id": "e0fc6d02",
      "metadata": {
        "papermill": {
          "duration": 0.014656,
          "end_time": "2023-09-02T19:00:12.678967",
          "exception": false,
          "start_time": "2023-09-02T19:00:12.664311",
          "status": "completed"
        },
        "tags": []
      },
      "source": [
        "Finally, the values `CSx` of $C_{int}S_{bd}$ can be obtained as follows:"
      ]
    },
    {
      "cell_type": "code",
      "execution_count": 40,
      "id": "59d2e1b2",
      "metadata": {
        "execution": {
          "iopub.execute_input": "2023-09-02T19:00:12.709483Z",
          "iopub.status.busy": "2023-09-02T19:00:12.709003Z",
          "iopub.status.idle": "2023-09-02T19:00:12.733122Z",
          "shell.execute_reply": "2023-09-02T19:00:12.732649Z"
        },
        "papermill": {
          "duration": 0.040699,
          "end_time": "2023-09-02T19:00:12.734244",
          "exception": false,
          "start_time": "2023-09-02T19:00:12.693545",
          "status": "completed"
        },
        "tags": []
      },
      "outputs": [
        {
          "data": {
            "text/plain": [
              "Array([0.        +0.j        , 0.        +0.j        ,\n",
              "       0.70710678+0.j        , 0.        +0.70710678j,\n",
              "       0.        +0.j        , 0.        +0.j        ,\n",
              "       0.        +0.70710678j, 0.70710678+0.j        ,\n",
              "       0.5       +0.86603j   , 0.5       +0.86603j   ,\n",
              "       0.70710678+0.j        , 0.        +0.70710678j,\n",
              "       0.        +0.j        , 0.        +0.j        ,\n",
              "       0.        +0.70710678j, 0.70710678+0.j        ,\n",
              "       0.        +0.j        , 0.        +0.j        ], dtype=complex128)"
            ]
          },
          "execution_count": 40,
          "metadata": {},
          "output_type": "execute_result"
        }
      ],
      "source": [
        "CSx = Sx[..., mask]\n",
        "CSx"
      ]
    },
    {
      "cell_type": "markdown",
      "id": "c02035bd",
      "metadata": {
        "papermill": {
          "duration": 0.015022,
          "end_time": "2023-09-02T19:00:12.764296",
          "exception": false,
          "start_time": "2023-09-02T19:00:12.749274",
          "status": "completed"
        },
        "tags": []
      },
      "source": [
        "> `CSx`: possible jittable alternative? how do we remove the zeros?"
      ]
    },
    {
      "cell_type": "code",
      "execution_count": 41,
      "id": "107e9e80",
      "metadata": {
        "execution": {
          "iopub.execute_input": "2023-09-02T19:00:12.795148Z",
          "iopub.status.busy": "2023-09-02T19:00:12.794566Z",
          "iopub.status.idle": "2023-09-02T19:00:12.816986Z",
          "shell.execute_reply": "2023-09-02T19:00:12.816614Z"
        },
        "papermill": {
          "duration": 0.039436,
          "end_time": "2023-09-02T19:00:12.818372",
          "exception": false,
          "start_time": "2023-09-02T19:00:12.778936",
          "status": "completed"
        },
        "tags": []
      },
      "outputs": [
        {
          "data": {
            "text/plain": [
              "Array([0.        +0.j        , 0.        +0.j        ,\n",
              "       0.70710678+0.j        , 0.        +0.70710678j,\n",
              "       0.        +0.j        , 0.        +0.j        ,\n",
              "       0.        +0.70710678j, 0.70710678+0.j        ,\n",
              "       0.        +0.j        , 0.        +0.j        ,\n",
              "       0.        +0.j        , 0.        +0.j        ,\n",
              "       0.        +0.j        , 0.        +0.j        ,\n",
              "       0.        +0.j        , 0.        +0.j        ,\n",
              "       0.5       +0.86603j   , 0.5       +0.86603j   ,\n",
              "       0.        +0.j        , 0.        +0.j        ,\n",
              "       0.        +0.j        , 0.        +0.j        ,\n",
              "       0.        +0.j        , 0.        +0.j        ,\n",
              "       0.        +0.j        , 0.        +0.j        ,\n",
              "       0.70710678+0.j        , 0.        +0.70710678j,\n",
              "       0.        +0.j        , 0.        +0.j        ,\n",
              "       0.        +0.70710678j, 0.70710678+0.j        ,\n",
              "       0.        +0.j        , 0.        +0.j        ], dtype=complex128)"
            ]
          },
          "execution_count": 41,
          "metadata": {},
          "output_type": "execute_result"
        }
      ],
      "source": [
        "CSx_ = jnp.where(mask, Sx, 0.0) # not used\n",
        "CSx_ # not used"
      ]
    },
    {
      "cell_type": "markdown",
      "id": "9411edf5",
      "metadata": {
        "papermill": {
          "duration": 0.014917,
          "end_time": "2023-09-02T19:00:12.848287",
          "exception": false,
          "start_time": "2023-09-02T19:00:12.833370",
          "status": "completed"
        },
        "tags": []
      },
      "source": [
        "Now we calculate $\\mathbb{1} - C_{int}S_{bd}$ in an *uncoalesced* way (we might have duplicate indices on the diagonal):\n",
        "\n",
        "> **uncoalesced**: having duplicate index combinations (i, j) in the representation possibly with different corresponding values. This is usually not a problem as in linear operations these values will end up to be summed, usually the behavior you want:"
      ]
    },
    {
      "cell_type": "code",
      "execution_count": 42,
      "id": "53c3f4ab",
      "metadata": {
        "execution": {
          "iopub.execute_input": "2023-09-02T19:00:12.879682Z",
          "iopub.status.busy": "2023-09-02T19:00:12.879093Z",
          "iopub.status.idle": "2023-09-02T19:00:12.936486Z",
          "shell.execute_reply": "2023-09-02T19:00:12.936120Z"
        },
        "papermill": {
          "duration": 0.074461,
          "end_time": "2023-09-02T19:00:12.937659",
          "exception": false,
          "start_time": "2023-09-02T19:00:12.863198",
          "status": "completed"
        },
        "tags": []
      },
      "outputs": [
        {
          "name": "stdout",
          "output_type": "stream",
          "text": [
            "[4 4 4 4 9 9 9 9 0 8 5 5 5 5 1 1 1 1 0 1 2 3 4 5 6 7 8 9]\n",
            "[0 1 2 3 0 1 2 3 5 4 6 7 8 9 6 7 8 9 0 1 2 3 4 5 6 7 8 9]\n",
            "[-0.        -0.j         -0.        -0.j         -0.70710678-0.j\n",
            " -0.        -0.70710678j -0.        -0.j         -0.        -0.j\n",
            " -0.        -0.70710678j -0.70710678-0.j         -0.5       -0.86603j\n",
            " -0.5       -0.86603j    -0.70710678-0.j         -0.        -0.70710678j\n",
            " -0.        -0.j         -0.        -0.j         -0.        -0.70710678j\n",
            " -0.70710678-0.j         -0.        -0.j         -0.        -0.j\n",
            "  1.        +0.j          1.        +0.j          1.        +0.j\n",
            "  1.        +0.j          1.        +0.j          1.        +0.j\n",
            "  1.        +0.j          1.        +0.j          1.        +0.j\n",
            "  1.        +0.j        ]\n"
          ]
        }
      ],
      "source": [
        "I_CSi = jnp.concatenate([CSi, Ii], -1)\n",
        "I_CSj = jnp.concatenate([CSj, Ij], -1)\n",
        "I_CSx = jnp.concatenate([-CSx, Ix], -1)\n",
        "print(I_CSi)\n",
        "print(I_CSj)\n",
        "print(I_CSx)"
      ]
    },
    {
      "cell_type": "code",
      "execution_count": 43,
      "id": "188e4606",
      "metadata": {
        "execution": {
          "iopub.execute_input": "2023-09-02T19:00:12.969414Z",
          "iopub.status.busy": "2023-09-02T19:00:12.968865Z",
          "iopub.status.idle": "2023-09-02T19:00:12.971977Z",
          "shell.execute_reply": "2023-09-02T19:00:12.971577Z"
        },
        "papermill": {
          "duration": 0.019967,
          "end_time": "2023-09-02T19:00:12.973144",
          "exception": false,
          "start_time": "2023-09-02T19:00:12.953177",
          "status": "completed"
        },
        "tags": []
      },
      "outputs": [
        {
          "name": "stdout",
          "output_type": "stream",
          "text": [
            "10 4\n"
          ]
        }
      ],
      "source": [
        "n_col, n_rhs = Cext.shape\n",
        "print(n_col, n_rhs)"
      ]
    },
    {
      "cell_type": "markdown",
      "id": "e018c515",
      "metadata": {
        "papermill": {
          "duration": 0.014939,
          "end_time": "2023-09-02T19:00:13.003053",
          "exception": false,
          "start_time": "2023-09-02T19:00:12.988114",
          "status": "completed"
        },
        "tags": []
      },
      "source": [
        "The batch shape dimension can generally speaking be anything (in the example here 0D). We need to do the necessary reshapings to make the batch shape 1D:"
      ]
    },
    {
      "cell_type": "code",
      "execution_count": 44,
      "id": "dad259e7",
      "metadata": {
        "execution": {
          "iopub.execute_input": "2023-09-02T19:00:13.034621Z",
          "iopub.status.busy": "2023-09-02T19:00:13.034165Z",
          "iopub.status.idle": "2023-09-02T19:00:13.050955Z",
          "shell.execute_reply": "2023-09-02T19:00:13.050497Z"
        },
        "papermill": {
          "duration": 0.034113,
          "end_time": "2023-09-02T19:00:13.052160",
          "exception": false,
          "start_time": "2023-09-02T19:00:13.018047",
          "status": "completed"
        },
        "tags": []
      },
      "outputs": [
        {
          "name": "stdout",
          "output_type": "stream",
          "text": [
            "1\n"
          ]
        }
      ],
      "source": [
        "n_lhs = jnp.prod(jnp.array(batch_shape, dtype=jnp.int32))\n",
        "print(n_lhs)"
      ]
    },
    {
      "cell_type": "code",
      "execution_count": 45,
      "id": "9cf69da7",
      "metadata": {
        "execution": {
          "iopub.execute_input": "2023-09-02T19:00:13.084292Z",
          "iopub.status.busy": "2023-09-02T19:00:13.083474Z",
          "iopub.status.idle": "2023-09-02T19:00:13.100329Z",
          "shell.execute_reply": "2023-09-02T19:00:13.099865Z"
        },
        "papermill": {
          "duration": 0.034157,
          "end_time": "2023-09-02T19:00:13.101567",
          "exception": false,
          "start_time": "2023-09-02T19:00:13.067410",
          "status": "completed"
        },
        "tags": []
      },
      "outputs": [
        {
          "data": {
            "text/plain": [
              "(1, 34)"
            ]
          },
          "execution_count": 45,
          "metadata": {},
          "output_type": "execute_result"
        }
      ],
      "source": [
        "Sx = Sx.reshape(n_lhs, -1)\n",
        "Sx.shape"
      ]
    },
    {
      "cell_type": "code",
      "execution_count": 46,
      "id": "788294fa",
      "metadata": {
        "execution": {
          "iopub.execute_input": "2023-09-02T19:00:13.133345Z",
          "iopub.status.busy": "2023-09-02T19:00:13.132814Z",
          "iopub.status.idle": "2023-09-02T19:00:13.148973Z",
          "shell.execute_reply": "2023-09-02T19:00:13.148521Z"
        },
        "papermill": {
          "duration": 0.033299,
          "end_time": "2023-09-02T19:00:13.150113",
          "exception": false,
          "start_time": "2023-09-02T19:00:13.116814",
          "status": "completed"
        },
        "tags": []
      },
      "outputs": [
        {
          "data": {
            "text/plain": [
              "(1, 28)"
            ]
          },
          "execution_count": 46,
          "metadata": {},
          "output_type": "execute_result"
        }
      ],
      "source": [
        "I_CSx = I_CSx.reshape(n_lhs, -1)\n",
        "I_CSx.shape"
      ]
    },
    {
      "cell_type": "markdown",
      "id": "ec741031",
      "metadata": {
        "papermill": {
          "duration": 0.015421,
          "end_time": "2023-09-02T19:00:13.181139",
          "exception": false,
          "start_time": "2023-09-02T19:00:13.165718",
          "status": "completed"
        },
        "tags": []
      },
      "source": [
        "We're finally ready to do the most important part of the calculation, which we conveniently leave to `klujax` and `SuiteSparse`:"
      ]
    },
    {
      "cell_type": "code",
      "execution_count": 47,
      "id": "9c1d8644",
      "metadata": {
        "execution": {
          "iopub.execute_input": "2023-09-02T19:00:13.213443Z",
          "iopub.status.busy": "2023-09-02T19:00:13.212517Z",
          "iopub.status.idle": "2023-09-02T19:00:13.249944Z",
          "shell.execute_reply": "2023-09-02T19:00:13.249463Z"
        },
        "papermill": {
          "duration": 0.055018,
          "end_time": "2023-09-02T19:00:13.251404",
          "exception": false,
          "start_time": "2023-09-02T19:00:13.196386",
          "status": "completed"
        },
        "tags": []
      },
      "outputs": [],
      "source": [
        "inv_I_CS_Cext = solve_klu(I_CSi, I_CSj, I_CSx, Cext)"
      ]
    },
    {
      "cell_type": "markdown",
      "id": "e51487df",
      "metadata": {
        "papermill": {
          "duration": 0.015219,
          "end_time": "2023-09-02T19:00:13.282154",
          "exception": false,
          "start_time": "2023-09-02T19:00:13.266935",
          "status": "completed"
        },
        "tags": []
      },
      "source": [
        "one more sparse multiplication:"
      ]
    },
    {
      "cell_type": "code",
      "execution_count": 48,
      "id": "cccda072",
      "metadata": {
        "execution": {
          "iopub.execute_input": "2023-09-02T19:00:13.314443Z",
          "iopub.status.busy": "2023-09-02T19:00:13.313783Z",
          "iopub.status.idle": "2023-09-02T19:00:13.351362Z",
          "shell.execute_reply": "2023-09-02T19:00:13.350908Z"
        },
        "papermill": {
          "duration": 0.05535,
          "end_time": "2023-09-02T19:00:13.352877",
          "exception": false,
          "start_time": "2023-09-02T19:00:13.297527",
          "status": "completed"
        },
        "tags": []
      },
      "outputs": [],
      "source": [
        "S_inv_I_CS_Cext = mul_coo(Si, Sj, Sx, inv_I_CS_Cext)"
      ]
    },
    {
      "cell_type": "markdown",
      "id": "627a98f7",
      "metadata": {
        "papermill": {
          "duration": 0.015358,
          "end_time": "2023-09-02T19:00:13.383916",
          "exception": false,
          "start_time": "2023-09-02T19:00:13.368558",
          "status": "completed"
        },
        "tags": []
      },
      "source": [
        "And one more $C_{ext}$ multiplication which we do by clever indexing:"
      ]
    },
    {
      "cell_type": "code",
      "execution_count": 49,
      "id": "12ff877c",
      "metadata": {
        "execution": {
          "iopub.execute_input": "2023-09-02T19:00:13.416029Z",
          "iopub.status.busy": "2023-09-02T19:00:13.415572Z",
          "iopub.status.idle": "2023-09-02T19:00:13.422940Z",
          "shell.execute_reply": "2023-09-02T19:00:13.422540Z"
        },
        "papermill": {
          "duration": 0.024814,
          "end_time": "2023-09-02T19:00:13.424106",
          "exception": false,
          "start_time": "2023-09-02T19:00:13.399292",
          "status": "completed"
        },
        "tags": []
      },
      "outputs": [
        {
          "data": {
            "text/plain": [
              "Array([[[ 0.      +0.j      ,  0.      +0.j      , -0.25    +0.433015j,\n",
              "         -0.433015+0.75j    ],\n",
              "        [ 0.      +0.j      ,  0.      +0.j      , -0.433015+0.75j    ,\n",
              "          0.25    -0.433015j],\n",
              "        [-0.25    +0.433015j, -0.433015+0.75j    ,  0.      +0.j      ,\n",
              "          0.      +0.j      ],\n",
              "        [-0.433015+0.75j    ,  0.25    -0.433015j,  0.      +0.j      ,\n",
              "          0.      +0.j      ]]], dtype=complex128)"
            ]
          },
          "execution_count": 49,
          "metadata": {},
          "output_type": "execute_result"
        }
      ],
      "source": [
        "CextT_S_inv_I_CS_Cext = S_inv_I_CS_Cext[..., Cexti, :][..., :, Cextj]\n",
        "CextT_S_inv_I_CS_Cext"
      ]
    },
    {
      "cell_type": "markdown",
      "id": "3e1c75b2",
      "metadata": {
        "papermill": {
          "duration": 0.015442,
          "end_time": "2023-09-02T19:00:13.455247",
          "exception": false,
          "start_time": "2023-09-02T19:00:13.439805",
          "status": "completed"
        },
        "tags": []
      },
      "source": [
        "That's it! We found the S-matrix of the circuit. We just need to reshape the batch dimension back into the matrix:"
      ]
    },
    {
      "cell_type": "code",
      "execution_count": 50,
      "id": "cbf962af",
      "metadata": {
        "execution": {
          "iopub.execute_input": "2023-09-02T19:00:13.487552Z",
          "iopub.status.busy": "2023-09-02T19:00:13.486969Z",
          "iopub.status.idle": "2023-09-02T19:00:13.491589Z",
          "shell.execute_reply": "2023-09-02T19:00:13.491194Z"
        },
        "papermill": {
          "duration": 0.022128,
          "end_time": "2023-09-02T19:00:13.492757",
          "exception": false,
          "start_time": "2023-09-02T19:00:13.470629",
          "status": "completed"
        },
        "tags": []
      },
      "outputs": [
        {
          "data": {
            "text/plain": [
              "Array([[ 0.      +0.j      ,  0.      +0.j      , -0.25    +0.433015j,\n",
              "        -0.433015+0.75j    ],\n",
              "       [ 0.      +0.j      ,  0.      +0.j      , -0.433015+0.75j    ,\n",
              "         0.25    -0.433015j],\n",
              "       [-0.25    +0.433015j, -0.433015+0.75j    ,  0.      +0.j      ,\n",
              "         0.      +0.j      ],\n",
              "       [-0.433015+0.75j    ,  0.25    -0.433015j,  0.      +0.j      ,\n",
              "         0.      +0.j      ]], dtype=complex128)"
            ]
          },
          "execution_count": 50,
          "metadata": {},
          "output_type": "execute_result"
        }
      ],
      "source": [
        "_, n, _ = CextT_S_inv_I_CS_Cext.shape\n",
        "S = CextT_S_inv_I_CS_Cext.reshape(*batch_shape, n, n)\n",
        "S"
      ]
    },
    {
      "cell_type": "markdown",
      "id": "1f6dea4c",
      "metadata": {
        "papermill": {
          "duration": 0.015486,
          "end_time": "2023-09-02T19:00:13.523897",
          "exception": false,
          "start_time": "2023-09-02T19:00:13.508411",
          "status": "completed"
        },
        "tags": []
      },
      "source": [
        "Oh and to complete the `SDense` representation we need to specify the port map as well:"
      ]
    },
    {
      "cell_type": "code",
      "execution_count": 51,
      "id": "21098a45",
      "metadata": {
        "execution": {
          "iopub.execute_input": "2023-09-02T19:00:13.556318Z",
          "iopub.status.busy": "2023-09-02T19:00:13.555755Z",
          "iopub.status.idle": "2023-09-02T19:00:13.559151Z",
          "shell.execute_reply": "2023-09-02T19:00:13.558837Z"
        },
        "papermill": {
          "duration": 0.021026,
          "end_time": "2023-09-02T19:00:13.560380",
          "exception": false,
          "start_time": "2023-09-02T19:00:13.539354",
          "status": "completed"
        },
        "tags": []
      },
      "outputs": [
        {
          "data": {
            "text/plain": [
              "{'in0': 0, 'in1': 1, 'out0': 2, 'out1': 3}"
            ]
          },
          "execution_count": 51,
          "metadata": {},
          "output_type": "execute_result"
        }
      ],
      "source": [
        "port_map"
      ]
    },
    {
      "cell_type": "markdown",
      "id": "0cfee3cf",
      "metadata": {
        "papermill": {
          "duration": 0.015682,
          "end_time": "2023-09-02T19:00:13.592142",
          "exception": false,
          "start_time": "2023-09-02T19:00:13.576460",
          "status": "completed"
        },
        "tags": []
      },
      "source": [
        "## Algorithm Improvements"
      ]
    },
    {
      "cell_type": "markdown",
      "id": "26b70270",
      "metadata": {
        "papermill": {
          "duration": 0.015572,
          "end_time": "2023-09-02T19:00:13.623500",
          "exception": false,
          "start_time": "2023-09-02T19:00:13.607928",
          "status": "completed"
        },
        "tags": []
      },
      "source": [
        "This algorithm is \n",
        "\n",
        "* very fast for large circuits \ud83d\ude42\n",
        "\n",
        "This algorithm is however:\n",
        "\n",
        "* **not** jittable \ud83d\ude25\n",
        "* **not** differentiable \ud83d\ude25\n",
        "* **not** GPU-compatible \ud83d\ude42\n",
        "\n",
        "There are probably still plenty of improvements possible for this algorithm:\n",
        "\n",
        "* **\u00bf** make it jittable **?**\n",
        "* **\u00bf** make it differentiable (requires making klujax differentiable first) **?**\n",
        "* **\u00bf** make it GPU compatible (requires making suitesparse GPU compatible... probably not gonna happen)**?**\n",
        "\n",
        "Bottom line is... Do you know how to improve this algorithm or how to implement the above suggestions? Please open a Merge Request!"
      ]
    },
    {
      "cell_type": "markdown",
      "id": "7578c842-033b-4d1f-a84f-e5ad486d4a88",
      "metadata": {
        "papermill": {
          "duration": 0.015622,
          "end_time": "2023-09-02T19:00:13.654684",
          "exception": false,
          "start_time": "2023-09-02T19:00:13.639062",
          "status": "completed"
        },
        "tags": []
      },
      "source": [
        "## Debug"
      ]
    },
    {
      "cell_type": "code",
      "execution_count": 52,
      "id": "8764ab09-12b9-4b3d-9d83-9a0872924077",
      "metadata": {
        "execution": {
          "iopub.execute_input": "2023-09-02T19:00:13.687379Z",
          "iopub.status.busy": "2023-09-02T19:00:13.687140Z",
          "iopub.status.idle": "2023-09-02T19:00:13.695103Z",
          "shell.execute_reply": "2023-09-02T19:00:13.694654Z"
        },
        "papermill": {
          "duration": 0.025994,
          "end_time": "2023-09-02T19:00:13.696277",
          "exception": false,
          "start_time": "2023-09-02T19:00:13.670283",
          "status": "completed"
        },
        "tags": []
      },
      "outputs": [],
      "source": [
        "instances = {\n",
        "    \"lft\": (\n",
        "        jnp.array(\n",
        "            [\n",
        "                [\n",
        "                    5.19688622e-06 - 1.19777138e-05j,\n",
        "                    6.30595625e-16 - 1.48061189e-17j,\n",
        "                    -3.38542541e-01 - 6.15711852e-01j,\n",
        "                    5.80662654e-03 - 1.11068866e-02j,\n",
        "                    -3.38542542e-01 - 6.15711852e-01j,\n",
        "                    -5.80662660e-03 + 1.11068866e-02j,\n",
        "                ],\n",
        "                [\n",
        "                    8.59445189e-16 - 8.29783014e-16j,\n",
        "                    -2.08640825e-06 + 8.17315497e-06j,\n",
        "                    2.03847666e-03 - 2.10649131e-03j,\n",
        "                    5.30509661e-01 + 4.62504708e-01j,\n",
        "                    -2.03847666e-03 + 2.10649129e-03j,\n",
        "                    5.30509662e-01 + 4.62504708e-01j,\n",
        "                ],\n",
        "                [\n",
        "                    -3.38542541e-01 - 6.15711852e-01j,\n",
        "                    2.03847660e-03 - 2.10649129e-03j,\n",
        "                    7.60088070e-06 + 9.07340423e-07j,\n",
        "                    2.79292426e-09 + 2.79093547e-07j,\n",
        "                    5.07842364e-06 + 2.16385350e-06j,\n",
        "                    -6.84244232e-08 - 5.00486817e-07j,\n",
        "                ],\n",
        "                [\n",
        "                    5.80662707e-03 - 1.11068869e-02j,\n",
        "                    5.30509661e-01 + 4.62504708e-01j,\n",
        "                    2.79291895e-09 + 2.79093540e-07j,\n",
        "                    -4.55645798e-06 + 1.50570403e-06j,\n",
        "                    6.84244128e-08 + 5.00486817e-07j,\n",
        "                    -3.55812153e-06 + 4.59781091e-07j,\n",
        "                ],\n",
        "                [\n",
        "                    -3.38542541e-01 - 6.15711852e-01j,\n",
        "                    -2.03847672e-03 + 2.10649131e-03j,\n",
        "                    5.07842364e-06 + 2.16385349e-06j,\n",
        "                    6.84244230e-08 + 5.00486816e-07j,\n",
        "                    7.60088070e-06 + 9.07340425e-07j,\n",
        "                    -2.79292467e-09 - 2.79093547e-07j,\n",
        "                ],\n",
        "                [\n",
        "                    -5.80662607e-03 + 1.11068863e-02j,\n",
        "                    5.30509662e-01 + 4.62504708e-01j,\n",
        "                    -6.84244296e-08 - 5.00486825e-07j,\n",
        "                    -3.55812153e-06 + 4.59781093e-07j,\n",
        "                    -2.79293217e-09 - 2.79093547e-07j,\n",
        "                    -4.55645798e-06 + 1.50570403e-06j,\n",
        "                ],\n",
        "            ]\n",
        "        ),\n",
        "        {\"in0\": 0, \"out0\": 2, \"out1\": 4},\n",
        "    ),\n",
        "    \"top\": {(\"in0\", \"out0\"): -0.99477 - 0.10211j, (\"out0\", \"in0\"): -0.99477 - 0.10211j},\n",
        "    \"rgt\": {\n",
        "        (\"in0\", \"out0\"): 0.7071067811865476,\n",
        "        (\"in0\", \"out1\"): 0.7071067811865476j,\n",
        "        (\"in1\", \"out0\"): 0.7071067811865476j,\n",
        "        (\"in1\", \"out1\"): 0.7071067811865476,\n",
        "        (\"out0\", \"in0\"): 0.7071067811865476,\n",
        "        (\"out1\", \"in0\"): 0.7071067811865476j,\n",
        "        (\"out0\", \"in1\"): 0.7071067811865476j,\n",
        "        (\"out1\", \"in1\"): 0.7071067811865476,\n",
        "    },\n",
        "}\n",
        "connections = {\"lft,out0\": \"rgt,in0\", \"lft,out1\": \"top,in0\", \"top,out0\": \"rgt,in1\"}\n",
        "ports = {\"in0\": \"lft,in0\", \"out0\": \"rgt,out0\"}"
      ]
    },
    {
      "cell_type": "code",
      "execution_count": 53,
      "id": "20de2839-e848-49a4-b70a-bf192744c344",
      "metadata": {
        "execution": {
          "iopub.execute_input": "2023-09-02T19:00:13.729150Z",
          "iopub.status.busy": "2023-09-02T19:00:13.728594Z",
          "iopub.status.idle": "2023-09-02T19:00:14.754024Z",
          "shell.execute_reply": "2023-09-02T19:00:14.753629Z"
        },
        "papermill": {
          "duration": 1.043227,
          "end_time": "2023-09-02T19:00:14.755293",
          "exception": false,
          "start_time": "2023-09-02T19:00:13.712066",
          "status": "completed"
        },
        "tags": []
      },
      "outputs": [
        {
          "data": {
            "text/plain": [
              "{('in0', 'in0'): Array(5.19688622e-06-1.19777138e-05j, dtype=complex128),\n",
              " ('in0', 'out0'): Array(-0.69692642-0.24169633j, dtype=complex128),\n",
              " ('out0', 'in0'): Array(-0.69692642-0.24169633j, dtype=complex128),\n",
              " ('out0', 'out0'): Array(2.84253212e-06-5.59351604e-06j, dtype=complex128)}"
            ]
          },
          "execution_count": 53,
          "metadata": {},
          "output_type": "execute_result"
        }
      ],
      "source": [
        "sax.sdict(evaluate_circuit(analyze_circuit(connections, ports), instances))"
      ]
    },
    {
      "cell_type": "code",
      "execution_count": 54,
      "id": "fc7b3ac4-4599-4748-a4b8-ec0a2e3927c8",
      "metadata": {
        "execution": {
          "iopub.execute_input": "2023-09-02T19:00:14.789980Z",
          "iopub.status.busy": "2023-09-02T19:00:14.789527Z",
          "iopub.status.idle": "2023-09-02T19:00:14.843602Z",
          "shell.execute_reply": "2023-09-02T19:00:14.843166Z"
        },
        "papermill": {
          "duration": 0.073096,
          "end_time": "2023-09-02T19:00:14.844787",
          "exception": false,
          "start_time": "2023-09-02T19:00:14.771691",
          "status": "completed"
        },
        "tags": []
      },
      "outputs": [
        {
          "data": {
            "text/plain": [
              "{('in0', 'in0'): Array(5.19688622e-06-1.19777138e-05j, dtype=complex128),\n",
              " ('in0', 'out0'): Array(-0.69692642-0.24169633j, dtype=complex128),\n",
              " ('out0', 'in0'): Array(-0.69692642-0.24169633j, dtype=complex128),\n",
              " ('out0', 'out0'): Array(2.84253212e-06-5.59351604e-06j, dtype=complex128)}"
            ]
          },
          "execution_count": 54,
          "metadata": {},
          "output_type": "execute_result"
        }
      ],
      "source": [
        "sax.sdict(evaluate_circuit_klu(analyze_circuit_klu(connections, ports), instances))"
      ]
    }
  ],
  "metadata": {
    "kernelspec": {
      "display_name": "sax",
      "language": "python",
      "name": "sax"
    },
    "language_info": {
      "codemirror_mode": {
        "name": "ipython",
        "version": 3
      },
      "file_extension": ".py",
      "mimetype": "text/x-python",
      "name": "python",
      "nbconvert_exporter": "python",
      "pygments_lexer": "ipython3",
      "version": "3.11.5"
    },
    "papermill": {
      "default_parameters": {},
      "duration": 9.825957,
      "end_time": "2023-09-02T19:00:15.377942",
      "environment_variables": {},
      "exception": null,
      "input_path": "./nbs/08b_backends_klu.ipynb",
      "output_path": "./nbs/08b_backends_klu.ipynb",
      "parameters": {},
      "start_time": "2023-09-02T19:00:05.551985",
      "version": "2.4.0"
    }
  },
  "nbformat": 4,
  "nbformat_minor": 5
}