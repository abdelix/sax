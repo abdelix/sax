{
  "cells": [
    {
      "cell_type": "code",
      "execution_count": 1,
      "id": "ca68ce4fbba8baa1",
      "metadata": {
        "execution": {
          "iopub.execute_input": "2023-06-01T21:49:32.599621Z",
          "iopub.status.busy": "2023-06-01T21:49:32.599393Z",
          "iopub.status.idle": "2023-06-01T21:49:32.602453Z",
          "shell.execute_reply": "2023-06-01T21:49:32.601944Z"
        },
        "papermill": {
          "duration": 0.017699,
          "end_time": "2023-06-01T21:49:32.604609",
          "exception": false,
          "start_time": "2023-06-01T21:49:32.586910",
          "status": "completed"
        },
        "tags": [
          "remove-cell"
        ]
      },
      "outputs": [],
      "source": []
    },
    {
      "cell_type": "markdown",
      "id": "27c3489e",
      "metadata": {
        "papermill": {
          "duration": 0.010218,
          "end_time": "2023-06-01T21:49:32.625400",
          "exception": false,
          "start_time": "2023-06-01T21:49:32.615182",
          "status": "completed"
        },
        "tags": []
      },
      "source": [
        "# Backend - KLU\n",
        "\n",
        "> SAX KLU Backend"
      ]
    },
    {
      "cell_type": "code",
      "execution_count": 2,
      "id": "c6d7cc1439322688",
      "metadata": {
        "execution": {
          "iopub.execute_input": "2023-06-01T21:49:32.647421Z",
          "iopub.status.busy": "2023-06-01T21:49:32.647205Z",
          "iopub.status.idle": "2023-06-01T21:49:34.125288Z",
          "shell.execute_reply": "2023-06-01T21:49:34.124880Z"
        },
        "papermill": {
          "duration": 1.490848,
          "end_time": "2023-06-01T21:49:34.126974",
          "exception": false,
          "start_time": "2023-06-01T21:49:32.636126",
          "status": "completed"
        },
        "tags": [
          "remove-cell"
        ]
      },
      "outputs": [],
      "source": [
        "import sax\n",
        "import matplotlib.pyplot as plt\n",
        "from fastcore.test import test_eq\n",
        "from pytest import approx, raises\n",
        "from nbdev import show_doc\n",
        "\n",
        "import os, sys; sys.stderr = open(os.devnull, \"w\")"
      ]
    },
    {
      "cell_type": "code",
      "execution_count": 3,
      "id": "16696472bda2d38a",
      "metadata": {
        "execution": {
          "iopub.execute_input": "2023-06-01T21:49:34.149409Z",
          "iopub.status.busy": "2023-06-01T21:49:34.149058Z",
          "iopub.status.idle": "2023-06-01T21:49:34.152879Z",
          "shell.execute_reply": "2023-06-01T21:49:34.152512Z"
        },
        "papermill": {
          "duration": 0.016751,
          "end_time": "2023-06-01T21:49:34.154715",
          "exception": false,
          "start_time": "2023-06-01T21:49:34.137964",
          "status": "completed"
        },
        "tags": [
          "hide-input"
        ]
      },
      "outputs": [],
      "source": [
        "from __future__ import annotations\n",
        "\n",
        "from typing import Dict\n",
        "\n",
        "    \n",
        "from sax.typing_ import SDense, SDict, SType, scoo\n",
        "from sax.backends import evaluate_circuit\n",
        "\n",
        "try:\n",
        "    import klujax\n",
        "except ImportError:\n",
        "    klujax = None\n",
        "    \n",
        "try:\n",
        "    import jax\n",
        "    import jax.numpy as jnp\n",
        "    JAX_AVAILABLE = True\n",
        "except ImportError:\n",
        "    import numpy as jnp\n",
        "    JAX_AVAILABLE = False"
      ]
    },
    {
      "cell_type": "markdown",
      "id": "64e42767",
      "metadata": {
        "papermill": {
          "duration": 0.010499,
          "end_time": "2023-06-01T21:49:34.175429",
          "exception": false,
          "start_time": "2023-06-01T21:49:34.164930",
          "status": "completed"
        },
        "tags": []
      },
      "source": [
        "## Citation\n",
        "The KLU backend is using `klujax`, which uses the [SuiteSparse](https://github.com/DrTimothyAldenDavis/SuiteSparse) C++ libraries for sparse matrix evaluations to evaluate the circuit insanely fast on a CPU. The specific algorith being used in question is the KLU algorithm:\n",
        "\n",
        "> Ekanathan Palamadai Natariajan. \"*KLU - A high performance sparse linear solver for circuit simulation problems.*\""
      ]
    },
    {
      "cell_type": "markdown",
      "id": "2db5821c",
      "metadata": {
        "papermill": {
          "duration": 0.010185,
          "end_time": "2023-06-01T21:49:34.195949",
          "exception": false,
          "start_time": "2023-06-01T21:49:34.185764",
          "status": "completed"
        },
        "tags": []
      },
      "source": [
        "## Theoretical Background"
      ]
    },
    {
      "cell_type": "markdown",
      "id": "3d4d4a4c",
      "metadata": {
        "papermill": {
          "duration": 0.010221,
          "end_time": "2023-06-01T21:49:34.216669",
          "exception": false,
          "start_time": "2023-06-01T21:49:34.206448",
          "status": "completed"
        },
        "tags": []
      },
      "source": [
        "The core of the KLU algorithm is supported by `klujax`, which internally uses the Suitesparse libraries to solve the sparse system `Ax = b`, in which A is a sparse matrix."
      ]
    },
    {
      "cell_type": "markdown",
      "id": "a1985f58",
      "metadata": {
        "papermill": {
          "duration": 0.010184,
          "end_time": "2023-06-01T21:49:34.237148",
          "exception": false,
          "start_time": "2023-06-01T21:49:34.226964",
          "status": "completed"
        },
        "tags": []
      },
      "source": [
        "Now it only comes down to shoehorn our circuit evaluation into a sparse linear system of equations $Ax=b$ where we need to solve for $x$ using `klujax`. \n",
        "Consider the block diagonal matrix $S_{bd}$ of all components in the circuit acting on the fields $x_{in}$ at each of the individual ports of each of the component integrated in $S^{bd}$. The output fields $x^{out}$ at each of those ports is then given by:\n",
        "\n",
        "$$\n",
        "x^{out} = S_{bd} x^{in}\n",
        "$$"
      ]
    },
    {
      "cell_type": "markdown",
      "id": "9c26c04a",
      "metadata": {
        "papermill": {
          "duration": 0.010226,
          "end_time": "2023-06-01T21:49:34.257742",
          "exception": false,
          "start_time": "2023-06-01T21:49:34.247516",
          "status": "completed"
        },
        "tags": []
      },
      "source": [
        "However, $S_{bd}$ is not the S-matrix of the circuit as it does not encode any connectivity *between* the components. Connecting two component ports basically comes down to enforcing equality between the output fields at one port of a component with the input fields at another port of another (or maybe even the same) component. This equality can be enforced by creating an internal connection matrix, connecting all internal ports of the circuit:\n",
        "\n",
        "$$\n",
        "x^{in} = C_{int} x^{out}\n",
        "$$"
      ]
    },
    {
      "cell_type": "markdown",
      "id": "16b3fdad",
      "metadata": {
        "papermill": {
          "duration": 0.010306,
          "end_time": "2023-06-01T21:49:34.278331",
          "exception": false,
          "start_time": "2023-06-01T21:49:34.268025",
          "status": "completed"
        },
        "tags": []
      },
      "source": [
        "We can thus write the following combined equation:\n",
        "\n",
        "$$\n",
        "x^{in} = C_{int} S_{bd} x^{in}\n",
        "$$"
      ]
    },
    {
      "cell_type": "markdown",
      "id": "f5ceb9a2",
      "metadata": {
        "papermill": {
          "duration": 0.010334,
          "end_time": "2023-06-01T21:49:34.298965",
          "exception": false,
          "start_time": "2023-06-01T21:49:34.288631",
          "status": "completed"
        },
        "tags": []
      },
      "source": [
        "But this is not the complete story... Some component ports will *not* be *interconnected* with other ports: they will become the new *external ports* (or output ports) of the combined circuit. We can include those external ports into the above equation as follows:\n",
        "\n",
        "$$\n",
        "\\begin{pmatrix} x^{in} \\\\ x^{out}_{ext} \\end{pmatrix} = \\begin{pmatrix} C_{int} & C_{ext} \\\\ C_{ext}^T & 0 \\end{pmatrix} \\begin{pmatrix} S_{bd} x^{in} \\\\ x_{ext}^{in} \\end{pmatrix} \n",
        "$$"
      ]
    },
    {
      "cell_type": "markdown",
      "id": "6382a242",
      "metadata": {
        "papermill": {
          "duration": 0.010354,
          "end_time": "2023-06-01T21:49:34.319594",
          "exception": false,
          "start_time": "2023-06-01T21:49:34.309240",
          "status": "completed"
        },
        "tags": []
      },
      "source": [
        "Note that $C_{ext}$ is obviously **not** a square matrix. Eliminating $x^{in}$ from the equation above finally yields:\n",
        "\n",
        "$$\n",
        "x^{out}_{ext} = C^T_{ext} S_{bd} (\\mathbb{1} - C_{int}S_{bd})^{-1} C_{ext}x_{ext}^{in}\n",
        "$$"
      ]
    },
    {
      "cell_type": "markdown",
      "id": "5f15bdcd",
      "metadata": {
        "papermill": {
          "duration": 0.010331,
          "end_time": "2023-06-01T21:49:34.340351",
          "exception": false,
          "start_time": "2023-06-01T21:49:34.330020",
          "status": "completed"
        },
        "tags": []
      },
      "source": [
        "We basically found a representation of the circuit S-matrix:\n",
        "\n",
        "$$\n",
        "S = C^T_{ext} S_{bd} (\\mathbb{1} - C_{int}S_{bd})^{-1} C_{ext}\n",
        "$$"
      ]
    },
    {
      "cell_type": "markdown",
      "id": "40ad83b8",
      "metadata": {
        "papermill": {
          "duration": 0.010178,
          "end_time": "2023-06-01T21:49:34.360963",
          "exception": false,
          "start_time": "2023-06-01T21:49:34.350785",
          "status": "completed"
        },
        "tags": []
      },
      "source": [
        "Obviously, we won't want to calculate the inverse $(\\mathbb{1} - C_{int}S_{bd})^{-1}$, which is the inverse of a very sparse matrix (a connection matrix only has a single 1 per line), which very often is not even sparse itself. In stead we'll use the `solve_klu` function:\n",
        "\n",
        "$$\n",
        "S = C^T_{ext} S_{bd} \\texttt{solve}\\_\\texttt{klu}\\left((\\mathbb{1} - C_{int}S_{bd}), C_{ext}\\right)\n",
        "$$"
      ]
    },
    {
      "cell_type": "markdown",
      "id": "018fab3d",
      "metadata": {
        "papermill": {
          "duration": 0.010229,
          "end_time": "2023-06-01T21:49:34.381446",
          "exception": false,
          "start_time": "2023-06-01T21:49:34.371217",
          "status": "completed"
        },
        "tags": []
      },
      "source": [
        "Moreover, $C_{ext}^TS_{bd}$ is also a sparse matrix, therefore we'll also need a `mul_coo` routine:\n",
        "\n",
        "$$\n",
        "S = C^T_{ext} \\texttt{mul}\\_\\texttt{coo}\\left(S_{bd},~~\\texttt{solve}\\_\\texttt{klu}\\left((\\mathbb{1} - C_{int}S_{bd}),~C_{ext}\\right)\\right)\n",
        "$$"
      ]
    },
    {
      "cell_type": "markdown",
      "id": "d9b78852",
      "metadata": {
        "papermill": {
          "duration": 0.010413,
          "end_time": "2023-06-01T21:49:34.402286",
          "exception": false,
          "start_time": "2023-06-01T21:49:34.391873",
          "status": "completed"
        },
        "tags": []
      },
      "source": [
        "## Sparse Helper Functions"
      ]
    },
    {
      "cell_type": "code",
      "execution_count": 4,
      "id": "20053def42dcac1a",
      "metadata": {
        "execution": {
          "iopub.execute_input": "2023-06-01T21:49:34.424187Z",
          "iopub.status.busy": "2023-06-01T21:49:34.423946Z",
          "iopub.status.idle": "2023-06-01T21:49:34.426742Z",
          "shell.execute_reply": "2023-06-01T21:49:34.426338Z"
        },
        "papermill": {
          "duration": 0.015927,
          "end_time": "2023-06-01T21:49:34.428587",
          "exception": false,
          "start_time": "2023-06-01T21:49:34.412660",
          "status": "completed"
        },
        "tags": [
          "remove-input"
        ]
      },
      "outputs": [],
      "source": [
        "if klujax is not None:\n",
        "    show_doc(klujax.solve, doc_string=False, name=\"klujax.solve\")"
      ]
    },
    {
      "cell_type": "markdown",
      "id": "01299d5d",
      "metadata": {
        "papermill": {
          "duration": 0.010386,
          "end_time": "2023-06-01T21:49:34.449436",
          "exception": false,
          "start_time": "2023-06-01T21:49:34.439050",
          "status": "completed"
        },
        "tags": []
      },
      "source": [
        "`klujax.solve` solves the sparse system of equations `Ax=b` for `x`. Where `A` is represented by in [COO-format](https://en.wikipedia.org/wiki/Sparse_matrix#Coordinate_list_(COO)) as (`Ai`, `Aj`, `Ax`).\n",
        "\n",
        "> Example"
      ]
    },
    {
      "cell_type": "code",
      "execution_count": 5,
      "id": "63e7977a",
      "metadata": {
        "execution": {
          "iopub.execute_input": "2023-06-01T21:49:34.472034Z",
          "iopub.status.busy": "2023-06-01T21:49:34.471802Z",
          "iopub.status.idle": "2023-06-01T21:49:34.496956Z",
          "shell.execute_reply": "2023-06-01T21:49:34.496582Z"
        },
        "papermill": {
          "duration": 0.038317,
          "end_time": "2023-06-01T21:49:34.498363",
          "exception": false,
          "start_time": "2023-06-01T21:49:34.460046",
          "status": "completed"
        },
        "tags": []
      },
      "outputs": [
        {
          "data": {
            "text/plain": [
              "Array([6. , 1. , 0.5, 0.5, 2. ], dtype=float32)"
            ]
          },
          "execution_count": 5,
          "metadata": {},
          "output_type": "execute_result"
        }
      ],
      "source": [
        "Ai = jnp.array([0, 1, 2, 3, 4])\n",
        "Aj = jnp.array([1, 3, 4, 0, 2])\n",
        "Ax = jnp.array([5, 6, 1, 1, 2])\n",
        "b = jnp.array([5, 3, 2, 6, 1])\n",
        "\n",
        "if klujax is not None:\n",
        "    x = klujax.solve(Ai, Aj, Ax, b)\n",
        "else:\n",
        "    x = jnp.array([6.0, 1.0, 0.5, 0.5, 2.0])\n",
        "\n",
        "x"
      ]
    },
    {
      "cell_type": "markdown",
      "id": "3233b04c",
      "metadata": {
        "papermill": {
          "duration": 0.010663,
          "end_time": "2023-06-01T21:49:34.519973",
          "exception": false,
          "start_time": "2023-06-01T21:49:34.509310",
          "status": "completed"
        },
        "tags": []
      },
      "source": [
        "This result is indeed correct:"
      ]
    },
    {
      "cell_type": "code",
      "execution_count": 6,
      "id": "629bbc71",
      "metadata": {
        "execution": {
          "iopub.execute_input": "2023-06-01T21:49:34.542228Z",
          "iopub.status.busy": "2023-06-01T21:49:34.541898Z",
          "iopub.status.idle": "2023-06-01T21:49:34.694094Z",
          "shell.execute_reply": "2023-06-01T21:49:34.693671Z"
        },
        "papermill": {
          "duration": 0.164931,
          "end_time": "2023-06-01T21:49:34.695451",
          "exception": false,
          "start_time": "2023-06-01T21:49:34.530520",
          "status": "completed"
        },
        "tags": []
      },
      "outputs": [
        {
          "name": "stdout",
          "output_type": "stream",
          "text": [
            "[[0. 5. 0. 0. 0.]\n",
            " [0. 0. 0. 6. 0.]\n",
            " [0. 0. 0. 0. 1.]\n",
            " [1. 0. 0. 0. 0.]\n",
            " [0. 0. 2. 0. 0.]]\n",
            "[5. 3. 2. 6. 1.]\n"
          ]
        }
      ],
      "source": [
        "if JAX_AVAILABLE:\n",
        "    A = jnp.zeros((5, 5)).at[Ai, Aj].set(Ax)\n",
        "    print(A)\n",
        "    print(A@x)"
      ]
    },
    {
      "cell_type": "markdown",
      "id": "c7fe6547",
      "metadata": {
        "papermill": {
          "duration": 0.010667,
          "end_time": "2023-06-01T21:49:34.717391",
          "exception": false,
          "start_time": "2023-06-01T21:49:34.706724",
          "status": "completed"
        },
        "tags": []
      },
      "source": [
        "However, to use this function effectively, we probably need an extra dimension for `Ax`. Indeed, we would like to solve this equation for multiple wavelengths (or more general, for multiple circuit configurations) at once. For this we can use `jax.vmap` to expose `klujax.solve` to more dimensions for `Ax`:"
      ]
    },
    {
      "cell_type": "code",
      "execution_count": 7,
      "id": "3c54a90d1b5c18f1",
      "metadata": {
        "execution": {
          "iopub.execute_input": "2023-06-01T21:49:34.740186Z",
          "iopub.status.busy": "2023-06-01T21:49:34.739944Z",
          "iopub.status.idle": "2023-06-01T21:49:34.742805Z",
          "shell.execute_reply": "2023-06-01T21:49:34.742403Z"
        },
        "papermill": {
          "duration": 0.016285,
          "end_time": "2023-06-01T21:49:34.744507",
          "exception": false,
          "start_time": "2023-06-01T21:49:34.728222",
          "status": "completed"
        },
        "tags": []
      },
      "outputs": [],
      "source": [
        "solve_klu = None\n",
        "if klujax is not None:\n",
        "    solve_klu = jax.vmap(klujax.solve, (None, None, 0, None), 0)"
      ]
    },
    {
      "cell_type": "code",
      "execution_count": 8,
      "id": "1fd5111c97dc8f5a",
      "metadata": {
        "execution": {
          "iopub.execute_input": "2023-06-01T21:49:34.766969Z",
          "iopub.status.busy": "2023-06-01T21:49:34.766753Z",
          "iopub.status.idle": "2023-06-01T21:49:34.770736Z",
          "shell.execute_reply": "2023-06-01T21:49:34.770392Z"
        },
        "papermill": {
          "duration": 0.018003,
          "end_time": "2023-06-01T21:49:34.773169",
          "exception": false,
          "start_time": "2023-06-01T21:49:34.755166",
          "status": "completed"
        },
        "tags": [
          "remove-input"
        ]
      },
      "outputs": [
        {
          "data": {
            "text/markdown": [
              "<h4 id=\"solve_klu\" class=\"doc_header\"><code>solve_klu</code><a href=\"\" class=\"source_link\" style=\"float:right\">[source]</a></h4>\n",
              "\n"
            ],
            "text/plain": [
              "<IPython.core.display.Markdown object>"
            ]
          },
          "metadata": {},
          "output_type": "display_data"
        }
      ],
      "source": [
        "show_doc(solve_klu, doc_string=False, name=\"solve_klu\")"
      ]
    },
    {
      "cell_type": "markdown",
      "id": "6707049d",
      "metadata": {
        "papermill": {
          "duration": 0.010652,
          "end_time": "2023-06-01T21:49:34.794506",
          "exception": false,
          "start_time": "2023-06-01T21:49:34.783854",
          "status": "completed"
        },
        "tags": []
      },
      "source": [
        "Let's now redefine `Ax` and see what it gives:"
      ]
    },
    {
      "cell_type": "code",
      "execution_count": 9,
      "id": "d4d7b6f9",
      "metadata": {
        "execution": {
          "iopub.execute_input": "2023-06-01T21:49:34.816939Z",
          "iopub.status.busy": "2023-06-01T21:49:34.816712Z",
          "iopub.status.idle": "2023-06-01T21:49:34.826023Z",
          "shell.execute_reply": "2023-06-01T21:49:34.825650Z"
        },
        "papermill": {
          "duration": 0.022229,
          "end_time": "2023-06-01T21:49:34.827356",
          "exception": false,
          "start_time": "2023-06-01T21:49:34.805127",
          "status": "completed"
        },
        "tags": []
      },
      "outputs": [
        {
          "data": {
            "text/plain": [
              "Array([[6.       , 1.       , 0.5      , 0.5      , 2.       ],\n",
              "       [3.       , 1.       , 1.       , 0.75     , 0.6666667],\n",
              "       [1.5      , 5.       , 0.2      , 1.5      , 0.6666667]],      dtype=float32)"
            ]
          },
          "execution_count": 9,
          "metadata": {},
          "output_type": "execute_result"
        }
      ],
      "source": [
        "Ai = jnp.array([0, 1, 2, 3, 4])\n",
        "Aj = jnp.array([1, 3, 4, 0, 2])\n",
        "Ax = jnp.array([[5, 6, 1, 1, 2], [5, 4, 3, 2, 1], [1, 2, 3, 4, 5]])\n",
        "b = jnp.array([5, 3, 2, 6, 1])\n",
        "if klujax is not None:\n",
        "    x = solve_klu(Ai, Aj, Ax, b)\n",
        "else:\n",
        "    x = jnp.array([\n",
        "        [6.0, 1.0, 0.5, 0.5, 2.0],\n",
        "        [3.0, 1.0, 1.0, 0.75, 0.66666667],\n",
        "        [1.5, 5.0, 0.2, 1.5, 0.66666667],\n",
        "    ])\n",
        "    \n",
        "x"
      ]
    },
    {
      "cell_type": "markdown",
      "id": "5f342c6f",
      "metadata": {
        "papermill": {
          "duration": 0.010713,
          "end_time": "2023-06-01T21:49:34.849037",
          "exception": false,
          "start_time": "2023-06-01T21:49:34.838324",
          "status": "completed"
        },
        "tags": []
      },
      "source": [
        "This result is indeed correct:"
      ]
    },
    {
      "cell_type": "code",
      "execution_count": 10,
      "id": "0afefaa6",
      "metadata": {
        "execution": {
          "iopub.execute_input": "2023-06-01T21:49:34.871670Z",
          "iopub.status.busy": "2023-06-01T21:49:34.871453Z",
          "iopub.status.idle": "2023-06-01T21:49:34.966519Z",
          "shell.execute_reply": "2023-06-01T21:49:34.966119Z"
        },
        "papermill": {
          "duration": 0.108366,
          "end_time": "2023-06-01T21:49:34.968146",
          "exception": false,
          "start_time": "2023-06-01T21:49:34.859780",
          "status": "completed"
        },
        "tags": []
      },
      "outputs": [],
      "source": [
        "if JAX_AVAILABLE:\n",
        "    A = jnp.zeros((3, 5, 5)).at[:, Ai, Aj].set(Ax)\n",
        "    jnp.einsum(\"ijk,ik->ij\", A, x)"
      ]
    },
    {
      "cell_type": "markdown",
      "id": "7ed8f62d",
      "metadata": {
        "papermill": {
          "duration": 0.010944,
          "end_time": "2023-06-01T21:49:34.990637",
          "exception": false,
          "start_time": "2023-06-01T21:49:34.979693",
          "status": "completed"
        },
        "tags": []
      },
      "source": [
        "Additionally, we need a way to multiply a sparse COO-matrix with a dense vector. This can be done with `klujax.coo_mul_vec`:"
      ]
    },
    {
      "cell_type": "code",
      "execution_count": 11,
      "id": "dac4a3be3f5c22ac",
      "metadata": {
        "execution": {
          "iopub.execute_input": "2023-06-01T21:49:35.013347Z",
          "iopub.status.busy": "2023-06-01T21:49:35.013117Z",
          "iopub.status.idle": "2023-06-01T21:49:35.015801Z",
          "shell.execute_reply": "2023-06-01T21:49:35.015422Z"
        },
        "papermill": {
          "duration": 0.016127,
          "end_time": "2023-06-01T21:49:35.017537",
          "exception": false,
          "start_time": "2023-06-01T21:49:35.001410",
          "status": "completed"
        },
        "tags": [
          "remove-input"
        ]
      },
      "outputs": [],
      "source": [
        "\n",
        "if klujax is not None:\n",
        "    show_doc(klujax.coo_mul_vec, doc_string=False, name=\"klujax.coo_mul_vec\")"
      ]
    },
    {
      "cell_type": "markdown",
      "id": "7f57c443",
      "metadata": {
        "papermill": {
          "duration": 0.010812,
          "end_time": "2023-06-01T21:49:35.039321",
          "exception": false,
          "start_time": "2023-06-01T21:49:35.028509",
          "status": "completed"
        },
        "tags": []
      },
      "source": [
        "However, it's useful to allow a batch dimension, this time *both* in `Ax` and in `b`:"
      ]
    },
    {
      "cell_type": "code",
      "execution_count": 12,
      "id": "0edf68a0cdb19e8f",
      "metadata": {
        "execution": {
          "iopub.execute_input": "2023-06-01T21:49:35.062189Z",
          "iopub.status.busy": "2023-06-01T21:49:35.061952Z",
          "iopub.status.idle": "2023-06-01T21:49:35.064278Z",
          "shell.execute_reply": "2023-06-01T21:49:35.063898Z"
        },
        "papermill": {
          "duration": 0.015858,
          "end_time": "2023-06-01T21:49:35.066026",
          "exception": false,
          "start_time": "2023-06-01T21:49:35.050168",
          "status": "completed"
        },
        "tags": [
          "remove-cell"
        ]
      },
      "outputs": [],
      "source": [
        "\n",
        "# @jax.jit  # TODO: make this available to autograd\n",
        "# def mul_coo(Ai, Aj, Ax, b):\n",
        "#     result = jnp.zeros_like(b).at[..., Ai, :].add(Ax[..., :, None] * b[..., Aj, :])\n",
        "#     return result"
      ]
    },
    {
      "cell_type": "code",
      "execution_count": 13,
      "id": "de87a2adf8c11ca3",
      "metadata": {
        "execution": {
          "iopub.execute_input": "2023-06-01T21:49:35.088836Z",
          "iopub.status.busy": "2023-06-01T21:49:35.088623Z",
          "iopub.status.idle": "2023-06-01T21:49:35.091336Z",
          "shell.execute_reply": "2023-06-01T21:49:35.090954Z"
        },
        "papermill": {
          "duration": 0.016076,
          "end_time": "2023-06-01T21:49:35.093002",
          "exception": false,
          "start_time": "2023-06-01T21:49:35.076926",
          "status": "completed"
        },
        "tags": []
      },
      "outputs": [],
      "source": [
        "mul_coo = None \n",
        "if klujax is not None:\n",
        "    mul_coo = jax.vmap(klujax.coo_mul_vec, (None, None, 0, 0), 0)"
      ]
    },
    {
      "cell_type": "code",
      "execution_count": 14,
      "id": "188f75042130b2a6",
      "metadata": {
        "execution": {
          "iopub.execute_input": "2023-06-01T21:49:35.116126Z",
          "iopub.status.busy": "2023-06-01T21:49:35.115900Z",
          "iopub.status.idle": "2023-06-01T21:49:35.119243Z",
          "shell.execute_reply": "2023-06-01T21:49:35.118877Z"
        },
        "papermill": {
          "duration": 0.01761,
          "end_time": "2023-06-01T21:49:35.121616",
          "exception": false,
          "start_time": "2023-06-01T21:49:35.104006",
          "status": "completed"
        },
        "tags": [
          "remove-input"
        ]
      },
      "outputs": [
        {
          "data": {
            "text/markdown": [
              "<h4 id=\"mul_coo\" class=\"doc_header\"><code>mul_coo</code><a href=\"\" class=\"source_link\" style=\"float:right\">[source]</a></h4>\n",
              "\n"
            ],
            "text/plain": [
              "<IPython.core.display.Markdown object>"
            ]
          },
          "metadata": {},
          "output_type": "display_data"
        }
      ],
      "source": [
        "show_doc(mul_coo, doc_string=False, name=\"mul_coo\")"
      ]
    },
    {
      "cell_type": "markdown",
      "id": "d26cc3d9",
      "metadata": {
        "papermill": {
          "duration": 0.011366,
          "end_time": "2023-06-01T21:49:35.144210",
          "exception": false,
          "start_time": "2023-06-01T21:49:35.132844",
          "status": "completed"
        },
        "tags": []
      },
      "source": [
        "Let's confirm this does the right thing:"
      ]
    },
    {
      "cell_type": "code",
      "execution_count": 15,
      "id": "bd868973",
      "metadata": {
        "execution": {
          "iopub.execute_input": "2023-06-01T21:49:35.168320Z",
          "iopub.status.busy": "2023-06-01T21:49:35.168091Z",
          "iopub.status.idle": "2023-06-01T21:49:35.173341Z",
          "shell.execute_reply": "2023-06-01T21:49:35.172926Z"
        },
        "papermill": {
          "duration": 0.019384,
          "end_time": "2023-06-01T21:49:35.175306",
          "exception": false,
          "start_time": "2023-06-01T21:49:35.155922",
          "status": "completed"
        },
        "tags": []
      },
      "outputs": [
        {
          "data": {
            "text/plain": [
              "Array([[5., 3., 2., 6., 1.],\n",
              "       [5., 3., 2., 6., 1.],\n",
              "       [5., 3., 2., 6., 1.]], dtype=float32)"
            ]
          },
          "execution_count": 15,
          "metadata": {},
          "output_type": "execute_result"
        }
      ],
      "source": [
        "if klujax is not None:\n",
        "    result = mul_coo(Ai, Aj, Ax, x)\n",
        "else:\n",
        "    result = jnp.array([\n",
        "        [5.0, 3.0, 2.0, 6.0, 1.0],\n",
        "        [5.0, 3.0, 2.00000001, 6.0, 1.0],\n",
        "        [5.0, 3.0, 2.00000001, 6.0, 1.0],\n",
        "    ])\n",
        "    \n",
        "result"
      ]
    },
    {
      "cell_type": "markdown",
      "id": "d71e89fa",
      "metadata": {
        "papermill": {
          "duration": 0.011104,
          "end_time": "2023-06-01T21:49:35.197553",
          "exception": false,
          "start_time": "2023-06-01T21:49:35.186449",
          "status": "completed"
        },
        "tags": []
      },
      "source": [
        "## Circuit Evaluation"
      ]
    },
    {
      "cell_type": "markdown",
      "id": "e811a47fd63cdc5a",
      "metadata": {},
      "source": [
        ":::{eval-rst}\n",
        ".. autofunction:: sax.backends.klu.evaluate_circuit_klu\n",
        ":::\n"
      ]
    },
    {
      "cell_type": "code",
      "execution_count": 16,
      "id": "6efd8c9ef025e801",
      "metadata": {
        "execution": {
          "iopub.execute_input": "2023-06-01T21:49:35.221340Z",
          "iopub.status.busy": "2023-06-01T21:49:35.220928Z",
          "iopub.status.idle": "2023-06-01T21:49:35.307051Z",
          "shell.execute_reply": "2023-06-01T21:49:35.306582Z"
        },
        "papermill": {
          "duration": 0.099938,
          "end_time": "2023-06-01T21:49:35.308640",
          "exception": false,
          "start_time": "2023-06-01T21:49:35.208702",
          "status": "completed"
        },
        "tags": [
          "hide-input"
        ]
      },
      "outputs": [],
      "source": [
        "def evaluate_circuit_klu(\n",
        "    instances: Dict[str, SType],\n",
        "    connections: Dict[str, str],\n",
        "    ports: Dict[str, str],\n",
        "):\n",
        "    \"\"\"evaluate a circuit using KLU for the given sdicts. \"\"\"\n",
        "\n",
        "    if klujax is None:\n",
        "        raise ImportError(\n",
        "            \"Could not import 'klujax'. \"\n",
        "            \"Please install it first before using backend method 'klu'\"\n",
        "        )\n",
        "\n",
        "    assert solve_klu is not None\n",
        "    assert mul_coo is not None\n",
        "\n",
        "    connections = {**connections, **{v: k for k, v in connections.items()}}\n",
        "    inverse_ports = {v: k for k, v in ports.items()}\n",
        "    port_map = {k: i for i, k in enumerate(ports)}\n",
        "\n",
        "    idx, Si, Sj, Sx, instance_ports = 0, [], [], [], {}\n",
        "    batch_shape = ()\n",
        "    for name, instance in instances.items():\n",
        "        si, sj, sx, ports_map = scoo(instance)\n",
        "        Si.append(si + idx)\n",
        "        Sj.append(sj + idx)\n",
        "        Sx.append(sx)\n",
        "        if len(sx.shape[:-1]) > len(batch_shape):\n",
        "            batch_shape = sx.shape[:-1]\n",
        "        instance_ports.update({f\"{name},{p}\": i + idx for p, i in ports_map.items()})\n",
        "        idx += len(ports_map)\n",
        "\n",
        "    Si = jnp.concatenate(Si, -1)\n",
        "    Sj = jnp.concatenate(Sj, -1)\n",
        "    Sx = jnp.concatenate(\n",
        "        [jnp.broadcast_to(sx, (*batch_shape, sx.shape[-1])) for sx in Sx], -1\n",
        "    )\n",
        "\n",
        "    n_col = idx\n",
        "    n_rhs = len(port_map)\n",
        "\n",
        "    Cmap = {\n",
        "        int(instance_ports[k]): int(instance_ports[v]) for k, v in connections.items()\n",
        "    }\n",
        "    Ci = jnp.array(list(Cmap.keys()), dtype=jnp.int32)\n",
        "    Cj = jnp.array(list(Cmap.values()), dtype=jnp.int32)\n",
        "\n",
        "    Cextmap = {int(instance_ports[k]): int(port_map[v]) for k, v in inverse_ports.items()}\n",
        "    Cexti = jnp.stack(list(Cextmap.keys()), 0)\n",
        "    Cextj = jnp.stack(list(Cextmap.values()), 0)\n",
        "    Cext = jnp.zeros((n_col, n_rhs), dtype=complex).at[Cexti, Cextj].set(1.0)\n",
        "\n",
        "    # TODO: make this block jittable...\n",
        "    Ix = jnp.ones((*batch_shape, n_col))\n",
        "    Ii = Ij = jnp.arange(n_col)\n",
        "    mask = Cj[None,:] == Si[:, None]\n",
        "    CSi = jnp.broadcast_to(Ci[None, :], mask.shape)[mask]\n",
        "\n",
        "    # CSi = jnp.where(Cj[None, :] == Si[:, None], Ci[None, :], 0).sum(1)\n",
        "    mask = (Cj[:, None] == Si[None, :]).any(0)\n",
        "    CSj = Sj[mask]\n",
        "    \n",
        "    if Sx.ndim > 1: # bug in JAX... see https://github.com/google/jax/issues/9050\n",
        "        CSx = Sx[..., mask]\n",
        "    else:\n",
        "        CSx = Sx[mask]\n",
        "        \n",
        "    # CSj = jnp.where(mask, Sj, 0)\n",
        "    # CSx = jnp.where(mask, Sx, 0.0)\n",
        "\n",
        "    I_CSi = jnp.concatenate([CSi, Ii], -1)\n",
        "    I_CSj = jnp.concatenate([CSj, Ij], -1)\n",
        "    I_CSx = jnp.concatenate([-CSx, Ix], -1)\n",
        "\n",
        "    n_col, n_rhs = Cext.shape\n",
        "    n_lhs = jnp.prod(jnp.array(batch_shape, dtype=jnp.int32))\n",
        "    Sx = Sx.reshape(n_lhs, -1)\n",
        "    I_CSx = I_CSx.reshape(n_lhs, -1)\n",
        "\n",
        "    inv_I_CS_Cext = solve_klu(I_CSi, I_CSj, I_CSx, Cext)\n",
        "    S_inv_I_CS_Cext = mul_coo(Si, Sj, Sx, inv_I_CS_Cext)\n",
        "\n",
        "    CextT_S_inv_I_CS_Cext = S_inv_I_CS_Cext[..., Cexti, :][..., :, Cextj]\n",
        "    \n",
        "    _, n, _ = CextT_S_inv_I_CS_Cext.shape\n",
        "    S = CextT_S_inv_I_CS_Cext.reshape(*batch_shape, n, n)\n",
        "\n",
        "    return S, port_map"
      ]
    },
    {
      "cell_type": "markdown",
      "id": "dce9d8ca",
      "metadata": {
        "papermill": {
          "duration": 0.011385,
          "end_time": "2023-06-01T21:49:35.331771",
          "exception": false,
          "start_time": "2023-06-01T21:49:35.320386",
          "status": "completed"
        },
        "tags": []
      },
      "source": [
        "## Example"
      ]
    },
    {
      "cell_type": "code",
      "execution_count": 17,
      "id": "729bb64524c62348",
      "metadata": {
        "execution": {
          "iopub.execute_input": "2023-06-01T21:49:35.355338Z",
          "iopub.status.busy": "2023-06-01T21:49:35.355033Z",
          "iopub.status.idle": "2023-06-01T21:49:35.358303Z",
          "shell.execute_reply": "2023-06-01T21:49:35.357928Z"
        },
        "papermill": {
          "duration": 0.016923,
          "end_time": "2023-06-01T21:49:35.359882",
          "exception": false,
          "start_time": "2023-06-01T21:49:35.342959",
          "status": "completed"
        },
        "tags": [
          "remove-cell"
        ]
      },
      "outputs": [],
      "source": [
        "if klujax is None:\n",
        "    def evaluate_circuit_klu(\n",
        "        instances: Dict[str, SType],\n",
        "        connections: Dict[str, str],\n",
        "        ports: Dict[str, str],\n",
        "    ):\n",
        "        sdict = evaluate_circuit(instances, connections, ports)\n",
        "        sdense = sax.sdense(sdict)\n",
        "        return sdense"
      ]
    },
    {
      "cell_type": "code",
      "execution_count": 18,
      "id": "f577522a",
      "metadata": {
        "execution": {
          "iopub.execute_input": "2023-06-01T21:49:35.383268Z",
          "iopub.status.busy": "2023-06-01T21:49:35.382997Z",
          "iopub.status.idle": "2023-06-01T21:49:36.264928Z",
          "shell.execute_reply": "2023-06-01T21:49:36.264515Z"
        },
        "papermill": {
          "duration": 0.895273,
          "end_time": "2023-06-01T21:49:36.266359",
          "exception": false,
          "start_time": "2023-06-01T21:49:35.371086",
          "status": "completed"
        },
        "tags": []
      },
      "outputs": [],
      "source": [
        "wg_sdict: SDict = {\n",
        "    (\"in0\", \"out0\"): 0.5 + 0.86603j,\n",
        "    (\"out0\", \"in0\"): 0.5 + 0.86603j,\n",
        "}\n",
        "\n",
        "\u03c4, \u03ba = 0.5 ** 0.5, 1j * 0.5 ** 0.5\n",
        "dc_sdense: SDense = (\n",
        "    jnp.array([[0, 0, \u03c4, \u03ba], \n",
        "               [0, 0, \u03ba, \u03c4], \n",
        "               [\u03c4, \u03ba, 0, 0], \n",
        "               [\u03ba, \u03c4, 0, 0]]),\n",
        "    {\"in0\": 0, \"in1\": 1, \"out0\": 2, \"out1\": 3},\n",
        ")\n",
        "\n",
        "mzi_sdense: SDense = evaluate_circuit_klu(\n",
        "    instances={\n",
        "        \"dc1\": dc_sdense,\n",
        "        \"wg\": wg_sdict,\n",
        "        \"dc2\": dc_sdense,\n",
        "    },\n",
        "    connections={\n",
        "        \"dc1,out0\": \"wg,in0\",\n",
        "        \"wg,out0\": \"dc2,in0\",\n",
        "        \"dc1,out1\": \"dc2,in1\",\n",
        "    },\n",
        "    ports={\n",
        "        \"in0\": \"dc1,in0\",\n",
        "        \"in1\": \"dc1,in1\",\n",
        "        \"out0\": \"dc2,out0\",\n",
        "        \"out1\": \"dc2,out1\",\n",
        "    }\n",
        ")"
      ]
    },
    {
      "cell_type": "markdown",
      "id": "60b6d1e6",
      "metadata": {
        "papermill": {
          "duration": 0.011322,
          "end_time": "2023-06-01T21:49:36.289789",
          "exception": false,
          "start_time": "2023-06-01T21:49:36.278467",
          "status": "completed"
        },
        "tags": []
      },
      "source": [
        "the KLU backend yields `SDense` results by default:"
      ]
    },
    {
      "cell_type": "code",
      "execution_count": 19,
      "id": "ecc3115e",
      "metadata": {
        "execution": {
          "iopub.execute_input": "2023-06-01T21:49:36.314829Z",
          "iopub.status.busy": "2023-06-01T21:49:36.314511Z",
          "iopub.status.idle": "2023-06-01T21:49:36.318708Z",
          "shell.execute_reply": "2023-06-01T21:49:36.318270Z"
        },
        "papermill": {
          "duration": 0.019366,
          "end_time": "2023-06-01T21:49:36.320744",
          "exception": false,
          "start_time": "2023-06-01T21:49:36.301378",
          "status": "completed"
        },
        "tags": []
      },
      "outputs": [
        {
          "data": {
            "text/plain": [
              "(Array([[ 0.        +0.j        ,  0.        +0.j        ,\n",
              "         -0.24999999+0.433015j  , -0.433015  +0.74999994j],\n",
              "        [ 0.        +0.j        ,  0.        +0.j        ,\n",
              "         -0.433015  +0.74999994j,  0.24999999-0.433015j  ],\n",
              "        [-0.24999999+0.433015j  , -0.433015  +0.74999994j,\n",
              "          0.        +0.j        ,  0.        +0.j        ],\n",
              "        [-0.433015  +0.74999994j,  0.24999999-0.433015j  ,\n",
              "          0.        +0.j        ,  0.        +0.j        ]],      dtype=complex64),\n",
              " {'in0': 0, 'in1': 1, 'out0': 2, 'out1': 3})"
            ]
          },
          "execution_count": 19,
          "metadata": {},
          "output_type": "execute_result"
        }
      ],
      "source": [
        "mzi_sdense"
      ]
    },
    {
      "cell_type": "markdown",
      "id": "4b8e87f3",
      "metadata": {
        "papermill": {
          "duration": 0.011358,
          "end_time": "2023-06-01T21:49:36.344035",
          "exception": false,
          "start_time": "2023-06-01T21:49:36.332677",
          "status": "completed"
        },
        "tags": []
      },
      "source": [
        "An `SDense` is returned for perfomance reasons. By returning an `SDense` by default we prevent any internal `SDict -> SDense` conversions in deeply hierarchical circuits. It's however very easy to convert `SDense` to `SDict` as a final step. To do this, wrap the result (or the function generating the result) with `sdict`:"
      ]
    },
    {
      "cell_type": "code",
      "execution_count": 20,
      "id": "7202ab1e",
      "metadata": {
        "execution": {
          "iopub.execute_input": "2023-06-01T21:49:36.367936Z",
          "iopub.status.busy": "2023-06-01T21:49:36.367639Z",
          "iopub.status.idle": "2023-06-01T21:49:36.387158Z",
          "shell.execute_reply": "2023-06-01T21:49:36.386821Z"
        },
        "papermill": {
          "duration": 0.032958,
          "end_time": "2023-06-01T21:49:36.388366",
          "exception": false,
          "start_time": "2023-06-01T21:49:36.355408",
          "status": "completed"
        },
        "tags": []
      },
      "outputs": [
        {
          "data": {
            "text/plain": [
              "{('in0', 'in0'): Array(0.+0.j, dtype=complex64),\n",
              " ('in0', 'in1'): Array(0.+0.j, dtype=complex64),\n",
              " ('in0', 'out0'): Array(-0.24999999+0.433015j, dtype=complex64),\n",
              " ('in0', 'out1'): Array(-0.433015+0.74999994j, dtype=complex64),\n",
              " ('in1', 'in0'): Array(0.+0.j, dtype=complex64),\n",
              " ('in1', 'in1'): Array(0.+0.j, dtype=complex64),\n",
              " ('in1', 'out0'): Array(-0.433015+0.74999994j, dtype=complex64),\n",
              " ('in1', 'out1'): Array(0.24999999-0.433015j, dtype=complex64),\n",
              " ('out0', 'in0'): Array(-0.24999999+0.433015j, dtype=complex64),\n",
              " ('out0', 'in1'): Array(-0.433015+0.74999994j, dtype=complex64),\n",
              " ('out0', 'out0'): Array(0.+0.j, dtype=complex64),\n",
              " ('out0', 'out1'): Array(0.+0.j, dtype=complex64),\n",
              " ('out1', 'in0'): Array(-0.433015+0.74999994j, dtype=complex64),\n",
              " ('out1', 'in1'): Array(0.24999999-0.433015j, dtype=complex64),\n",
              " ('out1', 'out0'): Array(0.+0.j, dtype=complex64),\n",
              " ('out1', 'out1'): Array(0.+0.j, dtype=complex64)}"
            ]
          },
          "execution_count": 20,
          "metadata": {},
          "output_type": "execute_result"
        }
      ],
      "source": [
        "sax.sdict(mzi_sdense)"
      ]
    },
    {
      "cell_type": "markdown",
      "id": "9f8cd5ea",
      "metadata": {
        "papermill": {
          "duration": 0.011473,
          "end_time": "2023-06-01T21:49:36.411592",
          "exception": false,
          "start_time": "2023-06-01T21:49:36.400119",
          "status": "completed"
        },
        "tags": []
      },
      "source": [
        "## Algorithm Walkthrough"
      ]
    },
    {
      "cell_type": "code",
      "execution_count": 21,
      "id": "665c856d",
      "metadata": {
        "execution": {
          "iopub.execute_input": "2023-06-01T21:49:36.435510Z",
          "iopub.status.busy": "2023-06-01T21:49:36.435245Z",
          "iopub.status.idle": "2023-06-01T21:49:36.438299Z",
          "shell.execute_reply": "2023-06-01T21:49:36.437860Z"
        },
        "papermill": {
          "duration": 0.01675,
          "end_time": "2023-06-01T21:49:36.439789",
          "exception": false,
          "start_time": "2023-06-01T21:49:36.423039",
          "status": "completed"
        },
        "tags": []
      },
      "outputs": [],
      "source": [
        "instances={\n",
        "    \"dc1\": dc_sdense,\n",
        "    \"wg\": wg_sdict,\n",
        "    \"dc2\": dc_sdense,\n",
        "}\n",
        "connections={\n",
        "    \"dc1,out0\": \"wg,in0\",\n",
        "    \"wg,out0\": \"dc2,in0\",\n",
        "    \"dc1,out1\": \"dc2,in1\",\n",
        "}\n",
        "ports={\n",
        "    \"in0\": \"dc1,in0\",\n",
        "    \"in1\": \"dc1,in1\",\n",
        "    \"out0\": \"dc2,out0\",\n",
        "    \"out1\": \"dc2,out1\",\n",
        "}"
      ]
    },
    {
      "cell_type": "markdown",
      "id": "b5bf5188",
      "metadata": {
        "papermill": {
          "duration": 0.011474,
          "end_time": "2023-06-01T21:49:36.462723",
          "exception": false,
          "start_time": "2023-06-01T21:49:36.451249",
          "status": "completed"
        },
        "tags": []
      },
      "source": [
        "Let's first enforce $C^T = C$:"
      ]
    },
    {
      "cell_type": "code",
      "execution_count": 22,
      "id": "6d7d4c39",
      "metadata": {
        "execution": {
          "iopub.execute_input": "2023-06-01T21:49:36.486719Z",
          "iopub.status.busy": "2023-06-01T21:49:36.486439Z",
          "iopub.status.idle": "2023-06-01T21:49:36.490234Z",
          "shell.execute_reply": "2023-06-01T21:49:36.489880Z"
        },
        "papermill": {
          "duration": 0.017984,
          "end_time": "2023-06-01T21:49:36.492225",
          "exception": false,
          "start_time": "2023-06-01T21:49:36.474241",
          "status": "completed"
        },
        "tags": []
      },
      "outputs": [
        {
          "data": {
            "text/plain": [
              "{'dc1,out0': 'wg,in0',\n",
              " 'wg,out0': 'dc2,in0',\n",
              " 'dc1,out1': 'dc2,in1',\n",
              " 'wg,in0': 'dc1,out0',\n",
              " 'dc2,in0': 'wg,out0',\n",
              " 'dc2,in1': 'dc1,out1'}"
            ]
          },
          "execution_count": 22,
          "metadata": {},
          "output_type": "execute_result"
        }
      ],
      "source": [
        "connections = {**connections, **{v: k for k, v in connections.items()}}\n",
        "connections"
      ]
    },
    {
      "cell_type": "markdown",
      "id": "a41250ec",
      "metadata": {
        "papermill": {
          "duration": 0.011549,
          "end_time": "2023-06-01T21:49:36.515429",
          "exception": false,
          "start_time": "2023-06-01T21:49:36.503880",
          "status": "completed"
        },
        "tags": []
      },
      "source": [
        "We'll also need the reversed ports:"
      ]
    },
    {
      "cell_type": "code",
      "execution_count": 23,
      "id": "9a70463f",
      "metadata": {
        "execution": {
          "iopub.execute_input": "2023-06-01T21:49:36.539538Z",
          "iopub.status.busy": "2023-06-01T21:49:36.539279Z",
          "iopub.status.idle": "2023-06-01T21:49:36.542707Z",
          "shell.execute_reply": "2023-06-01T21:49:36.542364Z"
        },
        "papermill": {
          "duration": 0.017801,
          "end_time": "2023-06-01T21:49:36.544757",
          "exception": false,
          "start_time": "2023-06-01T21:49:36.526956",
          "status": "completed"
        },
        "tags": []
      },
      "outputs": [
        {
          "data": {
            "text/plain": [
              "{'dc1,in0': 'in0', 'dc1,in1': 'in1', 'dc2,out0': 'out0', 'dc2,out1': 'out1'}"
            ]
          },
          "execution_count": 23,
          "metadata": {},
          "output_type": "execute_result"
        }
      ],
      "source": [
        "inverse_ports = {v: k for k, v in ports.items()}\n",
        "inverse_ports"
      ]
    },
    {
      "cell_type": "markdown",
      "id": "1e96443b",
      "metadata": {
        "papermill": {
          "duration": 0.011668,
          "end_time": "2023-06-01T21:49:36.568129",
          "exception": false,
          "start_time": "2023-06-01T21:49:36.556461",
          "status": "completed"
        },
        "tags": []
      },
      "source": [
        "An the port indices"
      ]
    },
    {
      "cell_type": "code",
      "execution_count": 24,
      "id": "8e18d182",
      "metadata": {
        "execution": {
          "iopub.execute_input": "2023-06-01T21:49:36.592493Z",
          "iopub.status.busy": "2023-06-01T21:49:36.592229Z",
          "iopub.status.idle": "2023-06-01T21:49:36.595625Z",
          "shell.execute_reply": "2023-06-01T21:49:36.595270Z"
        },
        "papermill": {
          "duration": 0.017773,
          "end_time": "2023-06-01T21:49:36.597651",
          "exception": false,
          "start_time": "2023-06-01T21:49:36.579878",
          "status": "completed"
        },
        "tags": []
      },
      "outputs": [
        {
          "data": {
            "text/plain": [
              "{'in0': 0, 'in1': 1, 'out0': 2, 'out1': 3}"
            ]
          },
          "execution_count": 24,
          "metadata": {},
          "output_type": "execute_result"
        }
      ],
      "source": [
        "port_map = {k: i for i, k in enumerate(ports)}\n",
        "port_map"
      ]
    },
    {
      "cell_type": "markdown",
      "id": "70924074",
      "metadata": {
        "papermill": {
          "duration": 0.011792,
          "end_time": "2023-06-01T21:49:36.621282",
          "exception": false,
          "start_time": "2023-06-01T21:49:36.609490",
          "status": "completed"
        },
        "tags": []
      },
      "source": [
        "Let's now create the COO-representation of our block diagonal S-matrix $S_{bd}$:"
      ]
    },
    {
      "cell_type": "code",
      "execution_count": 25,
      "id": "835deb8f",
      "metadata": {
        "execution": {
          "iopub.execute_input": "2023-06-01T21:49:36.646142Z",
          "iopub.status.busy": "2023-06-01T21:49:36.645841Z",
          "iopub.status.idle": "2023-06-01T21:49:36.880574Z",
          "shell.execute_reply": "2023-06-01T21:49:36.880172Z"
        },
        "papermill": {
          "duration": 0.248951,
          "end_time": "2023-06-01T21:49:36.882026",
          "exception": false,
          "start_time": "2023-06-01T21:49:36.633075",
          "status": "completed"
        },
        "tags": []
      },
      "outputs": [
        {
          "name": "stdout",
          "output_type": "stream",
          "text": [
            "[0 0 0 0 1 1 1 1 2 2 2 2 3 3 3 3 4 5 6 6 6 6 7 7 7 7 8 8 8 8 9 9 9 9]\n",
            "[0 1 2 3 0 1 2 3 0 1 2 3 0 1 2 3 5 4 6 7 8 9 6 7 8 9 6 7 8 9 6 7 8 9]\n",
            "[0.        +0.j         0.        +0.j         0.70710677+0.j\n",
            " 0.        +0.70710677j 0.        +0.j         0.        +0.j\n",
            " 0.        +0.70710677j 0.70710677+0.j         0.70710677+0.j\n",
            " 0.        +0.70710677j 0.        +0.j         0.        +0.j\n",
            " 0.        +0.70710677j 0.70710677+0.j         0.        +0.j\n",
            " 0.        +0.j         0.5       +0.86603j    0.5       +0.86603j\n",
            " 0.        +0.j         0.        +0.j         0.70710677+0.j\n",
            " 0.        +0.70710677j 0.        +0.j         0.        +0.j\n",
            " 0.        +0.70710677j 0.70710677+0.j         0.70710677+0.j\n",
            " 0.        +0.70710677j 0.        +0.j         0.        +0.j\n",
            " 0.        +0.70710677j 0.70710677+0.j         0.        +0.j\n",
            " 0.        +0.j        ]\n"
          ]
        }
      ],
      "source": [
        "idx, Si, Sj, Sx, instance_ports = 0, [], [], [], {}\n",
        "batch_shape = ()\n",
        "for name, instance in instances.items():\n",
        "    si, sj, sx, ports_map = scoo(instance)\n",
        "    Si.append(si + idx)\n",
        "    Sj.append(sj + idx)\n",
        "    Sx.append(sx)\n",
        "    if len(sx.shape[:-1]) > len(batch_shape):\n",
        "        batch_shape = sx.shape[:-1]\n",
        "    instance_ports.update({f\"{name},{p}\": i + idx for p, i in ports_map.items()})\n",
        "    idx += len(ports_map)\n",
        "Si = jnp.concatenate(Si, -1)\n",
        "Sj = jnp.concatenate(Sj, -1)\n",
        "Sx = jnp.concatenate([jnp.broadcast_to(sx, (*batch_shape, sx.shape[-1])) for sx in Sx], -1)\n",
        "\n",
        "print(Si)\n",
        "print(Sj)\n",
        "print(Sx)"
      ]
    },
    {
      "cell_type": "markdown",
      "id": "a8edefa1",
      "metadata": {
        "papermill": {
          "duration": 0.012033,
          "end_time": "2023-06-01T21:49:36.906757",
          "exception": false,
          "start_time": "2023-06-01T21:49:36.894724",
          "status": "completed"
        },
        "tags": []
      },
      "source": [
        "note that we also kept track of the `batch_shape`, i.e. the number of independent simulations (usually number of wavelengths). In the example being used here we don't have a batch dimension (all elements of the `SDict` are `0D`):"
      ]
    },
    {
      "cell_type": "code",
      "execution_count": 26,
      "id": "7513759a",
      "metadata": {
        "execution": {
          "iopub.execute_input": "2023-06-01T21:49:36.931845Z",
          "iopub.status.busy": "2023-06-01T21:49:36.931525Z",
          "iopub.status.idle": "2023-06-01T21:49:36.934909Z",
          "shell.execute_reply": "2023-06-01T21:49:36.934534Z"
        },
        "papermill": {
          "duration": 0.01841,
          "end_time": "2023-06-01T21:49:36.937167",
          "exception": false,
          "start_time": "2023-06-01T21:49:36.918757",
          "status": "completed"
        },
        "tags": []
      },
      "outputs": [
        {
          "data": {
            "text/plain": [
              "()"
            ]
          },
          "execution_count": 26,
          "metadata": {},
          "output_type": "execute_result"
        }
      ],
      "source": [
        "batch_shape"
      ]
    },
    {
      "cell_type": "markdown",
      "id": "c63b14d7",
      "metadata": {
        "papermill": {
          "duration": 0.012251,
          "end_time": "2023-06-01T21:49:36.961845",
          "exception": false,
          "start_time": "2023-06-01T21:49:36.949594",
          "status": "completed"
        },
        "tags": []
      },
      "source": [
        "We'll also keep track of the number of columns"
      ]
    },
    {
      "cell_type": "code",
      "execution_count": 27,
      "id": "89000432",
      "metadata": {
        "execution": {
          "iopub.execute_input": "2023-06-01T21:49:36.987246Z",
          "iopub.status.busy": "2023-06-01T21:49:36.986922Z",
          "iopub.status.idle": "2023-06-01T21:49:36.990244Z",
          "shell.execute_reply": "2023-06-01T21:49:36.989874Z"
        },
        "papermill": {
          "duration": 0.018471,
          "end_time": "2023-06-01T21:49:36.992406",
          "exception": false,
          "start_time": "2023-06-01T21:49:36.973935",
          "status": "completed"
        },
        "tags": []
      },
      "outputs": [
        {
          "data": {
            "text/plain": [
              "10"
            ]
          },
          "execution_count": 27,
          "metadata": {},
          "output_type": "execute_result"
        }
      ],
      "source": [
        "n_col = idx\n",
        "n_col"
      ]
    },
    {
      "cell_type": "markdown",
      "id": "7b0f95da",
      "metadata": {
        "papermill": {
          "duration": 0.012018,
          "end_time": "2023-06-01T21:49:37.016489",
          "exception": false,
          "start_time": "2023-06-01T21:49:37.004471",
          "status": "completed"
        },
        "tags": []
      },
      "source": [
        "And we'll need to solve the circuit for each output port, i.e. we need to solve `n_rhs` number of equations:"
      ]
    },
    {
      "cell_type": "code",
      "execution_count": 28,
      "id": "27902354",
      "metadata": {
        "execution": {
          "iopub.execute_input": "2023-06-01T21:49:37.041832Z",
          "iopub.status.busy": "2023-06-01T21:49:37.041508Z",
          "iopub.status.idle": "2023-06-01T21:49:37.044808Z",
          "shell.execute_reply": "2023-06-01T21:49:37.044457Z"
        },
        "papermill": {
          "duration": 0.018402,
          "end_time": "2023-06-01T21:49:37.046941",
          "exception": false,
          "start_time": "2023-06-01T21:49:37.028539",
          "status": "completed"
        },
        "tags": []
      },
      "outputs": [
        {
          "data": {
            "text/plain": [
              "4"
            ]
          },
          "execution_count": 28,
          "metadata": {},
          "output_type": "execute_result"
        }
      ],
      "source": [
        "n_rhs = len(port_map)\n",
        "n_rhs"
      ]
    },
    {
      "cell_type": "markdown",
      "id": "05056b46",
      "metadata": {
        "papermill": {
          "duration": 0.012308,
          "end_time": "2023-06-01T21:49:37.071543",
          "exception": false,
          "start_time": "2023-06-01T21:49:37.059235",
          "status": "completed"
        },
        "tags": []
      },
      "source": [
        "We can represent the internal connection matrix $C_{int}$ as a mapping between port indices:"
      ]
    },
    {
      "cell_type": "code",
      "execution_count": 29,
      "id": "f3ff1fa7",
      "metadata": {
        "execution": {
          "iopub.execute_input": "2023-06-01T21:49:37.097345Z",
          "iopub.status.busy": "2023-06-01T21:49:37.097030Z",
          "iopub.status.idle": "2023-06-01T21:49:37.100826Z",
          "shell.execute_reply": "2023-06-01T21:49:37.100481Z"
        },
        "papermill": {
          "duration": 0.019075,
          "end_time": "2023-06-01T21:49:37.102964",
          "exception": false,
          "start_time": "2023-06-01T21:49:37.083889",
          "status": "completed"
        },
        "tags": []
      },
      "outputs": [
        {
          "data": {
            "text/plain": [
              "{2: 4, 5: 6, 3: 7, 4: 2, 6: 5, 7: 3}"
            ]
          },
          "execution_count": 29,
          "metadata": {},
          "output_type": "execute_result"
        }
      ],
      "source": [
        "Cmap = {int(instance_ports[k]): int(instance_ports[v]) for k, v in connections.items()}\n",
        "Cmap"
      ]
    },
    {
      "cell_type": "markdown",
      "id": "999164af",
      "metadata": {
        "papermill": {
          "duration": 0.012359,
          "end_time": "2023-06-01T21:49:37.127711",
          "exception": false,
          "start_time": "2023-06-01T21:49:37.115352",
          "status": "completed"
        },
        "tags": []
      },
      "source": [
        "Therefore, the COO-representation of this connection matrix can be obtained as follows (note that an array of values Cx is not necessary, all non-zero elements in a connection matrix are 1)"
      ]
    },
    {
      "cell_type": "code",
      "execution_count": 30,
      "id": "9e4f1728",
      "metadata": {
        "execution": {
          "iopub.execute_input": "2023-06-01T21:49:37.153393Z",
          "iopub.status.busy": "2023-06-01T21:49:37.153079Z",
          "iopub.status.idle": "2023-06-01T21:49:37.158006Z",
          "shell.execute_reply": "2023-06-01T21:49:37.157641Z"
        },
        "papermill": {
          "duration": 0.020158,
          "end_time": "2023-06-01T21:49:37.160127",
          "exception": false,
          "start_time": "2023-06-01T21:49:37.139969",
          "status": "completed"
        },
        "tags": []
      },
      "outputs": [
        {
          "name": "stdout",
          "output_type": "stream",
          "text": [
            "[2 5 3 4 6 7]\n",
            "[4 6 7 2 5 3]\n"
          ]
        }
      ],
      "source": [
        "Ci = jnp.array(list(Cmap.keys()), dtype=jnp.int32)\n",
        "Cj = jnp.array(list(Cmap.values()), dtype=jnp.int32)\n",
        "print(Ci)\n",
        "print(Cj)"
      ]
    },
    {
      "cell_type": "markdown",
      "id": "47d5ed60",
      "metadata": {
        "papermill": {
          "duration": 0.012351,
          "end_time": "2023-06-01T21:49:37.185046",
          "exception": false,
          "start_time": "2023-06-01T21:49:37.172695",
          "status": "completed"
        },
        "tags": []
      },
      "source": [
        "We can represent the external connection matrix $C_{ext}$ as a map between internal port indices and external port indices:"
      ]
    },
    {
      "cell_type": "code",
      "execution_count": 31,
      "id": "f56ae166",
      "metadata": {
        "execution": {
          "iopub.execute_input": "2023-06-01T21:49:37.210949Z",
          "iopub.status.busy": "2023-06-01T21:49:37.210649Z",
          "iopub.status.idle": "2023-06-01T21:49:37.214212Z",
          "shell.execute_reply": "2023-06-01T21:49:37.213863Z"
        },
        "papermill": {
          "duration": 0.018957,
          "end_time": "2023-06-01T21:49:37.216402",
          "exception": false,
          "start_time": "2023-06-01T21:49:37.197445",
          "status": "completed"
        },
        "tags": []
      },
      "outputs": [
        {
          "data": {
            "text/plain": [
              "{0: 0, 1: 1, 8: 2, 9: 3}"
            ]
          },
          "execution_count": 31,
          "metadata": {},
          "output_type": "execute_result"
        }
      ],
      "source": [
        "Cextmap = {int(instance_ports[k]): int(port_map[v]) for k, v in inverse_ports.items()}\n",
        "Cextmap"
      ]
    },
    {
      "cell_type": "markdown",
      "id": "2485c01d",
      "metadata": {
        "papermill": {
          "duration": 0.012421,
          "end_time": "2023-06-01T21:49:37.242211",
          "exception": false,
          "start_time": "2023-06-01T21:49:37.229790",
          "status": "completed"
        },
        "tags": []
      },
      "source": [
        "Just as for the internal matrix we can represent this external connection matrix in COO-format:"
      ]
    },
    {
      "cell_type": "code",
      "execution_count": 32,
      "id": "cfb419ac",
      "metadata": {
        "execution": {
          "iopub.execute_input": "2023-06-01T21:49:37.268038Z",
          "iopub.status.busy": "2023-06-01T21:49:37.267826Z",
          "iopub.status.idle": "2023-06-01T21:49:37.296881Z",
          "shell.execute_reply": "2023-06-01T21:49:37.296483Z"
        },
        "papermill": {
          "duration": 0.04356,
          "end_time": "2023-06-01T21:49:37.298154",
          "exception": false,
          "start_time": "2023-06-01T21:49:37.254594",
          "status": "completed"
        },
        "tags": []
      },
      "outputs": [
        {
          "name": "stdout",
          "output_type": "stream",
          "text": [
            "[0 1 8 9]\n",
            "[0 1 2 3]\n"
          ]
        }
      ],
      "source": [
        "Cexti = jnp.stack(list(Cextmap.keys()), 0)\n",
        "Cextj = jnp.stack(list(Cextmap.values()), 0)\n",
        "print(Cexti)\n",
        "print(Cextj)"
      ]
    },
    {
      "cell_type": "markdown",
      "id": "e46d609c",
      "metadata": {
        "papermill": {
          "duration": 0.012607,
          "end_time": "2023-06-01T21:49:37.323765",
          "exception": false,
          "start_time": "2023-06-01T21:49:37.311158",
          "status": "completed"
        },
        "tags": []
      },
      "source": [
        "However, we actually need it as a dense representation:\n",
        "\n",
        "> help needed: can we find a way later on to keep this sparse?"
      ]
    },
    {
      "cell_type": "code",
      "execution_count": 33,
      "id": "25c4ec6e",
      "metadata": {
        "execution": {
          "iopub.execute_input": "2023-06-01T21:49:37.349906Z",
          "iopub.status.busy": "2023-06-01T21:49:37.349688Z",
          "iopub.status.idle": "2023-06-01T21:49:37.473673Z",
          "shell.execute_reply": "2023-06-01T21:49:37.473249Z"
        },
        "papermill": {
          "duration": 0.13879,
          "end_time": "2023-06-01T21:49:37.475079",
          "exception": false,
          "start_time": "2023-06-01T21:49:37.336289",
          "status": "completed"
        },
        "tags": []
      },
      "outputs": [],
      "source": [
        "if JAX_AVAILABLE:\n",
        "    Cext = jnp.zeros((n_col, n_rhs), dtype=complex).at[Cexti, Cextj].set(1.0)\n",
        "    Cext"
      ]
    },
    {
      "cell_type": "markdown",
      "id": "b31cc279",
      "metadata": {
        "papermill": {
          "duration": 0.0129,
          "end_time": "2023-06-01T21:49:37.501490",
          "exception": false,
          "start_time": "2023-06-01T21:49:37.488590",
          "status": "completed"
        },
        "tags": []
      },
      "source": [
        "We'll now calculate the row index `CSi` of $C_{int}S_{bd}$ in COO-format:"
      ]
    },
    {
      "cell_type": "code",
      "execution_count": 34,
      "id": "04b3c92aa37b8cd0",
      "metadata": {
        "execution": {
          "iopub.execute_input": "2023-06-01T21:49:37.527990Z",
          "iopub.status.busy": "2023-06-01T21:49:37.527762Z",
          "iopub.status.idle": "2023-06-01T21:49:37.702757Z",
          "shell.execute_reply": "2023-06-01T21:49:37.702392Z"
        },
        "papermill": {
          "duration": 0.189851,
          "end_time": "2023-06-01T21:49:37.704063",
          "exception": false,
          "start_time": "2023-06-01T21:49:37.514212",
          "status": "completed"
        },
        "tags": []
      },
      "outputs": [
        {
          "data": {
            "text/plain": [
              "Array([4, 4, 4, 4, 7, 7, 7, 7, 2, 6, 5, 5, 5, 5, 3, 3, 3, 3], dtype=int32)"
            ]
          },
          "execution_count": 34,
          "metadata": {},
          "output_type": "execute_result"
        }
      ],
      "source": [
        "# TODO: make this block jittable...\n",
        "Ix = jnp.ones((*batch_shape, n_col))\n",
        "Ii = Ij = jnp.arange(n_col)\n",
        "mask = Cj[None,:] == Si[:, None]\n",
        "CSi = jnp.broadcast_to(Ci[None, :], mask.shape)[mask]\n",
        "CSi"
      ]
    },
    {
      "cell_type": "markdown",
      "id": "a2657582",
      "metadata": {
        "papermill": {
          "duration": 0.012732,
          "end_time": "2023-06-01T21:49:37.730068",
          "exception": false,
          "start_time": "2023-06-01T21:49:37.717336",
          "status": "completed"
        },
        "tags": []
      },
      "source": [
        "> `CSi`: possible jittable alternative? how do we remove the zeros?"
      ]
    },
    {
      "cell_type": "code",
      "execution_count": 35,
      "id": "d4ea2cb5",
      "metadata": {
        "execution": {
          "iopub.execute_input": "2023-06-01T21:49:37.756472Z",
          "iopub.status.busy": "2023-06-01T21:49:37.756245Z",
          "iopub.status.idle": "2023-06-01T21:49:37.796926Z",
          "shell.execute_reply": "2023-06-01T21:49:37.796578Z"
        },
        "papermill": {
          "duration": 0.055475,
          "end_time": "2023-06-01T21:49:37.798261",
          "exception": false,
          "start_time": "2023-06-01T21:49:37.742786",
          "status": "completed"
        },
        "tags": []
      },
      "outputs": [
        {
          "data": {
            "text/plain": [
              "Array([0, 0, 0, 0, 0, 0, 0, 0, 4, 4, 4, 4, 7, 7, 7, 7, 2, 6, 5, 5, 5, 5,\n",
              "       3, 3, 3, 3, 0, 0, 0, 0, 0, 0, 0, 0], dtype=int32)"
            ]
          },
          "execution_count": 35,
          "metadata": {},
          "output_type": "execute_result"
        }
      ],
      "source": [
        "CSi_ = jnp.where(Cj[None, :] == Si[:, None], Ci[None, :], 0).sum(1) # not used\n",
        "CSi_ # not used"
      ]
    },
    {
      "cell_type": "markdown",
      "id": "44fc620e",
      "metadata": {
        "papermill": {
          "duration": 0.012952,
          "end_time": "2023-06-01T21:49:37.824419",
          "exception": false,
          "start_time": "2023-06-01T21:49:37.811467",
          "status": "completed"
        },
        "tags": []
      },
      "source": [
        "The column index `CSj` of $C_{int}S_{bd}$ can more easily be obtained:"
      ]
    },
    {
      "cell_type": "code",
      "execution_count": 36,
      "id": "f71fdd7c",
      "metadata": {
        "execution": {
          "iopub.execute_input": "2023-06-01T21:49:37.851251Z",
          "iopub.status.busy": "2023-06-01T21:49:37.851026Z",
          "iopub.status.idle": "2023-06-01T21:49:37.923229Z",
          "shell.execute_reply": "2023-06-01T21:49:37.922862Z"
        },
        "papermill": {
          "duration": 0.087021,
          "end_time": "2023-06-01T21:49:37.924392",
          "exception": false,
          "start_time": "2023-06-01T21:49:37.837371",
          "status": "completed"
        },
        "tags": []
      },
      "outputs": [
        {
          "data": {
            "text/plain": [
              "Array([0, 1, 2, 3, 0, 1, 2, 3, 5, 4, 6, 7, 8, 9, 6, 7, 8, 9], dtype=int32)"
            ]
          },
          "execution_count": 36,
          "metadata": {},
          "output_type": "execute_result"
        }
      ],
      "source": [
        "mask = (Cj[:, None] == Si[None, :]).any(0)\n",
        "CSj = Sj[mask]\n",
        "CSj"
      ]
    },
    {
      "cell_type": "markdown",
      "id": "99bf7684",
      "metadata": {
        "papermill": {
          "duration": 0.012967,
          "end_time": "2023-06-01T21:49:37.950854",
          "exception": false,
          "start_time": "2023-06-01T21:49:37.937887",
          "status": "completed"
        },
        "tags": []
      },
      "source": [
        "> `CSj`: possible jittable alternative? how do we remove the zeros?"
      ]
    },
    {
      "cell_type": "code",
      "execution_count": 37,
      "id": "ffa7bc82",
      "metadata": {
        "execution": {
          "iopub.execute_input": "2023-06-01T21:49:37.977912Z",
          "iopub.status.busy": "2023-06-01T21:49:37.977667Z",
          "iopub.status.idle": "2023-06-01T21:49:38.001585Z",
          "shell.execute_reply": "2023-06-01T21:49:38.001225Z"
        },
        "papermill": {
          "duration": 0.039176,
          "end_time": "2023-06-01T21:49:38.002928",
          "exception": false,
          "start_time": "2023-06-01T21:49:37.963752",
          "status": "completed"
        },
        "tags": []
      },
      "outputs": [
        {
          "data": {
            "text/plain": [
              "Array([0, 0, 0, 0, 0, 0, 0, 0, 0, 1, 2, 3, 0, 1, 2, 3, 5, 4, 6, 7, 8, 9,\n",
              "       6, 7, 8, 9, 0, 0, 0, 0, 0, 0, 0, 0], dtype=int32)"
            ]
          },
          "execution_count": 37,
          "metadata": {},
          "output_type": "execute_result"
        }
      ],
      "source": [
        "CSj_ = jnp.where(mask, Sj, 0) # not used\n",
        "CSj_ # not used"
      ]
    },
    {
      "cell_type": "markdown",
      "id": "e0fc6d02",
      "metadata": {
        "papermill": {
          "duration": 0.01318,
          "end_time": "2023-06-01T21:49:38.029774",
          "exception": false,
          "start_time": "2023-06-01T21:49:38.016594",
          "status": "completed"
        },
        "tags": []
      },
      "source": [
        "Finally, the values `CSx` of $C_{int}S_{bd}$ can be obtained as follows:"
      ]
    },
    {
      "cell_type": "code",
      "execution_count": 38,
      "id": "59d2e1b2",
      "metadata": {
        "execution": {
          "iopub.execute_input": "2023-06-01T21:49:38.057075Z",
          "iopub.status.busy": "2023-06-01T21:49:38.056841Z",
          "iopub.status.idle": "2023-06-01T21:49:38.082957Z",
          "shell.execute_reply": "2023-06-01T21:49:38.082599Z"
        },
        "papermill": {
          "duration": 0.041376,
          "end_time": "2023-06-01T21:49:38.084231",
          "exception": false,
          "start_time": "2023-06-01T21:49:38.042855",
          "status": "completed"
        },
        "tags": []
      },
      "outputs": [
        {
          "data": {
            "text/plain": [
              "Array([0.70710677+0.j        , 0.        +0.70710677j,\n",
              "       0.        +0.j        , 0.        +0.j        ,\n",
              "       0.        +0.70710677j, 0.70710677+0.j        ,\n",
              "       0.        +0.j        , 0.        +0.j        ,\n",
              "       0.5       +0.86603j   , 0.5       +0.86603j   ,\n",
              "       0.        +0.j        , 0.        +0.j        ,\n",
              "       0.70710677+0.j        , 0.        +0.70710677j,\n",
              "       0.        +0.j        , 0.        +0.j        ,\n",
              "       0.        +0.70710677j, 0.70710677+0.j        ], dtype=complex64)"
            ]
          },
          "execution_count": 38,
          "metadata": {},
          "output_type": "execute_result"
        }
      ],
      "source": [
        "if Sx.ndim > 1:\n",
        "    CSx = Sx[..., mask] # normally this should be enough\n",
        "else:\n",
        "    CSx = Sx[mask] # need separate case bc bug in JAX... see https://github.com/google/jax/issues/9050\n",
        "   \n",
        "CSx"
      ]
    },
    {
      "cell_type": "markdown",
      "id": "c02035bd",
      "metadata": {
        "papermill": {
          "duration": 0.013179,
          "end_time": "2023-06-01T21:49:38.110925",
          "exception": false,
          "start_time": "2023-06-01T21:49:38.097746",
          "status": "completed"
        },
        "tags": []
      },
      "source": [
        "> `CSx`: possible jittable alternative? how do we remove the zeros?"
      ]
    },
    {
      "cell_type": "code",
      "execution_count": 39,
      "id": "107e9e80",
      "metadata": {
        "execution": {
          "iopub.execute_input": "2023-06-01T21:49:38.138431Z",
          "iopub.status.busy": "2023-06-01T21:49:38.138200Z",
          "iopub.status.idle": "2023-06-01T21:49:38.160621Z",
          "shell.execute_reply": "2023-06-01T21:49:38.160275Z"
        },
        "papermill": {
          "duration": 0.037748,
          "end_time": "2023-06-01T21:49:38.161896",
          "exception": false,
          "start_time": "2023-06-01T21:49:38.124148",
          "status": "completed"
        },
        "tags": []
      },
      "outputs": [
        {
          "data": {
            "text/plain": [
              "Array([0.        +0.j        , 0.        +0.j        ,\n",
              "       0.        +0.j        , 0.        +0.j        ,\n",
              "       0.        +0.j        , 0.        +0.j        ,\n",
              "       0.        +0.j        , 0.        +0.j        ,\n",
              "       0.70710677+0.j        , 0.        +0.70710677j,\n",
              "       0.        +0.j        , 0.        +0.j        ,\n",
              "       0.        +0.70710677j, 0.70710677+0.j        ,\n",
              "       0.        +0.j        , 0.        +0.j        ,\n",
              "       0.5       +0.86603j   , 0.5       +0.86603j   ,\n",
              "       0.        +0.j        , 0.        +0.j        ,\n",
              "       0.70710677+0.j        , 0.        +0.70710677j,\n",
              "       0.        +0.j        , 0.        +0.j        ,\n",
              "       0.        +0.70710677j, 0.70710677+0.j        ,\n",
              "       0.        +0.j        , 0.        +0.j        ,\n",
              "       0.        +0.j        , 0.        +0.j        ,\n",
              "       0.        +0.j        , 0.        +0.j        ,\n",
              "       0.        +0.j        , 0.        +0.j        ], dtype=complex64)"
            ]
          },
          "execution_count": 39,
          "metadata": {},
          "output_type": "execute_result"
        }
      ],
      "source": [
        "CSx_ = jnp.where(mask, Sx, 0.0) # not used\n",
        "CSx_ # not used"
      ]
    },
    {
      "cell_type": "markdown",
      "id": "9411edf5",
      "metadata": {
        "papermill": {
          "duration": 0.013301,
          "end_time": "2023-06-01T21:49:38.188775",
          "exception": false,
          "start_time": "2023-06-01T21:49:38.175474",
          "status": "completed"
        },
        "tags": []
      },
      "source": [
        "Now we calculate $\\mathbb{1} - C_{int}S_{bd}$ in an *uncoalesced* way (we might have duplicate indices on the diagonal):\n",
        "\n",
        "> **uncoalesced**: having duplicate index combinations (i, j) in the representation possibly with different corresponding values. This is usually not a problem as in linear operations these values will end up to be summed, usually the behavior you want:"
      ]
    },
    {
      "cell_type": "code",
      "execution_count": 40,
      "id": "53c3f4ab",
      "metadata": {
        "execution": {
          "iopub.execute_input": "2023-06-01T21:49:38.217477Z",
          "iopub.status.busy": "2023-06-01T21:49:38.217247Z",
          "iopub.status.idle": "2023-06-01T21:49:38.273755Z",
          "shell.execute_reply": "2023-06-01T21:49:38.273348Z"
        },
        "papermill": {
          "duration": 0.072574,
          "end_time": "2023-06-01T21:49:38.275063",
          "exception": false,
          "start_time": "2023-06-01T21:49:38.202489",
          "status": "completed"
        },
        "tags": []
      },
      "outputs": [
        {
          "name": "stdout",
          "output_type": "stream",
          "text": [
            "[4 4 4 4 7 7 7 7 2 6 5 5 5 5 3 3 3 3 0 1 2 3 4 5 6 7 8 9]\n",
            "[0 1 2 3 0 1 2 3 5 4 6 7 8 9 6 7 8 9 0 1 2 3 4 5 6 7 8 9]\n",
            "[-0.70710677-0.j         -0.        -0.70710677j -0.        -0.j\n",
            " -0.        -0.j         -0.        -0.70710677j -0.70710677-0.j\n",
            " -0.        -0.j         -0.        -0.j         -0.5       -0.86603j\n",
            " -0.5       -0.86603j    -0.        -0.j         -0.        -0.j\n",
            " -0.70710677-0.j         -0.        -0.70710677j -0.        -0.j\n",
            " -0.        -0.j         -0.        -0.70710677j -0.70710677-0.j\n",
            "  1.        +0.j          1.        +0.j          1.        +0.j\n",
            "  1.        +0.j          1.        +0.j          1.        +0.j\n",
            "  1.        +0.j          1.        +0.j          1.        +0.j\n",
            "  1.        +0.j        ]\n"
          ]
        }
      ],
      "source": [
        "I_CSi = jnp.concatenate([CSi, Ii], -1)\n",
        "I_CSj = jnp.concatenate([CSj, Ij], -1)\n",
        "I_CSx = jnp.concatenate([-CSx, Ix], -1)\n",
        "print(I_CSi)\n",
        "print(I_CSj)\n",
        "print(I_CSx)"
      ]
    },
    {
      "cell_type": "code",
      "execution_count": 41,
      "id": "188e4606",
      "metadata": {
        "execution": {
          "iopub.execute_input": "2023-06-01T21:49:38.303425Z",
          "iopub.status.busy": "2023-06-01T21:49:38.303207Z",
          "iopub.status.idle": "2023-06-01T21:49:38.305991Z",
          "shell.execute_reply": "2023-06-01T21:49:38.305613Z"
        },
        "papermill": {
          "duration": 0.01909,
          "end_time": "2023-06-01T21:49:38.308073",
          "exception": false,
          "start_time": "2023-06-01T21:49:38.288983",
          "status": "completed"
        },
        "tags": []
      },
      "outputs": [
        {
          "name": "stdout",
          "output_type": "stream",
          "text": [
            "10 4\n"
          ]
        }
      ],
      "source": [
        "if JAX_AVAILABLE:\n",
        "    n_col, n_rhs = Cext.shape\n",
        "    print(n_col, n_rhs)"
      ]
    },
    {
      "cell_type": "markdown",
      "id": "e018c515",
      "metadata": {
        "papermill": {
          "duration": 0.013384,
          "end_time": "2023-06-01T21:49:38.334902",
          "exception": false,
          "start_time": "2023-06-01T21:49:38.321518",
          "status": "completed"
        },
        "tags": []
      },
      "source": [
        "The batch shape dimension can generally speaking be anything (in the example here 0D). We need to do the necessary reshapings to make the batch shape 1D:"
      ]
    },
    {
      "cell_type": "code",
      "execution_count": 42,
      "id": "dad259e7",
      "metadata": {
        "execution": {
          "iopub.execute_input": "2023-06-01T21:49:38.362730Z",
          "iopub.status.busy": "2023-06-01T21:49:38.362521Z",
          "iopub.status.idle": "2023-06-01T21:49:38.379852Z",
          "shell.execute_reply": "2023-06-01T21:49:38.379479Z"
        },
        "papermill": {
          "duration": 0.032817,
          "end_time": "2023-06-01T21:49:38.381114",
          "exception": false,
          "start_time": "2023-06-01T21:49:38.348297",
          "status": "completed"
        },
        "tags": []
      },
      "outputs": [
        {
          "name": "stdout",
          "output_type": "stream",
          "text": [
            "1\n"
          ]
        }
      ],
      "source": [
        "n_lhs = jnp.prod(jnp.array(batch_shape, dtype=jnp.int32))\n",
        "print(n_lhs)"
      ]
    },
    {
      "cell_type": "code",
      "execution_count": 43,
      "id": "9cf69da7",
      "metadata": {
        "execution": {
          "iopub.execute_input": "2023-06-01T21:49:38.409454Z",
          "iopub.status.busy": "2023-06-01T21:49:38.409246Z",
          "iopub.status.idle": "2023-06-01T21:49:38.425928Z",
          "shell.execute_reply": "2023-06-01T21:49:38.425567Z"
        },
        "papermill": {
          "duration": 0.032239,
          "end_time": "2023-06-01T21:49:38.427185",
          "exception": false,
          "start_time": "2023-06-01T21:49:38.394946",
          "status": "completed"
        },
        "tags": []
      },
      "outputs": [
        {
          "data": {
            "text/plain": [
              "(1, 34)"
            ]
          },
          "execution_count": 43,
          "metadata": {},
          "output_type": "execute_result"
        }
      ],
      "source": [
        "Sx = Sx.reshape(n_lhs, -1)\n",
        "Sx.shape"
      ]
    },
    {
      "cell_type": "code",
      "execution_count": 44,
      "id": "788294fa",
      "metadata": {
        "execution": {
          "iopub.execute_input": "2023-06-01T21:49:38.455555Z",
          "iopub.status.busy": "2023-06-01T21:49:38.455351Z",
          "iopub.status.idle": "2023-06-01T21:49:38.471528Z",
          "shell.execute_reply": "2023-06-01T21:49:38.471058Z"
        },
        "papermill": {
          "duration": 0.031702,
          "end_time": "2023-06-01T21:49:38.472742",
          "exception": false,
          "start_time": "2023-06-01T21:49:38.441040",
          "status": "completed"
        },
        "tags": []
      },
      "outputs": [
        {
          "data": {
            "text/plain": [
              "(1, 28)"
            ]
          },
          "execution_count": 44,
          "metadata": {},
          "output_type": "execute_result"
        }
      ],
      "source": [
        "I_CSx = I_CSx.reshape(n_lhs, -1)\n",
        "I_CSx.shape"
      ]
    },
    {
      "cell_type": "markdown",
      "id": "ec741031",
      "metadata": {
        "papermill": {
          "duration": 0.013678,
          "end_time": "2023-06-01T21:49:38.500330",
          "exception": false,
          "start_time": "2023-06-01T21:49:38.486652",
          "status": "completed"
        },
        "tags": []
      },
      "source": [
        "We're finally ready to do the most important part of the calculation, which we conveniently leave to `klujax` and `SuiteSparse`:"
      ]
    },
    {
      "cell_type": "code",
      "execution_count": 45,
      "id": "9c1d8644",
      "metadata": {
        "execution": {
          "iopub.execute_input": "2023-06-01T21:49:38.528911Z",
          "iopub.status.busy": "2023-06-01T21:49:38.528566Z",
          "iopub.status.idle": "2023-06-01T21:49:38.535208Z",
          "shell.execute_reply": "2023-06-01T21:49:38.534798Z"
        },
        "papermill": {
          "duration": 0.022543,
          "end_time": "2023-06-01T21:49:38.536599",
          "exception": false,
          "start_time": "2023-06-01T21:49:38.514056",
          "status": "completed"
        },
        "tags": []
      },
      "outputs": [],
      "source": [
        "if klujax is not None:\n",
        "    inv_I_CS_Cext = solve_klu(I_CSi, I_CSj, I_CSx, Cext)\n",
        "else:\n",
        "    inv_I_CS_Cext = jnp.array([[[1.0 + 0.0j, 0.0 + 0.0j, 0.0 + 0.0j, 0.0 + 0.0j], [0.0 + 0.0j, 1.0 + 0.0j, 0.0 + 0.0j, 0.0 + 0.0j], [ -0.0 + 0.0j, -0.0 + 0.0j, 0.35355339 + 0.61237569j, -0.61237569 + 0.35355339j, ], [0.0 + 0.0j, 0.0 + 0.0j, 0.0 + 0.70710678j, 0.70710678 + 0.0j], [0.70710678 - 0.0j, -0.0 + 0.70710678j, -0.0 - 0.0j, -0.0 - 0.0j], [-0.0 - 0.0j, -0.0 - 0.0j, 0.70710678 - 0.0j, -0.0 + 0.70710678j], [ 0.35355339 + 0.61237569j, -0.61237569 + 0.35355339j, -0.0 + 0.0j, -0.0 + 0.0j, ], [0.0 + 0.70710678j, 0.70710678 + 0.0j, 0.0 + 0.0j, 0.0 + 0.0j], [0.0 + 0.0j, 0.0 + 0.0j, 1.0 + 0.0j, 0.0 + 0.0j], [0.0 + 0.0j, 0.0 + 0.0j, 0.0 + 0.0j, 1.0 + 0.0j]]])"
      ]
    },
    {
      "cell_type": "markdown",
      "id": "e51487df",
      "metadata": {
        "papermill": {
          "duration": 0.013703,
          "end_time": "2023-06-01T21:49:38.563979",
          "exception": false,
          "start_time": "2023-06-01T21:49:38.550276",
          "status": "completed"
        },
        "tags": []
      },
      "source": [
        "one more sparse multiplication:"
      ]
    },
    {
      "cell_type": "code",
      "execution_count": 46,
      "id": "cccda072",
      "metadata": {
        "execution": {
          "iopub.execute_input": "2023-06-01T21:49:38.592350Z",
          "iopub.status.busy": "2023-06-01T21:49:38.592050Z",
          "iopub.status.idle": "2023-06-01T21:49:38.597181Z",
          "shell.execute_reply": "2023-06-01T21:49:38.596745Z"
        },
        "papermill": {
          "duration": 0.021026,
          "end_time": "2023-06-01T21:49:38.598653",
          "exception": false,
          "start_time": "2023-06-01T21:49:38.577627",
          "status": "completed"
        },
        "tags": []
      },
      "outputs": [],
      "source": [
        "if klujax is not None:\n",
        "    S_inv_I_CS_Cext = mul_coo(Si, Sj, Sx, inv_I_CS_Cext)\n",
        "else:\n",
        "    S_inv_I_CS_Cext = jnp.array([[[0.0 + 0.0j, 0.0 + 0.0j, -0.25 + 0.433015j, -0.433015 + 0.75j], [0.0 + 0.0j, 0.0 + 0.0j, -0.433015 + 0.75j, 0.25 - 0.433015j], [0.70710678 + 0.0j, 0.0 + 0.70710678j, 0.0 + 0.0j, 0.0 + 0.0j], [0.0 + 0.70710678j, 0.70710678 + 0.0j, 0.0 + 0.0j, 0.0 + 0.0j], [ 0.0 + 0.0j, 0.0 + 0.0j, 0.35355339 + 0.61237569j, -0.61237569 + 0.35355339j, ], [ 0.35355339 + 0.61237569j, -0.61237569 + 0.35355339j, 0.0 + 0.0j, 0.0 + 0.0j, ], [0.0 + 0.0j, 0.0 + 0.0j, 0.70710678 + 0.0j, 0.0 + 0.70710678j], [0.0 + 0.0j, 0.0 + 0.0j, 0.0 + 0.70710678j, 0.70710678 + 0.0j], [-0.25 + 0.433015j, -0.433015 + 0.75j, 0.0 + 0.0j, 0.0 + 0.0j], [-0.433015 + 0.75j, 0.25 - 0.433015j, 0.0 + 0.0j, 0.0 + 0.0j]]])"
      ]
    },
    {
      "cell_type": "markdown",
      "id": "627a98f7",
      "metadata": {
        "papermill": {
          "duration": 0.013702,
          "end_time": "2023-06-01T21:49:38.626014",
          "exception": false,
          "start_time": "2023-06-01T21:49:38.612312",
          "status": "completed"
        },
        "tags": []
      },
      "source": [
        "And one more $C_{ext}$ multiplication which we do by clever indexing:"
      ]
    },
    {
      "cell_type": "code",
      "execution_count": 47,
      "id": "12ff877c",
      "metadata": {
        "execution": {
          "iopub.execute_input": "2023-06-01T21:49:38.654774Z",
          "iopub.status.busy": "2023-06-01T21:49:38.654424Z",
          "iopub.status.idle": "2023-06-01T21:49:38.661597Z",
          "shell.execute_reply": "2023-06-01T21:49:38.661170Z"
        },
        "papermill": {
          "duration": 0.022997,
          "end_time": "2023-06-01T21:49:38.662874",
          "exception": false,
          "start_time": "2023-06-01T21:49:38.639877",
          "status": "completed"
        },
        "tags": []
      },
      "outputs": [
        {
          "data": {
            "text/plain": [
              "Array([[[ 0.      +0.j      ,  0.      +0.j      , -0.25    +0.433015j,\n",
              "         -0.433015+0.75j    ],\n",
              "        [ 0.      +0.j      ,  0.      +0.j      , -0.433015+0.75j    ,\n",
              "          0.25    -0.433015j],\n",
              "        [-0.25    +0.433015j, -0.433015+0.75j    ,  0.      +0.j      ,\n",
              "          0.      +0.j      ],\n",
              "        [-0.433015+0.75j    ,  0.25    -0.433015j,  0.      +0.j      ,\n",
              "          0.      +0.j      ]]], dtype=complex64)"
            ]
          },
          "execution_count": 47,
          "metadata": {},
          "output_type": "execute_result"
        }
      ],
      "source": [
        "if klujax is not None:\n",
        "    CextT_S_inv_I_CS_Cext = S_inv_I_CS_Cext[..., Cexti, :][..., :, Cextj]\n",
        "else:\n",
        "    CextT_S_inv_I_CS_Cext = jnp.array([[[0.0 + 0.0j, 0.0 + 0.0j, -0.25 + 0.433015j, -0.433015 + 0.75j], [0.0 + 0.0j, 0.0 + 0.0j, -0.433015 + 0.75j, 0.25 - 0.433015j], [-0.25 + 0.433015j, -0.433015 + 0.75j, 0.0 + 0.0j, 0.0 + 0.0j], [-0.433015 + 0.75j, 0.25 - 0.433015j, 0.0 + 0.0j, 0.0 + 0.0j]]])\n",
        "CextT_S_inv_I_CS_Cext"
      ]
    },
    {
      "cell_type": "markdown",
      "id": "3e1c75b2",
      "metadata": {
        "papermill": {
          "duration": 0.01384,
          "end_time": "2023-06-01T21:49:38.690511",
          "exception": false,
          "start_time": "2023-06-01T21:49:38.676671",
          "status": "completed"
        },
        "tags": []
      },
      "source": [
        "That's it! We found the S-matrix of the circuit. We just need to reshape the batch dimension back into the matrix:"
      ]
    },
    {
      "cell_type": "code",
      "execution_count": 48,
      "id": "cbf962af",
      "metadata": {
        "execution": {
          "iopub.execute_input": "2023-06-01T21:49:38.719165Z",
          "iopub.status.busy": "2023-06-01T21:49:38.718938Z",
          "iopub.status.idle": "2023-06-01T21:49:38.735774Z",
          "shell.execute_reply": "2023-06-01T21:49:38.735324Z"
        },
        "papermill": {
          "duration": 0.032902,
          "end_time": "2023-06-01T21:49:38.737145",
          "exception": false,
          "start_time": "2023-06-01T21:49:38.704243",
          "status": "completed"
        },
        "tags": []
      },
      "outputs": [
        {
          "data": {
            "text/plain": [
              "Array([[ 0.      +0.j      ,  0.      +0.j      , -0.25    +0.433015j,\n",
              "        -0.433015+0.75j    ],\n",
              "       [ 0.      +0.j      ,  0.      +0.j      , -0.433015+0.75j    ,\n",
              "         0.25    -0.433015j],\n",
              "       [-0.25    +0.433015j, -0.433015+0.75j    ,  0.      +0.j      ,\n",
              "         0.      +0.j      ],\n",
              "       [-0.433015+0.75j    ,  0.25    -0.433015j,  0.      +0.j      ,\n",
              "         0.      +0.j      ]], dtype=complex64)"
            ]
          },
          "execution_count": 48,
          "metadata": {},
          "output_type": "execute_result"
        }
      ],
      "source": [
        "_, n, _ = CextT_S_inv_I_CS_Cext.shape\n",
        "S = CextT_S_inv_I_CS_Cext.reshape(*batch_shape, n, n)\n",
        "S"
      ]
    },
    {
      "cell_type": "markdown",
      "id": "1f6dea4c",
      "metadata": {
        "papermill": {
          "duration": 0.013885,
          "end_time": "2023-06-01T21:49:38.765484",
          "exception": false,
          "start_time": "2023-06-01T21:49:38.751599",
          "status": "completed"
        },
        "tags": []
      },
      "source": [
        "Oh and to complete the `SDense` representation we need to specify the port map as well:"
      ]
    },
    {
      "cell_type": "code",
      "execution_count": 49,
      "id": "21098a45",
      "metadata": {
        "execution": {
          "iopub.execute_input": "2023-06-01T21:49:38.794618Z",
          "iopub.status.busy": "2023-06-01T21:49:38.794339Z",
          "iopub.status.idle": "2023-06-01T21:49:38.797754Z",
          "shell.execute_reply": "2023-06-01T21:49:38.797319Z"
        },
        "papermill": {
          "duration": 0.019788,
          "end_time": "2023-06-01T21:49:38.799455",
          "exception": false,
          "start_time": "2023-06-01T21:49:38.779667",
          "status": "completed"
        },
        "tags": []
      },
      "outputs": [
        {
          "data": {
            "text/plain": [
              "{'in0': 0, 'in1': 1, 'out0': 2, 'out1': 3}"
            ]
          },
          "execution_count": 49,
          "metadata": {},
          "output_type": "execute_result"
        }
      ],
      "source": [
        "port_map"
      ]
    },
    {
      "cell_type": "markdown",
      "id": "0cfee3cf",
      "metadata": {
        "papermill": {
          "duration": 0.014482,
          "end_time": "2023-06-01T21:49:38.827943",
          "exception": false,
          "start_time": "2023-06-01T21:49:38.813461",
          "status": "completed"
        },
        "tags": []
      },
      "source": [
        "## Algorithm Improvements"
      ]
    },
    {
      "cell_type": "markdown",
      "id": "26b70270",
      "metadata": {
        "papermill": {
          "duration": 0.013957,
          "end_time": "2023-06-01T21:49:38.855880",
          "exception": false,
          "start_time": "2023-06-01T21:49:38.841923",
          "status": "completed"
        },
        "tags": []
      },
      "source": [
        "This algorithm is \n",
        "\n",
        "* very fast for large circuits \ud83d\ude42\n",
        "\n",
        "This algorithm is however:\n",
        "\n",
        "* **not** jittable \ud83d\ude25\n",
        "* **not** differentiable \ud83d\ude25\n",
        "* **not** GPU-compatible \ud83d\ude42\n",
        "\n",
        "There are probably still plenty of improvements possible for this algorithm:\n",
        "\n",
        "* **\u00bf** make it jittable **?**\n",
        "* **\u00bf** make it differentiable (requires making klujax differentiable first) **?**\n",
        "* **\u00bf** make it GPU compatible (requires making suitesparse GPU compatible... probably not gonna happen)**?**\n",
        "\n",
        "Bottom line is... Do you know how to improve this algorithm or how to implement the above suggestions? Please open a Merge Request!"
      ]
    },
    {
      "cell_type": "markdown",
      "id": "7578c842-033b-4d1f-a84f-e5ad486d4a88",
      "metadata": {
        "papermill": {
          "duration": 0.014086,
          "end_time": "2023-06-01T21:49:38.884293",
          "exception": false,
          "start_time": "2023-06-01T21:49:38.870207",
          "status": "completed"
        },
        "tags": []
      },
      "source": [
        "## Debug"
      ]
    },
    {
      "cell_type": "code",
      "execution_count": 50,
      "id": "8764ab09-12b9-4b3d-9d83-9a0872924077",
      "metadata": {
        "execution": {
          "iopub.execute_input": "2023-06-01T21:49:38.914191Z",
          "iopub.status.busy": "2023-06-01T21:49:38.913858Z",
          "iopub.status.idle": "2023-06-01T21:49:38.922581Z",
          "shell.execute_reply": "2023-06-01T21:49:38.922133Z"
        },
        "papermill": {
          "duration": 0.025016,
          "end_time": "2023-06-01T21:49:38.923826",
          "exception": false,
          "start_time": "2023-06-01T21:49:38.898810",
          "status": "completed"
        },
        "tags": []
      },
      "outputs": [],
      "source": [
        "instances = {\n",
        "    \"lft\": (\n",
        "        jnp.array(\n",
        "            [\n",
        "                [\n",
        "                    5.19688622e-06 - 1.19777138e-05j,\n",
        "                    6.30595625e-16 - 1.48061189e-17j,\n",
        "                    -3.38542541e-01 - 6.15711852e-01j,\n",
        "                    5.80662654e-03 - 1.11068866e-02j,\n",
        "                    -3.38542542e-01 - 6.15711852e-01j,\n",
        "                    -5.80662660e-03 + 1.11068866e-02j,\n",
        "                ],\n",
        "                [\n",
        "                    8.59445189e-16 - 8.29783014e-16j,\n",
        "                    -2.08640825e-06 + 8.17315497e-06j,\n",
        "                    2.03847666e-03 - 2.10649131e-03j,\n",
        "                    5.30509661e-01 + 4.62504708e-01j,\n",
        "                    -2.03847666e-03 + 2.10649129e-03j,\n",
        "                    5.30509662e-01 + 4.62504708e-01j,\n",
        "                ],\n",
        "                [\n",
        "                    -3.38542541e-01 - 6.15711852e-01j,\n",
        "                    2.03847660e-03 - 2.10649129e-03j,\n",
        "                    7.60088070e-06 + 9.07340423e-07j,\n",
        "                    2.79292426e-09 + 2.79093547e-07j,\n",
        "                    5.07842364e-06 + 2.16385350e-06j,\n",
        "                    -6.84244232e-08 - 5.00486817e-07j,\n",
        "                ],\n",
        "                [\n",
        "                    5.80662707e-03 - 1.11068869e-02j,\n",
        "                    5.30509661e-01 + 4.62504708e-01j,\n",
        "                    2.79291895e-09 + 2.79093540e-07j,\n",
        "                    -4.55645798e-06 + 1.50570403e-06j,\n",
        "                    6.84244128e-08 + 5.00486817e-07j,\n",
        "                    -3.55812153e-06 + 4.59781091e-07j,\n",
        "                ],\n",
        "                [\n",
        "                    -3.38542541e-01 - 6.15711852e-01j,\n",
        "                    -2.03847672e-03 + 2.10649131e-03j,\n",
        "                    5.07842364e-06 + 2.16385349e-06j,\n",
        "                    6.84244230e-08 + 5.00486816e-07j,\n",
        "                    7.60088070e-06 + 9.07340425e-07j,\n",
        "                    -2.79292467e-09 - 2.79093547e-07j,\n",
        "                ],\n",
        "                [\n",
        "                    -5.80662607e-03 + 1.11068863e-02j,\n",
        "                    5.30509662e-01 + 4.62504708e-01j,\n",
        "                    -6.84244296e-08 - 5.00486825e-07j,\n",
        "                    -3.55812153e-06 + 4.59781093e-07j,\n",
        "                    -2.79293217e-09 - 2.79093547e-07j,\n",
        "                    -4.55645798e-06 + 1.50570403e-06j,\n",
        "                ],\n",
        "            ]\n",
        "        ),\n",
        "        {\"in0\": 0, \"out0\": 2, \"out1\": 4},\n",
        "    ),\n",
        "    \"top\": {(\"in0\", \"out0\"): -0.99477 - 0.10211j, (\"out0\", \"in0\"): -0.99477 - 0.10211j},\n",
        "    \"rgt\": {\n",
        "        (\"in0\", \"out0\"): 0.7071067811865476,\n",
        "        (\"in0\", \"out1\"): 0.7071067811865476j,\n",
        "        (\"in1\", \"out0\"): 0.7071067811865476j,\n",
        "        (\"in1\", \"out1\"): 0.7071067811865476,\n",
        "        (\"out0\", \"in0\"): 0.7071067811865476,\n",
        "        (\"out1\", \"in0\"): 0.7071067811865476j,\n",
        "        (\"out0\", \"in1\"): 0.7071067811865476j,\n",
        "        (\"out1\", \"in1\"): 0.7071067811865476,\n",
        "    },\n",
        "}\n",
        "connections = {\"lft,out0\": \"rgt,in0\", \"lft,out1\": \"top,in0\", \"top,out0\": \"rgt,in1\"}\n",
        "ports = {\"in0\": \"lft,in0\", \"out0\": \"rgt,out0\"}"
      ]
    },
    {
      "cell_type": "code",
      "execution_count": 51,
      "id": "20de2839-e848-49a4-b70a-bf192744c344",
      "metadata": {
        "execution": {
          "iopub.execute_input": "2023-06-01T21:49:38.952993Z",
          "iopub.status.busy": "2023-06-01T21:49:38.952734Z",
          "iopub.status.idle": "2023-06-01T21:49:39.104815Z",
          "shell.execute_reply": "2023-06-01T21:49:39.104442Z"
        },
        "papermill": {
          "duration": 0.168152,
          "end_time": "2023-06-01T21:49:39.106104",
          "exception": false,
          "start_time": "2023-06-01T21:49:38.937952",
          "status": "completed"
        },
        "tags": []
      },
      "outputs": [
        {
          "data": {
            "text/plain": [
              "{('in0', 'in0'): Array(5.1968864e-06-1.1977714e-05j, dtype=complex64),\n",
              " ('out0', 'out0'): Array(2.842532e-06-5.5935166e-06j, dtype=complex64),\n",
              " ('out0', 'in0'): Array(-0.6969264-0.24169631j, dtype=complex64),\n",
              " ('in0', 'out0'): Array(-0.6969264-0.24169631j, dtype=complex64)}"
            ]
          },
          "execution_count": 51,
          "metadata": {},
          "output_type": "execute_result"
        }
      ],
      "source": [
        "sax.sdict(evaluate_circuit(instances, connections, ports))"
      ]
    },
    {
      "cell_type": "code",
      "execution_count": 52,
      "id": "fc7b3ac4-4599-4748-a4b8-ec0a2e3927c8",
      "metadata": {
        "execution": {
          "iopub.execute_input": "2023-06-01T21:49:39.136641Z",
          "iopub.status.busy": "2023-06-01T21:49:39.136317Z",
          "iopub.status.idle": "2023-06-01T21:49:39.224901Z",
          "shell.execute_reply": "2023-06-01T21:49:39.224539Z"
        },
        "papermill": {
          "duration": 0.10516,
          "end_time": "2023-06-01T21:49:39.226092",
          "exception": false,
          "start_time": "2023-06-01T21:49:39.120932",
          "status": "completed"
        },
        "tags": []
      },
      "outputs": [
        {
          "data": {
            "text/plain": [
              "{('in0', 'in0'): Array(5.1968864e-06-1.1977714e-05j, dtype=complex64),\n",
              " ('in0', 'out0'): Array(-0.6969264-0.24169631j, dtype=complex64),\n",
              " ('out0', 'in0'): Array(-0.6969264-0.24169631j, dtype=complex64),\n",
              " ('out0', 'out0'): Array(2.842532e-06-5.5935166e-06j, dtype=complex64)}"
            ]
          },
          "execution_count": 52,
          "metadata": {},
          "output_type": "execute_result"
        }
      ],
      "source": [
        "sax.sdict(evaluate_circuit_klu(instances, connections, ports))"
      ]
    }
  ],
  "metadata": {
    "kernelspec": {
      "display_name": "octans",
      "language": "python",
      "name": "octans"
    },
    "language_info": {
      "codemirror_mode": {
        "name": "ipython",
        "version": 3
      },
      "file_extension": ".py",
      "mimetype": "text/x-python",
      "name": "python",
      "nbconvert_exporter": "python",
      "pygments_lexer": "ipython3",
      "version": "3.11.3"
    },
    "papermill": {
      "default_parameters": {},
      "duration": 8.426003,
      "end_time": "2023-06-01T21:49:39.757736",
      "environment_variables": {},
      "exception": null,
      "input_path": "./nbs/08b_backends_klu.ipynb",
      "output_path": "./nbs/08b_backends_klu.ipynb",
      "parameters": {},
      "start_time": "2023-06-01T21:49:31.331733",
      "version": "2.3.4"
    }
  },
  "nbformat": 4,
  "nbformat_minor": 5
}