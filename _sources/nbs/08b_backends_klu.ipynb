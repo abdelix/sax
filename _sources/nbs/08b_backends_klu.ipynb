{
  "cells": [
    {
      "cell_type": "code",
      "execution_count": 1,
      "id": "3e66dc2c678e6839",
      "metadata": {
        "execution": {
          "iopub.execute_input": "2023-07-01T03:33:04.437703Z",
          "iopub.status.busy": "2023-07-01T03:33:04.437455Z",
          "iopub.status.idle": "2023-07-01T03:33:04.442064Z",
          "shell.execute_reply": "2023-07-01T03:33:04.441563Z"
        },
        "papermill": {
          "duration": 0.019938,
          "end_time": "2023-07-01T03:33:04.444201",
          "exception": false,
          "start_time": "2023-07-01T03:33:04.424263",
          "status": "completed"
        },
        "tags": [
          "remove-cell"
        ]
      },
      "outputs": [],
      "source": []
    },
    {
      "cell_type": "markdown",
      "id": "27c3489e",
      "metadata": {
        "papermill": {
          "duration": 0.0398,
          "end_time": "2023-07-01T03:33:04.494970",
          "exception": false,
          "start_time": "2023-07-01T03:33:04.455170",
          "status": "completed"
        },
        "tags": []
      },
      "source": [
        "# Backend - KLU\n",
        "\n",
        "> SAX KLU Backend"
      ]
    },
    {
      "cell_type": "code",
      "execution_count": 2,
      "id": "73483a301d5f1d8e",
      "metadata": {
        "execution": {
          "iopub.execute_input": "2023-07-01T03:33:04.517725Z",
          "iopub.status.busy": "2023-07-01T03:33:04.517481Z",
          "iopub.status.idle": "2023-07-01T03:33:06.129232Z",
          "shell.execute_reply": "2023-07-01T03:33:06.128779Z"
        },
        "papermill": {
          "duration": 1.625306,
          "end_time": "2023-07-01T03:33:06.131045",
          "exception": false,
          "start_time": "2023-07-01T03:33:04.505739",
          "status": "completed"
        },
        "tags": [
          "remove-cell"
        ]
      },
      "outputs": [],
      "source": [
        "import sax\n",
        "import matplotlib.pyplot as plt\n",
        "from fastcore.test import test_eq\n",
        "from pytest import approx, raises\n",
        "from nbdev import show_doc\n",
        "\n",
        "import os, sys; sys.stderr = open(os.devnull, \"w\")"
      ]
    },
    {
      "cell_type": "code",
      "execution_count": 3,
      "id": "85fa60c2f8b1beb9",
      "metadata": {
        "execution": {
          "iopub.execute_input": "2023-07-01T03:33:06.154799Z",
          "iopub.status.busy": "2023-07-01T03:33:06.154347Z",
          "iopub.status.idle": "2023-07-01T03:33:06.158377Z",
          "shell.execute_reply": "2023-07-01T03:33:06.157985Z"
        },
        "papermill": {
          "duration": 0.018139,
          "end_time": "2023-07-01T03:33:06.160379",
          "exception": false,
          "start_time": "2023-07-01T03:33:06.142240",
          "status": "completed"
        },
        "tags": [
          "hide-input"
        ]
      },
      "outputs": [],
      "source": [
        "from __future__ import annotations\n",
        "\n",
        "from typing import Dict\n",
        "\n",
        "    \n",
        "from sax.typing_ import SDense, SDict, SType, scoo\n",
        "from sax.backends import evaluate_circuit\n",
        "\n",
        "try:\n",
        "    import klujax\n",
        "except ImportError:\n",
        "    klujax = None\n",
        "    \n",
        "try:\n",
        "    import jax\n",
        "    import jax.numpy as jnp\n",
        "    JAX_AVAILABLE = True\n",
        "except ImportError:\n",
        "    import numpy as jnp\n",
        "    JAX_AVAILABLE = False"
      ]
    },
    {
      "cell_type": "markdown",
      "id": "64e42767",
      "metadata": {
        "papermill": {
          "duration": 0.010764,
          "end_time": "2023-07-01T03:33:06.182290",
          "exception": false,
          "start_time": "2023-07-01T03:33:06.171526",
          "status": "completed"
        },
        "tags": []
      },
      "source": [
        "## Citation\n",
        "The KLU backend is using `klujax`, which uses the [SuiteSparse](https://github.com/DrTimothyAldenDavis/SuiteSparse) C++ libraries for sparse matrix evaluations to evaluate the circuit insanely fast on a CPU. The specific algorith being used in question is the KLU algorithm:\n",
        "\n",
        "> Ekanathan Palamadai Natariajan. \"*KLU - A high performance sparse linear solver for circuit simulation problems.*\""
      ]
    },
    {
      "cell_type": "markdown",
      "id": "2db5821c",
      "metadata": {
        "papermill": {
          "duration": 0.010774,
          "end_time": "2023-07-01T03:33:06.203805",
          "exception": false,
          "start_time": "2023-07-01T03:33:06.193031",
          "status": "completed"
        },
        "tags": []
      },
      "source": [
        "## Theoretical Background"
      ]
    },
    {
      "cell_type": "markdown",
      "id": "3d4d4a4c",
      "metadata": {
        "papermill": {
          "duration": 0.010685,
          "end_time": "2023-07-01T03:33:06.225252",
          "exception": false,
          "start_time": "2023-07-01T03:33:06.214567",
          "status": "completed"
        },
        "tags": []
      },
      "source": [
        "The core of the KLU algorithm is supported by `klujax`, which internally uses the Suitesparse libraries to solve the sparse system `Ax = b`, in which A is a sparse matrix."
      ]
    },
    {
      "cell_type": "markdown",
      "id": "a1985f58",
      "metadata": {
        "papermill": {
          "duration": 0.0107,
          "end_time": "2023-07-01T03:33:06.246684",
          "exception": false,
          "start_time": "2023-07-01T03:33:06.235984",
          "status": "completed"
        },
        "tags": []
      },
      "source": [
        "Now it only comes down to shoehorn our circuit evaluation into a sparse linear system of equations $Ax=b$ where we need to solve for $x$ using `klujax`. \n",
        "Consider the block diagonal matrix $S_{bd}$ of all components in the circuit acting on the fields $x_{in}$ at each of the individual ports of each of the component integrated in $S^{bd}$. The output fields $x^{out}$ at each of those ports is then given by:\n",
        "\n",
        "$$\n",
        "x^{out} = S_{bd} x^{in}\n",
        "$$"
      ]
    },
    {
      "cell_type": "markdown",
      "id": "9c26c04a",
      "metadata": {
        "papermill": {
          "duration": 0.01076,
          "end_time": "2023-07-01T03:33:06.268254",
          "exception": false,
          "start_time": "2023-07-01T03:33:06.257494",
          "status": "completed"
        },
        "tags": []
      },
      "source": [
        "However, $S_{bd}$ is not the S-matrix of the circuit as it does not encode any connectivity *between* the components. Connecting two component ports basically comes down to enforcing equality between the output fields at one port of a component with the input fields at another port of another (or maybe even the same) component. This equality can be enforced by creating an internal connection matrix, connecting all internal ports of the circuit:\n",
        "\n",
        "$$\n",
        "x^{in} = C_{int} x^{out}\n",
        "$$"
      ]
    },
    {
      "cell_type": "markdown",
      "id": "16b3fdad",
      "metadata": {
        "papermill": {
          "duration": 0.010987,
          "end_time": "2023-07-01T03:33:06.289953",
          "exception": false,
          "start_time": "2023-07-01T03:33:06.278966",
          "status": "completed"
        },
        "tags": []
      },
      "source": [
        "We can thus write the following combined equation:\n",
        "\n",
        "$$\n",
        "x^{in} = C_{int} S_{bd} x^{in}\n",
        "$$"
      ]
    },
    {
      "cell_type": "markdown",
      "id": "f5ceb9a2",
      "metadata": {
        "papermill": {
          "duration": 0.011105,
          "end_time": "2023-07-01T03:33:06.312330",
          "exception": false,
          "start_time": "2023-07-01T03:33:06.301225",
          "status": "completed"
        },
        "tags": []
      },
      "source": [
        "But this is not the complete story... Some component ports will *not* be *interconnected* with other ports: they will become the new *external ports* (or output ports) of the combined circuit. We can include those external ports into the above equation as follows:\n",
        "\n",
        "$$\n",
        "\\begin{pmatrix} x^{in} \\\\ x^{out}_{ext} \\end{pmatrix} = \\begin{pmatrix} C_{int} & C_{ext} \\\\ C_{ext}^T & 0 \\end{pmatrix} \\begin{pmatrix} S_{bd} x^{in} \\\\ x_{ext}^{in} \\end{pmatrix} \n",
        "$$"
      ]
    },
    {
      "cell_type": "markdown",
      "id": "6382a242",
      "metadata": {
        "papermill": {
          "duration": 0.010784,
          "end_time": "2023-07-01T03:33:06.333862",
          "exception": false,
          "start_time": "2023-07-01T03:33:06.323078",
          "status": "completed"
        },
        "tags": []
      },
      "source": [
        "Note that $C_{ext}$ is obviously **not** a square matrix. Eliminating $x^{in}$ from the equation above finally yields:\n",
        "\n",
        "$$\n",
        "x^{out}_{ext} = C^T_{ext} S_{bd} (\\mathbb{1} - C_{int}S_{bd})^{-1} C_{ext}x_{ext}^{in}\n",
        "$$"
      ]
    },
    {
      "cell_type": "markdown",
      "id": "5f15bdcd",
      "metadata": {
        "papermill": {
          "duration": 0.010739,
          "end_time": "2023-07-01T03:33:06.355327",
          "exception": false,
          "start_time": "2023-07-01T03:33:06.344588",
          "status": "completed"
        },
        "tags": []
      },
      "source": [
        "We basically found a representation of the circuit S-matrix:\n",
        "\n",
        "$$\n",
        "S = C^T_{ext} S_{bd} (\\mathbb{1} - C_{int}S_{bd})^{-1} C_{ext}\n",
        "$$"
      ]
    },
    {
      "cell_type": "markdown",
      "id": "40ad83b8",
      "metadata": {
        "papermill": {
          "duration": 0.010678,
          "end_time": "2023-07-01T03:33:06.377275",
          "exception": false,
          "start_time": "2023-07-01T03:33:06.366597",
          "status": "completed"
        },
        "tags": []
      },
      "source": [
        "Obviously, we won't want to calculate the inverse $(\\mathbb{1} - C_{int}S_{bd})^{-1}$, which is the inverse of a very sparse matrix (a connection matrix only has a single 1 per line), which very often is not even sparse itself. In stead we'll use the `solve_klu` function:\n",
        "\n",
        "$$\n",
        "S = C^T_{ext} S_{bd} \\texttt{solve}\\_\\texttt{klu}\\left((\\mathbb{1} - C_{int}S_{bd}), C_{ext}\\right)\n",
        "$$"
      ]
    },
    {
      "cell_type": "markdown",
      "id": "018fab3d",
      "metadata": {
        "papermill": {
          "duration": 0.010724,
          "end_time": "2023-07-01T03:33:06.399945",
          "exception": false,
          "start_time": "2023-07-01T03:33:06.389221",
          "status": "completed"
        },
        "tags": []
      },
      "source": [
        "Moreover, $C_{ext}^TS_{bd}$ is also a sparse matrix, therefore we'll also need a `mul_coo` routine:\n",
        "\n",
        "$$\n",
        "S = C^T_{ext} \\texttt{mul}\\_\\texttt{coo}\\left(S_{bd},~~\\texttt{solve}\\_\\texttt{klu}\\left((\\mathbb{1} - C_{int}S_{bd}),~C_{ext}\\right)\\right)\n",
        "$$"
      ]
    },
    {
      "cell_type": "markdown",
      "id": "d9b78852",
      "metadata": {
        "papermill": {
          "duration": 0.01064,
          "end_time": "2023-07-01T03:33:06.421330",
          "exception": false,
          "start_time": "2023-07-01T03:33:06.410690",
          "status": "completed"
        },
        "tags": []
      },
      "source": [
        "## Sparse Helper Functions"
      ]
    },
    {
      "cell_type": "code",
      "execution_count": 4,
      "id": "c12d1161cf80f636",
      "metadata": {
        "execution": {
          "iopub.execute_input": "2023-07-01T03:33:06.444099Z",
          "iopub.status.busy": "2023-07-01T03:33:06.443848Z",
          "iopub.status.idle": "2023-07-01T03:33:06.446694Z",
          "shell.execute_reply": "2023-07-01T03:33:06.446265Z"
        },
        "papermill": {
          "duration": 0.01656,
          "end_time": "2023-07-01T03:33:06.448649",
          "exception": false,
          "start_time": "2023-07-01T03:33:06.432089",
          "status": "completed"
        },
        "tags": [
          "remove-input"
        ]
      },
      "outputs": [],
      "source": [
        "if klujax is not None:\n",
        "    show_doc(klujax.solve, doc_string=False, name=\"klujax.solve\")"
      ]
    },
    {
      "cell_type": "markdown",
      "id": "01299d5d",
      "metadata": {
        "papermill": {
          "duration": 0.010692,
          "end_time": "2023-07-01T03:33:06.470056",
          "exception": false,
          "start_time": "2023-07-01T03:33:06.459364",
          "status": "completed"
        },
        "tags": []
      },
      "source": [
        "`klujax.solve` solves the sparse system of equations `Ax=b` for `x`. Where `A` is represented by in [COO-format](https://en.wikipedia.org/wiki/Sparse_matrix#Coordinate_list_(COO)) as (`Ai`, `Aj`, `Ax`).\n",
        "\n",
        "> Example"
      ]
    },
    {
      "cell_type": "code",
      "execution_count": 5,
      "id": "63e7977a",
      "metadata": {
        "execution": {
          "iopub.execute_input": "2023-07-01T03:33:06.492967Z",
          "iopub.status.busy": "2023-07-01T03:33:06.492756Z",
          "iopub.status.idle": "2023-07-01T03:33:06.510075Z",
          "shell.execute_reply": "2023-07-01T03:33:06.509714Z"
        },
        "papermill": {
          "duration": 0.030519,
          "end_time": "2023-07-01T03:33:06.511464",
          "exception": false,
          "start_time": "2023-07-01T03:33:06.480945",
          "status": "completed"
        },
        "tags": []
      },
      "outputs": [
        {
          "data": {
            "text/plain": [
              "Array([6. , 1. , 0.5, 0.5, 2. ], dtype=float32)"
            ]
          },
          "execution_count": 5,
          "metadata": {},
          "output_type": "execute_result"
        }
      ],
      "source": [
        "Ai = jnp.array([0, 1, 2, 3, 4])\n",
        "Aj = jnp.array([1, 3, 4, 0, 2])\n",
        "Ax = jnp.array([5, 6, 1, 1, 2])\n",
        "b = jnp.array([5, 3, 2, 6, 1])\n",
        "\n",
        "if klujax is not None:\n",
        "    x = klujax.solve(Ai, Aj, Ax, b)\n",
        "else:\n",
        "    x = jnp.array([6.0, 1.0, 0.5, 0.5, 2.0])\n",
        "\n",
        "x"
      ]
    },
    {
      "cell_type": "markdown",
      "id": "3233b04c",
      "metadata": {
        "papermill": {
          "duration": 0.010868,
          "end_time": "2023-07-01T03:33:06.533684",
          "exception": false,
          "start_time": "2023-07-01T03:33:06.522816",
          "status": "completed"
        },
        "tags": []
      },
      "source": [
        "This result is indeed correct:"
      ]
    },
    {
      "cell_type": "code",
      "execution_count": 6,
      "id": "629bbc71",
      "metadata": {
        "execution": {
          "iopub.execute_input": "2023-07-01T03:33:06.556808Z",
          "iopub.status.busy": "2023-07-01T03:33:06.556557Z",
          "iopub.status.idle": "2023-07-01T03:33:06.692992Z",
          "shell.execute_reply": "2023-07-01T03:33:06.692569Z"
        },
        "papermill": {
          "duration": 0.149831,
          "end_time": "2023-07-01T03:33:06.694459",
          "exception": false,
          "start_time": "2023-07-01T03:33:06.544628",
          "status": "completed"
        },
        "tags": []
      },
      "outputs": [
        {
          "name": "stdout",
          "output_type": "stream",
          "text": [
            "[[0. 5. 0. 0. 0.]\n",
            " [0. 0. 0. 6. 0.]\n",
            " [0. 0. 0. 0. 1.]\n",
            " [1. 0. 0. 0. 0.]\n",
            " [0. 0. 2. 0. 0.]]\n",
            "[5. 3. 2. 6. 1.]\n"
          ]
        }
      ],
      "source": [
        "if JAX_AVAILABLE:\n",
        "    A = jnp.zeros((5, 5)).at[Ai, Aj].set(Ax)\n",
        "    print(A)\n",
        "    print(A@x)"
      ]
    },
    {
      "cell_type": "markdown",
      "id": "c7fe6547",
      "metadata": {
        "papermill": {
          "duration": 0.011143,
          "end_time": "2023-07-01T03:33:06.717381",
          "exception": false,
          "start_time": "2023-07-01T03:33:06.706238",
          "status": "completed"
        },
        "tags": []
      },
      "source": [
        "However, to use this function effectively, we probably need an extra dimension for `Ax`. Indeed, we would like to solve this equation for multiple wavelengths (or more general, for multiple circuit configurations) at once. For this we can use `jax.vmap` to expose `klujax.solve` to more dimensions for `Ax`:"
      ]
    },
    {
      "cell_type": "code",
      "execution_count": 7,
      "id": "b7b5e3cd030ef990",
      "metadata": {
        "execution": {
          "iopub.execute_input": "2023-07-01T03:33:06.740630Z",
          "iopub.status.busy": "2023-07-01T03:33:06.740377Z",
          "iopub.status.idle": "2023-07-01T03:33:06.743244Z",
          "shell.execute_reply": "2023-07-01T03:33:06.742851Z"
        },
        "papermill": {
          "duration": 0.016596,
          "end_time": "2023-07-01T03:33:06.745148",
          "exception": false,
          "start_time": "2023-07-01T03:33:06.728552",
          "status": "completed"
        },
        "tags": []
      },
      "outputs": [],
      "source": [
        "solve_klu = None\n",
        "if klujax is not None:\n",
        "    solve_klu = jax.vmap(klujax.solve, (None, None, 0, None), 0)"
      ]
    },
    {
      "cell_type": "code",
      "execution_count": 8,
      "id": "4d7009dda40eeed5",
      "metadata": {
        "execution": {
          "iopub.execute_input": "2023-07-01T03:33:06.768136Z",
          "iopub.status.busy": "2023-07-01T03:33:06.767935Z",
          "iopub.status.idle": "2023-07-01T03:33:06.771978Z",
          "shell.execute_reply": "2023-07-01T03:33:06.771610Z"
        },
        "papermill": {
          "duration": 0.01839,
          "end_time": "2023-07-01T03:33:06.774512",
          "exception": false,
          "start_time": "2023-07-01T03:33:06.756122",
          "status": "completed"
        },
        "tags": [
          "remove-input"
        ]
      },
      "outputs": [
        {
          "data": {
            "text/markdown": [
              "<h4 id=\"solve_klu\" class=\"doc_header\"><code>solve_klu</code><a href=\"\" class=\"source_link\" style=\"float:right\">[source]</a></h4>\n",
              "\n"
            ],
            "text/plain": [
              "<IPython.core.display.Markdown object>"
            ]
          },
          "metadata": {},
          "output_type": "display_data"
        }
      ],
      "source": [
        "show_doc(solve_klu, doc_string=False, name=\"solve_klu\")"
      ]
    },
    {
      "cell_type": "markdown",
      "id": "6707049d",
      "metadata": {
        "papermill": {
          "duration": 0.011067,
          "end_time": "2023-07-01T03:33:06.796665",
          "exception": false,
          "start_time": "2023-07-01T03:33:06.785598",
          "status": "completed"
        },
        "tags": []
      },
      "source": [
        "Let's now redefine `Ax` and see what it gives:"
      ]
    },
    {
      "cell_type": "code",
      "execution_count": 9,
      "id": "d4d7b6f9",
      "metadata": {
        "execution": {
          "iopub.execute_input": "2023-07-01T03:33:06.820885Z",
          "iopub.status.busy": "2023-07-01T03:33:06.820684Z",
          "iopub.status.idle": "2023-07-01T03:33:06.830038Z",
          "shell.execute_reply": "2023-07-01T03:33:06.829670Z"
        },
        "papermill": {
          "duration": 0.023207,
          "end_time": "2023-07-01T03:33:06.831374",
          "exception": false,
          "start_time": "2023-07-01T03:33:06.808167",
          "status": "completed"
        },
        "tags": []
      },
      "outputs": [
        {
          "data": {
            "text/plain": [
              "Array([[6.       , 1.       , 0.5      , 0.5      , 2.       ],\n",
              "       [3.       , 1.       , 1.       , 0.75     , 0.6666667],\n",
              "       [1.5      , 5.       , 0.2      , 1.5      , 0.6666667]],      dtype=float32)"
            ]
          },
          "execution_count": 9,
          "metadata": {},
          "output_type": "execute_result"
        }
      ],
      "source": [
        "Ai = jnp.array([0, 1, 2, 3, 4])\n",
        "Aj = jnp.array([1, 3, 4, 0, 2])\n",
        "Ax = jnp.array([[5, 6, 1, 1, 2], [5, 4, 3, 2, 1], [1, 2, 3, 4, 5]])\n",
        "b = jnp.array([5, 3, 2, 6, 1])\n",
        "if klujax is not None:\n",
        "    x = solve_klu(Ai, Aj, Ax, b)\n",
        "else:\n",
        "    x = jnp.array([\n",
        "        [6.0, 1.0, 0.5, 0.5, 2.0],\n",
        "        [3.0, 1.0, 1.0, 0.75, 0.66666667],\n",
        "        [1.5, 5.0, 0.2, 1.5, 0.66666667],\n",
        "    ])\n",
        "    \n",
        "x"
      ]
    },
    {
      "cell_type": "markdown",
      "id": "5f342c6f",
      "metadata": {
        "papermill": {
          "duration": 0.011219,
          "end_time": "2023-07-01T03:33:06.854261",
          "exception": false,
          "start_time": "2023-07-01T03:33:06.843042",
          "status": "completed"
        },
        "tags": []
      },
      "source": [
        "This result is indeed correct:"
      ]
    },
    {
      "cell_type": "code",
      "execution_count": 10,
      "id": "0afefaa6",
      "metadata": {
        "execution": {
          "iopub.execute_input": "2023-07-01T03:33:06.878110Z",
          "iopub.status.busy": "2023-07-01T03:33:06.877900Z",
          "iopub.status.idle": "2023-07-01T03:33:06.969581Z",
          "shell.execute_reply": "2023-07-01T03:33:06.969139Z"
        },
        "papermill": {
          "duration": 0.10552,
          "end_time": "2023-07-01T03:33:06.971317",
          "exception": false,
          "start_time": "2023-07-01T03:33:06.865797",
          "status": "completed"
        },
        "tags": []
      },
      "outputs": [],
      "source": [
        "if JAX_AVAILABLE:\n",
        "    A = jnp.zeros((3, 5, 5)).at[:, Ai, Aj].set(Ax)\n",
        "    jnp.einsum(\"ijk,ik->ij\", A, x)"
      ]
    },
    {
      "cell_type": "markdown",
      "id": "7ed8f62d",
      "metadata": {
        "papermill": {
          "duration": 0.011314,
          "end_time": "2023-07-01T03:33:06.994755",
          "exception": false,
          "start_time": "2023-07-01T03:33:06.983441",
          "status": "completed"
        },
        "tags": []
      },
      "source": [
        "Additionally, we need a way to multiply a sparse COO-matrix with a dense vector. This can be done with `klujax.coo_mul_vec`:"
      ]
    },
    {
      "cell_type": "code",
      "execution_count": 11,
      "id": "99e9173b850ff191",
      "metadata": {
        "execution": {
          "iopub.execute_input": "2023-07-01T03:33:07.018548Z",
          "iopub.status.busy": "2023-07-01T03:33:07.018290Z",
          "iopub.status.idle": "2023-07-01T03:33:07.020979Z",
          "shell.execute_reply": "2023-07-01T03:33:07.020601Z"
        },
        "papermill": {
          "duration": 0.016567,
          "end_time": "2023-07-01T03:33:07.022788",
          "exception": false,
          "start_time": "2023-07-01T03:33:07.006221",
          "status": "completed"
        },
        "tags": [
          "remove-input"
        ]
      },
      "outputs": [],
      "source": [
        "\n",
        "if klujax is not None:\n",
        "    show_doc(klujax.coo_mul_vec, doc_string=False, name=\"klujax.coo_mul_vec\")"
      ]
    },
    {
      "cell_type": "markdown",
      "id": "7f57c443",
      "metadata": {
        "papermill": {
          "duration": 0.011244,
          "end_time": "2023-07-01T03:33:07.045338",
          "exception": false,
          "start_time": "2023-07-01T03:33:07.034094",
          "status": "completed"
        },
        "tags": []
      },
      "source": [
        "However, it's useful to allow a batch dimension, this time *both* in `Ax` and in `b`:"
      ]
    },
    {
      "cell_type": "code",
      "execution_count": 12,
      "id": "482f4ce10c11533e",
      "metadata": {
        "execution": {
          "iopub.execute_input": "2023-07-01T03:33:07.068860Z",
          "iopub.status.busy": "2023-07-01T03:33:07.068659Z",
          "iopub.status.idle": "2023-07-01T03:33:07.070908Z",
          "shell.execute_reply": "2023-07-01T03:33:07.070533Z"
        },
        "papermill": {
          "duration": 0.016143,
          "end_time": "2023-07-01T03:33:07.072743",
          "exception": false,
          "start_time": "2023-07-01T03:33:07.056600",
          "status": "completed"
        },
        "tags": [
          "remove-cell"
        ]
      },
      "outputs": [],
      "source": [
        "\n",
        "# @jax.jit  # TODO: make this available to autograd\n",
        "# def mul_coo(Ai, Aj, Ax, b):\n",
        "#     result = jnp.zeros_like(b).at[..., Ai, :].add(Ax[..., :, None] * b[..., Aj, :])\n",
        "#     return result"
      ]
    },
    {
      "cell_type": "code",
      "execution_count": 13,
      "id": "46da4978c39bd5db",
      "metadata": {
        "execution": {
          "iopub.execute_input": "2023-07-01T03:33:07.096145Z",
          "iopub.status.busy": "2023-07-01T03:33:07.095963Z",
          "iopub.status.idle": "2023-07-01T03:33:07.098570Z",
          "shell.execute_reply": "2023-07-01T03:33:07.098181Z"
        },
        "papermill": {
          "duration": 0.016332,
          "end_time": "2023-07-01T03:33:07.100308",
          "exception": false,
          "start_time": "2023-07-01T03:33:07.083976",
          "status": "completed"
        },
        "tags": []
      },
      "outputs": [],
      "source": [
        "mul_coo = None \n",
        "if klujax is not None:\n",
        "    mul_coo = jax.vmap(klujax.coo_mul_vec, (None, None, 0, 0), 0)"
      ]
    },
    {
      "cell_type": "code",
      "execution_count": 14,
      "id": "3ec1e358d5e879cc",
      "metadata": {
        "execution": {
          "iopub.execute_input": "2023-07-01T03:33:07.123786Z",
          "iopub.status.busy": "2023-07-01T03:33:07.123607Z",
          "iopub.status.idle": "2023-07-01T03:33:07.126859Z",
          "shell.execute_reply": "2023-07-01T03:33:07.126501Z"
        },
        "papermill": {
          "duration": 0.017624,
          "end_time": "2023-07-01T03:33:07.129249",
          "exception": false,
          "start_time": "2023-07-01T03:33:07.111625",
          "status": "completed"
        },
        "tags": [
          "remove-input"
        ]
      },
      "outputs": [
        {
          "data": {
            "text/markdown": [
              "<h4 id=\"mul_coo\" class=\"doc_header\"><code>mul_coo</code><a href=\"\" class=\"source_link\" style=\"float:right\">[source]</a></h4>\n",
              "\n"
            ],
            "text/plain": [
              "<IPython.core.display.Markdown object>"
            ]
          },
          "metadata": {},
          "output_type": "display_data"
        }
      ],
      "source": [
        "show_doc(mul_coo, doc_string=False, name=\"mul_coo\")"
      ]
    },
    {
      "cell_type": "markdown",
      "id": "d26cc3d9",
      "metadata": {
        "papermill": {
          "duration": 0.011534,
          "end_time": "2023-07-01T03:33:07.152354",
          "exception": false,
          "start_time": "2023-07-01T03:33:07.140820",
          "status": "completed"
        },
        "tags": []
      },
      "source": [
        "Let's confirm this does the right thing:"
      ]
    },
    {
      "cell_type": "code",
      "execution_count": 15,
      "id": "bd868973",
      "metadata": {
        "execution": {
          "iopub.execute_input": "2023-07-01T03:33:07.177639Z",
          "iopub.status.busy": "2023-07-01T03:33:07.177416Z",
          "iopub.status.idle": "2023-07-01T03:33:07.182637Z",
          "shell.execute_reply": "2023-07-01T03:33:07.182246Z"
        },
        "papermill": {
          "duration": 0.020621,
          "end_time": "2023-07-01T03:33:07.185173",
          "exception": false,
          "start_time": "2023-07-01T03:33:07.164552",
          "status": "completed"
        },
        "tags": []
      },
      "outputs": [
        {
          "data": {
            "text/plain": [
              "Array([[5., 3., 2., 6., 1.],\n",
              "       [5., 3., 2., 6., 1.],\n",
              "       [5., 3., 2., 6., 1.]], dtype=float32)"
            ]
          },
          "execution_count": 15,
          "metadata": {},
          "output_type": "execute_result"
        }
      ],
      "source": [
        "if klujax is not None:\n",
        "    result = mul_coo(Ai, Aj, Ax, x)\n",
        "else:\n",
        "    result = jnp.array([\n",
        "        [5.0, 3.0, 2.0, 6.0, 1.0],\n",
        "        [5.0, 3.0, 2.00000001, 6.0, 1.0],\n",
        "        [5.0, 3.0, 2.00000001, 6.0, 1.0],\n",
        "    ])\n",
        "    \n",
        "result"
      ]
    },
    {
      "cell_type": "markdown",
      "id": "d71e89fa",
      "metadata": {
        "papermill": {
          "duration": 0.011627,
          "end_time": "2023-07-01T03:33:07.211032",
          "exception": false,
          "start_time": "2023-07-01T03:33:07.199405",
          "status": "completed"
        },
        "tags": []
      },
      "source": [
        "## Circuit Evaluation"
      ]
    },
    {
      "cell_type": "markdown",
      "id": "1f5586b4ebcae3e7",
      "metadata": {},
      "source": [
        ":::{eval-rst}\n",
        ".. autofunction:: sax.backends.klu.evaluate_circuit_klu\n",
        ":::\n"
      ]
    },
    {
      "cell_type": "code",
      "execution_count": 16,
      "id": "a51aa83386acd07a",
      "metadata": {
        "execution": {
          "iopub.execute_input": "2023-07-01T03:33:07.235419Z",
          "iopub.status.busy": "2023-07-01T03:33:07.235191Z",
          "iopub.status.idle": "2023-07-01T03:33:07.249247Z",
          "shell.execute_reply": "2023-07-01T03:33:07.248881Z"
        },
        "papermill": {
          "duration": 0.028033,
          "end_time": "2023-07-01T03:33:07.250645",
          "exception": false,
          "start_time": "2023-07-01T03:33:07.222612",
          "status": "completed"
        },
        "tags": [
          "hide-input"
        ]
      },
      "outputs": [],
      "source": [
        "def evaluate_circuit_klu(\n",
        "    instances: Dict[str, SType],\n",
        "    connections: Dict[str, str],\n",
        "    ports: Dict[str, str],\n",
        "):\n",
        "    \"\"\"evaluate a circuit using KLU for the given sdicts. \"\"\"\n",
        "\n",
        "    if klujax is None:\n",
        "        raise ImportError(\n",
        "            \"Could not import 'klujax'. \"\n",
        "            \"Please install it first before using backend method 'klu'\"\n",
        "        )\n",
        "\n",
        "    assert solve_klu is not None\n",
        "    assert mul_coo is not None\n",
        "\n",
        "    connections = {**connections, **{v: k for k, v in connections.items()}}\n",
        "    inverse_ports = {v: k for k, v in ports.items()}\n",
        "    port_map = {k: i for i, k in enumerate(ports)}\n",
        "\n",
        "    idx, Si, Sj, Sx, instance_ports = 0, [], [], [], {}\n",
        "    batch_shape = ()\n",
        "    for name, instance in instances.items():\n",
        "        si, sj, sx, ports_map = scoo(instance)\n",
        "        Si.append(si + idx)\n",
        "        Sj.append(sj + idx)\n",
        "        Sx.append(sx)\n",
        "        if len(sx.shape[:-1]) > len(batch_shape):\n",
        "            batch_shape = sx.shape[:-1]\n",
        "        instance_ports.update({f\"{name},{p}\": i + idx for p, i in ports_map.items()})\n",
        "        idx += len(ports_map)\n",
        "\n",
        "    Si = jnp.concatenate(Si, -1)\n",
        "    Sj = jnp.concatenate(Sj, -1)\n",
        "    Sx = jnp.concatenate(\n",
        "        [jnp.broadcast_to(sx, (*batch_shape, sx.shape[-1])) for sx in Sx], -1\n",
        "    )\n",
        "\n",
        "    n_col = idx\n",
        "    n_rhs = len(port_map)\n",
        "\n",
        "    Cmap = {\n",
        "        int(instance_ports[k]): int(instance_ports[v]) for k, v in connections.items()\n",
        "    }\n",
        "    Ci = jnp.array(list(Cmap.keys()), dtype=jnp.int32)\n",
        "    Cj = jnp.array(list(Cmap.values()), dtype=jnp.int32)\n",
        "\n",
        "    Cextmap = {int(instance_ports[k]): int(port_map[v]) for k, v in inverse_ports.items()}\n",
        "    Cexti = jnp.stack(list(Cextmap.keys()), 0)\n",
        "    Cextj = jnp.stack(list(Cextmap.values()), 0)\n",
        "    Cext = jnp.zeros((n_col, n_rhs), dtype=complex).at[Cexti, Cextj].set(1.0)\n",
        "\n",
        "    # TODO: make this block jittable...\n",
        "    Ix = jnp.ones((*batch_shape, n_col))\n",
        "    Ii = Ij = jnp.arange(n_col)\n",
        "    mask = Cj[None,:] == Si[:, None]\n",
        "    CSi = jnp.broadcast_to(Ci[None, :], mask.shape)[mask]\n",
        "\n",
        "    # CSi = jnp.where(Cj[None, :] == Si[:, None], Ci[None, :], 0).sum(1)\n",
        "    mask = (Cj[:, None] == Si[None, :]).any(0)\n",
        "    CSj = Sj[mask]\n",
        "    \n",
        "    if Sx.ndim > 1: # bug in JAX... see https://github.com/google/jax/issues/9050\n",
        "        CSx = Sx[..., mask]\n",
        "    else:\n",
        "        CSx = Sx[mask]\n",
        "        \n",
        "    # CSj = jnp.where(mask, Sj, 0)\n",
        "    # CSx = jnp.where(mask, Sx, 0.0)\n",
        "\n",
        "    I_CSi = jnp.concatenate([CSi, Ii], -1)\n",
        "    I_CSj = jnp.concatenate([CSj, Ij], -1)\n",
        "    I_CSx = jnp.concatenate([-CSx, Ix], -1)\n",
        "\n",
        "    n_col, n_rhs = Cext.shape\n",
        "    n_lhs = jnp.prod(jnp.array(batch_shape, dtype=jnp.int32))\n",
        "    Sx = Sx.reshape(n_lhs, -1)\n",
        "    I_CSx = I_CSx.reshape(n_lhs, -1)\n",
        "\n",
        "    inv_I_CS_Cext = solve_klu(I_CSi, I_CSj, I_CSx, Cext)\n",
        "    S_inv_I_CS_Cext = mul_coo(Si, Sj, Sx, inv_I_CS_Cext)\n",
        "\n",
        "    CextT_S_inv_I_CS_Cext = S_inv_I_CS_Cext[..., Cexti, :][..., :, Cextj]\n",
        "    \n",
        "    _, n, _ = CextT_S_inv_I_CS_Cext.shape\n",
        "    S = CextT_S_inv_I_CS_Cext.reshape(*batch_shape, n, n)\n",
        "\n",
        "    return S, port_map"
      ]
    },
    {
      "cell_type": "markdown",
      "id": "dce9d8ca",
      "metadata": {
        "papermill": {
          "duration": 0.011681,
          "end_time": "2023-07-01T03:33:07.274446",
          "exception": false,
          "start_time": "2023-07-01T03:33:07.262765",
          "status": "completed"
        },
        "tags": []
      },
      "source": [
        "## Example"
      ]
    },
    {
      "cell_type": "code",
      "execution_count": 17,
      "id": "03a6709f72194258",
      "metadata": {
        "execution": {
          "iopub.execute_input": "2023-07-01T03:33:07.298714Z",
          "iopub.status.busy": "2023-07-01T03:33:07.298460Z",
          "iopub.status.idle": "2023-07-01T03:33:07.301593Z",
          "shell.execute_reply": "2023-07-01T03:33:07.301205Z"
        },
        "papermill": {
          "duration": 0.017758,
          "end_time": "2023-07-01T03:33:07.303823",
          "exception": false,
          "start_time": "2023-07-01T03:33:07.286065",
          "status": "completed"
        },
        "tags": [
          "remove-cell"
        ]
      },
      "outputs": [],
      "source": [
        "if klujax is None:\n",
        "    def evaluate_circuit_klu(\n",
        "        instances: Dict[str, SType],\n",
        "        connections: Dict[str, str],\n",
        "        ports: Dict[str, str],\n",
        "    ):\n",
        "        sdict = evaluate_circuit(instances, connections, ports)\n",
        "        sdense = sax.sdense(sdict)\n",
        "        return sdense"
      ]
    },
    {
      "cell_type": "code",
      "execution_count": 18,
      "id": "f577522a",
      "metadata": {
        "execution": {
          "iopub.execute_input": "2023-07-01T03:33:07.328054Z",
          "iopub.status.busy": "2023-07-01T03:33:07.327853Z",
          "iopub.status.idle": "2023-07-01T03:33:08.202002Z",
          "shell.execute_reply": "2023-07-01T03:33:08.201533Z"
        },
        "papermill": {
          "duration": 0.888369,
          "end_time": "2023-07-01T03:33:08.203790",
          "exception": false,
          "start_time": "2023-07-01T03:33:07.315421",
          "status": "completed"
        },
        "tags": []
      },
      "outputs": [],
      "source": [
        "wg_sdict: SDict = {\n",
        "    (\"in0\", \"out0\"): 0.5 + 0.86603j,\n",
        "    (\"out0\", \"in0\"): 0.5 + 0.86603j,\n",
        "}\n",
        "\n",
        "\u03c4, \u03ba = 0.5 ** 0.5, 1j * 0.5 ** 0.5\n",
        "dc_sdense: SDense = (\n",
        "    jnp.array([[0, 0, \u03c4, \u03ba], \n",
        "               [0, 0, \u03ba, \u03c4], \n",
        "               [\u03c4, \u03ba, 0, 0], \n",
        "               [\u03ba, \u03c4, 0, 0]]),\n",
        "    {\"in0\": 0, \"in1\": 1, \"out0\": 2, \"out1\": 3},\n",
        ")\n",
        "\n",
        "mzi_sdense: SDense = evaluate_circuit_klu(\n",
        "    instances={\n",
        "        \"dc1\": dc_sdense,\n",
        "        \"wg\": wg_sdict,\n",
        "        \"dc2\": dc_sdense,\n",
        "    },\n",
        "    connections={\n",
        "        \"dc1,out0\": \"wg,in0\",\n",
        "        \"wg,out0\": \"dc2,in0\",\n",
        "        \"dc1,out1\": \"dc2,in1\",\n",
        "    },\n",
        "    ports={\n",
        "        \"in0\": \"dc1,in0\",\n",
        "        \"in1\": \"dc1,in1\",\n",
        "        \"out0\": \"dc2,out0\",\n",
        "        \"out1\": \"dc2,out1\",\n",
        "    }\n",
        ")"
      ]
    },
    {
      "cell_type": "markdown",
      "id": "60b6d1e6",
      "metadata": {
        "papermill": {
          "duration": 0.011805,
          "end_time": "2023-07-01T03:33:08.228294",
          "exception": false,
          "start_time": "2023-07-01T03:33:08.216489",
          "status": "completed"
        },
        "tags": []
      },
      "source": [
        "the KLU backend yields `SDense` results by default:"
      ]
    },
    {
      "cell_type": "code",
      "execution_count": 19,
      "id": "ecc3115e",
      "metadata": {
        "execution": {
          "iopub.execute_input": "2023-07-01T03:33:08.253191Z",
          "iopub.status.busy": "2023-07-01T03:33:08.252949Z",
          "iopub.status.idle": "2023-07-01T03:33:08.257208Z",
          "shell.execute_reply": "2023-07-01T03:33:08.256826Z"
        },
        "papermill": {
          "duration": 0.01956,
          "end_time": "2023-07-01T03:33:08.259760",
          "exception": false,
          "start_time": "2023-07-01T03:33:08.240200",
          "status": "completed"
        },
        "tags": []
      },
      "outputs": [
        {
          "data": {
            "text/plain": [
              "(Array([[ 0.        +0.j        ,  0.        +0.j        ,\n",
              "         -0.24999999+0.433015j  , -0.433015  +0.74999994j],\n",
              "        [ 0.        +0.j        ,  0.        +0.j        ,\n",
              "         -0.433015  +0.74999994j,  0.24999999-0.433015j  ],\n",
              "        [-0.24999999+0.433015j  , -0.433015  +0.74999994j,\n",
              "          0.        +0.j        ,  0.        +0.j        ],\n",
              "        [-0.433015  +0.74999994j,  0.24999999-0.433015j  ,\n",
              "          0.        +0.j        ,  0.        +0.j        ]],      dtype=complex64),\n",
              " {'in0': 0, 'in1': 1, 'out0': 2, 'out1': 3})"
            ]
          },
          "execution_count": 19,
          "metadata": {},
          "output_type": "execute_result"
        }
      ],
      "source": [
        "mzi_sdense"
      ]
    },
    {
      "cell_type": "markdown",
      "id": "4b8e87f3",
      "metadata": {
        "papermill": {
          "duration": 0.01179,
          "end_time": "2023-07-01T03:33:08.283427",
          "exception": false,
          "start_time": "2023-07-01T03:33:08.271637",
          "status": "completed"
        },
        "tags": []
      },
      "source": [
        "An `SDense` is returned for perfomance reasons. By returning an `SDense` by default we prevent any internal `SDict -> SDense` conversions in deeply hierarchical circuits. It's however very easy to convert `SDense` to `SDict` as a final step. To do this, wrap the result (or the function generating the result) with `sdict`:"
      ]
    },
    {
      "cell_type": "code",
      "execution_count": 20,
      "id": "7202ab1e",
      "metadata": {
        "execution": {
          "iopub.execute_input": "2023-07-01T03:33:08.308424Z",
          "iopub.status.busy": "2023-07-01T03:33:08.308200Z",
          "iopub.status.idle": "2023-07-01T03:33:08.329115Z",
          "shell.execute_reply": "2023-07-01T03:33:08.328734Z"
        },
        "papermill": {
          "duration": 0.035253,
          "end_time": "2023-07-01T03:33:08.330458",
          "exception": false,
          "start_time": "2023-07-01T03:33:08.295205",
          "status": "completed"
        },
        "tags": []
      },
      "outputs": [
        {
          "data": {
            "text/plain": [
              "{('in0', 'in0'): Array(0.+0.j, dtype=complex64),\n",
              " ('in0', 'in1'): Array(0.+0.j, dtype=complex64),\n",
              " ('in0', 'out0'): Array(-0.24999999+0.433015j, dtype=complex64),\n",
              " ('in0', 'out1'): Array(-0.433015+0.74999994j, dtype=complex64),\n",
              " ('in1', 'in0'): Array(0.+0.j, dtype=complex64),\n",
              " ('in1', 'in1'): Array(0.+0.j, dtype=complex64),\n",
              " ('in1', 'out0'): Array(-0.433015+0.74999994j, dtype=complex64),\n",
              " ('in1', 'out1'): Array(0.24999999-0.433015j, dtype=complex64),\n",
              " ('out0', 'in0'): Array(-0.24999999+0.433015j, dtype=complex64),\n",
              " ('out0', 'in1'): Array(-0.433015+0.74999994j, dtype=complex64),\n",
              " ('out0', 'out0'): Array(0.+0.j, dtype=complex64),\n",
              " ('out0', 'out1'): Array(0.+0.j, dtype=complex64),\n",
              " ('out1', 'in0'): Array(-0.433015+0.74999994j, dtype=complex64),\n",
              " ('out1', 'in1'): Array(0.24999999-0.433015j, dtype=complex64),\n",
              " ('out1', 'out0'): Array(0.+0.j, dtype=complex64),\n",
              " ('out1', 'out1'): Array(0.+0.j, dtype=complex64)}"
            ]
          },
          "execution_count": 20,
          "metadata": {},
          "output_type": "execute_result"
        }
      ],
      "source": [
        "sax.sdict(mzi_sdense)"
      ]
    },
    {
      "cell_type": "markdown",
      "id": "9f8cd5ea",
      "metadata": {
        "papermill": {
          "duration": 0.011963,
          "end_time": "2023-07-01T03:33:08.354789",
          "exception": false,
          "start_time": "2023-07-01T03:33:08.342826",
          "status": "completed"
        },
        "tags": []
      },
      "source": [
        "## Algorithm Walkthrough"
      ]
    },
    {
      "cell_type": "code",
      "execution_count": 21,
      "id": "665c856d",
      "metadata": {
        "execution": {
          "iopub.execute_input": "2023-07-01T03:33:08.380002Z",
          "iopub.status.busy": "2023-07-01T03:33:08.379790Z",
          "iopub.status.idle": "2023-07-01T03:33:08.382819Z",
          "shell.execute_reply": "2023-07-01T03:33:08.382414Z"
        },
        "papermill": {
          "duration": 0.017521,
          "end_time": "2023-07-01T03:33:08.384642",
          "exception": false,
          "start_time": "2023-07-01T03:33:08.367121",
          "status": "completed"
        },
        "tags": []
      },
      "outputs": [],
      "source": [
        "instances={\n",
        "    \"dc1\": dc_sdense,\n",
        "    \"wg\": wg_sdict,\n",
        "    \"dc2\": dc_sdense,\n",
        "}\n",
        "connections={\n",
        "    \"dc1,out0\": \"wg,in0\",\n",
        "    \"wg,out0\": \"dc2,in0\",\n",
        "    \"dc1,out1\": \"dc2,in1\",\n",
        "}\n",
        "ports={\n",
        "    \"in0\": \"dc1,in0\",\n",
        "    \"in1\": \"dc1,in1\",\n",
        "    \"out0\": \"dc2,out0\",\n",
        "    \"out1\": \"dc2,out1\",\n",
        "}"
      ]
    },
    {
      "cell_type": "markdown",
      "id": "b5bf5188",
      "metadata": {
        "papermill": {
          "duration": 0.011905,
          "end_time": "2023-07-01T03:33:08.408441",
          "exception": false,
          "start_time": "2023-07-01T03:33:08.396536",
          "status": "completed"
        },
        "tags": []
      },
      "source": [
        "Let's first enforce $C^T = C$:"
      ]
    },
    {
      "cell_type": "code",
      "execution_count": 22,
      "id": "6d7d4c39",
      "metadata": {
        "execution": {
          "iopub.execute_input": "2023-07-01T03:33:08.433426Z",
          "iopub.status.busy": "2023-07-01T03:33:08.433188Z",
          "iopub.status.idle": "2023-07-01T03:33:08.437026Z",
          "shell.execute_reply": "2023-07-01T03:33:08.436643Z"
        },
        "papermill": {
          "duration": 0.019228,
          "end_time": "2023-07-01T03:33:08.439582",
          "exception": false,
          "start_time": "2023-07-01T03:33:08.420354",
          "status": "completed"
        },
        "tags": []
      },
      "outputs": [
        {
          "data": {
            "text/plain": [
              "{'dc1,out0': 'wg,in0',\n",
              " 'wg,out0': 'dc2,in0',\n",
              " 'dc1,out1': 'dc2,in1',\n",
              " 'wg,in0': 'dc1,out0',\n",
              " 'dc2,in0': 'wg,out0',\n",
              " 'dc2,in1': 'dc1,out1'}"
            ]
          },
          "execution_count": 22,
          "metadata": {},
          "output_type": "execute_result"
        }
      ],
      "source": [
        "connections = {**connections, **{v: k for k, v in connections.items()}}\n",
        "connections"
      ]
    },
    {
      "cell_type": "markdown",
      "id": "a41250ec",
      "metadata": {
        "papermill": {
          "duration": 0.012063,
          "end_time": "2023-07-01T03:33:08.463807",
          "exception": false,
          "start_time": "2023-07-01T03:33:08.451744",
          "status": "completed"
        },
        "tags": []
      },
      "source": [
        "We'll also need the reversed ports:"
      ]
    },
    {
      "cell_type": "code",
      "execution_count": 23,
      "id": "9a70463f",
      "metadata": {
        "execution": {
          "iopub.execute_input": "2023-07-01T03:33:08.490013Z",
          "iopub.status.busy": "2023-07-01T03:33:08.489810Z",
          "iopub.status.idle": "2023-07-01T03:33:08.493595Z",
          "shell.execute_reply": "2023-07-01T03:33:08.493222Z"
        },
        "papermill": {
          "duration": 0.019789,
          "end_time": "2023-07-01T03:33:08.495998",
          "exception": false,
          "start_time": "2023-07-01T03:33:08.476209",
          "status": "completed"
        },
        "tags": []
      },
      "outputs": [
        {
          "data": {
            "text/plain": [
              "{'dc1,in0': 'in0', 'dc1,in1': 'in1', 'dc2,out0': 'out0', 'dc2,out1': 'out1'}"
            ]
          },
          "execution_count": 23,
          "metadata": {},
          "output_type": "execute_result"
        }
      ],
      "source": [
        "inverse_ports = {v: k for k, v in ports.items()}\n",
        "inverse_ports"
      ]
    },
    {
      "cell_type": "markdown",
      "id": "1e96443b",
      "metadata": {
        "papermill": {
          "duration": 0.012717,
          "end_time": "2023-07-01T03:33:08.520867",
          "exception": false,
          "start_time": "2023-07-01T03:33:08.508150",
          "status": "completed"
        },
        "tags": []
      },
      "source": [
        "An the port indices"
      ]
    },
    {
      "cell_type": "code",
      "execution_count": 24,
      "id": "8e18d182",
      "metadata": {
        "execution": {
          "iopub.execute_input": "2023-07-01T03:33:08.546278Z",
          "iopub.status.busy": "2023-07-01T03:33:08.546050Z",
          "iopub.status.idle": "2023-07-01T03:33:08.549553Z",
          "shell.execute_reply": "2023-07-01T03:33:08.549172Z"
        },
        "papermill": {
          "duration": 0.018836,
          "end_time": "2023-07-01T03:33:08.551829",
          "exception": false,
          "start_time": "2023-07-01T03:33:08.532993",
          "status": "completed"
        },
        "tags": []
      },
      "outputs": [
        {
          "data": {
            "text/plain": [
              "{'in0': 0, 'in1': 1, 'out0': 2, 'out1': 3}"
            ]
          },
          "execution_count": 24,
          "metadata": {},
          "output_type": "execute_result"
        }
      ],
      "source": [
        "port_map = {k: i for i, k in enumerate(ports)}\n",
        "port_map"
      ]
    },
    {
      "cell_type": "markdown",
      "id": "70924074",
      "metadata": {
        "papermill": {
          "duration": 0.012227,
          "end_time": "2023-07-01T03:33:08.576680",
          "exception": false,
          "start_time": "2023-07-01T03:33:08.564453",
          "status": "completed"
        },
        "tags": []
      },
      "source": [
        "Let's now create the COO-representation of our block diagonal S-matrix $S_{bd}$:"
      ]
    },
    {
      "cell_type": "code",
      "execution_count": 25,
      "id": "835deb8f",
      "metadata": {
        "execution": {
          "iopub.execute_input": "2023-07-01T03:33:08.602242Z",
          "iopub.status.busy": "2023-07-01T03:33:08.602014Z",
          "iopub.status.idle": "2023-07-01T03:33:08.903259Z",
          "shell.execute_reply": "2023-07-01T03:33:08.902812Z"
        },
        "papermill": {
          "duration": 0.315718,
          "end_time": "2023-07-01T03:33:08.904652",
          "exception": false,
          "start_time": "2023-07-01T03:33:08.588934",
          "status": "completed"
        },
        "tags": []
      },
      "outputs": [
        {
          "name": "stdout",
          "output_type": "stream",
          "text": [
            "[0 0 0 0 1 1 1 1 2 2 2 2 3 3 3 3 4 5 6 6 6 6 7 7 7 7 8 8 8 8 9 9 9 9]\n",
            "[0 1 2 3 0 1 2 3 0 1 2 3 0 1 2 3 5 4 6 7 8 9 6 7 8 9 6 7 8 9 6 7 8 9]\n",
            "[0.        +0.j         0.        +0.j         0.70710677+0.j\n",
            " 0.        +0.70710677j 0.        +0.j         0.        +0.j\n",
            " 0.        +0.70710677j 0.70710677+0.j         0.70710677+0.j\n",
            " 0.        +0.70710677j 0.        +0.j         0.        +0.j\n",
            " 0.        +0.70710677j 0.70710677+0.j         0.        +0.j\n",
            " 0.        +0.j         0.5       +0.86603j    0.5       +0.86603j\n",
            " 0.        +0.j         0.        +0.j         0.70710677+0.j\n",
            " 0.        +0.70710677j 0.        +0.j         0.        +0.j\n",
            " 0.        +0.70710677j 0.70710677+0.j         0.70710677+0.j\n",
            " 0.        +0.70710677j 0.        +0.j         0.        +0.j\n",
            " 0.        +0.70710677j 0.70710677+0.j         0.        +0.j\n",
            " 0.        +0.j        ]\n"
          ]
        }
      ],
      "source": [
        "idx, Si, Sj, Sx, instance_ports = 0, [], [], [], {}\n",
        "batch_shape = ()\n",
        "for name, instance in instances.items():\n",
        "    si, sj, sx, ports_map = scoo(instance)\n",
        "    Si.append(si + idx)\n",
        "    Sj.append(sj + idx)\n",
        "    Sx.append(sx)\n",
        "    if len(sx.shape[:-1]) > len(batch_shape):\n",
        "        batch_shape = sx.shape[:-1]\n",
        "    instance_ports.update({f\"{name},{p}\": i + idx for p, i in ports_map.items()})\n",
        "    idx += len(ports_map)\n",
        "Si = jnp.concatenate(Si, -1)\n",
        "Sj = jnp.concatenate(Sj, -1)\n",
        "Sx = jnp.concatenate([jnp.broadcast_to(sx, (*batch_shape, sx.shape[-1])) for sx in Sx], -1)\n",
        "\n",
        "print(Si)\n",
        "print(Sj)\n",
        "print(Sx)"
      ]
    },
    {
      "cell_type": "markdown",
      "id": "a8edefa1",
      "metadata": {
        "papermill": {
          "duration": 0.012545,
          "end_time": "2023-07-01T03:33:08.930155",
          "exception": false,
          "start_time": "2023-07-01T03:33:08.917610",
          "status": "completed"
        },
        "tags": []
      },
      "source": [
        "note that we also kept track of the `batch_shape`, i.e. the number of independent simulations (usually number of wavelengths). In the example being used here we don't have a batch dimension (all elements of the `SDict` are `0D`):"
      ]
    },
    {
      "cell_type": "code",
      "execution_count": 26,
      "id": "7513759a",
      "metadata": {
        "execution": {
          "iopub.execute_input": "2023-07-01T03:33:08.956052Z",
          "iopub.status.busy": "2023-07-01T03:33:08.955824Z",
          "iopub.status.idle": "2023-07-01T03:33:08.958967Z",
          "shell.execute_reply": "2023-07-01T03:33:08.958589Z"
        },
        "papermill": {
          "duration": 0.018666,
          "end_time": "2023-07-01T03:33:08.961259",
          "exception": false,
          "start_time": "2023-07-01T03:33:08.942593",
          "status": "completed"
        },
        "tags": []
      },
      "outputs": [
        {
          "data": {
            "text/plain": [
              "()"
            ]
          },
          "execution_count": 26,
          "metadata": {},
          "output_type": "execute_result"
        }
      ],
      "source": [
        "batch_shape"
      ]
    },
    {
      "cell_type": "markdown",
      "id": "c63b14d7",
      "metadata": {
        "papermill": {
          "duration": 0.012485,
          "end_time": "2023-07-01T03:33:08.986321",
          "exception": false,
          "start_time": "2023-07-01T03:33:08.973836",
          "status": "completed"
        },
        "tags": []
      },
      "source": [
        "We'll also keep track of the number of columns"
      ]
    },
    {
      "cell_type": "code",
      "execution_count": 27,
      "id": "89000432",
      "metadata": {
        "execution": {
          "iopub.execute_input": "2023-07-01T03:33:09.013889Z",
          "iopub.status.busy": "2023-07-01T03:33:09.013672Z",
          "iopub.status.idle": "2023-07-01T03:33:09.016897Z",
          "shell.execute_reply": "2023-07-01T03:33:09.016519Z"
        },
        "papermill": {
          "duration": 0.019701,
          "end_time": "2023-07-01T03:33:09.019203",
          "exception": false,
          "start_time": "2023-07-01T03:33:08.999502",
          "status": "completed"
        },
        "tags": []
      },
      "outputs": [
        {
          "data": {
            "text/plain": [
              "10"
            ]
          },
          "execution_count": 27,
          "metadata": {},
          "output_type": "execute_result"
        }
      ],
      "source": [
        "n_col = idx\n",
        "n_col"
      ]
    },
    {
      "cell_type": "markdown",
      "id": "7b0f95da",
      "metadata": {
        "papermill": {
          "duration": 0.012625,
          "end_time": "2023-07-01T03:33:09.044441",
          "exception": false,
          "start_time": "2023-07-01T03:33:09.031816",
          "status": "completed"
        },
        "tags": []
      },
      "source": [
        "And we'll need to solve the circuit for each output port, i.e. we need to solve `n_rhs` number of equations:"
      ]
    },
    {
      "cell_type": "code",
      "execution_count": 28,
      "id": "27902354",
      "metadata": {
        "execution": {
          "iopub.execute_input": "2023-07-01T03:33:09.070928Z",
          "iopub.status.busy": "2023-07-01T03:33:09.070692Z",
          "iopub.status.idle": "2023-07-01T03:33:09.073890Z",
          "shell.execute_reply": "2023-07-01T03:33:09.073500Z"
        },
        "papermill": {
          "duration": 0.019228,
          "end_time": "2023-07-01T03:33:09.076266",
          "exception": false,
          "start_time": "2023-07-01T03:33:09.057038",
          "status": "completed"
        },
        "tags": []
      },
      "outputs": [
        {
          "data": {
            "text/plain": [
              "4"
            ]
          },
          "execution_count": 28,
          "metadata": {},
          "output_type": "execute_result"
        }
      ],
      "source": [
        "n_rhs = len(port_map)\n",
        "n_rhs"
      ]
    },
    {
      "cell_type": "markdown",
      "id": "05056b46",
      "metadata": {
        "papermill": {
          "duration": 0.012808,
          "end_time": "2023-07-01T03:33:09.101940",
          "exception": false,
          "start_time": "2023-07-01T03:33:09.089132",
          "status": "completed"
        },
        "tags": []
      },
      "source": [
        "We can represent the internal connection matrix $C_{int}$ as a mapping between port indices:"
      ]
    },
    {
      "cell_type": "code",
      "execution_count": 29,
      "id": "f3ff1fa7",
      "metadata": {
        "execution": {
          "iopub.execute_input": "2023-07-01T03:33:09.128403Z",
          "iopub.status.busy": "2023-07-01T03:33:09.128179Z",
          "iopub.status.idle": "2023-07-01T03:33:09.131984Z",
          "shell.execute_reply": "2023-07-01T03:33:09.131608Z"
        },
        "papermill": {
          "duration": 0.019757,
          "end_time": "2023-07-01T03:33:09.134386",
          "exception": false,
          "start_time": "2023-07-01T03:33:09.114629",
          "status": "completed"
        },
        "tags": []
      },
      "outputs": [
        {
          "data": {
            "text/plain": [
              "{2: 4, 5: 6, 3: 7, 4: 2, 6: 5, 7: 3}"
            ]
          },
          "execution_count": 29,
          "metadata": {},
          "output_type": "execute_result"
        }
      ],
      "source": [
        "Cmap = {int(instance_ports[k]): int(instance_ports[v]) for k, v in connections.items()}\n",
        "Cmap"
      ]
    },
    {
      "cell_type": "markdown",
      "id": "999164af",
      "metadata": {
        "papermill": {
          "duration": 0.012792,
          "end_time": "2023-07-01T03:33:09.160000",
          "exception": false,
          "start_time": "2023-07-01T03:33:09.147208",
          "status": "completed"
        },
        "tags": []
      },
      "source": [
        "Therefore, the COO-representation of this connection matrix can be obtained as follows (note that an array of values Cx is not necessary, all non-zero elements in a connection matrix are 1)"
      ]
    },
    {
      "cell_type": "code",
      "execution_count": 30,
      "id": "9e4f1728",
      "metadata": {
        "execution": {
          "iopub.execute_input": "2023-07-01T03:33:09.186746Z",
          "iopub.status.busy": "2023-07-01T03:33:09.186514Z",
          "iopub.status.idle": "2023-07-01T03:33:09.191817Z",
          "shell.execute_reply": "2023-07-01T03:33:09.191440Z"
        },
        "papermill": {
          "duration": 0.021521,
          "end_time": "2023-07-01T03:33:09.194246",
          "exception": false,
          "start_time": "2023-07-01T03:33:09.172725",
          "status": "completed"
        },
        "tags": []
      },
      "outputs": [
        {
          "name": "stdout",
          "output_type": "stream",
          "text": [
            "[2 5 3 4 6 7]\n",
            "[4 6 7 2 5 3]\n"
          ]
        }
      ],
      "source": [
        "Ci = jnp.array(list(Cmap.keys()), dtype=jnp.int32)\n",
        "Cj = jnp.array(list(Cmap.values()), dtype=jnp.int32)\n",
        "print(Ci)\n",
        "print(Cj)"
      ]
    },
    {
      "cell_type": "markdown",
      "id": "47d5ed60",
      "metadata": {
        "papermill": {
          "duration": 0.012871,
          "end_time": "2023-07-01T03:33:09.220063",
          "exception": false,
          "start_time": "2023-07-01T03:33:09.207192",
          "status": "completed"
        },
        "tags": []
      },
      "source": [
        "We can represent the external connection matrix $C_{ext}$ as a map between internal port indices and external port indices:"
      ]
    },
    {
      "cell_type": "code",
      "execution_count": 31,
      "id": "f56ae166",
      "metadata": {
        "execution": {
          "iopub.execute_input": "2023-07-01T03:33:09.248160Z",
          "iopub.status.busy": "2023-07-01T03:33:09.247945Z",
          "iopub.status.idle": "2023-07-01T03:33:09.251721Z",
          "shell.execute_reply": "2023-07-01T03:33:09.251355Z"
        },
        "papermill": {
          "duration": 0.021164,
          "end_time": "2023-07-01T03:33:09.254150",
          "exception": false,
          "start_time": "2023-07-01T03:33:09.232986",
          "status": "completed"
        },
        "tags": []
      },
      "outputs": [
        {
          "data": {
            "text/plain": [
              "{0: 0, 1: 1, 8: 2, 9: 3}"
            ]
          },
          "execution_count": 31,
          "metadata": {},
          "output_type": "execute_result"
        }
      ],
      "source": [
        "Cextmap = {int(instance_ports[k]): int(port_map[v]) for k, v in inverse_ports.items()}\n",
        "Cextmap"
      ]
    },
    {
      "cell_type": "markdown",
      "id": "2485c01d",
      "metadata": {
        "papermill": {
          "duration": 0.012905,
          "end_time": "2023-07-01T03:33:09.280100",
          "exception": false,
          "start_time": "2023-07-01T03:33:09.267195",
          "status": "completed"
        },
        "tags": []
      },
      "source": [
        "Just as for the internal matrix we can represent this external connection matrix in COO-format:"
      ]
    },
    {
      "cell_type": "code",
      "execution_count": 32,
      "id": "cfb419ac",
      "metadata": {
        "execution": {
          "iopub.execute_input": "2023-07-01T03:33:09.308789Z",
          "iopub.status.busy": "2023-07-01T03:33:09.308587Z",
          "iopub.status.idle": "2023-07-01T03:33:09.337598Z",
          "shell.execute_reply": "2023-07-01T03:33:09.337225Z"
        },
        "papermill": {
          "duration": 0.045944,
          "end_time": "2023-07-01T03:33:09.339003",
          "exception": false,
          "start_time": "2023-07-01T03:33:09.293059",
          "status": "completed"
        },
        "tags": []
      },
      "outputs": [
        {
          "name": "stdout",
          "output_type": "stream",
          "text": [
            "[0 1 8 9]\n",
            "[0 1 2 3]\n"
          ]
        }
      ],
      "source": [
        "Cexti = jnp.stack(list(Cextmap.keys()), 0)\n",
        "Cextj = jnp.stack(list(Cextmap.values()), 0)\n",
        "print(Cexti)\n",
        "print(Cextj)"
      ]
    },
    {
      "cell_type": "markdown",
      "id": "e46d609c",
      "metadata": {
        "papermill": {
          "duration": 0.01355,
          "end_time": "2023-07-01T03:33:09.367427",
          "exception": false,
          "start_time": "2023-07-01T03:33:09.353877",
          "status": "completed"
        },
        "tags": []
      },
      "source": [
        "However, we actually need it as a dense representation:\n",
        "\n",
        "> help needed: can we find a way later on to keep this sparse?"
      ]
    },
    {
      "cell_type": "code",
      "execution_count": 33,
      "id": "25c4ec6e",
      "metadata": {
        "execution": {
          "iopub.execute_input": "2023-07-01T03:33:09.394724Z",
          "iopub.status.busy": "2023-07-01T03:33:09.394473Z",
          "iopub.status.idle": "2023-07-01T03:33:09.521972Z",
          "shell.execute_reply": "2023-07-01T03:33:09.521522Z"
        },
        "papermill": {
          "duration": 0.143439,
          "end_time": "2023-07-01T03:33:09.523999",
          "exception": false,
          "start_time": "2023-07-01T03:33:09.380560",
          "status": "completed"
        },
        "tags": []
      },
      "outputs": [],
      "source": [
        "if JAX_AVAILABLE:\n",
        "    Cext = jnp.zeros((n_col, n_rhs), dtype=complex).at[Cexti, Cextj].set(1.0)\n",
        "    Cext"
      ]
    },
    {
      "cell_type": "markdown",
      "id": "b31cc279",
      "metadata": {
        "papermill": {
          "duration": 0.013615,
          "end_time": "2023-07-01T03:33:09.552202",
          "exception": false,
          "start_time": "2023-07-01T03:33:09.538587",
          "status": "completed"
        },
        "tags": []
      },
      "source": [
        "We'll now calculate the row index `CSi` of $C_{int}S_{bd}$ in COO-format:"
      ]
    },
    {
      "cell_type": "code",
      "execution_count": 34,
      "id": "33c87a2049128b1c",
      "metadata": {
        "execution": {
          "iopub.execute_input": "2023-07-01T03:33:09.579928Z",
          "iopub.status.busy": "2023-07-01T03:33:09.579689Z",
          "iopub.status.idle": "2023-07-01T03:33:09.740175Z",
          "shell.execute_reply": "2023-07-01T03:33:09.739758Z"
        },
        "papermill": {
          "duration": 0.176043,
          "end_time": "2023-07-01T03:33:09.741662",
          "exception": false,
          "start_time": "2023-07-01T03:33:09.565619",
          "status": "completed"
        },
        "tags": []
      },
      "outputs": [
        {
          "data": {
            "text/plain": [
              "Array([4, 4, 4, 4, 7, 7, 7, 7, 2, 6, 5, 5, 5, 5, 3, 3, 3, 3], dtype=int32)"
            ]
          },
          "execution_count": 34,
          "metadata": {},
          "output_type": "execute_result"
        }
      ],
      "source": [
        "# TODO: make this block jittable...\n",
        "Ix = jnp.ones((*batch_shape, n_col))\n",
        "Ii = Ij = jnp.arange(n_col)\n",
        "mask = Cj[None,:] == Si[:, None]\n",
        "CSi = jnp.broadcast_to(Ci[None, :], mask.shape)[mask]\n",
        "CSi"
      ]
    },
    {
      "cell_type": "markdown",
      "id": "a2657582",
      "metadata": {
        "papermill": {
          "duration": 0.013423,
          "end_time": "2023-07-01T03:33:09.769073",
          "exception": false,
          "start_time": "2023-07-01T03:33:09.755650",
          "status": "completed"
        },
        "tags": []
      },
      "source": [
        "> `CSi`: possible jittable alternative? how do we remove the zeros?"
      ]
    },
    {
      "cell_type": "code",
      "execution_count": 35,
      "id": "d4ea2cb5",
      "metadata": {
        "execution": {
          "iopub.execute_input": "2023-07-01T03:33:09.796847Z",
          "iopub.status.busy": "2023-07-01T03:33:09.796600Z",
          "iopub.status.idle": "2023-07-01T03:33:09.838190Z",
          "shell.execute_reply": "2023-07-01T03:33:09.837803Z"
        },
        "papermill": {
          "duration": 0.05733,
          "end_time": "2023-07-01T03:33:09.839621",
          "exception": false,
          "start_time": "2023-07-01T03:33:09.782291",
          "status": "completed"
        },
        "tags": []
      },
      "outputs": [
        {
          "data": {
            "text/plain": [
              "Array([0, 0, 0, 0, 0, 0, 0, 0, 4, 4, 4, 4, 7, 7, 7, 7, 2, 6, 5, 5, 5, 5,\n",
              "       3, 3, 3, 3, 0, 0, 0, 0, 0, 0, 0, 0], dtype=int32)"
            ]
          },
          "execution_count": 35,
          "metadata": {},
          "output_type": "execute_result"
        }
      ],
      "source": [
        "CSi_ = jnp.where(Cj[None, :] == Si[:, None], Ci[None, :], 0).sum(1) # not used\n",
        "CSi_ # not used"
      ]
    },
    {
      "cell_type": "markdown",
      "id": "44fc620e",
      "metadata": {
        "papermill": {
          "duration": 0.013909,
          "end_time": "2023-07-01T03:33:09.867610",
          "exception": false,
          "start_time": "2023-07-01T03:33:09.853701",
          "status": "completed"
        },
        "tags": []
      },
      "source": [
        "The column index `CSj` of $C_{int}S_{bd}$ can more easily be obtained:"
      ]
    },
    {
      "cell_type": "code",
      "execution_count": 36,
      "id": "f71fdd7c",
      "metadata": {
        "execution": {
          "iopub.execute_input": "2023-07-01T03:33:09.895289Z",
          "iopub.status.busy": "2023-07-01T03:33:09.895061Z",
          "iopub.status.idle": "2023-07-01T03:33:09.963167Z",
          "shell.execute_reply": "2023-07-01T03:33:09.962767Z"
        },
        "papermill": {
          "duration": 0.083706,
          "end_time": "2023-07-01T03:33:09.964606",
          "exception": false,
          "start_time": "2023-07-01T03:33:09.880900",
          "status": "completed"
        },
        "tags": []
      },
      "outputs": [
        {
          "data": {
            "text/plain": [
              "Array([0, 1, 2, 3, 0, 1, 2, 3, 5, 4, 6, 7, 8, 9, 6, 7, 8, 9], dtype=int32)"
            ]
          },
          "execution_count": 36,
          "metadata": {},
          "output_type": "execute_result"
        }
      ],
      "source": [
        "mask = (Cj[:, None] == Si[None, :]).any(0)\n",
        "CSj = Sj[mask]\n",
        "CSj"
      ]
    },
    {
      "cell_type": "markdown",
      "id": "99bf7684",
      "metadata": {
        "papermill": {
          "duration": 0.013576,
          "end_time": "2023-07-01T03:33:09.992347",
          "exception": false,
          "start_time": "2023-07-01T03:33:09.978771",
          "status": "completed"
        },
        "tags": []
      },
      "source": [
        "> `CSj`: possible jittable alternative? how do we remove the zeros?"
      ]
    },
    {
      "cell_type": "code",
      "execution_count": 37,
      "id": "ffa7bc82",
      "metadata": {
        "execution": {
          "iopub.execute_input": "2023-07-01T03:33:10.020852Z",
          "iopub.status.busy": "2023-07-01T03:33:10.020629Z",
          "iopub.status.idle": "2023-07-01T03:33:10.043848Z",
          "shell.execute_reply": "2023-07-01T03:33:10.043430Z"
        },
        "papermill": {
          "duration": 0.038929,
          "end_time": "2023-07-01T03:33:10.045215",
          "exception": false,
          "start_time": "2023-07-01T03:33:10.006286",
          "status": "completed"
        },
        "tags": []
      },
      "outputs": [
        {
          "data": {
            "text/plain": [
              "Array([0, 0, 0, 0, 0, 0, 0, 0, 0, 1, 2, 3, 0, 1, 2, 3, 5, 4, 6, 7, 8, 9,\n",
              "       6, 7, 8, 9, 0, 0, 0, 0, 0, 0, 0, 0], dtype=int32)"
            ]
          },
          "execution_count": 37,
          "metadata": {},
          "output_type": "execute_result"
        }
      ],
      "source": [
        "CSj_ = jnp.where(mask, Sj, 0) # not used\n",
        "CSj_ # not used"
      ]
    },
    {
      "cell_type": "markdown",
      "id": "e0fc6d02",
      "metadata": {
        "papermill": {
          "duration": 0.013508,
          "end_time": "2023-07-01T03:33:10.072994",
          "exception": false,
          "start_time": "2023-07-01T03:33:10.059486",
          "status": "completed"
        },
        "tags": []
      },
      "source": [
        "Finally, the values `CSx` of $C_{int}S_{bd}$ can be obtained as follows:"
      ]
    },
    {
      "cell_type": "code",
      "execution_count": 38,
      "id": "59d2e1b2",
      "metadata": {
        "execution": {
          "iopub.execute_input": "2023-07-01T03:33:10.100965Z",
          "iopub.status.busy": "2023-07-01T03:33:10.100738Z",
          "iopub.status.idle": "2023-07-01T03:33:10.125469Z",
          "shell.execute_reply": "2023-07-01T03:33:10.125102Z"
        },
        "papermill": {
          "duration": 0.040422,
          "end_time": "2023-07-01T03:33:10.126837",
          "exception": false,
          "start_time": "2023-07-01T03:33:10.086415",
          "status": "completed"
        },
        "tags": []
      },
      "outputs": [
        {
          "data": {
            "text/plain": [
              "Array([0.70710677+0.j        , 0.        +0.70710677j,\n",
              "       0.        +0.j        , 0.        +0.j        ,\n",
              "       0.        +0.70710677j, 0.70710677+0.j        ,\n",
              "       0.        +0.j        , 0.        +0.j        ,\n",
              "       0.5       +0.86603j   , 0.5       +0.86603j   ,\n",
              "       0.        +0.j        , 0.        +0.j        ,\n",
              "       0.70710677+0.j        , 0.        +0.70710677j,\n",
              "       0.        +0.j        , 0.        +0.j        ,\n",
              "       0.        +0.70710677j, 0.70710677+0.j        ], dtype=complex64)"
            ]
          },
          "execution_count": 38,
          "metadata": {},
          "output_type": "execute_result"
        }
      ],
      "source": [
        "if Sx.ndim > 1:\n",
        "    CSx = Sx[..., mask] # normally this should be enough\n",
        "else:\n",
        "    CSx = Sx[mask] # need separate case bc bug in JAX... see https://github.com/google/jax/issues/9050\n",
        "   \n",
        "CSx"
      ]
    },
    {
      "cell_type": "markdown",
      "id": "c02035bd",
      "metadata": {
        "papermill": {
          "duration": 0.01364,
          "end_time": "2023-07-01T03:33:10.154550",
          "exception": false,
          "start_time": "2023-07-01T03:33:10.140910",
          "status": "completed"
        },
        "tags": []
      },
      "source": [
        "> `CSx`: possible jittable alternative? how do we remove the zeros?"
      ]
    },
    {
      "cell_type": "code",
      "execution_count": 39,
      "id": "107e9e80",
      "metadata": {
        "execution": {
          "iopub.execute_input": "2023-07-01T03:33:10.183030Z",
          "iopub.status.busy": "2023-07-01T03:33:10.182787Z",
          "iopub.status.idle": "2023-07-01T03:33:10.206210Z",
          "shell.execute_reply": "2023-07-01T03:33:10.205822Z"
        },
        "papermill": {
          "duration": 0.039532,
          "end_time": "2023-07-01T03:33:10.207680",
          "exception": false,
          "start_time": "2023-07-01T03:33:10.168148",
          "status": "completed"
        },
        "tags": []
      },
      "outputs": [
        {
          "data": {
            "text/plain": [
              "Array([0.        +0.j        , 0.        +0.j        ,\n",
              "       0.        +0.j        , 0.        +0.j        ,\n",
              "       0.        +0.j        , 0.        +0.j        ,\n",
              "       0.        +0.j        , 0.        +0.j        ,\n",
              "       0.70710677+0.j        , 0.        +0.70710677j,\n",
              "       0.        +0.j        , 0.        +0.j        ,\n",
              "       0.        +0.70710677j, 0.70710677+0.j        ,\n",
              "       0.        +0.j        , 0.        +0.j        ,\n",
              "       0.5       +0.86603j   , 0.5       +0.86603j   ,\n",
              "       0.        +0.j        , 0.        +0.j        ,\n",
              "       0.70710677+0.j        , 0.        +0.70710677j,\n",
              "       0.        +0.j        , 0.        +0.j        ,\n",
              "       0.        +0.70710677j, 0.70710677+0.j        ,\n",
              "       0.        +0.j        , 0.        +0.j        ,\n",
              "       0.        +0.j        , 0.        +0.j        ,\n",
              "       0.        +0.j        , 0.        +0.j        ,\n",
              "       0.        +0.j        , 0.        +0.j        ], dtype=complex64)"
            ]
          },
          "execution_count": 39,
          "metadata": {},
          "output_type": "execute_result"
        }
      ],
      "source": [
        "CSx_ = jnp.where(mask, Sx, 0.0) # not used\n",
        "CSx_ # not used"
      ]
    },
    {
      "cell_type": "markdown",
      "id": "9411edf5",
      "metadata": {
        "papermill": {
          "duration": 0.0139,
          "end_time": "2023-07-01T03:33:10.235900",
          "exception": false,
          "start_time": "2023-07-01T03:33:10.222000",
          "status": "completed"
        },
        "tags": []
      },
      "source": [
        "Now we calculate $\\mathbb{1} - C_{int}S_{bd}$ in an *uncoalesced* way (we might have duplicate indices on the diagonal):\n",
        "\n",
        "> **uncoalesced**: having duplicate index combinations (i, j) in the representation possibly with different corresponding values. This is usually not a problem as in linear operations these values will end up to be summed, usually the behavior you want:"
      ]
    },
    {
      "cell_type": "code",
      "execution_count": 40,
      "id": "53c3f4ab",
      "metadata": {
        "execution": {
          "iopub.execute_input": "2023-07-01T03:33:10.264868Z",
          "iopub.status.busy": "2023-07-01T03:33:10.264487Z",
          "iopub.status.idle": "2023-07-01T03:33:10.322538Z",
          "shell.execute_reply": "2023-07-01T03:33:10.314098Z"
        },
        "papermill": {
          "duration": 0.074086,
          "end_time": "2023-07-01T03:33:10.323901",
          "exception": false,
          "start_time": "2023-07-01T03:33:10.249815",
          "status": "completed"
        },
        "tags": []
      },
      "outputs": [
        {
          "name": "stdout",
          "output_type": "stream",
          "text": [
            "[4 4 4 4 7 7 7 7 2 6 5 5 5 5 3 3 3 3 0 1 2 3 4 5 6 7 8 9]\n",
            "[0 1 2 3 0 1 2 3 5 4 6 7 8 9 6 7 8 9 0 1 2 3 4 5 6 7 8 9]\n",
            "[-0.70710677-0.j         -0.        -0.70710677j -0.        -0.j\n",
            " -0.        -0.j         -0.        -0.70710677j -0.70710677-0.j\n",
            " -0.        -0.j         -0.        -0.j         -0.5       -0.86603j\n",
            " -0.5       -0.86603j    -0.        -0.j         -0.        -0.j\n",
            " -0.70710677-0.j         -0.        -0.70710677j -0.        -0.j\n",
            " -0.        -0.j         -0.        -0.70710677j -0.70710677-0.j\n",
            "  1.        +0.j          1.        +0.j          1.        +0.j\n",
            "  1.        +0.j          1.        +0.j          1.        +0.j\n",
            "  1.        +0.j          1.        +0.j          1.        +0.j\n",
            "  1.        +0.j        ]\n"
          ]
        }
      ],
      "source": [
        "I_CSi = jnp.concatenate([CSi, Ii], -1)\n",
        "I_CSj = jnp.concatenate([CSj, Ij], -1)\n",
        "I_CSx = jnp.concatenate([-CSx, Ix], -1)\n",
        "print(I_CSi)\n",
        "print(I_CSj)\n",
        "print(I_CSx)"
      ]
    },
    {
      "cell_type": "code",
      "execution_count": 41,
      "id": "188e4606",
      "metadata": {
        "execution": {
          "iopub.execute_input": "2023-07-01T03:33:10.353420Z",
          "iopub.status.busy": "2023-07-01T03:33:10.353008Z",
          "iopub.status.idle": "2023-07-01T03:33:10.355913Z",
          "shell.execute_reply": "2023-07-01T03:33:10.355503Z"
        },
        "papermill": {
          "duration": 0.022122,
          "end_time": "2023-07-01T03:33:10.360386",
          "exception": false,
          "start_time": "2023-07-01T03:33:10.338264",
          "status": "completed"
        },
        "tags": []
      },
      "outputs": [
        {
          "name": "stdout",
          "output_type": "stream",
          "text": [
            "10 4\n"
          ]
        }
      ],
      "source": [
        "if JAX_AVAILABLE:\n",
        "    n_col, n_rhs = Cext.shape\n",
        "    print(n_col, n_rhs)"
      ]
    },
    {
      "cell_type": "markdown",
      "id": "e018c515",
      "metadata": {
        "papermill": {
          "duration": 0.013911,
          "end_time": "2023-07-01T03:33:10.388164",
          "exception": false,
          "start_time": "2023-07-01T03:33:10.374253",
          "status": "completed"
        },
        "tags": []
      },
      "source": [
        "The batch shape dimension can generally speaking be anything (in the example here 0D). We need to do the necessary reshapings to make the batch shape 1D:"
      ]
    },
    {
      "cell_type": "code",
      "execution_count": 42,
      "id": "dad259e7",
      "metadata": {
        "execution": {
          "iopub.execute_input": "2023-07-01T03:33:10.417461Z",
          "iopub.status.busy": "2023-07-01T03:33:10.417121Z",
          "iopub.status.idle": "2023-07-01T03:33:10.434669Z",
          "shell.execute_reply": "2023-07-01T03:33:10.434177Z"
        },
        "papermill": {
          "duration": 0.033774,
          "end_time": "2023-07-01T03:33:10.435972",
          "exception": false,
          "start_time": "2023-07-01T03:33:10.402198",
          "status": "completed"
        },
        "tags": []
      },
      "outputs": [
        {
          "name": "stdout",
          "output_type": "stream",
          "text": [
            "1\n"
          ]
        }
      ],
      "source": [
        "n_lhs = jnp.prod(jnp.array(batch_shape, dtype=jnp.int32))\n",
        "print(n_lhs)"
      ]
    },
    {
      "cell_type": "code",
      "execution_count": 43,
      "id": "9cf69da7",
      "metadata": {
        "execution": {
          "iopub.execute_input": "2023-07-01T03:33:10.465443Z",
          "iopub.status.busy": "2023-07-01T03:33:10.465149Z",
          "iopub.status.idle": "2023-07-01T03:33:10.480633Z",
          "shell.execute_reply": "2023-07-01T03:33:10.480197Z"
        },
        "papermill": {
          "duration": 0.031634,
          "end_time": "2023-07-01T03:33:10.481901",
          "exception": false,
          "start_time": "2023-07-01T03:33:10.450267",
          "status": "completed"
        },
        "tags": []
      },
      "outputs": [
        {
          "data": {
            "text/plain": [
              "(1, 34)"
            ]
          },
          "execution_count": 43,
          "metadata": {},
          "output_type": "execute_result"
        }
      ],
      "source": [
        "Sx = Sx.reshape(n_lhs, -1)\n",
        "Sx.shape"
      ]
    },
    {
      "cell_type": "code",
      "execution_count": 44,
      "id": "788294fa",
      "metadata": {
        "execution": {
          "iopub.execute_input": "2023-07-01T03:33:10.511828Z",
          "iopub.status.busy": "2023-07-01T03:33:10.511555Z",
          "iopub.status.idle": "2023-07-01T03:33:10.526706Z",
          "shell.execute_reply": "2023-07-01T03:33:10.526243Z"
        },
        "papermill": {
          "duration": 0.031389,
          "end_time": "2023-07-01T03:33:10.527860",
          "exception": false,
          "start_time": "2023-07-01T03:33:10.496471",
          "status": "completed"
        },
        "tags": []
      },
      "outputs": [
        {
          "data": {
            "text/plain": [
              "(1, 28)"
            ]
          },
          "execution_count": 44,
          "metadata": {},
          "output_type": "execute_result"
        }
      ],
      "source": [
        "I_CSx = I_CSx.reshape(n_lhs, -1)\n",
        "I_CSx.shape"
      ]
    },
    {
      "cell_type": "markdown",
      "id": "ec741031",
      "metadata": {
        "papermill": {
          "duration": 0.014403,
          "end_time": "2023-07-01T03:33:10.556643",
          "exception": false,
          "start_time": "2023-07-01T03:33:10.542240",
          "status": "completed"
        },
        "tags": []
      },
      "source": [
        "We're finally ready to do the most important part of the calculation, which we conveniently leave to `klujax` and `SuiteSparse`:"
      ]
    },
    {
      "cell_type": "code",
      "execution_count": 45,
      "id": "9c1d8644",
      "metadata": {
        "execution": {
          "iopub.execute_input": "2023-07-01T03:33:10.586334Z",
          "iopub.status.busy": "2023-07-01T03:33:10.586129Z",
          "iopub.status.idle": "2023-07-01T03:33:10.592573Z",
          "shell.execute_reply": "2023-07-01T03:33:10.592139Z"
        },
        "papermill": {
          "duration": 0.022689,
          "end_time": "2023-07-01T03:33:10.593890",
          "exception": false,
          "start_time": "2023-07-01T03:33:10.571201",
          "status": "completed"
        },
        "tags": []
      },
      "outputs": [],
      "source": [
        "if klujax is not None:\n",
        "    inv_I_CS_Cext = solve_klu(I_CSi, I_CSj, I_CSx, Cext)\n",
        "else:\n",
        "    inv_I_CS_Cext = jnp.array([[[1.0 + 0.0j, 0.0 + 0.0j, 0.0 + 0.0j, 0.0 + 0.0j], [0.0 + 0.0j, 1.0 + 0.0j, 0.0 + 0.0j, 0.0 + 0.0j], [ -0.0 + 0.0j, -0.0 + 0.0j, 0.35355339 + 0.61237569j, -0.61237569 + 0.35355339j, ], [0.0 + 0.0j, 0.0 + 0.0j, 0.0 + 0.70710678j, 0.70710678 + 0.0j], [0.70710678 - 0.0j, -0.0 + 0.70710678j, -0.0 - 0.0j, -0.0 - 0.0j], [-0.0 - 0.0j, -0.0 - 0.0j, 0.70710678 - 0.0j, -0.0 + 0.70710678j], [ 0.35355339 + 0.61237569j, -0.61237569 + 0.35355339j, -0.0 + 0.0j, -0.0 + 0.0j, ], [0.0 + 0.70710678j, 0.70710678 + 0.0j, 0.0 + 0.0j, 0.0 + 0.0j], [0.0 + 0.0j, 0.0 + 0.0j, 1.0 + 0.0j, 0.0 + 0.0j], [0.0 + 0.0j, 0.0 + 0.0j, 0.0 + 0.0j, 1.0 + 0.0j]]])"
      ]
    },
    {
      "cell_type": "markdown",
      "id": "e51487df",
      "metadata": {
        "papermill": {
          "duration": 0.014107,
          "end_time": "2023-07-01T03:33:10.622456",
          "exception": false,
          "start_time": "2023-07-01T03:33:10.608349",
          "status": "completed"
        },
        "tags": []
      },
      "source": [
        "one more sparse multiplication:"
      ]
    },
    {
      "cell_type": "code",
      "execution_count": 46,
      "id": "cccda072",
      "metadata": {
        "execution": {
          "iopub.execute_input": "2023-07-01T03:33:10.651781Z",
          "iopub.status.busy": "2023-07-01T03:33:10.651502Z",
          "iopub.status.idle": "2023-07-01T03:33:10.656594Z",
          "shell.execute_reply": "2023-07-01T03:33:10.656159Z"
        },
        "papermill": {
          "duration": 0.021649,
          "end_time": "2023-07-01T03:33:10.658192",
          "exception": false,
          "start_time": "2023-07-01T03:33:10.636543",
          "status": "completed"
        },
        "tags": []
      },
      "outputs": [],
      "source": [
        "if klujax is not None:\n",
        "    S_inv_I_CS_Cext = mul_coo(Si, Sj, Sx, inv_I_CS_Cext)\n",
        "else:\n",
        "    S_inv_I_CS_Cext = jnp.array([[[0.0 + 0.0j, 0.0 + 0.0j, -0.25 + 0.433015j, -0.433015 + 0.75j], [0.0 + 0.0j, 0.0 + 0.0j, -0.433015 + 0.75j, 0.25 - 0.433015j], [0.70710678 + 0.0j, 0.0 + 0.70710678j, 0.0 + 0.0j, 0.0 + 0.0j], [0.0 + 0.70710678j, 0.70710678 + 0.0j, 0.0 + 0.0j, 0.0 + 0.0j], [ 0.0 + 0.0j, 0.0 + 0.0j, 0.35355339 + 0.61237569j, -0.61237569 + 0.35355339j, ], [ 0.35355339 + 0.61237569j, -0.61237569 + 0.35355339j, 0.0 + 0.0j, 0.0 + 0.0j, ], [0.0 + 0.0j, 0.0 + 0.0j, 0.70710678 + 0.0j, 0.0 + 0.70710678j], [0.0 + 0.0j, 0.0 + 0.0j, 0.0 + 0.70710678j, 0.70710678 + 0.0j], [-0.25 + 0.433015j, -0.433015 + 0.75j, 0.0 + 0.0j, 0.0 + 0.0j], [-0.433015 + 0.75j, 0.25 - 0.433015j, 0.0 + 0.0j, 0.0 + 0.0j]]])"
      ]
    },
    {
      "cell_type": "markdown",
      "id": "627a98f7",
      "metadata": {
        "papermill": {
          "duration": 0.014123,
          "end_time": "2023-07-01T03:33:10.686627",
          "exception": false,
          "start_time": "2023-07-01T03:33:10.672504",
          "status": "completed"
        },
        "tags": []
      },
      "source": [
        "And one more $C_{ext}$ multiplication which we do by clever indexing:"
      ]
    },
    {
      "cell_type": "code",
      "execution_count": 47,
      "id": "12ff877c",
      "metadata": {
        "execution": {
          "iopub.execute_input": "2023-07-01T03:33:10.715975Z",
          "iopub.status.busy": "2023-07-01T03:33:10.715713Z",
          "iopub.status.idle": "2023-07-01T03:33:10.723167Z",
          "shell.execute_reply": "2023-07-01T03:33:10.722735Z"
        },
        "papermill": {
          "duration": 0.023659,
          "end_time": "2023-07-01T03:33:10.724463",
          "exception": false,
          "start_time": "2023-07-01T03:33:10.700804",
          "status": "completed"
        },
        "tags": []
      },
      "outputs": [
        {
          "data": {
            "text/plain": [
              "Array([[[ 0.      +0.j      ,  0.      +0.j      , -0.25    +0.433015j,\n",
              "         -0.433015+0.75j    ],\n",
              "        [ 0.      +0.j      ,  0.      +0.j      , -0.433015+0.75j    ,\n",
              "          0.25    -0.433015j],\n",
              "        [-0.25    +0.433015j, -0.433015+0.75j    ,  0.      +0.j      ,\n",
              "          0.      +0.j      ],\n",
              "        [-0.433015+0.75j    ,  0.25    -0.433015j,  0.      +0.j      ,\n",
              "          0.      +0.j      ]]], dtype=complex64)"
            ]
          },
          "execution_count": 47,
          "metadata": {},
          "output_type": "execute_result"
        }
      ],
      "source": [
        "if klujax is not None:\n",
        "    CextT_S_inv_I_CS_Cext = S_inv_I_CS_Cext[..., Cexti, :][..., :, Cextj]\n",
        "else:\n",
        "    CextT_S_inv_I_CS_Cext = jnp.array([[[0.0 + 0.0j, 0.0 + 0.0j, -0.25 + 0.433015j, -0.433015 + 0.75j], [0.0 + 0.0j, 0.0 + 0.0j, -0.433015 + 0.75j, 0.25 - 0.433015j], [-0.25 + 0.433015j, -0.433015 + 0.75j, 0.0 + 0.0j, 0.0 + 0.0j], [-0.433015 + 0.75j, 0.25 - 0.433015j, 0.0 + 0.0j, 0.0 + 0.0j]]])\n",
        "CextT_S_inv_I_CS_Cext"
      ]
    },
    {
      "cell_type": "markdown",
      "id": "3e1c75b2",
      "metadata": {
        "papermill": {
          "duration": 0.014285,
          "end_time": "2023-07-01T03:33:10.753117",
          "exception": false,
          "start_time": "2023-07-01T03:33:10.738832",
          "status": "completed"
        },
        "tags": []
      },
      "source": [
        "That's it! We found the S-matrix of the circuit. We just need to reshape the batch dimension back into the matrix:"
      ]
    },
    {
      "cell_type": "code",
      "execution_count": 48,
      "id": "cbf962af",
      "metadata": {
        "execution": {
          "iopub.execute_input": "2023-07-01T03:33:10.782740Z",
          "iopub.status.busy": "2023-07-01T03:33:10.782445Z",
          "iopub.status.idle": "2023-07-01T03:33:10.798943Z",
          "shell.execute_reply": "2023-07-01T03:33:10.798516Z"
        },
        "papermill": {
          "duration": 0.033025,
          "end_time": "2023-07-01T03:33:10.800469",
          "exception": false,
          "start_time": "2023-07-01T03:33:10.767444",
          "status": "completed"
        },
        "tags": []
      },
      "outputs": [
        {
          "data": {
            "text/plain": [
              "Array([[ 0.      +0.j      ,  0.      +0.j      , -0.25    +0.433015j,\n",
              "        -0.433015+0.75j    ],\n",
              "       [ 0.      +0.j      ,  0.      +0.j      , -0.433015+0.75j    ,\n",
              "         0.25    -0.433015j],\n",
              "       [-0.25    +0.433015j, -0.433015+0.75j    ,  0.      +0.j      ,\n",
              "         0.      +0.j      ],\n",
              "       [-0.433015+0.75j    ,  0.25    -0.433015j,  0.      +0.j      ,\n",
              "         0.      +0.j      ]], dtype=complex64)"
            ]
          },
          "execution_count": 48,
          "metadata": {},
          "output_type": "execute_result"
        }
      ],
      "source": [
        "_, n, _ = CextT_S_inv_I_CS_Cext.shape\n",
        "S = CextT_S_inv_I_CS_Cext.reshape(*batch_shape, n, n)\n",
        "S"
      ]
    },
    {
      "cell_type": "markdown",
      "id": "1f6dea4c",
      "metadata": {
        "papermill": {
          "duration": 0.014347,
          "end_time": "2023-07-01T03:33:10.829426",
          "exception": false,
          "start_time": "2023-07-01T03:33:10.815079",
          "status": "completed"
        },
        "tags": []
      },
      "source": [
        "Oh and to complete the `SDense` representation we need to specify the port map as well:"
      ]
    },
    {
      "cell_type": "code",
      "execution_count": 49,
      "id": "21098a45",
      "metadata": {
        "execution": {
          "iopub.execute_input": "2023-07-01T03:33:10.859418Z",
          "iopub.status.busy": "2023-07-01T03:33:10.859125Z",
          "iopub.status.idle": "2023-07-01T03:33:10.862705Z",
          "shell.execute_reply": "2023-07-01T03:33:10.862254Z"
        },
        "papermill": {
          "duration": 0.020706,
          "end_time": "2023-07-01T03:33:10.864492",
          "exception": false,
          "start_time": "2023-07-01T03:33:10.843786",
          "status": "completed"
        },
        "tags": []
      },
      "outputs": [
        {
          "data": {
            "text/plain": [
              "{'in0': 0, 'in1': 1, 'out0': 2, 'out1': 3}"
            ]
          },
          "execution_count": 49,
          "metadata": {},
          "output_type": "execute_result"
        }
      ],
      "source": [
        "port_map"
      ]
    },
    {
      "cell_type": "markdown",
      "id": "0cfee3cf",
      "metadata": {
        "papermill": {
          "duration": 0.014471,
          "end_time": "2023-07-01T03:33:10.893433",
          "exception": false,
          "start_time": "2023-07-01T03:33:10.878962",
          "status": "completed"
        },
        "tags": []
      },
      "source": [
        "## Algorithm Improvements"
      ]
    },
    {
      "cell_type": "markdown",
      "id": "26b70270",
      "metadata": {
        "papermill": {
          "duration": 0.0145,
          "end_time": "2023-07-01T03:33:10.922500",
          "exception": false,
          "start_time": "2023-07-01T03:33:10.908000",
          "status": "completed"
        },
        "tags": []
      },
      "source": [
        "This algorithm is \n",
        "\n",
        "* very fast for large circuits \ud83d\ude42\n",
        "\n",
        "This algorithm is however:\n",
        "\n",
        "* **not** jittable \ud83d\ude25\n",
        "* **not** differentiable \ud83d\ude25\n",
        "* **not** GPU-compatible \ud83d\ude42\n",
        "\n",
        "There are probably still plenty of improvements possible for this algorithm:\n",
        "\n",
        "* **\u00bf** make it jittable **?**\n",
        "* **\u00bf** make it differentiable (requires making klujax differentiable first) **?**\n",
        "* **\u00bf** make it GPU compatible (requires making suitesparse GPU compatible... probably not gonna happen)**?**\n",
        "\n",
        "Bottom line is... Do you know how to improve this algorithm or how to implement the above suggestions? Please open a Merge Request!"
      ]
    },
    {
      "cell_type": "markdown",
      "id": "7578c842-033b-4d1f-a84f-e5ad486d4a88",
      "metadata": {
        "papermill": {
          "duration": 0.014493,
          "end_time": "2023-07-01T03:33:10.951614",
          "exception": false,
          "start_time": "2023-07-01T03:33:10.937121",
          "status": "completed"
        },
        "tags": []
      },
      "source": [
        "## Debug"
      ]
    },
    {
      "cell_type": "code",
      "execution_count": 50,
      "id": "8764ab09-12b9-4b3d-9d83-9a0872924077",
      "metadata": {
        "execution": {
          "iopub.execute_input": "2023-07-01T03:33:11.001460Z",
          "iopub.status.busy": "2023-07-01T03:33:11.001122Z",
          "iopub.status.idle": "2023-07-01T03:33:11.017883Z",
          "shell.execute_reply": "2023-07-01T03:33:11.017491Z"
        },
        "papermill": {
          "duration": 0.052535,
          "end_time": "2023-07-01T03:33:11.019069",
          "exception": false,
          "start_time": "2023-07-01T03:33:10.966534",
          "status": "completed"
        },
        "tags": []
      },
      "outputs": [],
      "source": [
        "instances = {\n",
        "    \"lft\": (\n",
        "        jnp.array(\n",
        "            [\n",
        "                [\n",
        "                    5.19688622e-06 - 1.19777138e-05j,\n",
        "                    6.30595625e-16 - 1.48061189e-17j,\n",
        "                    -3.38542541e-01 - 6.15711852e-01j,\n",
        "                    5.80662654e-03 - 1.11068866e-02j,\n",
        "                    -3.38542542e-01 - 6.15711852e-01j,\n",
        "                    -5.80662660e-03 + 1.11068866e-02j,\n",
        "                ],\n",
        "                [\n",
        "                    8.59445189e-16 - 8.29783014e-16j,\n",
        "                    -2.08640825e-06 + 8.17315497e-06j,\n",
        "                    2.03847666e-03 - 2.10649131e-03j,\n",
        "                    5.30509661e-01 + 4.62504708e-01j,\n",
        "                    -2.03847666e-03 + 2.10649129e-03j,\n",
        "                    5.30509662e-01 + 4.62504708e-01j,\n",
        "                ],\n",
        "                [\n",
        "                    -3.38542541e-01 - 6.15711852e-01j,\n",
        "                    2.03847660e-03 - 2.10649129e-03j,\n",
        "                    7.60088070e-06 + 9.07340423e-07j,\n",
        "                    2.79292426e-09 + 2.79093547e-07j,\n",
        "                    5.07842364e-06 + 2.16385350e-06j,\n",
        "                    -6.84244232e-08 - 5.00486817e-07j,\n",
        "                ],\n",
        "                [\n",
        "                    5.80662707e-03 - 1.11068869e-02j,\n",
        "                    5.30509661e-01 + 4.62504708e-01j,\n",
        "                    2.79291895e-09 + 2.79093540e-07j,\n",
        "                    -4.55645798e-06 + 1.50570403e-06j,\n",
        "                    6.84244128e-08 + 5.00486817e-07j,\n",
        "                    -3.55812153e-06 + 4.59781091e-07j,\n",
        "                ],\n",
        "                [\n",
        "                    -3.38542541e-01 - 6.15711852e-01j,\n",
        "                    -2.03847672e-03 + 2.10649131e-03j,\n",
        "                    5.07842364e-06 + 2.16385349e-06j,\n",
        "                    6.84244230e-08 + 5.00486816e-07j,\n",
        "                    7.60088070e-06 + 9.07340425e-07j,\n",
        "                    -2.79292467e-09 - 2.79093547e-07j,\n",
        "                ],\n",
        "                [\n",
        "                    -5.80662607e-03 + 1.11068863e-02j,\n",
        "                    5.30509662e-01 + 4.62504708e-01j,\n",
        "                    -6.84244296e-08 - 5.00486825e-07j,\n",
        "                    -3.55812153e-06 + 4.59781093e-07j,\n",
        "                    -2.79293217e-09 - 2.79093547e-07j,\n",
        "                    -4.55645798e-06 + 1.50570403e-06j,\n",
        "                ],\n",
        "            ]\n",
        "        ),\n",
        "        {\"in0\": 0, \"out0\": 2, \"out1\": 4},\n",
        "    ),\n",
        "    \"top\": {(\"in0\", \"out0\"): -0.99477 - 0.10211j, (\"out0\", \"in0\"): -0.99477 - 0.10211j},\n",
        "    \"rgt\": {\n",
        "        (\"in0\", \"out0\"): 0.7071067811865476,\n",
        "        (\"in0\", \"out1\"): 0.7071067811865476j,\n",
        "        (\"in1\", \"out0\"): 0.7071067811865476j,\n",
        "        (\"in1\", \"out1\"): 0.7071067811865476,\n",
        "        (\"out0\", \"in0\"): 0.7071067811865476,\n",
        "        (\"out1\", \"in0\"): 0.7071067811865476j,\n",
        "        (\"out0\", \"in1\"): 0.7071067811865476j,\n",
        "        (\"out1\", \"in1\"): 0.7071067811865476,\n",
        "    },\n",
        "}\n",
        "connections = {\"lft,out0\": \"rgt,in0\", \"lft,out1\": \"top,in0\", \"top,out0\": \"rgt,in1\"}\n",
        "ports = {\"in0\": \"lft,in0\", \"out0\": \"rgt,out0\"}"
      ]
    },
    {
      "cell_type": "code",
      "execution_count": 51,
      "id": "20de2839-e848-49a4-b70a-bf192744c344",
      "metadata": {
        "execution": {
          "iopub.execute_input": "2023-07-01T03:33:11.059069Z",
          "iopub.status.busy": "2023-07-01T03:33:11.058773Z",
          "iopub.status.idle": "2023-07-01T03:33:11.218182Z",
          "shell.execute_reply": "2023-07-01T03:33:11.217789Z"
        },
        "papermill": {
          "duration": 0.18169,
          "end_time": "2023-07-01T03:33:11.219458",
          "exception": false,
          "start_time": "2023-07-01T03:33:11.037768",
          "status": "completed"
        },
        "tags": []
      },
      "outputs": [
        {
          "data": {
            "text/plain": [
              "{('in0', 'in0'): Array(5.1968864e-06-1.1977714e-05j, dtype=complex64),\n",
              " ('out0', 'out0'): Array(2.842532e-06-5.5935166e-06j, dtype=complex64),\n",
              " ('out0', 'in0'): Array(-0.6969264-0.24169631j, dtype=complex64),\n",
              " ('in0', 'out0'): Array(-0.6969264-0.24169631j, dtype=complex64)}"
            ]
          },
          "execution_count": 51,
          "metadata": {},
          "output_type": "execute_result"
        }
      ],
      "source": [
        "sax.sdict(evaluate_circuit(instances, connections, ports))"
      ]
    },
    {
      "cell_type": "code",
      "execution_count": 52,
      "id": "fc7b3ac4-4599-4748-a4b8-ec0a2e3927c8",
      "metadata": {
        "execution": {
          "iopub.execute_input": "2023-07-01T03:33:11.251160Z",
          "iopub.status.busy": "2023-07-01T03:33:11.250463Z",
          "iopub.status.idle": "2023-07-01T03:33:11.336978Z",
          "shell.execute_reply": "2023-07-01T03:33:11.336575Z"
        },
        "papermill": {
          "duration": 0.103702,
          "end_time": "2023-07-01T03:33:11.338430",
          "exception": false,
          "start_time": "2023-07-01T03:33:11.234728",
          "status": "completed"
        },
        "tags": []
      },
      "outputs": [
        {
          "data": {
            "text/plain": [
              "{('in0', 'in0'): Array(5.1968864e-06-1.1977714e-05j, dtype=complex64),\n",
              " ('in0', 'out0'): Array(-0.6969264-0.24169631j, dtype=complex64),\n",
              " ('out0', 'in0'): Array(-0.6969264-0.24169631j, dtype=complex64),\n",
              " ('out0', 'out0'): Array(2.842532e-06-5.5935166e-06j, dtype=complex64)}"
            ]
          },
          "execution_count": 52,
          "metadata": {},
          "output_type": "execute_result"
        }
      ],
      "source": [
        "sax.sdict(evaluate_circuit_klu(instances, connections, ports))"
      ]
    }
  ],
  "metadata": {
    "kernelspec": {
      "display_name": "octans",
      "language": "python",
      "name": "octans"
    },
    "language_info": {
      "codemirror_mode": {
        "name": "ipython",
        "version": 3
      },
      "file_extension": ".py",
      "mimetype": "text/x-python",
      "name": "python",
      "nbconvert_exporter": "python",
      "pygments_lexer": "ipython3",
      "version": "3.11.4"
    },
    "papermill": {
      "default_parameters": {},
      "duration": 8.835499,
      "end_time": "2023-07-01T03:33:11.872051",
      "environment_variables": {},
      "exception": null,
      "input_path": "./nbs/08b_backends_klu.ipynb",
      "output_path": "./nbs/08b_backends_klu.ipynb",
      "parameters": {},
      "start_time": "2023-07-01T03:33:03.036552",
      "version": "2.3.4"
    }
  },
  "nbformat": 4,
  "nbformat_minor": 5
}