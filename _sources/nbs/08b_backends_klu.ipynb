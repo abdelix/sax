{
  "cells": [
    {
      "cell_type": "code",
      "execution_count": 1,
      "id": "428f25be645d3c7a",
      "metadata": {
        "execution": {
          "iopub.execute_input": "2023-09-01T18:13:13.266331Z",
          "iopub.status.busy": "2023-09-01T18:13:13.266095Z",
          "iopub.status.idle": "2023-09-01T18:13:13.270282Z",
          "shell.execute_reply": "2023-09-01T18:13:13.269765Z"
        },
        "papermill": {
          "duration": 0.042697,
          "end_time": "2023-09-01T18:13:13.271649",
          "exception": false,
          "start_time": "2023-09-01T18:13:13.228952",
          "status": "completed"
        },
        "tags": [
          "remove-cell"
        ]
      },
      "outputs": [],
      "source": []
    },
    {
      "cell_type": "markdown",
      "id": "27c3489e",
      "metadata": {
        "papermill": {
          "duration": 0.011181,
          "end_time": "2023-09-01T18:13:13.294084",
          "exception": false,
          "start_time": "2023-09-01T18:13:13.282903",
          "status": "completed"
        },
        "tags": []
      },
      "source": [
        "# Backend - KLU\n",
        "\n",
        "> SAX KLU Backend"
      ]
    },
    {
      "cell_type": "code",
      "execution_count": 2,
      "id": "4943fabe6b9ce885",
      "metadata": {
        "execution": {
          "iopub.execute_input": "2023-09-01T18:13:13.317357Z",
          "iopub.status.busy": "2023-09-01T18:13:13.316878Z",
          "iopub.status.idle": "2023-09-01T18:13:14.899390Z",
          "shell.execute_reply": "2023-09-01T18:13:14.898937Z"
        },
        "papermill": {
          "duration": 1.595912,
          "end_time": "2023-09-01T18:13:14.900917",
          "exception": false,
          "start_time": "2023-09-01T18:13:13.305005",
          "status": "completed"
        },
        "tags": [
          "remove-cell"
        ]
      },
      "outputs": [],
      "source": [
        "import sax\n",
        "import matplotlib.pyplot as plt\n",
        "from fastcore.test import test_eq\n",
        "from pytest import approx, raises\n",
        "from nbdev import show_doc\n",
        "from sax.backends import analyze_circuit, evaluate_circuit\n",
        "\n",
        "import os, sys; sys.stderr = open(os.devnull, \"w\")"
      ]
    },
    {
      "cell_type": "code",
      "execution_count": 3,
      "id": "712e03e4f9ae8f11",
      "metadata": {
        "execution": {
          "iopub.execute_input": "2023-09-01T18:13:14.925687Z",
          "iopub.status.busy": "2023-09-01T18:13:14.925052Z",
          "iopub.status.idle": "2023-09-01T18:13:14.928436Z",
          "shell.execute_reply": "2023-09-01T18:13:14.928099Z"
        },
        "papermill": {
          "duration": 0.016953,
          "end_time": "2023-09-01T18:13:14.929508",
          "exception": false,
          "start_time": "2023-09-01T18:13:14.912555",
          "status": "completed"
        },
        "tags": [
          "hide-input"
        ]
      },
      "outputs": [],
      "source": [
        "from __future__ import annotations\n",
        "\n",
        "from functools import partial\n",
        "from typing import Dict\n",
        "\n",
        "import jax\n",
        "import jax.numpy as jnp\n",
        "import klujax\n",
        "from natsort import natsorted\n",
        "from sax.typing_ import SDense, SDict, SType, scoo, sdense, sdict"
      ]
    },
    {
      "cell_type": "markdown",
      "id": "64e42767",
      "metadata": {
        "papermill": {
          "duration": 0.010883,
          "end_time": "2023-09-01T18:13:14.951305",
          "exception": false,
          "start_time": "2023-09-01T18:13:14.940422",
          "status": "completed"
        },
        "tags": []
      },
      "source": [
        "## Citation\n",
        "The KLU backend is using `klujax`, which uses the [SuiteSparse](https://github.com/DrTimothyAldenDavis/SuiteSparse) C++ libraries for sparse matrix evaluations to evaluate the circuit insanely fast on a CPU. The specific algorith being used in question is the KLU algorithm:\n",
        "\n",
        "> Ekanathan Palamadai Natariajan. \"*KLU - A high performance sparse linear solver for circuit simulation problems.*\""
      ]
    },
    {
      "cell_type": "markdown",
      "id": "2db5821c",
      "metadata": {
        "papermill": {
          "duration": 0.010813,
          "end_time": "2023-09-01T18:13:14.972948",
          "exception": false,
          "start_time": "2023-09-01T18:13:14.962135",
          "status": "completed"
        },
        "tags": []
      },
      "source": [
        "## Theoretical Background"
      ]
    },
    {
      "cell_type": "markdown",
      "id": "3d4d4a4c",
      "metadata": {
        "papermill": {
          "duration": 0.010773,
          "end_time": "2023-09-01T18:13:14.994529",
          "exception": false,
          "start_time": "2023-09-01T18:13:14.983756",
          "status": "completed"
        },
        "tags": []
      },
      "source": [
        "The core of the KLU algorithm is supported by `klujax`, which internally uses the Suitesparse libraries to solve the sparse system `Ax = b`, in which A is a sparse matrix."
      ]
    },
    {
      "cell_type": "markdown",
      "id": "a1985f58",
      "metadata": {
        "papermill": {
          "duration": 0.010772,
          "end_time": "2023-09-01T18:13:15.016098",
          "exception": false,
          "start_time": "2023-09-01T18:13:15.005326",
          "status": "completed"
        },
        "tags": []
      },
      "source": [
        "Now it only comes down to shoehorn our circuit evaluation into a sparse linear system of equations $Ax=b$ where we need to solve for $x$ using `klujax`. \n",
        "Consider the block diagonal matrix $S_{bd}$ of all components in the circuit acting on the fields $x_{in}$ at each of the individual ports of each of the component integrated in $S^{bd}$. The output fields $x^{out}$ at each of those ports is then given by:\n",
        "\n",
        "$$\n",
        "x^{out} = S_{bd} x^{in}\n",
        "$$"
      ]
    },
    {
      "cell_type": "markdown",
      "id": "9c26c04a",
      "metadata": {
        "papermill": {
          "duration": 0.011075,
          "end_time": "2023-09-01T18:13:15.038142",
          "exception": false,
          "start_time": "2023-09-01T18:13:15.027067",
          "status": "completed"
        },
        "tags": []
      },
      "source": [
        "However, $S_{bd}$ is not the S-matrix of the circuit as it does not encode any connectivity *between* the components. Connecting two component ports basically comes down to enforcing equality between the output fields at one port of a component with the input fields at another port of another (or maybe even the same) component. This equality can be enforced by creating an internal connection matrix, connecting all internal ports of the circuit:\n",
        "\n",
        "$$\n",
        "x^{in} = C_{int} x^{out}\n",
        "$$"
      ]
    },
    {
      "cell_type": "markdown",
      "id": "16b3fdad",
      "metadata": {
        "papermill": {
          "duration": 0.010877,
          "end_time": "2023-09-01T18:13:15.059890",
          "exception": false,
          "start_time": "2023-09-01T18:13:15.049013",
          "status": "completed"
        },
        "tags": []
      },
      "source": [
        "We can thus write the following combined equation:\n",
        "\n",
        "$$\n",
        "x^{in} = C_{int} S_{bd} x^{in}\n",
        "$$"
      ]
    },
    {
      "cell_type": "markdown",
      "id": "f5ceb9a2",
      "metadata": {
        "papermill": {
          "duration": 0.010831,
          "end_time": "2023-09-01T18:13:15.081646",
          "exception": false,
          "start_time": "2023-09-01T18:13:15.070815",
          "status": "completed"
        },
        "tags": []
      },
      "source": [
        "But this is not the complete story... Some component ports will *not* be *interconnected* with other ports: they will become the new *external ports* (or output ports) of the combined circuit. We can include those external ports into the above equation as follows:\n",
        "\n",
        "$$\n",
        "\\begin{pmatrix} x^{in} \\\\ x^{out}_{ext} \\end{pmatrix} = \\begin{pmatrix} C_{int} & C_{ext} \\\\ C_{ext}^T & 0 \\end{pmatrix} \\begin{pmatrix} S_{bd} x^{in} \\\\ x_{ext}^{in} \\end{pmatrix} \n",
        "$$"
      ]
    },
    {
      "cell_type": "markdown",
      "id": "6382a242",
      "metadata": {
        "papermill": {
          "duration": 0.010825,
          "end_time": "2023-09-01T18:13:15.103375",
          "exception": false,
          "start_time": "2023-09-01T18:13:15.092550",
          "status": "completed"
        },
        "tags": []
      },
      "source": [
        "Note that $C_{ext}$ is obviously **not** a square matrix. Eliminating $x^{in}$ from the equation above finally yields:\n",
        "\n",
        "$$\n",
        "x^{out}_{ext} = C^T_{ext} S_{bd} (\\mathbb{1} - C_{int}S_{bd})^{-1} C_{ext}x_{ext}^{in}\n",
        "$$"
      ]
    },
    {
      "cell_type": "markdown",
      "id": "5f15bdcd",
      "metadata": {
        "papermill": {
          "duration": 0.011763,
          "end_time": "2023-09-01T18:13:15.126091",
          "exception": false,
          "start_time": "2023-09-01T18:13:15.114328",
          "status": "completed"
        },
        "tags": []
      },
      "source": [
        "We basically found a representation of the circuit S-matrix:\n",
        "\n",
        "$$\n",
        "S = C^T_{ext} S_{bd} (\\mathbb{1} - C_{int}S_{bd})^{-1} C_{ext}\n",
        "$$"
      ]
    },
    {
      "cell_type": "markdown",
      "id": "40ad83b8",
      "metadata": {
        "papermill": {
          "duration": 0.011764,
          "end_time": "2023-09-01T18:13:15.149815",
          "exception": false,
          "start_time": "2023-09-01T18:13:15.138051",
          "status": "completed"
        },
        "tags": []
      },
      "source": [
        "Obviously, we won't want to calculate the inverse $(\\mathbb{1} - C_{int}S_{bd})^{-1}$, which is the inverse of a very sparse matrix (a connection matrix only has a single 1 per line), which very often is not even sparse itself. In stead we'll use the `solve_klu` function:\n",
        "\n",
        "$$\n",
        "S = C^T_{ext} S_{bd} \\texttt{solve}\\_\\texttt{klu}\\left((\\mathbb{1} - C_{int}S_{bd}), C_{ext}\\right)\n",
        "$$"
      ]
    },
    {
      "cell_type": "markdown",
      "id": "018fab3d",
      "metadata": {
        "papermill": {
          "duration": 0.010849,
          "end_time": "2023-09-01T18:13:15.171556",
          "exception": false,
          "start_time": "2023-09-01T18:13:15.160707",
          "status": "completed"
        },
        "tags": []
      },
      "source": [
        "Moreover, $C_{ext}^TS_{bd}$ is also a sparse matrix, therefore we'll also need a `mul_coo` routine:\n",
        "\n",
        "$$\n",
        "S = C^T_{ext} \\texttt{mul}\\_\\texttt{coo}\\left(S_{bd},~~\\texttt{solve}\\_\\texttt{klu}\\left((\\mathbb{1} - C_{int}S_{bd}),~C_{ext}\\right)\\right)\n",
        "$$"
      ]
    },
    {
      "cell_type": "markdown",
      "id": "d9b78852",
      "metadata": {
        "papermill": {
          "duration": 0.010879,
          "end_time": "2023-09-01T18:13:15.193350",
          "exception": false,
          "start_time": "2023-09-01T18:13:15.182471",
          "status": "completed"
        },
        "tags": []
      },
      "source": [
        "## Sparse Helper Functions"
      ]
    },
    {
      "cell_type": "code",
      "execution_count": 4,
      "id": "21fbf8959b8dc2f9",
      "metadata": {
        "execution": {
          "iopub.execute_input": "2023-09-01T18:13:15.216680Z",
          "iopub.status.busy": "2023-09-01T18:13:15.216196Z",
          "iopub.status.idle": "2023-09-01T18:13:15.223652Z",
          "shell.execute_reply": "2023-09-01T18:13:15.223264Z"
        },
        "papermill": {
          "duration": 0.02049,
          "end_time": "2023-09-01T18:13:15.224745",
          "exception": false,
          "start_time": "2023-09-01T18:13:15.204255",
          "status": "completed"
        },
        "tags": [
          "remove-input"
        ]
      },
      "outputs": [
        {
          "data": {
            "text/markdown": [
              "<h4 id=\"klujax.solve\" class=\"doc_header\"><code>klujax.solve</code><a href=\"klujax.py#L97\" class=\"source_link\" style=\"float:right\">[source]</a></h4>\n",
              "\n",
              "> <code>klujax.solve</code>(**`Ai`**, **`Aj`**, **`Ax`**, **`b`**)\n",
              "\n"
            ],
            "text/plain": [
              "<IPython.core.display.Markdown object>"
            ]
          },
          "metadata": {},
          "output_type": "display_data"
        }
      ],
      "source": [
        "show_doc(klujax.solve, doc_string=False, name=\"klujax.solve\")"
      ]
    },
    {
      "cell_type": "markdown",
      "id": "01299d5d",
      "metadata": {
        "papermill": {
          "duration": 0.011206,
          "end_time": "2023-09-01T18:13:15.247335",
          "exception": false,
          "start_time": "2023-09-01T18:13:15.236129",
          "status": "completed"
        },
        "tags": []
      },
      "source": [
        "`klujax.solve` solves the sparse system of equations `Ax=b` for `x`. Where `A` is represented by in [COO-format](https://en.wikipedia.org/wiki/Sparse_matrix#Coordinate_list_(COO)) as (`Ai`, `Aj`, `Ax`).\n",
        "\n",
        "> Example"
      ]
    },
    {
      "cell_type": "code",
      "execution_count": 5,
      "id": "63e7977a",
      "metadata": {
        "execution": {
          "iopub.execute_input": "2023-09-01T18:13:15.271476Z",
          "iopub.status.busy": "2023-09-01T18:13:15.271022Z",
          "iopub.status.idle": "2023-09-01T18:13:15.395261Z",
          "shell.execute_reply": "2023-09-01T18:13:15.394839Z"
        },
        "papermill": {
          "duration": 0.137935,
          "end_time": "2023-09-01T18:13:15.396596",
          "exception": false,
          "start_time": "2023-09-01T18:13:15.258661",
          "status": "completed"
        },
        "tags": []
      },
      "outputs": [
        {
          "data": {
            "text/plain": [
              "Array([6. , 1. , 0.5, 0.5, 2. ], dtype=float64)"
            ]
          },
          "execution_count": 5,
          "metadata": {},
          "output_type": "execute_result"
        }
      ],
      "source": [
        "Ai = jnp.array([0, 1, 2, 3, 4])\n",
        "Aj = jnp.array([1, 3, 4, 0, 2])\n",
        "Ax = jnp.array([5, 6, 1, 1, 2])\n",
        "b = jnp.array([5, 3, 2, 6, 1])\n",
        "x = klujax.solve(Ai, Aj, Ax, b)\n",
        "x"
      ]
    },
    {
      "cell_type": "markdown",
      "id": "3233b04c",
      "metadata": {
        "papermill": {
          "duration": 0.011341,
          "end_time": "2023-09-01T18:13:15.419409",
          "exception": false,
          "start_time": "2023-09-01T18:13:15.408068",
          "status": "completed"
        },
        "tags": []
      },
      "source": [
        "This result is indeed correct:"
      ]
    },
    {
      "cell_type": "code",
      "execution_count": 6,
      "id": "629bbc71",
      "metadata": {
        "execution": {
          "iopub.execute_input": "2023-09-01T18:13:15.443433Z",
          "iopub.status.busy": "2023-09-01T18:13:15.442970Z",
          "iopub.status.idle": "2023-09-01T18:13:15.609419Z",
          "shell.execute_reply": "2023-09-01T18:13:15.609029Z"
        },
        "papermill": {
          "duration": 0.179876,
          "end_time": "2023-09-01T18:13:15.610551",
          "exception": false,
          "start_time": "2023-09-01T18:13:15.430675",
          "status": "completed"
        },
        "tags": []
      },
      "outputs": [
        {
          "name": "stdout",
          "output_type": "stream",
          "text": [
            "[[0. 5. 0. 0. 0.]\n",
            " [0. 0. 0. 6. 0.]\n",
            " [0. 0. 0. 0. 1.]\n",
            " [1. 0. 0. 0. 0.]\n",
            " [0. 0. 2. 0. 0.]]\n",
            "[5. 3. 2. 6. 1.]\n"
          ]
        }
      ],
      "source": [
        "A = jnp.zeros((5, 5)).at[Ai, Aj].set(Ax)\n",
        "print(A)\n",
        "print(A@x)"
      ]
    },
    {
      "cell_type": "markdown",
      "id": "c7fe6547",
      "metadata": {
        "papermill": {
          "duration": 0.011457,
          "end_time": "2023-09-01T18:13:15.633669",
          "exception": false,
          "start_time": "2023-09-01T18:13:15.622212",
          "status": "completed"
        },
        "tags": []
      },
      "source": [
        "However, to use this function effectively, we probably need an extra dimension for `Ax`. Indeed, we would like to solve this equation for multiple wavelengths (or more general, for multiple circuit configurations) at once. For this we can use `jax.vmap` to expose `klujax.solve` to more dimensions for `Ax`:"
      ]
    },
    {
      "cell_type": "code",
      "execution_count": 7,
      "id": "d899d9553d8c616f",
      "metadata": {
        "execution": {
          "iopub.execute_input": "2023-09-01T18:13:15.658227Z",
          "iopub.status.busy": "2023-09-01T18:13:15.657755Z",
          "iopub.status.idle": "2023-09-01T18:13:15.660672Z",
          "shell.execute_reply": "2023-09-01T18:13:15.660293Z"
        },
        "papermill": {
          "duration": 0.016456,
          "end_time": "2023-09-01T18:13:15.661683",
          "exception": false,
          "start_time": "2023-09-01T18:13:15.645227",
          "status": "completed"
        },
        "tags": []
      },
      "outputs": [],
      "source": [
        "solve_klu = jax.vmap(klujax.solve, (None, None, 0, None), 0)"
      ]
    },
    {
      "cell_type": "code",
      "execution_count": 8,
      "id": "00441463417f511b",
      "metadata": {
        "execution": {
          "iopub.execute_input": "2023-09-01T18:13:15.686044Z",
          "iopub.status.busy": "2023-09-01T18:13:15.685437Z",
          "iopub.status.idle": "2023-09-01T18:13:15.694405Z",
          "shell.execute_reply": "2023-09-01T18:13:15.694065Z"
        },
        "papermill": {
          "duration": 0.022321,
          "end_time": "2023-09-01T18:13:15.695490",
          "exception": false,
          "start_time": "2023-09-01T18:13:15.673169",
          "status": "completed"
        },
        "tags": [
          "remove-input"
        ]
      },
      "outputs": [
        {
          "data": {
            "text/markdown": [
              "<h4 id=\"solve_klu\" class=\"doc_header\"><code>solve_klu</code><a href=\"klujax.py#L97\" class=\"source_link\" style=\"float:right\">[source]</a></h4>\n",
              "\n",
              "> <code>solve_klu</code>(**`Ai`**, **`Aj`**, **`Ax`**, **`b`**)\n",
              "\n",
              "\n",
              "\n",
              "||Type|Default|Details|\n",
              "|---|---|---|---|\n",
              "|**`Ai`**|||*No Content*|\n",
              "|**`Aj`**|||*No Content*|\n",
              "|**`Ax`**|||*No Content*|\n",
              "|**`b`**|||jitting by default allows for empty implementation definitions|\n"
            ],
            "text/plain": [
              "<IPython.core.display.Markdown object>"
            ]
          },
          "metadata": {},
          "output_type": "display_data"
        }
      ],
      "source": [
        "show_doc(solve_klu, doc_string=False, name=\"solve_klu\")"
      ]
    },
    {
      "cell_type": "markdown",
      "id": "6707049d",
      "metadata": {
        "papermill": {
          "duration": 0.011541,
          "end_time": "2023-09-01T18:13:15.718670",
          "exception": false,
          "start_time": "2023-09-01T18:13:15.707129",
          "status": "completed"
        },
        "tags": []
      },
      "source": [
        "Let's now redefine `Ax` and see what it gives:"
      ]
    },
    {
      "cell_type": "code",
      "execution_count": 9,
      "id": "d4d7b6f9",
      "metadata": {
        "execution": {
          "iopub.execute_input": "2023-09-01T18:13:15.743343Z",
          "iopub.status.busy": "2023-09-01T18:13:15.742687Z",
          "iopub.status.idle": "2023-09-01T18:13:15.781511Z",
          "shell.execute_reply": "2023-09-01T18:13:15.781091Z"
        },
        "papermill": {
          "duration": 0.052396,
          "end_time": "2023-09-01T18:13:15.782666",
          "exception": false,
          "start_time": "2023-09-01T18:13:15.730270",
          "status": "completed"
        },
        "tags": []
      },
      "outputs": [
        {
          "data": {
            "text/plain": [
              "Array([[6.        , 1.        , 0.5       , 0.5       , 2.        ],\n",
              "       [3.        , 1.        , 1.        , 0.75      , 0.66666667],\n",
              "       [1.5       , 5.        , 0.2       , 1.5       , 0.66666667]],      dtype=float64)"
            ]
          },
          "execution_count": 9,
          "metadata": {},
          "output_type": "execute_result"
        }
      ],
      "source": [
        "Ai = jnp.array([0, 1, 2, 3, 4])\n",
        "Aj = jnp.array([1, 3, 4, 0, 2])\n",
        "Ax = jnp.array([[5, 6, 1, 1, 2], [5, 4, 3, 2, 1], [1, 2, 3, 4, 5]])\n",
        "b = jnp.array([5, 3, 2, 6, 1])\n",
        "x = solve_klu(Ai, Aj, Ax, b)\n",
        "x"
      ]
    },
    {
      "cell_type": "markdown",
      "id": "5f342c6f",
      "metadata": {
        "papermill": {
          "duration": 0.011946,
          "end_time": "2023-09-01T18:13:15.806592",
          "exception": false,
          "start_time": "2023-09-01T18:13:15.794646",
          "status": "completed"
        },
        "tags": []
      },
      "source": [
        "This result is indeed correct:"
      ]
    },
    {
      "cell_type": "code",
      "execution_count": 10,
      "id": "0afefaa6",
      "metadata": {
        "execution": {
          "iopub.execute_input": "2023-09-01T18:13:15.831552Z",
          "iopub.status.busy": "2023-09-01T18:13:15.830961Z",
          "iopub.status.idle": "2023-09-01T18:13:15.928709Z",
          "shell.execute_reply": "2023-09-01T18:13:15.928242Z"
        },
        "papermill": {
          "duration": 0.111621,
          "end_time": "2023-09-01T18:13:15.929931",
          "exception": false,
          "start_time": "2023-09-01T18:13:15.818310",
          "status": "completed"
        },
        "tags": []
      },
      "outputs": [
        {
          "data": {
            "text/plain": [
              "Array([[5., 3., 2., 6., 1.],\n",
              "       [5., 3., 2., 6., 1.],\n",
              "       [5., 3., 2., 6., 1.]], dtype=float64)"
            ]
          },
          "execution_count": 10,
          "metadata": {},
          "output_type": "execute_result"
        }
      ],
      "source": [
        "A = jnp.zeros((3, 5, 5)).at[:, Ai, Aj].set(Ax)\n",
        "jnp.einsum(\"ijk,ik->ij\", A, x)"
      ]
    },
    {
      "cell_type": "markdown",
      "id": "7ed8f62d",
      "metadata": {
        "papermill": {
          "duration": 0.011792,
          "end_time": "2023-09-01T18:13:15.953596",
          "exception": false,
          "start_time": "2023-09-01T18:13:15.941804",
          "status": "completed"
        },
        "tags": []
      },
      "source": [
        "Additionally, we need a way to multiply a sparse COO-matrix with a dense vector. This can be done with `klujax.coo_mul_vec`:"
      ]
    },
    {
      "cell_type": "code",
      "execution_count": 11,
      "id": "0f0d38aa5a1daeb9",
      "metadata": {
        "execution": {
          "iopub.execute_input": "2023-09-01T18:13:15.979397Z",
          "iopub.status.busy": "2023-09-01T18:13:15.978606Z",
          "iopub.status.idle": "2023-09-01T18:13:15.983071Z",
          "shell.execute_reply": "2023-09-01T18:13:15.982656Z"
        },
        "papermill": {
          "duration": 0.018632,
          "end_time": "2023-09-01T18:13:15.984200",
          "exception": false,
          "start_time": "2023-09-01T18:13:15.965568",
          "status": "completed"
        },
        "tags": [
          "remove-input"
        ]
      },
      "outputs": [
        {
          "data": {
            "text/markdown": [
              "<h4 id=\"klujax.coo_mul_vec\" class=\"doc_header\"><code>klujax.coo_mul_vec</code><a href=\"klujax.py#L116\" class=\"source_link\" style=\"float:right\">[source]</a></h4>\n",
              "\n",
              "> <code>klujax.coo_mul_vec</code>(**`Ai`**, **`Aj`**, **`Ax`**, **`b`**)\n",
              "\n"
            ],
            "text/plain": [
              "<IPython.core.display.Markdown object>"
            ]
          },
          "metadata": {},
          "output_type": "display_data"
        }
      ],
      "source": [
        "\n",
        "show_doc(klujax.coo_mul_vec, doc_string=False, name=\"klujax.coo_mul_vec\")"
      ]
    },
    {
      "cell_type": "markdown",
      "id": "7f57c443",
      "metadata": {
        "papermill": {
          "duration": 0.011903,
          "end_time": "2023-09-01T18:13:16.008019",
          "exception": false,
          "start_time": "2023-09-01T18:13:15.996116",
          "status": "completed"
        },
        "tags": []
      },
      "source": [
        "However, it's useful to allow a batch dimension, this time *both* in `Ax` and in `b`:"
      ]
    },
    {
      "cell_type": "code",
      "execution_count": 12,
      "id": "a6bac50e13d3559c",
      "metadata": {
        "execution": {
          "iopub.execute_input": "2023-09-01T18:13:16.033261Z",
          "iopub.status.busy": "2023-09-01T18:13:16.032807Z",
          "iopub.status.idle": "2023-09-01T18:13:16.035647Z",
          "shell.execute_reply": "2023-09-01T18:13:16.035271Z"
        },
        "papermill": {
          "duration": 0.016881,
          "end_time": "2023-09-01T18:13:16.036798",
          "exception": false,
          "start_time": "2023-09-01T18:13:16.019917",
          "status": "completed"
        },
        "tags": []
      },
      "outputs": [],
      "source": [
        "mul_coo = None \n",
        "mul_coo = jax.vmap(klujax.coo_mul_vec, (None, None, 0, 0), 0)"
      ]
    },
    {
      "cell_type": "code",
      "execution_count": 13,
      "id": "76553811b93ff1c7",
      "metadata": {
        "execution": {
          "iopub.execute_input": "2023-09-01T18:13:16.062315Z",
          "iopub.status.busy": "2023-09-01T18:13:16.061731Z",
          "iopub.status.idle": "2023-09-01T18:13:16.070918Z",
          "shell.execute_reply": "2023-09-01T18:13:16.070447Z"
        },
        "papermill": {
          "duration": 0.023289,
          "end_time": "2023-09-01T18:13:16.072085",
          "exception": false,
          "start_time": "2023-09-01T18:13:16.048796",
          "status": "completed"
        },
        "tags": [
          "remove-input"
        ]
      },
      "outputs": [
        {
          "data": {
            "text/markdown": [
              "<h4 id=\"mul_coo\" class=\"doc_header\"><code>mul_coo</code><a href=\"klujax.py#L116\" class=\"source_link\" style=\"float:right\">[source]</a></h4>\n",
              "\n",
              "> <code>mul_coo</code>(**`Ai`**, **`Aj`**, **`Ax`**, **`b`**)\n",
              "\n",
              "\n",
              "\n",
              "||Type|Default|Details|\n",
              "|---|---|---|---|\n",
              "|**`Ai`**|||*No Content*|\n",
              "|**`Aj`**|||*No Content*|\n",
              "|**`Ax`**|||*No Content*|\n",
              "|**`b`**|||jitting by default allows for empty implementation definitions|\n"
            ],
            "text/plain": [
              "<IPython.core.display.Markdown object>"
            ]
          },
          "metadata": {},
          "output_type": "display_data"
        }
      ],
      "source": [
        "show_doc(mul_coo, doc_string=False, name=\"mul_coo\")"
      ]
    },
    {
      "cell_type": "markdown",
      "id": "d26cc3d9",
      "metadata": {
        "papermill": {
          "duration": 0.012245,
          "end_time": "2023-09-01T18:13:16.096949",
          "exception": false,
          "start_time": "2023-09-01T18:13:16.084704",
          "status": "completed"
        },
        "tags": []
      },
      "source": [
        "Let's confirm this does the right thing:"
      ]
    },
    {
      "cell_type": "code",
      "execution_count": 14,
      "id": "bd868973",
      "metadata": {
        "execution": {
          "iopub.execute_input": "2023-09-01T18:13:16.122674Z",
          "iopub.status.busy": "2023-09-01T18:13:16.121976Z",
          "iopub.status.idle": "2023-09-01T18:13:16.154653Z",
          "shell.execute_reply": "2023-09-01T18:13:16.154094Z"
        },
        "papermill": {
          "duration": 0.04716,
          "end_time": "2023-09-01T18:13:16.156127",
          "exception": false,
          "start_time": "2023-09-01T18:13:16.108967",
          "status": "completed"
        },
        "tags": []
      },
      "outputs": [
        {
          "data": {
            "text/plain": [
              "Array([[5., 3., 2., 6., 1.],\n",
              "       [5., 3., 2., 6., 1.],\n",
              "       [5., 3., 2., 6., 1.]], dtype=float64)"
            ]
          },
          "execution_count": 14,
          "metadata": {},
          "output_type": "execute_result"
        }
      ],
      "source": [
        "result = mul_coo(Ai, Aj, Ax, x)\n",
        "result"
      ]
    },
    {
      "cell_type": "markdown",
      "id": "7729408c-7977-49b4-8be5-b3a8be6cc1ed",
      "metadata": {
        "papermill": {
          "duration": 0.012269,
          "end_time": "2023-09-01T18:13:16.180764",
          "exception": false,
          "start_time": "2023-09-01T18:13:16.168495",
          "status": "completed"
        },
        "tags": []
      },
      "source": [
        "## Circuit Analyzation"
      ]
    },
    {
      "cell_type": "code",
      "execution_count": 15,
      "id": "665c856d",
      "metadata": {
        "execution": {
          "iopub.execute_input": "2023-09-01T18:13:16.207225Z",
          "iopub.status.busy": "2023-09-01T18:13:16.206618Z",
          "iopub.status.idle": "2023-09-01T18:13:16.212616Z",
          "shell.execute_reply": "2023-09-01T18:13:16.212254Z"
        },
        "papermill": {
          "duration": 0.02062,
          "end_time": "2023-09-01T18:13:16.213747",
          "exception": false,
          "start_time": "2023-09-01T18:13:16.193127",
          "status": "completed"
        },
        "tags": []
      },
      "outputs": [],
      "source": [
        "wg_sdict: SDict = {\n",
        "    (\"in0\", \"out0\"): 0.5 + 0.86603j,\n",
        "    (\"out0\", \"in0\"): 0.5 + 0.86603j,\n",
        "}\n",
        "\n",
        "\u03c4, \u03ba = 0.5 ** 0.5, 1j * 0.5 ** 0.5\n",
        "dc_sdense: SDense = (\n",
        "    jnp.array([[0, 0, \u03c4, \u03ba], \n",
        "               [0, 0, \u03ba, \u03c4], \n",
        "               [\u03c4, \u03ba, 0, 0], \n",
        "               [\u03ba, \u03c4, 0, 0]]),\n",
        "    {\"out0\": 0, \"out1\": 1, \"in0\": 2, \"in1\": 3},\n",
        ")\n",
        "\n",
        "instances={\n",
        "    \"dc1\": dc_sdense,\n",
        "    \"wg\": wg_sdict,\n",
        "    \"dc2\": dc_sdense,\n",
        "}\n",
        "connections={\n",
        "    \"dc1,out0\": \"wg,in0\",\n",
        "    \"wg,out0\": \"dc2,in0\",\n",
        "    \"dc1,out1\": \"dc2,in1\",\n",
        "}\n",
        "ports={\n",
        "    \"in0\": \"dc1,in0\",\n",
        "    \"in1\": \"dc1,in1\",\n",
        "    \"out0\": \"dc2,out0\",\n",
        "    \"out1\": \"dc2,out1\",\n",
        "}"
      ]
    },
    {
      "cell_type": "markdown",
      "id": "f53caf8aac5a7102",
      "metadata": {},
      "source": [
        ":::{eval-rst}\n",
        ".. autofunction:: sax.backends.klu.get_instance_ports\n",
        ":::\n"
      ]
    },
    {
      "cell_type": "code",
      "execution_count": 16,
      "id": "a01c17d7eb7425e0",
      "metadata": {
        "execution": {
          "iopub.execute_input": "2023-09-01T18:13:16.239825Z",
          "iopub.status.busy": "2023-09-01T18:13:16.239244Z",
          "iopub.status.idle": "2023-09-01T18:13:16.243531Z",
          "shell.execute_reply": "2023-09-01T18:13:16.243100Z"
        },
        "papermill": {
          "duration": 0.01868,
          "end_time": "2023-09-01T18:13:16.244696",
          "exception": false,
          "start_time": "2023-09-01T18:13:16.226016",
          "status": "completed"
        },
        "tags": [
          "hide-input"
        ]
      },
      "outputs": [],
      "source": [
        "def get_instance_ports(connections, ports):\n",
        "    instance_ports = {}\n",
        "    for connection in connections.items():\n",
        "        for ip in connection:\n",
        "            i, p = ip.split(\",\")\n",
        "            if not i in instance_ports:\n",
        "                instance_ports[i] = set()\n",
        "            instance_ports[i].add(p)\n",
        "    for ip in ports.values():\n",
        "        i, p = ip.split(\",\")\n",
        "        if not i in instance_ports:\n",
        "            instance_ports[i] = set()\n",
        "        instance_ports[i].add(p)\n",
        "    return {k: natsorted(v) for k, v in instance_ports.items()}"
      ]
    },
    {
      "cell_type": "markdown",
      "id": "611c13a494c5b9c5",
      "metadata": {},
      "source": [
        ":::{eval-rst}\n",
        ".. autofunction:: sax.backends.klu.get_dummy_instances\n",
        ":::\n"
      ]
    },
    {
      "cell_type": "code",
      "execution_count": 17,
      "id": "5ffe26652567981c",
      "metadata": {
        "execution": {
          "iopub.execute_input": "2023-09-01T18:13:16.270514Z",
          "iopub.status.busy": "2023-09-01T18:13:16.270295Z",
          "iopub.status.idle": "2023-09-01T18:13:16.273658Z",
          "shell.execute_reply": "2023-09-01T18:13:16.273305Z"
        },
        "papermill": {
          "duration": 0.017866,
          "end_time": "2023-09-01T18:13:16.274886",
          "exception": false,
          "start_time": "2023-09-01T18:13:16.257020",
          "status": "completed"
        },
        "tags": [
          "hide-input"
        ]
      },
      "outputs": [],
      "source": [
        "def get_dummy_instances(connections, ports):\n",
        "    instance_ports = get_instance_ports(connections, ports)\n",
        "    dummy_instances = {}\n",
        "    for name, ports in instance_ports.items():\n",
        "        num_ports = len(ports)\n",
        "        pm = {p: i for i, p in enumerate(ports)}\n",
        "        S = jnp.ones((num_ports, num_ports), dtype=complex)\n",
        "        dummy_instances[name] = (S, pm)\n",
        "    return dummy_instances"
      ]
    },
    {
      "cell_type": "code",
      "execution_count": 18,
      "id": "cca73fa1-f945-4846-82e1-8c2733db5ba5",
      "metadata": {
        "execution": {
          "iopub.execute_input": "2023-09-01T18:13:16.300755Z",
          "iopub.status.busy": "2023-09-01T18:13:16.300325Z",
          "iopub.status.idle": "2023-09-01T18:13:16.334325Z",
          "shell.execute_reply": "2023-09-01T18:13:16.333877Z"
        },
        "papermill": {
          "duration": 0.048438,
          "end_time": "2023-09-01T18:13:16.335605",
          "exception": false,
          "start_time": "2023-09-01T18:13:16.287167",
          "status": "completed"
        },
        "tags": []
      },
      "outputs": [
        {
          "data": {
            "text/plain": [
              "{'dc1': (Array([[1.+0.j, 1.+0.j, 1.+0.j, 1.+0.j],\n",
              "         [1.+0.j, 1.+0.j, 1.+0.j, 1.+0.j],\n",
              "         [1.+0.j, 1.+0.j, 1.+0.j, 1.+0.j],\n",
              "         [1.+0.j, 1.+0.j, 1.+0.j, 1.+0.j]], dtype=complex128),\n",
              "  {'in0': 0, 'in1': 1, 'out0': 2, 'out1': 3}),\n",
              " 'wg': (Array([[1.+0.j, 1.+0.j],\n",
              "         [1.+0.j, 1.+0.j]], dtype=complex128),\n",
              "  {'in0': 0, 'out0': 1}),\n",
              " 'dc2': (Array([[1.+0.j, 1.+0.j, 1.+0.j, 1.+0.j],\n",
              "         [1.+0.j, 1.+0.j, 1.+0.j, 1.+0.j],\n",
              "         [1.+0.j, 1.+0.j, 1.+0.j, 1.+0.j],\n",
              "         [1.+0.j, 1.+0.j, 1.+0.j, 1.+0.j]], dtype=complex128),\n",
              "  {'in0': 0, 'in1': 1, 'out0': 2, 'out1': 3})}"
            ]
          },
          "execution_count": 18,
          "metadata": {},
          "output_type": "execute_result"
        }
      ],
      "source": [
        "get_dummy_instances(connections, ports)"
      ]
    },
    {
      "cell_type": "markdown",
      "id": "e4d9af077a142001",
      "metadata": {},
      "source": [
        ":::{eval-rst}\n",
        ".. autofunction:: sax.backends.klu.analyze_circuit_klu\n",
        ":::\n"
      ]
    },
    {
      "cell_type": "code",
      "execution_count": 19,
      "id": "e74675296bfbf6f6",
      "metadata": {
        "execution": {
          "iopub.execute_input": "2023-09-01T18:13:16.362526Z",
          "iopub.status.busy": "2023-09-01T18:13:16.362045Z",
          "iopub.status.idle": "2023-09-01T18:13:16.371109Z",
          "shell.execute_reply": "2023-09-01T18:13:16.370651Z"
        },
        "papermill": {
          "duration": 0.023946,
          "end_time": "2023-09-01T18:13:16.372315",
          "exception": false,
          "start_time": "2023-09-01T18:13:16.348369",
          "status": "completed"
        },
        "tags": [
          "hide-input"
        ]
      },
      "outputs": [],
      "source": [
        "def analyze_circuit_klu(\n",
        "    connections: Dict[str, str],\n",
        "    ports: Dict[str, str],\n",
        "):\n",
        "    connections = {**connections, **{v: k for k, v in connections.items()}}\n",
        "    instances = get_dummy_instances(connections, ports)\n",
        "    inverse_ports = {v: k for k, v in ports.items()}\n",
        "    port_map = {k: i for i, k in enumerate(ports)}\n",
        "\n",
        "    idx, Si, Sj, Sx, instance_ports = 0, [], [], [], {}\n",
        "    for name, instance in instances.items():\n",
        "        si, sj, sx, ports_map = scoo(instance)\n",
        "        Si.append(si + idx)\n",
        "        Sj.append(sj + idx)\n",
        "        Sx.append(sx)\n",
        "        instance_ports.update({f\"{name},{p}\": i + idx for p, i in ports_map.items()})\n",
        "        idx += len(ports_map)\n",
        "        \n",
        "    n_col = idx\n",
        "    n_rhs = len(port_map)\n",
        "    \n",
        "    Si = jnp.concatenate(Si, -1)\n",
        "    Sj = jnp.concatenate(Sj, -1)\n",
        "\n",
        "    Cmap = {int(instance_ports[k]): int(instance_ports[v]) for k, v in connections.items()} # fmt: skip\n",
        "    Ci = jnp.array(list(Cmap.keys()), dtype=jnp.int32)\n",
        "    Cj = jnp.array(list(Cmap.values()), dtype=jnp.int32)\n",
        "\n",
        "    Cextmap = {int(instance_ports[k]): int(port_map[v]) for k, v in inverse_ports.items()}\n",
        "    Cexti = jnp.stack(list(Cextmap.keys()), 0)\n",
        "    Cextj = jnp.stack(list(Cextmap.values()), 0)\n",
        "    Cext = jnp.zeros((n_col, n_rhs), dtype=complex).at[Cexti, Cextj].set(1.0)\n",
        "    \n",
        "    mask = Cj[None,:] == Si[:, None]\n",
        "    CSi = jnp.broadcast_to(Ci[None, :], mask.shape)[mask]\n",
        "    \n",
        "    mask = (Cj[:, None] == Si[None, :]).any(0)\n",
        "    CSj = Sj[mask]\n",
        "    \n",
        "    Ii = Ij = jnp.arange(n_col)\n",
        "    I_CSi = jnp.concatenate([CSi, Ii], -1)\n",
        "    I_CSj = jnp.concatenate([CSj, Ij], -1)\n",
        "    return n_col, mask, Si, Sj, Cext, Cexti, Cextj, I_CSi, I_CSj, tuple((k, v[1]) for k, v in instances.items()), tuple(port_map)"
      ]
    },
    {
      "cell_type": "markdown",
      "id": "8fc277a4-b258-4f44-bf61-e1aba7f64170",
      "metadata": {
        "papermill": {
          "duration": 0.012548,
          "end_time": "2023-09-01T18:13:16.397478",
          "exception": false,
          "start_time": "2023-09-01T18:13:16.384930",
          "status": "completed"
        },
        "tags": []
      },
      "source": [
        "## Circuit Evaluation"
      ]
    },
    {
      "cell_type": "markdown",
      "id": "1a3a89ba4704c822",
      "metadata": {},
      "source": [
        ":::{eval-rst}\n",
        ".. autofunction:: sax.backends.klu.evaluate_circuit_klu\n",
        ":::\n"
      ]
    },
    {
      "cell_type": "code",
      "execution_count": 20,
      "id": "d18b1a64ca390802",
      "metadata": {
        "execution": {
          "iopub.execute_input": "2023-09-01T18:13:16.424250Z",
          "iopub.status.busy": "2023-09-01T18:13:16.423590Z",
          "iopub.status.idle": "2023-09-01T18:13:16.430253Z",
          "shell.execute_reply": "2023-09-01T18:13:16.429865Z"
        },
        "papermill": {
          "duration": 0.02139,
          "end_time": "2023-09-01T18:13:16.431449",
          "exception": false,
          "start_time": "2023-09-01T18:13:16.410059",
          "status": "completed"
        },
        "tags": [
          "hide-input"
        ]
      },
      "outputs": [],
      "source": [
        "def evaluate_circuit_klu(analyzed, instances):\n",
        "    n_col, mask, Si, Sj, Cext, Cexti, Cextj, I_CSi, I_CSj, dummy_pms, port_map = analyzed\n",
        "    \n",
        "    idx = 0\n",
        "    Sx = []\n",
        "    batch_shape = ()\n",
        "    for name, pm_ in dummy_pms:\n",
        "        S, pm = sdense(instances[name])\n",
        "        perm = [pm[k] for k in pm_]\n",
        "        S = S[..., perm, :][..., :, perm]\n",
        "        _, _, sx, ports_map = scoo((S, pm_))\n",
        "        Sx.append(sx)\n",
        "        if len(sx.shape[:-1]) > len(batch_shape):\n",
        "            batch_shape = sx.shape[:-1]\n",
        "        idx += len(ports_map)\n",
        "        \n",
        "    Sx = jnp.concatenate([jnp.broadcast_to(sx, (*batch_shape, sx.shape[-1])) for sx in Sx], -1) # fmt: skip\n",
        "    CSx = Sx[..., mask]\n",
        "    Ix = jnp.ones((*batch_shape, n_col))\n",
        "    I_CSx = jnp.concatenate([-CSx, Ix], -1)\n",
        "    \n",
        "    Sx = Sx.reshape(-1, Sx.shape[-1]) # n_lhs x N\n",
        "    I_CSx = I_CSx.reshape(-1, I_CSx.shape[-1]) # n_lhs x M\n",
        "    inv_I_CS_Cext = solve_klu(I_CSi, I_CSj, I_CSx, Cext)\n",
        "    S_inv_I_CS_Cext = mul_coo(Si, Sj, Sx, inv_I_CS_Cext)\n",
        "    \n",
        "    CextT_S_inv_I_CS_Cext = S_inv_I_CS_Cext[..., Cexti, :][..., :, Cextj]\n",
        "    \n",
        "    _, n, _ = CextT_S_inv_I_CS_Cext.shape\n",
        "    S = CextT_S_inv_I_CS_Cext.reshape(*batch_shape, n, n)\n",
        "\n",
        "    return S, {p: i for i, p in enumerate(port_map)}"
      ]
    },
    {
      "cell_type": "markdown",
      "id": "dce9d8ca",
      "metadata": {
        "papermill": {
          "duration": 0.012501,
          "end_time": "2023-09-01T18:13:16.456533",
          "exception": false,
          "start_time": "2023-09-01T18:13:16.444032",
          "status": "completed"
        },
        "tags": []
      },
      "source": [
        "## Example"
      ]
    },
    {
      "cell_type": "code",
      "execution_count": 21,
      "id": "e28521dd-aa9f-463c-820d-bd87789c64e5",
      "metadata": {
        "execution": {
          "iopub.execute_input": "2023-09-01T18:13:16.483237Z",
          "iopub.status.busy": "2023-09-01T18:13:16.482649Z",
          "iopub.status.idle": "2023-09-01T18:13:17.593932Z",
          "shell.execute_reply": "2023-09-01T18:13:17.593238Z"
        },
        "papermill": {
          "duration": 1.12626,
          "end_time": "2023-09-01T18:13:17.595426",
          "exception": false,
          "start_time": "2023-09-01T18:13:16.469166",
          "status": "completed"
        },
        "tags": []
      },
      "outputs": [
        {
          "name": "stdout",
          "output_type": "stream",
          "text": [
            "[[ 0.      +0.j        0.      +0.j       -0.25    +0.433015j\n",
            "  -0.433015+0.75j    ]\n",
            " [ 0.      +0.j        0.      +0.j       -0.433015+0.75j\n",
            "   0.25    -0.433015j]\n",
            " [-0.25    +0.433015j -0.433015+0.75j      0.      +0.j\n",
            "   0.      +0.j      ]\n",
            " [-0.433015+0.75j      0.25    -0.433015j  0.      +0.j\n",
            "   0.      +0.j      ]]\n",
            "{'in0': 0, 'in1': 1, 'out0': 2, 'out1': 3}\n"
          ]
        }
      ],
      "source": [
        "preprocessed = analyze_circuit_klu(connections, ports)\n",
        "S, pm = evaluate_circuit_klu(preprocessed, instances)\n",
        "print(S)\n",
        "print(pm)"
      ]
    },
    {
      "cell_type": "markdown",
      "id": "60b6d1e6",
      "metadata": {
        "papermill": {
          "duration": 0.012707,
          "end_time": "2023-09-01T18:13:17.621046",
          "exception": false,
          "start_time": "2023-09-01T18:13:17.608339",
          "status": "completed"
        },
        "tags": []
      },
      "source": [
        "the KLU backend yields `SDense` results by default:"
      ]
    },
    {
      "cell_type": "code",
      "execution_count": 22,
      "id": "ecc3115e",
      "metadata": {
        "execution": {
          "iopub.execute_input": "2023-09-01T18:13:17.647881Z",
          "iopub.status.busy": "2023-09-01T18:13:17.647370Z",
          "iopub.status.idle": "2023-09-01T18:13:17.651489Z",
          "shell.execute_reply": "2023-09-01T18:13:17.651154Z"
        },
        "papermill": {
          "duration": 0.018923,
          "end_time": "2023-09-01T18:13:17.652676",
          "exception": false,
          "start_time": "2023-09-01T18:13:17.633753",
          "status": "completed"
        },
        "tags": []
      },
      "outputs": [
        {
          "data": {
            "text/plain": [
              "(Array([[ 0.      +0.j      ,  0.      +0.j      , -0.25    +0.433015j,\n",
              "         -0.433015+0.75j    ],\n",
              "        [ 0.      +0.j      ,  0.      +0.j      , -0.433015+0.75j    ,\n",
              "          0.25    -0.433015j],\n",
              "        [-0.25    +0.433015j, -0.433015+0.75j    ,  0.      +0.j      ,\n",
              "          0.      +0.j      ],\n",
              "        [-0.433015+0.75j    ,  0.25    -0.433015j,  0.      +0.j      ,\n",
              "          0.      +0.j      ]], dtype=complex128),\n",
              " {'in0': 0, 'in1': 1, 'out0': 2, 'out1': 3})"
            ]
          },
          "execution_count": 22,
          "metadata": {},
          "output_type": "execute_result"
        }
      ],
      "source": [
        "mzi_sdense = (S, pm)\n",
        "mzi_sdense"
      ]
    },
    {
      "cell_type": "markdown",
      "id": "4b8e87f3",
      "metadata": {
        "papermill": {
          "duration": 0.012966,
          "end_time": "2023-09-01T18:13:17.678626",
          "exception": false,
          "start_time": "2023-09-01T18:13:17.665660",
          "status": "completed"
        },
        "tags": []
      },
      "source": [
        "An `SDense` is returned for perfomance reasons. By returning an `SDense` by default we prevent any internal `SDict -> SDense` conversions in deeply hierarchical circuits. It's however very easy to convert `SDense` to `SDict` as a final step. To do this, wrap the result (or the function generating the result) with `sdict`:"
      ]
    },
    {
      "cell_type": "code",
      "execution_count": 23,
      "id": "7202ab1e",
      "metadata": {
        "execution": {
          "iopub.execute_input": "2023-09-01T18:13:17.705560Z",
          "iopub.status.busy": "2023-09-01T18:13:17.705094Z",
          "iopub.status.idle": "2023-09-01T18:13:17.759725Z",
          "shell.execute_reply": "2023-09-01T18:13:17.759296Z"
        },
        "papermill": {
          "duration": 0.06949,
          "end_time": "2023-09-01T18:13:17.760922",
          "exception": false,
          "start_time": "2023-09-01T18:13:17.691432",
          "status": "completed"
        },
        "tags": []
      },
      "outputs": [
        {
          "data": {
            "text/plain": [
              "{('in0', 'in0'): Array(0.+0.j, dtype=complex128),\n",
              " ('in0', 'in1'): Array(0.+0.j, dtype=complex128),\n",
              " ('in0', 'out0'): Array(-0.25+0.433015j, dtype=complex128),\n",
              " ('in0', 'out1'): Array(-0.433015+0.75j, dtype=complex128),\n",
              " ('in1', 'in0'): Array(0.+0.j, dtype=complex128),\n",
              " ('in1', 'in1'): Array(0.+0.j, dtype=complex128),\n",
              " ('in1', 'out0'): Array(-0.433015+0.75j, dtype=complex128),\n",
              " ('in1', 'out1'): Array(0.25-0.433015j, dtype=complex128),\n",
              " ('out0', 'in0'): Array(-0.25+0.433015j, dtype=complex128),\n",
              " ('out0', 'in1'): Array(-0.433015+0.75j, dtype=complex128),\n",
              " ('out0', 'out0'): Array(0.+0.j, dtype=complex128),\n",
              " ('out0', 'out1'): Array(0.+0.j, dtype=complex128),\n",
              " ('out1', 'in0'): Array(-0.433015+0.75j, dtype=complex128),\n",
              " ('out1', 'in1'): Array(0.25-0.433015j, dtype=complex128),\n",
              " ('out1', 'out0'): Array(0.+0.j, dtype=complex128),\n",
              " ('out1', 'out1'): Array(0.+0.j, dtype=complex128)}"
            ]
          },
          "execution_count": 23,
          "metadata": {},
          "output_type": "execute_result"
        }
      ],
      "source": [
        "sax.sdict(mzi_sdense)"
      ]
    },
    {
      "cell_type": "markdown",
      "id": "9f8cd5ea",
      "metadata": {
        "papermill": {
          "duration": 0.012845,
          "end_time": "2023-09-01T18:13:17.786762",
          "exception": false,
          "start_time": "2023-09-01T18:13:17.773917",
          "status": "completed"
        },
        "tags": []
      },
      "source": [
        "## Algorithm Walkthrough"
      ]
    },
    {
      "cell_type": "markdown",
      "id": "b5bf5188",
      "metadata": {
        "papermill": {
          "duration": 0.012846,
          "end_time": "2023-09-01T18:13:17.812521",
          "exception": false,
          "start_time": "2023-09-01T18:13:17.799675",
          "status": "completed"
        },
        "tags": []
      },
      "source": [
        "Let's first enforce $C^T = C$:"
      ]
    },
    {
      "cell_type": "code",
      "execution_count": 24,
      "id": "6d7d4c39",
      "metadata": {
        "execution": {
          "iopub.execute_input": "2023-09-01T18:13:17.839602Z",
          "iopub.status.busy": "2023-09-01T18:13:17.838927Z",
          "iopub.status.idle": "2023-09-01T18:13:17.842845Z",
          "shell.execute_reply": "2023-09-01T18:13:17.842514Z"
        },
        "papermill": {
          "duration": 0.018644,
          "end_time": "2023-09-01T18:13:17.843922",
          "exception": false,
          "start_time": "2023-09-01T18:13:17.825278",
          "status": "completed"
        },
        "tags": []
      },
      "outputs": [
        {
          "data": {
            "text/plain": [
              "{'dc1,out0': 'wg,in0',\n",
              " 'wg,out0': 'dc2,in0',\n",
              " 'dc1,out1': 'dc2,in1',\n",
              " 'wg,in0': 'dc1,out0',\n",
              " 'dc2,in0': 'wg,out0',\n",
              " 'dc2,in1': 'dc1,out1'}"
            ]
          },
          "execution_count": 24,
          "metadata": {},
          "output_type": "execute_result"
        }
      ],
      "source": [
        "connections = {**connections, **{v: k for k, v in connections.items()}}\n",
        "connections"
      ]
    },
    {
      "cell_type": "markdown",
      "id": "a41250ec",
      "metadata": {
        "papermill": {
          "duration": 0.012928,
          "end_time": "2023-09-01T18:13:17.869753",
          "exception": false,
          "start_time": "2023-09-01T18:13:17.856825",
          "status": "completed"
        },
        "tags": []
      },
      "source": [
        "We'll also need the reversed ports:"
      ]
    },
    {
      "cell_type": "code",
      "execution_count": 25,
      "id": "9a70463f",
      "metadata": {
        "execution": {
          "iopub.execute_input": "2023-09-01T18:13:17.897078Z",
          "iopub.status.busy": "2023-09-01T18:13:17.896391Z",
          "iopub.status.idle": "2023-09-01T18:13:17.900271Z",
          "shell.execute_reply": "2023-09-01T18:13:17.899878Z"
        },
        "papermill": {
          "duration": 0.018744,
          "end_time": "2023-09-01T18:13:17.901381",
          "exception": false,
          "start_time": "2023-09-01T18:13:17.882637",
          "status": "completed"
        },
        "tags": []
      },
      "outputs": [
        {
          "data": {
            "text/plain": [
              "{'dc1,in0': 'in0', 'dc1,in1': 'in1', 'dc2,out0': 'out0', 'dc2,out1': 'out1'}"
            ]
          },
          "execution_count": 25,
          "metadata": {},
          "output_type": "execute_result"
        }
      ],
      "source": [
        "inverse_ports = {v: k for k, v in ports.items()}\n",
        "inverse_ports"
      ]
    },
    {
      "cell_type": "markdown",
      "id": "1e96443b",
      "metadata": {
        "papermill": {
          "duration": 0.013137,
          "end_time": "2023-09-01T18:13:17.927643",
          "exception": false,
          "start_time": "2023-09-01T18:13:17.914506",
          "status": "completed"
        },
        "tags": []
      },
      "source": [
        "An the port indices"
      ]
    },
    {
      "cell_type": "code",
      "execution_count": 26,
      "id": "8e18d182",
      "metadata": {
        "execution": {
          "iopub.execute_input": "2023-09-01T18:13:17.954962Z",
          "iopub.status.busy": "2023-09-01T18:13:17.954382Z",
          "iopub.status.idle": "2023-09-01T18:13:17.958034Z",
          "shell.execute_reply": "2023-09-01T18:13:17.957717Z"
        },
        "papermill": {
          "duration": 0.018513,
          "end_time": "2023-09-01T18:13:17.959110",
          "exception": false,
          "start_time": "2023-09-01T18:13:17.940597",
          "status": "completed"
        },
        "tags": []
      },
      "outputs": [
        {
          "data": {
            "text/plain": [
              "{'in0': 0, 'in1': 1, 'out0': 2, 'out1': 3}"
            ]
          },
          "execution_count": 26,
          "metadata": {},
          "output_type": "execute_result"
        }
      ],
      "source": [
        "port_map = {k: i for i, k in enumerate(ports)}\n",
        "port_map"
      ]
    },
    {
      "cell_type": "markdown",
      "id": "70924074",
      "metadata": {
        "papermill": {
          "duration": 0.013058,
          "end_time": "2023-09-01T18:13:17.985322",
          "exception": false,
          "start_time": "2023-09-01T18:13:17.972264",
          "status": "completed"
        },
        "tags": []
      },
      "source": [
        "Let's now create the COO-representation of our block diagonal S-matrix $S_{bd}$:"
      ]
    },
    {
      "cell_type": "code",
      "execution_count": 27,
      "id": "835deb8f",
      "metadata": {
        "execution": {
          "iopub.execute_input": "2023-09-01T18:13:18.013050Z",
          "iopub.status.busy": "2023-09-01T18:13:18.012607Z",
          "iopub.status.idle": "2023-09-01T18:13:18.070915Z",
          "shell.execute_reply": "2023-09-01T18:13:18.070426Z"
        },
        "papermill": {
          "duration": 0.073785,
          "end_time": "2023-09-01T18:13:18.072221",
          "exception": false,
          "start_time": "2023-09-01T18:13:17.998436",
          "status": "completed"
        },
        "tags": []
      },
      "outputs": [
        {
          "name": "stdout",
          "output_type": "stream",
          "text": [
            "[0 0 0 0 1 1 1 1 2 2 2 2 3 3 3 3 4 5 6 6 6 6 7 7 7 7 8 8 8 8 9 9 9 9]\n",
            "[0 1 2 3 0 1 2 3 0 1 2 3 0 1 2 3 5 4 6 7 8 9 6 7 8 9 6 7 8 9 6 7 8 9]\n",
            "[0.        +0.j         0.        +0.j         0.70710678+0.j\n",
            " 0.        +0.70710678j 0.        +0.j         0.        +0.j\n",
            " 0.        +0.70710678j 0.70710678+0.j         0.70710678+0.j\n",
            " 0.        +0.70710678j 0.        +0.j         0.        +0.j\n",
            " 0.        +0.70710678j 0.70710678+0.j         0.        +0.j\n",
            " 0.        +0.j         0.5       +0.86603j    0.5       +0.86603j\n",
            " 0.        +0.j         0.        +0.j         0.70710678+0.j\n",
            " 0.        +0.70710678j 0.        +0.j         0.        +0.j\n",
            " 0.        +0.70710678j 0.70710678+0.j         0.70710678+0.j\n",
            " 0.        +0.70710678j 0.        +0.j         0.        +0.j\n",
            " 0.        +0.70710678j 0.70710678+0.j         0.        +0.j\n",
            " 0.        +0.j        ]\n"
          ]
        }
      ],
      "source": [
        "idx, Si, Sj, Sx, instance_ports = 0, [], [], [], {}\n",
        "batch_shape = ()\n",
        "for name, instance in instances.items():\n",
        "    si, sj, sx, ports_map = scoo(instance)\n",
        "    Si.append(si + idx)\n",
        "    Sj.append(sj + idx)\n",
        "    Sx.append(sx)\n",
        "    if len(sx.shape[:-1]) > len(batch_shape):\n",
        "        batch_shape = sx.shape[:-1]\n",
        "    instance_ports.update({f\"{name},{p}\": i + idx for p, i in ports_map.items()})\n",
        "    idx += len(ports_map)\n",
        "Si = jnp.concatenate(Si, -1)\n",
        "Sj = jnp.concatenate(Sj, -1)\n",
        "Sx = jnp.concatenate([jnp.broadcast_to(sx, (*batch_shape, sx.shape[-1])) for sx in Sx], -1)\n",
        "\n",
        "print(Si)\n",
        "print(Sj)\n",
        "print(Sx)"
      ]
    },
    {
      "cell_type": "markdown",
      "id": "a8edefa1",
      "metadata": {
        "papermill": {
          "duration": 0.013539,
          "end_time": "2023-09-01T18:13:18.099790",
          "exception": false,
          "start_time": "2023-09-01T18:13:18.086251",
          "status": "completed"
        },
        "tags": []
      },
      "source": [
        "note that we also kept track of the `batch_shape`, i.e. the number of independent simulations (usually number of wavelengths). In the example being used here we don't have a batch dimension (all elements of the `SDict` are `0D`):"
      ]
    },
    {
      "cell_type": "code",
      "execution_count": 28,
      "id": "7513759a",
      "metadata": {
        "execution": {
          "iopub.execute_input": "2023-09-01T18:13:18.128036Z",
          "iopub.status.busy": "2023-09-01T18:13:18.127403Z",
          "iopub.status.idle": "2023-09-01T18:13:18.130807Z",
          "shell.execute_reply": "2023-09-01T18:13:18.130467Z"
        },
        "papermill": {
          "duration": 0.018846,
          "end_time": "2023-09-01T18:13:18.131901",
          "exception": false,
          "start_time": "2023-09-01T18:13:18.113055",
          "status": "completed"
        },
        "tags": []
      },
      "outputs": [
        {
          "data": {
            "text/plain": [
              "()"
            ]
          },
          "execution_count": 28,
          "metadata": {},
          "output_type": "execute_result"
        }
      ],
      "source": [
        "batch_shape"
      ]
    },
    {
      "cell_type": "markdown",
      "id": "c63b14d7",
      "metadata": {
        "papermill": {
          "duration": 0.013324,
          "end_time": "2023-09-01T18:13:18.158636",
          "exception": false,
          "start_time": "2023-09-01T18:13:18.145312",
          "status": "completed"
        },
        "tags": []
      },
      "source": [
        "We'll also keep track of the number of columns"
      ]
    },
    {
      "cell_type": "code",
      "execution_count": 29,
      "id": "89000432",
      "metadata": {
        "execution": {
          "iopub.execute_input": "2023-09-01T18:13:18.186809Z",
          "iopub.status.busy": "2023-09-01T18:13:18.186331Z",
          "iopub.status.idle": "2023-09-01T18:13:18.189679Z",
          "shell.execute_reply": "2023-09-01T18:13:18.189354Z"
        },
        "papermill": {
          "duration": 0.018722,
          "end_time": "2023-09-01T18:13:18.190755",
          "exception": false,
          "start_time": "2023-09-01T18:13:18.172033",
          "status": "completed"
        },
        "tags": []
      },
      "outputs": [
        {
          "data": {
            "text/plain": [
              "10"
            ]
          },
          "execution_count": 29,
          "metadata": {},
          "output_type": "execute_result"
        }
      ],
      "source": [
        "n_col = idx\n",
        "n_col"
      ]
    },
    {
      "cell_type": "markdown",
      "id": "7b0f95da",
      "metadata": {
        "papermill": {
          "duration": 0.013736,
          "end_time": "2023-09-01T18:13:18.218140",
          "exception": false,
          "start_time": "2023-09-01T18:13:18.204404",
          "status": "completed"
        },
        "tags": []
      },
      "source": [
        "And we'll need to solve the circuit for each output port, i.e. we need to solve `n_rhs` number of equations:"
      ]
    },
    {
      "cell_type": "code",
      "execution_count": 30,
      "id": "27902354",
      "metadata": {
        "execution": {
          "iopub.execute_input": "2023-09-01T18:13:18.246413Z",
          "iopub.status.busy": "2023-09-01T18:13:18.245954Z",
          "iopub.status.idle": "2023-09-01T18:13:18.249347Z",
          "shell.execute_reply": "2023-09-01T18:13:18.249015Z"
        },
        "papermill": {
          "duration": 0.018842,
          "end_time": "2023-09-01T18:13:18.250438",
          "exception": false,
          "start_time": "2023-09-01T18:13:18.231596",
          "status": "completed"
        },
        "tags": []
      },
      "outputs": [
        {
          "data": {
            "text/plain": [
              "4"
            ]
          },
          "execution_count": 30,
          "metadata": {},
          "output_type": "execute_result"
        }
      ],
      "source": [
        "n_rhs = len(port_map)\n",
        "n_rhs"
      ]
    },
    {
      "cell_type": "markdown",
      "id": "05056b46",
      "metadata": {
        "papermill": {
          "duration": 0.013672,
          "end_time": "2023-09-01T18:13:18.277693",
          "exception": false,
          "start_time": "2023-09-01T18:13:18.264021",
          "status": "completed"
        },
        "tags": []
      },
      "source": [
        "We can represent the internal connection matrix $C_{int}$ as a mapping between port indices:"
      ]
    },
    {
      "cell_type": "code",
      "execution_count": 31,
      "id": "f3ff1fa7",
      "metadata": {
        "execution": {
          "iopub.execute_input": "2023-09-01T18:13:18.306026Z",
          "iopub.status.busy": "2023-09-01T18:13:18.305581Z",
          "iopub.status.idle": "2023-09-01T18:13:18.309499Z",
          "shell.execute_reply": "2023-09-01T18:13:18.309151Z"
        },
        "papermill": {
          "duration": 0.019323,
          "end_time": "2023-09-01T18:13:18.310588",
          "exception": false,
          "start_time": "2023-09-01T18:13:18.291265",
          "status": "completed"
        },
        "tags": []
      },
      "outputs": [
        {
          "data": {
            "text/plain": [
              "{0: 4, 5: 8, 1: 9, 4: 0, 8: 5, 9: 1}"
            ]
          },
          "execution_count": 31,
          "metadata": {},
          "output_type": "execute_result"
        }
      ],
      "source": [
        "Cmap = {int(instance_ports[k]): int(instance_ports[v]) for k, v in connections.items()}\n",
        "Cmap"
      ]
    },
    {
      "cell_type": "markdown",
      "id": "999164af",
      "metadata": {
        "papermill": {
          "duration": 0.013955,
          "end_time": "2023-09-01T18:13:18.338385",
          "exception": false,
          "start_time": "2023-09-01T18:13:18.324430",
          "status": "completed"
        },
        "tags": []
      },
      "source": [
        "Therefore, the COO-representation of this connection matrix can be obtained as follows (note that an array of values Cx is not necessary, all non-zero elements in a connection matrix are 1)"
      ]
    },
    {
      "cell_type": "code",
      "execution_count": 32,
      "id": "9e4f1728",
      "metadata": {
        "execution": {
          "iopub.execute_input": "2023-09-01T18:13:18.367173Z",
          "iopub.status.busy": "2023-09-01T18:13:18.366567Z",
          "iopub.status.idle": "2023-09-01T18:13:18.371350Z",
          "shell.execute_reply": "2023-09-01T18:13:18.370874Z"
        },
        "papermill": {
          "duration": 0.020417,
          "end_time": "2023-09-01T18:13:18.372494",
          "exception": false,
          "start_time": "2023-09-01T18:13:18.352077",
          "status": "completed"
        },
        "tags": []
      },
      "outputs": [
        {
          "name": "stdout",
          "output_type": "stream",
          "text": [
            "[0 5 1 4 8 9]\n",
            "[4 8 9 0 5 1]\n"
          ]
        }
      ],
      "source": [
        "Ci = jnp.array(list(Cmap.keys()), dtype=jnp.int32)\n",
        "Cj = jnp.array(list(Cmap.values()), dtype=jnp.int32)\n",
        "print(Ci)\n",
        "print(Cj)"
      ]
    },
    {
      "cell_type": "markdown",
      "id": "47d5ed60",
      "metadata": {
        "papermill": {
          "duration": 0.013723,
          "end_time": "2023-09-01T18:13:18.400074",
          "exception": false,
          "start_time": "2023-09-01T18:13:18.386351",
          "status": "completed"
        },
        "tags": []
      },
      "source": [
        "We can represent the external connection matrix $C_{ext}$ as a map between internal port indices and external port indices:"
      ]
    },
    {
      "cell_type": "code",
      "execution_count": 33,
      "id": "f56ae166",
      "metadata": {
        "execution": {
          "iopub.execute_input": "2023-09-01T18:13:18.429052Z",
          "iopub.status.busy": "2023-09-01T18:13:18.428612Z",
          "iopub.status.idle": "2023-09-01T18:13:18.432513Z",
          "shell.execute_reply": "2023-09-01T18:13:18.432168Z"
        },
        "papermill": {
          "duration": 0.0196,
          "end_time": "2023-09-01T18:13:18.433629",
          "exception": false,
          "start_time": "2023-09-01T18:13:18.414029",
          "status": "completed"
        },
        "tags": []
      },
      "outputs": [
        {
          "data": {
            "text/plain": [
              "{2: 0, 3: 1, 6: 2, 7: 3}"
            ]
          },
          "execution_count": 33,
          "metadata": {},
          "output_type": "execute_result"
        }
      ],
      "source": [
        "Cextmap = {int(instance_ports[k]): int(port_map[v]) for k, v in inverse_ports.items()}\n",
        "Cextmap"
      ]
    },
    {
      "cell_type": "markdown",
      "id": "2485c01d",
      "metadata": {
        "papermill": {
          "duration": 0.014267,
          "end_time": "2023-09-01T18:13:18.462060",
          "exception": false,
          "start_time": "2023-09-01T18:13:18.447793",
          "status": "completed"
        },
        "tags": []
      },
      "source": [
        "Just as for the internal matrix we can represent this external connection matrix in COO-format:"
      ]
    },
    {
      "cell_type": "code",
      "execution_count": 34,
      "id": "cfb419ac",
      "metadata": {
        "execution": {
          "iopub.execute_input": "2023-09-01T18:13:18.491473Z",
          "iopub.status.busy": "2023-09-01T18:13:18.490819Z",
          "iopub.status.idle": "2023-09-01T18:13:18.496330Z",
          "shell.execute_reply": "2023-09-01T18:13:18.495964Z"
        },
        "papermill": {
          "duration": 0.02147,
          "end_time": "2023-09-01T18:13:18.497509",
          "exception": false,
          "start_time": "2023-09-01T18:13:18.476039",
          "status": "completed"
        },
        "tags": []
      },
      "outputs": [
        {
          "name": "stdout",
          "output_type": "stream",
          "text": [
            "[2 3 6 7]\n",
            "[0 1 2 3]\n"
          ]
        }
      ],
      "source": [
        "Cexti = jnp.stack(list(Cextmap.keys()), 0)\n",
        "Cextj = jnp.stack(list(Cextmap.values()), 0)\n",
        "print(Cexti)\n",
        "print(Cextj)"
      ]
    },
    {
      "cell_type": "markdown",
      "id": "e46d609c",
      "metadata": {
        "papermill": {
          "duration": 0.013896,
          "end_time": "2023-09-01T18:13:18.525477",
          "exception": false,
          "start_time": "2023-09-01T18:13:18.511581",
          "status": "completed"
        },
        "tags": []
      },
      "source": [
        "However, we actually need it as a dense representation:\n",
        "\n",
        "> help needed: can we find a way later on to keep this sparse?"
      ]
    },
    {
      "cell_type": "code",
      "execution_count": 35,
      "id": "25c4ec6e",
      "metadata": {
        "execution": {
          "iopub.execute_input": "2023-09-01T18:13:18.554819Z",
          "iopub.status.busy": "2023-09-01T18:13:18.554209Z",
          "iopub.status.idle": "2023-09-01T18:13:18.562257Z",
          "shell.execute_reply": "2023-09-01T18:13:18.561838Z"
        },
        "papermill": {
          "duration": 0.023991,
          "end_time": "2023-09-01T18:13:18.563433",
          "exception": false,
          "start_time": "2023-09-01T18:13:18.539442",
          "status": "completed"
        },
        "tags": []
      },
      "outputs": [
        {
          "data": {
            "text/plain": [
              "Array([[0.+0.j, 0.+0.j, 0.+0.j, 0.+0.j],\n",
              "       [0.+0.j, 0.+0.j, 0.+0.j, 0.+0.j],\n",
              "       [1.+0.j, 0.+0.j, 0.+0.j, 0.+0.j],\n",
              "       [0.+0.j, 1.+0.j, 0.+0.j, 0.+0.j],\n",
              "       [0.+0.j, 0.+0.j, 0.+0.j, 0.+0.j],\n",
              "       [0.+0.j, 0.+0.j, 0.+0.j, 0.+0.j],\n",
              "       [0.+0.j, 0.+0.j, 1.+0.j, 0.+0.j],\n",
              "       [0.+0.j, 0.+0.j, 0.+0.j, 1.+0.j],\n",
              "       [0.+0.j, 0.+0.j, 0.+0.j, 0.+0.j],\n",
              "       [0.+0.j, 0.+0.j, 0.+0.j, 0.+0.j]], dtype=complex128)"
            ]
          },
          "execution_count": 35,
          "metadata": {},
          "output_type": "execute_result"
        }
      ],
      "source": [
        "Cext = jnp.zeros((n_col, n_rhs), dtype=complex).at[Cexti, Cextj].set(1.0)\n",
        "Cext"
      ]
    },
    {
      "cell_type": "markdown",
      "id": "b31cc279",
      "metadata": {
        "papermill": {
          "duration": 0.014438,
          "end_time": "2023-09-01T18:13:18.592734",
          "exception": false,
          "start_time": "2023-09-01T18:13:18.578296",
          "status": "completed"
        },
        "tags": []
      },
      "source": [
        "We'll now calculate the row index `CSi` of $C_{int}S_{bd}$ in COO-format:"
      ]
    },
    {
      "cell_type": "code",
      "execution_count": 36,
      "id": "6e9f567c7b40a8d5",
      "metadata": {
        "execution": {
          "iopub.execute_input": "2023-09-01T18:13:18.622328Z",
          "iopub.status.busy": "2023-09-01T18:13:18.621744Z",
          "iopub.status.idle": "2023-09-01T18:13:18.774458Z",
          "shell.execute_reply": "2023-09-01T18:13:18.774050Z"
        },
        "papermill": {
          "duration": 0.168905,
          "end_time": "2023-09-01T18:13:18.775669",
          "exception": false,
          "start_time": "2023-09-01T18:13:18.606764",
          "status": "completed"
        },
        "tags": []
      },
      "outputs": [
        {
          "data": {
            "text/plain": [
              "Array([4, 4, 4, 4, 9, 9, 9, 9, 0, 8, 5, 5, 5, 5, 1, 1, 1, 1], dtype=int32)"
            ]
          },
          "execution_count": 36,
          "metadata": {},
          "output_type": "execute_result"
        }
      ],
      "source": [
        "# TODO: make this block jittable...\n",
        "Ix = jnp.ones((*batch_shape, n_col))\n",
        "Ii = Ij = jnp.arange(n_col)\n",
        "mask = Cj[None,:] == Si[:, None]\n",
        "CSi = jnp.broadcast_to(Ci[None, :], mask.shape)[mask]\n",
        "CSi"
      ]
    },
    {
      "cell_type": "markdown",
      "id": "a2657582",
      "metadata": {
        "papermill": {
          "duration": 0.014205,
          "end_time": "2023-09-01T18:13:18.804253",
          "exception": false,
          "start_time": "2023-09-01T18:13:18.790048",
          "status": "completed"
        },
        "tags": []
      },
      "source": [
        "> `CSi`: possible jittable alternative? how do we remove the zeros?"
      ]
    },
    {
      "cell_type": "code",
      "execution_count": 37,
      "id": "d4ea2cb5",
      "metadata": {
        "execution": {
          "iopub.execute_input": "2023-09-01T18:13:18.834037Z",
          "iopub.status.busy": "2023-09-01T18:13:18.833650Z",
          "iopub.status.idle": "2023-09-01T18:13:18.876085Z",
          "shell.execute_reply": "2023-09-01T18:13:18.875660Z"
        },
        "papermill": {
          "duration": 0.058946,
          "end_time": "2023-09-01T18:13:18.877396",
          "exception": false,
          "start_time": "2023-09-01T18:13:18.818450",
          "status": "completed"
        },
        "tags": []
      },
      "outputs": [
        {
          "data": {
            "text/plain": [
              "Array([4, 4, 4, 4, 9, 9, 9, 9, 0, 0, 0, 0, 0, 0, 0, 0, 0, 8, 0, 0, 0, 0,\n",
              "       0, 0, 0, 0, 5, 5, 5, 5, 1, 1, 1, 1], dtype=int64)"
            ]
          },
          "execution_count": 37,
          "metadata": {},
          "output_type": "execute_result"
        }
      ],
      "source": [
        "CSi_ = jnp.where(Cj[None, :] == Si[:, None], Ci[None, :], 0).sum(1) # not used\n",
        "CSi_ # not used"
      ]
    },
    {
      "cell_type": "markdown",
      "id": "44fc620e",
      "metadata": {
        "papermill": {
          "duration": 0.015006,
          "end_time": "2023-09-01T18:13:18.907068",
          "exception": false,
          "start_time": "2023-09-01T18:13:18.892062",
          "status": "completed"
        },
        "tags": []
      },
      "source": [
        "The column index `CSj` of $C_{int}S_{bd}$ can more easily be obtained:"
      ]
    },
    {
      "cell_type": "code",
      "execution_count": 38,
      "id": "f71fdd7c",
      "metadata": {
        "execution": {
          "iopub.execute_input": "2023-09-01T18:13:18.937180Z",
          "iopub.status.busy": "2023-09-01T18:13:18.936717Z",
          "iopub.status.idle": "2023-09-01T18:13:19.004796Z",
          "shell.execute_reply": "2023-09-01T18:13:19.004413Z"
        },
        "papermill": {
          "duration": 0.084578,
          "end_time": "2023-09-01T18:13:19.006083",
          "exception": false,
          "start_time": "2023-09-01T18:13:18.921505",
          "status": "completed"
        },
        "tags": []
      },
      "outputs": [
        {
          "data": {
            "text/plain": [
              "Array([0, 1, 2, 3, 0, 1, 2, 3, 5, 4, 6, 7, 8, 9, 6, 7, 8, 9], dtype=int64)"
            ]
          },
          "execution_count": 38,
          "metadata": {},
          "output_type": "execute_result"
        }
      ],
      "source": [
        "mask = (Cj[:, None] == Si[None, :]).any(0)\n",
        "CSj = Sj[mask]\n",
        "CSj"
      ]
    },
    {
      "cell_type": "markdown",
      "id": "99bf7684",
      "metadata": {
        "papermill": {
          "duration": 0.014386,
          "end_time": "2023-09-01T18:13:19.035078",
          "exception": false,
          "start_time": "2023-09-01T18:13:19.020692",
          "status": "completed"
        },
        "tags": []
      },
      "source": [
        "> `CSj`: possible jittable alternative? how do we remove the zeros?"
      ]
    },
    {
      "cell_type": "code",
      "execution_count": 39,
      "id": "ffa7bc82",
      "metadata": {
        "execution": {
          "iopub.execute_input": "2023-09-01T18:13:19.065625Z",
          "iopub.status.busy": "2023-09-01T18:13:19.065145Z",
          "iopub.status.idle": "2023-09-01T18:13:19.087994Z",
          "shell.execute_reply": "2023-09-01T18:13:19.087556Z"
        },
        "papermill": {
          "duration": 0.039492,
          "end_time": "2023-09-01T18:13:19.089141",
          "exception": false,
          "start_time": "2023-09-01T18:13:19.049649",
          "status": "completed"
        },
        "tags": []
      },
      "outputs": [
        {
          "data": {
            "text/plain": [
              "Array([0, 1, 2, 3, 0, 1, 2, 3, 0, 0, 0, 0, 0, 0, 0, 0, 5, 4, 0, 0, 0, 0,\n",
              "       0, 0, 0, 0, 6, 7, 8, 9, 6, 7, 8, 9], dtype=int64)"
            ]
          },
          "execution_count": 39,
          "metadata": {},
          "output_type": "execute_result"
        }
      ],
      "source": [
        "CSj_ = jnp.where(mask, Sj, 0) # not used\n",
        "CSj_ # not used"
      ]
    },
    {
      "cell_type": "markdown",
      "id": "e0fc6d02",
      "metadata": {
        "papermill": {
          "duration": 0.014533,
          "end_time": "2023-09-01T18:13:19.118384",
          "exception": false,
          "start_time": "2023-09-01T18:13:19.103851",
          "status": "completed"
        },
        "tags": []
      },
      "source": [
        "Finally, the values `CSx` of $C_{int}S_{bd}$ can be obtained as follows:"
      ]
    },
    {
      "cell_type": "code",
      "execution_count": 40,
      "id": "59d2e1b2",
      "metadata": {
        "execution": {
          "iopub.execute_input": "2023-09-01T18:13:19.149288Z",
          "iopub.status.busy": "2023-09-01T18:13:19.148570Z",
          "iopub.status.idle": "2023-09-01T18:13:19.172345Z",
          "shell.execute_reply": "2023-09-01T18:13:19.171875Z"
        },
        "papermill": {
          "duration": 0.040487,
          "end_time": "2023-09-01T18:13:19.173437",
          "exception": false,
          "start_time": "2023-09-01T18:13:19.132950",
          "status": "completed"
        },
        "tags": []
      },
      "outputs": [
        {
          "data": {
            "text/plain": [
              "Array([0.        +0.j        , 0.        +0.j        ,\n",
              "       0.70710678+0.j        , 0.        +0.70710678j,\n",
              "       0.        +0.j        , 0.        +0.j        ,\n",
              "       0.        +0.70710678j, 0.70710678+0.j        ,\n",
              "       0.5       +0.86603j   , 0.5       +0.86603j   ,\n",
              "       0.70710678+0.j        , 0.        +0.70710678j,\n",
              "       0.        +0.j        , 0.        +0.j        ,\n",
              "       0.        +0.70710678j, 0.70710678+0.j        ,\n",
              "       0.        +0.j        , 0.        +0.j        ], dtype=complex128)"
            ]
          },
          "execution_count": 40,
          "metadata": {},
          "output_type": "execute_result"
        }
      ],
      "source": [
        "CSx = Sx[..., mask]\n",
        "CSx"
      ]
    },
    {
      "cell_type": "markdown",
      "id": "c02035bd",
      "metadata": {
        "papermill": {
          "duration": 0.014693,
          "end_time": "2023-09-01T18:13:19.203141",
          "exception": false,
          "start_time": "2023-09-01T18:13:19.188448",
          "status": "completed"
        },
        "tags": []
      },
      "source": [
        "> `CSx`: possible jittable alternative? how do we remove the zeros?"
      ]
    },
    {
      "cell_type": "code",
      "execution_count": 41,
      "id": "107e9e80",
      "metadata": {
        "execution": {
          "iopub.execute_input": "2023-09-01T18:13:19.233829Z",
          "iopub.status.busy": "2023-09-01T18:13:19.233378Z",
          "iopub.status.idle": "2023-09-01T18:13:19.255111Z",
          "shell.execute_reply": "2023-09-01T18:13:19.254625Z"
        },
        "papermill": {
          "duration": 0.03842,
          "end_time": "2023-09-01T18:13:19.256227",
          "exception": false,
          "start_time": "2023-09-01T18:13:19.217807",
          "status": "completed"
        },
        "tags": []
      },
      "outputs": [
        {
          "data": {
            "text/plain": [
              "Array([0.        +0.j        , 0.        +0.j        ,\n",
              "       0.70710678+0.j        , 0.        +0.70710678j,\n",
              "       0.        +0.j        , 0.        +0.j        ,\n",
              "       0.        +0.70710678j, 0.70710678+0.j        ,\n",
              "       0.        +0.j        , 0.        +0.j        ,\n",
              "       0.        +0.j        , 0.        +0.j        ,\n",
              "       0.        +0.j        , 0.        +0.j        ,\n",
              "       0.        +0.j        , 0.        +0.j        ,\n",
              "       0.5       +0.86603j   , 0.5       +0.86603j   ,\n",
              "       0.        +0.j        , 0.        +0.j        ,\n",
              "       0.        +0.j        , 0.        +0.j        ,\n",
              "       0.        +0.j        , 0.        +0.j        ,\n",
              "       0.        +0.j        , 0.        +0.j        ,\n",
              "       0.70710678+0.j        , 0.        +0.70710678j,\n",
              "       0.        +0.j        , 0.        +0.j        ,\n",
              "       0.        +0.70710678j, 0.70710678+0.j        ,\n",
              "       0.        +0.j        , 0.        +0.j        ], dtype=complex128)"
            ]
          },
          "execution_count": 41,
          "metadata": {},
          "output_type": "execute_result"
        }
      ],
      "source": [
        "CSx_ = jnp.where(mask, Sx, 0.0) # not used\n",
        "CSx_ # not used"
      ]
    },
    {
      "cell_type": "markdown",
      "id": "9411edf5",
      "metadata": {
        "papermill": {
          "duration": 0.018597,
          "end_time": "2023-09-01T18:13:19.290883",
          "exception": false,
          "start_time": "2023-09-01T18:13:19.272286",
          "status": "completed"
        },
        "tags": []
      },
      "source": [
        "Now we calculate $\\mathbb{1} - C_{int}S_{bd}$ in an *uncoalesced* way (we might have duplicate indices on the diagonal):\n",
        "\n",
        "> **uncoalesced**: having duplicate index combinations (i, j) in the representation possibly with different corresponding values. This is usually not a problem as in linear operations these values will end up to be summed, usually the behavior you want:"
      ]
    },
    {
      "cell_type": "code",
      "execution_count": 42,
      "id": "53c3f4ab",
      "metadata": {
        "execution": {
          "iopub.execute_input": "2023-09-01T18:13:19.321932Z",
          "iopub.status.busy": "2023-09-01T18:13:19.321463Z",
          "iopub.status.idle": "2023-09-01T18:13:19.379574Z",
          "shell.execute_reply": "2023-09-01T18:13:19.379108Z"
        },
        "papermill": {
          "duration": 0.07498,
          "end_time": "2023-09-01T18:13:19.380812",
          "exception": false,
          "start_time": "2023-09-01T18:13:19.305832",
          "status": "completed"
        },
        "tags": []
      },
      "outputs": [
        {
          "name": "stdout",
          "output_type": "stream",
          "text": [
            "[4 4 4 4 9 9 9 9 0 8 5 5 5 5 1 1 1 1 0 1 2 3 4 5 6 7 8 9]\n",
            "[0 1 2 3 0 1 2 3 5 4 6 7 8 9 6 7 8 9 0 1 2 3 4 5 6 7 8 9]\n",
            "[-0.        -0.j         -0.        -0.j         -0.70710678-0.j\n",
            " -0.        -0.70710678j -0.        -0.j         -0.        -0.j\n",
            " -0.        -0.70710678j -0.70710678-0.j         -0.5       -0.86603j\n",
            " -0.5       -0.86603j    -0.70710678-0.j         -0.        -0.70710678j\n",
            " -0.        -0.j         -0.        -0.j         -0.        -0.70710678j\n",
            " -0.70710678-0.j         -0.        -0.j         -0.        -0.j\n",
            "  1.        +0.j          1.        +0.j          1.        +0.j\n",
            "  1.        +0.j          1.        +0.j          1.        +0.j\n",
            "  1.        +0.j          1.        +0.j          1.        +0.j\n",
            "  1.        +0.j        ]\n"
          ]
        }
      ],
      "source": [
        "I_CSi = jnp.concatenate([CSi, Ii], -1)\n",
        "I_CSj = jnp.concatenate([CSj, Ij], -1)\n",
        "I_CSx = jnp.concatenate([-CSx, Ix], -1)\n",
        "print(I_CSi)\n",
        "print(I_CSj)\n",
        "print(I_CSx)"
      ]
    },
    {
      "cell_type": "code",
      "execution_count": 43,
      "id": "188e4606",
      "metadata": {
        "execution": {
          "iopub.execute_input": "2023-09-01T18:13:19.412140Z",
          "iopub.status.busy": "2023-09-01T18:13:19.411504Z",
          "iopub.status.idle": "2023-09-01T18:13:19.414658Z",
          "shell.execute_reply": "2023-09-01T18:13:19.414341Z"
        },
        "papermill": {
          "duration": 0.020011,
          "end_time": "2023-09-01T18:13:19.415780",
          "exception": false,
          "start_time": "2023-09-01T18:13:19.395769",
          "status": "completed"
        },
        "tags": []
      },
      "outputs": [
        {
          "name": "stdout",
          "output_type": "stream",
          "text": [
            "10 4\n"
          ]
        }
      ],
      "source": [
        "n_col, n_rhs = Cext.shape\n",
        "print(n_col, n_rhs)"
      ]
    },
    {
      "cell_type": "markdown",
      "id": "e018c515",
      "metadata": {
        "papermill": {
          "duration": 0.014849,
          "end_time": "2023-09-01T18:13:19.445490",
          "exception": false,
          "start_time": "2023-09-01T18:13:19.430641",
          "status": "completed"
        },
        "tags": []
      },
      "source": [
        "The batch shape dimension can generally speaking be anything (in the example here 0D). We need to do the necessary reshapings to make the batch shape 1D:"
      ]
    },
    {
      "cell_type": "code",
      "execution_count": 44,
      "id": "dad259e7",
      "metadata": {
        "execution": {
          "iopub.execute_input": "2023-09-01T18:13:19.476931Z",
          "iopub.status.busy": "2023-09-01T18:13:19.476345Z",
          "iopub.status.idle": "2023-09-01T18:13:19.494481Z",
          "shell.execute_reply": "2023-09-01T18:13:19.494129Z"
        },
        "papermill": {
          "duration": 0.035165,
          "end_time": "2023-09-01T18:13:19.495751",
          "exception": false,
          "start_time": "2023-09-01T18:13:19.460586",
          "status": "completed"
        },
        "tags": []
      },
      "outputs": [
        {
          "name": "stdout",
          "output_type": "stream",
          "text": [
            "1\n"
          ]
        }
      ],
      "source": [
        "n_lhs = jnp.prod(jnp.array(batch_shape, dtype=jnp.int32))\n",
        "print(n_lhs)"
      ]
    },
    {
      "cell_type": "code",
      "execution_count": 45,
      "id": "9cf69da7",
      "metadata": {
        "execution": {
          "iopub.execute_input": "2023-09-01T18:13:19.527660Z",
          "iopub.status.busy": "2023-09-01T18:13:19.526952Z",
          "iopub.status.idle": "2023-09-01T18:13:19.542831Z",
          "shell.execute_reply": "2023-09-01T18:13:19.542350Z"
        },
        "papermill": {
          "duration": 0.03298,
          "end_time": "2023-09-01T18:13:19.544019",
          "exception": false,
          "start_time": "2023-09-01T18:13:19.511039",
          "status": "completed"
        },
        "tags": []
      },
      "outputs": [
        {
          "data": {
            "text/plain": [
              "(1, 34)"
            ]
          },
          "execution_count": 45,
          "metadata": {},
          "output_type": "execute_result"
        }
      ],
      "source": [
        "Sx = Sx.reshape(n_lhs, -1)\n",
        "Sx.shape"
      ]
    },
    {
      "cell_type": "code",
      "execution_count": 46,
      "id": "788294fa",
      "metadata": {
        "execution": {
          "iopub.execute_input": "2023-09-01T18:13:19.575993Z",
          "iopub.status.busy": "2023-09-01T18:13:19.575543Z",
          "iopub.status.idle": "2023-09-01T18:13:19.591072Z",
          "shell.execute_reply": "2023-09-01T18:13:19.590646Z"
        },
        "papermill": {
          "duration": 0.032933,
          "end_time": "2023-09-01T18:13:19.592250",
          "exception": false,
          "start_time": "2023-09-01T18:13:19.559317",
          "status": "completed"
        },
        "tags": []
      },
      "outputs": [
        {
          "data": {
            "text/plain": [
              "(1, 28)"
            ]
          },
          "execution_count": 46,
          "metadata": {},
          "output_type": "execute_result"
        }
      ],
      "source": [
        "I_CSx = I_CSx.reshape(n_lhs, -1)\n",
        "I_CSx.shape"
      ]
    },
    {
      "cell_type": "markdown",
      "id": "ec741031",
      "metadata": {
        "papermill": {
          "duration": 0.015183,
          "end_time": "2023-09-01T18:13:19.622987",
          "exception": false,
          "start_time": "2023-09-01T18:13:19.607804",
          "status": "completed"
        },
        "tags": []
      },
      "source": [
        "We're finally ready to do the most important part of the calculation, which we conveniently leave to `klujax` and `SuiteSparse`:"
      ]
    },
    {
      "cell_type": "code",
      "execution_count": 47,
      "id": "9c1d8644",
      "metadata": {
        "execution": {
          "iopub.execute_input": "2023-09-01T18:13:19.654627Z",
          "iopub.status.busy": "2023-09-01T18:13:19.654165Z",
          "iopub.status.idle": "2023-09-01T18:13:19.690864Z",
          "shell.execute_reply": "2023-09-01T18:13:19.690401Z"
        },
        "papermill": {
          "duration": 0.054208,
          "end_time": "2023-09-01T18:13:19.692338",
          "exception": false,
          "start_time": "2023-09-01T18:13:19.638130",
          "status": "completed"
        },
        "tags": []
      },
      "outputs": [],
      "source": [
        "inv_I_CS_Cext = solve_klu(I_CSi, I_CSj, I_CSx, Cext)"
      ]
    },
    {
      "cell_type": "markdown",
      "id": "e51487df",
      "metadata": {
        "papermill": {
          "duration": 0.01533,
          "end_time": "2023-09-01T18:13:19.723308",
          "exception": false,
          "start_time": "2023-09-01T18:13:19.707978",
          "status": "completed"
        },
        "tags": []
      },
      "source": [
        "one more sparse multiplication:"
      ]
    },
    {
      "cell_type": "code",
      "execution_count": 48,
      "id": "cccda072",
      "metadata": {
        "execution": {
          "iopub.execute_input": "2023-09-01T18:13:19.755470Z",
          "iopub.status.busy": "2023-09-01T18:13:19.755004Z",
          "iopub.status.idle": "2023-09-01T18:13:19.792544Z",
          "shell.execute_reply": "2023-09-01T18:13:19.792100Z"
        },
        "papermill": {
          "duration": 0.05537,
          "end_time": "2023-09-01T18:13:19.794123",
          "exception": false,
          "start_time": "2023-09-01T18:13:19.738753",
          "status": "completed"
        },
        "tags": []
      },
      "outputs": [],
      "source": [
        "S_inv_I_CS_Cext = mul_coo(Si, Sj, Sx, inv_I_CS_Cext)"
      ]
    },
    {
      "cell_type": "markdown",
      "id": "627a98f7",
      "metadata": {
        "papermill": {
          "duration": 0.01546,
          "end_time": "2023-09-01T18:13:19.825245",
          "exception": false,
          "start_time": "2023-09-01T18:13:19.809785",
          "status": "completed"
        },
        "tags": []
      },
      "source": [
        "And one more $C_{ext}$ multiplication which we do by clever indexing:"
      ]
    },
    {
      "cell_type": "code",
      "execution_count": 49,
      "id": "12ff877c",
      "metadata": {
        "execution": {
          "iopub.execute_input": "2023-09-01T18:13:19.857374Z",
          "iopub.status.busy": "2023-09-01T18:13:19.856813Z",
          "iopub.status.idle": "2023-09-01T18:13:19.864348Z",
          "shell.execute_reply": "2023-09-01T18:13:19.863917Z"
        },
        "papermill": {
          "duration": 0.024944,
          "end_time": "2023-09-01T18:13:19.865554",
          "exception": false,
          "start_time": "2023-09-01T18:13:19.840610",
          "status": "completed"
        },
        "tags": []
      },
      "outputs": [
        {
          "data": {
            "text/plain": [
              "Array([[[ 0.      +0.j      ,  0.      +0.j      , -0.25    +0.433015j,\n",
              "         -0.433015+0.75j    ],\n",
              "        [ 0.      +0.j      ,  0.      +0.j      , -0.433015+0.75j    ,\n",
              "          0.25    -0.433015j],\n",
              "        [-0.25    +0.433015j, -0.433015+0.75j    ,  0.      +0.j      ,\n",
              "          0.      +0.j      ],\n",
              "        [-0.433015+0.75j    ,  0.25    -0.433015j,  0.      +0.j      ,\n",
              "          0.      +0.j      ]]], dtype=complex128)"
            ]
          },
          "execution_count": 49,
          "metadata": {},
          "output_type": "execute_result"
        }
      ],
      "source": [
        "CextT_S_inv_I_CS_Cext = S_inv_I_CS_Cext[..., Cexti, :][..., :, Cextj]\n",
        "CextT_S_inv_I_CS_Cext"
      ]
    },
    {
      "cell_type": "markdown",
      "id": "3e1c75b2",
      "metadata": {
        "papermill": {
          "duration": 0.015586,
          "end_time": "2023-09-01T18:13:19.896825",
          "exception": false,
          "start_time": "2023-09-01T18:13:19.881239",
          "status": "completed"
        },
        "tags": []
      },
      "source": [
        "That's it! We found the S-matrix of the circuit. We just need to reshape the batch dimension back into the matrix:"
      ]
    },
    {
      "cell_type": "code",
      "execution_count": 50,
      "id": "cbf962af",
      "metadata": {
        "execution": {
          "iopub.execute_input": "2023-09-01T18:13:19.929331Z",
          "iopub.status.busy": "2023-09-01T18:13:19.928738Z",
          "iopub.status.idle": "2023-09-01T18:13:19.933485Z",
          "shell.execute_reply": "2023-09-01T18:13:19.933071Z"
        },
        "papermill": {
          "duration": 0.022264,
          "end_time": "2023-09-01T18:13:19.934592",
          "exception": false,
          "start_time": "2023-09-01T18:13:19.912328",
          "status": "completed"
        },
        "tags": []
      },
      "outputs": [
        {
          "data": {
            "text/plain": [
              "Array([[ 0.      +0.j      ,  0.      +0.j      , -0.25    +0.433015j,\n",
              "        -0.433015+0.75j    ],\n",
              "       [ 0.      +0.j      ,  0.      +0.j      , -0.433015+0.75j    ,\n",
              "         0.25    -0.433015j],\n",
              "       [-0.25    +0.433015j, -0.433015+0.75j    ,  0.      +0.j      ,\n",
              "         0.      +0.j      ],\n",
              "       [-0.433015+0.75j    ,  0.25    -0.433015j,  0.      +0.j      ,\n",
              "         0.      +0.j      ]], dtype=complex128)"
            ]
          },
          "execution_count": 50,
          "metadata": {},
          "output_type": "execute_result"
        }
      ],
      "source": [
        "_, n, _ = CextT_S_inv_I_CS_Cext.shape\n",
        "S = CextT_S_inv_I_CS_Cext.reshape(*batch_shape, n, n)\n",
        "S"
      ]
    },
    {
      "cell_type": "markdown",
      "id": "1f6dea4c",
      "metadata": {
        "papermill": {
          "duration": 0.015345,
          "end_time": "2023-09-01T18:13:19.965533",
          "exception": false,
          "start_time": "2023-09-01T18:13:19.950188",
          "status": "completed"
        },
        "tags": []
      },
      "source": [
        "Oh and to complete the `SDense` representation we need to specify the port map as well:"
      ]
    },
    {
      "cell_type": "code",
      "execution_count": 51,
      "id": "21098a45",
      "metadata": {
        "execution": {
          "iopub.execute_input": "2023-09-01T18:13:19.997712Z",
          "iopub.status.busy": "2023-09-01T18:13:19.997132Z",
          "iopub.status.idle": "2023-09-01T18:13:20.000488Z",
          "shell.execute_reply": "2023-09-01T18:13:20.000176Z"
        },
        "papermill": {
          "duration": 0.020774,
          "end_time": "2023-09-01T18:13:20.001673",
          "exception": false,
          "start_time": "2023-09-01T18:13:19.980899",
          "status": "completed"
        },
        "tags": []
      },
      "outputs": [
        {
          "data": {
            "text/plain": [
              "{'in0': 0, 'in1': 1, 'out0': 2, 'out1': 3}"
            ]
          },
          "execution_count": 51,
          "metadata": {},
          "output_type": "execute_result"
        }
      ],
      "source": [
        "port_map"
      ]
    },
    {
      "cell_type": "markdown",
      "id": "0cfee3cf",
      "metadata": {
        "papermill": {
          "duration": 0.015702,
          "end_time": "2023-09-01T18:13:20.033098",
          "exception": false,
          "start_time": "2023-09-01T18:13:20.017396",
          "status": "completed"
        },
        "tags": []
      },
      "source": [
        "## Algorithm Improvements"
      ]
    },
    {
      "cell_type": "markdown",
      "id": "26b70270",
      "metadata": {
        "papermill": {
          "duration": 0.015492,
          "end_time": "2023-09-01T18:13:20.064173",
          "exception": false,
          "start_time": "2023-09-01T18:13:20.048681",
          "status": "completed"
        },
        "tags": []
      },
      "source": [
        "This algorithm is \n",
        "\n",
        "* very fast for large circuits \ud83d\ude42\n",
        "\n",
        "This algorithm is however:\n",
        "\n",
        "* **not** jittable \ud83d\ude25\n",
        "* **not** differentiable \ud83d\ude25\n",
        "* **not** GPU-compatible \ud83d\ude42\n",
        "\n",
        "There are probably still plenty of improvements possible for this algorithm:\n",
        "\n",
        "* **\u00bf** make it jittable **?**\n",
        "* **\u00bf** make it differentiable (requires making klujax differentiable first) **?**\n",
        "* **\u00bf** make it GPU compatible (requires making suitesparse GPU compatible... probably not gonna happen)**?**\n",
        "\n",
        "Bottom line is... Do you know how to improve this algorithm or how to implement the above suggestions? Please open a Merge Request!"
      ]
    },
    {
      "cell_type": "markdown",
      "id": "7578c842-033b-4d1f-a84f-e5ad486d4a88",
      "metadata": {
        "papermill": {
          "duration": 0.015467,
          "end_time": "2023-09-01T18:13:20.095167",
          "exception": false,
          "start_time": "2023-09-01T18:13:20.079700",
          "status": "completed"
        },
        "tags": []
      },
      "source": [
        "## Debug"
      ]
    },
    {
      "cell_type": "code",
      "execution_count": 52,
      "id": "8764ab09-12b9-4b3d-9d83-9a0872924077",
      "metadata": {
        "execution": {
          "iopub.execute_input": "2023-09-01T18:13:20.127653Z",
          "iopub.status.busy": "2023-09-01T18:13:20.127406Z",
          "iopub.status.idle": "2023-09-01T18:13:20.135475Z",
          "shell.execute_reply": "2023-09-01T18:13:20.135090Z"
        },
        "papermill": {
          "duration": 0.025958,
          "end_time": "2023-09-01T18:13:20.136642",
          "exception": false,
          "start_time": "2023-09-01T18:13:20.110684",
          "status": "completed"
        },
        "tags": []
      },
      "outputs": [],
      "source": [
        "instances = {\n",
        "    \"lft\": (\n",
        "        jnp.array(\n",
        "            [\n",
        "                [\n",
        "                    5.19688622e-06 - 1.19777138e-05j,\n",
        "                    6.30595625e-16 - 1.48061189e-17j,\n",
        "                    -3.38542541e-01 - 6.15711852e-01j,\n",
        "                    5.80662654e-03 - 1.11068866e-02j,\n",
        "                    -3.38542542e-01 - 6.15711852e-01j,\n",
        "                    -5.80662660e-03 + 1.11068866e-02j,\n",
        "                ],\n",
        "                [\n",
        "                    8.59445189e-16 - 8.29783014e-16j,\n",
        "                    -2.08640825e-06 + 8.17315497e-06j,\n",
        "                    2.03847666e-03 - 2.10649131e-03j,\n",
        "                    5.30509661e-01 + 4.62504708e-01j,\n",
        "                    -2.03847666e-03 + 2.10649129e-03j,\n",
        "                    5.30509662e-01 + 4.62504708e-01j,\n",
        "                ],\n",
        "                [\n",
        "                    -3.38542541e-01 - 6.15711852e-01j,\n",
        "                    2.03847660e-03 - 2.10649129e-03j,\n",
        "                    7.60088070e-06 + 9.07340423e-07j,\n",
        "                    2.79292426e-09 + 2.79093547e-07j,\n",
        "                    5.07842364e-06 + 2.16385350e-06j,\n",
        "                    -6.84244232e-08 - 5.00486817e-07j,\n",
        "                ],\n",
        "                [\n",
        "                    5.80662707e-03 - 1.11068869e-02j,\n",
        "                    5.30509661e-01 + 4.62504708e-01j,\n",
        "                    2.79291895e-09 + 2.79093540e-07j,\n",
        "                    -4.55645798e-06 + 1.50570403e-06j,\n",
        "                    6.84244128e-08 + 5.00486817e-07j,\n",
        "                    -3.55812153e-06 + 4.59781091e-07j,\n",
        "                ],\n",
        "                [\n",
        "                    -3.38542541e-01 - 6.15711852e-01j,\n",
        "                    -2.03847672e-03 + 2.10649131e-03j,\n",
        "                    5.07842364e-06 + 2.16385349e-06j,\n",
        "                    6.84244230e-08 + 5.00486816e-07j,\n",
        "                    7.60088070e-06 + 9.07340425e-07j,\n",
        "                    -2.79292467e-09 - 2.79093547e-07j,\n",
        "                ],\n",
        "                [\n",
        "                    -5.80662607e-03 + 1.11068863e-02j,\n",
        "                    5.30509662e-01 + 4.62504708e-01j,\n",
        "                    -6.84244296e-08 - 5.00486825e-07j,\n",
        "                    -3.55812153e-06 + 4.59781093e-07j,\n",
        "                    -2.79293217e-09 - 2.79093547e-07j,\n",
        "                    -4.55645798e-06 + 1.50570403e-06j,\n",
        "                ],\n",
        "            ]\n",
        "        ),\n",
        "        {\"in0\": 0, \"out0\": 2, \"out1\": 4},\n",
        "    ),\n",
        "    \"top\": {(\"in0\", \"out0\"): -0.99477 - 0.10211j, (\"out0\", \"in0\"): -0.99477 - 0.10211j},\n",
        "    \"rgt\": {\n",
        "        (\"in0\", \"out0\"): 0.7071067811865476,\n",
        "        (\"in0\", \"out1\"): 0.7071067811865476j,\n",
        "        (\"in1\", \"out0\"): 0.7071067811865476j,\n",
        "        (\"in1\", \"out1\"): 0.7071067811865476,\n",
        "        (\"out0\", \"in0\"): 0.7071067811865476,\n",
        "        (\"out1\", \"in0\"): 0.7071067811865476j,\n",
        "        (\"out0\", \"in1\"): 0.7071067811865476j,\n",
        "        (\"out1\", \"in1\"): 0.7071067811865476,\n",
        "    },\n",
        "}\n",
        "connections = {\"lft,out0\": \"rgt,in0\", \"lft,out1\": \"top,in0\", \"top,out0\": \"rgt,in1\"}\n",
        "ports = {\"in0\": \"lft,in0\", \"out0\": \"rgt,out0\"}"
      ]
    },
    {
      "cell_type": "code",
      "execution_count": 53,
      "id": "20de2839-e848-49a4-b70a-bf192744c344",
      "metadata": {
        "execution": {
          "iopub.execute_input": "2023-09-01T18:13:20.169426Z",
          "iopub.status.busy": "2023-09-01T18:13:20.168975Z",
          "iopub.status.idle": "2023-09-01T18:13:20.778439Z",
          "shell.execute_reply": "2023-09-01T18:13:20.777978Z"
        },
        "papermill": {
          "duration": 0.627307,
          "end_time": "2023-09-01T18:13:20.779716",
          "exception": false,
          "start_time": "2023-09-01T18:13:20.152409",
          "status": "completed"
        },
        "tags": []
      },
      "outputs": [
        {
          "data": {
            "text/plain": [
              "{('in0', 'in0'): Array(5.19688622e-06-1.19777138e-05j, dtype=complex128),\n",
              " ('in0', 'out0'): Array(-0.69692642-0.24169633j, dtype=complex128),\n",
              " ('out0', 'in0'): Array(-0.69692642-0.24169633j, dtype=complex128),\n",
              " ('out0', 'out0'): Array(2.84253212e-06-5.59351604e-06j, dtype=complex128)}"
            ]
          },
          "execution_count": 53,
          "metadata": {},
          "output_type": "execute_result"
        }
      ],
      "source": [
        "sax.sdict(evaluate_circuit(analyze_circuit(connections, ports), instances))"
      ]
    },
    {
      "cell_type": "code",
      "execution_count": 54,
      "id": "fc7b3ac4-4599-4748-a4b8-ec0a2e3927c8",
      "metadata": {
        "execution": {
          "iopub.execute_input": "2023-09-01T18:13:20.812780Z",
          "iopub.status.busy": "2023-09-01T18:13:20.812322Z",
          "iopub.status.idle": "2023-09-01T18:13:21.814279Z",
          "shell.execute_reply": "2023-09-01T18:13:21.813628Z"
        },
        "papermill": {
          "duration": 1.019848,
          "end_time": "2023-09-01T18:13:21.815541",
          "exception": false,
          "start_time": "2023-09-01T18:13:20.795693",
          "status": "completed"
        },
        "tags": []
      },
      "outputs": [
        {
          "data": {
            "text/plain": [
              "{('in0', 'in0'): Array(5.19688622e-06-1.19777138e-05j, dtype=complex128),\n",
              " ('in0', 'out0'): Array(-0.69692642-0.24169633j, dtype=complex128),\n",
              " ('out0', 'in0'): Array(-0.69692642-0.24169633j, dtype=complex128),\n",
              " ('out0', 'out0'): Array(2.84253212e-06-5.59351604e-06j, dtype=complex128)}"
            ]
          },
          "execution_count": 54,
          "metadata": {},
          "output_type": "execute_result"
        }
      ],
      "source": [
        "sax.sdict(evaluate_circuit_klu(analyze_circuit_klu(connections, ports), instances))"
      ]
    }
  ],
  "metadata": {
    "kernelspec": {
      "display_name": "sax",
      "language": "python",
      "name": "sax"
    },
    "language_info": {
      "codemirror_mode": {
        "name": "ipython",
        "version": 3
      },
      "file_extension": ".py",
      "mimetype": "text/x-python",
      "name": "python",
      "nbconvert_exporter": "python",
      "pygments_lexer": "ipython3",
      "version": "3.11.5"
    },
    "papermill": {
      "default_parameters": {},
      "duration": 10.447228,
      "end_time": "2023-09-01T18:13:22.349164",
      "environment_variables": {},
      "exception": null,
      "input_path": "./nbs/08b_backends_klu.ipynb",
      "output_path": "./nbs/08b_backends_klu.ipynb",
      "parameters": {},
      "start_time": "2023-09-01T18:13:11.901936",
      "version": "2.4.0"
    }
  },
  "nbformat": 4,
  "nbformat_minor": 5
}