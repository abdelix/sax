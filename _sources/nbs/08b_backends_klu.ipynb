{
  "cells": [
    {
      "cell_type": "code",
      "execution_count": 1,
      "id": "146f86f77481bf55",
      "metadata": {
        "execution": {
          "iopub.execute_input": "2023-06-01T21:32:17.290565Z",
          "iopub.status.busy": "2023-06-01T21:32:17.290310Z",
          "iopub.status.idle": "2023-06-01T21:32:17.293472Z",
          "shell.execute_reply": "2023-06-01T21:32:17.292972Z"
        },
        "papermill": {
          "duration": 0.019201,
          "end_time": "2023-06-01T21:32:17.295724",
          "exception": false,
          "start_time": "2023-06-01T21:32:17.276523",
          "status": "completed"
        },
        "tags": [
          "remove-cell"
        ]
      },
      "outputs": [],
      "source": []
    },
    {
      "cell_type": "markdown",
      "id": "27c3489e",
      "metadata": {
        "papermill": {
          "duration": 0.010024,
          "end_time": "2023-06-01T21:32:17.316469",
          "exception": false,
          "start_time": "2023-06-01T21:32:17.306445",
          "status": "completed"
        },
        "tags": []
      },
      "source": [
        "# Backend - KLU\n",
        "\n",
        "> SAX KLU Backend"
      ]
    },
    {
      "cell_type": "code",
      "execution_count": 2,
      "id": "612b91d7227d0ccc",
      "metadata": {
        "execution": {
          "iopub.execute_input": "2023-06-01T21:32:17.338212Z",
          "iopub.status.busy": "2023-06-01T21:32:17.337935Z",
          "iopub.status.idle": "2023-06-01T21:32:18.935079Z",
          "shell.execute_reply": "2023-06-01T21:32:18.934650Z"
        },
        "papermill": {
          "duration": 1.609819,
          "end_time": "2023-06-01T21:32:18.936809",
          "exception": false,
          "start_time": "2023-06-01T21:32:17.326990",
          "status": "completed"
        },
        "tags": [
          "remove-cell"
        ]
      },
      "outputs": [],
      "source": [
        "import sax\n",
        "import matplotlib.pyplot as plt\n",
        "from fastcore.test import test_eq\n",
        "from pytest import approx, raises\n",
        "from nbdev import show_doc\n",
        "\n",
        "import os, sys; sys.stderr = open(os.devnull, \"w\")"
      ]
    },
    {
      "cell_type": "code",
      "execution_count": 3,
      "id": "e21c1e7ea3a93919",
      "metadata": {
        "execution": {
          "iopub.execute_input": "2023-06-01T21:32:18.958778Z",
          "iopub.status.busy": "2023-06-01T21:32:18.958386Z",
          "iopub.status.idle": "2023-06-01T21:32:18.962107Z",
          "shell.execute_reply": "2023-06-01T21:32:18.961732Z"
        },
        "papermill": {
          "duration": 0.01669,
          "end_time": "2023-06-01T21:32:18.963988",
          "exception": false,
          "start_time": "2023-06-01T21:32:18.947298",
          "status": "completed"
        },
        "tags": [
          "hide-input"
        ]
      },
      "outputs": [],
      "source": [
        "from __future__ import annotations\n",
        "\n",
        "from typing import Dict\n",
        "\n",
        "    \n",
        "from sax.typing_ import SDense, SDict, SType, scoo\n",
        "from sax.backends import evaluate_circuit\n",
        "\n",
        "try:\n",
        "    import klujax\n",
        "except ImportError:\n",
        "    klujax = None\n",
        "    \n",
        "try:\n",
        "    import jax\n",
        "    import jax.numpy as jnp\n",
        "    JAX_AVAILABLE = True\n",
        "except ImportError:\n",
        "    import numpy as jnp\n",
        "    JAX_AVAILABLE = False"
      ]
    },
    {
      "cell_type": "markdown",
      "id": "64e42767",
      "metadata": {
        "papermill": {
          "duration": 0.00993,
          "end_time": "2023-06-01T21:32:18.983890",
          "exception": false,
          "start_time": "2023-06-01T21:32:18.973960",
          "status": "completed"
        },
        "tags": []
      },
      "source": [
        "## Citation\n",
        "The KLU backend is using `klujax`, which uses the [SuiteSparse](https://github.com/DrTimothyAldenDavis/SuiteSparse) C++ libraries for sparse matrix evaluations to evaluate the circuit insanely fast on a CPU. The specific algorith being used in question is the KLU algorithm:\n",
        "\n",
        "> Ekanathan Palamadai Natariajan. \"*KLU - A high performance sparse linear solver for circuit simulation problems.*\""
      ]
    },
    {
      "cell_type": "markdown",
      "id": "2db5821c",
      "metadata": {
        "papermill": {
          "duration": 0.009962,
          "end_time": "2023-06-01T21:32:19.003728",
          "exception": false,
          "start_time": "2023-06-01T21:32:18.993766",
          "status": "completed"
        },
        "tags": []
      },
      "source": [
        "## Theoretical Background"
      ]
    },
    {
      "cell_type": "markdown",
      "id": "3d4d4a4c",
      "metadata": {
        "papermill": {
          "duration": 0.00984,
          "end_time": "2023-06-01T21:32:19.023509",
          "exception": false,
          "start_time": "2023-06-01T21:32:19.013669",
          "status": "completed"
        },
        "tags": []
      },
      "source": [
        "The core of the KLU algorithm is supported by `klujax`, which internally uses the Suitesparse libraries to solve the sparse system `Ax = b`, in which A is a sparse matrix."
      ]
    },
    {
      "cell_type": "markdown",
      "id": "a1985f58",
      "metadata": {
        "papermill": {
          "duration": 0.00985,
          "end_time": "2023-06-01T21:32:19.043252",
          "exception": false,
          "start_time": "2023-06-01T21:32:19.033402",
          "status": "completed"
        },
        "tags": []
      },
      "source": [
        "Now it only comes down to shoehorn our circuit evaluation into a sparse linear system of equations $Ax=b$ where we need to solve for $x$ using `klujax`. \n",
        "Consider the block diagonal matrix $S_{bd}$ of all components in the circuit acting on the fields $x_{in}$ at each of the individual ports of each of the component integrated in $S^{bd}$. The output fields $x^{out}$ at each of those ports is then given by:\n",
        "\n",
        "$$\n",
        "x^{out} = S_{bd} x^{in}\n",
        "$$"
      ]
    },
    {
      "cell_type": "markdown",
      "id": "9c26c04a",
      "metadata": {
        "papermill": {
          "duration": 0.00989,
          "end_time": "2023-06-01T21:32:19.063249",
          "exception": false,
          "start_time": "2023-06-01T21:32:19.053359",
          "status": "completed"
        },
        "tags": []
      },
      "source": [
        "However, $S_{bd}$ is not the S-matrix of the circuit as it does not encode any connectivity *between* the components. Connecting two component ports basically comes down to enforcing equality between the output fields at one port of a component with the input fields at another port of another (or maybe even the same) component. This equality can be enforced by creating an internal connection matrix, connecting all internal ports of the circuit:\n",
        "\n",
        "$$\n",
        "x^{in} = C_{int} x^{out}\n",
        "$$"
      ]
    },
    {
      "cell_type": "markdown",
      "id": "16b3fdad",
      "metadata": {
        "papermill": {
          "duration": 0.009911,
          "end_time": "2023-06-01T21:32:19.083057",
          "exception": false,
          "start_time": "2023-06-01T21:32:19.073146",
          "status": "completed"
        },
        "tags": []
      },
      "source": [
        "We can thus write the following combined equation:\n",
        "\n",
        "$$\n",
        "x^{in} = C_{int} S_{bd} x^{in}\n",
        "$$"
      ]
    },
    {
      "cell_type": "markdown",
      "id": "f5ceb9a2",
      "metadata": {
        "papermill": {
          "duration": 0.009848,
          "end_time": "2023-06-01T21:32:19.102781",
          "exception": false,
          "start_time": "2023-06-01T21:32:19.092933",
          "status": "completed"
        },
        "tags": []
      },
      "source": [
        "But this is not the complete story... Some component ports will *not* be *interconnected* with other ports: they will become the new *external ports* (or output ports) of the combined circuit. We can include those external ports into the above equation as follows:\n",
        "\n",
        "$$\n",
        "\\begin{pmatrix} x^{in} \\\\ x^{out}_{ext} \\end{pmatrix} = \\begin{pmatrix} C_{int} & C_{ext} \\\\ C_{ext}^T & 0 \\end{pmatrix} \\begin{pmatrix} S_{bd} x^{in} \\\\ x_{ext}^{in} \\end{pmatrix} \n",
        "$$"
      ]
    },
    {
      "cell_type": "markdown",
      "id": "6382a242",
      "metadata": {
        "papermill": {
          "duration": 0.010183,
          "end_time": "2023-06-01T21:32:19.122929",
          "exception": false,
          "start_time": "2023-06-01T21:32:19.112746",
          "status": "completed"
        },
        "tags": []
      },
      "source": [
        "Note that $C_{ext}$ is obviously **not** a square matrix. Eliminating $x^{in}$ from the equation above finally yields:\n",
        "\n",
        "$$\n",
        "x^{out}_{ext} = C^T_{ext} S_{bd} (\\mathbb{1} - C_{int}S_{bd})^{-1} C_{ext}x_{ext}^{in}\n",
        "$$"
      ]
    },
    {
      "cell_type": "markdown",
      "id": "5f15bdcd",
      "metadata": {
        "papermill": {
          "duration": 0.009796,
          "end_time": "2023-06-01T21:32:19.142823",
          "exception": false,
          "start_time": "2023-06-01T21:32:19.133027",
          "status": "completed"
        },
        "tags": []
      },
      "source": [
        "We basically found a representation of the circuit S-matrix:\n",
        "\n",
        "$$\n",
        "S = C^T_{ext} S_{bd} (\\mathbb{1} - C_{int}S_{bd})^{-1} C_{ext}\n",
        "$$"
      ]
    },
    {
      "cell_type": "markdown",
      "id": "40ad83b8",
      "metadata": {
        "papermill": {
          "duration": 0.010186,
          "end_time": "2023-06-01T21:32:19.162873",
          "exception": false,
          "start_time": "2023-06-01T21:32:19.152687",
          "status": "completed"
        },
        "tags": []
      },
      "source": [
        "Obviously, we won't want to calculate the inverse $(\\mathbb{1} - C_{int}S_{bd})^{-1}$, which is the inverse of a very sparse matrix (a connection matrix only has a single 1 per line), which very often is not even sparse itself. In stead we'll use the `solve_klu` function:\n",
        "\n",
        "$$\n",
        "S = C^T_{ext} S_{bd} \\texttt{solve}\\_\\texttt{klu}\\left((\\mathbb{1} - C_{int}S_{bd}), C_{ext}\\right)\n",
        "$$"
      ]
    },
    {
      "cell_type": "markdown",
      "id": "018fab3d",
      "metadata": {
        "papermill": {
          "duration": 0.009907,
          "end_time": "2023-06-01T21:32:19.183057",
          "exception": false,
          "start_time": "2023-06-01T21:32:19.173150",
          "status": "completed"
        },
        "tags": []
      },
      "source": [
        "Moreover, $C_{ext}^TS_{bd}$ is also a sparse matrix, therefore we'll also need a `mul_coo` routine:\n",
        "\n",
        "$$\n",
        "S = C^T_{ext} \\texttt{mul}\\_\\texttt{coo}\\left(S_{bd},~~\\texttt{solve}\\_\\texttt{klu}\\left((\\mathbb{1} - C_{int}S_{bd}),~C_{ext}\\right)\\right)\n",
        "$$"
      ]
    },
    {
      "cell_type": "markdown",
      "id": "d9b78852",
      "metadata": {
        "papermill": {
          "duration": 0.01024,
          "end_time": "2023-06-01T21:32:19.203250",
          "exception": false,
          "start_time": "2023-06-01T21:32:19.193010",
          "status": "completed"
        },
        "tags": []
      },
      "source": [
        "## Sparse Helper Functions"
      ]
    },
    {
      "cell_type": "code",
      "execution_count": 4,
      "id": "7cdef03defe98fe0",
      "metadata": {
        "execution": {
          "iopub.execute_input": "2023-06-01T21:32:19.224806Z",
          "iopub.status.busy": "2023-06-01T21:32:19.224437Z",
          "iopub.status.idle": "2023-06-01T21:32:19.227424Z",
          "shell.execute_reply": "2023-06-01T21:32:19.226999Z"
        },
        "papermill": {
          "duration": 0.016074,
          "end_time": "2023-06-01T21:32:19.229414",
          "exception": false,
          "start_time": "2023-06-01T21:32:19.213340",
          "status": "completed"
        },
        "tags": [
          "remove-input"
        ]
      },
      "outputs": [],
      "source": [
        "if klujax is not None:\n",
        "    show_doc(klujax.solve, doc_string=False, name=\"klujax.solve\")"
      ]
    },
    {
      "cell_type": "markdown",
      "id": "01299d5d",
      "metadata": {
        "papermill": {
          "duration": 0.010923,
          "end_time": "2023-06-01T21:32:19.250523",
          "exception": false,
          "start_time": "2023-06-01T21:32:19.239600",
          "status": "completed"
        },
        "tags": []
      },
      "source": [
        "`klujax.solve` solves the sparse system of equations `Ax=b` for `x`. Where `A` is represented by in [COO-format](https://en.wikipedia.org/wiki/Sparse_matrix#Coordinate_list_(COO)) as (`Ai`, `Aj`, `Ax`).\n",
        "\n",
        "> Example"
      ]
    },
    {
      "cell_type": "code",
      "execution_count": 5,
      "id": "63e7977a",
      "metadata": {
        "execution": {
          "iopub.execute_input": "2023-06-01T21:32:19.271940Z",
          "iopub.status.busy": "2023-06-01T21:32:19.271688Z",
          "iopub.status.idle": "2023-06-01T21:32:19.297699Z",
          "shell.execute_reply": "2023-06-01T21:32:19.297328Z"
        },
        "papermill": {
          "duration": 0.038514,
          "end_time": "2023-06-01T21:32:19.299135",
          "exception": false,
          "start_time": "2023-06-01T21:32:19.260621",
          "status": "completed"
        },
        "tags": []
      },
      "outputs": [
        {
          "data": {
            "text/plain": [
              "Array([6. , 1. , 0.5, 0.5, 2. ], dtype=float32)"
            ]
          },
          "execution_count": 5,
          "metadata": {},
          "output_type": "execute_result"
        }
      ],
      "source": [
        "Ai = jnp.array([0, 1, 2, 3, 4])\n",
        "Aj = jnp.array([1, 3, 4, 0, 2])\n",
        "Ax = jnp.array([5, 6, 1, 1, 2])\n",
        "b = jnp.array([5, 3, 2, 6, 1])\n",
        "\n",
        "if klujax is not None:\n",
        "    x = klujax.solve(Ai, Aj, Ax, b)\n",
        "else:\n",
        "    x = jnp.array([6.0, 1.0, 0.5, 0.5, 2.0])\n",
        "\n",
        "x"
      ]
    },
    {
      "cell_type": "markdown",
      "id": "3233b04c",
      "metadata": {
        "papermill": {
          "duration": 0.010488,
          "end_time": "2023-06-01T21:32:19.320210",
          "exception": false,
          "start_time": "2023-06-01T21:32:19.309722",
          "status": "completed"
        },
        "tags": []
      },
      "source": [
        "This result is indeed correct:"
      ]
    },
    {
      "cell_type": "code",
      "execution_count": 6,
      "id": "629bbc71",
      "metadata": {
        "execution": {
          "iopub.execute_input": "2023-06-01T21:32:19.341526Z",
          "iopub.status.busy": "2023-06-01T21:32:19.341292Z",
          "iopub.status.idle": "2023-06-01T21:32:19.490263Z",
          "shell.execute_reply": "2023-06-01T21:32:19.489835Z"
        },
        "papermill": {
          "duration": 0.161364,
          "end_time": "2023-06-01T21:32:19.491688",
          "exception": false,
          "start_time": "2023-06-01T21:32:19.330324",
          "status": "completed"
        },
        "tags": []
      },
      "outputs": [
        {
          "name": "stdout",
          "output_type": "stream",
          "text": [
            "[[0. 5. 0. 0. 0.]\n",
            " [0. 0. 0. 6. 0.]\n",
            " [0. 0. 0. 0. 1.]\n",
            " [1. 0. 0. 0. 0.]\n",
            " [0. 0. 2. 0. 0.]]\n",
            "[5. 3. 2. 6. 1.]\n"
          ]
        }
      ],
      "source": [
        "if JAX_AVAILABLE:\n",
        "    A = jnp.zeros((5, 5)).at[Ai, Aj].set(Ax)\n",
        "    print(A)\n",
        "    print(A@x)"
      ]
    },
    {
      "cell_type": "markdown",
      "id": "c7fe6547",
      "metadata": {
        "papermill": {
          "duration": 0.010208,
          "end_time": "2023-06-01T21:32:19.513110",
          "exception": false,
          "start_time": "2023-06-01T21:32:19.502902",
          "status": "completed"
        },
        "tags": []
      },
      "source": [
        "However, to use this function effectively, we probably need an extra dimension for `Ax`. Indeed, we would like to solve this equation for multiple wavelengths (or more general, for multiple circuit configurations) at once. For this we can use `jax.vmap` to expose `klujax.solve` to more dimensions for `Ax`:"
      ]
    },
    {
      "cell_type": "code",
      "execution_count": 7,
      "id": "7ded480669409804",
      "metadata": {
        "execution": {
          "iopub.execute_input": "2023-06-01T21:32:19.534508Z",
          "iopub.status.busy": "2023-06-01T21:32:19.534284Z",
          "iopub.status.idle": "2023-06-01T21:32:19.537083Z",
          "shell.execute_reply": "2023-06-01T21:32:19.536687Z"
        },
        "papermill": {
          "duration": 0.015591,
          "end_time": "2023-06-01T21:32:19.538875",
          "exception": false,
          "start_time": "2023-06-01T21:32:19.523284",
          "status": "completed"
        },
        "tags": []
      },
      "outputs": [],
      "source": [
        "solve_klu = None\n",
        "if klujax is not None:\n",
        "    solve_klu = jax.vmap(klujax.solve, (None, None, 0, None), 0)"
      ]
    },
    {
      "cell_type": "code",
      "execution_count": 8,
      "id": "41dce336b599b97d",
      "metadata": {
        "execution": {
          "iopub.execute_input": "2023-06-01T21:32:19.560162Z",
          "iopub.status.busy": "2023-06-01T21:32:19.559963Z",
          "iopub.status.idle": "2023-06-01T21:32:19.564100Z",
          "shell.execute_reply": "2023-06-01T21:32:19.563736Z"
        },
        "papermill": {
          "duration": 0.017421,
          "end_time": "2023-06-01T21:32:19.566526",
          "exception": false,
          "start_time": "2023-06-01T21:32:19.549105",
          "status": "completed"
        },
        "tags": [
          "remove-input"
        ]
      },
      "outputs": [
        {
          "data": {
            "text/markdown": [
              "<h4 id=\"solve_klu\" class=\"doc_header\"><code>solve_klu</code><a href=\"\" class=\"source_link\" style=\"float:right\">[source]</a></h4>\n",
              "\n"
            ],
            "text/plain": [
              "<IPython.core.display.Markdown object>"
            ]
          },
          "metadata": {},
          "output_type": "display_data"
        }
      ],
      "source": [
        "show_doc(solve_klu, doc_string=False, name=\"solve_klu\")"
      ]
    },
    {
      "cell_type": "markdown",
      "id": "6707049d",
      "metadata": {
        "papermill": {
          "duration": 0.01031,
          "end_time": "2023-06-01T21:32:19.587075",
          "exception": false,
          "start_time": "2023-06-01T21:32:19.576765",
          "status": "completed"
        },
        "tags": []
      },
      "source": [
        "Let's now redefine `Ax` and see what it gives:"
      ]
    },
    {
      "cell_type": "code",
      "execution_count": 9,
      "id": "d4d7b6f9",
      "metadata": {
        "execution": {
          "iopub.execute_input": "2023-06-01T21:32:19.608840Z",
          "iopub.status.busy": "2023-06-01T21:32:19.608610Z",
          "iopub.status.idle": "2023-06-01T21:32:19.619467Z",
          "shell.execute_reply": "2023-06-01T21:32:19.619111Z"
        },
        "papermill": {
          "duration": 0.023672,
          "end_time": "2023-06-01T21:32:19.621012",
          "exception": false,
          "start_time": "2023-06-01T21:32:19.597340",
          "status": "completed"
        },
        "tags": []
      },
      "outputs": [
        {
          "data": {
            "text/plain": [
              "Array([[6.       , 1.       , 0.5      , 0.5      , 2.       ],\n",
              "       [3.       , 1.       , 1.       , 0.75     , 0.6666667],\n",
              "       [1.5      , 5.       , 0.2      , 1.5      , 0.6666667]],      dtype=float32)"
            ]
          },
          "execution_count": 9,
          "metadata": {},
          "output_type": "execute_result"
        }
      ],
      "source": [
        "Ai = jnp.array([0, 1, 2, 3, 4])\n",
        "Aj = jnp.array([1, 3, 4, 0, 2])\n",
        "Ax = jnp.array([[5, 6, 1, 1, 2], [5, 4, 3, 2, 1], [1, 2, 3, 4, 5]])\n",
        "b = jnp.array([5, 3, 2, 6, 1])\n",
        "if klujax is not None:\n",
        "    x = solve_klu(Ai, Aj, Ax, b)\n",
        "else:\n",
        "    x = jnp.array([\n",
        "        [6.0, 1.0, 0.5, 0.5, 2.0],\n",
        "        [3.0, 1.0, 1.0, 0.75, 0.66666667],\n",
        "        [1.5, 5.0, 0.2, 1.5, 0.66666667],\n",
        "    ])\n",
        "    \n",
        "x"
      ]
    },
    {
      "cell_type": "markdown",
      "id": "5f342c6f",
      "metadata": {
        "papermill": {
          "duration": 0.010365,
          "end_time": "2023-06-01T21:32:19.642118",
          "exception": false,
          "start_time": "2023-06-01T21:32:19.631753",
          "status": "completed"
        },
        "tags": []
      },
      "source": [
        "This result is indeed correct:"
      ]
    },
    {
      "cell_type": "code",
      "execution_count": 10,
      "id": "0afefaa6",
      "metadata": {
        "execution": {
          "iopub.execute_input": "2023-06-01T21:32:19.664223Z",
          "iopub.status.busy": "2023-06-01T21:32:19.664010Z",
          "iopub.status.idle": "2023-06-01T21:32:19.757349Z",
          "shell.execute_reply": "2023-06-01T21:32:19.756915Z"
        },
        "papermill": {
          "duration": 0.106286,
          "end_time": "2023-06-01T21:32:19.759105",
          "exception": false,
          "start_time": "2023-06-01T21:32:19.652819",
          "status": "completed"
        },
        "tags": []
      },
      "outputs": [],
      "source": [
        "if JAX_AVAILABLE:\n",
        "    A = jnp.zeros((3, 5, 5)).at[:, Ai, Aj].set(Ax)\n",
        "    jnp.einsum(\"ijk,ik->ij\", A, x)"
      ]
    },
    {
      "cell_type": "markdown",
      "id": "7ed8f62d",
      "metadata": {
        "papermill": {
          "duration": 0.010665,
          "end_time": "2023-06-01T21:32:19.781041",
          "exception": false,
          "start_time": "2023-06-01T21:32:19.770376",
          "status": "completed"
        },
        "tags": []
      },
      "source": [
        "Additionally, we need a way to multiply a sparse COO-matrix with a dense vector. This can be done with `klujax.coo_mul_vec`:"
      ]
    },
    {
      "cell_type": "code",
      "execution_count": 11,
      "id": "b396e084d8899229",
      "metadata": {
        "execution": {
          "iopub.execute_input": "2023-06-01T21:32:19.803115Z",
          "iopub.status.busy": "2023-06-01T21:32:19.802881Z",
          "iopub.status.idle": "2023-06-01T21:32:19.805563Z",
          "shell.execute_reply": "2023-06-01T21:32:19.805180Z"
        },
        "papermill": {
          "duration": 0.015886,
          "end_time": "2023-06-01T21:32:19.807361",
          "exception": false,
          "start_time": "2023-06-01T21:32:19.791475",
          "status": "completed"
        },
        "tags": [
          "remove-input"
        ]
      },
      "outputs": [],
      "source": [
        "\n",
        "if klujax is not None:\n",
        "    show_doc(klujax.coo_mul_vec, doc_string=False, name=\"klujax.coo_mul_vec\")"
      ]
    },
    {
      "cell_type": "markdown",
      "id": "7f57c443",
      "metadata": {
        "papermill": {
          "duration": 0.010387,
          "end_time": "2023-06-01T21:32:19.828120",
          "exception": false,
          "start_time": "2023-06-01T21:32:19.817733",
          "status": "completed"
        },
        "tags": []
      },
      "source": [
        "However, it's useful to allow a batch dimension, this time *both* in `Ax` and in `b`:"
      ]
    },
    {
      "cell_type": "code",
      "execution_count": 12,
      "id": "e86866da0d7ba7d1",
      "metadata": {
        "execution": {
          "iopub.execute_input": "2023-06-01T21:32:19.850543Z",
          "iopub.status.busy": "2023-06-01T21:32:19.850231Z",
          "iopub.status.idle": "2023-06-01T21:32:19.852595Z",
          "shell.execute_reply": "2023-06-01T21:32:19.852216Z"
        },
        "papermill": {
          "duration": 0.015509,
          "end_time": "2023-06-01T21:32:19.854453",
          "exception": false,
          "start_time": "2023-06-01T21:32:19.838944",
          "status": "completed"
        },
        "tags": [
          "remove-cell"
        ]
      },
      "outputs": [],
      "source": [
        "\n",
        "# @jax.jit  # TODO: make this available to autograd\n",
        "# def mul_coo(Ai, Aj, Ax, b):\n",
        "#     result = jnp.zeros_like(b).at[..., Ai, :].add(Ax[..., :, None] * b[..., Aj, :])\n",
        "#     return result"
      ]
    },
    {
      "cell_type": "code",
      "execution_count": 13,
      "id": "cc9e94c248e6b5cf",
      "metadata": {
        "execution": {
          "iopub.execute_input": "2023-06-01T21:32:19.876498Z",
          "iopub.status.busy": "2023-06-01T21:32:19.876227Z",
          "iopub.status.idle": "2023-06-01T21:32:19.879086Z",
          "shell.execute_reply": "2023-06-01T21:32:19.878647Z"
        },
        "papermill": {
          "duration": 0.015555,
          "end_time": "2023-06-01T21:32:19.880554",
          "exception": false,
          "start_time": "2023-06-01T21:32:19.864999",
          "status": "completed"
        },
        "tags": []
      },
      "outputs": [],
      "source": [
        "mul_coo = None \n",
        "if klujax is not None:\n",
        "    mul_coo = jax.vmap(klujax.coo_mul_vec, (None, None, 0, 0), 0)"
      ]
    },
    {
      "cell_type": "code",
      "execution_count": 14,
      "id": "0ff70354c4422360",
      "metadata": {
        "execution": {
          "iopub.execute_input": "2023-06-01T21:32:19.902546Z",
          "iopub.status.busy": "2023-06-01T21:32:19.902278Z",
          "iopub.status.idle": "2023-06-01T21:32:19.905877Z",
          "shell.execute_reply": "2023-06-01T21:32:19.905518Z"
        },
        "papermill": {
          "duration": 0.016995,
          "end_time": "2023-06-01T21:32:19.907999",
          "exception": false,
          "start_time": "2023-06-01T21:32:19.891004",
          "status": "completed"
        },
        "tags": [
          "remove-input"
        ]
      },
      "outputs": [
        {
          "data": {
            "text/markdown": [
              "<h4 id=\"mul_coo\" class=\"doc_header\"><code>mul_coo</code><a href=\"\" class=\"source_link\" style=\"float:right\">[source]</a></h4>\n",
              "\n"
            ],
            "text/plain": [
              "<IPython.core.display.Markdown object>"
            ]
          },
          "metadata": {},
          "output_type": "display_data"
        }
      ],
      "source": [
        "show_doc(mul_coo, doc_string=False, name=\"mul_coo\")"
      ]
    },
    {
      "cell_type": "markdown",
      "id": "d26cc3d9",
      "metadata": {
        "papermill": {
          "duration": 0.010622,
          "end_time": "2023-06-01T21:32:19.929277",
          "exception": false,
          "start_time": "2023-06-01T21:32:19.918655",
          "status": "completed"
        },
        "tags": []
      },
      "source": [
        "Let's confirm this does the right thing:"
      ]
    },
    {
      "cell_type": "code",
      "execution_count": 15,
      "id": "bd868973",
      "metadata": {
        "execution": {
          "iopub.execute_input": "2023-06-01T21:32:19.951707Z",
          "iopub.status.busy": "2023-06-01T21:32:19.951414Z",
          "iopub.status.idle": "2023-06-01T21:32:19.956775Z",
          "shell.execute_reply": "2023-06-01T21:32:19.956336Z"
        },
        "papermill": {
          "duration": 0.018809,
          "end_time": "2023-06-01T21:32:19.958807",
          "exception": false,
          "start_time": "2023-06-01T21:32:19.939998",
          "status": "completed"
        },
        "tags": []
      },
      "outputs": [
        {
          "data": {
            "text/plain": [
              "Array([[5., 3., 2., 6., 1.],\n",
              "       [5., 3., 2., 6., 1.],\n",
              "       [5., 3., 2., 6., 1.]], dtype=float32)"
            ]
          },
          "execution_count": 15,
          "metadata": {},
          "output_type": "execute_result"
        }
      ],
      "source": [
        "if klujax is not None:\n",
        "    result = mul_coo(Ai, Aj, Ax, x)\n",
        "else:\n",
        "    result = jnp.array([\n",
        "        [5.0, 3.0, 2.0, 6.0, 1.0],\n",
        "        [5.0, 3.0, 2.00000001, 6.0, 1.0],\n",
        "        [5.0, 3.0, 2.00000001, 6.0, 1.0],\n",
        "    ])\n",
        "    \n",
        "result"
      ]
    },
    {
      "cell_type": "markdown",
      "id": "d71e89fa",
      "metadata": {
        "papermill": {
          "duration": 0.010763,
          "end_time": "2023-06-01T21:32:19.980228",
          "exception": false,
          "start_time": "2023-06-01T21:32:19.969465",
          "status": "completed"
        },
        "tags": []
      },
      "source": [
        "## Circuit Evaluation"
      ]
    },
    {
      "cell_type": "markdown",
      "id": "56fb6610c67d352b",
      "metadata": {},
      "source": [
        ":::{eval-rst}\n",
        ".. autofunction:: sax.backends.klu.evaluate_circuit_klu\n",
        ":::\n"
      ]
    },
    {
      "cell_type": "code",
      "execution_count": 16,
      "id": "2100accff32bad27",
      "metadata": {
        "execution": {
          "iopub.execute_input": "2023-06-01T21:32:20.003051Z",
          "iopub.status.busy": "2023-06-01T21:32:20.002735Z",
          "iopub.status.idle": "2023-06-01T21:32:20.106733Z",
          "shell.execute_reply": "2023-06-01T21:32:20.106210Z"
        },
        "papermill": {
          "duration": 0.117068,
          "end_time": "2023-06-01T21:32:20.108017",
          "exception": false,
          "start_time": "2023-06-01T21:32:19.990949",
          "status": "completed"
        },
        "tags": [
          "hide-input"
        ]
      },
      "outputs": [],
      "source": [
        "def evaluate_circuit_klu(\n",
        "    instances: Dict[str, SType],\n",
        "    connections: Dict[str, str],\n",
        "    ports: Dict[str, str],\n",
        "):\n",
        "    \"\"\"evaluate a circuit using KLU for the given sdicts. \"\"\"\n",
        "\n",
        "    if klujax is None:\n",
        "        raise ImportError(\n",
        "            \"Could not import 'klujax'. \"\n",
        "            \"Please install it first before using backend method 'klu'\"\n",
        "        )\n",
        "\n",
        "    assert solve_klu is not None\n",
        "    assert mul_coo is not None\n",
        "\n",
        "    connections = {**connections, **{v: k for k, v in connections.items()}}\n",
        "    inverse_ports = {v: k for k, v in ports.items()}\n",
        "    port_map = {k: i for i, k in enumerate(ports)}\n",
        "\n",
        "    idx, Si, Sj, Sx, instance_ports = 0, [], [], [], {}\n",
        "    batch_shape = ()\n",
        "    for name, instance in instances.items():\n",
        "        si, sj, sx, ports_map = scoo(instance)\n",
        "        Si.append(si + idx)\n",
        "        Sj.append(sj + idx)\n",
        "        Sx.append(sx)\n",
        "        if len(sx.shape[:-1]) > len(batch_shape):\n",
        "            batch_shape = sx.shape[:-1]\n",
        "        instance_ports.update({f\"{name},{p}\": i + idx for p, i in ports_map.items()})\n",
        "        idx += len(ports_map)\n",
        "\n",
        "    Si = jnp.concatenate(Si, -1)\n",
        "    Sj = jnp.concatenate(Sj, -1)\n",
        "    Sx = jnp.concatenate(\n",
        "        [jnp.broadcast_to(sx, (*batch_shape, sx.shape[-1])) for sx in Sx], -1\n",
        "    )\n",
        "\n",
        "    n_col = idx\n",
        "    n_rhs = len(port_map)\n",
        "\n",
        "    Cmap = {\n",
        "        int(instance_ports[k]): int(instance_ports[v]) for k, v in connections.items()\n",
        "    }\n",
        "    Ci = jnp.array(list(Cmap.keys()), dtype=jnp.int32)\n",
        "    Cj = jnp.array(list(Cmap.values()), dtype=jnp.int32)\n",
        "\n",
        "    Cextmap = {int(instance_ports[k]): int(port_map[v]) for k, v in inverse_ports.items()}\n",
        "    Cexti = jnp.stack(list(Cextmap.keys()), 0)\n",
        "    Cextj = jnp.stack(list(Cextmap.values()), 0)\n",
        "    Cext = jnp.zeros((n_col, n_rhs), dtype=complex).at[Cexti, Cextj].set(1.0)\n",
        "\n",
        "    # TODO: make this block jittable...\n",
        "    Ix = jnp.ones((*batch_shape, n_col))\n",
        "    Ii = Ij = jnp.arange(n_col)\n",
        "    mask = Cj[None,:] == Si[:, None]\n",
        "    CSi = jnp.broadcast_to(Ci[None, :], mask.shape)[mask]\n",
        "\n",
        "    # CSi = jnp.where(Cj[None, :] == Si[:, None], Ci[None, :], 0).sum(1)\n",
        "    mask = (Cj[:, None] == Si[None, :]).any(0)\n",
        "    CSj = Sj[mask]\n",
        "    \n",
        "    if Sx.ndim > 1: # bug in JAX... see https://github.com/google/jax/issues/9050\n",
        "        CSx = Sx[..., mask]\n",
        "    else:\n",
        "        CSx = Sx[mask]\n",
        "        \n",
        "    # CSj = jnp.where(mask, Sj, 0)\n",
        "    # CSx = jnp.where(mask, Sx, 0.0)\n",
        "\n",
        "    I_CSi = jnp.concatenate([CSi, Ii], -1)\n",
        "    I_CSj = jnp.concatenate([CSj, Ij], -1)\n",
        "    I_CSx = jnp.concatenate([-CSx, Ix], -1)\n",
        "\n",
        "    n_col, n_rhs = Cext.shape\n",
        "    n_lhs = jnp.prod(jnp.array(batch_shape, dtype=jnp.int32))\n",
        "    Sx = Sx.reshape(n_lhs, -1)\n",
        "    I_CSx = I_CSx.reshape(n_lhs, -1)\n",
        "\n",
        "    inv_I_CS_Cext = solve_klu(I_CSi, I_CSj, I_CSx, Cext)\n",
        "    S_inv_I_CS_Cext = mul_coo(Si, Sj, Sx, inv_I_CS_Cext)\n",
        "\n",
        "    CextT_S_inv_I_CS_Cext = S_inv_I_CS_Cext[..., Cexti, :][..., :, Cextj]\n",
        "    \n",
        "    _, n, _ = CextT_S_inv_I_CS_Cext.shape\n",
        "    S = CextT_S_inv_I_CS_Cext.reshape(*batch_shape, n, n)\n",
        "\n",
        "    return S, port_map"
      ]
    },
    {
      "cell_type": "markdown",
      "id": "dce9d8ca",
      "metadata": {
        "papermill": {
          "duration": 0.011151,
          "end_time": "2023-06-01T21:32:20.130890",
          "exception": false,
          "start_time": "2023-06-01T21:32:20.119739",
          "status": "completed"
        },
        "tags": []
      },
      "source": [
        "## Example"
      ]
    },
    {
      "cell_type": "code",
      "execution_count": 17,
      "id": "da906148dd20a569",
      "metadata": {
        "execution": {
          "iopub.execute_input": "2023-06-01T21:32:20.153879Z",
          "iopub.status.busy": "2023-06-01T21:32:20.153545Z",
          "iopub.status.idle": "2023-06-01T21:32:20.156966Z",
          "shell.execute_reply": "2023-06-01T21:32:20.156485Z"
        },
        "papermill": {
          "duration": 0.016704,
          "end_time": "2023-06-01T21:32:20.158513",
          "exception": false,
          "start_time": "2023-06-01T21:32:20.141809",
          "status": "completed"
        },
        "tags": [
          "remove-cell"
        ]
      },
      "outputs": [],
      "source": [
        "if klujax is None:\n",
        "    def evaluate_circuit_klu(\n",
        "        instances: Dict[str, SType],\n",
        "        connections: Dict[str, str],\n",
        "        ports: Dict[str, str],\n",
        "    ):\n",
        "        sdict = evaluate_circuit(instances, connections, ports)\n",
        "        sdense = sax.sdense(sdict)\n",
        "        return sdense"
      ]
    },
    {
      "cell_type": "code",
      "execution_count": 18,
      "id": "f577522a",
      "metadata": {
        "execution": {
          "iopub.execute_input": "2023-06-01T21:32:20.182501Z",
          "iopub.status.busy": "2023-06-01T21:32:20.182135Z",
          "iopub.status.idle": "2023-06-01T21:32:21.078891Z",
          "shell.execute_reply": "2023-06-01T21:32:21.078432Z"
        },
        "papermill": {
          "duration": 0.910296,
          "end_time": "2023-06-01T21:32:21.080365",
          "exception": false,
          "start_time": "2023-06-01T21:32:20.170069",
          "status": "completed"
        },
        "tags": []
      },
      "outputs": [],
      "source": [
        "wg_sdict: SDict = {\n",
        "    (\"in0\", \"out0\"): 0.5 + 0.86603j,\n",
        "    (\"out0\", \"in0\"): 0.5 + 0.86603j,\n",
        "}\n",
        "\n",
        "\u03c4, \u03ba = 0.5 ** 0.5, 1j * 0.5 ** 0.5\n",
        "dc_sdense: SDense = (\n",
        "    jnp.array([[0, 0, \u03c4, \u03ba], \n",
        "               [0, 0, \u03ba, \u03c4], \n",
        "               [\u03c4, \u03ba, 0, 0], \n",
        "               [\u03ba, \u03c4, 0, 0]]),\n",
        "    {\"in0\": 0, \"in1\": 1, \"out0\": 2, \"out1\": 3},\n",
        ")\n",
        "\n",
        "mzi_sdense: SDense = evaluate_circuit_klu(\n",
        "    instances={\n",
        "        \"dc1\": dc_sdense,\n",
        "        \"wg\": wg_sdict,\n",
        "        \"dc2\": dc_sdense,\n",
        "    },\n",
        "    connections={\n",
        "        \"dc1,out0\": \"wg,in0\",\n",
        "        \"wg,out0\": \"dc2,in0\",\n",
        "        \"dc1,out1\": \"dc2,in1\",\n",
        "    },\n",
        "    ports={\n",
        "        \"in0\": \"dc1,in0\",\n",
        "        \"in1\": \"dc1,in1\",\n",
        "        \"out0\": \"dc2,out0\",\n",
        "        \"out1\": \"dc2,out1\",\n",
        "    }\n",
        ")"
      ]
    },
    {
      "cell_type": "markdown",
      "id": "60b6d1e6",
      "metadata": {
        "papermill": {
          "duration": 0.010928,
          "end_time": "2023-06-01T21:32:21.103158",
          "exception": false,
          "start_time": "2023-06-01T21:32:21.092230",
          "status": "completed"
        },
        "tags": []
      },
      "source": [
        "the KLU backend yields `SDense` results by default:"
      ]
    },
    {
      "cell_type": "code",
      "execution_count": 19,
      "id": "ecc3115e",
      "metadata": {
        "execution": {
          "iopub.execute_input": "2023-06-01T21:32:21.126923Z",
          "iopub.status.busy": "2023-06-01T21:32:21.126570Z",
          "iopub.status.idle": "2023-06-01T21:32:21.131395Z",
          "shell.execute_reply": "2023-06-01T21:32:21.130921Z"
        },
        "papermill": {
          "duration": 0.019213,
          "end_time": "2023-06-01T21:32:21.133531",
          "exception": false,
          "start_time": "2023-06-01T21:32:21.114318",
          "status": "completed"
        },
        "tags": []
      },
      "outputs": [
        {
          "data": {
            "text/plain": [
              "(Array([[ 0.        +0.j        ,  0.        +0.j        ,\n",
              "         -0.24999999+0.433015j  , -0.433015  +0.74999994j],\n",
              "        [ 0.        +0.j        ,  0.        +0.j        ,\n",
              "         -0.433015  +0.74999994j,  0.24999999-0.433015j  ],\n",
              "        [-0.24999999+0.433015j  , -0.433015  +0.74999994j,\n",
              "          0.        +0.j        ,  0.        +0.j        ],\n",
              "        [-0.433015  +0.74999994j,  0.24999999-0.433015j  ,\n",
              "          0.        +0.j        ,  0.        +0.j        ]],      dtype=complex64),\n",
              " {'in0': 0, 'in1': 1, 'out0': 2, 'out1': 3})"
            ]
          },
          "execution_count": 19,
          "metadata": {},
          "output_type": "execute_result"
        }
      ],
      "source": [
        "mzi_sdense"
      ]
    },
    {
      "cell_type": "markdown",
      "id": "4b8e87f3",
      "metadata": {
        "papermill": {
          "duration": 0.011004,
          "end_time": "2023-06-01T21:32:21.155672",
          "exception": false,
          "start_time": "2023-06-01T21:32:21.144668",
          "status": "completed"
        },
        "tags": []
      },
      "source": [
        "An `SDense` is returned for perfomance reasons. By returning an `SDense` by default we prevent any internal `SDict -> SDense` conversions in deeply hierarchical circuits. It's however very easy to convert `SDense` to `SDict` as a final step. To do this, wrap the result (or the function generating the result) with `sdict`:"
      ]
    },
    {
      "cell_type": "code",
      "execution_count": 20,
      "id": "7202ab1e",
      "metadata": {
        "execution": {
          "iopub.execute_input": "2023-06-01T21:32:21.179399Z",
          "iopub.status.busy": "2023-06-01T21:32:21.179062Z",
          "iopub.status.idle": "2023-06-01T21:32:21.200407Z",
          "shell.execute_reply": "2023-06-01T21:32:21.199912Z"
        },
        "papermill": {
          "duration": 0.034712,
          "end_time": "2023-06-01T21:32:21.201717",
          "exception": false,
          "start_time": "2023-06-01T21:32:21.167005",
          "status": "completed"
        },
        "tags": []
      },
      "outputs": [
        {
          "data": {
            "text/plain": [
              "{('in0', 'in0'): Array(0.+0.j, dtype=complex64),\n",
              " ('in0', 'in1'): Array(0.+0.j, dtype=complex64),\n",
              " ('in0', 'out0'): Array(-0.24999999+0.433015j, dtype=complex64),\n",
              " ('in0', 'out1'): Array(-0.433015+0.74999994j, dtype=complex64),\n",
              " ('in1', 'in0'): Array(0.+0.j, dtype=complex64),\n",
              " ('in1', 'in1'): Array(0.+0.j, dtype=complex64),\n",
              " ('in1', 'out0'): Array(-0.433015+0.74999994j, dtype=complex64),\n",
              " ('in1', 'out1'): Array(0.24999999-0.433015j, dtype=complex64),\n",
              " ('out0', 'in0'): Array(-0.24999999+0.433015j, dtype=complex64),\n",
              " ('out0', 'in1'): Array(-0.433015+0.74999994j, dtype=complex64),\n",
              " ('out0', 'out0'): Array(0.+0.j, dtype=complex64),\n",
              " ('out0', 'out1'): Array(0.+0.j, dtype=complex64),\n",
              " ('out1', 'in0'): Array(-0.433015+0.74999994j, dtype=complex64),\n",
              " ('out1', 'in1'): Array(0.24999999-0.433015j, dtype=complex64),\n",
              " ('out1', 'out0'): Array(0.+0.j, dtype=complex64),\n",
              " ('out1', 'out1'): Array(0.+0.j, dtype=complex64)}"
            ]
          },
          "execution_count": 20,
          "metadata": {},
          "output_type": "execute_result"
        }
      ],
      "source": [
        "sax.sdict(mzi_sdense)"
      ]
    },
    {
      "cell_type": "markdown",
      "id": "9f8cd5ea",
      "metadata": {
        "papermill": {
          "duration": 0.011268,
          "end_time": "2023-06-01T21:32:21.224598",
          "exception": false,
          "start_time": "2023-06-01T21:32:21.213330",
          "status": "completed"
        },
        "tags": []
      },
      "source": [
        "## Algorithm Walkthrough"
      ]
    },
    {
      "cell_type": "code",
      "execution_count": 21,
      "id": "665c856d",
      "metadata": {
        "execution": {
          "iopub.execute_input": "2023-06-01T21:32:21.248510Z",
          "iopub.status.busy": "2023-06-01T21:32:21.248169Z",
          "iopub.status.idle": "2023-06-01T21:32:21.252233Z",
          "shell.execute_reply": "2023-06-01T21:32:21.251761Z"
        },
        "papermill": {
          "duration": 0.01768,
          "end_time": "2023-06-01T21:32:21.253686",
          "exception": false,
          "start_time": "2023-06-01T21:32:21.236006",
          "status": "completed"
        },
        "tags": []
      },
      "outputs": [],
      "source": [
        "instances={\n",
        "    \"dc1\": dc_sdense,\n",
        "    \"wg\": wg_sdict,\n",
        "    \"dc2\": dc_sdense,\n",
        "}\n",
        "connections={\n",
        "    \"dc1,out0\": \"wg,in0\",\n",
        "    \"wg,out0\": \"dc2,in0\",\n",
        "    \"dc1,out1\": \"dc2,in1\",\n",
        "}\n",
        "ports={\n",
        "    \"in0\": \"dc1,in0\",\n",
        "    \"in1\": \"dc1,in1\",\n",
        "    \"out0\": \"dc2,out0\",\n",
        "    \"out1\": \"dc2,out1\",\n",
        "}"
      ]
    },
    {
      "cell_type": "markdown",
      "id": "b5bf5188",
      "metadata": {
        "papermill": {
          "duration": 0.01124,
          "end_time": "2023-06-01T21:32:21.276085",
          "exception": false,
          "start_time": "2023-06-01T21:32:21.264845",
          "status": "completed"
        },
        "tags": []
      },
      "source": [
        "Let's first enforce $C^T = C$:"
      ]
    },
    {
      "cell_type": "code",
      "execution_count": 22,
      "id": "6d7d4c39",
      "metadata": {
        "execution": {
          "iopub.execute_input": "2023-06-01T21:32:21.300072Z",
          "iopub.status.busy": "2023-06-01T21:32:21.299732Z",
          "iopub.status.idle": "2023-06-01T21:32:21.303883Z",
          "shell.execute_reply": "2023-06-01T21:32:21.303441Z"
        },
        "papermill": {
          "duration": 0.018174,
          "end_time": "2023-06-01T21:32:21.305705",
          "exception": false,
          "start_time": "2023-06-01T21:32:21.287531",
          "status": "completed"
        },
        "tags": []
      },
      "outputs": [
        {
          "data": {
            "text/plain": [
              "{'dc1,out0': 'wg,in0',\n",
              " 'wg,out0': 'dc2,in0',\n",
              " 'dc1,out1': 'dc2,in1',\n",
              " 'wg,in0': 'dc1,out0',\n",
              " 'dc2,in0': 'wg,out0',\n",
              " 'dc2,in1': 'dc1,out1'}"
            ]
          },
          "execution_count": 22,
          "metadata": {},
          "output_type": "execute_result"
        }
      ],
      "source": [
        "connections = {**connections, **{v: k for k, v in connections.items()}}\n",
        "connections"
      ]
    },
    {
      "cell_type": "markdown",
      "id": "a41250ec",
      "metadata": {
        "papermill": {
          "duration": 0.011294,
          "end_time": "2023-06-01T21:32:21.328325",
          "exception": false,
          "start_time": "2023-06-01T21:32:21.317031",
          "status": "completed"
        },
        "tags": []
      },
      "source": [
        "We'll also need the reversed ports:"
      ]
    },
    {
      "cell_type": "code",
      "execution_count": 23,
      "id": "9a70463f",
      "metadata": {
        "execution": {
          "iopub.execute_input": "2023-06-01T21:32:21.352556Z",
          "iopub.status.busy": "2023-06-01T21:32:21.352218Z",
          "iopub.status.idle": "2023-06-01T21:32:21.356252Z",
          "shell.execute_reply": "2023-06-01T21:32:21.355795Z"
        },
        "papermill": {
          "duration": 0.018227,
          "end_time": "2023-06-01T21:32:21.358014",
          "exception": false,
          "start_time": "2023-06-01T21:32:21.339787",
          "status": "completed"
        },
        "tags": []
      },
      "outputs": [
        {
          "data": {
            "text/plain": [
              "{'dc1,in0': 'in0', 'dc1,in1': 'in1', 'dc2,out0': 'out0', 'dc2,out1': 'out1'}"
            ]
          },
          "execution_count": 23,
          "metadata": {},
          "output_type": "execute_result"
        }
      ],
      "source": [
        "inverse_ports = {v: k for k, v in ports.items()}\n",
        "inverse_ports"
      ]
    },
    {
      "cell_type": "markdown",
      "id": "1e96443b",
      "metadata": {
        "papermill": {
          "duration": 0.011287,
          "end_time": "2023-06-01T21:32:21.380607",
          "exception": false,
          "start_time": "2023-06-01T21:32:21.369320",
          "status": "completed"
        },
        "tags": []
      },
      "source": [
        "An the port indices"
      ]
    },
    {
      "cell_type": "code",
      "execution_count": 24,
      "id": "8e18d182",
      "metadata": {
        "execution": {
          "iopub.execute_input": "2023-06-01T21:32:21.404802Z",
          "iopub.status.busy": "2023-06-01T21:32:21.404477Z",
          "iopub.status.idle": "2023-06-01T21:32:21.408422Z",
          "shell.execute_reply": "2023-06-01T21:32:21.407975Z"
        },
        "papermill": {
          "duration": 0.017979,
          "end_time": "2023-06-01T21:32:21.410224",
          "exception": false,
          "start_time": "2023-06-01T21:32:21.392245",
          "status": "completed"
        },
        "tags": []
      },
      "outputs": [
        {
          "data": {
            "text/plain": [
              "{'in0': 0, 'in1': 1, 'out0': 2, 'out1': 3}"
            ]
          },
          "execution_count": 24,
          "metadata": {},
          "output_type": "execute_result"
        }
      ],
      "source": [
        "port_map = {k: i for i, k in enumerate(ports)}\n",
        "port_map"
      ]
    },
    {
      "cell_type": "markdown",
      "id": "70924074",
      "metadata": {
        "papermill": {
          "duration": 0.011439,
          "end_time": "2023-06-01T21:32:21.433106",
          "exception": false,
          "start_time": "2023-06-01T21:32:21.421667",
          "status": "completed"
        },
        "tags": []
      },
      "source": [
        "Let's now create the COO-representation of our block diagonal S-matrix $S_{bd}$:"
      ]
    },
    {
      "cell_type": "code",
      "execution_count": 25,
      "id": "835deb8f",
      "metadata": {
        "execution": {
          "iopub.execute_input": "2023-06-01T21:32:21.457751Z",
          "iopub.status.busy": "2023-06-01T21:32:21.457409Z",
          "iopub.status.idle": "2023-06-01T21:32:21.693703Z",
          "shell.execute_reply": "2023-06-01T21:32:21.693170Z"
        },
        "papermill": {
          "duration": 0.250349,
          "end_time": "2023-06-01T21:32:21.694993",
          "exception": false,
          "start_time": "2023-06-01T21:32:21.444644",
          "status": "completed"
        },
        "tags": []
      },
      "outputs": [
        {
          "name": "stdout",
          "output_type": "stream",
          "text": [
            "[0 0 0 0 1 1 1 1 2 2 2 2 3 3 3 3 4 5 6 6 6 6 7 7 7 7 8 8 8 8 9 9 9 9]\n",
            "[0 1 2 3 0 1 2 3 0 1 2 3 0 1 2 3 5 4 6 7 8 9 6 7 8 9 6 7 8 9 6 7 8 9]\n",
            "[0.        +0.j         0.        +0.j         0.70710677+0.j\n",
            " 0.        +0.70710677j 0.        +0.j         0.        +0.j\n",
            " 0.        +0.70710677j 0.70710677+0.j         0.70710677+0.j\n",
            " 0.        +0.70710677j 0.        +0.j         0.        +0.j\n",
            " 0.        +0.70710677j 0.70710677+0.j         0.        +0.j\n",
            " 0.        +0.j         0.5       +0.86603j    0.5       +0.86603j\n",
            " 0.        +0.j         0.        +0.j         0.70710677+0.j\n",
            " 0.        +0.70710677j 0.        +0.j         0.        +0.j\n",
            " 0.        +0.70710677j 0.70710677+0.j         0.70710677+0.j\n",
            " 0.        +0.70710677j 0.        +0.j         0.        +0.j\n",
            " 0.        +0.70710677j 0.70710677+0.j         0.        +0.j\n",
            " 0.        +0.j        ]\n"
          ]
        }
      ],
      "source": [
        "idx, Si, Sj, Sx, instance_ports = 0, [], [], [], {}\n",
        "batch_shape = ()\n",
        "for name, instance in instances.items():\n",
        "    si, sj, sx, ports_map = scoo(instance)\n",
        "    Si.append(si + idx)\n",
        "    Sj.append(sj + idx)\n",
        "    Sx.append(sx)\n",
        "    if len(sx.shape[:-1]) > len(batch_shape):\n",
        "        batch_shape = sx.shape[:-1]\n",
        "    instance_ports.update({f\"{name},{p}\": i + idx for p, i in ports_map.items()})\n",
        "    idx += len(ports_map)\n",
        "Si = jnp.concatenate(Si, -1)\n",
        "Sj = jnp.concatenate(Sj, -1)\n",
        "Sx = jnp.concatenate([jnp.broadcast_to(sx, (*batch_shape, sx.shape[-1])) for sx in Sx], -1)\n",
        "\n",
        "print(Si)\n",
        "print(Sj)\n",
        "print(Sx)"
      ]
    },
    {
      "cell_type": "markdown",
      "id": "a8edefa1",
      "metadata": {
        "papermill": {
          "duration": 0.011762,
          "end_time": "2023-06-01T21:32:21.718968",
          "exception": false,
          "start_time": "2023-06-01T21:32:21.707206",
          "status": "completed"
        },
        "tags": []
      },
      "source": [
        "note that we also kept track of the `batch_shape`, i.e. the number of independent simulations (usually number of wavelengths). In the example being used here we don't have a batch dimension (all elements of the `SDict` are `0D`):"
      ]
    },
    {
      "cell_type": "code",
      "execution_count": 26,
      "id": "7513759a",
      "metadata": {
        "execution": {
          "iopub.execute_input": "2023-06-01T21:32:21.743832Z",
          "iopub.status.busy": "2023-06-01T21:32:21.743493Z",
          "iopub.status.idle": "2023-06-01T21:32:21.747199Z",
          "shell.execute_reply": "2023-06-01T21:32:21.746733Z"
        },
        "papermill": {
          "duration": 0.018295,
          "end_time": "2023-06-01T21:32:21.749068",
          "exception": false,
          "start_time": "2023-06-01T21:32:21.730773",
          "status": "completed"
        },
        "tags": []
      },
      "outputs": [
        {
          "data": {
            "text/plain": [
              "()"
            ]
          },
          "execution_count": 26,
          "metadata": {},
          "output_type": "execute_result"
        }
      ],
      "source": [
        "batch_shape"
      ]
    },
    {
      "cell_type": "markdown",
      "id": "c63b14d7",
      "metadata": {
        "papermill": {
          "duration": 0.011873,
          "end_time": "2023-06-01T21:32:21.772937",
          "exception": false,
          "start_time": "2023-06-01T21:32:21.761064",
          "status": "completed"
        },
        "tags": []
      },
      "source": [
        "We'll also keep track of the number of columns"
      ]
    },
    {
      "cell_type": "code",
      "execution_count": 27,
      "id": "89000432",
      "metadata": {
        "execution": {
          "iopub.execute_input": "2023-06-01T21:32:21.802122Z",
          "iopub.status.busy": "2023-06-01T21:32:21.801784Z",
          "iopub.status.idle": "2023-06-01T21:32:21.805322Z",
          "shell.execute_reply": "2023-06-01T21:32:21.804933Z"
        },
        "papermill": {
          "duration": 0.021588,
          "end_time": "2023-06-01T21:32:21.806409",
          "exception": false,
          "start_time": "2023-06-01T21:32:21.784821",
          "status": "completed"
        },
        "tags": []
      },
      "outputs": [
        {
          "data": {
            "text/plain": [
              "10"
            ]
          },
          "execution_count": 27,
          "metadata": {},
          "output_type": "execute_result"
        }
      ],
      "source": [
        "n_col = idx\n",
        "n_col"
      ]
    },
    {
      "cell_type": "markdown",
      "id": "7b0f95da",
      "metadata": {
        "papermill": {
          "duration": 0.011871,
          "end_time": "2023-06-01T21:32:21.830246",
          "exception": false,
          "start_time": "2023-06-01T21:32:21.818375",
          "status": "completed"
        },
        "tags": []
      },
      "source": [
        "And we'll need to solve the circuit for each output port, i.e. we need to solve `n_rhs` number of equations:"
      ]
    },
    {
      "cell_type": "code",
      "execution_count": 28,
      "id": "27902354",
      "metadata": {
        "execution": {
          "iopub.execute_input": "2023-06-01T21:32:21.854880Z",
          "iopub.status.busy": "2023-06-01T21:32:21.854637Z",
          "iopub.status.idle": "2023-06-01T21:32:21.858009Z",
          "shell.execute_reply": "2023-06-01T21:32:21.857614Z"
        },
        "papermill": {
          "duration": 0.017235,
          "end_time": "2023-06-01T21:32:21.859170",
          "exception": false,
          "start_time": "2023-06-01T21:32:21.841935",
          "status": "completed"
        },
        "tags": []
      },
      "outputs": [
        {
          "data": {
            "text/plain": [
              "4"
            ]
          },
          "execution_count": 28,
          "metadata": {},
          "output_type": "execute_result"
        }
      ],
      "source": [
        "n_rhs = len(port_map)\n",
        "n_rhs"
      ]
    },
    {
      "cell_type": "markdown",
      "id": "05056b46",
      "metadata": {
        "papermill": {
          "duration": 0.011797,
          "end_time": "2023-06-01T21:32:21.882824",
          "exception": false,
          "start_time": "2023-06-01T21:32:21.871027",
          "status": "completed"
        },
        "tags": []
      },
      "source": [
        "We can represent the internal connection matrix $C_{int}$ as a mapping between port indices:"
      ]
    },
    {
      "cell_type": "code",
      "execution_count": 29,
      "id": "f3ff1fa7",
      "metadata": {
        "execution": {
          "iopub.execute_input": "2023-06-01T21:32:21.907831Z",
          "iopub.status.busy": "2023-06-01T21:32:21.907584Z",
          "iopub.status.idle": "2023-06-01T21:32:21.911253Z",
          "shell.execute_reply": "2023-06-01T21:32:21.910878Z"
        },
        "papermill": {
          "duration": 0.017537,
          "end_time": "2023-06-01T21:32:21.912337",
          "exception": false,
          "start_time": "2023-06-01T21:32:21.894800",
          "status": "completed"
        },
        "tags": []
      },
      "outputs": [
        {
          "data": {
            "text/plain": [
              "{2: 4, 5: 6, 3: 7, 4: 2, 6: 5, 7: 3}"
            ]
          },
          "execution_count": 29,
          "metadata": {},
          "output_type": "execute_result"
        }
      ],
      "source": [
        "Cmap = {int(instance_ports[k]): int(instance_ports[v]) for k, v in connections.items()}\n",
        "Cmap"
      ]
    },
    {
      "cell_type": "markdown",
      "id": "999164af",
      "metadata": {
        "papermill": {
          "duration": 0.012187,
          "end_time": "2023-06-01T21:32:21.936923",
          "exception": false,
          "start_time": "2023-06-01T21:32:21.924736",
          "status": "completed"
        },
        "tags": []
      },
      "source": [
        "Therefore, the COO-representation of this connection matrix can be obtained as follows (note that an array of values Cx is not necessary, all non-zero elements in a connection matrix are 1)"
      ]
    },
    {
      "cell_type": "code",
      "execution_count": 30,
      "id": "9e4f1728",
      "metadata": {
        "execution": {
          "iopub.execute_input": "2023-06-01T21:32:21.962660Z",
          "iopub.status.busy": "2023-06-01T21:32:21.962408Z",
          "iopub.status.idle": "2023-06-01T21:32:21.967105Z",
          "shell.execute_reply": "2023-06-01T21:32:21.966696Z"
        },
        "papermill": {
          "duration": 0.019153,
          "end_time": "2023-06-01T21:32:21.968298",
          "exception": false,
          "start_time": "2023-06-01T21:32:21.949145",
          "status": "completed"
        },
        "tags": []
      },
      "outputs": [
        {
          "name": "stdout",
          "output_type": "stream",
          "text": [
            "[2 5 3 4 6 7]\n",
            "[4 6 7 2 5 3]\n"
          ]
        }
      ],
      "source": [
        "Ci = jnp.array(list(Cmap.keys()), dtype=jnp.int32)\n",
        "Cj = jnp.array(list(Cmap.values()), dtype=jnp.int32)\n",
        "print(Ci)\n",
        "print(Cj)"
      ]
    },
    {
      "cell_type": "markdown",
      "id": "47d5ed60",
      "metadata": {
        "papermill": {
          "duration": 0.01216,
          "end_time": "2023-06-01T21:32:21.992697",
          "exception": false,
          "start_time": "2023-06-01T21:32:21.980537",
          "status": "completed"
        },
        "tags": []
      },
      "source": [
        "We can represent the external connection matrix $C_{ext}$ as a map between internal port indices and external port indices:"
      ]
    },
    {
      "cell_type": "code",
      "execution_count": 31,
      "id": "f56ae166",
      "metadata": {
        "execution": {
          "iopub.execute_input": "2023-06-01T21:32:22.018325Z",
          "iopub.status.busy": "2023-06-01T21:32:22.018060Z",
          "iopub.status.idle": "2023-06-01T21:32:22.021749Z",
          "shell.execute_reply": "2023-06-01T21:32:22.021350Z"
        },
        "papermill": {
          "duration": 0.017835,
          "end_time": "2023-06-01T21:32:22.022870",
          "exception": false,
          "start_time": "2023-06-01T21:32:22.005035",
          "status": "completed"
        },
        "tags": []
      },
      "outputs": [
        {
          "data": {
            "text/plain": [
              "{0: 0, 1: 1, 8: 2, 9: 3}"
            ]
          },
          "execution_count": 31,
          "metadata": {},
          "output_type": "execute_result"
        }
      ],
      "source": [
        "Cextmap = {int(instance_ports[k]): int(port_map[v]) for k, v in inverse_ports.items()}\n",
        "Cextmap"
      ]
    },
    {
      "cell_type": "markdown",
      "id": "2485c01d",
      "metadata": {
        "papermill": {
          "duration": 0.012074,
          "end_time": "2023-06-01T21:32:22.047025",
          "exception": false,
          "start_time": "2023-06-01T21:32:22.034951",
          "status": "completed"
        },
        "tags": []
      },
      "source": [
        "Just as for the internal matrix we can represent this external connection matrix in COO-format:"
      ]
    },
    {
      "cell_type": "code",
      "execution_count": 32,
      "id": "cfb419ac",
      "metadata": {
        "execution": {
          "iopub.execute_input": "2023-06-01T21:32:22.072657Z",
          "iopub.status.busy": "2023-06-01T21:32:22.072418Z",
          "iopub.status.idle": "2023-06-01T21:32:22.100536Z",
          "shell.execute_reply": "2023-06-01T21:32:22.100161Z"
        },
        "papermill": {
          "duration": 0.042477,
          "end_time": "2023-06-01T21:32:22.101749",
          "exception": false,
          "start_time": "2023-06-01T21:32:22.059272",
          "status": "completed"
        },
        "tags": []
      },
      "outputs": [
        {
          "name": "stdout",
          "output_type": "stream",
          "text": [
            "[0 1 8 9]\n",
            "[0 1 2 3]\n"
          ]
        }
      ],
      "source": [
        "Cexti = jnp.stack(list(Cextmap.keys()), 0)\n",
        "Cextj = jnp.stack(list(Cextmap.values()), 0)\n",
        "print(Cexti)\n",
        "print(Cextj)"
      ]
    },
    {
      "cell_type": "markdown",
      "id": "e46d609c",
      "metadata": {
        "papermill": {
          "duration": 0.012237,
          "end_time": "2023-06-01T21:32:22.126578",
          "exception": false,
          "start_time": "2023-06-01T21:32:22.114341",
          "status": "completed"
        },
        "tags": []
      },
      "source": [
        "However, we actually need it as a dense representation:\n",
        "\n",
        "> help needed: can we find a way later on to keep this sparse?"
      ]
    },
    {
      "cell_type": "code",
      "execution_count": 33,
      "id": "25c4ec6e",
      "metadata": {
        "execution": {
          "iopub.execute_input": "2023-06-01T21:32:22.152394Z",
          "iopub.status.busy": "2023-06-01T21:32:22.152158Z",
          "iopub.status.idle": "2023-06-01T21:32:22.278395Z",
          "shell.execute_reply": "2023-06-01T21:32:22.277932Z"
        },
        "papermill": {
          "duration": 0.140739,
          "end_time": "2023-06-01T21:32:22.279833",
          "exception": false,
          "start_time": "2023-06-01T21:32:22.139094",
          "status": "completed"
        },
        "tags": []
      },
      "outputs": [],
      "source": [
        "if JAX_AVAILABLE:\n",
        "    Cext = jnp.zeros((n_col, n_rhs), dtype=complex).at[Cexti, Cextj].set(1.0)\n",
        "    Cext"
      ]
    },
    {
      "cell_type": "markdown",
      "id": "b31cc279",
      "metadata": {
        "papermill": {
          "duration": 0.012579,
          "end_time": "2023-06-01T21:32:22.304901",
          "exception": false,
          "start_time": "2023-06-01T21:32:22.292322",
          "status": "completed"
        },
        "tags": []
      },
      "source": [
        "We'll now calculate the row index `CSi` of $C_{int}S_{bd}$ in COO-format:"
      ]
    },
    {
      "cell_type": "code",
      "execution_count": 34,
      "id": "5b4626f8120fafff",
      "metadata": {
        "execution": {
          "iopub.execute_input": "2023-06-01T21:32:22.330920Z",
          "iopub.status.busy": "2023-06-01T21:32:22.330665Z",
          "iopub.status.idle": "2023-06-01T21:32:22.501913Z",
          "shell.execute_reply": "2023-06-01T21:32:22.501538Z"
        },
        "papermill": {
          "duration": 0.18594,
          "end_time": "2023-06-01T21:32:22.503123",
          "exception": false,
          "start_time": "2023-06-01T21:32:22.317183",
          "status": "completed"
        },
        "tags": []
      },
      "outputs": [
        {
          "data": {
            "text/plain": [
              "Array([4, 4, 4, 4, 7, 7, 7, 7, 2, 6, 5, 5, 5, 5, 3, 3, 3, 3], dtype=int32)"
            ]
          },
          "execution_count": 34,
          "metadata": {},
          "output_type": "execute_result"
        }
      ],
      "source": [
        "# TODO: make this block jittable...\n",
        "Ix = jnp.ones((*batch_shape, n_col))\n",
        "Ii = Ij = jnp.arange(n_col)\n",
        "mask = Cj[None,:] == Si[:, None]\n",
        "CSi = jnp.broadcast_to(Ci[None, :], mask.shape)[mask]\n",
        "CSi"
      ]
    },
    {
      "cell_type": "markdown",
      "id": "a2657582",
      "metadata": {
        "papermill": {
          "duration": 0.012331,
          "end_time": "2023-06-01T21:32:22.528045",
          "exception": false,
          "start_time": "2023-06-01T21:32:22.515714",
          "status": "completed"
        },
        "tags": []
      },
      "source": [
        "> `CSi`: possible jittable alternative? how do we remove the zeros?"
      ]
    },
    {
      "cell_type": "code",
      "execution_count": 35,
      "id": "d4ea2cb5",
      "metadata": {
        "execution": {
          "iopub.execute_input": "2023-06-01T21:32:22.554394Z",
          "iopub.status.busy": "2023-06-01T21:32:22.554056Z",
          "iopub.status.idle": "2023-06-01T21:32:22.593097Z",
          "shell.execute_reply": "2023-06-01T21:32:22.592726Z"
        },
        "papermill": {
          "duration": 0.053868,
          "end_time": "2023-06-01T21:32:22.594312",
          "exception": false,
          "start_time": "2023-06-01T21:32:22.540444",
          "status": "completed"
        },
        "tags": []
      },
      "outputs": [
        {
          "data": {
            "text/plain": [
              "Array([0, 0, 0, 0, 0, 0, 0, 0, 4, 4, 4, 4, 7, 7, 7, 7, 2, 6, 5, 5, 5, 5,\n",
              "       3, 3, 3, 3, 0, 0, 0, 0, 0, 0, 0, 0], dtype=int32)"
            ]
          },
          "execution_count": 35,
          "metadata": {},
          "output_type": "execute_result"
        }
      ],
      "source": [
        "CSi_ = jnp.where(Cj[None, :] == Si[:, None], Ci[None, :], 0).sum(1) # not used\n",
        "CSi_ # not used"
      ]
    },
    {
      "cell_type": "markdown",
      "id": "44fc620e",
      "metadata": {
        "papermill": {
          "duration": 0.012957,
          "end_time": "2023-06-01T21:32:22.619928",
          "exception": false,
          "start_time": "2023-06-01T21:32:22.606971",
          "status": "completed"
        },
        "tags": []
      },
      "source": [
        "The column index `CSj` of $C_{int}S_{bd}$ can more easily be obtained:"
      ]
    },
    {
      "cell_type": "code",
      "execution_count": 36,
      "id": "f71fdd7c",
      "metadata": {
        "execution": {
          "iopub.execute_input": "2023-06-01T21:32:22.646644Z",
          "iopub.status.busy": "2023-06-01T21:32:22.646145Z",
          "iopub.status.idle": "2023-06-01T21:32:22.723459Z",
          "shell.execute_reply": "2023-06-01T21:32:22.723069Z"
        },
        "papermill": {
          "duration": 0.092163,
          "end_time": "2023-06-01T21:32:22.724710",
          "exception": false,
          "start_time": "2023-06-01T21:32:22.632547",
          "status": "completed"
        },
        "tags": []
      },
      "outputs": [
        {
          "data": {
            "text/plain": [
              "Array([0, 1, 2, 3, 0, 1, 2, 3, 5, 4, 6, 7, 8, 9, 6, 7, 8, 9], dtype=int32)"
            ]
          },
          "execution_count": 36,
          "metadata": {},
          "output_type": "execute_result"
        }
      ],
      "source": [
        "mask = (Cj[:, None] == Si[None, :]).any(0)\n",
        "CSj = Sj[mask]\n",
        "CSj"
      ]
    },
    {
      "cell_type": "markdown",
      "id": "99bf7684",
      "metadata": {
        "papermill": {
          "duration": 0.01277,
          "end_time": "2023-06-01T21:32:22.750839",
          "exception": false,
          "start_time": "2023-06-01T21:32:22.738069",
          "status": "completed"
        },
        "tags": []
      },
      "source": [
        "> `CSj`: possible jittable alternative? how do we remove the zeros?"
      ]
    },
    {
      "cell_type": "code",
      "execution_count": 37,
      "id": "ffa7bc82",
      "metadata": {
        "execution": {
          "iopub.execute_input": "2023-06-01T21:32:22.777547Z",
          "iopub.status.busy": "2023-06-01T21:32:22.777287Z",
          "iopub.status.idle": "2023-06-01T21:32:22.799831Z",
          "shell.execute_reply": "2023-06-01T21:32:22.799461Z"
        },
        "papermill": {
          "duration": 0.037469,
          "end_time": "2023-06-01T21:32:22.801020",
          "exception": false,
          "start_time": "2023-06-01T21:32:22.763551",
          "status": "completed"
        },
        "tags": []
      },
      "outputs": [
        {
          "data": {
            "text/plain": [
              "Array([0, 0, 0, 0, 0, 0, 0, 0, 0, 1, 2, 3, 0, 1, 2, 3, 5, 4, 6, 7, 8, 9,\n",
              "       6, 7, 8, 9, 0, 0, 0, 0, 0, 0, 0, 0], dtype=int32)"
            ]
          },
          "execution_count": 37,
          "metadata": {},
          "output_type": "execute_result"
        }
      ],
      "source": [
        "CSj_ = jnp.where(mask, Sj, 0) # not used\n",
        "CSj_ # not used"
      ]
    },
    {
      "cell_type": "markdown",
      "id": "e0fc6d02",
      "metadata": {
        "papermill": {
          "duration": 0.012831,
          "end_time": "2023-06-01T21:32:22.826923",
          "exception": false,
          "start_time": "2023-06-01T21:32:22.814092",
          "status": "completed"
        },
        "tags": []
      },
      "source": [
        "Finally, the values `CSx` of $C_{int}S_{bd}$ can be obtained as follows:"
      ]
    },
    {
      "cell_type": "code",
      "execution_count": 38,
      "id": "59d2e1b2",
      "metadata": {
        "execution": {
          "iopub.execute_input": "2023-06-01T21:32:22.853915Z",
          "iopub.status.busy": "2023-06-01T21:32:22.853572Z",
          "iopub.status.idle": "2023-06-01T21:32:22.877395Z",
          "shell.execute_reply": "2023-06-01T21:32:22.877034Z"
        },
        "papermill": {
          "duration": 0.03879,
          "end_time": "2023-06-01T21:32:22.878608",
          "exception": false,
          "start_time": "2023-06-01T21:32:22.839818",
          "status": "completed"
        },
        "tags": []
      },
      "outputs": [
        {
          "data": {
            "text/plain": [
              "Array([0.70710677+0.j        , 0.        +0.70710677j,\n",
              "       0.        +0.j        , 0.        +0.j        ,\n",
              "       0.        +0.70710677j, 0.70710677+0.j        ,\n",
              "       0.        +0.j        , 0.        +0.j        ,\n",
              "       0.5       +0.86603j   , 0.5       +0.86603j   ,\n",
              "       0.        +0.j        , 0.        +0.j        ,\n",
              "       0.70710677+0.j        , 0.        +0.70710677j,\n",
              "       0.        +0.j        , 0.        +0.j        ,\n",
              "       0.        +0.70710677j, 0.70710677+0.j        ], dtype=complex64)"
            ]
          },
          "execution_count": 38,
          "metadata": {},
          "output_type": "execute_result"
        }
      ],
      "source": [
        "if Sx.ndim > 1:\n",
        "    CSx = Sx[..., mask] # normally this should be enough\n",
        "else:\n",
        "    CSx = Sx[mask] # need separate case bc bug in JAX... see https://github.com/google/jax/issues/9050\n",
        "   \n",
        "CSx"
      ]
    },
    {
      "cell_type": "markdown",
      "id": "c02035bd",
      "metadata": {
        "papermill": {
          "duration": 0.012801,
          "end_time": "2023-06-01T21:32:22.904313",
          "exception": false,
          "start_time": "2023-06-01T21:32:22.891512",
          "status": "completed"
        },
        "tags": []
      },
      "source": [
        "> `CSx`: possible jittable alternative? how do we remove the zeros?"
      ]
    },
    {
      "cell_type": "code",
      "execution_count": 39,
      "id": "107e9e80",
      "metadata": {
        "execution": {
          "iopub.execute_input": "2023-06-01T21:32:22.931078Z",
          "iopub.status.busy": "2023-06-01T21:32:22.930746Z",
          "iopub.status.idle": "2023-06-01T21:32:22.951946Z",
          "shell.execute_reply": "2023-06-01T21:32:22.951593Z"
        },
        "papermill": {
          "duration": 0.036042,
          "end_time": "2023-06-01T21:32:22.953105",
          "exception": false,
          "start_time": "2023-06-01T21:32:22.917063",
          "status": "completed"
        },
        "tags": []
      },
      "outputs": [
        {
          "data": {
            "text/plain": [
              "Array([0.        +0.j        , 0.        +0.j        ,\n",
              "       0.        +0.j        , 0.        +0.j        ,\n",
              "       0.        +0.j        , 0.        +0.j        ,\n",
              "       0.        +0.j        , 0.        +0.j        ,\n",
              "       0.70710677+0.j        , 0.        +0.70710677j,\n",
              "       0.        +0.j        , 0.        +0.j        ,\n",
              "       0.        +0.70710677j, 0.70710677+0.j        ,\n",
              "       0.        +0.j        , 0.        +0.j        ,\n",
              "       0.5       +0.86603j   , 0.5       +0.86603j   ,\n",
              "       0.        +0.j        , 0.        +0.j        ,\n",
              "       0.70710677+0.j        , 0.        +0.70710677j,\n",
              "       0.        +0.j        , 0.        +0.j        ,\n",
              "       0.        +0.70710677j, 0.70710677+0.j        ,\n",
              "       0.        +0.j        , 0.        +0.j        ,\n",
              "       0.        +0.j        , 0.        +0.j        ,\n",
              "       0.        +0.j        , 0.        +0.j        ,\n",
              "       0.        +0.j        , 0.        +0.j        ], dtype=complex64)"
            ]
          },
          "execution_count": 39,
          "metadata": {},
          "output_type": "execute_result"
        }
      ],
      "source": [
        "CSx_ = jnp.where(mask, Sx, 0.0) # not used\n",
        "CSx_ # not used"
      ]
    },
    {
      "cell_type": "markdown",
      "id": "9411edf5",
      "metadata": {
        "papermill": {
          "duration": 0.013033,
          "end_time": "2023-06-01T21:32:22.979440",
          "exception": false,
          "start_time": "2023-06-01T21:32:22.966407",
          "status": "completed"
        },
        "tags": []
      },
      "source": [
        "Now we calculate $\\mathbb{1} - C_{int}S_{bd}$ in an *uncoalesced* way (we might have duplicate indices on the diagonal):\n",
        "\n",
        "> **uncoalesced**: having duplicate index combinations (i, j) in the representation possibly with different corresponding values. This is usually not a problem as in linear operations these values will end up to be summed, usually the behavior you want:"
      ]
    },
    {
      "cell_type": "code",
      "execution_count": 40,
      "id": "53c3f4ab",
      "metadata": {
        "execution": {
          "iopub.execute_input": "2023-06-01T21:32:23.006725Z",
          "iopub.status.busy": "2023-06-01T21:32:23.006261Z",
          "iopub.status.idle": "2023-06-01T21:32:23.061532Z",
          "shell.execute_reply": "2023-06-01T21:32:23.061157Z"
        },
        "papermill": {
          "duration": 0.070392,
          "end_time": "2023-06-01T21:32:23.062757",
          "exception": false,
          "start_time": "2023-06-01T21:32:22.992365",
          "status": "completed"
        },
        "tags": []
      },
      "outputs": [
        {
          "name": "stdout",
          "output_type": "stream",
          "text": [
            "[4 4 4 4 7 7 7 7 2 6 5 5 5 5 3 3 3 3 0 1 2 3 4 5 6 7 8 9]\n",
            "[0 1 2 3 0 1 2 3 5 4 6 7 8 9 6 7 8 9 0 1 2 3 4 5 6 7 8 9]\n",
            "[-0.70710677-0.j         -0.        -0.70710677j -0.        -0.j\n",
            " -0.        -0.j         -0.        -0.70710677j -0.70710677-0.j\n",
            " -0.        -0.j         -0.        -0.j         -0.5       -0.86603j\n",
            " -0.5       -0.86603j    -0.        -0.j         -0.        -0.j\n",
            " -0.70710677-0.j         -0.        -0.70710677j -0.        -0.j\n",
            " -0.        -0.j         -0.        -0.70710677j -0.70710677-0.j\n",
            "  1.        +0.j          1.        +0.j          1.        +0.j\n",
            "  1.        +0.j          1.        +0.j          1.        +0.j\n",
            "  1.        +0.j          1.        +0.j          1.        +0.j\n",
            "  1.        +0.j        ]\n"
          ]
        }
      ],
      "source": [
        "I_CSi = jnp.concatenate([CSi, Ii], -1)\n",
        "I_CSj = jnp.concatenate([CSj, Ij], -1)\n",
        "I_CSx = jnp.concatenate([-CSx, Ix], -1)\n",
        "print(I_CSi)\n",
        "print(I_CSj)\n",
        "print(I_CSx)"
      ]
    },
    {
      "cell_type": "code",
      "execution_count": 41,
      "id": "188e4606",
      "metadata": {
        "execution": {
          "iopub.execute_input": "2023-06-01T21:32:23.090715Z",
          "iopub.status.busy": "2023-06-01T21:32:23.090255Z",
          "iopub.status.idle": "2023-06-01T21:32:23.093350Z",
          "shell.execute_reply": "2023-06-01T21:32:23.093004Z"
        },
        "papermill": {
          "duration": 0.020424,
          "end_time": "2023-06-01T21:32:23.096505",
          "exception": false,
          "start_time": "2023-06-01T21:32:23.076081",
          "status": "completed"
        },
        "tags": []
      },
      "outputs": [
        {
          "name": "stdout",
          "output_type": "stream",
          "text": [
            "10 4\n"
          ]
        }
      ],
      "source": [
        "if JAX_AVAILABLE:\n",
        "    n_col, n_rhs = Cext.shape\n",
        "    print(n_col, n_rhs)"
      ]
    },
    {
      "cell_type": "markdown",
      "id": "e018c515",
      "metadata": {
        "papermill": {
          "duration": 0.013264,
          "end_time": "2023-06-01T21:32:23.123065",
          "exception": false,
          "start_time": "2023-06-01T21:32:23.109801",
          "status": "completed"
        },
        "tags": []
      },
      "source": [
        "The batch shape dimension can generally speaking be anything (in the example here 0D). We need to do the necessary reshapings to make the batch shape 1D:"
      ]
    },
    {
      "cell_type": "code",
      "execution_count": 42,
      "id": "dad259e7",
      "metadata": {
        "execution": {
          "iopub.execute_input": "2023-06-01T21:32:23.151433Z",
          "iopub.status.busy": "2023-06-01T21:32:23.151086Z",
          "iopub.status.idle": "2023-06-01T21:32:23.170117Z",
          "shell.execute_reply": "2023-06-01T21:32:23.169569Z"
        },
        "papermill": {
          "duration": 0.035173,
          "end_time": "2023-06-01T21:32:23.171675",
          "exception": false,
          "start_time": "2023-06-01T21:32:23.136502",
          "status": "completed"
        },
        "tags": []
      },
      "outputs": [
        {
          "name": "stdout",
          "output_type": "stream",
          "text": [
            "1\n"
          ]
        }
      ],
      "source": [
        "n_lhs = jnp.prod(jnp.array(batch_shape, dtype=jnp.int32))\n",
        "print(n_lhs)"
      ]
    },
    {
      "cell_type": "code",
      "execution_count": 43,
      "id": "9cf69da7",
      "metadata": {
        "execution": {
          "iopub.execute_input": "2023-06-01T21:32:23.200594Z",
          "iopub.status.busy": "2023-06-01T21:32:23.200256Z",
          "iopub.status.idle": "2023-06-01T21:32:23.217799Z",
          "shell.execute_reply": "2023-06-01T21:32:23.217320Z"
        },
        "papermill": {
          "duration": 0.033289,
          "end_time": "2023-06-01T21:32:23.219039",
          "exception": false,
          "start_time": "2023-06-01T21:32:23.185750",
          "status": "completed"
        },
        "tags": []
      },
      "outputs": [
        {
          "data": {
            "text/plain": [
              "(1, 34)"
            ]
          },
          "execution_count": 43,
          "metadata": {},
          "output_type": "execute_result"
        }
      ],
      "source": [
        "Sx = Sx.reshape(n_lhs, -1)\n",
        "Sx.shape"
      ]
    },
    {
      "cell_type": "code",
      "execution_count": 44,
      "id": "788294fa",
      "metadata": {
        "execution": {
          "iopub.execute_input": "2023-06-01T21:32:23.247652Z",
          "iopub.status.busy": "2023-06-01T21:32:23.247313Z",
          "iopub.status.idle": "2023-06-01T21:32:23.266379Z",
          "shell.execute_reply": "2023-06-01T21:32:23.265876Z"
        },
        "papermill": {
          "duration": 0.035041,
          "end_time": "2023-06-01T21:32:23.268017",
          "exception": false,
          "start_time": "2023-06-01T21:32:23.232976",
          "status": "completed"
        },
        "tags": []
      },
      "outputs": [
        {
          "data": {
            "text/plain": [
              "(1, 28)"
            ]
          },
          "execution_count": 44,
          "metadata": {},
          "output_type": "execute_result"
        }
      ],
      "source": [
        "I_CSx = I_CSx.reshape(n_lhs, -1)\n",
        "I_CSx.shape"
      ]
    },
    {
      "cell_type": "markdown",
      "id": "ec741031",
      "metadata": {
        "papermill": {
          "duration": 0.013599,
          "end_time": "2023-06-01T21:32:23.295600",
          "exception": false,
          "start_time": "2023-06-01T21:32:23.282001",
          "status": "completed"
        },
        "tags": []
      },
      "source": [
        "We're finally ready to do the most important part of the calculation, which we conveniently leave to `klujax` and `SuiteSparse`:"
      ]
    },
    {
      "cell_type": "code",
      "execution_count": 45,
      "id": "9c1d8644",
      "metadata": {
        "execution": {
          "iopub.execute_input": "2023-06-01T21:32:23.324130Z",
          "iopub.status.busy": "2023-06-01T21:32:23.323780Z",
          "iopub.status.idle": "2023-06-01T21:32:23.330905Z",
          "shell.execute_reply": "2023-06-01T21:32:23.330436Z"
        },
        "papermill": {
          "duration": 0.022952,
          "end_time": "2023-06-01T21:32:23.332141",
          "exception": false,
          "start_time": "2023-06-01T21:32:23.309189",
          "status": "completed"
        },
        "tags": []
      },
      "outputs": [],
      "source": [
        "if klujax is not None:\n",
        "    inv_I_CS_Cext = solve_klu(I_CSi, I_CSj, I_CSx, Cext)\n",
        "else:\n",
        "    inv_I_CS_Cext = jnp.array([[[1.0 + 0.0j, 0.0 + 0.0j, 0.0 + 0.0j, 0.0 + 0.0j], [0.0 + 0.0j, 1.0 + 0.0j, 0.0 + 0.0j, 0.0 + 0.0j], [ -0.0 + 0.0j, -0.0 + 0.0j, 0.35355339 + 0.61237569j, -0.61237569 + 0.35355339j, ], [0.0 + 0.0j, 0.0 + 0.0j, 0.0 + 0.70710678j, 0.70710678 + 0.0j], [0.70710678 - 0.0j, -0.0 + 0.70710678j, -0.0 - 0.0j, -0.0 - 0.0j], [-0.0 - 0.0j, -0.0 - 0.0j, 0.70710678 - 0.0j, -0.0 + 0.70710678j], [ 0.35355339 + 0.61237569j, -0.61237569 + 0.35355339j, -0.0 + 0.0j, -0.0 + 0.0j, ], [0.0 + 0.70710678j, 0.70710678 + 0.0j, 0.0 + 0.0j, 0.0 + 0.0j], [0.0 + 0.0j, 0.0 + 0.0j, 1.0 + 0.0j, 0.0 + 0.0j], [0.0 + 0.0j, 0.0 + 0.0j, 0.0 + 0.0j, 1.0 + 0.0j]]])"
      ]
    },
    {
      "cell_type": "markdown",
      "id": "e51487df",
      "metadata": {
        "papermill": {
          "duration": 0.013421,
          "end_time": "2023-06-01T21:32:23.359434",
          "exception": false,
          "start_time": "2023-06-01T21:32:23.346013",
          "status": "completed"
        },
        "tags": []
      },
      "source": [
        "one more sparse multiplication:"
      ]
    },
    {
      "cell_type": "code",
      "execution_count": 46,
      "id": "cccda072",
      "metadata": {
        "execution": {
          "iopub.execute_input": "2023-06-01T21:32:23.387657Z",
          "iopub.status.busy": "2023-06-01T21:32:23.387305Z",
          "iopub.status.idle": "2023-06-01T21:32:23.393529Z",
          "shell.execute_reply": "2023-06-01T21:32:23.393037Z"
        },
        "papermill": {
          "duration": 0.02213,
          "end_time": "2023-06-01T21:32:23.394979",
          "exception": false,
          "start_time": "2023-06-01T21:32:23.372849",
          "status": "completed"
        },
        "tags": []
      },
      "outputs": [],
      "source": [
        "if klujax is not None:\n",
        "    S_inv_I_CS_Cext = mul_coo(Si, Sj, Sx, inv_I_CS_Cext)\n",
        "else:\n",
        "    S_inv_I_CS_Cext = jnp.array([[[0.0 + 0.0j, 0.0 + 0.0j, -0.25 + 0.433015j, -0.433015 + 0.75j], [0.0 + 0.0j, 0.0 + 0.0j, -0.433015 + 0.75j, 0.25 - 0.433015j], [0.70710678 + 0.0j, 0.0 + 0.70710678j, 0.0 + 0.0j, 0.0 + 0.0j], [0.0 + 0.70710678j, 0.70710678 + 0.0j, 0.0 + 0.0j, 0.0 + 0.0j], [ 0.0 + 0.0j, 0.0 + 0.0j, 0.35355339 + 0.61237569j, -0.61237569 + 0.35355339j, ], [ 0.35355339 + 0.61237569j, -0.61237569 + 0.35355339j, 0.0 + 0.0j, 0.0 + 0.0j, ], [0.0 + 0.0j, 0.0 + 0.0j, 0.70710678 + 0.0j, 0.0 + 0.70710678j], [0.0 + 0.0j, 0.0 + 0.0j, 0.0 + 0.70710678j, 0.70710678 + 0.0j], [-0.25 + 0.433015j, -0.433015 + 0.75j, 0.0 + 0.0j, 0.0 + 0.0j], [-0.433015 + 0.75j, 0.25 - 0.433015j, 0.0 + 0.0j, 0.0 + 0.0j]]])"
      ]
    },
    {
      "cell_type": "markdown",
      "id": "627a98f7",
      "metadata": {
        "papermill": {
          "duration": 0.013552,
          "end_time": "2023-06-01T21:32:23.422267",
          "exception": false,
          "start_time": "2023-06-01T21:32:23.408715",
          "status": "completed"
        },
        "tags": []
      },
      "source": [
        "And one more $C_{ext}$ multiplication which we do by clever indexing:"
      ]
    },
    {
      "cell_type": "code",
      "execution_count": 47,
      "id": "12ff877c",
      "metadata": {
        "execution": {
          "iopub.execute_input": "2023-06-01T21:32:23.450606Z",
          "iopub.status.busy": "2023-06-01T21:32:23.450253Z",
          "iopub.status.idle": "2023-06-01T21:32:23.458291Z",
          "shell.execute_reply": "2023-06-01T21:32:23.457785Z"
        },
        "papermill": {
          "duration": 0.023813,
          "end_time": "2023-06-01T21:32:23.459678",
          "exception": false,
          "start_time": "2023-06-01T21:32:23.435865",
          "status": "completed"
        },
        "tags": []
      },
      "outputs": [
        {
          "data": {
            "text/plain": [
              "Array([[[ 0.      +0.j      ,  0.      +0.j      , -0.25    +0.433015j,\n",
              "         -0.433015+0.75j    ],\n",
              "        [ 0.      +0.j      ,  0.      +0.j      , -0.433015+0.75j    ,\n",
              "          0.25    -0.433015j],\n",
              "        [-0.25    +0.433015j, -0.433015+0.75j    ,  0.      +0.j      ,\n",
              "          0.      +0.j      ],\n",
              "        [-0.433015+0.75j    ,  0.25    -0.433015j,  0.      +0.j      ,\n",
              "          0.      +0.j      ]]], dtype=complex64)"
            ]
          },
          "execution_count": 47,
          "metadata": {},
          "output_type": "execute_result"
        }
      ],
      "source": [
        "if klujax is not None:\n",
        "    CextT_S_inv_I_CS_Cext = S_inv_I_CS_Cext[..., Cexti, :][..., :, Cextj]\n",
        "else:\n",
        "    CextT_S_inv_I_CS_Cext = jnp.array([[[0.0 + 0.0j, 0.0 + 0.0j, -0.25 + 0.433015j, -0.433015 + 0.75j], [0.0 + 0.0j, 0.0 + 0.0j, -0.433015 + 0.75j, 0.25 - 0.433015j], [-0.25 + 0.433015j, -0.433015 + 0.75j, 0.0 + 0.0j, 0.0 + 0.0j], [-0.433015 + 0.75j, 0.25 - 0.433015j, 0.0 + 0.0j, 0.0 + 0.0j]]])\n",
        "CextT_S_inv_I_CS_Cext"
      ]
    },
    {
      "cell_type": "markdown",
      "id": "3e1c75b2",
      "metadata": {
        "papermill": {
          "duration": 0.013636,
          "end_time": "2023-06-01T21:32:23.487074",
          "exception": false,
          "start_time": "2023-06-01T21:32:23.473438",
          "status": "completed"
        },
        "tags": []
      },
      "source": [
        "That's it! We found the S-matrix of the circuit. We just need to reshape the batch dimension back into the matrix:"
      ]
    },
    {
      "cell_type": "code",
      "execution_count": 48,
      "id": "cbf962af",
      "metadata": {
        "execution": {
          "iopub.execute_input": "2023-06-01T21:32:23.516448Z",
          "iopub.status.busy": "2023-06-01T21:32:23.516083Z",
          "iopub.status.idle": "2023-06-01T21:32:23.535163Z",
          "shell.execute_reply": "2023-06-01T21:32:23.534663Z"
        },
        "papermill": {
          "duration": 0.035894,
          "end_time": "2023-06-01T21:32:23.536699",
          "exception": false,
          "start_time": "2023-06-01T21:32:23.500805",
          "status": "completed"
        },
        "tags": []
      },
      "outputs": [
        {
          "data": {
            "text/plain": [
              "Array([[ 0.      +0.j      ,  0.      +0.j      , -0.25    +0.433015j,\n",
              "        -0.433015+0.75j    ],\n",
              "       [ 0.      +0.j      ,  0.      +0.j      , -0.433015+0.75j    ,\n",
              "         0.25    -0.433015j],\n",
              "       [-0.25    +0.433015j, -0.433015+0.75j    ,  0.      +0.j      ,\n",
              "         0.      +0.j      ],\n",
              "       [-0.433015+0.75j    ,  0.25    -0.433015j,  0.      +0.j      ,\n",
              "         0.      +0.j      ]], dtype=complex64)"
            ]
          },
          "execution_count": 48,
          "metadata": {},
          "output_type": "execute_result"
        }
      ],
      "source": [
        "_, n, _ = CextT_S_inv_I_CS_Cext.shape\n",
        "S = CextT_S_inv_I_CS_Cext.reshape(*batch_shape, n, n)\n",
        "S"
      ]
    },
    {
      "cell_type": "markdown",
      "id": "1f6dea4c",
      "metadata": {
        "papermill": {
          "duration": 0.013871,
          "end_time": "2023-06-01T21:32:23.564884",
          "exception": false,
          "start_time": "2023-06-01T21:32:23.551013",
          "status": "completed"
        },
        "tags": []
      },
      "source": [
        "Oh and to complete the `SDense` representation we need to specify the port map as well:"
      ]
    },
    {
      "cell_type": "code",
      "execution_count": 49,
      "id": "21098a45",
      "metadata": {
        "execution": {
          "iopub.execute_input": "2023-06-01T21:32:23.593899Z",
          "iopub.status.busy": "2023-06-01T21:32:23.593563Z",
          "iopub.status.idle": "2023-06-01T21:32:23.597184Z",
          "shell.execute_reply": "2023-06-01T21:32:23.596743Z"
        },
        "papermill": {
          "duration": 0.020361,
          "end_time": "2023-06-01T21:32:23.599246",
          "exception": false,
          "start_time": "2023-06-01T21:32:23.578885",
          "status": "completed"
        },
        "tags": []
      },
      "outputs": [
        {
          "data": {
            "text/plain": [
              "{'in0': 0, 'in1': 1, 'out0': 2, 'out1': 3}"
            ]
          },
          "execution_count": 49,
          "metadata": {},
          "output_type": "execute_result"
        }
      ],
      "source": [
        "port_map"
      ]
    },
    {
      "cell_type": "markdown",
      "id": "0cfee3cf",
      "metadata": {
        "papermill": {
          "duration": 0.013669,
          "end_time": "2023-06-01T21:32:23.626669",
          "exception": false,
          "start_time": "2023-06-01T21:32:23.613000",
          "status": "completed"
        },
        "tags": []
      },
      "source": [
        "## Algorithm Improvements"
      ]
    },
    {
      "cell_type": "markdown",
      "id": "26b70270",
      "metadata": {
        "papermill": {
          "duration": 0.01396,
          "end_time": "2023-06-01T21:32:23.654400",
          "exception": false,
          "start_time": "2023-06-01T21:32:23.640440",
          "status": "completed"
        },
        "tags": []
      },
      "source": [
        "This algorithm is \n",
        "\n",
        "* very fast for large circuits \ud83d\ude42\n",
        "\n",
        "This algorithm is however:\n",
        "\n",
        "* **not** jittable \ud83d\ude25\n",
        "* **not** differentiable \ud83d\ude25\n",
        "* **not** GPU-compatible \ud83d\ude42\n",
        "\n",
        "There are probably still plenty of improvements possible for this algorithm:\n",
        "\n",
        "* **\u00bf** make it jittable **?**\n",
        "* **\u00bf** make it differentiable (requires making klujax differentiable first) **?**\n",
        "* **\u00bf** make it GPU compatible (requires making suitesparse GPU compatible... probably not gonna happen)**?**\n",
        "\n",
        "Bottom line is... Do you know how to improve this algorithm or how to implement the above suggestions? Please open a Merge Request!"
      ]
    },
    {
      "cell_type": "markdown",
      "id": "7578c842-033b-4d1f-a84f-e5ad486d4a88",
      "metadata": {
        "papermill": {
          "duration": 0.013741,
          "end_time": "2023-06-01T21:32:23.682119",
          "exception": false,
          "start_time": "2023-06-01T21:32:23.668378",
          "status": "completed"
        },
        "tags": []
      },
      "source": [
        "## Debug"
      ]
    },
    {
      "cell_type": "code",
      "execution_count": 50,
      "id": "8764ab09-12b9-4b3d-9d83-9a0872924077",
      "metadata": {
        "execution": {
          "iopub.execute_input": "2023-06-01T21:32:23.711555Z",
          "iopub.status.busy": "2023-06-01T21:32:23.711197Z",
          "iopub.status.idle": "2023-06-01T21:32:23.720506Z",
          "shell.execute_reply": "2023-06-01T21:32:23.720058Z"
        },
        "papermill": {
          "duration": 0.026025,
          "end_time": "2023-06-01T21:32:23.722127",
          "exception": false,
          "start_time": "2023-06-01T21:32:23.696102",
          "status": "completed"
        },
        "tags": []
      },
      "outputs": [],
      "source": [
        "instances = {\n",
        "    \"lft\": (\n",
        "        jnp.array(\n",
        "            [\n",
        "                [\n",
        "                    5.19688622e-06 - 1.19777138e-05j,\n",
        "                    6.30595625e-16 - 1.48061189e-17j,\n",
        "                    -3.38542541e-01 - 6.15711852e-01j,\n",
        "                    5.80662654e-03 - 1.11068866e-02j,\n",
        "                    -3.38542542e-01 - 6.15711852e-01j,\n",
        "                    -5.80662660e-03 + 1.11068866e-02j,\n",
        "                ],\n",
        "                [\n",
        "                    8.59445189e-16 - 8.29783014e-16j,\n",
        "                    -2.08640825e-06 + 8.17315497e-06j,\n",
        "                    2.03847666e-03 - 2.10649131e-03j,\n",
        "                    5.30509661e-01 + 4.62504708e-01j,\n",
        "                    -2.03847666e-03 + 2.10649129e-03j,\n",
        "                    5.30509662e-01 + 4.62504708e-01j,\n",
        "                ],\n",
        "                [\n",
        "                    -3.38542541e-01 - 6.15711852e-01j,\n",
        "                    2.03847660e-03 - 2.10649129e-03j,\n",
        "                    7.60088070e-06 + 9.07340423e-07j,\n",
        "                    2.79292426e-09 + 2.79093547e-07j,\n",
        "                    5.07842364e-06 + 2.16385350e-06j,\n",
        "                    -6.84244232e-08 - 5.00486817e-07j,\n",
        "                ],\n",
        "                [\n",
        "                    5.80662707e-03 - 1.11068869e-02j,\n",
        "                    5.30509661e-01 + 4.62504708e-01j,\n",
        "                    2.79291895e-09 + 2.79093540e-07j,\n",
        "                    -4.55645798e-06 + 1.50570403e-06j,\n",
        "                    6.84244128e-08 + 5.00486817e-07j,\n",
        "                    -3.55812153e-06 + 4.59781091e-07j,\n",
        "                ],\n",
        "                [\n",
        "                    -3.38542541e-01 - 6.15711852e-01j,\n",
        "                    -2.03847672e-03 + 2.10649131e-03j,\n",
        "                    5.07842364e-06 + 2.16385349e-06j,\n",
        "                    6.84244230e-08 + 5.00486816e-07j,\n",
        "                    7.60088070e-06 + 9.07340425e-07j,\n",
        "                    -2.79292467e-09 - 2.79093547e-07j,\n",
        "                ],\n",
        "                [\n",
        "                    -5.80662607e-03 + 1.11068863e-02j,\n",
        "                    5.30509662e-01 + 4.62504708e-01j,\n",
        "                    -6.84244296e-08 - 5.00486825e-07j,\n",
        "                    -3.55812153e-06 + 4.59781093e-07j,\n",
        "                    -2.79293217e-09 - 2.79093547e-07j,\n",
        "                    -4.55645798e-06 + 1.50570403e-06j,\n",
        "                ],\n",
        "            ]\n",
        "        ),\n",
        "        {\"in0\": 0, \"out0\": 2, \"out1\": 4},\n",
        "    ),\n",
        "    \"top\": {(\"in0\", \"out0\"): -0.99477 - 0.10211j, (\"out0\", \"in0\"): -0.99477 - 0.10211j},\n",
        "    \"rgt\": {\n",
        "        (\"in0\", \"out0\"): 0.7071067811865476,\n",
        "        (\"in0\", \"out1\"): 0.7071067811865476j,\n",
        "        (\"in1\", \"out0\"): 0.7071067811865476j,\n",
        "        (\"in1\", \"out1\"): 0.7071067811865476,\n",
        "        (\"out0\", \"in0\"): 0.7071067811865476,\n",
        "        (\"out1\", \"in0\"): 0.7071067811865476j,\n",
        "        (\"out0\", \"in1\"): 0.7071067811865476j,\n",
        "        (\"out1\", \"in1\"): 0.7071067811865476,\n",
        "    },\n",
        "}\n",
        "connections = {\"lft,out0\": \"rgt,in0\", \"lft,out1\": \"top,in0\", \"top,out0\": \"rgt,in1\"}\n",
        "ports = {\"in0\": \"lft,in0\", \"out0\": \"rgt,out0\"}"
      ]
    },
    {
      "cell_type": "code",
      "execution_count": 51,
      "id": "20de2839-e848-49a4-b70a-bf192744c344",
      "metadata": {
        "execution": {
          "iopub.execute_input": "2023-06-01T21:32:23.751455Z",
          "iopub.status.busy": "2023-06-01T21:32:23.751117Z",
          "iopub.status.idle": "2023-06-01T21:32:23.910560Z",
          "shell.execute_reply": "2023-06-01T21:32:23.910032Z"
        },
        "papermill": {
          "duration": 0.17592,
          "end_time": "2023-06-01T21:32:23.912115",
          "exception": false,
          "start_time": "2023-06-01T21:32:23.736195",
          "status": "completed"
        },
        "tags": []
      },
      "outputs": [
        {
          "data": {
            "text/plain": [
              "{('in0', 'in0'): Array(5.1968864e-06-1.1977714e-05j, dtype=complex64),\n",
              " ('in0', 'out0'): Array(-0.6969264-0.24169631j, dtype=complex64),\n",
              " ('out0', 'in0'): Array(-0.6969264-0.24169631j, dtype=complex64),\n",
              " ('out0', 'out0'): Array(2.842532e-06-5.5935166e-06j, dtype=complex64)}"
            ]
          },
          "execution_count": 51,
          "metadata": {},
          "output_type": "execute_result"
        }
      ],
      "source": [
        "sax.sdict(evaluate_circuit(instances, connections, ports))"
      ]
    },
    {
      "cell_type": "code",
      "execution_count": 52,
      "id": "fc7b3ac4-4599-4748-a4b8-ec0a2e3927c8",
      "metadata": {
        "execution": {
          "iopub.execute_input": "2023-06-01T21:32:23.941811Z",
          "iopub.status.busy": "2023-06-01T21:32:23.941493Z",
          "iopub.status.idle": "2023-06-01T21:32:24.028678Z",
          "shell.execute_reply": "2023-06-01T21:32:24.028288Z"
        },
        "papermill": {
          "duration": 0.103511,
          "end_time": "2023-06-01T21:32:24.030083",
          "exception": false,
          "start_time": "2023-06-01T21:32:23.926572",
          "status": "completed"
        },
        "tags": []
      },
      "outputs": [
        {
          "data": {
            "text/plain": [
              "{('in0', 'in0'): Array(5.1968864e-06-1.1977714e-05j, dtype=complex64),\n",
              " ('in0', 'out0'): Array(-0.6969264-0.24169631j, dtype=complex64),\n",
              " ('out0', 'in0'): Array(-0.6969264-0.24169631j, dtype=complex64),\n",
              " ('out0', 'out0'): Array(2.842532e-06-5.5935166e-06j, dtype=complex64)}"
            ]
          },
          "execution_count": 52,
          "metadata": {},
          "output_type": "execute_result"
        }
      ],
      "source": [
        "sax.sdict(evaluate_circuit_klu(instances, connections, ports))"
      ]
    }
  ],
  "metadata": {
    "kernelspec": {
      "display_name": "octans",
      "language": "python",
      "name": "octans"
    },
    "language_info": {
      "codemirror_mode": {
        "name": "ipython",
        "version": 3
      },
      "file_extension": ".py",
      "mimetype": "text/x-python",
      "name": "python",
      "nbconvert_exporter": "python",
      "pygments_lexer": "ipython3",
      "version": "3.11.3"
    },
    "papermill": {
      "default_parameters": {},
      "duration": 8.65619,
      "end_time": "2023-06-01T21:32:24.662247",
      "environment_variables": {},
      "exception": null,
      "input_path": "./nbs/08b_backends_klu.ipynb",
      "output_path": "./nbs/08b_backends_klu.ipynb",
      "parameters": {},
      "start_time": "2023-06-01T21:32:16.006057",
      "version": "2.3.4"
    }
  },
  "nbformat": 4,
  "nbformat_minor": 5
}