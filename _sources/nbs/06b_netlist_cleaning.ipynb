{
  "cells": [
    {
      "cell_type": "code",
      "execution_count": 1,
      "id": "b7d0b5867e68c3a3",
      "metadata": {
        "execution": {
          "iopub.execute_input": "2023-07-01T03:32:54.633938Z",
          "iopub.status.busy": "2023-07-01T03:32:54.633502Z",
          "iopub.status.idle": "2023-07-01T03:32:54.637314Z",
          "shell.execute_reply": "2023-07-01T03:32:54.636807Z"
        },
        "papermill": {
          "duration": 0.008717,
          "end_time": "2023-07-01T03:32:54.638720",
          "exception": false,
          "start_time": "2023-07-01T03:32:54.630003",
          "status": "completed"
        },
        "tags": [
          "remove-cell"
        ]
      },
      "outputs": [],
      "source": []
    },
    {
      "cell_type": "markdown",
      "id": "160321f7-d133-4bb8-8015-b5fc48251bb0",
      "metadata": {
        "papermill": {
          "duration": 0.0019,
          "end_time": "2023-07-01T03:32:54.642858",
          "exception": false,
          "start_time": "2023-07-01T03:32:54.640958",
          "status": "completed"
        },
        "tags": []
      },
      "source": [
        "# Netlist Cleaning\n",
        "\n",
        "> Graph Analysis and cleaning of a SAX Netlist"
      ]
    },
    {
      "cell_type": "code",
      "execution_count": 2,
      "id": "d45140f860210973",
      "metadata": {
        "execution": {
          "iopub.execute_input": "2023-07-01T03:32:54.647321Z",
          "iopub.status.busy": "2023-07-01T03:32:54.647142Z",
          "iopub.status.idle": "2023-07-01T03:32:55.450355Z",
          "shell.execute_reply": "2023-07-01T03:32:55.449810Z"
        },
        "papermill": {
          "duration": 0.807326,
          "end_time": "2023-07-01T03:32:55.451962",
          "exception": false,
          "start_time": "2023-07-01T03:32:54.644636",
          "status": "completed"
        },
        "tags": [
          "hide-input"
        ]
      },
      "outputs": [],
      "source": [
        "from collections import defaultdict\n",
        "from typing import Dict, List\n",
        "\n",
        "from natsort import natsorted\n",
        "from sax.backends.additive import graph_edges\n",
        "from sax.typing_ import SDict\n",
        "import networkx as nx\n",
        "\n",
        "try:\n",
        "    import jax.numpy as jnp\n",
        "    JAX_AVAILABLE = True\n",
        "except ImportError:\n",
        "    import numpy as jnp\n",
        "    JAX_AVAILABLE = False"
      ]
    },
    {
      "cell_type": "code",
      "execution_count": 3,
      "id": "ca2dba2e-19a6-4b21-9b94-ea512df17f25",
      "metadata": {
        "execution": {
          "iopub.execute_input": "2023-07-01T03:32:55.458386Z",
          "iopub.status.busy": "2023-07-01T03:32:55.457327Z",
          "iopub.status.idle": "2023-07-01T03:32:55.462186Z",
          "shell.execute_reply": "2023-07-01T03:32:55.461746Z"
        },
        "papermill": {
          "duration": 0.009424,
          "end_time": "2023-07-01T03:32:55.463525",
          "exception": false,
          "start_time": "2023-07-01T03:32:55.454101",
          "status": "completed"
        },
        "tags": []
      },
      "outputs": [],
      "source": [
        "netlist = {\n",
        "    \"instances\": {\n",
        "        \"lft\": \"coupler\",\n",
        "        \"top\": \"straight\",\n",
        "        \"btm\": \"straight\",\n",
        "        \"rgt\": \"coupler\",\n",
        "        \"lft_\": \"coupler\",\n",
        "        \"top_\": \"straight\",\n",
        "        \"btm_\": \"straight\",\n",
        "        \"rgt_\": \"coupler\",\n",
        "    },\n",
        "    \"connections\": {\n",
        "        \"lft,out0\": \"btm,in0\",\n",
        "        \"btm,out0\": \"rgt,in0\",\n",
        "        \"lft,out1\": \"top,in0\",\n",
        "        \"top,out0\": \"rgt,in1\",\n",
        "        \"lft_,out0\": \"btm_,in0\",\n",
        "        \"btm_,out0\": \"rgt_,in0\",\n",
        "        \"lft_,out1\": \"top_,in0\",\n",
        "        \"top_,out0\": \"rgt_,in1\",\n",
        "    },\n",
        "    \"ports\": {\n",
        "        \"in0\": \"lft,in0\",\n",
        "        \"in1\": \"lft,in1\",\n",
        "        \"out0\": \"rgt,out0\",\n",
        "        \"out1\": \"rgt,out1\",\n",
        "    },\n",
        "}"
      ]
    },
    {
      "cell_type": "code",
      "execution_count": 4,
      "id": "443995f67e2bd2c7",
      "metadata": {
        "execution": {
          "iopub.execute_input": "2023-07-01T03:32:55.468677Z",
          "iopub.status.busy": "2023-07-01T03:32:55.468342Z",
          "iopub.status.idle": "2023-07-01T03:32:55.474444Z",
          "shell.execute_reply": "2023-07-01T03:32:55.472508Z"
        },
        "papermill": {
          "duration": 0.010285,
          "end_time": "2023-07-01T03:32:55.475747",
          "exception": false,
          "start_time": "2023-07-01T03:32:55.465462",
          "status": "completed"
        },
        "tags": [
          "hide-input"
        ]
      },
      "outputs": [],
      "source": [
        "def _get_connectivity_netlist(netlist):\n",
        "    connectivity_netlist = {\n",
        "        \"instances\": natsorted(netlist[\"instances\"]),\n",
        "        \"connections\": [\n",
        "            (c1.split(\",\")[0], c2.split(\",\")[0])\n",
        "            for c1, c2 in netlist[\"connections\"].items()\n",
        "        ],\n",
        "        \"ports\": [(p, c.split(\",\")[0]) for p, c in netlist[\"ports\"].items()],\n",
        "    }\n",
        "    return connectivity_netlist"
      ]
    },
    {
      "cell_type": "code",
      "execution_count": 5,
      "id": "cd6086aff0bf3042",
      "metadata": {
        "execution": {
          "iopub.execute_input": "2023-07-01T03:32:55.480399Z",
          "iopub.status.busy": "2023-07-01T03:32:55.480215Z",
          "iopub.status.idle": "2023-07-01T03:32:55.483651Z",
          "shell.execute_reply": "2023-07-01T03:32:55.483202Z"
        },
        "papermill": {
          "duration": 0.007687,
          "end_time": "2023-07-01T03:32:55.485320",
          "exception": false,
          "start_time": "2023-07-01T03:32:55.477633",
          "status": "completed"
        },
        "tags": [
          "hide-input"
        ]
      },
      "outputs": [],
      "source": [
        "def _get_connectivity_graph(netlist):\n",
        "    graph = nx.Graph()\n",
        "    connectivity_netlist = _get_connectivity_netlist(netlist)\n",
        "    for name in connectivity_netlist[\"instances\"]:\n",
        "        graph.add_node(name)\n",
        "    for c1, c2 in connectivity_netlist[\"connections\"]:\n",
        "        graph.add_edge(c1, c2)\n",
        "    for c1, c2 in connectivity_netlist[\"ports\"]:\n",
        "        graph.add_edge(c1, c2)\n",
        "    return graph"
      ]
    },
    {
      "cell_type": "code",
      "execution_count": 6,
      "id": "3be6bc3f-c9b5-40c1-b7d2-d0bc5696b17d",
      "metadata": {
        "execution": {
          "iopub.execute_input": "2023-07-01T03:32:55.490078Z",
          "iopub.status.busy": "2023-07-01T03:32:55.489898Z",
          "iopub.status.idle": "2023-07-01T03:32:55.992464Z",
          "shell.execute_reply": "2023-07-01T03:32:55.991939Z"
        },
        "papermill": {
          "duration": 0.506623,
          "end_time": "2023-07-01T03:32:55.993871",
          "exception": false,
          "start_time": "2023-07-01T03:32:55.487248",
          "status": "completed"
        },
        "tags": []
      },
      "outputs": [
        {
          "data": {
            "image/png": "[encoded data removed]",
            "text/plain": [
              "<Figure size 640x480 with 1 Axes>"
            ]
          },
          "metadata": {},
          "output_type": "display_data"
        }
      ],
      "source": [
        "graph = _get_connectivity_graph(netlist)\n",
        "nx.draw(graph, with_labels=True)"
      ]
    },
    {
      "cell_type": "code",
      "execution_count": 7,
      "id": "0c170b2b57fba137",
      "metadata": {
        "execution": {
          "iopub.execute_input": "2023-07-01T03:32:55.999931Z",
          "iopub.status.busy": "2023-07-01T03:32:55.999600Z",
          "iopub.status.idle": "2023-07-01T03:32:56.003006Z",
          "shell.execute_reply": "2023-07-01T03:32:56.002522Z"
        },
        "papermill": {
          "duration": 0.008315,
          "end_time": "2023-07-01T03:32:56.004770",
          "exception": false,
          "start_time": "2023-07-01T03:32:55.996455",
          "status": "completed"
        },
        "tags": [
          "hide-input"
        ]
      },
      "outputs": [],
      "source": [
        "def _get_nodes_to_remove(graph, netlist):\n",
        "    nodes = set()\n",
        "    for port in netlist[\"ports\"]:\n",
        "        nodes |= nx.descendants(graph, port)\n",
        "    nodes_to_remove = set(graph.nodes) - nodes\n",
        "    return list(nodes_to_remove)"
      ]
    },
    {
      "cell_type": "code",
      "execution_count": 8,
      "id": "15d20c02-06fa-4586-8ba3-3cbfa63f8e14",
      "metadata": {
        "execution": {
          "iopub.execute_input": "2023-07-01T03:32:56.010402Z",
          "iopub.status.busy": "2023-07-01T03:32:56.010197Z",
          "iopub.status.idle": "2023-07-01T03:32:56.124209Z",
          "shell.execute_reply": "2023-07-01T03:32:56.123730Z"
        },
        "papermill": {
          "duration": 0.118412,
          "end_time": "2023-07-01T03:32:56.125577",
          "exception": false,
          "start_time": "2023-07-01T03:32:56.007165",
          "status": "completed"
        },
        "tags": []
      },
      "outputs": [
        {
          "data": {
            "image/png": "[encoded data removed]",
            "text/plain": [
              "<Figure size 640x480 with 1 Axes>"
            ]
          },
          "metadata": {},
          "output_type": "display_data"
        }
      ],
      "source": [
        "graph.remove_nodes_from(_get_nodes_to_remove(graph, netlist))\n",
        "nx.draw(graph, with_labels=True)"
      ]
    },
    {
      "cell_type": "code",
      "execution_count": 9,
      "id": "522c6f6172d24c39",
      "metadata": {
        "execution": {
          "iopub.execute_input": "2023-07-01T03:32:56.132957Z",
          "iopub.status.busy": "2023-07-01T03:32:56.132610Z",
          "iopub.status.idle": "2023-07-01T03:32:56.138781Z",
          "shell.execute_reply": "2023-07-01T03:32:56.138324Z"
        },
        "papermill": {
          "duration": 0.011433,
          "end_time": "2023-07-01T03:32:56.140079",
          "exception": false,
          "start_time": "2023-07-01T03:32:56.128646",
          "status": "completed"
        },
        "tags": [
          "hide-input"
        ]
      },
      "outputs": [],
      "source": [
        "def _remove_unused_instances_flat(flat_netlist):\n",
        "    flat_netlist = {**flat_netlist}\n",
        "\n",
        "    flat_netlist[\"instances\"] = {**flat_netlist[\"instances\"]}\n",
        "    flat_netlist[\"connections\"] = {**flat_netlist[\"connections\"]}\n",
        "    flat_netlist[\"ports\"] = {**flat_netlist[\"ports\"]}\n",
        "\n",
        "    graph = _get_connectivity_graph(flat_netlist)\n",
        "    names = set(_get_nodes_to_remove(graph, flat_netlist))\n",
        "\n",
        "    for name in list(names):\n",
        "        if name in flat_netlist[\"instances\"]:\n",
        "            del flat_netlist[\"instances\"][name]\n",
        "\n",
        "    for conn1, conn2 in list(flat_netlist[\"connections\"].items()):\n",
        "        for conn in [conn1, conn2]:\n",
        "            name, _ = conn.split(\",\")\n",
        "            if name in names and conn1 in flat_netlist[\"connections\"]:\n",
        "                del flat_netlist[\"connections\"][conn1]\n",
        "\n",
        "    for pname, conn in list(flat_netlist[\"ports\"].items()):\n",
        "        name, _ = conn.split(\",\")\n",
        "        if name in names and pname in flat_netlist[\"ports\"]:\n",
        "            del flat_netlist[\"ports\"][pname]\n",
        "\n",
        "    return flat_netlist"
      ]
    },
    {
      "cell_type": "code",
      "execution_count": 10,
      "id": "719f8ec9-7f4b-45d3-97ae-10572684b0f7",
      "metadata": {
        "execution": {
          "iopub.execute_input": "2023-07-01T03:32:56.146799Z",
          "iopub.status.busy": "2023-07-01T03:32:56.146341Z",
          "iopub.status.idle": "2023-07-01T03:32:56.151896Z",
          "shell.execute_reply": "2023-07-01T03:32:56.151405Z"
        },
        "papermill": {
          "duration": 0.010405,
          "end_time": "2023-07-01T03:32:56.153177",
          "exception": false,
          "start_time": "2023-07-01T03:32:56.142772",
          "status": "completed"
        },
        "tags": []
      },
      "outputs": [
        {
          "data": {
            "text/plain": [
              "{'instances': {'lft': 'coupler',\n",
              "  'top': 'straight',\n",
              "  'btm': 'straight',\n",
              "  'rgt': 'coupler'},\n",
              " 'connections': {'lft,out0': 'btm,in0',\n",
              "  'btm,out0': 'rgt,in0',\n",
              "  'lft,out1': 'top,in0',\n",
              "  'top,out0': 'rgt,in1'},\n",
              " 'ports': {'in0': 'lft,in0',\n",
              "  'in1': 'lft,in1',\n",
              "  'out0': 'rgt,out0',\n",
              "  'out1': 'rgt,out1'}}"
            ]
          },
          "execution_count": 10,
          "metadata": {},
          "output_type": "execute_result"
        }
      ],
      "source": [
        "_remove_unused_instances_flat(netlist)"
      ]
    },
    {
      "cell_type": "markdown",
      "id": "1282a602b5ff6e09",
      "metadata": {},
      "source": [
        ":::{eval-rst}\n",
        ".. autofunction:: sax.netlist_cleaning.remove_unused_instances\n",
        ":::\n"
      ]
    },
    {
      "cell_type": "code",
      "execution_count": 11,
      "id": "7df8369b7865e5e9",
      "metadata": {
        "execution": {
          "iopub.execute_input": "2023-07-01T03:32:56.161226Z",
          "iopub.status.busy": "2023-07-01T03:32:56.161046Z",
          "iopub.status.idle": "2023-07-01T03:32:56.164011Z",
          "shell.execute_reply": "2023-07-01T03:32:56.163547Z"
        },
        "papermill": {
          "duration": 0.008207,
          "end_time": "2023-07-01T03:32:56.165657",
          "exception": false,
          "start_time": "2023-07-01T03:32:56.157450",
          "status": "completed"
        },
        "tags": [
          "hide-input"
        ]
      },
      "outputs": [],
      "source": [
        "def remove_unused_instances(recursive_netlist):\n",
        "    recursive_netlist = {**recursive_netlist}\n",
        "\n",
        "    for name, flat_netlist in recursive_netlist.items():\n",
        "        recursive_netlist[name] = _remove_unused_instances_flat(flat_netlist)\n",
        "\n",
        "    return recursive_netlist"
      ]
    },
    {
      "cell_type": "code",
      "execution_count": 12,
      "id": "564c7b5f-a212-4afc-b4db-d7de5d92d7fa",
      "metadata": {
        "execution": {
          "iopub.execute_input": "2023-07-01T03:32:56.172086Z",
          "iopub.status.busy": "2023-07-01T03:32:56.171911Z",
          "iopub.status.idle": "2023-07-01T03:32:56.176428Z",
          "shell.execute_reply": "2023-07-01T03:32:56.175987Z"
        },
        "papermill": {
          "duration": 0.010337,
          "end_time": "2023-07-01T03:32:56.178822",
          "exception": false,
          "start_time": "2023-07-01T03:32:56.168485",
          "status": "completed"
        },
        "tags": []
      },
      "outputs": [
        {
          "data": {
            "text/plain": [
              "{'top_level': {'instances': {'lft': 'coupler',\n",
              "   'top': 'straight',\n",
              "   'btm': 'straight',\n",
              "   'rgt': 'coupler'},\n",
              "  'connections': {'lft,out0': 'btm,in0',\n",
              "   'btm,out0': 'rgt,in0',\n",
              "   'lft,out1': 'top,in0',\n",
              "   'top,out0': 'rgt,in1'},\n",
              "  'ports': {'in0': 'lft,in0',\n",
              "   'in1': 'lft,in1',\n",
              "   'out0': 'rgt,out0',\n",
              "   'out1': 'rgt,out1'}},\n",
              " 'test': {'instances': {'lft': 'coupler',\n",
              "   'top': 'straight',\n",
              "   'btm': 'straight',\n",
              "   'rgt': 'coupler'},\n",
              "  'connections': {'lft,out0': 'btm,in0',\n",
              "   'btm,out0': 'rgt,in0',\n",
              "   'lft,out1': 'top,in0',\n",
              "   'top,out0': 'rgt,in1'},\n",
              "  'ports': {'in0': 'lft,in0',\n",
              "   'in1': 'lft,in1',\n",
              "   'out0': 'rgt,out0',\n",
              "   'out1': 'rgt,out1'}}}"
            ]
          },
          "execution_count": 12,
          "metadata": {},
          "output_type": "execute_result"
        }
      ],
      "source": [
        "remove_unused_instances({\"top_level\": netlist, \"test\": netlist})"
      ]
    }
  ],
  "metadata": {
    "kernelspec": {
      "display_name": "sax",
      "language": "python",
      "name": "sax"
    },
    "language_info": {
      "codemirror_mode": {
        "name": "ipython",
        "version": 3
      },
      "file_extension": ".py",
      "mimetype": "text/x-python",
      "name": "python",
      "nbconvert_exporter": "python",
      "pygments_lexer": "ipython3",
      "version": "3.11.4"
    },
    "papermill": {
      "default_parameters": {},
      "duration": 3.29567,
      "end_time": "2023-07-01T03:32:56.608733",
      "environment_variables": {},
      "exception": null,
      "input_path": "./nbs/06b_netlist_cleaning.ipynb",
      "output_path": "./nbs/06b_netlist_cleaning.ipynb",
      "parameters": {},
      "start_time": "2023-07-01T03:32:53.313063",
      "version": "2.3.4"
    }
  },
  "nbformat": 4,
  "nbformat_minor": 5
}