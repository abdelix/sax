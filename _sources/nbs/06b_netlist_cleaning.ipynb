{
  "cells": [
    {
      "cell_type": "code",
      "execution_count": 1,
      "id": "7b4096498e96e0e2",
      "metadata": {
        "execution": {
          "iopub.execute_input": "2023-09-01T18:12:04.350190Z",
          "iopub.status.busy": "2023-09-01T18:12:04.349707Z",
          "iopub.status.idle": "2023-09-01T18:12:04.353155Z",
          "shell.execute_reply": "2023-09-01T18:12:04.352603Z"
        },
        "papermill": {
          "duration": 0.008627,
          "end_time": "2023-09-01T18:12:04.354409",
          "exception": false,
          "start_time": "2023-09-01T18:12:04.345782",
          "status": "completed"
        },
        "tags": [
          "remove-cell"
        ]
      },
      "outputs": [],
      "source": []
    },
    {
      "cell_type": "markdown",
      "id": "160321f7-d133-4bb8-8015-b5fc48251bb0",
      "metadata": {
        "papermill": {
          "duration": 0.002049,
          "end_time": "2023-09-01T18:12:04.358700",
          "exception": false,
          "start_time": "2023-09-01T18:12:04.356651",
          "status": "completed"
        },
        "tags": []
      },
      "source": [
        "# Netlist Cleaning\n",
        "\n",
        "> Graph Analysis and cleaning of a SAX Netlist"
      ]
    },
    {
      "cell_type": "code",
      "execution_count": 2,
      "id": "ce60da9e6d683726",
      "metadata": {
        "execution": {
          "iopub.execute_input": "2023-09-01T18:12:04.363639Z",
          "iopub.status.busy": "2023-09-01T18:12:04.363210Z",
          "iopub.status.idle": "2023-09-01T18:12:05.180006Z",
          "shell.execute_reply": "2023-09-01T18:12:05.179439Z"
        },
        "papermill": {
          "duration": 0.820931,
          "end_time": "2023-09-01T18:12:05.181511",
          "exception": false,
          "start_time": "2023-09-01T18:12:04.360580",
          "status": "completed"
        },
        "tags": [
          "hide-input"
        ]
      },
      "outputs": [],
      "source": [
        "from collections import defaultdict\n",
        "from typing import Dict, List\n",
        "\n",
        "from natsort import natsorted\n",
        "from sax.backends.additive import graph_edges\n",
        "from sax.typing_ import SDict\n",
        "import networkx as nx\n",
        "\n",
        "try:\n",
        "    import jax.numpy as jnp\n",
        "    JAX_AVAILABLE = True\n",
        "except ImportError:\n",
        "    import numpy as jnp\n",
        "    JAX_AVAILABLE = False"
      ]
    },
    {
      "cell_type": "code",
      "execution_count": 3,
      "id": "ca2dba2e-19a6-4b21-9b94-ea512df17f25",
      "metadata": {
        "execution": {
          "iopub.execute_input": "2023-09-01T18:12:05.187587Z",
          "iopub.status.busy": "2023-09-01T18:12:05.186942Z",
          "iopub.status.idle": "2023-09-01T18:12:05.191187Z",
          "shell.execute_reply": "2023-09-01T18:12:05.190616Z"
        },
        "papermill": {
          "duration": 0.008648,
          "end_time": "2023-09-01T18:12:05.192485",
          "exception": false,
          "start_time": "2023-09-01T18:12:05.183837",
          "status": "completed"
        },
        "tags": []
      },
      "outputs": [],
      "source": [
        "netlist = {\n",
        "    \"instances\": {\n",
        "        \"lft\": \"coupler\",\n",
        "        \"top\": \"straight\",\n",
        "        \"btm\": \"straight\",\n",
        "        \"rgt\": \"coupler\",\n",
        "        \"lft_\": \"coupler\",\n",
        "        \"top_\": \"straight\",\n",
        "        \"btm_\": \"straight\",\n",
        "        \"rgt_\": \"coupler\",\n",
        "    },\n",
        "    \"connections\": {\n",
        "        \"lft,out0\": \"btm,in0\",\n",
        "        \"btm,out0\": \"rgt,in0\",\n",
        "        \"lft,out1\": \"top,in0\",\n",
        "        \"top,out0\": \"rgt,in1\",\n",
        "        \"lft_,out0\": \"btm_,in0\",\n",
        "        \"btm_,out0\": \"rgt_,in0\",\n",
        "        \"lft_,out1\": \"top_,in0\",\n",
        "        \"top_,out0\": \"rgt_,in1\",\n",
        "    },\n",
        "    \"ports\": {\n",
        "        \"in0\": \"lft,in0\",\n",
        "        \"in1\": \"lft,in1\",\n",
        "        \"out0\": \"rgt,out0\",\n",
        "        \"out1\": \"rgt,out1\",\n",
        "    },\n",
        "}"
      ]
    },
    {
      "cell_type": "code",
      "execution_count": 4,
      "id": "de8c64f92e699220",
      "metadata": {
        "execution": {
          "iopub.execute_input": "2023-09-01T18:12:05.197329Z",
          "iopub.status.busy": "2023-09-01T18:12:05.197029Z",
          "iopub.status.idle": "2023-09-01T18:12:05.200889Z",
          "shell.execute_reply": "2023-09-01T18:12:05.200339Z"
        },
        "papermill": {
          "duration": 0.007736,
          "end_time": "2023-09-01T18:12:05.202170",
          "exception": false,
          "start_time": "2023-09-01T18:12:05.194434",
          "status": "completed"
        },
        "tags": [
          "hide-input"
        ]
      },
      "outputs": [],
      "source": [
        "def _get_connectivity_netlist(netlist):\n",
        "    connectivity_netlist = {\n",
        "        \"instances\": natsorted(netlist[\"instances\"]),\n",
        "        \"connections\": [\n",
        "            (c1.split(\",\")[0], c2.split(\",\")[0])\n",
        "            for c1, c2 in netlist[\"connections\"].items()\n",
        "        ],\n",
        "        \"ports\": [(p, c.split(\",\")[0]) for p, c in netlist[\"ports\"].items()],\n",
        "    }\n",
        "    return connectivity_netlist"
      ]
    },
    {
      "cell_type": "code",
      "execution_count": 5,
      "id": "1b4236abf35f43a7",
      "metadata": {
        "execution": {
          "iopub.execute_input": "2023-09-01T18:12:05.207058Z",
          "iopub.status.busy": "2023-09-01T18:12:05.206733Z",
          "iopub.status.idle": "2023-09-01T18:12:05.210498Z",
          "shell.execute_reply": "2023-09-01T18:12:05.209960Z"
        },
        "papermill": {
          "duration": 0.007638,
          "end_time": "2023-09-01T18:12:05.211792",
          "exception": false,
          "start_time": "2023-09-01T18:12:05.204154",
          "status": "completed"
        },
        "tags": [
          "hide-input"
        ]
      },
      "outputs": [],
      "source": [
        "def _get_connectivity_graph(netlist):\n",
        "    graph = nx.Graph()\n",
        "    connectivity_netlist = _get_connectivity_netlist(netlist)\n",
        "    for name in connectivity_netlist[\"instances\"]:\n",
        "        graph.add_node(name)\n",
        "    for c1, c2 in connectivity_netlist[\"connections\"]:\n",
        "        graph.add_edge(c1, c2)\n",
        "    for c1, c2 in connectivity_netlist[\"ports\"]:\n",
        "        graph.add_edge(c1, c2)\n",
        "    return graph"
      ]
    },
    {
      "cell_type": "code",
      "execution_count": 6,
      "id": "3be6bc3f-c9b5-40c1-b7d2-d0bc5696b17d",
      "metadata": {
        "execution": {
          "iopub.execute_input": "2023-09-01T18:12:05.216826Z",
          "iopub.status.busy": "2023-09-01T18:12:05.216637Z",
          "iopub.status.idle": "2023-09-01T18:12:05.690672Z",
          "shell.execute_reply": "2023-09-01T18:12:05.690108Z"
        },
        "papermill": {
          "duration": 0.478353,
          "end_time": "2023-09-01T18:12:05.692211",
          "exception": false,
          "start_time": "2023-09-01T18:12:05.213858",
          "status": "completed"
        },
        "tags": []
      },
      "outputs": [
        {
          "data": {
            "image/png": "[encoded data removed]",
            "text/plain": [
              "<Figure size 640x480 with 1 Axes>"
            ]
          },
          "metadata": {},
          "output_type": "display_data"
        }
      ],
      "source": [
        "graph = _get_connectivity_graph(netlist)\n",
        "nx.draw(graph, with_labels=True)"
      ]
    },
    {
      "cell_type": "code",
      "execution_count": 7,
      "id": "42925e836468d828",
      "metadata": {
        "execution": {
          "iopub.execute_input": "2023-09-01T18:12:05.698671Z",
          "iopub.status.busy": "2023-09-01T18:12:05.698317Z",
          "iopub.status.idle": "2023-09-01T18:12:05.702740Z",
          "shell.execute_reply": "2023-09-01T18:12:05.702222Z"
        },
        "papermill": {
          "duration": 0.009057,
          "end_time": "2023-09-01T18:12:05.703979",
          "exception": false,
          "start_time": "2023-09-01T18:12:05.694922",
          "status": "completed"
        },
        "tags": [
          "hide-input"
        ]
      },
      "outputs": [],
      "source": [
        "def _get_nodes_to_remove(graph, netlist):\n",
        "    nodes = set()\n",
        "    for port in netlist[\"ports\"]:\n",
        "        nodes |= nx.descendants(graph, port)\n",
        "    nodes_to_remove = set(graph.nodes) - nodes\n",
        "    return list(nodes_to_remove)"
      ]
    },
    {
      "cell_type": "code",
      "execution_count": 8,
      "id": "15d20c02-06fa-4586-8ba3-3cbfa63f8e14",
      "metadata": {
        "execution": {
          "iopub.execute_input": "2023-09-01T18:12:05.709866Z",
          "iopub.status.busy": "2023-09-01T18:12:05.709657Z",
          "iopub.status.idle": "2023-09-01T18:12:05.823250Z",
          "shell.execute_reply": "2023-09-01T18:12:05.822739Z"
        },
        "papermill": {
          "duration": 0.117951,
          "end_time": "2023-09-01T18:12:05.824422",
          "exception": false,
          "start_time": "2023-09-01T18:12:05.706471",
          "status": "completed"
        },
        "tags": []
      },
      "outputs": [
        {
          "data": {
            "image/png": "[encoded data removed]",
            "text/plain": [
              "<Figure size 640x480 with 1 Axes>"
            ]
          },
          "metadata": {},
          "output_type": "display_data"
        }
      ],
      "source": [
        "graph.remove_nodes_from(_get_nodes_to_remove(graph, netlist))\n",
        "nx.draw(graph, with_labels=True)"
      ]
    },
    {
      "cell_type": "code",
      "execution_count": 9,
      "id": "23352ce43aa503ce",
      "metadata": {
        "execution": {
          "iopub.execute_input": "2023-09-01T18:12:05.832916Z",
          "iopub.status.busy": "2023-09-01T18:12:05.832572Z",
          "iopub.status.idle": "2023-09-01T18:12:05.837663Z",
          "shell.execute_reply": "2023-09-01T18:12:05.837220Z"
        },
        "papermill": {
          "duration": 0.010194,
          "end_time": "2023-09-01T18:12:05.838764",
          "exception": false,
          "start_time": "2023-09-01T18:12:05.828570",
          "status": "completed"
        },
        "tags": [
          "hide-input"
        ]
      },
      "outputs": [],
      "source": [
        "def _remove_unused_instances_flat(flat_netlist):\n",
        "    flat_netlist = {**flat_netlist}\n",
        "\n",
        "    flat_netlist[\"instances\"] = {**flat_netlist[\"instances\"]}\n",
        "    flat_netlist[\"connections\"] = {**flat_netlist[\"connections\"]}\n",
        "    flat_netlist[\"ports\"] = {**flat_netlist[\"ports\"]}\n",
        "\n",
        "    graph = _get_connectivity_graph(flat_netlist)\n",
        "    names = set(_get_nodes_to_remove(graph, flat_netlist))\n",
        "\n",
        "    for name in list(names):\n",
        "        if name in flat_netlist[\"instances\"]:\n",
        "            del flat_netlist[\"instances\"][name]\n",
        "\n",
        "    for conn1, conn2 in list(flat_netlist[\"connections\"].items()):\n",
        "        for conn in [conn1, conn2]:\n",
        "            name, _ = conn.split(\",\")\n",
        "            if name in names and conn1 in flat_netlist[\"connections\"]:\n",
        "                del flat_netlist[\"connections\"][conn1]\n",
        "\n",
        "    for pname, conn in list(flat_netlist[\"ports\"].items()):\n",
        "        name, _ = conn.split(\",\")\n",
        "        if name in names and pname in flat_netlist[\"ports\"]:\n",
        "            del flat_netlist[\"ports\"][pname]\n",
        "\n",
        "    return flat_netlist"
      ]
    },
    {
      "cell_type": "code",
      "execution_count": 10,
      "id": "719f8ec9-7f4b-45d3-97ae-10572684b0f7",
      "metadata": {
        "execution": {
          "iopub.execute_input": "2023-09-01T18:12:05.845694Z",
          "iopub.status.busy": "2023-09-01T18:12:05.845397Z",
          "iopub.status.idle": "2023-09-01T18:12:05.849537Z",
          "shell.execute_reply": "2023-09-01T18:12:05.849102Z"
        },
        "papermill": {
          "duration": 0.008935,
          "end_time": "2023-09-01T18:12:05.850655",
          "exception": false,
          "start_time": "2023-09-01T18:12:05.841720",
          "status": "completed"
        },
        "tags": []
      },
      "outputs": [
        {
          "data": {
            "text/plain": [
              "{'instances': {'lft': 'coupler',\n",
              "  'top': 'straight',\n",
              "  'btm': 'straight',\n",
              "  'rgt': 'coupler'},\n",
              " 'connections': {'lft,out0': 'btm,in0',\n",
              "  'btm,out0': 'rgt,in0',\n",
              "  'lft,out1': 'top,in0',\n",
              "  'top,out0': 'rgt,in1'},\n",
              " 'ports': {'in0': 'lft,in0',\n",
              "  'in1': 'lft,in1',\n",
              "  'out0': 'rgt,out0',\n",
              "  'out1': 'rgt,out1'}}"
            ]
          },
          "execution_count": 10,
          "metadata": {},
          "output_type": "execute_result"
        }
      ],
      "source": [
        "_remove_unused_instances_flat(netlist)"
      ]
    },
    {
      "cell_type": "markdown",
      "id": "8ca71fe84fb469ea",
      "metadata": {},
      "source": [
        ":::{eval-rst}\n",
        ".. autofunction:: sax.netlist_cleaning.remove_unused_instances\n",
        ":::\n"
      ]
    },
    {
      "cell_type": "code",
      "execution_count": 11,
      "id": "69598631cf505dc6",
      "metadata": {
        "execution": {
          "iopub.execute_input": "2023-09-01T18:12:05.887809Z",
          "iopub.status.busy": "2023-09-01T18:12:05.887449Z",
          "iopub.status.idle": "2023-09-01T18:12:05.890550Z",
          "shell.execute_reply": "2023-09-01T18:12:05.890106Z"
        },
        "papermill": {
          "duration": 0.037877,
          "end_time": "2023-09-01T18:12:05.891676",
          "exception": false,
          "start_time": "2023-09-01T18:12:05.853799",
          "status": "completed"
        },
        "tags": [
          "hide-input"
        ]
      },
      "outputs": [],
      "source": [
        "def remove_unused_instances(recursive_netlist):\n",
        "    recursive_netlist = {**recursive_netlist}\n",
        "\n",
        "    for name, flat_netlist in recursive_netlist.items():\n",
        "        recursive_netlist[name] = _remove_unused_instances_flat(flat_netlist)\n",
        "\n",
        "    return recursive_netlist"
      ]
    },
    {
      "cell_type": "code",
      "execution_count": 12,
      "id": "564c7b5f-a212-4afc-b4db-d7de5d92d7fa",
      "metadata": {
        "execution": {
          "iopub.execute_input": "2023-09-01T18:12:05.899096Z",
          "iopub.status.busy": "2023-09-01T18:12:05.898794Z",
          "iopub.status.idle": "2023-09-01T18:12:05.903446Z",
          "shell.execute_reply": "2023-09-01T18:12:05.903012Z"
        },
        "papermill": {
          "duration": 0.009632,
          "end_time": "2023-09-01T18:12:05.904536",
          "exception": false,
          "start_time": "2023-09-01T18:12:05.894904",
          "status": "completed"
        },
        "tags": []
      },
      "outputs": [
        {
          "data": {
            "text/plain": [
              "{'top_level': {'instances': {'lft': 'coupler',\n",
              "   'top': 'straight',\n",
              "   'btm': 'straight',\n",
              "   'rgt': 'coupler'},\n",
              "  'connections': {'lft,out0': 'btm,in0',\n",
              "   'btm,out0': 'rgt,in0',\n",
              "   'lft,out1': 'top,in0',\n",
              "   'top,out0': 'rgt,in1'},\n",
              "  'ports': {'in0': 'lft,in0',\n",
              "   'in1': 'lft,in1',\n",
              "   'out0': 'rgt,out0',\n",
              "   'out1': 'rgt,out1'}},\n",
              " 'test': {'instances': {'lft': 'coupler',\n",
              "   'top': 'straight',\n",
              "   'btm': 'straight',\n",
              "   'rgt': 'coupler'},\n",
              "  'connections': {'lft,out0': 'btm,in0',\n",
              "   'btm,out0': 'rgt,in0',\n",
              "   'lft,out1': 'top,in0',\n",
              "   'top,out0': 'rgt,in1'},\n",
              "  'ports': {'in0': 'lft,in0',\n",
              "   'in1': 'lft,in1',\n",
              "   'out0': 'rgt,out0',\n",
              "   'out1': 'rgt,out1'}}}"
            ]
          },
          "execution_count": 12,
          "metadata": {},
          "output_type": "execute_result"
        }
      ],
      "source": [
        "remove_unused_instances({\"top_level\": netlist, \"test\": netlist})"
      ]
    }
  ],
  "metadata": {
    "kernelspec": {
      "display_name": "sax",
      "language": "python",
      "name": "sax"
    },
    "language_info": {
      "codemirror_mode": {
        "name": "ipython",
        "version": 3
      },
      "file_extension": ".py",
      "mimetype": "text/x-python",
      "name": "python",
      "nbconvert_exporter": "python",
      "pygments_lexer": "ipython3",
      "version": "3.11.5"
    },
    "papermill": {
      "default_parameters": {},
      "duration": 3.300144,
      "end_time": "2023-09-01T18:12:06.323549",
      "environment_variables": {},
      "exception": null,
      "input_path": "./nbs/06b_netlist_cleaning.ipynb",
      "output_path": "./nbs/06b_netlist_cleaning.ipynb",
      "parameters": {},
      "start_time": "2023-09-01T18:12:03.023405",
      "version": "2.4.0"
    }
  },
  "nbformat": 4,
  "nbformat_minor": 5
}