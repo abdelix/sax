{
  "cells": [
    {
      "cell_type": "code",
      "execution_count": 1,
      "id": "c82b3deaadd2c998",
      "metadata": {
        "execution": {
          "iopub.execute_input": "2023-09-02T18:59:07.532486Z",
          "iopub.status.busy": "2023-09-02T18:59:07.532105Z",
          "iopub.status.idle": "2023-09-02T18:59:07.535354Z",
          "shell.execute_reply": "2023-09-02T18:59:07.534799Z"
        },
        "papermill": {
          "duration": 0.00829,
          "end_time": "2023-09-02T18:59:07.536580",
          "exception": false,
          "start_time": "2023-09-02T18:59:07.528290",
          "status": "completed"
        },
        "tags": [
          "remove-cell"
        ]
      },
      "outputs": [],
      "source": []
    },
    {
      "cell_type": "markdown",
      "id": "160321f7-d133-4bb8-8015-b5fc48251bb0",
      "metadata": {
        "papermill": {
          "duration": 0.001905,
          "end_time": "2023-09-02T18:59:07.540900",
          "exception": false,
          "start_time": "2023-09-02T18:59:07.538995",
          "status": "completed"
        },
        "tags": []
      },
      "source": [
        "# Netlist Cleaning\n",
        "\n",
        "> Graph Analysis and cleaning of a SAX Netlist"
      ]
    },
    {
      "cell_type": "code",
      "execution_count": 2,
      "id": "de97e73631982372",
      "metadata": {
        "execution": {
          "iopub.execute_input": "2023-09-02T18:59:07.545668Z",
          "iopub.status.busy": "2023-09-02T18:59:07.545275Z",
          "iopub.status.idle": "2023-09-02T18:59:08.356806Z",
          "shell.execute_reply": "2023-09-02T18:59:08.356244Z"
        },
        "papermill": {
          "duration": 0.815548,
          "end_time": "2023-09-02T18:59:08.358295",
          "exception": false,
          "start_time": "2023-09-02T18:59:07.542747",
          "status": "completed"
        },
        "tags": [
          "hide-input"
        ]
      },
      "outputs": [],
      "source": [
        "from collections import defaultdict\n",
        "from typing import Dict, List\n",
        "\n",
        "from natsort import natsorted\n",
        "from sax.backends.additive import graph_edges\n",
        "from sax.typing_ import SDict\n",
        "import networkx as nx\n",
        "\n",
        "try:\n",
        "    import jax.numpy as jnp\n",
        "    JAX_AVAILABLE = True\n",
        "except ImportError:\n",
        "    import numpy as jnp\n",
        "    JAX_AVAILABLE = False"
      ]
    },
    {
      "cell_type": "code",
      "execution_count": 3,
      "id": "ca2dba2e-19a6-4b21-9b94-ea512df17f25",
      "metadata": {
        "execution": {
          "iopub.execute_input": "2023-09-02T18:59:08.364274Z",
          "iopub.status.busy": "2023-09-02T18:59:08.363756Z",
          "iopub.status.idle": "2023-09-02T18:59:08.367863Z",
          "shell.execute_reply": "2023-09-02T18:59:08.367331Z"
        },
        "papermill": {
          "duration": 0.008548,
          "end_time": "2023-09-02T18:59:08.369075",
          "exception": false,
          "start_time": "2023-09-02T18:59:08.360527",
          "status": "completed"
        },
        "tags": []
      },
      "outputs": [],
      "source": [
        "netlist = {\n",
        "    \"instances\": {\n",
        "        \"lft\": \"coupler\",\n",
        "        \"top\": \"straight\",\n",
        "        \"btm\": \"straight\",\n",
        "        \"rgt\": \"coupler\",\n",
        "        \"lft_\": \"coupler\",\n",
        "        \"top_\": \"straight\",\n",
        "        \"btm_\": \"straight\",\n",
        "        \"rgt_\": \"coupler\",\n",
        "    },\n",
        "    \"connections\": {\n",
        "        \"lft,out0\": \"btm,in0\",\n",
        "        \"btm,out0\": \"rgt,in0\",\n",
        "        \"lft,out1\": \"top,in0\",\n",
        "        \"top,out0\": \"rgt,in1\",\n",
        "        \"lft_,out0\": \"btm_,in0\",\n",
        "        \"btm_,out0\": \"rgt_,in0\",\n",
        "        \"lft_,out1\": \"top_,in0\",\n",
        "        \"top_,out0\": \"rgt_,in1\",\n",
        "    },\n",
        "    \"ports\": {\n",
        "        \"in0\": \"lft,in0\",\n",
        "        \"in1\": \"lft,in1\",\n",
        "        \"out0\": \"rgt,out0\",\n",
        "        \"out1\": \"rgt,out1\",\n",
        "    },\n",
        "}"
      ]
    },
    {
      "cell_type": "code",
      "execution_count": 4,
      "id": "05fc90ebc808f55e",
      "metadata": {
        "execution": {
          "iopub.execute_input": "2023-09-02T18:59:08.374002Z",
          "iopub.status.busy": "2023-09-02T18:59:08.373536Z",
          "iopub.status.idle": "2023-09-02T18:59:08.377306Z",
          "shell.execute_reply": "2023-09-02T18:59:08.376785Z"
        },
        "papermill": {
          "duration": 0.007431,
          "end_time": "2023-09-02T18:59:08.378446",
          "exception": false,
          "start_time": "2023-09-02T18:59:08.371015",
          "status": "completed"
        },
        "tags": [
          "hide-input"
        ]
      },
      "outputs": [],
      "source": [
        "def _get_connectivity_netlist(netlist):\n",
        "    connectivity_netlist = {\n",
        "        \"instances\": natsorted(netlist[\"instances\"]),\n",
        "        \"connections\": [\n",
        "            (c1.split(\",\")[0], c2.split(\",\")[0])\n",
        "            for c1, c2 in netlist[\"connections\"].items()\n",
        "        ],\n",
        "        \"ports\": [(p, c.split(\",\")[0]) for p, c in netlist[\"ports\"].items()],\n",
        "    }\n",
        "    return connectivity_netlist"
      ]
    },
    {
      "cell_type": "code",
      "execution_count": 5,
      "id": "08527e68162d27ee",
      "metadata": {
        "execution": {
          "iopub.execute_input": "2023-09-02T18:59:08.383189Z",
          "iopub.status.busy": "2023-09-02T18:59:08.382907Z",
          "iopub.status.idle": "2023-09-02T18:59:08.386433Z",
          "shell.execute_reply": "2023-09-02T18:59:08.385891Z"
        },
        "papermill": {
          "duration": 0.007242,
          "end_time": "2023-09-02T18:59:08.387610",
          "exception": false,
          "start_time": "2023-09-02T18:59:08.380368",
          "status": "completed"
        },
        "tags": [
          "hide-input"
        ]
      },
      "outputs": [],
      "source": [
        "def _get_connectivity_graph(netlist):\n",
        "    graph = nx.Graph()\n",
        "    connectivity_netlist = _get_connectivity_netlist(netlist)\n",
        "    for name in connectivity_netlist[\"instances\"]:\n",
        "        graph.add_node(name)\n",
        "    for c1, c2 in connectivity_netlist[\"connections\"]:\n",
        "        graph.add_edge(c1, c2)\n",
        "    for c1, c2 in connectivity_netlist[\"ports\"]:\n",
        "        graph.add_edge(c1, c2)\n",
        "    return graph"
      ]
    },
    {
      "cell_type": "code",
      "execution_count": 6,
      "id": "3be6bc3f-c9b5-40c1-b7d2-d0bc5696b17d",
      "metadata": {
        "execution": {
          "iopub.execute_input": "2023-09-02T18:59:08.392520Z",
          "iopub.status.busy": "2023-09-02T18:59:08.392236Z",
          "iopub.status.idle": "2023-09-02T18:59:08.853896Z",
          "shell.execute_reply": "2023-09-02T18:59:08.853335Z"
        },
        "papermill": {
          "duration": 0.465624,
          "end_time": "2023-09-02T18:59:08.855245",
          "exception": false,
          "start_time": "2023-09-02T18:59:08.389621",
          "status": "completed"
        },
        "tags": []
      },
      "outputs": [
        {
          "data": {
            "image/png": "[encoded data removed]",
            "text/plain": [
              "<Figure size 640x480 with 1 Axes>"
            ]
          },
          "metadata": {},
          "output_type": "display_data"
        }
      ],
      "source": [
        "graph = _get_connectivity_graph(netlist)\n",
        "nx.draw(graph, with_labels=True)"
      ]
    },
    {
      "cell_type": "code",
      "execution_count": 7,
      "id": "0aad31c84d6d372e",
      "metadata": {
        "execution": {
          "iopub.execute_input": "2023-09-02T18:59:08.862367Z",
          "iopub.status.busy": "2023-09-02T18:59:08.861602Z",
          "iopub.status.idle": "2023-09-02T18:59:08.865190Z",
          "shell.execute_reply": "2023-09-02T18:59:08.864762Z"
        },
        "papermill": {
          "duration": 0.008296,
          "end_time": "2023-09-02T18:59:08.866273",
          "exception": false,
          "start_time": "2023-09-02T18:59:08.857977",
          "status": "completed"
        },
        "tags": [
          "hide-input"
        ]
      },
      "outputs": [],
      "source": [
        "def _get_nodes_to_remove(graph, netlist):\n",
        "    nodes = set()\n",
        "    for port in netlist[\"ports\"]:\n",
        "        nodes |= nx.descendants(graph, port)\n",
        "    nodes_to_remove = set(graph.nodes) - nodes\n",
        "    return list(nodes_to_remove)"
      ]
    },
    {
      "cell_type": "code",
      "execution_count": 8,
      "id": "15d20c02-06fa-4586-8ba3-3cbfa63f8e14",
      "metadata": {
        "execution": {
          "iopub.execute_input": "2023-09-02T18:59:08.871995Z",
          "iopub.status.busy": "2023-09-02T18:59:08.871706Z",
          "iopub.status.idle": "2023-09-02T18:59:08.976056Z",
          "shell.execute_reply": "2023-09-02T18:59:08.975612Z"
        },
        "papermill": {
          "duration": 0.10848,
          "end_time": "2023-09-02T18:59:08.977146",
          "exception": false,
          "start_time": "2023-09-02T18:59:08.868666",
          "status": "completed"
        },
        "tags": []
      },
      "outputs": [
        {
          "data": {
            "image/png": "[encoded data removed]",
            "text/plain": [
              "<Figure size 640x480 with 1 Axes>"
            ]
          },
          "metadata": {},
          "output_type": "display_data"
        }
      ],
      "source": [
        "graph.remove_nodes_from(_get_nodes_to_remove(graph, netlist))\n",
        "nx.draw(graph, with_labels=True)"
      ]
    },
    {
      "cell_type": "code",
      "execution_count": 9,
      "id": "b2ddb460cc73cef2",
      "metadata": {
        "execution": {
          "iopub.execute_input": "2023-09-02T18:59:08.985588Z",
          "iopub.status.busy": "2023-09-02T18:59:08.985025Z",
          "iopub.status.idle": "2023-09-02T18:59:08.990330Z",
          "shell.execute_reply": "2023-09-02T18:59:08.989897Z"
        },
        "papermill": {
          "duration": 0.010272,
          "end_time": "2023-09-02T18:59:08.991369",
          "exception": false,
          "start_time": "2023-09-02T18:59:08.981097",
          "status": "completed"
        },
        "tags": [
          "hide-input"
        ]
      },
      "outputs": [],
      "source": [
        "def _remove_unused_instances_flat(flat_netlist):\n",
        "    flat_netlist = {**flat_netlist}\n",
        "\n",
        "    flat_netlist[\"instances\"] = {**flat_netlist[\"instances\"]}\n",
        "    flat_netlist[\"connections\"] = {**flat_netlist[\"connections\"]}\n",
        "    flat_netlist[\"ports\"] = {**flat_netlist[\"ports\"]}\n",
        "\n",
        "    graph = _get_connectivity_graph(flat_netlist)\n",
        "    names = set(_get_nodes_to_remove(graph, flat_netlist))\n",
        "\n",
        "    for name in list(names):\n",
        "        if name in flat_netlist[\"instances\"]:\n",
        "            del flat_netlist[\"instances\"][name]\n",
        "\n",
        "    for conn1, conn2 in list(flat_netlist[\"connections\"].items()):\n",
        "        for conn in [conn1, conn2]:\n",
        "            name, _ = conn.split(\",\")\n",
        "            if name in names and conn1 in flat_netlist[\"connections\"]:\n",
        "                del flat_netlist[\"connections\"][conn1]\n",
        "\n",
        "    for pname, conn in list(flat_netlist[\"ports\"].items()):\n",
        "        name, _ = conn.split(\",\")\n",
        "        if name in names and pname in flat_netlist[\"ports\"]:\n",
        "            del flat_netlist[\"ports\"][pname]\n",
        "\n",
        "    return flat_netlist"
      ]
    },
    {
      "cell_type": "code",
      "execution_count": 10,
      "id": "719f8ec9-7f4b-45d3-97ae-10572684b0f7",
      "metadata": {
        "execution": {
          "iopub.execute_input": "2023-09-02T18:59:08.997963Z",
          "iopub.status.busy": "2023-09-02T18:59:08.997427Z",
          "iopub.status.idle": "2023-09-02T18:59:09.001683Z",
          "shell.execute_reply": "2023-09-02T18:59:09.001281Z"
        },
        "papermill": {
          "duration": 0.00862,
          "end_time": "2023-09-02T18:59:09.002743",
          "exception": false,
          "start_time": "2023-09-02T18:59:08.994123",
          "status": "completed"
        },
        "tags": []
      },
      "outputs": [
        {
          "data": {
            "text/plain": [
              "{'instances': {'lft': 'coupler',\n",
              "  'top': 'straight',\n",
              "  'btm': 'straight',\n",
              "  'rgt': 'coupler'},\n",
              " 'connections': {'lft,out0': 'btm,in0',\n",
              "  'btm,out0': 'rgt,in0',\n",
              "  'lft,out1': 'top,in0',\n",
              "  'top,out0': 'rgt,in1'},\n",
              " 'ports': {'in0': 'lft,in0',\n",
              "  'in1': 'lft,in1',\n",
              "  'out0': 'rgt,out0',\n",
              "  'out1': 'rgt,out1'}}"
            ]
          },
          "execution_count": 10,
          "metadata": {},
          "output_type": "execute_result"
        }
      ],
      "source": [
        "_remove_unused_instances_flat(netlist)"
      ]
    },
    {
      "cell_type": "markdown",
      "id": "c1cdf9bcabc07890",
      "metadata": {},
      "source": [
        ":::{eval-rst}\n",
        ".. autofunction:: sax.netlist_cleaning.remove_unused_instances\n",
        ":::\n"
      ]
    },
    {
      "cell_type": "code",
      "execution_count": 11,
      "id": "92bd633d417c8e58",
      "metadata": {
        "execution": {
          "iopub.execute_input": "2023-09-02T18:59:09.031685Z",
          "iopub.status.busy": "2023-09-02T18:59:09.031251Z",
          "iopub.status.idle": "2023-09-02T18:59:09.034507Z",
          "shell.execute_reply": "2023-09-02T18:59:09.034077Z"
        },
        "papermill": {
          "duration": 0.029988,
          "end_time": "2023-09-02T18:59:09.035563",
          "exception": false,
          "start_time": "2023-09-02T18:59:09.005575",
          "status": "completed"
        },
        "tags": [
          "hide-input"
        ]
      },
      "outputs": [],
      "source": [
        "def remove_unused_instances(recursive_netlist):\n",
        "    recursive_netlist = {**recursive_netlist}\n",
        "\n",
        "    for name, flat_netlist in recursive_netlist.items():\n",
        "        recursive_netlist[name] = _remove_unused_instances_flat(flat_netlist)\n",
        "\n",
        "    return recursive_netlist"
      ]
    },
    {
      "cell_type": "code",
      "execution_count": 12,
      "id": "564c7b5f-a212-4afc-b4db-d7de5d92d7fa",
      "metadata": {
        "execution": {
          "iopub.execute_input": "2023-09-02T18:59:09.042664Z",
          "iopub.status.busy": "2023-09-02T18:59:09.042105Z",
          "iopub.status.idle": "2023-09-02T18:59:09.046936Z",
          "shell.execute_reply": "2023-09-02T18:59:09.046520Z"
        },
        "papermill": {
          "duration": 0.00942,
          "end_time": "2023-09-02T18:59:09.047954",
          "exception": false,
          "start_time": "2023-09-02T18:59:09.038534",
          "status": "completed"
        },
        "tags": []
      },
      "outputs": [
        {
          "data": {
            "text/plain": [
              "{'top_level': {'instances': {'lft': 'coupler',\n",
              "   'top': 'straight',\n",
              "   'btm': 'straight',\n",
              "   'rgt': 'coupler'},\n",
              "  'connections': {'lft,out0': 'btm,in0',\n",
              "   'btm,out0': 'rgt,in0',\n",
              "   'lft,out1': 'top,in0',\n",
              "   'top,out0': 'rgt,in1'},\n",
              "  'ports': {'in0': 'lft,in0',\n",
              "   'in1': 'lft,in1',\n",
              "   'out0': 'rgt,out0',\n",
              "   'out1': 'rgt,out1'}},\n",
              " 'test': {'instances': {'lft': 'coupler',\n",
              "   'top': 'straight',\n",
              "   'btm': 'straight',\n",
              "   'rgt': 'coupler'},\n",
              "  'connections': {'lft,out0': 'btm,in0',\n",
              "   'btm,out0': 'rgt,in0',\n",
              "   'lft,out1': 'top,in0',\n",
              "   'top,out0': 'rgt,in1'},\n",
              "  'ports': {'in0': 'lft,in0',\n",
              "   'in1': 'lft,in1',\n",
              "   'out0': 'rgt,out0',\n",
              "   'out1': 'rgt,out1'}}}"
            ]
          },
          "execution_count": 12,
          "metadata": {},
          "output_type": "execute_result"
        }
      ],
      "source": [
        "remove_unused_instances({\"top_level\": netlist, \"test\": netlist})"
      ]
    }
  ],
  "metadata": {
    "kernelspec": {
      "display_name": "sax",
      "language": "python",
      "name": "sax"
    },
    "language_info": {
      "codemirror_mode": {
        "name": "ipython",
        "version": 3
      },
      "file_extension": ".py",
      "mimetype": "text/x-python",
      "name": "python",
      "nbconvert_exporter": "python",
      "pygments_lexer": "ipython3",
      "version": "3.11.5"
    },
    "papermill": {
      "default_parameters": {},
      "duration": 3.254257,
      "end_time": "2023-09-02T18:59:09.467198",
      "environment_variables": {},
      "exception": null,
      "input_path": "./nbs/06b_netlist_cleaning.ipynb",
      "output_path": "./nbs/06b_netlist_cleaning.ipynb",
      "parameters": {},
      "start_time": "2023-09-02T18:59:06.212941",
      "version": "2.4.0"
    }
  },
  "nbformat": 4,
  "nbformat_minor": 5
}