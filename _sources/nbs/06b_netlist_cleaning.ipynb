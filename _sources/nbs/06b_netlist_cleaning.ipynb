{
  "cells": [
    {
      "cell_type": "code",
      "execution_count": 1,
      "id": "27de44a23699740a",
      "metadata": {
        "execution": {
          "iopub.execute_input": "2023-09-02T18:51:16.281113Z",
          "iopub.status.busy": "2023-09-02T18:51:16.280505Z",
          "iopub.status.idle": "2023-09-02T18:51:16.284112Z",
          "shell.execute_reply": "2023-09-02T18:51:16.283502Z"
        },
        "papermill": {
          "duration": 0.0091,
          "end_time": "2023-09-02T18:51:16.285418",
          "exception": false,
          "start_time": "2023-09-02T18:51:16.276318",
          "status": "completed"
        },
        "tags": [
          "remove-cell"
        ]
      },
      "outputs": [],
      "source": []
    },
    {
      "cell_type": "markdown",
      "id": "160321f7-d133-4bb8-8015-b5fc48251bb0",
      "metadata": {
        "papermill": {
          "duration": 0.001808,
          "end_time": "2023-09-02T18:51:16.289354",
          "exception": false,
          "start_time": "2023-09-02T18:51:16.287546",
          "status": "completed"
        },
        "tags": []
      },
      "source": [
        "# Netlist Cleaning\n",
        "\n",
        "> Graph Analysis and cleaning of a SAX Netlist"
      ]
    },
    {
      "cell_type": "code",
      "execution_count": 2,
      "id": "ac7b231f6f84c3ff",
      "metadata": {
        "execution": {
          "iopub.execute_input": "2023-09-02T18:51:16.294132Z",
          "iopub.status.busy": "2023-09-02T18:51:16.293724Z",
          "iopub.status.idle": "2023-09-02T18:51:17.126869Z",
          "shell.execute_reply": "2023-09-02T18:51:17.126249Z"
        },
        "papermill": {
          "duration": 0.837342,
          "end_time": "2023-09-02T18:51:17.128550",
          "exception": false,
          "start_time": "2023-09-02T18:51:16.291208",
          "status": "completed"
        },
        "tags": [
          "hide-input"
        ]
      },
      "outputs": [],
      "source": [
        "from collections import defaultdict\n",
        "from typing import Dict, List\n",
        "\n",
        "from natsort import natsorted\n",
        "from sax.backends.additive import graph_edges\n",
        "from sax.typing_ import SDict\n",
        "import networkx as nx\n",
        "\n",
        "try:\n",
        "    import jax.numpy as jnp\n",
        "    JAX_AVAILABLE = True\n",
        "except ImportError:\n",
        "    import numpy as jnp\n",
        "    JAX_AVAILABLE = False"
      ]
    },
    {
      "cell_type": "code",
      "execution_count": 3,
      "id": "ca2dba2e-19a6-4b21-9b94-ea512df17f25",
      "metadata": {
        "execution": {
          "iopub.execute_input": "2023-09-02T18:51:17.135269Z",
          "iopub.status.busy": "2023-09-02T18:51:17.134783Z",
          "iopub.status.idle": "2023-09-02T18:51:17.139246Z",
          "shell.execute_reply": "2023-09-02T18:51:17.138670Z"
        },
        "papermill": {
          "duration": 0.009307,
          "end_time": "2023-09-02T18:51:17.140457",
          "exception": false,
          "start_time": "2023-09-02T18:51:17.131150",
          "status": "completed"
        },
        "tags": []
      },
      "outputs": [],
      "source": [
        "netlist = {\n",
        "    \"instances\": {\n",
        "        \"lft\": \"coupler\",\n",
        "        \"top\": \"straight\",\n",
        "        \"btm\": \"straight\",\n",
        "        \"rgt\": \"coupler\",\n",
        "        \"lft_\": \"coupler\",\n",
        "        \"top_\": \"straight\",\n",
        "        \"btm_\": \"straight\",\n",
        "        \"rgt_\": \"coupler\",\n",
        "    },\n",
        "    \"connections\": {\n",
        "        \"lft,out0\": \"btm,in0\",\n",
        "        \"btm,out0\": \"rgt,in0\",\n",
        "        \"lft,out1\": \"top,in0\",\n",
        "        \"top,out0\": \"rgt,in1\",\n",
        "        \"lft_,out0\": \"btm_,in0\",\n",
        "        \"btm_,out0\": \"rgt_,in0\",\n",
        "        \"lft_,out1\": \"top_,in0\",\n",
        "        \"top_,out0\": \"rgt_,in1\",\n",
        "    },\n",
        "    \"ports\": {\n",
        "        \"in0\": \"lft,in0\",\n",
        "        \"in1\": \"lft,in1\",\n",
        "        \"out0\": \"rgt,out0\",\n",
        "        \"out1\": \"rgt,out1\",\n",
        "    },\n",
        "}"
      ]
    },
    {
      "cell_type": "code",
      "execution_count": 4,
      "id": "9797c93e20191c13",
      "metadata": {
        "execution": {
          "iopub.execute_input": "2023-09-02T18:51:17.145513Z",
          "iopub.status.busy": "2023-09-02T18:51:17.145049Z",
          "iopub.status.idle": "2023-09-02T18:51:17.148963Z",
          "shell.execute_reply": "2023-09-02T18:51:17.148407Z"
        },
        "papermill": {
          "duration": 0.007837,
          "end_time": "2023-09-02T18:51:17.150246",
          "exception": false,
          "start_time": "2023-09-02T18:51:17.142409",
          "status": "completed"
        },
        "tags": [
          "hide-input"
        ]
      },
      "outputs": [],
      "source": [
        "def _get_connectivity_netlist(netlist):\n",
        "    connectivity_netlist = {\n",
        "        \"instances\": natsorted(netlist[\"instances\"]),\n",
        "        \"connections\": [\n",
        "            (c1.split(\",\")[0], c2.split(\",\")[0])\n",
        "            for c1, c2 in netlist[\"connections\"].items()\n",
        "        ],\n",
        "        \"ports\": [(p, c.split(\",\")[0]) for p, c in netlist[\"ports\"].items()],\n",
        "    }\n",
        "    return connectivity_netlist"
      ]
    },
    {
      "cell_type": "code",
      "execution_count": 5,
      "id": "bc2b8af114931034",
      "metadata": {
        "execution": {
          "iopub.execute_input": "2023-09-02T18:51:17.155224Z",
          "iopub.status.busy": "2023-09-02T18:51:17.154779Z",
          "iopub.status.idle": "2023-09-02T18:51:17.158387Z",
          "shell.execute_reply": "2023-09-02T18:51:17.157866Z"
        },
        "papermill": {
          "duration": 0.007384,
          "end_time": "2023-09-02T18:51:17.159523",
          "exception": false,
          "start_time": "2023-09-02T18:51:17.152139",
          "status": "completed"
        },
        "tags": [
          "hide-input"
        ]
      },
      "outputs": [],
      "source": [
        "def _get_connectivity_graph(netlist):\n",
        "    graph = nx.Graph()\n",
        "    connectivity_netlist = _get_connectivity_netlist(netlist)\n",
        "    for name in connectivity_netlist[\"instances\"]:\n",
        "        graph.add_node(name)\n",
        "    for c1, c2 in connectivity_netlist[\"connections\"]:\n",
        "        graph.add_edge(c1, c2)\n",
        "    for c1, c2 in connectivity_netlist[\"ports\"]:\n",
        "        graph.add_edge(c1, c2)\n",
        "    return graph"
      ]
    },
    {
      "cell_type": "code",
      "execution_count": 6,
      "id": "3be6bc3f-c9b5-40c1-b7d2-d0bc5696b17d",
      "metadata": {
        "execution": {
          "iopub.execute_input": "2023-09-02T18:51:17.164584Z",
          "iopub.status.busy": "2023-09-02T18:51:17.164149Z",
          "iopub.status.idle": "2023-09-02T18:51:17.646706Z",
          "shell.execute_reply": "2023-09-02T18:51:17.646198Z"
        },
        "papermill": {
          "duration": 0.486826,
          "end_time": "2023-09-02T18:51:17.648307",
          "exception": false,
          "start_time": "2023-09-02T18:51:17.161481",
          "status": "completed"
        },
        "tags": []
      },
      "outputs": [
        {
          "data": {
            "image/png": "[encoded data removed]",
            "text/plain": [
              "<Figure size 640x480 with 1 Axes>"
            ]
          },
          "metadata": {},
          "output_type": "display_data"
        }
      ],
      "source": [
        "graph = _get_connectivity_graph(netlist)\n",
        "nx.draw(graph, with_labels=True)"
      ]
    },
    {
      "cell_type": "code",
      "execution_count": 7,
      "id": "fc992d1a6b95c05c",
      "metadata": {
        "execution": {
          "iopub.execute_input": "2023-09-02T18:51:17.655112Z",
          "iopub.status.busy": "2023-09-02T18:51:17.654570Z",
          "iopub.status.idle": "2023-09-02T18:51:17.658178Z",
          "shell.execute_reply": "2023-09-02T18:51:17.657591Z"
        },
        "papermill": {
          "duration": 0.008493,
          "end_time": "2023-09-02T18:51:17.659412",
          "exception": false,
          "start_time": "2023-09-02T18:51:17.650919",
          "status": "completed"
        },
        "tags": [
          "hide-input"
        ]
      },
      "outputs": [],
      "source": [
        "def _get_nodes_to_remove(graph, netlist):\n",
        "    nodes = set()\n",
        "    for port in netlist[\"ports\"]:\n",
        "        nodes |= nx.descendants(graph, port)\n",
        "    nodes_to_remove = set(graph.nodes) - nodes\n",
        "    return list(nodes_to_remove)"
      ]
    },
    {
      "cell_type": "code",
      "execution_count": 8,
      "id": "15d20c02-06fa-4586-8ba3-3cbfa63f8e14",
      "metadata": {
        "execution": {
          "iopub.execute_input": "2023-09-02T18:51:17.665125Z",
          "iopub.status.busy": "2023-09-02T18:51:17.664679Z",
          "iopub.status.idle": "2023-09-02T18:51:17.778104Z",
          "shell.execute_reply": "2023-09-02T18:51:17.777614Z"
        },
        "papermill": {
          "duration": 0.117754,
          "end_time": "2023-09-02T18:51:17.779471",
          "exception": false,
          "start_time": "2023-09-02T18:51:17.661717",
          "status": "completed"
        },
        "tags": []
      },
      "outputs": [
        {
          "data": {
            "image/png": "[encoded data removed]",
            "text/plain": [
              "<Figure size 640x480 with 1 Axes>"
            ]
          },
          "metadata": {},
          "output_type": "display_data"
        }
      ],
      "source": [
        "graph.remove_nodes_from(_get_nodes_to_remove(graph, netlist))\n",
        "nx.draw(graph, with_labels=True)"
      ]
    },
    {
      "cell_type": "code",
      "execution_count": 9,
      "id": "5b2c37773a9def7d",
      "metadata": {
        "execution": {
          "iopub.execute_input": "2023-09-02T18:51:17.787891Z",
          "iopub.status.busy": "2023-09-02T18:51:17.787532Z",
          "iopub.status.idle": "2023-09-02T18:51:17.793637Z",
          "shell.execute_reply": "2023-09-02T18:51:17.793199Z"
        },
        "papermill": {
          "duration": 0.011307,
          "end_time": "2023-09-02T18:51:17.794858",
          "exception": false,
          "start_time": "2023-09-02T18:51:17.783551",
          "status": "completed"
        },
        "tags": [
          "hide-input"
        ]
      },
      "outputs": [],
      "source": [
        "def _remove_unused_instances_flat(flat_netlist):\n",
        "    flat_netlist = {**flat_netlist}\n",
        "\n",
        "    flat_netlist[\"instances\"] = {**flat_netlist[\"instances\"]}\n",
        "    flat_netlist[\"connections\"] = {**flat_netlist[\"connections\"]}\n",
        "    flat_netlist[\"ports\"] = {**flat_netlist[\"ports\"]}\n",
        "\n",
        "    graph = _get_connectivity_graph(flat_netlist)\n",
        "    names = set(_get_nodes_to_remove(graph, flat_netlist))\n",
        "\n",
        "    for name in list(names):\n",
        "        if name in flat_netlist[\"instances\"]:\n",
        "            del flat_netlist[\"instances\"][name]\n",
        "\n",
        "    for conn1, conn2 in list(flat_netlist[\"connections\"].items()):\n",
        "        for conn in [conn1, conn2]:\n",
        "            name, _ = conn.split(\",\")\n",
        "            if name in names and conn1 in flat_netlist[\"connections\"]:\n",
        "                del flat_netlist[\"connections\"][conn1]\n",
        "\n",
        "    for pname, conn in list(flat_netlist[\"ports\"].items()):\n",
        "        name, _ = conn.split(\",\")\n",
        "        if name in names and pname in flat_netlist[\"ports\"]:\n",
        "            del flat_netlist[\"ports\"][pname]\n",
        "\n",
        "    return flat_netlist"
      ]
    },
    {
      "cell_type": "code",
      "execution_count": 10,
      "id": "719f8ec9-7f4b-45d3-97ae-10572684b0f7",
      "metadata": {
        "execution": {
          "iopub.execute_input": "2023-09-02T18:51:17.801127Z",
          "iopub.status.busy": "2023-09-02T18:51:17.800873Z",
          "iopub.status.idle": "2023-09-02T18:51:17.805013Z",
          "shell.execute_reply": "2023-09-02T18:51:17.804602Z"
        },
        "papermill": {
          "duration": 0.008585,
          "end_time": "2023-09-02T18:51:17.806114",
          "exception": false,
          "start_time": "2023-09-02T18:51:17.797529",
          "status": "completed"
        },
        "tags": []
      },
      "outputs": [
        {
          "data": {
            "text/plain": [
              "{'instances': {'lft': 'coupler',\n",
              "  'top': 'straight',\n",
              "  'btm': 'straight',\n",
              "  'rgt': 'coupler'},\n",
              " 'connections': {'lft,out0': 'btm,in0',\n",
              "  'btm,out0': 'rgt,in0',\n",
              "  'lft,out1': 'top,in0',\n",
              "  'top,out0': 'rgt,in1'},\n",
              " 'ports': {'in0': 'lft,in0',\n",
              "  'in1': 'lft,in1',\n",
              "  'out0': 'rgt,out0',\n",
              "  'out1': 'rgt,out1'}}"
            ]
          },
          "execution_count": 10,
          "metadata": {},
          "output_type": "execute_result"
        }
      ],
      "source": [
        "_remove_unused_instances_flat(netlist)"
      ]
    },
    {
      "cell_type": "markdown",
      "id": "6262daf33e1206db",
      "metadata": {},
      "source": [
        ":::{eval-rst}\n",
        ".. autofunction:: sax.netlist_cleaning.remove_unused_instances\n",
        ":::\n"
      ]
    },
    {
      "cell_type": "code",
      "execution_count": 11,
      "id": "42e625f824d25855",
      "metadata": {
        "execution": {
          "iopub.execute_input": "2023-09-02T18:51:17.841078Z",
          "iopub.status.busy": "2023-09-02T18:51:17.840596Z",
          "iopub.status.idle": "2023-09-02T18:51:17.844341Z",
          "shell.execute_reply": "2023-09-02T18:51:17.843841Z"
        },
        "papermill": {
          "duration": 0.036531,
          "end_time": "2023-09-02T18:51:17.845429",
          "exception": false,
          "start_time": "2023-09-02T18:51:17.808898",
          "status": "completed"
        },
        "tags": [
          "hide-input"
        ]
      },
      "outputs": [],
      "source": [
        "def remove_unused_instances(recursive_netlist):\n",
        "    recursive_netlist = {**recursive_netlist}\n",
        "\n",
        "    for name, flat_netlist in recursive_netlist.items():\n",
        "        recursive_netlist[name] = _remove_unused_instances_flat(flat_netlist)\n",
        "\n",
        "    return recursive_netlist"
      ]
    },
    {
      "cell_type": "code",
      "execution_count": 12,
      "id": "564c7b5f-a212-4afc-b4db-d7de5d92d7fa",
      "metadata": {
        "execution": {
          "iopub.execute_input": "2023-09-02T18:51:17.852134Z",
          "iopub.status.busy": "2023-09-02T18:51:17.851781Z",
          "iopub.status.idle": "2023-09-02T18:51:17.856458Z",
          "shell.execute_reply": "2023-09-02T18:51:17.856043Z"
        },
        "papermill": {
          "duration": 0.009176,
          "end_time": "2023-09-02T18:51:17.857504",
          "exception": false,
          "start_time": "2023-09-02T18:51:17.848328",
          "status": "completed"
        },
        "tags": []
      },
      "outputs": [
        {
          "data": {
            "text/plain": [
              "{'top_level': {'instances': {'lft': 'coupler',\n",
              "   'top': 'straight',\n",
              "   'btm': 'straight',\n",
              "   'rgt': 'coupler'},\n",
              "  'connections': {'lft,out0': 'btm,in0',\n",
              "   'btm,out0': 'rgt,in0',\n",
              "   'lft,out1': 'top,in0',\n",
              "   'top,out0': 'rgt,in1'},\n",
              "  'ports': {'in0': 'lft,in0',\n",
              "   'in1': 'lft,in1',\n",
              "   'out0': 'rgt,out0',\n",
              "   'out1': 'rgt,out1'}},\n",
              " 'test': {'instances': {'lft': 'coupler',\n",
              "   'top': 'straight',\n",
              "   'btm': 'straight',\n",
              "   'rgt': 'coupler'},\n",
              "  'connections': {'lft,out0': 'btm,in0',\n",
              "   'btm,out0': 'rgt,in0',\n",
              "   'lft,out1': 'top,in0',\n",
              "   'top,out0': 'rgt,in1'},\n",
              "  'ports': {'in0': 'lft,in0',\n",
              "   'in1': 'lft,in1',\n",
              "   'out0': 'rgt,out0',\n",
              "   'out1': 'rgt,out1'}}}"
            ]
          },
          "execution_count": 12,
          "metadata": {},
          "output_type": "execute_result"
        }
      ],
      "source": [
        "remove_unused_instances({\"top_level\": netlist, \"test\": netlist})"
      ]
    }
  ],
  "metadata": {
    "kernelspec": {
      "display_name": "sax",
      "language": "python",
      "name": "sax"
    },
    "language_info": {
      "codemirror_mode": {
        "name": "ipython",
        "version": 3
      },
      "file_extension": ".py",
      "mimetype": "text/x-python",
      "name": "python",
      "nbconvert_exporter": "python",
      "pygments_lexer": "ipython3",
      "version": "3.11.5"
    },
    "papermill": {
      "default_parameters": {},
      "duration": 3.327187,
      "end_time": "2023-09-02T18:51:18.276788",
      "environment_variables": {},
      "exception": null,
      "input_path": "./nbs/06b_netlist_cleaning.ipynb",
      "output_path": "./nbs/06b_netlist_cleaning.ipynb",
      "parameters": {},
      "start_time": "2023-09-02T18:51:14.949601",
      "version": "2.4.0"
    }
  },
  "nbformat": 4,
  "nbformat_minor": 5
}