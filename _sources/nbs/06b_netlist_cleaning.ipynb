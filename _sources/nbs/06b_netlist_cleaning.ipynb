{
  "cells": [
    {
      "cell_type": "code",
      "execution_count": 1,
      "id": "7ed8518c5dda44b7",
      "metadata": {
        "execution": {
          "iopub.execute_input": "2023-06-01T21:10:45.458723Z",
          "iopub.status.busy": "2023-06-01T21:10:45.457994Z",
          "iopub.status.idle": "2023-06-01T21:10:45.462156Z",
          "shell.execute_reply": "2023-06-01T21:10:45.461639Z"
        },
        "papermill": {
          "duration": 0.009367,
          "end_time": "2023-06-01T21:10:45.463657",
          "exception": false,
          "start_time": "2023-06-01T21:10:45.454290",
          "status": "completed"
        },
        "tags": [
          "remove-cell"
        ]
      },
      "outputs": [],
      "source": []
    },
    {
      "cell_type": "markdown",
      "id": "160321f7-d133-4bb8-8015-b5fc48251bb0",
      "metadata": {
        "papermill": {
          "duration": 0.003141,
          "end_time": "2023-06-01T21:10:45.469019",
          "exception": false,
          "start_time": "2023-06-01T21:10:45.465878",
          "status": "completed"
        },
        "tags": []
      },
      "source": [
        "# Netlist Cleaning\n",
        "\n",
        "> Graph Analysis and cleaning of a SAX Netlist"
      ]
    },
    {
      "cell_type": "code",
      "execution_count": 2,
      "id": "01b6f03b0ba68104",
      "metadata": {
        "execution": {
          "iopub.execute_input": "2023-06-01T21:10:45.473625Z",
          "iopub.status.busy": "2023-06-01T21:10:45.473409Z",
          "iopub.status.idle": "2023-06-01T21:10:46.306198Z",
          "shell.execute_reply": "2023-06-01T21:10:46.305687Z"
        },
        "papermill": {
          "duration": 0.83713,
          "end_time": "2023-06-01T21:10:46.307936",
          "exception": false,
          "start_time": "2023-06-01T21:10:45.470806",
          "status": "completed"
        },
        "tags": [
          "hide-input"
        ]
      },
      "outputs": [],
      "source": [
        "from collections import defaultdict\n",
        "from typing import Dict, List\n",
        "\n",
        "from natsort import natsorted\n",
        "from sax.backends.additive import graph_edges\n",
        "from sax.typing_ import SDict\n",
        "import networkx as nx\n",
        "\n",
        "try:\n",
        "    import jax.numpy as jnp\n",
        "    JAX_AVAILABLE = True\n",
        "except ImportError:\n",
        "    import numpy as jnp\n",
        "    JAX_AVAILABLE = False"
      ]
    },
    {
      "cell_type": "code",
      "execution_count": 3,
      "id": "ca2dba2e-19a6-4b21-9b94-ea512df17f25",
      "metadata": {
        "execution": {
          "iopub.execute_input": "2023-06-01T21:10:46.314329Z",
          "iopub.status.busy": "2023-06-01T21:10:46.313262Z",
          "iopub.status.idle": "2023-06-01T21:10:46.318348Z",
          "shell.execute_reply": "2023-06-01T21:10:46.317889Z"
        },
        "papermill": {
          "duration": 0.009612,
          "end_time": "2023-06-01T21:10:46.319676",
          "exception": false,
          "start_time": "2023-06-01T21:10:46.310064",
          "status": "completed"
        },
        "tags": []
      },
      "outputs": [],
      "source": [
        "netlist = {\n",
        "    \"instances\": {\n",
        "        \"lft\": \"coupler\",\n",
        "        \"top\": \"straight\",\n",
        "        \"btm\": \"straight\",\n",
        "        \"rgt\": \"coupler\",\n",
        "        \"lft_\": \"coupler\",\n",
        "        \"top_\": \"straight\",\n",
        "        \"btm_\": \"straight\",\n",
        "        \"rgt_\": \"coupler\",\n",
        "    },\n",
        "    \"connections\": {\n",
        "        \"lft,out0\": \"btm,in0\",\n",
        "        \"btm,out0\": \"rgt,in0\",\n",
        "        \"lft,out1\": \"top,in0\",\n",
        "        \"top,out0\": \"rgt,in1\",\n",
        "        \"lft_,out0\": \"btm_,in0\",\n",
        "        \"btm_,out0\": \"rgt_,in0\",\n",
        "        \"lft_,out1\": \"top_,in0\",\n",
        "        \"top_,out0\": \"rgt_,in1\",\n",
        "    },\n",
        "    \"ports\": {\n",
        "        \"in0\": \"lft,in0\",\n",
        "        \"in1\": \"lft,in1\",\n",
        "        \"out0\": \"rgt,out0\",\n",
        "        \"out1\": \"rgt,out1\",\n",
        "    },\n",
        "}"
      ]
    },
    {
      "cell_type": "code",
      "execution_count": 4,
      "id": "bf68bca75bd344d3",
      "metadata": {
        "execution": {
          "iopub.execute_input": "2023-06-01T21:10:46.324893Z",
          "iopub.status.busy": "2023-06-01T21:10:46.324538Z",
          "iopub.status.idle": "2023-06-01T21:10:46.329100Z",
          "shell.execute_reply": "2023-06-01T21:10:46.328680Z"
        },
        "papermill": {
          "duration": 0.008986,
          "end_time": "2023-06-01T21:10:46.330520",
          "exception": false,
          "start_time": "2023-06-01T21:10:46.321534",
          "status": "completed"
        },
        "tags": [
          "hide-input"
        ]
      },
      "outputs": [],
      "source": [
        "def _get_connectivity_netlist(netlist):\n",
        "    connectivity_netlist = {\n",
        "        \"instances\": natsorted(netlist[\"instances\"]),\n",
        "        \"connections\": [\n",
        "            (c1.split(\",\")[0], c2.split(\",\")[0])\n",
        "            for c1, c2 in netlist[\"connections\"].items()\n",
        "        ],\n",
        "        \"ports\": [(p, c.split(\",\")[0]) for p, c in netlist[\"ports\"].items()],\n",
        "    }\n",
        "    return connectivity_netlist"
      ]
    },
    {
      "cell_type": "code",
      "execution_count": 5,
      "id": "b1fb9f765eab34ec",
      "metadata": {
        "execution": {
          "iopub.execute_input": "2023-06-01T21:10:46.335614Z",
          "iopub.status.busy": "2023-06-01T21:10:46.334936Z",
          "iopub.status.idle": "2023-06-01T21:10:46.338609Z",
          "shell.execute_reply": "2023-06-01T21:10:46.338160Z"
        },
        "papermill": {
          "duration": 0.007929,
          "end_time": "2023-06-01T21:10:46.340276",
          "exception": false,
          "start_time": "2023-06-01T21:10:46.332347",
          "status": "completed"
        },
        "tags": [
          "hide-input"
        ]
      },
      "outputs": [],
      "source": [
        "def _get_connectivity_graph(netlist):\n",
        "    graph = nx.Graph()\n",
        "    connectivity_netlist = _get_connectivity_netlist(netlist)\n",
        "    for name in connectivity_netlist[\"instances\"]:\n",
        "        graph.add_node(name)\n",
        "    for c1, c2 in connectivity_netlist[\"connections\"]:\n",
        "        graph.add_edge(c1, c2)\n",
        "    for c1, c2 in connectivity_netlist[\"ports\"]:\n",
        "        graph.add_edge(c1, c2)\n",
        "    return graph"
      ]
    },
    {
      "cell_type": "code",
      "execution_count": 6,
      "id": "3be6bc3f-c9b5-40c1-b7d2-d0bc5696b17d",
      "metadata": {
        "execution": {
          "iopub.execute_input": "2023-06-01T21:10:46.344769Z",
          "iopub.status.busy": "2023-06-01T21:10:46.344589Z",
          "iopub.status.idle": "2023-06-01T21:10:46.896940Z",
          "shell.execute_reply": "2023-06-01T21:10:46.896435Z"
        },
        "papermill": {
          "duration": 0.556339,
          "end_time": "2023-06-01T21:10:46.898408",
          "exception": false,
          "start_time": "2023-06-01T21:10:46.342069",
          "status": "completed"
        },
        "tags": []
      },
      "outputs": [
        {
          "data": {
            "image/png": "[encoded data removed]",
            "text/plain": [
              "<Figure size 640x480 with 1 Axes>"
            ]
          },
          "metadata": {},
          "output_type": "display_data"
        }
      ],
      "source": [
        "graph = _get_connectivity_graph(netlist)\n",
        "nx.draw(graph, with_labels=True)"
      ]
    },
    {
      "cell_type": "code",
      "execution_count": 7,
      "id": "4892bfaf84aacb57",
      "metadata": {
        "execution": {
          "iopub.execute_input": "2023-06-01T21:10:46.905279Z",
          "iopub.status.busy": "2023-06-01T21:10:46.904455Z",
          "iopub.status.idle": "2023-06-01T21:10:46.909243Z",
          "shell.execute_reply": "2023-06-01T21:10:46.908813Z"
        },
        "papermill": {
          "duration": 0.009564,
          "end_time": "2023-06-01T21:10:46.910531",
          "exception": false,
          "start_time": "2023-06-01T21:10:46.900967",
          "status": "completed"
        },
        "tags": [
          "hide-input"
        ]
      },
      "outputs": [],
      "source": [
        "def _get_nodes_to_remove(graph, netlist):\n",
        "    nodes = set()\n",
        "    for port in netlist[\"ports\"]:\n",
        "        nodes |= nx.descendants(graph, port)\n",
        "    nodes_to_remove = set(graph.nodes) - nodes\n",
        "    return list(nodes_to_remove)"
      ]
    },
    {
      "cell_type": "code",
      "execution_count": 8,
      "id": "15d20c02-06fa-4586-8ba3-3cbfa63f8e14",
      "metadata": {
        "execution": {
          "iopub.execute_input": "2023-06-01T21:10:46.916275Z",
          "iopub.status.busy": "2023-06-01T21:10:46.916082Z",
          "iopub.status.idle": "2023-06-01T21:10:47.051903Z",
          "shell.execute_reply": "2023-06-01T21:10:47.051408Z"
        },
        "papermill": {
          "duration": 0.140537,
          "end_time": "2023-06-01T21:10:47.053397",
          "exception": false,
          "start_time": "2023-06-01T21:10:46.912860",
          "status": "completed"
        },
        "tags": []
      },
      "outputs": [
        {
          "data": {
            "image/png": "[encoded data removed]",
            "text/plain": [
              "<Figure size 640x480 with 1 Axes>"
            ]
          },
          "metadata": {},
          "output_type": "display_data"
        }
      ],
      "source": [
        "graph.remove_nodes_from(_get_nodes_to_remove(graph, netlist))\n",
        "nx.draw(graph, with_labels=True)"
      ]
    },
    {
      "cell_type": "code",
      "execution_count": 9,
      "id": "c72656b5fd19bf1d",
      "metadata": {
        "execution": {
          "iopub.execute_input": "2023-06-01T21:10:47.060700Z",
          "iopub.status.busy": "2023-06-01T21:10:47.060225Z",
          "iopub.status.idle": "2023-06-01T21:10:47.066422Z",
          "shell.execute_reply": "2023-06-01T21:10:47.065842Z"
        },
        "papermill": {
          "duration": 0.01126,
          "end_time": "2023-06-01T21:10:47.067714",
          "exception": false,
          "start_time": "2023-06-01T21:10:47.056454",
          "status": "completed"
        },
        "tags": [
          "hide-input"
        ]
      },
      "outputs": [],
      "source": [
        "def _remove_unused_instances_flat(flat_netlist):\n",
        "    flat_netlist = {**flat_netlist}\n",
        "\n",
        "    flat_netlist[\"instances\"] = {**flat_netlist[\"instances\"]}\n",
        "    flat_netlist[\"connections\"] = {**flat_netlist[\"connections\"]}\n",
        "    flat_netlist[\"ports\"] = {**flat_netlist[\"ports\"]}\n",
        "\n",
        "    graph = _get_connectivity_graph(flat_netlist)\n",
        "    names = set(_get_nodes_to_remove(graph, flat_netlist))\n",
        "\n",
        "    for name in list(names):\n",
        "        if name in flat_netlist[\"instances\"]:\n",
        "            del flat_netlist[\"instances\"][name]\n",
        "\n",
        "    for conn1, conn2 in list(flat_netlist[\"connections\"].items()):\n",
        "        for conn in [conn1, conn2]:\n",
        "            name, _ = conn.split(\",\")\n",
        "            if name in names and conn1 in flat_netlist[\"connections\"]:\n",
        "                del flat_netlist[\"connections\"][conn1]\n",
        "\n",
        "    for pname, conn in list(flat_netlist[\"ports\"].items()):\n",
        "        name, _ = conn.split(\",\")\n",
        "        if name in names and pname in flat_netlist[\"ports\"]:\n",
        "            del flat_netlist[\"ports\"][pname]\n",
        "\n",
        "    return flat_netlist"
      ]
    },
    {
      "cell_type": "code",
      "execution_count": 10,
      "id": "719f8ec9-7f4b-45d3-97ae-10572684b0f7",
      "metadata": {
        "execution": {
          "iopub.execute_input": "2023-06-01T21:10:47.074443Z",
          "iopub.status.busy": "2023-06-01T21:10:47.074098Z",
          "iopub.status.idle": "2023-06-01T21:10:47.080248Z",
          "shell.execute_reply": "2023-06-01T21:10:47.079831Z"
        },
        "papermill": {
          "duration": 0.011005,
          "end_time": "2023-06-01T21:10:47.081523",
          "exception": false,
          "start_time": "2023-06-01T21:10:47.070518",
          "status": "completed"
        },
        "tags": []
      },
      "outputs": [
        {
          "data": {
            "text/plain": [
              "{'instances': {'lft': 'coupler',\n",
              "  'top': 'straight',\n",
              "  'btm': 'straight',\n",
              "  'rgt': 'coupler'},\n",
              " 'connections': {'lft,out0': 'btm,in0',\n",
              "  'btm,out0': 'rgt,in0',\n",
              "  'lft,out1': 'top,in0',\n",
              "  'top,out0': 'rgt,in1'},\n",
              " 'ports': {'in0': 'lft,in0',\n",
              "  'in1': 'lft,in1',\n",
              "  'out0': 'rgt,out0',\n",
              "  'out1': 'rgt,out1'}}"
            ]
          },
          "execution_count": 10,
          "metadata": {},
          "output_type": "execute_result"
        }
      ],
      "source": [
        "_remove_unused_instances_flat(netlist)"
      ]
    },
    {
      "cell_type": "markdown",
      "id": "340b31ba42de0679",
      "metadata": {},
      "source": [
        ":::{eval-rst}\n",
        ".. autofunction:: sax.netlist_cleaning.remove_unused_instances\n",
        ":::\n"
      ]
    },
    {
      "cell_type": "code",
      "execution_count": 11,
      "id": "7626f1a702c45e0d",
      "metadata": {
        "execution": {
          "iopub.execute_input": "2023-06-01T21:10:47.088212Z",
          "iopub.status.busy": "2023-06-01T21:10:47.088030Z",
          "iopub.status.idle": "2023-06-01T21:10:47.090965Z",
          "shell.execute_reply": "2023-06-01T21:10:47.090476Z"
        },
        "papermill": {
          "duration": 0.008038,
          "end_time": "2023-06-01T21:10:47.092586",
          "exception": false,
          "start_time": "2023-06-01T21:10:47.084548",
          "status": "completed"
        },
        "tags": [
          "hide-input"
        ]
      },
      "outputs": [],
      "source": [
        "def remove_unused_instances(recursive_netlist):\n",
        "    recursive_netlist = {**recursive_netlist}\n",
        "\n",
        "    for name, flat_netlist in recursive_netlist.items():\n",
        "        recursive_netlist[name] = _remove_unused_instances_flat(flat_netlist)\n",
        "\n",
        "    return recursive_netlist"
      ]
    },
    {
      "cell_type": "code",
      "execution_count": 12,
      "id": "564c7b5f-a212-4afc-b4db-d7de5d92d7fa",
      "metadata": {
        "execution": {
          "iopub.execute_input": "2023-06-01T21:10:47.099042Z",
          "iopub.status.busy": "2023-06-01T21:10:47.098858Z",
          "iopub.status.idle": "2023-06-01T21:10:47.103340Z",
          "shell.execute_reply": "2023-06-01T21:10:47.102887Z"
        },
        "papermill": {
          "duration": 0.010343,
          "end_time": "2023-06-01T21:10:47.105697",
          "exception": false,
          "start_time": "2023-06-01T21:10:47.095354",
          "status": "completed"
        },
        "tags": []
      },
      "outputs": [
        {
          "data": {
            "text/plain": [
              "{'top_level': {'instances': {'lft': 'coupler',\n",
              "   'top': 'straight',\n",
              "   'btm': 'straight',\n",
              "   'rgt': 'coupler'},\n",
              "  'connections': {'lft,out0': 'btm,in0',\n",
              "   'btm,out0': 'rgt,in0',\n",
              "   'lft,out1': 'top,in0',\n",
              "   'top,out0': 'rgt,in1'},\n",
              "  'ports': {'in0': 'lft,in0',\n",
              "   'in1': 'lft,in1',\n",
              "   'out0': 'rgt,out0',\n",
              "   'out1': 'rgt,out1'}},\n",
              " 'test': {'instances': {'lft': 'coupler',\n",
              "   'top': 'straight',\n",
              "   'btm': 'straight',\n",
              "   'rgt': 'coupler'},\n",
              "  'connections': {'lft,out0': 'btm,in0',\n",
              "   'btm,out0': 'rgt,in0',\n",
              "   'lft,out1': 'top,in0',\n",
              "   'top,out0': 'rgt,in1'},\n",
              "  'ports': {'in0': 'lft,in0',\n",
              "   'in1': 'lft,in1',\n",
              "   'out0': 'rgt,out0',\n",
              "   'out1': 'rgt,out1'}}}"
            ]
          },
          "execution_count": 12,
          "metadata": {},
          "output_type": "execute_result"
        }
      ],
      "source": [
        "remove_unused_instances({\"top_level\": netlist, \"test\": netlist})"
      ]
    }
  ],
  "metadata": {
    "kernelspec": {
      "display_name": "sax",
      "language": "python",
      "name": "sax"
    },
    "language_info": {
      "codemirror_mode": {
        "name": "ipython",
        "version": 3
      },
      "file_extension": ".py",
      "mimetype": "text/x-python",
      "name": "python",
      "nbconvert_exporter": "python",
      "pygments_lexer": "ipython3",
      "version": "3.11.3"
    },
    "papermill": {
      "default_parameters": {},
      "duration": 3.59438,
      "end_time": "2023-06-01T21:10:47.636789",
      "environment_variables": {},
      "exception": null,
      "input_path": "./nbs/06b_netlist_cleaning.ipynb",
      "output_path": "./nbs/06b_netlist_cleaning.ipynb",
      "parameters": {},
      "start_time": "2023-06-01T21:10:44.042409",
      "version": "2.3.4"
    }
  },
  "nbformat": 4,
  "nbformat_minor": 5
}