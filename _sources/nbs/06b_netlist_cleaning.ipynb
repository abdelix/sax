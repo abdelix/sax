{
  "cells": [
    {
      "cell_type": "code",
      "execution_count": 1,
      "id": "56bb98bb399635b3",
      "metadata": {
        "execution": {
          "iopub.execute_input": "2023-07-01T03:33:20.785600Z",
          "iopub.status.busy": "2023-07-01T03:33:20.785353Z",
          "iopub.status.idle": "2023-07-01T03:33:20.791304Z",
          "shell.execute_reply": "2023-07-01T03:33:20.790815Z"
        },
        "papermill": {
          "duration": 0.010763,
          "end_time": "2023-07-01T03:33:20.792738",
          "exception": false,
          "start_time": "2023-07-01T03:33:20.781975",
          "status": "completed"
        },
        "tags": [
          "remove-cell"
        ]
      },
      "outputs": [],
      "source": []
    },
    {
      "cell_type": "markdown",
      "id": "160321f7-d133-4bb8-8015-b5fc48251bb0",
      "metadata": {
        "papermill": {
          "duration": 0.001838,
          "end_time": "2023-07-01T03:33:20.796836",
          "exception": false,
          "start_time": "2023-07-01T03:33:20.794998",
          "status": "completed"
        },
        "tags": []
      },
      "source": [
        "# Netlist Cleaning\n",
        "\n",
        "> Graph Analysis and cleaning of a SAX Netlist"
      ]
    },
    {
      "cell_type": "code",
      "execution_count": 2,
      "id": "39bb524fe1ae2736",
      "metadata": {
        "execution": {
          "iopub.execute_input": "2023-07-01T03:33:20.801448Z",
          "iopub.status.busy": "2023-07-01T03:33:20.801251Z",
          "iopub.status.idle": "2023-07-01T03:33:21.596132Z",
          "shell.execute_reply": "2023-07-01T03:33:21.595585Z"
        },
        "papermill": {
          "duration": 0.798997,
          "end_time": "2023-07-01T03:33:21.597700",
          "exception": false,
          "start_time": "2023-07-01T03:33:20.798703",
          "status": "completed"
        },
        "tags": [
          "hide-input"
        ]
      },
      "outputs": [],
      "source": [
        "from collections import defaultdict\n",
        "from typing import Dict, List\n",
        "\n",
        "from natsort import natsorted\n",
        "from sax.backends.additive import graph_edges\n",
        "from sax.typing_ import SDict\n",
        "import networkx as nx\n",
        "\n",
        "try:\n",
        "    import jax.numpy as jnp\n",
        "    JAX_AVAILABLE = True\n",
        "except ImportError:\n",
        "    import numpy as jnp\n",
        "    JAX_AVAILABLE = False"
      ]
    },
    {
      "cell_type": "code",
      "execution_count": 3,
      "id": "ca2dba2e-19a6-4b21-9b94-ea512df17f25",
      "metadata": {
        "execution": {
          "iopub.execute_input": "2023-07-01T03:33:21.603630Z",
          "iopub.status.busy": "2023-07-01T03:33:21.602937Z",
          "iopub.status.idle": "2023-07-01T03:33:21.607444Z",
          "shell.execute_reply": "2023-07-01T03:33:21.606951Z"
        },
        "papermill": {
          "duration": 0.00867,
          "end_time": "2023-07-01T03:33:21.608779",
          "exception": false,
          "start_time": "2023-07-01T03:33:21.600109",
          "status": "completed"
        },
        "tags": []
      },
      "outputs": [],
      "source": [
        "netlist = {\n",
        "    \"instances\": {\n",
        "        \"lft\": \"coupler\",\n",
        "        \"top\": \"straight\",\n",
        "        \"btm\": \"straight\",\n",
        "        \"rgt\": \"coupler\",\n",
        "        \"lft_\": \"coupler\",\n",
        "        \"top_\": \"straight\",\n",
        "        \"btm_\": \"straight\",\n",
        "        \"rgt_\": \"coupler\",\n",
        "    },\n",
        "    \"connections\": {\n",
        "        \"lft,out0\": \"btm,in0\",\n",
        "        \"btm,out0\": \"rgt,in0\",\n",
        "        \"lft,out1\": \"top,in0\",\n",
        "        \"top,out0\": \"rgt,in1\",\n",
        "        \"lft_,out0\": \"btm_,in0\",\n",
        "        \"btm_,out0\": \"rgt_,in0\",\n",
        "        \"lft_,out1\": \"top_,in0\",\n",
        "        \"top_,out0\": \"rgt_,in1\",\n",
        "    },\n",
        "    \"ports\": {\n",
        "        \"in0\": \"lft,in0\",\n",
        "        \"in1\": \"lft,in1\",\n",
        "        \"out0\": \"rgt,out0\",\n",
        "        \"out1\": \"rgt,out1\",\n",
        "    },\n",
        "}"
      ]
    },
    {
      "cell_type": "code",
      "execution_count": 4,
      "id": "74b78632f6e37d24",
      "metadata": {
        "execution": {
          "iopub.execute_input": "2023-07-01T03:33:21.613506Z",
          "iopub.status.busy": "2023-07-01T03:33:21.613316Z",
          "iopub.status.idle": "2023-07-01T03:33:21.616940Z",
          "shell.execute_reply": "2023-07-01T03:33:21.616437Z"
        },
        "papermill": {
          "duration": 0.00799,
          "end_time": "2023-07-01T03:33:21.618714",
          "exception": false,
          "start_time": "2023-07-01T03:33:21.610724",
          "status": "completed"
        },
        "tags": [
          "hide-input"
        ]
      },
      "outputs": [],
      "source": [
        "def _get_connectivity_netlist(netlist):\n",
        "    connectivity_netlist = {\n",
        "        \"instances\": natsorted(netlist[\"instances\"]),\n",
        "        \"connections\": [\n",
        "            (c1.split(\",\")[0], c2.split(\",\")[0])\n",
        "            for c1, c2 in netlist[\"connections\"].items()\n",
        "        ],\n",
        "        \"ports\": [(p, c.split(\",\")[0]) for p, c in netlist[\"ports\"].items()],\n",
        "    }\n",
        "    return connectivity_netlist"
      ]
    },
    {
      "cell_type": "code",
      "execution_count": 5,
      "id": "1313b1e0aaac5d5d",
      "metadata": {
        "execution": {
          "iopub.execute_input": "2023-07-01T03:33:21.623284Z",
          "iopub.status.busy": "2023-07-01T03:33:21.623102Z",
          "iopub.status.idle": "2023-07-01T03:33:21.626446Z",
          "shell.execute_reply": "2023-07-01T03:33:21.625962Z"
        },
        "papermill": {
          "duration": 0.007624,
          "end_time": "2023-07-01T03:33:21.628205",
          "exception": false,
          "start_time": "2023-07-01T03:33:21.620581",
          "status": "completed"
        },
        "tags": [
          "hide-input"
        ]
      },
      "outputs": [],
      "source": [
        "def _get_connectivity_graph(netlist):\n",
        "    graph = nx.Graph()\n",
        "    connectivity_netlist = _get_connectivity_netlist(netlist)\n",
        "    for name in connectivity_netlist[\"instances\"]:\n",
        "        graph.add_node(name)\n",
        "    for c1, c2 in connectivity_netlist[\"connections\"]:\n",
        "        graph.add_edge(c1, c2)\n",
        "    for c1, c2 in connectivity_netlist[\"ports\"]:\n",
        "        graph.add_edge(c1, c2)\n",
        "    return graph"
      ]
    },
    {
      "cell_type": "code",
      "execution_count": 6,
      "id": "3be6bc3f-c9b5-40c1-b7d2-d0bc5696b17d",
      "metadata": {
        "execution": {
          "iopub.execute_input": "2023-07-01T03:33:21.632861Z",
          "iopub.status.busy": "2023-07-01T03:33:21.632673Z",
          "iopub.status.idle": "2023-07-01T03:33:22.140684Z",
          "shell.execute_reply": "2023-07-01T03:33:22.140160Z"
        },
        "papermill": {
          "duration": 0.512021,
          "end_time": "2023-07-01T03:33:22.142137",
          "exception": false,
          "start_time": "2023-07-01T03:33:21.630116",
          "status": "completed"
        },
        "tags": []
      },
      "outputs": [
        {
          "data": {
            "image/png": "[encoded data removed]",
            "text/plain": [
              "<Figure size 640x480 with 1 Axes>"
            ]
          },
          "metadata": {},
          "output_type": "display_data"
        }
      ],
      "source": [
        "graph = _get_connectivity_graph(netlist)\n",
        "nx.draw(graph, with_labels=True)"
      ]
    },
    {
      "cell_type": "code",
      "execution_count": 7,
      "id": "c10c1f7292b442a6",
      "metadata": {
        "execution": {
          "iopub.execute_input": "2023-07-01T03:33:22.148773Z",
          "iopub.status.busy": "2023-07-01T03:33:22.148252Z",
          "iopub.status.idle": "2023-07-01T03:33:22.152811Z",
          "shell.execute_reply": "2023-07-01T03:33:22.152354Z"
        },
        "papermill": {
          "duration": 0.009371,
          "end_time": "2023-07-01T03:33:22.154118",
          "exception": false,
          "start_time": "2023-07-01T03:33:22.144747",
          "status": "completed"
        },
        "tags": [
          "hide-input"
        ]
      },
      "outputs": [],
      "source": [
        "def _get_nodes_to_remove(graph, netlist):\n",
        "    nodes = set()\n",
        "    for port in netlist[\"ports\"]:\n",
        "        nodes |= nx.descendants(graph, port)\n",
        "    nodes_to_remove = set(graph.nodes) - nodes\n",
        "    return list(nodes_to_remove)"
      ]
    },
    {
      "cell_type": "code",
      "execution_count": 8,
      "id": "15d20c02-06fa-4586-8ba3-3cbfa63f8e14",
      "metadata": {
        "execution": {
          "iopub.execute_input": "2023-07-01T03:33:22.159822Z",
          "iopub.status.busy": "2023-07-01T03:33:22.159631Z",
          "iopub.status.idle": "2023-07-01T03:33:22.279697Z",
          "shell.execute_reply": "2023-07-01T03:33:22.279212Z"
        },
        "papermill": {
          "duration": 0.124445,
          "end_time": "2023-07-01T03:33:22.281122",
          "exception": false,
          "start_time": "2023-07-01T03:33:22.156677",
          "status": "completed"
        },
        "tags": []
      },
      "outputs": [
        {
          "data": {
            "image/png": "[encoded data removed]",
            "text/plain": [
              "<Figure size 640x480 with 1 Axes>"
            ]
          },
          "metadata": {},
          "output_type": "display_data"
        }
      ],
      "source": [
        "graph.remove_nodes_from(_get_nodes_to_remove(graph, netlist))\n",
        "nx.draw(graph, with_labels=True)"
      ]
    },
    {
      "cell_type": "code",
      "execution_count": 9,
      "id": "cec9f9906b0f9f93",
      "metadata": {
        "execution": {
          "iopub.execute_input": "2023-07-01T03:33:22.288439Z",
          "iopub.status.busy": "2023-07-01T03:33:22.288066Z",
          "iopub.status.idle": "2023-07-01T03:33:22.294090Z",
          "shell.execute_reply": "2023-07-01T03:33:22.293634Z"
        },
        "papermill": {
          "duration": 0.011185,
          "end_time": "2023-07-01T03:33:22.295427",
          "exception": false,
          "start_time": "2023-07-01T03:33:22.284242",
          "status": "completed"
        },
        "tags": [
          "hide-input"
        ]
      },
      "outputs": [],
      "source": [
        "def _remove_unused_instances_flat(flat_netlist):\n",
        "    flat_netlist = {**flat_netlist}\n",
        "\n",
        "    flat_netlist[\"instances\"] = {**flat_netlist[\"instances\"]}\n",
        "    flat_netlist[\"connections\"] = {**flat_netlist[\"connections\"]}\n",
        "    flat_netlist[\"ports\"] = {**flat_netlist[\"ports\"]}\n",
        "\n",
        "    graph = _get_connectivity_graph(flat_netlist)\n",
        "    names = set(_get_nodes_to_remove(graph, flat_netlist))\n",
        "\n",
        "    for name in list(names):\n",
        "        if name in flat_netlist[\"instances\"]:\n",
        "            del flat_netlist[\"instances\"][name]\n",
        "\n",
        "    for conn1, conn2 in list(flat_netlist[\"connections\"].items()):\n",
        "        for conn in [conn1, conn2]:\n",
        "            name, _ = conn.split(\",\")\n",
        "            if name in names and conn1 in flat_netlist[\"connections\"]:\n",
        "                del flat_netlist[\"connections\"][conn1]\n",
        "\n",
        "    for pname, conn in list(flat_netlist[\"ports\"].items()):\n",
        "        name, _ = conn.split(\",\")\n",
        "        if name in names and pname in flat_netlist[\"ports\"]:\n",
        "            del flat_netlist[\"ports\"][pname]\n",
        "\n",
        "    return flat_netlist"
      ]
    },
    {
      "cell_type": "code",
      "execution_count": 10,
      "id": "719f8ec9-7f4b-45d3-97ae-10572684b0f7",
      "metadata": {
        "execution": {
          "iopub.execute_input": "2023-07-01T03:33:22.301827Z",
          "iopub.status.busy": "2023-07-01T03:33:22.301646Z",
          "iopub.status.idle": "2023-07-01T03:33:22.305925Z",
          "shell.execute_reply": "2023-07-01T03:33:22.305496Z"
        },
        "papermill": {
          "duration": 0.012221,
          "end_time": "2023-07-01T03:33:22.310318",
          "exception": false,
          "start_time": "2023-07-01T03:33:22.298097",
          "status": "completed"
        },
        "tags": []
      },
      "outputs": [
        {
          "data": {
            "text/plain": [
              "{'instances': {'lft': 'coupler',\n",
              "  'top': 'straight',\n",
              "  'btm': 'straight',\n",
              "  'rgt': 'coupler'},\n",
              " 'connections': {'lft,out0': 'btm,in0',\n",
              "  'btm,out0': 'rgt,in0',\n",
              "  'lft,out1': 'top,in0',\n",
              "  'top,out0': 'rgt,in1'},\n",
              " 'ports': {'in0': 'lft,in0',\n",
              "  'in1': 'lft,in1',\n",
              "  'out0': 'rgt,out0',\n",
              "  'out1': 'rgt,out1'}}"
            ]
          },
          "execution_count": 10,
          "metadata": {},
          "output_type": "execute_result"
        }
      ],
      "source": [
        "_remove_unused_instances_flat(netlist)"
      ]
    },
    {
      "cell_type": "markdown",
      "id": "26afc92503cc7e71",
      "metadata": {},
      "source": [
        ":::{eval-rst}\n",
        ".. autofunction:: sax.netlist_cleaning.remove_unused_instances\n",
        ":::\n"
      ]
    },
    {
      "cell_type": "code",
      "execution_count": 11,
      "id": "baf651818972bcd8",
      "metadata": {
        "execution": {
          "iopub.execute_input": "2023-07-01T03:33:22.317320Z",
          "iopub.status.busy": "2023-07-01T03:33:22.317060Z",
          "iopub.status.idle": "2023-07-01T03:33:22.320256Z",
          "shell.execute_reply": "2023-07-01T03:33:22.319773Z"
        },
        "papermill": {
          "duration": 0.008451,
          "end_time": "2023-07-01T03:33:22.321923",
          "exception": false,
          "start_time": "2023-07-01T03:33:22.313472",
          "status": "completed"
        },
        "tags": [
          "hide-input"
        ]
      },
      "outputs": [],
      "source": [
        "def remove_unused_instances(recursive_netlist):\n",
        "    recursive_netlist = {**recursive_netlist}\n",
        "\n",
        "    for name, flat_netlist in recursive_netlist.items():\n",
        "        recursive_netlist[name] = _remove_unused_instances_flat(flat_netlist)\n",
        "\n",
        "    return recursive_netlist"
      ]
    },
    {
      "cell_type": "code",
      "execution_count": 12,
      "id": "564c7b5f-a212-4afc-b4db-d7de5d92d7fa",
      "metadata": {
        "execution": {
          "iopub.execute_input": "2023-07-01T03:33:22.328483Z",
          "iopub.status.busy": "2023-07-01T03:33:22.328228Z",
          "iopub.status.idle": "2023-07-01T03:33:22.333111Z",
          "shell.execute_reply": "2023-07-01T03:33:22.332641Z"
        },
        "papermill": {
          "duration": 0.010652,
          "end_time": "2023-07-01T03:33:22.335383",
          "exception": false,
          "start_time": "2023-07-01T03:33:22.324731",
          "status": "completed"
        },
        "tags": []
      },
      "outputs": [
        {
          "data": {
            "text/plain": [
              "{'top_level': {'instances': {'lft': 'coupler',\n",
              "   'top': 'straight',\n",
              "   'btm': 'straight',\n",
              "   'rgt': 'coupler'},\n",
              "  'connections': {'lft,out0': 'btm,in0',\n",
              "   'btm,out0': 'rgt,in0',\n",
              "   'lft,out1': 'top,in0',\n",
              "   'top,out0': 'rgt,in1'},\n",
              "  'ports': {'in0': 'lft,in0',\n",
              "   'in1': 'lft,in1',\n",
              "   'out0': 'rgt,out0',\n",
              "   'out1': 'rgt,out1'}},\n",
              " 'test': {'instances': {'lft': 'coupler',\n",
              "   'top': 'straight',\n",
              "   'btm': 'straight',\n",
              "   'rgt': 'coupler'},\n",
              "  'connections': {'lft,out0': 'btm,in0',\n",
              "   'btm,out0': 'rgt,in0',\n",
              "   'lft,out1': 'top,in0',\n",
              "   'top,out0': 'rgt,in1'},\n",
              "  'ports': {'in0': 'lft,in0',\n",
              "   'in1': 'lft,in1',\n",
              "   'out0': 'rgt,out0',\n",
              "   'out1': 'rgt,out1'}}}"
            ]
          },
          "execution_count": 12,
          "metadata": {},
          "output_type": "execute_result"
        }
      ],
      "source": [
        "remove_unused_instances({\"top_level\": netlist, \"test\": netlist})"
      ]
    }
  ],
  "metadata": {
    "kernelspec": {
      "display_name": "sax",
      "language": "python",
      "name": "sax"
    },
    "language_info": {
      "codemirror_mode": {
        "name": "ipython",
        "version": 3
      },
      "file_extension": ".py",
      "mimetype": "text/x-python",
      "name": "python",
      "nbconvert_exporter": "python",
      "pygments_lexer": "ipython3",
      "version": "3.11.4"
    },
    "papermill": {
      "default_parameters": {},
      "duration": 3.314125,
      "end_time": "2023-07-01T03:33:22.763760",
      "environment_variables": {},
      "exception": null,
      "input_path": "./nbs/06b_netlist_cleaning.ipynb",
      "output_path": "./nbs/06b_netlist_cleaning.ipynb",
      "parameters": {},
      "start_time": "2023-07-01T03:33:19.449635",
      "version": "2.3.4"
    }
  },
  "nbformat": 4,
  "nbformat_minor": 5
}