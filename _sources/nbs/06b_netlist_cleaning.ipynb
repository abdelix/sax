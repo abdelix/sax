{
  "cells": [
    {
      "cell_type": "code",
      "execution_count": 1,
      "id": "8f55b5750a3a4cee",
      "metadata": {
        "execution": {
          "iopub.execute_input": "2023-06-01T21:33:10.254084Z",
          "iopub.status.busy": "2023-06-01T21:33:10.253814Z",
          "iopub.status.idle": "2023-06-01T21:33:10.258123Z",
          "shell.execute_reply": "2023-06-01T21:33:10.257584Z"
        },
        "papermill": {
          "duration": 0.009412,
          "end_time": "2023-06-01T21:33:10.259545",
          "exception": false,
          "start_time": "2023-06-01T21:33:10.250133",
          "status": "completed"
        },
        "tags": [
          "remove-cell"
        ]
      },
      "outputs": [],
      "source": []
    },
    {
      "cell_type": "markdown",
      "id": "160321f7-d133-4bb8-8015-b5fc48251bb0",
      "metadata": {
        "papermill": {
          "duration": 0.002999,
          "end_time": "2023-06-01T21:33:10.264571",
          "exception": false,
          "start_time": "2023-06-01T21:33:10.261572",
          "status": "completed"
        },
        "tags": []
      },
      "source": [
        "# Netlist Cleaning\n",
        "\n",
        "> Graph Analysis and cleaning of a SAX Netlist"
      ]
    },
    {
      "cell_type": "code",
      "execution_count": 2,
      "id": "95e096e150443cb1",
      "metadata": {
        "execution": {
          "iopub.execute_input": "2023-06-01T21:33:10.268963Z",
          "iopub.status.busy": "2023-06-01T21:33:10.268771Z",
          "iopub.status.idle": "2023-06-01T21:33:11.064652Z",
          "shell.execute_reply": "2023-06-01T21:33:11.064144Z"
        },
        "papermill": {
          "duration": 0.800173,
          "end_time": "2023-06-01T21:33:11.066490",
          "exception": false,
          "start_time": "2023-06-01T21:33:10.266317",
          "status": "completed"
        },
        "tags": [
          "hide-input"
        ]
      },
      "outputs": [],
      "source": [
        "from collections import defaultdict\n",
        "from typing import Dict, List\n",
        "\n",
        "from natsort import natsorted\n",
        "from sax.backends.additive import graph_edges\n",
        "from sax.typing_ import SDict\n",
        "import networkx as nx\n",
        "\n",
        "try:\n",
        "    import jax.numpy as jnp\n",
        "    JAX_AVAILABLE = True\n",
        "except ImportError:\n",
        "    import numpy as jnp\n",
        "    JAX_AVAILABLE = False"
      ]
    },
    {
      "cell_type": "code",
      "execution_count": 3,
      "id": "ca2dba2e-19a6-4b21-9b94-ea512df17f25",
      "metadata": {
        "execution": {
          "iopub.execute_input": "2023-06-01T21:33:11.071903Z",
          "iopub.status.busy": "2023-06-01T21:33:11.071260Z",
          "iopub.status.idle": "2023-06-01T21:33:11.077710Z",
          "shell.execute_reply": "2023-06-01T21:33:11.076646Z"
        },
        "papermill": {
          "duration": 0.010463,
          "end_time": "2023-06-01T21:33:11.079022",
          "exception": false,
          "start_time": "2023-06-01T21:33:11.068559",
          "status": "completed"
        },
        "tags": []
      },
      "outputs": [],
      "source": [
        "netlist = {\n",
        "    \"instances\": {\n",
        "        \"lft\": \"coupler\",\n",
        "        \"top\": \"straight\",\n",
        "        \"btm\": \"straight\",\n",
        "        \"rgt\": \"coupler\",\n",
        "        \"lft_\": \"coupler\",\n",
        "        \"top_\": \"straight\",\n",
        "        \"btm_\": \"straight\",\n",
        "        \"rgt_\": \"coupler\",\n",
        "    },\n",
        "    \"connections\": {\n",
        "        \"lft,out0\": \"btm,in0\",\n",
        "        \"btm,out0\": \"rgt,in0\",\n",
        "        \"lft,out1\": \"top,in0\",\n",
        "        \"top,out0\": \"rgt,in1\",\n",
        "        \"lft_,out0\": \"btm_,in0\",\n",
        "        \"btm_,out0\": \"rgt_,in0\",\n",
        "        \"lft_,out1\": \"top_,in0\",\n",
        "        \"top_,out0\": \"rgt_,in1\",\n",
        "    },\n",
        "    \"ports\": {\n",
        "        \"in0\": \"lft,in0\",\n",
        "        \"in1\": \"lft,in1\",\n",
        "        \"out0\": \"rgt,out0\",\n",
        "        \"out1\": \"rgt,out1\",\n",
        "    },\n",
        "}"
      ]
    },
    {
      "cell_type": "code",
      "execution_count": 4,
      "id": "ce9e02100b36e9e7",
      "metadata": {
        "execution": {
          "iopub.execute_input": "2023-06-01T21:33:11.083717Z",
          "iopub.status.busy": "2023-06-01T21:33:11.083371Z",
          "iopub.status.idle": "2023-06-01T21:33:11.087592Z",
          "shell.execute_reply": "2023-06-01T21:33:11.086907Z"
        },
        "papermill": {
          "duration": 0.007966,
          "end_time": "2023-06-01T21:33:11.088739",
          "exception": false,
          "start_time": "2023-06-01T21:33:11.080773",
          "status": "completed"
        },
        "tags": [
          "hide-input"
        ]
      },
      "outputs": [],
      "source": [
        "def _get_connectivity_netlist(netlist):\n",
        "    connectivity_netlist = {\n",
        "        \"instances\": natsorted(netlist[\"instances\"]),\n",
        "        \"connections\": [\n",
        "            (c1.split(\",\")[0], c2.split(\",\")[0])\n",
        "            for c1, c2 in netlist[\"connections\"].items()\n",
        "        ],\n",
        "        \"ports\": [(p, c.split(\",\")[0]) for p, c in netlist[\"ports\"].items()],\n",
        "    }\n",
        "    return connectivity_netlist"
      ]
    },
    {
      "cell_type": "code",
      "execution_count": 5,
      "id": "a7354f0b191ed5f1",
      "metadata": {
        "execution": {
          "iopub.execute_input": "2023-06-01T21:33:11.093504Z",
          "iopub.status.busy": "2023-06-01T21:33:11.093132Z",
          "iopub.status.idle": "2023-06-01T21:33:11.096861Z",
          "shell.execute_reply": "2023-06-01T21:33:11.096444Z"
        },
        "papermill": {
          "duration": 0.007401,
          "end_time": "2023-06-01T21:33:11.097907",
          "exception": false,
          "start_time": "2023-06-01T21:33:11.090506",
          "status": "completed"
        },
        "tags": [
          "hide-input"
        ]
      },
      "outputs": [],
      "source": [
        "def _get_connectivity_graph(netlist):\n",
        "    graph = nx.Graph()\n",
        "    connectivity_netlist = _get_connectivity_netlist(netlist)\n",
        "    for name in connectivity_netlist[\"instances\"]:\n",
        "        graph.add_node(name)\n",
        "    for c1, c2 in connectivity_netlist[\"connections\"]:\n",
        "        graph.add_edge(c1, c2)\n",
        "    for c1, c2 in connectivity_netlist[\"ports\"]:\n",
        "        graph.add_edge(c1, c2)\n",
        "    return graph"
      ]
    },
    {
      "cell_type": "code",
      "execution_count": 6,
      "id": "3be6bc3f-c9b5-40c1-b7d2-d0bc5696b17d",
      "metadata": {
        "execution": {
          "iopub.execute_input": "2023-06-01T21:33:11.102480Z",
          "iopub.status.busy": "2023-06-01T21:33:11.102097Z",
          "iopub.status.idle": "2023-06-01T21:33:11.595386Z",
          "shell.execute_reply": "2023-06-01T21:33:11.594868Z"
        },
        "papermill": {
          "duration": 0.497159,
          "end_time": "2023-06-01T21:33:11.596861",
          "exception": false,
          "start_time": "2023-06-01T21:33:11.099702",
          "status": "completed"
        },
        "tags": []
      },
      "outputs": [
        {
          "data": {
            "image/png": "[encoded data removed]",
            "text/plain": [
              "<Figure size 640x480 with 1 Axes>"
            ]
          },
          "metadata": {},
          "output_type": "display_data"
        }
      ],
      "source": [
        "graph = _get_connectivity_graph(netlist)\n",
        "nx.draw(graph, with_labels=True)"
      ]
    },
    {
      "cell_type": "code",
      "execution_count": 7,
      "id": "371c8627d30e5635",
      "metadata": {
        "execution": {
          "iopub.execute_input": "2023-06-01T21:33:11.603490Z",
          "iopub.status.busy": "2023-06-01T21:33:11.602932Z",
          "iopub.status.idle": "2023-06-01T21:33:11.607432Z",
          "shell.execute_reply": "2023-06-01T21:33:11.607000Z"
        },
        "papermill": {
          "duration": 0.009243,
          "end_time": "2023-06-01T21:33:11.608721",
          "exception": false,
          "start_time": "2023-06-01T21:33:11.599478",
          "status": "completed"
        },
        "tags": [
          "hide-input"
        ]
      },
      "outputs": [],
      "source": [
        "def _get_nodes_to_remove(graph, netlist):\n",
        "    nodes = set()\n",
        "    for port in netlist[\"ports\"]:\n",
        "        nodes |= nx.descendants(graph, port)\n",
        "    nodes_to_remove = set(graph.nodes) - nodes\n",
        "    return list(nodes_to_remove)"
      ]
    },
    {
      "cell_type": "code",
      "execution_count": 8,
      "id": "15d20c02-06fa-4586-8ba3-3cbfa63f8e14",
      "metadata": {
        "execution": {
          "iopub.execute_input": "2023-06-01T21:33:11.614796Z",
          "iopub.status.busy": "2023-06-01T21:33:11.614326Z",
          "iopub.status.idle": "2023-06-01T21:33:11.754348Z",
          "shell.execute_reply": "2023-06-01T21:33:11.753791Z"
        },
        "papermill": {
          "duration": 0.144811,
          "end_time": "2023-06-01T21:33:11.755816",
          "exception": false,
          "start_time": "2023-06-01T21:33:11.611005",
          "status": "completed"
        },
        "tags": []
      },
      "outputs": [
        {
          "data": {
            "image/png": "[encoded data removed]",
            "text/plain": [
              "<Figure size 640x480 with 1 Axes>"
            ]
          },
          "metadata": {},
          "output_type": "display_data"
        }
      ],
      "source": [
        "graph.remove_nodes_from(_get_nodes_to_remove(graph, netlist))\n",
        "nx.draw(graph, with_labels=True)"
      ]
    },
    {
      "cell_type": "code",
      "execution_count": 9,
      "id": "b2cb5a0029f906c8",
      "metadata": {
        "execution": {
          "iopub.execute_input": "2023-06-01T21:33:11.763038Z",
          "iopub.status.busy": "2023-06-01T21:33:11.762651Z",
          "iopub.status.idle": "2023-06-01T21:33:11.768741Z",
          "shell.execute_reply": "2023-06-01T21:33:11.768312Z"
        },
        "papermill": {
          "duration": 0.011179,
          "end_time": "2023-06-01T21:33:11.770015",
          "exception": false,
          "start_time": "2023-06-01T21:33:11.758836",
          "status": "completed"
        },
        "tags": [
          "hide-input"
        ]
      },
      "outputs": [],
      "source": [
        "def _remove_unused_instances_flat(flat_netlist):\n",
        "    flat_netlist = {**flat_netlist}\n",
        "\n",
        "    flat_netlist[\"instances\"] = {**flat_netlist[\"instances\"]}\n",
        "    flat_netlist[\"connections\"] = {**flat_netlist[\"connections\"]}\n",
        "    flat_netlist[\"ports\"] = {**flat_netlist[\"ports\"]}\n",
        "\n",
        "    graph = _get_connectivity_graph(flat_netlist)\n",
        "    names = set(_get_nodes_to_remove(graph, flat_netlist))\n",
        "\n",
        "    for name in list(names):\n",
        "        if name in flat_netlist[\"instances\"]:\n",
        "            del flat_netlist[\"instances\"][name]\n",
        "\n",
        "    for conn1, conn2 in list(flat_netlist[\"connections\"].items()):\n",
        "        for conn in [conn1, conn2]:\n",
        "            name, _ = conn.split(\",\")\n",
        "            if name in names and conn1 in flat_netlist[\"connections\"]:\n",
        "                del flat_netlist[\"connections\"][conn1]\n",
        "\n",
        "    for pname, conn in list(flat_netlist[\"ports\"].items()):\n",
        "        name, _ = conn.split(\",\")\n",
        "        if name in names and pname in flat_netlist[\"ports\"]:\n",
        "            del flat_netlist[\"ports\"][pname]\n",
        "\n",
        "    return flat_netlist"
      ]
    },
    {
      "cell_type": "code",
      "execution_count": 10,
      "id": "719f8ec9-7f4b-45d3-97ae-10572684b0f7",
      "metadata": {
        "execution": {
          "iopub.execute_input": "2023-06-01T21:33:11.776729Z",
          "iopub.status.busy": "2023-06-01T21:33:11.776389Z",
          "iopub.status.idle": "2023-06-01T21:33:11.781662Z",
          "shell.execute_reply": "2023-06-01T21:33:11.781207Z"
        },
        "papermill": {
          "duration": 0.010201,
          "end_time": "2023-06-01T21:33:11.782936",
          "exception": false,
          "start_time": "2023-06-01T21:33:11.772735",
          "status": "completed"
        },
        "tags": []
      },
      "outputs": [
        {
          "data": {
            "text/plain": [
              "{'instances': {'lft': 'coupler',\n",
              "  'top': 'straight',\n",
              "  'btm': 'straight',\n",
              "  'rgt': 'coupler'},\n",
              " 'connections': {'lft,out0': 'btm,in0',\n",
              "  'btm,out0': 'rgt,in0',\n",
              "  'lft,out1': 'top,in0',\n",
              "  'top,out0': 'rgt,in1'},\n",
              " 'ports': {'in0': 'lft,in0',\n",
              "  'in1': 'lft,in1',\n",
              "  'out0': 'rgt,out0',\n",
              "  'out1': 'rgt,out1'}}"
            ]
          },
          "execution_count": 10,
          "metadata": {},
          "output_type": "execute_result"
        }
      ],
      "source": [
        "_remove_unused_instances_flat(netlist)"
      ]
    },
    {
      "cell_type": "markdown",
      "id": "3e56ba144482af89",
      "metadata": {},
      "source": [
        ":::{eval-rst}\n",
        ".. autofunction:: sax.netlist_cleaning.remove_unused_instances\n",
        ":::\n"
      ]
    },
    {
      "cell_type": "code",
      "execution_count": 11,
      "id": "c6803f5d375d3239",
      "metadata": {
        "execution": {
          "iopub.execute_input": "2023-06-01T21:33:11.789251Z",
          "iopub.status.busy": "2023-06-01T21:33:11.789071Z",
          "iopub.status.idle": "2023-06-01T21:33:11.791982Z",
          "shell.execute_reply": "2023-06-01T21:33:11.791517Z"
        },
        "papermill": {
          "duration": 0.007931,
          "end_time": "2023-06-01T21:33:11.793604",
          "exception": false,
          "start_time": "2023-06-01T21:33:11.785673",
          "status": "completed"
        },
        "tags": [
          "hide-input"
        ]
      },
      "outputs": [],
      "source": [
        "def remove_unused_instances(recursive_netlist):\n",
        "    recursive_netlist = {**recursive_netlist}\n",
        "\n",
        "    for name, flat_netlist in recursive_netlist.items():\n",
        "        recursive_netlist[name] = _remove_unused_instances_flat(flat_netlist)\n",
        "\n",
        "    return recursive_netlist"
      ]
    },
    {
      "cell_type": "code",
      "execution_count": 12,
      "id": "564c7b5f-a212-4afc-b4db-d7de5d92d7fa",
      "metadata": {
        "execution": {
          "iopub.execute_input": "2023-06-01T21:33:11.800058Z",
          "iopub.status.busy": "2023-06-01T21:33:11.799876Z",
          "iopub.status.idle": "2023-06-01T21:33:11.804334Z",
          "shell.execute_reply": "2023-06-01T21:33:11.803889Z"
        },
        "papermill": {
          "duration": 0.010333,
          "end_time": "2023-06-01T21:33:11.806705",
          "exception": false,
          "start_time": "2023-06-01T21:33:11.796372",
          "status": "completed"
        },
        "tags": []
      },
      "outputs": [
        {
          "data": {
            "text/plain": [
              "{'top_level': {'instances': {'lft': 'coupler',\n",
              "   'top': 'straight',\n",
              "   'btm': 'straight',\n",
              "   'rgt': 'coupler'},\n",
              "  'connections': {'lft,out0': 'btm,in0',\n",
              "   'btm,out0': 'rgt,in0',\n",
              "   'lft,out1': 'top,in0',\n",
              "   'top,out0': 'rgt,in1'},\n",
              "  'ports': {'in0': 'lft,in0',\n",
              "   'in1': 'lft,in1',\n",
              "   'out0': 'rgt,out0',\n",
              "   'out1': 'rgt,out1'}},\n",
              " 'test': {'instances': {'lft': 'coupler',\n",
              "   'top': 'straight',\n",
              "   'btm': 'straight',\n",
              "   'rgt': 'coupler'},\n",
              "  'connections': {'lft,out0': 'btm,in0',\n",
              "   'btm,out0': 'rgt,in0',\n",
              "   'lft,out1': 'top,in0',\n",
              "   'top,out0': 'rgt,in1'},\n",
              "  'ports': {'in0': 'lft,in0',\n",
              "   'in1': 'lft,in1',\n",
              "   'out0': 'rgt,out0',\n",
              "   'out1': 'rgt,out1'}}}"
            ]
          },
          "execution_count": 12,
          "metadata": {},
          "output_type": "execute_result"
        }
      ],
      "source": [
        "remove_unused_instances({\"top_level\": netlist, \"test\": netlist})"
      ]
    }
  ],
  "metadata": {
    "kernelspec": {
      "display_name": "sax",
      "language": "python",
      "name": "sax"
    },
    "language_info": {
      "codemirror_mode": {
        "name": "ipython",
        "version": 3
      },
      "file_extension": ".py",
      "mimetype": "text/x-python",
      "name": "python",
      "nbconvert_exporter": "python",
      "pygments_lexer": "ipython3",
      "version": "3.11.3"
    },
    "papermill": {
      "default_parameters": {},
      "duration": 3.399624,
      "end_time": "2023-06-01T21:33:12.236221",
      "environment_variables": {},
      "exception": null,
      "input_path": "./nbs/06b_netlist_cleaning.ipynb",
      "output_path": "./nbs/06b_netlist_cleaning.ipynb",
      "parameters": {},
      "start_time": "2023-06-01T21:33:08.836597",
      "version": "2.3.4"
    }
  },
  "nbformat": 4,
  "nbformat_minor": 5
}