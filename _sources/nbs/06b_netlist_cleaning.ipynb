{
  "cells": [
    {
      "cell_type": "code",
      "execution_count": 1,
      "id": "0935bdc1da2212c2",
      "metadata": {
        "execution": {
          "iopub.execute_input": "2023-06-01T21:50:25.489730Z",
          "iopub.status.busy": "2023-06-01T21:50:25.489061Z",
          "iopub.status.idle": "2023-06-01T21:50:25.492354Z",
          "shell.execute_reply": "2023-06-01T21:50:25.491922Z"
        },
        "papermill": {
          "duration": 0.007835,
          "end_time": "2023-06-01T21:50:25.493540",
          "exception": false,
          "start_time": "2023-06-01T21:50:25.485705",
          "status": "completed"
        },
        "tags": [
          "remove-cell"
        ]
      },
      "outputs": [],
      "source": []
    },
    {
      "cell_type": "markdown",
      "id": "160321f7-d133-4bb8-8015-b5fc48251bb0",
      "metadata": {
        "papermill": {
          "duration": 0.002876,
          "end_time": "2023-06-01T21:50:25.498570",
          "exception": false,
          "start_time": "2023-06-01T21:50:25.495694",
          "status": "completed"
        },
        "tags": []
      },
      "source": [
        "# Netlist Cleaning\n",
        "\n",
        "> Graph Analysis and cleaning of a SAX Netlist"
      ]
    },
    {
      "cell_type": "code",
      "execution_count": 2,
      "id": "02decf2d72dc4e23",
      "metadata": {
        "execution": {
          "iopub.execute_input": "2023-06-01T21:50:25.503148Z",
          "iopub.status.busy": "2023-06-01T21:50:25.502950Z",
          "iopub.status.idle": "2023-06-01T21:50:26.269597Z",
          "shell.execute_reply": "2023-06-01T21:50:26.268962Z"
        },
        "papermill": {
          "duration": 0.770768,
          "end_time": "2023-06-01T21:50:26.271131",
          "exception": false,
          "start_time": "2023-06-01T21:50:25.500363",
          "status": "completed"
        },
        "tags": [
          "hide-input"
        ]
      },
      "outputs": [],
      "source": [
        "from collections import defaultdict\n",
        "from typing import Dict, List\n",
        "\n",
        "from natsort import natsorted\n",
        "from sax.backends.additive import graph_edges\n",
        "from sax.typing_ import SDict\n",
        "import networkx as nx\n",
        "\n",
        "try:\n",
        "    import jax.numpy as jnp\n",
        "    JAX_AVAILABLE = True\n",
        "except ImportError:\n",
        "    import numpy as jnp\n",
        "    JAX_AVAILABLE = False"
      ]
    },
    {
      "cell_type": "code",
      "execution_count": 3,
      "id": "ca2dba2e-19a6-4b21-9b94-ea512df17f25",
      "metadata": {
        "execution": {
          "iopub.execute_input": "2023-06-01T21:50:26.276861Z",
          "iopub.status.busy": "2023-06-01T21:50:26.276361Z",
          "iopub.status.idle": "2023-06-01T21:50:26.281383Z",
          "shell.execute_reply": "2023-06-01T21:50:26.280851Z"
        },
        "papermill": {
          "duration": 0.009345,
          "end_time": "2023-06-01T21:50:26.282598",
          "exception": false,
          "start_time": "2023-06-01T21:50:26.273253",
          "status": "completed"
        },
        "tags": []
      },
      "outputs": [],
      "source": [
        "netlist = {\n",
        "    \"instances\": {\n",
        "        \"lft\": \"coupler\",\n",
        "        \"top\": \"straight\",\n",
        "        \"btm\": \"straight\",\n",
        "        \"rgt\": \"coupler\",\n",
        "        \"lft_\": \"coupler\",\n",
        "        \"top_\": \"straight\",\n",
        "        \"btm_\": \"straight\",\n",
        "        \"rgt_\": \"coupler\",\n",
        "    },\n",
        "    \"connections\": {\n",
        "        \"lft,out0\": \"btm,in0\",\n",
        "        \"btm,out0\": \"rgt,in0\",\n",
        "        \"lft,out1\": \"top,in0\",\n",
        "        \"top,out0\": \"rgt,in1\",\n",
        "        \"lft_,out0\": \"btm_,in0\",\n",
        "        \"btm_,out0\": \"rgt_,in0\",\n",
        "        \"lft_,out1\": \"top_,in0\",\n",
        "        \"top_,out0\": \"rgt_,in1\",\n",
        "    },\n",
        "    \"ports\": {\n",
        "        \"in0\": \"lft,in0\",\n",
        "        \"in1\": \"lft,in1\",\n",
        "        \"out0\": \"rgt,out0\",\n",
        "        \"out1\": \"rgt,out1\",\n",
        "    },\n",
        "}"
      ]
    },
    {
      "cell_type": "code",
      "execution_count": 4,
      "id": "a89642ce2ca55272",
      "metadata": {
        "execution": {
          "iopub.execute_input": "2023-06-01T21:50:26.287699Z",
          "iopub.status.busy": "2023-06-01T21:50:26.287200Z",
          "iopub.status.idle": "2023-06-01T21:50:26.291861Z",
          "shell.execute_reply": "2023-06-01T21:50:26.291322Z"
        },
        "papermill": {
          "duration": 0.008734,
          "end_time": "2023-06-01T21:50:26.293160",
          "exception": false,
          "start_time": "2023-06-01T21:50:26.284426",
          "status": "completed"
        },
        "tags": [
          "hide-input"
        ]
      },
      "outputs": [],
      "source": [
        "def _get_connectivity_netlist(netlist):\n",
        "    connectivity_netlist = {\n",
        "        \"instances\": natsorted(netlist[\"instances\"]),\n",
        "        \"connections\": [\n",
        "            (c1.split(\",\")[0], c2.split(\",\")[0])\n",
        "            for c1, c2 in netlist[\"connections\"].items()\n",
        "        ],\n",
        "        \"ports\": [(p, c.split(\",\")[0]) for p, c in netlist[\"ports\"].items()],\n",
        "    }\n",
        "    return connectivity_netlist"
      ]
    },
    {
      "cell_type": "code",
      "execution_count": 5,
      "id": "33700427420d9146",
      "metadata": {
        "execution": {
          "iopub.execute_input": "2023-06-01T21:50:26.302010Z",
          "iopub.status.busy": "2023-06-01T21:50:26.301758Z",
          "iopub.status.idle": "2023-06-01T21:50:26.306092Z",
          "shell.execute_reply": "2023-06-01T21:50:26.305548Z"
        },
        "papermill": {
          "duration": 0.008173,
          "end_time": "2023-06-01T21:50:26.307418",
          "exception": false,
          "start_time": "2023-06-01T21:50:26.299245",
          "status": "completed"
        },
        "tags": [
          "hide-input"
        ]
      },
      "outputs": [],
      "source": [
        "def _get_connectivity_graph(netlist):\n",
        "    graph = nx.Graph()\n",
        "    connectivity_netlist = _get_connectivity_netlist(netlist)\n",
        "    for name in connectivity_netlist[\"instances\"]:\n",
        "        graph.add_node(name)\n",
        "    for c1, c2 in connectivity_netlist[\"connections\"]:\n",
        "        graph.add_edge(c1, c2)\n",
        "    for c1, c2 in connectivity_netlist[\"ports\"]:\n",
        "        graph.add_edge(c1, c2)\n",
        "    return graph"
      ]
    },
    {
      "cell_type": "code",
      "execution_count": 6,
      "id": "3be6bc3f-c9b5-40c1-b7d2-d0bc5696b17d",
      "metadata": {
        "execution": {
          "iopub.execute_input": "2023-06-01T21:50:26.312123Z",
          "iopub.status.busy": "2023-06-01T21:50:26.311821Z",
          "iopub.status.idle": "2023-06-01T21:50:26.824816Z",
          "shell.execute_reply": "2023-06-01T21:50:26.824189Z"
        },
        "papermill": {
          "duration": 0.516809,
          "end_time": "2023-06-01T21:50:26.826087",
          "exception": false,
          "start_time": "2023-06-01T21:50:26.309278",
          "status": "completed"
        },
        "tags": []
      },
      "outputs": [
        {
          "data": {
            "image/png": "[encoded data removed]",
            "text/plain": [
              "<Figure size 640x480 with 1 Axes>"
            ]
          },
          "metadata": {},
          "output_type": "display_data"
        }
      ],
      "source": [
        "graph = _get_connectivity_graph(netlist)\n",
        "nx.draw(graph, with_labels=True)"
      ]
    },
    {
      "cell_type": "code",
      "execution_count": 7,
      "id": "38ef4ce9b4b400a4",
      "metadata": {
        "execution": {
          "iopub.execute_input": "2023-06-01T21:50:26.832713Z",
          "iopub.status.busy": "2023-06-01T21:50:26.832111Z",
          "iopub.status.idle": "2023-06-01T21:50:26.836424Z",
          "shell.execute_reply": "2023-06-01T21:50:26.835881Z"
        },
        "papermill": {
          "duration": 0.008986,
          "end_time": "2023-06-01T21:50:26.837621",
          "exception": false,
          "start_time": "2023-06-01T21:50:26.828635",
          "status": "completed"
        },
        "tags": [
          "hide-input"
        ]
      },
      "outputs": [],
      "source": [
        "def _get_nodes_to_remove(graph, netlist):\n",
        "    nodes = set()\n",
        "    for port in netlist[\"ports\"]:\n",
        "        nodes |= nx.descendants(graph, port)\n",
        "    nodes_to_remove = set(graph.nodes) - nodes\n",
        "    return list(nodes_to_remove)"
      ]
    },
    {
      "cell_type": "code",
      "execution_count": 8,
      "id": "15d20c02-06fa-4586-8ba3-3cbfa63f8e14",
      "metadata": {
        "execution": {
          "iopub.execute_input": "2023-06-01T21:50:26.843497Z",
          "iopub.status.busy": "2023-06-01T21:50:26.843120Z",
          "iopub.status.idle": "2023-06-01T21:50:26.984830Z",
          "shell.execute_reply": "2023-06-01T21:50:26.984216Z"
        },
        "papermill": {
          "duration": 0.146037,
          "end_time": "2023-06-01T21:50:26.986115",
          "exception": false,
          "start_time": "2023-06-01T21:50:26.840078",
          "status": "completed"
        },
        "tags": []
      },
      "outputs": [
        {
          "data": {
            "image/png": "[encoded data removed]",
            "text/plain": [
              "<Figure size 640x480 with 1 Axes>"
            ]
          },
          "metadata": {},
          "output_type": "display_data"
        }
      ],
      "source": [
        "graph.remove_nodes_from(_get_nodes_to_remove(graph, netlist))\n",
        "nx.draw(graph, with_labels=True)"
      ]
    },
    {
      "cell_type": "code",
      "execution_count": 9,
      "id": "1b15b4478aede3a4",
      "metadata": {
        "execution": {
          "iopub.execute_input": "2023-06-01T21:50:26.993708Z",
          "iopub.status.busy": "2023-06-01T21:50:26.993235Z",
          "iopub.status.idle": "2023-06-01T21:50:27.001040Z",
          "shell.execute_reply": "2023-06-01T21:50:26.999561Z"
        },
        "papermill": {
          "duration": 0.013144,
          "end_time": "2023-06-01T21:50:27.002484",
          "exception": false,
          "start_time": "2023-06-01T21:50:26.989340",
          "status": "completed"
        },
        "tags": [
          "hide-input"
        ]
      },
      "outputs": [],
      "source": [
        "def _remove_unused_instances_flat(flat_netlist):\n",
        "    flat_netlist = {**flat_netlist}\n",
        "\n",
        "    flat_netlist[\"instances\"] = {**flat_netlist[\"instances\"]}\n",
        "    flat_netlist[\"connections\"] = {**flat_netlist[\"connections\"]}\n",
        "    flat_netlist[\"ports\"] = {**flat_netlist[\"ports\"]}\n",
        "\n",
        "    graph = _get_connectivity_graph(flat_netlist)\n",
        "    names = set(_get_nodes_to_remove(graph, flat_netlist))\n",
        "\n",
        "    for name in list(names):\n",
        "        if name in flat_netlist[\"instances\"]:\n",
        "            del flat_netlist[\"instances\"][name]\n",
        "\n",
        "    for conn1, conn2 in list(flat_netlist[\"connections\"].items()):\n",
        "        for conn in [conn1, conn2]:\n",
        "            name, _ = conn.split(\",\")\n",
        "            if name in names and conn1 in flat_netlist[\"connections\"]:\n",
        "                del flat_netlist[\"connections\"][conn1]\n",
        "\n",
        "    for pname, conn in list(flat_netlist[\"ports\"].items()):\n",
        "        name, _ = conn.split(\",\")\n",
        "        if name in names and pname in flat_netlist[\"ports\"]:\n",
        "            del flat_netlist[\"ports\"][pname]\n",
        "\n",
        "    return flat_netlist"
      ]
    },
    {
      "cell_type": "code",
      "execution_count": 10,
      "id": "719f8ec9-7f4b-45d3-97ae-10572684b0f7",
      "metadata": {
        "execution": {
          "iopub.execute_input": "2023-06-01T21:50:27.009389Z",
          "iopub.status.busy": "2023-06-01T21:50:27.009192Z",
          "iopub.status.idle": "2023-06-01T21:50:27.013928Z",
          "shell.execute_reply": "2023-06-01T21:50:27.013344Z"
        },
        "papermill": {
          "duration": 0.010313,
          "end_time": "2023-06-01T21:50:27.015802",
          "exception": false,
          "start_time": "2023-06-01T21:50:27.005489",
          "status": "completed"
        },
        "tags": []
      },
      "outputs": [
        {
          "data": {
            "text/plain": [
              "{'instances': {'lft': 'coupler',\n",
              "  'top': 'straight',\n",
              "  'btm': 'straight',\n",
              "  'rgt': 'coupler'},\n",
              " 'connections': {'lft,out0': 'btm,in0',\n",
              "  'btm,out0': 'rgt,in0',\n",
              "  'lft,out1': 'top,in0',\n",
              "  'top,out0': 'rgt,in1'},\n",
              " 'ports': {'in0': 'lft,in0',\n",
              "  'in1': 'lft,in1',\n",
              "  'out0': 'rgt,out0',\n",
              "  'out1': 'rgt,out1'}}"
            ]
          },
          "execution_count": 10,
          "metadata": {},
          "output_type": "execute_result"
        }
      ],
      "source": [
        "_remove_unused_instances_flat(netlist)"
      ]
    },
    {
      "cell_type": "markdown",
      "id": "da690652f940594b",
      "metadata": {},
      "source": [
        ":::{eval-rst}\n",
        ".. autofunction:: sax.netlist_cleaning.remove_unused_instances\n",
        ":::\n"
      ]
    },
    {
      "cell_type": "code",
      "execution_count": 11,
      "id": "80e08fcc83ae83b1",
      "metadata": {
        "execution": {
          "iopub.execute_input": "2023-06-01T21:50:27.023065Z",
          "iopub.status.busy": "2023-06-01T21:50:27.022801Z",
          "iopub.status.idle": "2023-06-01T21:50:27.026182Z",
          "shell.execute_reply": "2023-06-01T21:50:27.025589Z"
        },
        "papermill": {
          "duration": 0.008595,
          "end_time": "2023-06-01T21:50:27.027454",
          "exception": false,
          "start_time": "2023-06-01T21:50:27.018859",
          "status": "completed"
        },
        "tags": [
          "hide-input"
        ]
      },
      "outputs": [],
      "source": [
        "def remove_unused_instances(recursive_netlist):\n",
        "    recursive_netlist = {**recursive_netlist}\n",
        "\n",
        "    for name, flat_netlist in recursive_netlist.items():\n",
        "        recursive_netlist[name] = _remove_unused_instances_flat(flat_netlist)\n",
        "\n",
        "    return recursive_netlist"
      ]
    },
    {
      "cell_type": "code",
      "execution_count": 12,
      "id": "564c7b5f-a212-4afc-b4db-d7de5d92d7fa",
      "metadata": {
        "execution": {
          "iopub.execute_input": "2023-06-01T21:50:27.034413Z",
          "iopub.status.busy": "2023-06-01T21:50:27.034156Z",
          "iopub.status.idle": "2023-06-01T21:50:27.039067Z",
          "shell.execute_reply": "2023-06-01T21:50:27.038629Z"
        },
        "papermill": {
          "duration": 0.01035,
          "end_time": "2023-06-01T21:50:27.040799",
          "exception": false,
          "start_time": "2023-06-01T21:50:27.030449",
          "status": "completed"
        },
        "tags": []
      },
      "outputs": [
        {
          "data": {
            "text/plain": [
              "{'top_level': {'instances': {'lft': 'coupler',\n",
              "   'top': 'straight',\n",
              "   'btm': 'straight',\n",
              "   'rgt': 'coupler'},\n",
              "  'connections': {'lft,out0': 'btm,in0',\n",
              "   'btm,out0': 'rgt,in0',\n",
              "   'lft,out1': 'top,in0',\n",
              "   'top,out0': 'rgt,in1'},\n",
              "  'ports': {'in0': 'lft,in0',\n",
              "   'in1': 'lft,in1',\n",
              "   'out0': 'rgt,out0',\n",
              "   'out1': 'rgt,out1'}},\n",
              " 'test': {'instances': {'lft': 'coupler',\n",
              "   'top': 'straight',\n",
              "   'btm': 'straight',\n",
              "   'rgt': 'coupler'},\n",
              "  'connections': {'lft,out0': 'btm,in0',\n",
              "   'btm,out0': 'rgt,in0',\n",
              "   'lft,out1': 'top,in0',\n",
              "   'top,out0': 'rgt,in1'},\n",
              "  'ports': {'in0': 'lft,in0',\n",
              "   'in1': 'lft,in1',\n",
              "   'out0': 'rgt,out0',\n",
              "   'out1': 'rgt,out1'}}}"
            ]
          },
          "execution_count": 12,
          "metadata": {},
          "output_type": "execute_result"
        }
      ],
      "source": [
        "remove_unused_instances({\"top_level\": netlist, \"test\": netlist})"
      ]
    }
  ],
  "metadata": {
    "kernelspec": {
      "display_name": "sax",
      "language": "python",
      "name": "sax"
    },
    "language_info": {
      "codemirror_mode": {
        "name": "ipython",
        "version": 3
      },
      "file_extension": ".py",
      "mimetype": "text/x-python",
      "name": "python",
      "nbconvert_exporter": "python",
      "pygments_lexer": "ipython3",
      "version": "3.11.3"
    },
    "papermill": {
      "default_parameters": {},
      "duration": 3.368614,
      "end_time": "2023-06-01T21:50:27.459786",
      "environment_variables": {},
      "exception": null,
      "input_path": "./nbs/06b_netlist_cleaning.ipynb",
      "output_path": "./nbs/06b_netlist_cleaning.ipynb",
      "parameters": {},
      "start_time": "2023-06-01T21:50:24.091172",
      "version": "2.3.4"
    }
  },
  "nbformat": 4,
  "nbformat_minor": 5
}