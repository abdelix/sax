{
  "cells": [
    {
      "cell_type": "code",
      "execution_count": 1,
      "id": "e8670d00eb5b8593",
      "metadata": {
        "execution": {
          "iopub.execute_input": "2023-09-01T16:50:30.459671Z",
          "iopub.status.busy": "2023-09-01T16:50:30.459192Z",
          "iopub.status.idle": "2023-09-01T16:50:30.462593Z",
          "shell.execute_reply": "2023-09-01T16:50:30.462022Z"
        },
        "papermill": {
          "duration": 0.008504,
          "end_time": "2023-09-01T16:50:30.463820",
          "exception": false,
          "start_time": "2023-09-01T16:50:30.455316",
          "status": "completed"
        },
        "tags": [
          "remove-cell"
        ]
      },
      "outputs": [],
      "source": []
    },
    {
      "cell_type": "markdown",
      "id": "160321f7-d133-4bb8-8015-b5fc48251bb0",
      "metadata": {
        "papermill": {
          "duration": 0.002112,
          "end_time": "2023-09-01T16:50:30.468142",
          "exception": false,
          "start_time": "2023-09-01T16:50:30.466030",
          "status": "completed"
        },
        "tags": []
      },
      "source": [
        "# Netlist Cleaning\n",
        "\n",
        "> Graph Analysis and cleaning of a SAX Netlist"
      ]
    },
    {
      "cell_type": "code",
      "execution_count": 2,
      "id": "d23461ebefea46be",
      "metadata": {
        "execution": {
          "iopub.execute_input": "2023-09-01T16:50:30.473059Z",
          "iopub.status.busy": "2023-09-01T16:50:30.472648Z",
          "iopub.status.idle": "2023-09-01T16:50:31.276870Z",
          "shell.execute_reply": "2023-09-01T16:50:31.276299Z"
        },
        "papermill": {
          "duration": 0.80834,
          "end_time": "2023-09-01T16:50:31.278332",
          "exception": false,
          "start_time": "2023-09-01T16:50:30.469992",
          "status": "completed"
        },
        "tags": [
          "hide-input"
        ]
      },
      "outputs": [],
      "source": [
        "from collections import defaultdict\n",
        "from typing import Dict, List\n",
        "\n",
        "from natsort import natsorted\n",
        "from sax.backends.additive import graph_edges\n",
        "from sax.typing_ import SDict\n",
        "import networkx as nx\n",
        "\n",
        "try:\n",
        "    import jax.numpy as jnp\n",
        "    JAX_AVAILABLE = True\n",
        "except ImportError:\n",
        "    import numpy as jnp\n",
        "    JAX_AVAILABLE = False"
      ]
    },
    {
      "cell_type": "code",
      "execution_count": 3,
      "id": "ca2dba2e-19a6-4b21-9b94-ea512df17f25",
      "metadata": {
        "execution": {
          "iopub.execute_input": "2023-09-01T16:50:31.284100Z",
          "iopub.status.busy": "2023-09-01T16:50:31.283658Z",
          "iopub.status.idle": "2023-09-01T16:50:31.287806Z",
          "shell.execute_reply": "2023-09-01T16:50:31.287257Z"
        },
        "papermill": {
          "duration": 0.008293,
          "end_time": "2023-09-01T16:50:31.288912",
          "exception": false,
          "start_time": "2023-09-01T16:50:31.280619",
          "status": "completed"
        },
        "tags": []
      },
      "outputs": [],
      "source": [
        "netlist = {\n",
        "    \"instances\": {\n",
        "        \"lft\": \"coupler\",\n",
        "        \"top\": \"straight\",\n",
        "        \"btm\": \"straight\",\n",
        "        \"rgt\": \"coupler\",\n",
        "        \"lft_\": \"coupler\",\n",
        "        \"top_\": \"straight\",\n",
        "        \"btm_\": \"straight\",\n",
        "        \"rgt_\": \"coupler\",\n",
        "    },\n",
        "    \"connections\": {\n",
        "        \"lft,out0\": \"btm,in0\",\n",
        "        \"btm,out0\": \"rgt,in0\",\n",
        "        \"lft,out1\": \"top,in0\",\n",
        "        \"top,out0\": \"rgt,in1\",\n",
        "        \"lft_,out0\": \"btm_,in0\",\n",
        "        \"btm_,out0\": \"rgt_,in0\",\n",
        "        \"lft_,out1\": \"top_,in0\",\n",
        "        \"top_,out0\": \"rgt_,in1\",\n",
        "    },\n",
        "    \"ports\": {\n",
        "        \"in0\": \"lft,in0\",\n",
        "        \"in1\": \"lft,in1\",\n",
        "        \"out0\": \"rgt,out0\",\n",
        "        \"out1\": \"rgt,out1\",\n",
        "    },\n",
        "}"
      ]
    },
    {
      "cell_type": "code",
      "execution_count": 4,
      "id": "d17048b6bdbd9eba",
      "metadata": {
        "execution": {
          "iopub.execute_input": "2023-09-01T16:50:31.293820Z",
          "iopub.status.busy": "2023-09-01T16:50:31.293535Z",
          "iopub.status.idle": "2023-09-01T16:50:31.297273Z",
          "shell.execute_reply": "2023-09-01T16:50:31.296744Z"
        },
        "papermill": {
          "duration": 0.007539,
          "end_time": "2023-09-01T16:50:31.298370",
          "exception": false,
          "start_time": "2023-09-01T16:50:31.290831",
          "status": "completed"
        },
        "tags": [
          "hide-input"
        ]
      },
      "outputs": [],
      "source": [
        "def _get_connectivity_netlist(netlist):\n",
        "    connectivity_netlist = {\n",
        "        \"instances\": natsorted(netlist[\"instances\"]),\n",
        "        \"connections\": [\n",
        "            (c1.split(\",\")[0], c2.split(\",\")[0])\n",
        "            for c1, c2 in netlist[\"connections\"].items()\n",
        "        ],\n",
        "        \"ports\": [(p, c.split(\",\")[0]) for p, c in netlist[\"ports\"].items()],\n",
        "    }\n",
        "    return connectivity_netlist"
      ]
    },
    {
      "cell_type": "code",
      "execution_count": 5,
      "id": "840bfedbdf2379f1",
      "metadata": {
        "execution": {
          "iopub.execute_input": "2023-09-01T16:50:31.303634Z",
          "iopub.status.busy": "2023-09-01T16:50:31.303191Z",
          "iopub.status.idle": "2023-09-01T16:50:31.306991Z",
          "shell.execute_reply": "2023-09-01T16:50:31.306420Z"
        },
        "papermill": {
          "duration": 0.007727,
          "end_time": "2023-09-01T16:50:31.308209",
          "exception": false,
          "start_time": "2023-09-01T16:50:31.300482",
          "status": "completed"
        },
        "tags": [
          "hide-input"
        ]
      },
      "outputs": [],
      "source": [
        "def _get_connectivity_graph(netlist):\n",
        "    graph = nx.Graph()\n",
        "    connectivity_netlist = _get_connectivity_netlist(netlist)\n",
        "    for name in connectivity_netlist[\"instances\"]:\n",
        "        graph.add_node(name)\n",
        "    for c1, c2 in connectivity_netlist[\"connections\"]:\n",
        "        graph.add_edge(c1, c2)\n",
        "    for c1, c2 in connectivity_netlist[\"ports\"]:\n",
        "        graph.add_edge(c1, c2)\n",
        "    return graph"
      ]
    },
    {
      "cell_type": "code",
      "execution_count": 6,
      "id": "3be6bc3f-c9b5-40c1-b7d2-d0bc5696b17d",
      "metadata": {
        "execution": {
          "iopub.execute_input": "2023-09-01T16:50:31.313089Z",
          "iopub.status.busy": "2023-09-01T16:50:31.312903Z",
          "iopub.status.idle": "2023-09-01T16:50:31.791728Z",
          "shell.execute_reply": "2023-09-01T16:50:31.791209Z"
        },
        "papermill": {
          "duration": 0.482668,
          "end_time": "2023-09-01T16:50:31.792904",
          "exception": false,
          "start_time": "2023-09-01T16:50:31.310236",
          "status": "completed"
        },
        "tags": []
      },
      "outputs": [
        {
          "data": {
            "image/png": "[encoded data removed]",
            "text/plain": [
              "<Figure size 640x480 with 1 Axes>"
            ]
          },
          "metadata": {},
          "output_type": "display_data"
        }
      ],
      "source": [
        "graph = _get_connectivity_graph(netlist)\n",
        "nx.draw(graph, with_labels=True)"
      ]
    },
    {
      "cell_type": "code",
      "execution_count": 7,
      "id": "1defd256b33578ba",
      "metadata": {
        "execution": {
          "iopub.execute_input": "2023-09-01T16:50:31.799341Z",
          "iopub.status.busy": "2023-09-01T16:50:31.798997Z",
          "iopub.status.idle": "2023-09-01T16:50:31.802471Z",
          "shell.execute_reply": "2023-09-01T16:50:31.801911Z"
        },
        "papermill": {
          "duration": 0.008179,
          "end_time": "2023-09-01T16:50:31.803732",
          "exception": false,
          "start_time": "2023-09-01T16:50:31.795553",
          "status": "completed"
        },
        "tags": [
          "hide-input"
        ]
      },
      "outputs": [],
      "source": [
        "def _get_nodes_to_remove(graph, netlist):\n",
        "    nodes = set()\n",
        "    for port in netlist[\"ports\"]:\n",
        "        nodes |= nx.descendants(graph, port)\n",
        "    nodes_to_remove = set(graph.nodes) - nodes\n",
        "    return list(nodes_to_remove)"
      ]
    },
    {
      "cell_type": "code",
      "execution_count": 8,
      "id": "15d20c02-06fa-4586-8ba3-3cbfa63f8e14",
      "metadata": {
        "execution": {
          "iopub.execute_input": "2023-09-01T16:50:31.809503Z",
          "iopub.status.busy": "2023-09-01T16:50:31.809189Z",
          "iopub.status.idle": "2023-09-01T16:50:31.920949Z",
          "shell.execute_reply": "2023-09-01T16:50:31.920476Z"
        },
        "papermill": {
          "duration": 0.116056,
          "end_time": "2023-09-01T16:50:31.922207",
          "exception": false,
          "start_time": "2023-09-01T16:50:31.806151",
          "status": "completed"
        },
        "tags": []
      },
      "outputs": [
        {
          "data": {
            "image/png": "[encoded data removed]",
            "text/plain": [
              "<Figure size 640x480 with 1 Axes>"
            ]
          },
          "metadata": {},
          "output_type": "display_data"
        }
      ],
      "source": [
        "graph.remove_nodes_from(_get_nodes_to_remove(graph, netlist))\n",
        "nx.draw(graph, with_labels=True)"
      ]
    },
    {
      "cell_type": "code",
      "execution_count": 9,
      "id": "44327fde4d157c6a",
      "metadata": {
        "execution": {
          "iopub.execute_input": "2023-09-01T16:50:31.930607Z",
          "iopub.status.busy": "2023-09-01T16:50:31.930399Z",
          "iopub.status.idle": "2023-09-01T16:50:31.935659Z",
          "shell.execute_reply": "2023-09-01T16:50:31.935117Z"
        },
        "papermill": {
          "duration": 0.010568,
          "end_time": "2023-09-01T16:50:31.936847",
          "exception": false,
          "start_time": "2023-09-01T16:50:31.926279",
          "status": "completed"
        },
        "tags": [
          "hide-input"
        ]
      },
      "outputs": [],
      "source": [
        "def _remove_unused_instances_flat(flat_netlist):\n",
        "    flat_netlist = {**flat_netlist}\n",
        "\n",
        "    flat_netlist[\"instances\"] = {**flat_netlist[\"instances\"]}\n",
        "    flat_netlist[\"connections\"] = {**flat_netlist[\"connections\"]}\n",
        "    flat_netlist[\"ports\"] = {**flat_netlist[\"ports\"]}\n",
        "\n",
        "    graph = _get_connectivity_graph(flat_netlist)\n",
        "    names = set(_get_nodes_to_remove(graph, flat_netlist))\n",
        "\n",
        "    for name in list(names):\n",
        "        if name in flat_netlist[\"instances\"]:\n",
        "            del flat_netlist[\"instances\"][name]\n",
        "\n",
        "    for conn1, conn2 in list(flat_netlist[\"connections\"].items()):\n",
        "        for conn in [conn1, conn2]:\n",
        "            name, _ = conn.split(\",\")\n",
        "            if name in names and conn1 in flat_netlist[\"connections\"]:\n",
        "                del flat_netlist[\"connections\"][conn1]\n",
        "\n",
        "    for pname, conn in list(flat_netlist[\"ports\"].items()):\n",
        "        name, _ = conn.split(\",\")\n",
        "        if name in names and pname in flat_netlist[\"ports\"]:\n",
        "            del flat_netlist[\"ports\"][pname]\n",
        "\n",
        "    return flat_netlist"
      ]
    },
    {
      "cell_type": "code",
      "execution_count": 10,
      "id": "719f8ec9-7f4b-45d3-97ae-10572684b0f7",
      "metadata": {
        "execution": {
          "iopub.execute_input": "2023-09-01T16:50:31.943763Z",
          "iopub.status.busy": "2023-09-01T16:50:31.943418Z",
          "iopub.status.idle": "2023-09-01T16:50:31.948379Z",
          "shell.execute_reply": "2023-09-01T16:50:31.947859Z"
        },
        "papermill": {
          "duration": 0.009912,
          "end_time": "2023-09-01T16:50:31.949606",
          "exception": false,
          "start_time": "2023-09-01T16:50:31.939694",
          "status": "completed"
        },
        "tags": []
      },
      "outputs": [
        {
          "data": {
            "text/plain": [
              "{'instances': {'lft': 'coupler',\n",
              "  'top': 'straight',\n",
              "  'btm': 'straight',\n",
              "  'rgt': 'coupler'},\n",
              " 'connections': {'lft,out0': 'btm,in0',\n",
              "  'btm,out0': 'rgt,in0',\n",
              "  'lft,out1': 'top,in0',\n",
              "  'top,out0': 'rgt,in1'},\n",
              " 'ports': {'in0': 'lft,in0',\n",
              "  'in1': 'lft,in1',\n",
              "  'out0': 'rgt,out0',\n",
              "  'out1': 'rgt,out1'}}"
            ]
          },
          "execution_count": 10,
          "metadata": {},
          "output_type": "execute_result"
        }
      ],
      "source": [
        "_remove_unused_instances_flat(netlist)"
      ]
    },
    {
      "cell_type": "markdown",
      "id": "29ba5f959cbc59b6",
      "metadata": {},
      "source": [
        ":::{eval-rst}\n",
        ".. autofunction:: sax.netlist_cleaning.remove_unused_instances\n",
        ":::\n"
      ]
    },
    {
      "cell_type": "code",
      "execution_count": 11,
      "id": "749953d6e4242159",
      "metadata": {
        "execution": {
          "iopub.execute_input": "2023-09-01T16:50:31.978627Z",
          "iopub.status.busy": "2023-09-01T16:50:31.978405Z",
          "iopub.status.idle": "2023-09-01T16:50:31.982492Z",
          "shell.execute_reply": "2023-09-01T16:50:31.981984Z"
        },
        "papermill": {
          "duration": 0.031181,
          "end_time": "2023-09-01T16:50:31.983744",
          "exception": false,
          "start_time": "2023-09-01T16:50:31.952563",
          "status": "completed"
        },
        "tags": [
          "hide-input"
        ]
      },
      "outputs": [],
      "source": [
        "def remove_unused_instances(recursive_netlist):\n",
        "    recursive_netlist = {**recursive_netlist}\n",
        "\n",
        "    for name, flat_netlist in recursive_netlist.items():\n",
        "        recursive_netlist[name] = _remove_unused_instances_flat(flat_netlist)\n",
        "\n",
        "    return recursive_netlist"
      ]
    },
    {
      "cell_type": "code",
      "execution_count": 12,
      "id": "564c7b5f-a212-4afc-b4db-d7de5d92d7fa",
      "metadata": {
        "execution": {
          "iopub.execute_input": "2023-09-01T16:50:31.990760Z",
          "iopub.status.busy": "2023-09-01T16:50:31.990520Z",
          "iopub.status.idle": "2023-09-01T16:50:31.995371Z",
          "shell.execute_reply": "2023-09-01T16:50:31.994843Z"
        },
        "papermill": {
          "duration": 0.010172,
          "end_time": "2023-09-01T16:50:31.997004",
          "exception": false,
          "start_time": "2023-09-01T16:50:31.986832",
          "status": "completed"
        },
        "tags": []
      },
      "outputs": [
        {
          "data": {
            "text/plain": [
              "{'top_level': {'instances': {'lft': 'coupler',\n",
              "   'top': 'straight',\n",
              "   'btm': 'straight',\n",
              "   'rgt': 'coupler'},\n",
              "  'connections': {'lft,out0': 'btm,in0',\n",
              "   'btm,out0': 'rgt,in0',\n",
              "   'lft,out1': 'top,in0',\n",
              "   'top,out0': 'rgt,in1'},\n",
              "  'ports': {'in0': 'lft,in0',\n",
              "   'in1': 'lft,in1',\n",
              "   'out0': 'rgt,out0',\n",
              "   'out1': 'rgt,out1'}},\n",
              " 'test': {'instances': {'lft': 'coupler',\n",
              "   'top': 'straight',\n",
              "   'btm': 'straight',\n",
              "   'rgt': 'coupler'},\n",
              "  'connections': {'lft,out0': 'btm,in0',\n",
              "   'btm,out0': 'rgt,in0',\n",
              "   'lft,out1': 'top,in0',\n",
              "   'top,out0': 'rgt,in1'},\n",
              "  'ports': {'in0': 'lft,in0',\n",
              "   'in1': 'lft,in1',\n",
              "   'out0': 'rgt,out0',\n",
              "   'out1': 'rgt,out1'}}}"
            ]
          },
          "execution_count": 12,
          "metadata": {},
          "output_type": "execute_result"
        }
      ],
      "source": [
        "remove_unused_instances({\"top_level\": netlist, \"test\": netlist})"
      ]
    }
  ],
  "metadata": {
    "kernelspec": {
      "display_name": "sax",
      "language": "python",
      "name": "sax"
    },
    "language_info": {
      "codemirror_mode": {
        "name": "ipython",
        "version": 3
      },
      "file_extension": ".py",
      "mimetype": "text/x-python",
      "name": "python",
      "nbconvert_exporter": "python",
      "pygments_lexer": "ipython3",
      "version": "3.11.5"
    },
    "papermill": {
      "default_parameters": {},
      "duration": 3.283101,
      "end_time": "2023-09-01T16:50:32.418880",
      "environment_variables": {},
      "exception": null,
      "input_path": "./nbs/06b_netlist_cleaning.ipynb",
      "output_path": "./nbs/06b_netlist_cleaning.ipynb",
      "parameters": {},
      "start_time": "2023-09-01T16:50:29.135779",
      "version": "2.4.0"
    }
  },
  "nbformat": 4,
  "nbformat_minor": 5
}