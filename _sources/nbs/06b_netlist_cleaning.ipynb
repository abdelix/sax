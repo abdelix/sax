{
  "cells": [
    {
      "cell_type": "code",
      "execution_count": 1,
      "id": "4adae873f00fac25",
      "metadata": {
        "execution": {
          "iopub.execute_input": "2023-09-01T15:53:40.019576Z",
          "iopub.status.busy": "2023-09-01T15:53:40.018962Z",
          "iopub.status.idle": "2023-09-01T15:53:40.025062Z",
          "shell.execute_reply": "2023-09-01T15:53:40.024195Z"
        },
        "papermill": {
          "duration": 0.014626,
          "end_time": "2023-09-01T15:53:40.027017",
          "exception": false,
          "start_time": "2023-09-01T15:53:40.012391",
          "status": "completed"
        },
        "tags": [
          "remove-cell"
        ]
      },
      "outputs": [],
      "source": []
    },
    {
      "cell_type": "markdown",
      "id": "160321f7-d133-4bb8-8015-b5fc48251bb0",
      "metadata": {
        "papermill": {
          "duration": 0.002574,
          "end_time": "2023-09-01T15:53:40.032285",
          "exception": false,
          "start_time": "2023-09-01T15:53:40.029711",
          "status": "completed"
        },
        "tags": []
      },
      "source": [
        "# Netlist Cleaning\n",
        "\n",
        "> Graph Analysis and cleaning of a SAX Netlist"
      ]
    },
    {
      "cell_type": "code",
      "execution_count": 2,
      "id": "5e3a24ddea33ec39",
      "metadata": {
        "execution": {
          "iopub.execute_input": "2023-09-01T15:53:40.038771Z",
          "iopub.status.busy": "2023-09-01T15:53:40.037967Z",
          "iopub.status.idle": "2023-09-01T15:53:41.064802Z",
          "shell.execute_reply": "2023-09-01T15:53:41.063968Z"
        },
        "papermill": {
          "duration": 1.032725,
          "end_time": "2023-09-01T15:53:41.067304",
          "exception": false,
          "start_time": "2023-09-01T15:53:40.034579",
          "status": "completed"
        },
        "tags": [
          "hide-input"
        ]
      },
      "outputs": [],
      "source": [
        "from collections import defaultdict\n",
        "from typing import Dict, List\n",
        "\n",
        "from natsort import natsorted\n",
        "from sax.backends.additive import graph_edges\n",
        "from sax.typing_ import SDict\n",
        "import networkx as nx\n",
        "\n",
        "try:\n",
        "    import jax.numpy as jnp\n",
        "    JAX_AVAILABLE = True\n",
        "except ImportError:\n",
        "    import numpy as jnp\n",
        "    JAX_AVAILABLE = False"
      ]
    },
    {
      "cell_type": "code",
      "execution_count": 3,
      "id": "ca2dba2e-19a6-4b21-9b94-ea512df17f25",
      "metadata": {
        "execution": {
          "iopub.execute_input": "2023-09-01T15:53:41.075045Z",
          "iopub.status.busy": "2023-09-01T15:53:41.074061Z",
          "iopub.status.idle": "2023-09-01T15:53:41.080998Z",
          "shell.execute_reply": "2023-09-01T15:53:41.079382Z"
        },
        "papermill": {
          "duration": 0.012749,
          "end_time": "2023-09-01T15:53:41.082814",
          "exception": false,
          "start_time": "2023-09-01T15:53:41.070065",
          "status": "completed"
        },
        "tags": []
      },
      "outputs": [],
      "source": [
        "netlist = {\n",
        "    \"instances\": {\n",
        "        \"lft\": \"coupler\",\n",
        "        \"top\": \"straight\",\n",
        "        \"btm\": \"straight\",\n",
        "        \"rgt\": \"coupler\",\n",
        "        \"lft_\": \"coupler\",\n",
        "        \"top_\": \"straight\",\n",
        "        \"btm_\": \"straight\",\n",
        "        \"rgt_\": \"coupler\",\n",
        "    },\n",
        "    \"connections\": {\n",
        "        \"lft,out0\": \"btm,in0\",\n",
        "        \"btm,out0\": \"rgt,in0\",\n",
        "        \"lft,out1\": \"top,in0\",\n",
        "        \"top,out0\": \"rgt,in1\",\n",
        "        \"lft_,out0\": \"btm_,in0\",\n",
        "        \"btm_,out0\": \"rgt_,in0\",\n",
        "        \"lft_,out1\": \"top_,in0\",\n",
        "        \"top_,out0\": \"rgt_,in1\",\n",
        "    },\n",
        "    \"ports\": {\n",
        "        \"in0\": \"lft,in0\",\n",
        "        \"in1\": \"lft,in1\",\n",
        "        \"out0\": \"rgt,out0\",\n",
        "        \"out1\": \"rgt,out1\",\n",
        "    },\n",
        "}"
      ]
    },
    {
      "cell_type": "code",
      "execution_count": 4,
      "id": "0c19ab21f210c065",
      "metadata": {
        "execution": {
          "iopub.execute_input": "2023-09-01T15:53:41.089112Z",
          "iopub.status.busy": "2023-09-01T15:53:41.088648Z",
          "iopub.status.idle": "2023-09-01T15:53:41.093506Z",
          "shell.execute_reply": "2023-09-01T15:53:41.092666Z"
        },
        "papermill": {
          "duration": 0.00982,
          "end_time": "2023-09-01T15:53:41.095045",
          "exception": false,
          "start_time": "2023-09-01T15:53:41.085225",
          "status": "completed"
        },
        "tags": [
          "hide-input"
        ]
      },
      "outputs": [],
      "source": [
        "def _get_connectivity_netlist(netlist):\n",
        "    connectivity_netlist = {\n",
        "        \"instances\": natsorted(netlist[\"instances\"]),\n",
        "        \"connections\": [\n",
        "            (c1.split(\",\")[0], c2.split(\",\")[0])\n",
        "            for c1, c2 in netlist[\"connections\"].items()\n",
        "        ],\n",
        "        \"ports\": [(p, c.split(\",\")[0]) for p, c in netlist[\"ports\"].items()],\n",
        "    }\n",
        "    return connectivity_netlist"
      ]
    },
    {
      "cell_type": "code",
      "execution_count": 5,
      "id": "4020674af4408ba8",
      "metadata": {
        "execution": {
          "iopub.execute_input": "2023-09-01T15:53:41.101171Z",
          "iopub.status.busy": "2023-09-01T15:53:41.100622Z",
          "iopub.status.idle": "2023-09-01T15:53:41.105085Z",
          "shell.execute_reply": "2023-09-01T15:53:41.104382Z"
        },
        "papermill": {
          "duration": 0.009218,
          "end_time": "2023-09-01T15:53:41.106598",
          "exception": false,
          "start_time": "2023-09-01T15:53:41.097380",
          "status": "completed"
        },
        "tags": [
          "hide-input"
        ]
      },
      "outputs": [],
      "source": [
        "def _get_connectivity_graph(netlist):\n",
        "    graph = nx.Graph()\n",
        "    connectivity_netlist = _get_connectivity_netlist(netlist)\n",
        "    for name in connectivity_netlist[\"instances\"]:\n",
        "        graph.add_node(name)\n",
        "    for c1, c2 in connectivity_netlist[\"connections\"]:\n",
        "        graph.add_edge(c1, c2)\n",
        "    for c1, c2 in connectivity_netlist[\"ports\"]:\n",
        "        graph.add_edge(c1, c2)\n",
        "    return graph"
      ]
    },
    {
      "cell_type": "code",
      "execution_count": 6,
      "id": "3be6bc3f-c9b5-40c1-b7d2-d0bc5696b17d",
      "metadata": {
        "execution": {
          "iopub.execute_input": "2023-09-01T15:53:41.112842Z",
          "iopub.status.busy": "2023-09-01T15:53:41.112266Z",
          "iopub.status.idle": "2023-09-01T15:53:41.721504Z",
          "shell.execute_reply": "2023-09-01T15:53:41.720898Z"
        },
        "papermill": {
          "duration": 0.614483,
          "end_time": "2023-09-01T15:53:41.723476",
          "exception": false,
          "start_time": "2023-09-01T15:53:41.108993",
          "status": "completed"
        },
        "tags": []
      },
      "outputs": [
        {
          "data": {
            "image/png": "[encoded data removed]",
            "text/plain": [
              "<Figure size 640x480 with 1 Axes>"
            ]
          },
          "metadata": {},
          "output_type": "display_data"
        }
      ],
      "source": [
        "graph = _get_connectivity_graph(netlist)\n",
        "nx.draw(graph, with_labels=True)"
      ]
    },
    {
      "cell_type": "code",
      "execution_count": 7,
      "id": "01fb9140b62dc3a1",
      "metadata": {
        "execution": {
          "iopub.execute_input": "2023-09-01T15:53:41.734318Z",
          "iopub.status.busy": "2023-09-01T15:53:41.731336Z",
          "iopub.status.idle": "2023-09-01T15:53:41.737728Z",
          "shell.execute_reply": "2023-09-01T15:53:41.737191Z"
        },
        "papermill": {
          "duration": 0.012541,
          "end_time": "2023-09-01T15:53:41.739179",
          "exception": false,
          "start_time": "2023-09-01T15:53:41.726638",
          "status": "completed"
        },
        "tags": [
          "hide-input"
        ]
      },
      "outputs": [],
      "source": [
        "def _get_nodes_to_remove(graph, netlist):\n",
        "    nodes = set()\n",
        "    for port in netlist[\"ports\"]:\n",
        "        nodes |= nx.descendants(graph, port)\n",
        "    nodes_to_remove = set(graph.nodes) - nodes\n",
        "    return list(nodes_to_remove)"
      ]
    },
    {
      "cell_type": "code",
      "execution_count": 8,
      "id": "15d20c02-06fa-4586-8ba3-3cbfa63f8e14",
      "metadata": {
        "execution": {
          "iopub.execute_input": "2023-09-01T15:53:41.746333Z",
          "iopub.status.busy": "2023-09-01T15:53:41.745723Z",
          "iopub.status.idle": "2023-09-01T15:53:41.888911Z",
          "shell.execute_reply": "2023-09-01T15:53:41.888238Z"
        },
        "papermill": {
          "duration": 0.14867,
          "end_time": "2023-09-01T15:53:41.890744",
          "exception": false,
          "start_time": "2023-09-01T15:53:41.742074",
          "status": "completed"
        },
        "tags": []
      },
      "outputs": [
        {
          "data": {
            "image/png": "[encoded data removed]",
            "text/plain": [
              "<Figure size 640x480 with 1 Axes>"
            ]
          },
          "metadata": {},
          "output_type": "display_data"
        }
      ],
      "source": [
        "graph.remove_nodes_from(_get_nodes_to_remove(graph, netlist))\n",
        "nx.draw(graph, with_labels=True)"
      ]
    },
    {
      "cell_type": "code",
      "execution_count": 9,
      "id": "e183253e3ad9cae0",
      "metadata": {
        "execution": {
          "iopub.execute_input": "2023-09-01T15:53:41.901927Z",
          "iopub.status.busy": "2023-09-01T15:53:41.901313Z",
          "iopub.status.idle": "2023-09-01T15:53:41.907753Z",
          "shell.execute_reply": "2023-09-01T15:53:41.907053Z"
        },
        "papermill": {
          "duration": 0.013732,
          "end_time": "2023-09-01T15:53:41.909628",
          "exception": false,
          "start_time": "2023-09-01T15:53:41.895896",
          "status": "completed"
        },
        "tags": [
          "hide-input"
        ]
      },
      "outputs": [],
      "source": [
        "def _remove_unused_instances_flat(flat_netlist):\n",
        "    flat_netlist = {**flat_netlist}\n",
        "\n",
        "    flat_netlist[\"instances\"] = {**flat_netlist[\"instances\"]}\n",
        "    flat_netlist[\"connections\"] = {**flat_netlist[\"connections\"]}\n",
        "    flat_netlist[\"ports\"] = {**flat_netlist[\"ports\"]}\n",
        "\n",
        "    graph = _get_connectivity_graph(flat_netlist)\n",
        "    names = set(_get_nodes_to_remove(graph, flat_netlist))\n",
        "\n",
        "    for name in list(names):\n",
        "        if name in flat_netlist[\"instances\"]:\n",
        "            del flat_netlist[\"instances\"][name]\n",
        "\n",
        "    for conn1, conn2 in list(flat_netlist[\"connections\"].items()):\n",
        "        for conn in [conn1, conn2]:\n",
        "            name, _ = conn.split(\",\")\n",
        "            if name in names and conn1 in flat_netlist[\"connections\"]:\n",
        "                del flat_netlist[\"connections\"][conn1]\n",
        "\n",
        "    for pname, conn in list(flat_netlist[\"ports\"].items()):\n",
        "        name, _ = conn.split(\",\")\n",
        "        if name in names and pname in flat_netlist[\"ports\"]:\n",
        "            del flat_netlist[\"ports\"][pname]\n",
        "\n",
        "    return flat_netlist"
      ]
    },
    {
      "cell_type": "code",
      "execution_count": 10,
      "id": "719f8ec9-7f4b-45d3-97ae-10572684b0f7",
      "metadata": {
        "execution": {
          "iopub.execute_input": "2023-09-01T15:53:41.917690Z",
          "iopub.status.busy": "2023-09-01T15:53:41.917291Z",
          "iopub.status.idle": "2023-09-01T15:53:41.923368Z",
          "shell.execute_reply": "2023-09-01T15:53:41.922730Z"
        },
        "papermill": {
          "duration": 0.011873,
          "end_time": "2023-09-01T15:53:41.924925",
          "exception": false,
          "start_time": "2023-09-01T15:53:41.913052",
          "status": "completed"
        },
        "tags": []
      },
      "outputs": [
        {
          "data": {
            "text/plain": [
              "{'instances': {'lft': 'coupler',\n",
              "  'top': 'straight',\n",
              "  'btm': 'straight',\n",
              "  'rgt': 'coupler'},\n",
              " 'connections': {'lft,out0': 'btm,in0',\n",
              "  'btm,out0': 'rgt,in0',\n",
              "  'lft,out1': 'top,in0',\n",
              "  'top,out0': 'rgt,in1'},\n",
              " 'ports': {'in0': 'lft,in0',\n",
              "  'in1': 'lft,in1',\n",
              "  'out0': 'rgt,out0',\n",
              "  'out1': 'rgt,out1'}}"
            ]
          },
          "execution_count": 10,
          "metadata": {},
          "output_type": "execute_result"
        }
      ],
      "source": [
        "_remove_unused_instances_flat(netlist)"
      ]
    },
    {
      "cell_type": "markdown",
      "id": "51a337e8b2eeab21",
      "metadata": {},
      "source": [
        ":::{eval-rst}\n",
        ".. autofunction:: sax.netlist_cleaning.remove_unused_instances\n",
        ":::\n"
      ]
    },
    {
      "cell_type": "code",
      "execution_count": 11,
      "id": "7603e633870c6be5",
      "metadata": {
        "execution": {
          "iopub.execute_input": "2023-09-01T15:53:41.972209Z",
          "iopub.status.busy": "2023-09-01T15:53:41.971766Z",
          "iopub.status.idle": "2023-09-01T15:53:41.977442Z",
          "shell.execute_reply": "2023-09-01T15:53:41.976522Z"
        },
        "papermill": {
          "duration": 0.050514,
          "end_time": "2023-09-01T15:53:41.978910",
          "exception": false,
          "start_time": "2023-09-01T15:53:41.928396",
          "status": "completed"
        },
        "tags": [
          "hide-input"
        ]
      },
      "outputs": [],
      "source": [
        "def remove_unused_instances(recursive_netlist):\n",
        "    recursive_netlist = {**recursive_netlist}\n",
        "\n",
        "    for name, flat_netlist in recursive_netlist.items():\n",
        "        recursive_netlist[name] = _remove_unused_instances_flat(flat_netlist)\n",
        "\n",
        "    return recursive_netlist"
      ]
    },
    {
      "cell_type": "code",
      "execution_count": 12,
      "id": "564c7b5f-a212-4afc-b4db-d7de5d92d7fa",
      "metadata": {
        "execution": {
          "iopub.execute_input": "2023-09-01T15:53:41.987687Z",
          "iopub.status.busy": "2023-09-01T15:53:41.987200Z",
          "iopub.status.idle": "2023-09-01T15:53:41.992761Z",
          "shell.execute_reply": "2023-09-01T15:53:41.992235Z"
        },
        "papermill": {
          "duration": 0.011556,
          "end_time": "2023-09-01T15:53:41.994143",
          "exception": false,
          "start_time": "2023-09-01T15:53:41.982587",
          "status": "completed"
        },
        "tags": []
      },
      "outputs": [
        {
          "data": {
            "text/plain": [
              "{'top_level': {'instances': {'lft': 'coupler',\n",
              "   'top': 'straight',\n",
              "   'btm': 'straight',\n",
              "   'rgt': 'coupler'},\n",
              "  'connections': {'lft,out0': 'btm,in0',\n",
              "   'btm,out0': 'rgt,in0',\n",
              "   'lft,out1': 'top,in0',\n",
              "   'top,out0': 'rgt,in1'},\n",
              "  'ports': {'in0': 'lft,in0',\n",
              "   'in1': 'lft,in1',\n",
              "   'out0': 'rgt,out0',\n",
              "   'out1': 'rgt,out1'}},\n",
              " 'test': {'instances': {'lft': 'coupler',\n",
              "   'top': 'straight',\n",
              "   'btm': 'straight',\n",
              "   'rgt': 'coupler'},\n",
              "  'connections': {'lft,out0': 'btm,in0',\n",
              "   'btm,out0': 'rgt,in0',\n",
              "   'lft,out1': 'top,in0',\n",
              "   'top,out0': 'rgt,in1'},\n",
              "  'ports': {'in0': 'lft,in0',\n",
              "   'in1': 'lft,in1',\n",
              "   'out0': 'rgt,out0',\n",
              "   'out1': 'rgt,out1'}}}"
            ]
          },
          "execution_count": 12,
          "metadata": {},
          "output_type": "execute_result"
        }
      ],
      "source": [
        "remove_unused_instances({\"top_level\": netlist, \"test\": netlist})"
      ]
    }
  ],
  "metadata": {
    "kernelspec": {
      "display_name": "sax",
      "language": "python",
      "name": "sax"
    },
    "language_info": {
      "codemirror_mode": {
        "name": "ipython",
        "version": 3
      },
      "file_extension": ".py",
      "mimetype": "text/x-python",
      "name": "python",
      "nbconvert_exporter": "python",
      "pygments_lexer": "ipython3",
      "version": "3.11.5"
    },
    "papermill": {
      "default_parameters": {},
      "duration": 3.925357,
      "end_time": "2023-09-01T15:53:42.618048",
      "environment_variables": {},
      "exception": null,
      "input_path": "./nbs/06b_netlist_cleaning.ipynb",
      "output_path": "./nbs/06b_netlist_cleaning.ipynb",
      "parameters": {},
      "start_time": "2023-09-01T15:53:38.692691",
      "version": "2.4.0"
    }
  },
  "nbformat": 4,
  "nbformat_minor": 5
}