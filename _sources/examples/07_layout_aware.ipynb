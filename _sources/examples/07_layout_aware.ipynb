{
  "cells": [
    {
      "cell_type": "markdown",
      "id": "547587f5",
      "metadata": {
        "tags": [
          "papermill-error-cell-tag"
        ]
      },
      "source": [
        "<span style=\"color:red; font-family:Helvetica Neue, Helvetica, Arial, sans-serif; font-size:2em;\">An Exception was encountered at '<a href=\"#papermill-error-cell\">In [22]</a>'.</span>"
      ]
    },
    {
      "cell_type": "markdown",
      "id": "18bbf5e0-148e-4f1a-aa90-f11eaafcb90a",
      "metadata": {
        "papermill": {
          "duration": 0.009587,
          "end_time": "2023-09-02T18:49:32.515565",
          "exception": false,
          "start_time": "2023-09-02T18:49:32.505978",
          "status": "completed"
        },
        "tags": []
      },
      "source": [
        "# Layout Aware Monte Carlo with GDSFactory\n",
        "> Towards layout-aware optimization and monte-carlo simulations"
      ]
    },
    {
      "cell_type": "code",
      "execution_count": 1,
      "id": "2aa42744c19177b2",
      "metadata": {
        "execution": {
          "iopub.execute_input": "2023-09-02T18:49:32.560001Z",
          "iopub.status.busy": "2023-09-02T18:49:32.559602Z",
          "iopub.status.idle": "2023-09-02T18:49:32.565498Z",
          "shell.execute_reply": "2023-09-02T18:49:32.564929Z"
        },
        "papermill": {
          "duration": 0.014711,
          "end_time": "2023-09-02T18:49:32.566775",
          "exception": false,
          "start_time": "2023-09-02T18:49:32.552064",
          "status": "completed"
        },
        "tags": [
          "remove-cell"
        ]
      },
      "outputs": [],
      "source": [
        "import os\n",
        "os.environ[\"LOGURU_LEVEL\"] = \"CRITICAL\"\n",
        "#import warnings\n",
        "#warnings.filterwarnings(\"ignore\")"
      ]
    },
    {
      "cell_type": "code",
      "execution_count": 2,
      "id": "db18bcef-a20a-43aa-99af-1a77a7b8c3cd",
      "metadata": {
        "execution": {
          "iopub.execute_input": "2023-09-02T18:49:32.580722Z",
          "iopub.status.busy": "2023-09-02T18:49:32.580208Z",
          "iopub.status.idle": "2023-09-02T18:49:40.696875Z",
          "shell.execute_reply": "2023-09-02T18:49:40.696268Z"
        },
        "papermill": {
          "duration": 8.125467,
          "end_time": "2023-09-02T18:49:40.698576",
          "exception": false,
          "start_time": "2023-09-02T18:49:32.573109",
          "status": "completed"
        },
        "tags": []
      },
      "outputs": [
        {
          "name": "stdout",
          "output_type": "stream",
          "text": [
            "Using MPI version 4.0, 1 processes\n"
          ]
        }
      ],
      "source": [
        "import itertools\n",
        "import sys\n",
        "from functools import partial\n",
        "from typing import List\n",
        "\n",
        "import gdsfactory as gf  # conda install gdsfactory\n",
        "from gdsfactory.quickplotter import quickplot\n",
        "import jax\n",
        "import jax.example_libraries.optimizers as opt\n",
        "import jax.numpy as jnp\n",
        "import matplotlib.pyplot as plt\n",
        "import meep  # conda install pymeep=\\*=mpi_mpich_\\*\n",
        "import numpy as np\n",
        "import sax\n",
        "from gplugins.modes import find_modes_waveguide\n",
        "from numpy.fft import fft2, fftfreq, fftshift, ifft2\n",
        "from tqdm.notebook import tqdm, trange"
      ]
    },
    {
      "cell_type": "code",
      "execution_count": 3,
      "id": "7e78e900efcc3feb",
      "metadata": {
        "execution": {
          "iopub.execute_input": "2023-09-02T18:49:40.713978Z",
          "iopub.status.busy": "2023-09-02T18:49:40.713243Z",
          "iopub.status.idle": "2023-09-02T18:49:40.717527Z",
          "shell.execute_reply": "2023-09-02T18:49:40.717036Z"
        },
        "papermill": {
          "duration": 0.01326,
          "end_time": "2023-09-02T18:49:40.718715",
          "exception": false,
          "start_time": "2023-09-02T18:49:40.705455",
          "status": "completed"
        },
        "tags": []
      },
      "outputs": [],
      "source": [
        "# In interactive notebooks it's often pretty annoying to have a cache...\n",
        "# let's disable gdsfactory cache with this horrible one-liner \ud83d\ude42\n",
        "sys.modules['gdsfactory.cell'].CACHE = type('FakeCache', (dict,), {'__setitem__': (lambda *args: None)})()"
      ]
    },
    {
      "cell_type": "markdown",
      "id": "55f847fe-9523-4b8e-9dc5-c30333ec2775",
      "metadata": {
        "papermill": {
          "duration": 0.006424,
          "end_time": "2023-09-02T18:49:40.731617",
          "exception": false,
          "start_time": "2023-09-02T18:49:40.725193",
          "status": "completed"
        },
        "tags": []
      },
      "source": [
        "## Simple MZI Layout"
      ]
    },
    {
      "cell_type": "code",
      "execution_count": 4,
      "id": "b68ac873-a02e-4d43-aebb-3523367e2b51",
      "metadata": {
        "execution": {
          "iopub.execute_input": "2023-09-02T18:49:40.746322Z",
          "iopub.status.busy": "2023-09-02T18:49:40.745691Z",
          "iopub.status.idle": "2023-09-02T18:49:40.752665Z",
          "shell.execute_reply": "2023-09-02T18:49:40.752233Z"
        },
        "papermill": {
          "duration": 0.015718,
          "end_time": "2023-09-02T18:49:40.753761",
          "exception": false,
          "start_time": "2023-09-02T18:49:40.738043",
          "status": "completed"
        },
        "tags": []
      },
      "outputs": [],
      "source": [
        "@gf.cell\n",
        "def simple_mzi():\n",
        "    c = gf.Component()\n",
        "\n",
        "    # instances\n",
        "    mmi_in = gf.components.mmi1x2()\n",
        "    mmi_out = gf.components.mmi2x2()\n",
        "    bend = gf.components.bend_euler()\n",
        "    half_delay_straight = gf.components.straight(length=10.0)\n",
        "\n",
        "    # references (sax convention: vars ending in underscore are references)\n",
        "    mmi_in_ = c << mmi_in\n",
        "    mmi_out_ = c << mmi_out\n",
        "    straight_top1_ = c << half_delay_straight\n",
        "    straight_top2_ = c << half_delay_straight\n",
        "    bend_top1_ = c << bend\n",
        "    bend_top2_ = (c << bend).mirror()\n",
        "    bend_top3_ = (c << bend).mirror()\n",
        "    bend_top4_ = c << bend\n",
        "    bend_btm1_ = (c << bend).mirror()\n",
        "    bend_btm2_ = c << bend\n",
        "    bend_btm3_ = c << bend\n",
        "    bend_btm4_ = (c << bend).mirror()\n",
        "\n",
        "    # connections\n",
        "    bend_top1_.connect(\"o1\", mmi_in_.ports[\"o2\"])\n",
        "    straight_top1_.connect(\"o1\", bend_top1_.ports[\"o2\"])\n",
        "    bend_top2_.connect(\"o1\", straight_top1_.ports[\"o2\"])\n",
        "    bend_top3_.connect(\"o1\", bend_top2_.ports[\"o2\"])\n",
        "    straight_top2_.connect(\"o1\", bend_top3_.ports[\"o2\"])\n",
        "    bend_top4_.connect(\"o1\", straight_top2_.ports[\"o2\"])\n",
        "\n",
        "    bend_btm1_.connect(\"o1\", mmi_in_.ports[\"o3\"])\n",
        "    bend_btm2_.connect(\"o1\", bend_btm1_.ports[\"o2\"])\n",
        "    bend_btm3_.connect(\"o1\", bend_btm2_.ports[\"o2\"])\n",
        "    bend_btm4_.connect(\"o1\", bend_btm3_.ports[\"o2\"])\n",
        "\n",
        "    mmi_out_.connect(\"o1\", bend_btm4_.ports[\"o2\"])\n",
        "\n",
        "    # ports\n",
        "    c.add_port(\n",
        "        \"o1\",\n",
        "        port=mmi_in_.ports[\"o1\"],\n",
        "    )\n",
        "    c.add_port(\"o2\", port=mmi_out_.ports[\"o3\"])\n",
        "    c.add_port(\"o3\", port=mmi_out_.ports[\"o4\"])\n",
        "    return c"
      ]
    },
    {
      "cell_type": "code",
      "execution_count": 5,
      "id": "3b12f9d2-7bbd-4a49-9744-fd1bfb6d5cf0",
      "metadata": {
        "execution": {
          "iopub.execute_input": "2023-09-02T18:49:40.767816Z",
          "iopub.status.busy": "2023-09-02T18:49:40.767435Z",
          "iopub.status.idle": "2023-09-02T18:49:41.110186Z",
          "shell.execute_reply": "2023-09-02T18:49:41.109563Z"
        },
        "papermill": {
          "duration": 0.351572,
          "end_time": "2023-09-02T18:49:41.111767",
          "exception": false,
          "start_time": "2023-09-02T18:49:40.760195",
          "status": "completed"
        },
        "tags": []
      },
      "outputs": [
        {
          "data": {
            "image/png": "[encoded data removed]",
            "text/plain": [
              "<Figure size 640x480 with 1 Axes>"
            ]
          },
          "metadata": {},
          "output_type": "display_data"
        }
      ],
      "source": [
        "mzi = simple_mzi()\n",
        "quickplot(mzi);"
      ]
    },
    {
      "cell_type": "markdown",
      "id": "49a81eb1-8dcb-4f46-a879-393c258c9ce5",
      "metadata": {
        "papermill": {
          "duration": 0.008276,
          "end_time": "2023-09-02T18:49:41.127953",
          "exception": false,
          "start_time": "2023-09-02T18:49:41.119677",
          "status": "completed"
        },
        "tags": []
      },
      "source": [
        "## Simulate MZI\n",
        "\n",
        "We used the following components to construct the MZI circuit:\n",
        "\n",
        "- mmi1x2\n",
        "- mmi2x2\n",
        "- straight\n",
        "- bend_euler"
      ]
    },
    {
      "cell_type": "markdown",
      "id": "6ad7a01b-4df3-4036-a168-7b417783f654",
      "metadata": {
        "papermill": {
          "duration": 0.006972,
          "end_time": "2023-09-02T18:49:41.141986",
          "exception": false,
          "start_time": "2023-09-02T18:49:41.135014",
          "status": "completed"
        },
        "tags": []
      },
      "source": [
        "We need a model for each of those components to be able to simulate the circuit with SAX. Let's create some dummy models for now."
      ]
    },
    {
      "cell_type": "code",
      "execution_count": 6,
      "id": "4f03671b-3778-4600-b982-8f384bc67e1b",
      "metadata": {
        "execution": {
          "iopub.execute_input": "2023-09-02T18:49:41.157743Z",
          "iopub.status.busy": "2023-09-02T18:49:41.157034Z",
          "iopub.status.idle": "2023-09-02T18:49:41.160795Z",
          "shell.execute_reply": "2023-09-02T18:49:41.160285Z"
        },
        "papermill": {
          "duration": 0.013045,
          "end_time": "2023-09-02T18:49:41.161987",
          "exception": false,
          "start_time": "2023-09-02T18:49:41.148942",
          "status": "completed"
        },
        "tags": []
      },
      "outputs": [],
      "source": [
        "def mmi1x2():\n",
        "    S = {\n",
        "        (\"o1\", \"o2\"): 0.5**0.5,\n",
        "        (\"o1\", \"o3\"): 0.5**0.5,\n",
        "    }\n",
        "    return sax.reciprocal(S)"
      ]
    },
    {
      "cell_type": "code",
      "execution_count": 7,
      "id": "913b0d59-4e77-413f-9bd3-562ba6f1166b",
      "metadata": {
        "execution": {
          "iopub.execute_input": "2023-09-02T18:49:41.177693Z",
          "iopub.status.busy": "2023-09-02T18:49:41.177064Z",
          "iopub.status.idle": "2023-09-02T18:49:41.180876Z",
          "shell.execute_reply": "2023-09-02T18:49:41.180387Z"
        },
        "papermill": {
          "duration": 0.013046,
          "end_time": "2023-09-02T18:49:41.182035",
          "exception": false,
          "start_time": "2023-09-02T18:49:41.168989",
          "status": "completed"
        },
        "tags": []
      },
      "outputs": [],
      "source": [
        "def mmi2x2():\n",
        "    S = {\n",
        "        (\"o1\", \"o3\"): 0.5**0.5,\n",
        "        (\"o1\", \"o4\"): 1j * 0.5**0.5,\n",
        "        (\"o2\", \"o3\"): 1j * 0.5**0.5,\n",
        "        (\"o2\", \"o4\"): 0.5**0.5,\n",
        "    }\n",
        "    return sax.reciprocal(S)"
      ]
    },
    {
      "cell_type": "code",
      "execution_count": 8,
      "id": "d2df6d32-8d3a-46ee-8e57-f99bd7c0fc13",
      "metadata": {
        "execution": {
          "iopub.execute_input": "2023-09-02T18:49:41.197648Z",
          "iopub.status.busy": "2023-09-02T18:49:41.196979Z",
          "iopub.status.idle": "2023-09-02T18:49:41.200470Z",
          "shell.execute_reply": "2023-09-02T18:49:41.199979Z"
        },
        "papermill": {
          "duration": 0.012578,
          "end_time": "2023-09-02T18:49:41.201656",
          "exception": false,
          "start_time": "2023-09-02T18:49:41.189078",
          "status": "completed"
        },
        "tags": []
      },
      "outputs": [],
      "source": [
        "def straight(length=10.0, width=0.5):\n",
        "    S = {(\"o1\", \"o2\"): 1.0}  # we'll improve this model later!\n",
        "    return sax.reciprocal(S)"
      ]
    },
    {
      "cell_type": "code",
      "execution_count": 9,
      "id": "c52dcfa2-a05d-40db-b9b1-5c1bc90b0743",
      "metadata": {
        "execution": {
          "iopub.execute_input": "2023-09-02T18:49:41.217118Z",
          "iopub.status.busy": "2023-09-02T18:49:41.216528Z",
          "iopub.status.idle": "2023-09-02T18:49:41.219792Z",
          "shell.execute_reply": "2023-09-02T18:49:41.219323Z"
        },
        "papermill": {
          "duration": 0.012213,
          "end_time": "2023-09-02T18:49:41.220934",
          "exception": false,
          "start_time": "2023-09-02T18:49:41.208721",
          "status": "completed"
        },
        "tags": []
      },
      "outputs": [],
      "source": [
        "def bend_euler(length=10.0, width=0.5, dy=10.0, radius_min=7, radius=10):\n",
        "    return straight(length=length, width=width)  # stub with straight for now"
      ]
    },
    {
      "cell_type": "markdown",
      "id": "3cad045c-1b77-4f04-b989-90f7fe996988",
      "metadata": {
        "papermill": {
          "duration": 0.00703,
          "end_time": "2023-09-02T18:49:41.235134",
          "exception": false,
          "start_time": "2023-09-02T18:49:41.228104",
          "status": "completed"
        },
        "tags": []
      },
      "source": [
        "Let's create a SAX circuit with our very simple placeholder models:"
      ]
    },
    {
      "cell_type": "code",
      "execution_count": 10,
      "id": "46978016-4573-4315-b038-1d1af3af1756",
      "metadata": {
        "execution": {
          "iopub.execute_input": "2023-09-02T18:49:41.250483Z",
          "iopub.status.busy": "2023-09-02T18:49:41.250003Z",
          "iopub.status.idle": "2023-09-02T18:49:42.244385Z",
          "shell.execute_reply": "2023-09-02T18:49:42.243676Z"
        },
        "papermill": {
          "duration": 1.003994,
          "end_time": "2023-09-02T18:49:42.246171",
          "exception": false,
          "start_time": "2023-09-02T18:49:41.242177",
          "status": "completed"
        },
        "tags": []
      },
      "outputs": [],
      "source": [
        "models = {\n",
        "    \"mmi1x2\": mmi1x2,\n",
        "    \"mmi2x2\": mmi2x2,\n",
        "    \"straight\": straight,\n",
        "    \"bend_euler\": bend_euler,\n",
        "}\n",
        "mzi1, _ = sax.circuit(mzi.get_netlist_recursive(), models=models)\n",
        "mzi1?"
      ]
    },
    {
      "cell_type": "markdown",
      "id": "909f66df-2ea7-4d21-ac84-8d50282b3310",
      "metadata": {
        "papermill": {
          "duration": 0.007204,
          "end_time": "2023-09-02T18:49:42.260812",
          "exception": false,
          "start_time": "2023-09-02T18:49:42.253608",
          "status": "completed"
        },
        "tags": []
      },
      "source": [
        "the resulting circuit is just a model function on its own! Hence, calling it will give the result:"
      ]
    },
    {
      "cell_type": "code",
      "execution_count": 11,
      "id": "10579bda-3bf8-4e7f-8ccf-8f80355b97e1",
      "metadata": {
        "execution": {
          "iopub.execute_input": "2023-09-02T18:49:42.276900Z",
          "iopub.status.busy": "2023-09-02T18:49:42.276219Z",
          "iopub.status.idle": "2023-09-02T18:49:42.884385Z",
          "shell.execute_reply": "2023-09-02T18:49:42.883813Z"
        },
        "papermill": {
          "duration": 0.61758,
          "end_time": "2023-09-02T18:49:42.885676",
          "exception": false,
          "start_time": "2023-09-02T18:49:42.268096",
          "status": "completed"
        },
        "tags": []
      },
      "outputs": [
        {
          "data": {
            "text/plain": [
              "(Array([[0. +0.j , 0.5+0.5j, 0.5+0.5j],\n",
              "        [0.5+0.5j, 0. +0.j , 0. +0.j ],\n",
              "        [0.5+0.5j, 0. +0.j , 0. +0.j ]], dtype=complex128),\n",
              " {'o1': 0, 'o2': 1, 'o3': 2})"
            ]
          },
          "execution_count": 11,
          "metadata": {},
          "output_type": "execute_result"
        }
      ],
      "source": [
        "mzi1()"
      ]
    },
    {
      "cell_type": "markdown",
      "id": "cd1c11d4-36fb-4973-82f9-97d6bbd1fe9f",
      "metadata": {
        "papermill": {
          "duration": 0.007328,
          "end_time": "2023-09-02T18:49:42.900644",
          "exception": false,
          "start_time": "2023-09-02T18:49:42.893316",
          "status": "completed"
        },
        "tags": []
      },
      "source": [
        "## Waveguide Model\n",
        "\n",
        "Our waveguide model is not very good (it just has 100% transmission and no phase). Let's do something about the phase calculation. To do this, we need to find the effective index of the waveguide in relation to its parameters. We can use meep to obtain the waveguide parameters. Let's use gdsfactory's convenient `find_modes_waveguide` function to find the waveguide modes. This function uses `mpb` under the hood."
      ]
    },
    {
      "cell_type": "code",
      "execution_count": 12,
      "id": "84882c43-2941-4ca6-980a-5d93a34f5bf4",
      "metadata": {
        "execution": {
          "iopub.execute_input": "2023-09-02T18:49:42.917536Z",
          "iopub.status.busy": "2023-09-02T18:49:42.916763Z",
          "iopub.status.idle": "2023-09-02T18:49:42.920757Z",
          "shell.execute_reply": "2023-09-02T18:49:42.920216Z"
        },
        "papermill": {
          "duration": 0.013922,
          "end_time": "2023-09-02T18:49:42.922001",
          "exception": false,
          "start_time": "2023-09-02T18:49:42.908079",
          "status": "completed"
        },
        "tags": []
      },
      "outputs": [],
      "source": [
        "def silicon_index(wl):\n",
        "    \"\"\"a rudimentary silicon refractive index model\"\"\"\n",
        "    a, b = 0.2411478522088102, 3.3229394315868976\n",
        "    return a / wl + b"
      ]
    },
    {
      "cell_type": "code",
      "execution_count": 13,
      "id": "f5ff734a-f493-41a0-a000-ed7d8fc5abf6",
      "metadata": {
        "execution": {
          "iopub.execute_input": "2023-09-02T18:49:42.937697Z",
          "iopub.status.busy": "2023-09-02T18:49:42.937318Z",
          "iopub.status.idle": "2023-09-02T18:50:54.907425Z",
          "shell.execute_reply": "2023-09-02T18:50:54.907053Z"
        },
        "papermill": {
          "duration": 71.979625,
          "end_time": "2023-09-02T18:50:54.908891",
          "exception": false,
          "start_time": "2023-09-02T18:49:42.929266",
          "status": "completed"
        },
        "tags": []
      },
      "outputs": [
        {
          "data": {
            "application/vnd.jupyter.widget-view+json": {
              "model_id": "331a9a09197d410298e797748cd4dbd6",
              "version_major": 2,
              "version_minor": 0
            },
            "text/plain": [
              "  0%|          | 0/50 [00:00<?, ?it/s]"
            ]
          },
          "metadata": {},
          "output_type": "display_data"
        },
        {
          "name": "stderr",
          "output_type": "stream",
          "text": [
            "/opt/conda/lib/python3.11/site-packages/gdsfactory/typings.py:330: ComplexWarning: Casting complex values to real discards the imaginary part\n",
            "  return np.array(val, dtype=cls.inner_type)\n"
          ]
        }
      ],
      "source": [
        "wavelengths = np.linspace(1.5, 1.6, 10)\n",
        "widths = np.linspace(0.4, 0.6, 5)\n",
        "\n",
        "wavelengths, widths = np.mgrid[1.5:1.6:10j, 0.4:0.6:5j]\n",
        "neffs = np.zeros_like(wavelengths)\n",
        "neffs_ = neffs.ravel()\n",
        "\n",
        "for i, (wl, w) in enumerate(zip(tqdm(wavelengths.ravel()), widths.ravel())):\n",
        "    modes = find_modes_waveguide(\n",
        "        wavelength=wl,\n",
        "        core_width=w,\n",
        "        mode_number=1,\n",
        "        core_thickness=0.22,\n",
        "        slab_thickness=0.0,\n",
        "        core_material=silicon_index(wl),\n",
        "        clad_material=1.4,\n",
        "    )\n",
        "    neffs_[i] = np.real(modes[1].neff)"
      ]
    },
    {
      "cell_type": "code",
      "execution_count": 14,
      "id": "3fa32b4e-fc43-46ea-8440-7b2449a52272",
      "metadata": {
        "execution": {
          "iopub.execute_input": "2023-09-02T18:50:54.926289Z",
          "iopub.status.busy": "2023-09-02T18:50:54.926073Z",
          "iopub.status.idle": "2023-09-02T18:50:54.930669Z",
          "shell.execute_reply": "2023-09-02T18:50:54.930296Z"
        },
        "papermill": {
          "duration": 0.015634,
          "end_time": "2023-09-02T18:50:54.932451",
          "exception": false,
          "start_time": "2023-09-02T18:50:54.916817",
          "status": "completed"
        },
        "tags": []
      },
      "outputs": [],
      "source": [
        "def visualize_mode(mode, field):\n",
        "    field, comp = list(field)\n",
        "    idx = [\"x\", \"y\", \"z\"].index(comp)\n",
        "    x, y = getattr(mode, \"y\"), getattr(mode, \"z\")\n",
        "    Y, X = np.meshgrid(y, x)\n",
        "    mode = np.abs(getattr(mode, field)[..., 0, idx]) ** 2\n",
        "    plt.contour(\n",
        "        X, Y, mode, cmap=\"inferno\", levels=np.linspace(mode.min(), mode.max(), 8)\n",
        "    )\n",
        "    plt.colorbar(label=\"mode\")\n",
        "    plt.grid(True, alpha=0.4)\n",
        "    plt.xlim(X.min(), X.max())\n",
        "    plt.ylim(Y.min(), Y.max())\n",
        "    plt.xlabel(\"y\")\n",
        "    plt.ylabel(\"z\")\n",
        "    plt.axis(\"scaled\")\n",
        "    plt.grid(True)\n",
        "    plt.show()"
      ]
    },
    {
      "cell_type": "code",
      "execution_count": 15,
      "id": "e147bc6c-b2f1-43cc-828f-261b7490eff5",
      "metadata": {
        "execution": {
          "iopub.execute_input": "2023-09-02T18:50:54.948466Z",
          "iopub.status.busy": "2023-09-02T18:50:54.948271Z",
          "iopub.status.idle": "2023-09-02T18:50:55.153353Z",
          "shell.execute_reply": "2023-09-02T18:50:55.152943Z"
        },
        "papermill": {
          "duration": 0.214824,
          "end_time": "2023-09-02T18:50:55.154811",
          "exception": false,
          "start_time": "2023-09-02T18:50:54.939987",
          "status": "completed"
        },
        "tags": []
      },
      "outputs": [
        {
          "data": {
            "image/png": "[encoded data removed]",
            "text/plain": [
              "<Figure size 640x480 with 2 Axes>"
            ]
          },
          "metadata": {},
          "output_type": "display_data"
        }
      ],
      "source": [
        "visualize_mode(modes[1], \"Hz\")"
      ]
    },
    {
      "cell_type": "code",
      "execution_count": 16,
      "id": "27c56455-6c41-433e-af97-8fa4b2a5c96e",
      "metadata": {
        "execution": {
          "iopub.execute_input": "2023-09-02T18:50:55.174275Z",
          "iopub.status.busy": "2023-09-02T18:50:55.173580Z",
          "iopub.status.idle": "2023-09-02T18:50:55.287225Z",
          "shell.execute_reply": "2023-09-02T18:50:55.286791Z"
        },
        "papermill": {
          "duration": 0.125081,
          "end_time": "2023-09-02T18:50:55.288642",
          "exception": false,
          "start_time": "2023-09-02T18:50:55.163561",
          "status": "completed"
        },
        "tags": []
      },
      "outputs": [
        {
          "data": {
            "image/png": "[encoded data removed]",
            "text/plain": [
              "<Figure size 640x480 with 1 Axes>"
            ]
          },
          "metadata": {},
          "output_type": "display_data"
        }
      ],
      "source": [
        "plt.pcolormesh(wavelengths, widths, neffs)\n",
        "plt.xlabel(\"\u03bb [\u03bcm]\")\n",
        "plt.ylabel(\"width [\u03bcm]\")\n",
        "plt.show()"
      ]
    },
    {
      "cell_type": "code",
      "execution_count": 17,
      "id": "e8990e26-d434-41b3-8c46-300057eecb25",
      "metadata": {
        "execution": {
          "iopub.execute_input": "2023-09-02T18:50:55.310086Z",
          "iopub.status.busy": "2023-09-02T18:50:55.309845Z",
          "iopub.status.idle": "2023-09-02T18:50:55.925682Z",
          "shell.execute_reply": "2023-09-02T18:50:55.925225Z"
        },
        "papermill": {
          "duration": 0.628091,
          "end_time": "2023-09-02T18:50:55.927075",
          "exception": false,
          "start_time": "2023-09-02T18:50:55.298984",
          "status": "completed"
        },
        "tags": []
      },
      "outputs": [
        {
          "data": {
            "text/plain": [
              "Array([2.47592927, 2.48040469], dtype=float64)"
            ]
          },
          "execution_count": 17,
          "metadata": {},
          "output_type": "execute_result"
        }
      ],
      "source": [
        "_grid = [jnp.sort(jnp.unique(wavelengths)), jnp.sort(jnp.unique(widths))]\n",
        "_data = jnp.asarray(neffs)\n",
        "\n",
        "\n",
        "@jax.jit\n",
        "def _get_coordinate(arr1d: jnp.ndarray, value: jnp.ndarray):\n",
        "    return jnp.interp(value, arr1d, jnp.arange(arr1d.shape[0]))\n",
        "\n",
        "\n",
        "@jax.jit\n",
        "def _get_coordinates(arrs1d: List[jnp.ndarray], values: jnp.ndarray):\n",
        "    # don't use vmap as arrays in arrs1d could have different shapes...\n",
        "    return jnp.array([_get_coordinate(a, v) for a, v in zip(arrs1d, values)])\n",
        "\n",
        "\n",
        "@jax.jit\n",
        "def neff(wl=1.55, width=0.5):\n",
        "    params = jnp.stack(jnp.broadcast_arrays(jnp.asarray(wl), jnp.asarray(width)), 0)\n",
        "    coords = _get_coordinates(_grid, params)\n",
        "    return jax.scipy.ndimage.map_coordinates(_data, coords, 1, mode=\"nearest\")\n",
        "\n",
        "\n",
        "neff(wl=[1.52, 1.58], width=[0.5, 0.55])"
      ]
    },
    {
      "cell_type": "code",
      "execution_count": 18,
      "id": "d47b524e-3625-4261-b0a7-085348a0cb49",
      "metadata": {
        "execution": {
          "iopub.execute_input": "2023-09-02T18:50:55.951502Z",
          "iopub.status.busy": "2023-09-02T18:50:55.950885Z",
          "iopub.status.idle": "2023-09-02T18:50:56.498280Z",
          "shell.execute_reply": "2023-09-02T18:50:56.497888Z"
        },
        "papermill": {
          "duration": 0.563062,
          "end_time": "2023-09-02T18:50:56.499451",
          "exception": false,
          "start_time": "2023-09-02T18:50:55.936389",
          "status": "completed"
        },
        "tags": []
      },
      "outputs": [
        {
          "data": {
            "image/png": "[encoded data removed]",
            "text/plain": [
              "<Figure size 640x480 with 1 Axes>"
            ]
          },
          "metadata": {},
          "output_type": "display_data"
        }
      ],
      "source": [
        "wavelengths_ = np.linspace(wavelengths.min(), wavelengths.max(), 100)\n",
        "widths_ = np.linspace(widths.min(), widths.max(), 100)\n",
        "wavelengths_, widths_ = np.meshgrid(wavelengths_, widths_)\n",
        "neffs_ = neff(wavelengths_, widths_)\n",
        "plt.pcolormesh(wavelengths_, widths_, neffs_)\n",
        "plt.xlabel(\"\u03bb [\u03bcm]\")\n",
        "plt.ylabel(\"width [\u03bcm]\")\n",
        "plt.show()"
      ]
    },
    {
      "cell_type": "code",
      "execution_count": 19,
      "id": "918ecf26-9f39-4b27-8503-5f2043068c90",
      "metadata": {
        "execution": {
          "iopub.execute_input": "2023-09-02T18:50:56.519759Z",
          "iopub.status.busy": "2023-09-02T18:50:56.519415Z",
          "iopub.status.idle": "2023-09-02T18:50:56.522523Z",
          "shell.execute_reply": "2023-09-02T18:50:56.522182Z"
        },
        "papermill": {
          "duration": 0.014608,
          "end_time": "2023-09-02T18:50:56.523619",
          "exception": false,
          "start_time": "2023-09-02T18:50:56.509011",
          "status": "completed"
        },
        "tags": []
      },
      "outputs": [],
      "source": [
        "def straight(wl=1.55, length=10.0, width=0.5):\n",
        "    S = {\n",
        "        (\"o1\", \"o2\"): jnp.exp(2j * np.pi * neff(wl=wl, width=width) / wl * length),\n",
        "    }\n",
        "    return sax.reciprocal(S)"
      ]
    },
    {
      "cell_type": "markdown",
      "id": "d8e3d951-a2fc-494c-b23c-4c888510bf22",
      "metadata": {
        "papermill": {
          "duration": 0.009007,
          "end_time": "2023-09-02T18:50:56.541746",
          "exception": false,
          "start_time": "2023-09-02T18:50:56.532739",
          "status": "completed"
        },
        "tags": []
      },
      "source": [
        "Even though this still is lossless transmission, we're at least modeling the phase correctly."
      ]
    },
    {
      "cell_type": "code",
      "execution_count": 20,
      "id": "c047c57e-7aa8-40d6-a2dc-dced77a886de",
      "metadata": {
        "execution": {
          "iopub.execute_input": "2023-09-02T18:50:56.561373Z",
          "iopub.status.busy": "2023-09-02T18:50:56.560907Z",
          "iopub.status.idle": "2023-09-02T18:50:57.022564Z",
          "shell.execute_reply": "2023-09-02T18:50:57.021777Z"
        },
        "papermill": {
          "duration": 0.47315,
          "end_time": "2023-09-02T18:50:57.023981",
          "exception": false,
          "start_time": "2023-09-02T18:50:56.550831",
          "status": "completed"
        },
        "tags": []
      },
      "outputs": [
        {
          "data": {
            "text/plain": [
              "{('o1', 'o2'): Array(-0.01230812-0.99992425j, dtype=complex128),\n",
              " ('o2', 'o1'): Array(-0.01230812-0.99992425j, dtype=complex128)}"
            ]
          },
          "execution_count": 20,
          "metadata": {},
          "output_type": "execute_result"
        }
      ],
      "source": [
        "straight()"
      ]
    },
    {
      "cell_type": "markdown",
      "id": "726425f8-7299-49bf-b32d-da5c666ffc7b",
      "metadata": {
        "papermill": {
          "duration": 0.009446,
          "end_time": "2023-09-02T18:50:57.043038",
          "exception": false,
          "start_time": "2023-09-02T18:50:57.033592",
          "status": "completed"
        },
        "tags": []
      },
      "source": [
        "## Simulate MZI again"
      ]
    },
    {
      "cell_type": "code",
      "execution_count": 21,
      "id": "8b1ae4da-a7e2-44b6-94ee-d7af68da5610",
      "metadata": {
        "execution": {
          "iopub.execute_input": "2023-09-02T18:50:57.063258Z",
          "iopub.status.busy": "2023-09-02T18:50:57.062618Z",
          "iopub.status.idle": "2023-09-02T18:50:57.690349Z",
          "shell.execute_reply": "2023-09-02T18:50:57.689891Z"
        },
        "papermill": {
          "duration": 0.639382,
          "end_time": "2023-09-02T18:50:57.691678",
          "exception": false,
          "start_time": "2023-09-02T18:50:57.052296",
          "status": "completed"
        },
        "tags": []
      },
      "outputs": [
        {
          "data": {
            "text/plain": [
              "(Array([[ 0.        +0.j        ,  0.4625024 -0.52324406j,\n",
              "         -0.47403023+0.53628586j],\n",
              "        [ 0.4625024 -0.52324406j,  0.        +0.j        ,\n",
              "          0.        +0.j        ],\n",
              "        [-0.47403023+0.53628586j,  0.        +0.j        ,\n",
              "          0.        +0.j        ]], dtype=complex128),\n",
              " {'o1': 0, 'o2': 1, 'o3': 2})"
            ]
          },
          "execution_count": 21,
          "metadata": {},
          "output_type": "execute_result"
        }
      ],
      "source": [
        "models[\"straight\"] = straight\n",
        "mzi2, _ = sax.circuit(mzi.get_netlist_recursive(), models=models)\n",
        "mzi2()"
      ]
    },
    {
      "cell_type": "markdown",
      "id": "dcaec270",
      "metadata": {
        "tags": [
          "papermill-error-cell-tag"
        ]
      },
      "source": [
        "<span id=\"papermill-error-cell\" style=\"color:red; font-family:Helvetica Neue, Helvetica, Arial, sans-serif; font-size:2em;\">Execution using papermill encountered an exception here and stopped:</span>"
      ]
    },
    {
      "cell_type": "code",
      "execution_count": 22,
      "id": "ef90611b-66cb-4889-9325-5e10f6646c9b",
      "metadata": {
        "execution": {
          "iopub.execute_input": "2023-09-02T18:50:57.712738Z",
          "iopub.status.busy": "2023-09-02T18:50:57.712258Z",
          "iopub.status.idle": "2023-09-02T18:50:58.958787Z",
          "shell.execute_reply": "2023-09-02T18:50:58.958075Z"
        },
        "papermill": {
          "duration": 1.258469,
          "end_time": "2023-09-02T18:50:58.959899",
          "exception": true,
          "start_time": "2023-09-02T18:50:57.701430",
          "status": "failed"
        },
        "tags": []
      },
      "outputs": [
        {
          "name": "stderr",
          "output_type": "stream",
          "text": [
            "/opt/conda/lib/python3.11/site-packages/numpy/core/getlimits.py:549: UserWarning: The value of the smallest subnormal for <class 'numpy.float64'> type is zero.\n",
            "  setattr(self, word, getattr(machar, word).flat[0])\n",
            "/opt/conda/lib/python3.11/site-packages/numpy/core/getlimits.py:89: UserWarning: The value of the smallest subnormal for <class 'numpy.float64'> type is zero.\n",
            "  return self._float_to_str(self.smallest_subnormal)\n"
          ]
        },
        {
          "ename": "TypeError",
          "evalue": "tuple indices must be integers or slices, not tuple",
          "output_type": "error",
          "traceback": [
            "\u001b[0;31m---------------------------------------------------------------------------\u001b[0m",
            "\u001b[0;31mTypeError\u001b[0m                                 Traceback (most recent call last)",
            "Cell \u001b[0;32mIn[22], line 3\u001b[0m\n\u001b[1;32m      1\u001b[0m wl \u001b[38;5;241m=\u001b[39m jnp\u001b[38;5;241m.\u001b[39mlinspace(\u001b[38;5;241m1.51\u001b[39m, \u001b[38;5;241m1.59\u001b[39m, \u001b[38;5;241m1000\u001b[39m)\n\u001b[1;32m      2\u001b[0m S \u001b[38;5;241m=\u001b[39m mzi2(wl\u001b[38;5;241m=\u001b[39mwl)\n\u001b[0;32m----> 3\u001b[0m plt\u001b[38;5;241m.\u001b[39mplot(wl, \u001b[38;5;28mabs\u001b[39m(\u001b[43mS\u001b[49m\u001b[43m[\u001b[49m\u001b[38;5;124;43m\"\u001b[39;49m\u001b[38;5;124;43mo1\u001b[39;49m\u001b[38;5;124;43m\"\u001b[39;49m\u001b[43m,\u001b[49m\u001b[43m \u001b[49m\u001b[38;5;124;43m\"\u001b[39;49m\u001b[38;5;124;43mo2\u001b[39;49m\u001b[38;5;124;43m\"\u001b[39;49m\u001b[43m]\u001b[49m) \u001b[38;5;241m*\u001b[39m\u001b[38;5;241m*\u001b[39m \u001b[38;5;241m2\u001b[39m)\n\u001b[1;32m      4\u001b[0m plt\u001b[38;5;241m.\u001b[39mylim(\u001b[38;5;241m-\u001b[39m\u001b[38;5;241m0.05\u001b[39m, \u001b[38;5;241m1.05\u001b[39m)\n\u001b[1;32m      5\u001b[0m plt\u001b[38;5;241m.\u001b[39mxlabel(\u001b[38;5;124m\"\u001b[39m\u001b[38;5;124m\u03bb [\u03bcm]\u001b[39m\u001b[38;5;124m\"\u001b[39m)\n",
            "\u001b[0;31mTypeError\u001b[0m: tuple indices must be integers or slices, not tuple"
          ]
        }
      ],
      "source": [
        "wl = jnp.linspace(1.51, 1.59, 1000)\n",
        "S = mzi2(wl=wl)\n",
        "plt.plot(wl, abs(S[\"o1\", \"o2\"]) ** 2)\n",
        "plt.ylim(-0.05, 1.05)\n",
        "plt.xlabel(\"\u03bb [\u03bcm]\")\n",
        "plt.ylabel(\"T\")\n",
        "plt.ylim(-0.05, 1.05)\n",
        "plt.grid(True)\n",
        "plt.show()"
      ]
    },
    {
      "cell_type": "markdown",
      "id": "327c9763-8a84-4ce2-991f-e79dea46113d",
      "metadata": {
        "papermill": {
          "duration": null,
          "end_time": null,
          "exception": null,
          "start_time": null,
          "status": "pending"
        },
        "tags": []
      },
      "source": [
        "## Optimize MZI"
      ]
    },
    {
      "cell_type": "markdown",
      "id": "2b7b0184-274f-49df-9ffc-e6d4a9dfbc58",
      "metadata": {
        "papermill": {
          "duration": null,
          "end_time": null,
          "exception": null,
          "start_time": null,
          "status": "pending"
        },
        "tags": []
      },
      "source": [
        "We'd like to optimize an MZI such that one of the minima is at 1550nm. To do this, we need to define a loss function for the circuit at 1550nm. This function should take the parameters that you want to optimize as positional arguments:"
      ]
    },
    {
      "cell_type": "code",
      "execution_count": null,
      "id": "6243cba9-ce4a-4327-a68b-2ee3e2b9c1f4",
      "metadata": {
        "papermill": {
          "duration": null,
          "end_time": null,
          "exception": null,
          "start_time": null,
          "status": "pending"
        },
        "tags": []
      },
      "outputs": [],
      "source": [
        "@jax.jit\n",
        "def loss_fn(delta_length):\n",
        "    S = mzi2(\n",
        "        wl=1.55,\n",
        "        straight_1={\"length\": delta_length / 2},\n",
        "        straight_2={\"length\": delta_length / 2},\n",
        "    )\n",
        "    return jnp.mean(jnp.abs(S[\"o1\", \"o2\"]) ** 2)"
      ]
    },
    {
      "cell_type": "markdown",
      "id": "f84dd8eb-cdd4-43c4-9a33-39677dca6438",
      "metadata": {
        "papermill": {
          "duration": null,
          "end_time": null,
          "exception": null,
          "start_time": null,
          "status": "pending"
        },
        "tags": []
      },
      "source": [
        "We can use this loss function to define a grad function which works on the parameters of the loss function:"
      ]
    },
    {
      "cell_type": "code",
      "execution_count": null,
      "id": "a3641d43-7de4-4211-bd95-02d4509111e6",
      "metadata": {
        "papermill": {
          "duration": null,
          "end_time": null,
          "exception": null,
          "start_time": null,
          "status": "pending"
        },
        "tags": []
      },
      "outputs": [],
      "source": [
        "grad_fn = jax.jit(\n",
        "    jax.grad(\n",
        "        loss_fn,\n",
        "        argnums=0,  # JAX gradient function for the first positional argument, jitted\n",
        "    )\n",
        ")"
      ]
    },
    {
      "cell_type": "markdown",
      "id": "b431ece1-c65a-4526-be48-1668270ec3ef",
      "metadata": {
        "papermill": {
          "duration": null,
          "end_time": null,
          "exception": null,
          "start_time": null,
          "status": "pending"
        },
        "tags": []
      },
      "source": [
        "Next, we need to define a JAX optimizer, which on its own is nothing more than three more functions:  an initialization function with which to initialize the optimizer state, an update function which will update the optimizer state (and with it the model parameters). The third function that's being returned will give the model parameters given the optimizer state."
      ]
    },
    {
      "cell_type": "code",
      "execution_count": null,
      "id": "c2f4c30c-a000-4d80-9b6f-97af499e3b4d",
      "metadata": {
        "papermill": {
          "duration": null,
          "end_time": null,
          "exception": null,
          "start_time": null,
          "status": "pending"
        },
        "tags": []
      },
      "outputs": [],
      "source": [
        "initial_delta_length = 10.0\n",
        "init_fn, update_fn, params_fn = opt.adam(step_size=0.1)\n",
        "state = init_fn(initial_delta_length)"
      ]
    },
    {
      "cell_type": "markdown",
      "id": "8ec26547-c39c-42d9-af43-9be940f76b69",
      "metadata": {
        "papermill": {
          "duration": null,
          "end_time": null,
          "exception": null,
          "start_time": null,
          "status": "pending"
        },
        "tags": []
      },
      "source": [
        "Given all this, a single training step can be defined:"
      ]
    },
    {
      "cell_type": "code",
      "execution_count": null,
      "id": "eede579e-cf88-43fd-8d43-c888d1e07bba",
      "metadata": {
        "papermill": {
          "duration": null,
          "end_time": null,
          "exception": null,
          "start_time": null,
          "status": "pending"
        },
        "tags": []
      },
      "outputs": [],
      "source": [
        "def step_fn(step, state):\n",
        "    params = params_fn(state)\n",
        "    loss = loss_fn(params)\n",
        "    grad = grad_fn(params)\n",
        "    state = update_fn(step, grad, state)\n",
        "    return loss, state"
      ]
    },
    {
      "cell_type": "markdown",
      "id": "ed8cbb34-889a-4cbd-85ca-ad5912a26acc",
      "metadata": {
        "papermill": {
          "duration": null,
          "end_time": null,
          "exception": null,
          "start_time": null,
          "status": "pending"
        },
        "tags": []
      },
      "source": [
        "And we can use this step function to start the training of the MZI:"
      ]
    },
    {
      "cell_type": "code",
      "execution_count": null,
      "id": "d2533da9-52eb-44c8-8426-2f5210fb342d",
      "metadata": {
        "papermill": {
          "duration": null,
          "end_time": null,
          "exception": null,
          "start_time": null,
          "status": "pending"
        },
        "tags": []
      },
      "outputs": [],
      "source": [
        "for step in (pb := trange(300)):  # the first two iterations take a while because the circuit is being jitted...\n",
        "    loss, state = step_fn(step, state)\n",
        "    pb.set_postfix(loss=f\"{loss:.6f}\")"
      ]
    },
    {
      "cell_type": "code",
      "execution_count": null,
      "id": "f49a3fa7-1993-48d9-ada9-4caa9794fa42",
      "metadata": {
        "papermill": {
          "duration": null,
          "end_time": null,
          "exception": null,
          "start_time": null,
          "status": "pending"
        },
        "tags": []
      },
      "outputs": [],
      "source": [
        "delta_length = params_fn(state)\n",
        "delta_length"
      ]
    },
    {
      "cell_type": "markdown",
      "id": "23ac6709-d904-4bd0-b9a1-d34a4e7beae7",
      "metadata": {
        "papermill": {
          "duration": null,
          "end_time": null,
          "exception": null,
          "start_time": null,
          "status": "pending"
        },
        "tags": []
      },
      "source": [
        "Let's see what we've got over a range of wavelengths:"
      ]
    },
    {
      "cell_type": "code",
      "execution_count": null,
      "id": "87395c19-26fc-4fca-b9d5-5a1bf3a7cfb2",
      "metadata": {
        "papermill": {
          "duration": null,
          "end_time": null,
          "exception": null,
          "start_time": null,
          "status": "pending"
        },
        "tags": []
      },
      "outputs": [],
      "source": [
        "S = mzi2(\n",
        "    wl=wl,\n",
        "    straight_1={\"length\": delta_length / 2},\n",
        "    straight_2={\"length\": delta_length / 2},\n",
        ")\n",
        "plt.plot(wl * 1e3, abs(S[\"o1\", \"o2\"]) ** 2)\n",
        "plt.xlabel(\"\u03bb [nm]\")\n",
        "plt.ylabel(\"T\")\n",
        "plt.plot([1550, 1550], [-1, 2], ls=\":\", color=\"black\")\n",
        "plt.ylim(-0.05, 1.05)\n",
        "plt.grid(True)\n",
        "plt.show()"
      ]
    },
    {
      "cell_type": "markdown",
      "id": "cb6c0cb7-5d9b-4449-9102-4aced9882763",
      "metadata": {
        "papermill": {
          "duration": null,
          "end_time": null,
          "exception": null,
          "start_time": null,
          "status": "pending"
        },
        "tags": []
      },
      "source": [
        "Note that we could've just as well optimized the waveguide width:"
      ]
    },
    {
      "cell_type": "code",
      "execution_count": null,
      "id": "8e635add-d883-4f0b-b6c8-14c27df303af",
      "metadata": {
        "papermill": {
          "duration": null,
          "end_time": null,
          "exception": null,
          "start_time": null,
          "status": "pending"
        },
        "tags": []
      },
      "outputs": [],
      "source": [
        "@jax.jit\n",
        "def loss_fn(width):\n",
        "    S = mzi2(\n",
        "        wl=1.55,\n",
        "        straight_1={\"width\": width},\n",
        "        straight_2={\"width\": width},\n",
        "    )\n",
        "    return jnp.mean(jnp.abs(S[\"o1\", \"o2\"]) ** 2)\n",
        "\n",
        "\n",
        "grad_fn = jax.jit(\n",
        "    jax.grad(\n",
        "        loss_fn,\n",
        "        argnums=0,  # JAX gradient function for the first positional argument, jitted\n",
        "    )\n",
        ")\n",
        "initial_width = 0.5\n",
        "init_fn, update_fn, params_fn = opt.adam(step_size=0.01)\n",
        "state = init_fn(initial_width)\n",
        "for step in (\n",
        "    pb := trange(300)\n",
        "):  # the first two iterations take a while because the circuit is being jitted...\n",
        "    loss, state = step_fn(step, state)\n",
        "    pb.set_postfix(loss=f\"{loss:.6f}\")\n",
        "\n",
        "optim_width = params_fn(state)\n",
        "S = Sw = mzi2(\n",
        "    wl=wl,\n",
        "    straight_1={\"width\": optim_width},\n",
        "    straight_2={\"width\": optim_width},\n",
        ")\n",
        "plt.plot(wl * 1e3, abs(S[\"o1\", \"o2\"]) ** 2)\n",
        "plt.xlabel(\"\u03bb [nm]\")\n",
        "plt.ylabel(\"T\")\n",
        "plt.plot([1550, 1550], [-1, 2], color=\"black\", ls=\":\")\n",
        "plt.ylim(-0.05, 1.05)\n",
        "plt.grid(True)\n",
        "plt.show()"
      ]
    },
    {
      "cell_type": "markdown",
      "id": "783ccb78-83a4-4a8b-96e3-e74771fa6dda",
      "metadata": {
        "papermill": {
          "duration": null,
          "end_time": null,
          "exception": null,
          "start_time": null,
          "status": "pending"
        },
        "tags": []
      },
      "source": [
        "## Layout-aware Monte Carlo\n",
        "\n",
        "Let's assume the waveguide width changes with a certain correlation length. We can create a 'wafermap' of width variations by randomly varying the width and low pass filtering with a spatial frequency being the inverse of the correlation length (there are probably better ways to do this, but this works for this tutorial)."
      ]
    },
    {
      "cell_type": "code",
      "execution_count": null,
      "id": "bfc5a963-561f-459c-b0d5-c15bbaa6c05d",
      "metadata": {
        "papermill": {
          "duration": null,
          "end_time": null,
          "exception": null,
          "start_time": null,
          "status": "pending"
        },
        "tags": []
      },
      "outputs": [],
      "source": [
        "def create_wafermaps(placements, correlation_length=1.0, num_maps=1, mean=0.0, std=1.0, seed=None):\n",
        "    dx = dy = correlation_length / 200\n",
        "    xs = [p[\"x\"] for p in placements.values()]\n",
        "    ys = [p[\"y\"] for p in placements.values()]\n",
        "    xmin, xmax, ymin, ymax = min(xs), max(xs), min(ys), max(ys)\n",
        "    wx, wy = xmax - xmin, ymax - ymin\n",
        "    xmin, xmax, ymin, ymax = xmin - wx, xmax + wx, ymin - wy, ymax + wy\n",
        "    x, y = np.arange(xmin, xmax + dx, dx), np.arange(ymin, ymax + dy, dy)\n",
        "    if seed is None:\n",
        "        r = np.random\n",
        "    else:\n",
        "        r = np.random.RandomState(seed=seed)\n",
        "    W0 = r.randn(num_maps, x.shape[0], y.shape[0])\n",
        "\n",
        "    fx = fftshift(fftfreq(x.shape[0], d=x[1] - x[0]))\n",
        "    fy = fftshift(fftfreq(y.shape[0], d=y[1] - y[0]))\n",
        "    fY, fX = np.meshgrid(fy, fx)\n",
        "\n",
        "    fW = fftshift(fft2(W0))\n",
        "\n",
        "    if correlation_length >= min(x.shape[0], y.shape[0]):\n",
        "        fW = np.zeros_like(fW)\n",
        "    else:\n",
        "        fW = np.where(np.sqrt(fX**2 + fY**2)[None] > 1 / correlation_length, 0, fW)\n",
        "\n",
        "    W = np.abs(fftshift(ifft2(fW))) ** 2\n",
        "\n",
        "    mean_ = W.mean(1, keepdims=True).mean(2, keepdims=True)\n",
        "\n",
        "    std_ = W.std(1, keepdims=True).std(2, keepdims=True)\n",
        "    if (std_ == 0).all():\n",
        "        std_ = 1\n",
        "\n",
        "    W = (W - mean_) / std_\n",
        "\n",
        "    W = W * std + mean\n",
        "\n",
        "    return x, y, W"
      ]
    },
    {
      "cell_type": "code",
      "execution_count": null,
      "id": "758baf10-da05-47e4-90dc-dee665d9c58f",
      "metadata": {
        "papermill": {
          "duration": null,
          "end_time": null,
          "exception": null,
          "start_time": null,
          "status": "pending"
        },
        "tags": []
      },
      "outputs": [],
      "source": [
        "placements = mzi.get_netlist()[\"placements\"]\n",
        "xm, ym, wmaps = create_wafermaps(\n",
        "    placements,\n",
        "    correlation_length=100,\n",
        "    mean=0.5,\n",
        "    std=0.002,\n",
        "    num_maps=100,\n",
        "    seed=42,\n",
        ")\n",
        "\n",
        "for i, wmap in enumerate(wmaps):\n",
        "    plt.imshow(wmap, cmap=\"RdBu\")\n",
        "    plt.show()\n",
        "    if i == 2:\n",
        "        break"
      ]
    },
    {
      "cell_type": "code",
      "execution_count": null,
      "id": "cc19b264-89e5-4cff-9969-2f1d9af67157",
      "metadata": {
        "papermill": {
          "duration": null,
          "end_time": null,
          "exception": null,
          "start_time": null,
          "status": "pending"
        },
        "tags": []
      },
      "outputs": [],
      "source": [
        "def widths(xw, yw, wmaps, x, y):\n",
        "    _wmap_grid = [xw, yw]\n",
        "    params = jnp.stack(jnp.broadcast_arrays(jnp.asarray(x), jnp.asarray(y)), 0)\n",
        "    coords = _get_coordinates(_wmap_grid, params)\n",
        "\n",
        "    map_coordinates = partial(\n",
        "        jax.scipy.ndimage.map_coordinates, coordinates=coords, order=1, mode=\"nearest\"\n",
        "    )\n",
        "    w = jax.vmap(map_coordinates)(wmaps)\n",
        "    return w"
      ]
    },
    {
      "cell_type": "markdown",
      "id": "37deecff-9433-4b1b-8cb7-970a414abe13",
      "metadata": {
        "papermill": {
          "duration": null,
          "end_time": null,
          "exception": null,
          "start_time": null,
          "status": "pending"
        },
        "tags": []
      },
      "source": [
        "Let's now sample the MZI width variation on the wafer map (let's assume a single width variation per point):"
      ]
    },
    {
      "cell_type": "code",
      "execution_count": null,
      "id": "839c8849-5502-45ae-a7ad-e04ac2a5305b",
      "metadata": {
        "papermill": {
          "duration": null,
          "end_time": null,
          "exception": null,
          "start_time": null,
          "status": "pending"
        },
        "tags": []
      },
      "outputs": [],
      "source": [
        "quickplot(mzi);"
      ]
    },
    {
      "cell_type": "code",
      "execution_count": null,
      "id": "1a527bd7-17ed-4c57-90af-6816b452b190",
      "metadata": {
        "papermill": {
          "duration": null,
          "end_time": null,
          "exception": null,
          "start_time": null,
          "status": "pending"
        },
        "tags": []
      },
      "outputs": [],
      "source": [
        "mzi_params = sax.get_settings(mzi2)\n",
        "placements = mzi.get_netlist()[\"placements\"]\n",
        "width_params = {\n",
        "    k: {\"width\": widths(xm, ym, wmaps, v[\"x\"], v[\"y\"])}\n",
        "    for k, v in placements.items()\n",
        "    if \"width\" in mzi_params[k]\n",
        "}\n",
        "\n",
        "S0 = mzi2(wl=wl)\n",
        "S = mzi2(\n",
        "    wl=wl[:, None],\n",
        "    **width_params,\n",
        ")\n",
        "ps = plt.plot(wl * 1e3, abs(S[\"o1\", \"o2\"]) ** 2, color=\"C0\", lw=1, alpha=0.1)\n",
        "nps = plt.plot(wl * 1e3, abs(S0[\"o1\", \"o2\"]) ** 2, color=\"C1\", lw=2, alpha=1)\n",
        "plt.xlabel(\"\u03bb [nm]\")\n",
        "plt.ylabel(\"T\")\n",
        "plt.plot([1550, 1550], [-1, 2], color=\"black\", ls=\":\")\n",
        "plt.ylim(-0.05, 1.05)\n",
        "plt.grid(True)\n",
        "plt.figlegend([*ps[-1:], *nps], [\"MC\", \"nominal\"], bbox_to_anchor=(1.1, 0.9))\n",
        "rmse = jnp.mean(\n",
        "    jnp.abs(jnp.abs(S[\"o1\", \"o2\"]) ** 2 - jnp.abs(S0[\"o1\", \"o2\"][:, None]) ** 2) ** 2\n",
        ")\n",
        "plt.title(f\"{rmse=}\")\n",
        "plt.show()"
      ]
    },
    {
      "cell_type": "markdown",
      "id": "4bf4d81f-9889-40ed-8ab3-0a9ec5a0c8d0",
      "metadata": {
        "papermill": {
          "duration": null,
          "end_time": null,
          "exception": null,
          "start_time": null,
          "status": "pending"
        },
        "tags": []
      },
      "source": [
        "## Compact MZI\n",
        "\n",
        "Let's see if we can improve variability (i.e. the RMSE w.r.t. nominal) by making the MZI more compact:"
      ]
    },
    {
      "cell_type": "code",
      "execution_count": null,
      "id": "1d31f0d4-2e6a-4c5e-945d-79f313456373",
      "metadata": {
        "papermill": {
          "duration": null,
          "end_time": null,
          "exception": null,
          "start_time": null,
          "status": "pending"
        },
        "tags": []
      },
      "outputs": [],
      "source": [
        "@gf.cell\n",
        "def compact_mzi():\n",
        "    c = gf.Component()\n",
        "\n",
        "    # instances\n",
        "    mmi_in = gf.components.mmi1x2()\n",
        "    mmi_out = gf.components.mmi2x2()\n",
        "    bend = gf.components.bend_euler()\n",
        "    half_delay_straight = gf.components.straight()\n",
        "    middle_straight = gf.components.straight(length=6.0)\n",
        "    half_middle_straight = gf.components.straight(3.0)\n",
        "\n",
        "    # references (sax convention: vars ending in underscore are references)\n",
        "    mmi_in_ = c << mmi_in\n",
        "\n",
        "    bend_top1_ = c << bend\n",
        "    straight_top1_ = c << half_delay_straight\n",
        "    bend_top2_ = (c << bend).mirror()\n",
        "    straight_top2_ = c << middle_straight\n",
        "    bend_top3_ = (c << bend).mirror()\n",
        "    straight_top3_ = c << half_delay_straight\n",
        "    bend_top4_ = c << bend\n",
        "\n",
        "    straight_btm1_ = c << half_middle_straight\n",
        "    bend_btm1_ = c << bend\n",
        "    bend_btm2_ = (c << bend).mirror()\n",
        "    bend_btm3_ = (c << bend).mirror()\n",
        "    bend_btm4_ = c << bend\n",
        "    straight_btm2_ = c << half_middle_straight\n",
        "\n",
        "    mmi_out_ = c << mmi_out\n",
        "\n",
        "    # connections\n",
        "    bend_top1_.connect(\"o1\", mmi_in_.ports[\"o2\"])\n",
        "    straight_top1_.connect(\"o1\", bend_top1_.ports[\"o2\"])\n",
        "    bend_top2_.connect(\"o1\", straight_top1_.ports[\"o2\"])\n",
        "    straight_top2_.connect(\"o1\", bend_top2_.ports[\"o2\"])\n",
        "    bend_top3_.connect(\"o1\", straight_top2_.ports[\"o2\"])\n",
        "    straight_top3_.connect(\"o1\", bend_top3_.ports[\"o2\"])\n",
        "    bend_top4_.connect(\"o1\", straight_top3_.ports[\"o2\"])\n",
        "\n",
        "    straight_btm1_.connect(\"o1\", mmi_in_.ports[\"o3\"])\n",
        "    bend_btm1_.connect(\"o1\", straight_btm1_.ports[\"o2\"])\n",
        "    bend_btm2_.connect(\"o1\", bend_btm1_.ports[\"o2\"])\n",
        "    bend_btm3_.connect(\"o1\", bend_btm2_.ports[\"o2\"])\n",
        "    bend_btm4_.connect(\"o1\", bend_btm3_.ports[\"o2\"])\n",
        "    straight_btm2_.connect(\"o1\", bend_btm4_.ports[\"o2\"])\n",
        "\n",
        "    mmi_out_.connect(\"o1\", straight_btm2_.ports[\"o2\"])\n",
        "\n",
        "    # ports\n",
        "    c.add_port(\n",
        "        \"o1\",\n",
        "        port=mmi_in_.ports[\"o1\"],\n",
        "    )\n",
        "    c.add_port(\"o2\", port=mmi_out_.ports[\"o3\"])\n",
        "    c.add_port(\"o3\", port=mmi_out_.ports[\"o4\"])\n",
        "    return c"
      ]
    },
    {
      "cell_type": "code",
      "execution_count": null,
      "id": "65894956-fa15-40ba-9567-515f097fa01a",
      "metadata": {
        "papermill": {
          "duration": null,
          "end_time": null,
          "exception": null,
          "start_time": null,
          "status": "pending"
        },
        "tags": []
      },
      "outputs": [],
      "source": [
        "compact_mzi1 = compact_mzi()\n",
        "quickplot(compact_mzi1);\n",
        "placements = compact_mzi1.get_netlist()[\"placements\"]\n",
        "mzi3, _ = sax.circuit(compact_mzi1.get_netlist_recursive(), models=models)\n",
        "mzi3()"
      ]
    },
    {
      "cell_type": "code",
      "execution_count": null,
      "id": "1a06ec7a-9052-450e-b199-52209f08c708",
      "metadata": {
        "papermill": {
          "duration": null,
          "end_time": null,
          "exception": null,
          "start_time": null,
          "status": "pending"
        },
        "tags": []
      },
      "outputs": [],
      "source": [
        "mzi_params = sax.get_settings(mzi3)\n",
        "placements = compact_mzi1.get_netlist()[\"placements\"]\n",
        "width_params = {\n",
        "    k: {\"width\": widths(xm, ym, wmaps, v[\"x\"], v[\"y\"])}\n",
        "    for k, v in placements.items()\n",
        "    if \"width\" in mzi_params[k]\n",
        "}\n",
        "\n",
        "S0 = mzi3(wl=wl)\n",
        "S = mzi3(\n",
        "    wl=wl[:, None],\n",
        "    **width_params,\n",
        ")\n",
        "ps = plt.plot(wl * 1e3, abs(S[\"o1\", \"o2\"]) ** 2, color=\"C0\", lw=1, alpha=0.1)\n",
        "nps = plt.plot(wl * 1e3, abs(S0[\"o1\", \"o2\"]) ** 2, color=\"C1\", lw=2, alpha=1)\n",
        "plt.xlabel(\"\u03bb [nm]\")\n",
        "plt.ylabel(\"T\")\n",
        "plt.plot([1550, 1550], [-1, 2], color=\"black\", ls=\":\")\n",
        "plt.ylim(-0.05, 1.05)\n",
        "plt.grid(True)\n",
        "plt.figlegend([*ps[-1:], *nps], [\"MC\", \"nominal\"], bbox_to_anchor=(1.1, 0.9))\n",
        "rmse = jnp.mean(\n",
        "    jnp.abs(jnp.abs(S[\"o1\", \"o2\"]) ** 2 - jnp.abs(S0[\"o1\", \"o2\"][:, None]) ** 2) ** 2\n",
        ")\n",
        "plt.title(f\"{rmse=}\")\n",
        "plt.show()"
      ]
    }
  ],
  "metadata": {
    "kernelspec": {
      "display_name": "sax",
      "language": "python",
      "name": "sax"
    },
    "language_info": {
      "codemirror_mode": {
        "name": "ipython",
        "version": 3
      },
      "file_extension": ".py",
      "mimetype": "text/x-python",
      "name": "python",
      "nbconvert_exporter": "python",
      "pygments_lexer": "ipython3",
      "version": "3.11.5"
    },
    "papermill": {
      "default_parameters": {},
      "duration": 88.715872,
      "end_time": "2023-09-02T18:50:59.890963",
      "environment_variables": {},
      "exception": true,
      "input_path": "./examples/07_layout_aware.ipynb",
      "output_path": "./examples/07_layout_aware.ipynb",
      "parameters": {},
      "start_time": "2023-09-02T18:49:31.175091",
      "version": "2.4.0"
    },
    "widgets": {
      "application/vnd.jupyter.widget-state+json": {
        "state": {
          "0e08df23ba9646b485528542575a36ec": {
            "model_module": "@jupyter-widgets/controls",
            "model_module_version": "2.0.0",
            "model_name": "FloatProgressModel",
            "state": {
              "_dom_classes": [],
              "_model_module": "@jupyter-widgets/controls",
              "_model_module_version": "2.0.0",
              "_model_name": "FloatProgressModel",
              "_view_count": null,
              "_view_module": "@jupyter-widgets/controls",
              "_view_module_version": "2.0.0",
              "_view_name": "ProgressView",
              "bar_style": "success",
              "description": "",
              "description_allow_html": false,
              "layout": "IPY_MODEL_38880d7ec60a4a868ac34246f3484cb7",
              "max": 50.0,
              "min": 0.0,
              "orientation": "horizontal",
              "style": "IPY_MODEL_f2de61b695904f358e7390fe07c02950",
              "tabbable": null,
              "tooltip": null,
              "value": 50.0
            }
          },
          "239d39687a3f40ab8bb7d168a28d7632": {
            "model_module": "@jupyter-widgets/controls",
            "model_module_version": "2.0.0",
            "model_name": "HTMLStyleModel",
            "state": {
              "_model_module": "@jupyter-widgets/controls",
              "_model_module_version": "2.0.0",
              "_model_name": "HTMLStyleModel",
              "_view_count": null,
              "_view_module": "@jupyter-widgets/base",
              "_view_module_version": "2.0.0",
              "_view_name": "StyleView",
              "background": null,
              "description_width": "",
              "font_size": null,
              "text_color": null
            }
          },
          "331a9a09197d410298e797748cd4dbd6": {
            "model_module": "@jupyter-widgets/controls",
            "model_module_version": "2.0.0",
            "model_name": "HBoxModel",
            "state": {
              "_dom_classes": [],
              "_model_module": "@jupyter-widgets/controls",
              "_model_module_version": "2.0.0",
              "_model_name": "HBoxModel",
              "_view_count": null,
              "_view_module": "@jupyter-widgets/controls",
              "_view_module_version": "2.0.0",
              "_view_name": "HBoxView",
              "box_style": "",
              "children": [
                "IPY_MODEL_e79437706267428b85193d7c69e5fe2b",
                "IPY_MODEL_0e08df23ba9646b485528542575a36ec",
                "IPY_MODEL_39562b16d0604ba099348843b8315e50"
              ],
              "layout": "IPY_MODEL_6f90a20af1db41dabdb24ad37015a393",
              "tabbable": null,
              "tooltip": null
            }
          },
          "38880d7ec60a4a868ac34246f3484cb7": {
            "model_module": "@jupyter-widgets/base",
            "model_module_version": "2.0.0",
            "model_name": "LayoutModel",
            "state": {
              "_model_module": "@jupyter-widgets/base",
              "_model_module_version": "2.0.0",
              "_model_name": "LayoutModel",
              "_view_count": null,
              "_view_module": "@jupyter-widgets/base",
              "_view_module_version": "2.0.0",
              "_view_name": "LayoutView",
              "align_content": null,
              "align_items": null,
              "align_self": null,
              "border_bottom": null,
              "border_left": null,
              "border_right": null,
              "border_top": null,
              "bottom": null,
              "display": null,
              "flex": null,
              "flex_flow": null,
              "grid_area": null,
              "grid_auto_columns": null,
              "grid_auto_flow": null,
              "grid_auto_rows": null,
              "grid_column": null,
              "grid_gap": null,
              "grid_row": null,
              "grid_template_areas": null,
              "grid_template_columns": null,
              "grid_template_rows": null,
              "height": null,
              "justify_content": null,
              "justify_items": null,
              "left": null,
              "margin": null,
              "max_height": null,
              "max_width": null,
              "min_height": null,
              "min_width": null,
              "object_fit": null,
              "object_position": null,
              "order": null,
              "overflow": null,
              "padding": null,
              "right": null,
              "top": null,
              "visibility": null,
              "width": null
            }
          },
          "388f64e097ec406692ee6a7a8a4b2ac1": {
            "model_module": "@jupyter-widgets/base",
            "model_module_version": "2.0.0",
            "model_name": "LayoutModel",
            "state": {
              "_model_module": "@jupyter-widgets/base",
              "_model_module_version": "2.0.0",
              "_model_name": "LayoutModel",
              "_view_count": null,
              "_view_module": "@jupyter-widgets/base",
              "_view_module_version": "2.0.0",
              "_view_name": "LayoutView",
              "align_content": null,
              "align_items": null,
              "align_self": null,
              "border_bottom": null,
              "border_left": null,
              "border_right": null,
              "border_top": null,
              "bottom": null,
              "display": null,
              "flex": null,
              "flex_flow": null,
              "grid_area": null,
              "grid_auto_columns": null,
              "grid_auto_flow": null,
              "grid_auto_rows": null,
              "grid_column": null,
              "grid_gap": null,
              "grid_row": null,
              "grid_template_areas": null,
              "grid_template_columns": null,
              "grid_template_rows": null,
              "height": null,
              "justify_content": null,
              "justify_items": null,
              "left": null,
              "margin": null,
              "max_height": null,
              "max_width": null,
              "min_height": null,
              "min_width": null,
              "object_fit": null,
              "object_position": null,
              "order": null,
              "overflow": null,
              "padding": null,
              "right": null,
              "top": null,
              "visibility": null,
              "width": null
            }
          },
          "39562b16d0604ba099348843b8315e50": {
            "model_module": "@jupyter-widgets/controls",
            "model_module_version": "2.0.0",
            "model_name": "HTMLModel",
            "state": {
              "_dom_classes": [],
              "_model_module": "@jupyter-widgets/controls",
              "_model_module_version": "2.0.0",
              "_model_name": "HTMLModel",
              "_view_count": null,
              "_view_module": "@jupyter-widgets/controls",
              "_view_module_version": "2.0.0",
              "_view_name": "HTMLView",
              "description": "",
              "description_allow_html": false,
              "layout": "IPY_MODEL_4496860f0f7d42ce9d34d01b07d3c2ed",
              "placeholder": "\u200b",
              "style": "IPY_MODEL_db1e59c9a0eb446492de7c787af3a79f",
              "tabbable": null,
              "tooltip": null,
              "value": " 50/50 [01:11&lt;00:00,  1.32s/it]"
            }
          },
          "4496860f0f7d42ce9d34d01b07d3c2ed": {
            "model_module": "@jupyter-widgets/base",
            "model_module_version": "2.0.0",
            "model_name": "LayoutModel",
            "state": {
              "_model_module": "@jupyter-widgets/base",
              "_model_module_version": "2.0.0",
              "_model_name": "LayoutModel",
              "_view_count": null,
              "_view_module": "@jupyter-widgets/base",
              "_view_module_version": "2.0.0",
              "_view_name": "LayoutView",
              "align_content": null,
              "align_items": null,
              "align_self": null,
              "border_bottom": null,
              "border_left": null,
              "border_right": null,
              "border_top": null,
              "bottom": null,
              "display": null,
              "flex": null,
              "flex_flow": null,
              "grid_area": null,
              "grid_auto_columns": null,
              "grid_auto_flow": null,
              "grid_auto_rows": null,
              "grid_column": null,
              "grid_gap": null,
              "grid_row": null,
              "grid_template_areas": null,
              "grid_template_columns": null,
              "grid_template_rows": null,
              "height": null,
              "justify_content": null,
              "justify_items": null,
              "left": null,
              "margin": null,
              "max_height": null,
              "max_width": null,
              "min_height": null,
              "min_width": null,
              "object_fit": null,
              "object_position": null,
              "order": null,
              "overflow": null,
              "padding": null,
              "right": null,
              "top": null,
              "visibility": null,
              "width": null
            }
          },
          "6f90a20af1db41dabdb24ad37015a393": {
            "model_module": "@jupyter-widgets/base",
            "model_module_version": "2.0.0",
            "model_name": "LayoutModel",
            "state": {
              "_model_module": "@jupyter-widgets/base",
              "_model_module_version": "2.0.0",
              "_model_name": "LayoutModel",
              "_view_count": null,
              "_view_module": "@jupyter-widgets/base",
              "_view_module_version": "2.0.0",
              "_view_name": "LayoutView",
              "align_content": null,
              "align_items": null,
              "align_self": null,
              "border_bottom": null,
              "border_left": null,
              "border_right": null,
              "border_top": null,
              "bottom": null,
              "display": null,
              "flex": null,
              "flex_flow": null,
              "grid_area": null,
              "grid_auto_columns": null,
              "grid_auto_flow": null,
              "grid_auto_rows": null,
              "grid_column": null,
              "grid_gap": null,
              "grid_row": null,
              "grid_template_areas": null,
              "grid_template_columns": null,
              "grid_template_rows": null,
              "height": null,
              "justify_content": null,
              "justify_items": null,
              "left": null,
              "margin": null,
              "max_height": null,
              "max_width": null,
              "min_height": null,
              "min_width": null,
              "object_fit": null,
              "object_position": null,
              "order": null,
              "overflow": null,
              "padding": null,
              "right": null,
              "top": null,
              "visibility": null,
              "width": null
            }
          },
          "db1e59c9a0eb446492de7c787af3a79f": {
            "model_module": "@jupyter-widgets/controls",
            "model_module_version": "2.0.0",
            "model_name": "HTMLStyleModel",
            "state": {
              "_model_module": "@jupyter-widgets/controls",
              "_model_module_version": "2.0.0",
              "_model_name": "HTMLStyleModel",
              "_view_count": null,
              "_view_module": "@jupyter-widgets/base",
              "_view_module_version": "2.0.0",
              "_view_name": "StyleView",
              "background": null,
              "description_width": "",
              "font_size": null,
              "text_color": null
            }
          },
          "e79437706267428b85193d7c69e5fe2b": {
            "model_module": "@jupyter-widgets/controls",
            "model_module_version": "2.0.0",
            "model_name": "HTMLModel",
            "state": {
              "_dom_classes": [],
              "_model_module": "@jupyter-widgets/controls",
              "_model_module_version": "2.0.0",
              "_model_name": "HTMLModel",
              "_view_count": null,
              "_view_module": "@jupyter-widgets/controls",
              "_view_module_version": "2.0.0",
              "_view_name": "HTMLView",
              "description": "",
              "description_allow_html": false,
              "layout": "IPY_MODEL_388f64e097ec406692ee6a7a8a4b2ac1",
              "placeholder": "\u200b",
              "style": "IPY_MODEL_239d39687a3f40ab8bb7d168a28d7632",
              "tabbable": null,
              "tooltip": null,
              "value": "100%"
            }
          },
          "f2de61b695904f358e7390fe07c02950": {
            "model_module": "@jupyter-widgets/controls",
            "model_module_version": "2.0.0",
            "model_name": "ProgressStyleModel",
            "state": {
              "_model_module": "@jupyter-widgets/controls",
              "_model_module_version": "2.0.0",
              "_model_name": "ProgressStyleModel",
              "_view_count": null,
              "_view_module": "@jupyter-widgets/base",
              "_view_module_version": "2.0.0",
              "_view_name": "StyleView",
              "bar_color": null,
              "description_width": ""
            }
          }
        },
        "version_major": 2,
        "version_minor": 0
      }
    }
  },
  "nbformat": 4,
  "nbformat_minor": 5
}