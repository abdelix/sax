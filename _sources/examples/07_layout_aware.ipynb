{
  "cells": [
    {
      "cell_type": "markdown",
      "id": "18bbf5e0-148e-4f1a-aa90-f11eaafcb90a",
      "metadata": {
        "papermill": {
          "duration": 0.009248,
          "end_time": "2023-09-03T04:40:07.831457",
          "exception": false,
          "start_time": "2023-09-03T04:40:07.822209",
          "status": "completed"
        },
        "tags": []
      },
      "source": [
        "# Layout Aware Monte Carlo with GDSFactory\n",
        "> Towards layout-aware optimization and monte-carlo simulations"
      ]
    },
    {
      "cell_type": "code",
      "execution_count": null,
      "id": "76d52a6f101b11ca",
      "metadata": {
        "papermill": {
          "duration": 0.019329,
          "end_time": "2023-09-03T04:40:07.913773",
          "exception": false,
          "start_time": "2023-09-03T04:40:07.894444",
          "status": "completed"
        },
        "tags": [
          "remove-cell"
        ]
      },
      "outputs": [],
      "source": [
        "import os\n",
        "os.environ[\"LOGURU_LEVEL\"] = \"CRITICAL\"\n",
        "#import warnings\n",
        "#warnings.filterwarnings(\"ignore\")"
      ]
    },
    {
      "cell_type": "code",
      "execution_count": null,
      "id": "db18bcef-a20a-43aa-99af-1a77a7b8c3cd",
      "metadata": {
        "papermill": {
          "duration": 5.299319,
          "end_time": "2023-09-03T04:40:13.222293",
          "exception": false,
          "start_time": "2023-09-03T04:40:07.922974",
          "status": "completed"
        },
        "tags": []
      },
      "outputs": [],
      "source": [
        "import itertools\n",
        "import sys\n",
        "from functools import partial\n",
        "from typing import List\n",
        "\n",
        "import gdsfactory as gf  # conda install gdsfactory\n",
        "import jax\n",
        "import jax.example_libraries.optimizers as opt\n",
        "import jax.numpy as jnp\n",
        "import matplotlib.pyplot as plt\n",
        "import meep  # conda install pymeep=\\*=mpi_mpich_\\*\n",
        "import numpy as np\n",
        "import sax\n",
        "from gdsfactory.quickplotter import quickplot\n",
        "from gplugins.modes import find_modes_waveguide\n",
        "from numpy.fft import fft2, fftfreq, fftshift, ifft2\n",
        "from tqdm.notebook import tqdm, trange"
      ]
    },
    {
      "cell_type": "code",
      "execution_count": null,
      "id": "6a74c0422213801f",
      "metadata": {
        "papermill": {
          "duration": 0.010772,
          "end_time": "2023-09-03T04:40:13.238594",
          "exception": false,
          "start_time": "2023-09-03T04:40:13.227822",
          "status": "completed"
        },
        "tags": [
          "remove-cell"
        ]
      },
      "outputs": [],
      "source": [
        "\n",
        "# In interactive notebooks it's often pretty annoying to have a cache...\n",
        "# let's disable gdsfactory cache with this horrible one-liner \ud83d\ude42\n",
        "sys.modules['gdsfactory.cell'].CACHE = type('FakeCache', (dict,), {'__setitem__': (lambda *args: None)})()"
      ]
    },
    {
      "cell_type": "markdown",
      "id": "55f847fe-9523-4b8e-9dc5-c30333ec2775",
      "metadata": {
        "papermill": {
          "duration": 0.005303,
          "end_time": "2023-09-03T04:40:13.249285",
          "exception": false,
          "start_time": "2023-09-03T04:40:13.243982",
          "status": "completed"
        },
        "tags": []
      },
      "source": [
        "## Simple MZI Layout"
      ]
    },
    {
      "cell_type": "code",
      "execution_count": null,
      "id": "b68ac873-a02e-4d43-aebb-3523367e2b51",
      "metadata": {
        "papermill": {
          "duration": 0.015854,
          "end_time": "2023-09-03T04:40:13.270364",
          "exception": false,
          "start_time": "2023-09-03T04:40:13.254510",
          "status": "completed"
        },
        "tags": []
      },
      "outputs": [],
      "source": [
        "@gf.cell\n",
        "def simple_mzi():\n",
        "    c = gf.Component()\n",
        "\n",
        "    # instances\n",
        "    mmi_in = gf.components.mmi1x2()\n",
        "    mmi_out = gf.components.mmi2x2()\n",
        "    bend = gf.components.bend_euler()\n",
        "    half_delay_straight = gf.components.straight(length=10.0)\n",
        "\n",
        "    # references (sax convention: vars ending in underscore are references)\n",
        "    mmi_in_ = c << mmi_in\n",
        "    mmi_out_ = c << mmi_out\n",
        "    straight_top1_ = c << half_delay_straight\n",
        "    straight_top2_ = c << half_delay_straight\n",
        "    bend_top1_ = c << bend\n",
        "    bend_top2_ = (c << bend).mirror()\n",
        "    bend_top3_ = (c << bend).mirror()\n",
        "    bend_top4_ = c << bend\n",
        "    bend_btm1_ = (c << bend).mirror()\n",
        "    bend_btm2_ = c << bend\n",
        "    bend_btm3_ = c << bend\n",
        "    bend_btm4_ = (c << bend).mirror()\n",
        "\n",
        "    # connections\n",
        "    bend_top1_.connect(\"o1\", mmi_in_.ports[\"o2\"])\n",
        "    straight_top1_.connect(\"o1\", bend_top1_.ports[\"o2\"])\n",
        "    bend_top2_.connect(\"o1\", straight_top1_.ports[\"o2\"])\n",
        "    bend_top3_.connect(\"o1\", bend_top2_.ports[\"o2\"])\n",
        "    straight_top2_.connect(\"o1\", bend_top3_.ports[\"o2\"])\n",
        "    bend_top4_.connect(\"o1\", straight_top2_.ports[\"o2\"])\n",
        "\n",
        "    bend_btm1_.connect(\"o1\", mmi_in_.ports[\"o3\"])\n",
        "    bend_btm2_.connect(\"o1\", bend_btm1_.ports[\"o2\"])\n",
        "    bend_btm3_.connect(\"o1\", bend_btm2_.ports[\"o2\"])\n",
        "    bend_btm4_.connect(\"o1\", bend_btm3_.ports[\"o2\"])\n",
        "\n",
        "    mmi_out_.connect(\"o1\", bend_btm4_.ports[\"o2\"])\n",
        "\n",
        "    # ports\n",
        "    c.add_port(\n",
        "        \"o1\",\n",
        "        port=mmi_in_.ports[\"o1\"],\n",
        "    )\n",
        "    c.add_port(\"o2\", port=mmi_out_.ports[\"o3\"])\n",
        "    c.add_port(\"o3\", port=mmi_out_.ports[\"o4\"])\n",
        "    return c"
      ]
    },
    {
      "cell_type": "code",
      "execution_count": null,
      "id": "3b12f9d2-7bbd-4a49-9744-fd1bfb6d5cf0",
      "metadata": {
        "papermill": {
          "duration": 0.353285,
          "end_time": "2023-09-03T04:40:13.628795",
          "exception": false,
          "start_time": "2023-09-03T04:40:13.275510",
          "status": "completed"
        },
        "tags": []
      },
      "outputs": [],
      "source": [
        "mzi = simple_mzi()\n",
        "quickplot(mzi);"
      ]
    },
    {
      "cell_type": "markdown",
      "id": "49a81eb1-8dcb-4f46-a879-393c258c9ce5",
      "metadata": {
        "papermill": {
          "duration": 0.005659,
          "end_time": "2023-09-03T04:40:13.640375",
          "exception": false,
          "start_time": "2023-09-03T04:40:13.634716",
          "status": "completed"
        },
        "tags": []
      },
      "source": [
        "## Simulate MZI\n",
        "\n",
        "We used the following components to construct the MZI circuit:\n",
        "\n",
        "- mmi1x2\n",
        "- mmi2x2\n",
        "- straight\n",
        "- bend_euler"
      ]
    },
    {
      "cell_type": "markdown",
      "id": "6ad7a01b-4df3-4036-a168-7b417783f654",
      "metadata": {
        "papermill": {
          "duration": 0.005645,
          "end_time": "2023-09-03T04:40:13.651655",
          "exception": false,
          "start_time": "2023-09-03T04:40:13.646010",
          "status": "completed"
        },
        "tags": []
      },
      "source": [
        "We need a model for each of those components to be able to simulate the circuit with SAX. Let's create some dummy models for now."
      ]
    },
    {
      "cell_type": "code",
      "execution_count": null,
      "id": "4f03671b-3778-4600-b982-8f384bc67e1b",
      "metadata": {
        "papermill": {
          "duration": 0.010719,
          "end_time": "2023-09-03T04:40:13.668086",
          "exception": false,
          "start_time": "2023-09-03T04:40:13.657367",
          "status": "completed"
        },
        "tags": []
      },
      "outputs": [],
      "source": [
        "def mmi1x2():\n",
        "    S = {\n",
        "        (\"o1\", \"o2\"): 0.5**0.5,\n",
        "        (\"o1\", \"o3\"): 0.5**0.5,\n",
        "    }\n",
        "    return sax.reciprocal(S)"
      ]
    },
    {
      "cell_type": "code",
      "execution_count": null,
      "id": "913b0d59-4e77-413f-9bd3-562ba6f1166b",
      "metadata": {
        "papermill": {
          "duration": 0.011025,
          "end_time": "2023-09-03T04:40:13.684847",
          "exception": false,
          "start_time": "2023-09-03T04:40:13.673822",
          "status": "completed"
        },
        "tags": []
      },
      "outputs": [],
      "source": [
        "def mmi2x2():\n",
        "    S = {\n",
        "        (\"o1\", \"o3\"): 0.5**0.5,\n",
        "        (\"o1\", \"o4\"): 1j * 0.5**0.5,\n",
        "        (\"o2\", \"o3\"): 1j * 0.5**0.5,\n",
        "        (\"o2\", \"o4\"): 0.5**0.5,\n",
        "    }\n",
        "    return sax.reciprocal(S)"
      ]
    },
    {
      "cell_type": "code",
      "execution_count": null,
      "id": "d2df6d32-8d3a-46ee-8e57-f99bd7c0fc13",
      "metadata": {
        "papermill": {
          "duration": 0.010865,
          "end_time": "2023-09-03T04:40:13.701348",
          "exception": false,
          "start_time": "2023-09-03T04:40:13.690483",
          "status": "completed"
        },
        "tags": []
      },
      "outputs": [],
      "source": [
        "def straight(length=10.0, width=0.5):\n",
        "    S = {(\"o1\", \"o2\"): 1.0}  # we'll improve this model later!\n",
        "    return sax.reciprocal(S)"
      ]
    },
    {
      "cell_type": "code",
      "execution_count": null,
      "id": "c52dcfa2-a05d-40db-b9b1-5c1bc90b0743",
      "metadata": {
        "papermill": {
          "duration": 0.011983,
          "end_time": "2023-09-03T04:40:13.719172",
          "exception": false,
          "start_time": "2023-09-03T04:40:13.707189",
          "status": "completed"
        },
        "tags": []
      },
      "outputs": [],
      "source": [
        "def bend_euler(length=10.0, width=0.5, dy=10.0, radius_min=7, radius=10):\n",
        "    return straight(length=length, width=width)  # stub with straight for now"
      ]
    },
    {
      "cell_type": "markdown",
      "id": "3cad045c-1b77-4f04-b989-90f7fe996988",
      "metadata": {
        "papermill": {
          "duration": 0.010496,
          "end_time": "2023-09-03T04:40:13.739634",
          "exception": false,
          "start_time": "2023-09-03T04:40:13.729138",
          "status": "completed"
        },
        "tags": []
      },
      "source": [
        "Let's create a SAX circuit with our very simple placeholder models:"
      ]
    },
    {
      "cell_type": "code",
      "execution_count": null,
      "id": "46978016-4573-4315-b038-1d1af3af1756",
      "metadata": {
        "papermill": {
          "duration": 0.950146,
          "end_time": "2023-09-03T04:40:14.700000",
          "exception": false,
          "start_time": "2023-09-03T04:40:13.749854",
          "status": "completed"
        },
        "tags": []
      },
      "outputs": [],
      "source": [
        "models = {\n",
        "    \"mmi1x2\": mmi1x2,\n",
        "    \"mmi2x2\": mmi2x2,\n",
        "    \"straight\": straight,\n",
        "    \"bend_euler\": bend_euler,\n",
        "}\n",
        "mzi1, _ = sax.circuit(mzi.get_netlist_recursive(), models=models)\n",
        "mzi1?"
      ]
    },
    {
      "cell_type": "markdown",
      "id": "909f66df-2ea7-4d21-ac84-8d50282b3310",
      "metadata": {
        "papermill": {
          "duration": 0.009574,
          "end_time": "2023-09-03T04:40:14.719545",
          "exception": false,
          "start_time": "2023-09-03T04:40:14.709971",
          "status": "completed"
        },
        "tags": []
      },
      "source": [
        "the resulting circuit is just a model function on its own! Hence, calling it will give the result:"
      ]
    },
    {
      "cell_type": "code",
      "execution_count": null,
      "id": "10579bda-3bf8-4e7f-8ccf-8f80355b97e1",
      "metadata": {
        "papermill": {
          "duration": 0.586285,
          "end_time": "2023-09-03T04:40:15.315305",
          "exception": false,
          "start_time": "2023-09-03T04:40:14.729020",
          "status": "completed"
        },
        "tags": []
      },
      "outputs": [],
      "source": [
        "mzi1()"
      ]
    },
    {
      "cell_type": "markdown",
      "id": "cd1c11d4-36fb-4973-82f9-97d6bbd1fe9f",
      "metadata": {
        "papermill": {
          "duration": 0.009771,
          "end_time": "2023-09-03T04:40:15.335210",
          "exception": false,
          "start_time": "2023-09-03T04:40:15.325439",
          "status": "completed"
        },
        "tags": []
      },
      "source": [
        "## Waveguide Model\n",
        "\n",
        "Our waveguide model is not very good (it just has 100% transmission and no phase). Let's do something about the phase calculation. To do this, we need to find the effective index of the waveguide in relation to its parameters. We can use meep to obtain the waveguide parameters. Let's use gdsfactory's convenient `find_modes_waveguide` function to find the waveguide modes. This function uses `mpb` under the hood."
      ]
    },
    {
      "cell_type": "code",
      "execution_count": null,
      "id": "84882c43-2941-4ca6-980a-5d93a34f5bf4",
      "metadata": {
        "papermill": {
          "duration": 0.011821,
          "end_time": "2023-09-03T04:40:15.356830",
          "exception": false,
          "start_time": "2023-09-03T04:40:15.345009",
          "status": "completed"
        },
        "tags": []
      },
      "outputs": [],
      "source": [
        "def silicon_index(wl):\n",
        "    \"\"\"a rudimentary silicon refractive index model\"\"\"\n",
        "    a, b = 0.2411478522088102, 3.3229394315868976\n",
        "    return a / wl + b"
      ]
    },
    {
      "cell_type": "code",
      "execution_count": null,
      "id": "f5ff734a-f493-41a0-a000-ed7d8fc5abf6",
      "metadata": {
        "papermill": {
          "duration": 0.157729,
          "end_time": "2023-09-03T04:40:15.520408",
          "exception": false,
          "start_time": "2023-09-03T04:40:15.362679",
          "status": "completed"
        },
        "tags": []
      },
      "outputs": [],
      "source": [
        "wavelengths = np.linspace(1.5, 1.6, 10)\n",
        "widths = np.linspace(0.4, 0.6, 5)\n",
        "\n",
        "wavelengths, widths = np.mgrid[1.5:1.6:10j, 0.4:0.6:5j]\n",
        "neffs = np.zeros_like(wavelengths)\n",
        "neffs_ = neffs.ravel()\n",
        "\n",
        "for i, (wl, w) in enumerate(zip(tqdm(wavelengths.ravel()), widths.ravel())):\n",
        "    modes = find_modes_waveguide(\n",
        "        wavelength=wl,\n",
        "        core_width=w,\n",
        "        mode_number=1,\n",
        "        core_thickness=0.22,\n",
        "        slab_thickness=0.0,\n",
        "        core_material=silicon_index(wl),\n",
        "        clad_material=1.4,\n",
        "    )\n",
        "    neffs_[i] = np.real(modes[1].neff)"
      ]
    },
    {
      "cell_type": "code",
      "execution_count": null,
      "id": "3fa32b4e-fc43-46ea-8440-7b2449a52272",
      "metadata": {
        "papermill": {
          "duration": 0.016769,
          "end_time": "2023-09-03T04:40:15.547086",
          "exception": false,
          "start_time": "2023-09-03T04:40:15.530317",
          "status": "completed"
        },
        "tags": []
      },
      "outputs": [],
      "source": [
        "def visualize_mode(mode, field):\n",
        "    field, comp = list(field)\n",
        "    idx = [\"x\", \"y\", \"z\"].index(comp)\n",
        "    x, y = getattr(mode, \"y\"), getattr(mode, \"z\")\n",
        "    Y, X = np.meshgrid(y, x)\n",
        "    mode = np.abs(getattr(mode, field)[..., 0, idx]) ** 2\n",
        "    plt.contour(\n",
        "        X, Y, mode, cmap=\"inferno\", levels=np.linspace(mode.min(), mode.max(), 8)\n",
        "    )\n",
        "    plt.colorbar(label=\"mode\")\n",
        "    plt.grid(True, alpha=0.4)\n",
        "    plt.xlim(X.min(), X.max())\n",
        "    plt.ylim(Y.min(), Y.max())\n",
        "    plt.xlabel(\"y\")\n",
        "    plt.ylabel(\"z\")\n",
        "    plt.axis(\"scaled\")\n",
        "    plt.grid(True)\n",
        "    plt.show()"
      ]
    },
    {
      "cell_type": "code",
      "execution_count": null,
      "id": "e147bc6c-b2f1-43cc-828f-261b7490eff5",
      "metadata": {
        "papermill": {
          "duration": 0.19772,
          "end_time": "2023-09-03T04:40:15.750771",
          "exception": false,
          "start_time": "2023-09-03T04:40:15.553051",
          "status": "completed"
        },
        "tags": []
      },
      "outputs": [],
      "source": [
        "visualize_mode(modes[1], \"Hz\")"
      ]
    },
    {
      "cell_type": "code",
      "execution_count": null,
      "id": "27c56455-6c41-433e-af97-8fa4b2a5c96e",
      "metadata": {
        "papermill": {
          "duration": 0.112912,
          "end_time": "2023-09-03T04:40:15.874942",
          "exception": false,
          "start_time": "2023-09-03T04:40:15.762030",
          "status": "completed"
        },
        "tags": []
      },
      "outputs": [],
      "source": [
        "plt.pcolormesh(wavelengths, widths, neffs)\n",
        "plt.xlabel(\"\u03bb [\u03bcm]\")\n",
        "plt.ylabel(\"width [\u03bcm]\")\n",
        "plt.show()"
      ]
    },
    {
      "cell_type": "code",
      "execution_count": null,
      "id": "e8990e26-d434-41b3-8c46-300057eecb25",
      "metadata": {
        "papermill": {
          "duration": 0.592005,
          "end_time": "2023-09-03T04:40:16.474211",
          "exception": false,
          "start_time": "2023-09-03T04:40:15.882206",
          "status": "completed"
        },
        "tags": []
      },
      "outputs": [],
      "source": [
        "_grid = [jnp.sort(jnp.unique(wavelengths)), jnp.sort(jnp.unique(widths))]\n",
        "_data = jnp.asarray(neffs)\n",
        "\n",
        "\n",
        "@jax.jit\n",
        "def _get_coordinate(arr1d: jnp.ndarray, value: jnp.ndarray):\n",
        "    return jnp.interp(value, arr1d, jnp.arange(arr1d.shape[0]))\n",
        "\n",
        "\n",
        "@jax.jit\n",
        "def _get_coordinates(arrs1d: List[jnp.ndarray], values: jnp.ndarray):\n",
        "    # don't use vmap as arrays in arrs1d could have different shapes...\n",
        "    return jnp.array([_get_coordinate(a, v) for a, v in zip(arrs1d, values)])\n",
        "\n",
        "\n",
        "@jax.jit\n",
        "def neff(wl=1.55, width=0.5):\n",
        "    params = jnp.stack(jnp.broadcast_arrays(jnp.asarray(wl), jnp.asarray(width)), 0)\n",
        "    coords = _get_coordinates(_grid, params)\n",
        "    return jax.scipy.ndimage.map_coordinates(_data, coords, 1, mode=\"nearest\")\n",
        "\n",
        "\n",
        "neff(wl=[1.52, 1.58], width=[0.5, 0.55])"
      ]
    },
    {
      "cell_type": "code",
      "execution_count": null,
      "id": "d47b524e-3625-4261-b0a7-085348a0cb49",
      "metadata": {
        "papermill": {
          "duration": 0.62837,
          "end_time": "2023-09-03T04:40:17.110692",
          "exception": false,
          "start_time": "2023-09-03T04:40:16.482322",
          "status": "completed"
        },
        "tags": []
      },
      "outputs": [],
      "source": [
        "wavelengths_ = np.linspace(wavelengths.min(), wavelengths.max(), 100)\n",
        "widths_ = np.linspace(widths.min(), widths.max(), 100)\n",
        "wavelengths_, widths_ = np.meshgrid(wavelengths_, widths_)\n",
        "neffs_ = neff(wavelengths_, widths_)\n",
        "plt.pcolormesh(wavelengths_, widths_, neffs_)\n",
        "plt.xlabel(\"\u03bb [\u03bcm]\")\n",
        "plt.ylabel(\"width [\u03bcm]\")\n",
        "plt.show()"
      ]
    },
    {
      "cell_type": "code",
      "execution_count": null,
      "id": "918ecf26-9f39-4b27-8503-5f2043068c90",
      "metadata": {
        "papermill": {
          "duration": 0.01901,
          "end_time": "2023-09-03T04:40:17.142206",
          "exception": false,
          "start_time": "2023-09-03T04:40:17.123196",
          "status": "completed"
        },
        "tags": []
      },
      "outputs": [],
      "source": [
        "def straight(wl=1.55, length=10.0, width=0.5):\n",
        "    S = {\n",
        "        (\"o1\", \"o2\"): jnp.exp(2j * np.pi * neff(wl=wl, width=width) / wl * length),\n",
        "    }\n",
        "    return sax.reciprocal(S)"
      ]
    },
    {
      "cell_type": "markdown",
      "id": "d8e3d951-a2fc-494c-b23c-4c888510bf22",
      "metadata": {
        "papermill": {
          "duration": 0.008054,
          "end_time": "2023-09-03T04:40:17.162625",
          "exception": false,
          "start_time": "2023-09-03T04:40:17.154571",
          "status": "completed"
        },
        "tags": []
      },
      "source": [
        "Even though this still is lossless transmission, we're at least modeling the phase correctly."
      ]
    },
    {
      "cell_type": "code",
      "execution_count": null,
      "id": "c047c57e-7aa8-40d6-a2dc-dced77a886de",
      "metadata": {
        "papermill": {
          "duration": 0.370555,
          "end_time": "2023-09-03T04:40:17.540609",
          "exception": false,
          "start_time": "2023-09-03T04:40:17.170054",
          "status": "completed"
        },
        "tags": []
      },
      "outputs": [],
      "source": [
        "straight()"
      ]
    },
    {
      "cell_type": "markdown",
      "id": "726425f8-7299-49bf-b32d-da5c666ffc7b",
      "metadata": {
        "papermill": {
          "duration": 0.007478,
          "end_time": "2023-09-03T04:40:17.555570",
          "exception": false,
          "start_time": "2023-09-03T04:40:17.548092",
          "status": "completed"
        },
        "tags": []
      },
      "source": [
        "## Simulate MZI again"
      ]
    },
    {
      "cell_type": "code",
      "execution_count": null,
      "id": "8b1ae4da-a7e2-44b6-94ee-d7af68da5610",
      "metadata": {
        "papermill": {
          "duration": 0.597589,
          "end_time": "2023-09-03T04:40:18.160606",
          "exception": false,
          "start_time": "2023-09-03T04:40:17.563017",
          "status": "completed"
        },
        "tags": []
      },
      "outputs": [],
      "source": [
        "models[\"straight\"] = straight\n",
        "mzi2, _ = sax.circuit(mzi.get_netlist_recursive(), models=models)\n",
        "mzi2()"
      ]
    },
    {
      "cell_type": "code",
      "execution_count": null,
      "id": "ef90611b-66cb-4889-9325-5e10f6646c9b",
      "metadata": {
        "papermill": {
          "duration": 1.426832,
          "end_time": "2023-09-03T04:40:19.599520",
          "exception": false,
          "start_time": "2023-09-03T04:40:18.172688",
          "status": "completed"
        },
        "tags": []
      },
      "outputs": [],
      "source": [
        "wl = jnp.linspace(1.51, 1.59, 1000)\n",
        "S = mzi2(wl=wl)\n",
        "plt.plot(wl, abs(S[\"o1\", \"o2\"]) ** 2)\n",
        "plt.ylim(-0.05, 1.05)\n",
        "plt.xlabel(\"\u03bb [\u03bcm]\")\n",
        "plt.ylabel(\"T\")\n",
        "plt.ylim(-0.05, 1.05)\n",
        "plt.grid(True)\n",
        "plt.show()"
      ]
    },
    {
      "cell_type": "markdown",
      "id": "327c9763-8a84-4ce2-991f-e79dea46113d",
      "metadata": {
        "papermill": {
          "duration": 0.007915,
          "end_time": "2023-09-03T04:40:19.615585",
          "exception": false,
          "start_time": "2023-09-03T04:40:19.607670",
          "status": "completed"
        },
        "tags": []
      },
      "source": [
        "## Optimize MZI"
      ]
    },
    {
      "cell_type": "markdown",
      "id": "2b7b0184-274f-49df-9ffc-e6d4a9dfbc58",
      "metadata": {
        "papermill": {
          "duration": 0.007834,
          "end_time": "2023-09-03T04:40:19.631293",
          "exception": false,
          "start_time": "2023-09-03T04:40:19.623459",
          "status": "completed"
        },
        "tags": []
      },
      "source": [
        "We'd like to optimize an MZI such that one of the minima is at 1550nm. To do this, we need to define a loss function for the circuit at 1550nm. This function should take the parameters that you want to optimize as positional arguments:"
      ]
    },
    {
      "cell_type": "code",
      "execution_count": null,
      "id": "6243cba9-ce4a-4327-a68b-2ee3e2b9c1f4",
      "metadata": {
        "papermill": {
          "duration": 0.014978,
          "end_time": "2023-09-03T04:40:19.654187",
          "exception": false,
          "start_time": "2023-09-03T04:40:19.639209",
          "status": "completed"
        },
        "tags": []
      },
      "outputs": [],
      "source": [
        "@jax.jit\n",
        "def loss_fn(delta_length):\n",
        "    S = mzi2(\n",
        "        wl=1.55,\n",
        "        straight_1={\"length\": delta_length / 2},\n",
        "        straight_2={\"length\": delta_length / 2},\n",
        "    )\n",
        "    return jnp.mean(jnp.abs(S[\"o1\", \"o2\"]) ** 2)"
      ]
    },
    {
      "cell_type": "markdown",
      "id": "f84dd8eb-cdd4-43c4-9a33-39677dca6438",
      "metadata": {
        "papermill": {
          "duration": 0.012412,
          "end_time": "2023-09-03T04:40:19.678439",
          "exception": false,
          "start_time": "2023-09-03T04:40:19.666027",
          "status": "completed"
        },
        "tags": []
      },
      "source": [
        "We can use this loss function to define a grad function which works on the parameters of the loss function:"
      ]
    },
    {
      "cell_type": "code",
      "execution_count": null,
      "id": "a3641d43-7de4-4211-bd95-02d4509111e6",
      "metadata": {
        "papermill": {
          "duration": 0.012802,
          "end_time": "2023-09-03T04:40:19.700557",
          "exception": false,
          "start_time": "2023-09-03T04:40:19.687755",
          "status": "completed"
        },
        "tags": []
      },
      "outputs": [],
      "source": [
        "grad_fn = jax.jit(\n",
        "    jax.grad(\n",
        "        loss_fn,\n",
        "        argnums=0,  # JAX gradient function for the first positional argument, jitted\n",
        "    )\n",
        ")"
      ]
    },
    {
      "cell_type": "markdown",
      "id": "b431ece1-c65a-4526-be48-1668270ec3ef",
      "metadata": {
        "papermill": {
          "duration": 0.00787,
          "end_time": "2023-09-03T04:40:19.717005",
          "exception": false,
          "start_time": "2023-09-03T04:40:19.709135",
          "status": "completed"
        },
        "tags": []
      },
      "source": [
        "Next, we need to define a JAX optimizer, which on its own is nothing more than three more functions:  an initialization function with which to initialize the optimizer state, an update function which will update the optimizer state (and with it the model parameters). The third function that's being returned will give the model parameters given the optimizer state."
      ]
    },
    {
      "cell_type": "code",
      "execution_count": null,
      "id": "c2f4c30c-a000-4d80-9b6f-97af499e3b4d",
      "metadata": {
        "papermill": {
          "duration": 0.014125,
          "end_time": "2023-09-03T04:40:19.739067",
          "exception": false,
          "start_time": "2023-09-03T04:40:19.724942",
          "status": "completed"
        },
        "tags": []
      },
      "outputs": [],
      "source": [
        "initial_delta_length = 10.0\n",
        "init_fn, update_fn, params_fn = opt.adam(step_size=0.1)\n",
        "state = init_fn(initial_delta_length)"
      ]
    },
    {
      "cell_type": "markdown",
      "id": "8ec26547-c39c-42d9-af43-9be940f76b69",
      "metadata": {
        "papermill": {
          "duration": 0.008028,
          "end_time": "2023-09-03T04:40:19.755049",
          "exception": false,
          "start_time": "2023-09-03T04:40:19.747021",
          "status": "completed"
        },
        "tags": []
      },
      "source": [
        "Given all this, a single training step can be defined:"
      ]
    },
    {
      "cell_type": "code",
      "execution_count": null,
      "id": "eede579e-cf88-43fd-8d43-c888d1e07bba",
      "metadata": {
        "papermill": {
          "duration": 0.013323,
          "end_time": "2023-09-03T04:40:19.776065",
          "exception": false,
          "start_time": "2023-09-03T04:40:19.762742",
          "status": "completed"
        },
        "tags": []
      },
      "outputs": [],
      "source": [
        "def step_fn(step, state):\n",
        "    params = params_fn(state)\n",
        "    loss = loss_fn(params)\n",
        "    grad = grad_fn(params)\n",
        "    state = update_fn(step, grad, state)\n",
        "    return loss, state"
      ]
    },
    {
      "cell_type": "markdown",
      "id": "ed8cbb34-889a-4cbd-85ca-ad5912a26acc",
      "metadata": {
        "papermill": {
          "duration": 0.007962,
          "end_time": "2023-09-03T04:40:19.791913",
          "exception": false,
          "start_time": "2023-09-03T04:40:19.783951",
          "status": "completed"
        },
        "tags": []
      },
      "source": [
        "And we can use this step function to start the training of the MZI:"
      ]
    },
    {
      "cell_type": "code",
      "execution_count": null,
      "id": "d2533da9-52eb-44c8-8426-2f5210fb342d",
      "metadata": {
        "papermill": {
          "duration": 11.784468,
          "end_time": "2023-09-03T04:40:31.584368",
          "exception": false,
          "start_time": "2023-09-03T04:40:19.799900",
          "status": "completed"
        },
        "tags": []
      },
      "outputs": [],
      "source": [
        "for step in (pb := trange(300)):  # the first two iterations take a while because the circuit is being jitted...\n",
        "    loss, state = step_fn(step, state)\n",
        "    pb.set_postfix(loss=f\"{loss:.6f}\")"
      ]
    },
    {
      "cell_type": "code",
      "execution_count": null,
      "id": "f49a3fa7-1993-48d9-ada9-4caa9794fa42",
      "metadata": {
        "papermill": {
          "duration": 0.012873,
          "end_time": "2023-09-03T04:40:31.604849",
          "exception": false,
          "start_time": "2023-09-03T04:40:31.591976",
          "status": "completed"
        },
        "tags": []
      },
      "outputs": [],
      "source": [
        "delta_length = params_fn(state)\n",
        "delta_length"
      ]
    },
    {
      "cell_type": "markdown",
      "id": "23ac6709-d904-4bd0-b9a1-d34a4e7beae7",
      "metadata": {
        "papermill": {
          "duration": 0.0073,
          "end_time": "2023-09-03T04:40:31.619789",
          "exception": false,
          "start_time": "2023-09-03T04:40:31.612489",
          "status": "completed"
        },
        "tags": []
      },
      "source": [
        "Let's see what we've got over a range of wavelengths:"
      ]
    },
    {
      "cell_type": "code",
      "execution_count": null,
      "id": "87395c19-26fc-4fca-b9d5-5a1bf3a7cfb2",
      "metadata": {
        "papermill": {
          "duration": 0.227227,
          "end_time": "2023-09-03T04:40:31.854351",
          "exception": false,
          "start_time": "2023-09-03T04:40:31.627124",
          "status": "completed"
        },
        "tags": []
      },
      "outputs": [],
      "source": [
        "S = mzi2(\n",
        "    wl=wl,\n",
        "    straight_1={\"length\": delta_length / 2},\n",
        "    straight_2={\"length\": delta_length / 2},\n",
        ")\n",
        "plt.plot(wl * 1e3, abs(S[\"o1\", \"o2\"]) ** 2)\n",
        "plt.xlabel(\"\u03bb [nm]\")\n",
        "plt.ylabel(\"T\")\n",
        "plt.plot([1550, 1550], [-1, 2], ls=\":\", color=\"black\")\n",
        "plt.ylim(-0.05, 1.05)\n",
        "plt.grid(True)\n",
        "plt.show()"
      ]
    },
    {
      "cell_type": "markdown",
      "id": "cb6c0cb7-5d9b-4449-9102-4aced9882763",
      "metadata": {
        "papermill": {
          "duration": 0.013001,
          "end_time": "2023-09-03T04:40:31.880930",
          "exception": false,
          "start_time": "2023-09-03T04:40:31.867929",
          "status": "completed"
        },
        "tags": []
      },
      "source": [
        "Note that we could've just as well optimized the waveguide width:"
      ]
    },
    {
      "cell_type": "code",
      "execution_count": null,
      "id": "8e635add-d883-4f0b-b6c8-14c27df303af",
      "metadata": {
        "papermill": {
          "duration": 6.072932,
          "end_time": "2023-09-03T04:40:37.967907",
          "exception": false,
          "start_time": "2023-09-03T04:40:31.894975",
          "status": "completed"
        },
        "tags": []
      },
      "outputs": [],
      "source": [
        "@jax.jit\n",
        "def loss_fn(width):\n",
        "    S = mzi2(\n",
        "        wl=1.55,\n",
        "        straight_1={\"width\": width},\n",
        "        straight_2={\"width\": width},\n",
        "    )\n",
        "    return jnp.mean(jnp.abs(S[\"o1\", \"o2\"]) ** 2)\n",
        "\n",
        "\n",
        "grad_fn = jax.jit(\n",
        "    jax.grad(\n",
        "        loss_fn,\n",
        "        argnums=0,  # JAX gradient function for the first positional argument, jitted\n",
        "    )\n",
        ")\n",
        "initial_width = 0.5\n",
        "init_fn, update_fn, params_fn = opt.adam(step_size=0.01)\n",
        "state = init_fn(initial_width)\n",
        "for step in (\n",
        "    pb := trange(300)\n",
        "):  # the first two iterations take a while because the circuit is being jitted...\n",
        "    loss, state = step_fn(step, state)\n",
        "    pb.set_postfix(loss=f\"{loss:.6f}\")\n",
        "\n",
        "optim_width = params_fn(state)\n",
        "S = Sw = mzi2(\n",
        "    wl=wl,\n",
        "    straight_1={\"width\": optim_width},\n",
        "    straight_2={\"width\": optim_width},\n",
        ")\n",
        "plt.plot(wl * 1e3, abs(S[\"o1\", \"o2\"]) ** 2)\n",
        "plt.xlabel(\"\u03bb [nm]\")\n",
        "plt.ylabel(\"T\")\n",
        "plt.plot([1550, 1550], [-1, 2], color=\"black\", ls=\":\")\n",
        "plt.ylim(-0.05, 1.05)\n",
        "plt.grid(True)\n",
        "plt.show()"
      ]
    },
    {
      "cell_type": "markdown",
      "id": "783ccb78-83a4-4a8b-96e3-e74771fa6dda",
      "metadata": {
        "papermill": {
          "duration": 0.00895,
          "end_time": "2023-09-03T04:40:37.985998",
          "exception": false,
          "start_time": "2023-09-03T04:40:37.977048",
          "status": "completed"
        },
        "tags": []
      },
      "source": [
        "## Layout-aware Monte Carlo\n",
        "\n",
        "Let's assume the waveguide width changes with a certain correlation length. We can create a 'wafermap' of width variations by randomly varying the width and low pass filtering with a spatial frequency being the inverse of the correlation length (there are probably better ways to do this, but this works for this tutorial)."
      ]
    },
    {
      "cell_type": "code",
      "execution_count": null,
      "id": "bfc5a963-561f-459c-b0d5-c15bbaa6c05d",
      "metadata": {
        "papermill": {
          "duration": 0.017195,
          "end_time": "2023-09-03T04:40:38.012171",
          "exception": false,
          "start_time": "2023-09-03T04:40:37.994976",
          "status": "completed"
        },
        "tags": []
      },
      "outputs": [],
      "source": [
        "def create_wafermaps(placements, correlation_length=1.0, num_maps=1, mean=0.0, std=1.0, seed=None):\n",
        "    dx = dy = correlation_length / 200\n",
        "    xs = [p[\"x\"] for p in placements.values()]\n",
        "    ys = [p[\"y\"] for p in placements.values()]\n",
        "    xmin, xmax, ymin, ymax = min(xs), max(xs), min(ys), max(ys)\n",
        "    wx, wy = xmax - xmin, ymax - ymin\n",
        "    xmin, xmax, ymin, ymax = xmin - wx, xmax + wx, ymin - wy, ymax + wy\n",
        "    x, y = np.arange(xmin, xmax + dx, dx), np.arange(ymin, ymax + dy, dy)\n",
        "    if seed is None:\n",
        "        r = np.random\n",
        "    else:\n",
        "        r = np.random.RandomState(seed=seed)\n",
        "    W0 = r.randn(num_maps, x.shape[0], y.shape[0])\n",
        "\n",
        "    fx = fftshift(fftfreq(x.shape[0], d=x[1] - x[0]))\n",
        "    fy = fftshift(fftfreq(y.shape[0], d=y[1] - y[0]))\n",
        "    fY, fX = np.meshgrid(fy, fx)\n",
        "\n",
        "    fW = fftshift(fft2(W0))\n",
        "\n",
        "    if correlation_length >= min(x.shape[0], y.shape[0]):\n",
        "        fW = np.zeros_like(fW)\n",
        "    else:\n",
        "        fW = np.where(np.sqrt(fX**2 + fY**2)[None] > 1 / correlation_length, 0, fW)\n",
        "\n",
        "    W = np.abs(fftshift(ifft2(fW))) ** 2\n",
        "\n",
        "    mean_ = W.mean(1, keepdims=True).mean(2, keepdims=True)\n",
        "\n",
        "    std_ = W.std(1, keepdims=True).std(2, keepdims=True)\n",
        "    if (std_ == 0).all():\n",
        "        std_ = 1\n",
        "\n",
        "    W = (W - mean_) / std_\n",
        "\n",
        "    W = W * std + mean\n",
        "\n",
        "    return x, y, W"
      ]
    },
    {
      "cell_type": "code",
      "execution_count": null,
      "id": "758baf10-da05-47e4-90dc-dee665d9c58f",
      "metadata": {
        "papermill": {
          "duration": 2.250694,
          "end_time": "2023-09-03T04:40:40.272140",
          "exception": false,
          "start_time": "2023-09-03T04:40:38.021446",
          "status": "completed"
        },
        "tags": []
      },
      "outputs": [],
      "source": [
        "placements = mzi.get_netlist()[\"placements\"]\n",
        "xm, ym, wmaps = create_wafermaps(\n",
        "    placements,\n",
        "    correlation_length=100,\n",
        "    mean=0.5,\n",
        "    std=0.002,\n",
        "    num_maps=100,\n",
        "    seed=42,\n",
        ")\n",
        "\n",
        "for i, wmap in enumerate(wmaps):\n",
        "    plt.imshow(wmap, cmap=\"RdBu\")\n",
        "    plt.show()\n",
        "    if i == 2:\n",
        "        break"
      ]
    },
    {
      "cell_type": "code",
      "execution_count": null,
      "id": "cc19b264-89e5-4cff-9969-2f1d9af67157",
      "metadata": {
        "papermill": {
          "duration": 0.019876,
          "end_time": "2023-09-03T04:40:40.306018",
          "exception": false,
          "start_time": "2023-09-03T04:40:40.286142",
          "status": "completed"
        },
        "tags": []
      },
      "outputs": [],
      "source": [
        "def widths(xw, yw, wmaps, x, y):\n",
        "    _wmap_grid = [xw, yw]\n",
        "    params = jnp.stack(jnp.broadcast_arrays(jnp.asarray(x), jnp.asarray(y)), 0)\n",
        "    coords = _get_coordinates(_wmap_grid, params)\n",
        "\n",
        "    map_coordinates = partial(\n",
        "        jax.scipy.ndimage.map_coordinates, coordinates=coords, order=1, mode=\"nearest\"\n",
        "    )\n",
        "    w = jax.vmap(map_coordinates)(wmaps)\n",
        "    return w"
      ]
    },
    {
      "cell_type": "markdown",
      "id": "37deecff-9433-4b1b-8cb7-970a414abe13",
      "metadata": {
        "papermill": {
          "duration": 0.020605,
          "end_time": "2023-09-03T04:40:40.348381",
          "exception": false,
          "start_time": "2023-09-03T04:40:40.327776",
          "status": "completed"
        },
        "tags": []
      },
      "source": [
        "Let's now sample the MZI width variation on the wafer map (let's assume a single width variation per point):"
      ]
    },
    {
      "cell_type": "code",
      "execution_count": null,
      "id": "839c8849-5502-45ae-a7ad-e04ac2a5305b",
      "metadata": {
        "papermill": {
          "duration": 0.220721,
          "end_time": "2023-09-03T04:40:40.583912",
          "exception": false,
          "start_time": "2023-09-03T04:40:40.363191",
          "status": "completed"
        },
        "tags": []
      },
      "outputs": [],
      "source": [
        "quickplot(mzi);"
      ]
    },
    {
      "cell_type": "code",
      "execution_count": null,
      "id": "1a527bd7-17ed-4c57-90af-6816b452b190",
      "metadata": {
        "papermill": {
          "duration": 3.637899,
          "end_time": "2023-09-03T04:40:44.237013",
          "exception": false,
          "start_time": "2023-09-03T04:40:40.599114",
          "status": "completed"
        },
        "tags": []
      },
      "outputs": [],
      "source": [
        "mzi_params = sax.get_settings(mzi2)\n",
        "placements = mzi.get_netlist()[\"placements\"]\n",
        "width_params = {\n",
        "    k: {\"width\": widths(xm, ym, wmaps, v[\"x\"], v[\"y\"])}\n",
        "    for k, v in placements.items()\n",
        "    if \"width\" in mzi_params[k]\n",
        "}\n",
        "\n",
        "S0 = mzi2(wl=wl)\n",
        "S = mzi2(\n",
        "    wl=wl[:, None],\n",
        "    **width_params,\n",
        ")\n",
        "ps = plt.plot(wl * 1e3, abs(S[\"o1\", \"o2\"]) ** 2, color=\"C0\", lw=1, alpha=0.1)\n",
        "nps = plt.plot(wl * 1e3, abs(S0[\"o1\", \"o2\"]) ** 2, color=\"C1\", lw=2, alpha=1)\n",
        "plt.xlabel(\"\u03bb [nm]\")\n",
        "plt.ylabel(\"T\")\n",
        "plt.plot([1550, 1550], [-1, 2], color=\"black\", ls=\":\")\n",
        "plt.ylim(-0.05, 1.05)\n",
        "plt.grid(True)\n",
        "plt.figlegend([*ps[-1:], *nps], [\"MC\", \"nominal\"], bbox_to_anchor=(1.1, 0.9))\n",
        "rmse = jnp.mean(\n",
        "    jnp.abs(jnp.abs(S[\"o1\", \"o2\"]) ** 2 - jnp.abs(S0[\"o1\", \"o2\"][:, None]) ** 2) ** 2\n",
        ")\n",
        "plt.title(f\"{rmse=}\")\n",
        "plt.show()"
      ]
    },
    {
      "cell_type": "markdown",
      "id": "4bf4d81f-9889-40ed-8ab3-0a9ec5a0c8d0",
      "metadata": {
        "papermill": {
          "duration": 0.01492,
          "end_time": "2023-09-03T04:40:44.266933",
          "exception": false,
          "start_time": "2023-09-03T04:40:44.252013",
          "status": "completed"
        },
        "tags": []
      },
      "source": [
        "## Compact MZI\n",
        "\n",
        "Let's see if we can improve variability (i.e. the RMSE w.r.t. nominal) by making the MZI more compact:"
      ]
    },
    {
      "cell_type": "code",
      "execution_count": null,
      "id": "1d31f0d4-2e6a-4c5e-945d-79f313456373",
      "metadata": {
        "papermill": {
          "duration": 0.023106,
          "end_time": "2023-09-03T04:40:44.305000",
          "exception": false,
          "start_time": "2023-09-03T04:40:44.281894",
          "status": "completed"
        },
        "tags": []
      },
      "outputs": [],
      "source": [
        "@gf.cell\n",
        "def compact_mzi():\n",
        "    c = gf.Component()\n",
        "\n",
        "    # instances\n",
        "    mmi_in = gf.components.mmi1x2()\n",
        "    mmi_out = gf.components.mmi2x2()\n",
        "    bend = gf.components.bend_euler()\n",
        "    half_delay_straight = gf.components.straight()\n",
        "    middle_straight = gf.components.straight(length=6.0)\n",
        "    half_middle_straight = gf.components.straight(3.0)\n",
        "\n",
        "    # references (sax convention: vars ending in underscore are references)\n",
        "    mmi_in_ = c << mmi_in\n",
        "\n",
        "    bend_top1_ = c << bend\n",
        "    straight_top1_ = c << half_delay_straight\n",
        "    bend_top2_ = (c << bend).mirror()\n",
        "    straight_top2_ = c << middle_straight\n",
        "    bend_top3_ = (c << bend).mirror()\n",
        "    straight_top3_ = c << half_delay_straight\n",
        "    bend_top4_ = c << bend\n",
        "\n",
        "    straight_btm1_ = c << half_middle_straight\n",
        "    bend_btm1_ = c << bend\n",
        "    bend_btm2_ = (c << bend).mirror()\n",
        "    bend_btm3_ = (c << bend).mirror()\n",
        "    bend_btm4_ = c << bend\n",
        "    straight_btm2_ = c << half_middle_straight\n",
        "\n",
        "    mmi_out_ = c << mmi_out\n",
        "\n",
        "    # connections\n",
        "    bend_top1_.connect(\"o1\", mmi_in_.ports[\"o2\"])\n",
        "    straight_top1_.connect(\"o1\", bend_top1_.ports[\"o2\"])\n",
        "    bend_top2_.connect(\"o1\", straight_top1_.ports[\"o2\"])\n",
        "    straight_top2_.connect(\"o1\", bend_top2_.ports[\"o2\"])\n",
        "    bend_top3_.connect(\"o1\", straight_top2_.ports[\"o2\"])\n",
        "    straight_top3_.connect(\"o1\", bend_top3_.ports[\"o2\"])\n",
        "    bend_top4_.connect(\"o1\", straight_top3_.ports[\"o2\"])\n",
        "\n",
        "    straight_btm1_.connect(\"o1\", mmi_in_.ports[\"o3\"])\n",
        "    bend_btm1_.connect(\"o1\", straight_btm1_.ports[\"o2\"])\n",
        "    bend_btm2_.connect(\"o1\", bend_btm1_.ports[\"o2\"])\n",
        "    bend_btm3_.connect(\"o1\", bend_btm2_.ports[\"o2\"])\n",
        "    bend_btm4_.connect(\"o1\", bend_btm3_.ports[\"o2\"])\n",
        "    straight_btm2_.connect(\"o1\", bend_btm4_.ports[\"o2\"])\n",
        "\n",
        "    mmi_out_.connect(\"o1\", straight_btm2_.ports[\"o2\"])\n",
        "\n",
        "    # ports\n",
        "    c.add_port(\n",
        "        \"o1\",\n",
        "        port=mmi_in_.ports[\"o1\"],\n",
        "    )\n",
        "    c.add_port(\"o2\", port=mmi_out_.ports[\"o3\"])\n",
        "    c.add_port(\"o3\", port=mmi_out_.ports[\"o4\"])\n",
        "    return c"
      ]
    },
    {
      "cell_type": "code",
      "execution_count": null,
      "id": "65894956-fa15-40ba-9567-515f097fa01a",
      "metadata": {
        "papermill": {
          "duration": 0.795362,
          "end_time": "2023-09-03T04:40:45.115394",
          "exception": false,
          "start_time": "2023-09-03T04:40:44.320032",
          "status": "completed"
        },
        "tags": []
      },
      "outputs": [],
      "source": [
        "compact_mzi1 = compact_mzi()\n",
        "quickplot(compact_mzi1);\n",
        "placements = compact_mzi1.get_netlist()[\"placements\"]\n",
        "mzi3, _ = sax.circuit(compact_mzi1.get_netlist_recursive(), models=models)\n",
        "mzi3()"
      ]
    },
    {
      "cell_type": "code",
      "execution_count": null,
      "id": "1a06ec7a-9052-450e-b199-52209f08c708",
      "metadata": {
        "papermill": {
          "duration": 2.434827,
          "end_time": "2023-09-03T04:40:47.564927",
          "exception": false,
          "start_time": "2023-09-03T04:40:45.130100",
          "status": "completed"
        },
        "tags": []
      },
      "outputs": [],
      "source": [
        "mzi_params = sax.get_settings(mzi3)\n",
        "placements = compact_mzi1.get_netlist()[\"placements\"]\n",
        "width_params = {\n",
        "    k: {\"width\": widths(xm, ym, wmaps, v[\"x\"], v[\"y\"])}\n",
        "    for k, v in placements.items()\n",
        "    if \"width\" in mzi_params[k]\n",
        "}\n",
        "\n",
        "S0 = mzi3(wl=wl)\n",
        "S = mzi3(\n",
        "    wl=wl[:, None],\n",
        "    **width_params,\n",
        ")\n",
        "ps = plt.plot(wl * 1e3, abs(S[\"o1\", \"o2\"]) ** 2, color=\"C0\", lw=1, alpha=0.1)\n",
        "nps = plt.plot(wl * 1e3, abs(S0[\"o1\", \"o2\"]) ** 2, color=\"C1\", lw=2, alpha=1)\n",
        "plt.xlabel(\"\u03bb [nm]\")\n",
        "plt.ylabel(\"T\")\n",
        "plt.plot([1550, 1550], [-1, 2], color=\"black\", ls=\":\")\n",
        "plt.ylim(-0.05, 1.05)\n",
        "plt.grid(True)\n",
        "plt.figlegend([*ps[-1:], *nps], [\"MC\", \"nominal\"], bbox_to_anchor=(1.1, 0.9))\n",
        "rmse = jnp.mean(\n",
        "    jnp.abs(jnp.abs(S[\"o1\", \"o2\"]) ** 2 - jnp.abs(S0[\"o1\", \"o2\"][:, None]) ** 2) ** 2\n",
        ")\n",
        "plt.title(f\"{rmse=}\")\n",
        "plt.show()"
      ]
    }
  ],
  "metadata": {
    "kernelspec": {
      "display_name": "sax",
      "language": "python",
      "name": "sax"
    },
    "language_info": {
      "codemirror_mode": {
        "name": "ipython",
        "version": 3
      },
      "file_extension": ".py",
      "mimetype": "text/x-python",
      "name": "python",
      "nbconvert_exporter": "python",
      "pygments_lexer": "ipython3",
      "version": "3.9.18"
    },
    "papermill": {
      "default_parameters": {},
      "duration": 42.096029,
      "end_time": "2023-09-03T04:40:48.504415",
      "environment_variables": {},
      "exception": null,
      "input_path": "./07_layout_aware.ipynb",
      "output_path": "./07_layout_aware.ipynb",
      "parameters": {},
      "start_time": "2023-09-03T04:40:06.408386",
      "version": "2.4.0"
    }
  },
  "nbformat": 4,
  "nbformat_minor": 5
}