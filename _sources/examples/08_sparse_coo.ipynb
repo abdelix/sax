{
  "cells": [
    {
      "cell_type": "markdown",
      "id": "2bfd16a0-0ef5-4d82-9beb-9840f691e6d3",
      "metadata": {
        "papermill": {
          "duration": 0.004798,
          "end_time": "2024-01-15T21:54:20.747050",
          "exception": false,
          "start_time": "2024-01-15T21:54:20.742252",
          "status": "completed"
        },
        "tags": []
      },
      "source": [
        "## Sparse COO"
      ]
    },
    {
      "cell_type": "markdown",
      "id": "1527743d-d44d-40d2-af44-388b5861fad9",
      "metadata": {
        "papermill": {
          "duration": 0.001102,
          "end_time": "2024-01-15T21:54:20.749507",
          "exception": false,
          "start_time": "2024-01-15T21:54:20.748405",
          "status": "completed"
        },
        "tags": []
      },
      "source": [
        "> The most efficient S-representation is the COO representation. It's however also the least user friendly:"
      ]
    },
    {
      "cell_type": "code",
      "execution_count": 1,
      "id": "b63391879d046419",
      "metadata": {
        "execution": {
          "iopub.execute_input": "2024-01-15T21:54:20.753021Z",
          "iopub.status.busy": "2024-01-15T21:54:20.752506Z",
          "iopub.status.idle": "2024-01-15T21:54:21.432486Z",
          "shell.execute_reply": "2024-01-15T21:54:21.431834Z"
        },
        "papermill": {
          "duration": 0.683466,
          "end_time": "2024-01-15T21:54:21.434012",
          "exception": false,
          "start_time": "2024-01-15T21:54:20.750546",
          "status": "completed"
        },
        "tags": [
          "remove-cell"
        ]
      },
      "outputs": [],
      "source": [
        "import sax\n",
        "import jax.numpy as jnp"
      ]
    },
    {
      "cell_type": "code",
      "execution_count": 2,
      "id": "441ffa75-e5f0-408b-8eee-9d4304ac4c21",
      "metadata": {
        "execution": {
          "iopub.execute_input": "2024-01-15T21:54:21.437959Z",
          "iopub.status.busy": "2024-01-15T21:54:21.437435Z",
          "iopub.status.idle": "2024-01-15T21:54:21.441835Z",
          "shell.execute_reply": "2024-01-15T21:54:21.441335Z"
        },
        "papermill": {
          "duration": 0.007533,
          "end_time": "2024-01-15T21:54:21.442910",
          "exception": false,
          "start_time": "2024-01-15T21:54:21.435377",
          "status": "completed"
        },
        "tags": []
      },
      "outputs": [],
      "source": [
        "def my_coo(*, wl=1.5):\n",
        "    num_input_ports = 4\n",
        "    num_output_ports = 1\n",
        "    pm = {\n",
        "        **{f\"in{i}\": i for i in range(num_input_ports)},\n",
        "        **{f\"out{i}\": i + num_input_ports for i in range(num_output_ports)},\n",
        "    }\n",
        "    thru = jnp.ones(num_input_ports)\n",
        "    i = jnp.arange(0, num_input_ports, 1)\n",
        "    j = jnp.zeros_like(i) + num_input_ports\n",
        "\n",
        "    # make reciprocal\n",
        "    i, j = jnp.concatenate([i, j]), jnp.concatenate([j, i])\n",
        "    thru = jnp.concatenate([thru, thru], 0)\n",
        "    return (i, j, thru, pm)"
      ]
    },
    {
      "cell_type": "code",
      "execution_count": 3,
      "id": "db714fb4-a262-45db-9fed-7f1b4a406c7b",
      "metadata": {
        "execution": {
          "iopub.execute_input": "2024-01-15T21:54:21.446113Z",
          "iopub.status.busy": "2024-01-15T21:54:21.445701Z",
          "iopub.status.idle": "2024-01-15T21:54:21.909961Z",
          "shell.execute_reply": "2024-01-15T21:54:21.909377Z"
        },
        "papermill": {
          "duration": 0.467404,
          "end_time": "2024-01-15T21:54:21.911453",
          "exception": false,
          "start_time": "2024-01-15T21:54:21.444049",
          "status": "completed"
        },
        "tags": []
      },
      "outputs": [],
      "source": [
        "circuit, _ = sax.circuit(\n",
        "    netlist={\n",
        "        \"instances\": {\n",
        "            \"coo\": \"coo\",\n",
        "        },\n",
        "        \"connections\": {},\n",
        "        \"ports\": {\n",
        "            \"in0\": \"coo,in0\",\n",
        "            \"out0\": \"coo,out0\",\n",
        "        },\n",
        "    },\n",
        "    models={\n",
        "        \"coo\": my_coo,\n",
        "    },\n",
        "    backend=\"klu\",\n",
        "    return_type=\"scoo\",\n",
        ")"
      ]
    },
    {
      "cell_type": "code",
      "execution_count": 4,
      "id": "69cfc75e-623c-4171-a296-ea10afbc6afb",
      "metadata": {
        "execution": {
          "iopub.execute_input": "2024-01-15T21:54:21.915058Z",
          "iopub.status.busy": "2024-01-15T21:54:21.914728Z",
          "iopub.status.idle": "2024-01-15T21:54:22.233813Z",
          "shell.execute_reply": "2024-01-15T21:54:22.233189Z"
        },
        "papermill": {
          "duration": 0.322113,
          "end_time": "2024-01-15T21:54:22.234967",
          "exception": false,
          "start_time": "2024-01-15T21:54:21.912854",
          "status": "completed"
        },
        "tags": []
      },
      "outputs": [
        {
          "data": {
            "text/plain": [
              "(Array([0, 0, 1, 1], dtype=int64),\n",
              " Array([0, 1, 0, 1], dtype=int64),\n",
              " Array([0.+0.j, 1.+0.j, 1.+0.j, 0.+0.j], dtype=complex128),\n",
              " {'in0': 0, 'out0': 1})"
            ]
          },
          "execution_count": 4,
          "metadata": {},
          "output_type": "execute_result"
        }
      ],
      "source": [
        "circuit()"
      ]
    },
    {
      "cell_type": "code",
      "execution_count": 5,
      "id": "ef096d6a-6851-4089-b327-7063378a3ed5",
      "metadata": {
        "execution": {
          "iopub.execute_input": "2024-01-15T21:54:22.238714Z",
          "iopub.status.busy": "2024-01-15T21:54:22.238423Z",
          "iopub.status.idle": "2024-01-15T21:54:22.282895Z",
          "shell.execute_reply": "2024-01-15T21:54:22.282378Z"
        },
        "papermill": {
          "duration": 0.047568,
          "end_time": "2024-01-15T21:54:22.284062",
          "exception": false,
          "start_time": "2024-01-15T21:54:22.236494",
          "status": "completed"
        },
        "tags": []
      },
      "outputs": [
        {
          "data": {
            "text/plain": [
              "{('in0', 'in0'): Array(0.+0.j, dtype=complex128),\n",
              " ('in0', 'out0'): Array(1.+0.j, dtype=complex128),\n",
              " ('out0', 'in0'): Array(1.+0.j, dtype=complex128),\n",
              " ('out0', 'out0'): Array(0.+0.j, dtype=complex128)}"
            ]
          },
          "execution_count": 5,
          "metadata": {},
          "output_type": "execute_result"
        }
      ],
      "source": [
        "sax.sdict(circuit())"
      ]
    }
  ],
  "metadata": {
    "kernelspec": {
      "display_name": "Python 3 (ipykernel)",
      "language": "python",
      "name": "python3"
    },
    "language_info": {
      "codemirror_mode": {
        "name": "ipython",
        "version": 3
      },
      "file_extension": ".py",
      "mimetype": "text/x-python",
      "name": "python",
      "nbconvert_exporter": "python",
      "pygments_lexer": "ipython3",
      "version": "3.10.12"
    },
    "papermill": {
      "default_parameters": {},
      "duration": 2.802638,
      "end_time": "2024-01-15T21:54:22.600981",
      "environment_variables": {},
      "exception": null,
      "input_path": "./examples/08_sparse_coo.ipynb",
      "output_path": "./examples/08_sparse_coo.ipynb",
      "parameters": {},
      "start_time": "2024-01-15T21:54:19.798343",
      "version": "2.5.0"
    }
  },
  "nbformat": 4,
  "nbformat_minor": 5
}