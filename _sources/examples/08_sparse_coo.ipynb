{
  "cells": [
    {
      "cell_type": "markdown",
      "id": "2bfd16a0-0ef5-4d82-9beb-9840f691e6d3",
      "metadata": {
        "papermill": {
          "duration": 0.001583,
          "end_time": "2024-01-29T18:53:32.858690",
          "exception": false,
          "start_time": "2024-01-29T18:53:32.857107",
          "status": "completed"
        },
        "tags": []
      },
      "source": [
        "## Sparse COO"
      ]
    },
    {
      "cell_type": "markdown",
      "id": "1527743d-d44d-40d2-af44-388b5861fad9",
      "metadata": {
        "papermill": {
          "duration": 0.001111,
          "end_time": "2024-01-29T18:53:32.860999",
          "exception": false,
          "start_time": "2024-01-29T18:53:32.859888",
          "status": "completed"
        },
        "tags": []
      },
      "source": [
        "> The most efficient S-representation is the COO representation. It's however also the least user friendly:"
      ]
    },
    {
      "cell_type": "code",
      "execution_count": 1,
      "id": "d1c72ee120c8da9c",
      "metadata": {
        "execution": {
          "iopub.execute_input": "2024-01-29T18:53:32.864051Z",
          "iopub.status.busy": "2024-01-29T18:53:32.863792Z",
          "iopub.status.idle": "2024-01-29T18:53:33.558619Z",
          "shell.execute_reply": "2024-01-29T18:53:33.558049Z"
        },
        "papermill": {
          "duration": 0.698027,
          "end_time": "2024-01-29T18:53:33.560041",
          "exception": false,
          "start_time": "2024-01-29T18:53:32.862014",
          "status": "completed"
        },
        "tags": [
          "remove-cell"
        ]
      },
      "outputs": [],
      "source": [
        "import sax\n",
        "import jax.numpy as jnp"
      ]
    },
    {
      "cell_type": "code",
      "execution_count": 2,
      "id": "441ffa75-e5f0-408b-8eee-9d4304ac4c21",
      "metadata": {
        "execution": {
          "iopub.execute_input": "2024-01-29T18:53:33.563628Z",
          "iopub.status.busy": "2024-01-29T18:53:33.563352Z",
          "iopub.status.idle": "2024-01-29T18:53:33.567735Z",
          "shell.execute_reply": "2024-01-29T18:53:33.567276Z"
        },
        "papermill": {
          "duration": 0.007482,
          "end_time": "2024-01-29T18:53:33.568860",
          "exception": false,
          "start_time": "2024-01-29T18:53:33.561378",
          "status": "completed"
        },
        "tags": []
      },
      "outputs": [],
      "source": [
        "def my_coo(*, wl=1.5):\n",
        "    num_input_ports = 4\n",
        "    num_output_ports = 1\n",
        "    pm = {\n",
        "        **{f\"in{i}\": i for i in range(num_input_ports)},\n",
        "        **{f\"out{i}\": i + num_input_ports for i in range(num_output_ports)},\n",
        "    }\n",
        "    thru = jnp.ones(num_input_ports)\n",
        "    i = jnp.arange(0, num_input_ports, 1)\n",
        "    j = jnp.zeros_like(i) + num_input_ports\n",
        "\n",
        "    # make reciprocal\n",
        "    i, j = jnp.concatenate([i, j]), jnp.concatenate([j, i])\n",
        "    thru = jnp.concatenate([thru, thru], 0)\n",
        "    return (i, j, thru, pm)"
      ]
    },
    {
      "cell_type": "code",
      "execution_count": 3,
      "id": "db714fb4-a262-45db-9fed-7f1b4a406c7b",
      "metadata": {
        "execution": {
          "iopub.execute_input": "2024-01-29T18:53:33.571865Z",
          "iopub.status.busy": "2024-01-29T18:53:33.571552Z",
          "iopub.status.idle": "2024-01-29T18:53:34.018722Z",
          "shell.execute_reply": "2024-01-29T18:53:34.018091Z"
        },
        "papermill": {
          "duration": 0.450456,
          "end_time": "2024-01-29T18:53:34.020364",
          "exception": false,
          "start_time": "2024-01-29T18:53:33.569908",
          "status": "completed"
        },
        "tags": []
      },
      "outputs": [],
      "source": [
        "circuit, _ = sax.circuit(\n",
        "    netlist={\n",
        "        \"instances\": {\n",
        "            \"coo\": \"coo\",\n",
        "        },\n",
        "        \"connections\": {},\n",
        "        \"ports\": {\n",
        "            \"in0\": \"coo,in0\",\n",
        "            \"out0\": \"coo,out0\",\n",
        "        },\n",
        "    },\n",
        "    models={\n",
        "        \"coo\": my_coo,\n",
        "    },\n",
        "    backend=\"klu\",\n",
        "    return_type=\"scoo\",\n",
        ")"
      ]
    },
    {
      "cell_type": "code",
      "execution_count": 4,
      "id": "69cfc75e-623c-4171-a296-ea10afbc6afb",
      "metadata": {
        "execution": {
          "iopub.execute_input": "2024-01-29T18:53:34.024122Z",
          "iopub.status.busy": "2024-01-29T18:53:34.023761Z",
          "iopub.status.idle": "2024-01-29T18:53:34.337820Z",
          "shell.execute_reply": "2024-01-29T18:53:34.337237Z"
        },
        "papermill": {
          "duration": 0.317178,
          "end_time": "2024-01-29T18:53:34.338976",
          "exception": false,
          "start_time": "2024-01-29T18:53:34.021798",
          "status": "completed"
        },
        "tags": []
      },
      "outputs": [
        {
          "data": {
            "text/plain": [
              "(Array([0, 0, 1, 1], dtype=int64),\n",
              " Array([0, 1, 0, 1], dtype=int64),\n",
              " Array([0.+0.j, 1.+0.j, 1.+0.j, 0.+0.j], dtype=complex128),\n",
              " {'in0': 0, 'out0': 1})"
            ]
          },
          "execution_count": 4,
          "metadata": {},
          "output_type": "execute_result"
        }
      ],
      "source": [
        "circuit()"
      ]
    },
    {
      "cell_type": "code",
      "execution_count": 5,
      "id": "ef096d6a-6851-4089-b327-7063378a3ed5",
      "metadata": {
        "execution": {
          "iopub.execute_input": "2024-01-29T18:53:34.342841Z",
          "iopub.status.busy": "2024-01-29T18:53:34.342652Z",
          "iopub.status.idle": "2024-01-29T18:53:34.384546Z",
          "shell.execute_reply": "2024-01-29T18:53:34.383983Z"
        },
        "papermill": {
          "duration": 0.0451,
          "end_time": "2024-01-29T18:53:34.385656",
          "exception": false,
          "start_time": "2024-01-29T18:53:34.340556",
          "status": "completed"
        },
        "tags": []
      },
      "outputs": [
        {
          "data": {
            "text/plain": [
              "{('in0', 'in0'): Array(0.+0.j, dtype=complex128),\n",
              " ('in0', 'out0'): Array(1.+0.j, dtype=complex128),\n",
              " ('out0', 'in0'): Array(1.+0.j, dtype=complex128),\n",
              " ('out0', 'out0'): Array(0.+0.j, dtype=complex128)}"
            ]
          },
          "execution_count": 5,
          "metadata": {},
          "output_type": "execute_result"
        }
      ],
      "source": [
        "sax.sdict(circuit())"
      ]
    }
  ],
  "metadata": {
    "kernelspec": {
      "display_name": "Python 3 (ipykernel)",
      "language": "python",
      "name": "python3"
    },
    "language_info": {
      "codemirror_mode": {
        "name": "ipython",
        "version": 3
      },
      "file_extension": ".py",
      "mimetype": "text/x-python",
      "name": "python",
      "nbconvert_exporter": "python",
      "pygments_lexer": "ipython3",
      "version": "3.10.13"
    },
    "papermill": {
      "default_parameters": {},
      "duration": 2.765829,
      "end_time": "2024-01-29T18:53:34.703122",
      "environment_variables": {},
      "exception": null,
      "input_path": "./examples/08_sparse_coo.ipynb",
      "output_path": "./examples/08_sparse_coo.ipynb",
      "parameters": {},
      "start_time": "2024-01-29T18:53:31.937293",
      "version": "2.5.0"
    }
  },
  "nbformat": 4,
  "nbformat_minor": 5
}