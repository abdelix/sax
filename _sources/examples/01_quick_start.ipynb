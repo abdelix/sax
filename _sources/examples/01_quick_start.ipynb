{
  "cells": [
    {
      "cell_type": "markdown",
      "id": "ab894499",
      "metadata": {
        "papermill": {
          "duration": 0.013263,
          "end_time": "2023-09-01T15:51:20.470900",
          "exception": false,
          "start_time": "2023-09-01T15:51:20.457637",
          "status": "completed"
        },
        "tags": []
      },
      "source": [
        "# SAX Quick Start\n",
        "> Let's go over the core functionality of SAX."
      ]
    },
    {
      "cell_type": "markdown",
      "id": "3c91396d",
      "metadata": {
        "papermill": {
          "duration": 0.007685,
          "end_time": "2023-09-01T15:51:20.523063",
          "exception": false,
          "start_time": "2023-09-01T15:51:20.515378",
          "status": "completed"
        },
        "tags": []
      },
      "source": [
        "## Environment variables"
      ]
    },
    {
      "cell_type": "markdown",
      "id": "79240f32",
      "metadata": {
        "papermill": {
          "duration": 0.007593,
          "end_time": "2023-09-01T15:51:20.538279",
          "exception": false,
          "start_time": "2023-09-01T15:51:20.530686",
          "status": "completed"
        },
        "tags": []
      },
      "source": [
        "SAX is based on JAX... here are some useful environment variables for working with JAX:"
      ]
    },
    {
      "cell_type": "code",
      "execution_count": 1,
      "id": "73df219005fd61d4",
      "metadata": {
        "execution": {
          "iopub.execute_input": "2023-09-01T15:51:20.555292Z",
          "iopub.status.busy": "2023-09-01T15:51:20.554481Z",
          "iopub.status.idle": "2023-09-01T15:51:21.096662Z",
          "shell.execute_reply": "2023-09-01T15:51:21.095641Z"
        },
        "papermill": {
          "duration": 0.553496,
          "end_time": "2023-09-01T15:51:21.099280",
          "exception": false,
          "start_time": "2023-09-01T15:51:20.545784",
          "status": "completed"
        },
        "tags": []
      },
      "outputs": [
        {
          "name": "stdout",
          "output_type": "stream",
          "text": [
            "env: JAX_ENABLE_X64=0\n",
            "env: JAX_PLATFORM_NAME=cpu\n",
            "env: XLA_FLAGS=--xla_gpu_cuda_data_dir=/usr/lib/cuda\n"
          ]
        },
        {
          "name": "stdout",
          "output_type": "stream",
          "text": [
            "cpu\n"
          ]
        }
      ],
      "source": [
        "# select float32 or float64 as default dtype\n",
        "%env JAX_ENABLE_X64=0\n",
        "\n",
        "# select cpu or gpu\n",
        "%env JAX_PLATFORM_NAME=cpu\n",
        "\n",
        "# set custom CUDA location for gpu:\n",
        "%env XLA_FLAGS=--xla_gpu_cuda_data_dir=/usr/lib/cuda\n",
        "\n",
        "# Using GPU?\n",
        "from jax.lib import xla_bridge\n",
        "print(xla_bridge.get_backend().platform)"
      ]
    },
    {
      "cell_type": "markdown",
      "id": "4938b729-8b27-406f-b5fd-e118a9fb39f1",
      "metadata": {
        "papermill": {
          "duration": 0.007886,
          "end_time": "2023-09-01T15:51:21.115730",
          "exception": false,
          "start_time": "2023-09-01T15:51:21.107844",
          "status": "completed"
        },
        "tags": []
      },
      "source": [
        "## Imports"
      ]
    },
    {
      "cell_type": "code",
      "execution_count": 2,
      "id": "e0450fde",
      "metadata": {
        "execution": {
          "iopub.execute_input": "2023-09-01T15:51:21.133603Z",
          "iopub.status.busy": "2023-09-01T15:51:21.132629Z",
          "iopub.status.idle": "2023-09-01T15:51:22.108943Z",
          "shell.execute_reply": "2023-09-01T15:51:22.108061Z"
        },
        "papermill": {
          "duration": 0.987742,
          "end_time": "2023-09-01T15:51:22.111273",
          "exception": false,
          "start_time": "2023-09-01T15:51:21.123531",
          "status": "completed"
        },
        "tags": []
      },
      "outputs": [],
      "source": [
        "from functools import partial\n",
        "\n",
        "import jax\n",
        "import jax.example_libraries.optimizers as opt\n",
        "import jax.numpy as jnp\n",
        "import matplotlib.pyplot as plt  # plotting\n",
        "import sax\n",
        "from tqdm.notebook import trange"
      ]
    },
    {
      "cell_type": "markdown",
      "id": "8c4d4c4e",
      "metadata": {
        "papermill": {
          "duration": 0.008626,
          "end_time": "2023-09-01T15:51:22.128201",
          "exception": false,
          "start_time": "2023-09-01T15:51:22.119575",
          "status": "completed"
        },
        "tags": []
      },
      "source": [
        "## Scatter *dictionaries*\n",
        "The core datastructure for specifying scatter parameters in SAX is a dictionary... more specifically a dictionary which maps a port combination (2-tuple) to a scatter parameter (or an array of scatter parameters when considering multiple wavelengths for example). Such a specific dictionary mapping is called ann `SDict` in SAX (`SDict \u2248 Dict[Tuple[str,str], float]`).\n",
        "\n",
        "Dictionaries are in fact much better suited for characterizing S-parameters than, say, (jax-)numpy arrays due to the inherent sparse nature of scatter parameters. Moreover, dictonaries allow for string indexing, which makes them much more pleasant to use in this context. Let\u2019s for example create an `SDict` for a 50/50 coupler:"
      ]
    },
    {
      "cell_type": "markdown",
      "id": "a7f90205",
      "metadata": {
        "papermill": {
          "duration": 0.008025,
          "end_time": "2023-09-01T15:51:22.144086",
          "exception": false,
          "start_time": "2023-09-01T15:51:22.136061",
          "status": "completed"
        },
        "tags": []
      },
      "source": [
        "```\n",
        "in1          out1\n",
        "   \\        /\n",
        "    ========\n",
        "   /        \\\n",
        "in0          out0\n",
        "```"
      ]
    },
    {
      "cell_type": "code",
      "execution_count": 3,
      "id": "89f215e8",
      "metadata": {
        "execution": {
          "iopub.execute_input": "2023-09-01T15:51:22.162495Z",
          "iopub.status.busy": "2023-09-01T15:51:22.161521Z",
          "iopub.status.idle": "2023-09-01T15:51:22.172382Z",
          "shell.execute_reply": "2023-09-01T15:51:22.171839Z"
        },
        "papermill": {
          "duration": 0.021794,
          "end_time": "2023-09-01T15:51:22.173746",
          "exception": false,
          "start_time": "2023-09-01T15:51:22.151952",
          "status": "completed"
        },
        "tags": []
      },
      "outputs": [
        {
          "data": {
            "text/plain": [
              "{('in0', 'out0'): 0.7071067811865476,\n",
              " ('out0', 'in0'): 0.7071067811865476,\n",
              " ('in0', 'out1'): 0.7071067811865476j,\n",
              " ('out1', 'in0'): 0.7071067811865476j,\n",
              " ('in1', 'out0'): 0.7071067811865476j,\n",
              " ('out0', 'in1'): 0.7071067811865476j,\n",
              " ('in1', 'out1'): 0.7071067811865476,\n",
              " ('out1', 'in1'): 0.7071067811865476}"
            ]
          },
          "execution_count": 3,
          "metadata": {},
          "output_type": "execute_result"
        }
      ],
      "source": [
        "coupling = 0.5\n",
        "kappa = coupling ** 0.5\n",
        "tau = (1 - coupling) ** 0.5\n",
        "coupler_dict = {\n",
        "    (\"in0\", \"out0\"): tau,\n",
        "    (\"out0\", \"in0\"): tau,\n",
        "    (\"in0\", \"out1\"): 1j * kappa,\n",
        "    (\"out1\", \"in0\"): 1j * kappa,\n",
        "    (\"in1\", \"out0\"): 1j * kappa,\n",
        "    (\"out0\", \"in1\"): 1j * kappa,\n",
        "    (\"in1\", \"out1\"): tau,\n",
        "    (\"out1\", \"in1\"): tau,\n",
        "}\n",
        "coupler_dict"
      ]
    },
    {
      "cell_type": "markdown",
      "id": "bb9cb2b6",
      "metadata": {
        "papermill": {
          "duration": 0.008317,
          "end_time": "2023-09-01T15:51:22.190382",
          "exception": false,
          "start_time": "2023-09-01T15:51:22.182065",
          "status": "completed"
        },
        "tags": []
      },
      "source": [
        "Only the non-zero port combinations need to be specified. Any non-existent port-combination (for example `(\"in0\", \"in1\")`) is considered to be zero by SAX.\n",
        "\n",
        "Obviously, it can still be tedious to specify every port in the circuit manually. SAX therefore offers the `reciprocal` function, which auto-fills the reverse connection if the forward connection exist. For example:"
      ]
    },
    {
      "cell_type": "code",
      "execution_count": 4,
      "id": "494f445d",
      "metadata": {
        "execution": {
          "iopub.execute_input": "2023-09-01T15:51:22.209241Z",
          "iopub.status.busy": "2023-09-01T15:51:22.208283Z",
          "iopub.status.idle": "2023-09-01T15:51:22.217588Z",
          "shell.execute_reply": "2023-09-01T15:51:22.216939Z"
        },
        "papermill": {
          "duration": 0.020523,
          "end_time": "2023-09-01T15:51:22.219046",
          "exception": false,
          "start_time": "2023-09-01T15:51:22.198523",
          "status": "completed"
        },
        "tags": []
      },
      "outputs": [
        {
          "data": {
            "text/plain": [
              "{('in0', 'out0'): 0.7071067811865476,\n",
              " ('in0', 'out1'): 0.7071067811865476j,\n",
              " ('in1', 'out0'): 0.7071067811865476j,\n",
              " ('in1', 'out1'): 0.7071067811865476,\n",
              " ('out0', 'in0'): 0.7071067811865476,\n",
              " ('out1', 'in0'): 0.7071067811865476j,\n",
              " ('out0', 'in1'): 0.7071067811865476j,\n",
              " ('out1', 'in1'): 0.7071067811865476}"
            ]
          },
          "execution_count": 4,
          "metadata": {},
          "output_type": "execute_result"
        }
      ],
      "source": [
        "coupler_dict = sax.reciprocal(\n",
        "    {\n",
        "        (\"in0\", \"out0\"): tau,\n",
        "        (\"in0\", \"out1\"): 1j * kappa,\n",
        "        (\"in1\", \"out0\"): 1j * kappa,\n",
        "        (\"in1\", \"out1\"): tau,\n",
        "    }\n",
        ")\n",
        "\n",
        "coupler_dict"
      ]
    },
    {
      "cell_type": "markdown",
      "id": "67e730f6",
      "metadata": {
        "papermill": {
          "duration": 0.008433,
          "end_time": "2023-09-01T15:51:22.236259",
          "exception": false,
          "start_time": "2023-09-01T15:51:22.227826",
          "status": "completed"
        },
        "tags": []
      },
      "source": [
        "## Parametrized Models"
      ]
    },
    {
      "cell_type": "markdown",
      "id": "ec1e1214",
      "metadata": {
        "papermill": {
          "duration": 0.008331,
          "end_time": "2023-09-01T15:51:22.254184",
          "exception": false,
          "start_time": "2023-09-01T15:51:22.245853",
          "status": "completed"
        },
        "tags": []
      },
      "source": [
        "Constructing such an `SDict` is easy, however, usually we're more interested in having parametrized models for our components. To parametrize the coupler `SDict`, just wrap it in a function to obtain a SAX `Model`, which is a keyword-only function mapping to an `SDict`:"
      ]
    },
    {
      "cell_type": "code",
      "execution_count": 5,
      "id": "33efb99f",
      "metadata": {
        "execution": {
          "iopub.execute_input": "2023-09-01T15:51:22.273359Z",
          "iopub.status.busy": "2023-09-01T15:51:22.272212Z",
          "iopub.status.idle": "2023-09-01T15:51:22.282180Z",
          "shell.execute_reply": "2023-09-01T15:51:22.281301Z"
        },
        "papermill": {
          "duration": 0.021168,
          "end_time": "2023-09-01T15:51:22.283648",
          "exception": false,
          "start_time": "2023-09-01T15:51:22.262480",
          "status": "completed"
        },
        "tags": []
      },
      "outputs": [
        {
          "data": {
            "text/plain": [
              "{('in0', 'out0'): 0.8366600265340756,\n",
              " ('in0', 'out1'): 0.5477225575051661j,\n",
              " ('in1', 'out0'): 0.5477225575051661j,\n",
              " ('in1', 'out1'): 0.8366600265340756,\n",
              " ('out0', 'in0'): 0.8366600265340756,\n",
              " ('out1', 'in0'): 0.5477225575051661j,\n",
              " ('out0', 'in1'): 0.5477225575051661j,\n",
              " ('out1', 'in1'): 0.8366600265340756}"
            ]
          },
          "execution_count": 5,
          "metadata": {},
          "output_type": "execute_result"
        }
      ],
      "source": [
        "def coupler(coupling=0.5) -> sax.SDict:\n",
        "    kappa = coupling ** 0.5\n",
        "    tau = (1 - coupling) ** 0.5\n",
        "    coupler_dict = sax.reciprocal(\n",
        "        {\n",
        "            (\"in0\", \"out0\"): tau,\n",
        "            (\"in0\", \"out1\"): 1j * kappa,\n",
        "            (\"in1\", \"out0\"): 1j * kappa,\n",
        "            (\"in1\", \"out1\"): tau,\n",
        "        }\n",
        "    )\n",
        "    return coupler_dict\n",
        "\n",
        "\n",
        "coupler(coupling=0.3)"
      ]
    },
    {
      "cell_type": "markdown",
      "id": "4ef93f65",
      "metadata": {
        "papermill": {
          "duration": 0.008552,
          "end_time": "2023-09-01T15:51:22.300719",
          "exception": false,
          "start_time": "2023-09-01T15:51:22.292167",
          "status": "completed"
        },
        "tags": []
      },
      "source": [
        "We can define a waveguide in the same way:"
      ]
    },
    {
      "cell_type": "code",
      "execution_count": 6,
      "id": "5eac9176",
      "metadata": {
        "execution": {
          "iopub.execute_input": "2023-09-01T15:51:22.320663Z",
          "iopub.status.busy": "2023-09-01T15:51:22.319814Z",
          "iopub.status.idle": "2023-09-01T15:51:22.325059Z",
          "shell.execute_reply": "2023-09-01T15:51:22.324459Z"
        },
        "papermill": {
          "duration": 0.017067,
          "end_time": "2023-09-01T15:51:22.326610",
          "exception": false,
          "start_time": "2023-09-01T15:51:22.309543",
          "status": "completed"
        },
        "tags": []
      },
      "outputs": [],
      "source": [
        "def waveguide(wl=1.55, wl0=1.55, neff=2.34, ng=3.4, length=10.0, loss=0.0) -> sax.SDict:\n",
        "    dwl = wl - wl0\n",
        "    dneff_dwl = (ng - neff) / wl0\n",
        "    neff = neff - dwl * dneff_dwl\n",
        "    phase = 2 * jnp.pi * neff * length / wl\n",
        "    transmission = 10 ** (-loss * length / 20) * jnp.exp(1j * phase)\n",
        "    sdict = sax.reciprocal(\n",
        "        {\n",
        "            (\"in0\", \"out0\"): transmission,\n",
        "        }\n",
        "    )\n",
        "    return sdict"
      ]
    },
    {
      "cell_type": "markdown",
      "id": "67713c18",
      "metadata": {
        "papermill": {
          "duration": 0.008348,
          "end_time": "2023-09-01T15:51:22.343824",
          "exception": false,
          "start_time": "2023-09-01T15:51:22.335476",
          "status": "completed"
        },
        "tags": []
      },
      "source": [
        "That's pretty straightforward. Let's now move on to parametrized circuits:"
      ]
    },
    {
      "cell_type": "markdown",
      "id": "579a9ce1",
      "metadata": {
        "papermill": {
          "duration": 0.008181,
          "end_time": "2023-09-01T15:51:22.360446",
          "exception": false,
          "start_time": "2023-09-01T15:51:22.352265",
          "status": "completed"
        },
        "tags": []
      },
      "source": [
        "## Circuit Models"
      ]
    },
    {
      "cell_type": "markdown",
      "id": "cc3c78a0",
      "metadata": {
        "papermill": {
          "duration": 0.008152,
          "end_time": "2023-09-01T15:51:22.377288",
          "exception": false,
          "start_time": "2023-09-01T15:51:22.369136",
          "status": "completed"
        },
        "tags": []
      },
      "source": [
        "Existing models can now be combined into a circuit using `sax.circuit`, which basically creates a new `Model` function:"
      ]
    },
    {
      "cell_type": "code",
      "execution_count": 7,
      "id": "d6885e1d",
      "metadata": {
        "execution": {
          "iopub.execute_input": "2023-09-01T15:51:22.396245Z",
          "iopub.status.busy": "2023-09-01T15:51:22.395387Z",
          "iopub.status.idle": "2023-09-01T15:51:22.410670Z",
          "shell.execute_reply": "2023-09-01T15:51:22.410026Z"
        },
        "papermill": {
          "duration": 0.027064,
          "end_time": "2023-09-01T15:51:22.412565",
          "exception": false,
          "start_time": "2023-09-01T15:51:22.385501",
          "status": "completed"
        },
        "tags": []
      },
      "outputs": [],
      "source": [
        "mzi, info = sax.circuit(\n",
        "    netlist={\n",
        "        \"instances\": {\n",
        "            \"lft\": \"coupler\",\n",
        "            \"top\": \"waveguide\",\n",
        "            \"btm\": \"waveguide\",\n",
        "            \"rgt\": \"coupler\",\n",
        "        },\n",
        "        \"connections\": {\n",
        "            \"lft,out0\": \"btm,in0\",\n",
        "            \"btm,out0\": \"rgt,in0\",\n",
        "            \"lft,out1\": \"top,in0\",\n",
        "            \"top,out0\": \"rgt,in1\",\n",
        "        },\n",
        "        \"ports\": {\n",
        "            \"in0\": \"lft,in0\",\n",
        "            \"in1\": \"lft,in1\",\n",
        "            \"out0\": \"rgt,out0\",\n",
        "            \"out1\": \"rgt,out1\",\n",
        "        },\n",
        "    },\n",
        "    models={\n",
        "        \"coupler\": coupler,\n",
        "        \"waveguide\": waveguide,\n",
        "    }\n",
        ")"
      ]
    },
    {
      "cell_type": "code",
      "execution_count": 8,
      "id": "e95325c6",
      "metadata": {
        "execution": {
          "iopub.execute_input": "2023-09-01T15:51:22.430766Z",
          "iopub.status.busy": "2023-09-01T15:51:22.430472Z",
          "iopub.status.idle": "2023-09-01T15:51:22.481034Z",
          "shell.execute_reply": "2023-09-01T15:51:22.480309Z"
        },
        "papermill": {
          "duration": 0.062001,
          "end_time": "2023-09-01T15:51:22.482855",
          "exception": false,
          "start_time": "2023-09-01T15:51:22.420854",
          "status": "completed"
        },
        "tags": []
      },
      "outputs": [],
      "source": [
        "mzi?"
      ]
    },
    {
      "cell_type": "markdown",
      "id": "d2c74cff",
      "metadata": {
        "papermill": {
          "duration": 0.009245,
          "end_time": "2023-09-01T15:51:22.500885",
          "exception": false,
          "start_time": "2023-09-01T15:51:22.491640",
          "status": "completed"
        },
        "tags": []
      },
      "source": [
        "The `circuit` function just creates a similar function as we created for the waveguide and the coupler, but in stead of taking parameters directly it takes parameter *dictionaries* for each of the instances in the circuit. The keys in these parameter dictionaries should correspond to the keyword arguments of each individual subcomponent. "
      ]
    },
    {
      "cell_type": "markdown",
      "id": "ba1202d1",
      "metadata": {
        "papermill": {
          "duration": 0.008325,
          "end_time": "2023-09-01T15:51:22.517574",
          "exception": false,
          "start_time": "2023-09-01T15:51:22.509249",
          "status": "completed"
        },
        "tags": []
      },
      "source": [
        "Let's now do a simulation for the MZI we just constructed:"
      ]
    },
    {
      "cell_type": "code",
      "execution_count": 9,
      "id": "f2108f6a",
      "metadata": {
        "execution": {
          "iopub.execute_input": "2023-09-01T15:51:22.536232Z",
          "iopub.status.busy": "2023-09-01T15:51:22.535554Z",
          "iopub.status.idle": "2023-09-01T15:51:24.966034Z",
          "shell.execute_reply": "2023-09-01T15:51:24.965306Z"
        },
        "papermill": {
          "duration": 2.444197,
          "end_time": "2023-09-01T15:51:24.970133",
          "exception": false,
          "start_time": "2023-09-01T15:51:22.525936",
          "status": "completed"
        },
        "tags": []
      },
      "outputs": [
        {
          "name": "stdout",
          "output_type": "stream",
          "text": [
            "CPU times: user 2.4 s, sys: 20.7 ms, total: 2.42 s\n",
            "Wall time: 2.42 s\n"
          ]
        },
        {
          "data": {
            "text/plain": [
              "{('in1', 'in1'): Array(0.+0.j, dtype=complex128),\n",
              " ('in1', 'in0'): Array(0.+0.j, dtype=complex128),\n",
              " ('in0', 'in1'): Array(0.+0.j, dtype=complex128),\n",
              " ('in0', 'in0'): Array(0.+0.j, dtype=complex128),\n",
              " ('out1', 'out1'): Array(0.+0.j, dtype=complex128),\n",
              " ('out1', 'out0'): Array(0.+0.j, dtype=complex128),\n",
              " ('out1', 'in1'): Array(0.+0.j, dtype=complex128),\n",
              " ('out1', 'in0'): Array(-0.57126822+0.82076344j, dtype=complex128),\n",
              " ('out0', 'out1'): Array(0.+0.j, dtype=complex128),\n",
              " ('out0', 'out0'): Array(0.+0.j, dtype=complex128),\n",
              " ('out0', 'in1'): Array(-0.57126822+0.82076344j, dtype=complex128),\n",
              " ('out0', 'in0'): Array(0.+0.j, dtype=complex128),\n",
              " ('in1', 'out1'): Array(0.+0.j, dtype=complex128),\n",
              " ('in1', 'out0'): Array(-0.57126822+0.82076344j, dtype=complex128),\n",
              " ('in0', 'out1'): Array(-0.57126822+0.82076344j, dtype=complex128),\n",
              " ('in0', 'out0'): Array(0.+0.j, dtype=complex128)}"
            ]
          },
          "execution_count": 9,
          "metadata": {},
          "output_type": "execute_result"
        }
      ],
      "source": [
        "%time mzi()"
      ]
    },
    {
      "cell_type": "code",
      "execution_count": 10,
      "id": "cb43b835",
      "metadata": {
        "execution": {
          "iopub.execute_input": "2023-09-01T15:51:24.990407Z",
          "iopub.status.busy": "2023-09-01T15:51:24.989553Z",
          "iopub.status.idle": "2023-09-01T15:51:24.994582Z",
          "shell.execute_reply": "2023-09-01T15:51:24.993625Z"
        },
        "papermill": {
          "duration": 0.016965,
          "end_time": "2023-09-01T15:51:24.996131",
          "exception": false,
          "start_time": "2023-09-01T15:51:24.979166",
          "status": "completed"
        },
        "tags": []
      },
      "outputs": [],
      "source": [
        "mzi2 = jax.jit(mzi)"
      ]
    },
    {
      "cell_type": "code",
      "execution_count": 11,
      "id": "61f2bb6e",
      "metadata": {
        "execution": {
          "iopub.execute_input": "2023-09-01T15:51:25.016147Z",
          "iopub.status.busy": "2023-09-01T15:51:25.015678Z",
          "iopub.status.idle": "2023-09-01T15:51:25.723462Z",
          "shell.execute_reply": "2023-09-01T15:51:25.722819Z"
        },
        "papermill": {
          "duration": 0.719908,
          "end_time": "2023-09-01T15:51:25.725027",
          "exception": false,
          "start_time": "2023-09-01T15:51:25.005119",
          "status": "completed"
        },
        "tags": []
      },
      "outputs": [
        {
          "name": "stdout",
          "output_type": "stream",
          "text": [
            "CPU times: user 716 ms, sys: 16.6 ms, total: 733 ms\n",
            "Wall time: 696 ms\n"
          ]
        },
        {
          "data": {
            "text/plain": [
              "{('in0', 'in0'): Array(0.+0.j, dtype=complex128),\n",
              " ('in0', 'in1'): Array(0.+0.j, dtype=complex128),\n",
              " ('in0', 'out0'): Array(0.+0.j, dtype=complex128),\n",
              " ('in0', 'out1'): Array(-0.57126822+0.82076344j, dtype=complex128),\n",
              " ('in1', 'in0'): Array(0.+0.j, dtype=complex128),\n",
              " ('in1', 'in1'): Array(0.+0.j, dtype=complex128),\n",
              " ('in1', 'out0'): Array(-0.57126822+0.82076344j, dtype=complex128),\n",
              " ('in1', 'out1'): Array(0.+0.j, dtype=complex128),\n",
              " ('out0', 'in0'): Array(0.+0.j, dtype=complex128),\n",
              " ('out0', 'in1'): Array(-0.57126822+0.82076344j, dtype=complex128),\n",
              " ('out0', 'out0'): Array(0.+0.j, dtype=complex128),\n",
              " ('out0', 'out1'): Array(0.+0.j, dtype=complex128),\n",
              " ('out1', 'in0'): Array(-0.57126822+0.82076344j, dtype=complex128),\n",
              " ('out1', 'in1'): Array(0.+0.j, dtype=complex128),\n",
              " ('out1', 'out0'): Array(0.+0.j, dtype=complex128),\n",
              " ('out1', 'out1'): Array(0.+0.j, dtype=complex128)}"
            ]
          },
          "execution_count": 11,
          "metadata": {},
          "output_type": "execute_result"
        }
      ],
      "source": [
        "%time mzi2()"
      ]
    },
    {
      "cell_type": "code",
      "execution_count": 12,
      "id": "6000f608-6814-436d-af02-a54dc7d0da85",
      "metadata": {
        "execution": {
          "iopub.execute_input": "2023-09-01T15:51:25.745921Z",
          "iopub.status.busy": "2023-09-01T15:51:25.745220Z",
          "iopub.status.idle": "2023-09-01T15:51:25.754975Z",
          "shell.execute_reply": "2023-09-01T15:51:25.754290Z"
        },
        "papermill": {
          "duration": 0.022278,
          "end_time": "2023-09-01T15:51:25.756431",
          "exception": false,
          "start_time": "2023-09-01T15:51:25.734153",
          "status": "completed"
        },
        "tags": []
      },
      "outputs": [
        {
          "name": "stdout",
          "output_type": "stream",
          "text": [
            "CPU times: user 103 \u00b5s, sys: 7 \u00b5s, total: 110 \u00b5s\n",
            "Wall time: 114 \u00b5s\n"
          ]
        },
        {
          "data": {
            "text/plain": [
              "{('in0', 'in0'): Array(0.+0.j, dtype=complex128),\n",
              " ('in0', 'in1'): Array(0.+0.j, dtype=complex128),\n",
              " ('in0', 'out0'): Array(0.+0.j, dtype=complex128),\n",
              " ('in0', 'out1'): Array(-0.57126822+0.82076344j, dtype=complex128),\n",
              " ('in1', 'in0'): Array(0.+0.j, dtype=complex128),\n",
              " ('in1', 'in1'): Array(0.+0.j, dtype=complex128),\n",
              " ('in1', 'out0'): Array(-0.57126822+0.82076344j, dtype=complex128),\n",
              " ('in1', 'out1'): Array(0.+0.j, dtype=complex128),\n",
              " ('out0', 'in0'): Array(0.+0.j, dtype=complex128),\n",
              " ('out0', 'in1'): Array(-0.57126822+0.82076344j, dtype=complex128),\n",
              " ('out0', 'out0'): Array(0.+0.j, dtype=complex128),\n",
              " ('out0', 'out1'): Array(0.+0.j, dtype=complex128),\n",
              " ('out1', 'in0'): Array(-0.57126822+0.82076344j, dtype=complex128),\n",
              " ('out1', 'in1'): Array(0.+0.j, dtype=complex128),\n",
              " ('out1', 'out0'): Array(0.+0.j, dtype=complex128),\n",
              " ('out1', 'out1'): Array(0.+0.j, dtype=complex128)}"
            ]
          },
          "execution_count": 12,
          "metadata": {},
          "output_type": "execute_result"
        }
      ],
      "source": [
        "%time mzi2()"
      ]
    },
    {
      "cell_type": "markdown",
      "id": "1e0d41ea",
      "metadata": {
        "papermill": {
          "duration": 0.009243,
          "end_time": "2023-09-01T15:51:25.775020",
          "exception": false,
          "start_time": "2023-09-01T15:51:25.765777",
          "status": "completed"
        },
        "tags": []
      },
      "source": [
        "Or in the case we want an MZI with different arm lengths:"
      ]
    },
    {
      "cell_type": "code",
      "execution_count": 13,
      "id": "4f53bdc3",
      "metadata": {
        "execution": {
          "iopub.execute_input": "2023-09-01T15:51:25.796852Z",
          "iopub.status.busy": "2023-09-01T15:51:25.796304Z",
          "iopub.status.idle": "2023-09-01T15:51:25.827746Z",
          "shell.execute_reply": "2023-09-01T15:51:25.826983Z"
        },
        "papermill": {
          "duration": 0.044476,
          "end_time": "2023-09-01T15:51:25.829350",
          "exception": false,
          "start_time": "2023-09-01T15:51:25.784874",
          "status": "completed"
        },
        "tags": []
      },
      "outputs": [
        {
          "data": {
            "text/plain": [
              "{('in1', 'in1'): Array(0.+0.j, dtype=complex128),\n",
              " ('in1', 'in0'): Array(0.+0.j, dtype=complex128),\n",
              " ('in0', 'in1'): Array(0.+0.j, dtype=complex128),\n",
              " ('in0', 'in0'): Array(0.+0.j, dtype=complex128),\n",
              " ('out1', 'out1'): Array(0.+0.j, dtype=complex128),\n",
              " ('out1', 'out0'): Array(0.+0.j, dtype=complex128),\n",
              " ('out1', 'in1'): Array(0.28072841-0.10397039j, dtype=complex128),\n",
              " ('out1', 'in0'): Array(0.89474612-0.33137758j, dtype=complex128),\n",
              " ('out0', 'out1'): Array(0.+0.j, dtype=complex128),\n",
              " ('out0', 'out0'): Array(0.+0.j, dtype=complex128),\n",
              " ('out0', 'in1'): Array(0.89474612-0.33137758j, dtype=complex128),\n",
              " ('out0', 'in0'): Array(-0.28072841+0.10397039j, dtype=complex128),\n",
              " ('in1', 'out1'): Array(0.28072841-0.10397039j, dtype=complex128),\n",
              " ('in1', 'out0'): Array(0.89474612-0.33137758j, dtype=complex128),\n",
              " ('in0', 'out1'): Array(0.89474612-0.33137758j, dtype=complex128),\n",
              " ('in0', 'out0'): Array(-0.28072841+0.10397039j, dtype=complex128)}"
            ]
          },
          "execution_count": 13,
          "metadata": {},
          "output_type": "execute_result"
        }
      ],
      "source": [
        "mzi(top={\"length\": 25.0}, btm={\"length\": 15.0})"
      ]
    },
    {
      "cell_type": "markdown",
      "id": "a331252a",
      "metadata": {
        "papermill": {
          "duration": 0.009484,
          "end_time": "2023-09-01T15:51:25.848434",
          "exception": false,
          "start_time": "2023-09-01T15:51:25.838950",
          "status": "completed"
        },
        "tags": []
      },
      "source": [
        "## Simulating the parametrized MZI"
      ]
    },
    {
      "cell_type": "markdown",
      "id": "4ba8626b",
      "metadata": {
        "papermill": {
          "duration": 0.009776,
          "end_time": "2023-09-01T15:51:25.867580",
          "exception": false,
          "start_time": "2023-09-01T15:51:25.857804",
          "status": "completed"
        },
        "tags": []
      },
      "source": [
        "We can simulate the above mzi for multiple wavelengths as well by specifying the wavelength at the top level of the circuit call. Each setting specified at the top level of the circuit call will be propagated to all subcomponents of the circuit which have that setting:"
      ]
    },
    {
      "cell_type": "code",
      "execution_count": 14,
      "id": "d6c8b5c9",
      "metadata": {
        "execution": {
          "iopub.execute_input": "2023-09-01T15:51:25.889077Z",
          "iopub.status.busy": "2023-09-01T15:51:25.888109Z",
          "iopub.status.idle": "2023-09-01T15:51:28.195430Z",
          "shell.execute_reply": "2023-09-01T15:51:28.194822Z"
        },
        "papermill": {
          "duration": 2.320019,
          "end_time": "2023-09-01T15:51:28.197158",
          "exception": false,
          "start_time": "2023-09-01T15:51:25.877139",
          "status": "completed"
        },
        "tags": []
      },
      "outputs": [
        {
          "name": "stdout",
          "output_type": "stream",
          "text": [
            "CPU times: user 2.23 s, sys: 35.7 ms, total: 2.27 s\n",
            "Wall time: 2.27 s\n"
          ]
        }
      ],
      "source": [
        "wl = jnp.linspace(1.51, 1.59, 1000)\n",
        "%time S = mzi(wl=wl, top={\"length\": 25.0}, btm={\"length\": 15.0})"
      ]
    },
    {
      "cell_type": "markdown",
      "id": "28d8cc75",
      "metadata": {
        "papermill": {
          "duration": 0.009606,
          "end_time": "2023-09-01T15:51:28.216348",
          "exception": false,
          "start_time": "2023-09-01T15:51:28.206742",
          "status": "completed"
        },
        "tags": []
      },
      "source": [
        "Let's see what this gives:"
      ]
    },
    {
      "cell_type": "code",
      "execution_count": 15,
      "id": "f7de73dc",
      "metadata": {
        "execution": {
          "iopub.execute_input": "2023-09-01T15:51:28.237212Z",
          "iopub.status.busy": "2023-09-01T15:51:28.236188Z",
          "iopub.status.idle": "2023-09-01T15:51:28.873030Z",
          "shell.execute_reply": "2023-09-01T15:51:28.872283Z"
        },
        "papermill": {
          "duration": 0.649058,
          "end_time": "2023-09-01T15:51:28.874715",
          "exception": false,
          "start_time": "2023-09-01T15:51:28.225657",
          "status": "completed"
        },
        "tags": []
      },
      "outputs": [
        {
          "data": {
            "image/png": "[encoded data removed]",
            "text/plain": [
              "<Figure size 640x480 with 1 Axes>"
            ]
          },
          "metadata": {},
          "output_type": "display_data"
        }
      ],
      "source": [
        "plt.plot(wl * 1e3, abs(S[\"in0\", \"out0\"]) ** 2)\n",
        "plt.ylim(-0.05, 1.05)\n",
        "plt.xlabel(\"\u03bb [nm]\")\n",
        "plt.ylabel(\"T\")\n",
        "plt.ylim(-0.05, 1.05)\n",
        "plt.show()"
      ]
    },
    {
      "cell_type": "markdown",
      "id": "eb9f0074",
      "metadata": {
        "papermill": {
          "duration": 0.010625,
          "end_time": "2023-09-01T15:51:28.895944",
          "exception": false,
          "start_time": "2023-09-01T15:51:28.885319",
          "status": "completed"
        },
        "tags": []
      },
      "source": [
        "## Optimization"
      ]
    },
    {
      "cell_type": "markdown",
      "id": "431aee51",
      "metadata": {
        "papermill": {
          "duration": 0.009997,
          "end_time": "2023-09-01T15:51:28.916025",
          "exception": false,
          "start_time": "2023-09-01T15:51:28.906028",
          "status": "completed"
        },
        "tags": []
      },
      "source": [
        "We'd like to optimize an MZI such that one of the minima is at 1550nm. To do this, we need to define a loss function for the circuit at 1550nm. This function should take the parameters that you want to optimize as positional arguments:"
      ]
    },
    {
      "cell_type": "code",
      "execution_count": 16,
      "id": "7dabe735",
      "metadata": {
        "execution": {
          "iopub.execute_input": "2023-09-01T15:51:28.937815Z",
          "iopub.status.busy": "2023-09-01T15:51:28.937451Z",
          "iopub.status.idle": "2023-09-01T15:51:28.945679Z",
          "shell.execute_reply": "2023-09-01T15:51:28.943021Z"
        },
        "papermill": {
          "duration": 0.023117,
          "end_time": "2023-09-01T15:51:28.949079",
          "exception": false,
          "start_time": "2023-09-01T15:51:28.925962",
          "status": "completed"
        },
        "tags": []
      },
      "outputs": [],
      "source": [
        "@jax.jit\n",
        "def loss(delta_length):\n",
        "    S = mzi(wl=1.55, top={\"length\": 15.0 + delta_length}, btm={\"length\": 15.0})\n",
        "    return (abs(S[\"in0\", \"out0\"]) ** 2).mean()"
      ]
    },
    {
      "cell_type": "code",
      "execution_count": 17,
      "id": "a60a8eab",
      "metadata": {
        "execution": {
          "iopub.execute_input": "2023-09-01T15:51:28.973903Z",
          "iopub.status.busy": "2023-09-01T15:51:28.973100Z",
          "iopub.status.idle": "2023-09-01T15:51:29.340603Z",
          "shell.execute_reply": "2023-09-01T15:51:29.339728Z"
        },
        "papermill": {
          "duration": 0.383196,
          "end_time": "2023-09-01T15:51:29.342726",
          "exception": false,
          "start_time": "2023-09-01T15:51:28.959530",
          "status": "completed"
        },
        "tags": []
      },
      "outputs": [
        {
          "name": "stdout",
          "output_type": "stream",
          "text": [
            "CPU times: user 364 ms, sys: 0 ns, total: 364 ms\n",
            "Wall time: 356 ms\n"
          ]
        },
        {
          "data": {
            "text/plain": [
              "Array(0.08961828, dtype=float64)"
            ]
          },
          "execution_count": 17,
          "metadata": {},
          "output_type": "execute_result"
        }
      ],
      "source": [
        "%time loss(10.0)"
      ]
    },
    {
      "cell_type": "markdown",
      "id": "af1eb06b",
      "metadata": {
        "papermill": {
          "duration": 0.012848,
          "end_time": "2023-09-01T15:51:29.370294",
          "exception": false,
          "start_time": "2023-09-01T15:51:29.357446",
          "status": "completed"
        },
        "tags": []
      },
      "source": [
        "We can use this loss function to define a grad function which works on the parameters of the loss function:"
      ]
    },
    {
      "cell_type": "code",
      "execution_count": 18,
      "id": "16369cba",
      "metadata": {
        "execution": {
          "iopub.execute_input": "2023-09-01T15:51:29.392622Z",
          "iopub.status.busy": "2023-09-01T15:51:29.391792Z",
          "iopub.status.idle": "2023-09-01T15:51:29.397096Z",
          "shell.execute_reply": "2023-09-01T15:51:29.396403Z"
        },
        "papermill": {
          "duration": 0.018366,
          "end_time": "2023-09-01T15:51:29.398776",
          "exception": false,
          "start_time": "2023-09-01T15:51:29.380410",
          "status": "completed"
        },
        "tags": []
      },
      "outputs": [],
      "source": [
        "grad = jax.jit(\n",
        "    jax.grad(\n",
        "        loss,\n",
        "        argnums=0,  # JAX gradient function for the first positional argument, jitted\n",
        "    )\n",
        ")"
      ]
    },
    {
      "cell_type": "markdown",
      "id": "2cd2f2cf",
      "metadata": {
        "papermill": {
          "duration": 0.01023,
          "end_time": "2023-09-01T15:51:29.419274",
          "exception": false,
          "start_time": "2023-09-01T15:51:29.409044",
          "status": "completed"
        },
        "tags": []
      },
      "source": [
        "Next, we need to define a JAX optimizer, which on its own is nothing more than three more functions:  an initialization function with which to initialize the optimizer state, an update function which will update the optimizer state (and with it the model parameters). The third function that's being returned will give the model parameters given the optimizer state."
      ]
    },
    {
      "cell_type": "code",
      "execution_count": 19,
      "id": "e553d69e",
      "metadata": {
        "execution": {
          "iopub.execute_input": "2023-09-01T15:51:29.441303Z",
          "iopub.status.busy": "2023-09-01T15:51:29.440883Z",
          "iopub.status.idle": "2023-09-01T15:51:29.458577Z",
          "shell.execute_reply": "2023-09-01T15:51:29.457816Z"
        },
        "papermill": {
          "duration": 0.031449,
          "end_time": "2023-09-01T15:51:29.460960",
          "exception": false,
          "start_time": "2023-09-01T15:51:29.429511",
          "status": "completed"
        },
        "tags": []
      },
      "outputs": [],
      "source": [
        "initial_delta_length = 10.0\n",
        "optim_init, optim_update, optim_params = opt.adam(step_size=0.1)\n",
        "optim_state = optim_init(initial_delta_length)"
      ]
    },
    {
      "cell_type": "markdown",
      "id": "e0a03fc2",
      "metadata": {
        "papermill": {
          "duration": 0.010619,
          "end_time": "2023-09-01T15:51:29.485193",
          "exception": false,
          "start_time": "2023-09-01T15:51:29.474574",
          "status": "completed"
        },
        "tags": []
      },
      "source": [
        "Given all this, a single training step can be defined:"
      ]
    },
    {
      "cell_type": "code",
      "execution_count": 20,
      "id": "eea4f7b8",
      "metadata": {
        "execution": {
          "iopub.execute_input": "2023-09-01T15:51:29.507254Z",
          "iopub.status.busy": "2023-09-01T15:51:29.506513Z",
          "iopub.status.idle": "2023-09-01T15:51:29.511374Z",
          "shell.execute_reply": "2023-09-01T15:51:29.510616Z"
        },
        "papermill": {
          "duration": 0.01918,
          "end_time": "2023-09-01T15:51:29.514387",
          "exception": false,
          "start_time": "2023-09-01T15:51:29.495207",
          "status": "completed"
        },
        "tags": []
      },
      "outputs": [],
      "source": [
        "def train_step(step, optim_state):\n",
        "    settings = optim_params(optim_state)\n",
        "    lossvalue = loss(settings)\n",
        "    gradvalue = grad(settings)\n",
        "    optim_state = optim_update(step, gradvalue, optim_state)\n",
        "    return lossvalue, optim_state"
      ]
    },
    {
      "cell_type": "markdown",
      "id": "ba1612df",
      "metadata": {
        "papermill": {
          "duration": 0.01026,
          "end_time": "2023-09-01T15:51:29.535652",
          "exception": false,
          "start_time": "2023-09-01T15:51:29.525392",
          "status": "completed"
        },
        "tags": []
      },
      "source": [
        "And we can use this step function to start the training of the MZI:"
      ]
    },
    {
      "cell_type": "code",
      "execution_count": 21,
      "id": "61ef4479",
      "metadata": {
        "execution": {
          "iopub.execute_input": "2023-09-01T15:51:29.558006Z",
          "iopub.status.busy": "2023-09-01T15:51:29.557559Z",
          "iopub.status.idle": "2023-09-01T15:51:37.213984Z",
          "shell.execute_reply": "2023-09-01T15:51:37.213214Z"
        },
        "papermill": {
          "duration": 7.669659,
          "end_time": "2023-09-01T15:51:37.215567",
          "exception": false,
          "start_time": "2023-09-01T15:51:29.545908",
          "status": "completed"
        },
        "tags": []
      },
      "outputs": [
        {
          "data": {
            "application/vnd.jupyter.widget-view+json": {
              "model_id": "170bb85175d14ff1b28b81716eadf616",
              "version_major": 2,
              "version_minor": 0
            },
            "text/plain": [
              "  0%|          | 0/300 [00:00<?, ?it/s]"
            ]
          },
          "metadata": {},
          "output_type": "display_data"
        }
      ],
      "source": [
        "range_ = trange(300)\n",
        "for step in range_:\n",
        "    lossvalue, optim_state = train_step(step, optim_state)\n",
        "    range_.set_postfix(loss=f\"{lossvalue:.6f}\")"
      ]
    },
    {
      "cell_type": "code",
      "execution_count": 22,
      "id": "eb9a1e20",
      "metadata": {
        "execution": {
          "iopub.execute_input": "2023-09-01T15:51:37.239748Z",
          "iopub.status.busy": "2023-09-01T15:51:37.239337Z",
          "iopub.status.idle": "2023-09-01T15:51:37.244650Z",
          "shell.execute_reply": "2023-09-01T15:51:37.243903Z"
        },
        "papermill": {
          "duration": 0.019362,
          "end_time": "2023-09-01T15:51:37.246106",
          "exception": false,
          "start_time": "2023-09-01T15:51:37.226744",
          "status": "completed"
        },
        "tags": []
      },
      "outputs": [
        {
          "data": {
            "text/plain": [
              "Array(9.93589744, dtype=float64)"
            ]
          },
          "execution_count": 22,
          "metadata": {},
          "output_type": "execute_result"
        }
      ],
      "source": [
        "delta_length = optim_params(optim_state)\n",
        "delta_length"
      ]
    },
    {
      "cell_type": "markdown",
      "id": "15d8754b",
      "metadata": {
        "papermill": {
          "duration": 0.010752,
          "end_time": "2023-09-01T15:51:37.267623",
          "exception": false,
          "start_time": "2023-09-01T15:51:37.256871",
          "status": "completed"
        },
        "tags": []
      },
      "source": [
        "Let's see what we've got over a range of wavelengths:"
      ]
    },
    {
      "cell_type": "code",
      "execution_count": 23,
      "id": "b36d10a3",
      "metadata": {
        "execution": {
          "iopub.execute_input": "2023-09-01T15:51:37.291270Z",
          "iopub.status.busy": "2023-09-01T15:51:37.290523Z",
          "iopub.status.idle": "2023-09-01T15:51:37.629459Z",
          "shell.execute_reply": "2023-09-01T15:51:37.628371Z"
        },
        "papermill": {
          "duration": 0.35354,
          "end_time": "2023-09-01T15:51:37.632031",
          "exception": false,
          "start_time": "2023-09-01T15:51:37.278491",
          "status": "completed"
        },
        "tags": []
      },
      "outputs": [
        {
          "data": {
            "image/png": "[encoded data removed]",
            "text/plain": [
              "<Figure size 640x480 with 1 Axes>"
            ]
          },
          "metadata": {},
          "output_type": "display_data"
        }
      ],
      "source": [
        "S = mzi(wl=wl, top={\"length\": 15.0 + delta_length}, btm={\"length\": 15.0})\n",
        "plt.plot(wl * 1e3, abs(S[\"in1\", \"out1\"]) ** 2)\n",
        "plt.xlabel(\"\u03bb [nm]\")\n",
        "plt.ylabel(\"T\")\n",
        "plt.ylim(-0.05, 1.05)\n",
        "plt.plot([1550, 1550], [0, 1])\n",
        "plt.show()"
      ]
    },
    {
      "cell_type": "markdown",
      "id": "a990da96",
      "metadata": {
        "papermill": {
          "duration": 0.012175,
          "end_time": "2023-09-01T15:51:37.656809",
          "exception": false,
          "start_time": "2023-09-01T15:51:37.644634",
          "status": "completed"
        },
        "tags": []
      },
      "source": [
        "The minimum of the MZI is perfectly located at 1550nm."
      ]
    },
    {
      "cell_type": "markdown",
      "id": "7d93aa85",
      "metadata": {
        "papermill": {
          "duration": 0.011577,
          "end_time": "2023-09-01T15:51:37.679777",
          "exception": false,
          "start_time": "2023-09-01T15:51:37.668200",
          "status": "completed"
        },
        "tags": []
      },
      "source": [
        "## MZI Chain"
      ]
    },
    {
      "cell_type": "markdown",
      "id": "9c312e13",
      "metadata": {
        "papermill": {
          "duration": 0.011275,
          "end_time": "2023-09-01T15:51:37.702255",
          "exception": false,
          "start_time": "2023-09-01T15:51:37.690980",
          "status": "completed"
        },
        "tags": []
      },
      "source": [
        "Let's now create a chain of MZIs. For this, we first create a subcomponent: a directional coupler with arms:\n",
        "\n",
        "\n",
        "```\n",
        "                                 top\n",
        "                            in0 ----- out0 -> out1\n",
        "    in1 <- in1        out1                 \n",
        "              \\  dc  /                  \n",
        "               ======                  \n",
        "              /      \\                \n",
        "    in0 <- in0        out0       btm    \n",
        "                            in0 ----- out0 -> out0\n",
        "```"
      ]
    },
    {
      "cell_type": "code",
      "execution_count": 24,
      "id": "1ebe80c2",
      "metadata": {
        "execution": {
          "iopub.execute_input": "2023-09-01T15:51:37.727725Z",
          "iopub.status.busy": "2023-09-01T15:51:37.726927Z",
          "iopub.status.idle": "2023-09-01T15:51:37.739032Z",
          "shell.execute_reply": "2023-09-01T15:51:37.738016Z"
        },
        "papermill": {
          "duration": 0.026457,
          "end_time": "2023-09-01T15:51:37.740552",
          "exception": false,
          "start_time": "2023-09-01T15:51:37.714095",
          "status": "completed"
        },
        "tags": []
      },
      "outputs": [],
      "source": [
        "dc_with_arms, info = sax.circuit(\n",
        "    netlist={\n",
        "        \"instances\": {\n",
        "            \"lft\": \"coupler\",\n",
        "            \"top\": \"waveguide\",\n",
        "            \"btm\": \"waveguide\",\n",
        "        },\n",
        "        \"connections\": {\n",
        "            \"lft,out0\": \"btm,in0\",\n",
        "            \"lft,out1\": \"top,in0\",\n",
        "        },\n",
        "        \"ports\": {\n",
        "            \"in0\": \"lft,in0\",\n",
        "            \"in1\": \"lft,in1\",\n",
        "            \"out0\": \"btm,out0\",\n",
        "            \"out1\": \"top,out0\",\n",
        "        },\n",
        "    },\n",
        "    models = {\n",
        "        \"coupler\": coupler,\n",
        "        \"waveguide\": waveguide,\n",
        "    }\n",
        ")"
      ]
    },
    {
      "cell_type": "markdown",
      "id": "1eda468f",
      "metadata": {
        "papermill": {
          "duration": 0.011762,
          "end_time": "2023-09-01T15:51:37.763782",
          "exception": false,
          "start_time": "2023-09-01T15:51:37.752020",
          "status": "completed"
        },
        "tags": []
      },
      "source": [
        "An MZI chain can now be created by cascading these directional couplers with arms:\n",
        "\n",
        "```\n",
        "      _    _    _    _             _    _  \n",
        "    \\/   \\/   \\/   \\/     ...    \\/   \\/   \n",
        "    /\\_  /\\_  /\\_  /\\_           /\\_  /\\_  \n",
        "```\n",
        "\n",
        "Let's create a *model factory* (`ModelFactory`) for this. In SAX, a *model factory* is any keyword-only function that generates a `Model`:"
      ]
    },
    {
      "cell_type": "code",
      "execution_count": 25,
      "id": "11c4ab07",
      "metadata": {
        "execution": {
          "iopub.execute_input": "2023-09-01T15:51:37.791233Z",
          "iopub.status.busy": "2023-09-01T15:51:37.790357Z",
          "iopub.status.idle": "2023-09-01T15:51:37.797831Z",
          "shell.execute_reply": "2023-09-01T15:51:37.797137Z"
        },
        "papermill": {
          "duration": 0.022034,
          "end_time": "2023-09-01T15:51:37.799499",
          "exception": false,
          "start_time": "2023-09-01T15:51:37.777465",
          "status": "completed"
        },
        "tags": []
      },
      "outputs": [],
      "source": [
        "def mzi_chain(num_mzis=1) -> sax.Model:\n",
        "    chain, _ = sax.circuit(\n",
        "        netlist={\n",
        "            \"instances\": {f\"dc{i}\": \"dc_with_arms\" for i in range(num_mzis + 1)},\n",
        "            \"connections\": {\n",
        "                **{f\"dc{i},out0\": f\"dc{i+1},in0\" for i in range(num_mzis)},\n",
        "                **{f\"dc{i},out1\": f\"dc{i+1},in1\" for i in range(num_mzis)},\n",
        "            },\n",
        "            \"ports\": {\n",
        "                \"in0\": f\"dc0,in0\",\n",
        "                \"in1\": f\"dc0,in1\",\n",
        "                \"out0\": f\"dc{num_mzis},out0\",\n",
        "                \"out1\": f\"dc{num_mzis},out1\",\n",
        "            },\n",
        "        },\n",
        "        models={\"dc_with_arms\": dc_with_arms},\n",
        "        modes=None\n",
        "    )\n",
        "    return chain"
      ]
    },
    {
      "cell_type": "markdown",
      "id": "03f225e9",
      "metadata": {
        "papermill": {
          "duration": 0.014317,
          "end_time": "2023-09-01T15:51:37.828436",
          "exception": false,
          "start_time": "2023-09-01T15:51:37.814119",
          "status": "completed"
        },
        "tags": []
      },
      "source": [
        "Let's for example create a chain with 15 MZIs. We can also update the settings dictionary as follows:"
      ]
    },
    {
      "cell_type": "code",
      "execution_count": 26,
      "id": "576d4de8",
      "metadata": {
        "execution": {
          "iopub.execute_input": "2023-09-01T15:51:37.857078Z",
          "iopub.status.busy": "2023-09-01T15:51:37.856258Z",
          "iopub.status.idle": "2023-09-01T15:51:37.886327Z",
          "shell.execute_reply": "2023-09-01T15:51:37.885652Z"
        },
        "papermill": {
          "duration": 0.045194,
          "end_time": "2023-09-01T15:51:37.888178",
          "exception": false,
          "start_time": "2023-09-01T15:51:37.842984",
          "status": "completed"
        },
        "tags": []
      },
      "outputs": [],
      "source": [
        "chain = mzi_chain(num_mzis=15)\n",
        "settings = sax.get_settings(chain)\n",
        "for dc in settings:\n",
        "    settings[dc][\"top\"][\"length\"] = 25.0\n",
        "    settings[dc][\"btm\"][\"length\"] = 15.0\n",
        "settings = sax.update_settings(settings, wl=jnp.linspace(1.5, 1.6, 1000))"
      ]
    },
    {
      "cell_type": "markdown",
      "id": "11e3a10f",
      "metadata": {
        "papermill": {
          "duration": 0.011341,
          "end_time": "2023-09-01T15:51:37.911002",
          "exception": false,
          "start_time": "2023-09-01T15:51:37.899661",
          "status": "completed"
        },
        "tags": []
      },
      "source": [
        "We can simulate this:"
      ]
    },
    {
      "cell_type": "code",
      "execution_count": 27,
      "id": "b6e1155a",
      "metadata": {
        "execution": {
          "iopub.execute_input": "2023-09-01T15:51:37.936173Z",
          "iopub.status.busy": "2023-09-01T15:51:37.935220Z",
          "iopub.status.idle": "2023-09-01T15:53:23.458570Z",
          "shell.execute_reply": "2023-09-01T15:53:23.449288Z"
        },
        "papermill": {
          "duration": 105.54209,
          "end_time": "2023-09-01T15:53:23.464252",
          "exception": false,
          "start_time": "2023-09-01T15:51:37.922162",
          "status": "completed"
        },
        "tags": []
      },
      "outputs": [
        {
          "name": "stdout",
          "output_type": "stream",
          "text": [
            "CPU times: user 1.65 s, sys: 19.9 ms, total: 1.67 s\n",
            "Wall time: 1.67 s\n"
          ]
        },
        {
          "name": "stdout",
          "output_type": "stream",
          "text": [
            "CPU times: user 1min 43s, sys: 450 ms, total: 1min 44s\n",
            "Wall time: 1min 43s\n",
            "CPU times: user 40.3 ms, sys: 41 \u00b5s, total: 40.3 ms\n",
            "Wall time: 40.4 ms\n"
          ]
        }
      ],
      "source": [
        "%time S = chain(**settings) # time to evaluate the MZI\n",
        "func = jax.jit(chain)\n",
        "%time S = func(**settings) # time to jit the MZI\n",
        "%time S = func(**settings) # time to evaluate the MZI after jitting"
      ]
    },
    {
      "cell_type": "markdown",
      "id": "70db7179",
      "metadata": {
        "papermill": {
          "duration": 0.01227,
          "end_time": "2023-09-01T15:53:23.488365",
          "exception": false,
          "start_time": "2023-09-01T15:53:23.476095",
          "status": "completed"
        },
        "tags": []
      },
      "source": [
        "Where we see that the unjitted evaluation of the MZI chain takes about a second, while the jitting of the MZI chain takes about two minutes (on a CPU). However, after the MZI chain has been jitted, the evaluation is in the order of about a millisecond!\n",
        "\n",
        "Anyway, let's see what this gives:"
      ]
    },
    {
      "cell_type": "code",
      "execution_count": 28,
      "id": "1e4a2aab",
      "metadata": {
        "execution": {
          "iopub.execute_input": "2023-09-01T15:53:23.514527Z",
          "iopub.status.busy": "2023-09-01T15:53:23.513755Z",
          "iopub.status.idle": "2023-09-01T15:53:23.672336Z",
          "shell.execute_reply": "2023-09-01T15:53:23.671699Z"
        },
        "papermill": {
          "duration": 0.173387,
          "end_time": "2023-09-01T15:53:23.674354",
          "exception": false,
          "start_time": "2023-09-01T15:53:23.500967",
          "status": "completed"
        },
        "tags": []
      },
      "outputs": [
        {
          "data": {
            "image/png": "[encoded data removed]",
            "text/plain": [
              "<Figure size 640x480 with 1 Axes>"
            ]
          },
          "metadata": {},
          "output_type": "display_data"
        }
      ],
      "source": [
        "plt.plot(1e3 * settings[\"dc0\"][\"top\"][\"wl\"], jnp.abs(S[\"in0\", \"out0\"]) ** 2)\n",
        "plt.ylim(-0.05, 1.05)\n",
        "plt.xlabel(\"\u03bb [nm]\")\n",
        "plt.ylabel(\"T\")\n",
        "plt.ylim(-0.05, 1.05)\n",
        "plt.show()"
      ]
    }
  ],
  "metadata": {
    "kernelspec": {
      "display_name": "sax",
      "language": "python",
      "name": "sax"
    },
    "language_info": {
      "codemirror_mode": {
        "name": "ipython",
        "version": 3
      },
      "file_extension": ".py",
      "mimetype": "text/x-python",
      "name": "python",
      "nbconvert_exporter": "python",
      "pygments_lexer": "ipython3",
      "version": "3.11.5"
    },
    "papermill": {
      "default_parameters": {},
      "duration": 125.771375,
      "end_time": "2023-09-01T15:53:24.911265",
      "environment_variables": {},
      "exception": null,
      "input_path": "./examples/01_quick_start.ipynb",
      "output_path": "./examples/01_quick_start.ipynb",
      "parameters": {},
      "start_time": "2023-09-01T15:51:19.139890",
      "version": "2.4.0"
    },
    "widgets": {
      "application/vnd.jupyter.widget-state+json": {
        "state": {
          "0c65697555954b009e9e8bb2a6d63f39": {
            "model_module": "@jupyter-widgets/controls",
            "model_module_version": "2.0.0",
            "model_name": "HTMLModel",
            "state": {
              "_dom_classes": [],
              "_model_module": "@jupyter-widgets/controls",
              "_model_module_version": "2.0.0",
              "_model_name": "HTMLModel",
              "_view_count": null,
              "_view_module": "@jupyter-widgets/controls",
              "_view_module_version": "2.0.0",
              "_view_name": "HTMLView",
              "description": "",
              "description_allow_html": false,
              "layout": "IPY_MODEL_d7ce9735f5c94545acabaebac536bb3e",
              "placeholder": "\u200b",
              "style": "IPY_MODEL_6df7e169d0524b3faa18a5644f3d3e85",
              "tabbable": null,
              "tooltip": null,
              "value": "100%"
            }
          },
          "170bb85175d14ff1b28b81716eadf616": {
            "model_module": "@jupyter-widgets/controls",
            "model_module_version": "2.0.0",
            "model_name": "HBoxModel",
            "state": {
              "_dom_classes": [],
              "_model_module": "@jupyter-widgets/controls",
              "_model_module_version": "2.0.0",
              "_model_name": "HBoxModel",
              "_view_count": null,
              "_view_module": "@jupyter-widgets/controls",
              "_view_module_version": "2.0.0",
              "_view_name": "HBoxView",
              "box_style": "",
              "children": [
                "IPY_MODEL_0c65697555954b009e9e8bb2a6d63f39",
                "IPY_MODEL_45c93ed3394b4f51947aabe53618fc6e",
                "IPY_MODEL_f965e262a9fa40ba9e1ea070827d36cc"
              ],
              "layout": "IPY_MODEL_c946becbe41a4306b4ef28cd61abd67a",
              "tabbable": null,
              "tooltip": null
            }
          },
          "22fae3d5892546b18a41d40f18674852": {
            "model_module": "@jupyter-widgets/base",
            "model_module_version": "2.0.0",
            "model_name": "LayoutModel",
            "state": {
              "_model_module": "@jupyter-widgets/base",
              "_model_module_version": "2.0.0",
              "_model_name": "LayoutModel",
              "_view_count": null,
              "_view_module": "@jupyter-widgets/base",
              "_view_module_version": "2.0.0",
              "_view_name": "LayoutView",
              "align_content": null,
              "align_items": null,
              "align_self": null,
              "border_bottom": null,
              "border_left": null,
              "border_right": null,
              "border_top": null,
              "bottom": null,
              "display": null,
              "flex": null,
              "flex_flow": null,
              "grid_area": null,
              "grid_auto_columns": null,
              "grid_auto_flow": null,
              "grid_auto_rows": null,
              "grid_column": null,
              "grid_gap": null,
              "grid_row": null,
              "grid_template_areas": null,
              "grid_template_columns": null,
              "grid_template_rows": null,
              "height": null,
              "justify_content": null,
              "justify_items": null,
              "left": null,
              "margin": null,
              "max_height": null,
              "max_width": null,
              "min_height": null,
              "min_width": null,
              "object_fit": null,
              "object_position": null,
              "order": null,
              "overflow": null,
              "padding": null,
              "right": null,
              "top": null,
              "visibility": null,
              "width": null
            }
          },
          "45c93ed3394b4f51947aabe53618fc6e": {
            "model_module": "@jupyter-widgets/controls",
            "model_module_version": "2.0.0",
            "model_name": "FloatProgressModel",
            "state": {
              "_dom_classes": [],
              "_model_module": "@jupyter-widgets/controls",
              "_model_module_version": "2.0.0",
              "_model_name": "FloatProgressModel",
              "_view_count": null,
              "_view_module": "@jupyter-widgets/controls",
              "_view_module_version": "2.0.0",
              "_view_name": "ProgressView",
              "bar_style": "success",
              "description": "",
              "description_allow_html": false,
              "layout": "IPY_MODEL_22fae3d5892546b18a41d40f18674852",
              "max": 300.0,
              "min": 0.0,
              "orientation": "horizontal",
              "style": "IPY_MODEL_972c7bee68b847a2ba6ef6ff0eeadf78",
              "tabbable": null,
              "tooltip": null,
              "value": 300.0
            }
          },
          "6df7e169d0524b3faa18a5644f3d3e85": {
            "model_module": "@jupyter-widgets/controls",
            "model_module_version": "2.0.0",
            "model_name": "HTMLStyleModel",
            "state": {
              "_model_module": "@jupyter-widgets/controls",
              "_model_module_version": "2.0.0",
              "_model_name": "HTMLStyleModel",
              "_view_count": null,
              "_view_module": "@jupyter-widgets/base",
              "_view_module_version": "2.0.0",
              "_view_name": "StyleView",
              "background": null,
              "description_width": "",
              "font_size": null,
              "text_color": null
            }
          },
          "6f2072a598044dbe8f552967e7118ee6": {
            "model_module": "@jupyter-widgets/base",
            "model_module_version": "2.0.0",
            "model_name": "LayoutModel",
            "state": {
              "_model_module": "@jupyter-widgets/base",
              "_model_module_version": "2.0.0",
              "_model_name": "LayoutModel",
              "_view_count": null,
              "_view_module": "@jupyter-widgets/base",
              "_view_module_version": "2.0.0",
              "_view_name": "LayoutView",
              "align_content": null,
              "align_items": null,
              "align_self": null,
              "border_bottom": null,
              "border_left": null,
              "border_right": null,
              "border_top": null,
              "bottom": null,
              "display": null,
              "flex": null,
              "flex_flow": null,
              "grid_area": null,
              "grid_auto_columns": null,
              "grid_auto_flow": null,
              "grid_auto_rows": null,
              "grid_column": null,
              "grid_gap": null,
              "grid_row": null,
              "grid_template_areas": null,
              "grid_template_columns": null,
              "grid_template_rows": null,
              "height": null,
              "justify_content": null,
              "justify_items": null,
              "left": null,
              "margin": null,
              "max_height": null,
              "max_width": null,
              "min_height": null,
              "min_width": null,
              "object_fit": null,
              "object_position": null,
              "order": null,
              "overflow": null,
              "padding": null,
              "right": null,
              "top": null,
              "visibility": null,
              "width": null
            }
          },
          "972c7bee68b847a2ba6ef6ff0eeadf78": {
            "model_module": "@jupyter-widgets/controls",
            "model_module_version": "2.0.0",
            "model_name": "ProgressStyleModel",
            "state": {
              "_model_module": "@jupyter-widgets/controls",
              "_model_module_version": "2.0.0",
              "_model_name": "ProgressStyleModel",
              "_view_count": null,
              "_view_module": "@jupyter-widgets/base",
              "_view_module_version": "2.0.0",
              "_view_name": "StyleView",
              "bar_color": null,
              "description_width": ""
            }
          },
          "c946becbe41a4306b4ef28cd61abd67a": {
            "model_module": "@jupyter-widgets/base",
            "model_module_version": "2.0.0",
            "model_name": "LayoutModel",
            "state": {
              "_model_module": "@jupyter-widgets/base",
              "_model_module_version": "2.0.0",
              "_model_name": "LayoutModel",
              "_view_count": null,
              "_view_module": "@jupyter-widgets/base",
              "_view_module_version": "2.0.0",
              "_view_name": "LayoutView",
              "align_content": null,
              "align_items": null,
              "align_self": null,
              "border_bottom": null,
              "border_left": null,
              "border_right": null,
              "border_top": null,
              "bottom": null,
              "display": null,
              "flex": null,
              "flex_flow": null,
              "grid_area": null,
              "grid_auto_columns": null,
              "grid_auto_flow": null,
              "grid_auto_rows": null,
              "grid_column": null,
              "grid_gap": null,
              "grid_row": null,
              "grid_template_areas": null,
              "grid_template_columns": null,
              "grid_template_rows": null,
              "height": null,
              "justify_content": null,
              "justify_items": null,
              "left": null,
              "margin": null,
              "max_height": null,
              "max_width": null,
              "min_height": null,
              "min_width": null,
              "object_fit": null,
              "object_position": null,
              "order": null,
              "overflow": null,
              "padding": null,
              "right": null,
              "top": null,
              "visibility": null,
              "width": null
            }
          },
          "d7ce9735f5c94545acabaebac536bb3e": {
            "model_module": "@jupyter-widgets/base",
            "model_module_version": "2.0.0",
            "model_name": "LayoutModel",
            "state": {
              "_model_module": "@jupyter-widgets/base",
              "_model_module_version": "2.0.0",
              "_model_name": "LayoutModel",
              "_view_count": null,
              "_view_module": "@jupyter-widgets/base",
              "_view_module_version": "2.0.0",
              "_view_name": "LayoutView",
              "align_content": null,
              "align_items": null,
              "align_self": null,
              "border_bottom": null,
              "border_left": null,
              "border_right": null,
              "border_top": null,
              "bottom": null,
              "display": null,
              "flex": null,
              "flex_flow": null,
              "grid_area": null,
              "grid_auto_columns": null,
              "grid_auto_flow": null,
              "grid_auto_rows": null,
              "grid_column": null,
              "grid_gap": null,
              "grid_row": null,
              "grid_template_areas": null,
              "grid_template_columns": null,
              "grid_template_rows": null,
              "height": null,
              "justify_content": null,
              "justify_items": null,
              "left": null,
              "margin": null,
              "max_height": null,
              "max_width": null,
              "min_height": null,
              "min_width": null,
              "object_fit": null,
              "object_position": null,
              "order": null,
              "overflow": null,
              "padding": null,
              "right": null,
              "top": null,
              "visibility": null,
              "width": null
            }
          },
          "e247b46fed914ebfa437059dc4d0df0d": {
            "model_module": "@jupyter-widgets/controls",
            "model_module_version": "2.0.0",
            "model_name": "HTMLStyleModel",
            "state": {
              "_model_module": "@jupyter-widgets/controls",
              "_model_module_version": "2.0.0",
              "_model_name": "HTMLStyleModel",
              "_view_count": null,
              "_view_module": "@jupyter-widgets/base",
              "_view_module_version": "2.0.0",
              "_view_name": "StyleView",
              "background": null,
              "description_width": "",
              "font_size": null,
              "text_color": null
            }
          },
          "f965e262a9fa40ba9e1ea070827d36cc": {
            "model_module": "@jupyter-widgets/controls",
            "model_module_version": "2.0.0",
            "model_name": "HTMLModel",
            "state": {
              "_dom_classes": [],
              "_model_module": "@jupyter-widgets/controls",
              "_model_module_version": "2.0.0",
              "_model_name": "HTMLModel",
              "_view_count": null,
              "_view_module": "@jupyter-widgets/controls",
              "_view_module_version": "2.0.0",
              "_view_name": "HTMLView",
              "description": "",
              "description_allow_html": false,
              "layout": "IPY_MODEL_6f2072a598044dbe8f552967e7118ee6",
              "placeholder": "\u200b",
              "style": "IPY_MODEL_e247b46fed914ebfa437059dc4d0df0d",
              "tabbable": null,
              "tooltip": null,
              "value": " 300/300 [00:07&lt;00:00, 46.10it/s, loss=0.000000]"
            }
          }
        },
        "version_major": 2,
        "version_minor": 0
      }
    }
  },
  "nbformat": 4,
  "nbformat_minor": 5
}