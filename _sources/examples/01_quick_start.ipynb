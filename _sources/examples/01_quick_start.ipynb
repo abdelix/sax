{
  "cells": [
    {
      "cell_type": "markdown",
      "id": "cac6d7e7",
      "metadata": {
        "tags": [
          "papermill-error-cell-tag"
        ]
      },
      "source": [
        "<span style=\"color:red; font-family:Helvetica Neue, Helvetica, Arial, sans-serif; font-size:2em;\">An Exception was encountered at '<a href=\"#papermill-error-cell\">In [26]</a>'.</span>"
      ]
    },
    {
      "cell_type": "markdown",
      "id": "ab894499",
      "metadata": {
        "papermill": {
          "duration": 0.008447,
          "end_time": "2023-09-01T16:50:03.352838",
          "exception": false,
          "start_time": "2023-09-01T16:50:03.344391",
          "status": "completed"
        },
        "tags": []
      },
      "source": [
        "# SAX Quick Start\n",
        "> Let's go over the core functionality of SAX."
      ]
    },
    {
      "cell_type": "markdown",
      "id": "3c91396d",
      "metadata": {
        "papermill": {
          "duration": 0.006614,
          "end_time": "2023-09-01T16:50:03.390468",
          "exception": false,
          "start_time": "2023-09-01T16:50:03.383854",
          "status": "completed"
        },
        "tags": []
      },
      "source": [
        "## Environment variables"
      ]
    },
    {
      "cell_type": "markdown",
      "id": "79240f32",
      "metadata": {
        "papermill": {
          "duration": 0.006279,
          "end_time": "2023-09-01T16:50:03.403235",
          "exception": false,
          "start_time": "2023-09-01T16:50:03.396956",
          "status": "completed"
        },
        "tags": []
      },
      "source": [
        "SAX is based on JAX... here are some useful environment variables for working with JAX:"
      ]
    },
    {
      "cell_type": "code",
      "execution_count": 1,
      "id": "2de648f8631b6e6e",
      "metadata": {
        "execution": {
          "iopub.execute_input": "2023-09-01T16:50:03.417171Z",
          "iopub.status.busy": "2023-09-01T16:50:03.416775Z",
          "iopub.status.idle": "2023-09-01T16:50:03.844243Z",
          "shell.execute_reply": "2023-09-01T16:50:03.843681Z"
        },
        "papermill": {
          "duration": 0.436065,
          "end_time": "2023-09-01T16:50:03.845591",
          "exception": false,
          "start_time": "2023-09-01T16:50:03.409526",
          "status": "completed"
        },
        "tags": []
      },
      "outputs": [
        {
          "name": "stdout",
          "output_type": "stream",
          "text": [
            "env: JAX_ENABLE_X64=0\n",
            "env: JAX_PLATFORM_NAME=cpu\n",
            "env: XLA_FLAGS=--xla_gpu_cuda_data_dir=/usr/lib/cuda\n"
          ]
        },
        {
          "name": "stdout",
          "output_type": "stream",
          "text": [
            "cpu\n"
          ]
        }
      ],
      "source": [
        "# select float32 or float64 as default dtype\n",
        "%env JAX_ENABLE_X64=0\n",
        "\n",
        "# select cpu or gpu\n",
        "%env JAX_PLATFORM_NAME=cpu\n",
        "\n",
        "# set custom CUDA location for gpu:\n",
        "%env XLA_FLAGS=--xla_gpu_cuda_data_dir=/usr/lib/cuda\n",
        "\n",
        "# Using GPU?\n",
        "from jax.lib import xla_bridge\n",
        "print(xla_bridge.get_backend().platform)"
      ]
    },
    {
      "cell_type": "markdown",
      "id": "4938b729-8b27-406f-b5fd-e118a9fb39f1",
      "metadata": {
        "papermill": {
          "duration": 0.00673,
          "end_time": "2023-09-01T16:50:03.859265",
          "exception": false,
          "start_time": "2023-09-01T16:50:03.852535",
          "status": "completed"
        },
        "tags": []
      },
      "source": [
        "## Imports"
      ]
    },
    {
      "cell_type": "code",
      "execution_count": 2,
      "id": "e0450fde",
      "metadata": {
        "execution": {
          "iopub.execute_input": "2023-09-01T16:50:03.874005Z",
          "iopub.status.busy": "2023-09-01T16:50:03.873290Z",
          "iopub.status.idle": "2023-09-01T16:50:04.646736Z",
          "shell.execute_reply": "2023-09-01T16:50:04.646146Z"
        },
        "papermill": {
          "duration": 0.782431,
          "end_time": "2023-09-01T16:50:04.648198",
          "exception": false,
          "start_time": "2023-09-01T16:50:03.865767",
          "status": "completed"
        },
        "tags": []
      },
      "outputs": [],
      "source": [
        "from functools import partial\n",
        "\n",
        "import jax\n",
        "import jax.example_libraries.optimizers as opt\n",
        "import jax.numpy as jnp\n",
        "import matplotlib.pyplot as plt  # plotting\n",
        "import sax\n",
        "from tqdm.notebook import trange"
      ]
    },
    {
      "cell_type": "markdown",
      "id": "8c4d4c4e",
      "metadata": {
        "papermill": {
          "duration": 0.0069,
          "end_time": "2023-09-01T16:50:04.662152",
          "exception": false,
          "start_time": "2023-09-01T16:50:04.655252",
          "status": "completed"
        },
        "tags": []
      },
      "source": [
        "## Scatter *dictionaries*\n",
        "The core datastructure for specifying scatter parameters in SAX is a dictionary... more specifically a dictionary which maps a port combination (2-tuple) to a scatter parameter (or an array of scatter parameters when considering multiple wavelengths for example). Such a specific dictionary mapping is called ann `SDict` in SAX (`SDict \u2248 Dict[Tuple[str,str], float]`).\n",
        "\n",
        "Dictionaries are in fact much better suited for characterizing S-parameters than, say, (jax-)numpy arrays due to the inherent sparse nature of scatter parameters. Moreover, dictonaries allow for string indexing, which makes them much more pleasant to use in this context. Let\u2019s for example create an `SDict` for a 50/50 coupler:"
      ]
    },
    {
      "cell_type": "markdown",
      "id": "a7f90205",
      "metadata": {
        "papermill": {
          "duration": 0.006434,
          "end_time": "2023-09-01T16:50:04.675152",
          "exception": false,
          "start_time": "2023-09-01T16:50:04.668718",
          "status": "completed"
        },
        "tags": []
      },
      "source": [
        "```\n",
        "in1          out1\n",
        "   \\        /\n",
        "    ========\n",
        "   /        \\\n",
        "in0          out0\n",
        "```"
      ]
    },
    {
      "cell_type": "code",
      "execution_count": 3,
      "id": "89f215e8",
      "metadata": {
        "execution": {
          "iopub.execute_input": "2023-09-01T16:50:04.689950Z",
          "iopub.status.busy": "2023-09-01T16:50:04.689126Z",
          "iopub.status.idle": "2023-09-01T16:50:04.696636Z",
          "shell.execute_reply": "2023-09-01T16:50:04.696139Z"
        },
        "papermill": {
          "duration": 0.016124,
          "end_time": "2023-09-01T16:50:04.697757",
          "exception": false,
          "start_time": "2023-09-01T16:50:04.681633",
          "status": "completed"
        },
        "tags": []
      },
      "outputs": [
        {
          "data": {
            "text/plain": [
              "{('in0', 'out0'): 0.7071067811865476,\n",
              " ('out0', 'in0'): 0.7071067811865476,\n",
              " ('in0', 'out1'): 0.7071067811865476j,\n",
              " ('out1', 'in0'): 0.7071067811865476j,\n",
              " ('in1', 'out0'): 0.7071067811865476j,\n",
              " ('out0', 'in1'): 0.7071067811865476j,\n",
              " ('in1', 'out1'): 0.7071067811865476,\n",
              " ('out1', 'in1'): 0.7071067811865476}"
            ]
          },
          "execution_count": 3,
          "metadata": {},
          "output_type": "execute_result"
        }
      ],
      "source": [
        "coupling = 0.5\n",
        "kappa = coupling ** 0.5\n",
        "tau = (1 - coupling) ** 0.5\n",
        "coupler_dict = {\n",
        "    (\"in0\", \"out0\"): tau,\n",
        "    (\"out0\", \"in0\"): tau,\n",
        "    (\"in0\", \"out1\"): 1j * kappa,\n",
        "    (\"out1\", \"in0\"): 1j * kappa,\n",
        "    (\"in1\", \"out0\"): 1j * kappa,\n",
        "    (\"out0\", \"in1\"): 1j * kappa,\n",
        "    (\"in1\", \"out1\"): tau,\n",
        "    (\"out1\", \"in1\"): tau,\n",
        "}\n",
        "coupler_dict"
      ]
    },
    {
      "cell_type": "markdown",
      "id": "bb9cb2b6",
      "metadata": {
        "papermill": {
          "duration": 0.006636,
          "end_time": "2023-09-01T16:50:04.711084",
          "exception": false,
          "start_time": "2023-09-01T16:50:04.704448",
          "status": "completed"
        },
        "tags": []
      },
      "source": [
        "Only the non-zero port combinations need to be specified. Any non-existent port-combination (for example `(\"in0\", \"in1\")`) is considered to be zero by SAX.\n",
        "\n",
        "Obviously, it can still be tedious to specify every port in the circuit manually. SAX therefore offers the `reciprocal` function, which auto-fills the reverse connection if the forward connection exist. For example:"
      ]
    },
    {
      "cell_type": "code",
      "execution_count": 4,
      "id": "494f445d",
      "metadata": {
        "execution": {
          "iopub.execute_input": "2023-09-01T16:50:04.725655Z",
          "iopub.status.busy": "2023-09-01T16:50:04.725121Z",
          "iopub.status.idle": "2023-09-01T16:50:04.730104Z",
          "shell.execute_reply": "2023-09-01T16:50:04.729561Z"
        },
        "papermill": {
          "duration": 0.013618,
          "end_time": "2023-09-01T16:50:04.731267",
          "exception": false,
          "start_time": "2023-09-01T16:50:04.717649",
          "status": "completed"
        },
        "tags": []
      },
      "outputs": [
        {
          "data": {
            "text/plain": [
              "{('in0', 'out0'): 0.7071067811865476,\n",
              " ('in0', 'out1'): 0.7071067811865476j,\n",
              " ('in1', 'out0'): 0.7071067811865476j,\n",
              " ('in1', 'out1'): 0.7071067811865476,\n",
              " ('out0', 'in0'): 0.7071067811865476,\n",
              " ('out1', 'in0'): 0.7071067811865476j,\n",
              " ('out0', 'in1'): 0.7071067811865476j,\n",
              " ('out1', 'in1'): 0.7071067811865476}"
            ]
          },
          "execution_count": 4,
          "metadata": {},
          "output_type": "execute_result"
        }
      ],
      "source": [
        "coupler_dict = sax.reciprocal(\n",
        "    {\n",
        "        (\"in0\", \"out0\"): tau,\n",
        "        (\"in0\", \"out1\"): 1j * kappa,\n",
        "        (\"in1\", \"out0\"): 1j * kappa,\n",
        "        (\"in1\", \"out1\"): tau,\n",
        "    }\n",
        ")\n",
        "\n",
        "coupler_dict"
      ]
    },
    {
      "cell_type": "markdown",
      "id": "67e730f6",
      "metadata": {
        "papermill": {
          "duration": 0.006704,
          "end_time": "2023-09-01T16:50:04.744717",
          "exception": false,
          "start_time": "2023-09-01T16:50:04.738013",
          "status": "completed"
        },
        "tags": []
      },
      "source": [
        "## Parametrized Models"
      ]
    },
    {
      "cell_type": "markdown",
      "id": "ec1e1214",
      "metadata": {
        "papermill": {
          "duration": 0.006669,
          "end_time": "2023-09-01T16:50:04.758105",
          "exception": false,
          "start_time": "2023-09-01T16:50:04.751436",
          "status": "completed"
        },
        "tags": []
      },
      "source": [
        "Constructing such an `SDict` is easy, however, usually we're more interested in having parametrized models for our components. To parametrize the coupler `SDict`, just wrap it in a function to obtain a SAX `Model`, which is a keyword-only function mapping to an `SDict`:"
      ]
    },
    {
      "cell_type": "code",
      "execution_count": 5,
      "id": "33efb99f",
      "metadata": {
        "execution": {
          "iopub.execute_input": "2023-09-01T16:50:04.773334Z",
          "iopub.status.busy": "2023-09-01T16:50:04.772687Z",
          "iopub.status.idle": "2023-09-01T16:50:04.778155Z",
          "shell.execute_reply": "2023-09-01T16:50:04.777645Z"
        },
        "papermill": {
          "duration": 0.014333,
          "end_time": "2023-09-01T16:50:04.779280",
          "exception": false,
          "start_time": "2023-09-01T16:50:04.764947",
          "status": "completed"
        },
        "tags": []
      },
      "outputs": [
        {
          "data": {
            "text/plain": [
              "{('in0', 'out0'): 0.8366600265340756,\n",
              " ('in0', 'out1'): 0.5477225575051661j,\n",
              " ('in1', 'out0'): 0.5477225575051661j,\n",
              " ('in1', 'out1'): 0.8366600265340756,\n",
              " ('out0', 'in0'): 0.8366600265340756,\n",
              " ('out1', 'in0'): 0.5477225575051661j,\n",
              " ('out0', 'in1'): 0.5477225575051661j,\n",
              " ('out1', 'in1'): 0.8366600265340756}"
            ]
          },
          "execution_count": 5,
          "metadata": {},
          "output_type": "execute_result"
        }
      ],
      "source": [
        "def coupler(coupling=0.5) -> sax.SDict:\n",
        "    kappa = coupling ** 0.5\n",
        "    tau = (1 - coupling) ** 0.5\n",
        "    coupler_dict = sax.reciprocal(\n",
        "        {\n",
        "            (\"in0\", \"out0\"): tau,\n",
        "            (\"in0\", \"out1\"): 1j * kappa,\n",
        "            (\"in1\", \"out0\"): 1j * kappa,\n",
        "            (\"in1\", \"out1\"): tau,\n",
        "        }\n",
        "    )\n",
        "    return coupler_dict\n",
        "\n",
        "\n",
        "coupler(coupling=0.3)"
      ]
    },
    {
      "cell_type": "markdown",
      "id": "4ef93f65",
      "metadata": {
        "papermill": {
          "duration": 0.006811,
          "end_time": "2023-09-01T16:50:04.792916",
          "exception": false,
          "start_time": "2023-09-01T16:50:04.786105",
          "status": "completed"
        },
        "tags": []
      },
      "source": [
        "We can define a waveguide in the same way:"
      ]
    },
    {
      "cell_type": "code",
      "execution_count": 6,
      "id": "5eac9176",
      "metadata": {
        "execution": {
          "iopub.execute_input": "2023-09-01T16:50:04.807978Z",
          "iopub.status.busy": "2023-09-01T16:50:04.807539Z",
          "iopub.status.idle": "2023-09-01T16:50:04.812289Z",
          "shell.execute_reply": "2023-09-01T16:50:04.811692Z"
        },
        "papermill": {
          "duration": 0.013691,
          "end_time": "2023-09-01T16:50:04.813403",
          "exception": false,
          "start_time": "2023-09-01T16:50:04.799712",
          "status": "completed"
        },
        "tags": []
      },
      "outputs": [],
      "source": [
        "def waveguide(wl=1.55, wl0=1.55, neff=2.34, ng=3.4, length=10.0, loss=0.0) -> sax.SDict:\n",
        "    dwl = wl - wl0\n",
        "    dneff_dwl = (ng - neff) / wl0\n",
        "    neff = neff - dwl * dneff_dwl\n",
        "    phase = 2 * jnp.pi * neff * length / wl\n",
        "    transmission = 10 ** (-loss * length / 20) * jnp.exp(1j * phase)\n",
        "    sdict = sax.reciprocal(\n",
        "        {\n",
        "            (\"in0\", \"out0\"): transmission,\n",
        "        }\n",
        "    )\n",
        "    return sdict"
      ]
    },
    {
      "cell_type": "markdown",
      "id": "67713c18",
      "metadata": {
        "papermill": {
          "duration": 0.006808,
          "end_time": "2023-09-01T16:50:04.827039",
          "exception": false,
          "start_time": "2023-09-01T16:50:04.820231",
          "status": "completed"
        },
        "tags": []
      },
      "source": [
        "That's pretty straightforward. Let's now move on to parametrized circuits:"
      ]
    },
    {
      "cell_type": "markdown",
      "id": "579a9ce1",
      "metadata": {
        "papermill": {
          "duration": 0.006792,
          "end_time": "2023-09-01T16:50:04.840601",
          "exception": false,
          "start_time": "2023-09-01T16:50:04.833809",
          "status": "completed"
        },
        "tags": []
      },
      "source": [
        "## Circuit Models"
      ]
    },
    {
      "cell_type": "markdown",
      "id": "cc3c78a0",
      "metadata": {
        "papermill": {
          "duration": 0.006747,
          "end_time": "2023-09-01T16:50:04.854194",
          "exception": false,
          "start_time": "2023-09-01T16:50:04.847447",
          "status": "completed"
        },
        "tags": []
      },
      "source": [
        "Existing models can now be combined into a circuit using `sax.circuit`, which basically creates a new `Model` function:"
      ]
    },
    {
      "cell_type": "code",
      "execution_count": 7,
      "id": "d6885e1d",
      "metadata": {
        "execution": {
          "iopub.execute_input": "2023-09-01T16:50:04.869215Z",
          "iopub.status.busy": "2023-09-01T16:50:04.868771Z",
          "iopub.status.idle": "2023-09-01T16:50:04.882379Z",
          "shell.execute_reply": "2023-09-01T16:50:04.881870Z"
        },
        "papermill": {
          "duration": 0.022532,
          "end_time": "2023-09-01T16:50:04.883579",
          "exception": false,
          "start_time": "2023-09-01T16:50:04.861047",
          "status": "completed"
        },
        "tags": []
      },
      "outputs": [],
      "source": [
        "mzi, info = sax.circuit(\n",
        "    netlist={\n",
        "        \"instances\": {\n",
        "            \"lft\": \"coupler\",\n",
        "            \"top\": \"waveguide\",\n",
        "            \"btm\": \"waveguide\",\n",
        "            \"rgt\": \"coupler\",\n",
        "        },\n",
        "        \"connections\": {\n",
        "            \"lft,out0\": \"btm,in0\",\n",
        "            \"btm,out0\": \"rgt,in0\",\n",
        "            \"lft,out1\": \"top,in0\",\n",
        "            \"top,out0\": \"rgt,in1\",\n",
        "        },\n",
        "        \"ports\": {\n",
        "            \"in0\": \"lft,in0\",\n",
        "            \"in1\": \"lft,in1\",\n",
        "            \"out0\": \"rgt,out0\",\n",
        "            \"out1\": \"rgt,out1\",\n",
        "        },\n",
        "    },\n",
        "    models={\n",
        "        \"coupler\": coupler,\n",
        "        \"waveguide\": waveguide,\n",
        "    }\n",
        ")"
      ]
    },
    {
      "cell_type": "code",
      "execution_count": 8,
      "id": "e95325c6",
      "metadata": {
        "execution": {
          "iopub.execute_input": "2023-09-01T16:50:04.899647Z",
          "iopub.status.busy": "2023-09-01T16:50:04.899093Z",
          "iopub.status.idle": "2023-09-01T16:50:04.937663Z",
          "shell.execute_reply": "2023-09-01T16:50:04.937072Z"
        },
        "papermill": {
          "duration": 0.048368,
          "end_time": "2023-09-01T16:50:04.939119",
          "exception": false,
          "start_time": "2023-09-01T16:50:04.890751",
          "status": "completed"
        },
        "tags": []
      },
      "outputs": [],
      "source": [
        "mzi?"
      ]
    },
    {
      "cell_type": "markdown",
      "id": "d2c74cff",
      "metadata": {
        "papermill": {
          "duration": 0.00695,
          "end_time": "2023-09-01T16:50:04.953193",
          "exception": false,
          "start_time": "2023-09-01T16:50:04.946243",
          "status": "completed"
        },
        "tags": []
      },
      "source": [
        "The `circuit` function just creates a similar function as we created for the waveguide and the coupler, but in stead of taking parameters directly it takes parameter *dictionaries* for each of the instances in the circuit. The keys in these parameter dictionaries should correspond to the keyword arguments of each individual subcomponent. "
      ]
    },
    {
      "cell_type": "markdown",
      "id": "ba1202d1",
      "metadata": {
        "papermill": {
          "duration": 0.006897,
          "end_time": "2023-09-01T16:50:04.967012",
          "exception": false,
          "start_time": "2023-09-01T16:50:04.960115",
          "status": "completed"
        },
        "tags": []
      },
      "source": [
        "Let's now do a simulation for the MZI we just constructed:"
      ]
    },
    {
      "cell_type": "code",
      "execution_count": 9,
      "id": "f2108f6a",
      "metadata": {
        "execution": {
          "iopub.execute_input": "2023-09-01T16:50:04.982319Z",
          "iopub.status.busy": "2023-09-01T16:50:04.981762Z",
          "iopub.status.idle": "2023-09-01T16:50:07.024635Z",
          "shell.execute_reply": "2023-09-01T16:50:07.024095Z"
        },
        "papermill": {
          "duration": 2.052038,
          "end_time": "2023-09-01T16:50:07.025942",
          "exception": false,
          "start_time": "2023-09-01T16:50:04.973904",
          "status": "completed"
        },
        "tags": []
      },
      "outputs": [
        {
          "name": "stdout",
          "output_type": "stream",
          "text": [
            "CPU times: user 2 s, sys: 36 ms, total: 2.03 s\n",
            "Wall time: 2.03 s\n"
          ]
        },
        {
          "data": {
            "text/plain": [
              "{('in1', 'in1'): Array(0.+0.j, dtype=complex128),\n",
              " ('in1', 'in0'): Array(0.+0.j, dtype=complex128),\n",
              " ('in0', 'in1'): Array(0.+0.j, dtype=complex128),\n",
              " ('in0', 'in0'): Array(0.+0.j, dtype=complex128),\n",
              " ('in1', 'out1'): Array(0.+0.j, dtype=complex128),\n",
              " ('in1', 'out0'): Array(-0.57126822+0.82076344j, dtype=complex128),\n",
              " ('in0', 'out1'): Array(-0.57126822+0.82076344j, dtype=complex128),\n",
              " ('in0', 'out0'): Array(0.+0.j, dtype=complex128),\n",
              " ('out1', 'in1'): Array(0.+0.j, dtype=complex128),\n",
              " ('out1', 'in0'): Array(-0.57126822+0.82076344j, dtype=complex128),\n",
              " ('out1', 'out1'): Array(0.+0.j, dtype=complex128),\n",
              " ('out1', 'out0'): Array(0.+0.j, dtype=complex128),\n",
              " ('out0', 'in1'): Array(-0.57126822+0.82076344j, dtype=complex128),\n",
              " ('out0', 'in0'): Array(0.+0.j, dtype=complex128),\n",
              " ('out0', 'out1'): Array(0.+0.j, dtype=complex128),\n",
              " ('out0', 'out0'): Array(0.+0.j, dtype=complex128)}"
            ]
          },
          "execution_count": 9,
          "metadata": {},
          "output_type": "execute_result"
        }
      ],
      "source": [
        "%time mzi()"
      ]
    },
    {
      "cell_type": "code",
      "execution_count": 10,
      "id": "cb43b835",
      "metadata": {
        "execution": {
          "iopub.execute_input": "2023-09-01T16:50:07.042853Z",
          "iopub.status.busy": "2023-09-01T16:50:07.042281Z",
          "iopub.status.idle": "2023-09-01T16:50:07.046346Z",
          "shell.execute_reply": "2023-09-01T16:50:07.045806Z"
        },
        "papermill": {
          "duration": 0.014126,
          "end_time": "2023-09-01T16:50:07.047698",
          "exception": false,
          "start_time": "2023-09-01T16:50:07.033572",
          "status": "completed"
        },
        "tags": []
      },
      "outputs": [],
      "source": [
        "mzi2 = jax.jit(mzi)"
      ]
    },
    {
      "cell_type": "code",
      "execution_count": 11,
      "id": "61f2bb6e",
      "metadata": {
        "execution": {
          "iopub.execute_input": "2023-09-01T16:50:07.063729Z",
          "iopub.status.busy": "2023-09-01T16:50:07.063287Z",
          "iopub.status.idle": "2023-09-01T16:50:07.617163Z",
          "shell.execute_reply": "2023-09-01T16:50:07.616638Z"
        },
        "papermill": {
          "duration": 0.563284,
          "end_time": "2023-09-01T16:50:07.618345",
          "exception": false,
          "start_time": "2023-09-01T16:50:07.055061",
          "status": "completed"
        },
        "tags": []
      },
      "outputs": [
        {
          "name": "stdout",
          "output_type": "stream",
          "text": [
            "CPU times: user 555 ms, sys: 16.3 ms, total: 572 ms\n",
            "Wall time: 545 ms\n"
          ]
        },
        {
          "data": {
            "text/plain": [
              "{('in0', 'in0'): Array(0.+0.j, dtype=complex128),\n",
              " ('in0', 'in1'): Array(0.+0.j, dtype=complex128),\n",
              " ('in0', 'out0'): Array(0.+0.j, dtype=complex128),\n",
              " ('in0', 'out1'): Array(-0.57126822+0.82076344j, dtype=complex128),\n",
              " ('in1', 'in0'): Array(0.+0.j, dtype=complex128),\n",
              " ('in1', 'in1'): Array(0.+0.j, dtype=complex128),\n",
              " ('in1', 'out0'): Array(-0.57126822+0.82076344j, dtype=complex128),\n",
              " ('in1', 'out1'): Array(0.+0.j, dtype=complex128),\n",
              " ('out0', 'in0'): Array(0.+0.j, dtype=complex128),\n",
              " ('out0', 'in1'): Array(-0.57126822+0.82076344j, dtype=complex128),\n",
              " ('out0', 'out0'): Array(0.+0.j, dtype=complex128),\n",
              " ('out0', 'out1'): Array(0.+0.j, dtype=complex128),\n",
              " ('out1', 'in0'): Array(-0.57126822+0.82076344j, dtype=complex128),\n",
              " ('out1', 'in1'): Array(0.+0.j, dtype=complex128),\n",
              " ('out1', 'out0'): Array(0.+0.j, dtype=complex128),\n",
              " ('out1', 'out1'): Array(0.+0.j, dtype=complex128)}"
            ]
          },
          "execution_count": 11,
          "metadata": {},
          "output_type": "execute_result"
        }
      ],
      "source": [
        "%time mzi2()"
      ]
    },
    {
      "cell_type": "code",
      "execution_count": 12,
      "id": "6000f608-6814-436d-af02-a54dc7d0da85",
      "metadata": {
        "execution": {
          "iopub.execute_input": "2023-09-01T16:50:07.634522Z",
          "iopub.status.busy": "2023-09-01T16:50:07.634118Z",
          "iopub.status.idle": "2023-09-01T16:50:07.641401Z",
          "shell.execute_reply": "2023-09-01T16:50:07.640870Z"
        },
        "papermill": {
          "duration": 0.017714,
          "end_time": "2023-09-01T16:50:07.643614",
          "exception": false,
          "start_time": "2023-09-01T16:50:07.625900",
          "status": "completed"
        },
        "tags": []
      },
      "outputs": [
        {
          "name": "stdout",
          "output_type": "stream",
          "text": [
            "CPU times: user 249 \u00b5s, sys: 0 ns, total: 249 \u00b5s\n",
            "Wall time: 179 \u00b5s\n"
          ]
        },
        {
          "data": {
            "text/plain": [
              "{('in0', 'in0'): Array(0.+0.j, dtype=complex128),\n",
              " ('in0', 'in1'): Array(0.+0.j, dtype=complex128),\n",
              " ('in0', 'out0'): Array(0.+0.j, dtype=complex128),\n",
              " ('in0', 'out1'): Array(-0.57126822+0.82076344j, dtype=complex128),\n",
              " ('in1', 'in0'): Array(0.+0.j, dtype=complex128),\n",
              " ('in1', 'in1'): Array(0.+0.j, dtype=complex128),\n",
              " ('in1', 'out0'): Array(-0.57126822+0.82076344j, dtype=complex128),\n",
              " ('in1', 'out1'): Array(0.+0.j, dtype=complex128),\n",
              " ('out0', 'in0'): Array(0.+0.j, dtype=complex128),\n",
              " ('out0', 'in1'): Array(-0.57126822+0.82076344j, dtype=complex128),\n",
              " ('out0', 'out0'): Array(0.+0.j, dtype=complex128),\n",
              " ('out0', 'out1'): Array(0.+0.j, dtype=complex128),\n",
              " ('out1', 'in0'): Array(-0.57126822+0.82076344j, dtype=complex128),\n",
              " ('out1', 'in1'): Array(0.+0.j, dtype=complex128),\n",
              " ('out1', 'out0'): Array(0.+0.j, dtype=complex128),\n",
              " ('out1', 'out1'): Array(0.+0.j, dtype=complex128)}"
            ]
          },
          "execution_count": 12,
          "metadata": {},
          "output_type": "execute_result"
        }
      ],
      "source": [
        "%time mzi2()"
      ]
    },
    {
      "cell_type": "markdown",
      "id": "1e0d41ea",
      "metadata": {
        "papermill": {
          "duration": 0.007949,
          "end_time": "2023-09-01T16:50:07.659408",
          "exception": false,
          "start_time": "2023-09-01T16:50:07.651459",
          "status": "completed"
        },
        "tags": []
      },
      "source": [
        "Or in the case we want an MZI with different arm lengths:"
      ]
    },
    {
      "cell_type": "code",
      "execution_count": 13,
      "id": "4f53bdc3",
      "metadata": {
        "execution": {
          "iopub.execute_input": "2023-09-01T16:50:07.675816Z",
          "iopub.status.busy": "2023-09-01T16:50:07.675353Z",
          "iopub.status.idle": "2023-09-01T16:50:07.698150Z",
          "shell.execute_reply": "2023-09-01T16:50:07.697575Z"
        },
        "papermill": {
          "duration": 0.032593,
          "end_time": "2023-09-01T16:50:07.699493",
          "exception": false,
          "start_time": "2023-09-01T16:50:07.666900",
          "status": "completed"
        },
        "tags": []
      },
      "outputs": [
        {
          "data": {
            "text/plain": [
              "{('in1', 'in1'): Array(0.+0.j, dtype=complex128),\n",
              " ('in1', 'in0'): Array(0.+0.j, dtype=complex128),\n",
              " ('in0', 'in1'): Array(0.+0.j, dtype=complex128),\n",
              " ('in0', 'in0'): Array(0.+0.j, dtype=complex128),\n",
              " ('in1', 'out1'): Array(0.28072841-0.10397039j, dtype=complex128),\n",
              " ('in1', 'out0'): Array(0.89474612-0.33137758j, dtype=complex128),\n",
              " ('in0', 'out1'): Array(0.89474612-0.33137758j, dtype=complex128),\n",
              " ('in0', 'out0'): Array(-0.28072841+0.10397039j, dtype=complex128),\n",
              " ('out1', 'in1'): Array(0.28072841-0.10397039j, dtype=complex128),\n",
              " ('out1', 'in0'): Array(0.89474612-0.33137758j, dtype=complex128),\n",
              " ('out1', 'out1'): Array(0.+0.j, dtype=complex128),\n",
              " ('out1', 'out0'): Array(0.+0.j, dtype=complex128),\n",
              " ('out0', 'in1'): Array(0.89474612-0.33137758j, dtype=complex128),\n",
              " ('out0', 'in0'): Array(-0.28072841+0.10397039j, dtype=complex128),\n",
              " ('out0', 'out1'): Array(0.+0.j, dtype=complex128),\n",
              " ('out0', 'out0'): Array(0.+0.j, dtype=complex128)}"
            ]
          },
          "execution_count": 13,
          "metadata": {},
          "output_type": "execute_result"
        }
      ],
      "source": [
        "mzi(top={\"length\": 25.0}, btm={\"length\": 15.0})"
      ]
    },
    {
      "cell_type": "markdown",
      "id": "a331252a",
      "metadata": {
        "papermill": {
          "duration": 0.007625,
          "end_time": "2023-09-01T16:50:07.714838",
          "exception": false,
          "start_time": "2023-09-01T16:50:07.707213",
          "status": "completed"
        },
        "tags": []
      },
      "source": [
        "## Simulating the parametrized MZI"
      ]
    },
    {
      "cell_type": "markdown",
      "id": "4ba8626b",
      "metadata": {
        "papermill": {
          "duration": 0.007512,
          "end_time": "2023-09-01T16:50:07.729885",
          "exception": false,
          "start_time": "2023-09-01T16:50:07.722373",
          "status": "completed"
        },
        "tags": []
      },
      "source": [
        "We can simulate the above mzi for multiple wavelengths as well by specifying the wavelength at the top level of the circuit call. Each setting specified at the top level of the circuit call will be propagated to all subcomponents of the circuit which have that setting:"
      ]
    },
    {
      "cell_type": "code",
      "execution_count": 14,
      "id": "d6c8b5c9",
      "metadata": {
        "execution": {
          "iopub.execute_input": "2023-09-01T16:50:07.746402Z",
          "iopub.status.busy": "2023-09-01T16:50:07.745861Z",
          "iopub.status.idle": "2023-09-01T16:50:09.666541Z",
          "shell.execute_reply": "2023-09-01T16:50:09.665895Z"
        },
        "papermill": {
          "duration": 1.930393,
          "end_time": "2023-09-01T16:50:09.667807",
          "exception": false,
          "start_time": "2023-09-01T16:50:07.737414",
          "status": "completed"
        },
        "tags": []
      },
      "outputs": [
        {
          "name": "stdout",
          "output_type": "stream",
          "text": [
            "CPU times: user 1.88 s, sys: 7.76 ms, total: 1.89 s\n",
            "Wall time: 1.89 s\n"
          ]
        }
      ],
      "source": [
        "wl = jnp.linspace(1.51, 1.59, 1000)\n",
        "%time S = mzi(wl=wl, top={\"length\": 25.0}, btm={\"length\": 15.0})"
      ]
    },
    {
      "cell_type": "markdown",
      "id": "28d8cc75",
      "metadata": {
        "papermill": {
          "duration": 0.008378,
          "end_time": "2023-09-01T16:50:09.684229",
          "exception": false,
          "start_time": "2023-09-01T16:50:09.675851",
          "status": "completed"
        },
        "tags": []
      },
      "source": [
        "Let's see what this gives:"
      ]
    },
    {
      "cell_type": "code",
      "execution_count": 15,
      "id": "f7de73dc",
      "metadata": {
        "execution": {
          "iopub.execute_input": "2023-09-01T16:50:09.700977Z",
          "iopub.status.busy": "2023-09-01T16:50:09.700593Z",
          "iopub.status.idle": "2023-09-01T16:50:10.231849Z",
          "shell.execute_reply": "2023-09-01T16:50:10.231353Z"
        },
        "papermill": {
          "duration": 0.541114,
          "end_time": "2023-09-01T16:50:10.233072",
          "exception": false,
          "start_time": "2023-09-01T16:50:09.691958",
          "status": "completed"
        },
        "tags": []
      },
      "outputs": [
        {
          "data": {
            "image/png": "[encoded data removed]",
            "text/plain": [
              "<Figure size 640x480 with 1 Axes>"
            ]
          },
          "metadata": {},
          "output_type": "display_data"
        }
      ],
      "source": [
        "plt.plot(wl * 1e3, abs(S[\"in0\", \"out0\"]) ** 2)\n",
        "plt.ylim(-0.05, 1.05)\n",
        "plt.xlabel(\"\u03bb [nm]\")\n",
        "plt.ylabel(\"T\")\n",
        "plt.ylim(-0.05, 1.05)\n",
        "plt.show()"
      ]
    },
    {
      "cell_type": "markdown",
      "id": "eb9f0074",
      "metadata": {
        "papermill": {
          "duration": 0.00855,
          "end_time": "2023-09-01T16:50:10.250253",
          "exception": false,
          "start_time": "2023-09-01T16:50:10.241703",
          "status": "completed"
        },
        "tags": []
      },
      "source": [
        "## Optimization"
      ]
    },
    {
      "cell_type": "markdown",
      "id": "431aee51",
      "metadata": {
        "papermill": {
          "duration": 0.008157,
          "end_time": "2023-09-01T16:50:10.266665",
          "exception": false,
          "start_time": "2023-09-01T16:50:10.258508",
          "status": "completed"
        },
        "tags": []
      },
      "source": [
        "We'd like to optimize an MZI such that one of the minima is at 1550nm. To do this, we need to define a loss function for the circuit at 1550nm. This function should take the parameters that you want to optimize as positional arguments:"
      ]
    },
    {
      "cell_type": "code",
      "execution_count": 16,
      "id": "7dabe735",
      "metadata": {
        "execution": {
          "iopub.execute_input": "2023-09-01T16:50:10.284566Z",
          "iopub.status.busy": "2023-09-01T16:50:10.284110Z",
          "iopub.status.idle": "2023-09-01T16:50:10.287756Z",
          "shell.execute_reply": "2023-09-01T16:50:10.287311Z"
        },
        "papermill": {
          "duration": 0.013949,
          "end_time": "2023-09-01T16:50:10.288846",
          "exception": false,
          "start_time": "2023-09-01T16:50:10.274897",
          "status": "completed"
        },
        "tags": []
      },
      "outputs": [],
      "source": [
        "@jax.jit\n",
        "def loss(delta_length):\n",
        "    S = mzi(wl=1.55, top={\"length\": 15.0 + delta_length}, btm={\"length\": 15.0})\n",
        "    return (abs(S[\"in0\", \"out0\"]) ** 2).mean()"
      ]
    },
    {
      "cell_type": "code",
      "execution_count": 17,
      "id": "a60a8eab",
      "metadata": {
        "execution": {
          "iopub.execute_input": "2023-09-01T16:50:10.306746Z",
          "iopub.status.busy": "2023-09-01T16:50:10.306217Z",
          "iopub.status.idle": "2023-09-01T16:50:10.601093Z",
          "shell.execute_reply": "2023-09-01T16:50:10.600518Z"
        },
        "papermill": {
          "duration": 0.305227,
          "end_time": "2023-09-01T16:50:10.602361",
          "exception": false,
          "start_time": "2023-09-01T16:50:10.297134",
          "status": "completed"
        },
        "tags": []
      },
      "outputs": [
        {
          "name": "stdout",
          "output_type": "stream",
          "text": [
            "CPU times: user 281 ms, sys: 12.3 ms, total: 293 ms\n",
            "Wall time: 287 ms\n"
          ]
        },
        {
          "data": {
            "text/plain": [
              "Array(0.08961828, dtype=float64)"
            ]
          },
          "execution_count": 17,
          "metadata": {},
          "output_type": "execute_result"
        }
      ],
      "source": [
        "%time loss(10.0)"
      ]
    },
    {
      "cell_type": "markdown",
      "id": "af1eb06b",
      "metadata": {
        "papermill": {
          "duration": 0.008714,
          "end_time": "2023-09-01T16:50:10.619850",
          "exception": false,
          "start_time": "2023-09-01T16:50:10.611136",
          "status": "completed"
        },
        "tags": []
      },
      "source": [
        "We can use this loss function to define a grad function which works on the parameters of the loss function:"
      ]
    },
    {
      "cell_type": "code",
      "execution_count": 18,
      "id": "16369cba",
      "metadata": {
        "execution": {
          "iopub.execute_input": "2023-09-01T16:50:10.638033Z",
          "iopub.status.busy": "2023-09-01T16:50:10.637570Z",
          "iopub.status.idle": "2023-09-01T16:50:10.640976Z",
          "shell.execute_reply": "2023-09-01T16:50:10.640416Z"
        },
        "papermill": {
          "duration": 0.013922,
          "end_time": "2023-09-01T16:50:10.642169",
          "exception": false,
          "start_time": "2023-09-01T16:50:10.628247",
          "status": "completed"
        },
        "tags": []
      },
      "outputs": [],
      "source": [
        "grad = jax.jit(\n",
        "    jax.grad(\n",
        "        loss,\n",
        "        argnums=0,  # JAX gradient function for the first positional argument, jitted\n",
        "    )\n",
        ")"
      ]
    },
    {
      "cell_type": "markdown",
      "id": "2cd2f2cf",
      "metadata": {
        "papermill": {
          "duration": 0.008651,
          "end_time": "2023-09-01T16:50:10.659317",
          "exception": false,
          "start_time": "2023-09-01T16:50:10.650666",
          "status": "completed"
        },
        "tags": []
      },
      "source": [
        "Next, we need to define a JAX optimizer, which on its own is nothing more than three more functions:  an initialization function with which to initialize the optimizer state, an update function which will update the optimizer state (and with it the model parameters). The third function that's being returned will give the model parameters given the optimizer state."
      ]
    },
    {
      "cell_type": "code",
      "execution_count": 19,
      "id": "e553d69e",
      "metadata": {
        "execution": {
          "iopub.execute_input": "2023-09-01T16:50:10.677616Z",
          "iopub.status.busy": "2023-09-01T16:50:10.677012Z",
          "iopub.status.idle": "2023-09-01T16:50:10.692008Z",
          "shell.execute_reply": "2023-09-01T16:50:10.691516Z"
        },
        "papermill": {
          "duration": 0.025467,
          "end_time": "2023-09-01T16:50:10.693186",
          "exception": false,
          "start_time": "2023-09-01T16:50:10.667719",
          "status": "completed"
        },
        "tags": []
      },
      "outputs": [],
      "source": [
        "initial_delta_length = 10.0\n",
        "optim_init, optim_update, optim_params = opt.adam(step_size=0.1)\n",
        "optim_state = optim_init(initial_delta_length)"
      ]
    },
    {
      "cell_type": "markdown",
      "id": "e0a03fc2",
      "metadata": {
        "papermill": {
          "duration": 0.008443,
          "end_time": "2023-09-01T16:50:10.710185",
          "exception": false,
          "start_time": "2023-09-01T16:50:10.701742",
          "status": "completed"
        },
        "tags": []
      },
      "source": [
        "Given all this, a single training step can be defined:"
      ]
    },
    {
      "cell_type": "code",
      "execution_count": 20,
      "id": "eea4f7b8",
      "metadata": {
        "execution": {
          "iopub.execute_input": "2023-09-01T16:50:10.728755Z",
          "iopub.status.busy": "2023-09-01T16:50:10.728306Z",
          "iopub.status.idle": "2023-09-01T16:50:10.731690Z",
          "shell.execute_reply": "2023-09-01T16:50:10.731128Z"
        },
        "papermill": {
          "duration": 0.014027,
          "end_time": "2023-09-01T16:50:10.732777",
          "exception": false,
          "start_time": "2023-09-01T16:50:10.718750",
          "status": "completed"
        },
        "tags": []
      },
      "outputs": [],
      "source": [
        "def train_step(step, optim_state):\n",
        "    settings = optim_params(optim_state)\n",
        "    lossvalue = loss(settings)\n",
        "    gradvalue = grad(settings)\n",
        "    optim_state = optim_update(step, gradvalue, optim_state)\n",
        "    return lossvalue, optim_state"
      ]
    },
    {
      "cell_type": "markdown",
      "id": "ba1612df",
      "metadata": {
        "papermill": {
          "duration": 0.008479,
          "end_time": "2023-09-01T16:50:10.749859",
          "exception": false,
          "start_time": "2023-09-01T16:50:10.741380",
          "status": "completed"
        },
        "tags": []
      },
      "source": [
        "And we can use this step function to start the training of the MZI:"
      ]
    },
    {
      "cell_type": "code",
      "execution_count": 21,
      "id": "61ef4479",
      "metadata": {
        "execution": {
          "iopub.execute_input": "2023-09-01T16:50:10.768099Z",
          "iopub.status.busy": "2023-09-01T16:50:10.767636Z",
          "iopub.status.idle": "2023-09-01T16:50:16.802980Z",
          "shell.execute_reply": "2023-09-01T16:50:16.802424Z"
        },
        "papermill": {
          "duration": 6.045953,
          "end_time": "2023-09-01T16:50:16.804231",
          "exception": false,
          "start_time": "2023-09-01T16:50:10.758278",
          "status": "completed"
        },
        "tags": []
      },
      "outputs": [
        {
          "data": {
            "application/vnd.jupyter.widget-view+json": {
              "model_id": "a14df1ebcc1a4dd59ad9c1442a5dc304",
              "version_major": 2,
              "version_minor": 0
            },
            "text/plain": [
              "  0%|          | 0/300 [00:00<?, ?it/s]"
            ]
          },
          "metadata": {},
          "output_type": "display_data"
        }
      ],
      "source": [
        "range_ = trange(300)\n",
        "for step in range_:\n",
        "    lossvalue, optim_state = train_step(step, optim_state)\n",
        "    range_.set_postfix(loss=f\"{lossvalue:.6f}\")"
      ]
    },
    {
      "cell_type": "code",
      "execution_count": 22,
      "id": "eb9a1e20",
      "metadata": {
        "execution": {
          "iopub.execute_input": "2023-09-01T16:50:16.823221Z",
          "iopub.status.busy": "2023-09-01T16:50:16.822677Z",
          "iopub.status.idle": "2023-09-01T16:50:16.826555Z",
          "shell.execute_reply": "2023-09-01T16:50:16.826141Z"
        },
        "papermill": {
          "duration": 0.014635,
          "end_time": "2023-09-01T16:50:16.827830",
          "exception": false,
          "start_time": "2023-09-01T16:50:16.813195",
          "status": "completed"
        },
        "tags": []
      },
      "outputs": [
        {
          "data": {
            "text/plain": [
              "Array(9.93589744, dtype=float64)"
            ]
          },
          "execution_count": 22,
          "metadata": {},
          "output_type": "execute_result"
        }
      ],
      "source": [
        "delta_length = optim_params(optim_state)\n",
        "delta_length"
      ]
    },
    {
      "cell_type": "markdown",
      "id": "15d8754b",
      "metadata": {
        "papermill": {
          "duration": 0.008677,
          "end_time": "2023-09-01T16:50:16.845238",
          "exception": false,
          "start_time": "2023-09-01T16:50:16.836561",
          "status": "completed"
        },
        "tags": []
      },
      "source": [
        "Let's see what we've got over a range of wavelengths:"
      ]
    },
    {
      "cell_type": "code",
      "execution_count": 23,
      "id": "b36d10a3",
      "metadata": {
        "execution": {
          "iopub.execute_input": "2023-09-01T16:50:16.864066Z",
          "iopub.status.busy": "2023-09-01T16:50:16.863438Z",
          "iopub.status.idle": "2023-09-01T16:50:17.014621Z",
          "shell.execute_reply": "2023-09-01T16:50:17.014085Z"
        },
        "papermill": {
          "duration": 0.16195,
          "end_time": "2023-09-01T16:50:17.015842",
          "exception": false,
          "start_time": "2023-09-01T16:50:16.853892",
          "status": "completed"
        },
        "tags": []
      },
      "outputs": [
        {
          "data": {
            "image/png": "[encoded data removed]",
            "text/plain": [
              "<Figure size 640x480 with 1 Axes>"
            ]
          },
          "metadata": {},
          "output_type": "display_data"
        }
      ],
      "source": [
        "S = mzi(wl=wl, top={\"length\": 15.0 + delta_length}, btm={\"length\": 15.0})\n",
        "plt.plot(wl * 1e3, abs(S[\"in1\", \"out1\"]) ** 2)\n",
        "plt.xlabel(\"\u03bb [nm]\")\n",
        "plt.ylabel(\"T\")\n",
        "plt.ylim(-0.05, 1.05)\n",
        "plt.plot([1550, 1550], [0, 1])\n",
        "plt.show()"
      ]
    },
    {
      "cell_type": "markdown",
      "id": "a990da96",
      "metadata": {
        "papermill": {
          "duration": 0.00907,
          "end_time": "2023-09-01T16:50:17.034351",
          "exception": false,
          "start_time": "2023-09-01T16:50:17.025281",
          "status": "completed"
        },
        "tags": []
      },
      "source": [
        "The minimum of the MZI is perfectly located at 1550nm."
      ]
    },
    {
      "cell_type": "markdown",
      "id": "7d93aa85",
      "metadata": {
        "papermill": {
          "duration": 0.009117,
          "end_time": "2023-09-01T16:50:17.052529",
          "exception": false,
          "start_time": "2023-09-01T16:50:17.043412",
          "status": "completed"
        },
        "tags": []
      },
      "source": [
        "## MZI Chain"
      ]
    },
    {
      "cell_type": "markdown",
      "id": "9c312e13",
      "metadata": {
        "papermill": {
          "duration": 0.009138,
          "end_time": "2023-09-01T16:50:17.070744",
          "exception": false,
          "start_time": "2023-09-01T16:50:17.061606",
          "status": "completed"
        },
        "tags": []
      },
      "source": [
        "Let's now create a chain of MZIs. For this, we first create a subcomponent: a directional coupler with arms:\n",
        "\n",
        "\n",
        "```\n",
        "                                 top\n",
        "                            in0 ----- out0 -> out1\n",
        "    in1 <- in1        out1                 \n",
        "              \\  dc  /                  \n",
        "               ======                  \n",
        "              /      \\                \n",
        "    in0 <- in0        out0       btm    \n",
        "                            in0 ----- out0 -> out0\n",
        "```"
      ]
    },
    {
      "cell_type": "code",
      "execution_count": 24,
      "id": "1ebe80c2",
      "metadata": {
        "execution": {
          "iopub.execute_input": "2023-09-01T16:50:17.090464Z",
          "iopub.status.busy": "2023-09-01T16:50:17.090023Z",
          "iopub.status.idle": "2023-09-01T16:50:17.096695Z",
          "shell.execute_reply": "2023-09-01T16:50:17.096198Z"
        },
        "papermill": {
          "duration": 0.017951,
          "end_time": "2023-09-01T16:50:17.097869",
          "exception": false,
          "start_time": "2023-09-01T16:50:17.079918",
          "status": "completed"
        },
        "tags": []
      },
      "outputs": [],
      "source": [
        "dc_with_arms, info = sax.circuit(\n",
        "    netlist={\n",
        "        \"instances\": {\n",
        "            \"lft\": \"coupler\",\n",
        "            \"top\": \"waveguide\",\n",
        "            \"btm\": \"waveguide\",\n",
        "        },\n",
        "        \"connections\": {\n",
        "            \"lft,out0\": \"btm,in0\",\n",
        "            \"lft,out1\": \"top,in0\",\n",
        "        },\n",
        "        \"ports\": {\n",
        "            \"in0\": \"lft,in0\",\n",
        "            \"in1\": \"lft,in1\",\n",
        "            \"out0\": \"btm,out0\",\n",
        "            \"out1\": \"top,out0\",\n",
        "        },\n",
        "    },\n",
        "    models = {\n",
        "        \"coupler\": coupler,\n",
        "        \"waveguide\": waveguide,\n",
        "    }\n",
        ")"
      ]
    },
    {
      "cell_type": "markdown",
      "id": "1eda468f",
      "metadata": {
        "papermill": {
          "duration": 0.009066,
          "end_time": "2023-09-01T16:50:17.116125",
          "exception": false,
          "start_time": "2023-09-01T16:50:17.107059",
          "status": "completed"
        },
        "tags": []
      },
      "source": [
        "An MZI chain can now be created by cascading these directional couplers with arms:\n",
        "\n",
        "```\n",
        "      _    _    _    _             _    _  \n",
        "    \\/   \\/   \\/   \\/     ...    \\/   \\/   \n",
        "    /\\_  /\\_  /\\_  /\\_           /\\_  /\\_  \n",
        "```\n",
        "\n",
        "Let's create a *model factory* (`ModelFactory`) for this. In SAX, a *model factory* is any keyword-only function that generates a `Model`:"
      ]
    },
    {
      "cell_type": "code",
      "execution_count": 25,
      "id": "11c4ab07",
      "metadata": {
        "execution": {
          "iopub.execute_input": "2023-09-01T16:50:17.135789Z",
          "iopub.status.busy": "2023-09-01T16:50:17.135242Z",
          "iopub.status.idle": "2023-09-01T16:50:17.140927Z",
          "shell.execute_reply": "2023-09-01T16:50:17.140427Z"
        },
        "papermill": {
          "duration": 0.016755,
          "end_time": "2023-09-01T16:50:17.142072",
          "exception": false,
          "start_time": "2023-09-01T16:50:17.125317",
          "status": "completed"
        },
        "tags": []
      },
      "outputs": [],
      "source": [
        "def mzi_chain(num_mzis=1) -> sax.Model:\n",
        "    chain, _ = sax.circuit(\n",
        "        netlist={\n",
        "            \"instances\": {f\"dc{i}\": \"dc_with_arms\" for i in range(num_mzis + 1)},\n",
        "            \"connections\": {\n",
        "                **{f\"dc{i},out0\": f\"dc{i+1},in0\" for i in range(num_mzis)},\n",
        "                **{f\"dc{i},out1\": f\"dc{i+1},in1\" for i in range(num_mzis)},\n",
        "            },\n",
        "            \"ports\": {\n",
        "                \"in0\": f\"dc0,in0\",\n",
        "                \"in1\": f\"dc0,in1\",\n",
        "                \"out0\": f\"dc{num_mzis},out0\",\n",
        "                \"out1\": f\"dc{num_mzis},out1\",\n",
        "            },\n",
        "        },\n",
        "        models={\"dc_with_arms\": dc_with_arms},\n",
        "        modes=None\n",
        "    )\n",
        "    return chain"
      ]
    },
    {
      "cell_type": "markdown",
      "id": "03f225e9",
      "metadata": {
        "papermill": {
          "duration": 0.009164,
          "end_time": "2023-09-01T16:50:17.160390",
          "exception": false,
          "start_time": "2023-09-01T16:50:17.151226",
          "status": "completed"
        },
        "tags": []
      },
      "source": [
        "Let's for example create a chain with 15 MZIs. We can also update the settings dictionary as follows:"
      ]
    },
    {
      "cell_type": "markdown",
      "id": "0fc1c63e",
      "metadata": {
        "tags": [
          "papermill-error-cell-tag"
        ]
      },
      "source": [
        "<span id=\"papermill-error-cell\" style=\"color:red; font-family:Helvetica Neue, Helvetica, Arial, sans-serif; font-size:2em;\">Execution using papermill encountered an exception here and stopped:</span>"
      ]
    },
    {
      "cell_type": "code",
      "execution_count": 26,
      "id": "576d4de8",
      "metadata": {
        "execution": {
          "iopub.execute_input": "2023-09-01T16:50:17.180083Z",
          "iopub.status.busy": "2023-09-01T16:50:17.179638Z",
          "iopub.status.idle": "2023-09-01T16:50:17.463602Z",
          "shell.execute_reply": "2023-09-01T16:50:17.462710Z"
        },
        "papermill": {
          "duration": 0.29523,
          "end_time": "2023-09-01T16:50:17.464788",
          "exception": true,
          "start_time": "2023-09-01T16:50:17.169558",
          "status": "failed"
        },
        "tags": []
      },
      "outputs": [
        {
          "ename": "TypeError",
          "evalue": "circuit() got an unexpected keyword argument 'modes'",
          "output_type": "error",
          "traceback": [
            "\u001b[0;31m---------------------------------------------------------------------------\u001b[0m",
            "\u001b[0;31mTypeError\u001b[0m                                 Traceback (most recent call last)",
            "Cell \u001b[0;32mIn[26], line 1\u001b[0m\n\u001b[0;32m----> 1\u001b[0m chain \u001b[38;5;241m=\u001b[39m \u001b[43mmzi_chain\u001b[49m\u001b[43m(\u001b[49m\u001b[43mnum_mzis\u001b[49m\u001b[38;5;241;43m=\u001b[39;49m\u001b[38;5;241;43m15\u001b[39;49m\u001b[43m)\u001b[49m\n\u001b[1;32m      2\u001b[0m settings \u001b[38;5;241m=\u001b[39m sax\u001b[38;5;241m.\u001b[39mget_settings(chain)\n\u001b[1;32m      3\u001b[0m \u001b[38;5;28;01mfor\u001b[39;00m dc \u001b[38;5;129;01min\u001b[39;00m settings:\n",
            "Cell \u001b[0;32mIn[25], line 2\u001b[0m, in \u001b[0;36mmzi_chain\u001b[0;34m(num_mzis)\u001b[0m\n\u001b[1;32m      1\u001b[0m \u001b[38;5;28;01mdef\u001b[39;00m \u001b[38;5;21mmzi_chain\u001b[39m(num_mzis\u001b[38;5;241m=\u001b[39m\u001b[38;5;241m1\u001b[39m) \u001b[38;5;241m-\u001b[39m\u001b[38;5;241m>\u001b[39m sax\u001b[38;5;241m.\u001b[39mModel:\n\u001b[0;32m----> 2\u001b[0m     chain, _ \u001b[38;5;241m=\u001b[39m \u001b[43msax\u001b[49m\u001b[38;5;241;43m.\u001b[39;49m\u001b[43mcircuit\u001b[49m\u001b[43m(\u001b[49m\n\u001b[1;32m      3\u001b[0m \u001b[43m        \u001b[49m\u001b[43mnetlist\u001b[49m\u001b[38;5;241;43m=\u001b[39;49m\u001b[43m{\u001b[49m\n\u001b[1;32m      4\u001b[0m \u001b[43m            \u001b[49m\u001b[38;5;124;43m\"\u001b[39;49m\u001b[38;5;124;43minstances\u001b[39;49m\u001b[38;5;124;43m\"\u001b[39;49m\u001b[43m:\u001b[49m\u001b[43m \u001b[49m\u001b[43m{\u001b[49m\u001b[38;5;124;43mf\u001b[39;49m\u001b[38;5;124;43m\"\u001b[39;49m\u001b[38;5;124;43mdc\u001b[39;49m\u001b[38;5;132;43;01m{\u001b[39;49;00m\u001b[43mi\u001b[49m\u001b[38;5;132;43;01m}\u001b[39;49;00m\u001b[38;5;124;43m\"\u001b[39;49m\u001b[43m:\u001b[49m\u001b[43m \u001b[49m\u001b[38;5;124;43m\"\u001b[39;49m\u001b[38;5;124;43mdc_with_arms\u001b[39;49m\u001b[38;5;124;43m\"\u001b[39;49m\u001b[43m \u001b[49m\u001b[38;5;28;43;01mfor\u001b[39;49;00m\u001b[43m \u001b[49m\u001b[43mi\u001b[49m\u001b[43m \u001b[49m\u001b[38;5;129;43;01min\u001b[39;49;00m\u001b[43m \u001b[49m\u001b[38;5;28;43mrange\u001b[39;49m\u001b[43m(\u001b[49m\u001b[43mnum_mzis\u001b[49m\u001b[43m \u001b[49m\u001b[38;5;241;43m+\u001b[39;49m\u001b[43m \u001b[49m\u001b[38;5;241;43m1\u001b[39;49m\u001b[43m)\u001b[49m\u001b[43m}\u001b[49m\u001b[43m,\u001b[49m\n\u001b[1;32m      5\u001b[0m \u001b[43m            \u001b[49m\u001b[38;5;124;43m\"\u001b[39;49m\u001b[38;5;124;43mconnections\u001b[39;49m\u001b[38;5;124;43m\"\u001b[39;49m\u001b[43m:\u001b[49m\u001b[43m \u001b[49m\u001b[43m{\u001b[49m\n\u001b[1;32m      6\u001b[0m \u001b[43m                \u001b[49m\u001b[38;5;241;43m*\u001b[39;49m\u001b[38;5;241;43m*\u001b[39;49m\u001b[43m{\u001b[49m\u001b[38;5;124;43mf\u001b[39;49m\u001b[38;5;124;43m\"\u001b[39;49m\u001b[38;5;124;43mdc\u001b[39;49m\u001b[38;5;132;43;01m{\u001b[39;49;00m\u001b[43mi\u001b[49m\u001b[38;5;132;43;01m}\u001b[39;49;00m\u001b[38;5;124;43m,out0\u001b[39;49m\u001b[38;5;124;43m\"\u001b[39;49m\u001b[43m:\u001b[49m\u001b[43m \u001b[49m\u001b[38;5;124;43mf\u001b[39;49m\u001b[38;5;124;43m\"\u001b[39;49m\u001b[38;5;124;43mdc\u001b[39;49m\u001b[38;5;132;43;01m{\u001b[39;49;00m\u001b[43mi\u001b[49m\u001b[38;5;241;43m+\u001b[39;49m\u001b[38;5;241;43m1\u001b[39;49m\u001b[38;5;132;43;01m}\u001b[39;49;00m\u001b[38;5;124;43m,in0\u001b[39;49m\u001b[38;5;124;43m\"\u001b[39;49m\u001b[43m \u001b[49m\u001b[38;5;28;43;01mfor\u001b[39;49;00m\u001b[43m \u001b[49m\u001b[43mi\u001b[49m\u001b[43m \u001b[49m\u001b[38;5;129;43;01min\u001b[39;49;00m\u001b[43m \u001b[49m\u001b[38;5;28;43mrange\u001b[39;49m\u001b[43m(\u001b[49m\u001b[43mnum_mzis\u001b[49m\u001b[43m)\u001b[49m\u001b[43m}\u001b[49m\u001b[43m,\u001b[49m\n\u001b[1;32m      7\u001b[0m \u001b[43m                \u001b[49m\u001b[38;5;241;43m*\u001b[39;49m\u001b[38;5;241;43m*\u001b[39;49m\u001b[43m{\u001b[49m\u001b[38;5;124;43mf\u001b[39;49m\u001b[38;5;124;43m\"\u001b[39;49m\u001b[38;5;124;43mdc\u001b[39;49m\u001b[38;5;132;43;01m{\u001b[39;49;00m\u001b[43mi\u001b[49m\u001b[38;5;132;43;01m}\u001b[39;49;00m\u001b[38;5;124;43m,out1\u001b[39;49m\u001b[38;5;124;43m\"\u001b[39;49m\u001b[43m:\u001b[49m\u001b[43m \u001b[49m\u001b[38;5;124;43mf\u001b[39;49m\u001b[38;5;124;43m\"\u001b[39;49m\u001b[38;5;124;43mdc\u001b[39;49m\u001b[38;5;132;43;01m{\u001b[39;49;00m\u001b[43mi\u001b[49m\u001b[38;5;241;43m+\u001b[39;49m\u001b[38;5;241;43m1\u001b[39;49m\u001b[38;5;132;43;01m}\u001b[39;49;00m\u001b[38;5;124;43m,in1\u001b[39;49m\u001b[38;5;124;43m\"\u001b[39;49m\u001b[43m \u001b[49m\u001b[38;5;28;43;01mfor\u001b[39;49;00m\u001b[43m \u001b[49m\u001b[43mi\u001b[49m\u001b[43m \u001b[49m\u001b[38;5;129;43;01min\u001b[39;49;00m\u001b[43m \u001b[49m\u001b[38;5;28;43mrange\u001b[39;49m\u001b[43m(\u001b[49m\u001b[43mnum_mzis\u001b[49m\u001b[43m)\u001b[49m\u001b[43m}\u001b[49m\u001b[43m,\u001b[49m\n\u001b[1;32m      8\u001b[0m \u001b[43m            \u001b[49m\u001b[43m}\u001b[49m\u001b[43m,\u001b[49m\n\u001b[1;32m      9\u001b[0m \u001b[43m            \u001b[49m\u001b[38;5;124;43m\"\u001b[39;49m\u001b[38;5;124;43mports\u001b[39;49m\u001b[38;5;124;43m\"\u001b[39;49m\u001b[43m:\u001b[49m\u001b[43m \u001b[49m\u001b[43m{\u001b[49m\n\u001b[1;32m     10\u001b[0m \u001b[43m                \u001b[49m\u001b[38;5;124;43m\"\u001b[39;49m\u001b[38;5;124;43min0\u001b[39;49m\u001b[38;5;124;43m\"\u001b[39;49m\u001b[43m:\u001b[49m\u001b[43m \u001b[49m\u001b[38;5;124;43mf\u001b[39;49m\u001b[38;5;124;43m\"\u001b[39;49m\u001b[38;5;124;43mdc0,in0\u001b[39;49m\u001b[38;5;124;43m\"\u001b[39;49m\u001b[43m,\u001b[49m\n\u001b[1;32m     11\u001b[0m \u001b[43m                \u001b[49m\u001b[38;5;124;43m\"\u001b[39;49m\u001b[38;5;124;43min1\u001b[39;49m\u001b[38;5;124;43m\"\u001b[39;49m\u001b[43m:\u001b[49m\u001b[43m \u001b[49m\u001b[38;5;124;43mf\u001b[39;49m\u001b[38;5;124;43m\"\u001b[39;49m\u001b[38;5;124;43mdc0,in1\u001b[39;49m\u001b[38;5;124;43m\"\u001b[39;49m\u001b[43m,\u001b[49m\n\u001b[1;32m     12\u001b[0m \u001b[43m                \u001b[49m\u001b[38;5;124;43m\"\u001b[39;49m\u001b[38;5;124;43mout0\u001b[39;49m\u001b[38;5;124;43m\"\u001b[39;49m\u001b[43m:\u001b[49m\u001b[43m \u001b[49m\u001b[38;5;124;43mf\u001b[39;49m\u001b[38;5;124;43m\"\u001b[39;49m\u001b[38;5;124;43mdc\u001b[39;49m\u001b[38;5;132;43;01m{\u001b[39;49;00m\u001b[43mnum_mzis\u001b[49m\u001b[38;5;132;43;01m}\u001b[39;49;00m\u001b[38;5;124;43m,out0\u001b[39;49m\u001b[38;5;124;43m\"\u001b[39;49m\u001b[43m,\u001b[49m\n\u001b[1;32m     13\u001b[0m \u001b[43m                \u001b[49m\u001b[38;5;124;43m\"\u001b[39;49m\u001b[38;5;124;43mout1\u001b[39;49m\u001b[38;5;124;43m\"\u001b[39;49m\u001b[43m:\u001b[49m\u001b[43m \u001b[49m\u001b[38;5;124;43mf\u001b[39;49m\u001b[38;5;124;43m\"\u001b[39;49m\u001b[38;5;124;43mdc\u001b[39;49m\u001b[38;5;132;43;01m{\u001b[39;49;00m\u001b[43mnum_mzis\u001b[49m\u001b[38;5;132;43;01m}\u001b[39;49;00m\u001b[38;5;124;43m,out1\u001b[39;49m\u001b[38;5;124;43m\"\u001b[39;49m\u001b[43m,\u001b[49m\n\u001b[1;32m     14\u001b[0m \u001b[43m            \u001b[49m\u001b[43m}\u001b[49m\u001b[43m,\u001b[49m\n\u001b[1;32m     15\u001b[0m \u001b[43m        \u001b[49m\u001b[43m}\u001b[49m\u001b[43m,\u001b[49m\n\u001b[1;32m     16\u001b[0m \u001b[43m        \u001b[49m\u001b[43mmodels\u001b[49m\u001b[38;5;241;43m=\u001b[39;49m\u001b[43m{\u001b[49m\u001b[38;5;124;43m\"\u001b[39;49m\u001b[38;5;124;43mdc_with_arms\u001b[39;49m\u001b[38;5;124;43m\"\u001b[39;49m\u001b[43m:\u001b[49m\u001b[43m \u001b[49m\u001b[43mdc_with_arms\u001b[49m\u001b[43m}\u001b[49m\u001b[43m,\u001b[49m\n\u001b[1;32m     17\u001b[0m \u001b[43m        \u001b[49m\u001b[43mmodes\u001b[49m\u001b[38;5;241;43m=\u001b[39;49m\u001b[38;5;28;43;01mNone\u001b[39;49;00m\n\u001b[1;32m     18\u001b[0m \u001b[43m    \u001b[49m\u001b[43m)\u001b[49m\n\u001b[1;32m     19\u001b[0m     \u001b[38;5;28;01mreturn\u001b[39;00m chain\n",
            "\u001b[0;31mTypeError\u001b[0m: circuit() got an unexpected keyword argument 'modes'"
          ]
        }
      ],
      "source": [
        "chain = mzi_chain(num_mzis=15)\n",
        "settings = sax.get_settings(chain)\n",
        "for dc in settings:\n",
        "    settings[dc][\"top\"][\"length\"] = 25.0\n",
        "    settings[dc][\"btm\"][\"length\"] = 15.0\n",
        "settings = sax.update_settings(settings, wl=jnp.linspace(1.5, 1.6, 1000))"
      ]
    },
    {
      "cell_type": "markdown",
      "id": "11e3a10f",
      "metadata": {
        "papermill": {
          "duration": null,
          "end_time": null,
          "exception": null,
          "start_time": null,
          "status": "pending"
        },
        "tags": []
      },
      "source": [
        "We can simulate this:"
      ]
    },
    {
      "cell_type": "code",
      "execution_count": null,
      "id": "b6e1155a",
      "metadata": {
        "papermill": {
          "duration": null,
          "end_time": null,
          "exception": null,
          "start_time": null,
          "status": "pending"
        },
        "tags": []
      },
      "outputs": [],
      "source": [
        "%time S = chain(**settings) # time to evaluate the MZI\n",
        "func = jax.jit(chain)\n",
        "%time S = func(**settings) # time to jit the MZI\n",
        "%time S = func(**settings) # time to evaluate the MZI after jitting"
      ]
    },
    {
      "cell_type": "markdown",
      "id": "70db7179",
      "metadata": {
        "papermill": {
          "duration": null,
          "end_time": null,
          "exception": null,
          "start_time": null,
          "status": "pending"
        },
        "tags": []
      },
      "source": [
        "Where we see that the unjitted evaluation of the MZI chain takes about a second, while the jitting of the MZI chain takes about two minutes (on a CPU). However, after the MZI chain has been jitted, the evaluation is in the order of about a millisecond!\n",
        "\n",
        "Anyway, let's see what this gives:"
      ]
    },
    {
      "cell_type": "code",
      "execution_count": null,
      "id": "1e4a2aab",
      "metadata": {
        "papermill": {
          "duration": null,
          "end_time": null,
          "exception": null,
          "start_time": null,
          "status": "pending"
        },
        "tags": []
      },
      "outputs": [],
      "source": [
        "plt.plot(1e3 * settings[\"dc0\"][\"top\"][\"wl\"], jnp.abs(S[\"in0\", \"out0\"]) ** 2)\n",
        "plt.ylim(-0.05, 1.05)\n",
        "plt.xlabel(\"\u03bb [nm]\")\n",
        "plt.ylabel(\"T\")\n",
        "plt.ylim(-0.05, 1.05)\n",
        "plt.show()"
      ]
    }
  ],
  "metadata": {
    "kernelspec": {
      "display_name": "sax",
      "language": "python",
      "name": "sax"
    },
    "language_info": {
      "codemirror_mode": {
        "name": "ipython",
        "version": 3
      },
      "file_extension": ".py",
      "mimetype": "text/x-python",
      "name": "python",
      "nbconvert_exporter": "python",
      "pygments_lexer": "ipython3",
      "version": "3.11.5"
    },
    "papermill": {
      "default_parameters": {},
      "duration": 16.078613,
      "end_time": "2023-09-01T16:50:18.092769",
      "environment_variables": {},
      "exception": true,
      "input_path": "./examples/01_quick_start.ipynb",
      "output_path": "./examples/01_quick_start.ipynb",
      "parameters": {},
      "start_time": "2023-09-01T16:50:02.014156",
      "version": "2.4.0"
    },
    "widgets": {
      "application/vnd.jupyter.widget-state+json": {
        "state": {
          "0fdb1371fe064171ab20d80e832d9c75": {
            "model_module": "@jupyter-widgets/controls",
            "model_module_version": "2.0.0",
            "model_name": "HTMLModel",
            "state": {
              "_dom_classes": [],
              "_model_module": "@jupyter-widgets/controls",
              "_model_module_version": "2.0.0",
              "_model_name": "HTMLModel",
              "_view_count": null,
              "_view_module": "@jupyter-widgets/controls",
              "_view_module_version": "2.0.0",
              "_view_name": "HTMLView",
              "description": "",
              "description_allow_html": false,
              "layout": "IPY_MODEL_b492925ea8684b7983264e71fcd061eb",
              "placeholder": "\u200b",
              "style": "IPY_MODEL_6265202724284293850d881a40d511f0",
              "tabbable": null,
              "tooltip": null,
              "value": "100%"
            }
          },
          "34aaed535ca744e4aabc998d3d27f501": {
            "model_module": "@jupyter-widgets/base",
            "model_module_version": "2.0.0",
            "model_name": "LayoutModel",
            "state": {
              "_model_module": "@jupyter-widgets/base",
              "_model_module_version": "2.0.0",
              "_model_name": "LayoutModel",
              "_view_count": null,
              "_view_module": "@jupyter-widgets/base",
              "_view_module_version": "2.0.0",
              "_view_name": "LayoutView",
              "align_content": null,
              "align_items": null,
              "align_self": null,
              "border_bottom": null,
              "border_left": null,
              "border_right": null,
              "border_top": null,
              "bottom": null,
              "display": null,
              "flex": null,
              "flex_flow": null,
              "grid_area": null,
              "grid_auto_columns": null,
              "grid_auto_flow": null,
              "grid_auto_rows": null,
              "grid_column": null,
              "grid_gap": null,
              "grid_row": null,
              "grid_template_areas": null,
              "grid_template_columns": null,
              "grid_template_rows": null,
              "height": null,
              "justify_content": null,
              "justify_items": null,
              "left": null,
              "margin": null,
              "max_height": null,
              "max_width": null,
              "min_height": null,
              "min_width": null,
              "object_fit": null,
              "object_position": null,
              "order": null,
              "overflow": null,
              "padding": null,
              "right": null,
              "top": null,
              "visibility": null,
              "width": null
            }
          },
          "36746aceb4fc4682a873cf24394e0912": {
            "model_module": "@jupyter-widgets/controls",
            "model_module_version": "2.0.0",
            "model_name": "ProgressStyleModel",
            "state": {
              "_model_module": "@jupyter-widgets/controls",
              "_model_module_version": "2.0.0",
              "_model_name": "ProgressStyleModel",
              "_view_count": null,
              "_view_module": "@jupyter-widgets/base",
              "_view_module_version": "2.0.0",
              "_view_name": "StyleView",
              "bar_color": null,
              "description_width": ""
            }
          },
          "4cebb00c94f3445ca0fbe58240c8b615": {
            "model_module": "@jupyter-widgets/controls",
            "model_module_version": "2.0.0",
            "model_name": "HTMLStyleModel",
            "state": {
              "_model_module": "@jupyter-widgets/controls",
              "_model_module_version": "2.0.0",
              "_model_name": "HTMLStyleModel",
              "_view_count": null,
              "_view_module": "@jupyter-widgets/base",
              "_view_module_version": "2.0.0",
              "_view_name": "StyleView",
              "background": null,
              "description_width": "",
              "font_size": null,
              "text_color": null
            }
          },
          "6265202724284293850d881a40d511f0": {
            "model_module": "@jupyter-widgets/controls",
            "model_module_version": "2.0.0",
            "model_name": "HTMLStyleModel",
            "state": {
              "_model_module": "@jupyter-widgets/controls",
              "_model_module_version": "2.0.0",
              "_model_name": "HTMLStyleModel",
              "_view_count": null,
              "_view_module": "@jupyter-widgets/base",
              "_view_module_version": "2.0.0",
              "_view_name": "StyleView",
              "background": null,
              "description_width": "",
              "font_size": null,
              "text_color": null
            }
          },
          "8412e1e0ea794f4e9fab969e25ca38fa": {
            "model_module": "@jupyter-widgets/controls",
            "model_module_version": "2.0.0",
            "model_name": "HTMLModel",
            "state": {
              "_dom_classes": [],
              "_model_module": "@jupyter-widgets/controls",
              "_model_module_version": "2.0.0",
              "_model_name": "HTMLModel",
              "_view_count": null,
              "_view_module": "@jupyter-widgets/controls",
              "_view_module_version": "2.0.0",
              "_view_name": "HTMLView",
              "description": "",
              "description_allow_html": false,
              "layout": "IPY_MODEL_9107663f238649fa934e4ac8787c4df4",
              "placeholder": "\u200b",
              "style": "IPY_MODEL_4cebb00c94f3445ca0fbe58240c8b615",
              "tabbable": null,
              "tooltip": null,
              "value": " 300/300 [00:06&lt;00:00, 63.17it/s, loss=0.000000]"
            }
          },
          "85929b2ab69645d9819463b2bd2cbb60": {
            "model_module": "@jupyter-widgets/base",
            "model_module_version": "2.0.0",
            "model_name": "LayoutModel",
            "state": {
              "_model_module": "@jupyter-widgets/base",
              "_model_module_version": "2.0.0",
              "_model_name": "LayoutModel",
              "_view_count": null,
              "_view_module": "@jupyter-widgets/base",
              "_view_module_version": "2.0.0",
              "_view_name": "LayoutView",
              "align_content": null,
              "align_items": null,
              "align_self": null,
              "border_bottom": null,
              "border_left": null,
              "border_right": null,
              "border_top": null,
              "bottom": null,
              "display": null,
              "flex": null,
              "flex_flow": null,
              "grid_area": null,
              "grid_auto_columns": null,
              "grid_auto_flow": null,
              "grid_auto_rows": null,
              "grid_column": null,
              "grid_gap": null,
              "grid_row": null,
              "grid_template_areas": null,
              "grid_template_columns": null,
              "grid_template_rows": null,
              "height": null,
              "justify_content": null,
              "justify_items": null,
              "left": null,
              "margin": null,
              "max_height": null,
              "max_width": null,
              "min_height": null,
              "min_width": null,
              "object_fit": null,
              "object_position": null,
              "order": null,
              "overflow": null,
              "padding": null,
              "right": null,
              "top": null,
              "visibility": null,
              "width": null
            }
          },
          "9107663f238649fa934e4ac8787c4df4": {
            "model_module": "@jupyter-widgets/base",
            "model_module_version": "2.0.0",
            "model_name": "LayoutModel",
            "state": {
              "_model_module": "@jupyter-widgets/base",
              "_model_module_version": "2.0.0",
              "_model_name": "LayoutModel",
              "_view_count": null,
              "_view_module": "@jupyter-widgets/base",
              "_view_module_version": "2.0.0",
              "_view_name": "LayoutView",
              "align_content": null,
              "align_items": null,
              "align_self": null,
              "border_bottom": null,
              "border_left": null,
              "border_right": null,
              "border_top": null,
              "bottom": null,
              "display": null,
              "flex": null,
              "flex_flow": null,
              "grid_area": null,
              "grid_auto_columns": null,
              "grid_auto_flow": null,
              "grid_auto_rows": null,
              "grid_column": null,
              "grid_gap": null,
              "grid_row": null,
              "grid_template_areas": null,
              "grid_template_columns": null,
              "grid_template_rows": null,
              "height": null,
              "justify_content": null,
              "justify_items": null,
              "left": null,
              "margin": null,
              "max_height": null,
              "max_width": null,
              "min_height": null,
              "min_width": null,
              "object_fit": null,
              "object_position": null,
              "order": null,
              "overflow": null,
              "padding": null,
              "right": null,
              "top": null,
              "visibility": null,
              "width": null
            }
          },
          "a14df1ebcc1a4dd59ad9c1442a5dc304": {
            "model_module": "@jupyter-widgets/controls",
            "model_module_version": "2.0.0",
            "model_name": "HBoxModel",
            "state": {
              "_dom_classes": [],
              "_model_module": "@jupyter-widgets/controls",
              "_model_module_version": "2.0.0",
              "_model_name": "HBoxModel",
              "_view_count": null,
              "_view_module": "@jupyter-widgets/controls",
              "_view_module_version": "2.0.0",
              "_view_name": "HBoxView",
              "box_style": "",
              "children": [
                "IPY_MODEL_0fdb1371fe064171ab20d80e832d9c75",
                "IPY_MODEL_b3546e695385464a81ee18b386dde5c0",
                "IPY_MODEL_8412e1e0ea794f4e9fab969e25ca38fa"
              ],
              "layout": "IPY_MODEL_85929b2ab69645d9819463b2bd2cbb60",
              "tabbable": null,
              "tooltip": null
            }
          },
          "b3546e695385464a81ee18b386dde5c0": {
            "model_module": "@jupyter-widgets/controls",
            "model_module_version": "2.0.0",
            "model_name": "FloatProgressModel",
            "state": {
              "_dom_classes": [],
              "_model_module": "@jupyter-widgets/controls",
              "_model_module_version": "2.0.0",
              "_model_name": "FloatProgressModel",
              "_view_count": null,
              "_view_module": "@jupyter-widgets/controls",
              "_view_module_version": "2.0.0",
              "_view_name": "ProgressView",
              "bar_style": "success",
              "description": "",
              "description_allow_html": false,
              "layout": "IPY_MODEL_34aaed535ca744e4aabc998d3d27f501",
              "max": 300.0,
              "min": 0.0,
              "orientation": "horizontal",
              "style": "IPY_MODEL_36746aceb4fc4682a873cf24394e0912",
              "tabbable": null,
              "tooltip": null,
              "value": 300.0
            }
          },
          "b492925ea8684b7983264e71fcd061eb": {
            "model_module": "@jupyter-widgets/base",
            "model_module_version": "2.0.0",
            "model_name": "LayoutModel",
            "state": {
              "_model_module": "@jupyter-widgets/base",
              "_model_module_version": "2.0.0",
              "_model_name": "LayoutModel",
              "_view_count": null,
              "_view_module": "@jupyter-widgets/base",
              "_view_module_version": "2.0.0",
              "_view_name": "LayoutView",
              "align_content": null,
              "align_items": null,
              "align_self": null,
              "border_bottom": null,
              "border_left": null,
              "border_right": null,
              "border_top": null,
              "bottom": null,
              "display": null,
              "flex": null,
              "flex_flow": null,
              "grid_area": null,
              "grid_auto_columns": null,
              "grid_auto_flow": null,
              "grid_auto_rows": null,
              "grid_column": null,
              "grid_gap": null,
              "grid_row": null,
              "grid_template_areas": null,
              "grid_template_columns": null,
              "grid_template_rows": null,
              "height": null,
              "justify_content": null,
              "justify_items": null,
              "left": null,
              "margin": null,
              "max_height": null,
              "max_width": null,
              "min_height": null,
              "min_width": null,
              "object_fit": null,
              "object_position": null,
              "order": null,
              "overflow": null,
              "padding": null,
              "right": null,
              "top": null,
              "visibility": null,
              "width": null
            }
          }
        },
        "version_major": 2,
        "version_minor": 0
      }
    }
  },
  "nbformat": 4,
  "nbformat_minor": 5
}