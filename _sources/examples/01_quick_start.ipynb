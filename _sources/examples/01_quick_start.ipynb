{
  "cells": [
    {
      "cell_type": "markdown",
      "id": "ab894499",
      "metadata": {
        "papermill": {
          "duration": 0.006973,
          "end_time": "2023-06-01T21:30:51.597114",
          "exception": false,
          "start_time": "2023-06-01T21:30:51.590141",
          "status": "completed"
        },
        "tags": []
      },
      "source": [
        "# SAX Quick Start\n",
        "> Let's go over the core functionality of SAX."
      ]
    },
    {
      "cell_type": "markdown",
      "id": "3c91396d",
      "metadata": {
        "papermill": {
          "duration": 0.01351,
          "end_time": "2023-06-01T21:30:51.617407",
          "exception": false,
          "start_time": "2023-06-01T21:30:51.603897",
          "status": "completed"
        },
        "tags": []
      },
      "source": [
        "## Environment variables"
      ]
    },
    {
      "cell_type": "markdown",
      "id": "79240f32",
      "metadata": {
        "papermill": {
          "duration": 0.01329,
          "end_time": "2023-06-01T21:30:51.641194",
          "exception": false,
          "start_time": "2023-06-01T21:30:51.627904",
          "status": "completed"
        },
        "tags": []
      },
      "source": [
        "SAX is based on JAX... here are some useful environment variables for working with JAX:"
      ]
    },
    {
      "cell_type": "code",
      "execution_count": 1,
      "id": "a320df9d610928f4",
      "metadata": {
        "execution": {
          "iopub.execute_input": "2023-06-01T21:30:51.666221Z",
          "iopub.status.busy": "2023-06-01T21:30:51.665928Z",
          "iopub.status.idle": "2023-06-01T21:30:52.283312Z",
          "shell.execute_reply": "2023-06-01T21:30:52.282799Z"
        },
        "papermill": {
          "duration": 0.63314,
          "end_time": "2023-06-01T21:30:52.284792",
          "exception": false,
          "start_time": "2023-06-01T21:30:51.651652",
          "status": "completed"
        },
        "tags": []
      },
      "outputs": [
        {
          "name": "stdout",
          "output_type": "stream",
          "text": [
            "env: JAX_ENABLE_X64=0\n",
            "env: JAX_PLATFORM_NAME=cpu\n",
            "env: XLA_FLAGS=--xla_gpu_cuda_data_dir=/usr/lib/cuda\n"
          ]
        },
        {
          "name": "stdout",
          "output_type": "stream",
          "text": [
            "cpu\n"
          ]
        }
      ],
      "source": [
        "# select float32 or float64 as default dtype\n",
        "%env JAX_ENABLE_X64=0\n",
        "\n",
        "# select cpu or gpu\n",
        "%env JAX_PLATFORM_NAME=cpu\n",
        "\n",
        "# set custom CUDA location for gpu:\n",
        "%env XLA_FLAGS=--xla_gpu_cuda_data_dir=/usr/lib/cuda\n",
        "\n",
        "# Using GPU?\n",
        "from jax.lib import xla_bridge\n",
        "print(xla_bridge.get_backend().platform)"
      ]
    },
    {
      "cell_type": "markdown",
      "id": "4938b729-8b27-406f-b5fd-e118a9fb39f1",
      "metadata": {
        "papermill": {
          "duration": 0.005998,
          "end_time": "2023-06-01T21:30:52.297161",
          "exception": false,
          "start_time": "2023-06-01T21:30:52.291163",
          "status": "completed"
        },
        "tags": []
      },
      "source": [
        "## Imports"
      ]
    },
    {
      "cell_type": "code",
      "execution_count": 2,
      "id": "e0450fde",
      "metadata": {
        "execution": {
          "iopub.execute_input": "2023-06-01T21:30:52.310594Z",
          "iopub.status.busy": "2023-06-01T21:30:52.310311Z",
          "iopub.status.idle": "2023-06-01T21:30:53.339408Z",
          "shell.execute_reply": "2023-06-01T21:30:53.338883Z"
        },
        "papermill": {
          "duration": 1.037675,
          "end_time": "2023-06-01T21:30:53.341136",
          "exception": false,
          "start_time": "2023-06-01T21:30:52.303461",
          "status": "completed"
        },
        "tags": []
      },
      "outputs": [],
      "source": [
        "from functools import partial\n",
        "\n",
        "import jax\n",
        "import jax.example_libraries.optimizers as opt\n",
        "import jax.numpy as jnp\n",
        "import matplotlib.pyplot as plt  # plotting\n",
        "import sax\n",
        "from tqdm.notebook import trange"
      ]
    },
    {
      "cell_type": "markdown",
      "id": "8c4d4c4e",
      "metadata": {
        "papermill": {
          "duration": 0.006135,
          "end_time": "2023-06-01T21:30:53.354064",
          "exception": false,
          "start_time": "2023-06-01T21:30:53.347929",
          "status": "completed"
        },
        "tags": []
      },
      "source": [
        "## Scatter *dictionaries*\n",
        "The core datastructure for specifying scatter parameters in SAX is a dictionary... more specifically a dictionary which maps a port combination (2-tuple) to a scatter parameter (or an array of scatter parameters when considering multiple wavelengths for example). Such a specific dictionary mapping is called ann `SDict` in SAX (`SDict \u2248 Dict[Tuple[str,str], float]`).\n",
        "\n",
        "Dictionaries are in fact much better suited for characterizing S-parameters than, say, (jax-)numpy arrays due to the inherent sparse nature of scatter parameters. Moreover, dictonaries allow for string indexing, which makes them much more pleasant to use in this context. Let\u2019s for example create an `SDict` for a 50/50 coupler:"
      ]
    },
    {
      "cell_type": "markdown",
      "id": "a7f90205",
      "metadata": {
        "papermill": {
          "duration": 0.006413,
          "end_time": "2023-06-01T21:30:53.366518",
          "exception": false,
          "start_time": "2023-06-01T21:30:53.360105",
          "status": "completed"
        },
        "tags": []
      },
      "source": [
        "```\n",
        "in1          out1\n",
        "   \\        /\n",
        "    ========\n",
        "   /        \\\n",
        "in0          out0\n",
        "```"
      ]
    },
    {
      "cell_type": "code",
      "execution_count": 3,
      "id": "89f215e8",
      "metadata": {
        "execution": {
          "iopub.execute_input": "2023-06-01T21:30:53.380104Z",
          "iopub.status.busy": "2023-06-01T21:30:53.379708Z",
          "iopub.status.idle": "2023-06-01T21:30:53.388392Z",
          "shell.execute_reply": "2023-06-01T21:30:53.387902Z"
        },
        "papermill": {
          "duration": 0.01717,
          "end_time": "2023-06-01T21:30:53.389712",
          "exception": false,
          "start_time": "2023-06-01T21:30:53.372542",
          "status": "completed"
        },
        "tags": []
      },
      "outputs": [
        {
          "data": {
            "text/plain": [
              "{('in0', 'out0'): 0.7071067811865476,\n",
              " ('out0', 'in0'): 0.7071067811865476,\n",
              " ('in0', 'out1'): 0.7071067811865476j,\n",
              " ('out1', 'in0'): 0.7071067811865476j,\n",
              " ('in1', 'out0'): 0.7071067811865476j,\n",
              " ('out0', 'in1'): 0.7071067811865476j,\n",
              " ('in1', 'out1'): 0.7071067811865476,\n",
              " ('out1', 'in1'): 0.7071067811865476}"
            ]
          },
          "execution_count": 3,
          "metadata": {},
          "output_type": "execute_result"
        }
      ],
      "source": [
        "coupling = 0.5\n",
        "kappa = coupling ** 0.5\n",
        "tau = (1 - coupling) ** 0.5\n",
        "coupler_dict = {\n",
        "    (\"in0\", \"out0\"): tau,\n",
        "    (\"out0\", \"in0\"): tau,\n",
        "    (\"in0\", \"out1\"): 1j * kappa,\n",
        "    (\"out1\", \"in0\"): 1j * kappa,\n",
        "    (\"in1\", \"out0\"): 1j * kappa,\n",
        "    (\"out0\", \"in1\"): 1j * kappa,\n",
        "    (\"in1\", \"out1\"): tau,\n",
        "    (\"out1\", \"in1\"): tau,\n",
        "}\n",
        "coupler_dict"
      ]
    },
    {
      "cell_type": "markdown",
      "id": "bb9cb2b6",
      "metadata": {
        "papermill": {
          "duration": 0.006362,
          "end_time": "2023-06-01T21:30:53.402213",
          "exception": false,
          "start_time": "2023-06-01T21:30:53.395851",
          "status": "completed"
        },
        "tags": []
      },
      "source": [
        "Only the non-zero port combinations need to be specified. Any non-existent port-combination (for example `(\"in0\", \"in1\")`) is considered to be zero by SAX.\n",
        "\n",
        "Obviously, it can still be tedious to specify every port in the circuit manually. SAX therefore offers the `reciprocal` function, which auto-fills the reverse connection if the forward connection exist. For example:"
      ]
    },
    {
      "cell_type": "code",
      "execution_count": 4,
      "id": "494f445d",
      "metadata": {
        "execution": {
          "iopub.execute_input": "2023-06-01T21:30:53.415430Z",
          "iopub.status.busy": "2023-06-01T21:30:53.415209Z",
          "iopub.status.idle": "2023-06-01T21:30:53.419699Z",
          "shell.execute_reply": "2023-06-01T21:30:53.419226Z"
        },
        "papermill": {
          "duration": 0.013884,
          "end_time": "2023-06-01T21:30:53.422159",
          "exception": false,
          "start_time": "2023-06-01T21:30:53.408275",
          "status": "completed"
        },
        "tags": []
      },
      "outputs": [
        {
          "data": {
            "text/plain": [
              "{('in0', 'out0'): 0.7071067811865476,\n",
              " ('in0', 'out1'): 0.7071067811865476j,\n",
              " ('in1', 'out0'): 0.7071067811865476j,\n",
              " ('in1', 'out1'): 0.7071067811865476,\n",
              " ('out0', 'in0'): 0.7071067811865476,\n",
              " ('out1', 'in0'): 0.7071067811865476j,\n",
              " ('out0', 'in1'): 0.7071067811865476j,\n",
              " ('out1', 'in1'): 0.7071067811865476}"
            ]
          },
          "execution_count": 4,
          "metadata": {},
          "output_type": "execute_result"
        }
      ],
      "source": [
        "coupler_dict = sax.reciprocal(\n",
        "    {\n",
        "        (\"in0\", \"out0\"): tau,\n",
        "        (\"in0\", \"out1\"): 1j * kappa,\n",
        "        (\"in1\", \"out0\"): 1j * kappa,\n",
        "        (\"in1\", \"out1\"): tau,\n",
        "    }\n",
        ")\n",
        "\n",
        "coupler_dict"
      ]
    },
    {
      "cell_type": "markdown",
      "id": "67e730f6",
      "metadata": {
        "papermill": {
          "duration": 0.006219,
          "end_time": "2023-06-01T21:30:53.434691",
          "exception": false,
          "start_time": "2023-06-01T21:30:53.428472",
          "status": "completed"
        },
        "tags": []
      },
      "source": [
        "## Parametrized Models"
      ]
    },
    {
      "cell_type": "markdown",
      "id": "ec1e1214",
      "metadata": {
        "papermill": {
          "duration": 0.006149,
          "end_time": "2023-06-01T21:30:53.447055",
          "exception": false,
          "start_time": "2023-06-01T21:30:53.440906",
          "status": "completed"
        },
        "tags": []
      },
      "source": [
        "Constructing such an `SDict` is easy, however, usually we're more interested in having parametrized models for our components. To parametrize the coupler `SDict`, just wrap it in a function to obtain a SAX `Model`, which is a keyword-only function mapping to an `SDict`:"
      ]
    },
    {
      "cell_type": "code",
      "execution_count": 5,
      "id": "33efb99f",
      "metadata": {
        "execution": {
          "iopub.execute_input": "2023-06-01T21:30:53.460801Z",
          "iopub.status.busy": "2023-06-01T21:30:53.460561Z",
          "iopub.status.idle": "2023-06-01T21:30:53.465678Z",
          "shell.execute_reply": "2023-06-01T21:30:53.465206Z"
        },
        "papermill": {
          "duration": 0.014818,
          "end_time": "2023-06-01T21:30:53.468187",
          "exception": false,
          "start_time": "2023-06-01T21:30:53.453369",
          "status": "completed"
        },
        "tags": []
      },
      "outputs": [
        {
          "data": {
            "text/plain": [
              "{('in0', 'out0'): 0.8366600265340756,\n",
              " ('in0', 'out1'): 0.5477225575051661j,\n",
              " ('in1', 'out0'): 0.5477225575051661j,\n",
              " ('in1', 'out1'): 0.8366600265340756,\n",
              " ('out0', 'in0'): 0.8366600265340756,\n",
              " ('out1', 'in0'): 0.5477225575051661j,\n",
              " ('out0', 'in1'): 0.5477225575051661j,\n",
              " ('out1', 'in1'): 0.8366600265340756}"
            ]
          },
          "execution_count": 5,
          "metadata": {},
          "output_type": "execute_result"
        }
      ],
      "source": [
        "def coupler(coupling=0.5) -> sax.SDict:\n",
        "    kappa = coupling ** 0.5\n",
        "    tau = (1 - coupling) ** 0.5\n",
        "    coupler_dict = sax.reciprocal(\n",
        "        {\n",
        "            (\"in0\", \"out0\"): tau,\n",
        "            (\"in0\", \"out1\"): 1j * kappa,\n",
        "            (\"in1\", \"out0\"): 1j * kappa,\n",
        "            (\"in1\", \"out1\"): tau,\n",
        "        }\n",
        "    )\n",
        "    return coupler_dict\n",
        "\n",
        "\n",
        "coupler(coupling=0.3)"
      ]
    },
    {
      "cell_type": "markdown",
      "id": "4ef93f65",
      "metadata": {
        "papermill": {
          "duration": 0.006299,
          "end_time": "2023-06-01T21:30:53.480801",
          "exception": false,
          "start_time": "2023-06-01T21:30:53.474502",
          "status": "completed"
        },
        "tags": []
      },
      "source": [
        "We can define a waveguide in the same way:"
      ]
    },
    {
      "cell_type": "code",
      "execution_count": 6,
      "id": "5eac9176",
      "metadata": {
        "execution": {
          "iopub.execute_input": "2023-06-01T21:30:53.499876Z",
          "iopub.status.busy": "2023-06-01T21:30:53.499651Z",
          "iopub.status.idle": "2023-06-01T21:30:53.503540Z",
          "shell.execute_reply": "2023-06-01T21:30:53.503031Z"
        },
        "papermill": {
          "duration": 0.018832,
          "end_time": "2023-06-01T21:30:53.505935",
          "exception": false,
          "start_time": "2023-06-01T21:30:53.487103",
          "status": "completed"
        },
        "tags": []
      },
      "outputs": [],
      "source": [
        "def waveguide(wl=1.55, wl0=1.55, neff=2.34, ng=3.4, length=10.0, loss=0.0) -> sax.SDict:\n",
        "    dwl = wl - wl0\n",
        "    dneff_dwl = (ng - neff) / wl0\n",
        "    neff = neff - dwl * dneff_dwl\n",
        "    phase = 2 * jnp.pi * neff * length / wl\n",
        "    transmission = 10 ** (-loss * length / 20) * jnp.exp(1j * phase)\n",
        "    sdict = sax.reciprocal(\n",
        "        {\n",
        "            (\"in0\", \"out0\"): transmission,\n",
        "        }\n",
        "    )\n",
        "    return sdict"
      ]
    },
    {
      "cell_type": "markdown",
      "id": "67713c18",
      "metadata": {
        "papermill": {
          "duration": 0.015519,
          "end_time": "2023-06-01T21:30:53.533803",
          "exception": false,
          "start_time": "2023-06-01T21:30:53.518284",
          "status": "completed"
        },
        "tags": []
      },
      "source": [
        "That's pretty straightforward. Let's now move on to parametrized circuits:"
      ]
    },
    {
      "cell_type": "markdown",
      "id": "579a9ce1",
      "metadata": {
        "papermill": {
          "duration": 0.010444,
          "end_time": "2023-06-01T21:30:53.557054",
          "exception": false,
          "start_time": "2023-06-01T21:30:53.546610",
          "status": "completed"
        },
        "tags": []
      },
      "source": [
        "## Circuit Models"
      ]
    },
    {
      "cell_type": "markdown",
      "id": "cc3c78a0",
      "metadata": {
        "papermill": {
          "duration": 0.011019,
          "end_time": "2023-06-01T21:30:53.584987",
          "exception": false,
          "start_time": "2023-06-01T21:30:53.573968",
          "status": "completed"
        },
        "tags": []
      },
      "source": [
        "Existing models can now be combined into a circuit using `sax.circuit`, which basically creates a new `Model` function:"
      ]
    },
    {
      "cell_type": "code",
      "execution_count": 7,
      "id": "d6885e1d",
      "metadata": {
        "execution": {
          "iopub.execute_input": "2023-06-01T21:30:53.610549Z",
          "iopub.status.busy": "2023-06-01T21:30:53.610291Z",
          "iopub.status.idle": "2023-06-01T21:30:53.621703Z",
          "shell.execute_reply": "2023-06-01T21:30:53.621248Z"
        },
        "papermill": {
          "duration": 0.026142,
          "end_time": "2023-06-01T21:30:53.622854",
          "exception": false,
          "start_time": "2023-06-01T21:30:53.596712",
          "status": "completed"
        },
        "tags": []
      },
      "outputs": [],
      "source": [
        "mzi, info = sax.circuit(\n",
        "    netlist={\n",
        "        \"instances\": {\n",
        "            \"lft\": \"coupler\",\n",
        "            \"top\": \"waveguide\",\n",
        "            \"btm\": \"waveguide\",\n",
        "            \"rgt\": \"coupler\",\n",
        "        },\n",
        "        \"connections\": {\n",
        "            \"lft,out0\": \"btm,in0\",\n",
        "            \"btm,out0\": \"rgt,in0\",\n",
        "            \"lft,out1\": \"top,in0\",\n",
        "            \"top,out0\": \"rgt,in1\",\n",
        "        },\n",
        "        \"ports\": {\n",
        "            \"in0\": \"lft,in0\",\n",
        "            \"in1\": \"lft,in1\",\n",
        "            \"out0\": \"rgt,out0\",\n",
        "            \"out1\": \"rgt,out1\",\n",
        "        },\n",
        "    },\n",
        "    models={\n",
        "        \"coupler\": coupler,\n",
        "        \"waveguide\": waveguide,\n",
        "    }\n",
        ")"
      ]
    },
    {
      "cell_type": "code",
      "execution_count": 8,
      "id": "e95325c6",
      "metadata": {
        "execution": {
          "iopub.execute_input": "2023-06-01T21:30:53.644261Z",
          "iopub.status.busy": "2023-06-01T21:30:53.644040Z",
          "iopub.status.idle": "2023-06-01T21:30:53.713580Z",
          "shell.execute_reply": "2023-06-01T21:30:53.713038Z"
        },
        "papermill": {
          "duration": 0.085753,
          "end_time": "2023-06-01T21:30:53.714977",
          "exception": false,
          "start_time": "2023-06-01T21:30:53.629224",
          "status": "completed"
        },
        "tags": []
      },
      "outputs": [],
      "source": [
        "mzi?"
      ]
    },
    {
      "cell_type": "markdown",
      "id": "d2c74cff",
      "metadata": {
        "papermill": {
          "duration": 0.007155,
          "end_time": "2023-06-01T21:30:53.728746",
          "exception": false,
          "start_time": "2023-06-01T21:30:53.721591",
          "status": "completed"
        },
        "tags": []
      },
      "source": [
        "The `circuit` function just creates a similar function as we created for the waveguide and the coupler, but in stead of taking parameters directly it takes parameter *dictionaries* for each of the instances in the circuit. The keys in these parameter dictionaries should correspond to the keyword arguments of each individual subcomponent. "
      ]
    },
    {
      "cell_type": "markdown",
      "id": "ba1202d1",
      "metadata": {
        "papermill": {
          "duration": 0.00631,
          "end_time": "2023-06-01T21:30:53.754126",
          "exception": false,
          "start_time": "2023-06-01T21:30:53.747816",
          "status": "completed"
        },
        "tags": []
      },
      "source": [
        "Let's now do a simulation for the MZI we just constructed:"
      ]
    },
    {
      "cell_type": "code",
      "execution_count": 9,
      "id": "f2108f6a",
      "metadata": {
        "execution": {
          "iopub.execute_input": "2023-06-01T21:30:53.789839Z",
          "iopub.status.busy": "2023-06-01T21:30:53.789614Z",
          "iopub.status.idle": "2023-06-01T21:30:56.887319Z",
          "shell.execute_reply": "2023-06-01T21:30:56.886812Z"
        },
        "papermill": {
          "duration": 3.117429,
          "end_time": "2023-06-01T21:30:56.888695",
          "exception": false,
          "start_time": "2023-06-01T21:30:53.771266",
          "status": "completed"
        },
        "tags": []
      },
      "outputs": [
        {
          "name": "stdout",
          "output_type": "stream",
          "text": [
            "CPU times: user 2.04 s, sys: 50.3 ms, total: 2.09 s\n",
            "Wall time: 3.09 s\n"
          ]
        },
        {
          "data": {
            "text/plain": [
              "{('in0', 'in0'): Array(0.+0.j, dtype=complex64),\n",
              " ('in0', 'in1'): Array(0.+0.j, dtype=complex64),\n",
              " ('in1', 'in0'): Array(0.+0.j, dtype=complex64),\n",
              " ('in1', 'in1'): Array(0.+0.j, dtype=complex64),\n",
              " ('in0', 'out1'): Array(-0.57127243+0.8207605j, dtype=complex64),\n",
              " ('in0', 'out0'): Array(0.+0.j, dtype=complex64),\n",
              " ('in1', 'out1'): Array(0.+0.j, dtype=complex64),\n",
              " ('in1', 'out0'): Array(-0.57127243+0.8207605j, dtype=complex64),\n",
              " ('out1', 'in0'): Array(-0.57127243+0.8207605j, dtype=complex64),\n",
              " ('out1', 'in1'): Array(0.+0.j, dtype=complex64),\n",
              " ('out1', 'out1'): Array(0.+0.j, dtype=complex64),\n",
              " ('out1', 'out0'): Array(0.+0.j, dtype=complex64),\n",
              " ('out0', 'in0'): Array(0.+0.j, dtype=complex64),\n",
              " ('out0', 'in1'): Array(-0.57127243+0.8207605j, dtype=complex64),\n",
              " ('out0', 'out1'): Array(0.+0.j, dtype=complex64),\n",
              " ('out0', 'out0'): Array(0.+0.j, dtype=complex64)}"
            ]
          },
          "execution_count": 9,
          "metadata": {},
          "output_type": "execute_result"
        }
      ],
      "source": [
        "%time mzi()"
      ]
    },
    {
      "cell_type": "code",
      "execution_count": 10,
      "id": "cb43b835",
      "metadata": {
        "execution": {
          "iopub.execute_input": "2023-06-01T21:30:56.904140Z",
          "iopub.status.busy": "2023-06-01T21:30:56.903908Z",
          "iopub.status.idle": "2023-06-01T21:30:56.906912Z",
          "shell.execute_reply": "2023-06-01T21:30:56.906412Z"
        },
        "papermill": {
          "duration": 0.01266,
          "end_time": "2023-06-01T21:30:56.908811",
          "exception": false,
          "start_time": "2023-06-01T21:30:56.896151",
          "status": "completed"
        },
        "tags": []
      },
      "outputs": [],
      "source": [
        "mzi2 = jax.jit(mzi)"
      ]
    },
    {
      "cell_type": "code",
      "execution_count": 11,
      "id": "61f2bb6e",
      "metadata": {
        "execution": {
          "iopub.execute_input": "2023-06-01T21:30:56.923382Z",
          "iopub.status.busy": "2023-06-01T21:30:56.923183Z",
          "iopub.status.idle": "2023-06-01T21:30:57.944706Z",
          "shell.execute_reply": "2023-06-01T21:30:57.944230Z"
        },
        "papermill": {
          "duration": 1.030358,
          "end_time": "2023-06-01T21:30:57.946022",
          "exception": false,
          "start_time": "2023-06-01T21:30:56.915664",
          "status": "completed"
        },
        "tags": []
      },
      "outputs": [
        {
          "name": "stdout",
          "output_type": "stream",
          "text": [
            "CPU times: user 662 ms, sys: 35.3 ms, total: 697 ms\n",
            "Wall time: 1.01 s\n"
          ]
        },
        {
          "data": {
            "text/plain": [
              "{('in0', 'in0'): Array(0.+0.j, dtype=complex64),\n",
              " ('in0', 'in1'): Array(0.+0.j, dtype=complex64),\n",
              " ('in0', 'out0'): Array(0.+0.j, dtype=complex64),\n",
              " ('in0', 'out1'): Array(-0.57127243+0.8207605j, dtype=complex64),\n",
              " ('in1', 'in0'): Array(0.+0.j, dtype=complex64),\n",
              " ('in1', 'in1'): Array(0.+0.j, dtype=complex64),\n",
              " ('in1', 'out0'): Array(-0.57127243+0.8207605j, dtype=complex64),\n",
              " ('in1', 'out1'): Array(0.+0.j, dtype=complex64),\n",
              " ('out0', 'in0'): Array(0.+0.j, dtype=complex64),\n",
              " ('out0', 'in1'): Array(-0.57127243+0.8207605j, dtype=complex64),\n",
              " ('out0', 'out0'): Array(0.+0.j, dtype=complex64),\n",
              " ('out0', 'out1'): Array(0.+0.j, dtype=complex64),\n",
              " ('out1', 'in0'): Array(-0.57127243+0.8207605j, dtype=complex64),\n",
              " ('out1', 'in1'): Array(0.+0.j, dtype=complex64),\n",
              " ('out1', 'out0'): Array(0.+0.j, dtype=complex64),\n",
              " ('out1', 'out1'): Array(0.+0.j, dtype=complex64)}"
            ]
          },
          "execution_count": 11,
          "metadata": {},
          "output_type": "execute_result"
        }
      ],
      "source": [
        "%time mzi2()"
      ]
    },
    {
      "cell_type": "code",
      "execution_count": 12,
      "id": "6000f608-6814-436d-af02-a54dc7d0da85",
      "metadata": {
        "execution": {
          "iopub.execute_input": "2023-06-01T21:30:57.963241Z",
          "iopub.status.busy": "2023-06-01T21:30:57.962877Z",
          "iopub.status.idle": "2023-06-01T21:30:57.971527Z",
          "shell.execute_reply": "2023-06-01T21:30:57.971066Z"
        },
        "papermill": {
          "duration": 0.026869,
          "end_time": "2023-06-01T21:30:57.979918",
          "exception": false,
          "start_time": "2023-06-01T21:30:57.953049",
          "status": "completed"
        },
        "tags": []
      },
      "outputs": [
        {
          "name": "stdout",
          "output_type": "stream",
          "text": [
            "CPU times: user 72 \u00b5s, sys: 6 \u00b5s, total: 78 \u00b5s\n",
            "Wall time: 82.5 \u00b5s\n"
          ]
        },
        {
          "data": {
            "text/plain": [
              "{('in0', 'in0'): Array(0.+0.j, dtype=complex64),\n",
              " ('in0', 'in1'): Array(0.+0.j, dtype=complex64),\n",
              " ('in0', 'out0'): Array(0.+0.j, dtype=complex64),\n",
              " ('in0', 'out1'): Array(-0.57127243+0.8207605j, dtype=complex64),\n",
              " ('in1', 'in0'): Array(0.+0.j, dtype=complex64),\n",
              " ('in1', 'in1'): Array(0.+0.j, dtype=complex64),\n",
              " ('in1', 'out0'): Array(-0.57127243+0.8207605j, dtype=complex64),\n",
              " ('in1', 'out1'): Array(0.+0.j, dtype=complex64),\n",
              " ('out0', 'in0'): Array(0.+0.j, dtype=complex64),\n",
              " ('out0', 'in1'): Array(-0.57127243+0.8207605j, dtype=complex64),\n",
              " ('out0', 'out0'): Array(0.+0.j, dtype=complex64),\n",
              " ('out0', 'out1'): Array(0.+0.j, dtype=complex64),\n",
              " ('out1', 'in0'): Array(-0.57127243+0.8207605j, dtype=complex64),\n",
              " ('out1', 'in1'): Array(0.+0.j, dtype=complex64),\n",
              " ('out1', 'out0'): Array(0.+0.j, dtype=complex64),\n",
              " ('out1', 'out1'): Array(0.+0.j, dtype=complex64)}"
            ]
          },
          "execution_count": 12,
          "metadata": {},
          "output_type": "execute_result"
        }
      ],
      "source": [
        "%time mzi2()"
      ]
    },
    {
      "cell_type": "markdown",
      "id": "1e0d41ea",
      "metadata": {
        "papermill": {
          "duration": 0.006824,
          "end_time": "2023-06-01T21:30:57.997911",
          "exception": false,
          "start_time": "2023-06-01T21:30:57.991087",
          "status": "completed"
        },
        "tags": []
      },
      "source": [
        "Or in the case we want an MZI with different arm lengths:"
      ]
    },
    {
      "cell_type": "code",
      "execution_count": 13,
      "id": "4f53bdc3",
      "metadata": {
        "execution": {
          "iopub.execute_input": "2023-06-01T21:30:58.012805Z",
          "iopub.status.busy": "2023-06-01T21:30:58.012609Z",
          "iopub.status.idle": "2023-06-01T21:30:58.037852Z",
          "shell.execute_reply": "2023-06-01T21:30:58.037291Z"
        },
        "papermill": {
          "duration": 0.034414,
          "end_time": "2023-06-01T21:30:58.039315",
          "exception": false,
          "start_time": "2023-06-01T21:30:58.004901",
          "status": "completed"
        },
        "tags": []
      },
      "outputs": [
        {
          "data": {
            "text/plain": [
              "{('in0', 'in0'): Array(0.+0.j, dtype=complex64),\n",
              " ('in0', 'in1'): Array(0.+0.j, dtype=complex64),\n",
              " ('in1', 'in0'): Array(0.+0.j, dtype=complex64),\n",
              " ('in1', 'in1'): Array(0.+0.j, dtype=complex64),\n",
              " ('in0', 'out1'): Array(0.8947488-0.33136806j, dtype=complex64),\n",
              " ('in0', 'out0'): Array(-0.28073177+0.10396835j, dtype=complex64),\n",
              " ('in1', 'out1'): Array(0.28073177-0.10396835j, dtype=complex64),\n",
              " ('in1', 'out0'): Array(0.8947488-0.33136806j, dtype=complex64),\n",
              " ('out1', 'in0'): Array(0.8947488-0.33136806j, dtype=complex64),\n",
              " ('out1', 'in1'): Array(0.28073177-0.10396835j, dtype=complex64),\n",
              " ('out1', 'out1'): Array(0.+0.j, dtype=complex64),\n",
              " ('out1', 'out0'): Array(0.+0.j, dtype=complex64),\n",
              " ('out0', 'in0'): Array(-0.28073177+0.10396835j, dtype=complex64),\n",
              " ('out0', 'in1'): Array(0.8947488-0.33136806j, dtype=complex64),\n",
              " ('out0', 'out1'): Array(0.+0.j, dtype=complex64),\n",
              " ('out0', 'out0'): Array(0.+0.j, dtype=complex64)}"
            ]
          },
          "execution_count": 13,
          "metadata": {},
          "output_type": "execute_result"
        }
      ],
      "source": [
        "mzi(top={\"length\": 25.0}, btm={\"length\": 15.0})"
      ]
    },
    {
      "cell_type": "markdown",
      "id": "a331252a",
      "metadata": {
        "papermill": {
          "duration": 0.015405,
          "end_time": "2023-06-01T21:30:58.062464",
          "exception": false,
          "start_time": "2023-06-01T21:30:58.047059",
          "status": "completed"
        },
        "tags": []
      },
      "source": [
        "## Simulating the parametrized MZI"
      ]
    },
    {
      "cell_type": "markdown",
      "id": "4ba8626b",
      "metadata": {
        "papermill": {
          "duration": 0.016198,
          "end_time": "2023-06-01T21:30:58.085670",
          "exception": false,
          "start_time": "2023-06-01T21:30:58.069472",
          "status": "completed"
        },
        "tags": []
      },
      "source": [
        "We can simulate the above mzi for multiple wavelengths as well by specifying the wavelength at the top level of the circuit call. Each setting specified at the top level of the circuit call will be propagated to all subcomponents of the circuit which have that setting:"
      ]
    },
    {
      "cell_type": "code",
      "execution_count": 14,
      "id": "d6c8b5c9",
      "metadata": {
        "execution": {
          "iopub.execute_input": "2023-06-01T21:30:58.119007Z",
          "iopub.status.busy": "2023-06-01T21:30:58.118765Z",
          "iopub.status.idle": "2023-06-01T21:31:00.687626Z",
          "shell.execute_reply": "2023-06-01T21:31:00.687086Z"
        },
        "papermill": {
          "duration": 2.58502,
          "end_time": "2023-06-01T21:31:00.689350",
          "exception": false,
          "start_time": "2023-06-01T21:30:58.104330",
          "status": "completed"
        },
        "tags": []
      },
      "outputs": [
        {
          "name": "stdout",
          "output_type": "stream",
          "text": [
            "CPU times: user 1.91 s, sys: 13.6 ms, total: 1.92 s\n",
            "Wall time: 2.51 s\n"
          ]
        }
      ],
      "source": [
        "wl = jnp.linspace(1.51, 1.59, 1000)\n",
        "%time S = mzi(wl=wl, top={\"length\": 25.0}, btm={\"length\": 15.0})"
      ]
    },
    {
      "cell_type": "markdown",
      "id": "28d8cc75",
      "metadata": {
        "papermill": {
          "duration": 0.010522,
          "end_time": "2023-06-01T21:31:00.707391",
          "exception": false,
          "start_time": "2023-06-01T21:31:00.696869",
          "status": "completed"
        },
        "tags": []
      },
      "source": [
        "Let's see what this gives:"
      ]
    },
    {
      "cell_type": "code",
      "execution_count": 15,
      "id": "f7de73dc",
      "metadata": {
        "execution": {
          "iopub.execute_input": "2023-06-01T21:31:00.738269Z",
          "iopub.status.busy": "2023-06-01T21:31:00.738016Z",
          "iopub.status.idle": "2023-06-01T21:31:01.552096Z",
          "shell.execute_reply": "2023-06-01T21:31:01.551430Z"
        },
        "papermill": {
          "duration": 0.830667,
          "end_time": "2023-06-01T21:31:01.553427",
          "exception": false,
          "start_time": "2023-06-01T21:31:00.722760",
          "status": "completed"
        },
        "tags": []
      },
      "outputs": [
        {
          "data": {
            "image/png": "[encoded data removed]",
            "text/plain": [
              "<Figure size 640x480 with 1 Axes>"
            ]
          },
          "metadata": {},
          "output_type": "display_data"
        }
      ],
      "source": [
        "plt.plot(wl * 1e3, abs(S[\"in0\", \"out0\"]) ** 2)\n",
        "plt.ylim(-0.05, 1.05)\n",
        "plt.xlabel(\"\u03bb [nm]\")\n",
        "plt.ylabel(\"T\")\n",
        "plt.ylim(-0.05, 1.05)\n",
        "plt.show()"
      ]
    },
    {
      "cell_type": "markdown",
      "id": "eb9f0074",
      "metadata": {
        "papermill": {
          "duration": 0.007754,
          "end_time": "2023-06-01T21:31:01.569147",
          "exception": false,
          "start_time": "2023-06-01T21:31:01.561393",
          "status": "completed"
        },
        "tags": []
      },
      "source": [
        "## Optimization"
      ]
    },
    {
      "cell_type": "markdown",
      "id": "431aee51",
      "metadata": {
        "papermill": {
          "duration": 0.007517,
          "end_time": "2023-06-01T21:31:01.584232",
          "exception": false,
          "start_time": "2023-06-01T21:31:01.576715",
          "status": "completed"
        },
        "tags": []
      },
      "source": [
        "We'd like to optimize an MZI such that one of the minima is at 1550nm. To do this, we need to define a loss function for the circuit at 1550nm. This function should take the parameters that you want to optimize as positional arguments:"
      ]
    },
    {
      "cell_type": "code",
      "execution_count": 16,
      "id": "7dabe735",
      "metadata": {
        "execution": {
          "iopub.execute_input": "2023-06-01T21:31:01.600356Z",
          "iopub.status.busy": "2023-06-01T21:31:01.600132Z",
          "iopub.status.idle": "2023-06-01T21:31:01.603752Z",
          "shell.execute_reply": "2023-06-01T21:31:01.603274Z"
        },
        "papermill": {
          "duration": 0.013635,
          "end_time": "2023-06-01T21:31:01.605380",
          "exception": false,
          "start_time": "2023-06-01T21:31:01.591745",
          "status": "completed"
        },
        "tags": []
      },
      "outputs": [],
      "source": [
        "@jax.jit\n",
        "def loss(delta_length):\n",
        "    S = mzi(wl=1.55, top={\"length\": 15.0 + delta_length}, btm={\"length\": 15.0})\n",
        "    return (abs(S[\"in0\", \"out0\"]) ** 2).mean()"
      ]
    },
    {
      "cell_type": "code",
      "execution_count": 17,
      "id": "a60a8eab",
      "metadata": {
        "execution": {
          "iopub.execute_input": "2023-06-01T21:31:01.621238Z",
          "iopub.status.busy": "2023-06-01T21:31:01.621052Z",
          "iopub.status.idle": "2023-06-01T21:31:02.020683Z",
          "shell.execute_reply": "2023-06-01T21:31:02.020223Z"
        },
        "papermill": {
          "duration": 0.409118,
          "end_time": "2023-06-01T21:31:02.022011",
          "exception": false,
          "start_time": "2023-06-01T21:31:01.612893",
          "status": "completed"
        },
        "tags": []
      },
      "outputs": [
        {
          "name": "stdout",
          "output_type": "stream",
          "text": [
            "CPU times: user 311 ms, sys: 11.2 ms, total: 323 ms\n",
            "Wall time: 393 ms\n"
          ]
        },
        {
          "data": {
            "text/plain": [
              "Array(0.08961975, dtype=float32)"
            ]
          },
          "execution_count": 17,
          "metadata": {},
          "output_type": "execute_result"
        }
      ],
      "source": [
        "%time loss(10.0)"
      ]
    },
    {
      "cell_type": "markdown",
      "id": "af1eb06b",
      "metadata": {
        "papermill": {
          "duration": 0.008047,
          "end_time": "2023-06-01T21:31:02.038197",
          "exception": false,
          "start_time": "2023-06-01T21:31:02.030150",
          "status": "completed"
        },
        "tags": []
      },
      "source": [
        "We can use this loss function to define a grad function which works on the parameters of the loss function:"
      ]
    },
    {
      "cell_type": "code",
      "execution_count": 18,
      "id": "16369cba",
      "metadata": {
        "execution": {
          "iopub.execute_input": "2023-06-01T21:31:02.054658Z",
          "iopub.status.busy": "2023-06-01T21:31:02.054433Z",
          "iopub.status.idle": "2023-06-01T21:31:02.057583Z",
          "shell.execute_reply": "2023-06-01T21:31:02.057080Z"
        },
        "papermill": {
          "duration": 0.014905,
          "end_time": "2023-06-01T21:31:02.060819",
          "exception": false,
          "start_time": "2023-06-01T21:31:02.045914",
          "status": "completed"
        },
        "tags": []
      },
      "outputs": [],
      "source": [
        "grad = jax.jit(\n",
        "    jax.grad(\n",
        "        loss,\n",
        "        argnums=0,  # JAX gradient function for the first positional argument, jitted\n",
        "    )\n",
        ")"
      ]
    },
    {
      "cell_type": "markdown",
      "id": "2cd2f2cf",
      "metadata": {
        "papermill": {
          "duration": 0.016396,
          "end_time": "2023-06-01T21:31:02.094519",
          "exception": false,
          "start_time": "2023-06-01T21:31:02.078123",
          "status": "completed"
        },
        "tags": []
      },
      "source": [
        "Next, we need to define a JAX optimizer, which on its own is nothing more than three more functions:  an initialization function with which to initialize the optimizer state, an update function which will update the optimizer state (and with it the model parameters). The third function that's being returned will give the model parameters given the optimizer state."
      ]
    },
    {
      "cell_type": "code",
      "execution_count": 19,
      "id": "e553d69e",
      "metadata": {
        "execution": {
          "iopub.execute_input": "2023-06-01T21:31:02.129689Z",
          "iopub.status.busy": "2023-06-01T21:31:02.129456Z",
          "iopub.status.idle": "2023-06-01T21:31:02.149928Z",
          "shell.execute_reply": "2023-06-01T21:31:02.149424Z"
        },
        "papermill": {
          "duration": 0.040419,
          "end_time": "2023-06-01T21:31:02.151139",
          "exception": false,
          "start_time": "2023-06-01T21:31:02.110720",
          "status": "completed"
        },
        "tags": []
      },
      "outputs": [],
      "source": [
        "initial_delta_length = 10.0\n",
        "optim_init, optim_update, optim_params = opt.adam(step_size=0.1)\n",
        "optim_state = optim_init(initial_delta_length)"
      ]
    },
    {
      "cell_type": "markdown",
      "id": "e0a03fc2",
      "metadata": {
        "papermill": {
          "duration": 0.013059,
          "end_time": "2023-06-01T21:31:02.172420",
          "exception": false,
          "start_time": "2023-06-01T21:31:02.159361",
          "status": "completed"
        },
        "tags": []
      },
      "source": [
        "Given all this, a single training step can be defined:"
      ]
    },
    {
      "cell_type": "code",
      "execution_count": 20,
      "id": "eea4f7b8",
      "metadata": {
        "execution": {
          "iopub.execute_input": "2023-06-01T21:31:02.208397Z",
          "iopub.status.busy": "2023-06-01T21:31:02.208184Z",
          "iopub.status.idle": "2023-06-01T21:31:02.211317Z",
          "shell.execute_reply": "2023-06-01T21:31:02.210842Z"
        },
        "papermill": {
          "duration": 0.021734,
          "end_time": "2023-06-01T21:31:02.212436",
          "exception": false,
          "start_time": "2023-06-01T21:31:02.190702",
          "status": "completed"
        },
        "tags": []
      },
      "outputs": [],
      "source": [
        "def train_step(step, optim_state):\n",
        "    settings = optim_params(optim_state)\n",
        "    lossvalue = loss(settings)\n",
        "    gradvalue = grad(settings)\n",
        "    optim_state = optim_update(step, gradvalue, optim_state)\n",
        "    return lossvalue, optim_state"
      ]
    },
    {
      "cell_type": "markdown",
      "id": "ba1612df",
      "metadata": {
        "papermill": {
          "duration": 0.015796,
          "end_time": "2023-06-01T21:31:02.243356",
          "exception": false,
          "start_time": "2023-06-01T21:31:02.227560",
          "status": "completed"
        },
        "tags": []
      },
      "source": [
        "And we can use this step function to start the training of the MZI:"
      ]
    },
    {
      "cell_type": "code",
      "execution_count": 21,
      "id": "61ef4479",
      "metadata": {
        "execution": {
          "iopub.execute_input": "2023-06-01T21:31:02.277075Z",
          "iopub.status.busy": "2023-06-01T21:31:02.276862Z",
          "iopub.status.idle": "2023-06-01T21:31:13.190271Z",
          "shell.execute_reply": "2023-06-01T21:31:13.189777Z"
        },
        "papermill": {
          "duration": 10.93088,
          "end_time": "2023-06-01T21:31:13.191617",
          "exception": false,
          "start_time": "2023-06-01T21:31:02.260737",
          "status": "completed"
        },
        "tags": []
      },
      "outputs": [
        {
          "data": {
            "application/vnd.jupyter.widget-view+json": {
              "model_id": "8d62756a30d149dd8cd49b6ec003a484",
              "version_major": 2,
              "version_minor": 0
            },
            "text/plain": [
              "  0%|          | 0/300 [00:00<?, ?it/s]"
            ]
          },
          "metadata": {},
          "output_type": "display_data"
        }
      ],
      "source": [
        "range_ = trange(300)\n",
        "for step in range_:\n",
        "    lossvalue, optim_state = train_step(step, optim_state)\n",
        "    range_.set_postfix(loss=f\"{lossvalue:.6f}\")"
      ]
    },
    {
      "cell_type": "code",
      "execution_count": 22,
      "id": "eb9a1e20",
      "metadata": {
        "execution": {
          "iopub.execute_input": "2023-06-01T21:31:13.209302Z",
          "iopub.status.busy": "2023-06-01T21:31:13.209093Z",
          "iopub.status.idle": "2023-06-01T21:31:13.213076Z",
          "shell.execute_reply": "2023-06-01T21:31:13.212605Z"
        },
        "papermill": {
          "duration": 0.015529,
          "end_time": "2023-06-01T21:31:13.215513",
          "exception": false,
          "start_time": "2023-06-01T21:31:13.199984",
          "status": "completed"
        },
        "tags": []
      },
      "outputs": [
        {
          "data": {
            "text/plain": [
              "Array(9.9359, dtype=float32)"
            ]
          },
          "execution_count": 22,
          "metadata": {},
          "output_type": "execute_result"
        }
      ],
      "source": [
        "delta_length = optim_params(optim_state)\n",
        "delta_length"
      ]
    },
    {
      "cell_type": "markdown",
      "id": "15d8754b",
      "metadata": {
        "papermill": {
          "duration": 0.008032,
          "end_time": "2023-06-01T21:31:13.231776",
          "exception": false,
          "start_time": "2023-06-01T21:31:13.223744",
          "status": "completed"
        },
        "tags": []
      },
      "source": [
        "Let's see what we've got over a range of wavelengths:"
      ]
    },
    {
      "cell_type": "code",
      "execution_count": 23,
      "id": "b36d10a3",
      "metadata": {
        "execution": {
          "iopub.execute_input": "2023-06-01T21:31:13.260795Z",
          "iopub.status.busy": "2023-06-01T21:31:13.260594Z",
          "iopub.status.idle": "2023-06-01T21:31:13.778955Z",
          "shell.execute_reply": "2023-06-01T21:31:13.778464Z"
        },
        "papermill": {
          "duration": 0.535895,
          "end_time": "2023-06-01T21:31:13.780351",
          "exception": false,
          "start_time": "2023-06-01T21:31:13.244456",
          "status": "completed"
        },
        "tags": []
      },
      "outputs": [
        {
          "data": {
            "image/png": "[encoded data removed]",
            "text/plain": [
              "<Figure size 640x480 with 1 Axes>"
            ]
          },
          "metadata": {},
          "output_type": "display_data"
        }
      ],
      "source": [
        "S = mzi(wl=wl, top={\"length\": 15.0 + delta_length}, btm={\"length\": 15.0})\n",
        "plt.plot(wl * 1e3, abs(S[\"in1\", \"out1\"]) ** 2)\n",
        "plt.xlabel(\"\u03bb [nm]\")\n",
        "plt.ylabel(\"T\")\n",
        "plt.ylim(-0.05, 1.05)\n",
        "plt.plot([1550, 1550], [0, 1])\n",
        "plt.show()"
      ]
    },
    {
      "cell_type": "markdown",
      "id": "a990da96",
      "metadata": {
        "papermill": {
          "duration": 0.008571,
          "end_time": "2023-06-01T21:31:13.798127",
          "exception": false,
          "start_time": "2023-06-01T21:31:13.789556",
          "status": "completed"
        },
        "tags": []
      },
      "source": [
        "The minimum of the MZI is perfectly located at 1550nm."
      ]
    },
    {
      "cell_type": "markdown",
      "id": "7d93aa85",
      "metadata": {
        "papermill": {
          "duration": 0.008426,
          "end_time": "2023-06-01T21:31:13.815057",
          "exception": false,
          "start_time": "2023-06-01T21:31:13.806631",
          "status": "completed"
        },
        "tags": []
      },
      "source": [
        "## MZI Chain"
      ]
    },
    {
      "cell_type": "markdown",
      "id": "9c312e13",
      "metadata": {
        "papermill": {
          "duration": 0.014192,
          "end_time": "2023-06-01T21:31:13.839840",
          "exception": false,
          "start_time": "2023-06-01T21:31:13.825648",
          "status": "completed"
        },
        "tags": []
      },
      "source": [
        "Let's now create a chain of MZIs. For this, we first create a subcomponent: a directional coupler with arms:\n",
        "\n",
        "\n",
        "```\n",
        "                                 top\n",
        "                            in0 ----- out0 -> out1\n",
        "    in1 <- in1        out1                 \n",
        "              \\  dc  /                  \n",
        "               ======                  \n",
        "              /      \\                \n",
        "    in0 <- in0        out0       btm    \n",
        "                            in0 ----- out0 -> out0\n",
        "```"
      ]
    },
    {
      "cell_type": "code",
      "execution_count": 24,
      "id": "1ebe80c2",
      "metadata": {
        "execution": {
          "iopub.execute_input": "2023-06-01T21:31:13.876138Z",
          "iopub.status.busy": "2023-06-01T21:31:13.875899Z",
          "iopub.status.idle": "2023-06-01T21:31:13.882364Z",
          "shell.execute_reply": "2023-06-01T21:31:13.881880Z"
        },
        "papermill": {
          "duration": 0.026516,
          "end_time": "2023-06-01T21:31:13.886846",
          "exception": false,
          "start_time": "2023-06-01T21:31:13.860330",
          "status": "completed"
        },
        "tags": []
      },
      "outputs": [],
      "source": [
        "dc_with_arms, info = sax.circuit(\n",
        "    netlist={\n",
        "        \"instances\": {\n",
        "            \"lft\": \"coupler\",\n",
        "            \"top\": \"waveguide\",\n",
        "            \"btm\": \"waveguide\",\n",
        "        },\n",
        "        \"connections\": {\n",
        "            \"lft,out0\": \"btm,in0\",\n",
        "            \"lft,out1\": \"top,in0\",\n",
        "        },\n",
        "        \"ports\": {\n",
        "            \"in0\": \"lft,in0\",\n",
        "            \"in1\": \"lft,in1\",\n",
        "            \"out0\": \"btm,out0\",\n",
        "            \"out1\": \"top,out0\",\n",
        "        },\n",
        "    },\n",
        "    models = {\n",
        "        \"coupler\": coupler,\n",
        "        \"waveguide\": waveguide,\n",
        "    }\n",
        ")"
      ]
    },
    {
      "cell_type": "markdown",
      "id": "1eda468f",
      "metadata": {
        "papermill": {
          "duration": 0.020709,
          "end_time": "2023-06-01T21:31:13.921389",
          "exception": false,
          "start_time": "2023-06-01T21:31:13.900680",
          "status": "completed"
        },
        "tags": []
      },
      "source": [
        "An MZI chain can now be created by cascading these directional couplers with arms:\n",
        "\n",
        "```\n",
        "      _    _    _    _             _    _  \n",
        "    \\/   \\/   \\/   \\/     ...    \\/   \\/   \n",
        "    /\\_  /\\_  /\\_  /\\_           /\\_  /\\_  \n",
        "```\n",
        "\n",
        "Let's create a *model factory* (`ModelFactory`) for this. In SAX, a *model factory* is any keyword-only function that generates a `Model`:"
      ]
    },
    {
      "cell_type": "code",
      "execution_count": 25,
      "id": "11c4ab07",
      "metadata": {
        "execution": {
          "iopub.execute_input": "2023-06-01T21:31:13.939269Z",
          "iopub.status.busy": "2023-06-01T21:31:13.939061Z",
          "iopub.status.idle": "2023-06-01T21:31:13.943185Z",
          "shell.execute_reply": "2023-06-01T21:31:13.942722Z"
        },
        "papermill": {
          "duration": 0.015115,
          "end_time": "2023-06-01T21:31:13.944918",
          "exception": false,
          "start_time": "2023-06-01T21:31:13.929803",
          "status": "completed"
        },
        "tags": []
      },
      "outputs": [],
      "source": [
        "def mzi_chain(num_mzis=1) -> sax.Model:\n",
        "    chain, _ = sax.circuit(\n",
        "        netlist={\n",
        "            \"instances\": {f\"dc{i}\": \"dc_with_arms\" for i in range(num_mzis + 1)},\n",
        "            \"connections\": {\n",
        "                **{f\"dc{i},out0\": f\"dc{i+1},in0\" for i in range(num_mzis)},\n",
        "                **{f\"dc{i},out1\": f\"dc{i+1},in1\" for i in range(num_mzis)},\n",
        "            },\n",
        "            \"ports\": {\n",
        "                \"in0\": f\"dc0,in0\",\n",
        "                \"in1\": f\"dc0,in1\",\n",
        "                \"out0\": f\"dc{num_mzis},out0\",\n",
        "                \"out1\": f\"dc{num_mzis},out1\",\n",
        "            },\n",
        "        },\n",
        "        models={\"dc_with_arms\": dc_with_arms},\n",
        "        modes=None\n",
        "    )\n",
        "    return chain"
      ]
    },
    {
      "cell_type": "markdown",
      "id": "03f225e9",
      "metadata": {
        "papermill": {
          "duration": 0.008406,
          "end_time": "2023-06-01T21:31:13.961719",
          "exception": false,
          "start_time": "2023-06-01T21:31:13.953313",
          "status": "completed"
        },
        "tags": []
      },
      "source": [
        "Let's for example create a chain with 15 MZIs. We can also update the settings dictionary as follows:"
      ]
    },
    {
      "cell_type": "code",
      "execution_count": 26,
      "id": "576d4de8",
      "metadata": {
        "execution": {
          "iopub.execute_input": "2023-06-01T21:31:13.979523Z",
          "iopub.status.busy": "2023-06-01T21:31:13.979341Z",
          "iopub.status.idle": "2023-06-01T21:31:14.001492Z",
          "shell.execute_reply": "2023-06-01T21:31:14.001050Z"
        },
        "papermill": {
          "duration": 0.032582,
          "end_time": "2023-06-01T21:31:14.002820",
          "exception": false,
          "start_time": "2023-06-01T21:31:13.970238",
          "status": "completed"
        },
        "tags": []
      },
      "outputs": [],
      "source": [
        "chain = mzi_chain(num_mzis=15)\n",
        "settings = sax.get_settings(chain)\n",
        "for dc in settings:\n",
        "    settings[dc][\"top\"][\"length\"] = 25.0\n",
        "    settings[dc][\"btm\"][\"length\"] = 15.0\n",
        "settings = sax.update_settings(settings, wl=jnp.linspace(1.5, 1.6, 1000))"
      ]
    },
    {
      "cell_type": "markdown",
      "id": "11e3a10f",
      "metadata": {
        "papermill": {
          "duration": 0.008496,
          "end_time": "2023-06-01T21:31:14.020211",
          "exception": false,
          "start_time": "2023-06-01T21:31:14.011715",
          "status": "completed"
        },
        "tags": []
      },
      "source": [
        "We can simulate this:"
      ]
    },
    {
      "cell_type": "code",
      "execution_count": 27,
      "id": "b6e1155a",
      "metadata": {
        "execution": {
          "iopub.execute_input": "2023-06-01T21:31:14.047576Z",
          "iopub.status.busy": "2023-06-01T21:31:14.047376Z",
          "iopub.status.idle": "2023-06-01T21:32:44.466674Z",
          "shell.execute_reply": "2023-06-01T21:32:44.459700Z"
        },
        "papermill": {
          "duration": 90.442259,
          "end_time": "2023-06-01T21:32:44.471045",
          "exception": false,
          "start_time": "2023-06-01T21:31:14.028786",
          "status": "completed"
        },
        "tags": []
      },
      "outputs": [
        {
          "name": "stdout",
          "output_type": "stream",
          "text": [
            "CPU times: user 1.39 s, sys: 15 ms, total: 1.41 s\n",
            "Wall time: 2.15 s\n"
          ]
        },
        {
          "name": "stdout",
          "output_type": "stream",
          "text": [
            "CPU times: user 1min 22s, sys: 502 ms, total: 1min 23s\n",
            "Wall time: 1min 28s\n",
            "CPU times: user 34.4 ms, sys: 35 \u00b5s, total: 34.4 ms\n",
            "Wall time: 34.2 ms\n"
          ]
        }
      ],
      "source": [
        "%time S = chain(**settings) # time to evaluate the MZI\n",
        "func = jax.jit(chain)\n",
        "%time S = func(**settings) # time to jit the MZI\n",
        "%time S = func(**settings) # time to evaluate the MZI after jitting"
      ]
    },
    {
      "cell_type": "markdown",
      "id": "70db7179",
      "metadata": {
        "papermill": {
          "duration": 0.00871,
          "end_time": "2023-06-01T21:32:44.488604",
          "exception": false,
          "start_time": "2023-06-01T21:32:44.479894",
          "status": "completed"
        },
        "tags": []
      },
      "source": [
        "Where we see that the unjitted evaluation of the MZI chain takes about a second, while the jitting of the MZI chain takes about two minutes (on a CPU). However, after the MZI chain has been jitted, the evaluation is in the order of about a millisecond!\n",
        "\n",
        "Anyway, let's see what this gives:"
      ]
    },
    {
      "cell_type": "code",
      "execution_count": 28,
      "id": "1e4a2aab",
      "metadata": {
        "execution": {
          "iopub.execute_input": "2023-06-01T21:32:44.507864Z",
          "iopub.status.busy": "2023-06-01T21:32:44.507193Z",
          "iopub.status.idle": "2023-06-01T21:32:44.642021Z",
          "shell.execute_reply": "2023-06-01T21:32:44.641526Z"
        },
        "papermill": {
          "duration": 0.146226,
          "end_time": "2023-06-01T21:32:44.643493",
          "exception": false,
          "start_time": "2023-06-01T21:32:44.497267",
          "status": "completed"
        },
        "tags": []
      },
      "outputs": [
        {
          "data": {
            "image/png": "[encoded data removed]",
            "text/plain": [
              "<Figure size 640x480 with 1 Axes>"
            ]
          },
          "metadata": {},
          "output_type": "display_data"
        }
      ],
      "source": [
        "plt.plot(1e3 * settings[\"dc0\"][\"top\"][\"wl\"], jnp.abs(S[\"in0\", \"out0\"]) ** 2)\n",
        "plt.ylim(-0.05, 1.05)\n",
        "plt.xlabel(\"\u03bb [nm]\")\n",
        "plt.ylabel(\"T\")\n",
        "plt.ylim(-0.05, 1.05)\n",
        "plt.show()"
      ]
    }
  ],
  "metadata": {
    "kernelspec": {
      "display_name": "sax",
      "language": "python",
      "name": "sax"
    },
    "language_info": {
      "codemirror_mode": {
        "name": "ipython",
        "version": 3
      },
      "file_extension": ".py",
      "mimetype": "text/x-python",
      "name": "python",
      "nbconvert_exporter": "python",
      "pygments_lexer": "ipython3",
      "version": "3.11.3"
    },
    "papermill": {
      "default_parameters": {},
      "duration": 116.026023,
      "end_time": "2023-06-01T21:32:45.671813",
      "environment_variables": {},
      "exception": null,
      "input_path": "./examples/01_quick_start.ipynb",
      "output_path": "./examples/01_quick_start.ipynb",
      "parameters": {},
      "start_time": "2023-06-01T21:30:49.645790",
      "version": "2.3.4"
    },
    "widgets": {
      "application/vnd.jupyter.widget-state+json": {
        "state": {
          "2e78fb35c7e24f2d8f77e056b86aae03": {
            "model_module": "@jupyter-widgets/controls",
            "model_module_version": "2.0.0",
            "model_name": "FloatProgressModel",
            "state": {
              "_dom_classes": [],
              "_model_module": "@jupyter-widgets/controls",
              "_model_module_version": "2.0.0",
              "_model_name": "FloatProgressModel",
              "_view_count": null,
              "_view_module": "@jupyter-widgets/controls",
              "_view_module_version": "2.0.0",
              "_view_name": "ProgressView",
              "bar_style": "success",
              "description": "",
              "description_allow_html": false,
              "layout": "IPY_MODEL_5ae540e0bb2145ebaed477f3569596fe",
              "max": 300.0,
              "min": 0.0,
              "orientation": "horizontal",
              "style": "IPY_MODEL_66371fa21a4748d28da0b73eda2c0550",
              "tabbable": null,
              "tooltip": null,
              "value": 300.0
            }
          },
          "4bb9157e70204c6caa309b22df66d9cd": {
            "model_module": "@jupyter-widgets/controls",
            "model_module_version": "2.0.0",
            "model_name": "HTMLModel",
            "state": {
              "_dom_classes": [],
              "_model_module": "@jupyter-widgets/controls",
              "_model_module_version": "2.0.0",
              "_model_name": "HTMLModel",
              "_view_count": null,
              "_view_module": "@jupyter-widgets/controls",
              "_view_module_version": "2.0.0",
              "_view_name": "HTMLView",
              "description": "",
              "description_allow_html": false,
              "layout": "IPY_MODEL_d9ab5ab454b54d898e816a9b38875084",
              "placeholder": "\u200b",
              "style": "IPY_MODEL_fbca1abcfa344503b9a409d72224a8a9",
              "tabbable": null,
              "tooltip": null,
              "value": "100%"
            }
          },
          "5ae540e0bb2145ebaed477f3569596fe": {
            "model_module": "@jupyter-widgets/base",
            "model_module_version": "2.0.0",
            "model_name": "LayoutModel",
            "state": {
              "_model_module": "@jupyter-widgets/base",
              "_model_module_version": "2.0.0",
              "_model_name": "LayoutModel",
              "_view_count": null,
              "_view_module": "@jupyter-widgets/base",
              "_view_module_version": "2.0.0",
              "_view_name": "LayoutView",
              "align_content": null,
              "align_items": null,
              "align_self": null,
              "border_bottom": null,
              "border_left": null,
              "border_right": null,
              "border_top": null,
              "bottom": null,
              "display": null,
              "flex": null,
              "flex_flow": null,
              "grid_area": null,
              "grid_auto_columns": null,
              "grid_auto_flow": null,
              "grid_auto_rows": null,
              "grid_column": null,
              "grid_gap": null,
              "grid_row": null,
              "grid_template_areas": null,
              "grid_template_columns": null,
              "grid_template_rows": null,
              "height": null,
              "justify_content": null,
              "justify_items": null,
              "left": null,
              "margin": null,
              "max_height": null,
              "max_width": null,
              "min_height": null,
              "min_width": null,
              "object_fit": null,
              "object_position": null,
              "order": null,
              "overflow": null,
              "padding": null,
              "right": null,
              "top": null,
              "visibility": null,
              "width": null
            }
          },
          "66371fa21a4748d28da0b73eda2c0550": {
            "model_module": "@jupyter-widgets/controls",
            "model_module_version": "2.0.0",
            "model_name": "ProgressStyleModel",
            "state": {
              "_model_module": "@jupyter-widgets/controls",
              "_model_module_version": "2.0.0",
              "_model_name": "ProgressStyleModel",
              "_view_count": null,
              "_view_module": "@jupyter-widgets/base",
              "_view_module_version": "2.0.0",
              "_view_name": "StyleView",
              "bar_color": null,
              "description_width": ""
            }
          },
          "6b55964ec62b4869b3f2dc4b9a5a2596": {
            "model_module": "@jupyter-widgets/controls",
            "model_module_version": "2.0.0",
            "model_name": "HTMLStyleModel",
            "state": {
              "_model_module": "@jupyter-widgets/controls",
              "_model_module_version": "2.0.0",
              "_model_name": "HTMLStyleModel",
              "_view_count": null,
              "_view_module": "@jupyter-widgets/base",
              "_view_module_version": "2.0.0",
              "_view_name": "StyleView",
              "background": null,
              "description_width": "",
              "font_size": null,
              "text_color": null
            }
          },
          "779d8a3c28fa44b18faf23fd4e521259": {
            "model_module": "@jupyter-widgets/base",
            "model_module_version": "2.0.0",
            "model_name": "LayoutModel",
            "state": {
              "_model_module": "@jupyter-widgets/base",
              "_model_module_version": "2.0.0",
              "_model_name": "LayoutModel",
              "_view_count": null,
              "_view_module": "@jupyter-widgets/base",
              "_view_module_version": "2.0.0",
              "_view_name": "LayoutView",
              "align_content": null,
              "align_items": null,
              "align_self": null,
              "border_bottom": null,
              "border_left": null,
              "border_right": null,
              "border_top": null,
              "bottom": null,
              "display": null,
              "flex": null,
              "flex_flow": null,
              "grid_area": null,
              "grid_auto_columns": null,
              "grid_auto_flow": null,
              "grid_auto_rows": null,
              "grid_column": null,
              "grid_gap": null,
              "grid_row": null,
              "grid_template_areas": null,
              "grid_template_columns": null,
              "grid_template_rows": null,
              "height": null,
              "justify_content": null,
              "justify_items": null,
              "left": null,
              "margin": null,
              "max_height": null,
              "max_width": null,
              "min_height": null,
              "min_width": null,
              "object_fit": null,
              "object_position": null,
              "order": null,
              "overflow": null,
              "padding": null,
              "right": null,
              "top": null,
              "visibility": null,
              "width": null
            }
          },
          "8d62756a30d149dd8cd49b6ec003a484": {
            "model_module": "@jupyter-widgets/controls",
            "model_module_version": "2.0.0",
            "model_name": "HBoxModel",
            "state": {
              "_dom_classes": [],
              "_model_module": "@jupyter-widgets/controls",
              "_model_module_version": "2.0.0",
              "_model_name": "HBoxModel",
              "_view_count": null,
              "_view_module": "@jupyter-widgets/controls",
              "_view_module_version": "2.0.0",
              "_view_name": "HBoxView",
              "box_style": "",
              "children": [
                "IPY_MODEL_4bb9157e70204c6caa309b22df66d9cd",
                "IPY_MODEL_2e78fb35c7e24f2d8f77e056b86aae03",
                "IPY_MODEL_fd5b8d2ef2394011ac4d9800f365446d"
              ],
              "layout": "IPY_MODEL_779d8a3c28fa44b18faf23fd4e521259",
              "tabbable": null,
              "tooltip": null
            }
          },
          "b064f68d16224306a01ec12cfe9f9a6a": {
            "model_module": "@jupyter-widgets/base",
            "model_module_version": "2.0.0",
            "model_name": "LayoutModel",
            "state": {
              "_model_module": "@jupyter-widgets/base",
              "_model_module_version": "2.0.0",
              "_model_name": "LayoutModel",
              "_view_count": null,
              "_view_module": "@jupyter-widgets/base",
              "_view_module_version": "2.0.0",
              "_view_name": "LayoutView",
              "align_content": null,
              "align_items": null,
              "align_self": null,
              "border_bottom": null,
              "border_left": null,
              "border_right": null,
              "border_top": null,
              "bottom": null,
              "display": null,
              "flex": null,
              "flex_flow": null,
              "grid_area": null,
              "grid_auto_columns": null,
              "grid_auto_flow": null,
              "grid_auto_rows": null,
              "grid_column": null,
              "grid_gap": null,
              "grid_row": null,
              "grid_template_areas": null,
              "grid_template_columns": null,
              "grid_template_rows": null,
              "height": null,
              "justify_content": null,
              "justify_items": null,
              "left": null,
              "margin": null,
              "max_height": null,
              "max_width": null,
              "min_height": null,
              "min_width": null,
              "object_fit": null,
              "object_position": null,
              "order": null,
              "overflow": null,
              "padding": null,
              "right": null,
              "top": null,
              "visibility": null,
              "width": null
            }
          },
          "d9ab5ab454b54d898e816a9b38875084": {
            "model_module": "@jupyter-widgets/base",
            "model_module_version": "2.0.0",
            "model_name": "LayoutModel",
            "state": {
              "_model_module": "@jupyter-widgets/base",
              "_model_module_version": "2.0.0",
              "_model_name": "LayoutModel",
              "_view_count": null,
              "_view_module": "@jupyter-widgets/base",
              "_view_module_version": "2.0.0",
              "_view_name": "LayoutView",
              "align_content": null,
              "align_items": null,
              "align_self": null,
              "border_bottom": null,
              "border_left": null,
              "border_right": null,
              "border_top": null,
              "bottom": null,
              "display": null,
              "flex": null,
              "flex_flow": null,
              "grid_area": null,
              "grid_auto_columns": null,
              "grid_auto_flow": null,
              "grid_auto_rows": null,
              "grid_column": null,
              "grid_gap": null,
              "grid_row": null,
              "grid_template_areas": null,
              "grid_template_columns": null,
              "grid_template_rows": null,
              "height": null,
              "justify_content": null,
              "justify_items": null,
              "left": null,
              "margin": null,
              "max_height": null,
              "max_width": null,
              "min_height": null,
              "min_width": null,
              "object_fit": null,
              "object_position": null,
              "order": null,
              "overflow": null,
              "padding": null,
              "right": null,
              "top": null,
              "visibility": null,
              "width": null
            }
          },
          "fbca1abcfa344503b9a409d72224a8a9": {
            "model_module": "@jupyter-widgets/controls",
            "model_module_version": "2.0.0",
            "model_name": "HTMLStyleModel",
            "state": {
              "_model_module": "@jupyter-widgets/controls",
              "_model_module_version": "2.0.0",
              "_model_name": "HTMLStyleModel",
              "_view_count": null,
              "_view_module": "@jupyter-widgets/base",
              "_view_module_version": "2.0.0",
              "_view_name": "StyleView",
              "background": null,
              "description_width": "",
              "font_size": null,
              "text_color": null
            }
          },
          "fd5b8d2ef2394011ac4d9800f365446d": {
            "model_module": "@jupyter-widgets/controls",
            "model_module_version": "2.0.0",
            "model_name": "HTMLModel",
            "state": {
              "_dom_classes": [],
              "_model_module": "@jupyter-widgets/controls",
              "_model_module_version": "2.0.0",
              "_model_name": "HTMLModel",
              "_view_count": null,
              "_view_module": "@jupyter-widgets/controls",
              "_view_module_version": "2.0.0",
              "_view_name": "HTMLView",
              "description": "",
              "description_allow_html": false,
              "layout": "IPY_MODEL_b064f68d16224306a01ec12cfe9f9a6a",
              "placeholder": "\u200b",
              "style": "IPY_MODEL_6b55964ec62b4869b3f2dc4b9a5a2596",
              "tabbable": null,
              "tooltip": null,
              "value": " 300/300 [00:10&lt;00:00, 60.29it/s, loss=0.000000]"
            }
          }
        },
        "version_major": 2,
        "version_minor": 0
      }
    }
  },
  "nbformat": 4,
  "nbformat_minor": 5
}