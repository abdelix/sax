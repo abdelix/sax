{
  "cells": [
    {
      "cell_type": "markdown",
      "id": "textile-panel",
      "metadata": {
        "papermill": {
          "duration": 0.002575,
          "end_time": "2024-03-06T02:15:01.661920",
          "exception": false,
          "start_time": "2024-03-06T02:15:01.659345",
          "status": "completed"
        },
        "tags": []
      },
      "source": [
        "# Multimode simulations\n",
        "> SAX can handle multiple modes too!"
      ]
    },
    {
      "cell_type": "code",
      "execution_count": 1,
      "id": "prescribed-plant",
      "metadata": {
        "execution": {
          "iopub.execute_input": "2024-03-06T02:15:01.667205Z",
          "iopub.status.busy": "2024-03-06T02:15:01.666758Z",
          "iopub.status.idle": "2024-03-06T02:15:02.385735Z",
          "shell.execute_reply": "2024-03-06T02:15:02.385140Z"
        },
        "papermill": {
          "duration": 0.723124,
          "end_time": "2024-03-06T02:15:02.387189",
          "exception": false,
          "start_time": "2024-03-06T02:15:01.664065",
          "status": "completed"
        },
        "tags": []
      },
      "outputs": [],
      "source": [
        "from itertools import combinations_with_replacement, product\n",
        "\n",
        "import jax.numpy as jnp\n",
        "import sax"
      ]
    },
    {
      "cell_type": "markdown",
      "id": "requested-calvin",
      "metadata": {
        "papermill": {
          "duration": 0.00211,
          "end_time": "2024-03-06T02:15:02.391562",
          "exception": false,
          "start_time": "2024-03-06T02:15:02.389452",
          "status": "completed"
        },
        "tags": []
      },
      "source": [
        "## Ports and modes per port"
      ]
    },
    {
      "cell_type": "markdown",
      "id": "grateful-programming",
      "metadata": {
        "papermill": {
          "duration": 0.001907,
          "end_time": "2024-03-06T02:15:02.395497",
          "exception": false,
          "start_time": "2024-03-06T02:15:02.393590",
          "status": "completed"
        },
        "tags": []
      },
      "source": [
        "Let's denote a combination of a port and a mode by a string of the following format: `\"{port}@{mode}\"`. We can obtain all possible port-mode combinations with some magic itertools functions:"
      ]
    },
    {
      "cell_type": "code",
      "execution_count": 2,
      "id": "going-entity",
      "metadata": {
        "execution": {
          "iopub.execute_input": "2024-03-06T02:15:02.400690Z",
          "iopub.status.busy": "2024-03-06T02:15:02.400131Z",
          "iopub.status.idle": "2024-03-06T02:15:02.406866Z",
          "shell.execute_reply": "2024-03-06T02:15:02.406322Z"
        },
        "papermill": {
          "duration": 0.010591,
          "end_time": "2024-03-06T02:15:02.408007",
          "exception": false,
          "start_time": "2024-03-06T02:15:02.397416",
          "status": "completed"
        },
        "tags": []
      },
      "outputs": [
        {
          "data": {
            "text/plain": [
              "[('in0@TE', 'in0@TE'),\n",
              " ('in0@TE', 'in0@TM'),\n",
              " ('in0@TE', 'out0@TE'),\n",
              " ('in0@TE', 'out0@TM'),\n",
              " ('in0@TM', 'in0@TM'),\n",
              " ('in0@TM', 'out0@TE'),\n",
              " ('in0@TM', 'out0@TM'),\n",
              " ('out0@TE', 'out0@TE'),\n",
              " ('out0@TE', 'out0@TM'),\n",
              " ('out0@TM', 'out0@TM')]"
            ]
          },
          "execution_count": 2,
          "metadata": {},
          "output_type": "execute_result"
        }
      ],
      "source": [
        "ports = [\"in0\", \"out0\"]\n",
        "modes = [\"TE\", \"TM\"]\n",
        "portmodes = [\n",
        "    (f\"{p1}@{m1}\", f\"{p2}@{m2}\")\n",
        "    for (p1, m1), (p2, m2) in combinations_with_replacement(product(ports, modes), 2)\n",
        "]\n",
        "portmodes"
      ]
    },
    {
      "cell_type": "markdown",
      "id": "passive-selling",
      "metadata": {
        "papermill": {
          "duration": 0.002039,
          "end_time": "2024-03-06T02:15:02.412269",
          "exception": false,
          "start_time": "2024-03-06T02:15:02.410230",
          "status": "completed"
        },
        "tags": []
      },
      "source": [
        "If we would disregard any backreflection, this can be further simplified:"
      ]
    },
    {
      "cell_type": "code",
      "execution_count": 3,
      "id": "numerical-novel",
      "metadata": {
        "execution": {
          "iopub.execute_input": "2024-03-06T02:15:02.417403Z",
          "iopub.status.busy": "2024-03-06T02:15:02.417059Z",
          "iopub.status.idle": "2024-03-06T02:15:02.421121Z",
          "shell.execute_reply": "2024-03-06T02:15:02.420598Z"
        },
        "papermill": {
          "duration": 0.007843,
          "end_time": "2024-03-06T02:15:02.422218",
          "exception": false,
          "start_time": "2024-03-06T02:15:02.414375",
          "status": "completed"
        },
        "tags": []
      },
      "outputs": [
        {
          "data": {
            "text/plain": [
              "[('in0@TE', 'out0@TE'),\n",
              " ('in0@TE', 'out0@TM'),\n",
              " ('in0@TM', 'out0@TE'),\n",
              " ('in0@TM', 'out0@TM')]"
            ]
          },
          "execution_count": 3,
          "metadata": {},
          "output_type": "execute_result"
        }
      ],
      "source": [
        "portmodes_without_backreflection = [\n",
        "    (p1, p2) for p1, p2 in portmodes if p1.split(\"@\")[0] != p2.split(\"@\")[0]\n",
        "]\n",
        "portmodes_without_backreflection"
      ]
    },
    {
      "cell_type": "markdown",
      "id": "hindu-application",
      "metadata": {
        "papermill": {
          "duration": 0.002225,
          "end_time": "2024-03-06T02:15:02.426707",
          "exception": false,
          "start_time": "2024-03-06T02:15:02.424482",
          "status": "completed"
        },
        "tags": []
      },
      "source": [
        "Sometimes cross-polarization terms can also be ignored:"
      ]
    },
    {
      "cell_type": "code",
      "execution_count": 4,
      "id": "encouraging-territory",
      "metadata": {
        "execution": {
          "iopub.execute_input": "2024-03-06T02:15:02.432095Z",
          "iopub.status.busy": "2024-03-06T02:15:02.431616Z",
          "iopub.status.idle": "2024-03-06T02:15:02.435860Z",
          "shell.execute_reply": "2024-03-06T02:15:02.435339Z"
        },
        "papermill": {
          "duration": 0.008154,
          "end_time": "2024-03-06T02:15:02.437007",
          "exception": false,
          "start_time": "2024-03-06T02:15:02.428853",
          "status": "completed"
        },
        "tags": []
      },
      "outputs": [
        {
          "data": {
            "text/plain": [
              "[('in0@TE', 'in0@TE'),\n",
              " ('in0@TE', 'out0@TE'),\n",
              " ('in0@TM', 'in0@TM'),\n",
              " ('in0@TM', 'out0@TM'),\n",
              " ('out0@TE', 'out0@TE'),\n",
              " ('out0@TM', 'out0@TM')]"
            ]
          },
          "execution_count": 4,
          "metadata": {},
          "output_type": "execute_result"
        }
      ],
      "source": [
        "portmodes_without_crosspolarization = [\n",
        "    (p1, p2) for p1, p2 in portmodes if p1.split(\"@\")[1] == p2.split(\"@\")[1]\n",
        "]\n",
        "portmodes_without_crosspolarization"
      ]
    },
    {
      "cell_type": "markdown",
      "id": "mathematical-default",
      "metadata": {
        "papermill": {
          "duration": 0.002246,
          "end_time": "2024-03-06T02:15:02.441650",
          "exception": false,
          "start_time": "2024-03-06T02:15:02.439404",
          "status": "completed"
        },
        "tags": []
      },
      "source": [
        "## Multimode waveguide"
      ]
    },
    {
      "cell_type": "markdown",
      "id": "asian-noise",
      "metadata": {
        "papermill": {
          "duration": 0.002193,
          "end_time": "2024-03-06T02:15:02.446084",
          "exception": false,
          "start_time": "2024-03-06T02:15:02.443891",
          "status": "completed"
        },
        "tags": []
      },
      "source": [
        "Let's create a waveguide with two ports (`\"in\"`, `\"out\"`) and two modes (`\"te\"`, `\"tm\"`) without backreflection. Let's assume there is 5% cross-polarization and that the `\"tm\"`->`\"tm\"` transmission is 10% worse than the `\"te\"`->`\"te\"` transmission. Naturally in more realisic waveguide models these percentages will be length-dependent, but this is just a dummy model serving as an example."
      ]
    },
    {
      "cell_type": "code",
      "execution_count": 5,
      "id": "patient-wealth",
      "metadata": {
        "execution": {
          "iopub.execute_input": "2024-03-06T02:15:02.451404Z",
          "iopub.status.busy": "2024-03-06T02:15:02.451087Z",
          "iopub.status.idle": "2024-03-06T02:15:02.500878Z",
          "shell.execute_reply": "2024-03-06T02:15:02.500309Z"
        },
        "papermill": {
          "duration": 0.053812,
          "end_time": "2024-03-06T02:15:02.502140",
          "exception": false,
          "start_time": "2024-03-06T02:15:02.448328",
          "status": "completed"
        },
        "tags": []
      },
      "outputs": [
        {
          "data": {
            "text/plain": [
              "{('in0@TE',\n",
              "  'out0@TE'): Array(0.77972527+0.5427048j, dtype=complex128, weak_type=True),\n",
              " ('in0@TE',\n",
              "  'out0@TM'): Array(0.04103817+0.02856341j, dtype=complex128, weak_type=True),\n",
              " ('in0@TM',\n",
              "  'out0@TM'): Array(0.69764893+0.48557798j, dtype=complex128, weak_type=True),\n",
              " ('in0@TM',\n",
              "  'out0@TE'): Array(0.04103817+0.02856341j, dtype=complex128, weak_type=True),\n",
              " ('out0@TE',\n",
              "  'in0@TE'): Array(0.77972527+0.5427048j, dtype=complex128, weak_type=True),\n",
              " ('out0@TM',\n",
              "  'in0@TE'): Array(0.04103817+0.02856341j, dtype=complex128, weak_type=True),\n",
              " ('out0@TM',\n",
              "  'in0@TM'): Array(0.69764893+0.48557798j, dtype=complex128, weak_type=True),\n",
              " ('out0@TE',\n",
              "  'in0@TM'): Array(0.04103817+0.02856341j, dtype=complex128, weak_type=True)}"
            ]
          },
          "execution_count": 5,
          "metadata": {},
          "output_type": "execute_result"
        }
      ],
      "source": [
        "def waveguide(wl=1.55, wl0=1.55, neff=2.34, ng=3.4, length=10.0, loss=0.0):\n",
        "    \"\"\"a simple straight waveguide model\n",
        "\n",
        "    Args:\n",
        "        wl: wavelength\n",
        "        neff: waveguide effective index\n",
        "        ng: waveguide group index (used for linear neff dispersion)\n",
        "        wl0: center wavelength at which neff is defined\n",
        "        length: [m] wavelength length\n",
        "        loss: [dB/m] waveguide loss\n",
        "    \"\"\"\n",
        "    dwl = wl - wl0\n",
        "    dneff_dwl = (ng - neff) / wl0\n",
        "    neff = neff - dwl * dneff_dwl\n",
        "    phase = 2 * jnp.pi * neff * length / wl\n",
        "    transmission = 10 ** (-loss * length / 20) * jnp.exp(1j * phase)\n",
        "    sdict = sax.reciprocal(\n",
        "        {\n",
        "            (\"in0@TE\", \"out0@TE\"): 0.95 * transmission,  # 5% lost to cross-polarization\n",
        "            (\"in0@TE\", \"out0@TM\"): 0.05 * transmission,  # 5% cross-polarization\n",
        "            (\"in0@TM\", \"out0@TM\"): 0.85 * transmission,  # 10% worse tm->tm than te->te\n",
        "            (\"in0@TM\", \"out0@TE\"): 0.05 * transmission,  # 5% cross-polarization\n",
        "        }\n",
        "    )\n",
        "    return sdict\n",
        "\n",
        "\n",
        "waveguide()"
      ]
    },
    {
      "cell_type": "markdown",
      "id": "cafacbde-e5eb-43c6-87ec-1a9e795b5cc2",
      "metadata": {
        "papermill": {
          "duration": 0.00238,
          "end_time": "2024-03-06T02:15:02.507237",
          "exception": false,
          "start_time": "2024-03-06T02:15:02.504857",
          "status": "completed"
        },
        "tags": []
      },
      "source": [
        "## Multimode Coupler"
      ]
    },
    {
      "cell_type": "code",
      "execution_count": 6,
      "id": "0cf6d7a6-d054-4c3a-9053-3b09777d50f9",
      "metadata": {
        "execution": {
          "iopub.execute_input": "2024-03-06T02:15:02.513200Z",
          "iopub.status.busy": "2024-03-06T02:15:02.512773Z",
          "iopub.status.idle": "2024-03-06T02:15:02.517369Z",
          "shell.execute_reply": "2024-03-06T02:15:02.516886Z"
        },
        "papermill": {
          "duration": 0.008782,
          "end_time": "2024-03-06T02:15:02.518470",
          "exception": false,
          "start_time": "2024-03-06T02:15:02.509688",
          "status": "completed"
        },
        "tags": []
      },
      "outputs": [],
      "source": [
        "def coupler():\n",
        "    return {\n",
        "        (\"in0@TE\", \"out0@TE\"): 0.45**0.5,\n",
        "        (\"in0@TE\", \"out1@TE\"): 1j * 0.45**0.5,\n",
        "        (\"in1@TE\", \"out0@TE\"): 1j * 0.45**0.5,\n",
        "        (\"in1@TE\", \"out1@TE\"): 0.45**0.5,\n",
        "        (\"in0@TM\", \"out0@TM\"): 0.45**0.5,\n",
        "        (\"in0@TM\", \"out1@TM\"): 1j * 0.45**0.5,\n",
        "        (\"in1@TM\", \"out0@TM\"): 1j * 0.45**0.5,\n",
        "        (\"in1@TM\", \"out1@TM\"): 0.45**0.5,\n",
        "        (\"in0@TE\", \"out0@TM\"): 0.01**0.5,\n",
        "        (\"in0@TE\", \"out1@TM\"): 1j * 0.01**0.5,\n",
        "        (\"in1@TE\", \"out0@TM\"): 1j * 0.01**0.5,\n",
        "        (\"in1@TE\", \"out1@TM\"): 0.01**0.5,\n",
        "        (\"in0@TM\", \"out0@TE\"): 0.01**0.5,\n",
        "        (\"in0@TM\", \"out1@TE\"): 1j * 0.01**0.5,\n",
        "        (\"in1@TM\", \"out0@TE\"): 1j * 0.01**0.5,\n",
        "        (\"in1@TM\", \"out1@TE\"): 0.01**0.5,\n",
        "    }"
      ]
    },
    {
      "cell_type": "markdown",
      "id": "accessory-sheep",
      "metadata": {
        "papermill": {
          "duration": 0.002406,
          "end_time": "2024-03-06T02:15:02.523289",
          "exception": false,
          "start_time": "2024-03-06T02:15:02.520883",
          "status": "completed"
        },
        "tags": []
      },
      "source": [
        "## Multimode MZI"
      ]
    },
    {
      "cell_type": "markdown",
      "id": "joint-semiconductor",
      "metadata": {
        "papermill": {
          "duration": 0.002301,
          "end_time": "2024-03-06T02:15:02.527981",
          "exception": false,
          "start_time": "2024-03-06T02:15:02.525680",
          "status": "completed"
        },
        "tags": []
      },
      "source": [
        "We can now combine these models into a circuit in much the same way as before. We just need to add the `modes=` keyword:"
      ]
    },
    {
      "cell_type": "code",
      "execution_count": 7,
      "id": "suffering-judges",
      "metadata": {
        "execution": {
          "iopub.execute_input": "2024-03-06T02:15:02.533860Z",
          "iopub.status.busy": "2024-03-06T02:15:02.533464Z",
          "iopub.status.idle": "2024-03-06T02:15:03.147876Z",
          "shell.execute_reply": "2024-03-06T02:15:03.147325Z"
        },
        "papermill": {
          "duration": 0.618878,
          "end_time": "2024-03-06T02:15:03.149353",
          "exception": false,
          "start_time": "2024-03-06T02:15:02.530475",
          "status": "completed"
        },
        "tags": []
      },
      "outputs": [],
      "source": [
        "mzi, _ = sax.circuit(\n",
        "    netlist={\n",
        "        \"instances\": {\n",
        "            \"lft\": \"coupler\",  # single mode models will be automatically converted to multimode models without cross polarization.\n",
        "            \"top\": {\"component\": \"straight\", \"settings\": {\"length\": 25.0}},\n",
        "            \"btm\": {\"component\": \"straight\", \"settings\": {\"length\": 15.0}},\n",
        "            \"rgt\": \"coupler\",  # single mode models will be automatically converted to multimode models without cross polarization.\n",
        "        },\n",
        "        \"connections\": {\n",
        "            \"lft,out0\": \"btm,in0\",\n",
        "            \"btm,out0\": \"rgt,in0\",\n",
        "            \"lft,out1\": \"top,in0\",\n",
        "            \"top,out0\": \"rgt,in1\",\n",
        "        },\n",
        "        \"ports\": {\n",
        "            \"in0\": \"lft,in0\",\n",
        "            \"in1\": \"lft,in1\",\n",
        "            \"out0\": \"rgt,out0\",\n",
        "            \"out1\": \"rgt,out1\",\n",
        "        },\n",
        "    },\n",
        "    models={\n",
        "        \"coupler\": coupler,\n",
        "        \"straight\": waveguide,\n",
        "    },\n",
        ")"
      ]
    },
    {
      "cell_type": "code",
      "execution_count": 8,
      "id": "bridal-insider",
      "metadata": {
        "execution": {
          "iopub.execute_input": "2024-03-06T02:15:03.156081Z",
          "iopub.status.busy": "2024-03-06T02:15:03.155696Z",
          "iopub.status.idle": "2024-03-06T02:15:03.513485Z",
          "shell.execute_reply": "2024-03-06T02:15:03.512895Z"
        },
        "papermill": {
          "duration": 0.362498,
          "end_time": "2024-03-06T02:15:03.514741",
          "exception": false,
          "start_time": "2024-03-06T02:15:03.152243",
          "status": "completed"
        },
        "tags": []
      },
      "outputs": [
        {
          "data": {
            "text/plain": [
              "{('in0@TE', 'in0@TE'): Array(0.+0.j, dtype=complex128),\n",
              " ('in0@TE', 'in0@TM'): Array(0.+0.j, dtype=complex128),\n",
              " ('in0@TE', 'in1@TE'): Array(0.+0.j, dtype=complex128),\n",
              " ('in0@TE', 'in1@TM'): Array(0.+0.j, dtype=complex128),\n",
              " ('in0@TE', 'out0@TE'): Array(-0.24856154+0.09205708j, dtype=complex128),\n",
              " ('in0@TE', 'out0@TM'): Array(-0.08070811+0.029891j, dtype=complex128),\n",
              " ('in0@TE', 'out1@TE'): Array(0.7922229-0.29340714j, dtype=complex128),\n",
              " ('in0@TE', 'out1@TM'): Array(0.25723534-0.09526951j, dtype=complex128),\n",
              " ('in0@TM', 'in0@TE'): Array(0.+0.j, dtype=complex128),\n",
              " ('in0@TM', 'in0@TM'): Array(0.+0.j, dtype=complex128),\n",
              " ('in0@TM', 'in1@TE'): Array(0.+0.j, dtype=complex128),\n",
              " ('in0@TM', 'in1@TM'): Array(0.+0.j, dtype=complex128),\n",
              " ('in0@TM', 'out0@TE'): Array(-0.08070811+0.029891j, dtype=complex128),\n",
              " ('in0@TM', 'out0@TM'): Array(-0.22385744+0.08290769j, dtype=complex128),\n",
              " ('in0@TM', 'out1@TE'): Array(0.25723534-0.09526951j, dtype=complex128),\n",
              " ('in0@TM', 'out1@TM'): Array(0.71348524-0.26424592j, dtype=complex128),\n",
              " ('in1@TE', 'in0@TE'): Array(0.+0.j, dtype=complex128),\n",
              " ('in1@TE', 'in0@TM'): Array(0.+0.j, dtype=complex128),\n",
              " ('in1@TE', 'in1@TE'): Array(0.+0.j, dtype=complex128),\n",
              " ('in1@TE', 'in1@TM'): Array(0.+0.j, dtype=complex128),\n",
              " ('in1@TE', 'out0@TE'): Array(0.7922229-0.29340714j, dtype=complex128),\n",
              " ('in1@TE', 'out0@TM'): Array(0.25723534-0.09526951j, dtype=complex128),\n",
              " ('in1@TE', 'out1@TE'): Array(0.24856154-0.09205708j, dtype=complex128),\n",
              " ('in1@TE', 'out1@TM'): Array(0.08070811-0.029891j, dtype=complex128),\n",
              " ('in1@TM', 'in0@TE'): Array(0.+0.j, dtype=complex128),\n",
              " ('in1@TM', 'in0@TM'): Array(0.+0.j, dtype=complex128),\n",
              " ('in1@TM', 'in1@TE'): Array(0.+0.j, dtype=complex128),\n",
              " ('in1@TM', 'in1@TM'): Array(0.+0.j, dtype=complex128),\n",
              " ('in1@TM', 'out0@TE'): Array(0.25723534-0.09526951j, dtype=complex128),\n",
              " ('in1@TM', 'out0@TM'): Array(0.71348524-0.26424592j, dtype=complex128),\n",
              " ('in1@TM', 'out1@TE'): Array(0.08070811-0.029891j, dtype=complex128),\n",
              " ('in1@TM', 'out1@TM'): Array(0.22385744-0.08290769j, dtype=complex128),\n",
              " ('out0@TE', 'in0@TE'): Array(0.+0.j, dtype=complex128),\n",
              " ('out0@TE', 'in0@TM'): Array(0.+0.j, dtype=complex128),\n",
              " ('out0@TE', 'in1@TE'): Array(0.+0.j, dtype=complex128),\n",
              " ('out0@TE', 'in1@TM'): Array(0.+0.j, dtype=complex128),\n",
              " ('out0@TE', 'out0@TE'): Array(0.+0.j, dtype=complex128),\n",
              " ('out0@TE', 'out0@TM'): Array(0.+0.j, dtype=complex128),\n",
              " ('out0@TE', 'out1@TE'): Array(0.+0.j, dtype=complex128),\n",
              " ('out0@TE', 'out1@TM'): Array(0.+0.j, dtype=complex128),\n",
              " ('out0@TM', 'in0@TE'): Array(0.+0.j, dtype=complex128),\n",
              " ('out0@TM', 'in0@TM'): Array(0.+0.j, dtype=complex128),\n",
              " ('out0@TM', 'in1@TE'): Array(0.+0.j, dtype=complex128),\n",
              " ('out0@TM', 'in1@TM'): Array(0.+0.j, dtype=complex128),\n",
              " ('out0@TM', 'out0@TE'): Array(0.+0.j, dtype=complex128),\n",
              " ('out0@TM', 'out0@TM'): Array(0.+0.j, dtype=complex128),\n",
              " ('out0@TM', 'out1@TE'): Array(0.+0.j, dtype=complex128),\n",
              " ('out0@TM', 'out1@TM'): Array(0.+0.j, dtype=complex128),\n",
              " ('out1@TE', 'in0@TE'): Array(0.+0.j, dtype=complex128),\n",
              " ('out1@TE', 'in0@TM'): Array(0.+0.j, dtype=complex128),\n",
              " ('out1@TE', 'in1@TE'): Array(0.+0.j, dtype=complex128),\n",
              " ('out1@TE', 'in1@TM'): Array(0.+0.j, dtype=complex128),\n",
              " ('out1@TE', 'out0@TE'): Array(0.+0.j, dtype=complex128),\n",
              " ('out1@TE', 'out0@TM'): Array(0.+0.j, dtype=complex128),\n",
              " ('out1@TE', 'out1@TE'): Array(0.+0.j, dtype=complex128),\n",
              " ('out1@TE', 'out1@TM'): Array(0.+0.j, dtype=complex128),\n",
              " ('out1@TM', 'in0@TE'): Array(0.+0.j, dtype=complex128),\n",
              " ('out1@TM', 'in0@TM'): Array(0.+0.j, dtype=complex128),\n",
              " ('out1@TM', 'in1@TE'): Array(0.+0.j, dtype=complex128),\n",
              " ('out1@TM', 'in1@TM'): Array(0.+0.j, dtype=complex128),\n",
              " ('out1@TM', 'out0@TE'): Array(0.+0.j, dtype=complex128),\n",
              " ('out1@TM', 'out0@TM'): Array(0.+0.j, dtype=complex128),\n",
              " ('out1@TM', 'out1@TE'): Array(0.+0.j, dtype=complex128),\n",
              " ('out1@TM', 'out1@TM'): Array(0.+0.j, dtype=complex128)}"
            ]
          },
          "execution_count": 8,
          "metadata": {},
          "output_type": "execute_result"
        }
      ],
      "source": [
        "mzi()"
      ]
    },
    {
      "cell_type": "markdown",
      "id": "cellular-contemporary",
      "metadata": {
        "papermill": {
          "duration": 0.002506,
          "end_time": "2024-03-06T02:15:03.520157",
          "exception": false,
          "start_time": "2024-03-06T02:15:03.517651",
          "status": "completed"
        },
        "tags": []
      },
      "source": [
        "we can convert this model back to a singlemode `SDict` as follows:"
      ]
    },
    {
      "cell_type": "code",
      "execution_count": 9,
      "id": "aggregate-lemon",
      "metadata": {
        "execution": {
          "iopub.execute_input": "2024-03-06T02:15:03.526469Z",
          "iopub.status.busy": "2024-03-06T02:15:03.526068Z",
          "iopub.status.idle": "2024-03-06T02:15:03.565159Z",
          "shell.execute_reply": "2024-03-06T02:15:03.564704Z"
        },
        "papermill": {
          "duration": 0.043561,
          "end_time": "2024-03-06T02:15:03.566339",
          "exception": false,
          "start_time": "2024-03-06T02:15:03.522778",
          "status": "completed"
        },
        "tags": []
      },
      "outputs": [
        {
          "data": {
            "text/plain": [
              "{('in0', 'in0'): Array(0.+0.j, dtype=complex128),\n",
              " ('in0', 'in1'): Array(0.+0.j, dtype=complex128),\n",
              " ('in0', 'out0'): Array(-0.24856154+0.09205708j, dtype=complex128),\n",
              " ('in0', 'out1'): Array(0.7922229-0.29340714j, dtype=complex128),\n",
              " ('in1', 'in0'): Array(0.+0.j, dtype=complex128),\n",
              " ('in1', 'in1'): Array(0.+0.j, dtype=complex128),\n",
              " ('in1', 'out0'): Array(0.7922229-0.29340714j, dtype=complex128),\n",
              " ('in1', 'out1'): Array(0.24856154-0.09205708j, dtype=complex128),\n",
              " ('out0', 'in0'): Array(0.+0.j, dtype=complex128),\n",
              " ('out0', 'in1'): Array(0.+0.j, dtype=complex128),\n",
              " ('out0', 'out0'): Array(0.+0.j, dtype=complex128),\n",
              " ('out0', 'out1'): Array(0.+0.j, dtype=complex128),\n",
              " ('out1', 'in0'): Array(0.+0.j, dtype=complex128),\n",
              " ('out1', 'in1'): Array(0.+0.j, dtype=complex128),\n",
              " ('out1', 'out0'): Array(0.+0.j, dtype=complex128),\n",
              " ('out1', 'out1'): Array(0.+0.j, dtype=complex128)}"
            ]
          },
          "execution_count": 9,
          "metadata": {},
          "output_type": "execute_result"
        }
      ],
      "source": [
        "mzi_te = sax.singlemode(mzi, mode=\"TE\")\n",
        "mzi_te()"
      ]
    }
  ],
  "metadata": {
    "kernelspec": {
      "display_name": "Python 3 (ipykernel)",
      "language": "python",
      "name": "python3"
    },
    "language_info": {
      "codemirror_mode": {
        "name": "ipython",
        "version": 3
      },
      "file_extension": ".py",
      "mimetype": "text/x-python",
      "name": "python",
      "nbconvert_exporter": "python",
      "pygments_lexer": "ipython3",
      "version": "3.10.13"
    },
    "papermill": {
      "default_parameters": {},
      "duration": 3.048756,
      "end_time": "2024-03-06T02:15:03.885355",
      "environment_variables": {},
      "exception": null,
      "input_path": "./examples/04_multimode_simulations.ipynb",
      "output_path": "./examples/04_multimode_simulations.ipynb",
      "parameters": {},
      "start_time": "2024-03-06T02:15:00.836599",
      "version": "2.4.0"
    }
  },
  "nbformat": 4,
  "nbformat_minor": 5
}