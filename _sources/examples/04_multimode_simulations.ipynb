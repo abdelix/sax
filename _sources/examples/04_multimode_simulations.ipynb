{
  "cells": [
    {
      "cell_type": "markdown",
      "id": "textile-panel",
      "metadata": {
        "papermill": {
          "duration": 0.00403,
          "end_time": "2023-09-02T18:49:09.196556",
          "exception": false,
          "start_time": "2023-09-02T18:49:09.192526",
          "status": "completed"
        },
        "tags": []
      },
      "source": [
        "# Multimode simulations\n",
        "> SAX can handle multiple modes too!"
      ]
    },
    {
      "cell_type": "code",
      "execution_count": 1,
      "id": "prescribed-plant",
      "metadata": {
        "execution": {
          "iopub.execute_input": "2023-09-02T18:49:09.203804Z",
          "iopub.status.busy": "2023-09-02T18:49:09.203171Z",
          "iopub.status.idle": "2023-09-02T18:49:10.019344Z",
          "shell.execute_reply": "2023-09-02T18:49:10.018794Z"
        },
        "papermill": {
          "duration": 0.821481,
          "end_time": "2023-09-02T18:49:10.020994",
          "exception": false,
          "start_time": "2023-09-02T18:49:09.199513",
          "status": "completed"
        },
        "tags": []
      },
      "outputs": [],
      "source": [
        "from itertools import combinations_with_replacement, product\n",
        "\n",
        "import jax.numpy as jnp\n",
        "import sax"
      ]
    },
    {
      "cell_type": "markdown",
      "id": "requested-calvin",
      "metadata": {
        "papermill": {
          "duration": 0.002881,
          "end_time": "2023-09-02T18:49:10.026761",
          "exception": false,
          "start_time": "2023-09-02T18:49:10.023880",
          "status": "completed"
        },
        "tags": []
      },
      "source": [
        "## Ports and modes per port"
      ]
    },
    {
      "cell_type": "markdown",
      "id": "grateful-programming",
      "metadata": {
        "papermill": {
          "duration": 0.002393,
          "end_time": "2023-09-02T18:49:10.031602",
          "exception": false,
          "start_time": "2023-09-02T18:49:10.029209",
          "status": "completed"
        },
        "tags": []
      },
      "source": [
        "Let's denote a combination of a port and a mode by a string of the following format: `\"{port}@{mode}\"`. We can obtain all possible port-mode combinations with some magic itertools functions:"
      ]
    },
    {
      "cell_type": "code",
      "execution_count": 2,
      "id": "going-entity",
      "metadata": {
        "execution": {
          "iopub.execute_input": "2023-09-02T18:49:10.037991Z",
          "iopub.status.busy": "2023-09-02T18:49:10.037299Z",
          "iopub.status.idle": "2023-09-02T18:49:10.046514Z",
          "shell.execute_reply": "2023-09-02T18:49:10.046013Z"
        },
        "papermill": {
          "duration": 0.013789,
          "end_time": "2023-09-02T18:49:10.047848",
          "exception": false,
          "start_time": "2023-09-02T18:49:10.034059",
          "status": "completed"
        },
        "tags": []
      },
      "outputs": [
        {
          "data": {
            "text/plain": [
              "[('in0@te', 'in0@te'),\n",
              " ('in0@te', 'in0@tm'),\n",
              " ('in0@te', 'out0@te'),\n",
              " ('in0@te', 'out0@tm'),\n",
              " ('in0@tm', 'in0@tm'),\n",
              " ('in0@tm', 'out0@te'),\n",
              " ('in0@tm', 'out0@tm'),\n",
              " ('out0@te', 'out0@te'),\n",
              " ('out0@te', 'out0@tm'),\n",
              " ('out0@tm', 'out0@tm')]"
            ]
          },
          "execution_count": 2,
          "metadata": {},
          "output_type": "execute_result"
        }
      ],
      "source": [
        "ports = [\"in0\", \"out0\"]\n",
        "modes = [\"te\", \"tm\"]\n",
        "portmodes = [\n",
        "    (f\"{p1}@{m1}\", f\"{p2}@{m2}\")\n",
        "    for (p1, m1), (p2, m2) in combinations_with_replacement(product(ports, modes), 2)\n",
        "]\n",
        "portmodes"
      ]
    },
    {
      "cell_type": "markdown",
      "id": "passive-selling",
      "metadata": {
        "papermill": {
          "duration": 0.002563,
          "end_time": "2023-09-02T18:49:10.053021",
          "exception": false,
          "start_time": "2023-09-02T18:49:10.050458",
          "status": "completed"
        },
        "tags": []
      },
      "source": [
        "If we would disregard any backreflection, this can be further simplified:"
      ]
    },
    {
      "cell_type": "code",
      "execution_count": 3,
      "id": "numerical-novel",
      "metadata": {
        "execution": {
          "iopub.execute_input": "2023-09-02T18:49:10.060420Z",
          "iopub.status.busy": "2023-09-02T18:49:10.059916Z",
          "iopub.status.idle": "2023-09-02T18:49:10.065430Z",
          "shell.execute_reply": "2023-09-02T18:49:10.064921Z"
        },
        "papermill": {
          "duration": 0.010069,
          "end_time": "2023-09-02T18:49:10.066698",
          "exception": false,
          "start_time": "2023-09-02T18:49:10.056629",
          "status": "completed"
        },
        "tags": []
      },
      "outputs": [
        {
          "data": {
            "text/plain": [
              "[('in0@te', 'out0@te'),\n",
              " ('in0@te', 'out0@tm'),\n",
              " ('in0@tm', 'out0@te'),\n",
              " ('in0@tm', 'out0@tm')]"
            ]
          },
          "execution_count": 3,
          "metadata": {},
          "output_type": "execute_result"
        }
      ],
      "source": [
        "portmodes_without_backreflection = [\n",
        "    (p1, p2) for p1, p2 in portmodes if p1.split(\"@\")[0] != p2.split(\"@\")[0]\n",
        "]\n",
        "portmodes_without_backreflection"
      ]
    },
    {
      "cell_type": "markdown",
      "id": "hindu-application",
      "metadata": {
        "papermill": {
          "duration": 0.002673,
          "end_time": "2023-09-02T18:49:10.072057",
          "exception": false,
          "start_time": "2023-09-02T18:49:10.069384",
          "status": "completed"
        },
        "tags": []
      },
      "source": [
        "Sometimes cross-polarization terms can also be ignored:"
      ]
    },
    {
      "cell_type": "code",
      "execution_count": 4,
      "id": "encouraging-territory",
      "metadata": {
        "execution": {
          "iopub.execute_input": "2023-09-02T18:49:10.107867Z",
          "iopub.status.busy": "2023-09-02T18:49:10.107376Z",
          "iopub.status.idle": "2023-09-02T18:49:10.112289Z",
          "shell.execute_reply": "2023-09-02T18:49:10.111812Z"
        },
        "papermill": {
          "duration": 0.009839,
          "end_time": "2023-09-02T18:49:10.113393",
          "exception": false,
          "start_time": "2023-09-02T18:49:10.103554",
          "status": "completed"
        },
        "tags": []
      },
      "outputs": [
        {
          "data": {
            "text/plain": [
              "[('in0@te', 'in0@te'),\n",
              " ('in0@te', 'out0@te'),\n",
              " ('in0@tm', 'in0@tm'),\n",
              " ('in0@tm', 'out0@tm'),\n",
              " ('out0@te', 'out0@te'),\n",
              " ('out0@tm', 'out0@tm')]"
            ]
          },
          "execution_count": 4,
          "metadata": {},
          "output_type": "execute_result"
        }
      ],
      "source": [
        "portmodes_without_crosspolarization = [\n",
        "    (p1, p2) for p1, p2 in portmodes if p1.split(\"@\")[1] == p2.split(\"@\")[1]\n",
        "]\n",
        "portmodes_without_crosspolarization"
      ]
    },
    {
      "cell_type": "markdown",
      "id": "mathematical-default",
      "metadata": {
        "papermill": {
          "duration": 0.002813,
          "end_time": "2023-09-02T18:49:10.119047",
          "exception": false,
          "start_time": "2023-09-02T18:49:10.116234",
          "status": "completed"
        },
        "tags": []
      },
      "source": [
        "## Multimode waveguide"
      ]
    },
    {
      "cell_type": "markdown",
      "id": "asian-noise",
      "metadata": {
        "papermill": {
          "duration": 0.002727,
          "end_time": "2023-09-02T18:49:10.124640",
          "exception": false,
          "start_time": "2023-09-02T18:49:10.121913",
          "status": "completed"
        },
        "tags": []
      },
      "source": [
        "Let's create a waveguide with two ports (`\"in\"`, `\"out\"`) and two modes (`\"te\"`, `\"tm\"`) without backreflection. Let's assume there is 5% cross-polarization and that the `\"tm\"`->`\"tm\"` transmission is 10% worse than the `\"te\"`->`\"te\"` transmission. Naturally in more realisic waveguide models these percentages will be length-dependent, but this is just a dummy model serving as an example."
      ]
    },
    {
      "cell_type": "code",
      "execution_count": 5,
      "id": "patient-wealth",
      "metadata": {
        "execution": {
          "iopub.execute_input": "2023-09-02T18:49:10.131648Z",
          "iopub.status.busy": "2023-09-02T18:49:10.131181Z",
          "iopub.status.idle": "2023-09-02T18:49:10.174922Z",
          "shell.execute_reply": "2023-09-02T18:49:10.174416Z"
        },
        "papermill": {
          "duration": 0.048552,
          "end_time": "2023-09-02T18:49:10.176104",
          "exception": false,
          "start_time": "2023-09-02T18:49:10.127552",
          "status": "completed"
        },
        "tags": []
      },
      "outputs": [
        {
          "data": {
            "text/plain": [
              "{('in0@TE',\n",
              "  'out0@TE'): Array(0.77972527+0.5427048j, dtype=complex128, weak_type=True),\n",
              " ('in0@TE',\n",
              "  'out0@TM'): Array(0.04103817+0.02856341j, dtype=complex128, weak_type=True),\n",
              " ('in0@TM',\n",
              "  'out0@TM'): Array(0.69764893+0.48557798j, dtype=complex128, weak_type=True),\n",
              " ('in0@TM',\n",
              "  'out0@TE'): Array(0.04103817+0.02856341j, dtype=complex128, weak_type=True),\n",
              " ('out0@TE',\n",
              "  'in0@TE'): Array(0.77972527+0.5427048j, dtype=complex128, weak_type=True),\n",
              " ('out0@TM',\n",
              "  'in0@TE'): Array(0.04103817+0.02856341j, dtype=complex128, weak_type=True),\n",
              " ('out0@TM',\n",
              "  'in0@TM'): Array(0.69764893+0.48557798j, dtype=complex128, weak_type=True),\n",
              " ('out0@TE',\n",
              "  'in0@TM'): Array(0.04103817+0.02856341j, dtype=complex128, weak_type=True)}"
            ]
          },
          "execution_count": 5,
          "metadata": {},
          "output_type": "execute_result"
        }
      ],
      "source": [
        "def waveguide(wl=1.55, wl0=1.55, neff=2.34, ng=3.4, length=10.0, loss=0.0):\n",
        "    \"\"\"a simple straight waveguide model\n",
        "\n",
        "    Args:\n",
        "        wl: wavelength\n",
        "        neff: waveguide effective index\n",
        "        ng: waveguide group index (used for linear neff dispersion)\n",
        "        wl0: center wavelength at which neff is defined\n",
        "        length: [m] wavelength length\n",
        "        loss: [dB/m] waveguide loss\n",
        "    \"\"\"\n",
        "    dwl = wl - wl0\n",
        "    dneff_dwl = (ng - neff) / wl0\n",
        "    neff = neff - dwl * dneff_dwl\n",
        "    phase = 2 * jnp.pi * neff * length / wl\n",
        "    transmission = 10 ** (-loss * length / 20) * jnp.exp(1j * phase)\n",
        "    sdict = sax.reciprocal(\n",
        "        {\n",
        "            (\"in0@TE\", \"out0@TE\"): 0.95 * transmission,  # 5% lost to cross-polarization\n",
        "            (\"in0@TE\", \"out0@TM\"): 0.05 * transmission,  # 5% cross-polarization\n",
        "            (\"in0@TM\", \"out0@TM\"): 0.85 * transmission,  # 10% worse tm->tm than te->te\n",
        "            (\"in0@TM\", \"out0@TE\"): 0.05 * transmission,  # 5% cross-polarization\n",
        "        }\n",
        "    )\n",
        "    return sdict\n",
        "\n",
        "\n",
        "waveguide()"
      ]
    },
    {
      "cell_type": "markdown",
      "id": "cafacbde-e5eb-43c6-87ec-1a9e795b5cc2",
      "metadata": {
        "papermill": {
          "duration": 0.00297,
          "end_time": "2023-09-02T18:49:10.182299",
          "exception": false,
          "start_time": "2023-09-02T18:49:10.179329",
          "status": "completed"
        },
        "tags": []
      },
      "source": [
        "## Multimode Coupler"
      ]
    },
    {
      "cell_type": "code",
      "execution_count": 6,
      "id": "0cf6d7a6-d054-4c3a-9053-3b09777d50f9",
      "metadata": {
        "execution": {
          "iopub.execute_input": "2023-09-02T18:49:10.189319Z",
          "iopub.status.busy": "2023-09-02T18:49:10.188986Z",
          "iopub.status.idle": "2023-09-02T18:49:10.193519Z",
          "shell.execute_reply": "2023-09-02T18:49:10.193074Z"
        },
        "papermill": {
          "duration": 0.009418,
          "end_time": "2023-09-02T18:49:10.194629",
          "exception": false,
          "start_time": "2023-09-02T18:49:10.185211",
          "status": "completed"
        },
        "tags": []
      },
      "outputs": [],
      "source": [
        "def coupler():\n",
        "    return {\n",
        "        (\"in0@TE\", \"out0@TE\"): 0.45**0.5,\n",
        "        (\"in0@TE\", \"out1@TE\"): 1j*0.45**0.5,\n",
        "        (\"in1@TE\", \"out0@TE\"): 1j*0.45**0.5,\n",
        "        (\"in1@TE\", \"out1@TE\"): 0.45**0.5,\n",
        "        (\"in0@TM\", \"out0@TM\"): 0.45**0.5,\n",
        "        (\"in0@TM\", \"out1@TM\"): 1j*0.45**0.5,\n",
        "        (\"in1@TM\", \"out0@TM\"): 1j*0.45**0.5,\n",
        "        (\"in1@TM\", \"out1@TM\"): 0.45**0.5,\n",
        "        (\"in0@TE\", \"out0@TM\"): 0.01**0.5,\n",
        "        (\"in0@TE\", \"out1@TM\"): 1j*0.01**0.5,\n",
        "        (\"in1@TE\", \"out0@TM\"): 1j*0.01**0.5,\n",
        "        (\"in1@TE\", \"out1@TM\"): 0.01**0.5,\n",
        "        (\"in0@TM\", \"out0@TE\"): 0.01**0.5,\n",
        "        (\"in0@TM\", \"out1@TE\"): 1j*0.01**0.5,\n",
        "        (\"in1@TM\", \"out0@TE\"): 1j*0.01**0.5,\n",
        "        (\"in1@TM\", \"out1@TE\"): 0.01**0.5,\n",
        "    }"
      ]
    },
    {
      "cell_type": "markdown",
      "id": "accessory-sheep",
      "metadata": {
        "papermill": {
          "duration": 0.002943,
          "end_time": "2023-09-02T18:49:10.200558",
          "exception": false,
          "start_time": "2023-09-02T18:49:10.197615",
          "status": "completed"
        },
        "tags": []
      },
      "source": [
        "## Multimode MZI"
      ]
    },
    {
      "cell_type": "markdown",
      "id": "joint-semiconductor",
      "metadata": {
        "papermill": {
          "duration": 0.00295,
          "end_time": "2023-09-02T18:49:10.206460",
          "exception": false,
          "start_time": "2023-09-02T18:49:10.203510",
          "status": "completed"
        },
        "tags": []
      },
      "source": [
        "We can now combine these models into a circuit in much the same way as before. We just need to add the `modes=` keyword:"
      ]
    },
    {
      "cell_type": "code",
      "execution_count": 7,
      "id": "suffering-judges",
      "metadata": {
        "execution": {
          "iopub.execute_input": "2023-09-02T18:49:10.213518Z",
          "iopub.status.busy": "2023-09-02T18:49:10.213211Z",
          "iopub.status.idle": "2023-09-02T18:49:10.969375Z",
          "shell.execute_reply": "2023-09-02T18:49:10.968760Z"
        },
        "papermill": {
          "duration": 0.761703,
          "end_time": "2023-09-02T18:49:10.971190",
          "exception": false,
          "start_time": "2023-09-02T18:49:10.209487",
          "status": "completed"
        },
        "tags": []
      },
      "outputs": [],
      "source": [
        "mzi, _ = sax.circuit(\n",
        "    netlist={\n",
        "        \"instances\": {\n",
        "            \"lft\": \"coupler\",  # single mode models will be automatically converted to multimode models without cross polarization.\n",
        "            \"top\": {\"component\": \"straight\", \"settings\": {\"length\": 25.0}},\n",
        "            \"btm\": {\"component\": \"straight\", \"settings\": {\"length\": 15.0}},\n",
        "            \"rgt\": \"coupler\",  # single mode models will be automatically converted to multimode models without cross polarization.\n",
        "        },\n",
        "        \"connections\": {\n",
        "            \"lft,out0\": \"btm,in0\",\n",
        "            \"btm,out0\": \"rgt,in0\",\n",
        "            \"lft,out1\": \"top,in0\",\n",
        "            \"top,out0\": \"rgt,in1\",\n",
        "        },\n",
        "        \"ports\": {\n",
        "            \"in0\": \"lft,in0\",\n",
        "            \"in1\": \"lft,in1\",\n",
        "            \"out0\": \"rgt,out0\",\n",
        "            \"out1\": \"rgt,out1\",\n",
        "        },\n",
        "    },\n",
        "    models={\n",
        "        'coupler': coupler,\n",
        "        'straight': waveguide,\n",
        "    },\n",
        ")"
      ]
    },
    {
      "cell_type": "code",
      "execution_count": 8,
      "id": "bridal-insider",
      "metadata": {
        "execution": {
          "iopub.execute_input": "2023-09-02T18:49:10.979269Z",
          "iopub.status.busy": "2023-09-02T18:49:10.979048Z",
          "iopub.status.idle": "2023-09-02T18:49:11.559153Z",
          "shell.execute_reply": "2023-09-02T18:49:11.558548Z"
        },
        "papermill": {
          "duration": 0.585709,
          "end_time": "2023-09-02T18:49:11.560664",
          "exception": false,
          "start_time": "2023-09-02T18:49:10.974955",
          "status": "completed"
        },
        "tags": []
      },
      "outputs": [
        {
          "data": {
            "text/plain": [
              "(Array([[ 0.        +0.j        ,  0.        +0.j        ,\n",
              "          0.        +0.j        ,  0.        +0.j        ,\n",
              "         -0.24856154+0.09205708j, -0.08070811+0.029891j  ,\n",
              "          0.7922229 -0.29340714j,  0.25723534-0.09526951j],\n",
              "        [ 0.        +0.j        ,  0.        +0.j        ,\n",
              "          0.        +0.j        ,  0.        +0.j        ,\n",
              "         -0.08070811+0.029891j  , -0.22385744+0.08290769j,\n",
              "          0.25723534-0.09526951j,  0.71348524-0.26424592j],\n",
              "        [ 0.        +0.j        ,  0.        +0.j        ,\n",
              "          0.        +0.j        ,  0.        +0.j        ,\n",
              "          0.7922229 -0.29340714j,  0.25723534-0.09526951j,\n",
              "          0.24856154-0.09205708j,  0.08070811-0.029891j  ],\n",
              "        [ 0.        +0.j        ,  0.        +0.j        ,\n",
              "          0.        +0.j        ,  0.        +0.j        ,\n",
              "          0.25723534-0.09526951j,  0.71348524-0.26424592j,\n",
              "          0.08070811-0.029891j  ,  0.22385744-0.08290769j],\n",
              "        [ 0.        +0.j        ,  0.        +0.j        ,\n",
              "          0.        +0.j        ,  0.        +0.j        ,\n",
              "          0.        +0.j        ,  0.        +0.j        ,\n",
              "          0.        +0.j        ,  0.        +0.j        ],\n",
              "        [ 0.        +0.j        ,  0.        +0.j        ,\n",
              "          0.        +0.j        ,  0.        +0.j        ,\n",
              "          0.        +0.j        ,  0.        +0.j        ,\n",
              "          0.        +0.j        ,  0.        +0.j        ],\n",
              "        [ 0.        +0.j        ,  0.        +0.j        ,\n",
              "          0.        +0.j        ,  0.        +0.j        ,\n",
              "          0.        +0.j        ,  0.        +0.j        ,\n",
              "          0.        +0.j        ,  0.        +0.j        ],\n",
              "        [ 0.        +0.j        ,  0.        +0.j        ,\n",
              "          0.        +0.j        ,  0.        +0.j        ,\n",
              "          0.        +0.j        ,  0.        +0.j        ,\n",
              "          0.        +0.j        ,  0.        +0.j        ]],      dtype=complex128),\n",
              " {'in0@TE': 0,\n",
              "  'in0@TM': 1,\n",
              "  'in1@TE': 2,\n",
              "  'in1@TM': 3,\n",
              "  'out0@TE': 4,\n",
              "  'out0@TM': 5,\n",
              "  'out1@TE': 6,\n",
              "  'out1@TM': 7})"
            ]
          },
          "execution_count": 8,
          "metadata": {},
          "output_type": "execute_result"
        }
      ],
      "source": [
        "mzi()"
      ]
    },
    {
      "cell_type": "markdown",
      "id": "cellular-contemporary",
      "metadata": {
        "papermill": {
          "duration": 0.003639,
          "end_time": "2023-09-02T18:49:11.568739",
          "exception": false,
          "start_time": "2023-09-02T18:49:11.565100",
          "status": "completed"
        },
        "tags": []
      },
      "source": [
        "we can convert this model back to a singlemode `SDict` as follows:"
      ]
    },
    {
      "cell_type": "code",
      "execution_count": 9,
      "id": "aggregate-lemon",
      "metadata": {
        "execution": {
          "iopub.execute_input": "2023-09-02T18:49:11.576839Z",
          "iopub.status.busy": "2023-09-02T18:49:11.576245Z",
          "iopub.status.idle": "2023-09-02T18:49:11.667442Z",
          "shell.execute_reply": "2023-09-02T18:49:11.666792Z"
        },
        "papermill": {
          "duration": 0.097297,
          "end_time": "2023-09-02T18:49:11.669264",
          "exception": false,
          "start_time": "2023-09-02T18:49:11.571967",
          "status": "completed"
        },
        "tags": []
      },
      "outputs": [
        {
          "data": {
            "text/plain": [
              "(Array([[ 0.        +0.j        ,  0.        +0.j        ,\n",
              "         -0.24856154+0.09205708j,  0.7922229 -0.29340714j],\n",
              "        [ 0.        +0.j        ,  0.        +0.j        ,\n",
              "          0.7922229 -0.29340714j,  0.24856154-0.09205708j],\n",
              "        [ 0.        +0.j        ,  0.        +0.j        ,\n",
              "          0.        +0.j        ,  0.        +0.j        ],\n",
              "        [ 0.        +0.j        ,  0.        +0.j        ,\n",
              "          0.        +0.j        ,  0.        +0.j        ]],      dtype=complex128),\n",
              " {'in0': 0, 'in1': 1, 'out0': 2, 'out1': 3})"
            ]
          },
          "execution_count": 9,
          "metadata": {},
          "output_type": "execute_result"
        }
      ],
      "source": [
        "mzi_te = sax.singlemode(mzi, mode=\"TE\")\n",
        "mzi_te()"
      ]
    }
  ],
  "metadata": {
    "kernelspec": {
      "display_name": "sax",
      "language": "python",
      "name": "sax"
    },
    "language_info": {
      "codemirror_mode": {
        "name": "ipython",
        "version": 3
      },
      "file_extension": ".py",
      "mimetype": "text/x-python",
      "name": "python",
      "nbconvert_exporter": "python",
      "pygments_lexer": "ipython3",
      "version": "3.11.5"
    },
    "papermill": {
      "default_parameters": {},
      "duration": 4.227691,
      "end_time": "2023-09-02T18:49:12.090658",
      "environment_variables": {},
      "exception": null,
      "input_path": "./examples/04_multimode_simulations.ipynb",
      "output_path": "./examples/04_multimode_simulations.ipynb",
      "parameters": {},
      "start_time": "2023-09-02T18:49:07.862967",
      "version": "2.4.0"
    }
  },
  "nbformat": 4,
  "nbformat_minor": 5
}