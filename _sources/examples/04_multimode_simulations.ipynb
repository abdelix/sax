{
  "cells": [
    {
      "cell_type": "markdown",
      "id": "textile-panel",
      "metadata": {
        "papermill": {
          "duration": 0.002717,
          "end_time": "2023-06-01T21:29:07.021265",
          "exception": false,
          "start_time": "2023-06-01T21:29:07.018548",
          "status": "completed"
        },
        "tags": []
      },
      "source": [
        "# Multimode simulations\n",
        "> SAX can handle multiple modes too!"
      ]
    },
    {
      "cell_type": "code",
      "execution_count": 1,
      "id": "prescribed-plant",
      "metadata": {
        "execution": {
          "iopub.execute_input": "2023-06-01T21:29:07.028353Z",
          "iopub.status.busy": "2023-06-01T21:29:07.028117Z",
          "iopub.status.idle": "2023-06-01T21:29:08.194616Z",
          "shell.execute_reply": "2023-06-01T21:29:08.194040Z"
        },
        "papermill": {
          "duration": 1.171159,
          "end_time": "2023-06-01T21:29:08.196185",
          "exception": false,
          "start_time": "2023-06-01T21:29:07.025026",
          "status": "completed"
        },
        "tags": []
      },
      "outputs": [],
      "source": [
        "from itertools import combinations_with_replacement, product\n",
        "\n",
        "import jax.numpy as jnp\n",
        "import sax"
      ]
    },
    {
      "cell_type": "markdown",
      "id": "requested-calvin",
      "metadata": {
        "papermill": {
          "duration": 0.03533,
          "end_time": "2023-06-01T21:29:08.395802",
          "exception": false,
          "start_time": "2023-06-01T21:29:08.360472",
          "status": "completed"
        },
        "tags": []
      },
      "source": [
        "## Ports and modes per port"
      ]
    },
    {
      "cell_type": "markdown",
      "id": "grateful-programming",
      "metadata": {
        "papermill": {
          "duration": 0.002237,
          "end_time": "2023-06-01T21:29:08.400448",
          "exception": false,
          "start_time": "2023-06-01T21:29:08.398211",
          "status": "completed"
        },
        "tags": []
      },
      "source": [
        "Let's denote a combination of a port and a mode by a string of the following format: `\"{port}@{mode}\"`. We can obtain all possible port-mode combinations with some magic itertools functions:"
      ]
    },
    {
      "cell_type": "code",
      "execution_count": 2,
      "id": "going-entity",
      "metadata": {
        "execution": {
          "iopub.execute_input": "2023-06-01T21:29:08.408221Z",
          "iopub.status.busy": "2023-06-01T21:29:08.407844Z",
          "iopub.status.idle": "2023-06-01T21:29:08.414682Z",
          "shell.execute_reply": "2023-06-01T21:29:08.414202Z"
        },
        "papermill": {
          "duration": 0.013253,
          "end_time": "2023-06-01T21:29:08.415850",
          "exception": false,
          "start_time": "2023-06-01T21:29:08.402597",
          "status": "completed"
        },
        "tags": []
      },
      "outputs": [
        {
          "data": {
            "text/plain": [
              "[('in0@te', 'in0@te'),\n",
              " ('in0@te', 'in0@tm'),\n",
              " ('in0@te', 'out0@te'),\n",
              " ('in0@te', 'out0@tm'),\n",
              " ('in0@tm', 'in0@tm'),\n",
              " ('in0@tm', 'out0@te'),\n",
              " ('in0@tm', 'out0@tm'),\n",
              " ('out0@te', 'out0@te'),\n",
              " ('out0@te', 'out0@tm'),\n",
              " ('out0@tm', 'out0@tm')]"
            ]
          },
          "execution_count": 2,
          "metadata": {},
          "output_type": "execute_result"
        }
      ],
      "source": [
        "ports = [\"in0\", \"out0\"]\n",
        "modes = [\"te\", \"tm\"]\n",
        "portmodes = [\n",
        "    (f\"{p1}@{m1}\", f\"{p2}@{m2}\")\n",
        "    for (p1, m1), (p2, m2) in combinations_with_replacement(product(ports, modes), 2)\n",
        "]\n",
        "portmodes"
      ]
    },
    {
      "cell_type": "markdown",
      "id": "passive-selling",
      "metadata": {
        "papermill": {
          "duration": 0.002302,
          "end_time": "2023-06-01T21:29:08.420433",
          "exception": false,
          "start_time": "2023-06-01T21:29:08.418131",
          "status": "completed"
        },
        "tags": []
      },
      "source": [
        "If we would disregard any backreflection, this can be further simplified:"
      ]
    },
    {
      "cell_type": "code",
      "execution_count": 3,
      "id": "numerical-novel",
      "metadata": {
        "execution": {
          "iopub.execute_input": "2023-06-01T21:29:08.430150Z",
          "iopub.status.busy": "2023-06-01T21:29:08.429964Z",
          "iopub.status.idle": "2023-06-01T21:29:08.433883Z",
          "shell.execute_reply": "2023-06-01T21:29:08.433433Z"
        },
        "papermill": {
          "duration": 0.011347,
          "end_time": "2023-06-01T21:29:08.436608",
          "exception": false,
          "start_time": "2023-06-01T21:29:08.425261",
          "status": "completed"
        },
        "tags": []
      },
      "outputs": [
        {
          "data": {
            "text/plain": [
              "[('in0@te', 'out0@te'),\n",
              " ('in0@te', 'out0@tm'),\n",
              " ('in0@tm', 'out0@te'),\n",
              " ('in0@tm', 'out0@tm')]"
            ]
          },
          "execution_count": 3,
          "metadata": {},
          "output_type": "execute_result"
        }
      ],
      "source": [
        "portmodes_without_backreflection = [\n",
        "    (p1, p2) for p1, p2 in portmodes if p1.split(\"@\")[0] != p2.split(\"@\")[0]\n",
        "]\n",
        "portmodes_without_backreflection"
      ]
    },
    {
      "cell_type": "markdown",
      "id": "hindu-application",
      "metadata": {
        "papermill": {
          "duration": 0.00617,
          "end_time": "2023-06-01T21:29:08.446321",
          "exception": false,
          "start_time": "2023-06-01T21:29:08.440151",
          "status": "completed"
        },
        "tags": []
      },
      "source": [
        "Sometimes cross-polarization terms can also be ignored:"
      ]
    },
    {
      "cell_type": "code",
      "execution_count": 4,
      "id": "encouraging-territory",
      "metadata": {
        "execution": {
          "iopub.execute_input": "2023-06-01T21:29:08.455271Z",
          "iopub.status.busy": "2023-06-01T21:29:08.455093Z",
          "iopub.status.idle": "2023-06-01T21:29:08.458927Z",
          "shell.execute_reply": "2023-06-01T21:29:08.458508Z"
        },
        "papermill": {
          "duration": 0.010996,
          "end_time": "2023-06-01T21:29:08.460637",
          "exception": false,
          "start_time": "2023-06-01T21:29:08.449641",
          "status": "completed"
        },
        "tags": []
      },
      "outputs": [
        {
          "data": {
            "text/plain": [
              "[('in0@te', 'in0@te'),\n",
              " ('in0@te', 'out0@te'),\n",
              " ('in0@tm', 'in0@tm'),\n",
              " ('in0@tm', 'out0@tm'),\n",
              " ('out0@te', 'out0@te'),\n",
              " ('out0@tm', 'out0@tm')]"
            ]
          },
          "execution_count": 4,
          "metadata": {},
          "output_type": "execute_result"
        }
      ],
      "source": [
        "portmodes_without_crosspolarization = [\n",
        "    (p1, p2) for p1, p2 in portmodes if p1.split(\"@\")[1] == p2.split(\"@\")[1]\n",
        "]\n",
        "portmodes_without_crosspolarization"
      ]
    },
    {
      "cell_type": "markdown",
      "id": "mathematical-default",
      "metadata": {
        "papermill": {
          "duration": 0.003891,
          "end_time": "2023-06-01T21:29:08.470080",
          "exception": false,
          "start_time": "2023-06-01T21:29:08.466189",
          "status": "completed"
        },
        "tags": []
      },
      "source": [
        "## Multimode waveguide"
      ]
    },
    {
      "cell_type": "markdown",
      "id": "asian-noise",
      "metadata": {
        "papermill": {
          "duration": 0.004831,
          "end_time": "2023-06-01T21:29:08.479840",
          "exception": false,
          "start_time": "2023-06-01T21:29:08.475009",
          "status": "completed"
        },
        "tags": []
      },
      "source": [
        "Let's create a waveguide with two ports (`\"in\"`, `\"out\"`) and two modes (`\"te\"`, `\"tm\"`) without backreflection. Let's assume there is 5% cross-polarization and that the `\"tm\"`->`\"tm\"` transmission is 10% worse than the `\"te\"`->`\"te\"` transmission. Naturally in more realisic waveguide models these percentages will be length-dependent, but this is just a dummy model serving as an example."
      ]
    },
    {
      "cell_type": "code",
      "execution_count": 5,
      "id": "patient-wealth",
      "metadata": {
        "execution": {
          "iopub.execute_input": "2023-06-01T21:29:08.493319Z",
          "iopub.status.busy": "2023-06-01T21:29:08.493110Z",
          "iopub.status.idle": "2023-06-01T21:29:08.580370Z",
          "shell.execute_reply": "2023-06-01T21:29:08.579783Z"
        },
        "papermill": {
          "duration": 0.096857,
          "end_time": "2023-06-01T21:29:08.581746",
          "exception": false,
          "start_time": "2023-06-01T21:29:08.484889",
          "status": "completed"
        },
        "tags": []
      },
      "outputs": [
        {
          "name": "stderr",
          "output_type": "stream",
          "text": [
            "No GPU/TPU found, falling back to CPU. (Set TF_CPP_MIN_LOG_LEVEL=0 and rerun for more info.)\n"
          ]
        },
        {
          "data": {
            "text/plain": [
              "{('in0@te',\n",
              "  'out0@te'): Array(0.77972656+0.54270285j, dtype=complex64, weak_type=True),\n",
              " ('in0@te',\n",
              "  'out0@tm'): Array(0.04103824+0.02856331j, dtype=complex64, weak_type=True),\n",
              " ('in0@tm',\n",
              "  'out0@tm'): Array(0.69765013+0.48557627j, dtype=complex64, weak_type=True),\n",
              " ('in0@tm',\n",
              "  'out0@te'): Array(0.04103824+0.02856331j, dtype=complex64, weak_type=True),\n",
              " ('out0@te',\n",
              "  'in0@te'): Array(0.77972656+0.54270285j, dtype=complex64, weak_type=True),\n",
              " ('out0@tm',\n",
              "  'in0@te'): Array(0.04103824+0.02856331j, dtype=complex64, weak_type=True),\n",
              " ('out0@tm',\n",
              "  'in0@tm'): Array(0.69765013+0.48557627j, dtype=complex64, weak_type=True),\n",
              " ('out0@te',\n",
              "  'in0@tm'): Array(0.04103824+0.02856331j, dtype=complex64, weak_type=True)}"
            ]
          },
          "execution_count": 5,
          "metadata": {},
          "output_type": "execute_result"
        }
      ],
      "source": [
        "def waveguide(wl=1.55, wl0=1.55, neff=2.34, ng=3.4, length=10.0, loss=0.0):\n",
        "    \"\"\"a simple straight waveguide model\n",
        "\n",
        "    Args:\n",
        "        wl: wavelength\n",
        "        neff: waveguide effective index\n",
        "        ng: waveguide group index (used for linear neff dispersion)\n",
        "        wl0: center wavelength at which neff is defined\n",
        "        length: [m] wavelength length\n",
        "        loss: [dB/m] waveguide loss\n",
        "    \"\"\"\n",
        "    dwl = wl - wl0\n",
        "    dneff_dwl = (ng - neff) / wl0\n",
        "    neff = neff - dwl * dneff_dwl\n",
        "    phase = 2 * jnp.pi * neff * length / wl\n",
        "    transmission = 10 ** (-loss * length / 20) * jnp.exp(1j * phase)\n",
        "    sdict = sax.reciprocal(\n",
        "        {\n",
        "            (\"in0@te\", \"out0@te\"): 0.95 * transmission,  # 5% lost to cross-polarization\n",
        "            (\"in0@te\", \"out0@tm\"): 0.05 * transmission,  # 5% cross-polarization\n",
        "            (\"in0@tm\", \"out0@tm\"): 0.85 * transmission,  # 10% worse tm->tm than te->te\n",
        "            (\"in0@tm\", \"out0@te\"): 0.05 * transmission,  # 5% cross-polarization\n",
        "        }\n",
        "    )\n",
        "    return sdict\n",
        "\n",
        "\n",
        "waveguide()"
      ]
    },
    {
      "cell_type": "markdown",
      "id": "accessory-sheep",
      "metadata": {
        "papermill": {
          "duration": 0.002856,
          "end_time": "2023-06-01T21:29:08.587470",
          "exception": false,
          "start_time": "2023-06-01T21:29:08.584614",
          "status": "completed"
        },
        "tags": []
      },
      "source": [
        "## Multimode MZI"
      ]
    },
    {
      "cell_type": "markdown",
      "id": "joint-semiconductor",
      "metadata": {
        "papermill": {
          "duration": 0.00457,
          "end_time": "2023-06-01T21:29:08.597397",
          "exception": false,
          "start_time": "2023-06-01T21:29:08.592827",
          "status": "completed"
        },
        "tags": []
      },
      "source": [
        "We can now combine these models into a circuit in much the same way as before. We just need to add the `modes=` keyword:"
      ]
    },
    {
      "cell_type": "code",
      "execution_count": 6,
      "id": "suffering-judges",
      "metadata": {
        "execution": {
          "iopub.execute_input": "2023-06-01T21:29:08.609647Z",
          "iopub.status.busy": "2023-06-01T21:29:08.609275Z",
          "iopub.status.idle": "2023-06-01T21:29:08.621117Z",
          "shell.execute_reply": "2023-06-01T21:29:08.619749Z"
        },
        "papermill": {
          "duration": 0.023386,
          "end_time": "2023-06-01T21:29:08.623367",
          "exception": false,
          "start_time": "2023-06-01T21:29:08.599981",
          "status": "completed"
        },
        "tags": []
      },
      "outputs": [],
      "source": [
        "mzi, _ = sax.circuit(\n",
        "    netlist={\n",
        "        \"instances\": {\n",
        "            \"lft\": \"coupler\",  # single mode models will be automatically converted to multimode models without cross polarization.\n",
        "            \"top\": {\"component\": \"straight\", \"settings\": {\"length\": 25.0}},\n",
        "            \"btm\": {\"component\": \"straight\", \"settings\": {\"length\": 15.0}},\n",
        "            \"rgt\": \"coupler\",  # single mode models will be automatically converted to multimode models without cross polarization.\n",
        "        },\n",
        "        \"connections\": {\n",
        "            \"lft,out0\": \"btm,in0\",\n",
        "            \"btm,out0\": \"rgt,in0\",\n",
        "            \"lft,out1\": \"top,in0\",\n",
        "            \"top,out0\": \"rgt,in1\",\n",
        "        },\n",
        "        \"ports\": {\n",
        "            \"in0\": \"lft,in0\",\n",
        "            \"in1\": \"lft,in1\",\n",
        "            \"out0\": \"rgt,out0\",\n",
        "            \"out1\": \"rgt,out1\",\n",
        "        },\n",
        "    },\n",
        "    models=sax.get_models(),\n",
        "    modes=(\"te\", \"tm\"),\n",
        ")"
      ]
    },
    {
      "cell_type": "code",
      "execution_count": 7,
      "id": "bridal-insider",
      "metadata": {
        "execution": {
          "iopub.execute_input": "2023-06-01T21:29:08.629608Z",
          "iopub.status.busy": "2023-06-01T21:29:08.629352Z",
          "iopub.status.idle": "2023-06-01T21:29:13.292635Z",
          "shell.execute_reply": "2023-06-01T21:29:13.292115Z"
        },
        "papermill": {
          "duration": 4.667989,
          "end_time": "2023-06-01T21:29:13.293959",
          "exception": false,
          "start_time": "2023-06-01T21:29:08.625970",
          "status": "completed"
        },
        "tags": []
      },
      "outputs": [
        {
          "data": {
            "text/plain": [
              "{('in1@tm', 'in1@tm'): Array(0.+0.j, dtype=complex64),\n",
              " ('in1@tm', 'in0@te'): Array(0.+0.j, dtype=complex64),\n",
              " ('in1@tm', 'in1@te'): Array(0.+0.j, dtype=complex64),\n",
              " ('in1@tm', 'in0@tm'): Array(0.+0.j, dtype=complex64),\n",
              " ('in0@te', 'in1@tm'): Array(0.+0.j, dtype=complex64),\n",
              " ('in0@te', 'in0@te'): Array(0.+0.j, dtype=complex64),\n",
              " ('in0@te', 'in1@te'): Array(0.+0.j, dtype=complex64),\n",
              " ('in0@te', 'in0@tm'): Array(0.+0.j, dtype=complex64),\n",
              " ('in1@te', 'in1@tm'): Array(0.+0.j, dtype=complex64),\n",
              " ('in1@te', 'in0@te'): Array(0.+0.j, dtype=complex64),\n",
              " ('in1@te', 'in1@te'): Array(0.+0.j, dtype=complex64),\n",
              " ('in1@te', 'in0@tm'): Array(0.+0.j, dtype=complex64),\n",
              " ('in0@tm', 'in1@tm'): Array(0.+0.j, dtype=complex64),\n",
              " ('in0@tm', 'in0@te'): Array(0.+0.j, dtype=complex64),\n",
              " ('in0@tm', 'in1@te'): Array(0.+0.j, dtype=complex64),\n",
              " ('in0@tm', 'in0@tm'): Array(0.+0.j, dtype=complex64),\n",
              " ('out0@te', 'out0@te'): Array(0.+0.j, dtype=complex64),\n",
              " ('out0@te', 'out1@te'): Array(0.+0.j, dtype=complex64),\n",
              " ('out0@te', 'out1@tm'): Array(0.+0.j, dtype=complex64),\n",
              " ('out0@te', 'out0@tm'): Array(0.+0.j, dtype=complex64),\n",
              " ('out0@te', 'in1@tm'): Array(0.+0.j, dtype=complex64),\n",
              " ('out0@te', 'in0@te'): Array(-0.28073177+0.10396835j, dtype=complex64),\n",
              " ('out0@te', 'in1@te'): Array(0.8947488-0.33136806j, dtype=complex64),\n",
              " ('out0@te', 'in0@tm'): Array(0.+0.j, dtype=complex64),\n",
              " ('out1@te', 'out0@te'): Array(0.+0.j, dtype=complex64),\n",
              " ('out1@te', 'out1@te'): Array(0.+0.j, dtype=complex64),\n",
              " ('out1@te', 'out1@tm'): Array(0.+0.j, dtype=complex64),\n",
              " ('out1@te', 'out0@tm'): Array(0.+0.j, dtype=complex64),\n",
              " ('out1@te', 'in1@tm'): Array(0.+0.j, dtype=complex64),\n",
              " ('out1@te', 'in0@te'): Array(0.8947488-0.33136806j, dtype=complex64),\n",
              " ('out1@te', 'in1@te'): Array(0.28073177-0.10396835j, dtype=complex64),\n",
              " ('out1@te', 'in0@tm'): Array(0.+0.j, dtype=complex64),\n",
              " ('out1@tm', 'out0@te'): Array(0.+0.j, dtype=complex64),\n",
              " ('out1@tm', 'out1@te'): Array(0.+0.j, dtype=complex64),\n",
              " ('out1@tm', 'out1@tm'): Array(0.+0.j, dtype=complex64),\n",
              " ('out1@tm', 'out0@tm'): Array(0.+0.j, dtype=complex64),\n",
              " ('out1@tm', 'in1@tm'): Array(0.28073177-0.10396835j, dtype=complex64),\n",
              " ('out1@tm', 'in0@te'): Array(0.+0.j, dtype=complex64),\n",
              " ('out1@tm', 'in1@te'): Array(0.+0.j, dtype=complex64),\n",
              " ('out1@tm', 'in0@tm'): Array(0.8947488-0.33136806j, dtype=complex64),\n",
              " ('out0@tm', 'out0@te'): Array(0.+0.j, dtype=complex64),\n",
              " ('out0@tm', 'out1@te'): Array(0.+0.j, dtype=complex64),\n",
              " ('out0@tm', 'out1@tm'): Array(0.+0.j, dtype=complex64),\n",
              " ('out0@tm', 'out0@tm'): Array(0.+0.j, dtype=complex64),\n",
              " ('out0@tm', 'in1@tm'): Array(0.8947488-0.33136806j, dtype=complex64),\n",
              " ('out0@tm', 'in0@te'): Array(0.+0.j, dtype=complex64),\n",
              " ('out0@tm', 'in1@te'): Array(0.+0.j, dtype=complex64),\n",
              " ('out0@tm', 'in0@tm'): Array(-0.28073177+0.10396835j, dtype=complex64),\n",
              " ('in1@tm', 'out0@te'): Array(0.+0.j, dtype=complex64),\n",
              " ('in1@tm', 'out1@te'): Array(0.+0.j, dtype=complex64),\n",
              " ('in1@tm', 'out1@tm'): Array(0.28073177-0.10396835j, dtype=complex64),\n",
              " ('in1@tm', 'out0@tm'): Array(0.8947488-0.33136806j, dtype=complex64),\n",
              " ('in0@te', 'out0@te'): Array(-0.28073177+0.10396835j, dtype=complex64),\n",
              " ('in0@te', 'out1@te'): Array(0.8947488-0.33136806j, dtype=complex64),\n",
              " ('in0@te', 'out1@tm'): Array(0.+0.j, dtype=complex64),\n",
              " ('in0@te', 'out0@tm'): Array(0.+0.j, dtype=complex64),\n",
              " ('in1@te', 'out0@te'): Array(0.8947488-0.33136806j, dtype=complex64),\n",
              " ('in1@te', 'out1@te'): Array(0.28073177-0.10396835j, dtype=complex64),\n",
              " ('in1@te', 'out1@tm'): Array(0.+0.j, dtype=complex64),\n",
              " ('in1@te', 'out0@tm'): Array(0.+0.j, dtype=complex64),\n",
              " ('in0@tm', 'out0@te'): Array(0.+0.j, dtype=complex64),\n",
              " ('in0@tm', 'out1@te'): Array(0.+0.j, dtype=complex64),\n",
              " ('in0@tm', 'out1@tm'): Array(0.8947488-0.33136806j, dtype=complex64),\n",
              " ('in0@tm', 'out0@tm'): Array(-0.28073177+0.10396835j, dtype=complex64)}"
            ]
          },
          "execution_count": 7,
          "metadata": {},
          "output_type": "execute_result"
        }
      ],
      "source": [
        "mzi()"
      ]
    },
    {
      "cell_type": "markdown",
      "id": "cellular-contemporary",
      "metadata": {
        "papermill": {
          "duration": 0.002897,
          "end_time": "2023-06-01T21:29:13.300029",
          "exception": false,
          "start_time": "2023-06-01T21:29:13.297132",
          "status": "completed"
        },
        "tags": []
      },
      "source": [
        "we can convert this model back to a singlemode `SDict` as follows:"
      ]
    },
    {
      "cell_type": "code",
      "execution_count": 8,
      "id": "aggregate-lemon",
      "metadata": {
        "execution": {
          "iopub.execute_input": "2023-06-01T21:29:13.306763Z",
          "iopub.status.busy": "2023-06-01T21:29:13.306541Z",
          "iopub.status.idle": "2023-06-01T21:29:13.359638Z",
          "shell.execute_reply": "2023-06-01T21:29:13.359156Z"
        },
        "papermill": {
          "duration": 0.057812,
          "end_time": "2023-06-01T21:29:13.360791",
          "exception": false,
          "start_time": "2023-06-01T21:29:13.302979",
          "status": "completed"
        },
        "tags": []
      },
      "outputs": [
        {
          "data": {
            "text/plain": [
              "{('in0', 'in0'): Array(0.+0.j, dtype=complex64),\n",
              " ('in0', 'in1'): Array(0.+0.j, dtype=complex64),\n",
              " ('in1', 'in0'): Array(0.+0.j, dtype=complex64),\n",
              " ('in1', 'in1'): Array(0.+0.j, dtype=complex64),\n",
              " ('out0', 'out0'): Array(0.+0.j, dtype=complex64),\n",
              " ('out0', 'out1'): Array(0.+0.j, dtype=complex64),\n",
              " ('out0', 'in0'): Array(-0.28073177+0.10396835j, dtype=complex64),\n",
              " ('out0', 'in1'): Array(0.8947488-0.33136806j, dtype=complex64),\n",
              " ('out1', 'out0'): Array(0.+0.j, dtype=complex64),\n",
              " ('out1', 'out1'): Array(0.+0.j, dtype=complex64),\n",
              " ('out1', 'in0'): Array(0.8947488-0.33136806j, dtype=complex64),\n",
              " ('out1', 'in1'): Array(0.28073177-0.10396835j, dtype=complex64),\n",
              " ('in0', 'out0'): Array(-0.28073177+0.10396835j, dtype=complex64),\n",
              " ('in0', 'out1'): Array(0.8947488-0.33136806j, dtype=complex64),\n",
              " ('in1', 'out0'): Array(0.8947488-0.33136806j, dtype=complex64),\n",
              " ('in1', 'out1'): Array(0.28073177-0.10396835j, dtype=complex64)}"
            ]
          },
          "execution_count": 8,
          "metadata": {},
          "output_type": "execute_result"
        }
      ],
      "source": [
        "mzi_te = sax.singlemode(mzi, mode=\"te\")\n",
        "mzi_te()"
      ]
    }
  ],
  "metadata": {
    "kernelspec": {
      "display_name": "sax",
      "language": "python",
      "name": "sax"
    },
    "language_info": {
      "codemirror_mode": {
        "name": "ipython",
        "version": 3
      },
      "file_extension": ".py",
      "mimetype": "text/x-python",
      "name": "python",
      "nbconvert_exporter": "python",
      "pygments_lexer": "ipython3",
      "version": "3.11.3"
    },
    "papermill": {
      "default_parameters": {},
      "duration": 8.712535,
      "end_time": "2023-06-01T21:29:14.085787",
      "environment_variables": {},
      "exception": null,
      "input_path": "./examples/04_multimode_simulations.ipynb",
      "output_path": "./examples/04_multimode_simulations.ipynb",
      "parameters": {},
      "start_time": "2023-06-01T21:29:05.373252",
      "version": "2.3.4"
    }
  },
  "nbformat": 4,
  "nbformat_minor": 5
}