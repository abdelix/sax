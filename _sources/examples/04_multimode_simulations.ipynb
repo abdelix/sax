{
  "cells": [
    {
      "cell_type": "markdown",
      "id": "textile-panel",
      "metadata": {
        "papermill": {
          "duration": 0.006664,
          "end_time": "2023-09-01T15:49:41.792439",
          "exception": false,
          "start_time": "2023-09-01T15:49:41.785775",
          "status": "completed"
        },
        "tags": []
      },
      "source": [
        "# Multimode simulations\n",
        "> SAX can handle multiple modes too!"
      ]
    },
    {
      "cell_type": "code",
      "execution_count": 1,
      "id": "prescribed-plant",
      "metadata": {
        "execution": {
          "iopub.execute_input": "2023-09-01T15:49:41.800711Z",
          "iopub.status.busy": "2023-09-01T15:49:41.799773Z",
          "iopub.status.idle": "2023-09-01T15:49:42.807805Z",
          "shell.execute_reply": "2023-09-01T15:49:42.807027Z"
        },
        "papermill": {
          "duration": 1.013967,
          "end_time": "2023-09-01T15:49:42.809707",
          "exception": false,
          "start_time": "2023-09-01T15:49:41.795740",
          "status": "completed"
        },
        "tags": []
      },
      "outputs": [],
      "source": [
        "from itertools import combinations_with_replacement, product\n",
        "\n",
        "import jax.numpy as jnp\n",
        "import sax"
      ]
    },
    {
      "cell_type": "markdown",
      "id": "requested-calvin",
      "metadata": {
        "papermill": {
          "duration": 0.003512,
          "end_time": "2023-09-01T15:49:42.816354",
          "exception": false,
          "start_time": "2023-09-01T15:49:42.812842",
          "status": "completed"
        },
        "tags": []
      },
      "source": [
        "## Ports and modes per port"
      ]
    },
    {
      "cell_type": "markdown",
      "id": "grateful-programming",
      "metadata": {
        "papermill": {
          "duration": 0.00283,
          "end_time": "2023-09-01T15:49:42.821979",
          "exception": false,
          "start_time": "2023-09-01T15:49:42.819149",
          "status": "completed"
        },
        "tags": []
      },
      "source": [
        "Let's denote a combination of a port and a mode by a string of the following format: `\"{port}@{mode}\"`. We can obtain all possible port-mode combinations with some magic itertools functions:"
      ]
    },
    {
      "cell_type": "code",
      "execution_count": 2,
      "id": "going-entity",
      "metadata": {
        "execution": {
          "iopub.execute_input": "2023-09-01T15:49:42.829646Z",
          "iopub.status.busy": "2023-09-01T15:49:42.828939Z",
          "iopub.status.idle": "2023-09-01T15:49:42.838000Z",
          "shell.execute_reply": "2023-09-01T15:49:42.837302Z"
        },
        "papermill": {
          "duration": 0.016155,
          "end_time": "2023-09-01T15:49:42.840953",
          "exception": false,
          "start_time": "2023-09-01T15:49:42.824798",
          "status": "completed"
        },
        "tags": []
      },
      "outputs": [
        {
          "data": {
            "text/plain": [
              "[('in0@te', 'in0@te'),\n",
              " ('in0@te', 'in0@tm'),\n",
              " ('in0@te', 'out0@te'),\n",
              " ('in0@te', 'out0@tm'),\n",
              " ('in0@tm', 'in0@tm'),\n",
              " ('in0@tm', 'out0@te'),\n",
              " ('in0@tm', 'out0@tm'),\n",
              " ('out0@te', 'out0@te'),\n",
              " ('out0@te', 'out0@tm'),\n",
              " ('out0@tm', 'out0@tm')]"
            ]
          },
          "execution_count": 2,
          "metadata": {},
          "output_type": "execute_result"
        }
      ],
      "source": [
        "ports = [\"in0\", \"out0\"]\n",
        "modes = [\"te\", \"tm\"]\n",
        "portmodes = [\n",
        "    (f\"{p1}@{m1}\", f\"{p2}@{m2}\")\n",
        "    for (p1, m1), (p2, m2) in combinations_with_replacement(product(ports, modes), 2)\n",
        "]\n",
        "portmodes"
      ]
    },
    {
      "cell_type": "markdown",
      "id": "passive-selling",
      "metadata": {
        "papermill": {
          "duration": 0.003315,
          "end_time": "2023-09-01T15:49:42.847316",
          "exception": false,
          "start_time": "2023-09-01T15:49:42.844001",
          "status": "completed"
        },
        "tags": []
      },
      "source": [
        "If we would disregard any backreflection, this can be further simplified:"
      ]
    },
    {
      "cell_type": "code",
      "execution_count": 3,
      "id": "numerical-novel",
      "metadata": {
        "execution": {
          "iopub.execute_input": "2023-09-01T15:49:42.855030Z",
          "iopub.status.busy": "2023-09-01T15:49:42.854260Z",
          "iopub.status.idle": "2023-09-01T15:49:42.859610Z",
          "shell.execute_reply": "2023-09-01T15:49:42.859092Z"
        },
        "papermill": {
          "duration": 0.010781,
          "end_time": "2023-09-01T15:49:42.860988",
          "exception": false,
          "start_time": "2023-09-01T15:49:42.850207",
          "status": "completed"
        },
        "tags": []
      },
      "outputs": [
        {
          "data": {
            "text/plain": [
              "[('in0@te', 'out0@te'),\n",
              " ('in0@te', 'out0@tm'),\n",
              " ('in0@tm', 'out0@te'),\n",
              " ('in0@tm', 'out0@tm')]"
            ]
          },
          "execution_count": 3,
          "metadata": {},
          "output_type": "execute_result"
        }
      ],
      "source": [
        "portmodes_without_backreflection = [\n",
        "    (p1, p2) for p1, p2 in portmodes if p1.split(\"@\")[0] != p2.split(\"@\")[0]\n",
        "]\n",
        "portmodes_without_backreflection"
      ]
    },
    {
      "cell_type": "markdown",
      "id": "hindu-application",
      "metadata": {
        "papermill": {
          "duration": 0.003005,
          "end_time": "2023-09-01T15:49:42.868321",
          "exception": false,
          "start_time": "2023-09-01T15:49:42.865316",
          "status": "completed"
        },
        "tags": []
      },
      "source": [
        "Sometimes cross-polarization terms can also be ignored:"
      ]
    },
    {
      "cell_type": "code",
      "execution_count": 4,
      "id": "encouraging-territory",
      "metadata": {
        "execution": {
          "iopub.execute_input": "2023-09-01T15:49:42.876054Z",
          "iopub.status.busy": "2023-09-01T15:49:42.875641Z",
          "iopub.status.idle": "2023-09-01T15:49:42.881034Z",
          "shell.execute_reply": "2023-09-01T15:49:42.880377Z"
        },
        "papermill": {
          "duration": 0.010993,
          "end_time": "2023-09-01T15:49:42.882434",
          "exception": false,
          "start_time": "2023-09-01T15:49:42.871441",
          "status": "completed"
        },
        "tags": []
      },
      "outputs": [
        {
          "data": {
            "text/plain": [
              "[('in0@te', 'in0@te'),\n",
              " ('in0@te', 'out0@te'),\n",
              " ('in0@tm', 'in0@tm'),\n",
              " ('in0@tm', 'out0@tm'),\n",
              " ('out0@te', 'out0@te'),\n",
              " ('out0@tm', 'out0@tm')]"
            ]
          },
          "execution_count": 4,
          "metadata": {},
          "output_type": "execute_result"
        }
      ],
      "source": [
        "portmodes_without_crosspolarization = [\n",
        "    (p1, p2) for p1, p2 in portmodes if p1.split(\"@\")[1] == p2.split(\"@\")[1]\n",
        "]\n",
        "portmodes_without_crosspolarization"
      ]
    },
    {
      "cell_type": "markdown",
      "id": "mathematical-default",
      "metadata": {
        "papermill": {
          "duration": 0.003786,
          "end_time": "2023-09-01T15:49:42.929070",
          "exception": false,
          "start_time": "2023-09-01T15:49:42.925284",
          "status": "completed"
        },
        "tags": []
      },
      "source": [
        "## Multimode waveguide"
      ]
    },
    {
      "cell_type": "markdown",
      "id": "asian-noise",
      "metadata": {
        "papermill": {
          "duration": 0.003416,
          "end_time": "2023-09-01T15:49:42.935708",
          "exception": false,
          "start_time": "2023-09-01T15:49:42.932292",
          "status": "completed"
        },
        "tags": []
      },
      "source": [
        "Let's create a waveguide with two ports (`\"in\"`, `\"out\"`) and two modes (`\"te\"`, `\"tm\"`) without backreflection. Let's assume there is 5% cross-polarization and that the `\"tm\"`->`\"tm\"` transmission is 10% worse than the `\"te\"`->`\"te\"` transmission. Naturally in more realisic waveguide models these percentages will be length-dependent, but this is just a dummy model serving as an example."
      ]
    },
    {
      "cell_type": "code",
      "execution_count": 5,
      "id": "patient-wealth",
      "metadata": {
        "execution": {
          "iopub.execute_input": "2023-09-01T15:49:42.944322Z",
          "iopub.status.busy": "2023-09-01T15:49:42.943744Z",
          "iopub.status.idle": "2023-09-01T15:49:42.998289Z",
          "shell.execute_reply": "2023-09-01T15:49:42.997302Z"
        },
        "papermill": {
          "duration": 0.060825,
          "end_time": "2023-09-01T15:49:42.999980",
          "exception": false,
          "start_time": "2023-09-01T15:49:42.939155",
          "status": "completed"
        },
        "tags": []
      },
      "outputs": [
        {
          "data": {
            "text/plain": [
              "{('in0@te',\n",
              "  'out0@te'): Array(0.77972527+0.5427048j, dtype=complex128, weak_type=True),\n",
              " ('in0@te',\n",
              "  'out0@tm'): Array(0.04103817+0.02856341j, dtype=complex128, weak_type=True),\n",
              " ('in0@tm',\n",
              "  'out0@tm'): Array(0.69764893+0.48557798j, dtype=complex128, weak_type=True),\n",
              " ('in0@tm',\n",
              "  'out0@te'): Array(0.04103817+0.02856341j, dtype=complex128, weak_type=True),\n",
              " ('out0@te',\n",
              "  'in0@te'): Array(0.77972527+0.5427048j, dtype=complex128, weak_type=True),\n",
              " ('out0@tm',\n",
              "  'in0@te'): Array(0.04103817+0.02856341j, dtype=complex128, weak_type=True),\n",
              " ('out0@tm',\n",
              "  'in0@tm'): Array(0.69764893+0.48557798j, dtype=complex128, weak_type=True),\n",
              " ('out0@te',\n",
              "  'in0@tm'): Array(0.04103817+0.02856341j, dtype=complex128, weak_type=True)}"
            ]
          },
          "execution_count": 5,
          "metadata": {},
          "output_type": "execute_result"
        }
      ],
      "source": [
        "def waveguide(wl=1.55, wl0=1.55, neff=2.34, ng=3.4, length=10.0, loss=0.0):\n",
        "    \"\"\"a simple straight waveguide model\n",
        "\n",
        "    Args:\n",
        "        wl: wavelength\n",
        "        neff: waveguide effective index\n",
        "        ng: waveguide group index (used for linear neff dispersion)\n",
        "        wl0: center wavelength at which neff is defined\n",
        "        length: [m] wavelength length\n",
        "        loss: [dB/m] waveguide loss\n",
        "    \"\"\"\n",
        "    dwl = wl - wl0\n",
        "    dneff_dwl = (ng - neff) / wl0\n",
        "    neff = neff - dwl * dneff_dwl\n",
        "    phase = 2 * jnp.pi * neff * length / wl\n",
        "    transmission = 10 ** (-loss * length / 20) * jnp.exp(1j * phase)\n",
        "    sdict = sax.reciprocal(\n",
        "        {\n",
        "            (\"in0@te\", \"out0@te\"): 0.95 * transmission,  # 5% lost to cross-polarization\n",
        "            (\"in0@te\", \"out0@tm\"): 0.05 * transmission,  # 5% cross-polarization\n",
        "            (\"in0@tm\", \"out0@tm\"): 0.85 * transmission,  # 10% worse tm->tm than te->te\n",
        "            (\"in0@tm\", \"out0@te\"): 0.05 * transmission,  # 5% cross-polarization\n",
        "        }\n",
        "    )\n",
        "    return sdict\n",
        "\n",
        "\n",
        "waveguide()"
      ]
    },
    {
      "cell_type": "markdown",
      "id": "accessory-sheep",
      "metadata": {
        "papermill": {
          "duration": 0.003553,
          "end_time": "2023-09-01T15:49:43.007075",
          "exception": false,
          "start_time": "2023-09-01T15:49:43.003522",
          "status": "completed"
        },
        "tags": []
      },
      "source": [
        "## Multimode MZI"
      ]
    },
    {
      "cell_type": "markdown",
      "id": "joint-semiconductor",
      "metadata": {
        "papermill": {
          "duration": 0.003524,
          "end_time": "2023-09-01T15:49:43.014021",
          "exception": false,
          "start_time": "2023-09-01T15:49:43.010497",
          "status": "completed"
        },
        "tags": []
      },
      "source": [
        "We can now combine these models into a circuit in much the same way as before. We just need to add the `modes=` keyword:"
      ]
    },
    {
      "cell_type": "code",
      "execution_count": 6,
      "id": "suffering-judges",
      "metadata": {
        "execution": {
          "iopub.execute_input": "2023-09-01T15:49:43.022438Z",
          "iopub.status.busy": "2023-09-01T15:49:43.021902Z",
          "iopub.status.idle": "2023-09-01T15:49:43.033697Z",
          "shell.execute_reply": "2023-09-01T15:49:43.033132Z"
        },
        "papermill": {
          "duration": 0.017732,
          "end_time": "2023-09-01T15:49:43.035204",
          "exception": false,
          "start_time": "2023-09-01T15:49:43.017472",
          "status": "completed"
        },
        "tags": []
      },
      "outputs": [],
      "source": [
        "mzi, _ = sax.circuit(\n",
        "    netlist={\n",
        "        \"instances\": {\n",
        "            \"lft\": \"coupler\",  # single mode models will be automatically converted to multimode models without cross polarization.\n",
        "            \"top\": {\"component\": \"straight\", \"settings\": {\"length\": 25.0}},\n",
        "            \"btm\": {\"component\": \"straight\", \"settings\": {\"length\": 15.0}},\n",
        "            \"rgt\": \"coupler\",  # single mode models will be automatically converted to multimode models without cross polarization.\n",
        "        },\n",
        "        \"connections\": {\n",
        "            \"lft,out0\": \"btm,in0\",\n",
        "            \"btm,out0\": \"rgt,in0\",\n",
        "            \"lft,out1\": \"top,in0\",\n",
        "            \"top,out0\": \"rgt,in1\",\n",
        "        },\n",
        "        \"ports\": {\n",
        "            \"in0\": \"lft,in0\",\n",
        "            \"in1\": \"lft,in1\",\n",
        "            \"out0\": \"rgt,out0\",\n",
        "            \"out1\": \"rgt,out1\",\n",
        "        },\n",
        "    },\n",
        "    models=sax.get_models(),\n",
        "    modes=(\"te\", \"tm\"),\n",
        ")"
      ]
    },
    {
      "cell_type": "code",
      "execution_count": 7,
      "id": "bridal-insider",
      "metadata": {
        "execution": {
          "iopub.execute_input": "2023-09-01T15:49:43.044289Z",
          "iopub.status.busy": "2023-09-01T15:49:43.043621Z",
          "iopub.status.idle": "2023-09-01T15:49:46.834633Z",
          "shell.execute_reply": "2023-09-01T15:49:46.834043Z"
        },
        "papermill": {
          "duration": 3.797197,
          "end_time": "2023-09-01T15:49:46.836109",
          "exception": false,
          "start_time": "2023-09-01T15:49:43.038912",
          "status": "completed"
        },
        "tags": []
      },
      "outputs": [
        {
          "data": {
            "text/plain": [
              "{('in1@te', 'in1@te'): Array(0.+0.j, dtype=complex128),\n",
              " ('in1@te', 'in0@tm'): Array(0.+0.j, dtype=complex128),\n",
              " ('in1@te', 'in1@tm'): Array(0.+0.j, dtype=complex128),\n",
              " ('in1@te', 'in0@te'): Array(0.+0.j, dtype=complex128),\n",
              " ('in0@tm', 'in1@te'): Array(0.+0.j, dtype=complex128),\n",
              " ('in0@tm', 'in0@tm'): Array(0.+0.j, dtype=complex128),\n",
              " ('in0@tm', 'in1@tm'): Array(0.+0.j, dtype=complex128),\n",
              " ('in0@tm', 'in0@te'): Array(0.+0.j, dtype=complex128),\n",
              " ('in1@tm', 'in1@te'): Array(0.+0.j, dtype=complex128),\n",
              " ('in1@tm', 'in0@tm'): Array(0.+0.j, dtype=complex128),\n",
              " ('in1@tm', 'in1@tm'): Array(0.+0.j, dtype=complex128),\n",
              " ('in1@tm', 'in0@te'): Array(0.+0.j, dtype=complex128),\n",
              " ('in0@te', 'in1@te'): Array(0.+0.j, dtype=complex128),\n",
              " ('in0@te', 'in0@tm'): Array(0.+0.j, dtype=complex128),\n",
              " ('in0@te', 'in1@tm'): Array(0.+0.j, dtype=complex128),\n",
              " ('in0@te', 'in0@te'): Array(0.+0.j, dtype=complex128),\n",
              " ('in1@te', 'out0@tm'): Array(0.+0.j, dtype=complex128),\n",
              " ('in1@te', 'out0@te'): Array(0.89474612-0.33137758j, dtype=complex128),\n",
              " ('in1@te', 'out1@tm'): Array(0.+0.j, dtype=complex128),\n",
              " ('in1@te', 'out1@te'): Array(0.28072841-0.10397039j, dtype=complex128),\n",
              " ('in0@tm', 'out0@tm'): Array(-0.28072841+0.10397039j, dtype=complex128),\n",
              " ('in0@tm', 'out0@te'): Array(0.+0.j, dtype=complex128),\n",
              " ('in0@tm', 'out1@tm'): Array(0.89474612-0.33137758j, dtype=complex128),\n",
              " ('in0@tm', 'out1@te'): Array(0.+0.j, dtype=complex128),\n",
              " ('in1@tm', 'out0@tm'): Array(0.89474612-0.33137758j, dtype=complex128),\n",
              " ('in1@tm', 'out0@te'): Array(0.+0.j, dtype=complex128),\n",
              " ('in1@tm', 'out1@tm'): Array(0.28072841-0.10397039j, dtype=complex128),\n",
              " ('in1@tm', 'out1@te'): Array(0.+0.j, dtype=complex128),\n",
              " ('in0@te', 'out0@tm'): Array(0.+0.j, dtype=complex128),\n",
              " ('in0@te', 'out0@te'): Array(-0.28072841+0.10397039j, dtype=complex128),\n",
              " ('in0@te', 'out1@tm'): Array(0.+0.j, dtype=complex128),\n",
              " ('in0@te', 'out1@te'): Array(0.89474612-0.33137758j, dtype=complex128),\n",
              " ('out0@tm', 'in1@te'): Array(0.+0.j, dtype=complex128),\n",
              " ('out0@tm', 'in0@tm'): Array(-0.28072841+0.10397039j, dtype=complex128),\n",
              " ('out0@tm', 'in1@tm'): Array(0.89474612-0.33137758j, dtype=complex128),\n",
              " ('out0@tm', 'in0@te'): Array(0.+0.j, dtype=complex128),\n",
              " ('out0@tm', 'out0@tm'): Array(0.+0.j, dtype=complex128),\n",
              " ('out0@tm', 'out0@te'): Array(0.+0.j, dtype=complex128),\n",
              " ('out0@tm', 'out1@tm'): Array(0.+0.j, dtype=complex128),\n",
              " ('out0@tm', 'out1@te'): Array(0.+0.j, dtype=complex128),\n",
              " ('out0@te', 'in1@te'): Array(0.89474612-0.33137758j, dtype=complex128),\n",
              " ('out0@te', 'in0@tm'): Array(0.+0.j, dtype=complex128),\n",
              " ('out0@te', 'in1@tm'): Array(0.+0.j, dtype=complex128),\n",
              " ('out0@te', 'in0@te'): Array(-0.28072841+0.10397039j, dtype=complex128),\n",
              " ('out0@te', 'out0@tm'): Array(0.+0.j, dtype=complex128),\n",
              " ('out0@te', 'out0@te'): Array(0.+0.j, dtype=complex128),\n",
              " ('out0@te', 'out1@tm'): Array(0.+0.j, dtype=complex128),\n",
              " ('out0@te', 'out1@te'): Array(0.+0.j, dtype=complex128),\n",
              " ('out1@tm', 'in1@te'): Array(0.+0.j, dtype=complex128),\n",
              " ('out1@tm', 'in0@tm'): Array(0.89474612-0.33137758j, dtype=complex128),\n",
              " ('out1@tm', 'in1@tm'): Array(0.28072841-0.10397039j, dtype=complex128),\n",
              " ('out1@tm', 'in0@te'): Array(0.+0.j, dtype=complex128),\n",
              " ('out1@tm', 'out0@tm'): Array(0.+0.j, dtype=complex128),\n",
              " ('out1@tm', 'out0@te'): Array(0.+0.j, dtype=complex128),\n",
              " ('out1@tm', 'out1@tm'): Array(0.+0.j, dtype=complex128),\n",
              " ('out1@tm', 'out1@te'): Array(0.+0.j, dtype=complex128),\n",
              " ('out1@te', 'in1@te'): Array(0.28072841-0.10397039j, dtype=complex128),\n",
              " ('out1@te', 'in0@tm'): Array(0.+0.j, dtype=complex128),\n",
              " ('out1@te', 'in1@tm'): Array(0.+0.j, dtype=complex128),\n",
              " ('out1@te', 'in0@te'): Array(0.89474612-0.33137758j, dtype=complex128),\n",
              " ('out1@te', 'out0@tm'): Array(0.+0.j, dtype=complex128),\n",
              " ('out1@te', 'out0@te'): Array(0.+0.j, dtype=complex128),\n",
              " ('out1@te', 'out1@tm'): Array(0.+0.j, dtype=complex128),\n",
              " ('out1@te', 'out1@te'): Array(0.+0.j, dtype=complex128)}"
            ]
          },
          "execution_count": 7,
          "metadata": {},
          "output_type": "execute_result"
        }
      ],
      "source": [
        "mzi()"
      ]
    },
    {
      "cell_type": "markdown",
      "id": "cellular-contemporary",
      "metadata": {
        "papermill": {
          "duration": 0.00363,
          "end_time": "2023-09-01T15:49:46.844345",
          "exception": false,
          "start_time": "2023-09-01T15:49:46.840715",
          "status": "completed"
        },
        "tags": []
      },
      "source": [
        "we can convert this model back to a singlemode `SDict` as follows:"
      ]
    },
    {
      "cell_type": "code",
      "execution_count": 8,
      "id": "aggregate-lemon",
      "metadata": {
        "execution": {
          "iopub.execute_input": "2023-09-01T15:49:46.853322Z",
          "iopub.status.busy": "2023-09-01T15:49:46.852862Z",
          "iopub.status.idle": "2023-09-01T15:49:46.893392Z",
          "shell.execute_reply": "2023-09-01T15:49:46.892579Z"
        },
        "papermill": {
          "duration": 0.046875,
          "end_time": "2023-09-01T15:49:46.895007",
          "exception": false,
          "start_time": "2023-09-01T15:49:46.848132",
          "status": "completed"
        },
        "tags": []
      },
      "outputs": [
        {
          "data": {
            "text/plain": [
              "{('in1', 'in1'): Array(0.+0.j, dtype=complex128),\n",
              " ('in1', 'in0'): Array(0.+0.j, dtype=complex128),\n",
              " ('in0', 'in1'): Array(0.+0.j, dtype=complex128),\n",
              " ('in0', 'in0'): Array(0.+0.j, dtype=complex128),\n",
              " ('in1', 'out0'): Array(0.89474612-0.33137758j, dtype=complex128),\n",
              " ('in1', 'out1'): Array(0.28072841-0.10397039j, dtype=complex128),\n",
              " ('in0', 'out0'): Array(-0.28072841+0.10397039j, dtype=complex128),\n",
              " ('in0', 'out1'): Array(0.89474612-0.33137758j, dtype=complex128),\n",
              " ('out0', 'in1'): Array(0.89474612-0.33137758j, dtype=complex128),\n",
              " ('out0', 'in0'): Array(-0.28072841+0.10397039j, dtype=complex128),\n",
              " ('out0', 'out0'): Array(0.+0.j, dtype=complex128),\n",
              " ('out0', 'out1'): Array(0.+0.j, dtype=complex128),\n",
              " ('out1', 'in1'): Array(0.28072841-0.10397039j, dtype=complex128),\n",
              " ('out1', 'in0'): Array(0.89474612-0.33137758j, dtype=complex128),\n",
              " ('out1', 'out0'): Array(0.+0.j, dtype=complex128),\n",
              " ('out1', 'out1'): Array(0.+0.j, dtype=complex128)}"
            ]
          },
          "execution_count": 8,
          "metadata": {},
          "output_type": "execute_result"
        }
      ],
      "source": [
        "mzi_te = sax.singlemode(mzi, mode=\"te\")\n",
        "mzi_te()"
      ]
    }
  ],
  "metadata": {
    "kernelspec": {
      "display_name": "sax",
      "language": "python",
      "name": "sax"
    },
    "language_info": {
      "codemirror_mode": {
        "name": "ipython",
        "version": 3
      },
      "file_extension": ".py",
      "mimetype": "text/x-python",
      "name": "python",
      "nbconvert_exporter": "python",
      "pygments_lexer": "ipython3",
      "version": "3.11.5"
    },
    "papermill": {
      "default_parameters": {},
      "duration": 7.036808,
      "end_time": "2023-09-01T15:49:47.516941",
      "environment_variables": {},
      "exception": null,
      "input_path": "./examples/04_multimode_simulations.ipynb",
      "output_path": "./examples/04_multimode_simulations.ipynb",
      "parameters": {},
      "start_time": "2023-09-01T15:49:40.480133",
      "version": "2.4.0"
    }
  },
  "nbformat": 4,
  "nbformat_minor": 5
}