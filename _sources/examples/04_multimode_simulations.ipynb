{
  "cells": [
    {
      "cell_type": "markdown",
      "id": "textile-panel",
      "metadata": {
        "papermill": {
          "duration": 0.002793,
          "end_time": "2023-06-01T21:46:27.727884",
          "exception": false,
          "start_time": "2023-06-01T21:46:27.725091",
          "status": "completed"
        },
        "tags": []
      },
      "source": [
        "# Multimode simulations\n",
        "> SAX can handle multiple modes too!"
      ]
    },
    {
      "cell_type": "code",
      "execution_count": 1,
      "id": "prescribed-plant",
      "metadata": {
        "execution": {
          "iopub.execute_input": "2023-06-01T21:46:27.734864Z",
          "iopub.status.busy": "2023-06-01T21:46:27.734628Z",
          "iopub.status.idle": "2023-06-01T21:46:28.744452Z",
          "shell.execute_reply": "2023-06-01T21:46:28.743910Z"
        },
        "papermill": {
          "duration": 1.014561,
          "end_time": "2023-06-01T21:46:28.746057",
          "exception": false,
          "start_time": "2023-06-01T21:46:27.731496",
          "status": "completed"
        },
        "tags": []
      },
      "outputs": [],
      "source": [
        "from itertools import combinations_with_replacement, product\n",
        "\n",
        "import jax.numpy as jnp\n",
        "import sax"
      ]
    },
    {
      "cell_type": "markdown",
      "id": "requested-calvin",
      "metadata": {
        "papermill": {
          "duration": 0.002217,
          "end_time": "2023-06-01T21:46:28.750830",
          "exception": false,
          "start_time": "2023-06-01T21:46:28.748613",
          "status": "completed"
        },
        "tags": []
      },
      "source": [
        "## Ports and modes per port"
      ]
    },
    {
      "cell_type": "markdown",
      "id": "grateful-programming",
      "metadata": {
        "papermill": {
          "duration": 0.0031,
          "end_time": "2023-06-01T21:46:28.756131",
          "exception": false,
          "start_time": "2023-06-01T21:46:28.753031",
          "status": "completed"
        },
        "tags": []
      },
      "source": [
        "Let's denote a combination of a port and a mode by a string of the following format: `\"{port}@{mode}\"`. We can obtain all possible port-mode combinations with some magic itertools functions:"
      ]
    },
    {
      "cell_type": "code",
      "execution_count": 2,
      "id": "going-entity",
      "metadata": {
        "execution": {
          "iopub.execute_input": "2023-06-01T21:46:28.767922Z",
          "iopub.status.busy": "2023-06-01T21:46:28.767511Z",
          "iopub.status.idle": "2023-06-01T21:46:28.774597Z",
          "shell.execute_reply": "2023-06-01T21:46:28.774080Z"
        },
        "papermill": {
          "duration": 0.018479,
          "end_time": "2023-06-01T21:46:28.776812",
          "exception": false,
          "start_time": "2023-06-01T21:46:28.758333",
          "status": "completed"
        },
        "tags": []
      },
      "outputs": [
        {
          "data": {
            "text/plain": [
              "[('in0@te', 'in0@te'),\n",
              " ('in0@te', 'in0@tm'),\n",
              " ('in0@te', 'out0@te'),\n",
              " ('in0@te', 'out0@tm'),\n",
              " ('in0@tm', 'in0@tm'),\n",
              " ('in0@tm', 'out0@te'),\n",
              " ('in0@tm', 'out0@tm'),\n",
              " ('out0@te', 'out0@te'),\n",
              " ('out0@te', 'out0@tm'),\n",
              " ('out0@tm', 'out0@tm')]"
            ]
          },
          "execution_count": 2,
          "metadata": {},
          "output_type": "execute_result"
        }
      ],
      "source": [
        "ports = [\"in0\", \"out0\"]\n",
        "modes = [\"te\", \"tm\"]\n",
        "portmodes = [\n",
        "    (f\"{p1}@{m1}\", f\"{p2}@{m2}\")\n",
        "    for (p1, m1), (p2, m2) in combinations_with_replacement(product(ports, modes), 2)\n",
        "]\n",
        "portmodes"
      ]
    },
    {
      "cell_type": "markdown",
      "id": "passive-selling",
      "metadata": {
        "papermill": {
          "duration": 0.003933,
          "end_time": "2023-06-01T21:46:28.783147",
          "exception": false,
          "start_time": "2023-06-01T21:46:28.779214",
          "status": "completed"
        },
        "tags": []
      },
      "source": [
        "If we would disregard any backreflection, this can be further simplified:"
      ]
    },
    {
      "cell_type": "code",
      "execution_count": 3,
      "id": "numerical-novel",
      "metadata": {
        "execution": {
          "iopub.execute_input": "2023-06-01T21:46:28.797876Z",
          "iopub.status.busy": "2023-06-01T21:46:28.797579Z",
          "iopub.status.idle": "2023-06-01T21:46:28.802004Z",
          "shell.execute_reply": "2023-06-01T21:46:28.801534Z"
        },
        "papermill": {
          "duration": 0.011434,
          "end_time": "2023-06-01T21:46:28.803026",
          "exception": false,
          "start_time": "2023-06-01T21:46:28.791592",
          "status": "completed"
        },
        "tags": []
      },
      "outputs": [
        {
          "data": {
            "text/plain": [
              "[('in0@te', 'out0@te'),\n",
              " ('in0@te', 'out0@tm'),\n",
              " ('in0@tm', 'out0@te'),\n",
              " ('in0@tm', 'out0@tm')]"
            ]
          },
          "execution_count": 3,
          "metadata": {},
          "output_type": "execute_result"
        }
      ],
      "source": [
        "portmodes_without_backreflection = [\n",
        "    (p1, p2) for p1, p2 in portmodes if p1.split(\"@\")[0] != p2.split(\"@\")[0]\n",
        "]\n",
        "portmodes_without_backreflection"
      ]
    },
    {
      "cell_type": "markdown",
      "id": "hindu-application",
      "metadata": {
        "papermill": {
          "duration": 0.00508,
          "end_time": "2023-06-01T21:46:28.810550",
          "exception": false,
          "start_time": "2023-06-01T21:46:28.805470",
          "status": "completed"
        },
        "tags": []
      },
      "source": [
        "Sometimes cross-polarization terms can also be ignored:"
      ]
    },
    {
      "cell_type": "code",
      "execution_count": 4,
      "id": "encouraging-territory",
      "metadata": {
        "execution": {
          "iopub.execute_input": "2023-06-01T21:46:28.821475Z",
          "iopub.status.busy": "2023-06-01T21:46:28.821281Z",
          "iopub.status.idle": "2023-06-01T21:46:28.825412Z",
          "shell.execute_reply": "2023-06-01T21:46:28.824956Z"
        },
        "papermill": {
          "duration": 0.011728,
          "end_time": "2023-06-01T21:46:28.827423",
          "exception": false,
          "start_time": "2023-06-01T21:46:28.815695",
          "status": "completed"
        },
        "tags": []
      },
      "outputs": [
        {
          "data": {
            "text/plain": [
              "[('in0@te', 'in0@te'),\n",
              " ('in0@te', 'out0@te'),\n",
              " ('in0@tm', 'in0@tm'),\n",
              " ('in0@tm', 'out0@tm'),\n",
              " ('out0@te', 'out0@te'),\n",
              " ('out0@tm', 'out0@tm')]"
            ]
          },
          "execution_count": 4,
          "metadata": {},
          "output_type": "execute_result"
        }
      ],
      "source": [
        "portmodes_without_crosspolarization = [\n",
        "    (p1, p2) for p1, p2 in portmodes if p1.split(\"@\")[1] == p2.split(\"@\")[1]\n",
        "]\n",
        "portmodes_without_crosspolarization"
      ]
    },
    {
      "cell_type": "markdown",
      "id": "mathematical-default",
      "metadata": {
        "papermill": {
          "duration": 0.00626,
          "end_time": "2023-06-01T21:46:28.836229",
          "exception": false,
          "start_time": "2023-06-01T21:46:28.829969",
          "status": "completed"
        },
        "tags": []
      },
      "source": [
        "## Multimode waveguide"
      ]
    },
    {
      "cell_type": "markdown",
      "id": "asian-noise",
      "metadata": {
        "papermill": {
          "duration": 0.004584,
          "end_time": "2023-06-01T21:46:28.846558",
          "exception": false,
          "start_time": "2023-06-01T21:46:28.841974",
          "status": "completed"
        },
        "tags": []
      },
      "source": [
        "Let's create a waveguide with two ports (`\"in\"`, `\"out\"`) and two modes (`\"te\"`, `\"tm\"`) without backreflection. Let's assume there is 5% cross-polarization and that the `\"tm\"`->`\"tm\"` transmission is 10% worse than the `\"te\"`->`\"te\"` transmission. Naturally in more realisic waveguide models these percentages will be length-dependent, but this is just a dummy model serving as an example."
      ]
    },
    {
      "cell_type": "code",
      "execution_count": 5,
      "id": "patient-wealth",
      "metadata": {
        "execution": {
          "iopub.execute_input": "2023-06-01T21:46:28.858092Z",
          "iopub.status.busy": "2023-06-01T21:46:28.857886Z",
          "iopub.status.idle": "2023-06-01T21:46:28.946251Z",
          "shell.execute_reply": "2023-06-01T21:46:28.945716Z"
        },
        "papermill": {
          "duration": 0.096082,
          "end_time": "2023-06-01T21:46:28.947700",
          "exception": false,
          "start_time": "2023-06-01T21:46:28.851618",
          "status": "completed"
        },
        "tags": []
      },
      "outputs": [
        {
          "name": "stderr",
          "output_type": "stream",
          "text": [
            "No GPU/TPU found, falling back to CPU. (Set TF_CPP_MIN_LOG_LEVEL=0 and rerun for more info.)\n"
          ]
        },
        {
          "data": {
            "text/plain": [
              "{('in0@te',\n",
              "  'out0@te'): Array(0.77972656+0.54270285j, dtype=complex64, weak_type=True),\n",
              " ('in0@te',\n",
              "  'out0@tm'): Array(0.04103824+0.02856331j, dtype=complex64, weak_type=True),\n",
              " ('in0@tm',\n",
              "  'out0@tm'): Array(0.69765013+0.48557627j, dtype=complex64, weak_type=True),\n",
              " ('in0@tm',\n",
              "  'out0@te'): Array(0.04103824+0.02856331j, dtype=complex64, weak_type=True),\n",
              " ('out0@te',\n",
              "  'in0@te'): Array(0.77972656+0.54270285j, dtype=complex64, weak_type=True),\n",
              " ('out0@tm',\n",
              "  'in0@te'): Array(0.04103824+0.02856331j, dtype=complex64, weak_type=True),\n",
              " ('out0@tm',\n",
              "  'in0@tm'): Array(0.69765013+0.48557627j, dtype=complex64, weak_type=True),\n",
              " ('out0@te',\n",
              "  'in0@tm'): Array(0.04103824+0.02856331j, dtype=complex64, weak_type=True)}"
            ]
          },
          "execution_count": 5,
          "metadata": {},
          "output_type": "execute_result"
        }
      ],
      "source": [
        "def waveguide(wl=1.55, wl0=1.55, neff=2.34, ng=3.4, length=10.0, loss=0.0):\n",
        "    \"\"\"a simple straight waveguide model\n",
        "\n",
        "    Args:\n",
        "        wl: wavelength\n",
        "        neff: waveguide effective index\n",
        "        ng: waveguide group index (used for linear neff dispersion)\n",
        "        wl0: center wavelength at which neff is defined\n",
        "        length: [m] wavelength length\n",
        "        loss: [dB/m] waveguide loss\n",
        "    \"\"\"\n",
        "    dwl = wl - wl0\n",
        "    dneff_dwl = (ng - neff) / wl0\n",
        "    neff = neff - dwl * dneff_dwl\n",
        "    phase = 2 * jnp.pi * neff * length / wl\n",
        "    transmission = 10 ** (-loss * length / 20) * jnp.exp(1j * phase)\n",
        "    sdict = sax.reciprocal(\n",
        "        {\n",
        "            (\"in0@te\", \"out0@te\"): 0.95 * transmission,  # 5% lost to cross-polarization\n",
        "            (\"in0@te\", \"out0@tm\"): 0.05 * transmission,  # 5% cross-polarization\n",
        "            (\"in0@tm\", \"out0@tm\"): 0.85 * transmission,  # 10% worse tm->tm than te->te\n",
        "            (\"in0@tm\", \"out0@te\"): 0.05 * transmission,  # 5% cross-polarization\n",
        "        }\n",
        "    )\n",
        "    return sdict\n",
        "\n",
        "\n",
        "waveguide()"
      ]
    },
    {
      "cell_type": "markdown",
      "id": "accessory-sheep",
      "metadata": {
        "papermill": {
          "duration": 0.00277,
          "end_time": "2023-06-01T21:46:28.953459",
          "exception": false,
          "start_time": "2023-06-01T21:46:28.950689",
          "status": "completed"
        },
        "tags": []
      },
      "source": [
        "## Multimode MZI"
      ]
    },
    {
      "cell_type": "markdown",
      "id": "joint-semiconductor",
      "metadata": {
        "papermill": {
          "duration": 0.002782,
          "end_time": "2023-06-01T21:46:28.959356",
          "exception": false,
          "start_time": "2023-06-01T21:46:28.956574",
          "status": "completed"
        },
        "tags": []
      },
      "source": [
        "We can now combine these models into a circuit in much the same way as before. We just need to add the `modes=` keyword:"
      ]
    },
    {
      "cell_type": "code",
      "execution_count": 6,
      "id": "suffering-judges",
      "metadata": {
        "execution": {
          "iopub.execute_input": "2023-06-01T21:46:28.976520Z",
          "iopub.status.busy": "2023-06-01T21:46:28.976288Z",
          "iopub.status.idle": "2023-06-01T21:46:28.984925Z",
          "shell.execute_reply": "2023-06-01T21:46:28.984410Z"
        },
        "papermill": {
          "duration": 0.020475,
          "end_time": "2023-06-01T21:46:28.987670",
          "exception": false,
          "start_time": "2023-06-01T21:46:28.967195",
          "status": "completed"
        },
        "tags": []
      },
      "outputs": [],
      "source": [
        "mzi, _ = sax.circuit(\n",
        "    netlist={\n",
        "        \"instances\": {\n",
        "            \"lft\": \"coupler\",  # single mode models will be automatically converted to multimode models without cross polarization.\n",
        "            \"top\": {\"component\": \"straight\", \"settings\": {\"length\": 25.0}},\n",
        "            \"btm\": {\"component\": \"straight\", \"settings\": {\"length\": 15.0}},\n",
        "            \"rgt\": \"coupler\",  # single mode models will be automatically converted to multimode models without cross polarization.\n",
        "        },\n",
        "        \"connections\": {\n",
        "            \"lft,out0\": \"btm,in0\",\n",
        "            \"btm,out0\": \"rgt,in0\",\n",
        "            \"lft,out1\": \"top,in0\",\n",
        "            \"top,out0\": \"rgt,in1\",\n",
        "        },\n",
        "        \"ports\": {\n",
        "            \"in0\": \"lft,in0\",\n",
        "            \"in1\": \"lft,in1\",\n",
        "            \"out0\": \"rgt,out0\",\n",
        "            \"out1\": \"rgt,out1\",\n",
        "        },\n",
        "    },\n",
        "    models=sax.get_models(),\n",
        "    modes=(\"te\", \"tm\"),\n",
        ")"
      ]
    },
    {
      "cell_type": "code",
      "execution_count": 7,
      "id": "bridal-insider",
      "metadata": {
        "execution": {
          "iopub.execute_input": "2023-06-01T21:46:28.999180Z",
          "iopub.status.busy": "2023-06-01T21:46:28.998982Z",
          "iopub.status.idle": "2023-06-01T21:46:33.800650Z",
          "shell.execute_reply": "2023-06-01T21:46:33.800142Z"
        },
        "papermill": {
          "duration": 4.808123,
          "end_time": "2023-06-01T21:46:33.802128",
          "exception": false,
          "start_time": "2023-06-01T21:46:28.994005",
          "status": "completed"
        },
        "tags": []
      },
      "outputs": [
        {
          "data": {
            "text/plain": [
              "{('in0@te', 'in0@te'): Array(0.+0.j, dtype=complex64),\n",
              " ('in0@te', 'in1@tm'): Array(0.+0.j, dtype=complex64),\n",
              " ('in0@te', 'in0@tm'): Array(0.+0.j, dtype=complex64),\n",
              " ('in0@te', 'in1@te'): Array(0.+0.j, dtype=complex64),\n",
              " ('in1@tm', 'in0@te'): Array(0.+0.j, dtype=complex64),\n",
              " ('in1@tm', 'in1@tm'): Array(0.+0.j, dtype=complex64),\n",
              " ('in1@tm', 'in0@tm'): Array(0.+0.j, dtype=complex64),\n",
              " ('in1@tm', 'in1@te'): Array(0.+0.j, dtype=complex64),\n",
              " ('in0@tm', 'in0@te'): Array(0.+0.j, dtype=complex64),\n",
              " ('in0@tm', 'in1@tm'): Array(0.+0.j, dtype=complex64),\n",
              " ('in0@tm', 'in0@tm'): Array(0.+0.j, dtype=complex64),\n",
              " ('in0@tm', 'in1@te'): Array(0.+0.j, dtype=complex64),\n",
              " ('in1@te', 'in0@te'): Array(0.+0.j, dtype=complex64),\n",
              " ('in1@te', 'in1@tm'): Array(0.+0.j, dtype=complex64),\n",
              " ('in1@te', 'in0@tm'): Array(0.+0.j, dtype=complex64),\n",
              " ('in1@te', 'in1@te'): Array(0.+0.j, dtype=complex64),\n",
              " ('in0@te', 'out0@te'): Array(-0.28073177+0.10396835j, dtype=complex64),\n",
              " ('in0@te', 'out0@tm'): Array(0.+0.j, dtype=complex64),\n",
              " ('in0@te', 'out1@te'): Array(0.8947488-0.33136806j, dtype=complex64),\n",
              " ('in0@te', 'out1@tm'): Array(0.+0.j, dtype=complex64),\n",
              " ('in1@tm', 'out0@te'): Array(0.+0.j, dtype=complex64),\n",
              " ('in1@tm', 'out0@tm'): Array(0.8947488-0.33136806j, dtype=complex64),\n",
              " ('in1@tm', 'out1@te'): Array(0.+0.j, dtype=complex64),\n",
              " ('in1@tm', 'out1@tm'): Array(0.28073177-0.10396835j, dtype=complex64),\n",
              " ('in0@tm', 'out0@te'): Array(0.+0.j, dtype=complex64),\n",
              " ('in0@tm', 'out0@tm'): Array(-0.28073177+0.10396835j, dtype=complex64),\n",
              " ('in0@tm', 'out1@te'): Array(0.+0.j, dtype=complex64),\n",
              " ('in0@tm', 'out1@tm'): Array(0.8947488-0.33136806j, dtype=complex64),\n",
              " ('in1@te', 'out0@te'): Array(0.8947488-0.33136806j, dtype=complex64),\n",
              " ('in1@te', 'out0@tm'): Array(0.+0.j, dtype=complex64),\n",
              " ('in1@te', 'out1@te'): Array(0.28073177-0.10396835j, dtype=complex64),\n",
              " ('in1@te', 'out1@tm'): Array(0.+0.j, dtype=complex64),\n",
              " ('out0@te', 'in0@te'): Array(-0.28073177+0.10396835j, dtype=complex64),\n",
              " ('out0@te', 'in1@tm'): Array(0.+0.j, dtype=complex64),\n",
              " ('out0@te', 'in0@tm'): Array(0.+0.j, dtype=complex64),\n",
              " ('out0@te', 'in1@te'): Array(0.8947488-0.33136806j, dtype=complex64),\n",
              " ('out0@te', 'out0@te'): Array(0.+0.j, dtype=complex64),\n",
              " ('out0@te', 'out0@tm'): Array(0.+0.j, dtype=complex64),\n",
              " ('out0@te', 'out1@te'): Array(0.+0.j, dtype=complex64),\n",
              " ('out0@te', 'out1@tm'): Array(0.+0.j, dtype=complex64),\n",
              " ('out0@tm', 'in0@te'): Array(0.+0.j, dtype=complex64),\n",
              " ('out0@tm', 'in1@tm'): Array(0.8947488-0.33136806j, dtype=complex64),\n",
              " ('out0@tm', 'in0@tm'): Array(-0.28073177+0.10396835j, dtype=complex64),\n",
              " ('out0@tm', 'in1@te'): Array(0.+0.j, dtype=complex64),\n",
              " ('out0@tm', 'out0@te'): Array(0.+0.j, dtype=complex64),\n",
              " ('out0@tm', 'out0@tm'): Array(0.+0.j, dtype=complex64),\n",
              " ('out0@tm', 'out1@te'): Array(0.+0.j, dtype=complex64),\n",
              " ('out0@tm', 'out1@tm'): Array(0.+0.j, dtype=complex64),\n",
              " ('out1@te', 'in0@te'): Array(0.8947488-0.33136806j, dtype=complex64),\n",
              " ('out1@te', 'in1@tm'): Array(0.+0.j, dtype=complex64),\n",
              " ('out1@te', 'in0@tm'): Array(0.+0.j, dtype=complex64),\n",
              " ('out1@te', 'in1@te'): Array(0.28073177-0.10396835j, dtype=complex64),\n",
              " ('out1@te', 'out0@te'): Array(0.+0.j, dtype=complex64),\n",
              " ('out1@te', 'out0@tm'): Array(0.+0.j, dtype=complex64),\n",
              " ('out1@te', 'out1@te'): Array(0.+0.j, dtype=complex64),\n",
              " ('out1@te', 'out1@tm'): Array(0.+0.j, dtype=complex64),\n",
              " ('out1@tm', 'in0@te'): Array(0.+0.j, dtype=complex64),\n",
              " ('out1@tm', 'in1@tm'): Array(0.28073177-0.10396835j, dtype=complex64),\n",
              " ('out1@tm', 'in0@tm'): Array(0.8947488-0.33136806j, dtype=complex64),\n",
              " ('out1@tm', 'in1@te'): Array(0.+0.j, dtype=complex64),\n",
              " ('out1@tm', 'out0@te'): Array(0.+0.j, dtype=complex64),\n",
              " ('out1@tm', 'out0@tm'): Array(0.+0.j, dtype=complex64),\n",
              " ('out1@tm', 'out1@te'): Array(0.+0.j, dtype=complex64),\n",
              " ('out1@tm', 'out1@tm'): Array(0.+0.j, dtype=complex64)}"
            ]
          },
          "execution_count": 7,
          "metadata": {},
          "output_type": "execute_result"
        }
      ],
      "source": [
        "mzi()"
      ]
    },
    {
      "cell_type": "markdown",
      "id": "cellular-contemporary",
      "metadata": {
        "papermill": {
          "duration": 0.002972,
          "end_time": "2023-06-01T21:46:33.809271",
          "exception": false,
          "start_time": "2023-06-01T21:46:33.806299",
          "status": "completed"
        },
        "tags": []
      },
      "source": [
        "we can convert this model back to a singlemode `SDict` as follows:"
      ]
    },
    {
      "cell_type": "code",
      "execution_count": 8,
      "id": "aggregate-lemon",
      "metadata": {
        "execution": {
          "iopub.execute_input": "2023-06-01T21:46:33.822255Z",
          "iopub.status.busy": "2023-06-01T21:46:33.822016Z",
          "iopub.status.idle": "2023-06-01T21:46:33.879632Z",
          "shell.execute_reply": "2023-06-01T21:46:33.879125Z"
        },
        "papermill": {
          "duration": 0.06731,
          "end_time": "2023-06-01T21:46:33.881037",
          "exception": false,
          "start_time": "2023-06-01T21:46:33.813727",
          "status": "completed"
        },
        "tags": []
      },
      "outputs": [
        {
          "data": {
            "text/plain": [
              "{('in0', 'in0'): Array(0.+0.j, dtype=complex64),\n",
              " ('in0', 'in1'): Array(0.+0.j, dtype=complex64),\n",
              " ('in1', 'in0'): Array(0.+0.j, dtype=complex64),\n",
              " ('in1', 'in1'): Array(0.+0.j, dtype=complex64),\n",
              " ('in0', 'out0'): Array(-0.28073177+0.10396835j, dtype=complex64),\n",
              " ('in0', 'out1'): Array(0.8947488-0.33136806j, dtype=complex64),\n",
              " ('in1', 'out0'): Array(0.8947488-0.33136806j, dtype=complex64),\n",
              " ('in1', 'out1'): Array(0.28073177-0.10396835j, dtype=complex64),\n",
              " ('out0', 'in0'): Array(-0.28073177+0.10396835j, dtype=complex64),\n",
              " ('out0', 'in1'): Array(0.8947488-0.33136806j, dtype=complex64),\n",
              " ('out0', 'out0'): Array(0.+0.j, dtype=complex64),\n",
              " ('out0', 'out1'): Array(0.+0.j, dtype=complex64),\n",
              " ('out1', 'in0'): Array(0.8947488-0.33136806j, dtype=complex64),\n",
              " ('out1', 'in1'): Array(0.28073177-0.10396835j, dtype=complex64),\n",
              " ('out1', 'out0'): Array(0.+0.j, dtype=complex64),\n",
              " ('out1', 'out1'): Array(0.+0.j, dtype=complex64)}"
            ]
          },
          "execution_count": 8,
          "metadata": {},
          "output_type": "execute_result"
        }
      ],
      "source": [
        "mzi_te = sax.singlemode(mzi, mode=\"te\")\n",
        "mzi_te()"
      ]
    }
  ],
  "metadata": {
    "kernelspec": {
      "display_name": "sax",
      "language": "python",
      "name": "sax"
    },
    "language_info": {
      "codemirror_mode": {
        "name": "ipython",
        "version": 3
      },
      "file_extension": ".py",
      "mimetype": "text/x-python",
      "name": "python",
      "nbconvert_exporter": "python",
      "pygments_lexer": "ipython3",
      "version": "3.11.3"
    },
    "papermill": {
      "default_parameters": {},
      "duration": 8.571511,
      "end_time": "2023-06-01T21:46:34.605533",
      "environment_variables": {},
      "exception": null,
      "input_path": "./examples/04_multimode_simulations.ipynb",
      "output_path": "./examples/04_multimode_simulations.ipynb",
      "parameters": {},
      "start_time": "2023-06-01T21:46:26.034022",
      "version": "2.3.4"
    }
  },
  "nbformat": 4,
  "nbformat_minor": 5
}