{
  "cells": [
    {
      "cell_type": "markdown",
      "id": "6f097557",
      "metadata": {
        "papermill": {
          "duration": 0.002003,
          "end_time": "2023-09-02T18:58:35.151887",
          "exception": false,
          "start_time": "2023-09-02T18:58:35.149884",
          "status": "completed"
        },
        "tags": []
      },
      "source": [
        "# Additive Backend"
      ]
    },
    {
      "cell_type": "markdown",
      "id": "56868383",
      "metadata": {
        "papermill": {
          "duration": 0.001432,
          "end_time": "2023-09-02T18:58:35.154988",
          "exception": false,
          "start_time": "2023-09-02T18:58:35.153556",
          "status": "completed"
        },
        "tags": []
      },
      "source": [
        "> The additive backend can be used to obtain pathlengths and group delays."
      ]
    },
    {
      "cell_type": "code",
      "execution_count": 1,
      "id": "79c98bc0",
      "metadata": {
        "execution": {
          "iopub.execute_input": "2023-09-02T18:58:35.159151Z",
          "iopub.status.busy": "2023-09-02T18:58:35.158675Z",
          "iopub.status.idle": "2023-09-02T18:58:36.321772Z",
          "shell.execute_reply": "2023-09-02T18:58:36.321205Z"
        },
        "papermill": {
          "duration": 1.166987,
          "end_time": "2023-09-02T18:58:36.323352",
          "exception": false,
          "start_time": "2023-09-02T18:58:35.156365",
          "status": "completed"
        },
        "tags": []
      },
      "outputs": [],
      "source": [
        "from functools import partial\n",
        "\n",
        "import jax\n",
        "import jax.example_libraries.optimizers as opt\n",
        "import jax.numpy as jnp\n",
        "import matplotlib.pyplot as plt  # plotting\n",
        "import sax"
      ]
    },
    {
      "cell_type": "markdown",
      "id": "6a42b9d9",
      "metadata": {
        "papermill": {
          "duration": 0.002052,
          "end_time": "2023-09-02T18:58:36.327155",
          "exception": false,
          "start_time": "2023-09-02T18:58:36.325103",
          "status": "completed"
        },
        "tags": []
      },
      "source": [
        "## Parametrized Models"
      ]
    },
    {
      "cell_type": "code",
      "execution_count": 2,
      "id": "79e7e40e",
      "metadata": {
        "execution": {
          "iopub.execute_input": "2023-09-02T18:58:36.331446Z",
          "iopub.status.busy": "2023-09-02T18:58:36.330830Z",
          "iopub.status.idle": "2023-09-02T18:58:36.335386Z",
          "shell.execute_reply": "2023-09-02T18:58:36.334895Z"
        },
        "papermill": {
          "duration": 0.008146,
          "end_time": "2023-09-02T18:58:36.336748",
          "exception": false,
          "start_time": "2023-09-02T18:58:36.328602",
          "status": "completed"
        },
        "tags": []
      },
      "outputs": [],
      "source": [
        "def coupler(length=50.0) -> sax.SDict:\n",
        "    sdict =  {\n",
        "        (\"in0\", \"out0\"): length,\n",
        "        (\"in0\", \"out1\"): length,\n",
        "        (\"in1\", \"out0\"): length,\n",
        "        (\"in1\", \"out1\"): length,\n",
        "    }\n",
        "    return sax.reciprocal(sdict)"
      ]
    },
    {
      "cell_type": "code",
      "execution_count": 3,
      "id": "3248838c",
      "metadata": {
        "execution": {
          "iopub.execute_input": "2023-09-02T18:58:36.340569Z",
          "iopub.status.busy": "2023-09-02T18:58:36.340284Z",
          "iopub.status.idle": "2023-09-02T18:58:36.344121Z",
          "shell.execute_reply": "2023-09-02T18:58:36.343631Z"
        },
        "papermill": {
          "duration": 0.007186,
          "end_time": "2023-09-02T18:58:36.345409",
          "exception": false,
          "start_time": "2023-09-02T18:58:36.338223",
          "status": "completed"
        },
        "tags": []
      },
      "outputs": [],
      "source": [
        "def waveguide(length=100.0) -> sax.SDict:\n",
        "    sdict = {\n",
        "        (\"in0\", \"out0\"): length,\n",
        "    }\n",
        "    return sax.reciprocal(sdict)"
      ]
    },
    {
      "cell_type": "markdown",
      "id": "d650fb8d",
      "metadata": {
        "papermill": {
          "duration": 0.001391,
          "end_time": "2023-09-02T18:58:36.348284",
          "exception": false,
          "start_time": "2023-09-02T18:58:36.346893",
          "status": "completed"
        },
        "tags": []
      },
      "source": [
        "## Circuit with additive backend"
      ]
    },
    {
      "cell_type": "code",
      "execution_count": 4,
      "id": "56e035d0",
      "metadata": {
        "execution": {
          "iopub.execute_input": "2023-09-02T18:58:36.352268Z",
          "iopub.status.busy": "2023-09-02T18:58:36.351847Z",
          "iopub.status.idle": "2023-09-02T18:58:36.364480Z",
          "shell.execute_reply": "2023-09-02T18:58:36.363985Z"
        },
        "papermill": {
          "duration": 0.016016,
          "end_time": "2023-09-02T18:58:36.365733",
          "exception": false,
          "start_time": "2023-09-02T18:58:36.349717",
          "status": "completed"
        },
        "tags": []
      },
      "outputs": [],
      "source": [
        "mzi, _ = sax.circuit(\n",
        "    netlist={\n",
        "        \"instances\": {\n",
        "            \"lft\": coupler,\n",
        "            \"top\": partial(waveguide, length=500),\n",
        "            \"btm\": partial(waveguide, length=100),\n",
        "            \"rgt\": coupler,\n",
        "        },\n",
        "        \"connections\": {\n",
        "            \"lft,out0\": \"btm,in0\",\n",
        "            \"btm,out0\": \"rgt,in0\",\n",
        "            \"lft,out1\": \"top,in0\",\n",
        "            \"top,out0\": \"rgt,in1\",\n",
        "        },\n",
        "        \"ports\": {\n",
        "            \"in0\": \"lft,in0\",\n",
        "            \"in1\": \"lft,in1\",\n",
        "            \"out0\": \"rgt,out0\",\n",
        "            \"out1\": \"rgt,out1\",\n",
        "        },\n",
        "    },\n",
        "    backend=\"additive\",\n",
        ")"
      ]
    },
    {
      "cell_type": "code",
      "execution_count": 5,
      "id": "c1f245fd",
      "metadata": {
        "execution": {
          "iopub.execute_input": "2023-09-02T18:58:36.369741Z",
          "iopub.status.busy": "2023-09-02T18:58:36.369554Z",
          "iopub.status.idle": "2023-09-02T18:58:36.474129Z",
          "shell.execute_reply": "2023-09-02T18:58:36.473656Z"
        },
        "papermill": {
          "duration": 0.107995,
          "end_time": "2023-09-02T18:58:36.475333",
          "exception": false,
          "start_time": "2023-09-02T18:58:36.367338",
          "status": "completed"
        },
        "tags": []
      },
      "outputs": [
        {
          "data": {
            "text/plain": [
              "{('in0', 'out0'): [Array([200.], dtype=float64), Array([600.], dtype=float64)],\n",
              " ('in0', 'out1'): [Array([200.], dtype=float64), Array([600.], dtype=float64)],\n",
              " ('in1', 'out0'): [Array([200.], dtype=float64), Array([600.], dtype=float64)],\n",
              " ('in1', 'out1'): [Array([200.], dtype=float64), Array([600.], dtype=float64)],\n",
              " ('out0', 'in0'): [Array([200.], dtype=float64), Array([600.], dtype=float64)],\n",
              " ('out0', 'in1'): [Array([200.], dtype=float64), Array([600.], dtype=float64)],\n",
              " ('out1', 'in0'): [Array([200.], dtype=float64), Array([600.], dtype=float64)],\n",
              " ('out1', 'in1'): [Array([200.], dtype=float64), Array([600.], dtype=float64)]}"
            ]
          },
          "execution_count": 5,
          "metadata": {},
          "output_type": "execute_result"
        }
      ],
      "source": [
        "mzi()"
      ]
    }
  ],
  "metadata": {
    "kernelspec": {
      "display_name": "sax",
      "language": "python",
      "name": "sax"
    },
    "language_info": {
      "codemirror_mode": {
        "name": "ipython",
        "version": 3
      },
      "file_extension": ".py",
      "mimetype": "text/x-python",
      "name": "python",
      "nbconvert_exporter": "python",
      "pygments_lexer": "ipython3",
      "version": "3.11.5"
    },
    "papermill": {
      "default_parameters": {},
      "duration": 3.066701,
      "end_time": "2023-09-02T18:58:36.894434",
      "environment_variables": {},
      "exception": null,
      "input_path": "./examples/06_additive_backend.ipynb",
      "output_path": "./examples/06_additive_backend.ipynb",
      "parameters": {},
      "start_time": "2023-09-02T18:58:33.827733",
      "version": "2.4.0"
    }
  },
  "nbformat": 4,
  "nbformat_minor": 5
}