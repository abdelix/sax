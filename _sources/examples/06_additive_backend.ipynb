{
  "cells": [
    {
      "cell_type": "markdown",
      "id": "6f097557",
      "metadata": {
        "papermill": {
          "duration": 0.001884,
          "end_time": "2023-06-01T21:49:29.091400",
          "exception": false,
          "start_time": "2023-06-01T21:49:29.089516",
          "status": "completed"
        },
        "tags": []
      },
      "source": [
        "# Additive Backend"
      ]
    },
    {
      "cell_type": "markdown",
      "id": "56868383",
      "metadata": {
        "papermill": {
          "duration": 0.001356,
          "end_time": "2023-06-01T21:49:29.094453",
          "exception": false,
          "start_time": "2023-06-01T21:49:29.093097",
          "status": "completed"
        },
        "tags": []
      },
      "source": [
        "> The additive backend can be used to obtain pathlengths and group delays."
      ]
    },
    {
      "cell_type": "code",
      "execution_count": 1,
      "id": "79c98bc0",
      "metadata": {
        "execution": {
          "iopub.execute_input": "2023-06-01T21:49:29.099447Z",
          "iopub.status.busy": "2023-06-01T21:49:29.099214Z",
          "iopub.status.idle": "2023-06-01T21:49:30.203899Z",
          "shell.execute_reply": "2023-06-01T21:49:30.203376Z"
        },
        "papermill": {
          "duration": 1.108783,
          "end_time": "2023-06-01T21:49:30.205671",
          "exception": false,
          "start_time": "2023-06-01T21:49:29.096888",
          "status": "completed"
        },
        "tags": []
      },
      "outputs": [],
      "source": [
        "from functools import partial\n",
        "\n",
        "import jax\n",
        "import jax.example_libraries.optimizers as opt\n",
        "import jax.numpy as jnp\n",
        "import matplotlib.pyplot as plt  # plotting\n",
        "import sax"
      ]
    },
    {
      "cell_type": "markdown",
      "id": "6a42b9d9",
      "metadata": {
        "papermill": {
          "duration": 0.001397,
          "end_time": "2023-06-01T21:49:30.208773",
          "exception": false,
          "start_time": "2023-06-01T21:49:30.207376",
          "status": "completed"
        },
        "tags": []
      },
      "source": [
        "## Parametrized Models"
      ]
    },
    {
      "cell_type": "code",
      "execution_count": 2,
      "id": "79e7e40e",
      "metadata": {
        "execution": {
          "iopub.execute_input": "2023-06-01T21:49:30.213058Z",
          "iopub.status.busy": "2023-06-01T21:49:30.212554Z",
          "iopub.status.idle": "2023-06-01T21:49:30.217302Z",
          "shell.execute_reply": "2023-06-01T21:49:30.216863Z"
        },
        "papermill": {
          "duration": 0.008451,
          "end_time": "2023-06-01T21:49:30.218601",
          "exception": false,
          "start_time": "2023-06-01T21:49:30.210150",
          "status": "completed"
        },
        "tags": []
      },
      "outputs": [],
      "source": [
        "def coupler(length=50.0) -> sax.SDict:\n",
        "    sdict =  {\n",
        "        (\"in0\", \"out0\"): length,\n",
        "        (\"in0\", \"out1\"): length,\n",
        "        (\"in1\", \"out0\"): length,\n",
        "        (\"in1\", \"out1\"): length,\n",
        "    }\n",
        "    return sax.reciprocal(sdict)"
      ]
    },
    {
      "cell_type": "code",
      "execution_count": 3,
      "id": "3248838c",
      "metadata": {
        "execution": {
          "iopub.execute_input": "2023-06-01T21:49:30.222820Z",
          "iopub.status.busy": "2023-06-01T21:49:30.222470Z",
          "iopub.status.idle": "2023-06-01T21:49:30.225836Z",
          "shell.execute_reply": "2023-06-01T21:49:30.225359Z"
        },
        "papermill": {
          "duration": 0.007141,
          "end_time": "2023-06-01T21:49:30.227159",
          "exception": false,
          "start_time": "2023-06-01T21:49:30.220018",
          "status": "completed"
        },
        "tags": []
      },
      "outputs": [],
      "source": [
        "def waveguide(length=100.0) -> sax.SDict:\n",
        "    sdict = {\n",
        "        (\"in0\", \"out0\"): length,\n",
        "    }\n",
        "    return sax.reciprocal(sdict)"
      ]
    },
    {
      "cell_type": "markdown",
      "id": "d650fb8d",
      "metadata": {
        "papermill": {
          "duration": 0.001384,
          "end_time": "2023-06-01T21:49:30.230043",
          "exception": false,
          "start_time": "2023-06-01T21:49:30.228659",
          "status": "completed"
        },
        "tags": []
      },
      "source": [
        "## Circuit with additive backend"
      ]
    },
    {
      "cell_type": "code",
      "execution_count": 4,
      "id": "56e035d0",
      "metadata": {
        "execution": {
          "iopub.execute_input": "2023-06-01T21:49:30.233732Z",
          "iopub.status.busy": "2023-06-01T21:49:30.233528Z",
          "iopub.status.idle": "2023-06-01T21:49:30.250808Z",
          "shell.execute_reply": "2023-06-01T21:49:30.250340Z"
        },
        "papermill": {
          "duration": 0.020824,
          "end_time": "2023-06-01T21:49:30.252274",
          "exception": false,
          "start_time": "2023-06-01T21:49:30.231450",
          "status": "completed"
        },
        "tags": []
      },
      "outputs": [
        {
          "name": "stderr",
          "output_type": "stream",
          "text": [
            "No GPU/TPU found, falling back to CPU. (Set TF_CPP_MIN_LOG_LEVEL=0 and rerun for more info.)\n"
          ]
        }
      ],
      "source": [
        "mzi, _ = sax.circuit(\n",
        "    netlist={\n",
        "        \"instances\": {\n",
        "            \"lft\": coupler,\n",
        "            \"top\": partial(waveguide, length=500),\n",
        "            \"btm\": partial(waveguide, length=100),\n",
        "            \"rgt\": coupler,\n",
        "        },\n",
        "        \"connections\": {\n",
        "            \"lft,out0\": \"btm,in0\",\n",
        "            \"btm,out0\": \"rgt,in0\",\n",
        "            \"lft,out1\": \"top,in0\",\n",
        "            \"top,out0\": \"rgt,in1\",\n",
        "        },\n",
        "        \"ports\": {\n",
        "            \"in0\": \"lft,in0\",\n",
        "            \"in1\": \"lft,in1\",\n",
        "            \"out0\": \"rgt,out0\",\n",
        "            \"out1\": \"rgt,out1\",\n",
        "        },\n",
        "    },\n",
        "    backend=\"additive\",\n",
        ")"
      ]
    },
    {
      "cell_type": "code",
      "execution_count": 5,
      "id": "c1f245fd",
      "metadata": {
        "execution": {
          "iopub.execute_input": "2023-06-01T21:49:30.256281Z",
          "iopub.status.busy": "2023-06-01T21:49:30.256093Z",
          "iopub.status.idle": "2023-06-01T21:49:30.363224Z",
          "shell.execute_reply": "2023-06-01T21:49:30.362746Z"
        },
        "papermill": {
          "duration": 0.110738,
          "end_time": "2023-06-01T21:49:30.364627",
          "exception": false,
          "start_time": "2023-06-01T21:49:30.253889",
          "status": "completed"
        },
        "tags": []
      },
      "outputs": [
        {
          "data": {
            "text/plain": [
              "{('in0', 'out0'): [Array([200.], dtype=float32), Array([600.], dtype=float32)],\n",
              " ('in0', 'out1'): [Array([200.], dtype=float32), Array([600.], dtype=float32)],\n",
              " ('in1', 'out0'): [Array([200.], dtype=float32), Array([600.], dtype=float32)],\n",
              " ('in1', 'out1'): [Array([200.], dtype=float32), Array([600.], dtype=float32)],\n",
              " ('out0', 'in0'): [Array([200.], dtype=float32), Array([600.], dtype=float32)],\n",
              " ('out0', 'in1'): [Array([200.], dtype=float32), Array([600.], dtype=float32)],\n",
              " ('out1', 'in0'): [Array([200.], dtype=float32), Array([600.], dtype=float32)],\n",
              " ('out1', 'in1'): [Array([200.], dtype=float32), Array([600.], dtype=float32)]}"
            ]
          },
          "execution_count": 5,
          "metadata": {},
          "output_type": "execute_result"
        }
      ],
      "source": [
        "mzi()"
      ]
    }
  ],
  "metadata": {
    "kernelspec": {
      "display_name": "Python 3 (ipykernel)",
      "language": "python",
      "name": "python3"
    },
    "language_info": {
      "codemirror_mode": {
        "name": "ipython",
        "version": 3
      },
      "file_extension": ".py",
      "mimetype": "text/x-python",
      "name": "python",
      "nbconvert_exporter": "python",
      "pygments_lexer": "ipython3",
      "version": "3.11.3"
    },
    "papermill": {
      "default_parameters": {},
      "duration": 2.962155,
      "end_time": "2023-06-01T21:49:30.785884",
      "environment_variables": {},
      "exception": null,
      "input_path": "./examples/06_additive_backend.ipynb",
      "output_path": "./examples/06_additive_backend.ipynb",
      "parameters": {},
      "start_time": "2023-06-01T21:49:27.823729",
      "version": "2.3.4"
    }
  },
  "nbformat": 4,
  "nbformat_minor": 5
}