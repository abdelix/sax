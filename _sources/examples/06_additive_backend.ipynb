{
  "cells": [
    {
      "cell_type": "markdown",
      "id": "6f097557",
      "metadata": {
        "papermill": {
          "duration": 0.0022,
          "end_time": "2023-09-03T19:46:20.739601",
          "exception": false,
          "start_time": "2023-09-03T19:46:20.737401",
          "status": "completed"
        },
        "tags": []
      },
      "source": [
        "# Additive Backend"
      ]
    },
    {
      "cell_type": "markdown",
      "id": "56868383",
      "metadata": {
        "papermill": {
          "duration": 0.0016,
          "end_time": "2023-09-03T19:46:20.744285",
          "exception": false,
          "start_time": "2023-09-03T19:46:20.742685",
          "status": "completed"
        },
        "tags": []
      },
      "source": [
        "> The additive backend can be used to obtain pathlengths and group delays."
      ]
    },
    {
      "cell_type": "code",
      "execution_count": 1,
      "id": "79c98bc0",
      "metadata": {
        "execution": {
          "iopub.execute_input": "2023-09-03T19:46:20.749043Z",
          "iopub.status.busy": "2023-09-03T19:46:20.748465Z",
          "iopub.status.idle": "2023-09-03T19:46:21.923463Z",
          "shell.execute_reply": "2023-09-03T19:46:21.922794Z"
        },
        "papermill": {
          "duration": 1.179607,
          "end_time": "2023-09-03T19:46:21.925443",
          "exception": false,
          "start_time": "2023-09-03T19:46:20.745836",
          "status": "completed"
        },
        "tags": []
      },
      "outputs": [],
      "source": [
        "from functools import partial\n",
        "\n",
        "import jax\n",
        "import jax.example_libraries.optimizers as opt\n",
        "import jax.numpy as jnp\n",
        "import matplotlib.pyplot as plt  # plotting\n",
        "import sax"
      ]
    },
    {
      "cell_type": "markdown",
      "id": "6a42b9d9",
      "metadata": {
        "papermill": {
          "duration": 0.002376,
          "end_time": "2023-09-03T19:46:21.929930",
          "exception": false,
          "start_time": "2023-09-03T19:46:21.927554",
          "status": "completed"
        },
        "tags": []
      },
      "source": [
        "## Parametrized Models"
      ]
    },
    {
      "cell_type": "code",
      "execution_count": 2,
      "id": "79e7e40e",
      "metadata": {
        "execution": {
          "iopub.execute_input": "2023-09-03T19:46:21.935139Z",
          "iopub.status.busy": "2023-09-03T19:46:21.934416Z",
          "iopub.status.idle": "2023-09-03T19:46:21.939537Z",
          "shell.execute_reply": "2023-09-03T19:46:21.938892Z"
        },
        "papermill": {
          "duration": 0.00935,
          "end_time": "2023-09-03T19:46:21.941110",
          "exception": false,
          "start_time": "2023-09-03T19:46:21.931760",
          "status": "completed"
        },
        "tags": []
      },
      "outputs": [],
      "source": [
        "def coupler(length=50.0) -> sax.SDict:\n",
        "    sdict =  {\n",
        "        (\"in0\", \"out0\"): length,\n",
        "        (\"in0\", \"out1\"): length,\n",
        "        (\"in1\", \"out0\"): length,\n",
        "        (\"in1\", \"out1\"): length,\n",
        "    }\n",
        "    return sax.reciprocal(sdict)"
      ]
    },
    {
      "cell_type": "code",
      "execution_count": 3,
      "id": "3248838c",
      "metadata": {
        "execution": {
          "iopub.execute_input": "2023-09-03T19:46:21.945609Z",
          "iopub.status.busy": "2023-09-03T19:46:21.945056Z",
          "iopub.status.idle": "2023-09-03T19:46:21.948428Z",
          "shell.execute_reply": "2023-09-03T19:46:21.947810Z"
        },
        "papermill": {
          "duration": 0.007313,
          "end_time": "2023-09-03T19:46:21.949975",
          "exception": false,
          "start_time": "2023-09-03T19:46:21.942662",
          "status": "completed"
        },
        "tags": []
      },
      "outputs": [],
      "source": [
        "def waveguide(length=100.0) -> sax.SDict:\n",
        "    sdict = {\n",
        "        (\"in0\", \"out0\"): length,\n",
        "    }\n",
        "    return sax.reciprocal(sdict)"
      ]
    },
    {
      "cell_type": "markdown",
      "id": "d650fb8d",
      "metadata": {
        "papermill": {
          "duration": 0.001555,
          "end_time": "2023-09-03T19:46:21.953116",
          "exception": false,
          "start_time": "2023-09-03T19:46:21.951561",
          "status": "completed"
        },
        "tags": []
      },
      "source": [
        "## Circuit with additive backend"
      ]
    },
    {
      "cell_type": "code",
      "execution_count": 4,
      "id": "56e035d0",
      "metadata": {
        "execution": {
          "iopub.execute_input": "2023-09-03T19:46:21.957686Z",
          "iopub.status.busy": "2023-09-03T19:46:21.957186Z",
          "iopub.status.idle": "2023-09-03T19:46:21.971030Z",
          "shell.execute_reply": "2023-09-03T19:46:21.970363Z"
        },
        "papermill": {
          "duration": 0.017724,
          "end_time": "2023-09-03T19:46:21.972412",
          "exception": false,
          "start_time": "2023-09-03T19:46:21.954688",
          "status": "completed"
        },
        "tags": []
      },
      "outputs": [],
      "source": [
        "mzi, _ = sax.circuit(\n",
        "    netlist={\n",
        "        \"instances\": {\n",
        "            \"lft\": coupler,\n",
        "            \"top\": partial(waveguide, length=500),\n",
        "            \"btm\": partial(waveguide, length=100),\n",
        "            \"rgt\": coupler,\n",
        "        },\n",
        "        \"connections\": {\n",
        "            \"lft,out0\": \"btm,in0\",\n",
        "            \"btm,out0\": \"rgt,in0\",\n",
        "            \"lft,out1\": \"top,in0\",\n",
        "            \"top,out0\": \"rgt,in1\",\n",
        "        },\n",
        "        \"ports\": {\n",
        "            \"in0\": \"lft,in0\",\n",
        "            \"in1\": \"lft,in1\",\n",
        "            \"out0\": \"rgt,out0\",\n",
        "            \"out1\": \"rgt,out1\",\n",
        "        },\n",
        "    },\n",
        "    backend=\"additive\",\n",
        ")"
      ]
    },
    {
      "cell_type": "code",
      "execution_count": 5,
      "id": "c1f245fd",
      "metadata": {
        "execution": {
          "iopub.execute_input": "2023-09-03T19:46:21.976945Z",
          "iopub.status.busy": "2023-09-03T19:46:21.976335Z",
          "iopub.status.idle": "2023-09-03T19:46:22.085244Z",
          "shell.execute_reply": "2023-09-03T19:46:22.084111Z"
        },
        "papermill": {
          "duration": 0.112777,
          "end_time": "2023-09-03T19:46:22.086820",
          "exception": false,
          "start_time": "2023-09-03T19:46:21.974043",
          "status": "completed"
        },
        "tags": []
      },
      "outputs": [
        {
          "data": {
            "text/plain": [
              "{('in0', 'out0'): [Array([200.], dtype=float64), Array([600.], dtype=float64)],\n",
              " ('in0', 'out1'): [Array([200.], dtype=float64), Array([600.], dtype=float64)],\n",
              " ('in1', 'out0'): [Array([200.], dtype=float64), Array([600.], dtype=float64)],\n",
              " ('in1', 'out1'): [Array([200.], dtype=float64), Array([600.], dtype=float64)],\n",
              " ('out0', 'in0'): [Array([200.], dtype=float64), Array([600.], dtype=float64)],\n",
              " ('out0', 'in1'): [Array([200.], dtype=float64), Array([600.], dtype=float64)],\n",
              " ('out1', 'in0'): [Array([200.], dtype=float64), Array([600.], dtype=float64)],\n",
              " ('out1', 'in1'): [Array([200.], dtype=float64), Array([600.], dtype=float64)]}"
            ]
          },
          "execution_count": 5,
          "metadata": {},
          "output_type": "execute_result"
        }
      ],
      "source": [
        "mzi()"
      ]
    }
  ],
  "metadata": {
    "kernelspec": {
      "display_name": "sax",
      "language": "python",
      "name": "sax"
    },
    "language_info": {
      "codemirror_mode": {
        "name": "ipython",
        "version": 3
      },
      "file_extension": ".py",
      "mimetype": "text/x-python",
      "name": "python",
      "nbconvert_exporter": "python",
      "pygments_lexer": "ipython3",
      "version": "3.10.12"
    },
    "papermill": {
      "default_parameters": {},
      "duration": 3.080877,
      "end_time": "2023-09-03T19:46:22.507480",
      "environment_variables": {},
      "exception": null,
      "input_path": "./examples/06_additive_backend.ipynb",
      "output_path": "./examples/06_additive_backend.ipynb",
      "parameters": {},
      "start_time": "2023-09-03T19:46:19.426603",
      "version": "2.4.0"
    }
  },
  "nbformat": 4,
  "nbformat_minor": 5
}