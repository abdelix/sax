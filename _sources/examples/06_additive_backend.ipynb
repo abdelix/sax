{
  "cells": [
    {
      "cell_type": "markdown",
      "id": "6f097557",
      "metadata": {
        "papermill": {
          "duration": 0.001758,
          "end_time": "2023-11-15T02:12:10.747157",
          "exception": false,
          "start_time": "2023-11-15T02:12:10.745399",
          "status": "completed"
        },
        "tags": []
      },
      "source": [
        "# Additive Backend"
      ]
    },
    {
      "cell_type": "markdown",
      "id": "56868383",
      "metadata": {
        "papermill": {
          "duration": 0.00122,
          "end_time": "2023-11-15T02:12:10.749687",
          "exception": false,
          "start_time": "2023-11-15T02:12:10.748467",
          "status": "completed"
        },
        "tags": []
      },
      "source": [
        "> The additive backend can be used to obtain pathlengths and group delays."
      ]
    },
    {
      "cell_type": "code",
      "execution_count": 1,
      "id": "79c98bc0",
      "metadata": {
        "execution": {
          "iopub.execute_input": "2023-11-15T02:12:10.754103Z",
          "iopub.status.busy": "2023-11-15T02:12:10.753646Z",
          "iopub.status.idle": "2023-11-15T02:12:11.700729Z",
          "shell.execute_reply": "2023-11-15T02:12:11.700174Z"
        },
        "papermill": {
          "duration": 0.951416,
          "end_time": "2023-11-15T02:12:11.702274",
          "exception": false,
          "start_time": "2023-11-15T02:12:10.750858",
          "status": "completed"
        },
        "tags": []
      },
      "outputs": [],
      "source": [
        "from functools import partial\n",
        "\n",
        "import jax\n",
        "import jax.example_libraries.optimizers as opt\n",
        "import jax.numpy as jnp\n",
        "import matplotlib.pyplot as plt  # plotting\n",
        "import sax"
      ]
    },
    {
      "cell_type": "markdown",
      "id": "6a42b9d9",
      "metadata": {
        "papermill": {
          "duration": 0.002171,
          "end_time": "2023-11-15T02:12:11.705964",
          "exception": false,
          "start_time": "2023-11-15T02:12:11.703793",
          "status": "completed"
        },
        "tags": []
      },
      "source": [
        "## Parametrized Models"
      ]
    },
    {
      "cell_type": "code",
      "execution_count": 2,
      "id": "79e7e40e",
      "metadata": {
        "execution": {
          "iopub.execute_input": "2023-11-15T02:12:11.709576Z",
          "iopub.status.busy": "2023-11-15T02:12:11.709287Z",
          "iopub.status.idle": "2023-11-15T02:12:11.712915Z",
          "shell.execute_reply": "2023-11-15T02:12:11.712440Z"
        },
        "papermill": {
          "duration": 0.006641,
          "end_time": "2023-11-15T02:12:11.714058",
          "exception": false,
          "start_time": "2023-11-15T02:12:11.707417",
          "status": "completed"
        },
        "tags": []
      },
      "outputs": [],
      "source": [
        "def coupler(length=50.0) -> sax.SDict:\n",
        "    sdict =  {\n",
        "        (\"in0\", \"out0\"): length,\n",
        "        (\"in0\", \"out1\"): length,\n",
        "        (\"in1\", \"out0\"): length,\n",
        "        (\"in1\", \"out1\"): length,\n",
        "    }\n",
        "    return sax.reciprocal(sdict)"
      ]
    },
    {
      "cell_type": "code",
      "execution_count": 3,
      "id": "3248838c",
      "metadata": {
        "execution": {
          "iopub.execute_input": "2023-11-15T02:12:11.717379Z",
          "iopub.status.busy": "2023-11-15T02:12:11.717081Z",
          "iopub.status.idle": "2023-11-15T02:12:11.719978Z",
          "shell.execute_reply": "2023-11-15T02:12:11.719513Z"
        },
        "papermill": {
          "duration": 0.005781,
          "end_time": "2023-11-15T02:12:11.721074",
          "exception": false,
          "start_time": "2023-11-15T02:12:11.715293",
          "status": "completed"
        },
        "tags": []
      },
      "outputs": [],
      "source": [
        "def waveguide(length=100.0) -> sax.SDict:\n",
        "    sdict = {\n",
        "        (\"in0\", \"out0\"): length,\n",
        "    }\n",
        "    return sax.reciprocal(sdict)"
      ]
    },
    {
      "cell_type": "markdown",
      "id": "d650fb8d",
      "metadata": {
        "papermill": {
          "duration": 0.001465,
          "end_time": "2023-11-15T02:12:11.723831",
          "exception": false,
          "start_time": "2023-11-15T02:12:11.722366",
          "status": "completed"
        },
        "tags": []
      },
      "source": [
        "## Circuit with additive backend"
      ]
    },
    {
      "cell_type": "code",
      "execution_count": 4,
      "id": "56e035d0",
      "metadata": {
        "execution": {
          "iopub.execute_input": "2023-11-15T02:12:11.727423Z",
          "iopub.status.busy": "2023-11-15T02:12:11.727122Z",
          "iopub.status.idle": "2023-11-15T02:12:11.760134Z",
          "shell.execute_reply": "2023-11-15T02:12:11.759643Z"
        },
        "papermill": {
          "duration": 0.03619,
          "end_time": "2023-11-15T02:12:11.761492",
          "exception": false,
          "start_time": "2023-11-15T02:12:11.725302",
          "status": "completed"
        },
        "tags": []
      },
      "outputs": [],
      "source": [
        "mzi, _ = sax.circuit(\n",
        "    netlist={\n",
        "        \"instances\": {\n",
        "            \"lft\": coupler,\n",
        "            \"top\": partial(waveguide, length=500),\n",
        "            \"btm\": partial(waveguide, length=100),\n",
        "            \"rgt\": coupler,\n",
        "        },\n",
        "        \"connections\": {\n",
        "            \"lft,out0\": \"btm,in0\",\n",
        "            \"btm,out0\": \"rgt,in0\",\n",
        "            \"lft,out1\": \"top,in0\",\n",
        "            \"top,out0\": \"rgt,in1\",\n",
        "        },\n",
        "        \"ports\": {\n",
        "            \"in0\": \"lft,in0\",\n",
        "            \"in1\": \"lft,in1\",\n",
        "            \"out0\": \"rgt,out0\",\n",
        "            \"out1\": \"rgt,out1\",\n",
        "        },\n",
        "    },\n",
        "    backend=\"additive\",\n",
        ")"
      ]
    },
    {
      "cell_type": "code",
      "execution_count": 5,
      "id": "c1f245fd",
      "metadata": {
        "execution": {
          "iopub.execute_input": "2023-11-15T02:12:11.765029Z",
          "iopub.status.busy": "2023-11-15T02:12:11.764851Z",
          "iopub.status.idle": "2023-11-15T02:12:11.848174Z",
          "shell.execute_reply": "2023-11-15T02:12:11.847621Z"
        },
        "papermill": {
          "duration": 0.086415,
          "end_time": "2023-11-15T02:12:11.849369",
          "exception": false,
          "start_time": "2023-11-15T02:12:11.762954",
          "status": "completed"
        },
        "tags": []
      },
      "outputs": [
        {
          "data": {
            "text/plain": [
              "{('in0', 'out0'): [Array([200.], dtype=float64), Array([600.], dtype=float64)],\n",
              " ('in0', 'out1'): [Array([200.], dtype=float64), Array([600.], dtype=float64)],\n",
              " ('in1', 'out0'): [Array([200.], dtype=float64), Array([600.], dtype=float64)],\n",
              " ('in1', 'out1'): [Array([200.], dtype=float64), Array([600.], dtype=float64)],\n",
              " ('out0', 'in0'): [Array([200.], dtype=float64), Array([600.], dtype=float64)],\n",
              " ('out0', 'in1'): [Array([200.], dtype=float64), Array([600.], dtype=float64)],\n",
              " ('out1', 'in0'): [Array([200.], dtype=float64), Array([600.], dtype=float64)],\n",
              " ('out1', 'in1'): [Array([200.], dtype=float64), Array([600.], dtype=float64)]}"
            ]
          },
          "execution_count": 5,
          "metadata": {},
          "output_type": "execute_result"
        }
      ],
      "source": [
        "mzi()"
      ]
    }
  ],
  "metadata": {
    "kernelspec": {
      "display_name": "sax",
      "language": "python",
      "name": "sax"
    },
    "language_info": {
      "codemirror_mode": {
        "name": "ipython",
        "version": 3
      },
      "file_extension": ".py",
      "mimetype": "text/x-python",
      "name": "python",
      "nbconvert_exporter": "python",
      "pygments_lexer": "ipython3",
      "version": "3.10.12"
    },
    "papermill": {
      "default_parameters": {},
      "duration": 2.331714,
      "end_time": "2023-11-15T02:12:12.166828",
      "environment_variables": {},
      "exception": null,
      "input_path": "./examples/06_additive_backend.ipynb",
      "output_path": "./examples/06_additive_backend.ipynb",
      "parameters": {},
      "start_time": "2023-11-15T02:12:09.835114",
      "version": "2.4.0"
    }
  },
  "nbformat": 4,
  "nbformat_minor": 5
}