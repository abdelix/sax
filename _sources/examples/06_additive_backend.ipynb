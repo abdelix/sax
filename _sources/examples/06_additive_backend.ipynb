{
  "cells": [
    {
      "cell_type": "markdown",
      "id": "6f097557",
      "metadata": {
        "papermill": {
          "duration": 0.002819,
          "end_time": "2023-09-03T17:13:00.002482",
          "exception": false,
          "start_time": "2023-09-03T17:12:59.999663",
          "status": "completed"
        },
        "tags": []
      },
      "source": [
        "# Additive Backend"
      ]
    },
    {
      "cell_type": "markdown",
      "id": "56868383",
      "metadata": {
        "papermill": {
          "duration": 0.001868,
          "end_time": "2023-09-03T17:13:00.007802",
          "exception": false,
          "start_time": "2023-09-03T17:13:00.005934",
          "status": "completed"
        },
        "tags": []
      },
      "source": [
        "> The additive backend can be used to obtain pathlengths and group delays."
      ]
    },
    {
      "cell_type": "code",
      "execution_count": 1,
      "id": "79c98bc0",
      "metadata": {
        "execution": {
          "iopub.execute_input": "2023-09-03T17:13:00.012938Z",
          "iopub.status.busy": "2023-09-03T17:13:00.012308Z",
          "iopub.status.idle": "2023-09-03T17:13:01.312454Z",
          "shell.execute_reply": "2023-09-03T17:13:01.311676Z"
        },
        "papermill": {
          "duration": 1.305892,
          "end_time": "2023-09-03T17:13:01.315373",
          "exception": false,
          "start_time": "2023-09-03T17:13:00.009481",
          "status": "completed"
        },
        "tags": []
      },
      "outputs": [],
      "source": [
        "from functools import partial\n",
        "\n",
        "import jax\n",
        "import jax.example_libraries.optimizers as opt\n",
        "import jax.numpy as jnp\n",
        "import matplotlib.pyplot as plt  # plotting\n",
        "import sax"
      ]
    },
    {
      "cell_type": "markdown",
      "id": "6a42b9d9",
      "metadata": {
        "papermill": {
          "duration": 0.00201,
          "end_time": "2023-09-03T17:13:01.319645",
          "exception": false,
          "start_time": "2023-09-03T17:13:01.317635",
          "status": "completed"
        },
        "tags": []
      },
      "source": [
        "## Parametrized Models"
      ]
    },
    {
      "cell_type": "code",
      "execution_count": 2,
      "id": "79e7e40e",
      "metadata": {
        "execution": {
          "iopub.execute_input": "2023-09-03T17:13:01.327622Z",
          "iopub.status.busy": "2023-09-03T17:13:01.326707Z",
          "iopub.status.idle": "2023-09-03T17:13:01.334887Z",
          "shell.execute_reply": "2023-09-03T17:13:01.334236Z"
        },
        "papermill": {
          "duration": 0.015118,
          "end_time": "2023-09-03T17:13:01.336407",
          "exception": false,
          "start_time": "2023-09-03T17:13:01.321289",
          "status": "completed"
        },
        "tags": []
      },
      "outputs": [],
      "source": [
        "def coupler(length=50.0) -> sax.SDict:\n",
        "    sdict =  {\n",
        "        (\"in0\", \"out0\"): length,\n",
        "        (\"in0\", \"out1\"): length,\n",
        "        (\"in1\", \"out0\"): length,\n",
        "        (\"in1\", \"out1\"): length,\n",
        "    }\n",
        "    return sax.reciprocal(sdict)"
      ]
    },
    {
      "cell_type": "code",
      "execution_count": 3,
      "id": "3248838c",
      "metadata": {
        "execution": {
          "iopub.execute_input": "2023-09-03T17:13:01.341273Z",
          "iopub.status.busy": "2023-09-03T17:13:01.340634Z",
          "iopub.status.idle": "2023-09-03T17:13:01.344470Z",
          "shell.execute_reply": "2023-09-03T17:13:01.343784Z"
        },
        "papermill": {
          "duration": 0.007754,
          "end_time": "2023-09-03T17:13:01.345861",
          "exception": false,
          "start_time": "2023-09-03T17:13:01.338107",
          "status": "completed"
        },
        "tags": []
      },
      "outputs": [],
      "source": [
        "def waveguide(length=100.0) -> sax.SDict:\n",
        "    sdict = {\n",
        "        (\"in0\", \"out0\"): length,\n",
        "    }\n",
        "    return sax.reciprocal(sdict)"
      ]
    },
    {
      "cell_type": "markdown",
      "id": "d650fb8d",
      "metadata": {
        "papermill": {
          "duration": 0.001614,
          "end_time": "2023-09-03T17:13:01.349144",
          "exception": false,
          "start_time": "2023-09-03T17:13:01.347530",
          "status": "completed"
        },
        "tags": []
      },
      "source": [
        "## Circuit with additive backend"
      ]
    },
    {
      "cell_type": "code",
      "execution_count": 4,
      "id": "56e035d0",
      "metadata": {
        "execution": {
          "iopub.execute_input": "2023-09-03T17:13:01.354249Z",
          "iopub.status.busy": "2023-09-03T17:13:01.353518Z",
          "iopub.status.idle": "2023-09-03T17:13:01.369531Z",
          "shell.execute_reply": "2023-09-03T17:13:01.368876Z"
        },
        "papermill": {
          "duration": 0.020724,
          "end_time": "2023-09-03T17:13:01.371471",
          "exception": false,
          "start_time": "2023-09-03T17:13:01.350747",
          "status": "completed"
        },
        "tags": []
      },
      "outputs": [],
      "source": [
        "mzi, _ = sax.circuit(\n",
        "    netlist={\n",
        "        \"instances\": {\n",
        "            \"lft\": coupler,\n",
        "            \"top\": partial(waveguide, length=500),\n",
        "            \"btm\": partial(waveguide, length=100),\n",
        "            \"rgt\": coupler,\n",
        "        },\n",
        "        \"connections\": {\n",
        "            \"lft,out0\": \"btm,in0\",\n",
        "            \"btm,out0\": \"rgt,in0\",\n",
        "            \"lft,out1\": \"top,in0\",\n",
        "            \"top,out0\": \"rgt,in1\",\n",
        "        },\n",
        "        \"ports\": {\n",
        "            \"in0\": \"lft,in0\",\n",
        "            \"in1\": \"lft,in1\",\n",
        "            \"out0\": \"rgt,out0\",\n",
        "            \"out1\": \"rgt,out1\",\n",
        "        },\n",
        "    },\n",
        "    backend=\"additive\",\n",
        ")"
      ]
    },
    {
      "cell_type": "code",
      "execution_count": 5,
      "id": "c1f245fd",
      "metadata": {
        "execution": {
          "iopub.execute_input": "2023-09-03T17:13:01.377800Z",
          "iopub.status.busy": "2023-09-03T17:13:01.377543Z",
          "iopub.status.idle": "2023-09-03T17:13:01.497648Z",
          "shell.execute_reply": "2023-09-03T17:13:01.496988Z"
        },
        "papermill": {
          "duration": 0.125968,
          "end_time": "2023-09-03T17:13:01.499470",
          "exception": false,
          "start_time": "2023-09-03T17:13:01.373502",
          "status": "completed"
        },
        "tags": []
      },
      "outputs": [
        {
          "data": {
            "text/plain": [
              "{('in0', 'out0'): [Array([200.], dtype=float64), Array([600.], dtype=float64)],\n",
              " ('in0', 'out1'): [Array([200.], dtype=float64), Array([600.], dtype=float64)],\n",
              " ('in1', 'out0'): [Array([200.], dtype=float64), Array([600.], dtype=float64)],\n",
              " ('in1', 'out1'): [Array([200.], dtype=float64), Array([600.], dtype=float64)],\n",
              " ('out0', 'in0'): [Array([200.], dtype=float64), Array([600.], dtype=float64)],\n",
              " ('out0', 'in1'): [Array([200.], dtype=float64), Array([600.], dtype=float64)],\n",
              " ('out1', 'in0'): [Array([200.], dtype=float64), Array([600.], dtype=float64)],\n",
              " ('out1', 'in1'): [Array([200.], dtype=float64), Array([600.], dtype=float64)]}"
            ]
          },
          "execution_count": 5,
          "metadata": {},
          "output_type": "execute_result"
        }
      ],
      "source": [
        "mzi()"
      ]
    }
  ],
  "metadata": {
    "kernelspec": {
      "display_name": "sax",
      "language": "python",
      "name": "sax"
    },
    "language_info": {
      "codemirror_mode": {
        "name": "ipython",
        "version": 3
      },
      "file_extension": ".py",
      "mimetype": "text/x-python",
      "name": "python",
      "nbconvert_exporter": "python",
      "pygments_lexer": "ipython3",
      "version": "3.10.12"
    },
    "papermill": {
      "default_parameters": {},
      "duration": 3.347526,
      "end_time": "2023-09-03T17:13:02.021395",
      "environment_variables": {},
      "exception": null,
      "input_path": "./examples/06_additive_backend.ipynb",
      "output_path": "./examples/06_additive_backend.ipynb",
      "parameters": {},
      "start_time": "2023-09-03T17:12:58.673869",
      "version": "2.4.0"
    }
  },
  "nbformat": 4,
  "nbformat_minor": 5
}