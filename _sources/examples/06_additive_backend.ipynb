{
  "cells": [
    {
      "cell_type": "markdown",
      "id": "6f097557",
      "metadata": {
        "papermill": {
          "duration": 0.002623,
          "end_time": "2023-09-02T18:51:01.827586",
          "exception": false,
          "start_time": "2023-09-02T18:51:01.824963",
          "status": "completed"
        },
        "tags": []
      },
      "source": [
        "# Additive Backend"
      ]
    },
    {
      "cell_type": "markdown",
      "id": "56868383",
      "metadata": {
        "papermill": {
          "duration": 0.001689,
          "end_time": "2023-09-02T18:51:01.831426",
          "exception": false,
          "start_time": "2023-09-02T18:51:01.829737",
          "status": "completed"
        },
        "tags": []
      },
      "source": [
        "> The additive backend can be used to obtain pathlengths and group delays."
      ]
    },
    {
      "cell_type": "code",
      "execution_count": 1,
      "id": "79c98bc0",
      "metadata": {
        "execution": {
          "iopub.execute_input": "2023-09-02T18:51:01.835855Z",
          "iopub.status.busy": "2023-09-02T18:51:01.835259Z",
          "iopub.status.idle": "2023-09-02T18:51:03.015514Z",
          "shell.execute_reply": "2023-09-02T18:51:03.014904Z"
        },
        "papermill": {
          "duration": 1.184316,
          "end_time": "2023-09-02T18:51:03.017141",
          "exception": false,
          "start_time": "2023-09-02T18:51:01.832825",
          "status": "completed"
        },
        "tags": []
      },
      "outputs": [],
      "source": [
        "from functools import partial\n",
        "\n",
        "import jax\n",
        "import jax.example_libraries.optimizers as opt\n",
        "import jax.numpy as jnp\n",
        "import matplotlib.pyplot as plt  # plotting\n",
        "import sax"
      ]
    },
    {
      "cell_type": "markdown",
      "id": "6a42b9d9",
      "metadata": {
        "papermill": {
          "duration": 0.001843,
          "end_time": "2023-09-02T18:51:03.020762",
          "exception": false,
          "start_time": "2023-09-02T18:51:03.018919",
          "status": "completed"
        },
        "tags": []
      },
      "source": [
        "## Parametrized Models"
      ]
    },
    {
      "cell_type": "code",
      "execution_count": 2,
      "id": "79e7e40e",
      "metadata": {
        "execution": {
          "iopub.execute_input": "2023-09-02T18:51:03.025157Z",
          "iopub.status.busy": "2023-09-02T18:51:03.024545Z",
          "iopub.status.idle": "2023-09-02T18:51:03.029407Z",
          "shell.execute_reply": "2023-09-02T18:51:03.028897Z"
        },
        "papermill": {
          "duration": 0.00848,
          "end_time": "2023-09-02T18:51:03.030743",
          "exception": false,
          "start_time": "2023-09-02T18:51:03.022263",
          "status": "completed"
        },
        "tags": []
      },
      "outputs": [],
      "source": [
        "def coupler(length=50.0) -> sax.SDict:\n",
        "    sdict =  {\n",
        "        (\"in0\", \"out0\"): length,\n",
        "        (\"in0\", \"out1\"): length,\n",
        "        (\"in1\", \"out0\"): length,\n",
        "        (\"in1\", \"out1\"): length,\n",
        "    }\n",
        "    return sax.reciprocal(sdict)"
      ]
    },
    {
      "cell_type": "code",
      "execution_count": 3,
      "id": "3248838c",
      "metadata": {
        "execution": {
          "iopub.execute_input": "2023-09-02T18:51:03.034655Z",
          "iopub.status.busy": "2023-09-02T18:51:03.034283Z",
          "iopub.status.idle": "2023-09-02T18:51:03.037351Z",
          "shell.execute_reply": "2023-09-02T18:51:03.036799Z"
        },
        "papermill": {
          "duration": 0.006437,
          "end_time": "2023-09-02T18:51:03.038594",
          "exception": false,
          "start_time": "2023-09-02T18:51:03.032157",
          "status": "completed"
        },
        "tags": []
      },
      "outputs": [],
      "source": [
        "def waveguide(length=100.0) -> sax.SDict:\n",
        "    sdict = {\n",
        "        (\"in0\", \"out0\"): length,\n",
        "    }\n",
        "    return sax.reciprocal(sdict)"
      ]
    },
    {
      "cell_type": "markdown",
      "id": "d650fb8d",
      "metadata": {
        "papermill": {
          "duration": 0.001406,
          "end_time": "2023-09-02T18:51:03.041433",
          "exception": false,
          "start_time": "2023-09-02T18:51:03.040027",
          "status": "completed"
        },
        "tags": []
      },
      "source": [
        "## Circuit with additive backend"
      ]
    },
    {
      "cell_type": "code",
      "execution_count": 4,
      "id": "56e035d0",
      "metadata": {
        "execution": {
          "iopub.execute_input": "2023-09-02T18:51:03.045620Z",
          "iopub.status.busy": "2023-09-02T18:51:03.045166Z",
          "iopub.status.idle": "2023-09-02T18:51:03.058316Z",
          "shell.execute_reply": "2023-09-02T18:51:03.057813Z"
        },
        "papermill": {
          "duration": 0.016622,
          "end_time": "2023-09-02T18:51:03.059518",
          "exception": false,
          "start_time": "2023-09-02T18:51:03.042896",
          "status": "completed"
        },
        "tags": []
      },
      "outputs": [],
      "source": [
        "mzi, _ = sax.circuit(\n",
        "    netlist={\n",
        "        \"instances\": {\n",
        "            \"lft\": coupler,\n",
        "            \"top\": partial(waveguide, length=500),\n",
        "            \"btm\": partial(waveguide, length=100),\n",
        "            \"rgt\": coupler,\n",
        "        },\n",
        "        \"connections\": {\n",
        "            \"lft,out0\": \"btm,in0\",\n",
        "            \"btm,out0\": \"rgt,in0\",\n",
        "            \"lft,out1\": \"top,in0\",\n",
        "            \"top,out0\": \"rgt,in1\",\n",
        "        },\n",
        "        \"ports\": {\n",
        "            \"in0\": \"lft,in0\",\n",
        "            \"in1\": \"lft,in1\",\n",
        "            \"out0\": \"rgt,out0\",\n",
        "            \"out1\": \"rgt,out1\",\n",
        "        },\n",
        "    },\n",
        "    backend=\"additive\",\n",
        ")"
      ]
    },
    {
      "cell_type": "code",
      "execution_count": 5,
      "id": "c1f245fd",
      "metadata": {
        "execution": {
          "iopub.execute_input": "2023-09-02T18:51:03.063663Z",
          "iopub.status.busy": "2023-09-02T18:51:03.063293Z",
          "iopub.status.idle": "2023-09-02T18:51:03.169938Z",
          "shell.execute_reply": "2023-09-02T18:51:03.169430Z"
        },
        "papermill": {
          "duration": 0.110236,
          "end_time": "2023-09-02T18:51:03.171306",
          "exception": false,
          "start_time": "2023-09-02T18:51:03.061070",
          "status": "completed"
        },
        "tags": []
      },
      "outputs": [
        {
          "data": {
            "text/plain": [
              "{('in0', 'out0'): [Array([200.], dtype=float64), Array([600.], dtype=float64)],\n",
              " ('in0', 'out1'): [Array([200.], dtype=float64), Array([600.], dtype=float64)],\n",
              " ('in1', 'out0'): [Array([200.], dtype=float64), Array([600.], dtype=float64)],\n",
              " ('in1', 'out1'): [Array([200.], dtype=float64), Array([600.], dtype=float64)],\n",
              " ('out0', 'in0'): [Array([200.], dtype=float64), Array([600.], dtype=float64)],\n",
              " ('out0', 'in1'): [Array([200.], dtype=float64), Array([600.], dtype=float64)],\n",
              " ('out1', 'in0'): [Array([200.], dtype=float64), Array([600.], dtype=float64)],\n",
              " ('out1', 'in1'): [Array([200.], dtype=float64), Array([600.], dtype=float64)]}"
            ]
          },
          "execution_count": 5,
          "metadata": {},
          "output_type": "execute_result"
        }
      ],
      "source": [
        "mzi()"
      ]
    }
  ],
  "metadata": {
    "kernelspec": {
      "display_name": "sax",
      "language": "python",
      "name": "sax"
    },
    "language_info": {
      "codemirror_mode": {
        "name": "ipython",
        "version": 3
      },
      "file_extension": ".py",
      "mimetype": "text/x-python",
      "name": "python",
      "nbconvert_exporter": "python",
      "pygments_lexer": "ipython3",
      "version": "3.11.5"
    },
    "papermill": {
      "default_parameters": {},
      "duration": 3.19599,
      "end_time": "2023-09-02T18:51:03.691076",
      "environment_variables": {},
      "exception": null,
      "input_path": "./examples/06_additive_backend.ipynb",
      "output_path": "./examples/06_additive_backend.ipynb",
      "parameters": {},
      "start_time": "2023-09-02T18:51:00.495086",
      "version": "2.4.0"
    }
  },
  "nbformat": 4,
  "nbformat_minor": 5
}