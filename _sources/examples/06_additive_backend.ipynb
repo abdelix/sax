{
  "cells": [
    {
      "cell_type": "markdown",
      "id": "6f097557",
      "metadata": {
        "papermill": {
          "duration": 0.002357,
          "end_time": "2023-09-01T18:10:11.619039",
          "exception": false,
          "start_time": "2023-09-01T18:10:11.616682",
          "status": "completed"
        },
        "tags": []
      },
      "source": [
        "# Additive Backend"
      ]
    },
    {
      "cell_type": "markdown",
      "id": "56868383",
      "metadata": {
        "papermill": {
          "duration": 0.001566,
          "end_time": "2023-09-01T18:10:11.622247",
          "exception": false,
          "start_time": "2023-09-01T18:10:11.620681",
          "status": "completed"
        },
        "tags": []
      },
      "source": [
        "> The additive backend can be used to obtain pathlengths and group delays."
      ]
    },
    {
      "cell_type": "code",
      "execution_count": 1,
      "id": "79c98bc0",
      "metadata": {
        "execution": {
          "iopub.execute_input": "2023-09-01T18:10:11.626556Z",
          "iopub.status.busy": "2023-09-01T18:10:11.625908Z",
          "iopub.status.idle": "2023-09-01T18:10:12.789505Z",
          "shell.execute_reply": "2023-09-01T18:10:12.788940Z"
        },
        "papermill": {
          "duration": 1.167459,
          "end_time": "2023-09-01T18:10:12.791071",
          "exception": false,
          "start_time": "2023-09-01T18:10:11.623612",
          "status": "completed"
        },
        "tags": []
      },
      "outputs": [],
      "source": [
        "from functools import partial\n",
        "\n",
        "import jax\n",
        "import jax.example_libraries.optimizers as opt\n",
        "import jax.numpy as jnp\n",
        "import matplotlib.pyplot as plt  # plotting\n",
        "import sax"
      ]
    },
    {
      "cell_type": "markdown",
      "id": "6a42b9d9",
      "metadata": {
        "papermill": {
          "duration": 0.002004,
          "end_time": "2023-09-01T18:10:12.794813",
          "exception": false,
          "start_time": "2023-09-01T18:10:12.792809",
          "status": "completed"
        },
        "tags": []
      },
      "source": [
        "## Parametrized Models"
      ]
    },
    {
      "cell_type": "code",
      "execution_count": 2,
      "id": "79e7e40e",
      "metadata": {
        "execution": {
          "iopub.execute_input": "2023-09-01T18:10:12.799200Z",
          "iopub.status.busy": "2023-09-01T18:10:12.798502Z",
          "iopub.status.idle": "2023-09-01T18:10:12.802393Z",
          "shell.execute_reply": "2023-09-01T18:10:12.801852Z"
        },
        "papermill": {
          "duration": 0.007282,
          "end_time": "2023-09-01T18:10:12.803576",
          "exception": false,
          "start_time": "2023-09-01T18:10:12.796294",
          "status": "completed"
        },
        "tags": []
      },
      "outputs": [],
      "source": [
        "def coupler(length=50.0) -> sax.SDict:\n",
        "    sdict =  {\n",
        "        (\"in0\", \"out0\"): length,\n",
        "        (\"in0\", \"out1\"): length,\n",
        "        (\"in1\", \"out0\"): length,\n",
        "        (\"in1\", \"out1\"): length,\n",
        "    }\n",
        "    return sax.reciprocal(sdict)"
      ]
    },
    {
      "cell_type": "code",
      "execution_count": 3,
      "id": "3248838c",
      "metadata": {
        "execution": {
          "iopub.execute_input": "2023-09-01T18:10:12.807525Z",
          "iopub.status.busy": "2023-09-01T18:10:12.807225Z",
          "iopub.status.idle": "2023-09-01T18:10:12.810333Z",
          "shell.execute_reply": "2023-09-01T18:10:12.809802Z"
        },
        "papermill": {
          "duration": 0.006545,
          "end_time": "2023-09-01T18:10:12.811591",
          "exception": false,
          "start_time": "2023-09-01T18:10:12.805046",
          "status": "completed"
        },
        "tags": []
      },
      "outputs": [],
      "source": [
        "def waveguide(length=100.0) -> sax.SDict:\n",
        "    sdict = {\n",
        "        (\"in0\", \"out0\"): length,\n",
        "    }\n",
        "    return sax.reciprocal(sdict)"
      ]
    },
    {
      "cell_type": "markdown",
      "id": "d650fb8d",
      "metadata": {
        "papermill": {
          "duration": 0.001426,
          "end_time": "2023-09-01T18:10:12.814494",
          "exception": false,
          "start_time": "2023-09-01T18:10:12.813068",
          "status": "completed"
        },
        "tags": []
      },
      "source": [
        "## Circuit with additive backend"
      ]
    },
    {
      "cell_type": "code",
      "execution_count": 4,
      "id": "56e035d0",
      "metadata": {
        "execution": {
          "iopub.execute_input": "2023-09-01T18:10:12.818674Z",
          "iopub.status.busy": "2023-09-01T18:10:12.818228Z",
          "iopub.status.idle": "2023-09-01T18:10:12.831299Z",
          "shell.execute_reply": "2023-09-01T18:10:12.830767Z"
        },
        "papermill": {
          "duration": 0.016524,
          "end_time": "2023-09-01T18:10:12.832485",
          "exception": false,
          "start_time": "2023-09-01T18:10:12.815961",
          "status": "completed"
        },
        "tags": []
      },
      "outputs": [],
      "source": [
        "mzi, _ = sax.circuit(\n",
        "    netlist={\n",
        "        \"instances\": {\n",
        "            \"lft\": coupler,\n",
        "            \"top\": partial(waveguide, length=500),\n",
        "            \"btm\": partial(waveguide, length=100),\n",
        "            \"rgt\": coupler,\n",
        "        },\n",
        "        \"connections\": {\n",
        "            \"lft,out0\": \"btm,in0\",\n",
        "            \"btm,out0\": \"rgt,in0\",\n",
        "            \"lft,out1\": \"top,in0\",\n",
        "            \"top,out0\": \"rgt,in1\",\n",
        "        },\n",
        "        \"ports\": {\n",
        "            \"in0\": \"lft,in0\",\n",
        "            \"in1\": \"lft,in1\",\n",
        "            \"out0\": \"rgt,out0\",\n",
        "            \"out1\": \"rgt,out1\",\n",
        "        },\n",
        "    },\n",
        "    backend=\"additive\",\n",
        ")"
      ]
    },
    {
      "cell_type": "code",
      "execution_count": 5,
      "id": "c1f245fd",
      "metadata": {
        "execution": {
          "iopub.execute_input": "2023-09-01T18:10:12.836693Z",
          "iopub.status.busy": "2023-09-01T18:10:12.836303Z",
          "iopub.status.idle": "2023-09-01T18:10:12.945852Z",
          "shell.execute_reply": "2023-09-01T18:10:12.945181Z"
        },
        "papermill": {
          "duration": 0.113495,
          "end_time": "2023-09-01T18:10:12.947568",
          "exception": false,
          "start_time": "2023-09-01T18:10:12.834073",
          "status": "completed"
        },
        "tags": []
      },
      "outputs": [
        {
          "data": {
            "text/plain": [
              "{('in0', 'out0'): [Array([200.], dtype=float64), Array([600.], dtype=float64)],\n",
              " ('in0', 'out1'): [Array([200.], dtype=float64), Array([600.], dtype=float64)],\n",
              " ('in1', 'out0'): [Array([200.], dtype=float64), Array([600.], dtype=float64)],\n",
              " ('in1', 'out1'): [Array([200.], dtype=float64), Array([600.], dtype=float64)],\n",
              " ('out0', 'in0'): [Array([200.], dtype=float64), Array([600.], dtype=float64)],\n",
              " ('out0', 'in1'): [Array([200.], dtype=float64), Array([600.], dtype=float64)],\n",
              " ('out1', 'in0'): [Array([200.], dtype=float64), Array([600.], dtype=float64)],\n",
              " ('out1', 'in1'): [Array([200.], dtype=float64), Array([600.], dtype=float64)]}"
            ]
          },
          "execution_count": 5,
          "metadata": {},
          "output_type": "execute_result"
        }
      ],
      "source": [
        "mzi()"
      ]
    }
  ],
  "metadata": {
    "kernelspec": {
      "display_name": "sax",
      "language": "python",
      "name": "sax"
    },
    "language_info": {
      "codemirror_mode": {
        "name": "ipython",
        "version": 3
      },
      "file_extension": ".py",
      "mimetype": "text/x-python",
      "name": "python",
      "nbconvert_exporter": "python",
      "pygments_lexer": "ipython3",
      "version": "3.11.5"
    },
    "papermill": {
      "default_parameters": {},
      "duration": 3.079895,
      "end_time": "2023-09-01T18:10:13.366512",
      "environment_variables": {},
      "exception": null,
      "input_path": "./examples/06_additive_backend.ipynb",
      "output_path": "./examples/06_additive_backend.ipynb",
      "parameters": {},
      "start_time": "2023-09-01T18:10:10.286617",
      "version": "2.4.0"
    }
  },
  "nbformat": 4,
  "nbformat_minor": 5
}