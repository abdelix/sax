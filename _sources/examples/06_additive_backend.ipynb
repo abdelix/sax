{
  "cells": [
    {
      "cell_type": "markdown",
      "id": "6f097557",
      "metadata": {
        "papermill": {
          "duration": 0.001853,
          "end_time": "2023-07-01T03:29:28.580473",
          "exception": false,
          "start_time": "2023-07-01T03:29:28.578620",
          "status": "completed"
        },
        "tags": []
      },
      "source": [
        "# Additive Backend"
      ]
    },
    {
      "cell_type": "markdown",
      "id": "56868383",
      "metadata": {
        "papermill": {
          "duration": 0.001519,
          "end_time": "2023-07-01T03:29:28.583674",
          "exception": false,
          "start_time": "2023-07-01T03:29:28.582155",
          "status": "completed"
        },
        "tags": []
      },
      "source": [
        "> The additive backend can be used to obtain pathlengths and group delays."
      ]
    },
    {
      "cell_type": "code",
      "execution_count": 1,
      "id": "79c98bc0",
      "metadata": {
        "execution": {
          "iopub.execute_input": "2023-07-01T03:29:28.587766Z",
          "iopub.status.busy": "2023-07-01T03:29:28.587316Z",
          "iopub.status.idle": "2023-07-01T03:29:29.644901Z",
          "shell.execute_reply": "2023-07-01T03:29:29.644408Z"
        },
        "papermill": {
          "duration": 1.061734,
          "end_time": "2023-07-01T03:29:29.646768",
          "exception": false,
          "start_time": "2023-07-01T03:29:28.585034",
          "status": "completed"
        },
        "tags": []
      },
      "outputs": [],
      "source": [
        "from functools import partial\n",
        "\n",
        "import jax\n",
        "import jax.example_libraries.optimizers as opt\n",
        "import jax.numpy as jnp\n",
        "import matplotlib.pyplot as plt  # plotting\n",
        "import sax"
      ]
    },
    {
      "cell_type": "markdown",
      "id": "6a42b9d9",
      "metadata": {
        "papermill": {
          "duration": 0.001595,
          "end_time": "2023-07-01T03:29:29.650604",
          "exception": false,
          "start_time": "2023-07-01T03:29:29.649009",
          "status": "completed"
        },
        "tags": []
      },
      "source": [
        "## Parametrized Models"
      ]
    },
    {
      "cell_type": "code",
      "execution_count": 2,
      "id": "79e7e40e",
      "metadata": {
        "execution": {
          "iopub.execute_input": "2023-07-01T03:29:29.654716Z",
          "iopub.status.busy": "2023-07-01T03:29:29.654404Z",
          "iopub.status.idle": "2023-07-01T03:29:29.658766Z",
          "shell.execute_reply": "2023-07-01T03:29:29.658181Z"
        },
        "papermill": {
          "duration": 0.007978,
          "end_time": "2023-07-01T03:29:29.659991",
          "exception": false,
          "start_time": "2023-07-01T03:29:29.652013",
          "status": "completed"
        },
        "tags": []
      },
      "outputs": [],
      "source": [
        "def coupler(length=50.0) -> sax.SDict:\n",
        "    sdict =  {\n",
        "        (\"in0\", \"out0\"): length,\n",
        "        (\"in0\", \"out1\"): length,\n",
        "        (\"in1\", \"out0\"): length,\n",
        "        (\"in1\", \"out1\"): length,\n",
        "    }\n",
        "    return sax.reciprocal(sdict)"
      ]
    },
    {
      "cell_type": "code",
      "execution_count": 3,
      "id": "3248838c",
      "metadata": {
        "execution": {
          "iopub.execute_input": "2023-07-01T03:29:29.664083Z",
          "iopub.status.busy": "2023-07-01T03:29:29.663870Z",
          "iopub.status.idle": "2023-07-01T03:29:29.670828Z",
          "shell.execute_reply": "2023-07-01T03:29:29.670272Z"
        },
        "papermill": {
          "duration": 0.010656,
          "end_time": "2023-07-01T03:29:29.672164",
          "exception": false,
          "start_time": "2023-07-01T03:29:29.661508",
          "status": "completed"
        },
        "tags": []
      },
      "outputs": [],
      "source": [
        "def waveguide(length=100.0) -> sax.SDict:\n",
        "    sdict = {\n",
        "        (\"in0\", \"out0\"): length,\n",
        "    }\n",
        "    return sax.reciprocal(sdict)"
      ]
    },
    {
      "cell_type": "markdown",
      "id": "d650fb8d",
      "metadata": {
        "papermill": {
          "duration": 0.001399,
          "end_time": "2023-07-01T03:29:29.675007",
          "exception": false,
          "start_time": "2023-07-01T03:29:29.673608",
          "status": "completed"
        },
        "tags": []
      },
      "source": [
        "## Circuit with additive backend"
      ]
    },
    {
      "cell_type": "code",
      "execution_count": 4,
      "id": "56e035d0",
      "metadata": {
        "execution": {
          "iopub.execute_input": "2023-07-01T03:29:29.678701Z",
          "iopub.status.busy": "2023-07-01T03:29:29.678508Z",
          "iopub.status.idle": "2023-07-01T03:29:29.696113Z",
          "shell.execute_reply": "2023-07-01T03:29:29.695668Z"
        },
        "papermill": {
          "duration": 0.021057,
          "end_time": "2023-07-01T03:29:29.697462",
          "exception": false,
          "start_time": "2023-07-01T03:29:29.676405",
          "status": "completed"
        },
        "tags": []
      },
      "outputs": [
        {
          "name": "stderr",
          "output_type": "stream",
          "text": [
            "No GPU/TPU found, falling back to CPU. (Set TF_CPP_MIN_LOG_LEVEL=0 and rerun for more info.)\n"
          ]
        }
      ],
      "source": [
        "mzi, _ = sax.circuit(\n",
        "    netlist={\n",
        "        \"instances\": {\n",
        "            \"lft\": coupler,\n",
        "            \"top\": partial(waveguide, length=500),\n",
        "            \"btm\": partial(waveguide, length=100),\n",
        "            \"rgt\": coupler,\n",
        "        },\n",
        "        \"connections\": {\n",
        "            \"lft,out0\": \"btm,in0\",\n",
        "            \"btm,out0\": \"rgt,in0\",\n",
        "            \"lft,out1\": \"top,in0\",\n",
        "            \"top,out0\": \"rgt,in1\",\n",
        "        },\n",
        "        \"ports\": {\n",
        "            \"in0\": \"lft,in0\",\n",
        "            \"in1\": \"lft,in1\",\n",
        "            \"out0\": \"rgt,out0\",\n",
        "            \"out1\": \"rgt,out1\",\n",
        "        },\n",
        "    },\n",
        "    backend=\"additive\",\n",
        ")"
      ]
    },
    {
      "cell_type": "code",
      "execution_count": 5,
      "id": "c1f245fd",
      "metadata": {
        "execution": {
          "iopub.execute_input": "2023-07-01T03:29:29.702751Z",
          "iopub.status.busy": "2023-07-01T03:29:29.701831Z",
          "iopub.status.idle": "2023-07-01T03:29:29.804399Z",
          "shell.execute_reply": "2023-07-01T03:29:29.803915Z"
        },
        "papermill": {
          "duration": 0.106705,
          "end_time": "2023-07-01T03:29:29.805815",
          "exception": false,
          "start_time": "2023-07-01T03:29:29.699110",
          "status": "completed"
        },
        "tags": []
      },
      "outputs": [
        {
          "data": {
            "text/plain": [
              "{('in0', 'out0'): [Array([200.], dtype=float32), Array([600.], dtype=float32)],\n",
              " ('in0', 'out1'): [Array([200.], dtype=float32), Array([600.], dtype=float32)],\n",
              " ('in1', 'out0'): [Array([200.], dtype=float32), Array([600.], dtype=float32)],\n",
              " ('in1', 'out1'): [Array([200.], dtype=float32), Array([600.], dtype=float32)],\n",
              " ('out0', 'in0'): [Array([200.], dtype=float32), Array([600.], dtype=float32)],\n",
              " ('out0', 'in1'): [Array([200.], dtype=float32), Array([600.], dtype=float32)],\n",
              " ('out1', 'in0'): [Array([200.], dtype=float32), Array([600.], dtype=float32)],\n",
              " ('out1', 'in1'): [Array([200.], dtype=float32), Array([600.], dtype=float32)]}"
            ]
          },
          "execution_count": 5,
          "metadata": {},
          "output_type": "execute_result"
        }
      ],
      "source": [
        "mzi()"
      ]
    }
  ],
  "metadata": {
    "kernelspec": {
      "display_name": "Python 3 (ipykernel)",
      "language": "python",
      "name": "python3"
    },
    "language_info": {
      "codemirror_mode": {
        "name": "ipython",
        "version": 3
      },
      "file_extension": ".py",
      "mimetype": "text/x-python",
      "name": "python",
      "nbconvert_exporter": "python",
      "pygments_lexer": "ipython3",
      "version": "3.11.4"
    },
    "papermill": {
      "default_parameters": {},
      "duration": 2.85763,
      "end_time": "2023-07-01T03:29:30.126023",
      "environment_variables": {},
      "exception": null,
      "input_path": "./examples/06_additive_backend.ipynb",
      "output_path": "./examples/06_additive_backend.ipynb",
      "parameters": {},
      "start_time": "2023-07-01T03:29:27.268393",
      "version": "2.3.4"
    }
  },
  "nbformat": 4,
  "nbformat_minor": 5
}