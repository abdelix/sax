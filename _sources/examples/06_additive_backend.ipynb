{
  "cells": [
    {
      "cell_type": "markdown",
      "id": "6f097557",
      "metadata": {
        "papermill": {
          "duration": 0.002569,
          "end_time": "2023-11-29T17:01:04.941223",
          "exception": false,
          "start_time": "2023-11-29T17:01:04.938654",
          "status": "completed"
        },
        "tags": []
      },
      "source": [
        "# Additive Backend"
      ]
    },
    {
      "cell_type": "markdown",
      "id": "56868383",
      "metadata": {
        "papermill": {
          "duration": 0.001232,
          "end_time": "2023-11-29T17:01:04.943771",
          "exception": false,
          "start_time": "2023-11-29T17:01:04.942539",
          "status": "completed"
        },
        "tags": []
      },
      "source": [
        "> The additive backend can be used to obtain pathlengths and group delays."
      ]
    },
    {
      "cell_type": "code",
      "execution_count": 1,
      "id": "79c98bc0",
      "metadata": {
        "execution": {
          "iopub.execute_input": "2023-11-29T17:01:04.947213Z",
          "iopub.status.busy": "2023-11-29T17:01:04.946761Z",
          "iopub.status.idle": "2023-11-29T17:01:05.912606Z",
          "shell.execute_reply": "2023-11-29T17:01:05.912033Z"
        },
        "papermill": {
          "duration": 0.969216,
          "end_time": "2023-11-29T17:01:05.914160",
          "exception": false,
          "start_time": "2023-11-29T17:01:04.944944",
          "status": "completed"
        },
        "tags": []
      },
      "outputs": [],
      "source": [
        "from functools import partial\n",
        "\n",
        "import jax\n",
        "import jax.example_libraries.optimizers as opt\n",
        "import jax.numpy as jnp\n",
        "import matplotlib.pyplot as plt  # plotting\n",
        "import sax"
      ]
    },
    {
      "cell_type": "markdown",
      "id": "6a42b9d9",
      "metadata": {
        "papermill": {
          "duration": 0.001533,
          "end_time": "2023-11-29T17:01:05.917298",
          "exception": false,
          "start_time": "2023-11-29T17:01:05.915765",
          "status": "completed"
        },
        "tags": []
      },
      "source": [
        "## Parametrized Models"
      ]
    },
    {
      "cell_type": "code",
      "execution_count": 2,
      "id": "79e7e40e",
      "metadata": {
        "execution": {
          "iopub.execute_input": "2023-11-29T17:01:05.920939Z",
          "iopub.status.busy": "2023-11-29T17:01:05.920449Z",
          "iopub.status.idle": "2023-11-29T17:01:05.923834Z",
          "shell.execute_reply": "2023-11-29T17:01:05.923358Z"
        },
        "papermill": {
          "duration": 0.006506,
          "end_time": "2023-11-29T17:01:05.925019",
          "exception": false,
          "start_time": "2023-11-29T17:01:05.918513",
          "status": "completed"
        },
        "tags": []
      },
      "outputs": [],
      "source": [
        "def coupler(length=50.0) -> sax.SDict:\n",
        "    sdict =  {\n",
        "        (\"in0\", \"out0\"): length,\n",
        "        (\"in0\", \"out1\"): length,\n",
        "        (\"in1\", \"out0\"): length,\n",
        "        (\"in1\", \"out1\"): length,\n",
        "    }\n",
        "    return sax.reciprocal(sdict)"
      ]
    },
    {
      "cell_type": "code",
      "execution_count": 3,
      "id": "3248838c",
      "metadata": {
        "execution": {
          "iopub.execute_input": "2023-11-29T17:01:05.928447Z",
          "iopub.status.busy": "2023-11-29T17:01:05.928102Z",
          "iopub.status.idle": "2023-11-29T17:01:05.931119Z",
          "shell.execute_reply": "2023-11-29T17:01:05.930559Z"
        },
        "papermill": {
          "duration": 0.006004,
          "end_time": "2023-11-29T17:01:05.932288",
          "exception": false,
          "start_time": "2023-11-29T17:01:05.926284",
          "status": "completed"
        },
        "tags": []
      },
      "outputs": [],
      "source": [
        "def waveguide(length=100.0) -> sax.SDict:\n",
        "    sdict = {\n",
        "        (\"in0\", \"out0\"): length,\n",
        "    }\n",
        "    return sax.reciprocal(sdict)"
      ]
    },
    {
      "cell_type": "markdown",
      "id": "d650fb8d",
      "metadata": {
        "papermill": {
          "duration": 0.001234,
          "end_time": "2023-11-29T17:01:05.934807",
          "exception": false,
          "start_time": "2023-11-29T17:01:05.933573",
          "status": "completed"
        },
        "tags": []
      },
      "source": [
        "## Circuit with additive backend"
      ]
    },
    {
      "cell_type": "code",
      "execution_count": 4,
      "id": "56e035d0",
      "metadata": {
        "execution": {
          "iopub.execute_input": "2023-11-29T17:01:05.938255Z",
          "iopub.status.busy": "2023-11-29T17:01:05.937921Z",
          "iopub.status.idle": "2023-11-29T17:01:05.971915Z",
          "shell.execute_reply": "2023-11-29T17:01:05.971295Z"
        },
        "papermill": {
          "duration": 0.037507,
          "end_time": "2023-11-29T17:01:05.973592",
          "exception": false,
          "start_time": "2023-11-29T17:01:05.936085",
          "status": "completed"
        },
        "tags": []
      },
      "outputs": [],
      "source": [
        "mzi, _ = sax.circuit(\n",
        "    netlist={\n",
        "        \"instances\": {\n",
        "            \"lft\": coupler,\n",
        "            \"top\": partial(waveguide, length=500),\n",
        "            \"btm\": partial(waveguide, length=100),\n",
        "            \"rgt\": coupler,\n",
        "        },\n",
        "        \"connections\": {\n",
        "            \"lft,out0\": \"btm,in0\",\n",
        "            \"btm,out0\": \"rgt,in0\",\n",
        "            \"lft,out1\": \"top,in0\",\n",
        "            \"top,out0\": \"rgt,in1\",\n",
        "        },\n",
        "        \"ports\": {\n",
        "            \"in0\": \"lft,in0\",\n",
        "            \"in1\": \"lft,in1\",\n",
        "            \"out0\": \"rgt,out0\",\n",
        "            \"out1\": \"rgt,out1\",\n",
        "        },\n",
        "    },\n",
        "    backend=\"additive\",\n",
        ")"
      ]
    },
    {
      "cell_type": "code",
      "execution_count": 5,
      "id": "c1f245fd",
      "metadata": {
        "execution": {
          "iopub.execute_input": "2023-11-29T17:01:05.977446Z",
          "iopub.status.busy": "2023-11-29T17:01:05.977003Z",
          "iopub.status.idle": "2023-11-29T17:01:06.063040Z",
          "shell.execute_reply": "2023-11-29T17:01:06.062495Z"
        },
        "papermill": {
          "duration": 0.089208,
          "end_time": "2023-11-29T17:01:06.064234",
          "exception": false,
          "start_time": "2023-11-29T17:01:05.975026",
          "status": "completed"
        },
        "tags": []
      },
      "outputs": [
        {
          "data": {
            "text/plain": [
              "{('in0', 'out0'): [Array([200.], dtype=float64), Array([600.], dtype=float64)],\n",
              " ('in0', 'out1'): [Array([200.], dtype=float64), Array([600.], dtype=float64)],\n",
              " ('in1', 'out0'): [Array([200.], dtype=float64), Array([600.], dtype=float64)],\n",
              " ('in1', 'out1'): [Array([200.], dtype=float64), Array([600.], dtype=float64)],\n",
              " ('out0', 'in0'): [Array([200.], dtype=float64), Array([600.], dtype=float64)],\n",
              " ('out0', 'in1'): [Array([200.], dtype=float64), Array([600.], dtype=float64)],\n",
              " ('out1', 'in0'): [Array([200.], dtype=float64), Array([600.], dtype=float64)],\n",
              " ('out1', 'in1'): [Array([200.], dtype=float64), Array([600.], dtype=float64)]}"
            ]
          },
          "execution_count": 5,
          "metadata": {},
          "output_type": "execute_result"
        }
      ],
      "source": [
        "mzi()"
      ]
    }
  ],
  "metadata": {
    "kernelspec": {
      "display_name": "sax",
      "language": "python",
      "name": "sax"
    },
    "language_info": {
      "codemirror_mode": {
        "name": "ipython",
        "version": 3
      },
      "file_extension": ".py",
      "mimetype": "text/x-python",
      "name": "python",
      "nbconvert_exporter": "python",
      "pygments_lexer": "ipython3",
      "version": "3.10.12"
    },
    "papermill": {
      "default_parameters": {},
      "duration": 2.361553,
      "end_time": "2023-11-29T17:01:06.381991",
      "environment_variables": {},
      "exception": null,
      "input_path": "./examples/06_additive_backend.ipynb",
      "output_path": "./examples/06_additive_backend.ipynb",
      "parameters": {},
      "start_time": "2023-11-29T17:01:04.020438",
      "version": "2.4.0"
    }
  },
  "nbformat": 4,
  "nbformat_minor": 5
}