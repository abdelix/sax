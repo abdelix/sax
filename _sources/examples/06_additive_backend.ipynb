{
  "cells": [
    {
      "cell_type": "markdown",
      "id": "6f097557",
      "metadata": {
        "papermill": {
          "duration": 0.001865,
          "end_time": "2024-03-07T03:34:00.242887",
          "exception": false,
          "start_time": "2024-03-07T03:34:00.241022",
          "status": "completed"
        },
        "tags": []
      },
      "source": [
        "# Additive Backend"
      ]
    },
    {
      "cell_type": "markdown",
      "id": "56868383",
      "metadata": {
        "papermill": {
          "duration": 0.001243,
          "end_time": "2024-03-07T03:34:00.245534",
          "exception": false,
          "start_time": "2024-03-07T03:34:00.244291",
          "status": "completed"
        },
        "tags": []
      },
      "source": [
        "> The additive backend can be used to obtain pathlengths and group delays."
      ]
    },
    {
      "cell_type": "code",
      "execution_count": 1,
      "id": "79c98bc0",
      "metadata": {
        "execution": {
          "iopub.execute_input": "2024-03-07T03:34:00.249276Z",
          "iopub.status.busy": "2024-03-07T03:34:00.248857Z",
          "iopub.status.idle": "2024-03-07T03:34:01.254437Z",
          "shell.execute_reply": "2024-03-07T03:34:01.253860Z"
        },
        "papermill": {
          "duration": 1.009092,
          "end_time": "2024-03-07T03:34:01.255842",
          "exception": false,
          "start_time": "2024-03-07T03:34:00.246750",
          "status": "completed"
        },
        "tags": []
      },
      "outputs": [],
      "source": [
        "from functools import partial\n",
        "\n",
        "import jax\n",
        "import jax.example_libraries.optimizers as opt\n",
        "import jax.numpy as jnp\n",
        "import matplotlib.pyplot as plt  # plotting\n",
        "import sax"
      ]
    },
    {
      "cell_type": "markdown",
      "id": "6a42b9d9",
      "metadata": {
        "papermill": {
          "duration": 0.001404,
          "end_time": "2024-03-07T03:34:01.258788",
          "exception": false,
          "start_time": "2024-03-07T03:34:01.257384",
          "status": "completed"
        },
        "tags": []
      },
      "source": [
        "## Parametrized Models"
      ]
    },
    {
      "cell_type": "code",
      "execution_count": 2,
      "id": "79e7e40e",
      "metadata": {
        "execution": {
          "iopub.execute_input": "2024-03-07T03:34:01.262925Z",
          "iopub.status.busy": "2024-03-07T03:34:01.262356Z",
          "iopub.status.idle": "2024-03-07T03:34:01.265926Z",
          "shell.execute_reply": "2024-03-07T03:34:01.265378Z"
        },
        "papermill": {
          "duration": 0.006906,
          "end_time": "2024-03-07T03:34:01.267037",
          "exception": false,
          "start_time": "2024-03-07T03:34:01.260131",
          "status": "completed"
        },
        "tags": []
      },
      "outputs": [],
      "source": [
        "def coupler(length=50.0) -> sax.SDict:\n",
        "    sdict = {\n",
        "        (\"in0\", \"out0\"): length,\n",
        "        (\"in0\", \"out1\"): length,\n",
        "        (\"in1\", \"out0\"): length,\n",
        "        (\"in1\", \"out1\"): length,\n",
        "    }\n",
        "    return sax.reciprocal(sdict)"
      ]
    },
    {
      "cell_type": "code",
      "execution_count": 3,
      "id": "3248838c",
      "metadata": {
        "execution": {
          "iopub.execute_input": "2024-03-07T03:34:01.270442Z",
          "iopub.status.busy": "2024-03-07T03:34:01.270100Z",
          "iopub.status.idle": "2024-03-07T03:34:01.272905Z",
          "shell.execute_reply": "2024-03-07T03:34:01.272417Z"
        },
        "papermill": {
          "duration": 0.005751,
          "end_time": "2024-03-07T03:34:01.273995",
          "exception": false,
          "start_time": "2024-03-07T03:34:01.268244",
          "status": "completed"
        },
        "tags": []
      },
      "outputs": [],
      "source": [
        "def waveguide(length=100.0) -> sax.SDict:\n",
        "    sdict = {\n",
        "        (\"in0\", \"out0\"): length,\n",
        "    }\n",
        "    return sax.reciprocal(sdict)"
      ]
    },
    {
      "cell_type": "markdown",
      "id": "d650fb8d",
      "metadata": {
        "papermill": {
          "duration": 0.001222,
          "end_time": "2024-03-07T03:34:01.276476",
          "exception": false,
          "start_time": "2024-03-07T03:34:01.275254",
          "status": "completed"
        },
        "tags": []
      },
      "source": [
        "## Circuit with additive backend"
      ]
    },
    {
      "cell_type": "code",
      "execution_count": 4,
      "id": "56e035d0",
      "metadata": {
        "execution": {
          "iopub.execute_input": "2024-03-07T03:34:01.279688Z",
          "iopub.status.busy": "2024-03-07T03:34:01.279505Z",
          "iopub.status.idle": "2024-03-07T03:34:01.314868Z",
          "shell.execute_reply": "2024-03-07T03:34:01.314374Z"
        },
        "papermill": {
          "duration": 0.038534,
          "end_time": "2024-03-07T03:34:01.316224",
          "exception": false,
          "start_time": "2024-03-07T03:34:01.277690",
          "status": "completed"
        },
        "tags": []
      },
      "outputs": [],
      "source": [
        "mzi, _ = sax.circuit(\n",
        "    netlist={\n",
        "        \"instances\": {\n",
        "            \"lft\": coupler,\n",
        "            \"top\": partial(waveguide, length=500),\n",
        "            \"btm\": partial(waveguide, length=100),\n",
        "            \"rgt\": coupler,\n",
        "        },\n",
        "        \"connections\": {\n",
        "            \"lft,out0\": \"btm,in0\",\n",
        "            \"btm,out0\": \"rgt,in0\",\n",
        "            \"lft,out1\": \"top,in0\",\n",
        "            \"top,out0\": \"rgt,in1\",\n",
        "        },\n",
        "        \"ports\": {\n",
        "            \"in0\": \"lft,in0\",\n",
        "            \"in1\": \"lft,in1\",\n",
        "            \"out0\": \"rgt,out0\",\n",
        "            \"out1\": \"rgt,out1\",\n",
        "        },\n",
        "    },\n",
        "    backend=\"additive\",\n",
        ")"
      ]
    },
    {
      "cell_type": "code",
      "execution_count": 5,
      "id": "c1f245fd",
      "metadata": {
        "execution": {
          "iopub.execute_input": "2024-03-07T03:34:01.320196Z",
          "iopub.status.busy": "2024-03-07T03:34:01.319695Z",
          "iopub.status.idle": "2024-03-07T03:34:01.412180Z",
          "shell.execute_reply": "2024-03-07T03:34:01.411569Z"
        },
        "papermill": {
          "duration": 0.095847,
          "end_time": "2024-03-07T03:34:01.413520",
          "exception": false,
          "start_time": "2024-03-07T03:34:01.317673",
          "status": "completed"
        },
        "tags": []
      },
      "outputs": [
        {
          "data": {
            "text/plain": [
              "{('in0', 'out0'): [Array([200.], dtype=float64), Array([600.], dtype=float64)],\n",
              " ('in0', 'out1'): [Array([200.], dtype=float64), Array([600.], dtype=float64)],\n",
              " ('in1', 'out0'): [Array([200.], dtype=float64), Array([600.], dtype=float64)],\n",
              " ('in1', 'out1'): [Array([200.], dtype=float64), Array([600.], dtype=float64)],\n",
              " ('out0', 'in0'): [Array([200.], dtype=float64), Array([600.], dtype=float64)],\n",
              " ('out0', 'in1'): [Array([200.], dtype=float64), Array([600.], dtype=float64)],\n",
              " ('out1', 'in0'): [Array([200.], dtype=float64), Array([600.], dtype=float64)],\n",
              " ('out1', 'in1'): [Array([200.], dtype=float64), Array([600.], dtype=float64)]}"
            ]
          },
          "execution_count": 5,
          "metadata": {},
          "output_type": "execute_result"
        }
      ],
      "source": [
        "mzi()"
      ]
    }
  ],
  "metadata": {
    "kernelspec": {
      "display_name": "Python 3 (ipykernel)",
      "language": "python",
      "name": "python3"
    },
    "language_info": {
      "codemirror_mode": {
        "name": "ipython",
        "version": 3
      },
      "file_extension": ".py",
      "mimetype": "text/x-python",
      "name": "python",
      "nbconvert_exporter": "python",
      "pygments_lexer": "ipython3",
      "version": "3.10.13"
    },
    "papermill": {
      "default_parameters": {},
      "duration": 2.309408,
      "end_time": "2024-03-07T03:34:01.731239",
      "environment_variables": {},
      "exception": null,
      "input_path": "./examples/06_additive_backend.ipynb",
      "output_path": "./examples/06_additive_backend.ipynb",
      "parameters": {},
      "start_time": "2024-03-07T03:33:59.421831",
      "version": "2.4.0"
    }
  },
  "nbformat": 4,
  "nbformat_minor": 5
}