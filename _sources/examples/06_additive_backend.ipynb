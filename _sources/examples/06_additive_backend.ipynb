{
  "cells": [
    {
      "cell_type": "markdown",
      "id": "6f097557",
      "metadata": {
        "papermill": {
          "duration": 0.002185,
          "end_time": "2023-09-03T17:25:37.708042",
          "exception": false,
          "start_time": "2023-09-03T17:25:37.705857",
          "status": "completed"
        },
        "tags": []
      },
      "source": [
        "# Additive Backend"
      ]
    },
    {
      "cell_type": "markdown",
      "id": "56868383",
      "metadata": {
        "papermill": {
          "duration": 0.001546,
          "end_time": "2023-09-03T17:25:37.712300",
          "exception": false,
          "start_time": "2023-09-03T17:25:37.710754",
          "status": "completed"
        },
        "tags": []
      },
      "source": [
        "> The additive backend can be used to obtain pathlengths and group delays."
      ]
    },
    {
      "cell_type": "code",
      "execution_count": 1,
      "id": "79c98bc0",
      "metadata": {
        "execution": {
          "iopub.execute_input": "2023-09-03T17:25:37.716682Z",
          "iopub.status.busy": "2023-09-03T17:25:37.716171Z",
          "iopub.status.idle": "2023-09-03T17:25:38.822280Z",
          "shell.execute_reply": "2023-09-03T17:25:38.821684Z"
        },
        "papermill": {
          "duration": 1.110087,
          "end_time": "2023-09-03T17:25:38.823885",
          "exception": false,
          "start_time": "2023-09-03T17:25:37.713798",
          "status": "completed"
        },
        "tags": []
      },
      "outputs": [],
      "source": [
        "from functools import partial\n",
        "\n",
        "import jax\n",
        "import jax.example_libraries.optimizers as opt\n",
        "import jax.numpy as jnp\n",
        "import matplotlib.pyplot as plt  # plotting\n",
        "import sax"
      ]
    },
    {
      "cell_type": "markdown",
      "id": "6a42b9d9",
      "metadata": {
        "papermill": {
          "duration": 0.001687,
          "end_time": "2023-09-03T17:25:38.827380",
          "exception": false,
          "start_time": "2023-09-03T17:25:38.825693",
          "status": "completed"
        },
        "tags": []
      },
      "source": [
        "## Parametrized Models"
      ]
    },
    {
      "cell_type": "code",
      "execution_count": 2,
      "id": "79e7e40e",
      "metadata": {
        "execution": {
          "iopub.execute_input": "2023-09-03T17:25:38.831709Z",
          "iopub.status.busy": "2023-09-03T17:25:38.831178Z",
          "iopub.status.idle": "2023-09-03T17:25:38.835829Z",
          "shell.execute_reply": "2023-09-03T17:25:38.835237Z"
        },
        "papermill": {
          "duration": 0.008369,
          "end_time": "2023-09-03T17:25:38.837298",
          "exception": false,
          "start_time": "2023-09-03T17:25:38.828929",
          "status": "completed"
        },
        "tags": []
      },
      "outputs": [],
      "source": [
        "def coupler(length=50.0) -> sax.SDict:\n",
        "    sdict =  {\n",
        "        (\"in0\", \"out0\"): length,\n",
        "        (\"in0\", \"out1\"): length,\n",
        "        (\"in1\", \"out0\"): length,\n",
        "        (\"in1\", \"out1\"): length,\n",
        "    }\n",
        "    return sax.reciprocal(sdict)"
      ]
    },
    {
      "cell_type": "code",
      "execution_count": 3,
      "id": "3248838c",
      "metadata": {
        "execution": {
          "iopub.execute_input": "2023-09-03T17:25:38.841432Z",
          "iopub.status.busy": "2023-09-03T17:25:38.840957Z",
          "iopub.status.idle": "2023-09-03T17:25:38.844092Z",
          "shell.execute_reply": "2023-09-03T17:25:38.843526Z"
        },
        "papermill": {
          "duration": 0.006708,
          "end_time": "2023-09-03T17:25:38.845512",
          "exception": false,
          "start_time": "2023-09-03T17:25:38.838804",
          "status": "completed"
        },
        "tags": []
      },
      "outputs": [],
      "source": [
        "def waveguide(length=100.0) -> sax.SDict:\n",
        "    sdict = {\n",
        "        (\"in0\", \"out0\"): length,\n",
        "    }\n",
        "    return sax.reciprocal(sdict)"
      ]
    },
    {
      "cell_type": "markdown",
      "id": "d650fb8d",
      "metadata": {
        "papermill": {
          "duration": 0.001461,
          "end_time": "2023-09-03T17:25:38.848515",
          "exception": false,
          "start_time": "2023-09-03T17:25:38.847054",
          "status": "completed"
        },
        "tags": []
      },
      "source": [
        "## Circuit with additive backend"
      ]
    },
    {
      "cell_type": "code",
      "execution_count": 4,
      "id": "56e035d0",
      "metadata": {
        "execution": {
          "iopub.execute_input": "2023-09-03T17:25:38.852474Z",
          "iopub.status.busy": "2023-09-03T17:25:38.852273Z",
          "iopub.status.idle": "2023-09-03T17:25:38.865483Z",
          "shell.execute_reply": "2023-09-03T17:25:38.864636Z"
        },
        "papermill": {
          "duration": 0.016732,
          "end_time": "2023-09-03T17:25:38.866775",
          "exception": false,
          "start_time": "2023-09-03T17:25:38.850043",
          "status": "completed"
        },
        "tags": []
      },
      "outputs": [],
      "source": [
        "mzi, _ = sax.circuit(\n",
        "    netlist={\n",
        "        \"instances\": {\n",
        "            \"lft\": coupler,\n",
        "            \"top\": partial(waveguide, length=500),\n",
        "            \"btm\": partial(waveguide, length=100),\n",
        "            \"rgt\": coupler,\n",
        "        },\n",
        "        \"connections\": {\n",
        "            \"lft,out0\": \"btm,in0\",\n",
        "            \"btm,out0\": \"rgt,in0\",\n",
        "            \"lft,out1\": \"top,in0\",\n",
        "            \"top,out0\": \"rgt,in1\",\n",
        "        },\n",
        "        \"ports\": {\n",
        "            \"in0\": \"lft,in0\",\n",
        "            \"in1\": \"lft,in1\",\n",
        "            \"out0\": \"rgt,out0\",\n",
        "            \"out1\": \"rgt,out1\",\n",
        "        },\n",
        "    },\n",
        "    backend=\"additive\",\n",
        ")"
      ]
    },
    {
      "cell_type": "code",
      "execution_count": 5,
      "id": "c1f245fd",
      "metadata": {
        "execution": {
          "iopub.execute_input": "2023-09-03T17:25:38.870931Z",
          "iopub.status.busy": "2023-09-03T17:25:38.870548Z",
          "iopub.status.idle": "2023-09-03T17:25:38.971622Z",
          "shell.execute_reply": "2023-09-03T17:25:38.971139Z"
        },
        "papermill": {
          "duration": 0.104551,
          "end_time": "2023-09-03T17:25:38.972922",
          "exception": false,
          "start_time": "2023-09-03T17:25:38.868371",
          "status": "completed"
        },
        "tags": []
      },
      "outputs": [
        {
          "data": {
            "text/plain": [
              "{('in0', 'out0'): [Array([200.], dtype=float64), Array([600.], dtype=float64)],\n",
              " ('in0', 'out1'): [Array([200.], dtype=float64), Array([600.], dtype=float64)],\n",
              " ('in1', 'out0'): [Array([200.], dtype=float64), Array([600.], dtype=float64)],\n",
              " ('in1', 'out1'): [Array([200.], dtype=float64), Array([600.], dtype=float64)],\n",
              " ('out0', 'in0'): [Array([200.], dtype=float64), Array([600.], dtype=float64)],\n",
              " ('out0', 'in1'): [Array([200.], dtype=float64), Array([600.], dtype=float64)],\n",
              " ('out1', 'in0'): [Array([200.], dtype=float64), Array([600.], dtype=float64)],\n",
              " ('out1', 'in1'): [Array([200.], dtype=float64), Array([600.], dtype=float64)]}"
            ]
          },
          "execution_count": 5,
          "metadata": {},
          "output_type": "execute_result"
        }
      ],
      "source": [
        "mzi()"
      ]
    }
  ],
  "metadata": {
    "kernelspec": {
      "display_name": "sax",
      "language": "python",
      "name": "sax"
    },
    "language_info": {
      "codemirror_mode": {
        "name": "ipython",
        "version": 3
      },
      "file_extension": ".py",
      "mimetype": "text/x-python",
      "name": "python",
      "nbconvert_exporter": "python",
      "pygments_lexer": "ipython3",
      "version": "3.10.12"
    },
    "papermill": {
      "default_parameters": {},
      "duration": 2.876153,
      "end_time": "2023-09-03T17:25:39.291347",
      "environment_variables": {},
      "exception": null,
      "input_path": "./examples/06_additive_backend.ipynb",
      "output_path": "./examples/06_additive_backend.ipynb",
      "parameters": {},
      "start_time": "2023-09-03T17:25:36.415194",
      "version": "2.4.0"
    }
  },
  "nbformat": 4,
  "nbformat_minor": 5
}