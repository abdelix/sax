{
  "cells": [
    {
      "cell_type": "markdown",
      "id": "6f097557",
      "metadata": {
        "papermill": {
          "duration": 0.002484,
          "end_time": "2024-02-20T02:32:04.329220",
          "exception": false,
          "start_time": "2024-02-20T02:32:04.326736",
          "status": "completed"
        },
        "tags": []
      },
      "source": [
        "# Additive Backend"
      ]
    },
    {
      "cell_type": "markdown",
      "id": "56868383",
      "metadata": {
        "papermill": {
          "duration": 0.001231,
          "end_time": "2024-02-20T02:32:04.332093",
          "exception": false,
          "start_time": "2024-02-20T02:32:04.330862",
          "status": "completed"
        },
        "tags": []
      },
      "source": [
        "> The additive backend can be used to obtain pathlengths and group delays."
      ]
    },
    {
      "cell_type": "code",
      "execution_count": 1,
      "id": "79c98bc0",
      "metadata": {
        "execution": {
          "iopub.execute_input": "2024-02-20T02:32:04.335768Z",
          "iopub.status.busy": "2024-02-20T02:32:04.335324Z",
          "iopub.status.idle": "2024-02-20T02:32:05.341660Z",
          "shell.execute_reply": "2024-02-20T02:32:05.341097Z"
        },
        "papermill": {
          "duration": 1.009888,
          "end_time": "2024-02-20T02:32:05.343145",
          "exception": false,
          "start_time": "2024-02-20T02:32:04.333257",
          "status": "completed"
        },
        "tags": []
      },
      "outputs": [],
      "source": [
        "from functools import partial\n",
        "\n",
        "import jax\n",
        "import jax.example_libraries.optimizers as opt\n",
        "import jax.numpy as jnp\n",
        "import matplotlib.pyplot as plt  # plotting\n",
        "import sax"
      ]
    },
    {
      "cell_type": "markdown",
      "id": "6a42b9d9",
      "metadata": {
        "papermill": {
          "duration": 0.001392,
          "end_time": "2024-02-20T02:32:05.346064",
          "exception": false,
          "start_time": "2024-02-20T02:32:05.344672",
          "status": "completed"
        },
        "tags": []
      },
      "source": [
        "## Parametrized Models"
      ]
    },
    {
      "cell_type": "code",
      "execution_count": 2,
      "id": "79e7e40e",
      "metadata": {
        "execution": {
          "iopub.execute_input": "2024-02-20T02:32:05.349733Z",
          "iopub.status.busy": "2024-02-20T02:32:05.349237Z",
          "iopub.status.idle": "2024-02-20T02:32:05.352681Z",
          "shell.execute_reply": "2024-02-20T02:32:05.352198Z"
        },
        "papermill": {
          "duration": 0.00645,
          "end_time": "2024-02-20T02:32:05.353742",
          "exception": false,
          "start_time": "2024-02-20T02:32:05.347292",
          "status": "completed"
        },
        "tags": []
      },
      "outputs": [],
      "source": [
        "def coupler(length=50.0) -> sax.SDict:\n",
        "    sdict = {\n",
        "        (\"in0\", \"out0\"): length,\n",
        "        (\"in0\", \"out1\"): length,\n",
        "        (\"in1\", \"out0\"): length,\n",
        "        (\"in1\", \"out1\"): length,\n",
        "    }\n",
        "    return sax.reciprocal(sdict)"
      ]
    },
    {
      "cell_type": "code",
      "execution_count": 3,
      "id": "3248838c",
      "metadata": {
        "execution": {
          "iopub.execute_input": "2024-02-20T02:32:05.357071Z",
          "iopub.status.busy": "2024-02-20T02:32:05.356724Z",
          "iopub.status.idle": "2024-02-20T02:32:05.359529Z",
          "shell.execute_reply": "2024-02-20T02:32:05.359040Z"
        },
        "papermill": {
          "duration": 0.005668,
          "end_time": "2024-02-20T02:32:05.360657",
          "exception": false,
          "start_time": "2024-02-20T02:32:05.354989",
          "status": "completed"
        },
        "tags": []
      },
      "outputs": [],
      "source": [
        "def waveguide(length=100.0) -> sax.SDict:\n",
        "    sdict = {\n",
        "        (\"in0\", \"out0\"): length,\n",
        "    }\n",
        "    return sax.reciprocal(sdict)"
      ]
    },
    {
      "cell_type": "markdown",
      "id": "d650fb8d",
      "metadata": {
        "papermill": {
          "duration": 0.001268,
          "end_time": "2024-02-20T02:32:05.363187",
          "exception": false,
          "start_time": "2024-02-20T02:32:05.361919",
          "status": "completed"
        },
        "tags": []
      },
      "source": [
        "## Circuit with additive backend"
      ]
    },
    {
      "cell_type": "code",
      "execution_count": 4,
      "id": "56e035d0",
      "metadata": {
        "execution": {
          "iopub.execute_input": "2024-02-20T02:32:05.366683Z",
          "iopub.status.busy": "2024-02-20T02:32:05.366325Z",
          "iopub.status.idle": "2024-02-20T02:32:05.401958Z",
          "shell.execute_reply": "2024-02-20T02:32:05.401461Z"
        },
        "papermill": {
          "duration": 0.038883,
          "end_time": "2024-02-20T02:32:05.403371",
          "exception": false,
          "start_time": "2024-02-20T02:32:05.364488",
          "status": "completed"
        },
        "tags": []
      },
      "outputs": [],
      "source": [
        "mzi, _ = sax.circuit(\n",
        "    netlist={\n",
        "        \"instances\": {\n",
        "            \"lft\": coupler,\n",
        "            \"top\": partial(waveguide, length=500),\n",
        "            \"btm\": partial(waveguide, length=100),\n",
        "            \"rgt\": coupler,\n",
        "        },\n",
        "        \"connections\": {\n",
        "            \"lft,out0\": \"btm,in0\",\n",
        "            \"btm,out0\": \"rgt,in0\",\n",
        "            \"lft,out1\": \"top,in0\",\n",
        "            \"top,out0\": \"rgt,in1\",\n",
        "        },\n",
        "        \"ports\": {\n",
        "            \"in0\": \"lft,in0\",\n",
        "            \"in1\": \"lft,in1\",\n",
        "            \"out0\": \"rgt,out0\",\n",
        "            \"out1\": \"rgt,out1\",\n",
        "        },\n",
        "    },\n",
        "    backend=\"additive\",\n",
        ")"
      ]
    },
    {
      "cell_type": "code",
      "execution_count": 5,
      "id": "c1f245fd",
      "metadata": {
        "execution": {
          "iopub.execute_input": "2024-02-20T02:32:05.407218Z",
          "iopub.status.busy": "2024-02-20T02:32:05.406856Z",
          "iopub.status.idle": "2024-02-20T02:32:05.495530Z",
          "shell.execute_reply": "2024-02-20T02:32:05.494986Z"
        },
        "papermill": {
          "duration": 0.091858,
          "end_time": "2024-02-20T02:32:05.496689",
          "exception": false,
          "start_time": "2024-02-20T02:32:05.404831",
          "status": "completed"
        },
        "tags": []
      },
      "outputs": [
        {
          "data": {
            "text/plain": [
              "{('in0', 'out0'): [Array([200.], dtype=float64), Array([600.], dtype=float64)],\n",
              " ('in0', 'out1'): [Array([200.], dtype=float64), Array([600.], dtype=float64)],\n",
              " ('in1', 'out0'): [Array([200.], dtype=float64), Array([600.], dtype=float64)],\n",
              " ('in1', 'out1'): [Array([200.], dtype=float64), Array([600.], dtype=float64)],\n",
              " ('out0', 'in0'): [Array([200.], dtype=float64), Array([600.], dtype=float64)],\n",
              " ('out0', 'in1'): [Array([200.], dtype=float64), Array([600.], dtype=float64)],\n",
              " ('out1', 'in0'): [Array([200.], dtype=float64), Array([600.], dtype=float64)],\n",
              " ('out1', 'in1'): [Array([200.], dtype=float64), Array([600.], dtype=float64)]}"
            ]
          },
          "execution_count": 5,
          "metadata": {},
          "output_type": "execute_result"
        }
      ],
      "source": [
        "mzi()"
      ]
    }
  ],
  "metadata": {
    "kernelspec": {
      "display_name": "Python 3 (ipykernel)",
      "language": "python",
      "name": "python3"
    },
    "language_info": {
      "codemirror_mode": {
        "name": "ipython",
        "version": 3
      },
      "file_extension": ".py",
      "mimetype": "text/x-python",
      "name": "python",
      "nbconvert_exporter": "python",
      "pygments_lexer": "ipython3",
      "version": "3.10.13"
    },
    "papermill": {
      "default_parameters": {},
      "duration": 2.347161,
      "end_time": "2024-02-20T02:32:05.814151",
      "environment_variables": {},
      "exception": null,
      "input_path": "./examples/06_additive_backend.ipynb",
      "output_path": "./examples/06_additive_backend.ipynb",
      "parameters": {},
      "start_time": "2024-02-20T02:32:03.466990",
      "version": "2.4.0"
    }
  },
  "nbformat": 4,
  "nbformat_minor": 5
}