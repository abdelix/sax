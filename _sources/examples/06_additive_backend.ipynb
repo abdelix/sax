{
  "cells": [
    {
      "cell_type": "markdown",
      "id": "6f097557",
      "metadata": {
        "papermill": {
          "duration": 0.003369,
          "end_time": "2023-09-03T17:25:23.223844",
          "exception": false,
          "start_time": "2023-09-03T17:25:23.220475",
          "status": "completed"
        },
        "tags": []
      },
      "source": [
        "# Additive Backend"
      ]
    },
    {
      "cell_type": "markdown",
      "id": "56868383",
      "metadata": {
        "papermill": {
          "duration": 0.002115,
          "end_time": "2023-09-03T17:25:23.229916",
          "exception": false,
          "start_time": "2023-09-03T17:25:23.227801",
          "status": "completed"
        },
        "tags": []
      },
      "source": [
        "> The additive backend can be used to obtain pathlengths and group delays."
      ]
    },
    {
      "cell_type": "code",
      "execution_count": 1,
      "id": "79c98bc0",
      "metadata": {
        "execution": {
          "iopub.execute_input": "2023-09-03T17:25:23.235092Z",
          "iopub.status.busy": "2023-09-03T17:25:23.234558Z",
          "iopub.status.idle": "2023-09-03T17:25:24.383224Z",
          "shell.execute_reply": "2023-09-03T17:25:24.382113Z"
        },
        "papermill": {
          "duration": 1.154149,
          "end_time": "2023-09-03T17:25:24.385778",
          "exception": false,
          "start_time": "2023-09-03T17:25:23.231629",
          "status": "completed"
        },
        "tags": []
      },
      "outputs": [],
      "source": [
        "from functools import partial\n",
        "\n",
        "import jax\n",
        "import jax.example_libraries.optimizers as opt\n",
        "import jax.numpy as jnp\n",
        "import matplotlib.pyplot as plt  # plotting\n",
        "import sax"
      ]
    },
    {
      "cell_type": "markdown",
      "id": "6a42b9d9",
      "metadata": {
        "papermill": {
          "duration": 0.002477,
          "end_time": "2023-09-03T17:25:24.390782",
          "exception": false,
          "start_time": "2023-09-03T17:25:24.388305",
          "status": "completed"
        },
        "tags": []
      },
      "source": [
        "## Parametrized Models"
      ]
    },
    {
      "cell_type": "code",
      "execution_count": 2,
      "id": "79e7e40e",
      "metadata": {
        "execution": {
          "iopub.execute_input": "2023-09-03T17:25:24.395885Z",
          "iopub.status.busy": "2023-09-03T17:25:24.395260Z",
          "iopub.status.idle": "2023-09-03T17:25:24.400208Z",
          "shell.execute_reply": "2023-09-03T17:25:24.399541Z"
        },
        "papermill": {
          "duration": 0.009042,
          "end_time": "2023-09-03T17:25:24.401767",
          "exception": false,
          "start_time": "2023-09-03T17:25:24.392725",
          "status": "completed"
        },
        "tags": []
      },
      "outputs": [],
      "source": [
        "def coupler(length=50.0) -> sax.SDict:\n",
        "    sdict =  {\n",
        "        (\"in0\", \"out0\"): length,\n",
        "        (\"in0\", \"out1\"): length,\n",
        "        (\"in1\", \"out0\"): length,\n",
        "        (\"in1\", \"out1\"): length,\n",
        "    }\n",
        "    return sax.reciprocal(sdict)"
      ]
    },
    {
      "cell_type": "code",
      "execution_count": 3,
      "id": "3248838c",
      "metadata": {
        "execution": {
          "iopub.execute_input": "2023-09-03T17:25:24.405791Z",
          "iopub.status.busy": "2023-09-03T17:25:24.405407Z",
          "iopub.status.idle": "2023-09-03T17:25:24.408575Z",
          "shell.execute_reply": "2023-09-03T17:25:24.407917Z"
        },
        "papermill": {
          "duration": 0.007165,
          "end_time": "2023-09-03T17:25:24.410216",
          "exception": false,
          "start_time": "2023-09-03T17:25:24.403051",
          "status": "completed"
        },
        "tags": []
      },
      "outputs": [],
      "source": [
        "def waveguide(length=100.0) -> sax.SDict:\n",
        "    sdict = {\n",
        "        (\"in0\", \"out0\"): length,\n",
        "    }\n",
        "    return sax.reciprocal(sdict)"
      ]
    },
    {
      "cell_type": "markdown",
      "id": "d650fb8d",
      "metadata": {
        "papermill": {
          "duration": 0.001611,
          "end_time": "2023-09-03T17:25:24.413351",
          "exception": false,
          "start_time": "2023-09-03T17:25:24.411740",
          "status": "completed"
        },
        "tags": []
      },
      "source": [
        "## Circuit with additive backend"
      ]
    },
    {
      "cell_type": "code",
      "execution_count": 4,
      "id": "56e035d0",
      "metadata": {
        "execution": {
          "iopub.execute_input": "2023-09-03T17:25:24.417932Z",
          "iopub.status.busy": "2023-09-03T17:25:24.417702Z",
          "iopub.status.idle": "2023-09-03T17:25:24.432857Z",
          "shell.execute_reply": "2023-09-03T17:25:24.432017Z"
        },
        "papermill": {
          "duration": 0.019096,
          "end_time": "2023-09-03T17:25:24.434305",
          "exception": false,
          "start_time": "2023-09-03T17:25:24.415209",
          "status": "completed"
        },
        "tags": []
      },
      "outputs": [],
      "source": [
        "mzi, _ = sax.circuit(\n",
        "    netlist={\n",
        "        \"instances\": {\n",
        "            \"lft\": coupler,\n",
        "            \"top\": partial(waveguide, length=500),\n",
        "            \"btm\": partial(waveguide, length=100),\n",
        "            \"rgt\": coupler,\n",
        "        },\n",
        "        \"connections\": {\n",
        "            \"lft,out0\": \"btm,in0\",\n",
        "            \"btm,out0\": \"rgt,in0\",\n",
        "            \"lft,out1\": \"top,in0\",\n",
        "            \"top,out0\": \"rgt,in1\",\n",
        "        },\n",
        "        \"ports\": {\n",
        "            \"in0\": \"lft,in0\",\n",
        "            \"in1\": \"lft,in1\",\n",
        "            \"out0\": \"rgt,out0\",\n",
        "            \"out1\": \"rgt,out1\",\n",
        "        },\n",
        "    },\n",
        "    backend=\"additive\",\n",
        ")"
      ]
    },
    {
      "cell_type": "code",
      "execution_count": 5,
      "id": "c1f245fd",
      "metadata": {
        "execution": {
          "iopub.execute_input": "2023-09-03T17:25:24.438973Z",
          "iopub.status.busy": "2023-09-03T17:25:24.438346Z",
          "iopub.status.idle": "2023-09-03T17:25:24.539188Z",
          "shell.execute_reply": "2023-09-03T17:25:24.538653Z"
        },
        "papermill": {
          "duration": 0.104954,
          "end_time": "2023-09-03T17:25:24.541004",
          "exception": false,
          "start_time": "2023-09-03T17:25:24.436050",
          "status": "completed"
        },
        "tags": []
      },
      "outputs": [
        {
          "data": {
            "text/plain": [
              "{('in0', 'out0'): [Array([200.], dtype=float64), Array([600.], dtype=float64)],\n",
              " ('in0', 'out1'): [Array([200.], dtype=float64), Array([600.], dtype=float64)],\n",
              " ('in1', 'out0'): [Array([200.], dtype=float64), Array([600.], dtype=float64)],\n",
              " ('in1', 'out1'): [Array([200.], dtype=float64), Array([600.], dtype=float64)],\n",
              " ('out0', 'in0'): [Array([200.], dtype=float64), Array([600.], dtype=float64)],\n",
              " ('out0', 'in1'): [Array([200.], dtype=float64), Array([600.], dtype=float64)],\n",
              " ('out1', 'in0'): [Array([200.], dtype=float64), Array([600.], dtype=float64)],\n",
              " ('out1', 'in1'): [Array([200.], dtype=float64), Array([600.], dtype=float64)]}"
            ]
          },
          "execution_count": 5,
          "metadata": {},
          "output_type": "execute_result"
        }
      ],
      "source": [
        "mzi()"
      ]
    }
  ],
  "metadata": {
    "kernelspec": {
      "display_name": "sax",
      "language": "python",
      "name": "sax"
    },
    "language_info": {
      "codemirror_mode": {
        "name": "ipython",
        "version": 3
      },
      "file_extension": ".py",
      "mimetype": "text/x-python",
      "name": "python",
      "nbconvert_exporter": "python",
      "pygments_lexer": "ipython3",
      "version": "3.10.12"
    },
    "papermill": {
      "default_parameters": {},
      "duration": 3.037344,
      "end_time": "2023-09-03T17:25:24.963794",
      "environment_variables": {},
      "exception": null,
      "input_path": "./examples/06_additive_backend.ipynb",
      "output_path": "./examples/06_additive_backend.ipynb",
      "parameters": {},
      "start_time": "2023-09-03T17:25:21.926450",
      "version": "2.4.0"
    }
  },
  "nbformat": 4,
  "nbformat_minor": 5
}