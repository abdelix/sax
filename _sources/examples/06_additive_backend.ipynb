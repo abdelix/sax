{
  "cells": [
    {
      "cell_type": "markdown",
      "id": "6f097557",
      "metadata": {
        "papermill": {
          "duration": 0.001972,
          "end_time": "2023-09-18T20:29:35.487398",
          "exception": false,
          "start_time": "2023-09-18T20:29:35.485426",
          "status": "completed"
        },
        "tags": []
      },
      "source": [
        "# Additive Backend"
      ]
    },
    {
      "cell_type": "markdown",
      "id": "56868383",
      "metadata": {
        "papermill": {
          "duration": 0.001425,
          "end_time": "2023-09-18T20:29:35.491551",
          "exception": false,
          "start_time": "2023-09-18T20:29:35.490126",
          "status": "completed"
        },
        "tags": []
      },
      "source": [
        "> The additive backend can be used to obtain pathlengths and group delays."
      ]
    },
    {
      "cell_type": "code",
      "execution_count": 1,
      "id": "79c98bc0",
      "metadata": {
        "execution": {
          "iopub.execute_input": "2023-09-18T20:29:35.495914Z",
          "iopub.status.busy": "2023-09-18T20:29:35.495466Z",
          "iopub.status.idle": "2023-09-18T20:29:36.644688Z",
          "shell.execute_reply": "2023-09-18T20:29:36.644060Z"
        },
        "papermill": {
          "duration": 1.153325,
          "end_time": "2023-09-18T20:29:36.646328",
          "exception": false,
          "start_time": "2023-09-18T20:29:35.493003",
          "status": "completed"
        },
        "tags": []
      },
      "outputs": [],
      "source": [
        "from functools import partial\n",
        "\n",
        "import jax\n",
        "import jax.example_libraries.optimizers as opt\n",
        "import jax.numpy as jnp\n",
        "import matplotlib.pyplot as plt  # plotting\n",
        "import sax"
      ]
    },
    {
      "cell_type": "markdown",
      "id": "6a42b9d9",
      "metadata": {
        "papermill": {
          "duration": 0.001718,
          "end_time": "2023-09-18T20:29:36.649860",
          "exception": false,
          "start_time": "2023-09-18T20:29:36.648142",
          "status": "completed"
        },
        "tags": []
      },
      "source": [
        "## Parametrized Models"
      ]
    },
    {
      "cell_type": "code",
      "execution_count": 2,
      "id": "79e7e40e",
      "metadata": {
        "execution": {
          "iopub.execute_input": "2023-09-18T20:29:36.654401Z",
          "iopub.status.busy": "2023-09-18T20:29:36.653804Z",
          "iopub.status.idle": "2023-09-18T20:29:36.658454Z",
          "shell.execute_reply": "2023-09-18T20:29:36.657816Z"
        },
        "papermill": {
          "duration": 0.008428,
          "end_time": "2023-09-18T20:29:36.659854",
          "exception": false,
          "start_time": "2023-09-18T20:29:36.651426",
          "status": "completed"
        },
        "tags": []
      },
      "outputs": [],
      "source": [
        "def coupler(length=50.0) -> sax.SDict:\n",
        "    sdict =  {\n",
        "        (\"in0\", \"out0\"): length,\n",
        "        (\"in0\", \"out1\"): length,\n",
        "        (\"in1\", \"out0\"): length,\n",
        "        (\"in1\", \"out1\"): length,\n",
        "    }\n",
        "    return sax.reciprocal(sdict)"
      ]
    },
    {
      "cell_type": "code",
      "execution_count": 3,
      "id": "3248838c",
      "metadata": {
        "execution": {
          "iopub.execute_input": "2023-09-18T20:29:36.663939Z",
          "iopub.status.busy": "2023-09-18T20:29:36.663724Z",
          "iopub.status.idle": "2023-09-18T20:29:36.667753Z",
          "shell.execute_reply": "2023-09-18T20:29:36.667214Z"
        },
        "papermill": {
          "duration": 0.007785,
          "end_time": "2023-09-18T20:29:36.669215",
          "exception": false,
          "start_time": "2023-09-18T20:29:36.661430",
          "status": "completed"
        },
        "tags": []
      },
      "outputs": [],
      "source": [
        "def waveguide(length=100.0) -> sax.SDict:\n",
        "    sdict = {\n",
        "        (\"in0\", \"out0\"): length,\n",
        "    }\n",
        "    return sax.reciprocal(sdict)"
      ]
    },
    {
      "cell_type": "markdown",
      "id": "d650fb8d",
      "metadata": {
        "papermill": {
          "duration": 0.00149,
          "end_time": "2023-09-18T20:29:36.672290",
          "exception": false,
          "start_time": "2023-09-18T20:29:36.670800",
          "status": "completed"
        },
        "tags": []
      },
      "source": [
        "## Circuit with additive backend"
      ]
    },
    {
      "cell_type": "code",
      "execution_count": 4,
      "id": "56e035d0",
      "metadata": {
        "execution": {
          "iopub.execute_input": "2023-09-18T20:29:36.676639Z",
          "iopub.status.busy": "2023-09-18T20:29:36.676209Z",
          "iopub.status.idle": "2023-09-18T20:29:36.689519Z",
          "shell.execute_reply": "2023-09-18T20:29:36.688991Z"
        },
        "papermill": {
          "duration": 0.01725,
          "end_time": "2023-09-18T20:29:36.691100",
          "exception": false,
          "start_time": "2023-09-18T20:29:36.673850",
          "status": "completed"
        },
        "tags": []
      },
      "outputs": [],
      "source": [
        "mzi, _ = sax.circuit(\n",
        "    netlist={\n",
        "        \"instances\": {\n",
        "            \"lft\": coupler,\n",
        "            \"top\": partial(waveguide, length=500),\n",
        "            \"btm\": partial(waveguide, length=100),\n",
        "            \"rgt\": coupler,\n",
        "        },\n",
        "        \"connections\": {\n",
        "            \"lft,out0\": \"btm,in0\",\n",
        "            \"btm,out0\": \"rgt,in0\",\n",
        "            \"lft,out1\": \"top,in0\",\n",
        "            \"top,out0\": \"rgt,in1\",\n",
        "        },\n",
        "        \"ports\": {\n",
        "            \"in0\": \"lft,in0\",\n",
        "            \"in1\": \"lft,in1\",\n",
        "            \"out0\": \"rgt,out0\",\n",
        "            \"out1\": \"rgt,out1\",\n",
        "        },\n",
        "    },\n",
        "    backend=\"additive\",\n",
        ")"
      ]
    },
    {
      "cell_type": "code",
      "execution_count": 5,
      "id": "c1f245fd",
      "metadata": {
        "execution": {
          "iopub.execute_input": "2023-09-18T20:29:36.695710Z",
          "iopub.status.busy": "2023-09-18T20:29:36.695135Z",
          "iopub.status.idle": "2023-09-18T20:29:36.805258Z",
          "shell.execute_reply": "2023-09-18T20:29:36.804648Z"
        },
        "papermill": {
          "duration": 0.113944,
          "end_time": "2023-09-18T20:29:36.806748",
          "exception": false,
          "start_time": "2023-09-18T20:29:36.692804",
          "status": "completed"
        },
        "tags": []
      },
      "outputs": [
        {
          "data": {
            "text/plain": [
              "{('in0', 'out0'): [Array([200.], dtype=float64), Array([600.], dtype=float64)],\n",
              " ('in0', 'out1'): [Array([200.], dtype=float64), Array([600.], dtype=float64)],\n",
              " ('in1', 'out0'): [Array([200.], dtype=float64), Array([600.], dtype=float64)],\n",
              " ('in1', 'out1'): [Array([200.], dtype=float64), Array([600.], dtype=float64)],\n",
              " ('out0', 'in0'): [Array([200.], dtype=float64), Array([600.], dtype=float64)],\n",
              " ('out0', 'in1'): [Array([200.], dtype=float64), Array([600.], dtype=float64)],\n",
              " ('out1', 'in0'): [Array([200.], dtype=float64), Array([600.], dtype=float64)],\n",
              " ('out1', 'in1'): [Array([200.], dtype=float64), Array([600.], dtype=float64)]}"
            ]
          },
          "execution_count": 5,
          "metadata": {},
          "output_type": "execute_result"
        }
      ],
      "source": [
        "mzi()"
      ]
    }
  ],
  "metadata": {
    "kernelspec": {
      "display_name": "sax",
      "language": "python",
      "name": "sax"
    },
    "language_info": {
      "codemirror_mode": {
        "name": "ipython",
        "version": 3
      },
      "file_extension": ".py",
      "mimetype": "text/x-python",
      "name": "python",
      "nbconvert_exporter": "python",
      "pygments_lexer": "ipython3",
      "version": "3.10.12"
    },
    "papermill": {
      "default_parameters": {},
      "duration": 3.047539,
      "end_time": "2023-09-18T20:29:37.227393",
      "environment_variables": {},
      "exception": null,
      "input_path": "./examples/06_additive_backend.ipynb",
      "output_path": "./examples/06_additive_backend.ipynb",
      "parameters": {},
      "start_time": "2023-09-18T20:29:34.179854",
      "version": "2.4.0"
    }
  },
  "nbformat": 4,
  "nbformat_minor": 5
}