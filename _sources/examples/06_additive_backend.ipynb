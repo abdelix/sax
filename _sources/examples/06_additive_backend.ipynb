{
  "cells": [
    {
      "cell_type": "markdown",
      "id": "6f097557",
      "metadata": {
        "papermill": {
          "duration": 0.00205,
          "end_time": "2024-01-15T21:55:46.928205",
          "exception": false,
          "start_time": "2024-01-15T21:55:46.926155",
          "status": "completed"
        },
        "tags": []
      },
      "source": [
        "# Additive Backend"
      ]
    },
    {
      "cell_type": "markdown",
      "id": "56868383",
      "metadata": {
        "papermill": {
          "duration": 0.001274,
          "end_time": "2024-01-15T21:55:46.930898",
          "exception": false,
          "start_time": "2024-01-15T21:55:46.929624",
          "status": "completed"
        },
        "tags": []
      },
      "source": [
        "> The additive backend can be used to obtain pathlengths and group delays."
      ]
    },
    {
      "cell_type": "code",
      "execution_count": 1,
      "id": "79c98bc0",
      "metadata": {
        "execution": {
          "iopub.execute_input": "2024-01-15T21:55:46.934361Z",
          "iopub.status.busy": "2024-01-15T21:55:46.933990Z",
          "iopub.status.idle": "2024-01-15T21:55:47.908841Z",
          "shell.execute_reply": "2024-01-15T21:55:47.908228Z"
        },
        "papermill": {
          "duration": 0.978279,
          "end_time": "2024-01-15T21:55:47.910379",
          "exception": false,
          "start_time": "2024-01-15T21:55:46.932100",
          "status": "completed"
        },
        "tags": []
      },
      "outputs": [],
      "source": [
        "from functools import partial\n",
        "\n",
        "import jax\n",
        "import jax.example_libraries.optimizers as opt\n",
        "import jax.numpy as jnp\n",
        "import matplotlib.pyplot as plt  # plotting\n",
        "import sax"
      ]
    },
    {
      "cell_type": "markdown",
      "id": "6a42b9d9",
      "metadata": {
        "papermill": {
          "duration": 0.001296,
          "end_time": "2024-01-15T21:55:47.913226",
          "exception": false,
          "start_time": "2024-01-15T21:55:47.911930",
          "status": "completed"
        },
        "tags": []
      },
      "source": [
        "## Parametrized Models"
      ]
    },
    {
      "cell_type": "code",
      "execution_count": 2,
      "id": "79e7e40e",
      "metadata": {
        "execution": {
          "iopub.execute_input": "2024-01-15T21:55:47.916803Z",
          "iopub.status.busy": "2024-01-15T21:55:47.916350Z",
          "iopub.status.idle": "2024-01-15T21:55:47.919769Z",
          "shell.execute_reply": "2024-01-15T21:55:47.919234Z"
        },
        "papermill": {
          "duration": 0.006523,
          "end_time": "2024-01-15T21:55:47.920910",
          "exception": false,
          "start_time": "2024-01-15T21:55:47.914387",
          "status": "completed"
        },
        "tags": []
      },
      "outputs": [],
      "source": [
        "def coupler(length=50.0) -> sax.SDict:\n",
        "    sdict = {\n",
        "        (\"in0\", \"out0\"): length,\n",
        "        (\"in0\", \"out1\"): length,\n",
        "        (\"in1\", \"out0\"): length,\n",
        "        (\"in1\", \"out1\"): length,\n",
        "    }\n",
        "    return sax.reciprocal(sdict)"
      ]
    },
    {
      "cell_type": "code",
      "execution_count": 3,
      "id": "3248838c",
      "metadata": {
        "execution": {
          "iopub.execute_input": "2024-01-15T21:55:47.924327Z",
          "iopub.status.busy": "2024-01-15T21:55:47.923952Z",
          "iopub.status.idle": "2024-01-15T21:55:47.926906Z",
          "shell.execute_reply": "2024-01-15T21:55:47.926453Z"
        },
        "papermill": {
          "duration": 0.005989,
          "end_time": "2024-01-15T21:55:47.928084",
          "exception": false,
          "start_time": "2024-01-15T21:55:47.922095",
          "status": "completed"
        },
        "tags": []
      },
      "outputs": [],
      "source": [
        "def waveguide(length=100.0) -> sax.SDict:\n",
        "    sdict = {\n",
        "        (\"in0\", \"out0\"): length,\n",
        "    }\n",
        "    return sax.reciprocal(sdict)"
      ]
    },
    {
      "cell_type": "markdown",
      "id": "d650fb8d",
      "metadata": {
        "papermill": {
          "duration": 0.001277,
          "end_time": "2024-01-15T21:55:47.930594",
          "exception": false,
          "start_time": "2024-01-15T21:55:47.929317",
          "status": "completed"
        },
        "tags": []
      },
      "source": [
        "## Circuit with additive backend"
      ]
    },
    {
      "cell_type": "code",
      "execution_count": 4,
      "id": "56e035d0",
      "metadata": {
        "execution": {
          "iopub.execute_input": "2024-01-15T21:55:47.933904Z",
          "iopub.status.busy": "2024-01-15T21:55:47.933626Z",
          "iopub.status.idle": "2024-01-15T21:55:47.970210Z",
          "shell.execute_reply": "2024-01-15T21:55:47.969611Z"
        },
        "papermill": {
          "duration": 0.039919,
          "end_time": "2024-01-15T21:55:47.971755",
          "exception": false,
          "start_time": "2024-01-15T21:55:47.931836",
          "status": "completed"
        },
        "tags": []
      },
      "outputs": [],
      "source": [
        "mzi, _ = sax.circuit(\n",
        "    netlist={\n",
        "        \"instances\": {\n",
        "            \"lft\": coupler,\n",
        "            \"top\": partial(waveguide, length=500),\n",
        "            \"btm\": partial(waveguide, length=100),\n",
        "            \"rgt\": coupler,\n",
        "        },\n",
        "        \"connections\": {\n",
        "            \"lft,out0\": \"btm,in0\",\n",
        "            \"btm,out0\": \"rgt,in0\",\n",
        "            \"lft,out1\": \"top,in0\",\n",
        "            \"top,out0\": \"rgt,in1\",\n",
        "        },\n",
        "        \"ports\": {\n",
        "            \"in0\": \"lft,in0\",\n",
        "            \"in1\": \"lft,in1\",\n",
        "            \"out0\": \"rgt,out0\",\n",
        "            \"out1\": \"rgt,out1\",\n",
        "        },\n",
        "    },\n",
        "    backend=\"additive\",\n",
        ")"
      ]
    },
    {
      "cell_type": "code",
      "execution_count": 5,
      "id": "c1f245fd",
      "metadata": {
        "execution": {
          "iopub.execute_input": "2024-01-15T21:55:47.975696Z",
          "iopub.status.busy": "2024-01-15T21:55:47.975332Z",
          "iopub.status.idle": "2024-01-15T21:55:48.062905Z",
          "shell.execute_reply": "2024-01-15T21:55:48.062289Z"
        },
        "papermill": {
          "duration": 0.090782,
          "end_time": "2024-01-15T21:55:48.064128",
          "exception": false,
          "start_time": "2024-01-15T21:55:47.973346",
          "status": "completed"
        },
        "tags": []
      },
      "outputs": [
        {
          "data": {
            "text/plain": [
              "{('in0', 'out0'): [Array([200.], dtype=float64), Array([600.], dtype=float64)],\n",
              " ('in0', 'out1'): [Array([200.], dtype=float64), Array([600.], dtype=float64)],\n",
              " ('in1', 'out0'): [Array([200.], dtype=float64), Array([600.], dtype=float64)],\n",
              " ('in1', 'out1'): [Array([200.], dtype=float64), Array([600.], dtype=float64)],\n",
              " ('out0', 'in0'): [Array([200.], dtype=float64), Array([600.], dtype=float64)],\n",
              " ('out0', 'in1'): [Array([200.], dtype=float64), Array([600.], dtype=float64)],\n",
              " ('out1', 'in0'): [Array([200.], dtype=float64), Array([600.], dtype=float64)],\n",
              " ('out1', 'in1'): [Array([200.], dtype=float64), Array([600.], dtype=float64)]}"
            ]
          },
          "execution_count": 5,
          "metadata": {},
          "output_type": "execute_result"
        }
      ],
      "source": [
        "mzi()"
      ]
    }
  ],
  "metadata": {
    "kernelspec": {
      "display_name": "Python 3 (ipykernel)",
      "language": "python",
      "name": "python3"
    },
    "language_info": {
      "codemirror_mode": {
        "name": "ipython",
        "version": 3
      },
      "file_extension": ".py",
      "mimetype": "text/x-python",
      "name": "python",
      "nbconvert_exporter": "python",
      "pygments_lexer": "ipython3",
      "version": "3.10.12"
    },
    "papermill": {
      "default_parameters": {},
      "duration": 2.375716,
      "end_time": "2024-01-15T21:55:48.381824",
      "environment_variables": {},
      "exception": null,
      "input_path": "./examples/06_additive_backend.ipynb",
      "output_path": "./examples/06_additive_backend.ipynb",
      "parameters": {},
      "start_time": "2024-01-15T21:55:46.006108",
      "version": "2.4.0"
    }
  },
  "nbformat": 4,
  "nbformat_minor": 5
}