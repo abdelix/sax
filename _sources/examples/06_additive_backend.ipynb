{
  "cells": [
    {
      "cell_type": "markdown",
      "id": "6f097557",
      "metadata": {
        "papermill": {
          "duration": 0.002652,
          "end_time": "2023-09-03T19:28:19.364689",
          "exception": false,
          "start_time": "2023-09-03T19:28:19.362037",
          "status": "completed"
        },
        "tags": []
      },
      "source": [
        "# Additive Backend"
      ]
    },
    {
      "cell_type": "markdown",
      "id": "56868383",
      "metadata": {
        "papermill": {
          "duration": 0.001656,
          "end_time": "2023-09-03T19:28:19.369752",
          "exception": false,
          "start_time": "2023-09-03T19:28:19.368096",
          "status": "completed"
        },
        "tags": []
      },
      "source": [
        "> The additive backend can be used to obtain pathlengths and group delays."
      ]
    },
    {
      "cell_type": "code",
      "execution_count": 1,
      "id": "79c98bc0",
      "metadata": {
        "execution": {
          "iopub.execute_input": "2023-09-03T19:28:19.374537Z",
          "iopub.status.busy": "2023-09-03T19:28:19.373889Z",
          "iopub.status.idle": "2023-09-03T19:28:20.561639Z",
          "shell.execute_reply": "2023-09-03T19:28:20.560427Z"
        },
        "papermill": {
          "duration": 1.192274,
          "end_time": "2023-09-03T19:28:20.563549",
          "exception": false,
          "start_time": "2023-09-03T19:28:19.371275",
          "status": "completed"
        },
        "tags": []
      },
      "outputs": [],
      "source": [
        "from functools import partial\n",
        "\n",
        "import jax\n",
        "import jax.example_libraries.optimizers as opt\n",
        "import jax.numpy as jnp\n",
        "import matplotlib.pyplot as plt  # plotting\n",
        "import sax"
      ]
    },
    {
      "cell_type": "markdown",
      "id": "6a42b9d9",
      "metadata": {
        "papermill": {
          "duration": 0.003382,
          "end_time": "2023-09-03T19:28:20.569035",
          "exception": false,
          "start_time": "2023-09-03T19:28:20.565653",
          "status": "completed"
        },
        "tags": []
      },
      "source": [
        "## Parametrized Models"
      ]
    },
    {
      "cell_type": "code",
      "execution_count": 2,
      "id": "79e7e40e",
      "metadata": {
        "execution": {
          "iopub.execute_input": "2023-09-03T19:28:20.573766Z",
          "iopub.status.busy": "2023-09-03T19:28:20.573218Z",
          "iopub.status.idle": "2023-09-03T19:28:20.579259Z",
          "shell.execute_reply": "2023-09-03T19:28:20.578704Z"
        },
        "papermill": {
          "duration": 0.009882,
          "end_time": "2023-09-03T19:28:20.580596",
          "exception": false,
          "start_time": "2023-09-03T19:28:20.570714",
          "status": "completed"
        },
        "tags": []
      },
      "outputs": [],
      "source": [
        "def coupler(length=50.0) -> sax.SDict:\n",
        "    sdict =  {\n",
        "        (\"in0\", \"out0\"): length,\n",
        "        (\"in0\", \"out1\"): length,\n",
        "        (\"in1\", \"out0\"): length,\n",
        "        (\"in1\", \"out1\"): length,\n",
        "    }\n",
        "    return sax.reciprocal(sdict)"
      ]
    },
    {
      "cell_type": "code",
      "execution_count": 3,
      "id": "3248838c",
      "metadata": {
        "execution": {
          "iopub.execute_input": "2023-09-03T19:28:20.585060Z",
          "iopub.status.busy": "2023-09-03T19:28:20.584640Z",
          "iopub.status.idle": "2023-09-03T19:28:20.587915Z",
          "shell.execute_reply": "2023-09-03T19:28:20.587277Z"
        },
        "papermill": {
          "duration": 0.007229,
          "end_time": "2023-09-03T19:28:20.589356",
          "exception": false,
          "start_time": "2023-09-03T19:28:20.582127",
          "status": "completed"
        },
        "tags": []
      },
      "outputs": [],
      "source": [
        "def waveguide(length=100.0) -> sax.SDict:\n",
        "    sdict = {\n",
        "        (\"in0\", \"out0\"): length,\n",
        "    }\n",
        "    return sax.reciprocal(sdict)"
      ]
    },
    {
      "cell_type": "markdown",
      "id": "d650fb8d",
      "metadata": {
        "papermill": {
          "duration": 0.001541,
          "end_time": "2023-09-03T19:28:20.592456",
          "exception": false,
          "start_time": "2023-09-03T19:28:20.590915",
          "status": "completed"
        },
        "tags": []
      },
      "source": [
        "## Circuit with additive backend"
      ]
    },
    {
      "cell_type": "code",
      "execution_count": 4,
      "id": "56e035d0",
      "metadata": {
        "execution": {
          "iopub.execute_input": "2023-09-03T19:28:20.596704Z",
          "iopub.status.busy": "2023-09-03T19:28:20.596328Z",
          "iopub.status.idle": "2023-09-03T19:28:20.609843Z",
          "shell.execute_reply": "2023-09-03T19:28:20.609305Z"
        },
        "papermill": {
          "duration": 0.017289,
          "end_time": "2023-09-03T19:28:20.611305",
          "exception": false,
          "start_time": "2023-09-03T19:28:20.594016",
          "status": "completed"
        },
        "tags": []
      },
      "outputs": [],
      "source": [
        "mzi, _ = sax.circuit(\n",
        "    netlist={\n",
        "        \"instances\": {\n",
        "            \"lft\": coupler,\n",
        "            \"top\": partial(waveguide, length=500),\n",
        "            \"btm\": partial(waveguide, length=100),\n",
        "            \"rgt\": coupler,\n",
        "        },\n",
        "        \"connections\": {\n",
        "            \"lft,out0\": \"btm,in0\",\n",
        "            \"btm,out0\": \"rgt,in0\",\n",
        "            \"lft,out1\": \"top,in0\",\n",
        "            \"top,out0\": \"rgt,in1\",\n",
        "        },\n",
        "        \"ports\": {\n",
        "            \"in0\": \"lft,in0\",\n",
        "            \"in1\": \"lft,in1\",\n",
        "            \"out0\": \"rgt,out0\",\n",
        "            \"out1\": \"rgt,out1\",\n",
        "        },\n",
        "    },\n",
        "    backend=\"additive\",\n",
        ")"
      ]
    },
    {
      "cell_type": "code",
      "execution_count": 5,
      "id": "c1f245fd",
      "metadata": {
        "execution": {
          "iopub.execute_input": "2023-09-03T19:28:20.615672Z",
          "iopub.status.busy": "2023-09-03T19:28:20.615271Z",
          "iopub.status.idle": "2023-09-03T19:28:20.722044Z",
          "shell.execute_reply": "2023-09-03T19:28:20.721503Z"
        },
        "papermill": {
          "duration": 0.110662,
          "end_time": "2023-09-03T19:28:20.723578",
          "exception": false,
          "start_time": "2023-09-03T19:28:20.612916",
          "status": "completed"
        },
        "tags": []
      },
      "outputs": [
        {
          "data": {
            "text/plain": [
              "{('in0', 'out0'): [Array([200.], dtype=float64), Array([600.], dtype=float64)],\n",
              " ('in0', 'out1'): [Array([200.], dtype=float64), Array([600.], dtype=float64)],\n",
              " ('in1', 'out0'): [Array([200.], dtype=float64), Array([600.], dtype=float64)],\n",
              " ('in1', 'out1'): [Array([200.], dtype=float64), Array([600.], dtype=float64)],\n",
              " ('out0', 'in0'): [Array([200.], dtype=float64), Array([600.], dtype=float64)],\n",
              " ('out0', 'in1'): [Array([200.], dtype=float64), Array([600.], dtype=float64)],\n",
              " ('out1', 'in0'): [Array([200.], dtype=float64), Array([600.], dtype=float64)],\n",
              " ('out1', 'in1'): [Array([200.], dtype=float64), Array([600.], dtype=float64)]}"
            ]
          },
          "execution_count": 5,
          "metadata": {},
          "output_type": "execute_result"
        }
      ],
      "source": [
        "mzi()"
      ]
    }
  ],
  "metadata": {
    "kernelspec": {
      "display_name": "sax",
      "language": "python",
      "name": "sax"
    },
    "language_info": {
      "codemirror_mode": {
        "name": "ipython",
        "version": 3
      },
      "file_extension": ".py",
      "mimetype": "text/x-python",
      "name": "python",
      "nbconvert_exporter": "python",
      "pygments_lexer": "ipython3",
      "version": "3.10.12"
    },
    "papermill": {
      "default_parameters": {},
      "duration": 3.095487,
      "end_time": "2023-09-03T19:28:21.145434",
      "environment_variables": {},
      "exception": null,
      "input_path": "./examples/06_additive_backend.ipynb",
      "output_path": "./examples/06_additive_backend.ipynb",
      "parameters": {},
      "start_time": "2023-09-03T19:28:18.049947",
      "version": "2.4.0"
    }
  },
  "nbformat": 4,
  "nbformat_minor": 5
}