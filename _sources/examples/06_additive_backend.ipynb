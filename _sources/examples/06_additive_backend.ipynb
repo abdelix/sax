{
  "cells": [
    {
      "cell_type": "markdown",
      "id": "6f097557",
      "metadata": {
        "papermill": {
          "duration": 0.002801,
          "end_time": "2023-09-19T19:58:19.490931",
          "exception": false,
          "start_time": "2023-09-19T19:58:19.488130",
          "status": "completed"
        },
        "tags": []
      },
      "source": [
        "# Additive Backend"
      ]
    },
    {
      "cell_type": "markdown",
      "id": "56868383",
      "metadata": {
        "papermill": {
          "duration": 0.002045,
          "end_time": "2023-09-19T19:58:19.497005",
          "exception": false,
          "start_time": "2023-09-19T19:58:19.494960",
          "status": "completed"
        },
        "tags": []
      },
      "source": [
        "> The additive backend can be used to obtain pathlengths and group delays."
      ]
    },
    {
      "cell_type": "code",
      "execution_count": 1,
      "id": "79c98bc0",
      "metadata": {
        "execution": {
          "iopub.execute_input": "2023-09-19T19:58:19.502686Z",
          "iopub.status.busy": "2023-09-19T19:58:19.502119Z",
          "iopub.status.idle": "2023-09-19T19:58:21.109501Z",
          "shell.execute_reply": "2023-09-19T19:58:21.108650Z"
        },
        "papermill": {
          "duration": 1.613177,
          "end_time": "2023-09-19T19:58:21.112134",
          "exception": false,
          "start_time": "2023-09-19T19:58:19.498957",
          "status": "completed"
        },
        "tags": []
      },
      "outputs": [],
      "source": [
        "from functools import partial\n",
        "\n",
        "import jax\n",
        "import jax.example_libraries.optimizers as opt\n",
        "import jax.numpy as jnp\n",
        "import matplotlib.pyplot as plt  # plotting\n",
        "import sax"
      ]
    },
    {
      "cell_type": "markdown",
      "id": "6a42b9d9",
      "metadata": {
        "papermill": {
          "duration": 0.002059,
          "end_time": "2023-09-19T19:58:21.116585",
          "exception": false,
          "start_time": "2023-09-19T19:58:21.114526",
          "status": "completed"
        },
        "tags": []
      },
      "source": [
        "## Parametrized Models"
      ]
    },
    {
      "cell_type": "code",
      "execution_count": 2,
      "id": "79e7e40e",
      "metadata": {
        "execution": {
          "iopub.execute_input": "2023-09-19T19:58:21.123582Z",
          "iopub.status.busy": "2023-09-19T19:58:21.122472Z",
          "iopub.status.idle": "2023-09-19T19:58:21.127516Z",
          "shell.execute_reply": "2023-09-19T19:58:21.126827Z"
        },
        "papermill": {
          "duration": 0.011061,
          "end_time": "2023-09-19T19:58:21.129752",
          "exception": false,
          "start_time": "2023-09-19T19:58:21.118691",
          "status": "completed"
        },
        "tags": []
      },
      "outputs": [],
      "source": [
        "def coupler(length=50.0) -> sax.SDict:\n",
        "    sdict =  {\n",
        "        (\"in0\", \"out0\"): length,\n",
        "        (\"in0\", \"out1\"): length,\n",
        "        (\"in1\", \"out0\"): length,\n",
        "        (\"in1\", \"out1\"): length,\n",
        "    }\n",
        "    return sax.reciprocal(sdict)"
      ]
    },
    {
      "cell_type": "code",
      "execution_count": 3,
      "id": "3248838c",
      "metadata": {
        "execution": {
          "iopub.execute_input": "2023-09-19T19:58:21.135478Z",
          "iopub.status.busy": "2023-09-19T19:58:21.134766Z",
          "iopub.status.idle": "2023-09-19T19:58:21.139157Z",
          "shell.execute_reply": "2023-09-19T19:58:21.138379Z"
        },
        "papermill": {
          "duration": 0.009211,
          "end_time": "2023-09-19T19:58:21.140987",
          "exception": false,
          "start_time": "2023-09-19T19:58:21.131776",
          "status": "completed"
        },
        "tags": []
      },
      "outputs": [],
      "source": [
        "def waveguide(length=100.0) -> sax.SDict:\n",
        "    sdict = {\n",
        "        (\"in0\", \"out0\"): length,\n",
        "    }\n",
        "    return sax.reciprocal(sdict)"
      ]
    },
    {
      "cell_type": "markdown",
      "id": "d650fb8d",
      "metadata": {
        "papermill": {
          "duration": 0.001971,
          "end_time": "2023-09-19T19:58:21.145057",
          "exception": false,
          "start_time": "2023-09-19T19:58:21.143086",
          "status": "completed"
        },
        "tags": []
      },
      "source": [
        "## Circuit with additive backend"
      ]
    },
    {
      "cell_type": "code",
      "execution_count": 4,
      "id": "56e035d0",
      "metadata": {
        "execution": {
          "iopub.execute_input": "2023-09-19T19:58:21.151210Z",
          "iopub.status.busy": "2023-09-19T19:58:21.150513Z",
          "iopub.status.idle": "2023-09-19T19:58:21.190861Z",
          "shell.execute_reply": "2023-09-19T19:58:21.189911Z"
        },
        "papermill": {
          "duration": 0.045811,
          "end_time": "2023-09-19T19:58:21.192826",
          "exception": false,
          "start_time": "2023-09-19T19:58:21.147015",
          "status": "completed"
        },
        "tags": []
      },
      "outputs": [
        {
          "name": "stderr",
          "output_type": "stream",
          "text": [
            "WARNING: All log messages before absl::InitializeLog() is called are written to STDERR\n",
            "I0000 00:00:1695153501.161971    6095 tfrt_cpu_pjrt_client.cc:349] TfrtCpuClient created.\n"
          ]
        }
      ],
      "source": [
        "mzi, _ = sax.circuit(\n",
        "    netlist={\n",
        "        \"instances\": {\n",
        "            \"lft\": coupler,\n",
        "            \"top\": partial(waveguide, length=500),\n",
        "            \"btm\": partial(waveguide, length=100),\n",
        "            \"rgt\": coupler,\n",
        "        },\n",
        "        \"connections\": {\n",
        "            \"lft,out0\": \"btm,in0\",\n",
        "            \"btm,out0\": \"rgt,in0\",\n",
        "            \"lft,out1\": \"top,in0\",\n",
        "            \"top,out0\": \"rgt,in1\",\n",
        "        },\n",
        "        \"ports\": {\n",
        "            \"in0\": \"lft,in0\",\n",
        "            \"in1\": \"lft,in1\",\n",
        "            \"out0\": \"rgt,out0\",\n",
        "            \"out1\": \"rgt,out1\",\n",
        "        },\n",
        "    },\n",
        "    backend=\"additive\",\n",
        ")"
      ]
    },
    {
      "cell_type": "code",
      "execution_count": 5,
      "id": "c1f245fd",
      "metadata": {
        "execution": {
          "iopub.execute_input": "2023-09-19T19:58:21.199041Z",
          "iopub.status.busy": "2023-09-19T19:58:21.198549Z",
          "iopub.status.idle": "2023-09-19T19:58:21.348135Z",
          "shell.execute_reply": "2023-09-19T19:58:21.347458Z"
        },
        "papermill": {
          "duration": 0.154731,
          "end_time": "2023-09-19T19:58:21.349899",
          "exception": false,
          "start_time": "2023-09-19T19:58:21.195168",
          "status": "completed"
        },
        "tags": []
      },
      "outputs": [
        {
          "data": {
            "text/plain": [
              "{('in0', 'out0'): [Array([200.], dtype=float64), Array([600.], dtype=float64)],\n",
              " ('in0', 'out1'): [Array([200.], dtype=float64), Array([600.], dtype=float64)],\n",
              " ('in1', 'out0'): [Array([200.], dtype=float64), Array([600.], dtype=float64)],\n",
              " ('in1', 'out1'): [Array([200.], dtype=float64), Array([600.], dtype=float64)],\n",
              " ('out0', 'in0'): [Array([200.], dtype=float64), Array([600.], dtype=float64)],\n",
              " ('out0', 'in1'): [Array([200.], dtype=float64), Array([600.], dtype=float64)],\n",
              " ('out1', 'in0'): [Array([200.], dtype=float64), Array([600.], dtype=float64)],\n",
              " ('out1', 'in1'): [Array([200.], dtype=float64), Array([600.], dtype=float64)]}"
            ]
          },
          "execution_count": 5,
          "metadata": {},
          "output_type": "execute_result"
        }
      ],
      "source": [
        "mzi()"
      ]
    }
  ],
  "metadata": {
    "kernelspec": {
      "display_name": "sax",
      "language": "python",
      "name": "sax"
    },
    "language_info": {
      "codemirror_mode": {
        "name": "ipython",
        "version": 3
      },
      "file_extension": ".py",
      "mimetype": "text/x-python",
      "name": "python",
      "nbconvert_exporter": "python",
      "pygments_lexer": "ipython3",
      "version": "3.10.12"
    },
    "papermill": {
      "default_parameters": {},
      "duration": 3.92245,
      "end_time": "2023-09-19T19:58:22.072971",
      "environment_variables": {},
      "exception": null,
      "input_path": "./examples/06_additive_backend.ipynb",
      "output_path": "./examples/06_additive_backend.ipynb",
      "parameters": {},
      "start_time": "2023-09-19T19:58:18.150521",
      "version": "2.4.0"
    }
  },
  "nbformat": 4,
  "nbformat_minor": 5
}