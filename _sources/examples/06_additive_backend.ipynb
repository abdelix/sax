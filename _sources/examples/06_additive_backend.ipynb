{
  "cells": [
    {
      "cell_type": "markdown",
      "id": "6f097557",
      "metadata": {
        "papermill": {
          "duration": 0.002391,
          "end_time": "2023-09-03T17:24:18.370522",
          "exception": false,
          "start_time": "2023-09-03T17:24:18.368131",
          "status": "completed"
        },
        "tags": []
      },
      "source": [
        "# Additive Backend"
      ]
    },
    {
      "cell_type": "markdown",
      "id": "56868383",
      "metadata": {
        "papermill": {
          "duration": 0.001535,
          "end_time": "2023-09-03T17:24:18.375426",
          "exception": false,
          "start_time": "2023-09-03T17:24:18.373891",
          "status": "completed"
        },
        "tags": []
      },
      "source": [
        "> The additive backend can be used to obtain pathlengths and group delays."
      ]
    },
    {
      "cell_type": "code",
      "execution_count": 1,
      "id": "79c98bc0",
      "metadata": {
        "execution": {
          "iopub.execute_input": "2023-09-03T17:24:18.380970Z",
          "iopub.status.busy": "2023-09-03T17:24:18.380199Z",
          "iopub.status.idle": "2023-09-03T17:24:19.744093Z",
          "shell.execute_reply": "2023-09-03T17:24:19.743412Z"
        },
        "papermill": {
          "duration": 1.36904,
          "end_time": "2023-09-03T17:24:19.746038",
          "exception": false,
          "start_time": "2023-09-03T17:24:18.376998",
          "status": "completed"
        },
        "tags": []
      },
      "outputs": [],
      "source": [
        "from functools import partial\n",
        "\n",
        "import jax\n",
        "import jax.example_libraries.optimizers as opt\n",
        "import jax.numpy as jnp\n",
        "import matplotlib.pyplot as plt  # plotting\n",
        "import sax"
      ]
    },
    {
      "cell_type": "markdown",
      "id": "6a42b9d9",
      "metadata": {
        "papermill": {
          "duration": 0.002392,
          "end_time": "2023-09-03T17:24:19.750410",
          "exception": false,
          "start_time": "2023-09-03T17:24:19.748018",
          "status": "completed"
        },
        "tags": []
      },
      "source": [
        "## Parametrized Models"
      ]
    },
    {
      "cell_type": "code",
      "execution_count": 2,
      "id": "79e7e40e",
      "metadata": {
        "execution": {
          "iopub.execute_input": "2023-09-03T17:24:19.755582Z",
          "iopub.status.busy": "2023-09-03T17:24:19.754624Z",
          "iopub.status.idle": "2023-09-03T17:24:19.760547Z",
          "shell.execute_reply": "2023-09-03T17:24:19.759892Z"
        },
        "papermill": {
          "duration": 0.010009,
          "end_time": "2023-09-03T17:24:19.762048",
          "exception": false,
          "start_time": "2023-09-03T17:24:19.752039",
          "status": "completed"
        },
        "tags": []
      },
      "outputs": [],
      "source": [
        "def coupler(length=50.0) -> sax.SDict:\n",
        "    sdict =  {\n",
        "        (\"in0\", \"out0\"): length,\n",
        "        (\"in0\", \"out1\"): length,\n",
        "        (\"in1\", \"out0\"): length,\n",
        "        (\"in1\", \"out1\"): length,\n",
        "    }\n",
        "    return sax.reciprocal(sdict)"
      ]
    },
    {
      "cell_type": "code",
      "execution_count": 3,
      "id": "3248838c",
      "metadata": {
        "execution": {
          "iopub.execute_input": "2023-09-03T17:24:19.766557Z",
          "iopub.status.busy": "2023-09-03T17:24:19.766030Z",
          "iopub.status.idle": "2023-09-03T17:24:19.769472Z",
          "shell.execute_reply": "2023-09-03T17:24:19.768834Z"
        },
        "papermill": {
          "duration": 0.00741,
          "end_time": "2023-09-03T17:24:19.771073",
          "exception": false,
          "start_time": "2023-09-03T17:24:19.763663",
          "status": "completed"
        },
        "tags": []
      },
      "outputs": [],
      "source": [
        "def waveguide(length=100.0) -> sax.SDict:\n",
        "    sdict = {\n",
        "        (\"in0\", \"out0\"): length,\n",
        "    }\n",
        "    return sax.reciprocal(sdict)"
      ]
    },
    {
      "cell_type": "markdown",
      "id": "d650fb8d",
      "metadata": {
        "papermill": {
          "duration": 0.001567,
          "end_time": "2023-09-03T17:24:19.774269",
          "exception": false,
          "start_time": "2023-09-03T17:24:19.772702",
          "status": "completed"
        },
        "tags": []
      },
      "source": [
        "## Circuit with additive backend"
      ]
    },
    {
      "cell_type": "code",
      "execution_count": 4,
      "id": "56e035d0",
      "metadata": {
        "execution": {
          "iopub.execute_input": "2023-09-03T17:24:19.778780Z",
          "iopub.status.busy": "2023-09-03T17:24:19.778368Z",
          "iopub.status.idle": "2023-09-03T17:24:19.792960Z",
          "shell.execute_reply": "2023-09-03T17:24:19.792409Z"
        },
        "papermill": {
          "duration": 0.018464,
          "end_time": "2023-09-03T17:24:19.794337",
          "exception": false,
          "start_time": "2023-09-03T17:24:19.775873",
          "status": "completed"
        },
        "tags": []
      },
      "outputs": [],
      "source": [
        "mzi, _ = sax.circuit(\n",
        "    netlist={\n",
        "        \"instances\": {\n",
        "            \"lft\": coupler,\n",
        "            \"top\": partial(waveguide, length=500),\n",
        "            \"btm\": partial(waveguide, length=100),\n",
        "            \"rgt\": coupler,\n",
        "        },\n",
        "        \"connections\": {\n",
        "            \"lft,out0\": \"btm,in0\",\n",
        "            \"btm,out0\": \"rgt,in0\",\n",
        "            \"lft,out1\": \"top,in0\",\n",
        "            \"top,out0\": \"rgt,in1\",\n",
        "        },\n",
        "        \"ports\": {\n",
        "            \"in0\": \"lft,in0\",\n",
        "            \"in1\": \"lft,in1\",\n",
        "            \"out0\": \"rgt,out0\",\n",
        "            \"out1\": \"rgt,out1\",\n",
        "        },\n",
        "    },\n",
        "    backend=\"additive\",\n",
        ")"
      ]
    },
    {
      "cell_type": "code",
      "execution_count": 5,
      "id": "c1f245fd",
      "metadata": {
        "execution": {
          "iopub.execute_input": "2023-09-03T17:24:19.799140Z",
          "iopub.status.busy": "2023-09-03T17:24:19.798478Z",
          "iopub.status.idle": "2023-09-03T17:24:19.913603Z",
          "shell.execute_reply": "2023-09-03T17:24:19.913010Z"
        },
        "papermill": {
          "duration": 0.119152,
          "end_time": "2023-09-03T17:24:19.915182",
          "exception": false,
          "start_time": "2023-09-03T17:24:19.796030",
          "status": "completed"
        },
        "tags": []
      },
      "outputs": [
        {
          "data": {
            "text/plain": [
              "{('in0', 'out0'): [Array([200.], dtype=float64), Array([600.], dtype=float64)],\n",
              " ('in0', 'out1'): [Array([200.], dtype=float64), Array([600.], dtype=float64)],\n",
              " ('in1', 'out0'): [Array([200.], dtype=float64), Array([600.], dtype=float64)],\n",
              " ('in1', 'out1'): [Array([200.], dtype=float64), Array([600.], dtype=float64)],\n",
              " ('out0', 'in0'): [Array([200.], dtype=float64), Array([600.], dtype=float64)],\n",
              " ('out0', 'in1'): [Array([200.], dtype=float64), Array([600.], dtype=float64)],\n",
              " ('out1', 'in0'): [Array([200.], dtype=float64), Array([600.], dtype=float64)],\n",
              " ('out1', 'in1'): [Array([200.], dtype=float64), Array([600.], dtype=float64)]}"
            ]
          },
          "execution_count": 5,
          "metadata": {},
          "output_type": "execute_result"
        }
      ],
      "source": [
        "mzi()"
      ]
    }
  ],
  "metadata": {
    "kernelspec": {
      "display_name": "sax",
      "language": "python",
      "name": "sax"
    },
    "language_info": {
      "codemirror_mode": {
        "name": "ipython",
        "version": 3
      },
      "file_extension": ".py",
      "mimetype": "text/x-python",
      "name": "python",
      "nbconvert_exporter": "python",
      "pygments_lexer": "ipython3",
      "version": "3.10.12"
    },
    "papermill": {
      "default_parameters": {},
      "duration": 3.501577,
      "end_time": "2023-09-03T17:24:20.537999",
      "environment_variables": {},
      "exception": null,
      "input_path": "./examples/06_additive_backend.ipynb",
      "output_path": "./examples/06_additive_backend.ipynb",
      "parameters": {},
      "start_time": "2023-09-03T17:24:17.036422",
      "version": "2.4.0"
    }
  },
  "nbformat": 4,
  "nbformat_minor": 5
}