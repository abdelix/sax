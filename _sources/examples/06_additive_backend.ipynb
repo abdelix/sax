{
  "cells": [
    {
      "cell_type": "markdown",
      "id": "6f097557",
      "metadata": {
        "papermill": {
          "duration": 0.001251,
          "end_time": "2023-09-03T04:40:07.658781",
          "exception": false,
          "start_time": "2023-09-03T04:40:07.657530",
          "status": "completed"
        },
        "tags": []
      },
      "source": [
        "# Additive Backend"
      ]
    },
    {
      "cell_type": "markdown",
      "id": "56868383",
      "metadata": {
        "papermill": {
          "duration": 0.00105,
          "end_time": "2023-09-03T04:40:07.660965",
          "exception": false,
          "start_time": "2023-09-03T04:40:07.659915",
          "status": "completed"
        },
        "tags": []
      },
      "source": [
        "> The additive backend can be used to obtain pathlengths and group delays."
      ]
    },
    {
      "cell_type": "code",
      "execution_count": null,
      "id": "79c98bc0",
      "metadata": {
        "papermill": {
          "duration": 1.908481,
          "end_time": "2023-09-03T04:40:09.570349",
          "exception": false,
          "start_time": "2023-09-03T04:40:07.661868",
          "status": "completed"
        },
        "tags": []
      },
      "outputs": [],
      "source": [
        "from functools import partial\n",
        "\n",
        "import jax\n",
        "import jax.example_libraries.optimizers as opt\n",
        "import jax.numpy as jnp\n",
        "import matplotlib.pyplot as plt  # plotting\n",
        "import sax"
      ]
    },
    {
      "cell_type": "markdown",
      "id": "6a42b9d9",
      "metadata": {
        "papermill": {
          "duration": 0.001774,
          "end_time": "2023-09-03T04:40:09.574292",
          "exception": false,
          "start_time": "2023-09-03T04:40:09.572518",
          "status": "completed"
        },
        "tags": []
      },
      "source": [
        "## Parametrized Models"
      ]
    },
    {
      "cell_type": "code",
      "execution_count": null,
      "id": "79e7e40e",
      "metadata": {
        "papermill": {
          "duration": 0.008607,
          "end_time": "2023-09-03T04:40:09.584749",
          "exception": false,
          "start_time": "2023-09-03T04:40:09.576142",
          "status": "completed"
        },
        "tags": []
      },
      "outputs": [],
      "source": [
        "def coupler(length=50.0) -> sax.SDict:\n",
        "    sdict =  {\n",
        "        (\"in0\", \"out0\"): length,\n",
        "        (\"in0\", \"out1\"): length,\n",
        "        (\"in1\", \"out0\"): length,\n",
        "        (\"in1\", \"out1\"): length,\n",
        "    }\n",
        "    return sax.reciprocal(sdict)"
      ]
    },
    {
      "cell_type": "code",
      "execution_count": null,
      "id": "3248838c",
      "metadata": {
        "papermill": {
          "duration": 0.007355,
          "end_time": "2023-09-03T04:40:09.594046",
          "exception": false,
          "start_time": "2023-09-03T04:40:09.586691",
          "status": "completed"
        },
        "tags": []
      },
      "outputs": [],
      "source": [
        "def waveguide(length=100.0) -> sax.SDict:\n",
        "    sdict = {\n",
        "        (\"in0\", \"out0\"): length,\n",
        "    }\n",
        "    return sax.reciprocal(sdict)"
      ]
    },
    {
      "cell_type": "markdown",
      "id": "d650fb8d",
      "metadata": {
        "papermill": {
          "duration": 0.001797,
          "end_time": "2023-09-03T04:40:09.597709",
          "exception": false,
          "start_time": "2023-09-03T04:40:09.595912",
          "status": "completed"
        },
        "tags": []
      },
      "source": [
        "## Circuit with additive backend"
      ]
    },
    {
      "cell_type": "code",
      "execution_count": null,
      "id": "56e035d0",
      "metadata": {
        "papermill": {
          "duration": 0.037986,
          "end_time": "2023-09-03T04:40:09.637803",
          "exception": false,
          "start_time": "2023-09-03T04:40:09.599817",
          "status": "completed"
        },
        "tags": []
      },
      "outputs": [],
      "source": [
        "mzi, _ = sax.circuit(\n",
        "    netlist={\n",
        "        \"instances\": {\n",
        "            \"lft\": coupler,\n",
        "            \"top\": partial(waveguide, length=500),\n",
        "            \"btm\": partial(waveguide, length=100),\n",
        "            \"rgt\": coupler,\n",
        "        },\n",
        "        \"connections\": {\n",
        "            \"lft,out0\": \"btm,in0\",\n",
        "            \"btm,out0\": \"rgt,in0\",\n",
        "            \"lft,out1\": \"top,in0\",\n",
        "            \"top,out0\": \"rgt,in1\",\n",
        "        },\n",
        "        \"ports\": {\n",
        "            \"in0\": \"lft,in0\",\n",
        "            \"in1\": \"lft,in1\",\n",
        "            \"out0\": \"rgt,out0\",\n",
        "            \"out1\": \"rgt,out1\",\n",
        "        },\n",
        "    },\n",
        "    backend=\"additive\",\n",
        ")"
      ]
    },
    {
      "cell_type": "code",
      "execution_count": null,
      "id": "c1f245fd",
      "metadata": {
        "papermill": {
          "duration": 0.17349,
          "end_time": "2023-09-03T04:40:09.813415",
          "exception": false,
          "start_time": "2023-09-03T04:40:09.639925",
          "status": "completed"
        },
        "tags": []
      },
      "outputs": [],
      "source": [
        "mzi()"
      ]
    }
  ],
  "metadata": {
    "kernelspec": {
      "display_name": "sax",
      "language": "python",
      "name": "sax"
    },
    "language_info": {
      "codemirror_mode": {
        "name": "ipython",
        "version": 3
      },
      "file_extension": ".py",
      "mimetype": "text/x-python",
      "name": "python",
      "nbconvert_exporter": "python",
      "pygments_lexer": "ipython3",
      "version": "3.9.18"
    },
    "papermill": {
      "default_parameters": {},
      "duration": 3.92673,
      "end_time": "2023-09-03T04:40:10.341220",
      "environment_variables": {},
      "exception": null,
      "input_path": "./06_additive_backend.ipynb",
      "output_path": "./06_additive_backend.ipynb",
      "parameters": {},
      "start_time": "2023-09-03T04:40:06.414490",
      "version": "2.4.0"
    }
  },
  "nbformat": 4,
  "nbformat_minor": 5
}