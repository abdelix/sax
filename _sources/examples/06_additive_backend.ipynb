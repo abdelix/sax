{
  "cells": [
    {
      "cell_type": "markdown",
      "id": "6f097557",
      "metadata": {
        "papermill": {
          "duration": 0.002167,
          "end_time": "2023-07-01T03:29:43.897033",
          "exception": false,
          "start_time": "2023-07-01T03:29:43.894866",
          "status": "completed"
        },
        "tags": []
      },
      "source": [
        "# Additive Backend"
      ]
    },
    {
      "cell_type": "markdown",
      "id": "56868383",
      "metadata": {
        "papermill": {
          "duration": 0.001704,
          "end_time": "2023-07-01T03:29:43.900673",
          "exception": false,
          "start_time": "2023-07-01T03:29:43.898969",
          "status": "completed"
        },
        "tags": []
      },
      "source": [
        "> The additive backend can be used to obtain pathlengths and group delays."
      ]
    },
    {
      "cell_type": "code",
      "execution_count": 1,
      "id": "79c98bc0",
      "metadata": {
        "execution": {
          "iopub.execute_input": "2023-07-01T03:29:43.905477Z",
          "iopub.status.busy": "2023-07-01T03:29:43.904889Z",
          "iopub.status.idle": "2023-07-01T03:29:45.016935Z",
          "shell.execute_reply": "2023-07-01T03:29:45.016396Z"
        },
        "papermill": {
          "duration": 1.116245,
          "end_time": "2023-07-01T03:29:45.018513",
          "exception": false,
          "start_time": "2023-07-01T03:29:43.902268",
          "status": "completed"
        },
        "tags": []
      },
      "outputs": [],
      "source": [
        "from functools import partial\n",
        "\n",
        "import jax\n",
        "import jax.example_libraries.optimizers as opt\n",
        "import jax.numpy as jnp\n",
        "import matplotlib.pyplot as plt  # plotting\n",
        "import sax"
      ]
    },
    {
      "cell_type": "markdown",
      "id": "6a42b9d9",
      "metadata": {
        "papermill": {
          "duration": 0.001478,
          "end_time": "2023-07-01T03:29:45.021769",
          "exception": false,
          "start_time": "2023-07-01T03:29:45.020291",
          "status": "completed"
        },
        "tags": []
      },
      "source": [
        "## Parametrized Models"
      ]
    },
    {
      "cell_type": "code",
      "execution_count": 2,
      "id": "79e7e40e",
      "metadata": {
        "execution": {
          "iopub.execute_input": "2023-07-01T03:29:45.026286Z",
          "iopub.status.busy": "2023-07-01T03:29:45.025818Z",
          "iopub.status.idle": "2023-07-01T03:29:45.030227Z",
          "shell.execute_reply": "2023-07-01T03:29:45.029767Z"
        },
        "papermill": {
          "duration": 0.008389,
          "end_time": "2023-07-01T03:29:45.031610",
          "exception": false,
          "start_time": "2023-07-01T03:29:45.023221",
          "status": "completed"
        },
        "tags": []
      },
      "outputs": [],
      "source": [
        "def coupler(length=50.0) -> sax.SDict:\n",
        "    sdict =  {\n",
        "        (\"in0\", \"out0\"): length,\n",
        "        (\"in0\", \"out1\"): length,\n",
        "        (\"in1\", \"out0\"): length,\n",
        "        (\"in1\", \"out1\"): length,\n",
        "    }\n",
        "    return sax.reciprocal(sdict)"
      ]
    },
    {
      "cell_type": "code",
      "execution_count": 3,
      "id": "3248838c",
      "metadata": {
        "execution": {
          "iopub.execute_input": "2023-07-01T03:29:45.035613Z",
          "iopub.status.busy": "2023-07-01T03:29:45.035301Z",
          "iopub.status.idle": "2023-07-01T03:29:45.038087Z",
          "shell.execute_reply": "2023-07-01T03:29:45.037615Z"
        },
        "papermill": {
          "duration": 0.006641,
          "end_time": "2023-07-01T03:29:45.039738",
          "exception": false,
          "start_time": "2023-07-01T03:29:45.033097",
          "status": "completed"
        },
        "tags": []
      },
      "outputs": [],
      "source": [
        "def waveguide(length=100.0) -> sax.SDict:\n",
        "    sdict = {\n",
        "        (\"in0\", \"out0\"): length,\n",
        "    }\n",
        "    return sax.reciprocal(sdict)"
      ]
    },
    {
      "cell_type": "markdown",
      "id": "d650fb8d",
      "metadata": {
        "papermill": {
          "duration": 0.00142,
          "end_time": "2023-07-01T03:29:45.042583",
          "exception": false,
          "start_time": "2023-07-01T03:29:45.041163",
          "status": "completed"
        },
        "tags": []
      },
      "source": [
        "## Circuit with additive backend"
      ]
    },
    {
      "cell_type": "code",
      "execution_count": 4,
      "id": "56e035d0",
      "metadata": {
        "execution": {
          "iopub.execute_input": "2023-07-01T03:29:45.046296Z",
          "iopub.status.busy": "2023-07-01T03:29:45.046105Z",
          "iopub.status.idle": "2023-07-01T03:29:45.066769Z",
          "shell.execute_reply": "2023-07-01T03:29:45.064856Z"
        },
        "papermill": {
          "duration": 0.024109,
          "end_time": "2023-07-01T03:29:45.068125",
          "exception": false,
          "start_time": "2023-07-01T03:29:45.044016",
          "status": "completed"
        },
        "tags": []
      },
      "outputs": [
        {
          "name": "stderr",
          "output_type": "stream",
          "text": [
            "No GPU/TPU found, falling back to CPU. (Set TF_CPP_MIN_LOG_LEVEL=0 and rerun for more info.)\n"
          ]
        }
      ],
      "source": [
        "mzi, _ = sax.circuit(\n",
        "    netlist={\n",
        "        \"instances\": {\n",
        "            \"lft\": coupler,\n",
        "            \"top\": partial(waveguide, length=500),\n",
        "            \"btm\": partial(waveguide, length=100),\n",
        "            \"rgt\": coupler,\n",
        "        },\n",
        "        \"connections\": {\n",
        "            \"lft,out0\": \"btm,in0\",\n",
        "            \"btm,out0\": \"rgt,in0\",\n",
        "            \"lft,out1\": \"top,in0\",\n",
        "            \"top,out0\": \"rgt,in1\",\n",
        "        },\n",
        "        \"ports\": {\n",
        "            \"in0\": \"lft,in0\",\n",
        "            \"in1\": \"lft,in1\",\n",
        "            \"out0\": \"rgt,out0\",\n",
        "            \"out1\": \"rgt,out1\",\n",
        "        },\n",
        "    },\n",
        "    backend=\"additive\",\n",
        ")"
      ]
    },
    {
      "cell_type": "code",
      "execution_count": 5,
      "id": "c1f245fd",
      "metadata": {
        "execution": {
          "iopub.execute_input": "2023-07-01T03:29:45.072700Z",
          "iopub.status.busy": "2023-07-01T03:29:45.072163Z",
          "iopub.status.idle": "2023-07-01T03:29:45.178066Z",
          "shell.execute_reply": "2023-07-01T03:29:45.177563Z"
        },
        "papermill": {
          "duration": 0.109834,
          "end_time": "2023-07-01T03:29:45.179561",
          "exception": false,
          "start_time": "2023-07-01T03:29:45.069727",
          "status": "completed"
        },
        "tags": []
      },
      "outputs": [
        {
          "data": {
            "text/plain": [
              "{('in0', 'out0'): [Array([200.], dtype=float32), Array([600.], dtype=float32)],\n",
              " ('in0', 'out1'): [Array([200.], dtype=float32), Array([600.], dtype=float32)],\n",
              " ('in1', 'out0'): [Array([200.], dtype=float32), Array([600.], dtype=float32)],\n",
              " ('in1', 'out1'): [Array([200.], dtype=float32), Array([600.], dtype=float32)],\n",
              " ('out0', 'in0'): [Array([200.], dtype=float32), Array([600.], dtype=float32)],\n",
              " ('out0', 'in1'): [Array([200.], dtype=float32), Array([600.], dtype=float32)],\n",
              " ('out1', 'in0'): [Array([200.], dtype=float32), Array([600.], dtype=float32)],\n",
              " ('out1', 'in1'): [Array([200.], dtype=float32), Array([600.], dtype=float32)]}"
            ]
          },
          "execution_count": 5,
          "metadata": {},
          "output_type": "execute_result"
        }
      ],
      "source": [
        "mzi()"
      ]
    }
  ],
  "metadata": {
    "kernelspec": {
      "display_name": "Python 3 (ipykernel)",
      "language": "python",
      "name": "python3"
    },
    "language_info": {
      "codemirror_mode": {
        "name": "ipython",
        "version": 3
      },
      "file_extension": ".py",
      "mimetype": "text/x-python",
      "name": "python",
      "nbconvert_exporter": "python",
      "pygments_lexer": "ipython3",
      "version": "3.11.4"
    },
    "papermill": {
      "default_parameters": {},
      "duration": 2.978237,
      "end_time": "2023-07-01T03:29:45.601064",
      "environment_variables": {},
      "exception": null,
      "input_path": "./examples/06_additive_backend.ipynb",
      "output_path": "./examples/06_additive_backend.ipynb",
      "parameters": {},
      "start_time": "2023-07-01T03:29:42.622827",
      "version": "2.3.4"
    }
  },
  "nbformat": 4,
  "nbformat_minor": 5
}