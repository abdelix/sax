{
  "cells": [
    {
      "cell_type": "markdown",
      "id": "6f097557",
      "metadata": {
        "papermill": {
          "duration": 0.00426,
          "end_time": "2023-09-02T21:29:39.704493",
          "exception": false,
          "start_time": "2023-09-02T21:29:39.700233",
          "status": "completed"
        },
        "tags": []
      },
      "source": [
        "# Additive Backend"
      ]
    },
    {
      "cell_type": "markdown",
      "id": "56868383",
      "metadata": {
        "papermill": {
          "duration": 0.001733,
          "end_time": "2023-09-02T21:29:39.708928",
          "exception": false,
          "start_time": "2023-09-02T21:29:39.707195",
          "status": "completed"
        },
        "tags": []
      },
      "source": [
        "> The additive backend can be used to obtain pathlengths and group delays."
      ]
    },
    {
      "cell_type": "code",
      "execution_count": 1,
      "id": "79c98bc0",
      "metadata": {
        "execution": {
          "iopub.execute_input": "2023-09-02T21:29:39.714091Z",
          "iopub.status.busy": "2023-09-02T21:29:39.713517Z",
          "iopub.status.idle": "2023-09-02T21:29:41.218837Z",
          "shell.execute_reply": "2023-09-02T21:29:41.218066Z"
        },
        "papermill": {
          "duration": 1.510617,
          "end_time": "2023-09-02T21:29:41.221274",
          "exception": false,
          "start_time": "2023-09-02T21:29:39.710657",
          "status": "completed"
        },
        "tags": []
      },
      "outputs": [],
      "source": [
        "from functools import partial\n",
        "\n",
        "import jax\n",
        "import jax.example_libraries.optimizers as opt\n",
        "import jax.numpy as jnp\n",
        "import matplotlib.pyplot as plt  # plotting\n",
        "import sax"
      ]
    },
    {
      "cell_type": "markdown",
      "id": "6a42b9d9",
      "metadata": {
        "papermill": {
          "duration": 0.001804,
          "end_time": "2023-09-02T21:29:41.225199",
          "exception": false,
          "start_time": "2023-09-02T21:29:41.223395",
          "status": "completed"
        },
        "tags": []
      },
      "source": [
        "## Parametrized Models"
      ]
    },
    {
      "cell_type": "code",
      "execution_count": 2,
      "id": "79e7e40e",
      "metadata": {
        "execution": {
          "iopub.execute_input": "2023-09-02T21:29:41.230497Z",
          "iopub.status.busy": "2023-09-02T21:29:41.229804Z",
          "iopub.status.idle": "2023-09-02T21:29:41.234500Z",
          "shell.execute_reply": "2023-09-02T21:29:41.233781Z"
        },
        "papermill": {
          "duration": 0.00907,
          "end_time": "2023-09-02T21:29:41.236093",
          "exception": false,
          "start_time": "2023-09-02T21:29:41.227023",
          "status": "completed"
        },
        "tags": []
      },
      "outputs": [],
      "source": [
        "def coupler(length=50.0) -> sax.SDict:\n",
        "    sdict =  {\n",
        "        (\"in0\", \"out0\"): length,\n",
        "        (\"in0\", \"out1\"): length,\n",
        "        (\"in1\", \"out0\"): length,\n",
        "        (\"in1\", \"out1\"): length,\n",
        "    }\n",
        "    return sax.reciprocal(sdict)"
      ]
    },
    {
      "cell_type": "code",
      "execution_count": 3,
      "id": "3248838c",
      "metadata": {
        "execution": {
          "iopub.execute_input": "2023-09-02T21:29:41.240904Z",
          "iopub.status.busy": "2023-09-02T21:29:41.240521Z",
          "iopub.status.idle": "2023-09-02T21:29:41.244181Z",
          "shell.execute_reply": "2023-09-02T21:29:41.243527Z"
        },
        "papermill": {
          "duration": 0.007776,
          "end_time": "2023-09-02T21:29:41.245553",
          "exception": false,
          "start_time": "2023-09-02T21:29:41.237777",
          "status": "completed"
        },
        "tags": []
      },
      "outputs": [],
      "source": [
        "def waveguide(length=100.0) -> sax.SDict:\n",
        "    sdict = {\n",
        "        (\"in0\", \"out0\"): length,\n",
        "    }\n",
        "    return sax.reciprocal(sdict)"
      ]
    },
    {
      "cell_type": "markdown",
      "id": "d650fb8d",
      "metadata": {
        "papermill": {
          "duration": 0.001725,
          "end_time": "2023-09-02T21:29:41.249039",
          "exception": false,
          "start_time": "2023-09-02T21:29:41.247314",
          "status": "completed"
        },
        "tags": []
      },
      "source": [
        "## Circuit with additive backend"
      ]
    },
    {
      "cell_type": "code",
      "execution_count": 4,
      "id": "56e035d0",
      "metadata": {
        "execution": {
          "iopub.execute_input": "2023-09-02T21:29:41.254034Z",
          "iopub.status.busy": "2023-09-02T21:29:41.253575Z",
          "iopub.status.idle": "2023-09-02T21:29:41.269819Z",
          "shell.execute_reply": "2023-09-02T21:29:41.269199Z"
        },
        "papermill": {
          "duration": 0.020566,
          "end_time": "2023-09-02T21:29:41.271342",
          "exception": false,
          "start_time": "2023-09-02T21:29:41.250776",
          "status": "completed"
        },
        "tags": []
      },
      "outputs": [],
      "source": [
        "mzi, _ = sax.circuit(\n",
        "    netlist={\n",
        "        \"instances\": {\n",
        "            \"lft\": coupler,\n",
        "            \"top\": partial(waveguide, length=500),\n",
        "            \"btm\": partial(waveguide, length=100),\n",
        "            \"rgt\": coupler,\n",
        "        },\n",
        "        \"connections\": {\n",
        "            \"lft,out0\": \"btm,in0\",\n",
        "            \"btm,out0\": \"rgt,in0\",\n",
        "            \"lft,out1\": \"top,in0\",\n",
        "            \"top,out0\": \"rgt,in1\",\n",
        "        },\n",
        "        \"ports\": {\n",
        "            \"in0\": \"lft,in0\",\n",
        "            \"in1\": \"lft,in1\",\n",
        "            \"out0\": \"rgt,out0\",\n",
        "            \"out1\": \"rgt,out1\",\n",
        "        },\n",
        "    },\n",
        "    backend=\"additive\",\n",
        ")"
      ]
    },
    {
      "cell_type": "code",
      "execution_count": 5,
      "id": "c1f245fd",
      "metadata": {
        "execution": {
          "iopub.execute_input": "2023-09-02T21:29:41.276735Z",
          "iopub.status.busy": "2023-09-02T21:29:41.276032Z",
          "iopub.status.idle": "2023-09-02T21:29:41.414817Z",
          "shell.execute_reply": "2023-09-02T21:29:41.414147Z"
        },
        "papermill": {
          "duration": 0.143259,
          "end_time": "2023-09-02T21:29:41.416459",
          "exception": false,
          "start_time": "2023-09-02T21:29:41.273200",
          "status": "completed"
        },
        "tags": []
      },
      "outputs": [
        {
          "data": {
            "text/plain": [
              "{('in0', 'out0'): [Array([200.], dtype=float64), Array([600.], dtype=float64)],\n",
              " ('in0', 'out1'): [Array([200.], dtype=float64), Array([600.], dtype=float64)],\n",
              " ('in1', 'out0'): [Array([200.], dtype=float64), Array([600.], dtype=float64)],\n",
              " ('in1', 'out1'): [Array([200.], dtype=float64), Array([600.], dtype=float64)],\n",
              " ('out0', 'in0'): [Array([200.], dtype=float64), Array([600.], dtype=float64)],\n",
              " ('out0', 'in1'): [Array([200.], dtype=float64), Array([600.], dtype=float64)],\n",
              " ('out1', 'in0'): [Array([200.], dtype=float64), Array([600.], dtype=float64)],\n",
              " ('out1', 'in1'): [Array([200.], dtype=float64), Array([600.], dtype=float64)]}"
            ]
          },
          "execution_count": 5,
          "metadata": {},
          "output_type": "execute_result"
        }
      ],
      "source": [
        "mzi()"
      ]
    }
  ],
  "metadata": {
    "kernelspec": {
      "display_name": "sax",
      "language": "python",
      "name": "sax"
    },
    "language_info": {
      "codemirror_mode": {
        "name": "ipython",
        "version": 3
      },
      "file_extension": ".py",
      "mimetype": "text/x-python",
      "name": "python",
      "nbconvert_exporter": "python",
      "pygments_lexer": "ipython3",
      "version": "3.11.5"
    },
    "papermill": {
      "default_parameters": {},
      "duration": 3.657309,
      "end_time": "2023-09-02T21:29:42.040826",
      "environment_variables": {},
      "exception": null,
      "input_path": "./examples/06_additive_backend.ipynb",
      "output_path": "./examples/06_additive_backend.ipynb",
      "parameters": {},
      "start_time": "2023-09-02T21:29:38.383517",
      "version": "2.4.0"
    }
  },
  "nbformat": 4,
  "nbformat_minor": 5
}