{
  "cells": [
    {
      "cell_type": "markdown",
      "id": "6f097557",
      "metadata": {
        "papermill": {
          "duration": 0.001882,
          "end_time": "2024-01-29T18:53:30.099628",
          "exception": false,
          "start_time": "2024-01-29T18:53:30.097746",
          "status": "completed"
        },
        "tags": []
      },
      "source": [
        "# Additive Backend"
      ]
    },
    {
      "cell_type": "markdown",
      "id": "56868383",
      "metadata": {
        "papermill": {
          "duration": 0.001255,
          "end_time": "2024-01-29T18:53:30.102315",
          "exception": false,
          "start_time": "2024-01-29T18:53:30.101060",
          "status": "completed"
        },
        "tags": []
      },
      "source": [
        "> The additive backend can be used to obtain pathlengths and group delays."
      ]
    },
    {
      "cell_type": "code",
      "execution_count": 1,
      "id": "79c98bc0",
      "metadata": {
        "execution": {
          "iopub.execute_input": "2024-01-29T18:53:30.105794Z",
          "iopub.status.busy": "2024-01-29T18:53:30.105426Z",
          "iopub.status.idle": "2024-01-29T18:53:31.089274Z",
          "shell.execute_reply": "2024-01-29T18:53:31.088705Z"
        },
        "papermill": {
          "duration": 0.987321,
          "end_time": "2024-01-29T18:53:31.090845",
          "exception": false,
          "start_time": "2024-01-29T18:53:30.103524",
          "status": "completed"
        },
        "tags": []
      },
      "outputs": [],
      "source": [
        "from functools import partial\n",
        "\n",
        "import jax\n",
        "import jax.example_libraries.optimizers as opt\n",
        "import jax.numpy as jnp\n",
        "import matplotlib.pyplot as plt  # plotting\n",
        "import sax"
      ]
    },
    {
      "cell_type": "markdown",
      "id": "6a42b9d9",
      "metadata": {
        "papermill": {
          "duration": 0.001301,
          "end_time": "2024-01-29T18:53:31.093772",
          "exception": false,
          "start_time": "2024-01-29T18:53:31.092471",
          "status": "completed"
        },
        "tags": []
      },
      "source": [
        "## Parametrized Models"
      ]
    },
    {
      "cell_type": "code",
      "execution_count": 2,
      "id": "79e7e40e",
      "metadata": {
        "execution": {
          "iopub.execute_input": "2024-01-29T18:53:31.097219Z",
          "iopub.status.busy": "2024-01-29T18:53:31.096905Z",
          "iopub.status.idle": "2024-01-29T18:53:31.100432Z",
          "shell.execute_reply": "2024-01-29T18:53:31.099851Z"
        },
        "papermill": {
          "duration": 0.006702,
          "end_time": "2024-01-29T18:53:31.101664",
          "exception": false,
          "start_time": "2024-01-29T18:53:31.094962",
          "status": "completed"
        },
        "tags": []
      },
      "outputs": [],
      "source": [
        "def coupler(length=50.0) -> sax.SDict:\n",
        "    sdict = {\n",
        "        (\"in0\", \"out0\"): length,\n",
        "        (\"in0\", \"out1\"): length,\n",
        "        (\"in1\", \"out0\"): length,\n",
        "        (\"in1\", \"out1\"): length,\n",
        "    }\n",
        "    return sax.reciprocal(sdict)"
      ]
    },
    {
      "cell_type": "code",
      "execution_count": 3,
      "id": "3248838c",
      "metadata": {
        "execution": {
          "iopub.execute_input": "2024-01-29T18:53:31.105112Z",
          "iopub.status.busy": "2024-01-29T18:53:31.104719Z",
          "iopub.status.idle": "2024-01-29T18:53:31.107692Z",
          "shell.execute_reply": "2024-01-29T18:53:31.107119Z"
        },
        "papermill": {
          "duration": 0.005928,
          "end_time": "2024-01-29T18:53:31.108810",
          "exception": false,
          "start_time": "2024-01-29T18:53:31.102882",
          "status": "completed"
        },
        "tags": []
      },
      "outputs": [],
      "source": [
        "def waveguide(length=100.0) -> sax.SDict:\n",
        "    sdict = {\n",
        "        (\"in0\", \"out0\"): length,\n",
        "    }\n",
        "    return sax.reciprocal(sdict)"
      ]
    },
    {
      "cell_type": "markdown",
      "id": "d650fb8d",
      "metadata": {
        "papermill": {
          "duration": 0.00125,
          "end_time": "2024-01-29T18:53:31.111304",
          "exception": false,
          "start_time": "2024-01-29T18:53:31.110054",
          "status": "completed"
        },
        "tags": []
      },
      "source": [
        "## Circuit with additive backend"
      ]
    },
    {
      "cell_type": "code",
      "execution_count": 4,
      "id": "56e035d0",
      "metadata": {
        "execution": {
          "iopub.execute_input": "2024-01-29T18:53:31.114606Z",
          "iopub.status.busy": "2024-01-29T18:53:31.114296Z",
          "iopub.status.idle": "2024-01-29T18:53:31.149266Z",
          "shell.execute_reply": "2024-01-29T18:53:31.148694Z"
        },
        "papermill": {
          "duration": 0.038021,
          "end_time": "2024-01-29T18:53:31.150560",
          "exception": false,
          "start_time": "2024-01-29T18:53:31.112539",
          "status": "completed"
        },
        "tags": []
      },
      "outputs": [],
      "source": [
        "mzi, _ = sax.circuit(\n",
        "    netlist={\n",
        "        \"instances\": {\n",
        "            \"lft\": coupler,\n",
        "            \"top\": partial(waveguide, length=500),\n",
        "            \"btm\": partial(waveguide, length=100),\n",
        "            \"rgt\": coupler,\n",
        "        },\n",
        "        \"connections\": {\n",
        "            \"lft,out0\": \"btm,in0\",\n",
        "            \"btm,out0\": \"rgt,in0\",\n",
        "            \"lft,out1\": \"top,in0\",\n",
        "            \"top,out0\": \"rgt,in1\",\n",
        "        },\n",
        "        \"ports\": {\n",
        "            \"in0\": \"lft,in0\",\n",
        "            \"in1\": \"lft,in1\",\n",
        "            \"out0\": \"rgt,out0\",\n",
        "            \"out1\": \"rgt,out1\",\n",
        "        },\n",
        "    },\n",
        "    backend=\"additive\",\n",
        ")"
      ]
    },
    {
      "cell_type": "code",
      "execution_count": 5,
      "id": "c1f245fd",
      "metadata": {
        "execution": {
          "iopub.execute_input": "2024-01-29T18:53:31.154229Z",
          "iopub.status.busy": "2024-01-29T18:53:31.153878Z",
          "iopub.status.idle": "2024-01-29T18:53:31.240692Z",
          "shell.execute_reply": "2024-01-29T18:53:31.240125Z"
        },
        "papermill": {
          "duration": 0.089879,
          "end_time": "2024-01-29T18:53:31.241823",
          "exception": false,
          "start_time": "2024-01-29T18:53:31.151944",
          "status": "completed"
        },
        "tags": []
      },
      "outputs": [
        {
          "data": {
            "text/plain": [
              "{('in0', 'out0'): [Array([200.], dtype=float64), Array([600.], dtype=float64)],\n",
              " ('in0', 'out1'): [Array([200.], dtype=float64), Array([600.], dtype=float64)],\n",
              " ('in1', 'out0'): [Array([200.], dtype=float64), Array([600.], dtype=float64)],\n",
              " ('in1', 'out1'): [Array([200.], dtype=float64), Array([600.], dtype=float64)],\n",
              " ('out0', 'in0'): [Array([200.], dtype=float64), Array([600.], dtype=float64)],\n",
              " ('out0', 'in1'): [Array([200.], dtype=float64), Array([600.], dtype=float64)],\n",
              " ('out1', 'in0'): [Array([200.], dtype=float64), Array([600.], dtype=float64)],\n",
              " ('out1', 'in1'): [Array([200.], dtype=float64), Array([600.], dtype=float64)]}"
            ]
          },
          "execution_count": 5,
          "metadata": {},
          "output_type": "execute_result"
        }
      ],
      "source": [
        "mzi()"
      ]
    }
  ],
  "metadata": {
    "kernelspec": {
      "display_name": "Python 3 (ipykernel)",
      "language": "python",
      "name": "python3"
    },
    "language_info": {
      "codemirror_mode": {
        "name": "ipython",
        "version": 3
      },
      "file_extension": ".py",
      "mimetype": "text/x-python",
      "name": "python",
      "nbconvert_exporter": "python",
      "pygments_lexer": "ipython3",
      "version": "3.10.13"
    },
    "papermill": {
      "default_parameters": {},
      "duration": 2.379372,
      "end_time": "2024-01-29T18:53:31.559889",
      "environment_variables": {},
      "exception": null,
      "input_path": "./examples/06_additive_backend.ipynb",
      "output_path": "./examples/06_additive_backend.ipynb",
      "parameters": {},
      "start_time": "2024-01-29T18:53:29.180517",
      "version": "2.4.0"
    }
  },
  "nbformat": 4,
  "nbformat_minor": 5
}