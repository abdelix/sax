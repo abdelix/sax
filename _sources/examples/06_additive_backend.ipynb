{
  "cells": [
    {
      "cell_type": "markdown",
      "id": "6f097557",
      "metadata": {
        "papermill": {
          "duration": 0.00207,
          "end_time": "2023-09-01T16:49:59.576422",
          "exception": false,
          "start_time": "2023-09-01T16:49:59.574352",
          "status": "completed"
        },
        "tags": []
      },
      "source": [
        "# Additive Backend"
      ]
    },
    {
      "cell_type": "markdown",
      "id": "56868383",
      "metadata": {
        "papermill": {
          "duration": 0.001452,
          "end_time": "2023-09-01T16:49:59.579574",
          "exception": false,
          "start_time": "2023-09-01T16:49:59.578122",
          "status": "completed"
        },
        "tags": []
      },
      "source": [
        "> The additive backend can be used to obtain pathlengths and group delays."
      ]
    },
    {
      "cell_type": "code",
      "execution_count": 1,
      "id": "79c98bc0",
      "metadata": {
        "execution": {
          "iopub.execute_input": "2023-09-01T16:49:59.583726Z",
          "iopub.status.busy": "2023-09-01T16:49:59.583264Z",
          "iopub.status.idle": "2023-09-01T16:50:00.755685Z",
          "shell.execute_reply": "2023-09-01T16:50:00.755093Z"
        },
        "papermill": {
          "duration": 1.176272,
          "end_time": "2023-09-01T16:50:00.757225",
          "exception": false,
          "start_time": "2023-09-01T16:49:59.580953",
          "status": "completed"
        },
        "tags": []
      },
      "outputs": [],
      "source": [
        "from functools import partial\n",
        "\n",
        "import jax\n",
        "import jax.example_libraries.optimizers as opt\n",
        "import jax.numpy as jnp\n",
        "import matplotlib.pyplot as plt  # plotting\n",
        "import sax"
      ]
    },
    {
      "cell_type": "markdown",
      "id": "6a42b9d9",
      "metadata": {
        "papermill": {
          "duration": 0.001858,
          "end_time": "2023-09-01T16:50:00.760842",
          "exception": false,
          "start_time": "2023-09-01T16:50:00.758984",
          "status": "completed"
        },
        "tags": []
      },
      "source": [
        "## Parametrized Models"
      ]
    },
    {
      "cell_type": "code",
      "execution_count": 2,
      "id": "79e7e40e",
      "metadata": {
        "execution": {
          "iopub.execute_input": "2023-09-01T16:50:00.765239Z",
          "iopub.status.busy": "2023-09-01T16:50:00.764536Z",
          "iopub.status.idle": "2023-09-01T16:50:00.768450Z",
          "shell.execute_reply": "2023-09-01T16:50:00.767907Z"
        },
        "papermill": {
          "duration": 0.007285,
          "end_time": "2023-09-01T16:50:00.769603",
          "exception": false,
          "start_time": "2023-09-01T16:50:00.762318",
          "status": "completed"
        },
        "tags": []
      },
      "outputs": [],
      "source": [
        "def coupler(length=50.0) -> sax.SDict:\n",
        "    sdict =  {\n",
        "        (\"in0\", \"out0\"): length,\n",
        "        (\"in0\", \"out1\"): length,\n",
        "        (\"in1\", \"out0\"): length,\n",
        "        (\"in1\", \"out1\"): length,\n",
        "    }\n",
        "    return sax.reciprocal(sdict)"
      ]
    },
    {
      "cell_type": "code",
      "execution_count": 3,
      "id": "3248838c",
      "metadata": {
        "execution": {
          "iopub.execute_input": "2023-09-01T16:50:00.773717Z",
          "iopub.status.busy": "2023-09-01T16:50:00.773261Z",
          "iopub.status.idle": "2023-09-01T16:50:00.776394Z",
          "shell.execute_reply": "2023-09-01T16:50:00.775856Z"
        },
        "papermill": {
          "duration": 0.006491,
          "end_time": "2023-09-01T16:50:00.777603",
          "exception": false,
          "start_time": "2023-09-01T16:50:00.771112",
          "status": "completed"
        },
        "tags": []
      },
      "outputs": [],
      "source": [
        "def waveguide(length=100.0) -> sax.SDict:\n",
        "    sdict = {\n",
        "        (\"in0\", \"out0\"): length,\n",
        "    }\n",
        "    return sax.reciprocal(sdict)"
      ]
    },
    {
      "cell_type": "markdown",
      "id": "d650fb8d",
      "metadata": {
        "papermill": {
          "duration": 0.001394,
          "end_time": "2023-09-01T16:50:00.780495",
          "exception": false,
          "start_time": "2023-09-01T16:50:00.779101",
          "status": "completed"
        },
        "tags": []
      },
      "source": [
        "## Circuit with additive backend"
      ]
    },
    {
      "cell_type": "code",
      "execution_count": 4,
      "id": "56e035d0",
      "metadata": {
        "execution": {
          "iopub.execute_input": "2023-09-01T16:50:00.784634Z",
          "iopub.status.busy": "2023-09-01T16:50:00.784190Z",
          "iopub.status.idle": "2023-09-01T16:50:00.797254Z",
          "shell.execute_reply": "2023-09-01T16:50:00.796754Z"
        },
        "papermill": {
          "duration": 0.01648,
          "end_time": "2023-09-01T16:50:00.798425",
          "exception": false,
          "start_time": "2023-09-01T16:50:00.781945",
          "status": "completed"
        },
        "tags": []
      },
      "outputs": [],
      "source": [
        "mzi, _ = sax.circuit(\n",
        "    netlist={\n",
        "        \"instances\": {\n",
        "            \"lft\": coupler,\n",
        "            \"top\": partial(waveguide, length=500),\n",
        "            \"btm\": partial(waveguide, length=100),\n",
        "            \"rgt\": coupler,\n",
        "        },\n",
        "        \"connections\": {\n",
        "            \"lft,out0\": \"btm,in0\",\n",
        "            \"btm,out0\": \"rgt,in0\",\n",
        "            \"lft,out1\": \"top,in0\",\n",
        "            \"top,out0\": \"rgt,in1\",\n",
        "        },\n",
        "        \"ports\": {\n",
        "            \"in0\": \"lft,in0\",\n",
        "            \"in1\": \"lft,in1\",\n",
        "            \"out0\": \"rgt,out0\",\n",
        "            \"out1\": \"rgt,out1\",\n",
        "        },\n",
        "    },\n",
        "    backend=\"additive\",\n",
        ")"
      ]
    },
    {
      "cell_type": "code",
      "execution_count": 5,
      "id": "c1f245fd",
      "metadata": {
        "execution": {
          "iopub.execute_input": "2023-09-01T16:50:00.802593Z",
          "iopub.status.busy": "2023-09-01T16:50:00.802323Z",
          "iopub.status.idle": "2023-09-01T16:50:00.911064Z",
          "shell.execute_reply": "2023-09-01T16:50:00.910502Z"
        },
        "papermill": {
          "duration": 0.112315,
          "end_time": "2023-09-01T16:50:00.912350",
          "exception": false,
          "start_time": "2023-09-01T16:50:00.800035",
          "status": "completed"
        },
        "tags": []
      },
      "outputs": [
        {
          "data": {
            "text/plain": [
              "{('in0', 'out0'): [Array([200.], dtype=float64), Array([600.], dtype=float64)],\n",
              " ('in0', 'out1'): [Array([200.], dtype=float64), Array([600.], dtype=float64)],\n",
              " ('in1', 'out0'): [Array([200.], dtype=float64), Array([600.], dtype=float64)],\n",
              " ('in1', 'out1'): [Array([200.], dtype=float64), Array([600.], dtype=float64)],\n",
              " ('out0', 'in0'): [Array([200.], dtype=float64), Array([600.], dtype=float64)],\n",
              " ('out0', 'in1'): [Array([200.], dtype=float64), Array([600.], dtype=float64)],\n",
              " ('out1', 'in0'): [Array([200.], dtype=float64), Array([600.], dtype=float64)],\n",
              " ('out1', 'in1'): [Array([200.], dtype=float64), Array([600.], dtype=float64)]}"
            ]
          },
          "execution_count": 5,
          "metadata": {},
          "output_type": "execute_result"
        }
      ],
      "source": [
        "mzi()"
      ]
    }
  ],
  "metadata": {
    "kernelspec": {
      "display_name": "sax",
      "language": "python",
      "name": "sax"
    },
    "language_info": {
      "codemirror_mode": {
        "name": "ipython",
        "version": 3
      },
      "file_extension": ".py",
      "mimetype": "text/x-python",
      "name": "python",
      "nbconvert_exporter": "python",
      "pygments_lexer": "ipython3",
      "version": "3.11.5"
    },
    "papermill": {
      "default_parameters": {},
      "duration": 3.178891,
      "end_time": "2023-09-01T16:50:01.432301",
      "environment_variables": {},
      "exception": null,
      "input_path": "./examples/06_additive_backend.ipynb",
      "output_path": "./examples/06_additive_backend.ipynb",
      "parameters": {},
      "start_time": "2023-09-01T16:49:58.253410",
      "version": "2.4.0"
    }
  },
  "nbformat": 4,
  "nbformat_minor": 5
}