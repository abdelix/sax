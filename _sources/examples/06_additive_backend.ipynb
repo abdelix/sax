{
  "cells": [
    {
      "cell_type": "markdown",
      "id": "6f097557",
      "metadata": {
        "papermill": {
          "duration": 0.004713,
          "end_time": "2023-09-18T19:54:17.294715",
          "exception": false,
          "start_time": "2023-09-18T19:54:17.290002",
          "status": "completed"
        },
        "tags": []
      },
      "source": [
        "# Additive Backend"
      ]
    },
    {
      "cell_type": "markdown",
      "id": "56868383",
      "metadata": {
        "papermill": {
          "duration": 0.002044,
          "end_time": "2023-09-18T19:54:17.299396",
          "exception": false,
          "start_time": "2023-09-18T19:54:17.297352",
          "status": "completed"
        },
        "tags": []
      },
      "source": [
        "> The additive backend can be used to obtain pathlengths and group delays."
      ]
    },
    {
      "cell_type": "code",
      "execution_count": 1,
      "id": "79c98bc0",
      "metadata": {
        "execution": {
          "iopub.execute_input": "2023-09-18T19:54:17.305204Z",
          "iopub.status.busy": "2023-09-18T19:54:17.304297Z",
          "iopub.status.idle": "2023-09-18T19:54:18.964553Z",
          "shell.execute_reply": "2023-09-18T19:54:18.963513Z"
        },
        "papermill": {
          "duration": 1.665428,
          "end_time": "2023-09-18T19:54:18.966681",
          "exception": false,
          "start_time": "2023-09-18T19:54:17.301253",
          "status": "completed"
        },
        "tags": []
      },
      "outputs": [],
      "source": [
        "from functools import partial\n",
        "\n",
        "import jax\n",
        "import jax.example_libraries.optimizers as opt\n",
        "import jax.numpy as jnp\n",
        "import matplotlib.pyplot as plt  # plotting\n",
        "import sax"
      ]
    },
    {
      "cell_type": "markdown",
      "id": "6a42b9d9",
      "metadata": {
        "papermill": {
          "duration": 0.003186,
          "end_time": "2023-09-18T19:54:18.972756",
          "exception": false,
          "start_time": "2023-09-18T19:54:18.969570",
          "status": "completed"
        },
        "tags": []
      },
      "source": [
        "## Parametrized Models"
      ]
    },
    {
      "cell_type": "code",
      "execution_count": 2,
      "id": "79e7e40e",
      "metadata": {
        "execution": {
          "iopub.execute_input": "2023-09-18T19:54:18.978985Z",
          "iopub.status.busy": "2023-09-18T19:54:18.977830Z",
          "iopub.status.idle": "2023-09-18T19:54:18.983563Z",
          "shell.execute_reply": "2023-09-18T19:54:18.982828Z"
        },
        "papermill": {
          "duration": 0.010694,
          "end_time": "2023-09-18T19:54:18.985469",
          "exception": false,
          "start_time": "2023-09-18T19:54:18.974775",
          "status": "completed"
        },
        "tags": []
      },
      "outputs": [],
      "source": [
        "def coupler(length=50.0) -> sax.SDict:\n",
        "    sdict =  {\n",
        "        (\"in0\", \"out0\"): length,\n",
        "        (\"in0\", \"out1\"): length,\n",
        "        (\"in1\", \"out0\"): length,\n",
        "        (\"in1\", \"out1\"): length,\n",
        "    }\n",
        "    return sax.reciprocal(sdict)"
      ]
    },
    {
      "cell_type": "code",
      "execution_count": 3,
      "id": "3248838c",
      "metadata": {
        "execution": {
          "iopub.execute_input": "2023-09-18T19:54:18.991420Z",
          "iopub.status.busy": "2023-09-18T19:54:18.990767Z",
          "iopub.status.idle": "2023-09-18T19:54:18.995052Z",
          "shell.execute_reply": "2023-09-18T19:54:18.994308Z"
        },
        "papermill": {
          "duration": 0.009757,
          "end_time": "2023-09-18T19:54:18.997083",
          "exception": false,
          "start_time": "2023-09-18T19:54:18.987326",
          "status": "completed"
        },
        "tags": []
      },
      "outputs": [],
      "source": [
        "def waveguide(length=100.0) -> sax.SDict:\n",
        "    sdict = {\n",
        "        (\"in0\", \"out0\"): length,\n",
        "    }\n",
        "    return sax.reciprocal(sdict)"
      ]
    },
    {
      "cell_type": "markdown",
      "id": "d650fb8d",
      "metadata": {
        "papermill": {
          "duration": 0.002238,
          "end_time": "2023-09-18T19:54:19.001560",
          "exception": false,
          "start_time": "2023-09-18T19:54:18.999322",
          "status": "completed"
        },
        "tags": []
      },
      "source": [
        "## Circuit with additive backend"
      ]
    },
    {
      "cell_type": "code",
      "execution_count": 4,
      "id": "56e035d0",
      "metadata": {
        "execution": {
          "iopub.execute_input": "2023-09-18T19:54:19.007181Z",
          "iopub.status.busy": "2023-09-18T19:54:19.006913Z",
          "iopub.status.idle": "2023-09-18T19:54:19.025489Z",
          "shell.execute_reply": "2023-09-18T19:54:19.024782Z"
        },
        "papermill": {
          "duration": 0.023546,
          "end_time": "2023-09-18T19:54:19.027413",
          "exception": false,
          "start_time": "2023-09-18T19:54:19.003867",
          "status": "completed"
        },
        "tags": []
      },
      "outputs": [],
      "source": [
        "mzi, _ = sax.circuit(\n",
        "    netlist={\n",
        "        \"instances\": {\n",
        "            \"lft\": coupler,\n",
        "            \"top\": partial(waveguide, length=500),\n",
        "            \"btm\": partial(waveguide, length=100),\n",
        "            \"rgt\": coupler,\n",
        "        },\n",
        "        \"connections\": {\n",
        "            \"lft,out0\": \"btm,in0\",\n",
        "            \"btm,out0\": \"rgt,in0\",\n",
        "            \"lft,out1\": \"top,in0\",\n",
        "            \"top,out0\": \"rgt,in1\",\n",
        "        },\n",
        "        \"ports\": {\n",
        "            \"in0\": \"lft,in0\",\n",
        "            \"in1\": \"lft,in1\",\n",
        "            \"out0\": \"rgt,out0\",\n",
        "            \"out1\": \"rgt,out1\",\n",
        "        },\n",
        "    },\n",
        "    backend=\"additive\",\n",
        ")"
      ]
    },
    {
      "cell_type": "code",
      "execution_count": 5,
      "id": "c1f245fd",
      "metadata": {
        "execution": {
          "iopub.execute_input": "2023-09-18T19:54:19.036967Z",
          "iopub.status.busy": "2023-09-18T19:54:19.036408Z",
          "iopub.status.idle": "2023-09-18T19:54:19.187253Z",
          "shell.execute_reply": "2023-09-18T19:54:19.186412Z"
        },
        "papermill": {
          "duration": 0.159772,
          "end_time": "2023-09-18T19:54:19.189368",
          "exception": false,
          "start_time": "2023-09-18T19:54:19.029596",
          "status": "completed"
        },
        "tags": []
      },
      "outputs": [
        {
          "data": {
            "text/plain": [
              "{('in0', 'out0'): [Array([200.], dtype=float64), Array([600.], dtype=float64)],\n",
              " ('in0', 'out1'): [Array([200.], dtype=float64), Array([600.], dtype=float64)],\n",
              " ('in1', 'out0'): [Array([200.], dtype=float64), Array([600.], dtype=float64)],\n",
              " ('in1', 'out1'): [Array([200.], dtype=float64), Array([600.], dtype=float64)],\n",
              " ('out0', 'in0'): [Array([200.], dtype=float64), Array([600.], dtype=float64)],\n",
              " ('out0', 'in1'): [Array([200.], dtype=float64), Array([600.], dtype=float64)],\n",
              " ('out1', 'in0'): [Array([200.], dtype=float64), Array([600.], dtype=float64)],\n",
              " ('out1', 'in1'): [Array([200.], dtype=float64), Array([600.], dtype=float64)]}"
            ]
          },
          "execution_count": 5,
          "metadata": {},
          "output_type": "execute_result"
        }
      ],
      "source": [
        "mzi()"
      ]
    }
  ],
  "metadata": {
    "kernelspec": {
      "display_name": "sax",
      "language": "python",
      "name": "sax"
    },
    "language_info": {
      "codemirror_mode": {
        "name": "ipython",
        "version": 3
      },
      "file_extension": ".py",
      "mimetype": "text/x-python",
      "name": "python",
      "nbconvert_exporter": "python",
      "pygments_lexer": "ipython3",
      "version": "3.10.12"
    },
    "papermill": {
      "default_parameters": {},
      "duration": 3.954341,
      "end_time": "2023-09-18T19:54:19.813208",
      "environment_variables": {},
      "exception": null,
      "input_path": "./examples/06_additive_backend.ipynb",
      "output_path": "./examples/06_additive_backend.ipynb",
      "parameters": {},
      "start_time": "2023-09-18T19:54:15.858867",
      "version": "2.4.0"
    }
  },
  "nbformat": 4,
  "nbformat_minor": 5
}