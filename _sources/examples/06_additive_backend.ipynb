{
  "cells": [
    {
      "cell_type": "markdown",
      "id": "6f097557",
      "metadata": {
        "papermill": {
          "duration": 0.002009,
          "end_time": "2024-01-29T19:03:07.434278",
          "exception": false,
          "start_time": "2024-01-29T19:03:07.432269",
          "status": "completed"
        },
        "tags": []
      },
      "source": [
        "# Additive Backend"
      ]
    },
    {
      "cell_type": "markdown",
      "id": "56868383",
      "metadata": {
        "papermill": {
          "duration": 0.001256,
          "end_time": "2024-01-29T19:03:07.436938",
          "exception": false,
          "start_time": "2024-01-29T19:03:07.435682",
          "status": "completed"
        },
        "tags": []
      },
      "source": [
        "> The additive backend can be used to obtain pathlengths and group delays."
      ]
    },
    {
      "cell_type": "code",
      "execution_count": 1,
      "id": "79c98bc0",
      "metadata": {
        "execution": {
          "iopub.execute_input": "2024-01-29T19:03:07.440504Z",
          "iopub.status.busy": "2024-01-29T19:03:07.440078Z",
          "iopub.status.idle": "2024-01-29T19:03:08.479316Z",
          "shell.execute_reply": "2024-01-29T19:03:08.478746Z"
        },
        "papermill": {
          "duration": 1.042706,
          "end_time": "2024-01-29T19:03:08.480773",
          "exception": false,
          "start_time": "2024-01-29T19:03:07.438067",
          "status": "completed"
        },
        "tags": []
      },
      "outputs": [],
      "source": [
        "from functools import partial\n",
        "\n",
        "import jax\n",
        "import jax.example_libraries.optimizers as opt\n",
        "import jax.numpy as jnp\n",
        "import matplotlib.pyplot as plt  # plotting\n",
        "import sax"
      ]
    },
    {
      "cell_type": "markdown",
      "id": "6a42b9d9",
      "metadata": {
        "papermill": {
          "duration": 0.001361,
          "end_time": "2024-01-29T19:03:08.483670",
          "exception": false,
          "start_time": "2024-01-29T19:03:08.482309",
          "status": "completed"
        },
        "tags": []
      },
      "source": [
        "## Parametrized Models"
      ]
    },
    {
      "cell_type": "code",
      "execution_count": 2,
      "id": "79e7e40e",
      "metadata": {
        "execution": {
          "iopub.execute_input": "2024-01-29T19:03:08.487167Z",
          "iopub.status.busy": "2024-01-29T19:03:08.486663Z",
          "iopub.status.idle": "2024-01-29T19:03:08.490055Z",
          "shell.execute_reply": "2024-01-29T19:03:08.489582Z"
        },
        "papermill": {
          "duration": 0.006376,
          "end_time": "2024-01-29T19:03:08.491226",
          "exception": false,
          "start_time": "2024-01-29T19:03:08.484850",
          "status": "completed"
        },
        "tags": []
      },
      "outputs": [],
      "source": [
        "def coupler(length=50.0) -> sax.SDict:\n",
        "    sdict = {\n",
        "        (\"in0\", \"out0\"): length,\n",
        "        (\"in0\", \"out1\"): length,\n",
        "        (\"in1\", \"out0\"): length,\n",
        "        (\"in1\", \"out1\"): length,\n",
        "    }\n",
        "    return sax.reciprocal(sdict)"
      ]
    },
    {
      "cell_type": "code",
      "execution_count": 3,
      "id": "3248838c",
      "metadata": {
        "execution": {
          "iopub.execute_input": "2024-01-29T19:03:08.494706Z",
          "iopub.status.busy": "2024-01-29T19:03:08.494360Z",
          "iopub.status.idle": "2024-01-29T19:03:08.497181Z",
          "shell.execute_reply": "2024-01-29T19:03:08.496704Z"
        },
        "papermill": {
          "duration": 0.005873,
          "end_time": "2024-01-29T19:03:08.498355",
          "exception": false,
          "start_time": "2024-01-29T19:03:08.492482",
          "status": "completed"
        },
        "tags": []
      },
      "outputs": [],
      "source": [
        "def waveguide(length=100.0) -> sax.SDict:\n",
        "    sdict = {\n",
        "        (\"in0\", \"out0\"): length,\n",
        "    }\n",
        "    return sax.reciprocal(sdict)"
      ]
    },
    {
      "cell_type": "markdown",
      "id": "d650fb8d",
      "metadata": {
        "papermill": {
          "duration": 0.001304,
          "end_time": "2024-01-29T19:03:08.500906",
          "exception": false,
          "start_time": "2024-01-29T19:03:08.499602",
          "status": "completed"
        },
        "tags": []
      },
      "source": [
        "## Circuit with additive backend"
      ]
    },
    {
      "cell_type": "code",
      "execution_count": 4,
      "id": "56e035d0",
      "metadata": {
        "execution": {
          "iopub.execute_input": "2024-01-29T19:03:08.504297Z",
          "iopub.status.busy": "2024-01-29T19:03:08.503922Z",
          "iopub.status.idle": "2024-01-29T19:03:08.540436Z",
          "shell.execute_reply": "2024-01-29T19:03:08.539910Z"
        },
        "papermill": {
          "duration": 0.039775,
          "end_time": "2024-01-29T19:03:08.541917",
          "exception": false,
          "start_time": "2024-01-29T19:03:08.502142",
          "status": "completed"
        },
        "tags": []
      },
      "outputs": [],
      "source": [
        "mzi, _ = sax.circuit(\n",
        "    netlist={\n",
        "        \"instances\": {\n",
        "            \"lft\": coupler,\n",
        "            \"top\": partial(waveguide, length=500),\n",
        "            \"btm\": partial(waveguide, length=100),\n",
        "            \"rgt\": coupler,\n",
        "        },\n",
        "        \"connections\": {\n",
        "            \"lft,out0\": \"btm,in0\",\n",
        "            \"btm,out0\": \"rgt,in0\",\n",
        "            \"lft,out1\": \"top,in0\",\n",
        "            \"top,out0\": \"rgt,in1\",\n",
        "        },\n",
        "        \"ports\": {\n",
        "            \"in0\": \"lft,in0\",\n",
        "            \"in1\": \"lft,in1\",\n",
        "            \"out0\": \"rgt,out0\",\n",
        "            \"out1\": \"rgt,out1\",\n",
        "        },\n",
        "    },\n",
        "    backend=\"additive\",\n",
        ")"
      ]
    },
    {
      "cell_type": "code",
      "execution_count": 5,
      "id": "c1f245fd",
      "metadata": {
        "execution": {
          "iopub.execute_input": "2024-01-29T19:03:08.545792Z",
          "iopub.status.busy": "2024-01-29T19:03:08.545408Z",
          "iopub.status.idle": "2024-01-29T19:03:08.641489Z",
          "shell.execute_reply": "2024-01-29T19:03:08.640880Z"
        },
        "papermill": {
          "duration": 0.099461,
          "end_time": "2024-01-29T19:03:08.642828",
          "exception": false,
          "start_time": "2024-01-29T19:03:08.543367",
          "status": "completed"
        },
        "tags": []
      },
      "outputs": [
        {
          "data": {
            "text/plain": [
              "{('in0', 'out0'): [Array([200.], dtype=float64), Array([600.], dtype=float64)],\n",
              " ('in0', 'out1'): [Array([200.], dtype=float64), Array([600.], dtype=float64)],\n",
              " ('in1', 'out0'): [Array([200.], dtype=float64), Array([600.], dtype=float64)],\n",
              " ('in1', 'out1'): [Array([200.], dtype=float64), Array([600.], dtype=float64)],\n",
              " ('out0', 'in0'): [Array([200.], dtype=float64), Array([600.], dtype=float64)],\n",
              " ('out0', 'in1'): [Array([200.], dtype=float64), Array([600.], dtype=float64)],\n",
              " ('out1', 'in0'): [Array([200.], dtype=float64), Array([600.], dtype=float64)],\n",
              " ('out1', 'in1'): [Array([200.], dtype=float64), Array([600.], dtype=float64)]}"
            ]
          },
          "execution_count": 5,
          "metadata": {},
          "output_type": "execute_result"
        }
      ],
      "source": [
        "mzi()"
      ]
    }
  ],
  "metadata": {
    "kernelspec": {
      "display_name": "Python 3 (ipykernel)",
      "language": "python",
      "name": "python3"
    },
    "language_info": {
      "codemirror_mode": {
        "name": "ipython",
        "version": 3
      },
      "file_extension": ".py",
      "mimetype": "text/x-python",
      "name": "python",
      "nbconvert_exporter": "python",
      "pygments_lexer": "ipython3",
      "version": "3.10.13"
    },
    "papermill": {
      "default_parameters": {},
      "duration": 2.552444,
      "end_time": "2024-01-29T19:03:09.060533",
      "environment_variables": {},
      "exception": null,
      "input_path": "./examples/06_additive_backend.ipynb",
      "output_path": "./examples/06_additive_backend.ipynb",
      "parameters": {},
      "start_time": "2024-01-29T19:03:06.508089",
      "version": "2.4.0"
    }
  },
  "nbformat": 4,
  "nbformat_minor": 5
}