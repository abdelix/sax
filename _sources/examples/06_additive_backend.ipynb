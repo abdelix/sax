{
  "cells": [
    {
      "cell_type": "markdown",
      "id": "6f097557",
      "metadata": {
        "papermill": {
          "duration": 0.001967,
          "end_time": "2023-06-01T21:09:46.622556",
          "exception": false,
          "start_time": "2023-06-01T21:09:46.620589",
          "status": "completed"
        },
        "tags": []
      },
      "source": [
        "# Additive Backend"
      ]
    },
    {
      "cell_type": "markdown",
      "id": "56868383",
      "metadata": {
        "papermill": {
          "duration": 0.001333,
          "end_time": "2023-06-01T21:09:46.625671",
          "exception": false,
          "start_time": "2023-06-01T21:09:46.624338",
          "status": "completed"
        },
        "tags": []
      },
      "source": [
        "> The additive backend can be used to obtain pathlengths and group delays."
      ]
    },
    {
      "cell_type": "code",
      "execution_count": 1,
      "id": "79c98bc0",
      "metadata": {
        "execution": {
          "iopub.execute_input": "2023-06-01T21:09:46.631218Z",
          "iopub.status.busy": "2023-06-01T21:09:46.630963Z",
          "iopub.status.idle": "2023-06-01T21:09:47.814751Z",
          "shell.execute_reply": "2023-06-01T21:09:47.814173Z"
        },
        "papermill": {
          "duration": 1.187968,
          "end_time": "2023-06-01T21:09:47.816377",
          "exception": false,
          "start_time": "2023-06-01T21:09:46.628409",
          "status": "completed"
        },
        "tags": []
      },
      "outputs": [],
      "source": [
        "from functools import partial\n",
        "\n",
        "import jax\n",
        "import jax.example_libraries.optimizers as opt\n",
        "import jax.numpy as jnp\n",
        "import matplotlib.pyplot as plt  # plotting\n",
        "import sax"
      ]
    },
    {
      "cell_type": "markdown",
      "id": "6a42b9d9",
      "metadata": {
        "papermill": {
          "duration": 0.00146,
          "end_time": "2023-06-01T21:09:47.819545",
          "exception": false,
          "start_time": "2023-06-01T21:09:47.818085",
          "status": "completed"
        },
        "tags": []
      },
      "source": [
        "## Parametrized Models"
      ]
    },
    {
      "cell_type": "code",
      "execution_count": 2,
      "id": "79e7e40e",
      "metadata": {
        "execution": {
          "iopub.execute_input": "2023-06-01T21:09:47.823840Z",
          "iopub.status.busy": "2023-06-01T21:09:47.823119Z",
          "iopub.status.idle": "2023-06-01T21:09:47.827272Z",
          "shell.execute_reply": "2023-06-01T21:09:47.826813Z"
        },
        "papermill": {
          "duration": 0.007642,
          "end_time": "2023-06-01T21:09:47.828552",
          "exception": false,
          "start_time": "2023-06-01T21:09:47.820910",
          "status": "completed"
        },
        "tags": []
      },
      "outputs": [],
      "source": [
        "def coupler(length=50.0) -> sax.SDict:\n",
        "    sdict =  {\n",
        "        (\"in0\", \"out0\"): length,\n",
        "        (\"in0\", \"out1\"): length,\n",
        "        (\"in1\", \"out0\"): length,\n",
        "        (\"in1\", \"out1\"): length,\n",
        "    }\n",
        "    return sax.reciprocal(sdict)"
      ]
    },
    {
      "cell_type": "code",
      "execution_count": 3,
      "id": "3248838c",
      "metadata": {
        "execution": {
          "iopub.execute_input": "2023-06-01T21:09:47.832369Z",
          "iopub.status.busy": "2023-06-01T21:09:47.832186Z",
          "iopub.status.idle": "2023-06-01T21:09:47.835025Z",
          "shell.execute_reply": "2023-06-01T21:09:47.834543Z"
        },
        "papermill": {
          "duration": 0.006804,
          "end_time": "2023-06-01T21:09:47.836714",
          "exception": false,
          "start_time": "2023-06-01T21:09:47.829910",
          "status": "completed"
        },
        "tags": []
      },
      "outputs": [],
      "source": [
        "def waveguide(length=100.0) -> sax.SDict:\n",
        "    sdict = {\n",
        "        (\"in0\", \"out0\"): length,\n",
        "    }\n",
        "    return sax.reciprocal(sdict)"
      ]
    },
    {
      "cell_type": "markdown",
      "id": "d650fb8d",
      "metadata": {
        "papermill": {
          "duration": 0.001382,
          "end_time": "2023-06-01T21:09:47.839449",
          "exception": false,
          "start_time": "2023-06-01T21:09:47.838067",
          "status": "completed"
        },
        "tags": []
      },
      "source": [
        "## Circuit with additive backend"
      ]
    },
    {
      "cell_type": "code",
      "execution_count": 4,
      "id": "56e035d0",
      "metadata": {
        "execution": {
          "iopub.execute_input": "2023-06-01T21:09:47.843168Z",
          "iopub.status.busy": "2023-06-01T21:09:47.842991Z",
          "iopub.status.idle": "2023-06-01T21:09:47.859156Z",
          "shell.execute_reply": "2023-06-01T21:09:47.858680Z"
        },
        "papermill": {
          "duration": 0.019713,
          "end_time": "2023-06-01T21:09:47.860608",
          "exception": false,
          "start_time": "2023-06-01T21:09:47.840895",
          "status": "completed"
        },
        "tags": []
      },
      "outputs": [
        {
          "name": "stderr",
          "output_type": "stream",
          "text": [
            "No GPU/TPU found, falling back to CPU. (Set TF_CPP_MIN_LOG_LEVEL=0 and rerun for more info.)\n"
          ]
        }
      ],
      "source": [
        "mzi, _ = sax.circuit(\n",
        "    netlist={\n",
        "        \"instances\": {\n",
        "            \"lft\": coupler,\n",
        "            \"top\": partial(waveguide, length=500),\n",
        "            \"btm\": partial(waveguide, length=100),\n",
        "            \"rgt\": coupler,\n",
        "        },\n",
        "        \"connections\": {\n",
        "            \"lft,out0\": \"btm,in0\",\n",
        "            \"btm,out0\": \"rgt,in0\",\n",
        "            \"lft,out1\": \"top,in0\",\n",
        "            \"top,out0\": \"rgt,in1\",\n",
        "        },\n",
        "        \"ports\": {\n",
        "            \"in0\": \"lft,in0\",\n",
        "            \"in1\": \"lft,in1\",\n",
        "            \"out0\": \"rgt,out0\",\n",
        "            \"out1\": \"rgt,out1\",\n",
        "        },\n",
        "    },\n",
        "    backend=\"additive\",\n",
        ")"
      ]
    },
    {
      "cell_type": "code",
      "execution_count": 5,
      "id": "c1f245fd",
      "metadata": {
        "execution": {
          "iopub.execute_input": "2023-06-01T21:09:47.864762Z",
          "iopub.status.busy": "2023-06-01T21:09:47.864418Z",
          "iopub.status.idle": "2023-06-01T21:09:47.971744Z",
          "shell.execute_reply": "2023-06-01T21:09:47.971250Z"
        },
        "papermill": {
          "duration": 0.111027,
          "end_time": "2023-06-01T21:09:47.973166",
          "exception": false,
          "start_time": "2023-06-01T21:09:47.862139",
          "status": "completed"
        },
        "tags": []
      },
      "outputs": [
        {
          "data": {
            "text/plain": [
              "{('in0', 'out0'): [Array([200.], dtype=float32), Array([600.], dtype=float32)],\n",
              " ('in0', 'out1'): [Array([200.], dtype=float32), Array([600.], dtype=float32)],\n",
              " ('in1', 'out0'): [Array([200.], dtype=float32), Array([600.], dtype=float32)],\n",
              " ('in1', 'out1'): [Array([200.], dtype=float32), Array([600.], dtype=float32)],\n",
              " ('out0', 'in0'): [Array([200.], dtype=float32), Array([600.], dtype=float32)],\n",
              " ('out0', 'in1'): [Array([200.], dtype=float32), Array([600.], dtype=float32)],\n",
              " ('out1', 'in0'): [Array([200.], dtype=float32), Array([600.], dtype=float32)],\n",
              " ('out1', 'in1'): [Array([200.], dtype=float32), Array([600.], dtype=float32)]}"
            ]
          },
          "execution_count": 5,
          "metadata": {},
          "output_type": "execute_result"
        }
      ],
      "source": [
        "mzi()"
      ]
    }
  ],
  "metadata": {
    "kernelspec": {
      "display_name": "Python 3 (ipykernel)",
      "language": "python",
      "name": "python3"
    },
    "language_info": {
      "codemirror_mode": {
        "name": "ipython",
        "version": 3
      },
      "file_extension": ".py",
      "mimetype": "text/x-python",
      "name": "python",
      "nbconvert_exporter": "python",
      "pygments_lexer": "ipython3",
      "version": "3.11.3"
    },
    "papermill": {
      "default_parameters": {},
      "duration": 3.149388,
      "end_time": "2023-06-01T21:09:48.495695",
      "environment_variables": {},
      "exception": null,
      "input_path": "./examples/06_additive_backend.ipynb",
      "output_path": "./examples/06_additive_backend.ipynb",
      "parameters": {},
      "start_time": "2023-06-01T21:09:45.346307",
      "version": "2.3.4"
    }
  },
  "nbformat": 4,
  "nbformat_minor": 5
}