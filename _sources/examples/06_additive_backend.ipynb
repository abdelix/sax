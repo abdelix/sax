{
  "cells": [
    {
      "cell_type": "markdown",
      "id": "6f097557",
      "metadata": {
        "papermill": {
          "duration": 0.00416,
          "end_time": "2023-09-01T15:51:16.151694",
          "exception": false,
          "start_time": "2023-09-01T15:51:16.147534",
          "status": "completed"
        },
        "tags": []
      },
      "source": [
        "# Additive Backend"
      ]
    },
    {
      "cell_type": "markdown",
      "id": "56868383",
      "metadata": {
        "papermill": {
          "duration": 0.002614,
          "end_time": "2023-09-01T15:51:16.157893",
          "exception": false,
          "start_time": "2023-09-01T15:51:16.155279",
          "status": "completed"
        },
        "tags": []
      },
      "source": [
        "> The additive backend can be used to obtain pathlengths and group delays."
      ]
    },
    {
      "cell_type": "code",
      "execution_count": 1,
      "id": "79c98bc0",
      "metadata": {
        "execution": {
          "iopub.execute_input": "2023-09-01T15:51:16.163265Z",
          "iopub.status.busy": "2023-09-01T15:51:16.162517Z",
          "iopub.status.idle": "2023-09-01T15:51:17.605597Z",
          "shell.execute_reply": "2023-09-01T15:51:17.604811Z"
        },
        "papermill": {
          "duration": 1.447823,
          "end_time": "2023-09-01T15:51:17.607420",
          "exception": false,
          "start_time": "2023-09-01T15:51:16.159597",
          "status": "completed"
        },
        "tags": []
      },
      "outputs": [],
      "source": [
        "from functools import partial\n",
        "\n",
        "import jax\n",
        "import jax.example_libraries.optimizers as opt\n",
        "import jax.numpy as jnp\n",
        "import matplotlib.pyplot as plt  # plotting\n",
        "import sax"
      ]
    },
    {
      "cell_type": "markdown",
      "id": "6a42b9d9",
      "metadata": {
        "papermill": {
          "duration": 0.002443,
          "end_time": "2023-09-01T15:51:17.613291",
          "exception": false,
          "start_time": "2023-09-01T15:51:17.610848",
          "status": "completed"
        },
        "tags": []
      },
      "source": [
        "## Parametrized Models"
      ]
    },
    {
      "cell_type": "code",
      "execution_count": 2,
      "id": "79e7e40e",
      "metadata": {
        "execution": {
          "iopub.execute_input": "2023-09-01T15:51:17.619631Z",
          "iopub.status.busy": "2023-09-01T15:51:17.618388Z",
          "iopub.status.idle": "2023-09-01T15:51:17.624833Z",
          "shell.execute_reply": "2023-09-01T15:51:17.624139Z"
        },
        "papermill": {
          "duration": 0.011157,
          "end_time": "2023-09-01T15:51:17.626304",
          "exception": false,
          "start_time": "2023-09-01T15:51:17.615147",
          "status": "completed"
        },
        "tags": []
      },
      "outputs": [],
      "source": [
        "def coupler(length=50.0) -> sax.SDict:\n",
        "    sdict =  {\n",
        "        (\"in0\", \"out0\"): length,\n",
        "        (\"in0\", \"out1\"): length,\n",
        "        (\"in1\", \"out0\"): length,\n",
        "        (\"in1\", \"out1\"): length,\n",
        "    }\n",
        "    return sax.reciprocal(sdict)"
      ]
    },
    {
      "cell_type": "code",
      "execution_count": 3,
      "id": "3248838c",
      "metadata": {
        "execution": {
          "iopub.execute_input": "2023-09-01T15:51:17.631458Z",
          "iopub.status.busy": "2023-09-01T15:51:17.630879Z",
          "iopub.status.idle": "2023-09-01T15:51:17.634560Z",
          "shell.execute_reply": "2023-09-01T15:51:17.633943Z"
        },
        "papermill": {
          "duration": 0.007955,
          "end_time": "2023-09-01T15:51:17.636035",
          "exception": false,
          "start_time": "2023-09-01T15:51:17.628080",
          "status": "completed"
        },
        "tags": []
      },
      "outputs": [],
      "source": [
        "def waveguide(length=100.0) -> sax.SDict:\n",
        "    sdict = {\n",
        "        (\"in0\", \"out0\"): length,\n",
        "    }\n",
        "    return sax.reciprocal(sdict)"
      ]
    },
    {
      "cell_type": "markdown",
      "id": "d650fb8d",
      "metadata": {
        "papermill": {
          "duration": 0.001714,
          "end_time": "2023-09-01T15:51:17.639539",
          "exception": false,
          "start_time": "2023-09-01T15:51:17.637825",
          "status": "completed"
        },
        "tags": []
      },
      "source": [
        "## Circuit with additive backend"
      ]
    },
    {
      "cell_type": "code",
      "execution_count": 4,
      "id": "56e035d0",
      "metadata": {
        "execution": {
          "iopub.execute_input": "2023-09-01T15:51:17.644794Z",
          "iopub.status.busy": "2023-09-01T15:51:17.644169Z",
          "iopub.status.idle": "2023-09-01T15:51:17.659680Z",
          "shell.execute_reply": "2023-09-01T15:51:17.658996Z"
        },
        "papermill": {
          "duration": 0.019907,
          "end_time": "2023-09-01T15:51:17.661226",
          "exception": false,
          "start_time": "2023-09-01T15:51:17.641319",
          "status": "completed"
        },
        "tags": []
      },
      "outputs": [],
      "source": [
        "mzi, _ = sax.circuit(\n",
        "    netlist={\n",
        "        \"instances\": {\n",
        "            \"lft\": coupler,\n",
        "            \"top\": partial(waveguide, length=500),\n",
        "            \"btm\": partial(waveguide, length=100),\n",
        "            \"rgt\": coupler,\n",
        "        },\n",
        "        \"connections\": {\n",
        "            \"lft,out0\": \"btm,in0\",\n",
        "            \"btm,out0\": \"rgt,in0\",\n",
        "            \"lft,out1\": \"top,in0\",\n",
        "            \"top,out0\": \"rgt,in1\",\n",
        "        },\n",
        "        \"ports\": {\n",
        "            \"in0\": \"lft,in0\",\n",
        "            \"in1\": \"lft,in1\",\n",
        "            \"out0\": \"rgt,out0\",\n",
        "            \"out1\": \"rgt,out1\",\n",
        "        },\n",
        "    },\n",
        "    backend=\"additive\",\n",
        ")"
      ]
    },
    {
      "cell_type": "code",
      "execution_count": 5,
      "id": "c1f245fd",
      "metadata": {
        "execution": {
          "iopub.execute_input": "2023-09-01T15:51:17.666411Z",
          "iopub.status.busy": "2023-09-01T15:51:17.665932Z",
          "iopub.status.idle": "2023-09-01T15:51:17.797688Z",
          "shell.execute_reply": "2023-09-01T15:51:17.796948Z"
        },
        "papermill": {
          "duration": 0.136605,
          "end_time": "2023-09-01T15:51:17.799747",
          "exception": false,
          "start_time": "2023-09-01T15:51:17.663142",
          "status": "completed"
        },
        "tags": []
      },
      "outputs": [
        {
          "data": {
            "text/plain": [
              "{('in0', 'out0'): [Array([200.], dtype=float64), Array([600.], dtype=float64)],\n",
              " ('in0', 'out1'): [Array([200.], dtype=float64), Array([600.], dtype=float64)],\n",
              " ('in1', 'out0'): [Array([200.], dtype=float64), Array([600.], dtype=float64)],\n",
              " ('in1', 'out1'): [Array([200.], dtype=float64), Array([600.], dtype=float64)],\n",
              " ('out0', 'in0'): [Array([200.], dtype=float64), Array([600.], dtype=float64)],\n",
              " ('out0', 'in1'): [Array([200.], dtype=float64), Array([600.], dtype=float64)],\n",
              " ('out1', 'in0'): [Array([200.], dtype=float64), Array([600.], dtype=float64)],\n",
              " ('out1', 'in1'): [Array([200.], dtype=float64), Array([600.], dtype=float64)]}"
            ]
          },
          "execution_count": 5,
          "metadata": {},
          "output_type": "execute_result"
        }
      ],
      "source": [
        "mzi()"
      ]
    }
  ],
  "metadata": {
    "kernelspec": {
      "display_name": "sax",
      "language": "python",
      "name": "sax"
    },
    "language_info": {
      "codemirror_mode": {
        "name": "ipython",
        "version": 3
      },
      "file_extension": ".py",
      "mimetype": "text/x-python",
      "name": "python",
      "nbconvert_exporter": "python",
      "pygments_lexer": "ipython3",
      "version": "3.11.5"
    },
    "papermill": {
      "default_parameters": {},
      "duration": 3.602512,
      "end_time": "2023-09-01T15:51:18.423709",
      "environment_variables": {},
      "exception": null,
      "input_path": "./examples/06_additive_backend.ipynb",
      "output_path": "./examples/06_additive_backend.ipynb",
      "parameters": {},
      "start_time": "2023-09-01T15:51:14.821197",
      "version": "2.4.0"
    }
  },
  "nbformat": 4,
  "nbformat_minor": 5
}