{
  "cells": [
    {
      "cell_type": "markdown",
      "id": "6f097557",
      "metadata": {
        "papermill": {
          "duration": 0.002348,
          "end_time": "2023-09-03T18:55:27.967318",
          "exception": false,
          "start_time": "2023-09-03T18:55:27.964970",
          "status": "completed"
        },
        "tags": []
      },
      "source": [
        "# Additive Backend"
      ]
    },
    {
      "cell_type": "markdown",
      "id": "56868383",
      "metadata": {
        "papermill": {
          "duration": 0.001697,
          "end_time": "2023-09-03T18:55:27.972592",
          "exception": false,
          "start_time": "2023-09-03T18:55:27.970895",
          "status": "completed"
        },
        "tags": []
      },
      "source": [
        "> The additive backend can be used to obtain pathlengths and group delays."
      ]
    },
    {
      "cell_type": "code",
      "execution_count": 1,
      "id": "79c98bc0",
      "metadata": {
        "execution": {
          "iopub.execute_input": "2023-09-03T18:55:27.977824Z",
          "iopub.status.busy": "2023-09-03T18:55:27.976994Z",
          "iopub.status.idle": "2023-09-03T18:55:29.300659Z",
          "shell.execute_reply": "2023-09-03T18:55:29.299959Z"
        },
        "papermill": {
          "duration": 1.328879,
          "end_time": "2023-09-03T18:55:29.303045",
          "exception": false,
          "start_time": "2023-09-03T18:55:27.974166",
          "status": "completed"
        },
        "tags": []
      },
      "outputs": [],
      "source": [
        "from functools import partial\n",
        "\n",
        "import jax\n",
        "import jax.example_libraries.optimizers as opt\n",
        "import jax.numpy as jnp\n",
        "import matplotlib.pyplot as plt  # plotting\n",
        "import sax"
      ]
    },
    {
      "cell_type": "markdown",
      "id": "6a42b9d9",
      "metadata": {
        "papermill": {
          "duration": 0.00164,
          "end_time": "2023-09-03T18:55:29.306698",
          "exception": false,
          "start_time": "2023-09-03T18:55:29.305058",
          "status": "completed"
        },
        "tags": []
      },
      "source": [
        "## Parametrized Models"
      ]
    },
    {
      "cell_type": "code",
      "execution_count": 2,
      "id": "79e7e40e",
      "metadata": {
        "execution": {
          "iopub.execute_input": "2023-09-03T18:55:29.311525Z",
          "iopub.status.busy": "2023-09-03T18:55:29.310923Z",
          "iopub.status.idle": "2023-09-03T18:55:29.317296Z",
          "shell.execute_reply": "2023-09-03T18:55:29.316538Z"
        },
        "papermill": {
          "duration": 0.010595,
          "end_time": "2023-09-03T18:55:29.318959",
          "exception": false,
          "start_time": "2023-09-03T18:55:29.308364",
          "status": "completed"
        },
        "tags": []
      },
      "outputs": [],
      "source": [
        "def coupler(length=50.0) -> sax.SDict:\n",
        "    sdict =  {\n",
        "        (\"in0\", \"out0\"): length,\n",
        "        (\"in0\", \"out1\"): length,\n",
        "        (\"in1\", \"out0\"): length,\n",
        "        (\"in1\", \"out1\"): length,\n",
        "    }\n",
        "    return sax.reciprocal(sdict)"
      ]
    },
    {
      "cell_type": "code",
      "execution_count": 3,
      "id": "3248838c",
      "metadata": {
        "execution": {
          "iopub.execute_input": "2023-09-03T18:55:29.323662Z",
          "iopub.status.busy": "2023-09-03T18:55:29.323089Z",
          "iopub.status.idle": "2023-09-03T18:55:29.326726Z",
          "shell.execute_reply": "2023-09-03T18:55:29.326056Z"
        },
        "papermill": {
          "duration": 0.007767,
          "end_time": "2023-09-03T18:55:29.328354",
          "exception": false,
          "start_time": "2023-09-03T18:55:29.320587",
          "status": "completed"
        },
        "tags": []
      },
      "outputs": [],
      "source": [
        "def waveguide(length=100.0) -> sax.SDict:\n",
        "    sdict = {\n",
        "        (\"in0\", \"out0\"): length,\n",
        "    }\n",
        "    return sax.reciprocal(sdict)"
      ]
    },
    {
      "cell_type": "markdown",
      "id": "d650fb8d",
      "metadata": {
        "papermill": {
          "duration": 0.001601,
          "end_time": "2023-09-03T18:55:29.331571",
          "exception": false,
          "start_time": "2023-09-03T18:55:29.329970",
          "status": "completed"
        },
        "tags": []
      },
      "source": [
        "## Circuit with additive backend"
      ]
    },
    {
      "cell_type": "code",
      "execution_count": 4,
      "id": "56e035d0",
      "metadata": {
        "execution": {
          "iopub.execute_input": "2023-09-03T18:55:29.336052Z",
          "iopub.status.busy": "2023-09-03T18:55:29.335798Z",
          "iopub.status.idle": "2023-09-03T18:55:29.350302Z",
          "shell.execute_reply": "2023-09-03T18:55:29.349732Z"
        },
        "papermill": {
          "duration": 0.018578,
          "end_time": "2023-09-03T18:55:29.351798",
          "exception": false,
          "start_time": "2023-09-03T18:55:29.333220",
          "status": "completed"
        },
        "tags": []
      },
      "outputs": [],
      "source": [
        "mzi, _ = sax.circuit(\n",
        "    netlist={\n",
        "        \"instances\": {\n",
        "            \"lft\": coupler,\n",
        "            \"top\": partial(waveguide, length=500),\n",
        "            \"btm\": partial(waveguide, length=100),\n",
        "            \"rgt\": coupler,\n",
        "        },\n",
        "        \"connections\": {\n",
        "            \"lft,out0\": \"btm,in0\",\n",
        "            \"btm,out0\": \"rgt,in0\",\n",
        "            \"lft,out1\": \"top,in0\",\n",
        "            \"top,out0\": \"rgt,in1\",\n",
        "        },\n",
        "        \"ports\": {\n",
        "            \"in0\": \"lft,in0\",\n",
        "            \"in1\": \"lft,in1\",\n",
        "            \"out0\": \"rgt,out0\",\n",
        "            \"out1\": \"rgt,out1\",\n",
        "        },\n",
        "    },\n",
        "    backend=\"additive\",\n",
        ")"
      ]
    },
    {
      "cell_type": "code",
      "execution_count": 5,
      "id": "c1f245fd",
      "metadata": {
        "execution": {
          "iopub.execute_input": "2023-09-03T18:55:29.356289Z",
          "iopub.status.busy": "2023-09-03T18:55:29.356069Z",
          "iopub.status.idle": "2023-09-03T18:55:29.477541Z",
          "shell.execute_reply": "2023-09-03T18:55:29.476739Z"
        },
        "papermill": {
          "duration": 0.126131,
          "end_time": "2023-09-03T18:55:29.479637",
          "exception": false,
          "start_time": "2023-09-03T18:55:29.353506",
          "status": "completed"
        },
        "tags": []
      },
      "outputs": [
        {
          "data": {
            "text/plain": [
              "{('in0', 'out0'): [Array([200.], dtype=float64), Array([600.], dtype=float64)],\n",
              " ('in0', 'out1'): [Array([200.], dtype=float64), Array([600.], dtype=float64)],\n",
              " ('in1', 'out0'): [Array([200.], dtype=float64), Array([600.], dtype=float64)],\n",
              " ('in1', 'out1'): [Array([200.], dtype=float64), Array([600.], dtype=float64)],\n",
              " ('out0', 'in0'): [Array([200.], dtype=float64), Array([600.], dtype=float64)],\n",
              " ('out0', 'in1'): [Array([200.], dtype=float64), Array([600.], dtype=float64)],\n",
              " ('out1', 'in0'): [Array([200.], dtype=float64), Array([600.], dtype=float64)],\n",
              " ('out1', 'in1'): [Array([200.], dtype=float64), Array([600.], dtype=float64)]}"
            ]
          },
          "execution_count": 5,
          "metadata": {},
          "output_type": "execute_result"
        }
      ],
      "source": [
        "mzi()"
      ]
    }
  ],
  "metadata": {
    "kernelspec": {
      "display_name": "sax",
      "language": "python",
      "name": "sax"
    },
    "language_info": {
      "codemirror_mode": {
        "name": "ipython",
        "version": 3
      },
      "file_extension": ".py",
      "mimetype": "text/x-python",
      "name": "python",
      "nbconvert_exporter": "python",
      "pygments_lexer": "ipython3",
      "version": "3.10.12"
    },
    "papermill": {
      "default_parameters": {},
      "duration": 3.477316,
      "end_time": "2023-09-03T18:55:30.101128",
      "environment_variables": {},
      "exception": null,
      "input_path": "./examples/06_additive_backend.ipynb",
      "output_path": "./examples/06_additive_backend.ipynb",
      "parameters": {},
      "start_time": "2023-09-03T18:55:26.623812",
      "version": "2.4.0"
    }
  },
  "nbformat": 4,
  "nbformat_minor": 5
}