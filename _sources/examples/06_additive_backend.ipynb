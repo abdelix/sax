{
  "cells": [
    {
      "cell_type": "markdown",
      "id": "6f097557",
      "metadata": {
        "papermill": {
          "duration": 0.002162,
          "end_time": "2023-06-01T21:32:13.614599",
          "exception": false,
          "start_time": "2023-06-01T21:32:13.612437",
          "status": "completed"
        },
        "tags": []
      },
      "source": [
        "# Additive Backend"
      ]
    },
    {
      "cell_type": "markdown",
      "id": "56868383",
      "metadata": {
        "papermill": {
          "duration": 0.001576,
          "end_time": "2023-06-01T21:32:13.618283",
          "exception": false,
          "start_time": "2023-06-01T21:32:13.616707",
          "status": "completed"
        },
        "tags": []
      },
      "source": [
        "> The additive backend can be used to obtain pathlengths and group delays."
      ]
    },
    {
      "cell_type": "code",
      "execution_count": 1,
      "id": "79c98bc0",
      "metadata": {
        "execution": {
          "iopub.execute_input": "2023-06-01T21:32:13.623977Z",
          "iopub.status.busy": "2023-06-01T21:32:13.623742Z",
          "iopub.status.idle": "2023-06-01T21:32:14.750759Z",
          "shell.execute_reply": "2023-06-01T21:32:14.750226Z"
        },
        "papermill": {
          "duration": 1.131205,
          "end_time": "2023-06-01T21:32:14.752572",
          "exception": false,
          "start_time": "2023-06-01T21:32:13.621367",
          "status": "completed"
        },
        "tags": []
      },
      "outputs": [],
      "source": [
        "from functools import partial\n",
        "\n",
        "import jax\n",
        "import jax.example_libraries.optimizers as opt\n",
        "import jax.numpy as jnp\n",
        "import matplotlib.pyplot as plt  # plotting\n",
        "import sax"
      ]
    },
    {
      "cell_type": "markdown",
      "id": "6a42b9d9",
      "metadata": {
        "papermill": {
          "duration": 0.001435,
          "end_time": "2023-06-01T21:32:14.755732",
          "exception": false,
          "start_time": "2023-06-01T21:32:14.754297",
          "status": "completed"
        },
        "tags": []
      },
      "source": [
        "## Parametrized Models"
      ]
    },
    {
      "cell_type": "code",
      "execution_count": 2,
      "id": "79e7e40e",
      "metadata": {
        "execution": {
          "iopub.execute_input": "2023-06-01T21:32:14.760447Z",
          "iopub.status.busy": "2023-06-01T21:32:14.759894Z",
          "iopub.status.idle": "2023-06-01T21:32:14.764651Z",
          "shell.execute_reply": "2023-06-01T21:32:14.764215Z"
        },
        "papermill": {
          "duration": 0.008863,
          "end_time": "2023-06-01T21:32:14.765956",
          "exception": false,
          "start_time": "2023-06-01T21:32:14.757093",
          "status": "completed"
        },
        "tags": []
      },
      "outputs": [],
      "source": [
        "def coupler(length=50.0) -> sax.SDict:\n",
        "    sdict =  {\n",
        "        (\"in0\", \"out0\"): length,\n",
        "        (\"in0\", \"out1\"): length,\n",
        "        (\"in1\", \"out0\"): length,\n",
        "        (\"in1\", \"out1\"): length,\n",
        "    }\n",
        "    return sax.reciprocal(sdict)"
      ]
    },
    {
      "cell_type": "code",
      "execution_count": 3,
      "id": "3248838c",
      "metadata": {
        "execution": {
          "iopub.execute_input": "2023-06-01T21:32:14.770084Z",
          "iopub.status.busy": "2023-06-01T21:32:14.769736Z",
          "iopub.status.idle": "2023-06-01T21:32:14.773047Z",
          "shell.execute_reply": "2023-06-01T21:32:14.772594Z"
        },
        "papermill": {
          "duration": 0.007009,
          "end_time": "2023-06-01T21:32:14.774351",
          "exception": false,
          "start_time": "2023-06-01T21:32:14.767342",
          "status": "completed"
        },
        "tags": []
      },
      "outputs": [],
      "source": [
        "def waveguide(length=100.0) -> sax.SDict:\n",
        "    sdict = {\n",
        "        (\"in0\", \"out0\"): length,\n",
        "    }\n",
        "    return sax.reciprocal(sdict)"
      ]
    },
    {
      "cell_type": "markdown",
      "id": "d650fb8d",
      "metadata": {
        "papermill": {
          "duration": 0.001354,
          "end_time": "2023-06-01T21:32:14.777065",
          "exception": false,
          "start_time": "2023-06-01T21:32:14.775711",
          "status": "completed"
        },
        "tags": []
      },
      "source": [
        "## Circuit with additive backend"
      ]
    },
    {
      "cell_type": "code",
      "execution_count": 4,
      "id": "56e035d0",
      "metadata": {
        "execution": {
          "iopub.execute_input": "2023-06-01T21:32:14.780747Z",
          "iopub.status.busy": "2023-06-01T21:32:14.780569Z",
          "iopub.status.idle": "2023-06-01T21:32:14.799456Z",
          "shell.execute_reply": "2023-06-01T21:32:14.798986Z"
        },
        "papermill": {
          "duration": 0.022259,
          "end_time": "2023-06-01T21:32:14.800787",
          "exception": false,
          "start_time": "2023-06-01T21:32:14.778528",
          "status": "completed"
        },
        "tags": []
      },
      "outputs": [
        {
          "name": "stderr",
          "output_type": "stream",
          "text": [
            "No GPU/TPU found, falling back to CPU. (Set TF_CPP_MIN_LOG_LEVEL=0 and rerun for more info.)\n"
          ]
        }
      ],
      "source": [
        "mzi, _ = sax.circuit(\n",
        "    netlist={\n",
        "        \"instances\": {\n",
        "            \"lft\": coupler,\n",
        "            \"top\": partial(waveguide, length=500),\n",
        "            \"btm\": partial(waveguide, length=100),\n",
        "            \"rgt\": coupler,\n",
        "        },\n",
        "        \"connections\": {\n",
        "            \"lft,out0\": \"btm,in0\",\n",
        "            \"btm,out0\": \"rgt,in0\",\n",
        "            \"lft,out1\": \"top,in0\",\n",
        "            \"top,out0\": \"rgt,in1\",\n",
        "        },\n",
        "        \"ports\": {\n",
        "            \"in0\": \"lft,in0\",\n",
        "            \"in1\": \"lft,in1\",\n",
        "            \"out0\": \"rgt,out0\",\n",
        "            \"out1\": \"rgt,out1\",\n",
        "        },\n",
        "    },\n",
        "    backend=\"additive\",\n",
        ")"
      ]
    },
    {
      "cell_type": "code",
      "execution_count": 5,
      "id": "c1f245fd",
      "metadata": {
        "execution": {
          "iopub.execute_input": "2023-06-01T21:32:14.805825Z",
          "iopub.status.busy": "2023-06-01T21:32:14.804828Z",
          "iopub.status.idle": "2023-06-01T21:32:14.911562Z",
          "shell.execute_reply": "2023-06-01T21:32:14.911062Z"
        },
        "papermill": {
          "duration": 0.11062,
          "end_time": "2023-06-01T21:32:14.912998",
          "exception": false,
          "start_time": "2023-06-01T21:32:14.802378",
          "status": "completed"
        },
        "tags": []
      },
      "outputs": [
        {
          "data": {
            "text/plain": [
              "{('in0', 'out0'): [Array([200.], dtype=float32), Array([600.], dtype=float32)],\n",
              " ('in0', 'out1'): [Array([200.], dtype=float32), Array([600.], dtype=float32)],\n",
              " ('in1', 'out0'): [Array([200.], dtype=float32), Array([600.], dtype=float32)],\n",
              " ('in1', 'out1'): [Array([200.], dtype=float32), Array([600.], dtype=float32)],\n",
              " ('out0', 'in0'): [Array([200.], dtype=float32), Array([600.], dtype=float32)],\n",
              " ('out0', 'in1'): [Array([200.], dtype=float32), Array([600.], dtype=float32)],\n",
              " ('out1', 'in0'): [Array([200.], dtype=float32), Array([600.], dtype=float32)],\n",
              " ('out1', 'in1'): [Array([200.], dtype=float32), Array([600.], dtype=float32)]}"
            ]
          },
          "execution_count": 5,
          "metadata": {},
          "output_type": "execute_result"
        }
      ],
      "source": [
        "mzi()"
      ]
    }
  ],
  "metadata": {
    "kernelspec": {
      "display_name": "Python 3 (ipykernel)",
      "language": "python",
      "name": "python3"
    },
    "language_info": {
      "codemirror_mode": {
        "name": "ipython",
        "version": 3
      },
      "file_extension": ".py",
      "mimetype": "text/x-python",
      "name": "python",
      "nbconvert_exporter": "python",
      "pygments_lexer": "ipython3",
      "version": "3.11.3"
    },
    "papermill": {
      "default_parameters": {},
      "duration": 3.152134,
      "end_time": "2023-06-01T21:32:15.435435",
      "environment_variables": {},
      "exception": null,
      "input_path": "./examples/06_additive_backend.ipynb",
      "output_path": "./examples/06_additive_backend.ipynb",
      "parameters": {},
      "start_time": "2023-06-01T21:32:12.283301",
      "version": "2.3.4"
    }
  },
  "nbformat": 4,
  "nbformat_minor": 5
}