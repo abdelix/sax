{
  "cells": [
    {
      "cell_type": "markdown",
      "id": "a234aed9",
      "metadata": {
        "papermill": {
          "duration": 0.002911,
          "end_time": "2023-09-03T04:40:07.392088",
          "exception": false,
          "start_time": "2023-09-03T04:40:07.389177",
          "status": "completed"
        },
        "tags": []
      },
      "source": [
        "# Simulating an All-Pass Filter\n",
        "> A simple comparison between an analytical evaluation of an all pass filter and using SAX."
      ]
    },
    {
      "cell_type": "code",
      "execution_count": null,
      "id": "f8a6a944",
      "metadata": {
        "papermill": {
          "duration": 1.617861,
          "end_time": "2023-09-03T04:40:09.012586",
          "exception": false,
          "start_time": "2023-09-03T04:40:07.394725",
          "status": "completed"
        },
        "tags": []
      },
      "outputs": [],
      "source": [
        "import jax\n",
        "import jax.numpy as jnp\n",
        "import matplotlib.pyplot as plt\n",
        "import sax"
      ]
    },
    {
      "cell_type": "markdown",
      "id": "d9d87eef",
      "metadata": {
        "papermill": {
          "duration": 0.002539,
          "end_time": "2023-09-03T04:40:09.017829",
          "exception": false,
          "start_time": "2023-09-03T04:40:09.015290",
          "status": "completed"
        },
        "tags": []
      },
      "source": [
        "## Schematic\n",
        "```\n",
        "\n",
        "           in0---out0\n",
        "        in1          out1\n",
        "           \\        /\n",
        "            ========\n",
        "           /        \\\n",
        " in0 <- in0          out0 -> out0\n",
        "```"
      ]
    },
    {
      "cell_type": "markdown",
      "id": "3847a061",
      "metadata": {
        "papermill": {
          "duration": 0.002534,
          "end_time": "2023-09-03T04:40:09.022841",
          "exception": false,
          "start_time": "2023-09-03T04:40:09.020307",
          "status": "completed"
        },
        "tags": []
      },
      "source": [
        "## Simulation & Design Parameters"
      ]
    },
    {
      "cell_type": "code",
      "execution_count": null,
      "id": "03d546d8",
      "metadata": {
        "papermill": {
          "duration": 0.158682,
          "end_time": "2023-09-03T04:40:09.184120",
          "exception": false,
          "start_time": "2023-09-03T04:40:09.025438",
          "status": "completed"
        },
        "tags": []
      },
      "outputs": [],
      "source": [
        "loss = 0.1  # [dB/\u03bcm] (alpha) waveguide loss\n",
        "neff = 2.34  # Effective index of the waveguides\n",
        "ng = 3.4  # Group index of the waveguides\n",
        "wl0 = 1.55  # [\u03bcm] the wavelength at which neff and ng are defined\n",
        "ring_length = 10.0  # [\u03bcm] Length of the ring\n",
        "coupling = 0.5  # [] coupling of the coupler\n",
        "wl = jnp.linspace(1.5, 1.6, 1000)  # [\u03bcm] Wavelengths to sweep over"
      ]
    },
    {
      "cell_type": "markdown",
      "id": "8c463584",
      "metadata": {
        "papermill": {
          "duration": 0.002755,
          "end_time": "2023-09-03T04:40:09.189680",
          "exception": false,
          "start_time": "2023-09-03T04:40:09.186925",
          "status": "completed"
        },
        "tags": []
      },
      "source": [
        "## Frequency Domain Analytically"
      ]
    },
    {
      "cell_type": "markdown",
      "id": "9e171871",
      "metadata": {
        "papermill": {
          "duration": 0.002432,
          "end_time": "2023-09-03T04:40:09.195581",
          "exception": false,
          "start_time": "2023-09-03T04:40:09.193149",
          "status": "completed"
        },
        "tags": []
      },
      "source": [
        "As a comparison, we first calculate the frequency domain response for the all-pass filter analytically:\n",
        "\\begin{align*}\n",
        "o = \\frac{t-10^{-\\alpha L/20}\\exp(2\\pi j n_{\\rm eff}(\\lambda) L / \\lambda)}{1-t10^{-\\alpha L/20}\\exp(2\\pi j n_{\\rm eff}(\\lambda) L / \\lambda)}s\n",
        "\\end{align*}"
      ]
    },
    {
      "cell_type": "code",
      "execution_count": null,
      "id": "48031239",
      "metadata": {
        "papermill": {
          "duration": 0.013797,
          "end_time": "2023-09-03T04:40:09.211801",
          "exception": false,
          "start_time": "2023-09-03T04:40:09.198004",
          "status": "completed"
        },
        "tags": []
      },
      "outputs": [],
      "source": [
        "def all_pass_analytical():\n",
        "    \"\"\" Analytic Frequency Domain Response of an all pass filter \"\"\"\n",
        "    detected = jnp.zeros_like(wl)\n",
        "    transmission = 1 - coupling\n",
        "    neff_wl = neff + (wl0 - wl) * (ng - neff) / wl0  # we expect a linear behavior with respect to wavelength\n",
        "    out = jnp.sqrt(transmission) - 10 ** (-loss * ring_length / 20.0) * jnp.exp(2j * jnp.pi * neff_wl * ring_length / wl)\n",
        "    out /= 1 - jnp.sqrt(transmission) * 10 ** (-loss * ring_length / 20.0) * jnp.exp(2j * jnp.pi * neff_wl * ring_length / wl)\n",
        "    detected = abs(out) ** 2\n",
        "    return detected"
      ]
    },
    {
      "cell_type": "code",
      "execution_count": null,
      "id": "cb39b703",
      "metadata": {
        "papermill": {
          "duration": 1.228926,
          "end_time": "2023-09-03T04:40:10.443297",
          "exception": false,
          "start_time": "2023-09-03T04:40:09.214371",
          "status": "completed"
        },
        "tags": []
      },
      "outputs": [],
      "source": [
        "%time detected = all_pass_analytical() # non-jitted evaluation time\n",
        "all_pass_analytical_jitted = jax.jit(all_pass_analytical)\n",
        "%time detected = all_pass_analytical_jitted() # time to jit\n",
        "%time detected = all_pass_analytical_jitted() # evaluation time after jitting\n",
        "\n",
        "plt.plot(wl * 1e3, detected)\n",
        "plt.xlabel(\"\u03bb [nm]\")\n",
        "plt.ylabel(\"T\")\n",
        "plt.show()"
      ]
    },
    {
      "cell_type": "markdown",
      "id": "11219941",
      "metadata": {
        "papermill": {
          "duration": 0.003124,
          "end_time": "2023-09-03T04:40:10.449766",
          "exception": false,
          "start_time": "2023-09-03T04:40:10.446642",
          "status": "completed"
        },
        "tags": []
      },
      "source": [
        "## Scatter Dictionaries"
      ]
    },
    {
      "cell_type": "code",
      "execution_count": null,
      "id": "5957b3f3",
      "metadata": {
        "papermill": {
          "duration": 0.709011,
          "end_time": "2023-09-03T04:40:11.161995",
          "exception": false,
          "start_time": "2023-09-03T04:40:10.452984",
          "status": "completed"
        },
        "tags": []
      },
      "outputs": [],
      "source": [
        "all_pass_sax, _ = sax.circuit(\n",
        "    netlist={\n",
        "        \"instances\": {\n",
        "            \"dc\": {\"component\": \"coupler\", \"settings\": {\"coupling\": coupling}},\n",
        "            \"top\": {\n",
        "                \"component\": \"straight\",\n",
        "                \"settings\": {\n",
        "                    \"length\": ring_length,\n",
        "                    \"loss\": loss,\n",
        "                    \"neff\": neff,\n",
        "                    \"ng\": ng,\n",
        "                    \"wl0\": wl0,\n",
        "                    \"wl\": wl,\n",
        "                },\n",
        "            },\n",
        "        },\n",
        "        \"connections\": {\n",
        "            \"dc,out1\": \"top,in0\",\n",
        "            \"top,out0\": \"dc,in1\",\n",
        "        },\n",
        "        \"ports\": {\n",
        "            \"in0\": \"dc,in0\",\n",
        "            \"out0\": \"dc,out0\",\n",
        "        },\n",
        "    },\n",
        "    models={\n",
        "        \"coupler\": sax.models.coupler,\n",
        "        \"straight\": sax.models.straight,\n",
        "    },\n",
        ")"
      ]
    },
    {
      "cell_type": "code",
      "execution_count": null,
      "id": "1702182a",
      "metadata": {
        "papermill": {
          "duration": 0.714376,
          "end_time": "2023-09-03T04:40:11.879845",
          "exception": false,
          "start_time": "2023-09-03T04:40:11.165469",
          "status": "completed"
        },
        "tags": []
      },
      "outputs": [],
      "source": [
        "%time detected_sax = all_pass_sax() # non-jitted evaluation time\n",
        "all_pass_sax_jitted = jax.jit(all_pass_analytical)\n",
        "%time detected_sax = all_pass_sax_jitted() # time to jit\n",
        "%time detected_sax = all_pass_sax_jitted() # time after jitting\n",
        "\n",
        "plt.plot(wl * 1e3, detected, label=\"analytical\")\n",
        "plt.plot(wl * 1e3, detected_sax, label=\"sax\", ls=\"--\", lw=3)\n",
        "plt.xlabel(\"\u03bb [nm]\")\n",
        "plt.ylabel(\"T\")\n",
        "plt.show()"
      ]
    }
  ],
  "metadata": {
    "kernelspec": {
      "display_name": "sax",
      "language": "python",
      "name": "sax"
    },
    "language_info": {
      "codemirror_mode": {
        "name": "ipython",
        "version": 3
      },
      "file_extension": ".py",
      "mimetype": "text/x-python",
      "name": "python",
      "nbconvert_exporter": "python",
      "pygments_lexer": "ipython3",
      "version": "3.9.18"
    },
    "papermill": {
      "default_parameters": {},
      "duration": 6.161248,
      "end_time": "2023-09-03T04:40:12.401072",
      "environment_variables": {},
      "exception": null,
      "input_path": "./02_all_pass_filter.ipynb",
      "output_path": "./02_all_pass_filter.ipynb",
      "parameters": {},
      "start_time": "2023-09-03T04:40:06.239824",
      "version": "2.4.0"
    }
  },
  "nbformat": 4,
  "nbformat_minor": 5
}