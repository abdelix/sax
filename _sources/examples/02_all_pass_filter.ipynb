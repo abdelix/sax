{
  "cells": [
    {
      "cell_type": "markdown",
      "id": "a234aed9",
      "metadata": {
        "papermill": {
          "duration": 0.002232,
          "end_time": "2023-06-01T21:46:20.883457",
          "exception": false,
          "start_time": "2023-06-01T21:46:20.881225",
          "status": "completed"
        },
        "tags": []
      },
      "source": [
        "# Simulating an All-Pass Filter\n",
        "> A simple comparison between an analytical evaluation of an all pass filter and using SAX."
      ]
    },
    {
      "cell_type": "code",
      "execution_count": 1,
      "id": "f8a6a944",
      "metadata": {
        "execution": {
          "iopub.execute_input": "2023-06-01T21:46:20.889443Z",
          "iopub.status.busy": "2023-06-01T21:46:20.889213Z",
          "iopub.status.idle": "2023-06-01T21:46:22.165696Z",
          "shell.execute_reply": "2023-06-01T21:46:22.165161Z"
        },
        "papermill": {
          "duration": 1.281993,
          "end_time": "2023-06-01T21:46:22.167441",
          "exception": false,
          "start_time": "2023-06-01T21:46:20.885448",
          "status": "completed"
        },
        "tags": []
      },
      "outputs": [],
      "source": [
        "import jax\n",
        "import jax.numpy as jnp\n",
        "import matplotlib.pyplot as plt\n",
        "import sax"
      ]
    },
    {
      "cell_type": "markdown",
      "id": "d9d87eef",
      "metadata": {
        "papermill": {
          "duration": 0.001751,
          "end_time": "2023-06-01T21:46:22.171204",
          "exception": false,
          "start_time": "2023-06-01T21:46:22.169453",
          "status": "completed"
        },
        "tags": []
      },
      "source": [
        "## Schematic\n",
        "```\n",
        "\n",
        "           in0---out0\n",
        "        in1          out1\n",
        "           \\        /\n",
        "            ========\n",
        "           /        \\\n",
        " in0 <- in0          out0 -> out0\n",
        "```"
      ]
    },
    {
      "cell_type": "markdown",
      "id": "3847a061",
      "metadata": {
        "papermill": {
          "duration": 0.001661,
          "end_time": "2023-06-01T21:46:22.174538",
          "exception": false,
          "start_time": "2023-06-01T21:46:22.172877",
          "status": "completed"
        },
        "tags": []
      },
      "source": [
        "## Simulation & Design Parameters"
      ]
    },
    {
      "cell_type": "code",
      "execution_count": 2,
      "id": "03d546d8",
      "metadata": {
        "execution": {
          "iopub.execute_input": "2023-06-01T21:46:22.179114Z",
          "iopub.status.busy": "2023-06-01T21:46:22.178695Z",
          "iopub.status.idle": "2023-06-01T21:46:22.225023Z",
          "shell.execute_reply": "2023-06-01T21:46:22.224512Z"
        },
        "papermill": {
          "duration": 0.050417,
          "end_time": "2023-06-01T21:46:22.226580",
          "exception": false,
          "start_time": "2023-06-01T21:46:22.176163",
          "status": "completed"
        },
        "tags": []
      },
      "outputs": [
        {
          "name": "stderr",
          "output_type": "stream",
          "text": [
            "No GPU/TPU found, falling back to CPU. (Set TF_CPP_MIN_LOG_LEVEL=0 and rerun for more info.)\n"
          ]
        }
      ],
      "source": [
        "loss = 0.1  # [dB/\u03bcm] (alpha) waveguide loss\n",
        "neff = 2.34  # Effective index of the waveguides\n",
        "ng = 3.4  # Group index of the waveguides\n",
        "wl0 = 1.55  # [\u03bcm] the wavelength at which neff and ng are defined\n",
        "ring_length = 10.0  # [\u03bcm] Length of the ring\n",
        "coupling = 0.5  # [] coupling of the coupler\n",
        "wl = jnp.linspace(1.5, 1.6, 1000)  # [\u03bcm] Wavelengths to sweep over"
      ]
    },
    {
      "cell_type": "markdown",
      "id": "8c463584",
      "metadata": {
        "papermill": {
          "duration": 0.001812,
          "end_time": "2023-06-01T21:46:22.230383",
          "exception": false,
          "start_time": "2023-06-01T21:46:22.228571",
          "status": "completed"
        },
        "tags": []
      },
      "source": [
        "## Frequency Domain Analytically"
      ]
    },
    {
      "cell_type": "markdown",
      "id": "9e171871",
      "metadata": {
        "papermill": {
          "duration": 0.001937,
          "end_time": "2023-06-01T21:46:22.234123",
          "exception": false,
          "start_time": "2023-06-01T21:46:22.232186",
          "status": "completed"
        },
        "tags": []
      },
      "source": [
        "As a comparison, we first calculate the frequency domain response for the all-pass filter analytically:\n",
        "\\begin{align*}\n",
        "o = \\frac{t-10^{-\\alpha L/20}\\exp(2\\pi j n_{\\rm eff}(\\lambda) L / \\lambda)}{1-t10^{-\\alpha L/20}\\exp(2\\pi j n_{\\rm eff}(\\lambda) L / \\lambda)}s\n",
        "\\end{align*}"
      ]
    },
    {
      "cell_type": "code",
      "execution_count": 3,
      "id": "48031239",
      "metadata": {
        "execution": {
          "iopub.execute_input": "2023-06-01T21:46:22.238735Z",
          "iopub.status.busy": "2023-06-01T21:46:22.238531Z",
          "iopub.status.idle": "2023-06-01T21:46:22.242872Z",
          "shell.execute_reply": "2023-06-01T21:46:22.242406Z"
        },
        "papermill": {
          "duration": 0.008755,
          "end_time": "2023-06-01T21:46:22.244611",
          "exception": false,
          "start_time": "2023-06-01T21:46:22.235856",
          "status": "completed"
        },
        "tags": []
      },
      "outputs": [],
      "source": [
        "def all_pass_analytical():\n",
        "    \"\"\" Analytic Frequency Domain Response of an all pass filter \"\"\"\n",
        "    detected = jnp.zeros_like(wl)\n",
        "    transmission = 1 - coupling\n",
        "    neff_wl = neff + (wl0 - wl) * (ng - neff) / wl0  # we expect a linear behavior with respect to wavelength\n",
        "    out = jnp.sqrt(transmission) - 10 ** (-loss * ring_length / 20.0) * jnp.exp(2j * jnp.pi * neff_wl * ring_length / wl)\n",
        "    out /= 1 - jnp.sqrt(transmission) * 10 ** (-loss * ring_length / 20.0) * jnp.exp(2j * jnp.pi * neff_wl * ring_length / wl)\n",
        "    detected = abs(out) ** 2\n",
        "    return detected"
      ]
    },
    {
      "cell_type": "code",
      "execution_count": 4,
      "id": "cb39b703",
      "metadata": {
        "execution": {
          "iopub.execute_input": "2023-06-01T21:46:22.249061Z",
          "iopub.status.busy": "2023-06-01T21:46:22.248881Z",
          "iopub.status.idle": "2023-06-01T21:46:23.025331Z",
          "shell.execute_reply": "2023-06-01T21:46:23.024840Z"
        },
        "papermill": {
          "duration": 0.780347,
          "end_time": "2023-06-01T21:46:23.026802",
          "exception": false,
          "start_time": "2023-06-01T21:46:22.246455",
          "status": "completed"
        },
        "tags": []
      },
      "outputs": [
        {
          "name": "stdout",
          "output_type": "stream",
          "text": [
            "CPU times: user 272 ms, sys: 0 ns, total: 272 ms\n",
            "Wall time: 275 ms\n",
            "CPU times: user 27.9 ms, sys: 0 ns, total: 27.9 ms\n",
            "Wall time: 27.9 ms\n",
            "CPU times: user 28 \u00b5s, sys: 0 ns, total: 28 \u00b5s\n",
            "Wall time: 31.9 \u00b5s\n"
          ]
        },
        {
          "data": {
            "image/png": "[encoded data removed]",
            "text/plain": [
              "<Figure size 640x480 with 1 Axes>"
            ]
          },
          "metadata": {},
          "output_type": "display_data"
        }
      ],
      "source": [
        "%time detected = all_pass_analytical() # non-jitted evaluation time\n",
        "all_pass_analytical_jitted = jax.jit(all_pass_analytical)\n",
        "%time detected = all_pass_analytical_jitted() # time to jit\n",
        "%time detected = all_pass_analytical_jitted() # evaluation time after jitting\n",
        "\n",
        "plt.plot(wl * 1e3, detected)\n",
        "plt.xlabel(\"\u03bb [nm]\")\n",
        "plt.ylabel(\"T\")\n",
        "plt.show()"
      ]
    },
    {
      "cell_type": "markdown",
      "id": "11219941",
      "metadata": {
        "papermill": {
          "duration": 0.002305,
          "end_time": "2023-06-01T21:46:23.031758",
          "exception": false,
          "start_time": "2023-06-01T21:46:23.029453",
          "status": "completed"
        },
        "tags": []
      },
      "source": [
        "## Scatter Dictionaries"
      ]
    },
    {
      "cell_type": "code",
      "execution_count": 5,
      "id": "5957b3f3",
      "metadata": {
        "execution": {
          "iopub.execute_input": "2023-06-01T21:46:23.037629Z",
          "iopub.status.busy": "2023-06-01T21:46:23.037395Z",
          "iopub.status.idle": "2023-06-01T21:46:23.045000Z",
          "shell.execute_reply": "2023-06-01T21:46:23.044556Z"
        },
        "papermill": {
          "duration": 0.01201,
          "end_time": "2023-06-01T21:46:23.046301",
          "exception": false,
          "start_time": "2023-06-01T21:46:23.034291",
          "status": "completed"
        },
        "tags": []
      },
      "outputs": [],
      "source": [
        "all_pass_sax, _ = sax.circuit(\n",
        "    netlist={\n",
        "        \"instances\": {\n",
        "            \"dc\": {\"component\": \"coupler\", \"settings\": {\"coupling\": coupling}},\n",
        "            \"top\": {\n",
        "                \"component\": \"straight\",\n",
        "                \"settings\": {\n",
        "                    \"length\": ring_length,\n",
        "                    \"loss\": loss,\n",
        "                    \"neff\": neff,\n",
        "                    \"ng\": ng,\n",
        "                    \"wl0\": wl0,\n",
        "                    \"wl\": wl,\n",
        "                },\n",
        "            },\n",
        "        },\n",
        "        \"connections\": {\n",
        "            \"dc,out1\": \"top,in0\",\n",
        "            \"top,out0\": \"dc,in1\",\n",
        "        },\n",
        "        \"ports\": {\n",
        "            \"in0\": \"dc,in0\",\n",
        "            \"out0\": \"dc,out0\",\n",
        "        },\n",
        "    },\n",
        "    models={\n",
        "        \"coupler\": sax.models.coupler,\n",
        "        \"straight\": sax.models.straight,\n",
        "    },\n",
        ")"
      ]
    },
    {
      "cell_type": "code",
      "execution_count": 6,
      "id": "1702182a",
      "metadata": {
        "execution": {
          "iopub.execute_input": "2023-06-01T21:46:23.052182Z",
          "iopub.status.busy": "2023-06-01T21:46:23.051701Z",
          "iopub.status.idle": "2023-06-01T21:46:24.460289Z",
          "shell.execute_reply": "2023-06-01T21:46:24.459792Z"
        },
        "papermill": {
          "duration": 1.413036,
          "end_time": "2023-06-01T21:46:24.461656",
          "exception": false,
          "start_time": "2023-06-01T21:46:23.048620",
          "status": "completed"
        },
        "tags": []
      },
      "outputs": [
        {
          "name": "stdout",
          "output_type": "stream",
          "text": [
            "CPU times: user 1.18 s, sys: 259 \u00b5s, total: 1.18 s\n",
            "Wall time: 1.23 s\n",
            "CPU times: user 267 \u00b5s, sys: 16 \u00b5s, total: 283 \u00b5s\n",
            "Wall time: 252 \u00b5s\n",
            "CPU times: user 26 \u00b5s, sys: 0 ns, total: 26 \u00b5s\n",
            "Wall time: 30 \u00b5s\n"
          ]
        },
        {
          "data": {
            "image/png": "[encoded data removed]",
            "text/plain": [
              "<Figure size 640x480 with 1 Axes>"
            ]
          },
          "metadata": {},
          "output_type": "display_data"
        }
      ],
      "source": [
        "%time detected_sax = all_pass_sax() # non-jitted evaluation time\n",
        "all_pass_sax_jitted = jax.jit(all_pass_analytical)\n",
        "%time detected_sax = all_pass_sax_jitted() # time to jit\n",
        "%time detected_sax = all_pass_sax_jitted() # time after jitting\n",
        "\n",
        "plt.plot(wl * 1e3, detected, label=\"analytical\")\n",
        "plt.plot(wl * 1e3, detected_sax, label=\"sax\", ls=\"--\", lw=3)\n",
        "plt.xlabel(\"\u03bb [nm]\")\n",
        "plt.ylabel(\"T\")\n",
        "plt.show()"
      ]
    }
  ],
  "metadata": {
    "kernelspec": {
      "display_name": "sax",
      "language": "python",
      "name": "sax"
    },
    "language_info": {
      "codemirror_mode": {
        "name": "ipython",
        "version": 3
      },
      "file_extension": ".py",
      "mimetype": "text/x-python",
      "name": "python",
      "nbconvert_exporter": "python",
      "pygments_lexer": "ipython3",
      "version": "3.11.3"
    },
    "papermill": {
      "default_parameters": {},
      "duration": 5.41216,
      "end_time": "2023-06-01T21:46:24.886397",
      "environment_variables": {},
      "exception": null,
      "input_path": "./examples/02_all_pass_filter.ipynb",
      "output_path": "./examples/02_all_pass_filter.ipynb",
      "parameters": {},
      "start_time": "2023-06-01T21:46:19.474237",
      "version": "2.3.4"
    }
  },
  "nbformat": 4,
  "nbformat_minor": 5
}