{
  "cells": [
    {
      "cell_type": "markdown",
      "id": "competitive-seating",
      "metadata": {
        "papermill": {
          "duration": 0.002415,
          "end_time": "2023-06-01T21:08:19.195562",
          "exception": false,
          "start_time": "2023-06-01T21:08:19.193147",
          "status": "completed"
        },
        "tags": []
      },
      "source": [
        "# Circuit from YAML\n",
        "> Sometimes it's useful to be able to define circuits from YAML definitions. To not re-invent the wheel, SAX uses [GDSFactory](https://gdsfactory.readthedocs.io/en/latest/yaml.html)'s YAML netlist spec to define its circuits. This makes it very easy to convert a GDSFactory layout to a SAX circuit model!"
      ]
    },
    {
      "cell_type": "code",
      "execution_count": 1,
      "id": "personalized-recipe",
      "metadata": {
        "execution": {
          "iopub.execute_input": "2023-06-01T21:08:19.202483Z",
          "iopub.status.busy": "2023-06-01T21:08:19.202236Z",
          "iopub.status.idle": "2023-06-01T21:08:20.876331Z",
          "shell.execute_reply": "2023-06-01T21:08:20.875775Z"
        },
        "papermill": {
          "duration": 1.680523,
          "end_time": "2023-06-01T21:08:20.878204",
          "exception": false,
          "start_time": "2023-06-01T21:08:19.197681",
          "status": "completed"
        },
        "tags": []
      },
      "outputs": [],
      "source": [
        "import jax.numpy as jnp\n",
        "import matplotlib.pyplot as plt\n",
        "import sax\n",
        "import yaml"
      ]
    },
    {
      "cell_type": "markdown",
      "id": "featured-liberal",
      "metadata": {
        "papermill": {
          "duration": 0.001893,
          "end_time": "2023-06-01T21:08:20.882355",
          "exception": false,
          "start_time": "2023-06-01T21:08:20.880462",
          "status": "completed"
        },
        "tags": []
      },
      "source": [
        "## MZI"
      ]
    },
    {
      "cell_type": "markdown",
      "id": "collectible-feedback",
      "metadata": {
        "papermill": {
          "duration": 0.00204,
          "end_time": "2023-06-01T21:08:20.886244",
          "exception": false,
          "start_time": "2023-06-01T21:08:20.884204",
          "status": "completed"
        },
        "tags": []
      },
      "source": [
        "Let's first see how we can define a SAX circuit from YAML:"
      ]
    },
    {
      "cell_type": "code",
      "execution_count": 2,
      "id": "fixed-hurricane",
      "metadata": {
        "execution": {
          "iopub.execute_input": "2023-06-01T21:08:20.891307Z",
          "iopub.status.busy": "2023-06-01T21:08:20.890822Z",
          "iopub.status.idle": "2023-06-01T21:08:20.894208Z",
          "shell.execute_reply": "2023-06-01T21:08:20.893730Z"
        },
        "papermill": {
          "duration": 0.007915,
          "end_time": "2023-06-01T21:08:20.896040",
          "exception": false,
          "start_time": "2023-06-01T21:08:20.888125",
          "status": "completed"
        },
        "tags": []
      },
      "outputs": [],
      "source": [
        "netlist = \"\"\"\n",
        "instances:\n",
        "    lft:\n",
        "      component: coupler\n",
        "      settings:\n",
        "          coupling: 0.5\n",
        "    rgt:\n",
        "        component: coupler\n",
        "        settings:\n",
        "            coupling: 0.5\n",
        "    top:\n",
        "        component: straight\n",
        "        settings:\n",
        "            length: 25.0\n",
        "    btm:\n",
        "        component: straight\n",
        "        settings:\n",
        "            length: 15.0\n",
        "\n",
        "connections:\n",
        "    lft,out0: btm,in0\n",
        "    btm,out0: rgt,in0\n",
        "    lft,out1: top,in0\n",
        "    top,out0: rgt,in1\n",
        "\n",
        "ports:\n",
        "    in0:  lft,in0\n",
        "    in1:  lft,in1\n",
        "    out0: rgt,out0\n",
        "    out1: rgt,out1\n",
        "\n",
        "\"\"\""
      ]
    },
    {
      "cell_type": "code",
      "execution_count": 3,
      "id": "f57633a5-10e9-4ddd-a10d-b29c47e26878",
      "metadata": {
        "execution": {
          "iopub.execute_input": "2023-06-01T21:08:20.900566Z",
          "iopub.status.busy": "2023-06-01T21:08:20.900381Z",
          "iopub.status.idle": "2023-06-01T21:08:20.910080Z",
          "shell.execute_reply": "2023-06-01T21:08:20.909651Z"
        },
        "papermill": {
          "duration": 0.013611,
          "end_time": "2023-06-01T21:08:20.911435",
          "exception": false,
          "start_time": "2023-06-01T21:08:20.897824",
          "status": "completed"
        },
        "tags": []
      },
      "outputs": [
        {
          "data": {
            "text/plain": [
              "{'instances': {'lft': {'component': 'coupler', 'settings': {'coupling': 0.5}},\n",
              "  'rgt': {'component': 'coupler', 'settings': {'coupling': 0.5}},\n",
              "  'top': {'component': 'straight', 'settings': {'length': 25.0}},\n",
              "  'btm': {'component': 'straight', 'settings': {'length': 15.0}}},\n",
              " 'connections': {'lft,out0': 'btm,in0',\n",
              "  'btm,out0': 'rgt,in0',\n",
              "  'lft,out1': 'top,in0',\n",
              "  'top,out0': 'rgt,in1'},\n",
              " 'ports': {'in0': 'lft,in0',\n",
              "  'in1': 'lft,in1',\n",
              "  'out0': 'rgt,out0',\n",
              "  'out1': 'rgt,out1'}}"
            ]
          },
          "execution_count": 3,
          "metadata": {},
          "output_type": "execute_result"
        }
      ],
      "source": [
        "yaml.safe_load(netlist)"
      ]
    },
    {
      "cell_type": "code",
      "execution_count": 4,
      "id": "7e91dc2b-bcdb-4a32-ba81-d0e99ed6a562",
      "metadata": {
        "execution": {
          "iopub.execute_input": "2023-06-01T21:08:20.916477Z",
          "iopub.status.busy": "2023-06-01T21:08:20.916289Z",
          "iopub.status.idle": "2023-06-01T21:08:20.934795Z",
          "shell.execute_reply": "2023-06-01T21:08:20.934264Z"
        },
        "papermill": {
          "duration": 0.022867,
          "end_time": "2023-06-01T21:08:20.936364",
          "exception": false,
          "start_time": "2023-06-01T21:08:20.913497",
          "status": "completed"
        },
        "tags": []
      },
      "outputs": [
        {
          "name": "stderr",
          "output_type": "stream",
          "text": [
            "No GPU/TPU found, falling back to CPU. (Set TF_CPP_MIN_LOG_LEVEL=0 and rerun for more info.)\n"
          ]
        }
      ],
      "source": [
        "mzi, _ = sax.circuit(\n",
        "    yaml.safe_load(netlist),\n",
        "    models={\"coupler\": sax.models.coupler, \"straight\": sax.models.straight},\n",
        ")"
      ]
    },
    {
      "cell_type": "code",
      "execution_count": 5,
      "id": "dynamic-commonwealth",
      "metadata": {
        "execution": {
          "iopub.execute_input": "2023-06-01T21:08:20.942022Z",
          "iopub.status.busy": "2023-06-01T21:08:20.941464Z",
          "iopub.status.idle": "2023-06-01T21:08:25.414893Z",
          "shell.execute_reply": "2023-06-01T21:08:25.414328Z"
        },
        "papermill": {
          "duration": 4.477825,
          "end_time": "2023-06-01T21:08:25.416422",
          "exception": false,
          "start_time": "2023-06-01T21:08:20.938597",
          "status": "completed"
        },
        "tags": []
      },
      "outputs": [
        {
          "data": {
            "image/png": "[encoded data removed]",
            "text/plain": [
              "<Figure size 640x480 with 1 Axes>"
            ]
          },
          "metadata": {},
          "output_type": "display_data"
        }
      ],
      "source": [
        "wl = jnp.linspace(1.5, 1.6, 1000)\n",
        "transmission = jnp.abs(mzi(wl=wl)[\"in0\", \"out0\"]) ** 2\n",
        "\n",
        "plt.plot(wl * 1e3, transmission)\n",
        "plt.xlabel(\"\u03bb [nm]\")\n",
        "plt.ylabel(\"T\")\n",
        "plt.show()"
      ]
    },
    {
      "cell_type": "markdown",
      "id": "alpha-married",
      "metadata": {
        "papermill": {
          "duration": 0.002538,
          "end_time": "2023-06-01T21:08:25.421954",
          "exception": false,
          "start_time": "2023-06-01T21:08:25.419416",
          "status": "completed"
        },
        "tags": []
      },
      "source": [
        "That was easy! However, during the above YAML conversion, only models available in `sax.models` were used. What if we want to map the YAML component names to custom models? Let's say we want to use a dispersionless waveguide for the above model for example:"
      ]
    },
    {
      "cell_type": "code",
      "execution_count": 6,
      "id": "important-association",
      "metadata": {
        "execution": {
          "iopub.execute_input": "2023-06-01T21:08:25.428461Z",
          "iopub.status.busy": "2023-06-01T21:08:25.428225Z",
          "iopub.status.idle": "2023-06-01T21:08:25.431711Z",
          "shell.execute_reply": "2023-06-01T21:08:25.431196Z"
        },
        "papermill": {
          "duration": 0.008847,
          "end_time": "2023-06-01T21:08:25.433684",
          "exception": false,
          "start_time": "2023-06-01T21:08:25.424837",
          "status": "completed"
        },
        "tags": []
      },
      "outputs": [],
      "source": [
        "def waveguide_without_dispersion(wl=1.55, length=25.0, neff=2.34):\n",
        "    phase = 2 * jnp.pi * neff * length / wl\n",
        "    sdict = sax.reciprocal({(\"in0\", \"out0\"): jnp.exp(1j * phase)})\n",
        "    return sdict"
      ]
    },
    {
      "cell_type": "markdown",
      "id": "valuable-candidate",
      "metadata": {
        "papermill": {
          "duration": 0.002539,
          "end_time": "2023-06-01T21:08:25.438847",
          "exception": false,
          "start_time": "2023-06-01T21:08:25.436308",
          "status": "completed"
        },
        "tags": []
      },
      "source": [
        "We can regenerate the above circuit again, but this time we specify a models mapping:"
      ]
    },
    {
      "cell_type": "code",
      "execution_count": 7,
      "id": "former-retro",
      "metadata": {
        "execution": {
          "iopub.execute_input": "2023-06-01T21:08:25.444891Z",
          "iopub.status.busy": "2023-06-01T21:08:25.444679Z",
          "iopub.status.idle": "2023-06-01T21:08:25.453281Z",
          "shell.execute_reply": "2023-06-01T21:08:25.452821Z"
        },
        "papermill": {
          "duration": 0.013319,
          "end_time": "2023-06-01T21:08:25.454637",
          "exception": false,
          "start_time": "2023-06-01T21:08:25.441318",
          "status": "completed"
        },
        "tags": []
      },
      "outputs": [],
      "source": [
        "mzi, _ = sax.circuit(yaml.safe_load(netlist), models={\"straight\": waveguide_without_dispersion, 'coupler': sax.models.coupler})"
      ]
    },
    {
      "cell_type": "markdown",
      "id": "focal-question",
      "metadata": {
        "papermill": {
          "duration": 0.00254,
          "end_time": "2023-06-01T21:08:25.459797",
          "exception": false,
          "start_time": "2023-06-01T21:08:25.457257",
          "status": "completed"
        },
        "tags": []
      },
      "source": [
        "> The `models=` keyword in `circuit_from_yaml` can be a dictionary **or** an imported python module (like for example `sax.models`). Or a list containing multiple of such dictionary mappings and imported modules."
      ]
    },
    {
      "cell_type": "code",
      "execution_count": 8,
      "id": "expired-panel",
      "metadata": {
        "execution": {
          "iopub.execute_input": "2023-06-01T21:08:25.465758Z",
          "iopub.status.busy": "2023-06-01T21:08:25.465546Z",
          "iopub.status.idle": "2023-06-01T21:08:25.691287Z",
          "shell.execute_reply": "2023-06-01T21:08:25.690539Z"
        },
        "papermill": {
          "duration": 0.230714,
          "end_time": "2023-06-01T21:08:25.692995",
          "exception": false,
          "start_time": "2023-06-01T21:08:25.462281",
          "status": "completed"
        },
        "tags": []
      },
      "outputs": [
        {
          "data": {
            "image/png": "[encoded data removed]",
            "text/plain": [
              "<Figure size 640x480 with 1 Axes>"
            ]
          },
          "metadata": {},
          "output_type": "display_data"
        }
      ],
      "source": [
        "wl = jnp.linspace(1.5, 1.6, 1000)\n",
        "transmission = jnp.abs(mzi(wl=wl)[\"in0\", \"out0\"]) ** 2\n",
        "\n",
        "plt.plot(wl, transmission)\n",
        "plt.xlabel(\"Wavelength [nm]\")\n",
        "plt.ylabel(\"T\")\n",
        "plt.show()"
      ]
    }
  ],
  "metadata": {
    "kernelspec": {
      "display_name": "sax",
      "language": "python",
      "name": "sax"
    },
    "language_info": {
      "codemirror_mode": {
        "name": "ipython",
        "version": 3
      },
      "file_extension": ".py",
      "mimetype": "text/x-python",
      "name": "python",
      "nbconvert_exporter": "python",
      "pygments_lexer": "ipython3",
      "version": "3.11.3"
    },
    "papermill": {
      "default_parameters": {},
      "duration": 9.015563,
      "end_time": "2023-06-01T21:08:26.616975",
      "environment_variables": {},
      "exception": null,
      "input_path": "./examples/03_circuit_from_yaml.ipynb",
      "output_path": "./examples/03_circuit_from_yaml.ipynb",
      "parameters": {},
      "start_time": "2023-06-01T21:08:17.601412",
      "version": "2.3.4"
    }
  },
  "nbformat": 4,
  "nbformat_minor": 5
}