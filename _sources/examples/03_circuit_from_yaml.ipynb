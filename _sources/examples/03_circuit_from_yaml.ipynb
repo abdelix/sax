{
  "cells": [
    {
      "cell_type": "markdown",
      "id": "4483f73c",
      "metadata": {
        "tags": [
          "papermill-error-cell-tag"
        ]
      },
      "source": [
        "<span style=\"color:red; font-family:Helvetica Neue, Helvetica, Arial, sans-serif; font-size:2em;\">An Exception was encountered at '<a href=\"#papermill-error-cell\">In [5]</a>'.</span>"
      ]
    },
    {
      "cell_type": "markdown",
      "id": "competitive-seating",
      "metadata": {
        "papermill": {
          "duration": 0.006542,
          "end_time": "2023-09-02T18:49:27.059492",
          "exception": false,
          "start_time": "2023-09-02T18:49:27.052950",
          "status": "completed"
        },
        "tags": []
      },
      "source": [
        "# Circuit from YAML\n",
        "> Sometimes it's useful to be able to define circuits from YAML definitions. To not re-invent the wheel, SAX uses [GDSFactory](https://gdsfactory.readthedocs.io/en/latest/yaml.html)'s YAML netlist spec to define its circuits. This makes it very easy to convert a GDSFactory layout to a SAX circuit model!"
      ]
    },
    {
      "cell_type": "code",
      "execution_count": 1,
      "id": "personalized-recipe",
      "metadata": {
        "execution": {
          "iopub.execute_input": "2023-09-02T18:49:27.065566Z",
          "iopub.status.busy": "2023-09-02T18:49:27.065051Z",
          "iopub.status.idle": "2023-09-02T18:49:28.259258Z",
          "shell.execute_reply": "2023-09-02T18:49:28.258657Z"
        },
        "papermill": {
          "duration": 1.199278,
          "end_time": "2023-09-02T18:49:28.261297",
          "exception": false,
          "start_time": "2023-09-02T18:49:27.062019",
          "status": "completed"
        },
        "tags": []
      },
      "outputs": [],
      "source": [
        "import jax.numpy as jnp\n",
        "import matplotlib.pyplot as plt\n",
        "import sax\n",
        "import yaml"
      ]
    },
    {
      "cell_type": "markdown",
      "id": "featured-liberal",
      "metadata": {
        "papermill": {
          "duration": 0.002419,
          "end_time": "2023-09-02T18:49:28.266013",
          "exception": false,
          "start_time": "2023-09-02T18:49:28.263594",
          "status": "completed"
        },
        "tags": []
      },
      "source": [
        "## MZI"
      ]
    },
    {
      "cell_type": "markdown",
      "id": "collectible-feedback",
      "metadata": {
        "papermill": {
          "duration": 0.001868,
          "end_time": "2023-09-02T18:49:28.269870",
          "exception": false,
          "start_time": "2023-09-02T18:49:28.268002",
          "status": "completed"
        },
        "tags": []
      },
      "source": [
        "Let's first see how we can define a SAX circuit from YAML:"
      ]
    },
    {
      "cell_type": "code",
      "execution_count": 2,
      "id": "fixed-hurricane",
      "metadata": {
        "execution": {
          "iopub.execute_input": "2023-09-02T18:49:28.274962Z",
          "iopub.status.busy": "2023-09-02T18:49:28.274482Z",
          "iopub.status.idle": "2023-09-02T18:49:28.278071Z",
          "shell.execute_reply": "2023-09-02T18:49:28.277473Z"
        },
        "papermill": {
          "duration": 0.007529,
          "end_time": "2023-09-02T18:49:28.279261",
          "exception": false,
          "start_time": "2023-09-02T18:49:28.271732",
          "status": "completed"
        },
        "tags": []
      },
      "outputs": [],
      "source": [
        "netlist = \"\"\"\n",
        "instances:\n",
        "    lft:\n",
        "      component: coupler\n",
        "      settings:\n",
        "          coupling: 0.5\n",
        "    rgt:\n",
        "        component: coupler\n",
        "        settings:\n",
        "            coupling: 0.5\n",
        "    top:\n",
        "        component: straight\n",
        "        settings:\n",
        "            length: 25.0\n",
        "    btm:\n",
        "        component: straight\n",
        "        settings:\n",
        "            length: 15.0\n",
        "\n",
        "connections:\n",
        "    lft,out0: btm,in0\n",
        "    btm,out0: rgt,in0\n",
        "    lft,out1: top,in0\n",
        "    top,out0: rgt,in1\n",
        "\n",
        "ports:\n",
        "    in0:  lft,in0\n",
        "    in1:  lft,in1\n",
        "    out0: rgt,out0\n",
        "    out1: rgt,out1\n",
        "\n",
        "\"\"\""
      ]
    },
    {
      "cell_type": "code",
      "execution_count": 3,
      "id": "f57633a5-10e9-4ddd-a10d-b29c47e26878",
      "metadata": {
        "execution": {
          "iopub.execute_input": "2023-09-02T18:49:28.284199Z",
          "iopub.status.busy": "2023-09-02T18:49:28.283752Z",
          "iopub.status.idle": "2023-09-02T18:49:28.292504Z",
          "shell.execute_reply": "2023-09-02T18:49:28.291967Z"
        },
        "papermill": {
          "duration": 0.012818,
          "end_time": "2023-09-02T18:49:28.293990",
          "exception": false,
          "start_time": "2023-09-02T18:49:28.281172",
          "status": "completed"
        },
        "tags": []
      },
      "outputs": [
        {
          "data": {
            "text/plain": [
              "{'instances': {'lft': {'component': 'coupler', 'settings': {'coupling': 0.5}},\n",
              "  'rgt': {'component': 'coupler', 'settings': {'coupling': 0.5}},\n",
              "  'top': {'component': 'straight', 'settings': {'length': 25.0}},\n",
              "  'btm': {'component': 'straight', 'settings': {'length': 15.0}}},\n",
              " 'connections': {'lft,out0': 'btm,in0',\n",
              "  'btm,out0': 'rgt,in0',\n",
              "  'lft,out1': 'top,in0',\n",
              "  'top,out0': 'rgt,in1'},\n",
              " 'ports': {'in0': 'lft,in0',\n",
              "  'in1': 'lft,in1',\n",
              "  'out0': 'rgt,out0',\n",
              "  'out1': 'rgt,out1'}}"
            ]
          },
          "execution_count": 3,
          "metadata": {},
          "output_type": "execute_result"
        }
      ],
      "source": [
        "yaml.safe_load(netlist)"
      ]
    },
    {
      "cell_type": "code",
      "execution_count": 4,
      "id": "7e91dc2b-bcdb-4a32-ba81-d0e99ed6a562",
      "metadata": {
        "execution": {
          "iopub.execute_input": "2023-09-02T18:49:28.299264Z",
          "iopub.status.busy": "2023-09-02T18:49:28.298823Z",
          "iopub.status.idle": "2023-09-02T18:49:29.046943Z",
          "shell.execute_reply": "2023-09-02T18:49:29.046314Z"
        },
        "papermill": {
          "duration": 0.752476,
          "end_time": "2023-09-02T18:49:29.048612",
          "exception": false,
          "start_time": "2023-09-02T18:49:28.296136",
          "status": "completed"
        },
        "tags": []
      },
      "outputs": [],
      "source": [
        "mzi, _ = sax.circuit(\n",
        "    yaml.safe_load(netlist),\n",
        "    models={\"coupler\": sax.models.coupler, \"straight\": sax.models.straight},\n",
        ")"
      ]
    },
    {
      "cell_type": "markdown",
      "id": "f9e5bbab",
      "metadata": {
        "tags": [
          "papermill-error-cell-tag"
        ]
      },
      "source": [
        "<span id=\"papermill-error-cell\" style=\"color:red; font-family:Helvetica Neue, Helvetica, Arial, sans-serif; font-size:2em;\">Execution using papermill encountered an exception here and stopped:</span>"
      ]
    },
    {
      "cell_type": "code",
      "execution_count": 5,
      "id": "dynamic-commonwealth",
      "metadata": {
        "execution": {
          "iopub.execute_input": "2023-09-02T18:49:29.055526Z",
          "iopub.status.busy": "2023-09-02T18:49:29.055289Z",
          "iopub.status.idle": "2023-09-02T18:49:30.047895Z",
          "shell.execute_reply": "2023-09-02T18:49:30.046443Z"
        },
        "papermill": {
          "duration": 0.997762,
          "end_time": "2023-09-02T18:49:30.049168",
          "exception": true,
          "start_time": "2023-09-02T18:49:29.051406",
          "status": "failed"
        },
        "tags": []
      },
      "outputs": [
        {
          "ename": "TypeError",
          "evalue": "tuple indices must be integers or slices, not tuple",
          "output_type": "error",
          "traceback": [
            "\u001b[0;31m---------------------------------------------------------------------------\u001b[0m",
            "\u001b[0;31mTypeError\u001b[0m                                 Traceback (most recent call last)",
            "Cell \u001b[0;32mIn[5], line 2\u001b[0m\n\u001b[1;32m      1\u001b[0m wl \u001b[38;5;241m=\u001b[39m jnp\u001b[38;5;241m.\u001b[39mlinspace(\u001b[38;5;241m1.5\u001b[39m, \u001b[38;5;241m1.6\u001b[39m, \u001b[38;5;241m1000\u001b[39m)\n\u001b[0;32m----> 2\u001b[0m transmission \u001b[38;5;241m=\u001b[39m jnp\u001b[38;5;241m.\u001b[39mabs(\u001b[43mmzi\u001b[49m\u001b[43m(\u001b[49m\u001b[43mwl\u001b[49m\u001b[38;5;241;43m=\u001b[39;49m\u001b[43mwl\u001b[49m\u001b[43m)\u001b[49m\u001b[43m[\u001b[49m\u001b[38;5;124;43m\"\u001b[39;49m\u001b[38;5;124;43min0\u001b[39;49m\u001b[38;5;124;43m\"\u001b[39;49m\u001b[43m,\u001b[49m\u001b[43m \u001b[49m\u001b[38;5;124;43m\"\u001b[39;49m\u001b[38;5;124;43mout0\u001b[39;49m\u001b[38;5;124;43m\"\u001b[39;49m\u001b[43m]\u001b[49m) \u001b[38;5;241m*\u001b[39m\u001b[38;5;241m*\u001b[39m \u001b[38;5;241m2\u001b[39m\n\u001b[1;32m      4\u001b[0m plt\u001b[38;5;241m.\u001b[39mplot(wl \u001b[38;5;241m*\u001b[39m \u001b[38;5;241m1e3\u001b[39m, transmission)\n\u001b[1;32m      5\u001b[0m plt\u001b[38;5;241m.\u001b[39mxlabel(\u001b[38;5;124m\"\u001b[39m\u001b[38;5;124m\u03bb [nm]\u001b[39m\u001b[38;5;124m\"\u001b[39m)\n",
            "\u001b[0;31mTypeError\u001b[0m: tuple indices must be integers or slices, not tuple"
          ]
        }
      ],
      "source": [
        "wl = jnp.linspace(1.5, 1.6, 1000)\n",
        "transmission = jnp.abs(mzi(wl=wl)[\"in0\", \"out0\"]) ** 2\n",
        "\n",
        "plt.plot(wl * 1e3, transmission)\n",
        "plt.xlabel(\"\u03bb [nm]\")\n",
        "plt.ylabel(\"T\")\n",
        "plt.show()"
      ]
    },
    {
      "cell_type": "markdown",
      "id": "alpha-married",
      "metadata": {
        "papermill": {
          "duration": null,
          "end_time": null,
          "exception": null,
          "start_time": null,
          "status": "pending"
        },
        "tags": []
      },
      "source": [
        "That was easy! However, during the above YAML conversion, only models available in `sax.models` were used. What if we want to map the YAML component names to custom models? Let's say we want to use a dispersionless waveguide for the above model for example:"
      ]
    },
    {
      "cell_type": "code",
      "execution_count": null,
      "id": "important-association",
      "metadata": {
        "papermill": {
          "duration": null,
          "end_time": null,
          "exception": null,
          "start_time": null,
          "status": "pending"
        },
        "tags": []
      },
      "outputs": [],
      "source": [
        "def waveguide_without_dispersion(wl=1.55, length=25.0, neff=2.34):\n",
        "    phase = 2 * jnp.pi * neff * length / wl\n",
        "    sdict = sax.reciprocal({(\"in0\", \"out0\"): jnp.exp(1j * phase)})\n",
        "    return sdict"
      ]
    },
    {
      "cell_type": "markdown",
      "id": "valuable-candidate",
      "metadata": {
        "papermill": {
          "duration": null,
          "end_time": null,
          "exception": null,
          "start_time": null,
          "status": "pending"
        },
        "tags": []
      },
      "source": [
        "We can regenerate the above circuit again, but this time we specify a models mapping:"
      ]
    },
    {
      "cell_type": "code",
      "execution_count": null,
      "id": "former-retro",
      "metadata": {
        "papermill": {
          "duration": null,
          "end_time": null,
          "exception": null,
          "start_time": null,
          "status": "pending"
        },
        "tags": []
      },
      "outputs": [],
      "source": [
        "mzi, _ = sax.circuit(yaml.safe_load(netlist), models={\"straight\": waveguide_without_dispersion, 'coupler': sax.models.coupler})"
      ]
    },
    {
      "cell_type": "markdown",
      "id": "focal-question",
      "metadata": {
        "papermill": {
          "duration": null,
          "end_time": null,
          "exception": null,
          "start_time": null,
          "status": "pending"
        },
        "tags": []
      },
      "source": [
        "> The `models=` keyword in `circuit_from_yaml` can be a dictionary **or** an imported python module (like for example `sax.models`). Or a list containing multiple of such dictionary mappings and imported modules."
      ]
    },
    {
      "cell_type": "code",
      "execution_count": null,
      "id": "expired-panel",
      "metadata": {
        "papermill": {
          "duration": null,
          "end_time": null,
          "exception": null,
          "start_time": null,
          "status": "pending"
        },
        "tags": []
      },
      "outputs": [],
      "source": [
        "wl = jnp.linspace(1.5, 1.6, 1000)\n",
        "transmission = jnp.abs(mzi(wl=wl)[\"in0\", \"out0\"]) ** 2\n",
        "\n",
        "plt.plot(wl, transmission)\n",
        "plt.xlabel(\"Wavelength [nm]\")\n",
        "plt.ylabel(\"T\")\n",
        "plt.show()"
      ]
    }
  ],
  "metadata": {
    "kernelspec": {
      "display_name": "sax",
      "language": "python",
      "name": "sax"
    },
    "language_info": {
      "codemirror_mode": {
        "name": "ipython",
        "version": 3
      },
      "file_extension": ".py",
      "mimetype": "text/x-python",
      "name": "python",
      "nbconvert_exporter": "python",
      "pygments_lexer": "ipython3",
      "version": "3.11.5"
    },
    "papermill": {
      "default_parameters": {},
      "duration": 4.844472,
      "end_time": "2023-09-02T18:49:30.570423",
      "environment_variables": {},
      "exception": true,
      "input_path": "./examples/03_circuit_from_yaml.ipynb",
      "output_path": "./examples/03_circuit_from_yaml.ipynb",
      "parameters": {},
      "start_time": "2023-09-02T18:49:25.725951",
      "version": "2.4.0"
    }
  },
  "nbformat": 4,
  "nbformat_minor": 5
}