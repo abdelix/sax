{
 "cells": [
  {
   "cell_type": "code",
   "execution_count": null,
   "id": "5b79c062",
   "metadata": {},
   "outputs": [],
   "source": [
    "# default_exp circuit"
   ]
  },
  {
   "cell_type": "markdown",
   "id": "2c9c99fe",
   "metadata": {},
   "source": [
    "# Circuit\n",
    "\n",
    "> SAX Circuits"
   ]
  },
  {
   "cell_type": "markdown",
   "id": "0648dc6e-c0bd-45db-810a-d0c40af04837",
   "metadata": {},
   "source": [
    "Let's start where we left off (see [Netlist](06_netlist.ipynb))."
   ]
  },
  {
   "cell_type": "code",
   "execution_count": null,
   "id": "3b2a2b99-f380-4074-a641-71557ce9390b",
   "metadata": {},
   "outputs": [],
   "source": [
    "# hide\n",
    "import os\n",
    "os.environ[\"LOGURU_LEVEL\"] = \"CRITICAL\"\n",
    "import warnings\n",
    "warnings.filterwarnings(\"ignore\")"
   ]
  },
  {
   "cell_type": "code",
   "execution_count": null,
   "id": "48108bff-d16a-4e3c-8575-9b045779823e",
   "metadata": {},
   "outputs": [],
   "source": [
    "# export\n",
    "from __future__ import annotations\n",
    "\n",
    "import os\n",
    "import shutil\n",
    "import sys\n",
    "from functools import partial\n",
    "from typing import Any, Dict, List, NamedTuple, Optional, Tuple, TypedDict, Union\n",
    "\n",
    "import black\n",
    "import networkx as nx\n",
    "import numpy as np\n",
    "from pydantic import ValidationError\n",
    "from sax import reciprocal\n",
    "from sax.backends import circuit_backends\n",
    "from sax.multimode import multimode, singlemode\n",
    "from sax.netlist import Netlist, RecursiveNetlist\n",
    "from sax.netlist_cleaning import remove_unused_instances\n",
    "from sax.typing_ import Model, Settings, SType\n",
    "from sax.utils import (\n",
    "    _replace_kwargs,\n",
    "    get_ports,\n",
    "    get_settings,\n",
    "    merge_dicts,\n",
    "    update_settings,\n",
    ")"
   ]
  },
  {
   "cell_type": "markdown",
   "id": "45ad2306-1ead-4b8c-b91e-c02ce4569b3a",
   "metadata": {},
   "source": [
    "Let's start by creating a simple recursive netlist with gdsfactory.\n",
    "\n",
    ":::{note}\n",
    "We are using gdsfactory to create our netlist because it allows us to see the circuit we want to simulate and because we're striving to have a compatible netlist implementation in SAX.\n",
    "\n",
    "However... gdsfactory is not a dependency of SAX. You can also define your circuits by hand (see [SAX Quick Start](../examples/01_quick_start.ipynb) or you can use another tool to programmatically construct your netlists.\n",
    ":::"
   ]
  },
  {
   "cell_type": "code",
   "execution_count": null,
   "id": "804a1c9b-c02b-4af6-ba3d-858f76634a69",
   "metadata": {},
   "outputs": [],
   "source": [
    "import gdsfactory as gf\n",
    "from IPython.display import display\n",
    "from gdsfactory.components import mzi\n",
    "from gdsfactory.get_netlist import get_netlist_recursive, get_netlist, get_netlist_yaml\n",
    "\n",
    "\n",
    "@gf.cell\n",
    "def twomzi():\n",
    "    c = gf.Component()\n",
    "\n",
    "    # instances\n",
    "    mzi1 = mzi(delta_length=10)\n",
    "    mzi2 = mzi(delta_length=20)\n",
    "\n",
    "    # references\n",
    "    mzi1_ = c << mzi1\n",
    "    mzi2_ = c << mzi2\n",
    "\n",
    "    # connections\n",
    "    mzi2_.connect(\"o1\", mzi1_.ports[\"o2\"])\n",
    "\n",
    "    # ports\n",
    "    c.add_port(\"o1\", port=mzi1_.ports[\"o1\"])\n",
    "    c.add_port(\"o2\", port=mzi2_.ports[\"o2\"])\n",
    "    return c\n",
    "\n",
    "\n",
    "comp = twomzi()\n",
    "display(comp)\n",
    "recnet = RecursiveNetlist.model_validate(\n",
    "    get_netlist_recursive(\n",
    "        comp, get_netlist_func=partial(get_netlist, full_settings=True)\n",
    "    )\n",
    ")\n",
    "flatnet = recnet.root[\"mzi_delta_length10\"]"
   ]
  },
  {
   "cell_type": "markdown",
   "id": "2b2a38fb-c83e-4b71-b195-ecca485fb0a3",
   "metadata": {},
   "source": [
    "To be able to model this device we'll need some SAX dummy models:"
   ]
  },
  {
   "cell_type": "code",
   "execution_count": null,
   "id": "2035cd9e-c65e-45b6-bd83-4ad19e4630fa",
   "metadata": {},
   "outputs": [],
   "source": [
    "# hide\n",
    "def bend_euler(\n",
    "    angle=90.0,\n",
    "    p=0.5,\n",
    "    # cross_section=\"strip\",\n",
    "    # direction=\"ccw\",\n",
    "    # with_bbox=True,\n",
    "    # with_arc_floorplan=True,\n",
    "    # npoints=720,\n",
    "):\n",
    "    return reciprocal({\n",
    "        ('o1', 'o2'): 0.9**0.5\n",
    "    })"
   ]
  },
  {
   "cell_type": "code",
   "execution_count": null,
   "id": "192c4288-20d1-4aca-b3d0-277db6bb5118",
   "metadata": {},
   "outputs": [],
   "source": [
    "# hide\n",
    "def mmi1x2(\n",
    "    width=0.5,\n",
    "    width_taper= 1.0,\n",
    "    length_taper= 10.0,\n",
    "    length_mmi= 5.5,\n",
    "    width_mmi= 2.5,\n",
    "    gap_mmi= 0.25,\n",
    "    # cross_section= strip,\n",
    "    # taper= {function= taper},\n",
    "    # with_bbox= True,\n",
    "):\n",
    "    return reciprocal({\n",
    "        ('o1', 'o2'): 0.45**0.5,\n",
    "        ('o1', 'o3'): 0.45**0.5,\n",
    "    })"
   ]
  },
  {
   "cell_type": "code",
   "execution_count": null,
   "id": "861a5b4a-d8d9-4ea0-a733-39e213a28ead",
   "metadata": {},
   "outputs": [],
   "source": [
    "# hide\n",
    "def mmi2x2(\n",
    "    width=0.5,\n",
    "    width_taper= 1.0,\n",
    "    length_taper= 10.0,\n",
    "    length_mmi= 5.5,\n",
    "    width_mmi= 2.5,\n",
    "    gap_mmi= 0.25,\n",
    "    # cross_section= strip,\n",
    "    # taper= {function= taper},\n",
    "    # with_bbox= True,\n",
    "):\n",
    "    return reciprocal({\n",
    "        ('o1', 'o3'): 0.45**0.5,\n",
    "        ('o1', 'o4'): 1j * 0.45**0.5,\n",
    "        ('o2', 'o3'): 1j * 0.45**0.5,\n",
    "        ('o2', 'o4'): 0.45**0.5,\n",
    "    })"
   ]
  },
  {
   "cell_type": "code",
   "execution_count": null,
   "id": "84046c8e-45a7-4aa0-bbdf-c82cd2d0e24e",
   "metadata": {},
   "outputs": [],
   "source": [
    "# hide\n",
    "def straight(\n",
    "    length=0.01,\n",
    "    #npoints=2,\n",
    "    #with_bbox=True,\n",
    "    #cross_section=...\n",
    "):\n",
    "    return reciprocal({\n",
    "        ('o1', 'o2'): 1.0\n",
    "    })"
   ]
  },
  {
   "cell_type": "markdown",
   "id": "8efe90e4-dfe6-40bd-aa0a-26c74738d688",
   "metadata": {},
   "source": [
    "In SAX, we usually aggregate the available models in a models dictionary:"
   ]
  },
  {
   "cell_type": "code",
   "execution_count": null,
   "id": "c1ac9132-0ee2-443b-98f4-f790234551b0",
   "metadata": {},
   "outputs": [],
   "source": [
    "models = {\n",
    "    'straight': straight,\n",
    "    'bend_euler': bend_euler,\n",
    "    'mmi1x2': mmi1x2,\n",
    "}"
   ]
  },
  {
   "cell_type": "markdown",
   "id": "8283f301-7c1d-47ba-b739-78a24c368f4d",
   "metadata": {},
   "source": [
    "We can also create some dummy multimode models:"
   ]
  },
  {
   "cell_type": "code",
   "execution_count": null,
   "id": "d3927767-4fc7-4550-a6e7-ebaca57947bf",
   "metadata": {},
   "outputs": [],
   "source": [
    "# hide\n",
    "def bend_euler_mm(\n",
    "    angle=90.0,\n",
    "    p=0.5,\n",
    "    # cross_section=\"strip\",\n",
    "    # direction=\"ccw\",\n",
    "    # with_bbox=True,\n",
    "    # with_arc_floorplan=True,\n",
    "    # npoints=720,\n",
    "):\n",
    "    return reciprocal({\n",
    "        ('o1@TE', 'o2@TE'): 0.9**0.5,\n",
    "        #('o1@TE', 'o2@TM'): 0.01**0.5,\n",
    "        #('o1@TM', 'o2@TE'): 0.01**0.5,\n",
    "        ('o1@TM', 'o2@TM'): 0.8**0.5,\n",
    "    })"
   ]
  },
  {
   "cell_type": "code",
   "execution_count": null,
   "id": "e93f0377-3eda-4888-8486-0ecbf5c51a17",
   "metadata": {},
   "outputs": [],
   "source": [
    "# hide\n",
    "def mmi1x2_mm(\n",
    "    width=0.5,\n",
    "    width_taper= 1.0,\n",
    "    length_taper= 10.0,\n",
    "    length_mmi= 5.5,\n",
    "    width_mmi= 2.5,\n",
    "    gap_mmi= 0.25,\n",
    "    # cross_section= strip,\n",
    "    # taper= {function= taper},\n",
    "    # with_bbox= True,\n",
    "):\n",
    "    return reciprocal({\n",
    "        ('o1@TE', 'o2@TE'): 0.45**0.5,\n",
    "        ('o1@TE', 'o3@TE'): 0.45**0.5,\n",
    "        ('o1@TM', 'o2@TM'): 0.41**0.5,\n",
    "        ('o1@TM', 'o3@TM'): 0.41**0.5,\n",
    "        ('o1@TE', 'o2@TM'): 0.01**0.5,\n",
    "        ('o1@TM', 'o2@TE'): 0.01**0.5,\n",
    "        ('o1@TE', 'o3@TM'): 0.02**0.5,\n",
    "        ('o1@TM', 'o3@TE'): 0.02**0.5,\n",
    "    })"
   ]
  },
  {
   "cell_type": "code",
   "execution_count": null,
   "id": "7fdce05a-bd79-48ed-abe6-b9e94217c416",
   "metadata": {},
   "outputs": [],
   "source": [
    "# hide\n",
    "def straight_mm(\n",
    "    length=0.01,\n",
    "    #npoints=2,\n",
    "    #with_bbox=True,\n",
    "    #cross_section=...\n",
    "):\n",
    "    return reciprocal({\n",
    "        ('o1@TE', 'o2@TE'): 1.0,\n",
    "        ('o1@TM', 'o2@TM'): 1.0,\n",
    "    })"
   ]
  },
  {
   "cell_type": "code",
   "execution_count": null,
   "id": "7a084f14-5d96-4cb2-981f-5d7be5211270",
   "metadata": {},
   "outputs": [],
   "source": [
    "models_mm = {\n",
    "    'straight': straight_mm,\n",
    "    'bend_euler': bend_euler_mm,\n",
    "    'mmi1x2': mmi1x2_mm,\n",
    "}"
   ]
  },
  {
   "cell_type": "markdown",
   "id": "3df7d9b6-acbb-4406-a3c8-8a9ad09db768",
   "metadata": {},
   "source": [
    "We can now represent our recursive netlist model as a Directed Acyclic Graph:"
   ]
  },
  {
   "cell_type": "code",
   "execution_count": null,
   "id": "85842e06-d9dc-4b4c-93c2-400f1ffc1e01",
   "metadata": {},
   "outputs": [],
   "source": [
    "# export\n",
    "def create_dag(\n",
    "    netlist: RecursiveNetlist,\n",
    "    models: Optional[Dict[str, Any]] = None,\n",
    "):\n",
    "    if models is None:\n",
    "        models = {}\n",
    "    assert isinstance(models, dict)\n",
    "\n",
    "    all_models = {}\n",
    "    g = nx.DiGraph()\n",
    "\n",
    "    for model_name, subnetlist in netlist.dict().items():\n",
    "        if not model_name in all_models:\n",
    "            all_models[model_name] = models.get(model_name, subnetlist)\n",
    "            g.add_node(model_name)\n",
    "        if model_name in models:\n",
    "            continue\n",
    "        for instance in subnetlist[\"instances\"].values():\n",
    "            component = instance[\"component\"]\n",
    "            if not component in all_models:\n",
    "                all_models[component] = models.get(component, None)\n",
    "                g.add_node(component)\n",
    "            g.add_edge(model_name, component)\n",
    "\n",
    "    # we only need the nodes that depend on the parent...\n",
    "    parent_node = next(iter(netlist.root.keys()))\n",
    "    nodes = [parent_node, *nx.descendants(g, parent_node)]\n",
    "    g = nx.induced_subgraph(g, nodes)\n",
    "\n",
    "    return g"
   ]
  },
  {
   "cell_type": "code",
   "execution_count": null,
   "id": "21b7439f-1463-41cf-8446-7f0bd19b5332",
   "metadata": {},
   "outputs": [],
   "source": [
    "# export\n",
    "\n",
    "def draw_dag(dag, with_labels=True, **kwargs):\n",
    "    _patch_path()\n",
    "    if shutil.which(\"dot\"):\n",
    "        return nx.draw(\n",
    "            dag,\n",
    "            nx.nx_pydot.pydot_layout(dag, prog=\"dot\"),\n",
    "            with_labels=with_labels,\n",
    "            **kwargs\n",
    "        )\n",
    "    else:\n",
    "        return nx.draw(dag, _my_dag_pos(dag), with_labels=with_labels, **kwargs)\n",
    "\n",
    "\n",
    "def _patch_path():\n",
    "    os_paths = {p: None for p in os.environ.get(\"PATH\", \"\").split(os.pathsep)}\n",
    "    sys_paths = {p: None for p in sys.path}\n",
    "    other_paths = {os.path.dirname(sys.executable): None}\n",
    "    os.environ[\"PATH\"] = os.pathsep.join({**os_paths, **sys_paths, **other_paths})\n",
    "\n",
    "\n",
    "def _my_dag_pos(dag):\n",
    "    # inferior to pydot\n",
    "    in_degree = {}\n",
    "    for k, v in dag.in_degree():\n",
    "        if v not in in_degree:\n",
    "            in_degree[v] = []\n",
    "        in_degree[v].append(k)\n",
    "\n",
    "    widths = {k: len(vs) for k, vs in in_degree.items()}\n",
    "    width = max(widths.values())\n",
    "    height = max(widths) + 1\n",
    "\n",
    "    horizontal_pos = {\n",
    "        k: np.linspace(0, 1, w + 2)[1:-1] * width for k, w in widths.items()\n",
    "    }\n",
    "\n",
    "    pos = {}\n",
    "    for k, vs in in_degree.items():\n",
    "        for x, v in zip(horizontal_pos[k], vs):\n",
    "            pos[v] = (x, -k)\n",
    "    return pos"
   ]
  },
  {
   "cell_type": "code",
   "execution_count": null,
   "id": "b6d6e06e-b501-4d3e-8eb6-0d7117abf8e8",
   "metadata": {},
   "outputs": [],
   "source": [
    "dag = create_dag(recnet, models)\n",
    "draw_dag(dag)"
   ]
  },
  {
   "cell_type": "markdown",
   "id": "d081c64c-c42c-467e-885d-6e8db2cf64cc",
   "metadata": {},
   "source": [
    "Note that the DAG depends on the models we supply. We could for example stub one of the sub-netlists by a pre-defined model:"
   ]
  },
  {
   "cell_type": "code",
   "execution_count": null,
   "id": "ebb11e68-ecc3-4d00-9870-b6682e06c39f",
   "metadata": {},
   "outputs": [],
   "source": [
    "dag_ = create_dag(recnet, {**models, 'mzi_delta_length10': mmi2x2})\n",
    "draw_dag(dag_, with_labels=True)"
   ]
  },
  {
   "cell_type": "markdown",
   "id": "b68c2f1a-f062-4f8a-89a5-8608524a5c06",
   "metadata": {},
   "source": [
    "This is useful if we for example pre-calculated a certain model."
   ]
  },
  {
   "cell_type": "markdown",
   "id": "020381f6-872f-4aea-8822-ef1096553dc2",
   "metadata": {},
   "source": [
    "We can easily find the root of the DAG:"
   ]
  },
  {
   "cell_type": "code",
   "execution_count": null,
   "id": "46519602-dafe-497c-98da-b826e981f584",
   "metadata": {},
   "outputs": [],
   "source": [
    "# export\n",
    "def find_root(g):\n",
    "    nodes = [n for n, d in g.in_degree() if d == 0]\n",
    "    return nodes"
   ]
  },
  {
   "cell_type": "code",
   "execution_count": null,
   "id": "11728146-6b54-48f2-acac-c8a5fa4e3b0f",
   "metadata": {},
   "outputs": [],
   "source": [
    "find_root(dag)"
   ]
  },
  {
   "cell_type": "markdown",
   "id": "4e8065d2-19c8-444a-b1c2-ea3c62f90e0a",
   "metadata": {},
   "source": [
    "Similarly we can find the leaves:"
   ]
  },
  {
   "cell_type": "code",
   "execution_count": null,
   "id": "a8383810-969b-46dc-a7b6-e71278690ca7",
   "metadata": {},
   "outputs": [],
   "source": [
    "# export\n",
    "def find_leaves(g):\n",
    "    nodes = [n for n, d in g.out_degree() if d == 0]\n",
    "    return nodes"
   ]
  },
  {
   "cell_type": "code",
   "execution_count": null,
   "id": "7fa9afff-26b5-44cb-90bf-a32ef5e95bf5",
   "metadata": {},
   "outputs": [],
   "source": [
    "find_leaves(dag)"
   ]
  },
  {
   "cell_type": "markdown",
   "id": "59fb221d-951d-44df-a5d9-487a8b4dc4f8",
   "metadata": {},
   "source": [
    "To be able to simulate the circuit, we need to supply a model for each of the leaves in the dependency DAG. Let's write a validator that checks this"
   ]
  },
  {
   "cell_type": "code",
   "execution_count": null,
   "id": "01051732-6599-4863-85ba-4331842f868c",
   "metadata": {},
   "outputs": [],
   "source": [
    "# export\n",
    "def _validate_models(models, dag):\n",
    "    required_models = find_leaves(dag)\n",
    "    missing_models = [m for m in required_models if m not in models]\n",
    "    if missing_models:\n",
    "        model_diff = {\n",
    "            \"Missing Models\": missing_models,\n",
    "            \"Given Models\": list(models),\n",
    "            \"Required Models\": required_models,\n",
    "        }\n",
    "        raise ValueError(\n",
    "            \"Missing models. The following models are still missing to build the circuit:\\n\"\n",
    "            f\"{black.format_str(repr(model_diff), mode=black.Mode())}\"\n",
    "        )\n",
    "    return {**models} # shallow copy"
   ]
  },
  {
   "cell_type": "code",
   "execution_count": null,
   "id": "a97dbe93-a53f-4525-b721-2f329692cdc9",
   "metadata": {},
   "outputs": [],
   "source": [
    "models = _validate_models(models, dag)"
   ]
  },
  {
   "cell_type": "markdown",
   "id": "e9f30a86-aa00-4f51-8b93-3440edc0b46b",
   "metadata": {},
   "source": [
    "We can now dow a bottom-up simulation. Since at the bottom of the DAG, our circuit is always flat (i.e. not hierarchical) we can implement a minimal `_flat_circuit` definition, which only needs to work on a flat (non-hierarchical circuit):"
   ]
  },
  {
   "cell_type": "code",
   "execution_count": null,
   "id": "a46aadd8-e077-4bed-a611-a23b46c02a36",
   "metadata": {},
   "outputs": [],
   "source": [
    "# export\n",
    "def _flat_circuit(instances, connections, ports, models, backend):\n",
    "    evaluate_circuit = circuit_backends[backend]\n",
    "\n",
    "    inst2model = {k: models[inst.component] for k, inst in instances.items()}\n",
    "    inst_port_mode = {\n",
    "        k: _port_modes_dict(get_ports(models[inst.component]))\n",
    "        for k, inst in instances.items()\n",
    "    }\n",
    "    connections = _get_multimode_connections(connections, inst_port_mode)\n",
    "    ports = _get_multimode_ports(ports, inst_port_mode)\n",
    "\n",
    "    model_settings = {name: get_settings(model) for name, model in inst2model.items()}\n",
    "    netlist_settings = {\n",
    "        name: {k: v for k, v in (inst.settings or {}).items() if k in model_settings[name]}\n",
    "        for name, inst in instances.items()\n",
    "    }\n",
    "    default_settings = merge_dicts(model_settings, netlist_settings)\n",
    "\n",
    "    def _circuit(**settings: Settings) -> SType:\n",
    "        settings = merge_dicts(default_settings, settings)\n",
    "        settings = _forward_global_settings(inst2model, settings)\n",
    "\n",
    "        instances: Dict[str, SType] = {}\n",
    "        for inst_name, model in inst2model.items():\n",
    "            instances[inst_name] = model(**settings.get(inst_name, {}))\n",
    "        S = evaluate_circuit(instances, connections, ports)\n",
    "        return S\n",
    "\n",
    "    _replace_kwargs(_circuit, **default_settings)\n",
    "\n",
    "    return _circuit\n",
    "\n",
    "def _forward_global_settings(instances, settings):\n",
    "    global_settings = {}\n",
    "    for k in list(settings.keys()):\n",
    "        if k in instances:\n",
    "            continue\n",
    "        global_settings[k] = settings.pop(k)\n",
    "    if global_settings:\n",
    "        settings = update_settings(settings, **global_settings)\n",
    "    return settings\n",
    "\n",
    "def _port_modes_dict(port_modes):\n",
    "    result = {}\n",
    "    for port_mode in port_modes:\n",
    "        if \"@\" in port_mode:\n",
    "            port, mode = port_mode.split(\"@\")\n",
    "        else:\n",
    "            port, mode = port_mode, None\n",
    "        if not port in result:\n",
    "            result[port] = set()\n",
    "        if not mode is None:\n",
    "            result[port].add(mode)\n",
    "    return result\n",
    "\n",
    "def _get_multimode_connections(connections, inst_port_mode):\n",
    "    mm_connections = {}\n",
    "    for inst_port1, inst_port2 in connections.items():\n",
    "        inst1, port1 = inst_port1.split(\",\")\n",
    "        inst2, port2 = inst_port2.split(\",\")\n",
    "        modes1 = inst_port_mode[inst1][port1]\n",
    "        modes2 = inst_port_mode[inst2][port2]\n",
    "        if not modes1 and not modes2:\n",
    "            mm_connections[f\"{inst1},{port1}\"] = f\"{inst2},{port2}\"\n",
    "        elif (not modes1) or (not modes2):\n",
    "            raise ValueError(\n",
    "                \"trying to connect a multimode model to single mode model.\\n\"\n",
    "                \"Please update your models dictionary.\\n\"\n",
    "                f\"Problematic connection: '{inst_port1}':'{inst_port2}'\"\n",
    "            )\n",
    "        else:\n",
    "            common_modes = modes1.intersection(modes2)\n",
    "            for mode in sorted(common_modes):\n",
    "                mm_connections[f\"{inst1},{port1}@{mode}\"] = f\"{inst2},{port2}@{mode}\"\n",
    "    return mm_connections\n",
    "\n",
    "def _get_multimode_ports(ports, inst_port_mode):\n",
    "    mm_ports = {}\n",
    "    for port, inst_port2 in ports.items():\n",
    "        inst2, port2 = inst_port2.split(\",\")\n",
    "        modes2 = inst_port_mode[inst2][port2]\n",
    "        if not modes2:\n",
    "            mm_ports[port] = f\"{inst2},{port2}\"\n",
    "        else:\n",
    "            for mode in sorted(modes2):\n",
    "                mm_ports[f\"{port}@{mode}\"] = f\"{inst2},{port2}@{mode}\"\n",
    "    return mm_ports"
   ]
  },
  {
   "cell_type": "code",
   "execution_count": null,
   "id": "1f415c32-70e4-4b40-a9e2-051fc187cbb9",
   "metadata": {},
   "outputs": [],
   "source": [
    "flatnet = recnet.root[\"mzi_delta_length10\"]\n",
    "single_mzi = _flat_circuit(\n",
    "    flatnet.instances,\n",
    "    flatnet.connections,\n",
    "    flatnet.ports,\n",
    "    models,\n",
    "    \"default\",\n",
    ")"
   ]
  },
  {
   "cell_type": "markdown",
   "id": "c4f3375c-baa3-433f-924a-eff50557bf9f",
   "metadata": {},
   "source": [
    "The resulting circuit is just another SAX model (i.e. a python function) returing an SType:"
   ]
  },
  {
   "cell_type": "code",
   "execution_count": null,
   "id": "058740c4-439b-4b00-91e7-15e3e7b6679c",
   "metadata": {},
   "outputs": [],
   "source": [
    "single_mzi?"
   ]
  },
  {
   "cell_type": "markdown",
   "id": "ffb6e872-d5fd-4e5c-959e-4fb895928eb0",
   "metadata": {},
   "source": [
    "Let's 'execute' the circuit:"
   ]
  },
  {
   "cell_type": "code",
   "execution_count": null,
   "id": "62d6d4ee-c361-448c-9ad8-aacd6f380820",
   "metadata": {},
   "outputs": [],
   "source": [
    "single_mzi()"
   ]
  },
  {
   "cell_type": "markdown",
   "id": "23892a5d-9aca-48bd-8d46-c9ea602aa4e6",
   "metadata": {},
   "source": [
    "Note that we can also supply multimode models:"
   ]
  },
  {
   "cell_type": "code",
   "execution_count": null,
   "id": "1f31a068-2aef-4ac0-bac8-1f65f09d33af",
   "metadata": {},
   "outputs": [],
   "source": [
    "flatnet = recnet.root[\"mzi_delta_length10\"]\n",
    "single_mzi = _flat_circuit(\n",
    "    flatnet.instances,\n",
    "    flatnet.connections,\n",
    "    flatnet.ports,\n",
    "    models_mm, # dictionary with multimode models\n",
    "    \"default\",\n",
    ")\n",
    "single_mzi()"
   ]
  },
  {
   "cell_type": "markdown",
   "id": "c852f384-c830-47f5-aa75-ee274abbcc35",
   "metadata": {},
   "source": [
    "Now that we can handle flat circuits the extension to hierarchical circuits is not so difficult:"
   ]
  },
  {
   "cell_type": "code",
   "execution_count": null,
   "id": "76b72ddf-ac1e-4c2e-a48c-9b3078812509",
   "metadata": {},
   "outputs": [],
   "source": [
    "# export\n",
    "\n",
    "def circuit(\n",
    "    netlist: Union[Netlist, NetlistDict, RecursiveNetlist, RecursiveNetlistDict],\n",
    "    models: Optional[Dict[str, Model]] = None,\n",
    "    backend: str = \"default\",\n",
    ") -> Tuple[Model, CircuitInfo]:\n",
    "    netlist = _ensure_recursive_netlist_dict(netlist)\n",
    "\n",
    "    # TODO: do the following two steps *after* recursive netlist parsing.\n",
    "    netlist = remove_unused_instances(netlist)\n",
    "    netlist, instance_models = _extract_instance_models(netlist)\n",
    "\n",
    "    recnet: RecursiveNetlist = _validate_net(netlist)\n",
    "    dependency_dag: nx.DiGraph = _validate_dag(create_dag(recnet, models))\n",
    "    models = _validate_models({**(models or {}), **instance_models}, dependency_dag)\n",
    "    backend = _validate_circuit_backend(backend)\n",
    "\n",
    "    circuit = None\n",
    "    new_models = {}\n",
    "    current_models = {}\n",
    "    model_names = list(nx.topological_sort(dependency_dag))[::-1]\n",
    "    for model_name in model_names:\n",
    "        if model_name in models:\n",
    "            new_models[model_name] = models[model_name]\n",
    "            continue\n",
    "\n",
    "        flatnet = recnet.root[model_name]\n",
    "        current_models.update(new_models)\n",
    "        new_models = {}\n",
    "\n",
    "        current_models[model_name] = circuit = _flat_circuit(\n",
    "            flatnet.instances, flatnet.connections, flatnet.ports, current_models, backend\n",
    "        )\n",
    "\n",
    "    assert circuit is not None\n",
    "    return circuit, CircuitInfo(dag=dependency_dag, models=current_models)\n",
    "\n",
    "\n",
    "class NetlistDict(TypedDict):\n",
    "    instances: Dict\n",
    "    connections: Dict[str, str]\n",
    "    ports: Dict[str, str]\n",
    "\n",
    "\n",
    "RecursiveNetlistDict = Dict[str, NetlistDict]\n",
    "\n",
    "\n",
    "class CircuitInfo(NamedTuple):\n",
    "    dag: nx.DiGraph\n",
    "    models: Dict[str, Model]\n",
    "\n",
    "\n",
    "def _ensure_recursive_netlist_dict(netlist):\n",
    "    if not isinstance(netlist, dict):\n",
    "        netlist = netlist.dict()\n",
    "    if \"instances\" in netlist:\n",
    "        netlist = {\"top_level\": netlist}\n",
    "    netlist = {**netlist}\n",
    "    for k, v in netlist.items():\n",
    "        netlist[k] = {**v}\n",
    "    return netlist\n",
    "\n",
    "\n",
    "def _extract_instance_models(netlist):\n",
    "    models = {}\n",
    "    for netname, net in netlist.items():\n",
    "        net = {**net}\n",
    "        net[\"instances\"] = {**net[\"instances\"]}\n",
    "        for name, inst in net[\"instances\"].items():\n",
    "            if callable(inst):\n",
    "                settings = get_settings(inst)\n",
    "                if isinstance(inst, partial) and inst.args:\n",
    "                    raise ValueError(\n",
    "                        \"SAX circuits and netlists don't support partials with positional arguments.\"\n",
    "                    )\n",
    "                while isinstance(inst, partial):\n",
    "                    inst = inst.func\n",
    "                models[inst.__name__] = inst\n",
    "                net[\"instances\"][name] = {\n",
    "                    \"component\": inst.__name__,\n",
    "                    \"settings\": settings,\n",
    "                }\n",
    "        netlist[netname] = net\n",
    "    return netlist, models\n",
    "\n",
    "\n",
    "def _validate_circuit_backend(backend):\n",
    "    backend = backend.lower()\n",
    "    # assert valid circuit_backend\n",
    "    if backend not in circuit_backends:\n",
    "        raise KeyError(\n",
    "            f\"circuit backend {backend} not found. Allowed circuit backends: \"\n",
    "            f\"{', '.join(circuit_backends.keys())}.\"\n",
    "        )\n",
    "    return backend\n",
    "\n",
    "\n",
    "def _validate_net(netlist: Union[Netlist, RecursiveNetlist]) -> RecursiveNetlist:\n",
    "    if isinstance(netlist, dict):\n",
    "        try:\n",
    "            netlist = Netlist.model_validate(netlist)\n",
    "        except ValidationError:\n",
    "            netlist = RecursiveNetlist.model_validate(netlist)\n",
    "    elif isinstance(netlist, Netlist):\n",
    "        netlist = RecursiveNetlist(root={\"top_level\": netlist})\n",
    "    return netlist\n",
    "\n",
    "\n",
    "def _validate_dag(dag):\n",
    "    nodes = find_root(dag)\n",
    "    if len(nodes) > 1:\n",
    "        raise ValueError(f\"Multiple top_levels found in netlist: {nodes}\")\n",
    "    if len(nodes) < 1:\n",
    "        raise ValueError(f\"Netlist does not contain any nodes.\")\n",
    "    if not dag.is_directed():\n",
    "        raise ValueError(\"Netlist dependency cycles detected!\")\n",
    "    return dag"
   ]
  },
  {
   "cell_type": "markdown",
   "id": "cc11d5e9-b599-49c7-ac12-2b1e1b9157f4",
   "metadata": {},
   "source": [
    "single mode simulation:"
   ]
  },
  {
   "cell_type": "code",
   "execution_count": null,
   "id": "03ad3805-fdfe-4df7-b77f-d6d14e881116",
   "metadata": {},
   "outputs": [],
   "source": [
    "double_mzi, info = circuit(recnet, models)\n",
    "double_mzi()"
   ]
  },
  {
   "cell_type": "markdown",
   "id": "4b13992e-61f2-46c1-85fb-8f7136e31e61",
   "metadata": {},
   "source": [
    "multi mode simulation:"
   ]
  },
  {
   "cell_type": "code",
   "execution_count": null,
   "id": "6d133b49-6f26-4e01-bcd9-7ca1b76dc55d",
   "metadata": {},
   "outputs": [],
   "source": [
    "double_mzi, info = circuit(recnet, models_mm)\n",
    "double_mzi()"
   ]
  },
  {
   "cell_type": "markdown",
   "id": "e621a2e3-6918-4cfb-8a55-4cc754356020",
   "metadata": {},
   "source": [
    "sometimes it's useful to get the required circuit model names to be able to create the circuit:"
   ]
  },
  {
   "cell_type": "code",
   "execution_count": null,
   "id": "75747418-281b-4ecb-8b40-e2868eb2a58e",
   "metadata": {},
   "outputs": [],
   "source": [
    "# export\n",
    "def get_required_circuit_models(\n",
    "        netlist: Union[Netlist, NetlistDict, RecursiveNetlist, RecursiveNetlistDict],\n",
    "        models: Optional[Dict[str, Model]] = None,\n",
    ") -> List:\n",
    "    if models is None:\n",
    "        models = {}\n",
    "    assert isinstance(models, dict)\n",
    "    netlist = _ensure_recursive_netlist_dict(netlist)\n",
    "    # TODO: do the following two steps *after* recursive netlist parsing.\n",
    "    netlist = remove_unused_instances(netlist)\n",
    "    netlist, instance_models = _extract_instance_models(netlist)\n",
    "    recnet: RecursiveNetlist = _validate_net(netlist)\n",
    "\n",
    "    missing_models = {}\n",
    "    missing_model_names = []\n",
    "    g = nx.DiGraph()\n",
    "\n",
    "    for model_name, subnetlist in recnet.dict().items():\n",
    "        if not model_name in missing_models:\n",
    "            missing_models[model_name] = models.get(model_name, subnetlist)\n",
    "            g.add_node(model_name)\n",
    "        if model_name in models:\n",
    "            continue\n",
    "        for instance in subnetlist[\"instances\"].values():\n",
    "            component = instance[\"component\"]\n",
    "            if (not component in missing_models) and (not component in models):\n",
    "                missing_models[component] = models.get(component, None)\n",
    "                missing_model_names.append(component)\n",
    "                g.add_node(component)\n",
    "            g.add_edge(model_name, component)\n",
    "    return missing_model_names"
   ]
  },
  {
   "cell_type": "code",
   "execution_count": null,
   "id": "99bb5c8f-8094-426d-a5d6-ceb73d80f706",
   "metadata": {},
   "outputs": [],
   "source": [
    "get_required_circuit_models(recnet, models)"
   ]
  }
 ],
 "metadata": {
  "kernelspec": {
   "display_name": "sax",
   "language": "python",
   "name": "sax"
  }
 },
 "nbformat": 4,
 "nbformat_minor": 5
}
